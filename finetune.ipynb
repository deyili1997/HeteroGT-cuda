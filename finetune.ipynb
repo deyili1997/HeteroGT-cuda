{
 "cells": [
  {
   "cell_type": "code",
   "execution_count": 20,
   "id": "9bc53801",
   "metadata": {
    "tags": []
   },
   "outputs": [],
   "source": [
    "import torch\n",
    "import pickle\n",
    "import numpy as np\n",
    "import pandas as pd\n",
    "from argparse import Namespace\n",
    "from torch.utils.data import DataLoader\n",
    "import torch.nn.functional as F\n",
    "from heterogt.utils.tokenizer import EHRTokenizer\n",
    "from heterogt.utils.dataset import FineTuneEHRDataset, batcher, expand_level3\n",
    "from heterogt.utils.train import train_with_early_stopping, PHENO_ORDER\n",
    "from heterogt.utils.seed import set_random_seed\n",
    "from heterogt.model.model import HeteroGTFineTune"
   ]
  },
  {
   "cell_type": "code",
   "execution_count": 2,
   "id": "c42d3e09",
   "metadata": {
    "tags": []
   },
   "outputs": [
    {
     "name": "stdout",
     "output_type": "stream",
     "text": [
      "[INFO] Random seed set to 123\n"
     ]
    }
   ],
   "source": [
    "set_random_seed(123)"
   ]
  },
  {
   "cell_type": "code",
   "execution_count": 3,
   "id": "af3d65aa",
   "metadata": {
    "tags": []
   },
   "outputs": [
    {
     "name": "stdout",
     "output_type": "stream",
     "text": [
      "cuda\n"
     ]
    }
   ],
   "source": [
    "device = torch.device(\"cuda\" if torch.cuda.is_available() else \"cpu\")\n",
    "print(device)"
   ]
  },
  {
   "cell_type": "code",
   "execution_count": 4,
   "id": "d073b89b",
   "metadata": {
    "tags": []
   },
   "outputs": [],
   "source": [
    "config = Namespace(\n",
    "    dataset = \"MIMIC-III\",\n",
    "    tasks = [\"death\", \"readmission\", \"stay\", \"next_diag_6m\", \"next_diag_12m\"],\n",
    "    task_index = 4,  # index of the task to train\n",
    "    token_type = [\"diag\", \"med\", \"lab\", \"pro\"],\n",
    "    special_tokens = [\"[PAD]\", \"[CLS]\"],\n",
    "    # only for tf layer\n",
    "    attn_mask_dicts = [{1:[6,7], 2:[6,7], 3:[6,7], 4:[6,7], 5:[6,7], 6:[1,2,3,4,5,6,7], 7:[1,2,3,4,5,6,7]}, \n",
    "                       {1:[6,7], 2:[6,7], 3:[6,7], 4:[6,7], 5:[6,7], 6:[1,2,3,4,5,6,7], 7:[1,2,3,4,5,6,7]}], \n",
    "    d_model = 64,\n",
    "    num_heads = 4,\n",
    "    batch_size = 32,\n",
    "    lr = 1e-3,\n",
    "    epochs = 500,\n",
    "    early_stop_patience = 5,\n",
    "    group_code_thre = 5,  # if there are group_code_thre diag codes belongs to the same group ICD code, then the group code is generated\n",
    "    use_pretrained_model = True,\n",
    "    pretrain_mask_rate = 0.7,\n",
    "    pretrain_cls_ontology_weight = 5e-2,\n",
    "    pretrain_visit_ontology_weight = 5e-2,\n",
    "    pretrain_adm_type_weight = 0,\n",
    "    dec_loss_lambda = 1e-2,\n",
    ")"
   ]
  },
  {
   "cell_type": "code",
   "execution_count": 5,
   "id": "bbe56943",
   "metadata": {
    "tags": []
   },
   "outputs": [
    {
     "name": "stdout",
     "output_type": "stream",
     "text": [
      "Current task: next_diag_12m\n"
     ]
    }
   ],
   "source": [
    "full_data_path = f\"./data_process/{config.dataset}-processed/mimic.pkl\"  # for tokenizer\n",
    "curr_task = config.tasks[config.task_index]\n",
    "print(\"Current task:\", curr_task)\n",
    "if curr_task == \"next_diag_6m\":\n",
    "    finetune_data_path = f\"./data_process/{config.dataset}-processed/mimic_nextdiag_6m.pkl\"\n",
    "elif curr_task == \"next_diag_12m\":\n",
    "    finetune_data_path = f\"./data_process/{config.dataset}-processed/mimic_nextdiag_12m.pkl\"\n",
    "else:\n",
    "    finetune_data_path = f\"./data_process/{config.dataset}-processed/mimic_downstream.pkl\""
   ]
  },
  {
   "cell_type": "code",
   "execution_count": 6,
   "id": "57d4378a",
   "metadata": {
    "tags": []
   },
   "outputs": [
    {
     "name": "stdout",
     "output_type": "stream",
     "text": [
      "Max admissions per patient: 8\n"
     ]
    }
   ],
   "source": [
    "ehr_full_data = pickle.load(open(full_data_path, 'rb'))\n",
    "group_code_sentences = [expand_level3()[1]]\n",
    "diag_sentences = ehr_full_data[\"ICD9_CODE\"].values.tolist()\n",
    "med_sentences = ehr_full_data[\"NDC\"].values.tolist()\n",
    "lab_sentences = ehr_full_data[\"LAB_TEST\"].values.tolist()\n",
    "pro_sentences = ehr_full_data[\"PRO_CODE\"].values.tolist()\n",
    "age_sentences = [[str(c)] for c in set(ehr_full_data[\"AGE\"].values.tolist())] # important of [[]]\n",
    "adm_type_sentences = ehr_full_data[\"ADMISSION_TYPE\"].values.tolist()\n",
    "max_admissions = ehr_full_data.groupby(\"SUBJECT_ID\")[\"HADM_ID\"].nunique().max()\n",
    "config.max_num_adms = max_admissions\n",
    "print(f\"Max admissions per patient: {config.max_num_adms}\")"
   ]
  },
  {
   "cell_type": "code",
   "execution_count": 7,
   "id": "a8db4baa",
   "metadata": {
    "tags": []
   },
   "outputs": [
    {
     "name": "stdout",
     "output_type": "stream",
     "text": [
      "Age vocabulary size: 18\n",
      "Group code vocabulary size: 19\n"
     ]
    }
   ],
   "source": [
    "tokenizer = EHRTokenizer(age_sentences, group_code_sentences, diag_sentences, med_sentences, lab_sentences, \n",
    "                         pro_sentences, special_tokens=config.special_tokens, adm_types_sentences=adm_type_sentences)\n",
    "config.label_vocab_size = len(PHENO_ORDER)  # a set of predifined diseases\n",
    "config.global_vocab_size = len(tokenizer.vocab.id2word)\n",
    "config.age_vocab_size = tokenizer.token_number(\"age\")\n",
    "config.group_code_vocab_size = tokenizer.token_number(\"group\")\n",
    "print(f\"Age vocabulary size: {config.age_vocab_size}\")\n",
    "print(f\"Group code vocabulary size: {config.group_code_vocab_size}\")"
   ]
  },
  {
   "cell_type": "code",
   "execution_count": 8,
   "id": "4a50b960",
   "metadata": {
    "tags": []
   },
   "outputs": [
    {
     "name": "stdout",
     "output_type": "stream",
     "text": [
      "Percentage of DEATH in test dataset: 8.114199849737041 %\n",
      "Percentage of READMISSION in test dataset: 64.08715251690458 %\n",
      "Percentage of STAY>7 days in test dataset: 55.10894064613073 %\n"
     ]
    }
   ],
   "source": [
    "train_data, val_data, test_data = pickle.load(open(finetune_data_path, 'rb'))\n",
    "# example label percentage\n",
    "print(\"Percentage of DEATH in test dataset:\",\n",
    "      (test_data[\"DEATH\"] == True).mean() * 100, \"%\")\n",
    "\n",
    "print(\"Percentage of READMISSION in test dataset:\",\n",
    "      (test_data[\"READMISSION\"] == 1).mean() * 100, \"%\")\n",
    "\n",
    "print(\"Percentage of STAY>7 days in test dataset:\",\n",
    "      (test_data[\"STAY_DAYS\"] > 7).mean() * 100, \"%\")"
   ]
  },
  {
   "cell_type": "code",
   "execution_count": 9,
   "id": "09f0ec18",
   "metadata": {},
   "outputs": [],
   "source": [
    "train_dataset = FineTuneEHRDataset(train_data, tokenizer, token_type=config.token_type, task=curr_task, \n",
    "                                   max_num_adms=config.max_num_adms, group_code_thre=config.group_code_thre)\n",
    "val_dataset = FineTuneEHRDataset(val_data, tokenizer, token_type=config.token_type, task=curr_task, \n",
    "                                 max_num_adms=config.max_num_adms, group_code_thre=config.group_code_thre)\n",
    "test_dataset = FineTuneEHRDataset(test_data, tokenizer, token_type=config.token_type, task=curr_task, \n",
    "                                   max_num_adms=config.max_num_adms, group_code_thre=config.group_code_thre)"
   ]
  },
  {
   "cell_type": "code",
   "execution_count": 10,
   "id": "899dfc28",
   "metadata": {},
   "outputs": [
    {
     "name": "stdout",
     "output_type": "stream",
     "text": [
      "208 186\n"
     ]
    }
   ],
   "source": [
    "long_adm_seq_crite = 3\n",
    "val_long_seq_idx, test_long_seq_idx = [], []\n",
    "for i in range(len(val_dataset)):\n",
    "    hadm_id = list(val_dataset.records.keys())[i]\n",
    "    num_adms = len(val_dataset.records[hadm_id])\n",
    "    if num_adms >= long_adm_seq_crite:\n",
    "        val_long_seq_idx.append(i)\n",
    "for i in range(len(test_dataset)):\n",
    "    hadm_id = list(test_dataset.records.keys())[i]\n",
    "    num_adms = len(test_dataset.records[hadm_id])\n",
    "    if num_adms >= long_adm_seq_crite:\n",
    "        test_long_seq_idx.append(i)\n",
    "print(len(val_long_seq_idx), len(test_long_seq_idx))"
   ]
  },
  {
   "cell_type": "code",
   "execution_count": 11,
   "id": "98c78018",
   "metadata": {},
   "outputs": [
    {
     "name": "stdout",
     "output_type": "stream",
     "text": [
      "Mean group token numer per patient 0.8268720127456187\n"
     ]
    }
   ],
   "source": [
    "num_group_code = []\n",
    "for i in range(len(train_dataset)):\n",
    "    input_ids, token_types, adm_index, age_ids, diag_group_codes, labels = train_dataset[i]\n",
    "    count = (token_types[0] == 6).sum().item()\n",
    "    num_group_code.append(count)\n",
    "print(\"Mean group token numer per patient\", np.mean(num_group_code))"
   ]
  },
  {
   "cell_type": "code",
   "execution_count": 12,
   "id": "d71f325f",
   "metadata": {},
   "outputs": [],
   "source": [
    "train_dataloader = DataLoader(\n",
    "    train_dataset,\n",
    "    collate_fn=batcher(tokenizer, n_token_type=len(config.token_type), is_pretrain = False),\n",
    "    shuffle=True,\n",
    "    batch_size=config.batch_size,\n",
    ")\n",
    "\n",
    "val_dataloader = DataLoader(\n",
    "    val_dataset,\n",
    "    collate_fn=batcher(tokenizer, n_token_type=len(config.token_type), is_pretrain = False),\n",
    "    shuffle=False,\n",
    "    batch_size=config.batch_size,\n",
    ")\n",
    "\n",
    "test_dataloader = DataLoader(\n",
    "    test_dataset,\n",
    "    collate_fn=batcher(tokenizer, n_token_type=len(config.token_type), is_pretrain = False),\n",
    "    shuffle=False,\n",
    "    batch_size=config.batch_size,\n",
    ")"
   ]
  },
  {
   "cell_type": "code",
   "execution_count": 13,
   "id": "7b46906f",
   "metadata": {},
   "outputs": [
    {
     "name": "stdout",
     "output_type": "stream",
     "text": [
      "All pass!\n"
     ]
    }
   ],
   "source": [
    "for batch in train_dataloader:\n",
    "    pass  # just to check if the dataloader works\n",
    "for batch in val_dataloader:\n",
    "    pass  # just to check if the dataloader works\n",
    "for batch in test_dataloader:\n",
    "    pass  # just to check if the dataloader works\n",
    "print(\"All pass!\")"
   ]
  },
  {
   "cell_type": "code",
   "execution_count": 14,
   "id": "10339a18",
   "metadata": {},
   "outputs": [],
   "source": [
    "if curr_task in [\"death\", \"stay\", \"readmission\"]:\n",
    "    eval_metric = \"f1\"\n",
    "    task_type = \"binary\"\n",
    "    loss_fn = F.binary_cross_entropy_with_logits\n",
    "else:\n",
    "    eval_metric = \"f1\"\n",
    "    task_type = \"l2r\"\n",
    "    loss_fn = lambda x, y: F.binary_cross_entropy_with_logits(x, y)"
   ]
  },
  {
   "cell_type": "code",
   "execution_count": 15,
   "id": "d5717b84",
   "metadata": {},
   "outputs": [
    {
     "name": "stdout",
     "output_type": "stream",
     "text": [
      "Input IDs shape: torch.Size([32, 193])\n",
      "Token Types shape: torch.Size([32, 193])\n",
      "Admission Index shape: torch.Size([32, 193])\n",
      "Age IDs shape: torch.Size([32, 4])\n",
      "Diag Code Group Dict number: 32\n",
      "Labels shape: torch.Size([32, 18])\n"
     ]
    }
   ],
   "source": [
    "input_ids, token_types, adm_index, age_ids, diag_code_group_dicts, labels = next(iter(train_dataloader))\n",
    "print(\"Input IDs shape:\", input_ids.shape)\n",
    "print(\"Token Types shape:\", token_types.shape)\n",
    "print(\"Admission Index shape:\", adm_index.shape)\n",
    "print(\"Age IDs shape:\", age_ids.shape)\n",
    "print(\"Diag Code Group Dict number:\", len(diag_code_group_dicts))\n",
    "print(\"Labels shape:\", labels.shape)"
   ]
  },
  {
   "cell_type": "markdown",
   "id": "814e9e16",
   "metadata": {},
   "source": [
    "# Model Walkthrough"
   ]
  },
  {
   "cell_type": "code",
   "execution_count": 16,
   "id": "af42068a",
   "metadata": {},
   "outputs": [
    {
     "name": "stdout",
     "output_type": "stream",
     "text": [
      "MIMIC-III-0.7-64-0.05-0.05-0\n"
     ]
    }
   ],
   "source": [
    "# load pretrained model\n",
    "if config.use_pretrained_model:\n",
    "    pretrain_exp_name = (\n",
    "    f\"{config.dataset}-{config.pretrain_mask_rate}-{config.d_model}-{config.pretrain_cls_ontology_weight}-{config.pretrain_visit_ontology_weight}-{config.pretrain_adm_type_weight}\"\n",
    ")\n",
    "    print(pretrain_exp_name)\n",
    "    save_path = \"./pretrained_models/\" + pretrain_exp_name\n",
    "    state_dict = torch.load(f\"{save_path}/pretrained_model.pt\", map_location=\"cpu\")"
   ]
  },
  {
   "cell_type": "code",
   "execution_count": null,
   "id": "f0fed5f6-b245-4bc3-b252-f6af0756f18a",
   "metadata": {
    "tags": []
   },
   "outputs": [
    {
     "name": "stdout",
     "output_type": "stream",
     "text": [
      "================================1==================================\n"
     ]
    },
    {
     "name": "stderr",
     "output_type": "stream",
     "text": [
      "Epoch 001: 100%|██████████| 59/59 [00:04<00:00, 13.90it/s, loss=0.4680]\n",
      "Running inference: 100%|██████████| 45/45 [00:02<00:00, 22.22it/s]\n",
      "Running inference: 100%|██████████| 45/45 [00:02<00:00, 22.13it/s]\n"
     ]
    },
    {
     "name": "stdout",
     "output_type": "stream",
     "text": [
      "Validation: {'precision': 36.353, 'recall': 14.3667, 'f1': 19.0981, 'auc': 66.5156, 'prauc': 36.7519}\n",
      "Test:      {'precision': 33.1821, 'recall': 13.7059, 'f1': 18.1904, 'auc': 67.2613, 'prauc': 35.7609}\n",
      "\n",
      "Validation-long: {'precision': 36.6397, 'recall': 18.3494, 'f1': 22.0961, 'auc': 64.3429, 'prauc': 42.5343}\n",
      "Test-long: {'precision': 31.8076, 'recall': 17.194, 'f1': 20.7733, 'auc': 65.1907, 'prauc': 40.4217}\n",
      "\n"
     ]
    },
    {
     "name": "stderr",
     "output_type": "stream",
     "text": [
      "Epoch 002: 100%|██████████| 59/59 [00:04<00:00, 13.95it/s, loss=0.4036]\n",
      "Running inference: 100%|██████████| 45/45 [00:02<00:00, 22.20it/s]\n",
      "Running inference: 100%|██████████| 45/45 [00:02<00:00, 22.01it/s]\n"
     ]
    },
    {
     "name": "stdout",
     "output_type": "stream",
     "text": [
      "Validation: {'precision': 41.6864, 'recall': 20.9485, 'f1': 25.4404, 'auc': 70.7111, 'prauc': 39.6872}\n",
      "Test:      {'precision': 38.4604, 'recall': 19.8374, 'f1': 24.2126, 'auc': 72.4446, 'prauc': 39.2965}\n",
      "\n",
      "Validation-long: {'precision': 46.6562, 'recall': 25.4735, 'f1': 29.2943, 'auc': 68.7802, 'prauc': 46.5703}\n",
      "Test-long: {'precision': 41.2657, 'recall': 22.6928, 'f1': 26.8704, 'auc': 71.8297, 'prauc': 43.6032}\n",
      "\n"
     ]
    },
    {
     "name": "stderr",
     "output_type": "stream",
     "text": [
      "Epoch 003: 100%|██████████| 59/59 [00:04<00:00, 14.68it/s, loss=0.3886]\n",
      "Running inference: 100%|██████████| 45/45 [00:02<00:00, 22.17it/s]\n",
      "Running inference: 100%|██████████| 45/45 [00:02<00:00, 22.09it/s]\n"
     ]
    },
    {
     "name": "stdout",
     "output_type": "stream",
     "text": [
      "Validation: {'precision': 39.772, 'recall': 23.3231, 'f1': 27.0509, 'auc': 72.0743, 'prauc': 41.2629}\n",
      "Test:      {'precision': 37.8287, 'recall': 22.2875, 'f1': 26.0094, 'auc': 73.5019, 'prauc': 40.3559}\n",
      "\n",
      "Validation-long: {'precision': 40.1853, 'recall': 26.9921, 'f1': 29.8544, 'auc': 70.3106, 'prauc': 47.3538}\n",
      "Test-long: {'precision': 44.5227, 'recall': 24.4104, 'f1': 28.5041, 'auc': 72.9209, 'prauc': 44.843}\n",
      "\n"
     ]
    },
    {
     "name": "stderr",
     "output_type": "stream",
     "text": [
      "Epoch 004: 100%|██████████| 59/59 [00:03<00:00, 15.07it/s, loss=0.3750]\n",
      "Running inference: 100%|██████████| 45/45 [00:02<00:00, 22.34it/s]\n",
      "Running inference: 100%|██████████| 45/45 [00:02<00:00, 22.35it/s]\n"
     ]
    },
    {
     "name": "stdout",
     "output_type": "stream",
     "text": [
      "Validation: {'precision': 38.1766, 'recall': 29.3626, 'f1': 31.4561, 'auc': 73.5524, 'prauc': 42.3312}\n",
      "Test:      {'precision': 42.5614, 'recall': 28.0491, 'f1': 30.4927, 'auc': 74.5317, 'prauc': 42.0541}\n",
      "\n",
      "Validation-long: {'precision': 36.7382, 'recall': 30.7527, 'f1': 32.7358, 'auc': 72.027, 'prauc': 48.2985}\n",
      "Test-long: {'precision': 43.0076, 'recall': 28.3069, 'f1': 31.7314, 'auc': 73.8523, 'prauc': 46.1041}\n",
      "\n"
     ]
    },
    {
     "name": "stderr",
     "output_type": "stream",
     "text": [
      "Epoch 005: 100%|██████████| 59/59 [00:03<00:00, 14.99it/s, loss=0.3639]\n",
      "Running inference: 100%|██████████| 45/45 [00:02<00:00, 22.43it/s]\n",
      "Running inference: 100%|██████████| 45/45 [00:02<00:00, 22.40it/s]\n"
     ]
    },
    {
     "name": "stdout",
     "output_type": "stream",
     "text": [
      "Validation: {'precision': 42.9251, 'recall': 31.0239, 'f1': 33.9715, 'auc': 73.9891, 'prauc': 43.0932}\n",
      "Test:      {'precision': 39.1788, 'recall': 30.1164, 'f1': 33.0235, 'auc': 74.5879, 'prauc': 42.5798}\n",
      "\n",
      "Validation-long: {'precision': 42.7988, 'recall': 36.5903, 'f1': 38.6108, 'auc': 71.6012, 'prauc': 48.1071}\n",
      "Test-long: {'precision': 41.1173, 'recall': 33.9844, 'f1': 36.749, 'auc': 73.9791, 'prauc': 45.4521}\n",
      "\n"
     ]
    },
    {
     "name": "stderr",
     "output_type": "stream",
     "text": [
      "Epoch 006: 100%|██████████| 59/59 [00:03<00:00, 14.76it/s, loss=0.3546]\n",
      "Running inference: 100%|██████████| 45/45 [00:02<00:00, 22.19it/s]\n",
      "Running inference: 100%|██████████| 45/45 [00:02<00:00, 22.12it/s]\n"
     ]
    },
    {
     "name": "stdout",
     "output_type": "stream",
     "text": [
      "Validation: {'precision': 42.0042, 'recall': 35.2419, 'f1': 36.38, 'auc': 73.958, 'prauc': 43.4859}\n",
      "Test:      {'precision': 43.8041, 'recall': 33.9334, 'f1': 35.11, 'auc': 75.12, 'prauc': 43.2257}\n",
      "\n",
      "Validation-long: {'precision': 41.1679, 'recall': 40.6116, 'f1': 40.1934, 'auc': 71.7995, 'prauc': 47.8623}\n",
      "Test-long: {'precision': 39.8471, 'recall': 38.0409, 'f1': 38.2263, 'auc': 75.072, 'prauc': 46.5214}\n",
      "\n"
     ]
    },
    {
     "name": "stderr",
     "output_type": "stream",
     "text": [
      "Epoch 007: 100%|██████████| 59/59 [00:03<00:00, 15.03it/s, loss=0.3439]\n",
      "Running inference: 100%|██████████| 45/45 [00:02<00:00, 22.21it/s]\n",
      "Running inference: 100%|██████████| 45/45 [00:02<00:00, 19.96it/s]\n"
     ]
    },
    {
     "name": "stdout",
     "output_type": "stream",
     "text": [
      "Validation: {'precision': 43.6497, 'recall': 33.6528, 'f1': 36.1832, 'auc': 74.7109, 'prauc': 44.4919}\n",
      "Test:      {'precision': 40.611, 'recall': 31.8107, 'f1': 34.5555, 'auc': 75.1897, 'prauc': 43.6681}\n",
      "\n",
      "Validation-long: {'precision': 43.5781, 'recall': 37.3066, 'f1': 39.0085, 'auc': 72.5988, 'prauc': 49.0179}\n",
      "Test-long: {'precision': 42.5037, 'recall': 33.0338, 'f1': 36.0933, 'auc': 74.8821, 'prauc': 46.5278}\n",
      "\n"
     ]
    },
    {
     "name": "stderr",
     "output_type": "stream",
     "text": [
      "Epoch 008: 100%|██████████| 59/59 [00:03<00:00, 15.06it/s, loss=0.3339]\n",
      "Running inference: 100%|██████████| 45/45 [00:02<00:00, 22.33it/s]\n",
      "Running inference: 100%|██████████| 45/45 [00:02<00:00, 22.24it/s]\n"
     ]
    },
    {
     "name": "stdout",
     "output_type": "stream",
     "text": [
      "Validation: {'precision': 41.1738, 'recall': 34.2901, 'f1': 36.2696, 'auc': 74.07, 'prauc': 44.1097}\n",
      "Test:      {'precision': 39.7582, 'recall': 32.8992, 'f1': 35.0806, 'auc': 74.7253, 'prauc': 43.4937}\n",
      "\n",
      "Validation-long: {'precision': 41.9574, 'recall': 38.7914, 'f1': 39.2535, 'auc': 71.8157, 'prauc': 49.3727}\n",
      "Test-long: {'precision': 40.2678, 'recall': 34.5229, 'f1': 36.7547, 'auc': 74.3022, 'prauc': 46.4946}\n",
      "\n"
     ]
    },
    {
     "name": "stderr",
     "output_type": "stream",
     "text": [
      "Epoch 009: 100%|██████████| 59/59 [00:03<00:00, 15.09it/s, loss=0.3230]\n",
      "Running inference: 100%|██████████| 45/45 [00:02<00:00, 22.45it/s]\n",
      "Running inference: 100%|██████████| 45/45 [00:02<00:00, 22.36it/s]\n"
     ]
    },
    {
     "name": "stdout",
     "output_type": "stream",
     "text": [
      "Validation: {'precision': 44.6061, 'recall': 33.7991, 'f1': 36.1577, 'auc': 74.276, 'prauc': 43.8628}\n",
      "Test:      {'precision': 43.5192, 'recall': 32.4662, 'f1': 34.9665, 'auc': 74.652, 'prauc': 43.5068}\n",
      "\n",
      "Validation-long: {'precision': 43.9903, 'recall': 38.5997, 'f1': 40.0063, 'auc': 71.9383, 'prauc': 48.7059}\n",
      "Test-long: {'precision': 42.2677, 'recall': 35.422, 'f1': 37.25, 'auc': 73.2069, 'prauc': 46.0242}\n",
      "\n"
     ]
    },
    {
     "name": "stderr",
     "output_type": "stream",
     "text": [
      "Epoch 010: 100%|██████████| 59/59 [00:03<00:00, 15.01it/s, loss=0.3142]\n",
      "Running inference: 100%|██████████| 45/45 [00:02<00:00, 22.31it/s]\n",
      "Running inference: 100%|██████████| 45/45 [00:02<00:00, 22.21it/s]\n"
     ]
    },
    {
     "name": "stdout",
     "output_type": "stream",
     "text": [
      "Validation: {'precision': 45.9698, 'recall': 36.087, 'f1': 37.1744, 'auc': 75.0015, 'prauc': 44.388}\n",
      "Test:      {'precision': 44.5829, 'recall': 34.5084, 'f1': 36.0421, 'auc': 74.9538, 'prauc': 43.5775}\n",
      "\n",
      "Validation-long: {'precision': 43.3859, 'recall': 39.3835, 'f1': 40.1839, 'auc': 72.3218, 'prauc': 50.1186}\n",
      "Test-long: {'precision': 40.6807, 'recall': 35.6902, 'f1': 37.3101, 'auc': 73.5039, 'prauc': 46.0616}\n",
      "\n"
     ]
    },
    {
     "name": "stderr",
     "output_type": "stream",
     "text": [
      "Epoch 011: 100%|██████████| 59/59 [00:03<00:00, 15.24it/s, loss=0.3034]\n",
      "Running inference: 100%|██████████| 45/45 [00:02<00:00, 22.36it/s]\n",
      "Running inference: 100%|██████████| 45/45 [00:02<00:00, 22.25it/s]\n"
     ]
    },
    {
     "name": "stdout",
     "output_type": "stream",
     "text": [
      "Validation: {'precision': 41.2956, 'recall': 36.7301, 'f1': 37.9058, 'auc': 74.2613, 'prauc': 43.6294}\n",
      "Test:      {'precision': 44.0351, 'recall': 35.7154, 'f1': 37.264, 'auc': 74.4019, 'prauc': 43.4557}\n",
      "\n",
      "Validation-long: {'precision': 41.5965, 'recall': 40.8647, 'f1': 40.5227, 'auc': 72.0398, 'prauc': 49.7409}\n",
      "Test-long: {'precision': 40.0272, 'recall': 38.331, 'f1': 38.4838, 'auc': 71.9017, 'prauc': 45.6271}\n",
      "\n"
     ]
    },
    {
     "name": "stderr",
     "output_type": "stream",
     "text": [
      "Epoch 012: 100%|██████████| 59/59 [00:03<00:00, 15.03it/s, loss=0.2951]\n",
      "Running inference: 100%|██████████| 45/45 [00:02<00:00, 22.39it/s]\n",
      "Running inference: 100%|██████████| 45/45 [00:02<00:00, 22.27it/s]\n"
     ]
    },
    {
     "name": "stdout",
     "output_type": "stream",
     "text": [
      "Validation: {'precision': 40.1442, 'recall': 38.1012, 'f1': 38.0196, 'auc': 74.5602, 'prauc': 43.2952}\n",
      "Test:      {'precision': 44.3706, 'recall': 37.2643, 'f1': 37.2882, 'auc': 74.1609, 'prauc': 43.2734}\n",
      "\n",
      "Validation-long: {'precision': 42.1886, 'recall': 41.9814, 'f1': 41.1663, 'auc': 72.5214, 'prauc': 49.3294}\n",
      "Test-long: {'precision': 38.8649, 'recall': 38.1084, 'f1': 38.022, 'auc': 70.6971, 'prauc': 44.4641}\n",
      "\n"
     ]
    },
    {
     "name": "stderr",
     "output_type": "stream",
     "text": [
      "Epoch 013: 100%|██████████| 59/59 [00:04<00:00, 14.24it/s, loss=0.2878]\n",
      "Running inference: 100%|██████████| 45/45 [00:02<00:00, 22.35it/s]\n",
      "Running inference: 100%|██████████| 45/45 [00:02<00:00, 22.28it/s]\n"
     ]
    },
    {
     "name": "stdout",
     "output_type": "stream",
     "text": [
      "Validation: {'precision': 42.636, 'recall': 36.6145, 'f1': 38.009, 'auc': 74.4111, 'prauc': 43.4659}\n",
      "Test:      {'precision': 43.0481, 'recall': 35.0734, 'f1': 37.0773, 'auc': 73.6694, 'prauc': 43.0967}\n",
      "\n",
      "Validation-long: {'precision': 41.9233, 'recall': 39.9678, 'f1': 40.0459, 'auc': 72.091, 'prauc': 48.8091}\n",
      "Test-long: {'precision': 40.4054, 'recall': 36.6985, 'f1': 38.1304, 'auc': 71.7292, 'prauc': 45.5074}\n",
      "\n"
     ]
    },
    {
     "name": "stderr",
     "output_type": "stream",
     "text": [
      "Epoch 014: 100%|██████████| 59/59 [00:03<00:00, 14.81it/s, loss=0.2777]\n",
      "Running inference: 100%|██████████| 45/45 [00:02<00:00, 22.37it/s]\n",
      "Running inference: 100%|██████████| 45/45 [00:02<00:00, 22.09it/s]\n"
     ]
    },
    {
     "name": "stdout",
     "output_type": "stream",
     "text": [
      "Validation: {'precision': 49.9633, 'recall': 35.1631, 'f1': 37.7377, 'auc': 74.1439, 'prauc': 43.431}\n",
      "Test:      {'precision': 43.2247, 'recall': 33.3892, 'f1': 36.2197, 'auc': 73.8245, 'prauc': 43.4873}\n",
      "\n",
      "Validation-long: {'precision': 42.6116, 'recall': 40.6585, 'f1': 41.0687, 'auc': 71.689, 'prauc': 48.7862}\n",
      "Test-long: {'precision': 41.5747, 'recall': 37.6227, 'f1': 38.6802, 'auc': 68.4859, 'prauc': 44.6783}\n",
      "\n"
     ]
    },
    {
     "name": "stderr",
     "output_type": "stream",
     "text": [
      "Epoch 015: 100%|██████████| 59/59 [00:03<00:00, 15.02it/s, loss=0.2652]\n",
      "Running inference: 100%|██████████| 45/45 [00:02<00:00, 22.44it/s]\n",
      "Running inference: 100%|██████████| 45/45 [00:02<00:00, 22.37it/s]\n"
     ]
    },
    {
     "name": "stdout",
     "output_type": "stream",
     "text": [
      "Validation: {'precision': 44.3026, 'recall': 33.99, 'f1': 37.0634, 'auc': 73.9459, 'prauc': 43.42}\n",
      "Test:      {'precision': 44.6139, 'recall': 32.9591, 'f1': 36.5605, 'auc': 73.2123, 'prauc': 42.7254}\n",
      "\n",
      "Validation-long: {'precision': 42.214, 'recall': 36.6453, 'f1': 38.7399, 'auc': 72.0205, 'prauc': 48.8879}\n",
      "Test-long: {'precision': 44.1617, 'recall': 34.9335, 'f1': 38.383, 'auc': 71.0501, 'prauc': 45.2277}\n",
      "\n"
     ]
    },
    {
     "name": "stderr",
     "output_type": "stream",
     "text": [
      "Epoch 016: 100%|██████████| 59/59 [00:03<00:00, 15.04it/s, loss=0.2579]\n",
      "Running inference: 100%|██████████| 45/45 [00:02<00:00, 22.26it/s]\n",
      "Running inference: 100%|██████████| 45/45 [00:02<00:00, 22.24it/s]\n"
     ]
    },
    {
     "name": "stdout",
     "output_type": "stream",
     "text": [
      "Validation: {'precision': 47.9457, 'recall': 34.6076, 'f1': 37.469, 'auc': 73.7985, 'prauc': 43.2976}\n",
      "Test:      {'precision': 45.3164, 'recall': 33.2031, 'f1': 36.6295, 'auc': 73.3117, 'prauc': 42.576}\n",
      "\n",
      "Validation-long: {'precision': 47.8297, 'recall': 36.5577, 'f1': 38.668, 'auc': 72.02, 'prauc': 49.4483}\n",
      "Test-long: {'precision': 41.8033, 'recall': 34.1061, 'f1': 36.9434, 'auc': 69.9047, 'prauc': 43.8715}\n",
      "\n"
     ]
    },
    {
     "name": "stderr",
     "output_type": "stream",
     "text": [
      "Epoch 017: 100%|██████████| 59/59 [00:03<00:00, 14.95it/s, loss=0.2505]\n",
      "Running inference: 100%|██████████| 45/45 [00:02<00:00, 22.34it/s]\n",
      "Running inference: 100%|██████████| 45/45 [00:02<00:00, 22.35it/s]\n"
     ]
    },
    {
     "name": "stdout",
     "output_type": "stream",
     "text": [
      "Validation: {'precision': 43.6668, 'recall': 38.916, 'f1': 39.3334, 'auc': 73.2624, 'prauc': 42.2433}\n",
      "Test:      {'precision': 41.7391, 'recall': 37.5475, 'f1': 38.0526, 'auc': 73.2057, 'prauc': 42.536}\n",
      "\n",
      "Validation-long: {'precision': 42.3824, 'recall': 43.3106, 'f1': 42.063, 'auc': 70.5677, 'prauc': 48.4945}\n",
      "Test-long: {'precision': 40.3062, 'recall': 40.621, 'f1': 39.6377, 'auc': 69.2221, 'prauc': 44.3629}\n",
      "\n"
     ]
    },
    {
     "name": "stderr",
     "output_type": "stream",
     "text": [
      "Epoch 018: 100%|██████████| 59/59 [00:03<00:00, 14.97it/s, loss=0.2410]\n",
      "Running inference: 100%|██████████| 45/45 [00:02<00:00, 22.37it/s]\n",
      "Running inference: 100%|██████████| 45/45 [00:02<00:00, 22.29it/s]\n"
     ]
    },
    {
     "name": "stdout",
     "output_type": "stream",
     "text": [
      "Validation: {'precision': 44.5234, 'recall': 35.3417, 'f1': 37.7924, 'auc': 72.9135, 'prauc': 42.2448}\n",
      "Test:      {'precision': 43.8009, 'recall': 34.6598, 'f1': 37.3105, 'auc': 72.3298, 'prauc': 41.4924}\n",
      "\n",
      "Validation-long: {'precision': 45.6791, 'recall': 40.2071, 'f1': 41.7257, 'auc': 71.2287, 'prauc': 49.8367}\n",
      "Test-long: {'precision': 41.5003, 'recall': 35.8417, 'f1': 38.2045, 'auc': 69.4194, 'prauc': 44.0443}\n",
      "\n"
     ]
    },
    {
     "name": "stderr",
     "output_type": "stream",
     "text": [
      "Epoch 019: 100%|██████████| 59/59 [00:04<00:00, 14.23it/s, loss=0.2316]\n",
      "Running inference: 100%|██████████| 45/45 [00:02<00:00, 22.28it/s]\n",
      "Running inference: 100%|██████████| 45/45 [00:02<00:00, 22.12it/s]\n"
     ]
    },
    {
     "name": "stdout",
     "output_type": "stream",
     "text": [
      "Validation: {'precision': 43.8915, 'recall': 38.3172, 'f1': 39.5889, 'auc': 72.9493, 'prauc': 42.2979}\n",
      "Test:      {'precision': 44.2489, 'recall': 36.351, 'f1': 37.8575, 'auc': 72.5153, 'prauc': 41.5347}\n",
      "\n",
      "Validation-long: {'precision': 42.8558, 'recall': 40.6687, 'f1': 41.1896, 'auc': 72.0298, 'prauc': 49.994}\n",
      "Test-long: {'precision': 41.7243, 'recall': 36.0073, 'f1': 37.8974, 'auc': 70.3523, 'prauc': 44.2475}\n",
      "\n"
     ]
    },
    {
     "name": "stderr",
     "output_type": "stream",
     "text": [
      "Epoch 020: 100%|██████████| 59/59 [00:03<00:00, 15.07it/s, loss=0.2251]\n",
      "Running inference: 100%|██████████| 45/45 [00:02<00:00, 22.17it/s]\n",
      "Running inference: 100%|██████████| 45/45 [00:02<00:00, 22.45it/s]\n"
     ]
    },
    {
     "name": "stdout",
     "output_type": "stream",
     "text": [
      "Validation: {'precision': 41.9916, 'recall': 38.7594, 'f1': 38.7223, 'auc': 72.7224, 'prauc': 41.9549}\n",
      "Test:      {'precision': 41.5051, 'recall': 38.409, 'f1': 38.6749, 'auc': 72.1284, 'prauc': 41.2931}\n",
      "\n",
      "Validation-long: {'precision': 40.5523, 'recall': 41.0133, 'f1': 39.363, 'auc': 71.0607, 'prauc': 48.0386}\n",
      "Test-long: {'precision': 39.9567, 'recall': 38.8961, 'f1': 38.7365, 'auc': 68.3093, 'prauc': 43.0158}\n",
      "\n"
     ]
    },
    {
     "name": "stderr",
     "output_type": "stream",
     "text": [
      "Epoch 021: 100%|██████████| 59/59 [00:03<00:00, 14.96it/s, loss=0.2124]\n",
      "Running inference: 100%|██████████| 45/45 [00:02<00:00, 22.23it/s]\n",
      "Running inference: 100%|██████████| 45/45 [00:02<00:00, 22.02it/s]\n"
     ]
    },
    {
     "name": "stdout",
     "output_type": "stream",
     "text": [
      "Validation: {'precision': 43.1108, 'recall': 38.7757, 'f1': 39.6755, 'auc': 72.7951, 'prauc': 42.4222}\n",
      "Test:      {'precision': 42.8236, 'recall': 37.7747, 'f1': 38.9767, 'auc': 72.2971, 'prauc': 41.617}\n",
      "\n",
      "Validation-long: {'precision': 43.4629, 'recall': 43.02, 'f1': 42.2847, 'auc': 70.8918, 'prauc': 48.8378}\n",
      "Test-long: {'precision': 40.5217, 'recall': 40.3233, 'f1': 39.9148, 'auc': 71.1175, 'prauc': 44.28}\n",
      "\n"
     ]
    },
    {
     "name": "stderr",
     "output_type": "stream",
     "text": [
      "Epoch 022: 100%|██████████| 59/59 [00:04<00:00, 14.70it/s, loss=0.2093]\n",
      "Running inference: 100%|██████████| 45/45 [00:02<00:00, 22.08it/s]\n",
      "Running inference: 100%|██████████| 45/45 [00:02<00:00, 22.01it/s]\n"
     ]
    },
    {
     "name": "stdout",
     "output_type": "stream",
     "text": [
      "Validation: {'precision': 43.6151, 'recall': 36.8379, 'f1': 38.6473, 'auc': 72.31, 'prauc': 41.8945}\n",
      "Test:      {'precision': 42.7101, 'recall': 36.533, 'f1': 38.4085, 'auc': 71.3784, 'prauc': 41.7399}\n",
      "\n",
      "Validation-long: {'precision': 43.4502, 'recall': 40.0199, 'f1': 40.8618, 'auc': 70.154, 'prauc': 49.4684}\n",
      "Test-long: {'precision': 42.3846, 'recall': 38.1007, 'f1': 39.1195, 'auc': 69.0125, 'prauc': 44.5843}\n",
      "\n"
     ]
    },
    {
     "name": "stderr",
     "output_type": "stream",
     "text": [
      "Epoch 023: 100%|██████████| 59/59 [00:03<00:00, 14.87it/s, loss=0.1997]\n",
      "Running inference: 100%|██████████| 45/45 [00:02<00:00, 22.12it/s]\n",
      "Running inference: 100%|██████████| 45/45 [00:02<00:00, 22.12it/s]\n"
     ]
    },
    {
     "name": "stdout",
     "output_type": "stream",
     "text": [
      "Validation: {'precision': 44.807, 'recall': 38.8229, 'f1': 39.9382, 'auc': 72.5009, 'prauc': 42.2453}\n",
      "Test:      {'precision': 43.695, 'recall': 36.8971, 'f1': 38.5626, 'auc': 71.5927, 'prauc': 41.4727}\n",
      "\n",
      "Validation-long: {'precision': 47.5931, 'recall': 43.5079, 'f1': 43.4123, 'auc': 70.7876, 'prauc': 50.0789}\n",
      "Test-long: {'precision': 40.7909, 'recall': 38.8832, 'f1': 38.7796, 'auc': 69.7858, 'prauc': 44.2874}\n",
      "\n"
     ]
    },
    {
     "name": "stderr",
     "output_type": "stream",
     "text": [
      "Epoch 024: 100%|██████████| 59/59 [00:03<00:00, 15.02it/s, loss=0.1903]\n",
      "Running inference: 100%|██████████| 45/45 [00:02<00:00, 19.89it/s]\n",
      "Running inference: 100%|██████████| 45/45 [00:02<00:00, 22.17it/s]\n"
     ]
    },
    {
     "name": "stdout",
     "output_type": "stream",
     "text": [
      "Validation: {'precision': 44.9062, 'recall': 37.3485, 'f1': 39.0666, 'auc': 72.1975, 'prauc': 42.0334}\n",
      "Test:      {'precision': 42.0449, 'recall': 35.5921, 'f1': 37.5445, 'auc': 71.4617, 'prauc': 41.5372}\n",
      "\n",
      "Validation-long: {'precision': 42.3038, 'recall': 41.6828, 'f1': 41.7863, 'auc': 70.4761, 'prauc': 48.6942}\n",
      "Test-long: {'precision': 41.8776, 'recall': 37.4985, 'f1': 39.2376, 'auc': 69.7152, 'prauc': 44.4214}\n",
      "\n"
     ]
    },
    {
     "name": "stderr",
     "output_type": "stream",
     "text": [
      "Epoch 025: 100%|██████████| 59/59 [00:03<00:00, 15.09it/s, loss=0.1850]\n",
      "Running inference: 100%|██████████| 45/45 [00:02<00:00, 22.34it/s]\n",
      "Running inference: 100%|██████████| 45/45 [00:02<00:00, 22.19it/s]\n"
     ]
    },
    {
     "name": "stdout",
     "output_type": "stream",
     "text": [
      "Validation: {'precision': 42.6601, 'recall': 37.3806, 'f1': 38.4611, 'auc': 71.9526, 'prauc': 41.5106}\n",
      "Test:      {'precision': 41.299, 'recall': 36.6239, 'f1': 37.9482, 'auc': 71.5117, 'prauc': 41.2457}\n",
      "\n",
      "Validation-long: {'precision': 40.5577, 'recall': 41.346, 'f1': 40.4871, 'auc': 70.0846, 'prauc': 49.37}\n",
      "Test-long: {'precision': 39.7777, 'recall': 38.3302, 'f1': 38.6138, 'auc': 68.51, 'prauc': 44.041}\n",
      "\n"
     ]
    },
    {
     "name": "stderr",
     "output_type": "stream",
     "text": [
      "Epoch 026: 100%|██████████| 59/59 [00:03<00:00, 15.06it/s, loss=0.1792]\n",
      "Running inference: 100%|██████████| 45/45 [00:02<00:00, 22.36it/s]\n",
      "Running inference: 100%|██████████| 45/45 [00:02<00:00, 22.26it/s]\n"
     ]
    },
    {
     "name": "stdout",
     "output_type": "stream",
     "text": [
      "Validation: {'precision': 42.5884, 'recall': 38.9795, 'f1': 40.2376, 'auc': 71.9977, 'prauc': 41.5118}\n",
      "Test:      {'precision': 41.384, 'recall': 37.2724, 'f1': 38.8874, 'auc': 71.5392, 'prauc': 40.8687}\n",
      "\n",
      "Validation-long: {'precision': 42.0654, 'recall': 42.5912, 'f1': 42.0343, 'auc': 69.9093, 'prauc': 49.6012}\n",
      "Test-long: {'precision': 43.3806, 'recall': 39.4741, 'f1': 40.2626, 'auc': 69.5915, 'prauc': 44.3678}\n",
      "\n"
     ]
    },
    {
     "name": "stderr",
     "output_type": "stream",
     "text": [
      "Epoch 027: 100%|██████████| 59/59 [00:03<00:00, 14.96it/s, loss=0.1708]\n",
      "Running inference: 100%|██████████| 45/45 [00:02<00:00, 17.56it/s]\n",
      "Running inference: 100%|██████████| 45/45 [00:02<00:00, 17.83it/s]\n"
     ]
    },
    {
     "name": "stdout",
     "output_type": "stream",
     "text": [
      "Validation: {'precision': 42.0925, 'recall': 37.1943, 'f1': 38.643, 'auc': 71.3251, 'prauc': 41.0162}\n",
      "Test:      {'precision': 41.5439, 'recall': 35.7198, 'f1': 37.6343, 'auc': 70.8779, 'prauc': 41.0384}\n",
      "\n",
      "Validation-long: {'precision': 42.6, 'recall': 39.8202, 'f1': 40.9881, 'auc': 70.0324, 'prauc': 48.4864}\n",
      "Test-long: {'precision': 43.3326, 'recall': 36.1383, 'f1': 38.2597, 'auc': 67.1983, 'prauc': 44.1493}\n",
      "\n"
     ]
    },
    {
     "name": "stderr",
     "output_type": "stream",
     "text": [
      "Epoch 028: 100%|██████████| 59/59 [00:04<00:00, 14.49it/s, loss=0.1657]\n",
      "Running inference: 100%|██████████| 45/45 [00:02<00:00, 22.30it/s]\n",
      "Running inference: 100%|██████████| 45/45 [00:02<00:00, 22.16it/s]\n"
     ]
    },
    {
     "name": "stdout",
     "output_type": "stream",
     "text": [
      "Validation: {'precision': 42.8096, 'recall': 36.6415, 'f1': 38.7612, 'auc': 71.7478, 'prauc': 41.2044}\n",
      "Test:      {'precision': 42.9173, 'recall': 36.3283, 'f1': 38.772, 'auc': 71.6431, 'prauc': 41.1858}\n",
      "\n",
      "Validation-long: {'precision': 44.2629, 'recall': 39.4811, 'f1': 41.2599, 'auc': 71.208, 'prauc': 48.2574}\n",
      "Test-long: {'precision': 44.0986, 'recall': 36.5551, 'f1': 38.4487, 'auc': 69.7014, 'prauc': 44.5716}\n",
      "\n"
     ]
    },
    {
     "name": "stderr",
     "output_type": "stream",
     "text": [
      "Epoch 029: 100%|██████████| 59/59 [00:03<00:00, 15.04it/s, loss=0.1615]\n",
      "Running inference: 100%|██████████| 45/45 [00:02<00:00, 22.20it/s]\n",
      "Running inference: 100%|██████████| 45/45 [00:02<00:00, 22.07it/s]\n"
     ]
    },
    {
     "name": "stdout",
     "output_type": "stream",
     "text": [
      "Validation: {'precision': 41.1373, 'recall': 40.0472, 'f1': 39.9415, 'auc': 71.3495, 'prauc': 40.9582}\n",
      "Test:      {'precision': 40.1664, 'recall': 38.8735, 'f1': 39.023, 'auc': 71.3777, 'prauc': 40.7869}\n",
      "\n",
      "Validation-long: {'precision': 43.5518, 'recall': 43.4837, 'f1': 42.4772, 'auc': 69.9432, 'prauc': 48.5759}\n",
      "Test-long: {'precision': 40.7527, 'recall': 43.1248, 'f1': 41.0535, 'auc': 68.23, 'prauc': 43.4578}\n",
      "\n"
     ]
    },
    {
     "name": "stderr",
     "output_type": "stream",
     "text": [
      "Epoch 030: 100%|██████████| 59/59 [00:04<00:00, 14.07it/s, loss=0.1565]\n",
      "Running inference: 100%|██████████| 45/45 [00:02<00:00, 21.95it/s]\n",
      "Running inference: 100%|██████████| 45/45 [00:02<00:00, 21.95it/s]\n"
     ]
    },
    {
     "name": "stdout",
     "output_type": "stream",
     "text": [
      "Validation: {'precision': 42.9993, 'recall': 38.1465, 'f1': 38.9522, 'auc': 71.6728, 'prauc': 41.3523}\n",
      "Test:      {'precision': 40.1585, 'recall': 37.0124, 'f1': 37.8413, 'auc': 71.3992, 'prauc': 40.8537}\n",
      "\n",
      "Validation-long: {'precision': 46.7894, 'recall': 40.807, 'f1': 41.8368, 'auc': 69.6333, 'prauc': 49.3936}\n",
      "Test-long: {'precision': 39.5785, 'recall': 38.0404, 'f1': 38.5593, 'auc': 68.6759, 'prauc': 44.2242}\n",
      "\n"
     ]
    },
    {
     "name": "stderr",
     "output_type": "stream",
     "text": [
      "Epoch 031: 100%|██████████| 59/59 [00:03<00:00, 14.84it/s, loss=0.1512]\n",
      "Running inference: 100%|██████████| 45/45 [00:02<00:00, 22.11it/s]\n",
      "Running inference: 100%|██████████| 45/45 [00:02<00:00, 22.04it/s]\n"
     ]
    },
    {
     "name": "stdout",
     "output_type": "stream",
     "text": [
      "Validation: {'precision': 41.9189, 'recall': 37.3165, 'f1': 38.9654, 'auc': 71.2838, 'prauc': 40.9327}\n",
      "Test:      {'precision': 40.8686, 'recall': 35.8625, 'f1': 37.8453, 'auc': 71.3907, 'prauc': 41.3148}\n",
      "\n",
      "Validation-long: {'precision': 42.8342, 'recall': 38.873, 'f1': 40.4403, 'auc': 70.215, 'prauc': 48.68}\n",
      "Test-long: {'precision': 43.2065, 'recall': 36.4787, 'f1': 38.5465, 'auc': 68.6109, 'prauc': 43.8657}\n",
      "\n",
      "\n",
      "Early stopping triggered (no improvement for 5 epochs).\n",
      "\n",
      "Best validation performance:\n",
      "{'global': {'precision': 42.5884, 'recall': 38.9795, 'f1': 40.2376, 'auc': 71.9977, 'prauc': 41.5118}, 'per_class':                                            precision   recall       f1  \\\n",
      "Acute and unspecified renal failure          45.5378  45.8525  45.6946   \n",
      "Acute cerebrovascular disease                 0.0000   0.0000   0.0000   \n",
      "Acute myocardial infarction                  17.3333  13.6842  15.2941   \n",
      "Cardiac dysrhythmias                         70.4198  67.3358  68.8433   \n",
      "Chronic kidney disease                       72.2054  70.2941  71.2370   \n",
      "Chronic obstructive pulmonary disease        47.8022  46.2766  47.0270   \n",
      "Conduction disorders                          0.0000   0.0000   0.0000   \n",
      "Congestive heart failure; nonhypertensive    66.8468  68.7037  67.7626   \n",
      "Coronary atherosclerosis and related         58.0737  59.7668  58.9080   \n",
      "Disorders of lipid metabolism                54.4304  56.4304  55.4124   \n",
      "Essential hypertension                       62.0985  56.3107  59.0631   \n",
      "Fluid and electrolyte disorders              47.7032  47.0383  47.3684   \n",
      "Gastrointestinal hemorrhage                  17.0732   7.0000   9.9291   \n",
      "Hypertension with complications              69.8718  68.3386  69.0967   \n",
      "Other liver diseases                         27.2727   7.1429  11.3208   \n",
      "Other lower respiratory disease              56.5820  47.6654  51.7423   \n",
      "Pneumonia                                    15.7895  12.0805  13.6882   \n",
      "Septicemia (except in labor)                 37.5510  27.7108  31.8891   \n",
      "\n",
      "                                               auc    prauc  \n",
      "Acute and unspecified renal failure        65.5058  42.2876  \n",
      "Acute cerebrovascular disease              57.5690   1.4942  \n",
      "Acute myocardial infarction                69.5065  13.4754  \n",
      "Cardiac dysrhythmias                       81.0034  75.4078  \n",
      "Chronic kidney disease                     90.0333  78.6745  \n",
      "Chronic obstructive pulmonary disease      81.9064  40.7411  \n",
      "Conduction disorders                       70.3803   4.6289  \n",
      "Congestive heart failure; nonhypertensive  81.2960  73.1052  \n",
      "Coronary atherosclerosis and related       81.8982  55.6347  \n",
      "Disorders of lipid metabolism              76.9723  53.8580  \n",
      "Essential hypertension                     75.6122  61.6732  \n",
      "Fluid and electrolyte disorders            58.0058  46.6270  \n",
      "Gastrointestinal hemorrhage                60.1397  10.5456  \n",
      "Hypertension with complications            89.0340  72.6875  \n",
      "Other liver diseases                       67.2784  10.4798  \n",
      "Other lower respiratory disease            68.4669  56.4717  \n",
      "Pneumonia                                  56.0778  14.4527  \n",
      "Septicemia (except in labor)               65.2732  34.9671  }\n",
      "Corresponding test performance:\n",
      "{'global': {'precision': 41.384, 'recall': 37.2724, 'f1': 38.8874, 'auc': 71.5392, 'prauc': 40.8687}, 'per_class':                                            precision   recall       f1  \\\n",
      "Acute and unspecified renal failure          44.6512  44.9649  44.8075   \n",
      "Acute cerebrovascular disease                22.2222   8.3333  12.1212   \n",
      "Acute myocardial infarction                  12.2807   7.1429   9.0323   \n",
      "Cardiac dysrhythmias                         67.8917  65.7303  66.7935   \n",
      "Chronic kidney disease                       76.0943  68.6930  72.2045   \n",
      "Chronic obstructive pulmonary disease        46.4516  42.3529  44.3077   \n",
      "Conduction disorders                          0.0000   0.0000   0.0000   \n",
      "Congestive heart failure; nonhypertensive    65.0407  59.7015  62.2568   \n",
      "Coronary atherosclerosis and related         57.5385  58.2555  57.8947   \n",
      "Disorders of lipid metabolism                52.7066  50.6849  51.6760   \n",
      "Essential hypertension                       61.0338  60.9127  60.9732   \n",
      "Fluid and electrolyte disorders              49.2982  50.2683  49.7786   \n",
      "Gastrointestinal hemorrhage                  11.1111   4.1667   6.0606   \n",
      "Hypertension with complications              69.8925  63.7255  66.6667   \n",
      "Other liver diseases                          0.0000   0.0000   0.0000   \n",
      "Other lower respiratory disease              53.3482  42.0035  47.0010   \n",
      "Pneumonia                                    19.8113  11.1702  14.2857   \n",
      "Septicemia (except in labor)                 35.5401  32.7974  34.1137   \n",
      "\n",
      "                                               auc    prauc  \n",
      "Acute and unspecified renal failure        68.0222  44.5355  \n",
      "Acute cerebrovascular disease              63.8258   4.5821  \n",
      "Acute myocardial infarction                68.0236  12.2239  \n",
      "Cardiac dysrhythmias                       78.2356  72.1845  \n",
      "Chronic kidney disease                     90.9197  78.9810  \n",
      "Chronic obstructive pulmonary disease      79.4801  37.8972  \n",
      "Conduction disorders                       68.7803   5.5403  \n",
      "Congestive heart failure; nonhypertensive  79.0382  69.9213  \n",
      "Coronary atherosclerosis and related       82.8321  57.1679  \n",
      "Disorders of lipid metabolism              76.9689  51.6616  \n",
      "Essential hypertension                     77.8059  62.5409  \n",
      "Fluid and electrolyte disorders            61.1880  49.3225  \n",
      "Gastrointestinal hemorrhage                60.2102   9.4418  \n",
      "Hypertension with complications            88.3574  70.2244  \n",
      "Other liver diseases                       56.5069   1.9429  \n",
      "Other lower respiratory disease            62.9653  54.3584  \n",
      "Pneumonia                                  58.9157  17.5009  \n",
      "Septicemia (except in labor)               65.6292  35.6089  }\n",
      "Corresponding test-long performance:\n",
      "{'global': {'precision': 43.3806, 'recall': 39.4741, 'f1': 40.2626, 'auc': 69.5915, 'prauc': 44.3678}, 'per_class':                                            precision   recall       f1  \\\n",
      "Acute and unspecified renal failure          56.3636  52.5424  54.3860   \n",
      "Acute cerebrovascular disease                 0.0000   0.0000   0.0000   \n",
      "Acute myocardial infarction                   0.0000   0.0000   0.0000   \n",
      "Cardiac dysrhythmias                         67.6056  60.0000  63.5762   \n",
      "Chronic kidney disease                       87.1429  78.2051  82.4324   \n",
      "Chronic obstructive pulmonary disease        48.1481  50.0000  49.0566   \n",
      "Conduction disorders                          0.0000   0.0000   0.0000   \n",
      "Congestive heart failure; nonhypertensive    73.4940  66.3043  69.7143   \n",
      "Coronary atherosclerosis and related         53.8462  47.7273  50.6024   \n",
      "Disorders of lipid metabolism                52.3810  44.8980  48.3516   \n",
      "Essential hypertension                       41.5094  44.8980  43.1373   \n",
      "Fluid and electrolyte disorders              59.7938  59.1837  59.4872   \n",
      "Gastrointestinal hemorrhage                  50.0000   5.5556  10.0000   \n",
      "Hypertension with complications              77.9661  67.6471  72.4409   \n",
      "Other liver diseases                          0.0000   0.0000   0.0000   \n",
      "Other lower respiratory disease              61.0000  64.8936  62.8866   \n",
      "Pneumonia                                    16.2162  26.0870  20.0000   \n",
      "Septicemia (except in labor)                 35.3846  42.5926  38.6555   \n",
      "\n",
      "                                               auc    prauc  \n",
      "Acute and unspecified renal failure        72.4476  51.2715  \n",
      "Acute cerebrovascular disease              78.3784   1.2195  \n",
      "Acute myocardial infarction                65.5114   8.7899  \n",
      "Cardiac dysrhythmias                       72.0519  69.6588  \n",
      "Chronic kidney disease                     91.0375  90.2546  \n",
      "Chronic obstructive pulmonary disease      83.4615  49.4864  \n",
      "Conduction disorders                       52.7388   8.1062  \n",
      "Congestive heart failure; nonhypertensive  78.5095  78.6744  \n",
      "Coronary atherosclerosis and related       79.9936  59.1809  \n",
      "Disorders of lipid metabolism              72.8363  49.9087  \n",
      "Essential hypertension                     75.6443  52.4581  \n",
      "Fluid and electrolyte disorders            57.8154  60.5650  \n",
      "Gastrointestinal hemorrhage                61.4583  18.3544  \n",
      "Hypertension with complications            87.9673  83.8668  \n",
      "Other liver diseases                       45.7195   1.3575  \n",
      "Other lower respiratory disease            62.0953  61.8368  \n",
      "Pneumonia                                  56.2817  13.6618  \n",
      "Septicemia (except in labor)               58.6981  39.9685  }\n",
      "================================2==================================\n"
     ]
    },
    {
     "name": "stderr",
     "output_type": "stream",
     "text": [
      "Epoch 001: 100%|██████████| 59/59 [00:03<00:00, 14.85it/s, loss=0.4555]\n",
      "Running inference: 100%|██████████| 45/45 [00:02<00:00, 22.10it/s]\n",
      "Running inference: 100%|██████████| 45/45 [00:02<00:00, 22.00it/s]\n"
     ]
    },
    {
     "name": "stdout",
     "output_type": "stream",
     "text": [
      "Validation: {'precision': 29.1467, 'recall': 21.5835, 'f1': 22.9602, 'auc': 67.4502, 'prauc': 37.8466}\n",
      "Test:      {'precision': 36.5005, 'recall': 20.4271, 'f1': 22.058, 'auc': 67.0277, 'prauc': 36.2824}\n",
      "\n",
      "Validation-long: {'precision': 33.3014, 'recall': 24.3009, 'f1': 24.6013, 'auc': 66.8273, 'prauc': 45.4011}\n",
      "Test-long: {'precision': 25.9765, 'recall': 22.5019, 'f1': 23.1757, 'auc': 64.7486, 'prauc': 40.4448}\n",
      "\n"
     ]
    },
    {
     "name": "stderr",
     "output_type": "stream",
     "text": [
      "Epoch 002: 100%|██████████| 59/59 [00:03<00:00, 14.88it/s, loss=0.3990]\n",
      "Running inference: 100%|██████████| 45/45 [00:02<00:00, 21.98it/s]\n",
      "Running inference: 100%|██████████| 45/45 [00:02<00:00, 21.68it/s]\n"
     ]
    },
    {
     "name": "stdout",
     "output_type": "stream",
     "text": [
      "Validation: {'precision': 42.7923, 'recall': 23.0194, 'f1': 25.7133, 'auc': 71.4532, 'prauc': 40.4823}\n",
      "Test:      {'precision': 36.404, 'recall': 22.4167, 'f1': 25.1509, 'auc': 73.0017, 'prauc': 39.6831}\n",
      "\n",
      "Validation-long: {'precision': 48.1512, 'recall': 26.582, 'f1': 28.8338, 'auc': 67.6524, 'prauc': 47.1035}\n",
      "Test-long: {'precision': 37.4837, 'recall': 23.6488, 'f1': 26.2916, 'auc': 72.2771, 'prauc': 43.1295}\n",
      "\n"
     ]
    },
    {
     "name": "stderr",
     "output_type": "stream",
     "text": [
      "Epoch 003: 100%|██████████| 59/59 [00:04<00:00, 14.64it/s, loss=0.3821]\n",
      "Running inference: 100%|██████████| 45/45 [00:02<00:00, 22.00it/s]\n",
      "Running inference: 100%|██████████| 45/45 [00:02<00:00, 21.95it/s]\n"
     ]
    },
    {
     "name": "stdout",
     "output_type": "stream",
     "text": [
      "Validation: {'precision': 39.9508, 'recall': 25.1711, 'f1': 29.9127, 'auc': 72.8151, 'prauc': 41.4806}\n",
      "Test:      {'precision': 39.5631, 'recall': 24.8576, 'f1': 29.457, 'auc': 74.7243, 'prauc': 41.6904}\n",
      "\n",
      "Validation-long: {'precision': 44.0171, 'recall': 26.6833, 'f1': 30.4713, 'auc': 69.1345, 'prauc': 47.5193}\n",
      "Test-long: {'precision': 44.3914, 'recall': 26.2846, 'f1': 30.0785, 'auc': 72.9082, 'prauc': 45.0925}\n",
      "\n"
     ]
    },
    {
     "name": "stderr",
     "output_type": "stream",
     "text": [
      "Epoch 004: 100%|██████████| 59/59 [00:03<00:00, 14.83it/s, loss=0.3699]\n",
      "Running inference: 100%|██████████| 45/45 [00:02<00:00, 19.74it/s]\n",
      "Running inference: 100%|██████████| 45/45 [00:02<00:00, 22.19it/s]\n"
     ]
    },
    {
     "name": "stdout",
     "output_type": "stream",
     "text": [
      "Validation: {'precision': 41.3207, 'recall': 28.0552, 'f1': 32.0714, 'auc': 73.5829, 'prauc': 42.9506}\n",
      "Test:      {'precision': 40.5394, 'recall': 27.5692, 'f1': 31.5597, 'auc': 74.9581, 'prauc': 42.6932}\n",
      "\n",
      "Validation-long: {'precision': 45.6564, 'recall': 29.8556, 'f1': 33.8061, 'auc': 69.5118, 'prauc': 47.6394}\n",
      "Test-long: {'precision': 43.2091, 'recall': 27.9708, 'f1': 32.3746, 'auc': 72.9417, 'prauc': 44.7528}\n",
      "\n"
     ]
    },
    {
     "name": "stderr",
     "output_type": "stream",
     "text": [
      "Epoch 005: 100%|██████████| 59/59 [00:03<00:00, 14.75it/s, loss=0.3571]\n",
      "Running inference: 100%|██████████| 45/45 [00:02<00:00, 21.89it/s]\n",
      "Running inference: 100%|██████████| 45/45 [00:02<00:00, 21.76it/s]\n"
     ]
    },
    {
     "name": "stdout",
     "output_type": "stream",
     "text": [
      "Validation: {'precision': 39.9631, 'recall': 35.2605, 'f1': 36.0394, 'auc': 73.8818, 'prauc': 43.6531}\n",
      "Test:      {'precision': 42.474, 'recall': 34.7866, 'f1': 35.9536, 'auc': 75.2026, 'prauc': 43.3153}\n",
      "\n",
      "Validation-long: {'precision': 40.7726, 'recall': 40.1439, 'f1': 39.1774, 'auc': 69.2298, 'prauc': 47.7368}\n",
      "Test-long: {'precision': 41.7823, 'recall': 39.2812, 'f1': 39.6335, 'auc': 74.4733, 'prauc': 46.604}\n",
      "\n"
     ]
    },
    {
     "name": "stderr",
     "output_type": "stream",
     "text": [
      "Epoch 006: 100%|██████████| 59/59 [00:03<00:00, 14.96it/s, loss=0.3449]\n",
      "Running inference: 100%|██████████| 45/45 [00:02<00:00, 22.27it/s]\n",
      "Running inference: 100%|██████████| 45/45 [00:02<00:00, 22.10it/s]\n"
     ]
    },
    {
     "name": "stdout",
     "output_type": "stream",
     "text": [
      "Validation: {'precision': 42.5218, 'recall': 34.685, 'f1': 36.3597, 'auc': 74.3656, 'prauc': 44.4599}\n",
      "Test:      {'precision': 42.7713, 'recall': 34.3382, 'f1': 36.0414, 'auc': 75.5226, 'prauc': 44.3951}\n",
      "\n",
      "Validation-long: {'precision': 42.1388, 'recall': 36.1489, 'f1': 37.5003, 'auc': 69.7696, 'prauc': 49.233}\n",
      "Test-long: {'precision': 43.156, 'recall': 36.2482, 'f1': 38.3323, 'auc': 74.125, 'prauc': 45.8406}\n",
      "\n"
     ]
    },
    {
     "name": "stderr",
     "output_type": "stream",
     "text": [
      "Epoch 007: 100%|██████████| 59/59 [00:03<00:00, 14.85it/s, loss=0.3353]\n",
      "Running inference: 100%|██████████| 45/45 [00:02<00:00, 22.24it/s]\n",
      "Running inference: 100%|██████████| 45/45 [00:02<00:00, 22.19it/s]\n"
     ]
    },
    {
     "name": "stdout",
     "output_type": "stream",
     "text": [
      "Validation: {'precision': 42.917, 'recall': 32.3592, 'f1': 34.5024, 'auc': 74.1988, 'prauc': 44.2709}\n",
      "Test:      {'precision': 43.9621, 'recall': 31.4796, 'f1': 33.8826, 'auc': 75.3159, 'prauc': 44.348}\n",
      "\n",
      "Validation-long: {'precision': 40.8809, 'recall': 33.0553, 'f1': 34.1404, 'auc': 69.6611, 'prauc': 48.498}\n",
      "Test-long: {'precision': 43.9962, 'recall': 31.5776, 'f1': 34.3186, 'auc': 73.0024, 'prauc': 44.9242}\n",
      "\n"
     ]
    },
    {
     "name": "stderr",
     "output_type": "stream",
     "text": [
      "Epoch 008: 100%|██████████| 59/59 [00:03<00:00, 15.04it/s, loss=0.3266]\n",
      "Running inference: 100%|██████████| 45/45 [00:02<00:00, 22.32it/s]\n",
      "Running inference: 100%|██████████| 45/45 [00:02<00:00, 22.20it/s]\n"
     ]
    },
    {
     "name": "stdout",
     "output_type": "stream",
     "text": [
      "Validation: {'precision': 41.4851, 'recall': 35.2014, 'f1': 37.3655, 'auc': 74.5775, 'prauc': 44.4236}\n",
      "Test:      {'precision': 42.4152, 'recall': 34.465, 'f1': 36.5126, 'auc': 75.2349, 'prauc': 43.8623}\n",
      "\n",
      "Validation-long: {'precision': 40.1167, 'recall': 36.1616, 'f1': 36.9399, 'auc': 70.8099, 'prauc': 50.1317}\n",
      "Test-long: {'precision': 40.8407, 'recall': 37.2023, 'f1': 38.1086, 'auc': 72.752, 'prauc': 45.6561}\n",
      "\n"
     ]
    },
    {
     "name": "stderr",
     "output_type": "stream",
     "text": [
      "Epoch 009: 100%|██████████| 59/59 [00:03<00:00, 15.19it/s, loss=0.3167]\n",
      "Running inference: 100%|██████████| 45/45 [00:02<00:00, 22.32it/s]\n",
      "Running inference: 100%|██████████| 45/45 [00:02<00:00, 20.03it/s]\n"
     ]
    },
    {
     "name": "stdout",
     "output_type": "stream",
     "text": [
      "Validation: {'precision': 41.6981, 'recall': 36.6968, 'f1': 38.1571, 'auc': 74.5155, 'prauc': 44.3199}\n",
      "Test:      {'precision': 41.7089, 'recall': 35.2573, 'f1': 36.7116, 'auc': 75.2509, 'prauc': 44.1252}\n",
      "\n",
      "Validation-long: {'precision': 42.7903, 'recall': 38.2035, 'f1': 39.7164, 'auc': 71.608, 'prauc': 50.3485}\n",
      "Test-long: {'precision': 41.0807, 'recall': 36.3186, 'f1': 38.2555, 'auc': 74.3077, 'prauc': 46.4982}\n",
      "\n"
     ]
    },
    {
     "name": "stderr",
     "output_type": "stream",
     "text": [
      "Epoch 010: 100%|██████████| 59/59 [00:03<00:00, 15.03it/s, loss=0.3052]\n",
      "Running inference: 100%|██████████| 45/45 [00:02<00:00, 22.29it/s]\n",
      "Running inference: 100%|██████████| 45/45 [00:02<00:00, 22.11it/s]\n"
     ]
    },
    {
     "name": "stdout",
     "output_type": "stream",
     "text": [
      "Validation: {'precision': 47.3439, 'recall': 36.347, 'f1': 38.5767, 'auc': 74.4262, 'prauc': 44.7539}\n",
      "Test:      {'precision': 45.6813, 'recall': 35.3457, 'f1': 37.3415, 'auc': 75.4073, 'prauc': 44.466}\n",
      "\n",
      "Validation-long: {'precision': 43.8055, 'recall': 40.1919, 'f1': 41.3957, 'auc': 71.3699, 'prauc': 50.4531}\n",
      "Test-long: {'precision': 42.1297, 'recall': 38.9016, 'f1': 39.8262, 'auc': 74.5322, 'prauc': 47.5469}\n",
      "\n"
     ]
    },
    {
     "name": "stderr",
     "output_type": "stream",
     "text": [
      "Epoch 011: 100%|██████████| 59/59 [00:04<00:00, 14.13it/s, loss=0.2946]\n",
      "Running inference: 100%|██████████| 45/45 [00:02<00:00, 22.09it/s]\n",
      "Running inference: 100%|██████████| 45/45 [00:02<00:00, 22.16it/s]\n"
     ]
    },
    {
     "name": "stdout",
     "output_type": "stream",
     "text": [
      "Validation: {'precision': 47.0512, 'recall': 37.183, 'f1': 38.1722, 'auc': 73.7808, 'prauc': 43.9281}\n",
      "Test:      {'precision': 41.3432, 'recall': 36.5859, 'f1': 37.1985, 'auc': 74.6998, 'prauc': 43.4862}\n",
      "\n",
      "Validation-long: {'precision': 40.8403, 'recall': 37.5591, 'f1': 38.5587, 'auc': 68.8758, 'prauc': 49.1486}\n",
      "Test-long: {'precision': 41.118, 'recall': 38.3824, 'f1': 39.2895, 'auc': 73.1444, 'prauc': 45.1469}\n",
      "\n"
     ]
    },
    {
     "name": "stderr",
     "output_type": "stream",
     "text": [
      "Epoch 012: 100%|██████████| 59/59 [00:04<00:00, 12.73it/s, loss=0.2840]\n",
      "Running inference: 100%|██████████| 45/45 [00:02<00:00, 21.01it/s]\n",
      "Running inference: 100%|██████████| 45/45 [00:02<00:00, 21.92it/s]\n"
     ]
    },
    {
     "name": "stdout",
     "output_type": "stream",
     "text": [
      "Validation: {'precision': 43.5202, 'recall': 36.5766, 'f1': 37.669, 'auc': 73.9224, 'prauc': 44.4276}\n",
      "Test:      {'precision': 44.2751, 'recall': 35.4564, 'f1': 36.8829, 'auc': 73.8732, 'prauc': 43.4906}\n",
      "\n",
      "Validation-long: {'precision': 41.7175, 'recall': 39.4831, 'f1': 39.1757, 'auc': 71.3302, 'prauc': 51.3529}\n",
      "Test-long: {'precision': 42.7311, 'recall': 39.084, 'f1': 39.981, 'auc': 73.4053, 'prauc': 46.29}\n",
      "\n"
     ]
    },
    {
     "name": "stderr",
     "output_type": "stream",
     "text": [
      "Epoch 013: 100%|██████████| 59/59 [00:04<00:00, 14.74it/s, loss=0.2725]\n",
      "Running inference: 100%|██████████| 45/45 [00:02<00:00, 22.02it/s]\n",
      "Running inference: 100%|██████████| 45/45 [00:02<00:00, 21.98it/s]\n"
     ]
    },
    {
     "name": "stdout",
     "output_type": "stream",
     "text": [
      "Validation: {'precision': 43.086, 'recall': 37.192, 'f1': 38.568, 'auc': 73.6229, 'prauc': 43.5202}\n",
      "Test:      {'precision': 48.5667, 'recall': 36.2116, 'f1': 37.9616, 'auc': 73.7783, 'prauc': 43.0383}\n",
      "\n",
      "Validation-long: {'precision': 42.0405, 'recall': 40.3862, 'f1': 40.6932, 'auc': 70.256, 'prauc': 49.7891}\n",
      "Test-long: {'precision': 40.4433, 'recall': 40.8527, 'f1': 40.3401, 'auc': 73.4243, 'prauc': 45.4957}\n",
      "\n"
     ]
    },
    {
     "name": "stderr",
     "output_type": "stream",
     "text": [
      "Epoch 014: 100%|██████████| 59/59 [00:04<00:00, 12.63it/s, loss=0.2643]\n",
      "Running inference: 100%|██████████| 45/45 [00:02<00:00, 21.69it/s]\n",
      "Running inference: 100%|██████████| 45/45 [00:02<00:00, 21.61it/s]\n"
     ]
    },
    {
     "name": "stdout",
     "output_type": "stream",
     "text": [
      "Validation: {'precision': 43.6746, 'recall': 36.69, 'f1': 37.8722, 'auc': 73.737, 'prauc': 43.5932}\n",
      "Test:      {'precision': 39.8397, 'recall': 35.3115, 'f1': 36.6628, 'auc': 74.0654, 'prauc': 42.8674}\n",
      "\n",
      "Validation-long: {'precision': 43.9152, 'recall': 39.4518, 'f1': 40.8304, 'auc': 70.1474, 'prauc': 50.2605}\n",
      "Test-long: {'precision': 41.0402, 'recall': 36.8123, 'f1': 38.273, 'auc': 73.5808, 'prauc': 45.4947}\n",
      "\n"
     ]
    },
    {
     "name": "stderr",
     "output_type": "stream",
     "text": [
      "Epoch 015: 100%|██████████| 59/59 [00:04<00:00, 13.90it/s, loss=0.2518]\n",
      "Running inference: 100%|██████████| 45/45 [00:02<00:00, 22.06it/s]\n",
      "Running inference: 100%|██████████| 45/45 [00:02<00:00, 21.93it/s]"
     ]
    },
    {
     "name": "stdout",
     "output_type": "stream",
     "text": [
      "Validation: {'precision': 42.6193, 'recall': 37.1741, 'f1': 38.3178, 'auc': 73.2436, 'prauc': 43.0524}\n",
      "Test:      {'precision': 45.0786, 'recall': 36.3465, 'f1': 37.7212, 'auc': 73.7083, 'prauc': 42.3841}\n",
      "\n",
      "Validation-long: {'precision': 41.993, 'recall': 40.4108, 'f1': 40.5588, 'auc': 70.7476, 'prauc': 49.898}\n",
      "Test-long: {'precision': 39.8843, 'recall': 39.346, 'f1': 39.1917, 'auc': 72.9955, 'prauc': 45.9408}\n",
      "\n",
      "\n",
      "Early stopping triggered (no improvement for 5 epochs).\n",
      "\n",
      "Best validation performance:\n",
      "{'global': {'precision': 47.3439, 'recall': 36.347, 'f1': 38.5767, 'auc': 74.4262, 'prauc': 44.7539}, 'per_class':                                            precision   recall       f1  \\\n",
      "Acute and unspecified renal failure          51.6854  52.9954  52.3322   \n",
      "Acute cerebrovascular disease                 0.0000   0.0000   0.0000   \n",
      "Acute myocardial infarction                   0.0000   0.0000   0.0000   \n",
      "Cardiac dysrhythmias                         77.4127  68.7956  72.8502   \n",
      "Chronic kidney disease                       73.8462  70.5882  72.1805   \n",
      "Chronic obstructive pulmonary disease        63.1902  54.7872  58.6895   \n",
      "Conduction disorders                          0.0000   0.0000   0.0000   \n",
      "Congestive heart failure; nonhypertensive    67.2414  72.2222  69.6429   \n",
      "Coronary atherosclerosis and related         64.2612  54.5190  58.9905   \n",
      "Disorders of lipid metabolism                66.8067  41.7323  51.3732   \n",
      "Essential hypertension                       60.8081  58.4466  59.6040   \n",
      "Fluid and electrolyte disorders              46.7140  45.8188  46.2621   \n",
      "Gastrointestinal hemorrhage                 100.0000   1.0000   1.9802   \n",
      "Hypertension with complications              72.2420  63.6364  67.6667   \n",
      "Other liver diseases                          0.0000   0.0000   0.0000   \n",
      "Other lower respiratory disease              60.0950  49.2218  54.1176   \n",
      "Pneumonia                                     0.0000   0.0000   0.0000   \n",
      "Septicemia (except in labor)                 47.8873  20.4819  28.6920   \n",
      "\n",
      "                                               auc    prauc  \n",
      "Acute and unspecified renal failure        71.6286  49.5906  \n",
      "Acute cerebrovascular disease              71.2743   2.3863  \n",
      "Acute myocardial infarction                71.4417  15.5900  \n",
      "Cardiac dysrhythmias                       84.2408  80.1402  \n",
      "Chronic kidney disease                     90.8169  80.0080  \n",
      "Chronic obstructive pulmonary disease      85.7721  56.0787  \n",
      "Conduction disorders                       61.5028   3.0945  \n",
      "Congestive heart failure; nonhypertensive  83.2247  76.1728  \n",
      "Coronary atherosclerosis and related       83.5285  58.8542  \n",
      "Disorders of lipid metabolism              82.1799  62.2608  \n",
      "Essential hypertension                     77.1662  64.3636  \n",
      "Fluid and electrolyte disorders            59.1695  48.7351  \n",
      "Gastrointestinal hemorrhage                66.2599  14.5751  \n",
      "Hypertension with complications            89.5193  74.5695  \n",
      "Other liver diseases                       64.3162   5.6576  \n",
      "Other lower respiratory disease            70.7530  61.0719  \n",
      "Pneumonia                                  56.1526  12.3619  \n",
      "Septicemia (except in labor)               70.7253  40.0600  }\n",
      "Corresponding test performance:\n",
      "{'global': {'precision': 45.6813, 'recall': 35.3457, 'f1': 37.3415, 'auc': 75.4073, 'prauc': 44.466}, 'per_class':                                            precision   recall       f1  \\\n",
      "Acute and unspecified renal failure          49.1150  51.9906  50.5119   \n",
      "Acute cerebrovascular disease                 0.0000   0.0000   0.0000   \n",
      "Acute myocardial infarction                 100.0000   1.0204   2.0202   \n",
      "Cardiac dysrhythmias                         73.2919  66.2921  69.6165   \n",
      "Chronic kidney disease                       74.2947  72.0365  73.1481   \n",
      "Chronic obstructive pulmonary disease        50.6250  47.6471  49.0909   \n",
      "Conduction disorders                          0.0000   0.0000   0.0000   \n",
      "Congestive heart failure; nonhypertensive    66.9675  69.2164  68.0734   \n",
      "Coronary atherosclerosis and related         61.7761  49.8442  55.1724   \n",
      "Disorders of lipid metabolism                65.2381  37.5342  47.6522   \n",
      "Essential hypertension                       64.6186  60.5159  62.5000   \n",
      "Fluid and electrolyte disorders              48.9945  47.9428  48.4629   \n",
      "Gastrointestinal hemorrhage                   0.0000   0.0000   0.0000   \n",
      "Hypertension with complications              70.2055  66.9935  68.5619   \n",
      "Other liver diseases                          0.0000   0.0000   0.0000   \n",
      "Other lower respiratory disease              57.0136  44.2882  49.8516   \n",
      "Pneumonia                                     0.0000   0.0000   0.0000   \n",
      "Septicemia (except in labor)                 40.1235  20.9003  27.4841   \n",
      "\n",
      "                                               auc    prauc  \n",
      "Acute and unspecified renal failure        70.5709  46.7639  \n",
      "Acute cerebrovascular disease              74.4303  10.2262  \n",
      "Acute myocardial infarction                77.0455  19.3025  \n",
      "Cardiac dysrhythmias                       81.8030  76.9831  \n",
      "Chronic kidney disease                     91.6264  80.0703  \n",
      "Chronic obstructive pulmonary disease      82.7211  50.1322  \n",
      "Conduction disorders                       66.6990   4.3210  \n",
      "Congestive heart failure; nonhypertensive  82.0172  74.6201  \n",
      "Coronary atherosclerosis and related       84.5367  60.5984  \n",
      "Disorders of lipid metabolism              81.2418  57.7906  \n",
      "Essential hypertension                     78.2258  62.7748  \n",
      "Fluid and electrolyte disorders            61.2271  49.5833  \n",
      "Gastrointestinal hemorrhage                62.9776  13.2272  \n",
      "Hypertension with complications            89.5105  73.0856  \n",
      "Other liver diseases                       75.4715   4.2077  \n",
      "Other lower respiratory disease            66.3111  60.2708  \n",
      "Pneumonia                                  62.1122  17.7677  \n",
      "Septicemia (except in labor)               68.8044  38.6635  }\n",
      "Corresponding test-long performance:\n",
      "{'global': {'precision': 42.1297, 'recall': 38.9016, 'f1': 39.8262, 'auc': 74.5322, 'prauc': 47.5469}, 'per_class':                                            precision   recall       f1  \\\n",
      "Acute and unspecified renal failure          44.1558  57.6271  50.0000   \n",
      "Acute cerebrovascular disease                 0.0000   0.0000   0.0000   \n",
      "Acute myocardial infarction                   0.0000   0.0000   0.0000   \n",
      "Cardiac dysrhythmias                         77.6119  65.0000  70.7483   \n",
      "Chronic kidney disease                       84.2857  75.6410  79.7297   \n",
      "Chronic obstructive pulmonary disease        47.8261  42.3077  44.8980   \n",
      "Conduction disorders                          0.0000   0.0000   0.0000   \n",
      "Congestive heart failure; nonhypertensive    73.0000  79.3478  76.0417   \n",
      "Coronary atherosclerosis and related         64.5161  45.4545  53.3333   \n",
      "Disorders of lipid metabolism                72.7273  32.6531  45.0704   \n",
      "Essential hypertension                       59.6154  63.2653  61.3861   \n",
      "Fluid and electrolyte disorders              55.2632  64.2857  59.4340   \n",
      "Gastrointestinal hemorrhage                   0.0000   0.0000   0.0000   \n",
      "Hypertension with complications              75.0000  70.5882  72.7273   \n",
      "Other liver diseases                          0.0000   0.0000   0.0000   \n",
      "Other lower respiratory disease              58.8785  67.0213  62.6866   \n",
      "Pneumonia                                     0.0000   0.0000   0.0000   \n",
      "Septicemia (except in labor)                 45.4545  37.0370  40.8163   \n",
      "\n",
      "                                               auc    prauc  \n",
      "Acute and unspecified renal failure        70.8261  55.1290  \n",
      "Acute cerebrovascular disease              82.1622   1.4706  \n",
      "Acute myocardial infarction                71.9034   8.5285  \n",
      "Cardiac dysrhythmias                       77.0991  75.6736  \n",
      "Chronic kidney disease                     92.0287  90.7361  \n",
      "Chronic obstructive pulmonary disease      84.7957  53.3848  \n",
      "Conduction disorders                       51.9663   6.6976  \n",
      "Congestive heart failure; nonhypertensive  82.7243  82.2407  \n",
      "Coronary atherosclerosis and related       82.6504  61.2538  \n",
      "Disorders of lipid metabolism              77.1041  62.2199  \n",
      "Essential hypertension                     78.9960  57.0269  \n",
      "Fluid and electrolyte disorders            54.2904  57.9863  \n",
      "Gastrointestinal hemorrhage                69.8413  21.5654  \n",
      "Hypertension with complications            88.0795  80.8331  \n",
      "Other liver diseases                       84.6995   4.8737  \n",
      "Other lower respiratory disease            69.6809  73.4404  \n",
      "Pneumonia                                  55.1747  13.0183  \n",
      "Septicemia (except in labor)               67.5575  49.7656  }\n"
     ]
    },
    {
     "name": "stderr",
     "output_type": "stream",
     "text": [
      "\n"
     ]
    }
   ],
   "source": [
    "final_metrics, final_long_seq_metrics = [], []\n",
    "for i in range(15):\n",
    "    print(f\"================================{i+1}==================================\")\n",
    "    model = HeteroGTFineTune(tokenizer=tokenizer, token_types=config.token_type, d_model=config.d_model, num_heads=config.num_heads, layer_types=['gnn', 'tf', 'gnn', 'tf'], max_num_adms=config.max_num_adms, \n",
    "                     device=device, task=curr_task, label_vocab_size=config.label_vocab_size, attn_mask_dicts=config.attn_mask_dicts,\n",
    "                     use_cls_cat=True).to(device)\n",
    "    if config.use_pretrained_model:\n",
    "        model.load_weight(state_dict)\n",
    "    optimizer = torch.optim.AdamW(model.parameters(), lr=config.lr)\n",
    "    best_test_metric, best_test_long_seq_metric = train_with_early_stopping(model, train_dataloader, val_dataloader, test_dataloader,\n",
    "                                                                            optimizer, loss_fn, device, config.early_stop_patience, task_type, config.epochs, \n",
    "                                                                            dec_loss_lambda=config.dec_loss_lambda, \n",
    "                                                                            val_long_seq_idx=val_long_seq_idx, test_long_seq_idx=test_long_seq_idx, \n",
    "                                                                            eval_metric=eval_metric, return_model=False)\n",
    "    final_metrics.append(best_test_metric)\n",
    "    final_long_seq_metrics.append(best_test_long_seq_metric)"
   ]
  },
  {
   "cell_type": "code",
   "execution_count": 18,
   "id": "69b5b571",
   "metadata": {},
   "outputs": [],
   "source": [
    "def topk_avg_performance_formatted(performances, long_seq_performances, k=5):\n",
    "    metrics = [\"f1\", \"auc\", \"prauc\"]\n",
    "    scores = {m: np.array([p[m] for p in performances]) for m in metrics}\n",
    "\n",
    "    # 计算排名（值越大排名越靠前）\n",
    "    ranks = {m: (-scores[m]).argsort().argsort() + 1 for m in metrics}\n",
    "    avg_ranks = np.mean(np.stack([ranks[m] for m in metrics], axis=1), axis=1)\n",
    "\n",
    "    # 选 top-k\n",
    "    topk_idx = np.argsort(avg_ranks)[:k]\n",
    "    final_avg = {m: np.mean([performances[i][m] for i in topk_idx]) for m in performances[0].keys()}\n",
    "    final_std = {m: np.std([performances[i][m] for i in topk_idx], ddof=0) for m in performances[0].keys()}\n",
    "    final_long_seq_avg = {m: np.mean([long_seq_performances[i][m] for i in topk_idx]) for m in long_seq_performances[0].keys()}\n",
    "    final_long_seq_std = {m: np.std([long_seq_performances[i][m] for i in topk_idx], ddof=0) for m in long_seq_performances[0].keys()}\n",
    "\n",
    "    # 打印结果（转百分比，均保留两位小数）\n",
    "    print(\"Final Metrics:\")\n",
    "    for m in performances[0].keys():\n",
    "        mean_val = final_avg[m]\n",
    "        std_val = final_std[m]\n",
    "        print(f\"{m}: {mean_val:.2f} ± {std_val:.2f}\")\n",
    "    print(\"\\nFinal Long Sequence Metrics:\")\n",
    "    for m in long_seq_performances[0].keys():\n",
    "        mean_val = final_long_seq_avg[m]\n",
    "        std_val = final_long_seq_std[m]\n",
    "        print(f\"{m}: {mean_val:.2f} ± {std_val:.2f}\")"
   ]
  },
  {
   "cell_type": "code",
   "execution_count": 30,
   "id": "0a607e31",
   "metadata": {},
   "outputs": [],
   "source": [
    "def print_per_class_performance(dfs, col_name=\"prauc\"):\n",
    "    \"\"\"\n",
    "    输入一个 DataFrame 列表，对每个疾病在所有表格的指定列计算 mean ± std 并打印。\n",
    "\n",
    "    参数:\n",
    "        dfs (list[pd.DataFrame]): 多个表格组成的列表\n",
    "        col_name (str): 要计算的指标列名 (默认: \"prauc\")\n",
    "    \"\"\"\n",
    "    # 拼接所有表格\n",
    "    all_values = pd.concat(dfs, axis=0)\n",
    "\n",
    "    # 按疾病分组，计算 mean 和 std\n",
    "    grouped = all_values.groupby(all_values.index)[col_name].agg([\"mean\", \"std\"])\n",
    "\n",
    "    # 打印\n",
    "    for disease, row in grouped.iterrows():\n",
    "        mean_val = row[\"mean\"]\n",
    "        std_val = row[\"std\"]\n",
    "        print(f\"{disease}: {mean_val:.2f} ± {std_val:.2f}\")"
   ]
  },
  {
   "cell_type": "code",
   "execution_count": 31,
   "id": "e12dd11d-4936-466a-9a97-e10f223539fc",
   "metadata": {
    "tags": []
   },
   "outputs": [
    {
     "name": "stdout",
     "output_type": "stream",
     "text": [
      "Final Metrics:\n",
      "precision: 43.53 ± 2.15\n",
      "recall: 36.31 ± 0.96\n",
      "f1: 38.11 ± 0.77\n",
      "auc: 73.47 ± 1.93\n",
      "prauc: 42.67 ± 1.80\n",
      "\n",
      "Final Long Sequence Metrics:\n",
      "precision: 42.76 ± 0.63\n",
      "recall: 39.19 ± 0.29\n",
      "f1: 40.04 ± 0.22\n",
      "auc: 72.06 ± 2.47\n",
      "prauc: 45.96 ± 1.59\n",
      "\n",
      "Per-class performance, all patients:\n",
      "Acute and unspecified renal failure: 45.65 ± 1.58\n",
      "Acute cerebrovascular disease: 7.40 ± 3.99\n",
      "Acute myocardial infarction: 15.76 ± 5.01\n",
      "Cardiac dysrhythmias: 74.58 ± 3.39\n",
      "Chronic kidney disease: 79.53 ± 0.77\n",
      "Chronic obstructive pulmonary disease: 44.01 ± 8.65\n",
      "Conduction disorders: 4.93 ± 0.86\n",
      "Congestive heart failure; nonhypertensive: 72.27 ± 3.32\n",
      "Coronary atherosclerosis and related: 58.88 ± 2.43\n",
      "Disorders of lipid metabolism: 54.73 ± 4.33\n",
      "Essential hypertension: 62.66 ± 0.17\n",
      "Fluid and electrolyte disorders: 49.45 ± 0.18\n",
      "Gastrointestinal hemorrhage: 11.33 ± 2.68\n",
      "Hypertension with complications: 71.66 ± 2.02\n",
      "Other liver diseases: 3.08 ± 1.60\n",
      "Other lower respiratory disease: 57.31 ± 4.18\n",
      "Pneumonia: 17.63 ± 0.19\n",
      "Septicemia (except in labor): 37.14 ± 2.16\n",
      "\n",
      "Per-class performance, long seq:\n",
      "Acute and unspecified renal failure: 53.20 ± 2.73\n",
      "Acute cerebrovascular disease: 1.35 ± 0.18\n",
      "Acute myocardial infarction: 8.66 ± 0.18\n",
      "Cardiac dysrhythmias: 72.67 ± 4.25\n",
      "Chronic kidney disease: 90.50 ± 0.34\n",
      "Chronic obstructive pulmonary disease: 51.44 ± 2.76\n",
      "Conduction disorders: 7.40 ± 1.00\n",
      "Congestive heart failure; nonhypertensive: 80.46 ± 2.52\n",
      "Coronary atherosclerosis and related: 60.22 ± 1.47\n",
      "Disorders of lipid metabolism: 56.06 ± 8.71\n",
      "Essential hypertension: 54.74 ± 3.23\n",
      "Fluid and electrolyte disorders: 59.28 ± 1.82\n",
      "Gastrointestinal hemorrhage: 19.96 ± 2.27\n",
      "Hypertension with complications: 82.35 ± 2.15\n",
      "Other liver diseases: 3.12 ± 2.49\n",
      "Other lower respiratory disease: 67.64 ± 8.20\n",
      "Pneumonia: 13.34 ± 0.46\n",
      "Septicemia (except in labor): 44.87 ± 6.93\n"
     ]
    }
   ],
   "source": [
    "if task_type == \"binary\":\n",
    "    topk_avg_performance_formatted(final_metrics, final_long_seq_metrics)\n",
    "else:\n",
    "    final_metrics_global = [metrics[\"global\"] for metrics in final_metrics]\n",
    "    final_metrics_per_class = [metrics[\"per_class\"] for metrics in final_metrics]\n",
    "    final_long_seq_metrics_global = [metrics[\"global\"] for metrics in final_long_seq_metrics]\n",
    "    final_long_seq_metrics_per_class = [metrics[\"per_class\"] for metrics in final_long_seq_metrics]\n",
    "    topk_avg_performance_formatted(final_metrics_global, final_long_seq_metrics_global)\n",
    "    print(\"\\nPer-class performance, all patients:\")\n",
    "    print_per_class_performance(final_metrics_per_class, col_name=\"prauc\")\n",
    "    print(\"\\nPer-class performance, long seq:\")\n",
    "    print_per_class_performance(final_long_seq_metrics_per_class, col_name=\"prauc\")"
   ]
  }
 ],
 "metadata": {
  "kernelspec": {
   "display_name": "Python 3",
   "language": "python",
   "name": "python3"
  },
  "language_info": {
   "codemirror_mode": {
    "name": "ipython",
    "version": 3
   },
   "file_extension": ".py",
   "mimetype": "text/x-python",
   "name": "python",
   "nbconvert_exporter": "python",
   "pygments_lexer": "ipython3",
   "version": "3.10.18"
  }
 },
 "nbformat": 4,
 "nbformat_minor": 5
}
