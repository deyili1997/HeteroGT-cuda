{
 "cells": [
  {
   "cell_type": "code",
   "execution_count": 1,
   "id": "9bc53801",
   "metadata": {},
   "outputs": [
    {
     "name": "stderr",
     "output_type": "stream",
     "text": [
      "Disabling PyTorch because PyTorch >= 2.1 is required but found 1.13.1\n",
      "None of PyTorch, TensorFlow >= 2.0, or Flax have been found. Models won't be available and only tokenizers, configuration and file/data utilities can be used.\n"
     ]
    }
   ],
   "source": [
    "import torch\n",
    "import pickle\n",
    "import numpy as np\n",
    "from argparse import Namespace\n",
    "from torch.utils.data import DataLoader\n",
    "import torch.nn.functional as F\n",
    "from heterogt.utils.tokenizer import EHRTokenizer\n",
    "from heterogt.utils.dataset import FineTuneEHRDataset, batcher, expand_level3\n",
    "from heterogt.utils.train import train_with_early_stopping\n",
    "from heterogt.utils.seed import set_random_seed\n",
    "from heterogt.model.model import HeteroGTFineTune"
   ]
  },
  {
   "cell_type": "code",
   "execution_count": 2,
   "id": "c42d3e09",
   "metadata": {},
   "outputs": [
    {
     "name": "stdout",
     "output_type": "stream",
     "text": [
      "[INFO] Random seed set to 123\n"
     ]
    }
   ],
   "source": [
    "set_random_seed(123)"
   ]
  },
  {
   "cell_type": "code",
   "execution_count": 3,
   "id": "af3d65aa",
   "metadata": {},
   "outputs": [
    {
     "name": "stdout",
     "output_type": "stream",
     "text": [
      "cuda\n"
     ]
    }
   ],
   "source": [
    "device = torch.device(\"cuda\" if torch.cuda.is_available() else \"cpu\")\n",
    "print(device)"
   ]
  },
  {
   "cell_type": "code",
   "execution_count": 4,
   "id": "d073b89b",
   "metadata": {},
   "outputs": [],
   "source": [
    "config = Namespace(\n",
    "    dataset = \"MIMIC-III\",\n",
    "    tasks = [\"death\", \"readmission\", \"stay\", \"next_diag_6m\", \"next_diag_12m\"], \n",
    "    task_index = 2,  # index of the task to train\n",
    "    token_type = [\"diag\", \"med\", \"lab\", \"pro\"],\n",
    "    special_tokens = [\"[PAD]\", \"[CLS]\"],\n",
    "    attn_mask_dicts = [{1:[6,7], 2:[6,7], 3:[6,7], 4:[6,7], 6:[2,3,4,5,6,7], 7:[2,3,4,5,6,7]}, \n",
    "                       {1:[6,7], 2:[6,7], 3:[6,7], 4:[6,7], 6:[2,3,4,5,6,7], 7:[2,3,4,5,6,7]}],\n",
    "    d_model = 64,\n",
    "    num_heads = 4,\n",
    "    batch_size = 32,\n",
    "    lr = 1e-3,\n",
    "    epochs = 500,\n",
    "    early_stop_patience = 5,\n",
    "    group_code_thre = 5,  # if there are group_code_thre diag codes belongs to the same group ICD code, then the group code is generated\n",
    "    use_pretrained_model = True,\n",
    "    pretrain_mask_rate = 0.7,\n",
    "    pretrain_cls_ontology_weight = 5e-2,\n",
    "    pretrain_visit_ontology_weight = 5e-2,\n",
    "    pretrain_adm_type_weight = 5e-2,\n",
    "    dec_loss_lambda = 1e-2,\n",
    ")"
   ]
  },
  {
   "cell_type": "code",
   "execution_count": 5,
   "id": "bbe56943",
   "metadata": {},
   "outputs": [
    {
     "name": "stdout",
     "output_type": "stream",
     "text": [
      "Current task: stay\n"
     ]
    }
   ],
   "source": [
    "full_data_path = f\"./data_process/{config.dataset}-processed/mimic.pkl\"  # for tokenizer\n",
    "curr_task = config.tasks[config.task_index]\n",
    "print(\"Current task:\", curr_task)\n",
    "if curr_task == \"next_diag_6m\":\n",
    "    finetune_data_path = f\"./data_process/{config.dataset}-processed/mimic_nextdiag_6m.pkl\"\n",
    "elif curr_task == \"next_diag_12m\":\n",
    "    finetune_data_path = f\"./data_process/{config.dataset}-processed/mimic_nextdiag_12m.pkl\"\n",
    "else:\n",
    "    finetune_data_path = f\"./data_process/{config.dataset}-processed/mimic_downstream.pkl\""
   ]
  },
  {
   "cell_type": "code",
   "execution_count": 6,
   "id": "57d4378a",
   "metadata": {},
   "outputs": [
    {
     "name": "stdout",
     "output_type": "stream",
     "text": [
      "Max admissions per patient: 8\n"
     ]
    }
   ],
   "source": [
    "ehr_full_data = pickle.load(open(full_data_path, 'rb'))\n",
    "group_code_sentences = [expand_level3()[1]]\n",
    "diag_sentences = ehr_full_data[\"ICD9_CODE\"].values.tolist()\n",
    "med_sentences = ehr_full_data[\"NDC\"].values.tolist()\n",
    "lab_sentences = ehr_full_data[\"LAB_TEST\"].values.tolist()\n",
    "pro_sentences = ehr_full_data[\"PRO_CODE\"].values.tolist()\n",
    "age_sentences = [[str(c)] for c in set(ehr_full_data[\"AGE\"].values.tolist())] # important of [[]]\n",
    "adm_type_sentences = ehr_full_data[\"ADMISSION_TYPE\"].values.tolist()\n",
    "max_admissions = ehr_full_data.groupby(\"SUBJECT_ID\")[\"HADM_ID\"].nunique().max()\n",
    "config.max_num_adms = max_admissions\n",
    "print(f\"Max admissions per patient: {config.max_num_adms}\")"
   ]
  },
  {
   "cell_type": "code",
   "execution_count": 7,
   "id": "a8db4baa",
   "metadata": {},
   "outputs": [
    {
     "name": "stdout",
     "output_type": "stream",
     "text": [
      "Age vocabulary size: 18\n",
      "Group code vocabulary size: 19\n"
     ]
    }
   ],
   "source": [
    "tokenizer = EHRTokenizer(age_sentences, group_code_sentences, diag_sentences, med_sentences, lab_sentences, \n",
    "                         pro_sentences, special_tokens=config.special_tokens, adm_types_sentences=adm_type_sentences)\n",
    "config.label_vocab_size = len(tokenizer.diag_voc.id2word)  # only for diagnosis\n",
    "config.global_vocab_size = len(tokenizer.vocab.id2word)\n",
    "config.age_vocab_size = tokenizer.token_number(\"age\")\n",
    "config.group_code_vocab_size = tokenizer.token_number(\"group\")\n",
    "print(f\"Age vocabulary size: {config.age_vocab_size}\")\n",
    "print(f\"Group code vocabulary size: {config.group_code_vocab_size}\")"
   ]
  },
  {
   "cell_type": "code",
   "execution_count": 8,
   "id": "4a50b960",
   "metadata": {},
   "outputs": [
    {
     "name": "stdout",
     "output_type": "stream",
     "text": [
      "Percentage of DEATH in test dataset: 28.648477157360407 %\n",
      "Percentage of READMISSION in test dataset: 40.1491116751269 %\n",
      "Percentage of STAY>7 days in test dataset: 50.58692893401015 %\n"
     ]
    }
   ],
   "source": [
    "train_data, val_data, test_data = pickle.load(open(finetune_data_path, 'rb'))\n",
    "# example label percentage\n",
    "print(\"Percentage of DEATH in test dataset:\",\n",
    "      (test_data[\"DEATH\"] == True).mean() * 100, \"%\")\n",
    "\n",
    "print(\"Percentage of READMISSION in test dataset:\",\n",
    "      (test_data[\"READMISSION\"] == 1).mean() * 100, \"%\")\n",
    "\n",
    "print(\"Percentage of STAY>7 days in test dataset:\",\n",
    "      (test_data[\"STAY_DAYS\"] > 7).mean() * 100, \"%\")"
   ]
  },
  {
   "cell_type": "code",
   "execution_count": 9,
   "id": "09f0ec18",
   "metadata": {},
   "outputs": [],
   "source": [
    "train_dataset = FineTuneEHRDataset(train_data, tokenizer, token_type=config.token_type, task=curr_task, \n",
    "                                   max_num_adms=config.max_num_adms, group_code_thre=config.group_code_thre)\n",
    "val_dataset = FineTuneEHRDataset(val_data, tokenizer, token_type=config.token_type, task=curr_task, \n",
    "                                 max_num_adms=config.max_num_adms, group_code_thre=config.group_code_thre)\n",
    "test_dataset = FineTuneEHRDataset(test_data, tokenizer, token_type=config.token_type, task=curr_task, \n",
    "                                   max_num_adms=config.max_num_adms, group_code_thre=config.group_code_thre)"
   ]
  },
  {
   "cell_type": "code",
   "execution_count": 10,
   "id": "98c78018",
   "metadata": {},
   "outputs": [
    {
     "name": "stdout",
     "output_type": "stream",
     "text": [
      "Mean group token numer per patient 0.7971893963589908\n"
     ]
    }
   ],
   "source": [
    "num_group_code = []\n",
    "for i in range(len(train_dataset)):\n",
    "    input_ids, token_types, adm_index, age_ids, diag_group_codes, labels = train_dataset[i]\n",
    "    count = (token_types[0] == 6).sum().item()\n",
    "    num_group_code.append(count)\n",
    "print(\"Mean group token numer per patient\", np.mean(num_group_code))"
   ]
  },
  {
   "cell_type": "code",
   "execution_count": 11,
   "id": "d71f325f",
   "metadata": {},
   "outputs": [],
   "source": [
    "train_dataloader = DataLoader(\n",
    "    train_dataset,\n",
    "    collate_fn=batcher(tokenizer, n_token_type=len(config.token_type), is_pretrain = False),\n",
    "    shuffle=True,\n",
    "    batch_size=config.batch_size,\n",
    ")\n",
    "\n",
    "val_dataloader = DataLoader(\n",
    "    val_dataset,\n",
    "    collate_fn=batcher(tokenizer, n_token_type=len(config.token_type), is_pretrain = False),\n",
    "    shuffle=False,\n",
    "    batch_size=config.batch_size,\n",
    ")\n",
    "\n",
    "test_dataloader = DataLoader(\n",
    "    test_dataset,\n",
    "    collate_fn=batcher(tokenizer, n_token_type=len(config.token_type), is_pretrain = False),\n",
    "    shuffle=False,\n",
    "    batch_size=config.batch_size,\n",
    ")"
   ]
  },
  {
   "cell_type": "code",
   "execution_count": 12,
   "id": "7b46906f",
   "metadata": {},
   "outputs": [
    {
     "name": "stdout",
     "output_type": "stream",
     "text": [
      "All pass!\n"
     ]
    }
   ],
   "source": [
    "for batch in train_dataloader:\n",
    "    pass  # just to check if the dataloader works\n",
    "for batch in val_dataloader:\n",
    "    pass  # just to check if the dataloader works\n",
    "for batch in test_dataloader:\n",
    "    pass  # just to check if the dataloader works\n",
    "print(\"All pass!\")"
   ]
  },
  {
   "cell_type": "code",
   "execution_count": 13,
   "id": "10339a18",
   "metadata": {},
   "outputs": [],
   "source": [
    "if curr_task in [\"death\", \"stay\", \"readmission\"]:\n",
    "    eval_metric = \"f1\"\n",
    "    task_type = \"binary\"\n",
    "    loss_fn = F.binary_cross_entropy_with_logits\n",
    "else:\n",
    "    eval_metric = \"f1\"\n",
    "    task_type = \"l2r\"\n",
    "    loss_fn = lambda x, y: F.binary_cross_entropy_with_logits(x, y)"
   ]
  },
  {
   "cell_type": "code",
   "execution_count": 14,
   "id": "d5717b84",
   "metadata": {},
   "outputs": [
    {
     "name": "stdout",
     "output_type": "stream",
     "text": [
      "Input IDs shape: torch.Size([32, 293])\n",
      "Token Types shape: torch.Size([32, 293])\n",
      "Admission Index shape: torch.Size([32, 293])\n",
      "Age IDs shape: torch.Size([32, 8])\n",
      "Diag Code Group Dict number: 32\n",
      "Labels shape: torch.Size([32, 1])\n"
     ]
    }
   ],
   "source": [
    "input_ids, token_types, adm_index, age_ids, diag_code_group_dicts, labels = next(iter(train_dataloader))\n",
    "print(\"Input IDs shape:\", input_ids.shape)\n",
    "print(\"Token Types shape:\", token_types.shape)\n",
    "print(\"Admission Index shape:\", adm_index.shape)\n",
    "print(\"Age IDs shape:\", age_ids.shape)\n",
    "print(\"Diag Code Group Dict number:\", len(diag_code_group_dicts))\n",
    "print(\"Labels shape:\", labels.shape)"
   ]
  },
  {
   "cell_type": "markdown",
   "id": "814e9e16",
   "metadata": {},
   "source": [
    "# Model Walkthrough"
   ]
  },
  {
   "cell_type": "code",
   "execution_count": 15,
   "id": "af42068a",
   "metadata": {},
   "outputs": [
    {
     "name": "stdout",
     "output_type": "stream",
     "text": [
      "MIMIC-III-0.7-64-0.05-0.05-0.05\n"
     ]
    }
   ],
   "source": [
    "# load pretrained model\n",
    "if config.use_pretrained_model:\n",
    "    pretrain_exp_name = (\n",
    "    f\"{config.dataset}-{config.pretrain_mask_rate}-{config.d_model}-{config.pretrain_cls_ontology_weight}-{config.pretrain_visit_ontology_weight}-{config.pretrain_adm_type_weight}\"\n",
    ")\n",
    "    print(pretrain_exp_name)\n",
    "    save_path = \"./pretrained_models/\" + pretrain_exp_name\n",
    "    state_dict = torch.load(f\"{save_path}/pretrained_model.pt\", map_location=\"cpu\")"
   ]
  },
  {
   "cell_type": "code",
   "execution_count": null,
   "id": "f0fed5f6-b245-4bc3-b252-f6af0756f18a",
   "metadata": {
    "tags": []
   },
   "outputs": [
    {
     "name": "stdout",
     "output_type": "stream",
     "text": [
      "[Warning] Missing keys: ['cls_head.cls.0.weight', 'cls_head.cls.0.bias', 'cls_head.cls.2.weight', 'cls_head.cls.2.bias']\n",
      "[Warning] Unexpected keys: ['diag_cls.cls.0.weight', 'diag_cls.cls.0.bias', 'diag_cls.cls.2.weight', 'diag_cls.cls.2.bias', 'med_cls.cls.0.weight', 'med_cls.cls.0.bias', 'med_cls.cls.2.weight', 'med_cls.cls.2.bias', 'lab_cls.cls.0.weight', 'lab_cls.cls.0.bias', 'lab_cls.cls.2.weight', 'lab_cls.cls.2.bias', 'pro_cls.cls.0.weight', 'pro_cls.cls.0.bias', 'pro_cls.cls.2.weight', 'pro_cls.cls.2.bias', 'cls_ontology.cls.0.weight', 'cls_ontology.cls.0.bias', 'cls_ontology.cls.2.weight', 'cls_ontology.cls.2.bias', 'visit_ontology.cls.0.weight', 'visit_ontology.cls.0.bias', 'visit_ontology.cls.2.weight', 'visit_ontology.cls.2.bias', 'adm_type.cls.0.weight', 'adm_type.cls.0.bias', 'adm_type.cls.2.weight', 'adm_type.cls.2.bias']\n"
     ]
    },
    {
     "name": "stderr",
     "output_type": "stream",
     "text": [
      "Epoch 001: 100%|██████████| 98/98 [00:06<00:00, 14.51it/s, loss=0.5771]\n",
      "Running inference: 100%|██████████| 198/198 [00:08<00:00, 22.02it/s]\n",
      "Running inference: 100%|██████████| 197/197 [00:09<00:00, 21.12it/s]\n"
     ]
    },
    {
     "name": "stdout",
     "output_type": "stream",
     "text": [
      "Validation: {'precision': 0.6748027613395592, 'recall': 0.8582627782977164, 'f1': 0.755555550625073, 'auc': 0.8197307731067294, 'prauc': 0.8268807315986392}\n",
      "Test:      {'precision': 0.6728031418736554, 'recall': 0.859517089994169, 'f1': 0.7547845193734123, 'auc': 0.8155210502394115, 'prauc': 0.8211445440919768}\n"
     ]
    },
    {
     "name": "stderr",
     "output_type": "stream",
     "text": [
      "Epoch 002: 100%|██████████| 98/98 [00:06<00:00, 15.12it/s, loss=0.5034]\n",
      "Running inference: 100%|██████████| 198/198 [00:08<00:00, 22.13it/s]\n",
      "Running inference: 100%|██████████| 197/197 [00:08<00:00, 21.98it/s]\n"
     ]
    },
    {
     "name": "stdout",
     "output_type": "stream",
     "text": [
      "Validation: {'precision': 0.7420430433442193, 'recall': 0.7676387582290134, 'f1': 0.7546239160841912, 'auc': 0.8307834655514907, 'prauc': 0.841366802801847}\n",
      "Test:      {'precision': 0.7362275449079754, 'recall': 0.7710881153942581, 'f1': 0.7532547047568383, 'auc': 0.8312451459597019, 'prauc': 0.8407584518726899}\n"
     ]
    },
    {
     "name": "stderr",
     "output_type": "stream",
     "text": [
      "Epoch 003: 100%|██████████| 98/98 [00:06<00:00, 15.46it/s, loss=0.4497]\n",
      "Running inference: 100%|██████████| 198/198 [00:09<00:00, 21.94it/s]\n",
      "Running inference: 100%|██████████| 197/197 [00:09<00:00, 21.07it/s]\n"
     ]
    },
    {
     "name": "stdout",
     "output_type": "stream",
     "text": [
      "Validation: {'precision': 0.8009618941886757, 'recall': 0.6788962057049893, 'f1': 0.7348947676045045, 'auc': 0.8393449667628499, 'prauc': 0.8455511790117729}\n",
      "Test:      {'precision': 0.7926062846551105, 'recall': 0.6723110692986131, 'f1': 0.7275195063987402, 'auc': 0.834269990089327, 'prauc': 0.8442693842294524}\n"
     ]
    },
    {
     "name": "stderr",
     "output_type": "stream",
     "text": [
      "Epoch 004: 100%|██████████| 98/98 [00:06<00:00, 15.70it/s, loss=0.4234]\n",
      "Running inference: 100%|██████████| 198/198 [00:08<00:00, 22.15it/s]\n",
      "Running inference: 100%|██████████| 197/197 [00:08<00:00, 22.00it/s]\n"
     ]
    },
    {
     "name": "stdout",
     "output_type": "stream",
     "text": [
      "Validation: {'precision': 0.7746338215686597, 'recall': 0.7296958294113212, 'f1': 0.7514936168331346, 'auc': 0.8416369189627634, 'prauc': 0.8471270728218124}\n",
      "Test:      {'precision': 0.7651888341518385, 'recall': 0.7306365631836607, 'f1': 0.7475136299056275, 'auc': 0.8377582550772695, 'prauc': 0.8445053133101323}\n"
     ]
    },
    {
     "name": "stderr",
     "output_type": "stream",
     "text": [
      "Epoch 005: 100%|██████████| 98/98 [00:06<00:00, 15.46it/s, loss=0.3735]\n",
      "Running inference: 100%|██████████| 198/198 [00:09<00:00, 21.93it/s]\n",
      "Running inference: 100%|██████████| 197/197 [00:09<00:00, 21.23it/s]\n"
     ]
    },
    {
     "name": "stdout",
     "output_type": "stream",
     "text": [
      "Validation: {'precision': 0.73978241693402, 'recall': 0.7889620570687083, 'f1': 0.7635811786143899, 'auc': 0.8361162494954972, 'prauc': 0.8407854445834125}\n",
      "Test:      {'precision': 0.7252018454419689, 'recall': 0.788648479144595, 'f1': 0.7555956086462902, 'auc': 0.8296478112210565, 'prauc': 0.8357787403367725}\n"
     ]
    },
    {
     "name": "stderr",
     "output_type": "stream",
     "text": [
      "Epoch 006: 100%|██████████| 98/98 [00:06<00:00, 15.45it/s, loss=0.3234]\n",
      "Running inference: 100%|██████████| 198/198 [00:08<00:00, 22.11it/s]\n",
      "Running inference: 100%|██████████| 197/197 [00:08<00:00, 22.07it/s]\n"
     ]
    },
    {
     "name": "stdout",
     "output_type": "stream",
     "text": [
      "Validation: {'precision': 0.755810251509851, 'recall': 0.7444339918446397, 'f1': 0.7500789839394658, 'auc': 0.8317846341592561, 'prauc': 0.834855947777735}\n",
      "Test:      {'precision': 0.7428393524260809, 'recall': 0.7481969269339975, 'f1': 0.7455085092923767, 'auc': 0.8283680810893385, 'prauc': 0.8345375165979549}\n"
     ]
    },
    {
     "name": "stderr",
     "output_type": "stream",
     "text": [
      "Epoch 007: 100%|██████████| 98/98 [00:06<00:00, 15.64it/s, loss=0.2774]\n",
      "Running inference: 100%|██████████| 198/198 [00:09<00:00, 21.34it/s]\n",
      "Running inference: 100%|██████████| 197/197 [00:08<00:00, 22.00it/s]\n"
     ]
    },
    {
     "name": "stdout",
     "output_type": "stream",
     "text": [
      "Validation: {'precision': 0.7914831130661106, 'recall': 0.6760740043879709, 'f1': 0.7292406512097505, 'auc': 0.8323373893497443, 'prauc': 0.8341600185584677}\n",
      "Test:      {'precision': 0.7888970051103401, 'recall': 0.6773283160844236, 'f1': 0.72886788772094, 'auc': 0.8302290125516736, 'prauc': 0.836496413604754}\n"
     ]
    },
    {
     "name": "stderr",
     "output_type": "stream",
     "text": [
      "Epoch 008: 100%|██████████| 98/98 [00:06<00:00, 15.66it/s, loss=0.2541]\n",
      "Running inference: 100%|██████████| 198/198 [00:08<00:00, 22.12it/s]\n",
      "Running inference: 100%|██████████| 197/197 [00:08<00:00, 22.04it/s]\n"
     ]
    },
    {
     "name": "stdout",
     "output_type": "stream",
     "text": [
      "Validation: {'precision': 0.7156678312262412, 'recall': 0.8350580119133426, 'f1': 0.7707669993689404, 'auc': 0.834805371194979, 'prauc': 0.8353048768203521}\n",
      "Test:      {'precision': 0.7032704068048304, 'recall': 0.8294136092793057, 'f1': 0.7611510741683687, 'auc': 0.8296143394201678, 'prauc': 0.8331096524012321}\n"
     ]
    },
    {
     "name": "stderr",
     "output_type": "stream",
     "text": [
      "Epoch 009: 100%|██████████| 98/98 [00:06<00:00, 15.42it/s, loss=0.2284]\n",
      "Running inference: 100%|██████████| 198/198 [00:08<00:00, 22.04it/s]\n",
      "Running inference: 100%|██████████| 197/197 [00:09<00:00, 21.12it/s]\n"
     ]
    },
    {
     "name": "stdout",
     "output_type": "stream",
     "text": [
      "Validation: {'precision': 0.7570242656425382, 'recall': 0.7434932580723002, 'f1': 0.7501977485180457, 'auc': 0.828766559672392, 'prauc': 0.8314415798035637}\n",
      "Test:      {'precision': 0.7474747474723881, 'recall': 0.7425525242999607, 'f1': 0.745005500739413, 'auc': 0.8269205892848964, 'prauc': 0.833753598287468}\n"
     ]
    },
    {
     "name": "stderr",
     "output_type": "stream",
     "text": [
      "Epoch 010: 100%|██████████| 98/98 [00:06<00:00, 15.35it/s, loss=0.1879]\n",
      "Running inference: 100%|██████████| 198/198 [00:09<00:00, 21.89it/s]\n",
      "Running inference: 100%|██████████| 197/197 [00:08<00:00, 22.04it/s]\n"
     ]
    },
    {
     "name": "stdout",
     "output_type": "stream",
     "text": [
      "Validation: {'precision': 0.7322074788880211, 'recall': 0.7613671997467502, 'f1': 0.746502685237889, 'auc': 0.8184408435396868, 'prauc': 0.8144429263408942}\n",
      "Test:      {'precision': 0.7263473053870468, 'recall': 0.7607400438985239, 'f1': 0.7431459591603, 'auc': 0.8150713704361954, 'prauc': 0.8140408994813709}\n"
     ]
    },
    {
     "name": "stderr",
     "output_type": "stream",
     "text": [
      "Epoch 011: 100%|██████████| 98/98 [00:06<00:00, 15.37it/s, loss=0.1697]\n",
      "Running inference: 100%|██████████| 198/198 [00:08<00:00, 22.11it/s]\n",
      "Running inference: 100%|██████████| 197/197 [00:09<00:00, 21.32it/s]\n"
     ]
    },
    {
     "name": "stdout",
     "output_type": "stream",
     "text": [
      "Validation: {'precision': 0.7685694635461879, 'recall': 0.7008466603929105, 'f1': 0.733147444573576, 'auc': 0.8271223101600151, 'prauc': 0.8291752632940486}\n",
      "Test:      {'precision': 0.7669198895001142, 'recall': 0.6964565694553263, 'f1': 0.7299917780823242, 'auc': 0.8292928087974966, 'prauc': 0.8348861507524836}\n"
     ]
    },
    {
     "name": "stderr",
     "output_type": "stream",
     "text": [
      "Epoch 012: 100%|██████████| 98/98 [00:06<00:00, 15.14it/s, loss=0.1471]\n",
      "Running inference: 100%|██████████| 198/198 [00:09<00:00, 21.77it/s]\n",
      "Running inference: 100%|██████████| 197/197 [00:08<00:00, 22.01it/s]\n"
     ]
    },
    {
     "name": "stdout",
     "output_type": "stream",
     "text": [
      "Validation: {'precision': 0.7771739130406624, 'recall': 0.6726246472227262, 'f1': 0.7211295966372937, 'auc': 0.8227990843645184, 'prauc': 0.8282632114164241}\n",
      "Test:      {'precision': 0.771681415926472, 'recall': 0.6835998745666868, 'f1': 0.724975053213445, 'auc': 0.8223995808223191, 'prauc': 0.827271242740526}\n"
     ]
    },
    {
     "name": "stderr",
     "output_type": "stream",
     "text": [
      "Epoch 013: 100%|██████████| 98/98 [00:06<00:00, 15.29it/s, loss=0.1420]\n",
      "Running inference: 100%|██████████| 198/198 [00:09<00:00, 21.85it/s]\n",
      "Running inference: 100%|██████████| 197/197 [00:09<00:00, 21.11it/s]\n"
     ]
    },
    {
     "name": "stdout",
     "output_type": "stream",
     "text": [
      "Validation: {'precision': 0.7297859690822539, 'recall': 0.7698338036978055, 'f1': 0.7492751361580011, 'auc': 0.8214782591833572, 'prauc': 0.8207954513157901}\n",
      "Test:      {'precision': 0.7248459958910975, 'recall': 0.774851050483616, 'f1': 0.7490148479890417, 'auc': 0.8215522157577186, 'prauc': 0.8234318245176353}\n",
      "\n",
      "Early stopping triggered (no improvement for 5 epochs).\n",
      "\n",
      "Best validation performance:\n",
      "{'precision': 0.7156678312262412, 'recall': 0.8350580119133426, 'f1': 0.7707669993689404, 'auc': 0.834805371194979, 'prauc': 0.8353048768203521}\n",
      "Corresponding test performance:\n",
      "{'precision': 0.7032704068048304, 'recall': 0.8294136092793057, 'f1': 0.7611510741683687, 'auc': 0.8296143394201678, 'prauc': 0.8331096524012321}\n",
      "[Warning] Missing keys: ['cls_head.cls.0.weight', 'cls_head.cls.0.bias', 'cls_head.cls.2.weight', 'cls_head.cls.2.bias']\n",
      "[Warning] Unexpected keys: ['diag_cls.cls.0.weight', 'diag_cls.cls.0.bias', 'diag_cls.cls.2.weight', 'diag_cls.cls.2.bias', 'med_cls.cls.0.weight', 'med_cls.cls.0.bias', 'med_cls.cls.2.weight', 'med_cls.cls.2.bias', 'lab_cls.cls.0.weight', 'lab_cls.cls.0.bias', 'lab_cls.cls.2.weight', 'lab_cls.cls.2.bias', 'pro_cls.cls.0.weight', 'pro_cls.cls.0.bias', 'pro_cls.cls.2.weight', 'pro_cls.cls.2.bias', 'cls_ontology.cls.0.weight', 'cls_ontology.cls.0.bias', 'cls_ontology.cls.2.weight', 'cls_ontology.cls.2.bias', 'visit_ontology.cls.0.weight', 'visit_ontology.cls.0.bias', 'visit_ontology.cls.2.weight', 'visit_ontology.cls.2.bias', 'adm_type.cls.0.weight', 'adm_type.cls.0.bias', 'adm_type.cls.2.weight', 'adm_type.cls.2.bias']\n"
     ]
    },
    {
     "name": "stderr",
     "output_type": "stream",
     "text": [
      "Epoch 001: 100%|██████████| 98/98 [00:06<00:00, 15.67it/s, loss=0.5840]\n",
      "Running inference: 100%|██████████| 198/198 [00:09<00:00, 21.98it/s]\n",
      "Running inference: 100%|██████████| 197/197 [00:09<00:00, 21.77it/s]\n"
     ]
    },
    {
     "name": "stdout",
     "output_type": "stream",
     "text": [
      "Validation: {'precision': 0.6634684576621169, 'recall': 0.867356538096998, 'f1': 0.7518347327871143, 'auc': 0.8188545433482547, 'prauc': 0.823861663335688}\n",
      "Test:      {'precision': 0.6689221846286396, 'recall': 0.8679836939452242, 'f1': 0.7555616164821163, 'auc': 0.8177025056537143, 'prauc': 0.8210573354679316}\n"
     ]
    },
    {
     "name": "stderr",
     "output_type": "stream",
     "text": [
      "Epoch 002: 100%|██████████| 98/98 [00:06<00:00, 15.60it/s, loss=0.5005]\n",
      "Running inference: 100%|██████████| 198/198 [00:09<00:00, 21.97it/s]\n",
      "Running inference: 100%|██████████| 197/197 [00:09<00:00, 21.34it/s]\n"
     ]
    },
    {
     "name": "stdout",
     "output_type": "stream",
     "text": [
      "Validation: {'precision': 0.7526847757398841, 'recall': 0.747256193161658, 'f1': 0.7499606558946369, 'auc': 0.8306122586361782, 'prauc': 0.8414151033300019}\n",
      "Test:      {'precision': 0.7463099630973361, 'recall': 0.761053621822637, 'f1': 0.7536096829347942, 'auc': 0.8316778130280302, 'prauc': 0.8398901846905868}\n"
     ]
    },
    {
     "name": "stderr",
     "output_type": "stream",
     "text": [
      "Epoch 003: 100%|██████████| 98/98 [00:06<00:00, 15.48it/s, loss=0.4514]\n",
      "Running inference: 100%|██████████| 198/198 [00:09<00:00, 21.88it/s]\n",
      "Running inference: 100%|██████████| 197/197 [00:08<00:00, 21.99it/s]\n"
     ]
    },
    {
     "name": "stdout",
     "output_type": "stream",
     "text": [
      "Validation: {'precision': 0.8074824629742499, 'recall': 0.6497334587624656, 'f1': 0.7200694998345454, 'auc': 0.8371970433851788, 'prauc': 0.8475333344821528}\n",
      "Test:      {'precision': 0.8016910069146745, 'recall': 0.6541235497000498, 'f1': 0.720428245782783, 'auc': 0.8365127014159327, 'prauc': 0.8475629779656834}\n"
     ]
    },
    {
     "name": "stderr",
     "output_type": "stream",
     "text": [
      "Epoch 004: 100%|██████████| 98/98 [00:06<00:00, 15.60it/s, loss=0.4219]\n",
      "Running inference: 100%|██████████| 198/198 [00:09<00:00, 21.90it/s]\n",
      "Running inference: 100%|██████████| 197/197 [00:09<00:00, 21.13it/s]\n"
     ]
    },
    {
     "name": "stdout",
     "output_type": "stream",
     "text": [
      "Validation: {'precision': 0.6890885750945082, 'recall': 0.841643148319719, 'f1': 0.7577639702028021, 'auc': 0.8200837366592486, 'prauc': 0.8285085769365297}\n",
      "Test:      {'precision': 0.6868354430362359, 'recall': 0.8507369081190005, 'f1': 0.7600504222853905, 'auc': 0.8217120247318859, 'prauc': 0.8302057024536351}\n"
     ]
    },
    {
     "name": "stderr",
     "output_type": "stream",
     "text": [
      "Epoch 005: 100%|██████████| 98/98 [00:06<00:00, 15.59it/s, loss=0.3735]\n",
      "Running inference: 100%|██████████| 198/198 [00:09<00:00, 21.91it/s]\n",
      "Running inference: 100%|██████████| 197/197 [00:09<00:00, 21.85it/s]\n"
     ]
    },
    {
     "name": "stdout",
     "output_type": "stream",
     "text": [
      "Validation: {'precision': 0.7231197771567601, 'recall': 0.8140482909977609, 'f1': 0.7658946697460222, 'auc': 0.8397886076868891, 'prauc': 0.8487314526565466}\n",
      "Test:      {'precision': 0.7151432469284716, 'recall': 0.8218877391005899, 'f1': 0.7648088657543028, 'auc': 0.8360410258578469, 'prauc': 0.8430934667489693}\n"
     ]
    },
    {
     "name": "stderr",
     "output_type": "stream",
     "text": [
      "Epoch 006: 100%|██████████| 98/98 [00:06<00:00, 15.44it/s, loss=0.3285]\n",
      "Running inference: 100%|██████████| 198/198 [00:09<00:00, 21.90it/s]\n",
      "Running inference: 100%|██████████| 197/197 [00:09<00:00, 20.87it/s]\n"
     ]
    },
    {
     "name": "stdout",
     "output_type": "stream",
     "text": [
      "Validation: {'precision': 0.712239935150737, 'recall': 0.8265914079622873, 'f1': 0.7651669035885243, 'auc': 0.8373025406041212, 'prauc': 0.8470954819109424}\n",
      "Test:      {'precision': 0.715085287844576, 'recall': 0.8413295703956057, 'f1': 0.7730874464065509, 'auc': 0.8401359106116681, 'prauc': 0.8466006909701613}\n"
     ]
    },
    {
     "name": "stderr",
     "output_type": "stream",
     "text": [
      "Epoch 007: 100%|██████████| 98/98 [00:06<00:00, 15.63it/s, loss=0.3053]\n",
      "Running inference: 100%|██████████| 198/198 [00:08<00:00, 22.02it/s]\n",
      "Running inference: 100%|██████████| 197/197 [00:09<00:00, 21.77it/s]\n"
     ]
    },
    {
     "name": "stdout",
     "output_type": "stream",
     "text": [
      "Validation: {'precision': 0.785413744737779, 'recall': 0.7024145500134763, 'f1': 0.7415990680142637, 'auc': 0.8301760025174652, 'prauc': 0.8400482952513257}\n",
      "Test:      {'precision': 0.7754542337991929, 'recall': 0.7093132643439658, 'f1': 0.7409105747651106, 'auc': 0.8339524358159344, 'prauc': 0.8381713191256286}\n"
     ]
    },
    {
     "name": "stderr",
     "output_type": "stream",
     "text": [
      "Epoch 008: 100%|██████████| 98/98 [00:06<00:00, 15.66it/s, loss=0.2612]\n",
      "Running inference: 100%|██████████| 198/198 [00:09<00:00, 21.97it/s]\n",
      "Running inference: 100%|██████████| 197/197 [00:09<00:00, 21.14it/s]\n"
     ]
    },
    {
     "name": "stdout",
     "output_type": "stream",
     "text": [
      "Validation: {'precision': 0.7164220437532085, 'recall': 0.8112260896807425, 'f1': 0.7608823479581951, 'auc': 0.8255613029770611, 'prauc': 0.8285882630253218}\n",
      "Test:      {'precision': 0.7183639857240781, 'recall': 0.8206334274041373, 'f1': 0.7661006975959491, 'auc': 0.8297564813234901, 'prauc': 0.8312874106796706}\n"
     ]
    },
    {
     "name": "stderr",
     "output_type": "stream",
     "text": [
      "Epoch 009: 100%|██████████| 98/98 [00:06<00:00, 15.41it/s, loss=0.2217]\n",
      "Running inference: 100%|██████████| 198/198 [00:09<00:00, 21.80it/s]\n",
      "Running inference: 100%|██████████| 197/197 [00:08<00:00, 22.08it/s]\n"
     ]
    },
    {
     "name": "stdout",
     "output_type": "stream",
     "text": [
      "Validation: {'precision': 0.704913606909544, 'recall': 0.8187519598594584, 'f1': 0.7575801488049089, 'auc': 0.8266765592915972, 'prauc': 0.8332102992512176}\n",
      "Test:      {'precision': 0.7016574585616899, 'recall': 0.8363123236097952, 'f1': 0.7630901237915096, 'auc': 0.8311153357724965, 'prauc': 0.8384506516651578}\n"
     ]
    },
    {
     "name": "stderr",
     "output_type": "stream",
     "text": [
      "Epoch 010: 100%|██████████| 98/98 [00:06<00:00, 15.65it/s, loss=0.1944]\n",
      "Running inference: 100%|██████████| 198/198 [00:09<00:00, 21.92it/s]\n",
      "Running inference: 100%|██████████| 197/197 [00:09<00:00, 20.98it/s]\n"
     ]
    },
    {
     "name": "stdout",
     "output_type": "stream",
     "text": [
      "Validation: {'precision': 0.7365960099727662, 'recall': 0.7409846346793949, 'f1': 0.7387837999062853, 'auc': 0.8175110613834061, 'prauc': 0.8255477858869429}\n",
      "Test:      {'precision': 0.7460757156025052, 'recall': 0.7601128880502975, 'f1': 0.7530288859580204, 'auc': 0.8264841975349655, 'prauc': 0.8326506262981991}\n",
      "\n",
      "Early stopping triggered (no improvement for 5 epochs).\n",
      "\n",
      "Best validation performance:\n",
      "{'precision': 0.7231197771567601, 'recall': 0.8140482909977609, 'f1': 0.7658946697460222, 'auc': 0.8397886076868891, 'prauc': 0.8487314526565466}\n",
      "Corresponding test performance:\n",
      "{'precision': 0.7151432469284716, 'recall': 0.8218877391005899, 'f1': 0.7648088657543028, 'auc': 0.8360410258578469, 'prauc': 0.8430934667489693}\n",
      "[Warning] Missing keys: ['cls_head.cls.0.weight', 'cls_head.cls.0.bias', 'cls_head.cls.2.weight', 'cls_head.cls.2.bias']\n",
      "[Warning] Unexpected keys: ['diag_cls.cls.0.weight', 'diag_cls.cls.0.bias', 'diag_cls.cls.2.weight', 'diag_cls.cls.2.bias', 'med_cls.cls.0.weight', 'med_cls.cls.0.bias', 'med_cls.cls.2.weight', 'med_cls.cls.2.bias', 'lab_cls.cls.0.weight', 'lab_cls.cls.0.bias', 'lab_cls.cls.2.weight', 'lab_cls.cls.2.bias', 'pro_cls.cls.0.weight', 'pro_cls.cls.0.bias', 'pro_cls.cls.2.weight', 'pro_cls.cls.2.bias', 'cls_ontology.cls.0.weight', 'cls_ontology.cls.0.bias', 'cls_ontology.cls.2.weight', 'cls_ontology.cls.2.bias', 'visit_ontology.cls.0.weight', 'visit_ontology.cls.0.bias', 'visit_ontology.cls.2.weight', 'visit_ontology.cls.2.bias', 'adm_type.cls.0.weight', 'adm_type.cls.0.bias', 'adm_type.cls.2.weight', 'adm_type.cls.2.bias']\n"
     ]
    },
    {
     "name": "stderr",
     "output_type": "stream",
     "text": [
      "Epoch 001: 100%|██████████| 98/98 [00:06<00:00, 15.66it/s, loss=0.5814]\n",
      "Running inference: 100%|██████████| 198/198 [00:09<00:00, 21.87it/s]\n",
      "Running inference: 100%|██████████| 197/197 [00:09<00:00, 21.74it/s]\n"
     ]
    },
    {
     "name": "stdout",
     "output_type": "stream",
     "text": [
      "Validation: {'precision': 0.6671480144388275, 'recall': 0.869238005641677, 'f1': 0.7549019558687664, 'auc': 0.8082656870094442, 'prauc': 0.8081504276269926}\n",
      "Test:      {'precision': 0.6665048543673143, 'recall': 0.8610849796147347, 'f1': 0.7514023757056935, 'auc': 0.8103684565775109, 'prauc': 0.8126415545532387}\n"
     ]
    },
    {
     "name": "stderr",
     "output_type": "stream",
     "text": [
      "Epoch 002: 100%|██████████| 98/98 [00:06<00:00, 15.38it/s, loss=0.5061]\n",
      "Running inference: 100%|██████████| 198/198 [00:08<00:00, 22.04it/s]\n",
      "Running inference: 100%|██████████| 197/197 [00:09<00:00, 21.23it/s]\n"
     ]
    },
    {
     "name": "stdout",
     "output_type": "stream",
     "text": [
      "Validation: {'precision': 0.7353374594732233, 'recall': 0.7823769206623319, 'f1': 0.7581282235044745, 'auc': 0.8317841820283177, 'prauc': 0.8348473608723351}\n",
      "Test:      {'precision': 0.7320588235272587, 'recall': 0.7804954531176529, 'f1': 0.7555015885678669, 'auc': 0.8272268185128756, 'prauc': 0.8348934017854026}\n"
     ]
    },
    {
     "name": "stderr",
     "output_type": "stream",
     "text": [
      "Epoch 003: 100%|██████████| 98/98 [00:06<00:00, 15.65it/s, loss=0.4513]\n",
      "Running inference: 100%|██████████| 198/198 [00:09<00:00, 21.95it/s]\n",
      "Running inference: 100%|██████████| 197/197 [00:08<00:00, 21.90it/s]\n"
     ]
    },
    {
     "name": "stdout",
     "output_type": "stream",
     "text": [
      "Validation: {'precision': 0.7153324287633234, 'recall': 0.8265914079622873, 'f1': 0.7669479147212115, 'auc': 0.8376863495339887, 'prauc': 0.845320500484377}\n",
      "Test:      {'precision': 0.7086110370548957, 'recall': 0.8334901222927767, 'f1': 0.7659942313418203, 'auc': 0.8344826996089588, 'prauc': 0.8431892151447173}\n"
     ]
    },
    {
     "name": "stderr",
     "output_type": "stream",
     "text": [
      "Epoch 004: 100%|██████████| 98/98 [00:06<00:00, 15.45it/s, loss=0.4063]\n",
      "Running inference: 100%|██████████| 198/198 [00:09<00:00, 21.94it/s]\n",
      "Running inference: 100%|██████████| 197/197 [00:09<00:00, 20.99it/s]\n"
     ]
    },
    {
     "name": "stdout",
     "output_type": "stream",
     "text": [
      "Validation: {'precision': 0.7293211637172581, 'recall': 0.8018187519573478, 'f1': 0.763853617114977, 'auc': 0.835449456835009, 'prauc': 0.8445395964697192}\n",
      "Test:      {'precision': 0.7233146067395413, 'recall': 0.8074631545913846, 'f1': 0.7630760062737755, 'auc': 0.8322940464991265, 'prauc': 0.8397296368946243}\n"
     ]
    },
    {
     "name": "stderr",
     "output_type": "stream",
     "text": [
      "Epoch 005: 100%|██████████| 98/98 [00:06<00:00, 15.42it/s, loss=0.3711]\n",
      "Running inference: 100%|██████████| 198/198 [00:09<00:00, 21.92it/s]\n",
      "Running inference: 100%|██████████| 197/197 [00:08<00:00, 21.92it/s]\n"
     ]
    },
    {
     "name": "stdout",
     "output_type": "stream",
     "text": [
      "Validation: {'precision': 0.7610953729909944, 'recall': 0.7582314205056186, 'f1': 0.7596606924528622, 'auc': 0.8371375630484034, 'prauc': 0.8430402211395149}\n",
      "Test:      {'precision': 0.7518450184478725, 'recall': 0.7666980244566739, 'f1': 0.7591988771592763, 'auc': 0.838637984604985, 'prauc': 0.8449162408632573}\n"
     ]
    },
    {
     "name": "stderr",
     "output_type": "stream",
     "text": [
      "Epoch 006: 100%|██████████| 98/98 [00:06<00:00, 15.59it/s, loss=0.3137]\n",
      "Running inference: 100%|██████████| 198/198 [00:09<00:00, 21.77it/s]\n",
      "Running inference: 100%|██████████| 197/197 [00:09<00:00, 21.10it/s]\n"
     ]
    },
    {
     "name": "stdout",
     "output_type": "stream",
     "text": [
      "Validation: {'precision': 0.6996838777642264, 'recall': 0.8328629664445505, 'f1': 0.7604867523727321, 'auc': 0.8208336711756178, 'prauc': 0.8247186803459964}\n",
      "Test:      {'precision': 0.7024967148470368, 'recall': 0.8381937911544742, 'f1': 0.7643694545733465, 'auc': 0.8273852684815933, 'prauc': 0.8305979581664524}\n"
     ]
    },
    {
     "name": "stderr",
     "output_type": "stream",
     "text": [
      "Epoch 007: 100%|██████████| 98/98 [00:06<00:00, 15.56it/s, loss=0.2743]\n",
      "Running inference: 100%|██████████| 198/198 [00:09<00:00, 21.94it/s]\n",
      "Running inference: 100%|██████████| 197/197 [00:09<00:00, 21.87it/s]\n"
     ]
    },
    {
     "name": "stdout",
     "output_type": "stream",
     "text": [
      "Validation: {'precision': 0.7607223476273437, 'recall': 0.7397303229829423, 'f1': 0.7500794862545556, 'auc': 0.8313640519130715, 'prauc': 0.8398612350296016}\n",
      "Test:      {'precision': 0.7593840230966975, 'recall': 0.7422389463758475, 'f1': 0.7507136010877096, 'auc': 0.8345492405424546, 'prauc': 0.8414620667795152}\n"
     ]
    },
    {
     "name": "stderr",
     "output_type": "stream",
     "text": [
      "Epoch 008: 100%|██████████| 98/98 [00:06<00:00, 15.38it/s, loss=0.2397]\n",
      "Running inference: 100%|██████████| 198/198 [00:08<00:00, 22.01it/s]\n",
      "Running inference: 100%|██████████| 197/197 [00:09<00:00, 21.13it/s]\n"
     ]
    },
    {
     "name": "stdout",
     "output_type": "stream",
     "text": [
      "Validation: {'precision': 0.697963501717276, 'recall': 0.8275321417346267, 'f1': 0.7572453321931513, 'auc': 0.8248372906344894, 'prauc': 0.8308872792261702}\n",
      "Test:      {'precision': 0.6932023778736284, 'recall': 0.8410159924714926, 'f1': 0.7599886603885482, 'auc': 0.8256196687348716, 'prauc': 0.8313115268862741}\n",
      "\n",
      "Early stopping triggered (no improvement for 5 epochs).\n",
      "\n",
      "Best validation performance:\n",
      "{'precision': 0.7153324287633234, 'recall': 0.8265914079622873, 'f1': 0.7669479147212115, 'auc': 0.8376863495339887, 'prauc': 0.845320500484377}\n",
      "Corresponding test performance:\n",
      "{'precision': 0.7086110370548957, 'recall': 0.8334901222927767, 'f1': 0.7659942313418203, 'auc': 0.8344826996089588, 'prauc': 0.8431892151447173}\n",
      "[Warning] Missing keys: ['cls_head.cls.0.weight', 'cls_head.cls.0.bias', 'cls_head.cls.2.weight', 'cls_head.cls.2.bias']\n",
      "[Warning] Unexpected keys: ['diag_cls.cls.0.weight', 'diag_cls.cls.0.bias', 'diag_cls.cls.2.weight', 'diag_cls.cls.2.bias', 'med_cls.cls.0.weight', 'med_cls.cls.0.bias', 'med_cls.cls.2.weight', 'med_cls.cls.2.bias', 'lab_cls.cls.0.weight', 'lab_cls.cls.0.bias', 'lab_cls.cls.2.weight', 'lab_cls.cls.2.bias', 'pro_cls.cls.0.weight', 'pro_cls.cls.0.bias', 'pro_cls.cls.2.weight', 'pro_cls.cls.2.bias', 'cls_ontology.cls.0.weight', 'cls_ontology.cls.0.bias', 'cls_ontology.cls.2.weight', 'cls_ontology.cls.2.bias', 'visit_ontology.cls.0.weight', 'visit_ontology.cls.0.bias', 'visit_ontology.cls.2.weight', 'visit_ontology.cls.2.bias', 'adm_type.cls.0.weight', 'adm_type.cls.0.bias', 'adm_type.cls.2.weight', 'adm_type.cls.2.bias']\n"
     ]
    },
    {
     "name": "stderr",
     "output_type": "stream",
     "text": [
      "Epoch 001: 100%|██████████| 98/98 [00:06<00:00, 15.22it/s, loss=0.5743]\n",
      "Running inference: 100%|██████████| 198/198 [00:08<00:00, 22.26it/s]\n",
      "Running inference: 100%|██████████| 197/197 [00:09<00:00, 21.89it/s]\n"
     ]
    },
    {
     "name": "stdout",
     "output_type": "stream",
     "text": [
      "Validation: {'precision': 0.7410296411833354, 'recall': 0.7447475697687528, 'f1': 0.7428839487043076, 'auc': 0.823070865295223, 'prauc': 0.8269596444672752}\n",
      "Test:      {'precision': 0.739008419080951, 'recall': 0.743179680148187, 'f1': 0.7410881751102927, 'auc': 0.8165844971705003, 'prauc': 0.822400875854453}\n"
     ]
    },
    {
     "name": "stderr",
     "output_type": "stream",
     "text": [
      "Epoch 002: 100%|██████████| 98/98 [00:06<00:00, 15.62it/s, loss=0.4955]\n",
      "Running inference: 100%|██████████| 198/198 [00:08<00:00, 22.01it/s]\n",
      "Running inference: 100%|██████████| 197/197 [00:09<00:00, 21.16it/s]\n"
     ]
    },
    {
     "name": "stdout",
     "output_type": "stream",
     "text": [
      "Validation: {'precision': 0.7648514851458104, 'recall': 0.6782690498567631, 'f1': 0.7189629333569745, 'auc': 0.8208248295039351, 'prauc': 0.8239824906084964}\n",
      "Test:      {'precision': 0.7579281183905641, 'recall': 0.6745061147674052, 'f1': 0.7137879492206625, 'auc': 0.8142736342372734, 'prauc': 0.8197385962547254}\n"
     ]
    },
    {
     "name": "stderr",
     "output_type": "stream",
     "text": [
      "Epoch 003: 100%|██████████| 98/98 [00:06<00:00, 15.45it/s, loss=0.4604]\n",
      "Running inference: 100%|██████████| 198/198 [00:09<00:00, 21.76it/s]\n",
      "Running inference: 100%|██████████| 197/197 [00:08<00:00, 21.92it/s]\n"
     ]
    },
    {
     "name": "stdout",
     "output_type": "stream",
     "text": [
      "Validation: {'precision': 0.7686809616609205, 'recall': 0.7419253684517343, 'f1': 0.7550662148810802, 'auc': 0.8380871384924288, 'prauc': 0.8482714402004221}\n",
      "Test:      {'precision': 0.7620115310673863, 'recall': 0.7460018814652054, 'f1': 0.7539217189721881, 'auc': 0.8353581507861847, 'prauc': 0.8448788083983879}\n"
     ]
    },
    {
     "name": "stderr",
     "output_type": "stream",
     "text": [
      "Epoch 004: 100%|██████████| 98/98 [00:06<00:00, 15.56it/s, loss=0.4109]\n",
      "Running inference: 100%|██████████| 198/198 [00:09<00:00, 21.92it/s]\n",
      "Running inference: 100%|██████████| 197/197 [00:09<00:00, 20.95it/s]\n"
     ]
    },
    {
     "name": "stdout",
     "output_type": "stream",
     "text": [
      "Validation: {'precision': 0.7639569049926087, 'recall': 0.7337723424247922, 'f1': 0.7485604556522274, 'auc': 0.83589591101822, 'prauc': 0.8435209327038548}\n",
      "Test:      {'precision': 0.7583870967717472, 'recall': 0.7372216995900369, 'f1': 0.7476546300757425, 'auc': 0.8343333096765717, 'prauc': 0.8423216767752015}\n"
     ]
    },
    {
     "name": "stderr",
     "output_type": "stream",
     "text": [
      "Epoch 005: 100%|██████████| 98/98 [00:06<00:00, 15.29it/s, loss=0.3676]\n",
      "Running inference: 100%|██████████| 198/198 [00:09<00:00, 21.97it/s]\n",
      "Running inference: 100%|██████████| 197/197 [00:09<00:00, 21.69it/s]\n"
     ]
    },
    {
     "name": "stdout",
     "output_type": "stream",
     "text": [
      "Validation: {'precision': 0.6950729009535066, 'recall': 0.8670429601728848, 'f1': 0.7715920140343052, 'auc': 0.8426877717369736, 'prauc': 0.8494583708762548}\n",
      "Test:      {'precision': 0.6904761904744781, 'recall': 0.8730009407310348, 'f1': 0.7710843324154065, 'auc': 0.8379324091089606, 'prauc': 0.8447891206910372}\n"
     ]
    },
    {
     "name": "stderr",
     "output_type": "stream",
     "text": [
      "Epoch 006: 100%|██████████| 98/98 [00:06<00:00, 15.48it/s, loss=0.3284]\n",
      "Running inference: 100%|██████████| 198/198 [00:08<00:00, 22.00it/s]\n",
      "Running inference: 100%|██████████| 197/197 [00:09<00:00, 21.27it/s]\n"
     ]
    },
    {
     "name": "stdout",
     "output_type": "stream",
     "text": [
      "Validation: {'precision': 0.7435590173734465, 'recall': 0.7783004076488608, 'f1': 0.7605331649098815, 'auc': 0.8385364059348113, 'prauc': 0.8435352931719894}\n",
      "Test:      {'precision': 0.7426796805656827, 'recall': 0.7873941674481424, 'f1': 0.764383556645779, 'auc': 0.8378219269992606, 'prauc': 0.8416335608529212}\n"
     ]
    },
    {
     "name": "stderr",
     "output_type": "stream",
     "text": [
      "Epoch 007: 100%|██████████| 98/98 [00:06<00:00, 15.31it/s, loss=0.2924]\n",
      "Running inference: 100%|██████████| 198/198 [00:08<00:00, 22.00it/s]\n",
      "Running inference: 100%|██████████| 197/197 [00:08<00:00, 21.99it/s]\n"
     ]
    },
    {
     "name": "stdout",
     "output_type": "stream",
     "text": [
      "Validation: {'precision': 0.7538119440890921, 'recall': 0.7441204139205264, 'f1': 0.748934822203148, 'auc': 0.8315174247747057, 'prauc': 0.840970965666193}\n",
      "Test:      {'precision': 0.7540006275470537, 'recall': 0.7535277516439213, 'f1': 0.7537641104305095, 'auc': 0.8315943096931819, 'prauc': 0.8386212532035349}\n"
     ]
    },
    {
     "name": "stderr",
     "output_type": "stream",
     "text": [
      "Epoch 008: 100%|██████████| 98/98 [00:06<00:00, 15.57it/s, loss=0.2534]\n",
      "Running inference: 100%|██████████| 198/198 [00:09<00:00, 21.84it/s]\n",
      "Running inference: 100%|██████████| 197/197 [00:09<00:00, 21.11it/s]\n"
     ]
    },
    {
     "name": "stdout",
     "output_type": "stream",
     "text": [
      "Validation: {'precision': 0.7602452403976759, 'recall': 0.7387895892106028, 'f1': 0.7493638626831193, 'auc': 0.8326194688184885, 'prauc': 0.8413176151428419}\n",
      "Test:      {'precision': 0.759922555660665, 'recall': 0.7384760112864895, 'f1': 0.7490457965253595, 'auc': 0.8324256183600629, 'prauc': 0.8387005579741498}\n"
     ]
    },
    {
     "name": "stderr",
     "output_type": "stream",
     "text": [
      "Epoch 009:  88%|████████▊ | 86/98 [00:05<00:00, 15.84it/s, loss=0.2189]"
     ]
    }
   ],
   "source": [
    "final_metrics = []\n",
    "for i in range(15):\n",
    "    model = HeteroGTFineTune(tokenizer=tokenizer, token_types=config.token_type, d_model=config.d_model, num_heads=config.num_heads, layer_types=['gnn', 'tf', 'gnn', 'tf'], max_num_adms=config.max_num_adms, \n",
    "                     device=device, task=curr_task, label_vocab_size=config.label_vocab_size, attn_mask_dicts=config.attn_mask_dicts,\n",
    "                     use_cls_cat=True).to(device)\n",
    "    if config.use_pretrained_model:\n",
    "        model.load_weight(state_dict)\n",
    "    optimizer = torch.optim.AdamW(model.parameters(), lr=config.lr)\n",
    "    best_test_metric = train_with_early_stopping(model, train_dataloader, val_dataloader, test_dataloader,\n",
    "                                             optimizer, loss_fn, device, config.early_stop_patience, task_type, config.epochs, \n",
    "                                             dec_loss_lambda=config.dec_loss_lambda, \n",
    "                                             val_long_seq_idx=None, test_long_seq_idx=None, eval_metric=eval_metric, return_model=False)\n",
    "    final_metrics.append(best_test_metric)"
   ]
  },
  {
   "cell_type": "code",
   "execution_count": null,
   "id": "69b5b571",
   "metadata": {},
   "outputs": [],
   "source": [
    "def topk_avg_performance_formatted(performances, k=5):\n",
    "    metrics = [\"f1\", \"auc\", \"prauc\"]\n",
    "    scores = {m: np.array([p[m] for p in performances]) for m in metrics}\n",
    "\n",
    "    # 计算排名（值越大排名越靠前）\n",
    "    ranks = {m: (-scores[m]).argsort().argsort() + 1 for m in metrics}\n",
    "    avg_ranks = np.mean(np.stack([ranks[m] for m in metrics], axis=1), axis=1)\n",
    "\n",
    "    # 选 top-k\n",
    "    topk_idx = np.argsort(avg_ranks)[:k]\n",
    "    final_avg = {m: np.mean([performances[i][m] for i in topk_idx]) for m in performances[0].keys()}\n",
    "    final_std = {m: np.std([performances[i][m] for i in topk_idx], ddof=0) for m in performances[0].keys()}\n",
    "\n",
    "    # 打印结果（转百分比，均保留两位小数）\n",
    "    print(\"Final Metrics:\")\n",
    "    for m in performances[0].keys():\n",
    "        mean_val = final_avg[m] * 100\n",
    "        std_val = final_std[m] * 100\n",
    "        print(f\"{m}: {mean_val:.2f} ± {std_val:.2f}\")"
   ]
  },
  {
   "cell_type": "code",
   "execution_count": null,
   "id": "e12dd11d-4936-466a-9a97-e10f223539fc",
   "metadata": {
    "tags": []
   },
   "outputs": [
    {
     "name": "stdout",
     "output_type": "stream",
     "text": [
      "Final Metrics:\n",
      "precision: 62.22 ± 1.07\n",
      "recall: 76.43 ± 2.00\n",
      "f1: 68.57 ± 0.37\n",
      "auc: 85.29 ± 0.16\n",
      "prauc: 75.12 ± 0.43\n"
     ]
    }
   ],
   "source": [
    "topk_avg_performance_formatted(final_metrics, 5)"
   ]
  }
 ],
 "metadata": {
  "kernelspec": {
   "display_name": "Python 3",
   "language": "python",
   "name": "python3"
  },
  "language_info": {
   "codemirror_mode": {
    "name": "ipython",
    "version": 3
   },
   "file_extension": ".py",
   "mimetype": "text/x-python",
   "name": "python",
   "nbconvert_exporter": "python",
   "pygments_lexer": "ipython3",
   "version": "3.10.18"
  }
 },
 "nbformat": 4,
 "nbformat_minor": 5
}
