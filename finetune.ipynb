{
 "cells": [
  {
   "cell_type": "code",
   "execution_count": 1,
   "id": "9bc53801",
   "metadata": {},
   "outputs": [
    {
     "name": "stderr",
     "output_type": "stream",
     "text": [
      "Disabling PyTorch because PyTorch >= 2.1 is required but found 1.13.1\n",
      "None of PyTorch, TensorFlow >= 2.0, or Flax have been found. Models won't be available and only tokenizers, configuration and file/data utilities can be used.\n"
     ]
    }
   ],
   "source": [
    "import torch\n",
    "import pickle\n",
    "import numpy as np\n",
    "from argparse import Namespace\n",
    "from torch.utils.data import DataLoader\n",
    "import torch.nn.functional as F\n",
    "from heterogt.utils.tokenizer import EHRTokenizer\n",
    "from heterogt.utils.dataset import FineTuneEHRDataset, batcher, expand_level3\n",
    "from heterogt.utils.train import train_with_early_stopping\n",
    "from heterogt.utils.seed import set_random_seed\n",
    "from heterogt.model.model import HeteroGTFineTune"
   ]
  },
  {
   "cell_type": "code",
   "execution_count": 2,
   "id": "c42d3e09",
   "metadata": {},
   "outputs": [
    {
     "name": "stdout",
     "output_type": "stream",
     "text": [
      "[INFO] Random seed set to 123\n"
     ]
    }
   ],
   "source": [
    "set_random_seed(123)"
   ]
  },
  {
   "cell_type": "code",
   "execution_count": 3,
   "id": "af3d65aa",
   "metadata": {},
   "outputs": [
    {
     "name": "stdout",
     "output_type": "stream",
     "text": [
      "cuda\n"
     ]
    }
   ],
   "source": [
    "device = torch.device(\"cuda\" if torch.cuda.is_available() else \"cpu\")\n",
    "print(device)"
   ]
  },
  {
   "cell_type": "code",
   "execution_count": 4,
   "id": "d073b89b",
   "metadata": {},
   "outputs": [],
   "source": [
    "config = Namespace(\n",
    "    dataset = \"MIMIC-III\",\n",
    "    tasks = [\"death\", \"readmission\", \"stay\", \"next_diag_6m\", \"next_diag_12m\"], \n",
    "    task_index = 2,  # index of the task to train\n",
    "    token_type = [\"diag\", \"med\", \"lab\", \"pro\"],\n",
    "    special_tokens = [\"[PAD]\", \"[CLS]\"],\n",
    "    attn_mask_dicts = [{1:[6,7], 2:[6,7], 3:[6,7], 4:[6,7], 6:[2,3,4,5,6,7], 7:[2,3,4,5,6,7]}, \n",
    "                       {1:[6,7], 2:[6,7], 3:[6,7], 4:[6,7], 6:[2,3,4,5,6,7], 7:[2,3,4,5,6,7]}],\n",
    "    d_model = 64,\n",
    "    num_heads = 4,\n",
    "    batch_size = 32,\n",
    "    lr = 1e-3,\n",
    "    epochs = 500,\n",
    "    early_stop_patience = 5,\n",
    "    group_code_thre = 5,  # if there are group_code_thre diag codes belongs to the same group ICD code, then the group code is generated\n",
    "    use_pretrained_model = True,\n",
    "    pretrain_mask_rate = 0.7,\n",
    "    pretrain_cls_ontology_weight = 5e-2,\n",
    "    pretrain_visit_ontology_weight = 5e-2,\n",
    "    pretrain_adm_type_weight = 5e-2,\n",
    ")"
   ]
  },
  {
   "cell_type": "code",
   "execution_count": 5,
   "id": "bbe56943",
   "metadata": {},
   "outputs": [
    {
     "name": "stdout",
     "output_type": "stream",
     "text": [
      "Current task: stay\n"
     ]
    }
   ],
   "source": [
    "full_data_path = f\"./data_process/{config.dataset}-processed/mimic.pkl\"  # for tokenizer\n",
    "curr_task = config.tasks[config.task_index]\n",
    "print(\"Current task:\", curr_task)\n",
    "if curr_task == \"next_diag_6m\":\n",
    "    finetune_data_path = f\"./data_process/{config.dataset}-processed/mimic_nextdiag_6m.pkl\"\n",
    "elif curr_task == \"next_diag_12m\":\n",
    "    finetune_data_path = f\"./data_process/{config.dataset}-processed/mimic_nextdiag_12m.pkl\"\n",
    "else:\n",
    "    finetune_data_path = f\"./data_process/{config.dataset}-processed/mimic_downstream.pkl\""
   ]
  },
  {
   "cell_type": "code",
   "execution_count": 6,
   "id": "57d4378a",
   "metadata": {},
   "outputs": [
    {
     "name": "stdout",
     "output_type": "stream",
     "text": [
      "Max admissions per patient: 8\n"
     ]
    }
   ],
   "source": [
    "ehr_full_data = pickle.load(open(full_data_path, 'rb'))\n",
    "group_code_sentences = [expand_level3()[1]]\n",
    "diag_sentences = ehr_full_data[\"ICD9_CODE\"].values.tolist()\n",
    "med_sentences = ehr_full_data[\"NDC\"].values.tolist()\n",
    "lab_sentences = ehr_full_data[\"LAB_TEST\"].values.tolist()\n",
    "pro_sentences = ehr_full_data[\"PRO_CODE\"].values.tolist()\n",
    "age_sentences = [[str(c)] for c in set(ehr_full_data[\"AGE\"].values.tolist())] # important of [[]]\n",
    "adm_type_sentences = ehr_full_data[\"ADMISSION_TYPE\"].values.tolist()\n",
    "max_admissions = ehr_full_data.groupby(\"SUBJECT_ID\")[\"HADM_ID\"].nunique().max()\n",
    "config.max_num_adms = max_admissions\n",
    "print(f\"Max admissions per patient: {config.max_num_adms}\")"
   ]
  },
  {
   "cell_type": "code",
   "execution_count": 7,
   "id": "a8db4baa",
   "metadata": {},
   "outputs": [
    {
     "name": "stdout",
     "output_type": "stream",
     "text": [
      "Age vocabulary size: 18\n",
      "Group code vocabulary size: 19\n"
     ]
    }
   ],
   "source": [
    "tokenizer = EHRTokenizer(age_sentences, group_code_sentences, diag_sentences, med_sentences, lab_sentences, \n",
    "                         pro_sentences, special_tokens=config.special_tokens, adm_types_sentences=adm_type_sentences)\n",
    "config.label_vocab_size = len(tokenizer.diag_voc.id2word)  # only for diagnosis\n",
    "config.global_vocab_size = len(tokenizer.vocab.id2word)\n",
    "config.age_vocab_size = tokenizer.token_number(\"age\")\n",
    "config.group_code_vocab_size = tokenizer.token_number(\"group\")\n",
    "print(f\"Age vocabulary size: {config.age_vocab_size}\")\n",
    "print(f\"Group code vocabulary size: {config.group_code_vocab_size}\")"
   ]
  },
  {
   "cell_type": "code",
   "execution_count": 8,
   "id": "4a50b960",
   "metadata": {},
   "outputs": [
    {
     "name": "stdout",
     "output_type": "stream",
     "text": [
      "Percentage of DEATH in test dataset: 28.648477157360407 %\n",
      "Percentage of READMISSION in test dataset: 40.1491116751269 %\n",
      "Percentage of STAY>7 days in test dataset: 50.58692893401015 %\n"
     ]
    }
   ],
   "source": [
    "train_data, val_data, test_data = pickle.load(open(finetune_data_path, 'rb'))\n",
    "# example label percentage\n",
    "print(\"Percentage of DEATH in test dataset:\",\n",
    "      (test_data[\"DEATH\"] == True).mean() * 100, \"%\")\n",
    "\n",
    "print(\"Percentage of READMISSION in test dataset:\",\n",
    "      (test_data[\"READMISSION\"] == 1).mean() * 100, \"%\")\n",
    "\n",
    "print(\"Percentage of STAY>7 days in test dataset:\",\n",
    "      (test_data[\"STAY_DAYS\"] > 7).mean() * 100, \"%\")"
   ]
  },
  {
   "cell_type": "code",
   "execution_count": 9,
   "id": "09f0ec18",
   "metadata": {},
   "outputs": [],
   "source": [
    "train_dataset = FineTuneEHRDataset(train_data, tokenizer, token_type=config.token_type, task=curr_task, \n",
    "                                   max_num_adms=config.max_num_adms, group_code_thre=config.group_code_thre)\n",
    "val_dataset = FineTuneEHRDataset(val_data, tokenizer, token_type=config.token_type, task=curr_task, \n",
    "                                 max_num_adms=config.max_num_adms, group_code_thre=config.group_code_thre)\n",
    "test_dataset = FineTuneEHRDataset(test_data, tokenizer, token_type=config.token_type, task=curr_task, \n",
    "                                   max_num_adms=config.max_num_adms, group_code_thre=config.group_code_thre)"
   ]
  },
  {
   "cell_type": "code",
   "execution_count": 10,
   "id": "98c78018",
   "metadata": {},
   "outputs": [
    {
     "name": "stdout",
     "output_type": "stream",
     "text": [
      "Mean group token numer per patient 0.7971893963589908\n"
     ]
    }
   ],
   "source": [
    "num_group_code = []\n",
    "for i in range(len(train_dataset)):\n",
    "    input_ids, token_types, adm_index, age_ids, diag_group_codes, labels = train_dataset[i]\n",
    "    count = (token_types[0] == 6).sum().item()\n",
    "    num_group_code.append(count)\n",
    "print(\"Mean group token numer per patient\", np.mean(num_group_code))"
   ]
  },
  {
   "cell_type": "code",
   "execution_count": 11,
   "id": "d71f325f",
   "metadata": {},
   "outputs": [],
   "source": [
    "train_dataloader = DataLoader(\n",
    "    train_dataset,\n",
    "    collate_fn=batcher(tokenizer, n_token_type=len(config.token_type), is_pretrain = False),\n",
    "    shuffle=True,\n",
    "    batch_size=config.batch_size,\n",
    ")\n",
    "\n",
    "val_dataloader = DataLoader(\n",
    "    val_dataset,\n",
    "    collate_fn=batcher(tokenizer, n_token_type=len(config.token_type), is_pretrain = False),\n",
    "    shuffle=False,\n",
    "    batch_size=config.batch_size,\n",
    ")\n",
    "\n",
    "test_dataloader = DataLoader(\n",
    "    test_dataset,\n",
    "    collate_fn=batcher(tokenizer, n_token_type=len(config.token_type), is_pretrain = False),\n",
    "    shuffle=False,\n",
    "    batch_size=config.batch_size,\n",
    ")"
   ]
  },
  {
   "cell_type": "code",
   "execution_count": 12,
   "id": "7b46906f",
   "metadata": {},
   "outputs": [
    {
     "name": "stdout",
     "output_type": "stream",
     "text": [
      "All pass!\n"
     ]
    }
   ],
   "source": [
    "for batch in train_dataloader:\n",
    "    pass  # just to check if the dataloader works\n",
    "for batch in val_dataloader:\n",
    "    pass  # just to check if the dataloader works\n",
    "for batch in test_dataloader:\n",
    "    pass  # just to check if the dataloader works\n",
    "print(\"All pass!\")"
   ]
  },
  {
   "cell_type": "code",
   "execution_count": 13,
   "id": "10339a18",
   "metadata": {},
   "outputs": [],
   "source": [
    "if curr_task in [\"death\", \"stay\", \"readmission\"]:\n",
    "    eval_metric = \"f1\"\n",
    "    task_type = \"binary\"\n",
    "    loss_fn = F.binary_cross_entropy_with_logits\n",
    "else:\n",
    "    eval_metric = \"f1\"\n",
    "    task_type = \"l2r\"\n",
    "    loss_fn = lambda x, y: F.binary_cross_entropy_with_logits(x, y)"
   ]
  },
  {
   "cell_type": "code",
   "execution_count": 14,
   "id": "d5717b84",
   "metadata": {},
   "outputs": [
    {
     "name": "stdout",
     "output_type": "stream",
     "text": [
      "Input IDs shape: torch.Size([32, 293])\n",
      "Token Types shape: torch.Size([32, 293])\n",
      "Admission Index shape: torch.Size([32, 293])\n",
      "Age IDs shape: torch.Size([32, 8])\n",
      "Diag Code Group Dict number: 32\n",
      "Labels shape: torch.Size([32, 1])\n"
     ]
    }
   ],
   "source": [
    "input_ids, token_types, adm_index, age_ids, diag_code_group_dicts, labels = next(iter(train_dataloader))\n",
    "print(\"Input IDs shape:\", input_ids.shape)\n",
    "print(\"Token Types shape:\", token_types.shape)\n",
    "print(\"Admission Index shape:\", adm_index.shape)\n",
    "print(\"Age IDs shape:\", age_ids.shape)\n",
    "print(\"Diag Code Group Dict number:\", len(diag_code_group_dicts))\n",
    "print(\"Labels shape:\", labels.shape)"
   ]
  },
  {
   "cell_type": "markdown",
   "id": "814e9e16",
   "metadata": {},
   "source": [
    "# Model Walkthrough"
   ]
  },
  {
   "cell_type": "code",
   "execution_count": 15,
   "id": "af42068a",
   "metadata": {},
   "outputs": [
    {
     "name": "stdout",
     "output_type": "stream",
     "text": [
      "MIMIC-III-0.7-64-0.05-0.05-0.05\n"
     ]
    }
   ],
   "source": [
    "# load pretrained model\n",
    "if config.use_pretrained_model:\n",
    "    pretrain_exp_name = (\n",
    "    f\"{config.dataset}-{config.pretrain_mask_rate}-{config.d_model}-{config.pretrain_cls_ontology_weight}-{config.pretrain_visit_ontology_weight}-{config.pretrain_adm_type_weight}\"\n",
    ")\n",
    "    print(pretrain_exp_name)\n",
    "    save_path = \"./pretrained_models/\" + pretrain_exp_name\n",
    "    state_dict = torch.load(f\"{save_path}/pretrained_model.pt\", map_location=\"cpu\")"
   ]
  },
  {
   "cell_type": "code",
   "execution_count": 16,
   "id": "f0fed5f6-b245-4bc3-b252-f6af0756f18a",
   "metadata": {
    "tags": []
   },
   "outputs": [
    {
     "name": "stdout",
     "output_type": "stream",
     "text": [
      "[Warning] Missing keys: ['cls_head.cls.0.weight', 'cls_head.cls.0.bias', 'cls_head.cls.2.weight', 'cls_head.cls.2.bias']\n",
      "[Warning] Unexpected keys: ['diag_cls.cls.0.weight', 'diag_cls.cls.0.bias', 'diag_cls.cls.2.weight', 'diag_cls.cls.2.bias', 'med_cls.cls.0.weight', 'med_cls.cls.0.bias', 'med_cls.cls.2.weight', 'med_cls.cls.2.bias', 'lab_cls.cls.0.weight', 'lab_cls.cls.0.bias', 'lab_cls.cls.2.weight', 'lab_cls.cls.2.bias', 'pro_cls.cls.0.weight', 'pro_cls.cls.0.bias', 'pro_cls.cls.2.weight', 'pro_cls.cls.2.bias', 'cls_ontology.cls.0.weight', 'cls_ontology.cls.0.bias', 'cls_ontology.cls.2.weight', 'cls_ontology.cls.2.bias', 'visit_ontology.cls.0.weight', 'visit_ontology.cls.0.bias', 'visit_ontology.cls.2.weight', 'visit_ontology.cls.2.bias', 'adm_type.cls.0.weight', 'adm_type.cls.0.bias', 'adm_type.cls.2.weight', 'adm_type.cls.2.bias']\n"
     ]
    },
    {
     "name": "stderr",
     "output_type": "stream",
     "text": [
      "Epoch 001: 100%|██████████| 98/98 [00:06<00:00, 15.18it/s, loss=0.5747]\n",
      "Running inference: 100%|██████████| 198/198 [00:09<00:00, 21.46it/s]\n",
      "Running inference: 100%|██████████| 197/197 [00:12<00:00, 16.25it/s]\n"
     ]
    },
    {
     "name": "stdout",
     "output_type": "stream",
     "text": [
      "Validation: {'precision': 0.6792074241267139, 'recall': 0.8491690184984347, 'f1': 0.7547380106673091, 'auc': 0.822666007158338, 'prauc': 0.830854807705752}\n",
      "Test:      {'precision': 0.6826633165811994, 'recall': 0.8519912198154532, 'f1': 0.7579857671329643, 'auc': 0.818919419533539, 'prauc': 0.8261645372203121}\n"
     ]
    },
    {
     "name": "stderr",
     "output_type": "stream",
     "text": [
      "Epoch 002: 100%|██████████| 98/98 [00:05<00:00, 16.53it/s, loss=0.4980]\n",
      "Running inference: 100%|██████████| 198/198 [00:08<00:00, 22.43it/s]\n",
      "Running inference: 100%|██████████| 197/197 [00:09<00:00, 21.69it/s]\n"
     ]
    },
    {
     "name": "stdout",
     "output_type": "stream",
     "text": [
      "Validation: {'precision': 0.7083333333314169, 'recall': 0.8209470053282504, 'f1': 0.7604938221853977, 'auc': 0.8320041688481985, 'prauc': 0.8438063316112501}\n",
      "Test:      {'precision': 0.7047593439077581, 'recall': 0.8218877391005899, 'f1': 0.7588303366601243, 'auc': 0.8313457123629732, 'prauc': 0.8430718156633308}\n"
     ]
    },
    {
     "name": "stderr",
     "output_type": "stream",
     "text": [
      "Epoch 003: 100%|██████████| 98/98 [00:06<00:00, 15.15it/s, loss=0.4441]\n",
      "Running inference: 100%|██████████| 198/198 [00:09<00:00, 21.71it/s]\n",
      "Running inference: 100%|██████████| 197/197 [00:09<00:00, 21.08it/s]\n"
     ]
    },
    {
     "name": "stdout",
     "output_type": "stream",
     "text": [
      "Validation: {'precision': 0.7816326530585659, 'recall': 0.7206020696120395, 'f1': 0.7498776259407054, 'auc': 0.8423167731836921, 'prauc': 0.8504092798360712}\n",
      "Test:      {'precision': 0.7717687074803682, 'recall': 0.7115083098127579, 'f1': 0.740414418239643, 'auc': 0.8369554351912951, 'prauc': 0.8466263555475906}\n"
     ]
    },
    {
     "name": "stderr",
     "output_type": "stream",
     "text": [
      "Epoch 004: 100%|██████████| 98/98 [00:06<00:00, 15.74it/s, loss=0.4106]\n",
      "Running inference: 100%|██████████| 198/198 [00:09<00:00, 21.98it/s]\n",
      "Running inference: 100%|██████████| 197/197 [00:09<00:00, 21.88it/s]\n"
     ]
    },
    {
     "name": "stdout",
     "output_type": "stream",
     "text": [
      "Validation: {'precision': 0.7555691180935137, 'recall': 0.7764189401041819, 'f1': 0.7658521447047126, 'auc': 0.84660096500818, 'prauc': 0.8542283251907411}\n",
      "Test:      {'precision': 0.7396768402132265, 'recall': 0.7751646284077292, 'f1': 0.7570050478254144, 'auc': 0.8389620319044145, 'prauc': 0.8476321308080849}\n"
     ]
    },
    {
     "name": "stderr",
     "output_type": "stream",
     "text": [
      "Epoch 005: 100%|██████████| 98/98 [00:06<00:00, 16.11it/s, loss=0.3596]\n",
      "Running inference: 100%|██████████| 198/198 [00:09<00:00, 21.95it/s]\n",
      "Running inference: 100%|██████████| 197/197 [00:09<00:00, 21.12it/s]\n"
     ]
    },
    {
     "name": "stdout",
     "output_type": "stream",
     "text": [
      "Validation: {'precision': 0.7324145851256606, 'recall': 0.7999372844126688, 'f1': 0.7646882444078961, 'auc': 0.8336256611033461, 'prauc': 0.8381965098549653}\n",
      "Test:      {'precision': 0.7227247032201167, 'recall': 0.8018187519573478, 'f1': 0.7602200039304784, 'auc': 0.8284860125622437, 'prauc': 0.8324776246368868}\n"
     ]
    },
    {
     "name": "stderr",
     "output_type": "stream",
     "text": [
      "Epoch 006: 100%|██████████| 98/98 [00:06<00:00, 15.91it/s, loss=0.3183]\n",
      "Running inference: 100%|██████████| 198/198 [00:09<00:00, 21.74it/s]\n",
      "Running inference: 100%|██████████| 197/197 [00:09<00:00, 21.89it/s]\n"
     ]
    },
    {
     "name": "stdout",
     "output_type": "stream",
     "text": [
      "Validation: {'precision': 0.726704545452481, 'recall': 0.8021323298814609, 'f1': 0.7625577532451039, 'auc': 0.8337178455779937, 'prauc': 0.8380772843206159}\n",
      "Test:      {'precision': 0.7190221972443973, 'recall': 0.802445907805574, 'f1': 0.7584469422564121, 'auc': 0.8321121411030192, 'prauc': 0.8373763162198841}\n"
     ]
    },
    {
     "name": "stderr",
     "output_type": "stream",
     "text": [
      "Epoch 007: 100%|██████████| 98/98 [00:06<00:00, 15.84it/s, loss=0.2762]\n",
      "Running inference: 100%|██████████| 198/198 [00:09<00:00, 21.90it/s]\n",
      "Running inference: 100%|██████████| 197/197 [00:09<00:00, 21.10it/s]\n"
     ]
    },
    {
     "name": "stdout",
     "output_type": "stream",
     "text": [
      "Validation: {'precision': 0.787698412695287, 'recall': 0.6224521793646207, 'f1': 0.6953932338120636, 'auc': 0.8206966252645342, 'prauc': 0.8286422334971159}\n",
      "Test:      {'precision': 0.7965299684511178, 'recall': 0.6334274067085813, 'f1': 0.705676850957781, 'auc': 0.8264978379229967, 'prauc': 0.8303267662367579}\n"
     ]
    },
    {
     "name": "stderr",
     "output_type": "stream",
     "text": [
      "Epoch 008: 100%|██████████| 98/98 [00:06<00:00, 15.74it/s, loss=0.2534]\n",
      "Running inference: 100%|██████████| 198/198 [00:09<00:00, 21.93it/s]\n",
      "Running inference: 100%|██████████| 197/197 [00:09<00:00, 21.80it/s]\n"
     ]
    },
    {
     "name": "stdout",
     "output_type": "stream",
     "text": [
      "Validation: {'precision': 0.6767283349545358, 'recall': 0.8717466290345822, 'f1': 0.7619569636944589, 'auc': 0.8326533786388627, 'prauc': 0.8372965561683288}\n",
      "Test:      {'precision': 0.6730630846709689, 'recall': 0.8798996550615243, 'f1': 0.7627072524935267, 'auc': 0.8270163740023264, 'prauc': 0.8295986677626425}\n"
     ]
    },
    {
     "name": "stderr",
     "output_type": "stream",
     "text": [
      "Epoch 009: 100%|██████████| 98/98 [00:06<00:00, 15.80it/s, loss=0.2208]\n",
      "Running inference: 100%|██████████| 198/198 [00:09<00:00, 21.93it/s]\n",
      "Running inference: 100%|██████████| 197/197 [00:09<00:00, 21.07it/s]\n"
     ]
    },
    {
     "name": "stdout",
     "output_type": "stream",
     "text": [
      "Validation: {'precision': 0.7195571955699133, 'recall': 0.7949200376268583, 'f1': 0.7553635230196656, 'auc': 0.8210046771438466, 'prauc': 0.8176496970395036}\n",
      "Test:      {'precision': 0.717299578057054, 'recall': 0.7996237064885556, 'f1': 0.7562277530196014, 'auc': 0.8196074286257888, 'prauc': 0.8171624731483098}\n",
      "\n",
      "Early stopping triggered (no improvement for 5 epochs).\n",
      "\n",
      "Best validation performance:\n",
      "{'precision': 0.7555691180935137, 'recall': 0.7764189401041819, 'f1': 0.7658521447047126, 'auc': 0.84660096500818, 'prauc': 0.8542283251907411}\n",
      "Corresponding test performance:\n",
      "{'precision': 0.7396768402132265, 'recall': 0.7751646284077292, 'f1': 0.7570050478254144, 'auc': 0.8389620319044145, 'prauc': 0.8476321308080849}\n",
      "[Warning] Missing keys: ['cls_head.cls.0.weight', 'cls_head.cls.0.bias', 'cls_head.cls.2.weight', 'cls_head.cls.2.bias']\n",
      "[Warning] Unexpected keys: ['diag_cls.cls.0.weight', 'diag_cls.cls.0.bias', 'diag_cls.cls.2.weight', 'diag_cls.cls.2.bias', 'med_cls.cls.0.weight', 'med_cls.cls.0.bias', 'med_cls.cls.2.weight', 'med_cls.cls.2.bias', 'lab_cls.cls.0.weight', 'lab_cls.cls.0.bias', 'lab_cls.cls.2.weight', 'lab_cls.cls.2.bias', 'pro_cls.cls.0.weight', 'pro_cls.cls.0.bias', 'pro_cls.cls.2.weight', 'pro_cls.cls.2.bias', 'cls_ontology.cls.0.weight', 'cls_ontology.cls.0.bias', 'cls_ontology.cls.2.weight', 'cls_ontology.cls.2.bias', 'visit_ontology.cls.0.weight', 'visit_ontology.cls.0.bias', 'visit_ontology.cls.2.weight', 'visit_ontology.cls.2.bias', 'adm_type.cls.0.weight', 'adm_type.cls.0.bias', 'adm_type.cls.2.weight', 'adm_type.cls.2.bias']\n"
     ]
    },
    {
     "name": "stderr",
     "output_type": "stream",
     "text": [
      "Epoch 001: 100%|██████████| 98/98 [00:06<00:00, 15.70it/s, loss=0.5675]\n",
      "Running inference: 100%|██████████| 198/198 [00:09<00:00, 21.94it/s]\n",
      "Running inference: 100%|██████████| 197/197 [00:09<00:00, 21.81it/s]\n"
     ]
    },
    {
     "name": "stdout",
     "output_type": "stream",
     "text": [
      "Validation: {'precision': 0.7842757552254676, 'recall': 0.6349952963291471, 'f1': 0.7017847810518436, 'auc': 0.8186682654016645, 'prauc': 0.8241566097712795}\n",
      "Test:      {'precision': 0.7849462365561254, 'recall': 0.6409532768872971, 'f1': 0.7056792631307206, 'auc': 0.8168787470171088, 'prauc': 0.8236295497748602}\n"
     ]
    },
    {
     "name": "stderr",
     "output_type": "stream",
     "text": [
      "Epoch 002: 100%|██████████| 98/98 [00:06<00:00, 16.08it/s, loss=0.5034]\n",
      "Running inference: 100%|██████████| 198/198 [00:09<00:00, 21.88it/s]\n",
      "Running inference: 100%|██████████| 197/197 [00:09<00:00, 21.09it/s]\n"
     ]
    },
    {
     "name": "stdout",
     "output_type": "stream",
     "text": [
      "Validation: {'precision': 0.7716119290269098, 'recall': 0.6409532768872971, 'f1': 0.7002398031938573, 'auc': 0.8105555292649788, 'prauc': 0.8153757560645026}\n",
      "Test:      {'precision': 0.7697657393822483, 'recall': 0.6594543744099736, 'f1': 0.7103529759427727, 'auc': 0.8133766403069943, 'prauc': 0.8133580075078042}\n"
     ]
    },
    {
     "name": "stderr",
     "output_type": "stream",
     "text": [
      "Epoch 003: 100%|██████████| 98/98 [00:06<00:00, 16.12it/s, loss=0.4706]\n",
      "Running inference: 100%|██████████| 198/198 [00:09<00:00, 21.74it/s]\n",
      "Running inference: 100%|██████████| 197/197 [00:08<00:00, 22.02it/s]\n"
     ]
    },
    {
     "name": "stdout",
     "output_type": "stream",
     "text": [
      "Validation: {'precision': 0.7152833736215007, 'recall': 0.8350580119133426, 'f1': 0.7705439765090951, 'auc': 0.8383170219561817, 'prauc': 0.8450722726701334}\n",
      "Test:      {'precision': 0.7083333333314535, 'recall': 0.8369394794580215, 'f1': 0.7672847442059211, 'auc': 0.8364823502942247, 'prauc': 0.8442554595581607}\n"
     ]
    },
    {
     "name": "stderr",
     "output_type": "stream",
     "text": [
      "Epoch 004: 100%|██████████| 98/98 [00:06<00:00, 15.78it/s, loss=0.4131]\n",
      "Running inference: 100%|██████████| 198/198 [00:09<00:00, 21.91it/s]\n",
      "Running inference: 100%|██████████| 197/197 [00:09<00:00, 21.07it/s]\n"
     ]
    },
    {
     "name": "stdout",
     "output_type": "stream",
     "text": [
      "Validation: {'precision': 0.7774753317428463, 'recall': 0.7165255565985684, 'f1': 0.7457571751625458, 'auc': 0.8401241390798975, 'prauc': 0.8509883915201588}\n",
      "Test:      {'precision': 0.770475227499931, 'recall': 0.7168391345226817, 'f1': 0.7426900534836218, 'auc': 0.8337334849379411, 'prauc': 0.8421845809284333}\n"
     ]
    },
    {
     "name": "stderr",
     "output_type": "stream",
     "text": [
      "Epoch 005: 100%|██████████| 98/98 [00:06<00:00, 16.05it/s, loss=0.3709]\n",
      "Running inference: 100%|██████████| 198/198 [00:09<00:00, 21.87it/s]\n",
      "Running inference: 100%|██████████| 197/197 [00:09<00:00, 21.37it/s]\n"
     ]
    },
    {
     "name": "stdout",
     "output_type": "stream",
     "text": [
      "Validation: {'precision': 0.7495303694403584, 'recall': 0.7507055503269028, 'f1': 0.7501174946059874, 'auc': 0.8257488368429244, 'prauc': 0.8331969891634893}\n",
      "Test:      {'precision': 0.7379793061450457, 'recall': 0.7604264659744108, 'f1': 0.7490347440335577, 'auc': 0.8230355450392022, 'prauc': 0.8282856668015244}\n"
     ]
    },
    {
     "name": "stderr",
     "output_type": "stream",
     "text": [
      "Epoch 006: 100%|██████████| 98/98 [00:06<00:00, 15.94it/s, loss=0.3239]\n",
      "Running inference: 100%|██████████| 198/198 [00:09<00:00, 21.96it/s]\n",
      "Running inference: 100%|██████████| 197/197 [00:09<00:00, 21.11it/s]\n"
     ]
    },
    {
     "name": "stdout",
     "output_type": "stream",
     "text": [
      "Validation: {'precision': 0.744712990934306, 'recall': 0.7729695829389371, 'f1': 0.7585782378059844, 'auc': 0.8357029515810969, 'prauc': 0.8435896827865194}\n",
      "Test:      {'precision': 0.7397462378260852, 'recall': 0.7861398557516898, 'f1': 0.7622377572400669, 'auc': 0.8338256959743742, 'prauc': 0.838048060498852}\n"
     ]
    },
    {
     "name": "stderr",
     "output_type": "stream",
     "text": [
      "Epoch 007: 100%|██████████| 98/98 [00:06<00:00, 16.03it/s, loss=0.2930]\n",
      "Running inference: 100%|██████████| 198/198 [00:09<00:00, 21.94it/s]\n",
      "Running inference: 100%|██████████| 197/197 [00:08<00:00, 22.03it/s]\n"
     ]
    },
    {
     "name": "stdout",
     "output_type": "stream",
     "text": [
      "Validation: {'precision': 0.7575757575733154, 'recall': 0.7369081216659238, 'f1': 0.7470990253594142, 'auc': 0.8303652444335398, 'prauc': 0.8373305604543384}\n",
      "Test:      {'precision': 0.7542838667935523, 'recall': 0.731577296956, 'f1': 0.7427570787300988, 'auc': 0.828716842154537, 'prauc': 0.833869587964253}\n"
     ]
    },
    {
     "name": "stderr",
     "output_type": "stream",
     "text": [
      "Epoch 008: 100%|██████████| 98/98 [00:06<00:00, 15.34it/s, loss=0.2434]\n",
      "Running inference: 100%|██████████| 198/198 [00:09<00:00, 21.91it/s]\n",
      "Running inference: 100%|██████████| 197/197 [00:09<00:00, 21.07it/s]\n"
     ]
    },
    {
     "name": "stdout",
     "output_type": "stream",
     "text": [
      "Validation: {'precision': 0.7127807041843284, 'recall': 0.806208842894932, 'f1': 0.7566215371002675, 'auc': 0.8199918536052269, 'prauc': 0.8224695639472513}\n",
      "Test:      {'precision': 0.7113945106717178, 'recall': 0.8046409532743661, 'f1': 0.755150083303921, 'auc': 0.8166383037195979, 'prauc': 0.8193811647691651}\n",
      "\n",
      "Early stopping triggered (no improvement for 5 epochs).\n",
      "\n",
      "Best validation performance:\n",
      "{'precision': 0.7152833736215007, 'recall': 0.8350580119133426, 'f1': 0.7705439765090951, 'auc': 0.8383170219561817, 'prauc': 0.8450722726701334}\n",
      "Corresponding test performance:\n",
      "{'precision': 0.7083333333314535, 'recall': 0.8369394794580215, 'f1': 0.7672847442059211, 'auc': 0.8364823502942247, 'prauc': 0.8442554595581607}\n",
      "[Warning] Missing keys: ['cls_head.cls.0.weight', 'cls_head.cls.0.bias', 'cls_head.cls.2.weight', 'cls_head.cls.2.bias']\n",
      "[Warning] Unexpected keys: ['diag_cls.cls.0.weight', 'diag_cls.cls.0.bias', 'diag_cls.cls.2.weight', 'diag_cls.cls.2.bias', 'med_cls.cls.0.weight', 'med_cls.cls.0.bias', 'med_cls.cls.2.weight', 'med_cls.cls.2.bias', 'lab_cls.cls.0.weight', 'lab_cls.cls.0.bias', 'lab_cls.cls.2.weight', 'lab_cls.cls.2.bias', 'pro_cls.cls.0.weight', 'pro_cls.cls.0.bias', 'pro_cls.cls.2.weight', 'pro_cls.cls.2.bias', 'cls_ontology.cls.0.weight', 'cls_ontology.cls.0.bias', 'cls_ontology.cls.2.weight', 'cls_ontology.cls.2.bias', 'visit_ontology.cls.0.weight', 'visit_ontology.cls.0.bias', 'visit_ontology.cls.2.weight', 'visit_ontology.cls.2.bias', 'adm_type.cls.0.weight', 'adm_type.cls.0.bias', 'adm_type.cls.2.weight', 'adm_type.cls.2.bias']\n"
     ]
    },
    {
     "name": "stderr",
     "output_type": "stream",
     "text": [
      "Epoch 001: 100%|██████████| 98/98 [00:06<00:00, 15.67it/s, loss=0.5790]\n",
      "Running inference: 100%|██████████| 198/198 [00:09<00:00, 21.98it/s]\n",
      "Running inference: 100%|██████████| 197/197 [00:08<00:00, 21.92it/s]\n"
     ]
    },
    {
     "name": "stdout",
     "output_type": "stream",
     "text": [
      "Validation: {'precision': 0.6966262519749694, 'recall': 0.8287864534310794, 'f1': 0.7569812351900249, 'auc': 0.8262144312358577, 'prauc': 0.833180209247476}\n",
      "Test:      {'precision': 0.6910994764379814, 'recall': 0.8278457196587399, 'f1': 0.7533171586851148, 'auc': 0.8178239604740815, 'prauc': 0.8251817690300831}\n"
     ]
    },
    {
     "name": "stderr",
     "output_type": "stream",
     "text": [
      "Epoch 002: 100%|██████████| 98/98 [00:06<00:00, 15.64it/s, loss=0.4969]\n",
      "Running inference: 100%|██████████| 198/198 [00:09<00:00, 21.85it/s]\n",
      "Running inference: 100%|██████████| 197/197 [00:09<00:00, 21.08it/s]\n"
     ]
    },
    {
     "name": "stdout",
     "output_type": "stream",
     "text": [
      "Validation: {'precision': 0.8208045509921951, 'recall': 0.6334274067085813, 'f1': 0.7150442428680905, 'auc': 0.8400418512491223, 'prauc': 0.848782284284588}\n",
      "Test:      {'precision': 0.8091944670430872, 'recall': 0.6237064910610733, 'f1': 0.7044448330483528, 'auc': 0.8301927220728156, 'prauc': 0.8389497521342695}\n"
     ]
    },
    {
     "name": "stderr",
     "output_type": "stream",
     "text": [
      "Epoch 003: 100%|██████████| 98/98 [00:06<00:00, 15.79it/s, loss=0.4608]\n",
      "Running inference: 100%|██████████| 198/198 [00:09<00:00, 21.82it/s]\n",
      "Running inference: 100%|██████████| 197/197 [00:09<00:00, 21.80it/s]\n"
     ]
    },
    {
     "name": "stdout",
     "output_type": "stream",
     "text": [
      "Validation: {'precision': 0.6774735830915527, 'recall': 0.8846033239232217, 'f1': 0.7673058566389329, 'auc': 0.8391805418116123, 'prauc': 0.8449787080181048}\n",
      "Test:      {'precision': 0.6748201438832738, 'recall': 0.8824082784544296, 'f1': 0.7647778181605616, 'auc': 0.8319350173927531, 'prauc': 0.8378439133787338}\n"
     ]
    },
    {
     "name": "stderr",
     "output_type": "stream",
     "text": [
      "Epoch 004: 100%|██████████| 98/98 [00:06<00:00, 15.64it/s, loss=0.4170]\n",
      "Running inference: 100%|██████████| 198/198 [00:09<00:00, 21.56it/s]\n",
      "Running inference: 100%|██████████| 197/197 [00:09<00:00, 20.98it/s]\n"
     ]
    },
    {
     "name": "stdout",
     "output_type": "stream",
     "text": [
      "Validation: {'precision': 0.6896039603943327, 'recall': 0.8736280965792611, 'f1': 0.7707843359165147, 'auc': 0.8394893472424887, 'prauc': 0.8470547909197055}\n",
      "Test:      {'precision': 0.6819960861040069, 'recall': 0.8742552524274875, 'f1': 0.7662498233001219, 'auc': 0.8360186777682312, 'prauc': 0.8436823588431661}\n"
     ]
    },
    {
     "name": "stderr",
     "output_type": "stream",
     "text": [
      "Epoch 005: 100%|██████████| 98/98 [00:06<00:00, 16.24it/s, loss=0.3778]\n",
      "Running inference: 100%|██████████| 198/198 [00:09<00:00, 21.81it/s]\n",
      "Running inference: 100%|██████████| 197/197 [00:09<00:00, 21.88it/s]\n"
     ]
    },
    {
     "name": "stdout",
     "output_type": "stream",
     "text": [
      "Validation: {'precision': 0.7068077027374375, 'recall': 0.8171840702388925, 'f1': 0.7579988315568907, 'auc': 0.8255401532965017, 'prauc': 0.8296207297100683}\n",
      "Test:      {'precision': 0.7073170731688149, 'recall': 0.8184383819353451, 'f1': 0.7588312204931333, 'auc': 0.8270902636319571, 'prauc': 0.8317877935056079}\n"
     ]
    },
    {
     "name": "stderr",
     "output_type": "stream",
     "text": [
      "Epoch 006: 100%|██████████| 98/98 [00:06<00:00, 15.87it/s, loss=0.3344]\n",
      "Running inference: 100%|██████████| 198/198 [00:09<00:00, 21.77it/s]\n",
      "Running inference: 100%|██████████| 197/197 [00:09<00:00, 21.14it/s]\n"
     ]
    },
    {
     "name": "stdout",
     "output_type": "stream",
     "text": [
      "Validation: {'precision': 0.7302189781000578, 'recall': 0.7842583882070108, 'f1': 0.7562745640999364, 'auc': 0.8282152111114895, 'prauc': 0.8357730900587457}\n",
      "Test:      {'precision': 0.7262390670532763, 'recall': 0.7811226089658793, 'f1': 0.7526816689732317, 'auc': 0.8263657123931734, 'prauc': 0.8314843580121811}\n"
     ]
    },
    {
     "name": "stderr",
     "output_type": "stream",
     "text": [
      "Epoch 007: 100%|██████████| 98/98 [00:06<00:00, 16.11it/s, loss=0.2926]\n",
      "Running inference: 100%|██████████| 198/198 [00:09<00:00, 21.89it/s]\n",
      "Running inference: 100%|██████████| 197/197 [00:08<00:00, 21.92it/s]\n"
     ]
    },
    {
     "name": "stdout",
     "output_type": "stream",
     "text": [
      "Validation: {'precision': 0.7431050511287788, 'recall': 0.7519598620233554, 'f1': 0.7475062294118106, 'auc': 0.8281032333490976, 'prauc': 0.8342621289943501}\n",
      "Test:      {'precision': 0.7360145146636347, 'recall': 0.7632486672914292, 'f1': 0.7493842314525445, 'auc': 0.8270820089321892, 'prauc': 0.8319527403756439}\n"
     ]
    },
    {
     "name": "stderr",
     "output_type": "stream",
     "text": [
      "Epoch 008: 100%|██████████| 98/98 [00:06<00:00, 15.98it/s, loss=0.2500]\n",
      "Running inference: 100%|██████████| 198/198 [00:09<00:00, 21.86it/s]\n",
      "Running inference: 100%|██████████| 197/197 [00:09<00:00, 21.04it/s]\n"
     ]
    },
    {
     "name": "stdout",
     "output_type": "stream",
     "text": [
      "Validation: {'precision': 0.7413056741893188, 'recall': 0.7619943555949765, 'f1': 0.7515076492432495, 'auc': 0.825904621069563, 'prauc': 0.8317544692084615}\n",
      "Test:      {'precision': 0.7392996108927289, 'recall': 0.7745374725595029, 'f1': 0.756508417665017, 'auc': 0.8325610155696723, 'prauc': 0.8384281084904956}\n"
     ]
    },
    {
     "name": "stderr",
     "output_type": "stream",
     "text": [
      "Epoch 009: 100%|██████████| 98/98 [00:06<00:00, 15.86it/s, loss=0.2129]\n",
      "Running inference: 100%|██████████| 198/198 [00:09<00:00, 21.79it/s]\n",
      "Running inference: 100%|██████████| 197/197 [00:09<00:00, 21.65it/s]\n"
     ]
    },
    {
     "name": "stdout",
     "output_type": "stream",
     "text": [
      "Validation: {'precision': 0.7322647669909995, 'recall': 0.7735967387871634, 'f1': 0.7523635204665533, 'auc': 0.8306559143901121, 'prauc': 0.8389372463170357}\n",
      "Test:      {'precision': 0.7361639824282983, 'recall': 0.7883349012204819, 'f1': 0.7613567484862876, 'auc': 0.832483954927326, 'prauc': 0.8384170346473098}\n",
      "\n",
      "Early stopping triggered (no improvement for 5 epochs).\n",
      "\n",
      "Best validation performance:\n",
      "{'precision': 0.6896039603943327, 'recall': 0.8736280965792611, 'f1': 0.7707843359165147, 'auc': 0.8394893472424887, 'prauc': 0.8470547909197055}\n",
      "Corresponding test performance:\n",
      "{'precision': 0.6819960861040069, 'recall': 0.8742552524274875, 'f1': 0.7662498233001219, 'auc': 0.8360186777682312, 'prauc': 0.8436823588431661}\n",
      "[Warning] Missing keys: ['cls_head.cls.0.weight', 'cls_head.cls.0.bias', 'cls_head.cls.2.weight', 'cls_head.cls.2.bias']\n",
      "[Warning] Unexpected keys: ['diag_cls.cls.0.weight', 'diag_cls.cls.0.bias', 'diag_cls.cls.2.weight', 'diag_cls.cls.2.bias', 'med_cls.cls.0.weight', 'med_cls.cls.0.bias', 'med_cls.cls.2.weight', 'med_cls.cls.2.bias', 'lab_cls.cls.0.weight', 'lab_cls.cls.0.bias', 'lab_cls.cls.2.weight', 'lab_cls.cls.2.bias', 'pro_cls.cls.0.weight', 'pro_cls.cls.0.bias', 'pro_cls.cls.2.weight', 'pro_cls.cls.2.bias', 'cls_ontology.cls.0.weight', 'cls_ontology.cls.0.bias', 'cls_ontology.cls.2.weight', 'cls_ontology.cls.2.bias', 'visit_ontology.cls.0.weight', 'visit_ontology.cls.0.bias', 'visit_ontology.cls.2.weight', 'visit_ontology.cls.2.bias', 'adm_type.cls.0.weight', 'adm_type.cls.0.bias', 'adm_type.cls.2.weight', 'adm_type.cls.2.bias']\n"
     ]
    },
    {
     "name": "stderr",
     "output_type": "stream",
     "text": [
      "Epoch 001: 100%|██████████| 98/98 [00:06<00:00, 16.02it/s, loss=0.5921]\n",
      "Running inference: 100%|██████████| 198/198 [00:09<00:00, 21.73it/s]\n",
      "Running inference: 100%|██████████| 197/197 [00:09<00:00, 20.98it/s]\n"
     ]
    },
    {
     "name": "stdout",
     "output_type": "stream",
     "text": [
      "Validation: {'precision': 0.7143665158350838, 'recall': 0.7920978363098398, 'f1': 0.7512267608103343, 'auc': 0.821627160972379, 'prauc': 0.8302002241141615}\n",
      "Test:      {'precision': 0.7169433314232486, 'recall': 0.7855126999034635, 'f1': 0.7496633198622783, 'auc': 0.818215152709429, 'prauc': 0.8253043245691263}\n"
     ]
    },
    {
     "name": "stderr",
     "output_type": "stream",
     "text": [
      "Epoch 002: 100%|██████████| 98/98 [00:06<00:00, 15.94it/s, loss=0.5118]\n",
      "Running inference: 100%|██████████| 198/198 [00:09<00:00, 21.79it/s]\n",
      "Running inference: 100%|██████████| 197/197 [00:09<00:00, 21.70it/s]\n"
     ]
    },
    {
     "name": "stdout",
     "output_type": "stream",
     "text": [
      "Validation: {'precision': 0.7970037453153671, 'recall': 0.6672938225128024, 'f1': 0.7264038182147708, 'auc': 0.8369362140705359, 'prauc': 0.8443010430383167}\n",
      "Test:      {'precision': 0.7924879137196263, 'recall': 0.668234556285142, 'f1': 0.725076551685634, 'auc': 0.8327221332157542, 'prauc': 0.8416169678012548}\n"
     ]
    },
    {
     "name": "stderr",
     "output_type": "stream",
     "text": [
      "Epoch 003: 100%|██████████| 98/98 [00:06<00:00, 15.60it/s, loss=0.4572]\n",
      "Running inference: 100%|██████████| 198/198 [00:09<00:00, 21.93it/s]\n",
      "Running inference: 100%|██████████| 197/197 [00:09<00:00, 21.13it/s]\n"
     ]
    },
    {
     "name": "stdout",
     "output_type": "stream",
     "text": [
      "Validation: {'precision': 0.7515413070260434, 'recall': 0.7645029789878818, 'f1': 0.7579667290256789, 'auc': 0.8302206127700466, 'prauc': 0.8394579770069339}\n",
      "Test:      {'precision': 0.7443355786872494, 'recall': 0.7623079335190897, 'f1': 0.7532145573531416, 'auc': 0.8291467912119661, 'prauc': 0.839304465015988}\n"
     ]
    },
    {
     "name": "stderr",
     "output_type": "stream",
     "text": [
      "Epoch 004: 100%|██████████| 98/98 [00:06<00:00, 15.99it/s, loss=0.4090]\n",
      "Running inference: 100%|██████████| 198/198 [00:09<00:00, 21.91it/s]\n",
      "Running inference: 100%|██████████| 197/197 [00:09<00:00, 21.86it/s]\n"
     ]
    },
    {
     "name": "stdout",
     "output_type": "stream",
     "text": [
      "Validation: {'precision': 0.7986060161379361, 'recall': 0.6826591407943473, 'f1': 0.7360946695843595, 'auc': 0.8400729980470958, 'prauc': 0.8483795372272149}\n",
      "Test:      {'precision': 0.793279766249842, 'recall': 0.6810912511737814, 'f1': 0.7329171537914511, 'auc': 0.8357171295590228, 'prauc': 0.8450242335659803}\n"
     ]
    },
    {
     "name": "stderr",
     "output_type": "stream",
     "text": [
      "Epoch 005: 100%|██████████| 98/98 [00:06<00:00, 16.13it/s, loss=0.3788]\n",
      "Running inference: 100%|██████████| 198/198 [00:08<00:00, 22.26it/s]\n",
      "Running inference: 100%|██████████| 197/197 [00:09<00:00, 21.18it/s]\n"
     ]
    },
    {
     "name": "stdout",
     "output_type": "stream",
     "text": [
      "Validation: {'precision': 0.7824868651461209, 'recall': 0.7005330824687973, 'f1': 0.7392455277725848, 'auc': 0.8383416882107059, 'prauc': 0.8451148210496865}\n",
      "Test:      {'precision': 0.7809557028225289, 'recall': 0.7021009720893632, 'f1': 0.7394319633075984, 'auc': 0.8365442605424849, 'prauc': 0.842997433529673}\n"
     ]
    },
    {
     "name": "stderr",
     "output_type": "stream",
     "text": [
      "Epoch 006: 100%|██████████| 98/98 [00:06<00:00, 15.83it/s, loss=0.3212]\n",
      "Running inference: 100%|██████████| 198/198 [00:09<00:00, 21.92it/s]\n",
      "Running inference: 100%|██████████| 197/197 [00:08<00:00, 22.04it/s]\n"
     ]
    },
    {
     "name": "stdout",
     "output_type": "stream",
     "text": [
      "Validation: {'precision': 0.7294700058219876, 'recall': 0.7855126999034635, 'f1': 0.7564547738057055, 'auc': 0.8327245641432636, 'prauc': 0.8421835174948925}\n",
      "Test:      {'precision': 0.7335468840980386, 'recall': 0.7899027908410476, 'f1': 0.760682465184222, 'auc': 0.8366386862544651, 'prauc': 0.8434330199077484}\n"
     ]
    },
    {
     "name": "stderr",
     "output_type": "stream",
     "text": [
      "Epoch 007: 100%|██████████| 98/98 [00:06<00:00, 15.75it/s, loss=0.2723]\n",
      "Running inference: 100%|██████████| 198/198 [00:08<00:00, 22.13it/s]\n",
      "Running inference: 100%|██████████| 197/197 [00:09<00:00, 21.14it/s]\n"
     ]
    },
    {
     "name": "stdout",
     "output_type": "stream",
     "text": [
      "Validation: {'precision': 0.7585519760851592, 'recall': 0.7162119786744553, 'f1': 0.7367741885501318, 'auc': 0.8255251325019951, 'prauc': 0.8304256636755244}\n",
      "Test:      {'precision': 0.7560570859583271, 'recall': 0.7143305111297763, 'f1': 0.734601736375408, 'auc': 0.8246056493353204, 'prauc': 0.8290606819095669}\n"
     ]
    },
    {
     "name": "stderr",
     "output_type": "stream",
     "text": [
      "Epoch 008: 100%|██████████| 98/98 [00:06<00:00, 16.00it/s, loss=0.2374]\n",
      "Running inference: 100%|██████████| 198/198 [00:09<00:00, 21.87it/s]\n",
      "Running inference: 100%|██████████| 197/197 [00:09<00:00, 21.81it/s]\n"
     ]
    },
    {
     "name": "stdout",
     "output_type": "stream",
     "text": [
      "Validation: {'precision': 0.7053451517574393, 'recall': 0.8234556287211557, 'f1': 0.7598379579906076, 'auc': 0.8257675249217085, 'prauc': 0.8312143846272582}\n",
      "Test:      {'precision': 0.7064171122975764, 'recall': 0.8284728755069662, 'f1': 0.7625919996476878, 'auc': 0.8304202296517875, 'prauc': 0.8348586224548356}\n"
     ]
    },
    {
     "name": "stderr",
     "output_type": "stream",
     "text": [
      "Epoch 009: 100%|██████████| 98/98 [00:06<00:00, 15.97it/s, loss=0.2036]\n",
      "Running inference: 100%|██████████| 198/198 [00:08<00:00, 22.08it/s]\n",
      "Running inference: 100%|██████████| 197/197 [00:09<00:00, 21.10it/s]\n"
     ]
    },
    {
     "name": "stdout",
     "output_type": "stream",
     "text": [
      "Validation: {'precision': 0.77093772369087, 'recall': 0.6754468485397446, 'f1': 0.7200401086747434, 'auc': 0.8139006451305648, 'prauc': 0.8171345654482485}\n",
      "Test:      {'precision': 0.7676912080029746, 'recall': 0.6735653809950657, 'f1': 0.7175546968729459, 'auc': 0.8173568149341612, 'prauc': 0.8210616802423151}\n"
     ]
    },
    {
     "name": "stderr",
     "output_type": "stream",
     "text": [
      "Epoch 010: 100%|██████████| 98/98 [00:06<00:00, 15.41it/s, loss=0.1771]\n",
      "Running inference: 100%|██████████| 198/198 [00:09<00:00, 21.77it/s]\n",
      "Running inference: 100%|██████████| 197/197 [00:08<00:00, 21.95it/s]\n"
     ]
    },
    {
     "name": "stdout",
     "output_type": "stream",
     "text": [
      "Validation: {'precision': 0.6750243427442185, 'recall': 0.8695515835657901, 'f1': 0.7600383670108954, 'auc': 0.8201830547553676, 'prauc': 0.8205928904672528}\n",
      "Test:      {'precision': 0.6690527320432617, 'recall': 0.879272499213298, 'f1': 0.7598915940061005, 'auc': 0.8204986845330583, 'prauc': 0.8205558801013838}\n"
     ]
    },
    {
     "name": "stderr",
     "output_type": "stream",
     "text": [
      "Epoch 011: 100%|██████████| 98/98 [00:06<00:00, 15.55it/s, loss=0.1591]\n",
      "Running inference: 100%|██████████| 198/198 [00:09<00:00, 21.84it/s]\n",
      "Running inference: 100%|██████████| 197/197 [00:09<00:00, 21.08it/s]\n"
     ]
    },
    {
     "name": "stdout",
     "output_type": "stream",
     "text": [
      "Validation: {'precision': 0.7266165413511981, 'recall': 0.7576042646573923, 'f1': 0.7417869154788704, 'auc': 0.8146920752197181, 'prauc': 0.8167193041362865}\n",
      "Test:      {'precision': 0.7323216995425423, 'recall': 0.7566635308850528, 'f1': 0.7442936408966345, 'auc': 0.8204439216467925, 'prauc': 0.8258526067897177}\n"
     ]
    },
    {
     "name": "stderr",
     "output_type": "stream",
     "text": [
      "Epoch 012: 100%|██████████| 98/98 [00:05<00:00, 16.39it/s, loss=0.1570]\n",
      "Running inference: 100%|██████████| 198/198 [00:09<00:00, 21.85it/s]\n",
      "Running inference: 100%|██████████| 197/197 [00:09<00:00, 21.79it/s]\n"
     ]
    },
    {
     "name": "stdout",
     "output_type": "stream",
     "text": [
      "Validation: {'precision': 0.6740614334454558, 'recall': 0.8670429601728848, 'f1': 0.7584693408450794, 'auc': 0.817278515370794, 'prauc': 0.818746100448007}\n",
      "Test:      {'precision': 0.6743063932432466, 'recall': 0.8764502978962796, 'f1': 0.7622034311341475, 'auc': 0.8214401733084283, 'prauc': 0.8204535661113405}\n"
     ]
    },
    {
     "name": "stderr",
     "output_type": "stream",
     "text": [
      "Epoch 013: 100%|██████████| 98/98 [00:06<00:00, 15.48it/s, loss=0.1375]\n",
      "Running inference: 100%|██████████| 198/198 [00:08<00:00, 22.04it/s]\n",
      "Running inference: 100%|██████████| 197/197 [00:09<00:00, 20.48it/s]\n"
     ]
    },
    {
     "name": "stdout",
     "output_type": "stream",
     "text": [
      "Validation: {'precision': 0.771785714282958, 'recall': 0.6776418940085367, 'f1': 0.7216563650303723, 'auc': 0.8214273693344101, 'prauc': 0.8261548090966804}\n",
      "Test:      {'precision': 0.7733711048131254, 'recall': 0.6848541862631394, 'f1': 0.7264260718495347, 'auc': 0.8232807700225546, 'prauc': 0.8277047029153277}\n"
     ]
    },
    {
     "name": "stderr",
     "output_type": "stream",
     "text": [
      "Epoch 014: 100%|██████████| 98/98 [00:06<00:00, 15.53it/s, loss=0.1073]\n",
      "Running inference: 100%|██████████| 198/198 [00:08<00:00, 22.44it/s]\n",
      "Running inference: 100%|██████████| 197/197 [00:09<00:00, 21.79it/s]\n"
     ]
    },
    {
     "name": "stdout",
     "output_type": "stream",
     "text": [
      "Validation: {'precision': 0.7099322799077034, 'recall': 0.7889620570687083, 'f1': 0.7473637258894461, 'auc': 0.814882422344753, 'prauc': 0.8203371103822525}\n",
      "Test:      {'precision': 0.7158734682225253, 'recall': 0.7877077453722555, 'f1': 0.7500746441581726, 'auc': 0.8170041781867546, 'prauc': 0.8194397976416351}\n"
     ]
    },
    {
     "name": "stderr",
     "output_type": "stream",
     "text": [
      "Epoch 015: 100%|██████████| 98/98 [00:06<00:00, 15.96it/s, loss=0.1099]\n",
      "Running inference: 100%|██████████| 198/198 [00:09<00:00, 21.85it/s]\n",
      "Running inference: 100%|██████████| 197/197 [00:09<00:00, 21.21it/s]\n"
     ]
    },
    {
     "name": "stdout",
     "output_type": "stream",
     "text": [
      "Validation: {'precision': 0.6823559023390829, 'recall': 0.8501097522707742, 'f1': 0.7570510981016432, 'auc': 0.8185321237524578, 'prauc': 0.8194015551509793}\n",
      "Test:      {'precision': 0.6847525747282474, 'recall': 0.8548134211324716, 'f1': 0.7603905110979381, 'auc': 0.8157007409599714, 'prauc': 0.8151775269268148}\n",
      "\n",
      "Early stopping triggered (no improvement for 5 epochs).\n",
      "\n",
      "Best validation performance:\n",
      "{'precision': 0.6750243427442185, 'recall': 0.8695515835657901, 'f1': 0.7600383670108954, 'auc': 0.8201830547553676, 'prauc': 0.8205928904672528}\n",
      "Corresponding test performance:\n",
      "{'precision': 0.6690527320432617, 'recall': 0.879272499213298, 'f1': 0.7598915940061005, 'auc': 0.8204986845330583, 'prauc': 0.8205558801013838}\n",
      "[Warning] Missing keys: ['cls_head.cls.0.weight', 'cls_head.cls.0.bias', 'cls_head.cls.2.weight', 'cls_head.cls.2.bias']\n",
      "[Warning] Unexpected keys: ['diag_cls.cls.0.weight', 'diag_cls.cls.0.bias', 'diag_cls.cls.2.weight', 'diag_cls.cls.2.bias', 'med_cls.cls.0.weight', 'med_cls.cls.0.bias', 'med_cls.cls.2.weight', 'med_cls.cls.2.bias', 'lab_cls.cls.0.weight', 'lab_cls.cls.0.bias', 'lab_cls.cls.2.weight', 'lab_cls.cls.2.bias', 'pro_cls.cls.0.weight', 'pro_cls.cls.0.bias', 'pro_cls.cls.2.weight', 'pro_cls.cls.2.bias', 'cls_ontology.cls.0.weight', 'cls_ontology.cls.0.bias', 'cls_ontology.cls.2.weight', 'cls_ontology.cls.2.bias', 'visit_ontology.cls.0.weight', 'visit_ontology.cls.0.bias', 'visit_ontology.cls.2.weight', 'visit_ontology.cls.2.bias', 'adm_type.cls.0.weight', 'adm_type.cls.0.bias', 'adm_type.cls.2.weight', 'adm_type.cls.2.bias']\n"
     ]
    },
    {
     "name": "stderr",
     "output_type": "stream",
     "text": [
      "Epoch 001: 100%|██████████| 98/98 [00:06<00:00, 15.94it/s, loss=0.5875]\n",
      "Running inference: 100%|██████████| 198/198 [00:08<00:00, 22.25it/s]\n",
      "Running inference: 100%|██████████| 197/197 [00:08<00:00, 22.24it/s]\n"
     ]
    },
    {
     "name": "stdout",
     "output_type": "stream",
     "text": [
      "Validation: {'precision': 0.7120200333870005, 'recall': 0.802445907805574, 'f1': 0.7545333873198907, 'auc': 0.8198305935705575, 'prauc': 0.8196465123223551}\n",
      "Test:      {'precision': 0.7152094461604858, 'recall': 0.7977422389438766, 'f1': 0.7542247207760584, 'auc': 0.8164864977775228, 'prauc': 0.8174113738560602}\n"
     ]
    },
    {
     "name": "stderr",
     "output_type": "stream",
     "text": [
      "Epoch 002: 100%|██████████| 98/98 [00:06<00:00, 15.87it/s, loss=0.5086]\n",
      "Running inference: 100%|██████████| 198/198 [00:09<00:00, 21.94it/s]\n",
      "Running inference: 100%|██████████| 197/197 [00:09<00:00, 21.16it/s]\n"
     ]
    },
    {
     "name": "stdout",
     "output_type": "stream",
     "text": [
      "Validation: {'precision': 0.756968368303298, 'recall': 0.7579178425815054, 'f1': 0.7574428028948392, 'auc': 0.8328943141922194, 'prauc': 0.8416298742716759}\n",
      "Test:      {'precision': 0.7437965260522835, 'recall': 0.7519598620233554, 'f1': 0.7478559126650551, 'auc': 0.8271433151780272, 'prauc': 0.8376372494539364}\n"
     ]
    },
    {
     "name": "stderr",
     "output_type": "stream",
     "text": [
      "Epoch 003: 100%|██████████| 98/98 [00:06<00:00, 15.88it/s, loss=0.4511]\n",
      "Running inference: 100%|██████████| 198/198 [00:08<00:00, 22.12it/s]\n",
      "Running inference: 100%|██████████| 197/197 [00:08<00:00, 22.05it/s]\n"
     ]
    },
    {
     "name": "stdout",
     "output_type": "stream",
     "text": [
      "Validation: {'precision': 0.7216981132055447, 'recall': 0.8156161806183267, 'f1': 0.7657883065135362, 'auc': 0.8360331076396162, 'prauc': 0.8431225529022786}\n",
      "Test:      {'precision': 0.713894217591905, 'recall': 0.8168704923147794, 'f1': 0.7619186846957424, 'auc': 0.8341417402417117, 'prauc': 0.8394510715202178}\n"
     ]
    },
    {
     "name": "stderr",
     "output_type": "stream",
     "text": [
      "Epoch 004: 100%|██████████| 98/98 [00:06<00:00, 15.65it/s, loss=0.3984]\n",
      "Running inference: 100%|██████████| 198/198 [00:08<00:00, 22.18it/s]\n",
      "Running inference: 100%|██████████| 197/197 [00:09<00:00, 21.36it/s]\n"
     ]
    },
    {
     "name": "stdout",
     "output_type": "stream",
     "text": [
      "Validation: {'precision': 0.7925266903886388, 'recall': 0.6983380370000052, 'f1': 0.7424570711968448, 'auc': 0.837993045020486, 'prauc': 0.8442273758511089}\n",
      "Test:      {'precision': 0.7688320663415037, 'recall': 0.6977108811517789, 'f1': 0.7315469290879337, 'auc': 0.8278190932212305, 'prauc': 0.8347678645673984}\n"
     ]
    },
    {
     "name": "stderr",
     "output_type": "stream",
     "text": [
      "Epoch 005: 100%|██████████| 98/98 [00:06<00:00, 15.79it/s, loss=0.3559]\n",
      "Running inference: 100%|██████████| 198/198 [00:09<00:00, 21.93it/s]\n",
      "Running inference: 100%|██████████| 197/197 [00:09<00:00, 21.82it/s]\n"
     ]
    },
    {
     "name": "stdout",
     "output_type": "stream",
     "text": [
      "Validation: {'precision': 0.764570299635283, 'recall': 0.7281279397907553, 'f1': 0.7459042674066233, 'auc': 0.8318832991773528, 'prauc': 0.8344922993936414}\n",
      "Test:      {'precision': 0.7627617801022161, 'recall': 0.7309501411077738, 'f1': 0.7465172087708939, 'auc': 0.8318990289151059, 'prauc': 0.8376034402364416}\n"
     ]
    },
    {
     "name": "stderr",
     "output_type": "stream",
     "text": [
      "Epoch 006: 100%|██████████| 98/98 [00:06<00:00, 15.72it/s, loss=0.3145]\n",
      "Running inference: 100%|██████████| 198/198 [00:09<00:00, 21.91it/s]\n",
      "Running inference: 100%|██████████| 197/197 [00:09<00:00, 21.21it/s]\n"
     ]
    },
    {
     "name": "stdout",
     "output_type": "stream",
     "text": [
      "Validation: {'precision': 0.7299418604629944, 'recall': 0.7873941674481424, 'f1': 0.7575803238629308, 'auc': 0.8323022236100968, 'prauc': 0.8409684275600118}\n",
      "Test:      {'precision': 0.7237851662383524, 'recall': 0.7986829727162161, 'f1': 0.7593917660295146, 'auc': 0.8263643533877236, 'prauc': 0.8272227591147934}\n"
     ]
    },
    {
     "name": "stderr",
     "output_type": "stream",
     "text": [
      "Epoch 007: 100%|██████████| 98/98 [00:06<00:00, 15.75it/s, loss=0.2842]\n",
      "Running inference: 100%|██████████| 198/198 [00:08<00:00, 22.19it/s]\n",
      "Running inference: 100%|██████████| 197/197 [00:08<00:00, 21.94it/s]\n"
     ]
    },
    {
     "name": "stdout",
     "output_type": "stream",
     "text": [
      "Validation: {'precision': 0.6605183282730317, 'recall': 0.887111947316127, 'f1': 0.7572269758332087, 'auc': 0.8281254882386174, 'prauc': 0.8295526173312426}\n",
      "Test:      {'precision': 0.6604564508601294, 'recall': 0.8893069927849191, 'f1': 0.7579847605753985, 'auc': 0.8216792072669543, 'prauc': 0.8175342070842736}\n"
     ]
    },
    {
     "name": "stderr",
     "output_type": "stream",
     "text": [
      "Epoch 008: 100%|██████████| 98/98 [00:06<00:00, 15.81it/s, loss=0.2291]\n",
      "Running inference: 100%|██████████| 198/198 [00:08<00:00, 22.02it/s]\n",
      "Running inference: 100%|██████████| 197/197 [00:09<00:00, 21.30it/s]\n"
     ]
    },
    {
     "name": "stdout",
     "output_type": "stream",
     "text": [
      "Validation: {'precision': 0.7325301204797213, 'recall': 0.7626215114432029, 'f1': 0.7472730016059669, 'auc': 0.8130755564048919, 'prauc': 0.8113256557870365}\n",
      "Test:      {'precision': 0.7262079062936275, 'recall': 0.7776732518006345, 'f1': 0.7510599586619701, 'auc': 0.8124678179959501, 'prauc': 0.8084538037805412}\n",
      "\n",
      "Early stopping triggered (no improvement for 5 epochs).\n",
      "\n",
      "Best validation performance:\n",
      "{'precision': 0.7216981132055447, 'recall': 0.8156161806183267, 'f1': 0.7657883065135362, 'auc': 0.8360331076396162, 'prauc': 0.8431225529022786}\n",
      "Corresponding test performance:\n",
      "{'precision': 0.713894217591905, 'recall': 0.8168704923147794, 'f1': 0.7619186846957424, 'auc': 0.8341417402417117, 'prauc': 0.8394510715202178}\n",
      "[Warning] Missing keys: ['cls_head.cls.0.weight', 'cls_head.cls.0.bias', 'cls_head.cls.2.weight', 'cls_head.cls.2.bias']\n",
      "[Warning] Unexpected keys: ['diag_cls.cls.0.weight', 'diag_cls.cls.0.bias', 'diag_cls.cls.2.weight', 'diag_cls.cls.2.bias', 'med_cls.cls.0.weight', 'med_cls.cls.0.bias', 'med_cls.cls.2.weight', 'med_cls.cls.2.bias', 'lab_cls.cls.0.weight', 'lab_cls.cls.0.bias', 'lab_cls.cls.2.weight', 'lab_cls.cls.2.bias', 'pro_cls.cls.0.weight', 'pro_cls.cls.0.bias', 'pro_cls.cls.2.weight', 'pro_cls.cls.2.bias', 'cls_ontology.cls.0.weight', 'cls_ontology.cls.0.bias', 'cls_ontology.cls.2.weight', 'cls_ontology.cls.2.bias', 'visit_ontology.cls.0.weight', 'visit_ontology.cls.0.bias', 'visit_ontology.cls.2.weight', 'visit_ontology.cls.2.bias', 'adm_type.cls.0.weight', 'adm_type.cls.0.bias', 'adm_type.cls.2.weight', 'adm_type.cls.2.bias']\n"
     ]
    },
    {
     "name": "stderr",
     "output_type": "stream",
     "text": [
      "Epoch 001: 100%|██████████| 98/98 [00:05<00:00, 16.37it/s, loss=0.5930]\n",
      "Running inference: 100%|██████████| 198/198 [00:08<00:00, 22.17it/s]\n",
      "Running inference: 100%|██████████| 197/197 [00:08<00:00, 22.04it/s]\n"
     ]
    },
    {
     "name": "stdout",
     "output_type": "stream",
     "text": [
      "Validation: {'precision': 0.6956066945588504, 'recall': 0.8341172781410031, 'f1': 0.7585911828329263, 'auc': 0.8199623143839229, 'prauc': 0.8214196148299457}\n",
      "Test:      {'precision': 0.6957665001296457, 'recall': 0.8297271872034189, 'f1': 0.7568649835947446, 'auc': 0.8189059804796484, 'prauc': 0.8215788315834543}\n"
     ]
    },
    {
     "name": "stderr",
     "output_type": "stream",
     "text": [
      "Epoch 002: 100%|██████████| 98/98 [00:06<00:00, 16.15it/s, loss=0.4966]\n",
      "Running inference: 100%|██████████| 198/198 [00:08<00:00, 22.02it/s]\n",
      "Running inference: 100%|██████████| 197/197 [00:09<00:00, 21.19it/s]\n"
     ]
    },
    {
     "name": "stdout",
     "output_type": "stream",
     "text": [
      "Validation: {'precision': 0.8385670057459595, 'recall': 0.5945437441185496, 'f1': 0.6957798116561765, 'auc': 0.8366568473874216, 'prauc': 0.8431862730914277}\n",
      "Test:      {'precision': 0.8354767183998427, 'recall': 0.5907808090291917, 'f1': 0.6921381288698323, 'auc': 0.8346661150111212, 'prauc': 0.8454455726374667}\n"
     ]
    },
    {
     "name": "stderr",
     "output_type": "stream",
     "text": [
      "Epoch 003: 100%|██████████| 98/98 [00:05<00:00, 16.46it/s, loss=0.4540]\n",
      "Running inference: 100%|██████████| 198/198 [00:08<00:00, 22.48it/s]\n",
      "Running inference: 100%|██████████| 197/197 [00:09<00:00, 21.80it/s]\n"
     ]
    },
    {
     "name": "stdout",
     "output_type": "stream",
     "text": [
      "Validation: {'precision': 0.7987421383618248, 'recall': 0.6770147381603104, 'f1': 0.7328581077267109, 'auc': 0.8390391253014583, 'prauc': 0.8480080832802842}\n",
      "Test:      {'precision': 0.7916666666638473, 'recall': 0.6970837253035526, 'f1': 0.7413706803603802, 'auc': 0.8368820488970161, 'prauc': 0.8467394315267285}\n"
     ]
    },
    {
     "name": "stderr",
     "output_type": "stream",
     "text": [
      "Epoch 004: 100%|██████████| 98/98 [00:05<00:00, 16.56it/s, loss=0.4062]\n",
      "Running inference: 100%|██████████| 198/198 [00:08<00:00, 22.03it/s]\n",
      "Running inference: 100%|██████████| 197/197 [00:09<00:00, 21.09it/s]\n"
     ]
    },
    {
     "name": "stdout",
     "output_type": "stream",
     "text": [
      "Validation: {'precision': 0.7613709160769976, 'recall': 0.745374725616979, 'f1': 0.7532879049965919, 'auc': 0.8350907160538332, 'prauc': 0.841394748449454}\n",
      "Test:      {'precision': 0.7432938240775319, 'recall': 0.747256193161658, 'f1': 0.7452697369836311, 'auc': 0.8280504261488755, 'prauc': 0.8366254128947997}\n"
     ]
    },
    {
     "name": "stderr",
     "output_type": "stream",
     "text": [
      "Epoch 005: 100%|██████████| 98/98 [00:06<00:00, 15.93it/s, loss=0.3613]\n",
      "Running inference: 100%|██████████| 198/198 [00:09<00:00, 21.93it/s]\n",
      "Running inference: 100%|██████████| 197/197 [00:08<00:00, 21.96it/s]\n"
     ]
    },
    {
     "name": "stdout",
     "output_type": "stream",
     "text": [
      "Validation: {'precision': 0.8165849673169258, 'recall': 0.626842270302205, 'f1': 0.7092424999623644, 'auc': 0.8330173942809856, 'prauc': 0.8381383411370692}\n",
      "Test:      {'precision': 0.8080971659886312, 'recall': 0.6259015365298655, 'f1': 0.7054249818249959, 'auc': 0.8332499306655552, 'prauc': 0.8415468558819841}\n"
     ]
    },
    {
     "name": "stderr",
     "output_type": "stream",
     "text": [
      "Epoch 006: 100%|██████████| 98/98 [00:06<00:00, 16.01it/s, loss=0.3188]\n",
      "Running inference: 100%|██████████| 198/198 [00:08<00:00, 22.24it/s]\n",
      "Running inference: 100%|██████████| 197/197 [00:09<00:00, 21.03it/s]\n"
     ]
    },
    {
     "name": "stdout",
     "output_type": "stream",
     "text": [
      "Validation: {'precision': 0.7434445768750195, 'recall': 0.7823769206623319, 'f1': 0.7624140515326292, 'auc': 0.8381421477565916, 'prauc': 0.8469989509304164}\n",
      "Test:      {'precision': 0.7372661870482381, 'recall': 0.8033866415779135, 'f1': 0.768907558032112, 'auc': 0.841028726858528, 'prauc': 0.8493229375408459}\n"
     ]
    },
    {
     "name": "stderr",
     "output_type": "stream",
     "text": [
      "Epoch 007: 100%|██████████| 98/98 [00:06<00:00, 15.77it/s, loss=0.2832]\n",
      "Running inference: 100%|██████████| 198/198 [00:09<00:00, 21.93it/s]\n",
      "Running inference: 100%|██████████| 197/197 [00:09<00:00, 21.80it/s]\n"
     ]
    },
    {
     "name": "stdout",
     "output_type": "stream",
     "text": [
      "Validation: {'precision': 0.7697916666639938, 'recall': 0.6952022577588737, 'f1': 0.7305981166121357, 'auc': 0.824556768505644, 'prauc': 0.8293177447328485}\n",
      "Test:      {'precision': 0.7711835334450389, 'recall': 0.7049231734063816, 'f1': 0.7365661811151322, 'auc': 0.8284808282081211, 'prauc': 0.8342523135105189}\n"
     ]
    },
    {
     "name": "stderr",
     "output_type": "stream",
     "text": [
      "Epoch 008: 100%|██████████| 98/98 [00:06<00:00, 16.14it/s, loss=0.2515]\n",
      "Running inference: 100%|██████████| 198/198 [00:08<00:00, 22.13it/s]\n",
      "Running inference: 100%|██████████| 197/197 [00:09<00:00, 21.13it/s]\n"
     ]
    },
    {
     "name": "stdout",
     "output_type": "stream",
     "text": [
      "Validation: {'precision': 0.7265060240941973, 'recall': 0.7563499529609397, 'f1': 0.7411276643806053, 'auc': 0.816115735070963, 'prauc': 0.8196326330028756}\n",
      "Test:      {'precision': 0.7337349397568261, 'recall': 0.7638758231396555, 'f1': 0.7485020690510391, 'auc': 0.8207932363808779, 'prauc': 0.8241145310961558}\n"
     ]
    },
    {
     "name": "stderr",
     "output_type": "stream",
     "text": [
      "Epoch 009: 100%|██████████| 98/98 [00:06<00:00, 15.84it/s, loss=0.2241]\n",
      "Running inference: 100%|██████████| 198/198 [00:08<00:00, 22.14it/s]\n",
      "Running inference: 100%|██████████| 197/197 [00:08<00:00, 22.19it/s]\n"
     ]
    },
    {
     "name": "stdout",
     "output_type": "stream",
     "text": [
      "Validation: {'precision': 0.7623140495842569, 'recall': 0.7231106930049448, 'f1': 0.7421950384513676, 'auc': 0.8270189731222224, 'prauc': 0.8264938523099195}\n",
      "Test:      {'precision': 0.7619974059638068, 'recall': 0.7369081216659238, 'f1': 0.7492427815445247, 'auc': 0.8319064782783112, 'prauc': 0.8366295230429495}\n"
     ]
    },
    {
     "name": "stderr",
     "output_type": "stream",
     "text": [
      "Epoch 010: 100%|██████████| 98/98 [00:06<00:00, 16.17it/s, loss=0.1924]\n",
      "Running inference: 100%|██████████| 198/198 [00:08<00:00, 22.04it/s]\n",
      "Running inference: 100%|██████████| 197/197 [00:09<00:00, 21.42it/s]\n"
     ]
    },
    {
     "name": "stdout",
     "output_type": "stream",
     "text": [
      "Validation: {'precision': 0.7245423340940373, 'recall': 0.7942928817786319, 'f1': 0.757816000991823, 'auc': 0.8314108725835736, 'prauc': 0.8382532316162491}\n",
      "Test:      {'precision': 0.7265271493192124, 'recall': 0.8055816870467056, 'f1': 0.7640148648995159, 'auc': 0.8319386917408205, 'prauc': 0.8364168417326221}\n"
     ]
    },
    {
     "name": "stderr",
     "output_type": "stream",
     "text": [
      "Epoch 011: 100%|██████████| 98/98 [00:06<00:00, 16.18it/s, loss=0.1562]\n",
      "Running inference: 100%|██████████| 198/198 [00:08<00:00, 22.09it/s]\n",
      "Running inference: 100%|██████████| 197/197 [00:08<00:00, 21.90it/s]\n"
     ]
    },
    {
     "name": "stdout",
     "output_type": "stream",
     "text": [
      "Validation: {'precision': 0.7377358490542839, 'recall': 0.7356538099694712, 'f1': 0.7366933534527131, 'auc': 0.8129856828217069, 'prauc': 0.8129394979422887}\n",
      "Test:      {'precision': 0.7336405529931378, 'recall': 0.7488240827822239, 'f1': 0.741154557381837, 'auc': 0.8132515111385596, 'prauc': 0.8159235588351733}\n",
      "\n",
      "Early stopping triggered (no improvement for 5 epochs).\n",
      "\n",
      "Best validation performance:\n",
      "{'precision': 0.7434445768750195, 'recall': 0.7823769206623319, 'f1': 0.7624140515326292, 'auc': 0.8381421477565916, 'prauc': 0.8469989509304164}\n",
      "Corresponding test performance:\n",
      "{'precision': 0.7372661870482381, 'recall': 0.8033866415779135, 'f1': 0.768907558032112, 'auc': 0.841028726858528, 'prauc': 0.8493229375408459}\n",
      "[Warning] Missing keys: ['cls_head.cls.0.weight', 'cls_head.cls.0.bias', 'cls_head.cls.2.weight', 'cls_head.cls.2.bias']\n",
      "[Warning] Unexpected keys: ['diag_cls.cls.0.weight', 'diag_cls.cls.0.bias', 'diag_cls.cls.2.weight', 'diag_cls.cls.2.bias', 'med_cls.cls.0.weight', 'med_cls.cls.0.bias', 'med_cls.cls.2.weight', 'med_cls.cls.2.bias', 'lab_cls.cls.0.weight', 'lab_cls.cls.0.bias', 'lab_cls.cls.2.weight', 'lab_cls.cls.2.bias', 'pro_cls.cls.0.weight', 'pro_cls.cls.0.bias', 'pro_cls.cls.2.weight', 'pro_cls.cls.2.bias', 'cls_ontology.cls.0.weight', 'cls_ontology.cls.0.bias', 'cls_ontology.cls.2.weight', 'cls_ontology.cls.2.bias', 'visit_ontology.cls.0.weight', 'visit_ontology.cls.0.bias', 'visit_ontology.cls.2.weight', 'visit_ontology.cls.2.bias', 'adm_type.cls.0.weight', 'adm_type.cls.0.bias', 'adm_type.cls.2.weight', 'adm_type.cls.2.bias']\n"
     ]
    },
    {
     "name": "stderr",
     "output_type": "stream",
     "text": [
      "Epoch 001: 100%|██████████| 98/98 [00:06<00:00, 15.68it/s, loss=0.5728]\n",
      "Running inference: 100%|██████████| 198/198 [00:09<00:00, 21.97it/s]\n",
      "Running inference: 100%|██████████| 197/197 [00:09<00:00, 21.08it/s]\n"
     ]
    },
    {
     "name": "stdout",
     "output_type": "stream",
     "text": [
      "Validation: {'precision': 0.7293535415999711, 'recall': 0.739416745058829, 'f1': 0.7343506645712894, 'auc': 0.8125718323028264, 'prauc': 0.821728435557473}\n",
      "Test:      {'precision': 0.7251908396924421, 'recall': 0.7447475697687528, 'f1': 0.7348391039095025, 'auc': 0.8113059690036024, 'prauc': 0.8210957208428378}\n"
     ]
    },
    {
     "name": "stderr",
     "output_type": "stream",
     "text": [
      "Epoch 002: 100%|██████████| 98/98 [00:06<00:00, 15.55it/s, loss=0.4912]\n",
      "Running inference: 100%|██████████| 198/198 [00:08<00:00, 22.10it/s]\n",
      "Running inference: 100%|██████████| 197/197 [00:08<00:00, 22.22it/s]\n"
     ]
    },
    {
     "name": "stdout",
     "output_type": "stream",
     "text": [
      "Validation: {'precision': 0.8296679603241498, 'recall': 0.6033239259937181, 'f1': 0.6986201839384749, 'auc': 0.8386647608845248, 'prauc': 0.8470965222035566}\n",
      "Test:      {'precision': 0.8153526970920525, 'recall': 0.6161806208823576, 'f1': 0.7019110506399145, 'auc': 0.8334479931264523, 'prauc': 0.8442890184232521}\n"
     ]
    },
    {
     "name": "stderr",
     "output_type": "stream",
     "text": [
      "Epoch 003: 100%|██████████| 98/98 [00:06<00:00, 16.08it/s, loss=0.4381]\n",
      "Running inference: 100%|██████████| 198/198 [00:09<00:00, 21.90it/s]\n",
      "Running inference: 100%|██████████| 197/197 [00:09<00:00, 21.12it/s]\n"
     ]
    },
    {
     "name": "stdout",
     "output_type": "stream",
     "text": [
      "Validation: {'precision': 0.7275353943925815, 'recall': 0.7895892129169345, 'f1': 0.7572932280887944, 'auc': 0.8303960898108877, 'prauc': 0.8404082066611422}\n",
      "Test:      {'precision': 0.7263279445706515, 'recall': 0.7889620570687083, 'f1': 0.7563505135693235, 'auc': 0.8326903727550615, 'prauc': 0.8410493061449857}\n"
     ]
    },
    {
     "name": "stderr",
     "output_type": "stream",
     "text": [
      "Epoch 004: 100%|██████████| 98/98 [00:06<00:00, 15.98it/s, loss=0.4008]\n",
      "Running inference: 100%|██████████| 198/198 [00:09<00:00, 21.83it/s]\n",
      "Running inference: 100%|██████████| 197/197 [00:09<00:00, 21.54it/s]\n"
     ]
    },
    {
     "name": "stdout",
     "output_type": "stream",
     "text": [
      "Validation: {'precision': 0.7538694992389867, 'recall': 0.7789275634970871, 'f1': 0.7661937025868817, 'auc': 0.8447660167133718, 'prauc': 0.8542015270662698}\n",
      "Test:      {'precision': 0.7488842606344871, 'recall': 0.7892756349928214, 'f1': 0.7685496133217119, 'auc': 0.8444498972440879, 'prauc': 0.8536042669158228}\n"
     ]
    },
    {
     "name": "stderr",
     "output_type": "stream",
     "text": [
      "Epoch 005: 100%|██████████| 98/98 [00:06<00:00, 15.87it/s, loss=0.3734]\n",
      "Running inference: 100%|██████████| 198/198 [00:09<00:00, 21.92it/s]\n",
      "Running inference: 100%|██████████| 197/197 [00:09<00:00, 21.18it/s]\n"
     ]
    },
    {
     "name": "stdout",
     "output_type": "stream",
     "text": [
      "Validation: {'precision': 0.7027855865047208, 'recall': 0.8623392913111875, 'f1': 0.7744297331517243, 'auc': 0.8395481745012418, 'prauc': 0.8449474415759284}\n",
      "Test:      {'precision': 0.6986754966869622, 'recall': 0.8601442458423953, 'f1': 0.7710470786776229, 'auc': 0.8378644085029447, 'prauc': 0.8433756260279117}\n"
     ]
    },
    {
     "name": "stderr",
     "output_type": "stream",
     "text": [
      "Epoch 006: 100%|██████████| 98/98 [00:06<00:00, 15.93it/s, loss=0.3129]\n",
      "Running inference: 100%|██████████| 198/198 [00:09<00:00, 21.89it/s]\n",
      "Running inference: 100%|██████████| 197/197 [00:08<00:00, 21.92it/s]\n"
     ]
    },
    {
     "name": "stdout",
     "output_type": "stream",
     "text": [
      "Validation: {'precision': 0.767564018382247, 'recall': 0.7331451865765659, 'f1': 0.7499598987692703, 'auc': 0.8347620168616707, 'prauc': 0.8366024752601986}\n",
      "Test:      {'precision': 0.758916776747824, 'recall': 0.7206020696120395, 'f1': 0.7392633052792443, 'auc': 0.8262460695800724, 'prauc': 0.8250992309260724}\n"
     ]
    },
    {
     "name": "stderr",
     "output_type": "stream",
     "text": [
      "Epoch 007: 100%|██████████| 98/98 [00:06<00:00, 16.13it/s, loss=0.2747]\n",
      "Running inference: 100%|██████████| 198/198 [00:09<00:00, 21.91it/s]\n",
      "Running inference: 100%|██████████| 197/197 [00:09<00:00, 21.21it/s]\n"
     ]
    },
    {
     "name": "stdout",
     "output_type": "stream",
     "text": [
      "Validation: {'precision': 0.7626949883811395, 'recall': 0.7206020696120395, 'f1': 0.7410512687842876, 'auc': 0.8317020449078552, 'prauc': 0.8377876415933191}\n",
      "Test:      {'precision': 0.7557129063380892, 'recall': 0.7362809658176975, 'f1': 0.7458703888993684, 'auc': 0.8298674667685417, 'prauc': 0.8366658766510389}\n"
     ]
    },
    {
     "name": "stderr",
     "output_type": "stream",
     "text": [
      "Epoch 008: 100%|██████████| 98/98 [00:06<00:00, 15.67it/s, loss=0.2525]\n",
      "Running inference: 100%|██████████| 198/198 [00:09<00:00, 21.85it/s]\n",
      "Running inference: 100%|██████████| 197/197 [00:08<00:00, 21.90it/s]\n"
     ]
    },
    {
     "name": "stdout",
     "output_type": "stream",
     "text": [
      "Validation: {'precision': 0.7656249999975078, 'recall': 0.7375352775141502, 'f1': 0.7513176758809944, 'auc': 0.8336708239604078, 'prauc': 0.8365808363384265}\n",
      "Test:      {'precision': 0.7581530513375585, 'recall': 0.7362809658176975, 'f1': 0.7470569469554236, 'auc': 0.8308665371081471, 'prauc': 0.8339685276657015}\n"
     ]
    },
    {
     "name": "stderr",
     "output_type": "stream",
     "text": [
      "Epoch 009: 100%|██████████| 98/98 [00:06<00:00, 15.64it/s, loss=0.2055]\n",
      "Running inference: 100%|██████████| 198/198 [00:09<00:00, 21.90it/s]\n",
      "Running inference: 100%|██████████| 197/197 [00:09<00:00, 21.18it/s]\n"
     ]
    },
    {
     "name": "stdout",
     "output_type": "stream",
     "text": [
      "Validation: {'precision': 0.7749316939864245, 'recall': 0.7115083098127579, 'f1': 0.7418669232394712, 'auc': 0.8342180531060944, 'prauc': 0.8422247493758628}\n",
      "Test:      {'precision': 0.7689161554166022, 'recall': 0.7074317967992868, 'f1': 0.736893674575104, 'auc': 0.8305872866550195, 'prauc': 0.8359695318382036}\n"
     ]
    },
    {
     "name": "stderr",
     "output_type": "stream",
     "text": [
      "Epoch 010: 100%|██████████| 98/98 [00:05<00:00, 16.37it/s, loss=0.1869]\n",
      "Running inference: 100%|██████████| 198/198 [00:09<00:00, 21.99it/s]\n",
      "Running inference: 100%|██████████| 197/197 [00:09<00:00, 21.53it/s]\n"
     ]
    },
    {
     "name": "stdout",
     "output_type": "stream",
     "text": [
      "Validation: {'precision': 0.7190607734786767, 'recall': 0.816243336466553, 'f1': 0.7645762910965072, 'auc': 0.8338751871445309, 'prauc': 0.8426037896216286}\n",
      "Test:      {'precision': 0.7230046948336841, 'recall': 0.8209470053282504, 'f1': 0.7688693048563356, 'auc': 0.835112170799805, 'prauc': 0.8399991317290726}\n",
      "\n",
      "Early stopping triggered (no improvement for 5 epochs).\n",
      "\n",
      "Best validation performance:\n",
      "{'precision': 0.7027855865047208, 'recall': 0.8623392913111875, 'f1': 0.7744297331517243, 'auc': 0.8395481745012418, 'prauc': 0.8449474415759284}\n",
      "Corresponding test performance:\n",
      "{'precision': 0.6986754966869622, 'recall': 0.8601442458423953, 'f1': 0.7710470786776229, 'auc': 0.8378644085029447, 'prauc': 0.8433756260279117}\n",
      "[Warning] Missing keys: ['cls_head.cls.0.weight', 'cls_head.cls.0.bias', 'cls_head.cls.2.weight', 'cls_head.cls.2.bias']\n",
      "[Warning] Unexpected keys: ['diag_cls.cls.0.weight', 'diag_cls.cls.0.bias', 'diag_cls.cls.2.weight', 'diag_cls.cls.2.bias', 'med_cls.cls.0.weight', 'med_cls.cls.0.bias', 'med_cls.cls.2.weight', 'med_cls.cls.2.bias', 'lab_cls.cls.0.weight', 'lab_cls.cls.0.bias', 'lab_cls.cls.2.weight', 'lab_cls.cls.2.bias', 'pro_cls.cls.0.weight', 'pro_cls.cls.0.bias', 'pro_cls.cls.2.weight', 'pro_cls.cls.2.bias', 'cls_ontology.cls.0.weight', 'cls_ontology.cls.0.bias', 'cls_ontology.cls.2.weight', 'cls_ontology.cls.2.bias', 'visit_ontology.cls.0.weight', 'visit_ontology.cls.0.bias', 'visit_ontology.cls.2.weight', 'visit_ontology.cls.2.bias', 'adm_type.cls.0.weight', 'adm_type.cls.0.bias', 'adm_type.cls.2.weight', 'adm_type.cls.2.bias']\n"
     ]
    },
    {
     "name": "stderr",
     "output_type": "stream",
     "text": [
      "Epoch 001: 100%|██████████| 98/98 [00:06<00:00, 15.40it/s, loss=0.5829]\n",
      "Running inference: 100%|██████████| 198/198 [00:09<00:00, 21.99it/s]\n",
      "Running inference: 100%|██████████| 197/197 [00:09<00:00, 21.29it/s]\n"
     ]
    },
    {
     "name": "stdout",
     "output_type": "stream",
     "text": [
      "Validation: {'precision': 0.7030303030282741, 'recall': 0.7638758231396555, 'f1': 0.7321911582165008, 'auc': 0.8060169384325264, 'prauc': 0.8135144240180073}\n",
      "Test:      {'precision': 0.7049227246688469, 'recall': 0.7723424270907108, 'f1': 0.7370941144156603, 'auc': 0.8060687646690796, 'prauc': 0.8165337356976031}\n"
     ]
    },
    {
     "name": "stderr",
     "output_type": "stream",
     "text": [
      "Epoch 002: 100%|██████████| 98/98 [00:06<00:00, 15.98it/s, loss=0.4961]\n",
      "Running inference: 100%|██████████| 198/198 [00:09<00:00, 21.97it/s]\n",
      "Running inference: 100%|██████████| 197/197 [00:08<00:00, 21.90it/s]\n"
     ]
    },
    {
     "name": "stdout",
     "output_type": "stream",
     "text": [
      "Validation: {'precision': 0.7404824178996208, 'recall': 0.7989965506403293, 'f1': 0.7686274459852971, 'auc': 0.8431333718950786, 'prauc': 0.8501535232675225}\n",
      "Test:      {'precision': 0.7232472324702718, 'recall': 0.7989965506403293, 'f1': 0.7592371821376516, 'auc': 0.8334202593485732, 'prauc': 0.842507530235689}\n"
     ]
    },
    {
     "name": "stderr",
     "output_type": "stream",
     "text": [
      "Epoch 003: 100%|██████████| 98/98 [00:06<00:00, 16.33it/s, loss=0.4435]\n",
      "Running inference: 100%|██████████| 198/198 [00:09<00:00, 21.98it/s]\n",
      "Running inference: 100%|██████████| 197/197 [00:09<00:00, 21.16it/s]\n"
     ]
    },
    {
     "name": "stdout",
     "output_type": "stream",
     "text": [
      "Validation: {'precision': 0.7361071530329549, 'recall': 0.8099717779842899, 'f1': 0.7712750024740246, 'auc': 0.8444181270747158, 'prauc': 0.8496879036452004}\n",
      "Test:      {'precision': 0.719529279908323, 'recall': 0.8052681091225925, 'f1': 0.7599881571917191, 'auc': 0.8331976341225129, 'prauc': 0.8406796300936622}\n"
     ]
    },
    {
     "name": "stderr",
     "output_type": "stream",
     "text": [
      "Epoch 004: 100%|██████████| 98/98 [00:06<00:00, 15.47it/s, loss=0.4033]\n",
      "Running inference: 100%|██████████| 198/198 [00:09<00:00, 21.91it/s]\n",
      "Running inference: 100%|██████████| 197/197 [00:09<00:00, 21.86it/s]\n"
     ]
    },
    {
     "name": "stdout",
     "output_type": "stream",
     "text": [
      "Validation: {'precision': 0.7120446689691251, 'recall': 0.83976168077504, 'f1': 0.7706474770460391, 'auc': 0.8342617590967991, 'prauc': 0.8373176788226803}\n",
      "Test:      {'precision': 0.7055393585987132, 'recall': 0.8347444339892294, 'f1': 0.764722775843098, 'auc': 0.828376486789712, 'prauc': 0.8333254437621727}\n"
     ]
    },
    {
     "name": "stderr",
     "output_type": "stream",
     "text": [
      "Epoch 005: 100%|██████████| 98/98 [00:06<00:00, 15.66it/s, loss=0.3690]\n",
      "Running inference: 100%|██████████| 198/198 [00:08<00:00, 22.07it/s]\n",
      "Running inference: 100%|██████████| 197/197 [00:09<00:00, 21.08it/s]\n"
     ]
    },
    {
     "name": "stdout",
     "output_type": "stream",
     "text": [
      "Validation: {'precision': 0.7165058949605667, 'recall': 0.8385073690785874, 'f1': 0.7727207001289634, 'auc': 0.8465747414137572, 'prauc': 0.8535559901368104}\n",
      "Test:      {'precision': 0.7106666666647716, 'recall': 0.8356851677615689, 'f1': 0.7681222028413914, 'auc': 0.8416180318883079, 'prauc': 0.8498626486822836}\n"
     ]
    },
    {
     "name": "stderr",
     "output_type": "stream",
     "text": [
      "Epoch 006: 100%|██████████| 98/98 [00:06<00:00, 15.68it/s, loss=0.3163]\n",
      "Running inference: 100%|██████████| 198/198 [00:09<00:00, 21.97it/s]\n",
      "Running inference: 100%|██████████| 197/197 [00:08<00:00, 21.93it/s]\n"
     ]
    },
    {
     "name": "stdout",
     "output_type": "stream",
     "text": [
      "Validation: {'precision': 0.710449348575617, 'recall': 0.837880213230361, 'f1': 0.7689208583410081, 'auc': 0.8380635272100939, 'prauc': 0.8436948414941889}\n",
      "Test:      {'precision': 0.7046468889453803, 'recall': 0.841643148319719, 'f1': 0.7670763025534879, 'auc': 0.8372178742436757, 'prauc': 0.843094582592793}\n"
     ]
    },
    {
     "name": "stderr",
     "output_type": "stream",
     "text": [
      "Epoch 007: 100%|██████████| 98/98 [00:06<00:00, 16.06it/s, loss=0.2751]\n",
      "Running inference: 100%|██████████| 198/198 [00:09<00:00, 21.96it/s]\n",
      "Running inference: 100%|██████████| 197/197 [00:09<00:00, 21.16it/s]\n"
     ]
    },
    {
     "name": "stdout",
     "output_type": "stream",
     "text": [
      "Validation: {'precision': 0.7141304347806682, 'recall': 0.824082784569382, 'f1': 0.76517687666548, 'auc': 0.8358921934971716, 'prauc': 0.8431413966983159}\n",
      "Test:      {'precision': 0.7115436604468464, 'recall': 0.8253370962658346, 'f1': 0.7642276373016148, 'auc': 0.8338429100434026, 'prauc': 0.8412482866632975}\n"
     ]
    },
    {
     "name": "stderr",
     "output_type": "stream",
     "text": [
      "Epoch 008: 100%|██████████| 98/98 [00:06<00:00, 15.80it/s, loss=0.2408]\n",
      "Running inference: 100%|██████████| 198/198 [00:09<00:00, 21.81it/s]\n",
      "Running inference: 100%|██████████| 197/197 [00:08<00:00, 21.93it/s]\n"
     ]
    },
    {
     "name": "stdout",
     "output_type": "stream",
     "text": [
      "Validation: {'precision': 0.7757983193251234, 'recall': 0.7237378488531712, 'f1': 0.7488643687868546, 'auc': 0.8374216017512137, 'prauc': 0.8454872428905517}\n",
      "Test:      {'precision': 0.7663770053450322, 'recall': 0.7190341799914738, 'f1': 0.7419511355948156, 'auc': 0.8333648924598854, 'prauc': 0.8401646621545361}\n"
     ]
    },
    {
     "name": "stderr",
     "output_type": "stream",
     "text": [
      "Epoch 009: 100%|██████████| 98/98 [00:06<00:00, 15.32it/s, loss=0.2020]\n",
      "Running inference: 100%|██████████| 198/198 [00:09<00:00, 21.82it/s]\n",
      "Running inference: 100%|██████████| 197/197 [00:09<00:00, 21.23it/s]\n"
     ]
    },
    {
     "name": "stdout",
     "output_type": "stream",
     "text": [
      "Validation: {'precision': 0.7321219226238801, 'recall': 0.7833176544346714, 'f1': 0.7568550169697821, 'auc': 0.8283557233597669, 'prauc': 0.8373470541393061}\n",
      "Test:      {'precision': 0.7428318060870741, 'recall': 0.7880213232963688, 'f1': 0.7647595811249756, 'auc': 0.8322067178156051, 'prauc': 0.837799328246875}\n"
     ]
    },
    {
     "name": "stderr",
     "output_type": "stream",
     "text": [
      "Epoch 010: 100%|██████████| 98/98 [00:06<00:00, 15.92it/s, loss=0.1903]\n",
      "Running inference: 100%|██████████| 198/198 [00:08<00:00, 22.01it/s]\n",
      "Running inference: 100%|██████████| 197/197 [00:09<00:00, 21.88it/s]\n"
     ]
    },
    {
     "name": "stdout",
     "output_type": "stream",
     "text": [
      "Validation: {'precision': 0.7354513998089479, 'recall': 0.7331451865765659, 'f1': 0.7342964774097666, 'auc': 0.817247770466988, 'prauc': 0.8202857769009728}\n",
      "Test:      {'precision': 0.7497633322791109, 'recall': 0.7450611476928659, 'f1': 0.7474048392883559, 'auc': 0.8231793479491852, 'prauc': 0.8252379182773302}\n",
      "\n",
      "Early stopping triggered (no improvement for 5 epochs).\n",
      "\n",
      "Best validation performance:\n",
      "{'precision': 0.7165058949605667, 'recall': 0.8385073690785874, 'f1': 0.7727207001289634, 'auc': 0.8465747414137572, 'prauc': 0.8535559901368104}\n",
      "Corresponding test performance:\n",
      "{'precision': 0.7106666666647716, 'recall': 0.8356851677615689, 'f1': 0.7681222028413914, 'auc': 0.8416180318883079, 'prauc': 0.8498626486822836}\n",
      "[Warning] Missing keys: ['cls_head.cls.0.weight', 'cls_head.cls.0.bias', 'cls_head.cls.2.weight', 'cls_head.cls.2.bias']\n",
      "[Warning] Unexpected keys: ['diag_cls.cls.0.weight', 'diag_cls.cls.0.bias', 'diag_cls.cls.2.weight', 'diag_cls.cls.2.bias', 'med_cls.cls.0.weight', 'med_cls.cls.0.bias', 'med_cls.cls.2.weight', 'med_cls.cls.2.bias', 'lab_cls.cls.0.weight', 'lab_cls.cls.0.bias', 'lab_cls.cls.2.weight', 'lab_cls.cls.2.bias', 'pro_cls.cls.0.weight', 'pro_cls.cls.0.bias', 'pro_cls.cls.2.weight', 'pro_cls.cls.2.bias', 'cls_ontology.cls.0.weight', 'cls_ontology.cls.0.bias', 'cls_ontology.cls.2.weight', 'cls_ontology.cls.2.bias', 'visit_ontology.cls.0.weight', 'visit_ontology.cls.0.bias', 'visit_ontology.cls.2.weight', 'visit_ontology.cls.2.bias', 'adm_type.cls.0.weight', 'adm_type.cls.0.bias', 'adm_type.cls.2.weight', 'adm_type.cls.2.bias']\n"
     ]
    },
    {
     "name": "stderr",
     "output_type": "stream",
     "text": [
      "Epoch 001: 100%|██████████| 98/98 [00:06<00:00, 15.88it/s, loss=0.5774]\n",
      "Running inference: 100%|██████████| 198/198 [00:09<00:00, 21.88it/s]\n",
      "Running inference: 100%|██████████| 197/197 [00:09<00:00, 21.36it/s]\n"
     ]
    },
    {
     "name": "stdout",
     "output_type": "stream",
     "text": [
      "Validation: {'precision': 0.7908472012072963, 'recall': 0.6556914393206156, 'f1': 0.7169552496271676, 'auc': 0.8224201986382017, 'prauc': 0.8301863873531324}\n",
      "Test:      {'precision': 0.7942942942913127, 'recall': 0.6635308874234446, 'f1': 0.7230480046055007, 'auc': 0.8238794874234112, 'prauc': 0.8290925267177892}\n"
     ]
    },
    {
     "name": "stderr",
     "output_type": "stream",
     "text": [
      "Epoch 002: 100%|██████████| 98/98 [00:06<00:00, 15.68it/s, loss=0.4986]\n",
      "Running inference: 100%|██████████| 198/198 [00:08<00:00, 22.21it/s]\n",
      "Running inference: 100%|██████████| 197/197 [00:08<00:00, 22.24it/s]\n"
     ]
    },
    {
     "name": "stdout",
     "output_type": "stream",
     "text": [
      "Validation: {'precision': 0.7230075187948181, 'recall': 0.7538413295680344, 'f1': 0.7381025433572975, 'auc': 0.8177251202643179, 'prauc': 0.8280361089687509}\n",
      "Test:      {'precision': 0.7234746017411378, 'recall': 0.7547820633403739, 'f1': 0.7387968028575564, 'auc': 0.8132083249653831, 'prauc': 0.8243967018691688}\n"
     ]
    },
    {
     "name": "stderr",
     "output_type": "stream",
     "text": [
      "Epoch 003: 100%|██████████| 98/98 [00:06<00:00, 15.99it/s, loss=0.4520]\n",
      "Running inference: 100%|██████████| 198/198 [00:09<00:00, 21.88it/s]\n",
      "Running inference: 100%|██████████| 197/197 [00:09<00:00, 21.20it/s]\n"
     ]
    },
    {
     "name": "stdout",
     "output_type": "stream",
     "text": [
      "Validation: {'precision': 0.7102212855618804, 'recall': 0.8454060834090769, 'f1': 0.7719398661880178, 'auc': 0.842442817241943, 'prauc': 0.8519038621289083}\n",
      "Test:      {'precision': 0.6992933786948462, 'recall': 0.837880213230361, 'f1': 0.7623395100170683, 'auc': 0.8384443011616476, 'prauc': 0.8484863146959613}\n"
     ]
    },
    {
     "name": "stderr",
     "output_type": "stream",
     "text": [
      "Epoch 004: 100%|██████████| 98/98 [00:06<00:00, 16.32it/s, loss=0.4174]\n",
      "Running inference: 100%|██████████| 198/198 [00:08<00:00, 22.21it/s]\n",
      "Running inference: 100%|██████████| 197/197 [00:09<00:00, 21.89it/s]\n"
     ]
    },
    {
     "name": "stdout",
     "output_type": "stream",
     "text": [
      "Validation: {'precision': 0.7687096774168751, 'recall': 0.747256193161658, 'f1': 0.7578311287241438, 'auc': 0.8391439694423788, 'prauc': 0.8471024530724636}\n",
      "Test:      {'precision': 0.7540006275470537, 'recall': 0.7535277516439213, 'f1': 0.7537641104305095, 'auc': 0.836670446715158, 'prauc': 0.8433846084438195}\n"
     ]
    },
    {
     "name": "stderr",
     "output_type": "stream",
     "text": [
      "Epoch 005: 100%|██████████| 98/98 [00:06<00:00, 15.76it/s, loss=0.3764]\n",
      "Running inference: 100%|██████████| 198/198 [00:09<00:00, 21.91it/s]\n",
      "Running inference: 100%|██████████| 197/197 [00:09<00:00, 21.05it/s]\n"
     ]
    },
    {
     "name": "stdout",
     "output_type": "stream",
     "text": [
      "Validation: {'precision': 0.7535885167441579, 'recall': 0.7902163687651609, 'f1': 0.7714679270378016, 'auc': 0.8434788501687303, 'prauc': 0.8500690045260187}\n",
      "Test:      {'precision': 0.7433155080191821, 'recall': 0.784571966131124, 'f1': 0.7633867226901038, 'auc': 0.8379485661737505, 'prauc': 0.841968804183815}\n"
     ]
    },
    {
     "name": "stderr",
     "output_type": "stream",
     "text": [
      "Epoch 006: 100%|██████████| 98/98 [00:06<00:00, 15.97it/s, loss=0.3364]\n",
      "Running inference: 100%|██████████| 198/198 [00:09<00:00, 21.83it/s]\n",
      "Running inference: 100%|██████████| 197/197 [00:09<00:00, 21.80it/s]\n"
     ]
    },
    {
     "name": "stdout",
     "output_type": "stream",
     "text": [
      "Validation: {'precision': 0.7090372754070554, 'recall': 0.8291000313551926, 'f1': 0.7643827646148408, 'auc': 0.8324939773647178, 'prauc': 0.8440353702580283}\n",
      "Test:      {'precision': 0.7049441786265154, 'recall': 0.8316086547480979, 'f1': 0.763055670474164, 'auc': 0.8302247342011841, 'prauc': 0.8394462700081111}\n"
     ]
    },
    {
     "name": "stderr",
     "output_type": "stream",
     "text": [
      "Epoch 007: 100%|██████████| 98/98 [00:06<00:00, 15.92it/s, loss=0.2805]\n",
      "Running inference: 100%|██████████| 198/198 [00:08<00:00, 22.14it/s]\n",
      "Running inference: 100%|██████████| 197/197 [00:09<00:00, 21.12it/s]\n"
     ]
    },
    {
     "name": "stdout",
     "output_type": "stream",
     "text": [
      "Validation: {'precision': 0.7440860215030904, 'recall': 0.7594857322020713, 'f1': 0.7517070092750383, 'auc': 0.8326253967574575, 'prauc': 0.8389297237995322}\n",
      "Test:      {'precision': 0.7387195121928698, 'recall': 0.7597993101261844, 'f1': 0.7491111404616507, 'auc': 0.8300276784109905, 'prauc': 0.8383945777770141}\n"
     ]
    },
    {
     "name": "stderr",
     "output_type": "stream",
     "text": [
      "Epoch 008: 100%|██████████| 98/98 [00:06<00:00, 16.12it/s, loss=0.2423]\n",
      "Running inference: 100%|██████████| 198/198 [00:08<00:00, 22.03it/s]\n",
      "Running inference: 100%|██████████| 197/197 [00:08<00:00, 21.93it/s]\n"
     ]
    },
    {
     "name": "stdout",
     "output_type": "stream",
     "text": [
      "Validation: {'precision': 0.7721727662355022, 'recall': 0.7343994982730185, 'f1': 0.7528125954507394, 'auc': 0.8401224310296861, 'prauc': 0.8442871047192715}\n",
      "Test:      {'precision': 0.7687007873990529, 'recall': 0.7347130761971317, 'f1': 0.7513227463228975, 'auc': 0.8362542387128307, 'prauc': 0.841314990335944}\n",
      "\n",
      "Early stopping triggered (no improvement for 5 epochs).\n",
      "\n",
      "Best validation performance:\n",
      "{'precision': 0.7102212855618804, 'recall': 0.8454060834090769, 'f1': 0.7719398661880178, 'auc': 0.842442817241943, 'prauc': 0.8519038621289083}\n",
      "Corresponding test performance:\n",
      "{'precision': 0.6992933786948462, 'recall': 0.837880213230361, 'f1': 0.7623395100170683, 'auc': 0.8384443011616476, 'prauc': 0.8484863146959613}\n",
      "[Warning] Missing keys: ['cls_head.cls.0.weight', 'cls_head.cls.0.bias', 'cls_head.cls.2.weight', 'cls_head.cls.2.bias']\n",
      "[Warning] Unexpected keys: ['diag_cls.cls.0.weight', 'diag_cls.cls.0.bias', 'diag_cls.cls.2.weight', 'diag_cls.cls.2.bias', 'med_cls.cls.0.weight', 'med_cls.cls.0.bias', 'med_cls.cls.2.weight', 'med_cls.cls.2.bias', 'lab_cls.cls.0.weight', 'lab_cls.cls.0.bias', 'lab_cls.cls.2.weight', 'lab_cls.cls.2.bias', 'pro_cls.cls.0.weight', 'pro_cls.cls.0.bias', 'pro_cls.cls.2.weight', 'pro_cls.cls.2.bias', 'cls_ontology.cls.0.weight', 'cls_ontology.cls.0.bias', 'cls_ontology.cls.2.weight', 'cls_ontology.cls.2.bias', 'visit_ontology.cls.0.weight', 'visit_ontology.cls.0.bias', 'visit_ontology.cls.2.weight', 'visit_ontology.cls.2.bias', 'adm_type.cls.0.weight', 'adm_type.cls.0.bias', 'adm_type.cls.2.weight', 'adm_type.cls.2.bias']\n"
     ]
    },
    {
     "name": "stderr",
     "output_type": "stream",
     "text": [
      "Epoch 001: 100%|██████████| 98/98 [00:06<00:00, 15.67it/s, loss=0.5864]\n",
      "Running inference: 100%|██████████| 198/198 [00:08<00:00, 22.09it/s]\n",
      "Running inference: 100%|██████████| 197/197 [00:09<00:00, 20.84it/s]\n"
     ]
    },
    {
     "name": "stdout",
     "output_type": "stream",
     "text": [
      "Validation: {'precision': 0.7211131276445217, 'recall': 0.7475697710857712, 'f1': 0.734103151273419, 'auc': 0.8132103416612837, 'prauc': 0.8168024262934435}\n",
      "Test:      {'precision': 0.7290400972031318, 'recall': 0.7525870178715818, 'f1': 0.7406264415350059, 'auc': 0.8148076730454354, 'prauc': 0.8189416382635197}\n"
     ]
    },
    {
     "name": "stderr",
     "output_type": "stream",
     "text": [
      "Epoch 002: 100%|██████████| 98/98 [00:06<00:00, 15.56it/s, loss=0.4912]\n",
      "Running inference: 100%|██████████| 198/198 [00:08<00:00, 22.20it/s]\n",
      "Running inference: 100%|██████████| 197/197 [00:08<00:00, 22.09it/s]\n"
     ]
    },
    {
     "name": "stdout",
     "output_type": "stream",
     "text": [
      "Validation: {'precision': 0.8035646568039304, 'recall': 0.6644716211957841, 'f1': 0.7274287626359347, 'auc': 0.835104279981983, 'prauc': 0.8425336051014107}\n",
      "Test:      {'precision': 0.7928062944893488, 'recall': 0.6635308874234446, 'f1': 0.7224308588129648, 'auc': 0.8309877402608385, 'prauc': 0.8396393106250855}\n"
     ]
    },
    {
     "name": "stderr",
     "output_type": "stream",
     "text": [
      "Epoch 003: 100%|██████████| 98/98 [00:06<00:00, 16.09it/s, loss=0.4459]\n",
      "Running inference: 100%|██████████| 198/198 [00:09<00:00, 21.94it/s]\n",
      "Running inference: 100%|██████████| 197/197 [00:09<00:00, 21.85it/s]\n"
     ]
    },
    {
     "name": "stdout",
     "output_type": "stream",
     "text": [
      "Validation: {'precision': 0.8330434782572477, 'recall': 0.6008153026008127, 'f1': 0.6981235148954185, 'auc': 0.8399560970811533, 'prauc': 0.8458603563217706}\n",
      "Test:      {'precision': 0.8273474686247194, 'recall': 0.5995609909043601, 'f1': 0.695272722397618, 'auc': 0.834265913072978, 'prauc': 0.8411595634996913}\n"
     ]
    },
    {
     "name": "stderr",
     "output_type": "stream",
     "text": [
      "Epoch 004: 100%|██████████| 98/98 [00:06<00:00, 15.19it/s, loss=0.4070]\n",
      "Running inference: 100%|██████████| 198/198 [00:09<00:00, 21.94it/s]\n",
      "Running inference: 100%|██████████| 197/197 [00:08<00:00, 21.93it/s]\n"
     ]
    },
    {
     "name": "stdout",
     "output_type": "stream",
     "text": [
      "Validation: {'precision': 0.8097971680030241, 'recall': 0.6635308874234446, 'f1': 0.7294036489592085, 'auc': 0.8411685615474292, 'prauc': 0.852578756019722}\n",
      "Test:      {'precision': 0.8035378246112024, 'recall': 0.6694888679815946, 'f1': 0.730413953300968, 'auc': 0.8373747638728031, 'prauc': 0.847267654040766}\n"
     ]
    },
    {
     "name": "stderr",
     "output_type": "stream",
     "text": [
      "Epoch 005: 100%|██████████| 98/98 [00:06<00:00, 15.92it/s, loss=0.3599]\n",
      "Running inference: 100%|██████████| 198/198 [00:08<00:00, 22.25it/s]\n",
      "Running inference: 100%|██████████| 197/197 [00:09<00:00, 21.28it/s]\n"
     ]
    },
    {
     "name": "stdout",
     "output_type": "stream",
     "text": [
      "Validation: {'precision': 0.7733288089556385, 'recall': 0.7146440890538895, 'f1': 0.7428291996989675, 'auc': 0.8319407198065201, 'prauc': 0.8405125698296326}\n",
      "Test:      {'precision': 0.7720662833927222, 'recall': 0.7158984007503422, 'f1': 0.7429222208426506, 'auc': 0.8343083945766623, 'prauc': 0.8426470070810684}\n"
     ]
    },
    {
     "name": "stderr",
     "output_type": "stream",
     "text": [
      "Epoch 006: 100%|██████████| 98/98 [00:06<00:00, 16.28it/s, loss=0.3251]\n",
      "Running inference: 100%|██████████| 198/198 [00:08<00:00, 22.00it/s]\n",
      "Running inference: 100%|██████████| 197/197 [00:08<00:00, 21.96it/s]\n"
     ]
    },
    {
     "name": "stdout",
     "output_type": "stream",
     "text": [
      "Validation: {'precision': 0.7556729872528577, 'recall': 0.7623079335190897, 'f1': 0.758975955035191, 'auc': 0.8407802815449495, 'prauc': 0.8462533660750706}\n",
      "Test:      {'precision': 0.7525549705767961, 'recall': 0.7619943555949765, 'f1': 0.7572452427385639, 'auc': 0.8356070501176043, 'prauc': 0.8436871716918505}\n"
     ]
    },
    {
     "name": "stderr",
     "output_type": "stream",
     "text": [
      "Epoch 007: 100%|██████████| 98/98 [00:06<00:00, 15.55it/s, loss=0.2672]\n",
      "Running inference: 100%|██████████| 198/198 [00:08<00:00, 22.25it/s]\n",
      "Running inference: 100%|██████████| 197/197 [00:09<00:00, 21.44it/s]\n"
     ]
    },
    {
     "name": "stdout",
     "output_type": "stream",
     "text": [
      "Validation: {'precision': 0.771278343737196, 'recall': 0.7359673878935843, 'f1': 0.753209237619069, 'auc': 0.8385597157965207, 'prauc': 0.848941885386936}\n",
      "Test:      {'precision': 0.7620757180131786, 'recall': 0.7322044528042264, 'f1': 0.7468415110718948, 'auc': 0.8343614964562673, 'prauc': 0.8430686033946295}\n"
     ]
    },
    {
     "name": "stderr",
     "output_type": "stream",
     "text": [
      "Epoch 008: 100%|██████████| 98/98 [00:06<00:00, 15.93it/s, loss=0.2534]\n",
      "Running inference: 100%|██████████| 198/198 [00:09<00:00, 21.88it/s]\n",
      "Running inference: 100%|██████████| 197/197 [00:09<00:00, 21.81it/s]\n"
     ]
    },
    {
     "name": "stdout",
     "output_type": "stream",
     "text": [
      "Validation: {'precision': 0.760141661298261, 'recall': 0.7403574788311685, 'f1': 0.7501191371748166, 'auc': 0.833970285351892, 'prauc': 0.840663585520059}\n",
      "Test:      {'precision': 0.7543021032480742, 'recall': 0.7422389463758475, 'f1': 0.7482219011146028, 'auc': 0.8297724873876744, 'prauc': 0.8369400896605457}\n"
     ]
    },
    {
     "name": "stderr",
     "output_type": "stream",
     "text": [
      "Epoch 009: 100%|██████████| 98/98 [00:06<00:00, 15.83it/s, loss=0.2277]\n",
      "Running inference: 100%|██████████| 198/198 [00:09<00:00, 21.85it/s]\n",
      "Running inference: 100%|██████████| 197/197 [00:09<00:00, 21.12it/s]\n"
     ]
    },
    {
     "name": "stdout",
     "output_type": "stream",
     "text": [
      "Validation: {'precision': 0.7483649953262275, 'recall': 0.7535277516439213, 'f1': 0.7509374949977126, 'auc': 0.8296834309785449, 'prauc': 0.8359906938890129}\n",
      "Test:      {'precision': 0.7438759689899415, 'recall': 0.7522734399474686, 'f1': 0.748051133133154, 'auc': 0.8292581793252991, 'prauc': 0.8360715199051371}\n"
     ]
    },
    {
     "name": "stderr",
     "output_type": "stream",
     "text": [
      "Epoch 010: 100%|██████████| 98/98 [00:06<00:00, 16.08it/s, loss=0.2018]\n",
      "Running inference: 100%|██████████| 198/198 [00:09<00:00, 21.82it/s]\n",
      "Running inference: 100%|██████████| 197/197 [00:09<00:00, 21.85it/s]\n"
     ]
    },
    {
     "name": "stdout",
     "output_type": "stream",
     "text": [
      "Validation: {'precision': 0.6733380986402827, 'recall': 0.8861712135437875, 'f1': 0.7652315141812248, 'auc': 0.8316343257406482, 'prauc': 0.8361929423237155}\n",
      "Test:      {'precision': 0.6704572376198283, 'recall': 0.8874255252402401, 'f1': 0.7638326536644215, 'auc': 0.8251380271368222, 'prauc': 0.831964957470217}\n"
     ]
    },
    {
     "name": "stderr",
     "output_type": "stream",
     "text": [
      "Epoch 011: 100%|██████████| 98/98 [00:06<00:00, 16.23it/s, loss=0.1812]\n",
      "Running inference: 100%|██████████| 198/198 [00:09<00:00, 21.91it/s]\n",
      "Running inference: 100%|██████████| 197/197 [00:09<00:00, 21.17it/s]\n"
     ]
    },
    {
     "name": "stdout",
     "output_type": "stream",
     "text": [
      "Validation: {'precision': 0.7453514024558924, 'recall': 0.7416117905276212, 'f1': 0.7434768890561667, 'auc': 0.8245225070278731, 'prauc': 0.8316512024231179}\n",
      "Test:      {'precision': 0.7435736677092678, 'recall': 0.7438068359964133, 'f1': 0.7436902285765994, 'auc': 0.8241957833584246, 'prauc': 0.8291619374551458}\n"
     ]
    },
    {
     "name": "stderr",
     "output_type": "stream",
     "text": [
      "Epoch 012: 100%|██████████| 98/98 [00:06<00:00, 16.26it/s, loss=0.1478]\n",
      "Running inference: 100%|██████████| 198/198 [00:08<00:00, 22.10it/s]\n",
      "Running inference: 100%|██████████| 197/197 [00:08<00:00, 22.04it/s]\n"
     ]
    },
    {
     "name": "stdout",
     "output_type": "stream",
     "text": [
      "Validation: {'precision': 0.7254566210024959, 'recall': 0.7971150830956504, 'f1': 0.7595995766612782, 'auc': 0.8295717044000077, 'prauc': 0.8349113882914492}\n",
      "Test:      {'precision': 0.7218109339387192, 'recall': 0.7949200376268583, 'f1': 0.7566034870254759, 'auc': 0.8265162096633341, 'prauc': 0.8316789178513305}\n"
     ]
    },
    {
     "name": "stderr",
     "output_type": "stream",
     "text": [
      "Epoch 013: 100%|██████████| 98/98 [00:06<00:00, 15.81it/s, loss=0.1228]\n",
      "Running inference: 100%|██████████| 198/198 [00:09<00:00, 21.59it/s]\n",
      "Running inference: 100%|██████████| 197/197 [00:09<00:00, 21.76it/s]\n"
     ]
    },
    {
     "name": "stdout",
     "output_type": "stream",
     "text": [
      "Validation: {'precision': 0.7497578301557968, 'recall': 0.7281279397907553, 'f1': 0.7387845956986887, 'auc': 0.8190575501395627, 'prauc': 0.8235304106609762}\n",
      "Test:      {'precision': 0.7462108997073648, 'recall': 0.72561931639785, 'f1': 0.7357710601814692, 'auc': 0.8184581126836985, 'prauc': 0.8237201695809603}\n"
     ]
    },
    {
     "name": "stderr",
     "output_type": "stream",
     "text": [
      "Epoch 014: 100%|██████████| 98/98 [00:06<00:00, 15.31it/s, loss=0.1317]\n",
      "Running inference: 100%|██████████| 198/198 [00:09<00:00, 21.42it/s]\n",
      "Running inference: 100%|██████████| 197/197 [00:08<00:00, 21.98it/s]\n"
     ]
    },
    {
     "name": "stdout",
     "output_type": "stream",
     "text": [
      "Validation: {'precision': 0.7009620523765341, 'recall': 0.8225148949488162, 'f1': 0.7568893327875448, 'auc': 0.8248400034201193, 'prauc': 0.8300751915546538}\n",
      "Test:      {'precision': 0.7035243475902515, 'recall': 0.820006271555911, 'f1': 0.7573124769268312, 'auc': 0.8214233619076812, 'prauc': 0.8286997189432438}\n"
     ]
    },
    {
     "name": "stderr",
     "output_type": "stream",
     "text": [
      "Epoch 015: 100%|██████████| 98/98 [00:06<00:00, 15.98it/s, loss=0.1351]\n",
      "Running inference: 100%|██████████| 198/198 [00:09<00:00, 21.96it/s]\n",
      "Running inference: 100%|██████████| 197/197 [00:09<00:00, 21.18it/s]\n"
     ]
    },
    {
     "name": "stdout",
     "output_type": "stream",
     "text": [
      "Validation: {'precision': 0.758986648405481, 'recall': 0.6952022577588737, 'f1': 0.7256955760219742, 'auc': 0.8211858811765733, 'prauc': 0.8234667686962882}\n",
      "Test:      {'precision': 0.760943912446098, 'recall': 0.6977108811517789, 'f1': 0.727956808355616, 'auc': 0.8209584813768436, 'prauc': 0.8236865247650029}\n",
      "\n",
      "Early stopping triggered (no improvement for 5 epochs).\n",
      "\n",
      "Best validation performance:\n",
      "{'precision': 0.6733380986402827, 'recall': 0.8861712135437875, 'f1': 0.7652315141812248, 'auc': 0.8316343257406482, 'prauc': 0.8361929423237155}\n",
      "Corresponding test performance:\n",
      "{'precision': 0.6704572376198283, 'recall': 0.8874255252402401, 'f1': 0.7638326536644215, 'auc': 0.8251380271368222, 'prauc': 0.831964957470217}\n",
      "[Warning] Missing keys: ['cls_head.cls.0.weight', 'cls_head.cls.0.bias', 'cls_head.cls.2.weight', 'cls_head.cls.2.bias']\n",
      "[Warning] Unexpected keys: ['diag_cls.cls.0.weight', 'diag_cls.cls.0.bias', 'diag_cls.cls.2.weight', 'diag_cls.cls.2.bias', 'med_cls.cls.0.weight', 'med_cls.cls.0.bias', 'med_cls.cls.2.weight', 'med_cls.cls.2.bias', 'lab_cls.cls.0.weight', 'lab_cls.cls.0.bias', 'lab_cls.cls.2.weight', 'lab_cls.cls.2.bias', 'pro_cls.cls.0.weight', 'pro_cls.cls.0.bias', 'pro_cls.cls.2.weight', 'pro_cls.cls.2.bias', 'cls_ontology.cls.0.weight', 'cls_ontology.cls.0.bias', 'cls_ontology.cls.2.weight', 'cls_ontology.cls.2.bias', 'visit_ontology.cls.0.weight', 'visit_ontology.cls.0.bias', 'visit_ontology.cls.2.weight', 'visit_ontology.cls.2.bias', 'adm_type.cls.0.weight', 'adm_type.cls.0.bias', 'adm_type.cls.2.weight', 'adm_type.cls.2.bias']\n"
     ]
    },
    {
     "name": "stderr",
     "output_type": "stream",
     "text": [
      "Epoch 001: 100%|██████████| 98/98 [00:06<00:00, 16.08it/s, loss=0.5902]\n",
      "Running inference: 100%|██████████| 198/198 [00:08<00:00, 22.01it/s]\n",
      "Running inference: 100%|██████████| 197/197 [00:09<00:00, 21.87it/s]\n"
     ]
    },
    {
     "name": "stdout",
     "output_type": "stream",
     "text": [
      "Validation: {'precision': 0.7436224489772206, 'recall': 0.7312637190318869, 'f1': 0.7373912993458455, 'auc': 0.815033936445863, 'prauc': 0.8200263455724983}\n",
      "Test:      {'precision': 0.7347388294501739, 'recall': 0.7322044528042264, 'f1': 0.7334694468588701, 'auc': 0.8116619780978656, 'prauc': 0.8173332977137238}\n"
     ]
    },
    {
     "name": "stderr",
     "output_type": "stream",
     "text": [
      "Epoch 002: 100%|██████████| 98/98 [00:06<00:00, 15.09it/s, loss=0.4975]\n",
      "Running inference: 100%|██████████| 198/198 [00:09<00:00, 21.78it/s]\n",
      "Running inference: 100%|██████████| 197/197 [00:09<00:00, 21.08it/s]\n"
     ]
    },
    {
     "name": "stdout",
     "output_type": "stream",
     "text": [
      "Validation: {'precision': 0.6971812774742767, 'recall': 0.8454060834090769, 'f1': 0.764172330644906, 'auc': 0.834357711329266, 'prauc': 0.8411274467039302}\n",
      "Test:      {'precision': 0.6929032258046635, 'recall': 0.8419567262438321, 'f1': 0.7601925205263154, 'auc': 0.8288912478539039, 'prauc': 0.8367277511370282}\n"
     ]
    },
    {
     "name": "stderr",
     "output_type": "stream",
     "text": [
      "Epoch 003: 100%|██████████| 98/98 [00:06<00:00, 15.89it/s, loss=0.4531]\n",
      "Running inference: 100%|██████████| 198/198 [00:09<00:00, 21.91it/s]\n",
      "Running inference: 100%|██████████| 197/197 [00:09<00:00, 21.84it/s]\n"
     ]
    },
    {
     "name": "stdout",
     "output_type": "stream",
     "text": [
      "Validation: {'precision': 0.7807829181466877, 'recall': 0.6879899655042709, 'f1': 0.7314552375579416, 'auc': 0.8278443632685208, 'prauc': 0.840092078098579}\n",
      "Test:      {'precision': 0.7645051194513157, 'recall': 0.7024145500134763, 'f1': 0.7321457704600706, 'auc': 0.8219244322503068, 'prauc': 0.8312625418426753}\n"
     ]
    },
    {
     "name": "stderr",
     "output_type": "stream",
     "text": [
      "Epoch 004: 100%|██████████| 98/98 [00:06<00:00, 15.91it/s, loss=0.4135]\n",
      "Running inference: 100%|██████████| 198/198 [00:09<00:00, 21.64it/s]\n",
      "Running inference: 100%|██████████| 197/197 [00:09<00:00, 21.13it/s]\n"
     ]
    },
    {
     "name": "stdout",
     "output_type": "stream",
     "text": [
      "Validation: {'precision': 0.7002624671897631, 'recall': 0.8366259015339084, 'f1': 0.762394622841156, 'auc': 0.8406206793237205, 'prauc': 0.8508944220990093}\n",
      "Test:      {'precision': 0.6881693013750939, 'recall': 0.8463468171814164, 'f1': 0.7591056060761644, 'auc': 0.831668048322207, 'prauc': 0.8429437873242289}\n"
     ]
    },
    {
     "name": "stderr",
     "output_type": "stream",
     "text": [
      "Epoch 005: 100%|██████████| 98/98 [00:06<00:00, 16.13it/s, loss=0.3623]\n",
      "Running inference: 100%|██████████| 198/198 [00:09<00:00, 21.93it/s]\n",
      "Running inference: 100%|██████████| 197/197 [00:08<00:00, 21.89it/s]\n"
     ]
    },
    {
     "name": "stdout",
     "output_type": "stream",
     "text": [
      "Validation: {'precision': 0.782033426181121, 'recall': 0.7042960175581553, 'f1': 0.7411318214425137, 'auc': 0.8335170994413772, 'prauc': 0.8390062901612895}\n",
      "Test:      {'precision': 0.7696316886700152, 'recall': 0.6945751019106473, 'f1': 0.730179655468948, 'auc': 0.8282356535583042, 'prauc': 0.8330053268690993}\n"
     ]
    },
    {
     "name": "stderr",
     "output_type": "stream",
     "text": [
      "Epoch 006: 100%|██████████| 98/98 [00:06<00:00, 16.07it/s, loss=0.3224]\n",
      "Running inference: 100%|██████████| 198/198 [00:09<00:00, 21.92it/s]\n",
      "Running inference: 100%|██████████| 197/197 [00:09<00:00, 21.15it/s]\n"
     ]
    },
    {
     "name": "stdout",
     "output_type": "stream",
     "text": [
      "Validation: {'precision': 0.7496116806438348, 'recall': 0.7566635308850528, 'f1': 0.7531210936244758, 'auc': 0.8340913057330505, 'prauc': 0.8394684897535839}\n",
      "Test:      {'precision': 0.7427080135070842, 'recall': 0.7585449984297318, 'f1': 0.7505429673842037, 'auc': 0.8294935389357578, 'prauc': 0.8324117312307697}\n"
     ]
    },
    {
     "name": "stderr",
     "output_type": "stream",
     "text": [
      "Epoch 007: 100%|██████████| 98/98 [00:06<00:00, 16.14it/s, loss=0.2782]\n",
      "Running inference: 100%|██████████| 198/198 [00:09<00:00, 21.94it/s]\n",
      "Running inference: 100%|██████████| 197/197 [00:08<00:00, 21.92it/s]\n"
     ]
    },
    {
     "name": "stdout",
     "output_type": "stream",
     "text": [
      "Validation: {'precision': 0.7621851488362376, 'recall': 0.7306365631836607, 'f1': 0.746077484593184, 'auc': 0.8311084472226049, 'prauc': 0.8378004491051011}\n",
      "Test:      {'precision': 0.7551679586538916, 'recall': 0.7331451865765659, 'f1': 0.743993630639141, 'auc': 0.830033718435211, 'prauc': 0.8356884299999627}\n",
      "\n",
      "Early stopping triggered (no improvement for 5 epochs).\n",
      "\n",
      "Best validation performance:\n",
      "{'precision': 0.6971812774742767, 'recall': 0.8454060834090769, 'f1': 0.764172330644906, 'auc': 0.834357711329266, 'prauc': 0.8411274467039302}\n",
      "Corresponding test performance:\n",
      "{'precision': 0.6929032258046635, 'recall': 0.8419567262438321, 'f1': 0.7601925205263154, 'auc': 0.8288912478539039, 'prauc': 0.8367277511370282}\n",
      "[Warning] Missing keys: ['cls_head.cls.0.weight', 'cls_head.cls.0.bias', 'cls_head.cls.2.weight', 'cls_head.cls.2.bias']\n",
      "[Warning] Unexpected keys: ['diag_cls.cls.0.weight', 'diag_cls.cls.0.bias', 'diag_cls.cls.2.weight', 'diag_cls.cls.2.bias', 'med_cls.cls.0.weight', 'med_cls.cls.0.bias', 'med_cls.cls.2.weight', 'med_cls.cls.2.bias', 'lab_cls.cls.0.weight', 'lab_cls.cls.0.bias', 'lab_cls.cls.2.weight', 'lab_cls.cls.2.bias', 'pro_cls.cls.0.weight', 'pro_cls.cls.0.bias', 'pro_cls.cls.2.weight', 'pro_cls.cls.2.bias', 'cls_ontology.cls.0.weight', 'cls_ontology.cls.0.bias', 'cls_ontology.cls.2.weight', 'cls_ontology.cls.2.bias', 'visit_ontology.cls.0.weight', 'visit_ontology.cls.0.bias', 'visit_ontology.cls.2.weight', 'visit_ontology.cls.2.bias', 'adm_type.cls.0.weight', 'adm_type.cls.0.bias', 'adm_type.cls.2.weight', 'adm_type.cls.2.bias']\n"
     ]
    },
    {
     "name": "stderr",
     "output_type": "stream",
     "text": [
      "Epoch 001: 100%|██████████| 98/98 [00:06<00:00, 15.75it/s, loss=0.5855]\n",
      "Running inference: 100%|██████████| 198/198 [00:08<00:00, 22.02it/s]\n",
      "Running inference: 100%|██████████| 197/197 [00:09<00:00, 21.04it/s]\n"
     ]
    },
    {
     "name": "stdout",
     "output_type": "stream",
     "text": [
      "Validation: {'precision': 0.7155466970366869, 'recall': 0.7880213232963688, 'f1': 0.7500373028738765, 'auc': 0.8163795283550904, 'prauc': 0.8247244802783513}\n",
      "Test:      {'precision': 0.7082744987271724, 'recall': 0.7864534336758029, 'f1': 0.7453194600931868, 'auc': 0.8160644510851155, 'prauc': 0.8239970377054123}\n"
     ]
    },
    {
     "name": "stderr",
     "output_type": "stream",
     "text": [
      "Epoch 002: 100%|██████████| 98/98 [00:06<00:00, 15.51it/s, loss=0.4948]\n",
      "Running inference: 100%|██████████| 198/198 [00:09<00:00, 21.42it/s]\n",
      "Running inference: 100%|██████████| 197/197 [00:09<00:00, 21.87it/s]\n"
     ]
    },
    {
     "name": "stdout",
     "output_type": "stream",
     "text": [
      "Validation: {'precision': 0.7993372606745238, 'recall': 0.6807776732496683, 'f1': 0.7353090551481345, 'auc': 0.8375883375939139, 'prauc': 0.8460755772928565}\n",
      "Test:      {'precision': 0.7862292718068269, 'recall': 0.6839134524907999, 'f1': 0.7315109794255881, 'auc': 0.8322669167236694, 'prauc': 0.8412810156876341}\n"
     ]
    },
    {
     "name": "stderr",
     "output_type": "stream",
     "text": [
      "Epoch 003: 100%|██████████| 98/98 [00:06<00:00, 16.05it/s, loss=0.4366]\n",
      "Running inference: 100%|██████████| 198/198 [00:09<00:00, 21.87it/s]\n",
      "Running inference: 100%|██████████| 197/197 [00:09<00:00, 21.19it/s]\n"
     ]
    },
    {
     "name": "stdout",
     "output_type": "stream",
     "text": [
      "Validation: {'precision': 0.7450310558983074, 'recall': 0.7522734399474686, 'f1': 0.7486347274053328, 'auc': 0.8292626980220479, 'prauc': 0.8358175405363767}\n",
      "Test:      {'precision': 0.741374045799263, 'recall': 0.7613671997467502, 'f1': 0.751237618760937, 'auc': 0.8303799124901158, 'prauc': 0.8382152377168501}\n"
     ]
    },
    {
     "name": "stderr",
     "output_type": "stream",
     "text": [
      "Epoch 004: 100%|██████████| 98/98 [00:06<00:00, 16.12it/s, loss=0.4027]\n",
      "Running inference: 100%|██████████| 198/198 [00:09<00:00, 21.87it/s]\n",
      "Running inference: 100%|██████████| 197/197 [00:09<00:00, 21.87it/s]\n"
     ]
    },
    {
     "name": "stdout",
     "output_type": "stream",
     "text": [
      "Validation: {'precision': 0.8007896625958335, 'recall': 0.6995923486964579, 'f1': 0.7467782376980706, 'auc': 0.8439085755072231, 'prauc': 0.8517320744826249}\n",
      "Test:      {'precision': 0.7906238984815276, 'recall': 0.7033552837858158, 'f1': 0.7444407517354662, 'auc': 0.8412718881669382, 'prauc': 0.8504151583786432}\n"
     ]
    },
    {
     "name": "stderr",
     "output_type": "stream",
     "text": [
      "Epoch 005: 100%|██████████| 98/98 [00:06<00:00, 16.07it/s, loss=0.3583]\n",
      "Running inference: 100%|██████████| 198/198 [00:09<00:00, 21.88it/s]\n",
      "Running inference: 100%|██████████| 197/197 [00:09<00:00, 21.15it/s]\n"
     ]
    },
    {
     "name": "stdout",
     "output_type": "stream",
     "text": [
      "Validation: {'precision': 0.7231167337529525, 'recall': 0.788648479144595, 'f1': 0.7544622718932876, 'auc': 0.8288773317522817, 'prauc': 0.83573469029729}\n",
      "Test:      {'precision': 0.7224108658723192, 'recall': 0.8005644402608951, 'f1': 0.7594823689511129, 'auc': 0.8286619786012008, 'prauc': 0.8325628402513399}\n"
     ]
    },
    {
     "name": "stderr",
     "output_type": "stream",
     "text": [
      "Epoch 006: 100%|██████████| 98/98 [00:06<00:00, 15.86it/s, loss=0.3166]\n",
      "Running inference: 100%|██████████| 198/198 [00:09<00:00, 21.84it/s]\n",
      "Running inference: 100%|██████████| 197/197 [00:09<00:00, 21.85it/s]\n"
     ]
    },
    {
     "name": "stdout",
     "output_type": "stream",
     "text": [
      "Validation: {'precision': 0.7375296912092116, 'recall': 0.7789275634970871, 'f1': 0.7576635606564405, 'auc': 0.8320182351440575, 'prauc': 0.8372191626164638}\n",
      "Test:      {'precision': 0.742737346508707, 'recall': 0.7776732518006345, 'f1': 0.7598039165689396, 'auc': 0.8315650659092476, 'prauc': 0.8363446171888924}\n"
     ]
    },
    {
     "name": "stderr",
     "output_type": "stream",
     "text": [
      "Epoch 007: 100%|██████████| 98/98 [00:06<00:00, 15.91it/s, loss=0.2669]\n",
      "Running inference: 100%|██████████| 198/198 [00:09<00:00, 21.85it/s]\n",
      "Running inference: 100%|██████████| 197/197 [00:09<00:00, 21.20it/s]\n"
     ]
    },
    {
     "name": "stdout",
     "output_type": "stream",
     "text": [
      "Validation: {'precision': 0.7299435028227967, 'recall': 0.810285355908403, 'f1': 0.7680190171542851, 'auc': 0.8394866344568587, 'prauc': 0.846731544537531}\n",
      "Test:      {'precision': 0.7249860257106624, 'recall': 0.8134211351495346, 'f1': 0.7666617358152025, 'auc': 0.8371930598108365, 'prauc': 0.8444296095415753}\n"
     ]
    },
    {
     "name": "stderr",
     "output_type": "stream",
     "text": [
      "Epoch 008: 100%|██████████| 98/98 [00:06<00:00, 15.99it/s, loss=0.2283]\n",
      "Running inference: 100%|██████████| 198/198 [00:08<00:00, 22.03it/s]\n",
      "Running inference: 100%|██████████| 197/197 [00:08<00:00, 22.23it/s]\n"
     ]
    },
    {
     "name": "stdout",
     "output_type": "stream",
     "text": [
      "Validation: {'precision': 0.7616279069741395, 'recall': 0.6983380370000052, 'f1': 0.7286111515586239, 'auc': 0.8210638058232255, 'prauc': 0.8240714074137135}\n",
      "Test:      {'precision': 0.7709176788098148, 'recall': 0.7165255565985684, 'f1': 0.7427271199839565, 'auc': 0.827427900985883, 'prauc': 0.8274231126298687}\n"
     ]
    },
    {
     "name": "stderr",
     "output_type": "stream",
     "text": [
      "Epoch 009: 100%|██████████| 98/98 [00:06<00:00, 16.18it/s, loss=0.2002]\n",
      "Running inference: 100%|██████████| 198/198 [00:08<00:00, 22.29it/s]\n",
      "Running inference: 100%|██████████| 197/197 [00:09<00:00, 21.20it/s]\n"
     ]
    },
    {
     "name": "stdout",
     "output_type": "stream",
     "text": [
      "Validation: {'precision': 0.7524557956753358, 'recall': 0.7206020696120395, 'f1': 0.73618452166985, 'auc': 0.8207503283726533, 'prauc': 0.8279424597191684}\n",
      "Test:      {'precision': 0.7470190138551498, 'recall': 0.7268736280943027, 'f1': 0.7368086408981471, 'auc': 0.8215139622709887, 'prauc': 0.8259111027110974}\n"
     ]
    },
    {
     "name": "stderr",
     "output_type": "stream",
     "text": [
      "Epoch 010: 100%|██████████| 98/98 [00:06<00:00, 15.85it/s, loss=0.1707]\n",
      "Running inference: 100%|██████████| 198/198 [00:08<00:00, 22.26it/s]\n",
      "Running inference: 100%|██████████| 197/197 [00:08<00:00, 21.96it/s]\n"
     ]
    },
    {
     "name": "stdout",
     "output_type": "stream",
     "text": [
      "Validation: {'precision': 0.7737508796594872, 'recall': 0.6895578551248368, 'f1': 0.7292322947985808, 'auc': 0.8241348801034155, 'prauc': 0.8292162366267404}\n",
      "Test:      {'precision': 0.7703498441261851, 'recall': 0.6973973032276658, 'f1': 0.7320605611718912, 'auc': 0.825875514094145, 'prauc': 0.829528788652995}\n"
     ]
    },
    {
     "name": "stderr",
     "output_type": "stream",
     "text": [
      "Epoch 011: 100%|██████████| 98/98 [00:06<00:00, 15.47it/s, loss=0.1658]\n",
      "Running inference: 100%|██████████| 198/198 [00:09<00:00, 21.93it/s]\n",
      "Running inference: 100%|██████████| 197/197 [00:09<00:00, 21.10it/s]\n"
     ]
    },
    {
     "name": "stdout",
     "output_type": "stream",
     "text": [
      "Validation: {'precision': 0.7481595092001591, 'recall': 0.7648165569119949, 'f1': 0.7563963355161701, 'auc': 0.8360624961506073, 'prauc': 0.8431399793636658}\n",
      "Test:      {'precision': 0.7500752785283046, 'recall': 0.7811226089658793, 'f1': 0.7652841731871086, 'auc': 0.8381538766637121, 'prauc': 0.8468069985629001}\n"
     ]
    },
    {
     "name": "stderr",
     "output_type": "stream",
     "text": [
      "Epoch 012: 100%|██████████| 98/98 [00:06<00:00, 16.20it/s, loss=0.1512]\n",
      "Running inference: 100%|██████████| 198/198 [00:08<00:00, 22.16it/s]\n",
      "Running inference: 100%|██████████| 197/197 [00:08<00:00, 21.89it/s]\n"
     ]
    },
    {
     "name": "stdout",
     "output_type": "stream",
     "text": [
      "Validation: {'precision': 0.6988272921090116, 'recall': 0.8222013170247031, 'f1': 0.7555107283544477, 'auc': 0.8207493236372347, 'prauc': 0.8265687138141374}\n",
      "Test:      {'precision': 0.7021445591720886, 'recall': 0.8316086547480979, 'f1': 0.761412570399503, 'auc': 0.8233031684457054, 'prauc': 0.8277060073266598}\n",
      "\n",
      "Early stopping triggered (no improvement for 5 epochs).\n",
      "\n",
      "Best validation performance:\n",
      "{'precision': 0.7299435028227967, 'recall': 0.810285355908403, 'f1': 0.7680190171542851, 'auc': 0.8394866344568587, 'prauc': 0.846731544537531}\n",
      "Corresponding test performance:\n",
      "{'precision': 0.7249860257106624, 'recall': 0.8134211351495346, 'f1': 0.7666617358152025, 'auc': 0.8371930598108365, 'prauc': 0.8444296095415753}\n",
      "[Warning] Missing keys: ['cls_head.cls.0.weight', 'cls_head.cls.0.bias', 'cls_head.cls.2.weight', 'cls_head.cls.2.bias']\n",
      "[Warning] Unexpected keys: ['diag_cls.cls.0.weight', 'diag_cls.cls.0.bias', 'diag_cls.cls.2.weight', 'diag_cls.cls.2.bias', 'med_cls.cls.0.weight', 'med_cls.cls.0.bias', 'med_cls.cls.2.weight', 'med_cls.cls.2.bias', 'lab_cls.cls.0.weight', 'lab_cls.cls.0.bias', 'lab_cls.cls.2.weight', 'lab_cls.cls.2.bias', 'pro_cls.cls.0.weight', 'pro_cls.cls.0.bias', 'pro_cls.cls.2.weight', 'pro_cls.cls.2.bias', 'cls_ontology.cls.0.weight', 'cls_ontology.cls.0.bias', 'cls_ontology.cls.2.weight', 'cls_ontology.cls.2.bias', 'visit_ontology.cls.0.weight', 'visit_ontology.cls.0.bias', 'visit_ontology.cls.2.weight', 'visit_ontology.cls.2.bias', 'adm_type.cls.0.weight', 'adm_type.cls.0.bias', 'adm_type.cls.2.weight', 'adm_type.cls.2.bias']\n"
     ]
    },
    {
     "name": "stderr",
     "output_type": "stream",
     "text": [
      "Epoch 001: 100%|██████████| 98/98 [00:06<00:00, 15.86it/s, loss=0.5762]\n",
      "Running inference: 100%|██████████| 198/198 [00:09<00:00, 21.97it/s]\n",
      "Running inference: 100%|██████████| 197/197 [00:09<00:00, 21.09it/s]\n"
     ]
    },
    {
     "name": "stdout",
     "output_type": "stream",
     "text": [
      "Validation: {'precision': 0.7701793721944313, 'recall': 0.6462841015972208, 'f1': 0.7028132942685933, 'auc': 0.8111051195388987, 'prauc': 0.8182165511985715}\n",
      "Test:      {'precision': 0.7630712979862411, 'recall': 0.654437127624163, 'f1': 0.7045914872619642, 'auc': 0.8098122710138733, 'prauc': 0.8155396796942207}\n"
     ]
    },
    {
     "name": "stderr",
     "output_type": "stream",
     "text": [
      "Epoch 002: 100%|██████████| 98/98 [00:06<00:00, 15.61it/s, loss=0.5003]\n",
      "Running inference: 100%|██████████| 198/198 [00:08<00:00, 22.27it/s]\n",
      "Running inference: 100%|██████████| 197/197 [00:08<00:00, 22.20it/s]\n"
     ]
    },
    {
     "name": "stdout",
     "output_type": "stream",
     "text": [
      "Validation: {'precision': 0.75889858965494, 'recall': 0.7086861084957394, 'f1': 0.7329333499572624, 'auc': 0.8266006515307295, 'prauc': 0.8332891020436508}\n",
      "Test:      {'precision': 0.7551087673014004, 'recall': 0.7184070241432474, 'f1': 0.7363008145411502, 'auc': 0.8251812133099987, 'prauc': 0.8340124828985579}\n"
     ]
    },
    {
     "name": "stderr",
     "output_type": "stream",
     "text": [
      "Epoch 003: 100%|██████████| 98/98 [00:05<00:00, 16.43it/s, loss=0.4519]\n",
      "Running inference: 100%|██████████| 198/198 [00:08<00:00, 22.06it/s]\n",
      "Running inference: 100%|██████████| 197/197 [00:09<00:00, 21.08it/s]\n"
     ]
    },
    {
     "name": "stdout",
     "output_type": "stream",
     "text": [
      "Validation: {'precision': 0.8151118615415149, 'recall': 0.6055189714625101, 'f1': 0.6948542592301182, 'auc': 0.8257432103245809, 'prauc': 0.8349769989831646}\n",
      "Test:      {'precision': 0.8190761334438876, 'recall': 0.6005017246766996, 'f1': 0.6929618188902279, 'auc': 0.8255064182807372, 'prauc': 0.8364648789840947}\n"
     ]
    },
    {
     "name": "stderr",
     "output_type": "stream",
     "text": [
      "Epoch 004: 100%|██████████| 98/98 [00:06<00:00, 15.77it/s, loss=0.4205]\n",
      "Running inference: 100%|██████████| 198/198 [00:09<00:00, 21.94it/s]\n",
      "Running inference: 100%|██████████| 197/197 [00:08<00:00, 21.90it/s]\n"
     ]
    },
    {
     "name": "stdout",
     "output_type": "stream",
     "text": [
      "Validation: {'precision': 0.726417782842045, 'recall': 0.7993101285644425, 'f1': 0.7611227182100954, 'auc': 0.8342065488855526, 'prauc': 0.8422018842919421}\n",
      "Test:      {'precision': 0.7159696884627674, 'recall': 0.7999372844126688, 'f1': 0.7556279570984107, 'auc': 0.829378375807287, 'prauc': 0.8375103296374785}\n"
     ]
    },
    {
     "name": "stderr",
     "output_type": "stream",
     "text": [
      "Epoch 005: 100%|██████████| 98/98 [00:05<00:00, 16.46it/s, loss=0.3728]\n",
      "Running inference: 100%|██████████| 198/198 [00:08<00:00, 22.33it/s]\n",
      "Running inference: 100%|██████████| 197/197 [00:09<00:00, 21.56it/s]\n"
     ]
    },
    {
     "name": "stdout",
     "output_type": "stream",
     "text": [
      "Validation: {'precision': 0.7955283086880797, 'recall': 0.6917529005936289, 'f1': 0.7400201224958626, 'auc': 0.8354968803467623, 'prauc': 0.8449082446047043}\n",
      "Test:      {'precision': 0.7752808988736823, 'recall': 0.6923800564418552, 'f1': 0.731489145253715, 'auc': 0.8312837517811779, 'prauc': 0.8398311982170756}\n"
     ]
    },
    {
     "name": "stderr",
     "output_type": "stream",
     "text": [
      "Epoch 006: 100%|██████████| 98/98 [00:06<00:00, 16.01it/s, loss=0.3145]\n",
      "Running inference: 100%|██████████| 198/198 [00:08<00:00, 22.04it/s]\n",
      "Running inference: 100%|██████████| 197/197 [00:08<00:00, 22.12it/s]\n"
     ]
    },
    {
     "name": "stdout",
     "output_type": "stream",
     "text": [
      "Validation: {'precision': 0.7812824956645363, 'recall': 0.7068046409510605, 'f1': 0.7421797776903577, 'auc': 0.8372680279424958, 'prauc': 0.8457412065520241}\n",
      "Test:      {'precision': 0.771092436972198, 'recall': 0.7193477579155869, 'f1': 0.7443218639198996, 'auc': 0.8330604752391724, 'prauc': 0.8397157807692868}\n"
     ]
    },
    {
     "name": "stderr",
     "output_type": "stream",
     "text": [
      "Epoch 007: 100%|██████████| 98/98 [00:06<00:00, 16.27it/s, loss=0.2885]\n",
      "Running inference: 100%|██████████| 198/198 [00:09<00:00, 21.78it/s]\n",
      "Running inference: 100%|██████████| 197/197 [00:09<00:00, 21.16it/s]\n"
     ]
    },
    {
     "name": "stdout",
     "output_type": "stream",
     "text": [
      "Validation: {'precision': 0.7300413956217326, 'recall': 0.7742238946353898, 'f1': 0.7514837874232712, 'auc': 0.8243418053628557, 'prauc': 0.8303520940702356}\n",
      "Test:      {'precision': 0.7227522405298562, 'recall': 0.7839448102828976, 'f1': 0.7521058915162134, 'auc': 0.826142533498226, 'prauc': 0.8332706724776584}\n"
     ]
    },
    {
     "name": "stderr",
     "output_type": "stream",
     "text": [
      "Epoch 008: 100%|██████████| 98/98 [00:06<00:00, 16.02it/s, loss=0.2528]\n",
      "Running inference: 100%|██████████| 198/198 [00:09<00:00, 21.90it/s]\n",
      "Running inference: 100%|██████████| 197/197 [00:09<00:00, 21.89it/s]\n"
     ]
    },
    {
     "name": "stdout",
     "output_type": "stream",
     "text": [
      "Validation: {'precision': 0.7145685997150932, 'recall': 0.7920978363098398, 'f1': 0.7513384840056506, 'auc': 0.8246959243611064, 'prauc': 0.834251028663811}\n",
      "Test:      {'precision': 0.719999999997986, 'recall': 0.8071495766672714, 'f1': 0.7610881085563155, 'auc': 0.8275644055332663, 'prauc': 0.837663939648961}\n"
     ]
    },
    {
     "name": "stderr",
     "output_type": "stream",
     "text": [
      "Epoch 009: 100%|██████████| 98/98 [00:06<00:00, 15.75it/s, loss=0.2135]\n",
      "Running inference: 100%|██████████| 198/198 [00:08<00:00, 22.14it/s]\n",
      "Running inference: 100%|██████████| 197/197 [00:09<00:00, 21.14it/s]\n"
     ]
    },
    {
     "name": "stdout",
     "output_type": "stream",
     "text": [
      "Validation: {'precision': 0.7268722466939005, 'recall': 0.7761053621800686, 'f1': 0.7506824335836161, 'auc': 0.8261930806082146, 'prauc': 0.8304428872038229}\n",
      "Test:      {'precision': 0.727299791602479, 'recall': 0.7660708686084476, 'f1': 0.7461820353187454, 'auc': 0.8198294498494273, 'prauc': 0.8256901960552889}\n",
      "\n",
      "Early stopping triggered (no improvement for 5 epochs).\n",
      "\n",
      "Best validation performance:\n",
      "{'precision': 0.726417782842045, 'recall': 0.7993101285644425, 'f1': 0.7611227182100954, 'auc': 0.8342065488855526, 'prauc': 0.8422018842919421}\n",
      "Corresponding test performance:\n",
      "{'precision': 0.7159696884627674, 'recall': 0.7999372844126688, 'f1': 0.7556279570984107, 'auc': 0.829378375807287, 'prauc': 0.8375103296374785}\n",
      "[Warning] Missing keys: ['cls_head.cls.0.weight', 'cls_head.cls.0.bias', 'cls_head.cls.2.weight', 'cls_head.cls.2.bias']\n",
      "[Warning] Unexpected keys: ['diag_cls.cls.0.weight', 'diag_cls.cls.0.bias', 'diag_cls.cls.2.weight', 'diag_cls.cls.2.bias', 'med_cls.cls.0.weight', 'med_cls.cls.0.bias', 'med_cls.cls.2.weight', 'med_cls.cls.2.bias', 'lab_cls.cls.0.weight', 'lab_cls.cls.0.bias', 'lab_cls.cls.2.weight', 'lab_cls.cls.2.bias', 'pro_cls.cls.0.weight', 'pro_cls.cls.0.bias', 'pro_cls.cls.2.weight', 'pro_cls.cls.2.bias', 'cls_ontology.cls.0.weight', 'cls_ontology.cls.0.bias', 'cls_ontology.cls.2.weight', 'cls_ontology.cls.2.bias', 'visit_ontology.cls.0.weight', 'visit_ontology.cls.0.bias', 'visit_ontology.cls.2.weight', 'visit_ontology.cls.2.bias', 'adm_type.cls.0.weight', 'adm_type.cls.0.bias', 'adm_type.cls.2.weight', 'adm_type.cls.2.bias']\n"
     ]
    },
    {
     "name": "stderr",
     "output_type": "stream",
     "text": [
      "Epoch 001: 100%|██████████| 98/98 [00:06<00:00, 15.64it/s, loss=0.5810]\n",
      "Running inference: 100%|██████████| 198/198 [00:09<00:00, 21.93it/s]\n",
      "Running inference: 100%|██████████| 197/197 [00:08<00:00, 21.95it/s]\n"
     ]
    },
    {
     "name": "stdout",
     "output_type": "stream",
     "text": [
      "Validation: {'precision': 0.7381615598862948, 'recall': 0.7478833490098844, 'f1': 0.742990649203507, 'auc': 0.8161987262165311, 'prauc': 0.8233185223969217}\n",
      "Test:      {'precision': 0.7272451456288616, 'recall': 0.7516462840992423, 'f1': 0.7392444051764138, 'auc': 0.8155164698877109, 'prauc': 0.8217377066661208}\n"
     ]
    },
    {
     "name": "stderr",
     "output_type": "stream",
     "text": [
      "Epoch 002: 100%|██████████| 98/98 [00:06<00:00, 15.99it/s, loss=0.5005]\n",
      "Running inference: 100%|██████████| 198/198 [00:09<00:00, 21.77it/s]\n",
      "Running inference: 100%|██████████| 197/197 [00:09<00:00, 21.23it/s]\n"
     ]
    },
    {
     "name": "stdout",
     "output_type": "stream",
     "text": [
      "Validation: {'precision': 0.8307017543823215, 'recall': 0.5939165882703232, 'f1': 0.6926311891381551, 'auc': 0.8374644034800418, 'prauc': 0.8441831786387513}\n",
      "Test:      {'precision': 0.822903363129745, 'recall': 0.6061461273107365, 'f1': 0.6980859467195903, 'auc': 0.8327134255141696, 'prauc': 0.8408750428153319}\n"
     ]
    },
    {
     "name": "stderr",
     "output_type": "stream",
     "text": [
      "Epoch 003: 100%|██████████| 98/98 [00:06<00:00, 15.78it/s, loss=0.4587]\n",
      "Running inference: 100%|██████████| 198/198 [00:08<00:00, 22.02it/s]\n",
      "Running inference: 100%|██████████| 197/197 [00:08<00:00, 21.97it/s]\n"
     ]
    },
    {
     "name": "stdout",
     "output_type": "stream",
     "text": [
      "Validation: {'precision': 0.7226177437001023, 'recall': 0.8275321417346267, 'f1': 0.7715246259225624, 'auc': 0.8406585076122273, 'prauc': 0.8499861434167669}\n",
      "Test:      {'precision': 0.7071600965387311, 'recall': 0.8269049858864005, 'f1': 0.7623590583413571, 'auc': 0.8337580980366397, 'prauc': 0.8433447288319902}\n"
     ]
    },
    {
     "name": "stderr",
     "output_type": "stream",
     "text": [
      "Epoch 004: 100%|██████████| 98/98 [00:06<00:00, 16.07it/s, loss=0.4089]\n",
      "Running inference: 100%|██████████| 198/198 [00:09<00:00, 21.95it/s]\n",
      "Running inference: 100%|██████████| 197/197 [00:09<00:00, 21.19it/s]\n"
     ]
    },
    {
     "name": "stdout",
     "output_type": "stream",
     "text": [
      "Validation: {'precision': 0.7190980711743573, 'recall': 0.830040765127532, 'f1': 0.7705967926944344, 'auc': 0.8459131231406742, 'prauc': 0.8543498071597777}\n",
      "Test:      {'precision': 0.7123834886798606, 'recall': 0.8388209470027005, 'f1': 0.7704493037867602, 'auc': 0.8409816650031433, 'prauc': 0.8478520958334059}\n"
     ]
    },
    {
     "name": "stderr",
     "output_type": "stream",
     "text": [
      "Epoch 005: 100%|██████████| 98/98 [00:06<00:00, 16.10it/s, loss=0.3652]\n",
      "Running inference: 100%|██████████| 198/198 [00:08<00:00, 22.09it/s]\n",
      "Running inference: 100%|██████████| 197/197 [00:09<00:00, 21.86it/s]\n"
     ]
    },
    {
     "name": "stdout",
     "output_type": "stream",
     "text": [
      "Validation: {'precision': 0.7733245729278143, 'recall': 0.7381624333623764, 'f1': 0.75533450486712, 'auc': 0.8384479892179832, 'prauc': 0.8417355157126782}\n",
      "Test:      {'precision': 0.7640264026377425, 'recall': 0.7259328943219633, 'f1': 0.7444926787120817, 'auc': 0.8322838287914868, 'prauc': 0.8369874593689686}\n"
     ]
    },
    {
     "name": "stderr",
     "output_type": "stream",
     "text": [
      "Epoch 006: 100%|██████████| 98/98 [00:06<00:00, 16.02it/s, loss=0.3199]\n",
      "Running inference: 100%|██████████| 198/198 [00:09<00:00, 21.74it/s]\n",
      "Running inference: 100%|██████████| 197/197 [00:09<00:00, 21.16it/s]\n"
     ]
    },
    {
     "name": "stdout",
     "output_type": "stream",
     "text": [
      "Validation: {'precision': 0.7557003257304374, 'recall': 0.727500783942529, 'f1': 0.7413324762264716, 'auc': 0.8328914506962766, 'prauc': 0.8447442847856993}\n",
      "Test:      {'precision': 0.7557324840740264, 'recall': 0.7441204139205264, 'f1': 0.7498814928648918, 'auc': 0.833561897916544, 'prauc': 0.8417607304077832}\n"
     ]
    },
    {
     "name": "stderr",
     "output_type": "stream",
     "text": [
      "Epoch 007: 100%|██████████| 98/98 [00:06<00:00, 15.74it/s, loss=0.2825]\n",
      "Running inference: 100%|██████████| 198/198 [00:09<00:00, 21.92it/s]\n",
      "Running inference: 100%|██████████| 197/197 [00:08<00:00, 21.90it/s]\n"
     ]
    },
    {
     "name": "stdout",
     "output_type": "stream",
     "text": [
      "Validation: {'precision': 0.7466374726282557, 'recall': 0.7485105048581107, 'f1': 0.7475728105316473, 'auc': 0.8297863661221704, 'prauc': 0.8348379835067067}\n",
      "Test:      {'precision': 0.7510889856852798, 'recall': 0.756977108809166, 'f1': 0.7540215473950349, 'auc': 0.8312700107260764, 'prauc': 0.8336765296580488}\n"
     ]
    },
    {
     "name": "stderr",
     "output_type": "stream",
     "text": [
      "Epoch 008: 100%|██████████| 98/98 [00:06<00:00, 16.19it/s, loss=0.2516]\n",
      "Running inference: 100%|██████████| 198/198 [00:09<00:00, 21.99it/s]\n",
      "Running inference: 100%|██████████| 197/197 [00:09<00:00, 21.14it/s]\n"
     ]
    },
    {
     "name": "stdout",
     "output_type": "stream",
     "text": [
      "Validation: {'precision': 0.7984559122275561, 'recall': 0.6161806208823576, 'f1': 0.6955752163194869, 'auc': 0.8175527579032739, 'prauc': 0.824169805141848}\n",
      "Test:      {'precision': 0.7962602259415806, 'recall': 0.6409532768872971, 'f1': 0.7102154224360435, 'auc': 0.8207318294679694, 'prauc': 0.8230383391828854}\n",
      "\n",
      "Early stopping triggered (no improvement for 5 epochs).\n",
      "\n",
      "Best validation performance:\n",
      "{'precision': 0.7226177437001023, 'recall': 0.8275321417346267, 'f1': 0.7715246259225624, 'auc': 0.8406585076122273, 'prauc': 0.8499861434167669}\n",
      "Corresponding test performance:\n",
      "{'precision': 0.7071600965387311, 'recall': 0.8269049858864005, 'f1': 0.7623590583413571, 'auc': 0.8337580980366397, 'prauc': 0.8433447288319902}\n",
      "[Warning] Missing keys: ['cls_head.cls.0.weight', 'cls_head.cls.0.bias', 'cls_head.cls.2.weight', 'cls_head.cls.2.bias']\n",
      "[Warning] Unexpected keys: ['diag_cls.cls.0.weight', 'diag_cls.cls.0.bias', 'diag_cls.cls.2.weight', 'diag_cls.cls.2.bias', 'med_cls.cls.0.weight', 'med_cls.cls.0.bias', 'med_cls.cls.2.weight', 'med_cls.cls.2.bias', 'lab_cls.cls.0.weight', 'lab_cls.cls.0.bias', 'lab_cls.cls.2.weight', 'lab_cls.cls.2.bias', 'pro_cls.cls.0.weight', 'pro_cls.cls.0.bias', 'pro_cls.cls.2.weight', 'pro_cls.cls.2.bias', 'cls_ontology.cls.0.weight', 'cls_ontology.cls.0.bias', 'cls_ontology.cls.2.weight', 'cls_ontology.cls.2.bias', 'visit_ontology.cls.0.weight', 'visit_ontology.cls.0.bias', 'visit_ontology.cls.2.weight', 'visit_ontology.cls.2.bias', 'adm_type.cls.0.weight', 'adm_type.cls.0.bias', 'adm_type.cls.2.weight', 'adm_type.cls.2.bias']\n"
     ]
    },
    {
     "name": "stderr",
     "output_type": "stream",
     "text": [
      "Epoch 001: 100%|██████████| 98/98 [00:06<00:00, 15.98it/s, loss=0.5727]\n",
      "Running inference: 100%|██████████| 198/198 [00:09<00:00, 21.78it/s]\n",
      "Running inference: 100%|██████████| 197/197 [00:08<00:00, 22.05it/s]\n"
     ]
    },
    {
     "name": "stdout",
     "output_type": "stream",
     "text": [
      "Validation: {'precision': 0.6808617234451882, 'recall': 0.8523047977395664, 'f1': 0.7569976277021069, 'auc': 0.8221518840446911, 'prauc': 0.827992819641757}\n",
      "Test:      {'precision': 0.6809785321999976, 'recall': 0.855440576980698, 'f1': 0.7583043731026673, 'auc': 0.8174088598095279, 'prauc': 0.8230948218675425}\n"
     ]
    },
    {
     "name": "stderr",
     "output_type": "stream",
     "text": [
      "Epoch 002: 100%|██████████| 98/98 [00:05<00:00, 16.35it/s, loss=0.5024]\n",
      "Running inference: 100%|██████████| 198/198 [00:08<00:00, 22.31it/s]\n",
      "Running inference: 100%|██████████| 197/197 [00:09<00:00, 21.36it/s]\n"
     ]
    },
    {
     "name": "stdout",
     "output_type": "stream",
     "text": [
      "Validation: {'precision': 0.7388792605409045, 'recall': 0.8021323298814609, 'f1': 0.7692076329552916, 'auc': 0.8440810885785797, 'prauc': 0.8542849986126606}\n",
      "Test:      {'precision': 0.7358708189136798, 'recall': 0.8002508623367819, 'f1': 0.7667117270178957, 'auc': 0.8382803648375964, 'prauc': 0.8488566327870246}\n"
     ]
    },
    {
     "name": "stderr",
     "output_type": "stream",
     "text": [
      "Epoch 003: 100%|██████████| 98/98 [00:06<00:00, 15.76it/s, loss=0.4562]\n",
      "Running inference: 100%|██████████| 198/198 [00:08<00:00, 22.01it/s]\n",
      "Running inference: 100%|██████████| 197/197 [00:08<00:00, 21.90it/s]\n"
     ]
    },
    {
     "name": "stdout",
     "output_type": "stream",
     "text": [
      "Validation: {'precision': 0.737861271674168, 'recall': 0.8005644402608951, 'f1': 0.7679350228297291, 'auc': 0.8454966603097056, 'prauc': 0.8548419024561947}\n",
      "Test:      {'precision': 0.7269634250050271, 'recall': 0.8040137974261399, 'f1': 0.763549726993714, 'auc': 0.8432623278152679, 'prauc': 0.8526279915686619}\n"
     ]
    },
    {
     "name": "stderr",
     "output_type": "stream",
     "text": [
      "Epoch 004: 100%|██████████| 98/98 [00:06<00:00, 15.68it/s, loss=0.4028]\n",
      "Running inference: 100%|██████████| 198/198 [00:09<00:00, 22.00it/s]\n",
      "Running inference: 100%|██████████| 197/197 [00:08<00:00, 21.90it/s]\n"
     ]
    },
    {
     "name": "stdout",
     "output_type": "stream",
     "text": [
      "Validation: {'precision': 0.7519637462212931, 'recall': 0.7804954531176529, 'f1': 0.7659639894600624, 'auc': 0.8428879652691099, 'prauc': 0.8514721612784921}\n",
      "Test:      {'precision': 0.7397014925351054, 'recall': 0.7770460959524081, 'f1': 0.7579140491374312, 'auc': 0.8368269336760041, 'prauc': 0.8472857984813953}\n"
     ]
    },
    {
     "name": "stderr",
     "output_type": "stream",
     "text": [
      "Epoch 005: 100%|██████████| 98/98 [00:06<00:00, 15.05it/s, loss=0.3462]\n",
      "Running inference: 100%|██████████| 198/198 [00:08<00:00, 22.01it/s]\n",
      "Running inference: 100%|██████████| 197/197 [00:08<00:00, 21.96it/s]\n"
     ]
    },
    {
     "name": "stdout",
     "output_type": "stream",
     "text": [
      "Validation: {'precision': 0.7797494780766189, 'recall': 0.7027281279375894, 'f1': 0.739237996000667, 'auc': 0.8344865184099177, 'prauc': 0.8421466027332976}\n",
      "Test:      {'precision': 0.7737931034456076, 'recall': 0.7036688617099289, 'f1': 0.7370668368547943, 'auc': 0.8351498706176479, 'prauc': 0.8417431610346554}\n"
     ]
    },
    {
     "name": "stderr",
     "output_type": "stream",
     "text": [
      "Epoch 006: 100%|██████████| 98/98 [00:06<00:00, 15.95it/s, loss=0.3187]\n",
      "Running inference: 100%|██████████| 198/198 [00:09<00:00, 21.68it/s]\n",
      "Running inference: 100%|██████████| 197/197 [00:09<00:00, 21.23it/s]\n"
     ]
    },
    {
     "name": "stdout",
     "output_type": "stream",
     "text": [
      "Validation: {'precision': 0.7466747279300282, 'recall': 0.7745374725595029, 'f1': 0.7603509261983518, 'auc': 0.8349531677750405, 'prauc': 0.839678146743156}\n",
      "Test:      {'precision': 0.7315416420533623, 'recall': 0.776732518028295, 'f1': 0.7534600710478241, 'auc': 0.8313837645155624, 'prauc': 0.835487608027023}\n"
     ]
    },
    {
     "name": "stderr",
     "output_type": "stream",
     "text": [
      "Epoch 007: 100%|██████████| 98/98 [00:06<00:00, 16.13it/s, loss=0.2694]\n",
      "Running inference: 100%|██████████| 198/198 [00:09<00:00, 21.93it/s]\n",
      "Running inference: 100%|██████████| 197/197 [00:09<00:00, 21.16it/s]"
     ]
    },
    {
     "name": "stdout",
     "output_type": "stream",
     "text": [
      "Validation: {'precision': 0.7089947089927346, 'recall': 0.798369394792103, 'f1': 0.7510324433929436, 'auc': 0.8238656612480281, 'prauc': 0.826945654394171}\n",
      "Test:      {'precision': 0.7093690248546589, 'recall': 0.8143618689218741, 'f1': 0.7582481702040076, 'auc': 0.8257189264662286, 'prauc': 0.8303550346320139}\n",
      "\n",
      "Early stopping triggered (no improvement for 5 epochs).\n",
      "\n",
      "Best validation performance:\n",
      "{'precision': 0.7388792605409045, 'recall': 0.8021323298814609, 'f1': 0.7692076329552916, 'auc': 0.8440810885785797, 'prauc': 0.8542849986126606}\n",
      "Corresponding test performance:\n",
      "{'precision': 0.7358708189136798, 'recall': 0.8002508623367819, 'f1': 0.7667117270178957, 'auc': 0.8382803648375964, 'prauc': 0.8488566327870246}\n"
     ]
    },
    {
     "name": "stderr",
     "output_type": "stream",
     "text": [
      "\n"
     ]
    }
   ],
   "source": [
    "final_metrics = []\n",
    "for i in range(15):\n",
    "    model = HeteroGTFineTune(tokenizer=tokenizer, token_types=config.token_type, d_model=config.d_model, num_heads=config.num_heads, layer_types=['gnn', 'tf', 'gnn', 'tf'], max_num_adms=config.max_num_adms, \n",
    "                     device=device, task=curr_task, label_vocab_size=config.label_vocab_size, attn_mask_dicts=config.attn_mask_dicts,\n",
    "                     use_cls_cat=True).to(device)\n",
    "    if config.use_pretrained_model:\n",
    "        model.load_weight(state_dict)\n",
    "    optimizer = torch.optim.AdamW(model.parameters(), lr=config.lr)\n",
    "    best_test_metric = train_with_early_stopping(model, train_dataloader, val_dataloader, test_dataloader,\n",
    "                                             optimizer, loss_fn, device, config.early_stop_patience, task_type, config.epochs, \n",
    "                                             val_long_seq_idx=None, test_long_seq_idx=None, eval_metric=eval_metric, return_model=False)\n",
    "    final_metrics.append(best_test_metric)"
   ]
  },
  {
   "cell_type": "code",
   "execution_count": 17,
   "id": "69b5b571",
   "metadata": {},
   "outputs": [],
   "source": [
    "def topk_avg_performance_formatted(performances, k=5):\n",
    "    metrics = [\"f1\", \"auc\", \"prauc\"]\n",
    "    scores = {m: np.array([p[m] for p in performances]) for m in metrics}\n",
    "\n",
    "    # 计算排名（值越大排名越靠前）\n",
    "    ranks = {m: (-scores[m]).argsort().argsort() + 1 for m in metrics}\n",
    "    avg_ranks = np.mean(np.stack([ranks[m] for m in metrics], axis=1), axis=1)\n",
    "\n",
    "    # 选 top-k\n",
    "    topk_idx = np.argsort(avg_ranks)[:k]\n",
    "    final_avg = {m: np.mean([performances[i][m] for i in topk_idx]) for m in performances[0].keys()}\n",
    "    final_std = {m: np.std([performances[i][m] for i in topk_idx], ddof=0) for m in performances[0].keys()}\n",
    "\n",
    "    # 打印结果\n",
    "    print(\"Final Metrics:\")\n",
    "    for m in performances[0].keys():\n",
    "        print(f\"{m}: {final_avg[m]:.4f}±{final_std[m]:.4f}\")"
   ]
  },
  {
   "cell_type": "code",
   "execution_count": 18,
   "id": "e12dd11d-4936-466a-9a97-e10f223539fc",
   "metadata": {
    "tags": []
   },
   "outputs": [
    {
     "name": "stdout",
     "output_type": "stream",
     "text": [
      "Final Metrics:\n",
      "precision: 0.7164±0.0171\n",
      "recall: 0.8275±0.0226\n",
      "f1: 0.7674±0.0029\n",
      "auc: 0.8394±0.0016\n",
      "prauc: 0.8480±0.0023\n"
     ]
    }
   ],
   "source": [
    "topk_avg_performance_formatted(final_metrics, 5)"
   ]
  }
 ],
 "metadata": {
  "kernelspec": {
   "display_name": "Python 3",
   "language": "python",
   "name": "python3"
  },
  "language_info": {
   "codemirror_mode": {
    "name": "ipython",
    "version": 3
   },
   "file_extension": ".py",
   "mimetype": "text/x-python",
   "name": "python",
   "nbconvert_exporter": "python",
   "pygments_lexer": "ipython3",
   "version": "3.10.18"
  }
 },
 "nbformat": 4,
 "nbformat_minor": 5
}
