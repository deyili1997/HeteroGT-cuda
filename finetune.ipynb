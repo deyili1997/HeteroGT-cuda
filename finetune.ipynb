{
 "cells": [
  {
   "cell_type": "code",
   "execution_count": null,
   "id": "9bc53801",
   "metadata": {},
   "outputs": [],
   "source": [
    "import torch\n",
    "import pickle\n",
    "import numpy as np\n",
    "from argparse import Namespace\n",
    "from torch.utils.data import DataLoader\n",
    "import torch.nn.functional as F\n",
    "from heterogt.utils.tokenizer import EHRTokenizer\n",
    "from heterogt.utils.dataset import FineTuneEHRDataset, batcher, expand_level3\n",
    "from heterogt.utils.train import train_with_early_stopping\n",
    "from heterogt.utils.seed import set_random_seed\n",
    "from heterogt.model.model import HeteroGTFineTune"
   ]
  },
  {
   "cell_type": "code",
   "execution_count": null,
   "id": "c42d3e09",
   "metadata": {},
   "outputs": [
    {
     "name": "stdout",
     "output_type": "stream",
     "text": [
      "[INFO] Random seed set to 123\n"
     ]
    }
   ],
   "source": [
    "set_random_seed(123)"
   ]
  },
  {
   "cell_type": "code",
   "execution_count": null,
   "id": "af3d65aa",
   "metadata": {},
   "outputs": [
    {
     "name": "stdout",
     "output_type": "stream",
     "text": [
      "cuda\n"
     ]
    }
   ],
   "source": [
    "device = torch.device(\"cuda\" if torch.cuda.is_available() else \"cpu\")\n",
    "print(device)"
   ]
  },
  {
   "cell_type": "code",
   "execution_count": null,
   "id": "d073b89b",
   "metadata": {},
   "outputs": [],
   "source": [
    "config = Namespace(\n",
    "    dataset = \"MIMIC-IV\",\n",
    "    tasks = [\"death\", \"readmission\", \"stay\", \"next_diag_6m\", \"next_diag_12m\"], \n",
    "    task_index = 0,  # index of the task to train\n",
    "    token_type = [\"diag\", \"med\", \"lab\", \"pro\"],\n",
    "    special_tokens = [\"[PAD]\", \"[CLS]\"],\n",
    "    attn_mask_dicts = [{1:[6,7], 2:[6,7], 3:[6,7], 4:[6,7], 6:[2,3,4,5,6,7], 7:[2,3,4,5,6,7]}, \n",
    "                       {1:[6,7], 2:[6,7], 3:[6,7], 4:[6,7], 6:[2,3,4,5,6,7], 7:[2,3,4,5,6,7]}],\n",
    "    d_model = 64,\n",
    "    num_heads = 4,\n",
    "    batch_size = 32,\n",
    "    lr = 1e-3,\n",
    "    epochs = 500,\n",
    "    early_stop_patience = 5,\n",
    "    group_code_thre = 5,  # if there are group_code_thre diag codes belongs to the same group ICD code, then the group code is generated\n",
    "    use_pretrained_model = True,\n",
    "    pretrain_mask_rate = 0.7,\n",
    "    pretrain_cls_ontology_weight = 5e-2,\n",
    "    pretrain_visit_ontology_weight = 5e-2,\n",
    "    pretrain_adm_type_weight = 5e-2,\n",
    ")"
   ]
  },
  {
   "cell_type": "code",
   "execution_count": null,
   "id": "bbe56943",
   "metadata": {},
   "outputs": [
    {
     "name": "stdout",
     "output_type": "stream",
     "text": [
      "Current task: stay\n"
     ]
    }
   ],
   "source": [
    "full_data_path = f\"./data_process/{config.dataset}-processed/mimic.pkl\"  # for tokenizer\n",
    "curr_task = config.tasks[config.task_index]\n",
    "print(\"Current task:\", curr_task)\n",
    "if curr_task == \"next_diag_6m\":\n",
    "    finetune_data_path = f\"./data_process/{config.dataset}-processed/mimic_nextdiag_6m.pkl\"\n",
    "elif curr_task == \"next_diag_12m\":\n",
    "    finetune_data_path = f\"./data_process/{config.dataset}-processed/mimic_nextdiag_12m.pkl\"\n",
    "else:\n",
    "    finetune_data_path = f\"./data_process/{config.dataset}-processed/mimic_downstream.pkl\""
   ]
  },
  {
   "cell_type": "code",
   "execution_count": null,
   "id": "57d4378a",
   "metadata": {},
   "outputs": [
    {
     "name": "stdout",
     "output_type": "stream",
     "text": [
      "Max admissions per patient: 8\n"
     ]
    }
   ],
   "source": [
    "ehr_full_data = pickle.load(open(full_data_path, 'rb'))\n",
    "group_code_sentences = [expand_level3()[1]]\n",
    "diag_sentences = ehr_full_data[\"ICD9_CODE\"].values.tolist()\n",
    "med_sentences = ehr_full_data[\"NDC\"].values.tolist()\n",
    "lab_sentences = ehr_full_data[\"LAB_TEST\"].values.tolist()\n",
    "pro_sentences = ehr_full_data[\"PRO_CODE\"].values.tolist()\n",
    "age_sentences = [[str(c)] for c in set(ehr_full_data[\"AGE\"].values.tolist())] # important of [[]]\n",
    "adm_type_sentences = ehr_full_data[\"ADMISSION_TYPE\"].values.tolist()\n",
    "max_admissions = ehr_full_data.groupby(\"SUBJECT_ID\")[\"HADM_ID\"].nunique().max()\n",
    "config.max_num_adms = max_admissions\n",
    "print(f\"Max admissions per patient: {config.max_num_adms}\")"
   ]
  },
  {
   "cell_type": "code",
   "execution_count": null,
   "id": "a8db4baa",
   "metadata": {},
   "outputs": [
    {
     "name": "stdout",
     "output_type": "stream",
     "text": [
      "Age vocabulary size: 20\n",
      "Group code vocabulary size: 19\n"
     ]
    }
   ],
   "source": [
    "tokenizer = EHRTokenizer(age_sentences, group_code_sentences, diag_sentences, med_sentences, lab_sentences, \n",
    "                         pro_sentences, special_tokens=config.special_tokens, adm_types_sentences=adm_type_sentences)\n",
    "config.label_vocab_size = len(tokenizer.diag_voc.id2word)  # only for diagnosis\n",
    "config.global_vocab_size = len(tokenizer.vocab.id2word)\n",
    "config.age_vocab_size = tokenizer.token_number(\"age\")\n",
    "config.group_code_vocab_size = tokenizer.token_number(\"group\")\n",
    "print(f\"Age vocabulary size: {config.age_vocab_size}\")\n",
    "print(f\"Group code vocabulary size: {config.group_code_vocab_size}\")"
   ]
  },
  {
   "cell_type": "code",
   "execution_count": null,
   "id": "4a50b960",
   "metadata": {},
   "outputs": [
    {
     "name": "stdout",
     "output_type": "stream",
     "text": [
      "Percentage of DEATH in test dataset: 9.077523846104603 %\n",
      "Percentage of READMISSION in test dataset: 70.78932206644902 %\n",
      "Percentage of STAY>7 days in test dataset: 33.36534152743103 %\n"
     ]
    }
   ],
   "source": [
    "train_data, val_data, test_data = pickle.load(open(finetune_data_path, 'rb'))\n",
    "# example label percentage\n",
    "print(\"Percentage of DEATH in test dataset:\",\n",
    "      (test_data[\"DEATH\"] == True).mean() * 100, \"%\")\n",
    "\n",
    "print(\"Percentage of READMISSION in test dataset:\",\n",
    "      (test_data[\"READMISSION\"] == 1).mean() * 100, \"%\")\n",
    "\n",
    "print(\"Percentage of STAY>7 days in test dataset:\",\n",
    "      (test_data[\"STAY_DAYS\"] > 7).mean() * 100, \"%\")"
   ]
  },
  {
   "cell_type": "code",
   "execution_count": null,
   "id": "09f0ec18",
   "metadata": {},
   "outputs": [],
   "source": [
    "train_dataset = FineTuneEHRDataset(train_data, tokenizer, token_type=config.token_type, task=curr_task, \n",
    "                                   max_num_adms=config.max_num_adms, group_code_thre=config.group_code_thre)\n",
    "val_dataset = FineTuneEHRDataset(val_data, tokenizer, token_type=config.token_type, task=curr_task, \n",
    "                                 max_num_adms=config.max_num_adms, group_code_thre=config.group_code_thre)\n",
    "test_dataset = FineTuneEHRDataset(test_data, tokenizer, token_type=config.token_type, task=curr_task, \n",
    "                                   max_num_adms=config.max_num_adms, group_code_thre=config.group_code_thre)"
   ]
  },
  {
   "cell_type": "code",
   "execution_count": null,
   "id": "98c78018",
   "metadata": {},
   "outputs": [
    {
     "name": "stdout",
     "output_type": "stream",
     "text": [
      "Mean group token numer per patient 1.0251935441543105\n"
     ]
    }
   ],
   "source": [
    "num_group_code = []\n",
    "for i in range(len(train_dataset)):\n",
    "    input_ids, token_types, adm_index, age_ids, diag_group_codes, labels = train_dataset[i]\n",
    "    count = (token_types[0] == 6).sum().item()\n",
    "    num_group_code.append(count)\n",
    "print(\"Mean group token numer per patient\", np.mean(num_group_code))"
   ]
  },
  {
   "cell_type": "code",
   "execution_count": null,
   "id": "d71f325f",
   "metadata": {},
   "outputs": [],
   "source": [
    "train_dataloader = DataLoader(\n",
    "    train_dataset,\n",
    "    collate_fn=batcher(tokenizer, n_token_type=len(config.token_type), is_pretrain = False),\n",
    "    shuffle=True,\n",
    "    batch_size=config.batch_size,\n",
    ")\n",
    "\n",
    "val_dataloader = DataLoader(\n",
    "    val_dataset,\n",
    "    collate_fn=batcher(tokenizer, n_token_type=len(config.token_type), is_pretrain = False),\n",
    "    shuffle=False,\n",
    "    batch_size=config.batch_size,\n",
    ")\n",
    "\n",
    "test_dataloader = DataLoader(\n",
    "    test_dataset,\n",
    "    collate_fn=batcher(tokenizer, n_token_type=len(config.token_type), is_pretrain = False),\n",
    "    shuffle=False,\n",
    "    batch_size=config.batch_size,\n",
    ")"
   ]
  },
  {
   "cell_type": "code",
   "execution_count": null,
   "id": "7b46906f",
   "metadata": {},
   "outputs": [
    {
     "name": "stdout",
     "output_type": "stream",
     "text": [
      "All pass!\n"
     ]
    }
   ],
   "source": [
    "for batch in train_dataloader:\n",
    "    pass  # just to check if the dataloader works\n",
    "for batch in val_dataloader:\n",
    "    pass  # just to check if the dataloader works\n",
    "for batch in test_dataloader:\n",
    "    pass  # just to check if the dataloader works\n",
    "print(\"All pass!\")"
   ]
  },
  {
   "cell_type": "code",
   "execution_count": null,
   "id": "10339a18",
   "metadata": {},
   "outputs": [],
   "source": [
    "if curr_task in [\"death\", \"stay\", \"readmission\"]:\n",
    "    eval_metric = \"f1\"\n",
    "    task_type = \"binary\"\n",
    "    loss_fn = F.binary_cross_entropy_with_logits\n",
    "else:\n",
    "    eval_metric = \"f1\"\n",
    "    task_type = \"l2r\"\n",
    "    loss_fn = lambda x, y: F.binary_cross_entropy_with_logits(x, y)"
   ]
  },
  {
   "cell_type": "code",
   "execution_count": null,
   "id": "d5717b84",
   "metadata": {},
   "outputs": [
    {
     "name": "stdout",
     "output_type": "stream",
     "text": [
      "Input IDs shape: torch.Size([32, 242])\n",
      "Token Types shape: torch.Size([32, 242])\n",
      "Admission Index shape: torch.Size([32, 242])\n",
      "Age IDs shape: torch.Size([32, 6])\n",
      "Diag Code Group Dict number: 32\n",
      "Labels shape: torch.Size([32, 1])\n"
     ]
    }
   ],
   "source": [
    "input_ids, token_types, adm_index, age_ids, diag_code_group_dicts, labels = next(iter(train_dataloader))\n",
    "print(\"Input IDs shape:\", input_ids.shape)\n",
    "print(\"Token Types shape:\", token_types.shape)\n",
    "print(\"Admission Index shape:\", adm_index.shape)\n",
    "print(\"Age IDs shape:\", age_ids.shape)\n",
    "print(\"Diag Code Group Dict number:\", len(diag_code_group_dicts))\n",
    "print(\"Labels shape:\", labels.shape)"
   ]
  },
  {
   "cell_type": "markdown",
   "id": "814e9e16",
   "metadata": {},
   "source": [
    "# Model Walkthrough"
   ]
  },
  {
   "cell_type": "code",
   "execution_count": null,
   "id": "af42068a",
   "metadata": {},
   "outputs": [
    {
     "name": "stdout",
     "output_type": "stream",
     "text": [
      "MIMIC-IV-0.7-64-0.05-0.05-0.05\n"
     ]
    }
   ],
   "source": [
    "# load pretrained model\n",
    "if config.use_pretrained_model:\n",
    "    pretrain_exp_name = (\n",
    "    f\"{config.dataset}-{config.pretrain_mask_rate}-{config.d_model}-{config.pretrain_cls_ontology_weight}-{config.pretrain_visit_ontology_weight}-{config.pretrain_adm_type_weight}\"\n",
    ")\n",
    "    print(pretrain_exp_name)\n",
    "    save_path = \"./pretrained_models/\" + pretrain_exp_name\n",
    "    state_dict = torch.load(f\"{save_path}/pretrained_model.pt\", map_location=\"cpu\")"
   ]
  },
  {
   "cell_type": "code",
   "execution_count": null,
   "id": "f0fed5f6-b245-4bc3-b252-f6af0756f18a",
   "metadata": {
    "tags": []
   },
   "outputs": [
    {
     "name": "stdout",
     "output_type": "stream",
     "text": [
      "[Warning] Missing keys: ['cls_head.cls.0.weight', 'cls_head.cls.0.bias', 'cls_head.cls.2.weight', 'cls_head.cls.2.bias']\n",
      "[Warning] Unexpected keys: ['diag_cls.cls.0.weight', 'diag_cls.cls.0.bias', 'diag_cls.cls.2.weight', 'diag_cls.cls.2.bias', 'med_cls.cls.0.weight', 'med_cls.cls.0.bias', 'med_cls.cls.2.weight', 'med_cls.cls.2.bias', 'lab_cls.cls.0.weight', 'lab_cls.cls.0.bias', 'lab_cls.cls.2.weight', 'lab_cls.cls.2.bias', 'pro_cls.cls.0.weight', 'pro_cls.cls.0.bias', 'pro_cls.cls.2.weight', 'pro_cls.cls.2.bias', 'cls_ontology.cls.0.weight', 'cls_ontology.cls.0.bias', 'cls_ontology.cls.2.weight', 'cls_ontology.cls.2.bias', 'visit_ontology.cls.0.weight', 'visit_ontology.cls.0.bias', 'visit_ontology.cls.2.weight', 'visit_ontology.cls.2.bias', 'adm_type.cls.0.weight', 'adm_type.cls.0.bias', 'adm_type.cls.2.weight', 'adm_type.cls.2.bias']\n"
     ]
    },
    {
     "name": "stderr",
     "output_type": "stream",
     "text": [
      "Epoch 001: 100%|██████████| 239/239 [00:14<00:00, 16.44it/s, loss=0.4999]\n",
      "Running inference: 100%|██████████| 482/482 [00:22<00:00, 21.86it/s]\n",
      "Running inference: 100%|██████████| 489/489 [00:22<00:00, 21.29it/s]\n"
     ]
    },
    {
     "name": "stdout",
     "output_type": "stream",
     "text": [
      "Validation: {'precision': 0.7303276393146728, 'recall': 0.5009604302717999, 'f1': 0.5942805010397599, 'auc': 0.8365172735198022, 'prauc': 0.7291904376143467}\n",
      "Test:      {'precision': 0.7239227340245946, 'recall': 0.4673829623935776, 'f1': 0.5680307752235438, 'auc': 0.8277744914501124, 'prauc': 0.7081596535546029}\n"
     ]
    },
    {
     "name": "stderr",
     "output_type": "stream",
     "text": [
      "Epoch 002: 100%|██████████| 239/239 [00:14<00:00, 16.66it/s, loss=0.4276]\n",
      "Running inference: 100%|██████████| 482/482 [00:21<00:00, 22.61it/s]\n",
      "Running inference: 100%|██████████| 489/489 [00:21<00:00, 22.40it/s]\n"
     ]
    },
    {
     "name": "stdout",
     "output_type": "stream",
     "text": [
      "Validation: {'precision': 0.6334769427148021, 'recall': 0.76258163657172, 'f1': 0.6920596132756693, 'auc': 0.8572341360376237, 'prauc': 0.7623224498750384}\n",
      "Test:      {'precision': 0.6247419406056459, 'recall': 0.7547966231758351, 'f1': 0.683638886345709, 'auc': 0.8518142046329675, 'prauc': 0.7444143822729752}\n"
     ]
    },
    {
     "name": "stderr",
     "output_type": "stream",
     "text": [
      "Epoch 003: 100%|██████████| 239/239 [00:14<00:00, 16.97it/s, loss=0.3919]\n",
      "Running inference: 100%|██████████| 482/482 [00:22<00:00, 21.85it/s]\n",
      "Running inference: 100%|██████████| 489/489 [00:22<00:00, 21.97it/s]\n"
     ]
    },
    {
     "name": "stdout",
     "output_type": "stream",
     "text": [
      "Validation: {'precision': 0.6979008872523309, 'recall': 0.6194775259304275, 'f1': 0.6563549354865167, 'auc': 0.8494460875019336, 'prauc': 0.7525077301635005}\n",
      "Test:      {'precision': 0.6915520628668598, 'recall': 0.60782808902416, 'f1': 0.646992744942852, 'auc': 0.8426987036057925, 'prauc': 0.7343660588631264}\n"
     ]
    },
    {
     "name": "stderr",
     "output_type": "stream",
     "text": [
      "Epoch 004: 100%|██████████| 239/239 [00:14<00:00, 16.48it/s, loss=0.3515]\n",
      "Running inference: 100%|██████████| 482/482 [00:22<00:00, 21.68it/s]\n",
      "Running inference: 100%|██████████| 489/489 [00:23<00:00, 21.21it/s]\n"
     ]
    },
    {
     "name": "stdout",
     "output_type": "stream",
     "text": [
      "Validation: {'precision': 0.8056666666639811, 'recall': 0.46427199385235446, 'f1': 0.5890811554866424, 'auc': 0.8568851121908796, 'prauc': 0.7680126785179938}\n",
      "Test:      {'precision': 0.7861549006141667, 'recall': 0.4401381427466613, 'f1': 0.5643296386931297, 'auc': 0.8514813948346105, 'prauc': 0.748390415862885}\n"
     ]
    },
    {
     "name": "stderr",
     "output_type": "stream",
     "text": [
      "Epoch 005: 100%|██████████| 239/239 [00:14<00:00, 16.59it/s, loss=0.3245]\n",
      "Running inference: 100%|██████████| 482/482 [00:22<00:00, 21.81it/s]\n",
      "Running inference: 100%|██████████| 489/489 [00:22<00:00, 21.38it/s]\n"
     ]
    },
    {
     "name": "stdout",
     "output_type": "stream",
     "text": [
      "Validation: {'precision': 0.7051848407330733, 'recall': 0.58259700345643, 'f1': 0.6380561641824959, 'auc': 0.8487310733060299, 'prauc': 0.7435361991971192}\n",
      "Test:      {'precision': 0.7053140096601321, 'recall': 0.560245587105602, 'f1': 0.6244653500686396, 'auc': 0.8447986467080446, 'prauc': 0.7286645486671272}\n"
     ]
    },
    {
     "name": "stderr",
     "output_type": "stream",
     "text": [
      "Epoch 006: 100%|██████████| 239/239 [00:14<00:00, 16.54it/s, loss=0.2963]\n",
      "Running inference: 100%|██████████| 482/482 [00:21<00:00, 22.42it/s]\n",
      "Running inference: 100%|██████████| 489/489 [00:22<00:00, 22.22it/s]\n"
     ]
    },
    {
     "name": "stdout",
     "output_type": "stream",
     "text": [
      "Validation: {'precision': 0.7890897557856357, 'recall': 0.4779101037255515, 'f1': 0.5952865128262012, 'auc': 0.8522936243068086, 'prauc': 0.7602909017189083}\n",
      "Test:      {'precision': 0.7748776508946986, 'recall': 0.455679201841029, 'f1': 0.5738794202474462, 'auc': 0.8475686147982658, 'prauc': 0.7446591998493739}\n"
     ]
    },
    {
     "name": "stderr",
     "output_type": "stream",
     "text": [
      "Epoch 007: 100%|██████████| 239/239 [00:14<00:00, 16.80it/s, loss=0.2667]\n",
      "Running inference: 100%|██████████| 482/482 [00:22<00:00, 21.40it/s]\n",
      "Running inference: 100%|██████████| 489/489 [00:22<00:00, 21.85it/s]\n"
     ]
    },
    {
     "name": "stdout",
     "output_type": "stream",
     "text": [
      "Validation: {'precision': 0.681327800828462, 'recall': 0.6308106031489996, 'f1': 0.655096743460124, 'auc': 0.8428119495425075, 'prauc': 0.7308558800351722}\n",
      "Test:      {'precision': 0.6693260550059431, 'recall': 0.6116653875659792, 'f1': 0.6391979899963177, 'auc': 0.838858299170968, 'prauc': 0.7186039987740739}\n",
      "\n",
      "Early stopping triggered (no improvement for 5 epochs).\n",
      "\n",
      "Best validation performance:\n",
      "{'precision': 0.6334769427148021, 'recall': 0.76258163657172, 'f1': 0.6920596132756693, 'auc': 0.8572341360376237, 'prauc': 0.7623224498750384}\n",
      "Corresponding test performance:\n",
      "{'precision': 0.6247419406056459, 'recall': 0.7547966231758351, 'f1': 0.683638886345709, 'auc': 0.8518142046329675, 'prauc': 0.7444143822729752}\n",
      "[Warning] Missing keys: ['cls_head.cls.0.weight', 'cls_head.cls.0.bias', 'cls_head.cls.2.weight', 'cls_head.cls.2.bias']\n",
      "[Warning] Unexpected keys: ['diag_cls.cls.0.weight', 'diag_cls.cls.0.bias', 'diag_cls.cls.2.weight', 'diag_cls.cls.2.bias', 'med_cls.cls.0.weight', 'med_cls.cls.0.bias', 'med_cls.cls.2.weight', 'med_cls.cls.2.bias', 'lab_cls.cls.0.weight', 'lab_cls.cls.0.bias', 'lab_cls.cls.2.weight', 'lab_cls.cls.2.bias', 'pro_cls.cls.0.weight', 'pro_cls.cls.0.bias', 'pro_cls.cls.2.weight', 'pro_cls.cls.2.bias', 'cls_ontology.cls.0.weight', 'cls_ontology.cls.0.bias', 'cls_ontology.cls.2.weight', 'cls_ontology.cls.2.bias', 'visit_ontology.cls.0.weight', 'visit_ontology.cls.0.bias', 'visit_ontology.cls.2.weight', 'visit_ontology.cls.2.bias', 'adm_type.cls.0.weight', 'adm_type.cls.0.bias', 'adm_type.cls.2.weight', 'adm_type.cls.2.bias']\n"
     ]
    },
    {
     "name": "stderr",
     "output_type": "stream",
     "text": [
      "Epoch 001: 100%|██████████| 239/239 [00:14<00:00, 16.56it/s, loss=0.4955]\n",
      "Running inference: 100%|██████████| 482/482 [00:21<00:00, 22.12it/s]\n",
      "Running inference: 100%|██████████| 489/489 [00:22<00:00, 21.99it/s]\n"
     ]
    },
    {
     "name": "stdout",
     "output_type": "stream",
     "text": [
      "Validation: {'precision': 0.7514723203747012, 'recall': 0.490203611216884, 'f1': 0.5933503788517089, 'auc': 0.8397674373911567, 'prauc': 0.7389635956633495}\n",
      "Test:      {'precision': 0.744390539718786, 'recall': 0.47102839600830576, 'f1': 0.5769682678720174, 'auc': 0.8346784676346042, 'prauc': 0.7221250019004815}\n"
     ]
    },
    {
     "name": "stderr",
     "output_type": "stream",
     "text": [
      "Epoch 002: 100%|██████████| 239/239 [00:14<00:00, 17.04it/s, loss=0.4356]\n",
      "Running inference: 100%|██████████| 482/482 [00:21<00:00, 22.28it/s]\n",
      "Running inference: 100%|██████████| 489/489 [00:22<00:00, 22.05it/s]\n"
     ]
    },
    {
     "name": "stdout",
     "output_type": "stream",
     "text": [
      "Validation: {'precision': 0.6742021276582937, 'recall': 0.6817134076052983, 'f1': 0.6779369577495749, 'auc': 0.8549741244352114, 'prauc': 0.7662987361167176}\n",
      "Test:      {'precision': 0.662735400417229, 'recall': 0.6684574059849032, 'f1': 0.665584100453019, 'auc': 0.8469068936963238, 'prauc': 0.745396332228416}\n"
     ]
    },
    {
     "name": "stderr",
     "output_type": "stream",
     "text": [
      "Epoch 003: 100%|██████████| 239/239 [00:14<00:00, 16.14it/s, loss=0.3938]\n",
      "Running inference: 100%|██████████| 482/482 [00:22<00:00, 21.78it/s]\n",
      "Running inference: 100%|██████████| 489/489 [00:22<00:00, 21.83it/s]\n"
     ]
    },
    {
     "name": "stdout",
     "output_type": "stream",
     "text": [
      "Validation: {'precision': 0.7488335925330513, 'recall': 0.5549366116009318, 'f1': 0.6374668971391908, 'auc': 0.8552082546320624, 'prauc': 0.7668843501003543}\n",
      "Test:      {'precision': 0.7419952368331781, 'recall': 0.5379892555630507, 'f1': 0.6237348410826932, 'auc': 0.8484646050222049, 'prauc': 0.7494437748151912}\n"
     ]
    },
    {
     "name": "stderr",
     "output_type": "stream",
     "text": [
      "Epoch 004: 100%|██████████| 239/239 [00:14<00:00, 16.57it/s, loss=0.3600]\n",
      "Running inference: 100%|██████████| 482/482 [00:21<00:00, 22.00it/s]\n",
      "Running inference: 100%|██████████| 489/489 [00:22<00:00, 22.19it/s]\n"
     ]
    },
    {
     "name": "stdout",
     "output_type": "stream",
     "text": [
      "Validation: {'precision': 0.6204000610770799, 'recall': 0.7804456396450625, 'f1': 0.6912803013167469, 'auc': 0.8575678043047248, 'prauc': 0.766820281068304}\n",
      "Test:      {'precision': 0.61511288588448, 'recall': 0.7684190329992932, 'f1': 0.6832721950090449, 'auc': 0.850921753468112, 'prauc': 0.7480272020420557}\n"
     ]
    },
    {
     "name": "stderr",
     "output_type": "stream",
     "text": [
      "Epoch 005: 100%|██████████| 239/239 [00:14<00:00, 16.76it/s, loss=0.3236]\n",
      "Running inference: 100%|██████████| 482/482 [00:22<00:00, 21.86it/s]\n",
      "Running inference: 100%|██████████| 489/489 [00:22<00:00, 21.49it/s]\n"
     ]
    },
    {
     "name": "stdout",
     "output_type": "stream",
     "text": [
      "Validation: {'precision': 0.7766210588912058, 'recall': 0.5015366884354562, 'f1': 0.6094771194131808, 'auc': 0.852842656933553, 'prauc': 0.7625175407867367}\n",
      "Test:      {'precision': 0.7630216265587481, 'recall': 0.48062164236285376, 'f1': 0.5897586768338248, 'auc': 0.8453431364778413, 'prauc': 0.7430054892133957}\n"
     ]
    },
    {
     "name": "stderr",
     "output_type": "stream",
     "text": [
      "Epoch 006: 100%|██████████| 239/239 [00:14<00:00, 16.58it/s, loss=0.2948]\n",
      "Running inference: 100%|██████████| 482/482 [00:21<00:00, 22.00it/s]\n",
      "Running inference: 100%|██████████| 489/489 [00:21<00:00, 22.47it/s]\n"
     ]
    },
    {
     "name": "stdout",
     "output_type": "stream",
     "text": [
      "Validation: {'precision': 0.7331385439475697, 'recall': 0.5783711102562844, 'f1': 0.6466229951756165, 'auc': 0.8520098192808426, 'prauc': 0.7610765436118472}\n",
      "Test:      {'precision': 0.7305122494413994, 'recall': 0.5663852647725127, 'f1': 0.6380633258903285, 'auc': 0.8489515666492934, 'prauc': 0.748155764209773}\n"
     ]
    },
    {
     "name": "stderr",
     "output_type": "stream",
     "text": [
      "Epoch 007: 100%|██████████| 239/239 [00:14<00:00, 16.55it/s, loss=0.2574]\n",
      "Running inference: 100%|██████████| 482/482 [00:21<00:00, 22.33it/s]\n",
      "Running inference: 100%|██████████| 489/489 [00:22<00:00, 22.07it/s]\n"
     ]
    },
    {
     "name": "stdout",
     "output_type": "stream",
     "text": [
      "Validation: {'precision': 0.6649934932131158, 'recall': 0.6870918171327562, 'f1': 0.6758620639655759, 'auc': 0.8491983633778281, 'prauc': 0.7542708662237451}\n",
      "Test:      {'precision': 0.6618147448002613, 'recall': 0.6717191097454496, 'f1': 0.6667301416377418, 'auc': 0.8443947423738253, 'prauc': 0.7384590737361248}\n"
     ]
    },
    {
     "name": "stderr",
     "output_type": "stream",
     "text": [
      "Epoch 008: 100%|██████████| 239/239 [00:14<00:00, 16.72it/s, loss=0.2244]\n",
      "Running inference: 100%|██████████| 482/482 [00:22<00:00, 21.37it/s]\n",
      "Running inference: 100%|██████████| 489/489 [00:22<00:00, 21.90it/s]\n"
     ]
    },
    {
     "name": "stdout",
     "output_type": "stream",
     "text": [
      "Validation: {'precision': 0.7063820018349257, 'recall': 0.591048789856721, 'f1': 0.6435892023169762, 'auc': 0.8435584285457776, 'prauc': 0.7407388520379257}\n",
      "Test:      {'precision': 0.6941580755997843, 'recall': 0.5813507290856076, 'f1': 0.6327659969172907, 'auc': 0.8376645487364195, 'prauc': 0.7263193232239507}\n"
     ]
    },
    {
     "name": "stderr",
     "output_type": "stream",
     "text": [
      "Epoch 009: 100%|██████████| 239/239 [00:14<00:00, 16.63it/s, loss=0.2082]\n",
      "Running inference: 100%|██████████| 482/482 [00:22<00:00, 21.77it/s]\n",
      "Running inference: 100%|██████████| 489/489 [00:22<00:00, 21.80it/s]\n"
     ]
    },
    {
     "name": "stdout",
     "output_type": "stream",
     "text": [
      "Validation: {'precision': 0.6332927041604853, 'recall': 0.6986169804058805, 'f1': 0.6643529039522698, 'auc': 0.839180044077108, 'prauc': 0.7453388446750884}\n",
      "Test:      {'precision': 0.6256730936240652, 'recall': 0.6910974673816365, 'f1': 0.6567599548981, 'auc': 0.8355678036901623, 'prauc': 0.7318946202289389}\n",
      "\n",
      "Early stopping triggered (no improvement for 5 epochs).\n",
      "\n",
      "Best validation performance:\n",
      "{'precision': 0.6204000610770799, 'recall': 0.7804456396450625, 'f1': 0.6912803013167469, 'auc': 0.8575678043047248, 'prauc': 0.766820281068304}\n",
      "Corresponding test performance:\n",
      "{'precision': 0.61511288588448, 'recall': 0.7684190329992932, 'f1': 0.6832721950090449, 'auc': 0.850921753468112, 'prauc': 0.7480272020420557}\n",
      "[Warning] Missing keys: ['cls_head.cls.0.weight', 'cls_head.cls.0.bias', 'cls_head.cls.2.weight', 'cls_head.cls.2.bias']\n",
      "[Warning] Unexpected keys: ['diag_cls.cls.0.weight', 'diag_cls.cls.0.bias', 'diag_cls.cls.2.weight', 'diag_cls.cls.2.bias', 'med_cls.cls.0.weight', 'med_cls.cls.0.bias', 'med_cls.cls.2.weight', 'med_cls.cls.2.bias', 'lab_cls.cls.0.weight', 'lab_cls.cls.0.bias', 'lab_cls.cls.2.weight', 'lab_cls.cls.2.bias', 'pro_cls.cls.0.weight', 'pro_cls.cls.0.bias', 'pro_cls.cls.2.weight', 'pro_cls.cls.2.bias', 'cls_ontology.cls.0.weight', 'cls_ontology.cls.0.bias', 'cls_ontology.cls.2.weight', 'cls_ontology.cls.2.bias', 'visit_ontology.cls.0.weight', 'visit_ontology.cls.0.bias', 'visit_ontology.cls.2.weight', 'visit_ontology.cls.2.bias', 'adm_type.cls.0.weight', 'adm_type.cls.0.bias', 'adm_type.cls.2.weight', 'adm_type.cls.2.bias']\n"
     ]
    },
    {
     "name": "stderr",
     "output_type": "stream",
     "text": [
      "Epoch 001: 100%|██████████| 239/239 [00:14<00:00, 16.99it/s, loss=0.5057]\n",
      "Running inference: 100%|██████████| 482/482 [00:21<00:00, 22.21it/s]\n",
      "Running inference: 100%|██████████| 489/489 [00:22<00:00, 21.66it/s]\n"
     ]
    },
    {
     "name": "stdout",
     "output_type": "stream",
     "text": [
      "Validation: {'precision': 0.6432641058617106, 'recall': 0.6723011909322468, 'f1': 0.6574621909249353, 'auc': 0.834564740913689, 'prauc': 0.726654952469738}\n",
      "Test:      {'precision': 0.6404309715108831, 'recall': 0.6728702993079952, 'f1': 0.6562499950018226, 'auc': 0.8319680829219239, 'prauc': 0.7153913164899945}\n"
     ]
    },
    {
     "name": "stderr",
     "output_type": "stream",
     "text": [
      "Epoch 002: 100%|██████████| 239/239 [00:14<00:00, 16.01it/s, loss=0.4373]\n",
      "Running inference: 100%|██████████| 482/482 [00:21<00:00, 21.98it/s]\n",
      "Running inference: 100%|██████████| 489/489 [00:22<00:00, 21.66it/s]\n"
     ]
    },
    {
     "name": "stdout",
     "output_type": "stream",
     "text": [
      "Validation: {'precision': 0.606409688376006, 'recall': 0.7887053399908016, 'f1': 0.6856474861086882, 'auc': 0.8511358418635304, 'prauc': 0.7588907674187844}\n",
      "Test:      {'precision': 0.5971466392107705, 'recall': 0.7789716039892959, 'f1': 0.6760469520422882, 'auc': 0.8439139188023352, 'prauc': 0.7390063915569143}\n"
     ]
    },
    {
     "name": "stderr",
     "output_type": "stream",
     "text": [
      "Epoch 003: 100%|██████████| 239/239 [00:14<00:00, 16.79it/s, loss=0.3918]\n",
      "Running inference: 100%|██████████| 482/482 [00:21<00:00, 22.10it/s]\n",
      "Running inference: 100%|██████████| 489/489 [00:21<00:00, 22.23it/s]\n"
     ]
    },
    {
     "name": "stdout",
     "output_type": "stream",
     "text": [
      "Validation: {'precision': 0.6758893280619054, 'recall': 0.6569343065680812, 'f1': 0.6662770259757507, 'auc': 0.8494740949487303, 'prauc': 0.7548907310727813}\n",
      "Test:      {'precision': 0.6662638469271576, 'recall': 0.6346891788168944, 'f1': 0.6500933427465827, 'auc': 0.8422223683722547, 'prauc': 0.7347410093644294}\n"
     ]
    },
    {
     "name": "stderr",
     "output_type": "stream",
     "text": [
      "Epoch 004: 100%|██████████| 239/239 [00:14<00:00, 16.96it/s, loss=0.3528]\n",
      "Running inference: 100%|██████████| 482/482 [00:21<00:00, 22.08it/s]\n",
      "Running inference: 100%|██████████| 489/489 [00:23<00:00, 21.22it/s]\n"
     ]
    },
    {
     "name": "stdout",
     "output_type": "stream",
     "text": [
      "Validation: {'precision': 0.6107694615260075, 'recall': 0.7821744141360312, 'f1': 0.6859260457778303, 'auc': 0.848594050664369, 'prauc': 0.7504762883637597}\n",
      "Test:      {'precision': 0.602106847252668, 'recall': 0.7676515732909293, 'f1': 0.674875595982748, 'auc': 0.8425325245059566, 'prauc': 0.733692486156442}\n"
     ]
    },
    {
     "name": "stderr",
     "output_type": "stream",
     "text": [
      "Epoch 005: 100%|██████████| 239/239 [00:14<00:00, 16.58it/s, loss=0.3163]\n",
      "Running inference: 100%|██████████| 482/482 [00:21<00:00, 22.15it/s]\n",
      "Running inference: 100%|██████████| 489/489 [00:22<00:00, 21.67it/s]\n"
     ]
    },
    {
     "name": "stdout",
     "output_type": "stream",
     "text": [
      "Validation: {'precision': 0.6510645785665123, 'recall': 0.710718401842661, 'f1': 0.6795848972032222, 'auc': 0.8513538345708548, 'prauc': 0.7578974716268834}\n",
      "Test:      {'precision': 0.6438746438734974, 'recall': 0.6937835763609098, 'f1': 0.667898037118767, 'auc': 0.8460818505474519, 'prauc': 0.7419666079050916}\n"
     ]
    },
    {
     "name": "stderr",
     "output_type": "stream",
     "text": [
      "Epoch 006: 100%|██████████| 239/239 [00:14<00:00, 16.37it/s, loss=0.2952]\n",
      "Running inference: 100%|██████████| 482/482 [00:21<00:00, 22.48it/s]\n",
      "Running inference: 100%|██████████| 489/489 [00:22<00:00, 22.16it/s]\n"
     ]
    },
    {
     "name": "stdout",
     "output_type": "stream",
     "text": [
      "Validation: {'precision': 0.6730052930784689, 'recall': 0.6594314252772581, 'f1': 0.6661492139766203, 'auc': 0.8461777889736388, 'prauc': 0.7516808338010024}\n",
      "Test:      {'precision': 0.6741195092982308, 'recall': 0.6536838065988994, 'f1': 0.6637443939868386, 'auc': 0.8447868498444325, 'prauc': 0.742370148953269}\n"
     ]
    },
    {
     "name": "stderr",
     "output_type": "stream",
     "text": [
      "Epoch 007: 100%|██████████| 239/239 [00:14<00:00, 16.69it/s, loss=0.2592]\n",
      "Running inference: 100%|██████████| 482/482 [00:22<00:00, 21.33it/s]\n",
      "Running inference: 100%|██████████| 489/489 [00:22<00:00, 21.94it/s]\n"
     ]
    },
    {
     "name": "stdout",
     "output_type": "stream",
     "text": [
      "Validation: {'precision': 0.6308702791451053, 'recall': 0.7379946215890549, 'f1': 0.6802407882305502, 'auc': 0.8458586849556957, 'prauc': 0.7490081089786558}\n",
      "Test:      {'precision': 0.6272892261992621, 'recall': 0.7294704527998284, 'f1': 0.6745320627997172, 'auc': 0.8440608634847035, 'prauc': 0.7364142450717116}\n"
     ]
    },
    {
     "name": "stderr",
     "output_type": "stream",
     "text": [
      "Epoch 008: 100%|██████████| 239/239 [00:14<00:00, 16.56it/s, loss=0.2363]\n",
      "Running inference: 100%|██████████| 482/482 [00:22<00:00, 21.74it/s]\n",
      "Running inference: 100%|██████████| 489/489 [00:21<00:00, 22.35it/s]\n"
     ]
    },
    {
     "name": "stdout",
     "output_type": "stream",
     "text": [
      "Validation: {'precision': 0.7301029374824752, 'recall': 0.5585862466374211, 'f1': 0.6329306730717391, 'auc': 0.8366387050667948, 'prauc': 0.7459143972067053}\n",
      "Test:      {'precision': 0.7339979013621879, 'recall': 0.5368380660005049, 'f1': 0.6201241085941479, 'auc': 0.8377868121681994, 'prauc': 0.7361845847955484}\n"
     ]
    },
    {
     "name": "stderr",
     "output_type": "stream",
     "text": [
      "Epoch 009: 100%|██████████| 239/239 [00:13<00:00, 17.53it/s, loss=0.2158]\n",
      "Running inference: 100%|██████████| 482/482 [00:21<00:00, 22.72it/s]\n",
      "Running inference: 100%|██████████| 489/489 [00:21<00:00, 22.44it/s]\n"
     ]
    },
    {
     "name": "stdout",
     "output_type": "stream",
     "text": [
      "Validation: {'precision': 0.6773929083814769, 'recall': 0.634844410294593, 'f1': 0.6554288497387114, 'auc': 0.8396340039984799, 'prauc': 0.7425886728775989}\n",
      "Test:      {'precision': 0.6781898177232806, 'recall': 0.6210667689934362, 'f1': 0.6483725538466237, 'auc': 0.838366277795346, 'prauc': 0.7301561157545937}\n",
      "\n",
      "Early stopping triggered (no improvement for 5 epochs).\n",
      "\n",
      "Best validation performance:\n",
      "{'precision': 0.6107694615260075, 'recall': 0.7821744141360312, 'f1': 0.6859260457778303, 'auc': 0.848594050664369, 'prauc': 0.7504762883637597}\n",
      "Corresponding test performance:\n",
      "{'precision': 0.602106847252668, 'recall': 0.7676515732909293, 'f1': 0.674875595982748, 'auc': 0.8425325245059566, 'prauc': 0.733692486156442}\n",
      "[Warning] Missing keys: ['cls_head.cls.0.weight', 'cls_head.cls.0.bias', 'cls_head.cls.2.weight', 'cls_head.cls.2.bias']\n",
      "[Warning] Unexpected keys: ['diag_cls.cls.0.weight', 'diag_cls.cls.0.bias', 'diag_cls.cls.2.weight', 'diag_cls.cls.2.bias', 'med_cls.cls.0.weight', 'med_cls.cls.0.bias', 'med_cls.cls.2.weight', 'med_cls.cls.2.bias', 'lab_cls.cls.0.weight', 'lab_cls.cls.0.bias', 'lab_cls.cls.2.weight', 'lab_cls.cls.2.bias', 'pro_cls.cls.0.weight', 'pro_cls.cls.0.bias', 'pro_cls.cls.2.weight', 'pro_cls.cls.2.bias', 'cls_ontology.cls.0.weight', 'cls_ontology.cls.0.bias', 'cls_ontology.cls.2.weight', 'cls_ontology.cls.2.bias', 'visit_ontology.cls.0.weight', 'visit_ontology.cls.0.bias', 'visit_ontology.cls.2.weight', 'visit_ontology.cls.2.bias', 'adm_type.cls.0.weight', 'adm_type.cls.0.bias', 'adm_type.cls.2.weight', 'adm_type.cls.2.bias']\n"
     ]
    },
    {
     "name": "stderr",
     "output_type": "stream",
     "text": [
      "Epoch 001: 100%|██████████| 239/239 [00:14<00:00, 16.88it/s, loss=0.5006]\n",
      "Running inference: 100%|██████████| 482/482 [00:22<00:00, 21.42it/s]\n",
      "Running inference: 100%|██████████| 489/489 [00:22<00:00, 21.66it/s]\n"
     ]
    },
    {
     "name": "stdout",
     "output_type": "stream",
     "text": [
      "Validation: {'precision': 0.5847231955142471, 'recall': 0.8013830195912383, 'f1': 0.6761202446956546, 'auc': 0.8407750554543677, 'prauc': 0.7388429853086103}\n",
      "Test:      {'precision': 0.576661951908661, 'recall': 0.7822333077498422, 'f1': 0.6638983829980539, 'auc': 0.8320983737507397, 'prauc': 0.7146752533389871}\n"
     ]
    },
    {
     "name": "stderr",
     "output_type": "stream",
     "text": [
      "Epoch 002: 100%|██████████| 239/239 [00:13<00:00, 17.16it/s, loss=0.4275]\n",
      "Running inference: 100%|██████████| 482/482 [00:22<00:00, 21.78it/s]\n",
      "Running inference: 100%|██████████| 489/489 [00:21<00:00, 22.34it/s]\n"
     ]
    },
    {
     "name": "stdout",
     "output_type": "stream",
     "text": [
      "Validation: {'precision': 0.7896940418654116, 'recall': 0.4709950057616769, 'f1': 0.5900613597748571, 'auc': 0.8516289443820906, 'prauc': 0.7614719191843007}\n",
      "Test:      {'precision': 0.7862903225780031, 'recall': 0.44896392939284546, 'f1': 0.5715681438814891, 'auc': 0.8470301340558716, 'prauc': 0.7462237395908338}\n"
     ]
    },
    {
     "name": "stderr",
     "output_type": "stream",
     "text": [
      "Epoch 003: 100%|██████████| 239/239 [00:13<00:00, 17.36it/s, loss=0.3841]\n",
      "Running inference: 100%|██████████| 482/482 [00:21<00:00, 22.19it/s]\n",
      "Running inference: 100%|██████████| 489/489 [00:22<00:00, 21.44it/s]\n"
     ]
    },
    {
     "name": "stdout",
     "output_type": "stream",
     "text": [
      "Validation: {'precision': 0.7461757842863724, 'recall': 0.552823665000859, 'f1': 0.6351097821556075, 'auc': 0.8528230809246583, 'prauc': 0.763051910410399}\n",
      "Test:      {'precision': 0.7422790202323156, 'recall': 0.5349194167295953, 'f1': 0.6217662752374565, 'auc': 0.8503004642729405, 'prauc': 0.7513238964465151}\n"
     ]
    },
    {
     "name": "stderr",
     "output_type": "stream",
     "text": [
      "Epoch 004: 100%|██████████| 239/239 [00:14<00:00, 16.84it/s, loss=0.3471]\n",
      "Running inference: 100%|██████████| 482/482 [00:22<00:00, 21.80it/s]\n",
      "Running inference: 100%|██████████| 489/489 [00:21<00:00, 22.78it/s]\n"
     ]
    },
    {
     "name": "stdout",
     "output_type": "stream",
     "text": [
      "Validation: {'precision': 0.704956392255467, 'recall': 0.6365731847855617, 'f1': 0.6690218987160926, 'auc': 0.8556034394237456, 'prauc': 0.7659357622860952}\n",
      "Test:      {'precision': 0.6949116457298384, 'recall': 0.6262471220248921, 'f1': 0.6587950298290095, 'auc': 0.8516352886069505, 'prauc': 0.751728081525312}\n"
     ]
    },
    {
     "name": "stderr",
     "output_type": "stream",
     "text": [
      "Epoch 005: 100%|██████████| 239/239 [00:13<00:00, 17.53it/s, loss=0.3198]\n",
      "Running inference: 100%|██████████| 482/482 [00:21<00:00, 22.36it/s]\n",
      "Running inference: 100%|██████████| 489/489 [00:21<00:00, 22.46it/s]\n"
     ]
    },
    {
     "name": "stdout",
     "output_type": "stream",
     "text": [
      "Validation: {'precision': 0.6990516332967354, 'recall': 0.6371494429492179, 'f1': 0.6666666616760578, 'auc': 0.8526423090119165, 'prauc': 0.7581659886026946}\n",
      "Test:      {'precision': 0.696735395187507, 'recall': 0.6224098234830729, 'f1': 0.6574787141065552, 'auc': 0.8510293721996733, 'prauc': 0.7501169765789437}\n"
     ]
    },
    {
     "name": "stderr",
     "output_type": "stream",
     "text": [
      "Epoch 006: 100%|██████████| 239/239 [00:14<00:00, 16.94it/s, loss=0.2798]\n",
      "Running inference: 100%|██████████| 482/482 [00:22<00:00, 21.79it/s]\n",
      "Running inference: 100%|██████████| 489/489 [00:22<00:00, 21.71it/s]\n"
     ]
    },
    {
     "name": "stdout",
     "output_type": "stream",
     "text": [
      "Validation: {'precision': 0.6680248350782537, 'recall': 0.6613522858227788, 'f1': 0.6646718096706575, 'auc': 0.845267598766052, 'prauc': 0.7475378122968726}\n",
      "Test:      {'precision': 0.670797521485767, 'recall': 0.6438986953172604, 'f1': 0.6570729269636065, 'auc': 0.8413998228406008, 'prauc': 0.7324801226013233}\n",
      "\n",
      "Early stopping triggered (no improvement for 5 epochs).\n",
      "\n",
      "Best validation performance:\n",
      "{'precision': 0.5847231955142471, 'recall': 0.8013830195912383, 'f1': 0.6761202446956546, 'auc': 0.8407750554543677, 'prauc': 0.7388429853086103}\n",
      "Corresponding test performance:\n",
      "{'precision': 0.576661951908661, 'recall': 0.7822333077498422, 'f1': 0.6638983829980539, 'auc': 0.8320983737507397, 'prauc': 0.7146752533389871}\n",
      "[Warning] Missing keys: ['cls_head.cls.0.weight', 'cls_head.cls.0.bias', 'cls_head.cls.2.weight', 'cls_head.cls.2.bias']\n",
      "[Warning] Unexpected keys: ['diag_cls.cls.0.weight', 'diag_cls.cls.0.bias', 'diag_cls.cls.2.weight', 'diag_cls.cls.2.bias', 'med_cls.cls.0.weight', 'med_cls.cls.0.bias', 'med_cls.cls.2.weight', 'med_cls.cls.2.bias', 'lab_cls.cls.0.weight', 'lab_cls.cls.0.bias', 'lab_cls.cls.2.weight', 'lab_cls.cls.2.bias', 'pro_cls.cls.0.weight', 'pro_cls.cls.0.bias', 'pro_cls.cls.2.weight', 'pro_cls.cls.2.bias', 'cls_ontology.cls.0.weight', 'cls_ontology.cls.0.bias', 'cls_ontology.cls.2.weight', 'cls_ontology.cls.2.bias', 'visit_ontology.cls.0.weight', 'visit_ontology.cls.0.bias', 'visit_ontology.cls.2.weight', 'visit_ontology.cls.2.bias', 'adm_type.cls.0.weight', 'adm_type.cls.0.bias', 'adm_type.cls.2.weight', 'adm_type.cls.2.bias']\n"
     ]
    },
    {
     "name": "stderr",
     "output_type": "stream",
     "text": [
      "Epoch 001: 100%|██████████| 239/239 [00:14<00:00, 16.54it/s, loss=0.5031]\n",
      "Running inference: 100%|██████████| 482/482 [00:21<00:00, 22.29it/s]\n",
      "Running inference: 100%|██████████| 489/489 [00:21<00:00, 22.92it/s]\n"
     ]
    },
    {
     "name": "stdout",
     "output_type": "stream",
     "text": [
      "Validation: {'precision': 0.632999490747525, 'recall': 0.716288897424671, 'f1': 0.6720735284052428, 'auc': 0.8422739484395434, 'prauc': 0.73991693905862}\n",
      "Test:      {'precision': 0.6242548117856852, 'recall': 0.7031849577883669, 'f1': 0.6613732694006763, 'auc': 0.8354008965026503, 'prauc': 0.72309323898377}\n"
     ]
    },
    {
     "name": "stderr",
     "output_type": "stream",
     "text": [
      "Epoch 002: 100%|██████████| 239/239 [00:14<00:00, 16.74it/s, loss=0.4342]\n",
      "Running inference: 100%|██████████| 482/482 [00:21<00:00, 22.03it/s]\n",
      "Running inference: 100%|██████████| 489/489 [00:22<00:00, 21.72it/s]\n"
     ]
    },
    {
     "name": "stdout",
     "output_type": "stream",
     "text": [
      "Validation: {'precision': 0.7447525265593554, 'recall': 0.5520553207826507, 'f1': 0.6340871434818639, 'auc': 0.8512208722082285, 'prauc': 0.7608079753066371}\n",
      "Test:      {'precision': 0.7398568019073459, 'recall': 0.5353031465837772, 'f1': 0.6211733225234732, 'auc': 0.84613786721701, 'prauc': 0.7434263284596394}\n"
     ]
    },
    {
     "name": "stderr",
     "output_type": "stream",
     "text": [
      "Epoch 003: 100%|██████████| 239/239 [00:14<00:00, 16.98it/s, loss=0.3910]\n",
      "Running inference: 100%|██████████| 482/482 [00:22<00:00, 21.37it/s]\n",
      "Running inference: 100%|██████████| 489/489 [00:21<00:00, 22.77it/s]\n"
     ]
    },
    {
     "name": "stdout",
     "output_type": "stream",
     "text": [
      "Validation: {'precision': 0.7231158088218679, 'recall': 0.604494813675366, 'f1': 0.658505958629248, 'auc': 0.8547153122637197, 'prauc': 0.7648895806671576}\n",
      "Test:      {'precision': 0.7136890951259544, 'recall': 0.5901765157317916, 'f1': 0.6460827507670974, 'auc': 0.8503205189410811, 'prauc': 0.7499393283932583}\n"
     ]
    },
    {
     "name": "stderr",
     "output_type": "stream",
     "text": [
      "Epoch 004: 100%|██████████| 239/239 [00:13<00:00, 17.46it/s, loss=0.3584]\n",
      "Running inference: 100%|██████████| 482/482 [00:21<00:00, 22.95it/s]\n",
      "Running inference: 100%|██████████| 489/489 [00:22<00:00, 22.15it/s]\n"
     ]
    },
    {
     "name": "stdout",
     "output_type": "stream",
     "text": [
      "Validation: {'precision': 0.686274509802576, 'recall': 0.6723011909322468, 'f1': 0.6792159856842488, 'auc': 0.8571360298987267, 'prauc': 0.7648412236806623}\n",
      "Test:      {'precision': 0.6828588492918916, 'recall': 0.6580966999219914, 'f1': 0.6702491400907714, 'auc': 0.8504178338495814, 'prauc': 0.7477638982564321}\n"
     ]
    },
    {
     "name": "stderr",
     "output_type": "stream",
     "text": [
      "Epoch 005: 100%|██████████| 239/239 [00:13<00:00, 17.11it/s, loss=0.3243]\n",
      "Running inference: 100%|██████████| 482/482 [00:21<00:00, 22.05it/s]\n",
      "Running inference: 100%|██████████| 489/489 [00:22<00:00, 21.65it/s]\n"
     ]
    },
    {
     "name": "stdout",
     "output_type": "stream",
     "text": [
      "Validation: {'precision': 0.7660689655151282, 'recall': 0.5334229734910999, 'f1': 0.6289208421750246, 'auc': 0.8577338706592932, 'prauc': 0.7680242715058618}\n",
      "Test:      {'precision': 0.7597402597381148, 'recall': 0.5163085188017722, 'f1': 0.6148046559070862, 'auc': 0.852709420687732, 'prauc': 0.7525028712288142}\n"
     ]
    },
    {
     "name": "stderr",
     "output_type": "stream",
     "text": [
      "Epoch 006: 100%|██████████| 239/239 [00:14<00:00, 16.55it/s, loss=0.2934]\n",
      "Running inference: 100%|██████████| 482/482 [00:22<00:00, 21.88it/s]\n",
      "Running inference: 100%|██████████| 489/489 [00:21<00:00, 22.53it/s]\n"
     ]
    },
    {
     "name": "stdout",
     "output_type": "stream",
     "text": [
      "Validation: {'precision': 0.6846122940926384, 'recall': 0.6546292739134564, 'f1': 0.669285148182653, 'auc': 0.8493813962348118, 'prauc': 0.7581475598628322}\n",
      "Test:      {'precision': 0.6726530612231171, 'recall': 0.6323867996918028, 'f1': 0.6518987291806859, 'auc': 0.8430787653726957, 'prauc': 0.7423742509732001}\n"
     ]
    },
    {
     "name": "stderr",
     "output_type": "stream",
     "text": [
      "Epoch 007: 100%|██████████| 239/239 [00:13<00:00, 17.55it/s, loss=0.2536]\n",
      "Running inference: 100%|██████████| 482/482 [00:21<00:00, 22.24it/s]\n",
      "Running inference: 100%|██████████| 489/489 [00:22<00:00, 21.71it/s]\n"
     ]
    },
    {
     "name": "stdout",
     "output_type": "stream",
     "text": [
      "Validation: {'precision': 0.671353580801141, 'recall': 0.6878601613509645, 'f1': 0.679506636365672, 'auc': 0.851441446160229, 'prauc': 0.7539598286653912}\n",
      "Test:      {'precision': 0.6645797761323002, 'recall': 0.6721028395996315, 'f1': 0.6683201323641415, 'auc': 0.846719756730977, 'prauc': 0.7417487420246718}\n"
     ]
    },
    {
     "name": "stderr",
     "output_type": "stream",
     "text": [
      "Epoch 008: 100%|██████████| 239/239 [00:14<00:00, 16.20it/s, loss=0.2311]\n",
      "Running inference: 100%|██████████| 482/482 [00:22<00:00, 21.31it/s]\n",
      "Running inference: 100%|██████████| 489/489 [00:23<00:00, 20.77it/s]\n"
     ]
    },
    {
     "name": "stdout",
     "output_type": "stream",
     "text": [
      "Validation: {'precision': 0.6281018369309892, 'recall': 0.7487514406439709, 'f1': 0.6831405488402098, 'auc': 0.8473612896576685, 'prauc': 0.7489752371452683}\n",
      "Test:      {'precision': 0.6203086921192197, 'recall': 0.7325402916332837, 'f1': 0.6717691513629559, 'auc': 0.8428085711144799, 'prauc': 0.7376618827598442}\n"
     ]
    },
    {
     "name": "stderr",
     "output_type": "stream",
     "text": [
      "Epoch 009: 100%|██████████| 239/239 [00:14<00:00, 16.20it/s, loss=0.1967]\n",
      "Running inference: 100%|██████████| 482/482 [00:22<00:00, 21.38it/s]\n",
      "Running inference: 100%|██████████| 489/489 [00:23<00:00, 21.20it/s]\n"
     ]
    },
    {
     "name": "stdout",
     "output_type": "stream",
     "text": [
      "Validation: {'precision': 0.7233990147765433, 'recall': 0.5641567422194311, 'f1': 0.6339304936721343, 'auc': 0.8403719290960349, 'prauc': 0.7427086189402932}\n",
      "Test:      {'precision': 0.7178413011317945, 'recall': 0.5589025326159652, 'f1': 0.6284789594774245, 'auc': 0.8372198622760411, 'prauc': 0.7304821846266643}\n"
     ]
    },
    {
     "name": "stderr",
     "output_type": "stream",
     "text": [
      "Epoch 010: 100%|██████████| 239/239 [00:14<00:00, 16.22it/s, loss=0.1712]\n",
      "Running inference: 100%|██████████| 482/482 [00:22<00:00, 20.98it/s]\n",
      "Running inference: 100%|██████████| 489/489 [00:23<00:00, 21.23it/s]\n"
     ]
    },
    {
     "name": "stdout",
     "output_type": "stream",
     "text": [
      "Validation: {'precision': 0.6803005008333048, 'recall': 0.6262005378397499, 'f1': 0.6521304210924858, 'auc': 0.8385673093463478, 'prauc': 0.7383361422543135}\n",
      "Test:      {'precision': 0.6664582030421796, 'recall': 0.6133921719097978, 'f1': 0.6388250524556159, 'auc': 0.8317383574356775, 'prauc': 0.7229140977799227}\n"
     ]
    },
    {
     "name": "stderr",
     "output_type": "stream",
     "text": [
      "Epoch 011: 100%|██████████| 239/239 [00:14<00:00, 16.15it/s, loss=0.1569]\n",
      "Running inference: 100%|██████████| 482/482 [00:22<00:00, 21.34it/s]\n",
      "Running inference: 100%|██████████| 489/489 [00:23<00:00, 20.78it/s]\n"
     ]
    },
    {
     "name": "stdout",
     "output_type": "stream",
     "text": [
      "Validation: {'precision': 0.6325208794944052, 'recall': 0.7128313484427338, 'f1': 0.6702790521826864, 'auc': 0.8382507771524801, 'prauc': 0.7328166986572173}\n",
      "Test:      {'precision': 0.6228864218605928, 'recall': 0.6997313891007296, 'f1': 0.6590765288550297, 'auc': 0.8324333032980271, 'prauc': 0.7198390519109458}\n"
     ]
    },
    {
     "name": "stderr",
     "output_type": "stream",
     "text": [
      "Epoch 012: 100%|██████████| 239/239 [00:14<00:00, 16.23it/s, loss=0.1394]\n",
      "Running inference: 100%|██████████| 482/482 [00:22<00:00, 21.40it/s]\n",
      "Running inference: 100%|██████████| 489/489 [00:23<00:00, 21.26it/s]\n"
     ]
    },
    {
     "name": "stdout",
     "output_type": "stream",
     "text": [
      "Validation: {'precision': 0.6704750450978744, 'recall': 0.6425278524766759, 'f1': 0.6562040165801835, 'auc': 0.8365428410309378, 'prauc': 0.7242822667400759}\n",
      "Test:      {'precision': 0.6584197924966911, 'recall': 0.6331542594001667, 'f1': 0.6455399011039371, 'auc': 0.833801822423729, 'prauc': 0.7195643116401269}\n"
     ]
    },
    {
     "name": "stderr",
     "output_type": "stream",
     "text": [
      "Epoch 013: 100%|██████████| 239/239 [00:15<00:00, 15.76it/s, loss=0.1319]\n",
      "Running inference: 100%|██████████| 482/482 [00:22<00:00, 21.37it/s]\n",
      "Running inference: 100%|██████████| 489/489 [00:22<00:00, 21.38it/s]\n"
     ]
    },
    {
     "name": "stdout",
     "output_type": "stream",
     "text": [
      "Validation: {'precision': 0.6994027869924809, 'recall': 0.607376104493647, 'f1': 0.6501490646235422, 'auc': 0.8403411425719409, 'prauc': 0.736508251518073}\n",
      "Test:      {'precision': 0.6900467601855043, 'recall': 0.5945894090548838, 'f1': 0.6387715089910442, 'auc': 0.836170291633952, 'prauc': 0.727160286005621}\n",
      "\n",
      "Early stopping triggered (no improvement for 5 epochs).\n",
      "\n",
      "Best validation performance:\n",
      "{'precision': 0.6281018369309892, 'recall': 0.7487514406439709, 'f1': 0.6831405488402098, 'auc': 0.8473612896576685, 'prauc': 0.7489752371452683}\n",
      "Corresponding test performance:\n",
      "{'precision': 0.6203086921192197, 'recall': 0.7325402916332837, 'f1': 0.6717691513629559, 'auc': 0.8428085711144799, 'prauc': 0.7376618827598442}\n",
      "[Warning] Missing keys: ['cls_head.cls.0.weight', 'cls_head.cls.0.bias', 'cls_head.cls.2.weight', 'cls_head.cls.2.bias']\n",
      "[Warning] Unexpected keys: ['diag_cls.cls.0.weight', 'diag_cls.cls.0.bias', 'diag_cls.cls.2.weight', 'diag_cls.cls.2.bias', 'med_cls.cls.0.weight', 'med_cls.cls.0.bias', 'med_cls.cls.2.weight', 'med_cls.cls.2.bias', 'lab_cls.cls.0.weight', 'lab_cls.cls.0.bias', 'lab_cls.cls.2.weight', 'lab_cls.cls.2.bias', 'pro_cls.cls.0.weight', 'pro_cls.cls.0.bias', 'pro_cls.cls.2.weight', 'pro_cls.cls.2.bias', 'cls_ontology.cls.0.weight', 'cls_ontology.cls.0.bias', 'cls_ontology.cls.2.weight', 'cls_ontology.cls.2.bias', 'visit_ontology.cls.0.weight', 'visit_ontology.cls.0.bias', 'visit_ontology.cls.2.weight', 'visit_ontology.cls.2.bias', 'adm_type.cls.0.weight', 'adm_type.cls.0.bias', 'adm_type.cls.2.weight', 'adm_type.cls.2.bias']\n"
     ]
    },
    {
     "name": "stderr",
     "output_type": "stream",
     "text": [
      "Epoch 001: 100%|██████████| 239/239 [00:14<00:00, 16.38it/s, loss=0.4991]\n",
      "Running inference: 100%|██████████| 482/482 [00:22<00:00, 21.19it/s]\n",
      "Running inference: 100%|██████████| 489/489 [00:22<00:00, 21.58it/s]\n"
     ]
    },
    {
     "name": "stdout",
     "output_type": "stream",
     "text": [
      "Validation: {'precision': 0.5868349347474734, 'recall': 0.7860161352270726, 'f1': 0.6719763478424661, 'auc': 0.8406574204095814, 'prauc': 0.7448928700584067}\n",
      "Test:      {'precision': 0.5780872530899842, 'recall': 0.7805065234060236, 'f1': 0.6642174822517157, 'auc': 0.8356062909576967, 'prauc': 0.7276688485116822}\n"
     ]
    },
    {
     "name": "stderr",
     "output_type": "stream",
     "text": [
      "Epoch 002: 100%|██████████| 239/239 [00:14<00:00, 16.45it/s, loss=0.4318]\n",
      "Running inference: 100%|██████████| 482/482 [00:22<00:00, 21.68it/s]\n",
      "Running inference: 100%|██████████| 489/489 [00:23<00:00, 20.76it/s]\n"
     ]
    },
    {
     "name": "stdout",
     "output_type": "stream",
     "text": [
      "Validation: {'precision': 0.7689606741546035, 'recall': 0.4206684594690345, 'f1': 0.5438291486430255, 'auc': 0.8420217495299591, 'prauc': 0.7329916871396732}\n",
      "Test:      {'precision': 0.7583271650601099, 'recall': 0.3931312356093762, 'f1': 0.5178165231741212, 'auc': 0.8350031394403288, 'prauc': 0.7146001990058295}\n"
     ]
    },
    {
     "name": "stderr",
     "output_type": "stream",
     "text": [
      "Epoch 003: 100%|██████████| 239/239 [00:14<00:00, 16.31it/s, loss=0.3932]\n",
      "Running inference: 100%|██████████| 482/482 [00:22<00:00, 21.42it/s]\n",
      "Running inference: 100%|██████████| 489/489 [00:22<00:00, 21.30it/s]\n"
     ]
    },
    {
     "name": "stdout",
     "output_type": "stream",
     "text": [
      "Validation: {'precision': 0.661807055434374, 'recall': 0.7063004225879633, 'f1': 0.683330231019629, 'auc': 0.8549868234053702, 'prauc': 0.7638285388498157}\n",
      "Test:      {'precision': 0.6504432784500626, 'recall': 0.6897544128919997, 'f1': 0.6695222968933615, 'auc': 0.8518524891419088, 'prauc': 0.7505726383989134}\n"
     ]
    },
    {
     "name": "stderr",
     "output_type": "stream",
     "text": [
      "Epoch 004: 100%|██████████| 239/239 [00:15<00:00, 15.83it/s, loss=0.3605]\n",
      "Running inference: 100%|██████████| 482/482 [00:22<00:00, 21.47it/s]\n",
      "Running inference: 100%|██████████| 489/489 [00:22<00:00, 21.32it/s]\n"
     ]
    },
    {
     "name": "stdout",
     "output_type": "stream",
     "text": [
      "Validation: {'precision': 0.614337966348772, 'recall': 0.8065693430641442, 'f1': 0.6974503729659471, 'auc': 0.8591105972905975, 'prauc': 0.7690425475577843}\n",
      "Test:      {'precision': 0.6082143897456915, 'recall': 0.8012279355318472, 'f1': 0.6915052111880022, 'auc': 0.8539484784515908, 'prauc': 0.7526232381720384}\n"
     ]
    },
    {
     "name": "stderr",
     "output_type": "stream",
     "text": [
      "Epoch 005: 100%|██████████| 239/239 [00:14<00:00, 16.14it/s, loss=0.3258]\n",
      "Running inference: 100%|██████████| 482/482 [00:22<00:00, 21.09it/s]\n",
      "Running inference: 100%|██████████| 489/489 [00:22<00:00, 21.38it/s]\n"
     ]
    },
    {
     "name": "stdout",
     "output_type": "stream",
     "text": [
      "Validation: {'precision': 0.6773890142951893, 'recall': 0.6917018824420059, 'f1': 0.684470627958759, 'auc': 0.8524388805537504, 'prauc': 0.7619253512418438}\n",
      "Test:      {'precision': 0.6712665406414532, 'recall': 0.6813123560999975, 'f1': 0.6762521374480454, 'auc': 0.850677963908528, 'prauc': 0.7502065396146294}\n"
     ]
    },
    {
     "name": "stderr",
     "output_type": "stream",
     "text": [
      "Epoch 006: 100%|██████████| 239/239 [00:14<00:00, 16.36it/s, loss=0.2920]\n",
      "Running inference: 100%|██████████| 482/482 [00:22<00:00, 21.58it/s]\n",
      "Running inference: 100%|██████████| 489/489 [00:23<00:00, 21.04it/s]\n"
     ]
    },
    {
     "name": "stdout",
     "output_type": "stream",
     "text": [
      "Validation: {'precision': 0.6549543218540848, 'recall': 0.7160968113701189, 'f1': 0.684162226610817, 'auc': 0.8486863348718432, 'prauc': 0.7583173847086442}\n",
      "Test:      {'precision': 0.6436077057782074, 'recall': 0.7051036070592764, 'f1': 0.6729536664979012, 'auc': 0.8460197511200939, 'prauc': 0.7441400660963016}\n"
     ]
    },
    {
     "name": "stderr",
     "output_type": "stream",
     "text": [
      "Epoch 007: 100%|██████████| 239/239 [00:14<00:00, 16.41it/s, loss=0.2596]\n",
      "Running inference: 100%|██████████| 482/482 [00:22<00:00, 21.59it/s]\n",
      "Running inference: 100%|██████████| 489/489 [00:22<00:00, 21.43it/s]\n"
     ]
    },
    {
     "name": "stdout",
     "output_type": "stream",
     "text": [
      "Validation: {'precision': 0.6267882408416494, 'recall': 0.7658470994991052, 'f1': 0.6893749410156362, 'auc': 0.8518824056522099, 'prauc': 0.7635039621844327}\n",
      "Test:      {'precision': 0.6162591496642015, 'recall': 0.7592095164989271, 'f1': 0.6803060210134654, 'auc': 0.8479135440307244, 'prauc': 0.7509005881728196}\n"
     ]
    },
    {
     "name": "stderr",
     "output_type": "stream",
     "text": [
      "Epoch 008: 100%|██████████| 239/239 [00:14<00:00, 16.37it/s, loss=0.2281]\n",
      "Running inference: 100%|██████████| 482/482 [00:22<00:00, 21.19it/s]\n",
      "Running inference: 100%|██████████| 489/489 [00:22<00:00, 21.48it/s]\n"
     ]
    },
    {
     "name": "stdout",
     "output_type": "stream",
     "text": [
      "Validation: {'precision': 0.6872290106411367, 'recall': 0.6698040722230699, 'f1': 0.6784046642602051, 'auc': 0.8481272598844243, 'prauc': 0.7564525514307932}\n",
      "Test:      {'precision': 0.67413962635069, 'recall': 0.6577129700678095, 'f1': 0.6658249925715759, 'auc': 0.8461630645803815, 'prauc': 0.7463172629768167}\n"
     ]
    },
    {
     "name": "stderr",
     "output_type": "stream",
     "text": [
      "Epoch 009: 100%|██████████| 239/239 [00:14<00:00, 16.43it/s, loss=0.2032]\n",
      "Running inference: 100%|██████████| 482/482 [00:22<00:00, 21.61it/s]\n",
      "Running inference: 100%|██████████| 489/489 [00:23<00:00, 21.13it/s]\n"
     ]
    },
    {
     "name": "stdout",
     "output_type": "stream",
     "text": [
      "Validation: {'precision': 0.6715244487043691, 'recall': 0.672685363041351, 'f1': 0.6721043995664137, 'auc': 0.8426017759340196, 'prauc': 0.7440700304351793}\n",
      "Test:      {'precision': 0.6637101339862923, 'recall': 0.6747889485789049, 'f1': 0.669203686370014, 'auc': 0.8441715512440641, 'prauc': 0.7424158470735256}\n",
      "\n",
      "Early stopping triggered (no improvement for 5 epochs).\n",
      "\n",
      "Best validation performance:\n",
      "{'precision': 0.614337966348772, 'recall': 0.8065693430641442, 'f1': 0.6974503729659471, 'auc': 0.8591105972905975, 'prauc': 0.7690425475577843}\n",
      "Corresponding test performance:\n",
      "{'precision': 0.6082143897456915, 'recall': 0.8012279355318472, 'f1': 0.6915052111880022, 'auc': 0.8539484784515908, 'prauc': 0.7526232381720384}\n",
      "[Warning] Missing keys: ['cls_head.cls.0.weight', 'cls_head.cls.0.bias', 'cls_head.cls.2.weight', 'cls_head.cls.2.bias']\n",
      "[Warning] Unexpected keys: ['diag_cls.cls.0.weight', 'diag_cls.cls.0.bias', 'diag_cls.cls.2.weight', 'diag_cls.cls.2.bias', 'med_cls.cls.0.weight', 'med_cls.cls.0.bias', 'med_cls.cls.2.weight', 'med_cls.cls.2.bias', 'lab_cls.cls.0.weight', 'lab_cls.cls.0.bias', 'lab_cls.cls.2.weight', 'lab_cls.cls.2.bias', 'pro_cls.cls.0.weight', 'pro_cls.cls.0.bias', 'pro_cls.cls.2.weight', 'pro_cls.cls.2.bias', 'cls_ontology.cls.0.weight', 'cls_ontology.cls.0.bias', 'cls_ontology.cls.2.weight', 'cls_ontology.cls.2.bias', 'visit_ontology.cls.0.weight', 'visit_ontology.cls.0.bias', 'visit_ontology.cls.2.weight', 'visit_ontology.cls.2.bias', 'adm_type.cls.0.weight', 'adm_type.cls.0.bias', 'adm_type.cls.2.weight', 'adm_type.cls.2.bias']\n"
     ]
    },
    {
     "name": "stderr",
     "output_type": "stream",
     "text": [
      "Epoch 001: 100%|██████████| 239/239 [00:14<00:00, 16.40it/s, loss=0.5013]\n",
      "Running inference: 100%|██████████| 482/482 [00:22<00:00, 21.69it/s]\n",
      "Running inference: 100%|██████████| 489/489 [00:23<00:00, 21.16it/s]\n"
     ]
    },
    {
     "name": "stdout",
     "output_type": "stream",
     "text": [
      "Validation: {'precision': 0.6724375368863419, 'recall': 0.656550134458977, 'f1': 0.6643988675817926, 'auc': 0.8446671202372031, 'prauc': 0.7497256270027646}\n",
      "Test:      {'precision': 0.6662631154143135, 'recall': 0.6335379892543486, 'f1': 0.649488586662002, 'auc': 0.8384650396628988, 'prauc': 0.7294985967024028}\n"
     ]
    },
    {
     "name": "stderr",
     "output_type": "stream",
     "text": [
      "Epoch 002: 100%|██████████| 239/239 [00:14<00:00, 16.48it/s, loss=0.4319]\n",
      "Running inference: 100%|██████████| 482/482 [00:22<00:00, 21.73it/s]\n",
      "Running inference: 100%|██████████| 489/489 [00:22<00:00, 21.62it/s]\n"
     ]
    },
    {
     "name": "stdout",
     "output_type": "stream",
     "text": [
      "Validation: {'precision': 0.5844120819841094, 'recall': 0.8325009604286736, 'f1': 0.6867374377128048, 'auc': 0.8576080396916298, 'prauc': 0.764917076217687}\n",
      "Test:      {'precision': 0.5773182121406574, 'recall': 0.8301995395225822, 'f1': 0.6810419405447591, 'auc': 0.8522055747995989, 'prauc': 0.7499999971408882}\n"
     ]
    },
    {
     "name": "stderr",
     "output_type": "stream",
     "text": [
      "Epoch 003: 100%|██████████| 239/239 [00:14<00:00, 16.53it/s, loss=0.3942]\n",
      "Running inference: 100%|██████████| 482/482 [00:22<00:00, 21.40it/s]\n",
      "Running inference: 100%|██████████| 489/489 [00:22<00:00, 21.71it/s]\n"
     ]
    },
    {
     "name": "stdout",
     "output_type": "stream",
     "text": [
      "Validation: {'precision': 0.7197789546379927, 'recall': 0.6004610065297724, 'f1': 0.6547282388346296, 'auc': 0.8568497189928926, 'prauc': 0.7662579447391364}\n",
      "Test:      {'precision': 0.717671908001132, 'recall': 0.5867229470441544, 'f1': 0.6456244012561433, 'auc': 0.8494368048283383, 'prauc': 0.7511251425714839}\n"
     ]
    },
    {
     "name": "stderr",
     "output_type": "stream",
     "text": [
      "Epoch 004: 100%|██████████| 239/239 [00:14<00:00, 16.60it/s, loss=0.3618]\n",
      "Running inference: 100%|██████████| 482/482 [00:21<00:00, 22.42it/s]\n",
      "Running inference: 100%|██████████| 489/489 [00:23<00:00, 21.25it/s]\n"
     ]
    },
    {
     "name": "stdout",
     "output_type": "stream",
     "text": [
      "Validation: {'precision': 0.6674025018383603, 'recall': 0.6968882059149119, 'f1': 0.6818267193009978, 'auc': 0.855841582796626, 'prauc': 0.7621072193256034}\n",
      "Test:      {'precision': 0.667108000755311, 'recall': 0.6767075978498145, 'f1': 0.6718735067620004, 'auc': 0.8509556602346972, 'prauc': 0.7473604356092618}\n"
     ]
    },
    {
     "name": "stderr",
     "output_type": "stream",
     "text": [
      "Epoch 005: 100%|██████████| 239/239 [00:13<00:00, 17.16it/s, loss=0.3169]\n",
      "Running inference: 100%|██████████| 482/482 [00:20<00:00, 23.24it/s]\n",
      "Running inference: 100%|██████████| 489/489 [00:21<00:00, 22.81it/s]\n"
     ]
    },
    {
     "name": "stdout",
     "output_type": "stream",
     "text": [
      "Validation: {'precision': 0.6718549716156897, 'recall': 0.7047637341515468, 'f1': 0.6879159976264857, 'auc': 0.8566800916511431, 'prauc': 0.7694332477920356}\n",
      "Test:      {'precision': 0.6612184249616248, 'recall': 0.6830391404438161, 'f1': 0.6719516748792488, 'auc': 0.8487594989636087, 'prauc': 0.751191386313814}\n"
     ]
    },
    {
     "name": "stderr",
     "output_type": "stream",
     "text": [
      "Epoch 006: 100%|██████████| 239/239 [00:14<00:00, 16.83it/s, loss=0.2871]\n",
      "Running inference: 100%|██████████| 482/482 [00:21<00:00, 22.55it/s]\n",
      "Running inference: 100%|██████████| 489/489 [00:22<00:00, 21.72it/s]\n"
     ]
    },
    {
     "name": "stdout",
     "output_type": "stream",
     "text": [
      "Validation: {'precision': 0.6332071745916847, 'recall': 0.7391471379163674, 'f1': 0.6820880921658732, 'auc': 0.8492669359325651, 'prauc': 0.7582982496748432}\n",
      "Test:      {'precision': 0.6242006886364582, 'recall': 0.7304297774352831, 'f1': 0.6731500259728872, 'auc': 0.8456697621391017, 'prauc': 0.7458566210646863}\n"
     ]
    },
    {
     "name": "stderr",
     "output_type": "stream",
     "text": [
      "Epoch 007: 100%|██████████| 239/239 [00:14<00:00, 16.57it/s, loss=0.2551]\n",
      "Running inference: 100%|██████████| 482/482 [00:22<00:00, 21.84it/s]\n",
      "Running inference: 100%|██████████| 489/489 [00:22<00:00, 21.70it/s]\n"
     ]
    },
    {
     "name": "stdout",
     "output_type": "stream",
     "text": [
      "Validation: {'precision': 0.6364728083708415, 'recall': 0.7126392623881816, 'f1': 0.6724059759843602, 'auc': 0.840662903199368, 'prauc': 0.7392205307907902}\n",
      "Test:      {'precision': 0.6287865522664529, 'recall': 0.6889869531836359, 'f1': 0.6575116676266438, 'auc': 0.8367151592720362, 'prauc': 0.7235894999962043}\n"
     ]
    },
    {
     "name": "stderr",
     "output_type": "stream",
     "text": [
      "Epoch 008: 100%|██████████| 239/239 [00:13<00:00, 17.53it/s, loss=0.2285]\n",
      "Running inference: 100%|██████████| 482/482 [00:20<00:00, 23.00it/s]\n",
      "Running inference: 100%|██████████| 489/489 [00:22<00:00, 21.90it/s]\n"
     ]
    },
    {
     "name": "stdout",
     "output_type": "stream",
     "text": [
      "Validation: {'precision': 0.7093785310718432, 'recall': 0.6029581252389494, 'f1': 0.6518533851260129, 'auc': 0.8444582466716546, 'prauc': 0.7506161710774264}\n",
      "Test:      {'precision': 0.7033957033940785, 'recall': 0.5842287029919719, 'f1': 0.6382978673819132, 'auc': 0.8412172571599036, 'prauc': 0.7355988644478355}\n"
     ]
    },
    {
     "name": "stderr",
     "output_type": "stream",
     "text": [
      "Epoch 009: 100%|██████████| 239/239 [00:14<00:00, 16.58it/s, loss=0.2007]\n",
      "Running inference: 100%|██████████| 482/482 [00:21<00:00, 21.94it/s]\n",
      "Running inference: 100%|██████████| 489/489 [00:22<00:00, 21.97it/s]\n"
     ]
    },
    {
     "name": "stdout",
     "output_type": "stream",
     "text": [
      "Validation: {'precision': 0.7558306939223847, 'recall': 0.5042258931991851, 'f1': 0.6049083947831672, 'auc': 0.8392856866968115, 'prauc': 0.7364333504165961}\n",
      "Test:      {'precision': 0.7550715990430935, 'recall': 0.48561013046721874, 'f1': 0.5910789303115401, 'auc': 0.8386971521707667, 'prauc': 0.7253072437416785}\n"
     ]
    },
    {
     "name": "stderr",
     "output_type": "stream",
     "text": [
      "Epoch 010: 100%|██████████| 239/239 [00:14<00:00, 16.55it/s, loss=0.1751]\n",
      "Running inference: 100%|██████████| 482/482 [00:22<00:00, 21.58it/s]\n",
      "Running inference: 100%|██████████| 489/489 [00:21<00:00, 22.75it/s]\n"
     ]
    },
    {
     "name": "stdout",
     "output_type": "stream",
     "text": [
      "Validation: {'precision': 0.6360205831893035, 'recall': 0.7122550902790775, 'f1': 0.6719825974069383, 'auc': 0.8430702718427469, 'prauc': 0.742266808559528}\n",
      "Test:      {'precision': 0.632530120480839, 'recall': 0.7051036070592764, 'f1': 0.6668481169514503, 'auc': 0.8362825369479612, 'prauc': 0.7240362102227277}\n",
      "\n",
      "Early stopping triggered (no improvement for 5 epochs).\n",
      "\n",
      "Best validation performance:\n",
      "{'precision': 0.6718549716156897, 'recall': 0.7047637341515468, 'f1': 0.6879159976264857, 'auc': 0.8566800916511431, 'prauc': 0.7694332477920356}\n",
      "Corresponding test performance:\n",
      "{'precision': 0.6612184249616248, 'recall': 0.6830391404438161, 'f1': 0.6719516748792488, 'auc': 0.8487594989636087, 'prauc': 0.751191386313814}\n",
      "[Warning] Missing keys: ['cls_head.cls.0.weight', 'cls_head.cls.0.bias', 'cls_head.cls.2.weight', 'cls_head.cls.2.bias']\n",
      "[Warning] Unexpected keys: ['diag_cls.cls.0.weight', 'diag_cls.cls.0.bias', 'diag_cls.cls.2.weight', 'diag_cls.cls.2.bias', 'med_cls.cls.0.weight', 'med_cls.cls.0.bias', 'med_cls.cls.2.weight', 'med_cls.cls.2.bias', 'lab_cls.cls.0.weight', 'lab_cls.cls.0.bias', 'lab_cls.cls.2.weight', 'lab_cls.cls.2.bias', 'pro_cls.cls.0.weight', 'pro_cls.cls.0.bias', 'pro_cls.cls.2.weight', 'pro_cls.cls.2.bias', 'cls_ontology.cls.0.weight', 'cls_ontology.cls.0.bias', 'cls_ontology.cls.2.weight', 'cls_ontology.cls.2.bias', 'visit_ontology.cls.0.weight', 'visit_ontology.cls.0.bias', 'visit_ontology.cls.2.weight', 'visit_ontology.cls.2.bias', 'adm_type.cls.0.weight', 'adm_type.cls.0.bias', 'adm_type.cls.2.weight', 'adm_type.cls.2.bias']\n"
     ]
    },
    {
     "name": "stderr",
     "output_type": "stream",
     "text": [
      "Epoch 001: 100%|██████████| 239/239 [00:13<00:00, 17.25it/s, loss=0.5078]\n",
      "Running inference: 100%|██████████| 482/482 [00:21<00:00, 22.08it/s]\n",
      "Running inference: 100%|██████████| 489/489 [00:22<00:00, 22.22it/s]\n"
     ]
    },
    {
     "name": "stdout",
     "output_type": "stream",
     "text": [
      "Validation: {'precision': 0.5708491076249718, 'recall': 0.8109873223188417, 'f1': 0.6700523677892011, 'auc': 0.8394454506693054, 'prauc': 0.7340392384062074}\n",
      "Test:      {'precision': 0.568080808080043, 'recall': 0.8092862624696675, 'f1': 0.6675634991484815, 'auc': 0.8348860924341774, 'prauc': 0.7161780903963815}\n"
     ]
    },
    {
     "name": "stderr",
     "output_type": "stream",
     "text": [
      "Epoch 002: 100%|██████████| 239/239 [00:14<00:00, 16.88it/s, loss=0.4314]\n",
      "Running inference: 100%|██████████| 482/482 [00:22<00:00, 21.75it/s]\n",
      "Running inference: 100%|██████████| 489/489 [00:23<00:00, 21.23it/s]\n"
     ]
    },
    {
     "name": "stdout",
     "output_type": "stream",
     "text": [
      "Validation: {'precision': 0.7232472324706567, 'recall': 0.6023818670752932, 'f1': 0.6573045433529102, 'auc': 0.8550057493927952, 'prauc': 0.7677631886773636}\n",
      "Test:      {'precision': 0.7215159510656716, 'recall': 0.5771297006896065, 'f1': 0.6412962321353789, 'auc': 0.8495264149102919, 'prauc': 0.7492379191216975}\n"
     ]
    },
    {
     "name": "stderr",
     "output_type": "stream",
     "text": [
      "Epoch 003: 100%|██████████| 239/239 [00:14<00:00, 16.51it/s, loss=0.3907]\n",
      "Running inference: 100%|██████████| 482/482 [00:22<00:00, 21.79it/s]\n",
      "Running inference: 100%|██████████| 489/489 [00:22<00:00, 21.79it/s]\n"
     ]
    },
    {
     "name": "stdout",
     "output_type": "stream",
     "text": [
      "Validation: {'precision': 0.8018134714999942, 'recall': 0.47560507107092664, 'f1': 0.5970581096241112, 'auc': 0.8594294563729141, 'prauc': 0.7688079018665889}\n",
      "Test:      {'precision': 0.78208150892293, 'recall': 0.44551036070520816, 'f1': 0.567656761051031, 'auc': 0.8520258293066092, 'prauc': 0.7488572595835368}\n"
     ]
    },
    {
     "name": "stderr",
     "output_type": "stream",
     "text": [
      "Epoch 004: 100%|██████████| 239/239 [00:14<00:00, 16.81it/s, loss=0.3561]\n",
      "Running inference: 100%|██████████| 482/482 [00:22<00:00, 21.55it/s]\n",
      "Running inference: 100%|██████████| 489/489 [00:21<00:00, 22.62it/s]\n"
     ]
    },
    {
     "name": "stdout",
     "output_type": "stream",
     "text": [
      "Validation: {'precision': 0.6424766977352822, 'recall': 0.7414521705709922, 'f1': 0.6884251778315514, 'auc': 0.8592778789026959, 'prauc': 0.7707771571073866}\n",
      "Test:      {'precision': 0.6400659521836107, 'recall': 0.7448196469671051, 'f1': 0.6884809740111589, 'auc': 0.8553564894214943, 'prauc': 0.7560690242275682}\n"
     ]
    },
    {
     "name": "stderr",
     "output_type": "stream",
     "text": [
      "Epoch 005: 100%|██████████| 239/239 [00:14<00:00, 17.06it/s, loss=0.3220]\n",
      "Running inference: 100%|██████████| 482/482 [00:21<00:00, 22.09it/s]\n",
      "Running inference: 100%|██████████| 489/489 [00:22<00:00, 21.40it/s]\n"
     ]
    },
    {
     "name": "stdout",
     "output_type": "stream",
     "text": [
      "Validation: {'precision': 0.7279711884736424, 'recall': 0.5824049174018778, 'f1': 0.6471027589062287, 'auc': 0.8456420676561186, 'prauc': 0.7587714512744972}\n",
      "Test:      {'precision': 0.7127529870745849, 'recall': 0.5608211818868749, 'f1': 0.6277246809927127, 'auc': 0.8418058653563497, 'prauc': 0.7448405211336412}\n"
     ]
    },
    {
     "name": "stderr",
     "output_type": "stream",
     "text": [
      "Epoch 006: 100%|██████████| 239/239 [00:14<00:00, 16.88it/s, loss=0.2888]\n",
      "Running inference: 100%|██████████| 482/482 [00:21<00:00, 21.93it/s]\n",
      "Running inference: 100%|██████████| 489/489 [00:22<00:00, 22.21it/s]\n"
     ]
    },
    {
     "name": "stdout",
     "output_type": "stream",
     "text": [
      "Validation: {'precision': 0.6911677534070516, 'recall': 0.6719170188231427, 'f1': 0.6814064428422725, 'auc': 0.8585049845341992, 'prauc': 0.7701724938148128}\n",
      "Test:      {'precision': 0.6827935222658243, 'recall': 0.6471603990778066, 'f1': 0.6644996009912479, 'auc': 0.8532852182275994, 'prauc': 0.7529979749020657}\n"
     ]
    },
    {
     "name": "stderr",
     "output_type": "stream",
     "text": [
      "Epoch 007: 100%|██████████| 239/239 [00:13<00:00, 17.21it/s, loss=0.2512]\n",
      "Running inference: 100%|██████████| 482/482 [00:21<00:00, 22.49it/s]\n",
      "Running inference: 100%|██████████| 489/489 [00:22<00:00, 22.21it/s]\n"
     ]
    },
    {
     "name": "stdout",
     "output_type": "stream",
     "text": [
      "Validation: {'precision': 0.7179891794393193, 'recall': 0.6117940837483447, 'f1': 0.6606513121846344, 'auc': 0.8535906055505804, 'prauc': 0.763618428730747}\n",
      "Test:      {'precision': 0.710446365971698, 'recall': 0.5832693783565172, 'f1': 0.6406068857855626, 'auc': 0.8470996526044858, 'prauc': 0.7436449325940453}\n"
     ]
    },
    {
     "name": "stderr",
     "output_type": "stream",
     "text": [
      "Epoch 008: 100%|██████████| 239/239 [00:14<00:00, 16.67it/s, loss=0.2259]\n",
      "Running inference: 100%|██████████| 482/482 [00:22<00:00, 21.53it/s]\n",
      "Running inference: 100%|██████████| 489/489 [00:22<00:00, 21.87it/s]\n"
     ]
    },
    {
     "name": "stdout",
     "output_type": "stream",
     "text": [
      "Validation: {'precision': 0.696735395187507, 'recall': 0.6231271609669168, 'f1': 0.6578787214388774, 'auc': 0.8439946023724464, 'prauc': 0.7502456463236346}\n",
      "Test:      {'precision': 0.6869770435514118, 'recall': 0.6143514965452526, 'f1': 0.6486376937886945, 'auc': 0.8414709726742613, 'prauc': 0.7383395285961094}\n"
     ]
    },
    {
     "name": "stderr",
     "output_type": "stream",
     "text": [
      "Epoch 009: 100%|██████████| 239/239 [00:14<00:00, 16.60it/s, loss=0.1970]\n",
      "Running inference: 100%|██████████| 482/482 [00:21<00:00, 22.58it/s]\n",
      "Running inference: 100%|██████████| 489/489 [00:22<00:00, 22.02it/s]\n"
     ]
    },
    {
     "name": "stdout",
     "output_type": "stream",
     "text": [
      "Validation: {'precision': 0.6723462593014643, 'recall': 0.6594314252772581, 'f1': 0.6658262168766033, 'auc': 0.8431499136036682, 'prauc': 0.7504512097320699}\n",
      "Test:      {'precision': 0.6605976647523044, 'recall': 0.640445126629623, 'f1': 0.6503653140452321, 'auc': 0.8357392268645256, 'prauc': 0.7330316861676617}\n",
      "\n",
      "Early stopping triggered (no improvement for 5 epochs).\n",
      "\n",
      "Best validation performance:\n",
      "{'precision': 0.6424766977352822, 'recall': 0.7414521705709922, 'f1': 0.6884251778315514, 'auc': 0.8592778789026959, 'prauc': 0.7707771571073866}\n",
      "Corresponding test performance:\n",
      "{'precision': 0.6400659521836107, 'recall': 0.7448196469671051, 'f1': 0.6884809740111589, 'auc': 0.8553564894214943, 'prauc': 0.7560690242275682}\n",
      "[Warning] Missing keys: ['cls_head.cls.0.weight', 'cls_head.cls.0.bias', 'cls_head.cls.2.weight', 'cls_head.cls.2.bias']\n",
      "[Warning] Unexpected keys: ['diag_cls.cls.0.weight', 'diag_cls.cls.0.bias', 'diag_cls.cls.2.weight', 'diag_cls.cls.2.bias', 'med_cls.cls.0.weight', 'med_cls.cls.0.bias', 'med_cls.cls.2.weight', 'med_cls.cls.2.bias', 'lab_cls.cls.0.weight', 'lab_cls.cls.0.bias', 'lab_cls.cls.2.weight', 'lab_cls.cls.2.bias', 'pro_cls.cls.0.weight', 'pro_cls.cls.0.bias', 'pro_cls.cls.2.weight', 'pro_cls.cls.2.bias', 'cls_ontology.cls.0.weight', 'cls_ontology.cls.0.bias', 'cls_ontology.cls.2.weight', 'cls_ontology.cls.2.bias', 'visit_ontology.cls.0.weight', 'visit_ontology.cls.0.bias', 'visit_ontology.cls.2.weight', 'visit_ontology.cls.2.bias', 'adm_type.cls.0.weight', 'adm_type.cls.0.bias', 'adm_type.cls.2.weight', 'adm_type.cls.2.bias']\n"
     ]
    },
    {
     "name": "stderr",
     "output_type": "stream",
     "text": [
      "Epoch 001: 100%|██████████| 239/239 [00:14<00:00, 17.03it/s, loss=0.4999]\n",
      "Running inference: 100%|██████████| 482/482 [00:21<00:00, 22.00it/s]\n",
      "Running inference: 100%|██████████| 489/489 [00:22<00:00, 21.65it/s]\n"
     ]
    },
    {
     "name": "stdout",
     "output_type": "stream",
     "text": [
      "Validation: {'precision': 0.7023440955313969, 'recall': 0.610065309257376, 'f1': 0.6529605213391664, 'auc': 0.845788991349439, 'prauc': 0.7444098763171632}\n",
      "Test:      {'precision': 0.6896007218572308, 'recall': 0.5865310821170635, 'f1': 0.6339035720141951, 'auc': 0.8375464142069039, 'prauc': 0.7226281500095422}\n"
     ]
    },
    {
     "name": "stderr",
     "output_type": "stream",
     "text": [
      "Epoch 002: 100%|██████████| 239/239 [00:14<00:00, 16.60it/s, loss=0.4347]\n",
      "Running inference: 100%|██████████| 482/482 [00:22<00:00, 21.82it/s]\n",
      "Running inference: 100%|██████████| 489/489 [00:22<00:00, 22.21it/s]\n"
     ]
    },
    {
     "name": "stdout",
     "output_type": "stream",
     "text": [
      "Validation: {'precision': 0.737803412639419, 'recall': 0.5897041874748565, 'f1': 0.6554926821538168, 'auc': 0.8606648363066948, 'prauc': 0.7712053492108327}\n",
      "Test:      {'precision': 0.7335446123824146, 'recall': 0.5773215656166975, 'f1': 0.6461241093062596, 'auc': 0.8548339897427746, 'prauc': 0.7530812123444381}\n"
     ]
    },
    {
     "name": "stderr",
     "output_type": "stream",
     "text": [
      "Epoch 003: 100%|██████████| 239/239 [00:13<00:00, 17.43it/s, loss=0.3980]\n",
      "Running inference: 100%|██████████| 482/482 [00:21<00:00, 22.23it/s]\n",
      "Running inference: 100%|██████████| 489/489 [00:21<00:00, 22.44it/s]\n"
     ]
    },
    {
     "name": "stdout",
     "output_type": "stream",
     "text": [
      "Validation: {'precision': 0.7703763877585422, 'recall': 0.5464848252006407, 'f1': 0.6393976802762565, 'auc': 0.8567635770172757, 'prauc': 0.7694434828701197}\n",
      "Test:      {'precision': 0.7540757115204364, 'recall': 0.5235993860312287, 'f1': 0.6180500461181546, 'auc': 0.8505857363974605, 'prauc': 0.753160378996657}\n"
     ]
    },
    {
     "name": "stderr",
     "output_type": "stream",
     "text": [
      "Epoch 004: 100%|██████████| 239/239 [00:14<00:00, 17.06it/s, loss=0.3603]\n",
      "Running inference: 100%|██████████| 482/482 [00:21<00:00, 22.32it/s]\n",
      "Running inference: 100%|██████████| 489/489 [00:23<00:00, 21.25it/s]\n"
     ]
    },
    {
     "name": "stdout",
     "output_type": "stream",
     "text": [
      "Validation: {'precision': 0.7425194870486735, 'recall': 0.5672301190922643, 'f1': 0.6431449368283294, 'auc': 0.8529910879230344, 'prauc': 0.7660048818227947}\n",
      "Test:      {'precision': 0.7384969325134497, 'recall': 0.5542977743657822, 'f1': 0.6332748745389593, 'auc': 0.8460315940652043, 'prauc': 0.7456495421848139}\n"
     ]
    },
    {
     "name": "stderr",
     "output_type": "stream",
     "text": [
      "Epoch 005: 100%|██████████| 239/239 [00:14<00:00, 16.86it/s, loss=0.3306]\n",
      "Running inference: 100%|██████████| 482/482 [00:22<00:00, 21.85it/s]\n",
      "Running inference: 100%|██████████| 489/489 [00:22<00:00, 22.01it/s]\n"
     ]
    },
    {
     "name": "stdout",
     "output_type": "stream",
     "text": [
      "Validation: {'precision': 0.6473521320484056, 'recall': 0.7232039953885455, 'f1': 0.6831790913668242, 'auc': 0.8501353269334794, 'prauc': 0.7557978647379174}\n",
      "Test:      {'precision': 0.6387559808601525, 'recall': 0.717191097466007, 'f1': 0.6757049841695221, 'auc': 0.8483282867333872, 'prauc': 0.7435647845652802}\n"
     ]
    },
    {
     "name": "stderr",
     "output_type": "stream",
     "text": [
      "Epoch 006: 100%|██████████| 239/239 [00:13<00:00, 17.25it/s, loss=0.3006]\n",
      "Running inference: 100%|██████████| 482/482 [00:21<00:00, 22.15it/s]\n",
      "Running inference: 100%|██████████| 489/489 [00:22<00:00, 22.15it/s]\n"
     ]
    },
    {
     "name": "stdout",
     "output_type": "stream",
     "text": [
      "Validation: {'precision': 0.7558448459065998, 'recall': 0.5464848252006407, 'f1': 0.6343366729427402, 'auc': 0.8507188201187109, 'prauc': 0.7654044404242248}\n",
      "Test:      {'precision': 0.7428726581570924, 'recall': 0.5249424405208655, 'f1': 0.6151770609136401, 'auc': 0.8475111143044566, 'prauc': 0.7505103126566923}\n"
     ]
    },
    {
     "name": "stderr",
     "output_type": "stream",
     "text": [
      "Epoch 007: 100%|██████████| 239/239 [00:14<00:00, 16.58it/s, loss=0.2695]\n",
      "Running inference: 100%|██████████| 482/482 [00:22<00:00, 21.64it/s]\n",
      "Running inference: 100%|██████████| 489/489 [00:22<00:00, 21.70it/s]\n"
     ]
    },
    {
     "name": "stdout",
     "output_type": "stream",
     "text": [
      "Validation: {'precision': 0.7225247524734592, 'recall': 0.5606991932374938, 'f1': 0.6314081715869116, 'auc': 0.8409369013796848, 'prauc': 0.7426814088244702}\n",
      "Test:      {'precision': 0.7074981440220057, 'recall': 0.5485418265530535, 'f1': 0.6179617372164284, 'auc': 0.8327625648210008, 'prauc': 0.7229213817723033}\n"
     ]
    },
    {
     "name": "stderr",
     "output_type": "stream",
     "text": [
      "Epoch 008: 100%|██████████| 239/239 [00:14<00:00, 16.69it/s, loss=0.2398]\n",
      "Running inference: 100%|██████████| 482/482 [00:21<00:00, 22.82it/s]\n",
      "Running inference: 100%|██████████| 489/489 [00:22<00:00, 22.04it/s]\n"
     ]
    },
    {
     "name": "stdout",
     "output_type": "stream",
     "text": [
      "Validation: {'precision': 0.6587946344215779, 'recall': 0.6698040722230699, 'f1': 0.6642537334503591, 'auc': 0.8400418312367157, 'prauc': 0.7372174150619456}\n",
      "Test:      {'precision': 0.6480703095134733, 'recall': 0.6508058326925349, 'f1': 0.6494351855023208, 'auc': 0.8320382005300183, 'prauc': 0.717587545614256}\n"
     ]
    },
    {
     "name": "stderr",
     "output_type": "stream",
     "text": [
      "Epoch 009: 100%|██████████| 239/239 [00:13<00:00, 17.12it/s, loss=0.2145]\n",
      "Running inference: 100%|██████████| 482/482 [00:21<00:00, 22.49it/s]\n",
      "Running inference: 100%|██████████| 489/489 [00:22<00:00, 21.80it/s]\n"
     ]
    },
    {
     "name": "stdout",
     "output_type": "stream",
     "text": [
      "Validation: {'precision': 0.6921296296281731, 'recall': 0.63177103342176, 'f1': 0.6605744075417034, 'auc': 0.8461100548523914, 'prauc': 0.7520864832628672}\n",
      "Test:      {'precision': 0.6912621359208387, 'recall': 0.6147352263994346, 'f1': 0.6507565706226299, 'auc': 0.8406895963533535, 'prauc': 0.7334204580583976}\n"
     ]
    },
    {
     "name": "stderr",
     "output_type": "stream",
     "text": [
      "Epoch 010: 100%|██████████| 239/239 [00:14<00:00, 16.59it/s, loss=0.1921]\n",
      "Running inference: 100%|██████████| 482/482 [00:22<00:00, 21.73it/s]\n",
      "Running inference: 100%|██████████| 489/489 [00:22<00:00, 21.54it/s]\n"
     ]
    },
    {
     "name": "stdout",
     "output_type": "stream",
     "text": [
      "Validation: {'precision': 0.6996565049362394, 'recall': 0.6260084517851978, 'f1': 0.6607866941219593, 'auc': 0.8439304103971782, 'prauc': 0.7480538444909217}\n",
      "Test:      {'precision': 0.689218213056939, 'recall': 0.6156945510348893, 'f1': 0.6503850781114339, 'auc': 0.8414996630152178, 'prauc': 0.7358548595818807}\n",
      "\n",
      "Early stopping triggered (no improvement for 5 epochs).\n",
      "\n",
      "Best validation performance:\n",
      "{'precision': 0.6473521320484056, 'recall': 0.7232039953885455, 'f1': 0.6831790913668242, 'auc': 0.8501353269334794, 'prauc': 0.7557978647379174}\n",
      "Corresponding test performance:\n",
      "{'precision': 0.6387559808601525, 'recall': 0.717191097466007, 'f1': 0.6757049841695221, 'auc': 0.8483282867333872, 'prauc': 0.7435647845652802}\n",
      "[Warning] Missing keys: ['cls_head.cls.0.weight', 'cls_head.cls.0.bias', 'cls_head.cls.2.weight', 'cls_head.cls.2.bias']\n",
      "[Warning] Unexpected keys: ['diag_cls.cls.0.weight', 'diag_cls.cls.0.bias', 'diag_cls.cls.2.weight', 'diag_cls.cls.2.bias', 'med_cls.cls.0.weight', 'med_cls.cls.0.bias', 'med_cls.cls.2.weight', 'med_cls.cls.2.bias', 'lab_cls.cls.0.weight', 'lab_cls.cls.0.bias', 'lab_cls.cls.2.weight', 'lab_cls.cls.2.bias', 'pro_cls.cls.0.weight', 'pro_cls.cls.0.bias', 'pro_cls.cls.2.weight', 'pro_cls.cls.2.bias', 'cls_ontology.cls.0.weight', 'cls_ontology.cls.0.bias', 'cls_ontology.cls.2.weight', 'cls_ontology.cls.2.bias', 'visit_ontology.cls.0.weight', 'visit_ontology.cls.0.bias', 'visit_ontology.cls.2.weight', 'visit_ontology.cls.2.bias', 'adm_type.cls.0.weight', 'adm_type.cls.0.bias', 'adm_type.cls.2.weight', 'adm_type.cls.2.bias']\n"
     ]
    },
    {
     "name": "stderr",
     "output_type": "stream",
     "text": [
      "Epoch 001: 100%|██████████| 239/239 [00:13<00:00, 17.28it/s, loss=0.5043]\n",
      "Running inference: 100%|██████████| 482/482 [00:21<00:00, 22.81it/s]\n",
      "Running inference: 100%|██████████| 489/489 [00:22<00:00, 21.92it/s]\n"
     ]
    },
    {
     "name": "stdout",
     "output_type": "stream",
     "text": [
      "Validation: {'precision': 0.6828771771077067, 'recall': 0.5799077986927009, 'f1': 0.6271943442580771, 'auc': 0.8335771698894228, 'prauc': 0.7283516036765685}\n",
      "Test:      {'precision': 0.6782110091727565, 'recall': 0.5673445894079675, 'f1': 0.6178437058615571, 'auc': 0.8293706347457301, 'prauc': 0.710129332472097}\n"
     ]
    },
    {
     "name": "stderr",
     "output_type": "stream",
     "text": [
      "Epoch 002: 100%|██████████| 239/239 [00:14<00:00, 16.64it/s, loss=0.4370]\n",
      "Running inference: 100%|██████████| 482/482 [00:22<00:00, 21.77it/s]\n",
      "Running inference: 100%|██████████| 489/489 [00:22<00:00, 22.00it/s]\n"
     ]
    },
    {
     "name": "stdout",
     "output_type": "stream",
     "text": [
      "Validation: {'precision': 0.7066464602712564, 'recall': 0.6269688820579582, 'f1': 0.6644274759325257, 'auc': 0.855489280580731, 'prauc': 0.7659563372536056}\n",
      "Test:      {'precision': 0.7025288376204469, 'recall': 0.607636224097069, 'f1': 0.6516460855598677, 'auc': 0.8489164894126466, 'prauc': 0.7460553493142724}\n"
     ]
    },
    {
     "name": "stderr",
     "output_type": "stream",
     "text": [
      "Epoch 003: 100%|██████████| 239/239 [00:15<00:00, 15.90it/s, loss=0.3918]\n",
      "Running inference: 100%|██████████| 482/482 [00:22<00:00, 21.88it/s]\n",
      "Running inference: 100%|██████████| 489/489 [00:21<00:00, 22.59it/s]\n"
     ]
    },
    {
     "name": "stdout",
     "output_type": "stream",
     "text": [
      "Validation: {'precision': 0.8069831306363006, 'recall': 0.39512101421360907, 'f1': 0.5304964494862754, 'auc': 0.8461288206895993, 'prauc': 0.7490447347862537}\n",
      "Test:      {'precision': 0.8003293536401799, 'recall': 0.37298541826482545, 'f1': 0.508833917923431, 'auc': 0.8366182498807226, 'prauc': 0.7286317081157606}\n"
     ]
    },
    {
     "name": "stderr",
     "output_type": "stream",
     "text": [
      "Epoch 004: 100%|██████████| 239/239 [00:13<00:00, 17.64it/s, loss=0.3592]\n",
      "Running inference: 100%|██████████| 482/482 [00:21<00:00, 22.63it/s]\n",
      "Running inference: 100%|██████████| 489/489 [00:21<00:00, 22.55it/s]\n"
     ]
    },
    {
     "name": "stdout",
     "output_type": "stream",
     "text": [
      "Validation: {'precision': 0.7597826086935876, 'recall': 0.5370726085275892, 'f1': 0.6293045191163313, 'auc': 0.8521954239619016, 'prauc': 0.7580062459700205}\n",
      "Test:      {'precision': 0.7504230118422154, 'recall': 0.5105525709890435, 'f1': 0.6076729798792453, 'auc': 0.8413869937514226, 'prauc': 0.7364338558433864}\n"
     ]
    },
    {
     "name": "stderr",
     "output_type": "stream",
     "text": [
      "Epoch 005: 100%|██████████| 239/239 [00:14<00:00, 16.76it/s, loss=0.3313]\n",
      "Running inference: 100%|██████████| 482/482 [00:22<00:00, 21.68it/s]\n",
      "Running inference: 100%|██████████| 489/489 [00:23<00:00, 21.23it/s]\n"
     ]
    },
    {
     "name": "stdout",
     "output_type": "stream",
     "text": [
      "Validation: {'precision': 0.6666041275784866, 'recall': 0.6824817518235066, 'f1': 0.6744495014534747, 'auc': 0.8497977962199651, 'prauc': 0.7556587281824168}\n",
      "Test:      {'precision': 0.6573292402136276, 'recall': 0.6573292402136276, 'f1': 0.6573292352136276, 'auc': 0.8403213038011632, 'prauc': 0.7353384258030273}\n"
     ]
    },
    {
     "name": "stderr",
     "output_type": "stream",
     "text": [
      "Epoch 006: 100%|██████████| 239/239 [00:14<00:00, 17.07it/s, loss=0.2998]\n",
      "Running inference: 100%|██████████| 482/482 [00:22<00:00, 21.80it/s]\n",
      "Running inference: 100%|██████████| 489/489 [00:21<00:00, 22.53it/s]\n"
     ]
    },
    {
     "name": "stdout",
     "output_type": "stream",
     "text": [
      "Validation: {'precision': 0.6303872579627883, 'recall': 0.7754514022267087, 'f1': 0.6954349649056143, 'auc': 0.8555196808601838, 'prauc': 0.7629017721767816}\n",
      "Test:      {'precision': 0.6167814652463732, 'recall': 0.7559478127383807, 'f1': 0.6793103398778039, 'auc': 0.8480288215073339, 'prauc': 0.7435644706570514}\n"
     ]
    },
    {
     "name": "stderr",
     "output_type": "stream",
     "text": [
      "Epoch 007: 100%|██████████| 239/239 [00:14<00:00, 16.79it/s, loss=0.2582]\n",
      "Running inference: 100%|██████████| 482/482 [00:21<00:00, 22.31it/s]\n",
      "Running inference: 100%|██████████| 489/489 [00:22<00:00, 21.60it/s]\n"
     ]
    },
    {
     "name": "stdout",
     "output_type": "stream",
     "text": [
      "Validation: {'precision': 0.7316497521814217, 'recall': 0.5954667691114186, 'f1': 0.6565710000284912, 'auc': 0.8524738686658941, 'prauc': 0.7588819747234419}\n",
      "Test:      {'precision': 0.7143539527090653, 'recall': 0.5738679969290601, 'f1': 0.6364506813013271, 'auc': 0.847881379144782, 'prauc': 0.7428026704882131}\n"
     ]
    },
    {
     "name": "stderr",
     "output_type": "stream",
     "text": [
      "Epoch 008: 100%|██████████| 239/239 [00:14<00:00, 16.77it/s, loss=0.2390]\n",
      "Running inference: 100%|██████████| 482/482 [00:22<00:00, 21.78it/s]\n",
      "Running inference: 100%|██████████| 489/489 [00:22<00:00, 21.94it/s]\n"
     ]
    },
    {
     "name": "stdout",
     "output_type": "stream",
     "text": [
      "Validation: {'precision': 0.6799843321569135, 'recall': 0.6669227814047889, 'f1': 0.6733902199797694, 'auc': 0.8478037564458107, 'prauc': 0.7470367174793557}\n",
      "Test:      {'precision': 0.6681257461188458, 'recall': 0.6442824251714423, 'f1': 0.6559874925584857, 'auc': 0.8425734725255103, 'prauc': 0.7293864247198715}\n"
     ]
    },
    {
     "name": "stderr",
     "output_type": "stream",
     "text": [
      "Epoch 009: 100%|██████████| 239/239 [00:13<00:00, 17.63it/s, loss=0.2136]\n",
      "Running inference: 100%|██████████| 482/482 [00:20<00:00, 23.15it/s]\n",
      "Running inference: 100%|██████████| 489/489 [00:21<00:00, 22.23it/s]\n"
     ]
    },
    {
     "name": "stdout",
     "output_type": "stream",
     "text": [
      "Validation: {'precision': 0.675549503986237, 'recall': 0.6671148674593409, 'f1': 0.6713056874701475, 'auc': 0.8450685414667536, 'prauc': 0.744657992096877}\n",
      "Test:      {'precision': 0.6651476124417176, 'recall': 0.6440905602443513, 'f1': 0.6544497464377795, 'auc': 0.8398157528975861, 'prauc': 0.728175014880424}\n"
     ]
    },
    {
     "name": "stderr",
     "output_type": "stream",
     "text": [
      "Epoch 010: 100%|██████████| 239/239 [00:14<00:00, 16.86it/s, loss=0.1922]\n",
      "Running inference: 100%|██████████| 482/482 [00:22<00:00, 21.89it/s]\n",
      "Running inference: 100%|██████████| 489/489 [00:22<00:00, 21.77it/s]\n"
     ]
    },
    {
     "name": "stdout",
     "output_type": "stream",
     "text": [
      "Validation: {'precision': 0.639875819246913, 'recall': 0.7126392623881816, 'f1': 0.6743002494661722, 'auc': 0.8422304629452906, 'prauc': 0.7336184817473335}\n",
      "Test:      {'precision': 0.6368695652162837, 'recall': 0.702609363007094, 'f1': 0.6681262493439756, 'auc': 0.8399059989042188, 'prauc': 0.7204072355859281}\n"
     ]
    },
    {
     "name": "stderr",
     "output_type": "stream",
     "text": [
      "Epoch 011: 100%|██████████| 239/239 [00:14<00:00, 16.57it/s, loss=0.1718]\n",
      "Running inference: 100%|██████████| 482/482 [00:22<00:00, 21.81it/s]\n",
      "Running inference: 100%|██████████| 489/489 [00:21<00:00, 22.55it/s]\n"
     ]
    },
    {
     "name": "stdout",
     "output_type": "stream",
     "text": [
      "Validation: {'precision': 0.7081229921966312, 'recall': 0.5927775643476897, 'f1': 0.645336674251677, 'auc': 0.8395337311213511, 'prauc': 0.7359647343055806}\n",
      "Test:      {'precision': 0.6966113259024412, 'recall': 0.5876822716796092, 'f1': 0.6375273131738867, 'auc': 0.8382154991323038, 'prauc': 0.7258459751975381}\n",
      "\n",
      "Early stopping triggered (no improvement for 5 epochs).\n",
      "\n",
      "Best validation performance:\n",
      "{'precision': 0.6303872579627883, 'recall': 0.7754514022267087, 'f1': 0.6954349649056143, 'auc': 0.8555196808601838, 'prauc': 0.7629017721767816}\n",
      "Corresponding test performance:\n",
      "{'precision': 0.6167814652463732, 'recall': 0.7559478127383807, 'f1': 0.6793103398778039, 'auc': 0.8480288215073339, 'prauc': 0.7435644706570514}\n",
      "[Warning] Missing keys: ['cls_head.cls.0.weight', 'cls_head.cls.0.bias', 'cls_head.cls.2.weight', 'cls_head.cls.2.bias']\n",
      "[Warning] Unexpected keys: ['diag_cls.cls.0.weight', 'diag_cls.cls.0.bias', 'diag_cls.cls.2.weight', 'diag_cls.cls.2.bias', 'med_cls.cls.0.weight', 'med_cls.cls.0.bias', 'med_cls.cls.2.weight', 'med_cls.cls.2.bias', 'lab_cls.cls.0.weight', 'lab_cls.cls.0.bias', 'lab_cls.cls.2.weight', 'lab_cls.cls.2.bias', 'pro_cls.cls.0.weight', 'pro_cls.cls.0.bias', 'pro_cls.cls.2.weight', 'pro_cls.cls.2.bias', 'cls_ontology.cls.0.weight', 'cls_ontology.cls.0.bias', 'cls_ontology.cls.2.weight', 'cls_ontology.cls.2.bias', 'visit_ontology.cls.0.weight', 'visit_ontology.cls.0.bias', 'visit_ontology.cls.2.weight', 'visit_ontology.cls.2.bias', 'adm_type.cls.0.weight', 'adm_type.cls.0.bias', 'adm_type.cls.2.weight', 'adm_type.cls.2.bias']\n"
     ]
    },
    {
     "name": "stderr",
     "output_type": "stream",
     "text": [
      "Epoch 001: 100%|██████████| 239/239 [00:13<00:00, 17.37it/s, loss=0.5073]\n",
      "Running inference: 100%|██████████| 482/482 [00:21<00:00, 21.96it/s]\n",
      "Running inference: 100%|██████████| 489/489 [00:22<00:00, 21.71it/s]\n"
     ]
    },
    {
     "name": "stdout",
     "output_type": "stream",
     "text": [
      "Validation: {'precision': 0.6040810111152671, 'recall': 0.7620053784080638, 'f1': 0.6739148850682243, 'auc': 0.8396483609944161, 'prauc': 0.7375661893890807}\n",
      "Test:      {'precision': 0.5939457202496362, 'recall': 0.764198004603292, 'f1': 0.6684007334563724, 'auc': 0.8347987495619492, 'prauc': 0.7189834469269175}\n"
     ]
    },
    {
     "name": "stderr",
     "output_type": "stream",
     "text": [
      "Epoch 002: 100%|██████████| 239/239 [00:14<00:00, 16.56it/s, loss=0.4249]\n",
      "Running inference: 100%|██████████| 482/482 [00:21<00:00, 22.26it/s]\n",
      "Running inference: 100%|██████████| 489/489 [00:22<00:00, 21.29it/s]\n"
     ]
    },
    {
     "name": "stdout",
     "output_type": "stream",
     "text": [
      "Validation: {'precision': 0.7796257796234641, 'recall': 0.5042258931991851, 'f1': 0.6123877241450109, 'auc': 0.8541227187779145, 'prauc': 0.7628218104565894}\n",
      "Test:      {'precision': 0.7664413030093226, 'recall': 0.4785111281648532, 'f1': 0.5891802456794742, 'auc': 0.8478079252361972, 'prauc': 0.7443841210078062}\n"
     ]
    },
    {
     "name": "stderr",
     "output_type": "stream",
     "text": [
      "Epoch 003: 100%|██████████| 239/239 [00:13<00:00, 17.63it/s, loss=0.3907]\n",
      "Running inference: 100%|██████████| 482/482 [00:20<00:00, 23.22it/s]\n",
      "Running inference: 100%|██████████| 489/489 [00:21<00:00, 22.93it/s]\n"
     ]
    },
    {
     "name": "stdout",
     "output_type": "stream",
     "text": [
      "Validation: {'precision': 0.6838893409261922, 'recall': 0.6457933154040612, 'f1': 0.6642955887589664, 'auc': 0.8466573164061462, 'prauc': 0.7474356719086029}\n",
      "Test:      {'precision': 0.6800083822282481, 'recall': 0.6226016884101638, 'f1': 0.650040059110973, 'auc': 0.8412447401656, 'prauc': 0.7313563514871751}\n"
     ]
    },
    {
     "name": "stderr",
     "output_type": "stream",
     "text": [
      "Epoch 004: 100%|██████████| 239/239 [00:13<00:00, 17.43it/s, loss=0.3543]\n",
      "Running inference: 100%|██████████| 482/482 [00:21<00:00, 21.91it/s]\n",
      "Running inference: 100%|██████████| 489/489 [00:22<00:00, 21.69it/s]\n"
     ]
    },
    {
     "name": "stdout",
     "output_type": "stream",
     "text": [
      "Validation: {'precision': 0.7801884099321148, 'recall': 0.5249711870908087, 'f1': 0.6276265883692171, 'auc': 0.8591337908102791, 'prauc': 0.7737252423539287}\n",
      "Test:      {'precision': 0.7721996517679275, 'recall': 0.5105525709890435, 'f1': 0.6146916098982201, 'auc': 0.8545547911597549, 'prauc': 0.7615907818583199}\n"
     ]
    },
    {
     "name": "stderr",
     "output_type": "stream",
     "text": [
      "Epoch 005: 100%|██████████| 239/239 [00:14<00:00, 16.57it/s, loss=0.3219]\n",
      "Running inference: 100%|██████████| 482/482 [00:21<00:00, 22.25it/s]\n",
      "Running inference: 100%|██████████| 489/489 [00:23<00:00, 21.25it/s]\n"
     ]
    },
    {
     "name": "stdout",
     "output_type": "stream",
     "text": [
      "Validation: {'precision': 0.7470922369468567, 'recall': 0.5305416826728188, 'f1': 0.6204650069360238, 'auc': 0.8504702104581107, 'prauc': 0.758920436524064}\n",
      "Test:      {'precision': 0.7417707150943764, 'recall': 0.5015349194157683, 'f1': 0.5984432186285299, 'auc': 0.845645117753712, 'prauc': 0.7440130784687948}\n"
     ]
    },
    {
     "name": "stderr",
     "output_type": "stream",
     "text": [
      "Epoch 006: 100%|██████████| 239/239 [00:14<00:00, 16.85it/s, loss=0.2995]\n",
      "Running inference: 100%|██████████| 482/482 [00:20<00:00, 23.21it/s]\n",
      "Running inference: 100%|██████████| 489/489 [00:21<00:00, 22.52it/s]\n"
     ]
    },
    {
     "name": "stdout",
     "output_type": "stream",
     "text": [
      "Validation: {'precision': 0.7050847457611185, 'recall': 0.59930849020246, 'f1': 0.6479077927680104, 'auc': 0.8432221413515962, 'prauc': 0.7499945321128243}\n",
      "Test:      {'precision': 0.7127659574451601, 'recall': 0.5913277052943374, 'f1': 0.6463926124916662, 'auc': 0.8427712266681079, 'prauc': 0.7424708573188085}\n",
      "\n",
      "Early stopping triggered (no improvement for 5 epochs).\n",
      "\n",
      "Best validation performance:\n",
      "{'precision': 0.6040810111152671, 'recall': 0.7620053784080638, 'f1': 0.6739148850682243, 'auc': 0.8396483609944161, 'prauc': 0.7375661893890807}\n",
      "Corresponding test performance:\n",
      "{'precision': 0.5939457202496362, 'recall': 0.764198004603292, 'f1': 0.6684007334563724, 'auc': 0.8347987495619492, 'prauc': 0.7189834469269175}\n",
      "[Warning] Missing keys: ['cls_head.cls.0.weight', 'cls_head.cls.0.bias', 'cls_head.cls.2.weight', 'cls_head.cls.2.bias']\n",
      "[Warning] Unexpected keys: ['diag_cls.cls.0.weight', 'diag_cls.cls.0.bias', 'diag_cls.cls.2.weight', 'diag_cls.cls.2.bias', 'med_cls.cls.0.weight', 'med_cls.cls.0.bias', 'med_cls.cls.2.weight', 'med_cls.cls.2.bias', 'lab_cls.cls.0.weight', 'lab_cls.cls.0.bias', 'lab_cls.cls.2.weight', 'lab_cls.cls.2.bias', 'pro_cls.cls.0.weight', 'pro_cls.cls.0.bias', 'pro_cls.cls.2.weight', 'pro_cls.cls.2.bias', 'cls_ontology.cls.0.weight', 'cls_ontology.cls.0.bias', 'cls_ontology.cls.2.weight', 'cls_ontology.cls.2.bias', 'visit_ontology.cls.0.weight', 'visit_ontology.cls.0.bias', 'visit_ontology.cls.2.weight', 'visit_ontology.cls.2.bias', 'adm_type.cls.0.weight', 'adm_type.cls.0.bias', 'adm_type.cls.2.weight', 'adm_type.cls.2.bias']\n"
     ]
    },
    {
     "name": "stderr",
     "output_type": "stream",
     "text": [
      "Epoch 001: 100%|██████████| 239/239 [00:14<00:00, 16.20it/s, loss=0.5024]\n",
      "Running inference: 100%|██████████| 482/482 [00:22<00:00, 21.88it/s]\n",
      "Running inference: 100%|██████████| 489/489 [00:22<00:00, 22.11it/s]\n"
     ]
    },
    {
     "name": "stdout",
     "output_type": "stream",
     "text": [
      "Validation: {'precision': 0.6927947598238149, 'recall': 0.6094890510937198, 'f1': 0.648477411736895, 'auc': 0.8407308163120344, 'prauc': 0.7431532777992268}\n",
      "Test:      {'precision': 0.6807001994223782, 'recall': 0.5894090560234279, 'f1': 0.6317737739448406, 'auc': 0.8329902166398153, 'prauc': 0.7232374218175397}\n"
     ]
    },
    {
     "name": "stderr",
     "output_type": "stream",
     "text": [
      "Epoch 002: 100%|██████████| 239/239 [00:14<00:00, 16.52it/s, loss=0.4296]\n",
      "Running inference: 100%|██████████| 482/482 [00:22<00:00, 21.56it/s]\n",
      "Running inference: 100%|██████████| 489/489 [00:21<00:00, 23.04it/s]\n"
     ]
    },
    {
     "name": "stdout",
     "output_type": "stream",
     "text": [
      "Validation: {'precision': 0.7753899480042448, 'recall': 0.42969650403298176, 'f1': 0.552960074510317, 'auc': 0.8442521521834033, 'prauc': 0.742087436101417}\n",
      "Test:      {'precision': 0.7572780203757014, 'recall': 0.3992709132762869, 'f1': 0.5228643170858256, 'auc': 0.8351288036866967, 'prauc': 0.7200526078199189}\n"
     ]
    },
    {
     "name": "stderr",
     "output_type": "stream",
     "text": [
      "Epoch 003: 100%|██████████| 239/239 [00:13<00:00, 17.64it/s, loss=0.3885]\n",
      "Running inference: 100%|██████████| 482/482 [00:20<00:00, 23.23it/s]\n",
      "Running inference: 100%|██████████| 489/489 [00:21<00:00, 22.45it/s]\n"
     ]
    },
    {
     "name": "stdout",
     "output_type": "stream",
     "text": [
      "Validation: {'precision': 0.7893895813333672, 'recall': 0.4744525547436142, 'f1': 0.5926814590163152, 'auc': 0.8520307047532772, 'prauc': 0.7593428156255331}\n",
      "Test:      {'precision': 0.7855718085080268, 'recall': 0.4533768227159375, 'f1': 0.574939168107452, 'auc': 0.8478606424704638, 'prauc': 0.7431271330373287}\n"
     ]
    },
    {
     "name": "stderr",
     "output_type": "stream",
     "text": [
      "Epoch 004: 100%|██████████| 239/239 [00:13<00:00, 17.23it/s, loss=0.3517]\n",
      "Running inference: 100%|██████████| 482/482 [00:21<00:00, 22.02it/s]\n",
      "Running inference: 100%|██████████| 489/489 [00:22<00:00, 21.63it/s]\n"
     ]
    },
    {
     "name": "stdout",
     "output_type": "stream",
     "text": [
      "Validation: {'precision': 0.7543668122250154, 'recall': 0.5309258547819229, 'f1': 0.6232243468971677, 'auc': 0.8513991382411022, 'prauc': 0.7583277662655856}\n",
      "Test:      {'precision': 0.7535612535591066, 'recall': 0.5074827321555881, 'f1': 0.6065122630174846, 'auc': 0.8468509784060624, 'prauc': 0.743923453246373}\n"
     ]
    },
    {
     "name": "stderr",
     "output_type": "stream",
     "text": [
      "Epoch 005: 100%|██████████| 239/239 [00:14<00:00, 16.45it/s, loss=0.3161]\n",
      "Running inference: 100%|██████████| 482/482 [00:22<00:00, 21.90it/s]\n",
      "Running inference: 100%|██████████| 489/489 [00:22<00:00, 21.70it/s]\n"
     ]
    },
    {
     "name": "stdout",
     "output_type": "stream",
     "text": [
      "Validation: {'precision': 0.6528723590000823, 'recall': 0.7182097579701917, 'f1': 0.6839842628231464, 'auc': 0.8526612349993415, 'prauc': 0.7590357443768797}\n",
      "Test:      {'precision': 0.6498239436608277, 'recall': 0.7081734458927318, 'f1': 0.6777451290513211, 'auc': 0.8480216973076682, 'prauc': 0.7402341356470591}\n"
     ]
    },
    {
     "name": "stderr",
     "output_type": "stream",
     "text": [
      "Epoch 006: 100%|██████████| 239/239 [00:13<00:00, 17.16it/s, loss=0.2827]\n",
      "Running inference: 100%|██████████| 482/482 [00:21<00:00, 22.77it/s]\n",
      "Running inference: 100%|██████████| 489/489 [00:21<00:00, 22.89it/s]\n"
     ]
    },
    {
     "name": "stdout",
     "output_type": "stream",
     "text": [
      "Validation: {'precision': 0.6831913245532859, 'recall': 0.6776796004597048, 'f1': 0.680424295866658, 'auc': 0.8514700000018842, 'prauc': 0.7554571859452667}\n",
      "Test:      {'precision': 0.6659017020450069, 'recall': 0.6680736761307213, 'f1': 0.6669859158875394, 'auc': 0.845708350785933, 'prauc': 0.7376807488041242}\n"
     ]
    },
    {
     "name": "stderr",
     "output_type": "stream",
     "text": [
      "Epoch 007: 100%|██████████| 239/239 [00:13<00:00, 17.34it/s, loss=0.2447]\n",
      "Running inference: 100%|██████████| 482/482 [00:21<00:00, 21.95it/s]\n",
      "Running inference: 100%|██████████| 489/489 [00:22<00:00, 21.30it/s]\n"
     ]
    },
    {
     "name": "stdout",
     "output_type": "stream",
     "text": [
      "Validation: {'precision': 0.6358695652163441, 'recall': 0.7416442566255443, 'f1': 0.6846958630899799, 'auc': 0.8487790053239584, 'prauc': 0.7509128415069914}\n",
      "Test:      {'precision': 0.624463519312274, 'recall': 0.7258250191851001, 'f1': 0.6713398353109232, 'auc': 0.8430283982948519, 'prauc': 0.7358605569845428}\n"
     ]
    },
    {
     "name": "stderr",
     "output_type": "stream",
     "text": [
      "Epoch 008: 100%|██████████| 239/239 [00:13<00:00, 17.14it/s, loss=0.2245]\n",
      "Running inference: 100%|██████████| 482/482 [00:22<00:00, 21.80it/s]\n",
      "Running inference: 100%|██████████| 489/489 [00:22<00:00, 21.74it/s]\n"
     ]
    },
    {
     "name": "stdout",
     "output_type": "stream",
     "text": [
      "Validation: {'precision': 0.7004238233310274, 'recall': 0.6031502112935014, 'f1': 0.6481576996399826, 'auc': 0.8422714708214782, 'prauc': 0.739346542949755}\n",
      "Test:      {'precision': 0.6917157084638033, 'recall': 0.5863392171899725, 'f1': 0.6346832764449258, 'auc': 0.8357122138901137, 'prauc': 0.7221453389682654}\n"
     ]
    },
    {
     "name": "stderr",
     "output_type": "stream",
     "text": [
      "Epoch 009: 100%|██████████| 239/239 [00:14<00:00, 16.91it/s, loss=0.2035]\n",
      "Running inference: 100%|██████████| 482/482 [00:21<00:00, 22.30it/s]\n",
      "Running inference: 100%|██████████| 489/489 [00:21<00:00, 22.66it/s]\n"
     ]
    },
    {
     "name": "stdout",
     "output_type": "stream",
     "text": [
      "Validation: {'precision': 0.65100436681109, 'recall': 0.7159047253155668, 'f1': 0.6819138180820211, 'auc': 0.8486861370392219, 'prauc': 0.7500423741713078}\n",
      "Test:      {'precision': 0.6345921710628822, 'recall': 0.7060629316947313, 'f1': 0.6684224816173008, 'auc': 0.8432985280389698, 'prauc': 0.733701106310341}\n"
     ]
    },
    {
     "name": "stderr",
     "output_type": "stream",
     "text": [
      "Epoch 010: 100%|██████████| 239/239 [00:13<00:00, 17.23it/s, loss=0.1745]\n",
      "Running inference: 100%|██████████| 482/482 [00:21<00:00, 22.44it/s]\n",
      "Running inference: 100%|██████████| 489/489 [00:22<00:00, 21.67it/s]\n"
     ]
    },
    {
     "name": "stdout",
     "output_type": "stream",
     "text": [
      "Validation: {'precision': 0.7184081917600224, 'recall': 0.5929696504022417, 'f1': 0.6496895667585767, 'auc': 0.8436125216367654, 'prauc': 0.746624111034181}\n",
      "Test:      {'precision': 0.7095249350018683, 'recall': 0.5759785111270607, 'f1': 0.6358148843886315, 'auc': 0.8411985849367175, 'prauc': 0.7326813230392974}\n"
     ]
    },
    {
     "name": "stderr",
     "output_type": "stream",
     "text": [
      "Epoch 011: 100%|██████████| 239/239 [00:14<00:00, 16.78it/s, loss=0.1655]\n",
      "Running inference: 100%|██████████| 482/482 [00:22<00:00, 21.78it/s]\n",
      "Running inference: 100%|██████████| 489/489 [00:22<00:00, 21.57it/s]\n"
     ]
    },
    {
     "name": "stdout",
     "output_type": "stream",
     "text": [
      "Validation: {'precision': 0.7077717879588774, 'recall': 0.6052631578935742, 'f1': 0.6525160439005254, 'auc': 0.8398739561267538, 'prauc': 0.7383532881594076}\n",
      "Test:      {'precision': 0.6807991120961581, 'recall': 0.5884497313879731, 'f1': 0.6312647886857651, 'auc': 0.8308059351790362, 'prauc': 0.7152839468515746}\n"
     ]
    },
    {
     "name": "stderr",
     "output_type": "stream",
     "text": [
      "Epoch 012: 100%|██████████| 239/239 [00:15<00:00, 15.89it/s, loss=0.1512]\n",
      "Running inference: 100%|██████████| 482/482 [00:22<00:00, 21.86it/s]\n",
      "Running inference: 100%|██████████| 489/489 [00:22<00:00, 21.82it/s]\n"
     ]
    },
    {
     "name": "stdout",
     "output_type": "stream",
     "text": [
      "Validation: {'precision': 0.6160160830949639, 'recall': 0.7063004225879633, 'f1': 0.6580760576619522, 'auc': 0.8281764052757626, 'prauc': 0.7134865460227198}\n",
      "Test:      {'precision': 0.6080093054160718, 'recall': 0.7020337682258211, 'f1': 0.6516473681323427, 'auc': 0.8236040236742409, 'prauc': 0.7022640833617246}\n",
      "\n",
      "Early stopping triggered (no improvement for 5 epochs).\n",
      "\n",
      "Best validation performance:\n",
      "{'precision': 0.6358695652163441, 'recall': 0.7416442566255443, 'f1': 0.6846958630899799, 'auc': 0.8487790053239584, 'prauc': 0.7509128415069914}\n",
      "Corresponding test performance:\n",
      "{'precision': 0.624463519312274, 'recall': 0.7258250191851001, 'f1': 0.6713398353109232, 'auc': 0.8430283982948519, 'prauc': 0.7358605569845428}\n",
      "[Warning] Missing keys: ['cls_head.cls.0.weight', 'cls_head.cls.0.bias', 'cls_head.cls.2.weight', 'cls_head.cls.2.bias']\n",
      "[Warning] Unexpected keys: ['diag_cls.cls.0.weight', 'diag_cls.cls.0.bias', 'diag_cls.cls.2.weight', 'diag_cls.cls.2.bias', 'med_cls.cls.0.weight', 'med_cls.cls.0.bias', 'med_cls.cls.2.weight', 'med_cls.cls.2.bias', 'lab_cls.cls.0.weight', 'lab_cls.cls.0.bias', 'lab_cls.cls.2.weight', 'lab_cls.cls.2.bias', 'pro_cls.cls.0.weight', 'pro_cls.cls.0.bias', 'pro_cls.cls.2.weight', 'pro_cls.cls.2.bias', 'cls_ontology.cls.0.weight', 'cls_ontology.cls.0.bias', 'cls_ontology.cls.2.weight', 'cls_ontology.cls.2.bias', 'visit_ontology.cls.0.weight', 'visit_ontology.cls.0.bias', 'visit_ontology.cls.2.weight', 'visit_ontology.cls.2.bias', 'adm_type.cls.0.weight', 'adm_type.cls.0.bias', 'adm_type.cls.2.weight', 'adm_type.cls.2.bias']\n"
     ]
    },
    {
     "name": "stderr",
     "output_type": "stream",
     "text": [
      "Epoch 001: 100%|██████████| 239/239 [00:14<00:00, 16.77it/s, loss=0.4999]\n",
      "Running inference: 100%|██████████| 482/482 [00:22<00:00, 21.43it/s]\n",
      "Running inference: 100%|██████████| 489/489 [00:21<00:00, 22.48it/s]\n"
     ]
    },
    {
     "name": "stdout",
     "output_type": "stream",
     "text": [
      "Validation: {'precision': 0.6149388280737043, 'recall': 0.7337687283889094, 'f1': 0.6691189300525305, 'auc': 0.834350572970374, 'prauc': 0.7337134617458232}\n",
      "Test:      {'precision': 0.6048656384153206, 'recall': 0.7298541826540103, 'f1': 0.6615076900257406, 'auc': 0.8299657772986614, 'prauc': 0.7153200182410944}\n"
     ]
    },
    {
     "name": "stderr",
     "output_type": "stream",
     "text": [
      "Epoch 002: 100%|██████████| 239/239 [00:13<00:00, 17.17it/s, loss=0.4283]\n",
      "Running inference: 100%|██████████| 482/482 [00:21<00:00, 22.38it/s]\n",
      "Running inference: 100%|██████████| 489/489 [00:22<00:00, 21.32it/s]\n"
     ]
    },
    {
     "name": "stdout",
     "output_type": "stream",
     "text": [
      "Validation: {'precision': 0.7281693528969734, 'recall': 0.5814444871291174, 'f1': 0.6465876272305566, 'auc': 0.8509580091783032, 'prauc': 0.7616331838101571}\n",
      "Test:      {'precision': 0.7255620723344928, 'recall': 0.569646968533059, 'f1': 0.6382201154494147, 'auc': 0.8474056614033239, 'prauc': 0.7467682882577984}\n"
     ]
    },
    {
     "name": "stderr",
     "output_type": "stream",
     "text": [
      "Epoch 003: 100%|██████████| 239/239 [00:14<00:00, 16.61it/s, loss=0.3989]\n",
      "Running inference: 100%|██████████| 482/482 [00:21<00:00, 22.03it/s]\n",
      "Running inference: 100%|██████████| 489/489 [00:22<00:00, 21.79it/s]\n"
     ]
    },
    {
     "name": "stdout",
     "output_type": "stream",
     "text": [
      "Validation: {'precision': 0.7561374795396724, 'recall': 0.5324625432183395, 'f1': 0.6248872809923431, 'auc': 0.8517967158654415, 'prauc': 0.7619040607325652}\n",
      "Test:      {'precision': 0.7466850828708655, 'recall': 0.5186108979268638, 'f1': 0.6120923864654186, 'auc': 0.8476337648208239, 'prauc': 0.7463078933976792}\n"
     ]
    },
    {
     "name": "stderr",
     "output_type": "stream",
     "text": [
      "Epoch 004: 100%|██████████| 239/239 [00:14<00:00, 16.78it/s, loss=0.3528]\n",
      "Running inference: 100%|██████████| 482/482 [00:21<00:00, 22.80it/s]\n",
      "Running inference: 100%|██████████| 489/489 [00:21<00:00, 22.50it/s]\n"
     ]
    },
    {
     "name": "stdout",
     "output_type": "stream",
     "text": [
      "Validation: {'precision': 0.6030676605495943, 'recall': 0.8081060315005607, 'f1': 0.6906911788180972, 'auc': 0.8534214021358763, 'prauc': 0.7549631077071564}\n",
      "Test:      {'precision': 0.5954513148534535, 'recall': 0.8037221795840297, 'f1': 0.6840858936970777, 'auc': 0.8486386087604836, 'prauc': 0.7397920932230728}\n"
     ]
    },
    {
     "name": "stderr",
     "output_type": "stream",
     "text": [
      "Epoch 005: 100%|██████████| 239/239 [00:13<00:00, 17.10it/s, loss=0.3215]\n",
      "Running inference: 100%|██████████| 482/482 [00:22<00:00, 21.90it/s]\n",
      "Running inference: 100%|██████████| 489/489 [00:22<00:00, 21.98it/s]\n"
     ]
    },
    {
     "name": "stdout",
     "output_type": "stream",
     "text": [
      "Validation: {'precision': 0.7260307997994883, 'recall': 0.5614675374557021, 'f1': 0.6332322307822197, 'auc': 0.8495580607655143, 'prauc': 0.7574873555332731}\n",
      "Test:      {'precision': 0.7210918114126028, 'recall': 0.5575594781263286, 'f1': 0.6288682054245054, 'auc': 0.8441798274811919, 'prauc': 0.7434305120071933}\n"
     ]
    },
    {
     "name": "stderr",
     "output_type": "stream",
     "text": [
      "Epoch 006: 100%|██████████| 239/239 [00:14<00:00, 16.59it/s, loss=0.2803]\n",
      "Running inference: 100%|██████████| 482/482 [00:22<00:00, 21.75it/s]\n",
      "Running inference: 100%|██████████| 489/489 [00:22<00:00, 21.46it/s]\n"
     ]
    },
    {
     "name": "stdout",
     "output_type": "stream",
     "text": [
      "Validation: {'precision': 0.6758620689642225, 'recall': 0.6776796004597048, 'f1': 0.6767696094241856, 'auc': 0.8485768015439235, 'prauc': 0.757057055695893}\n",
      "Test:      {'precision': 0.6597683690893112, 'recall': 0.6667306216410845, 'f1': 0.6632312193523408, 'auc': 0.8451436312383013, 'prauc': 0.744298509769955}\n"
     ]
    },
    {
     "name": "stderr",
     "output_type": "stream",
     "text": [
      "Epoch 007: 100%|██████████| 239/239 [00:14<00:00, 16.66it/s, loss=0.2589]\n",
      "Running inference: 100%|██████████| 482/482 [00:21<00:00, 22.60it/s]\n",
      "Running inference: 100%|██████████| 489/489 [00:21<00:00, 22.56it/s]\n"
     ]
    },
    {
     "name": "stdout",
     "output_type": "stream",
     "text": [
      "Validation: {'precision': 0.679583928205834, 'recall': 0.640030733767499, 'f1': 0.6592145562852136, 'auc': 0.84819310988547, 'prauc': 0.7498088243630111}\n",
      "Test:      {'precision': 0.6790610718722911, 'recall': 0.6272064466603469, 'f1': 0.6521045232331892, 'auc': 0.8422360453610049, 'prauc': 0.7340932945938784}\n"
     ]
    },
    {
     "name": "stderr",
     "output_type": "stream",
     "text": [
      "Epoch 008: 100%|██████████| 239/239 [00:13<00:00, 17.22it/s, loss=0.2193]\n",
      "Running inference: 100%|██████████| 482/482 [00:22<00:00, 21.74it/s]\n",
      "Running inference: 100%|██████████| 489/489 [00:22<00:00, 21.67it/s]\n"
     ]
    },
    {
     "name": "stdout",
     "output_type": "stream",
     "text": [
      "Validation: {'precision': 0.6368527236035023, 'recall': 0.7276219746432432, 'f1': 0.6792182127006651, 'auc': 0.8452949750325811, 'prauc': 0.7485994172707087}\n",
      "Test:      {'precision': 0.6242048878462936, 'recall': 0.7154643131221883, 'f1': 0.666726259996085, 'auc': 0.8405385412013204, 'prauc': 0.7333534815434853}\n"
     ]
    },
    {
     "name": "stderr",
     "output_type": "stream",
     "text": [
      "Epoch 009: 100%|██████████| 239/239 [00:14<00:00, 16.86it/s, loss=0.2033]\n",
      "Running inference: 100%|██████████| 482/482 [00:22<00:00, 21.32it/s]\n",
      "Running inference: 100%|██████████| 489/489 [00:22<00:00, 22.07it/s]\n"
     ]
    },
    {
     "name": "stdout",
     "output_type": "stream",
     "text": [
      "Validation: {'precision': 0.682721252256306, 'recall': 0.6534767575861439, 'f1': 0.6677789723295757, 'auc': 0.8468336417952124, 'prauc': 0.7543516069990518}\n",
      "Test:      {'precision': 0.6730653869212696, 'recall': 0.64581734458817, 'f1': 0.6591598892532667, 'auc': 0.8420981971664376, 'prauc': 0.7395311240658821}\n",
      "\n",
      "Early stopping triggered (no improvement for 5 epochs).\n",
      "\n",
      "Best validation performance:\n",
      "{'precision': 0.6030676605495943, 'recall': 0.8081060315005607, 'f1': 0.6906911788180972, 'auc': 0.8534214021358763, 'prauc': 0.7549631077071564}\n",
      "Corresponding test performance:\n",
      "{'precision': 0.5954513148534535, 'recall': 0.8037221795840297, 'f1': 0.6840858936970777, 'auc': 0.8486386087604836, 'prauc': 0.7397920932230728}\n",
      "[Warning] Missing keys: ['cls_head.cls.0.weight', 'cls_head.cls.0.bias', 'cls_head.cls.2.weight', 'cls_head.cls.2.bias']\n",
      "[Warning] Unexpected keys: ['diag_cls.cls.0.weight', 'diag_cls.cls.0.bias', 'diag_cls.cls.2.weight', 'diag_cls.cls.2.bias', 'med_cls.cls.0.weight', 'med_cls.cls.0.bias', 'med_cls.cls.2.weight', 'med_cls.cls.2.bias', 'lab_cls.cls.0.weight', 'lab_cls.cls.0.bias', 'lab_cls.cls.2.weight', 'lab_cls.cls.2.bias', 'pro_cls.cls.0.weight', 'pro_cls.cls.0.bias', 'pro_cls.cls.2.weight', 'pro_cls.cls.2.bias', 'cls_ontology.cls.0.weight', 'cls_ontology.cls.0.bias', 'cls_ontology.cls.2.weight', 'cls_ontology.cls.2.bias', 'visit_ontology.cls.0.weight', 'visit_ontology.cls.0.bias', 'visit_ontology.cls.2.weight', 'visit_ontology.cls.2.bias', 'adm_type.cls.0.weight', 'adm_type.cls.0.bias', 'adm_type.cls.2.weight', 'adm_type.cls.2.bias']\n"
     ]
    },
    {
     "name": "stderr",
     "output_type": "stream",
     "text": [
      "Epoch 001: 100%|██████████| 239/239 [00:13<00:00, 17.37it/s, loss=0.5014]\n",
      "Running inference: 100%|██████████| 482/482 [00:21<00:00, 22.77it/s]\n",
      "Running inference: 100%|██████████| 489/489 [00:21<00:00, 22.46it/s]\n"
     ]
    },
    {
     "name": "stdout",
     "output_type": "stream",
     "text": [
      "Validation: {'precision': 0.6659578581081269, 'recall': 0.661736457931883, 'f1': 0.6638404420553279, 'auc': 0.8412448137236301, 'prauc': 0.7401157955109898}\n",
      "Test:      {'precision': 0.6547155105209378, 'recall': 0.6446661550256242, 'f1': 0.6496519671568156, 'auc': 0.8356184380406972, 'prauc': 0.7186722593697172}\n"
     ]
    },
    {
     "name": "stderr",
     "output_type": "stream",
     "text": [
      "Epoch 002: 100%|██████████| 239/239 [00:14<00:00, 16.50it/s, loss=0.4267]\n",
      "Running inference: 100%|██████████| 482/482 [00:21<00:00, 22.27it/s]\n",
      "Running inference: 100%|██████████| 489/489 [00:22<00:00, 21.79it/s]\n"
     ]
    },
    {
     "name": "stdout",
     "output_type": "stream",
     "text": [
      "Validation: {'precision': 0.5697704081625385, 'recall': 0.858048405684099, 'f1': 0.6848075990660234, 'auc': 0.8547479358050101, 'prauc': 0.7620689066349335}\n",
      "Test:      {'precision': 0.5566002256480423, 'recall': 0.8518802762838605, 'f1': 0.6732883415679634, 'auc': 0.8469812415859792, 'prauc': 0.7418595818274717}\n"
     ]
    },
    {
     "name": "stderr",
     "output_type": "stream",
     "text": [
      "Epoch 003: 100%|██████████| 239/239 [00:14<00:00, 16.52it/s, loss=0.3892]\n",
      "Running inference: 100%|██████████| 482/482 [00:22<00:00, 21.46it/s]\n",
      "Running inference: 100%|██████████| 489/489 [00:22<00:00, 21.80it/s]\n"
     ]
    },
    {
     "name": "stdout",
     "output_type": "stream",
     "text": [
      "Validation: {'precision': 0.7672534227416394, 'recall': 0.5274683057999857, 'f1': 0.6251565119600587, 'auc': 0.8542077114402082, 'prauc': 0.7629513354699466}\n",
      "Test:      {'precision': 0.7587093089641385, 'recall': 0.5097851112806796, 'f1': 0.6098232680853364, 'auc': 0.8516743657176655, 'prauc': 0.7510087636647772}\n"
     ]
    },
    {
     "name": "stderr",
     "output_type": "stream",
     "text": [
      "Epoch 004: 100%|██████████| 239/239 [00:14<00:00, 16.57it/s, loss=0.3518]\n",
      "Running inference: 100%|██████████| 482/482 [00:21<00:00, 22.72it/s]\n",
      "Running inference: 100%|██████████| 489/489 [00:22<00:00, 22.08it/s]\n"
     ]
    },
    {
     "name": "stdout",
     "output_type": "stream",
     "text": [
      "Validation: {'precision': 0.648687522472764, 'recall': 0.6930464848238704, 'f1': 0.6701337245733141, 'auc': 0.8498854831741471, 'prauc': 0.7524431750285675}\n",
      "Test:      {'precision': 0.6368917937533826, 'recall': 0.6730621642350862, 'f1': 0.6544776069428897, 'auc': 0.8411827605501379, 'prauc': 0.7286028567306481}\n"
     ]
    },
    {
     "name": "stderr",
     "output_type": "stream",
     "text": [
      "Epoch 005: 100%|██████████| 239/239 [00:13<00:00, 17.12it/s, loss=0.3215]\n",
      "Running inference: 100%|██████████| 482/482 [00:21<00:00, 22.17it/s]\n",
      "Running inference: 100%|██████████| 489/489 [00:22<00:00, 21.59it/s]\n"
     ]
    },
    {
     "name": "stdout",
     "output_type": "stream",
     "text": [
      "Validation: {'precision': 0.7203564084973262, 'recall': 0.6056473300026783, 'f1': 0.6580402746979457, 'auc': 0.8555289601521767, 'prauc': 0.767934318506219}\n",
      "Test:      {'precision': 0.71368519383299, 'recall': 0.5863392171899725, 'f1': 0.6437750108460738, 'auc': 0.8515488950135911, 'prauc': 0.7506589072421745}\n"
     ]
    },
    {
     "name": "stderr",
     "output_type": "stream",
     "text": [
      "Epoch 006: 100%|██████████| 239/239 [00:14<00:00, 16.19it/s, loss=0.2806]\n",
      "Running inference: 100%|██████████| 482/482 [00:21<00:00, 22.12it/s]\n",
      "Running inference: 100%|██████████| 489/489 [00:22<00:00, 21.69it/s]\n"
     ]
    },
    {
     "name": "stdout",
     "output_type": "stream",
     "text": [
      "Validation: {'precision': 0.6799304616560171, 'recall': 0.6761429120232882, 'f1': 0.6780313924753775, 'auc': 0.8520911850117483, 'prauc': 0.7621118321488417}\n",
      "Test:      {'precision': 0.6674414100316338, 'recall': 0.6611665387554467, 'f1': 0.664289151625337, 'auc': 0.8473809248549373, 'prauc': 0.7440550540371043}\n"
     ]
    },
    {
     "name": "stderr",
     "output_type": "stream",
     "text": [
      "Epoch 007: 100%|██████████| 239/239 [00:13<00:00, 17.16it/s, loss=0.2541]\n",
      "Running inference: 100%|██████████| 482/482 [00:21<00:00, 22.41it/s]\n",
      "Running inference: 100%|██████████| 489/489 [00:21<00:00, 22.63it/s]\n"
     ]
    },
    {
     "name": "stdout",
     "output_type": "stream",
     "text": [
      "Validation: {'precision': 0.7133813577805864, 'recall': 0.6277372262761665, 'f1': 0.6678246603914588, 'auc': 0.8522453154648398, 'prauc': 0.7619429482529357}\n",
      "Test:      {'precision': 0.6942328618048004, 'recall': 0.6120491174201611, 'f1': 0.6505557205206568, 'auc': 0.8466445978069482, 'prauc': 0.7428973802701118}\n",
      "\n",
      "Early stopping triggered (no improvement for 5 epochs).\n",
      "\n",
      "Best validation performance:\n",
      "{'precision': 0.5697704081625385, 'recall': 0.858048405684099, 'f1': 0.6848075990660234, 'auc': 0.8547479358050101, 'prauc': 0.7620689066349335}\n",
      "Corresponding test performance:\n",
      "{'precision': 0.5566002256480423, 'recall': 0.8518802762838605, 'f1': 0.6732883415679634, 'auc': 0.8469812415859792, 'prauc': 0.7418595818274717}\n",
      "[Warning] Missing keys: ['cls_head.cls.0.weight', 'cls_head.cls.0.bias', 'cls_head.cls.2.weight', 'cls_head.cls.2.bias']\n",
      "[Warning] Unexpected keys: ['diag_cls.cls.0.weight', 'diag_cls.cls.0.bias', 'diag_cls.cls.2.weight', 'diag_cls.cls.2.bias', 'med_cls.cls.0.weight', 'med_cls.cls.0.bias', 'med_cls.cls.2.weight', 'med_cls.cls.2.bias', 'lab_cls.cls.0.weight', 'lab_cls.cls.0.bias', 'lab_cls.cls.2.weight', 'lab_cls.cls.2.bias', 'pro_cls.cls.0.weight', 'pro_cls.cls.0.bias', 'pro_cls.cls.2.weight', 'pro_cls.cls.2.bias', 'cls_ontology.cls.0.weight', 'cls_ontology.cls.0.bias', 'cls_ontology.cls.2.weight', 'cls_ontology.cls.2.bias', 'visit_ontology.cls.0.weight', 'visit_ontology.cls.0.bias', 'visit_ontology.cls.2.weight', 'visit_ontology.cls.2.bias', 'adm_type.cls.0.weight', 'adm_type.cls.0.bias', 'adm_type.cls.2.weight', 'adm_type.cls.2.bias']\n"
     ]
    },
    {
     "name": "stderr",
     "output_type": "stream",
     "text": [
      "Epoch 001: 100%|██████████| 239/239 [00:14<00:00, 17.01it/s, loss=0.4991]\n",
      "Running inference: 100%|██████████| 482/482 [00:21<00:00, 22.52it/s]\n",
      "Running inference: 100%|██████████| 489/489 [00:22<00:00, 21.81it/s]\n"
     ]
    },
    {
     "name": "stdout",
     "output_type": "stream",
     "text": [
      "Validation: {'precision': 0.6628149270682652, 'recall': 0.6721091048776948, 'f1': 0.667429656420047, 'auc': 0.8455932124192913, 'prauc': 0.7478652690606578}\n",
      "Test:      {'precision': 0.6548338368567695, 'recall': 0.6653875671514479, 'f1': 0.660068514222512, 'auc': 0.8392155874613201, 'prauc': 0.7284144992774513}\n"
     ]
    },
    {
     "name": "stderr",
     "output_type": "stream",
     "text": [
      "Epoch 002: 100%|██████████| 239/239 [00:14<00:00, 16.77it/s, loss=0.4326]\n",
      "Running inference: 100%|██████████| 482/482 [00:22<00:00, 21.80it/s]\n",
      "Running inference: 100%|██████████| 489/489 [00:22<00:00, 21.93it/s]\n"
     ]
    },
    {
     "name": "stdout",
     "output_type": "stream",
     "text": [
      "Validation: {'precision': 0.6505226480824904, 'recall': 0.7172493276974313, 'f1': 0.6822583542286326, 'auc': 0.855265739139413, 'prauc': 0.7613906282616265}\n",
      "Test:      {'precision': 0.6442257897451334, 'recall': 0.7160399079034612, 'f1': 0.6782371599377378, 'auc': 0.8485470079577956, 'prauc': 0.7458317726266157}\n"
     ]
    },
    {
     "name": "stderr",
     "output_type": "stream",
     "text": [
      "Epoch 003: 100%|██████████| 239/239 [00:14<00:00, 16.26it/s, loss=0.3976]\n",
      "Running inference: 100%|██████████| 482/482 [00:22<00:00, 21.68it/s]\n",
      "Running inference: 100%|██████████| 489/489 [00:21<00:00, 22.54it/s]\n"
     ]
    },
    {
     "name": "stdout",
     "output_type": "stream",
     "text": [
      "Validation: {'precision': 0.6346307864798421, 'recall': 0.7610449481353034, 'f1': 0.6921128433235036, 'auc': 0.8596651974925374, 'prauc': 0.7731665611430583}\n",
      "Test:      {'precision': 0.6231123827680447, 'recall': 0.7521105141965616, 'f1': 0.6815613268692888, 'auc': 0.8527011997484024, 'prauc': 0.754721086173909}\n"
     ]
    },
    {
     "name": "stderr",
     "output_type": "stream",
     "text": [
      "Epoch 004: 100%|██████████| 239/239 [00:13<00:00, 17.31it/s, loss=0.3606]\n",
      "Running inference: 100%|██████████| 482/482 [00:21<00:00, 22.27it/s]\n",
      "Running inference: 100%|██████████| 489/489 [00:21<00:00, 22.37it/s]\n"
     ]
    },
    {
     "name": "stdout",
     "output_type": "stream",
     "text": [
      "Validation: {'precision': 0.8027553763413886, 'recall': 0.45889358432489646, 'f1': 0.5839647961521935, 'auc': 0.855970381253607, 'prauc': 0.7668707021830345}\n",
      "Test:      {'precision': 0.802460456939183, 'recall': 0.43802762854866073, 'f1': 0.566712171177929, 'auc': 0.8504271238796758, 'prauc': 0.7517264784899367}\n"
     ]
    },
    {
     "name": "stderr",
     "output_type": "stream",
     "text": [
      "Epoch 005: 100%|██████████| 239/239 [00:14<00:00, 16.95it/s, loss=0.3213]\n",
      "Running inference: 100%|██████████| 482/482 [00:22<00:00, 21.80it/s]\n",
      "Running inference: 100%|██████████| 489/489 [00:22<00:00, 21.56it/s]\n"
     ]
    },
    {
     "name": "stdout",
     "output_type": "stream",
     "text": [
      "Validation: {'precision': 0.6880697582229726, 'recall': 0.6669227814047889, 'f1': 0.6773312474384452, 'auc': 0.852577806156815, 'prauc': 0.7650143450844732}\n",
      "Test:      {'precision': 0.6813735276488693, 'recall': 0.654834996161445, 'f1': 0.6678407150867628, 'auc': 0.8494013681560035, 'prauc': 0.7527050110681868}\n"
     ]
    },
    {
     "name": "stderr",
     "output_type": "stream",
     "text": [
      "Epoch 006: 100%|██████████| 239/239 [00:14<00:00, 16.83it/s, loss=0.2921]\n",
      "Running inference: 100%|██████████| 482/482 [00:22<00:00, 21.82it/s]\n",
      "Running inference: 100%|██████████| 489/489 [00:22<00:00, 21.70it/s]\n"
     ]
    },
    {
     "name": "stdout",
     "output_type": "stream",
     "text": [
      "Validation: {'precision': 0.7080016757421282, 'recall': 0.6492508643859983, 'f1': 0.677354704426849, 'auc': 0.8561333199686408, 'prauc': 0.766362003428819}\n",
      "Test:      {'precision': 0.6898484533927967, 'recall': 0.6375671527232587, 'f1': 0.6626782281303752, 'auc': 0.849992271211074, 'prauc': 0.7520950378208544}\n"
     ]
    },
    {
     "name": "stderr",
     "output_type": "stream",
     "text": [
      "Epoch 007: 100%|██████████| 239/239 [00:13<00:00, 17.39it/s, loss=0.2589]\n",
      "Running inference: 100%|██████████| 482/482 [00:21<00:00, 22.65it/s]\n",
      "Running inference: 100%|██████████| 489/489 [00:21<00:00, 22.81it/s]\n"
     ]
    },
    {
     "name": "stdout",
     "output_type": "stream",
     "text": [
      "Validation: {'precision': 0.6571678321666833, 'recall': 0.7220514790612331, 'f1': 0.6880834656303444, 'auc': 0.852804823799905, 'prauc': 0.7603954614697175}\n",
      "Test:      {'precision': 0.6437239944510338, 'recall': 0.7123944742887329, 'f1': 0.6763205778895489, 'auc': 0.8466539892163395, 'prauc': 0.7450051018503541}\n"
     ]
    },
    {
     "name": "stderr",
     "output_type": "stream",
     "text": [
      "Epoch 008: 100%|██████████| 239/239 [00:13<00:00, 17.46it/s, loss=0.2271]\n",
      "Running inference: 100%|██████████| 482/482 [00:21<00:00, 22.46it/s]\n",
      "Running inference: 100%|██████████| 489/489 [00:21<00:00, 22.70it/s]"
     ]
    },
    {
     "name": "stdout",
     "output_type": "stream",
     "text": [
      "Validation: {'precision': 0.6852760736182305, 'recall': 0.6436803688039884, 'f1': 0.6638272533237102, 'auc': 0.8472639654286552, 'prauc': 0.7523229957091657}\n",
      "Test:      {'precision': 0.6801470588221402, 'recall': 0.6389102072128954, 'f1': 0.6588840472394357, 'auc': 0.8429415254539083, 'prauc': 0.7410949790529747}\n",
      "\n",
      "Early stopping triggered (no improvement for 5 epochs).\n",
      "\n",
      "Best validation performance:\n",
      "{'precision': 0.6346307864798421, 'recall': 0.7610449481353034, 'f1': 0.6921128433235036, 'auc': 0.8596651974925374, 'prauc': 0.7731665611430583}\n",
      "Corresponding test performance:\n",
      "{'precision': 0.6231123827680447, 'recall': 0.7521105141965616, 'f1': 0.6815613268692888, 'auc': 0.8527011997484024, 'prauc': 0.754721086173909}\n"
     ]
    },
    {
     "name": "stderr",
     "output_type": "stream",
     "text": [
      "\n"
     ]
    }
   ],
   "source": [
    "final_metrics = []\n",
    "for i in range(15):\n",
    "    model = HeteroGTFineTune(tokenizer=tokenizer, token_types=config.token_type, d_model=config.d_model, num_heads=config.num_heads, layer_types=['gnn', 'tf', 'gnn', 'tf'], max_num_adms=config.max_num_adms, \n",
    "                     device=device, task=curr_task, label_vocab_size=config.label_vocab_size, attn_mask_dicts=config.attn_mask_dicts,\n",
    "                     use_cls_cat=True).to(device)\n",
    "    if config.use_pretrained_model:\n",
    "        model.load_weight(state_dict)\n",
    "    optimizer = torch.optim.AdamW(model.parameters(), lr=config.lr)\n",
    "    best_test_metric = train_with_early_stopping(model, train_dataloader, val_dataloader, test_dataloader,\n",
    "                                             optimizer, loss_fn, device, config.early_stop_patience, task_type, config.epochs, \n",
    "                                             val_long_seq_idx=None, test_long_seq_idx=None, eval_metric=eval_metric, return_model=False)\n",
    "    final_metrics.append(best_test_metric)"
   ]
  },
  {
   "cell_type": "code",
   "execution_count": null,
   "id": "69b5b571",
   "metadata": {},
   "outputs": [],
   "source": [
    "def topk_avg_performance_formatted(performances, k=5):\n",
    "    metrics = [\"f1\", \"auc\", \"prauc\"]\n",
    "    scores = {m: np.array([p[m] for p in performances]) for m in metrics}\n",
    "\n",
    "    # 计算排名（值越大排名越靠前）\n",
    "    ranks = {m: (-scores[m]).argsort().argsort() + 1 for m in metrics}\n",
    "    avg_ranks = np.mean(np.stack([ranks[m] for m in metrics], axis=1), axis=1)\n",
    "\n",
    "    # 选 top-k\n",
    "    topk_idx = np.argsort(avg_ranks)[:k]\n",
    "    final_avg = {m: np.mean([performances[i][m] for i in topk_idx]) for m in performances[0].keys()}\n",
    "    final_std = {m: np.std([performances[i][m] for i in topk_idx], ddof=0) for m in performances[0].keys()}\n",
    "\n",
    "    # 打印结果（转百分比，均保留两位小数）\n",
    "    print(\"Final Metrics:\")\n",
    "    for m in performances[0].keys():\n",
    "        mean_val = final_avg[m] * 100\n",
    "        std_val = final_std[m] * 100\n",
    "        print(f\"{m}: {mean_val:.2f} ± {std_val:.2f}\")"
   ]
  },
  {
   "cell_type": "code",
   "execution_count": null,
   "id": "e12dd11d-4936-466a-9a97-e10f223539fc",
   "metadata": {
    "tags": []
   },
   "outputs": [
    {
     "name": "stdout",
     "output_type": "stream",
     "text": [
      "Final Metrics:\n",
      "precision: 62.22 ± 1.07\n",
      "recall: 76.43 ± 2.00\n",
      "f1: 68.57 ± 0.37\n",
      "auc: 85.29 ± 0.16\n",
      "prauc: 75.12 ± 0.43\n"
     ]
    }
   ],
   "source": [
    "topk_avg_performance_formatted(final_metrics, 5)"
   ]
  }
 ],
 "metadata": {
  "kernelspec": {
   "display_name": "Python 3",
   "language": "python",
   "name": "python3"
  },
  "language_info": {
   "codemirror_mode": {
    "name": "ipython",
    "version": 3
   },
   "file_extension": ".py",
   "mimetype": "text/x-python",
   "name": "python",
   "nbconvert_exporter": "python",
   "pygments_lexer": "ipython3",
   "version": "3.10.18"
  }
 },
 "nbformat": 4,
 "nbformat_minor": 5
}
