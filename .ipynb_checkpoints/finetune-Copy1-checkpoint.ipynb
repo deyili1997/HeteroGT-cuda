{
 "cells": [
  {
   "cell_type": "code",
   "execution_count": 1,
   "id": "9bc53801",
   "metadata": {
    "tags": []
   },
   "outputs": [
    {
     "name": "stderr",
     "output_type": "stream",
     "text": [
      "Disabling PyTorch because PyTorch >= 2.1 is required but found 1.13.1\n",
      "None of PyTorch, TensorFlow >= 2.0, or Flax have been found. Models won't be available and only tokenizers, configuration and file/data utilities can be used.\n"
     ]
    }
   ],
   "source": [
    "import torch\n",
    "import pickle\n",
    "import numpy as np\n",
    "import pandas as pd\n",
    "from argparse import Namespace\n",
    "from torch.utils.data import DataLoader\n",
    "import torch.nn.functional as F\n",
    "from heterogt.utils.tokenizer import EHRTokenizer\n",
    "from heterogt.utils.dataset import FineTuneEHRDataset, batcher, expand_level3\n",
    "from heterogt.utils.train import train_with_early_stopping, PHENO_ORDER\n",
    "from heterogt.utils.seed import set_random_seed\n",
    "from heterogt.model.model import HeteroGTFineTune"
   ]
  },
  {
   "cell_type": "code",
   "execution_count": 2,
   "id": "c42d3e09",
   "metadata": {
    "tags": []
   },
   "outputs": [
    {
     "name": "stdout",
     "output_type": "stream",
     "text": [
      "[INFO] Random seed set to 123\n"
     ]
    }
   ],
   "source": [
    "set_random_seed(123)"
   ]
  },
  {
   "cell_type": "code",
   "execution_count": 3,
   "id": "af3d65aa",
   "metadata": {
    "tags": []
   },
   "outputs": [
    {
     "name": "stdout",
     "output_type": "stream",
     "text": [
      "cuda\n"
     ]
    }
   ],
   "source": [
    "device = torch.device(\"cuda\" if torch.cuda.is_available() else \"cpu\")\n",
    "print(device)"
   ]
  },
  {
   "cell_type": "code",
   "execution_count": 4,
   "id": "d073b89b",
   "metadata": {
    "tags": []
   },
   "outputs": [],
   "source": [
    "config = Namespace(\n",
    "    dataset = \"MIMIC-III\",\n",
    "    tasks = [\"death\", \"readmission\", \"stay\", \"next_diag_6m\", \"next_diag_12m\"],\n",
    "    task_index = 4,  # index of the task to train\n",
    "    token_type = [\"diag\", \"med\", \"lab\", \"pro\"],\n",
    "    special_tokens = [\"[PAD]\", \"[CLS]\"],\n",
    "    # only for tf layer\n",
    "    attn_mask_dicts = [{1:[6,7], 2:[6,7], 3:[6,7], 4:[6,7], 5:[6,7], 6:[1,2,3,4,5,6,7], 7:[1,2,3,4,5,6,7]}, \n",
    "                       {1:[6,7], 2:[6,7], 3:[6,7], 4:[6,7], 5:[6,7], 6:[1,2,3,4,5,6,7], 7:[1,2,3,4,5,6,7]}], \n",
    "    d_model = 64,\n",
    "    num_heads = 4,\n",
    "    batch_size = 32,\n",
    "    lr = 1e-3,\n",
    "    epochs = 500,\n",
    "    early_stop_patience = 5,\n",
    "    group_code_thre = 5,  # if there are group_code_thre diag codes belongs to the same group ICD code, then the group code is generated\n",
    "    use_pretrained_model = True,\n",
    "    pretrain_mask_rate = 0.7,\n",
    "    pretrain_cls_ontology_weight = 5e-2,\n",
    "    pretrain_visit_ontology_weight = 5e-2,\n",
    "    pretrain_adm_type_weight = 0,\n",
    "    dec_loss_lambda = 1e-2,\n",
    ")"
   ]
  },
  {
   "cell_type": "code",
   "execution_count": 5,
   "id": "bbe56943",
   "metadata": {
    "tags": []
   },
   "outputs": [
    {
     "name": "stdout",
     "output_type": "stream",
     "text": [
      "Current task: next_diag_12m\n"
     ]
    }
   ],
   "source": [
    "full_data_path = f\"./data_process/{config.dataset}-processed/mimic.pkl\"  # for tokenizer\n",
    "curr_task = config.tasks[config.task_index]\n",
    "print(\"Current task:\", curr_task)\n",
    "if curr_task == \"next_diag_6m\":\n",
    "    finetune_data_path = f\"./data_process/{config.dataset}-processed/mimic_nextdiag_6m.pkl\"\n",
    "elif curr_task == \"next_diag_12m\":\n",
    "    finetune_data_path = f\"./data_process/{config.dataset}-processed/mimic_nextdiag_12m.pkl\"\n",
    "else:\n",
    "    finetune_data_path = f\"./data_process/{config.dataset}-processed/mimic_downstream.pkl\""
   ]
  },
  {
   "cell_type": "code",
   "execution_count": 6,
   "id": "57d4378a",
   "metadata": {
    "tags": []
   },
   "outputs": [
    {
     "name": "stdout",
     "output_type": "stream",
     "text": [
      "Max admissions per patient: 8\n"
     ]
    }
   ],
   "source": [
    "ehr_full_data = pickle.load(open(full_data_path, 'rb'))\n",
    "group_code_sentences = [expand_level3()[1]]\n",
    "diag_sentences = ehr_full_data[\"ICD9_CODE\"].values.tolist()\n",
    "med_sentences = ehr_full_data[\"NDC\"].values.tolist()\n",
    "lab_sentences = ehr_full_data[\"LAB_TEST\"].values.tolist()\n",
    "pro_sentences = ehr_full_data[\"PRO_CODE\"].values.tolist()\n",
    "age_sentences = [[str(c)] for c in set(ehr_full_data[\"AGE\"].values.tolist())] # important of [[]]\n",
    "adm_type_sentences = ehr_full_data[\"ADMISSION_TYPE\"].values.tolist()\n",
    "max_admissions = ehr_full_data.groupby(\"SUBJECT_ID\")[\"HADM_ID\"].nunique().max()\n",
    "config.max_num_adms = max_admissions\n",
    "print(f\"Max admissions per patient: {config.max_num_adms}\")"
   ]
  },
  {
   "cell_type": "code",
   "execution_count": 7,
   "id": "a8db4baa",
   "metadata": {
    "tags": []
   },
   "outputs": [
    {
     "name": "stdout",
     "output_type": "stream",
     "text": [
      "Age vocabulary size: 18\n",
      "Group code vocabulary size: 19\n"
     ]
    }
   ],
   "source": [
    "tokenizer = EHRTokenizer(age_sentences, group_code_sentences, diag_sentences, med_sentences, lab_sentences, \n",
    "                         pro_sentences, special_tokens=config.special_tokens, adm_types_sentences=adm_type_sentences)\n",
    "config.label_vocab_size = len(PHENO_ORDER)  # a set of predifined diseases\n",
    "config.global_vocab_size = len(tokenizer.vocab.id2word)\n",
    "config.age_vocab_size = tokenizer.token_number(\"age\")\n",
    "config.group_code_vocab_size = tokenizer.token_number(\"group\")\n",
    "print(f\"Age vocabulary size: {config.age_vocab_size}\")\n",
    "print(f\"Group code vocabulary size: {config.group_code_vocab_size}\")"
   ]
  },
  {
   "cell_type": "code",
   "execution_count": 8,
   "id": "4a50b960",
   "metadata": {
    "tags": []
   },
   "outputs": [
    {
     "name": "stdout",
     "output_type": "stream",
     "text": [
      "Percentage of DEATH in test dataset: 8.114199849737041 %\n",
      "Percentage of READMISSION in test dataset: 64.08715251690458 %\n",
      "Percentage of STAY>7 days in test dataset: 55.10894064613073 %\n"
     ]
    }
   ],
   "source": [
    "train_data, val_data, test_data = pickle.load(open(finetune_data_path, 'rb'))\n",
    "# example label percentage\n",
    "print(\"Percentage of DEATH in test dataset:\",\n",
    "      (test_data[\"DEATH\"] == True).mean() * 100, \"%\")\n",
    "\n",
    "print(\"Percentage of READMISSION in test dataset:\",\n",
    "      (test_data[\"READMISSION\"] == 1).mean() * 100, \"%\")\n",
    "\n",
    "print(\"Percentage of STAY>7 days in test dataset:\",\n",
    "      (test_data[\"STAY_DAYS\"] > 7).mean() * 100, \"%\")"
   ]
  },
  {
   "cell_type": "code",
   "execution_count": 9,
   "id": "09f0ec18",
   "metadata": {},
   "outputs": [],
   "source": [
    "train_dataset = FineTuneEHRDataset(train_data, tokenizer, token_type=config.token_type, task=curr_task, \n",
    "                                   max_num_adms=config.max_num_adms, group_code_thre=config.group_code_thre)\n",
    "val_dataset = FineTuneEHRDataset(val_data, tokenizer, token_type=config.token_type, task=curr_task, \n",
    "                                 max_num_adms=config.max_num_adms, group_code_thre=config.group_code_thre)\n",
    "test_dataset = FineTuneEHRDataset(test_data, tokenizer, token_type=config.token_type, task=curr_task, \n",
    "                                   max_num_adms=config.max_num_adms, group_code_thre=config.group_code_thre)"
   ]
  },
  {
   "cell_type": "code",
   "execution_count": 10,
   "id": "899dfc28",
   "metadata": {},
   "outputs": [
    {
     "name": "stdout",
     "output_type": "stream",
     "text": [
      "208 186\n"
     ]
    }
   ],
   "source": [
    "long_adm_seq_crite = 3\n",
    "val_long_seq_idx, test_long_seq_idx = [], []\n",
    "for i in range(len(val_dataset)):\n",
    "    hadm_id = list(val_dataset.records.keys())[i]\n",
    "    num_adms = len(val_dataset.records[hadm_id])\n",
    "    if num_adms >= long_adm_seq_crite:\n",
    "        val_long_seq_idx.append(i)\n",
    "for i in range(len(test_dataset)):\n",
    "    hadm_id = list(test_dataset.records.keys())[i]\n",
    "    num_adms = len(test_dataset.records[hadm_id])\n",
    "    if num_adms >= long_adm_seq_crite:\n",
    "        test_long_seq_idx.append(i)\n",
    "print(len(val_long_seq_idx), len(test_long_seq_idx))"
   ]
  },
  {
   "cell_type": "code",
   "execution_count": 21,
   "id": "14744e08-ae74-4eba-8ebe-5cb1126b6942",
   "metadata": {
    "tags": []
   },
   "outputs": [],
   "source": [
    "def print_pheno_percentages(df: pd.DataFrame):\n",
    "    # 选出所有以 \"PHENO_\" 开头的列\n",
    "    pheno_cols = [c for c in df.columns if c.startswith(\"PHENO_\")]\n",
    "    \n",
    "    for col in pheno_cols:\n",
    "        # 计算该列中 1 的百分比\n",
    "        percentage = df[col].mean() * 100\n",
    "        print(f\"{col}: {percentage:.1f}%\")"
   ]
  },
  {
   "cell_type": "code",
   "execution_count": 22,
   "id": "bbb225b9-01e4-404d-a6fd-a3ffadf4995b",
   "metadata": {
    "tags": []
   },
   "outputs": [
    {
     "name": "stdout",
     "output_type": "stream",
     "text": [
      "PHENO_Acute and unspecified renal failure: 16.0%\n",
      "PHENO_Acute cerebrovascular disease: 0.9%\n",
      "PHENO_Acute myocardial infarction: 3.7%\n",
      "PHENO_Cardiac dysrhythmias: 20.1%\n",
      "PHENO_Chronic kidney disease: 12.4%\n",
      "PHENO_Chronic obstructive pulmonary disease: 6.4%\n",
      "PHENO_Conduction disorders: 1.4%\n",
      "PHENO_Congestive heart failure; nonhypertensive: 20.1%\n",
      "PHENO_Coronary atherosclerosis and related: 12.1%\n",
      "PHENO_Disorders of lipid metabolism: 13.7%\n",
      "PHENO_Essential hypertension: 18.9%\n",
      "PHENO_Fluid and electrolyte disorders: 21.0%\n",
      "PHENO_Gastrointestinal hemorrhage: 3.6%\n",
      "PHENO_Hypertension with complications: 11.5%\n",
      "PHENO_Other liver diseases: 0.9%\n",
      "PHENO_Other lower respiratory disease: 21.4%\n",
      "PHENO_Pneumonia: 7.1%\n",
      "PHENO_Septicemia (except in labor): 11.7%\n"
     ]
    }
   ],
   "source": [
    "print_pheno_percentages(test_data)"
   ]
  },
  {
   "cell_type": "code",
   "execution_count": 11,
   "id": "98c78018",
   "metadata": {},
   "outputs": [
    {
     "name": "stdout",
     "output_type": "stream",
     "text": [
      "Mean group token numer per patient 0.8268720127456187\n"
     ]
    }
   ],
   "source": [
    "num_group_code = []\n",
    "for i in range(len(train_dataset)):\n",
    "    input_ids, token_types, adm_index, age_ids, diag_group_codes, labels = train_dataset[i]\n",
    "    count = (token_types[0] == 6).sum().item()\n",
    "    num_group_code.append(count)\n",
    "print(\"Mean group token numer per patient\", np.mean(num_group_code))"
   ]
  },
  {
   "cell_type": "code",
   "execution_count": 12,
   "id": "d71f325f",
   "metadata": {},
   "outputs": [],
   "source": [
    "train_dataloader = DataLoader(\n",
    "    train_dataset,\n",
    "    collate_fn=batcher(tokenizer, n_token_type=len(config.token_type), is_pretrain = False),\n",
    "    shuffle=True,\n",
    "    batch_size=config.batch_size,\n",
    ")\n",
    "\n",
    "val_dataloader = DataLoader(\n",
    "    val_dataset,\n",
    "    collate_fn=batcher(tokenizer, n_token_type=len(config.token_type), is_pretrain = False),\n",
    "    shuffle=False,\n",
    "    batch_size=config.batch_size,\n",
    ")\n",
    "\n",
    "test_dataloader = DataLoader(\n",
    "    test_dataset,\n",
    "    collate_fn=batcher(tokenizer, n_token_type=len(config.token_type), is_pretrain = False),\n",
    "    shuffle=False,\n",
    "    batch_size=config.batch_size,\n",
    ")"
   ]
  },
  {
   "cell_type": "code",
   "execution_count": 13,
   "id": "7b46906f",
   "metadata": {},
   "outputs": [
    {
     "name": "stdout",
     "output_type": "stream",
     "text": [
      "All pass!\n"
     ]
    }
   ],
   "source": [
    "for batch in train_dataloader:\n",
    "    pass  # just to check if the dataloader works\n",
    "for batch in val_dataloader:\n",
    "    pass  # just to check if the dataloader works\n",
    "for batch in test_dataloader:\n",
    "    pass  # just to check if the dataloader works\n",
    "print(\"All pass!\")"
   ]
  },
  {
   "cell_type": "code",
   "execution_count": 14,
   "id": "10339a18",
   "metadata": {},
   "outputs": [],
   "source": [
    "if curr_task in [\"death\", \"stay\", \"readmission\"]:\n",
    "    eval_metric = \"f1\"\n",
    "    task_type = \"binary\"\n",
    "    loss_fn = F.binary_cross_entropy_with_logits\n",
    "else:\n",
    "    eval_metric = \"f1\"\n",
    "    task_type = \"l2r\"\n",
    "    loss_fn = lambda x, y: F.binary_cross_entropy_with_logits(x, y)"
   ]
  },
  {
   "cell_type": "code",
   "execution_count": 15,
   "id": "d5717b84",
   "metadata": {},
   "outputs": [
    {
     "name": "stdout",
     "output_type": "stream",
     "text": [
      "Input IDs shape: torch.Size([32, 193])\n",
      "Token Types shape: torch.Size([32, 193])\n",
      "Admission Index shape: torch.Size([32, 193])\n",
      "Age IDs shape: torch.Size([32, 4])\n",
      "Diag Code Group Dict number: 32\n",
      "Labels shape: torch.Size([32, 18])\n"
     ]
    }
   ],
   "source": [
    "input_ids, token_types, adm_index, age_ids, diag_code_group_dicts, labels = next(iter(train_dataloader))\n",
    "print(\"Input IDs shape:\", input_ids.shape)\n",
    "print(\"Token Types shape:\", token_types.shape)\n",
    "print(\"Admission Index shape:\", adm_index.shape)\n",
    "print(\"Age IDs shape:\", age_ids.shape)\n",
    "print(\"Diag Code Group Dict number:\", len(diag_code_group_dicts))\n",
    "print(\"Labels shape:\", labels.shape)"
   ]
  },
  {
   "cell_type": "markdown",
   "id": "814e9e16",
   "metadata": {},
   "source": [
    "# Model Walkthrough"
   ]
  },
  {
   "cell_type": "code",
   "execution_count": 16,
   "id": "af42068a",
   "metadata": {},
   "outputs": [
    {
     "name": "stdout",
     "output_type": "stream",
     "text": [
      "MIMIC-III-0.7-64-0.05-0.05-0\n"
     ]
    }
   ],
   "source": [
    "# load pretrained model\n",
    "if config.use_pretrained_model:\n",
    "    pretrain_exp_name = (\n",
    "    f\"{config.dataset}-{config.pretrain_mask_rate}-{config.d_model}-{config.pretrain_cls_ontology_weight}-{config.pretrain_visit_ontology_weight}-{config.pretrain_adm_type_weight}\"\n",
    ")\n",
    "    print(pretrain_exp_name)\n",
    "    save_path = \"./pretrained_models/\" + pretrain_exp_name\n",
    "    state_dict = torch.load(f\"{save_path}/pretrained_model.pt\", map_location=\"cpu\")"
   ]
  },
  {
   "cell_type": "code",
   "execution_count": 17,
   "id": "f0fed5f6-b245-4bc3-b252-f6af0756f18a",
   "metadata": {
    "tags": []
   },
   "outputs": [
    {
     "name": "stdout",
     "output_type": "stream",
     "text": [
      "================================1==================================\n"
     ]
    },
    {
     "name": "stderr",
     "output_type": "stream",
     "text": [
      "Epoch 001: 100%|██████████| 59/59 [00:04<00:00, 13.72it/s, loss=0.4682]\n",
      "Running inference: 100%|██████████| 45/45 [00:02<00:00, 19.55it/s]\n",
      "Running inference: 100%|██████████| 45/45 [00:02<00:00, 21.47it/s]\n"
     ]
    },
    {
     "name": "stdout",
     "output_type": "stream",
     "text": [
      "Validation: {'precision': 36.7212, 'recall': 13.3457, 'f1': 17.9545, 'auc': 66.8515, 'prauc': 36.4864}\n",
      "Test:      {'precision': 31.4656, 'recall': 12.2575, 'f1': 16.6656, 'auc': 67.0844, 'prauc': 35.4075}\n",
      "\n",
      "Validation-long: {'precision': 35.6248, 'recall': 16.8815, 'f1': 20.9127, 'auc': 63.4113, 'prauc': 42.0597}\n",
      "Test-long: {'precision': 34.5632, 'recall': 15.4735, 'f1': 19.7335, 'auc': 65.8141, 'prauc': 39.5217}\n",
      "\n"
     ]
    },
    {
     "name": "stderr",
     "output_type": "stream",
     "text": [
      "Epoch 002: 100%|██████████| 59/59 [00:04<00:00, 14.74it/s, loss=0.4047]\n",
      "Running inference: 100%|██████████| 45/45 [00:02<00:00, 22.02it/s]\n",
      "Running inference: 100%|██████████| 45/45 [00:02<00:00, 21.89it/s]\n"
     ]
    },
    {
     "name": "stdout",
     "output_type": "stream",
     "text": [
      "Validation: {'precision': 39.6438, 'recall': 20.8272, 'f1': 25.658, 'auc': 70.799, 'prauc': 39.7548}\n",
      "Test:      {'precision': 37.2306, 'recall': 19.9874, 'f1': 24.6435, 'auc': 72.3978, 'prauc': 39.0246}\n",
      "\n",
      "Validation-long: {'precision': 41.8044, 'recall': 25.6807, 'f1': 29.1467, 'auc': 68.6386, 'prauc': 45.7634}\n",
      "Test-long: {'precision': 39.528, 'recall': 24.0489, 'f1': 27.9869, 'auc': 71.7789, 'prauc': 42.3965}\n",
      "\n"
     ]
    },
    {
     "name": "stderr",
     "output_type": "stream",
     "text": [
      "Epoch 003: 100%|██████████| 59/59 [00:03<00:00, 14.86it/s, loss=0.3893]\n",
      "Running inference: 100%|██████████| 45/45 [00:02<00:00, 21.96it/s]\n",
      "Running inference: 100%|██████████| 45/45 [00:02<00:00, 21.78it/s]\n"
     ]
    },
    {
     "name": "stdout",
     "output_type": "stream",
     "text": [
      "Validation: {'precision': 39.7894, 'recall': 22.3372, 'f1': 25.8884, 'auc': 72.2423, 'prauc': 41.3506}\n",
      "Test:      {'precision': 43.0874, 'recall': 21.5275, 'f1': 25.0493, 'auc': 73.2251, 'prauc': 40.7136}\n",
      "\n",
      "Validation-long: {'precision': 35.5222, 'recall': 22.0428, 'f1': 26.0965, 'auc': 70.0022, 'prauc': 47.706}\n",
      "Test-long: {'precision': 38.9783, 'recall': 20.4443, 'f1': 24.6773, 'auc': 73.6093, 'prauc': 45.9723}\n",
      "\n"
     ]
    },
    {
     "name": "stderr",
     "output_type": "stream",
     "text": [
      "Epoch 004: 100%|██████████| 59/59 [00:03<00:00, 14.99it/s, loss=0.3772]\n",
      "Running inference: 100%|██████████| 45/45 [00:02<00:00, 22.31it/s]\n",
      "Running inference: 100%|██████████| 45/45 [00:02<00:00, 22.11it/s]\n"
     ]
    },
    {
     "name": "stdout",
     "output_type": "stream",
     "text": [
      "Validation: {'precision': 40.4639, 'recall': 29.1581, 'f1': 31.2595, 'auc': 73.2303, 'prauc': 42.0522}\n",
      "Test:      {'precision': 40.9844, 'recall': 28.1748, 'f1': 30.4785, 'auc': 73.9994, 'prauc': 41.7376}\n",
      "\n",
      "Validation-long: {'precision': 40.8746, 'recall': 30.8364, 'f1': 33.4682, 'auc': 71.495, 'prauc': 48.9952}\n",
      "Test-long: {'precision': 46.9771, 'recall': 28.6254, 'f1': 32.2061, 'auc': 74.6106, 'prauc': 47.4218}\n",
      "\n"
     ]
    },
    {
     "name": "stderr",
     "output_type": "stream",
     "text": [
      "Epoch 005: 100%|██████████| 59/59 [00:03<00:00, 15.01it/s, loss=0.3654]\n",
      "Running inference: 100%|██████████| 45/45 [00:02<00:00, 22.08it/s]\n",
      "Running inference: 100%|██████████| 45/45 [00:02<00:00, 21.89it/s]\n"
     ]
    },
    {
     "name": "stdout",
     "output_type": "stream",
     "text": [
      "Validation: {'precision': 40.6282, 'recall': 28.8486, 'f1': 32.4649, 'auc': 73.4374, 'prauc': 42.708}\n",
      "Test:      {'precision': 40.1863, 'recall': 27.2442, 'f1': 31.1288, 'auc': 74.2605, 'prauc': 42.1}\n",
      "\n",
      "Validation-long: {'precision': 44.3222, 'recall': 34.3116, 'f1': 37.3467, 'auc': 70.9224, 'prauc': 47.8833}\n",
      "Test-long: {'precision': 41.8173, 'recall': 30.9908, 'f1': 34.5972, 'auc': 74.6364, 'prauc': 46.1465}\n",
      "\n"
     ]
    },
    {
     "name": "stderr",
     "output_type": "stream",
     "text": [
      "Epoch 006: 100%|██████████| 59/59 [00:03<00:00, 14.96it/s, loss=0.3568]\n",
      "Running inference: 100%|██████████| 45/45 [00:02<00:00, 21.90it/s]\n",
      "Running inference: 100%|██████████| 45/45 [00:02<00:00, 19.67it/s]\n"
     ]
    },
    {
     "name": "stdout",
     "output_type": "stream",
     "text": [
      "Validation: {'precision': 41.2838, 'recall': 35.1248, 'f1': 35.8401, 'auc': 73.8443, 'prauc': 43.3123}\n",
      "Test:      {'precision': 40.3118, 'recall': 35.0796, 'f1': 35.7524, 'auc': 74.6697, 'prauc': 43.3021}\n",
      "\n",
      "Validation-long: {'precision': 38.7641, 'recall': 37.6231, 'f1': 37.6632, 'auc': 71.1338, 'prauc': 47.3261}\n",
      "Test-long: {'precision': 42.5084, 'recall': 36.4757, 'f1': 37.0074, 'auc': 75.2896, 'prauc': 48.4816}\n",
      "\n"
     ]
    },
    {
     "name": "stderr",
     "output_type": "stream",
     "text": [
      "Epoch 007: 100%|██████████| 59/59 [00:03<00:00, 14.81it/s, loss=0.3467]\n",
      "Running inference: 100%|██████████| 45/45 [00:02<00:00, 22.02it/s]\n",
      "Running inference: 100%|██████████| 45/45 [00:02<00:00, 21.83it/s]\n"
     ]
    },
    {
     "name": "stdout",
     "output_type": "stream",
     "text": [
      "Validation: {'precision': 44.8959, 'recall': 32.6023, 'f1': 35.55, 'auc': 74.1333, 'prauc': 44.0047}\n",
      "Test:      {'precision': 40.6691, 'recall': 30.7418, 'f1': 33.9944, 'auc': 74.7385, 'prauc': 43.6412}\n",
      "\n",
      "Validation-long: {'precision': 45.0018, 'recall': 34.2494, 'f1': 37.1194, 'auc': 71.6337, 'prauc': 48.8337}\n",
      "Test-long: {'precision': 42.9204, 'recall': 29.6458, 'f1': 33.9333, 'auc': 76.4275, 'prauc': 47.5009}\n",
      "\n"
     ]
    },
    {
     "name": "stderr",
     "output_type": "stream",
     "text": [
      "Epoch 008: 100%|██████████| 59/59 [00:03<00:00, 14.89it/s, loss=0.3370]\n",
      "Running inference: 100%|██████████| 45/45 [00:02<00:00, 22.20it/s]\n",
      "Running inference: 100%|██████████| 45/45 [00:02<00:00, 22.17it/s]\n"
     ]
    },
    {
     "name": "stdout",
     "output_type": "stream",
     "text": [
      "Validation: {'precision': 42.5802, 'recall': 32.7342, 'f1': 35.7644, 'auc': 74.0129, 'prauc': 44.1205}\n",
      "Test:      {'precision': 41.2292, 'recall': 31.0971, 'f1': 34.2816, 'auc': 74.7164, 'prauc': 43.8774}\n",
      "\n",
      "Validation-long: {'precision': 44.2789, 'recall': 35.9942, 'f1': 38.3067, 'auc': 71.5521, 'prauc': 49.3717}\n",
      "Test-long: {'precision': 43.3876, 'recall': 31.7711, 'f1': 36.0214, 'auc': 75.1545, 'prauc': 48.1354}\n",
      "\n"
     ]
    },
    {
     "name": "stderr",
     "output_type": "stream",
     "text": [
      "Epoch 009: 100%|██████████| 59/59 [00:03<00:00, 15.22it/s, loss=0.3251]\n",
      "Running inference: 100%|██████████| 45/45 [00:02<00:00, 21.96it/s]\n",
      "Running inference: 100%|██████████| 45/45 [00:02<00:00, 21.99it/s]\n"
     ]
    },
    {
     "name": "stdout",
     "output_type": "stream",
     "text": [
      "Validation: {'precision': 43.9602, 'recall': 32.7586, 'f1': 35.7297, 'auc': 73.9771, 'prauc': 43.7798}\n",
      "Test:      {'precision': 40.9343, 'recall': 30.6122, 'f1': 33.8498, 'auc': 74.2712, 'prauc': 43.4449}\n",
      "\n",
      "Validation-long: {'precision': 44.845, 'recall': 34.8816, 'f1': 37.7905, 'auc': 71.2694, 'prauc': 48.4166}\n",
      "Test-long: {'precision': 41.59, 'recall': 31.6471, 'f1': 35.1167, 'auc': 75.0627, 'prauc': 47.237}\n",
      "\n"
     ]
    },
    {
     "name": "stderr",
     "output_type": "stream",
     "text": [
      "Epoch 010: 100%|██████████| 59/59 [00:03<00:00, 14.93it/s, loss=0.3169]\n",
      "Running inference: 100%|██████████| 45/45 [00:02<00:00, 22.18it/s]\n",
      "Running inference: 100%|██████████| 45/45 [00:02<00:00, 22.16it/s]\n"
     ]
    },
    {
     "name": "stdout",
     "output_type": "stream",
     "text": [
      "Validation: {'precision': 44.489, 'recall': 34.5428, 'f1': 36.3284, 'auc': 74.2904, 'prauc': 44.0384}\n",
      "Test:      {'precision': 41.712, 'recall': 32.9336, 'f1': 34.9566, 'auc': 74.4459, 'prauc': 43.766}\n",
      "\n",
      "Validation-long: {'precision': 45.5592, 'recall': 35.6794, 'f1': 37.4147, 'auc': 71.9838, 'prauc': 48.6568}\n",
      "Test-long: {'precision': 42.7557, 'recall': 34.9095, 'f1': 37.3853, 'auc': 75.3573, 'prauc': 47.8496}\n",
      "\n"
     ]
    },
    {
     "name": "stderr",
     "output_type": "stream",
     "text": [
      "Epoch 011: 100%|██████████| 59/59 [00:03<00:00, 14.99it/s, loss=0.3039]\n",
      "Running inference: 100%|██████████| 45/45 [00:02<00:00, 22.35it/s]\n",
      "Running inference: 100%|██████████| 45/45 [00:02<00:00, 22.15it/s]\n"
     ]
    },
    {
     "name": "stdout",
     "output_type": "stream",
     "text": [
      "Validation: {'precision': 42.1589, 'recall': 36.0934, 'f1': 37.8238, 'auc': 73.9839, 'prauc': 43.7933}\n",
      "Test:      {'precision': 41.0327, 'recall': 34.9798, 'f1': 36.9923, 'auc': 74.0319, 'prauc': 43.5195}\n",
      "\n",
      "Validation-long: {'precision': 42.2021, 'recall': 38.8236, 'f1': 39.8307, 'auc': 70.7024, 'prauc': 48.4843}\n",
      "Test-long: {'precision': 42.6094, 'recall': 38.2432, 'f1': 39.8791, 'auc': 75.5318, 'prauc': 48.676}\n",
      "\n"
     ]
    },
    {
     "name": "stderr",
     "output_type": "stream",
     "text": [
      "Epoch 012: 100%|██████████| 59/59 [00:04<00:00, 14.13it/s, loss=0.2969]\n",
      "Running inference: 100%|██████████| 45/45 [00:02<00:00, 22.32it/s]\n",
      "Running inference: 100%|██████████| 45/45 [00:02<00:00, 22.19it/s]\n"
     ]
    },
    {
     "name": "stdout",
     "output_type": "stream",
     "text": [
      "Validation: {'precision': 40.7842, 'recall': 37.5748, 'f1': 38.0094, 'auc': 74.0327, 'prauc': 43.2409}\n",
      "Test:      {'precision': 40.5243, 'recall': 37.0905, 'f1': 37.6428, 'auc': 74.1115, 'prauc': 43.1911}\n",
      "\n",
      "Validation-long: {'precision': 42.011, 'recall': 39.4023, 'f1': 39.0505, 'auc': 70.5552, 'prauc': 49.6677}\n",
      "Test-long: {'precision': 40.5465, 'recall': 38.3302, 'f1': 39.0859, 'auc': 74.662, 'prauc': 46.3063}\n",
      "\n"
     ]
    },
    {
     "name": "stderr",
     "output_type": "stream",
     "text": [
      "Epoch 013: 100%|██████████| 59/59 [00:03<00:00, 15.14it/s, loss=0.2875]\n",
      "Running inference: 100%|██████████| 45/45 [00:02<00:00, 22.16it/s]\n",
      "Running inference: 100%|██████████| 45/45 [00:02<00:00, 22.16it/s]\n"
     ]
    },
    {
     "name": "stdout",
     "output_type": "stream",
     "text": [
      "Validation: {'precision': 42.4724, 'recall': 36.5249, 'f1': 37.8953, 'auc': 73.8883, 'prauc': 43.2392}\n",
      "Test:      {'precision': 42.8529, 'recall': 34.7317, 'f1': 37.1608, 'auc': 73.5918, 'prauc': 43.1014}\n",
      "\n",
      "Validation-long: {'precision': 41.9659, 'recall': 38.9936, 'f1': 39.6043, 'auc': 70.4955, 'prauc': 49.0008}\n",
      "Test-long: {'precision': 44.1063, 'recall': 36.0518, 'f1': 38.6851, 'auc': 74.1399, 'prauc': 47.032}\n",
      "\n"
     ]
    },
    {
     "name": "stderr",
     "output_type": "stream",
     "text": [
      "Epoch 014: 100%|██████████| 59/59 [00:03<00:00, 15.08it/s, loss=0.2829]\n",
      "Running inference: 100%|██████████| 45/45 [00:02<00:00, 22.34it/s]\n",
      "Running inference: 100%|██████████| 45/45 [00:02<00:00, 22.13it/s]\n"
     ]
    },
    {
     "name": "stdout",
     "output_type": "stream",
     "text": [
      "Validation: {'precision': 41.6663, 'recall': 37.1582, 'f1': 38.2344, 'auc': 73.7777, 'prauc': 43.0294}\n",
      "Test:      {'precision': 43.5698, 'recall': 35.6977, 'f1': 37.7624, 'auc': 73.54, 'prauc': 42.2494}\n",
      "\n",
      "Validation-long: {'precision': 40.0848, 'recall': 42.2293, 'f1': 40.5764, 'auc': 69.569, 'prauc': 47.7275}\n",
      "Test-long: {'precision': 39.9083, 'recall': 39.8902, 'f1': 39.0433, 'auc': 73.81, 'prauc': 46.16}\n",
      "\n"
     ]
    },
    {
     "name": "stderr",
     "output_type": "stream",
     "text": [
      "Epoch 015: 100%|██████████| 59/59 [00:03<00:00, 15.07it/s, loss=0.2683]\n",
      "Running inference: 100%|██████████| 45/45 [00:02<00:00, 22.31it/s]\n",
      "Running inference: 100%|██████████| 45/45 [00:02<00:00, 22.23it/s]\n"
     ]
    },
    {
     "name": "stdout",
     "output_type": "stream",
     "text": [
      "Validation: {'precision': 45.5805, 'recall': 34.9884, 'f1': 37.9554, 'auc': 73.6906, 'prauc': 43.3415}\n",
      "Test:      {'precision': 45.3626, 'recall': 32.915, 'f1': 36.4435, 'auc': 73.3664, 'prauc': 42.5506}\n",
      "\n",
      "Validation-long: {'precision': 43.4323, 'recall': 37.1505, 'f1': 39.3947, 'auc': 70.5296, 'prauc': 49.6267}\n",
      "Test-long: {'precision': 44.5451, 'recall': 34.1963, 'f1': 38.0445, 'auc': 74.2956, 'prauc': 52.2809}\n",
      "\n"
     ]
    },
    {
     "name": "stderr",
     "output_type": "stream",
     "text": [
      "Epoch 016: 100%|██████████| 59/59 [00:03<00:00, 15.22it/s, loss=0.2618]\n",
      "Running inference: 100%|██████████| 45/45 [00:02<00:00, 22.25it/s]\n",
      "Running inference: 100%|██████████| 45/45 [00:02<00:00, 22.14it/s]\n"
     ]
    },
    {
     "name": "stdout",
     "output_type": "stream",
     "text": [
      "Validation: {'precision': 42.5939, 'recall': 33.7041, 'f1': 36.3611, 'auc': 73.4088, 'prauc': 42.7832}\n",
      "Test:      {'precision': 43.9622, 'recall': 31.8895, 'f1': 35.4604, 'auc': 72.8388, 'prauc': 42.3757}\n",
      "\n",
      "Validation-long: {'precision': 41.384, 'recall': 35.2083, 'f1': 37.142, 'auc': 70.4453, 'prauc': 48.6373}\n",
      "Test-long: {'precision': 42.7265, 'recall': 33.7329, 'f1': 37.0723, 'auc': 72.5634, 'prauc': 46.9144}\n",
      "\n"
     ]
    },
    {
     "name": "stderr",
     "output_type": "stream",
     "text": [
      "Epoch 017: 100%|██████████| 59/59 [00:03<00:00, 15.05it/s, loss=0.2524]\n",
      "Running inference: 100%|██████████| 45/45 [00:02<00:00, 22.10it/s]\n",
      "Running inference: 100%|██████████| 45/45 [00:02<00:00, 19.75it/s]\n"
     ]
    },
    {
     "name": "stdout",
     "output_type": "stream",
     "text": [
      "Validation: {'precision': 41.5939, 'recall': 38.8019, 'f1': 38.6488, 'auc': 73.389, 'prauc': 42.5562}\n",
      "Test:      {'precision': 42.5717, 'recall': 37.5814, 'f1': 38.3209, 'auc': 72.9066, 'prauc': 42.3095}\n",
      "\n",
      "Validation-long: {'precision': 40.1227, 'recall': 43.4657, 'f1': 41.1299, 'auc': 70.3136, 'prauc': 48.3016}\n",
      "Test-long: {'precision': 39.729, 'recall': 41.193, 'f1': 39.4556, 'auc': 72.4277, 'prauc': 47.0894}\n",
      "\n"
     ]
    },
    {
     "name": "stderr",
     "output_type": "stream",
     "text": [
      "Epoch 018: 100%|██████████| 59/59 [00:03<00:00, 15.09it/s, loss=0.2410]\n",
      "Running inference: 100%|██████████| 45/45 [00:02<00:00, 22.26it/s]\n",
      "Running inference: 100%|██████████| 45/45 [00:02<00:00, 22.27it/s]\n"
     ]
    },
    {
     "name": "stdout",
     "output_type": "stream",
     "text": [
      "Validation: {'precision': 43.1991, 'recall': 36.2781, 'f1': 38.0356, 'auc': 73.0566, 'prauc': 42.4937}\n",
      "Test:      {'precision': 42.564, 'recall': 35.0214, 'f1': 37.1871, 'auc': 72.7795, 'prauc': 41.9011}\n",
      "\n",
      "Validation-long: {'precision': 44.0951, 'recall': 41.3951, 'f1': 41.3787, 'auc': 70.2803, 'prauc': 49.1751}\n",
      "Test-long: {'precision': 40.6655, 'recall': 37.7708, 'f1': 38.9553, 'auc': 73.2882, 'prauc': 51.6541}\n",
      "\n"
     ]
    },
    {
     "name": "stderr",
     "output_type": "stream",
     "text": [
      "Epoch 019: 100%|██████████| 59/59 [00:03<00:00, 15.04it/s, loss=0.2343]\n",
      "Running inference: 100%|██████████| 45/45 [00:02<00:00, 22.24it/s]\n",
      "Running inference: 100%|██████████| 45/45 [00:02<00:00, 22.29it/s]\n"
     ]
    },
    {
     "name": "stdout",
     "output_type": "stream",
     "text": [
      "Validation: {'precision': 41.8587, 'recall': 38.3066, 'f1': 39.3546, 'auc': 72.7895, 'prauc': 41.9839}\n",
      "Test:      {'precision': 42.5273, 'recall': 36.789, 'f1': 38.441, 'auc': 72.291, 'prauc': 41.3933}\n",
      "\n",
      "Validation-long: {'precision': 45.5405, 'recall': 41.9671, 'f1': 42.4685, 'auc': 70.4216, 'prauc': 49.5125}\n",
      "Test-long: {'precision': 42.304, 'recall': 38.5076, 'f1': 39.8941, 'auc': 73.2901, 'prauc': 47.6111}\n",
      "\n"
     ]
    },
    {
     "name": "stderr",
     "output_type": "stream",
     "text": [
      "Epoch 020: 100%|██████████| 59/59 [00:03<00:00, 15.07it/s, loss=0.2272]\n",
      "Running inference: 100%|██████████| 45/45 [00:02<00:00, 22.30it/s]\n",
      "Running inference: 100%|██████████| 45/45 [00:02<00:00, 22.27it/s]\n"
     ]
    },
    {
     "name": "stdout",
     "output_type": "stream",
     "text": [
      "Validation: {'precision': 40.9131, 'recall': 37.4636, 'f1': 37.8892, 'auc': 72.7151, 'prauc': 41.7278}\n",
      "Test:      {'precision': 41.0424, 'recall': 35.9877, 'f1': 37.3262, 'auc': 72.1458, 'prauc': 40.435}\n",
      "\n",
      "Validation-long: {'precision': 40.9912, 'recall': 41.0676, 'f1': 39.5819, 'auc': 70.6684, 'prauc': 48.0747}\n",
      "Test-long: {'precision': 38.548, 'recall': 38.0708, 'f1': 38.0258, 'auc': 70.9771, 'prauc': 45.9554}\n",
      "\n"
     ]
    },
    {
     "name": "stderr",
     "output_type": "stream",
     "text": [
      "Epoch 021: 100%|██████████| 59/59 [00:03<00:00, 15.11it/s, loss=0.2178]\n",
      "Running inference: 100%|██████████| 45/45 [00:02<00:00, 22.27it/s]\n",
      "Running inference: 100%|██████████| 45/45 [00:02<00:00, 21.75it/s]\n"
     ]
    },
    {
     "name": "stdout",
     "output_type": "stream",
     "text": [
      "Validation: {'precision': 42.3197, 'recall': 37.1529, 'f1': 38.7297, 'auc': 72.6609, 'prauc': 41.9561}\n",
      "Test:      {'precision': 41.8932, 'recall': 35.5873, 'f1': 37.835, 'auc': 72.0873, 'prauc': 40.7409}\n",
      "\n",
      "Validation-long: {'precision': 42.3659, 'recall': 41.038, 'f1': 41.1227, 'auc': 69.8116, 'prauc': 49.4389}\n",
      "Test-long: {'precision': 41.3756, 'recall': 38.1265, 'f1': 39.1739, 'auc': 72.2442, 'prauc': 46.3993}\n",
      "\n"
     ]
    },
    {
     "name": "stderr",
     "output_type": "stream",
     "text": [
      "Epoch 022: 100%|██████████| 59/59 [00:03<00:00, 14.94it/s, loss=0.2110]\n",
      "Running inference: 100%|██████████| 45/45 [00:02<00:00, 22.16it/s]\n",
      "Running inference: 100%|██████████| 45/45 [00:02<00:00, 22.17it/s]\n"
     ]
    },
    {
     "name": "stdout",
     "output_type": "stream",
     "text": [
      "Validation: {'precision': 40.6211, 'recall': 36.1248, 'f1': 37.8113, 'auc': 72.5706, 'prauc': 41.575}\n",
      "Test:      {'precision': 42.996, 'recall': 35.3236, 'f1': 37.8205, 'auc': 71.6838, 'prauc': 40.5678}\n",
      "\n",
      "Validation-long: {'precision': 41.0691, 'recall': 39.2168, 'f1': 39.4614, 'auc': 69.7794, 'prauc': 48.5885}\n",
      "Test-long: {'precision': 39.9383, 'recall': 36.1069, 'f1': 37.3162, 'auc': 71.761, 'prauc': 45.5201}\n",
      "\n"
     ]
    },
    {
     "name": "stderr",
     "output_type": "stream",
     "text": [
      "Epoch 023: 100%|██████████| 59/59 [00:04<00:00, 14.17it/s, loss=0.2006]\n",
      "Running inference: 100%|██████████| 45/45 [00:02<00:00, 22.01it/s]\n",
      "Running inference: 100%|██████████| 45/45 [00:02<00:00, 22.14it/s]\n"
     ]
    },
    {
     "name": "stdout",
     "output_type": "stream",
     "text": [
      "Validation: {'precision': 40.6437, 'recall': 35.465, 'f1': 37.1157, 'auc': 72.3374, 'prauc': 41.5095}\n",
      "Test:      {'precision': 42.2298, 'recall': 33.8009, 'f1': 36.573, 'auc': 71.8737, 'prauc': 40.9612}\n",
      "\n",
      "Validation-long: {'precision': 41.0034, 'recall': 39.7359, 'f1': 39.6669, 'auc': 69.0621, 'prauc': 46.3924}\n",
      "Test-long: {'precision': 40.52, 'recall': 34.1117, 'f1': 36.4982, 'auc': 71.9534, 'prauc': 49.2597}\n",
      "\n"
     ]
    },
    {
     "name": "stderr",
     "output_type": "stream",
     "text": [
      "Epoch 024: 100%|██████████| 59/59 [00:03<00:00, 15.00it/s, loss=0.1979]\n",
      "Running inference: 100%|██████████| 45/45 [00:02<00:00, 22.19it/s]\n",
      "Running inference: 100%|██████████| 45/45 [00:02<00:00, 22.11it/s]\n"
     ]
    },
    {
     "name": "stdout",
     "output_type": "stream",
     "text": [
      "Validation: {'precision': 41.8548, 'recall': 35.5114, 'f1': 37.4596, 'auc': 72.1475, 'prauc': 41.4785}\n",
      "Test:      {'precision': 47.2697, 'recall': 34.643, 'f1': 37.2936, 'auc': 71.7598, 'prauc': 41.4014}\n",
      "\n",
      "Validation-long: {'precision': 41.5985, 'recall': 38.4119, 'f1': 39.5911, 'auc': 71.1804, 'prauc': 47.7722}\n",
      "Test-long: {'precision': 45.7542, 'recall': 34.6222, 'f1': 37.5262, 'auc': 70.6464, 'prauc': 44.9585}\n",
      "\n",
      "\n",
      "Early stopping triggered (no improvement for 5 epochs).\n",
      "\n",
      "Best validation performance:\n",
      "{'global': {'precision': 41.8587, 'recall': 38.3066, 'f1': 39.3546, 'auc': 72.7895, 'prauc': 41.9839}, 'per_class':                                            precision   recall       f1  \\\n",
      "Acute and unspecified renal failure          47.3318  47.0046  47.1676   \n",
      "Acute cerebrovascular disease                 0.0000   0.0000   0.0000   \n",
      "Acute myocardial infarction                  29.0323   9.4737  14.2857   \n",
      "Cardiac dysrhythmias                         76.5328  66.0584  70.9109   \n",
      "Chronic kidney disease                       75.0000  68.8235  71.7791   \n",
      "Chronic obstructive pulmonary disease        59.3103  45.7447  51.6517   \n",
      "Conduction disorders                          0.0000   0.0000   0.0000   \n",
      "Congestive heart failure; nonhypertensive    66.3300  72.9630  69.4885   \n",
      "Coronary atherosclerosis and related         53.5248  59.7668  56.4738   \n",
      "Disorders of lipid metabolism                55.7641  54.5932  55.1724   \n",
      "Essential hypertension                       62.2047  61.3592  61.7791   \n",
      "Fluid and electrolyte disorders              46.9040  52.7875  49.6721   \n",
      "Gastrointestinal hemorrhage                  12.0000   3.0000   4.8000   \n",
      "Hypertension with complications              67.9739  65.2038  66.5600   \n",
      "Other liver diseases                         10.0000   2.3810   3.8462   \n",
      "Other lower respiratory disease              54.2146  55.0584  54.6332   \n",
      "Pneumonia                                     0.0000   0.0000   0.0000   \n",
      "Septicemia (except in labor)                 37.3333  25.3012  30.1616   \n",
      "\n",
      "                                               auc    prauc  \n",
      "Acute and unspecified renal failure        66.8477  43.3904  \n",
      "Acute cerebrovascular disease              70.9351   2.1017  \n",
      "Acute myocardial infarction                70.9574  14.3075  \n",
      "Cardiac dysrhythmias                       82.2293  77.9104  \n",
      "Chronic kidney disease                     89.2699  77.1407  \n",
      "Chronic obstructive pulmonary disease      84.6461  49.8193  \n",
      "Conduction disorders                       64.9017   3.3359  \n",
      "Congestive heart failure; nonhypertensive  81.7421  72.2983  \n",
      "Coronary atherosclerosis and related       82.1886  57.0332  \n",
      "Disorders of lipid metabolism              77.0405  54.9186  \n",
      "Essential hypertension                     77.2906  63.7817  \n",
      "Fluid and electrolyte disorders            57.9047  45.9379  \n",
      "Gastrointestinal hemorrhage                65.4905  11.1823  \n",
      "Hypertension with complications            88.1712  71.2277  \n",
      "Other liver diseases                       61.8882   5.8152  \n",
      "Other lower respiratory disease            70.0223  58.5485  \n",
      "Pneumonia                                  55.9844  12.3841  \n",
      "Septicemia (except in labor)               62.7006  34.5765  }\n",
      "Corresponding test performance:\n",
      "{'global': {'precision': 42.5273, 'recall': 36.789, 'f1': 38.441, 'auc': 72.291, 'prauc': 41.3933}, 'per_class':                                            precision   recall       f1  \\\n",
      "Acute and unspecified renal failure          46.0850  48.2436  47.1396   \n",
      "Acute cerebrovascular disease                 0.0000   0.0000   0.0000   \n",
      "Acute myocardial infarction                  29.7297  11.2245  16.2963   \n",
      "Cardiac dysrhythmias                         69.8514  61.6105  65.4726   \n",
      "Chronic kidney disease                       76.0714  64.7416  69.9507   \n",
      "Chronic obstructive pulmonary disease        52.8000  38.8235  44.7458   \n",
      "Conduction disorders                          0.0000   0.0000   0.0000   \n",
      "Congestive heart failure; nonhypertensive    65.8845  68.0970  66.9725   \n",
      "Coronary atherosclerosis and related         56.1960  60.7477  58.3832   \n",
      "Disorders of lipid metabolism                54.6713  43.2877  48.3180   \n",
      "Essential hypertension                       60.0386  61.7063  60.8611   \n",
      "Fluid and electrolyte disorders              47.1049  53.8462  50.2504   \n",
      "Gastrointestinal hemorrhage                  18.1818   4.1667   6.7797   \n",
      "Hypertension with complications              70.3833  66.0131  68.1282   \n",
      "Other liver diseases                          0.0000   0.0000   0.0000   \n",
      "Other lower respiratory disease              53.3597  47.4517  50.2326   \n",
      "Pneumonia                                    26.3158   2.6596   4.8309   \n",
      "Septicemia (except in labor)                 38.8186  29.5820  33.5766   \n",
      "\n",
      "                                               auc    prauc  \n",
      "Acute and unspecified renal failure        67.3947  43.2890  \n",
      "Acute cerebrovascular disease              70.2576   6.5886  \n",
      "Acute myocardial infarction                73.2015  16.8881  \n",
      "Cardiac dysrhythmias                       79.5312  73.0476  \n",
      "Chronic kidney disease                     90.0963  75.9929  \n",
      "Chronic obstructive pulmonary disease      80.2358  42.0880  \n",
      "Conduction disorders                       63.7049   3.9158  \n",
      "Congestive heart failure; nonhypertensive  80.3181  70.7863  \n",
      "Coronary atherosclerosis and related       83.4074  58.3793  \n",
      "Disorders of lipid metabolism              76.8057  50.7316  \n",
      "Essential hypertension                     77.1196  63.0099  \n",
      "Fluid and electrolyte disorders            59.1837  47.1463  \n",
      "Gastrointestinal hemorrhage                65.7879  11.8672  \n",
      "Hypertension with complications            88.6963  70.0825  \n",
      "Other liver diseases                       57.2953   2.3289  \n",
      "Other lower respiratory disease            64.0268  57.2710  \n",
      "Pneumonia                                  58.5494  16.6059  \n",
      "Septicemia (except in labor)               65.6262  35.0607  }\n",
      "Corresponding test-long performance:\n",
      "{'global': {'precision': 42.304, 'recall': 38.5076, 'f1': 39.8941, 'auc': 73.2901, 'prauc': 47.6111}, 'per_class':                                            precision   recall       f1  \\\n",
      "Acute and unspecified renal failure          53.1250  57.6271  55.2846   \n",
      "Acute cerebrovascular disease                 0.0000   0.0000   0.0000   \n",
      "Acute myocardial infarction                   0.0000   0.0000   0.0000   \n",
      "Cardiac dysrhythmias                         75.8621  55.0000  63.7681   \n",
      "Chronic kidney disease                       87.5000  71.7949  78.8732   \n",
      "Chronic obstructive pulmonary disease        55.0000  42.3077  47.8261   \n",
      "Conduction disorders                          0.0000   0.0000   0.0000   \n",
      "Congestive heart failure; nonhypertensive    79.2683  70.6522  74.7126   \n",
      "Coronary atherosclerosis and related         58.6957  61.3636  60.0000   \n",
      "Disorders of lipid metabolism                60.7143  34.6939  44.1558   \n",
      "Essential hypertension                       50.0000  59.1837  54.2056   \n",
      "Fluid and electrolyte disorders              58.4270  53.0612  55.6150   \n",
      "Gastrointestinal hemorrhage                   0.0000   0.0000   0.0000   \n",
      "Hypertension with complications              80.3571  66.1765  72.5806   \n",
      "Other liver diseases                          0.0000   0.0000   0.0000   \n",
      "Other lower respiratory disease              58.2609  71.2766  64.1148   \n",
      "Pneumonia                                     0.0000   0.0000   0.0000   \n",
      "Septicemia (except in labor)                 44.2623  50.0000  46.9565   \n",
      "\n",
      "                                               auc    prauc  \n",
      "Acute and unspecified renal failure        72.6812  50.7859  \n",
      "Acute cerebrovascular disease              98.9189  16.6667  \n",
      "Acute myocardial infarction                73.9205   9.7660  \n",
      "Cardiac dysrhythmias                       75.1592  70.8795  \n",
      "Chronic kidney disease                     89.8979  88.8227  \n",
      "Chronic obstructive pulmonary disease      84.1106  52.7516  \n",
      "Conduction disorders                       50.8427  17.4180  \n",
      "Congestive heart failure; nonhypertensive  81.6142  81.5578  \n",
      "Coronary atherosclerosis and related       81.1940  63.9587  \n",
      "Disorders of lipid metabolism              73.2683  54.5199  \n",
      "Essential hypertension                     78.6087  62.8537  \n",
      "Fluid and electrolyte disorders            58.7314  60.4799  \n",
      "Gastrointestinal hemorrhage                71.5278  18.3522  \n",
      "Hypertension with complications            87.1386  83.8944  \n",
      "Other liver diseases                       64.6630   2.8025  \n",
      "Other lower respiratory disease            66.4258  68.6762  \n",
      "Pneumonia                                  47.4927  11.0209  \n",
      "Septicemia (except in labor)               63.0261  41.7925  }\n",
      "================================2==================================\n"
     ]
    },
    {
     "name": "stderr",
     "output_type": "stream",
     "text": [
      "Epoch 001: 100%|██████████| 59/59 [00:03<00:00, 14.91it/s, loss=0.4591]\n",
      "Running inference: 100%|██████████| 45/45 [00:02<00:00, 22.09it/s]\n",
      "Running inference: 100%|██████████| 45/45 [00:02<00:00, 21.55it/s]\n"
     ]
    },
    {
     "name": "stdout",
     "output_type": "stream",
     "text": [
      "Validation: {'precision': 37.6985, 'recall': 16.453, 'f1': 19.7243, 'auc': 67.5958, 'prauc': 37.5864}\n",
      "Test:      {'precision': 35.5904, 'recall': 15.3937, 'f1': 18.594, 'auc': 68.0254, 'prauc': 36.3467}\n",
      "\n",
      "Validation-long: {'precision': 32.0453, 'recall': 17.9532, 'f1': 20.1604, 'auc': 66.2707, 'prauc': 44.2381}\n",
      "Test-long: {'precision': 29.795, 'recall': 17.7842, 'f1': 19.8953, 'auc': 64.9204, 'prauc': 38.948}\n",
      "\n"
     ]
    },
    {
     "name": "stderr",
     "output_type": "stream",
     "text": [
      "Epoch 002: 100%|██████████| 59/59 [00:03<00:00, 14.81it/s, loss=0.4007]\n",
      "Running inference: 100%|██████████| 45/45 [00:02<00:00, 21.92it/s]\n",
      "Running inference: 100%|██████████| 45/45 [00:02<00:00, 21.89it/s]\n"
     ]
    },
    {
     "name": "stdout",
     "output_type": "stream",
     "text": [
      "Validation: {'precision': 39.2204, 'recall': 24.0304, 'f1': 26.4001, 'auc': 71.4909, 'prauc': 40.9554}\n",
      "Test:      {'precision': 35.5719, 'recall': 23.1689, 'f1': 25.5844, 'auc': 72.6641, 'prauc': 39.7004}\n",
      "\n",
      "Validation-long: {'precision': 39.3063, 'recall': 26.9013, 'f1': 28.468, 'auc': 69.7443, 'prauc': 47.7242}\n",
      "Test-long: {'precision': 33.644, 'recall': 25.2798, 'f1': 27.5576, 'auc': 71.8459, 'prauc': 44.0914}\n",
      "\n"
     ]
    },
    {
     "name": "stderr",
     "output_type": "stream",
     "text": [
      "Epoch 003: 100%|██████████| 59/59 [00:03<00:00, 14.89it/s, loss=0.3829]\n",
      "Running inference: 100%|██████████| 45/45 [00:02<00:00, 22.23it/s]\n",
      "Running inference: 100%|██████████| 45/45 [00:02<00:00, 22.05it/s]\n"
     ]
    },
    {
     "name": "stdout",
     "output_type": "stream",
     "text": [
      "Validation: {'precision': 40.7531, 'recall': 28.3708, 'f1': 30.5216, 'auc': 72.744, 'prauc': 42.4885}\n",
      "Test:      {'precision': 40.2776, 'recall': 27.1498, 'f1': 29.5649, 'auc': 73.959, 'prauc': 41.4995}\n",
      "\n",
      "Validation-long: {'precision': 43.5767, 'recall': 31.2049, 'f1': 33.0941, 'auc': 70.6097, 'prauc': 47.7629}\n",
      "Test-long: {'precision': 43.6048, 'recall': 27.832, 'f1': 31.2693, 'auc': 72.8922, 'prauc': 44.8447}\n",
      "\n"
     ]
    },
    {
     "name": "stderr",
     "output_type": "stream",
     "text": [
      "Epoch 004: 100%|██████████| 59/59 [00:03<00:00, 15.02it/s, loss=0.3706]\n",
      "Running inference: 100%|██████████| 45/45 [00:02<00:00, 20.06it/s]\n",
      "Running inference: 100%|██████████| 45/45 [00:02<00:00, 22.21it/s]\n"
     ]
    },
    {
     "name": "stdout",
     "output_type": "stream",
     "text": [
      "Validation: {'precision': 40.3717, 'recall': 30.8721, 'f1': 33.0318, 'auc': 73.4578, 'prauc': 43.1828}\n",
      "Test:      {'precision': 45.9645, 'recall': 30.1651, 'f1': 32.3746, 'auc': 74.6592, 'prauc': 42.8399}\n",
      "\n",
      "Validation-long: {'precision': 49.0088, 'recall': 33.4431, 'f1': 35.5376, 'auc': 71.5656, 'prauc': 49.1774}\n",
      "Test-long: {'precision': 39.8678, 'recall': 31.2003, 'f1': 33.7582, 'auc': 73.7152, 'prauc': 46.0442}\n",
      "\n"
     ]
    },
    {
     "name": "stderr",
     "output_type": "stream",
     "text": [
      "Epoch 005: 100%|██████████| 59/59 [00:03<00:00, 15.06it/s, loss=0.3586]\n",
      "Running inference: 100%|██████████| 45/45 [00:02<00:00, 22.15it/s]\n",
      "Running inference: 100%|██████████| 45/45 [00:02<00:00, 21.65it/s]\n"
     ]
    },
    {
     "name": "stdout",
     "output_type": "stream",
     "text": [
      "Validation: {'precision': 42.7371, 'recall': 28.9998, 'f1': 31.7475, 'auc': 73.9552, 'prauc': 44.3424}\n",
      "Test:      {'precision': 40.9896, 'recall': 28.3275, 'f1': 31.4273, 'auc': 75.3696, 'prauc': 43.8166}\n",
      "\n",
      "Validation-long: {'precision': 48.1937, 'recall': 32.1518, 'f1': 34.8054, 'auc': 71.8077, 'prauc': 50.5156}\n",
      "Test-long: {'precision': 42.6093, 'recall': 31.8598, 'f1': 35.088, 'auc': 74.6852, 'prauc': 46.814}\n",
      "\n"
     ]
    },
    {
     "name": "stderr",
     "output_type": "stream",
     "text": [
      "Epoch 006: 100%|██████████| 59/59 [00:04<00:00, 14.14it/s, loss=0.3523]\n",
      "Running inference: 100%|██████████| 45/45 [00:02<00:00, 21.62it/s]\n",
      "Running inference: 100%|██████████| 45/45 [00:02<00:00, 21.44it/s]\n"
     ]
    },
    {
     "name": "stdout",
     "output_type": "stream",
     "text": [
      "Validation: {'precision': 41.3542, 'recall': 32.8711, 'f1': 33.8239, 'auc': 73.995, 'prauc': 44.4493}\n",
      "Test:      {'precision': 46.6537, 'recall': 31.5084, 'f1': 33.1551, 'auc': 75.1687, 'prauc': 44.1014}\n",
      "\n",
      "Validation-long: {'precision': 40.7561, 'recall': 34.9294, 'f1': 36.5213, 'auc': 70.8444, 'prauc': 50.0058}\n",
      "Test-long: {'precision': 41.8541, 'recall': 31.367, 'f1': 34.9019, 'auc': 75.8407, 'prauc': 47.8331}\n",
      "\n"
     ]
    },
    {
     "name": "stderr",
     "output_type": "stream",
     "text": [
      "Epoch 007: 100%|██████████| 59/59 [00:04<00:00, 14.30it/s, loss=0.3411]\n",
      "Running inference: 100%|██████████| 45/45 [00:02<00:00, 21.46it/s]\n",
      "Running inference: 100%|██████████| 45/45 [00:02<00:00, 21.42it/s]\n"
     ]
    },
    {
     "name": "stdout",
     "output_type": "stream",
     "text": [
      "Validation: {'precision': 43.2661, 'recall': 33.913, 'f1': 36.1642, 'auc': 74.344, 'prauc': 44.6197}\n",
      "Test:      {'precision': 43.8088, 'recall': 33.1912, 'f1': 35.922, 'auc': 75.4617, 'prauc': 44.3956}\n",
      "\n",
      "Validation-long: {'precision': 42.9826, 'recall': 36.201, 'f1': 38.2026, 'auc': 71.6991, 'prauc': 50.1196}\n",
      "Test-long: {'precision': 43.7057, 'recall': 33.5453, 'f1': 37.3162, 'auc': 75.2102, 'prauc': 47.5866}\n",
      "\n"
     ]
    },
    {
     "name": "stderr",
     "output_type": "stream",
     "text": [
      "Epoch 008: 100%|██████████| 59/59 [00:04<00:00, 14.33it/s, loss=0.3297]\n",
      "Running inference: 100%|██████████| 45/45 [00:02<00:00, 21.49it/s]\n",
      "Running inference: 100%|██████████| 45/45 [00:02<00:00, 21.40it/s]\n"
     ]
    },
    {
     "name": "stdout",
     "output_type": "stream",
     "text": [
      "Validation: {'precision': 43.2856, 'recall': 33.4492, 'f1': 36.298, 'auc': 74.3711, 'prauc': 44.7235}\n",
      "Test:      {'precision': 50.6744, 'recall': 32.3663, 'f1': 35.751, 'auc': 75.2938, 'prauc': 44.5644}\n",
      "\n",
      "Validation-long: {'precision': 44.0448, 'recall': 36.0628, 'f1': 38.2594, 'auc': 72.1499, 'prauc': 49.7688}\n",
      "Test-long: {'precision': 43.0919, 'recall': 33.7106, 'f1': 37.0028, 'auc': 75.0711, 'prauc': 47.3618}\n",
      "\n"
     ]
    },
    {
     "name": "stderr",
     "output_type": "stream",
     "text": [
      "Epoch 009: 100%|██████████| 59/59 [00:03<00:00, 14.81it/s, loss=0.3192]\n",
      "Running inference: 100%|██████████| 45/45 [00:02<00:00, 22.39it/s]\n",
      "Running inference: 100%|██████████| 45/45 [00:02<00:00, 21.97it/s]\n"
     ]
    },
    {
     "name": "stdout",
     "output_type": "stream",
     "text": [
      "Validation: {'precision': 41.1608, 'recall': 34.0776, 'f1': 35.9478, 'auc': 74.2116, 'prauc': 44.7677}\n",
      "Test:      {'precision': 43.1718, 'recall': 33.2269, 'f1': 35.3289, 'auc': 75.3271, 'prauc': 44.2823}\n",
      "\n",
      "Validation-long: {'precision': 42.8348, 'recall': 37.9748, 'f1': 38.6951, 'auc': 70.8482, 'prauc': 49.0503}\n",
      "Test-long: {'precision': 41.1096, 'recall': 35.3664, 'f1': 36.8453, 'auc': 75.3759, 'prauc': 47.6172}\n",
      "\n"
     ]
    },
    {
     "name": "stderr",
     "output_type": "stream",
     "text": [
      "Epoch 010: 100%|██████████| 59/59 [00:04<00:00, 14.19it/s, loss=0.3093]\n",
      "Running inference: 100%|██████████| 45/45 [00:02<00:00, 22.16it/s]\n",
      "Running inference: 100%|██████████| 45/45 [00:02<00:00, 22.20it/s]\n"
     ]
    },
    {
     "name": "stdout",
     "output_type": "stream",
     "text": [
      "Validation: {'precision': 44.0717, 'recall': 34.8662, 'f1': 37.8464, 'auc': 74.4963, 'prauc': 44.7048}\n",
      "Test:      {'precision': 44.523, 'recall': 34.5441, 'f1': 37.5915, 'auc': 75.0466, 'prauc': 44.3453}\n",
      "\n",
      "Validation-long: {'precision': 45.2197, 'recall': 36.4007, 'f1': 39.6862, 'auc': 72.4248, 'prauc': 50.4658}\n",
      "Test-long: {'precision': 43.5059, 'recall': 35.1387, 'f1': 38.5476, 'auc': 75.1267, 'prauc': 47.789}\n",
      "\n"
     ]
    },
    {
     "name": "stderr",
     "output_type": "stream",
     "text": [
      "Epoch 011: 100%|██████████| 59/59 [00:03<00:00, 15.07it/s, loss=0.2977]\n",
      "Running inference: 100%|██████████| 45/45 [00:02<00:00, 22.23it/s]\n",
      "Running inference: 100%|██████████| 45/45 [00:02<00:00, 22.13it/s]\n"
     ]
    },
    {
     "name": "stdout",
     "output_type": "stream",
     "text": [
      "Validation: {'precision': 46.5212, 'recall': 35.176, 'f1': 38.2646, 'auc': 74.3999, 'prauc': 44.7733}\n",
      "Test:      {'precision': 45.9497, 'recall': 34.0823, 'f1': 37.6207, 'auc': 74.8532, 'prauc': 44.1326}\n",
      "\n",
      "Validation-long: {'precision': 46.0532, 'recall': 37.9582, 'f1': 41.2511, 'auc': 72.2448, 'prauc': 50.4518}\n",
      "Test-long: {'precision': 42.7022, 'recall': 34.6216, 'f1': 37.8661, 'auc': 74.7155, 'prauc': 47.3747}\n",
      "\n"
     ]
    },
    {
     "name": "stderr",
     "output_type": "stream",
     "text": [
      "Epoch 012: 100%|██████████| 59/59 [00:03<00:00, 14.99it/s, loss=0.2904]\n",
      "Running inference: 100%|██████████| 45/45 [00:02<00:00, 22.25it/s]\n",
      "Running inference: 100%|██████████| 45/45 [00:02<00:00, 22.19it/s]\n"
     ]
    },
    {
     "name": "stdout",
     "output_type": "stream",
     "text": [
      "Validation: {'precision': 42.9311, 'recall': 38.5908, 'f1': 39.6955, 'auc': 73.7563, 'prauc': 43.9354}\n",
      "Test:      {'precision': 42.8287, 'recall': 37.9287, 'f1': 39.2131, 'auc': 74.2221, 'prauc': 43.7117}\n",
      "\n",
      "Validation-long: {'precision': 42.2171, 'recall': 42.3556, 'f1': 41.6751, 'auc': 71.8963, 'prauc': 49.6259}\n",
      "Test-long: {'precision': 40.5292, 'recall': 39.2983, 'f1': 39.498, 'auc': 75.2127, 'prauc': 47.1755}\n",
      "\n"
     ]
    },
    {
     "name": "stderr",
     "output_type": "stream",
     "text": [
      "Epoch 013: 100%|██████████| 59/59 [00:03<00:00, 15.03it/s, loss=0.2783]\n",
      "Running inference: 100%|██████████| 45/45 [00:02<00:00, 22.15it/s]\n",
      "Running inference: 100%|██████████| 45/45 [00:02<00:00, 21.81it/s]\n"
     ]
    },
    {
     "name": "stdout",
     "output_type": "stream",
     "text": [
      "Validation: {'precision': 44.052, 'recall': 38.7386, 'f1': 38.2892, 'auc': 72.9651, 'prauc': 42.8246}\n",
      "Test:      {'precision': 44.1717, 'recall': 37.3187, 'f1': 37.4927, 'auc': 73.2492, 'prauc': 42.5428}\n",
      "\n",
      "Validation-long: {'precision': 43.7567, 'recall': 39.621, 'f1': 40.2553, 'auc': 71.1742, 'prauc': 47.9039}\n",
      "Test-long: {'precision': 39.4177, 'recall': 35.69, 'f1': 37.3004, 'auc': 73.354, 'prauc': 46.9318}\n",
      "\n"
     ]
    },
    {
     "name": "stderr",
     "output_type": "stream",
     "text": [
      "Epoch 014: 100%|██████████| 59/59 [00:04<00:00, 14.72it/s, loss=0.2712]\n",
      "Running inference: 100%|██████████| 45/45 [00:02<00:00, 22.09it/s]\n",
      "Running inference: 100%|██████████| 45/45 [00:02<00:00, 22.00it/s]\n"
     ]
    },
    {
     "name": "stdout",
     "output_type": "stream",
     "text": [
      "Validation: {'precision': 40.7387, 'recall': 35.9068, 'f1': 37.2162, 'auc': 73.3456, 'prauc': 43.3777}\n",
      "Test:      {'precision': 46.5263, 'recall': 35.6643, 'f1': 37.3934, 'auc': 73.6377, 'prauc': 43.1123}\n",
      "\n",
      "Validation-long: {'precision': 42.547, 'recall': 37.6391, 'f1': 38.8636, 'auc': 71.9821, 'prauc': 48.6649}\n",
      "Test-long: {'precision': 44.2476, 'recall': 36.9531, 'f1': 39.4308, 'auc': 74.4125, 'prauc': 47.6501}\n",
      "\n"
     ]
    },
    {
     "name": "stderr",
     "output_type": "stream",
     "text": [
      "Epoch 015: 100%|██████████| 59/59 [00:03<00:00, 14.76it/s, loss=0.2571]\n",
      "Running inference: 100%|██████████| 45/45 [00:02<00:00, 19.74it/s]\n",
      "Running inference: 100%|██████████| 45/45 [00:02<00:00, 22.05it/s]\n"
     ]
    },
    {
     "name": "stdout",
     "output_type": "stream",
     "text": [
      "Validation: {'precision': 42.1973, 'recall': 37.4534, 'f1': 38.4796, 'auc': 72.9935, 'prauc': 42.9797}\n",
      "Test:      {'precision': 44.9825, 'recall': 37.1161, 'f1': 38.697, 'auc': 73.1698, 'prauc': 43.3702}\n",
      "\n",
      "Validation-long: {'precision': 42.1017, 'recall': 38.2758, 'f1': 39.3908, 'auc': 71.6756, 'prauc': 48.5796}\n",
      "Test-long: {'precision': 46.7496, 'recall': 39.3859, 'f1': 40.6913, 'auc': 73.5197, 'prauc': 46.8109}\n",
      "\n"
     ]
    },
    {
     "name": "stderr",
     "output_type": "stream",
     "text": [
      "Epoch 016: 100%|██████████| 59/59 [00:03<00:00, 14.96it/s, loss=0.2495]\n",
      "Running inference: 100%|██████████| 45/45 [00:02<00:00, 22.34it/s]\n",
      "Running inference: 100%|██████████| 45/45 [00:02<00:00, 22.22it/s]\n"
     ]
    },
    {
     "name": "stdout",
     "output_type": "stream",
     "text": [
      "Validation: {'precision': 44.4495, 'recall': 39.8081, 'f1': 39.4325, 'auc': 72.915, 'prauc': 42.4716}\n",
      "Test:      {'precision': 44.6871, 'recall': 38.606, 'f1': 38.5599, 'auc': 73.0621, 'prauc': 42.4274}\n",
      "\n",
      "Validation-long: {'precision': 42.0614, 'recall': 41.7893, 'f1': 41.7518, 'auc': 71.6524, 'prauc': 48.1827}\n",
      "Test-long: {'precision': 39.5425, 'recall': 37.5677, 'f1': 38.3256, 'auc': 72.8719, 'prauc': 46.9507}\n",
      "\n"
     ]
    },
    {
     "name": "stderr",
     "output_type": "stream",
     "text": [
      "Epoch 017: 100%|██████████| 59/59 [00:03<00:00, 15.11it/s, loss=0.2390]\n",
      "Running inference: 100%|██████████| 45/45 [00:02<00:00, 22.15it/s]\n",
      "Running inference: 100%|██████████| 45/45 [00:02<00:00, 22.05it/s]\n"
     ]
    },
    {
     "name": "stdout",
     "output_type": "stream",
     "text": [
      "Validation: {'precision': 44.5327, 'recall': 37.9057, 'f1': 39.6974, 'auc': 73.4228, 'prauc': 43.4259}\n",
      "Test:      {'precision': 50.1353, 'recall': 35.9963, 'f1': 38.4783, 'auc': 73.216, 'prauc': 43.0815}\n",
      "\n",
      "Validation-long: {'precision': 41.7864, 'recall': 41.0144, 'f1': 41.0194, 'auc': 72.7094, 'prauc': 47.7745}\n",
      "Test-long: {'precision': 42.1718, 'recall': 37.1047, 'f1': 38.3888, 'auc': 74.2987, 'prauc': 52.1769}\n",
      "\n"
     ]
    },
    {
     "name": "stderr",
     "output_type": "stream",
     "text": [
      "Epoch 018: 100%|██████████| 59/59 [00:03<00:00, 14.93it/s, loss=0.2270]\n",
      "Running inference: 100%|██████████| 45/45 [00:02<00:00, 22.16it/s]\n",
      "Running inference: 100%|██████████| 45/45 [00:02<00:00, 22.17it/s]\n"
     ]
    },
    {
     "name": "stdout",
     "output_type": "stream",
     "text": [
      "Validation: {'precision': 43.1053, 'recall': 38.172, 'f1': 39.2128, 'auc': 72.7383, 'prauc': 42.3384}\n",
      "Test:      {'precision': 47.8394, 'recall': 37.5906, 'f1': 39.2604, 'auc': 72.9351, 'prauc': 42.729}\n",
      "\n",
      "Validation-long: {'precision': 42.4504, 'recall': 40.0568, 'f1': 40.5604, 'auc': 71.1382, 'prauc': 47.1711}\n",
      "Test-long: {'precision': 43.5828, 'recall': 38.2609, 'f1': 39.6147, 'auc': 74.1404, 'prauc': 47.5676}\n",
      "\n"
     ]
    },
    {
     "name": "stderr",
     "output_type": "stream",
     "text": [
      "Epoch 019: 100%|██████████| 59/59 [00:03<00:00, 14.93it/s, loss=0.2189]\n",
      "Running inference: 100%|██████████| 45/45 [00:02<00:00, 22.28it/s]\n",
      "Running inference: 100%|██████████| 45/45 [00:02<00:00, 22.08it/s]\n"
     ]
    },
    {
     "name": "stdout",
     "output_type": "stream",
     "text": [
      "Validation: {'precision': 43.1678, 'recall': 36.8362, 'f1': 38.2958, 'auc': 72.579, 'prauc': 42.3538}\n",
      "Test:      {'precision': 48.1932, 'recall': 35.68, 'f1': 37.7489, 'auc': 72.8841, 'prauc': 42.7137}\n",
      "\n",
      "Validation-long: {'precision': 42.2544, 'recall': 38.8002, 'f1': 39.4573, 'auc': 70.7509, 'prauc': 47.149}\n",
      "Test-long: {'precision': 42.6835, 'recall': 35.8092, 'f1': 38.1271, 'auc': 73.42, 'prauc': 46.2594}\n",
      "\n"
     ]
    },
    {
     "name": "stderr",
     "output_type": "stream",
     "text": [
      "Epoch 020: 100%|██████████| 59/59 [00:03<00:00, 14.96it/s, loss=0.2107]\n",
      "Running inference: 100%|██████████| 45/45 [00:02<00:00, 22.29it/s]\n",
      "Running inference: 100%|██████████| 45/45 [00:02<00:00, 22.10it/s]\n"
     ]
    },
    {
     "name": "stdout",
     "output_type": "stream",
     "text": [
      "Validation: {'precision': 43.5295, 'recall': 38.2423, 'f1': 39.4743, 'auc': 72.3447, 'prauc': 42.1121}\n",
      "Test:      {'precision': 45.7487, 'recall': 37.4301, 'f1': 39.1979, 'auc': 72.1986, 'prauc': 41.6875}\n",
      "\n",
      "Validation-long: {'precision': 41.0663, 'recall': 40.6244, 'f1': 40.5597, 'auc': 72.559, 'prauc': 47.5494}\n",
      "Test-long: {'precision': 40.1883, 'recall': 38.7379, 'f1': 39.1192, 'auc': 72.8072, 'prauc': 45.8896}\n",
      "\n"
     ]
    },
    {
     "name": "stderr",
     "output_type": "stream",
     "text": [
      "Epoch 021: 100%|██████████| 59/59 [00:04<00:00, 14.23it/s, loss=0.2006]\n",
      "Running inference: 100%|██████████| 45/45 [00:02<00:00, 22.22it/s]\n",
      "Running inference: 100%|██████████| 45/45 [00:02<00:00, 22.04it/s]\n"
     ]
    },
    {
     "name": "stdout",
     "output_type": "stream",
     "text": [
      "Validation: {'precision': 41.6092, 'recall': 37.8694, 'f1': 39.116, 'auc': 72.3439, 'prauc': 41.6339}\n",
      "Test:      {'precision': 43.9131, 'recall': 37.8569, 'f1': 39.4318, 'auc': 72.3206, 'prauc': 41.856}\n",
      "\n",
      "Validation-long: {'precision': 42.9198, 'recall': 37.5898, 'f1': 39.8079, 'auc': 72.0011, 'prauc': 47.2869}\n",
      "Test-long: {'precision': 42.1931, 'recall': 38.8752, 'f1': 40.3471, 'auc': 73.927, 'prauc': 46.3496}\n",
      "\n"
     ]
    },
    {
     "name": "stderr",
     "output_type": "stream",
     "text": [
      "Epoch 022: 100%|██████████| 59/59 [00:03<00:00, 14.80it/s, loss=0.1938]\n",
      "Running inference: 100%|██████████| 45/45 [00:02<00:00, 22.18it/s]\n",
      "Running inference: 100%|██████████| 45/45 [00:02<00:00, 22.12it/s]\n"
     ]
    },
    {
     "name": "stdout",
     "output_type": "stream",
     "text": [
      "Validation: {'precision': 42.2669, 'recall': 39.1628, 'f1': 39.5503, 'auc': 72.2411, 'prauc': 41.8034}\n",
      "Test:      {'precision': 42.2723, 'recall': 38.5151, 'f1': 39.1161, 'auc': 72.6026, 'prauc': 41.7267}\n",
      "\n",
      "Validation-long: {'precision': 43.8123, 'recall': 42.2311, 'f1': 42.221, 'auc': 72.1704, 'prauc': 47.3212}\n",
      "Test-long: {'precision': 39.511, 'recall': 38.5029, 'f1': 38.8019, 'auc': 72.7532, 'prauc': 45.3829}\n",
      "\n",
      "\n",
      "Early stopping triggered (no improvement for 5 epochs).\n",
      "\n",
      "Best validation performance:\n",
      "{'global': {'precision': 44.5327, 'recall': 37.9057, 'f1': 39.6974, 'auc': 73.4228, 'prauc': 43.4259}, 'per_class':                                            precision   recall       f1  \\\n",
      "Acute and unspecified renal failure          49.1765  48.1567  48.6612   \n",
      "Acute cerebrovascular disease                 0.0000   0.0000   0.0000   \n",
      "Acute myocardial infarction                  29.4118   5.2632   8.9286   \n",
      "Cardiac dysrhythmias                         67.0530  73.9051  70.3125   \n",
      "Chronic kidney disease                       74.2331  71.1765  72.6727   \n",
      "Chronic obstructive pulmonary disease        59.8291  37.2340  45.9016   \n",
      "Conduction disorders                          0.0000   0.0000   0.0000   \n",
      "Congestive heart failure; nonhypertensive    70.8000  65.5556  68.0769   \n",
      "Coronary atherosclerosis and related         62.2302  50.4373  55.7166   \n",
      "Disorders of lipid metabolism                61.7834  50.9186  55.8273   \n",
      "Essential hypertension                       60.6557  64.6602  62.5940   \n",
      "Fluid and electrolyte disorders              48.8971  46.3415  47.5850   \n",
      "Gastrointestinal hemorrhage                  38.0952   8.0000  13.2231   \n",
      "Hypertension with complications              69.5035  61.4420  65.2246   \n",
      "Other liver diseases                          5.5556   2.3810   3.3333   \n",
      "Other lower respiratory disease              57.1150  57.0039  57.0594   \n",
      "Pneumonia                                    10.0000   0.6711   1.2579   \n",
      "Septicemia (except in labor)                 37.2493  39.1566  38.1791   \n",
      "\n",
      "                                               auc    prauc  \n",
      "Acute and unspecified renal failure        70.9956  48.1362  \n",
      "Acute cerebrovascular disease              64.6153   1.8331  \n",
      "Acute myocardial infarction                70.8529  15.2146  \n",
      "Cardiac dysrhythmias                       81.5637  76.7147  \n",
      "Chronic kidney disease                     89.8002  78.2368  \n",
      "Chronic obstructive pulmonary disease      83.0412  46.1167  \n",
      "Conduction disorders                       60.4124   2.8910  \n",
      "Congestive heart failure; nonhypertensive  82.7197  75.8925  \n",
      "Coronary atherosclerosis and related       82.7807  58.5570  \n",
      "Disorders of lipid metabolism              78.6485  58.3511  \n",
      "Essential hypertension                     78.8205  68.4137  \n",
      "Fluid and electrolyte disorders            58.6285  48.0422  \n",
      "Gastrointestinal hemorrhage                64.7897  14.1888  \n",
      "Hypertension with complications            88.5228  70.0864  \n",
      "Other liver diseases                       65.6302   5.5519  \n",
      "Other lower respiratory disease            72.1186  62.8508  \n",
      "Pneumonia                                  61.0139  14.4370  \n",
      "Septicemia (except in labor)               66.6565  36.1527  }\n",
      "Corresponding test performance:\n",
      "{'global': {'precision': 50.1353, 'recall': 35.9963, 'f1': 38.4783, 'auc': 73.216, 'prauc': 43.0815}, 'per_class':                                            precision   recall       f1  \\\n",
      "Acute and unspecified renal failure          46.4198  44.0281  45.1923   \n",
      "Acute cerebrovascular disease               100.0000   4.1667   8.0000   \n",
      "Acute myocardial infarction                  36.3636   4.0816   7.3394   \n",
      "Cardiac dysrhythmias                         65.3710  69.2884  67.2727   \n",
      "Chronic kidney disease                       72.4590  67.1733  69.7161   \n",
      "Chronic obstructive pulmonary disease        55.8140  28.2353  37.5000   \n",
      "Conduction disorders                          0.0000   0.0000   0.0000   \n",
      "Congestive heart failure; nonhypertensive    67.8038  59.3284  63.2836   \n",
      "Coronary atherosclerosis and related         61.4173  48.5981  54.2609   \n",
      "Disorders of lipid metabolism                62.1818  46.8493  53.4375   \n",
      "Essential hypertension                       62.5455  68.2540  65.2751   \n",
      "Fluid and electrolyte disorders              47.7528  45.6172  46.6606   \n",
      "Gastrointestinal hemorrhage                  34.7826   8.3333  13.4454   \n",
      "Hypertension with complications              72.8302  63.0719  67.6007   \n",
      "Other liver diseases                          0.0000   0.0000   0.0000   \n",
      "Other lower respiratory disease              54.0541  45.6942  49.5238   \n",
      "Pneumonia                                    25.0000   2.1277   3.9216   \n",
      "Septicemia (except in labor)                 37.6404  43.0868  40.1799   \n",
      "\n",
      "                                               auc    prauc  \n",
      "Acute and unspecified renal failure        68.4181  45.7077  \n",
      "Acute cerebrovascular disease              69.9570  10.2819  \n",
      "Acute myocardial infarction                73.4025  17.2017  \n",
      "Cardiac dysrhythmias                       79.8910  74.1231  \n",
      "Chronic kidney disease                     89.5394  77.4269  \n",
      "Chronic obstructive pulmonary disease      81.2566  43.1925  \n",
      "Conduction disorders                       61.3497   3.3277  \n",
      "Congestive heart failure; nonhypertensive  79.9565  70.6228  \n",
      "Coronary atherosclerosis and related       84.9585  63.6580  \n",
      "Disorders of lipid metabolism              79.1533  57.2082  \n",
      "Essential hypertension                     79.6141  66.7563  \n",
      "Fluid and electrolyte disorders            60.8202  48.2199  \n",
      "Gastrointestinal hemorrhage                62.8948  13.0096  \n",
      "Hypertension with complications            88.8696  71.3647  \n",
      "Other liver diseases                       65.1625   2.8472  \n",
      "Other lower respiratory disease            65.0522  57.4650  \n",
      "Pneumonia                                  59.3631  17.6330  \n",
      "Septicemia (except in labor)               68.2281  35.4211  }\n",
      "Corresponding test-long performance:\n",
      "{'global': {'precision': 42.1718, 'recall': 37.1047, 'f1': 38.3888, 'auc': 74.2987, 'prauc': 52.1769}, 'per_class':                                            precision   recall       f1  \\\n",
      "Acute and unspecified renal failure          56.9231  62.7119  59.6774   \n",
      "Acute cerebrovascular disease                 0.0000   0.0000   0.0000   \n",
      "Acute myocardial infarction                   0.0000   0.0000   0.0000   \n",
      "Cardiac dysrhythmias                         60.0000  63.7500  61.8182   \n",
      "Chronic kidney disease                       80.8219  75.6410  78.1457   \n",
      "Chronic obstructive pulmonary disease        60.0000  11.5385  19.3548   \n",
      "Conduction disorders                          0.0000   0.0000   0.0000   \n",
      "Congestive heart failure; nonhypertensive    69.0476  63.0435  65.9091   \n",
      "Coronary atherosclerosis and related         72.7273  54.5455  62.3377   \n",
      "Disorders of lipid metabolism                58.8235  40.8163  48.1928   \n",
      "Essential hypertension                       57.8947  44.8980  50.5747   \n",
      "Fluid and electrolyte disorders              55.6604  60.2041  57.8431   \n",
      "Gastrointestinal hemorrhage                   0.0000   0.0000   0.0000   \n",
      "Hypertension with complications              79.3103  67.6471  73.0159   \n",
      "Other liver diseases                          0.0000   0.0000   0.0000   \n",
      "Other lower respiratory disease              65.2174  63.8298  64.5161   \n",
      "Pneumonia                                     0.0000   0.0000   0.0000   \n",
      "Septicemia (except in labor)                 42.6667  59.2593  49.6124   \n",
      "\n",
      "                                                auc     prauc  \n",
      "Acute and unspecified renal failure         76.5514   57.0549  \n",
      "Acute cerebrovascular disease              100.0000  100.0000  \n",
      "Acute myocardial infarction                 77.5000   17.2199  \n",
      "Cardiac dysrhythmias                        73.9033   72.8291  \n",
      "Chronic kidney disease                      89.6724   88.3109  \n",
      "Chronic obstructive pulmonary disease       80.2644   40.3295  \n",
      "Conduction disorders                        49.1924    5.4650  \n",
      "Congestive heart failure; nonhypertensive   78.3881   77.1469  \n",
      "Coronary atherosclerosis and related        84.9072   71.9403  \n",
      "Disorders of lipid metabolism               71.5552   54.1913  \n",
      "Essential hypertension                      75.5028   61.8145  \n",
      "Fluid and electrolyte disorders             54.9629   58.2727  \n",
      "Gastrointestinal hemorrhage                 61.6733   13.7407  \n",
      "Hypertension with complications             88.5780   80.4023  \n",
      "Other liver diseases                        75.9563    4.0115  \n",
      "Other lower respiratory disease             70.3920   72.7189  \n",
      "Pneumonia                                   59.4025   18.4597  \n",
      "Septicemia (except in labor)                68.9745   45.2755  }\n",
      "================================3==================================\n"
     ]
    },
    {
     "name": "stderr",
     "output_type": "stream",
     "text": [
      "Epoch 001: 100%|██████████| 59/59 [00:03<00:00, 14.87it/s, loss=0.4635]\n",
      "Running inference: 100%|██████████| 45/45 [00:02<00:00, 22.16it/s]\n",
      "Running inference: 100%|██████████| 45/45 [00:02<00:00, 22.26it/s]\n"
     ]
    },
    {
     "name": "stdout",
     "output_type": "stream",
     "text": [
      "Validation: {'precision': 32.12, 'recall': 18.566, 'f1': 22.1372, 'auc': 67.8568, 'prauc': 37.2709}\n",
      "Test:      {'precision': 30.6247, 'recall': 18.0678, 'f1': 21.6628, 'auc': 67.3496, 'prauc': 36.6612}\n",
      "\n",
      "Validation-long: {'precision': 34.3603, 'recall': 22.7434, 'f1': 25.1017, 'auc': 68.3293, 'prauc': 43.6664}\n",
      "Test-long: {'precision': 34.5127, 'recall': 22.2128, 'f1': 25.1504, 'auc': 66.1454, 'prauc': 41.1074}\n",
      "\n"
     ]
    },
    {
     "name": "stderr",
     "output_type": "stream",
     "text": [
      "Epoch 002: 100%|██████████| 59/59 [00:03<00:00, 14.86it/s, loss=0.4011]\n",
      "Running inference: 100%|██████████| 45/45 [00:02<00:00, 22.07it/s]\n",
      "Running inference: 100%|██████████| 45/45 [00:02<00:00, 22.03it/s]\n"
     ]
    },
    {
     "name": "stdout",
     "output_type": "stream",
     "text": [
      "Validation: {'precision': 42.0074, 'recall': 21.5709, 'f1': 26.4362, 'auc': 71.6564, 'prauc': 40.1828}\n",
      "Test:      {'precision': 41.049, 'recall': 20.8168, 'f1': 25.5653, 'auc': 72.2139, 'prauc': 39.4065}\n",
      "\n",
      "Validation-long: {'precision': 42.9371, 'recall': 21.963, 'f1': 27.0966, 'auc': 71.1288, 'prauc': 46.9542}\n",
      "Test-long: {'precision': 42.2314, 'recall': 20.511, 'f1': 25.12, 'auc': 71.3549, 'prauc': 45.3659}\n",
      "\n"
     ]
    },
    {
     "name": "stderr",
     "output_type": "stream",
     "text": [
      "Epoch 003: 100%|██████████| 59/59 [00:03<00:00, 14.78it/s, loss=0.3858]\n",
      "Running inference: 100%|██████████| 45/45 [00:02<00:00, 22.13it/s]\n",
      "Running inference: 100%|██████████| 45/45 [00:02<00:00, 21.85it/s]\n"
     ]
    },
    {
     "name": "stdout",
     "output_type": "stream",
     "text": [
      "Validation: {'precision': 38.5689, 'recall': 31.0419, 'f1': 32.2814, 'auc': 73.4427, 'prauc': 41.8879}\n",
      "Test:      {'precision': 38.1708, 'recall': 30.1613, 'f1': 31.3761, 'auc': 73.8942, 'prauc': 40.9094}\n",
      "\n",
      "Validation-long: {'precision': 40.2187, 'recall': 33.8057, 'f1': 34.4608, 'auc': 71.3747, 'prauc': 47.1289}\n",
      "Test-long: {'precision': 40.5364, 'recall': 31.0186, 'f1': 32.1304, 'auc': 73.5172, 'prauc': 45.7977}\n",
      "\n"
     ]
    },
    {
     "name": "stderr",
     "output_type": "stream",
     "text": [
      "Epoch 004: 100%|██████████| 59/59 [00:04<00:00, 14.68it/s, loss=0.3733]\n",
      "Running inference: 100%|██████████| 45/45 [00:02<00:00, 19.89it/s]\n",
      "Running inference: 100%|██████████| 45/45 [00:02<00:00, 21.98it/s]\n"
     ]
    },
    {
     "name": "stdout",
     "output_type": "stream",
     "text": [
      "Validation: {'precision': 43.6471, 'recall': 28.063, 'f1': 30.8246, 'auc': 73.899, 'prauc': 42.7469}\n",
      "Test:      {'precision': 36.8652, 'recall': 27.3523, 'f1': 29.9106, 'auc': 74.3045, 'prauc': 41.6217}\n",
      "\n",
      "Validation-long: {'precision': 35.432, 'recall': 29.3475, 'f1': 30.7114, 'auc': 73.2419, 'prauc': 48.0333}\n",
      "Test-long: {'precision': 40.785, 'recall': 28.5544, 'f1': 30.7673, 'auc': 73.1978, 'prauc': 46.0687}\n",
      "\n"
     ]
    },
    {
     "name": "stderr",
     "output_type": "stream",
     "text": [
      "Epoch 005: 100%|██████████| 59/59 [00:03<00:00, 15.07it/s, loss=0.3599]\n",
      "Running inference: 100%|██████████| 45/45 [00:02<00:00, 22.22it/s]\n",
      "Running inference: 100%|██████████| 45/45 [00:02<00:00, 22.22it/s]\n"
     ]
    },
    {
     "name": "stdout",
     "output_type": "stream",
     "text": [
      "Validation: {'precision': 47.4388, 'recall': 31.9691, 'f1': 34.5985, 'auc': 74.5938, 'prauc': 44.3885}\n",
      "Test:      {'precision': 41.1994, 'recall': 30.5413, 'f1': 33.1362, 'auc': 74.9282, 'prauc': 43.1655}\n",
      "\n",
      "Validation-long: {'precision': 43.5059, 'recall': 35.0285, 'f1': 36.651, 'auc': 73.1845, 'prauc': 48.8924}\n",
      "Test-long: {'precision': 42.8416, 'recall': 30.4922, 'f1': 33.3057, 'auc': 74.2556, 'prauc': 46.5903}\n",
      "\n"
     ]
    },
    {
     "name": "stderr",
     "output_type": "stream",
     "text": [
      "Epoch 006: 100%|██████████| 59/59 [00:03<00:00, 14.96it/s, loss=0.3491]\n",
      "Running inference: 100%|██████████| 45/45 [00:02<00:00, 22.31it/s]\n",
      "Running inference: 100%|██████████| 45/45 [00:02<00:00, 22.21it/s]\n"
     ]
    },
    {
     "name": "stdout",
     "output_type": "stream",
     "text": [
      "Validation: {'precision': 42.1662, 'recall': 32.3325, 'f1': 35.1427, 'auc': 74.9113, 'prauc': 44.5826}\n",
      "Test:      {'precision': 40.6149, 'recall': 31.1549, 'f1': 34.1019, 'auc': 74.9885, 'prauc': 43.3119}\n",
      "\n",
      "Validation-long: {'precision': 45.4755, 'recall': 34.1973, 'f1': 36.767, 'auc': 72.7322, 'prauc': 49.2904}\n",
      "Test-long: {'precision': 40.1996, 'recall': 30.5258, 'f1': 33.9228, 'auc': 74.6987, 'prauc': 46.948}\n",
      "\n"
     ]
    },
    {
     "name": "stderr",
     "output_type": "stream",
     "text": [
      "Epoch 007: 100%|██████████| 59/59 [00:03<00:00, 15.10it/s, loss=0.3382]\n",
      "Running inference: 100%|██████████| 45/45 [00:02<00:00, 22.27it/s]\n",
      "Running inference: 100%|██████████| 45/45 [00:02<00:00, 22.13it/s]\n"
     ]
    },
    {
     "name": "stdout",
     "output_type": "stream",
     "text": [
      "Validation: {'precision': 40.4647, 'recall': 34.305, 'f1': 36.2495, 'auc': 74.8069, 'prauc': 44.6405}\n",
      "Test:      {'precision': 39.8632, 'recall': 33.512, 'f1': 35.5978, 'auc': 74.6001, 'prauc': 43.6302}\n",
      "\n",
      "Validation-long: {'precision': 45.8537, 'recall': 35.3154, 'f1': 38.128, 'auc': 72.7638, 'prauc': 50.197}\n",
      "Test-long: {'precision': 43.9725, 'recall': 33.5074, 'f1': 37.0027, 'auc': 75.4055, 'prauc': 48.1072}\n",
      "\n"
     ]
    },
    {
     "name": "stderr",
     "output_type": "stream",
     "text": [
      "Epoch 008: 100%|██████████| 59/59 [00:03<00:00, 14.97it/s, loss=0.3296]\n",
      "Running inference: 100%|██████████| 45/45 [00:02<00:00, 22.35it/s]\n",
      "Running inference: 100%|██████████| 45/45 [00:02<00:00, 22.46it/s]\n"
     ]
    },
    {
     "name": "stdout",
     "output_type": "stream",
     "text": [
      "Validation: {'precision': 49.5502, 'recall': 36.5522, 'f1': 37.5105, 'auc': 74.9543, 'prauc': 45.0755}\n",
      "Test:      {'precision': 41.9176, 'recall': 35.8869, 'f1': 37.1041, 'auc': 74.7956, 'prauc': 44.227}\n",
      "\n",
      "Validation-long: {'precision': 44.0842, 'recall': 38.626, 'f1': 40.3144, 'auc': 73.245, 'prauc': 49.9627}\n",
      "Test-long: {'precision': 44.3162, 'recall': 38.0675, 'f1': 40.0559, 'auc': 74.8642, 'prauc': 48.7048}\n",
      "\n"
     ]
    },
    {
     "name": "stderr",
     "output_type": "stream",
     "text": [
      "Epoch 009: 100%|██████████| 59/59 [00:03<00:00, 14.98it/s, loss=0.3193]\n",
      "Running inference: 100%|██████████| 45/45 [00:02<00:00, 22.34it/s]\n",
      "Running inference: 100%|██████████| 45/45 [00:02<00:00, 22.13it/s]\n"
     ]
    },
    {
     "name": "stdout",
     "output_type": "stream",
     "text": [
      "Validation: {'precision': 49.4811, 'recall': 33.2379, 'f1': 35.6808, 'auc': 74.5397, 'prauc': 44.2937}\n",
      "Test:      {'precision': 46.5374, 'recall': 33.6615, 'f1': 35.9456, 'auc': 74.0426, 'prauc': 43.6604}\n",
      "\n",
      "Validation-long: {'precision': 43.7142, 'recall': 33.6829, 'f1': 36.5273, 'auc': 72.4072, 'prauc': 50.073}\n",
      "Test-long: {'precision': 44.0609, 'recall': 34.2992, 'f1': 37.8871, 'auc': 74.5128, 'prauc': 49.6724}\n",
      "\n"
     ]
    },
    {
     "name": "stderr",
     "output_type": "stream",
     "text": [
      "Epoch 010: 100%|██████████| 59/59 [00:04<00:00, 13.27it/s, loss=0.3094]\n",
      "Running inference: 100%|██████████| 45/45 [00:02<00:00, 21.13it/s]\n",
      "Running inference: 100%|██████████| 45/45 [00:02<00:00, 21.08it/s]\n"
     ]
    },
    {
     "name": "stdout",
     "output_type": "stream",
     "text": [
      "Validation: {'precision': 43.0798, 'recall': 35.941, 'f1': 36.7089, 'auc': 74.2934, 'prauc': 43.9211}\n",
      "Test:      {'precision': 45.4864, 'recall': 35.9288, 'f1': 36.406, 'auc': 73.7417, 'prauc': 43.3504}\n",
      "\n",
      "Validation-long: {'precision': 41.5609, 'recall': 39.1028, 'f1': 38.9311, 'auc': 71.9204, 'prauc': 49.1769}\n",
      "Test-long: {'precision': 42.075, 'recall': 39.3905, 'f1': 39.8964, 'auc': 73.4048, 'prauc': 47.2526}\n",
      "\n"
     ]
    },
    {
     "name": "stderr",
     "output_type": "stream",
     "text": [
      "Epoch 011: 100%|██████████| 59/59 [00:04<00:00, 14.04it/s, loss=0.2983]\n",
      "Running inference: 100%|██████████| 45/45 [00:02<00:00, 21.17it/s]\n",
      "Running inference: 100%|██████████| 45/45 [00:02<00:00, 21.00it/s]\n"
     ]
    },
    {
     "name": "stdout",
     "output_type": "stream",
     "text": [
      "Validation: {'precision': 42.0106, 'recall': 35.9847, 'f1': 37.3349, 'auc': 74.2881, 'prauc': 43.9714}\n",
      "Test:      {'precision': 42.3973, 'recall': 35.4175, 'f1': 37.0177, 'auc': 73.6042, 'prauc': 43.4913}\n",
      "\n",
      "Validation-long: {'precision': 44.7462, 'recall': 38.2355, 'f1': 39.8582, 'auc': 72.6121, 'prauc': 50.4451}\n",
      "Test-long: {'precision': 45.4665, 'recall': 37.7417, 'f1': 39.8911, 'auc': 74.6965, 'prauc': 48.0185}\n",
      "\n"
     ]
    },
    {
     "name": "stderr",
     "output_type": "stream",
     "text": [
      "Epoch 012: 100%|██████████| 59/59 [00:04<00:00, 13.84it/s, loss=0.2875]\n",
      "Running inference: 100%|██████████| 45/45 [00:02<00:00, 20.90it/s]\n",
      "Running inference: 100%|██████████| 45/45 [00:02<00:00, 20.88it/s]\n"
     ]
    },
    {
     "name": "stdout",
     "output_type": "stream",
     "text": [
      "Validation: {'precision': 46.46, 'recall': 35.4346, 'f1': 37.3088, 'auc': 74.0003, 'prauc': 43.6979}\n",
      "Test:      {'precision': 40.3939, 'recall': 34.8933, 'f1': 36.7001, 'auc': 73.1245, 'prauc': 42.5667}\n",
      "\n",
      "Validation-long: {'precision': 43.1605, 'recall': 37.2132, 'f1': 39.0854, 'auc': 72.4078, 'prauc': 50.0193}\n",
      "Test-long: {'precision': 40.9672, 'recall': 37.5741, 'f1': 38.8066, 'auc': 75.1986, 'prauc': 48.5603}\n",
      "\n"
     ]
    },
    {
     "name": "stderr",
     "output_type": "stream",
     "text": [
      "Epoch 013: 100%|██████████| 59/59 [00:04<00:00, 14.12it/s, loss=0.2774]\n",
      "Running inference: 100%|██████████| 45/45 [00:02<00:00, 21.88it/s]\n",
      "Running inference: 100%|██████████| 45/45 [00:02<00:00, 22.24it/s]\n"
     ]
    },
    {
     "name": "stdout",
     "output_type": "stream",
     "text": [
      "Validation: {'precision': 44.4651, 'recall': 36.4944, 'f1': 38.1016, 'auc': 73.4358, 'prauc': 43.1053}\n",
      "Test:      {'precision': 42.093, 'recall': 35.4668, 'f1': 36.9907, 'auc': 72.8104, 'prauc': 42.6066}\n",
      "\n",
      "Validation-long: {'precision': 40.0907, 'recall': 36.9743, 'f1': 37.6822, 'auc': 70.4435, 'prauc': 48.0871}\n",
      "Test-long: {'precision': 40.0801, 'recall': 37.1542, 'f1': 38.235, 'auc': 72.9905, 'prauc': 45.7694}\n",
      "\n"
     ]
    },
    {
     "name": "stderr",
     "output_type": "stream",
     "text": [
      "Epoch 014: 100%|██████████| 59/59 [00:04<00:00, 14.28it/s, loss=0.2703]\n",
      "Running inference: 100%|██████████| 45/45 [00:02<00:00, 21.19it/s]\n",
      "Running inference: 100%|██████████| 45/45 [00:02<00:00, 21.13it/s]\n"
     ]
    },
    {
     "name": "stdout",
     "output_type": "stream",
     "text": [
      "Validation: {'precision': 43.1091, 'recall': 37.2891, 'f1': 38.2805, 'auc': 73.8851, 'prauc': 43.4007}\n",
      "Test:      {'precision': 42.1107, 'recall': 36.8051, 'f1': 37.9043, 'auc': 73.218, 'prauc': 42.6972}\n",
      "\n",
      "Validation-long: {'precision': 42.8725, 'recall': 38.7673, 'f1': 40.3491, 'auc': 71.7182, 'prauc': 50.0512}\n",
      "Test-long: {'precision': 42.3349, 'recall': 36.6528, 'f1': 38.3998, 'auc': 73.8094, 'prauc': 46.8368}\n",
      "\n"
     ]
    },
    {
     "name": "stderr",
     "output_type": "stream",
     "text": [
      "Epoch 015: 100%|██████████| 59/59 [00:04<00:00, 14.06it/s, loss=0.2605]\n",
      "Running inference: 100%|██████████| 45/45 [00:02<00:00, 18.93it/s]\n",
      "Running inference: 100%|██████████| 45/45 [00:02<00:00, 20.87it/s]\n"
     ]
    },
    {
     "name": "stdout",
     "output_type": "stream",
     "text": [
      "Validation: {'precision': 43.2791, 'recall': 36.3456, 'f1': 37.5027, 'auc': 73.4352, 'prauc': 43.0149}\n",
      "Test:      {'precision': 42.4259, 'recall': 36.0325, 'f1': 37.4989, 'auc': 72.1709, 'prauc': 42.216}\n",
      "\n",
      "Validation-long: {'precision': 43.3628, 'recall': 38.8677, 'f1': 39.1714, 'auc': 70.5134, 'prauc': 48.6171}\n",
      "Test-long: {'precision': 43.4251, 'recall': 39.1395, 'f1': 39.8392, 'auc': 72.7081, 'prauc': 46.3736}\n",
      "\n"
     ]
    },
    {
     "name": "stderr",
     "output_type": "stream",
     "text": [
      "Epoch 016: 100%|██████████| 59/59 [00:04<00:00, 14.18it/s, loss=0.2527]\n",
      "Running inference: 100%|██████████| 45/45 [00:02<00:00, 21.07it/s]\n",
      "Running inference: 100%|██████████| 45/45 [00:02<00:00, 21.08it/s]\n"
     ]
    },
    {
     "name": "stdout",
     "output_type": "stream",
     "text": [
      "Validation: {'precision': 41.5813, 'recall': 40.984, 'f1': 39.7205, 'auc': 73.5952, 'prauc': 42.8322}\n",
      "Test:      {'precision': 42.1521, 'recall': 39.8859, 'f1': 39.1566, 'auc': 72.4293, 'prauc': 42.43}\n",
      "\n",
      "Validation-long: {'precision': 40.7949, 'recall': 42.6948, 'f1': 40.9271, 'auc': 71.829, 'prauc': 48.5621}\n",
      "Test-long: {'precision': 38.5566, 'recall': 40.8327, 'f1': 39.0607, 'auc': 72.9278, 'prauc': 46.7534}\n",
      "\n"
     ]
    },
    {
     "name": "stderr",
     "output_type": "stream",
     "text": [
      "Epoch 017: 100%|██████████| 59/59 [00:04<00:00, 14.16it/s, loss=0.2401]\n",
      "Running inference: 100%|██████████| 45/45 [00:02<00:00, 21.15it/s]\n",
      "Running inference: 100%|██████████| 45/45 [00:02<00:00, 21.18it/s]\n"
     ]
    },
    {
     "name": "stdout",
     "output_type": "stream",
     "text": [
      "Validation: {'precision': 43.5495, 'recall': 34.1495, 'f1': 37.0795, 'auc': 72.9029, 'prauc': 42.2856}\n",
      "Test:      {'precision': 43.8547, 'recall': 33.5196, 'f1': 36.6391, 'auc': 72.9165, 'prauc': 42.0528}\n",
      "\n",
      "Validation-long: {'precision': 47.7924, 'recall': 35.5452, 'f1': 38.3568, 'auc': 70.6379, 'prauc': 49.398}\n",
      "Test-long: {'precision': 41.9156, 'recall': 34.1362, 'f1': 37.2401, 'auc': 73.6971, 'prauc': 45.8623}\n",
      "\n"
     ]
    },
    {
     "name": "stderr",
     "output_type": "stream",
     "text": [
      "Epoch 018: 100%|██████████| 59/59 [00:04<00:00, 14.47it/s, loss=0.2313]\n",
      "Running inference: 100%|██████████| 45/45 [00:02<00:00, 21.92it/s]\n",
      "Running inference: 100%|██████████| 45/45 [00:02<00:00, 21.12it/s]\n"
     ]
    },
    {
     "name": "stdout",
     "output_type": "stream",
     "text": [
      "Validation: {'precision': 44.1178, 'recall': 34.8317, 'f1': 37.6294, 'auc': 73.0165, 'prauc': 42.2569}\n",
      "Test:      {'precision': 42.7679, 'recall': 33.7511, 'f1': 36.9992, 'auc': 72.3314, 'prauc': 41.6722}\n",
      "\n",
      "Validation-long: {'precision': 42.9042, 'recall': 36.4969, 'f1': 38.9967, 'auc': 70.066, 'prauc': 48.3042}\n",
      "Test-long: {'precision': 48.169, 'recall': 35.5913, 'f1': 38.9143, 'auc': 73.8976, 'prauc': 46.393}\n",
      "\n"
     ]
    },
    {
     "name": "stderr",
     "output_type": "stream",
     "text": [
      "Epoch 019: 100%|██████████| 59/59 [00:04<00:00, 14.02it/s, loss=0.2242]\n",
      "Running inference: 100%|██████████| 45/45 [00:02<00:00, 21.05it/s]\n",
      "Running inference: 100%|██████████| 45/45 [00:02<00:00, 20.94it/s]\n"
     ]
    },
    {
     "name": "stdout",
     "output_type": "stream",
     "text": [
      "Validation: {'precision': 41.7941, 'recall': 37.3628, 'f1': 38.1714, 'auc': 72.8221, 'prauc': 42.0623}\n",
      "Test:      {'precision': 40.381, 'recall': 36.2736, 'f1': 37.3871, 'auc': 72.1798, 'prauc': 41.3588}\n",
      "\n",
      "Validation-long: {'precision': 42.4544, 'recall': 38.0725, 'f1': 39.1741, 'auc': 69.8215, 'prauc': 47.7917}\n",
      "Test-long: {'precision': 40.652, 'recall': 37.2098, 'f1': 38.4186, 'auc': 72.707, 'prauc': 45.9991}\n",
      "\n"
     ]
    },
    {
     "name": "stderr",
     "output_type": "stream",
     "text": [
      "Epoch 020: 100%|██████████| 59/59 [00:04<00:00, 14.12it/s, loss=0.2121]\n",
      "Running inference: 100%|██████████| 45/45 [00:02<00:00, 21.16it/s]\n",
      "Running inference: 100%|██████████| 45/45 [00:02<00:00, 18.97it/s]\n"
     ]
    },
    {
     "name": "stdout",
     "output_type": "stream",
     "text": [
      "Validation: {'precision': 41.5242, 'recall': 38.5234, 'f1': 39.4212, 'auc': 72.9293, 'prauc': 41.6884}\n",
      "Test:      {'precision': 42.5121, 'recall': 38.2551, 'f1': 39.5237, 'auc': 72.3112, 'prauc': 41.683}\n",
      "\n",
      "Validation-long: {'precision': 41.1345, 'recall': 40.3588, 'f1': 40.4418, 'auc': 70.1234, 'prauc': 48.4903}\n",
      "Test-long: {'precision': 41.9792, 'recall': 40.7558, 'f1': 40.8128, 'auc': 73.902, 'prauc': 46.5504}\n",
      "\n"
     ]
    },
    {
     "name": "stderr",
     "output_type": "stream",
     "text": [
      "Epoch 021: 100%|██████████| 59/59 [00:04<00:00, 14.17it/s, loss=0.2045]\n",
      "Running inference: 100%|██████████| 45/45 [00:02<00:00, 21.39it/s]\n",
      "Running inference: 100%|██████████| 45/45 [00:02<00:00, 21.34it/s]\n"
     ]
    },
    {
     "name": "stdout",
     "output_type": "stream",
     "text": [
      "Validation: {'precision': 40.7844, 'recall': 35.7265, 'f1': 36.9696, 'auc': 72.4807, 'prauc': 41.2872}\n",
      "Test:      {'precision': 42.4514, 'recall': 35.6243, 'f1': 37.2234, 'auc': 72.0465, 'prauc': 41.2037}\n",
      "\n",
      "Validation-long: {'precision': 41.561, 'recall': 37.7512, 'f1': 39.1784, 'auc': 69.0231, 'prauc': 47.153}\n",
      "Test-long: {'precision': 41.0545, 'recall': 36.4164, 'f1': 38.0835, 'auc': 74.0331, 'prauc': 44.9309}\n",
      "\n",
      "\n",
      "Early stopping triggered (no improvement for 5 epochs).\n",
      "\n",
      "Best validation performance:\n",
      "{'global': {'precision': 41.5813, 'recall': 40.984, 'f1': 39.7205, 'auc': 73.5952, 'prauc': 42.8322}, 'per_class':                                            precision   recall       f1  \\\n",
      "Acute and unspecified renal failure          47.6087  50.4608  48.9933   \n",
      "Acute cerebrovascular disease                16.6667   5.5556   8.3333   \n",
      "Acute myocardial infarction                  30.4348   7.3684  11.8644   \n",
      "Cardiac dysrhythmias                         64.9007  71.5328  68.0556   \n",
      "Chronic kidney disease                       59.9548  77.9412  67.7749   \n",
      "Chronic obstructive pulmonary disease        55.0265  55.3191  55.1724   \n",
      "Conduction disorders                          0.0000   0.0000   0.0000   \n",
      "Congestive heart failure; nonhypertensive    60.9023  75.0000  67.2199   \n",
      "Coronary atherosclerosis and related         56.4356  66.4723  61.0442   \n",
      "Disorders of lipid metabolism                57.5179  63.2546  60.2500   \n",
      "Essential hypertension                       59.8778  57.0874  58.4493   \n",
      "Fluid and electrolyte disorders              48.3296  37.8049  42.4242   \n",
      "Gastrointestinal hemorrhage                  22.2222   8.0000  11.7647   \n",
      "Hypertension with complications              53.6170  78.9969  63.8783   \n",
      "Other liver diseases                          0.0000   0.0000   0.0000   \n",
      "Other lower respiratory disease              52.1368  59.3385  55.5050   \n",
      "Pneumonia                                    20.4082   6.7114  10.1010   \n",
      "Septicemia (except in labor)                 42.4242  16.8675  24.1379   \n",
      "\n",
      "                                               auc    prauc  \n",
      "Acute and unspecified renal failure        68.2933  46.6412  \n",
      "Acute cerebrovascular disease              75.6466   4.6966  \n",
      "Acute myocardial infarction                69.0334  16.5363  \n",
      "Cardiac dysrhythmias                       81.0531  76.6112  \n",
      "Chronic kidney disease                     89.3550  74.3282  \n",
      "Chronic obstructive pulmonary disease      84.0332  46.7665  \n",
      "Conduction disorders                       66.0054   3.9709  \n",
      "Congestive heart failure; nonhypertensive  81.1909  73.2518  \n",
      "Coronary atherosclerosis and related       82.6595  58.7218  \n",
      "Disorders of lipid metabolism              79.2027  59.5414  \n",
      "Essential hypertension                     76.2585  64.5071  \n",
      "Fluid and electrolyte disorders            58.9543  47.8639  \n",
      "Gastrointestinal hemorrhage                66.0439  14.5445  \n",
      "Hypertension with complications            88.4465  70.3775  \n",
      "Other liver diseases                       64.0325   4.6993  \n",
      "Other lower respiratory disease            69.8979  56.0009  \n",
      "Pneumonia                                  57.7229  14.2201  \n",
      "Septicemia (except in labor)               66.8845  37.7000  }\n",
      "Corresponding test performance:\n",
      "{'global': {'precision': 42.1521, 'recall': 39.8859, 'f1': 39.1566, 'auc': 72.4293, 'prauc': 42.43}, 'per_class':                                            precision   recall       f1  \\\n",
      "Acute and unspecified renal failure          45.0111  47.5410  46.2415   \n",
      "Acute cerebrovascular disease                20.0000   4.1667   6.8966   \n",
      "Acute myocardial infarction                  26.0870   6.1224   9.9174   \n",
      "Cardiac dysrhythmias                         64.3599  69.6629  66.9065   \n",
      "Chronic kidney disease                       62.5304  78.1155  69.4595   \n",
      "Chronic obstructive pulmonary disease        49.1429  50.5882  49.8551   \n",
      "Conduction disorders                          0.0000   0.0000   0.0000   \n",
      "Congestive heart failure; nonhypertensive    63.8669  75.1866  69.0660   \n",
      "Coronary atherosclerosis and related         55.9140  64.7975  60.0289   \n",
      "Disorders of lipid metabolism                56.7358  60.0000  58.3222   \n",
      "Essential hypertension                       61.0887  60.1190  60.6000   \n",
      "Fluid and electrolyte disorders              47.4388  38.1038  42.2619   \n",
      "Gastrointestinal hemorrhage                  30.7692   8.3333  13.1148   \n",
      "Hypertension with complications              57.2748  81.0458  67.1177   \n",
      "Other liver diseases                          0.0000   0.0000   0.0000   \n",
      "Other lower respiratory disease              49.9133  50.6151  50.2618   \n",
      "Pneumonia                                    18.6047   4.2553   6.9264   \n",
      "Septicemia (except in labor)                 50.0000  19.2926  27.8422   \n",
      "\n",
      "                                               auc    prauc  \n",
      "Acute and unspecified renal failure        67.9109  44.5433  \n",
      "Acute cerebrovascular disease              65.1786   5.9257  \n",
      "Acute myocardial infarction                74.1106  17.5126  \n",
      "Cardiac dysrhythmias                       79.3509  72.1860  \n",
      "Chronic kidney disease                     89.8701  73.5910  \n",
      "Chronic obstructive pulmonary disease      81.5512  44.9087  \n",
      "Conduction disorders                       61.5114   3.4040  \n",
      "Congestive heart failure; nonhypertensive  81.4370  72.0272  \n",
      "Coronary atherosclerosis and related       84.4280  59.5768  \n",
      "Disorders of lipid metabolism              80.6890  59.3638  \n",
      "Essential hypertension                     76.3519  62.1502  \n",
      "Fluid and electrolyte disorders            59.0817  47.0944  \n",
      "Gastrointestinal hemorrhage                62.8841  16.8487  \n",
      "Hypertension with complications            89.0023  71.7716  \n",
      "Other liver diseases                       60.8375   2.6586  \n",
      "Other lower respiratory disease            64.1498  56.7733  \n",
      "Pneumonia                                  60.1107  17.9928  \n",
      "Septicemia (except in labor)               65.2723  35.4104  }\n",
      "Corresponding test-long performance:\n",
      "{'global': {'precision': 38.5566, 'recall': 40.8327, 'f1': 39.0607, 'auc': 72.9278, 'prauc': 46.7534}, 'per_class':                                            precision   recall       f1  \\\n",
      "Acute and unspecified renal failure          51.6129  54.2373  52.8926   \n",
      "Acute cerebrovascular disease                 0.0000   0.0000   0.0000   \n",
      "Acute myocardial infarction                   0.0000   0.0000   0.0000   \n",
      "Cardiac dysrhythmias                         56.1798  62.5000  59.1716   \n",
      "Chronic kidney disease                       74.1176  80.7692  77.3006   \n",
      "Chronic obstructive pulmonary disease        33.3333  46.1538  38.7097   \n",
      "Conduction disorders                          0.0000   0.0000   0.0000   \n",
      "Congestive heart failure; nonhypertensive    67.7686  89.1304  76.9953   \n",
      "Coronary atherosclerosis and related         61.4035  79.5455  69.3069   \n",
      "Disorders of lipid metabolism                49.0196  51.0204  50.0000   \n",
      "Essential hypertension                       45.6522  42.8571  44.2105   \n",
      "Fluid and electrolyte disorders              55.6962  44.8980  49.7175   \n",
      "Gastrointestinal hemorrhage                  20.0000   5.5556   8.6957   \n",
      "Hypertension with complications              69.6203  80.8824  74.8299   \n",
      "Other liver diseases                          0.0000   0.0000   0.0000   \n",
      "Other lower respiratory disease              59.6154  65.9574  62.6263   \n",
      "Pneumonia                                     0.0000   0.0000   0.0000   \n",
      "Septicemia (except in labor)                 50.0000  31.4815  38.6364   \n",
      "\n",
      "                                               auc    prauc  \n",
      "Acute and unspecified renal failure        71.9071  56.7311  \n",
      "Acute cerebrovascular disease              97.2973   8.3333  \n",
      "Acute myocardial infarction                68.8636  20.2942  \n",
      "Cardiac dysrhythmias                       71.1675  70.1485  \n",
      "Chronic kidney disease                     88.7227  86.2491  \n",
      "Chronic obstructive pulmonary disease      77.1875  31.4933  \n",
      "Conduction disorders                       51.6854   6.0879  \n",
      "Congestive heart failure; nonhypertensive  80.4810  77.8063  \n",
      "Coronary atherosclerosis and related       88.0682  76.4169  \n",
      "Disorders of lipid metabolism              75.4655  56.6978  \n",
      "Essential hypertension                     72.6352  56.2578  \n",
      "Fluid and electrolyte disorders            56.4471  56.0173  \n",
      "Gastrointestinal hemorrhage                70.4861  24.2650  \n",
      "Hypertension with complications            87.8240  83.2686  \n",
      "Other liver diseases                       60.6557   1.8745  \n",
      "Other lower respiratory disease            67.8191  72.4628  \n",
      "Pneumonia                                  61.2563  15.3475  \n",
      "Septicemia (except in labor)               64.7306  41.8090  }\n",
      "================================4==================================\n"
     ]
    },
    {
     "name": "stderr",
     "output_type": "stream",
     "text": [
      "Epoch 001: 100%|██████████| 59/59 [00:04<00:00, 14.29it/s, loss=0.4714]\n",
      "Running inference: 100%|██████████| 45/45 [00:02<00:00, 21.85it/s]\n",
      "Running inference: 100%|██████████| 45/45 [00:02<00:00, 21.82it/s]\n"
     ]
    },
    {
     "name": "stdout",
     "output_type": "stream",
     "text": [
      "Validation: {'precision': 32.3032, 'recall': 17.4454, 'f1': 21.1683, 'auc': 66.6374, 'prauc': 36.6426}\n",
      "Test:      {'precision': 31.0288, 'recall': 16.6109, 'f1': 20.2611, 'auc': 67.041, 'prauc': 36.1409}\n",
      "\n",
      "Validation-long: {'precision': 33.0642, 'recall': 21.3785, 'f1': 24.5385, 'auc': 64.1648, 'prauc': 41.9695}\n",
      "Test-long: {'precision': 33.8062, 'recall': 19.7755, 'f1': 23.3392, 'auc': 64.9242, 'prauc': 39.8691}\n",
      "\n"
     ]
    },
    {
     "name": "stderr",
     "output_type": "stream",
     "text": [
      "Epoch 002: 100%|██████████| 59/59 [00:03<00:00, 14.82it/s, loss=0.4008]\n",
      "Running inference: 100%|██████████| 45/45 [00:02<00:00, 21.68it/s]\n",
      "Running inference: 100%|██████████| 45/45 [00:02<00:00, 21.83it/s]\n"
     ]
    },
    {
     "name": "stdout",
     "output_type": "stream",
     "text": [
      "Validation: {'precision': 37.4806, 'recall': 23.3616, 'f1': 25.7008, 'auc': 71.4383, 'prauc': 40.1665}\n",
      "Test:      {'precision': 32.0134, 'recall': 22.313, 'f1': 24.9856, 'auc': 72.4381, 'prauc': 39.8559}\n",
      "\n",
      "Validation-long: {'precision': 33.713, 'recall': 28.2325, 'f1': 29.0801, 'auc': 70.3554, 'prauc': 47.601}\n",
      "Test-long: {'precision': 34.2788, 'recall': 24.8293, 'f1': 26.7521, 'auc': 72.4135, 'prauc': 44.6918}\n",
      "\n"
     ]
    },
    {
     "name": "stderr",
     "output_type": "stream",
     "text": [
      "Epoch 003: 100%|██████████| 59/59 [00:04<00:00, 14.60it/s, loss=0.3835]\n",
      "Running inference: 100%|██████████| 45/45 [00:02<00:00, 22.18it/s]\n",
      "Running inference: 100%|██████████| 45/45 [00:02<00:00, 22.27it/s]\n"
     ]
    },
    {
     "name": "stdout",
     "output_type": "stream",
     "text": [
      "Validation: {'precision': 35.9735, 'recall': 25.1457, 'f1': 28.2787, 'auc': 72.8382, 'prauc': 41.5088}\n",
      "Test:      {'precision': 40.985, 'recall': 24.123, 'f1': 27.4735, 'auc': 73.7015, 'prauc': 41.4811}\n",
      "\n",
      "Validation-long: {'precision': 38.1146, 'recall': 27.972, 'f1': 30.2672, 'auc': 70.4264, 'prauc': 47.463}\n",
      "Test-long: {'precision': 38.6187, 'recall': 25.2238, 'f1': 28.483, 'auc': 72.8851, 'prauc': 44.9574}\n",
      "\n"
     ]
    },
    {
     "name": "stderr",
     "output_type": "stream",
     "text": [
      "Epoch 004: 100%|██████████| 59/59 [00:03<00:00, 14.98it/s, loss=0.3710]\n",
      "Running inference: 100%|██████████| 45/45 [00:02<00:00, 22.23it/s]\n",
      "Running inference: 100%|██████████| 45/45 [00:02<00:00, 22.28it/s]\n"
     ]
    },
    {
     "name": "stdout",
     "output_type": "stream",
     "text": [
      "Validation: {'precision': 39.5563, 'recall': 31.4879, 'f1': 33.2701, 'auc': 73.7629, 'prauc': 42.8927}\n",
      "Test:      {'precision': 44.7399, 'recall': 30.8176, 'f1': 33.1912, 'auc': 74.4738, 'prauc': 42.8306}\n",
      "\n",
      "Validation-long: {'precision': 45.3289, 'recall': 33.7886, 'f1': 35.4332, 'auc': 71.2775, 'prauc': 49.1741}\n",
      "Test-long: {'precision': 41.3725, 'recall': 31.0565, 'f1': 33.7442, 'auc': 73.6259, 'prauc': 44.7878}\n",
      "\n"
     ]
    },
    {
     "name": "stderr",
     "output_type": "stream",
     "text": [
      "Epoch 005: 100%|██████████| 59/59 [00:04<00:00, 14.21it/s, loss=0.3603]\n",
      "Running inference: 100%|██████████| 45/45 [00:02<00:00, 22.37it/s]\n",
      "Running inference: 100%|██████████| 45/45 [00:02<00:00, 21.97it/s]\n"
     ]
    },
    {
     "name": "stdout",
     "output_type": "stream",
     "text": [
      "Validation: {'precision': 39.9085, 'recall': 25.7051, 'f1': 29.3774, 'auc': 74.4562, 'prauc': 43.6091}\n",
      "Test:      {'precision': 48.0931, 'recall': 24.9225, 'f1': 28.9169, 'auc': 74.7588, 'prauc': 43.4125}\n",
      "\n",
      "Validation-long: {'precision': 42.9858, 'recall': 31.2229, 'f1': 34.3129, 'auc': 72.2225, 'prauc': 50.4991}\n",
      "Test-long: {'precision': 41.7343, 'recall': 26.8279, 'f1': 30.8044, 'auc': 73.9196, 'prauc': 45.4544}\n",
      "\n"
     ]
    },
    {
     "name": "stderr",
     "output_type": "stream",
     "text": [
      "Epoch 006: 100%|██████████| 59/59 [00:03<00:00, 14.89it/s, loss=0.3507]\n",
      "Running inference: 100%|██████████| 45/45 [00:02<00:00, 21.66it/s]\n",
      "Running inference: 100%|██████████| 45/45 [00:02<00:00, 21.88it/s]\n"
     ]
    },
    {
     "name": "stdout",
     "output_type": "stream",
     "text": [
      "Validation: {'precision': 44.2539, 'recall': 35.9164, 'f1': 36.0339, 'auc': 74.5016, 'prauc': 44.5075}\n",
      "Test:      {'precision': 42.12, 'recall': 35.2873, 'f1': 35.7015, 'auc': 74.6341, 'prauc': 43.5764}\n",
      "\n",
      "Validation-long: {'precision': 45.0041, 'recall': 39.8061, 'f1': 39.491, 'auc': 72.2246, 'prauc': 50.5614}\n",
      "Test-long: {'precision': 41.8074, 'recall': 35.5232, 'f1': 36.596, 'auc': 73.7866, 'prauc': 45.244}\n",
      "\n"
     ]
    },
    {
     "name": "stderr",
     "output_type": "stream",
     "text": [
      "Epoch 007: 100%|██████████| 59/59 [00:03<00:00, 14.86it/s, loss=0.3371]\n",
      "Running inference: 100%|██████████| 45/45 [00:02<00:00, 22.02it/s]\n",
      "Running inference: 100%|██████████| 45/45 [00:02<00:00, 21.96it/s]\n"
     ]
    },
    {
     "name": "stdout",
     "output_type": "stream",
     "text": [
      "Validation: {'precision': 43.291, 'recall': 34.741, 'f1': 37.392, 'auc': 75.0736, 'prauc': 45.0154}\n",
      "Test:      {'precision': 41.9735, 'recall': 33.8189, 'f1': 36.5407, 'auc': 75.3423, 'prauc': 44.4483}\n",
      "\n",
      "Validation-long: {'precision': 43.463, 'recall': 36.8772, 'f1': 39.3029, 'auc': 72.6067, 'prauc': 50.6909}\n",
      "Test-long: {'precision': 42.7929, 'recall': 33.6675, 'f1': 36.383, 'auc': 75.7266, 'prauc': 47.8502}\n",
      "\n"
     ]
    },
    {
     "name": "stderr",
     "output_type": "stream",
     "text": [
      "Epoch 008: 100%|██████████| 59/59 [00:03<00:00, 14.96it/s, loss=0.3270]\n",
      "Running inference: 100%|██████████| 45/45 [00:02<00:00, 22.13it/s]\n",
      "Running inference: 100%|██████████| 45/45 [00:02<00:00, 21.98it/s]\n"
     ]
    },
    {
     "name": "stdout",
     "output_type": "stream",
     "text": [
      "Validation: {'precision': 41.843, 'recall': 34.9458, 'f1': 36.86, 'auc': 74.5212, 'prauc': 44.3495}\n",
      "Test:      {'precision': 43.3727, 'recall': 33.8159, 'f1': 36.136, 'auc': 74.311, 'prauc': 44.3502}\n",
      "\n",
      "Validation-long: {'precision': 44.6829, 'recall': 36.6187, 'f1': 39.1264, 'auc': 71.7106, 'prauc': 51.2385}\n",
      "Test-long: {'precision': 41.5291, 'recall': 35.0491, 'f1': 37.5516, 'auc': 73.65, 'prauc': 47.2532}\n",
      "\n"
     ]
    },
    {
     "name": "stderr",
     "output_type": "stream",
     "text": [
      "Epoch 009: 100%|██████████| 59/59 [00:03<00:00, 14.90it/s, loss=0.3232]\n",
      "Running inference: 100%|██████████| 45/45 [00:02<00:00, 22.12it/s]\n",
      "Running inference: 100%|██████████| 45/45 [00:02<00:00, 22.05it/s]\n"
     ]
    },
    {
     "name": "stdout",
     "output_type": "stream",
     "text": [
      "Validation: {'precision': 43.143, 'recall': 37.0927, 'f1': 37.9874, 'auc': 75.0825, 'prauc': 45.0231}\n",
      "Test:      {'precision': 41.4393, 'recall': 36.5276, 'f1': 37.7281, 'auc': 74.9884, 'prauc': 44.3426}\n",
      "\n",
      "Validation-long: {'precision': 43.1348, 'recall': 40.1524, 'f1': 40.725, 'auc': 72.4974, 'prauc': 51.5654}\n",
      "Test-long: {'precision': 41.5203, 'recall': 37.7838, 'f1': 39.1409, 'auc': 74.4606, 'prauc': 47.0129}\n",
      "\n"
     ]
    },
    {
     "name": "stderr",
     "output_type": "stream",
     "text": [
      "Epoch 010: 100%|██████████| 59/59 [00:03<00:00, 14.97it/s, loss=0.3096]\n",
      "Running inference: 100%|██████████| 45/45 [00:02<00:00, 19.82it/s]\n",
      "Running inference: 100%|██████████| 45/45 [00:02<00:00, 21.96it/s]\n"
     ]
    },
    {
     "name": "stdout",
     "output_type": "stream",
     "text": [
      "Validation: {'precision': 44.8197, 'recall': 37.0167, 'f1': 38.3325, 'auc': 74.2141, 'prauc': 43.9501}\n",
      "Test:      {'precision': 40.6404, 'recall': 36.6035, 'f1': 37.7106, 'auc': 74.3801, 'prauc': 44.0006}\n",
      "\n",
      "Validation-long: {'precision': 41.5271, 'recall': 39.9798, 'f1': 39.6465, 'auc': 71.763, 'prauc': 49.1103}\n",
      "Test-long: {'precision': 42.5854, 'recall': 39.1894, 'f1': 39.7576, 'auc': 74.7477, 'prauc': 46.9357}\n",
      "\n"
     ]
    },
    {
     "name": "stderr",
     "output_type": "stream",
     "text": [
      "Epoch 011: 100%|██████████| 59/59 [00:03<00:00, 14.98it/s, loss=0.2979]\n",
      "Running inference: 100%|██████████| 45/45 [00:02<00:00, 22.32it/s]\n",
      "Running inference: 100%|██████████| 45/45 [00:02<00:00, 22.18it/s]\n"
     ]
    },
    {
     "name": "stdout",
     "output_type": "stream",
     "text": [
      "Validation: {'precision': 42.2398, 'recall': 34.1367, 'f1': 36.3306, 'auc': 74.1592, 'prauc': 43.7714}\n",
      "Test:      {'precision': 42.9379, 'recall': 33.3185, 'f1': 35.716, 'auc': 74.2015, 'prauc': 43.6719}\n",
      "\n",
      "Validation-long: {'precision': 44.4194, 'recall': 37.514, 'f1': 40.059, 'auc': 72.5141, 'prauc': 50.3304}\n",
      "Test-long: {'precision': 43.0374, 'recall': 33.11, 'f1': 36.3121, 'auc': 74.5315, 'prauc': 47.5137}\n",
      "\n"
     ]
    },
    {
     "name": "stderr",
     "output_type": "stream",
     "text": [
      "Epoch 012: 100%|██████████| 59/59 [00:03<00:00, 15.09it/s, loss=0.2885]\n",
      "Running inference: 100%|██████████| 45/45 [00:01<00:00, 22.60it/s]\n",
      "Running inference: 100%|██████████| 45/45 [00:02<00:00, 22.21it/s]\n"
     ]
    },
    {
     "name": "stdout",
     "output_type": "stream",
     "text": [
      "Validation: {'precision': 41.792, 'recall': 39.0072, 'f1': 38.6799, 'auc': 74.3218, 'prauc': 44.3533}\n",
      "Test:      {'precision': 42.1585, 'recall': 38.4115, 'f1': 38.4124, 'auc': 73.8281, 'prauc': 43.7349}\n",
      "\n",
      "Validation-long: {'precision': 42.7883, 'recall': 41.9181, 'f1': 41.7339, 'auc': 72.8736, 'prauc': 51.0159}\n",
      "Test-long: {'precision': 41.5973, 'recall': 40.0023, 'f1': 40.3608, 'auc': 74.1123, 'prauc': 46.918}\n",
      "\n"
     ]
    },
    {
     "name": "stderr",
     "output_type": "stream",
     "text": [
      "Epoch 013: 100%|██████████| 59/59 [00:03<00:00, 15.24it/s, loss=0.2803]\n",
      "Running inference: 100%|██████████| 45/45 [00:02<00:00, 22.27it/s]\n",
      "Running inference: 100%|██████████| 45/45 [00:02<00:00, 22.29it/s]\n"
     ]
    },
    {
     "name": "stdout",
     "output_type": "stream",
     "text": [
      "Validation: {'precision': 42.1025, 'recall': 37.6737, 'f1': 38.6543, 'auc': 73.8693, 'prauc': 43.4509}\n",
      "Test:      {'precision': 41.9354, 'recall': 36.7931, 'f1': 37.7529, 'auc': 73.6752, 'prauc': 43.1773}\n",
      "\n",
      "Validation-long: {'precision': 43.0552, 'recall': 38.9335, 'f1': 40.3383, 'auc': 71.4225, 'prauc': 49.4984}\n",
      "Test-long: {'precision': 40.5225, 'recall': 37.5648, 'f1': 38.5353, 'auc': 74.3689, 'prauc': 46.3999}\n",
      "\n"
     ]
    },
    {
     "name": "stderr",
     "output_type": "stream",
     "text": [
      "Epoch 014: 100%|██████████| 59/59 [00:03<00:00, 15.03it/s, loss=0.2702]\n",
      "Running inference: 100%|██████████| 45/45 [00:02<00:00, 22.10it/s]\n",
      "Running inference: 100%|██████████| 45/45 [00:02<00:00, 22.21it/s]\n"
     ]
    },
    {
     "name": "stdout",
     "output_type": "stream",
     "text": [
      "Validation: {'precision': 44.5208, 'recall': 35.0251, 'f1': 37.3717, 'auc': 74.1161, 'prauc': 43.2896}\n",
      "Test:      {'precision': 44.0697, 'recall': 33.5488, 'f1': 36.0768, 'auc': 73.5032, 'prauc': 42.8601}\n",
      "\n",
      "Validation-long: {'precision': 41.9962, 'recall': 37.9117, 'f1': 39.3611, 'auc': 71.8235, 'prauc': 48.3956}\n",
      "Test-long: {'precision': 40.0301, 'recall': 35.2539, 'f1': 36.924, 'auc': 73.9143, 'prauc': 46.4293}\n",
      "\n"
     ]
    },
    {
     "name": "stderr",
     "output_type": "stream",
     "text": [
      "Epoch 015: 100%|██████████| 59/59 [00:03<00:00, 15.12it/s, loss=0.2628]\n",
      "Running inference: 100%|██████████| 45/45 [00:01<00:00, 22.58it/s]\n",
      "Running inference: 100%|██████████| 45/45 [00:02<00:00, 22.41it/s]\n"
     ]
    },
    {
     "name": "stdout",
     "output_type": "stream",
     "text": [
      "Validation: {'precision': 42.5022, 'recall': 35.9761, 'f1': 37.5491, 'auc': 73.2036, 'prauc': 42.6238}\n",
      "Test:      {'precision': 42.978, 'recall': 35.1846, 'f1': 37.1395, 'auc': 72.312, 'prauc': 42.2354}\n",
      "\n",
      "Validation-long: {'precision': 44.1946, 'recall': 37.4811, 'f1': 39.3124, 'auc': 71.6364, 'prauc': 47.4564}\n",
      "Test-long: {'precision': 40.6235, 'recall': 35.1837, 'f1': 37.3761, 'auc': 71.784, 'prauc': 44.7933}\n",
      "\n"
     ]
    },
    {
     "name": "stderr",
     "output_type": "stream",
     "text": [
      "Epoch 016: 100%|██████████| 59/59 [00:04<00:00, 14.22it/s, loss=0.2534]\n",
      "Running inference: 100%|██████████| 45/45 [00:02<00:00, 22.48it/s]\n",
      "Running inference: 100%|██████████| 45/45 [00:02<00:00, 22.34it/s]\n"
     ]
    },
    {
     "name": "stdout",
     "output_type": "stream",
     "text": [
      "Validation: {'precision': 43.4627, 'recall': 37.728, 'f1': 39.0588, 'auc': 73.8751, 'prauc': 43.2249}\n",
      "Test:      {'precision': 47.7167, 'recall': 36.0983, 'f1': 38.0179, 'auc': 72.9208, 'prauc': 42.644}\n",
      "\n",
      "Validation-long: {'precision': 43.3044, 'recall': 40.0601, 'f1': 41.2904, 'auc': 71.4714, 'prauc': 49.4108}\n",
      "Test-long: {'precision': 43.6792, 'recall': 36.6767, 'f1': 38.7191, 'auc': 73.3684, 'prauc': 46.8575}\n",
      "\n"
     ]
    },
    {
     "name": "stderr",
     "output_type": "stream",
     "text": [
      "Epoch 017: 100%|██████████| 59/59 [00:03<00:00, 15.17it/s, loss=0.2472]\n",
      "Running inference: 100%|██████████| 45/45 [00:02<00:00, 22.41it/s]\n",
      "Running inference: 100%|██████████| 45/45 [00:02<00:00, 22.24it/s]\n"
     ]
    },
    {
     "name": "stdout",
     "output_type": "stream",
     "text": [
      "Validation: {'precision': 42.2802, 'recall': 37.3805, 'f1': 38.0935, 'auc': 73.2885, 'prauc': 42.7317}\n",
      "Test:      {'precision': 46.9298, 'recall': 36.5629, 'f1': 37.8687, 'auc': 72.7548, 'prauc': 42.6111}\n",
      "\n",
      "Validation-long: {'precision': 41.3883, 'recall': 39.5483, 'f1': 39.8047, 'auc': 71.0144, 'prauc': 47.9319}\n",
      "Test-long: {'precision': 40.7037, 'recall': 37.5942, 'f1': 38.3976, 'auc': 73.3097, 'prauc': 45.8862}\n",
      "\n"
     ]
    },
    {
     "name": "stderr",
     "output_type": "stream",
     "text": [
      "Epoch 018: 100%|██████████| 59/59 [00:03<00:00, 15.05it/s, loss=0.2344]\n",
      "Running inference: 100%|██████████| 45/45 [00:02<00:00, 22.31it/s]\n",
      "Running inference: 100%|██████████| 45/45 [00:02<00:00, 22.22it/s]\n"
     ]
    },
    {
     "name": "stdout",
     "output_type": "stream",
     "text": [
      "Validation: {'precision': 41.6496, 'recall': 38.9161, 'f1': 39.3119, 'auc': 73.3082, 'prauc': 42.4619}\n",
      "Test:      {'precision': 42.9425, 'recall': 37.7104, 'f1': 38.6405, 'auc': 73.2557, 'prauc': 42.3789}\n",
      "\n",
      "Validation-long: {'precision': 40.9628, 'recall': 41.6294, 'f1': 41.0907, 'auc': 70.8362, 'prauc': 47.5217}\n",
      "Test-long: {'precision': 39.9564, 'recall': 38.7153, 'f1': 38.5021, 'auc': 74.2263, 'prauc': 45.9841}\n",
      "\n"
     ]
    },
    {
     "name": "stderr",
     "output_type": "stream",
     "text": [
      "Epoch 019: 100%|██████████| 59/59 [00:03<00:00, 14.98it/s, loss=0.2277]\n",
      "Running inference: 100%|██████████| 45/45 [00:02<00:00, 22.34it/s]\n",
      "Running inference: 100%|██████████| 45/45 [00:02<00:00, 22.23it/s]\n"
     ]
    },
    {
     "name": "stdout",
     "output_type": "stream",
     "text": [
      "Validation: {'precision': 40.76, 'recall': 38.1971, 'f1': 38.5168, 'auc': 73.1906, 'prauc': 42.5381}\n",
      "Test:      {'precision': 43.887, 'recall': 37.6968, 'f1': 38.6217, 'auc': 72.8145, 'prauc': 42.422}\n",
      "\n",
      "Validation-long: {'precision': 42.71, 'recall': 40.7749, 'f1': 41.2243, 'auc': 70.279, 'prauc': 48.2511}\n",
      "Test-long: {'precision': 40.0434, 'recall': 38.6744, 'f1': 39.1585, 'auc': 72.4535, 'prauc': 45.3072}\n",
      "\n"
     ]
    },
    {
     "name": "stderr",
     "output_type": "stream",
     "text": [
      "Epoch 020: 100%|██████████| 59/59 [00:03<00:00, 14.98it/s, loss=0.2161]\n",
      "Running inference: 100%|██████████| 45/45 [00:02<00:00, 22.34it/s]\n",
      "Running inference: 100%|██████████| 45/45 [00:02<00:00, 22.13it/s]\n"
     ]
    },
    {
     "name": "stdout",
     "output_type": "stream",
     "text": [
      "Validation: {'precision': 40.9249, 'recall': 38.7802, 'f1': 38.9897, 'auc': 72.8747, 'prauc': 42.1019}\n",
      "Test:      {'precision': 40.1891, 'recall': 37.4016, 'f1': 38.0953, 'auc': 72.7133, 'prauc': 41.6179}\n",
      "\n",
      "Validation-long: {'precision': 39.8423, 'recall': 38.6032, 'f1': 38.7513, 'auc': 70.4763, 'prauc': 47.4167}\n",
      "Test-long: {'precision': 39.4104, 'recall': 38.2913, 'f1': 38.1045, 'auc': 73.026, 'prauc': 44.9255}\n",
      "\n"
     ]
    },
    {
     "name": "stderr",
     "output_type": "stream",
     "text": [
      "Epoch 021: 100%|██████████| 59/59 [00:03<00:00, 15.09it/s, loss=0.2081]\n",
      "Running inference: 100%|██████████| 45/45 [00:02<00:00, 20.12it/s]\n",
      "Running inference: 100%|██████████| 45/45 [00:02<00:00, 22.21it/s]\n"
     ]
    },
    {
     "name": "stdout",
     "output_type": "stream",
     "text": [
      "Validation: {'precision': 42.2056, 'recall': 38.8788, 'f1': 39.391, 'auc': 72.6107, 'prauc': 41.883}\n",
      "Test:      {'precision': 41.9148, 'recall': 38.2127, 'f1': 39.0854, 'auc': 72.3688, 'prauc': 41.6143}\n",
      "\n",
      "Validation-long: {'precision': 41.3855, 'recall': 37.8824, 'f1': 38.5533, 'auc': 69.7857, 'prauc': 47.3449}\n",
      "Test-long: {'precision': 41.1824, 'recall': 39.5531, 'f1': 39.8293, 'auc': 72.5941, 'prauc': 45.1049}\n",
      "\n"
     ]
    },
    {
     "name": "stderr",
     "output_type": "stream",
     "text": [
      "Epoch 022: 100%|██████████| 59/59 [00:03<00:00, 14.91it/s, loss=0.2017]\n",
      "Running inference: 100%|██████████| 45/45 [00:02<00:00, 22.06it/s]\n",
      "Running inference: 100%|██████████| 45/45 [00:02<00:00, 22.12it/s]\n"
     ]
    },
    {
     "name": "stdout",
     "output_type": "stream",
     "text": [
      "Validation: {'precision': 40.8109, 'recall': 36.9259, 'f1': 37.813, 'auc': 72.0691, 'prauc': 41.2177}\n",
      "Test:      {'precision': 43.3609, 'recall': 37.2584, 'f1': 38.1377, 'auc': 71.2315, 'prauc': 41.5248}\n",
      "\n",
      "Validation-long: {'precision': 42.5062, 'recall': 38.934, 'f1': 40.1627, 'auc': 70.4117, 'prauc': 47.402}\n",
      "Test-long: {'precision': 41.9771, 'recall': 38.0772, 'f1': 39.6791, 'auc': 72.0657, 'prauc': 45.5947}\n",
      "\n"
     ]
    },
    {
     "name": "stderr",
     "output_type": "stream",
     "text": [
      "Epoch 023: 100%|██████████| 59/59 [00:03<00:00, 15.06it/s, loss=0.1907]\n",
      "Running inference: 100%|██████████| 45/45 [00:02<00:00, 22.33it/s]\n",
      "Running inference: 100%|██████████| 45/45 [00:02<00:00, 22.27it/s]\n"
     ]
    },
    {
     "name": "stdout",
     "output_type": "stream",
     "text": [
      "Validation: {'precision': 43.1068, 'recall': 39.0959, 'f1': 39.84, 'auc': 72.395, 'prauc': 41.609}\n",
      "Test:      {'precision': 41.086, 'recall': 38.2153, 'f1': 39.0049, 'auc': 72.0704, 'prauc': 41.3593}\n",
      "\n",
      "Validation-long: {'precision': 42.6411, 'recall': 40.6092, 'f1': 41.0882, 'auc': 70.4715, 'prauc': 48.2549}\n",
      "Test-long: {'precision': 40.7608, 'recall': 38.757, 'f1': 39.3179, 'auc': 70.5886, 'prauc': 44.1407}\n",
      "\n"
     ]
    },
    {
     "name": "stderr",
     "output_type": "stream",
     "text": [
      "Epoch 024: 100%|██████████| 59/59 [00:03<00:00, 15.13it/s, loss=0.1868]\n",
      "Running inference: 100%|██████████| 45/45 [00:02<00:00, 22.24it/s]\n",
      "Running inference: 100%|██████████| 45/45 [00:02<00:00, 22.18it/s]\n"
     ]
    },
    {
     "name": "stdout",
     "output_type": "stream",
     "text": [
      "Validation: {'precision': 41.7348, 'recall': 37.0924, 'f1': 38.3151, 'auc': 72.2839, 'prauc': 41.7077}\n",
      "Test:      {'precision': 42.405, 'recall': 36.2369, 'f1': 38.1361, 'auc': 71.5093, 'prauc': 41.3244}\n",
      "\n",
      "Validation-long: {'precision': 42.206, 'recall': 39.0198, 'f1': 40.1745, 'auc': 69.5976, 'prauc': 47.7261}\n",
      "Test-long: {'precision': 41.0421, 'recall': 38.0396, 'f1': 38.9786, 'auc': 70.6385, 'prauc': 44.5526}\n",
      "\n"
     ]
    },
    {
     "name": "stderr",
     "output_type": "stream",
     "text": [
      "Epoch 025: 100%|██████████| 59/59 [00:03<00:00, 15.06it/s, loss=0.1779]\n",
      "Running inference: 100%|██████████| 45/45 [00:02<00:00, 22.29it/s]\n",
      "Running inference: 100%|██████████| 45/45 [00:02<00:00, 22.24it/s]\n"
     ]
    },
    {
     "name": "stdout",
     "output_type": "stream",
     "text": [
      "Validation: {'precision': 41.0458, 'recall': 39.8335, 'f1': 39.5967, 'auc': 72.0893, 'prauc': 41.2595}\n",
      "Test:      {'precision': 40.0212, 'recall': 38.6198, 'f1': 38.4989, 'auc': 71.7519, 'prauc': 41.1343}\n",
      "\n",
      "Validation-long: {'precision': 42.4055, 'recall': 40.2233, 'f1': 40.677, 'auc': 69.9931, 'prauc': 46.9416}\n",
      "Test-long: {'precision': 39.6682, 'recall': 40.1341, 'f1': 39.5013, 'auc': 71.4592, 'prauc': 44.0407}\n",
      "\n"
     ]
    },
    {
     "name": "stderr",
     "output_type": "stream",
     "text": [
      "Epoch 026: 100%|██████████| 59/59 [00:04<00:00, 14.36it/s, loss=0.1739]\n",
      "Running inference: 100%|██████████| 45/45 [00:02<00:00, 20.90it/s]\n",
      "Running inference: 100%|██████████| 45/45 [00:02<00:00, 21.00it/s]\n"
     ]
    },
    {
     "name": "stdout",
     "output_type": "stream",
     "text": [
      "Validation: {'precision': 40.3131, 'recall': 36.7642, 'f1': 38.2043, 'auc': 71.7782, 'prauc': 41.3159}\n",
      "Test:      {'precision': 41.5297, 'recall': 36.2212, 'f1': 38.3879, 'auc': 71.4014, 'prauc': 40.9992}\n",
      "\n",
      "Validation-long: {'precision': 43.1123, 'recall': 35.8057, 'f1': 38.66, 'auc': 69.9791, 'prauc': 47.7108}\n",
      "Test-long: {'precision': 46.843, 'recall': 36.2765, 'f1': 39.1857, 'auc': 70.7709, 'prauc': 44.9902}\n",
      "\n"
     ]
    },
    {
     "name": "stderr",
     "output_type": "stream",
     "text": [
      "Epoch 027: 100%|██████████| 59/59 [00:04<00:00, 13.12it/s, loss=0.1657]\n",
      "Running inference: 100%|██████████| 45/45 [00:02<00:00, 21.09it/s]\n",
      "Running inference: 100%|██████████| 45/45 [00:02<00:00, 21.02it/s]\n"
     ]
    },
    {
     "name": "stdout",
     "output_type": "stream",
     "text": [
      "Validation: {'precision': 41.6641, 'recall': 38.4936, 'f1': 39.2077, 'auc': 71.904, 'prauc': 41.5534}\n",
      "Test:      {'precision': 41.9883, 'recall': 37.6064, 'f1': 38.6525, 'auc': 71.3983, 'prauc': 40.7733}\n",
      "\n",
      "Validation-long: {'precision': 42.6931, 'recall': 38.1607, 'f1': 39.5413, 'auc': 68.7643, 'prauc': 47.0415}\n",
      "Test-long: {'precision': 40.6964, 'recall': 38.5462, 'f1': 39.2666, 'auc': 70.2735, 'prauc': 43.6052}\n",
      "\n"
     ]
    },
    {
     "name": "stderr",
     "output_type": "stream",
     "text": [
      "Epoch 028: 100%|██████████| 59/59 [00:04<00:00, 13.97it/s, loss=0.1602]\n",
      "Running inference: 100%|██████████| 45/45 [00:02<00:00, 20.96it/s]\n",
      "Running inference: 100%|██████████| 45/45 [00:02<00:00, 20.77it/s]\n"
     ]
    },
    {
     "name": "stdout",
     "output_type": "stream",
     "text": [
      "Validation: {'precision': 41.1164, 'recall': 35.7531, 'f1': 37.5775, 'auc': 71.9489, 'prauc': 41.3016}\n",
      "Test:      {'precision': 43.5066, 'recall': 35.7603, 'f1': 38.3686, 'auc': 70.7878, 'prauc': 40.8209}\n",
      "\n",
      "Validation-long: {'precision': 42.1868, 'recall': 36.5297, 'f1': 38.6363, 'auc': 69.6914, 'prauc': 46.6327}\n",
      "Test-long: {'precision': 41.6314, 'recall': 35.4653, 'f1': 37.6552, 'auc': 71.1754, 'prauc': 44.6469}\n",
      "\n",
      "\n",
      "Early stopping triggered (no improvement for 5 epochs).\n",
      "\n",
      "Best validation performance:\n",
      "{'global': {'precision': 43.1068, 'recall': 39.0959, 'f1': 39.84, 'auc': 72.395, 'prauc': 41.609}, 'per_class':                                            precision   recall       f1  \\\n",
      "Acute and unspecified renal failure          46.6518  48.1567  47.3923   \n",
      "Acute cerebrovascular disease                14.2857   5.5556   8.0000   \n",
      "Acute myocardial infarction                  20.9677  13.6842  16.5605   \n",
      "Cardiac dysrhythmias                         67.9174  66.0584  66.9750   \n",
      "Chronic kidney disease                       67.6966  70.8824  69.2529   \n",
      "Chronic obstructive pulmonary disease        53.4091  50.0000  51.6484   \n",
      "Conduction disorders                         25.0000   3.0303   5.4054   \n",
      "Congestive heart failure; nonhypertensive    63.6086  77.0370  69.6817   \n",
      "Coronary atherosclerosis and related         55.5215  52.7697  54.1106   \n",
      "Disorders of lipid metabolism                54.8469  56.4304  55.6274   \n",
      "Essential hypertension                       61.3462  61.9417  61.6425   \n",
      "Fluid and electrolyte disorders              46.6387  38.6760  42.2857   \n",
      "Gastrointestinal hemorrhage                  16.6667   5.0000   7.6923   \n",
      "Hypertension with complications              65.7407  66.7712  66.2519   \n",
      "Other liver diseases                          7.1429   2.3810   3.5714   \n",
      "Other lower respiratory disease              50.2555  57.3930  53.5876   \n",
      "Pneumonia                                    16.3265   5.3691   8.0808   \n",
      "Septicemia (except in labor)                 41.8994  22.5904  29.3542   \n",
      "\n",
      "                                               auc    prauc  \n",
      "Acute and unspecified renal failure        67.4178  45.4130  \n",
      "Acute cerebrovascular disease              64.1942   2.7544  \n",
      "Acute myocardial infarction                67.0778  15.5756  \n",
      "Cardiac dysrhythmias                       80.3746  73.7184  \n",
      "Chronic kidney disease                     89.7620  77.4401  \n",
      "Chronic obstructive pulmonary disease      82.9709  46.2434  \n",
      "Conduction disorders                       68.8310   4.6756  \n",
      "Congestive heart failure; nonhypertensive  81.9819  74.7324  \n",
      "Coronary atherosclerosis and related       82.0786  55.6721  \n",
      "Disorders of lipid metabolism              77.0345  56.2049  \n",
      "Essential hypertension                     76.7576  62.6696  \n",
      "Fluid and electrolyte disorders            57.5561  46.0226  \n",
      "Gastrointestinal hemorrhage                63.0668  11.3355  \n",
      "Hypertension with complications            87.3420  67.5374  \n",
      "Other liver diseases                       66.3986   5.0956  \n",
      "Other lower respiratory disease            67.6294  55.7948  \n",
      "Pneumonia                                  55.6927  12.5730  \n",
      "Septicemia (except in labor)               66.9437  35.5036  }\n",
      "Corresponding test performance:\n",
      "{'global': {'precision': 41.086, 'recall': 38.2153, 'f1': 39.0049, 'auc': 72.0704, 'prauc': 41.3593}, 'per_class':                                            precision   recall       f1  \\\n",
      "Acute and unspecified renal failure          45.8065  49.8829  47.7578   \n",
      "Acute cerebrovascular disease                18.1818   8.3333  11.4286   \n",
      "Acute myocardial infarction                  23.5294  12.2449  16.1074   \n",
      "Cardiac dysrhythmias                         65.7088  64.2322  64.9621   \n",
      "Chronic kidney disease                       72.2054  72.6444  72.4242   \n",
      "Chronic obstructive pulmonary disease        46.7532  42.3529  44.4444   \n",
      "Conduction disorders                          0.0000   0.0000   0.0000   \n",
      "Congestive heart failure; nonhypertensive    63.8436  73.1343  68.1739   \n",
      "Coronary atherosclerosis and related         55.9441  49.8442  52.7183   \n",
      "Disorders of lipid metabolism                57.4648  55.8904  56.6667   \n",
      "Essential hypertension                       58.1308  61.7063  59.8653   \n",
      "Fluid and electrolyte disorders              49.7835  41.1449  45.0539   \n",
      "Gastrointestinal hemorrhage                   9.5238   2.0833   3.4188   \n",
      "Hypertension with complications              67.7215  69.9346  68.8103   \n",
      "Other liver diseases                          0.0000   0.0000   0.0000   \n",
      "Other lower respiratory disease              50.6645  53.6028  52.0922   \n",
      "Pneumonia                                    13.3333   3.1915   5.1502   \n",
      "Septicemia (except in labor)                 40.9524  27.6527  33.0134   \n",
      "\n",
      "                                               auc    prauc  \n",
      "Acute and unspecified renal failure        67.9107  43.7164  \n",
      "Acute cerebrovascular disease              70.1705   8.7357  \n",
      "Acute myocardial infarction                72.0683  15.8787  \n",
      "Cardiac dysrhythmias                       77.3962  69.1765  \n",
      "Chronic kidney disease                     90.1458  77.1469  \n",
      "Chronic obstructive pulmonary disease      80.0557  41.4736  \n",
      "Conduction disorders                       62.8467   3.5259  \n",
      "Congestive heart failure; nonhypertensive  80.3742  71.3411  \n",
      "Coronary atherosclerosis and related       83.0488  57.5522  \n",
      "Disorders of lipid metabolism              80.1175  57.5224  \n",
      "Essential hypertension                     76.0960  61.4555  \n",
      "Fluid and electrolyte disorders            60.6125  47.9924  \n",
      "Gastrointestinal hemorrhage                60.7734  10.8746  \n",
      "Hypertension with complications            88.2767  69.1521  \n",
      "Other liver diseases                       58.7307   2.2279  \n",
      "Other lower respiratory disease            63.4508  55.8880  \n",
      "Pneumonia                                  58.0103  15.8104  \n",
      "Septicemia (except in labor)               67.1831  34.9967  }\n",
      "Corresponding test-long performance:\n",
      "{'global': {'precision': 40.7608, 'recall': 38.757, 'f1': 39.3179, 'auc': 70.5886, 'prauc': 44.1407}, 'per_class':                                            precision   recall       f1  \\\n",
      "Acute and unspecified renal failure          40.7895  52.5424  45.9259   \n",
      "Acute cerebrovascular disease                 0.0000   0.0000   0.0000   \n",
      "Acute myocardial infarction                   0.0000   0.0000   0.0000   \n",
      "Cardiac dysrhythmias                         68.6567  57.5000  62.5850   \n",
      "Chronic kidney disease                       85.9155  78.2051  81.8792   \n",
      "Chronic obstructive pulmonary disease        35.0000  26.9231  30.4348   \n",
      "Conduction disorders                          0.0000   0.0000   0.0000   \n",
      "Congestive heart failure; nonhypertensive    70.3704  82.6087  76.0000   \n",
      "Coronary atherosclerosis and related         64.7059  50.0000  56.4103   \n",
      "Disorders of lipid metabolism                62.2222  57.1429  59.5745   \n",
      "Essential hypertension                       45.1613  57.1429  50.4505   \n",
      "Fluid and electrolyte disorders              58.9744  46.9388  52.2727   \n",
      "Gastrointestinal hemorrhage                   0.0000   0.0000   0.0000   \n",
      "Hypertension with complications              78.3333  69.1176  73.4375   \n",
      "Other liver diseases                          0.0000   0.0000   0.0000   \n",
      "Other lower respiratory disease              56.3025  71.2766  62.9108   \n",
      "Pneumonia                                    23.0769  13.0435  16.6667   \n",
      "Septicemia (except in labor)                 44.1860  35.1852  39.1753   \n",
      "\n",
      "                                               auc    prauc  \n",
      "Acute and unspecified renal failure        67.8700  52.4106  \n",
      "Acute cerebrovascular disease              88.6486   2.2727  \n",
      "Acute myocardial infarction                64.7727   7.0902  \n",
      "Cardiac dysrhythmias                       71.3974  67.0812  \n",
      "Chronic kidney disease                     90.5745  89.9963  \n",
      "Chronic obstructive pulmonary disease      77.7764  38.2210  \n",
      "Conduction disorders                       53.3006   5.0239  \n",
      "Congestive heart failure; nonhypertensive  81.8686  79.7686  \n",
      "Coronary atherosclerosis and related       82.1623  60.3608  \n",
      "Disorders of lipid metabolism              79.2716  62.5430  \n",
      "Essential hypertension                     73.9163  54.6341  \n",
      "Fluid and electrolyte disorders            54.7078  55.3671  \n",
      "Gastrointestinal hemorrhage                67.1627  21.7158  \n",
      "Hypertension with complications            86.5279  80.2367  \n",
      "Other liver diseases                       45.9927   1.3679  \n",
      "Other lower respiratory disease            64.2865  63.6158  \n",
      "Pneumonia                                  59.1624  15.7580  \n",
      "Septicemia (except in labor)               61.1953  37.0695  }\n",
      "================================5==================================\n"
     ]
    },
    {
     "name": "stderr",
     "output_type": "stream",
     "text": [
      "Epoch 001: 100%|██████████| 59/59 [00:04<00:00, 14.57it/s, loss=0.4690]\n",
      "Running inference: 100%|██████████| 45/45 [00:02<00:00, 22.32it/s]\n",
      "Running inference: 100%|██████████| 45/45 [00:02<00:00, 22.10it/s]\n"
     ]
    },
    {
     "name": "stdout",
     "output_type": "stream",
     "text": [
      "Validation: {'precision': 34.1213, 'recall': 17.2175, 'f1': 20.784, 'auc': 68.0618, 'prauc': 37.8012}\n",
      "Test:      {'precision': 32.7429, 'recall': 16.3264, 'f1': 19.6754, 'auc': 67.4193, 'prauc': 37.2075}\n",
      "\n",
      "Validation-long: {'precision': 36.6802, 'recall': 19.7564, 'f1': 23.2199, 'auc': 67.9717, 'prauc': 43.4251}\n",
      "Test-long: {'precision': 31.7114, 'recall': 17.4468, 'f1': 20.4991, 'auc': 64.6855, 'prauc': 39.8697}\n",
      "\n"
     ]
    },
    {
     "name": "stderr",
     "output_type": "stream",
     "text": [
      "Epoch 002: 100%|██████████| 59/59 [00:03<00:00, 15.09it/s, loss=0.4009]\n",
      "Running inference: 100%|██████████| 45/45 [00:02<00:00, 22.34it/s]\n",
      "Running inference: 100%|██████████| 45/45 [00:02<00:00, 22.32it/s]\n"
     ]
    },
    {
     "name": "stdout",
     "output_type": "stream",
     "text": [
      "Validation: {'precision': 37.779, 'recall': 19.3902, 'f1': 24.128, 'auc': 72.1643, 'prauc': 40.8764}\n",
      "Test:      {'precision': 35.1391, 'recall': 18.3455, 'f1': 22.7788, 'auc': 72.5154, 'prauc': 40.2493}\n",
      "\n",
      "Validation-long: {'precision': 41.4467, 'recall': 22.0921, 'f1': 27.0235, 'auc': 70.8741, 'prauc': 47.9037}\n",
      "Test-long: {'precision': 36.1408, 'recall': 19.9864, 'f1': 24.5376, 'auc': 72.4441, 'prauc': 42.7335}\n",
      "\n"
     ]
    },
    {
     "name": "stderr",
     "output_type": "stream",
     "text": [
      "Epoch 003: 100%|██████████| 59/59 [00:03<00:00, 15.10it/s, loss=0.3834]\n",
      "Running inference: 100%|██████████| 45/45 [00:02<00:00, 22.32it/s]\n",
      "Running inference: 100%|██████████| 45/45 [00:02<00:00, 22.32it/s]\n"
     ]
    },
    {
     "name": "stdout",
     "output_type": "stream",
     "text": [
      "Validation: {'precision': 40.0309, 'recall': 24.3067, 'f1': 28.323, 'auc': 73.2755, 'prauc': 42.237}\n",
      "Test:      {'precision': 40.7063, 'recall': 23.902, 'f1': 27.7993, 'auc': 74.071, 'prauc': 41.75}\n",
      "\n",
      "Validation-long: {'precision': 45.5547, 'recall': 25.4707, 'f1': 29.7207, 'auc': 70.8307, 'prauc': 49.4492}\n",
      "Test-long: {'precision': 37.8944, 'recall': 24.2403, 'f1': 28.2884, 'auc': 74.1917, 'prauc': 45.4409}\n",
      "\n"
     ]
    },
    {
     "name": "stderr",
     "output_type": "stream",
     "text": [
      "Epoch 004: 100%|██████████| 59/59 [00:03<00:00, 15.02it/s, loss=0.3714]\n",
      "Running inference: 100%|██████████| 45/45 [00:02<00:00, 20.08it/s]\n",
      "Running inference: 100%|██████████| 45/45 [00:02<00:00, 22.22it/s]\n"
     ]
    },
    {
     "name": "stdout",
     "output_type": "stream",
     "text": [
      "Validation: {'precision': 43.2398, 'recall': 26.8109, 'f1': 30.7876, 'auc': 74.1952, 'prauc': 43.0876}\n",
      "Test:      {'precision': 38.9397, 'recall': 25.7381, 'f1': 29.4425, 'auc': 74.6149, 'prauc': 42.4266}\n",
      "\n",
      "Validation-long: {'precision': 41.395, 'recall': 28.862, 'f1': 32.5631, 'auc': 71.8872, 'prauc': 48.844}\n",
      "Test-long: {'precision': 37.763, 'recall': 25.9601, 'f1': 29.5149, 'auc': 74.7051, 'prauc': 45.1587}\n",
      "\n"
     ]
    },
    {
     "name": "stderr",
     "output_type": "stream",
     "text": [
      "Epoch 005: 100%|██████████| 59/59 [00:03<00:00, 15.07it/s, loss=0.3598]\n",
      "Running inference: 100%|██████████| 45/45 [00:02<00:00, 22.40it/s]\n",
      "Running inference: 100%|██████████| 45/45 [00:02<00:00, 22.19it/s]\n"
     ]
    },
    {
     "name": "stdout",
     "output_type": "stream",
     "text": [
      "Validation: {'precision': 40.4222, 'recall': 31.2013, 'f1': 33.7736, 'auc': 74.2472, 'prauc': 43.8259}\n",
      "Test:      {'precision': 40.9058, 'recall': 30.1975, 'f1': 32.4767, 'auc': 74.6654, 'prauc': 42.9367}\n",
      "\n",
      "Validation-long: {'precision': 41.9403, 'recall': 32.467, 'f1': 35.1033, 'auc': 70.2781, 'prauc': 48.827}\n",
      "Test-long: {'precision': 41.2999, 'recall': 30.5785, 'f1': 34.0093, 'auc': 75.2205, 'prauc': 46.1534}\n",
      "\n"
     ]
    },
    {
     "name": "stderr",
     "output_type": "stream",
     "text": [
      "Epoch 006: 100%|██████████| 59/59 [00:03<00:00, 14.99it/s, loss=0.3509]\n",
      "Running inference: 100%|██████████| 45/45 [00:02<00:00, 22.27it/s]\n",
      "Running inference: 100%|██████████| 45/45 [00:02<00:00, 22.36it/s]\n"
     ]
    },
    {
     "name": "stdout",
     "output_type": "stream",
     "text": [
      "Validation: {'precision': 41.2039, 'recall': 32.9929, 'f1': 35.8518, 'auc': 74.503, 'prauc': 44.0986}\n",
      "Test:      {'precision': 40.5874, 'recall': 31.9451, 'f1': 35.0508, 'auc': 74.9788, 'prauc': 43.4746}\n",
      "\n",
      "Validation-long: {'precision': 46.1662, 'recall': 35.758, 'f1': 38.1893, 'auc': 71.221, 'prauc': 49.498}\n",
      "Test-long: {'precision': 44.4657, 'recall': 32.5684, 'f1': 36.3085, 'auc': 74.3975, 'prauc': 47.8129}\n",
      "\n"
     ]
    },
    {
     "name": "stderr",
     "output_type": "stream",
     "text": [
      "Epoch 007: 100%|██████████| 59/59 [00:03<00:00, 14.99it/s, loss=0.3397]\n",
      "Running inference: 100%|██████████| 45/45 [00:02<00:00, 22.34it/s]\n",
      "Running inference: 100%|██████████| 45/45 [00:02<00:00, 22.26it/s]\n"
     ]
    },
    {
     "name": "stdout",
     "output_type": "stream",
     "text": [
      "Validation: {'precision': 48.7536, 'recall': 31.792, 'f1': 36.012, 'auc': 74.4734, 'prauc': 44.5173}\n",
      "Test:      {'precision': 43.2725, 'recall': 30.5012, 'f1': 34.6113, 'auc': 74.9743, 'prauc': 43.4898}\n",
      "\n",
      "Validation-long: {'precision': 47.2135, 'recall': 32.4843, 'f1': 37.2747, 'auc': 70.8193, 'prauc': 50.0419}\n",
      "Test-long: {'precision': 45.4639, 'recall': 28.6781, 'f1': 33.3159, 'auc': 76.1209, 'prauc': 47.3948}\n",
      "\n"
     ]
    },
    {
     "name": "stderr",
     "output_type": "stream",
     "text": [
      "Epoch 008: 100%|██████████| 59/59 [00:03<00:00, 15.07it/s, loss=0.3311]\n",
      "Running inference: 100%|██████████| 45/45 [00:02<00:00, 22.31it/s]\n",
      "Running inference: 100%|██████████| 45/45 [00:02<00:00, 22.30it/s]\n"
     ]
    },
    {
     "name": "stdout",
     "output_type": "stream",
     "text": [
      "Validation: {'precision': 42.3781, 'recall': 33.3307, 'f1': 36.523, 'auc': 74.4805, 'prauc': 44.8265}\n",
      "Test:      {'precision': 41.2909, 'recall': 31.9967, 'f1': 35.3792, 'auc': 74.7623, 'prauc': 43.5763}\n",
      "\n",
      "Validation-long: {'precision': 46.2907, 'recall': 36.4013, 'f1': 39.3495, 'auc': 72.1995, 'prauc': 51.6057}\n",
      "Test-long: {'precision': 42.652, 'recall': 32.059, 'f1': 35.7203, 'auc': 76.04, 'prauc': 47.0894}\n",
      "\n"
     ]
    },
    {
     "name": "stderr",
     "output_type": "stream",
     "text": [
      "Epoch 009: 100%|██████████| 59/59 [00:03<00:00, 15.13it/s, loss=0.3232]\n",
      "Running inference: 100%|██████████| 45/45 [00:02<00:00, 22.40it/s]\n",
      "Running inference: 100%|██████████| 45/45 [00:02<00:00, 22.21it/s]\n"
     ]
    },
    {
     "name": "stdout",
     "output_type": "stream",
     "text": [
      "Validation: {'precision': 43.7119, 'recall': 35.3204, 'f1': 37.9188, 'auc': 74.5504, 'prauc': 45.021}\n",
      "Test:      {'precision': 42.9309, 'recall': 34.1026, 'f1': 36.9246, 'auc': 75.0467, 'prauc': 43.9163}\n",
      "\n",
      "Validation-long: {'precision': 46.1395, 'recall': 36.1298, 'f1': 39.4777, 'auc': 71.6975, 'prauc': 50.9007}\n",
      "Test-long: {'precision': 43.0724, 'recall': 32.3711, 'f1': 36.3659, 'auc': 75.7884, 'prauc': 48.5414}\n",
      "\n"
     ]
    },
    {
     "name": "stderr",
     "output_type": "stream",
     "text": [
      "Epoch 010: 100%|██████████| 59/59 [00:04<00:00, 14.13it/s, loss=0.3139]\n",
      "Running inference: 100%|██████████| 45/45 [00:02<00:00, 22.30it/s]\n",
      "Running inference: 100%|██████████| 45/45 [00:02<00:00, 22.20it/s]\n"
     ]
    },
    {
     "name": "stdout",
     "output_type": "stream",
     "text": [
      "Validation: {'precision': 43.4009, 'recall': 32.1888, 'f1': 35.3901, 'auc': 74.5529, 'prauc': 44.7382}\n",
      "Test:      {'precision': 46.9877, 'recall': 30.9078, 'f1': 34.4392, 'auc': 74.5916, 'prauc': 43.5328}\n",
      "\n",
      "Validation-long: {'precision': 45.0804, 'recall': 36.3524, 'f1': 38.8066, 'auc': 72.0493, 'prauc': 50.8992}\n",
      "Test-long: {'precision': 42.1767, 'recall': 32.6413, 'f1': 36.0426, 'auc': 74.5401, 'prauc': 45.9667}\n",
      "\n"
     ]
    },
    {
     "name": "stderr",
     "output_type": "stream",
     "text": [
      "Epoch 011: 100%|██████████| 59/59 [00:03<00:00, 15.01it/s, loss=0.3045]\n",
      "Running inference: 100%|██████████| 45/45 [00:02<00:00, 22.37it/s]\n",
      "Running inference: 100%|██████████| 45/45 [00:02<00:00, 22.09it/s]\n"
     ]
    },
    {
     "name": "stdout",
     "output_type": "stream",
     "text": [
      "Validation: {'precision': 48.6527, 'recall': 32.784, 'f1': 36.5343, 'auc': 73.9237, 'prauc': 44.3843}\n",
      "Test:      {'precision': 44.5409, 'recall': 31.4939, 'f1': 35.3373, 'auc': 74.5692, 'prauc': 43.7261}\n",
      "\n",
      "Validation-long: {'precision': 44.7596, 'recall': 37.518, 'f1': 40.0294, 'auc': 71.9976, 'prauc': 50.4649}\n",
      "Test-long: {'precision': 44.9942, 'recall': 35.4165, 'f1': 39.0137, 'auc': 76.4134, 'prauc': 48.2681}\n",
      "\n"
     ]
    },
    {
     "name": "stderr",
     "output_type": "stream",
     "text": [
      "Epoch 012: 100%|██████████| 59/59 [00:03<00:00, 15.03it/s, loss=0.2940]\n",
      "Running inference: 100%|██████████| 45/45 [00:02<00:00, 22.36it/s]\n",
      "Running inference: 100%|██████████| 45/45 [00:02<00:00, 22.18it/s]\n"
     ]
    },
    {
     "name": "stdout",
     "output_type": "stream",
     "text": [
      "Validation: {'precision': 41.8546, 'recall': 37.3198, 'f1': 38.6015, 'auc': 73.8601, 'prauc': 44.1888}\n",
      "Test:      {'precision': 41.7187, 'recall': 36.2485, 'f1': 37.7521, 'auc': 74.2336, 'prauc': 43.2641}\n",
      "\n",
      "Validation-long: {'precision': 45.8124, 'recall': 39.7076, 'f1': 41.6373, 'auc': 72.4004, 'prauc': 50.7434}\n",
      "Test-long: {'precision': 42.0111, 'recall': 37.7099, 'f1': 39.209, 'auc': 74.8649, 'prauc': 47.0941}\n",
      "\n"
     ]
    },
    {
     "name": "stderr",
     "output_type": "stream",
     "text": [
      "Epoch 013: 100%|██████████| 59/59 [00:03<00:00, 15.09it/s, loss=0.2815]\n",
      "Running inference: 100%|██████████| 45/45 [00:02<00:00, 22.38it/s]\n",
      "Running inference: 100%|██████████| 45/45 [00:02<00:00, 22.27it/s]\n"
     ]
    },
    {
     "name": "stdout",
     "output_type": "stream",
     "text": [
      "Validation: {'precision': 43.3414, 'recall': 36.3292, 'f1': 38.293, 'auc': 74.1631, 'prauc': 44.1525}\n",
      "Test:      {'precision': 43.1774, 'recall': 35.0049, 'f1': 37.2146, 'auc': 74.2177, 'prauc': 43.2521}\n",
      "\n",
      "Validation-long: {'precision': 43.8913, 'recall': 38.4798, 'f1': 40.1397, 'auc': 72.0464, 'prauc': 49.362}\n",
      "Test-long: {'precision': 42.1701, 'recall': 37.1398, 'f1': 38.8923, 'auc': 73.9321, 'prauc': 46.7185}\n",
      "\n"
     ]
    },
    {
     "name": "stderr",
     "output_type": "stream",
     "text": [
      "Epoch 014: 100%|██████████| 59/59 [00:03<00:00, 15.03it/s, loss=0.2721]\n",
      "Running inference: 100%|██████████| 45/45 [00:02<00:00, 22.15it/s]\n",
      "Running inference: 100%|██████████| 45/45 [00:02<00:00, 22.40it/s]\n"
     ]
    },
    {
     "name": "stdout",
     "output_type": "stream",
     "text": [
      "Validation: {'precision': 43.7136, 'recall': 33.2148, 'f1': 36.5267, 'auc': 73.9175, 'prauc': 43.7715}\n",
      "Test:      {'precision': 44.2597, 'recall': 31.7798, 'f1': 35.613, 'auc': 73.8183, 'prauc': 42.7305}\n",
      "\n",
      "Validation-long: {'precision': 43.2198, 'recall': 33.6915, 'f1': 36.7395, 'auc': 71.2628, 'prauc': 49.5241}\n",
      "Test-long: {'precision': 43.1414, 'recall': 31.7549, 'f1': 35.4298, 'auc': 73.8106, 'prauc': 45.7716}\n",
      "\n"
     ]
    },
    {
     "name": "stderr",
     "output_type": "stream",
     "text": [
      "Epoch 015: 100%|██████████| 59/59 [00:03<00:00, 15.10it/s, loss=0.2655]\n",
      "Running inference: 100%|██████████| 45/45 [00:02<00:00, 20.15it/s]\n",
      "Running inference: 100%|██████████| 45/45 [00:02<00:00, 22.29it/s]\n"
     ]
    },
    {
     "name": "stdout",
     "output_type": "stream",
     "text": [
      "Validation: {'precision': 44.1124, 'recall': 38.349, 'f1': 38.2496, 'auc': 73.5431, 'prauc': 43.4098}\n",
      "Test:      {'precision': 43.2102, 'recall': 37.7245, 'f1': 38.1734, 'auc': 73.2188, 'prauc': 41.7912}\n",
      "\n",
      "Validation-long: {'precision': 44.1813, 'recall': 40.917, 'f1': 40.6608, 'auc': 71.5232, 'prauc': 49.0628}\n",
      "Test-long: {'precision': 41.2349, 'recall': 38.6968, 'f1': 39.152, 'auc': 73.1085, 'prauc': 44.5307}\n",
      "\n"
     ]
    },
    {
     "name": "stderr",
     "output_type": "stream",
     "text": [
      "Epoch 016: 100%|██████████| 59/59 [00:03<00:00, 15.11it/s, loss=0.2536]\n",
      "Running inference: 100%|██████████| 45/45 [00:02<00:00, 22.32it/s]\n",
      "Running inference: 100%|██████████| 45/45 [00:02<00:00, 22.24it/s]\n"
     ]
    },
    {
     "name": "stdout",
     "output_type": "stream",
     "text": [
      "Validation: {'precision': 45.9413, 'recall': 34.207, 'f1': 37.7069, 'auc': 73.2508, 'prauc': 42.8802}\n",
      "Test:      {'precision': 48.9369, 'recall': 32.3582, 'f1': 36.3921, 'auc': 73.261, 'prauc': 41.896}\n",
      "\n",
      "Validation-long: {'precision': 46.0942, 'recall': 35.8724, 'f1': 39.757, 'auc': 71.5362, 'prauc': 49.4846}\n",
      "Test-long: {'precision': 43.2797, 'recall': 33.4912, 'f1': 37.3712, 'auc': 73.8903, 'prauc': 45.3455}\n",
      "\n"
     ]
    },
    {
     "name": "stderr",
     "output_type": "stream",
     "text": [
      "Epoch 017: 100%|██████████| 59/59 [00:03<00:00, 15.06it/s, loss=0.2476]\n",
      "Running inference: 100%|██████████| 45/45 [00:02<00:00, 22.33it/s]\n",
      "Running inference: 100%|██████████| 45/45 [00:02<00:00, 22.13it/s]\n"
     ]
    },
    {
     "name": "stdout",
     "output_type": "stream",
     "text": [
      "Validation: {'precision': 43.5239, 'recall': 37.2245, 'f1': 38.9614, 'auc': 72.9587, 'prauc': 43.1165}\n",
      "Test:      {'precision': 43.6155, 'recall': 36.1983, 'f1': 38.3573, 'auc': 73.3349, 'prauc': 41.9326}\n",
      "\n",
      "Validation-long: {'precision': 42.2482, 'recall': 38.4471, 'f1': 39.626, 'auc': 70.8441, 'prauc': 48.5409}\n",
      "Test-long: {'precision': 40.1105, 'recall': 36.8315, 'f1': 37.9633, 'auc': 73.6389, 'prauc': 44.79}\n",
      "\n"
     ]
    },
    {
     "name": "stderr",
     "output_type": "stream",
     "text": [
      "Epoch 018: 100%|██████████| 59/59 [00:03<00:00, 14.94it/s, loss=0.2353]\n",
      "Running inference: 100%|██████████| 45/45 [00:02<00:00, 22.07it/s]\n",
      "Running inference: 100%|██████████| 45/45 [00:02<00:00, 22.10it/s]\n"
     ]
    },
    {
     "name": "stdout",
     "output_type": "stream",
     "text": [
      "Validation: {'precision': 42.7331, 'recall': 37.1346, 'f1': 39.0052, 'auc': 72.6389, 'prauc': 42.3599}\n",
      "Test:      {'precision': 45.4741, 'recall': 36.6539, 'f1': 38.7505, 'auc': 73.1119, 'prauc': 41.7456}\n",
      "\n",
      "Validation-long: {'precision': 46.4861, 'recall': 38.3404, 'f1': 41.2367, 'auc': 69.8801, 'prauc': 48.1767}\n",
      "Test-long: {'precision': 40.5574, 'recall': 35.8883, 'f1': 37.7733, 'auc': 71.8738, 'prauc': 44.3695}\n",
      "\n"
     ]
    },
    {
     "name": "stderr",
     "output_type": "stream",
     "text": [
      "Epoch 019: 100%|██████████| 59/59 [00:03<00:00, 15.04it/s, loss=0.2261]\n",
      "Running inference: 100%|██████████| 45/45 [00:02<00:00, 22.12it/s]\n",
      "Running inference: 100%|██████████| 45/45 [00:02<00:00, 22.02it/s]\n"
     ]
    },
    {
     "name": "stdout",
     "output_type": "stream",
     "text": [
      "Validation: {'precision': 42.0602, 'recall': 35.3037, 'f1': 37.3147, 'auc': 72.4288, 'prauc': 41.8433}\n",
      "Test:      {'precision': 41.2994, 'recall': 35.4367, 'f1': 37.3637, 'auc': 73.0656, 'prauc': 41.3032}\n",
      "\n",
      "Validation-long: {'precision': 44.0475, 'recall': 37.2986, 'f1': 40.1026, 'auc': 69.8163, 'prauc': 47.8419}\n",
      "Test-long: {'precision': 40.2059, 'recall': 35.9907, 'f1': 37.6931, 'auc': 73.4862, 'prauc': 44.5818}\n",
      "\n"
     ]
    },
    {
     "name": "stderr",
     "output_type": "stream",
     "text": [
      "Epoch 020: 100%|██████████| 59/59 [00:03<00:00, 15.03it/s, loss=0.2142]\n",
      "Running inference: 100%|██████████| 45/45 [00:02<00:00, 22.14it/s]\n",
      "Running inference: 100%|██████████| 45/45 [00:02<00:00, 19.80it/s]\n"
     ]
    },
    {
     "name": "stdout",
     "output_type": "stream",
     "text": [
      "Validation: {'precision': 41.6148, 'recall': 36.447, 'f1': 37.9029, 'auc': 72.4788, 'prauc': 42.2437}\n",
      "Test:      {'precision': 43.8061, 'recall': 35.5517, 'f1': 37.5088, 'auc': 72.693, 'prauc': 41.2899}\n",
      "\n",
      "Validation-long: {'precision': 44.0694, 'recall': 40.4684, 'f1': 41.6863, 'auc': 70.2049, 'prauc': 48.2113}\n",
      "Test-long: {'precision': 40.8452, 'recall': 37.1032, 'f1': 38.5287, 'auc': 72.262, 'prauc': 45.1584}\n",
      "\n"
     ]
    },
    {
     "name": "stderr",
     "output_type": "stream",
     "text": [
      "Epoch 021: 100%|██████████| 59/59 [00:03<00:00, 14.77it/s, loss=0.2075]\n",
      "Running inference: 100%|██████████| 45/45 [00:02<00:00, 22.00it/s]\n",
      "Running inference: 100%|██████████| 45/45 [00:02<00:00, 21.90it/s]\n"
     ]
    },
    {
     "name": "stdout",
     "output_type": "stream",
     "text": [
      "Validation: {'precision': 41.6885, 'recall': 39.4376, 'f1': 39.2579, 'auc': 72.7139, 'prauc': 42.3807}\n",
      "Test:      {'precision': 42.0737, 'recall': 38.3663, 'f1': 38.7587, 'auc': 72.624, 'prauc': 41.1048}\n",
      "\n",
      "Validation-long: {'precision': 43.1569, 'recall': 41.4198, 'f1': 41.933, 'auc': 69.3257, 'prauc': 46.9979}\n",
      "Test-long: {'precision': 39.8898, 'recall': 39.2186, 'f1': 39.2437, 'auc': 71.4268, 'prauc': 44.47}\n",
      "\n"
     ]
    },
    {
     "name": "stderr",
     "output_type": "stream",
     "text": [
      "Epoch 022: 100%|██████████| 59/59 [00:03<00:00, 14.76it/s, loss=0.1992]\n",
      "Running inference: 100%|██████████| 45/45 [00:02<00:00, 22.10it/s]\n",
      "Running inference: 100%|██████████| 45/45 [00:02<00:00, 22.18it/s]\n"
     ]
    },
    {
     "name": "stdout",
     "output_type": "stream",
     "text": [
      "Validation: {'precision': 43.3818, 'recall': 34.8873, 'f1': 37.9257, 'auc': 72.5807, 'prauc': 42.0149}\n",
      "Test:      {'precision': 44.4923, 'recall': 33.1735, 'f1': 37.086, 'auc': 72.3884, 'prauc': 40.8367}\n",
      "\n",
      "Validation-long: {'precision': 42.673, 'recall': 36.0568, 'f1': 38.3773, 'auc': 68.8447, 'prauc': 47.5838}\n",
      "Test-long: {'precision': 40.4559, 'recall': 33.4419, 'f1': 36.207, 'auc': 72.2512, 'prauc': 43.978}\n",
      "\n"
     ]
    },
    {
     "name": "stderr",
     "output_type": "stream",
     "text": [
      "Epoch 023: 100%|██████████| 59/59 [00:03<00:00, 14.81it/s, loss=0.1945]\n",
      "Running inference: 100%|██████████| 45/45 [00:02<00:00, 20.75it/s]\n",
      "Running inference: 100%|██████████| 45/45 [00:02<00:00, 20.67it/s]\n"
     ]
    },
    {
     "name": "stdout",
     "output_type": "stream",
     "text": [
      "Validation: {'precision': 40.9915, 'recall': 38.1699, 'f1': 38.9758, 'auc': 72.1311, 'prauc': 41.697}\n",
      "Test:      {'precision': 41.2543, 'recall': 36.5398, 'f1': 38.0076, 'auc': 72.2324, 'prauc': 40.6067}\n",
      "\n",
      "Validation-long: {'precision': 42.1479, 'recall': 40.1344, 'f1': 40.6499, 'auc': 69.0808, 'prauc': 46.5423}\n",
      "Test-long: {'precision': 40.7894, 'recall': 37.4788, 'f1': 38.5752, 'auc': 72.4644, 'prauc': 44.7642}\n",
      "\n"
     ]
    },
    {
     "name": "stderr",
     "output_type": "stream",
     "text": [
      "Epoch 024: 100%|██████████| 59/59 [00:04<00:00, 13.83it/s, loss=0.1847]\n",
      "Running inference: 100%|██████████| 45/45 [00:02<00:00, 20.95it/s]\n",
      "Running inference: 100%|██████████| 45/45 [00:02<00:00, 20.95it/s]\n"
     ]
    },
    {
     "name": "stdout",
     "output_type": "stream",
     "text": [
      "Validation: {'precision': 41.9682, 'recall': 36.1494, 'f1': 38.1026, 'auc': 72.2962, 'prauc': 41.6473}\n",
      "Test:      {'precision': 42.1486, 'recall': 35.2015, 'f1': 37.4906, 'auc': 72.1417, 'prauc': 40.7922}\n",
      "\n",
      "Validation-long: {'precision': 43.423, 'recall': 37.7061, 'f1': 39.9615, 'auc': 69.9449, 'prauc': 46.8206}\n",
      "Test-long: {'precision': 41.6008, 'recall': 35.5511, 'f1': 37.8251, 'auc': 73.1044, 'prauc': 44.8301}\n",
      "\n"
     ]
    },
    {
     "name": "stderr",
     "output_type": "stream",
     "text": [
      "Epoch 025: 100%|██████████| 59/59 [00:04<00:00, 13.76it/s, loss=0.1753]\n",
      "Running inference: 100%|██████████| 45/45 [00:02<00:00, 20.90it/s]\n",
      "Running inference: 100%|██████████| 45/45 [00:02<00:00, 21.00it/s]\n"
     ]
    },
    {
     "name": "stdout",
     "output_type": "stream",
     "text": [
      "Validation: {'precision': 40.0633, 'recall': 37.4444, 'f1': 38.0253, 'auc': 72.0824, 'prauc': 41.2385}\n",
      "Test:      {'precision': 41.4339, 'recall': 37.4025, 'f1': 38.4723, 'auc': 71.8383, 'prauc': 40.8201}\n",
      "\n",
      "Validation-long: {'precision': 43.058, 'recall': 39.3982, 'f1': 40.5474, 'auc': 69.8482, 'prauc': 48.4453}\n",
      "Test-long: {'precision': 41.6392, 'recall': 37.405, 'f1': 38.7716, 'auc': 70.8487, 'prauc': 44.8833}\n",
      "\n"
     ]
    },
    {
     "name": "stderr",
     "output_type": "stream",
     "text": [
      "Epoch 026: 100%|██████████| 59/59 [00:04<00:00, 14.12it/s, loss=0.1739]\n",
      "Running inference: 100%|██████████| 45/45 [00:02<00:00, 22.39it/s]\n",
      "Running inference: 100%|██████████| 45/45 [00:02<00:00, 22.33it/s]\n"
     ]
    },
    {
     "name": "stdout",
     "output_type": "stream",
     "text": [
      "Validation: {'precision': 42.0027, 'recall': 38.0702, 'f1': 39.2927, 'auc': 72.1945, 'prauc': 41.5593}\n",
      "Test:      {'precision': 41.4806, 'recall': 36.7795, 'f1': 38.2942, 'auc': 71.9022, 'prauc': 40.4312}\n",
      "\n",
      "Validation-long: {'precision': 46.6689, 'recall': 40.679, 'f1': 42.8835, 'auc': 68.3483, 'prauc': 47.3637}\n",
      "Test-long: {'precision': 40.8456, 'recall': 37.1143, 'f1': 38.2154, 'auc': 70.3335, 'prauc': 44.316}\n",
      "\n"
     ]
    },
    {
     "name": "stderr",
     "output_type": "stream",
     "text": [
      "Epoch 027: 100%|██████████| 59/59 [00:03<00:00, 15.02it/s, loss=0.1672]\n",
      "Running inference: 100%|██████████| 45/45 [00:02<00:00, 22.25it/s]\n",
      "Running inference: 100%|██████████| 45/45 [00:02<00:00, 22.31it/s]\n"
     ]
    },
    {
     "name": "stdout",
     "output_type": "stream",
     "text": [
      "Validation: {'precision': 39.6044, 'recall': 40.0881, 'f1': 39.4764, 'auc': 71.5721, 'prauc': 41.1789}\n",
      "Test:      {'precision': 44.294, 'recall': 39.6784, 'f1': 39.2379, 'auc': 71.4645, 'prauc': 40.5826}\n",
      "\n",
      "Validation-long: {'precision': 43.4857, 'recall': 41.9457, 'f1': 41.9342, 'auc': 70.348, 'prauc': 47.8327}\n",
      "Test-long: {'precision': 40.9944, 'recall': 40.6856, 'f1': 39.983, 'auc': 69.7127, 'prauc': 44.8214}\n",
      "\n"
     ]
    },
    {
     "name": "stderr",
     "output_type": "stream",
     "text": [
      "Epoch 028: 100%|██████████| 59/59 [00:03<00:00, 15.11it/s, loss=0.1640]\n",
      "Running inference: 100%|██████████| 45/45 [00:02<00:00, 22.26it/s]\n",
      "Running inference: 100%|██████████| 45/45 [00:02<00:00, 22.16it/s]\n"
     ]
    },
    {
     "name": "stdout",
     "output_type": "stream",
     "text": [
      "Validation: {'precision': 41.6293, 'recall': 37.3884, 'f1': 38.7793, 'auc': 71.7461, 'prauc': 41.1975}\n",
      "Test:      {'precision': 42.9225, 'recall': 36.6606, 'f1': 38.543, 'auc': 72.015, 'prauc': 40.9346}\n",
      "\n",
      "Validation-long: {'precision': 44.7352, 'recall': 39.7879, 'f1': 41.1752, 'auc': 71.101, 'prauc': 47.2968}\n",
      "Test-long: {'precision': 40.7877, 'recall': 37.3991, 'f1': 38.6008, 'auc': 73.7437, 'prauc': 44.7842}\n",
      "\n"
     ]
    },
    {
     "name": "stderr",
     "output_type": "stream",
     "text": [
      "Epoch 029: 100%|██████████| 59/59 [00:03<00:00, 15.01it/s, loss=0.1542]\n",
      "Running inference: 100%|██████████| 45/45 [00:02<00:00, 22.33it/s]\n",
      "Running inference: 100%|██████████| 45/45 [00:02<00:00, 22.24it/s]\n"
     ]
    },
    {
     "name": "stdout",
     "output_type": "stream",
     "text": [
      "Validation: {'precision': 41.0899, 'recall': 38.0902, 'f1': 38.5817, 'auc': 71.9228, 'prauc': 41.2751}\n",
      "Test:      {'precision': 45.6081, 'recall': 37.1328, 'f1': 38.0901, 'auc': 71.3593, 'prauc': 40.0115}\n",
      "\n",
      "Validation-long: {'precision': 43.0105, 'recall': 39.7449, 'f1': 40.4741, 'auc': 70.7251, 'prauc': 48.6196}\n",
      "Test-long: {'precision': 40.6937, 'recall': 39.5911, 'f1': 39.4958, 'auc': 72.3309, 'prauc': 44.4989}\n",
      "\n"
     ]
    },
    {
     "name": "stderr",
     "output_type": "stream",
     "text": [
      "Epoch 030: 100%|██████████| 59/59 [00:03<00:00, 14.89it/s, loss=0.1450]\n",
      "Running inference: 100%|██████████| 45/45 [00:02<00:00, 22.35it/s]\n",
      "Running inference: 100%|██████████| 45/45 [00:02<00:00, 22.47it/s]\n"
     ]
    },
    {
     "name": "stdout",
     "output_type": "stream",
     "text": [
      "Validation: {'precision': 40.8421, 'recall': 39.0099, 'f1': 39.5578, 'auc': 71.5134, 'prauc': 40.9663}\n",
      "Test:      {'precision': 41.5034, 'recall': 38.0111, 'f1': 39.0629, 'auc': 71.4602, 'prauc': 40.3033}\n",
      "\n",
      "Validation-long: {'precision': 42.1682, 'recall': 41.3326, 'f1': 41.5014, 'auc': 69.3357, 'prauc': 47.8893}\n",
      "Test-long: {'precision': 41.1175, 'recall': 39.9429, 'f1': 40.1985, 'auc': 70.8359, 'prauc': 44.1773}\n",
      "\n"
     ]
    },
    {
     "name": "stderr",
     "output_type": "stream",
     "text": [
      "Epoch 031: 100%|██████████| 59/59 [00:03<00:00, 15.06it/s, loss=0.1403]\n",
      "Running inference: 100%|██████████| 45/45 [00:02<00:00, 22.36it/s]\n",
      "Running inference: 100%|██████████| 45/45 [00:02<00:00, 19.84it/s]\n"
     ]
    },
    {
     "name": "stdout",
     "output_type": "stream",
     "text": [
      "Validation: {'precision': 40.9223, 'recall': 36.2981, 'f1': 37.8118, 'auc': 71.7702, 'prauc': 40.9711}\n",
      "Test:      {'precision': 40.3299, 'recall': 35.3083, 'f1': 37.2113, 'auc': 71.5309, 'prauc': 39.6301}\n",
      "\n",
      "Validation-long: {'precision': 42.9599, 'recall': 37.5808, 'f1': 39.0355, 'auc': 69.3586, 'prauc': 46.7487}\n",
      "Test-long: {'precision': 40.5104, 'recall': 34.3786, 'f1': 36.444, 'auc': 71.232, 'prauc': 44.3417}\n",
      "\n"
     ]
    },
    {
     "name": "stderr",
     "output_type": "stream",
     "text": [
      "Epoch 032: 100%|██████████| 59/59 [00:03<00:00, 14.93it/s, loss=0.1380]\n",
      "Running inference: 100%|██████████| 45/45 [00:02<00:00, 22.19it/s]\n",
      "Running inference: 100%|██████████| 45/45 [00:02<00:00, 22.47it/s]\n"
     ]
    },
    {
     "name": "stdout",
     "output_type": "stream",
     "text": [
      "Validation: {'precision': 40.014, 'recall': 38.9854, 'f1': 38.9442, 'auc': 71.0186, 'prauc': 40.7031}\n",
      "Test:      {'precision': 39.2586, 'recall': 37.2499, 'f1': 37.6882, 'auc': 70.8956, 'prauc': 39.1608}\n",
      "\n",
      "Validation-long: {'precision': 42.1033, 'recall': 40.5989, 'f1': 40.7619, 'auc': 68.454, 'prauc': 46.0147}\n",
      "Test-long: {'precision': 39.0117, 'recall': 38.9911, 'f1': 38.5289, 'auc': 70.2215, 'prauc': 43.2612}\n",
      "\n"
     ]
    },
    {
     "name": "stderr",
     "output_type": "stream",
     "text": [
      "Epoch 033: 100%|██████████| 59/59 [00:03<00:00, 15.09it/s, loss=0.1342]\n",
      "Running inference: 100%|██████████| 45/45 [00:02<00:00, 22.36it/s]\n",
      "Running inference: 100%|██████████| 45/45 [00:02<00:00, 22.35it/s]\n"
     ]
    },
    {
     "name": "stdout",
     "output_type": "stream",
     "text": [
      "Validation: {'precision': 41.7245, 'recall': 36.2456, 'f1': 38.1941, 'auc': 71.6029, 'prauc': 41.0519}\n",
      "Test:      {'precision': 41.6581, 'recall': 35.2508, 'f1': 37.6377, 'auc': 71.3078, 'prauc': 39.5508}\n",
      "\n",
      "Validation-long: {'precision': 43.7664, 'recall': 37.1305, 'f1': 39.5461, 'auc': 69.7938, 'prauc': 46.5105}\n",
      "Test-long: {'precision': 41.559, 'recall': 35.0655, 'f1': 37.4586, 'auc': 70.6868, 'prauc': 45.0553}\n",
      "\n"
     ]
    },
    {
     "name": "stderr",
     "output_type": "stream",
     "text": [
      "Epoch 034: 100%|██████████| 59/59 [00:03<00:00, 14.92it/s, loss=0.1285]\n",
      "Running inference: 100%|██████████| 45/45 [00:02<00:00, 22.24it/s]\n",
      "Running inference: 100%|██████████| 45/45 [00:02<00:00, 22.31it/s]\n"
     ]
    },
    {
     "name": "stdout",
     "output_type": "stream",
     "text": [
      "Validation: {'precision': 40.6901, 'recall': 37.3213, 'f1': 38.6135, 'auc': 71.2069, 'prauc': 40.4268}\n",
      "Test:      {'precision': 39.7124, 'recall': 35.2951, 'f1': 37.0378, 'auc': 71.2335, 'prauc': 39.5156}\n",
      "\n",
      "Validation-long: {'precision': 42.6448, 'recall': 38.1829, 'f1': 39.5305, 'auc': 68.4279, 'prauc': 46.0435}\n",
      "Test-long: {'precision': 40.6567, 'recall': 34.768, 'f1': 37.0864, 'auc': 70.3098, 'prauc': 44.3346}\n",
      "\n"
     ]
    },
    {
     "name": "stderr",
     "output_type": "stream",
     "text": [
      "Epoch 035: 100%|██████████| 59/59 [00:03<00:00, 15.09it/s, loss=0.1166]\n",
      "Running inference: 100%|██████████| 45/45 [00:02<00:00, 22.25it/s]\n",
      "Running inference: 100%|██████████| 45/45 [00:02<00:00, 22.29it/s]\n"
     ]
    },
    {
     "name": "stdout",
     "output_type": "stream",
     "text": [
      "Validation: {'precision': 40.4833, 'recall': 37.9377, 'f1': 38.7998, 'auc': 71.3209, 'prauc': 40.6464}\n",
      "Test:      {'precision': 40.5936, 'recall': 36.7731, 'f1': 38.1227, 'auc': 71.1764, 'prauc': 39.5666}\n",
      "\n",
      "Validation-long: {'precision': 41.1253, 'recall': 40.2905, 'f1': 40.0385, 'auc': 68.4813, 'prauc': 45.5951}\n",
      "Test-long: {'precision': 40.298, 'recall': 39.2714, 'f1': 39.4804, 'auc': 69.6386, 'prauc': 43.8037}\n",
      "\n",
      "\n",
      "Early stopping triggered (no improvement for 5 epochs).\n",
      "\n",
      "Best validation performance:\n",
      "{'global': {'precision': 40.8421, 'recall': 39.0099, 'f1': 39.5578, 'auc': 71.5134, 'prauc': 40.9663}, 'per_class':                                            precision   recall       f1  \\\n",
      "Acute and unspecified renal failure          43.2171  51.3825  46.9474   \n",
      "Acute cerebrovascular disease                 0.0000   0.0000   0.0000   \n",
      "Acute myocardial infarction                  17.6471   9.4737  12.3288   \n",
      "Cardiac dysrhythmias                         66.6075  68.4307  67.5068   \n",
      "Chronic kidney disease                       68.8022  72.6471  70.6724   \n",
      "Chronic obstructive pulmonary disease        55.6338  42.0213  47.8788   \n",
      "Conduction disorders                          0.0000   0.0000   0.0000   \n",
      "Congestive heart failure; nonhypertensive    65.1934  65.5556  65.3740   \n",
      "Coronary atherosclerosis and related         60.2007  52.4781  56.0748   \n",
      "Disorders of lipid metabolism                55.4974  55.6430  55.5701   \n",
      "Essential hypertension                       65.7471  55.5340  60.2105   \n",
      "Fluid and electrolyte disorders              46.5798  49.8258  48.1481   \n",
      "Gastrointestinal hemorrhage                  13.1148   8.0000   9.9379   \n",
      "Hypertension with complications              68.5358  68.9655  68.7500   \n",
      "Other liver diseases                         10.0000   2.3810   3.8462   \n",
      "Other lower respiratory disease              53.3207  54.6693  53.9866   \n",
      "Pneumonia                                    11.8182   8.7248  10.0386   \n",
      "Septicemia (except in labor)                 33.2418  36.4458  34.7701   \n",
      "\n",
      "                                               auc    prauc  \n",
      "Acute and unspecified renal failure        65.6637  43.0224  \n",
      "Acute cerebrovascular disease              68.4128   2.1034  \n",
      "Acute myocardial infarction                65.7691  13.1984  \n",
      "Cardiac dysrhythmias                       79.0288  69.6551  \n",
      "Chronic kidney disease                     89.9959  76.1914  \n",
      "Chronic obstructive pulmonary disease      83.2412  45.8489  \n",
      "Conduction disorders                       61.0187   3.0415  \n",
      "Congestive heart failure; nonhypertensive  80.7452  71.9050  \n",
      "Coronary atherosclerosis and related       83.2896  56.9774  \n",
      "Disorders of lipid metabolism              77.9465  56.0973  \n",
      "Essential hypertension                     77.0604  65.2222  \n",
      "Fluid and electrolyte disorders            57.7111  47.2503  \n",
      "Gastrointestinal hemorrhage                59.4836   9.8617  \n",
      "Hypertension with complications            87.9427  67.8079  \n",
      "Other liver diseases                       60.6890   4.8312  \n",
      "Other lower respiratory disease            68.9668  57.3853  \n",
      "Pneumonia                                  55.7925  12.6265  \n",
      "Septicemia (except in labor)               64.4845  34.3667  }\n",
      "Corresponding test performance:\n",
      "{'global': {'precision': 41.5034, 'recall': 38.0111, 'f1': 39.0629, 'auc': 71.4602, 'prauc': 40.3033}, 'per_class':                                            precision   recall       f1  \\\n",
      "Acute and unspecified renal failure          43.3198  50.1171  46.4712   \n",
      "Acute cerebrovascular disease                25.0000   4.1667   7.1429   \n",
      "Acute myocardial infarction                  22.4490  11.2245  14.9660   \n",
      "Cardiac dysrhythmias                         63.0682  62.3596  62.7119   \n",
      "Chronic kidney disease                       68.6930  68.6930  68.6930   \n",
      "Chronic obstructive pulmonary disease        48.3444  42.9412  45.4829   \n",
      "Conduction disorders                          0.0000   0.0000   0.0000   \n",
      "Congestive heart failure; nonhypertensive    67.6892  61.7537  64.5854   \n",
      "Coronary atherosclerosis and related         62.7820  52.0249  56.8995   \n",
      "Disorders of lipid metabolism                54.7222  53.9726  54.3448   \n",
      "Essential hypertension                       63.7387  56.1508  59.7046   \n",
      "Fluid and electrolyte disorders              45.3752  46.5116  45.9364   \n",
      "Gastrointestinal hemorrhage                  14.5455   8.3333  10.5960   \n",
      "Hypertension with complications              64.9842  67.3203  66.1316   \n",
      "Other liver diseases                          0.0000   0.0000   0.0000   \n",
      "Other lower respiratory disease              52.2814  48.3304  50.2283   \n",
      "Pneumonia                                    16.1017  10.1064  12.4183   \n",
      "Septicemia (except in labor)                 33.9674  40.1929  36.8189   \n",
      "\n",
      "                                               auc    prauc  \n",
      "Acute and unspecified renal failure        65.1347  40.3021  \n",
      "Acute cerebrovascular disease              72.2568   8.4729  \n",
      "Acute myocardial infarction                69.9890  17.2617  \n",
      "Cardiac dysrhythmias                       76.6593  69.7874  \n",
      "Chronic kidney disease                     89.3471  75.4099  \n",
      "Chronic obstructive pulmonary disease      79.1570  38.8407  \n",
      "Conduction disorders                       69.4758   4.1587  \n",
      "Congestive heart failure; nonhypertensive  79.8623  71.9254  \n",
      "Coronary atherosclerosis and related       85.1670  58.7667  \n",
      "Disorders of lipid metabolism              78.5980  52.7103  \n",
      "Essential hypertension                     77.0802  61.8890  \n",
      "Fluid and electrolyte disorders            57.9211  46.3635  \n",
      "Gastrointestinal hemorrhage                59.0940   9.9024  \n",
      "Hypertension with complications            86.7018  63.7847  \n",
      "Other liver diseases                       56.7552   2.6572  \n",
      "Other lower respiratory disease            63.8379  55.0669  \n",
      "Pneumonia                                  56.4539  15.3005  \n",
      "Septicemia (except in labor)               62.7922  32.8601  }\n",
      "Corresponding test-long performance:\n",
      "{'global': {'precision': 41.1175, 'recall': 39.9429, 'f1': 40.1985, 'auc': 70.8359, 'prauc': 44.1773}, 'per_class':                                            precision   recall       f1  \\\n",
      "Acute and unspecified renal failure          57.1429  54.2373  55.6522   \n",
      "Acute cerebrovascular disease                 0.0000   0.0000   0.0000   \n",
      "Acute myocardial infarction                   0.0000   0.0000   0.0000   \n",
      "Cardiac dysrhythmias                         59.2593  60.0000  59.6273   \n",
      "Chronic kidney disease                       79.1667  73.0769  76.0000   \n",
      "Chronic obstructive pulmonary disease        47.6190  38.4615  42.5532   \n",
      "Conduction disorders                          0.0000   0.0000   0.0000   \n",
      "Congestive heart failure; nonhypertensive    71.9101  69.5652  70.7182   \n",
      "Coronary atherosclerosis and related         57.7778  59.0909  58.4270   \n",
      "Disorders of lipid metabolism                54.1667  53.0612  53.6082   \n",
      "Essential hypertension                       53.0612  53.0612  53.0612   \n",
      "Fluid and electrolyte disorders              57.3034  52.0408  54.5455   \n",
      "Gastrointestinal hemorrhage                  20.0000   5.5556   8.6957   \n",
      "Hypertension with complications              74.6269  73.5294  74.0741   \n",
      "Other liver diseases                          0.0000   0.0000   0.0000   \n",
      "Other lower respiratory disease              59.8039  64.8936  62.2449   \n",
      "Pneumonia                                     8.0000   8.6957   8.3333   \n",
      "Septicemia (except in labor)                 40.2778  53.7037  46.0317   \n",
      "\n",
      "                                               auc    prauc  \n",
      "Acute and unspecified renal failure        71.9205  49.3812  \n",
      "Acute cerebrovascular disease              70.0000   0.8772  \n",
      "Acute myocardial infarction                71.1080  10.6588  \n",
      "Cardiac dysrhythmias                       68.2075  65.4577  \n",
      "Chronic kidney disease                     88.2894  86.2160  \n",
      "Chronic obstructive pulmonary disease      84.3750  44.4277  \n",
      "Conduction disorders                       66.7135   6.6892  \n",
      "Congestive heart failure; nonhypertensive  82.0363  83.1254  \n",
      "Coronary atherosclerosis and related       84.4990  61.4423  \n",
      "Disorders of lipid metabolism              78.1394  58.7800  \n",
      "Essential hypertension                     77.3350  60.9617  \n",
      "Fluid and electrolyte disorders            58.1401  54.9249  \n",
      "Gastrointestinal hemorrhage                58.0853  12.0695  \n",
      "Hypertension with complications            83.9606  77.8923  \n",
      "Other liver diseases                       56.1931   1.8699  \n",
      "Other lower respiratory disease            67.1716  70.6136  \n",
      "Pneumonia                                  46.2523  10.7840  \n",
      "Septicemia (except in labor)               62.6192  39.0207  }\n",
      "================================6==================================\n"
     ]
    },
    {
     "name": "stderr",
     "output_type": "stream",
     "text": [
      "Epoch 001: 100%|██████████| 59/59 [00:03<00:00, 14.98it/s, loss=0.4645]\n",
      "Running inference: 100%|██████████| 45/45 [00:02<00:00, 22.40it/s]\n",
      "Running inference: 100%|██████████| 45/45 [00:02<00:00, 22.33it/s]\n"
     ]
    },
    {
     "name": "stdout",
     "output_type": "stream",
     "text": [
      "Validation: {'precision': 30.031, 'recall': 23.4361, 'f1': 23.0233, 'auc': 66.8527, 'prauc': 36.392}\n",
      "Test:      {'precision': 30.1366, 'recall': 22.7253, 'f1': 22.7225, 'auc': 68.315, 'prauc': 35.9033}\n",
      "\n",
      "Validation-long: {'precision': 25.9826, 'recall': 24.5121, 'f1': 23.4011, 'auc': 63.4154, 'prauc': 40.9325}\n",
      "Test-long: {'precision': 28.7133, 'recall': 22.5979, 'f1': 22.7329, 'auc': 65.4416, 'prauc': 40.594}\n",
      "\n"
     ]
    },
    {
     "name": "stderr",
     "output_type": "stream",
     "text": [
      "Epoch 002: 100%|██████████| 59/59 [00:03<00:00, 14.98it/s, loss=0.4018]\n",
      "Running inference: 100%|██████████| 45/45 [00:02<00:00, 20.02it/s]\n",
      "Running inference: 100%|██████████| 45/45 [00:02<00:00, 22.25it/s]\n"
     ]
    },
    {
     "name": "stdout",
     "output_type": "stream",
     "text": [
      "Validation: {'precision': 35.9259, 'recall': 23.0668, 'f1': 26.2037, 'auc': 71.1265, 'prauc': 40.1882}\n",
      "Test:      {'precision': 34.7813, 'recall': 22.1452, 'f1': 25.145, 'auc': 72.8308, 'prauc': 39.796}\n",
      "\n",
      "Validation-long: {'precision': 38.7419, 'recall': 24.3583, 'f1': 28.2351, 'auc': 69.0189, 'prauc': 46.3682}\n",
      "Test-long: {'precision': 38.6365, 'recall': 22.0092, 'f1': 25.3248, 'auc': 72.7743, 'prauc': 44.3613}\n",
      "\n"
     ]
    },
    {
     "name": "stderr",
     "output_type": "stream",
     "text": [
      "Epoch 003: 100%|██████████| 59/59 [00:03<00:00, 15.22it/s, loss=0.3855]\n",
      "Running inference: 100%|██████████| 45/45 [00:02<00:00, 22.23it/s]\n",
      "Running inference: 100%|██████████| 45/45 [00:02<00:00, 22.40it/s]\n"
     ]
    },
    {
     "name": "stdout",
     "output_type": "stream",
     "text": [
      "Validation: {'precision': 38.4104, 'recall': 23.8166, 'f1': 28.5948, 'auc': 72.5104, 'prauc': 41.8572}\n",
      "Test:      {'precision': 41.9523, 'recall': 22.1653, 'f1': 26.887, 'auc': 73.8504, 'prauc': 41.6565}\n",
      "\n",
      "Validation-long: {'precision': 40.154, 'recall': 28.4761, 'f1': 32.4847, 'auc': 69.3648, 'prauc': 47.873}\n",
      "Test-long: {'precision': 43.202, 'recall': 24.5419, 'f1': 28.7417, 'auc': 73.5438, 'prauc': 45.419}\n",
      "\n"
     ]
    },
    {
     "name": "stderr",
     "output_type": "stream",
     "text": [
      "Epoch 004: 100%|██████████| 59/59 [00:03<00:00, 14.95it/s, loss=0.3728]\n",
      "Running inference: 100%|██████████| 45/45 [00:02<00:00, 22.36it/s]\n",
      "Running inference: 100%|██████████| 45/45 [00:02<00:00, 22.28it/s]\n"
     ]
    },
    {
     "name": "stdout",
     "output_type": "stream",
     "text": [
      "Validation: {'precision': 41.4981, 'recall': 22.537, 'f1': 27.6112, 'auc': 73.2906, 'prauc': 42.5017}\n",
      "Test:      {'precision': 46.4258, 'recall': 21.4837, 'f1': 26.7246, 'auc': 74.0874, 'prauc': 42.2436}\n",
      "\n",
      "Validation-long: {'precision': 46.6586, 'recall': 22.7622, 'f1': 27.8682, 'auc': 71.4757, 'prauc': 49.1857}\n",
      "Test-long: {'precision': 52.853, 'recall': 21.013, 'f1': 26.3394, 'auc': 72.4659, 'prauc': 45.6875}\n",
      "\n"
     ]
    },
    {
     "name": "stderr",
     "output_type": "stream",
     "text": [
      "Epoch 005: 100%|██████████| 59/59 [00:03<00:00, 15.07it/s, loss=0.3596]\n",
      "Running inference: 100%|██████████| 45/45 [00:02<00:00, 22.30it/s]\n",
      "Running inference: 100%|██████████| 45/45 [00:02<00:00, 22.21it/s]\n"
     ]
    },
    {
     "name": "stdout",
     "output_type": "stream",
     "text": [
      "Validation: {'precision': 41.4678, 'recall': 26.8517, 'f1': 31.0382, 'auc': 73.8877, 'prauc': 43.2658}\n",
      "Test:      {'precision': 43.1967, 'recall': 26.105, 'f1': 30.5919, 'auc': 74.8937, 'prauc': 43.2373}\n",
      "\n",
      "Validation-long: {'precision': 42.778, 'recall': 30.587, 'f1': 34.5466, 'auc': 71.1342, 'prauc': 49.1548}\n",
      "Test-long: {'precision': 47.5631, 'recall': 28.4735, 'f1': 33.2211, 'auc': 74.6324, 'prauc': 46.6223}\n",
      "\n"
     ]
    },
    {
     "name": "stderr",
     "output_type": "stream",
     "text": [
      "Epoch 006: 100%|██████████| 59/59 [00:03<00:00, 15.08it/s, loss=0.3508]\n",
      "Running inference: 100%|██████████| 45/45 [00:02<00:00, 22.25it/s]\n",
      "Running inference: 100%|██████████| 45/45 [00:02<00:00, 22.32it/s]\n"
     ]
    },
    {
     "name": "stdout",
     "output_type": "stream",
     "text": [
      "Validation: {'precision': 40.1701, 'recall': 33.6115, 'f1': 35.4318, 'auc': 74.4299, 'prauc': 44.0831}\n",
      "Test:      {'precision': 40.0498, 'recall': 32.9474, 'f1': 35.0604, 'auc': 75.2646, 'prauc': 43.6322}\n",
      "\n",
      "Validation-long: {'precision': 41.4117, 'recall': 36.1448, 'f1': 37.3894, 'auc': 71.576, 'prauc': 48.7545}\n",
      "Test-long: {'precision': 42.6443, 'recall': 35.7323, 'f1': 37.5595, 'auc': 75.329, 'prauc': 49.3271}\n",
      "\n"
     ]
    },
    {
     "name": "stderr",
     "output_type": "stream",
     "text": [
      "Epoch 007: 100%|██████████| 59/59 [00:03<00:00, 15.12it/s, loss=0.3408]\n",
      "Running inference: 100%|██████████| 45/45 [00:02<00:00, 22.08it/s]\n",
      "Running inference: 100%|██████████| 45/45 [00:02<00:00, 19.89it/s]\n"
     ]
    },
    {
     "name": "stdout",
     "output_type": "stream",
     "text": [
      "Validation: {'precision': 41.6867, 'recall': 33.2539, 'f1': 35.4305, 'auc': 74.693, 'prauc': 44.325}\n",
      "Test:      {'precision': 40.6707, 'recall': 31.8386, 'f1': 34.3386, 'auc': 74.8463, 'prauc': 43.1743}\n",
      "\n",
      "Validation-long: {'precision': 42.2222, 'recall': 37.3349, 'f1': 38.3337, 'auc': 71.758, 'prauc': 49.349}\n",
      "Test-long: {'precision': 40.987, 'recall': 34.5871, 'f1': 36.0075, 'auc': 75.545, 'prauc': 49.4462}\n",
      "\n"
     ]
    },
    {
     "name": "stderr",
     "output_type": "stream",
     "text": [
      "Epoch 008: 100%|██████████| 59/59 [00:03<00:00, 15.00it/s, loss=0.3308]\n",
      "Running inference: 100%|██████████| 45/45 [00:02<00:00, 22.28it/s]\n",
      "Running inference: 100%|██████████| 45/45 [00:02<00:00, 22.34it/s]\n"
     ]
    },
    {
     "name": "stdout",
     "output_type": "stream",
     "text": [
      "Validation: {'precision': 43.222, 'recall': 33.4573, 'f1': 36.4221, 'auc': 74.9908, 'prauc': 44.7166}\n",
      "Test:      {'precision': 43.2036, 'recall': 32.4907, 'f1': 35.697, 'auc': 75.1193, 'prauc': 43.6214}\n",
      "\n",
      "Validation-long: {'precision': 43.7109, 'recall': 33.8695, 'f1': 36.9865, 'auc': 72.1158, 'prauc': 50.842}\n",
      "Test-long: {'precision': 45.3728, 'recall': 33.2981, 'f1': 37.2465, 'auc': 75.4244, 'prauc': 48.3397}\n",
      "\n"
     ]
    },
    {
     "name": "stderr",
     "output_type": "stream",
     "text": [
      "Epoch 009: 100%|██████████| 59/59 [00:03<00:00, 15.04it/s, loss=0.3210]\n",
      "Running inference: 100%|██████████| 45/45 [00:02<00:00, 22.28it/s]\n",
      "Running inference: 100%|██████████| 45/45 [00:02<00:00, 22.00it/s]\n"
     ]
    },
    {
     "name": "stdout",
     "output_type": "stream",
     "text": [
      "Validation: {'precision': 43.1216, 'recall': 36.5542, 'f1': 38.222, 'auc': 74.65, 'prauc': 44.4721}\n",
      "Test:      {'precision': 41.484, 'recall': 35.1175, 'f1': 36.595, 'auc': 74.7833, 'prauc': 43.3256}\n",
      "\n",
      "Validation-long: {'precision': 45.2058, 'recall': 41.2315, 'f1': 42.5164, 'auc': 72.9171, 'prauc': 50.3428}\n",
      "Test-long: {'precision': 42.4796, 'recall': 39.1303, 'f1': 40.0681, 'auc': 75.3248, 'prauc': 49.6625}\n",
      "\n"
     ]
    },
    {
     "name": "stderr",
     "output_type": "stream",
     "text": [
      "Epoch 010: 100%|██████████| 59/59 [00:03<00:00, 15.04it/s, loss=0.3140]\n",
      "Running inference: 100%|██████████| 45/45 [00:02<00:00, 22.22it/s]\n",
      "Running inference: 100%|██████████| 45/45 [00:02<00:00, 22.03it/s]\n"
     ]
    },
    {
     "name": "stdout",
     "output_type": "stream",
     "text": [
      "Validation: {'precision': 41.0539, 'recall': 35.5664, 'f1': 37.6198, 'auc': 74.6881, 'prauc': 44.4503}\n",
      "Test:      {'precision': 41.3948, 'recall': 35.3009, 'f1': 37.219, 'auc': 74.423, 'prauc': 43.4137}\n",
      "\n",
      "Validation-long: {'precision': 43.4811, 'recall': 39.9917, 'f1': 41.1862, 'auc': 72.455, 'prauc': 49.8155}\n",
      "Test-long: {'precision': 41.5792, 'recall': 39.5472, 'f1': 40.0447, 'auc': 75.1212, 'prauc': 47.7812}\n",
      "\n"
     ]
    },
    {
     "name": "stderr",
     "output_type": "stream",
     "text": [
      "Epoch 011: 100%|██████████| 59/59 [00:03<00:00, 14.93it/s, loss=0.3040]\n",
      "Running inference: 100%|██████████| 45/45 [00:02<00:00, 21.91it/s]\n",
      "Running inference: 100%|██████████| 45/45 [00:02<00:00, 22.15it/s]\n"
     ]
    },
    {
     "name": "stdout",
     "output_type": "stream",
     "text": [
      "Validation: {'precision': 40.307, 'recall': 38.2129, 'f1': 38.5018, 'auc': 74.0071, 'prauc': 44.1254}\n",
      "Test:      {'precision': 40.9256, 'recall': 38.123, 'f1': 38.4981, 'auc': 74.3676, 'prauc': 42.9085}\n",
      "\n",
      "Validation-long: {'precision': 41.4715, 'recall': 41.3284, 'f1': 40.7883, 'auc': 72.0607, 'prauc': 50.0494}\n",
      "Test-long: {'precision': 40.8322, 'recall': 39.9828, 'f1': 40.1204, 'auc': 75.0237, 'prauc': 46.91}\n",
      "\n"
     ]
    },
    {
     "name": "stderr",
     "output_type": "stream",
     "text": [
      "Epoch 012: 100%|██████████| 59/59 [00:03<00:00, 15.13it/s, loss=0.2913]\n",
      "Running inference: 100%|██████████| 45/45 [00:02<00:00, 22.34it/s]\n",
      "Running inference: 100%|██████████| 45/45 [00:02<00:00, 22.40it/s]\n"
     ]
    },
    {
     "name": "stdout",
     "output_type": "stream",
     "text": [
      "Validation: {'precision': 46.1784, 'recall': 34.1078, 'f1': 36.233, 'auc': 73.824, 'prauc': 43.4525}\n",
      "Test:      {'precision': 41.9344, 'recall': 33.4335, 'f1': 36.0936, 'auc': 73.8229, 'prauc': 42.4081}\n",
      "\n",
      "Validation-long: {'precision': 42.0755, 'recall': 36.0271, 'f1': 37.9268, 'auc': 72.8839, 'prauc': 51.1953}\n",
      "Test-long: {'precision': 42.457, 'recall': 36.082, 'f1': 38.6748, 'auc': 74.8537, 'prauc': 46.2071}\n",
      "\n"
     ]
    },
    {
     "name": "stderr",
     "output_type": "stream",
     "text": [
      "Epoch 013: 100%|██████████| 59/59 [00:03<00:00, 15.07it/s, loss=0.2827]\n",
      "Running inference: 100%|██████████| 45/45 [00:02<00:00, 19.90it/s]\n",
      "Running inference: 100%|██████████| 45/45 [00:02<00:00, 22.29it/s]\n"
     ]
    },
    {
     "name": "stdout",
     "output_type": "stream",
     "text": [
      "Validation: {'precision': 47.4685, 'recall': 33.9711, 'f1': 36.5596, 'auc': 73.8296, 'prauc': 43.3479}\n",
      "Test:      {'precision': 43.0103, 'recall': 33.0219, 'f1': 35.9833, 'auc': 73.6038, 'prauc': 42.6777}\n",
      "\n",
      "Validation-long: {'precision': 45.1675, 'recall': 35.6734, 'f1': 38.8073, 'auc': 71.7504, 'prauc': 49.8069}\n",
      "Test-long: {'precision': 45.1819, 'recall': 34.0252, 'f1': 38.0724, 'auc': 73.9973, 'prauc': 47.5338}\n",
      "\n"
     ]
    },
    {
     "name": "stderr",
     "output_type": "stream",
     "text": [
      "Epoch 014: 100%|██████████| 59/59 [00:04<00:00, 14.74it/s, loss=0.2710]\n",
      "Running inference: 100%|██████████| 45/45 [00:02<00:00, 21.72it/s]\n",
      "Running inference: 100%|██████████| 45/45 [00:02<00:00, 21.63it/s]\n"
     ]
    },
    {
     "name": "stdout",
     "output_type": "stream",
     "text": [
      "Validation: {'precision': 46.5545, 'recall': 36.8581, 'f1': 37.4558, 'auc': 73.9148, 'prauc': 43.3339}\n",
      "Test:      {'precision': 41.7778, 'recall': 36.1623, 'f1': 37.2257, 'auc': 73.7064, 'prauc': 42.1196}\n",
      "\n",
      "Validation-long: {'precision': 41.1818, 'recall': 39.4635, 'f1': 39.2864, 'auc': 72.2379, 'prauc': 49.2909}\n",
      "Test-long: {'precision': 41.8361, 'recall': 40.3758, 'f1': 40.1171, 'auc': 73.7645, 'prauc': 47.7362}\n",
      "\n"
     ]
    },
    {
     "name": "stderr",
     "output_type": "stream",
     "text": [
      "Epoch 015: 100%|██████████| 59/59 [00:04<00:00, 14.45it/s, loss=0.2600]\n",
      "Running inference: 100%|██████████| 45/45 [00:02<00:00, 21.55it/s]\n",
      "Running inference: 100%|██████████| 45/45 [00:02<00:00, 21.69it/s]\n"
     ]
    },
    {
     "name": "stdout",
     "output_type": "stream",
     "text": [
      "Validation: {'precision': 44.7845, 'recall': 33.722, 'f1': 36.7303, 'auc': 73.3506, 'prauc': 43.2026}\n",
      "Test:      {'precision': 45.4509, 'recall': 33.036, 'f1': 36.4281, 'auc': 73.3926, 'prauc': 42.429}\n",
      "\n",
      "Validation-long: {'precision': 41.4728, 'recall': 37.4836, 'f1': 39.1669, 'auc': 71.6079, 'prauc': 49.2066}\n",
      "Test-long: {'precision': 40.816, 'recall': 35.7923, 'f1': 37.8941, 'auc': 74.8541, 'prauc': 49.1558}\n",
      "\n"
     ]
    },
    {
     "name": "stderr",
     "output_type": "stream",
     "text": [
      "Epoch 016: 100%|██████████| 59/59 [00:04<00:00, 14.33it/s, loss=0.2504]\n",
      "Running inference: 100%|██████████| 45/45 [00:02<00:00, 22.44it/s]\n",
      "Running inference: 100%|██████████| 45/45 [00:02<00:00, 22.25it/s]\n"
     ]
    },
    {
     "name": "stdout",
     "output_type": "stream",
     "text": [
      "Validation: {'precision': 43.3697, 'recall': 34.6965, 'f1': 36.3889, 'auc': 73.3399, 'prauc': 42.7429}\n",
      "Test:      {'precision': 42.5553, 'recall': 34.6157, 'f1': 36.7537, 'auc': 72.4438, 'prauc': 41.7798}\n",
      "\n",
      "Validation-long: {'precision': 43.5649, 'recall': 37.1191, 'f1': 38.4347, 'auc': 71.5838, 'prauc': 48.5761}\n",
      "Test-long: {'precision': 45.2086, 'recall': 36.9018, 'f1': 39.2454, 'auc': 73.2995, 'prauc': 45.7865}\n",
      "\n",
      "\n",
      "Early stopping triggered (no improvement for 5 epochs).\n",
      "\n",
      "Best validation performance:\n",
      "{'global': {'precision': 40.307, 'recall': 38.2129, 'f1': 38.5018, 'auc': 74.0071, 'prauc': 44.1254}, 'per_class':                                            precision   recall       f1  \\\n",
      "Acute and unspecified renal failure          47.2941  46.3134  46.7986   \n",
      "Acute cerebrovascular disease                 0.0000   0.0000   0.0000   \n",
      "Acute myocardial infarction                  17.6471   3.1579   5.3571   \n",
      "Cardiac dysrhythmias                         77.2824  66.4234  71.4426   \n",
      "Chronic kidney disease                       71.3881  74.1176  72.7273   \n",
      "Chronic obstructive pulmonary disease        57.2254  52.6596  54.8476   \n",
      "Conduction disorders                          0.0000   0.0000   0.0000   \n",
      "Congestive heart failure; nonhypertensive    65.4574  76.8519  70.6985   \n",
      "Coronary atherosclerosis and related         54.7727  70.2624  61.5581   \n",
      "Disorders of lipid metabolism                54.2986  62.9921  58.3232   \n",
      "Essential hypertension                       59.1760  61.3592  60.2479   \n",
      "Fluid and electrolyte disorders              48.4000  42.1603  45.0652   \n",
      "Gastrointestinal hemorrhage                   0.0000   0.0000   0.0000   \n",
      "Hypertension with complications              68.0251  68.0251  68.0251   \n",
      "Other liver diseases                          0.0000   0.0000   0.0000   \n",
      "Other lower respiratory disease              62.1984  45.1362  52.3112   \n",
      "Pneumonia                                     0.0000   0.0000   0.0000   \n",
      "Septicemia (except in labor)                 42.3611  18.3735  25.6303   \n",
      "\n",
      "                                               auc    prauc  \n",
      "Acute and unspecified renal failure        68.9147  46.5014  \n",
      "Acute cerebrovascular disease              65.0862   2.3640  \n",
      "Acute myocardial infarction                74.3258  17.1111  \n",
      "Cardiac dysrhythmias                       83.0021  77.3426  \n",
      "Chronic kidney disease                     90.6526  79.7088  \n",
      "Chronic obstructive pulmonary disease      85.3377  54.0921  \n",
      "Conduction disorders                       62.5338   3.2359  \n",
      "Congestive heart failure; nonhypertensive  84.0246  77.9907  \n",
      "Coronary atherosclerosis and related       83.7583  59.5049  \n",
      "Disorders of lipid metabolism              78.8436  58.1277  \n",
      "Essential hypertension                     75.9368  64.0523  \n",
      "Fluid and electrolyte disorders            58.2587  45.7940  \n",
      "Gastrointestinal hemorrhage                68.3427  14.7612  \n",
      "Hypertension with complications            89.1605  73.8513  \n",
      "Other liver diseases                       66.1654   5.3771  \n",
      "Other lower respiratory disease            71.8839  62.8647  \n",
      "Pneumonia                                  58.5795  14.8487  \n",
      "Septicemia (except in labor)               67.3210  36.7285  }\n",
      "Corresponding test performance:\n",
      "{'global': {'precision': 40.9256, 'recall': 38.123, 'f1': 38.4981, 'auc': 74.3676, 'prauc': 42.9085}, 'per_class':                                            precision   recall       f1  \\\n",
      "Acute and unspecified renal failure          47.2767  50.8197  48.9842   \n",
      "Acute cerebrovascular disease                 0.0000   0.0000   0.0000   \n",
      "Acute myocardial infarction                  33.3333   6.1224  10.3448   \n",
      "Cardiac dysrhythmias                         77.3455  63.2959  69.6189   \n",
      "Chronic kidney disease                       73.0303  73.2523  73.1411   \n",
      "Chronic obstructive pulmonary disease        53.2051  48.8235  50.9202   \n",
      "Conduction disorders                          0.0000   0.0000   0.0000   \n",
      "Congestive heart failure; nonhypertensive    63.5220  75.3731  68.9420   \n",
      "Coronary atherosclerosis and related         54.2579  69.4704  60.9290   \n",
      "Disorders of lipid metabolism                54.0146  60.8219  57.2165   \n",
      "Essential hypertension                       56.8519  60.9127  58.8123   \n",
      "Fluid and electrolyte disorders              48.7037  47.0483  47.8617   \n",
      "Gastrointestinal hemorrhage                   0.0000   0.0000   0.0000   \n",
      "Hypertension with complications              70.0000  70.9150  70.4545   \n",
      "Other liver diseases                          0.0000   0.0000   0.0000   \n",
      "Other lower respiratory disease              63.0814  38.1371  47.5356   \n",
      "Pneumonia                                     0.0000   0.0000   0.0000   \n",
      "Septicemia (except in labor)                 42.0382  21.2219  28.2051   \n",
      "\n",
      "                                               auc    prauc  \n",
      "Acute and unspecified renal failure        68.8242  43.5501  \n",
      "Acute cerebrovascular disease              69.4895   5.6916  \n",
      "Acute myocardial infarction                73.2804  15.2843  \n",
      "Cardiac dysrhythmias                       81.6066  75.2974  \n",
      "Chronic kidney disease                     91.1195  78.5423  \n",
      "Chronic obstructive pulmonary disease      82.8729  46.3714  \n",
      "Conduction disorders                       69.0442   4.3777  \n",
      "Congestive heart failure; nonhypertensive  82.0862  72.3492  \n",
      "Coronary atherosclerosis and related       84.9157  60.0612  \n",
      "Disorders of lipid metabolism              78.7191  52.5298  \n",
      "Essential hypertension                     74.7619  60.8235  \n",
      "Fluid and electrolyte disorders            61.0510  47.8240  \n",
      "Gastrointestinal hemorrhage                65.5457  13.5315  \n",
      "Hypertension with complications            89.3166  74.5310  \n",
      "Other liver diseases                       70.8852   4.0909  \n",
      "Other lower respiratory disease            66.8333  59.3838  \n",
      "Pneumonia                                  59.6250  20.1700  \n",
      "Septicemia (except in labor)               68.6390  37.9441  }\n",
      "Corresponding test-long performance:\n",
      "{'global': {'precision': 40.8322, 'recall': 39.9828, 'f1': 40.1204, 'auc': 75.0237, 'prauc': 46.91}, 'per_class':                                            precision   recall       f1  \\\n",
      "Acute and unspecified renal failure          50.6667  64.4068  56.7164   \n",
      "Acute cerebrovascular disease                 0.0000   0.0000   0.0000   \n",
      "Acute myocardial infarction                   0.0000   0.0000   0.0000   \n",
      "Cardiac dysrhythmias                         79.3651  62.5000  69.9301   \n",
      "Chronic kidney disease                       83.5821  71.7949  77.2414   \n",
      "Chronic obstructive pulmonary disease        47.3684  34.6154  40.0000   \n",
      "Conduction disorders                          0.0000   0.0000   0.0000   \n",
      "Congestive heart failure; nonhypertensive    71.1538  80.4348  75.5102   \n",
      "Coronary atherosclerosis and related         58.4906  70.4545  63.9175   \n",
      "Disorders of lipid metabolism                56.0000  57.1429  56.5657   \n",
      "Essential hypertension                       40.6780  48.9796  44.4444   \n",
      "Fluid and electrolyte disorders              58.4158  60.2041  59.2965   \n",
      "Gastrointestinal hemorrhage                   0.0000   0.0000   0.0000   \n",
      "Hypertension with complications              75.8065  69.1176  72.3077   \n",
      "Other liver diseases                          0.0000   0.0000   0.0000   \n",
      "Other lower respiratory disease              68.3544  57.4468  62.4277   \n",
      "Pneumonia                                     0.0000   0.0000   0.0000   \n",
      "Septicemia (except in labor)                 45.0980  42.5926  43.8095   \n",
      "\n",
      "                                               auc    prauc  \n",
      "Acute and unspecified renal failure        70.5192  47.5578  \n",
      "Acute cerebrovascular disease              85.6757   1.7857  \n",
      "Acute myocardial infarction                71.8750  10.2720  \n",
      "Cardiac dysrhythmias                       75.8196  73.0893  \n",
      "Chronic kidney disease                     90.2659  88.6554  \n",
      "Chronic obstructive pulmonary disease      82.5721  43.3866  \n",
      "Conduction disorders                       46.2781   5.6745  \n",
      "Congestive heart failure; nonhypertensive  84.4126  85.0781  \n",
      "Coronary atherosclerosis and related       85.4834  67.4470  \n",
      "Disorders of lipid metabolism              76.5157  52.5900  \n",
      "Essential hypertension                     72.4564  58.2175  \n",
      "Fluid and electrolyte disorders            55.0383  56.7924  \n",
      "Gastrointestinal hemorrhage                69.1138  14.0377  \n",
      "Hypertension with complications            88.2851  83.3863  \n",
      "Other liver diseases                       92.5319   9.3181  \n",
      "Other lower respiratory disease            71.6351  74.1823  \n",
      "Pneumonia                                  65.8709  25.5841  \n",
      "Septicemia (except in labor)               66.0774  47.3256  }\n",
      "================================7==================================\n"
     ]
    },
    {
     "name": "stderr",
     "output_type": "stream",
     "text": [
      "Epoch 001: 100%|██████████| 59/59 [00:03<00:00, 14.99it/s, loss=0.4696]\n",
      "Running inference: 100%|██████████| 45/45 [00:02<00:00, 22.31it/s]\n",
      "Running inference: 100%|██████████| 45/45 [00:02<00:00, 22.25it/s]\n"
     ]
    },
    {
     "name": "stdout",
     "output_type": "stream",
     "text": [
      "Validation: {'precision': 29.3496, 'recall': 24.0691, 'f1': 25.1877, 'auc': 65.8929, 'prauc': 36.6667}\n",
      "Test:      {'precision': 28.6068, 'recall': 22.9144, 'f1': 24.2454, 'auc': 66.3846, 'prauc': 35.3564}\n",
      "\n",
      "Validation-long: {'precision': 30.9695, 'recall': 26.9422, 'f1': 25.7351, 'auc': 65.18, 'prauc': 43.2934}\n",
      "Test-long: {'precision': 32.0757, 'recall': 25.9761, 'f1': 25.915, 'auc': 62.2763, 'prauc': 39.5455}\n",
      "\n"
     ]
    },
    {
     "name": "stderr",
     "output_type": "stream",
     "text": [
      "Epoch 002: 100%|██████████| 59/59 [00:03<00:00, 15.13it/s, loss=0.4040]\n",
      "Running inference: 100%|██████████| 45/45 [00:02<00:00, 19.97it/s]\n",
      "Running inference: 100%|██████████| 45/45 [00:02<00:00, 22.32it/s]\n"
     ]
    },
    {
     "name": "stdout",
     "output_type": "stream",
     "text": [
      "Validation: {'precision': 37.4598, 'recall': 17.3027, 'f1': 21.493, 'auc': 71.0573, 'prauc': 40.3032}\n",
      "Test:      {'precision': 36.9449, 'recall': 17.0439, 'f1': 21.3121, 'auc': 72.3448, 'prauc': 39.2683}\n",
      "\n",
      "Validation-long: {'precision': 33.2024, 'recall': 17.2787, 'f1': 20.6628, 'auc': 69.359, 'prauc': 46.824}\n",
      "Test-long: {'precision': 39.5829, 'recall': 17.5268, 'f1': 21.1145, 'auc': 70.3613, 'prauc': 42.4377}\n",
      "\n"
     ]
    },
    {
     "name": "stderr",
     "output_type": "stream",
     "text": [
      "Epoch 003: 100%|██████████| 59/59 [00:03<00:00, 15.10it/s, loss=0.3852]\n",
      "Running inference: 100%|██████████| 45/45 [00:02<00:00, 21.98it/s]\n",
      "Running inference: 100%|██████████| 45/45 [00:02<00:00, 22.19it/s]\n"
     ]
    },
    {
     "name": "stdout",
     "output_type": "stream",
     "text": [
      "Validation: {'precision': 39.4835, 'recall': 32.0681, 'f1': 31.8881, 'auc': 73.2695, 'prauc': 42.067}\n",
      "Test:      {'precision': 32.6831, 'recall': 30.7252, 'f1': 30.5955, 'auc': 73.7834, 'prauc': 41.5607}\n",
      "\n",
      "Validation-long: {'precision': 36.383, 'recall': 33.8168, 'f1': 33.5357, 'auc': 71.1326, 'prauc': 48.4325}\n",
      "Test-long: {'precision': 36.2227, 'recall': 30.0098, 'f1': 31.2687, 'auc': 71.8932, 'prauc': 45.0727}\n",
      "\n"
     ]
    },
    {
     "name": "stderr",
     "output_type": "stream",
     "text": [
      "Epoch 004: 100%|██████████| 59/59 [00:03<00:00, 15.04it/s, loss=0.3684]\n",
      "Running inference: 100%|██████████| 45/45 [00:02<00:00, 22.32it/s]\n",
      "Running inference: 100%|██████████| 45/45 [00:02<00:00, 22.21it/s]\n"
     ]
    },
    {
     "name": "stdout",
     "output_type": "stream",
     "text": [
      "Validation: {'precision': 41.8389, 'recall': 30.5075, 'f1': 33.0362, 'auc': 73.8105, 'prauc': 43.3929}\n",
      "Test:      {'precision': 42.0116, 'recall': 29.7679, 'f1': 32.2215, 'auc': 74.0062, 'prauc': 42.5657}\n",
      "\n",
      "Validation-long: {'precision': 48.1588, 'recall': 34.3776, 'f1': 36.7868, 'auc': 72.6703, 'prauc': 49.4591}\n",
      "Test-long: {'precision': 46.5602, 'recall': 31.463, 'f1': 34.4172, 'auc': 72.991, 'prauc': 46.2889}\n",
      "\n"
     ]
    },
    {
     "name": "stderr",
     "output_type": "stream",
     "text": [
      "Epoch 005: 100%|██████████| 59/59 [00:03<00:00, 14.96it/s, loss=0.3581]\n",
      "Running inference: 100%|██████████| 45/45 [00:02<00:00, 22.37it/s]\n",
      "Running inference: 100%|██████████| 45/45 [00:02<00:00, 22.30it/s]\n"
     ]
    },
    {
     "name": "stdout",
     "output_type": "stream",
     "text": [
      "Validation: {'precision': 41.3679, 'recall': 30.5994, 'f1': 33.1845, 'auc': 74.6677, 'prauc': 44.3189}\n",
      "Test:      {'precision': 41.3352, 'recall': 29.5589, 'f1': 32.3836, 'auc': 75.3453, 'prauc': 43.6311}\n",
      "\n",
      "Validation-long: {'precision': 48.1885, 'recall': 35.6162, 'f1': 37.2438, 'auc': 72.159, 'prauc': 49.3784}\n",
      "Test-long: {'precision': 43.1265, 'recall': 32.9369, 'f1': 35.5102, 'auc': 74.9773, 'prauc': 46.638}\n",
      "\n"
     ]
    },
    {
     "name": "stderr",
     "output_type": "stream",
     "text": [
      "Epoch 006: 100%|██████████| 59/59 [00:03<00:00, 14.88it/s, loss=0.3467]\n",
      "Running inference: 100%|██████████| 45/45 [00:02<00:00, 22.14it/s]\n",
      "Running inference: 100%|██████████| 45/45 [00:02<00:00, 21.95it/s]\n"
     ]
    },
    {
     "name": "stdout",
     "output_type": "stream",
     "text": [
      "Validation: {'precision': 43.4182, 'recall': 31.8411, 'f1': 35.031, 'auc': 74.7007, 'prauc': 44.5691}\n",
      "Test:      {'precision': 43.1686, 'recall': 30.9293, 'f1': 34.2003, 'auc': 75.4022, 'prauc': 43.4605}\n",
      "\n",
      "Validation-long: {'precision': 47.3184, 'recall': 34.8515, 'f1': 37.3001, 'auc': 71.1851, 'prauc': 51.2009}\n",
      "Test-long: {'precision': 47.3098, 'recall': 33.2636, 'f1': 36.2646, 'auc': 73.9912, 'prauc': 46.8173}\n",
      "\n"
     ]
    },
    {
     "name": "stderr",
     "output_type": "stream",
     "text": [
      "Epoch 007: 100%|██████████| 59/59 [00:03<00:00, 14.89it/s, loss=0.3361]\n",
      "Running inference: 100%|██████████| 45/45 [00:02<00:00, 21.99it/s]\n",
      "Running inference: 100%|██████████| 45/45 [00:02<00:00, 22.04it/s]\n"
     ]
    },
    {
     "name": "stdout",
     "output_type": "stream",
     "text": [
      "Validation: {'precision': 50.9933, 'recall': 32.867, 'f1': 36.1116, 'auc': 74.9663, 'prauc': 44.9963}\n",
      "Test:      {'precision': 42.7818, 'recall': 31.7501, 'f1': 34.9963, 'auc': 75.3122, 'prauc': 44.2588}\n",
      "\n",
      "Validation-long: {'precision': 46.0733, 'recall': 34.4865, 'f1': 37.9631, 'auc': 72.1853, 'prauc': 51.8313}\n",
      "Test-long: {'precision': 45.6301, 'recall': 34.893, 'f1': 38.6602, 'auc': 75.7452, 'prauc': 49.002}\n",
      "\n"
     ]
    },
    {
     "name": "stderr",
     "output_type": "stream",
     "text": [
      "Epoch 008: 100%|██████████| 59/59 [00:04<00:00, 13.92it/s, loss=0.3267]\n",
      "Running inference: 100%|██████████| 45/45 [00:02<00:00, 22.09it/s]\n",
      "Running inference: 100%|██████████| 45/45 [00:02<00:00, 22.01it/s]\n"
     ]
    },
    {
     "name": "stdout",
     "output_type": "stream",
     "text": [
      "Validation: {'precision': 47.5573, 'recall': 32.7274, 'f1': 35.744, 'auc': 74.776, 'prauc': 44.4955}\n",
      "Test:      {'precision': 43.7691, 'recall': 32.1741, 'f1': 34.9752, 'auc': 74.8949, 'prauc': 43.2809}\n",
      "\n",
      "Validation-long: {'precision': 44.9692, 'recall': 35.1705, 'f1': 37.718, 'auc': 72.0105, 'prauc': 49.4079}\n",
      "Test-long: {'precision': 44.8522, 'recall': 35.3477, 'f1': 38.1654, 'auc': 74.4521, 'prauc': 46.8295}\n",
      "\n"
     ]
    },
    {
     "name": "stderr",
     "output_type": "stream",
     "text": [
      "Epoch 009: 100%|██████████| 59/59 [00:03<00:00, 14.92it/s, loss=0.3180]\n",
      "Running inference: 100%|██████████| 45/45 [00:02<00:00, 22.45it/s]\n",
      "Running inference: 100%|██████████| 45/45 [00:02<00:00, 22.23it/s]\n"
     ]
    },
    {
     "name": "stdout",
     "output_type": "stream",
     "text": [
      "Validation: {'precision': 49.9303, 'recall': 35.5849, 'f1': 38.195, 'auc': 74.853, 'prauc': 45.083}\n",
      "Test:      {'precision': 44.2889, 'recall': 34.2576, 'f1': 37.0175, 'auc': 74.6233, 'prauc': 43.4774}\n",
      "\n",
      "Validation-long: {'precision': 47.6256, 'recall': 39.1877, 'f1': 39.9025, 'auc': 71.9593, 'prauc': 50.482}\n",
      "Test-long: {'precision': 43.5061, 'recall': 37.0693, 'f1': 38.7077, 'auc': 75.0393, 'prauc': 47.0073}\n",
      "\n"
     ]
    },
    {
     "name": "stderr",
     "output_type": "stream",
     "text": [
      "Epoch 010: 100%|██████████| 59/59 [00:03<00:00, 14.98it/s, loss=0.3077]\n",
      "Running inference: 100%|██████████| 45/45 [00:02<00:00, 22.32it/s]\n",
      "Running inference: 100%|██████████| 45/45 [00:02<00:00, 22.01it/s]\n"
     ]
    },
    {
     "name": "stdout",
     "output_type": "stream",
     "text": [
      "Validation: {'precision': 44.7133, 'recall': 36.1084, 'f1': 37.6696, 'auc': 74.5755, 'prauc': 44.5972}\n",
      "Test:      {'precision': 41.3947, 'recall': 35.492, 'f1': 36.724, 'auc': 74.7768, 'prauc': 43.3182}\n",
      "\n",
      "Validation-long: {'precision': 45.4291, 'recall': 35.2712, 'f1': 37.7936, 'auc': 71.5894, 'prauc': 50.2583}\n",
      "Test-long: {'precision': 43.0237, 'recall': 34.9495, 'f1': 37.3765, 'auc': 74.839, 'prauc': 48.5117}\n",
      "\n"
     ]
    },
    {
     "name": "stderr",
     "output_type": "stream",
     "text": [
      "Epoch 011: 100%|██████████| 59/59 [00:03<00:00, 14.92it/s, loss=0.2978]\n",
      "Running inference: 100%|██████████| 45/45 [00:02<00:00, 22.12it/s]\n",
      "Running inference: 100%|██████████| 45/45 [00:02<00:00, 22.22it/s]\n"
     ]
    },
    {
     "name": "stdout",
     "output_type": "stream",
     "text": [
      "Validation: {'precision': 45.1501, 'recall': 33.7149, 'f1': 37.3568, 'auc': 74.9868, 'prauc': 44.3929}\n",
      "Test:      {'precision': 45.1036, 'recall': 32.7682, 'f1': 36.3879, 'auc': 74.9133, 'prauc': 43.2061}\n",
      "\n",
      "Validation-long: {'precision': 47.1195, 'recall': 33.5237, 'f1': 37.3474, 'auc': 72.93, 'prauc': 50.7829}\n",
      "Test-long: {'precision': 44.0517, 'recall': 33.9368, 'f1': 37.5907, 'auc': 73.546, 'prauc': 46.936}\n",
      "\n"
     ]
    },
    {
     "name": "stderr",
     "output_type": "stream",
     "text": [
      "Epoch 012: 100%|██████████| 59/59 [00:03<00:00, 15.13it/s, loss=0.2898]\n",
      "Running inference: 100%|██████████| 45/45 [00:02<00:00, 22.36it/s]\n",
      "Running inference: 100%|██████████| 45/45 [00:02<00:00, 22.08it/s]\n"
     ]
    },
    {
     "name": "stdout",
     "output_type": "stream",
     "text": [
      "Validation: {'precision': 48.1985, 'recall': 35.3854, 'f1': 36.9837, 'auc': 74.147, 'prauc': 44.2197}\n",
      "Test:      {'precision': 42.164, 'recall': 34.6317, 'f1': 36.4002, 'auc': 73.7558, 'prauc': 42.5256}\n",
      "\n",
      "Validation-long: {'precision': 44.7823, 'recall': 38.4203, 'f1': 39.9711, 'auc': 72.9863, 'prauc': 50.5607}\n",
      "Test-long: {'precision': 42.2409, 'recall': 38.378, 'f1': 39.4747, 'auc': 73.5074, 'prauc': 45.9426}\n",
      "\n"
     ]
    },
    {
     "name": "stderr",
     "output_type": "stream",
     "text": [
      "Epoch 013: 100%|██████████| 59/59 [00:03<00:00, 14.95it/s, loss=0.2791]\n",
      "Running inference: 100%|██████████| 45/45 [00:02<00:00, 20.01it/s]\n",
      "Running inference: 100%|██████████| 45/45 [00:02<00:00, 22.16it/s]\n"
     ]
    },
    {
     "name": "stdout",
     "output_type": "stream",
     "text": [
      "Validation: {'precision': 47.0604, 'recall': 35.4175, 'f1': 37.7646, 'auc': 74.2975, 'prauc': 44.016}\n",
      "Test:      {'precision': 48.2207, 'recall': 34.4118, 'f1': 36.9008, 'auc': 74.2484, 'prauc': 42.6287}\n",
      "\n",
      "Validation-long: {'precision': 46.3338, 'recall': 37.7567, 'f1': 40.4214, 'auc': 72.3511, 'prauc': 50.7024}\n",
      "Test-long: {'precision': 42.448, 'recall': 36.309, 'f1': 38.4243, 'auc': 73.1079, 'prauc': 46.3641}\n",
      "\n"
     ]
    },
    {
     "name": "stderr",
     "output_type": "stream",
     "text": [
      "Epoch 014: 100%|██████████| 59/59 [00:03<00:00, 15.02it/s, loss=0.2671]\n",
      "Running inference: 100%|██████████| 45/45 [00:02<00:00, 22.18it/s]\n",
      "Running inference: 100%|██████████| 45/45 [00:02<00:00, 22.07it/s]\n"
     ]
    },
    {
     "name": "stdout",
     "output_type": "stream",
     "text": [
      "Validation: {'precision': 42.9707, 'recall': 34.7574, 'f1': 37.0529, 'auc': 74.1299, 'prauc': 43.8872}\n",
      "Test:      {'precision': 43.7645, 'recall': 34.382, 'f1': 36.7189, 'auc': 73.5923, 'prauc': 42.2742}\n",
      "\n",
      "Validation-long: {'precision': 46.3441, 'recall': 36.0537, 'f1': 39.4338, 'auc': 72.7779, 'prauc': 50.9779}\n",
      "Test-long: {'precision': 42.0365, 'recall': 35.9824, 'f1': 38.4691, 'auc': 73.9124, 'prauc': 48.6732}\n",
      "\n",
      "\n",
      "Early stopping triggered (no improvement for 5 epochs).\n",
      "\n",
      "Best validation performance:\n",
      "{'global': {'precision': 49.9303, 'recall': 35.5849, 'f1': 38.195, 'auc': 74.853, 'prauc': 45.083}, 'per_class':                                            precision   recall       f1  \\\n",
      "Acute and unspecified renal failure          55.7491  36.8664  44.3828   \n",
      "Acute cerebrovascular disease                 0.0000   0.0000   0.0000   \n",
      "Acute myocardial infarction                  33.3333   1.0526   2.0408   \n",
      "Cardiac dysrhythmias                         82.1429  62.9562  71.2810   \n",
      "Chronic kidney disease                       77.1242  69.4118  73.0650   \n",
      "Chronic obstructive pulmonary disease        65.9574  32.9787  43.9716   \n",
      "Conduction disorders                          0.0000   0.0000   0.0000   \n",
      "Congestive heart failure; nonhypertensive    73.1809  65.1852  68.9520   \n",
      "Coronary atherosclerosis and related         62.9213  48.9796  55.0820   \n",
      "Disorders of lipid metabolism                58.4135  63.7795  60.9787   \n",
      "Essential hypertension                       61.9048  65.6311  63.7135   \n",
      "Fluid and electrolyte disorders              51.5651  54.5296  53.0059   \n",
      "Gastrointestinal hemorrhage                 100.0000   1.0000   1.9802   \n",
      "Hypertension with complications              75.9843  60.5016  67.3647   \n",
      "Other liver diseases                          0.0000   0.0000   0.0000   \n",
      "Other lower respiratory disease              53.8593  61.0895  57.2470   \n",
      "Pneumonia                                     0.0000   0.0000   0.0000   \n",
      "Septicemia (except in labor)                 46.6102  16.5663  24.4444   \n",
      "\n",
      "                                               auc    prauc  \n",
      "Acute and unspecified renal failure        69.7524  47.8474  \n",
      "Acute cerebrovascular disease              66.7964   2.0772  \n",
      "Acute myocardial infarction                73.7026  20.0596  \n",
      "Cardiac dysrhythmias                       84.8045  80.8706  \n",
      "Chronic kidney disease                     90.9865  80.6027  \n",
      "Chronic obstructive pulmonary disease      84.8676  51.3542  \n",
      "Conduction disorders                       64.9854   3.7732  \n",
      "Congestive heart failure; nonhypertensive  83.9443  75.9502  \n",
      "Coronary atherosclerosis and related       84.6757  61.1665  \n",
      "Disorders of lipid metabolism              80.4643  60.7364  \n",
      "Essential hypertension                     78.4102  66.7886  \n",
      "Fluid and electrolyte disorders            62.4597  51.4019  \n",
      "Gastrointestinal hemorrhage                67.1836  13.9057  \n",
      "Hypertension with complications            90.2107  74.9202  \n",
      "Other liver diseases                       66.9834   5.8745  \n",
      "Other lower respiratory disease            71.3314  62.1227  \n",
      "Pneumonia                                  56.8008  11.8785  \n",
      "Septicemia (except in labor)               68.9936  40.1641  }\n",
      "Corresponding test performance:\n",
      "{'global': {'precision': 44.2889, 'recall': 34.2576, 'f1': 37.0175, 'auc': 74.6233, 'prauc': 43.4774}, 'per_class':                                            precision   recall       f1  \\\n",
      "Acute and unspecified renal failure          52.5157  39.1101  44.8322   \n",
      "Acute cerebrovascular disease                 0.0000   0.0000   0.0000   \n",
      "Acute myocardial infarction                  50.0000   1.0204   2.0000   \n",
      "Cardiac dysrhythmias                         82.2943  61.7978  70.5882   \n",
      "Chronic kidney disease                       77.6224  67.4772  72.1951   \n",
      "Chronic obstructive pulmonary disease        63.2911  29.4118  40.1606   \n",
      "Conduction disorders                          0.0000   0.0000   0.0000   \n",
      "Congestive heart failure; nonhypertensive    68.7640  57.0896  62.3853   \n",
      "Coronary atherosclerosis and related         59.2885  46.7290  52.2648   \n",
      "Disorders of lipid metabolism                54.9367  59.4521  57.1053   \n",
      "Essential hypertension                       63.0798  67.4603  65.1965   \n",
      "Fluid and electrolyte disorders              51.0830  50.6261  50.8535   \n",
      "Gastrointestinal hemorrhage                   0.0000   0.0000   0.0000   \n",
      "Hypertension with complications              72.6562  60.7843  66.1922   \n",
      "Other liver diseases                          0.0000   0.0000   0.0000   \n",
      "Other lower respiratory disease              53.2554  56.0633  54.6233   \n",
      "Pneumonia                                     0.0000   0.0000   0.0000   \n",
      "Septicemia (except in labor)                 48.4127  19.6141  27.9176   \n",
      "\n",
      "                                               auc    prauc  \n",
      "Acute and unspecified renal failure        69.3543  46.2608  \n",
      "Acute cerebrovascular disease              70.3238   4.2620  \n",
      "Acute myocardial infarction                73.7937  16.7028  \n",
      "Cardiac dysrhythmias                       81.3372  75.8167  \n",
      "Chronic kidney disease                     90.9685  79.1916  \n",
      "Chronic obstructive pulmonary disease      83.1803  47.9867  \n",
      "Conduction disorders                       63.1338   3.6959  \n",
      "Congestive heart failure; nonhypertensive  81.7834  72.9083  \n",
      "Coronary atherosclerosis and related       85.2081  60.5746  \n",
      "Disorders of lipid metabolism              80.4010  54.9794  \n",
      "Essential hypertension                     79.6868  63.4407  \n",
      "Fluid and electrolyte disorders            63.2864  49.5744  \n",
      "Gastrointestinal hemorrhage                62.2959  12.9536  \n",
      "Hypertension with complications            89.5801  73.6776  \n",
      "Other liver diseases                       70.4072   3.4947  \n",
      "Other lower respiratory disease            66.7071  59.5002  \n",
      "Pneumonia                                  63.2818  19.5602  \n",
      "Septicemia (except in labor)               68.4896  38.0127  }\n",
      "Corresponding test-long performance:\n",
      "{'global': {'precision': 43.5061, 'recall': 37.0693, 'f1': 38.7077, 'auc': 75.0393, 'prauc': 47.0073}, 'per_class':                                            precision   recall       f1  \\\n",
      "Acute and unspecified renal failure          59.6154  52.5424  55.8559   \n",
      "Acute cerebrovascular disease                 0.0000   0.0000   0.0000   \n",
      "Acute myocardial infarction                   0.0000   0.0000   0.0000   \n",
      "Cardiac dysrhythmias                         82.7586  60.0000  69.5652   \n",
      "Chronic kidney disease                       85.0746  73.0769  78.6207   \n",
      "Chronic obstructive pulmonary disease        66.6667  15.3846  25.0000   \n",
      "Conduction disorders                          0.0000   0.0000   0.0000   \n",
      "Congestive heart failure; nonhypertensive    74.2857  56.5217  64.1975   \n",
      "Coronary atherosclerosis and related         65.5172  43.1818  52.0548   \n",
      "Disorders of lipid metabolism                47.2727  53.0612  50.0000   \n",
      "Essential hypertension                       55.7692  59.1837  57.4257   \n",
      "Fluid and electrolyte disorders              55.3957  78.5714  64.9789   \n",
      "Gastrointestinal hemorrhage                   0.0000   0.0000   0.0000   \n",
      "Hypertension with complications              80.7018  67.6471  73.6000   \n",
      "Other liver diseases                          0.0000   0.0000   0.0000   \n",
      "Other lower respiratory disease              58.5366  76.5957  66.3594   \n",
      "Pneumonia                                     0.0000   0.0000   0.0000   \n",
      "Septicemia (except in labor)                 51.5152  31.4815  39.0805   \n",
      "\n",
      "                                               auc    prauc  \n",
      "Acute and unspecified renal failure        72.9414  60.0343  \n",
      "Acute cerebrovascular disease              94.5946   4.5455  \n",
      "Acute myocardial infarction                69.0057   7.6540  \n",
      "Cardiac dysrhythmias                       74.8703  70.5643  \n",
      "Chronic kidney disease                     92.1712  90.4062  \n",
      "Chronic obstructive pulmonary disease      83.4615  50.6369  \n",
      "Conduction disorders                       47.0154   4.4848  \n",
      "Congestive heart failure; nonhypertensive  80.8164  79.9667  \n",
      "Coronary atherosclerosis and related       84.7471  66.3491  \n",
      "Disorders of lipid metabolism              75.5623  52.7432  \n",
      "Essential hypertension                     78.2437  52.4688  \n",
      "Fluid and electrolyte disorders            55.6296  55.8531  \n",
      "Gastrointestinal hemorrhage                74.0079  21.5902  \n",
      "Hypertension with complications            89.2323  83.9787  \n",
      "Other liver diseases                       75.2277   7.8756  \n",
      "Other lower respiratory disease            70.2995  71.2985  \n",
      "Pneumonia                                  64.2571  18.3807  \n",
      "Septicemia (except in labor)               68.6237  47.3006  }\n",
      "================================8==================================\n"
     ]
    },
    {
     "name": "stderr",
     "output_type": "stream",
     "text": [
      "Epoch 001: 100%|██████████| 59/59 [00:03<00:00, 14.92it/s, loss=0.4698]\n",
      "Running inference: 100%|██████████| 45/45 [00:02<00:00, 22.07it/s]\n",
      "Running inference: 100%|██████████| 45/45 [00:02<00:00, 22.09it/s]\n"
     ]
    },
    {
     "name": "stdout",
     "output_type": "stream",
     "text": [
      "Validation: {'precision': 39.8968, 'recall': 19.8249, 'f1': 23.7607, 'auc': 68.5044, 'prauc': 37.3146}\n",
      "Test:      {'precision': 34.5503, 'recall': 18.9942, 'f1': 22.6052, 'auc': 68.9594, 'prauc': 35.9813}\n",
      "\n",
      "Validation-long: {'precision': 38.6045, 'recall': 22.7535, 'f1': 25.3485, 'auc': 64.8532, 'prauc': 42.5576}\n",
      "Test-long: {'precision': 36.7699, 'recall': 22.665, 'f1': 25.7621, 'auc': 65.7533, 'prauc': 39.8016}\n",
      "\n"
     ]
    },
    {
     "name": "stderr",
     "output_type": "stream",
     "text": [
      "Epoch 002: 100%|██████████| 59/59 [00:03<00:00, 14.93it/s, loss=0.4000]\n",
      "Running inference: 100%|██████████| 45/45 [00:02<00:00, 22.23it/s]\n",
      "Running inference: 100%|██████████| 45/45 [00:02<00:00, 22.06it/s]\n"
     ]
    },
    {
     "name": "stdout",
     "output_type": "stream",
     "text": [
      "Validation: {'precision': 35.5543, 'recall': 28.1951, 'f1': 30.3949, 'auc': 71.9657, 'prauc': 40.8513}\n",
      "Test:      {'precision': 34.138, 'recall': 26.9892, 'f1': 29.1578, 'auc': 73.4526, 'prauc': 39.9506}\n",
      "\n",
      "Validation-long: {'precision': 39.3484, 'recall': 29.6479, 'f1': 31.7047, 'auc': 70.2181, 'prauc': 47.2626}\n",
      "Test-long: {'precision': 37.6011, 'recall': 26.5343, 'f1': 29.2108, 'auc': 70.7139, 'prauc': 43.3787}\n",
      "\n"
     ]
    },
    {
     "name": "stderr",
     "output_type": "stream",
     "text": [
      "Epoch 003: 100%|██████████| 59/59 [00:03<00:00, 14.97it/s, loss=0.3846]\n",
      "Running inference: 100%|██████████| 45/45 [00:02<00:00, 22.26it/s]\n",
      "Running inference: 100%|██████████| 45/45 [00:02<00:00, 21.91it/s]\n"
     ]
    },
    {
     "name": "stdout",
     "output_type": "stream",
     "text": [
      "Validation: {'precision': 42.6081, 'recall': 28.6877, 'f1': 30.5491, 'auc': 73.0994, 'prauc': 42.354}\n",
      "Test:      {'precision': 41.2316, 'recall': 27.7004, 'f1': 29.7232, 'auc': 74.3033, 'prauc': 41.7308}\n",
      "\n",
      "Validation-long: {'precision': 42.8985, 'recall': 32.878, 'f1': 34.1411, 'auc': 69.1118, 'prauc': 47.7307}\n",
      "Test-long: {'precision': 39.4046, 'recall': 29.9112, 'f1': 31.4064, 'auc': 73.5808, 'prauc': 45.2325}\n",
      "\n"
     ]
    },
    {
     "name": "stderr",
     "output_type": "stream",
     "text": [
      "Epoch 004: 100%|██████████| 59/59 [00:03<00:00, 14.79it/s, loss=0.3727]\n",
      "Running inference: 100%|██████████| 45/45 [00:02<00:00, 22.00it/s]\n",
      "Running inference: 100%|██████████| 45/45 [00:02<00:00, 19.77it/s]\n"
     ]
    },
    {
     "name": "stdout",
     "output_type": "stream",
     "text": [
      "Validation: {'precision': 38.545, 'recall': 35.8067, 'f1': 35.9618, 'auc': 73.6498, 'prauc': 43.1945}\n",
      "Test:      {'precision': 38.6297, 'recall': 35.463, 'f1': 35.6313, 'auc': 75.0762, 'prauc': 43.0342}\n",
      "\n",
      "Validation-long: {'precision': 41.251, 'recall': 38.1409, 'f1': 38.5454, 'auc': 69.9789, 'prauc': 47.269}\n",
      "Test-long: {'precision': 39.5077, 'recall': 35.8323, 'f1': 36.2614, 'auc': 74.0118, 'prauc': 45.6803}\n",
      "\n"
     ]
    },
    {
     "name": "stderr",
     "output_type": "stream",
     "text": [
      "Epoch 005: 100%|██████████| 59/59 [00:03<00:00, 14.94it/s, loss=0.3589]\n",
      "Running inference: 100%|██████████| 45/45 [00:02<00:00, 22.09it/s]\n",
      "Running inference: 100%|██████████| 45/45 [00:02<00:00, 22.20it/s]\n"
     ]
    },
    {
     "name": "stdout",
     "output_type": "stream",
     "text": [
      "Validation: {'precision': 36.0474, 'recall': 40.0038, 'f1': 37.726, 'auc': 73.7929, 'prauc': 44.1651}\n",
      "Test:      {'precision': 34.8863, 'recall': 38.5854, 'f1': 36.4969, 'auc': 74.6799, 'prauc': 43.2178}\n",
      "\n",
      "Validation-long: {'precision': 37.5395, 'recall': 42.5836, 'f1': 39.3746, 'auc': 69.1988, 'prauc': 49.7468}\n",
      "Test-long: {'precision': 36.1631, 'recall': 39.1666, 'f1': 36.9563, 'auc': 72.1677, 'prauc': 46.5011}\n",
      "\n"
     ]
    },
    {
     "name": "stderr",
     "output_type": "stream",
     "text": [
      "Epoch 006: 100%|██████████| 59/59 [00:03<00:00, 14.96it/s, loss=0.3506]\n",
      "Running inference: 100%|██████████| 45/45 [00:02<00:00, 22.35it/s]\n",
      "Running inference: 100%|██████████| 45/45 [00:02<00:00, 22.35it/s]\n"
     ]
    },
    {
     "name": "stdout",
     "output_type": "stream",
     "text": [
      "Validation: {'precision': 42.1821, 'recall': 33.1875, 'f1': 36.0639, 'auc': 74.1073, 'prauc': 44.3647}\n",
      "Test:      {'precision': 44.4712, 'recall': 31.3687, 'f1': 34.8623, 'auc': 74.9984, 'prauc': 43.967}\n",
      "\n",
      "Validation-long: {'precision': 45.1962, 'recall': 32.5796, 'f1': 36.0007, 'auc': 70.1464, 'prauc': 49.6371}\n",
      "Test-long: {'precision': 43.7745, 'recall': 29.3058, 'f1': 33.9312, 'auc': 73.4134, 'prauc': 46.2292}\n",
      "\n"
     ]
    },
    {
     "name": "stderr",
     "output_type": "stream",
     "text": [
      "Epoch 007: 100%|██████████| 59/59 [00:03<00:00, 15.00it/s, loss=0.3365]\n",
      "Running inference: 100%|██████████| 45/45 [00:02<00:00, 22.31it/s]\n",
      "Running inference: 100%|██████████| 45/45 [00:02<00:00, 22.02it/s]\n"
     ]
    },
    {
     "name": "stdout",
     "output_type": "stream",
     "text": [
      "Validation: {'precision': 42.0929, 'recall': 34.0219, 'f1': 36.2534, 'auc': 74.3188, 'prauc': 44.2312}\n",
      "Test:      {'precision': 43.6636, 'recall': 32.8215, 'f1': 35.362, 'auc': 75.4492, 'prauc': 44.2068}\n",
      "\n",
      "Validation-long: {'precision': 44.2023, 'recall': 36.1646, 'f1': 37.3941, 'auc': 70.4534, 'prauc': 49.2381}\n",
      "Test-long: {'precision': 42.9445, 'recall': 33.9566, 'f1': 36.07, 'auc': 74.0934, 'prauc': 47.1272}\n",
      "\n"
     ]
    },
    {
     "name": "stderr",
     "output_type": "stream",
     "text": [
      "Epoch 008: 100%|██████████| 59/59 [00:03<00:00, 15.01it/s, loss=0.3273]\n",
      "Running inference: 100%|██████████| 45/45 [00:02<00:00, 22.31it/s]\n",
      "Running inference: 100%|██████████| 45/45 [00:02<00:00, 22.17it/s]\n"
     ]
    },
    {
     "name": "stdout",
     "output_type": "stream",
     "text": [
      "Validation: {'precision': 44.5632, 'recall': 33.4819, 'f1': 36.9, 'auc': 74.2525, 'prauc': 44.4451}\n",
      "Test:      {'precision': 44.5022, 'recall': 31.0147, 'f1': 35.1854, 'auc': 75.8838, 'prauc': 44.5622}\n",
      "\n",
      "Validation-long: {'precision': 44.3961, 'recall': 35.4722, 'f1': 38.6797, 'auc': 70.7139, 'prauc': 49.3098}\n",
      "Test-long: {'precision': 43.54, 'recall': 31.0724, 'f1': 35.8552, 'auc': 74.7292, 'prauc': 47.2218}\n",
      "\n"
     ]
    },
    {
     "name": "stderr",
     "output_type": "stream",
     "text": [
      "Epoch 009: 100%|██████████| 59/59 [00:03<00:00, 14.91it/s, loss=0.3157]\n",
      "Running inference: 100%|██████████| 45/45 [00:02<00:00, 21.91it/s]\n",
      "Running inference: 100%|██████████| 45/45 [00:02<00:00, 22.13it/s]\n"
     ]
    },
    {
     "name": "stdout",
     "output_type": "stream",
     "text": [
      "Validation: {'precision': 46.1247, 'recall': 35.4695, 'f1': 38.057, 'auc': 74.3226, 'prauc': 44.5637}\n",
      "Test:      {'precision': 43.5662, 'recall': 33.9006, 'f1': 36.8554, 'auc': 75.0619, 'prauc': 43.9996}\n",
      "\n",
      "Validation-long: {'precision': 42.6061, 'recall': 39.5701, 'f1': 40.2842, 'auc': 71.0231, 'prauc': 49.4279}\n",
      "Test-long: {'precision': 40.599, 'recall': 37.9315, 'f1': 38.71, 'auc': 74.7935, 'prauc': 48.0724}\n",
      "\n"
     ]
    },
    {
     "name": "stderr",
     "output_type": "stream",
     "text": [
      "Epoch 010: 100%|██████████| 59/59 [00:04<00:00, 12.95it/s, loss=0.3057]\n",
      "Running inference: 100%|██████████| 45/45 [00:02<00:00, 20.70it/s]\n",
      "Running inference: 100%|██████████| 45/45 [00:02<00:00, 20.67it/s]\n"
     ]
    },
    {
     "name": "stdout",
     "output_type": "stream",
     "text": [
      "Validation: {'precision': 40.3541, 'recall': 38.1883, 'f1': 38.139, 'auc': 74.2543, 'prauc': 44.374}\n",
      "Test:      {'precision': 41.0376, 'recall': 37.3559, 'f1': 37.8636, 'auc': 75.098, 'prauc': 44.2372}\n",
      "\n",
      "Validation-long: {'precision': 43.1104, 'recall': 38.8357, 'f1': 39.9881, 'auc': 71.1381, 'prauc': 49.9674}\n",
      "Test-long: {'precision': 41.6457, 'recall': 39.1583, 'f1': 39.1927, 'auc': 74.0309, 'prauc': 46.993}\n",
      "\n"
     ]
    },
    {
     "name": "stderr",
     "output_type": "stream",
     "text": [
      "Epoch 011: 100%|██████████| 59/59 [00:04<00:00, 13.84it/s, loss=0.2955]\n",
      "Running inference: 100%|██████████| 45/45 [00:02<00:00, 20.83it/s]\n",
      "Running inference: 100%|██████████| 45/45 [00:02<00:00, 20.75it/s]\n"
     ]
    },
    {
     "name": "stdout",
     "output_type": "stream",
     "text": [
      "Validation: {'precision': 44.9869, 'recall': 33.8631, 'f1': 37.1097, 'auc': 74.4135, 'prauc': 44.6888}\n",
      "Test:      {'precision': 43.3747, 'recall': 32.3721, 'f1': 35.8093, 'auc': 74.6277, 'prauc': 43.6279}\n",
      "\n",
      "Validation-long: {'precision': 45.2791, 'recall': 35.7408, 'f1': 38.958, 'auc': 71.4007, 'prauc': 50.5401}\n",
      "Test-long: {'precision': 43.911, 'recall': 33.7224, 'f1': 37.6605, 'auc': 74.6666, 'prauc': 46.8201}\n",
      "\n"
     ]
    },
    {
     "name": "stderr",
     "output_type": "stream",
     "text": [
      "Epoch 012: 100%|██████████| 59/59 [00:04<00:00, 13.80it/s, loss=0.2870]\n",
      "Running inference: 100%|██████████| 45/45 [00:02<00:00, 20.74it/s]\n",
      "Running inference: 100%|██████████| 45/45 [00:02<00:00, 20.63it/s]\n"
     ]
    },
    {
     "name": "stdout",
     "output_type": "stream",
     "text": [
      "Validation: {'precision': 44.7635, 'recall': 37.1668, 'f1': 38.8729, 'auc': 74.1273, 'prauc': 44.2793}\n",
      "Test:      {'precision': 44.9553, 'recall': 36.1079, 'f1': 38.4458, 'auc': 74.4106, 'prauc': 43.9282}\n",
      "\n",
      "Validation-long: {'precision': 43.0706, 'recall': 37.7927, 'f1': 38.634, 'auc': 70.55, 'prauc': 49.8706}\n",
      "Test-long: {'precision': 41.8522, 'recall': 36.6159, 'f1': 38.0034, 'auc': 73.8794, 'prauc': 49.1101}\n",
      "\n"
     ]
    },
    {
     "name": "stderr",
     "output_type": "stream",
     "text": [
      "Epoch 013: 100%|██████████| 59/59 [00:04<00:00, 13.45it/s, loss=0.2754]\n",
      "Running inference: 100%|██████████| 45/45 [00:02<00:00, 20.32it/s]\n",
      "Running inference: 100%|██████████| 45/45 [00:02<00:00, 22.20it/s]\n"
     ]
    },
    {
     "name": "stdout",
     "output_type": "stream",
     "text": [
      "Validation: {'precision': 44.5473, 'recall': 36.9418, 'f1': 38.0015, 'auc': 73.6928, 'prauc': 43.6664}\n",
      "Test:      {'precision': 43.4101, 'recall': 36.1266, 'f1': 37.7205, 'auc': 74.9243, 'prauc': 43.8869}\n",
      "\n",
      "Validation-long: {'precision': 42.6154, 'recall': 39.7234, 'f1': 40.3182, 'auc': 70.718, 'prauc': 49.0386}\n",
      "Test-long: {'precision': 41.2605, 'recall': 37.7968, 'f1': 38.5446, 'auc': 74.0803, 'prauc': 48.5795}\n",
      "\n"
     ]
    },
    {
     "name": "stderr",
     "output_type": "stream",
     "text": [
      "Epoch 014: 100%|██████████| 59/59 [00:03<00:00, 15.00it/s, loss=0.2658]\n",
      "Running inference: 100%|██████████| 45/45 [00:02<00:00, 22.28it/s]\n",
      "Running inference: 100%|██████████| 45/45 [00:02<00:00, 22.17it/s]\n"
     ]
    },
    {
     "name": "stdout",
     "output_type": "stream",
     "text": [
      "Validation: {'precision': 42.1575, 'recall': 37.3402, 'f1': 38.2797, 'auc': 73.6613, 'prauc': 43.4523}\n",
      "Test:      {'precision': 41.1561, 'recall': 36.5376, 'f1': 37.7567, 'auc': 74.3543, 'prauc': 43.0932}\n",
      "\n",
      "Validation-long: {'precision': 43.2902, 'recall': 39.0356, 'f1': 40.496, 'auc': 70.9015, 'prauc': 48.8259}\n",
      "Test-long: {'precision': 41.1259, 'recall': 38.0935, 'f1': 38.9826, 'auc': 73.4423, 'prauc': 47.4007}\n",
      "\n"
     ]
    },
    {
     "name": "stderr",
     "output_type": "stream",
     "text": [
      "Epoch 015: 100%|██████████| 59/59 [00:03<00:00, 14.99it/s, loss=0.2548]\n",
      "Running inference: 100%|██████████| 45/45 [00:02<00:00, 19.68it/s]\n",
      "Running inference: 100%|██████████| 45/45 [00:02<00:00, 22.17it/s]\n"
     ]
    },
    {
     "name": "stdout",
     "output_type": "stream",
     "text": [
      "Validation: {'precision': 44.7108, 'recall': 36.5448, 'f1': 38.3982, 'auc': 73.1388, 'prauc': 43.1399}\n",
      "Test:      {'precision': 45.0737, 'recall': 35.7472, 'f1': 38.0427, 'auc': 73.7433, 'prauc': 42.7313}\n",
      "\n",
      "Validation-long: {'precision': 44.7001, 'recall': 39.0321, 'f1': 40.9523, 'auc': 71.1815, 'prauc': 49.4877}\n",
      "Test-long: {'precision': 40.8479, 'recall': 37.3686, 'f1': 38.9285, 'auc': 72.7263, 'prauc': 47.4469}\n",
      "\n"
     ]
    },
    {
     "name": "stderr",
     "output_type": "stream",
     "text": [
      "Epoch 016: 100%|██████████| 59/59 [00:03<00:00, 14.96it/s, loss=0.2464]\n",
      "Running inference: 100%|██████████| 45/45 [00:02<00:00, 22.05it/s]\n",
      "Running inference: 100%|██████████| 45/45 [00:02<00:00, 22.11it/s]\n"
     ]
    },
    {
     "name": "stdout",
     "output_type": "stream",
     "text": [
      "Validation: {'precision': 45.0963, 'recall': 38.7622, 'f1': 38.9708, 'auc': 73.198, 'prauc': 43.2578}\n",
      "Test:      {'precision': 42.5776, 'recall': 37.8364, 'f1': 38.2471, 'auc': 73.0418, 'prauc': 42.5604}\n",
      "\n",
      "Validation-long: {'precision': 42.1948, 'recall': 41.8714, 'f1': 41.1216, 'auc': 70.8391, 'prauc': 48.5183}\n",
      "Test-long: {'precision': 39.6079, 'recall': 40.6044, 'f1': 39.5422, 'auc': 72.9143, 'prauc': 47.271}\n",
      "\n"
     ]
    },
    {
     "name": "stderr",
     "output_type": "stream",
     "text": [
      "Epoch 017: 100%|██████████| 59/59 [00:03<00:00, 14.88it/s, loss=0.2370]\n",
      "Running inference: 100%|██████████| 45/45 [00:02<00:00, 22.07it/s]\n",
      "Running inference: 100%|██████████| 45/45 [00:02<00:00, 22.01it/s]\n"
     ]
    },
    {
     "name": "stdout",
     "output_type": "stream",
     "text": [
      "Validation: {'precision': 43.1321, 'recall': 37.9956, 'f1': 38.7826, 'auc': 73.381, 'prauc': 43.0515}\n",
      "Test:      {'precision': 42.4365, 'recall': 36.9958, 'f1': 37.8988, 'auc': 74.2149, 'prauc': 42.8829}\n",
      "\n",
      "Validation-long: {'precision': 46.2312, 'recall': 42.3798, 'f1': 42.5876, 'auc': 72.2442, 'prauc': 49.5715}\n",
      "Test-long: {'precision': 39.7857, 'recall': 41.7086, 'f1': 40.4985, 'auc': 73.5189, 'prauc': 48.8968}\n",
      "\n"
     ]
    },
    {
     "name": "stderr",
     "output_type": "stream",
     "text": [
      "Epoch 018: 100%|██████████| 59/59 [00:03<00:00, 14.89it/s, loss=0.2271]\n",
      "Running inference: 100%|██████████| 45/45 [00:02<00:00, 22.22it/s]\n",
      "Running inference: 100%|██████████| 45/45 [00:02<00:00, 21.98it/s]\n"
     ]
    },
    {
     "name": "stdout",
     "output_type": "stream",
     "text": [
      "Validation: {'precision': 42.1211, 'recall': 39.7194, 'f1': 39.1678, 'auc': 71.9233, 'prauc': 41.8662}\n",
      "Test:      {'precision': 44.6528, 'recall': 38.5902, 'f1': 38.5312, 'auc': 72.4397, 'prauc': 41.5843}\n",
      "\n",
      "Validation-long: {'precision': 41.684, 'recall': 42.4304, 'f1': 41.4539, 'auc': 69.8282, 'prauc': 48.3142}\n",
      "Test-long: {'precision': 39.1122, 'recall': 41.1383, 'f1': 39.6996, 'auc': 71.64, 'prauc': 45.9149}\n",
      "\n"
     ]
    },
    {
     "name": "stderr",
     "output_type": "stream",
     "text": [
      "Epoch 019: 100%|██████████| 59/59 [00:03<00:00, 14.87it/s, loss=0.2195]\n",
      "Running inference: 100%|██████████| 45/45 [00:02<00:00, 22.21it/s]\n",
      "Running inference: 100%|██████████| 45/45 [00:02<00:00, 22.17it/s]\n"
     ]
    },
    {
     "name": "stdout",
     "output_type": "stream",
     "text": [
      "Validation: {'precision': 42.7727, 'recall': 37.2454, 'f1': 38.5714, 'auc': 72.5932, 'prauc': 42.385}\n",
      "Test:      {'precision': 46.7092, 'recall': 36.208, 'f1': 38.4326, 'auc': 72.6308, 'prauc': 41.7689}\n",
      "\n",
      "Validation-long: {'precision': 44.3292, 'recall': 40.3743, 'f1': 41.2147, 'auc': 71.5607, 'prauc': 48.6367}\n",
      "Test-long: {'precision': 41.7426, 'recall': 38.6139, 'f1': 39.5409, 'auc': 73.2255, 'prauc': 46.113}\n",
      "\n"
     ]
    },
    {
     "name": "stderr",
     "output_type": "stream",
     "text": [
      "Epoch 020: 100%|██████████| 59/59 [00:03<00:00, 14.96it/s, loss=0.2102]\n",
      "Running inference: 100%|██████████| 45/45 [00:02<00:00, 22.32it/s]\n",
      "Running inference: 100%|██████████| 45/45 [00:02<00:00, 22.26it/s]\n"
     ]
    },
    {
     "name": "stdout",
     "output_type": "stream",
     "text": [
      "Validation: {'precision': 42.8042, 'recall': 36.9167, 'f1': 37.8871, 'auc': 72.4816, 'prauc': 42.0989}\n",
      "Test:      {'precision': 45.3933, 'recall': 36.2276, 'f1': 37.5504, 'auc': 72.701, 'prauc': 41.5545}\n",
      "\n",
      "Validation-long: {'precision': 41.7013, 'recall': 39.4385, 'f1': 40.2236, 'auc': 71.3967, 'prauc': 47.8981}\n",
      "Test-long: {'precision': 39.0145, 'recall': 37.42, 'f1': 37.9212, 'auc': 73.0901, 'prauc': 45.5944}\n",
      "\n"
     ]
    },
    {
     "name": "stderr",
     "output_type": "stream",
     "text": [
      "Epoch 021: 100%|██████████| 59/59 [00:04<00:00, 14.08it/s, loss=0.2062]\n",
      "Running inference: 100%|██████████| 45/45 [00:02<00:00, 22.46it/s]\n",
      "Running inference: 100%|██████████| 45/45 [00:02<00:00, 22.25it/s]\n"
     ]
    },
    {
     "name": "stdout",
     "output_type": "stream",
     "text": [
      "Validation: {'precision': 41.6957, 'recall': 38.5551, 'f1': 38.3793, 'auc': 72.0765, 'prauc': 41.4935}\n",
      "Test:      {'precision': 42.7211, 'recall': 37.7713, 'f1': 38.1908, 'auc': 73.0674, 'prauc': 42.0474}\n",
      "\n",
      "Validation-long: {'precision': 42.64, 'recall': 43.1778, 'f1': 42.2316, 'auc': 70.5269, 'prauc': 48.6032}\n",
      "Test-long: {'precision': 39.153, 'recall': 39.9835, 'f1': 38.8671, 'auc': 72.9652, 'prauc': 45.378}\n",
      "\n"
     ]
    },
    {
     "name": "stderr",
     "output_type": "stream",
     "text": [
      "Epoch 022: 100%|██████████| 59/59 [00:03<00:00, 15.00it/s, loss=0.1978]\n",
      "Running inference: 100%|██████████| 45/45 [00:02<00:00, 22.24it/s]\n",
      "Running inference: 100%|██████████| 45/45 [00:02<00:00, 22.40it/s]\n"
     ]
    },
    {
     "name": "stdout",
     "output_type": "stream",
     "text": [
      "Validation: {'precision': 39.5936, 'recall': 37.7366, 'f1': 37.9214, 'auc': 72.1004, 'prauc': 41.7189}\n",
      "Test:      {'precision': 42.2943, 'recall': 37.4297, 'f1': 38.1268, 'auc': 72.761, 'prauc': 41.5179}\n",
      "\n",
      "Validation-long: {'precision': 42.3235, 'recall': 40.5038, 'f1': 41.0248, 'auc': 70.9713, 'prauc': 48.1157}\n",
      "Test-long: {'precision': 41.3428, 'recall': 39.2769, 'f1': 39.4772, 'auc': 73.553, 'prauc': 46.5309}\n",
      "\n"
     ]
    },
    {
     "name": "stderr",
     "output_type": "stream",
     "text": [
      "Epoch 023: 100%|██████████| 59/59 [00:03<00:00, 15.06it/s, loss=0.1887]\n",
      "Running inference: 100%|██████████| 45/45 [00:02<00:00, 22.32it/s]\n",
      "Running inference: 100%|██████████| 45/45 [00:02<00:00, 22.36it/s]\n"
     ]
    },
    {
     "name": "stdout",
     "output_type": "stream",
     "text": [
      "Validation: {'precision': 41.6756, 'recall': 36.2165, 'f1': 37.9223, 'auc': 71.8245, 'prauc': 42.0683}\n",
      "Test:      {'precision': 48.8534, 'recall': 35.9295, 'f1': 38.3042, 'auc': 72.4821, 'prauc': 42.2549}\n",
      "\n",
      "Validation-long: {'precision': 42.9726, 'recall': 39.2817, 'f1': 40.7083, 'auc': 70.6777, 'prauc': 50.2402}\n",
      "Test-long: {'precision': 41.8773, 'recall': 37.6054, 'f1': 39.2634, 'auc': 72.7529, 'prauc': 46.6431}\n",
      "\n",
      "\n",
      "Early stopping triggered (no improvement for 5 epochs).\n",
      "\n",
      "Best validation performance:\n",
      "{'global': {'precision': 42.1211, 'recall': 39.7194, 'f1': 39.1678, 'auc': 71.9233, 'prauc': 41.8662}, 'per_class':                                            precision   recall       f1  \\\n",
      "Acute and unspecified renal failure          41.4773  50.4608  45.5301   \n",
      "Acute cerebrovascular disease                 0.0000   0.0000   0.0000   \n",
      "Acute myocardial infarction                  12.5000   3.1579   5.0420   \n",
      "Cardiac dysrhythmias                         71.3012  72.9927  72.1371   \n",
      "Chronic kidney disease                       63.6605  70.5882  66.9456   \n",
      "Chronic obstructive pulmonary disease        58.1250  49.4681  53.4483   \n",
      "Conduction disorders                          0.0000   0.0000   0.0000   \n",
      "Congestive heart failure; nonhypertensive    62.5796  72.7778  67.2945   \n",
      "Coronary atherosclerosis and related         56.7493  60.0583  58.3569   \n",
      "Disorders of lipid metabolism                56.9652  60.1050  58.4930   \n",
      "Essential hypertension                       58.0042  54.1748  56.0241   \n",
      "Fluid and electrolyte disorders              48.4892  58.7108  53.1127   \n",
      "Gastrointestinal hemorrhage                  28.5714   4.0000   7.0175   \n",
      "Hypertension with complications              65.3731  68.6520  66.9725   \n",
      "Other liver diseases                          0.0000   0.0000   0.0000   \n",
      "Other lower respiratory disease              55.8559  60.3113  57.9981   \n",
      "Pneumonia                                    40.0000   2.6846   5.0314   \n",
      "Septicemia (except in labor)                 38.5281  26.8072  31.6163   \n",
      "\n",
      "                                               auc    prauc  \n",
      "Acute and unspecified renal failure        65.2587  41.5976  \n",
      "Acute cerebrovascular disease              56.1981   1.5159  \n",
      "Acute myocardial infarction                68.2009  11.5556  \n",
      "Cardiac dysrhythmias                       82.8168  77.4421  \n",
      "Chronic kidney disease                     87.3422  72.1807  \n",
      "Chronic obstructive pulmonary disease      83.6865  48.4718  \n",
      "Conduction disorders                       58.8290   2.6597  \n",
      "Congestive heart failure; nonhypertensive  81.6694  74.1248  \n",
      "Coronary atherosclerosis and related       82.8014  57.6680  \n",
      "Disorders of lipid metabolism              80.1390  61.6984  \n",
      "Essential hypertension                     73.5149  61.7208  \n",
      "Fluid and electrolyte disorders            59.8134  46.6193  \n",
      "Gastrointestinal hemorrhage                59.8954  10.7726  \n",
      "Hypertension with complications            86.8196  68.2552  \n",
      "Other liver diseases                       69.9988   5.5667  \n",
      "Other lower respiratory disease            72.0924  60.8885  \n",
      "Pneumonia                                  58.0449  13.4552  \n",
      "Septicemia (except in labor)               67.4981  37.3985  }\n",
      "Corresponding test performance:\n",
      "{'global': {'precision': 44.6528, 'recall': 38.5902, 'f1': 38.5312, 'auc': 72.4397, 'prauc': 41.5843}, 'per_class':                                            precision   recall       f1  \\\n",
      "Acute and unspecified renal failure          44.3340  52.2248  47.9570   \n",
      "Acute cerebrovascular disease                 0.0000   0.0000   0.0000   \n",
      "Acute myocardial infarction                  38.4615   5.1020   9.0090   \n",
      "Cardiac dysrhythmias                         67.6083  67.2285  67.4178   \n",
      "Chronic kidney disease                       69.2754  72.6444  70.9199   \n",
      "Chronic obstructive pulmonary disease        43.4211  38.8235  40.9938   \n",
      "Conduction disorders                         50.0000   2.7778   5.2632   \n",
      "Congestive heart failure; nonhypertensive    64.1414  71.0821  67.4336   \n",
      "Coronary atherosclerosis and related         57.8788  59.5016  58.6790   \n",
      "Disorders of lipid metabolism                57.6819  58.6301  58.1522   \n",
      "Essential hypertension                       59.0498  51.7857  55.1797   \n",
      "Fluid and electrolyte disorders              45.2017  58.1395  50.8607   \n",
      "Gastrointestinal hemorrhage                  25.0000   2.0833   3.8462   \n",
      "Hypertension with complications              63.5542  68.9542  66.1442   \n",
      "Other liver diseases                          0.0000   0.0000   0.0000   \n",
      "Other lower respiratory disease              53.2967  51.1424  52.1973   \n",
      "Pneumonia                                    22.2222   1.0638   2.0305   \n",
      "Septicemia (except in labor)                 42.6230  33.4405  37.4775   \n",
      "\n",
      "                                               auc    prauc  \n",
      "Acute and unspecified renal failure        67.5708  43.8023  \n",
      "Acute cerebrovascular disease              62.0070   5.9648  \n",
      "Acute myocardial infarction                70.6668  15.0377  \n",
      "Cardiac dysrhythmias                       79.3205  72.7984  \n",
      "Chronic kidney disease                     89.4709  73.3890  \n",
      "Chronic obstructive pulmonary disease      78.9630  39.4419  \n",
      "Conduction disorders                       72.6892   9.7203  \n",
      "Congestive heart failure; nonhypertensive  79.9124  69.9965  \n",
      "Coronary atherosclerosis and related       83.8779  60.1508  \n",
      "Disorders of lipid metabolism              79.9324  57.8061  \n",
      "Essential hypertension                     73.3916  59.1200  \n",
      "Fluid and electrolyte disorders            58.9728  46.7941  \n",
      "Gastrointestinal hemorrhage                63.0918  10.1659  \n",
      "Hypertension with complications            88.1187  69.1224  \n",
      "Other liver diseases                       61.4830   2.3279  \n",
      "Other lower respiratory disease            65.9561  59.7236  \n",
      "Pneumonia                                  61.4074  17.6841  \n",
      "Septicemia (except in labor)               67.0823  35.4721  }\n",
      "Corresponding test-long performance:\n",
      "{'global': {'precision': 39.1122, 'recall': 41.1383, 'f1': 39.6996, 'auc': 71.64, 'prauc': 45.9149}, 'per_class':                                            precision   recall       f1  \\\n",
      "Acute and unspecified renal failure          48.5714  57.6271  52.7132   \n",
      "Acute cerebrovascular disease                 0.0000   0.0000   0.0000   \n",
      "Acute myocardial infarction                   0.0000   0.0000   0.0000   \n",
      "Cardiac dysrhythmias                         65.7534  60.0000  62.7451   \n",
      "Chronic kidney disease                       84.8485  71.7949  77.7778   \n",
      "Chronic obstructive pulmonary disease        38.8889  53.8462  45.1613   \n",
      "Conduction disorders                          0.0000   0.0000   0.0000   \n",
      "Congestive heart failure; nonhypertensive    69.6078  77.1739  73.1959   \n",
      "Coronary atherosclerosis and related         60.9756  56.8182  58.8235   \n",
      "Disorders of lipid metabolism                52.8302  57.1429  54.9020   \n",
      "Essential hypertension                       43.3333  53.0612  47.7064   \n",
      "Fluid and electrolyte disorders              55.4745  77.5510  64.6809   \n",
      "Gastrointestinal hemorrhage                   0.0000   0.0000   0.0000   \n",
      "Hypertension with complications              76.1905  70.5882  73.2824   \n",
      "Other liver diseases                          0.0000   0.0000   0.0000   \n",
      "Other lower respiratory disease              58.9744  73.4043  65.4028   \n",
      "Pneumonia                                     0.0000   0.0000   0.0000   \n",
      "Septicemia (except in labor)                 48.5714  31.4815  38.2022   \n",
      "\n",
      "                                               auc    prauc  \n",
      "Acute and unspecified renal failure        69.3047  47.9483  \n",
      "Acute cerebrovascular disease              87.5676   2.0833  \n",
      "Acute myocardial infarction                64.4034   7.7562  \n",
      "Cardiac dysrhythmias                       73.4493  70.7101  \n",
      "Chronic kidney disease                     89.5596  87.7791  \n",
      "Chronic obstructive pulmonary disease      82.7163  50.1811  \n",
      "Conduction disorders                       51.8610  23.7992  \n",
      "Congestive heart failure; nonhypertensive  80.8106  79.5850  \n",
      "Coronary atherosclerosis and related       84.7471  70.1188  \n",
      "Disorders of lipid metabolism              74.7803  51.9073  \n",
      "Essential hypertension                     72.6948  50.7412  \n",
      "Fluid and electrolyte disorders            50.8697  52.9528  \n",
      "Gastrointestinal hemorrhage                60.3505  12.4169  \n",
      "Hypertension with complications            87.7306  82.5551  \n",
      "Other liver diseases                       65.3916   3.3212  \n",
      "Other lower respiratory disease            69.0911  74.4487  \n",
      "Pneumonia                                  61.5231  16.6610  \n",
      "Septicemia (except in labor)               62.6684  41.5030  }\n",
      "================================9==================================\n"
     ]
    },
    {
     "name": "stderr",
     "output_type": "stream",
     "text": [
      "Epoch 001: 100%|██████████| 59/59 [00:03<00:00, 14.86it/s, loss=0.4704]\n",
      "Running inference: 100%|██████████| 45/45 [00:02<00:00, 22.19it/s]\n",
      "Running inference: 100%|██████████| 45/45 [00:02<00:00, 22.12it/s]\n"
     ]
    },
    {
     "name": "stdout",
     "output_type": "stream",
     "text": [
      "Validation: {'precision': 28.2779, 'recall': 15.9169, 'f1': 18.7085, 'auc': 67.354, 'prauc': 36.6125}\n",
      "Test:      {'precision': 27.0688, 'recall': 15.3205, 'f1': 18.1681, 'auc': 67.1934, 'prauc': 35.7234}\n",
      "\n",
      "Validation-long: {'precision': 26.8389, 'recall': 19.5123, 'f1': 21.1333, 'auc': 64.497, 'prauc': 42.7245}\n",
      "Test-long: {'precision': 33.4469, 'recall': 19.3917, 'f1': 21.6807, 'auc': 64.7673, 'prauc': 39.838}\n",
      "\n"
     ]
    },
    {
     "name": "stderr",
     "output_type": "stream",
     "text": [
      "Epoch 002: 100%|██████████| 59/59 [00:03<00:00, 15.15it/s, loss=0.4049]\n",
      "Running inference: 100%|██████████| 45/45 [00:02<00:00, 22.43it/s]\n",
      "Running inference: 100%|██████████| 45/45 [00:02<00:00, 22.29it/s]\n"
     ]
    },
    {
     "name": "stdout",
     "output_type": "stream",
     "text": [
      "Validation: {'precision': 34.888, 'recall': 24.9896, 'f1': 27.8222, 'auc': 70.8129, 'prauc': 39.6671}\n",
      "Test:      {'precision': 33.5827, 'recall': 23.7926, 'f1': 26.6482, 'auc': 72.2908, 'prauc': 39.362}\n",
      "\n",
      "Validation-long: {'precision': 35.8077, 'recall': 30.7705, 'f1': 31.6772, 'auc': 69.5101, 'prauc': 45.7845}\n",
      "Test-long: {'precision': 37.4398, 'recall': 27.9556, 'f1': 29.9205, 'auc': 72.2208, 'prauc': 43.7426}\n",
      "\n"
     ]
    },
    {
     "name": "stderr",
     "output_type": "stream",
     "text": [
      "Epoch 003: 100%|██████████| 59/59 [00:03<00:00, 15.02it/s, loss=0.3888]\n",
      "Running inference: 100%|██████████| 45/45 [00:02<00:00, 20.15it/s]\n",
      "Running inference: 100%|██████████| 45/45 [00:02<00:00, 22.10it/s]\n"
     ]
    },
    {
     "name": "stdout",
     "output_type": "stream",
     "text": [
      "Validation: {'precision': 41.7285, 'recall': 24.3537, 'f1': 27.6249, 'auc': 72.2312, 'prauc': 41.4373}\n",
      "Test:      {'precision': 39.3444, 'recall': 23.6271, 'f1': 26.9278, 'auc': 73.597, 'prauc': 41.0178}\n",
      "\n",
      "Validation-long: {'precision': 36.2685, 'recall': 30.0669, 'f1': 31.3445, 'auc': 69.971, 'prauc': 46.3819}\n",
      "Test-long: {'precision': 42.3891, 'recall': 26.5921, 'f1': 28.9941, 'auc': 73.4039, 'prauc': 44.826}\n",
      "\n"
     ]
    },
    {
     "name": "stderr",
     "output_type": "stream",
     "text": [
      "Epoch 004: 100%|██████████| 59/59 [00:03<00:00, 14.93it/s, loss=0.3749]\n",
      "Running inference: 100%|██████████| 45/45 [00:02<00:00, 22.37it/s]\n",
      "Running inference: 100%|██████████| 45/45 [00:02<00:00, 22.15it/s]\n"
     ]
    },
    {
     "name": "stdout",
     "output_type": "stream",
     "text": [
      "Validation: {'precision': 42.674, 'recall': 28.0695, 'f1': 31.9345, 'auc': 73.0811, 'prauc': 42.6801}\n",
      "Test:      {'precision': 41.8235, 'recall': 26.955, 'f1': 30.6123, 'auc': 74.3466, 'prauc': 42.4166}\n",
      "\n",
      "Validation-long: {'precision': 47.2307, 'recall': 32.1037, 'f1': 35.785, 'auc': 70.1532, 'prauc': 48.2387}\n",
      "Test-long: {'precision': 44.4103, 'recall': 28.4144, 'f1': 31.3501, 'auc': 74.0475, 'prauc': 47.5546}\n",
      "\n"
     ]
    },
    {
     "name": "stderr",
     "output_type": "stream",
     "text": [
      "Epoch 005: 100%|██████████| 59/59 [00:03<00:00, 14.99it/s, loss=0.3626]\n",
      "Running inference: 100%|██████████| 45/45 [00:02<00:00, 22.40it/s]\n",
      "Running inference: 100%|██████████| 45/45 [00:02<00:00, 22.23it/s]\n"
     ]
    },
    {
     "name": "stdout",
     "output_type": "stream",
     "text": [
      "Validation: {'precision': 44.6053, 'recall': 29.4824, 'f1': 32.8072, 'auc': 74.27, 'prauc': 43.516}\n",
      "Test:      {'precision': 47.9636, 'recall': 28.9426, 'f1': 32.7146, 'auc': 75.273, 'prauc': 43.6549}\n",
      "\n",
      "Validation-long: {'precision': 46.0607, 'recall': 32.8703, 'f1': 35.5485, 'auc': 72.1817, 'prauc': 48.5952}\n",
      "Test-long: {'precision': 44.3092, 'recall': 29.4107, 'f1': 33.3569, 'auc': 74.1753, 'prauc': 45.5431}\n",
      "\n"
     ]
    },
    {
     "name": "stderr",
     "output_type": "stream",
     "text": [
      "Epoch 006: 100%|██████████| 59/59 [00:03<00:00, 14.91it/s, loss=0.3519]\n",
      "Running inference: 100%|██████████| 45/45 [00:02<00:00, 22.29it/s]\n",
      "Running inference: 100%|██████████| 45/45 [00:02<00:00, 22.37it/s]\n"
     ]
    },
    {
     "name": "stdout",
     "output_type": "stream",
     "text": [
      "Validation: {'precision': 43.5858, 'recall': 32.6594, 'f1': 35.5478, 'auc': 74.2372, 'prauc': 43.8822}\n",
      "Test:      {'precision': 43.372, 'recall': 31.8267, 'f1': 35.0888, 'auc': 75.0311, 'prauc': 43.5912}\n",
      "\n",
      "Validation-long: {'precision': 42.7658, 'recall': 38.6076, 'f1': 39.829, 'auc': 72.1483, 'prauc': 50.4068}\n",
      "Test-long: {'precision': 42.7453, 'recall': 36.8559, 'f1': 39.1236, 'auc': 75.5524, 'prauc': 47.6221}\n",
      "\n"
     ]
    },
    {
     "name": "stderr",
     "output_type": "stream",
     "text": [
      "Epoch 007: 100%|██████████| 59/59 [00:03<00:00, 14.96it/s, loss=0.3427]\n",
      "Running inference: 100%|██████████| 45/45 [00:02<00:00, 22.36it/s]\n",
      "Running inference: 100%|██████████| 45/45 [00:02<00:00, 22.26it/s]\n"
     ]
    },
    {
     "name": "stdout",
     "output_type": "stream",
     "text": [
      "Validation: {'precision': 41.4655, 'recall': 35.3977, 'f1': 36.4166, 'auc': 74.6171, 'prauc': 43.9315}\n",
      "Test:      {'precision': 41.2545, 'recall': 34.7779, 'f1': 36.123, 'auc': 75.6766, 'prauc': 44.1689}\n",
      "\n",
      "Validation-long: {'precision': 43.0192, 'recall': 35.9287, 'f1': 37.6753, 'auc': 72.0366, 'prauc': 48.6296}\n",
      "Test-long: {'precision': 41.594, 'recall': 35.1351, 'f1': 37.0456, 'auc': 76.6589, 'prauc': 48.1826}\n",
      "\n"
     ]
    },
    {
     "name": "stderr",
     "output_type": "stream",
     "text": [
      "Epoch 008: 100%|██████████| 59/59 [00:03<00:00, 15.00it/s, loss=0.3306]\n",
      "Running inference: 100%|██████████| 45/45 [00:02<00:00, 22.30it/s]\n",
      "Running inference: 100%|██████████| 45/45 [00:02<00:00, 21.96it/s]\n"
     ]
    },
    {
     "name": "stdout",
     "output_type": "stream",
     "text": [
      "Validation: {'precision': 42.7136, 'recall': 34.4396, 'f1': 36.228, 'auc': 73.941, 'prauc': 44.092}\n",
      "Test:      {'precision': 43.7505, 'recall': 33.3518, 'f1': 35.8148, 'auc': 74.9321, 'prauc': 44.0127}\n",
      "\n",
      "Validation-long: {'precision': 42.2453, 'recall': 37.1519, 'f1': 38.1674, 'auc': 72.489, 'prauc': 49.1529}\n",
      "Test-long: {'precision': 43.0953, 'recall': 36.4524, 'f1': 38.1803, 'auc': 76.1779, 'prauc': 47.3844}\n",
      "\n"
     ]
    },
    {
     "name": "stderr",
     "output_type": "stream",
     "text": [
      "Epoch 009: 100%|██████████| 59/59 [00:04<00:00, 14.31it/s, loss=0.3233]\n",
      "Running inference: 100%|██████████| 45/45 [00:02<00:00, 22.44it/s]\n",
      "Running inference: 100%|██████████| 45/45 [00:02<00:00, 22.04it/s]\n"
     ]
    },
    {
     "name": "stdout",
     "output_type": "stream",
     "text": [
      "Validation: {'precision': 47.808, 'recall': 34.2543, 'f1': 36.9558, 'auc': 74.4735, 'prauc': 44.4943}\n",
      "Test:      {'precision': 43.3501, 'recall': 33.4866, 'f1': 36.2079, 'auc': 75.1187, 'prauc': 43.9446}\n",
      "\n",
      "Validation-long: {'precision': 44.4524, 'recall': 38.4587, 'f1': 39.9976, 'auc': 73.0119, 'prauc': 50.2448}\n",
      "Test-long: {'precision': 42.5552, 'recall': 35.9418, 'f1': 38.5969, 'auc': 77.4728, 'prauc': 48.8775}\n",
      "\n"
     ]
    },
    {
     "name": "stderr",
     "output_type": "stream",
     "text": [
      "Epoch 010: 100%|██████████| 59/59 [00:03<00:00, 14.96it/s, loss=0.3119]\n",
      "Running inference: 100%|██████████| 45/45 [00:02<00:00, 22.26it/s]\n",
      "Running inference: 100%|██████████| 45/45 [00:02<00:00, 22.21it/s]\n"
     ]
    },
    {
     "name": "stdout",
     "output_type": "stream",
     "text": [
      "Validation: {'precision': 46.5828, 'recall': 36.3411, 'f1': 37.7889, 'auc': 74.5464, 'prauc': 44.6659}\n",
      "Test:      {'precision': 40.9766, 'recall': 35.6607, 'f1': 37.1778, 'auc': 75.3065, 'prauc': 44.1563}\n",
      "\n",
      "Validation-long: {'precision': 44.8538, 'recall': 38.8331, 'f1': 40.2432, 'auc': 72.6411, 'prauc': 50.7126}\n",
      "Test-long: {'precision': 43.2917, 'recall': 35.4717, 'f1': 38.3999, 'auc': 77.1854, 'prauc': 49.6549}\n",
      "\n"
     ]
    },
    {
     "name": "stderr",
     "output_type": "stream",
     "text": [
      "Epoch 011: 100%|██████████| 59/59 [00:03<00:00, 15.07it/s, loss=0.3025]\n",
      "Running inference: 100%|██████████| 45/45 [00:02<00:00, 22.27it/s]\n",
      "Running inference: 100%|██████████| 45/45 [00:02<00:00, 22.12it/s]\n"
     ]
    },
    {
     "name": "stdout",
     "output_type": "stream",
     "text": [
      "Validation: {'precision': 49.2352, 'recall': 35.0214, 'f1': 37.6823, 'auc': 74.1649, 'prauc': 44.456}\n",
      "Test:      {'precision': 43.2908, 'recall': 33.6953, 'f1': 36.6151, 'auc': 74.4738, 'prauc': 43.5882}\n",
      "\n",
      "Validation-long: {'precision': 43.5299, 'recall': 38.3805, 'f1': 40.0024, 'auc': 72.6728, 'prauc': 50.4707}\n",
      "Test-long: {'precision': 43.3246, 'recall': 37.3477, 'f1': 39.8086, 'auc': 75.788, 'prauc': 49.2723}\n",
      "\n"
     ]
    },
    {
     "name": "stderr",
     "output_type": "stream",
     "text": [
      "Epoch 012: 100%|██████████| 59/59 [00:03<00:00, 15.07it/s, loss=0.2920]\n",
      "Running inference: 100%|██████████| 45/45 [00:02<00:00, 22.36it/s]\n",
      "Running inference: 100%|██████████| 45/45 [00:02<00:00, 22.21it/s]\n"
     ]
    },
    {
     "name": "stdout",
     "output_type": "stream",
     "text": [
      "Validation: {'precision': 40.4053, 'recall': 35.8064, 'f1': 37.2281, 'auc': 74.119, 'prauc': 43.9415}\n",
      "Test:      {'precision': 42.0883, 'recall': 34.9564, 'f1': 36.7308, 'auc': 74.266, 'prauc': 43.6911}\n",
      "\n",
      "Validation-long: {'precision': 43.7904, 'recall': 37.2735, 'f1': 39.3072, 'auc': 72.539, 'prauc': 50.5182}\n",
      "Test-long: {'precision': 41.6735, 'recall': 35.906, 'f1': 38.2648, 'auc': 76.0804, 'prauc': 53.8939}\n",
      "\n"
     ]
    },
    {
     "name": "stderr",
     "output_type": "stream",
     "text": [
      "Epoch 013: 100%|██████████| 59/59 [00:03<00:00, 15.22it/s, loss=0.2845]\n",
      "Running inference: 100%|██████████| 45/45 [00:02<00:00, 22.29it/s]\n",
      "Running inference: 100%|██████████| 45/45 [00:02<00:00, 22.30it/s]\n"
     ]
    },
    {
     "name": "stdout",
     "output_type": "stream",
     "text": [
      "Validation: {'precision': 44.7679, 'recall': 37.0248, 'f1': 37.6105, 'auc': 73.9675, 'prauc': 43.585}\n",
      "Test:      {'precision': 42.4528, 'recall': 35.8558, 'f1': 36.7627, 'auc': 73.9239, 'prauc': 43.3692}\n",
      "\n",
      "Validation-long: {'precision': 41.5099, 'recall': 40.2607, 'f1': 40.3935, 'auc': 73.116, 'prauc': 49.2917}\n",
      "Test-long: {'precision': 41.246, 'recall': 37.4772, 'f1': 38.7042, 'auc': 75.9308, 'prauc': 53.5388}\n",
      "\n"
     ]
    },
    {
     "name": "stderr",
     "output_type": "stream",
     "text": [
      "Epoch 014: 100%|██████████| 59/59 [00:04<00:00, 13.69it/s, loss=0.2739]\n",
      "Running inference: 100%|██████████| 45/45 [00:02<00:00, 21.01it/s]\n",
      "Running inference: 100%|██████████| 45/45 [00:02<00:00, 20.92it/s]\n"
     ]
    },
    {
     "name": "stdout",
     "output_type": "stream",
     "text": [
      "Validation: {'precision': 42.8924, 'recall': 37.9591, 'f1': 38.3777, 'auc': 73.586, 'prauc': 42.8474}\n",
      "Test:      {'precision': 42.1222, 'recall': 37.1775, 'f1': 37.7659, 'auc': 73.4199, 'prauc': 42.4094}\n",
      "\n",
      "Validation-long: {'precision': 42.8485, 'recall': 40.0348, 'f1': 39.5623, 'auc': 72.739, 'prauc': 48.3897}\n",
      "Test-long: {'precision': 43.5409, 'recall': 37.9446, 'f1': 39.258, 'auc': 75.3837, 'prauc': 52.1508}\n",
      "\n"
     ]
    },
    {
     "name": "stderr",
     "output_type": "stream",
     "text": [
      "Epoch 015: 100%|██████████| 59/59 [00:04<00:00, 14.00it/s, loss=0.2639]\n",
      "Running inference: 100%|██████████| 45/45 [00:02<00:00, 21.07it/s]\n",
      "Running inference: 100%|██████████| 45/45 [00:02<00:00, 20.98it/s]\n"
     ]
    },
    {
     "name": "stdout",
     "output_type": "stream",
     "text": [
      "Validation: {'precision': 38.5016, 'recall': 39.1404, 'f1': 38.4402, 'auc': 73.9668, 'prauc': 43.0608}\n",
      "Test:      {'precision': 43.9433, 'recall': 39.3211, 'f1': 39.2325, 'auc': 74.1418, 'prauc': 43.3101}\n",
      "\n",
      "Validation-long: {'precision': 40.8296, 'recall': 40.8172, 'f1': 40.0866, 'auc': 72.4631, 'prauc': 48.5736}\n",
      "Test-long: {'precision': 41.4877, 'recall': 39.1598, 'f1': 39.3862, 'auc': 76.1451, 'prauc': 48.7532}\n",
      "\n"
     ]
    },
    {
     "name": "stderr",
     "output_type": "stream",
     "text": [
      "Epoch 016: 100%|██████████| 59/59 [00:04<00:00, 13.97it/s, loss=0.2495]\n",
      "Running inference: 100%|██████████| 45/45 [00:02<00:00, 21.12it/s]\n",
      "Running inference: 100%|██████████| 45/45 [00:02<00:00, 20.92it/s]\n"
     ]
    },
    {
     "name": "stdout",
     "output_type": "stream",
     "text": [
      "Validation: {'precision': 41.6053, 'recall': 40.6785, 'f1': 39.3837, 'auc': 73.8227, 'prauc': 42.899}\n",
      "Test:      {'precision': 42.1871, 'recall': 40.0911, 'f1': 39.3409, 'auc': 73.8844, 'prauc': 42.9874}\n",
      "\n",
      "Validation-long: {'precision': 40.58, 'recall': 42.3271, 'f1': 39.893, 'auc': 71.3403, 'prauc': 46.3382}\n",
      "Test-long: {'precision': 39.6541, 'recall': 42.8412, 'f1': 40.6697, 'auc': 76.2133, 'prauc': 53.0237}\n",
      "\n"
     ]
    },
    {
     "name": "stderr",
     "output_type": "stream",
     "text": [
      "Epoch 017: 100%|██████████| 59/59 [00:03<00:00, 14.83it/s, loss=0.2458]\n",
      "Running inference: 100%|██████████| 45/45 [00:01<00:00, 22.60it/s]\n",
      "Running inference: 100%|██████████| 45/45 [00:02<00:00, 22.03it/s]\n"
     ]
    },
    {
     "name": "stdout",
     "output_type": "stream",
     "text": [
      "Validation: {'precision': 43.5967, 'recall': 36.745, 'f1': 38.4736, 'auc': 73.8299, 'prauc': 43.0167}\n",
      "Test:      {'precision': 41.9194, 'recall': 36.2939, 'f1': 38.0405, 'auc': 73.9963, 'prauc': 42.8758}\n",
      "\n",
      "Validation-long: {'precision': 41.4675, 'recall': 38.1577, 'f1': 39.3379, 'auc': 72.5752, 'prauc': 48.5617}\n",
      "Test-long: {'precision': 41.4492, 'recall': 39.228, 'f1': 39.7496, 'auc': 76.4932, 'prauc': 54.1212}\n",
      "\n"
     ]
    },
    {
     "name": "stderr",
     "output_type": "stream",
     "text": [
      "Epoch 018: 100%|██████████| 59/59 [00:03<00:00, 15.05it/s, loss=0.2383]\n",
      "Running inference: 100%|██████████| 45/45 [00:01<00:00, 22.54it/s]\n",
      "Running inference: 100%|██████████| 45/45 [00:02<00:00, 22.14it/s]\n"
     ]
    },
    {
     "name": "stdout",
     "output_type": "stream",
     "text": [
      "Validation: {'precision': 47.6878, 'recall': 34.34, 'f1': 37.0561, 'auc': 73.5803, 'prauc': 42.9353}\n",
      "Test:      {'precision': 41.4729, 'recall': 33.4155, 'f1': 36.4237, 'auc': 73.6618, 'prauc': 42.739}\n",
      "\n",
      "Validation-long: {'precision': 48.3116, 'recall': 36.7823, 'f1': 39.5638, 'auc': 72.8645, 'prauc': 49.8904}\n",
      "Test-long: {'precision': 43.4188, 'recall': 36.6882, 'f1': 39.4763, 'auc': 75.7272, 'prauc': 52.5142}\n",
      "\n"
     ]
    },
    {
     "name": "stderr",
     "output_type": "stream",
     "text": [
      "Epoch 019: 100%|██████████| 59/59 [00:03<00:00, 15.07it/s, loss=0.2235]\n",
      "Running inference: 100%|██████████| 45/45 [00:02<00:00, 22.30it/s]\n",
      "Running inference: 100%|██████████| 45/45 [00:02<00:00, 19.81it/s]\n"
     ]
    },
    {
     "name": "stdout",
     "output_type": "stream",
     "text": [
      "Validation: {'precision': 43.3343, 'recall': 34.8041, 'f1': 37.0357, 'auc': 73.1126, 'prauc': 42.2883}\n",
      "Test:      {'precision': 41.4453, 'recall': 34.7217, 'f1': 37.0942, 'auc': 73.1708, 'prauc': 41.9252}\n",
      "\n",
      "Validation-long: {'precision': 42.9671, 'recall': 37.0426, 'f1': 38.8123, 'auc': 71.4711, 'prauc': 47.1132}\n",
      "Test-long: {'precision': 42.8119, 'recall': 37.9458, 'f1': 39.5666, 'auc': 75.841, 'prauc': 47.4201}\n",
      "\n"
     ]
    },
    {
     "name": "stderr",
     "output_type": "stream",
     "text": [
      "Epoch 020: 100%|██████████| 59/59 [00:03<00:00, 15.02it/s, loss=0.2125]\n",
      "Running inference: 100%|██████████| 45/45 [00:02<00:00, 22.29it/s]\n",
      "Running inference: 100%|██████████| 45/45 [00:02<00:00, 22.27it/s]\n"
     ]
    },
    {
     "name": "stdout",
     "output_type": "stream",
     "text": [
      "Validation: {'precision': 42.8188, 'recall': 36.6259, 'f1': 38.3576, 'auc': 73.2598, 'prauc': 42.2131}\n",
      "Test:      {'precision': 40.9573, 'recall': 36.1865, 'f1': 38.044, 'auc': 73.1925, 'prauc': 42.3231}\n",
      "\n",
      "Validation-long: {'precision': 40.8425, 'recall': 37.7883, 'f1': 38.6897, 'auc': 72.6775, 'prauc': 47.5895}\n",
      "Test-long: {'precision': 41.7829, 'recall': 38.0546, 'f1': 39.5945, 'auc': 75.7881, 'prauc': 47.3726}\n",
      "\n"
     ]
    },
    {
     "name": "stderr",
     "output_type": "stream",
     "text": [
      "Epoch 021: 100%|██████████| 59/59 [00:03<00:00, 14.96it/s, loss=0.2056]\n",
      "Running inference: 100%|██████████| 45/45 [00:02<00:00, 22.21it/s]\n",
      "Running inference: 100%|██████████| 45/45 [00:02<00:00, 22.22it/s]\n"
     ]
    },
    {
     "name": "stdout",
     "output_type": "stream",
     "text": [
      "Validation: {'precision': 40.9595, 'recall': 37.8764, 'f1': 38.3568, 'auc': 72.9061, 'prauc': 41.6194}\n",
      "Test:      {'precision': 41.709, 'recall': 37.7521, 'f1': 38.6291, 'auc': 73.2432, 'prauc': 41.6416}\n",
      "\n",
      "Validation-long: {'precision': 40.7365, 'recall': 37.9703, 'f1': 38.6161, 'auc': 72.1497, 'prauc': 46.634}\n",
      "Test-long: {'precision': 40.1708, 'recall': 37.7798, 'f1': 38.6604, 'auc': 75.8655, 'prauc': 47.3284}\n",
      "\n",
      "\n",
      "Early stopping triggered (no improvement for 5 epochs).\n",
      "\n",
      "Best validation performance:\n",
      "{'global': {'precision': 41.6053, 'recall': 40.6785, 'f1': 39.3837, 'auc': 73.8227, 'prauc': 42.899}, 'per_class':                                            precision   recall       f1  \\\n",
      "Acute and unspecified renal failure          47.0942  54.1475  50.3751   \n",
      "Acute cerebrovascular disease                 0.0000   0.0000   0.0000   \n",
      "Acute myocardial infarction                  20.0000   4.2105   6.9565   \n",
      "Cardiac dysrhythmias                         62.8659  74.4526  68.1704   \n",
      "Chronic kidney disease                       67.0103  76.4706  71.4286   \n",
      "Chronic obstructive pulmonary disease        59.3750  50.5319  54.5977   \n",
      "Conduction disorders                          0.0000   0.0000   0.0000   \n",
      "Congestive heart failure; nonhypertensive    68.4685  70.3704  69.4064   \n",
      "Coronary atherosclerosis and related         55.7841  63.2653  59.2896   \n",
      "Disorders of lipid metabolism                49.7175  69.2913  57.8947   \n",
      "Essential hypertension                       60.1423  65.6311  62.7669   \n",
      "Fluid and electrolyte disorders              47.2630  61.6725  53.5147   \n",
      "Gastrointestinal hemorrhage                  38.4615   5.0000   8.8496   \n",
      "Hypertension with complications              66.6667  68.3386  67.4923   \n",
      "Other liver diseases                          0.0000   0.0000   0.0000   \n",
      "Other lower respiratory disease              53.2922  50.3891  51.8000   \n",
      "Pneumonia                                    10.0000   0.6711   1.2579   \n",
      "Septicemia (except in labor)                 42.7536  17.7711  25.1064   \n",
      "\n",
      "                                               auc    prauc  \n",
      "Acute and unspecified renal failure        68.3312  46.2830  \n",
      "Acute cerebrovascular disease              69.0314   2.4255  \n",
      "Acute myocardial infarction                71.7839  14.7155  \n",
      "Cardiac dysrhythmias                       80.6285  73.8172  \n",
      "Chronic kidney disease                     90.3525  80.5262  \n",
      "Chronic obstructive pulmonary disease      84.7717  50.4252  \n",
      "Conduction disorders                       63.0356   3.9239  \n",
      "Congestive heart failure; nonhypertensive  82.3397  75.9566  \n",
      "Coronary atherosclerosis and related       82.7867  56.0364  \n",
      "Disorders of lipid metabolism              77.5723  56.9150  \n",
      "Essential hypertension                     77.7664  64.0279  \n",
      "Fluid and electrolyte disorders            60.4686  49.0361  \n",
      "Gastrointestinal hemorrhage                66.4611  13.8079  \n",
      "Hypertension with complications            88.3459  68.3258  \n",
      "Other liver diseases                       69.7490   6.0972  \n",
      "Other lower respiratory disease            69.4479  59.0065  \n",
      "Pneumonia                                  58.6266  13.9459  \n",
      "Septicemia (except in labor)               67.3105  36.9097  }\n",
      "Corresponding test performance:\n",
      "{'global': {'precision': 42.1871, 'recall': 40.0911, 'f1': 39.3409, 'auc': 73.8844, 'prauc': 42.9874}, 'per_class':                                            precision   recall       f1  \\\n",
      "Acute and unspecified renal failure          46.3265  53.1616  49.5093   \n",
      "Acute cerebrovascular disease                 0.0000   0.0000   0.0000   \n",
      "Acute myocardial infarction                  45.8333  11.2245  18.0328   \n",
      "Cardiac dysrhythmias                         63.2280  71.1610  66.9604   \n",
      "Chronic kidney disease                       66.3978  75.0760  70.4708   \n",
      "Chronic obstructive pulmonary disease        51.3889  43.5294  47.1338   \n",
      "Conduction disorders                          0.0000   0.0000   0.0000   \n",
      "Congestive heart failure; nonhypertensive    66.2791  63.8060  65.0190   \n",
      "Coronary atherosclerosis and related         55.9367  66.0436  60.5714   \n",
      "Disorders of lipid metabolism                50.9921  70.4110  59.1484   \n",
      "Essential hypertension                       59.3750  64.0873  61.6412   \n",
      "Fluid and electrolyte disorders              47.0668  61.7174  53.4056   \n",
      "Gastrointestinal hemorrhage                   0.0000   0.0000   0.0000   \n",
      "Hypertension with complications              67.5079  69.9346  68.6998   \n",
      "Other liver diseases                         20.0000   4.0000   6.6667   \n",
      "Other lower respiratory disease              55.4113  44.9912  49.6605   \n",
      "Pneumonia                                    20.0000   1.5957   2.9557   \n",
      "Septicemia (except in labor)                 43.6242  20.9003  28.2609   \n",
      "\n",
      "                                               auc    prauc  \n",
      "Acute and unspecified renal failure        68.5741  47.8548  \n",
      "Acute cerebrovascular disease              73.2924   7.2820  \n",
      "Acute myocardial infarction                74.1958  19.0183  \n",
      "Cardiac dysrhythmias                       79.3410  70.9795  \n",
      "Chronic kidney disease                     90.1877  78.3213  \n",
      "Chronic obstructive pulmonary disease      80.7936  44.8219  \n",
      "Conduction disorders                       66.7738   4.0914  \n",
      "Congestive heart failure; nonhypertensive  80.5112  72.6607  \n",
      "Coronary atherosclerosis and related       84.8678  59.8778  \n",
      "Disorders of lipid metabolism              80.2776  56.1403  \n",
      "Essential hypertension                     77.2766  63.5430  \n",
      "Fluid and electrolyte disorders            61.4232  50.9877  \n",
      "Gastrointestinal hemorrhage                65.8656  11.8946  \n",
      "Hypertension with complications            88.7367  68.9183  \n",
      "Other liver diseases                       65.6592   3.3832  \n",
      "Other lower respiratory disease            65.5119  58.7776  \n",
      "Pneumonia                                  59.6994  17.3972  \n",
      "Septicemia (except in labor)               66.9311  37.8242  }\n",
      "Corresponding test-long performance:\n",
      "{'global': {'precision': 39.6541, 'recall': 42.8412, 'f1': 40.6697, 'auc': 76.2133, 'prauc': 53.0237}, 'per_class':                                            precision   recall       f1  \\\n",
      "Acute and unspecified renal failure          52.3077  57.6271  54.8387   \n",
      "Acute cerebrovascular disease                 0.0000   0.0000   0.0000   \n",
      "Acute myocardial infarction                   0.0000   0.0000   0.0000   \n",
      "Cardiac dysrhythmias                         57.4468  67.5000  62.0690   \n",
      "Chronic kidney disease                       80.0000  76.9231  78.4314   \n",
      "Chronic obstructive pulmonary disease        57.8947  42.3077  48.8889   \n",
      "Conduction disorders                          0.0000   0.0000   0.0000   \n",
      "Congestive heart failure; nonhypertensive    69.0722  72.8261  70.8995   \n",
      "Coronary atherosclerosis and related         52.3810  75.0000  61.6822   \n",
      "Disorders of lipid metabolism                53.4247  79.5918  63.9344   \n",
      "Essential hypertension                       44.6154  59.1837  50.8772   \n",
      "Fluid and electrolyte disorders              56.6929  73.4694  64.0000   \n",
      "Gastrointestinal hemorrhage                   0.0000   0.0000   0.0000   \n",
      "Hypertension with complications              76.9231  73.5294  75.1880   \n",
      "Other liver diseases                          0.0000   0.0000   0.0000   \n",
      "Other lower respiratory disease              64.4444  61.7021  63.0435   \n",
      "Pneumonia                                     0.0000   0.0000   0.0000   \n",
      "Septicemia (except in labor)                 48.5714  31.4815  38.2022   \n",
      "\n",
      "                                                auc     prauc  \n",
      "Acute and unspecified renal failure         76.0710   61.9578  \n",
      "Acute cerebrovascular disease              100.0000  100.0000  \n",
      "Acute myocardial infarction                 74.4034   11.6121  \n",
      "Cardiac dysrhythmias                        71.9458   69.2182  \n",
      "Chronic kidney disease                      89.2925   88.2160  \n",
      "Chronic obstructive pulmonary disease       80.0962   51.7897  \n",
      "Conduction disorders                        62.6756    8.6997  \n",
      "Congestive heart failure; nonhypertensive   81.4177   80.9805  \n",
      "Coronary atherosclerosis and related        85.7074   66.6414  \n",
      "Disorders of lipid metabolism               80.1505   55.3751  \n",
      "Essential hypertension                      76.3072   59.8008  \n",
      "Fluid and electrolyte disorders             57.3400   59.4793  \n",
      "Gastrointestinal hemorrhage                 69.3452   18.8171  \n",
      "Hypertension with complications             86.7709   81.8249  \n",
      "Other liver diseases                        79.4171    3.4999  \n",
      "Other lower respiratory disease             70.1492   73.7891  \n",
      "Pneumonia                                   64.2305   16.8098  \n",
      "Septicemia (except in labor)                66.5194   45.9152  }\n",
      "================================10==================================\n"
     ]
    },
    {
     "name": "stderr",
     "output_type": "stream",
     "text": [
      "Epoch 001: 100%|██████████| 59/59 [00:03<00:00, 15.18it/s, loss=0.4659]\n",
      "Running inference: 100%|██████████| 45/45 [00:02<00:00, 22.41it/s]\n",
      "Running inference: 100%|██████████| 45/45 [00:02<00:00, 22.37it/s]\n"
     ]
    },
    {
     "name": "stdout",
     "output_type": "stream",
     "text": [
      "Validation: {'precision': 39.9916, 'recall': 16.7263, 'f1': 21.6317, 'auc': 67.3815, 'prauc': 37.0562}\n",
      "Test:      {'precision': 35.1448, 'recall': 15.9236, 'f1': 20.5936, 'auc': 68.0857, 'prauc': 36.4404}\n",
      "\n",
      "Validation-long: {'precision': 43.3293, 'recall': 22.0042, 'f1': 24.8284, 'auc': 63.4183, 'prauc': 42.6525}\n",
      "Test-long: {'precision': 31.6001, 'recall': 21.4429, 'f1': 23.9105, 'auc': 64.235, 'prauc': 40.7156}\n",
      "\n"
     ]
    },
    {
     "name": "stderr",
     "output_type": "stream",
     "text": [
      "Epoch 002: 100%|██████████| 59/59 [00:03<00:00, 14.87it/s, loss=0.4008]\n",
      "Running inference: 100%|██████████| 45/45 [00:02<00:00, 22.26it/s]\n",
      "Running inference: 100%|██████████| 45/45 [00:02<00:00, 22.29it/s]\n"
     ]
    },
    {
     "name": "stdout",
     "output_type": "stream",
     "text": [
      "Validation: {'precision': 34.1978, 'recall': 26.2587, 'f1': 27.8231, 'auc': 71.412, 'prauc': 40.9679}\n",
      "Test:      {'precision': 38.2768, 'recall': 25.5007, 'f1': 26.8748, 'auc': 72.7599, 'prauc': 40.5701}\n",
      "\n",
      "Validation-long: {'precision': 39.6659, 'recall': 27.8181, 'f1': 30.1118, 'auc': 69.8171, 'prauc': 48.2668}\n",
      "Test-long: {'precision': 33.7471, 'recall': 26.1016, 'f1': 27.8879, 'auc': 70.0399, 'prauc': 44.0354}\n",
      "\n"
     ]
    },
    {
     "name": "stderr",
     "output_type": "stream",
     "text": [
      "Epoch 003: 100%|██████████| 59/59 [00:03<00:00, 15.10it/s, loss=0.3799]\n",
      "Running inference: 100%|██████████| 45/45 [00:02<00:00, 22.21it/s]\n",
      "Running inference: 100%|██████████| 45/45 [00:02<00:00, 22.08it/s]\n"
     ]
    },
    {
     "name": "stdout",
     "output_type": "stream",
     "text": [
      "Validation: {'precision': 40.2478, 'recall': 29.2195, 'f1': 32.0612, 'auc': 73.4132, 'prauc': 42.6877}\n",
      "Test:      {'precision': 40.0495, 'recall': 28.2496, 'f1': 31.2714, 'auc': 74.6455, 'prauc': 42.6616}\n",
      "\n",
      "Validation-long: {'precision': 44.8141, 'recall': 32.6217, 'f1': 34.9669, 'auc': 72.4432, 'prauc': 48.1625}\n",
      "Test-long: {'precision': 40.2385, 'recall': 30.1322, 'f1': 32.7768, 'auc': 72.4387, 'prauc': 45.424}\n",
      "\n"
     ]
    },
    {
     "name": "stderr",
     "output_type": "stream",
     "text": [
      "Epoch 004: 100%|██████████| 59/59 [00:04<00:00, 14.16it/s, loss=0.3662]\n",
      "Running inference: 100%|██████████| 45/45 [00:02<00:00, 22.13it/s]\n",
      "Running inference: 100%|██████████| 45/45 [00:02<00:00, 22.08it/s]\n"
     ]
    },
    {
     "name": "stdout",
     "output_type": "stream",
     "text": [
      "Validation: {'precision': 40.3719, 'recall': 33.6518, 'f1': 35.3508, 'auc': 74.1943, 'prauc': 43.7881}\n",
      "Test:      {'precision': 39.8334, 'recall': 32.9881, 'f1': 34.8329, 'auc': 75.4367, 'prauc': 43.1149}\n",
      "\n",
      "Validation-long: {'precision': 42.8618, 'recall': 37.2198, 'f1': 37.7357, 'auc': 72.2446, 'prauc': 48.8165}\n",
      "Test-long: {'precision': 40.7007, 'recall': 34.4413, 'f1': 35.8646, 'auc': 74.3352, 'prauc': 46.2827}\n",
      "\n"
     ]
    },
    {
     "name": "stderr",
     "output_type": "stream",
     "text": [
      "Epoch 005: 100%|██████████| 59/59 [00:03<00:00, 14.86it/s, loss=0.3568]\n",
      "Running inference: 100%|██████████| 45/45 [00:02<00:00, 22.15it/s]\n",
      "Running inference: 100%|██████████| 45/45 [00:02<00:00, 22.22it/s]\n"
     ]
    },
    {
     "name": "stdout",
     "output_type": "stream",
     "text": [
      "Validation: {'precision': 43.7542, 'recall': 30.3762, 'f1': 33.7628, 'auc': 74.4576, 'prauc': 44.0753}\n",
      "Test:      {'precision': 41.4794, 'recall': 29.217, 'f1': 32.6608, 'auc': 75.0956, 'prauc': 43.9448}\n",
      "\n",
      "Validation-long: {'precision': 43.5738, 'recall': 32.3066, 'f1': 34.9145, 'auc': 71.5658, 'prauc': 48.3002}\n",
      "Test-long: {'precision': 42.4394, 'recall': 30.2726, 'f1': 32.7659, 'auc': 74.3798, 'prauc': 47.315}\n",
      "\n"
     ]
    },
    {
     "name": "stderr",
     "output_type": "stream",
     "text": [
      "Epoch 006: 100%|██████████| 59/59 [00:03<00:00, 14.94it/s, loss=0.3462]\n",
      "Running inference: 100%|██████████| 45/45 [00:02<00:00, 22.39it/s]\n",
      "Running inference: 100%|██████████| 45/45 [00:02<00:00, 22.08it/s]\n"
     ]
    },
    {
     "name": "stdout",
     "output_type": "stream",
     "text": [
      "Validation: {'precision': 43.7663, 'recall': 31.982, 'f1': 34.8901, 'auc': 74.7048, 'prauc': 44.718}\n",
      "Test:      {'precision': 48.4526, 'recall': 31.533, 'f1': 34.6695, 'auc': 75.4934, 'prauc': 44.8255}\n",
      "\n",
      "Validation-long: {'precision': 43.9476, 'recall': 32.9497, 'f1': 35.4571, 'auc': 72.5763, 'prauc': 50.4801}\n",
      "Test-long: {'precision': 46.9267, 'recall': 31.3434, 'f1': 35.1426, 'auc': 74.2461, 'prauc': 48.2553}\n",
      "\n"
     ]
    },
    {
     "name": "stderr",
     "output_type": "stream",
     "text": [
      "Epoch 007: 100%|██████████| 59/59 [00:03<00:00, 15.08it/s, loss=0.3346]\n",
      "Running inference: 100%|██████████| 45/45 [00:02<00:00, 22.29it/s]\n",
      "Running inference: 100%|██████████| 45/45 [00:01<00:00, 22.56it/s]\n"
     ]
    },
    {
     "name": "stdout",
     "output_type": "stream",
     "text": [
      "Validation: {'precision': 42.5369, 'recall': 33.8725, 'f1': 37.2266, 'auc': 75.3203, 'prauc': 44.9815}\n",
      "Test:      {'precision': 46.7182, 'recall': 32.4746, 'f1': 35.92, 'auc': 76.0253, 'prauc': 44.9403}\n",
      "\n",
      "Validation-long: {'precision': 46.4256, 'recall': 35.0658, 'f1': 38.8663, 'auc': 74.3874, 'prauc': 50.8933}\n",
      "Test-long: {'precision': 44.0099, 'recall': 32.8006, 'f1': 36.7344, 'auc': 76.9487, 'prauc': 48.9408}\n",
      "\n"
     ]
    },
    {
     "name": "stderr",
     "output_type": "stream",
     "text": [
      "Epoch 008: 100%|██████████| 59/59 [00:03<00:00, 15.10it/s, loss=0.3240]\n",
      "Running inference: 100%|██████████| 45/45 [00:02<00:00, 22.28it/s]\n",
      "Running inference: 100%|██████████| 45/45 [00:02<00:00, 22.30it/s]\n"
     ]
    },
    {
     "name": "stdout",
     "output_type": "stream",
     "text": [
      "Validation: {'precision': 41.6115, 'recall': 37.081, 'f1': 38.5931, 'auc': 75.2518, 'prauc': 45.2228}\n",
      "Test:      {'precision': 46.356, 'recall': 36.2764, 'f1': 38.0425, 'auc': 76.0813, 'prauc': 44.7355}\n",
      "\n",
      "Validation-long: {'precision': 48.2725, 'recall': 37.2941, 'f1': 40.7056, 'auc': 73.6332, 'prauc': 51.824}\n",
      "Test-long: {'precision': 45.7745, 'recall': 35.2746, 'f1': 39.2214, 'auc': 76.7792, 'prauc': 48.9528}\n",
      "\n"
     ]
    },
    {
     "name": "stderr",
     "output_type": "stream",
     "text": [
      "Epoch 009: 100%|██████████| 59/59 [00:03<00:00, 15.01it/s, loss=0.3129]\n",
      "Running inference: 100%|██████████| 45/45 [00:02<00:00, 19.92it/s]\n",
      "Running inference: 100%|██████████| 45/45 [00:02<00:00, 22.08it/s]\n"
     ]
    },
    {
     "name": "stdout",
     "output_type": "stream",
     "text": [
      "Validation: {'precision': 44.1169, 'recall': 35.5002, 'f1': 37.6994, 'auc': 74.7417, 'prauc': 44.4025}\n",
      "Test:      {'precision': 46.7016, 'recall': 35.6652, 'f1': 37.8714, 'auc': 75.3522, 'prauc': 44.3036}\n",
      "\n",
      "Validation-long: {'precision': 45.3622, 'recall': 37.5643, 'f1': 39.981, 'auc': 73.077, 'prauc': 50.6987}\n",
      "Test-long: {'precision': 44.4431, 'recall': 37.7777, 'f1': 40.3069, 'auc': 76.1657, 'prauc': 48.5258}\n",
      "\n"
     ]
    },
    {
     "name": "stderr",
     "output_type": "stream",
     "text": [
      "Epoch 010: 100%|██████████| 59/59 [00:03<00:00, 15.12it/s, loss=0.3023]\n",
      "Running inference: 100%|██████████| 45/45 [00:02<00:00, 22.35it/s]\n",
      "Running inference: 100%|██████████| 45/45 [00:02<00:00, 22.14it/s]\n"
     ]
    },
    {
     "name": "stdout",
     "output_type": "stream",
     "text": [
      "Validation: {'precision': 42.7209, 'recall': 36.1096, 'f1': 37.5278, 'auc': 74.0287, 'prauc': 44.1156}\n",
      "Test:      {'precision': 44.9693, 'recall': 35.1285, 'f1': 37.0054, 'auc': 74.7541, 'prauc': 43.6325}\n",
      "\n",
      "Validation-long: {'precision': 43.8521, 'recall': 37.8815, 'f1': 39.2637, 'auc': 73.883, 'prauc': 50.1994}\n",
      "Test-long: {'precision': 42.0549, 'recall': 33.3444, 'f1': 35.7647, 'auc': 74.8736, 'prauc': 49.7169}\n",
      "\n"
     ]
    },
    {
     "name": "stderr",
     "output_type": "stream",
     "text": [
      "Epoch 011: 100%|██████████| 59/59 [00:03<00:00, 14.99it/s, loss=0.2965]\n",
      "Running inference: 100%|██████████| 45/45 [00:02<00:00, 22.33it/s]\n",
      "Running inference: 100%|██████████| 45/45 [00:02<00:00, 22.45it/s]\n"
     ]
    },
    {
     "name": "stdout",
     "output_type": "stream",
     "text": [
      "Validation: {'precision': 42.02, 'recall': 34.5021, 'f1': 37.3345, 'auc': 75.0296, 'prauc': 44.8531}\n",
      "Test:      {'precision': 48.8049, 'recall': 33.789, 'f1': 36.8665, 'auc': 74.7437, 'prauc': 44.1693}\n",
      "\n",
      "Validation-long: {'precision': 44.9992, 'recall': 37.8838, 'f1': 40.1677, 'auc': 74.5269, 'prauc': 52.0792}\n",
      "Test-long: {'precision': 43.8261, 'recall': 36.2523, 'f1': 39.0192, 'auc': 75.6519, 'prauc': 47.9998}\n",
      "\n"
     ]
    },
    {
     "name": "stderr",
     "output_type": "stream",
     "text": [
      "Epoch 012: 100%|██████████| 59/59 [00:03<00:00, 15.10it/s, loss=0.2822]\n",
      "Running inference: 100%|██████████| 45/45 [00:02<00:00, 22.29it/s]\n",
      "Running inference: 100%|██████████| 45/45 [00:02<00:00, 22.17it/s]\n"
     ]
    },
    {
     "name": "stdout",
     "output_type": "stream",
     "text": [
      "Validation: {'precision': 42.4927, 'recall': 38.6655, 'f1': 39.482, 'auc': 74.1902, 'prauc': 43.849}\n",
      "Test:      {'precision': 44.9165, 'recall': 37.8065, 'f1': 39.142, 'auc': 74.233, 'prauc': 43.6415}\n",
      "\n",
      "Validation-long: {'precision': 42.8878, 'recall': 44.147, 'f1': 43.0636, 'auc': 73.6015, 'prauc': 50.9027}\n",
      "Test-long: {'precision': 39.9537, 'recall': 41.9394, 'f1': 40.5313, 'auc': 75.1264, 'prauc': 46.6887}\n",
      "\n"
     ]
    },
    {
     "name": "stderr",
     "output_type": "stream",
     "text": [
      "Epoch 013: 100%|██████████| 59/59 [00:03<00:00, 15.14it/s, loss=0.2720]\n",
      "Running inference: 100%|██████████| 45/45 [00:02<00:00, 22.32it/s]\n",
      "Running inference: 100%|██████████| 45/45 [00:02<00:00, 22.24it/s]\n"
     ]
    },
    {
     "name": "stdout",
     "output_type": "stream",
     "text": [
      "Validation: {'precision': 44.0851, 'recall': 38.2659, 'f1': 39.708, 'auc': 74.0606, 'prauc': 43.5491}\n",
      "Test:      {'precision': 44.0307, 'recall': 37.3728, 'f1': 38.9511, 'auc': 74.685, 'prauc': 43.7777}\n",
      "\n",
      "Validation-long: {'precision': 44.8311, 'recall': 39.4955, 'f1': 41.6171, 'auc': 72.5909, 'prauc': 51.2518}\n",
      "Test-long: {'precision': 41.6158, 'recall': 38.6717, 'f1': 39.8457, 'auc': 75.4965, 'prauc': 46.4649}\n",
      "\n"
     ]
    },
    {
     "name": "stderr",
     "output_type": "stream",
     "text": [
      "Epoch 014: 100%|██████████| 59/59 [00:03<00:00, 15.18it/s, loss=0.2603]\n",
      "Running inference: 100%|██████████| 45/45 [00:02<00:00, 22.39it/s]\n",
      "Running inference: 100%|██████████| 45/45 [00:02<00:00, 22.25it/s]\n"
     ]
    },
    {
     "name": "stdout",
     "output_type": "stream",
     "text": [
      "Validation: {'precision': 42.1843, 'recall': 35.5339, 'f1': 37.2331, 'auc': 73.0945, 'prauc': 42.0997}\n",
      "Test:      {'precision': 46.7222, 'recall': 34.951, 'f1': 37.9706, 'auc': 73.4331, 'prauc': 42.521}\n",
      "\n",
      "Validation-long: {'precision': 44.0115, 'recall': 38.1691, 'f1': 39.5847, 'auc': 72.9109, 'prauc': 51.6508}\n",
      "Test-long: {'precision': 43.4336, 'recall': 37.298, 'f1': 38.848, 'auc': 75.6429, 'prauc': 47.437}\n",
      "\n"
     ]
    },
    {
     "name": "stderr",
     "output_type": "stream",
     "text": [
      "Epoch 015: 100%|██████████| 59/59 [00:04<00:00, 14.18it/s, loss=0.2514]\n",
      "Running inference: 100%|██████████| 45/45 [00:02<00:00, 22.36it/s]\n",
      "Running inference: 100%|██████████| 45/45 [00:02<00:00, 22.22it/s]\n"
     ]
    },
    {
     "name": "stdout",
     "output_type": "stream",
     "text": [
      "Validation: {'precision': 43.7157, 'recall': 38.9991, 'f1': 39.637, 'auc': 73.5641, 'prauc': 42.9366}\n",
      "Test:      {'precision': 47.9739, 'recall': 38.68, 'f1': 40.3251, 'auc': 73.9116, 'prauc': 42.6156}\n",
      "\n",
      "Validation-long: {'precision': 44.5734, 'recall': 40.2328, 'f1': 41.538, 'auc': 72.5501, 'prauc': 50.2758}\n",
      "Test-long: {'precision': 44.2472, 'recall': 38.0095, 'f1': 40.3963, 'auc': 75.0809, 'prauc': 47.4122}\n",
      "\n"
     ]
    },
    {
     "name": "stderr",
     "output_type": "stream",
     "text": [
      "Epoch 016: 100%|██████████| 59/59 [00:03<00:00, 15.14it/s, loss=0.2473]\n",
      "Running inference: 100%|██████████| 45/45 [00:02<00:00, 22.46it/s]\n",
      "Running inference: 100%|██████████| 45/45 [00:02<00:00, 22.02it/s]\n"
     ]
    },
    {
     "name": "stdout",
     "output_type": "stream",
     "text": [
      "Validation: {'precision': 43.39, 'recall': 36.5145, 'f1': 38.1502, 'auc': 73.1885, 'prauc': 42.8626}\n",
      "Test:      {'precision': 43.2359, 'recall': 36.4384, 'f1': 38.6699, 'auc': 74.0432, 'prauc': 43.0537}\n",
      "\n",
      "Validation-long: {'precision': 43.0502, 'recall': 40.6378, 'f1': 41.345, 'auc': 72.6787, 'prauc': 50.3268}\n",
      "Test-long: {'precision': 40.3373, 'recall': 39.0161, 'f1': 39.4679, 'auc': 74.6272, 'prauc': 47.6185}\n",
      "\n"
     ]
    },
    {
     "name": "stderr",
     "output_type": "stream",
     "text": [
      "Epoch 017: 100%|██████████| 59/59 [00:03<00:00, 15.08it/s, loss=0.2341]\n",
      "Running inference: 100%|██████████| 45/45 [00:02<00:00, 22.27it/s]\n",
      "Running inference: 100%|██████████| 45/45 [00:02<00:00, 21.55it/s]\n"
     ]
    },
    {
     "name": "stdout",
     "output_type": "stream",
     "text": [
      "Validation: {'precision': 42.0236, 'recall': 37.2221, 'f1': 38.3193, 'auc': 72.6184, 'prauc': 42.2455}\n",
      "Test:      {'precision': 46.1348, 'recall': 36.093, 'f1': 38.1527, 'auc': 73.084, 'prauc': 42.2355}\n",
      "\n",
      "Validation-long: {'precision': 43.8497, 'recall': 39.7803, 'f1': 41.1932, 'auc': 71.9365, 'prauc': 49.7483}\n",
      "Test-long: {'precision': 41.1747, 'recall': 34.9596, 'f1': 37.3987, 'auc': 73.5817, 'prauc': 45.6455}\n",
      "\n"
     ]
    },
    {
     "name": "stderr",
     "output_type": "stream",
     "text": [
      "Epoch 018: 100%|██████████| 59/59 [00:04<00:00, 14.32it/s, loss=0.2253]\n",
      "Running inference: 100%|██████████| 45/45 [00:02<00:00, 21.47it/s]\n",
      "Running inference: 100%|██████████| 45/45 [00:02<00:00, 21.46it/s]\n"
     ]
    },
    {
     "name": "stdout",
     "output_type": "stream",
     "text": [
      "Validation: {'precision': 43.4423, 'recall': 39.1842, 'f1': 39.6209, 'auc': 73.2329, 'prauc': 42.268}\n",
      "Test:      {'precision': 46.1676, 'recall': 38.1273, 'f1': 39.7109, 'auc': 73.3576, 'prauc': 42.4995}\n",
      "\n",
      "Validation-long: {'precision': 43.2072, 'recall': 41.6364, 'f1': 41.7201, 'auc': 71.792, 'prauc': 49.2673}\n",
      "Test-long: {'precision': 41.9752, 'recall': 39.8591, 'f1': 40.6119, 'auc': 75.018, 'prauc': 47.7498}\n",
      "\n",
      "\n",
      "Early stopping triggered (no improvement for 5 epochs).\n",
      "\n",
      "Best validation performance:\n",
      "{'global': {'precision': 44.0851, 'recall': 38.2659, 'f1': 39.708, 'auc': 74.0606, 'prauc': 43.5491}, 'per_class':                                            precision   recall       f1  \\\n",
      "Acute and unspecified renal failure          50.7812  44.9309  47.6773   \n",
      "Acute cerebrovascular disease                 0.0000   0.0000   0.0000   \n",
      "Acute myocardial infarction                  25.7143   9.4737  13.8462   \n",
      "Cardiac dysrhythmias                         71.6364  71.8978  71.7668   \n",
      "Chronic kidney disease                       75.8514  72.0588  73.9065   \n",
      "Chronic obstructive pulmonary disease        61.2500  52.1277  56.3218   \n",
      "Conduction disorders                          0.0000   0.0000   0.0000   \n",
      "Congestive heart failure; nonhypertensive    64.8118  73.3333  68.8097   \n",
      "Coronary atherosclerosis and related         58.2857  59.4752  58.8745   \n",
      "Disorders of lipid metabolism                59.6439  52.7559  55.9889   \n",
      "Essential hypertension                       62.9063  63.8835  63.3911   \n",
      "Fluid and electrolyte disorders              51.5464  43.5540  47.2144   \n",
      "Gastrointestinal hemorrhage                  30.7692   4.0000   7.0796   \n",
      "Hypertension with complications              66.3768  71.7868  68.9759   \n",
      "Other liver diseases                          0.0000   0.0000   0.0000   \n",
      "Other lower respiratory disease              57.1759  48.0545  52.2199   \n",
      "Pneumonia                                    16.6667   0.6711   1.2903   \n",
      "Septicemia (except in labor)                 40.1163  20.7831  27.3810   \n",
      "\n",
      "                                               auc    prauc  \n",
      "Acute and unspecified renal failure        69.9178  47.1392  \n",
      "Acute cerebrovascular disease              71.0608   3.4318  \n",
      "Acute myocardial infarction                71.3876  15.5668  \n",
      "Cardiac dysrhythmias                       82.0553  76.4771  \n",
      "Chronic kidney disease                     90.0361  79.1155  \n",
      "Chronic obstructive pulmonary disease      86.0990  55.5910  \n",
      "Conduction disorders                       64.4682   3.5985  \n",
      "Congestive heart failure; nonhypertensive  82.0793  74.8783  \n",
      "Coronary atherosclerosis and related       82.7803  57.9011  \n",
      "Disorders of lipid metabolism              80.6469  61.6728  \n",
      "Essential hypertension                     78.0063  65.0783  \n",
      "Fluid and electrolyte disorders            61.0512  48.9051  \n",
      "Gastrointestinal hemorrhage                67.9687  14.7927  \n",
      "Hypertension with complications            88.0784  67.7690  \n",
      "Other liver diseases                       65.9009   5.0492  \n",
      "Other lower respiratory disease            70.5591  59.5647  \n",
      "Pneumonia                                  53.4701  11.1562  \n",
      "Septicemia (except in labor)               67.5253  36.1962  }\n",
      "Corresponding test performance:\n",
      "{'global': {'precision': 44.0307, 'recall': 37.3728, 'f1': 38.9511, 'auc': 74.685, 'prauc': 43.7777}, 'per_class':                                            precision   recall       f1  \\\n",
      "Acute and unspecified renal failure          49.4737  44.0281  46.5923   \n",
      "Acute cerebrovascular disease                 0.0000   0.0000   0.0000   \n",
      "Acute myocardial infarction                  37.5000   9.1837  14.7541   \n",
      "Cardiac dysrhythmias                         68.2331  67.9775  68.1051   \n",
      "Chronic kidney disease                       74.0984  68.6930  71.2934   \n",
      "Chronic obstructive pulmonary disease        54.2857  44.7059  49.0323   \n",
      "Conduction disorders                          0.0000   0.0000   0.0000   \n",
      "Congestive heart failure; nonhypertensive    66.6087  71.4552  68.9469   \n",
      "Coronary atherosclerosis and related         57.1429  61.0592  59.0361   \n",
      "Disorders of lipid metabolism                58.2043  51.5068  54.6512   \n",
      "Essential hypertension                       64.5224  65.6746  65.0934   \n",
      "Fluid and electrolyte disorders              48.9403  45.4383  47.1243   \n",
      "Gastrointestinal hemorrhage                  20.0000   2.0833   3.7736   \n",
      "Hypertension with complications              66.4615  70.5882  68.4628   \n",
      "Other liver diseases                          0.0000   0.0000   0.0000   \n",
      "Other lower respiratory disease              59.8592  44.8155  51.2563   \n",
      "Pneumonia                                    25.0000   1.0638   2.0408   \n",
      "Septicemia (except in labor)                 42.2222  24.4373  30.9572   \n",
      "\n",
      "                                               auc    prauc  \n",
      "Acute and unspecified renal failure        69.4570  46.3043  \n",
      "Acute cerebrovascular disease              73.8261   8.6243  \n",
      "Acute myocardial infarction                72.6531  18.4824  \n",
      "Cardiac dysrhythmias                       79.0909  73.8606  \n",
      "Chronic kidney disease                     90.4912  78.6450  \n",
      "Chronic obstructive pulmonary disease      81.6959  48.5887  \n",
      "Conduction disorders                       73.1279   6.5775  \n",
      "Congestive heart failure; nonhypertensive  81.8293  73.0875  \n",
      "Coronary atherosclerosis and related       84.6468  59.5497  \n",
      "Disorders of lipid metabolism              80.6870  58.2395  \n",
      "Essential hypertension                     79.2889  66.0412  \n",
      "Fluid and electrolyte disorders            61.4382  49.5204  \n",
      "Gastrointestinal hemorrhage                63.2258  13.4176  \n",
      "Hypertension with complications            88.4838  68.0332  \n",
      "Other liver diseases                       70.9300   4.0179  \n",
      "Other lower respiratory disease            67.1700  60.6590  \n",
      "Pneumonia                                  59.1505  18.2746  \n",
      "Septicemia (except in labor)               67.1381  36.0743  }\n",
      "Corresponding test-long performance:\n",
      "{'global': {'precision': 41.6158, 'recall': 38.6717, 'f1': 39.8457, 'auc': 75.4965, 'prauc': 46.4649}, 'per_class':                                            precision   recall       f1  \\\n",
      "Acute and unspecified renal failure          56.0606  62.7119  59.2000   \n",
      "Acute cerebrovascular disease                 0.0000   0.0000   0.0000   \n",
      "Acute myocardial infarction                   0.0000   0.0000   0.0000   \n",
      "Cardiac dysrhythmias                         68.7500  55.0000  61.1111   \n",
      "Chronic kidney disease                       82.8571  74.3590  78.3784   \n",
      "Chronic obstructive pulmonary disease        61.9048  50.0000  55.3191   \n",
      "Conduction disorders                          0.0000   0.0000   0.0000   \n",
      "Congestive heart failure; nonhypertensive    73.4043  75.0000  74.1935   \n",
      "Coronary atherosclerosis and related         56.4103  50.0000  53.0120   \n",
      "Disorders of lipid metabolism                53.1250  34.6939  41.9753   \n",
      "Essential hypertension                       54.2373  65.3061  59.2593   \n",
      "Fluid and electrolyte disorders              56.8807  63.2653  59.9034   \n",
      "Gastrointestinal hemorrhage                   0.0000   0.0000   0.0000   \n",
      "Hypertension with complications              76.5625  72.0588  74.2424   \n",
      "Other liver diseases                          0.0000   0.0000   0.0000   \n",
      "Other lower respiratory disease              64.7059  58.5106  61.4525   \n",
      "Pneumonia                                     0.0000   0.0000   0.0000   \n",
      "Septicemia (except in labor)                 44.1860  35.1852  39.1753   \n",
      "\n",
      "                                               auc    prauc  \n",
      "Acute and unspecified renal failure        75.3503  52.8257  \n",
      "Acute cerebrovascular disease              95.6757   5.5556  \n",
      "Acute myocardial infarction                75.5114  14.7645  \n",
      "Cardiac dysrhythmias                       70.0767  67.5935  \n",
      "Chronic kidney disease                     91.1325  89.5365  \n",
      "Chronic obstructive pulmonary disease      84.0144  48.7952  \n",
      "Conduction disorders                       52.8441   5.7476  \n",
      "Congestive heart failure; nonhypertensive  83.6031  82.2655  \n",
      "Coronary atherosclerosis and related       82.8265  61.8806  \n",
      "Disorders of lipid metabolism              73.0001  52.0930  \n",
      "Essential hypertension                     78.9066  57.9526  \n",
      "Fluid and electrolyte disorders            57.3342  59.2189  \n",
      "Gastrointestinal hemorrhage                69.1138  16.9364  \n",
      "Hypertension with complications            88.1979  78.9417  \n",
      "Other liver diseases                       86.5209   6.8757  \n",
      "Other lower respiratory disease            70.0740  74.8286  \n",
      "Pneumonia                                  61.0830  16.8319  \n",
      "Septicemia (except in labor)               63.6714  43.7249  }\n",
      "================================11==================================\n"
     ]
    },
    {
     "name": "stderr",
     "output_type": "stream",
     "text": [
      "Epoch 001: 100%|██████████| 59/59 [00:04<00:00, 14.36it/s, loss=0.4674]\n",
      "Running inference: 100%|██████████| 45/45 [00:02<00:00, 21.59it/s]\n",
      "Running inference: 100%|██████████| 45/45 [00:02<00:00, 21.44it/s]\n"
     ]
    },
    {
     "name": "stdout",
     "output_type": "stream",
     "text": [
      "Validation: {'precision': 32.9367, 'recall': 17.5649, 'f1': 20.1358, 'auc': 68.799, 'prauc': 37.5283}\n",
      "Test:      {'precision': 31.0765, 'recall': 16.5704, 'f1': 18.8247, 'auc': 69.4042, 'prauc': 36.9329}\n",
      "\n",
      "Validation-long: {'precision': 28.0947, 'recall': 18.9765, 'f1': 21.259, 'auc': 67.9352, 'prauc': 43.4637}\n",
      "Test-long: {'precision': 29.4977, 'recall': 16.4767, 'f1': 18.6737, 'auc': 68.7588, 'prauc': 42.2354}\n",
      "\n"
     ]
    },
    {
     "name": "stderr",
     "output_type": "stream",
     "text": [
      "Epoch 002: 100%|██████████| 59/59 [00:03<00:00, 14.76it/s, loss=0.3983]\n",
      "Running inference: 100%|██████████| 45/45 [00:02<00:00, 19.61it/s]\n",
      "Running inference: 100%|██████████| 45/45 [00:02<00:00, 22.07it/s]\n"
     ]
    },
    {
     "name": "stdout",
     "output_type": "stream",
     "text": [
      "Validation: {'precision': 38.8494, 'recall': 26.8298, 'f1': 29.242, 'auc': 72.3679, 'prauc': 40.8686}\n",
      "Test:      {'precision': 37.6998, 'recall': 25.1196, 'f1': 27.4148, 'auc': 73.6627, 'prauc': 40.5329}\n",
      "\n",
      "Validation-long: {'precision': 41.8305, 'recall': 29.6322, 'f1': 31.5216, 'auc': 70.5602, 'prauc': 47.1121}\n",
      "Test-long: {'precision': 42.4883, 'recall': 25.7217, 'f1': 28.7933, 'auc': 73.3085, 'prauc': 44.9467}\n",
      "\n"
     ]
    },
    {
     "name": "stderr",
     "output_type": "stream",
     "text": [
      "Epoch 003: 100%|██████████| 59/59 [00:03<00:00, 15.26it/s, loss=0.3795]\n",
      "Running inference: 100%|██████████| 45/45 [00:02<00:00, 22.38it/s]\n",
      "Running inference: 100%|██████████| 45/45 [00:02<00:00, 22.25it/s]\n"
     ]
    },
    {
     "name": "stdout",
     "output_type": "stream",
     "text": [
      "Validation: {'precision': 40.6135, 'recall': 29.3722, 'f1': 32.3918, 'auc': 73.8507, 'prauc': 42.7213}\n",
      "Test:      {'precision': 37.3059, 'recall': 28.166, 'f1': 31.0697, 'auc': 74.6283, 'prauc': 41.7056}\n",
      "\n",
      "Validation-long: {'precision': 42.8828, 'recall': 32.362, 'f1': 34.6812, 'auc': 72.1343, 'prauc': 48.7317}\n",
      "Test-long: {'precision': 39.5944, 'recall': 30.0594, 'f1': 32.1856, 'auc': 72.5613, 'prauc': 44.9679}\n",
      "\n"
     ]
    },
    {
     "name": "stderr",
     "output_type": "stream",
     "text": [
      "Epoch 004: 100%|██████████| 59/59 [00:03<00:00, 15.02it/s, loss=0.3652]\n",
      "Running inference: 100%|██████████| 45/45 [00:02<00:00, 22.17it/s]\n",
      "Running inference: 100%|██████████| 45/45 [00:02<00:00, 22.09it/s]\n"
     ]
    },
    {
     "name": "stdout",
     "output_type": "stream",
     "text": [
      "Validation: {'precision': 43.2674, 'recall': 32.824, 'f1': 34.7138, 'auc': 74.0284, 'prauc': 43.9416}\n",
      "Test:      {'precision': 41.1101, 'recall': 30.9606, 'f1': 32.6493, 'auc': 75.0568, 'prauc': 42.8296}\n",
      "\n",
      "Validation-long: {'precision': 45.8065, 'recall': 35.6524, 'f1': 36.8593, 'auc': 72.5175, 'prauc': 49.7941}\n",
      "Test-long: {'precision': 40.9298, 'recall': 31.3596, 'f1': 33.2482, 'auc': 73.2457, 'prauc': 47.7812}\n",
      "\n"
     ]
    },
    {
     "name": "stderr",
     "output_type": "stream",
     "text": [
      "Epoch 005: 100%|██████████| 59/59 [00:03<00:00, 15.00it/s, loss=0.3547]\n",
      "Running inference: 100%|██████████| 45/45 [00:02<00:00, 22.30it/s]\n",
      "Running inference: 100%|██████████| 45/45 [00:02<00:00, 22.13it/s]\n"
     ]
    },
    {
     "name": "stdout",
     "output_type": "stream",
     "text": [
      "Validation: {'precision': 41.4088, 'recall': 37.697, 'f1': 38.9938, 'auc': 74.7619, 'prauc': 45.2631}\n",
      "Test:      {'precision': 40.3217, 'recall': 36.262, 'f1': 37.7146, 'auc': 75.6877, 'prauc': 44.1149}\n",
      "\n",
      "Validation-long: {'precision': 44.3444, 'recall': 41.4338, 'f1': 42.213, 'auc': 72.4405, 'prauc': 51.1116}\n",
      "Test-long: {'precision': 41.6628, 'recall': 38.351, 'f1': 39.4348, 'auc': 74.6535, 'prauc': 47.367}\n",
      "\n"
     ]
    },
    {
     "name": "stderr",
     "output_type": "stream",
     "text": [
      "Epoch 006: 100%|██████████| 59/59 [00:03<00:00, 14.93it/s, loss=0.3419]\n",
      "Running inference: 100%|██████████| 45/45 [00:02<00:00, 22.10it/s]\n",
      "Running inference: 100%|██████████| 45/45 [00:02<00:00, 21.78it/s]\n"
     ]
    },
    {
     "name": "stdout",
     "output_type": "stream",
     "text": [
      "Validation: {'precision': 43.047, 'recall': 29.6559, 'f1': 33.5888, 'auc': 74.5764, 'prauc': 45.0191}\n",
      "Test:      {'precision': 42.5288, 'recall': 27.6591, 'f1': 32.0486, 'auc': 75.0928, 'prauc': 43.7657}\n",
      "\n",
      "Validation-long: {'precision': 47.2191, 'recall': 31.0018, 'f1': 34.8675, 'auc': 72.8588, 'prauc': 51.7246}\n",
      "Test-long: {'precision': 45.1353, 'recall': 28.2318, 'f1': 33.516, 'auc': 72.8675, 'prauc': 46.8506}\n",
      "\n"
     ]
    },
    {
     "name": "stderr",
     "output_type": "stream",
     "text": [
      "Epoch 007: 100%|██████████| 59/59 [00:03<00:00, 15.07it/s, loss=0.3312]\n",
      "Running inference: 100%|██████████| 45/45 [00:02<00:00, 22.31it/s]\n",
      "Running inference: 100%|██████████| 45/45 [00:02<00:00, 20.02it/s]\n"
     ]
    },
    {
     "name": "stdout",
     "output_type": "stream",
     "text": [
      "Validation: {'precision': 43.9847, 'recall': 31.9488, 'f1': 35.9225, 'auc': 74.7624, 'prauc': 45.5788}\n",
      "Test:      {'precision': 42.6937, 'recall': 29.813, 'f1': 34.2956, 'auc': 75.6827, 'prauc': 44.3223}\n",
      "\n",
      "Validation-long: {'precision': 46.2578, 'recall': 34.9727, 'f1': 38.1047, 'auc': 72.879, 'prauc': 51.0118}\n",
      "Test-long: {'precision': 44.5314, 'recall': 33.3144, 'f1': 36.9793, 'auc': 73.2279, 'prauc': 47.5483}\n",
      "\n"
     ]
    },
    {
     "name": "stderr",
     "output_type": "stream",
     "text": [
      "Epoch 008: 100%|██████████| 59/59 [00:03<00:00, 14.96it/s, loss=0.3231]\n",
      "Running inference: 100%|██████████| 45/45 [00:02<00:00, 22.40it/s]\n",
      "Running inference: 100%|██████████| 45/45 [00:02<00:00, 22.12it/s]\n"
     ]
    },
    {
     "name": "stdout",
     "output_type": "stream",
     "text": [
      "Validation: {'precision': 41.6479, 'recall': 37.3709, 'f1': 38.481, 'auc': 74.4311, 'prauc': 44.8512}\n",
      "Test:      {'precision': 42.7659, 'recall': 36.0771, 'f1': 37.7043, 'auc': 75.2098, 'prauc': 43.9422}\n",
      "\n",
      "Validation-long: {'precision': 44.2874, 'recall': 42.337, 'f1': 42.9855, 'auc': 72.9517, 'prauc': 51.6647}\n",
      "Test-long: {'precision': 42.6225, 'recall': 39.3586, 'f1': 40.8147, 'auc': 73.4268, 'prauc': 47.4508}\n",
      "\n"
     ]
    },
    {
     "name": "stderr",
     "output_type": "stream",
     "text": [
      "Epoch 009: 100%|██████████| 59/59 [00:03<00:00, 14.93it/s, loss=0.3125]\n",
      "Running inference: 100%|██████████| 45/45 [00:02<00:00, 22.03it/s]\n",
      "Running inference: 100%|██████████| 45/45 [00:02<00:00, 22.38it/s]\n"
     ]
    },
    {
     "name": "stdout",
     "output_type": "stream",
     "text": [
      "Validation: {'precision': 49.5978, 'recall': 35.3964, 'f1': 38.0647, 'auc': 74.5133, 'prauc': 44.8235}\n",
      "Test:      {'precision': 46.3136, 'recall': 34.206, 'f1': 36.7602, 'auc': 74.942, 'prauc': 43.5873}\n",
      "\n",
      "Validation-long: {'precision': 45.6536, 'recall': 39.961, 'f1': 41.6647, 'auc': 71.8946, 'prauc': 51.9985}\n",
      "Test-long: {'precision': 43.2519, 'recall': 38.1656, 'f1': 40.2411, 'auc': 73.3941, 'prauc': 47.0145}\n",
      "\n"
     ]
    },
    {
     "name": "stderr",
     "output_type": "stream",
     "text": [
      "Epoch 010: 100%|██████████| 59/59 [00:03<00:00, 15.03it/s, loss=0.3009]\n",
      "Running inference: 100%|██████████| 45/45 [00:02<00:00, 22.12it/s]\n",
      "Running inference: 100%|██████████| 45/45 [00:02<00:00, 22.07it/s]\n"
     ]
    },
    {
     "name": "stdout",
     "output_type": "stream",
     "text": [
      "Validation: {'precision': 46.509, 'recall': 38.6883, 'f1': 38.7664, 'auc': 74.1703, 'prauc': 44.478}\n",
      "Test:      {'precision': 42.0661, 'recall': 37.56, 'f1': 37.8664, 'auc': 74.7537, 'prauc': 43.6869}\n",
      "\n",
      "Validation-long: {'precision': 42.8532, 'recall': 43.2508, 'f1': 42.0808, 'auc': 73.1646, 'prauc': 51.1286}\n",
      "Test-long: {'precision': 40.3502, 'recall': 41.3148, 'f1': 40.5583, 'auc': 72.6598, 'prauc': 47.1437}\n",
      "\n",
      "\n",
      "Early stopping triggered (no improvement for 5 epochs).\n",
      "\n",
      "Best validation performance:\n",
      "{'global': {'precision': 41.4088, 'recall': 37.697, 'f1': 38.9938, 'auc': 74.7619, 'prauc': 45.2631}, 'per_class':                                            precision   recall       f1  \\\n",
      "Acute and unspecified renal failure          49.7758  51.1521  50.4545   \n",
      "Acute cerebrovascular disease                 0.0000   0.0000   0.0000   \n",
      "Acute myocardial infarction                   0.0000   0.0000   0.0000   \n",
      "Cardiac dysrhythmias                         72.0884  65.5109  68.6424   \n",
      "Chronic kidney disease                       74.5614  75.0000  74.7801   \n",
      "Chronic obstructive pulmonary disease        58.2822  50.5319  54.1311   \n",
      "Conduction disorders                          0.0000   0.0000   0.0000   \n",
      "Congestive heart failure; nonhypertensive    73.7958  70.9259  72.3324   \n",
      "Coronary atherosclerosis and related         58.6022  63.5569  60.9790   \n",
      "Disorders of lipid metabolism                61.3889  58.0052  59.6491   \n",
      "Essential hypertension                       67.2727  57.4757  61.9895   \n",
      "Fluid and electrolyte disorders              48.4140  50.5226  49.4459   \n",
      "Gastrointestinal hemorrhage                   0.0000   0.0000   0.0000   \n",
      "Hypertension with complications              71.6867  74.6082  73.1183   \n",
      "Other liver diseases                          0.0000   0.0000   0.0000   \n",
      "Other lower respiratory disease              64.9457  46.4981  54.1950   \n",
      "Pneumonia                                     0.0000   0.0000   0.0000   \n",
      "Septicemia (except in labor)                 44.5455  14.7590  22.1719   \n",
      "\n",
      "                                               auc    prauc  \n",
      "Acute and unspecified renal failure        71.3537  48.8859  \n",
      "Acute cerebrovascular disease              67.6804   2.7861  \n",
      "Acute myocardial infarction                71.6974  15.9286  \n",
      "Cardiac dysrhythmias                       80.9276  74.0909  \n",
      "Chronic kidney disease                     91.5092  81.5899  \n",
      "Chronic obstructive pulmonary disease      86.5304  53.6962  \n",
      "Conduction disorders                       65.0239   3.6123  \n",
      "Congestive heart failure; nonhypertensive  84.3393  76.2513  \n",
      "Coronary atherosclerosis and related       84.9791  61.9766  \n",
      "Disorders of lipid metabolism              80.9891  61.4282  \n",
      "Essential hypertension                     80.2664  70.7508  \n",
      "Fluid and electrolyte disorders            60.6296  49.7531  \n",
      "Gastrointestinal hemorrhage                63.0252  12.0604  \n",
      "Hypertension with complications            91.5879  78.4640  \n",
      "Other liver diseases                       65.5650   6.5441  \n",
      "Other lower respiratory disease            72.7605  63.4664  \n",
      "Pneumonia                                  58.4369  14.7399  \n",
      "Septicemia (except in labor)               68.4128  38.7111  }\n",
      "Corresponding test performance:\n",
      "{'global': {'precision': 40.3217, 'recall': 36.262, 'f1': 37.7146, 'auc': 75.6877, 'prauc': 44.1149}, 'per_class':                                            precision   recall       f1  \\\n",
      "Acute and unspecified renal failure          48.2916  49.6487  48.9607   \n",
      "Acute cerebrovascular disease                 0.0000   0.0000   0.0000   \n",
      "Acute myocardial infarction                   0.0000   0.0000   0.0000   \n",
      "Cardiac dysrhythmias                         70.5637  63.2959  66.7325   \n",
      "Chronic kidney disease                       74.3119  73.8602  74.0854   \n",
      "Chronic obstructive pulmonary disease        56.1983  40.0000  46.7354   \n",
      "Conduction disorders                          0.0000   0.0000   0.0000   \n",
      "Congestive heart failure; nonhypertensive    71.2185  63.2463  66.9960   \n",
      "Coronary atherosclerosis and related         55.5556  62.3053  58.7372   \n",
      "Disorders of lipid metabolism                57.1014  53.9726  55.4930   \n",
      "Essential hypertension                       62.7660  58.5317  60.5749   \n",
      "Fluid and electrolyte disorders              50.7669  59.2129  54.6656   \n",
      "Gastrointestinal hemorrhage                   0.0000   0.0000   0.0000   \n",
      "Hypertension with complications              71.0098  71.2418  71.1256   \n",
      "Other liver diseases                          0.0000   0.0000   0.0000   \n",
      "Other lower respiratory disease              65.3495  37.7856  47.8842   \n",
      "Pneumonia                                     0.0000   0.0000   0.0000   \n",
      "Septicemia (except in labor)                 42.6573  19.6141  26.8722   \n",
      "\n",
      "                                               auc    prauc  \n",
      "Acute and unspecified renal failure        70.1938  46.9313  \n",
      "Acute cerebrovascular disease              75.3743   6.6899  \n",
      "Acute myocardial infarction                75.3477  18.0438  \n",
      "Cardiac dysrhythmias                       79.6310  72.8204  \n",
      "Chronic kidney disease                     91.8110  79.3751  \n",
      "Chronic obstructive pulmonary disease      82.2028  45.5370  \n",
      "Conduction disorders                       71.8361   4.9129  \n",
      "Congestive heart failure; nonhypertensive  83.0524  74.6947  \n",
      "Coronary atherosclerosis and related       84.7176  59.4447  \n",
      "Disorders of lipid metabolism              80.7739  59.7801  \n",
      "Essential hypertension                     78.6957  64.5046  \n",
      "Fluid and electrolyte disorders            64.1424  51.5209  \n",
      "Gastrointestinal hemorrhage                65.6852  13.7233  \n",
      "Hypertension with complications            90.5039  76.3633  \n",
      "Other liver diseases                       71.7069   4.4718  \n",
      "Other lower respiratory disease            67.4151  60.3497  \n",
      "Pneumonia                                  61.3835  17.2536  \n",
      "Septicemia (except in labor)               67.9055  37.6514  }\n",
      "Corresponding test-long performance:\n",
      "{'global': {'precision': 41.6628, 'recall': 38.351, 'f1': 39.4348, 'auc': 74.6535, 'prauc': 47.367}, 'per_class':                                            precision   recall       f1  \\\n",
      "Acute and unspecified renal failure          50.0000  64.4068  56.2963   \n",
      "Acute cerebrovascular disease                 0.0000   0.0000   0.0000   \n",
      "Acute myocardial infarction                   0.0000   0.0000   0.0000   \n",
      "Cardiac dysrhythmias                         69.2308  56.2500  62.0690   \n",
      "Chronic kidney disease                       84.0580  74.3590  78.9116   \n",
      "Chronic obstructive pulmonary disease        53.8462  26.9231  35.8974   \n",
      "Conduction disorders                          0.0000   0.0000   0.0000   \n",
      "Congestive heart failure; nonhypertensive    74.7126  70.6522  72.6257   \n",
      "Coronary atherosclerosis and related         61.9048  59.0909  60.4651   \n",
      "Disorders of lipid metabolism                46.8085  44.8980  45.8333   \n",
      "Essential hypertension                       50.9804  53.0612  52.0000   \n",
      "Fluid and electrolyte disorders              57.4803  74.4898  64.8889   \n",
      "Gastrointestinal hemorrhage                   0.0000   0.0000   0.0000   \n",
      "Hypertension with complications              77.6119  76.4706  77.0370   \n",
      "Other liver diseases                          0.0000   0.0000   0.0000   \n",
      "Other lower respiratory disease              74.6479  56.3830  64.2424   \n",
      "Pneumonia                                     0.0000   0.0000   0.0000   \n",
      "Septicemia (except in labor)                 48.6486  33.3333  39.5604   \n",
      "\n",
      "                                               auc    prauc  \n",
      "Acute and unspecified renal failure        74.4495  58.3337  \n",
      "Acute cerebrovascular disease              55.6757   0.5952  \n",
      "Acute myocardial infarction                74.9716  11.2303  \n",
      "Cardiac dysrhythmias                       73.1663  73.3108  \n",
      "Chronic kidney disease                     91.1978  89.7905  \n",
      "Chronic obstructive pulmonary disease      83.8942  41.6792  \n",
      "Conduction disorders                       65.0632   6.2766  \n",
      "Congestive heart failure; nonhypertensive  83.6957  82.3292  \n",
      "Coronary atherosclerosis and related       83.4507  61.5056  \n",
      "Disorders of lipid metabolism              72.0766  50.0397  \n",
      "Essential hypertension                     75.0037  59.2479  \n",
      "Fluid and electrolyte disorders            62.1000  63.7886  \n",
      "Gastrointestinal hemorrhage                73.5780  24.7805  \n",
      "Hypertension with complications            90.5097  86.8298  \n",
      "Other liver diseases                       90.3461   7.3899  \n",
      "Other lower respiratory disease            71.3575  75.8728  \n",
      "Pneumonia                                  56.4417  13.3398  \n",
      "Septicemia (except in labor)               66.7859  46.2651  }\n",
      "================================12==================================\n"
     ]
    },
    {
     "name": "stderr",
     "output_type": "stream",
     "text": [
      "Epoch 001: 100%|██████████| 59/59 [00:03<00:00, 15.14it/s, loss=0.4712]\n",
      "Running inference: 100%|██████████| 45/45 [00:02<00:00, 22.28it/s]\n",
      "Running inference: 100%|██████████| 45/45 [00:02<00:00, 22.13it/s]\n"
     ]
    },
    {
     "name": "stdout",
     "output_type": "stream",
     "text": [
      "Validation: {'precision': 31.9263, 'recall': 17.0868, 'f1': 20.7382, 'auc': 67.5002, 'prauc': 36.4115}\n",
      "Test:      {'precision': 30.4268, 'recall': 16.2085, 'f1': 19.5425, 'auc': 67.7475, 'prauc': 35.4255}\n",
      "\n",
      "Validation-long: {'precision': 32.5362, 'recall': 16.5305, 'f1': 19.949, 'auc': 63.4835, 'prauc': 40.0287}\n",
      "Test-long: {'precision': 36.8092, 'recall': 15.6348, 'f1': 18.6336, 'auc': 64.8827, 'prauc': 39.1021}\n",
      "\n"
     ]
    },
    {
     "name": "stderr",
     "output_type": "stream",
     "text": [
      "Epoch 002: 100%|██████████| 59/59 [00:03<00:00, 15.04it/s, loss=0.4055]\n",
      "Running inference: 100%|██████████| 45/45 [00:02<00:00, 22.24it/s]\n",
      "Running inference: 100%|██████████| 45/45 [00:02<00:00, 22.17it/s]\n"
     ]
    },
    {
     "name": "stdout",
     "output_type": "stream",
     "text": [
      "Validation: {'precision': 39.8891, 'recall': 19.8555, 'f1': 24.4727, 'auc': 71.3272, 'prauc': 39.9868}\n",
      "Test:      {'precision': 37.0615, 'recall': 18.8083, 'f1': 23.3112, 'auc': 72.4835, 'prauc': 39.4959}\n",
      "\n",
      "Validation-long: {'precision': 40.8762, 'recall': 24.6145, 'f1': 28.352, 'auc': 69.355, 'prauc': 46.8966}\n",
      "Test-long: {'precision': 40.4961, 'recall': 23.465, 'f1': 27.5262, 'auc': 72.0301, 'prauc': 44.4598}\n",
      "\n"
     ]
    },
    {
     "name": "stderr",
     "output_type": "stream",
     "text": [
      "Epoch 003: 100%|██████████| 59/59 [00:03<00:00, 14.96it/s, loss=0.3863]\n",
      "Running inference: 100%|██████████| 45/45 [00:02<00:00, 19.89it/s]\n",
      "Running inference: 100%|██████████| 45/45 [00:02<00:00, 22.12it/s]\n"
     ]
    },
    {
     "name": "stdout",
     "output_type": "stream",
     "text": [
      "Validation: {'precision': 41.1347, 'recall': 26.6016, 'f1': 29.9129, 'auc': 72.5292, 'prauc': 41.744}\n",
      "Test:      {'precision': 36.86, 'recall': 25.464, 'f1': 28.6431, 'auc': 73.1855, 'prauc': 40.3686}\n",
      "\n",
      "Validation-long: {'precision': 44.13, 'recall': 27.1481, 'f1': 31.5088, 'auc': 69.3757, 'prauc': 47.6716}\n",
      "Test-long: {'precision': 40.7189, 'recall': 23.506, 'f1': 28.0276, 'auc': 72.2035, 'prauc': 43.1188}\n",
      "\n"
     ]
    },
    {
     "name": "stderr",
     "output_type": "stream",
     "text": [
      "Epoch 004: 100%|██████████| 59/59 [00:03<00:00, 15.10it/s, loss=0.3751]\n",
      "Running inference: 100%|██████████| 45/45 [00:02<00:00, 22.29it/s]\n",
      "Running inference: 100%|██████████| 45/45 [00:02<00:00, 22.03it/s]\n"
     ]
    },
    {
     "name": "stdout",
     "output_type": "stream",
     "text": [
      "Validation: {'precision': 41.976, 'recall': 26.1427, 'f1': 30.0091, 'auc': 72.8623, 'prauc': 42.3885}\n",
      "Test:      {'precision': 41.8278, 'recall': 24.2234, 'f1': 28.1003, 'auc': 74.4066, 'prauc': 42.019}\n",
      "\n",
      "Validation-long: {'precision': 46.2664, 'recall': 28.2129, 'f1': 31.8548, 'auc': 68.5288, 'prauc': 47.4977}\n",
      "Test-long: {'precision': 45.3404, 'recall': 23.3928, 'f1': 27.2742, 'auc': 72.8021, 'prauc': 43.7686}\n",
      "\n"
     ]
    },
    {
     "name": "stderr",
     "output_type": "stream",
     "text": [
      "Epoch 005: 100%|██████████| 59/59 [00:03<00:00, 15.09it/s, loss=0.3628]\n",
      "Running inference: 100%|██████████| 45/45 [00:02<00:00, 22.26it/s]\n",
      "Running inference: 100%|██████████| 45/45 [00:02<00:00, 22.48it/s]\n"
     ]
    },
    {
     "name": "stdout",
     "output_type": "stream",
     "text": [
      "Validation: {'precision': 39.9498, 'recall': 32.5799, 'f1': 33.474, 'auc': 73.4828, 'prauc': 42.8883}\n",
      "Test:      {'precision': 47.4636, 'recall': 32.1956, 'f1': 33.3685, 'auc': 74.6378, 'prauc': 42.9249}\n",
      "\n",
      "Validation-long: {'precision': 40.7724, 'recall': 34.6979, 'f1': 34.5998, 'auc': 68.1319, 'prauc': 46.6982}\n",
      "Test-long: {'precision': 46.679, 'recall': 32.3034, 'f1': 33.0063, 'auc': 73.3068, 'prauc': 45.5296}\n",
      "\n"
     ]
    },
    {
     "name": "stderr",
     "output_type": "stream",
     "text": [
      "Epoch 006: 100%|██████████| 59/59 [00:03<00:00, 14.94it/s, loss=0.3545]\n",
      "Running inference: 100%|██████████| 45/45 [00:02<00:00, 22.28it/s]\n",
      "Running inference: 100%|██████████| 45/45 [00:02<00:00, 22.17it/s]\n"
     ]
    },
    {
     "name": "stdout",
     "output_type": "stream",
     "text": [
      "Validation: {'precision': 44.3091, 'recall': 29.3877, 'f1': 32.549, 'auc': 73.5669, 'prauc': 43.7417}\n",
      "Test:      {'precision': 45.3981, 'recall': 28.605, 'f1': 32.027, 'auc': 75.0456, 'prauc': 43.6752}\n",
      "\n",
      "Validation-long: {'precision': 43.3447, 'recall': 33.074, 'f1': 35.4116, 'auc': 70.0881, 'prauc': 48.3059}\n",
      "Test-long: {'precision': 43.8923, 'recall': 30.2229, 'f1': 33.4476, 'auc': 74.2238, 'prauc': 46.6989}\n",
      "\n"
     ]
    },
    {
     "name": "stderr",
     "output_type": "stream",
     "text": [
      "Epoch 007: 100%|██████████| 59/59 [00:03<00:00, 15.11it/s, loss=0.3418]\n",
      "Running inference: 100%|██████████| 45/45 [00:02<00:00, 22.09it/s]\n",
      "Running inference: 100%|██████████| 45/45 [00:02<00:00, 22.22it/s]\n"
     ]
    },
    {
     "name": "stdout",
     "output_type": "stream",
     "text": [
      "Validation: {'precision': 41.1189, 'recall': 34.1392, 'f1': 35.8575, 'auc': 74.3693, 'prauc': 44.1739}\n",
      "Test:      {'precision': 43.2422, 'recall': 33.028, 'f1': 34.8287, 'auc': 75.1386, 'prauc': 43.8458}\n",
      "\n",
      "Validation-long: {'precision': 44.892, 'recall': 35.8029, 'f1': 38.1371, 'auc': 71.1322, 'prauc': 49.4838}\n",
      "Test-long: {'precision': 44.637, 'recall': 32.8893, 'f1': 35.8194, 'auc': 75.0521, 'prauc': 46.4885}\n",
      "\n"
     ]
    },
    {
     "name": "stderr",
     "output_type": "stream",
     "text": [
      "Epoch 008: 100%|██████████| 59/59 [00:03<00:00, 14.98it/s, loss=0.3308]\n",
      "Running inference: 100%|██████████| 45/45 [00:02<00:00, 22.14it/s]\n",
      "Running inference: 100%|██████████| 45/45 [00:02<00:00, 22.02it/s]\n"
     ]
    },
    {
     "name": "stdout",
     "output_type": "stream",
     "text": [
      "Validation: {'precision': 43.1519, 'recall': 33.9104, 'f1': 36.9204, 'auc': 74.3592, 'prauc': 44.6516}\n",
      "Test:      {'precision': 43.708, 'recall': 32.6538, 'f1': 36.0111, 'auc': 74.8762, 'prauc': 44.2224}\n",
      "\n",
      "Validation-long: {'precision': 44.0007, 'recall': 36.3644, 'f1': 38.5948, 'auc': 73.0526, 'prauc': 50.4923}\n",
      "Test-long: {'precision': 43.1352, 'recall': 34.7182, 'f1': 37.3984, 'auc': 74.6639, 'prauc': 45.6633}\n",
      "\n"
     ]
    },
    {
     "name": "stderr",
     "output_type": "stream",
     "text": [
      "Epoch 009: 100%|██████████| 59/59 [00:04<00:00, 14.26it/s, loss=0.3242]\n",
      "Running inference: 100%|██████████| 45/45 [00:02<00:00, 22.26it/s]\n",
      "Running inference: 100%|██████████| 45/45 [00:02<00:00, 22.13it/s]\n"
     ]
    },
    {
     "name": "stdout",
     "output_type": "stream",
     "text": [
      "Validation: {'precision': 41.9834, 'recall': 35.6859, 'f1': 37.3427, 'auc': 74.1404, 'prauc': 44.668}\n",
      "Test:      {'precision': 41.8068, 'recall': 34.9152, 'f1': 36.6921, 'auc': 75.0427, 'prauc': 44.3321}\n",
      "\n",
      "Validation-long: {'precision': 44.4183, 'recall': 38.4341, 'f1': 39.7965, 'auc': 72.0335, 'prauc': 50.4828}\n",
      "Test-long: {'precision': 41.6362, 'recall': 34.9559, 'f1': 37.2108, 'auc': 74.9109, 'prauc': 46.1756}\n",
      "\n"
     ]
    },
    {
     "name": "stderr",
     "output_type": "stream",
     "text": [
      "Epoch 010: 100%|██████████| 59/59 [00:03<00:00, 15.07it/s, loss=0.3142]\n",
      "Running inference: 100%|██████████| 45/45 [00:02<00:00, 22.45it/s]\n",
      "Running inference: 100%|██████████| 45/45 [00:02<00:00, 22.26it/s]\n"
     ]
    },
    {
     "name": "stdout",
     "output_type": "stream",
     "text": [
      "Validation: {'precision': 42.0804, 'recall': 33.4303, 'f1': 36.2604, 'auc': 74.2746, 'prauc': 44.4664}\n",
      "Test:      {'precision': 42.4783, 'recall': 32.167, 'f1': 35.2942, 'auc': 75.1514, 'prauc': 43.6399}\n",
      "\n",
      "Validation-long: {'precision': 43.6407, 'recall': 37.2426, 'f1': 38.9698, 'auc': 72.3985, 'prauc': 51.4187}\n",
      "Test-long: {'precision': 41.2098, 'recall': 33.3878, 'f1': 36.1831, 'auc': 75.3112, 'prauc': 46.9304}\n",
      "\n"
     ]
    },
    {
     "name": "stderr",
     "output_type": "stream",
     "text": [
      "Epoch 011: 100%|██████████| 59/59 [00:03<00:00, 15.04it/s, loss=0.3033]\n",
      "Running inference: 100%|██████████| 45/45 [00:02<00:00, 22.28it/s]\n",
      "Running inference: 100%|██████████| 45/45 [00:02<00:00, 22.20it/s]\n"
     ]
    },
    {
     "name": "stdout",
     "output_type": "stream",
     "text": [
      "Validation: {'precision': 42.9344, 'recall': 34.5927, 'f1': 36.9182, 'auc': 73.6054, 'prauc': 44.4108}\n",
      "Test:      {'precision': 41.4684, 'recall': 32.7983, 'f1': 35.4599, 'auc': 74.477, 'prauc': 43.516}\n",
      "\n",
      "Validation-long: {'precision': 44.4318, 'recall': 34.627, 'f1': 37.6225, 'auc': 71.9989, 'prauc': 52.3573}\n",
      "Test-long: {'precision': 41.812, 'recall': 31.6297, 'f1': 34.8293, 'auc': 74.6461, 'prauc': 46.8859}\n",
      "\n"
     ]
    },
    {
     "name": "stderr",
     "output_type": "stream",
     "text": [
      "Epoch 012: 100%|██████████| 59/59 [00:04<00:00, 14.47it/s, loss=0.2902]\n",
      "Running inference: 100%|██████████| 45/45 [00:02<00:00, 21.46it/s]\n",
      "Running inference: 100%|██████████| 45/45 [00:02<00:00, 21.43it/s]\n"
     ]
    },
    {
     "name": "stdout",
     "output_type": "stream",
     "text": [
      "Validation: {'precision': 46.2782, 'recall': 36.3026, 'f1': 38.4028, 'auc': 73.8534, 'prauc': 44.4473}\n",
      "Test:      {'precision': 41.8193, 'recall': 34.2654, 'f1': 36.3734, 'auc': 74.4192, 'prauc': 43.6438}\n",
      "\n",
      "Validation-long: {'precision': 51.0446, 'recall': 42.5003, 'f1': 43.9195, 'auc': 72.4295, 'prauc': 52.2182}\n",
      "Test-long: {'precision': 39.843, 'recall': 36.8508, 'f1': 37.8887, 'auc': 73.5531, 'prauc': 45.8767}\n",
      "\n"
     ]
    },
    {
     "name": "stderr",
     "output_type": "stream",
     "text": [
      "Epoch 013: 100%|██████████| 59/59 [00:04<00:00, 14.46it/s, loss=0.2828]\n",
      "Running inference: 100%|██████████| 45/45 [00:02<00:00, 21.59it/s]\n",
      "Running inference: 100%|██████████| 45/45 [00:02<00:00, 21.84it/s]\n"
     ]
    },
    {
     "name": "stdout",
     "output_type": "stream",
     "text": [
      "Validation: {'precision': 43.4443, 'recall': 34.3915, 'f1': 37.5903, 'auc': 73.4399, 'prauc': 44.1255}\n",
      "Test:      {'precision': 47.9112, 'recall': 32.9376, 'f1': 36.4914, 'auc': 74.0276, 'prauc': 43.1952}\n",
      "\n",
      "Validation-long: {'precision': 44.5969, 'recall': 35.1855, 'f1': 38.4264, 'auc': 71.6558, 'prauc': 51.769}\n",
      "Test-long: {'precision': 42.6546, 'recall': 32.3952, 'f1': 36.042, 'auc': 73.9748, 'prauc': 46.1945}\n",
      "\n"
     ]
    },
    {
     "name": "stderr",
     "output_type": "stream",
     "text": [
      "Epoch 014: 100%|██████████| 59/59 [00:03<00:00, 14.88it/s, loss=0.2716]\n",
      "Running inference: 100%|██████████| 45/45 [00:02<00:00, 19.63it/s]\n",
      "Running inference: 100%|██████████| 45/45 [00:02<00:00, 21.00it/s]\n"
     ]
    },
    {
     "name": "stdout",
     "output_type": "stream",
     "text": [
      "Validation: {'precision': 42.7723, 'recall': 34.1434, 'f1': 37.1533, 'auc': 73.7999, 'prauc': 44.4274}\n",
      "Test:      {'precision': 44.1852, 'recall': 33.1193, 'f1': 36.6289, 'auc': 73.8179, 'prauc': 43.0586}\n",
      "\n",
      "Validation-long: {'precision': 44.2723, 'recall': 36.3439, 'f1': 39.0172, 'auc': 72.4188, 'prauc': 50.9645}\n",
      "Test-long: {'precision': 41.5076, 'recall': 34.8031, 'f1': 36.9589, 'auc': 75.225, 'prauc': 47.0677}\n",
      "\n"
     ]
    },
    {
     "name": "stderr",
     "output_type": "stream",
     "text": [
      "Epoch 015: 100%|██████████| 59/59 [00:04<00:00, 14.02it/s, loss=0.2612]\n",
      "Running inference: 100%|██████████| 45/45 [00:02<00:00, 21.01it/s]\n",
      "Running inference: 100%|██████████| 45/45 [00:02<00:00, 20.92it/s]\n"
     ]
    },
    {
     "name": "stdout",
     "output_type": "stream",
     "text": [
      "Validation: {'precision': 40.8617, 'recall': 37.9242, 'f1': 38.5104, 'auc': 72.856, 'prauc': 43.3242}\n",
      "Test:      {'precision': 41.5688, 'recall': 36.9097, 'f1': 37.9938, 'auc': 73.374, 'prauc': 42.5505}\n",
      "\n",
      "Validation-long: {'precision': 44.5057, 'recall': 41.7313, 'f1': 41.5297, 'auc': 71.4757, 'prauc': 52.1723}\n",
      "Test-long: {'precision': 42.0525, 'recall': 37.4115, 'f1': 38.817, 'auc': 73.4895, 'prauc': 46.1486}\n",
      "\n"
     ]
    },
    {
     "name": "stderr",
     "output_type": "stream",
     "text": [
      "Epoch 016: 100%|██████████| 59/59 [00:04<00:00, 14.01it/s, loss=0.2495]\n",
      "Running inference: 100%|██████████| 45/45 [00:02<00:00, 20.95it/s]\n",
      "Running inference: 100%|██████████| 45/45 [00:02<00:00, 20.93it/s]\n"
     ]
    },
    {
     "name": "stdout",
     "output_type": "stream",
     "text": [
      "Validation: {'precision': 45.038, 'recall': 35.3612, 'f1': 37.8407, 'auc': 72.9499, 'prauc': 43.194}\n",
      "Test:      {'precision': 46.9583, 'recall': 34.5324, 'f1': 36.9165, 'auc': 73.6589, 'prauc': 42.3516}\n",
      "\n",
      "Validation-long: {'precision': 42.3453, 'recall': 40.0161, 'f1': 40.7903, 'auc': 71.8557, 'prauc': 49.3754}\n",
      "Test-long: {'precision': 40.5165, 'recall': 37.1091, 'f1': 38.5395, 'auc': 74.637, 'prauc': 46.1152}\n",
      "\n"
     ]
    },
    {
     "name": "stderr",
     "output_type": "stream",
     "text": [
      "Epoch 017: 100%|██████████| 59/59 [00:04<00:00, 14.57it/s, loss=0.2414]\n",
      "Running inference: 100%|██████████| 45/45 [00:02<00:00, 22.40it/s]\n",
      "Running inference: 100%|██████████| 45/45 [00:02<00:00, 22.49it/s]\n"
     ]
    },
    {
     "name": "stdout",
     "output_type": "stream",
     "text": [
      "Validation: {'precision': 42.088, 'recall': 36.7543, 'f1': 38.0514, 'auc': 72.4555, 'prauc': 43.0919}\n",
      "Test:      {'precision': 43.3648, 'recall': 35.4858, 'f1': 37.4766, 'auc': 72.9352, 'prauc': 42.3143}\n",
      "\n",
      "Validation-long: {'precision': 43.1785, 'recall': 36.3145, 'f1': 38.7269, 'auc': 70.9621, 'prauc': 49.1848}\n",
      "Test-long: {'precision': 41.5522, 'recall': 33.957, 'f1': 36.7344, 'auc': 72.0293, 'prauc': 44.7712}\n",
      "\n"
     ]
    },
    {
     "name": "stderr",
     "output_type": "stream",
     "text": [
      "Epoch 018: 100%|██████████| 59/59 [00:03<00:00, 15.10it/s, loss=0.2297]\n",
      "Running inference: 100%|██████████| 45/45 [00:02<00:00, 22.25it/s]\n",
      "Running inference: 100%|██████████| 45/45 [00:02<00:00, 22.18it/s]\n"
     ]
    },
    {
     "name": "stdout",
     "output_type": "stream",
     "text": [
      "Validation: {'precision': 40.5688, 'recall': 37.9858, 'f1': 38.1924, 'auc': 71.9516, 'prauc': 42.5245}\n",
      "Test:      {'precision': 41.266, 'recall': 37.0019, 'f1': 37.521, 'auc': 72.1305, 'prauc': 41.118}\n",
      "\n",
      "Validation-long: {'precision': 40.9258, 'recall': 41.6054, 'f1': 40.6727, 'auc': 70.8742, 'prauc': 49.4472}\n",
      "Test-long: {'precision': 40.181, 'recall': 38.7905, 'f1': 38.7876, 'auc': 71.9234, 'prauc': 44.2462}\n",
      "\n"
     ]
    },
    {
     "name": "stderr",
     "output_type": "stream",
     "text": [
      "Epoch 019: 100%|██████████| 59/59 [00:03<00:00, 15.08it/s, loss=0.2221]\n",
      "Running inference: 100%|██████████| 45/45 [00:02<00:00, 22.21it/s]\n",
      "Running inference: 100%|██████████| 45/45 [00:02<00:00, 19.89it/s]\n"
     ]
    },
    {
     "name": "stdout",
     "output_type": "stream",
     "text": [
      "Validation: {'precision': 43.6413, 'recall': 34.4739, 'f1': 36.6467, 'auc': 71.9346, 'prauc': 42.7873}\n",
      "Test:      {'precision': 44.8911, 'recall': 34.3711, 'f1': 37.0922, 'auc': 72.9327, 'prauc': 41.7735}\n",
      "\n",
      "Validation-long: {'precision': 44.2391, 'recall': 37.0225, 'f1': 38.1634, 'auc': 69.9583, 'prauc': 48.9187}\n",
      "Test-long: {'precision': 41.353, 'recall': 34.5817, 'f1': 36.6247, 'auc': 72.1774, 'prauc': 43.7918}\n",
      "\n"
     ]
    },
    {
     "name": "stderr",
     "output_type": "stream",
     "text": [
      "Epoch 020: 100%|██████████| 59/59 [00:03<00:00, 15.09it/s, loss=0.2202]\n",
      "Running inference: 100%|██████████| 45/45 [00:02<00:00, 22.14it/s]\n",
      "Running inference: 100%|██████████| 45/45 [00:02<00:00, 22.17it/s]\n"
     ]
    },
    {
     "name": "stdout",
     "output_type": "stream",
     "text": [
      "Validation: {'precision': 43.1802, 'recall': 35.5242, 'f1': 37.7404, 'auc': 71.9931, 'prauc': 42.5002}\n",
      "Test:      {'precision': 44.4042, 'recall': 34.2956, 'f1': 37.2009, 'auc': 72.2568, 'prauc': 41.4785}\n",
      "\n",
      "Validation-long: {'precision': 44.9759, 'recall': 34.6429, 'f1': 37.3745, 'auc': 71.6056, 'prauc': 49.5679}\n",
      "Test-long: {'precision': 47.1639, 'recall': 29.8033, 'f1': 33.9815, 'auc': 72.1159, 'prauc': 43.9464}\n",
      "\n",
      "\n",
      "Early stopping triggered (no improvement for 5 epochs).\n",
      "\n",
      "Best validation performance:\n",
      "{'global': {'precision': 40.8617, 'recall': 37.9242, 'f1': 38.5104, 'auc': 72.856, 'prauc': 43.3242}, 'per_class':                                            precision   recall       f1  \\\n",
      "Acute and unspecified renal failure          49.2492  37.7880  42.7640   \n",
      "Acute cerebrovascular disease                 0.0000   0.0000   0.0000   \n",
      "Acute myocardial infarction                  16.6667   2.1053   3.7383   \n",
      "Cardiac dysrhythmias                         71.7557  68.6131  70.1493   \n",
      "Chronic kidney disease                       66.1247  71.7647  68.8293   \n",
      "Chronic obstructive pulmonary disease        64.9635  47.3404  54.7692   \n",
      "Conduction disorders                          0.0000   0.0000   0.0000   \n",
      "Congestive heart failure; nonhypertensive    69.4118  65.5556  67.4286   \n",
      "Coronary atherosclerosis and related         59.8404  65.5977  62.5869   \n",
      "Disorders of lipid metabolism                57.8049  62.2047  59.9241   \n",
      "Essential hypertension                       60.5727  53.3981  56.7595   \n",
      "Fluid and electrolyte disorders              45.8856  57.3171  50.9682   \n",
      "Gastrointestinal hemorrhage                   0.0000   0.0000   0.0000   \n",
      "Hypertension with complications              64.0719  67.0846  65.5436   \n",
      "Other liver diseases                          0.0000   0.0000   0.0000   \n",
      "Other lower respiratory disease              54.0493  59.7276  56.7468   \n",
      "Pneumonia                                    14.2857   3.3557   5.4348   \n",
      "Septicemia (except in labor)                 40.8284  20.7831  27.5449   \n",
      "\n",
      "                                               auc    prauc  \n",
      "Acute and unspecified renal failure        67.6807  45.8463  \n",
      "Acute cerebrovascular disease              73.8625   2.9057  \n",
      "Acute myocardial infarction                67.4685  13.2807  \n",
      "Cardiac dysrhythmias                       81.8781  77.4291  \n",
      "Chronic kidney disease                     89.0933  77.2016  \n",
      "Chronic obstructive pulmonary disease      86.0651  56.9711  \n",
      "Conduction disorders                       59.7170   3.9573  \n",
      "Congestive heart failure; nonhypertensive  82.7650  76.0242  \n",
      "Coronary atherosclerosis and related       84.6365  60.7373  \n",
      "Disorders of lipid metabolism              80.9531  61.2904  \n",
      "Essential hypertension                     76.6322  63.7247  \n",
      "Fluid and electrolyte disorders            58.3937  47.6864  \n",
      "Gastrointestinal hemorrhage                62.7710  12.1315  \n",
      "Hypertension with complications            87.4190  70.4649  \n",
      "Other liver diseases                       61.2460   4.7085  \n",
      "Other lower respiratory disease            70.1719  59.4069  \n",
      "Pneumonia                                  54.6027  11.7312  \n",
      "Septicemia (except in labor)               66.0521  34.3379  }\n",
      "Corresponding test performance:\n",
      "{'global': {'precision': 41.5688, 'recall': 36.9097, 'f1': 37.9938, 'auc': 73.374, 'prauc': 42.5505}, 'per_class':                                            precision   recall       f1  \\\n",
      "Acute and unspecified renal failure          45.8015  42.1546  43.9024   \n",
      "Acute cerebrovascular disease                 0.0000   0.0000   0.0000   \n",
      "Acute myocardial infarction                  35.2941   6.1224  10.4348   \n",
      "Cardiac dysrhythmias                         69.2000  64.7940  66.9246   \n",
      "Chronic kidney disease                       68.1690  73.5562  70.7602   \n",
      "Chronic obstructive pulmonary disease        50.7692  38.8235  44.0000   \n",
      "Conduction disorders                          0.0000   0.0000   0.0000   \n",
      "Congestive heart failure; nonhypertensive    69.9793  63.0597  66.3395   \n",
      "Coronary atherosclerosis and related         56.3422  59.5016  57.8788   \n",
      "Disorders of lipid metabolism                57.2238  55.3425  56.2674   \n",
      "Essential hypertension                       62.0370  53.1746  57.2650   \n",
      "Fluid and electrolyte disorders              45.7462  58.6762  51.4107   \n",
      "Gastrointestinal hemorrhage                   0.0000   0.0000   0.0000   \n",
      "Hypertension with complications              65.6151  67.9739  66.7737   \n",
      "Other liver diseases                          0.0000   0.0000   0.0000   \n",
      "Other lower respiratory disease              51.6245  50.2636  50.9350   \n",
      "Pneumonia                                    28.9474   5.8511   9.7345   \n",
      "Septicemia (except in labor)                 41.4894  25.0804  31.2625   \n",
      "\n",
      "                                               auc    prauc  \n",
      "Acute and unspecified renal failure        66.1465  44.1067  \n",
      "Acute cerebrovascular disease              71.2046  10.6418  \n",
      "Acute myocardial infarction                71.9594  17.2084  \n",
      "Cardiac dysrhythmias                       80.3021  73.7317  \n",
      "Chronic kidney disease                     90.3835  77.5334  \n",
      "Chronic obstructive pulmonary disease      81.3966  42.6751  \n",
      "Conduction disorders                       69.2827   4.2314  \n",
      "Congestive heart failure; nonhypertensive  81.4122  73.5942  \n",
      "Coronary atherosclerosis and related       84.1362  58.8662  \n",
      "Disorders of lipid metabolism              80.4585  58.9658  \n",
      "Essential hypertension                     76.1743  60.0464  \n",
      "Fluid and electrolyte disorders            59.9091  47.2783  \n",
      "Gastrointestinal hemorrhage                61.9157  11.5159  \n",
      "Hypertension with complications            88.7813  70.6336  \n",
      "Other liver diseases                       67.0253   2.6747  \n",
      "Other lower respiratory disease            63.5282  54.8678  \n",
      "Pneumonia                                  60.0441  19.0145  \n",
      "Septicemia (except in labor)               66.6714  38.3231  }\n",
      "Corresponding test-long performance:\n",
      "{'global': {'precision': 42.0525, 'recall': 37.4115, 'f1': 38.817, 'auc': 73.4895, 'prauc': 46.1486}, 'per_class':                                            precision   recall       f1  \\\n",
      "Acute and unspecified renal failure          56.4103  37.2881  44.8980   \n",
      "Acute cerebrovascular disease                 0.0000   0.0000   0.0000   \n",
      "Acute myocardial infarction                   0.0000   0.0000   0.0000   \n",
      "Cardiac dysrhythmias                         70.7692  57.5000  63.4483   \n",
      "Chronic kidney disease                       84.0580  74.3590  78.9116   \n",
      "Chronic obstructive pulmonary disease        45.0000  34.6154  39.1304   \n",
      "Conduction disorders                          0.0000   0.0000   0.0000   \n",
      "Congestive heart failure; nonhypertensive    71.9101  69.5652  70.7182   \n",
      "Coronary atherosclerosis and related         54.7170  65.9091  59.7938   \n",
      "Disorders of lipid metabolism                53.4884  46.9388  50.0000   \n",
      "Essential hypertension                       41.8605  36.7347  39.1304   \n",
      "Fluid and electrolyte disorders              54.1667  66.3265  59.6330   \n",
      "Gastrointestinal hemorrhage                   0.0000   0.0000   0.0000   \n",
      "Hypertension with complications              77.4194  70.5882  73.8462   \n",
      "Other liver diseases                          0.0000   0.0000   0.0000   \n",
      "Other lower respiratory disease              58.9744  73.4043  65.4028   \n",
      "Pneumonia                                    33.3333   8.6957  13.7931   \n",
      "Septicemia (except in labor)                 54.8387  31.4815  40.0000   \n",
      "\n",
      "                                               auc    prauc  \n",
      "Acute and unspecified renal failure        67.7366  50.2893  \n",
      "Acute cerebrovascular disease              98.3784  12.5000  \n",
      "Acute myocardial infarction                66.2500   9.7575  \n",
      "Cardiac dysrhythmias                       76.0967  73.8065  \n",
      "Chronic kidney disease                     90.9663  89.3080  \n",
      "Chronic obstructive pulmonary disease      84.5913  44.6386  \n",
      "Conduction disorders                       52.8792   4.7312  \n",
      "Congestive heart failure; nonhypertensive  81.3367  81.5124  \n",
      "Coronary atherosclerosis and related       84.0749  65.0060  \n",
      "Disorders of lipid metabolism              75.6964  59.6391  \n",
      "Essential hypertension                     74.3408  49.4980  \n",
      "Fluid and electrolyte disorders            52.1104  53.0711  \n",
      "Gastrointestinal hemorrhage                61.5079  12.3527  \n",
      "Hypertension with complications            89.0952  84.9134  \n",
      "Other liver diseases                       76.8670   3.2770  \n",
      "Other lower respiratory disease            66.5125  68.6445  \n",
      "Pneumonia                                  57.1352  16.4880  \n",
      "Septicemia (except in labor)               67.2348  51.2412  }\n",
      "================================13==================================\n"
     ]
    },
    {
     "name": "stderr",
     "output_type": "stream",
     "text": [
      "Epoch 001: 100%|██████████| 59/59 [00:03<00:00, 15.09it/s, loss=0.4725]\n",
      "Running inference: 100%|██████████| 45/45 [00:02<00:00, 22.34it/s]\n",
      "Running inference: 100%|██████████| 45/45 [00:02<00:00, 22.21it/s]\n"
     ]
    },
    {
     "name": "stdout",
     "output_type": "stream",
     "text": [
      "Validation: {'precision': 35.6704, 'recall': 18.023, 'f1': 21.0749, 'auc': 66.4071, 'prauc': 36.3356}\n",
      "Test:      {'precision': 29.3796, 'recall': 17.0439, 'f1': 20.2197, 'auc': 66.2317, 'prauc': 35.497}\n",
      "\n",
      "Validation-long: {'precision': 30.9061, 'recall': 20.6363, 'f1': 23.4817, 'auc': 63.9752, 'prauc': 43.4133}\n",
      "Test-long: {'precision': 29.4762, 'recall': 20.4692, 'f1': 23.121, 'auc': 63.8091, 'prauc': 39.9386}\n",
      "\n"
     ]
    },
    {
     "name": "stderr",
     "output_type": "stream",
     "text": [
      "Epoch 002: 100%|██████████| 59/59 [00:03<00:00, 15.01it/s, loss=0.4055]\n",
      "Running inference: 100%|██████████| 45/45 [00:02<00:00, 22.30it/s]\n",
      "Running inference: 100%|██████████| 45/45 [00:02<00:00, 22.15it/s]\n"
     ]
    },
    {
     "name": "stdout",
     "output_type": "stream",
     "text": [
      "Validation: {'precision': 34.1164, 'recall': 22.7909, 'f1': 25.1799, 'auc': 71.3645, 'prauc': 40.1613}\n",
      "Test:      {'precision': 32.4844, 'recall': 22.2909, 'f1': 24.5986, 'auc': 71.8218, 'prauc': 38.7602}\n",
      "\n",
      "Validation-long: {'precision': 30.3169, 'recall': 23.0405, 'f1': 25.4238, 'auc': 69.8176, 'prauc': 48.1093}\n",
      "Test-long: {'precision': 37.617, 'recall': 22.6679, 'f1': 25.5584, 'auc': 72.0101, 'prauc': 42.4519}\n",
      "\n"
     ]
    },
    {
     "name": "stderr",
     "output_type": "stream",
     "text": [
      "Epoch 003: 100%|██████████| 59/59 [00:03<00:00, 14.97it/s, loss=0.3900]\n",
      "Running inference: 100%|██████████| 45/45 [00:02<00:00, 22.36it/s]\n",
      "Running inference: 100%|██████████| 45/45 [00:02<00:00, 22.29it/s]\n"
     ]
    },
    {
     "name": "stdout",
     "output_type": "stream",
     "text": [
      "Validation: {'precision': 45.1613, 'recall': 24.0299, 'f1': 28.6233, 'auc': 72.285, 'prauc': 41.4154}\n",
      "Test:      {'precision': 37.3628, 'recall': 23.2948, 'f1': 27.8882, 'auc': 73.4052, 'prauc': 40.4749}\n",
      "\n",
      "Validation-long: {'precision': 43.5634, 'recall': 27.5081, 'f1': 32.1507, 'auc': 69.2392, 'prauc': 48.2224}\n",
      "Test-long: {'precision': 39.1545, 'recall': 25.5284, 'f1': 29.7877, 'auc': 71.5312, 'prauc': 43.6209}\n",
      "\n"
     ]
    },
    {
     "name": "stderr",
     "output_type": "stream",
     "text": [
      "Epoch 004: 100%|██████████| 59/59 [00:03<00:00, 15.07it/s, loss=0.3767]\n",
      "Running inference: 100%|██████████| 45/45 [00:02<00:00, 22.11it/s]\n",
      "Running inference: 100%|██████████| 45/45 [00:02<00:00, 22.38it/s]\n"
     ]
    },
    {
     "name": "stdout",
     "output_type": "stream",
     "text": [
      "Validation: {'precision': 38.8053, 'recall': 27.7841, 'f1': 31.3812, 'auc': 73.4818, 'prauc': 42.8759}\n",
      "Test:      {'precision': 37.6989, 'recall': 27.3874, 'f1': 30.9786, 'auc': 74.1545, 'prauc': 41.7924}\n",
      "\n",
      "Validation-long: {'precision': 41.2718, 'recall': 32.035, 'f1': 34.6245, 'auc': 70.9712, 'prauc': 49.8372}\n",
      "Test-long: {'precision': 40.0359, 'recall': 30.4916, 'f1': 33.608, 'auc': 72.5909, 'prauc': 44.917}\n",
      "\n"
     ]
    },
    {
     "name": "stderr",
     "output_type": "stream",
     "text": [
      "Epoch 005: 100%|██████████| 59/59 [00:03<00:00, 15.09it/s, loss=0.3643]\n",
      "Running inference: 100%|██████████| 45/45 [00:02<00:00, 19.96it/s]\n",
      "Running inference: 100%|██████████| 45/45 [00:02<00:00, 22.12it/s]\n"
     ]
    },
    {
     "name": "stdout",
     "output_type": "stream",
     "text": [
      "Validation: {'precision': 41.4966, 'recall': 30.924, 'f1': 32.6385, 'auc': 73.1125, 'prauc': 42.7119}\n",
      "Test:      {'precision': 39.6648, 'recall': 30.3415, 'f1': 32.1385, 'auc': 73.6742, 'prauc': 42.2564}\n",
      "\n",
      "Validation-long: {'precision': 43.2528, 'recall': 35.6459, 'f1': 36.5665, 'auc': 71.3483, 'prauc': 49.4661}\n",
      "Test-long: {'precision': 40.8564, 'recall': 34.2726, 'f1': 35.2244, 'auc': 71.2922, 'prauc': 45.4781}\n",
      "\n"
     ]
    },
    {
     "name": "stderr",
     "output_type": "stream",
     "text": [
      "Epoch 006: 100%|██████████| 59/59 [00:03<00:00, 15.10it/s, loss=0.3534]\n",
      "Running inference: 100%|██████████| 45/45 [00:02<00:00, 22.21it/s]\n",
      "Running inference: 100%|██████████| 45/45 [00:02<00:00, 22.12it/s]\n"
     ]
    },
    {
     "name": "stdout",
     "output_type": "stream",
     "text": [
      "Validation: {'precision': 40.9373, 'recall': 32.3206, 'f1': 34.3075, 'auc': 73.2808, 'prauc': 43.1652}\n",
      "Test:      {'precision': 38.0101, 'recall': 31.2064, 'f1': 32.8425, 'auc': 74.3346, 'prauc': 42.2889}\n",
      "\n",
      "Validation-long: {'precision': 43.6363, 'recall': 37.2028, 'f1': 39.0027, 'auc': 70.4089, 'prauc': 49.3617}\n",
      "Test-long: {'precision': 39.936, 'recall': 34.6548, 'f1': 36.2636, 'auc': 73.0423, 'prauc': 44.9628}\n",
      "\n"
     ]
    },
    {
     "name": "stderr",
     "output_type": "stream",
     "text": [
      "Epoch 007: 100%|██████████| 59/59 [00:03<00:00, 14.93it/s, loss=0.3434]\n",
      "Running inference: 100%|██████████| 45/45 [00:02<00:00, 22.27it/s]\n",
      "Running inference: 100%|██████████| 45/45 [00:02<00:00, 22.05it/s]\n"
     ]
    },
    {
     "name": "stdout",
     "output_type": "stream",
     "text": [
      "Validation: {'precision': 40.1241, 'recall': 34.1673, 'f1': 35.4129, 'auc': 73.8791, 'prauc': 43.8911}\n",
      "Test:      {'precision': 42.4625, 'recall': 33.3366, 'f1': 34.8651, 'auc': 74.7082, 'prauc': 43.161}\n",
      "\n",
      "Validation-long: {'precision': 43.6247, 'recall': 38.6741, 'f1': 39.834, 'auc': 70.877, 'prauc': 49.9208}\n",
      "Test-long: {'precision': 40.9318, 'recall': 36.1318, 'f1': 37.6496, 'auc': 74.092, 'prauc': 45.9669}\n",
      "\n"
     ]
    },
    {
     "name": "stderr",
     "output_type": "stream",
     "text": [
      "Epoch 008: 100%|██████████| 59/59 [00:03<00:00, 14.99it/s, loss=0.3329]\n",
      "Running inference: 100%|██████████| 45/45 [00:02<00:00, 21.85it/s]\n",
      "Running inference: 100%|██████████| 45/45 [00:02<00:00, 22.39it/s]\n"
     ]
    },
    {
     "name": "stdout",
     "output_type": "stream",
     "text": [
      "Validation: {'precision': 41.5744, 'recall': 30.8021, 'f1': 34.4122, 'auc': 74.0296, 'prauc': 43.7655}\n",
      "Test:      {'precision': 41.6547, 'recall': 30.3766, 'f1': 34.3024, 'auc': 74.6751, 'prauc': 42.9658}\n",
      "\n",
      "Validation-long: {'precision': 45.9267, 'recall': 32.4877, 'f1': 37.1372, 'auc': 71.1798, 'prauc': 50.1694}\n",
      "Test-long: {'precision': 43.9991, 'recall': 29.6454, 'f1': 34.8666, 'auc': 75.4182, 'prauc': 46.5567}\n",
      "\n"
     ]
    },
    {
     "name": "stderr",
     "output_type": "stream",
     "text": [
      "Epoch 009: 100%|██████████| 59/59 [00:03<00:00, 15.10it/s, loss=0.3265]\n",
      "Running inference: 100%|██████████| 45/45 [00:02<00:00, 22.21it/s]\n",
      "Running inference: 100%|██████████| 45/45 [00:02<00:00, 22.27it/s]\n"
     ]
    },
    {
     "name": "stdout",
     "output_type": "stream",
     "text": [
      "Validation: {'precision': 43.0233, 'recall': 31.9754, 'f1': 35.2041, 'auc': 74.032, 'prauc': 44.2841}\n",
      "Test:      {'precision': 41.7106, 'recall': 30.7521, 'f1': 34.3238, 'auc': 74.1888, 'prauc': 43.2061}\n",
      "\n",
      "Validation-long: {'precision': 44.6337, 'recall': 36.9448, 'f1': 39.1359, 'auc': 71.9668, 'prauc': 50.6791}\n",
      "Test-long: {'precision': 43.123, 'recall': 34.536, 'f1': 37.7683, 'auc': 73.8324, 'prauc': 45.7995}\n",
      "\n"
     ]
    },
    {
     "name": "stderr",
     "output_type": "stream",
     "text": [
      "Epoch 010: 100%|██████████| 59/59 [00:03<00:00, 15.07it/s, loss=0.3143]\n",
      "Running inference: 100%|██████████| 45/45 [00:02<00:00, 22.38it/s]\n",
      "Running inference: 100%|██████████| 45/45 [00:02<00:00, 22.22it/s]\n"
     ]
    },
    {
     "name": "stdout",
     "output_type": "stream",
     "text": [
      "Validation: {'precision': 41.5672, 'recall': 36.7614, 'f1': 38.2561, 'auc': 73.3203, 'prauc': 43.5023}\n",
      "Test:      {'precision': 41.0638, 'recall': 36.2746, 'f1': 37.7356, 'auc': 74.0404, 'prauc': 43.4103}\n",
      "\n",
      "Validation-long: {'precision': 43.5524, 'recall': 38.6235, 'f1': 40.3883, 'auc': 69.6386, 'prauc': 49.2156}\n",
      "Test-long: {'precision': 41.571, 'recall': 37.511, 'f1': 38.3395, 'auc': 72.8414, 'prauc': 45.9394}\n",
      "\n"
     ]
    },
    {
     "name": "stderr",
     "output_type": "stream",
     "text": [
      "Epoch 011: 100%|██████████| 59/59 [00:04<00:00, 14.18it/s, loss=0.3068]\n",
      "Running inference: 100%|██████████| 45/45 [00:02<00:00, 22.32it/s]\n",
      "Running inference: 100%|██████████| 45/45 [00:02<00:00, 22.18it/s]\n"
     ]
    },
    {
     "name": "stdout",
     "output_type": "stream",
     "text": [
      "Validation: {'precision': 39.1554, 'recall': 37.335, 'f1': 37.1411, 'auc': 73.7625, 'prauc': 43.5405}\n",
      "Test:      {'precision': 47.3958, 'recall': 36.6294, 'f1': 36.8678, 'auc': 74.2864, 'prauc': 43.3503}\n",
      "\n",
      "Validation-long: {'precision': 43.3869, 'recall': 40.7203, 'f1': 40.3693, 'auc': 70.1873, 'prauc': 49.535}\n",
      "Test-long: {'precision': 40.8119, 'recall': 38.8607, 'f1': 38.8368, 'auc': 74.5906, 'prauc': 47.0094}\n",
      "\n"
     ]
    },
    {
     "name": "stderr",
     "output_type": "stream",
     "text": [
      "Epoch 012: 100%|██████████| 59/59 [00:03<00:00, 14.97it/s, loss=0.2971]\n",
      "Running inference: 100%|██████████| 45/45 [00:02<00:00, 21.99it/s]\n",
      "Running inference: 100%|██████████| 45/45 [00:02<00:00, 21.98it/s]\n"
     ]
    },
    {
     "name": "stdout",
     "output_type": "stream",
     "text": [
      "Validation: {'precision': 41.6181, 'recall': 35.8193, 'f1': 37.511, 'auc': 73.595, 'prauc': 43.3405}\n",
      "Test:      {'precision': 42.9043, 'recall': 35.373, 'f1': 37.2004, 'auc': 74.2496, 'prauc': 43.1023}\n",
      "\n",
      "Validation-long: {'precision': 41.8303, 'recall': 39.7494, 'f1': 40.285, 'auc': 70.4607, 'prauc': 48.964}\n",
      "Test-long: {'precision': 45.6104, 'recall': 39.8358, 'f1': 39.537, 'auc': 74.3486, 'prauc': 46.1953}\n",
      "\n"
     ]
    },
    {
     "name": "stderr",
     "output_type": "stream",
     "text": [
      "Epoch 013: 100%|██████████| 59/59 [00:03<00:00, 15.01it/s, loss=0.2854]\n",
      "Running inference: 100%|██████████| 45/45 [00:02<00:00, 22.18it/s]\n",
      "Running inference: 100%|██████████| 45/45 [00:02<00:00, 22.47it/s]\n"
     ]
    },
    {
     "name": "stdout",
     "output_type": "stream",
     "text": [
      "Validation: {'precision': 41.4586, 'recall': 37.2797, 'f1': 37.8774, 'auc': 72.4037, 'prauc': 42.9129}\n",
      "Test:      {'precision': 41.9552, 'recall': 36.0262, 'f1': 37.117, 'auc': 72.7001, 'prauc': 42.6311}\n",
      "\n",
      "Validation-long: {'precision': 42.8101, 'recall': 39.6806, 'f1': 40.4504, 'auc': 69.8093, 'prauc': 49.7117}\n",
      "Test-long: {'precision': 39.9901, 'recall': 38.2482, 'f1': 38.2781, 'auc': 71.7312, 'prauc': 44.0316}\n",
      "\n"
     ]
    },
    {
     "name": "stderr",
     "output_type": "stream",
     "text": [
      "Epoch 014: 100%|██████████| 59/59 [00:03<00:00, 14.98it/s, loss=0.2777]\n",
      "Running inference: 100%|██████████| 45/45 [00:01<00:00, 22.52it/s]\n",
      "Running inference: 100%|██████████| 45/45 [00:02<00:00, 22.40it/s]\n"
     ]
    },
    {
     "name": "stdout",
     "output_type": "stream",
     "text": [
      "Validation: {'precision': 45.0501, 'recall': 37.1303, 'f1': 38.2525, 'auc': 72.9904, 'prauc': 43.39}\n",
      "Test:      {'precision': 43.2414, 'recall': 36.1812, 'f1': 37.4824, 'auc': 73.045, 'prauc': 42.7846}\n",
      "\n",
      "Validation-long: {'precision': 41.6815, 'recall': 37.543, 'f1': 39.16, 'auc': 69.8523, 'prauc': 50.0226}\n",
      "Test-long: {'precision': 39.8594, 'recall': 38.7444, 'f1': 39.0011, 'auc': 73.8613, 'prauc': 46.4095}\n",
      "\n"
     ]
    },
    {
     "name": "stderr",
     "output_type": "stream",
     "text": [
      "Epoch 015: 100%|██████████| 59/59 [00:03<00:00, 15.05it/s, loss=0.2655]\n",
      "Running inference: 100%|██████████| 45/45 [00:02<00:00, 22.19it/s]\n",
      "Running inference: 100%|██████████| 45/45 [00:02<00:00, 22.17it/s]\n"
     ]
    },
    {
     "name": "stdout",
     "output_type": "stream",
     "text": [
      "Validation: {'precision': 45.0719, 'recall': 34.9279, 'f1': 37.9645, 'auc': 72.8159, 'prauc': 42.5596}\n",
      "Test:      {'precision': 47.4546, 'recall': 33.9149, 'f1': 36.9172, 'auc': 73.2654, 'prauc': 42.8828}\n",
      "\n",
      "Validation-long: {'precision': 44.8018, 'recall': 35.1973, 'f1': 38.5687, 'auc': 69.0311, 'prauc': 48.6078}\n",
      "Test-long: {'precision': 39.9114, 'recall': 32.9289, 'f1': 35.5455, 'auc': 72.7759, 'prauc': 45.045}\n",
      "\n",
      "\n",
      "Early stopping triggered (no improvement for 5 epochs).\n",
      "\n",
      "Best validation performance:\n",
      "{'global': {'precision': 41.5672, 'recall': 36.7614, 'f1': 38.2561, 'auc': 73.3203, 'prauc': 43.5023}, 'per_class':                                            precision   recall       f1  \\\n",
      "Acute and unspecified renal failure          48.5714  47.0046  47.7752   \n",
      "Acute cerebrovascular disease                 0.0000   0.0000   0.0000   \n",
      "Acute myocardial infarction                  31.2500   5.2632   9.0090   \n",
      "Cardiac dysrhythmias                         77.7027  62.9562  69.5565   \n",
      "Chronic kidney disease                       67.8010  76.1765  71.7452   \n",
      "Chronic obstructive pulmonary disease        54.2373  34.0426  41.8301   \n",
      "Conduction disorders                          0.0000   0.0000   0.0000   \n",
      "Congestive heart failure; nonhypertensive    72.0000  60.0000  65.4545   \n",
      "Coronary atherosclerosis and related         56.8182  58.3090  57.5540   \n",
      "Disorders of lipid metabolism                62.3881  54.8556  58.3799   \n",
      "Essential hypertension                       67.7582  52.2330  58.9912   \n",
      "Fluid and electrolyte disorders              49.0132  51.9164  50.4230   \n",
      "Gastrointestinal hemorrhage                   0.0000   0.0000   0.0000   \n",
      "Hypertension with complications              67.1512  72.4138  69.6833   \n",
      "Other liver diseases                          0.0000   0.0000   0.0000   \n",
      "Other lower respiratory disease              52.1222  59.7276  55.6664   \n",
      "Pneumonia                                     0.0000   0.0000   0.0000   \n",
      "Septicemia (except in labor)                 41.3953  26.8072  32.5411   \n",
      "\n",
      "                                               auc    prauc  \n",
      "Acute and unspecified renal failure        69.1818  45.3295  \n",
      "Acute cerebrovascular disease              62.2126   1.9451  \n",
      "Acute myocardial infarction                69.9456  16.1092  \n",
      "Cardiac dysrhythmias                       82.7173  78.5138  \n",
      "Chronic kidney disease                     90.1891  79.1641  \n",
      "Chronic obstructive pulmonary disease      82.2562  43.9539  \n",
      "Conduction disorders                       59.7709   3.1803  \n",
      "Congestive heart failure; nonhypertensive  82.3710  74.8361  \n",
      "Coronary atherosclerosis and related       82.5801  57.5731  \n",
      "Disorders of lipid metabolism              80.3369  58.6665  \n",
      "Essential hypertension                     78.7964  68.4312  \n",
      "Fluid and electrolyte disorders            60.3177  48.9251  \n",
      "Gastrointestinal hemorrhage                65.7599  13.2976  \n",
      "Hypertension with complications            89.3046  73.7275  \n",
      "Other liver diseases                       66.3116   5.8615  \n",
      "Other lower respiratory disease            71.4222  61.4389  \n",
      "Pneumonia                                  58.4084  14.0652  \n",
      "Septicemia (except in labor)               67.8828  38.0235  }\n",
      "Corresponding test performance:\n",
      "{'global': {'precision': 41.0638, 'recall': 36.2746, 'f1': 37.7356, 'auc': 74.0404, 'prauc': 43.4103}, 'per_class':                                            precision   recall       f1  \\\n",
      "Acute and unspecified renal failure          45.9821  48.2436  47.0857   \n",
      "Acute cerebrovascular disease                 0.0000   0.0000   0.0000   \n",
      "Acute myocardial infarction                  22.2222   2.0408   3.7383   \n",
      "Cardiac dysrhythmias                         76.2470  60.1124  67.2251   \n",
      "Chronic kidney disease                       71.2707  78.4195  74.6744   \n",
      "Chronic obstructive pulmonary disease        59.3407  31.7647  41.3793   \n",
      "Conduction disorders                          0.0000   0.0000   0.0000   \n",
      "Congestive heart failure; nonhypertensive    71.1823  53.9179  61.3588   \n",
      "Coronary atherosclerosis and related         55.6886  57.9439  56.7939   \n",
      "Disorders of lipid metabolism                60.5863  50.9589  55.3571   \n",
      "Essential hypertension                       67.3367  53.1746  59.4235   \n",
      "Fluid and electrolyte disorders              50.0829  54.0250  51.9793   \n",
      "Gastrointestinal hemorrhage                   0.0000   0.0000   0.0000   \n",
      "Hypertension with complications              66.3743  74.1830  70.0617   \n",
      "Other liver diseases                          0.0000   0.0000   0.0000   \n",
      "Other lower respiratory disease              53.2995  55.3603  54.3103   \n",
      "Pneumonia                                     0.0000   0.0000   0.0000   \n",
      "Septicemia (except in labor)                 39.5349  32.7974  35.8524   \n",
      "\n",
      "                                               auc    prauc  \n",
      "Acute and unspecified renal failure        67.9240  42.7259  \n",
      "Acute cerebrovascular disease              71.1851   6.5007  \n",
      "Acute myocardial infarction                76.9798  18.6077  \n",
      "Cardiac dysrhythmias                       79.4252  74.3937  \n",
      "Chronic kidney disease                     91.6264  80.5976  \n",
      "Chronic obstructive pulmonary disease      80.8136  43.3277  \n",
      "Conduction disorders                       64.1618   3.9365  \n",
      "Congestive heart failure; nonhypertensive  80.1004  72.1489  \n",
      "Coronary atherosclerosis and related       84.2064  59.9571  \n",
      "Disorders of lipid metabolism              81.3164  60.0141  \n",
      "Essential hypertension                     79.0680  65.5140  \n",
      "Fluid and electrolyte disorders            62.8397  48.8756  \n",
      "Gastrointestinal hemorrhage                58.3183  10.9200  \n",
      "Hypertension with complications            90.3990  75.4735  \n",
      "Other liver diseases                       70.8217   4.0385  \n",
      "Other lower respiratory disease            65.6232  59.9082  \n",
      "Pneumonia                                  62.1890  18.7916  \n",
      "Septicemia (except in labor)               65.7300  35.6536  }\n",
      "Corresponding test-long performance:\n",
      "{'global': {'precision': 41.571, 'recall': 37.511, 'f1': 38.3395, 'auc': 72.8414, 'prauc': 45.9394}, 'per_class':                                            precision   recall       f1  \\\n",
      "Acute and unspecified renal failure          54.2373  54.2373  54.2373   \n",
      "Acute cerebrovascular disease                 0.0000   0.0000   0.0000   \n",
      "Acute myocardial infarction                   0.0000   0.0000   0.0000   \n",
      "Cardiac dysrhythmias                         82.9787  48.7500  61.4173   \n",
      "Chronic kidney disease                       80.5195  79.4872  80.0000   \n",
      "Chronic obstructive pulmonary disease        50.0000  15.3846  23.5294   \n",
      "Conduction disorders                          0.0000   0.0000   0.0000   \n",
      "Congestive heart failure; nonhypertensive    76.0563  58.6957  66.2577   \n",
      "Coronary atherosclerosis and related         58.6957  61.3636  60.0000   \n",
      "Disorders of lipid metabolism                57.6923  30.6122  40.0000   \n",
      "Essential hypertension                       55.8140  48.9796  52.1739   \n",
      "Fluid and electrolyte disorders              60.8333  74.4898  66.9725   \n",
      "Gastrointestinal hemorrhage                   0.0000   0.0000   0.0000   \n",
      "Hypertension with complications              73.6111  77.9412  75.7143   \n",
      "Other liver diseases                          0.0000   0.0000   0.0000   \n",
      "Other lower respiratory disease              59.4828  73.4043  65.7143   \n",
      "Pneumonia                                     0.0000   0.0000   0.0000   \n",
      "Septicemia (except in labor)                 38.3562  51.8519  44.0945   \n",
      "\n",
      "                                               auc    prauc  \n",
      "Acute and unspecified renal failure        73.5086  53.1277  \n",
      "Acute cerebrovascular disease              74.0541   1.0204  \n",
      "Acute myocardial infarction                72.1307   9.4769  \n",
      "Cardiac dysrhythmias                       71.7807  69.9523  \n",
      "Chronic kidney disease                     89.9691  88.7873  \n",
      "Chronic obstructive pulmonary disease      79.3990  32.8732  \n",
      "Conduction disorders                       54.5646   7.7221  \n",
      "Congestive heart failure; nonhypertensive  80.6776  79.4936  \n",
      "Coronary atherosclerosis and related       84.0109  66.8144  \n",
      "Disorders of lipid metabolism              75.0782  52.4289  \n",
      "Essential hypertension                     78.4374  64.1871  \n",
      "Fluid and electrolyte disorders            61.8449  60.0887  \n",
      "Gastrointestinal hemorrhage                55.4563   9.9080  \n",
      "Hypertension with complications            89.2448  85.7348  \n",
      "Other liver diseases                       71.7668   3.8978  \n",
      "Other lower respiratory disease            69.6809  74.0705  \n",
      "Pneumonia                                  63.7237  22.0123  \n",
      "Septicemia (except in labor)               65.8179  45.3124  }\n",
      "================================14==================================\n"
     ]
    },
    {
     "name": "stderr",
     "output_type": "stream",
     "text": [
      "Epoch 001: 100%|██████████| 59/59 [00:03<00:00, 15.00it/s, loss=0.4635]\n",
      "Running inference: 100%|██████████| 45/45 [00:02<00:00, 22.32it/s]\n",
      "Running inference: 100%|██████████| 45/45 [00:02<00:00, 19.90it/s]\n"
     ]
    },
    {
     "name": "stdout",
     "output_type": "stream",
     "text": [
      "Validation: {'precision': 37.2774, 'recall': 19.2431, 'f1': 23.0146, 'auc': 67.9424, 'prauc': 38.6861}\n",
      "Test:      {'precision': 34.2925, 'recall': 18.2613, 'f1': 21.651, 'auc': 68.0817, 'prauc': 38.2187}\n",
      "\n",
      "Validation-long: {'precision': 38.0096, 'recall': 19.8288, 'f1': 23.3702, 'auc': 65.7835, 'prauc': 44.655}\n",
      "Test-long: {'precision': 32.9844, 'recall': 19.1226, 'f1': 22.4682, 'auc': 64.7963, 'prauc': 42.0475}\n",
      "\n"
     ]
    },
    {
     "name": "stderr",
     "output_type": "stream",
     "text": [
      "Epoch 002: 100%|██████████| 59/59 [00:03<00:00, 15.02it/s, loss=0.3982]\n",
      "Running inference: 100%|██████████| 45/45 [00:02<00:00, 22.29it/s]\n",
      "Running inference: 100%|██████████| 45/45 [00:02<00:00, 22.27it/s]\n"
     ]
    },
    {
     "name": "stdout",
     "output_type": "stream",
     "text": [
      "Validation: {'precision': 34.4844, 'recall': 28.5407, 'f1': 29.7151, 'auc': 72.4492, 'prauc': 41.5145}\n",
      "Test:      {'precision': 34.0923, 'recall': 27.5737, 'f1': 28.7305, 'auc': 72.4315, 'prauc': 40.5721}\n",
      "\n",
      "Validation-long: {'precision': 35.132, 'recall': 33.1273, 'f1': 32.5144, 'auc': 69.57, 'prauc': 48.9562}\n",
      "Test-long: {'precision': 35.2137, 'recall': 30.0619, 'f1': 30.4197, 'auc': 71.5169, 'prauc': 45.1762}\n",
      "\n"
     ]
    },
    {
     "name": "stderr",
     "output_type": "stream",
     "text": [
      "Epoch 003: 100%|██████████| 59/59 [00:03<00:00, 15.09it/s, loss=0.3823]\n",
      "Running inference: 100%|██████████| 45/45 [00:02<00:00, 22.17it/s]\n",
      "Running inference: 100%|██████████| 45/45 [00:02<00:00, 22.25it/s]\n"
     ]
    },
    {
     "name": "stdout",
     "output_type": "stream",
     "text": [
      "Validation: {'precision': 43.4834, 'recall': 23.1844, 'f1': 27.996, 'auc': 73.5801, 'prauc': 42.4607}\n",
      "Test:      {'precision': 39.3577, 'recall': 22.4812, 'f1': 26.918, 'auc': 73.8078, 'prauc': 42.2292}\n",
      "\n",
      "Validation-long: {'precision': 50.7049, 'recall': 23.8898, 'f1': 29.5164, 'auc': 70.5104, 'prauc': 48.353}\n",
      "Test-long: {'precision': 45.099, 'recall': 22.1567, 'f1': 27.596, 'auc': 71.6849, 'prauc': 45.3316}\n",
      "\n"
     ]
    },
    {
     "name": "stderr",
     "output_type": "stream",
     "text": [
      "Epoch 004: 100%|██████████| 59/59 [00:03<00:00, 15.04it/s, loss=0.3677]\n",
      "Running inference: 100%|██████████| 45/45 [00:01<00:00, 22.60it/s]\n",
      "Running inference: 100%|██████████| 45/45 [00:02<00:00, 21.91it/s]\n"
     ]
    },
    {
     "name": "stdout",
     "output_type": "stream",
     "text": [
      "Validation: {'precision': 38.6855, 'recall': 33.3412, 'f1': 34.5865, 'auc': 74.3974, 'prauc': 43.4084}\n",
      "Test:      {'precision': 39.4812, 'recall': 33.4695, 'f1': 34.5531, 'auc': 74.4059, 'prauc': 42.9626}\n",
      "\n",
      "Validation-long: {'precision': 41.2708, 'recall': 34.3709, 'f1': 36.197, 'auc': 71.1321, 'prauc': 49.5579}\n",
      "Test-long: {'precision': 41.781, 'recall': 34.2841, 'f1': 35.9077, 'auc': 72.3934, 'prauc': 45.4616}\n",
      "\n"
     ]
    },
    {
     "name": "stderr",
     "output_type": "stream",
     "text": [
      "Epoch 005: 100%|██████████| 59/59 [00:04<00:00, 14.05it/s, loss=0.3571]\n",
      "Running inference: 100%|██████████| 45/45 [00:02<00:00, 20.93it/s]\n",
      "Running inference: 100%|██████████| 45/45 [00:02<00:00, 20.90it/s]\n"
     ]
    },
    {
     "name": "stdout",
     "output_type": "stream",
     "text": [
      "Validation: {'precision': 44.4594, 'recall': 29.8475, 'f1': 34.5117, 'auc': 74.5755, 'prauc': 43.8316}\n",
      "Test:      {'precision': 44.79, 'recall': 28.7283, 'f1': 33.8073, 'auc': 74.708, 'prauc': 43.5798}\n",
      "\n",
      "Validation-long: {'precision': 45.6818, 'recall': 31.9937, 'f1': 36.781, 'auc': 71.9389, 'prauc': 50.4989}\n",
      "Test-long: {'precision': 43.2379, 'recall': 29.5696, 'f1': 34.5919, 'auc': 72.8703, 'prauc': 45.9724}\n",
      "\n"
     ]
    },
    {
     "name": "stderr",
     "output_type": "stream",
     "text": [
      "Epoch 006: 100%|██████████| 59/59 [00:04<00:00, 13.94it/s, loss=0.3467]\n",
      "Running inference: 100%|██████████| 45/45 [00:02<00:00, 21.10it/s]\n",
      "Running inference: 100%|██████████| 45/45 [00:02<00:00, 20.87it/s]\n"
     ]
    },
    {
     "name": "stdout",
     "output_type": "stream",
     "text": [
      "Validation: {'precision': 43.6223, 'recall': 34.8434, 'f1': 36.6423, 'auc': 74.6824, 'prauc': 44.4596}\n",
      "Test:      {'precision': 42.4624, 'recall': 34.0123, 'f1': 36.1746, 'auc': 74.85, 'prauc': 44.0836}\n",
      "\n",
      "Validation-long: {'precision': 42.3216, 'recall': 37.3726, 'f1': 38.4846, 'auc': 71.71, 'prauc': 51.1147}\n",
      "Test-long: {'precision': 41.3328, 'recall': 36.6041, 'f1': 38.0334, 'auc': 72.7141, 'prauc': 46.0301}\n",
      "\n"
     ]
    },
    {
     "name": "stderr",
     "output_type": "stream",
     "text": [
      "Epoch 007: 100%|██████████| 59/59 [00:04<00:00, 13.18it/s, loss=0.3358]\n",
      "Running inference: 100%|██████████| 45/45 [00:01<00:00, 22.62it/s]\n",
      "Running inference: 100%|██████████| 45/45 [00:02<00:00, 22.12it/s]\n"
     ]
    },
    {
     "name": "stdout",
     "output_type": "stream",
     "text": [
      "Validation: {'precision': 44.2634, 'recall': 32.787, 'f1': 36.1766, 'auc': 75.1733, 'prauc': 44.897}\n",
      "Test:      {'precision': 43.8546, 'recall': 31.7808, 'f1': 35.5262, 'auc': 75.0811, 'prauc': 44.5044}\n",
      "\n",
      "Validation-long: {'precision': 46.7773, 'recall': 34.4671, 'f1': 38.138, 'auc': 72.7119, 'prauc': 51.6017}\n",
      "Test-long: {'precision': 43.2705, 'recall': 32.2418, 'f1': 36.4757, 'auc': 74.5534, 'prauc': 47.4747}\n",
      "\n"
     ]
    },
    {
     "name": "stderr",
     "output_type": "stream",
     "text": [
      "Epoch 008: 100%|██████████| 59/59 [00:03<00:00, 15.03it/s, loss=0.3237]\n",
      "Running inference: 100%|██████████| 45/45 [00:02<00:00, 22.27it/s]\n",
      "Running inference: 100%|██████████| 45/45 [00:02<00:00, 22.25it/s]\n"
     ]
    },
    {
     "name": "stdout",
     "output_type": "stream",
     "text": [
      "Validation: {'precision': 44.5119, 'recall': 34.536, 'f1': 37.482, 'auc': 75.0347, 'prauc': 44.8517}\n",
      "Test:      {'precision': 42.7678, 'recall': 33.9663, 'f1': 36.9199, 'auc': 75.1214, 'prauc': 44.5743}\n",
      "\n",
      "Validation-long: {'precision': 44.0917, 'recall': 36.1445, 'f1': 39.2278, 'auc': 72.5328, 'prauc': 50.9675}\n",
      "Test-long: {'precision': 42.9717, 'recall': 37.087, 'f1': 39.4217, 'auc': 74.021, 'prauc': 48.767}\n",
      "\n"
     ]
    },
    {
     "name": "stderr",
     "output_type": "stream",
     "text": [
      "Epoch 009: 100%|██████████| 59/59 [00:03<00:00, 15.02it/s, loss=0.3153]\n",
      "Running inference: 100%|██████████| 45/45 [00:02<00:00, 22.19it/s]\n",
      "Running inference: 100%|██████████| 45/45 [00:02<00:00, 22.21it/s]\n"
     ]
    },
    {
     "name": "stdout",
     "output_type": "stream",
     "text": [
      "Validation: {'precision': 42.8132, 'recall': 34.7588, 'f1': 37.5711, 'auc': 75.0295, 'prauc': 44.8364}\n",
      "Test:      {'precision': 43.1195, 'recall': 33.8862, 'f1': 36.8539, 'auc': 74.6073, 'prauc': 44.2987}\n",
      "\n",
      "Validation-long: {'precision': 43.7614, 'recall': 38.8979, 'f1': 40.8045, 'auc': 73.4518, 'prauc': 51.6944}\n",
      "Test-long: {'precision': 44.3995, 'recall': 36.7584, 'f1': 39.5336, 'auc': 73.5423, 'prauc': 48.8056}\n",
      "\n"
     ]
    },
    {
     "name": "stderr",
     "output_type": "stream",
     "text": [
      "Epoch 010: 100%|██████████| 59/59 [00:03<00:00, 15.18it/s, loss=0.3020]\n",
      "Running inference: 100%|██████████| 45/45 [00:02<00:00, 22.25it/s]\n",
      "Running inference: 100%|██████████| 45/45 [00:02<00:00, 22.06it/s]\n"
     ]
    },
    {
     "name": "stdout",
     "output_type": "stream",
     "text": [
      "Validation: {'precision': 48.6751, 'recall': 35.1623, 'f1': 38.3341, 'auc': 74.6211, 'prauc': 44.6554}\n",
      "Test:      {'precision': 42.0226, 'recall': 33.1514, 'f1': 36.2986, 'auc': 74.3667, 'prauc': 43.6835}\n",
      "\n",
      "Validation-long: {'precision': 45.0944, 'recall': 36.6233, 'f1': 39.3689, 'auc': 73.2159, 'prauc': 50.9381}\n",
      "Test-long: {'precision': 41.9816, 'recall': 35.1315, 'f1': 37.5973, 'auc': 73.3435, 'prauc': 47.5644}\n",
      "\n"
     ]
    },
    {
     "name": "stderr",
     "output_type": "stream",
     "text": [
      "Epoch 011: 100%|██████████| 59/59 [00:03<00:00, 15.00it/s, loss=0.2912]\n",
      "Running inference: 100%|██████████| 45/45 [00:02<00:00, 22.23it/s]\n",
      "Running inference: 100%|██████████| 45/45 [00:02<00:00, 22.08it/s]\n"
     ]
    },
    {
     "name": "stdout",
     "output_type": "stream",
     "text": [
      "Validation: {'precision': 44.6258, 'recall': 35.0142, 'f1': 37.4842, 'auc': 74.7095, 'prauc': 44.1185}\n",
      "Test:      {'precision': 48.6588, 'recall': 33.7944, 'f1': 36.8899, 'auc': 74.0883, 'prauc': 43.3667}\n",
      "\n",
      "Validation-long: {'precision': 44.1341, 'recall': 37.0447, 'f1': 39.432, 'auc': 72.9126, 'prauc': 49.9295}\n",
      "Test-long: {'precision': 42.0888, 'recall': 35.7018, 'f1': 37.9965, 'auc': 74.3424, 'prauc': 47.38}\n",
      "\n"
     ]
    },
    {
     "name": "stderr",
     "output_type": "stream",
     "text": [
      "Epoch 012: 100%|██████████| 59/59 [00:03<00:00, 15.03it/s, loss=0.2809]\n",
      "Running inference: 100%|██████████| 45/45 [00:02<00:00, 22.31it/s]\n",
      "Running inference: 100%|██████████| 45/45 [00:02<00:00, 19.91it/s]\n"
     ]
    },
    {
     "name": "stdout",
     "output_type": "stream",
     "text": [
      "Validation: {'precision': 43.1604, 'recall': 37.5205, 'f1': 38.3964, 'auc': 74.6481, 'prauc': 44.1331}\n",
      "Test:      {'precision': 42.32, 'recall': 36.7476, 'f1': 37.6714, 'auc': 74.1405, 'prauc': 43.1779}\n",
      "\n",
      "Validation-long: {'precision': 44.0238, 'recall': 40.593, 'f1': 41.8497, 'auc': 73.4239, 'prauc': 50.3899}\n",
      "Test-long: {'precision': 41.35, 'recall': 38.8175, 'f1': 39.7141, 'auc': 74.029, 'prauc': 48.5065}\n",
      "\n"
     ]
    },
    {
     "name": "stderr",
     "output_type": "stream",
     "text": [
      "Epoch 013: 100%|██████████| 59/59 [00:03<00:00, 15.05it/s, loss=0.2696]\n",
      "Running inference: 100%|██████████| 45/45 [00:02<00:00, 22.17it/s]\n",
      "Running inference: 100%|██████████| 45/45 [00:02<00:00, 22.24it/s]\n"
     ]
    },
    {
     "name": "stdout",
     "output_type": "stream",
     "text": [
      "Validation: {'precision': 42.6797, 'recall': 35.7959, 'f1': 37.1808, 'auc': 74.3496, 'prauc': 43.4798}\n",
      "Test:      {'precision': 44.2241, 'recall': 35.4848, 'f1': 36.779, 'auc': 73.5076, 'prauc': 42.7847}\n",
      "\n",
      "Validation-long: {'precision': 44.1766, 'recall': 37.5135, 'f1': 39.7492, 'auc': 73.395, 'prauc': 50.2865}\n",
      "Test-long: {'precision': 40.9358, 'recall': 35.8481, 'f1': 37.7841, 'auc': 74.5549, 'prauc': 47.6157}\n",
      "\n"
     ]
    },
    {
     "name": "stderr",
     "output_type": "stream",
     "text": [
      "Epoch 014: 100%|██████████| 59/59 [00:03<00:00, 14.94it/s, loss=0.2616]\n",
      "Running inference: 100%|██████████| 45/45 [00:02<00:00, 22.27it/s]\n",
      "Running inference: 100%|██████████| 45/45 [00:02<00:00, 22.43it/s]\n"
     ]
    },
    {
     "name": "stdout",
     "output_type": "stream",
     "text": [
      "Validation: {'precision': 44.207, 'recall': 37.9726, 'f1': 39.2799, 'auc': 74.6049, 'prauc': 44.2259}\n",
      "Test:      {'precision': 49.148, 'recall': 37.077, 'f1': 38.4837, 'auc': 73.2617, 'prauc': 42.5583}\n",
      "\n",
      "Validation-long: {'precision': 43.7274, 'recall': 39.7039, 'f1': 41.2268, 'auc': 73.1169, 'prauc': 51.2776}\n",
      "Test-long: {'precision': 42.1262, 'recall': 38.9808, 'f1': 39.6342, 'auc': 73.7358, 'prauc': 47.9844}\n",
      "\n"
     ]
    },
    {
     "name": "stderr",
     "output_type": "stream",
     "text": [
      "Epoch 015: 100%|██████████| 59/59 [00:03<00:00, 15.06it/s, loss=0.2508]\n",
      "Running inference: 100%|██████████| 45/45 [00:02<00:00, 22.21it/s]\n",
      "Running inference: 100%|██████████| 45/45 [00:02<00:00, 22.19it/s]\n"
     ]
    },
    {
     "name": "stdout",
     "output_type": "stream",
     "text": [
      "Validation: {'precision': 42.9464, 'recall': 34.618, 'f1': 37.2899, 'auc': 73.9868, 'prauc': 43.2837}\n",
      "Test:      {'precision': 41.9544, 'recall': 33.9977, 'f1': 36.5051, 'auc': 72.7912, 'prauc': 42.6988}\n",
      "\n",
      "Validation-long: {'precision': 43.4028, 'recall': 37.0568, 'f1': 39.2354, 'auc': 72.3505, 'prauc': 49.7885}\n",
      "Test-long: {'precision': 42.7853, 'recall': 38.1589, 'f1': 39.6431, 'auc': 71.7897, 'prauc': 47.3844}\n",
      "\n"
     ]
    },
    {
     "name": "stderr",
     "output_type": "stream",
     "text": [
      "Epoch 016: 100%|██████████| 59/59 [00:03<00:00, 15.02it/s, loss=0.2374]\n",
      "Running inference: 100%|██████████| 45/45 [00:02<00:00, 22.30it/s]\n",
      "Running inference: 100%|██████████| 45/45 [00:02<00:00, 22.20it/s]\n"
     ]
    },
    {
     "name": "stdout",
     "output_type": "stream",
     "text": [
      "Validation: {'precision': 43.5572, 'recall': 35.1719, 'f1': 37.7324, 'auc': 73.9766, 'prauc': 43.1137}\n",
      "Test:      {'precision': 44.8901, 'recall': 35.6405, 'f1': 37.9879, 'auc': 73.2231, 'prauc': 42.1145}\n",
      "\n",
      "Validation-long: {'precision': 44.7917, 'recall': 35.0944, 'f1': 38.4392, 'auc': 71.9771, 'prauc': 49.2588}\n",
      "Test-long: {'precision': 44.4269, 'recall': 37.0345, 'f1': 39.2808, 'auc': 73.4394, 'prauc': 47.6024}\n",
      "\n"
     ]
    },
    {
     "name": "stderr",
     "output_type": "stream",
     "text": [
      "Epoch 017: 100%|██████████| 59/59 [00:03<00:00, 14.98it/s, loss=0.2288]\n",
      "Running inference: 100%|██████████| 45/45 [00:02<00:00, 22.17it/s]\n",
      "Running inference: 100%|██████████| 45/45 [00:02<00:00, 22.24it/s]\n"
     ]
    },
    {
     "name": "stdout",
     "output_type": "stream",
     "text": [
      "Validation: {'precision': 42.4809, 'recall': 36.2083, 'f1': 38.2108, 'auc': 73.196, 'prauc': 42.5222}\n",
      "Test:      {'precision': 41.9133, 'recall': 35.6849, 'f1': 37.3569, 'auc': 71.9811, 'prauc': 41.4227}\n",
      "\n",
      "Validation-long: {'precision': 45.2452, 'recall': 38.786, 'f1': 40.8706, 'auc': 71.4831, 'prauc': 49.2195}\n",
      "Test-long: {'precision': 43.979, 'recall': 39.8594, 'f1': 40.6924, 'auc': 71.5083, 'prauc': 46.3588}\n",
      "\n"
     ]
    },
    {
     "name": "stderr",
     "output_type": "stream",
     "text": [
      "Epoch 018: 100%|██████████| 59/59 [00:04<00:00, 14.12it/s, loss=0.2206]\n",
      "Running inference: 100%|██████████| 45/45 [00:02<00:00, 22.33it/s]\n",
      "Running inference: 100%|██████████| 45/45 [00:02<00:00, 22.36it/s]\n"
     ]
    },
    {
     "name": "stdout",
     "output_type": "stream",
     "text": [
      "Validation: {'precision': 43.9119, 'recall': 37.3145, 'f1': 38.6571, 'auc': 73.4558, 'prauc': 42.4931}\n",
      "Test:      {'precision': 42.6718, 'recall': 36.4409, 'f1': 37.8064, 'auc': 72.7692, 'prauc': 42.1377}\n",
      "\n",
      "Validation-long: {'precision': 45.5816, 'recall': 40.4373, 'f1': 42.0173, 'auc': 71.4688, 'prauc': 49.0303}\n",
      "Test-long: {'precision': 46.1206, 'recall': 40.6233, 'f1': 41.4188, 'auc': 71.7927, 'prauc': 47.1192}\n",
      "\n"
     ]
    },
    {
     "name": "stderr",
     "output_type": "stream",
     "text": [
      "Epoch 019: 100%|██████████| 59/59 [00:03<00:00, 15.13it/s, loss=0.2078]\n",
      "Running inference: 100%|██████████| 45/45 [00:02<00:00, 22.24it/s]\n",
      "Running inference: 100%|██████████| 45/45 [00:02<00:00, 22.17it/s]\n"
     ]
    },
    {
     "name": "stdout",
     "output_type": "stream",
     "text": [
      "Validation: {'precision': 42.268, 'recall': 35.5753, 'f1': 37.8617, 'auc': 73.821, 'prauc': 42.6384}\n",
      "Test:      {'precision': 43.1729, 'recall': 35.8152, 'f1': 38.2404, 'auc': 71.9288, 'prauc': 41.5825}\n",
      "\n",
      "Validation-long: {'precision': 46.0834, 'recall': 38.9241, 'f1': 41.2228, 'auc': 72.3569, 'prauc': 49.2246}\n",
      "Test-long: {'precision': 46.3861, 'recall': 40.0706, 'f1': 40.9677, 'auc': 72.1908, 'prauc': 46.8861}\n",
      "\n",
      "\n",
      "Early stopping triggered (no improvement for 5 epochs).\n",
      "\n",
      "Best validation performance:\n",
      "{'global': {'precision': 44.207, 'recall': 37.9726, 'f1': 39.2799, 'auc': 74.6049, 'prauc': 44.2259}, 'per_class':                                            precision   recall       f1  \\\n",
      "Acute and unspecified renal failure          51.8625  41.7051  46.2324   \n",
      "Acute cerebrovascular disease                 0.0000   0.0000   0.0000   \n",
      "Acute myocardial infarction                  23.3333   7.3684  11.2000   \n",
      "Cardiac dysrhythmias                         73.6082  65.1460  69.1191   \n",
      "Chronic kidney disease                       77.6632  66.4706  71.6323   \n",
      "Chronic obstructive pulmonary disease        50.0000  61.7021  55.2381   \n",
      "Conduction disorders                          0.0000   0.0000   0.0000   \n",
      "Congestive heart failure; nonhypertensive    68.9591  68.7037  68.8312   \n",
      "Coronary atherosclerosis and related         60.2857  61.5160  60.8947   \n",
      "Disorders of lipid metabolism                56.0302  58.5302  57.2529   \n",
      "Essential hypertension                       57.2379  66.7961  61.6487   \n",
      "Fluid and electrolyte disorders              49.6994  43.2056  46.2255   \n",
      "Gastrointestinal hemorrhage                  50.0000   2.0000   3.8462   \n",
      "Hypertension with complications              74.7253  63.9498  68.9189   \n",
      "Other liver diseases                          0.0000   0.0000   0.0000   \n",
      "Other lower respiratory disease              57.7495  52.9183  55.2284   \n",
      "Pneumonia                                     0.0000   0.0000   0.0000   \n",
      "Septicemia (except in labor)                 44.5714  23.4940  30.7692   \n",
      "\n",
      "                                               auc    prauc  \n",
      "Acute and unspecified renal failure        70.3701  49.4878  \n",
      "Acute cerebrovascular disease              77.1452   3.5804  \n",
      "Acute myocardial infarction                71.2295  16.1000  \n",
      "Cardiac dysrhythmias                       82.1428  76.9763  \n",
      "Chronic kidney disease                     90.0377  79.4967  \n",
      "Chronic obstructive pulmonary disease      85.0622  47.7367  \n",
      "Conduction disorders                       66.1055   3.6629  \n",
      "Congestive heart failure; nonhypertensive  83.4369  77.0444  \n",
      "Coronary atherosclerosis and related       84.0501  61.8001  \n",
      "Disorders of lipid metabolism              78.9951  59.7137  \n",
      "Essential hypertension                     76.7880  64.8026  \n",
      "Fluid and electrolyte disorders            59.6110  49.2037  \n",
      "Gastrointestinal hemorrhage                63.7595  13.8425  \n",
      "Hypertension with complications            89.7139  72.5149  \n",
      "Other liver diseases                       68.0007   5.5243  \n",
      "Other lower respiratory disease            70.4680  61.6986  \n",
      "Pneumonia                                  58.6921  13.8388  \n",
      "Septicemia (except in labor)               67.2802  39.0420  }\n",
      "Corresponding test performance:\n",
      "{'global': {'precision': 49.148, 'recall': 37.077, 'f1': 38.4837, 'auc': 73.2617, 'prauc': 42.5583}, 'per_class':                                            precision   recall       f1  \\\n",
      "Acute and unspecified renal failure          48.5564  43.3255  45.7921   \n",
      "Acute cerebrovascular disease                33.3333   4.1667   7.4074   \n",
      "Acute myocardial infarction                  35.7143   5.1020   8.9286   \n",
      "Cardiac dysrhythmias                         69.6391  61.4232  65.2736   \n",
      "Chronic kidney disease                       76.0563  65.6535  70.4731   \n",
      "Chronic obstructive pulmonary disease        46.5000  54.7059  50.2703   \n",
      "Conduction disorders                          0.0000   0.0000   0.0000   \n",
      "Congestive heart failure; nonhypertensive    68.8931  67.3507  68.1132   \n",
      "Coronary atherosclerosis and related         60.0601  62.3053  61.1621   \n",
      "Disorders of lipid metabolism                54.5455  52.6027  53.5565   \n",
      "Essential hypertension                       58.6735  68.4524  63.1868   \n",
      "Fluid and electrolyte disorders              49.3308  46.1538  47.6895   \n",
      "Gastrointestinal hemorrhage                 100.0000   1.0417   2.0619   \n",
      "Hypertension with complications              70.5036  64.0523  67.1233   \n",
      "Other liver diseases                          0.0000   0.0000   0.0000   \n",
      "Other lower respiratory disease              52.1097  43.4095  47.3634   \n",
      "Pneumonia                                    21.4286   1.5957   2.9703   \n",
      "Septicemia (except in labor)                 39.3204  26.0450  31.3346   \n",
      "\n",
      "                                               auc    prauc  \n",
      "Acute and unspecified renal failure        68.5221  45.8058  \n",
      "Acute cerebrovascular disease              69.4745   5.7321  \n",
      "Acute myocardial infarction                74.5131  17.9637  \n",
      "Cardiac dysrhythmias                       77.9564  72.3633  \n",
      "Chronic kidney disease                     90.2288  75.1303  \n",
      "Chronic obstructive pulmonary disease      82.3185  43.7277  \n",
      "Conduction disorders                       69.5152   4.2668  \n",
      "Congestive heart failure; nonhypertensive  81.5071  73.8728  \n",
      "Coronary atherosclerosis and related       85.9254  62.9418  \n",
      "Disorders of lipid metabolism              78.9989  56.2640  \n",
      "Essential hypertension                     77.4580  64.7859  \n",
      "Fluid and electrolyte disorders            61.4257  48.5122  \n",
      "Gastrointestinal hemorrhage                62.2439  11.3913  \n",
      "Hypertension with complications            89.2823  72.3774  \n",
      "Other liver diseases                       63.9466   3.1627  \n",
      "Other lower respiratory disease            63.3735  55.9558  \n",
      "Pneumonia                                  54.6540  15.5325  \n",
      "Septicemia (except in labor)               67.3670  36.2631  }\n",
      "Corresponding test-long performance:\n",
      "{'global': {'precision': 42.1262, 'recall': 38.9808, 'f1': 39.6342, 'auc': 73.7358, 'prauc': 47.9844}, 'per_class':                                            precision   recall       f1  \\\n",
      "Acute and unspecified renal failure          50.8475  50.8475  50.8475   \n",
      "Acute cerebrovascular disease                 0.0000   0.0000   0.0000   \n",
      "Acute myocardial infarction                   0.0000   0.0000   0.0000   \n",
      "Cardiac dysrhythmias                         73.3333  41.2500  52.8000   \n",
      "Chronic kidney disease                       87.0968  69.2308  77.1429   \n",
      "Chronic obstructive pulmonary disease        43.5897  65.3846  52.3077   \n",
      "Conduction disorders                          0.0000   0.0000   0.0000   \n",
      "Congestive heart failure; nonhypertensive    70.4762  80.4348  75.1269   \n",
      "Coronary atherosclerosis and related         65.0000  59.0909  61.9048   \n",
      "Disorders of lipid metabolism                58.1395  51.0204  54.3478   \n",
      "Essential hypertension                       55.7692  59.1837  57.4257   \n",
      "Fluid and electrolyte disorders              54.3689  57.1429  55.7214   \n",
      "Gastrointestinal hemorrhage                   0.0000   0.0000   0.0000   \n",
      "Hypertension with complications              78.5714  64.7059  70.9677   \n",
      "Other liver diseases                          0.0000   0.0000   0.0000   \n",
      "Other lower respiratory disease              58.8235  63.8298  61.2245   \n",
      "Pneumonia                                    25.0000   4.3478   7.4074   \n",
      "Septicemia (except in labor)                 37.2549  35.1852  36.1905   \n",
      "\n",
      "                                               auc    prauc  \n",
      "Acute and unspecified renal failure        71.4066  57.3159  \n",
      "Acute cerebrovascular disease              83.2432   1.5625  \n",
      "Acute myocardial infarction                64.8864   9.3625  \n",
      "Cardiac dysrhythmias                       73.9328  71.0869  \n",
      "Chronic kidney disease                     90.4262  89.0138  \n",
      "Chronic obstructive pulmonary disease      84.7115  53.9775  \n",
      "Conduction disorders                       54.9157   4.9332  \n",
      "Congestive heart failure; nonhypertensive  82.8168  84.2701  \n",
      "Coronary atherosclerosis and related       86.4437  70.4226  \n",
      "Disorders of lipid metabolism              77.1414  60.8332  \n",
      "Essential hypertension                     77.1935  61.4484  \n",
      "Fluid and electrolyte disorders            53.8439  57.0621  \n",
      "Gastrointestinal hemorrhage                75.5952  23.0639  \n",
      "Hypertension with complications            88.6466  85.8001  \n",
      "Other liver diseases                       71.1293   2.7124  \n",
      "Other lower respiratory disease            68.0157  70.3804  \n",
      "Pneumonia                                  59.7093  17.6382  \n",
      "Septicemia (except in labor)               63.1874  42.8359  }\n",
      "================================15==================================\n"
     ]
    },
    {
     "name": "stderr",
     "output_type": "stream",
     "text": [
      "Epoch 001: 100%|██████████| 59/59 [00:03<00:00, 15.08it/s, loss=0.4690]\n",
      "Running inference: 100%|██████████| 45/45 [00:02<00:00, 22.34it/s]\n",
      "Running inference: 100%|██████████| 45/45 [00:02<00:00, 22.27it/s]\n"
     ]
    },
    {
     "name": "stdout",
     "output_type": "stream",
     "text": [
      "Validation: {'precision': 31.2491, 'recall': 22.5753, 'f1': 23.1773, 'auc': 66.6409, 'prauc': 36.4685}\n",
      "Test:      {'precision': 30.9874, 'recall': 21.8126, 'f1': 22.4701, 'auc': 67.424, 'prauc': 35.8053}\n",
      "\n",
      "Validation-long: {'precision': 27.6241, 'recall': 23.7536, 'f1': 23.1015, 'auc': 64.354, 'prauc': 41.8755}\n",
      "Test-long: {'precision': 28.4853, 'recall': 22.4421, 'f1': 22.842, 'auc': 64.2199, 'prauc': 39.9808}\n",
      "\n"
     ]
    },
    {
     "name": "stderr",
     "output_type": "stream",
     "text": [
      "Epoch 002: 100%|██████████| 59/59 [00:03<00:00, 15.05it/s, loss=0.4019]\n",
      "Running inference: 100%|██████████| 45/45 [00:02<00:00, 22.13it/s]\n",
      "Running inference: 100%|██████████| 45/45 [00:02<00:00, 22.34it/s]\n"
     ]
    },
    {
     "name": "stdout",
     "output_type": "stream",
     "text": [
      "Validation: {'precision': 34.7771, 'recall': 25.584, 'f1': 27.8124, 'auc': 71.6483, 'prauc': 40.4739}\n",
      "Test:      {'precision': 33.5117, 'recall': 24.5851, 'f1': 26.9842, 'auc': 73.1857, 'prauc': 40.2402}\n",
      "\n",
      "Validation-long: {'precision': 37.7683, 'recall': 29.1512, 'f1': 30.3994, 'auc': 69.2448, 'prauc': 46.428}\n",
      "Test-long: {'precision': 36.1304, 'recall': 26.0581, 'f1': 28.2493, 'auc': 72.5559, 'prauc': 43.9953}\n",
      "\n"
     ]
    },
    {
     "name": "stderr",
     "output_type": "stream",
     "text": [
      "Epoch 003: 100%|██████████| 59/59 [00:03<00:00, 15.19it/s, loss=0.3855]\n",
      "Running inference: 100%|██████████| 45/45 [00:01<00:00, 22.50it/s]\n",
      "Running inference: 100%|██████████| 45/45 [00:02<00:00, 22.24it/s]\n"
     ]
    },
    {
     "name": "stdout",
     "output_type": "stream",
     "text": [
      "Validation: {'precision': 41.8545, 'recall': 23.2633, 'f1': 27.4969, 'auc': 72.8765, 'prauc': 41.6473}\n",
      "Test:      {'precision': 40.4224, 'recall': 22.3931, 'f1': 26.7352, 'auc': 73.9828, 'prauc': 40.9993}\n",
      "\n",
      "Validation-long: {'precision': 43.4455, 'recall': 24.955, 'f1': 29.1642, 'auc': 68.8045, 'prauc': 46.0585}\n",
      "Test-long: {'precision': 44.2805, 'recall': 23.8991, 'f1': 28.0563, 'auc': 73.7408, 'prauc': 45.504}\n",
      "\n"
     ]
    },
    {
     "name": "stderr",
     "output_type": "stream",
     "text": [
      "Epoch 004: 100%|██████████| 59/59 [00:03<00:00, 15.09it/s, loss=0.3711]\n",
      "Running inference: 100%|██████████| 45/45 [00:02<00:00, 20.22it/s]\n",
      "Running inference: 100%|██████████| 45/45 [00:02<00:00, 22.25it/s]\n"
     ]
    },
    {
     "name": "stdout",
     "output_type": "stream",
     "text": [
      "Validation: {'precision': 41.703, 'recall': 31.8719, 'f1': 34.3137, 'auc': 74.0832, 'prauc': 43.2486}\n",
      "Test:      {'precision': 40.3421, 'recall': 31.1481, 'f1': 33.8942, 'auc': 75.3306, 'prauc': 43.6414}\n",
      "\n",
      "Validation-long: {'precision': 44.0541, 'recall': 35.7685, 'f1': 36.9634, 'auc': 70.1389, 'prauc': 48.0243}\n",
      "Test-long: {'precision': 43.3697, 'recall': 33.6813, 'f1': 36.5917, 'auc': 75.3603, 'prauc': 47.05}\n",
      "\n"
     ]
    },
    {
     "name": "stderr",
     "output_type": "stream",
     "text": [
      "Epoch 005: 100%|██████████| 59/59 [00:03<00:00, 15.15it/s, loss=0.3584]\n",
      "Running inference: 100%|██████████| 45/45 [00:02<00:00, 22.45it/s]\n",
      "Running inference: 100%|██████████| 45/45 [00:02<00:00, 22.20it/s]\n"
     ]
    },
    {
     "name": "stdout",
     "output_type": "stream",
     "text": [
      "Validation: {'precision': 43.9879, 'recall': 32.2134, 'f1': 35.5675, 'auc': 74.4387, 'prauc': 44.2865}\n",
      "Test:      {'precision': 41.9245, 'recall': 30.983, 'f1': 34.4269, 'auc': 75.4844, 'prauc': 43.9426}\n",
      "\n",
      "Validation-long: {'precision': 46.788, 'recall': 34.5377, 'f1': 37.8147, 'auc': 71.9158, 'prauc': 50.4255}\n",
      "Test-long: {'precision': 44.7479, 'recall': 32.6145, 'f1': 36.6698, 'auc': 75.9118, 'prauc': 48.3171}\n",
      "\n"
     ]
    },
    {
     "name": "stderr",
     "output_type": "stream",
     "text": [
      "Epoch 006: 100%|██████████| 59/59 [00:03<00:00, 15.08it/s, loss=0.3488]\n",
      "Running inference: 100%|██████████| 45/45 [00:02<00:00, 22.07it/s]\n",
      "Running inference: 100%|██████████| 45/45 [00:02<00:00, 22.17it/s]\n"
     ]
    },
    {
     "name": "stdout",
     "output_type": "stream",
     "text": [
      "Validation: {'precision': 44.214, 'recall': 27.15, 'f1': 31.9915, 'auc': 74.6042, 'prauc': 44.549}\n",
      "Test:      {'precision': 43.6958, 'recall': 26.6297, 'f1': 31.6085, 'auc': 75.7041, 'prauc': 44.8305}\n",
      "\n",
      "Validation-long: {'precision': 45.6748, 'recall': 29.3611, 'f1': 33.563, 'auc': 71.525, 'prauc': 50.5164}\n",
      "Test-long: {'precision': 47.7347, 'recall': 26.3163, 'f1': 31.4063, 'auc': 76.5636, 'prauc': 48.9716}\n",
      "\n"
     ]
    },
    {
     "name": "stderr",
     "output_type": "stream",
     "text": [
      "Epoch 007: 100%|██████████| 59/59 [00:03<00:00, 14.98it/s, loss=0.3389]\n",
      "Running inference: 100%|██████████| 45/45 [00:02<00:00, 22.30it/s]\n",
      "Running inference: 100%|██████████| 45/45 [00:02<00:00, 22.27it/s]\n"
     ]
    },
    {
     "name": "stdout",
     "output_type": "stream",
     "text": [
      "Validation: {'precision': 41.3721, 'recall': 32.7243, 'f1': 35.3049, 'auc': 74.6457, 'prauc': 45.0515}\n",
      "Test:      {'precision': 41.5705, 'recall': 31.9638, 'f1': 35.0292, 'auc': 75.584, 'prauc': 44.6778}\n",
      "\n",
      "Validation-long: {'precision': 44.104, 'recall': 34.9651, 'f1': 37.928, 'auc': 71.3474, 'prauc': 49.3249}\n",
      "Test-long: {'precision': 43.8432, 'recall': 34.7031, 'f1': 37.9958, 'auc': 76.3875, 'prauc': 48.6005}\n",
      "\n"
     ]
    },
    {
     "name": "stderr",
     "output_type": "stream",
     "text": [
      "Epoch 008: 100%|██████████| 59/59 [00:04<00:00, 14.56it/s, loss=0.3259]\n",
      "Running inference: 100%|██████████| 45/45 [00:02<00:00, 21.80it/s]\n",
      "Running inference: 100%|██████████| 45/45 [00:02<00:00, 21.64it/s]\n"
     ]
    },
    {
     "name": "stdout",
     "output_type": "stream",
     "text": [
      "Validation: {'precision': 40.9201, 'recall': 36.766, 'f1': 37.8874, 'auc': 74.4835, 'prauc': 44.8399}\n",
      "Test:      {'precision': 40.7367, 'recall': 35.962, 'f1': 37.4506, 'auc': 75.1522, 'prauc': 44.5373}\n",
      "\n",
      "Validation-long: {'precision': 42.0807, 'recall': 37.8271, 'f1': 39.2102, 'auc': 71.9292, 'prauc': 49.2379}\n",
      "Test-long: {'precision': 43.8355, 'recall': 37.0018, 'f1': 39.5861, 'auc': 74.9262, 'prauc': 48.8634}\n",
      "\n"
     ]
    },
    {
     "name": "stderr",
     "output_type": "stream",
     "text": [
      "Epoch 009: 100%|██████████| 59/59 [00:04<00:00, 14.54it/s, loss=0.3211]\n",
      "Running inference: 100%|██████████| 45/45 [00:02<00:00, 21.70it/s]\n",
      "Running inference: 100%|██████████| 45/45 [00:02<00:00, 21.67it/s]\n"
     ]
    },
    {
     "name": "stdout",
     "output_type": "stream",
     "text": [
      "Validation: {'precision': 40.517, 'recall': 36.6717, 'f1': 37.7998, 'auc': 74.6362, 'prauc': 44.4102}\n",
      "Test:      {'precision': 42.7873, 'recall': 35.7419, 'f1': 37.3496, 'auc': 75.4323, 'prauc': 44.1689}\n",
      "\n",
      "Validation-long: {'precision': 43.5892, 'recall': 38.8702, 'f1': 39.9383, 'auc': 71.556, 'prauc': 49.4707}\n",
      "Test-long: {'precision': 42.1186, 'recall': 38.2801, 'f1': 39.9375, 'auc': 76.2447, 'prauc': 48.8918}\n",
      "\n"
     ]
    },
    {
     "name": "stderr",
     "output_type": "stream",
     "text": [
      "Epoch 010: 100%|██████████| 59/59 [00:04<00:00, 13.54it/s, loss=0.3056]\n",
      "Running inference: 100%|██████████| 45/45 [00:02<00:00, 20.99it/s]\n",
      "Running inference: 100%|██████████| 45/45 [00:02<00:00, 21.63it/s]\n"
     ]
    },
    {
     "name": "stdout",
     "output_type": "stream",
     "text": [
      "Validation: {'precision': 44.6133, 'recall': 35.746, 'f1': 37.959, 'auc': 74.0701, 'prauc': 44.3082}\n",
      "Test:      {'precision': 41.9523, 'recall': 33.8179, 'f1': 36.4041, 'auc': 74.823, 'prauc': 43.9201}\n",
      "\n",
      "Validation-long: {'precision': 44.2705, 'recall': 35.4934, 'f1': 38.8829, 'auc': 72.1631, 'prauc': 49.377}\n",
      "Test-long: {'precision': 44.2849, 'recall': 33.3794, 'f1': 37.7116, 'auc': 75.0548, 'prauc': 48.0675}\n",
      "\n"
     ]
    },
    {
     "name": "stderr",
     "output_type": "stream",
     "text": [
      "Epoch 011: 100%|██████████| 59/59 [00:03<00:00, 15.27it/s, loss=0.2976]\n",
      "Running inference: 100%|██████████| 45/45 [00:01<00:00, 22.67it/s]\n",
      "Running inference: 100%|██████████| 45/45 [00:01<00:00, 22.57it/s]\n"
     ]
    },
    {
     "name": "stdout",
     "output_type": "stream",
     "text": [
      "Validation: {'precision': 44.7089, 'recall': 36.2613, 'f1': 38.5292, 'auc': 74.2454, 'prauc': 44.3336}\n",
      "Test:      {'precision': 41.6506, 'recall': 35.3983, 'f1': 37.6285, 'auc': 74.7544, 'prauc': 44.1906}\n",
      "\n",
      "Validation-long: {'precision': 41.5135, 'recall': 38.389, 'f1': 39.5155, 'auc': 71.6788, 'prauc': 49.1467}\n",
      "Test-long: {'precision': 41.1398, 'recall': 38.236, 'f1': 38.8428, 'auc': 75.134, 'prauc': 48.4473}\n",
      "\n"
     ]
    },
    {
     "name": "stderr",
     "output_type": "stream",
     "text": [
      "Epoch 012: 100%|██████████| 59/59 [00:03<00:00, 15.19it/s, loss=0.2877]\n",
      "Running inference: 100%|██████████| 45/45 [00:01<00:00, 22.62it/s]\n",
      "Running inference: 100%|██████████| 45/45 [00:01<00:00, 22.54it/s]\n"
     ]
    },
    {
     "name": "stdout",
     "output_type": "stream",
     "text": [
      "Validation: {'precision': 44.2784, 'recall': 33.8488, 'f1': 37.1801, 'auc': 73.8863, 'prauc': 44.3673}\n",
      "Test:      {'precision': 49.0742, 'recall': 33.3972, 'f1': 36.9778, 'auc': 74.7227, 'prauc': 43.9946}\n",
      "\n",
      "Validation-long: {'precision': 44.662, 'recall': 36.2962, 'f1': 39.2606, 'auc': 72.5158, 'prauc': 49.4494}\n",
      "Test-long: {'precision': 43.7707, 'recall': 33.5101, 'f1': 37.0512, 'auc': 75.4918, 'prauc': 49.0658}\n",
      "\n"
     ]
    },
    {
     "name": "stderr",
     "output_type": "stream",
     "text": [
      "Epoch 013: 100%|██████████| 59/59 [00:03<00:00, 15.17it/s, loss=0.2756]\n",
      "Running inference: 100%|██████████| 45/45 [00:01<00:00, 22.65it/s]\n",
      "Running inference: 100%|██████████| 45/45 [00:02<00:00, 22.49it/s]\n"
     ]
    },
    {
     "name": "stdout",
     "output_type": "stream",
     "text": [
      "Validation: {'precision': 46.8605, 'recall': 34.3367, 'f1': 37.1866, 'auc': 73.688, 'prauc': 43.8246}\n",
      "Test:      {'precision': 49.1247, 'recall': 33.8094, 'f1': 37.1397, 'auc': 73.8957, 'prauc': 43.0705}\n",
      "\n",
      "Validation-long: {'precision': 44.4148, 'recall': 34.6743, 'f1': 38.0866, 'auc': 72.1624, 'prauc': 49.9813}\n",
      "Test-long: {'precision': 43.1659, 'recall': 33.6918, 'f1': 37.5842, 'auc': 74.6949, 'prauc': 47.215}\n",
      "\n"
     ]
    },
    {
     "name": "stderr",
     "output_type": "stream",
     "text": [
      "Epoch 014: 100%|██████████| 59/59 [00:03<00:00, 15.27it/s, loss=0.2648]\n",
      "Running inference: 100%|██████████| 45/45 [00:01<00:00, 22.55it/s]\n",
      "Running inference: 100%|██████████| 45/45 [00:02<00:00, 22.43it/s]\n"
     ]
    },
    {
     "name": "stdout",
     "output_type": "stream",
     "text": [
      "Validation: {'precision': 41.5554, 'recall': 39.1214, 'f1': 38.8848, 'auc': 73.8404, 'prauc': 43.6668}\n",
      "Test:      {'precision': 39.5496, 'recall': 37.2263, 'f1': 37.3947, 'auc': 73.5789, 'prauc': 42.4048}\n",
      "\n",
      "Validation-long: {'precision': 41.5456, 'recall': 40.887, 'f1': 40.6675, 'auc': 71.7827, 'prauc': 49.01}\n",
      "Test-long: {'precision': 39.3054, 'recall': 38.947, 'f1': 38.7464, 'auc': 72.8125, 'prauc': 45.9804}\n",
      "\n"
     ]
    },
    {
     "name": "stderr",
     "output_type": "stream",
     "text": [
      "Epoch 015: 100%|██████████| 59/59 [00:03<00:00, 15.18it/s, loss=0.2589]\n",
      "Running inference: 100%|██████████| 45/45 [00:01<00:00, 22.55it/s]\n",
      "Running inference: 100%|██████████| 45/45 [00:02<00:00, 20.04it/s]\n"
     ]
    },
    {
     "name": "stdout",
     "output_type": "stream",
     "text": [
      "Validation: {'precision': 41.9754, 'recall': 38.2934, 'f1': 38.9276, 'auc': 73.0994, 'prauc': 43.063}\n",
      "Test:      {'precision': 45.3807, 'recall': 37.3133, 'f1': 38.2418, 'auc': 72.9353, 'prauc': 42.433}\n",
      "\n",
      "Validation-long: {'precision': 42.9004, 'recall': 38.6861, 'f1': 40.1609, 'auc': 71.643, 'prauc': 48.827}\n",
      "Test-long: {'precision': 40.7741, 'recall': 38.1346, 'f1': 38.8164, 'auc': 73.2273, 'prauc': 46.6544}\n",
      "\n"
     ]
    },
    {
     "name": "stderr",
     "output_type": "stream",
     "text": [
      "Epoch 016: 100%|██████████| 59/59 [00:03<00:00, 15.16it/s, loss=0.2480]\n",
      "Running inference: 100%|██████████| 45/45 [00:02<00:00, 22.45it/s]\n",
      "Running inference: 100%|██████████| 45/45 [00:02<00:00, 22.36it/s]\n"
     ]
    },
    {
     "name": "stdout",
     "output_type": "stream",
     "text": [
      "Validation: {'precision': 42.7343, 'recall': 36.8916, 'f1': 38.5664, 'auc': 73.1838, 'prauc': 43.5307}\n",
      "Test:      {'precision': 43.2149, 'recall': 35.9978, 'f1': 37.8157, 'auc': 74.0035, 'prauc': 42.9817}\n",
      "\n",
      "Validation-long: {'precision': 42.8489, 'recall': 39.386, 'f1': 40.1635, 'auc': 71.6697, 'prauc': 48.7721}\n",
      "Test-long: {'precision': 39.8797, 'recall': 38.295, 'f1': 38.1066, 'auc': 73.8264, 'prauc': 46.1781}\n",
      "\n"
     ]
    },
    {
     "name": "stderr",
     "output_type": "stream",
     "text": [
      "Epoch 017: 100%|██████████| 59/59 [00:03<00:00, 15.16it/s, loss=0.2366]\n",
      "Running inference: 100%|██████████| 45/45 [00:02<00:00, 22.44it/s]\n",
      "Running inference: 100%|██████████| 45/45 [00:02<00:00, 22.33it/s]\n"
     ]
    },
    {
     "name": "stdout",
     "output_type": "stream",
     "text": [
      "Validation: {'precision': 42.7277, 'recall': 37.07, 'f1': 38.0119, 'auc': 72.6457, 'prauc': 43.1714}\n",
      "Test:      {'precision': 43.42, 'recall': 36.7289, 'f1': 38.0867, 'auc': 73.2008, 'prauc': 42.8607}\n",
      "\n",
      "Validation-long: {'precision': 44.6183, 'recall': 37.7745, 'f1': 39.3533, 'auc': 71.7968, 'prauc': 49.5343}\n",
      "Test-long: {'precision': 39.9864, 'recall': 35.4962, 'f1': 37.0474, 'auc': 74.6767, 'prauc': 46.7374}\n",
      "\n"
     ]
    },
    {
     "name": "stderr",
     "output_type": "stream",
     "text": [
      "Epoch 018: 100%|██████████| 59/59 [00:03<00:00, 15.01it/s, loss=0.2297]\n",
      "Running inference: 100%|██████████| 45/45 [00:02<00:00, 22.43it/s]\n",
      "Running inference: 100%|██████████| 45/45 [00:02<00:00, 22.32it/s]\n"
     ]
    },
    {
     "name": "stdout",
     "output_type": "stream",
     "text": [
      "Validation: {'precision': 45.9253, 'recall': 36.6808, 'f1': 38.5973, 'auc': 73.1497, 'prauc': 43.2789}\n",
      "Test:      {'precision': 44.9731, 'recall': 35.4576, 'f1': 37.6631, 'auc': 73.7597, 'prauc': 42.3429}\n",
      "\n",
      "Validation-long: {'precision': 45.9961, 'recall': 38.5308, 'f1': 41.0108, 'auc': 72.1573, 'prauc': 49.1167}\n",
      "Test-long: {'precision': 43.7171, 'recall': 36.2845, 'f1': 38.0865, 'auc': 74.2169, 'prauc': 46.3685}\n",
      "\n"
     ]
    },
    {
     "name": "stderr",
     "output_type": "stream",
     "text": [
      "Epoch 019: 100%|██████████| 59/59 [00:03<00:00, 15.03it/s, loss=0.2186]\n",
      "Running inference: 100%|██████████| 45/45 [00:02<00:00, 22.35it/s]\n",
      "Running inference: 100%|██████████| 45/45 [00:02<00:00, 22.40it/s]\n"
     ]
    },
    {
     "name": "stdout",
     "output_type": "stream",
     "text": [
      "Validation: {'precision': 41.0665, 'recall': 39.1178, 'f1': 38.5857, 'auc': 72.4572, 'prauc': 42.686}\n",
      "Test:      {'precision': 39.6597, 'recall': 37.7374, 'f1': 37.598, 'auc': 72.4889, 'prauc': 41.2946}\n",
      "\n",
      "Validation-long: {'precision': 42.9742, 'recall': 41.1381, 'f1': 40.7648, 'auc': 72.7879, 'prauc': 47.7369}\n",
      "Test-long: {'precision': 40.8396, 'recall': 38.8318, 'f1': 38.741, 'auc': 73.1593, 'prauc': 44.9445}\n",
      "\n"
     ]
    },
    {
     "name": "stderr",
     "output_type": "stream",
     "text": [
      "Epoch 020: 100%|██████████| 59/59 [00:03<00:00, 15.19it/s, loss=0.2102]\n",
      "Running inference: 100%|██████████| 45/45 [00:01<00:00, 22.51it/s]\n",
      "Running inference: 100%|██████████| 45/45 [00:01<00:00, 22.52it/s]"
     ]
    },
    {
     "name": "stdout",
     "output_type": "stream",
     "text": [
      "Validation: {'precision': 41.7861, 'recall': 36.5523, 'f1': 37.9052, 'auc': 72.3909, 'prauc': 43.0217}\n",
      "Test:      {'precision': 39.5447, 'recall': 35.3823, 'f1': 36.599, 'auc': 72.2833, 'prauc': 41.392}\n",
      "\n",
      "Validation-long: {'precision': 42.3637, 'recall': 37.2523, 'f1': 39.0957, 'auc': 71.5807, 'prauc': 49.1066}\n",
      "Test-long: {'precision': 39.45, 'recall': 34.9457, 'f1': 36.5106, 'auc': 72.6387, 'prauc': 45.1412}\n",
      "\n",
      "\n",
      "Early stopping triggered (no improvement for 5 epochs).\n",
      "\n",
      "Best validation performance:\n",
      "{'global': {'precision': 41.9754, 'recall': 38.2934, 'f1': 38.9276, 'auc': 73.0994, 'prauc': 43.063}, 'per_class':                                            precision   recall       f1  \\\n",
      "Acute and unspecified renal failure          50.7937  44.2396  47.2906   \n",
      "Acute cerebrovascular disease                 0.0000   0.0000   0.0000   \n",
      "Acute myocardial infarction                  29.6296   8.4211  13.1148   \n",
      "Cardiac dysrhythmias                         66.4912  69.1606  67.7996   \n",
      "Chronic kidney disease                       68.8623  67.6471  68.2493   \n",
      "Chronic obstructive pulmonary disease        56.5000  60.1064  58.2474   \n",
      "Conduction disorders                          0.0000   0.0000   0.0000   \n",
      "Congestive heart failure; nonhypertensive    60.6887  78.3333  68.3913   \n",
      "Coronary atherosclerosis and related         62.1451  57.4344  59.6970   \n",
      "Disorders of lipid metabolism                59.8007  47.2441  52.7859   \n",
      "Essential hypertension                       58.6957  62.9126  60.7310   \n",
      "Fluid and electrolyte disorders              49.5238  45.2962  47.3157   \n",
      "Gastrointestinal hemorrhage                  25.0000   2.0000   3.7037   \n",
      "Hypertension with complications              68.0921  64.8903  66.4526   \n",
      "Other liver diseases                          0.0000   0.0000   0.0000   \n",
      "Other lower respiratory disease              52.7828  57.1984  54.9020   \n",
      "Pneumonia                                     0.0000   0.0000   0.0000   \n",
      "Septicemia (except in labor)                 46.5517  24.3976  32.0158   \n",
      "\n",
      "                                               auc    prauc  \n",
      "Acute and unspecified renal failure        68.9036  48.2081  \n",
      "Acute cerebrovascular disease              68.0875   2.2610  \n",
      "Acute myocardial infarction                72.4987  16.2128  \n",
      "Cardiac dysrhythmias                       80.4942  76.1505  \n",
      "Chronic kidney disease                     88.2239  73.2176  \n",
      "Chronic obstructive pulmonary disease      85.2779  51.5447  \n",
      "Conduction disorders                       63.4504   4.4900  \n",
      "Congestive heart failure; nonhypertensive  81.4268  72.9779  \n",
      "Coronary atherosclerosis and related       84.8189  59.7321  \n",
      "Disorders of lipid metabolism              79.6918  59.3896  \n",
      "Essential hypertension                     75.8744  62.7960  \n",
      "Fluid and electrolyte disorders            59.9476  48.9000  \n",
      "Gastrointestinal hemorrhage                64.7729  13.4700  \n",
      "Hypertension with complications            87.5614  71.3833  \n",
      "Other liver diseases                       67.0940   5.0338  \n",
      "Other lower respiratory disease            69.6929  58.8128  \n",
      "Pneumonia                                  51.7116  11.4216  \n",
      "Septicemia (except in labor)               66.2606  39.1318  }\n",
      "Corresponding test performance:\n",
      "{'global': {'precision': 45.3807, 'recall': 37.3133, 'f1': 38.2418, 'auc': 72.9353, 'prauc': 42.433}, 'per_class':                                            precision   recall       f1  \\\n",
      "Acute and unspecified renal failure          46.3807  40.5152  43.2500   \n",
      "Acute cerebrovascular disease               100.0000   4.1667   8.0000   \n",
      "Acute myocardial infarction                  27.2727   6.1224  10.0000   \n",
      "Cardiac dysrhythmias                         63.2689  67.4157  65.2765   \n",
      "Chronic kidney disease                       73.7705  68.3891  70.9779   \n",
      "Chronic obstructive pulmonary disease        50.2959  50.0000  50.1475   \n",
      "Conduction disorders                          0.0000   0.0000   0.0000   \n",
      "Congestive heart failure; nonhypertensive    60.7463  75.9328  67.4959   \n",
      "Coronary atherosclerosis and related         64.0411  58.2555  61.0114   \n",
      "Disorders of lipid metabolism                58.5366  46.0274  51.5337   \n",
      "Essential hypertension                       57.3427  65.0794  60.9665   \n",
      "Fluid and electrolyte disorders              47.6277  46.6905  47.1545   \n",
      "Gastrointestinal hemorrhage                   0.0000   0.0000   0.0000   \n",
      "Hypertension with complications              71.1806  66.9935  69.0236   \n",
      "Other liver diseases                          0.0000   0.0000   0.0000   \n",
      "Other lower respiratory disease              54.5290  52.8998  53.7021   \n",
      "Pneumonia                                     0.0000   0.0000   0.0000   \n",
      "Septicemia (except in labor)                 41.8605  23.1511  29.8137   \n",
      "\n",
      "                                               auc    prauc  \n",
      "Acute and unspecified renal failure        68.0310  44.3998  \n",
      "Acute cerebrovascular disease              74.4288  11.6265  \n",
      "Acute myocardial infarction                76.0461  18.0186  \n",
      "Cardiac dysrhythmias                       78.3317  71.8032  \n",
      "Chronic kidney disease                     90.7840  77.8552  \n",
      "Chronic obstructive pulmonary disease      80.9599  41.9722  \n",
      "Conduction disorders                       63.3946   3.9449  \n",
      "Congestive heart failure; nonhypertensive  79.8204  68.9214  \n",
      "Coronary atherosclerosis and related       86.8671  63.6344  \n",
      "Disorders of lipid metabolism              78.4719  56.1980  \n",
      "Essential hypertension                     76.1506  61.9567  \n",
      "Fluid and electrolyte disorders            60.6817  48.9975  \n",
      "Gastrointestinal hemorrhage                58.0008   8.9161  \n",
      "Hypertension with complications            89.5887  72.1863  \n",
      "Other liver diseases                       60.3365   2.2262  \n",
      "Other lower respiratory disease            65.7581  57.7890  \n",
      "Pneumonia                                  57.9006  16.5463  \n",
      "Septicemia (except in labor)               67.2822  36.8012  }\n",
      "Corresponding test-long performance:\n",
      "{'global': {'precision': 40.7741, 'recall': 38.1346, 'f1': 38.8164, 'auc': 73.2273, 'prauc': 46.6544}, 'per_class':                                            precision   recall       f1  \\\n",
      "Acute and unspecified renal failure          57.6923  50.8475  54.0541   \n",
      "Acute cerebrovascular disease                 0.0000   0.0000   0.0000   \n",
      "Acute myocardial infarction                   0.0000   0.0000   0.0000   \n",
      "Cardiac dysrhythmias                         70.9677  55.0000  61.9718   \n",
      "Chronic kidney disease                       85.9375  70.5128  77.4648   \n",
      "Chronic obstructive pulmonary disease        44.4444  46.1538  45.2830   \n",
      "Conduction disorders                          0.0000   0.0000   0.0000   \n",
      "Congestive heart failure; nonhypertensive    66.1417  91.3043  76.7123   \n",
      "Coronary atherosclerosis and related         72.7273  54.5455  62.3377   \n",
      "Disorders of lipid metabolism                57.1429  32.6531  41.5584   \n",
      "Essential hypertension                       42.6471  59.1837  49.5726   \n",
      "Fluid and electrolyte disorders              59.7403  46.9388  52.5714   \n",
      "Gastrointestinal hemorrhage                   0.0000   0.0000   0.0000   \n",
      "Hypertension with complications              77.0492  69.1176  72.8682   \n",
      "Other liver diseases                          0.0000   0.0000   0.0000   \n",
      "Other lower respiratory disease              59.8214  71.2766  65.0485   \n",
      "Pneumonia                                     0.0000   0.0000   0.0000   \n",
      "Septicemia (except in labor)                 39.6226  38.8889  39.2523   \n",
      "\n",
      "                                               auc    prauc  \n",
      "Acute and unspecified renal failure        74.3494  58.0769  \n",
      "Acute cerebrovascular disease              97.5676   8.3333  \n",
      "Acute myocardial infarction                76.9886  12.2479  \n",
      "Cardiac dysrhythmias                       69.9528  71.3313  \n",
      "Chronic kidney disease                     91.3699  89.7863  \n",
      "Chronic obstructive pulmonary disease      81.9952  45.0597  \n",
      "Conduction disorders                       51.5449   7.2172  \n",
      "Congestive heart failure; nonhypertensive  81.3425  79.4925  \n",
      "Coronary atherosclerosis and related       86.2196  73.2384  \n",
      "Disorders of lipid metabolism              71.1679  51.9874  \n",
      "Essential hypertension                     72.6054  53.1996  \n",
      "Fluid and electrolyte disorders            61.0448  59.8261  \n",
      "Gastrointestinal hemorrhage                60.7308  13.5995  \n",
      "Hypertension with complications            88.4721  83.5975  \n",
      "Other liver diseases                       62.8415   2.0221  \n",
      "Other lower respiratory disease            69.1027  72.1844  \n",
      "Pneumonia                                  59.3625  16.6271  \n",
      "Septicemia (except in labor)               61.4338  41.9527  }\n"
     ]
    },
    {
     "name": "stderr",
     "output_type": "stream",
     "text": [
      "\n"
     ]
    }
   ],
   "source": [
    "final_metrics, final_long_seq_metrics = [], []\n",
    "for i in range(15):\n",
    "    print(f\"================================{i+1}==================================\")\n",
    "    model = HeteroGTFineTune(tokenizer=tokenizer, token_types=config.token_type, d_model=config.d_model, num_heads=config.num_heads, layer_types=['gnn', 'tf', 'gnn', 'tf'], max_num_adms=config.max_num_adms, \n",
    "                     device=device, task=curr_task, label_vocab_size=config.label_vocab_size, attn_mask_dicts=config.attn_mask_dicts,\n",
    "                     use_cls_cat=True).to(device)\n",
    "    if config.use_pretrained_model:\n",
    "        model.load_weight(state_dict)\n",
    "    optimizer = torch.optim.AdamW(model.parameters(), lr=config.lr)\n",
    "    best_test_metric, best_test_long_seq_metric = train_with_early_stopping(model, train_dataloader, val_dataloader, test_dataloader,\n",
    "                                                                            optimizer, loss_fn, device, config.early_stop_patience, task_type, config.epochs, \n",
    "                                                                            dec_loss_lambda=config.dec_loss_lambda, \n",
    "                                                                            val_long_seq_idx=val_long_seq_idx, test_long_seq_idx=test_long_seq_idx, \n",
    "                                                                            eval_metric=eval_metric, return_model=False)\n",
    "    final_metrics.append(best_test_metric)\n",
    "    final_long_seq_metrics.append(best_test_long_seq_metric)"
   ]
  },
  {
   "cell_type": "code",
   "execution_count": 18,
   "id": "69b5b571",
   "metadata": {},
   "outputs": [],
   "source": [
    "def topk_avg_performance_formatted(performances, long_seq_performances, k=5):\n",
    "    metrics = [\"f1\", \"auc\", \"prauc\"]\n",
    "    scores = {m: np.array([p[m] for p in performances]) for m in metrics}\n",
    "\n",
    "    # 计算排名（值越大排名越靠前）\n",
    "    ranks = {m: (-scores[m]).argsort().argsort() + 1 for m in metrics}\n",
    "    avg_ranks = np.mean(np.stack([ranks[m] for m in metrics], axis=1), axis=1)\n",
    "\n",
    "    # 选 top-k\n",
    "    topk_idx = np.argsort(avg_ranks)[:k]\n",
    "    final_avg = {m: np.mean([performances[i][m] for i in topk_idx]) for m in performances[0].keys()}\n",
    "    final_std = {m: np.std([performances[i][m] for i in topk_idx], ddof=0) for m in performances[0].keys()}\n",
    "    final_long_seq_avg = {m: np.mean([long_seq_performances[i][m] for i in topk_idx]) for m in long_seq_performances[0].keys()}\n",
    "    final_long_seq_std = {m: np.std([long_seq_performances[i][m] for i in topk_idx], ddof=0) for m in long_seq_performances[0].keys()}\n",
    "\n",
    "    # 打印结果（转百分比，均保留两位小数）\n",
    "    print(\"Final Metrics:\")\n",
    "    for m in performances[0].keys():\n",
    "        mean_val = final_avg[m]\n",
    "        std_val = final_std[m]\n",
    "        print(f\"{m}: {mean_val:.2f} ± {std_val:.2f}\")\n",
    "    print(\"\\nFinal Long Sequence Metrics:\")\n",
    "    for m in long_seq_performances[0].keys():\n",
    "        mean_val = final_long_seq_avg[m]\n",
    "        std_val = final_long_seq_std[m]\n",
    "        print(f\"{m}: {mean_val:.2f} ± {std_val:.2f}\")"
   ]
  },
  {
   "cell_type": "code",
   "execution_count": 19,
   "id": "0a607e31",
   "metadata": {},
   "outputs": [],
   "source": [
    "def print_per_class_performance(dfs, col_name=\"prauc\"):\n",
    "    \"\"\"\n",
    "    输入一个 DataFrame 列表，对每个疾病在所有表格的指定列计算 mean ± std 并打印。\n",
    "\n",
    "    参数:\n",
    "        dfs (list[pd.DataFrame]): 多个表格组成的列表\n",
    "        col_name (str): 要计算的指标列名 (默认: \"prauc\")\n",
    "    \"\"\"\n",
    "    # 拼接所有表格\n",
    "    all_values = pd.concat(dfs, axis=0)\n",
    "\n",
    "    # 按疾病分组，计算 mean 和 std\n",
    "    grouped = all_values.groupby(all_values.index)[col_name].agg([\"mean\", \"std\"])\n",
    "\n",
    "    # 打印\n",
    "    for disease, row in grouped.iterrows():\n",
    "        mean_val = row[\"mean\"]\n",
    "        std_val = row[\"std\"]\n",
    "        print(f\"{disease}: {mean_val:.2f} ± {std_val:.2f}\")"
   ]
  },
  {
   "cell_type": "code",
   "execution_count": 20,
   "id": "e12dd11d-4936-466a-9a97-e10f223539fc",
   "metadata": {
    "tags": []
   },
   "outputs": [
    {
     "name": "stdout",
     "output_type": "stream",
     "text": [
      "Final Metrics:\n",
      "precision: 42.35 ± 1.60\n",
      "recall: 37.22 ± 1.94\n",
      "f1: 38.30 ± 0.84\n",
      "auc: 74.65 ± 0.59\n",
      "prauc: 43.45 ± 0.46\n",
      "\n",
      "Final Long Sequence Metrics:\n",
      "precision: 41.45 ± 1.26\n",
      "recall: 39.38 ± 1.96\n",
      "f1: 39.76 ± 0.66\n",
      "auc: 75.29 ± 0.54\n",
      "prauc: 48.15 ± 2.45\n",
      "\n",
      "Per-class performance, all patients:\n",
      "Acute and unspecified renal failure: 44.62 ± 1.91\n",
      "Acute cerebrovascular disease: 7.53 ± 2.11\n",
      "Acute myocardial infarction: 17.27 ± 1.18\n",
      "Cardiac dysrhythmias: 72.81 ± 1.87\n",
      "Chronic kidney disease: 77.21 ± 2.11\n",
      "Chronic obstructive pulmonary disease: 43.66 ± 2.79\n",
      "Conduction disorders: 4.54 ± 1.63\n",
      "Congestive heart failure; nonhypertensive: 72.06 ± 1.54\n",
      "Coronary atherosclerosis and related: 60.20 ± 1.83\n",
      "Disorders of lipid metabolism: 56.56 ± 2.80\n",
      "Essential hypertension: 63.00 ± 2.23\n",
      "Fluid and electrolyte disorders: 48.45 ± 1.50\n",
      "Gastrointestinal hemorrhage: 12.06 ± 1.95\n",
      "Hypertension with complications: 71.16 ± 3.22\n",
      "Other liver diseases: 3.11 ± 0.76\n",
      "Other lower respiratory disease: 57.96 ± 1.95\n",
      "Pneumonia: 17.57 ± 1.45\n",
      "Septicemia (except in labor): 36.25 ± 1.51\n",
      "\n",
      "Per-class performance, long seq:\n",
      "Acute and unspecified renal failure: 54.26 ± 4.55\n",
      "Acute cerebrovascular disease: 17.74 ± 33.72\n",
      "Acute myocardial infarction: 11.28 ± 3.64\n",
      "Cardiac dysrhythmias: 70.47 ± 2.39\n",
      "Chronic kidney disease: 88.72 ± 1.24\n",
      "Chronic obstructive pulmonary disease: 44.68 ± 6.92\n",
      "Conduction disorders: 8.00 ± 5.39\n",
      "Congestive heart failure; nonhypertensive: 80.96 ± 2.23\n",
      "Coronary atherosclerosis and related: 66.90 ± 4.77\n",
      "Disorders of lipid metabolism: 55.09 ± 3.78\n",
      "Essential hypertension: 57.55 ± 4.57\n",
      "Fluid and electrolyte disorders: 57.55 ± 2.99\n",
      "Gastrointestinal hemorrhage: 17.18 ± 4.97\n",
      "Hypertension with complications: 82.88 ± 2.60\n",
      "Other liver diseases: 4.14 ± 2.49\n",
      "Other lower respiratory disease: 71.85 ± 3.15\n",
      "Pneumonia: 16.78 ± 3.73\n",
      "Septicemia (except in labor): 43.89 ± 3.59\n"
     ]
    }
   ],
   "source": [
    "if task_type == \"binary\":\n",
    "    topk_avg_performance_formatted(final_metrics, final_long_seq_metrics)\n",
    "else:\n",
    "    final_metrics_global = [metrics[\"global\"] for metrics in final_metrics]\n",
    "    final_metrics_per_class = [metrics[\"per_class\"] for metrics in final_metrics]\n",
    "    final_long_seq_metrics_global = [metrics[\"global\"] for metrics in final_long_seq_metrics]\n",
    "    final_long_seq_metrics_per_class = [metrics[\"per_class\"] for metrics in final_long_seq_metrics]\n",
    "    topk_avg_performance_formatted(final_metrics_global, final_long_seq_metrics_global)\n",
    "    print(\"\\nPer-class performance, all patients:\")\n",
    "    print_per_class_performance(final_metrics_per_class, col_name=\"prauc\")\n",
    "    print(\"\\nPer-class performance, long seq:\")\n",
    "    print_per_class_performance(final_long_seq_metrics_per_class, col_name=\"prauc\")"
   ]
  }
 ],
 "metadata": {
  "kernelspec": {
   "display_name": "heart-cuda",
   "language": "python",
   "name": "heart-cuda"
  },
  "language_info": {
   "codemirror_mode": {
    "name": "ipython",
    "version": 3
   },
   "file_extension": ".py",
   "mimetype": "text/x-python",
   "name": "python",
   "nbconvert_exporter": "python",
   "pygments_lexer": "ipython3",
   "version": "3.10.18"
  }
 },
 "nbformat": 4,
 "nbformat_minor": 5
}
