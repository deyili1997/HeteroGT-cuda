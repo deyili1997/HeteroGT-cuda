{
 "cells": [
  {
   "cell_type": "code",
   "execution_count": 1,
   "id": "9bc53801",
   "metadata": {
    "tags": []
   },
   "outputs": [
    {
     "name": "stderr",
     "output_type": "stream",
     "text": [
      "Disabling PyTorch because PyTorch >= 2.1 is required but found 1.13.1\n",
      "None of PyTorch, TensorFlow >= 2.0, or Flax have been found. Models won't be available and only tokenizers, configuration and file/data utilities can be used.\n"
     ]
    }
   ],
   "source": [
    "import torch\n",
    "import pickle\n",
    "import numpy as np\n",
    "import pandas as pd\n",
    "from argparse import Namespace\n",
    "from torch.utils.data import DataLoader\n",
    "import torch.nn.functional as F\n",
    "from heterogt.utils.tokenizer import EHRTokenizer\n",
    "from heterogt.utils.dataset import FineTuneEHRDataset, batcher, expand_level3\n",
    "from heterogt.utils.train import train_with_early_stopping, PHENO_ORDER\n",
    "from heterogt.utils.seed import set_random_seed\n",
    "from heterogt.model.model import HeteroGTFineTune"
   ]
  },
  {
   "cell_type": "code",
   "execution_count": 2,
   "id": "c42d3e09",
   "metadata": {
    "tags": []
   },
   "outputs": [
    {
     "name": "stdout",
     "output_type": "stream",
     "text": [
      "[INFO] Random seed set to 123\n"
     ]
    }
   ],
   "source": [
    "set_random_seed(123)"
   ]
  },
  {
   "cell_type": "code",
   "execution_count": 3,
   "id": "af3d65aa",
   "metadata": {
    "tags": []
   },
   "outputs": [
    {
     "name": "stdout",
     "output_type": "stream",
     "text": [
      "cuda\n"
     ]
    }
   ],
   "source": [
    "device = torch.device(\"cuda\" if torch.cuda.is_available() else \"cpu\")\n",
    "print(device)"
   ]
  },
  {
   "cell_type": "code",
   "execution_count": 4,
   "id": "d073b89b",
   "metadata": {
    "tags": []
   },
   "outputs": [],
   "source": [
    "config = Namespace(\n",
    "    dataset = \"MIMIC-IV\",\n",
    "    tasks = [\"death\", \"readmission\", \"stay\", \"next_diag_6m\", \"next_diag_12m\"],\n",
    "    task_index = 4,  # index of the task to train\n",
    "    token_type = [\"diag\", \"med\", \"lab\", \"pro\"],\n",
    "    special_tokens = [\"[PAD]\", \"[CLS]\"],\n",
    "    # only for tf layer\n",
    "    attn_mask_dicts = [{1:[6,7], 2:[6,7], 3:[6,7], 4:[6,7], 5:[6,7], 6:[1,2,3,4,5,6,7], 7:[1,2,3,4,5,6,7]}, \n",
    "                       {1:[6,7], 2:[6,7], 3:[6,7], 4:[6,7], 5:[6,7], 6:[1,2,3,4,5,6,7], 7:[1,2,3,4,5,6,7]}], \n",
    "    d_model = 64,\n",
    "    num_heads = 4,\n",
    "    batch_size = 32,\n",
    "    lr = 1e-3,\n",
    "    epochs = 500,\n",
    "    early_stop_patience = 5,\n",
    "    group_code_thre = 5,  # if there are group_code_thre diag codes belongs to the same group ICD code, then the group code is generated\n",
    "    use_pretrained_model = True,\n",
    "    pretrain_mask_rate = 0.7,\n",
    "    pretrain_cls_ontology_weight = 5e-2,\n",
    "    pretrain_visit_ontology_weight = 5e-2,\n",
    "    pretrain_adm_type_weight = 0,\n",
    "    dec_loss_lambda = 1e-2,\n",
    ")"
   ]
  },
  {
   "cell_type": "code",
   "execution_count": 5,
   "id": "bbe56943",
   "metadata": {
    "tags": []
   },
   "outputs": [
    {
     "name": "stdout",
     "output_type": "stream",
     "text": [
      "Current task: next_diag_12m\n"
     ]
    }
   ],
   "source": [
    "full_data_path = f\"./data_process/{config.dataset}-processed/mimic.pkl\"  # for tokenizer\n",
    "curr_task = config.tasks[config.task_index]\n",
    "print(\"Current task:\", curr_task)\n",
    "if curr_task == \"next_diag_6m\":\n",
    "    finetune_data_path = f\"./data_process/{config.dataset}-processed/mimic_nextdiag_6m.pkl\"\n",
    "elif curr_task == \"next_diag_12m\":\n",
    "    finetune_data_path = f\"./data_process/{config.dataset}-processed/mimic_nextdiag_12m.pkl\"\n",
    "else:\n",
    "    finetune_data_path = f\"./data_process/{config.dataset}-processed/mimic_downstream.pkl\""
   ]
  },
  {
   "cell_type": "code",
   "execution_count": 6,
   "id": "57d4378a",
   "metadata": {
    "tags": []
   },
   "outputs": [
    {
     "name": "stdout",
     "output_type": "stream",
     "text": [
      "Max admissions per patient: 8\n"
     ]
    }
   ],
   "source": [
    "ehr_full_data = pickle.load(open(full_data_path, 'rb'))\n",
    "group_code_sentences = [expand_level3()[1]]\n",
    "diag_sentences = ehr_full_data[\"ICD9_CODE\"].values.tolist()\n",
    "med_sentences = ehr_full_data[\"NDC\"].values.tolist()\n",
    "lab_sentences = ehr_full_data[\"LAB_TEST\"].values.tolist()\n",
    "pro_sentences = ehr_full_data[\"PRO_CODE\"].values.tolist()\n",
    "age_sentences = [[str(c)] for c in set(ehr_full_data[\"AGE\"].values.tolist())] # important of [[]]\n",
    "adm_type_sentences = ehr_full_data[\"ADMISSION_TYPE\"].values.tolist()\n",
    "max_admissions = ehr_full_data.groupby(\"SUBJECT_ID\")[\"HADM_ID\"].nunique().max()\n",
    "config.max_num_adms = max_admissions\n",
    "print(f\"Max admissions per patient: {config.max_num_adms}\")"
   ]
  },
  {
   "cell_type": "code",
   "execution_count": 7,
   "id": "a8db4baa",
   "metadata": {
    "tags": []
   },
   "outputs": [
    {
     "name": "stdout",
     "output_type": "stream",
     "text": [
      "Age vocabulary size: 20\n",
      "Group code vocabulary size: 19\n"
     ]
    }
   ],
   "source": [
    "tokenizer = EHRTokenizer(age_sentences, group_code_sentences, diag_sentences, med_sentences, lab_sentences, \n",
    "                         pro_sentences, special_tokens=config.special_tokens, adm_types_sentences=adm_type_sentences)\n",
    "config.label_vocab_size = len(PHENO_ORDER)  # a set of predifined diseases\n",
    "config.global_vocab_size = len(tokenizer.vocab.id2word)\n",
    "config.age_vocab_size = tokenizer.token_number(\"age\")\n",
    "config.group_code_vocab_size = tokenizer.token_number(\"group\")\n",
    "print(f\"Age vocabulary size: {config.age_vocab_size}\")\n",
    "print(f\"Group code vocabulary size: {config.group_code_vocab_size}\")"
   ]
  },
  {
   "cell_type": "code",
   "execution_count": 8,
   "id": "4a50b960",
   "metadata": {
    "tags": []
   },
   "outputs": [
    {
     "name": "stdout",
     "output_type": "stream",
     "text": [
      "Percentage of DEATH in test dataset: 3.327211839688884 %\n",
      "Percentage of READMISSION in test dataset: 79.05368910014043 %\n",
      "Percentage of STAY>7 days in test dataset: 34.87090850167441 %\n"
     ]
    }
   ],
   "source": [
    "train_data, val_data, test_data = pickle.load(open(finetune_data_path, 'rb'))\n",
    "# example label percentage\n",
    "print(\"Percentage of DEATH in test dataset:\",\n",
    "      (test_data[\"DEATH\"] == True).mean() * 100, \"%\")\n",
    "\n",
    "print(\"Percentage of READMISSION in test dataset:\",\n",
    "      (test_data[\"READMISSION\"] == 1).mean() * 100, \"%\")\n",
    "\n",
    "print(\"Percentage of STAY>7 days in test dataset:\",\n",
    "      (test_data[\"STAY_DAYS\"] > 7).mean() * 100, \"%\")"
   ]
  },
  {
   "cell_type": "code",
   "execution_count": 9,
   "id": "09f0ec18",
   "metadata": {},
   "outputs": [],
   "source": [
    "train_dataset = FineTuneEHRDataset(train_data, tokenizer, token_type=config.token_type, task=curr_task, \n",
    "                                   max_num_adms=config.max_num_adms, group_code_thre=config.group_code_thre)\n",
    "val_dataset = FineTuneEHRDataset(val_data, tokenizer, token_type=config.token_type, task=curr_task, \n",
    "                                 max_num_adms=config.max_num_adms, group_code_thre=config.group_code_thre)\n",
    "test_dataset = FineTuneEHRDataset(test_data, tokenizer, token_type=config.token_type, task=curr_task, \n",
    "                                   max_num_adms=config.max_num_adms, group_code_thre=config.group_code_thre)"
   ]
  },
  {
   "cell_type": "code",
   "execution_count": 21,
   "id": "c893675c-8ca1-4c9d-817a-15099c64c382",
   "metadata": {
    "tags": []
   },
   "outputs": [],
   "source": [
    "def print_pheno_percentages(df: pd.DataFrame):\n",
    "    # 选出所有以 \"PHENO_\" 开头的列\n",
    "    pheno_cols = [c for c in df.columns if c.startswith(\"PHENO_\")]\n",
    "    \n",
    "    for col in pheno_cols:\n",
    "        # 计算该列中 1 的百分比\n",
    "        percentage = df[col].mean() * 100\n",
    "        print(f\"{col}: {percentage:.1f}%\")"
   ]
  },
  {
   "cell_type": "code",
   "execution_count": 22,
   "id": "7d9109e3-b219-4f32-91d8-d044762451d7",
   "metadata": {
    "tags": []
   },
   "outputs": [
    {
     "name": "stdout",
     "output_type": "stream",
     "text": [
      "PHENO_Acute and unspecified renal failure: 12.5%\n",
      "PHENO_Acute cerebrovascular disease: 0.4%\n",
      "PHENO_Acute myocardial infarction: 2.1%\n",
      "PHENO_Cardiac dysrhythmias: 14.3%\n",
      "PHENO_Chronic kidney disease: 13.7%\n",
      "PHENO_Chronic obstructive pulmonary disease: 4.6%\n",
      "PHENO_Conduction disorders: 1.2%\n",
      "PHENO_Congestive heart failure; nonhypertensive: 12.5%\n",
      "PHENO_Coronary atherosclerosis and related: 13.5%\n",
      "PHENO_Disorders of lipid metabolism: 19.8%\n",
      "PHENO_Essential hypertension: 21.7%\n",
      "PHENO_Fluid and electrolyte disorders: 17.1%\n",
      "PHENO_Gastrointestinal hemorrhage: 2.2%\n",
      "PHENO_Hypertension with complications: 11.5%\n",
      "PHENO_Other liver diseases: 0.5%\n",
      "PHENO_Other lower respiratory disease: 9.2%\n",
      "PHENO_Pneumonia: 4.2%\n",
      "PHENO_Septicemia (except in labor): 4.7%\n"
     ]
    }
   ],
   "source": [
    "print_pheno_percentages(test_data)"
   ]
  },
  {
   "cell_type": "code",
   "execution_count": 10,
   "id": "899dfc28",
   "metadata": {},
   "outputs": [
    {
     "name": "stdout",
     "output_type": "stream",
     "text": [
      "857 876\n"
     ]
    }
   ],
   "source": [
    "long_adm_seq_crite = 3\n",
    "val_long_seq_idx, test_long_seq_idx = [], []\n",
    "for i in range(len(val_dataset)):\n",
    "    hadm_id = list(val_dataset.records.keys())[i]\n",
    "    num_adms = len(val_dataset.records[hadm_id])\n",
    "    if num_adms >= long_adm_seq_crite:\n",
    "        val_long_seq_idx.append(i)\n",
    "for i in range(len(test_dataset)):\n",
    "    hadm_id = list(test_dataset.records.keys())[i]\n",
    "    num_adms = len(test_dataset.records[hadm_id])\n",
    "    if num_adms >= long_adm_seq_crite:\n",
    "        test_long_seq_idx.append(i)\n",
    "print(len(val_long_seq_idx), len(test_long_seq_idx))"
   ]
  },
  {
   "cell_type": "code",
   "execution_count": 11,
   "id": "98c78018",
   "metadata": {},
   "outputs": [
    {
     "name": "stdout",
     "output_type": "stream",
     "text": [
      "Mean group token numer per patient 0.874014598540146\n"
     ]
    }
   ],
   "source": [
    "num_group_code = []\n",
    "for i in range(len(train_dataset)):\n",
    "    input_ids, token_types, adm_index, age_ids, diag_group_codes, labels = train_dataset[i]\n",
    "    count = (token_types[0] == 6).sum().item()\n",
    "    num_group_code.append(count)\n",
    "print(\"Mean group token numer per patient\", np.mean(num_group_code))"
   ]
  },
  {
   "cell_type": "code",
   "execution_count": 12,
   "id": "d71f325f",
   "metadata": {},
   "outputs": [],
   "source": [
    "train_dataloader = DataLoader(\n",
    "    train_dataset,\n",
    "    collate_fn=batcher(tokenizer, n_token_type=len(config.token_type), is_pretrain = False),\n",
    "    shuffle=True,\n",
    "    batch_size=config.batch_size,\n",
    ")\n",
    "\n",
    "val_dataloader = DataLoader(\n",
    "    val_dataset,\n",
    "    collate_fn=batcher(tokenizer, n_token_type=len(config.token_type), is_pretrain = False),\n",
    "    shuffle=False,\n",
    "    batch_size=config.batch_size,\n",
    ")\n",
    "\n",
    "test_dataloader = DataLoader(\n",
    "    test_dataset,\n",
    "    collate_fn=batcher(tokenizer, n_token_type=len(config.token_type), is_pretrain = False),\n",
    "    shuffle=False,\n",
    "    batch_size=config.batch_size,\n",
    ")"
   ]
  },
  {
   "cell_type": "code",
   "execution_count": 13,
   "id": "7b46906f",
   "metadata": {},
   "outputs": [
    {
     "name": "stdout",
     "output_type": "stream",
     "text": [
      "All pass!\n"
     ]
    }
   ],
   "source": [
    "for batch in train_dataloader:\n",
    "    pass  # just to check if the dataloader works\n",
    "for batch in val_dataloader:\n",
    "    pass  # just to check if the dataloader works\n",
    "for batch in test_dataloader:\n",
    "    pass  # just to check if the dataloader works\n",
    "print(\"All pass!\")"
   ]
  },
  {
   "cell_type": "code",
   "execution_count": 14,
   "id": "10339a18",
   "metadata": {},
   "outputs": [],
   "source": [
    "if curr_task in [\"death\", \"stay\", \"readmission\"]:\n",
    "    eval_metric = \"f1\"\n",
    "    task_type = \"binary\"\n",
    "    loss_fn = F.binary_cross_entropy_with_logits\n",
    "else:\n",
    "    eval_metric = \"f1\"\n",
    "    task_type = \"l2r\"\n",
    "    loss_fn = lambda x, y: F.binary_cross_entropy_with_logits(x, y)"
   ]
  },
  {
   "cell_type": "code",
   "execution_count": 15,
   "id": "d5717b84",
   "metadata": {},
   "outputs": [
    {
     "name": "stdout",
     "output_type": "stream",
     "text": [
      "Input IDs shape: torch.Size([32, 233])\n",
      "Token Types shape: torch.Size([32, 233])\n",
      "Admission Index shape: torch.Size([32, 233])\n",
      "Age IDs shape: torch.Size([32, 6])\n",
      "Diag Code Group Dict number: 32\n",
      "Labels shape: torch.Size([32, 18])\n"
     ]
    }
   ],
   "source": [
    "input_ids, token_types, adm_index, age_ids, diag_code_group_dicts, labels = next(iter(train_dataloader))\n",
    "print(\"Input IDs shape:\", input_ids.shape)\n",
    "print(\"Token Types shape:\", token_types.shape)\n",
    "print(\"Admission Index shape:\", adm_index.shape)\n",
    "print(\"Age IDs shape:\", age_ids.shape)\n",
    "print(\"Diag Code Group Dict number:\", len(diag_code_group_dicts))\n",
    "print(\"Labels shape:\", labels.shape)"
   ]
  },
  {
   "cell_type": "markdown",
   "id": "814e9e16",
   "metadata": {},
   "source": [
    "# Model Walkthrough"
   ]
  },
  {
   "cell_type": "code",
   "execution_count": 16,
   "id": "af42068a",
   "metadata": {},
   "outputs": [
    {
     "name": "stdout",
     "output_type": "stream",
     "text": [
      "MIMIC-IV-0.7-64-0.05-0.05-0\n"
     ]
    }
   ],
   "source": [
    "# load pretrained model\n",
    "if config.use_pretrained_model:\n",
    "    pretrain_exp_name = (\n",
    "    f\"{config.dataset}-{config.pretrain_mask_rate}-{config.d_model}-{config.pretrain_cls_ontology_weight}-{config.pretrain_visit_ontology_weight}-{config.pretrain_adm_type_weight}\"\n",
    ")\n",
    "    print(pretrain_exp_name)\n",
    "    save_path = \"./pretrained_models/\" + pretrain_exp_name\n",
    "    state_dict = torch.load(f\"{save_path}/pretrained_model.pt\", map_location=\"cpu\")"
   ]
  },
  {
   "cell_type": "code",
   "execution_count": 17,
   "id": "f0fed5f6-b245-4bc3-b252-f6af0756f18a",
   "metadata": {
    "tags": []
   },
   "outputs": [
    {
     "name": "stdout",
     "output_type": "stream",
     "text": [
      "================================1==================================\n"
     ]
    },
    {
     "name": "stderr",
     "output_type": "stream",
     "text": [
      "Epoch 001: 100%|██████████| 215/215 [00:14<00:00, 15.19it/s, loss=0.3455]\n",
      "Running inference: 100%|██████████| 158/158 [00:07<00:00, 21.18it/s]\n",
      "Running inference: 100%|██████████| 159/159 [00:07<00:00, 22.18it/s]\n"
     ]
    },
    {
     "name": "stdout",
     "output_type": "stream",
     "text": [
      "Validation: {'precision': 36.9375, 'recall': 23.8078, 'f1': 26.5045, 'auc': 75.7872, 'prauc': 39.6295}\n",
      "Test:      {'precision': 36.552, 'recall': 24.0693, 'f1': 26.7371, 'auc': 75.1707, 'prauc': 39.5881}\n",
      "\n",
      "Validation-long: {'precision': 37.7744, 'recall': 23.3737, 'f1': 26.8867, 'auc': 73.8472, 'prauc': 40.8712}\n",
      "Test-long: {'precision': 37.8901, 'recall': 23.8648, 'f1': 27.6819, 'auc': 74.3567, 'prauc': 41.9806}\n",
      "\n"
     ]
    },
    {
     "name": "stderr",
     "output_type": "stream",
     "text": [
      "Epoch 002: 100%|██████████| 215/215 [00:13<00:00, 15.78it/s, loss=0.2944]\n",
      "Running inference: 100%|██████████| 158/158 [00:07<00:00, 22.36it/s]\n",
      "Running inference: 100%|██████████| 159/159 [00:07<00:00, 22.36it/s]\n"
     ]
    },
    {
     "name": "stdout",
     "output_type": "stream",
     "text": [
      "Validation: {'precision': 45.8114, 'recall': 30.4595, 'f1': 33.0265, 'auc': 77.8402, 'prauc': 42.4885}\n",
      "Test:      {'precision': 40.3334, 'recall': 30.8261, 'f1': 33.3329, 'auc': 77.9875, 'prauc': 42.6575}\n",
      "\n",
      "Validation-long: {'precision': 40.8347, 'recall': 31.941, 'f1': 34.1491, 'auc': 76.4925, 'prauc': 43.8324}\n",
      "Test-long: {'precision': 42.1695, 'recall': 32.4803, 'f1': 35.0707, 'auc': 78.1443, 'prauc': 44.9649}\n",
      "\n"
     ]
    },
    {
     "name": "stderr",
     "output_type": "stream",
     "text": [
      "Epoch 003: 100%|██████████| 215/215 [00:13<00:00, 15.82it/s, loss=0.2785]\n",
      "Running inference: 100%|██████████| 158/158 [00:07<00:00, 22.42it/s]\n",
      "Running inference: 100%|██████████| 159/159 [00:07<00:00, 22.37it/s]\n"
     ]
    },
    {
     "name": "stdout",
     "output_type": "stream",
     "text": [
      "Validation: {'precision': 45.0562, 'recall': 30.4348, 'f1': 33.7916, 'auc': 78.4262, 'prauc': 43.947}\n",
      "Test:      {'precision': 45.0663, 'recall': 31.0304, 'f1': 34.1446, 'auc': 78.3171, 'prauc': 43.9224}\n",
      "\n",
      "Validation-long: {'precision': 44.716, 'recall': 30.5493, 'f1': 33.2146, 'auc': 77.5627, 'prauc': 45.3599}\n",
      "Test-long: {'precision': 46.7461, 'recall': 31.769, 'f1': 34.6633, 'auc': 77.6224, 'prauc': 46.1678}\n",
      "\n"
     ]
    },
    {
     "name": "stderr",
     "output_type": "stream",
     "text": [
      "Epoch 004: 100%|██████████| 215/215 [00:13<00:00, 15.43it/s, loss=0.2702]\n",
      "Running inference: 100%|██████████| 158/158 [00:07<00:00, 22.42it/s]\n",
      "Running inference: 100%|██████████| 159/159 [00:07<00:00, 22.36it/s]\n"
     ]
    },
    {
     "name": "stdout",
     "output_type": "stream",
     "text": [
      "Validation: {'precision': 43.6343, 'recall': 33.1356, 'f1': 35.2542, 'auc': 78.6207, 'prauc': 44.1276}\n",
      "Test:      {'precision': 43.4734, 'recall': 33.5907, 'f1': 35.5525, 'auc': 78.7883, 'prauc': 44.269}\n",
      "\n",
      "Validation-long: {'precision': 44.6438, 'recall': 34.8125, 'f1': 35.889, 'auc': 79.7636, 'prauc': 45.6591}\n",
      "Test-long: {'precision': 43.4849, 'recall': 35.4697, 'f1': 37.0409, 'auc': 78.6286, 'prauc': 46.7569}\n",
      "\n"
     ]
    },
    {
     "name": "stderr",
     "output_type": "stream",
     "text": [
      "Epoch 005: 100%|██████████| 215/215 [00:13<00:00, 15.82it/s, loss=0.2639]\n",
      "Running inference: 100%|██████████| 158/158 [00:07<00:00, 22.34it/s]\n",
      "Running inference: 100%|██████████| 159/159 [00:07<00:00, 22.37it/s]\n"
     ]
    },
    {
     "name": "stdout",
     "output_type": "stream",
     "text": [
      "Validation: {'precision': 43.37, 'recall': 35.0938, 'f1': 37.8699, 'auc': 78.6786, 'prauc': 44.3419}\n",
      "Test:      {'precision': 43.3261, 'recall': 35.8398, 'f1': 38.2406, 'auc': 78.9037, 'prauc': 44.5911}\n",
      "\n",
      "Validation-long: {'precision': 43.2749, 'recall': 36.5904, 'f1': 38.5201, 'auc': 80.1701, 'prauc': 45.9799}\n",
      "Test-long: {'precision': 44.9644, 'recall': 38.3471, 'f1': 40.4877, 'auc': 79.6296, 'prauc': 47.44}\n",
      "\n"
     ]
    },
    {
     "name": "stderr",
     "output_type": "stream",
     "text": [
      "Epoch 006: 100%|██████████| 215/215 [00:13<00:00, 15.81it/s, loss=0.2580]\n",
      "Running inference: 100%|██████████| 158/158 [00:07<00:00, 22.22it/s]\n",
      "Running inference: 100%|██████████| 159/159 [00:07<00:00, 21.23it/s]\n"
     ]
    },
    {
     "name": "stdout",
     "output_type": "stream",
     "text": [
      "Validation: {'precision': 45.9145, 'recall': 32.8506, 'f1': 36.6911, 'auc': 78.5317, 'prauc': 44.5156}\n",
      "Test:      {'precision': 43.4138, 'recall': 33.4891, 'f1': 36.8289, 'auc': 78.5941, 'prauc': 44.2746}\n",
      "\n",
      "Validation-long: {'precision': 44.2107, 'recall': 35.0078, 'f1': 37.5882, 'auc': 80.1729, 'prauc': 46.1305}\n",
      "Test-long: {'precision': 45.048, 'recall': 35.9551, 'f1': 38.8169, 'auc': 77.7594, 'prauc': 46.7653}\n",
      "\n"
     ]
    },
    {
     "name": "stderr",
     "output_type": "stream",
     "text": [
      "Epoch 007: 100%|██████████| 215/215 [00:13<00:00, 15.78it/s, loss=0.2515]\n",
      "Running inference: 100%|██████████| 158/158 [00:07<00:00, 22.21it/s]\n",
      "Running inference: 100%|██████████| 159/159 [00:07<00:00, 21.85it/s]\n"
     ]
    },
    {
     "name": "stdout",
     "output_type": "stream",
     "text": [
      "Validation: {'precision': 43.5128, 'recall': 37.2548, 'f1': 38.7213, 'auc': 78.2387, 'prauc': 44.2077}\n",
      "Test:      {'precision': 41.9198, 'recall': 37.5463, 'f1': 38.7702, 'auc': 78.4949, 'prauc': 44.335}\n",
      "\n",
      "Validation-long: {'precision': 42.2098, 'recall': 39.0421, 'f1': 39.4803, 'auc': 79.8818, 'prauc': 45.7969}\n",
      "Test-long: {'precision': 43.822, 'recall': 39.4965, 'f1': 40.378, 'auc': 76.7886, 'prauc': 47.0863}\n",
      "\n"
     ]
    },
    {
     "name": "stderr",
     "output_type": "stream",
     "text": [
      "Epoch 008: 100%|██████████| 215/215 [00:13<00:00, 15.65it/s, loss=0.2447]\n",
      "Running inference: 100%|██████████| 158/158 [00:07<00:00, 22.32it/s]\n",
      "Running inference: 100%|██████████| 159/159 [00:07<00:00, 22.26it/s]\n"
     ]
    },
    {
     "name": "stdout",
     "output_type": "stream",
     "text": [
      "Validation: {'precision': 43.7627, 'recall': 34.3621, 'f1': 37.827, 'auc': 78.3258, 'prauc': 43.8981}\n",
      "Test:      {'precision': 45.5828, 'recall': 35.2359, 'f1': 38.2606, 'auc': 78.3745, 'prauc': 43.9734}\n",
      "\n",
      "Validation-long: {'precision': 45.2915, 'recall': 36.3341, 'f1': 38.7608, 'auc': 79.881, 'prauc': 45.8359}\n",
      "Test-long: {'precision': 46.7223, 'recall': 38.4772, 'f1': 40.5708, 'auc': 77.9844, 'prauc': 46.6752}\n",
      "\n"
     ]
    },
    {
     "name": "stderr",
     "output_type": "stream",
     "text": [
      "Epoch 009: 100%|██████████| 215/215 [00:13<00:00, 15.75it/s, loss=0.2391]\n",
      "Running inference: 100%|██████████| 158/158 [00:07<00:00, 21.25it/s]\n",
      "Running inference: 100%|██████████| 159/159 [00:07<00:00, 22.28it/s]\n"
     ]
    },
    {
     "name": "stdout",
     "output_type": "stream",
     "text": [
      "Validation: {'precision': 44.8478, 'recall': 36.4529, 'f1': 37.1667, 'auc': 78.2083, 'prauc': 43.8804}\n",
      "Test:      {'precision': 43.5634, 'recall': 36.8149, 'f1': 37.2713, 'auc': 78.5832, 'prauc': 44.1224}\n",
      "\n",
      "Validation-long: {'precision': 41.7563, 'recall': 37.5398, 'f1': 37.4118, 'auc': 79.8892, 'prauc': 46.4864}\n",
      "Test-long: {'precision': 46.1119, 'recall': 38.6932, 'f1': 38.8833, 'auc': 78.053, 'prauc': 47.202}\n",
      "\n"
     ]
    },
    {
     "name": "stderr",
     "output_type": "stream",
     "text": [
      "Epoch 010: 100%|██████████| 215/215 [00:13<00:00, 15.77it/s, loss=0.2304]\n",
      "Running inference: 100%|██████████| 158/158 [00:07<00:00, 22.29it/s]\n",
      "Running inference: 100%|██████████| 159/159 [00:07<00:00, 22.16it/s]\n"
     ]
    },
    {
     "name": "stdout",
     "output_type": "stream",
     "text": [
      "Validation: {'precision': 44.4106, 'recall': 37.0385, 'f1': 38.8868, 'auc': 77.7496, 'prauc': 43.5004}\n",
      "Test:      {'precision': 43.1608, 'recall': 37.4057, 'f1': 38.7721, 'auc': 78.1927, 'prauc': 43.4668}\n",
      "\n",
      "Validation-long: {'precision': 42.0383, 'recall': 39.725, 'f1': 39.4884, 'auc': 79.2909, 'prauc': 50.4515}\n",
      "Test-long: {'precision': 43.0288, 'recall': 41.677, 'f1': 41.3499, 'auc': 78.1394, 'prauc': 46.3148}\n",
      "\n"
     ]
    },
    {
     "name": "stderr",
     "output_type": "stream",
     "text": [
      "Epoch 011: 100%|██████████| 215/215 [00:13<00:00, 15.66it/s, loss=0.2248]\n",
      "Running inference: 100%|██████████| 158/158 [00:07<00:00, 22.13it/s]\n",
      "Running inference: 100%|██████████| 159/159 [00:07<00:00, 22.09it/s]\n"
     ]
    },
    {
     "name": "stdout",
     "output_type": "stream",
     "text": [
      "Validation: {'precision': 42.879, 'recall': 35.8733, 'f1': 37.7698, 'auc': 77.5944, 'prauc': 43.0927}\n",
      "Test:      {'precision': 43.0739, 'recall': 36.4833, 'f1': 38.0745, 'auc': 77.887, 'prauc': 42.9901}\n",
      "\n",
      "Validation-long: {'precision': 42.5056, 'recall': 37.8669, 'f1': 38.8709, 'auc': 78.6667, 'prauc': 45.0196}\n",
      "Test-long: {'precision': 44.1152, 'recall': 39.2723, 'f1': 40.1601, 'auc': 78.0279, 'prauc': 45.905}\n",
      "\n"
     ]
    },
    {
     "name": "stderr",
     "output_type": "stream",
     "text": [
      "Epoch 012: 100%|██████████| 215/215 [00:13<00:00, 15.37it/s, loss=0.2190]\n",
      "Running inference: 100%|██████████| 158/158 [00:07<00:00, 22.23it/s]\n",
      "Running inference: 100%|██████████| 159/159 [00:07<00:00, 22.31it/s]\n"
     ]
    },
    {
     "name": "stdout",
     "output_type": "stream",
     "text": [
      "Validation: {'precision': 44.9946, 'recall': 38.672, 'f1': 39.1425, 'auc': 77.4788, 'prauc': 42.9783}\n",
      "Test:      {'precision': 41.1056, 'recall': 39.1688, 'f1': 39.2044, 'auc': 77.743, 'prauc': 42.9394}\n",
      "\n",
      "Validation-long: {'precision': 39.9279, 'recall': 41.7034, 'f1': 39.9653, 'auc': 78.2841, 'prauc': 49.7758}\n",
      "Test-long: {'precision': 42.5996, 'recall': 43.0985, 'f1': 41.5267, 'auc': 77.7112, 'prauc': 46.0571}\n",
      "\n"
     ]
    },
    {
     "name": "stderr",
     "output_type": "stream",
     "text": [
      "Epoch 013: 100%|██████████| 215/215 [00:13<00:00, 15.81it/s, loss=0.2103]\n",
      "Running inference: 100%|██████████| 158/158 [00:07<00:00, 22.21it/s]\n",
      "Running inference: 100%|██████████| 159/159 [00:07<00:00, 22.18it/s]\n"
     ]
    },
    {
     "name": "stdout",
     "output_type": "stream",
     "text": [
      "Validation: {'precision': 44.5149, 'recall': 36.605, 'f1': 38.888, 'auc': 77.5513, 'prauc': 42.9512}\n",
      "Test:      {'precision': 44.2454, 'recall': 37.3589, 'f1': 39.249, 'auc': 77.789, 'prauc': 43.0541}\n",
      "\n",
      "Validation-long: {'precision': 45.7686, 'recall': 38.7002, 'f1': 40.1706, 'auc': 79.5251, 'prauc': 49.6271}\n",
      "Test-long: {'precision': 45.8855, 'recall': 40.146, 'f1': 41.1979, 'auc': 77.5085, 'prauc': 46.1884}\n",
      "\n"
     ]
    },
    {
     "name": "stderr",
     "output_type": "stream",
     "text": [
      "Epoch 014: 100%|██████████| 215/215 [00:13<00:00, 15.77it/s, loss=0.2035]\n",
      "Running inference: 100%|██████████| 158/158 [00:07<00:00, 21.07it/s]\n",
      "Running inference: 100%|██████████| 159/159 [00:07<00:00, 21.92it/s]\n"
     ]
    },
    {
     "name": "stdout",
     "output_type": "stream",
     "text": [
      "Validation: {'precision': 43.4617, 'recall': 34.4843, 'f1': 37.2701, 'auc': 76.42, 'prauc': 42.135}\n",
      "Test:      {'precision': 43.2196, 'recall': 34.711, 'f1': 37.1318, 'auc': 76.9451, 'prauc': 42.1471}\n",
      "\n",
      "Validation-long: {'precision': 43.5552, 'recall': 36.1119, 'f1': 38.3028, 'auc': 78.5457, 'prauc': 49.1639}\n",
      "Test-long: {'precision': 46.7689, 'recall': 37.2745, 'f1': 39.5279, 'auc': 76.7334, 'prauc': 46.332}\n",
      "\n"
     ]
    },
    {
     "name": "stderr",
     "output_type": "stream",
     "text": [
      "Epoch 015: 100%|██████████| 215/215 [00:13<00:00, 15.75it/s, loss=0.1978]\n",
      "Running inference: 100%|██████████| 158/158 [00:07<00:00, 22.39it/s]\n",
      "Running inference: 100%|██████████| 159/159 [00:07<00:00, 22.31it/s]\n"
     ]
    },
    {
     "name": "stdout",
     "output_type": "stream",
     "text": [
      "Validation: {'precision': 45.0287, 'recall': 37.1159, 'f1': 39.1842, 'auc': 76.977, 'prauc': 42.531}\n",
      "Test:      {'precision': 48.1862, 'recall': 37.3238, 'f1': 38.9731, 'auc': 77.2337, 'prauc': 42.4459}\n",
      "\n",
      "Validation-long: {'precision': 47.8113, 'recall': 44.4052, 'f1': 44.5291, 'auc': 78.3805, 'prauc': 49.5209}\n",
      "Test-long: {'precision': 49.0784, 'recall': 40.5652, 'f1': 41.1218, 'auc': 76.4218, 'prauc': 45.2912}\n",
      "\n"
     ]
    },
    {
     "name": "stderr",
     "output_type": "stream",
     "text": [
      "Epoch 016: 100%|██████████| 215/215 [00:13<00:00, 15.79it/s, loss=0.1915]\n",
      "Running inference: 100%|██████████| 158/158 [00:07<00:00, 22.31it/s]\n",
      "Running inference: 100%|██████████| 159/159 [00:07<00:00, 22.27it/s]\n"
     ]
    },
    {
     "name": "stdout",
     "output_type": "stream",
     "text": [
      "Validation: {'precision': 42.6418, 'recall': 36.4204, 'f1': 37.8542, 'auc': 76.9073, 'prauc': 42.2358}\n",
      "Test:      {'precision': 42.6575, 'recall': 36.8316, 'f1': 38.1285, 'auc': 77.0029, 'prauc': 42.3226}\n",
      "\n",
      "Validation-long: {'precision': 42.1887, 'recall': 38.0727, 'f1': 39.2247, 'auc': 78.5259, 'prauc': 49.4962}\n",
      "Test-long: {'precision': 49.6929, 'recall': 38.6638, 'f1': 40.2633, 'auc': 76.6759, 'prauc': 45.2864}\n",
      "\n"
     ]
    },
    {
     "name": "stderr",
     "output_type": "stream",
     "text": [
      "Epoch 017: 100%|██████████| 215/215 [00:14<00:00, 15.33it/s, loss=0.1864]\n",
      "Running inference: 100%|██████████| 158/158 [00:07<00:00, 22.36it/s]\n",
      "Running inference: 100%|██████████| 159/159 [00:07<00:00, 22.30it/s]\n"
     ]
    },
    {
     "name": "stdout",
     "output_type": "stream",
     "text": [
      "Validation: {'precision': 43.3221, 'recall': 35.9807, 'f1': 37.7722, 'auc': 76.4447, 'prauc': 41.824}\n",
      "Test:      {'precision': 43.1291, 'recall': 36.6021, 'f1': 38.0288, 'auc': 76.865, 'prauc': 41.9096}\n",
      "\n",
      "Validation-long: {'precision': 49.3411, 'recall': 43.8908, 'f1': 44.4093, 'auc': 77.1086, 'prauc': 48.5757}\n",
      "Test-long: {'precision': 43.3758, 'recall': 39.8778, 'f1': 40.1748, 'auc': 76.7531, 'prauc': 44.5805}\n",
      "\n"
     ]
    },
    {
     "name": "stderr",
     "output_type": "stream",
     "text": [
      "Epoch 018: 100%|██████████| 215/215 [00:13<00:00, 15.73it/s, loss=0.1807]\n",
      "Running inference: 100%|██████████| 158/158 [00:07<00:00, 22.28it/s]\n",
      "Running inference: 100%|██████████| 159/159 [00:07<00:00, 22.29it/s]\n"
     ]
    },
    {
     "name": "stdout",
     "output_type": "stream",
     "text": [
      "Validation: {'precision': 41.7084, 'recall': 37.4804, 'f1': 38.7407, 'auc': 76.5099, 'prauc': 41.9445}\n",
      "Test:      {'precision': 44.3178, 'recall': 38.294, 'f1': 39.309, 'auc': 77.0684, 'prauc': 42.1529}\n",
      "\n",
      "Validation-long: {'precision': 41.0972, 'recall': 38.7149, 'f1': 39.1965, 'auc': 78.2617, 'prauc': 45.2273}\n",
      "Test-long: {'precision': 49.8964, 'recall': 39.607, 'f1': 40.7319, 'auc': 76.144, 'prauc': 45.4396}\n",
      "\n"
     ]
    },
    {
     "name": "stderr",
     "output_type": "stream",
     "text": [
      "Epoch 019: 100%|██████████| 215/215 [00:13<00:00, 15.90it/s, loss=0.1763]\n",
      "Running inference: 100%|██████████| 158/158 [00:07<00:00, 22.44it/s]\n",
      "Running inference: 100%|██████████| 159/159 [00:07<00:00, 21.33it/s]\n"
     ]
    },
    {
     "name": "stdout",
     "output_type": "stream",
     "text": [
      "Validation: {'precision': 44.6243, 'recall': 37.4169, 'f1': 38.7566, 'auc': 75.9698, 'prauc': 41.5077}\n",
      "Test:      {'precision': 43.0798, 'recall': 37.6866, 'f1': 38.5332, 'auc': 76.6936, 'prauc': 41.6065}\n",
      "\n",
      "Validation-long: {'precision': 47.2056, 'recall': 44.9207, 'f1': 45.001, 'auc': 77.5486, 'prauc': 49.0121}\n",
      "Test-long: {'precision': 53.9022, 'recall': 40.2315, 'f1': 40.8627, 'auc': 75.6841, 'prauc': 45.0319}\n",
      "\n"
     ]
    },
    {
     "name": "stderr",
     "output_type": "stream",
     "text": [
      "Epoch 020: 100%|██████████| 215/215 [00:13<00:00, 15.89it/s, loss=0.1702]\n",
      "Running inference: 100%|██████████| 158/158 [00:07<00:00, 22.45it/s]\n",
      "Running inference: 100%|██████████| 159/159 [00:07<00:00, 22.26it/s]\n"
     ]
    },
    {
     "name": "stdout",
     "output_type": "stream",
     "text": [
      "Validation: {'precision': 42.5888, 'recall': 38.2732, 'f1': 39.2431, 'auc': 76.1605, 'prauc': 41.545}\n",
      "Test:      {'precision': 42.5967, 'recall': 38.3153, 'f1': 39.1726, 'auc': 76.7653, 'prauc': 41.698}\n",
      "\n",
      "Validation-long: {'precision': 48.7057, 'recall': 46.4254, 'f1': 46.34, 'auc': 78.1161, 'prauc': 49.3833}\n",
      "Test-long: {'precision': 44.6651, 'recall': 41.3, 'f1': 41.5424, 'auc': 76.3519, 'prauc': 44.6018}\n",
      "\n"
     ]
    },
    {
     "name": "stderr",
     "output_type": "stream",
     "text": [
      "Epoch 021: 100%|██████████| 215/215 [00:13<00:00, 15.81it/s, loss=0.1673]\n",
      "Running inference: 100%|██████████| 158/158 [00:07<00:00, 22.27it/s]\n",
      "Running inference: 100%|██████████| 159/159 [00:07<00:00, 21.95it/s]\n"
     ]
    },
    {
     "name": "stdout",
     "output_type": "stream",
     "text": [
      "Validation: {'precision': 41.6563, 'recall': 37.2017, 'f1': 38.5874, 'auc': 76.2764, 'prauc': 41.4246}\n",
      "Test:      {'precision': 43.4826, 'recall': 37.744, 'f1': 38.8209, 'auc': 76.6463, 'prauc': 41.5733}\n",
      "\n",
      "Validation-long: {'precision': 41.8585, 'recall': 39.0595, 'f1': 39.9746, 'auc': 77.7316, 'prauc': 48.6734}\n",
      "Test-long: {'precision': 43.6057, 'recall': 40.1965, 'f1': 40.9902, 'auc': 75.391, 'prauc': 44.2956}\n",
      "\n"
     ]
    },
    {
     "name": "stderr",
     "output_type": "stream",
     "text": [
      "Epoch 022: 100%|██████████| 215/215 [00:13<00:00, 15.37it/s, loss=0.1606]\n",
      "Running inference: 100%|██████████| 158/158 [00:07<00:00, 20.04it/s]\n",
      "Running inference: 100%|██████████| 159/159 [00:07<00:00, 21.00it/s]\n"
     ]
    },
    {
     "name": "stdout",
     "output_type": "stream",
     "text": [
      "Validation: {'precision': 42.7035, 'recall': 37.0929, 'f1': 38.5668, 'auc': 76.2551, 'prauc': 41.628}\n",
      "Test:      {'precision': 43.2752, 'recall': 37.2168, 'f1': 38.5316, 'auc': 76.7048, 'prauc': 41.7594}\n",
      "\n",
      "Validation-long: {'precision': 40.5188, 'recall': 38.1738, 'f1': 38.8462, 'auc': 77.5048, 'prauc': 48.4983}\n",
      "Test-long: {'precision': 44.9808, 'recall': 39.0316, 'f1': 40.1239, 'auc': 76.1917, 'prauc': 44.4517}\n",
      "\n"
     ]
    },
    {
     "name": "stderr",
     "output_type": "stream",
     "text": [
      "Epoch 023: 100%|██████████| 215/215 [00:14<00:00, 14.64it/s, loss=0.1574]\n",
      "Running inference: 100%|██████████| 158/158 [00:07<00:00, 21.34it/s]\n",
      "Running inference: 100%|██████████| 159/159 [00:07<00:00, 21.21it/s]\n"
     ]
    },
    {
     "name": "stdout",
     "output_type": "stream",
     "text": [
      "Validation: {'precision': 40.6982, 'recall': 38.0392, 'f1': 38.7541, 'auc': 76.2544, 'prauc': 41.1767}\n",
      "Test:      {'precision': 42.6608, 'recall': 38.9139, 'f1': 39.6203, 'auc': 76.6444, 'prauc': 41.5313}\n",
      "\n",
      "Validation-long: {'precision': 41.0336, 'recall': 41.5282, 'f1': 40.6499, 'auc': 77.6503, 'prauc': 48.4266}\n",
      "Test-long: {'precision': 47.0773, 'recall': 41.876, 'f1': 41.9337, 'auc': 75.4031, 'prauc': 44.5574}\n",
      "\n"
     ]
    },
    {
     "name": "stderr",
     "output_type": "stream",
     "text": [
      "Epoch 024: 100%|██████████| 215/215 [00:14<00:00, 14.72it/s, loss=0.1521]\n",
      "Running inference: 100%|██████████| 158/158 [00:07<00:00, 21.28it/s]\n",
      "Running inference: 100%|██████████| 159/159 [00:07<00:00, 21.30it/s]\n"
     ]
    },
    {
     "name": "stdout",
     "output_type": "stream",
     "text": [
      "Validation: {'precision': 42.5886, 'recall': 34.717, 'f1': 37.3213, 'auc': 75.8815, 'prauc': 41.0662}\n",
      "Test:      {'precision': 43.1039, 'recall': 35.0906, 'f1': 37.4589, 'auc': 76.1145, 'prauc': 41.2547}\n",
      "\n",
      "Validation-long: {'precision': 41.9141, 'recall': 36.4903, 'f1': 38.4314, 'auc': 76.8725, 'prauc': 47.7691}\n",
      "Test-long: {'precision': 43.637, 'recall': 37.4822, 'f1': 39.581, 'auc': 75.0902, 'prauc': 44.3096}\n",
      "\n"
     ]
    },
    {
     "name": "stderr",
     "output_type": "stream",
     "text": [
      "Epoch 025: 100%|██████████| 215/215 [00:15<00:00, 14.32it/s, loss=0.1448]\n",
      "Running inference: 100%|██████████| 158/158 [00:07<00:00, 21.15it/s]\n",
      "Running inference: 100%|██████████| 159/159 [00:07<00:00, 21.22it/s]\n"
     ]
    },
    {
     "name": "stdout",
     "output_type": "stream",
     "text": [
      "Validation: {'precision': 39.5821, 'recall': 37.949, 'f1': 38.1598, 'auc': 75.6213, 'prauc': 40.621}\n",
      "Test:      {'precision': 42.014, 'recall': 38.7571, 'f1': 39.1678, 'auc': 76.0791, 'prauc': 40.7662}\n",
      "\n",
      "Validation-long: {'precision': 40.6621, 'recall': 40.0542, 'f1': 39.1777, 'auc': 77.0728, 'prauc': 47.8049}\n",
      "Test-long: {'precision': 43.0226, 'recall': 40.0346, 'f1': 40.1148, 'auc': 75.8055, 'prauc': 43.8944}\n",
      "\n",
      "\n",
      "Early stopping triggered (no improvement for 5 epochs).\n",
      "\n",
      "Best validation performance:\n",
      "{'global': {'precision': 42.5888, 'recall': 38.2732, 'f1': 39.2431, 'auc': 76.1605, 'prauc': 41.545}, 'per_class':                                            precision   recall       f1  \\\n",
      "Acute and unspecified renal failure          41.8769  35.8686  38.6406   \n",
      "Acute cerebrovascular disease                 9.0909   2.7027   4.1667   \n",
      "Acute myocardial infarction                  16.2162   2.9851   5.0420   \n",
      "Cardiac dysrhythmias                         69.6789  68.1519  68.9069   \n",
      "Chronic kidney disease                       77.7264  72.3130  74.9220   \n",
      "Chronic obstructive pulmonary disease        57.1754  56.0268  56.5953   \n",
      "Conduction disorders                          0.0000   0.0000   0.0000   \n",
      "Congestive heart failure; nonhypertensive    72.3978  68.8163  70.5616   \n",
      "Coronary atherosclerosis and related         78.9289  73.8702  76.3158   \n",
      "Disorders of lipid metabolism                72.6442  79.8626  76.0826   \n",
      "Essential hypertension                       73.8267  77.9419  75.8285   \n",
      "Fluid and electrolyte disorders              43.4075  49.3218  46.1760   \n",
      "Gastrointestinal hemorrhage                   0.0000   0.0000   0.0000   \n",
      "Hypertension with complications              71.7838  66.0697  68.8083   \n",
      "Other liver diseases                          0.0000   0.0000   0.0000   \n",
      "Other lower respiratory disease              37.2549  24.4845  29.5490   \n",
      "Pneumonia                                    26.3158   1.3661   2.5974   \n",
      "Septicemia (except in labor)                 18.2741   9.1371  12.1827   \n",
      "\n",
      "                                               auc    prauc  \n",
      "Acute and unspecified renal failure        70.0006  38.8590  \n",
      "Acute cerebrovascular disease              65.0521   2.2777  \n",
      "Acute myocardial infarction                74.7330  11.8461  \n",
      "Cardiac dysrhythmias                       83.6864  74.9537  \n",
      "Chronic kidney disease                     90.7023  79.9122  \n",
      "Chronic obstructive pulmonary disease      87.5539  52.5546  \n",
      "Conduction disorders                       74.7301   5.1417  \n",
      "Congestive heart failure; nonhypertensive  88.8901  73.2585  \n",
      "Coronary atherosclerosis and related       92.4614  80.4820  \n",
      "Disorders of lipid metabolism              87.0634  76.3304  \n",
      "Essential hypertension                     84.7001  77.4186  \n",
      "Fluid and electrolyte disorders            64.0372  43.0205  \n",
      "Gastrointestinal hemorrhage                61.6132   4.1458  \n",
      "Hypertension with complications            90.2215  72.1219  \n",
      "Other liver diseases                       60.1376   1.4659  \n",
      "Other lower respiratory disease            66.9077  29.7306  \n",
      "Pneumonia                                  63.8673  11.5155  \n",
      "Septicemia (except in labor)               64.5318  12.7750  }\n",
      "Corresponding test performance:\n",
      "{'global': {'precision': 42.5967, 'recall': 38.3153, 'f1': 39.1726, 'auc': 76.7653, 'prauc': 41.698}, 'per_class':                                            precision   recall       f1  \\\n",
      "Acute and unspecified renal failure          42.4547  36.4107  39.2011   \n",
      "Acute cerebrovascular disease                 0.0000   0.0000   0.0000   \n",
      "Acute myocardial infarction                  22.9167   5.7292   9.1667   \n",
      "Cardiac dysrhythmias                         64.9178  62.4717  63.6713   \n",
      "Chronic kidney disease                       80.5629  72.2968  76.2063   \n",
      "Chronic obstructive pulmonary disease        56.5909  58.4507  57.5058   \n",
      "Conduction disorders                         20.0000   1.7544   3.2258   \n",
      "Congestive heart failure; nonhypertensive    71.9031  69.2308  70.5416   \n",
      "Coronary atherosclerosis and related         75.9184  74.4596  75.1819   \n",
      "Disorders of lipid metabolism                71.7454  81.0899  76.1320   \n",
      "Essential hypertension                       73.4817  79.0130  76.1470   \n",
      "Fluid and electrolyte disorders              41.9058  48.7713  45.0786   \n",
      "Gastrointestinal hemorrhage                   0.0000   0.0000   0.0000   \n",
      "Hypertension with complications              74.5399  68.2584  71.2610   \n",
      "Other liver diseases                          0.0000   0.0000   0.0000   \n",
      "Other lower respiratory disease              36.2903  21.0280  26.6272   \n",
      "Pneumonia                                    13.5135   1.2853   2.3474   \n",
      "Septicemia (except in labor)                 20.0000   9.4253  12.8125   \n",
      "\n",
      "                                               auc    prauc  \n",
      "Acute and unspecified renal failure        69.8704  37.6096  \n",
      "Acute cerebrovascular disease              68.6810   2.5435  \n",
      "Acute myocardial infarction                77.8065  14.0143  \n",
      "Cardiac dysrhythmias                       81.9697  70.2586  \n",
      "Chronic kidney disease                     91.3498  82.5460  \n",
      "Chronic obstructive pulmonary disease      86.5567  48.9052  \n",
      "Conduction disorders                       73.7646   7.5371  \n",
      "Congestive heart failure; nonhypertensive  89.1496  74.4279  \n",
      "Coronary atherosclerosis and related       92.3153  78.8446  \n",
      "Disorders of lipid metabolism              87.2269  74.7386  \n",
      "Essential hypertension                     85.8770  77.2039  \n",
      "Fluid and electrolyte disorders            62.9172  40.8581  \n",
      "Gastrointestinal hemorrhage                61.6513   6.4400  \n",
      "Hypertension with complications            91.3936  75.1552  \n",
      "Other liver diseases                       66.2210   1.8113  \n",
      "Other lower respiratory disease            65.8490  31.2395  \n",
      "Pneumonia                                  62.0050  11.2931  \n",
      "Septicemia (except in labor)               67.1703  15.1377  }\n",
      "Corresponding test-long performance:\n",
      "{'global': {'precision': 44.6651, 'recall': 41.3, 'f1': 41.5424, 'auc': 76.3519, 'prauc': 44.6018}, 'per_class':                                            precision   recall       f1  \\\n",
      "Acute and unspecified renal failure          48.7544  49.8182  49.2806   \n",
      "Acute cerebrovascular disease                 0.0000   0.0000   0.0000   \n",
      "Acute myocardial infarction                   0.0000   0.0000   0.0000   \n",
      "Cardiac dysrhythmias                         70.7763  62.2490  66.2393   \n",
      "Chronic kidney disease                       85.1590  75.5486  80.0664   \n",
      "Chronic obstructive pulmonary disease        52.2727  59.7403  55.7576   \n",
      "Conduction disorders                          0.0000   0.0000   0.0000   \n",
      "Congestive heart failure; nonhypertensive    78.5124  70.3704  74.2188   \n",
      "Coronary atherosclerosis and related         76.3889  78.1991  77.2834   \n",
      "Disorders of lipid metabolism                69.9690  78.7456  74.0984   \n",
      "Essential hypertension                       73.4139  81.8182  77.3885   \n",
      "Fluid and electrolyte disorders              47.8903  63.5854  54.6330   \n",
      "Gastrointestinal hemorrhage                   0.0000   0.0000   0.0000   \n",
      "Hypertension with complications              77.9923  78.2946  78.1431   \n",
      "Other liver diseases                          0.0000   0.0000   0.0000   \n",
      "Other lower respiratory disease              48.1481  26.6667  34.3234   \n",
      "Pneumonia                                    40.0000   2.3256   4.3956   \n",
      "Septicemia (except in labor)                 34.6939  16.0377  21.9355   \n",
      "\n",
      "                                               auc    prauc  \n",
      "Acute and unspecified renal failure        66.7448  44.6683  \n",
      "Acute cerebrovascular disease              59.8112   0.2699  \n",
      "Acute myocardial infarction                78.7037  10.2326  \n",
      "Cardiac dysrhythmias                       84.4674  74.1001  \n",
      "Chronic kidney disease                     90.6181  87.6389  \n",
      "Chronic obstructive pulmonary disease      88.6807  46.6026  \n",
      "Conduction disorders                       71.0341   3.5839  \n",
      "Congestive heart failure; nonhypertensive  90.5284  82.5903  \n",
      "Coronary atherosclerosis and related       93.7031  78.8587  \n",
      "Disorders of lipid metabolism              88.5562  75.8186  \n",
      "Essential hypertension                     89.0724  79.6078  \n",
      "Fluid and electrolyte disorders            58.7499  46.6974  \n",
      "Gastrointestinal hemorrhage                57.3105   7.8981  \n",
      "Hypertension with complications            90.8319  80.5269  \n",
      "Other liver diseases                       71.8268   2.6681  \n",
      "Other lower respiratory disease            65.4833  43.4088  \n",
      "Pneumonia                                  60.7529  13.9367  \n",
      "Septicemia (except in labor)               67.4590  23.7242  }\n",
      "================================2==================================\n"
     ]
    },
    {
     "name": "stderr",
     "output_type": "stream",
     "text": [
      "Epoch 001: 100%|██████████| 215/215 [00:14<00:00, 14.72it/s, loss=0.3425]\n",
      "Running inference: 100%|██████████| 158/158 [00:07<00:00, 21.32it/s]\n",
      "Running inference: 100%|██████████| 159/159 [00:07<00:00, 21.23it/s]\n"
     ]
    },
    {
     "name": "stdout",
     "output_type": "stream",
     "text": [
      "Validation: {'precision': 38.1213, 'recall': 30.0902, 'f1': 30.9548, 'auc': 76.1753, 'prauc': 40.2847}\n",
      "Test:      {'precision': 37.7432, 'recall': 30.4055, 'f1': 31.1053, 'auc': 76.3076, 'prauc': 40.4473}\n",
      "\n",
      "Validation-long: {'precision': 37.7604, 'recall': 31.7416, 'f1': 32.0692, 'auc': 74.6163, 'prauc': 41.0322}\n",
      "Test-long: {'precision': 39.5257, 'recall': 32.5296, 'f1': 33.1973, 'auc': 74.0054, 'prauc': 43.1749}\n",
      "\n"
     ]
    },
    {
     "name": "stderr",
     "output_type": "stream",
     "text": [
      "Epoch 002: 100%|██████████| 215/215 [00:14<00:00, 14.62it/s, loss=0.2893]\n",
      "Running inference: 100%|██████████| 158/158 [00:07<00:00, 19.99it/s]\n",
      "Running inference: 100%|██████████| 159/159 [00:07<00:00, 20.89it/s]\n"
     ]
    },
    {
     "name": "stdout",
     "output_type": "stream",
     "text": [
      "Validation: {'precision': 41.6542, 'recall': 34.4193, 'f1': 36.9698, 'auc': 78.4086, 'prauc': 43.4316}\n",
      "Test:      {'precision': 42.1195, 'recall': 34.8297, 'f1': 37.3063, 'auc': 78.1724, 'prauc': 43.8822}\n",
      "\n",
      "Validation-long: {'precision': 40.5781, 'recall': 36.2226, 'f1': 37.4136, 'auc': 77.2272, 'prauc': 44.1921}\n",
      "Test-long: {'precision': 43.3521, 'recall': 37.6182, 'f1': 39.3163, 'auc': 75.8797, 'prauc': 46.5607}\n",
      "\n"
     ]
    },
    {
     "name": "stderr",
     "output_type": "stream",
     "text": [
      "Epoch 003: 100%|██████████| 215/215 [00:14<00:00, 14.57it/s, loss=0.2785]\n",
      "Running inference: 100%|██████████| 158/158 [00:07<00:00, 21.37it/s]\n",
      "Running inference: 100%|██████████| 159/159 [00:07<00:00, 21.33it/s]\n"
     ]
    },
    {
     "name": "stdout",
     "output_type": "stream",
     "text": [
      "Validation: {'precision': 42.6328, 'recall': 32.7851, 'f1': 35.6751, 'auc': 78.5175, 'prauc': 44.0075}\n",
      "Test:      {'precision': 42.715, 'recall': 33.3292, 'f1': 36.0115, 'auc': 78.5422, 'prauc': 44.3878}\n",
      "\n",
      "Validation-long: {'precision': 44.1322, 'recall': 34.6177, 'f1': 35.5993, 'auc': 77.3493, 'prauc': 44.5364}\n",
      "Test-long: {'precision': 43.5133, 'recall': 35.638, 'f1': 37.5462, 'auc': 77.2332, 'prauc': 46.8409}\n",
      "\n"
     ]
    },
    {
     "name": "stderr",
     "output_type": "stream",
     "text": [
      "Epoch 004: 100%|██████████| 215/215 [00:14<00:00, 14.67it/s, loss=0.2706]\n",
      "Running inference: 100%|██████████| 158/158 [00:07<00:00, 21.27it/s]\n",
      "Running inference: 100%|██████████| 159/159 [00:07<00:00, 21.21it/s]\n"
     ]
    },
    {
     "name": "stdout",
     "output_type": "stream",
     "text": [
      "Validation: {'precision': 45.2751, 'recall': 32.3001, 'f1': 36.0408, 'auc': 78.8896, 'prauc': 44.4349}\n",
      "Test:      {'precision': 44.4448, 'recall': 32.629, 'f1': 36.1586, 'auc': 78.3486, 'prauc': 44.3233}\n",
      "\n",
      "Validation-long: {'precision': 43.2495, 'recall': 33.5774, 'f1': 36.2705, 'auc': 79.1619, 'prauc': 44.8848}\n",
      "Test-long: {'precision': 46.1299, 'recall': 35.5536, 'f1': 38.795, 'auc': 76.2768, 'prauc': 46.5265}\n",
      "\n"
     ]
    },
    {
     "name": "stderr",
     "output_type": "stream",
     "text": [
      "Epoch 005: 100%|██████████| 215/215 [00:15<00:00, 14.29it/s, loss=0.2643]\n",
      "Running inference: 100%|██████████| 158/158 [00:07<00:00, 21.32it/s]\n",
      "Running inference: 100%|██████████| 159/159 [00:07<00:00, 21.23it/s]\n"
     ]
    },
    {
     "name": "stdout",
     "output_type": "stream",
     "text": [
      "Validation: {'precision': 42.733, 'recall': 36.7156, 'f1': 38.2658, 'auc': 78.8142, 'prauc': 44.243}\n",
      "Test:      {'precision': 42.3448, 'recall': 37.0383, 'f1': 38.3337, 'auc': 78.8044, 'prauc': 44.4991}\n",
      "\n",
      "Validation-long: {'precision': 42.023, 'recall': 38.8806, 'f1': 38.8993, 'auc': 78.0683, 'prauc': 44.8949}\n",
      "Test-long: {'precision': 43.9645, 'recall': 39.682, 'f1': 40.2612, 'auc': 78.0404, 'prauc': 47.1585}\n",
      "\n"
     ]
    },
    {
     "name": "stderr",
     "output_type": "stream",
     "text": [
      "Epoch 006: 100%|██████████| 215/215 [00:14<00:00, 14.66it/s, loss=0.2593]\n",
      "Running inference: 100%|██████████| 158/158 [00:07<00:00, 21.31it/s]\n",
      "Running inference: 100%|██████████| 159/159 [00:07<00:00, 21.31it/s]\n"
     ]
    },
    {
     "name": "stdout",
     "output_type": "stream",
     "text": [
      "Validation: {'precision': 42.1869, 'recall': 36.4249, 'f1': 38.2166, 'auc': 78.6936, 'prauc': 44.2835}\n",
      "Test:      {'precision': 41.8412, 'recall': 36.8648, 'f1': 38.3151, 'auc': 78.7532, 'prauc': 44.4617}\n",
      "\n",
      "Validation-long: {'precision': 43.1549, 'recall': 37.8262, 'f1': 38.3269, 'auc': 78.2692, 'prauc': 45.6404}\n",
      "Test-long: {'precision': 44.8671, 'recall': 39.5481, 'f1': 40.5059, 'auc': 77.3214, 'prauc': 47.5517}\n",
      "\n"
     ]
    },
    {
     "name": "stderr",
     "output_type": "stream",
     "text": [
      "Epoch 007: 100%|██████████| 215/215 [00:14<00:00, 14.76it/s, loss=0.2528]\n",
      "Running inference: 100%|██████████| 158/158 [00:07<00:00, 21.26it/s]\n",
      "Running inference: 100%|██████████| 159/159 [00:07<00:00, 20.14it/s]\n"
     ]
    },
    {
     "name": "stdout",
     "output_type": "stream",
     "text": [
      "Validation: {'precision': 43.2294, 'recall': 34.6758, 'f1': 37.0887, 'auc': 78.6005, 'prauc': 44.186}\n",
      "Test:      {'precision': 46.3416, 'recall': 35.1334, 'f1': 37.2397, 'auc': 78.943, 'prauc': 44.3992}\n",
      "\n",
      "Validation-long: {'precision': 42.4423, 'recall': 37.0985, 'f1': 37.9205, 'auc': 78.6048, 'prauc': 44.8128}\n",
      "Test-long: {'precision': 43.7856, 'recall': 38.2194, 'f1': 39.3892, 'auc': 77.9572, 'prauc': 47.4581}\n",
      "\n"
     ]
    },
    {
     "name": "stderr",
     "output_type": "stream",
     "text": [
      "Epoch 008: 100%|██████████| 215/215 [00:14<00:00, 14.65it/s, loss=0.2466]\n",
      "Running inference: 100%|██████████| 158/158 [00:07<00:00, 21.00it/s]\n",
      "Running inference: 100%|██████████| 159/159 [00:07<00:00, 21.01it/s]\n"
     ]
    },
    {
     "name": "stdout",
     "output_type": "stream",
     "text": [
      "Validation: {'precision': 42.8438, 'recall': 34.7826, 'f1': 37.1484, 'auc': 78.4995, 'prauc': 43.8439}\n",
      "Test:      {'precision': 42.2931, 'recall': 35.1831, 'f1': 37.1724, 'auc': 78.4363, 'prauc': 44.0811}\n",
      "\n",
      "Validation-long: {'precision': 42.6919, 'recall': 36.6061, 'f1': 37.9563, 'auc': 78.3623, 'prauc': 45.0867}\n",
      "Test-long: {'precision': 44.0567, 'recall': 37.5191, 'f1': 39.126, 'auc': 78.2105, 'prauc': 47.0445}\n",
      "\n"
     ]
    },
    {
     "name": "stderr",
     "output_type": "stream",
     "text": [
      "Epoch 009: 100%|██████████| 215/215 [00:14<00:00, 14.58it/s, loss=0.2400]\n",
      "Running inference: 100%|██████████| 158/158 [00:07<00:00, 21.11it/s]\n",
      "Running inference: 100%|██████████| 159/159 [00:07<00:00, 21.11it/s]\n"
     ]
    },
    {
     "name": "stdout",
     "output_type": "stream",
     "text": [
      "Validation: {'precision': 43.6933, 'recall': 34.0873, 'f1': 36.9699, 'auc': 78.3302, 'prauc': 43.9358}\n",
      "Test:      {'precision': 43.1181, 'recall': 34.5764, 'f1': 37.0431, 'auc': 78.2829, 'prauc': 43.9215}\n",
      "\n",
      "Validation-long: {'precision': 43.4004, 'recall': 36.6896, 'f1': 38.1077, 'auc': 79.2938, 'prauc': 45.0926}\n",
      "Test-long: {'precision': 44.8761, 'recall': 37.613, 'f1': 39.2654, 'auc': 77.782, 'prauc': 47.0519}\n",
      "\n"
     ]
    },
    {
     "name": "stderr",
     "output_type": "stream",
     "text": [
      "Epoch 010: 100%|██████████| 215/215 [00:14<00:00, 14.71it/s, loss=0.2340]\n",
      "Running inference: 100%|██████████| 158/158 [00:07<00:00, 20.30it/s]\n",
      "Running inference: 100%|██████████| 159/159 [00:07<00:00, 21.12it/s]\n"
     ]
    },
    {
     "name": "stdout",
     "output_type": "stream",
     "text": [
      "Validation: {'precision': 45.0654, 'recall': 38.149, 'f1': 38.7484, 'auc': 78.1086, 'prauc': 43.7259}\n",
      "Test:      {'precision': 40.6345, 'recall': 38.9752, 'f1': 39.1058, 'auc': 78.0845, 'prauc': 43.9771}\n",
      "\n",
      "Validation-long: {'precision': 43.1608, 'recall': 40.3075, 'f1': 39.4059, 'auc': 78.5536, 'prauc': 44.4789}\n",
      "Test-long: {'precision': 42.7864, 'recall': 41.3738, 'f1': 40.8228, 'auc': 76.5837, 'prauc': 46.8148}\n",
      "\n"
     ]
    },
    {
     "name": "stderr",
     "output_type": "stream",
     "text": [
      "Epoch 011: 100%|██████████| 215/215 [00:14<00:00, 14.71it/s, loss=0.2268]\n",
      "Running inference: 100%|██████████| 158/158 [00:07<00:00, 21.20it/s]\n",
      "Running inference: 100%|██████████| 159/159 [00:07<00:00, 21.30it/s]\n"
     ]
    },
    {
     "name": "stdout",
     "output_type": "stream",
     "text": [
      "Validation: {'precision': 42.9223, 'recall': 35.3114, 'f1': 36.9263, 'auc': 77.8115, 'prauc': 43.3091}\n",
      "Test:      {'precision': 41.1813, 'recall': 36.1719, 'f1': 37.2792, 'auc': 77.74, 'prauc': 43.4117}\n",
      "\n",
      "Validation-long: {'precision': 42.9222, 'recall': 37.5813, 'f1': 37.7839, 'auc': 78.0939, 'prauc': 44.4714}\n",
      "Test-long: {'precision': 43.0802, 'recall': 38.7331, 'f1': 39.2141, 'auc': 77.161, 'prauc': 46.8265}\n",
      "\n"
     ]
    },
    {
     "name": "stderr",
     "output_type": "stream",
     "text": [
      "Epoch 012: 100%|██████████| 215/215 [00:14<00:00, 14.72it/s, loss=0.2199]\n",
      "Running inference: 100%|██████████| 158/158 [00:07<00:00, 21.41it/s]\n",
      "Running inference: 100%|██████████| 159/159 [00:07<00:00, 21.34it/s]\n"
     ]
    },
    {
     "name": "stdout",
     "output_type": "stream",
     "text": [
      "Validation: {'precision': 43.9742, 'recall': 36.9833, 'f1': 38.3635, 'auc': 77.3719, 'prauc': 43.16}\n",
      "Test:      {'precision': 43.926, 'recall': 38.0265, 'f1': 38.9873, 'auc': 77.525, 'prauc': 43.1466}\n",
      "\n",
      "Validation-long: {'precision': 46.3718, 'recall': 39.1874, 'f1': 39.341, 'auc': 78.3108, 'prauc': 44.2605}\n",
      "Test-long: {'precision': 42.3777, 'recall': 39.7927, 'f1': 40.2161, 'auc': 77.1756, 'prauc': 46.4449}\n",
      "\n"
     ]
    },
    {
     "name": "stderr",
     "output_type": "stream",
     "text": [
      "Epoch 013: 100%|██████████| 215/215 [00:14<00:00, 14.37it/s, loss=0.2135]\n",
      "Running inference: 100%|██████████| 158/158 [00:07<00:00, 21.32it/s]\n",
      "Running inference: 100%|██████████| 159/159 [00:07<00:00, 21.22it/s]\n"
     ]
    },
    {
     "name": "stdout",
     "output_type": "stream",
     "text": [
      "Validation: {'precision': 47.8379, 'recall': 34.8971, 'f1': 37.2391, 'auc': 77.3196, 'prauc': 42.9656}\n",
      "Test:      {'precision': 45.2392, 'recall': 35.6899, 'f1': 37.504, 'auc': 76.8852, 'prauc': 43.0291}\n",
      "\n",
      "Validation-long: {'precision': 52.9631, 'recall': 38.5573, 'f1': 39.1198, 'auc': 78.1372, 'prauc': 44.3641}\n",
      "Test-long: {'precision': 43.977, 'recall': 39.4581, 'f1': 39.8736, 'auc': 77.2403, 'prauc': 46.174}\n",
      "\n"
     ]
    },
    {
     "name": "stderr",
     "output_type": "stream",
     "text": [
      "Epoch 014: 100%|██████████| 215/215 [00:14<00:00, 14.75it/s, loss=0.2067]\n",
      "Running inference: 100%|██████████| 158/158 [00:07<00:00, 21.22it/s]\n",
      "Running inference: 100%|██████████| 159/159 [00:07<00:00, 21.21it/s]\n"
     ]
    },
    {
     "name": "stdout",
     "output_type": "stream",
     "text": [
      "Validation: {'precision': 45.6848, 'recall': 34.8485, 'f1': 37.5184, 'auc': 76.8343, 'prauc': 42.5042}\n",
      "Test:      {'precision': 42.837, 'recall': 35.7675, 'f1': 37.8799, 'auc': 77.1312, 'prauc': 42.5934}\n",
      "\n",
      "Validation-long: {'precision': 47.8972, 'recall': 35.6211, 'f1': 37.7274, 'auc': 78.8477, 'prauc': 44.4654}\n",
      "Test-long: {'precision': 50.2928, 'recall': 37.3168, 'f1': 39.565, 'auc': 76.8411, 'prauc': 46.0057}\n",
      "\n"
     ]
    },
    {
     "name": "stderr",
     "output_type": "stream",
     "text": [
      "Epoch 015: 100%|██████████| 215/215 [00:14<00:00, 14.67it/s, loss=0.2011]\n",
      "Running inference: 100%|██████████| 158/158 [00:07<00:00, 21.11it/s]\n",
      "Running inference: 100%|██████████| 159/159 [00:07<00:00, 20.23it/s]\n"
     ]
    },
    {
     "name": "stdout",
     "output_type": "stream",
     "text": [
      "Validation: {'precision': 42.0244, 'recall': 36.5501, 'f1': 37.8774, 'auc': 76.946, 'prauc': 42.5917}\n",
      "Test:      {'precision': 42.2755, 'recall': 37.4128, 'f1': 38.2766, 'auc': 77.3564, 'prauc': 42.8686}\n",
      "\n",
      "Validation-long: {'precision': 45.3336, 'recall': 39.3558, 'f1': 39.0138, 'auc': 78.8075, 'prauc': 44.4563}\n",
      "Test-long: {'precision': 42.2024, 'recall': 40.6396, 'f1': 40.481, 'auc': 76.555, 'prauc': 46.0588}\n",
      "\n",
      "\n",
      "Early stopping triggered (no improvement for 5 epochs).\n",
      "\n",
      "Best validation performance:\n",
      "{'global': {'precision': 45.0654, 'recall': 38.149, 'f1': 38.7484, 'auc': 78.1086, 'prauc': 43.7259}, 'per_class':                                            precision   recall       f1  \\\n",
      "Acute and unspecified renal failure          42.1014  49.5246  45.5123   \n",
      "Acute cerebrovascular disease                 0.0000   0.0000   0.0000   \n",
      "Acute myocardial infarction                   0.0000   0.0000   0.0000   \n",
      "Cardiac dysrhythmias                         76.6063  67.9328  72.0093   \n",
      "Chronic kidney disease                       78.0277  77.5580  77.7922   \n",
      "Chronic obstructive pulmonary disease        61.8227  56.0268  58.7822   \n",
      "Conduction disorders                          0.0000   0.0000   0.0000   \n",
      "Congestive heart failure; nonhypertensive    70.9380  74.8233  72.8289   \n",
      "Coronary atherosclerosis and related         78.4955  78.8825  78.6885   \n",
      "Disorders of lipid metabolism                74.2640  82.6638  78.2391   \n",
      "Essential hypertension                       76.8466  77.3225  77.0838   \n",
      "Fluid and electrolyte disorders              48.7512  30.0863  37.2093   \n",
      "Gastrointestinal hemorrhage                   0.0000   0.0000   0.0000   \n",
      "Hypertension with complications              71.4833  74.3284  72.8780   \n",
      "Other liver diseases                          0.0000   0.0000   0.0000   \n",
      "Other lower respiratory disease              48.5075  16.7526  24.9042   \n",
      "Pneumonia                                    50.0000   0.2732   0.5435   \n",
      "Septicemia (except in labor)                 33.3333   0.5076   1.0000   \n",
      "\n",
      "                                               auc    prauc  \n",
      "Acute and unspecified renal failure        72.6452  41.9195  \n",
      "Acute cerebrovascular disease              71.1339   3.0734  \n",
      "Acute myocardial infarction                78.2813  14.4028  \n",
      "Cardiac dysrhythmias                       85.4938  77.1103  \n",
      "Chronic kidney disease                     92.6701  84.0865  \n",
      "Chronic obstructive pulmonary disease      88.7673  53.9566  \n",
      "Conduction disorders                       74.3167   5.2249  \n",
      "Congestive heart failure; nonhypertensive  90.1918  77.4537  \n",
      "Coronary atherosclerosis and related       93.6309  82.7306  \n",
      "Disorders of lipid metabolism              88.1008  76.9919  \n",
      "Essential hypertension                     86.6756  80.3750  \n",
      "Fluid and electrolyte disorders            65.6957  46.2526  \n",
      "Gastrointestinal hemorrhage                66.6878   5.2686  \n",
      "Hypertension with complications            91.8331  76.9571  \n",
      "Other liver diseases                       59.3111   1.5643  \n",
      "Other lower respiratory disease            69.8776  33.6346  \n",
      "Pneumonia                                  65.0192  12.4117  \n",
      "Septicemia (except in labor)               65.6235  13.6529  }\n",
      "Corresponding test performance:\n",
      "{'global': {'precision': 40.6345, 'recall': 38.9752, 'f1': 39.1058, 'auc': 78.0845, 'prauc': 43.9771}, 'per_class':                                            precision   recall       f1  \\\n",
      "Acute and unspecified renal failure          41.5827  49.8706  45.3511   \n",
      "Acute cerebrovascular disease                 0.0000   0.0000   0.0000   \n",
      "Acute myocardial infarction                   0.0000   0.0000   0.0000   \n",
      "Cardiac dysrhythmias                         74.2754  61.7935  67.4619   \n",
      "Chronic kidney disease                       80.2538  79.8737  80.0633   \n",
      "Chronic obstructive pulmonary disease        61.5566  61.2676  61.4118   \n",
      "Conduction disorders                          0.0000   0.0000   0.0000   \n",
      "Congestive heart failure; nonhypertensive    69.8363  77.4417  73.4426   \n",
      "Coronary atherosclerosis and related         78.1861  80.0641  79.1139   \n",
      "Disorders of lipid metabolism                74.3651  84.5777  79.1433   \n",
      "Essential hypertension                       76.9306  78.4646  77.6900   \n",
      "Fluid and electrolyte disorders              48.5419  32.5142  38.9434   \n",
      "Gastrointestinal hemorrhage                   0.0000   0.0000   0.0000   \n",
      "Hypertension with complications              74.1935  79.6816  76.8397   \n",
      "Other liver diseases                          0.0000   0.0000   0.0000   \n",
      "Other lower respiratory disease              51.6981  16.0047  24.4425   \n",
      "Pneumonia                                     0.0000   0.0000   0.0000   \n",
      "Septicemia (except in labor)                  0.0000   0.0000   0.0000   \n",
      "\n",
      "                                               auc    prauc  \n",
      "Acute and unspecified renal failure        72.8619  40.8579  \n",
      "Acute cerebrovascular disease              70.5649   2.0762  \n",
      "Acute myocardial infarction                78.6058  12.7097  \n",
      "Cardiac dysrhythmias                       83.1365  73.3564  \n",
      "Chronic kidney disease                     93.0240  86.6920  \n",
      "Chronic obstructive pulmonary disease      88.3934  54.7625  \n",
      "Conduction disorders                       73.9882   7.1154  \n",
      "Congestive heart failure; nonhypertensive  90.8099  78.1663  \n",
      "Coronary atherosclerosis and related       93.7433  82.9851  \n",
      "Disorders of lipid metabolism              88.6263  76.9506  \n",
      "Essential hypertension                     87.6148  80.1351  \n",
      "Fluid and electrolyte disorders            66.1508  45.3776  \n",
      "Gastrointestinal hemorrhage                62.6540   5.9955  \n",
      "Hypertension with complications            93.1713  80.5494  \n",
      "Other liver diseases                       64.0997   2.1663  \n",
      "Other lower respiratory disease            67.6570  34.6780  \n",
      "Pneumonia                                  62.9845  12.0270  \n",
      "Septicemia (except in labor)               67.4340  14.9865  }\n",
      "Corresponding test-long performance:\n",
      "{'global': {'precision': 42.7864, 'recall': 41.3738, 'f1': 40.8228, 'auc': 76.5837, 'prauc': 46.8148}, 'per_class':                                            precision   recall       f1  \\\n",
      "Acute and unspecified renal failure          45.9740  64.3636  53.6364   \n",
      "Acute cerebrovascular disease                 0.0000   0.0000   0.0000   \n",
      "Acute myocardial infarction                   0.0000   0.0000   0.0000   \n",
      "Cardiac dysrhythmias                         81.2834  61.0442  69.7248   \n",
      "Chronic kidney disease                       82.3899  82.1317  82.2606   \n",
      "Chronic obstructive pulmonary disease        53.5714  58.4416  55.9006   \n",
      "Conduction disorders                          0.0000   0.0000   0.0000   \n",
      "Congestive heart failure; nonhypertensive    73.5484  84.4444  78.6207   \n",
      "Coronary atherosclerosis and related         80.1887  80.5687  80.3783   \n",
      "Disorders of lipid metabolism                72.7545  84.6690  78.2609   \n",
      "Essential hypertension                       78.8927  76.7677  77.8157   \n",
      "Fluid and electrolyte disorders              51.7808  52.9412  52.3546   \n",
      "Gastrointestinal hemorrhage                   0.0000   0.0000   0.0000   \n",
      "Hypertension with complications              75.3521  82.9457  78.9668   \n",
      "Other liver diseases                          0.0000   0.0000   0.0000   \n",
      "Other lower respiratory disease              74.4186  16.4103  26.8908   \n",
      "Pneumonia                                     0.0000   0.0000   0.0000   \n",
      "Septicemia (except in labor)                  0.0000   0.0000   0.0000   \n",
      "\n",
      "                                               auc    prauc  \n",
      "Acute and unspecified renal failure        71.0725  47.6950  \n",
      "Acute cerebrovascular disease              28.7757   0.1503  \n",
      "Acute myocardial infarction                78.7510  10.3723  \n",
      "Cardiac dysrhythmias                       84.0206  75.0220  \n",
      "Chronic kidney disease                     92.2418  89.9620  \n",
      "Chronic obstructive pulmonary disease      89.9022  53.1513  \n",
      "Conduction disorders                       73.6888   4.1800  \n",
      "Congestive heart failure; nonhypertensive  92.9113  87.2856  \n",
      "Coronary atherosclerosis and related       95.0479  82.6071  \n",
      "Disorders of lipid metabolism              91.3049  80.6446  \n",
      "Essential hypertension                     90.0697  82.5371  \n",
      "Fluid and electrolyte disorders            64.6206  52.1990  \n",
      "Gastrointestinal hemorrhage                59.5486   7.5539  \n",
      "Hypertension with complications            92.1753  82.3993  \n",
      "Other liver diseases                       79.4126   5.5634  \n",
      "Other lower respiratory disease            68.2145  46.4589  \n",
      "Pneumonia                                  61.7339  14.0262  \n",
      "Septicemia (except in labor)               65.0153  20.8583  }\n",
      "================================3==================================\n"
     ]
    },
    {
     "name": "stderr",
     "output_type": "stream",
     "text": [
      "Epoch 001: 100%|██████████| 215/215 [00:14<00:00, 14.68it/s, loss=0.3373]\n",
      "Running inference: 100%|██████████| 158/158 [00:07<00:00, 21.23it/s]\n",
      "Running inference: 100%|██████████| 159/159 [00:07<00:00, 21.33it/s]\n"
     ]
    },
    {
     "name": "stdout",
     "output_type": "stream",
     "text": [
      "Validation: {'precision': 34.4595, 'recall': 28.3315, 'f1': 29.4195, 'auc': 76.8393, 'prauc': 40.9176}\n",
      "Test:      {'precision': 35.3315, 'recall': 28.7261, 'f1': 29.7159, 'auc': 76.3964, 'prauc': 41.0368}\n",
      "\n",
      "Validation-long: {'precision': 34.978, 'recall': 29.449, 'f1': 30.3852, 'auc': 76.411, 'prauc': 42.5217}\n",
      "Test-long: {'precision': 36.3454, 'recall': 30.2518, 'f1': 31.3975, 'auc': 74.4582, 'prauc': 43.2808}\n",
      "\n"
     ]
    },
    {
     "name": "stderr",
     "output_type": "stream",
     "text": [
      "Epoch 002: 100%|██████████| 215/215 [00:14<00:00, 14.74it/s, loss=0.2872]\n",
      "Running inference: 100%|██████████| 158/158 [00:07<00:00, 21.39it/s]\n",
      "Running inference: 100%|██████████| 159/159 [00:07<00:00, 21.19it/s]\n"
     ]
    },
    {
     "name": "stdout",
     "output_type": "stream",
     "text": [
      "Validation: {'precision': 43.1002, 'recall': 33.1085, 'f1': 35.5649, 'auc': 78.421, 'prauc': 43.7462}\n",
      "Test:      {'precision': 44.656, 'recall': 33.2756, 'f1': 35.7983, 'auc': 78.1104, 'prauc': 44.0024}\n",
      "\n",
      "Validation-long: {'precision': 38.4692, 'recall': 34.1809, 'f1': 35.8905, 'auc': 79.005, 'prauc': 45.0582}\n",
      "Test-long: {'precision': 46.2063, 'recall': 34.5782, 'f1': 37.2739, 'auc': 77.4468, 'prauc': 46.2517}\n",
      "\n"
     ]
    },
    {
     "name": "stderr",
     "output_type": "stream",
     "text": [
      "Epoch 003: 100%|██████████| 215/215 [00:14<00:00, 14.37it/s, loss=0.2750]\n",
      "Running inference: 100%|██████████| 158/158 [00:07<00:00, 21.24it/s]\n",
      "Running inference: 100%|██████████| 159/159 [00:07<00:00, 21.12it/s]\n"
     ]
    },
    {
     "name": "stdout",
     "output_type": "stream",
     "text": [
      "Validation: {'precision': 43.734, 'recall': 34.645, 'f1': 36.3389, 'auc': 78.8972, 'prauc': 44.2799}\n",
      "Test:      {'precision': 43.5884, 'recall': 35.1097, 'f1': 36.7221, 'auc': 78.5362, 'prauc': 44.3735}\n",
      "\n",
      "Validation-long: {'precision': 42.6324, 'recall': 36.7351, 'f1': 37.6348, 'auc': 79.236, 'prauc': 45.3846}\n",
      "Test-long: {'precision': 44.1806, 'recall': 37.9689, 'f1': 39.176, 'auc': 76.9515, 'prauc': 46.364}\n",
      "\n"
     ]
    },
    {
     "name": "stderr",
     "output_type": "stream",
     "text": [
      "Epoch 004: 100%|██████████| 215/215 [00:14<00:00, 14.73it/s, loss=0.2690]\n",
      "Running inference: 100%|██████████| 158/158 [00:07<00:00, 21.33it/s]\n",
      "Running inference: 100%|██████████| 159/159 [00:07<00:00, 21.30it/s]\n"
     ]
    },
    {
     "name": "stdout",
     "output_type": "stream",
     "text": [
      "Validation: {'precision': 46.7406, 'recall': 33.9171, 'f1': 36.8045, 'auc': 78.9906, 'prauc': 44.5467}\n",
      "Test:      {'precision': 48.3145, 'recall': 34.784, 'f1': 37.4576, 'auc': 78.9161, 'prauc': 44.7923}\n",
      "\n",
      "Validation-long: {'precision': 48.9283, 'recall': 35.7756, 'f1': 37.5869, 'auc': 80.0581, 'prauc': 45.7919}\n",
      "Test-long: {'precision': 50.776, 'recall': 37.3203, 'f1': 39.8539, 'auc': 77.8699, 'prauc': 47.1222}\n",
      "\n"
     ]
    },
    {
     "name": "stderr",
     "output_type": "stream",
     "text": [
      "Epoch 005: 100%|██████████| 215/215 [00:14<00:00, 14.76it/s, loss=0.2618]\n",
      "Running inference: 100%|██████████| 158/158 [00:07<00:00, 21.36it/s]\n",
      "Running inference: 100%|██████████| 159/159 [00:07<00:00, 20.20it/s]\n"
     ]
    },
    {
     "name": "stdout",
     "output_type": "stream",
     "text": [
      "Validation: {'precision': 44.3877, 'recall': 36.9622, 'f1': 39.0733, 'auc': 78.9299, 'prauc': 44.5752}\n",
      "Test:      {'precision': 46.0305, 'recall': 37.7231, 'f1': 39.5431, 'auc': 78.9616, 'prauc': 44.6643}\n",
      "\n",
      "Validation-long: {'precision': 43.514, 'recall': 40.5348, 'f1': 40.5968, 'auc': 80.1823, 'prauc': 45.9364}\n",
      "Test-long: {'precision': 43.9434, 'recall': 41.183, 'f1': 41.429, 'auc': 78.7775, 'prauc': 46.89}\n",
      "\n"
     ]
    },
    {
     "name": "stderr",
     "output_type": "stream",
     "text": [
      "Epoch 006: 100%|██████████| 215/215 [00:14<00:00, 14.67it/s, loss=0.2548]\n",
      "Running inference: 100%|██████████| 158/158 [00:07<00:00, 21.21it/s]\n",
      "Running inference: 100%|██████████| 159/159 [00:07<00:00, 21.20it/s]\n"
     ]
    },
    {
     "name": "stdout",
     "output_type": "stream",
     "text": [
      "Validation: {'precision': 43.3678, 'recall': 34.8949, 'f1': 37.5826, 'auc': 78.7469, 'prauc': 44.4572}\n",
      "Test:      {'precision': 43.3037, 'recall': 35.6009, 'f1': 38.0088, 'auc': 78.5656, 'prauc': 44.3652}\n",
      "\n",
      "Validation-long: {'precision': 43.7611, 'recall': 36.9766, 'f1': 38.3981, 'auc': 79.8385, 'prauc': 46.4152}\n",
      "Test-long: {'precision': 44.802, 'recall': 38.3946, 'f1': 40.0129, 'auc': 78.0646, 'prauc': 46.8604}\n",
      "\n"
     ]
    },
    {
     "name": "stderr",
     "output_type": "stream",
     "text": [
      "Epoch 007: 100%|██████████| 215/215 [00:14<00:00, 14.76it/s, loss=0.2511]\n",
      "Running inference: 100%|██████████| 158/158 [00:07<00:00, 21.47it/s]\n",
      "Running inference: 100%|██████████| 159/159 [00:07<00:00, 21.38it/s]\n"
     ]
    },
    {
     "name": "stdout",
     "output_type": "stream",
     "text": [
      "Validation: {'precision': 45.7074, 'recall': 34.9981, 'f1': 37.8892, 'auc': 78.4309, 'prauc': 44.231}\n",
      "Test:      {'precision': 48.4442, 'recall': 35.2315, 'f1': 37.9263, 'auc': 78.237, 'prauc': 44.221}\n",
      "\n",
      "Validation-long: {'precision': 48.6224, 'recall': 35.9631, 'f1': 37.9121, 'auc': 78.5735, 'prauc': 46.1352}\n",
      "Test-long: {'precision': 44.3596, 'recall': 37.1731, 'f1': 39.3963, 'auc': 77.6965, 'prauc': 46.7034}\n",
      "\n"
     ]
    },
    {
     "name": "stderr",
     "output_type": "stream",
     "text": [
      "Epoch 008: 100%|██████████| 215/215 [00:14<00:00, 14.69it/s, loss=0.2430]\n",
      "Running inference: 100%|██████████| 158/158 [00:07<00:00, 20.25it/s]\n",
      "Running inference: 100%|██████████| 159/159 [00:07<00:00, 21.26it/s]\n"
     ]
    },
    {
     "name": "stdout",
     "output_type": "stream",
     "text": [
      "Validation: {'precision': 42.9888, 'recall': 34.6463, 'f1': 37.4798, 'auc': 78.2907, 'prauc': 43.863}\n",
      "Test:      {'precision': 47.6624, 'recall': 35.4138, 'f1': 37.974, 'auc': 78.1224, 'prauc': 43.8014}\n",
      "\n",
      "Validation-long: {'precision': 42.9574, 'recall': 37.3359, 'f1': 38.4972, 'auc': 79.9337, 'prauc': 45.5834}\n",
      "Test-long: {'precision': 50.7154, 'recall': 38.2295, 'f1': 40.0657, 'auc': 78.0105, 'prauc': 46.3477}\n",
      "\n"
     ]
    },
    {
     "name": "stderr",
     "output_type": "stream",
     "text": [
      "Epoch 009: 100%|██████████| 215/215 [00:14<00:00, 14.66it/s, loss=0.2351]\n",
      "Running inference: 100%|██████████| 158/158 [00:07<00:00, 21.41it/s]\n",
      "Running inference: 100%|██████████| 159/159 [00:07<00:00, 21.27it/s]\n"
     ]
    },
    {
     "name": "stdout",
     "output_type": "stream",
     "text": [
      "Validation: {'precision': 42.8633, 'recall': 36.6241, 'f1': 38.0231, 'auc': 78.0131, 'prauc': 43.464}\n",
      "Test:      {'precision': 43.7951, 'recall': 37.2353, 'f1': 38.4422, 'auc': 77.8354, 'prauc': 43.5152}\n",
      "\n",
      "Validation-long: {'precision': 40.7177, 'recall': 39.7353, 'f1': 39.4156, 'auc': 78.387, 'prauc': 45.3806}\n",
      "Test-long: {'precision': 45.1571, 'recall': 41.1485, 'f1': 41.0651, 'auc': 78.0697, 'prauc': 46.5662}\n",
      "\n"
     ]
    },
    {
     "name": "stderr",
     "output_type": "stream",
     "text": [
      "Epoch 010: 100%|██████████| 215/215 [00:14<00:00, 14.70it/s, loss=0.2275]\n",
      "Running inference: 100%|██████████| 158/158 [00:07<00:00, 21.36it/s]\n",
      "Running inference: 100%|██████████| 159/159 [00:07<00:00, 21.33it/s]\n"
     ]
    },
    {
     "name": "stdout",
     "output_type": "stream",
     "text": [
      "Validation: {'precision': 42.903, 'recall': 35.9036, 'f1': 37.2792, 'auc': 77.6391, 'prauc': 43.1975}\n",
      "Test:      {'precision': 48.526, 'recall': 36.4953, 'f1': 37.7019, 'auc': 77.4855, 'prauc': 43.3044}\n",
      "\n",
      "Validation-long: {'precision': 40.5867, 'recall': 39.2285, 'f1': 38.8206, 'auc': 79.2541, 'prauc': 45.5868}\n",
      "Test-long: {'precision': 48.7247, 'recall': 40.3119, 'f1': 40.6094, 'auc': 77.3579, 'prauc': 46.0998}\n",
      "\n",
      "\n",
      "Early stopping triggered (no improvement for 5 epochs).\n",
      "\n",
      "Best validation performance:\n",
      "{'global': {'precision': 44.3877, 'recall': 36.9622, 'f1': 39.0733, 'auc': 78.9299, 'prauc': 44.5752}, 'per_class':                                            precision   recall       f1  \\\n",
      "Acute and unspecified renal failure          48.5834  40.0173  43.8863   \n",
      "Acute cerebrovascular disease                 0.0000   0.0000   0.0000   \n",
      "Acute myocardial infarction                   0.0000   0.0000   0.0000   \n",
      "Cardiac dysrhythmias                         73.5606  70.9277  72.2202   \n",
      "Chronic kidney disease                       82.1530  74.8065  78.3078   \n",
      "Chronic obstructive pulmonary disease        64.0000  60.7143  62.3139   \n",
      "Conduction disorders                          0.0000   0.0000   0.0000   \n",
      "Congestive heart failure; nonhypertensive    75.2195  68.1095  71.4882   \n",
      "Coronary atherosclerosis and related         82.0255  73.8702  77.7345   \n",
      "Disorders of lipid metabolism                76.2422  77.8541  77.0397   \n",
      "Essential hypertension                       78.3614  77.4655  77.9109   \n",
      "Fluid and electrolyte disorders              51.8227  32.4291  39.8938   \n",
      "Gastrointestinal hemorrhage                   0.0000   0.0000   0.0000   \n",
      "Hypertension with complications              74.8927  69.4527  72.0702   \n",
      "Other liver diseases                          0.0000   0.0000   0.0000   \n",
      "Other lower respiratory disease              49.8099  16.8814  25.2166   \n",
      "Pneumonia                                     0.0000   0.0000   0.0000   \n",
      "Septicemia (except in labor)                 42.3077   2.7919   5.2381   \n",
      "\n",
      "                                               auc    prauc  \n",
      "Acute and unspecified renal failure        74.0062  44.4792  \n",
      "Acute cerebrovascular disease              74.8469   4.7911  \n",
      "Acute myocardial infarction                78.9602  15.7884  \n",
      "Cardiac dysrhythmias                       86.3034  77.7071  \n",
      "Chronic kidney disease                     93.2561  85.2851  \n",
      "Chronic obstructive pulmonary disease      88.5105  54.7342  \n",
      "Conduction disorders                       75.2878   5.7271  \n",
      "Congestive heart failure; nonhypertensive  90.8680  77.0051  \n",
      "Coronary atherosclerosis and related       94.1014  83.8030  \n",
      "Disorders of lipid metabolism              88.3206  77.3592  \n",
      "Essential hypertension                     87.5221  80.7614  \n",
      "Fluid and electrolyte disorders            66.9861  47.8891  \n",
      "Gastrointestinal hemorrhage                64.1916   5.3790  \n",
      "Hypertension with complications            92.1886  77.8975  \n",
      "Other liver diseases                       61.5647   1.7669  \n",
      "Other lower respiratory disease            70.7043  34.6649  \n",
      "Pneumonia                                  67.3644  13.0049  \n",
      "Septicemia (except in labor)               65.7553  14.3104  }\n",
      "Corresponding test performance:\n",
      "{'global': {'precision': 46.0305, 'recall': 37.7231, 'f1': 39.5431, 'auc': 78.9616, 'prauc': 44.6643}, 'per_class':                                            precision   recall       f1  \\\n",
      "Acute and unspecified renal failure          47.6891  39.1717  43.0128   \n",
      "Acute cerebrovascular disease                 0.0000   0.0000   0.0000   \n",
      "Acute myocardial infarction                   0.0000   0.0000   0.0000   \n",
      "Cardiac dysrhythmias                         70.8000  66.6918  68.6845   \n",
      "Chronic kidney disease                       85.4352  75.9274  80.4012   \n",
      "Chronic obstructive pulmonary disease        62.7404  61.2676  61.9952   \n",
      "Conduction disorders                          0.0000   0.0000   0.0000   \n",
      "Congestive heart failure; nonhypertensive    74.1187  69.0579  71.4989   \n",
      "Coronary atherosclerosis and related         80.0169  75.6605  77.7778   \n",
      "Disorders of lipid metabolism                76.5535  79.8910  78.1867   \n",
      "Essential hypertension                       78.6950  79.3619  79.0271   \n",
      "Fluid and electrolyte disorders              50.2650  35.8538  41.8536   \n",
      "Gastrointestinal hemorrhage                   0.0000   0.0000   0.0000   \n",
      "Hypertension with complications              79.5678  75.8427  77.6606   \n",
      "Other liver diseases                          0.0000   0.0000   0.0000   \n",
      "Other lower respiratory disease              56.0000  17.9907  27.2325   \n",
      "Pneumonia                                     0.0000   0.0000   0.0000   \n",
      "Septicemia (except in labor)                 66.6667   2.2989   4.4444   \n",
      "\n",
      "                                               auc    prauc  \n",
      "Acute and unspecified renal failure        74.8708  43.9174  \n",
      "Acute cerebrovascular disease              70.7441   3.5695  \n",
      "Acute myocardial infarction                78.0519  11.6787  \n",
      "Cardiac dysrhythmias                       84.7912  75.4237  \n",
      "Chronic kidney disease                     93.6048  87.6707  \n",
      "Chronic obstructive pulmonary disease      87.8687  53.5567  \n",
      "Conduction disorders                       74.3480   7.5154  \n",
      "Congestive heart failure; nonhypertensive  90.6047  76.5931  \n",
      "Coronary atherosclerosis and related       93.6938  82.9367  \n",
      "Disorders of lipid metabolism              88.9503  77.1360  \n",
      "Essential hypertension                     87.8503  79.2583  \n",
      "Fluid and electrolyte disorders            67.3069  46.8246  \n",
      "Gastrointestinal hemorrhage                63.5619   6.3098  \n",
      "Hypertension with complications            93.7514  82.1340  \n",
      "Other liver diseases                       68.3214   1.9702  \n",
      "Other lower respiratory disease            68.8460  36.8552  \n",
      "Pneumonia                                  65.7083  13.0742  \n",
      "Septicemia (except in labor)               68.4345  17.5328  }\n",
      "Corresponding test-long performance:\n",
      "{'global': {'precision': 43.9434, 'recall': 41.183, 'f1': 41.429, 'auc': 78.7775, 'prauc': 46.89}, 'per_class':                                            precision   recall       f1  \\\n",
      "Acute and unspecified renal failure          47.0779  52.7273  49.7427   \n",
      "Acute cerebrovascular disease                 0.0000   0.0000   0.0000   \n",
      "Acute myocardial infarction                   0.0000   0.0000   0.0000   \n",
      "Cardiac dysrhythmias                         70.1961  71.8876  71.0317   \n",
      "Chronic kidney disease                       84.8185  80.5643  82.6367   \n",
      "Chronic obstructive pulmonary disease        54.6512  61.0390  57.6687   \n",
      "Conduction disorders                          0.0000   0.0000   0.0000   \n",
      "Congestive heart failure; nonhypertensive    80.4688  76.2963  78.3270   \n",
      "Coronary atherosclerosis and related         80.1980  76.7773  78.4504   \n",
      "Disorders of lipid metabolism                79.0614  76.3066  77.6596   \n",
      "Essential hypertension                       81.2977  71.7172  76.2075   \n",
      "Fluid and electrolyte disorders              51.2712  67.7871  58.3836   \n",
      "Gastrointestinal hemorrhage                   0.0000   0.0000   0.0000   \n",
      "Hypertension with complications              77.6557  82.1705  79.8493   \n",
      "Other liver diseases                          0.0000   0.0000   0.0000   \n",
      "Other lower respiratory disease              64.2857  23.0769  33.9623   \n",
      "Pneumonia                                     0.0000   0.0000   0.0000   \n",
      "Septicemia (except in labor)                 20.0000   0.9434   1.8018   \n",
      "\n",
      "                                               auc    prauc  \n",
      "Acute and unspecified renal failure        72.0051  49.1101  \n",
      "Acute cerebrovascular disease              49.9428   0.2121  \n",
      "Acute myocardial infarction                75.1261   7.8386  \n",
      "Cardiac dysrhythmias                       86.0773  77.3435  \n",
      "Chronic kidney disease                     92.6754  90.2233  \n",
      "Chronic obstructive pulmonary disease      89.7266  50.8015  \n",
      "Conduction disorders                       74.7863   4.7804  \n",
      "Congestive heart failure; nonhypertensive  92.3888  86.3900  \n",
      "Coronary atherosclerosis and related       95.1705  82.5056  \n",
      "Disorders of lipid metabolism              91.4125  80.9905  \n",
      "Essential hypertension                     90.3130  80.4320  \n",
      "Fluid and electrolyte disorders            65.5978  54.4588  \n",
      "Gastrointestinal hemorrhage                61.7728   7.4113  \n",
      "Hypertension with complications            93.1412  84.9385  \n",
      "Other liver diseases                       87.1962   5.7977  \n",
      "Other lower respiratory disease            71.3013  47.9638  \n",
      "Pneumonia                                  64.8381  13.6945  \n",
      "Septicemia (except in labor)               64.5234  19.1285  }\n",
      "================================4==================================\n"
     ]
    },
    {
     "name": "stderr",
     "output_type": "stream",
     "text": [
      "Epoch 001: 100%|██████████| 215/215 [00:14<00:00, 14.35it/s, loss=0.3405]\n",
      "Running inference: 100%|██████████| 158/158 [00:07<00:00, 21.36it/s]\n",
      "Running inference: 100%|██████████| 159/159 [00:07<00:00, 21.27it/s]\n"
     ]
    },
    {
     "name": "stdout",
     "output_type": "stream",
     "text": [
      "Validation: {'precision': 34.5298, 'recall': 26.4101, 'f1': 28.0886, 'auc': 75.8134, 'prauc': 39.9375}\n",
      "Test:      {'precision': 33.7949, 'recall': 26.8948, 'f1': 28.4745, 'auc': 75.9242, 'prauc': 40.1731}\n",
      "\n",
      "Validation-long: {'precision': 34.0858, 'recall': 28.2533, 'f1': 29.3539, 'auc': 75.225, 'prauc': 41.0832}\n",
      "Test-long: {'precision': 34.0912, 'recall': 29.2534, 'f1': 30.4214, 'auc': 75.0398, 'prauc': 43.3166}\n",
      "\n"
     ]
    },
    {
     "name": "stderr",
     "output_type": "stream",
     "text": [
      "Epoch 002: 100%|██████████| 215/215 [00:14<00:00, 14.70it/s, loss=0.2918]\n",
      "Running inference: 100%|██████████| 158/158 [00:07<00:00, 21.31it/s]\n",
      "Running inference: 100%|██████████| 159/159 [00:07<00:00, 21.31it/s]\n"
     ]
    },
    {
     "name": "stdout",
     "output_type": "stream",
     "text": [
      "Validation: {'precision': 42.5634, 'recall': 30.9284, 'f1': 32.2943, 'auc': 78.1618, 'prauc': 42.8977}\n",
      "Test:      {'precision': 42.411, 'recall': 31.2321, 'f1': 32.6222, 'auc': 78.2816, 'prauc': 43.2796}\n",
      "\n",
      "Validation-long: {'precision': 35.3692, 'recall': 33.1645, 'f1': 33.6994, 'auc': 78.0626, 'prauc': 43.6557}\n",
      "Test-long: {'precision': 42.1234, 'recall': 33.2725, 'f1': 34.4429, 'auc': 77.4603, 'prauc': 45.7343}\n",
      "\n"
     ]
    },
    {
     "name": "stderr",
     "output_type": "stream",
     "text": [
      "Epoch 003: 100%|██████████| 215/215 [00:14<00:00, 14.72it/s, loss=0.2792]\n",
      "Running inference: 100%|██████████| 158/158 [00:07<00:00, 20.30it/s]\n",
      "Running inference: 100%|██████████| 159/159 [00:07<00:00, 21.31it/s]\n"
     ]
    },
    {
     "name": "stdout",
     "output_type": "stream",
     "text": [
      "Validation: {'precision': 45.0705, 'recall': 30.6656, 'f1': 33.7399, 'auc': 78.4643, 'prauc': 44.179}\n",
      "Test:      {'precision': 44.6591, 'recall': 31.1009, 'f1': 34.0038, 'auc': 78.7331, 'prauc': 44.3694}\n",
      "\n",
      "Validation-long: {'precision': 44.8692, 'recall': 32.0985, 'f1': 34.3832, 'auc': 79.3514, 'prauc': 45.0777}\n",
      "Test-long: {'precision': 46.8687, 'recall': 32.5087, 'f1': 35.5879, 'auc': 77.2284, 'prauc': 46.8464}\n",
      "\n"
     ]
    },
    {
     "name": "stderr",
     "output_type": "stream",
     "text": [
      "Epoch 004: 100%|██████████| 215/215 [00:14<00:00, 14.75it/s, loss=0.2717]\n",
      "Running inference: 100%|██████████| 158/158 [00:07<00:00, 21.48it/s]\n",
      "Running inference: 100%|██████████| 159/159 [00:07<00:00, 21.22it/s]\n"
     ]
    },
    {
     "name": "stdout",
     "output_type": "stream",
     "text": [
      "Validation: {'precision': 44.8172, 'recall': 32.1901, 'f1': 35.9937, 'auc': 78.7143, 'prauc': 44.5835}\n",
      "Test:      {'precision': 44.4795, 'recall': 32.6754, 'f1': 36.218, 'auc': 78.8245, 'prauc': 44.4199}\n",
      "\n",
      "Validation-long: {'precision': 45.3925, 'recall': 32.6263, 'f1': 35.8893, 'auc': 79.3219, 'prauc': 45.1156}\n",
      "Test-long: {'precision': 45.6368, 'recall': 34.0685, 'f1': 37.6826, 'auc': 77.9307, 'prauc': 46.9785}\n",
      "\n"
     ]
    },
    {
     "name": "stderr",
     "output_type": "stream",
     "text": [
      "Epoch 005: 100%|██████████| 215/215 [00:14<00:00, 14.72it/s, loss=0.2635]\n",
      "Running inference: 100%|██████████| 158/158 [00:07<00:00, 21.28it/s]\n",
      "Running inference: 100%|██████████| 159/159 [00:07<00:00, 21.24it/s]\n"
     ]
    },
    {
     "name": "stdout",
     "output_type": "stream",
     "text": [
      "Validation: {'precision': 43.3204, 'recall': 34.4376, 'f1': 37.2951, 'auc': 78.6048, 'prauc': 44.2208}\n",
      "Test:      {'precision': 43.5196, 'recall': 34.8075, 'f1': 37.5841, 'auc': 78.8186, 'prauc': 44.5937}\n",
      "\n",
      "Validation-long: {'precision': 43.7166, 'recall': 33.7216, 'f1': 36.5874, 'auc': 79.3641, 'prauc': 45.1289}\n",
      "Test-long: {'precision': 46.0624, 'recall': 34.9277, 'f1': 38.5484, 'auc': 78.2466, 'prauc': 48.11}\n",
      "\n"
     ]
    },
    {
     "name": "stderr",
     "output_type": "stream",
     "text": [
      "Epoch 006: 100%|██████████| 215/215 [00:15<00:00, 14.21it/s, loss=0.2570]\n",
      "Running inference: 100%|██████████| 158/158 [00:07<00:00, 21.20it/s]\n",
      "Running inference: 100%|██████████| 159/159 [00:07<00:00, 21.24it/s]\n"
     ]
    },
    {
     "name": "stdout",
     "output_type": "stream",
     "text": [
      "Validation: {'precision': 43.5923, 'recall': 35.8308, 'f1': 38.4077, 'auc': 78.5007, 'prauc': 44.3258}\n",
      "Test:      {'precision': 43.4524, 'recall': 36.3213, 'f1': 38.66, 'auc': 78.7318, 'prauc': 44.6622}\n",
      "\n",
      "Validation-long: {'precision': 42.4564, 'recall': 37.5247, 'f1': 38.8137, 'auc': 77.2504, 'prauc': 45.0509}\n",
      "Test-long: {'precision': 44.2327, 'recall': 38.7065, 'f1': 40.342, 'auc': 78.3144, 'prauc': 47.2601}\n",
      "\n"
     ]
    },
    {
     "name": "stderr",
     "output_type": "stream",
     "text": [
      "Epoch 007: 100%|██████████| 215/215 [00:14<00:00, 14.73it/s, loss=0.2497]\n",
      "Running inference: 100%|██████████| 158/158 [00:07<00:00, 21.30it/s]\n",
      "Running inference: 100%|██████████| 159/159 [00:07<00:00, 21.23it/s]\n"
     ]
    },
    {
     "name": "stdout",
     "output_type": "stream",
     "text": [
      "Validation: {'precision': 43.4024, 'recall': 34.5732, 'f1': 37.5861, 'auc': 78.3723, 'prauc': 44.3012}\n",
      "Test:      {'precision': 43.4104, 'recall': 34.8556, 'f1': 37.7393, 'auc': 78.7062, 'prauc': 44.6771}\n",
      "\n",
      "Validation-long: {'precision': 42.386, 'recall': 35.9342, 'f1': 38.06, 'auc': 78.9684, 'prauc': 44.9909}\n",
      "Test-long: {'precision': 44.2615, 'recall': 37.3514, 'f1': 39.8027, 'auc': 77.8185, 'prauc': 47.5908}\n",
      "\n"
     ]
    },
    {
     "name": "stderr",
     "output_type": "stream",
     "text": [
      "Epoch 008: 100%|██████████| 215/215 [00:14<00:00, 14.75it/s, loss=0.2446]\n",
      "Running inference: 100%|██████████| 158/158 [00:07<00:00, 21.23it/s]\n",
      "Running inference: 100%|██████████| 159/159 [00:07<00:00, 20.10it/s]\n"
     ]
    },
    {
     "name": "stdout",
     "output_type": "stream",
     "text": [
      "Validation: {'precision': 47.8756, 'recall': 35.0274, 'f1': 37.5581, 'auc': 78.022, 'prauc': 43.9886}\n",
      "Test:      {'precision': 43.1967, 'recall': 35.6217, 'f1': 37.7288, 'auc': 78.2036, 'prauc': 44.1239}\n",
      "\n",
      "Validation-long: {'precision': 41.6554, 'recall': 36.8959, 'f1': 38.0289, 'auc': 77.9548, 'prauc': 44.2897}\n",
      "Test-long: {'precision': 42.8853, 'recall': 38.2267, 'f1': 39.5877, 'auc': 77.4969, 'prauc': 46.9938}\n",
      "\n"
     ]
    },
    {
     "name": "stderr",
     "output_type": "stream",
     "text": [
      "Epoch 009: 100%|██████████| 215/215 [00:14<00:00, 14.61it/s, loss=0.2374]\n",
      "Running inference: 100%|██████████| 158/158 [00:07<00:00, 21.28it/s]\n",
      "Running inference: 100%|██████████| 159/159 [00:07<00:00, 21.36it/s]\n"
     ]
    },
    {
     "name": "stdout",
     "output_type": "stream",
     "text": [
      "Validation: {'precision': 41.6462, 'recall': 37.3336, 'f1': 38.1557, 'auc': 77.8272, 'prauc': 43.6128}\n",
      "Test:      {'precision': 40.7793, 'recall': 37.7137, 'f1': 38.2654, 'auc': 78.322, 'prauc': 43.8371}\n",
      "\n",
      "Validation-long: {'precision': 45.6297, 'recall': 38.8722, 'f1': 38.4659, 'auc': 78.2458, 'prauc': 44.4707}\n",
      "Test-long: {'precision': 44.7293, 'recall': 40.1046, 'f1': 39.9142, 'auc': 77.8633, 'prauc': 47.3529}\n",
      "\n"
     ]
    },
    {
     "name": "stderr",
     "output_type": "stream",
     "text": [
      "Epoch 010: 100%|██████████| 215/215 [00:14<00:00, 14.72it/s, loss=0.2313]\n",
      "Running inference: 100%|██████████| 158/158 [00:07<00:00, 21.30it/s]\n",
      "Running inference: 100%|██████████| 159/159 [00:07<00:00, 21.27it/s]\n"
     ]
    },
    {
     "name": "stdout",
     "output_type": "stream",
     "text": [
      "Validation: {'precision': 45.5361, 'recall': 36.3839, 'f1': 38.4163, 'auc': 77.8778, 'prauc': 43.5076}\n",
      "Test:      {'precision': 46.2601, 'recall': 37.0242, 'f1': 38.7241, 'auc': 78.2588, 'prauc': 43.7664}\n",
      "\n",
      "Validation-long: {'precision': 42.9003, 'recall': 38.1802, 'f1': 39.4216, 'auc': 78.2849, 'prauc': 44.2371}\n",
      "Test-long: {'precision': 49.7567, 'recall': 39.2985, 'f1': 40.4634, 'auc': 77.2717, 'prauc': 47.0522}\n",
      "\n"
     ]
    },
    {
     "name": "stderr",
     "output_type": "stream",
     "text": [
      "Epoch 011: 100%|██████████| 215/215 [00:14<00:00, 14.76it/s, loss=0.2238]\n",
      "Running inference: 100%|██████████| 158/158 [00:07<00:00, 20.28it/s]\n",
      "Running inference: 100%|██████████| 159/159 [00:07<00:00, 21.33it/s]\n"
     ]
    },
    {
     "name": "stdout",
     "output_type": "stream",
     "text": [
      "Validation: {'precision': 44.3273, 'recall': 35.8588, 'f1': 37.699, 'auc': 77.3317, 'prauc': 42.7139}\n",
      "Test:      {'precision': 43.6167, 'recall': 36.7187, 'f1': 38.2101, 'auc': 77.6728, 'prauc': 43.2123}\n",
      "\n",
      "Validation-long: {'precision': 40.9632, 'recall': 38.2352, 'f1': 38.4114, 'auc': 78.7055, 'prauc': 44.1037}\n",
      "Test-long: {'precision': 47.9477, 'recall': 38.9665, 'f1': 39.4897, 'auc': 78.0692, 'prauc': 46.4479}\n",
      "\n"
     ]
    },
    {
     "name": "stderr",
     "output_type": "stream",
     "text": [
      "Epoch 012: 100%|██████████| 215/215 [00:14<00:00, 14.71it/s, loss=0.2166]\n",
      "Running inference: 100%|██████████| 158/158 [00:07<00:00, 21.27it/s]\n",
      "Running inference: 100%|██████████| 159/159 [00:07<00:00, 21.20it/s]\n"
     ]
    },
    {
     "name": "stdout",
     "output_type": "stream",
     "text": [
      "Validation: {'precision': 44.359, 'recall': 34.2299, 'f1': 36.4462, 'auc': 77.5185, 'prauc': 42.705}\n",
      "Test:      {'precision': 44.5878, 'recall': 35.0273, 'f1': 37.1483, 'auc': 77.505, 'prauc': 43.2991}\n",
      "\n",
      "Validation-long: {'precision': 43.605, 'recall': 36.1882, 'f1': 37.089, 'auc': 78.689, 'prauc': 44.2997}\n",
      "Test-long: {'precision': 51.9101, 'recall': 37.4931, 'f1': 38.9654, 'auc': 77.5126, 'prauc': 46.8206}\n",
      "\n"
     ]
    },
    {
     "name": "stderr",
     "output_type": "stream",
     "text": [
      "Epoch 013: 100%|██████████| 215/215 [00:14<00:00, 14.66it/s, loss=0.2108]\n",
      "Running inference: 100%|██████████| 158/158 [00:07<00:00, 21.38it/s]\n",
      "Running inference: 100%|██████████| 159/159 [00:07<00:00, 21.33it/s]\n"
     ]
    },
    {
     "name": "stdout",
     "output_type": "stream",
     "text": [
      "Validation: {'precision': 41.1942, 'recall': 37.7625, 'f1': 38.0876, 'auc': 77.0767, 'prauc': 42.4785}\n",
      "Test:      {'precision': 45.3969, 'recall': 38.6627, 'f1': 38.9783, 'auc': 77.7128, 'prauc': 42.9585}\n",
      "\n",
      "Validation-long: {'precision': 46.2346, 'recall': 39.133, 'f1': 39.2297, 'auc': 78.5525, 'prauc': 43.9451}\n",
      "Test-long: {'precision': 43.6759, 'recall': 39.9914, 'f1': 40.1943, 'auc': 78.238, 'prauc': 46.2515}\n",
      "\n"
     ]
    },
    {
     "name": "stderr",
     "output_type": "stream",
     "text": [
      "Epoch 014: 100%|██████████| 215/215 [00:14<00:00, 14.39it/s, loss=0.2040]\n",
      "Running inference: 100%|██████████| 158/158 [00:07<00:00, 21.12it/s]\n",
      "Running inference: 100%|██████████| 159/159 [00:07<00:00, 21.17it/s]\n"
     ]
    },
    {
     "name": "stdout",
     "output_type": "stream",
     "text": [
      "Validation: {'precision': 43.259, 'recall': 36.861, 'f1': 38.2561, 'auc': 76.9906, 'prauc': 42.5877}\n",
      "Test:      {'precision': 46.0416, 'recall': 37.5138, 'f1': 38.7774, 'auc': 77.4496, 'prauc': 42.599}\n",
      "\n",
      "Validation-long: {'precision': 40.6616, 'recall': 39.615, 'f1': 39.4409, 'auc': 78.2845, 'prauc': 43.2372}\n",
      "Test-long: {'precision': 45.0035, 'recall': 40.5316, 'f1': 41.0911, 'auc': 76.7696, 'prauc': 46.1705}\n",
      "\n"
     ]
    },
    {
     "name": "stderr",
     "output_type": "stream",
     "text": [
      "Epoch 015: 100%|██████████| 215/215 [00:14<00:00, 14.66it/s, loss=0.1974]\n",
      "Running inference: 100%|██████████| 158/158 [00:07<00:00, 21.17it/s]\n",
      "Running inference: 100%|██████████| 159/159 [00:07<00:00, 21.27it/s]\n"
     ]
    },
    {
     "name": "stdout",
     "output_type": "stream",
     "text": [
      "Validation: {'precision': 44.7694, 'recall': 35.7504, 'f1': 37.5328, 'auc': 76.8815, 'prauc': 42.4117}\n",
      "Test:      {'precision': 48.7815, 'recall': 36.0777, 'f1': 37.7534, 'auc': 77.3001, 'prauc': 42.8092}\n",
      "\n",
      "Validation-long: {'precision': 47.5339, 'recall': 37.9025, 'f1': 38.532, 'auc': 77.7888, 'prauc': 48.4457}\n",
      "Test-long: {'precision': 45.8478, 'recall': 38.2901, 'f1': 39.2503, 'auc': 77.5688, 'prauc': 46.0703}\n",
      "\n",
      "\n",
      "Early stopping triggered (no improvement for 5 epochs).\n",
      "\n",
      "Best validation performance:\n",
      "{'global': {'precision': 45.5361, 'recall': 36.3839, 'f1': 38.4163, 'auc': 77.8778, 'prauc': 43.5076}, 'per_class':                                            precision   recall       f1  \\\n",
      "Acute and unspecified renal failure          50.2408  27.0527  35.1685   \n",
      "Acute cerebrovascular disease                 0.0000   0.0000   0.0000   \n",
      "Acute myocardial infarction                  20.0000   0.4975   0.9709   \n",
      "Cardiac dysrhythmias                         74.0800  67.6406  70.7140   \n",
      "Chronic kidney disease                       81.4706  71.4531  76.1338   \n",
      "Chronic obstructive pulmonary disease        62.6424  61.3839  62.0068   \n",
      "Conduction disorders                          0.0000   0.0000   0.0000   \n",
      "Congestive heart failure; nonhypertensive    77.2298  65.0177  70.5995   \n",
      "Coronary atherosclerosis and related         77.9729  80.2794  79.1093   \n",
      "Disorders of lipid metabolism                75.8621  74.4186  75.1334   \n",
      "Essential hypertension                       76.1970  79.6093  77.8658   \n",
      "Fluid and electrolyte disorders              46.1383  42.3551  44.1659   \n",
      "Gastrointestinal hemorrhage                   0.0000   0.0000   0.0000   \n",
      "Hypertension with complications              74.3532  65.7711  69.7994   \n",
      "Other liver diseases                          0.0000   0.0000   0.0000   \n",
      "Other lower respiratory disease              47.2119  16.3660  24.3062   \n",
      "Pneumonia                                    33.3333   0.2732   0.5420   \n",
      "Septicemia (except in labor)                 22.9167   2.7919   4.9774   \n",
      "\n",
      "                                               auc    prauc  \n",
      "Acute and unspecified renal failure        72.7784  41.9895  \n",
      "Acute cerebrovascular disease              70.7562   4.7810  \n",
      "Acute myocardial infarction                76.4547  13.3067  \n",
      "Cardiac dysrhythmias                       85.8370  77.4221  \n",
      "Chronic kidney disease                     92.0110  82.4914  \n",
      "Chronic obstructive pulmonary disease      88.1489  54.4352  \n",
      "Conduction disorders                       74.3954   5.9687  \n",
      "Congestive heart failure; nonhypertensive  90.1415  77.8758  \n",
      "Coronary atherosclerosis and related       93.4194  81.9439  \n",
      "Disorders of lipid metabolism              87.6560  76.6852  \n",
      "Essential hypertension                     86.4007  79.4515  \n",
      "Fluid and electrolyte disorders            65.7218  45.4853  \n",
      "Gastrointestinal hemorrhage                65.6512   4.8012  \n",
      "Hypertension with complications            91.2991  75.4975  \n",
      "Other liver diseases                       57.7621   1.4106  \n",
      "Other lower respiratory disease            69.8685  33.4843  \n",
      "Pneumonia                                  66.3665  12.5256  \n",
      "Septicemia (except in labor)               67.1323  13.5815  }\n",
      "Corresponding test performance:\n",
      "{'global': {'precision': 46.2601, 'recall': 37.0242, 'f1': 38.7241, 'auc': 78.2588, 'prauc': 43.7664}, 'per_class':                                            precision   recall       f1  \\\n",
      "Acute and unspecified renal failure          48.8954  28.6454  36.1262   \n",
      "Acute cerebrovascular disease                 0.0000   0.0000   0.0000   \n",
      "Acute myocardial infarction                  27.2727   1.5625   2.9557   \n",
      "Cardiac dysrhythmias                         69.7694  63.8282  66.6667   \n",
      "Chronic kidney disease                       83.0586  71.5864  76.8970   \n",
      "Chronic obstructive pulmonary disease        60.7889  61.5023  61.1435   \n",
      "Conduction disorders                          0.0000   0.0000   0.0000   \n",
      "Congestive heart failure; nonhypertensive    77.4000  66.8971  71.7663   \n",
      "Coronary atherosclerosis and related         77.3109  81.0248  79.1243   \n",
      "Disorders of lipid metabolism                76.2814  76.2398  76.2606   \n",
      "Essential hypertension                       74.7089  79.9601  77.2454   \n",
      "Fluid and electrolyte disorders              45.8543  45.9987  45.9264   \n",
      "Gastrointestinal hemorrhage                   0.0000   0.0000   0.0000   \n",
      "Hypertension with complications              77.2541  70.5993  73.7769   \n",
      "Other liver diseases                          0.0000   0.0000   0.0000   \n",
      "Other lower respiratory disease              51.8657  16.2383  24.7331   \n",
      "Pneumonia                                    40.0000   0.5141   1.0152   \n",
      "Septicemia (except in labor)                 22.2222   1.8391   3.3970   \n",
      "\n",
      "                                               auc    prauc  \n",
      "Acute and unspecified renal failure        73.9061  42.7635  \n",
      "Acute cerebrovascular disease              70.4084   2.6167  \n",
      "Acute myocardial infarction                78.2872  13.6182  \n",
      "Cardiac dysrhythmias                       83.6484  72.4915  \n",
      "Chronic kidney disease                     92.3280  85.0932  \n",
      "Chronic obstructive pulmonary disease      88.1476  51.4448  \n",
      "Conduction disorders                       73.8619   6.8805  \n",
      "Congestive heart failure; nonhypertensive  90.4944  77.6534  \n",
      "Coronary atherosclerosis and related       93.3535  81.6410  \n",
      "Disorders of lipid metabolism              88.4606  76.2924  \n",
      "Essential hypertension                     87.4233  79.6130  \n",
      "Fluid and electrolyte disorders            66.8373  46.4128  \n",
      "Gastrointestinal hemorrhage                62.8397   5.7791  \n",
      "Hypertension with complications            92.5401  78.7362  \n",
      "Other liver diseases                       64.1651   2.4278  \n",
      "Other lower respiratory disease            68.7966  35.3364  \n",
      "Pneumonia                                  64.3331  13.3659  \n",
      "Septicemia (except in labor)               68.8266  15.6290  }\n",
      "Corresponding test-long performance:\n",
      "{'global': {'precision': 49.7567, 'recall': 39.2985, 'f1': 40.4634, 'auc': 77.2717, 'prauc': 47.0522}, 'per_class':                                            precision   recall       f1  \\\n",
      "Acute and unspecified renal failure          51.8672  45.4545  48.4496   \n",
      "Acute cerebrovascular disease                 0.0000   0.0000   0.0000   \n",
      "Acute myocardial infarction                   0.0000   0.0000   0.0000   \n",
      "Cardiac dysrhythmias                         73.0942  65.4618  69.0678   \n",
      "Chronic kidney disease                       85.7143  75.2351  80.1336   \n",
      "Chronic obstructive pulmonary disease        54.8780  58.4416  56.6038   \n",
      "Conduction disorders                          0.0000   0.0000   0.0000   \n",
      "Congestive heart failure; nonhypertensive    88.3178  70.0000  78.0992   \n",
      "Coronary atherosclerosis and related         77.4775  81.5166  79.4457   \n",
      "Disorders of lipid metabolism                76.4706  67.9443  71.9557   \n",
      "Essential hypertension                       73.0408  78.4512  75.6494   \n",
      "Fluid and electrolyte disorders              49.5833  66.6667  56.8698   \n",
      "Gastrointestinal hemorrhage                   0.0000   0.0000   0.0000   \n",
      "Hypertension with complications              77.3810  75.5814  76.4706   \n",
      "Other liver diseases                          0.0000   0.0000   0.0000   \n",
      "Other lower respiratory disease              67.7966  20.5128  31.4961   \n",
      "Pneumonia                                   100.0000   1.1628   2.2989   \n",
      "Septicemia (except in labor)                 20.0000   0.9434   1.8018   \n",
      "\n",
      "                                               auc    prauc  \n",
      "Acute and unspecified renal failure        71.7120  52.1418  \n",
      "Acute cerebrovascular disease              41.8192   0.1853  \n",
      "Acute myocardial infarction                78.3195  14.5106  \n",
      "Cardiac dysrhythmias                       85.3084  74.7685  \n",
      "Chronic kidney disease                     91.0481  88.2034  \n",
      "Chronic obstructive pulmonary disease      89.7551  45.7737  \n",
      "Conduction disorders                       76.7126   5.0972  \n",
      "Congestive heart failure; nonhypertensive  92.4673  86.7608  \n",
      "Coronary atherosclerosis and related       94.3730  81.0701  \n",
      "Disorders of lipid metabolism              90.6920  80.7360  \n",
      "Essential hypertension                     89.0093  78.5014  \n",
      "Fluid and electrolyte disorders            64.0202  52.3823  \n",
      "Gastrointestinal hemorrhage                59.6404   7.3490  \n",
      "Hypertension with complications            91.3813  81.8456  \n",
      "Other liver diseases                       79.0557  14.5738  \n",
      "Other lower respiratory disease            69.4055  47.4520  \n",
      "Pneumonia                                  61.1790  14.5283  \n",
      "Septicemia (except in labor)               64.9914  21.0595  }\n",
      "================================5==================================\n"
     ]
    },
    {
     "name": "stderr",
     "output_type": "stream",
     "text": [
      "Epoch 001: 100%|██████████| 215/215 [00:14<00:00, 14.73it/s, loss=0.3442]\n",
      "Running inference: 100%|██████████| 158/158 [00:07<00:00, 21.28it/s]\n",
      "Running inference: 100%|██████████| 159/159 [00:07<00:00, 20.15it/s]\n"
     ]
    },
    {
     "name": "stdout",
     "output_type": "stream",
     "text": [
      "Validation: {'precision': 34.9123, 'recall': 28.9434, 'f1': 29.6897, 'auc': 75.8685, 'prauc': 39.7679}\n",
      "Test:      {'precision': 34.4167, 'recall': 29.2968, 'f1': 29.9347, 'auc': 75.3203, 'prauc': 39.8946}\n",
      "\n",
      "Validation-long: {'precision': 34.4804, 'recall': 29.4191, 'f1': 30.9308, 'auc': 75.3413, 'prauc': 40.7565}\n",
      "Test-long: {'precision': 35.3142, 'recall': 29.7918, 'f1': 31.6642, 'auc': 73.9453, 'prauc': 42.9731}\n",
      "\n"
     ]
    },
    {
     "name": "stderr",
     "output_type": "stream",
     "text": [
      "Epoch 002: 100%|██████████| 215/215 [00:14<00:00, 14.68it/s, loss=0.2921]\n",
      "Running inference: 100%|██████████| 158/158 [00:07<00:00, 21.27it/s]\n",
      "Running inference: 100%|██████████| 159/159 [00:07<00:00, 21.23it/s]\n"
     ]
    },
    {
     "name": "stdout",
     "output_type": "stream",
     "text": [
      "Validation: {'precision': 42.5707, 'recall': 32.7214, 'f1': 34.287, 'auc': 77.4753, 'prauc': 42.561}\n",
      "Test:      {'precision': 42.2437, 'recall': 33.1532, 'f1': 34.613, 'auc': 77.6785, 'prauc': 42.6106}\n",
      "\n",
      "Validation-long: {'precision': 39.698, 'recall': 34.0379, 'f1': 34.4563, 'auc': 76.9361, 'prauc': 43.6445}\n",
      "Test-long: {'precision': 44.3699, 'recall': 34.9394, 'f1': 35.9538, 'auc': 76.851, 'prauc': 45.5675}\n",
      "\n"
     ]
    },
    {
     "name": "stderr",
     "output_type": "stream",
     "text": [
      "Epoch 003: 100%|██████████| 215/215 [00:14<00:00, 14.69it/s, loss=0.2776]\n",
      "Running inference: 100%|██████████| 158/158 [00:07<00:00, 21.24it/s]\n",
      "Running inference: 100%|██████████| 159/159 [00:07<00:00, 21.16it/s]\n"
     ]
    },
    {
     "name": "stdout",
     "output_type": "stream",
     "text": [
      "Validation: {'precision': 42.8313, 'recall': 34.8921, 'f1': 36.0222, 'auc': 78.1917, 'prauc': 43.7937}\n",
      "Test:      {'precision': 42.8938, 'recall': 35.291, 'f1': 36.2994, 'auc': 78.1069, 'prauc': 43.9719}\n",
      "\n",
      "Validation-long: {'precision': 42.0895, 'recall': 35.9019, 'f1': 36.0721, 'auc': 78.63, 'prauc': 44.5145}\n",
      "Test-long: {'precision': 43.8182, 'recall': 37.2979, 'f1': 38.0723, 'auc': 77.9745, 'prauc': 46.8953}\n",
      "\n"
     ]
    },
    {
     "name": "stderr",
     "output_type": "stream",
     "text": [
      "Epoch 004: 100%|██████████| 215/215 [00:15<00:00, 14.30it/s, loss=0.2699]\n",
      "Running inference: 100%|██████████| 158/158 [00:07<00:00, 21.16it/s]\n",
      "Running inference: 100%|██████████| 159/159 [00:07<00:00, 21.21it/s]\n"
     ]
    },
    {
     "name": "stdout",
     "output_type": "stream",
     "text": [
      "Validation: {'precision': 44.2066, 'recall': 34.738, 'f1': 37.4179, 'auc': 78.8263, 'prauc': 44.5305}\n",
      "Test:      {'precision': 43.8752, 'recall': 35.0652, 'f1': 37.4741, 'auc': 78.5418, 'prauc': 44.5545}\n",
      "\n",
      "Validation-long: {'precision': 44.3322, 'recall': 36.4524, 'f1': 37.9653, 'auc': 79.3687, 'prauc': 46.2599}\n",
      "Test-long: {'precision': 45.0209, 'recall': 37.613, 'f1': 39.3981, 'auc': 77.683, 'prauc': 47.2233}\n",
      "\n"
     ]
    },
    {
     "name": "stderr",
     "output_type": "stream",
     "text": [
      "Epoch 005: 100%|██████████| 215/215 [00:14<00:00, 14.68it/s, loss=0.2634]\n",
      "Running inference: 100%|██████████| 158/158 [00:07<00:00, 21.27it/s]\n",
      "Running inference: 100%|██████████| 159/159 [00:07<00:00, 21.20it/s]\n"
     ]
    },
    {
     "name": "stdout",
     "output_type": "stream",
     "text": [
      "Validation: {'precision': 43.434, 'recall': 35.2621, 'f1': 37.6801, 'auc': 78.6273, 'prauc': 44.2901}\n",
      "Test:      {'precision': 43.2054, 'recall': 36.0148, 'f1': 38.0801, 'auc': 78.7044, 'prauc': 44.3563}\n",
      "\n",
      "Validation-long: {'precision': 41.2586, 'recall': 36.5953, 'f1': 37.702, 'auc': 79.3638, 'prauc': 44.8227}\n",
      "Test-long: {'precision': 43.3712, 'recall': 38.7372, 'f1': 39.998, 'auc': 78.824, 'prauc': 46.9583}\n",
      "\n"
     ]
    },
    {
     "name": "stderr",
     "output_type": "stream",
     "text": [
      "Epoch 006: 100%|██████████| 215/215 [00:14<00:00, 14.67it/s, loss=0.2585]\n",
      "Running inference: 100%|██████████| 158/158 [00:07<00:00, 21.31it/s]\n",
      "Running inference: 100%|██████████| 159/159 [00:07<00:00, 20.28it/s]\n"
     ]
    },
    {
     "name": "stdout",
     "output_type": "stream",
     "text": [
      "Validation: {'precision': 44.5777, 'recall': 32.9902, 'f1': 36.789, 'auc': 78.7252, 'prauc': 44.5497}\n",
      "Test:      {'precision': 44.0362, 'recall': 33.5583, 'f1': 36.8569, 'auc': 78.5209, 'prauc': 44.3236}\n",
      "\n",
      "Validation-long: {'precision': 45.5578, 'recall': 34.5899, 'f1': 37.4049, 'auc': 79.5025, 'prauc': 46.0039}\n",
      "Test-long: {'precision': 45.6938, 'recall': 36.4347, 'f1': 39.0282, 'auc': 78.7108, 'prauc': 47.0164}\n",
      "\n"
     ]
    },
    {
     "name": "stderr",
     "output_type": "stream",
     "text": [
      "Epoch 007: 100%|██████████| 215/215 [00:14<00:00, 14.79it/s, loss=0.2512]\n",
      "Running inference: 100%|██████████| 158/158 [00:07<00:00, 21.29it/s]\n",
      "Running inference: 100%|██████████| 159/159 [00:07<00:00, 21.26it/s]\n"
     ]
    },
    {
     "name": "stdout",
     "output_type": "stream",
     "text": [
      "Validation: {'precision': 43.2914, 'recall': 37.1392, 'f1': 38.9854, 'auc': 78.244, 'prauc': 44.249}\n",
      "Test:      {'precision': 48.9088, 'recall': 38.2411, 'f1': 39.6796, 'auc': 78.4619, 'prauc': 44.4614}\n",
      "\n",
      "Validation-long: {'precision': 42.0513, 'recall': 38.5543, 'f1': 39.1784, 'auc': 77.908, 'prauc': 45.596}\n",
      "Test-long: {'precision': 43.3278, 'recall': 40.5243, 'f1': 41.3601, 'auc': 78.89, 'prauc': 47.4986}\n",
      "\n"
     ]
    },
    {
     "name": "stderr",
     "output_type": "stream",
     "text": [
      "Epoch 008: 100%|██████████| 215/215 [00:14<00:00, 14.75it/s, loss=0.2457]\n",
      "Running inference: 100%|██████████| 158/158 [00:07<00:00, 21.38it/s]\n",
      "Running inference: 100%|██████████| 159/159 [00:07<00:00, 21.35it/s]\n"
     ]
    },
    {
     "name": "stdout",
     "output_type": "stream",
     "text": [
      "Validation: {'precision': 45.163, 'recall': 33.7514, 'f1': 37.0909, 'auc': 78.5107, 'prauc': 44.1354}\n",
      "Test:      {'precision': 44.9131, 'recall': 34.4854, 'f1': 37.4962, 'auc': 78.5261, 'prauc': 44.2687}\n",
      "\n",
      "Validation-long: {'precision': 44.3604, 'recall': 35.0691, 'f1': 37.6971, 'auc': 79.0212, 'prauc': 45.9212}\n",
      "Test-long: {'precision': 44.8981, 'recall': 36.4266, 'f1': 39.0086, 'auc': 78.4973, 'prauc': 47.5186}\n",
      "\n"
     ]
    },
    {
     "name": "stderr",
     "output_type": "stream",
     "text": [
      "Epoch 009: 100%|██████████| 215/215 [00:14<00:00, 14.74it/s, loss=0.2381]\n",
      "Running inference: 100%|██████████| 158/158 [00:07<00:00, 20.25it/s]\n",
      "Running inference: 100%|██████████| 159/159 [00:07<00:00, 21.37it/s]\n"
     ]
    },
    {
     "name": "stdout",
     "output_type": "stream",
     "text": [
      "Validation: {'precision': 45.6897, 'recall': 35.4037, 'f1': 37.6153, 'auc': 78.1579, 'prauc': 43.9233}\n",
      "Test:      {'precision': 45.4403, 'recall': 35.7872, 'f1': 37.7878, 'auc': 78.3199, 'prauc': 43.8921}\n",
      "\n",
      "Validation-long: {'precision': 45.0569, 'recall': 36.9382, 'f1': 37.9695, 'auc': 78.5272, 'prauc': 45.6157}\n",
      "Test-long: {'precision': 48.3989, 'recall': 38.1728, 'f1': 39.5406, 'auc': 78.3662, 'prauc': 46.8256}\n",
      "\n"
     ]
    },
    {
     "name": "stderr",
     "output_type": "stream",
     "text": [
      "Epoch 010: 100%|██████████| 215/215 [00:14<00:00, 14.75it/s, loss=0.2300]\n",
      "Running inference: 100%|██████████| 158/158 [00:07<00:00, 21.35it/s]\n",
      "Running inference: 100%|██████████| 159/159 [00:07<00:00, 21.32it/s]\n"
     ]
    },
    {
     "name": "stdout",
     "output_type": "stream",
     "text": [
      "Validation: {'precision': 45.8071, 'recall': 35.2244, 'f1': 37.9992, 'auc': 78.014, 'prauc': 43.7244}\n",
      "Test:      {'precision': 45.7589, 'recall': 35.9639, 'f1': 38.3867, 'auc': 77.8783, 'prauc': 43.8384}\n",
      "\n",
      "Validation-long: {'precision': 46.0349, 'recall': 36.3588, 'f1': 38.6664, 'auc': 78.6033, 'prauc': 45.4492}\n",
      "Test-long: {'precision': 43.9997, 'recall': 37.8273, 'f1': 40.0397, 'auc': 78.1695, 'prauc': 47.2664}\n",
      "\n"
     ]
    },
    {
     "name": "stderr",
     "output_type": "stream",
     "text": [
      "Epoch 011: 100%|██████████| 215/215 [00:14<00:00, 14.77it/s, loss=0.2249]\n",
      "Running inference: 100%|██████████| 158/158 [00:07<00:00, 21.15it/s]\n",
      "Running inference: 100%|██████████| 159/159 [00:07<00:00, 21.19it/s]\n"
     ]
    },
    {
     "name": "stdout",
     "output_type": "stream",
     "text": [
      "Validation: {'precision': 45.6761, 'recall': 34.1824, 'f1': 37.3694, 'auc': 77.4598, 'prauc': 43.2727}\n",
      "Test:      {'precision': 47.0649, 'recall': 34.7186, 'f1': 37.653, 'auc': 77.2199, 'prauc': 43.2645}\n",
      "\n",
      "Validation-long: {'precision': 46.8918, 'recall': 36.3574, 'f1': 38.9917, 'auc': 78.2304, 'prauc': 45.6854}\n",
      "Test-long: {'precision': 43.884, 'recall': 37.2123, 'f1': 39.5412, 'auc': 77.7674, 'prauc': 46.5194}\n",
      "\n"
     ]
    },
    {
     "name": "stderr",
     "output_type": "stream",
     "text": [
      "Epoch 012: 100%|██████████| 215/215 [00:15<00:00, 14.28it/s, loss=0.2156]\n",
      "Running inference: 100%|██████████| 158/158 [00:07<00:00, 21.29it/s]\n",
      "Running inference: 100%|██████████| 159/159 [00:07<00:00, 21.33it/s]\n"
     ]
    },
    {
     "name": "stdout",
     "output_type": "stream",
     "text": [
      "Validation: {'precision': 44.0284, 'recall': 37.964, 'f1': 39.0331, 'auc': 77.2245, 'prauc': 43.0974}\n",
      "Test:      {'precision': 45.6744, 'recall': 38.5309, 'f1': 39.2263, 'auc': 77.4074, 'prauc': 42.9939}\n",
      "\n",
      "Validation-long: {'precision': 44.324, 'recall': 39.4592, 'f1': 39.7089, 'auc': 78.1629, 'prauc': 50.0904}\n",
      "Test-long: {'precision': 43.2056, 'recall': 40.8108, 'f1': 40.5708, 'auc': 77.8176, 'prauc': 45.977}\n",
      "\n"
     ]
    },
    {
     "name": "stderr",
     "output_type": "stream",
     "text": [
      "Epoch 013: 100%|██████████| 215/215 [00:14<00:00, 14.67it/s, loss=0.2094]\n",
      "Running inference: 100%|██████████| 158/158 [00:07<00:00, 21.35it/s]\n",
      "Running inference: 100%|██████████| 159/159 [00:07<00:00, 21.34it/s]\n"
     ]
    },
    {
     "name": "stdout",
     "output_type": "stream",
     "text": [
      "Validation: {'precision': 45.5446, 'recall': 36.666, 'f1': 38.6293, 'auc': 77.4576, 'prauc': 43.2279}\n",
      "Test:      {'precision': 46.4712, 'recall': 37.2527, 'f1': 38.9188, 'auc': 77.3754, 'prauc': 43.0425}\n",
      "\n",
      "Validation-long: {'precision': 42.94, 'recall': 39.2088, 'f1': 39.7095, 'auc': 78.2996, 'prauc': 50.2393}\n",
      "Test-long: {'precision': 48.2907, 'recall': 39.9694, 'f1': 40.7249, 'auc': 77.3753, 'prauc': 46.1786}\n",
      "\n"
     ]
    },
    {
     "name": "stderr",
     "output_type": "stream",
     "text": [
      "Epoch 014: 100%|██████████| 215/215 [00:14<00:00, 14.78it/s, loss=0.2038]\n",
      "Running inference: 100%|██████████| 158/158 [00:07<00:00, 21.38it/s]\n",
      "Running inference: 100%|██████████| 159/159 [00:07<00:00, 20.22it/s]\n"
     ]
    },
    {
     "name": "stdout",
     "output_type": "stream",
     "text": [
      "Validation: {'precision': 43.439, 'recall': 38.6685, 'f1': 39.54, 'auc': 77.2419, 'prauc': 43.0318}\n",
      "Test:      {'precision': 50.5123, 'recall': 39.2748, 'f1': 40.0331, 'auc': 77.1145, 'prauc': 42.8387}\n",
      "\n",
      "Validation-long: {'precision': 40.408, 'recall': 40.7842, 'f1': 40.1375, 'auc': 77.524, 'prauc': 45.408}\n",
      "Test-long: {'precision': 45.2854, 'recall': 41.6466, 'f1': 41.6724, 'auc': 76.7284, 'prauc': 45.9172}\n",
      "\n"
     ]
    },
    {
     "name": "stderr",
     "output_type": "stream",
     "text": [
      "Epoch 015: 100%|██████████| 215/215 [00:14<00:00, 14.77it/s, loss=0.1971]\n",
      "Running inference: 100%|██████████| 158/158 [00:07<00:00, 21.29it/s]\n",
      "Running inference: 100%|██████████| 159/159 [00:07<00:00, 21.27it/s]\n"
     ]
    },
    {
     "name": "stdout",
     "output_type": "stream",
     "text": [
      "Validation: {'precision': 43.859, 'recall': 38.2175, 'f1': 39.6883, 'auc': 77.1796, 'prauc': 42.9411}\n",
      "Test:      {'precision': 47.6985, 'recall': 39.0996, 'f1': 40.3349, 'auc': 76.9514, 'prauc': 42.7037}\n",
      "\n",
      "Validation-long: {'precision': 42.8102, 'recall': 40.108, 'f1': 40.3276, 'auc': 77.7419, 'prauc': 44.2194}\n",
      "Test-long: {'precision': 44.8865, 'recall': 41.7767, 'f1': 41.9282, 'auc': 75.989, 'prauc': 46.0458}\n",
      "\n"
     ]
    },
    {
     "name": "stderr",
     "output_type": "stream",
     "text": [
      "Epoch 016: 100%|██████████| 215/215 [00:14<00:00, 14.75it/s, loss=0.1903]\n",
      "Running inference: 100%|██████████| 158/158 [00:07<00:00, 21.38it/s]\n",
      "Running inference: 100%|██████████| 159/159 [00:07<00:00, 21.31it/s]\n"
     ]
    },
    {
     "name": "stdout",
     "output_type": "stream",
     "text": [
      "Validation: {'precision': 44.334, 'recall': 35.5978, 'f1': 37.9693, 'auc': 76.6923, 'prauc': 42.0538}\n",
      "Test:      {'precision': 44.4048, 'recall': 36.323, 'f1': 38.1526, 'auc': 76.617, 'prauc': 41.9506}\n",
      "\n",
      "Validation-long: {'precision': 42.3004, 'recall': 35.9275, 'f1': 37.8702, 'auc': 77.4368, 'prauc': 44.6847}\n",
      "Test-long: {'precision': 43.2201, 'recall': 37.179, 'f1': 39.093, 'auc': 76.8008, 'prauc': 45.5497}\n",
      "\n"
     ]
    },
    {
     "name": "stderr",
     "output_type": "stream",
     "text": [
      "Epoch 017: 100%|██████████| 215/215 [00:14<00:00, 14.38it/s, loss=0.1848]\n",
      "Running inference: 100%|██████████| 158/158 [00:07<00:00, 21.33it/s]\n",
      "Running inference: 100%|██████████| 159/159 [00:07<00:00, 21.29it/s]\n"
     ]
    },
    {
     "name": "stdout",
     "output_type": "stream",
     "text": [
      "Validation: {'precision': 45.2422, 'recall': 36.9945, 'f1': 39.1145, 'auc': 76.8325, 'prauc': 42.3514}\n",
      "Test:      {'precision': 50.7669, 'recall': 37.7369, 'f1': 39.5244, 'auc': 76.9434, 'prauc': 42.3379}\n",
      "\n",
      "Validation-long: {'precision': 42.0569, 'recall': 38.64, 'f1': 39.6154, 'auc': 77.4193, 'prauc': 44.372}\n",
      "Test-long: {'precision': 42.7169, 'recall': 40.1246, 'f1': 40.679, 'auc': 76.8933, 'prauc': 45.6479}\n",
      "\n"
     ]
    },
    {
     "name": "stderr",
     "output_type": "stream",
     "text": [
      "Epoch 018: 100%|██████████| 215/215 [00:14<00:00, 14.73it/s, loss=0.1780]\n",
      "Running inference: 100%|██████████| 158/158 [00:07<00:00, 21.62it/s]\n",
      "Running inference: 100%|██████████| 159/159 [00:07<00:00, 21.55it/s]\n"
     ]
    },
    {
     "name": "stdout",
     "output_type": "stream",
     "text": [
      "Validation: {'precision': 44.5283, 'recall': 37.1329, 'f1': 38.7785, 'auc': 76.9631, 'prauc': 42.5794}\n",
      "Test:      {'precision': 48.8926, 'recall': 37.9194, 'f1': 39.3175, 'auc': 76.8888, 'prauc': 42.1802}\n",
      "\n",
      "Validation-long: {'precision': 41.0349, 'recall': 38.6159, 'f1': 39.1724, 'auc': 78.0086, 'prauc': 44.1338}\n",
      "Test-long: {'precision': 44.7881, 'recall': 41.811, 'f1': 42.1245, 'auc': 77.3563, 'prauc': 45.5625}\n",
      "\n"
     ]
    },
    {
     "name": "stderr",
     "output_type": "stream",
     "text": [
      "Epoch 019: 100%|██████████| 215/215 [00:14<00:00, 14.85it/s, loss=0.1741]\n",
      "Running inference: 100%|██████████| 158/158 [00:07<00:00, 21.49it/s]\n",
      "Running inference: 100%|██████████| 159/159 [00:07<00:00, 20.39it/s]\n"
     ]
    },
    {
     "name": "stdout",
     "output_type": "stream",
     "text": [
      "Validation: {'precision': 42.6521, 'recall': 37.4949, 'f1': 38.6089, 'auc': 76.4956, 'prauc': 42.0708}\n",
      "Test:      {'precision': 43.8546, 'recall': 37.9706, 'f1': 38.9167, 'auc': 76.495, 'prauc': 41.8313}\n",
      "\n",
      "Validation-long: {'precision': 39.7958, 'recall': 38.7002, 'f1': 38.747, 'auc': 76.8753, 'prauc': 48.9111}\n",
      "Test-long: {'precision': 42.6352, 'recall': 39.6998, 'f1': 40.1954, 'auc': 76.1954, 'prauc': 45.0268}\n",
      "\n"
     ]
    },
    {
     "name": "stderr",
     "output_type": "stream",
     "text": [
      "Epoch 020: 100%|██████████| 215/215 [00:14<00:00, 14.78it/s, loss=0.1673]\n",
      "Running inference: 100%|██████████| 158/158 [00:07<00:00, 21.36it/s]\n",
      "Running inference: 100%|██████████| 159/159 [00:07<00:00, 21.51it/s]\n"
     ]
    },
    {
     "name": "stdout",
     "output_type": "stream",
     "text": [
      "Validation: {'precision': 42.5714, 'recall': 37.1227, 'f1': 38.4634, 'auc': 76.5104, 'prauc': 41.9193}\n",
      "Test:      {'precision': 47.4635, 'recall': 37.8005, 'f1': 38.9949, 'auc': 76.7458, 'prauc': 41.6119}\n",
      "\n",
      "Validation-long: {'precision': 40.0595, 'recall': 38.4813, 'f1': 38.805, 'auc': 76.9428, 'prauc': 43.8251}\n",
      "Test-long: {'precision': 47.9898, 'recall': 39.864, 'f1': 40.1382, 'auc': 76.9275, 'prauc': 45.2864}\n",
      "\n",
      "\n",
      "Early stopping triggered (no improvement for 5 epochs).\n",
      "\n",
      "Best validation performance:\n",
      "{'global': {'precision': 43.859, 'recall': 38.2175, 'f1': 39.6883, 'auc': 77.1796, 'prauc': 42.9411}, 'per_class':                                            precision   recall       f1  \\\n",
      "Acute and unspecified renal failure          41.1318  42.0916  41.6062   \n",
      "Acute cerebrovascular disease                 0.0000   0.0000   0.0000   \n",
      "Acute myocardial infarction                  26.9231   3.4826   6.1674   \n",
      "Cardiac dysrhythmias                         80.6364  64.7918  71.8510   \n",
      "Chronic kidney disease                       77.4194  74.2906  75.8227   \n",
      "Chronic obstructive pulmonary disease        60.8696  53.1250  56.7342   \n",
      "Conduction disorders                          0.0000   0.0000   0.0000   \n",
      "Congestive heart failure; nonhypertensive    74.8773  67.4028  70.9437   \n",
      "Coronary atherosclerosis and related         79.0295  74.9384  76.9296   \n",
      "Disorders of lipid metabolism                72.4417  80.4440  76.2334   \n",
      "Essential hypertension                       75.1718  78.1801  76.6464   \n",
      "Fluid and electrolyte disorders              46.6406  44.0814  45.3249   \n",
      "Gastrointestinal hemorrhage                   0.0000   0.0000   0.0000   \n",
      "Hypertension with complications              71.3147  71.2438  71.2792   \n",
      "Other liver diseases                          0.0000   0.0000   0.0000   \n",
      "Other lower respiratory disease              35.3846  23.7113  28.3951   \n",
      "Pneumonia                                    23.0769   3.2787   5.7416   \n",
      "Septicemia (except in labor)                 24.5455   6.8528  10.7143   \n",
      "\n",
      "                                               auc    prauc  \n",
      "Acute and unspecified renal failure        70.8640  40.2040  \n",
      "Acute cerebrovascular disease              72.1736   4.7407  \n",
      "Acute myocardial infarction                74.9662  11.9063  \n",
      "Cardiac dysrhythmias                       84.8834  76.7079  \n",
      "Chronic kidney disease                     91.9266  82.9601  \n",
      "Chronic obstructive pulmonary disease      87.3620  52.5429  \n",
      "Conduction disorders                       73.2063   5.5611  \n",
      "Congestive heart failure; nonhypertensive  89.5471  76.4495  \n",
      "Coronary atherosclerosis and related       92.8374  81.5998  \n",
      "Disorders of lipid metabolism              87.4316  76.8849  \n",
      "Essential hypertension                     85.6869  78.5085  \n",
      "Fluid and electrolyte disorders            65.6600  46.5236  \n",
      "Gastrointestinal hemorrhage                66.2597   4.8636  \n",
      "Hypertension with complications            91.0751  75.6039  \n",
      "Other liver diseases                       58.3379   1.4523  \n",
      "Other lower respiratory disease            67.7717  31.2213  \n",
      "Pneumonia                                  64.5614  11.5342  \n",
      "Septicemia (except in labor)               64.6818  13.6759  }\n",
      "Corresponding test performance:\n",
      "{'global': {'precision': 47.6985, 'recall': 39.0996, 'f1': 40.3349, 'auc': 76.9514, 'prauc': 42.7037}, 'per_class':                                            precision   recall       f1  \\\n",
      "Acute and unspecified renal failure          43.0993  46.0742  44.5371   \n",
      "Acute cerebrovascular disease                 0.0000   0.0000   0.0000   \n",
      "Acute myocardial infarction                  27.5862   4.1667   7.2398   \n",
      "Cardiac dysrhythmias                         77.0751  58.7792  66.6952   \n",
      "Chronic kidney disease                       80.7986  75.0592  77.8232   \n",
      "Chronic obstructive pulmonary disease        60.6796  58.6854  59.6659   \n",
      "Conduction disorders                         66.6667   1.7544   3.4188   \n",
      "Congestive heart failure; nonhypertensive    73.7466  69.9222  71.7835   \n",
      "Coronary atherosclerosis and related         77.4760  77.6621  77.5690   \n",
      "Disorders of lipid metabolism                71.6999  82.2888  76.6303   \n",
      "Essential hypertension                       73.9336  77.7667  75.8017   \n",
      "Fluid and electrolyte disorders              45.1592  43.7933  44.4658   \n",
      "Gastrointestinal hemorrhage                   0.0000   0.0000   0.0000   \n",
      "Hypertension with complications              73.9212  73.7828  73.8519   \n",
      "Other liver diseases                          7.6923   2.0833   3.2787   \n",
      "Other lower respiratory disease              40.2367  23.8318  29.9340   \n",
      "Pneumonia                                    19.6721   3.0848   5.3333   \n",
      "Septicemia (except in labor)                 19.1304   5.0575   8.0000   \n",
      "\n",
      "                                               auc    prauc  \n",
      "Acute and unspecified renal failure        72.3885  39.3909  \n",
      "Acute cerebrovascular disease              65.5038   2.2418  \n",
      "Acute myocardial infarction                78.4368  13.3370  \n",
      "Cardiac dysrhythmias                       83.2025  71.4681  \n",
      "Chronic kidney disease                     92.0668  84.3936  \n",
      "Chronic obstructive pulmonary disease      86.9243  49.7245  \n",
      "Conduction disorders                       73.1887   7.8217  \n",
      "Congestive heart failure; nonhypertensive  89.5533  75.7200  \n",
      "Coronary atherosclerosis and related       93.0403  80.6114  \n",
      "Disorders of lipid metabolism              87.4742  74.2396  \n",
      "Essential hypertension                     86.1323  77.8129  \n",
      "Fluid and electrolyte disorders            65.1548  44.3996  \n",
      "Gastrointestinal hemorrhage                62.6238   6.4214  \n",
      "Hypertension with complications            92.0540  77.9801  \n",
      "Other liver diseases                       59.7704   3.5882  \n",
      "Other lower respiratory disease            66.6893  32.5178  \n",
      "Pneumonia                                  63.4383  12.2542  \n",
      "Septicemia (except in labor)               67.4841  14.7443  }\n",
      "Corresponding test-long performance:\n",
      "{'global': {'precision': 44.8865, 'recall': 41.7767, 'f1': 41.9282, 'auc': 75.989, 'prauc': 46.0458}, 'per_class':                                            precision   recall       f1  \\\n",
      "Acute and unspecified renal failure          47.8873  61.8182  53.9683   \n",
      "Acute cerebrovascular disease                 0.0000   0.0000   0.0000   \n",
      "Acute myocardial infarction                  20.0000   3.3333   5.7143   \n",
      "Cardiac dysrhythmias                         78.2178  63.4538  70.0665   \n",
      "Chronic kidney disease                       81.7891  80.2508  81.0127   \n",
      "Chronic obstructive pulmonary disease        53.6232  48.0519  50.6849   \n",
      "Conduction disorders                          0.0000   0.0000   0.0000   \n",
      "Congestive heart failure; nonhypertensive    79.0875  77.0370  78.0488   \n",
      "Coronary atherosclerosis and related         77.0270  81.0427  78.9838   \n",
      "Disorders of lipid metabolism                71.7718  83.2753  77.0968   \n",
      "Essential hypertension                       73.3108  73.0640  73.1872   \n",
      "Fluid and electrolyte disorders              51.8779  61.9048  56.4496   \n",
      "Gastrointestinal hemorrhage                   0.0000   0.0000   0.0000   \n",
      "Hypertension with complications              74.2049  81.3953  77.6340   \n",
      "Other liver diseases                          0.0000   0.0000   0.0000   \n",
      "Other lower respiratory disease              51.8868  28.2051  36.5449   \n",
      "Pneumonia                                    20.0000   3.4884   5.9406   \n",
      "Septicemia (except in labor)                 27.2727   5.6604   9.3750   \n",
      "\n",
      "                                               auc    prauc  \n",
      "Acute and unspecified renal failure        70.2523  46.0510  \n",
      "Acute cerebrovascular disease              36.1556   0.1787  \n",
      "Acute myocardial infarction                81.4046  13.7425  \n",
      "Cardiac dysrhythmias                       84.9587  75.6415  \n",
      "Chronic kidney disease                     91.2743  89.0537  \n",
      "Chronic obstructive pulmonary disease      90.1053  52.1476  \n",
      "Conduction disorders                       69.4930   3.6534  \n",
      "Congestive heart failure; nonhypertensive  91.2663  84.7655  \n",
      "Coronary atherosclerosis and related       94.4493  80.8430  \n",
      "Disorders of lipid metabolism              91.0656  81.6648  \n",
      "Essential hypertension                     87.7953  77.1601  \n",
      "Fluid and electrolyte disorders            64.1689  52.5722  \n",
      "Gastrointestinal hemorrhage                57.0916   6.6943  \n",
      "Hypertension with complications            91.3361  82.7194  \n",
      "Other liver diseases                       76.0031   3.3168  \n",
      "Other lower respiratory disease            65.3044  43.2855  \n",
      "Pneumonia                                  60.0191  14.3830  \n",
      "Septicemia (except in labor)               65.6579  20.9522  }\n",
      "================================6==================================\n"
     ]
    },
    {
     "name": "stderr",
     "output_type": "stream",
     "text": [
      "Epoch 001: 100%|██████████| 215/215 [00:14<00:00, 14.92it/s, loss=0.3441]\n",
      "Running inference: 100%|██████████| 158/158 [00:07<00:00, 21.61it/s]\n",
      "Running inference: 100%|██████████| 159/159 [00:07<00:00, 21.39it/s]\n"
     ]
    },
    {
     "name": "stdout",
     "output_type": "stream",
     "text": [
      "Validation: {'precision': 38.4889, 'recall': 29.3768, 'f1': 29.2382, 'auc': 75.5213, 'prauc': 39.7744}\n",
      "Test:      {'precision': 38.3645, 'recall': 29.9843, 'f1': 29.4405, 'auc': 75.1696, 'prauc': 39.8711}\n",
      "\n",
      "Validation-long: {'precision': 36.8693, 'recall': 30.6348, 'f1': 29.7263, 'auc': 74.9998, 'prauc': 40.6654}\n",
      "Test-long: {'precision': 40.1911, 'recall': 32.0692, 'f1': 30.8863, 'auc': 74.4262, 'prauc': 43.6732}\n",
      "\n"
     ]
    },
    {
     "name": "stderr",
     "output_type": "stream",
     "text": [
      "Epoch 002: 100%|██████████| 215/215 [00:14<00:00, 14.82it/s, loss=0.2925]\n",
      "Running inference: 100%|██████████| 158/158 [00:07<00:00, 20.47it/s]\n",
      "Running inference: 100%|██████████| 159/159 [00:07<00:00, 21.45it/s]\n"
     ]
    },
    {
     "name": "stdout",
     "output_type": "stream",
     "text": [
      "Validation: {'precision': 41.4385, 'recall': 33.2356, 'f1': 34.3913, 'auc': 77.5495, 'prauc': 42.6277}\n",
      "Test:      {'precision': 42.7923, 'recall': 33.9145, 'f1': 34.8796, 'auc': 77.5685, 'prauc': 42.7009}\n",
      "\n",
      "Validation-long: {'precision': 41.4588, 'recall': 35.3816, 'f1': 35.1079, 'auc': 77.7099, 'prauc': 43.8738}\n",
      "Test-long: {'precision': 43.7538, 'recall': 37.0291, 'f1': 37.0406, 'auc': 76.9377, 'prauc': 45.8574}\n",
      "\n"
     ]
    },
    {
     "name": "stderr",
     "output_type": "stream",
     "text": [
      "Epoch 003: 100%|██████████| 215/215 [00:14<00:00, 14.84it/s, loss=0.2779]\n",
      "Running inference: 100%|██████████| 158/158 [00:07<00:00, 21.40it/s]\n",
      "Running inference: 100%|██████████| 159/159 [00:07<00:00, 21.42it/s]\n"
     ]
    },
    {
     "name": "stdout",
     "output_type": "stream",
     "text": [
      "Validation: {'precision': 44.1949, 'recall': 32.5986, 'f1': 35.9931, 'auc': 79.0529, 'prauc': 43.8629}\n",
      "Test:      {'precision': 44.6252, 'recall': 33.4877, 'f1': 36.7065, 'auc': 78.551, 'prauc': 44.0586}\n",
      "\n",
      "Validation-long: {'precision': 44.2418, 'recall': 34.1964, 'f1': 36.8482, 'auc': 79.44, 'prauc': 44.8475}\n",
      "Test-long: {'precision': 46.0862, 'recall': 35.9815, 'f1': 39.0389, 'auc': 77.9721, 'prauc': 47.1442}\n",
      "\n"
     ]
    },
    {
     "name": "stderr",
     "output_type": "stream",
     "text": [
      "Epoch 004: 100%|██████████| 215/215 [00:14<00:00, 14.90it/s, loss=0.2702]\n",
      "Running inference: 100%|██████████| 158/158 [00:07<00:00, 21.37it/s]\n",
      "Running inference: 100%|██████████| 159/159 [00:07<00:00, 21.37it/s]\n"
     ]
    },
    {
     "name": "stdout",
     "output_type": "stream",
     "text": [
      "Validation: {'precision': 43.7051, 'recall': 34.9876, 'f1': 37.1966, 'auc': 78.8636, 'prauc': 44.2075}\n",
      "Test:      {'precision': 43.1224, 'recall': 35.5813, 'f1': 37.463, 'auc': 78.9447, 'prauc': 44.1489}\n",
      "\n",
      "Validation-long: {'precision': 43.1782, 'recall': 36.9927, 'f1': 37.9349, 'auc': 79.5308, 'prauc': 45.551}\n",
      "Test-long: {'precision': 44.5284, 'recall': 38.6807, 'f1': 39.7814, 'auc': 78.0086, 'prauc': 47.982}\n",
      "\n"
     ]
    },
    {
     "name": "stderr",
     "output_type": "stream",
     "text": [
      "Epoch 005: 100%|██████████| 215/215 [00:14<00:00, 14.48it/s, loss=0.2646]\n",
      "Running inference: 100%|██████████| 158/158 [00:07<00:00, 21.40it/s]\n",
      "Running inference: 100%|██████████| 159/159 [00:07<00:00, 21.40it/s]\n"
     ]
    },
    {
     "name": "stdout",
     "output_type": "stream",
     "text": [
      "Validation: {'precision': 44.6376, 'recall': 32.9712, 'f1': 35.6938, 'auc': 79.1628, 'prauc': 44.5141}\n",
      "Test:      {'precision': 43.9402, 'recall': 33.5934, 'f1': 36.0447, 'auc': 78.6791, 'prauc': 44.405}\n",
      "\n",
      "Validation-long: {'precision': 45.0036, 'recall': 33.8457, 'f1': 36.5994, 'auc': 79.5921, 'prauc': 45.6362}\n",
      "Test-long: {'precision': 45.6832, 'recall': 35.0264, 'f1': 37.882, 'auc': 77.5254, 'prauc': 46.9595}\n",
      "\n"
     ]
    },
    {
     "name": "stderr",
     "output_type": "stream",
     "text": [
      "Epoch 006: 100%|██████████| 215/215 [00:14<00:00, 14.93it/s, loss=0.2580]\n",
      "Running inference: 100%|██████████| 158/158 [00:07<00:00, 21.42it/s]\n",
      "Running inference: 100%|██████████| 159/159 [00:07<00:00, 21.30it/s]\n"
     ]
    },
    {
     "name": "stdout",
     "output_type": "stream",
     "text": [
      "Validation: {'precision': 43.0597, 'recall': 34.2367, 'f1': 36.9733, 'auc': 79.3741, 'prauc': 44.3955}\n",
      "Test:      {'precision': 43.0451, 'recall': 34.6758, 'f1': 37.1653, 'auc': 79.285, 'prauc': 44.3987}\n",
      "\n",
      "Validation-long: {'precision': 43.15, 'recall': 36.9754, 'f1': 38.5173, 'auc': 79.9087, 'prauc': 45.6655}\n",
      "Test-long: {'precision': 43.8641, 'recall': 37.4376, 'f1': 39.4032, 'auc': 78.7769, 'prauc': 47.1766}\n",
      "\n"
     ]
    },
    {
     "name": "stderr",
     "output_type": "stream",
     "text": [
      "Epoch 007: 100%|██████████| 215/215 [00:14<00:00, 14.91it/s, loss=0.2512]\n",
      "Running inference: 100%|██████████| 158/158 [00:07<00:00, 21.42it/s]\n",
      "Running inference: 100%|██████████| 159/159 [00:07<00:00, 20.25it/s]\n"
     ]
    },
    {
     "name": "stdout",
     "output_type": "stream",
     "text": [
      "Validation: {'precision': 43.6778, 'recall': 32.9106, 'f1': 36.1712, 'auc': 79.2758, 'prauc': 44.3436}\n",
      "Test:      {'precision': 43.9328, 'recall': 33.448, 'f1': 36.4411, 'auc': 78.9853, 'prauc': 44.5769}\n",
      "\n",
      "Validation-long: {'precision': 44.2654, 'recall': 36.14, 'f1': 38.6641, 'auc': 79.8587, 'prauc': 45.8572}\n",
      "Test-long: {'precision': 44.5542, 'recall': 36.0989, 'f1': 38.7506, 'auc': 79.6838, 'prauc': 47.1495}\n",
      "\n"
     ]
    },
    {
     "name": "stderr",
     "output_type": "stream",
     "text": [
      "Epoch 008: 100%|██████████| 215/215 [00:14<00:00, 14.77it/s, loss=0.2440]\n",
      "Running inference: 100%|██████████| 158/158 [00:07<00:00, 21.60it/s]\n",
      "Running inference: 100%|██████████| 159/159 [00:07<00:00, 21.54it/s]\n"
     ]
    },
    {
     "name": "stdout",
     "output_type": "stream",
     "text": [
      "Validation: {'precision': 43.9961, 'recall': 35.7906, 'f1': 37.7829, 'auc': 78.6669, 'prauc': 44.0694}\n",
      "Test:      {'precision': 42.8078, 'recall': 36.1195, 'f1': 37.8307, 'auc': 78.4929, 'prauc': 44.0672}\n",
      "\n",
      "Validation-long: {'precision': 42.4973, 'recall': 39.2342, 'f1': 39.2402, 'auc': 79.7209, 'prauc': 45.9413}\n",
      "Test-long: {'precision': 43.8285, 'recall': 40.2464, 'f1': 40.445, 'auc': 77.8476, 'prauc': 47.3607}\n",
      "\n"
     ]
    },
    {
     "name": "stderr",
     "output_type": "stream",
     "text": [
      "Epoch 009: 100%|██████████| 215/215 [00:14<00:00, 14.87it/s, loss=0.2374]\n",
      "Running inference: 100%|██████████| 158/158 [00:07<00:00, 21.63it/s]\n",
      "Running inference: 100%|██████████| 159/159 [00:07<00:00, 21.37it/s]\n"
     ]
    },
    {
     "name": "stdout",
     "output_type": "stream",
     "text": [
      "Validation: {'precision': 45.3637, 'recall': 35.4294, 'f1': 38.1328, 'auc': 78.7653, 'prauc': 43.8787}\n",
      "Test:      {'precision': 42.9751, 'recall': 35.5151, 'f1': 37.9106, 'auc': 78.4262, 'prauc': 43.9865}\n",
      "\n",
      "Validation-long: {'precision': 44.6473, 'recall': 37.7613, 'f1': 39.3566, 'auc': 80.1835, 'prauc': 45.665}\n",
      "Test-long: {'precision': 44.2051, 'recall': 39.1607, 'f1': 40.3616, 'auc': 77.4253, 'prauc': 46.8797}\n",
      "\n"
     ]
    },
    {
     "name": "stderr",
     "output_type": "stream",
     "text": [
      "Epoch 010: 100%|██████████| 215/215 [00:15<00:00, 14.32it/s, loss=0.2309]\n",
      "Running inference: 100%|██████████| 158/158 [00:07<00:00, 21.25it/s]\n",
      "Running inference: 100%|██████████| 159/159 [00:07<00:00, 21.31it/s]\n"
     ]
    },
    {
     "name": "stdout",
     "output_type": "stream",
     "text": [
      "Validation: {'precision': 46.1924, 'recall': 34.2416, 'f1': 37.4063, 'auc': 78.0258, 'prauc': 43.3495}\n",
      "Test:      {'precision': 42.7531, 'recall': 35.0936, 'f1': 37.8589, 'auc': 78.1264, 'prauc': 43.4785}\n",
      "\n",
      "Validation-long: {'precision': 41.4318, 'recall': 36.5127, 'f1': 38.4593, 'auc': 78.9418, 'prauc': 45.0284}\n",
      "Test-long: {'precision': 43.3547, 'recall': 38.2393, 'f1': 40.4249, 'auc': 77.483, 'prauc': 47.1396}\n",
      "\n"
     ]
    },
    {
     "name": "stderr",
     "output_type": "stream",
     "text": [
      "Epoch 011: 100%|██████████| 215/215 [00:14<00:00, 14.71it/s, loss=0.2234]\n",
      "Running inference: 100%|██████████| 158/158 [00:07<00:00, 21.45it/s]\n",
      "Running inference: 100%|██████████| 159/159 [00:07<00:00, 21.47it/s]\n"
     ]
    },
    {
     "name": "stdout",
     "output_type": "stream",
     "text": [
      "Validation: {'precision': 49.4869, 'recall': 37.0978, 'f1': 39.0169, 'auc': 77.9898, 'prauc': 43.2844}\n",
      "Test:      {'precision': 41.8354, 'recall': 37.2013, 'f1': 38.6163, 'auc': 77.8101, 'prauc': 43.3744}\n",
      "\n",
      "Validation-long: {'precision': 46.5506, 'recall': 39.6051, 'f1': 39.8145, 'auc': 79.117, 'prauc': 44.9584}\n",
      "Test-long: {'precision': 42.4815, 'recall': 40.7969, 'f1': 41.078, 'auc': 77.3797, 'prauc': 46.6474}\n",
      "\n"
     ]
    },
    {
     "name": "stderr",
     "output_type": "stream",
     "text": [
      "Epoch 012: 100%|██████████| 215/215 [00:14<00:00, 14.86it/s, loss=0.2168]\n",
      "Running inference: 100%|██████████| 158/158 [00:07<00:00, 21.55it/s]\n",
      "Running inference: 100%|██████████| 159/159 [00:07<00:00, 20.40it/s]\n"
     ]
    },
    {
     "name": "stdout",
     "output_type": "stream",
     "text": [
      "Validation: {'precision': 43.354, 'recall': 35.4967, 'f1': 38.1864, 'auc': 77.7197, 'prauc': 42.8021}\n",
      "Test:      {'precision': 43.1267, 'recall': 35.8193, 'f1': 38.315, 'auc': 77.6322, 'prauc': 43.005}\n",
      "\n",
      "Validation-long: {'precision': 43.1374, 'recall': 36.824, 'f1': 38.6815, 'auc': 78.8021, 'prauc': 44.2878}\n",
      "Test-long: {'precision': 46.473, 'recall': 37.9387, 'f1': 40.4436, 'auc': 77.4875, 'prauc': 46.2871}\n",
      "\n"
     ]
    },
    {
     "name": "stderr",
     "output_type": "stream",
     "text": [
      "Epoch 013: 100%|██████████| 215/215 [00:14<00:00, 14.80it/s, loss=0.2092]\n",
      "Running inference: 100%|██████████| 158/158 [00:07<00:00, 21.36it/s]\n",
      "Running inference: 100%|██████████| 159/159 [00:07<00:00, 21.50it/s]\n"
     ]
    },
    {
     "name": "stdout",
     "output_type": "stream",
     "text": [
      "Validation: {'precision': 43.5191, 'recall': 36.8868, 'f1': 38.8366, 'auc': 77.2407, 'prauc': 42.2867}\n",
      "Test:      {'precision': 45.1967, 'recall': 37.3162, 'f1': 39.0143, 'auc': 77.2559, 'prauc': 42.606}\n",
      "\n",
      "Validation-long: {'precision': 41.843, 'recall': 39.3205, 'f1': 39.8478, 'auc': 77.2704, 'prauc': 44.0746}\n",
      "Test-long: {'precision': 42.1862, 'recall': 39.9336, 'f1': 40.4415, 'auc': 76.6366, 'prauc': 46.3002}\n",
      "\n"
     ]
    },
    {
     "name": "stderr",
     "output_type": "stream",
     "text": [
      "Epoch 014: 100%|██████████| 215/215 [00:14<00:00, 14.82it/s, loss=0.2033]\n",
      "Running inference: 100%|██████████| 158/158 [00:07<00:00, 21.42it/s]\n",
      "Running inference: 100%|██████████| 159/159 [00:07<00:00, 21.45it/s]\n"
     ]
    },
    {
     "name": "stdout",
     "output_type": "stream",
     "text": [
      "Validation: {'precision': 44.1312, 'recall': 33.8882, 'f1': 36.9131, 'auc': 77.2725, 'prauc': 42.2748}\n",
      "Test:      {'precision': 46.7554, 'recall': 34.3842, 'f1': 37.3465, 'auc': 77.0665, 'prauc': 42.608}\n",
      "\n",
      "Validation-long: {'precision': 45.7509, 'recall': 34.2712, 'f1': 37.016, 'auc': 78.2295, 'prauc': 44.0267}\n",
      "Test-long: {'precision': 44.9504, 'recall': 35.5394, 'f1': 38.5663, 'auc': 75.4689, 'prauc': 46.069}\n",
      "\n"
     ]
    },
    {
     "name": "stderr",
     "output_type": "stream",
     "text": [
      "Epoch 015: 100%|██████████| 215/215 [00:14<00:00, 14.47it/s, loss=0.1960]\n",
      "Running inference: 100%|██████████| 158/158 [00:07<00:00, 21.51it/s]\n",
      "Running inference: 100%|██████████| 159/159 [00:07<00:00, 21.38it/s]\n"
     ]
    },
    {
     "name": "stdout",
     "output_type": "stream",
     "text": [
      "Validation: {'precision': 44.5624, 'recall': 36.6435, 'f1': 38.5872, 'auc': 77.1055, 'prauc': 42.1168}\n",
      "Test:      {'precision': 47.0055, 'recall': 37.1628, 'f1': 38.9532, 'auc': 76.7351, 'prauc': 42.5298}\n",
      "\n",
      "Validation-long: {'precision': 45.0872, 'recall': 39.3825, 'f1': 40.2052, 'auc': 78.0254, 'prauc': 43.9316}\n",
      "Test-long: {'precision': 43.1049, 'recall': 40.6339, 'f1': 41.0027, 'auc': 76.3418, 'prauc': 45.8841}\n",
      "\n"
     ]
    },
    {
     "name": "stderr",
     "output_type": "stream",
     "text": [
      "Epoch 016: 100%|██████████| 215/215 [00:14<00:00, 14.88it/s, loss=0.1898]\n",
      "Running inference: 100%|██████████| 158/158 [00:07<00:00, 21.55it/s]\n",
      "Running inference: 100%|██████████| 159/159 [00:07<00:00, 21.43it/s]\n"
     ]
    },
    {
     "name": "stdout",
     "output_type": "stream",
     "text": [
      "Validation: {'precision': 48.4055, 'recall': 37.6795, 'f1': 38.7388, 'auc': 76.9121, 'prauc': 41.8546}\n",
      "Test:      {'precision': 43.7212, 'recall': 37.7943, 'f1': 38.5622, 'auc': 76.8172, 'prauc': 42.2431}\n",
      "\n",
      "Validation-long: {'precision': 43.3836, 'recall': 39.4044, 'f1': 39.413, 'auc': 77.8426, 'prauc': 43.8821}\n",
      "Test-long: {'precision': 43.1089, 'recall': 40.2688, 'f1': 40.5761, 'auc': 77.1492, 'prauc': 45.6057}\n",
      "\n",
      "\n",
      "Early stopping triggered (no improvement for 5 epochs).\n",
      "\n",
      "Best validation performance:\n",
      "{'global': {'precision': 49.4869, 'recall': 37.0978, 'f1': 39.0169, 'auc': 77.9898, 'prauc': 43.2844}, 'per_class':                                            precision   recall       f1  \\\n",
      "Acute and unspecified renal failure          47.5463  37.6837  42.0444   \n",
      "Acute cerebrovascular disease               100.0000   2.7027   5.2632   \n",
      "Acute myocardial infarction                  24.1379   3.4826   6.0870   \n",
      "Cardiac dysrhythmias                         76.2408  68.4441  72.1324   \n",
      "Chronic kidney disease                       79.6089  73.5168  76.4417   \n",
      "Chronic obstructive pulmonary disease        57.4209  52.6786  54.9476   \n",
      "Conduction disorders                          0.0000   0.0000   0.0000   \n",
      "Congestive heart failure; nonhypertensive    72.9302  69.2580  71.0467   \n",
      "Coronary atherosclerosis and related         78.9606  77.4035  78.1743   \n",
      "Disorders of lipid metabolism                76.1178  73.7844  74.9329   \n",
      "Essential hypertension                       76.9788  75.9886  76.4805   \n",
      "Fluid and electrolyte disorders              45.6064  45.4377  45.5219   \n",
      "Gastrointestinal hemorrhage                   0.0000   0.0000   0.0000   \n",
      "Hypertension with complications              73.6443  67.5622  70.4722   \n",
      "Other liver diseases                          0.0000   0.0000   0.0000   \n",
      "Other lower respiratory disease              42.6829  18.0412  25.3623   \n",
      "Pneumonia                                     0.0000   0.0000   0.0000   \n",
      "Septicemia (except in labor)                 38.8889   1.7766   3.3981   \n",
      "\n",
      "                                               auc    prauc  \n",
      "Acute and unspecified renal failure        72.5943  41.6024  \n",
      "Acute cerebrovascular disease              78.4990   8.7238  \n",
      "Acute myocardial infarction                77.7645  14.2194  \n",
      "Cardiac dysrhythmias                       85.6617  77.1563  \n",
      "Chronic kidney disease                     91.9092  83.1668  \n",
      "Chronic obstructive pulmonary disease      87.2755  50.6444  \n",
      "Conduction disorders                       73.3209   5.5093  \n",
      "Congestive heart failure; nonhypertensive  90.0933  76.4409  \n",
      "Coronary atherosclerosis and related       93.5351  82.5642  \n",
      "Disorders of lipid metabolism              87.8785  77.3791  \n",
      "Essential hypertension                     86.1860  78.4381  \n",
      "Fluid and electrolyte disorders            65.0974  45.1317  \n",
      "Gastrointestinal hemorrhage                63.5907   4.8948  \n",
      "Hypertension with complications            90.9685  74.4609  \n",
      "Other liver diseases                       59.5393   1.4420  \n",
      "Other lower respiratory disease            69.0537  31.3770  \n",
      "Pneumonia                                  65.7411  12.1770  \n",
      "Septicemia (except in labor)               65.1083  13.7918  }\n",
      "Corresponding test performance:\n",
      "{'global': {'precision': 41.8354, 'recall': 37.2013, 'f1': 38.6163, 'auc': 77.8101, 'prauc': 43.3744}, 'per_class':                                            precision   recall       f1  \\\n",
      "Acute and unspecified renal failure          45.9035  35.2890  39.9024   \n",
      "Acute cerebrovascular disease                 0.0000   0.0000   0.0000   \n",
      "Acute myocardial infarction                   5.8824   1.0417   1.7699   \n",
      "Cardiac dysrhythmias                         71.9933  64.5064  68.0445   \n",
      "Chronic kidney disease                       82.4050  73.5596  77.7314   \n",
      "Chronic obstructive pulmonary disease        61.5578  57.5117  59.4660   \n",
      "Conduction disorders                          0.0000   0.0000   0.0000   \n",
      "Congestive heart failure; nonhypertensive    73.4483  73.6387  73.5434   \n",
      "Coronary atherosclerosis and related         78.7133  79.3435  79.0271   \n",
      "Disorders of lipid metabolism                76.2322  75.8583  76.0448   \n",
      "Essential hypertension                       75.3227  75.6231  75.4726   \n",
      "Fluid and electrolyte disorders              43.3742  44.5495  43.9540   \n",
      "Gastrointestinal hemorrhage                   0.0000   0.0000   0.0000   \n",
      "Hypertension with complications              77.0938  71.5356  74.2108   \n",
      "Other liver diseases                          0.0000   0.0000   0.0000   \n",
      "Other lower respiratory disease              50.0000  16.7056  25.0438   \n",
      "Pneumonia                                     0.0000   0.0000   0.0000   \n",
      "Septicemia (except in labor)                 11.1111   0.4598   0.8830   \n",
      "\n",
      "                                               auc    prauc  \n",
      "Acute and unspecified renal failure        72.6022  40.8281  \n",
      "Acute cerebrovascular disease              68.0745   2.0378  \n",
      "Acute myocardial infarction                77.3571  11.3614  \n",
      "Cardiac dysrhythmias                       83.5554  72.3748  \n",
      "Chronic kidney disease                     92.0832  84.9674  \n",
      "Chronic obstructive pulmonary disease      88.1272  53.5342  \n",
      "Conduction disorders                       73.9601   9.0430  \n",
      "Congestive heart failure; nonhypertensive  90.8594  77.6289  \n",
      "Coronary atherosclerosis and related       93.5452  82.3375  \n",
      "Disorders of lipid metabolism              88.2279  75.9820  \n",
      "Essential hypertension                     86.4466  77.9329  \n",
      "Fluid and electrolyte disorders            64.3938  43.6972  \n",
      "Gastrointestinal hemorrhage                64.3020   7.1570  \n",
      "Hypertension with complications            92.3802  78.6940  \n",
      "Other liver diseases                       64.2592   1.8180  \n",
      "Other lower respiratory disease            68.2866  33.6671  \n",
      "Pneumonia                                  63.4059  11.9253  \n",
      "Septicemia (except in labor)               68.7149  15.7530  }\n",
      "Corresponding test-long performance:\n",
      "{'global': {'precision': 42.4815, 'recall': 40.7969, 'f1': 41.078, 'auc': 77.3797, 'prauc': 46.6474}, 'per_class':                                            precision   recall       f1  \\\n",
      "Acute and unspecified renal failure          51.3208  49.4545  50.3704   \n",
      "Acute cerebrovascular disease                 0.0000   0.0000   0.0000   \n",
      "Acute myocardial infarction                   0.0000   0.0000   0.0000   \n",
      "Cardiac dysrhythmias                         76.7123  67.4699  71.7949   \n",
      "Chronic kidney disease                       83.3333  79.9373  81.6000   \n",
      "Chronic obstructive pulmonary disease        55.2632  54.5455  54.9020   \n",
      "Conduction disorders                          0.0000   0.0000   0.0000   \n",
      "Congestive heart failure; nonhypertensive    77.1331  83.7037  80.2842   \n",
      "Coronary atherosclerosis and related         80.0926  81.9905  81.0304   \n",
      "Disorders of lipid metabolism                77.8182  74.5645  76.1566   \n",
      "Essential hypertension                       76.6038  68.3502  72.2420   \n",
      "Fluid and electrolyte disorders              49.7992  69.4678  58.0117   \n",
      "Gastrointestinal hemorrhage                   0.0000   0.0000   0.0000   \n",
      "Hypertension with complications              78.1481  81.7829  79.9242   \n",
      "Other liver diseases                          0.0000   0.0000   0.0000   \n",
      "Other lower respiratory disease              58.4416  23.0769  33.0882   \n",
      "Pneumonia                                     0.0000   0.0000   0.0000   \n",
      "Septicemia (except in labor)                  0.0000   0.0000   0.0000   \n",
      "\n",
      "                                               auc    prauc  \n",
      "Acute and unspecified renal failure        70.8876  48.6114  \n",
      "Acute cerebrovascular disease              46.6247   0.2188  \n",
      "Acute myocardial infarction                80.0650  11.8495  \n",
      "Cardiac dysrhythmias                       85.3503  73.7835  \n",
      "Chronic kidney disease                     91.6103  89.4436  \n",
      "Chronic obstructive pulmonary disease      90.9481  52.2503  \n",
      "Conduction disorders                       71.6557   4.9172  \n",
      "Congestive heart failure; nonhypertensive  92.5733  86.6568  \n",
      "Coronary atherosclerosis and related       95.0611  82.9878  \n",
      "Disorders of lipid metabolism              91.0177  80.7556  \n",
      "Essential hypertension                     88.7772  79.6202  \n",
      "Fluid and electrolyte disorders            63.5881  51.2103  \n",
      "Gastrointestinal hemorrhage                62.5428   9.0012  \n",
      "Hypertension with complications            92.6479  84.4007  \n",
      "Other liver diseases                       72.6466   4.6665  \n",
      "Other lower respiratory disease            69.0380  45.6258  \n",
      "Pneumonia                                  60.2811  12.8483  \n",
      "Septicemia (except in labor)               67.5190  20.8067  }\n",
      "================================7==================================\n"
     ]
    },
    {
     "name": "stderr",
     "output_type": "stream",
     "text": [
      "Epoch 001: 100%|██████████| 215/215 [00:14<00:00, 14.93it/s, loss=0.3468]\n",
      "Running inference: 100%|██████████| 158/158 [00:07<00:00, 21.56it/s]\n",
      "Running inference: 100%|██████████| 159/159 [00:07<00:00, 20.32it/s]\n"
     ]
    },
    {
     "name": "stdout",
     "output_type": "stream",
     "text": [
      "Validation: {'precision': 39.7547, 'recall': 26.9063, 'f1': 28.1937, 'auc': 76.1441, 'prauc': 40.4076}\n",
      "Test:      {'precision': 42.0018, 'recall': 27.5522, 'f1': 28.5647, 'auc': 75.6336, 'prauc': 40.3948}\n",
      "\n",
      "Validation-long: {'precision': 32.1082, 'recall': 28.1864, 'f1': 28.9526, 'auc': 74.9784, 'prauc': 41.7675}\n",
      "Test-long: {'precision': 43.0691, 'recall': 29.6741, 'f1': 30.5772, 'auc': 74.3023, 'prauc': 43.1026}\n",
      "\n"
     ]
    },
    {
     "name": "stderr",
     "output_type": "stream",
     "text": [
      "Epoch 002: 100%|██████████| 215/215 [00:14<00:00, 14.73it/s, loss=0.2916]\n",
      "Running inference: 100%|██████████| 158/158 [00:07<00:00, 21.42it/s]\n",
      "Running inference: 100%|██████████| 159/159 [00:07<00:00, 21.33it/s]\n"
     ]
    },
    {
     "name": "stdout",
     "output_type": "stream",
     "text": [
      "Validation: {'precision': 41.9514, 'recall': 33.3397, 'f1': 33.8328, 'auc': 77.9639, 'prauc': 43.5035}\n",
      "Test:      {'precision': 41.7961, 'recall': 33.6163, 'f1': 34.0633, 'auc': 77.8319, 'prauc': 43.3238}\n",
      "\n",
      "Validation-long: {'precision': 40.8001, 'recall': 35.2415, 'f1': 34.6294, 'auc': 76.9069, 'prauc': 45.3904}\n",
      "Test-long: {'precision': 44.0164, 'recall': 36.1321, 'f1': 36.3284, 'auc': 75.684, 'prauc': 45.5933}\n",
      "\n"
     ]
    },
    {
     "name": "stderr",
     "output_type": "stream",
     "text": [
      "Epoch 003: 100%|██████████| 215/215 [00:14<00:00, 14.83it/s, loss=0.2782]\n",
      "Running inference: 100%|██████████| 158/158 [00:07<00:00, 21.35it/s]\n",
      "Running inference: 100%|██████████| 159/159 [00:07<00:00, 21.40it/s]\n"
     ]
    },
    {
     "name": "stdout",
     "output_type": "stream",
     "text": [
      "Validation: {'precision': 43.7275, 'recall': 34.5482, 'f1': 37.0354, 'auc': 78.2768, 'prauc': 44.1869}\n",
      "Test:      {'precision': 43.4452, 'recall': 34.8343, 'f1': 37.15, 'auc': 78.2063, 'prauc': 44.1688}\n",
      "\n",
      "Validation-long: {'precision': 43.5082, 'recall': 37.1276, 'f1': 38.1521, 'auc': 77.7211, 'prauc': 45.7247}\n",
      "Test-long: {'precision': 45.6419, 'recall': 37.6599, 'f1': 39.2926, 'auc': 76.9514, 'prauc': 46.8242}\n",
      "\n"
     ]
    },
    {
     "name": "stderr",
     "output_type": "stream",
     "text": [
      "Epoch 004: 100%|██████████| 215/215 [00:14<00:00, 14.84it/s, loss=0.2698]\n",
      "Running inference: 100%|██████████| 158/158 [00:07<00:00, 20.30it/s]\n",
      "Running inference: 100%|██████████| 159/159 [00:07<00:00, 21.45it/s]\n"
     ]
    },
    {
     "name": "stdout",
     "output_type": "stream",
     "text": [
      "Validation: {'precision': 43.2705, 'recall': 36.7322, 'f1': 38.6565, 'auc': 78.9497, 'prauc': 44.6648}\n",
      "Test:      {'precision': 43.0162, 'recall': 37.164, 'f1': 38.7883, 'auc': 79.0109, 'prauc': 44.7997}\n",
      "\n",
      "Validation-long: {'precision': 42.8877, 'recall': 38.9985, 'f1': 39.7815, 'auc': 79.1885, 'prauc': 45.6136}\n",
      "Test-long: {'precision': 43.9376, 'recall': 39.9133, 'f1': 40.9128, 'auc': 78.4282, 'prauc': 47.9708}\n",
      "\n"
     ]
    },
    {
     "name": "stderr",
     "output_type": "stream",
     "text": [
      "Epoch 005: 100%|██████████| 215/215 [00:14<00:00, 14.84it/s, loss=0.2646]\n",
      "Running inference: 100%|██████████| 158/158 [00:07<00:00, 21.26it/s]\n",
      "Running inference: 100%|██████████| 159/159 [00:07<00:00, 21.49it/s]\n"
     ]
    },
    {
     "name": "stdout",
     "output_type": "stream",
     "text": [
      "Validation: {'precision': 43.0709, 'recall': 35.8117, 'f1': 38.3219, 'auc': 78.7896, 'prauc': 44.9121}\n",
      "Test:      {'precision': 42.5673, 'recall': 36.5908, 'f1': 38.5492, 'auc': 79.05, 'prauc': 44.6897}\n",
      "\n",
      "Validation-long: {'precision': 43.1041, 'recall': 37.9168, 'f1': 39.1836, 'auc': 79.3569, 'prauc': 46.118}\n",
      "Test-long: {'precision': 45.1908, 'recall': 40.0658, 'f1': 41.0113, 'auc': 78.2869, 'prauc': 47.0819}\n",
      "\n"
     ]
    },
    {
     "name": "stderr",
     "output_type": "stream",
     "text": [
      "Epoch 006: 100%|██████████| 215/215 [00:14<00:00, 14.86it/s, loss=0.2592]\n",
      "Running inference: 100%|██████████| 158/158 [00:07<00:00, 21.46it/s]\n",
      "Running inference: 100%|██████████| 159/159 [00:07<00:00, 21.40it/s]\n"
     ]
    },
    {
     "name": "stdout",
     "output_type": "stream",
     "text": [
      "Validation: {'precision': 45.168, 'recall': 37.1074, 'f1': 38.8418, 'auc': 78.6621, 'prauc': 44.469}\n",
      "Test:      {'precision': 45.0781, 'recall': 37.7313, 'f1': 39.0675, 'auc': 78.897, 'prauc': 44.5011}\n",
      "\n",
      "Validation-long: {'precision': 42.3179, 'recall': 38.99, 'f1': 39.1979, 'auc': 78.3305, 'prauc': 45.181}\n",
      "Test-long: {'precision': 44.3677, 'recall': 40.6964, 'f1': 40.9754, 'auc': 77.6935, 'prauc': 47.4454}\n",
      "\n"
     ]
    },
    {
     "name": "stderr",
     "output_type": "stream",
     "text": [
      "Epoch 007: 100%|██████████| 215/215 [00:14<00:00, 14.44it/s, loss=0.2524]\n",
      "Running inference: 100%|██████████| 158/158 [00:07<00:00, 21.57it/s]\n",
      "Running inference: 100%|██████████| 159/159 [00:07<00:00, 21.53it/s]\n"
     ]
    },
    {
     "name": "stdout",
     "output_type": "stream",
     "text": [
      "Validation: {'precision': 48.3895, 'recall': 37.1656, 'f1': 39.286, 'auc': 78.6223, 'prauc': 44.6556}\n",
      "Test:      {'precision': 42.6904, 'recall': 37.8286, 'f1': 39.449, 'auc': 78.8572, 'prauc': 44.5734}\n",
      "\n",
      "Validation-long: {'precision': 42.4782, 'recall': 38.6499, 'f1': 39.4211, 'auc': 78.9398, 'prauc': 45.6979}\n",
      "Test-long: {'precision': 44.7905, 'recall': 40.3567, 'f1': 41.1926, 'auc': 78.475, 'prauc': 46.9141}\n",
      "\n"
     ]
    },
    {
     "name": "stderr",
     "output_type": "stream",
     "text": [
      "Epoch 008: 100%|██████████| 215/215 [00:14<00:00, 14.78it/s, loss=0.2459]\n",
      "Running inference: 100%|██████████| 158/158 [00:07<00:00, 21.56it/s]\n",
      "Running inference: 100%|██████████| 159/159 [00:07<00:00, 21.60it/s]\n"
     ]
    },
    {
     "name": "stdout",
     "output_type": "stream",
     "text": [
      "Validation: {'precision': 43.4712, 'recall': 34.0891, 'f1': 36.875, 'auc': 78.1661, 'prauc': 43.959}\n",
      "Test:      {'precision': 42.918, 'recall': 35.1347, 'f1': 37.3647, 'auc': 78.4531, 'prauc': 44.1918}\n",
      "\n",
      "Validation-long: {'precision': 44.4287, 'recall': 35.1564, 'f1': 37.6041, 'auc': 78.8338, 'prauc': 45.7796}\n",
      "Test-long: {'precision': 45.0499, 'recall': 37.1833, 'f1': 39.3016, 'auc': 78.251, 'prauc': 47.2319}\n",
      "\n"
     ]
    },
    {
     "name": "stderr",
     "output_type": "stream",
     "text": [
      "Epoch 009: 100%|██████████| 215/215 [00:14<00:00, 14.89it/s, loss=0.2390]\n",
      "Running inference: 100%|██████████| 158/158 [00:07<00:00, 20.35it/s]\n",
      "Running inference: 100%|██████████| 159/159 [00:07<00:00, 21.29it/s]\n"
     ]
    },
    {
     "name": "stdout",
     "output_type": "stream",
     "text": [
      "Validation: {'precision': 48.5084, 'recall': 34.8782, 'f1': 37.4618, 'auc': 77.9846, 'prauc': 44.0622}\n",
      "Test:      {'precision': 48.2521, 'recall': 35.6648, 'f1': 37.8115, 'auc': 78.1467, 'prauc': 44.057}\n",
      "\n",
      "Validation-long: {'precision': 42.5682, 'recall': 36.6033, 'f1': 38.0454, 'auc': 78.7049, 'prauc': 45.7273}\n",
      "Test-long: {'precision': 50.2809, 'recall': 38.4835, 'f1': 40.2012, 'auc': 77.7532, 'prauc': 46.6346}\n",
      "\n"
     ]
    },
    {
     "name": "stderr",
     "output_type": "stream",
     "text": [
      "Epoch 010: 100%|██████████| 215/215 [00:14<00:00, 14.77it/s, loss=0.2322]\n",
      "Running inference: 100%|██████████| 158/158 [00:07<00:00, 21.29it/s]\n",
      "Running inference: 100%|██████████| 159/159 [00:07<00:00, 21.33it/s]\n"
     ]
    },
    {
     "name": "stdout",
     "output_type": "stream",
     "text": [
      "Validation: {'precision': 49.6567, 'recall': 34.343, 'f1': 37.0017, 'auc': 77.852, 'prauc': 43.6602}\n",
      "Test:      {'precision': 41.9963, 'recall': 35.074, 'f1': 37.2437, 'auc': 78.0418, 'prauc': 43.8139}\n",
      "\n",
      "Validation-long: {'precision': 47.6503, 'recall': 35.1287, 'f1': 37.4041, 'auc': 77.3996, 'prauc': 44.2966}\n",
      "Test-long: {'precision': 43.3886, 'recall': 36.9288, 'f1': 39.0481, 'auc': 77.0353, 'prauc': 47.0376}\n",
      "\n"
     ]
    },
    {
     "name": "stderr",
     "output_type": "stream",
     "text": [
      "Epoch 011: 100%|██████████| 215/215 [00:14<00:00, 14.79it/s, loss=0.2255]\n",
      "Running inference: 100%|██████████| 158/158 [00:07<00:00, 21.41it/s]\n",
      "Running inference: 100%|██████████| 159/159 [00:07<00:00, 21.39it/s]\n"
     ]
    },
    {
     "name": "stdout",
     "output_type": "stream",
     "text": [
      "Validation: {'precision': 47.4943, 'recall': 37.6003, 'f1': 38.989, 'auc': 77.4877, 'prauc': 43.2246}\n",
      "Test:      {'precision': 43.567, 'recall': 37.9772, 'f1': 38.9202, 'auc': 77.5226, 'prauc': 43.1021}\n",
      "\n",
      "Validation-long: {'precision': 44.418, 'recall': 38.7075, 'f1': 39.2006, 'auc': 78.0822, 'prauc': 45.5467}\n",
      "Test-long: {'precision': 47.4599, 'recall': 39.7389, 'f1': 40.7166, 'auc': 77.646, 'prauc': 46.1175}\n",
      "\n"
     ]
    },
    {
     "name": "stderr",
     "output_type": "stream",
     "text": [
      "Epoch 012: 100%|██████████| 215/215 [00:14<00:00, 14.47it/s, loss=0.2183]\n",
      "Running inference: 100%|██████████| 158/158 [00:07<00:00, 21.35it/s]\n",
      "Running inference: 100%|██████████| 159/159 [00:07<00:00, 21.42it/s]\n"
     ]
    },
    {
     "name": "stdout",
     "output_type": "stream",
     "text": [
      "Validation: {'precision': 43.8726, 'recall': 37.5736, 'f1': 38.8003, 'auc': 77.1681, 'prauc': 43.0249}\n",
      "Test:      {'precision': 41.6411, 'recall': 38.1718, 'f1': 38.9322, 'auc': 77.1893, 'prauc': 42.8802}\n",
      "\n",
      "Validation-long: {'precision': 42.6581, 'recall': 38.5209, 'f1': 39.1832, 'auc': 76.5138, 'prauc': 43.9644}\n",
      "Test-long: {'precision': 43.9268, 'recall': 39.8681, 'f1': 40.6007, 'auc': 75.246, 'prauc': 45.461}\n",
      "\n",
      "\n",
      "Early stopping triggered (no improvement for 5 epochs).\n",
      "\n",
      "Best validation performance:\n",
      "{'global': {'precision': 48.3895, 'recall': 37.1656, 'f1': 39.286, 'auc': 78.6223, 'prauc': 44.6556}, 'per_class':                                            precision   recall       f1  \\\n",
      "Acute and unspecified renal failure          49.2672  37.7701  42.7593   \n",
      "Acute cerebrovascular disease                 0.0000   0.0000   0.0000   \n",
      "Acute myocardial infarction                   0.0000   0.0000   0.0000   \n",
      "Cardiac dysrhythmias                         84.0037  65.5953  73.6669   \n",
      "Chronic kidney disease                       84.6928  72.3130  78.0148   \n",
      "Chronic obstructive pulmonary disease        65.5462  52.2321  58.1366   \n",
      "Conduction disorders                          0.0000   0.0000   0.0000   \n",
      "Congestive heart failure; nonhypertensive    77.1784  65.7244  70.9924   \n",
      "Coronary atherosclerosis and related         80.4474  79.7864  80.1155   \n",
      "Disorders of lipid metabolism                76.0848  79.7040  77.8523   \n",
      "Essential hypertension                       77.0796  81.2292  79.1000   \n",
      "Fluid and electrolyte disorders              45.9829  49.7534  47.7939   \n",
      "Gastrointestinal hemorrhage                   0.0000   0.0000   0.0000   \n",
      "Hypertension with complications              77.0023  66.9652  71.6338   \n",
      "Other liver diseases                          0.0000   0.0000   0.0000   \n",
      "Other lower respiratory disease              53.7255  17.6546  26.5761   \n",
      "Pneumonia                                     0.0000   0.0000   0.0000   \n",
      "Septicemia (except in labor)                100.0000   0.2538   0.5063   \n",
      "\n",
      "                                               auc    prauc  \n",
      "Acute and unspecified renal failure        74.8128  44.4365  \n",
      "Acute cerebrovascular disease              70.4008   7.0469  \n",
      "Acute myocardial infarction                78.1865  15.9391  \n",
      "Cardiac dysrhythmias                       86.4054  79.4339  \n",
      "Chronic kidney disease                     93.1499  85.3321  \n",
      "Chronic obstructive pulmonary disease      88.5972  52.0371  \n",
      "Conduction disorders                       74.1796   5.6645  \n",
      "Congestive heart failure; nonhypertensive  90.8594  76.1675  \n",
      "Coronary atherosclerosis and related       93.9694  83.1877  \n",
      "Disorders of lipid metabolism              88.6912  78.4587  \n",
      "Essential hypertension                     87.1237  80.1783  \n",
      "Fluid and electrolyte disorders            67.5475  48.5240  \n",
      "Gastrointestinal hemorrhage                64.6028   5.1451  \n",
      "Hypertension with complications            92.2333  77.6789  \n",
      "Other liver diseases                       61.6414   1.5757  \n",
      "Other lower respiratory disease            70.4353  36.2707  \n",
      "Pneumonia                                  65.6087  12.2979  \n",
      "Septicemia (except in labor)               66.7565  14.4269  }\n",
      "Corresponding test performance:\n",
      "{'global': {'precision': 42.6904, 'recall': 37.8286, 'f1': 39.449, 'auc': 78.8572, 'prauc': 44.5734}, 'per_class':                                            precision   recall       f1  \\\n",
      "Acute and unspecified renal failure          46.3816  36.4970  40.8498   \n",
      "Acute cerebrovascular disease                 0.0000   0.0000   0.0000   \n",
      "Acute myocardial infarction                   0.0000   0.0000   0.0000   \n",
      "Cardiac dysrhythmias                         82.4084  59.3067  68.9746   \n",
      "Chronic kidney disease                       86.5562  74.1910  79.8980   \n",
      "Chronic obstructive pulmonary disease        64.2298  57.7465  60.8158   \n",
      "Conduction disorders                          0.0000   0.0000   0.0000   \n",
      "Congestive heart failure; nonhypertensive    76.2425  66.2921  70.9200   \n",
      "Coronary atherosclerosis and related         78.2946  80.8647  79.5589   \n",
      "Disorders of lipid metabolism                76.0243  81.9074  78.8562   \n",
      "Essential hypertension                       77.2385  81.7049  79.4089   \n",
      "Fluid and electrolyte disorders              46.0187  52.8040  49.1784   \n",
      "Gastrointestinal hemorrhage                   0.0000   0.0000   0.0000   \n",
      "Hypertension with complications              80.4504  73.5955  76.8704   \n",
      "Other liver diseases                          0.0000   0.0000   0.0000   \n",
      "Other lower respiratory disease              54.5817  16.0047  24.7516   \n",
      "Pneumonia                                     0.0000   0.0000   0.0000   \n",
      "Septicemia (except in labor)                  0.0000   0.0000   0.0000   \n",
      "\n",
      "                                               auc    prauc  \n",
      "Acute and unspecified renal failure        75.0312  42.7919  \n",
      "Acute cerebrovascular disease              69.7369   2.7756  \n",
      "Acute myocardial infarction                78.5522  12.5299  \n",
      "Cardiac dysrhythmias                       84.4045  74.9186  \n",
      "Chronic kidney disease                     93.0817  87.1181  \n",
      "Chronic obstructive pulmonary disease      88.3864  53.3000  \n",
      "Conduction disorders                       73.9706   8.0076  \n",
      "Congestive heart failure; nonhypertensive  90.8474  76.7933  \n",
      "Coronary atherosclerosis and related       93.7711  82.9484  \n",
      "Disorders of lipid metabolism              88.9018  77.1681  \n",
      "Essential hypertension                     88.1469  80.2992  \n",
      "Fluid and electrolyte disorders            67.6376  46.2003  \n",
      "Gastrointestinal hemorrhage                66.3998   8.1374  \n",
      "Hypertension with complications            93.3369  81.7013  \n",
      "Other liver diseases                       65.5247   1.8141  \n",
      "Other lower respiratory disease            68.3292  36.8055  \n",
      "Pneumonia                                  64.5471  12.8092  \n",
      "Septicemia (except in labor)               68.8240  16.2030  }\n",
      "Corresponding test-long performance:\n",
      "{'global': {'precision': 44.7905, 'recall': 40.3567, 'f1': 41.1926, 'auc': 78.475, 'prauc': 46.9141}, 'per_class':                                            precision   recall       f1  \\\n",
      "Acute and unspecified renal failure          51.1111  50.1818  50.6422   \n",
      "Acute cerebrovascular disease                 0.0000   0.0000   0.0000   \n",
      "Acute myocardial infarction                   0.0000   0.0000   0.0000   \n",
      "Cardiac dysrhythmias                         84.4444  61.0442  70.8625   \n",
      "Chronic kidney disease                       87.3646  75.8621  81.2081   \n",
      "Chronic obstructive pulmonary disease        59.7015  51.9481  55.5556   \n",
      "Conduction disorders                          0.0000   0.0000   0.0000   \n",
      "Congestive heart failure; nonhypertensive    87.5598  67.7778  76.4092   \n",
      "Coronary atherosclerosis and related         78.8546  84.8341  81.7352   \n",
      "Disorders of lipid metabolism                77.7027  80.1394  78.9022   \n",
      "Essential hypertension                       75.6494  78.4512  77.0248   \n",
      "Fluid and electrolyte disorders              49.1349  79.5518  60.7487   \n",
      "Gastrointestinal hemorrhage                   0.0000   0.0000   0.0000   \n",
      "Hypertension with complications              80.2372  78.6822  79.4521   \n",
      "Other liver diseases                          0.0000   0.0000   0.0000   \n",
      "Other lower respiratory disease              74.4681  17.9487  28.9256   \n",
      "Pneumonia                                     0.0000   0.0000   0.0000   \n",
      "Septicemia (except in labor)                  0.0000   0.0000   0.0000   \n",
      "\n",
      "                                               auc    prauc  \n",
      "Acute and unspecified renal failure        72.3848  47.7355  \n",
      "Acute cerebrovascular disease              55.4920   0.2421  \n",
      "Acute myocardial infarction                76.3672   9.7347  \n",
      "Cardiac dysrhythmias                       85.3897  77.3574  \n",
      "Chronic kidney disease                     92.4627  89.9008  \n",
      "Chronic obstructive pulmonary disease      90.3865  47.6852  \n",
      "Conduction disorders                       73.6985   4.7423  \n",
      "Congestive heart failure; nonhypertensive  92.5694  86.5751  \n",
      "Coronary atherosclerosis and related       95.3138  82.8697  \n",
      "Disorders of lipid metabolism              91.3247  81.0351  \n",
      "Essential hypertension                     89.7341  79.5541  \n",
      "Fluid and electrolyte disorders            64.4422  53.0624  \n",
      "Gastrointestinal hemorrhage                62.1679  13.5974  \n",
      "Hypertension with complications            92.5780  83.1741  \n",
      "Other liver diseases                       79.2101   4.8644  \n",
      "Other lower respiratory disease            70.9119  50.4850  \n",
      "Pneumonia                                  63.2499  13.6440  \n",
      "Septicemia (except in labor)               64.8665  18.1950  }\n",
      "================================8==================================\n"
     ]
    },
    {
     "name": "stderr",
     "output_type": "stream",
     "text": [
      "Epoch 001: 100%|██████████| 215/215 [00:14<00:00, 14.89it/s, loss=0.3454]\n",
      "Running inference: 100%|██████████| 158/158 [00:07<00:00, 21.62it/s]\n",
      "Running inference: 100%|██████████| 159/159 [00:07<00:00, 21.44it/s]\n"
     ]
    },
    {
     "name": "stdout",
     "output_type": "stream",
     "text": [
      "Validation: {'precision': 39.7139, 'recall': 27.3412, 'f1': 28.5192, 'auc': 76.2497, 'prauc': 40.1025}\n",
      "Test:      {'precision': 38.5741, 'recall': 27.7032, 'f1': 28.6799, 'auc': 75.6933, 'prauc': 40.016}\n",
      "\n",
      "Validation-long: {'precision': 35.2093, 'recall': 29.2052, 'f1': 29.8927, 'auc': 77.0099, 'prauc': 41.4342}\n",
      "Test-long: {'precision': 40.7814, 'recall': 30.5487, 'f1': 31.0297, 'auc': 75.0459, 'prauc': 43.0674}\n",
      "\n"
     ]
    },
    {
     "name": "stderr",
     "output_type": "stream",
     "text": [
      "Epoch 002: 100%|██████████| 215/215 [00:14<00:00, 14.88it/s, loss=0.2940]\n",
      "Running inference: 100%|██████████| 158/158 [00:07<00:00, 21.51it/s]\n",
      "Running inference: 100%|██████████| 159/159 [00:07<00:00, 20.42it/s]\n"
     ]
    },
    {
     "name": "stdout",
     "output_type": "stream",
     "text": [
      "Validation: {'precision': 41.5199, 'recall': 33.5149, 'f1': 35.5276, 'auc': 78.1679, 'prauc': 43.2476}\n",
      "Test:      {'precision': 41.6154, 'recall': 34.1266, 'f1': 35.8321, 'auc': 78.234, 'prauc': 43.5055}\n",
      "\n",
      "Validation-long: {'precision': 43.817, 'recall': 35.3813, 'f1': 36.699, 'auc': 76.7117, 'prauc': 44.453}\n",
      "Test-long: {'precision': 43.8778, 'recall': 36.3893, 'f1': 38.0254, 'auc': 77.0841, 'prauc': 46.325}\n",
      "\n"
     ]
    },
    {
     "name": "stderr",
     "output_type": "stream",
     "text": [
      "Epoch 003: 100%|██████████| 215/215 [00:14<00:00, 14.72it/s, loss=0.2789]\n",
      "Running inference: 100%|██████████| 158/158 [00:07<00:00, 21.23it/s]\n",
      "Running inference: 100%|██████████| 159/159 [00:07<00:00, 21.35it/s]\n"
     ]
    },
    {
     "name": "stdout",
     "output_type": "stream",
     "text": [
      "Validation: {'precision': 43.2333, 'recall': 35.8203, 'f1': 38.302, 'auc': 78.3661, 'prauc': 44.1935}\n",
      "Test:      {'precision': 43.4636, 'recall': 36.3498, 'f1': 38.609, 'auc': 78.6044, 'prauc': 44.3578}\n",
      "\n",
      "Validation-long: {'precision': 44.3177, 'recall': 36.589, 'f1': 37.9864, 'auc': 78.2473, 'prauc': 45.6722}\n",
      "Test-long: {'precision': 45.9808, 'recall': 38.2687, 'f1': 40.1925, 'auc': 78.5485, 'prauc': 47.0314}\n",
      "\n"
     ]
    },
    {
     "name": "stderr",
     "output_type": "stream",
     "text": [
      "Epoch 004: 100%|██████████| 215/215 [00:14<00:00, 14.74it/s, loss=0.2711]\n",
      "Running inference: 100%|██████████| 158/158 [00:07<00:00, 21.48it/s]\n",
      "Running inference: 100%|██████████| 159/159 [00:07<00:00, 21.45it/s]\n"
     ]
    },
    {
     "name": "stdout",
     "output_type": "stream",
     "text": [
      "Validation: {'precision': 42.8318, 'recall': 36.6594, 'f1': 38.1306, 'auc': 78.7494, 'prauc': 44.4902}\n",
      "Test:      {'precision': 43.1271, 'recall': 37.0684, 'f1': 38.3302, 'auc': 78.9116, 'prauc': 44.5665}\n",
      "\n",
      "Validation-long: {'precision': 42.1643, 'recall': 39.2324, 'f1': 38.627, 'auc': 80.0388, 'prauc': 46.1244}\n",
      "Test-long: {'precision': 44.1574, 'recall': 40.2995, 'f1': 40.1167, 'auc': 79.6, 'prauc': 47.0205}\n",
      "\n"
     ]
    },
    {
     "name": "stderr",
     "output_type": "stream",
     "text": [
      "Epoch 005: 100%|██████████| 215/215 [00:14<00:00, 14.43it/s, loss=0.2655]\n",
      "Running inference: 100%|██████████| 158/158 [00:07<00:00, 21.42it/s]\n",
      "Running inference: 100%|██████████| 159/159 [00:07<00:00, 21.35it/s]\n"
     ]
    },
    {
     "name": "stdout",
     "output_type": "stream",
     "text": [
      "Validation: {'precision': 41.6411, 'recall': 37.5727, 'f1': 39.1779, 'auc': 78.3789, 'prauc': 44.6288}\n",
      "Test:      {'precision': 47.4991, 'recall': 38.118, 'f1': 39.5627, 'auc': 78.8682, 'prauc': 44.4991}\n",
      "\n",
      "Validation-long: {'precision': 41.8307, 'recall': 39.4931, 'f1': 40.132, 'auc': 79.4322, 'prauc': 45.9287}\n",
      "Test-long: {'precision': 43.6694, 'recall': 40.341, 'f1': 41.307, 'auc': 79.5334, 'prauc': 47.2936}\n",
      "\n"
     ]
    },
    {
     "name": "stderr",
     "output_type": "stream",
     "text": [
      "Epoch 006: 100%|██████████| 215/215 [00:14<00:00, 14.82it/s, loss=0.2596]\n",
      "Running inference: 100%|██████████| 158/158 [00:07<00:00, 21.52it/s]\n",
      "Running inference: 100%|██████████| 159/159 [00:07<00:00, 21.41it/s]\n"
     ]
    },
    {
     "name": "stdout",
     "output_type": "stream",
     "text": [
      "Validation: {'precision': 46.0169, 'recall': 37.066, 'f1': 38.9912, 'auc': 78.3348, 'prauc': 44.6072}\n",
      "Test:      {'precision': 45.0516, 'recall': 37.6688, 'f1': 39.1729, 'auc': 78.7292, 'prauc': 44.3355}\n",
      "\n",
      "Validation-long: {'precision': 42.0018, 'recall': 39.1241, 'f1': 39.4085, 'auc': 79.9193, 'prauc': 45.9901}\n",
      "Test-long: {'precision': 43.5346, 'recall': 40.7149, 'f1': 41.0331, 'auc': 79.5554, 'prauc': 46.9373}\n",
      "\n"
     ]
    },
    {
     "name": "stderr",
     "output_type": "stream",
     "text": [
      "Epoch 007: 100%|██████████| 215/215 [00:14<00:00, 14.91it/s, loss=0.2516]\n",
      "Running inference: 100%|██████████| 158/158 [00:07<00:00, 21.46it/s]\n",
      "Running inference: 100%|██████████| 159/159 [00:07<00:00, 21.56it/s]\n"
     ]
    },
    {
     "name": "stdout",
     "output_type": "stream",
     "text": [
      "Validation: {'precision': 49.3733, 'recall': 34.2962, 'f1': 37.3799, 'auc': 77.9516, 'prauc': 44.4251}\n",
      "Test:      {'precision': 43.123, 'recall': 34.9657, 'f1': 37.5212, 'auc': 78.2254, 'prauc': 44.1617}\n",
      "\n",
      "Validation-long: {'precision': 42.5197, 'recall': 35.5199, 'f1': 37.5873, 'auc': 78.0235, 'prauc': 45.648}\n",
      "Test-long: {'precision': 44.3552, 'recall': 37.4484, 'f1': 39.8604, 'auc': 77.1544, 'prauc': 46.9943}\n",
      "\n"
     ]
    },
    {
     "name": "stderr",
     "output_type": "stream",
     "text": [
      "Epoch 008: 100%|██████████| 215/215 [00:14<00:00, 14.49it/s, loss=0.2461]\n",
      "Running inference: 100%|██████████| 158/158 [00:07<00:00, 21.61it/s]\n",
      "Running inference: 100%|██████████| 159/159 [00:07<00:00, 21.52it/s]\n"
     ]
    },
    {
     "name": "stdout",
     "output_type": "stream",
     "text": [
      "Validation: {'precision': 42.8861, 'recall': 34.9225, 'f1': 37.5574, 'auc': 77.8705, 'prauc': 44.3402}\n",
      "Test:      {'precision': 43.2767, 'recall': 35.5264, 'f1': 38.0159, 'auc': 78.2019, 'prauc': 44.2652}\n",
      "\n",
      "Validation-long: {'precision': 42.0714, 'recall': 37.9506, 'f1': 39.0242, 'auc': 78.4623, 'prauc': 45.6365}\n",
      "Test-long: {'precision': 44.2212, 'recall': 38.9368, 'f1': 40.7517, 'auc': 77.8818, 'prauc': 46.3947}\n",
      "\n"
     ]
    },
    {
     "name": "stderr",
     "output_type": "stream",
     "text": [
      "Epoch 009: 100%|██████████| 215/215 [00:14<00:00, 14.97it/s, loss=0.2394]\n",
      "Running inference: 100%|██████████| 158/158 [00:07<00:00, 21.63it/s]\n",
      "Running inference: 100%|██████████| 159/159 [00:07<00:00, 21.41it/s]\n"
     ]
    },
    {
     "name": "stdout",
     "output_type": "stream",
     "text": [
      "Validation: {'precision': 46.2924, 'recall': 35.9657, 'f1': 38.1094, 'auc': 77.932, 'prauc': 44.0798}\n",
      "Test:      {'precision': 44.574, 'recall': 36.3432, 'f1': 38.272, 'auc': 78.4833, 'prauc': 44.0297}\n",
      "\n",
      "Validation-long: {'precision': 42.833, 'recall': 39.2301, 'f1': 39.4831, 'auc': 79.2592, 'prauc': 45.5751}\n",
      "Test-long: {'precision': 44.4167, 'recall': 39.7799, 'f1': 40.9212, 'auc': 78.3576, 'prauc': 47.41}\n",
      "\n"
     ]
    },
    {
     "name": "stderr",
     "output_type": "stream",
     "text": [
      "Epoch 010: 100%|██████████| 215/215 [00:14<00:00, 14.88it/s, loss=0.2332]\n",
      "Running inference: 100%|██████████| 158/158 [00:07<00:00, 20.43it/s]\n",
      "Running inference: 100%|██████████| 159/159 [00:07<00:00, 21.33it/s]\n"
     ]
    },
    {
     "name": "stdout",
     "output_type": "stream",
     "text": [
      "Validation: {'precision': 43.8112, 'recall': 36.6387, 'f1': 38.6615, 'auc': 77.5623, 'prauc': 44.0248}\n",
      "Test:      {'precision': 44.0438, 'recall': 37.2752, 'f1': 39.0919, 'auc': 77.8699, 'prauc': 43.9571}\n",
      "\n",
      "Validation-long: {'precision': 41.7802, 'recall': 38.5006, 'f1': 39.0924, 'auc': 78.0381, 'prauc': 45.2894}\n",
      "Test-long: {'precision': 44.7208, 'recall': 40.0044, 'f1': 41.1954, 'auc': 78.7868, 'prauc': 46.9555}\n",
      "\n",
      "\n",
      "Early stopping triggered (no improvement for 5 epochs).\n",
      "\n",
      "Best validation performance:\n",
      "{'global': {'precision': 41.6411, 'recall': 37.5727, 'f1': 39.1779, 'auc': 78.3789, 'prauc': 44.6288}, 'per_class':                                            precision   recall       f1  \\\n",
      "Acute and unspecified renal failure          52.8752  32.5843  40.3209   \n",
      "Acute cerebrovascular disease                 0.0000   0.0000   0.0000   \n",
      "Acute myocardial infarction                   0.0000   0.0000   0.0000   \n",
      "Cardiac dysrhythmias                         75.4925  69.9781  72.6308   \n",
      "Chronic kidney disease                       79.5775  77.7300  78.6429   \n",
      "Chronic obstructive pulmonary disease        62.5000  63.6161  63.0531   \n",
      "Conduction disorders                          0.0000   0.0000   0.0000   \n",
      "Congestive heart failure; nonhypertensive    73.1556  72.7032  72.9287   \n",
      "Coronary atherosclerosis and related         80.7323  76.0887  78.3418   \n",
      "Disorders of lipid metabolism                77.6093  70.3488  73.8009   \n",
      "Essential hypertension                       78.2506  78.8471  78.5477   \n",
      "Fluid and electrolyte disorders              48.9927  37.4846  42.4729   \n",
      "Gastrointestinal hemorrhage                   0.0000   0.0000   0.0000   \n",
      "Hypertension with complications              72.8614  73.7313  73.2938   \n",
      "Other liver diseases                          0.0000   0.0000   0.0000   \n",
      "Other lower respiratory disease              47.4934  23.1959  31.1688   \n",
      "Pneumonia                                     0.0000   0.0000   0.0000   \n",
      "Septicemia (except in labor)                  0.0000   0.0000   0.0000   \n",
      "\n",
      "                                               auc    prauc  \n",
      "Acute and unspecified renal failure        74.1967  44.0877  \n",
      "Acute cerebrovascular disease              75.0028   6.5353  \n",
      "Acute myocardial infarction                79.3216  14.4496  \n",
      "Cardiac dysrhythmias                       86.3509  78.3784  \n",
      "Chronic kidney disease                     93.1933  85.4182  \n",
      "Chronic obstructive pulmonary disease      88.5210  57.4331  \n",
      "Conduction disorders                       72.9253   5.2843  \n",
      "Congestive heart failure; nonhypertensive  91.0897  79.4558  \n",
      "Coronary atherosclerosis and related       93.9840  83.0354  \n",
      "Disorders of lipid metabolism              88.0740  76.3160  \n",
      "Essential hypertension                     87.2581  80.5179  \n",
      "Fluid and electrolyte disorders            67.2917  47.3484  \n",
      "Gastrointestinal hemorrhage                63.9932   5.0785  \n",
      "Hypertension with complications            92.0007  77.0505  \n",
      "Other liver diseases                       57.2488   1.4668  \n",
      "Other lower respiratory disease            70.2839  35.7258  \n",
      "Pneumonia                                  64.7027  12.7719  \n",
      "Septicemia (except in labor)               65.3824  12.9644  }\n",
      "Corresponding test performance:\n",
      "{'global': {'precision': 47.4991, 'recall': 38.118, 'f1': 39.5627, 'auc': 78.8682, 'prauc': 44.4991}, 'per_class':                                            precision   recall       f1  \\\n",
      "Acute and unspecified renal failure          48.8981  30.6299  37.6658   \n",
      "Acute cerebrovascular disease                 0.0000   0.0000   0.0000   \n",
      "Acute myocardial infarction                   0.0000   0.0000   0.0000   \n",
      "Cardiac dysrhythmias                         72.0233  65.1846  68.4335   \n",
      "Chronic kidney disease                       83.7426  78.0584  80.8007   \n",
      "Chronic obstructive pulmonary disease        62.0087  66.6667  64.2534   \n",
      "Conduction disorders                          0.0000   0.0000   0.0000   \n",
      "Congestive heart failure; nonhypertensive    73.3503  74.9352  74.1342   \n",
      "Coronary atherosclerosis and related         80.2335  77.0216  78.5948   \n",
      "Disorders of lipid metabolism                78.3831  72.9155  75.5505   \n",
      "Essential hypertension                       78.2693  80.2592  79.2518   \n",
      "Fluid and electrolyte disorders              47.4803  37.9962  42.2121   \n",
      "Gastrointestinal hemorrhage                   0.0000   0.0000   0.0000   \n",
      "Hypertension with complications              78.4787  79.2135  78.8444   \n",
      "Other liver diseases                          0.0000   0.0000   0.0000   \n",
      "Other lower respiratory disease              52.1164  23.0140  31.9287   \n",
      "Pneumonia                                     0.0000   0.0000   0.0000   \n",
      "Septicemia (except in labor)                100.0000   0.2299   0.4587   \n",
      "\n",
      "                                               auc    prauc  \n",
      "Acute and unspecified renal failure        74.8513  43.5281  \n",
      "Acute cerebrovascular disease              71.2826   3.7312  \n",
      "Acute myocardial infarction                78.9058  12.5028  \n",
      "Cardiac dysrhythmias                       83.9967  73.9756  \n",
      "Chronic kidney disease                     93.4460  87.6908  \n",
      "Chronic obstructive pulmonary disease      88.8365  52.9088  \n",
      "Conduction disorders                       73.2353   6.1030  \n",
      "Congestive heart failure; nonhypertensive  91.1630  78.4578  \n",
      "Coronary atherosclerosis and related       93.9770  82.5332  \n",
      "Disorders of lipid metabolism              88.7889  76.7646  \n",
      "Essential hypertension                     88.2685  80.4954  \n",
      "Fluid and electrolyte disorders            67.3087  46.2415  \n",
      "Gastrointestinal hemorrhage                62.9229   5.8047  \n",
      "Hypertension with complications            93.6891  82.1848  \n",
      "Other liver diseases                       67.5209   1.9909  \n",
      "Other lower respiratory disease            69.0515  37.8614  \n",
      "Pneumonia                                  64.4973  12.5438  \n",
      "Septicemia (except in labor)               67.8857  15.6656  }\n",
      "Corresponding test-long performance:\n",
      "{'global': {'precision': 43.6694, 'recall': 40.341, 'f1': 41.307, 'auc': 79.5334, 'prauc': 47.2936}, 'per_class':                                            precision   recall       f1  \\\n",
      "Acute and unspecified renal failure          54.9020  40.7273  46.7641   \n",
      "Acute cerebrovascular disease                 0.0000   0.0000   0.0000   \n",
      "Acute myocardial infarction                   0.0000   0.0000   0.0000   \n",
      "Cardiac dysrhythmias                         79.0476  66.6667  72.3312   \n",
      "Chronic kidney disease                       83.8926  78.3699  81.0373   \n",
      "Chronic obstructive pulmonary disease        53.6842  66.2338  59.3023   \n",
      "Conduction disorders                          0.0000   0.0000   0.0000   \n",
      "Congestive heart failure; nonhypertensive    83.7209  80.0000  81.8182   \n",
      "Coronary atherosclerosis and related         80.2885  79.1469  79.7136   \n",
      "Disorders of lipid metabolism                80.0000  69.6864  74.4879   \n",
      "Essential hypertension                       78.5953  79.1246  78.8591   \n",
      "Fluid and electrolyte disorders              50.8393  59.3838  54.7804   \n",
      "Gastrointestinal hemorrhage                   0.0000   0.0000   0.0000   \n",
      "Hypertension with complications              77.6978  83.7209  80.5970   \n",
      "Other liver diseases                          0.0000   0.0000   0.0000   \n",
      "Other lower respiratory disease              63.3803  23.0769  33.8346   \n",
      "Pneumonia                                     0.0000   0.0000   0.0000   \n",
      "Septicemia (except in labor)                  0.0000   0.0000   0.0000   \n",
      "\n",
      "                                               auc    prauc  \n",
      "Acute and unspecified renal failure        73.4748  51.1207  \n",
      "Acute cerebrovascular disease              70.0515   0.3613  \n",
      "Acute myocardial infarction                78.6032  12.1305  \n",
      "Cardiac dysrhythmias                       85.1156  76.6639  \n",
      "Chronic kidney disease                     92.5167  90.5603  \n",
      "Chronic obstructive pulmonary disease      89.8835  47.1174  \n",
      "Conduction disorders                       73.0381   4.6930  \n",
      "Congestive heart failure; nonhypertensive  93.1784  88.6501  \n",
      "Coronary atherosclerosis and related       95.1021  82.0250  \n",
      "Disorders of lipid metabolism              91.7474  80.8324  \n",
      "Essential hypertension                     90.7064  81.9664  \n",
      "Fluid and electrolyte disorders            64.8656  53.1023  \n",
      "Gastrointestinal hemorrhage                62.0119   8.1090  \n",
      "Hypertension with complications            93.1073  85.0646  \n",
      "Other liver diseases                       79.5428   4.3611  \n",
      "Other lower respiratory disease            70.4827  48.8893  \n",
      "Pneumonia                                  62.8356  13.4759  \n",
      "Septicemia (except in labor)               65.3382  22.1609  }\n",
      "================================9==================================\n"
     ]
    },
    {
     "name": "stderr",
     "output_type": "stream",
     "text": [
      "Epoch 001: 100%|██████████| 215/215 [00:14<00:00, 14.98it/s, loss=0.3434]\n",
      "Running inference: 100%|██████████| 158/158 [00:07<00:00, 21.55it/s]\n",
      "Running inference: 100%|██████████| 159/159 [00:07<00:00, 21.45it/s]\n"
     ]
    },
    {
     "name": "stdout",
     "output_type": "stream",
     "text": [
      "Validation: {'precision': 41.0334, 'recall': 24.8978, 'f1': 27.7035, 'auc': 76.4251, 'prauc': 40.3369}\n",
      "Test:      {'precision': 41.8385, 'recall': 25.1134, 'f1': 27.7718, 'auc': 76.0738, 'prauc': 40.0941}\n",
      "\n",
      "Validation-long: {'precision': 36.7891, 'recall': 26.4171, 'f1': 29.6042, 'auc': 74.7959, 'prauc': 41.8317}\n",
      "Test-long: {'precision': 36.8361, 'recall': 26.7243, 'f1': 29.9799, 'auc': 74.9928, 'prauc': 42.8501}\n",
      "\n"
     ]
    },
    {
     "name": "stderr",
     "output_type": "stream",
     "text": [
      "Epoch 002: 100%|██████████| 215/215 [00:14<00:00, 14.93it/s, loss=0.2918]\n",
      "Running inference: 100%|██████████| 158/158 [00:07<00:00, 21.58it/s]\n",
      "Running inference: 100%|██████████| 159/159 [00:07<00:00, 21.31it/s]\n"
     ]
    },
    {
     "name": "stdout",
     "output_type": "stream",
     "text": [
      "Validation: {'precision': 42.8544, 'recall': 32.6857, 'f1': 35.3528, 'auc': 78.1164, 'prauc': 43.4187}\n",
      "Test:      {'precision': 43.431, 'recall': 33.1221, 'f1': 35.7143, 'auc': 78.4819, 'prauc': 43.8958}\n",
      "\n",
      "Validation-long: {'precision': 42.7003, 'recall': 35.3213, 'f1': 36.6257, 'auc': 76.4419, 'prauc': 44.3497}\n",
      "Test-long: {'precision': 45.1521, 'recall': 35.9007, 'f1': 38.0693, 'auc': 77.4351, 'prauc': 45.9736}\n",
      "\n"
     ]
    },
    {
     "name": "stderr",
     "output_type": "stream",
     "text": [
      "Epoch 003: 100%|██████████| 215/215 [00:14<00:00, 14.37it/s, loss=0.2776]\n",
      "Running inference: 100%|██████████| 158/158 [00:07<00:00, 21.28it/s]\n",
      "Running inference: 100%|██████████| 159/159 [00:07<00:00, 21.27it/s]\n"
     ]
    },
    {
     "name": "stdout",
     "output_type": "stream",
     "text": [
      "Validation: {'precision': 45.2905, 'recall': 32.3723, 'f1': 35.8029, 'auc': 79.0481, 'prauc': 44.1838}\n",
      "Test:      {'precision': 45.141, 'recall': 32.6875, 'f1': 35.9246, 'auc': 78.7095, 'prauc': 44.4097}\n",
      "\n",
      "Validation-long: {'precision': 45.2853, 'recall': 32.629, 'f1': 35.6223, 'auc': 79.3534, 'prauc': 46.5332}\n",
      "Test-long: {'precision': 47.272, 'recall': 34.9563, 'f1': 37.9703, 'auc': 79.1278, 'prauc': 46.7695}\n",
      "\n"
     ]
    },
    {
     "name": "stderr",
     "output_type": "stream",
     "text": [
      "Epoch 004: 100%|██████████| 215/215 [00:14<00:00, 14.75it/s, loss=0.2696]\n",
      "Running inference: 100%|██████████| 158/158 [00:07<00:00, 21.42it/s]\n",
      "Running inference: 100%|██████████| 159/159 [00:07<00:00, 21.37it/s]\n"
     ]
    },
    {
     "name": "stdout",
     "output_type": "stream",
     "text": [
      "Validation: {'precision': 43.8087, 'recall': 35.9171, 'f1': 38.1606, 'auc': 79.1217, 'prauc': 44.3029}\n",
      "Test:      {'precision': 43.9074, 'recall': 36.4925, 'f1': 38.5291, 'auc': 79.0345, 'prauc': 44.7782}\n",
      "\n",
      "Validation-long: {'precision': 43.9673, 'recall': 36.8547, 'f1': 37.9896, 'auc': 79.005, 'prauc': 45.8792}\n",
      "Test-long: {'precision': 45.8916, 'recall': 38.6011, 'f1': 39.9475, 'auc': 78.7998, 'prauc': 47.1782}\n",
      "\n"
     ]
    },
    {
     "name": "stderr",
     "output_type": "stream",
     "text": [
      "Epoch 005: 100%|██████████| 215/215 [00:14<00:00, 14.79it/s, loss=0.2651]\n",
      "Running inference: 100%|██████████| 158/158 [00:07<00:00, 21.60it/s]\n",
      "Running inference: 100%|██████████| 159/159 [00:07<00:00, 20.50it/s]\n"
     ]
    },
    {
     "name": "stdout",
     "output_type": "stream",
     "text": [
      "Validation: {'precision': 41.925, 'recall': 37.056, 'f1': 38.1509, 'auc': 79.048, 'prauc': 44.6851}\n",
      "Test:      {'precision': 44.0629, 'recall': 37.4175, 'f1': 38.4613, 'auc': 79.0392, 'prauc': 45.0008}\n",
      "\n",
      "Validation-long: {'precision': 42.3717, 'recall': 39.1109, 'f1': 38.4136, 'auc': 79.239, 'prauc': 46.3365}\n",
      "Test-long: {'precision': 46.1871, 'recall': 40.0912, 'f1': 40.3822, 'auc': 79.2308, 'prauc': 47.793}\n",
      "\n"
     ]
    },
    {
     "name": "stderr",
     "output_type": "stream",
     "text": [
      "Epoch 006: 100%|██████████| 215/215 [00:14<00:00, 14.83it/s, loss=0.2593]\n",
      "Running inference: 100%|██████████| 158/158 [00:07<00:00, 21.57it/s]\n",
      "Running inference: 100%|██████████| 159/159 [00:07<00:00, 21.36it/s]\n"
     ]
    },
    {
     "name": "stdout",
     "output_type": "stream",
     "text": [
      "Validation: {'precision': 46.2182, 'recall': 35.9618, 'f1': 38.0332, 'auc': 78.524, 'prauc': 44.5069}\n",
      "Test:      {'precision': 43.4921, 'recall': 36.1218, 'f1': 37.8181, 'auc': 78.877, 'prauc': 44.9228}\n",
      "\n",
      "Validation-long: {'precision': 44.1566, 'recall': 37.1538, 'f1': 38.0981, 'auc': 79.3603, 'prauc': 46.3812}\n",
      "Test-long: {'precision': 44.9681, 'recall': 38.2306, 'f1': 39.6196, 'auc': 79.3044, 'prauc': 47.6034}\n",
      "\n"
     ]
    },
    {
     "name": "stderr",
     "output_type": "stream",
     "text": [
      "Epoch 007: 100%|██████████| 215/215 [00:14<00:00, 14.72it/s, loss=0.2525]\n",
      "Running inference: 100%|██████████| 158/158 [00:07<00:00, 21.42it/s]\n",
      "Running inference: 100%|██████████| 159/159 [00:07<00:00, 21.51it/s]\n"
     ]
    },
    {
     "name": "stdout",
     "output_type": "stream",
     "text": [
      "Validation: {'precision': 42.9649, 'recall': 35.9802, 'f1': 38.1029, 'auc': 78.8426, 'prauc': 44.138}\n",
      "Test:      {'precision': 42.9866, 'recall': 36.4009, 'f1': 38.2999, 'auc': 79.1361, 'prauc': 44.7804}\n",
      "\n",
      "Validation-long: {'precision': 42.9, 'recall': 37.5039, 'f1': 38.8184, 'auc': 79.4531, 'prauc': 45.9944}\n",
      "Test-long: {'precision': 45.1821, 'recall': 38.663, 'f1': 40.3368, 'auc': 79.0769, 'prauc': 47.8459}\n",
      "\n"
     ]
    },
    {
     "name": "stderr",
     "output_type": "stream",
     "text": [
      "Epoch 008: 100%|██████████| 215/215 [00:14<00:00, 14.42it/s, loss=0.2452]\n",
      "Running inference: 100%|██████████| 158/158 [00:07<00:00, 21.54it/s]\n",
      "Running inference: 100%|██████████| 159/159 [00:07<00:00, 21.36it/s]\n"
     ]
    },
    {
     "name": "stdout",
     "output_type": "stream",
     "text": [
      "Validation: {'precision': 52.1383, 'recall': 33.104, 'f1': 36.3771, 'auc': 78.3941, 'prauc': 44.1242}\n",
      "Test:      {'precision': 49.4004, 'recall': 33.6496, 'f1': 36.7634, 'auc': 79.0032, 'prauc': 44.5492}\n",
      "\n",
      "Validation-long: {'precision': 48.5765, 'recall': 35.3256, 'f1': 37.6618, 'auc': 79.4286, 'prauc': 45.9505}\n",
      "Test-long: {'precision': 45.2777, 'recall': 37.0143, 'f1': 39.4756, 'auc': 77.9248, 'prauc': 47.2699}\n",
      "\n"
     ]
    },
    {
     "name": "stderr",
     "output_type": "stream",
     "text": [
      "Epoch 009: 100%|██████████| 215/215 [00:14<00:00, 14.75it/s, loss=0.2402]\n",
      "Running inference: 100%|██████████| 158/158 [00:07<00:00, 21.40it/s]\n",
      "Running inference: 100%|██████████| 159/159 [00:07<00:00, 21.47it/s]\n"
     ]
    },
    {
     "name": "stdout",
     "output_type": "stream",
     "text": [
      "Validation: {'precision': 40.4911, 'recall': 37.8672, 'f1': 38.7308, 'auc': 77.905, 'prauc': 43.5085}\n",
      "Test:      {'precision': 44.2955, 'recall': 38.7422, 'f1': 39.4512, 'auc': 78.6955, 'prauc': 44.1253}\n",
      "\n",
      "Validation-long: {'precision': 40.9194, 'recall': 40.9877, 'f1': 40.2132, 'auc': 79.0679, 'prauc': 45.5839}\n",
      "Test-long: {'precision': 42.635, 'recall': 42.0742, 'f1': 41.4923, 'auc': 77.9284, 'prauc': 47.1686}\n",
      "\n"
     ]
    },
    {
     "name": "stderr",
     "output_type": "stream",
     "text": [
      "Epoch 010: 100%|██████████| 215/215 [00:14<00:00, 14.73it/s, loss=0.2317]\n",
      "Running inference: 100%|██████████| 158/158 [00:07<00:00, 21.40it/s]\n",
      "Running inference: 100%|██████████| 159/159 [00:07<00:00, 21.40it/s]\n"
     ]
    },
    {
     "name": "stdout",
     "output_type": "stream",
     "text": [
      "Validation: {'precision': 47.4497, 'recall': 37.0635, 'f1': 38.1184, 'auc': 77.8374, 'prauc': 43.505}\n",
      "Test:      {'precision': 45.7598, 'recall': 37.6254, 'f1': 38.4757, 'auc': 78.5863, 'prauc': 43.8843}\n",
      "\n",
      "Validation-long: {'precision': 45.9567, 'recall': 39.4705, 'f1': 38.3803, 'auc': 79.4975, 'prauc': 45.3958}\n",
      "Test-long: {'precision': 44.2524, 'recall': 40.8173, 'f1': 40.1198, 'auc': 77.4482, 'prauc': 46.6538}\n",
      "\n"
     ]
    },
    {
     "name": "stderr",
     "output_type": "stream",
     "text": [
      "Epoch 011: 100%|██████████| 215/215 [00:14<00:00, 14.40it/s, loss=0.2284]\n",
      "Running inference: 100%|██████████| 158/158 [00:07<00:00, 21.57it/s]\n",
      "Running inference: 100%|██████████| 159/159 [00:07<00:00, 21.50it/s]\n"
     ]
    },
    {
     "name": "stdout",
     "output_type": "stream",
     "text": [
      "Validation: {'precision': 44.2104, 'recall': 38.1667, 'f1': 39.0464, 'auc': 77.3678, 'prauc': 42.9297}\n",
      "Test:      {'precision': 44.6084, 'recall': 38.9702, 'f1': 39.6464, 'auc': 78.5535, 'prauc': 43.6675}\n",
      "\n",
      "Validation-long: {'precision': 46.8315, 'recall': 40.3923, 'f1': 39.9171, 'auc': 79.1984, 'prauc': 46.3207}\n",
      "Test-long: {'precision': 46.4547, 'recall': 42.5338, 'f1': 41.8572, 'auc': 77.4098, 'prauc': 47.1434}\n",
      "\n"
     ]
    },
    {
     "name": "stderr",
     "output_type": "stream",
     "text": [
      "Epoch 012: 100%|██████████| 215/215 [00:14<00:00, 14.89it/s, loss=0.2193]\n",
      "Running inference: 100%|██████████| 158/158 [00:07<00:00, 21.55it/s]\n",
      "Running inference: 100%|██████████| 159/159 [00:07<00:00, 21.39it/s]\n"
     ]
    },
    {
     "name": "stdout",
     "output_type": "stream",
     "text": [
      "Validation: {'precision': 46.9817, 'recall': 36.4545, 'f1': 37.9992, 'auc': 77.3873, 'prauc': 42.7149}\n",
      "Test:      {'precision': 45.7353, 'recall': 36.6828, 'f1': 38.2678, 'auc': 78.068, 'prauc': 43.1661}\n",
      "\n",
      "Validation-long: {'precision': 44.2208, 'recall': 36.4681, 'f1': 38.4124, 'auc': 79.8036, 'prauc': 45.7096}\n",
      "Test-long: {'precision': 46.2309, 'recall': 37.8489, 'f1': 40.0372, 'auc': 77.3037, 'prauc': 46.5168}\n",
      "\n"
     ]
    },
    {
     "name": "stderr",
     "output_type": "stream",
     "text": [
      "Epoch 013: 100%|██████████| 215/215 [00:14<00:00, 14.86it/s, loss=0.2110]\n",
      "Running inference: 100%|██████████| 158/158 [00:07<00:00, 20.37it/s]\n",
      "Running inference: 100%|██████████| 159/159 [00:07<00:00, 21.19it/s]\n"
     ]
    },
    {
     "name": "stdout",
     "output_type": "stream",
     "text": [
      "Validation: {'precision': 46.3588, 'recall': 36.3907, 'f1': 38.5581, 'auc': 77.2789, 'prauc': 42.8286}\n",
      "Test:      {'precision': 46.348, 'recall': 36.7898, 'f1': 38.815, 'auc': 78.0565, 'prauc': 43.1887}\n",
      "\n",
      "Validation-long: {'precision': 46.6874, 'recall': 37.8738, 'f1': 38.8809, 'auc': 78.5064, 'prauc': 45.4628}\n",
      "Test-long: {'precision': 47.1305, 'recall': 39.1657, 'f1': 40.1835, 'auc': 76.7492, 'prauc': 46.5106}\n",
      "\n"
     ]
    },
    {
     "name": "stderr",
     "output_type": "stream",
     "text": [
      "Epoch 014: 100%|██████████| 215/215 [00:14<00:00, 14.82it/s, loss=0.2054]\n",
      "Running inference: 100%|██████████| 158/158 [00:07<00:00, 21.34it/s]\n",
      "Running inference: 100%|██████████| 159/159 [00:07<00:00, 21.24it/s]\n"
     ]
    },
    {
     "name": "stdout",
     "output_type": "stream",
     "text": [
      "Validation: {'precision': 42.1376, 'recall': 36.5109, 'f1': 38.3928, 'auc': 76.911, 'prauc': 42.1145}\n",
      "Test:      {'precision': 48.192, 'recall': 37.494, 'f1': 39.4522, 'auc': 77.723, 'prauc': 42.8819}\n",
      "\n",
      "Validation-long: {'precision': 41.5715, 'recall': 39.6199, 'f1': 39.7782, 'auc': 78.2473, 'prauc': 44.0365}\n",
      "Test-long: {'precision': 43.1528, 'recall': 41.1705, 'f1': 41.4236, 'auc': 76.9486, 'prauc': 46.2555}\n",
      "\n"
     ]
    },
    {
     "name": "stderr",
     "output_type": "stream",
     "text": [
      "Epoch 015: 100%|██████████| 215/215 [00:14<00:00, 14.78it/s, loss=0.1991]\n",
      "Running inference: 100%|██████████| 158/158 [00:07<00:00, 21.50it/s]\n",
      "Running inference: 100%|██████████| 159/159 [00:07<00:00, 21.46it/s]\n"
     ]
    },
    {
     "name": "stdout",
     "output_type": "stream",
     "text": [
      "Validation: {'precision': 42.0617, 'recall': 35.6156, 'f1': 36.2853, 'auc': 76.5797, 'prauc': 41.6568}\n",
      "Test:      {'precision': 45.8191, 'recall': 36.4692, 'f1': 37.0538, 'auc': 77.03, 'prauc': 42.2138}\n",
      "\n",
      "Validation-long: {'precision': 43.4797, 'recall': 37.9026, 'f1': 37.6395, 'auc': 78.3871, 'prauc': 43.4714}\n",
      "Test-long: {'precision': 43.2502, 'recall': 39.0496, 'f1': 38.814, 'auc': 76.6263, 'prauc': 45.8327}\n",
      "\n"
     ]
    },
    {
     "name": "stderr",
     "output_type": "stream",
     "text": [
      "Epoch 016: 100%|██████████| 215/215 [00:14<00:00, 14.41it/s, loss=0.1921]\n",
      "Running inference: 100%|██████████| 158/158 [00:07<00:00, 21.50it/s]\n",
      "Running inference: 100%|██████████| 159/159 [00:07<00:00, 21.47it/s]\n"
     ]
    },
    {
     "name": "stdout",
     "output_type": "stream",
     "text": [
      "Validation: {'precision': 45.3443, 'recall': 37.581, 'f1': 38.9262, 'auc': 76.6657, 'prauc': 41.9467}\n",
      "Test:      {'precision': 43.588, 'recall': 38.2089, 'f1': 39.3263, 'auc': 77.3369, 'prauc': 42.3969}\n",
      "\n",
      "Validation-long: {'precision': 45.4527, 'recall': 42.0849, 'f1': 41.5055, 'auc': 78.3359, 'prauc': 44.1222}\n",
      "Test-long: {'precision': 43.1097, 'recall': 42.9349, 'f1': 42.3519, 'auc': 75.8291, 'prauc': 45.4274}\n",
      "\n",
      "\n",
      "Early stopping triggered (no improvement for 5 epochs).\n",
      "\n",
      "Best validation performance:\n",
      "{'global': {'precision': 44.2104, 'recall': 38.1667, 'f1': 39.0464, 'auc': 77.3678, 'prauc': 42.9297}, 'per_class':                                            precision   recall       f1  \\\n",
      "Acute and unspecified renal failure          42.8818  42.9559  42.9188   \n",
      "Acute cerebrovascular disease                 0.0000   0.0000   0.0000   \n",
      "Acute myocardial infarction                  25.8065   3.9801   6.8966   \n",
      "Cardiac dysrhythmias                         78.1678  66.6910  71.9748   \n",
      "Chronic kidney disease                       78.2648  73.6887  75.9079   \n",
      "Chronic obstructive pulmonary disease        64.5985  39.5089  49.0305   \n",
      "Conduction disorders                          0.0000   0.0000   0.0000   \n",
      "Congestive heart failure; nonhypertensive    68.7550  75.6184  72.0236   \n",
      "Coronary atherosclerosis and related         77.3527  83.0731  80.1109   \n",
      "Disorders of lipid metabolism                72.6588  81.6068  76.8733   \n",
      "Essential hypertension                       77.9058  74.0829  75.9463   \n",
      "Fluid and electrolyte disorders              43.0912  48.6436  45.6994   \n",
      "Gastrointestinal hemorrhage                   0.0000   0.0000   0.0000   \n",
      "Hypertension with complications              73.5169  69.0547  71.2160   \n",
      "Other liver diseases                          0.0000   0.0000   0.0000   \n",
      "Other lower respiratory disease              35.7143  25.7732  29.9401   \n",
      "Pneumonia                                    40.0000   0.5464   1.0782   \n",
      "Septicemia (except in labor)                 17.0732   1.7766   3.2184   \n",
      "\n",
      "                                               auc    prauc  \n",
      "Acute and unspecified renal failure        72.1327  41.0131  \n",
      "Acute cerebrovascular disease              72.0371   3.0644  \n",
      "Acute myocardial infarction                77.9450  14.0507  \n",
      "Cardiac dysrhythmias                       85.0100  75.5433  \n",
      "Chronic kidney disease                     92.0154  83.3137  \n",
      "Chronic obstructive pulmonary disease      87.7837  52.2017  \n",
      "Conduction disorders                       70.2990   4.7718  \n",
      "Congestive heart failure; nonhypertensive  89.9155  77.1695  \n",
      "Coronary atherosclerosis and related       93.3689  81.6775  \n",
      "Disorders of lipid metabolism              87.6338  76.5305  \n",
      "Essential hypertension                     86.3692  78.3248  \n",
      "Fluid and electrolyte disorders            64.8521  44.8310  \n",
      "Gastrointestinal hemorrhage                63.4587   4.6621  \n",
      "Hypertension with complications            91.1879  75.4719  \n",
      "Other liver diseases                       57.2714   1.4380  \n",
      "Other lower respiratory disease            68.4441  32.6458  \n",
      "Pneumonia                                  66.3269  12.6346  \n",
      "Septicemia (except in labor)               66.5686  13.3910  }\n",
      "Corresponding test performance:\n",
      "{'global': {'precision': 44.6084, 'recall': 38.9702, 'f1': 39.6464, 'auc': 78.5535, 'prauc': 43.6675}, 'per_class':                                            precision   recall       f1  \\\n",
      "Acute and unspecified renal failure          44.8696  44.5211  44.6947   \n",
      "Acute cerebrovascular disease                 0.0000   0.0000   0.0000   \n",
      "Acute myocardial infarction                  27.2727   3.1250   5.6075   \n",
      "Cardiac dysrhythmias                         74.7032  61.6428  67.5475   \n",
      "Chronic kidney disease                       81.9843  74.3489  77.9801   \n",
      "Chronic obstructive pulmonary disease        61.4865  42.7230  50.4155   \n",
      "Conduction disorders                          0.0000   0.0000   0.0000   \n",
      "Congestive heart failure; nonhypertensive    68.5129  78.0467  72.9697   \n",
      "Coronary atherosclerosis and related         76.6445  83.0264  79.7079   \n",
      "Disorders of lipid metabolism                72.7927  82.6703  77.4177   \n",
      "Essential hypertension                       77.8287  76.1216  76.9657   \n",
      "Fluid and electrolyte disorders              43.4031  52.2369  47.4121   \n",
      "Gastrointestinal hemorrhage                   0.0000   0.0000   0.0000   \n",
      "Hypertension with complications              76.6438  73.1273  74.8443   \n",
      "Other liver diseases                          0.0000   0.0000   0.0000   \n",
      "Other lower respiratory disease              38.4220  26.1682  31.1327   \n",
      "Pneumonia                                    10.0000   0.2571   0.5013   \n",
      "Septicemia (except in labor)                 48.3871   3.4483   6.4378   \n",
      "\n",
      "                                               auc    prauc  \n",
      "Acute and unspecified renal failure        73.4633  41.4798  \n",
      "Acute cerebrovascular disease              72.7421   2.7486  \n",
      "Acute myocardial infarction                78.5425  12.8548  \n",
      "Cardiac dysrhythmias                       83.5463  72.6831  \n",
      "Chronic kidney disease                     92.7743  86.3175  \n",
      "Chronic obstructive pulmonary disease      87.6818  51.0993  \n",
      "Conduction disorders                       76.2124   7.5439  \n",
      "Congestive heart failure; nonhypertensive  90.2434  77.6966  \n",
      "Coronary atherosclerosis and related       93.6207  82.1969  \n",
      "Disorders of lipid metabolism              88.1622  75.9907  \n",
      "Essential hypertension                     87.4026  78.7712  \n",
      "Fluid and electrolyte disorders            65.7623  43.8136  \n",
      "Gastrointestinal hemorrhage                63.2132   6.6900  \n",
      "Hypertension with complications            92.7500  79.4356  \n",
      "Other liver diseases                       66.4928   1.8379  \n",
      "Other lower respiratory disease            68.0762  34.8437  \n",
      "Pneumonia                                  64.0430  12.3961  \n",
      "Septicemia (except in labor)               69.2342  17.6154  }\n",
      "Corresponding test-long performance:\n",
      "{'global': {'precision': 46.4547, 'recall': 42.5338, 'f1': 41.8572, 'auc': 77.4098, 'prauc': 47.1434}, 'per_class':                                            precision   recall       f1  \\\n",
      "Acute and unspecified renal failure          49.8489  60.0000  54.4554   \n",
      "Acute cerebrovascular disease                 0.0000   0.0000   0.0000   \n",
      "Acute myocardial infarction                  50.0000   6.6667  11.7647   \n",
      "Cardiac dysrhythmias                         72.6872  66.2651  69.3277   \n",
      "Chronic kidney disease                       83.6667  78.6834  81.0985   \n",
      "Chronic obstructive pulmonary disease        53.5714  38.9610  45.1128   \n",
      "Conduction disorders                          0.0000   0.0000   0.0000   \n",
      "Congestive heart failure; nonhypertensive    71.0059  88.8889  78.9474   \n",
      "Coronary atherosclerosis and related         75.0000  85.3081  79.8226   \n",
      "Disorders of lipid metabolism                71.7718  83.2753  77.0968   \n",
      "Essential hypertension                       79.7794  73.0640  76.2742   \n",
      "Fluid and electrolyte disorders              48.9279  70.3081  57.7011   \n",
      "Gastrointestinal hemorrhage                   0.0000   0.0000   0.0000   \n",
      "Hypertension with complications              78.5978  82.5581  80.5293   \n",
      "Other liver diseases                          0.0000   0.0000   0.0000   \n",
      "Other lower respiratory disease              51.3274  29.7436  37.6623   \n",
      "Pneumonia                                     0.0000   0.0000   0.0000   \n",
      "Septicemia (except in labor)                 50.0000   1.8868   3.6364   \n",
      "\n",
      "                                               auc    prauc  \n",
      "Acute and unspecified renal failure        71.8793  49.3863  \n",
      "Acute cerebrovascular disease              24.5423   0.1419  \n",
      "Acute myocardial infarction                78.9835  16.4485  \n",
      "Cardiac dysrhythmias                       84.7716  74.9139  \n",
      "Chronic kidney disease                     91.7176  89.0689  \n",
      "Chronic obstructive pulmonary disease      88.9968  46.3348  \n",
      "Conduction disorders                       78.3476   5.4394  \n",
      "Congestive heart failure; nonhypertensive  93.4174  88.2779  \n",
      "Coronary atherosclerosis and related       94.1770  80.6248  \n",
      "Disorders of lipid metabolism              91.1987  81.1200  \n",
      "Essential hypertension                     90.4331  81.2372  \n",
      "Fluid and electrolyte disorders            64.1219  51.2527  \n",
      "Gastrointestinal hemorrhage                64.1141   9.4402  \n",
      "Hypertension with complications            92.0160  82.3493  \n",
      "Other liver diseases                       83.2417   4.5210  \n",
      "Other lower respiratory disease            68.7119  48.2524  \n",
      "Pneumonia                                  64.9117  15.0969  \n",
      "Septicemia (except in labor)               67.7947  24.6751  }\n",
      "================================10==================================\n"
     ]
    },
    {
     "name": "stderr",
     "output_type": "stream",
     "text": [
      "Epoch 001: 100%|██████████| 215/215 [00:14<00:00, 14.78it/s, loss=0.3486]\n",
      "Running inference: 100%|██████████| 158/158 [00:07<00:00, 21.45it/s]\n",
      "Running inference: 100%|██████████| 159/159 [00:07<00:00, 21.37it/s]\n"
     ]
    },
    {
     "name": "stdout",
     "output_type": "stream",
     "text": [
      "Validation: {'precision': 40.8209, 'recall': 25.6825, 'f1': 29.1477, 'auc': 75.531, 'prauc': 39.2827}\n",
      "Test:      {'precision': 35.0866, 'recall': 26.1062, 'f1': 29.4364, 'auc': 74.6244, 'prauc': 39.1313}\n",
      "\n",
      "Validation-long: {'precision': 35.3445, 'recall': 27.2762, 'f1': 30.3397, 'auc': 74.1926, 'prauc': 40.6448}\n",
      "Test-long: {'precision': 36.3602, 'recall': 28.0313, 'f1': 31.1193, 'auc': 72.5547, 'prauc': 42.1404}\n",
      "\n"
     ]
    },
    {
     "name": "stderr",
     "output_type": "stream",
     "text": [
      "Epoch 002: 100%|██████████| 215/215 [00:14<00:00, 14.77it/s, loss=0.2948]\n",
      "Running inference: 100%|██████████| 158/158 [00:07<00:00, 21.37it/s]\n",
      "Running inference: 100%|██████████| 159/159 [00:07<00:00, 20.24it/s]\n"
     ]
    },
    {
     "name": "stdout",
     "output_type": "stream",
     "text": [
      "Validation: {'precision': 41.7938, 'recall': 33.0149, 'f1': 35.0818, 'auc': 77.7534, 'prauc': 42.8983}\n",
      "Test:      {'precision': 41.4301, 'recall': 33.3008, 'f1': 35.1928, 'auc': 77.5714, 'prauc': 42.9005}\n",
      "\n",
      "Validation-long: {'precision': 41.4882, 'recall': 34.0172, 'f1': 35.0996, 'auc': 76.913, 'prauc': 44.2876}\n",
      "Test-long: {'precision': 42.8834, 'recall': 34.9935, 'f1': 36.7739, 'auc': 77.0012, 'prauc': 45.2899}\n",
      "\n"
     ]
    },
    {
     "name": "stderr",
     "output_type": "stream",
     "text": [
      "Epoch 003: 100%|██████████| 215/215 [00:14<00:00, 14.85it/s, loss=0.2810]\n",
      "Running inference: 100%|██████████| 158/158 [00:07<00:00, 21.56it/s]\n",
      "Running inference: 100%|██████████| 159/159 [00:07<00:00, 21.43it/s]\n"
     ]
    },
    {
     "name": "stdout",
     "output_type": "stream",
     "text": [
      "Validation: {'precision': 42.2745, 'recall': 37.2813, 'f1': 38.4618, 'auc': 78.7224, 'prauc': 44.354}\n",
      "Test:      {'precision': 42.1489, 'recall': 38.0125, 'f1': 38.8667, 'auc': 78.8378, 'prauc': 44.4509}\n",
      "\n",
      "Validation-long: {'precision': 43.0714, 'recall': 39.3225, 'f1': 38.7723, 'auc': 78.5549, 'prauc': 45.6322}\n",
      "Test-long: {'precision': 44.0065, 'recall': 40.8472, 'f1': 40.5414, 'auc': 79.7389, 'prauc': 47.1496}\n",
      "\n"
     ]
    },
    {
     "name": "stderr",
     "output_type": "stream",
     "text": [
      "Epoch 004: 100%|██████████| 215/215 [00:14<00:00, 14.82it/s, loss=0.2711]\n",
      "Running inference: 100%|██████████| 158/158 [00:07<00:00, 21.49it/s]\n",
      "Running inference: 100%|██████████| 159/159 [00:07<00:00, 21.54it/s]\n"
     ]
    },
    {
     "name": "stdout",
     "output_type": "stream",
     "text": [
      "Validation: {'precision': 43.1657, 'recall': 35.3682, 'f1': 37.6991, 'auc': 78.9491, 'prauc': 44.4814}\n",
      "Test:      {'precision': 43.1729, 'recall': 35.9477, 'f1': 38.0834, 'auc': 79.0082, 'prauc': 44.5575}\n",
      "\n",
      "Validation-long: {'precision': 43.192, 'recall': 38.9158, 'f1': 38.9994, 'auc': 79.6076, 'prauc': 45.827}\n",
      "Test-long: {'precision': 44.6546, 'recall': 39.7085, 'f1': 40.6262, 'auc': 80.038, 'prauc': 47.2692}\n",
      "\n"
     ]
    },
    {
     "name": "stderr",
     "output_type": "stream",
     "text": [
      "Epoch 005: 100%|██████████| 215/215 [00:14<00:00, 14.37it/s, loss=0.2635]\n",
      "Running inference: 100%|██████████| 158/158 [00:07<00:00, 21.42it/s]\n",
      "Running inference: 100%|██████████| 159/159 [00:07<00:00, 21.50it/s]\n"
     ]
    },
    {
     "name": "stdout",
     "output_type": "stream",
     "text": [
      "Validation: {'precision': 43.8406, 'recall': 34.7856, 'f1': 37.753, 'auc': 78.6807, 'prauc': 44.5511}\n",
      "Test:      {'precision': 43.4992, 'recall': 35.2627, 'f1': 37.9355, 'auc': 78.725, 'prauc': 44.654}\n",
      "\n",
      "Validation-long: {'precision': 45.2418, 'recall': 35.5498, 'f1': 38.0378, 'auc': 79.6563, 'prauc': 45.8201}\n",
      "Test-long: {'precision': 45.3369, 'recall': 36.5813, 'f1': 39.2875, 'auc': 79.6712, 'prauc': 47.0892}\n",
      "\n"
     ]
    },
    {
     "name": "stderr",
     "output_type": "stream",
     "text": [
      "Epoch 006: 100%|██████████| 215/215 [00:14<00:00, 14.81it/s, loss=0.2577]\n",
      "Running inference: 100%|██████████| 158/158 [00:07<00:00, 21.45it/s]\n",
      "Running inference: 100%|██████████| 159/159 [00:07<00:00, 21.45it/s]\n"
     ]
    },
    {
     "name": "stdout",
     "output_type": "stream",
     "text": [
      "Validation: {'precision': 42.3092, 'recall': 37.3275, 'f1': 39.2557, 'auc': 78.5989, 'prauc': 44.2866}\n",
      "Test:      {'precision': 42.1023, 'recall': 38.1465, 'f1': 39.6224, 'auc': 78.8482, 'prauc': 44.4645}\n",
      "\n",
      "Validation-long: {'precision': 42.5024, 'recall': 40.0445, 'f1': 40.4841, 'auc': 79.1431, 'prauc': 45.9006}\n",
      "Test-long: {'precision': 43.1407, 'recall': 41.6854, 'f1': 41.8315, 'auc': 79.9317, 'prauc': 47.4821}\n",
      "\n"
     ]
    },
    {
     "name": "stderr",
     "output_type": "stream",
     "text": [
      "Epoch 007: 100%|██████████| 215/215 [00:14<00:00, 14.86it/s, loss=0.2509]\n",
      "Running inference: 100%|██████████| 158/158 [00:07<00:00, 21.55it/s]\n",
      "Running inference: 100%|██████████| 159/159 [00:07<00:00, 20.34it/s]\n"
     ]
    },
    {
     "name": "stdout",
     "output_type": "stream",
     "text": [
      "Validation: {'precision': 45.294, 'recall': 35.6408, 'f1': 37.7654, 'auc': 78.5126, 'prauc': 44.0409}\n",
      "Test:      {'precision': 45.7666, 'recall': 36.2779, 'f1': 38.162, 'auc': 78.9542, 'prauc': 44.3709}\n",
      "\n",
      "Validation-long: {'precision': 43.2613, 'recall': 36.2824, 'f1': 38.1209, 'auc': 79.5444, 'prauc': 45.583}\n",
      "Test-long: {'precision': 44.4261, 'recall': 37.5546, 'f1': 39.7432, 'auc': 80.0082, 'prauc': 46.8912}\n",
      "\n"
     ]
    },
    {
     "name": "stderr",
     "output_type": "stream",
     "text": [
      "Epoch 008: 100%|██████████| 215/215 [00:14<00:00, 14.79it/s, loss=0.2453]\n",
      "Running inference: 100%|██████████| 158/158 [00:07<00:00, 21.47it/s]\n",
      "Running inference: 100%|██████████| 159/159 [00:07<00:00, 21.28it/s]\n"
     ]
    },
    {
     "name": "stdout",
     "output_type": "stream",
     "text": [
      "Validation: {'precision': 45.0375, 'recall': 35.1452, 'f1': 37.7551, 'auc': 78.2373, 'prauc': 43.9756}\n",
      "Test:      {'precision': 45.8533, 'recall': 35.7046, 'f1': 38.1289, 'auc': 78.7956, 'prauc': 44.065}\n",
      "\n",
      "Validation-long: {'precision': 46.6093, 'recall': 37.2477, 'f1': 39.2423, 'auc': 79.4632, 'prauc': 45.9879}\n",
      "Test-long: {'precision': 47.0157, 'recall': 38.1597, 'f1': 40.2262, 'auc': 79.6505, 'prauc': 46.8455}\n",
      "\n"
     ]
    },
    {
     "name": "stderr",
     "output_type": "stream",
     "text": [
      "Epoch 009: 100%|██████████| 215/215 [00:14<00:00, 14.73it/s, loss=0.2394]\n",
      "Running inference: 100%|██████████| 158/158 [00:07<00:00, 21.36it/s]\n",
      "Running inference: 100%|██████████| 159/159 [00:07<00:00, 21.21it/s]\n"
     ]
    },
    {
     "name": "stdout",
     "output_type": "stream",
     "text": [
      "Validation: {'precision': 42.7187, 'recall': 36.1888, 'f1': 38.2729, 'auc': 77.9495, 'prauc': 43.6143}\n",
      "Test:      {'precision': 44.9985, 'recall': 36.9988, 'f1': 38.7986, 'auc': 78.5863, 'prauc': 44.1419}\n",
      "\n",
      "Validation-long: {'precision': 42.0642, 'recall': 38.8989, 'f1': 39.1792, 'auc': 79.0354, 'prauc': 45.8963}\n",
      "Test-long: {'precision': 46.8047, 'recall': 41.1718, 'f1': 41.5034, 'auc': 80.1053, 'prauc': 47.2215}\n",
      "\n"
     ]
    },
    {
     "name": "stderr",
     "output_type": "stream",
     "text": [
      "Epoch 010: 100%|██████████| 215/215 [00:14<00:00, 14.66it/s, loss=0.2314]\n",
      "Running inference: 100%|██████████| 158/158 [00:07<00:00, 20.46it/s]\n",
      "Running inference: 100%|██████████| 159/159 [00:07<00:00, 21.35it/s]\n"
     ]
    },
    {
     "name": "stdout",
     "output_type": "stream",
     "text": [
      "Validation: {'precision': 42.1889, 'recall': 33.5208, 'f1': 36.2561, 'auc': 77.5493, 'prauc': 43.1912}\n",
      "Test:      {'precision': 44.5247, 'recall': 34.4309, 'f1': 36.9712, 'auc': 78.1838, 'prauc': 43.9104}\n",
      "\n",
      "Validation-long: {'precision': 42.5864, 'recall': 34.7658, 'f1': 36.9833, 'auc': 79.1474, 'prauc': 45.1901}\n",
      "Test-long: {'precision': 43.7884, 'recall': 36.1286, 'f1': 38.565, 'auc': 79.7187, 'prauc': 47.1774}\n",
      "\n"
     ]
    },
    {
     "name": "stderr",
     "output_type": "stream",
     "text": [
      "Epoch 011: 100%|██████████| 215/215 [00:14<00:00, 14.88it/s, loss=0.2247]\n",
      "Running inference: 100%|██████████| 158/158 [00:07<00:00, 21.73it/s]\n",
      "Running inference: 100%|██████████| 159/159 [00:07<00:00, 21.65it/s]\n"
     ]
    },
    {
     "name": "stdout",
     "output_type": "stream",
     "text": [
      "Validation: {'precision': 46.8911, 'recall': 34.8628, 'f1': 37.742, 'auc': 77.3662, 'prauc': 43.0819}\n",
      "Test:      {'precision': 47.0324, 'recall': 35.7227, 'f1': 38.2301, 'auc': 77.8012, 'prauc': 43.6874}\n",
      "\n",
      "Validation-long: {'precision': 43.9844, 'recall': 37.7165, 'f1': 39.2111, 'auc': 78.1943, 'prauc': 44.7066}\n",
      "Test-long: {'precision': 46.5501, 'recall': 39.3936, 'f1': 41.0074, 'auc': 79.4455, 'prauc': 47.0549}\n",
      "\n",
      "\n",
      "Early stopping triggered (no improvement for 5 epochs).\n",
      "\n",
      "Best validation performance:\n",
      "{'global': {'precision': 42.3092, 'recall': 37.3275, 'f1': 39.2557, 'auc': 78.5989, 'prauc': 44.2866}, 'per_class':                                            precision   recall       f1  \\\n",
      "Acute and unspecified renal failure          46.0630  40.4494  43.0741   \n",
      "Acute cerebrovascular disease                 0.0000   0.0000   0.0000   \n",
      "Acute myocardial infarction                   0.0000   0.0000   0.0000   \n",
      "Cardiac dysrhythmias                         82.2102  66.8371  73.7309   \n",
      "Chronic kidney disease                       81.5126  75.0645  78.1558   \n",
      "Chronic obstructive pulmonary disease        64.4928  59.5982  61.9490   \n",
      "Conduction disorders                          0.0000   0.0000   0.0000   \n",
      "Congestive heart failure; nonhypertensive    75.4190  71.5548  73.4361   \n",
      "Coronary atherosclerosis and related         80.7003  77.6500  79.1457   \n",
      "Disorders of lipid metabolism                76.0733  76.7970  76.4335   \n",
      "Essential hypertension                       77.6482  79.2758  78.4536   \n",
      "Fluid and electrolyte disorders              47.9643  29.7781  36.7440   \n",
      "Gastrointestinal hemorrhage                   0.0000   0.0000   0.0000   \n",
      "Hypertension with complications              74.7942  72.3383  73.5458   \n",
      "Other liver diseases                          0.0000   0.0000   0.0000   \n",
      "Other lower respiratory disease              54.6875  22.5515  31.9343   \n",
      "Pneumonia                                     0.0000   0.0000   0.0000   \n",
      "Septicemia (except in labor)                  0.0000   0.0000   0.0000   \n",
      "\n",
      "                                               auc    prauc  \n",
      "Acute and unspecified renal failure        73.7120  42.4977  \n",
      "Acute cerebrovascular disease              73.9005   3.0045  \n",
      "Acute myocardial infarction                79.0381  15.1217  \n",
      "Cardiac dysrhythmias                       86.4259  78.4878  \n",
      "Chronic kidney disease                     92.8286  84.8275  \n",
      "Chronic obstructive pulmonary disease      88.3422  55.0521  \n",
      "Conduction disorders                       74.1817   5.6306  \n",
      "Congestive heart failure; nonhypertensive  90.6301  78.3978  \n",
      "Coronary atherosclerosis and related       94.0205  82.9614  \n",
      "Disorders of lipid metabolism              88.2518  77.3547  \n",
      "Essential hypertension                     86.8662  80.0679  \n",
      "Fluid and electrolyte disorders            65.8213  46.2105  \n",
      "Gastrointestinal hemorrhage                66.8337   4.8195  \n",
      "Hypertension with complications            92.0244  77.0118  \n",
      "Other liver diseases                       57.7254   1.4346  \n",
      "Other lower respiratory disease            70.9243  37.7638  \n",
      "Pneumonia                                  65.8952  12.8237  \n",
      "Septicemia (except in labor)               67.3589  13.6913  }\n",
      "Corresponding test performance:\n",
      "{'global': {'precision': 42.1023, 'recall': 38.1465, 'f1': 39.6224, 'auc': 78.8482, 'prauc': 44.4645}, 'per_class':                                            precision   recall       f1  \\\n",
      "Acute and unspecified renal failure          46.4022  43.3995  44.8506   \n",
      "Acute cerebrovascular disease                 0.0000   0.0000   0.0000   \n",
      "Acute myocardial infarction                   0.0000   0.0000   0.0000   \n",
      "Cardiac dysrhythmias                         79.6562  62.8485  70.2612   \n",
      "Chronic kidney disease                       83.8932  76.8745  80.2306   \n",
      "Chronic obstructive pulmonary disease        62.2328  61.5023  61.8654   \n",
      "Conduction disorders                          0.0000   0.0000   0.0000   \n",
      "Congestive heart failure; nonhypertensive    75.4386  74.3302  74.8803   \n",
      "Coronary atherosclerosis and related         78.5599  77.7422  78.1489   \n",
      "Disorders of lipid metabolism                76.3998  79.5640  77.9498   \n",
      "Essential hypertension                       77.7778  78.8634  78.3168   \n",
      "Fluid and electrolyte disorders              47.0211  32.3251  38.3122   \n",
      "Gastrointestinal hemorrhage                   0.0000   0.0000   0.0000   \n",
      "Hypertension with complications              78.3223  77.8090  78.0648   \n",
      "Other liver diseases                          0.0000   0.0000   0.0000   \n",
      "Other lower respiratory disease              52.1368  21.3785  30.3231   \n",
      "Pneumonia                                     0.0000   0.0000   0.0000   \n",
      "Septicemia (except in labor)                  0.0000   0.0000   0.0000   \n",
      "\n",
      "                                               auc    prauc  \n",
      "Acute and unspecified renal failure        74.4807  42.5806  \n",
      "Acute cerebrovascular disease              70.8377   2.5409  \n",
      "Acute myocardial infarction                78.0876  12.0993  \n",
      "Cardiac dysrhythmias                       84.6291  73.8085  \n",
      "Chronic kidney disease                     93.3816  87.5141  \n",
      "Chronic obstructive pulmonary disease      88.5237  50.6126  \n",
      "Conduction disorders                       77.1114   8.9412  \n",
      "Congestive heart failure; nonhypertensive  90.9085  78.4956  \n",
      "Coronary atherosclerosis and related       93.9365  82.8542  \n",
      "Disorders of lipid metabolism              88.6616  76.8146  \n",
      "Essential hypertension                     87.7396  80.3785  \n",
      "Fluid and electrolyte disorders            67.0175  45.5053  \n",
      "Gastrointestinal hemorrhage                63.0904   7.6842  \n",
      "Hypertension with complications            93.6692  81.0830  \n",
      "Other liver diseases                       66.3187   2.4079  \n",
      "Other lower respiratory disease            69.2214  38.3652  \n",
      "Pneumonia                                  63.4498  12.3022  \n",
      "Septicemia (except in labor)               68.2020  16.3725  }\n",
      "Corresponding test-long performance:\n",
      "{'global': {'precision': 43.1407, 'recall': 41.6854, 'f1': 41.8315, 'auc': 79.9317, 'prauc': 47.4821}, 'per_class':                                            precision   recall       f1  \\\n",
      "Acute and unspecified renal failure          49.8575  63.6364  55.9105   \n",
      "Acute cerebrovascular disease                 0.0000   0.0000   0.0000   \n",
      "Acute myocardial infarction                   0.0000   0.0000   0.0000   \n",
      "Cardiac dysrhythmias                         81.6832  66.2651  73.1707   \n",
      "Chronic kidney disease                       82.7476  81.1912  81.9620   \n",
      "Chronic obstructive pulmonary disease        57.1429  62.3377  59.6273   \n",
      "Conduction disorders                          0.0000   0.0000   0.0000   \n",
      "Congestive heart failure; nonhypertensive    80.5654  84.4444  82.4593   \n",
      "Coronary atherosclerosis and related         79.0476  78.6730  78.8599   \n",
      "Disorders of lipid metabolism                77.8986  74.9129  76.3766   \n",
      "Essential hypertension                       79.0036  74.7475  76.8166   \n",
      "Fluid and electrolyte disorders              49.1979  51.5406  50.3420   \n",
      "Gastrointestinal hemorrhage                   0.0000   0.0000   0.0000   \n",
      "Hypertension with complications              74.8322  86.4341  80.2158   \n",
      "Other liver diseases                          0.0000   0.0000   0.0000   \n",
      "Other lower respiratory disease              64.5570  26.1538  37.2263   \n",
      "Pneumonia                                     0.0000   0.0000   0.0000   \n",
      "Septicemia (except in labor)                  0.0000   0.0000   0.0000   \n",
      "\n",
      "                                               auc    prauc  \n",
      "Acute and unspecified renal failure        71.9828  47.1637  \n",
      "Acute cerebrovascular disease              84.4394   0.7650  \n",
      "Acute myocardial infarction                77.0587   9.1825  \n",
      "Cardiac dysrhythmias                       85.8282  76.3653  \n",
      "Chronic kidney disease                     92.6487  90.2266  \n",
      "Chronic obstructive pulmonary disease      90.3930  51.6418  \n",
      "Conduction disorders                       78.6487  11.0692  \n",
      "Congestive heart failure; nonhypertensive  92.9565  88.3903  \n",
      "Coronary atherosclerosis and related       95.5607  83.7375  \n",
      "Disorders of lipid metabolism              90.6630  79.2904  \n",
      "Essential hypertension                     89.6681  80.9350  \n",
      "Fluid and electrolyte disorders            62.4321  50.3940  \n",
      "Gastrointestinal hemorrhage                60.5903   9.3271  \n",
      "Hypertension with complications            93.0596  82.7914  \n",
      "Other liver diseases                       77.4257   8.6546  \n",
      "Other lower respiratory disease            70.2022  49.8293  \n",
      "Pneumonia                                  60.3349  12.3430  \n",
      "Septicemia (except in labor)               64.8781  22.5706  }\n",
      "================================11==================================\n"
     ]
    },
    {
     "name": "stderr",
     "output_type": "stream",
     "text": [
      "Epoch 001: 100%|██████████| 215/215 [00:14<00:00, 14.84it/s, loss=0.3474]\n",
      "Running inference: 100%|██████████| 158/158 [00:07<00:00, 21.64it/s]\n",
      "Running inference: 100%|██████████| 159/159 [00:07<00:00, 21.63it/s]\n"
     ]
    },
    {
     "name": "stdout",
     "output_type": "stream",
     "text": [
      "Validation: {'precision': 37.5285, 'recall': 29.4051, 'f1': 31.0649, 'auc': 75.7244, 'prauc': 39.057}\n",
      "Test:      {'precision': 38.1028, 'recall': 30.3484, 'f1': 31.6604, 'auc': 75.5402, 'prauc': 39.7179}\n",
      "\n",
      "Validation-long: {'precision': 36.8428, 'recall': 32.676, 'f1': 32.4311, 'auc': 74.6369, 'prauc': 40.1707}\n",
      "Test-long: {'precision': 39.4056, 'recall': 34.6073, 'f1': 34.1325, 'auc': 72.8112, 'prauc': 42.357}\n",
      "\n"
     ]
    },
    {
     "name": "stderr",
     "output_type": "stream",
     "text": [
      "Epoch 002: 100%|██████████| 215/215 [00:14<00:00, 14.45it/s, loss=0.2924]\n",
      "Running inference: 100%|██████████| 158/158 [00:07<00:00, 21.53it/s]\n",
      "Running inference: 100%|██████████| 159/159 [00:07<00:00, 21.56it/s]\n"
     ]
    },
    {
     "name": "stdout",
     "output_type": "stream",
     "text": [
      "Validation: {'precision': 40.994, 'recall': 35.8989, 'f1': 37.7159, 'auc': 78.1093, 'prauc': 43.2061}\n",
      "Test:      {'precision': 41.3431, 'recall': 36.5139, 'f1': 38.0828, 'auc': 77.9696, 'prauc': 43.521}\n",
      "\n",
      "Validation-long: {'precision': 39.826, 'recall': 37.3366, 'f1': 37.747, 'auc': 78.4709, 'prauc': 44.4791}\n",
      "Test-long: {'precision': 42.5875, 'recall': 38.7983, 'f1': 39.5889, 'auc': 76.3648, 'prauc': 45.781}\n",
      "\n"
     ]
    },
    {
     "name": "stderr",
     "output_type": "stream",
     "text": [
      "Epoch 003: 100%|██████████| 215/215 [00:14<00:00, 14.93it/s, loss=0.2786]\n",
      "Running inference: 100%|██████████| 158/158 [00:07<00:00, 21.60it/s]\n",
      "Running inference: 100%|██████████| 159/159 [00:07<00:00, 21.57it/s]\n"
     ]
    },
    {
     "name": "stdout",
     "output_type": "stream",
     "text": [
      "Validation: {'precision': 41.3291, 'recall': 38.859, 'f1': 39.133, 'auc': 78.7318, 'prauc': 44.1531}\n",
      "Test:      {'precision': 41.7384, 'recall': 39.4457, 'f1': 39.4992, 'auc': 78.6914, 'prauc': 44.2984}\n",
      "\n",
      "Validation-long: {'precision': 41.0064, 'recall': 41.0667, 'f1': 39.4317, 'auc': 78.9573, 'prauc': 45.4513}\n",
      "Test-long: {'precision': 43.1775, 'recall': 42.5145, 'f1': 41.5021, 'auc': 78.9079, 'prauc': 46.6324}\n",
      "\n"
     ]
    },
    {
     "name": "stderr",
     "output_type": "stream",
     "text": [
      "Epoch 004: 100%|██████████| 215/215 [00:14<00:00, 14.77it/s, loss=0.2696]\n",
      "Running inference: 100%|██████████| 158/158 [00:07<00:00, 20.46it/s]\n",
      "Running inference: 100%|██████████| 159/159 [00:07<00:00, 21.52it/s]\n"
     ]
    },
    {
     "name": "stdout",
     "output_type": "stream",
     "text": [
      "Validation: {'precision': 42.7198, 'recall': 34.8717, 'f1': 37.3709, 'auc': 78.7645, 'prauc': 44.2445}\n",
      "Test:      {'precision': 43.1728, 'recall': 35.2803, 'f1': 37.7163, 'auc': 78.7736, 'prauc': 44.3953}\n",
      "\n",
      "Validation-long: {'precision': 42.5721, 'recall': 36.0474, 'f1': 37.2563, 'auc': 77.8248, 'prauc': 45.3726}\n",
      "Test-long: {'precision': 44.4233, 'recall': 37.0692, 'f1': 39.357, 'auc': 79.2007, 'prauc': 46.5548}\n",
      "\n"
     ]
    },
    {
     "name": "stderr",
     "output_type": "stream",
     "text": [
      "Epoch 005: 100%|██████████| 215/215 [00:14<00:00, 14.91it/s, loss=0.2638]\n",
      "Running inference: 100%|██████████| 158/158 [00:07<00:00, 21.39it/s]\n",
      "Running inference: 100%|██████████| 159/159 [00:07<00:00, 21.23it/s]\n"
     ]
    },
    {
     "name": "stdout",
     "output_type": "stream",
     "text": [
      "Validation: {'precision': 43.2649, 'recall': 35.0854, 'f1': 37.447, 'auc': 78.7313, 'prauc': 44.8666}\n",
      "Test:      {'precision': 42.811, 'recall': 35.4785, 'f1': 37.4891, 'auc': 78.9585, 'prauc': 44.626}\n",
      "\n",
      "Validation-long: {'precision': 42.9658, 'recall': 36.5892, 'f1': 38.4693, 'auc': 78.3589, 'prauc': 46.1929}\n",
      "Test-long: {'precision': 44.0751, 'recall': 37.7343, 'f1': 39.6367, 'auc': 78.6322, 'prauc': 46.5798}\n",
      "\n"
     ]
    },
    {
     "name": "stderr",
     "output_type": "stream",
     "text": [
      "Epoch 006: 100%|██████████| 215/215 [00:14<00:00, 14.67it/s, loss=0.2593]\n",
      "Running inference: 100%|██████████| 158/158 [00:07<00:00, 21.20it/s]\n",
      "Running inference: 100%|██████████| 159/159 [00:07<00:00, 21.41it/s]\n"
     ]
    },
    {
     "name": "stdout",
     "output_type": "stream",
     "text": [
      "Validation: {'precision': 44.3274, 'recall': 34.2444, 'f1': 37.16, 'auc': 78.4016, 'prauc': 44.64}\n",
      "Test:      {'precision': 43.7914, 'recall': 34.622, 'f1': 37.1548, 'auc': 78.5539, 'prauc': 44.4132}\n",
      "\n",
      "Validation-long: {'precision': 43.9956, 'recall': 37.2945, 'f1': 38.9664, 'auc': 78.8448, 'prauc': 45.56}\n",
      "Test-long: {'precision': 44.5336, 'recall': 37.802, 'f1': 39.6533, 'auc': 78.7719, 'prauc': 46.5753}\n",
      "\n"
     ]
    },
    {
     "name": "stderr",
     "output_type": "stream",
     "text": [
      "Epoch 007: 100%|██████████| 215/215 [00:14<00:00, 14.46it/s, loss=0.2524]\n",
      "Running inference: 100%|██████████| 158/158 [00:07<00:00, 21.45it/s]\n",
      "Running inference: 100%|██████████| 159/159 [00:07<00:00, 21.34it/s]\n"
     ]
    },
    {
     "name": "stdout",
     "output_type": "stream",
     "text": [
      "Validation: {'precision': 42.1189, 'recall': 35.4317, 'f1': 37.5122, 'auc': 78.4954, 'prauc': 44.4068}\n",
      "Test:      {'precision': 41.7483, 'recall': 35.4776, 'f1': 37.3661, 'auc': 78.6023, 'prauc': 44.5738}\n",
      "\n",
      "Validation-long: {'precision': 41.6209, 'recall': 39.1887, 'f1': 39.4149, 'auc': 79.3699, 'prauc': 45.5789}\n",
      "Test-long: {'precision': 41.8011, 'recall': 39.3882, 'f1': 40.0425, 'auc': 79.7802, 'prauc': 46.5968}\n",
      "\n"
     ]
    },
    {
     "name": "stderr",
     "output_type": "stream",
     "text": [
      "Epoch 008: 100%|██████████| 215/215 [00:14<00:00, 14.78it/s, loss=0.2468]\n",
      "Running inference: 100%|██████████| 158/158 [00:07<00:00, 21.50it/s]\n",
      "Running inference: 100%|██████████| 159/159 [00:07<00:00, 21.47it/s]\n"
     ]
    },
    {
     "name": "stdout",
     "output_type": "stream",
     "text": [
      "Validation: {'precision': 41.9083, 'recall': 36.6001, 'f1': 38.3859, 'auc': 78.0689, 'prauc': 44.1346}\n",
      "Test:      {'precision': 43.5804, 'recall': 36.9981, 'f1': 38.5944, 'auc': 78.3563, 'prauc': 44.2367}\n",
      "\n",
      "Validation-long: {'precision': 41.7026, 'recall': 38.2984, 'f1': 38.9801, 'auc': 78.8375, 'prauc': 45.4768}\n",
      "Test-long: {'precision': 44.0204, 'recall': 39.3523, 'f1': 40.5549, 'auc': 79.6047, 'prauc': 46.7587}\n",
      "\n",
      "\n",
      "Early stopping triggered (no improvement for 5 epochs).\n",
      "\n",
      "Best validation performance:\n",
      "{'global': {'precision': 41.3291, 'recall': 38.859, 'f1': 39.133, 'auc': 78.7318, 'prauc': 44.1531}, 'per_class':                                            precision   recall       f1  \\\n",
      "Acute and unspecified renal failure          45.0213  54.7105  49.3952   \n",
      "Acute cerebrovascular disease                 0.0000   0.0000   0.0000   \n",
      "Acute myocardial infarction                   0.0000   0.0000   0.0000   \n",
      "Cardiac dysrhythmias                         78.4693  68.1519  72.9476   \n",
      "Chronic kidney disease                       77.8448  77.6440  77.7443   \n",
      "Chronic obstructive pulmonary disease        66.6667  54.9107  60.2203   \n",
      "Conduction disorders                          0.0000   0.0000   0.0000   \n",
      "Congestive heart failure; nonhypertensive    71.3920  73.8516  72.6010   \n",
      "Coronary atherosclerosis and related         80.2126  80.6081  80.4098   \n",
      "Disorders of lipid metabolism                74.8283  80.6025  77.6081   \n",
      "Essential hypertension                       77.8251  78.4183  78.1206   \n",
      "Fluid and electrolyte disorders              48.1601  45.9926  47.0514   \n",
      "Gastrointestinal hemorrhage                   0.0000   0.0000   0.0000   \n",
      "Hypertension with complications              70.1203  75.4229  72.6750   \n",
      "Other liver diseases                          0.0000   0.0000   0.0000   \n",
      "Other lower respiratory disease              53.3835   9.1495  15.6216   \n",
      "Pneumonia                                     0.0000   0.0000   0.0000   \n",
      "Septicemia (except in labor)                  0.0000   0.0000   0.0000   \n",
      "\n",
      "                                               auc    prauc  \n",
      "Acute and unspecified renal failure        74.5028  44.4089  \n",
      "Acute cerebrovascular disease              73.8104   5.5911  \n",
      "Acute myocardial infarction                78.4587  12.7732  \n",
      "Cardiac dysrhythmias                       86.1413  77.6643  \n",
      "Chronic kidney disease                     92.9514  84.2059  \n",
      "Chronic obstructive pulmonary disease      88.0284  54.4128  \n",
      "Conduction disorders                       74.6422   6.0414  \n",
      "Congestive heart failure; nonhypertensive  90.8416  79.1963  \n",
      "Coronary atherosclerosis and related       94.0391  82.7369  \n",
      "Disorders of lipid metabolism              88.3795  76.9342  \n",
      "Essential hypertension                     87.4391  80.9482  \n",
      "Fluid and electrolyte disorders            67.9192  48.4393  \n",
      "Gastrointestinal hemorrhage                62.9357   4.4410  \n",
      "Hypertension with complications            91.9440  76.7817  \n",
      "Other liver diseases                       63.7539   1.9111  \n",
      "Other lower respiratory disease            69.5679  32.4392  \n",
      "Pneumonia                                  65.4306  12.8596  \n",
      "Septicemia (except in labor)               66.3864  12.9708  }\n",
      "Corresponding test performance:\n",
      "{'global': {'precision': 41.7384, 'recall': 39.4457, 'f1': 39.4992, 'auc': 78.6914, 'prauc': 44.2984}, 'per_class':                                            precision   recall       f1  \\\n",
      "Acute and unspecified renal failure          44.4290  55.0475  49.1715   \n",
      "Acute cerebrovascular disease                 0.0000   0.0000   0.0000   \n",
      "Acute myocardial infarction                   0.0000   0.0000   0.0000   \n",
      "Cardiac dysrhythmias                         75.2679  63.5268  68.9007   \n",
      "Chronic kidney disease                       82.9593  78.7687  80.8097   \n",
      "Chronic obstructive pulmonary disease        62.9730  54.6948  58.5427   \n",
      "Conduction disorders                          0.0000   0.0000   0.0000   \n",
      "Congestive heart failure; nonhypertensive    71.8750  75.5402  73.6620   \n",
      "Coronary atherosclerosis and related         78.0938  81.3451  79.6863   \n",
      "Disorders of lipid metabolism                74.8764  82.5068  78.5066   \n",
      "Essential hypertension                       78.4983  80.2592  79.3690   \n",
      "Fluid and electrolyte disorders              46.9725  48.3932  47.6723   \n",
      "Gastrointestinal hemorrhage                   0.0000   0.0000   0.0000   \n",
      "Hypertension with complications              76.8271  80.7116  78.7215   \n",
      "Other liver diseases                          0.0000   0.0000   0.0000   \n",
      "Other lower respiratory disease              58.5185   9.2290  15.9435   \n",
      "Pneumonia                                     0.0000   0.0000   0.0000   \n",
      "Septicemia (except in labor)                  0.0000   0.0000   0.0000   \n",
      "\n",
      "                                               auc    prauc  \n",
      "Acute and unspecified renal failure        74.9454  44.2204  \n",
      "Acute cerebrovascular disease              68.6220   3.9907  \n",
      "Acute myocardial infarction                78.0448  11.5727  \n",
      "Cardiac dysrhythmias                       83.4394  73.3161  \n",
      "Chronic kidney disease                     93.2984  86.9053  \n",
      "Chronic obstructive pulmonary disease      88.1051  51.6270  \n",
      "Conduction disorders                       76.4186   8.0115  \n",
      "Congestive heart failure; nonhypertensive  91.0408  77.9673  \n",
      "Coronary atherosclerosis and related       93.8922  82.0284  \n",
      "Disorders of lipid metabolism              88.5818  76.8965  \n",
      "Essential hypertension                     87.7647  79.3330  \n",
      "Fluid and electrolyte disorders            67.9089  47.2367  \n",
      "Gastrointestinal hemorrhage                62.4990   6.1247  \n",
      "Hypertension with complications            93.4957  81.6863  \n",
      "Other liver diseases                       66.5173   2.4179  \n",
      "Other lower respiratory disease            68.3592  35.4184  \n",
      "Pneumonia                                  64.5671  12.3159  \n",
      "Septicemia (except in labor)               68.9457  16.3022  }\n",
      "Corresponding test-long performance:\n",
      "{'global': {'precision': 43.1775, 'recall': 42.5145, 'f1': 41.5021, 'auc': 78.9079, 'prauc': 46.6324}, 'per_class':                                            precision   recall       f1  \\\n",
      "Acute and unspecified renal failure          48.5577  73.4545  58.4660   \n",
      "Acute cerebrovascular disease                 0.0000   0.0000   0.0000   \n",
      "Acute myocardial infarction                   0.0000   0.0000   0.0000   \n",
      "Cardiac dysrhythmias                         79.0476  66.6667  72.3312   \n",
      "Chronic kidney disease                       83.4416  80.5643  81.9777   \n",
      "Chronic obstructive pulmonary disease        58.8235  51.9481  55.1724   \n",
      "Conduction disorders                          0.0000   0.0000   0.0000   \n",
      "Congestive heart failure; nonhypertensive    79.6296  79.6296  79.6296   \n",
      "Coronary atherosclerosis and related         78.8018  81.0427  79.9065   \n",
      "Disorders of lipid metabolism                78.2609  75.2613  76.7318   \n",
      "Essential hypertension                       80.2867  75.4209  77.7778   \n",
      "Fluid and electrolyte disorders              49.1722  83.1933  61.8106   \n",
      "Gastrointestinal hemorrhage                   0.0000   0.0000   0.0000   \n",
      "Hypertension with complications              76.0563  83.7209  79.7048   \n",
      "Other liver diseases                          0.0000   0.0000   0.0000   \n",
      "Other lower respiratory disease              65.1163  14.3590  23.5294   \n",
      "Pneumonia                                     0.0000   0.0000   0.0000   \n",
      "Septicemia (except in labor)                  0.0000   0.0000   0.0000   \n",
      "\n",
      "                                               auc    prauc  \n",
      "Acute and unspecified renal failure        72.7990  51.3951  \n",
      "Acute cerebrovascular disease              62.5572   0.2958  \n",
      "Acute myocardial infarction                76.0284   8.1033  \n",
      "Cardiac dysrhythmias                       85.7180  77.0162  \n",
      "Chronic kidney disease                     92.5539  89.3796  \n",
      "Chronic obstructive pulmonary disease      89.8550  49.7297  \n",
      "Conduction disorders                       76.0133   6.3657  \n",
      "Congestive heart failure; nonhypertensive  92.2283  86.5007  \n",
      "Coronary atherosclerosis and related       94.9923  81.1616  \n",
      "Disorders of lipid metabolism              90.9594  80.2347  \n",
      "Essential hypertension                     90.6692  82.2896  \n",
      "Fluid and electrolyte disorders            65.5797  52.2754  \n",
      "Gastrointestinal hemorrhage                60.8733   8.0124  \n",
      "Hypertension with complications            92.5560  83.5425  \n",
      "Other liver diseases                       79.6489   4.1183  \n",
      "Other lower respiratory disease            70.3151  45.4963  \n",
      "Pneumonia                                  62.5979  12.8457  \n",
      "Septicemia (except in labor)               64.3972  20.6210  }\n",
      "================================12==================================\n"
     ]
    },
    {
     "name": "stderr",
     "output_type": "stream",
     "text": [
      "Epoch 001: 100%|██████████| 215/215 [00:14<00:00, 14.82it/s, loss=0.3510]\n",
      "Running inference: 100%|██████████| 158/158 [00:07<00:00, 21.43it/s]\n",
      "Running inference: 100%|██████████| 159/159 [00:07<00:00, 20.36it/s]\n"
     ]
    },
    {
     "name": "stdout",
     "output_type": "stream",
     "text": [
      "Validation: {'precision': 37.6156, 'recall': 27.5454, 'f1': 29.3467, 'auc': 75.2447, 'prauc': 38.9918}\n",
      "Test:      {'precision': 37.9606, 'recall': 28.2322, 'f1': 29.8255, 'auc': 74.91, 'prauc': 39.3825}\n",
      "\n",
      "Validation-long: {'precision': 33.3626, 'recall': 28.6817, 'f1': 30.2266, 'auc': 75.5873, 'prauc': 40.0323}\n",
      "Test-long: {'precision': 40.0986, 'recall': 29.8748, 'f1': 31.4773, 'auc': 75.1627, 'prauc': 41.8169}\n",
      "\n"
     ]
    },
    {
     "name": "stderr",
     "output_type": "stream",
     "text": [
      "Epoch 002: 100%|██████████| 215/215 [00:14<00:00, 14.81it/s, loss=0.2983]\n",
      "Running inference: 100%|██████████| 158/158 [00:07<00:00, 21.55it/s]\n",
      "Running inference: 100%|██████████| 159/159 [00:07<00:00, 21.42it/s]\n"
     ]
    },
    {
     "name": "stdout",
     "output_type": "stream",
     "text": [
      "Validation: {'precision': 41.1969, 'recall': 33.7013, 'f1': 35.5315, 'auc': 77.9482, 'prauc': 42.7409}\n",
      "Test:      {'precision': 41.616, 'recall': 34.0642, 'f1': 35.8198, 'auc': 77.1107, 'prauc': 43.0025}\n",
      "\n",
      "Validation-long: {'precision': 40.8217, 'recall': 34.8765, 'f1': 35.3064, 'auc': 77.8933, 'prauc': 43.9362}\n",
      "Test-long: {'precision': 43.303, 'recall': 36.0472, 'f1': 37.1649, 'auc': 77.1076, 'prauc': 45.406}\n",
      "\n"
     ]
    },
    {
     "name": "stderr",
     "output_type": "stream",
     "text": [
      "Epoch 003: 100%|██████████| 215/215 [00:14<00:00, 14.80it/s, loss=0.2827]\n",
      "Running inference: 100%|██████████| 158/158 [00:07<00:00, 21.49it/s]\n",
      "Running inference: 100%|██████████| 159/159 [00:07<00:00, 21.46it/s]\n"
     ]
    },
    {
     "name": "stdout",
     "output_type": "stream",
     "text": [
      "Validation: {'precision': 43.0418, 'recall': 35.31, 'f1': 37.4071, 'auc': 78.2937, 'prauc': 43.9559}\n",
      "Test:      {'precision': 43.036, 'recall': 35.7662, 'f1': 37.716, 'auc': 78.4941, 'prauc': 44.3607}\n",
      "\n",
      "Validation-long: {'precision': 42.3185, 'recall': 37.1599, 'f1': 37.705, 'auc': 77.7212, 'prauc': 44.647}\n",
      "Test-long: {'precision': 44.692, 'recall': 38.2707, 'f1': 39.7335, 'auc': 78.5796, 'prauc': 46.6891}\n",
      "\n"
     ]
    },
    {
     "name": "stderr",
     "output_type": "stream",
     "text": [
      "Epoch 004: 100%|██████████| 215/215 [00:14<00:00, 14.42it/s, loss=0.2715]\n",
      "Running inference: 100%|██████████| 158/158 [00:07<00:00, 21.31it/s]\n",
      "Running inference: 100%|██████████| 159/159 [00:07<00:00, 21.26it/s]\n"
     ]
    },
    {
     "name": "stdout",
     "output_type": "stream",
     "text": [
      "Validation: {'precision': 42.6535, 'recall': 35.9521, 'f1': 37.7266, 'auc': 78.6142, 'prauc': 44.1588}\n",
      "Test:      {'precision': 42.9998, 'recall': 37.049, 'f1': 38.4878, 'auc': 78.5596, 'prauc': 44.4281}\n",
      "\n",
      "Validation-long: {'precision': 40.8579, 'recall': 38.189, 'f1': 38.281, 'auc': 79.1196, 'prauc': 44.7327}\n",
      "Test-long: {'precision': 43.6375, 'recall': 39.8763, 'f1': 40.3887, 'auc': 78.9703, 'prauc': 47.1044}\n",
      "\n"
     ]
    },
    {
     "name": "stderr",
     "output_type": "stream",
     "text": [
      "Epoch 005: 100%|██████████| 215/215 [00:14<00:00, 14.72it/s, loss=0.2643]\n",
      "Running inference: 100%|██████████| 158/158 [00:07<00:00, 21.49it/s]\n",
      "Running inference: 100%|██████████| 159/159 [00:07<00:00, 21.46it/s]\n"
     ]
    },
    {
     "name": "stdout",
     "output_type": "stream",
     "text": [
      "Validation: {'precision': 42.0382, 'recall': 36.8395, 'f1': 38.5121, 'auc': 79.0038, 'prauc': 44.5982}\n",
      "Test:      {'precision': 42.2431, 'recall': 37.4561, 'f1': 38.895, 'auc': 78.815, 'prauc': 44.4786}\n",
      "\n",
      "Validation-long: {'precision': 41.1384, 'recall': 38.46, 'f1': 38.4857, 'auc': 77.3608, 'prauc': 45.6016}\n",
      "Test-long: {'precision': 42.6206, 'recall': 39.7051, 'f1': 40.3045, 'auc': 79.2949, 'prauc': 47.3472}\n",
      "\n"
     ]
    },
    {
     "name": "stderr",
     "output_type": "stream",
     "text": [
      "Epoch 006: 100%|██████████| 215/215 [00:14<00:00, 14.84it/s, loss=0.2593]\n",
      "Running inference: 100%|██████████| 158/158 [00:07<00:00, 21.47it/s]\n",
      "Running inference: 100%|██████████| 159/159 [00:07<00:00, 20.44it/s]\n"
     ]
    },
    {
     "name": "stdout",
     "output_type": "stream",
     "text": [
      "Validation: {'precision': 42.7362, 'recall': 34.6007, 'f1': 36.8499, 'auc': 78.77, 'prauc': 44.2778}\n",
      "Test:      {'precision': 47.9529, 'recall': 35.0463, 'f1': 37.0853, 'auc': 78.706, 'prauc': 44.54}\n",
      "\n",
      "Validation-long: {'precision': 43.364, 'recall': 36.9616, 'f1': 37.1104, 'auc': 77.787, 'prauc': 45.4967}\n",
      "Test-long: {'precision': 42.4663, 'recall': 37.3895, 'f1': 38.2269, 'auc': 78.2177, 'prauc': 46.7282}\n",
      "\n"
     ]
    },
    {
     "name": "stderr",
     "output_type": "stream",
     "text": [
      "Epoch 007: 100%|██████████| 215/215 [00:14<00:00, 14.78it/s, loss=0.2542]\n",
      "Running inference: 100%|██████████| 158/158 [00:07<00:00, 21.51it/s]\n",
      "Running inference: 100%|██████████| 159/159 [00:07<00:00, 21.50it/s]\n"
     ]
    },
    {
     "name": "stdout",
     "output_type": "stream",
     "text": [
      "Validation: {'precision': 42.8163, 'recall': 35.0813, 'f1': 36.4141, 'auc': 78.5684, 'prauc': 44.3769}\n",
      "Test:      {'precision': 42.5369, 'recall': 35.8503, 'f1': 36.8772, 'auc': 78.4578, 'prauc': 44.3381}\n",
      "\n",
      "Validation-long: {'precision': 41.0316, 'recall': 38.1879, 'f1': 37.7991, 'auc': 77.4912, 'prauc': 45.1257}\n",
      "Test-long: {'precision': 42.7809, 'recall': 40.1517, 'f1': 39.9215, 'auc': 79.8004, 'prauc': 46.7802}\n",
      "\n"
     ]
    },
    {
     "name": "stderr",
     "output_type": "stream",
     "text": [
      "Epoch 008: 100%|██████████| 215/215 [00:14<00:00, 14.92it/s, loss=0.2467]\n",
      "Running inference: 100%|██████████| 158/158 [00:07<00:00, 21.51it/s]\n",
      "Running inference: 100%|██████████| 159/159 [00:07<00:00, 21.55it/s]\n"
     ]
    },
    {
     "name": "stdout",
     "output_type": "stream",
     "text": [
      "Validation: {'precision': 48.1248, 'recall': 35.6522, 'f1': 37.7471, 'auc': 78.3642, 'prauc': 44.1426}\n",
      "Test:      {'precision': 42.4005, 'recall': 36.4793, 'f1': 38.1562, 'auc': 78.2335, 'prauc': 44.175}\n",
      "\n",
      "Validation-long: {'precision': 41.9379, 'recall': 37.2698, 'f1': 38.3367, 'auc': 78.0195, 'prauc': 45.3888}\n",
      "Test-long: {'precision': 43.3789, 'recall': 39.458, 'f1': 40.4039, 'auc': 77.6214, 'prauc': 46.5609}\n",
      "\n"
     ]
    },
    {
     "name": "stderr",
     "output_type": "stream",
     "text": [
      "Epoch 009: 100%|██████████| 215/215 [00:14<00:00, 14.85it/s, loss=0.2414]\n",
      "Running inference: 100%|██████████| 158/158 [00:07<00:00, 20.40it/s]\n",
      "Running inference: 100%|██████████| 159/159 [00:07<00:00, 21.45it/s]\n"
     ]
    },
    {
     "name": "stdout",
     "output_type": "stream",
     "text": [
      "Validation: {'precision': 43.754, 'recall': 34.7443, 'f1': 38.0454, 'auc': 77.8539, 'prauc': 43.7035}\n",
      "Test:      {'precision': 44.2075, 'recall': 35.6615, 'f1': 38.6478, 'auc': 78.0705, 'prauc': 44.0718}\n",
      "\n",
      "Validation-long: {'precision': 43.1976, 'recall': 36.4099, 'f1': 38.5406, 'auc': 78.6957, 'prauc': 44.8234}\n",
      "Test-long: {'precision': 44.8252, 'recall': 38.3662, 'f1': 40.5105, 'auc': 76.7956, 'prauc': 46.2873}\n",
      "\n"
     ]
    },
    {
     "name": "stderr",
     "output_type": "stream",
     "text": [
      "Epoch 010: 100%|██████████| 215/215 [00:14<00:00, 14.71it/s, loss=0.2334]\n",
      "Running inference: 100%|██████████| 158/158 [00:07<00:00, 21.12it/s]\n",
      "Running inference: 100%|██████████| 159/159 [00:07<00:00, 21.10it/s]\n"
     ]
    },
    {
     "name": "stdout",
     "output_type": "stream",
     "text": [
      "Validation: {'precision': 53.2625, 'recall': 34.7029, 'f1': 37.5163, 'auc': 77.6924, 'prauc': 43.4146}\n",
      "Test:      {'precision': 46.6043, 'recall': 35.4589, 'f1': 38.0283, 'auc': 77.9634, 'prauc': 43.7898}\n",
      "\n",
      "Validation-long: {'precision': 40.9316, 'recall': 37.5998, 'f1': 38.7997, 'auc': 78.2691, 'prauc': 44.3182}\n",
      "Test-long: {'precision': 45.0976, 'recall': 39.6991, 'f1': 40.8019, 'auc': 77.4293, 'prauc': 46.1344}\n",
      "\n",
      "\n",
      "Early stopping triggered (no improvement for 5 epochs).\n",
      "\n",
      "Best validation performance:\n",
      "{'global': {'precision': 42.0382, 'recall': 36.8395, 'f1': 38.5121, 'auc': 79.0038, 'prauc': 44.5982}, 'per_class':                                            precision   recall       f1  \\\n",
      "Acute and unspecified renal failure          47.6190  44.9438  46.2428   \n",
      "Acute cerebrovascular disease                 0.0000   0.0000   0.0000   \n",
      "Acute myocardial infarction                   0.0000   0.0000   0.0000   \n",
      "Cardiac dysrhythmias                         80.2620  67.1293  73.1106   \n",
      "Chronic kidney disease                       78.3670  80.0516  79.2003   \n",
      "Chronic obstructive pulmonary disease        64.0719  47.7679  54.7315   \n",
      "Conduction disorders                          0.0000   0.0000   0.0000   \n",
      "Congestive heart failure; nonhypertensive    72.9991  73.3216  73.1600   \n",
      "Coronary atherosclerosis and related         81.1151  74.1167  77.4581   \n",
      "Disorders of lipid metabolism                74.3263  80.1797  77.1421   \n",
      "Essential hypertension                       79.5467  71.8914  75.5255   \n",
      "Fluid and electrolyte disorders              55.4502  28.8533  37.9562   \n",
      "Gastrointestinal hemorrhage                   0.0000   0.0000   0.0000   \n",
      "Hypertension with complications              70.1413  79.0050  74.3098   \n",
      "Other liver diseases                          0.0000   0.0000   0.0000   \n",
      "Other lower respiratory disease              52.7897  15.8505  24.3806   \n",
      "Pneumonia                                     0.0000   0.0000   0.0000   \n",
      "Septicemia (except in labor)                  0.0000   0.0000   0.0000   \n",
      "\n",
      "                                               auc    prauc  \n",
      "Acute and unspecified renal failure        75.2912  45.0142  \n",
      "Acute cerebrovascular disease              73.4184   7.5408  \n",
      "Acute myocardial infarction                79.4400  14.3662  \n",
      "Cardiac dysrhythmias                       86.2987  78.0781  \n",
      "Chronic kidney disease                     93.1422  85.2258  \n",
      "Chronic obstructive pulmonary disease      87.7343  54.0383  \n",
      "Conduction disorders                       75.6278   5.5334  \n",
      "Congestive heart failure; nonhypertensive  90.6274  77.8012  \n",
      "Coronary atherosclerosis and related       93.8712  82.4493  \n",
      "Disorders of lipid metabolism              88.4503  77.6565  \n",
      "Essential hypertension                     87.4936  80.1253  \n",
      "Fluid and electrolyte disorders            67.6643  49.0388  \n",
      "Gastrointestinal hemorrhage                68.0153   5.1028  \n",
      "Hypertension with complications            92.0668  77.4570  \n",
      "Other liver diseases                       59.1807   1.6680  \n",
      "Other lower respiratory disease            71.1715  35.3920  \n",
      "Pneumonia                                  66.3735  12.5336  \n",
      "Septicemia (except in labor)               66.2010  13.7458  }\n",
      "Corresponding test performance:\n",
      "{'global': {'precision': 42.2431, 'recall': 37.4561, 'f1': 38.895, 'auc': 78.815, 'prauc': 44.4786}, 'per_class':                                            precision   recall       f1  \\\n",
      "Acute and unspecified renal failure          46.9426  43.0544  44.9145   \n",
      "Acute cerebrovascular disease                 0.0000   0.0000   0.0000   \n",
      "Acute myocardial infarction                   0.0000   0.0000   0.0000   \n",
      "Cardiac dysrhythmias                         77.1639  63.1500  69.4571   \n",
      "Chronic kidney disease                       81.3749  80.3473  80.8578   \n",
      "Chronic obstructive pulmonary disease        64.2473  56.1033  59.8997   \n",
      "Conduction disorders                          0.0000   0.0000   0.0000   \n",
      "Congestive heart failure; nonhypertensive    73.2837  76.5774  74.8943   \n",
      "Coronary atherosclerosis and related         80.2744  74.9400  77.5155   \n",
      "Disorders of lipid metabolism                74.6261  81.5804  77.9485   \n",
      "Essential hypertension                       79.8471  72.8814  76.2054   \n",
      "Fluid and electrolyte disorders              49.4279  27.2212  35.1077   \n",
      "Gastrointestinal hemorrhage                   0.0000   0.0000   0.0000   \n",
      "Hypertension with complications              74.7458  82.5843  78.4698   \n",
      "Other liver diseases                          0.0000   0.0000   0.0000   \n",
      "Other lower respiratory disease              58.4416  15.7710  24.8390   \n",
      "Pneumonia                                     0.0000   0.0000   0.0000   \n",
      "Septicemia (except in labor)                  0.0000   0.0000   0.0000   \n",
      "\n",
      "                                               auc    prauc  \n",
      "Acute and unspecified renal failure        75.5354  43.0955  \n",
      "Acute cerebrovascular disease              68.1787   2.7832  \n",
      "Acute myocardial infarction                80.2851  13.2376  \n",
      "Cardiac dysrhythmias                       84.4247  73.9400  \n",
      "Chronic kidney disease                     93.5753  87.8476  \n",
      "Chronic obstructive pulmonary disease      88.5360  52.1066  \n",
      "Conduction disorders                       76.6353   7.3646  \n",
      "Congestive heart failure; nonhypertensive  91.3175  79.1787  \n",
      "Coronary atherosclerosis and related       93.8486  82.7961  \n",
      "Disorders of lipid metabolism              88.5287  76.2535  \n",
      "Essential hypertension                     87.9655  79.8775  \n",
      "Fluid and electrolyte disorders            67.2864  46.1337  \n",
      "Gastrointestinal hemorrhage                62.9615   6.7745  \n",
      "Hypertension with complications            93.6644  82.6854  \n",
      "Other liver diseases                       65.2205   1.6971  \n",
      "Other lower respiratory disease            69.2478  37.0852  \n",
      "Pneumonia                                  64.1292  12.2312  \n",
      "Septicemia (except in labor)               67.3301  15.5272  }\n",
      "Corresponding test-long performance:\n",
      "{'global': {'precision': 42.6206, 'recall': 39.7051, 'f1': 40.3045, 'auc': 79.2949, 'prauc': 47.3472}, 'per_class':                                            precision   recall       f1  \\\n",
      "Acute and unspecified renal failure          49.3333  53.8182  51.4783   \n",
      "Acute cerebrovascular disease                 0.0000   0.0000   0.0000   \n",
      "Acute myocardial infarction                   0.0000   0.0000   0.0000   \n",
      "Cardiac dysrhythmias                         78.5047  67.4699  72.5702   \n",
      "Chronic kidney disease                       79.8817  84.6395  82.1918   \n",
      "Chronic obstructive pulmonary disease        57.5758  49.3506  53.1469   \n",
      "Conduction disorders                          0.0000   0.0000   0.0000   \n",
      "Congestive heart failure; nonhypertensive    78.4983  85.1852  81.7052   \n",
      "Coronary atherosclerosis and related         81.2808  78.1991  79.7101   \n",
      "Disorders of lipid metabolism                73.8710  79.7909  76.7169   \n",
      "Essential hypertension                       81.3559  64.6465  72.0450   \n",
      "Fluid and electrolyte disorders              52.0767  45.6583  48.6567   \n",
      "Gastrointestinal hemorrhage                   0.0000   0.0000   0.0000   \n",
      "Hypertension with complications              72.2930  87.9845  79.3706   \n",
      "Other liver diseases                          0.0000   0.0000   0.0000   \n",
      "Other lower respiratory disease              62.5000  17.9487  27.8884   \n",
      "Pneumonia                                     0.0000   0.0000   0.0000   \n",
      "Septicemia (except in labor)                  0.0000   0.0000   0.0000   \n",
      "\n",
      "                                               auc    prauc  \n",
      "Acute and unspecified renal failure        72.3900  47.3796  \n",
      "Acute cerebrovascular disease              63.8730   0.3085  \n",
      "Acute myocardial infarction                81.7947  10.6921  \n",
      "Cardiac dysrhythmias                       85.1393  76.8219  \n",
      "Chronic kidney disease                     92.2871  90.0268  \n",
      "Chronic obstructive pulmonary disease      90.0712  52.6720  \n",
      "Conduction disorders                       76.0781   5.8554  \n",
      "Congestive heart failure; nonhypertensive  93.3575  88.3462  \n",
      "Coronary atherosclerosis and related       95.5058  83.6622  \n",
      "Disorders of lipid metabolism              90.6521  79.9322  \n",
      "Essential hypertension                     90.4157  80.9018  \n",
      "Fluid and electrolyte disorders            65.1884  52.4399  \n",
      "Gastrointestinal hemorrhage                62.6661  10.2427  \n",
      "Hypertension with complications            93.0421  86.0117  \n",
      "Other liver diseases                       76.8326   4.1232  \n",
      "Other lower respiratory disease            70.5128  47.8547  \n",
      "Pneumonia                                  62.0820  13.2953  \n",
      "Septicemia (except in labor)               65.4202  21.6837  }\n",
      "================================13==================================\n"
     ]
    },
    {
     "name": "stderr",
     "output_type": "stream",
     "text": [
      "Epoch 001: 100%|██████████| 215/215 [00:14<00:00, 14.79it/s, loss=0.3449]\n",
      "Running inference: 100%|██████████| 158/158 [00:07<00:00, 21.53it/s]\n",
      "Running inference: 100%|██████████| 159/159 [00:07<00:00, 21.29it/s]\n"
     ]
    },
    {
     "name": "stdout",
     "output_type": "stream",
     "text": [
      "Validation: {'precision': 41.8535, 'recall': 25.0065, 'f1': 28.339, 'auc': 75.5809, 'prauc': 39.8128}\n",
      "Test:      {'precision': 40.997, 'recall': 25.4076, 'f1': 28.5189, 'auc': 74.9957, 'prauc': 39.6298}\n",
      "\n",
      "Validation-long: {'precision': 37.0019, 'recall': 25.1062, 'f1': 28.3385, 'auc': 76.2193, 'prauc': 41.3644}\n",
      "Test-long: {'precision': 36.7353, 'recall': 25.4649, 'f1': 28.6724, 'auc': 73.0864, 'prauc': 42.0231}\n",
      "\n"
     ]
    },
    {
     "name": "stderr",
     "output_type": "stream",
     "text": [
      "Epoch 002: 100%|██████████| 215/215 [00:14<00:00, 14.38it/s, loss=0.2917]\n",
      "Running inference: 100%|██████████| 158/158 [00:07<00:00, 21.34it/s]\n",
      "Running inference: 100%|██████████| 159/159 [00:07<00:00, 21.38it/s]\n"
     ]
    },
    {
     "name": "stdout",
     "output_type": "stream",
     "text": [
      "Validation: {'precision': 41.9239, 'recall': 30.3062, 'f1': 31.9809, 'auc': 77.843, 'prauc': 42.6622}\n",
      "Test:      {'precision': 43.0657, 'recall': 30.805, 'f1': 32.3879, 'auc': 77.6024, 'prauc': 42.6919}\n",
      "\n",
      "Validation-long: {'precision': 45.3269, 'recall': 32.3183, 'f1': 33.6875, 'auc': 78.8815, 'prauc': 44.5144}\n",
      "Test-long: {'precision': 46.0573, 'recall': 32.6031, 'f1': 34.4231, 'auc': 76.9591, 'prauc': 45.2852}\n",
      "\n"
     ]
    },
    {
     "name": "stderr",
     "output_type": "stream",
     "text": [
      "Epoch 003: 100%|██████████| 215/215 [00:14<00:00, 14.81it/s, loss=0.2805]\n",
      "Running inference: 100%|██████████| 158/158 [00:07<00:00, 21.54it/s]\n",
      "Running inference: 100%|██████████| 159/159 [00:07<00:00, 21.45it/s]\n"
     ]
    },
    {
     "name": "stdout",
     "output_type": "stream",
     "text": [
      "Validation: {'precision': 42.5914, 'recall': 34.9813, 'f1': 36.3444, 'auc': 78.4366, 'prauc': 43.7366}\n",
      "Test:      {'precision': 42.7464, 'recall': 35.3085, 'f1': 36.573, 'auc': 77.9258, 'prauc': 44.0676}\n",
      "\n",
      "Validation-long: {'precision': 41.2862, 'recall': 35.7596, 'f1': 36.355, 'auc': 79.0689, 'prauc': 45.0534}\n",
      "Test-long: {'precision': 44.7055, 'recall': 36.8111, 'f1': 38.2498, 'auc': 77.4664, 'prauc': 46.1849}\n",
      "\n"
     ]
    },
    {
     "name": "stderr",
     "output_type": "stream",
     "text": [
      "Epoch 004: 100%|██████████| 215/215 [00:14<00:00, 14.78it/s, loss=0.2718]\n",
      "Running inference: 100%|██████████| 158/158 [00:07<00:00, 21.53it/s]\n",
      "Running inference: 100%|██████████| 159/159 [00:07<00:00, 20.36it/s]\n"
     ]
    },
    {
     "name": "stdout",
     "output_type": "stream",
     "text": [
      "Validation: {'precision': 43.4661, 'recall': 33.9728, 'f1': 36.9703, 'auc': 78.7379, 'prauc': 44.0495}\n",
      "Test:      {'precision': 43.4849, 'recall': 34.7525, 'f1': 37.4592, 'auc': 78.644, 'prauc': 44.418}\n",
      "\n",
      "Validation-long: {'precision': 42.9894, 'recall': 35.8326, 'f1': 37.1645, 'auc': 79.0703, 'prauc': 45.5459}\n",
      "Test-long: {'precision': 45.3466, 'recall': 36.8292, 'f1': 38.9397, 'auc': 78.2223, 'prauc': 47.0175}\n",
      "\n"
     ]
    },
    {
     "name": "stderr",
     "output_type": "stream",
     "text": [
      "Epoch 005: 100%|██████████| 215/215 [00:14<00:00, 14.83it/s, loss=0.2651]\n",
      "Running inference: 100%|██████████| 158/158 [00:07<00:00, 21.44it/s]\n",
      "Running inference: 100%|██████████| 159/159 [00:07<00:00, 21.43it/s]\n"
     ]
    },
    {
     "name": "stdout",
     "output_type": "stream",
     "text": [
      "Validation: {'precision': 45.9974, 'recall': 36.0829, 'f1': 38.0477, 'auc': 78.9503, 'prauc': 44.1987}\n",
      "Test:      {'precision': 46.1114, 'recall': 36.9864, 'f1': 38.6468, 'auc': 78.8849, 'prauc': 44.6575}\n",
      "\n",
      "Validation-long: {'precision': 43.6247, 'recall': 38.6444, 'f1': 38.3141, 'auc': 79.651, 'prauc': 45.4218}\n",
      "Test-long: {'precision': 44.8258, 'recall': 40.1485, 'f1': 40.2877, 'auc': 78.6925, 'prauc': 47.3308}\n",
      "\n"
     ]
    },
    {
     "name": "stderr",
     "output_type": "stream",
     "text": [
      "Epoch 006: 100%|██████████| 215/215 [00:14<00:00, 14.86it/s, loss=0.2575]\n",
      "Running inference: 100%|██████████| 158/158 [00:07<00:00, 21.44it/s]\n",
      "Running inference: 100%|██████████| 159/159 [00:07<00:00, 21.45it/s]\n"
     ]
    },
    {
     "name": "stdout",
     "output_type": "stream",
     "text": [
      "Validation: {'precision': 42.2306, 'recall': 35.6788, 'f1': 37.9472, 'auc': 78.4434, 'prauc': 43.7889}\n",
      "Test:      {'precision': 42.4393, 'recall': 36.2724, 'f1': 38.3405, 'auc': 78.5012, 'prauc': 44.2559}\n",
      "\n",
      "Validation-long: {'precision': 41.3908, 'recall': 37.0913, 'f1': 38.0884, 'auc': 79.1923, 'prauc': 44.8459}\n",
      "Test-long: {'precision': 44.0516, 'recall': 38.5908, 'f1': 40.1839, 'auc': 79.2657, 'prauc': 47.4204}\n",
      "\n"
     ]
    },
    {
     "name": "stderr",
     "output_type": "stream",
     "text": [
      "Epoch 007: 100%|██████████| 215/215 [00:14<00:00, 14.37it/s, loss=0.2525]\n",
      "Running inference: 100%|██████████| 158/158 [00:07<00:00, 21.23it/s]\n",
      "Running inference: 100%|██████████| 159/159 [00:07<00:00, 21.30it/s]\n"
     ]
    },
    {
     "name": "stdout",
     "output_type": "stream",
     "text": [
      "Validation: {'precision': 43.0358, 'recall': 34.3238, 'f1': 37.0034, 'auc': 78.1141, 'prauc': 43.6277}\n",
      "Test:      {'precision': 45.2815, 'recall': 35.3854, 'f1': 37.7796, 'auc': 77.9916, 'prauc': 44.0221}\n",
      "\n",
      "Validation-long: {'precision': 42.4971, 'recall': 36.7336, 'f1': 37.9002, 'auc': 78.4591, 'prauc': 45.04}\n",
      "Test-long: {'precision': 44.9212, 'recall': 38.4989, 'f1': 39.6973, 'auc': 78.823, 'prauc': 47.0765}\n",
      "\n"
     ]
    },
    {
     "name": "stderr",
     "output_type": "stream",
     "text": [
      "Epoch 008: 100%|██████████| 215/215 [00:14<00:00, 14.73it/s, loss=0.2450]\n",
      "Running inference: 100%|██████████| 158/158 [00:07<00:00, 21.37it/s]\n",
      "Running inference: 100%|██████████| 159/159 [00:07<00:00, 21.34it/s]\n"
     ]
    },
    {
     "name": "stdout",
     "output_type": "stream",
     "text": [
      "Validation: {'precision': 43.7222, 'recall': 35.3175, 'f1': 37.4506, 'auc': 77.7417, 'prauc': 43.3409}\n",
      "Test:      {'precision': 48.9066, 'recall': 36.5413, 'f1': 38.5207, 'auc': 77.8539, 'prauc': 43.8161}\n",
      "\n",
      "Validation-long: {'precision': 46.9591, 'recall': 37.134, 'f1': 38.1444, 'auc': 78.8713, 'prauc': 45.3773}\n",
      "Test-long: {'precision': 45.2577, 'recall': 39.2818, 'f1': 40.3022, 'auc': 78.2301, 'prauc': 46.588}\n",
      "\n"
     ]
    },
    {
     "name": "stderr",
     "output_type": "stream",
     "text": [
      "Epoch 009: 100%|██████████| 215/215 [00:14<00:00, 14.78it/s, loss=0.2383]\n",
      "Running inference: 100%|██████████| 158/158 [00:07<00:00, 21.35it/s]\n",
      "Running inference: 100%|██████████| 159/159 [00:07<00:00, 20.50it/s]\n"
     ]
    },
    {
     "name": "stdout",
     "output_type": "stream",
     "text": [
      "Validation: {'precision': 43.5973, 'recall': 37.132, 'f1': 38.539, 'auc': 77.9704, 'prauc': 43.3996}\n",
      "Test:      {'precision': 44.5432, 'recall': 37.9222, 'f1': 39.0571, 'auc': 77.9329, 'prauc': 43.7324}\n",
      "\n",
      "Validation-long: {'precision': 45.0079, 'recall': 37.9889, 'f1': 37.903, 'auc': 78.9336, 'prauc': 44.7781}\n",
      "Test-long: {'precision': 45.0902, 'recall': 40.5376, 'f1': 40.4131, 'auc': 79.1803, 'prauc': 46.2805}\n",
      "\n"
     ]
    },
    {
     "name": "stderr",
     "output_type": "stream",
     "text": [
      "Epoch 010: 100%|██████████| 215/215 [00:14<00:00, 14.81it/s, loss=0.2322]\n",
      "Running inference: 100%|██████████| 158/158 [00:07<00:00, 21.31it/s]\n",
      "Running inference: 100%|██████████| 159/159 [00:07<00:00, 21.31it/s]\n"
     ]
    },
    {
     "name": "stdout",
     "output_type": "stream",
     "text": [
      "Validation: {'precision': 43.2325, 'recall': 38.7114, 'f1': 39.4673, 'auc': 77.6949, 'prauc': 42.9639}\n",
      "Test:      {'precision': 42.631, 'recall': 39.7244, 'f1': 40.1635, 'auc': 77.7014, 'prauc': 43.2859}\n",
      "\n",
      "Validation-long: {'precision': 39.262, 'recall': 39.2764, 'f1': 38.5798, 'auc': 78.2195, 'prauc': 44.4641}\n",
      "Test-long: {'precision': 43.8469, 'recall': 42.0618, 'f1': 41.8458, 'auc': 78.3997, 'prauc': 46.5361}\n",
      "\n"
     ]
    },
    {
     "name": "stderr",
     "output_type": "stream",
     "text": [
      "Epoch 011: 100%|██████████| 215/215 [00:14<00:00, 14.76it/s, loss=0.2236]\n",
      "Running inference: 100%|██████████| 158/158 [00:07<00:00, 21.51it/s]\n",
      "Running inference: 100%|██████████| 159/159 [00:07<00:00, 21.33it/s]\n"
     ]
    },
    {
     "name": "stdout",
     "output_type": "stream",
     "text": [
      "Validation: {'precision': 43.1832, 'recall': 33.3363, 'f1': 36.566, 'auc': 77.3635, 'prauc': 42.9668}\n",
      "Test:      {'precision': 44.6301, 'recall': 34.4217, 'f1': 37.3114, 'auc': 77.267, 'prauc': 43.1458}\n",
      "\n",
      "Validation-long: {'precision': 43.2596, 'recall': 35.4682, 'f1': 37.6301, 'auc': 77.7242, 'prauc': 44.3686}\n",
      "Test-long: {'precision': 46.5136, 'recall': 37.484, 'f1': 39.4833, 'auc': 77.5731, 'prauc': 46.3569}\n",
      "\n"
     ]
    },
    {
     "name": "stderr",
     "output_type": "stream",
     "text": [
      "Epoch 012: 100%|██████████| 215/215 [00:14<00:00, 14.79it/s, loss=0.2153]\n",
      "Running inference: 100%|██████████| 158/158 [00:07<00:00, 20.46it/s]\n",
      "Running inference: 100%|██████████| 159/159 [00:07<00:00, 21.30it/s]\n"
     ]
    },
    {
     "name": "stdout",
     "output_type": "stream",
     "text": [
      "Validation: {'precision': 43.0849, 'recall': 35.2301, 'f1': 37.1816, 'auc': 76.7921, 'prauc': 42.1407}\n",
      "Test:      {'precision': 44.4421, 'recall': 36.5619, 'f1': 38.0883, 'auc': 77.1095, 'prauc': 42.7688}\n",
      "\n",
      "Validation-long: {'precision': 40.2356, 'recall': 36.9575, 'f1': 37.3623, 'auc': 77.0225, 'prauc': 43.8611}\n",
      "Test-long: {'precision': 42.5488, 'recall': 39.0601, 'f1': 39.2131, 'auc': 77.5165, 'prauc': 46.2259}\n",
      "\n"
     ]
    },
    {
     "name": "stderr",
     "output_type": "stream",
     "text": [
      "Epoch 013: 100%|██████████| 215/215 [00:14<00:00, 14.73it/s, loss=0.2096]\n",
      "Running inference: 100%|██████████| 158/158 [00:07<00:00, 21.35it/s]\n",
      "Running inference: 100%|██████████| 159/159 [00:07<00:00, 21.26it/s]\n"
     ]
    },
    {
     "name": "stdout",
     "output_type": "stream",
     "text": [
      "Validation: {'precision': 41.8753, 'recall': 34.1868, 'f1': 36.673, 'auc': 76.4874, 'prauc': 42.0673}\n",
      "Test:      {'precision': 43.9164, 'recall': 35.2648, 'f1': 37.664, 'auc': 76.9097, 'prauc': 42.5356}\n",
      "\n",
      "Validation-long: {'precision': 43.4741, 'recall': 35.3764, 'f1': 37.5707, 'auc': 77.2872, 'prauc': 43.4901}\n",
      "Test-long: {'precision': 45.3689, 'recall': 37.0675, 'f1': 39.5033, 'auc': 77.6356, 'prauc': 45.8741}\n",
      "\n"
     ]
    },
    {
     "name": "stderr",
     "output_type": "stream",
     "text": [
      "Epoch 014: 100%|██████████| 215/215 [00:14<00:00, 14.78it/s, loss=0.2027]\n",
      "Running inference: 100%|██████████| 158/158 [00:07<00:00, 21.55it/s]\n",
      "Running inference: 100%|██████████| 159/159 [00:07<00:00, 21.48it/s]\n"
     ]
    },
    {
     "name": "stdout",
     "output_type": "stream",
     "text": [
      "Validation: {'precision': 43.4555, 'recall': 34.9595, 'f1': 37.4419, 'auc': 76.5218, 'prauc': 41.6522}\n",
      "Test:      {'precision': 45.3347, 'recall': 35.8993, 'f1': 38.1323, 'auc': 77.0502, 'prauc': 42.2871}\n",
      "\n",
      "Validation-long: {'precision': 43.506, 'recall': 37.3902, 'f1': 38.3406, 'auc': 76.634, 'prauc': 43.088}\n",
      "Test-long: {'precision': 44.1894, 'recall': 39.1053, 'f1': 40.446, 'auc': 77.667, 'prauc': 45.5469}\n",
      "\n"
     ]
    },
    {
     "name": "stderr",
     "output_type": "stream",
     "text": [
      "Epoch 015: 100%|██████████| 215/215 [00:14<00:00, 14.37it/s, loss=0.1976]\n",
      "Running inference: 100%|██████████| 158/158 [00:07<00:00, 21.34it/s]\n",
      "Running inference: 100%|██████████| 159/159 [00:07<00:00, 21.44it/s]\n"
     ]
    },
    {
     "name": "stdout",
     "output_type": "stream",
     "text": [
      "Validation: {'precision': 40.3629, 'recall': 38.6593, 'f1': 39.0023, 'auc': 76.1987, 'prauc': 41.7667}\n",
      "Test:      {'precision': 41.3384, 'recall': 39.5463, 'f1': 39.83, 'auc': 76.4744, 'prauc': 42.091}\n",
      "\n",
      "Validation-long: {'precision': 38.7278, 'recall': 40.3387, 'f1': 39.2611, 'auc': 75.8092, 'prauc': 42.5141}\n",
      "Test-long: {'precision': 41.9507, 'recall': 42.096, 'f1': 41.6002, 'auc': 77.2495, 'prauc': 45.9827}\n",
      "\n",
      "\n",
      "Early stopping triggered (no improvement for 5 epochs).\n",
      "\n",
      "Best validation performance:\n",
      "{'global': {'precision': 43.2325, 'recall': 38.7114, 'f1': 39.4673, 'auc': 77.6949, 'prauc': 42.9639}, 'per_class':                                            precision   recall       f1  \\\n",
      "Acute and unspecified renal failure          42.5463  45.6353  44.0367   \n",
      "Acute cerebrovascular disease                20.0000   2.7027   4.7619   \n",
      "Acute myocardial infarction                  10.5263   0.9950   1.8182   \n",
      "Cardiac dysrhythmias                         73.7872  68.8824  71.2505   \n",
      "Chronic kidney disease                       75.1986  73.2588  74.2160   \n",
      "Chronic obstructive pulmonary disease        64.9860  51.7857  57.6398   \n",
      "Conduction disorders                          0.0000   0.0000   0.0000   \n",
      "Congestive heart failure; nonhypertensive    68.8216  74.2933  71.4528   \n",
      "Coronary atherosclerosis and related         77.4603  80.1972  78.8050   \n",
      "Disorders of lipid metabolism                74.3196  79.3869  76.7697   \n",
      "Essential hypertension                       78.2451  71.7961  74.8820   \n",
      "Fluid and electrolyte disorders              44.0987  50.6782  47.1601   \n",
      "Gastrointestinal hemorrhage                   0.0000   0.0000   0.0000   \n",
      "Hypertension with complications              71.6667  68.4577  70.0254   \n",
      "Other liver diseases                          0.0000   0.0000   0.0000   \n",
      "Other lower respiratory disease              38.0457  23.5825  29.1169   \n",
      "Pneumonia                                    23.5294   1.0929   2.0888   \n",
      "Septicemia (except in labor)                 14.9533   4.0609   6.3872   \n",
      "\n",
      "                                               auc    prauc  \n",
      "Acute and unspecified renal failure        71.7936  40.8007  \n",
      "Acute cerebrovascular disease              71.6440   3.7853  \n",
      "Acute myocardial infarction                76.3815  13.4445  \n",
      "Cardiac dysrhythmias                       85.4816  76.4857  \n",
      "Chronic kidney disease                     91.7591  82.4245  \n",
      "Chronic obstructive pulmonary disease      88.3272  53.3274  \n",
      "Conduction disorders                       71.9906   4.5821  \n",
      "Congestive heart failure; nonhypertensive  89.8659  76.8111  \n",
      "Coronary atherosclerosis and related       93.2753  81.7393  \n",
      "Disorders of lipid metabolism              87.7712  77.0835  \n",
      "Essential hypertension                     86.4114  79.3324  \n",
      "Fluid and electrolyte disorders            65.3643  45.1889  \n",
      "Gastrointestinal hemorrhage                65.4538   4.6832  \n",
      "Hypertension with complications            91.1381  75.4294  \n",
      "Other liver diseases                       62.6002   2.0300  \n",
      "Other lower respiratory disease            68.9822  31.6026  \n",
      "Pneumonia                                  64.8047  11.5394  \n",
      "Septicemia (except in labor)               65.4637  13.0605  }\n",
      "Corresponding test performance:\n",
      "{'global': {'precision': 42.631, 'recall': 39.7244, 'f1': 40.1635, 'auc': 77.7014, 'prauc': 43.2859}, 'per_class':                                            precision   recall       f1  \\\n",
      "Acute and unspecified renal failure          42.7673  46.9370  44.7552   \n",
      "Acute cerebrovascular disease                 9.0909   2.5641   4.0000   \n",
      "Acute myocardial infarction                  16.0000   2.0833   3.6866   \n",
      "Cardiac dysrhythmias                         71.7949  63.3007  67.2807   \n",
      "Chronic kidney disease                       78.9992  76.0063  77.4739   \n",
      "Chronic obstructive pulmonary disease        67.5676  58.6854  62.8141   \n",
      "Conduction disorders                          0.0000   0.0000   0.0000   \n",
      "Congestive heart failure; nonhypertensive    69.2128  76.7502  72.7869   \n",
      "Coronary atherosclerosis and related         76.3433  81.9055  79.0267   \n",
      "Disorders of lipid metabolism                74.7861  80.9809  77.7603   \n",
      "Essential hypertension                       78.8441  74.1276  76.4132   \n",
      "Fluid and electrolyte disorders              43.2590  51.3548  46.9605   \n",
      "Gastrointestinal hemorrhage                   0.0000   0.0000   0.0000   \n",
      "Hypertension with complications              76.1813  73.9700  75.0594   \n",
      "Other liver diseases                          0.0000   0.0000   0.0000   \n",
      "Other lower respiratory disease              40.0818  22.8972  29.1450   \n",
      "Pneumonia                                     7.6923   0.2571   0.4975   \n",
      "Septicemia (except in labor)                 14.7368   3.2184   5.2830   \n",
      "\n",
      "                                               auc    prauc  \n",
      "Acute and unspecified renal failure        73.2329  41.3961  \n",
      "Acute cerebrovascular disease              72.3156   2.4656  \n",
      "Acute myocardial infarction                77.1864  11.7033  \n",
      "Cardiac dysrhythmias                       83.6229  72.1622  \n",
      "Chronic kidney disease                     92.3292  85.5635  \n",
      "Chronic obstructive pulmonary disease      87.6820  53.4417  \n",
      "Conduction disorders                       73.3398   7.4694  \n",
      "Congestive heart failure; nonhypertensive  90.5880  78.0986  \n",
      "Coronary atherosclerosis and related       93.2680  81.3755  \n",
      "Disorders of lipid metabolism              88.4113  76.6417  \n",
      "Essential hypertension                     87.2926  78.5611  \n",
      "Fluid and electrolyte disorders            65.5255  44.5130  \n",
      "Gastrointestinal hemorrhage                62.2950   6.8096  \n",
      "Hypertension with complications            92.4866  79.3378  \n",
      "Other liver diseases                       63.6167   1.5109  \n",
      "Other lower respiratory disease            67.1011  33.3076  \n",
      "Pneumonia                                  62.9450  11.4887  \n",
      "Septicemia (except in labor)               65.3873  13.2991  }\n",
      "Corresponding test-long performance:\n",
      "{'global': {'precision': 43.8469, 'recall': 42.0618, 'f1': 41.8458, 'auc': 78.3997, 'prauc': 46.5361}, 'per_class':                                            precision   recall       f1  \\\n",
      "Acute and unspecified renal failure          49.2754  61.8182  54.8387   \n",
      "Acute cerebrovascular disease                 0.0000   0.0000   0.0000   \n",
      "Acute myocardial infarction                   0.0000   0.0000   0.0000   \n",
      "Cardiac dysrhythmias                         74.4493  67.8715  71.0084   \n",
      "Chronic kidney disease                       82.7119  76.4890  79.4788   \n",
      "Chronic obstructive pulmonary disease        62.5000  51.9481  56.7376   \n",
      "Conduction disorders                          0.0000   0.0000   0.0000   \n",
      "Congestive heart failure; nonhypertensive    75.2542  82.2222  78.5841   \n",
      "Coronary atherosclerosis and related         77.3913  84.3602  80.7256   \n",
      "Disorders of lipid metabolism                73.6842  82.9268  78.0328   \n",
      "Essential hypertension                       77.2388  69.6970  73.2743   \n",
      "Fluid and electrolyte disorders              47.9532  68.9076  56.5517   \n",
      "Gastrointestinal hemorrhage                   0.0000   0.0000   0.0000   \n",
      "Hypertension with complications              77.8210  77.5194  77.6699   \n",
      "Other liver diseases                          0.0000   0.0000   0.0000   \n",
      "Other lower respiratory disease              53.4653  27.6923  36.4865   \n",
      "Pneumonia                                     0.0000   0.0000   0.0000   \n",
      "Septicemia (except in labor)                 37.5000   5.6604   9.8361   \n",
      "\n",
      "                                               auc    prauc  \n",
      "Acute and unspecified renal failure        72.7025  49.4327  \n",
      "Acute cerebrovascular disease              65.5606   0.4450  \n",
      "Acute myocardial infarction                76.1899   9.0665  \n",
      "Cardiac dysrhythmias                       85.5876  76.4333  \n",
      "Chronic kidney disease                     91.5149  89.0055  \n",
      "Chronic obstructive pulmonary disease      89.9826  51.9782  \n",
      "Conduction disorders                       72.0960   3.9967  \n",
      "Congestive heart failure; nonhypertensive  93.0693  88.3191  \n",
      "Coronary atherosclerosis and related       94.8028  82.9462  \n",
      "Disorders of lipid metabolism              91.0629  79.8589  \n",
      "Essential hypertension                     89.4617  79.7402  \n",
      "Fluid and electrolyte disorders            64.1637  51.9342  \n",
      "Gastrointestinal hemorrhage                59.9927   9.7882  \n",
      "Hypertension with complications            92.0016  83.7696  \n",
      "Other liver diseases                       78.0334   3.3961  \n",
      "Other lower respiratory disease            68.9216  46.0902  \n",
      "Pneumonia                                  60.7036  11.8473  \n",
      "Septicemia (except in labor)               65.3473  19.6009  }\n",
      "================================14==================================\n"
     ]
    },
    {
     "name": "stderr",
     "output_type": "stream",
     "text": [
      "Epoch 001: 100%|██████████| 215/215 [00:14<00:00, 14.73it/s, loss=0.3456]\n",
      "Running inference: 100%|██████████| 158/158 [00:07<00:00, 21.34it/s]\n",
      "Running inference: 100%|██████████| 159/159 [00:07<00:00, 21.40it/s]\n"
     ]
    },
    {
     "name": "stdout",
     "output_type": "stream",
     "text": [
      "Validation: {'precision': 39.2864, 'recall': 29.3121, 'f1': 31.0531, 'auc': 75.9517, 'prauc': 40.6136}\n",
      "Test:      {'precision': 40.8855, 'recall': 29.8709, 'f1': 31.4711, 'auc': 75.8347, 'prauc': 41.0306}\n",
      "\n",
      "Validation-long: {'precision': 35.5391, 'recall': 30.6387, 'f1': 32.0468, 'auc': 75.6893, 'prauc': 42.5056}\n",
      "Test-long: {'precision': 37.03, 'recall': 31.1486, 'f1': 33.1481, 'auc': 74.534, 'prauc': 44.095}\n",
      "\n"
     ]
    },
    {
     "name": "stderr",
     "output_type": "stream",
     "text": [
      "Epoch 002: 100%|██████████| 215/215 [00:14<00:00, 14.89it/s, loss=0.2900]\n",
      "Running inference: 100%|██████████| 158/158 [00:07<00:00, 21.60it/s]\n",
      "Running inference: 100%|██████████| 159/159 [00:07<00:00, 20.31it/s]\n"
     ]
    },
    {
     "name": "stdout",
     "output_type": "stream",
     "text": [
      "Validation: {'precision': 40.5656, 'recall': 34.0641, 'f1': 35.0505, 'auc': 78.0951, 'prauc': 43.0989}\n",
      "Test:      {'precision': 41.3142, 'recall': 34.6019, 'f1': 35.4782, 'auc': 78.4036, 'prauc': 43.7699}\n",
      "\n",
      "Validation-long: {'precision': 41.8162, 'recall': 36.825, 'f1': 36.0433, 'auc': 77.5164, 'prauc': 44.3334}\n",
      "Test-long: {'precision': 42.7496, 'recall': 37.4027, 'f1': 37.1532, 'auc': 78.3588, 'prauc': 46.4733}\n",
      "\n"
     ]
    },
    {
     "name": "stderr",
     "output_type": "stream",
     "text": [
      "Epoch 003: 100%|██████████| 215/215 [00:14<00:00, 14.87it/s, loss=0.2772]\n",
      "Running inference: 100%|██████████| 158/158 [00:07<00:00, 21.57it/s]\n",
      "Running inference: 100%|██████████| 159/159 [00:07<00:00, 21.57it/s]\n"
     ]
    },
    {
     "name": "stdout",
     "output_type": "stream",
     "text": [
      "Validation: {'precision': 43.3002, 'recall': 35.4147, 'f1': 37.9697, 'auc': 78.4478, 'prauc': 44.1824}\n",
      "Test:      {'precision': 43.7973, 'recall': 36.2777, 'f1': 38.5759, 'auc': 78.6543, 'prauc': 44.6233}\n",
      "\n",
      "Validation-long: {'precision': 43.8961, 'recall': 36.9317, 'f1': 38.1127, 'auc': 78.2157, 'prauc': 45.1206}\n",
      "Test-long: {'precision': 45.9286, 'recall': 38.7965, 'f1': 40.2427, 'auc': 79.0531, 'prauc': 47.4234}\n",
      "\n"
     ]
    },
    {
     "name": "stderr",
     "output_type": "stream",
     "text": [
      "Epoch 004: 100%|██████████| 215/215 [00:14<00:00, 14.74it/s, loss=0.2714]\n",
      "Running inference: 100%|██████████| 158/158 [00:07<00:00, 21.44it/s]\n",
      "Running inference: 100%|██████████| 159/159 [00:07<00:00, 21.36it/s]\n"
     ]
    },
    {
     "name": "stdout",
     "output_type": "stream",
     "text": [
      "Validation: {'precision': 43.6709, 'recall': 34.7511, 'f1': 37.3788, 'auc': 79.2029, 'prauc': 44.5582}\n",
      "Test:      {'precision': 43.8142, 'recall': 35.2154, 'f1': 37.7134, 'auc': 79.1159, 'prauc': 44.7779}\n",
      "\n",
      "Validation-long: {'precision': 43.1823, 'recall': 35.8176, 'f1': 37.4414, 'auc': 79.8554, 'prauc': 45.7618}\n",
      "Test-long: {'precision': 45.168, 'recall': 37.5323, 'f1': 39.6572, 'auc': 78.6837, 'prauc': 46.9985}\n",
      "\n"
     ]
    },
    {
     "name": "stderr",
     "output_type": "stream",
     "text": [
      "Epoch 005: 100%|██████████| 215/215 [00:14<00:00, 14.41it/s, loss=0.2660]\n",
      "Running inference: 100%|██████████| 158/158 [00:07<00:00, 21.40it/s]\n",
      "Running inference: 100%|██████████| 159/159 [00:07<00:00, 21.40it/s]\n"
     ]
    },
    {
     "name": "stdout",
     "output_type": "stream",
     "text": [
      "Validation: {'precision': 42.597, 'recall': 37.1226, 'f1': 38.7899, 'auc': 78.7061, 'prauc': 44.0631}\n",
      "Test:      {'precision': 48.1412, 'recall': 37.5807, 'f1': 39.0802, 'auc': 78.9215, 'prauc': 44.6609}\n",
      "\n",
      "Validation-long: {'precision': 43.3342, 'recall': 38.3232, 'f1': 38.6618, 'auc': 77.8482, 'prauc': 45.7511}\n",
      "Test-long: {'precision': 44.1896, 'recall': 40.3453, 'f1': 40.8738, 'auc': 78.9853, 'prauc': 47.5702}\n",
      "\n"
     ]
    },
    {
     "name": "stderr",
     "output_type": "stream",
     "text": [
      "Epoch 006: 100%|██████████| 215/215 [00:14<00:00, 14.90it/s, loss=0.2575]\n",
      "Running inference: 100%|██████████| 158/158 [00:07<00:00, 21.49it/s]\n",
      "Running inference: 100%|██████████| 159/159 [00:07<00:00, 21.67it/s]\n"
     ]
    },
    {
     "name": "stdout",
     "output_type": "stream",
     "text": [
      "Validation: {'precision': 46.5564, 'recall': 33.6225, 'f1': 36.759, 'auc': 79.167, 'prauc': 44.5416}\n",
      "Test:      {'precision': 49.5826, 'recall': 34.355, 'f1': 37.1316, 'auc': 79.2664, 'prauc': 44.6945}\n",
      "\n",
      "Validation-long: {'precision': 49.7947, 'recall': 35.898, 'f1': 37.9133, 'auc': 80.2485, 'prauc': 46.2967}\n",
      "Test-long: {'precision': 45.5168, 'recall': 37.0496, 'f1': 39.0653, 'auc': 79.3468, 'prauc': 47.042}\n",
      "\n"
     ]
    },
    {
     "name": "stderr",
     "output_type": "stream",
     "text": [
      "Epoch 007: 100%|██████████| 215/215 [00:14<00:00, 14.87it/s, loss=0.2513]\n",
      "Running inference: 100%|██████████| 158/158 [00:07<00:00, 21.60it/s]\n",
      "Running inference: 100%|██████████| 159/159 [00:07<00:00, 20.46it/s]\n"
     ]
    },
    {
     "name": "stdout",
     "output_type": "stream",
     "text": [
      "Validation: {'precision': 45.0555, 'recall': 38.8384, 'f1': 39.4451, 'auc': 78.4363, 'prauc': 44.3229}\n",
      "Test:      {'precision': 44.5288, 'recall': 39.2575, 'f1': 39.7636, 'auc': 78.6556, 'prauc': 44.6405}\n",
      "\n",
      "Validation-long: {'precision': 42.5625, 'recall': 41.6107, 'f1': 39.6987, 'auc': 79.363, 'prauc': 45.4027}\n",
      "Test-long: {'precision': 42.0296, 'recall': 42.5439, 'f1': 41.3444, 'auc': 79.2728, 'prauc': 47.5503}\n",
      "\n"
     ]
    },
    {
     "name": "stderr",
     "output_type": "stream",
     "text": [
      "Epoch 008: 100%|██████████| 215/215 [00:14<00:00, 14.87it/s, loss=0.2456]\n",
      "Running inference: 100%|██████████| 158/158 [00:07<00:00, 21.35it/s]\n",
      "Running inference: 100%|██████████| 159/159 [00:07<00:00, 21.26it/s]\n"
     ]
    },
    {
     "name": "stdout",
     "output_type": "stream",
     "text": [
      "Validation: {'precision': 43.0246, 'recall': 36.3117, 'f1': 38.0408, 'auc': 78.3384, 'prauc': 44.1071}\n",
      "Test:      {'precision': 43.1177, 'recall': 36.9524, 'f1': 38.4538, 'auc': 78.3095, 'prauc': 44.1717}\n",
      "\n",
      "Validation-long: {'precision': 42.7683, 'recall': 38.0045, 'f1': 38.7089, 'auc': 78.0242, 'prauc': 45.6459}\n",
      "Test-long: {'precision': 49.1461, 'recall': 39.0959, 'f1': 40.0905, 'auc': 78.5, 'prauc': 47.4901}\n",
      "\n"
     ]
    },
    {
     "name": "stderr",
     "output_type": "stream",
     "text": [
      "Epoch 009: 100%|██████████| 215/215 [00:14<00:00, 14.86it/s, loss=0.2389]\n",
      "Running inference: 100%|██████████| 158/158 [00:07<00:00, 21.50it/s]\n",
      "Running inference: 100%|██████████| 159/159 [00:07<00:00, 21.23it/s]\n"
     ]
    },
    {
     "name": "stdout",
     "output_type": "stream",
     "text": [
      "Validation: {'precision': 41.8915, 'recall': 37.5801, 'f1': 38.5285, 'auc': 77.5546, 'prauc': 43.3628}\n",
      "Test:      {'precision': 42.1641, 'recall': 38.0369, 'f1': 38.8378, 'auc': 77.8364, 'prauc': 43.5538}\n",
      "\n",
      "Validation-long: {'precision': 40.1428, 'recall': 39.6419, 'f1': 38.5682, 'auc': 77.8322, 'prauc': 43.9941}\n",
      "Test-long: {'precision': 45.1182, 'recall': 41.2961, 'f1': 40.839, 'auc': 77.427, 'prauc': 46.5165}\n",
      "\n"
     ]
    },
    {
     "name": "stderr",
     "output_type": "stream",
     "text": [
      "Epoch 010: 100%|██████████| 215/215 [00:14<00:00, 14.80it/s, loss=0.2332]\n",
      "Running inference: 100%|██████████| 158/158 [00:07<00:00, 20.27it/s]\n",
      "Running inference: 100%|██████████| 159/159 [00:07<00:00, 21.53it/s]\n"
     ]
    },
    {
     "name": "stdout",
     "output_type": "stream",
     "text": [
      "Validation: {'precision': 43.3576, 'recall': 35.3162, 'f1': 37.8067, 'auc': 77.853, 'prauc': 43.428}\n",
      "Test:      {'precision': 43.5432, 'recall': 35.5743, 'f1': 37.6848, 'auc': 77.8768, 'prauc': 43.511}\n",
      "\n",
      "Validation-long: {'precision': 44.7481, 'recall': 37.7051, 'f1': 39.0346, 'auc': 78.706, 'prauc': 45.0212}\n",
      "Test-long: {'precision': 42.9687, 'recall': 38.3067, 'f1': 39.6718, 'auc': 77.3951, 'prauc': 46.6979}\n",
      "\n"
     ]
    },
    {
     "name": "stderr",
     "output_type": "stream",
     "text": [
      "Epoch 011: 100%|██████████| 215/215 [00:14<00:00, 14.84it/s, loss=0.2238]\n",
      "Running inference: 100%|██████████| 158/158 [00:07<00:00, 21.36it/s]\n",
      "Running inference: 100%|██████████| 159/159 [00:07<00:00, 21.52it/s]\n"
     ]
    },
    {
     "name": "stdout",
     "output_type": "stream",
     "text": [
      "Validation: {'precision': 47.995, 'recall': 37.9054, 'f1': 39.0926, 'auc': 77.2134, 'prauc': 42.7479}\n",
      "Test:      {'precision': 43.3382, 'recall': 38.4201, 'f1': 39.1927, 'auc': 77.5684, 'prauc': 43.1148}\n",
      "\n",
      "Validation-long: {'precision': 43.2383, 'recall': 40.6935, 'f1': 40.5269, 'auc': 78.2481, 'prauc': 44.1352}\n",
      "Test-long: {'precision': 43.4529, 'recall': 41.6054, 'f1': 41.339, 'auc': 77.9501, 'prauc': 46.5293}\n",
      "\n"
     ]
    },
    {
     "name": "stderr",
     "output_type": "stream",
     "text": [
      "Epoch 012: 100%|██████████| 215/215 [00:14<00:00, 14.90it/s, loss=0.2169]\n",
      "Running inference: 100%|██████████| 158/158 [00:07<00:00, 21.46it/s]\n",
      "Running inference: 100%|██████████| 159/159 [00:07<00:00, 21.54it/s]\n"
     ]
    },
    {
     "name": "stdout",
     "output_type": "stream",
     "text": [
      "Validation: {'precision': 44.8345, 'recall': 36.0868, 'f1': 38.4288, 'auc': 77.2168, 'prauc': 43.1712}\n",
      "Test:      {'precision': 47.5885, 'recall': 36.5172, 'f1': 38.5502, 'auc': 77.089, 'prauc': 42.9613}\n",
      "\n",
      "Validation-long: {'precision': 42.48, 'recall': 38.5763, 'f1': 39.5821, 'auc': 78.173, 'prauc': 44.4565}\n",
      "Test-long: {'precision': 44.405, 'recall': 40.1562, 'f1': 41.2719, 'auc': 77.3301, 'prauc': 46.5444}\n",
      "\n",
      "\n",
      "Early stopping triggered (no improvement for 5 epochs).\n",
      "\n",
      "Best validation performance:\n",
      "{'global': {'precision': 45.0555, 'recall': 38.8384, 'f1': 39.4451, 'auc': 78.4363, 'prauc': 44.3229}, 'per_class':                                            precision   recall       f1  \\\n",
      "Acute and unspecified renal failure          45.2524  45.7217  45.4858   \n",
      "Acute cerebrovascular disease                 0.0000   0.0000   0.0000   \n",
      "Acute myocardial infarction                   0.0000   0.0000   0.0000   \n",
      "Cardiac dysrhythmias                         82.5969  66.9102  73.9306   \n",
      "Chronic kidney disease                       76.3441  79.3637  77.8246   \n",
      "Chronic obstructive pulmonary disease        60.1626  66.0714  62.9787   \n",
      "Conduction disorders                          0.0000   0.0000   0.0000   \n",
      "Congestive heart failure; nonhypertensive    73.5798  72.0848  72.8246   \n",
      "Coronary atherosclerosis and related         77.8980  82.8266  80.2867   \n",
      "Disorders of lipid metabolism                75.3161  78.6998  76.9708   \n",
      "Essential hypertension                       80.1148  73.1301  76.4633   \n",
      "Fluid and electrolyte disorders              47.5700  39.8274  43.3557   \n",
      "Gastrointestinal hemorrhage                   0.0000   0.0000   0.0000   \n",
      "Hypertension with complications              70.2338  77.7114  73.7837   \n",
      "Other liver diseases                          0.0000   0.0000   0.0000   \n",
      "Other lower respiratory disease              55.2632  16.2371  25.0996   \n",
      "Pneumonia                                     0.0000   0.0000   0.0000   \n",
      "Septicemia (except in labor)                 66.6667   0.5076   1.0076   \n",
      "\n",
      "                                               auc    prauc  \n",
      "Acute and unspecified renal failure        73.6257  42.9020  \n",
      "Acute cerebrovascular disease              73.9183   6.3256  \n",
      "Acute myocardial infarction                78.5114  14.9628  \n",
      "Cardiac dysrhythmias                       86.3459  78.6316  \n",
      "Chronic kidney disease                     92.8257  84.9966  \n",
      "Chronic obstructive pulmonary disease      88.0480  52.7858  \n",
      "Conduction disorders                       73.5001   5.3324  \n",
      "Congestive heart failure; nonhypertensive  90.3414  78.0508  \n",
      "Coronary atherosclerosis and related       93.5534  82.9165  \n",
      "Disorders of lipid metabolism              88.2147  77.6004  \n",
      "Essential hypertension                     87.8298  81.1803  \n",
      "Fluid and electrolyte disorders            66.0897  45.9776  \n",
      "Gastrointestinal hemorrhage                64.5537   4.7360  \n",
      "Hypertension with complications            91.9015  77.2637  \n",
      "Other liver diseases                       58.8792   1.4796  \n",
      "Other lower respiratory disease            70.6727  35.6376  \n",
      "Pneumonia                                  66.1143  12.3879  \n",
      "Septicemia (except in labor)               66.9287  14.6456  }\n",
      "Corresponding test performance:\n",
      "{'global': {'precision': 44.5288, 'recall': 39.2575, 'f1': 39.7636, 'auc': 78.6556, 'prauc': 44.6405}, 'per_class':                                            precision   recall       f1  \\\n",
      "Acute and unspecified renal failure          45.1220  44.6937  44.9068   \n",
      "Acute cerebrovascular disease                 0.0000   0.0000   0.0000   \n",
      "Acute myocardial infarction                   0.0000   0.0000   0.0000   \n",
      "Cardiac dysrhythmias                         81.0277  61.7935  70.1154   \n",
      "Chronic kidney disease                       79.6729  80.7419  80.2038   \n",
      "Chronic obstructive pulmonary disease        61.1940  67.3709  64.1341   \n",
      "Conduction disorders                          0.0000   0.0000   0.0000   \n",
      "Congestive heart failure; nonhypertensive    71.8054  75.2809  73.5021   \n",
      "Coronary atherosclerosis and related         76.0000  83.6669  79.6494   \n",
      "Disorders of lipid metabolism                75.8214  80.4905  78.0862   \n",
      "Essential hypertension                       80.0758  73.7288  76.7713   \n",
      "Fluid and electrolyte disorders              47.1147  40.6427  43.6401   \n",
      "Gastrointestinal hemorrhage                   0.0000   0.0000   0.0000   \n",
      "Hypertension with complications              74.6127  81.1798  77.7578   \n",
      "Other liver diseases                          0.0000   0.0000   0.0000   \n",
      "Other lower respiratory disease              59.0717  16.3551  25.6176   \n",
      "Pneumonia                                     0.0000   0.0000   0.0000   \n",
      "Septicemia (except in labor)                 50.0000   0.6897   1.3605   \n",
      "\n",
      "                                               auc    prauc  \n",
      "Acute and unspecified renal failure        74.6702  43.4167  \n",
      "Acute cerebrovascular disease              71.2094   3.4170  \n",
      "Acute myocardial infarction                78.3762  12.2174  \n",
      "Cardiac dysrhythmias                       84.9695  75.3340  \n",
      "Chronic kidney disease                     93.2971  87.2830  \n",
      "Chronic obstructive pulmonary disease      88.4209  54.3189  \n",
      "Conduction disorders                       75.3340   7.2830  \n",
      "Congestive heart failure; nonhypertensive  90.6795  78.6676  \n",
      "Coronary atherosclerosis and related       93.2902  81.5470  \n",
      "Disorders of lipid metabolism              88.6777  76.8873  \n",
      "Essential hypertension                     88.1595  80.4597  \n",
      "Fluid and electrolyte disorders            66.5788  45.6615  \n",
      "Gastrointestinal hemorrhage                64.0008   7.1157  \n",
      "Hypertension with complications            93.4784  81.6700  \n",
      "Other liver diseases                       62.9753   1.7067  \n",
      "Other lower respiratory disease            69.0812  37.2828  \n",
      "Pneumonia                                  64.5418  13.0538  \n",
      "Septicemia (except in labor)               68.0595  16.2077  }\n",
      "Corresponding test-long performance:\n",
      "{'global': {'precision': 42.0296, 'recall': 42.5439, 'f1': 41.3444, 'auc': 79.2728, 'prauc': 47.5503}, 'per_class':                                            precision   recall       f1  \\\n",
      "Acute and unspecified renal failure          47.0270  63.2727  53.9535   \n",
      "Acute cerebrovascular disease                 0.0000   0.0000   0.0000   \n",
      "Acute myocardial infarction                   0.0000   0.0000   0.0000   \n",
      "Cardiac dysrhythmias                         83.0846  67.0683  74.2222   \n",
      "Chronic kidney disease                       79.2507  86.2069  82.5826   \n",
      "Chronic obstructive pulmonary disease        53.2609  63.6364  57.9882   \n",
      "Conduction disorders                          0.0000   0.0000   0.0000   \n",
      "Congestive heart failure; nonhypertensive    75.7377  85.5556  80.3478   \n",
      "Coronary atherosclerosis and related         75.7085  88.6256  81.6594   \n",
      "Disorders of lipid metabolism                75.4045  81.1847  78.1879   \n",
      "Essential hypertension                       83.2579  61.9529  71.0425   \n",
      "Fluid and electrolyte disorders              48.5194  59.6639  53.5176   \n",
      "Gastrointestinal hemorrhage                   0.0000   0.0000   0.0000   \n",
      "Hypertension with complications              72.2045  87.5969  79.1594   \n",
      "Other liver diseases                          0.0000   0.0000   0.0000   \n",
      "Other lower respiratory disease              63.0769  21.0256  31.5385   \n",
      "Pneumonia                                     0.0000   0.0000   0.0000   \n",
      "Septicemia (except in labor)                  0.0000   0.0000   0.0000   \n",
      "\n",
      "                                               auc    prauc  \n",
      "Acute and unspecified renal failure        71.6349  49.9846  \n",
      "Acute cerebrovascular disease              71.4817   0.3759  \n",
      "Acute myocardial infarction                76.8637   9.1295  \n",
      "Cardiac dysrhythmias                       86.5478  77.3258  \n",
      "Chronic kidney disease                     92.7416  90.7719  \n",
      "Chronic obstructive pulmonary disease      90.2329  52.7045  \n",
      "Conduction disorders                       71.8823   5.4570  \n",
      "Congestive heart failure; nonhypertensive  92.9746  88.5520  \n",
      "Coronary atherosclerosis and related       94.7682  82.3403  \n",
      "Disorders of lipid metabolism              91.3066  80.6514  \n",
      "Essential hypertension                     90.8713  82.0550  \n",
      "Fluid and electrolyte disorders            61.7863  50.0802  \n",
      "Gastrointestinal hemorrhage                63.8021  10.1989  \n",
      "Hypertension with complications            93.3158  85.4117  \n",
      "Other liver diseases                       76.2828   5.7711  \n",
      "Other lower respiratory disease            69.7605  46.7958  \n",
      "Pneumonia                                  63.4023  14.5494  \n",
      "Septicemia (except in labor)               67.2556  23.7494  }\n",
      "================================15==================================\n"
     ]
    },
    {
     "name": "stderr",
     "output_type": "stream",
     "text": [
      "Epoch 001: 100%|██████████| 215/215 [00:14<00:00, 14.48it/s, loss=0.3532]\n",
      "Running inference: 100%|██████████| 158/158 [00:07<00:00, 21.53it/s]\n",
      "Running inference: 100%|██████████| 159/159 [00:07<00:00, 21.58it/s]\n"
     ]
    },
    {
     "name": "stdout",
     "output_type": "stream",
     "text": [
      "Validation: {'precision': 33.3912, 'recall': 29.4516, 'f1': 29.9287, 'auc': 75.8845, 'prauc': 39.4863}\n",
      "Test:      {'precision': 33.3637, 'recall': 29.9845, 'f1': 30.2266, 'auc': 75.5107, 'prauc': 39.4564}\n",
      "\n",
      "Validation-long: {'precision': 32.5696, 'recall': 31.0511, 'f1': 30.704, 'auc': 76.2872, 'prauc': 41.0391}\n",
      "Test-long: {'precision': 33.6902, 'recall': 32.5872, 'f1': 31.9903, 'auc': 73.6803, 'prauc': 42.3374}\n",
      "\n"
     ]
    },
    {
     "name": "stderr",
     "output_type": "stream",
     "text": [
      "Epoch 002: 100%|██████████| 215/215 [00:14<00:00, 14.86it/s, loss=0.2937]\n",
      "Running inference: 100%|██████████| 158/158 [00:07<00:00, 21.37it/s]\n",
      "Running inference: 100%|██████████| 159/159 [00:07<00:00, 21.39it/s]\n"
     ]
    },
    {
     "name": "stdout",
     "output_type": "stream",
     "text": [
      "Validation: {'precision': 42.7817, 'recall': 28.3752, 'f1': 31.2874, 'auc': 78.0631, 'prauc': 42.5709}\n",
      "Test:      {'precision': 43.6046, 'recall': 29.1255, 'f1': 31.9611, 'auc': 77.6316, 'prauc': 42.7379}\n",
      "\n",
      "Validation-long: {'precision': 40.2223, 'recall': 29.3379, 'f1': 31.6673, 'auc': 77.158, 'prauc': 43.2003}\n",
      "Test-long: {'precision': 45.0292, 'recall': 30.5321, 'f1': 33.5392, 'auc': 76.7425, 'prauc': 45.4872}\n",
      "\n"
     ]
    },
    {
     "name": "stderr",
     "output_type": "stream",
     "text": [
      "Epoch 003: 100%|██████████| 215/215 [00:14<00:00, 14.94it/s, loss=0.2806]\n",
      "Running inference: 100%|██████████| 158/158 [00:07<00:00, 21.55it/s]\n",
      "Running inference: 100%|██████████| 159/159 [00:07<00:00, 20.39it/s]\n"
     ]
    },
    {
     "name": "stdout",
     "output_type": "stream",
     "text": [
      "Validation: {'precision': 44.838, 'recall': 31.3674, 'f1': 34.9932, 'auc': 78.3276, 'prauc': 44.1316}\n",
      "Test:      {'precision': 45.1717, 'recall': 32.2554, 'f1': 35.5072, 'auc': 78.3846, 'prauc': 44.3378}\n",
      "\n",
      "Validation-long: {'precision': 44.359, 'recall': 33.9383, 'f1': 35.9129, 'auc': 77.1234, 'prauc': 44.4243}\n",
      "Test-long: {'precision': 46.4822, 'recall': 35.2904, 'f1': 37.6136, 'auc': 78.7009, 'prauc': 46.8728}\n",
      "\n"
     ]
    },
    {
     "name": "stderr",
     "output_type": "stream",
     "text": [
      "Epoch 004: 100%|██████████| 215/215 [00:14<00:00, 14.78it/s, loss=0.2719]\n",
      "Running inference: 100%|██████████| 158/158 [00:07<00:00, 21.30it/s]\n",
      "Running inference: 100%|██████████| 159/159 [00:07<00:00, 21.40it/s]\n"
     ]
    },
    {
     "name": "stdout",
     "output_type": "stream",
     "text": [
      "Validation: {'precision': 42.7753, 'recall': 34.2068, 'f1': 36.7158, 'auc': 78.7882, 'prauc': 44.7583}\n",
      "Test:      {'precision': 42.9795, 'recall': 34.6606, 'f1': 37.0617, 'auc': 78.5405, 'prauc': 44.3026}\n",
      "\n",
      "Validation-long: {'precision': 42.5285, 'recall': 35.8088, 'f1': 36.5571, 'auc': 78.3741, 'prauc': 45.474}\n",
      "Test-long: {'precision': 44.4164, 'recall': 37.368, 'f1': 38.8414, 'auc': 79.2452, 'prauc': 46.7841}\n",
      "\n"
     ]
    },
    {
     "name": "stderr",
     "output_type": "stream",
     "text": [
      "Epoch 005: 100%|██████████| 215/215 [00:14<00:00, 14.71it/s, loss=0.2650]\n",
      "Running inference: 100%|██████████| 158/158 [00:07<00:00, 21.15it/s]\n",
      "Running inference: 100%|██████████| 159/159 [00:07<00:00, 21.17it/s]\n"
     ]
    },
    {
     "name": "stdout",
     "output_type": "stream",
     "text": [
      "Validation: {'precision': 43.9193, 'recall': 34.5894, 'f1': 37.9961, 'auc': 78.8927, 'prauc': 44.727}\n",
      "Test:      {'precision': 43.8899, 'recall': 35.2249, 'f1': 38.3006, 'auc': 78.5496, 'prauc': 44.5832}\n",
      "\n",
      "Validation-long: {'precision': 43.1437, 'recall': 36.6651, 'f1': 38.9289, 'auc': 77.801, 'prauc': 45.96}\n",
      "Test-long: {'precision': 45.0106, 'recall': 38.4019, 'f1': 40.6797, 'auc': 79.3959, 'prauc': 46.8762}\n",
      "\n"
     ]
    },
    {
     "name": "stderr",
     "output_type": "stream",
     "text": [
      "Epoch 006: 100%|██████████| 215/215 [00:14<00:00, 14.79it/s, loss=0.2590]\n",
      "Running inference: 100%|██████████| 158/158 [00:07<00:00, 20.38it/s]\n",
      "Running inference: 100%|██████████| 159/159 [00:07<00:00, 21.47it/s]\n"
     ]
    },
    {
     "name": "stdout",
     "output_type": "stream",
     "text": [
      "Validation: {'precision': 44.022, 'recall': 32.3974, 'f1': 36.1175, 'auc': 78.2627, 'prauc': 44.2606}\n",
      "Test:      {'precision': 44.7527, 'recall': 33.3117, 'f1': 36.8613, 'auc': 78.3423, 'prauc': 44.3522}\n",
      "\n",
      "Validation-long: {'precision': 44.0993, 'recall': 34.5735, 'f1': 37.3663, 'auc': 77.7946, 'prauc': 45.6631}\n",
      "Test-long: {'precision': 46.2507, 'recall': 36.1518, 'f1': 39.0909, 'auc': 78.4015, 'prauc': 46.8504}\n",
      "\n"
     ]
    },
    {
     "name": "stderr",
     "output_type": "stream",
     "text": [
      "Epoch 007: 100%|██████████| 215/215 [00:14<00:00, 14.92it/s, loss=0.2531]\n",
      "Running inference: 100%|██████████| 158/158 [00:07<00:00, 21.53it/s]\n",
      "Running inference: 100%|██████████| 159/159 [00:07<00:00, 21.45it/s]\n"
     ]
    },
    {
     "name": "stdout",
     "output_type": "stream",
     "text": [
      "Validation: {'precision': 43.095, 'recall': 33.4073, 'f1': 36.0227, 'auc': 78.2005, 'prauc': 43.9742}\n",
      "Test:      {'precision': 43.6976, 'recall': 34.3719, 'f1': 36.7634, 'auc': 78.1696, 'prauc': 44.0991}\n",
      "\n",
      "Validation-long: {'precision': 42.473, 'recall': 34.8079, 'f1': 36.6743, 'auc': 78.3645, 'prauc': 44.7571}\n",
      "Test-long: {'precision': 45.3137, 'recall': 37.206, 'f1': 39.3379, 'auc': 79.041, 'prauc': 46.9084}\n",
      "\n"
     ]
    },
    {
     "name": "stderr",
     "output_type": "stream",
     "text": [
      "Epoch 008: 100%|██████████| 215/215 [00:14<00:00, 14.94it/s, loss=0.2452]\n",
      "Running inference: 100%|██████████| 158/158 [00:07<00:00, 21.58it/s]\n",
      "Running inference: 100%|██████████| 159/159 [00:07<00:00, 21.39it/s]\n"
     ]
    },
    {
     "name": "stdout",
     "output_type": "stream",
     "text": [
      "Validation: {'precision': 42.8155, 'recall': 37.9722, 'f1': 38.623, 'auc': 77.9612, 'prauc': 43.5707}\n",
      "Test:      {'precision': 41.5208, 'recall': 38.3034, 'f1': 38.7088, 'auc': 78.1187, 'prauc': 43.8585}\n",
      "\n",
      "Validation-long: {'precision': 41.5062, 'recall': 39.4197, 'f1': 38.8003, 'auc': 78.3778, 'prauc': 44.6825}\n",
      "Test-long: {'precision': 42.6983, 'recall': 40.7633, 'f1': 40.208, 'auc': 79.42, 'prauc': 47.1349}\n",
      "\n"
     ]
    },
    {
     "name": "stderr",
     "output_type": "stream",
     "text": [
      "Epoch 009: 100%|██████████| 215/215 [00:14<00:00, 14.50it/s, loss=0.2388]\n",
      "Running inference: 100%|██████████| 158/158 [00:07<00:00, 21.61it/s]\n",
      "Running inference: 100%|██████████| 159/159 [00:07<00:00, 21.40it/s]\n"
     ]
    },
    {
     "name": "stdout",
     "output_type": "stream",
     "text": [
      "Validation: {'precision': 42.6952, 'recall': 36.4119, 'f1': 38.3377, 'auc': 77.7353, 'prauc': 43.4816}\n",
      "Test:      {'precision': 43.8029, 'recall': 37.1869, 'f1': 38.5831, 'auc': 78.0355, 'prauc': 43.6953}\n",
      "\n",
      "Validation-long: {'precision': 42.0056, 'recall': 36.8869, 'f1': 38.5152, 'auc': 77.9498, 'prauc': 44.3745}\n",
      "Test-long: {'precision': 43.814, 'recall': 39.1124, 'f1': 40.5221, 'auc': 78.3858, 'prauc': 46.603}\n",
      "\n"
     ]
    },
    {
     "name": "stderr",
     "output_type": "stream",
     "text": [
      "Epoch 010: 100%|██████████| 215/215 [00:14<00:00, 14.92it/s, loss=0.2328]\n",
      "Running inference: 100%|██████████| 158/158 [00:07<00:00, 21.52it/s]\n",
      "Running inference: 100%|██████████| 159/159 [00:07<00:00, 21.51it/s]\n"
     ]
    },
    {
     "name": "stdout",
     "output_type": "stream",
     "text": [
      "Validation: {'precision': 44.7635, 'recall': 36.9246, 'f1': 38.6545, 'auc': 78.0216, 'prauc': 43.4986}\n",
      "Test:      {'precision': 44.4585, 'recall': 37.6077, 'f1': 39.0125, 'auc': 78.2364, 'prauc': 43.6079}\n",
      "\n",
      "Validation-long: {'precision': 44.0449, 'recall': 39.3345, 'f1': 39.4469, 'auc': 78.1957, 'prauc': 44.4939}\n",
      "Test-long: {'precision': 46.8022, 'recall': 40.9895, 'f1': 41.1524, 'auc': 79.379, 'prauc': 46.9033}\n",
      "\n"
     ]
    },
    {
     "name": "stderr",
     "output_type": "stream",
     "text": [
      "Epoch 011: 100%|██████████| 215/215 [00:14<00:00, 14.83it/s, loss=0.2247]\n",
      "Running inference: 100%|██████████| 158/158 [00:07<00:00, 20.42it/s]\n",
      "Running inference: 100%|██████████| 159/159 [00:07<00:00, 21.40it/s]\n"
     ]
    },
    {
     "name": "stdout",
     "output_type": "stream",
     "text": [
      "Validation: {'precision': 42.4297, 'recall': 35.6348, 'f1': 37.5019, 'auc': 77.5123, 'prauc': 42.8577}\n",
      "Test:      {'precision': 44.5409, 'recall': 36.4047, 'f1': 38.2092, 'auc': 78.0346, 'prauc': 43.4342}\n",
      "\n",
      "Validation-long: {'precision': 40.9397, 'recall': 37.097, 'f1': 37.9875, 'auc': 77.9716, 'prauc': 43.7597}\n",
      "Test-long: {'precision': 47.4641, 'recall': 39.2481, 'f1': 40.3027, 'auc': 78.7177, 'prauc': 46.8175}\n",
      "\n"
     ]
    },
    {
     "name": "stderr",
     "output_type": "stream",
     "text": [
      "Epoch 012: 100%|██████████| 215/215 [00:14<00:00, 14.88it/s, loss=0.2180]\n",
      "Running inference: 100%|██████████| 158/158 [00:07<00:00, 21.45it/s]\n",
      "Running inference: 100%|██████████| 159/159 [00:07<00:00, 21.36it/s]\n"
     ]
    },
    {
     "name": "stdout",
     "output_type": "stream",
     "text": [
      "Validation: {'precision': 43.3066, 'recall': 37.0916, 'f1': 38.4556, 'auc': 77.6002, 'prauc': 42.7483}\n",
      "Test:      {'precision': 42.8739, 'recall': 37.7949, 'f1': 38.7387, 'auc': 77.429, 'prauc': 43.0641}\n",
      "\n",
      "Validation-long: {'precision': 40.2875, 'recall': 38.0094, 'f1': 38.4155, 'auc': 78.1636, 'prauc': 43.534}\n",
      "Test-long: {'precision': 43.7101, 'recall': 40.9257, 'f1': 41.1495, 'auc': 79.0217, 'prauc': 46.5083}\n",
      "\n"
     ]
    },
    {
     "name": "stderr",
     "output_type": "stream",
     "text": [
      "Epoch 013: 100%|██████████| 215/215 [00:14<00:00, 14.74it/s, loss=0.2103]\n",
      "Running inference: 100%|██████████| 158/158 [00:07<00:00, 21.32it/s]\n",
      "Running inference: 100%|██████████| 159/159 [00:07<00:00, 21.30it/s]\n"
     ]
    },
    {
     "name": "stdout",
     "output_type": "stream",
     "text": [
      "Validation: {'precision': 45.9334, 'recall': 37.8486, 'f1': 38.6688, 'auc': 77.1726, 'prauc': 42.3949}\n",
      "Test:      {'precision': 43.3392, 'recall': 38.2778, 'f1': 38.8757, 'auc': 77.3701, 'prauc': 43.0827}\n",
      "\n",
      "Validation-long: {'precision': 42.8746, 'recall': 40.1417, 'f1': 39.3792, 'auc': 77.7261, 'prauc': 43.2294}\n",
      "Test-long: {'precision': 45.1761, 'recall': 42.0315, 'f1': 41.4986, 'auc': 78.7467, 'prauc': 46.3409}\n",
      "\n"
     ]
    },
    {
     "name": "stderr",
     "output_type": "stream",
     "text": [
      "Epoch 014: 100%|██████████| 215/215 [00:14<00:00, 14.34it/s, loss=0.2058]\n",
      "Running inference: 100%|██████████| 158/158 [00:07<00:00, 21.31it/s]\n",
      "Running inference: 100%|██████████| 159/159 [00:07<00:00, 21.32it/s]\n"
     ]
    },
    {
     "name": "stdout",
     "output_type": "stream",
     "text": [
      "Validation: {'precision': 46.3085, 'recall': 34.6278, 'f1': 37.6026, 'auc': 77.0896, 'prauc': 42.2099}\n",
      "Test:      {'precision': 46.7885, 'recall': 34.9727, 'f1': 37.681, 'auc': 77.2614, 'prauc': 42.7812}\n",
      "\n",
      "Validation-long: {'precision': 46.529, 'recall': 36.9005, 'f1': 38.255, 'auc': 77.5519, 'prauc': 43.1454}\n",
      "Test-long: {'precision': 45.374, 'recall': 39.5017, 'f1': 41.0886, 'auc': 77.4259, 'prauc': 45.7791}\n",
      "\n"
     ]
    },
    {
     "name": "stderr",
     "output_type": "stream",
     "text": [
      "Epoch 015: 100%|██████████| 215/215 [00:14<00:00, 14.76it/s, loss=0.1965]\n",
      "Running inference: 100%|██████████| 158/158 [00:07<00:00, 21.49it/s]\n",
      "Running inference: 100%|██████████| 159/159 [00:07<00:00, 21.52it/s]\n"
     ]
    },
    {
     "name": "stdout",
     "output_type": "stream",
     "text": [
      "Validation: {'precision': 44.9416, 'recall': 35.1693, 'f1': 37.5246, 'auc': 76.5437, 'prauc': 41.8292}\n",
      "Test:      {'precision': 44.4698, 'recall': 35.5628, 'f1': 37.7064, 'auc': 76.9259, 'prauc': 42.5748}\n",
      "\n",
      "Validation-long: {'precision': 46.3686, 'recall': 37.0144, 'f1': 38.1752, 'auc': 77.4599, 'prauc': 42.8614}\n",
      "Test-long: {'precision': 44.4991, 'recall': 38.9059, 'f1': 40.1166, 'auc': 77.8516, 'prauc': 45.8386}\n",
      "\n"
     ]
    },
    {
     "name": "stderr",
     "output_type": "stream",
     "text": [
      "Epoch 016: 100%|██████████| 215/215 [00:14<00:00, 14.91it/s, loss=0.1913]\n",
      "Running inference: 100%|██████████| 158/158 [00:07<00:00, 21.37it/s]\n",
      "Running inference: 100%|██████████| 159/159 [00:07<00:00, 20.40it/s]\n"
     ]
    },
    {
     "name": "stdout",
     "output_type": "stream",
     "text": [
      "Validation: {'precision': 43.0902, 'recall': 35.7009, 'f1': 37.7321, 'auc': 76.8405, 'prauc': 41.703}\n",
      "Test:      {'precision': 46.9385, 'recall': 36.2509, 'f1': 38.4373, 'auc': 76.8561, 'prauc': 42.3342}\n",
      "\n",
      "Validation-long: {'precision': 48.5071, 'recall': 36.5374, 'f1': 38.3167, 'auc': 76.9152, 'prauc': 42.7458}\n",
      "Test-long: {'precision': 46.0801, 'recall': 37.9719, 'f1': 40.1511, 'auc': 76.5925, 'prauc': 45.621}\n",
      "\n"
     ]
    },
    {
     "name": "stderr",
     "output_type": "stream",
     "text": [
      "Epoch 017: 100%|██████████| 215/215 [00:14<00:00, 14.93it/s, loss=0.1853]\n",
      "Running inference: 100%|██████████| 158/158 [00:07<00:00, 21.41it/s]\n",
      "Running inference: 100%|██████████| 159/159 [00:07<00:00, 21.44it/s]\n"
     ]
    },
    {
     "name": "stdout",
     "output_type": "stream",
     "text": [
      "Validation: {'precision': 45.9117, 'recall': 34.1811, 'f1': 36.7699, 'auc': 76.6393, 'prauc': 41.5871}\n",
      "Test:      {'precision': 45.2769, 'recall': 34.1885, 'f1': 36.7353, 'auc': 76.5359, 'prauc': 42.1894}\n",
      "\n",
      "Validation-long: {'precision': 48.6427, 'recall': 36.1952, 'f1': 37.8755, 'auc': 76.0861, 'prauc': 42.4422}\n",
      "Test-long: {'precision': 43.9902, 'recall': 36.8581, 'f1': 38.8775, 'auc': 77.3775, 'prauc': 45.5014}\n",
      "\n"
     ]
    },
    {
     "name": "stderr",
     "output_type": "stream",
     "text": [
      "Epoch 018: 100%|██████████| 215/215 [00:14<00:00, 14.85it/s, loss=0.1802]\n",
      "Running inference: 100%|██████████| 158/158 [00:07<00:00, 21.46it/s]\n",
      "Running inference: 100%|██████████| 159/159 [00:07<00:00, 21.37it/s]\n"
     ]
    },
    {
     "name": "stdout",
     "output_type": "stream",
     "text": [
      "Validation: {'precision': 46.1848, 'recall': 34.1336, 'f1': 36.8092, 'auc': 76.2639, 'prauc': 41.367}\n",
      "Test:      {'precision': 45.1747, 'recall': 34.7001, 'f1': 37.209, 'auc': 76.1188, 'prauc': 41.877}\n",
      "\n",
      "Validation-long: {'precision': 46.9712, 'recall': 36.9703, 'f1': 38.388, 'auc': 75.704, 'prauc': 42.2376}\n",
      "Test-long: {'precision': 44.1653, 'recall': 38.4928, 'f1': 40.1869, 'auc': 76.1914, 'prauc': 45.3408}\n",
      "\n",
      "\n",
      "Early stopping triggered (no improvement for 5 epochs).\n",
      "\n",
      "Best validation performance:\n",
      "{'global': {'precision': 45.9334, 'recall': 37.8486, 'f1': 38.6688, 'auc': 77.1726, 'prauc': 42.3949}, 'per_class':                                            precision   recall       f1  \\\n",
      "Acute and unspecified renal failure          42.0267  46.2403  44.0329   \n",
      "Acute cerebrovascular disease                 0.0000   0.0000   0.0000   \n",
      "Acute myocardial infarction                  23.0769   1.4925   2.8037   \n",
      "Cardiac dysrhythmias                         76.9231  65.0110  70.4671   \n",
      "Chronic kidney disease                       77.3177  73.8607  75.5497   \n",
      "Chronic obstructive pulmonary disease        57.1744  57.8125  57.4917   \n",
      "Conduction disorders                          0.0000   0.0000   0.0000   \n",
      "Congestive heart failure; nonhypertensive    74.9764  70.1413  72.4783   \n",
      "Coronary atherosclerosis and related         77.4454  78.7182  78.0766   \n",
      "Disorders of lipid metabolism                74.8934  74.2600  74.5754   \n",
      "Essential hypertension                       74.4040  78.7994  76.5386   \n",
      "Fluid and electrolyte disorders              45.6633  44.1430  44.8903   \n",
      "Gastrointestinal hemorrhage                  33.3333   0.6803   1.3333   \n",
      "Hypertension with complications              68.9915  72.8358  70.8616   \n",
      "Other liver diseases                          0.0000   0.0000   0.0000   \n",
      "Other lower respiratory disease              42.1456  14.1753  21.2150   \n",
      "Pneumonia                                    37.5000   0.8197   1.6043   \n",
      "Septicemia (except in labor)                 20.9302   2.2843   4.1190   \n",
      "\n",
      "                                               auc    prauc  \n",
      "Acute and unspecified renal failure        71.0906  40.4525  \n",
      "Acute cerebrovascular disease              69.7868   1.6516  \n",
      "Acute myocardial infarction                76.0006  14.5139  \n",
      "Cardiac dysrhythmias                       84.8554  75.9912  \n",
      "Chronic kidney disease                     91.8317  82.5715  \n",
      "Chronic obstructive pulmonary disease      87.0708  48.9796  \n",
      "Conduction disorders                       74.7514   6.8185  \n",
      "Congestive heart failure; nonhypertensive  89.7207  76.2691  \n",
      "Coronary atherosclerosis and related       92.8657  81.6725  \n",
      "Disorders of lipid metabolism              87.1763  75.5472  \n",
      "Essential hypertension                     85.6910  78.2017  \n",
      "Fluid and electrolyte disorders            64.9526  44.1842  \n",
      "Gastrointestinal hemorrhage                61.6939   4.6704  \n",
      "Hypertension with complications            91.0769  75.1905  \n",
      "Other liver diseases                       63.7024   1.7559  \n",
      "Other lower respiratory disease            67.5983  29.9543  \n",
      "Pneumonia                                  64.5916  12.2151  \n",
      "Septicemia (except in labor)               64.6494  12.4682  }\n",
      "Corresponding test performance:\n",
      "{'global': {'precision': 43.3392, 'recall': 38.2778, 'f1': 38.8757, 'auc': 77.3701, 'prauc': 43.0827}, 'per_class':                                            precision   recall       f1  \\\n",
      "Acute and unspecified renal failure          41.4673  44.8663  43.0999   \n",
      "Acute cerebrovascular disease                 0.0000   0.0000   0.0000   \n",
      "Acute myocardial infarction                  35.7143   2.6042   4.8544   \n",
      "Cardiac dysrhythmias                         74.4208  60.5124  66.7498   \n",
      "Chronic kidney disease                       80.2542  74.7435  77.4009   \n",
      "Chronic obstructive pulmonary disease        57.2687  61.0329  59.0909   \n",
      "Conduction disorders                          0.0000   0.0000   0.0000   \n",
      "Congestive heart failure; nonhypertensive    74.6824  71.1322  72.8641   \n",
      "Coronary atherosclerosis and related         75.5303  79.8239  77.6178   \n",
      "Disorders of lipid metabolism                75.5808  76.2398  75.9088   \n",
      "Essential hypertension                       74.3030  79.7109  76.9120   \n",
      "Fluid and electrolyte disorders              44.7385  44.7385  44.7385   \n",
      "Gastrointestinal hemorrhage                   0.0000   0.0000   0.0000   \n",
      "Hypertension with complications              72.9443  77.2472  75.0341   \n",
      "Other liver diseases                          0.0000   0.0000   0.0000   \n",
      "Other lower respiratory disease              45.0185  14.2523  21.6504   \n",
      "Pneumonia                                    10.0000   0.2571   0.5013   \n",
      "Septicemia (except in labor)                 18.1818   1.8391   3.3403   \n",
      "\n",
      "                                               auc    prauc  \n",
      "Acute and unspecified renal failure        72.8313  41.8577  \n",
      "Acute cerebrovascular disease              66.4880   2.1890  \n",
      "Acute myocardial infarction                78.1148  13.2196  \n",
      "Cardiac dysrhythmias                       83.0699  72.0773  \n",
      "Chronic kidney disease                     92.1134  84.5915  \n",
      "Chronic obstructive pulmonary disease      87.7622  52.1658  \n",
      "Conduction disorders                       73.5879   7.9704  \n",
      "Congestive heart failure; nonhypertensive  90.3233  77.4286  \n",
      "Coronary atherosclerosis and related       92.8649  80.3532  \n",
      "Disorders of lipid metabolism              87.9807  75.5338  \n",
      "Essential hypertension                     86.3001  77.8907  \n",
      "Fluid and electrolyte disorders            65.3811  44.4907  \n",
      "Gastrointestinal hemorrhage                62.0266   6.6292  \n",
      "Hypertension with complications            92.2772  78.0326  \n",
      "Other liver diseases                       64.7981   1.5852  \n",
      "Other lower respiratory disease            66.2049  32.6777  \n",
      "Pneumonia                                  63.5030  12.1463  \n",
      "Septicemia (except in labor)               67.0346  14.6488  }\n",
      "Corresponding test-long performance:\n",
      "{'global': {'precision': 45.1761, 'recall': 42.0315, 'f1': 41.4986, 'auc': 78.7467, 'prauc': 46.3409}, 'per_class':                                            precision   recall       f1  \\\n",
      "Acute and unspecified renal failure          46.5940  62.1818  53.2710   \n",
      "Acute cerebrovascular disease                 0.0000   0.0000   0.0000   \n",
      "Acute myocardial infarction                  25.0000   3.3333   5.8824   \n",
      "Cardiac dysrhythmias                         83.7838  62.2490  71.4286   \n",
      "Chronic kidney disease                       81.0726  80.5643  80.8176   \n",
      "Chronic obstructive pulmonary disease        53.6842  66.2338  59.3023   \n",
      "Conduction disorders                          0.0000   0.0000   0.0000   \n",
      "Congestive heart failure; nonhypertensive    82.5397  77.0370  79.6935   \n",
      "Coronary atherosclerosis and related         75.3086  86.7299  80.6167   \n",
      "Disorders of lipid metabolism                72.2222  67.9443  70.0180   \n",
      "Essential hypertension                       74.9175  76.4310  75.6667   \n",
      "Fluid and electrolyte disorders              48.3607  66.1064  55.8580   \n",
      "Gastrointestinal hemorrhage                   0.0000   0.0000   0.0000   \n",
      "Hypertension with complications              71.9472  84.4961  77.7184   \n",
      "Other liver diseases                          0.0000   0.0000   0.0000   \n",
      "Other lower respiratory disease              64.4068  19.4872  29.9213   \n",
      "Pneumonia                                     0.0000   0.0000   0.0000   \n",
      "Septicemia (except in labor)                 33.3333   3.7736   6.7797   \n",
      "\n",
      "                                               auc    prauc  \n",
      "Acute and unspecified renal failure        71.7719  50.2925  \n",
      "Acute cerebrovascular disease              80.8066   0.5781  \n",
      "Acute myocardial infarction                78.6682  10.6645  \n",
      "Cardiac dysrhythmias                       85.2229  76.5619  \n",
      "Chronic kidney disease                     91.8971  89.5007  \n",
      "Chronic obstructive pulmonary disease      89.3593  50.0674  \n",
      "Conduction disorders                       66.6602   3.1780  \n",
      "Congestive heart failure; nonhypertensive  92.3875  87.3712  \n",
      "Coronary atherosclerosis and related       94.5711  79.3214  \n",
      "Disorders of lipid metabolism              89.5926  77.6576  \n",
      "Essential hypertension                     88.3341  77.9087  \n",
      "Fluid and electrolyte disorders            63.7581  53.4689  \n",
      "Gastrointestinal hemorrhage                61.8685  11.7557  \n",
      "Hypertension with complications            92.4394  84.0686  \n",
      "Other liver diseases                       75.7957   3.9687  \n",
      "Other lower respiratory disease            66.9562  44.1842  \n",
      "Pneumonia                                  61.5536  12.9016  \n",
      "Septicemia (except in labor)               65.7970  20.6867  }\n"
     ]
    }
   ],
   "source": [
    "final_metrics, final_long_seq_metrics = [], []\n",
    "for i in range(15):\n",
    "    print(f\"================================{i+1}==================================\")\n",
    "    model = HeteroGTFineTune(tokenizer=tokenizer, token_types=config.token_type, d_model=config.d_model, num_heads=config.num_heads, layer_types=['gnn', 'tf', 'gnn', 'tf'], max_num_adms=config.max_num_adms, \n",
    "                     device=device, task=curr_task, label_vocab_size=config.label_vocab_size, attn_mask_dicts=config.attn_mask_dicts,\n",
    "                     use_cls_cat=True).to(device)\n",
    "    if config.use_pretrained_model:\n",
    "        model.load_weight(state_dict)\n",
    "    optimizer = torch.optim.AdamW(model.parameters(), lr=config.lr)\n",
    "    best_test_metric, best_test_long_seq_metric = train_with_early_stopping(model, train_dataloader, val_dataloader, test_dataloader,\n",
    "                                                                            optimizer, loss_fn, device, config.early_stop_patience, task_type, config.epochs, \n",
    "                                                                            dec_loss_lambda=config.dec_loss_lambda, \n",
    "                                                                            val_long_seq_idx=val_long_seq_idx, test_long_seq_idx=test_long_seq_idx, \n",
    "                                                                            eval_metric=eval_metric, return_model=False)\n",
    "    final_metrics.append(best_test_metric)\n",
    "    final_long_seq_metrics.append(best_test_long_seq_metric)"
   ]
  },
  {
   "cell_type": "code",
   "execution_count": 18,
   "id": "69b5b571",
   "metadata": {},
   "outputs": [],
   "source": [
    "def topk_avg_performance_formatted(performances, long_seq_performances, k=5):\n",
    "    metrics = [\"f1\", \"auc\", \"prauc\"]\n",
    "    scores = {m: np.array([p[m] for p in performances]) for m in metrics}\n",
    "\n",
    "    # 计算排名（值越大排名越靠前）\n",
    "    ranks = {m: (-scores[m]).argsort().argsort() + 1 for m in metrics}\n",
    "    avg_ranks = np.mean(np.stack([ranks[m] for m in metrics], axis=1), axis=1)\n",
    "\n",
    "    # 选 top-k\n",
    "    topk_idx = np.argsort(avg_ranks)[:k]\n",
    "    final_avg = {m: np.mean([performances[i][m] for i in topk_idx]) for m in performances[0].keys()}\n",
    "    final_std = {m: np.std([performances[i][m] for i in topk_idx], ddof=0) for m in performances[0].keys()}\n",
    "    final_long_seq_avg = {m: np.mean([long_seq_performances[i][m] for i in topk_idx]) for m in long_seq_performances[0].keys()}\n",
    "    final_long_seq_std = {m: np.std([long_seq_performances[i][m] for i in topk_idx], ddof=0) for m in long_seq_performances[0].keys()}\n",
    "\n",
    "    # 打印结果（转百分比，均保留两位小数）\n",
    "    print(\"Final Metrics:\")\n",
    "    for m in performances[0].keys():\n",
    "        mean_val = final_avg[m]\n",
    "        std_val = final_std[m]\n",
    "        print(f\"{m}: {mean_val:.2f} ± {std_val:.2f}\")\n",
    "    print(\"\\nFinal Long Sequence Metrics:\")\n",
    "    for m in long_seq_performances[0].keys():\n",
    "        mean_val = final_long_seq_avg[m]\n",
    "        std_val = final_long_seq_std[m]\n",
    "        print(f\"{m}: {mean_val:.2f} ± {std_val:.2f}\")"
   ]
  },
  {
   "cell_type": "code",
   "execution_count": 19,
   "id": "0a607e31",
   "metadata": {},
   "outputs": [],
   "source": [
    "def print_per_class_performance(dfs, col_name=\"prauc\"):\n",
    "    \"\"\"\n",
    "    输入一个 DataFrame 列表，对每个疾病在所有表格的指定列计算 mean ± std 并打印。\n",
    "\n",
    "    参数:\n",
    "        dfs (list[pd.DataFrame]): 多个表格组成的列表\n",
    "        col_name (str): 要计算的指标列名 (默认: \"prauc\")\n",
    "    \"\"\"\n",
    "    # 拼接所有表格\n",
    "    all_values = pd.concat(dfs, axis=0)\n",
    "\n",
    "    # 按疾病分组，计算 mean 和 std\n",
    "    grouped = all_values.groupby(all_values.index)[col_name].agg([\"mean\", \"std\"])\n",
    "\n",
    "    # 打印\n",
    "    for disease, row in grouped.iterrows():\n",
    "        mean_val = row[\"mean\"]\n",
    "        std_val = row[\"std\"]\n",
    "        print(f\"{disease}: {mean_val:.2f} ± {std_val:.2f}\")"
   ]
  },
  {
   "cell_type": "code",
   "execution_count": 20,
   "id": "e12dd11d-4936-466a-9a97-e10f223539fc",
   "metadata": {
    "tags": []
   },
   "outputs": [
    {
     "name": "stdout",
     "output_type": "stream",
     "text": [
      "Final Metrics:\n",
      "precision: 44.57 ± 2.02\n",
      "recall: 38.21 ± 0.55\n",
      "f1: 39.59 ± 0.10\n",
      "auc: 78.84 ± 0.10\n",
      "prauc: 44.57 ± 0.08\n",
      "\n",
      "Final Long Sequence Metrics:\n",
      "precision: 43.51 ± 0.91\n",
      "recall: 41.22 ± 0.84\n",
      "f1: 41.42 ± 0.22\n",
      "auc: 79.20 ± 0.52\n",
      "prauc: 47.23 ± 0.28\n",
      "\n",
      "Per-class performance, all patients:\n",
      "Acute and unspecified renal failure: 41.98 ± 1.79\n",
      "Acute cerebrovascular disease: 2.78 ± 0.62\n",
      "Acute myocardial infarction: 12.58 ± 0.81\n",
      "Cardiac dysrhythmias: 73.17 ± 1.45\n",
      "Chronic kidney disease: 86.15 ± 1.56\n",
      "Chronic obstructive pulmonary disease: 52.23 ± 1.68\n",
      "Conduction disorders: 7.64 ± 0.73\n",
      "Congestive heart failure; nonhypertensive: 77.53 ± 1.23\n",
      "Coronary atherosclerosis and related: 81.87 ± 1.18\n",
      "Disorders of lipid metabolism: 76.29 ± 0.87\n",
      "Essential hypertension: 79.20 ± 1.11\n",
      "Fluid and electrolyte disorders: 45.16 ± 1.61\n",
      "Gastrointestinal hemorrhage: 6.66 ± 0.66\n",
      "Hypertension with complications: 80.07 ± 2.10\n",
      "Other liver diseases: 2.05 ± 0.52\n",
      "Other lower respiratory disease: 35.20 ± 2.17\n",
      "Pneumonia: 12.35 ± 0.57\n",
      "Septicemia (except in labor): 15.71 ± 1.10\n",
      "\n",
      "Per-class performance, long seq:\n",
      "Acute and unspecified renal failure: 48.81 ± 2.06\n",
      "Acute cerebrovascular disease: 0.32 ± 0.17\n",
      "Acute myocardial infarction: 10.91 ± 2.44\n",
      "Cardiac dysrhythmias: 76.01 ± 1.21\n",
      "Chronic kidney disease: 89.53 ± 0.85\n",
      "Chronic obstructive pulmonary disease: 50.04 ± 2.64\n",
      "Conduction disorders: 5.13 ± 1.86\n",
      "Congestive heart failure; nonhypertensive: 87.03 ± 1.64\n",
      "Coronary atherosclerosis and related: 81.84 ± 1.48\n",
      "Disorders of lipid metabolism: 80.08 ± 1.52\n",
      "Essential hypertension: 80.30 ± 1.63\n",
      "Fluid and electrolyte disorders: 51.84 ± 1.82\n",
      "Gastrointestinal hemorrhage: 9.09 ± 1.85\n",
      "Hypertension with complications: 83.53 ± 1.49\n",
      "Other liver diseases: 5.36 ± 2.91\n",
      "Other lower respiratory disease: 46.80 ± 2.18\n",
      "Pneumonia: 13.56 ± 0.90\n",
      "Septicemia (except in labor): 21.36 ± 1.78\n"
     ]
    }
   ],
   "source": [
    "if task_type == \"binary\":\n",
    "    topk_avg_performance_formatted(final_metrics, final_long_seq_metrics)\n",
    "else:\n",
    "    final_metrics_global = [metrics[\"global\"] for metrics in final_metrics]\n",
    "    final_metrics_per_class = [metrics[\"per_class\"] for metrics in final_metrics]\n",
    "    final_long_seq_metrics_global = [metrics[\"global\"] for metrics in final_long_seq_metrics]\n",
    "    final_long_seq_metrics_per_class = [metrics[\"per_class\"] for metrics in final_long_seq_metrics]\n",
    "    topk_avg_performance_formatted(final_metrics_global, final_long_seq_metrics_global)\n",
    "    print(\"\\nPer-class performance, all patients:\")\n",
    "    print_per_class_performance(final_metrics_per_class, col_name=\"prauc\")\n",
    "    print(\"\\nPer-class performance, long seq:\")\n",
    "    print_per_class_performance(final_long_seq_metrics_per_class, col_name=\"prauc\")"
   ]
  }
 ],
 "metadata": {
  "kernelspec": {
   "display_name": "heart-cuda",
   "language": "python",
   "name": "heart-cuda"
  },
  "language_info": {
   "codemirror_mode": {
    "name": "ipython",
    "version": 3
   },
   "file_extension": ".py",
   "mimetype": "text/x-python",
   "name": "python",
   "nbconvert_exporter": "python",
   "pygments_lexer": "ipython3",
   "version": "3.10.18"
  }
 },
 "nbformat": 4,
 "nbformat_minor": 5
}
