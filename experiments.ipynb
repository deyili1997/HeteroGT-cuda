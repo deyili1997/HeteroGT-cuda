{
 "cells": [
  {
   "cell_type": "code",
   "execution_count": 1,
   "id": "9bc53801",
   "metadata": {},
   "outputs": [
    {
     "name": "stderr",
     "output_type": "stream",
     "text": [
      "Disabling PyTorch because PyTorch >= 2.1 is required but found 1.13.1\n",
      "None of PyTorch, TensorFlow >= 2.0, or Flax have been found. Models won't be available and only tokenizers, configuration and file/data utilities can be used.\n"
     ]
    }
   ],
   "source": [
    "import torch\n",
    "import pickle\n",
    "import numpy as np\n",
    "from argparse import Namespace\n",
    "from torch.utils.data import DataLoader\n",
    "import torch.nn.functional as F\n",
    "from heterogt.utils.tokenizer import EHRTokenizer\n",
    "from heterogt.utils.dataset import FineTuneEHRDataset, batcher, expand_level3\n",
    "from heterogt.utils.train import train_with_early_stopping\n",
    "from heterogt.utils.seed import set_random_seed\n",
    "from heterogt.model.model import HeteroGT"
   ]
  },
  {
   "cell_type": "code",
   "execution_count": 2,
   "id": "c42d3e09",
   "metadata": {},
   "outputs": [
    {
     "name": "stdout",
     "output_type": "stream",
     "text": [
      "[INFO] Random seed set to 123\n"
     ]
    }
   ],
   "source": [
    "set_random_seed(123)"
   ]
  },
  {
   "cell_type": "code",
   "execution_count": 3,
   "id": "af3d65aa",
   "metadata": {},
   "outputs": [
    {
     "name": "stdout",
     "output_type": "stream",
     "text": [
      "cuda\n"
     ]
    }
   ],
   "source": [
    "device = torch.device(\"cuda\" if torch.cuda.is_available() else \"cpu\")\n",
    "print(device)"
   ]
  },
  {
   "cell_type": "code",
   "execution_count": 4,
   "id": "d073b89b",
   "metadata": {},
   "outputs": [],
   "source": [
    "config = Namespace(\n",
    "    dataset = \"MIMIC-III\",\n",
    "    tasks = [\"death\", \"readmission\", \"stay\", \"next_diag_6m\", \"next_diag_12m\"], \n",
    "    task_index = 0,  # index of the task to train\n",
    "    token_type = [\"diag\", \"med\", \"lab\", \"pro\"],\n",
    "    special_tokens = [\"[PAD]\"],\n",
    "    batch_size = 32,\n",
    "    lr = 1e-3,\n",
    "    epochs = 500,\n",
    "    early_stop_patience = 5,\n",
    "    group_code_thre = 5,  # if there are group_code_thre diag codes belongs to the same group ICD code, then the group code is generated\n",
    ")"
   ]
  },
  {
   "cell_type": "code",
   "execution_count": 5,
   "id": "bbe56943",
   "metadata": {},
   "outputs": [
    {
     "name": "stdout",
     "output_type": "stream",
     "text": [
      "Current task: death\n"
     ]
    }
   ],
   "source": [
    "full_data_path = f\"./data_process/{config.dataset}-processed/mimic.pkl\"  # for tokenizer\n",
    "curr_task = config.tasks[config.task_index]\n",
    "print(\"Current task:\", curr_task)\n",
    "if curr_task == \"next_diag_6m\":\n",
    "    finetune_data_path = f\"./data_process/{config.dataset}-processed/mimic_nextdiag_6m.pkl\"\n",
    "elif curr_task == \"next_diag_12m\":\n",
    "    finetune_data_path = f\"./data_process/{config.dataset}-processed/mimic_nextdiag_12m.pkl\"\n",
    "else:\n",
    "    finetune_data_path = f\"./data_process/{config.dataset}-processed/mimic_downstream.pkl\""
   ]
  },
  {
   "cell_type": "code",
   "execution_count": 6,
   "id": "57d4378a",
   "metadata": {},
   "outputs": [
    {
     "name": "stdout",
     "output_type": "stream",
     "text": [
      "Max admissions per patient: 8\n"
     ]
    }
   ],
   "source": [
    "ehr_full_data = pickle.load(open(full_data_path, 'rb'))\n",
    "group_code_sentences = [expand_level3()[1]]\n",
    "diag_sentences = ehr_full_data[\"ICD9_CODE\"].values.tolist()\n",
    "med_sentences = ehr_full_data[\"NDC\"].values.tolist()\n",
    "lab_sentences = ehr_full_data[\"LAB_TEST\"].values.tolist()\n",
    "pro_sentences = ehr_full_data[\"PRO_CODE\"].values.tolist()\n",
    "age_sentences = [[str(c)] for c in set(ehr_full_data[\"AGE\"].values.tolist())] # important of [[]]\n",
    "token_type_sentences = [\"[PAD]\"] + config.token_type\n",
    "max_admissions = ehr_full_data.groupby(\"SUBJECT_ID\")[\"HADM_ID\"].nunique().max()\n",
    "config.max_num_adms = max_admissions\n",
    "print(f\"Max admissions per patient: {config.max_num_adms}\")"
   ]
  },
  {
   "cell_type": "code",
   "execution_count": 7,
   "id": "a8db4baa",
   "metadata": {},
   "outputs": [
    {
     "name": "stdout",
     "output_type": "stream",
     "text": [
      "Age vocabulary size: 18\n",
      "Group code vocabulary size: 19\n"
     ]
    }
   ],
   "source": [
    "task_sentences = config.tasks\n",
    "tokenizer = EHRTokenizer(age_sentences, group_code_sentences, diag_sentences, med_sentences, lab_sentences, \n",
    "                         pro_sentences, special_tokens=config.special_tokens)\n",
    "config.label_vocab_size = len(tokenizer.diag_voc.id2word)  # only for diagnosis\n",
    "config.global_vocab_size = len(tokenizer.vocab.id2word)\n",
    "config.age_vocab_size = tokenizer.token_number(\"age\")\n",
    "config.group_code_vocab_size = tokenizer.token_number(\"group\")\n",
    "print(f\"Age vocabulary size: {config.age_vocab_size}\")\n",
    "print(f\"Group code vocabulary size: {config.group_code_vocab_size}\")\n"
   ]
  },
  {
   "cell_type": "code",
   "execution_count": 8,
   "id": "4a50b960",
   "metadata": {},
   "outputs": [
    {
     "name": "stdout",
     "output_type": "stream",
     "text": [
      "Percentage of DEATH in test dataset: 28.648477157360407 %\n",
      "Percentage of READMISSION in test dataset: 40.1491116751269 %\n",
      "Percentage of STAY>7 days in test dataset: 50.58692893401015 %\n"
     ]
    }
   ],
   "source": [
    "train_data, val_data, test_data = pickle.load(open(finetune_data_path, 'rb'))\n",
    "# example label percentage\n",
    "print(\"Percentage of DEATH in test dataset:\",\n",
    "      (test_data[\"DEATH\"] == True).mean() * 100, \"%\")\n",
    "\n",
    "print(\"Percentage of READMISSION in test dataset:\",\n",
    "      (test_data[\"READMISSION\"] == 1).mean() * 100, \"%\")\n",
    "\n",
    "print(\"Percentage of STAY>7 days in test dataset:\",\n",
    "      (test_data[\"STAY_DAYS\"] > 7).mean() * 100, \"%\")"
   ]
  },
  {
   "cell_type": "code",
   "execution_count": 9,
   "id": "09f0ec18",
   "metadata": {},
   "outputs": [],
   "source": [
    "train_dataset = FineTuneEHRDataset(train_data, tokenizer, token_type=config.token_type, task=curr_task, \n",
    "                                   max_num_adms=config.max_num_adms, group_code_thre=config.group_code_thre)\n",
    "val_dataset = FineTuneEHRDataset(val_data, tokenizer, token_type=config.token_type, task=curr_task, \n",
    "                                 max_num_adms=config.max_num_adms, group_code_thre=config.group_code_thre)\n",
    "test_dataset = FineTuneEHRDataset(test_data, tokenizer, token_type=config.token_type, task=curr_task, \n",
    "                                   max_num_adms=config.max_num_adms, group_code_thre=config.group_code_thre)"
   ]
  },
  {
   "cell_type": "code",
   "execution_count": 10,
   "id": "98c78018",
   "metadata": {},
   "outputs": [
    {
     "name": "stdout",
     "output_type": "stream",
     "text": [
      "Mean group token numer per patient 0.7971893963589908\n"
     ]
    }
   ],
   "source": [
    "num_group_code = []\n",
    "for i in range(len(train_dataset)):\n",
    "    input_ids, token_types, adm_index, age_ids, diag_group_codes, labels = train_dataset[i]\n",
    "    count = (token_types[0] == 5).sum().item()\n",
    "    num_group_code.append(count)\n",
    "print(\"Mean group token numer per patient\", np.mean(num_group_code))"
   ]
  },
  {
   "cell_type": "code",
   "execution_count": 11,
   "id": "d71f325f",
   "metadata": {},
   "outputs": [],
   "source": [
    "train_dataloader = DataLoader(\n",
    "    train_dataset,\n",
    "    collate_fn=batcher(tokenizer, config.task_index, n_token_type=len(config.token_type), is_pretrain = False),\n",
    "    shuffle=True,\n",
    "    batch_size=config.batch_size,\n",
    ")\n",
    "\n",
    "val_dataloader = DataLoader(\n",
    "    val_dataset,\n",
    "    collate_fn=batcher(tokenizer, config.task_index, n_token_type=len(config.token_type), is_pretrain = False),\n",
    "    shuffle=False,\n",
    "    batch_size=config.batch_size,\n",
    ")\n",
    "\n",
    "test_dataloader = DataLoader(\n",
    "    test_dataset,\n",
    "    collate_fn=batcher(tokenizer, config.task_index, n_token_type=len(config.token_type), is_pretrain = False),\n",
    "    shuffle=False,\n",
    "    batch_size=config.batch_size,\n",
    ")"
   ]
  },
  {
   "cell_type": "code",
   "execution_count": 12,
   "id": "7b46906f",
   "metadata": {},
   "outputs": [],
   "source": [
    "for batch in train_dataloader:\n",
    "    pass  # just to check if the dataloader works\n",
    "for batch in val_dataloader:\n",
    "    pass  # just to check if the dataloader works\n",
    "for batch in test_dataloader:\n",
    "    pass  # just to check if the dataloader works"
   ]
  },
  {
   "cell_type": "code",
   "execution_count": 13,
   "id": "10339a18",
   "metadata": {},
   "outputs": [],
   "source": [
    "if curr_task in [\"death\", \"stay\", \"readmission\"]:\n",
    "    eval_metric = \"f1\"\n",
    "    task_type = \"binary\"\n",
    "    loss_fn = F.binary_cross_entropy_with_logits\n",
    "else:\n",
    "    eval_metric = \"f1\"\n",
    "    task_type = \"l2r\"\n",
    "    loss_fn = lambda x, y: F.binary_cross_entropy_with_logits(x, y)"
   ]
  },
  {
   "cell_type": "code",
   "execution_count": 14,
   "id": "d5717b84",
   "metadata": {},
   "outputs": [
    {
     "name": "stdout",
     "output_type": "stream",
     "text": [
      "Input IDs shape: torch.Size([32, 292])\n",
      "Token Types shape: torch.Size([32, 292])\n",
      "Admission Index shape: torch.Size([32, 292])\n",
      "Age IDs shape: torch.Size([32, 8])\n",
      "Diag Code Group Dict number: 32\n",
      "Task Index: 0\n",
      "Labels shape: torch.Size([32, 1])\n"
     ]
    }
   ],
   "source": [
    "input_ids, token_types, adm_index, age_ids, diag_code_group_dicts, task_index, labels = next(iter(train_dataloader))\n",
    "print(\"Input IDs shape:\", input_ids.shape)\n",
    "print(\"Token Types shape:\", token_types.shape)\n",
    "print(\"Admission Index shape:\", adm_index.shape)\n",
    "print(\"Age IDs shape:\", age_ids.shape)\n",
    "print(\"Diag Code Group Dict number:\", len(diag_code_group_dicts))\n",
    "print(\"Task Index:\", task_index)\n",
    "print(\"Labels shape:\", labels.shape)"
   ]
  },
  {
   "cell_type": "markdown",
   "id": "814e9e16",
   "metadata": {},
   "source": [
    "# Model Walkthrough"
   ]
  },
  {
   "cell_type": "code",
   "execution_count": 15,
   "id": "f0fed5f6-b245-4bc3-b252-f6af0756f18a",
   "metadata": {
    "tags": []
   },
   "outputs": [
    {
     "name": "stderr",
     "output_type": "stream",
     "text": [
      "Epoch 001: 100%|██████████| 98/98 [00:04<00:00, 21.80it/s, loss=0.5206]\n",
      "Running inference: 100%|██████████| 198/198 [00:04<00:00, 40.43it/s]\n",
      "Running inference: 100%|██████████| 197/197 [00:04<00:00, 40.00it/s]\n"
     ]
    },
    {
     "name": "stdout",
     "output_type": "stream",
     "text": [
      "Validation: {'precision': 0.7319587628803097, 'recall': 0.502062463167342, 'f1': 0.5955959406429828, 'auc': 0.85450312655646, 'prauc': 0.7037385391621366}\n",
      "Test:      {'precision': 0.7547008546944043, 'recall': 0.48892580287658405, 'f1': 0.5934139737189948, 'auc': 0.8528156601654384, 'prauc': 0.7229726690227163}\n"
     ]
    },
    {
     "name": "stderr",
     "output_type": "stream",
     "text": [
      "Epoch 002: 100%|██████████| 98/98 [00:04<00:00, 22.68it/s, loss=0.3962]\n",
      "Running inference: 100%|██████████| 198/198 [00:05<00:00, 37.51it/s]\n",
      "Running inference: 100%|██████████| 197/197 [00:04<00:00, 40.13it/s]\n"
     ]
    },
    {
     "name": "stdout",
     "output_type": "stream",
     "text": [
      "Validation: {'precision': 0.7577125658332754, 'recall': 0.5934001178515416, 'f1': 0.665565097515022, 'auc': 0.8814601991425682, 'prauc': 0.7579248951594755}\n",
      "Test:      {'precision': 0.7841409691572384, 'recall': 0.5913621262425728, 'f1': 0.67424241933638, 'auc': 0.8805681816503164, 'prauc': 0.7738165989497076}\n"
     ]
    },
    {
     "name": "stderr",
     "output_type": "stream",
     "text": [
      "Epoch 003: 100%|██████████| 98/98 [00:04<00:00, 23.38it/s, loss=0.3480]\n",
      "Running inference: 100%|██████████| 198/198 [00:05<00:00, 38.87it/s]\n",
      "Running inference: 100%|██████████| 197/197 [00:04<00:00, 40.21it/s]\n"
     ]
    },
    {
     "name": "stdout",
     "output_type": "stream",
     "text": [
      "Validation: {'precision': 0.7820224719042546, 'recall': 0.6152032999374473, 'f1': 0.6886543486287364, 'auc': 0.8947735646524815, 'prauc': 0.786268185614024}\n",
      "Test:      {'precision': 0.7910983488816146, 'recall': 0.6101882613476735, 'f1': 0.6889652967357982, 'auc': 0.8955238873238605, 'prauc': 0.8030081980070783}\n"
     ]
    },
    {
     "name": "stderr",
     "output_type": "stream",
     "text": [
      "Epoch 004: 100%|██████████| 98/98 [00:04<00:00, 23.66it/s, loss=0.3030]\n",
      "Running inference: 100%|██████████| 198/198 [00:04<00:00, 40.21it/s]\n",
      "Running inference: 100%|██████████| 197/197 [00:04<00:00, 40.06it/s]\n"
     ]
    },
    {
     "name": "stdout",
     "output_type": "stream",
     "text": [
      "Validation: {'precision': 0.7170818505295548, 'recall': 0.7124337065367565, 'f1': 0.7147502166925463, 'auc': 0.8980640783438365, 'prauc': 0.7901937262702552}\n",
      "Test:      {'precision': 0.7429742388715282, 'recall': 0.7026578073050794, 'f1': 0.7222538367755323, 'auc': 0.8966181967425414, 'prauc': 0.7973859982436947}\n"
     ]
    },
    {
     "name": "stderr",
     "output_type": "stream",
     "text": [
      "Epoch 005: 100%|██████████| 98/98 [00:04<00:00, 23.45it/s, loss=0.2767]\n",
      "Running inference: 100%|██████████| 198/198 [00:04<00:00, 40.34it/s]\n",
      "Running inference: 100%|██████████| 197/197 [00:04<00:00, 40.17it/s]\n"
     ]
    },
    {
     "name": "stdout",
     "output_type": "stream",
     "text": [
      "Validation: {'precision': 0.6912568305973156, 'recall': 0.7454331172613705, 'f1': 0.717323499397712, 'auc': 0.8952991603115941, 'prauc': 0.7899319368245424}\n",
      "Test:      {'precision': 0.7090032154302841, 'recall': 0.7325581395308275, 'f1': 0.720588230291528, 'auc': 0.8964172337945695, 'prauc': 0.8030279570415557}\n"
     ]
    },
    {
     "name": "stderr",
     "output_type": "stream",
     "text": [
      "Epoch 006: 100%|██████████| 98/98 [00:04<00:00, 23.59it/s, loss=0.2498]\n",
      "Running inference: 100%|██████████| 198/198 [00:05<00:00, 37.48it/s]\n",
      "Running inference: 100%|██████████| 197/197 [00:04<00:00, 40.05it/s]\n"
     ]
    },
    {
     "name": "stdout",
     "output_type": "stream",
     "text": [
      "Validation: {'precision': 0.662222222218952, 'recall': 0.7902180318162039, 'f1': 0.7205803281891761, 'auc': 0.9018720121876366, 'prauc': 0.8004580794691909}\n",
      "Test:      {'precision': 0.6688836104481288, 'recall': 0.7796234772935791, 'f1': 0.7200204501521079, 'auc': 0.9012630567443043, 'prauc': 0.8139168772055492}\n"
     ]
    },
    {
     "name": "stderr",
     "output_type": "stream",
     "text": [
      "Epoch 007: 100%|██████████| 98/98 [00:04<00:00, 23.27it/s, loss=0.2110]\n",
      "Running inference: 100%|██████████| 198/198 [00:04<00:00, 40.36it/s]\n",
      "Running inference: 100%|██████████| 197/197 [00:04<00:00, 40.23it/s]\n"
     ]
    },
    {
     "name": "stdout",
     "output_type": "stream",
     "text": [
      "Validation: {'precision': 0.7620643431584313, 'recall': 0.670005892747967, 'f1': 0.7130761944517495, 'auc': 0.9031215872848388, 'prauc': 0.8084194975010804}\n",
      "Test:      {'precision': 0.7841207349029914, 'recall': 0.661683277958684, 'f1': 0.7177177127492647, 'auc': 0.9065591844191118, 'prauc': 0.8203935353242968}\n"
     ]
    },
    {
     "name": "stderr",
     "output_type": "stream",
     "text": [
      "Epoch 008: 100%|██████████| 98/98 [00:04<00:00, 23.69it/s, loss=0.2019]\n",
      "Running inference: 100%|██████████| 198/198 [00:04<00:00, 40.46it/s]\n",
      "Running inference: 100%|██████████| 197/197 [00:04<00:00, 40.24it/s]\n"
     ]
    },
    {
     "name": "stdout",
     "output_type": "stream",
     "text": [
      "Validation: {'precision': 0.6422613531017505, 'recall': 0.8167354154341973, 'f1': 0.7190661429276946, 'auc': 0.9025319288664493, 'prauc': 0.8004737379364466}\n",
      "Test:      {'precision': 0.649576460095187, 'recall': 0.8067552602391653, 'f1': 0.7196838676158136, 'auc': 0.9016055246899446, 'prauc': 0.810266386172872}\n"
     ]
    },
    {
     "name": "stderr",
     "output_type": "stream",
     "text": [
      "Epoch 009: 100%|██████████| 98/98 [00:04<00:00, 23.65it/s, loss=0.1822]\n",
      "Running inference: 100%|██████████| 198/198 [00:04<00:00, 40.36it/s]\n",
      "Running inference: 100%|██████████| 197/197 [00:04<00:00, 40.21it/s]\n"
     ]
    },
    {
     "name": "stdout",
     "output_type": "stream",
     "text": [
      "Validation: {'precision': 0.7116170461137676, 'recall': 0.7183264584518662, 'f1': 0.7149560067261223, 'auc': 0.8994435034805304, 'prauc': 0.7977673500354447}\n",
      "Test:      {'precision': 0.7220338983010055, 'recall': 0.7076411960093708, 'f1': 0.7147650956676502, 'auc': 0.89859194217979, 'prauc': 0.8078909039391132}\n"
     ]
    },
    {
     "name": "stderr",
     "output_type": "stream",
     "text": [
      "Epoch 010: 100%|██████████| 98/98 [00:04<00:00, 23.48it/s, loss=0.1489]\n",
      "Running inference: 100%|██████████| 198/198 [00:04<00:00, 40.35it/s]\n",
      "Running inference: 100%|██████████| 197/197 [00:05<00:00, 37.61it/s]\n"
     ]
    },
    {
     "name": "stdout",
     "output_type": "stream",
     "text": [
      "Validation: {'precision': 0.7246200607858686, 'recall': 0.7024160282810701, 'f1': 0.7133452972111846, 'auc': 0.8929647338023095, 'prauc': 0.7941846406590323}\n",
      "Test:      {'precision': 0.723076923072803, 'recall': 0.7026578073050794, 'f1': 0.7127211407425997, 'auc': 0.8936289882989708, 'prauc': 0.8065980149387668}\n"
     ]
    },
    {
     "name": "stderr",
     "output_type": "stream",
     "text": [
      "Epoch 011: 100%|██████████| 98/98 [00:04<00:00, 23.47it/s, loss=0.1299]\n",
      "Running inference: 100%|██████████| 198/198 [00:04<00:00, 40.20it/s]\n",
      "Running inference: 100%|██████████| 197/197 [00:04<00:00, 40.13it/s]\n"
     ]
    },
    {
     "name": "stdout",
     "output_type": "stream",
     "text": [
      "Validation: {'precision': 0.7029876977111718, 'recall': 0.7071302298131578, 'f1': 0.7050528739618233, 'auc': 0.8954678440077559, 'prauc': 0.7874686210856655}\n",
      "Test:      {'precision': 0.7274826789796335, 'recall': 0.6976744186007882, 'f1': 0.7122668124091278, 'auc': 0.8936825989353211, 'prauc': 0.8010876219774745}\n",
      "\n",
      "Early stopping triggered (no improvement for 5 epochs).\n",
      "\n",
      "Best validation performance:\n",
      "{'precision': 0.662222222218952, 'recall': 0.7902180318162039, 'f1': 0.7205803281891761, 'auc': 0.9018720121876366, 'prauc': 0.8004580794691909}\n",
      "Corresponding test performance:\n",
      "{'precision': 0.6688836104481288, 'recall': 0.7796234772935791, 'f1': 0.7200204501521079, 'auc': 0.9012630567443043, 'prauc': 0.8139168772055492}\n"
     ]
    },
    {
     "name": "stderr",
     "output_type": "stream",
     "text": [
      "Epoch 001: 100%|██████████| 98/98 [00:04<00:00, 23.61it/s, loss=0.5352]\n",
      "Running inference: 100%|██████████| 198/198 [00:04<00:00, 40.19it/s]\n",
      "Running inference: 100%|██████████| 197/197 [00:04<00:00, 40.02it/s]\n"
     ]
    },
    {
     "name": "stdout",
     "output_type": "stream",
     "text": [
      "Validation: {'precision': 0.38615346163362624, 'recall': 0.9104301708844407, 'f1': 0.5422955381111433, 'auc': 0.8416761398221138, 'prauc': 0.6906384568136634}\n",
      "Test:      {'precision': 0.41144548593879765, 'recall': 0.9235880398619957, 'f1': 0.569283272184382, 'auc': 0.8458366755348876, 'prauc': 0.7081651165984572}\n"
     ]
    },
    {
     "name": "stderr",
     "output_type": "stream",
     "text": [
      "Epoch 002: 100%|██████████| 98/98 [00:04<00:00, 23.38it/s, loss=0.4220]\n",
      "Running inference: 100%|██████████| 198/198 [00:04<00:00, 40.30it/s]\n",
      "Running inference: 100%|██████████| 197/197 [00:04<00:00, 40.24it/s]\n"
     ]
    },
    {
     "name": "stdout",
     "output_type": "stream",
     "text": [
      "Validation: {'precision': 0.6451282051248968, 'recall': 0.7413081909207937, 'f1': 0.6898820898927772, 'auc': 0.8821189022696101, 'prauc': 0.7517186783017301}\n",
      "Test:      {'precision': 0.6636178861754898, 'recall': 0.7231450719782772, 'f1': 0.692103863580002, 'auc': 0.8771217748062754, 'prauc': 0.762004104966062}\n"
     ]
    },
    {
     "name": "stderr",
     "output_type": "stream",
     "text": [
      "Epoch 003: 100%|██████████| 98/98 [00:04<00:00, 23.46it/s, loss=0.3621]\n",
      "Running inference: 100%|██████████| 198/198 [00:04<00:00, 40.38it/s]\n",
      "Running inference: 100%|██████████| 197/197 [00:05<00:00, 37.75it/s]\n"
     ]
    },
    {
     "name": "stdout",
     "output_type": "stream",
     "text": [
      "Validation: {'precision': 0.7218899521487926, 'recall': 0.7112551561537346, 'f1': 0.7165330908701685, 'auc': 0.8982516678991669, 'prauc': 0.7951543177229051}\n",
      "Test:      {'precision': 0.7382744643848392, 'recall': 0.7059800664412736, 'f1': 0.721766199357316, 'auc': 0.8958346566728069, 'prauc': 0.7994842147868365}\n"
     ]
    },
    {
     "name": "stderr",
     "output_type": "stream",
     "text": [
      "Epoch 004: 100%|██████████| 98/98 [00:04<00:00, 23.55it/s, loss=0.3196]\n",
      "Running inference: 100%|██████████| 198/198 [00:04<00:00, 40.38it/s]\n",
      "Running inference: 100%|██████████| 197/197 [00:04<00:00, 40.12it/s]\n"
     ]
    },
    {
     "name": "stdout",
     "output_type": "stream",
     "text": [
      "Validation: {'precision': 0.8404740200470331, 'recall': 0.5433117265731096, 'f1': 0.6599856788335856, 'auc': 0.9071298210419914, 'prauc': 0.8073367595431001}\n",
      "Test:      {'precision': 0.8528634361158339, 'recall': 0.5359911406393356, 'f1': 0.6582794920256002, 'auc': 0.9032880123416485, 'prauc': 0.8116292923047754}\n"
     ]
    },
    {
     "name": "stderr",
     "output_type": "stream",
     "text": [
      "Epoch 005: 100%|██████████| 98/98 [00:04<00:00, 23.45it/s, loss=0.2687]\n",
      "Running inference: 100%|██████████| 198/198 [00:04<00:00, 40.47it/s]\n",
      "Running inference: 100%|██████████| 197/197 [00:04<00:00, 40.38it/s]\n"
     ]
    },
    {
     "name": "stdout",
     "output_type": "stream",
     "text": [
      "Validation: {'precision': 0.6946658491680279, 'recall': 0.6676487919819232, 'f1': 0.6808894180747979, 'auc': 0.8852418180742825, 'prauc': 0.7763218327075245}\n",
      "Test:      {'precision': 0.7370689655127028, 'recall': 0.6627906976707487, 'f1': 0.6979591786834773, 'auc': 0.884676442883191, 'prauc': 0.7829639458686638}\n"
     ]
    },
    {
     "name": "stderr",
     "output_type": "stream",
     "text": [
      "Epoch 006: 100%|██████████| 98/98 [00:04<00:00, 23.70it/s, loss=0.2436]\n",
      "Running inference: 100%|██████████| 198/198 [00:04<00:00, 40.38it/s]\n",
      "Running inference: 100%|██████████| 197/197 [00:04<00:00, 40.20it/s]\n"
     ]
    },
    {
     "name": "stdout",
     "output_type": "stream",
     "text": [
      "Validation: {'precision': 0.7843551796984894, 'recall': 0.6558632881517038, 'f1': 0.7143774019671771, 'auc': 0.9087198293465176, 'prauc': 0.8118720141246567}\n",
      "Test:      {'precision': 0.7865319865266901, 'recall': 0.64673311184581, 'f1': 0.7098146410475097, 'auc': 0.9042851947980326, 'prauc': 0.815570682190862}\n"
     ]
    },
    {
     "name": "stderr",
     "output_type": "stream",
     "text": [
      "Epoch 007: 100%|██████████| 98/98 [00:04<00:00, 23.47it/s, loss=0.2269]\n",
      "Running inference: 100%|██████████| 198/198 [00:04<00:00, 40.39it/s]\n",
      "Running inference: 100%|██████████| 197/197 [00:05<00:00, 37.62it/s]\n"
     ]
    },
    {
     "name": "stdout",
     "output_type": "stream",
     "text": [
      "Validation: {'precision': 0.892768079789367, 'recall': 0.4219210371218508, 'f1': 0.5730292073214209, 'auc': 0.9010447531067245, 'prauc': 0.799569678275225}\n",
      "Test:      {'precision': 0.9099639855833137, 'recall': 0.4197120708725376, 'f1': 0.5744600184112307, 'auc': 0.899365387939121, 'prauc': 0.8118034812891033}\n"
     ]
    },
    {
     "name": "stderr",
     "output_type": "stream",
     "text": [
      "Epoch 008: 100%|██████████| 98/98 [00:04<00:00, 23.56it/s, loss=0.2125]\n",
      "Running inference: 100%|██████████| 198/198 [00:04<00:00, 40.38it/s]\n",
      "Running inference: 100%|██████████| 197/197 [00:04<00:00, 40.15it/s]\n"
     ]
    },
    {
     "name": "stdout",
     "output_type": "stream",
     "text": [
      "Validation: {'precision': 0.8365051903041826, 'recall': 0.5698291101911029, 'f1': 0.6778829254238969, 'auc': 0.9064964747598476, 'prauc': 0.8126691245906593}\n",
      "Test:      {'precision': 0.8406374501925049, 'recall': 0.5841638981141519, 'f1': 0.6893172117533917, 'auc': 0.9050745821817202, 'prauc': 0.8197546079593385}\n",
      "\n",
      "Early stopping triggered (no improvement for 5 epochs).\n",
      "\n",
      "Best validation performance:\n",
      "{'precision': 0.7218899521487926, 'recall': 0.7112551561537346, 'f1': 0.7165330908701685, 'auc': 0.8982516678991669, 'prauc': 0.7951543177229051}\n",
      "Corresponding test performance:\n",
      "{'precision': 0.7382744643848392, 'recall': 0.7059800664412736, 'f1': 0.721766199357316, 'auc': 0.8958346566728069, 'prauc': 0.7994842147868365}\n"
     ]
    },
    {
     "name": "stderr",
     "output_type": "stream",
     "text": [
      "Epoch 001: 100%|██████████| 98/98 [00:04<00:00, 23.43it/s, loss=0.5469]\n",
      "Running inference: 100%|██████████| 198/198 [00:04<00:00, 40.23it/s]\n",
      "Running inference: 100%|██████████| 197/197 [00:04<00:00, 40.20it/s]\n"
     ]
    },
    {
     "name": "stdout",
     "output_type": "stream",
     "text": [
      "Validation: {'precision': 0.5295068714610772, 'recall': 0.7719505008793639, 'f1': 0.6281467225740013, 'auc': 0.8314506248578069, 'prauc': 0.6733554521073081}\n",
      "Test:      {'precision': 0.545052292837711, 'recall': 0.7502768549238634, 'f1': 0.6314072644608688, 'auc': 0.8299225643290706, 'prauc': 0.6805412439789148}\n"
     ]
    },
    {
     "name": "stderr",
     "output_type": "stream",
     "text": [
      "Epoch 002: 100%|██████████| 98/98 [00:04<00:00, 23.62it/s, loss=0.4142]\n",
      "Running inference: 100%|██████████| 198/198 [00:04<00:00, 40.22it/s]\n",
      "Running inference: 100%|██████████| 197/197 [00:04<00:00, 40.01it/s]\n"
     ]
    },
    {
     "name": "stdout",
     "output_type": "stream",
     "text": [
      "Validation: {'precision': 0.7803163444571151, 'recall': 0.5232763700617368, 'f1': 0.6264550216450033, 'auc': 0.874649810475149, 'prauc': 0.7414937972218506}\n",
      "Test:      {'precision': 0.8046471600619222, 'recall': 0.5177187153902674, 'f1': 0.6300539035869537, 'auc': 0.8823420720517103, 'prauc': 0.7679706593262169}\n"
     ]
    },
    {
     "name": "stderr",
     "output_type": "stream",
     "text": [
      "Epoch 003: 100%|██████████| 98/98 [00:04<00:00, 23.42it/s, loss=0.3540]\n",
      "Running inference: 100%|██████████| 198/198 [00:04<00:00, 40.08it/s]\n",
      "Running inference: 100%|██████████| 197/197 [00:04<00:00, 40.02it/s]\n"
     ]
    },
    {
     "name": "stdout",
     "output_type": "stream",
     "text": [
      "Validation: {'precision': 0.8230008984652022, 'recall': 0.5397760754240438, 'f1': 0.6519572905849902, 'auc': 0.8948735229957203, 'prauc': 0.7877515211605312}\n",
      "Test:      {'precision': 0.8501314636209455, 'recall': 0.5370985603514004, 'f1': 0.6582965680360133, 'auc': 0.8961001862769573, 'prauc': 0.7958182959041842}\n"
     ]
    },
    {
     "name": "stderr",
     "output_type": "stream",
     "text": [
      "Epoch 004: 100%|██████████| 98/98 [00:04<00:00, 21.41it/s, loss=0.2986]\n",
      "Running inference: 100%|██████████| 198/198 [00:04<00:00, 40.04it/s]\n",
      "Running inference: 100%|██████████| 197/197 [00:04<00:00, 39.97it/s]\n"
     ]
    },
    {
     "name": "stdout",
     "output_type": "stream",
     "text": [
      "Validation: {'precision': 0.7241165530023304, 'recall': 0.6882734236848069, 'f1': 0.7057401762678381, 'auc': 0.8898224011693019, 'prauc': 0.7827386164805786}\n",
      "Test:      {'precision': 0.7451219512149688, 'recall': 0.676633444071558, 'f1': 0.7092280855472428, 'auc': 0.891857744576524, 'prauc': 0.7977257606457258}\n"
     ]
    },
    {
     "name": "stderr",
     "output_type": "stream",
     "text": [
      "Epoch 005: 100%|██████████| 98/98 [00:04<00:00, 23.23it/s, loss=0.2858]\n",
      "Running inference: 100%|██████████| 198/198 [00:04<00:00, 39.93it/s]\n",
      "Running inference: 100%|██████████| 197/197 [00:04<00:00, 39.57it/s]\n"
     ]
    },
    {
     "name": "stdout",
     "output_type": "stream",
     "text": [
      "Validation: {'precision': 0.7647887323889804, 'recall': 0.6399528579809078, 'f1': 0.6968238641399248, 'auc': 0.8996801460758653, 'prauc': 0.7946714392199936}\n",
      "Test:      {'precision': 0.7838205302462011, 'recall': 0.6384274640053244, 'f1': 0.703692396634775, 'auc': 0.9016887412001002, 'prauc': 0.8064255613797453}\n"
     ]
    },
    {
     "name": "stderr",
     "output_type": "stream",
     "text": [
      "Epoch 006: 100%|██████████| 98/98 [00:04<00:00, 23.52it/s, loss=0.2605]\n",
      "Running inference: 100%|██████████| 198/198 [00:04<00:00, 39.82it/s]\n",
      "Running inference: 100%|██████████| 197/197 [00:05<00:00, 39.26it/s]\n"
     ]
    },
    {
     "name": "stdout",
     "output_type": "stream",
     "text": [
      "Validation: {'precision': 0.6716188524555757, 'recall': 0.7725397760708749, 'f1': 0.7185530232473907, 'auc': 0.9000325870586072, 'prauc': 0.812484283760276}\n",
      "Test:      {'precision': 0.6904761904728355, 'recall': 0.7868217054219999, 'f1': 0.7355072413942713, 'auc': 0.9021988731795157, 'prauc': 0.81897862808027}\n"
     ]
    },
    {
     "name": "stderr",
     "output_type": "stream",
     "text": [
      "Epoch 007: 100%|██████████| 98/98 [00:04<00:00, 23.44it/s, loss=0.2384]\n",
      "Running inference: 100%|██████████| 198/198 [00:04<00:00, 40.28it/s]\n",
      "Running inference: 100%|██████████| 197/197 [00:04<00:00, 40.11it/s]\n"
     ]
    },
    {
     "name": "stdout",
     "output_type": "stream",
     "text": [
      "Validation: {'precision': 0.8507853403067123, 'recall': 0.5745433117231907, 'f1': 0.6858951763296613, 'auc': 0.9074286741333739, 'prauc': 0.8167149281187841}\n",
      "Test:      {'precision': 0.8478081058656096, 'recall': 0.5675526024331808, 'f1': 0.6799336601998214, 'auc': 0.9073690681769724, 'prauc': 0.8242518576140675}\n"
     ]
    },
    {
     "name": "stderr",
     "output_type": "stream",
     "text": [
      "Epoch 008: 100%|██████████| 98/98 [00:04<00:00, 23.50it/s, loss=0.2195]\n",
      "Running inference: 100%|██████████| 198/198 [00:05<00:00, 37.71it/s]\n",
      "Running inference: 100%|██████████| 197/197 [00:04<00:00, 40.26it/s]\n"
     ]
    },
    {
     "name": "stdout",
     "output_type": "stream",
     "text": [
      "Validation: {'precision': 0.6674828599379653, 'recall': 0.8031820860294451, 'f1': 0.7290719394088222, 'auc': 0.908643311713802, 'prauc': 0.8156776191166395}\n",
      "Test:      {'precision': 0.6713352007438314, 'recall': 0.7962347729745503, 'f1': 0.7284701064813601, 'auc': 0.905260095910721, 'prauc': 0.8118244650492015}\n"
     ]
    },
    {
     "name": "stderr",
     "output_type": "stream",
     "text": [
      "Epoch 009: 100%|██████████| 98/98 [00:04<00:00, 23.64it/s, loss=0.1980]\n",
      "Running inference: 100%|██████████| 198/198 [00:04<00:00, 40.49it/s]\n",
      "Running inference: 100%|██████████| 197/197 [00:04<00:00, 40.19it/s]\n"
     ]
    },
    {
     "name": "stdout",
     "output_type": "stream",
     "text": [
      "Validation: {'precision': 0.810730253347163, 'recall': 0.6411314083639297, 'f1': 0.7160250032899065, 'auc': 0.910335705465109, 'prauc': 0.8201993152929735}\n",
      "Test:      {'precision': 0.8206442166850613, 'recall': 0.6207087486122884, 'f1': 0.7068095789505152, 'auc': 0.9090651585274518, 'prauc': 0.8178575777137821}\n"
     ]
    },
    {
     "name": "stderr",
     "output_type": "stream",
     "text": [
      "Epoch 010: 100%|██████████| 98/98 [00:04<00:00, 23.45it/s, loss=0.1757]\n",
      "Running inference: 100%|██████████| 198/198 [00:04<00:00, 40.40it/s]\n",
      "Running inference: 100%|██████████| 197/197 [00:04<00:00, 40.33it/s]\n"
     ]
    },
    {
     "name": "stdout",
     "output_type": "stream",
     "text": [
      "Validation: {'precision': 0.7595269382341687, 'recall': 0.6812021213866754, 'f1': 0.7182354718664818, 'auc': 0.9023085075983031, 'prauc': 0.8048477745393762}\n",
      "Test:      {'precision': 0.7674870466271536, 'recall': 0.6561461793983603, 'f1': 0.7074626815935238, 'auc': 0.8972612781760516, 'prauc': 0.7994014302326475}\n"
     ]
    },
    {
     "name": "stderr",
     "output_type": "stream",
     "text": [
      "Epoch 011: 100%|██████████| 98/98 [00:04<00:00, 23.50it/s, loss=0.1876]\n",
      "Running inference: 100%|██████████| 198/198 [00:04<00:00, 40.40it/s]\n",
      "Running inference: 100%|██████████| 197/197 [00:05<00:00, 38.84it/s]\n"
     ]
    },
    {
     "name": "stdout",
     "output_type": "stream",
     "text": [
      "Validation: {'precision': 0.6892685531196515, 'recall': 0.7607542722406556, 'f1': 0.7232492947279885, 'auc': 0.9005912679712647, 'prauc': 0.8064251585951279}\n",
      "Test:      {'precision': 0.7030174695568925, 'recall': 0.7353266888109894, 'f1': 0.7188091966224484, 'auc': 0.8956682236524957, 'prauc': 0.7992823594170982}\n"
     ]
    },
    {
     "name": "stderr",
     "output_type": "stream",
     "text": [
      "Epoch 012: 100%|██████████| 98/98 [00:04<00:00, 23.30it/s, loss=0.1455]\n",
      "Running inference: 100%|██████████| 198/198 [00:05<00:00, 37.55it/s]\n",
      "Running inference: 100%|██████████| 197/197 [00:04<00:00, 40.29it/s]\n"
     ]
    },
    {
     "name": "stdout",
     "output_type": "stream",
     "text": [
      "Validation: {'precision': 0.7812499999945747, 'recall': 0.6629345904498354, 'f1': 0.7172457712483039, 'auc': 0.9047174717347826, 'prauc': 0.8089277534125626}\n",
      "Test:      {'precision': 0.7888662593293356, 'recall': 0.6434108527096157, 'f1': 0.7087526635437373, 'auc': 0.900440124243727, 'prauc': 0.8113343501248347}\n"
     ]
    },
    {
     "name": "stderr",
     "output_type": "stream",
     "text": [
      "Epoch 013: 100%|██████████| 98/98 [00:04<00:00, 23.66it/s, loss=0.1344]\n",
      "Running inference: 100%|██████████| 198/198 [00:04<00:00, 40.51it/s]\n",
      "Running inference: 100%|██████████| 197/197 [00:04<00:00, 40.22it/s]\n"
     ]
    },
    {
     "name": "stdout",
     "output_type": "stream",
     "text": [
      "Validation: {'precision': 0.7830802602980255, 'recall': 0.6381850324063749, 'f1': 0.7032467482941539, 'auc': 0.9017198072471012, 'prauc': 0.8044038597549112}\n",
      "Test:      {'precision': 0.7948164146811029, 'recall': 0.6112956810597382, 'f1': 0.6910798072874196, 'auc': 0.8925384334713545, 'prauc': 0.7937502305119323}\n",
      "\n",
      "Early stopping triggered (no improvement for 5 epochs).\n",
      "\n",
      "Best validation performance:\n",
      "{'precision': 0.6674828599379653, 'recall': 0.8031820860294451, 'f1': 0.7290719394088222, 'auc': 0.908643311713802, 'prauc': 0.8156776191166395}\n",
      "Corresponding test performance:\n",
      "{'precision': 0.6713352007438314, 'recall': 0.7962347729745503, 'f1': 0.7284701064813601, 'auc': 0.905260095910721, 'prauc': 0.8118244650492015}\n"
     ]
    },
    {
     "name": "stderr",
     "output_type": "stream",
     "text": [
      "Epoch 001: 100%|██████████| 98/98 [00:04<00:00, 23.66it/s, loss=0.5272]\n",
      "Running inference: 100%|██████████| 198/198 [00:04<00:00, 40.50it/s]\n",
      "Running inference: 100%|██████████| 197/197 [00:04<00:00, 40.57it/s]\n"
     ]
    },
    {
     "name": "stdout",
     "output_type": "stream",
     "text": [
      "Validation: {'precision': 0.6839714471078263, 'recall': 0.6210960518525569, 'f1': 0.6510191426295734, 'auc': 0.8564075725119538, 'prauc': 0.7121999271124206}\n",
      "Test:      {'precision': 0.7056222362558079, 'recall': 0.6184939091881589, 'f1': 0.6591914969357288, 'auc': 0.8587261866600487, 'prauc': 0.7233953163431541}\n"
     ]
    },
    {
     "name": "stderr",
     "output_type": "stream",
     "text": [
      "Epoch 002: 100%|██████████| 98/98 [00:04<00:00, 23.49it/s, loss=0.4030]\n",
      "Running inference: 100%|██████████| 198/198 [00:04<00:00, 40.52it/s]\n",
      "Running inference: 100%|██████████| 197/197 [00:04<00:00, 40.34it/s]\n"
     ]
    },
    {
     "name": "stdout",
     "output_type": "stream",
     "text": [
      "Validation: {'precision': 0.6770428015526568, 'recall': 0.7177371832603552, 'f1': 0.696796333673039, 'auc': 0.8846152421335978, 'prauc': 0.7659363397925468}\n",
      "Test:      {'precision': 0.6933911159225711, 'recall': 0.7087486157214355, 'f1': 0.700985756223486, 'auc': 0.8872438445633768, 'prauc': 0.7800784284404747}\n"
     ]
    },
    {
     "name": "stderr",
     "output_type": "stream",
     "text": [
      "Epoch 003: 100%|██████████| 98/98 [00:04<00:00, 23.87it/s, loss=0.3507]\n",
      "Running inference: 100%|██████████| 198/198 [00:05<00:00, 37.84it/s]\n",
      "Running inference: 100%|██████████| 197/197 [00:04<00:00, 40.32it/s]\n"
     ]
    },
    {
     "name": "stdout",
     "output_type": "stream",
     "text": [
      "Validation: {'precision': 0.7209976798102031, 'recall': 0.7324690630481293, 'f1': 0.7266880978899539, 'auc': 0.9012805015060178, 'prauc': 0.8010936114999369}\n",
      "Test:      {'precision': 0.7344632768320087, 'recall': 0.7198228128420829, 'f1': 0.7270693462268655, 'auc': 0.8986213634015758, 'prauc': 0.805612638362415}\n"
     ]
    },
    {
     "name": "stderr",
     "output_type": "stream",
     "text": [
      "Epoch 004: 100%|██████████| 98/98 [00:04<00:00, 23.48it/s, loss=0.3161]\n",
      "Running inference: 100%|██████████| 198/198 [00:04<00:00, 40.47it/s]\n",
      "Running inference: 100%|██████████| 197/197 [00:04<00:00, 40.39it/s]\n"
     ]
    },
    {
     "name": "stdout",
     "output_type": "stream",
     "text": [
      "Validation: {'precision': 0.7945425361091931, 'recall': 0.5833824395958552, 'f1': 0.6727828697305851, 'auc': 0.8970510180996776, 'prauc': 0.7947204903933824}\n",
      "Test:      {'precision': 0.8108527131720089, 'recall': 0.5791805094098607, 'f1': 0.6757105894497694, 'auc': 0.8952927029953511, 'prauc': 0.800583173746888}\n"
     ]
    },
    {
     "name": "stderr",
     "output_type": "stream",
     "text": [
      "Epoch 005: 100%|██████████| 98/98 [00:04<00:00, 23.57it/s, loss=0.2927]\n",
      "Running inference: 100%|██████████| 198/198 [00:04<00:00, 40.49it/s]\n",
      "Running inference: 100%|██████████| 197/197 [00:04<00:00, 40.50it/s]\n"
     ]
    },
    {
     "name": "stdout",
     "output_type": "stream",
     "text": [
      "Validation: {'precision': 0.7456423498983497, 'recall': 0.6806128461951644, 'f1': 0.7116450966695955, 'auc': 0.8970238728626958, 'prauc': 0.7993101267473757}\n",
      "Test:      {'precision': 0.760197775026204, 'recall': 0.681063122919817, 'f1': 0.7184579389361109, 'auc': 0.8969833153359165, 'prauc': 0.8049039972013722}\n"
     ]
    },
    {
     "name": "stderr",
     "output_type": "stream",
     "text": [
      "Epoch 006: 100%|██████████| 98/98 [00:04<00:00, 23.63it/s, loss=0.2737]\n",
      "Running inference: 100%|██████████| 198/198 [00:04<00:00, 40.51it/s]\n",
      "Running inference: 100%|██████████| 197/197 [00:04<00:00, 40.33it/s]\n"
     ]
    },
    {
     "name": "stdout",
     "output_type": "stream",
     "text": [
      "Validation: {'precision': 0.7262334536659072, 'recall': 0.7112551561537346, 'f1': 0.7186662647193959, 'auc': 0.9011634256956941, 'prauc': 0.8050638031456672}\n",
      "Test:      {'precision': 0.7647761193984193, 'recall': 0.7093023255774679, 'f1': 0.7359953986225021, 'auc': 0.9050035527048567, 'prauc': 0.815992023452804}\n"
     ]
    },
    {
     "name": "stderr",
     "output_type": "stream",
     "text": [
      "Epoch 007: 100%|██████████| 98/98 [00:04<00:00, 23.53it/s, loss=0.2411]\n",
      "Running inference: 100%|██████████| 198/198 [00:04<00:00, 40.59it/s]\n",
      "Running inference: 100%|██████████| 197/197 [00:05<00:00, 37.81it/s]\n"
     ]
    },
    {
     "name": "stdout",
     "output_type": "stream",
     "text": [
      "Validation: {'precision': 0.666009852213468, 'recall': 0.7967000589228245, 'f1': 0.7255164962434276, 'auc': 0.9001642893613282, 'prauc': 0.7998692330065725}\n",
      "Test:      {'precision': 0.69147894221013, 'recall': 0.7818383167177085, 'f1': 0.7338877289027268, 'auc': 0.901218740259606, 'prauc': 0.8124445414488507}\n"
     ]
    },
    {
     "name": "stderr",
     "output_type": "stream",
     "text": [
      "Epoch 008: 100%|██████████| 98/98 [00:04<00:00, 23.65it/s, loss=0.2210]\n",
      "Running inference: 100%|██████████| 198/198 [00:04<00:00, 40.51it/s]\n",
      "Running inference: 100%|██████████| 197/197 [00:04<00:00, 40.49it/s]\n"
     ]
    },
    {
     "name": "stdout",
     "output_type": "stream",
     "text": [
      "Validation: {'precision': 0.7087155963262115, 'recall': 0.7283441367075525, 'f1': 0.7183958101667661, 'auc': 0.901583059123859, 'prauc': 0.8028334453389547}\n",
      "Test:      {'precision': 0.7382966723026605, 'recall': 0.7248062015463743, 'f1': 0.7314892378015904, 'auc': 0.902078480062752, 'prauc': 0.8116271966467934}\n",
      "\n",
      "Early stopping triggered (no improvement for 5 epochs).\n",
      "\n",
      "Best validation performance:\n",
      "{'precision': 0.7209976798102031, 'recall': 0.7324690630481293, 'f1': 0.7266880978899539, 'auc': 0.9012805015060178, 'prauc': 0.8010936114999369}\n",
      "Corresponding test performance:\n",
      "{'precision': 0.7344632768320087, 'recall': 0.7198228128420829, 'f1': 0.7270693462268655, 'auc': 0.8986213634015758, 'prauc': 0.805612638362415}\n"
     ]
    },
    {
     "name": "stderr",
     "output_type": "stream",
     "text": [
      "Epoch 001: 100%|██████████| 98/98 [00:04<00:00, 23.62it/s, loss=0.5357]\n",
      "Running inference: 100%|██████████| 198/198 [00:04<00:00, 40.19it/s]\n",
      "Running inference: 100%|██████████| 197/197 [00:04<00:00, 40.22it/s]\n"
     ]
    },
    {
     "name": "stdout",
     "output_type": "stream",
     "text": [
      "Validation: {'precision': 0.9107142856600765, 'recall': 0.09015910430117761, 'f1': 0.16407506538305028, 'auc': 0.8321836739986057, 'prauc': 0.6784198957639137}\n",
      "Test:      {'precision': 0.8780487804342653, 'recall': 0.0797342192686615, 'f1': 0.14619289187316345, 'auc': 0.8285401977598509, 'prauc': 0.687549661805976}\n"
     ]
    },
    {
     "name": "stderr",
     "output_type": "stream",
     "text": [
      "Epoch 002: 100%|██████████| 98/98 [00:04<00:00, 23.54it/s, loss=0.4225]\n",
      "Running inference: 100%|██████████| 198/198 [00:04<00:00, 40.62it/s]\n",
      "Running inference: 100%|██████████| 197/197 [00:04<00:00, 40.45it/s]\n"
     ]
    },
    {
     "name": "stdout",
     "output_type": "stream",
     "text": [
      "Validation: {'precision': 0.5990220048870464, 'recall': 0.7218621096009319, 'f1': 0.6547300859002467, 'auc': 0.8656823015992952, 'prauc': 0.7345990091017726}\n",
      "Test:      {'precision': 0.611243449258641, 'recall': 0.7104097452895326, 'f1': 0.657106269032466, 'auc': 0.8617484478151235, 'prauc': 0.7367782773307254}\n"
     ]
    },
    {
     "name": "stderr",
     "output_type": "stream",
     "text": [
      "Epoch 003: 100%|██████████| 98/98 [00:04<00:00, 23.65it/s, loss=0.3621]\n",
      "Running inference: 100%|██████████| 198/198 [00:04<00:00, 40.53it/s]\n",
      "Running inference: 100%|██████████| 197/197 [00:05<00:00, 37.72it/s]\n"
     ]
    },
    {
     "name": "stdout",
     "output_type": "stream",
     "text": [
      "Validation: {'precision': 0.7095975232154205, 'recall': 0.6753093694715657, 'f1': 0.6920289805061325, 'auc': 0.8925864250055024, 'prauc': 0.7767299236793677}\n",
      "Test:      {'precision': 0.7271084337305597, 'recall': 0.6683277962310724, 'f1': 0.6964800873303003, 'auc': 0.8893389063774868, 'prauc': 0.7810618265264988}\n"
     ]
    },
    {
     "name": "stderr",
     "output_type": "stream",
     "text": [
      "Epoch 004: 100%|██████████| 98/98 [00:04<00:00, 23.54it/s, loss=0.3287]\n",
      "Running inference: 100%|██████████| 198/198 [00:04<00:00, 40.50it/s]\n",
      "Running inference: 100%|██████████| 197/197 [00:04<00:00, 40.39it/s]\n"
     ]
    },
    {
     "name": "stdout",
     "output_type": "stream",
     "text": [
      "Validation: {'precision': 0.7264573990984853, 'recall': 0.6682380671734341, 'f1': 0.6961325916895222, 'auc': 0.8939081744975033, 'prauc': 0.7866094927549006}\n",
      "Test:      {'precision': 0.7422810333916681, 'recall': 0.6522702104061336, 'f1': 0.6943707583530178, 'auc': 0.892896289085293, 'prauc': 0.7926250043535713}\n"
     ]
    },
    {
     "name": "stderr",
     "output_type": "stream",
     "text": [
      "Epoch 005: 100%|██████████| 98/98 [00:04<00:00, 23.65it/s, loss=0.3111]\n",
      "Running inference: 100%|██████████| 198/198 [00:05<00:00, 39.17it/s]\n",
      "Running inference: 100%|██████████| 197/197 [00:04<00:00, 40.27it/s]\n"
     ]
    },
    {
     "name": "stdout",
     "output_type": "stream",
     "text": [
      "Validation: {'precision': 0.7683772538088185, 'recall': 0.652916912194149, 'f1': 0.7059573062741182, 'auc': 0.9033437311300684, 'prauc': 0.8014848987379105}\n",
      "Test:      {'precision': 0.7868525896362095, 'recall': 0.6561461793983603, 'f1': 0.71557970518163, 'auc': 0.9034663861925591, 'prauc': 0.8107890916856701}\n"
     ]
    },
    {
     "name": "stderr",
     "output_type": "stream",
     "text": [
      "Epoch 006: 100%|██████████| 98/98 [00:04<00:00, 23.55it/s, loss=0.2568]\n",
      "Running inference: 100%|██████████| 198/198 [00:04<00:00, 40.45it/s]\n",
      "Running inference: 100%|██████████| 197/197 [00:04<00:00, 40.34it/s]\n"
     ]
    },
    {
     "name": "stdout",
     "output_type": "stream",
     "text": [
      "Validation: {'precision': 0.7602564102515369, 'recall': 0.6988803771320042, 'f1': 0.7282775510375341, 'auc': 0.9064318371602583, 'prauc': 0.8181003354321332}\n",
      "Test:      {'precision': 0.7710396039556248, 'recall': 0.6899224806163349, 'f1': 0.728229100797248, 'auc': 0.9060661019761707, 'prauc': 0.8235721689873131}\n"
     ]
    },
    {
     "name": "stderr",
     "output_type": "stream",
     "text": [
      "Epoch 007: 100%|██████████| 98/98 [00:04<00:00, 23.73it/s, loss=0.2515]\n",
      "Running inference: 100%|██████████| 198/198 [00:04<00:00, 40.37it/s]\n",
      "Running inference: 100%|██████████| 197/197 [00:05<00:00, 37.48it/s]\n"
     ]
    },
    {
     "name": "stdout",
     "output_type": "stream",
     "text": [
      "Validation: {'precision': 0.8025241276852078, 'recall': 0.637006482023353, 'f1': 0.7102496665463243, 'auc': 0.9056766247318528, 'prauc': 0.8170578986589668}\n",
      "Test:      {'precision': 0.8155061019324085, 'recall': 0.629014396452774, 'f1': 0.7102219394365092, 'auc': 0.9040088938260736, 'prauc': 0.8226498535033857}\n"
     ]
    },
    {
     "name": "stderr",
     "output_type": "stream",
     "text": [
      "Epoch 008: 100%|██████████| 98/98 [00:04<00:00, 23.67it/s, loss=0.2140]\n",
      "Running inference: 100%|██████████| 198/198 [00:04<00:00, 40.43it/s]\n",
      "Running inference: 100%|██████████| 197/197 [00:04<00:00, 40.37it/s]\n"
     ]
    },
    {
     "name": "stdout",
     "output_type": "stream",
     "text": [
      "Validation: {'precision': 0.840197693568038, 'recall': 0.6010606953411841, 'f1': 0.7007901016254507, 'auc': 0.9132012205520486, 'prauc': 0.82503289835586}\n",
      "Test:      {'precision': 0.8468185388778726, 'recall': 0.5968992248028965, 'f1': 0.7002273416863686, 'auc': 0.9096237308866695, 'prauc': 0.8301596325994949}\n"
     ]
    },
    {
     "name": "stderr",
     "output_type": "stream",
     "text": [
      "Epoch 009: 100%|██████████| 98/98 [00:04<00:00, 23.59it/s, loss=0.2049]\n",
      "Running inference: 100%|██████████| 198/198 [00:04<00:00, 40.49it/s]\n",
      "Running inference: 100%|██████████| 197/197 [00:04<00:00, 40.40it/s]\n"
     ]
    },
    {
     "name": "stdout",
     "output_type": "stream",
     "text": [
      "Validation: {'precision': 0.795950155757041, 'recall': 0.6022392457242061, 'f1': 0.6856759427599398, 'auc': 0.9025074662175929, 'prauc': 0.8035881319091398}\n",
      "Test:      {'precision': 0.813622754484928, 'recall': 0.6018826135071879, 'f1': 0.6919159721921355, 'auc': 0.9005392823782392, 'prauc': 0.8131600980550772}\n"
     ]
    },
    {
     "name": "stderr",
     "output_type": "stream",
     "text": [
      "Epoch 010: 100%|██████████| 98/98 [00:04<00:00, 23.72it/s, loss=0.1921]\n",
      "Running inference: 100%|██████████| 198/198 [00:04<00:00, 40.75it/s]\n",
      "Running inference: 100%|██████████| 197/197 [00:04<00:00, 40.53it/s]\n"
     ]
    },
    {
     "name": "stdout",
     "output_type": "stream",
     "text": [
      "Validation: {'precision': 0.7380352644789797, 'recall': 0.6906305244508508, 'f1': 0.7135464181366251, 'auc': 0.9031528841463001, 'prauc': 0.81200070115611}\n",
      "Test:      {'precision': 0.7437097717920205, 'recall': 0.7037652270171442, 'f1': 0.7231863392386688, 'auc': 0.8996094979090005, 'prauc': 0.8117225846421472}\n"
     ]
    },
    {
     "name": "stderr",
     "output_type": "stream",
     "text": [
      "Epoch 011: 100%|██████████| 98/98 [00:04<00:00, 23.61it/s, loss=0.1676]\n",
      "Running inference: 100%|██████████| 198/198 [00:04<00:00, 40.85it/s]\n",
      "Running inference: 100%|██████████| 197/197 [00:04<00:00, 40.51it/s]"
     ]
    },
    {
     "name": "stdout",
     "output_type": "stream",
     "text": [
      "Validation: {'precision': 0.768384879719805, 'recall': 0.6588096641092587, 'f1': 0.7093908579691346, 'auc': 0.9014836117497871, 'prauc': 0.8055963070438528}\n",
      "Test:      {'precision': 0.777044854876141, 'recall': 0.6522702104061336, 'f1': 0.7092113135166757, 'auc': 0.895518963270005, 'prauc': 0.8035898384438117}\n",
      "\n",
      "Early stopping triggered (no improvement for 5 epochs).\n",
      "\n",
      "Best validation performance:\n",
      "{'precision': 0.7602564102515369, 'recall': 0.6988803771320042, 'f1': 0.7282775510375341, 'auc': 0.9064318371602583, 'prauc': 0.8181003354321332}\n",
      "Corresponding test performance:\n",
      "{'precision': 0.7710396039556248, 'recall': 0.6899224806163349, 'f1': 0.728229100797248, 'auc': 0.9060661019761707, 'prauc': 0.8235721689873131}\n"
     ]
    },
    {
     "name": "stderr",
     "output_type": "stream",
     "text": [
      "\n"
     ]
    }
   ],
   "source": [
    "final_metrics = {\"precision\":[],\"recall\":[],\"f1\":[],\"auc\":[],\"prauc\":[]}\n",
    "for i in range(5):\n",
    "    model = HeteroGT(tokenizer, d_model=128, num_heads=4, layer_types=['gnn', 'tf'], max_num_adms=config.max_num_adms, \n",
    "                     device=device, task=curr_task, label_vocab_size=config.label_vocab_size).to(device)\n",
    "    optimizer = torch.optim.AdamW(model.parameters(), lr=config.lr)\n",
    "    best_test_metric = train_with_early_stopping(model, train_dataloader, val_dataloader, test_dataloader,\n",
    "                                             optimizer, loss_fn, device, config.early_stop_patience, task_type, config.epochs, \n",
    "                                             val_long_seq_idx=None, test_long_seq_idx=None, eval_metric=eval_metric, return_model=False)\n",
    "    for key in final_metrics.keys():\n",
    "        final_metrics[key].append(best_test_metric[key])"
   ]
  },
  {
   "cell_type": "code",
   "execution_count": 16,
   "id": "e12dd11d-4936-466a-9a97-e10f223539fc",
   "metadata": {
    "tags": []
   },
   "outputs": [
    {
     "name": "stdout",
     "output_type": "stream",
     "text": [
      "\n",
      "Final Metrics:\n",
      "precision: 0.7168 ± 0.0402\n",
      "recall: 0.7383 ± 0.0419\n",
      "f1: 0.7251 ± 0.0035\n",
      "auc: 0.9014 ± 0.0039\n",
      "prauc: 0.8109 ± 0.0081\n"
     ]
    }
   ],
   "source": [
    "# print the mean and std of the final metrics\n",
    "print(\"\\nFinal Metrics:\")\n",
    "for key in final_metrics.keys():\n",
    "    mean_value = np.mean(final_metrics[key])\n",
    "    std_value = np.std(final_metrics[key])\n",
    "    print(f\"{key}: {mean_value:.4f} ± {std_value:.4f}\")"
   ]
  }
 ],
 "metadata": {
  "kernelspec": {
   "display_name": "Python 3",
   "language": "python",
   "name": "python3"
  },
  "language_info": {
   "codemirror_mode": {
    "name": "ipython",
    "version": 3
   },
   "file_extension": ".py",
   "mimetype": "text/x-python",
   "name": "python",
   "nbconvert_exporter": "python",
   "pygments_lexer": "ipython3",
   "version": "3.10.18"
  }
 },
 "nbformat": 4,
 "nbformat_minor": 5
}
