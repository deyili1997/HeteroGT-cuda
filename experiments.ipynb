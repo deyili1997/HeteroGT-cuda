{
 "cells": [
  {
   "cell_type": "code",
   "execution_count": 1,
   "id": "9bc53801",
   "metadata": {},
   "outputs": [
    {
     "name": "stderr",
     "output_type": "stream",
     "text": [
      "Disabling PyTorch because PyTorch >= 2.1 is required but found 1.13.1\n",
      "None of PyTorch, TensorFlow >= 2.0, or Flax have been found. Models won't be available and only tokenizers, configuration and file/data utilities can be used.\n"
     ]
    }
   ],
   "source": [
    "import torch\n",
    "import pickle\n",
    "import numpy as np\n",
    "from argparse import Namespace\n",
    "from torch.utils.data import DataLoader\n",
    "import torch.nn.functional as F\n",
    "from heterogt.utils.tokenizer import EHRTokenizer\n",
    "from heterogt.utils.dataset import FineTuneEHRDataset, batcher, expand_level3\n",
    "from heterogt.utils.train import train_with_early_stopping\n",
    "from heterogt.utils.seed import set_random_seed\n",
    "from heterogt.model.model import HeteroGT"
   ]
  },
  {
   "cell_type": "code",
   "execution_count": 2,
   "id": "c42d3e09",
   "metadata": {},
   "outputs": [
    {
     "name": "stdout",
     "output_type": "stream",
     "text": [
      "[INFO] Random seed set to 123\n"
     ]
    }
   ],
   "source": [
    "set_random_seed(123)"
   ]
  },
  {
   "cell_type": "code",
   "execution_count": 3,
   "id": "af3d65aa",
   "metadata": {},
   "outputs": [
    {
     "name": "stdout",
     "output_type": "stream",
     "text": [
      "cuda\n"
     ]
    }
   ],
   "source": [
    "device = torch.device(\"cuda\" if torch.cuda.is_available() else \"cpu\")\n",
    "print(device)"
   ]
  },
  {
   "cell_type": "code",
   "execution_count": 4,
   "id": "d073b89b",
   "metadata": {},
   "outputs": [],
   "source": [
    "config = Namespace(\n",
    "    dataset = \"MIMIC-III\",\n",
    "    tasks = [\"death\", \"readmission\", \"stay\", \"next_diag_6m\", \"next_diag_12m\"], \n",
    "    task_index = 2,  # index of the task to train\n",
    "    token_type = [\"diag\", \"med\", \"lab\", \"pro\"],\n",
    "    special_tokens = [\"[PAD]\", \"[CLS]\"],\n",
    "    batch_size = 32,\n",
    "    lr = 1e-3,\n",
    "    epochs = 500,\n",
    "    early_stop_patience = 5,\n",
    "    group_code_thre = 5,  # if there are group_code_thre diag codes belongs to the same group ICD code, then the group code is generated\n",
    ")"
   ]
  },
  {
   "cell_type": "code",
   "execution_count": 5,
   "id": "bbe56943",
   "metadata": {},
   "outputs": [
    {
     "name": "stdout",
     "output_type": "stream",
     "text": [
      "Current task: stay\n"
     ]
    }
   ],
   "source": [
    "full_data_path = f\"./data_process/{config.dataset}-processed/mimic.pkl\"  # for tokenizer\n",
    "curr_task = config.tasks[config.task_index]\n",
    "print(\"Current task:\", curr_task)\n",
    "if curr_task == \"next_diag_6m\":\n",
    "    finetune_data_path = f\"./data_process/{config.dataset}-processed/mimic_nextdiag_6m.pkl\"\n",
    "elif curr_task == \"next_diag_12m\":\n",
    "    finetune_data_path = f\"./data_process/{config.dataset}-processed/mimic_nextdiag_12m.pkl\"\n",
    "else:\n",
    "    finetune_data_path = f\"./data_process/{config.dataset}-processed/mimic_downstream.pkl\""
   ]
  },
  {
   "cell_type": "code",
   "execution_count": 6,
   "id": "57d4378a",
   "metadata": {},
   "outputs": [
    {
     "name": "stdout",
     "output_type": "stream",
     "text": [
      "Max admissions per patient: 8\n"
     ]
    }
   ],
   "source": [
    "ehr_full_data = pickle.load(open(full_data_path, 'rb'))\n",
    "group_code_sentences = [expand_level3()[1]]\n",
    "diag_sentences = ehr_full_data[\"ICD9_CODE\"].values.tolist()\n",
    "med_sentences = ehr_full_data[\"NDC\"].values.tolist()\n",
    "lab_sentences = ehr_full_data[\"LAB_TEST\"].values.tolist()\n",
    "pro_sentences = ehr_full_data[\"PRO_CODE\"].values.tolist()\n",
    "age_sentences = [[str(c)] for c in set(ehr_full_data[\"AGE\"].values.tolist())] # important of [[]]\n",
    "max_admissions = ehr_full_data.groupby(\"SUBJECT_ID\")[\"HADM_ID\"].nunique().max()\n",
    "config.max_num_adms = max_admissions\n",
    "print(f\"Max admissions per patient: {config.max_num_adms}\")"
   ]
  },
  {
   "cell_type": "code",
   "execution_count": 7,
   "id": "a8db4baa",
   "metadata": {},
   "outputs": [
    {
     "name": "stdout",
     "output_type": "stream",
     "text": [
      "Age vocabulary size: 18\n",
      "Group code vocabulary size: 19\n"
     ]
    }
   ],
   "source": [
    "tokenizer = EHRTokenizer(age_sentences, group_code_sentences, diag_sentences, med_sentences, lab_sentences, \n",
    "                         pro_sentences, special_tokens=config.special_tokens)\n",
    "config.label_vocab_size = len(tokenizer.diag_voc.id2word)  # only for diagnosis\n",
    "config.global_vocab_size = len(tokenizer.vocab.id2word)\n",
    "config.age_vocab_size = tokenizer.token_number(\"age\")\n",
    "config.group_code_vocab_size = tokenizer.token_number(\"group\")\n",
    "print(f\"Age vocabulary size: {config.age_vocab_size}\")\n",
    "print(f\"Group code vocabulary size: {config.group_code_vocab_size}\")"
   ]
  },
  {
   "cell_type": "code",
   "execution_count": 8,
   "id": "4a50b960",
   "metadata": {},
   "outputs": [
    {
     "name": "stdout",
     "output_type": "stream",
     "text": [
      "Percentage of DEATH in test dataset: 28.648477157360407 %\n",
      "Percentage of READMISSION in test dataset: 40.1491116751269 %\n",
      "Percentage of STAY>7 days in test dataset: 50.58692893401015 %\n"
     ]
    }
   ],
   "source": [
    "train_data, val_data, test_data = pickle.load(open(finetune_data_path, 'rb'))\n",
    "# example label percentage\n",
    "print(\"Percentage of DEATH in test dataset:\",\n",
    "      (test_data[\"DEATH\"] == True).mean() * 100, \"%\")\n",
    "\n",
    "print(\"Percentage of READMISSION in test dataset:\",\n",
    "      (test_data[\"READMISSION\"] == 1).mean() * 100, \"%\")\n",
    "\n",
    "print(\"Percentage of STAY>7 days in test dataset:\",\n",
    "      (test_data[\"STAY_DAYS\"] > 7).mean() * 100, \"%\")"
   ]
  },
  {
   "cell_type": "code",
   "execution_count": 9,
   "id": "09f0ec18",
   "metadata": {},
   "outputs": [],
   "source": [
    "train_dataset = FineTuneEHRDataset(train_data, tokenizer, token_type=config.token_type, task=curr_task, \n",
    "                                   max_num_adms=config.max_num_adms, group_code_thre=config.group_code_thre)\n",
    "val_dataset = FineTuneEHRDataset(val_data, tokenizer, token_type=config.token_type, task=curr_task, \n",
    "                                 max_num_adms=config.max_num_adms, group_code_thre=config.group_code_thre)\n",
    "test_dataset = FineTuneEHRDataset(test_data, tokenizer, token_type=config.token_type, task=curr_task, \n",
    "                                   max_num_adms=config.max_num_adms, group_code_thre=config.group_code_thre)"
   ]
  },
  {
   "cell_type": "code",
   "execution_count": 10,
   "id": "98c78018",
   "metadata": {},
   "outputs": [
    {
     "name": "stdout",
     "output_type": "stream",
     "text": [
      "Mean group token numer per patient 0.7971893963589908\n"
     ]
    }
   ],
   "source": [
    "num_group_code = []\n",
    "for i in range(len(train_dataset)):\n",
    "    input_ids, token_types, adm_index, age_ids, diag_group_codes, labels = train_dataset[i]\n",
    "    count = (token_types[0] == 6).sum().item()\n",
    "    num_group_code.append(count)\n",
    "print(\"Mean group token numer per patient\", np.mean(num_group_code))"
   ]
  },
  {
   "cell_type": "code",
   "execution_count": 11,
   "id": "d71f325f",
   "metadata": {},
   "outputs": [],
   "source": [
    "train_dataloader = DataLoader(\n",
    "    train_dataset,\n",
    "    collate_fn=batcher(tokenizer, n_token_type=len(config.token_type), is_pretrain = False),\n",
    "    shuffle=True,\n",
    "    batch_size=config.batch_size,\n",
    ")\n",
    "\n",
    "val_dataloader = DataLoader(\n",
    "    val_dataset,\n",
    "    collate_fn=batcher(tokenizer, n_token_type=len(config.token_type), is_pretrain = False),\n",
    "    shuffle=False,\n",
    "    batch_size=config.batch_size,\n",
    ")\n",
    "\n",
    "test_dataloader = DataLoader(\n",
    "    test_dataset,\n",
    "    collate_fn=batcher(tokenizer, n_token_type=len(config.token_type), is_pretrain = False),\n",
    "    shuffle=False,\n",
    "    batch_size=config.batch_size,\n",
    ")"
   ]
  },
  {
   "cell_type": "code",
   "execution_count": 12,
   "id": "7b46906f",
   "metadata": {},
   "outputs": [
    {
     "name": "stdout",
     "output_type": "stream",
     "text": [
      "All pass!\n"
     ]
    }
   ],
   "source": [
    "for batch in train_dataloader:\n",
    "    pass  # just to check if the dataloader works\n",
    "for batch in val_dataloader:\n",
    "    pass  # just to check if the dataloader works\n",
    "for batch in test_dataloader:\n",
    "    pass  # just to check if the dataloader works\n",
    "print(\"All pass!\")"
   ]
  },
  {
   "cell_type": "code",
   "execution_count": 13,
   "id": "10339a18",
   "metadata": {},
   "outputs": [],
   "source": [
    "if curr_task in [\"death\", \"stay\", \"readmission\"]:\n",
    "    eval_metric = \"f1\"\n",
    "    task_type = \"binary\"\n",
    "    loss_fn = F.binary_cross_entropy_with_logits\n",
    "else:\n",
    "    eval_metric = \"f1\"\n",
    "    task_type = \"l2r\"\n",
    "    loss_fn = lambda x, y: F.binary_cross_entropy_with_logits(x, y)"
   ]
  },
  {
   "cell_type": "code",
   "execution_count": 14,
   "id": "d5717b84",
   "metadata": {},
   "outputs": [
    {
     "name": "stdout",
     "output_type": "stream",
     "text": [
      "Input IDs shape: torch.Size([32, 293])\n",
      "Token Types shape: torch.Size([32, 293])\n",
      "Admission Index shape: torch.Size([32, 293])\n",
      "Age IDs shape: torch.Size([32, 8])\n",
      "Diag Code Group Dict number: 32\n",
      "Labels shape: torch.Size([32, 1])\n"
     ]
    }
   ],
   "source": [
    "input_ids, token_types, adm_index, age_ids, diag_code_group_dicts, labels = next(iter(train_dataloader))\n",
    "print(\"Input IDs shape:\", input_ids.shape)\n",
    "print(\"Token Types shape:\", token_types.shape)\n",
    "print(\"Admission Index shape:\", adm_index.shape)\n",
    "print(\"Age IDs shape:\", age_ids.shape)\n",
    "print(\"Diag Code Group Dict number:\", len(diag_code_group_dicts))\n",
    "print(\"Labels shape:\", labels.shape)"
   ]
  },
  {
   "cell_type": "markdown",
   "id": "814e9e16",
   "metadata": {},
   "source": [
    "# Model Walkthrough"
   ]
  },
  {
   "cell_type": "code",
   "execution_count": 15,
   "id": "4ec004c0",
   "metadata": {},
   "outputs": [],
   "source": [
    "attn_mask_dicts = [{1:[6,7], 2:[6,7], 3:[6,7], 4:[6,7], 6:[2,3,4,5,6,7], 7:[2,3,4,5,6,7]}, \n",
    "                   {1:[6,7], 2:[6,7], 3:[6,7], 4:[6,7], 6:[2,3,4,5,6,7], 7:[2,3,4,5,6,7]}]"
   ]
  },
  {
   "cell_type": "code",
   "execution_count": 16,
   "id": "f0fed5f6-b245-4bc3-b252-f6af0756f18a",
   "metadata": {
    "tags": []
   },
   "outputs": [
    {
     "name": "stderr",
     "output_type": "stream",
     "text": [
      "Epoch 001: 100%|██████████| 98/98 [00:07<00:00, 13.88it/s, loss=0.6937]\n",
      "Running inference: 100%|██████████| 198/198 [00:08<00:00, 22.19it/s]\n",
      "Running inference: 100%|██████████| 197/197 [00:09<00:00, 21.25it/s]\n"
     ]
    },
    {
     "name": "stdout",
     "output_type": "stream",
     "text": [
      "Validation: {'precision': 0.6182373472935903, 'recall': 0.8886798369366928, 'f1': 0.7291907837864662, 'auc': 0.7807708510983115, 'prauc': 0.7824556976905184}\n",
      "Test:      {'precision': 0.6115810019505279, 'recall': 0.8842897459991086, 'f1': 0.7230769182412495, 'auc': 0.7717335423181714, 'prauc': 0.7736575545837455}\n"
     ]
    },
    {
     "name": "stderr",
     "output_type": "stream",
     "text": [
      "Epoch 002: 100%|██████████| 98/98 [00:06<00:00, 15.63it/s, loss=0.6070]\n",
      "Running inference: 100%|██████████| 198/198 [00:09<00:00, 21.96it/s]\n",
      "Running inference: 100%|██████████| 197/197 [00:09<00:00, 21.79it/s]\n"
     ]
    },
    {
     "name": "stdout",
     "output_type": "stream",
     "text": [
      "Validation: {'precision': 0.6828229027944532, 'recall': 0.8040137974261399, 'f1': 0.738479257703903, 'auc': 0.8046067420358893, 'prauc': 0.8168990861575831}\n",
      "Test:      {'precision': 0.6787148594359338, 'recall': 0.7949200376268583, 'f1': 0.7322356969353889, 'auc': 0.7979962722983853, 'prauc': 0.8132044772530707}\n"
     ]
    },
    {
     "name": "stderr",
     "output_type": "stream",
     "text": [
      "Epoch 003: 100%|██████████| 98/98 [00:06<00:00, 15.93it/s, loss=0.5582]\n",
      "Running inference: 100%|██████████| 198/198 [00:08<00:00, 22.39it/s]\n",
      "Running inference: 100%|██████████| 197/197 [00:09<00:00, 21.65it/s]\n"
     ]
    },
    {
     "name": "stdout",
     "output_type": "stream",
     "text": [
      "Validation: {'precision': 0.8195187165738881, 'recall': 0.5766698024440995, 'f1': 0.6769740426363543, 'auc': 0.8108900056857977, 'prauc': 0.8198505626676416}\n",
      "Test:      {'precision': 0.8082311733764964, 'recall': 0.5788648479128916, 'f1': 0.6745843181746299, 'auc': 0.8027187659022512, 'prauc': 0.816319156690563}\n"
     ]
    },
    {
     "name": "stderr",
     "output_type": "stream",
     "text": [
      "Epoch 004: 100%|██████████| 98/98 [00:06<00:00, 15.88it/s, loss=0.5411]\n",
      "Running inference: 100%|██████████| 198/198 [00:09<00:00, 21.74it/s]\n",
      "Running inference: 100%|██████████| 197/197 [00:09<00:00, 21.83it/s]\n"
     ]
    },
    {
     "name": "stdout",
     "output_type": "stream",
     "text": [
      "Validation: {'precision': 0.8223483195075411, 'recall': 0.5907808090291917, 'f1': 0.6875912360076676, 'auc': 0.8159373442974082, 'prauc': 0.821034688942649}\n",
      "Test:      {'precision': 0.8089792460787422, 'recall': 0.5989338350561338, 'f1': 0.6882882833970951, 'auc': 0.8105847397781399, 'prauc': 0.8234294421384032}\n"
     ]
    },
    {
     "name": "stderr",
     "output_type": "stream",
     "text": [
      "Epoch 005: 100%|██████████| 98/98 [00:06<00:00, 15.61it/s, loss=0.4940]\n",
      "Running inference: 100%|██████████| 198/198 [00:09<00:00, 21.94it/s]\n",
      "Running inference: 100%|██████████| 197/197 [00:09<00:00, 21.42it/s]\n"
     ]
    },
    {
     "name": "stdout",
     "output_type": "stream",
     "text": [
      "Validation: {'precision': 0.7980732177233215, 'recall': 0.6494198808383524, 'f1': 0.7161134113711425, 'auc': 0.8228280207445713, 'prauc': 0.827766555808411}\n",
      "Test:      {'precision': 0.784125766868159, 'recall': 0.6412668548114103, 'f1': 0.7055373419513613, 'auc': 0.8131946342438165, 'prauc': 0.8223019330661526}\n"
     ]
    },
    {
     "name": "stderr",
     "output_type": "stream",
     "text": [
      "Epoch 006: 100%|██████████| 98/98 [00:06<00:00, 16.05it/s, loss=0.4506]\n",
      "Running inference: 100%|██████████| 198/198 [00:08<00:00, 22.01it/s]\n",
      "Running inference: 100%|██████████| 197/197 [00:09<00:00, 21.83it/s]\n"
     ]
    },
    {
     "name": "stdout",
     "output_type": "stream",
     "text": [
      "Validation: {'precision': 0.7232884560277191, 'recall': 0.7917842583857266, 'f1': 0.755988018960052, 'auc': 0.8225153973191046, 'prauc': 0.8247692616973521}\n",
      "Test:      {'precision': 0.7188847369913226, 'recall': 0.7842583882070108, 'f1': 0.7501499650132063, 'auc': 0.8152602721936915, 'prauc': 0.8176290976106607}\n"
     ]
    },
    {
     "name": "stderr",
     "output_type": "stream",
     "text": [
      "Epoch 007: 100%|██████████| 98/98 [00:06<00:00, 15.96it/s, loss=0.4260]\n",
      "Running inference: 100%|██████████| 198/198 [00:08<00:00, 22.23it/s]\n",
      "Running inference: 100%|██████████| 197/197 [00:09<00:00, 21.37it/s]\n"
     ]
    },
    {
     "name": "stdout",
     "output_type": "stream",
     "text": [
      "Validation: {'precision': 0.7920651788849024, 'recall': 0.7011602383170237, 'f1': 0.7438456370652912, 'auc': 0.8352364529262869, 'prauc': 0.8370042955094231}\n",
      "Test:      {'precision': 0.7746773630946122, 'recall': 0.6964565694553263, 'f1': 0.7334874454740645, 'auc': 0.8225070429199088, 'prauc': 0.8304401361340079}\n"
     ]
    },
    {
     "name": "stderr",
     "output_type": "stream",
     "text": [
      "Epoch 008: 100%|██████████| 98/98 [00:06<00:00, 16.30it/s, loss=0.3905]\n",
      "Running inference: 100%|██████████| 198/198 [00:09<00:00, 21.86it/s]\n",
      "Running inference: 100%|██████████| 197/197 [00:08<00:00, 21.93it/s]\n"
     ]
    },
    {
     "name": "stdout",
     "output_type": "stream",
     "text": [
      "Validation: {'precision': 0.7384848484826106, 'recall': 0.7641894010637686, 'f1': 0.7511172703882681, 'auc': 0.8202993026432881, 'prauc': 0.8187441901823803}\n",
      "Test:      {'precision': 0.7263189448419475, 'recall': 0.7597993101261844, 'f1': 0.7426819873374262, 'auc': 0.8120598646933908, 'prauc': 0.8146962436197458}\n"
     ]
    },
    {
     "name": "stderr",
     "output_type": "stream",
     "text": [
      "Epoch 009: 100%|██████████| 98/98 [00:06<00:00, 16.13it/s, loss=0.3774]\n",
      "Running inference: 100%|██████████| 198/198 [00:09<00:00, 21.96it/s]\n",
      "Running inference: 100%|██████████| 197/197 [00:09<00:00, 21.08it/s]\n"
     ]
    },
    {
     "name": "stdout",
     "output_type": "stream",
     "text": [
      "Validation: {'precision': 0.7509079903124973, 'recall': 0.7779868297247476, 'f1': 0.7642076031926538, 'auc': 0.8335723096526237, 'prauc': 0.8366192888043034}\n",
      "Test:      {'precision': 0.7360024081856231, 'recall': 0.7666980244566739, 'f1': 0.7510367021108223, 'auc': 0.8229557160524215, 'prauc': 0.8321821314783768}\n"
     ]
    },
    {
     "name": "stderr",
     "output_type": "stream",
     "text": [
      "Epoch 010: 100%|██████████| 98/98 [00:06<00:00, 15.99it/s, loss=0.3403]\n",
      "Running inference: 100%|██████████| 198/198 [00:09<00:00, 21.86it/s]\n",
      "Running inference: 100%|██████████| 197/197 [00:09<00:00, 21.86it/s]\n"
     ]
    },
    {
     "name": "stdout",
     "output_type": "stream",
     "text": [
      "Validation: {'precision': 0.7354497354475736, 'recall': 0.784571966131124, 'f1': 0.7592171092496182, 'auc': 0.8220537716310744, 'prauc': 0.8168955324389202}\n",
      "Test:      {'precision': 0.7221095334664674, 'recall': 0.7814361868899924, 'f1': 0.7506024046440781, 'auc': 0.8156597191288071, 'prauc': 0.8136602337787939}\n"
     ]
    },
    {
     "name": "stderr",
     "output_type": "stream",
     "text": [
      "Epoch 011: 100%|██████████| 98/98 [00:06<00:00, 15.89it/s, loss=0.3102]\n",
      "Running inference: 100%|██████████| 198/198 [00:08<00:00, 22.15it/s]\n",
      "Running inference: 100%|██████████| 197/197 [00:09<00:00, 21.42it/s]\n"
     ]
    },
    {
     "name": "stdout",
     "output_type": "stream",
     "text": [
      "Validation: {'precision': 0.7499225286620703, 'recall': 0.7588585763538449, 'f1': 0.7543640847733851, 'auc': 0.8265832696079896, 'prauc': 0.8235547766108247}\n",
      "Test:      {'precision': 0.7423088638417841, 'recall': 0.7641894010637686, 'f1': 0.7530902298565768, 'auc': 0.8219437603278122, 'prauc': 0.8247757466506267}\n"
     ]
    },
    {
     "name": "stderr",
     "output_type": "stream",
     "text": [
      "Epoch 012: 100%|██████████| 98/98 [00:06<00:00, 15.62it/s, loss=0.2753]\n",
      "Running inference: 100%|██████████| 198/198 [00:09<00:00, 21.81it/s]\n",
      "Running inference: 100%|██████████| 197/197 [00:09<00:00, 21.75it/s]\n"
     ]
    },
    {
     "name": "stdout",
     "output_type": "stream",
     "text": [
      "Validation: {'precision': 0.836444007854438, 'recall': 0.5340232047647099, 'f1': 0.6518660239491149, 'auc': 0.8217621974126255, 'prauc': 0.8203683172264054}\n",
      "Test:      {'precision': 0.8373435996109849, 'recall': 0.5456255879568968, 'f1': 0.6607176713164107, 'auc': 0.816913879824658, 'prauc': 0.8204478420416552}\n"
     ]
    },
    {
     "name": "stderr",
     "output_type": "stream",
     "text": [
      "Epoch 013: 100%|██████████| 98/98 [00:06<00:00, 15.82it/s, loss=0.2655]\n",
      "Running inference: 100%|██████████| 198/198 [00:08<00:00, 22.30it/s]\n",
      "Running inference: 100%|██████████| 197/197 [00:09<00:00, 21.19it/s]\n"
     ]
    },
    {
     "name": "stdout",
     "output_type": "stream",
     "text": [
      "Validation: {'precision': 0.7136715391209124, 'recall': 0.780809031041766, 'f1': 0.7457322501740747, 'auc': 0.803292598345261, 'prauc': 0.7824360326023453}\n",
      "Test:      {'precision': 0.7064846416362159, 'recall': 0.7789275634970871, 'f1': 0.7409395923251186, 'auc': 0.7991573662877054, 'prauc': 0.7880339026180059}\n"
     ]
    },
    {
     "name": "stderr",
     "output_type": "stream",
     "text": [
      "Epoch 014: 100%|██████████| 98/98 [00:06<00:00, 15.35it/s, loss=0.2454]\n",
      "Running inference: 100%|██████████| 198/198 [00:09<00:00, 21.89it/s]\n",
      "Running inference: 100%|██████████| 197/197 [00:09<00:00, 21.86it/s]\n"
     ]
    },
    {
     "name": "stdout",
     "output_type": "stream",
     "text": [
      "Validation: {'precision': 0.7065277015888466, 'recall': 0.8077767325154978, 'f1': 0.7537673688314125, 'auc': 0.8158211466462585, 'prauc': 0.8077874876075928}\n",
      "Test:      {'precision': 0.7003522080717953, 'recall': 0.8105989338325161, 'f1': 0.7514534833965283, 'auc': 0.8116454686983297, 'prauc': 0.8098451794687016}\n",
      "\n",
      "Early stopping triggered (no improvement for 5 epochs).\n",
      "\n",
      "Best validation performance:\n",
      "{'precision': 0.7509079903124973, 'recall': 0.7779868297247476, 'f1': 0.7642076031926538, 'auc': 0.8335723096526237, 'prauc': 0.8366192888043034}\n",
      "Corresponding test performance:\n",
      "{'precision': 0.7360024081856231, 'recall': 0.7666980244566739, 'f1': 0.7510367021108223, 'auc': 0.8229557160524215, 'prauc': 0.8321821314783768}\n"
     ]
    },
    {
     "name": "stderr",
     "output_type": "stream",
     "text": [
      "Epoch 001: 100%|██████████| 98/98 [00:06<00:00, 15.39it/s, loss=0.7032]\n",
      "Running inference: 100%|██████████| 198/198 [00:08<00:00, 22.01it/s]\n",
      "Running inference: 100%|██████████| 197/197 [00:09<00:00, 21.36it/s]\n"
     ]
    },
    {
     "name": "stdout",
     "output_type": "stream",
     "text": [
      "Validation: {'precision': 0.8037552998134238, 'recall': 0.41611790529816206, 'f1': 0.5483471029406352, 'auc': 0.7669860318667914, 'prauc': 0.7696888149509129}\n",
      "Test:      {'precision': 0.7948717948669423, 'recall': 0.4082784571953331, 'f1': 0.5394655020397823, 'auc': 0.7602900620964823, 'prauc': 0.7563828272213458}\n"
     ]
    },
    {
     "name": "stderr",
     "output_type": "stream",
     "text": [
      "Epoch 002: 100%|██████████| 98/98 [00:06<00:00, 15.81it/s, loss=0.6256]\n",
      "Running inference: 100%|██████████| 198/198 [00:09<00:00, 21.79it/s]\n",
      "Running inference: 100%|██████████| 197/197 [00:09<00:00, 21.85it/s]\n"
     ]
    },
    {
     "name": "stdout",
     "output_type": "stream",
     "text": [
      "Validation: {'precision': 0.7276154571136425, 'recall': 0.7262464722460764, 'f1': 0.7269303151483821, 'auc': 0.8015810315598448, 'prauc': 0.8139979695950348}\n",
      "Test:      {'precision': 0.7276178424526175, 'recall': 0.7212292254602658, 'f1': 0.7244094438167133, 'auc': 0.7966955530825012, 'prauc': 0.8083947367054606}\n"
     ]
    },
    {
     "name": "stderr",
     "output_type": "stream",
     "text": [
      "Epoch 003: 100%|██████████| 98/98 [00:06<00:00, 15.79it/s, loss=0.5600]\n",
      "Running inference: 100%|██████████| 198/198 [00:08<00:00, 22.26it/s]\n",
      "Running inference: 100%|██████████| 197/197 [00:09<00:00, 21.39it/s]\n"
     ]
    },
    {
     "name": "stdout",
     "output_type": "stream",
     "text": [
      "Validation: {'precision': 0.8014557217921494, 'recall': 0.6215114455922812, 'f1': 0.7001059646995257, 'auc': 0.8171718627061202, 'prauc': 0.8289747019881051}\n",
      "Test:      {'precision': 0.7898724082903116, 'recall': 0.6211978676681681, 'f1': 0.6954537426554526, 'auc': 0.8085342018888162, 'prauc': 0.8244293927122426}\n"
     ]
    },
    {
     "name": "stderr",
     "output_type": "stream",
     "text": [
      "Epoch 004: 100%|██████████| 98/98 [00:06<00:00, 15.84it/s, loss=0.5230]\n",
      "Running inference: 100%|██████████| 198/198 [00:08<00:00, 22.01it/s]\n",
      "Running inference: 100%|██████████| 197/197 [00:09<00:00, 21.80it/s]\n"
     ]
    },
    {
     "name": "stdout",
     "output_type": "stream",
     "text": [
      "Validation: {'precision': 0.7330595482524698, 'recall': 0.7836312323587845, 'f1': 0.7575022684194496, 'auc': 0.8250242216591015, 'prauc': 0.8328576709373808}\n",
      "Test:      {'precision': 0.7235363690102793, 'recall': 0.7673251803049003, 'f1': 0.74478769854793, 'auc': 0.8180053625348371, 'prauc': 0.8283667521736368}\n"
     ]
    },
    {
     "name": "stderr",
     "output_type": "stream",
     "text": [
      "Epoch 005: 100%|██████████| 98/98 [00:06<00:00, 15.94it/s, loss=0.4999]\n",
      "Running inference: 100%|██████████| 198/198 [00:08<00:00, 22.10it/s]\n",
      "Running inference: 100%|██████████| 197/197 [00:09<00:00, 21.60it/s]\n"
     ]
    },
    {
     "name": "stdout",
     "output_type": "stream",
     "text": [
      "Validation: {'precision': 0.6775942814871146, 'recall': 0.8620257133870742, 'f1': 0.7587634507693506, 'auc': 0.8310247527622439, 'prauc': 0.8410067041398537}\n",
      "Test:      {'precision': 0.6750741839745918, 'recall': 0.8560677328289242, 'f1': 0.7548734915422706, 'auc': 0.824345575959093, 'prauc': 0.8364561555471552}\n"
     ]
    },
    {
     "name": "stderr",
     "output_type": "stream",
     "text": [
      "Epoch 006: 100%|██████████| 98/98 [00:06<00:00, 16.20it/s, loss=0.4742]\n",
      "Running inference: 100%|██████████| 198/198 [00:09<00:00, 21.72it/s]\n",
      "Running inference: 100%|██████████| 197/197 [00:09<00:00, 21.78it/s]\n"
     ]
    },
    {
     "name": "stdout",
     "output_type": "stream",
     "text": [
      "Validation: {'precision': 0.7802513464963008, 'recall': 0.6814048290978947, 'f1': 0.7274857666976995, 'auc': 0.8248329200354191, 'prauc': 0.828559619902719}\n",
      "Test:      {'precision': 0.7843772498171909, 'recall': 0.6832862966425736, 'f1': 0.7303502547832981, 'auc': 0.8194716790814331, 'prauc': 0.8272185438851665}\n"
     ]
    },
    {
     "name": "stderr",
     "output_type": "stream",
     "text": [
      "Epoch 007: 100%|██████████| 98/98 [00:06<00:00, 15.70it/s, loss=0.4525]\n",
      "Running inference: 100%|██████████| 198/198 [00:09<00:00, 21.84it/s]\n",
      "Running inference: 100%|██████████| 197/197 [00:09<00:00, 21.36it/s]\n"
     ]
    },
    {
     "name": "stdout",
     "output_type": "stream",
     "text": [
      "Validation: {'precision': 0.7208391608371445, 'recall': 0.8080903104396109, 'f1': 0.7619751576396954, 'auc': 0.8266832407821303, 'prauc': 0.8354007814680259}\n",
      "Test:      {'precision': 0.7141652613807922, 'recall': 0.7968015051715371, 'f1': 0.7532236499704817, 'auc': 0.8219652527473302, 'prauc': 0.8344685255292874}\n"
     ]
    },
    {
     "name": "stderr",
     "output_type": "stream",
     "text": [
      "Epoch 008: 100%|██████████| 98/98 [00:06<00:00, 15.86it/s, loss=0.4315]\n",
      "Running inference: 100%|██████████| 198/198 [00:09<00:00, 21.96it/s]\n",
      "Running inference: 100%|██████████| 197/197 [00:09<00:00, 21.79it/s]\n"
     ]
    },
    {
     "name": "stdout",
     "output_type": "stream",
     "text": [
      "Validation: {'precision': 0.6934749620619791, 'recall': 0.8598306679182821, 'f1': 0.767744640162298, 'auc': 0.8304585341171475, 'prauc': 0.8344673416531951}\n",
      "Test:      {'precision': 0.6863385233533743, 'recall': 0.8570084666012637, 'f1': 0.7622367821180063, 'auc': 0.8285931223250873, 'prauc': 0.8372849692225797}\n"
     ]
    },
    {
     "name": "stderr",
     "output_type": "stream",
     "text": [
      "Epoch 009: 100%|██████████| 98/98 [00:06<00:00, 15.99it/s, loss=0.4075]\n",
      "Running inference: 100%|██████████| 198/198 [00:09<00:00, 21.87it/s]\n",
      "Running inference: 100%|██████████| 197/197 [00:09<00:00, 21.46it/s]\n"
     ]
    },
    {
     "name": "stdout",
     "output_type": "stream",
     "text": [
      "Validation: {'precision': 0.7587596899201279, 'recall': 0.7673251803049003, 'f1': 0.7630183922537809, 'auc': 0.8331184204273159, 'prauc': 0.8358049103831476}\n",
      "Test:      {'precision': 0.7484452736295135, 'recall': 0.7547820633403739, 'f1': 0.7516003072537919, 'auc': 0.8272789640553125, 'prauc': 0.8323306383985469}\n"
     ]
    },
    {
     "name": "stderr",
     "output_type": "stream",
     "text": [
      "Epoch 010: 100%|██████████| 98/98 [00:05<00:00, 16.61it/s, loss=0.3774]\n",
      "Running inference: 100%|██████████| 198/198 [00:08<00:00, 22.55it/s]\n",
      "Running inference: 100%|██████████| 197/197 [00:09<00:00, 21.76it/s]\n"
     ]
    },
    {
     "name": "stdout",
     "output_type": "stream",
     "text": [
      "Validation: {'precision': 0.7360023208565826, 'recall': 0.7955471934750845, 'f1': 0.764617234306037, 'auc': 0.8275556023092436, 'prauc': 0.8304682052699655}\n",
      "Test:      {'precision': 0.7278517660662194, 'recall': 0.7883349012204819, 'f1': 0.7568869436734487, 'auc': 0.8241613048868326, 'prauc': 0.8305688702897494}\n"
     ]
    },
    {
     "name": "stderr",
     "output_type": "stream",
     "text": [
      "Epoch 011: 100%|██████████| 98/98 [00:06<00:00, 15.87it/s, loss=0.3748]\n",
      "Running inference: 100%|██████████| 198/198 [00:09<00:00, 21.76it/s]\n",
      "Running inference: 100%|██████████| 197/197 [00:09<00:00, 21.04it/s]\n"
     ]
    },
    {
     "name": "stdout",
     "output_type": "stream",
     "text": [
      "Validation: {'precision': 0.7021556256553572, 'recall': 0.8375666353062479, 'f1': 0.7639067589432509, 'auc': 0.8208010675112875, 'prauc': 0.8221627698671552}\n",
      "Test:      {'precision': 0.6959064327466882, 'recall': 0.8209470053282504, 'f1': 0.7532729054044178, 'auc': 0.8200321933290952, 'prauc': 0.8251261770659759}\n"
     ]
    },
    {
     "name": "stderr",
     "output_type": "stream",
     "text": [
      "Epoch 012: 100%|██████████| 98/98 [00:05<00:00, 16.56it/s, loss=0.3468]\n",
      "Running inference: 100%|██████████| 198/198 [00:08<00:00, 22.14it/s]\n",
      "Running inference: 100%|██████████| 197/197 [00:08<00:00, 21.98it/s]\n"
     ]
    },
    {
     "name": "stdout",
     "output_type": "stream",
     "text": [
      "Validation: {'precision': 0.7902711323732445, 'recall': 0.6215114455922812, 'f1': 0.6958048046178876, 'auc': 0.8130425508463942, 'prauc': 0.8107503151629192}\n",
      "Test:      {'precision': 0.782540919716358, 'recall': 0.6296644716192235, 'f1': 0.6978279707294969, 'auc': 0.8120902158150987, 'prauc': 0.8147270410567726}\n"
     ]
    },
    {
     "name": "stderr",
     "output_type": "stream",
     "text": [
      "Epoch 013: 100%|██████████| 98/98 [00:06<00:00, 15.85it/s, loss=0.3458]\n",
      "Running inference: 100%|██████████| 198/198 [00:08<00:00, 22.06it/s]\n",
      "Running inference: 100%|██████████| 197/197 [00:09<00:00, 20.89it/s]\n"
     ]
    },
    {
     "name": "stdout",
     "output_type": "stream",
     "text": [
      "Validation: {'precision': 0.7810734463249256, 'recall': 0.6936343681383078, 'f1': 0.734761662512231, 'auc': 0.8242977979515254, 'prauc': 0.8259815459772694}\n",
      "Test:      {'precision': 0.7712164073522941, 'recall': 0.6839134524907999, 'f1': 0.7249459813875347, 'auc': 0.8218076584487104, 'prauc': 0.8300701275169965}\n",
      "\n",
      "Early stopping triggered (no improvement for 5 epochs).\n",
      "\n",
      "Best validation performance:\n",
      "{'precision': 0.6934749620619791, 'recall': 0.8598306679182821, 'f1': 0.767744640162298, 'auc': 0.8304585341171475, 'prauc': 0.8344673416531951}\n",
      "Corresponding test performance:\n",
      "{'precision': 0.6863385233533743, 'recall': 0.8570084666012637, 'f1': 0.7622367821180063, 'auc': 0.8285931223250873, 'prauc': 0.8372849692225797}\n"
     ]
    },
    {
     "name": "stderr",
     "output_type": "stream",
     "text": [
      "Epoch 001: 100%|██████████| 98/98 [00:05<00:00, 16.47it/s, loss=0.6862]\n",
      "Running inference: 100%|██████████| 198/198 [00:08<00:00, 22.22it/s]\n",
      "Running inference: 100%|██████████| 197/197 [00:09<00:00, 21.77it/s]\n"
     ]
    },
    {
     "name": "stdout",
     "output_type": "stream",
     "text": [
      "Validation: {'precision': 0.8115523465645376, 'recall': 0.3524615867031908, 'f1': 0.49147354190592196, 'auc': 0.7393178288591963, 'prauc': 0.7461565597384423}\n",
      "Test:      {'precision': 0.7950937950880586, 'recall': 0.3455628723727013, 'f1': 0.48174862965424303, 'auc': 0.7228874637787298, 'prauc': 0.7287480536807012}\n"
     ]
    },
    {
     "name": "stderr",
     "output_type": "stream",
     "text": [
      "Epoch 002: 100%|██████████| 98/98 [00:06<00:00, 15.77it/s, loss=0.6031]\n",
      "Running inference: 100%|██████████| 198/198 [00:09<00:00, 21.90it/s]\n",
      "Running inference: 100%|██████████| 197/197 [00:09<00:00, 21.02it/s]\n"
     ]
    },
    {
     "name": "stdout",
     "output_type": "stream",
     "text": [
      "Validation: {'precision': 0.6982195845676611, 'recall': 0.7378488554382633, 'f1': 0.7174874168647088, 'auc': 0.7825285352394371, 'prauc': 0.7960088134994942}\n",
      "Test:      {'precision': 0.6864431919291414, 'recall': 0.72561931639785, 'f1': 0.7054877998797466, 'auc': 0.7713830195792419, 'prauc': 0.7884507017921367}\n"
     ]
    },
    {
     "name": "stderr",
     "output_type": "stream",
     "text": [
      "Epoch 003: 100%|██████████| 98/98 [00:06<00:00, 16.12it/s, loss=0.5547]\n",
      "Running inference: 100%|██████████| 198/198 [00:08<00:00, 22.14it/s]\n",
      "Running inference: 100%|██████████| 197/197 [00:08<00:00, 21.90it/s]\n"
     ]
    },
    {
     "name": "stdout",
     "output_type": "stream",
     "text": [
      "Validation: {'precision': 0.7393867924499238, 'recall': 0.5898400752568522, 'f1': 0.6562009369762272, 'auc': 0.7788464813512567, 'prauc': 0.7900518614518375}\n",
      "Test:      {'precision': 0.7347328244246766, 'recall': 0.6036375039178312, 'f1': 0.6627646705492197, 'auc': 0.7740685150147453, 'prauc': 0.7886112950113918}\n"
     ]
    },
    {
     "name": "stderr",
     "output_type": "stream",
     "text": [
      "Epoch 004: 100%|██████████| 98/98 [00:06<00:00, 15.81it/s, loss=0.5220]\n",
      "Running inference: 100%|██████████| 198/198 [00:09<00:00, 21.96it/s]\n",
      "Running inference: 100%|██████████| 197/197 [00:09<00:00, 21.09it/s]\n"
     ]
    },
    {
     "name": "stdout",
     "output_type": "stream",
     "text": [
      "Validation: {'precision': 0.7303268765111068, 'recall': 0.7566635308850528, 'f1': 0.743261969433285, 'auc': 0.8131899455322882, 'prauc': 0.8205751900210241}\n",
      "Test:      {'precision': 0.7089132365984337, 'recall': 0.7507055503269028, 'f1': 0.7292110824219206, 'auc': 0.8014565518407728, 'prauc': 0.8122663691250771}\n"
     ]
    },
    {
     "name": "stderr",
     "output_type": "stream",
     "text": [
      "Epoch 005: 100%|██████████| 98/98 [00:06<00:00, 15.94it/s, loss=0.4874]\n",
      "Running inference: 100%|██████████| 198/198 [00:08<00:00, 22.42it/s]\n",
      "Running inference: 100%|██████████| 197/197 [00:09<00:00, 21.85it/s]\n"
     ]
    },
    {
     "name": "stdout",
     "output_type": "stream",
     "text": [
      "Validation: {'precision': 0.8583106266983199, 'recall': 0.4938852304782255, 'f1': 0.6269904412205453, 'auc': 0.8216978441090705, 'prauc': 0.8318293677261676}\n",
      "Test:      {'precision': 0.8346938775467618, 'recall': 0.5130134838491283, 'f1': 0.6354631920196201, 'auc': 0.8126041715427279, 'prauc': 0.8220094723974956}\n"
     ]
    },
    {
     "name": "stderr",
     "output_type": "stream",
     "text": [
      "Epoch 006: 100%|██████████| 98/98 [00:06<00:00, 15.72it/s, loss=0.4597]\n",
      "Running inference: 100%|██████████| 198/198 [00:09<00:00, 21.84it/s]\n",
      "Running inference: 100%|██████████| 197/197 [00:09<00:00, 20.87it/s]\n"
     ]
    },
    {
     "name": "stdout",
     "output_type": "stream",
     "text": [
      "Validation: {'precision': 0.7382082937615125, 'recall': 0.7312637190318869, 'f1': 0.7347195917211745, 'auc': 0.8163962069630375, 'prauc': 0.8247327410779866}\n",
      "Test:      {'precision': 0.7258867454862293, 'recall': 0.731577296956, 'f1': 0.728720907070266, 'auc': 0.8089630436084716, 'prauc': 0.8187276417407239}\n"
     ]
    },
    {
     "name": "stderr",
     "output_type": "stream",
     "text": [
      "Epoch 007: 100%|██████████| 98/98 [00:06<00:00, 16.09it/s, loss=0.4230]\n",
      "Running inference: 100%|██████████| 198/198 [00:08<00:00, 22.13it/s]\n",
      "Running inference: 100%|██████████| 197/197 [00:08<00:00, 21.90it/s]\n"
     ]
    },
    {
     "name": "stdout",
     "output_type": "stream",
     "text": [
      "Validation: {'precision': 0.8304147465399521, 'recall': 0.5650674192519126, 'f1': 0.6725135238216741, 'auc': 0.8296426889573247, 'prauc': 0.8383751397270587}\n",
      "Test:      {'precision': 0.8108471537390819, 'recall': 0.5672624647207047, 'f1': 0.6675276704304973, 'auc': 0.818404054466925, 'prauc': 0.8270531586092444}\n"
     ]
    },
    {
     "name": "stderr",
     "output_type": "stream",
     "text": [
      "Epoch 008: 100%|██████████| 98/98 [00:06<00:00, 15.96it/s, loss=0.3995]\n",
      "Running inference: 100%|██████████| 198/198 [00:09<00:00, 21.84it/s]\n",
      "Running inference: 100%|██████████| 197/197 [00:09<00:00, 21.19it/s]\n"
     ]
    },
    {
     "name": "stdout",
     "output_type": "stream",
     "text": [
      "Validation: {'precision': 0.7914252607153672, 'recall': 0.642521166507863, 'f1': 0.7092419472840675, 'auc': 0.8259464682997435, 'prauc': 0.8326592310272516}\n",
      "Test:      {'precision': 0.7764136904733021, 'recall': 0.654437127624163, 'f1': 0.7102263009723228, 'auc': 0.8169128228204194, 'prauc': 0.8231699822834697}\n"
     ]
    },
    {
     "name": "stderr",
     "output_type": "stream",
     "text": [
      "Epoch 009: 100%|██████████| 98/98 [00:06<00:00, 15.88it/s, loss=0.3643]\n",
      "Running inference: 100%|██████████| 198/198 [00:09<00:00, 21.95it/s]\n",
      "Running inference: 100%|██████████| 197/197 [00:08<00:00, 21.92it/s]\n"
     ]
    },
    {
     "name": "stdout",
     "output_type": "stream",
     "text": [
      "Validation: {'precision': 0.8252383113898083, 'recall': 0.5700846660377232, 'f1': 0.674332339378344, 'auc': 0.8280342080258466, 'prauc': 0.8379807201157443}\n",
      "Test:      {'precision': 0.808804488559306, 'recall': 0.5876450297880601, 'f1': 0.6807119457222832, 'auc': 0.8171449107510921, 'prauc': 0.8244232987126887}\n",
      "\n",
      "Early stopping triggered (no improvement for 5 epochs).\n",
      "\n",
      "Best validation performance:\n",
      "{'precision': 0.7303268765111068, 'recall': 0.7566635308850528, 'f1': 0.743261969433285, 'auc': 0.8131899455322882, 'prauc': 0.8205751900210241}\n",
      "Corresponding test performance:\n",
      "{'precision': 0.7089132365984337, 'recall': 0.7507055503269028, 'f1': 0.7292110824219206, 'auc': 0.8014565518407728, 'prauc': 0.8122663691250771}\n"
     ]
    },
    {
     "name": "stderr",
     "output_type": "stream",
     "text": [
      "Epoch 001: 100%|██████████| 98/98 [00:06<00:00, 15.91it/s, loss=0.7034]\n",
      "Running inference: 100%|██████████| 198/198 [00:09<00:00, 21.86it/s]\n",
      "Running inference: 100%|██████████| 197/197 [00:09<00:00, 21.41it/s]\n"
     ]
    },
    {
     "name": "stdout",
     "output_type": "stream",
     "text": [
      "Validation: {'precision': 0.5991285403037057, 'recall': 0.8623392913111875, 'f1': 0.7070317473135959, 'auc': 0.7397334376650592, 'prauc': 0.7347808243802154}\n",
      "Test:      {'precision': 0.5958695652160959, 'recall': 0.859517089994169, 'f1': 0.7038130648759734, 'auc': 0.7380225061369161, 'prauc': 0.7338373474741144}\n"
     ]
    },
    {
     "name": "stderr",
     "output_type": "stream",
     "text": [
      "Epoch 002: 100%|██████████| 98/98 [00:06<00:00, 15.77it/s, loss=0.6027]\n",
      "Running inference: 100%|██████████| 198/198 [00:09<00:00, 21.74it/s]\n",
      "Running inference: 100%|██████████| 197/197 [00:09<00:00, 21.78it/s]\n"
     ]
    },
    {
     "name": "stdout",
     "output_type": "stream",
     "text": [
      "Validation: {'precision': 0.6966033390883806, 'recall': 0.7588585763538449, 'f1': 0.7263995147428224, 'auc': 0.7942878581040301, 'prauc': 0.8082332019893969}\n",
      "Test:      {'precision': 0.6888131743308098, 'recall': 0.7607400438985239, 'f1': 0.72299209752841, 'auc': 0.7889757981262838, 'prauc': 0.8054579377175659}\n"
     ]
    },
    {
     "name": "stderr",
     "output_type": "stream",
     "text": [
      "Epoch 003: 100%|██████████| 98/98 [00:06<00:00, 15.88it/s, loss=0.5699]\n",
      "Running inference: 100%|██████████| 198/198 [00:08<00:00, 22.18it/s]\n",
      "Running inference: 100%|██████████| 197/197 [00:09<00:00, 21.36it/s]\n"
     ]
    },
    {
     "name": "stdout",
     "output_type": "stream",
     "text": [
      "Validation: {'precision': 0.8281489036163787, 'recall': 0.5092505487597703, 'f1': 0.6306796069323202, 'auc': 0.8034786753447675, 'prauc': 0.815830843436814}\n",
      "Test:      {'precision': 0.8286004056753113, 'recall': 0.5123863280009019, 'f1': 0.633210613372839, 'auc': 0.8021672613573847, 'prauc': 0.8191468536054685}\n"
     ]
    },
    {
     "name": "stderr",
     "output_type": "stream",
     "text": [
      "Epoch 004: 100%|██████████| 98/98 [00:06<00:00, 15.95it/s, loss=0.5231]\n",
      "Running inference: 100%|██████████| 198/198 [00:08<00:00, 22.38it/s]\n",
      "Running inference: 100%|██████████| 197/197 [00:09<00:00, 21.81it/s]\n"
     ]
    },
    {
     "name": "stdout",
     "output_type": "stream",
     "text": [
      "Validation: {'precision': 0.7239520958062158, 'recall': 0.7582314205056186, 'f1': 0.7406953541671999, 'auc': 0.8102225097105167, 'prauc': 0.8228648169513798}\n",
      "Test:      {'precision': 0.7198571003253353, 'recall': 0.7582314205056186, 'f1': 0.7385461159540772, 'auc': 0.8059865196726106, 'prauc': 0.8196766446314268}\n"
     ]
    },
    {
     "name": "stderr",
     "output_type": "stream",
     "text": [
      "Epoch 005: 100%|██████████| 98/98 [00:06<00:00, 15.71it/s, loss=0.5190]\n",
      "Running inference: 100%|██████████| 198/198 [00:08<00:00, 22.13it/s]\n",
      "Running inference: 100%|██████████| 197/197 [00:09<00:00, 21.05it/s]\n"
     ]
    },
    {
     "name": "stdout",
     "output_type": "stream",
     "text": [
      "Validation: {'precision': 0.749431264215959, 'recall': 0.7231106930049448, 'f1': 0.7360357434831295, 'auc': 0.8170331087448253, 'prauc': 0.8268718623431999}\n",
      "Test:      {'precision': 0.7562398703379053, 'recall': 0.731577296956, 'f1': 0.7437041709633003, 'auc': 0.8166412230646379, 'prauc': 0.8271301814148395}\n"
     ]
    },
    {
     "name": "stderr",
     "output_type": "stream",
     "text": [
      "Epoch 006: 100%|██████████| 98/98 [00:06<00:00, 15.73it/s, loss=0.5101]\n",
      "Running inference: 100%|██████████| 198/198 [00:09<00:00, 21.75it/s]\n",
      "Running inference: 100%|██████████| 197/197 [00:09<00:00, 21.71it/s]\n"
     ]
    },
    {
     "name": "stdout",
     "output_type": "stream",
     "text": [
      "Validation: {'precision': 0.7118644067776161, 'recall': 0.7770460959524081, 'f1': 0.7430284807644761, 'auc': 0.8113734843691803, 'prauc': 0.816065612815198}\n",
      "Test:      {'precision': 0.7099654377859737, 'recall': 0.7729695829389371, 'f1': 0.740129104750085, 'auc': 0.8096642904204713, 'prauc': 0.8172275408212714}\n"
     ]
    },
    {
     "name": "stderr",
     "output_type": "stream",
     "text": [
      "Epoch 007: 100%|██████████| 98/98 [00:06<00:00, 16.05it/s, loss=0.4480]\n",
      "Running inference: 100%|██████████| 198/198 [00:09<00:00, 21.94it/s]\n",
      "Running inference: 100%|██████████| 197/197 [00:09<00:00, 20.85it/s]\n"
     ]
    },
    {
     "name": "stdout",
     "output_type": "stream",
     "text": [
      "Validation: {'precision': 0.8296703296665309, 'recall': 0.5682031984930442, 'f1': 0.6744835239273067, 'auc': 0.8256972436791843, 'prauc': 0.8360060862530506}\n",
      "Test:      {'precision': 0.8318906605884653, 'recall': 0.5725932894306285, 'f1': 0.6783060872927195, 'auc': 0.8255855425980257, 'prauc': 0.8351342435540134}\n"
     ]
    },
    {
     "name": "stderr",
     "output_type": "stream",
     "text": [
      "Epoch 008: 100%|██████████| 98/98 [00:06<00:00, 16.23it/s, loss=0.4248]\n",
      "Running inference: 100%|██████████| 198/198 [00:08<00:00, 22.24it/s]\n",
      "Running inference: 100%|██████████| 197/197 [00:09<00:00, 21.85it/s]\n"
     ]
    },
    {
     "name": "stdout",
     "output_type": "stream",
     "text": [
      "Validation: {'precision': 0.7508805635582745, 'recall': 0.735340232045358, 'f1': 0.7430291458220201, 'auc': 0.8206220236597106, 'prauc': 0.8294733299527437}\n",
      "Test:      {'precision': 0.7540876389772594, 'recall': 0.7231106930049448, 'f1': 0.7382743666982504, 'auc': 0.8198283928451887, 'prauc': 0.8313967871691406}\n"
     ]
    },
    {
     "name": "stderr",
     "output_type": "stream",
     "text": [
      "Epoch 009: 100%|██████████| 98/98 [00:05<00:00, 16.47it/s, loss=0.3996]\n",
      "Running inference: 100%|██████████| 198/198 [00:09<00:00, 21.90it/s]\n",
      "Running inference: 100%|██████████| 197/197 [00:09<00:00, 20.99it/s]\n"
     ]
    },
    {
     "name": "stdout",
     "output_type": "stream",
     "text": [
      "Validation: {'precision': 0.7324236131689932, 'recall': 0.7742238946353898, 'f1': 0.7527438974405781, 'auc': 0.8263182706413597, 'prauc': 0.8349485963166496}\n",
      "Test:      {'precision': 0.738415545588226, 'recall': 0.7745374725595029, 'f1': 0.7560452965003829, 'auc': 0.8273886911619849, 'prauc': 0.8368025001662548}\n"
     ]
    },
    {
     "name": "stderr",
     "output_type": "stream",
     "text": [
      "Epoch 010: 100%|██████████| 98/98 [00:06<00:00, 15.99it/s, loss=0.3505]\n",
      "Running inference: 100%|██████████| 198/198 [00:09<00:00, 21.89it/s]\n",
      "Running inference: 100%|██████████| 197/197 [00:08<00:00, 22.00it/s]\n"
     ]
    },
    {
     "name": "stdout",
     "output_type": "stream",
     "text": [
      "Validation: {'precision': 0.7097669256362105, 'recall': 0.8021323298814609, 'f1': 0.7531282152431481, 'auc': 0.8208965173760451, 'prauc': 0.8287606214931447}\n",
      "Test:      {'precision': 0.7126823793470464, 'recall': 0.796487927247424, 'f1': 0.7522582506032988, 'auc': 0.8248816281086621, 'prauc': 0.8310654959690549}\n"
     ]
    },
    {
     "name": "stderr",
     "output_type": "stream",
     "text": [
      "Epoch 011: 100%|██████████| 98/98 [00:05<00:00, 16.46it/s, loss=0.3375]\n",
      "Running inference: 100%|██████████| 198/198 [00:09<00:00, 21.95it/s]\n",
      "Running inference: 100%|██████████| 197/197 [00:09<00:00, 20.99it/s]\n"
     ]
    },
    {
     "name": "stdout",
     "output_type": "stream",
     "text": [
      "Validation: {'precision': 0.7780898876377174, 'recall': 0.6948886798347604, 'f1': 0.7341394682618229, 'auc': 0.8282414849426835, 'prauc': 0.8321917595933351}\n",
      "Test:      {'precision': 0.7794744318154139, 'recall': 0.6883035434283842, 'f1': 0.7310574471400872, 'auc': 0.8278281532575613, 'prauc': 0.8327403920387856}\n"
     ]
    },
    {
     "name": "stderr",
     "output_type": "stream",
     "text": [
      "Epoch 012: 100%|██████████| 98/98 [00:06<00:00, 16.08it/s, loss=0.3162]\n",
      "Running inference: 100%|██████████| 198/198 [00:08<00:00, 22.32it/s]\n",
      "Running inference: 100%|██████████| 197/197 [00:08<00:00, 22.24it/s]\n"
     ]
    },
    {
     "name": "stdout",
     "output_type": "stream",
     "text": [
      "Validation: {'precision': 0.712158808931039, 'recall': 0.8099717779842899, 'f1': 0.7579225302296908, 'auc': 0.8210400940673488, 'prauc': 0.8231726983081272}\n",
      "Test:      {'precision': 0.7198879551800563, 'recall': 0.8058952649708188, 'f1': 0.7604675197954097, 'auc': 0.8237339228396973, 'prauc': 0.8281864220460347}\n"
     ]
    },
    {
     "name": "stderr",
     "output_type": "stream",
     "text": [
      "Epoch 013: 100%|██████████| 98/98 [00:06<00:00, 16.28it/s, loss=0.3059]\n",
      "Running inference: 100%|██████████| 198/198 [00:09<00:00, 21.86it/s]\n",
      "Running inference: 100%|██████████| 197/197 [00:09<00:00, 20.98it/s]\n"
     ]
    },
    {
     "name": "stdout",
     "output_type": "stream",
     "text": [
      "Validation: {'precision': 0.7601734489634417, 'recall': 0.7146440890538895, 'f1': 0.7367059914465408, 'auc': 0.8206355373510894, 'prauc': 0.8239885418004288}\n",
      "Test:      {'precision': 0.7641415812081901, 'recall': 0.7243650047013974, 'f1': 0.7437218237197851, 'auc': 0.823267985304621, 'prauc': 0.8267511835643964}\n"
     ]
    },
    {
     "name": "stderr",
     "output_type": "stream",
     "text": [
      "Epoch 014: 100%|██████████| 98/98 [00:06<00:00, 16.02it/s, loss=0.2842]\n",
      "Running inference: 100%|██████████| 198/198 [00:09<00:00, 21.96it/s]\n",
      "Running inference: 100%|██████████| 197/197 [00:08<00:00, 21.96it/s]\n"
     ]
    },
    {
     "name": "stdout",
     "output_type": "stream",
     "text": [
      "Validation: {'precision': 0.7380085003013418, 'recall': 0.7623079335190897, 'f1': 0.7499614326050447, 'auc': 0.8219868060154314, 'prauc': 0.8270590778285125}\n",
      "Test:      {'precision': 0.737425149698391, 'recall': 0.7723424270907108, 'f1': 0.7544800072533884, 'auc': 0.8267403952289849, 'prauc': 0.8329139415515608}\n"
     ]
    },
    {
     "name": "stderr",
     "output_type": "stream",
     "text": [
      "Epoch 015: 100%|██████████| 98/98 [00:06<00:00, 15.73it/s, loss=0.2445]\n",
      "Running inference: 100%|██████████| 198/198 [00:09<00:00, 21.89it/s]\n",
      "Running inference: 100%|██████████| 197/197 [00:09<00:00, 20.96it/s]\n"
     ]
    },
    {
     "name": "stdout",
     "output_type": "stream",
     "text": [
      "Validation: {'precision': 0.7653727241471475, 'recall': 0.6986516149241184, 'f1': 0.7304917982866784, 'auc': 0.817092840265455, 'prauc': 0.8236041120580966}\n",
      "Test:      {'precision': 0.7742268041210508, 'recall': 0.7064910630269474, 'f1': 0.7388096359327824, 'auc': 0.8203112424480821, 'prauc': 0.827362212653452}\n"
     ]
    },
    {
     "name": "stderr",
     "output_type": "stream",
     "text": [
      "Epoch 016: 100%|██████████| 98/98 [00:06<00:00, 15.68it/s, loss=0.2261]\n",
      "Running inference: 100%|██████████| 198/198 [00:08<00:00, 22.31it/s]\n",
      "Running inference: 100%|██████████| 197/197 [00:08<00:00, 22.55it/s]\n"
     ]
    },
    {
     "name": "stdout",
     "output_type": "stream",
     "text": [
      "Validation: {'precision': 0.7481824190325572, 'recall': 0.7099404201921922, 'f1': 0.7285599306406766, 'auc': 0.8104934366161154, 'prauc': 0.8113395150340957}\n",
      "Test:      {'precision': 0.7505654281074295, 'recall': 0.7284415177148685, 'f1': 0.7393379962718403, 'auc': 0.8147517524878607, 'prauc': 0.8210399843142623}\n"
     ]
    },
    {
     "name": "stderr",
     "output_type": "stream",
     "text": [
      "Epoch 017: 100%|██████████| 98/98 [00:06<00:00, 15.91it/s, loss=0.2213]\n",
      "Running inference: 100%|██████████| 198/198 [00:09<00:00, 21.86it/s]\n",
      "Running inference: 100%|██████████| 197/197 [00:09<00:00, 20.88it/s]\n"
     ]
    },
    {
     "name": "stdout",
     "output_type": "stream",
     "text": [
      "Validation: {'precision': 0.7611683848771094, 'recall': 0.6945751019106473, 'f1': 0.7263485767427919, 'auc': 0.8125903696712978, 'prauc': 0.812343243195222}\n",
      "Test:      {'precision': 0.7601626016234412, 'recall': 0.7036688617099289, 'f1': 0.7308255934418036, 'auc': 0.816309172733116, 'prauc': 0.8213063809005599}\n",
      "\n",
      "Early stopping triggered (no improvement for 5 epochs).\n",
      "\n",
      "Best validation performance:\n",
      "{'precision': 0.712158808931039, 'recall': 0.8099717779842899, 'f1': 0.7579225302296908, 'auc': 0.8210400940673488, 'prauc': 0.8231726983081272}\n",
      "Corresponding test performance:\n",
      "{'precision': 0.7198879551800563, 'recall': 0.8058952649708188, 'f1': 0.7604675197954097, 'auc': 0.8237339228396973, 'prauc': 0.8281864220460347}\n"
     ]
    },
    {
     "name": "stderr",
     "output_type": "stream",
     "text": [
      "Epoch 001: 100%|██████████| 98/98 [00:06<00:00, 15.99it/s, loss=0.7156]\n",
      "Running inference: 100%|██████████| 198/198 [00:08<00:00, 22.20it/s]\n",
      "Running inference: 100%|██████████| 197/197 [00:09<00:00, 21.83it/s]\n"
     ]
    },
    {
     "name": "stdout",
     "output_type": "stream",
     "text": [
      "Validation: {'precision': 0.7511256651627052, 'recall': 0.5754154907476469, 'f1': 0.6516335178126836, 'auc': 0.7672874524923416, 'prauc': 0.7709933041564148}\n",
      "Test:      {'precision': 0.739217252393214, 'recall': 0.5804327375334575, 'f1': 0.6502722592541899, 'auc': 0.7602849280758949, 'prauc': 0.759555921756929}\n"
     ]
    },
    {
     "name": "stderr",
     "output_type": "stream",
     "text": [
      "Epoch 002: 100%|██████████| 98/98 [00:06<00:00, 15.93it/s, loss=0.5978]\n",
      "Running inference: 100%|██████████| 198/198 [00:09<00:00, 21.85it/s]\n",
      "Running inference: 100%|██████████| 197/197 [00:09<00:00, 20.87it/s]\n"
     ]
    },
    {
     "name": "stdout",
     "output_type": "stream",
     "text": [
      "Validation: {'precision': 0.8075139146530265, 'recall': 0.5459391658810099, 'f1': 0.6514499484116341, 'auc': 0.7962835138290276, 'prauc': 0.8084935140211253}\n",
      "Test:      {'precision': 0.8007985802981331, 'recall': 0.5660081530242521, 'f1': 0.6632371805208173, 'auc': 0.7939125615893721, 'prauc': 0.8088389478291895}\n"
     ]
    },
    {
     "name": "stderr",
     "output_type": "stream",
     "text": [
      "Epoch 003: 100%|██████████| 98/98 [00:06<00:00, 15.79it/s, loss=0.5649]\n",
      "Running inference: 100%|██████████| 198/198 [00:09<00:00, 21.83it/s]\n",
      "Running inference: 100%|██████████| 197/197 [00:09<00:00, 21.71it/s]\n"
     ]
    },
    {
     "name": "stdout",
     "output_type": "stream",
     "text": [
      "Validation: {'precision': 0.658770040678012, 'recall': 0.8632800250835269, 'f1': 0.747285554263051, 'auc': 0.8094494160427511, 'prauc': 0.8146209945322479}\n",
      "Test:      {'precision': 0.6523605150199038, 'recall': 0.8579492003736032, 'f1': 0.7411621243064064, 'auc': 0.8044082110102595, 'prauc': 0.813462276999607}\n"
     ]
    },
    {
     "name": "stderr",
     "output_type": "stream",
     "text": [
      "Epoch 004: 100%|██████████| 98/98 [00:06<00:00, 15.95it/s, loss=0.5476]\n",
      "Running inference: 100%|██████████| 198/198 [00:08<00:00, 22.34it/s]\n",
      "Running inference: 100%|██████████| 197/197 [00:09<00:00, 21.15it/s]\n"
     ]
    },
    {
     "name": "stdout",
     "output_type": "stream",
     "text": [
      "Validation: {'precision': 0.8538543897170565, 'recall': 0.5001567889604887, 'f1': 0.6308087752477272, 'auc': 0.8182350737259779, 'prauc': 0.829158318668326}\n",
      "Test:      {'precision': 0.8535327488352061, 'recall': 0.5189714644072783, 'f1': 0.6454758143273381, 'auc': 0.8135578913671445, 'prauc': 0.8272266400146548}\n"
     ]
    },
    {
     "name": "stderr",
     "output_type": "stream",
     "text": [
      "Epoch 005: 100%|██████████| 98/98 [00:05<00:00, 16.51it/s, loss=0.5156]\n",
      "Running inference: 100%|██████████| 198/198 [00:09<00:00, 21.69it/s]\n",
      "Running inference: 100%|██████████| 197/197 [00:09<00:00, 21.72it/s]\n"
     ]
    },
    {
     "name": "stdout",
     "output_type": "stream",
     "text": [
      "Validation: {'precision': 0.7921160282603492, 'recall': 0.6679209783610288, 'f1': 0.7247362998993133, 'auc': 0.8268834845510376, 'prauc': 0.8385668171513285}\n",
      "Test:      {'precision': 0.7746632690179299, 'recall': 0.6672938225128024, 'f1': 0.7169811271007782, 'auc': 0.8182371987978339, 'prauc': 0.8342767604296668}\n"
     ]
    },
    {
     "name": "stderr",
     "output_type": "stream",
     "text": [
      "Epoch 006: 100%|██████████| 98/98 [00:06<00:00, 15.81it/s, loss=0.4896]\n",
      "Running inference: 100%|██████████| 198/198 [00:09<00:00, 21.83it/s]\n",
      "Running inference: 100%|██████████| 197/197 [00:09<00:00, 21.35it/s]\n"
     ]
    },
    {
     "name": "stdout",
     "output_type": "stream",
     "text": [
      "Validation: {'precision': 0.6986158265847516, 'recall': 0.8388209470027005, 'f1': 0.7623254438852344, 'auc': 0.8267154927890642, 'prauc': 0.8385099799847211}\n",
      "Test:      {'precision': 0.6913739669403632, 'recall': 0.8394481028509269, 'f1': 0.7582495347698858, 'auc': 0.8244494140421503, 'prauc': 0.8382218932679667}\n"
     ]
    },
    {
     "name": "stderr",
     "output_type": "stream",
     "text": [
      "Epoch 007: 100%|██████████| 98/98 [00:06<00:00, 15.94it/s, loss=0.4560]\n",
      "Running inference: 100%|██████████| 198/198 [00:09<00:00, 21.92it/s]\n",
      "Running inference: 100%|██████████| 197/197 [00:09<00:00, 21.74it/s]\n"
     ]
    },
    {
     "name": "stdout",
     "output_type": "stream",
     "text": [
      "Validation: {'precision': 0.8012536873126798, 'recall': 0.6814048290978947, 'f1': 0.7364853364977222, 'auc': 0.8390406324045862, 'prauc': 0.8457331184198454}\n",
      "Test:      {'precision': 0.7883502170738482, 'recall': 0.6832862966425736, 'f1': 0.7320678599650711, 'auc': 0.8324899949515464, 'prauc': 0.8421396639952077}\n"
     ]
    },
    {
     "name": "stderr",
     "output_type": "stream",
     "text": [
      "Epoch 008: 100%|██████████| 98/98 [00:06<00:00, 15.87it/s, loss=0.4275]\n",
      "Running inference: 100%|██████████| 198/198 [00:08<00:00, 22.21it/s]\n",
      "Running inference: 100%|██████████| 197/197 [00:09<00:00, 21.00it/s]\n"
     ]
    },
    {
     "name": "stdout",
     "output_type": "stream",
     "text": [
      "Validation: {'precision': 0.7667844522943567, 'recall': 0.7485105048581107, 'f1': 0.757537284747609, 'auc': 0.837196139123302, 'prauc': 0.8461783272307007}\n",
      "Test:      {'precision': 0.7498432601857372, 'recall': 0.7500783944786765, 'f1': 0.7499608039018658, 'auc': 0.8287346098924524, 'prauc': 0.8432915829063125}\n"
     ]
    },
    {
     "name": "stderr",
     "output_type": "stream",
     "text": [
      "Epoch 009: 100%|██████████| 98/98 [00:06<00:00, 15.71it/s, loss=0.4153]\n",
      "Running inference: 100%|██████████| 198/198 [00:08<00:00, 22.09it/s]\n",
      "Running inference: 100%|██████████| 197/197 [00:08<00:00, 21.90it/s]\n"
     ]
    },
    {
     "name": "stdout",
     "output_type": "stream",
     "text": [
      "Validation: {'precision': 0.7774734679877526, 'recall': 0.7121354656609842, 'f1': 0.7433715171021127, 'auc': 0.8300945687117957, 'prauc': 0.8377894342995867}\n",
      "Test:      {'precision': 0.7744386873893802, 'recall': 0.7030417058617027, 'f1': 0.7370151166397594, 'auc': 0.829024480721501, 'prauc': 0.840270819083773}\n"
     ]
    },
    {
     "name": "stderr",
     "output_type": "stream",
     "text": [
      "Epoch 010: 100%|██████████| 98/98 [00:06<00:00, 15.52it/s, loss=0.3819]\n",
      "Running inference: 100%|██████████| 198/198 [00:09<00:00, 22.00it/s]\n",
      "Running inference: 100%|██████████| 197/197 [00:09<00:00, 20.77it/s]\n"
     ]
    },
    {
     "name": "stdout",
     "output_type": "stream",
     "text": [
      "Validation: {'precision': 0.7464071856265078, 'recall': 0.7817497648141055, 'f1': 0.763669775977514, 'auc': 0.8380208761915785, 'prauc': 0.8456244544633431}\n",
      "Test:      {'precision': 0.7362473981542187, 'recall': 0.7764189401041819, 'f1': 0.7557997508009751, 'auc': 0.8337800434579742, 'prauc': 0.8454552734423824}\n"
     ]
    },
    {
     "name": "stderr",
     "output_type": "stream",
     "text": [
      "Epoch 011: 100%|██████████| 98/98 [00:06<00:00, 15.91it/s, loss=0.3621]\n",
      "Running inference: 100%|██████████| 198/198 [00:09<00:00, 21.83it/s]\n",
      "Running inference: 100%|██████████| 197/197 [00:09<00:00, 21.85it/s]\n"
     ]
    },
    {
     "name": "stdout",
     "output_type": "stream",
     "text": [
      "Validation: {'precision': 0.729896907214345, 'recall': 0.7770460959524081, 'f1': 0.7527338953671282, 'auc': 0.8261810740199634, 'prauc': 0.8352449298302371}\n",
      "Test:      {'precision': 0.7267647058802155, 'recall': 0.774851050483616, 'f1': 0.7500379370274374, 'auc': 0.8257765080304639, 'prauc': 0.8370473436679903}\n"
     ]
    },
    {
     "name": "stderr",
     "output_type": "stream",
     "text": [
      "Epoch 012: 100%|██████████| 98/98 [00:05<00:00, 16.41it/s, loss=0.3345]\n",
      "Running inference: 100%|██████████| 198/198 [00:08<00:00, 22.12it/s]\n",
      "Running inference: 100%|██████████| 197/197 [00:09<00:00, 20.83it/s]\n"
     ]
    },
    {
     "name": "stdout",
     "output_type": "stream",
     "text": [
      "Validation: {'precision': 0.7457786116299382, 'recall': 0.7478833490098844, 'f1': 0.746829492414299, 'auc': 0.8260993387936686, 'prauc': 0.8340564570414346}\n",
      "Test:      {'precision': 0.7491430352111277, 'recall': 0.7538413295680344, 'f1': 0.7514848340098912, 'auc': 0.829008877325598, 'prauc': 0.8398010793493642}\n"
     ]
    },
    {
     "name": "stderr",
     "output_type": "stream",
     "text": [
      "Epoch 013: 100%|██████████| 98/98 [00:06<00:00, 15.75it/s, loss=0.3084]\n",
      "Running inference: 100%|██████████| 198/198 [00:09<00:00, 21.86it/s]\n",
      "Running inference: 100%|██████████| 197/197 [00:08<00:00, 21.92it/s]\n"
     ]
    },
    {
     "name": "stdout",
     "output_type": "stream",
     "text": [
      "Validation: {'precision': 0.7006231373592505, 'recall': 0.8109125117566294, 'f1': 0.7517441810709459, 'auc': 0.8162031470523725, 'prauc': 0.823221913375608}\n",
      "Test:      {'precision': 0.6936647955073679, 'recall': 0.8137347130736478, 'f1': 0.7489177439473113, 'auc': 0.8151372067001988, 'prauc': 0.8255055967478568}\n"
     ]
    },
    {
     "name": "stderr",
     "output_type": "stream",
     "text": [
      "Epoch 014: 100%|██████████| 98/98 [00:06<00:00, 16.19it/s, loss=0.2899]\n",
      "Running inference: 100%|██████████| 198/198 [00:08<00:00, 22.17it/s]\n",
      "Running inference: 100%|██████████| 197/197 [00:09<00:00, 20.89it/s]\n"
     ]
    },
    {
     "name": "stdout",
     "output_type": "stream",
     "text": [
      "Validation: {'precision': 0.6654650324425248, 'recall': 0.8682972718693375, 'f1': 0.7534693828404955, 'auc': 0.8210201500692916, 'prauc': 0.826412407335555}\n",
      "Test:      {'precision': 0.6586182165893889, 'recall': 0.8639071809317532, 'f1': 0.7474226755012452, 'auc': 0.8213601429875067, 'prauc': 0.8331015579489766}\n"
     ]
    },
    {
     "name": "stderr",
     "output_type": "stream",
     "text": [
      "Epoch 015: 100%|██████████| 98/98 [00:06<00:00, 15.84it/s, loss=0.2694]\n",
      "Running inference: 100%|██████████| 198/198 [00:09<00:00, 21.69it/s]\n",
      "Running inference: 100%|██████████| 197/197 [00:08<00:00, 21.89it/s]\n"
     ]
    },
    {
     "name": "stdout",
     "output_type": "stream",
     "text": [
      "Validation: {'precision': 0.7344039530551748, 'recall': 0.7456883035410923, 'f1': 0.7400031068697789, 'auc': 0.8191033660746463, 'prauc': 0.8247965595496792}\n",
      "Test:      {'precision': 0.7363245236609209, 'recall': 0.7513327061751292, 'f1': 0.7437529051332304, 'auc': 0.8214986105427616, 'prauc': 0.8318549726689475}\n",
      "\n",
      "Early stopping triggered (no improvement for 5 epochs).\n",
      "\n",
      "Best validation performance:\n",
      "{'precision': 0.7464071856265078, 'recall': 0.7817497648141055, 'f1': 0.763669775977514, 'auc': 0.8380208761915785, 'prauc': 0.8456244544633431}\n",
      "Corresponding test performance:\n",
      "{'precision': 0.7362473981542187, 'recall': 0.7764189401041819, 'f1': 0.7557997508009751, 'auc': 0.8337800434579742, 'prauc': 0.8454552734423824}\n"
     ]
    },
    {
     "name": "stderr",
     "output_type": "stream",
     "text": [
      "Epoch 001: 100%|██████████| 98/98 [00:06<00:00, 16.18it/s, loss=0.6976]\n",
      "Running inference: 100%|██████████| 198/198 [00:08<00:00, 22.45it/s]\n",
      "Running inference: 100%|██████████| 197/197 [00:09<00:00, 21.05it/s]\n"
     ]
    },
    {
     "name": "stdout",
     "output_type": "stream",
     "text": [
      "Validation: {'precision': 0.6267365064891215, 'recall': 0.8629664471594137, 'f1': 0.7261213671554769, 'auc': 0.7725214207079385, 'prauc': 0.7779263574243267}\n",
      "Test:      {'precision': 0.6261107313724628, 'recall': 0.8617121354629611, 'f1': 0.7252573189556102, 'auc': 0.7681973598047461, 'prauc': 0.7710115012640251}\n"
     ]
    },
    {
     "name": "stderr",
     "output_type": "stream",
     "text": [
      "Epoch 002: 100%|██████████| 98/98 [00:06<00:00, 15.94it/s, loss=0.5989]\n",
      "Running inference: 100%|██████████| 198/198 [00:09<00:00, 21.84it/s]\n",
      "Running inference: 100%|██████████| 197/197 [00:09<00:00, 21.66it/s]\n"
     ]
    },
    {
     "name": "stdout",
     "output_type": "stream",
     "text": [
      "Validation: {'precision': 0.6495504022701146, 'recall': 0.8607714016906216, 'f1': 0.740391094219194, 'auc': 0.7962804996227721, 'prauc': 0.8046394167107294}\n",
      "Test:      {'precision': 0.6402091254737637, 'recall': 0.8447789275608505, 'f1': 0.7284034018794528, 'auc': 0.7892879163778781, 'prauc': 0.8034925230768378}\n"
     ]
    },
    {
     "name": "stderr",
     "output_type": "stream",
     "text": [
      "Epoch 003: 100%|██████████| 98/98 [00:06<00:00, 15.60it/s, loss=0.5825]\n",
      "Running inference: 100%|██████████| 198/198 [00:08<00:00, 22.15it/s]\n",
      "Running inference: 100%|██████████| 197/197 [00:09<00:00, 21.00it/s]\n"
     ]
    },
    {
     "name": "stdout",
     "output_type": "stream",
     "text": [
      "Validation: {'precision': 0.7904216127679475, 'recall': 0.6055189714625101, 'f1': 0.6857244269034716, 'auc': 0.8073079732085291, 'prauc': 0.8132844111592137}\n",
      "Test:      {'precision': 0.7765254566623532, 'recall': 0.6265286923780918, 'f1': 0.69350919324981, 'auc': 0.7996084050963711, 'prauc': 0.8124722695890649}\n"
     ]
    },
    {
     "name": "stderr",
     "output_type": "stream",
     "text": [
      "Epoch 004: 100%|██████████| 98/98 [00:06<00:00, 15.76it/s, loss=0.5488]\n",
      "Running inference: 100%|██████████| 198/198 [00:09<00:00, 21.91it/s]\n",
      "Running inference: 100%|██████████| 197/197 [00:09<00:00, 21.83it/s]\n"
     ]
    },
    {
     "name": "stdout",
     "output_type": "stream",
     "text": [
      "Validation: {'precision': 0.7396507115111913, 'recall': 0.7171527124467948, 'f1': 0.7282279841725722, 'auc': 0.8106835827940668, 'prauc': 0.820543415137305}\n",
      "Test:      {'precision': 0.7358974358950773, 'recall': 0.7199749137638132, 'f1': 0.7278490994522454, 'auc': 0.8069582589026181, 'prauc': 0.8187459103728243}\n"
     ]
    },
    {
     "name": "stderr",
     "output_type": "stream",
     "text": [
      "Epoch 005: 100%|██████████| 98/98 [00:06<00:00, 15.83it/s, loss=0.4923]\n",
      "Running inference: 100%|██████████| 198/198 [00:09<00:00, 21.97it/s]\n",
      "Running inference: 100%|██████████| 197/197 [00:09<00:00, 20.99it/s]\n"
     ]
    },
    {
     "name": "stdout",
     "output_type": "stream",
     "text": [
      "Validation: {'precision': 0.659999999998447, 'recall': 0.8795860771374112, 'f1': 0.7541336152099143, 'auc': 0.8203952046389839, 'prauc': 0.8269377459645618}\n",
      "Test:      {'precision': 0.6563234602711417, 'recall': 0.8755095641239401, 'f1': 0.7502351153475665, 'auc': 0.814303884691911, 'prauc': 0.8238237236167628}\n"
     ]
    },
    {
     "name": "stderr",
     "output_type": "stream",
     "text": [
      "Epoch 006: 100%|██████████| 98/98 [00:06<00:00, 15.88it/s, loss=0.4836]\n",
      "Running inference: 100%|██████████| 198/198 [00:09<00:00, 21.94it/s]\n",
      "Running inference: 100%|██████████| 197/197 [00:08<00:00, 22.27it/s]\n"
     ]
    },
    {
     "name": "stdout",
     "output_type": "stream",
     "text": [
      "Validation: {'precision': 0.6593177071230928, 'recall': 0.8908748824054848, 'f1': 0.7578020756643551, 'auc': 0.8269096579086894, 'prauc': 0.8321591885176481}\n",
      "Test:      {'precision': 0.6572683152284325, 'recall': 0.8918156161778243, 'f1': 0.7567855193276196, 'auc': 0.8236481544957662, 'prauc': 0.8307560487632951}\n"
     ]
    },
    {
     "name": "stderr",
     "output_type": "stream",
     "text": [
      "Epoch 007: 100%|██████████| 98/98 [00:06<00:00, 16.16it/s, loss=0.4328]\n",
      "Running inference: 100%|██████████| 198/198 [00:09<00:00, 21.84it/s]\n",
      "Running inference: 100%|██████████| 197/197 [00:09<00:00, 21.02it/s]\n"
     ]
    },
    {
     "name": "stdout",
     "output_type": "stream",
     "text": [
      "Validation: {'precision': 0.7336089781431376, 'recall': 0.7789275634970871, 'f1': 0.7555893486143577, 'auc': 0.8262002142296859, 'prauc': 0.8310274039848556}\n",
      "Test:      {'precision': 0.7281899109770678, 'recall': 0.7695202257736924, 'f1': 0.7482847945136468, 'auc': 0.8226599561997576, 'prauc': 0.830262573326209}\n"
     ]
    },
    {
     "name": "stderr",
     "output_type": "stream",
     "text": [
      "Epoch 008: 100%|██████████| 98/98 [00:06<00:00, 15.85it/s, loss=0.4261]\n",
      "Running inference: 100%|██████████| 198/198 [00:09<00:00, 21.92it/s]\n",
      "Running inference: 100%|██████████| 197/197 [00:08<00:00, 22.28it/s]\n"
     ]
    },
    {
     "name": "stdout",
     "output_type": "stream",
     "text": [
      "Validation: {'precision': 0.827443781547373, 'recall': 0.5653809971760257, 'f1': 0.671758564474056, 'auc': 0.8235619297310152, 'prauc': 0.8318975375805611}\n",
      "Test:      {'precision': 0.8102317446400952, 'recall': 0.5810598933816837, 'f1': 0.6767713610937448, 'auc': 0.8177472521664811, 'prauc': 0.827281419803061}\n"
     ]
    },
    {
     "name": "stderr",
     "output_type": "stream",
     "text": [
      "Epoch 009: 100%|██████████| 98/98 [00:06<00:00, 15.87it/s, loss=0.3822]\n",
      "Running inference: 100%|██████████| 198/198 [00:09<00:00, 21.79it/s]\n",
      "Running inference: 100%|██████████| 197/197 [00:09<00:00, 20.90it/s]\n"
     ]
    },
    {
     "name": "stdout",
     "output_type": "stream",
     "text": [
      "Validation: {'precision': 0.7557077625546128, 'recall': 0.7265600501701895, 'f1': 0.7408473171418509, 'auc': 0.8215535641029736, 'prauc': 0.8219380467466362}\n",
      "Test:      {'precision': 0.7430240103804574, 'recall': 0.7180934462191343, 'f1': 0.7303460323137493, 'auc': 0.8180186002545871, 'prauc': 0.8183372805669311}\n"
     ]
    },
    {
     "name": "stderr",
     "output_type": "stream",
     "text": [
      "Epoch 010: 100%|██████████| 98/98 [00:06<00:00, 15.86it/s, loss=0.3636]\n",
      "Running inference: 100%|██████████| 198/198 [00:08<00:00, 22.09it/s]\n",
      "Running inference: 100%|██████████| 197/197 [00:08<00:00, 22.01it/s]\n"
     ]
    },
    {
     "name": "stdout",
     "output_type": "stream",
     "text": [
      "Validation: {'precision': 0.7020340846599724, 'recall': 0.8008780181850083, 'f1': 0.7482056490402352, 'auc': 0.8130781184802092, 'prauc': 0.8176773077863516}\n",
      "Test:      {'precision': 0.7004646078144289, 'recall': 0.8037002195020266, 'f1': 0.7485397146475347, 'auc': 0.8097032485766935, 'prauc': 0.809138945891905}\n"
     ]
    },
    {
     "name": "stderr",
     "output_type": "stream",
     "text": [
      "Epoch 011: 100%|██████████| 98/98 [00:06<00:00, 15.87it/s, loss=0.3492]\n",
      "Running inference: 100%|██████████| 198/198 [00:09<00:00, 21.92it/s]\n",
      "Running inference: 100%|██████████| 197/197 [00:09<00:00, 20.84it/s]\n"
     ]
    },
    {
     "name": "stdout",
     "output_type": "stream",
     "text": [
      "Validation: {'precision': 0.7449139280101881, 'recall': 0.7463154593893185, 'f1': 0.745614030085388, 'auc': 0.8243887767436706, 'prauc': 0.8278721046646387}\n",
      "Test:      {'precision': 0.7381761978338851, 'recall': 0.7488240827822239, 'f1': 0.7434620124325619, 'auc': 0.8183808507072113, 'prauc': 0.8227569293511665}\n",
      "\n",
      "Early stopping triggered (no improvement for 5 epochs).\n",
      "\n",
      "Best validation performance:\n",
      "{'precision': 0.6593177071230928, 'recall': 0.8908748824054848, 'f1': 0.7578020756643551, 'auc': 0.8269096579086894, 'prauc': 0.8321591885176481}\n",
      "Corresponding test performance:\n",
      "{'precision': 0.6572683152284325, 'recall': 0.8918156161778243, 'f1': 0.7567855193276196, 'auc': 0.8236481544957662, 'prauc': 0.8307560487632951}\n"
     ]
    },
    {
     "name": "stderr",
     "output_type": "stream",
     "text": [
      "Epoch 001: 100%|██████████| 98/98 [00:06<00:00, 15.71it/s, loss=0.7074]\n",
      "Running inference: 100%|██████████| 198/198 [00:08<00:00, 22.06it/s]\n",
      "Running inference: 100%|██████████| 197/197 [00:09<00:00, 21.88it/s]\n"
     ]
    },
    {
     "name": "stdout",
     "output_type": "stream",
     "text": [
      "Validation: {'precision': 0.5562304435844723, 'recall': 0.9476324866699667, 'f1': 0.7009974437249069, 'auc': 0.7029790606105637, 'prauc': 0.6866812514626294}\n",
      "Test:      {'precision': 0.5546947057728192, 'recall': 0.9429288178082693, 'f1': 0.6984901230928078, 'auc': 0.696013936349218, 'prauc': 0.6879787218821478}\n"
     ]
    },
    {
     "name": "stderr",
     "output_type": "stream",
     "text": [
      "Epoch 002: 100%|██████████| 98/98 [00:06<00:00, 15.81it/s, loss=0.6432]\n",
      "Running inference: 100%|██████████| 198/198 [00:09<00:00, 21.86it/s]\n",
      "Running inference: 100%|██████████| 197/197 [00:09<00:00, 20.96it/s]\n"
     ]
    },
    {
     "name": "stdout",
     "output_type": "stream",
     "text": [
      "Validation: {'precision': 0.6846368715064676, 'recall': 0.7685794920013529, 'f1': 0.724183774007009, 'auc': 0.768544627684741, 'prauc': 0.7643922432273392}\n",
      "Test:      {'precision': 0.6817558299021077, 'recall': 0.7792411414212003, 'f1': 0.7272461173496619, 'auc': 0.772093829762924, 'prauc': 0.7695098743680879}\n"
     ]
    },
    {
     "name": "stderr",
     "output_type": "stream",
     "text": [
      "Epoch 003: 100%|██████████| 98/98 [00:06<00:00, 15.68it/s, loss=0.5639]\n",
      "Running inference: 100%|██████████| 198/198 [00:08<00:00, 22.23it/s]\n",
      "Running inference: 100%|██████████| 197/197 [00:09<00:00, 21.74it/s]\n"
     ]
    },
    {
     "name": "stdout",
     "output_type": "stream",
     "text": [
      "Validation: {'precision': 0.6931663490316005, 'recall': 0.798369394792103, 'f1': 0.7420577041454168, 'auc': 0.8025844608223016, 'prauc': 0.8088099016891188}\n",
      "Test:      {'precision': 0.6877864653526886, 'recall': 0.7999372844126688, 'f1': 0.7396346717441588, 'auc': 0.8043215869962306, 'prauc': 0.8127292556693713}\n"
     ]
    },
    {
     "name": "stderr",
     "output_type": "stream",
     "text": [
      "Epoch 004: 100%|██████████| 98/98 [00:06<00:00, 15.54it/s, loss=0.5231]\n",
      "Running inference: 100%|██████████| 198/198 [00:09<00:00, 21.69it/s]\n",
      "Running inference: 100%|██████████| 197/197 [00:09<00:00, 20.96it/s]\n"
     ]
    },
    {
     "name": "stdout",
     "output_type": "stream",
     "text": [
      "Validation: {'precision': 0.8614379084911018, 'recall': 0.4132957039811436, 'f1': 0.558592917844882, 'auc': 0.8042631225227621, 'prauc': 0.811951974639293}\n",
      "Test:      {'precision': 0.8673202614322398, 'recall': 0.41611790529816206, 'f1': 0.562407285295597, 'auc': 0.8018354123600036, 'prauc': 0.8117402021539217}\n"
     ]
    },
    {
     "name": "stderr",
     "output_type": "stream",
     "text": [
      "Epoch 005: 100%|██████████| 98/98 [00:06<00:00, 16.26it/s, loss=0.4889]\n",
      "Running inference: 100%|██████████| 198/198 [00:08<00:00, 22.34it/s]\n",
      "Running inference: 100%|██████████| 197/197 [00:09<00:00, 21.82it/s]\n"
     ]
    },
    {
     "name": "stdout",
     "output_type": "stream",
     "text": [
      "Validation: {'precision': 0.6766626360322209, 'recall': 0.8773910316686191, 'f1': 0.7640633484401511, 'auc': 0.8261575129743997, 'prauc': 0.8310816194939834}\n",
      "Test:      {'precision': 0.6594134342463117, 'recall': 0.8742552524274875, 'f1': 0.7517864316607387, 'auc': 0.8254042915378758, 'prauc': 0.8343632465644728}\n"
     ]
    },
    {
     "name": "stderr",
     "output_type": "stream",
     "text": [
      "Epoch 006: 100%|██████████| 98/98 [00:06<00:00, 15.70it/s, loss=0.4649]\n",
      "Running inference: 100%|██████████| 198/198 [00:09<00:00, 21.80it/s]\n",
      "Running inference: 100%|██████████| 197/197 [00:09<00:00, 21.12it/s]\n"
     ]
    },
    {
     "name": "stdout",
     "output_type": "stream",
     "text": [
      "Validation: {'precision': 0.7612293144182329, 'recall': 0.7068046409510605, 'f1': 0.7330081250857892, 'auc': 0.8224751576655938, 'prauc': 0.8334595567805287}\n",
      "Test:      {'precision': 0.766112956808086, 'recall': 0.7231106930049448, 'f1': 0.7439909612866533, 'auc': 0.8248949664954823, 'prauc': 0.8363521324316782}\n"
     ]
    },
    {
     "name": "stderr",
     "output_type": "stream",
     "text": [
      "Epoch 007: 100%|██████████| 98/98 [00:06<00:00, 15.46it/s, loss=0.4214]\n",
      "Running inference: 100%|██████████| 198/198 [00:08<00:00, 22.11it/s]\n",
      "Running inference: 100%|██████████| 197/197 [00:09<00:00, 21.87it/s]\n"
     ]
    },
    {
     "name": "stdout",
     "output_type": "stream",
     "text": [
      "Validation: {'precision': 0.7543471387899009, 'recall': 0.7481969269339975, 'f1': 0.7512594408415472, 'auc': 0.8305160552198567, 'prauc': 0.8380935249705208}\n",
      "Test:      {'precision': 0.7533730781275388, 'recall': 0.7529005957956949, 'f1': 0.7531367578583658, 'auc': 0.8285582411852138, 'prauc': 0.8365659378051215}\n"
     ]
    },
    {
     "name": "stderr",
     "output_type": "stream",
     "text": [
      "Epoch 008: 100%|██████████| 98/98 [00:06<00:00, 15.80it/s, loss=0.3825]\n",
      "Running inference: 100%|██████████| 198/198 [00:09<00:00, 21.68it/s]\n",
      "Running inference: 100%|██████████| 197/197 [00:09<00:00, 21.26it/s]\n"
     ]
    },
    {
     "name": "stdout",
     "output_type": "stream",
     "text": [
      "Validation: {'precision': 0.7330197000860541, 'recall': 0.7817497648141055, 'f1': 0.7566009054732882, 'auc': 0.832960275072444, 'prauc': 0.8366852194575142}\n",
      "Test:      {'precision': 0.7320034692086383, 'recall': 0.7939793038545188, 'f1': 0.7617328469915154, 'auc': 0.8371772550807928, 'prauc': 0.8442967852136254}\n"
     ]
    },
    {
     "name": "stderr",
     "output_type": "stream",
     "text": [
      "Epoch 009: 100%|██████████| 98/98 [00:05<00:00, 16.58it/s, loss=0.3452]\n",
      "Running inference: 100%|██████████| 198/198 [00:09<00:00, 21.71it/s]\n",
      "Running inference: 100%|██████████| 197/197 [00:09<00:00, 21.82it/s]\n"
     ]
    },
    {
     "name": "stdout",
     "output_type": "stream",
     "text": [
      "Validation: {'precision': 0.7811953862258609, 'recall': 0.7008466603929105, 'f1': 0.7388429702188656, 'auc': 0.8344096561504025, 'prauc': 0.8400940369574499}\n",
      "Test:      {'precision': 0.7851495359202986, 'recall': 0.7162119786744553, 'f1': 0.7490980599474093, 'auc': 0.8364150543577012, 'prauc': 0.8449718916617278}\n"
     ]
    },
    {
     "name": "stderr",
     "output_type": "stream",
     "text": [
      "Epoch 010: 100%|██████████| 98/98 [00:06<00:00, 15.72it/s, loss=0.3313]\n",
      "Running inference: 100%|██████████| 198/198 [00:09<00:00, 21.93it/s]\n",
      "Running inference: 100%|██████████| 197/197 [00:09<00:00, 21.16it/s]\n"
     ]
    },
    {
     "name": "stdout",
     "output_type": "stream",
     "text": [
      "Validation: {'precision': 0.6872519841252797, 'recall': 0.8689244277175637, 'f1': 0.7674837230815291, 'auc': 0.8291204777235588, 'prauc': 0.8240033085397362}\n",
      "Test:      {'precision': 0.6778916544639388, 'recall': 0.8711194731863559, 'f1': 0.7624536797195975, 'auc': 0.8318650537788655, 'prauc': 0.8343191194536453}\n"
     ]
    },
    {
     "name": "stderr",
     "output_type": "stream",
     "text": [
      "Epoch 011: 100%|██████████| 98/98 [00:06<00:00, 16.05it/s, loss=0.2861]\n",
      "Running inference: 100%|██████████| 198/198 [00:09<00:00, 21.94it/s]\n",
      "Running inference: 100%|██████████| 197/197 [00:09<00:00, 21.57it/s]\n"
     ]
    },
    {
     "name": "stdout",
     "output_type": "stream",
     "text": [
      "Validation: {'precision': 0.75593447007437, 'recall': 0.7089996864198527, 'f1': 0.7317152053587516, 'auc': 0.8212963015990666, 'prauc': 0.8194560726186132}\n",
      "Test:      {'precision': 0.7741935483845485, 'recall': 0.7375352775141502, 'f1': 0.7554199403995826, 'auc': 0.8299949616131295, 'prauc': 0.8303490580272317}\n"
     ]
    },
    {
     "name": "stderr",
     "output_type": "stream",
     "text": [
      "Epoch 012: 100%|██████████| 98/98 [00:06<00:00, 15.88it/s, loss=0.2742]\n",
      "Running inference: 100%|██████████| 198/198 [00:08<00:00, 22.04it/s]\n",
      "Running inference: 100%|██████████| 197/197 [00:09<00:00, 21.56it/s]\n"
     ]
    },
    {
     "name": "stdout",
     "output_type": "stream",
     "text": [
      "Validation: {'precision': 0.7666889185555185, 'recall': 0.7202884916879264, 'f1': 0.7427647484381985, 'auc': 0.8296210369090562, 'prauc': 0.8261362301299933}\n",
      "Test:      {'precision': 0.7671818480737679, 'recall': 0.731577296956, 'f1': 0.7489566563166292, 'auc': 0.8298484406922472, 'prauc': 0.8299977919144379}\n"
     ]
    },
    {
     "name": "stderr",
     "output_type": "stream",
     "text": [
      "Epoch 013: 100%|██████████| 98/98 [00:06<00:00, 16.27it/s, loss=0.2506]\n",
      "Running inference: 100%|██████████| 198/198 [00:09<00:00, 21.70it/s]\n",
      "Running inference: 100%|██████████| 197/197 [00:09<00:00, 21.81it/s]\n"
     ]
    },
    {
     "name": "stdout",
     "output_type": "stream",
     "text": [
      "Validation: {'precision': 0.7576961271077204, 'recall': 0.717779868295021, 'f1': 0.7371980626341355, 'auc': 0.8267675883205133, 'prauc': 0.8216398356095991}\n",
      "Test:      {'precision': 0.7559234014905682, 'recall': 0.7303229852595474, 'f1': 0.7429027063228777, 'auc': 0.8266568918941366, 'prauc': 0.8244290068941524}\n"
     ]
    },
    {
     "name": "stderr",
     "output_type": "stream",
     "text": [
      "Epoch 014: 100%|██████████| 98/98 [00:06<00:00, 15.73it/s, loss=0.2270]\n",
      "Running inference: 100%|██████████| 198/198 [00:09<00:00, 21.82it/s]\n",
      "Running inference: 100%|██████████| 197/197 [00:09<00:00, 21.17it/s]\n"
     ]
    },
    {
     "name": "stdout",
     "output_type": "stream",
     "text": [
      "Validation: {'precision': 0.7268545140864668, 'recall': 0.7927249921580661, 'f1': 0.7583620769030255, 'auc': 0.8208844103142521, 'prauc': 0.8134781866921003}\n",
      "Test:      {'precision': 0.7213631156909469, 'recall': 0.7899027908410476, 'f1': 0.7540787257369597, 'auc': 0.8243855407860186, 'prauc': 0.8238914166327193}\n"
     ]
    },
    {
     "name": "stderr",
     "output_type": "stream",
     "text": [
      "Epoch 015: 100%|██████████| 98/98 [00:06<00:00, 15.45it/s, loss=0.1838]\n",
      "Running inference: 100%|██████████| 198/198 [00:09<00:00, 21.90it/s]\n",
      "Running inference: 100%|██████████| 197/197 [00:08<00:00, 22.07it/s]\n"
     ]
    },
    {
     "name": "stdout",
     "output_type": "stream",
     "text": [
      "Validation: {'precision': 0.7731310140607952, 'recall': 0.6550642834723893, 'f1': 0.7092174453797512, 'auc': 0.8165904725562048, 'prauc': 0.805209501356091}\n",
      "Test:      {'precision': 0.7881448957161064, 'recall': 0.6754468485397446, 'f1': 0.7274569352500867, 'auc': 0.8236926493408572, 'prauc': 0.8167006126840795}\n",
      "\n",
      "Early stopping triggered (no improvement for 5 epochs).\n",
      "\n",
      "Best validation performance:\n",
      "{'precision': 0.6872519841252797, 'recall': 0.8689244277175637, 'f1': 0.7674837230815291, 'auc': 0.8291204777235588, 'prauc': 0.8240033085397362}\n",
      "Corresponding test performance:\n",
      "{'precision': 0.6778916544639388, 'recall': 0.8711194731863559, 'f1': 0.7624536797195975, 'auc': 0.8318650537788655, 'prauc': 0.8343191194536453}\n"
     ]
    },
    {
     "name": "stderr",
     "output_type": "stream",
     "text": [
      "Epoch 001: 100%|██████████| 98/98 [00:06<00:00, 15.83it/s, loss=0.7216]\n",
      "Running inference: 100%|██████████| 198/198 [00:08<00:00, 22.02it/s]\n",
      "Running inference: 100%|██████████| 197/197 [00:09<00:00, 21.12it/s]\n"
     ]
    },
    {
     "name": "stdout",
     "output_type": "stream",
     "text": [
      "Validation: {'precision': 0.5781346510173622, 'recall': 0.5870178739398337, 'f1': 0.5825423942516287, 'auc': 0.6452317417219096, 'prauc': 0.6493702778408712}\n",
      "Test:      {'precision': 0.5676598386077975, 'recall': 0.573534023202968, 'f1': 0.5705818075081015, 'auc': 0.633358248433243, 'prauc': 0.6372567680634024}\n"
     ]
    },
    {
     "name": "stderr",
     "output_type": "stream",
     "text": [
      "Epoch 002: 100%|██████████| 98/98 [00:06<00:00, 15.78it/s, loss=0.6341]\n",
      "Running inference: 100%|██████████| 198/198 [00:09<00:00, 21.77it/s]\n",
      "Running inference: 100%|██████████| 197/197 [00:09<00:00, 21.68it/s]\n"
     ]
    },
    {
     "name": "stdout",
     "output_type": "stream",
     "text": [
      "Validation: {'precision': 0.5890329012949371, 'recall': 0.9263091878302718, 'f1': 0.7201365140172722, 'auc': 0.7852819624170678, 'prauc': 0.7960171862008775}\n",
      "Test:      {'precision': 0.5892568659115726, 'recall': 0.9150203825621982, 'f1': 0.7168652452020173, 'auc': 0.7791105762334107, 'prauc': 0.7921327281341457}\n"
     ]
    },
    {
     "name": "stderr",
     "output_type": "stream",
     "text": [
      "Epoch 003: 100%|██████████| 98/98 [00:06<00:00, 16.04it/s, loss=0.5783]\n",
      "Running inference: 100%|██████████| 198/198 [00:08<00:00, 22.13it/s]\n",
      "Running inference: 100%|██████████| 197/197 [00:09<00:00, 21.02it/s]\n"
     ]
    },
    {
     "name": "stdout",
     "output_type": "stream",
     "text": [
      "Validation: {'precision': 0.8300145701756678, 'recall': 0.5359046723093889, 'f1': 0.6512957269366488, 'auc': 0.8065137298602041, 'prauc': 0.8168416397756085}\n",
      "Test:      {'precision': 0.810320781028311, 'recall': 0.5465663217292362, 'f1': 0.6528089839505218, 'auc': 0.7951643062755348, 'prauc': 0.8100934727237663}\n"
     ]
    },
    {
     "name": "stderr",
     "output_type": "stream",
     "text": [
      "Epoch 004: 100%|██████████| 98/98 [00:06<00:00, 15.81it/s, loss=0.5320]\n",
      "Running inference: 100%|██████████| 198/198 [00:09<00:00, 21.86it/s]\n",
      "Running inference: 100%|██████████| 197/197 [00:08<00:00, 21.90it/s]\n"
     ]
    },
    {
     "name": "stdout",
     "output_type": "stream",
     "text": [
      "Validation: {'precision': 0.819438252336962, 'recall': 0.5763562245199864, 'f1': 0.6767304811579916, 'auc': 0.8144567159479342, 'prauc': 0.8260456165985661}\n",
      "Test:      {'precision': 0.8078414476483936, 'recall': 0.5879586077121732, 'f1': 0.6805807573720648, 'auc': 0.8016998641497886, 'prauc': 0.8195770924126933}\n"
     ]
    },
    {
     "name": "stderr",
     "output_type": "stream",
     "text": [
      "Epoch 005: 100%|██████████| 98/98 [00:05<00:00, 16.41it/s, loss=0.5038]\n",
      "Running inference: 100%|██████████| 198/198 [00:08<00:00, 22.81it/s]\n",
      "Running inference: 100%|██████████| 197/197 [00:09<00:00, 21.48it/s]\n"
     ]
    },
    {
     "name": "stdout",
     "output_type": "stream",
     "text": [
      "Validation: {'precision': 0.7348808796556663, 'recall': 0.7544684854162607, 'f1': 0.7445458715264892, 'auc': 0.8158553578872585, 'prauc': 0.8260609113670516}\n",
      "Test:      {'precision': 0.7153961136002529, 'recall': 0.7503919724027897, 'f1': 0.7324762729314315, 'auc': 0.8012375002957095, 'prauc': 0.8182673344230073}\n"
     ]
    },
    {
     "name": "stderr",
     "output_type": "stream",
     "text": [
      "Epoch 006: 100%|██████████| 98/98 [00:06<00:00, 15.89it/s, loss=0.4704]\n",
      "Running inference: 100%|██████████| 198/198 [00:09<00:00, 21.82it/s]\n",
      "Running inference: 100%|██████████| 197/197 [00:08<00:00, 21.95it/s]\n"
     ]
    },
    {
     "name": "stdout",
     "output_type": "stream",
     "text": [
      "Validation: {'precision': 0.7269775678845131, 'recall': 0.7723424270907108, 'f1': 0.7489736912163794, 'auc': 0.8162634814142535, 'prauc': 0.8259490998351904}\n",
      "Test:      {'precision': 0.7093395402947066, 'recall': 0.7645029789878818, 'f1': 0.7358889174315867, 'auc': 0.7994905742905363, 'prauc': 0.8170665582123202}\n"
     ]
    },
    {
     "name": "stderr",
     "output_type": "stream",
     "text": [
      "Epoch 007: 100%|██████████| 98/98 [00:06<00:00, 15.89it/s, loss=0.4469]\n",
      "Running inference: 100%|██████████| 198/198 [00:08<00:00, 22.12it/s]\n",
      "Running inference: 100%|██████████| 197/197 [00:09<00:00, 21.60it/s]\n"
     ]
    },
    {
     "name": "stdout",
     "output_type": "stream",
     "text": [
      "Validation: {'precision': 0.7283914444748656, 'recall': 0.7795547193453134, 'f1': 0.7531051146641834, 'auc': 0.8222204572370038, 'prauc': 0.8264115866155888}\n",
      "Test:      {'precision': 0.7056971085006994, 'recall': 0.7729695829389371, 'f1': 0.737803047986291, 'auc': 0.8111348853175568, 'prauc': 0.8229732784320858}\n"
     ]
    },
    {
     "name": "stderr",
     "output_type": "stream",
     "text": [
      "Epoch 008: 100%|██████████| 98/98 [00:05<00:00, 16.49it/s, loss=0.4110]\n",
      "Running inference: 100%|██████████| 198/198 [00:08<00:00, 22.31it/s]\n",
      "Running inference: 100%|██████████| 197/197 [00:08<00:00, 21.96it/s]\n"
     ]
    },
    {
     "name": "stdout",
     "output_type": "stream",
     "text": [
      "Validation: {'precision': 0.7876712328737151, 'recall': 0.6491063029142392, 'f1': 0.711707060541737, 'auc': 0.81967867757528, 'prauc': 0.8274219946066732}\n",
      "Test:      {'precision': 0.781439393936434, 'recall': 0.6469112574454472, 'f1': 0.7078401048377732, 'auc': 0.813712465653654, 'prauc': 0.8272141244182319}\n"
     ]
    },
    {
     "name": "stderr",
     "output_type": "stream",
     "text": [
      "Epoch 009: 100%|██████████| 98/98 [00:06<00:00, 15.77it/s, loss=0.3731]\n",
      "Running inference: 100%|██████████| 198/198 [00:09<00:00, 21.87it/s]\n",
      "Running inference: 100%|██████████| 197/197 [00:09<00:00, 21.03it/s]\n"
     ]
    },
    {
     "name": "stdout",
     "output_type": "stream",
     "text": [
      "Validation: {'precision': 0.787299158374953, 'recall': 0.6453433678248813, 'f1': 0.7092882942022556, 'auc': 0.8226763559331486, 'prauc': 0.8298506780864877}\n",
      "Test:      {'precision': 0.7711766960491715, 'recall': 0.6309187833156761, 'f1': 0.6940324200217697, 'auc': 0.8080043407640731, 'prauc': 0.8203537160772478}\n"
     ]
    },
    {
     "name": "stderr",
     "output_type": "stream",
     "text": [
      "Epoch 010: 100%|██████████| 98/98 [00:06<00:00, 15.99it/s, loss=0.3365]\n",
      "Running inference: 100%|██████████| 198/198 [00:08<00:00, 22.29it/s]\n",
      "Running inference: 100%|██████████| 197/197 [00:08<00:00, 22.07it/s]\n"
     ]
    },
    {
     "name": "stdout",
     "output_type": "stream",
     "text": [
      "Validation: {'precision': 0.7455999999976141, 'recall': 0.7306365631836607, 'f1': 0.7380424403576946, 'auc': 0.8137535518652963, 'prauc': 0.8193904605908641}\n",
      "Test:      {'precision': 0.7240300375446682, 'recall': 0.72561931639785, 'f1': 0.7248238007925671, 'auc': 0.7982660600469008, 'prauc': 0.8122489901302445}\n"
     ]
    },
    {
     "name": "stderr",
     "output_type": "stream",
     "text": [
      "Epoch 011: 100%|██████████| 98/98 [00:06<00:00, 15.92it/s, loss=0.3349]\n",
      "Running inference: 100%|██████████| 198/198 [00:09<00:00, 21.89it/s]\n",
      "Running inference: 100%|██████████| 197/197 [00:09<00:00, 21.02it/s]\n"
     ]
    },
    {
     "name": "stdout",
     "output_type": "stream",
     "text": [
      "Validation: {'precision': 0.7966720779188448, 'recall': 0.6155534650341312, 'f1': 0.6944984914533908, 'auc': 0.8114185467527002, 'prauc': 0.8205428819684237}\n",
      "Test:      {'precision': 0.7738613861355491, 'recall': 0.6127312637171128, 'f1': 0.6839341917749607, 'auc': 0.7925404190870806, 'prauc': 0.8105574550321835}\n"
     ]
    },
    {
     "name": "stderr",
     "output_type": "stream",
     "text": [
      "Epoch 012: 100%|██████████| 98/98 [00:06<00:00, 15.53it/s, loss=0.3058]\n",
      "Running inference: 100%|██████████| 198/198 [00:09<00:00, 22.00it/s]\n",
      "Running inference: 100%|██████████| 197/197 [00:08<00:00, 22.36it/s]\n"
     ]
    },
    {
     "name": "stdout",
     "output_type": "stream",
     "text": [
      "Validation: {'precision': 0.7298327955390735, 'recall': 0.7801818751935398, 'f1': 0.7541679246789322, 'auc': 0.8250848574416081, 'prauc': 0.8240043034225463}\n",
      "Test:      {'precision': 0.7143688190787831, 'recall': 0.7701473816219186, 'f1': 0.7412101956989521, 'auc': 0.8100084711339692, 'prauc': 0.8180119626939735}\n"
     ]
    },
    {
     "name": "stderr",
     "output_type": "stream",
     "text": [
      "Epoch 013: 100%|██████████| 98/98 [00:06<00:00, 15.56it/s, loss=0.2723]\n",
      "Running inference: 100%|██████████| 198/198 [00:09<00:00, 21.77it/s]\n",
      "Running inference: 100%|██████████| 197/197 [00:09<00:00, 21.12it/s]\n"
     ]
    },
    {
     "name": "stdout",
     "output_type": "stream",
     "text": [
      "Validation: {'precision': 0.7559265442378768, 'recall': 0.7099404201921922, 'f1': 0.7322121554165244, 'auc': 0.8114744602787398, 'prauc': 0.8100744893522096}\n",
      "Test:      {'precision': 0.7397029034411219, 'recall': 0.6870492317319316, 'f1': 0.7124044820797658, 'auc': 0.7952442862629212, 'prauc': 0.8032765017136816}\n"
     ]
    },
    {
     "name": "stderr",
     "output_type": "stream",
     "text": [
      "Epoch 014: 100%|██████████| 98/98 [00:06<00:00, 15.71it/s, loss=0.2518]\n",
      "Running inference: 100%|██████████| 198/198 [00:08<00:00, 22.01it/s]\n",
      "Running inference: 100%|██████████| 197/197 [00:08<00:00, 22.88it/s]\n"
     ]
    },
    {
     "name": "stdout",
     "output_type": "stream",
     "text": [
      "Validation: {'precision': 0.697487974343406, 'recall': 0.8184383819353451, 'f1': 0.7531380703434638, 'auc': 0.8137648551387545, 'prauc': 0.8134359881951534}\n",
      "Test:      {'precision': 0.683076104308986, 'recall': 0.8049545311984793, 'f1': 0.7390240341850068, 'auc': 0.7999250030325955, 'prauc': 0.809437587967411}\n"
     ]
    },
    {
     "name": "stderr",
     "output_type": "stream",
     "text": [
      "Epoch 015: 100%|██████████| 98/98 [00:06<00:00, 16.23it/s, loss=0.2449]\n",
      "Running inference: 100%|██████████| 198/198 [00:08<00:00, 22.34it/s]\n",
      "Running inference: 100%|██████████| 197/197 [00:09<00:00, 20.88it/s]\n"
     ]
    },
    {
     "name": "stdout",
     "output_type": "stream",
     "text": [
      "Validation: {'precision': 0.7247223845683088, 'recall': 0.7776732518006345, 'f1': 0.7502647053352073, 'auc': 0.8133374406917242, 'prauc': 0.8154356565235098}\n",
      "Test:      {'precision': 0.7080527086362869, 'recall': 0.7582314205056186, 'f1': 0.7322834595705673, 'auc': 0.799618975138757, 'prauc': 0.8091468344112763}\n"
     ]
    },
    {
     "name": "stderr",
     "output_type": "stream",
     "text": [
      "Epoch 016: 100%|██████████| 98/98 [00:06<00:00, 15.91it/s, loss=0.1902]\n",
      "Running inference: 100%|██████████| 198/198 [00:09<00:00, 21.91it/s]\n",
      "Running inference: 100%|██████████| 197/197 [00:09<00:00, 21.83it/s]\n"
     ]
    },
    {
     "name": "stdout",
     "output_type": "stream",
     "text": [
      "Validation: {'precision': 0.7931937172740262, 'recall': 0.5700846660377232, 'f1': 0.6633825895485735, 'auc': 0.8090857018212537, 'prauc': 0.8115022113665213}\n",
      "Test:      {'precision': 0.793573943658479, 'recall': 0.5653809971760257, 'f1': 0.6603186181013913, 'auc': 0.7953279405983751, 'prauc': 0.8073091263510758}\n"
     ]
    },
    {
     "name": "stderr",
     "output_type": "stream",
     "text": [
      "Epoch 017: 100%|██████████| 98/98 [00:06<00:00, 16.16it/s, loss=0.1822]\n",
      "Running inference: 100%|██████████| 198/198 [00:09<00:00, 21.91it/s]\n",
      "Running inference: 100%|██████████| 197/197 [00:09<00:00, 21.50it/s]\n"
     ]
    },
    {
     "name": "stdout",
     "output_type": "stream",
     "text": [
      "Validation: {'precision': 0.7512829284955481, 'recall': 0.6886171213524973, 'f1': 0.7185863824416739, 'auc': 0.8039171921181721, 'prauc': 0.804358626280105}\n",
      "Test:      {'precision': 0.7419916434514555, 'recall': 0.668234556285142, 'f1': 0.7031842880323106, 'auc': 0.7882592499195922, 'prauc': 0.7983397906633007}\n",
      "\n",
      "Early stopping triggered (no improvement for 5 epochs).\n",
      "\n",
      "Best validation performance:\n",
      "{'precision': 0.7298327955390735, 'recall': 0.7801818751935398, 'f1': 0.7541679246789322, 'auc': 0.8250848574416081, 'prauc': 0.8240043034225463}\n",
      "Corresponding test performance:\n",
      "{'precision': 0.7143688190787831, 'recall': 0.7701473816219186, 'f1': 0.7412101956989521, 'auc': 0.8100084711339692, 'prauc': 0.8180119626939735}\n"
     ]
    },
    {
     "name": "stderr",
     "output_type": "stream",
     "text": [
      "Epoch 001: 100%|██████████| 98/98 [00:06<00:00, 16.09it/s, loss=0.7155]\n",
      "Running inference: 100%|██████████| 198/198 [00:08<00:00, 22.15it/s]\n",
      "Running inference: 100%|██████████| 197/197 [00:09<00:00, 21.89it/s]\n"
     ]
    },
    {
     "name": "stdout",
     "output_type": "stream",
     "text": [
      "Validation: {'precision': 0.7312839059648055, 'recall': 0.6340545625568076, 'f1': 0.6792072506495443, 'auc': 0.7642841476161296, 'prauc': 0.770488826771408}\n",
      "Test:      {'precision': 0.7164556961999405, 'recall': 0.6211978676681681, 'f1': 0.6654349967026643, 'auc': 0.7529810287872588, 'prauc': 0.7561650649678884}\n"
     ]
    },
    {
     "name": "stderr",
     "output_type": "stream",
     "text": [
      "Epoch 002: 100%|██████████| 98/98 [00:06<00:00, 16.11it/s, loss=0.6150]\n",
      "Running inference: 100%|██████████| 198/198 [00:09<00:00, 21.93it/s]\n",
      "Running inference: 100%|██████████| 197/197 [00:09<00:00, 20.93it/s]\n"
     ]
    },
    {
     "name": "stdout",
     "output_type": "stream",
     "text": [
      "Validation: {'precision': 0.7079889807140863, 'recall': 0.7253057384737369, 'f1': 0.7165427459278783, 'auc': 0.7878297202545317, 'prauc': 0.8011460539326857}\n",
      "Test:      {'precision': 0.6922846889931451, 'recall': 0.7259328943219633, 'f1': 0.708709623042892, 'auc': 0.7802095083067949, 'prauc': 0.7947658450411463}\n"
     ]
    },
    {
     "name": "stderr",
     "output_type": "stream",
     "text": [
      "Epoch 003: 100%|██████████| 98/98 [00:06<00:00, 15.86it/s, loss=0.5466]\n",
      "Running inference: 100%|██████████| 198/198 [00:09<00:00, 21.61it/s]\n",
      "Running inference: 100%|██████████| 197/197 [00:08<00:00, 22.20it/s]\n"
     ]
    },
    {
     "name": "stdout",
     "output_type": "stream",
     "text": [
      "Validation: {'precision': 0.7905643738942215, 'recall': 0.5622452179348942, 'f1': 0.6571376165437168, 'auc': 0.7933747043189255, 'prauc': 0.798816022260403}\n",
      "Test:      {'precision': 0.782849829348196, 'recall': 0.5754154907476469, 'f1': 0.6632929645702108, 'auc': 0.7858688600007953, 'prauc': 0.7924552081898117}\n"
     ]
    },
    {
     "name": "stderr",
     "output_type": "stream",
     "text": [
      "Epoch 004: 100%|██████████| 98/98 [00:06<00:00, 16.29it/s, loss=0.4978]\n",
      "Running inference: 100%|██████████| 198/198 [00:09<00:00, 21.87it/s]\n",
      "Running inference: 100%|██████████| 197/197 [00:09<00:00, 20.87it/s]\n"
     ]
    },
    {
     "name": "stdout",
     "output_type": "stream",
     "text": [
      "Validation: {'precision': 0.7467178994532606, 'recall': 0.7312637190318869, 'f1': 0.7389100076724767, 'auc': 0.8176496143976174, 'prauc': 0.8267962274767381}\n",
      "Test:      {'precision': 0.7358133669585882, 'recall': 0.7318908748801133, 'f1': 0.7338468744192032, 'auc': 0.8099490775624677, 'prauc': 0.8251464489749434}\n"
     ]
    },
    {
     "name": "stderr",
     "output_type": "stream",
     "text": [
      "Epoch 005: 100%|██████████| 98/98 [00:06<00:00, 15.77it/s, loss=0.4732]\n",
      "Running inference: 100%|██████████| 198/198 [00:09<00:00, 21.93it/s]\n",
      "Running inference: 100%|██████████| 197/197 [00:08<00:00, 22.14it/s]\n"
     ]
    },
    {
     "name": "stdout",
     "output_type": "stream",
     "text": [
      "Validation: {'precision': 0.7421133231217699, 'recall': 0.7597993101261844, 'f1': 0.7508521796900306, 'auc': 0.8262339231029766, 'prauc': 0.8348390032344417}\n",
      "Test:      {'precision': 0.7315517764933752, 'recall': 0.7554092191886002, 'f1': 0.7432891032989012, 'auc': 0.8211103879859892, 'prauc': 0.8326324438827187}\n"
     ]
    },
    {
     "name": "stderr",
     "output_type": "stream",
     "text": [
      "Epoch 006: 100%|██████████| 98/98 [00:05<00:00, 16.55it/s, loss=0.4442]\n",
      "Running inference: 100%|██████████| 198/198 [00:08<00:00, 22.06it/s]\n",
      "Running inference: 100%|██████████| 197/197 [00:09<00:00, 20.93it/s]\n"
     ]
    },
    {
     "name": "stdout",
     "output_type": "stream",
     "text": [
      "Validation: {'precision': 0.7786180818123801, 'recall': 0.7102539981163053, 'f1': 0.7428665086191254, 'auc': 0.8277877966644593, 'prauc': 0.8349433793446701}\n",
      "Test:      {'precision': 0.7641351622590695, 'recall': 0.7162119786744553, 'f1': 0.7393978583890555, 'auc': 0.8230410313945359, 'prauc': 0.8301737033688821}\n"
     ]
    },
    {
     "name": "stderr",
     "output_type": "stream",
     "text": [
      "Epoch 007: 100%|██████████| 98/98 [00:06<00:00, 15.86it/s, loss=0.4115]\n",
      "Running inference: 100%|██████████| 198/198 [00:09<00:00, 21.95it/s]\n",
      "Running inference: 100%|██████████| 197/197 [00:08<00:00, 22.82it/s]\n"
     ]
    },
    {
     "name": "stdout",
     "output_type": "stream",
     "text": [
      "Validation: {'precision': 0.7290266004071061, 'recall': 0.7820633427382188, 'f1': 0.7546142158813347, 'auc': 0.8209785037861947, 'prauc': 0.8301444429915656}\n",
      "Test:      {'precision': 0.7158830275208834, 'recall': 0.7830040765105581, 'f1': 0.7479406869352987, 'auc': 0.8162835026301788, 'prauc': 0.8251901483774231}\n"
     ]
    },
    {
     "name": "stderr",
     "output_type": "stream",
     "text": [
      "Epoch 008: 100%|██████████| 98/98 [00:06<00:00, 16.01it/s, loss=0.3777]\n",
      "Running inference: 100%|██████████| 198/198 [00:09<00:00, 21.78it/s]\n",
      "Running inference: 100%|██████████| 197/197 [00:09<00:00, 20.95it/s]\n"
     ]
    },
    {
     "name": "stdout",
     "output_type": "stream",
     "text": [
      "Validation: {'precision': 0.802269043756879, 'recall': 0.620884289744055, 'f1': 0.7000176722928172, 'auc': 0.8171983374843979, 'prauc': 0.827044531707999}\n",
      "Test:      {'precision': 0.79759036144258, 'recall': 0.6227657572887338, 'f1': 0.6994189068535295, 'auc': 0.8154467579414993, 'prauc': 0.8257224344310095}\n"
     ]
    },
    {
     "name": "stderr",
     "output_type": "stream",
     "text": [
      "Epoch 009: 100%|██████████| 98/98 [00:06<00:00, 15.91it/s, loss=0.3435]\n",
      "Running inference: 100%|██████████| 198/198 [00:09<00:00, 21.86it/s]\n",
      "Running inference: 100%|██████████| 197/197 [00:08<00:00, 22.04it/s]\n"
     ]
    },
    {
     "name": "stdout",
     "output_type": "stream",
     "text": [
      "Validation: {'precision': 0.7186421173742271, 'recall': 0.7833176544346714, 'f1': 0.7495873918562342, 'auc': 0.8193681138574215, 'prauc': 0.8251200038713657}\n",
      "Test:      {'precision': 0.7174157303350635, 'recall': 0.8008780181850083, 'f1': 0.7568528621042874, 'auc': 0.8204071781661177, 'prauc': 0.8270052277249964}\n"
     ]
    },
    {
     "name": "stderr",
     "output_type": "stream",
     "text": [
      "Epoch 010: 100%|██████████| 98/98 [00:05<00:00, 16.59it/s, loss=0.3246]\n",
      "Running inference: 100%|██████████| 198/198 [00:09<00:00, 21.98it/s]\n",
      "Running inference: 100%|██████████| 197/197 [00:09<00:00, 20.96it/s]\n"
     ]
    },
    {
     "name": "stdout",
     "output_type": "stream",
     "text": [
      "Validation: {'precision': 0.7279151943441463, 'recall': 0.7751646284077292, 'f1': 0.7507972615174668, 'auc': 0.8203906833296009, 'prauc': 0.8264211643538087}\n",
      "Test:      {'precision': 0.7191172255640037, 'recall': 0.7867670115999161, 'f1': 0.7514225766191012, 'auc': 0.8185386463399718, 'prauc': 0.8246898143169142}\n"
     ]
    },
    {
     "name": "stderr",
     "output_type": "stream",
     "text": [
      "Epoch 011: 100%|██████████| 98/98 [00:06<00:00, 15.94it/s, loss=0.2871]\n",
      "Running inference: 100%|██████████| 198/198 [00:09<00:00, 21.77it/s]\n",
      "Running inference: 100%|██████████| 197/197 [00:08<00:00, 22.01it/s]\n"
     ]
    },
    {
     "name": "stdout",
     "output_type": "stream",
     "text": [
      "Validation: {'precision': 0.757086354644835, 'recall': 0.7202884916879264, 'f1': 0.7382291449284171, 'auc': 0.8176071643261857, 'prauc': 0.8253995358048177}\n",
      "Test:      {'precision': 0.7483745123512732, 'recall': 0.7218563813084922, 'f1': 0.7348762918867509, 'auc': 0.8178816427053872, 'prauc': 0.8268027670828055}\n"
     ]
    },
    {
     "name": "stderr",
     "output_type": "stream",
     "text": [
      "Epoch 012: 100%|██████████| 98/98 [00:05<00:00, 16.43it/s, loss=0.2528]\n",
      "Running inference: 100%|██████████| 198/198 [00:08<00:00, 22.51it/s]\n",
      "Running inference: 100%|██████████| 197/197 [00:09<00:00, 21.03it/s]\n"
     ]
    },
    {
     "name": "stdout",
     "output_type": "stream",
     "text": [
      "Validation: {'precision': 0.7619699042381601, 'recall': 0.6986516149241184, 'f1': 0.7289383231601276, 'auc': 0.8125385253237032, 'prauc': 0.8158660775270398}\n",
      "Test:      {'precision': 0.7502521008378144, 'recall': 0.699905926620571, 'f1': 0.7242050566519573, 'auc': 0.8096841721668637, 'prauc': 0.8156481778044853}\n",
      "\n",
      "Early stopping triggered (no improvement for 5 epochs).\n",
      "\n",
      "Best validation performance:\n",
      "{'precision': 0.7290266004071061, 'recall': 0.7820633427382188, 'f1': 0.7546142158813347, 'auc': 0.8209785037861947, 'prauc': 0.8301444429915656}\n",
      "Corresponding test performance:\n",
      "{'precision': 0.7158830275208834, 'recall': 0.7830040765105581, 'f1': 0.7479406869352987, 'auc': 0.8162835026301788, 'prauc': 0.8251901483774231}\n"
     ]
    },
    {
     "name": "stderr",
     "output_type": "stream",
     "text": [
      "Epoch 001: 100%|██████████| 98/98 [00:06<00:00, 15.76it/s, loss=0.6831]\n",
      "Running inference: 100%|██████████| 198/198 [00:09<00:00, 21.64it/s]\n",
      "Running inference: 100%|██████████| 197/197 [00:09<00:00, 21.82it/s]\n"
     ]
    },
    {
     "name": "stdout",
     "output_type": "stream",
     "text": [
      "Validation: {'precision': 0.5922169323109249, 'recall': 0.8971464408877481, 'f1': 0.713466329372398, 'auc': 0.7512150014232076, 'prauc': 0.7529312940113959}\n",
      "Test:      {'precision': 0.5938084354859884, 'recall': 0.8962057071154086, 'f1': 0.7143214148492456, 'auc': 0.7536000809363246, 'prauc': 0.7517512958111736}\n"
     ]
    },
    {
     "name": "stderr",
     "output_type": "stream",
     "text": [
      "Epoch 002: 100%|██████████| 98/98 [00:06<00:00, 16.15it/s, loss=0.5835]\n",
      "Running inference: 100%|██████████| 198/198 [00:08<00:00, 22.42it/s]\n",
      "Running inference: 100%|██████████| 197/197 [00:09<00:00, 21.57it/s]\n"
     ]
    },
    {
     "name": "stdout",
     "output_type": "stream",
     "text": [
      "Validation: {'precision': 0.8405572755374585, 'recall': 0.5108184383803361, 'f1': 0.6354593282384486, 'auc': 0.8112076527883568, 'prauc': 0.816965919868938}\n",
      "Test:      {'precision': 0.8340020060138716, 'recall': 0.5214800878001835, 'f1': 0.6417132887227033, 'auc': 0.8077048562298068, 'prauc': 0.8178766631333544}\n"
     ]
    },
    {
     "name": "stderr",
     "output_type": "stream",
     "text": [
      "Epoch 003: 100%|██████████| 98/98 [00:06<00:00, 15.84it/s, loss=0.5454]\n",
      "Running inference: 100%|██████████| 198/198 [00:09<00:00, 21.72it/s]\n",
      "Running inference: 100%|██████████| 197/197 [00:09<00:00, 21.75it/s]\n"
     ]
    },
    {
     "name": "stdout",
     "output_type": "stream",
     "text": [
      "Validation: {'precision': 0.8350676378728665, 'recall': 0.5032925682016203, 'f1': 0.6280571269815819, 'auc': 0.7921635962454645, 'prauc': 0.8051124529432792}\n",
      "Test:      {'precision': 0.8232911392363378, 'recall': 0.5098777046079966, 'f1': 0.6297443794721913, 'auc': 0.791467308117239, 'prauc': 0.8080527860777831}\n"
     ]
    },
    {
     "name": "stderr",
     "output_type": "stream",
     "text": [
      "Epoch 004: 100%|██████████| 98/98 [00:06<00:00, 16.21it/s, loss=0.5234]\n",
      "Running inference: 100%|██████████| 198/198 [00:08<00:00, 22.18it/s]\n",
      "Running inference: 100%|██████████| 197/197 [00:09<00:00, 21.44it/s]\n"
     ]
    },
    {
     "name": "stdout",
     "output_type": "stream",
     "text": [
      "Validation: {'precision': 0.768846016431694, 'recall': 0.6748196926915183, 'f1': 0.7187708701023094, 'auc': 0.813521206799768, 'prauc': 0.8158896227386012}\n",
      "Test:      {'precision': 0.7610837438396866, 'recall': 0.6782690498567631, 'f1': 0.7172939761118354, 'auc': 0.8074692952852074, 'prauc': 0.8143514717449409}\n"
     ]
    },
    {
     "name": "stderr",
     "output_type": "stream",
     "text": [
      "Epoch 005: 100%|██████████| 98/98 [00:06<00:00, 16.05it/s, loss=0.4886]\n",
      "Running inference: 100%|██████████| 198/198 [00:09<00:00, 21.89it/s]\n",
      "Running inference: 100%|██████████| 197/197 [00:09<00:00, 21.67it/s]\n"
     ]
    },
    {
     "name": "stdout",
     "output_type": "stream",
     "text": [
      "Validation: {'precision': 0.8135089209821007, 'recall': 0.6005017246766996, 'f1': 0.6909615682663007, 'auc': 0.8214353067442162, 'prauc': 0.8303636341758835}\n",
      "Test:      {'precision': 0.8051157125424072, 'recall': 0.6218250235163945, 'f1': 0.7016985088804389, 'auc': 0.8204293752551279, 'prauc': 0.8317891353021742}\n"
     ]
    },
    {
     "name": "stderr",
     "output_type": "stream",
     "text": [
      "Epoch 006: 100%|██████████| 98/98 [00:06<00:00, 15.64it/s, loss=0.4520]\n",
      "Running inference: 100%|██████████| 198/198 [00:08<00:00, 22.16it/s]\n",
      "Running inference: 100%|██████████| 197/197 [00:09<00:00, 21.32it/s]\n"
     ]
    },
    {
     "name": "stdout",
     "output_type": "stream",
     "text": [
      "Validation: {'precision': 0.6688628599300418, 'recall': 0.859517089994169, 'f1': 0.7522986090458228, 'auc': 0.8175300006460449, 'prauc': 0.8259753930560726}\n",
      "Test:      {'precision': 0.6713832642091452, 'recall': 0.8629664471594137, 'f1': 0.7552140455698437, 'auc': 0.821594495927262, 'prauc': 0.8306169776923524}\n"
     ]
    },
    {
     "name": "stderr",
     "output_type": "stream",
     "text": [
      "Epoch 007: 100%|██████████| 98/98 [00:06<00:00, 15.96it/s, loss=0.4553]\n",
      "Running inference: 100%|██████████| 198/198 [00:09<00:00, 21.86it/s]\n",
      "Running inference: 100%|██████████| 197/197 [00:09<00:00, 21.83it/s]\n"
     ]
    },
    {
     "name": "stdout",
     "output_type": "stream",
     "text": [
      "Validation: {'precision': 0.7917137476429691, 'recall': 0.6591407964858603, 'f1': 0.7193702893582454, 'auc': 0.8247837884734542, 'prauc': 0.8343967371668328}\n",
      "Test:      {'precision': 0.7822433321125969, 'recall': 0.6713703355262736, 'f1': 0.722578462795803, 'auc': 0.8192897736853259, 'prauc': 0.8319884583063}\n"
     ]
    },
    {
     "name": "stderr",
     "output_type": "stream",
     "text": [
      "Epoch 008: 100%|██████████| 98/98 [00:06<00:00, 16.32it/s, loss=0.4010]\n",
      "Running inference: 100%|██████████| 198/198 [00:09<00:00, 21.57it/s]\n",
      "Running inference: 100%|██████████| 197/197 [00:08<00:00, 22.29it/s]\n"
     ]
    },
    {
     "name": "stdout",
     "output_type": "stream",
     "text": [
      "Validation: {'precision': 0.7459858702609313, 'recall': 0.7284415177148685, 'f1': 0.7371093080239125, 'auc': 0.8213235801656789, 'prauc': 0.8298422018011312}\n",
      "Test:      {'precision': 0.7418341708519415, 'recall': 0.7406710567552817, 'f1': 0.7412521525372973, 'auc': 0.8168240847979134, 'prauc': 0.8259613552879945}\n"
     ]
    },
    {
     "name": "stderr",
     "output_type": "stream",
     "text": [
      "Epoch 009: 100%|██████████| 98/98 [00:05<00:00, 16.40it/s, loss=0.3740]\n",
      "Running inference: 100%|██████████| 198/198 [00:09<00:00, 21.76it/s]\n",
      "Running inference: 100%|██████████| 197/197 [00:09<00:00, 21.79it/s]\n"
     ]
    },
    {
     "name": "stdout",
     "output_type": "stream",
     "text": [
      "Validation: {'precision': 0.7439478584706892, 'recall': 0.7516462840992423, 'f1': 0.7477772528358905, 'auc': 0.8200189814615264, 'prauc': 0.8237417461485098}\n",
      "Test:      {'precision': 0.735970561175296, 'recall': 0.7525870178715818, 'f1': 0.7441860415099435, 'auc': 0.8162454001440547, 'prauc': 0.8230420806065495}\n"
     ]
    },
    {
     "name": "stderr",
     "output_type": "stream",
     "text": [
      "Epoch 010: 100%|██████████| 98/98 [00:06<00:00, 15.85it/s, loss=0.3500]\n",
      "Running inference: 100%|██████████| 198/198 [00:09<00:00, 21.82it/s]\n",
      "Running inference: 100%|██████████| 197/197 [00:09<00:00, 21.33it/s]\n"
     ]
    },
    {
     "name": "stdout",
     "output_type": "stream",
     "text": [
      "Validation: {'precision': 0.8173719376355574, 'recall': 0.5754154907476469, 'f1': 0.675377249473032, 'auc': 0.820094889222394, 'prauc': 0.8269024468000137}\n",
      "Test:      {'precision': 0.8101995565374271, 'recall': 0.5729068673547416, 'f1': 0.6711976439323633, 'auc': 0.8154193261648314, 'prauc': 0.8243712318917757}\n"
     ]
    },
    {
     "name": "stderr",
     "output_type": "stream",
     "text": [
      "Epoch 011: 100%|██████████| 98/98 [00:06<00:00, 15.76it/s, loss=0.3113]\n",
      "Running inference: 100%|██████████| 198/198 [00:09<00:00, 21.96it/s]\n",
      "Running inference: 100%|██████████| 197/197 [00:09<00:00, 21.86it/s]"
     ]
    },
    {
     "name": "stdout",
     "output_type": "stream",
     "text": [
      "Validation: {'precision': 0.7995951416971676, 'recall': 0.6193164001234891, 'f1': 0.6980031758522354, 'auc': 0.8179437506913837, 'prauc': 0.8244184463440433}\n",
      "Test:      {'precision': 0.7891999999968432, 'recall': 0.6186892442752628, 'f1': 0.6936192603196265, 'auc': 0.8129922934324301, 'prauc': 0.8198637406529639}\n",
      "\n",
      "Early stopping triggered (no improvement for 5 epochs).\n",
      "\n",
      "Best validation performance:\n",
      "{'precision': 0.6688628599300418, 'recall': 0.859517089994169, 'f1': 0.7522986090458228, 'auc': 0.8175300006460449, 'prauc': 0.8259753930560726}\n",
      "Corresponding test performance:\n",
      "{'precision': 0.6713832642091452, 'recall': 0.8629664471594137, 'f1': 0.7552140455698437, 'auc': 0.821594495927262, 'prauc': 0.8306169776923524}\n"
     ]
    },
    {
     "name": "stderr",
     "output_type": "stream",
     "text": [
      "\n"
     ]
    }
   ],
   "source": [
    "final_metrics = []\n",
    "for i in range(10):\n",
    "    model = HeteroGT(tokenizer, d_model=64, num_heads=4, layer_types=['gnn', 'tf', 'gnn', 'tf'], max_num_adms=config.max_num_adms, \n",
    "                     device=device, task=curr_task, label_vocab_size=config.label_vocab_size, attn_mask_dicts=attn_mask_dicts,\n",
    "                     use_cls_cat=True).to(device)\n",
    "    optimizer = torch.optim.AdamW(model.parameters(), lr=config.lr)\n",
    "    best_test_metric = train_with_early_stopping(model, train_dataloader, val_dataloader, test_dataloader,\n",
    "                                             optimizer, loss_fn, device, config.early_stop_patience, task_type, config.epochs, \n",
    "                                             val_long_seq_idx=None, test_long_seq_idx=None, eval_metric=eval_metric, return_model=False)\n",
    "    final_metrics.append(best_test_metric)"
   ]
  },
  {
   "cell_type": "code",
   "execution_count": 17,
   "id": "69b5b571",
   "metadata": {},
   "outputs": [],
   "source": [
    "def topk_avg_performance_formatted(performances, k=5):\n",
    "    metrics = [\"f1\", \"auc\", \"prauc\"]\n",
    "    scores = {m: np.array([p[m] for p in performances]) for m in metrics}\n",
    "\n",
    "    # 计算排名（值越大排名越靠前）\n",
    "    ranks = {m: (-scores[m]).argsort().argsort() + 1 for m in metrics}\n",
    "    avg_ranks = np.mean(np.stack([ranks[m] for m in metrics], axis=1), axis=1)\n",
    "\n",
    "    # 选 top-k\n",
    "    topk_idx = np.argsort(avg_ranks)[:k]\n",
    "    final_avg = {m: np.mean([performances[i][m] for i in topk_idx]) for m in performances[0].keys()}\n",
    "    final_std = {m: np.std([performances[i][m] for i in topk_idx], ddof=0) for m in performances[0].keys()}\n",
    "\n",
    "    # 打印结果\n",
    "    print(\"Final Metrics:\")\n",
    "    for m in performances[0].keys():\n",
    "        print(f\"{m}: {final_avg[m]:.4f}±{final_std[m]:.4f}\")"
   ]
  },
  {
   "cell_type": "code",
   "execution_count": 18,
   "id": "e12dd11d-4936-466a-9a97-e10f223539fc",
   "metadata": {
    "tags": []
   },
   "outputs": [
    {
     "name": "stdout",
     "output_type": "stream",
     "text": [
      "Final Metrics:\n",
      "precision: 0.6955±0.0287\n",
      "recall: 0.8405±0.0428\n",
      "f1: 0.7595±0.0028\n",
      "auc: 0.8283±0.0041\n",
      "prauc: 0.8352±0.0060\n"
     ]
    }
   ],
   "source": [
    "topk_avg_performance_formatted(final_metrics, 5)"
   ]
  }
 ],
 "metadata": {
  "kernelspec": {
   "display_name": "Python 3",
   "language": "python",
   "name": "python3"
  },
  "language_info": {
   "codemirror_mode": {
    "name": "ipython",
    "version": 3
   },
   "file_extension": ".py",
   "mimetype": "text/x-python",
   "name": "python",
   "nbconvert_exporter": "python",
   "pygments_lexer": "ipython3",
   "version": "3.10.18"
  }
 },
 "nbformat": 4,
 "nbformat_minor": 5
}
