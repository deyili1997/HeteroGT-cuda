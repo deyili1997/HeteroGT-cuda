{
 "cells": [
  {
   "cell_type": "code",
   "execution_count": 1,
   "id": "105bbf2f",
   "metadata": {},
   "outputs": [
    {
     "name": "stderr",
     "output_type": "stream",
     "text": [
      "Disabling PyTorch because PyTorch >= 2.1 is required but found 1.13.1\n",
      "None of PyTorch, TensorFlow >= 2.0, or Flax have been found. Models won't be available and only tokenizers, configuration and file/data utilities can be used.\n"
     ]
    }
   ],
   "source": [
    "import torch\n",
    "import random\n",
    "from model import SetGNN \n",
    "import pickle\n",
    "from tokenizer import EHRTokenizer\n",
    "from dataset import FinetuneHGDataset, batcher_SetGNN_finetune\n",
    "from torch.utils.data import DataLoader\n",
    "import torch.nn.functional as F\n",
    "from train import PHENO_ORDER, train_with_early_stopping\n",
    "from set_seed import set_random_seed"
   ]
  },
  {
   "cell_type": "code",
   "execution_count": 2,
   "id": "eb757cdd",
   "metadata": {},
   "outputs": [
    {
     "name": "stdout",
     "output_type": "stream",
     "text": [
      "cuda\n"
     ]
    }
   ],
   "source": [
    "device = torch.device(\"cuda\" if torch.cuda.is_available() else \"cpu\")\n",
    "print(device)"
   ]
  },
  {
   "cell_type": "code",
   "execution_count": 3,
   "id": "89793d45",
   "metadata": {},
   "outputs": [],
   "source": [
    "args = {\n",
    "    \"dataset\": \"MIMIC-IV\", \n",
    "    \"task\": \"readmission\",  # options: death, stay, readmission, next_diag_6m, next_diag_12m\n",
    "    \"special_tokens\":[\"[PAD]\", \"[CLS]\"],\n",
    "    \"predicted_token_type\": [\"diag\", \"med\", \"lab\", \"pro\"],\n",
    "    \"batch_size\": 256,\n",
    "    \"lr\": 1e-3,\n",
    "    \"epochs\": 500,\n",
    "    \"model_name\": \"HG\",\n",
    "    \"early_stop_patience\": 10,\n",
    "    # model hyperparameters\n",
    "    \"level\": \"visit\",  # \"visit\" or \"patient\"\n",
    "    \"hg_all_num_layers\": 3,\n",
    "    \"hg_use_type_embed\": True,\n",
    "    \"MLP_num_layers\": 2,\n",
    "    \"hg_aggregate\": \"mean\",\n",
    "    \"hg_dropout\": 0.0,\n",
    "    \"normtype\": \"all_one\",\n",
    "    \"add_self_loop\": True,\n",
    "    \"hg_normalization\": \"ln\",\n",
    "    \"hg_hidden_size\": 128,\n",
    "    \"PMA\": True,\n",
    "    \"hg_num_heads\": 4,\n",
    "}"
   ]
  },
  {
   "cell_type": "code",
   "execution_count": 4,
   "id": "c32fba6c",
   "metadata": {},
   "outputs": [],
   "source": [
    "full_data_path = f\"/home/lideyi/HeteroGT-cuda/data_process/{args['dataset']}-processed/mimic.pkl\"\n",
    "\n",
    "if args[\"task\"] == \"next_diag_6m\":\n",
    "    finetune_data_path = f\"/home/lideyi/HeteroGT-cuda/data_process/{args['dataset']}-processed/mimic_nextdiag_6m.pkl\"\n",
    "elif args[\"task\"] == \"next_diag_12m\":\n",
    "    finetune_data_path = f\"/home/lideyi/HeteroGT-cuda/data_process/{args['dataset']}-processed/mimic_nextdiag_12m.pkl\"\n",
    "else:\n",
    "    finetune_data_path = f\"/home/lideyi/HeteroGT-cuda/data_process/{args['dataset']}-processed/mimic_downstream.pkl\""
   ]
  },
  {
   "cell_type": "code",
   "execution_count": 5,
   "id": "9ab08e48",
   "metadata": {},
   "outputs": [
    {
     "name": "stdout",
     "output_type": "stream",
     "text": [
      "Max admissions per patient: 8\n"
     ]
    }
   ],
   "source": [
    "ehr_full_data = pickle.load(open(full_data_path, 'rb'))\n",
    "diag_sentences = ehr_full_data[\"ICD9_CODE\"].values.tolist()\n",
    "med_sentences = ehr_full_data[\"NDC\"].values.tolist()\n",
    "lab_sentences = ehr_full_data[\"LAB_TEST\"].values.tolist()\n",
    "pro_sentences = ehr_full_data[\"PRO_CODE\"].values.tolist()\n",
    "age_gender_sentences = [\"[PAD]\"] + [str(c) + \"_\" + gender \\\n",
    "    for c in set(ehr_full_data[\"AGE\"].values.tolist()) for gender in [\"M\", \"F\"]] # PAD token special for age_gender vocabulary\n",
    "max_admissions = ehr_full_data.groupby(\"SUBJECT_ID\")[\"HADM_ID\"].nunique().max()\n",
    "args[\"max_adm_len\"] = max_admissions\n",
    "print(f\"Max admissions per patient: {max_admissions}\")"
   ]
  },
  {
   "cell_type": "code",
   "execution_count": 6,
   "id": "42864fb3",
   "metadata": {},
   "outputs": [
    {
     "name": "stdout",
     "output_type": "stream",
     "text": [
      "Age and gender vocabulary size: 41\n",
      "Global vocabulary size: 4207\n",
      "Label vocabulary size: 18\n"
     ]
    }
   ],
   "source": [
    "tokenizer = EHRTokenizer(age_gender_sentences, diag_sentences, med_sentences, lab_sentences, \n",
    "                         pro_sentences, special_tokens=args[\"special_tokens\"])\n",
    "args[\"age_gender_vocab_size\"] = tokenizer.token_number(\"age_gender\")\n",
    "args[\"global_vocab_size\"] = len(tokenizer.vocab.id2word)\n",
    "args[\"label_vocab_size\"] = len(PHENO_ORDER)\n",
    "print(f\"Age and gender vocabulary size: {args['age_gender_vocab_size']}\")\n",
    "print(f\"Global vocabulary size: {args['global_vocab_size']}\")\n",
    "print(f\"Label vocabulary size: {args['label_vocab_size']}\")"
   ]
  },
  {
   "cell_type": "code",
   "execution_count": 7,
   "id": "f7ff21ce",
   "metadata": {},
   "outputs": [
    {
     "name": "stdout",
     "output_type": "stream",
     "text": [
      "7621 15401 15621\n"
     ]
    }
   ],
   "source": [
    "train_data, val_data, test_data = pickle.load(open(finetune_data_path, 'rb'))\n",
    "\n",
    "# output: input_ids (a patient has multiple visits), labels\n",
    "train_dataset = FinetuneHGDataset(train_data, tokenizer, token_type=args[\"predicted_token_type\"], task=args[\"task\"], level=args[\"level\"])\n",
    "val_dataset = FinetuneHGDataset(val_data, tokenizer, token_type=args[\"predicted_token_type\"], task=args[\"task\"], level=args[\"level\"])\n",
    "test_dataset = FinetuneHGDataset(test_data, tokenizer, token_type=args[\"predicted_token_type\"], task=args[\"task\"], level=args[\"level\"])\n",
    "print(len(train_dataset), len(val_dataset), len(test_dataset))"
   ]
  },
  {
   "cell_type": "code",
   "execution_count": 8,
   "id": "42afdd7b",
   "metadata": {},
   "outputs": [
    {
     "name": "stdout",
     "output_type": "stream",
     "text": [
      "3379 3608\n"
     ]
    }
   ],
   "source": [
    "long_adm_seq_crite = 3\n",
    "val_long_seq_idx, test_long_seq_idx = [], []\n",
    "for i in range(len(val_dataset)):\n",
    "    hadm_id = list(val_dataset.records.keys())[i]\n",
    "    num_adms = len(val_dataset.records[hadm_id])\n",
    "    if num_adms >= long_adm_seq_crite:\n",
    "        val_long_seq_idx.append(i)\n",
    "for i in range(len(test_dataset)):\n",
    "    hadm_id = list(test_dataset.records.keys())[i]\n",
    "    num_adms = len(test_dataset.records[hadm_id])\n",
    "    if num_adms >= long_adm_seq_crite:\n",
    "        test_long_seq_idx.append(i)\n",
    "print(len(val_long_seq_idx), len(test_long_seq_idx))"
   ]
  },
  {
   "cell_type": "code",
   "execution_count": 9,
   "id": "d0769b44",
   "metadata": {},
   "outputs": [],
   "source": [
    "use_full_graph = True\n",
    "train_batch_size = len(train_dataset) if use_full_graph else args[\"batch_size\"]\n",
    "val_batch_size = len(val_dataset) if use_full_graph else args[\"batch_size\"]\n",
    "test_batch_size = len(test_dataset) if use_full_graph else args[\"batch_size\"]\n",
    "train_dataloader = DataLoader(train_dataset, collate_fn=batcher_SetGNN_finetune(device = device), batch_size = train_batch_size, shuffle = True)\n",
    "val_dataloader = DataLoader(val_dataset, collate_fn=batcher_SetGNN_finetune(device = device), batch_size = val_batch_size, shuffle = False)\n",
    "test_dataloader = DataLoader(test_dataset, collate_fn=batcher_SetGNN_finetune(device = device), batch_size = test_batch_size, shuffle = False)"
   ]
  },
  {
   "cell_type": "code",
   "execution_count": 10,
   "id": "92a62432",
   "metadata": {},
   "outputs": [],
   "source": [
    "if args[\"task\"] in [\"death\", \"stay\", \"readmission\"]:\n",
    "    eval_metric = \"prauc\"\n",
    "    task_type = \"binary\"\n",
    "    loss_fn = F.binary_cross_entropy_with_logits\n",
    "else:\n",
    "    eval_metric = \"prauc\"\n",
    "    task_type = \"l2r\"\n",
    "    loss_fn = lambda x, y: F.binary_cross_entropy_with_logits(x, y)"
   ]
  },
  {
   "cell_type": "code",
   "execution_count": 11,
   "id": "33afa400",
   "metadata": {},
   "outputs": [
    {
     "name": "stdout",
     "output_type": "stream",
     "text": [
      "[2746317213, 1181241943, 958682846, 3163119785, 1812140441, 127978094, 939042955, 2340505846, 946785248, 2530876844, 3460967357, 2998485882, 1461364854, 667779376, 1445662585]\n"
     ]
    }
   ],
   "source": [
    "random.seed(42)\n",
    "seeds = [random.randint(0, 2**32 - 1) for _ in range(15)]\n",
    "print(seeds)"
   ]
  },
  {
   "cell_type": "code",
   "execution_count": 12,
   "id": "71af0347",
   "metadata": {},
   "outputs": [
    {
     "name": "stdout",
     "output_type": "stream",
     "text": [
      "[INFO] Random seed set to 2746317213\n",
      "Training with seed: 2746317213\n"
     ]
    },
    {
     "name": "stderr",
     "output_type": "stream",
     "text": [
      "Training Batches: 100%|██████████| 1/1 [00:02<00:00,  2.50s/it]\n",
      "Running inference: 100%|██████████| 1/1 [00:04<00:00,  4.47s/it]\n",
      "Running inference: 100%|██████████| 1/1 [00:04<00:00,  4.58s/it]\n"
     ]
    },
    {
     "name": "stdout",
     "output_type": "stream",
     "text": [
      "Epoch: 001, Average Loss: 0.6863\n",
      "Validation: {'precision': 0.7583576204348034, 'recall': 0.8172748267890833, 'f1': 0.7867146808806412, 'auc': 0.6622638447003343, 'prauc': 0.8060596193416296}\n",
      "Test:       {'precision': 0.7676981771930752, 'recall': 0.8188641707353781, 'f1': 0.7924561276785539, 'auc': 0.6766609680267734, 'prauc': 0.8208352008247454}\n"
     ]
    },
    {
     "name": "stderr",
     "output_type": "stream",
     "text": [
      "Training Batches: 100%|██████████| 1/1 [00:01<00:00,  1.79s/it]\n",
      "Running inference: 100%|██████████| 1/1 [00:03<00:00,  3.99s/it]\n",
      "Running inference: 100%|██████████| 1/1 [00:04<00:00,  4.07s/it]\n"
     ]
    },
    {
     "name": "stdout",
     "output_type": "stream",
     "text": [
      "Epoch: 002, Average Loss: 0.6653\n",
      "Validation: {'precision': 0.775524002703781, 'recall': 0.7417090069277212, 'f1': 0.7582396776913511, 'auc': 0.6623993443046561, 'prauc': 0.807181160617678}\n",
      "Test:       {'precision': 0.7866269574399205, 'recall': 0.7404593959117919, 'f1': 0.7628452924371288, 'auc': 0.6763501529421087, 'prauc': 0.8205726166918115}\n"
     ]
    },
    {
     "name": "stderr",
     "output_type": "stream",
     "text": [
      "Training Batches: 100%|██████████| 1/1 [00:02<00:00,  2.75s/it]\n",
      "Running inference: 100%|██████████| 1/1 [00:04<00:00,  4.03s/it]\n",
      "Running inference: 100%|██████████| 1/1 [00:04<00:00,  4.03s/it]\n"
     ]
    },
    {
     "name": "stdout",
     "output_type": "stream",
     "text": [
      "Epoch: 003, Average Loss: 0.6477\n",
      "Validation: {'precision': 0.777624717110324, 'recall': 0.7300692840639906, 'f1': 0.7530970028182457, 'auc': 0.6630227494791582, 'prauc': 0.8079615371590592}\n",
      "Test:       {'precision': 0.7893348959851652, 'recall': 0.7308735756911459, 'f1': 0.7589801330542939, 'auc': 0.6767604078461515, 'prauc': 0.8207782604867606}\n"
     ]
    },
    {
     "name": "stderr",
     "output_type": "stream",
     "text": [
      "Training Batches: 100%|██████████| 1/1 [00:02<00:00,  2.23s/it]\n",
      "Running inference: 100%|██████████| 1/1 [00:04<00:00,  4.52s/it]\n",
      "Running inference: 100%|██████████| 1/1 [00:03<00:00,  3.56s/it]\n"
     ]
    },
    {
     "name": "stdout",
     "output_type": "stream",
     "text": [
      "Epoch: 004, Average Loss: 0.6310\n",
      "Validation: {'precision': 0.7776799687003347, 'recall': 0.7345034642025546, 'f1': 0.7554753144959708, 'auc': 0.6637415312747299, 'prauc': 0.8085195703589387}\n",
      "Test:       {'precision': 0.7887269193383977, 'recall': 0.7339482727430512, 'f1': 0.7603522528285056, 'auc': 0.6773351670293668, 'prauc': 0.8209766760900239}\n"
     ]
    },
    {
     "name": "stderr",
     "output_type": "stream",
     "text": [
      "Training Batches: 100%|██████████| 1/1 [00:02<00:00,  2.25s/it]\n",
      "Running inference: 100%|██████████| 1/1 [00:04<00:00,  4.02s/it]\n",
      "Running inference: 100%|██████████| 1/1 [00:04<00:00,  4.45s/it]\n"
     ]
    },
    {
     "name": "stdout",
     "output_type": "stream",
     "text": [
      "Epoch: 005, Average Loss: 0.6154\n",
      "Validation: {'precision': 0.7775852108600254, 'recall': 0.7460508083133985, 'f1': 0.7614916738473057, 'auc': 0.6645886864290445, 'prauc': 0.8090181586258244}\n",
      "Test:       {'precision': 0.787382064232548, 'recall': 0.7471513836129976, 'f1': 0.7667393574453031, 'auc': 0.6781441126850647, 'prauc': 0.8212895023083014}\n"
     ]
    },
    {
     "name": "stderr",
     "output_type": "stream",
     "text": [
      "Training Batches: 100%|██████████| 1/1 [00:02<00:00,  2.68s/it]\n",
      "Running inference: 100%|██████████| 1/1 [00:04<00:00,  4.04s/it]\n",
      "Running inference: 100%|██████████| 1/1 [00:04<00:00,  4.12s/it]\n"
     ]
    },
    {
     "name": "stdout",
     "output_type": "stream",
     "text": [
      "Epoch: 006, Average Loss: 0.6018\n",
      "Validation: {'precision': 0.7751038127588004, 'recall': 0.7587066974588833, 'f1': 0.7668176038883294, 'auc': 0.6652589471729194, 'prauc': 0.8094101432861278}\n",
      "Test:       {'precision': 0.7853466828850141, 'recall': 0.7589980104894565, 'f1': 0.7719475691557236, 'auc': 0.6788493377040479, 'prauc': 0.8215388573474911}\n"
     ]
    },
    {
     "name": "stderr",
     "output_type": "stream",
     "text": [
      "Training Batches: 100%|██████████| 1/1 [00:02<00:00,  2.26s/it]\n",
      "Running inference: 100%|██████████| 1/1 [00:04<00:00,  4.07s/it]\n",
      "Running inference: 100%|██████████| 1/1 [00:05<00:00,  5.12s/it]\n"
     ]
    },
    {
     "name": "stdout",
     "output_type": "stream",
     "text": [
      "Epoch: 007, Average Loss: 0.5918\n",
      "Validation: {'precision': 0.7682275156228889, 'recall': 0.7835565819854193, 'f1': 0.7758163308636766, 'auc': 0.665969795216331, 'prauc': 0.8097836651316943}\n",
      "Test:       {'precision': 0.7790812214553782, 'recall': 0.786760716222837, 'f1': 0.7829021322322617, 'auc': 0.6795891164500039, 'prauc': 0.8217996903023369}\n"
     ]
    },
    {
     "name": "stderr",
     "output_type": "stream",
     "text": [
      "Training Batches: 100%|██████████| 1/1 [00:01<00:00,  1.36s/it]\n",
      "Running inference: 100%|██████████| 1/1 [00:04<00:00,  4.47s/it]\n",
      "Running inference: 100%|██████████| 1/1 [00:04<00:00,  4.56s/it]\n"
     ]
    },
    {
     "name": "stdout",
     "output_type": "stream",
     "text": [
      "Epoch: 008, Average Loss: 0.5849\n",
      "Validation: {'precision': 0.7549941245587082, 'recall': 0.8309468822163224, 'f1': 0.7911517606996765, 'auc': 0.6666693785429352, 'prauc': 0.8102453013278107}\n",
      "Test:       {'precision': 0.7663597500815797, 'recall': 0.8430095858194583, 'f1': 0.8028593525164637, 'auc': 0.6803258926782446, 'prauc': 0.8221640070861985}\n"
     ]
    },
    {
     "name": "stderr",
     "output_type": "stream",
     "text": [
      "Training Batches: 100%|██████████| 1/1 [00:02<00:00,  2.24s/it]\n",
      "Running inference: 100%|██████████| 1/1 [00:04<00:00,  4.62s/it]\n",
      "Running inference: 100%|██████████| 1/1 [00:03<00:00,  3.60s/it]\n"
     ]
    },
    {
     "name": "stdout",
     "output_type": "stream",
     "text": [
      "Epoch: 009, Average Loss: 0.5817\n",
      "Validation: {'precision': 0.7349696014405651, 'recall': 0.9045727482670627, 'f1': 0.8109988355365171, 'auc': 0.6671043722443838, 'prauc': 0.8105921065143218}\n",
      "Test:       {'precision': 0.7436371707600298, 'recall': 0.908934707902958, 'f1': 0.8180190395679555, 'auc': 0.6805732089724188, 'prauc': 0.8224005976428332}\n"
     ]
    },
    {
     "name": "stderr",
     "output_type": "stream",
     "text": [
      "Training Batches: 100%|██████████| 1/1 [00:02<00:00,  2.23s/it]\n",
      "Running inference: 100%|██████████| 1/1 [00:04<00:00,  4.53s/it]\n",
      "Running inference: 100%|██████████| 1/1 [00:03<00:00,  3.54s/it]\n"
     ]
    },
    {
     "name": "stdout",
     "output_type": "stream",
     "text": [
      "Epoch: 010, Average Loss: 0.5806\n",
      "Validation: {'precision': 0.7179255762283269, 'recall': 0.9552886836018888, 'f1': 0.8197708936690792, 'auc': 0.6673799136775465, 'prauc': 0.8108743131597782}\n",
      "Test:       {'precision': 0.7266836699519358, 'recall': 0.9533369506231204, 'f1': 0.8247212937408585, 'auc': 0.6804167609536503, 'prauc': 0.8225201105703823}\n"
     ]
    },
    {
     "name": "stderr",
     "output_type": "stream",
     "text": [
      "Training Batches: 100%|██████████| 1/1 [00:02<00:00,  2.26s/it]\n",
      "Running inference: 100%|██████████| 1/1 [00:03<00:00,  3.96s/it]\n",
      "Running inference: 100%|██████████| 1/1 [00:04<00:00,  4.07s/it]\n"
     ]
    },
    {
     "name": "stdout",
     "output_type": "stream",
     "text": [
      "Epoch: 011, Average Loss: 0.5803\n",
      "Validation: {'precision': 0.7104946524059421, 'recall': 0.981893764433273, 'f1': 0.8244328049010684, 'auc': 0.6678302802855344, 'prauc': 0.8112384605414458}\n",
      "Test:       {'precision': 0.7154842119165573, 'recall': 0.9794718755643158, 'f1': 0.8269201356001199, 'auc': 0.6801184613141149, 'prauc': 0.8225923988916877}\n"
     ]
    },
    {
     "name": "stderr",
     "output_type": "stream",
     "text": [
      "Training Batches: 100%|██████████| 1/1 [00:02<00:00,  2.70s/it]\n",
      "Running inference: 100%|██████████| 1/1 [00:03<00:00,  3.99s/it]\n",
      "Running inference: 100%|██████████| 1/1 [00:04<00:00,  4.15s/it]\n"
     ]
    },
    {
     "name": "stdout",
     "output_type": "stream",
     "text": [
      "Epoch: 012, Average Loss: 0.5809\n",
      "Validation: {'precision': 0.7147712596011727, 'recall': 0.9713625866041834, 'f1': 0.8235432281978514, 'auc': 0.6696502285243625, 'prauc': 0.8119256579808298}\n",
      "Test:       {'precision': 0.7225562385997956, 'recall': 0.967263519622927, 'f1': 0.8271915190205357, 'auc': 0.6827922677499038, 'prauc': 0.8233291612368576}\n"
     ]
    },
    {
     "name": "stderr",
     "output_type": "stream",
     "text": [
      "Training Batches: 100%|██████████| 1/1 [00:01<00:00,  1.82s/it]\n",
      "Running inference: 100%|██████████| 1/1 [00:04<00:00,  4.00s/it]\n",
      "Running inference: 100%|██████████| 1/1 [00:05<00:00,  5.02s/it]\n"
     ]
    },
    {
     "name": "stdout",
     "output_type": "stream",
     "text": [
      "Epoch: 013, Average Loss: 0.5778\n",
      "Validation: {'precision': 0.7216602720608848, 'recall': 0.9556581986134358, 'f1': 0.8223370380219359, 'auc': 0.6712352831925581, 'prauc': 0.8125058106348559}\n",
      "Test:       {'precision': 0.730849582172193, 'recall': 0.9490866341101925, 'f1': 0.8257927403823379, 'auc': 0.6850396473050452, 'prauc': 0.8241149403976002}\n"
     ]
    },
    {
     "name": "stderr",
     "output_type": "stream",
     "text": [
      "Training Batches: 100%|██████████| 1/1 [00:01<00:00,  1.33s/it]\n",
      "Running inference: 100%|██████████| 1/1 [00:04<00:00,  4.45s/it]\n",
      "Running inference: 100%|██████████| 1/1 [00:04<00:00,  4.53s/it]\n"
     ]
    },
    {
     "name": "stdout",
     "output_type": "stream",
     "text": [
      "Epoch: 014, Average Loss: 0.5777\n",
      "Validation: {'precision': 0.7264624743575536, 'recall': 0.9487297921469295, 'f1': 0.8228507282016967, 'auc': 0.6747017474442416, 'prauc': 0.8136234355708365}\n",
      "Test:       {'precision': 0.7362878145315689, 'recall': 0.9420329173440567, 'f1': 0.826549229383777, 'auc': 0.6881101329047123, 'prauc': 0.8251041859623883}\n"
     ]
    },
    {
     "name": "stderr",
     "output_type": "stream",
     "text": [
      "Training Batches: 100%|██████████| 1/1 [00:02<00:00,  2.26s/it]\n",
      "Running inference: 100%|██████████| 1/1 [00:04<00:00,  4.64s/it]\n",
      "Running inference: 100%|██████████| 1/1 [00:03<00:00,  3.59s/it]\n"
     ]
    },
    {
     "name": "stdout",
     "output_type": "stream",
     "text": [
      "Epoch: 015, Average Loss: 0.5760\n",
      "Validation: {'precision': 0.7522486981215463, 'recall': 0.880739030022281, 'f1': 0.8114387796593985, 'auc': 0.6760557643857297, 'prauc': 0.8140812953670411}\n",
      "Test:       {'precision': 0.7611741682968601, 'recall': 0.8793633568449273, 'f1': 0.8160114077722975, 'auc': 0.6894107879054385, 'prauc': 0.8254922077679915}\n"
     ]
    },
    {
     "name": "stderr",
     "output_type": "stream",
     "text": [
      "Training Batches: 100%|██████████| 1/1 [00:02<00:00,  2.27s/it]\n",
      "Running inference: 100%|██████████| 1/1 [00:04<00:00,  4.62s/it]\n",
      "Running inference: 100%|██████████| 1/1 [00:03<00:00,  3.61s/it]\n"
     ]
    },
    {
     "name": "stdout",
     "output_type": "stream",
     "text": [
      "Epoch: 016, Average Loss: 0.5739\n",
      "Validation: {'precision': 0.768507228705131, 'recall': 0.815150115472688, 'f1': 0.7911417890593054, 'auc': 0.675015594970849, 'prauc': 0.8138864817736666}\n",
      "Test:       {'precision': 0.7777873736930841, 'recall': 0.8144329896899851, 'f1': 0.795688469623141, 'auc': 0.6890022968566869, 'prauc': 0.8254770827443039}\n"
     ]
    },
    {
     "name": "stderr",
     "output_type": "stream",
     "text": [
      "Training Batches: 100%|██████████| 1/1 [00:02<00:00,  2.29s/it]\n",
      "Running inference: 100%|██████████| 1/1 [00:04<00:00,  4.04s/it]\n",
      "Running inference: 100%|██████████| 1/1 [00:04<00:00,  4.04s/it]\n"
     ]
    },
    {
     "name": "stdout",
     "output_type": "stream",
     "text": [
      "Epoch: 017, Average Loss: 0.5713\n",
      "Validation: {'precision': 0.7737536127160641, 'recall': 0.7914087759807931, 'f1': 0.7824816134864722, 'auc': 0.6745769876774497, 'prauc': 0.8138360889140361}\n",
      "Test:       {'precision': 0.7832255747119403, 'recall': 0.7887502260799523, 'f1': 0.78597818730358, 'auc': 0.6889226062709932, 'prauc': 0.8256228296206382}\n"
     ]
    },
    {
     "name": "stderr",
     "output_type": "stream",
     "text": [
      "Training Batches: 100%|██████████| 1/1 [00:02<00:00,  2.78s/it]\n",
      "Running inference: 100%|██████████| 1/1 [00:04<00:00,  4.04s/it]\n",
      "Running inference: 100%|██████████| 1/1 [00:04<00:00,  4.07s/it]\n"
     ]
    },
    {
     "name": "stdout",
     "output_type": "stream",
     "text": [
      "Epoch: 018, Average Loss: 0.5711\n",
      "Validation: {'precision': 0.776551724137217, 'recall': 0.7801385681286095, 'f1': 0.7783410088241941, 'auc': 0.6744085619922803, 'prauc': 0.8139260171151098}\n",
      "Test:       {'precision': 0.7859565496371931, 'recall': 0.7753662506775407, 'f1': 0.780625478679585, 'auc': 0.6891004881043419, 'prauc': 0.8258800325046383}\n"
     ]
    },
    {
     "name": "stderr",
     "output_type": "stream",
     "text": [
      "Training Batches: 100%|██████████| 1/1 [00:02<00:00,  2.29s/it]\n",
      "Running inference: 100%|██████████| 1/1 [00:04<00:00,  4.54s/it]\n",
      "Running inference: 100%|██████████| 1/1 [00:03<00:00,  3.60s/it]\n"
     ]
    },
    {
     "name": "stdout",
     "output_type": "stream",
     "text": [
      "Epoch: 019, Average Loss: 0.5707\n",
      "Validation: {'precision': 0.7768587445999661, 'recall': 0.7808775981517035, 'f1': 0.7788629821917971, 'auc': 0.6751599064907379, 'prauc': 0.8143057264147342}\n",
      "Test:       {'precision': 0.7864736070374023, 'recall': 0.7760897088074008, 'f1': 0.7812471502111618, 'auc': 0.6900247086398429, 'prauc': 0.8263989343606424}\n"
     ]
    },
    {
     "name": "stderr",
     "output_type": "stream",
     "text": [
      "Training Batches: 100%|██████████| 1/1 [00:02<00:00,  2.27s/it]\n",
      "Running inference: 100%|██████████| 1/1 [00:03<00:00,  4.00s/it]\n",
      "Running inference: 100%|██████████| 1/1 [00:05<00:00,  5.09s/it]\n"
     ]
    },
    {
     "name": "stdout",
     "output_type": "stream",
     "text": [
      "Epoch: 020, Average Loss: 0.5682\n",
      "Validation: {'precision': 0.7767255509007678, 'recall': 0.7879907621239833, 'f1': 0.7823175994384832, 'auc': 0.6764963702579176, 'prauc': 0.8149058976960472}\n",
      "Test:       {'precision': 0.7859791949337078, 'recall': 0.7857659612942794, 'f1': 0.7858725586496308, 'auc': 0.6914615966885816, 'prauc': 0.8270588583001768}\n"
     ]
    },
    {
     "name": "stderr",
     "output_type": "stream",
     "text": [
      "Training Batches: 100%|██████████| 1/1 [00:01<00:00,  1.35s/it]\n",
      "Running inference: 100%|██████████| 1/1 [00:04<00:00,  4.44s/it]\n",
      "Running inference: 100%|██████████| 1/1 [00:04<00:00,  4.47s/it]\n"
     ]
    },
    {
     "name": "stdout",
     "output_type": "stream",
     "text": [
      "Epoch: 021, Average Loss: 0.5672\n",
      "Validation: {'precision': 0.7755304740399317, 'recall': 0.7934411085443016, 'f1': 0.7843835566437709, 'auc': 0.6778375579385972, 'prauc': 0.8154359963063864}\n",
      "Test:       {'precision': 0.7861945315994744, 'recall': 0.7930909748591127, 'f1': 0.7896276904930142, 'auc': 0.6927779579288407, 'prauc': 0.827616419917322}\n",
      "\n",
      "Early stopping triggered after 21 epochs (no improvement for 10 epochs).\n",
      "\n",
      "Best validation performance:\n",
      "{'precision': 0.7104946524059421, 'recall': 0.981893764433273, 'f1': 0.8244328049010684, 'auc': 0.6678302802855344, 'prauc': 0.8112384605414458}\n",
      "Corresponding test performance:\n",
      "{'precision': 0.7154842119165573, 'recall': 0.9794718755643158, 'f1': 0.8269201356001199, 'auc': 0.6801184613141149, 'prauc': 0.8225923988916877}\n",
      "Corresponding test-long performance:\n",
      "{'precision': 0.8868816008869181, 'recall': 0.997499218502665, 'f1': 0.9389436466254721, 'auc': 0.5716013026686977, 'prauc': 0.9070919728981632}\n",
      "[INFO] Random seed set to 1181241943\n",
      "Training with seed: 1181241943\n"
     ]
    },
    {
     "name": "stderr",
     "output_type": "stream",
     "text": [
      "Training Batches: 100%|██████████| 1/1 [00:02<00:00,  2.24s/it]\n",
      "Running inference: 100%|██████████| 1/1 [00:04<00:00,  4.56s/it]\n",
      "Running inference: 100%|██████████| 1/1 [00:03<00:00,  3.67s/it]\n"
     ]
    },
    {
     "name": "stdout",
     "output_type": "stream",
     "text": [
      "Epoch: 001, Average Loss: 0.6957\n",
      "Validation: {'precision': 0.787182320441119, 'recall': 0.6581062355652119, 'f1': 0.7168804981838124, 'auc': 0.6573883824028166, 'prauc': 0.8035256528485921}\n",
      "Test:       {'precision': 0.7999778858903139, 'recall': 0.6542774461922098, 'f1': 0.7198288677984533, 'auc': 0.6696716617066659, 'prauc': 0.8141491339129285}\n"
     ]
    },
    {
     "name": "stderr",
     "output_type": "stream",
     "text": [
      "Training Batches: 100%|██████████| 1/1 [00:02<00:00,  2.25s/it]\n",
      "Running inference: 100%|██████████| 1/1 [00:04<00:00,  4.53s/it]\n",
      "Running inference: 100%|██████████| 1/1 [00:03<00:00,  3.66s/it]\n"
     ]
    },
    {
     "name": "stdout",
     "output_type": "stream",
     "text": [
      "Epoch: 002, Average Loss: 0.6788\n",
      "Validation: {'precision': 0.7807608582971071, 'recall': 0.6957967667430062, 'f1': 0.7358343052932887, 'auc': 0.6595568202005846, 'prauc': 0.8056618307917516}\n",
      "Test:       {'precision': 0.7939049586768657, 'recall': 0.6949719659968394, 'f1': 0.741151504327949, 'auc': 0.6728731581535676, 'prauc': 0.8175730647757055}\n"
     ]
    },
    {
     "name": "stderr",
     "output_type": "stream",
     "text": [
      "Training Batches: 100%|██████████| 1/1 [00:02<00:00,  2.22s/it]\n",
      "Running inference: 100%|██████████| 1/1 [00:03<00:00,  3.98s/it]\n",
      "Running inference: 100%|██████████| 1/1 [00:04<00:00,  4.49s/it]\n"
     ]
    },
    {
     "name": "stdout",
     "output_type": "stream",
     "text": [
      "Epoch: 003, Average Loss: 0.6616\n",
      "Validation: {'precision': 0.779293494858211, 'recall': 0.7071593533480764, 'f1': 0.7414761670374029, 'auc': 0.661126310179428, 'prauc': 0.8072222999748518}\n",
      "Test:       {'precision': 0.7931873479310693, 'recall': 0.7075420510031583, 'f1': 0.7479208438827905, 'auc': 0.6747653190534779, 'prauc': 0.8191030866201947}\n"
     ]
    },
    {
     "name": "stderr",
     "output_type": "stream",
     "text": [
      "Training Batches: 100%|██████████| 1/1 [00:02<00:00,  2.68s/it]\n",
      "Running inference: 100%|██████████| 1/1 [00:04<00:00,  4.05s/it]\n",
      "Running inference: 100%|██████████| 1/1 [00:04<00:00,  4.04s/it]\n"
     ]
    },
    {
     "name": "stdout",
     "output_type": "stream",
     "text": [
      "Epoch: 004, Average Loss: 0.6460\n",
      "Validation: {'precision': 0.7788635905694349, 'recall': 0.7141801385674695, 'f1': 0.7451207120825424, 'auc': 0.6623303630549588, 'prauc': 0.8081926565434578}\n",
      "Test:       {'precision': 0.7918837675342766, 'recall': 0.7146862000355265, 'f1': 0.751307153487554, 'auc': 0.6760810163706779, 'prauc': 0.8199114787755296}\n"
     ]
    },
    {
     "name": "stderr",
     "output_type": "stream",
     "text": [
      "Training Batches: 100%|██████████| 1/1 [00:02<00:00,  2.27s/it]\n",
      "Running inference: 100%|██████████| 1/1 [00:04<00:00,  4.09s/it]\n",
      "Running inference: 100%|██████████| 1/1 [00:04<00:00,  4.95s/it]\n"
     ]
    },
    {
     "name": "stdout",
     "output_type": "stream",
     "text": [
      "Epoch: 005, Average Loss: 0.6300\n",
      "Validation: {'precision': 0.7784175518705664, 'recall': 0.7243418013850121, 'f1': 0.750406732492597, 'auc': 0.6633704820006783, 'prauc': 0.8088414709828482}\n",
      "Test:       {'precision': 0.7905138339913137, 'recall': 0.7234581298600801, 'f1': 0.7555009866041467, 'auc': 0.6773181230344161, 'prauc': 0.8205246766921339}\n"
     ]
    },
    {
     "name": "stderr",
     "output_type": "stream",
     "text": [
      "Training Batches: 100%|██████████| 1/1 [00:01<00:00,  1.31s/it]\n",
      "Running inference: 100%|██████████| 1/1 [00:04<00:00,  4.44s/it]\n",
      "Running inference: 100%|██████████| 1/1 [00:04<00:00,  4.50s/it]\n"
     ]
    },
    {
     "name": "stdout",
     "output_type": "stream",
     "text": [
      "Epoch: 006, Average Loss: 0.6152\n",
      "Validation: {'precision': 0.7773875719434421, 'recall': 0.7361662817545161, 'f1': 0.7562155956862326, 'auc': 0.6642231988565708, 'prauc': 0.8093156578080941}\n",
      "Test:       {'precision': 0.7893152015533857, 'recall': 0.7348525954053763, 'f1': 0.7611108459399664, 'auc': 0.6783605813302378, 'prauc': 0.8210079589174372}\n"
     ]
    },
    {
     "name": "stderr",
     "output_type": "stream",
     "text": [
      "Training Batches: 100%|██████████| 1/1 [00:02<00:00,  2.27s/it]\n",
      "Running inference: 100%|██████████| 1/1 [00:04<00:00,  4.60s/it]\n",
      "Running inference: 100%|██████████| 1/1 [00:03<00:00,  3.61s/it]\n"
     ]
    },
    {
     "name": "stdout",
     "output_type": "stream",
     "text": [
      "Epoch: 007, Average Loss: 0.6020\n",
      "Validation: {'precision': 0.7754325917467432, 'recall': 0.7534411085443385, 'f1': 0.7642786812206247, 'auc': 0.6648187248663576, 'prauc': 0.8096135437764548}\n",
      "Test:       {'precision': 0.7875897242153498, 'recall': 0.754114668112901, 'f1': 0.7704887689090648, 'auc': 0.6791749969191989, 'prauc': 0.8212831921559136}\n"
     ]
    },
    {
     "name": "stderr",
     "output_type": "stream",
     "text": [
      "Training Batches: 100%|██████████| 1/1 [00:02<00:00,  2.22s/it]\n",
      "Running inference: 100%|██████████| 1/1 [00:04<00:00,  4.57s/it]\n",
      "Running inference: 100%|██████████| 1/1 [00:03<00:00,  3.61s/it]\n"
     ]
    },
    {
     "name": "stdout",
     "output_type": "stream",
     "text": [
      "Epoch: 008, Average Loss: 0.5918\n",
      "Validation: {'precision': 0.7688253684673793, 'recall': 0.7951039260962631, 'f1': 0.7817438642105109, 'auc': 0.6654456225068235, 'prauc': 0.8098995638105602}\n",
      "Test:       {'precision': 0.7803796345566965, 'recall': 0.795623078313623, 'f1': 0.7879276324706559, 'auc': 0.6801324928820511, 'prauc': 0.8216274569794035}\n"
     ]
    },
    {
     "name": "stderr",
     "output_type": "stream",
     "text": [
      "Training Batches: 100%|██████████| 1/1 [00:02<00:00,  2.29s/it]\n",
      "Running inference: 100%|██████████| 1/1 [00:03<00:00,  3.96s/it]\n",
      "Running inference: 100%|██████████| 1/1 [00:04<00:00,  4.07s/it]\n"
     ]
    },
    {
     "name": "stdout",
     "output_type": "stream",
     "text": [
      "Epoch: 009, Average Loss: 0.5851\n",
      "Validation: {'precision': 0.7465360726224346, 'recall': 0.8660508083132876, 'f1': 0.801864597515766, 'auc': 0.665946498651464, 'prauc': 0.8101172776206917}\n",
      "Test:       {'precision': 0.7593907828276835, 'recall': 0.8702296979554438, 'f1': 0.8110408715500489, 'auc': 0.6808716869793431, 'prauc': 0.821922172576708}\n"
     ]
    },
    {
     "name": "stderr",
     "output_type": "stream",
     "text": [
      "Training Batches: 100%|██████████| 1/1 [00:02<00:00,  2.70s/it]\n",
      "Running inference: 100%|██████████| 1/1 [00:04<00:00,  4.10s/it]\n",
      "Running inference: 100%|██████████| 1/1 [00:04<00:00,  4.20s/it]\n"
     ]
    },
    {
     "name": "stdout",
     "output_type": "stream",
     "text": [
      "Epoch: 010, Average Loss: 0.5823\n",
      "Validation: {'precision': 0.7269102508331687, 'recall': 0.9262817551954491, 'f1': 0.8145741044997353, 'auc': 0.6662167105411909, 'prauc': 0.8102777824626175}\n",
      "Test:       {'precision': 0.7359977080642199, 'recall': 0.9292819678052728, 'f1': 0.8214228567773328, 'auc': 0.6809362163369703, 'prauc': 0.8220011012880737}\n"
     ]
    },
    {
     "name": "stderr",
     "output_type": "stream",
     "text": [
      "Training Batches: 100%|██████████| 1/1 [00:01<00:00,  1.83s/it]\n",
      "Running inference: 100%|██████████| 1/1 [00:04<00:00,  4.05s/it]\n",
      "Running inference: 100%|██████████| 1/1 [00:05<00:00,  5.10s/it]\n"
     ]
    },
    {
     "name": "stdout",
     "output_type": "stream",
     "text": [
      "Epoch: 011, Average Loss: 0.5808\n",
      "Validation: {'precision': 0.7174168568065288, 'recall': 0.9585219399529251, 'f1': 0.8206263791585119, 'auc': 0.6667326466835706, 'prauc': 0.810614661933174}\n",
      "Test:       {'precision': 0.7260631001366762, 'recall': 0.9573159703373508, 'f1': 0.8258054401362293, 'auc': 0.6812615188173433, 'prauc': 0.8222419270755292}\n"
     ]
    },
    {
     "name": "stderr",
     "output_type": "stream",
     "text": [
      "Training Batches: 100%|██████████| 1/1 [00:01<00:00,  1.35s/it]\n",
      "Running inference: 100%|██████████| 1/1 [00:04<00:00,  4.50s/it]\n",
      "Running inference: 100%|██████████| 1/1 [00:04<00:00,  4.55s/it]\n"
     ]
    },
    {
     "name": "stdout",
     "output_type": "stream",
     "text": [
      "Epoch: 012, Average Loss: 0.5811\n",
      "Validation: {'precision': 0.7179433805157382, 'recall': 0.9558429561192093, 'f1': 0.819986522817599, 'auc': 0.668330893990536, 'prauc': 0.8113802877407006}\n",
      "Test:       {'precision': 0.7265474552952361, 'recall': 0.9553264604802356, 'f1': 0.8253769776686345, 'auc': 0.6831584262716613, 'prauc': 0.8230166422097278}\n"
     ]
    },
    {
     "name": "stderr",
     "output_type": "stream",
     "text": [
      "Training Batches: 100%|██████████| 1/1 [00:02<00:00,  2.28s/it]\n",
      "Running inference: 100%|██████████| 1/1 [00:04<00:00,  4.55s/it]\n",
      "Running inference: 100%|██████████| 1/1 [00:03<00:00,  3.56s/it]\n"
     ]
    },
    {
     "name": "stdout",
     "output_type": "stream",
     "text": [
      "Epoch: 013, Average Loss: 0.5777\n",
      "Validation: {'precision': 0.7231787137160478, 'recall': 0.9390300230938207, 'f1': 0.8170893403672086, 'auc': 0.6699610075259613, 'prauc': 0.8121989683904073}\n",
      "Test:       {'precision': 0.7338175151595446, 'recall': 0.9411285946817316, 'f1': 0.8246434182138201, 'auc': 0.6850114553482808, 'prauc': 0.8237769259336808}\n"
     ]
    },
    {
     "name": "stderr",
     "output_type": "stream",
     "text": [
      "Training Batches: 100%|██████████| 1/1 [00:02<00:00,  2.25s/it]\n",
      "Running inference: 100%|██████████| 1/1 [00:04<00:00,  4.63s/it]\n",
      "Running inference: 100%|██████████| 1/1 [00:03<00:00,  3.70s/it]\n"
     ]
    },
    {
     "name": "stdout",
     "output_type": "stream",
     "text": [
      "Epoch: 014, Average Loss: 0.5767\n",
      "Validation: {'precision': 0.7366843958343421, 'recall': 0.9084526558883063, 'f1': 0.8136013849768916, 'auc': 0.6714697427284033, 'prauc': 0.8127745296177183}\n",
      "Test:       {'precision': 0.749220489977172, 'recall': 0.912642430818491, 'f1': 0.8228962768480709, 'auc': 0.6863992130906443, 'prauc': 0.824225901147462}\n"
     ]
    },
    {
     "name": "stderr",
     "output_type": "stream",
     "text": [
      "Training Batches: 100%|██████████| 1/1 [00:02<00:00,  2.26s/it]\n",
      "Running inference: 100%|██████████| 1/1 [00:03<00:00,  3.99s/it]\n",
      "Running inference: 100%|██████████| 1/1 [00:04<00:00,  4.05s/it]\n"
     ]
    },
    {
     "name": "stdout",
     "output_type": "stream",
     "text": [
      "Epoch: 015, Average Loss: 0.5744\n",
      "Validation: {'precision': 0.7472159489130541, 'recall': 0.8863741339483728, 'f1': 0.8108679068077602, 'auc': 0.6723373177053893, 'prauc': 0.8130415607801917}\n",
      "Test:       {'precision': 0.7598202525755328, 'recall': 0.8868692349422256, 'f1': 0.8184435585592289, 'auc': 0.686744968364958, 'prauc': 0.8243308182323985}\n"
     ]
    },
    {
     "name": "stderr",
     "output_type": "stream",
     "text": [
      "Training Batches: 100%|██████████| 1/1 [00:02<00:00,  2.68s/it]\n",
      "Running inference: 100%|██████████| 1/1 [00:04<00:00,  4.01s/it]\n",
      "Running inference: 100%|██████████| 1/1 [00:04<00:00,  4.03s/it]\n"
     ]
    },
    {
     "name": "stdout",
     "output_type": "stream",
     "text": [
      "Epoch: 016, Average Loss: 0.5732\n",
      "Validation: {'precision': 0.7570063178351231, 'recall': 0.8633718244795718, 'f1': 0.8066980227278959, 'auc': 0.6727454618130139, 'prauc': 0.8133397437127801}\n",
      "Test:       {'precision': 0.7700097213214759, 'recall': 0.8595586905400076, 'f1': 0.8123237280286769, 'auc': 0.6869955646372303, 'prauc': 0.8244805048291751}\n"
     ]
    },
    {
     "name": "stderr",
     "output_type": "stream",
     "text": [
      "Training Batches: 100%|██████████| 1/1 [00:02<00:00,  2.29s/it]\n",
      "Running inference: 100%|██████████| 1/1 [00:04<00:00,  4.54s/it]\n",
      "Running inference: 100%|██████████| 1/1 [00:03<00:00,  3.56s/it]\n"
     ]
    },
    {
     "name": "stdout",
     "output_type": "stream",
     "text": [
      "Epoch: 017, Average Loss: 0.5721\n",
      "Validation: {'precision': 0.766825288918451, 'recall': 0.8336258660500382, 'f1': 0.7988314914892145, 'auc': 0.673079476816486, 'prauc': 0.8135946800626839}\n",
      "Test:       {'precision': 0.7769771975919496, 'recall': 0.8289021522871867, 'f1': 0.8021001918979844, 'auc': 0.6872110324431651, 'prauc': 0.8247251561798177}\n"
     ]
    },
    {
     "name": "stderr",
     "output_type": "stream",
     "text": [
      "Training Batches: 100%|██████████| 1/1 [00:02<00:00,  2.27s/it]\n",
      "Running inference: 100%|██████████| 1/1 [00:04<00:00,  4.02s/it]\n",
      "Running inference: 100%|██████████| 1/1 [00:04<00:00,  4.95s/it]\n"
     ]
    },
    {
     "name": "stdout",
     "output_type": "stream",
     "text": [
      "Epoch: 018, Average Loss: 0.5701\n",
      "Validation: {'precision': 0.7704519823017519, 'recall': 0.8204157043872328, 'f1': 0.7946492433936267, 'auc': 0.6735684220513898, 'prauc': 0.8139358649341673}\n",
      "Test:       {'precision': 0.7800901838356051, 'recall': 0.81352866702766, 'f1': 0.7964586050059229, 'auc': 0.6877719483351328, 'prauc': 0.8251170646432613}\n"
     ]
    },
    {
     "name": "stderr",
     "output_type": "stream",
     "text": [
      "Training Batches: 100%|██████████| 1/1 [00:01<00:00,  1.33s/it]\n",
      "Running inference: 100%|██████████| 1/1 [00:04<00:00,  4.41s/it]\n",
      "Running inference: 100%|██████████| 1/1 [00:04<00:00,  4.52s/it]\n"
     ]
    },
    {
     "name": "stdout",
     "output_type": "stream",
     "text": [
      "Epoch: 019, Average Loss: 0.5692\n",
      "Validation: {'precision': 0.7696289905083954, 'recall': 0.8240184757498161, 'f1': 0.7958956006263496, 'auc': 0.674476493483422, 'prauc': 0.8143145353757537}\n",
      "Test:       {'precision': 0.7793406972723684, 'recall': 0.8166937963457979, 'f1': 0.7975801416062911, 'auc': 0.6886416181774919, 'prauc': 0.8255048910515421}\n"
     ]
    },
    {
     "name": "stderr",
     "output_type": "stream",
     "text": [
      "Training Batches: 100%|██████████| 1/1 [00:02<00:00,  2.26s/it]\n",
      "Running inference: 100%|██████████| 1/1 [00:04<00:00,  4.49s/it]\n",
      "Running inference: 100%|██████████| 1/1 [00:03<00:00,  3.67s/it]\n"
     ]
    },
    {
     "name": "stdout",
     "output_type": "stream",
     "text": [
      "Epoch: 020, Average Loss: 0.5689\n",
      "Validation: {'precision': 0.7716631726058947, 'recall': 0.8160739030015556, 'f1': 0.7932474246265103, 'auc': 0.675190682585313, 'prauc': 0.814479298575961}\n",
      "Test:       {'precision': 0.7804537521808198, 'recall': 0.8088261891835694, 'f1': 0.7943867078528287, 'auc': 0.6892565595697334, 'prauc': 0.8256351156149445}\n"
     ]
    },
    {
     "name": "stderr",
     "output_type": "stream",
     "text": [
      "Training Batches: 100%|██████████| 1/1 [00:02<00:00,  2.23s/it]\n",
      "Running inference: 100%|██████████| 1/1 [00:04<00:00,  4.60s/it]\n",
      "Running inference: 100%|██████████| 1/1 [00:03<00:00,  3.68s/it]\n"
     ]
    },
    {
     "name": "stdout",
     "output_type": "stream",
     "text": [
      "Epoch: 021, Average Loss: 0.5668\n",
      "Validation: {'precision': 0.7730884690086763, 'recall': 0.808868360276389, 'f1': 0.7905737839955688, 'auc': 0.6757223852936902, 'prauc': 0.8145699171263121}\n",
      "Test:       {'precision': 0.7820127343466731, 'recall': 0.7996925302940859, 'f1': 0.790753817766617, 'auc': 0.6897265873676964, 'prauc': 0.8257547730630131}\n",
      "\n",
      "Early stopping triggered after 21 epochs (no improvement for 10 epochs).\n",
      "\n",
      "Best validation performance:\n",
      "{'precision': 0.7174168568065288, 'recall': 0.9585219399529251, 'f1': 0.8206263791585119, 'auc': 0.6667326466835706, 'prauc': 0.810614661933174}\n",
      "Corresponding test performance:\n",
      "{'precision': 0.7260631001366762, 'recall': 0.9573159703373508, 'f1': 0.8258054401362293, 'auc': 0.6812615188173433, 'prauc': 0.8222419270755292}\n",
      "Corresponding test-long performance:\n",
      "{'precision': 0.8867924528277281, 'recall': 0.9990622069365457, 'f1': 0.9395854720104017, 'auc': 0.5675864477820468, 'prauc': 0.9054483652590517}\n",
      "[INFO] Random seed set to 958682846\n",
      "Training with seed: 958682846\n"
     ]
    },
    {
     "name": "stderr",
     "output_type": "stream",
     "text": [
      "Training Batches: 100%|██████████| 1/1 [00:02<00:00,  2.26s/it]\n",
      "Running inference: 100%|██████████| 1/1 [00:03<00:00,  3.96s/it]\n",
      "Running inference: 100%|██████████| 1/1 [00:04<00:00,  4.14s/it]\n"
     ]
    },
    {
     "name": "stdout",
     "output_type": "stream",
     "text": [
      "Epoch: 001, Average Loss: 0.6899\n",
      "Validation: {'precision': 0.7807751937976426, 'recall': 0.6978290993065147, 'f1': 0.7369756047711133, 'auc': 0.6603319558616902, 'prauc': 0.8076290472456851}\n",
      "Test:       {'precision': 0.7919689383868478, 'recall': 0.700940495568185, 'f1': 0.7436795344757791, 'auc': 0.6738813302735002, 'prauc': 0.8191915343379381}\n"
     ]
    },
    {
     "name": "stderr",
     "output_type": "stream",
     "text": [
      "Training Batches: 100%|██████████| 1/1 [00:02<00:00,  2.72s/it]\n",
      "Running inference: 100%|██████████| 1/1 [00:04<00:00,  4.07s/it]\n",
      "Running inference: 100%|██████████| 1/1 [00:04<00:00,  4.13s/it]\n"
     ]
    },
    {
     "name": "stdout",
     "output_type": "stream",
     "text": [
      "Epoch: 002, Average Loss: 0.6696\n",
      "Validation: {'precision': 0.783319274566867, 'recall': 0.6862817551956708, 'f1': 0.7315968240131517, 'auc': 0.661324007978165, 'prauc': 0.8077440126636672}\n",
      "Test:       {'precision': 0.7943661971822698, 'recall': 0.6885512750943311, 'f1': 0.7376834712636623, 'auc': 0.6740552979335901, 'prauc': 0.8189859987547754}\n"
     ]
    },
    {
     "name": "stderr",
     "output_type": "stream",
     "text": [
      "Training Batches: 100%|██████████| 1/1 [00:02<00:00,  2.29s/it]\n",
      "Running inference: 100%|██████████| 1/1 [00:03<00:00,  3.99s/it]\n",
      "Running inference: 100%|██████████| 1/1 [00:04<00:00,  4.65s/it]\n"
     ]
    },
    {
     "name": "stdout",
     "output_type": "stream",
     "text": [
      "Epoch: 003, Average Loss: 0.6526\n",
      "Validation: {'precision': 0.7835407298956566, 'recall': 0.6921939953804228, 'f1': 0.7350402147555367, 'auc': 0.6619782699979004, 'prauc': 0.8078940601705896}\n",
      "Test:       {'precision': 0.7947684036385496, 'recall': 0.6951528305293044, 'f1': 0.7416304822382299, 'auc': 0.6744920998506986, 'prauc': 0.8190454030260694}\n"
     ]
    },
    {
     "name": "stderr",
     "output_type": "stream",
     "text": [
      "Training Batches: 100%|██████████| 1/1 [00:01<00:00,  1.81s/it]\n",
      "Running inference: 100%|██████████| 1/1 [00:04<00:00,  4.06s/it]\n",
      "Running inference: 100%|██████████| 1/1 [00:04<00:00,  4.07s/it]\n"
     ]
    },
    {
     "name": "stdout",
     "output_type": "stream",
     "text": [
      "Epoch: 004, Average Loss: 0.6359\n",
      "Validation: {'precision': 0.7832441333874194, 'recall': 0.7030023094681727, 'f1': 0.7409571051837569, 'auc': 0.662898211776676, 'prauc': 0.8082245991425431}\n",
      "Test:       {'precision': 0.7938028743239284, 'recall': 0.7042864894187879, 'f1': 0.7463702092104384, 'auc': 0.6753475597577326, 'prauc': 0.8193357007705552}\n"
     ]
    },
    {
     "name": "stderr",
     "output_type": "stream",
     "text": [
      "Training Batches: 100%|██████████| 1/1 [00:02<00:00,  2.24s/it]\n",
      "Running inference: 100%|██████████| 1/1 [00:05<00:00,  5.00s/it]\n",
      "Running inference: 100%|██████████| 1/1 [00:03<00:00,  3.57s/it]\n"
     ]
    },
    {
     "name": "stdout",
     "output_type": "stream",
     "text": [
      "Epoch: 005, Average Loss: 0.6206\n",
      "Validation: {'precision': 0.7825647249183023, 'recall': 0.7148267898376768, 'f1': 0.7471636120616034, 'auc': 0.6639319615142363, 'prauc': 0.8087127241281756}\n",
      "Test:       {'precision': 0.7926756053624248, 'recall': 0.7164044130939442, 'f1': 0.7526125733894087, 'auc': 0.6764915487351036, 'prauc': 0.8197929685841799}\n"
     ]
    },
    {
     "name": "stderr",
     "output_type": "stream",
     "text": [
      "Training Batches: 100%|██████████| 1/1 [00:02<00:00,  2.25s/it]\n",
      "Running inference: 100%|██████████| 1/1 [00:03<00:00,  3.97s/it]\n",
      "Running inference: 100%|██████████| 1/1 [00:04<00:00,  4.06s/it]\n"
     ]
    },
    {
     "name": "stdout",
     "output_type": "stream",
     "text": [
      "Epoch: 006, Average Loss: 0.6073\n",
      "Validation: {'precision': 0.779887071650331, 'recall': 0.7400461893757597, 'f1': 0.7594444657805511, 'auc': 0.6648870197354608, 'prauc': 0.8091305522377902}\n",
      "Test:       {'precision': 0.7875697517791153, 'recall': 0.7402785313793269, 'f1': 0.7631922381515709, 'auc': 0.6774039970229294, 'prauc': 0.8201175161766785}\n"
     ]
    },
    {
     "name": "stderr",
     "output_type": "stream",
     "text": [
      "Training Batches: 100%|██████████| 1/1 [00:02<00:00,  2.69s/it]\n",
      "Running inference: 100%|██████████| 1/1 [00:04<00:00,  4.10s/it]\n",
      "Running inference: 100%|██████████| 1/1 [00:04<00:00,  4.11s/it]\n"
     ]
    },
    {
     "name": "stdout",
     "output_type": "stream",
     "text": [
      "Epoch: 007, Average Loss: 0.5964\n",
      "Validation: {'precision': 0.7677281241630829, 'recall': 0.7951039260962631, 'f1': 0.7811762520347697, 'auc': 0.6654372244383793, 'prauc': 0.8093673792579361}\n",
      "Test:       {'precision': 0.7774261603368693, 'recall': 0.7997829625603184, 'f1': 0.788446103585485, 'auc': 0.6777818881551648, 'prauc': 0.8202995396970646}\n"
     ]
    },
    {
     "name": "stderr",
     "output_type": "stream",
     "text": [
      "Training Batches: 100%|██████████| 1/1 [00:02<00:00,  2.30s/it]\n",
      "Running inference: 100%|██████████| 1/1 [00:04<00:00,  4.54s/it]\n",
      "Running inference: 100%|██████████| 1/1 [00:03<00:00,  3.63s/it]\n"
     ]
    },
    {
     "name": "stdout",
     "output_type": "stream",
     "text": [
      "Epoch: 008, Average Loss: 0.5887\n",
      "Validation: {'precision': 0.7430180708748001, 'recall': 0.877413394918358, 'f1': 0.8046424891035187, 'auc': 0.6648356522230656, 'prauc': 0.8092699468182392}\n",
      "Test:       {'precision': 0.7513480203352708, 'recall': 0.8820763248319026, 'f1': 0.8114808602559772, 'auc': 0.677111593416531, 'prauc': 0.8201889674464751}\n"
     ]
    },
    {
     "name": "stderr",
     "output_type": "stream",
     "text": [
      "Training Batches: 100%|██████████| 1/1 [00:02<00:00,  2.27s/it]\n",
      "Running inference: 100%|██████████| 1/1 [00:03<00:00,  3.98s/it]\n",
      "Running inference: 100%|██████████| 1/1 [00:05<00:00,  5.06s/it]\n"
     ]
    },
    {
     "name": "stdout",
     "output_type": "stream",
     "text": [
      "Epoch: 009, Average Loss: 0.5840\n",
      "Validation: {'precision': 0.7265347539314876, 'recall': 0.9260046189367889, 'f1': 0.8142311704438061, 'auc': 0.6632200334307724, 'prauc': 0.8089100154421066}\n",
      "Test:       {'precision': 0.7337061733700913, 'recall': 0.9253933803572748, 'f1': 0.8184762998051414, 'auc': 0.6753398602321067, 'prauc': 0.8198327507428361}\n"
     ]
    },
    {
     "name": "stderr",
     "output_type": "stream",
     "text": [
      "Training Batches: 100%|██████████| 1/1 [00:01<00:00,  1.34s/it]\n",
      "Running inference: 100%|██████████| 1/1 [00:04<00:00,  4.49s/it]\n",
      "Running inference: 100%|██████████| 1/1 [00:04<00:00,  4.62s/it]\n"
     ]
    },
    {
     "name": "stdout",
     "output_type": "stream",
     "text": [
      "Epoch: 010, Average Loss: 0.5826\n",
      "Validation: {'precision': 0.7206194314801861, 'recall': 0.9414318706688762, 'f1': 0.8163575871090671, 'auc': 0.662640728209435, 'prauc': 0.8089148770645616}\n",
      "Test:       {'precision': 0.7273301073001421, 'recall': 0.9378730330973613, 'f1': 0.8192913803145015, 'auc': 0.6744576551260192, 'prauc': 0.8197393568688153}\n"
     ]
    },
    {
     "name": "stderr",
     "output_type": "stream",
     "text": [
      "Training Batches: 100%|██████████| 1/1 [00:02<00:00,  2.28s/it]\n",
      "Running inference: 100%|██████████| 1/1 [00:04<00:00,  4.61s/it]\n",
      "Running inference: 100%|██████████| 1/1 [00:03<00:00,  3.67s/it]\n"
     ]
    },
    {
     "name": "stdout",
     "output_type": "stream",
     "text": [
      "Epoch: 011, Average Loss: 0.5826\n",
      "Validation: {'precision': 0.7207429903236664, 'recall': 0.9427251732092907, 'f1': 0.816922825699976, 'auc': 0.6633024394773817, 'prauc': 0.8092678845358905}\n",
      "Test:       {'precision': 0.7280437372953472, 'recall': 0.9393199493570814, 'f1': 0.8202961451289911, 'auc': 0.675106099859498, 'prauc': 0.8200257148987067}\n"
     ]
    },
    {
     "name": "stderr",
     "output_type": "stream",
     "text": [
      "Training Batches: 100%|██████████| 1/1 [00:02<00:00,  2.27s/it]\n",
      "Running inference: 100%|██████████| 1/1 [00:04<00:00,  4.63s/it]\n",
      "Running inference: 100%|██████████| 1/1 [00:03<00:00,  3.58s/it]\n"
     ]
    },
    {
     "name": "stdout",
     "output_type": "stream",
     "text": [
      "Epoch: 012, Average Loss: 0.5815\n",
      "Validation: {'precision': 0.7293166789120283, 'recall': 0.9169515011538872, 'f1': 0.8124411655165077, 'auc': 0.6657149966084723, 'prauc': 0.8101919824685544}\n",
      "Test:       {'precision': 0.7400058360076305, 'recall': 0.9173449086625814, 'f1': 0.8191875909541867, 'auc': 0.6781098066905766, 'prauc': 0.8209478284432972}\n"
     ]
    },
    {
     "name": "stderr",
     "output_type": "stream",
     "text": [
      "Training Batches: 100%|██████████| 1/1 [00:02<00:00,  2.25s/it]\n",
      "Running inference: 100%|██████████| 1/1 [00:03<00:00,  3.97s/it]\n",
      "Running inference: 100%|██████████| 1/1 [00:04<00:00,  4.03s/it]\n"
     ]
    },
    {
     "name": "stdout",
     "output_type": "stream",
     "text": [
      "Epoch: 013, Average Loss: 0.5795\n",
      "Validation: {'precision': 0.7462178217815871, 'recall': 0.8703002309460782, 'f1': 0.8034967967345313, 'auc': 0.6680244553368111, 'prauc': 0.8110219955709302}\n",
      "Test:       {'precision': 0.7567102277167566, 'recall': 0.8744800144683718, 'f1': 0.8113437043847819, 'auc': 0.6811262073341737, 'prauc': 0.821807403437899}\n"
     ]
    },
    {
     "name": "stderr",
     "output_type": "stream",
     "text": [
      "Training Batches: 100%|██████████| 1/1 [00:02<00:00,  2.66s/it]\n",
      "Running inference: 100%|██████████| 1/1 [00:03<00:00,  3.96s/it]\n",
      "Running inference: 100%|██████████| 1/1 [00:04<00:00,  4.14s/it]\n"
     ]
    },
    {
     "name": "stdout",
     "output_type": "stream",
     "text": [
      "Epoch: 014, Average Loss: 0.5784\n",
      "Validation: {'precision': 0.7552527905443571, 'recall': 0.8500692840638798, 'f1': 0.7998609190030137, 'auc': 0.669646281835947, 'prauc': 0.8114307819646072}\n",
      "Test:       {'precision': 0.7648869804741433, 'recall': 0.8537710255011269, 'f1': 0.8068885895188955, 'auc': 0.6829788994946139, 'prauc': 0.8222914141445025}\n"
     ]
    },
    {
     "name": "stderr",
     "output_type": "stream",
     "text": [
      "Training Batches: 100%|██████████| 1/1 [00:01<00:00,  1.82s/it]\n",
      "Running inference: 100%|██████████| 1/1 [00:04<00:00,  4.00s/it]\n",
      "Running inference: 100%|██████████| 1/1 [00:04<00:00,  4.97s/it]\n"
     ]
    },
    {
     "name": "stdout",
     "output_type": "stream",
     "text": [
      "Epoch: 015, Average Loss: 0.5755\n",
      "Validation: {'precision': 0.7632903831378417, 'recall': 0.8263279445719849, 'f1': 0.7935592568950226, 'auc': 0.6704326519323632, 'prauc': 0.8116791581575287}\n",
      "Test:       {'precision': 0.775112316690027, 'recall': 0.8269126424300715, 'f1': 0.8001750114123155, 'auc': 0.6838721633788206, 'prauc': 0.8225163023222465}\n"
     ]
    },
    {
     "name": "stderr",
     "output_type": "stream",
     "text": [
      "Training Batches: 100%|██████████| 1/1 [00:01<00:00,  1.34s/it]\n",
      "Running inference: 100%|██████████| 1/1 [00:04<00:00,  4.45s/it]\n",
      "Running inference: 100%|██████████| 1/1 [00:04<00:00,  4.51s/it]\n"
     ]
    },
    {
     "name": "stdout",
     "output_type": "stream",
     "text": [
      "Epoch: 016, Average Loss: 0.5748\n",
      "Validation: {'precision': 0.7662663095128607, 'recall': 0.8192147805997051, 'f1': 0.7918564107562758, 'auc': 0.6710933840985804, 'prauc': 0.8118370228272201}\n",
      "Test:       {'precision': 0.7775675210727871, 'recall': 0.8175076867418904, 'f1': 0.7970375545157456, 'auc': 0.6840566547148624, 'prauc': 0.822505818355015}\n"
     ]
    },
    {
     "name": "stderr",
     "output_type": "stream",
     "text": [
      "Training Batches: 100%|██████████| 1/1 [00:02<00:00,  2.28s/it]\n",
      "Running inference: 100%|██████████| 1/1 [00:04<00:00,  4.51s/it]\n",
      "Running inference: 100%|██████████| 1/1 [00:03<00:00,  3.62s/it]\n"
     ]
    },
    {
     "name": "stdout",
     "output_type": "stream",
     "text": [
      "Epoch: 017, Average Loss: 0.5728\n",
      "Validation: {'precision': 0.7726377952748992, 'recall': 0.7976905311770921, 'f1': 0.7849643148042044, 'auc': 0.6714406220223195, 'prauc': 0.8120169962830941}\n",
      "Test:       {'precision': 0.7826280623601045, 'recall': 0.7944474588526004, 'f1': 0.7884934653581425, 'auc': 0.6842802679648959, 'prauc': 0.8225773324160905}\n"
     ]
    },
    {
     "name": "stderr",
     "output_type": "stream",
     "text": [
      "Training Batches: 100%|██████████| 1/1 [00:02<00:00,  2.30s/it]\n",
      "Running inference: 100%|██████████| 1/1 [00:04<00:00,  4.59s/it]\n",
      "Running inference: 100%|██████████| 1/1 [00:03<00:00,  3.56s/it]\n"
     ]
    },
    {
     "name": "stdout",
     "output_type": "stream",
     "text": [
      "Epoch: 018, Average Loss: 0.5704\n",
      "Validation: {'precision': 0.7734382063097609, 'recall': 0.7903002309461521, 'f1': 0.7817783007661102, 'auc': 0.6720237427122531, 'prauc': 0.8123002820812628}\n",
      "Test:       {'precision': 0.783662073312813, 'recall': 0.7868511484890696, 'f1': 0.7852533680420447, 'auc': 0.6846655217065779, 'prauc': 0.8227635967105151}\n"
     ]
    },
    {
     "name": "stderr",
     "output_type": "stream",
     "text": [
      "Training Batches: 100%|██████████| 1/1 [00:02<00:00,  2.30s/it]\n",
      "Running inference: 100%|██████████| 1/1 [00:04<00:00,  4.03s/it]\n",
      "Running inference: 100%|██████████| 1/1 [00:03<00:00,  3.98s/it]\n"
     ]
    },
    {
     "name": "stdout",
     "output_type": "stream",
     "text": [
      "Epoch: 019, Average Loss: 0.5703\n",
      "Validation: {'precision': 0.7729144289287746, 'recall': 0.7976905311770921, 'f1': 0.7851070550541741, 'auc': 0.6729085276732505, 'prauc': 0.8127513417643668}\n",
      "Test:       {'precision': 0.7828765288806508, 'recall': 0.7930005425928802, 'f1': 0.7879060105437726, 'auc': 0.6853888807434448, 'prauc': 0.823057226303695}\n"
     ]
    },
    {
     "name": "stderr",
     "output_type": "stream",
     "text": [
      "Training Batches: 100%|██████████| 1/1 [00:02<00:00,  2.75s/it]\n",
      "Running inference: 100%|██████████| 1/1 [00:04<00:00,  4.09s/it]\n",
      "Running inference: 100%|██████████| 1/1 [00:04<00:00,  4.11s/it]\n"
     ]
    },
    {
     "name": "stdout",
     "output_type": "stream",
     "text": [
      "Epoch: 020, Average Loss: 0.5690\n",
      "Validation: {'precision': 0.7724796856855322, 'recall': 0.7991685912232801, 'f1': 0.7855975249680368, 'auc': 0.6739058487701675, 'prauc': 0.813312715927379}\n",
      "Test:       {'precision': 0.7828296335911715, 'recall': 0.7940857297876703, 'f1': 0.7884175034170553, 'auc': 0.6865914138616116, 'prauc': 0.8235795513323445}\n"
     ]
    },
    {
     "name": "stderr",
     "output_type": "stream",
     "text": [
      "Training Batches: 100%|██████████| 1/1 [00:02<00:00,  2.35s/it]\n",
      "Running inference: 100%|██████████| 1/1 [00:04<00:00,  4.67s/it]\n",
      "Running inference: 100%|██████████| 1/1 [00:03<00:00,  3.61s/it]\n"
     ]
    },
    {
     "name": "stdout",
     "output_type": "stream",
     "text": [
      "Epoch: 021, Average Loss: 0.5682\n",
      "Validation: {'precision': 0.7664333276414833, 'recall': 0.8293764434172476, 'f1': 0.7966635559458889, 'auc': 0.675004804664158, 'prauc': 0.8140426016024835}\n",
      "Test:       {'precision': 0.7776923733873279, 'recall': 0.8234762163132361, 'f1': 0.7999297178478533, 'auc': 0.6877964243046258, 'prauc': 0.8241353339532103}\n",
      "\n",
      "Early stopping triggered after 21 epochs (no improvement for 10 epochs).\n",
      "\n",
      "Best validation performance:\n",
      "{'precision': 0.7207429903236664, 'recall': 0.9427251732092907, 'f1': 0.816922825699976, 'auc': 0.6633024394773817, 'prauc': 0.8092678845358905}\n",
      "Corresponding test performance:\n",
      "{'precision': 0.7280437372953472, 'recall': 0.9393199493570814, 'f1': 0.8202961451289911, 'auc': 0.675106099859498, 'prauc': 0.8200257148987067}\n",
      "Corresponding test-long performance:\n",
      "{'precision': 0.8875871687562411, 'recall': 0.9946858393216796, 'f1': 0.9380896176549313, 'auc': 0.5694291691092342, 'prauc': 0.906312044345029}\n",
      "[INFO] Random seed set to 3163119785\n",
      "Training with seed: 3163119785\n"
     ]
    },
    {
     "name": "stderr",
     "output_type": "stream",
     "text": [
      "Training Batches: 100%|██████████| 1/1 [00:02<00:00,  2.30s/it]\n",
      "Running inference: 100%|██████████| 1/1 [00:04<00:00,  4.64s/it]\n",
      "Running inference: 100%|██████████| 1/1 [00:03<00:00,  3.63s/it]\n"
     ]
    },
    {
     "name": "stdout",
     "output_type": "stream",
     "text": [
      "Epoch: 001, Average Loss: 0.6984\n",
      "Validation: {'precision': 0.7976146105096314, 'recall': 0.5930715935329394, 'f1': 0.6803009382037656, 'auc': 0.659292836205365, 'prauc': 0.8045302838422596}\n",
      "Test:       {'precision': 0.8095768374154794, 'recall': 0.5916983179593129, 'f1': 0.6836990546812935, 'auc': 0.6715157922324331, 'prauc': 0.8162905866179357}\n"
     ]
    },
    {
     "name": "stderr",
     "output_type": "stream",
     "text": [
      "Training Batches: 100%|██████████| 1/1 [00:02<00:00,  2.32s/it]\n",
      "Running inference: 100%|██████████| 1/1 [00:04<00:00,  4.14s/it]\n",
      "Running inference: 100%|██████████| 1/1 [00:04<00:00,  4.04s/it]\n"
     ]
    },
    {
     "name": "stdout",
     "output_type": "stream",
     "text": [
      "Epoch: 002, Average Loss: 0.6772\n",
      "Validation: {'precision': 0.7920221351155268, 'recall': 0.6346420323319771, 'f1': 0.7046515156509219, 'auc': 0.6605270393578707, 'prauc': 0.8058242715047641}\n",
      "Test:       {'precision': 0.8030285648723149, 'recall': 0.63302586362757, 'f1': 0.7079645968392667, 'auc': 0.6725941816478428, 'prauc': 0.8172814762940828}\n"
     ]
    },
    {
     "name": "stderr",
     "output_type": "stream",
     "text": [
      "Training Batches: 100%|██████████| 1/1 [00:02<00:00,  2.36s/it]\n",
      "Running inference: 100%|██████████| 1/1 [00:04<00:00,  4.38s/it]\n",
      "Running inference: 100%|██████████| 1/1 [00:05<00:00,  5.03s/it]\n"
     ]
    },
    {
     "name": "stdout",
     "output_type": "stream",
     "text": [
      "Epoch: 003, Average Loss: 0.6594\n",
      "Validation: {'precision': 0.7898615453318558, 'recall': 0.6534872979208743, 'f1': 0.7152317831233838, 'auc': 0.662071738884672, 'prauc': 0.8069803162844486}\n",
      "Test:       {'precision': 0.8010865949652942, 'recall': 0.6533731235298847, 'f1': 0.7197290382345968, 'auc': 0.6743280414899987, 'prauc': 0.818345717206237}\n"
     ]
    },
    {
     "name": "stderr",
     "output_type": "stream",
     "text": [
      "Training Batches: 100%|██████████| 1/1 [00:01<00:00,  1.30s/it]\n",
      "Running inference: 100%|██████████| 1/1 [00:04<00:00,  4.50s/it]\n",
      "Running inference: 100%|██████████| 1/1 [00:04<00:00,  4.10s/it]\n"
     ]
    },
    {
     "name": "stdout",
     "output_type": "stream",
     "text": [
      "Epoch: 004, Average Loss: 0.6424\n",
      "Validation: {'precision': 0.7885448245985398, 'recall': 0.6727944572742052, 'f1': 0.7260854344404462, 'auc': 0.6635199413750221, 'prauc': 0.8078705821547617}\n",
      "Test:       {'precision': 0.7989662969734047, 'recall': 0.6710074154452242, 'f1': 0.7294175423460912, 'auc': 0.6759892265304288, 'prauc': 0.8191809108103796}\n"
     ]
    },
    {
     "name": "stderr",
     "output_type": "stream",
     "text": [
      "Training Batches: 100%|██████████| 1/1 [00:01<00:00,  1.79s/it]\n",
      "Running inference: 100%|██████████| 1/1 [00:04<00:00,  4.49s/it]\n",
      "Running inference: 100%|██████████| 1/1 [00:04<00:00,  4.11s/it]\n"
     ]
    },
    {
     "name": "stdout",
     "output_type": "stream",
     "text": [
      "Epoch: 005, Average Loss: 0.6257\n",
      "Validation: {'precision': 0.7873197625097674, 'recall': 0.6860046189370106, 'f1': 0.7331786493152636, 'auc': 0.6647301514882347, 'prauc': 0.808579605116942}\n",
      "Test:       {'precision': 0.7988221684711337, 'recall': 0.6869234943021459, 'f1': 0.7386590118993309, 'auc': 0.6774570811397613, 'prauc': 0.8198270441041509}\n"
     ]
    },
    {
     "name": "stderr",
     "output_type": "stream",
     "text": [
      "Training Batches: 100%|██████████| 1/1 [00:01<00:00,  1.30s/it]\n",
      "Running inference: 100%|██████████| 1/1 [00:04<00:00,  4.45s/it]\n",
      "Running inference: 100%|██████████| 1/1 [00:04<00:00,  4.11s/it]\n"
     ]
    },
    {
     "name": "stdout",
     "output_type": "stream",
     "text": [
      "Epoch: 006, Average Loss: 0.6107\n",
      "Validation: {'precision': 0.7848831222317115, 'recall': 0.7041108545028137, 'f1': 0.7423061890147695, 'auc': 0.6658018035659491, 'prauc': 0.8091358145218057}\n",
      "Test:       {'precision': 0.7972199509394958, 'recall': 0.705371676613578, 'f1': 0.7484886237484122, 'auc': 0.6786939004338172, 'prauc': 0.8203416782794175}\n"
     ]
    },
    {
     "name": "stderr",
     "output_type": "stream",
     "text": [
      "Training Batches: 100%|██████████| 1/1 [00:01<00:00,  1.82s/it]\n",
      "Running inference: 100%|██████████| 1/1 [00:04<00:00,  4.45s/it]\n",
      "Running inference: 100%|██████████| 1/1 [00:04<00:00,  4.19s/it]\n"
     ]
    },
    {
     "name": "stdout",
     "output_type": "stream",
     "text": [
      "Epoch: 007, Average Loss: 0.5991\n",
      "Validation: {'precision': 0.7786463298371986, 'recall': 0.7545496535789796, 'f1': 0.7664086274190006, 'auc': 0.6666072913806748, 'prauc': 0.8095544007826566}\n",
      "Test:       {'precision': 0.7873911397190577, 'recall': 0.7522155905220183, 'f1': 0.7694015304750275, 'auc': 0.6797243288401795, 'prauc': 0.8207960428485805}\n"
     ]
    },
    {
     "name": "stderr",
     "output_type": "stream",
     "text": [
      "Training Batches: 100%|██████████| 1/1 [00:01<00:00,  1.34s/it]\n",
      "Running inference: 100%|██████████| 1/1 [00:04<00:00,  4.60s/it]\n",
      "Running inference: 100%|██████████| 1/1 [00:04<00:00,  4.09s/it]\n"
     ]
    },
    {
     "name": "stdout",
     "output_type": "stream",
     "text": [
      "Epoch: 008, Average Loss: 0.5895\n",
      "Validation: {'precision': 0.7554552294952299, 'recall': 0.8347344110846792, 'f1': 0.7931185765969153, 'auc': 0.6667105310970785, 'prauc': 0.8097224899869911}\n",
      "Test:       {'precision': 0.766900536524336, 'recall': 0.8402061855662505, 'f1': 0.8018814950312878, 'auc': 0.679933613243295, 'prauc': 0.820963288949743}\n"
     ]
    },
    {
     "name": "stderr",
     "output_type": "stream",
     "text": [
      "Training Batches: 100%|██████████| 1/1 [00:01<00:00,  1.79s/it]\n",
      "Running inference: 100%|██████████| 1/1 [00:04<00:00,  4.49s/it]\n",
      "Running inference: 100%|██████████| 1/1 [00:04<00:00,  4.12s/it]\n"
     ]
    },
    {
     "name": "stdout",
     "output_type": "stream",
     "text": [
      "Epoch: 009, Average Loss: 0.5842\n",
      "Validation: {'precision': 0.7389016018301, 'recall': 0.8948729792139538, 'f1': 0.8094422344432639, 'auc': 0.6662690975306449, 'prauc': 0.809778155824467}\n",
      "Test:       {'precision': 0.7464989141011409, 'recall': 0.9014288298056597, 'f1': 0.8166809995087251, 'auc': 0.6794322225127629, 'prauc': 0.8209934577566013}\n"
     ]
    },
    {
     "name": "stderr",
     "output_type": "stream",
     "text": [
      "Training Batches: 100%|██████████| 1/1 [00:01<00:00,  1.85s/it]\n",
      "Running inference: 100%|██████████| 1/1 [00:04<00:00,  4.16s/it]\n",
      "Running inference: 100%|██████████| 1/1 [00:04<00:00,  4.18s/it]\n"
     ]
    },
    {
     "name": "stdout",
     "output_type": "stream",
     "text": [
      "Epoch: 010, Average Loss: 0.5820\n",
      "Validation: {'precision': 0.7263892887987861, 'recall': 0.9321939953802011, 'f1': 0.8165230358984306, 'auc': 0.6657991287003989, 'prauc': 0.8098140270537357}\n",
      "Test:       {'precision': 0.7341179807141703, 'recall': 0.9363356845714086, 'f1': 0.8229870390277887, 'auc': 0.6787525337583074, 'prauc': 0.8209737698823867}\n"
     ]
    },
    {
     "name": "stderr",
     "output_type": "stream",
     "text": [
      "Training Batches: 100%|██████████| 1/1 [00:01<00:00,  1.80s/it]\n",
      "Running inference: 100%|██████████| 1/1 [00:04<00:00,  4.47s/it]\n",
      "Running inference: 100%|██████████| 1/1 [00:04<00:00,  4.57s/it]\n"
     ]
    },
    {
     "name": "stdout",
     "output_type": "stream",
     "text": [
      "Epoch: 011, Average Loss: 0.5820\n",
      "Validation: {'precision': 0.7242141278774508, 'recall': 0.9385681293293869, 'f1': 0.8175746309559361, 'auc': 0.6668898682149259, 'prauc': 0.81032654295819}\n",
      "Test:       {'precision': 0.732793807177528, 'recall': 0.9416711882791267, 'f1': 0.8242045225427206, 'auc': 0.6798449943788508, 'prauc': 0.8214527185850364}\n"
     ]
    },
    {
     "name": "stderr",
     "output_type": "stream",
     "text": [
      "Training Batches: 100%|██████████| 1/1 [00:01<00:00,  1.33s/it]\n",
      "Running inference: 100%|██████████| 1/1 [00:04<00:00,  4.54s/it]\n",
      "Running inference: 100%|██████████| 1/1 [00:04<00:00,  4.58s/it]\n"
     ]
    },
    {
     "name": "stdout",
     "output_type": "stream",
     "text": [
      "Epoch: 012, Average Loss: 0.5812\n",
      "Validation: {'precision': 0.7292693534352498, 'recall': 0.9294226327935986, 'f1': 0.8172698053966612, 'auc': 0.6690166790484342, 'prauc': 0.8111282251075045}\n",
      "Test:       {'precision': 0.7373397321103521, 'recall': 0.930909748597458, 'f1': 0.8228945951705801, 'auc': 0.6819781197120263, 'prauc': 0.8222219106980123}\n"
     ]
    },
    {
     "name": "stderr",
     "output_type": "stream",
     "text": [
      "Training Batches: 100%|██████████| 1/1 [00:01<00:00,  1.83s/it]\n",
      "Running inference: 100%|██████████| 1/1 [00:04<00:00,  4.02s/it]\n",
      "Running inference: 100%|██████████| 1/1 [00:04<00:00,  4.14s/it]\n"
     ]
    },
    {
     "name": "stdout",
     "output_type": "stream",
     "text": [
      "Epoch: 013, Average Loss: 0.5792\n",
      "Validation: {'precision': 0.7406003638563216, 'recall': 0.9025404157035541, 'f1': 0.813590368533336, 'auc': 0.6712295902711607, 'prauc': 0.8119223462044292}\n",
      "Test:       {'precision': 0.7512242899112851, 'recall': 0.9017001266043573, 'f1': 0.8196128346281217, 'auc': 0.684324612079666, 'prauc': 0.8229790473406036}\n"
     ]
    },
    {
     "name": "stderr",
     "output_type": "stream",
     "text": [
      "Training Batches: 100%|██████████| 1/1 [00:02<00:00,  2.83s/it]\n",
      "Running inference: 100%|██████████| 1/1 [00:04<00:00,  4.17s/it]\n",
      "Running inference: 100%|██████████| 1/1 [00:04<00:00,  4.21s/it]\n"
     ]
    },
    {
     "name": "stdout",
     "output_type": "stream",
     "text": [
      "Epoch: 014, Average Loss: 0.5763\n",
      "Validation: {'precision': 0.7478599221784062, 'recall': 0.887759815241674, 'f1': 0.8118268165776046, 'auc': 0.6728446236211825, 'prauc': 0.8125419263482612}\n",
      "Test:       {'precision': 0.7593839486102009, 'recall': 0.8873213962733881, 'f1': 0.8183827466037926, 'auc': 0.6857424049084804, 'prauc': 0.8234892041190881}\n"
     ]
    },
    {
     "name": "stderr",
     "output_type": "stream",
     "text": [
      "Training Batches: 100%|██████████| 1/1 [00:01<00:00,  1.87s/it]\n",
      "Running inference: 100%|██████████| 1/1 [00:04<00:00,  4.18s/it]\n",
      "Running inference: 100%|██████████| 1/1 [00:04<00:00,  4.20s/it]\n"
     ]
    },
    {
     "name": "stdout",
     "output_type": "stream",
     "text": [
      "Epoch: 015, Average Loss: 0.5739\n",
      "Validation: {'precision': 0.7599009900983829, 'recall': 0.8508083140869738, 'f1': 0.8027892737251858, 'auc': 0.6737264813708232, 'prauc': 0.8125697322281964}\n",
      "Test:       {'precision': 0.7712989690715287, 'recall': 0.8457225538064336, 'f1': 0.8067980798134153, 'auc': 0.6860501778382324, 'prauc': 0.8234211974830841}\n"
     ]
    },
    {
     "name": "stderr",
     "output_type": "stream",
     "text": [
      "Training Batches: 100%|██████████| 1/1 [00:01<00:00,  1.80s/it]\n",
      "Running inference: 100%|██████████| 1/1 [00:04<00:00,  4.50s/it]\n",
      "Running inference: 100%|██████████| 1/1 [00:04<00:00,  4.62s/it]\n"
     ]
    },
    {
     "name": "stdout",
     "output_type": "stream",
     "text": [
      "Epoch: 016, Average Loss: 0.5741\n",
      "Validation: {'precision': 0.7678494345154382, 'recall': 0.8216166281747606, 'f1': 0.7938236294212929, 'auc': 0.6735451456741872, 'prauc': 0.812097107677516}\n",
      "Test:       {'precision': 0.7778354978348243, 'recall': 0.8124434798328699, 'f1': 0.794762910783689, 'auc': 0.6852321453549941, 'prauc': 0.8229842252143478}\n"
     ]
    },
    {
     "name": "stderr",
     "output_type": "stream",
     "text": [
      "Training Batches: 100%|██████████| 1/1 [00:01<00:00,  1.32s/it]\n",
      "Running inference: 100%|██████████| 1/1 [00:04<00:00,  4.52s/it]\n",
      "Running inference: 100%|██████████| 1/1 [00:04<00:00,  4.55s/it]\n"
     ]
    },
    {
     "name": "stdout",
     "output_type": "stream",
     "text": [
      "Epoch: 017, Average Loss: 0.5754\n",
      "Validation: {'precision': 0.775847883718095, 'recall': 0.7840184757498531, 'f1': 0.7799117759220451, 'auc': 0.6733723796411442, 'prauc': 0.8121842333635235}\n",
      "Test:       {'precision': 0.7854592070316038, 'recall': 0.7757279797424708, 'f1': 0.7805632599341943, 'auc': 0.6851909523974302, 'prauc': 0.8232547174676892}\n"
     ]
    },
    {
     "name": "stderr",
     "output_type": "stream",
     "text": [
      "Training Batches: 100%|██████████| 1/1 [00:01<00:00,  1.36s/it]\n",
      "Running inference: 100%|██████████| 1/1 [00:04<00:00,  4.48s/it]\n",
      "Running inference: 100%|██████████| 1/1 [00:04<00:00,  4.68s/it]\n"
     ]
    },
    {
     "name": "stdout",
     "output_type": "stream",
     "text": [
      "Epoch: 018, Average Loss: 0.5703\n",
      "Validation: {'precision': 0.7786468149257645, 'recall': 0.7633256351032209, 'f1': 0.7709101036903561, 'auc': 0.6736773647830229, 'prauc': 0.8126379302861129}\n",
      "Test:       {'precision': 0.7894736842097803, 'recall': 0.7555615843726211, 'f1': 0.772145459629023, 'auc': 0.6857679015358106, 'prauc': 0.8238452563004974}\n"
     ]
    },
    {
     "name": "stderr",
     "output_type": "stream",
     "text": [
      "Training Batches: 100%|██████████| 1/1 [00:01<00:00,  1.81s/it]\n",
      "Running inference: 100%|██████████| 1/1 [00:04<00:00,  4.04s/it]\n",
      "Running inference: 100%|██████████| 1/1 [00:04<00:00,  4.09s/it]\n"
     ]
    },
    {
     "name": "stdout",
     "output_type": "stream",
     "text": [
      "Epoch: 019, Average Loss: 0.5700\n",
      "Validation: {'precision': 0.7804621848732043, 'recall': 0.7550115473434134, 'f1': 0.7675259376216794, 'auc': 0.6742693680453495, 'prauc': 0.8131340036296768}\n",
      "Test:       {'precision': 0.790751003247859, 'recall': 0.7484174353402527, 'f1': 0.7690020392327649, 'auc': 0.686706341915936, 'prauc': 0.8245402492322357}\n"
     ]
    },
    {
     "name": "stderr",
     "output_type": "stream",
     "text": [
      "Training Batches: 100%|██████████| 1/1 [00:02<00:00,  2.73s/it]\n",
      "Running inference: 100%|██████████| 1/1 [00:04<00:00,  4.04s/it]\n",
      "Running inference: 100%|██████████| 1/1 [00:04<00:00,  4.16s/it]\n"
     ]
    },
    {
     "name": "stdout",
     "output_type": "stream",
     "text": [
      "Epoch: 020, Average Loss: 0.5706\n",
      "Validation: {'precision': 0.7794257463388672, 'recall': 0.7573210161655821, 'f1': 0.7682143978490238, 'auc': 0.6751724329365785, 'prauc': 0.8134393771690653}\n",
      "Test:       {'precision': 0.7907906003227182, 'recall': 0.7516729969246232, 'f1': 0.7707357732026958, 'auc': 0.6875422210473756, 'prauc': 0.8248988605480143}\n"
     ]
    },
    {
     "name": "stderr",
     "output_type": "stream",
     "text": [
      "Training Batches: 100%|██████████| 1/1 [00:01<00:00,  1.84s/it]\n",
      "Running inference: 100%|██████████| 1/1 [00:04<00:00,  4.18s/it]\n",
      "Running inference: 100%|██████████| 1/1 [00:04<00:00,  4.15s/it]\n"
     ]
    },
    {
     "name": "stdout",
     "output_type": "stream",
     "text": [
      "Epoch: 021, Average Loss: 0.5704\n",
      "Validation: {'precision': 0.7750550660785838, 'recall': 0.7801385681286095, 'f1': 0.7775885038156903, 'auc': 0.6765428523554966, 'prauc': 0.8136153438597229}\n",
      "Test:       {'precision': 0.7871733529621023, 'recall': 0.773648037619123, 'f1': 0.7803520884047535, 'auc': 0.6885031357185176, 'prauc': 0.8251423224988144}\n",
      "\n",
      "Early stopping triggered after 21 epochs (no improvement for 10 epochs).\n",
      "\n",
      "Best validation performance:\n",
      "{'precision': 0.7242141278774508, 'recall': 0.9385681293293869, 'f1': 0.8175746309559361, 'auc': 0.6668898682149259, 'prauc': 0.81032654295819}\n",
      "Corresponding test performance:\n",
      "{'precision': 0.732793807177528, 'recall': 0.9416711882791267, 'f1': 0.8242045225427206, 'auc': 0.6798449943788508, 'prauc': 0.8214527185850364}\n",
      "Corresponding test-long performance:\n",
      "{'precision': 0.8873435326818154, 'recall': 0.9971866208158888, 'f1': 0.9390638749082466, 'auc': 0.5675849191870014, 'prauc': 0.9057878919287827}\n",
      "[INFO] Random seed set to 1812140441\n",
      "Training with seed: 1812140441\n"
     ]
    },
    {
     "name": "stderr",
     "output_type": "stream",
     "text": [
      "Training Batches: 100%|██████████| 1/1 [00:01<00:00,  1.83s/it]\n",
      "Running inference: 100%|██████████| 1/1 [00:04<00:00,  4.61s/it]\n",
      "Running inference: 100%|██████████| 1/1 [00:04<00:00,  4.68s/it]\n"
     ]
    },
    {
     "name": "stdout",
     "output_type": "stream",
     "text": [
      "Epoch: 001, Average Loss: 0.6912\n",
      "Validation: {'precision': 0.7834690301960389, 'recall': 0.7022632794450787, 'f1': 0.7406469162924695, 'auc': 0.6620896453431095, 'prauc': 0.8075047690352792}\n",
      "Test:       {'precision': 0.7949110974853925, 'recall': 0.7034725990226953, 'f1': 0.7464018372746686, 'auc': 0.6757852138745888, 'prauc': 0.8199427927253936}\n"
     ]
    },
    {
     "name": "stderr",
     "output_type": "stream",
     "text": [
      "Training Batches: 100%|██████████| 1/1 [00:01<00:00,  1.87s/it]\n",
      "Running inference: 100%|██████████| 1/1 [00:04<00:00,  4.03s/it]\n",
      "Running inference: 100%|██████████| 1/1 [00:04<00:00,  4.04s/it]\n"
     ]
    },
    {
     "name": "stdout",
     "output_type": "stream",
     "text": [
      "Epoch: 002, Average Loss: 0.6708\n",
      "Validation: {'precision': 0.782502791027319, 'recall': 0.7122401847568478, 'f1': 0.7457200839937874, 'auc': 0.6630786188407435, 'prauc': 0.8082184371982508}\n",
      "Test:       {'precision': 0.7928090790390752, 'recall': 0.7138723096394339, 'f1': 0.751272895322312, 'auc': 0.6769499132876847, 'prauc': 0.8205197605434045}\n"
     ]
    },
    {
     "name": "stderr",
     "output_type": "stream",
     "text": [
      "Training Batches: 100%|██████████| 1/1 [00:02<00:00,  2.71s/it]\n",
      "Running inference: 100%|██████████| 1/1 [00:04<00:00,  4.05s/it]\n",
      "Running inference: 100%|██████████| 1/1 [00:04<00:00,  4.16s/it]\n"
     ]
    },
    {
     "name": "stdout",
     "output_type": "stream",
     "text": [
      "Epoch: 003, Average Loss: 0.6537\n",
      "Validation: {'precision': 0.7813569559082127, 'recall': 0.7170438799069588, 'f1': 0.7478202175625636, 'auc': 0.6636948372066733, 'prauc': 0.8087279546181166}\n",
      "Test:       {'precision': 0.7928143712566937, 'recall': 0.7183939229510594, 'f1': 0.7537717001067706, 'auc': 0.6776831717146421, 'prauc': 0.8209406019122676}\n"
     ]
    },
    {
     "name": "stderr",
     "output_type": "stream",
     "text": [
      "Training Batches: 100%|██████████| 1/1 [00:01<00:00,  1.80s/it]\n",
      "Running inference: 100%|██████████| 1/1 [00:04<00:00,  4.02s/it]\n",
      "Running inference: 100%|██████████| 1/1 [00:04<00:00,  4.11s/it]\n"
     ]
    },
    {
     "name": "stdout",
     "output_type": "stream",
     "text": [
      "Epoch: 004, Average Loss: 0.6378\n",
      "Validation: {'precision': 0.7807289066392603, 'recall': 0.7223094688215036, 'f1': 0.7503838721661423, 'auc': 0.6641782611153281, 'prauc': 0.8089771085056634}\n",
      "Test:       {'precision': 0.7922193625016904, 'recall': 0.7237294266587776, 'f1': 0.7564272161815138, 'auc': 0.6780893935338332, 'prauc': 0.8211120630803144}\n"
     ]
    },
    {
     "name": "stderr",
     "output_type": "stream",
     "text": [
      "Training Batches: 100%|██████████| 1/1 [00:01<00:00,  1.83s/it]\n",
      "Running inference: 100%|██████████| 1/1 [00:04<00:00,  4.55s/it]\n",
      "Running inference: 100%|██████████| 1/1 [00:04<00:00,  4.56s/it]\n"
     ]
    },
    {
     "name": "stdout",
     "output_type": "stream",
     "text": [
      "Epoch: 005, Average Loss: 0.6235\n",
      "Validation: {'precision': 0.7797975827839443, 'recall': 0.7331177829092534, 'f1': 0.755737543808916, 'auc': 0.6647317866890614, 'prauc': 0.8090800970616575}\n",
      "Test:       {'precision': 0.7896477913983365, 'recall': 0.7339482727430512, 'f1': 0.7607798975181552, 'auc': 0.6784856565071375, 'prauc': 0.8212329729705985}\n"
     ]
    },
    {
     "name": "stderr",
     "output_type": "stream",
     "text": [
      "Training Batches: 100%|██████████| 1/1 [00:01<00:00,  1.34s/it]\n",
      "Running inference: 100%|██████████| 1/1 [00:04<00:00,  4.48s/it]\n",
      "Running inference: 100%|██████████| 1/1 [00:04<00:00,  4.61s/it]\n"
     ]
    },
    {
     "name": "stdout",
     "output_type": "stream",
     "text": [
      "Epoch: 006, Average Loss: 0.6096\n",
      "Validation: {'precision': 0.7759375594890767, 'recall': 0.7530715935327915, 'f1': 0.7643335939877908, 'auc': 0.6651533656874304, 'prauc': 0.8091793583723389}\n",
      "Test:       {'precision': 0.7849280270949431, 'recall': 0.754476397177831, 'f1': 0.7694010186559711, 'auc': 0.6787036412751175, 'prauc': 0.8212415976388933}\n"
     ]
    },
    {
     "name": "stderr",
     "output_type": "stream",
     "text": [
      "Training Batches: 100%|██████████| 1/1 [00:01<00:00,  1.32s/it]\n",
      "Running inference: 100%|██████████| 1/1 [00:04<00:00,  4.52s/it]\n",
      "Running inference: 100%|██████████| 1/1 [00:04<00:00,  4.61s/it]\n"
     ]
    },
    {
     "name": "stdout",
     "output_type": "stream",
     "text": [
      "Epoch: 007, Average Loss: 0.5976\n",
      "Validation: {'precision': 0.7616887648283656, 'recall': 0.8066512702071069, 'f1': 0.7835255008583125, 'auc': 0.6652800836576818, 'prauc': 0.8091843187268168}\n",
      "Test:       {'precision': 0.7733298898064968, 'recall': 0.8123530475666374, 'f1': 0.7923612898775169, 'auc': 0.6784716546670996, 'prauc': 0.8210513687653433}\n"
     ]
    },
    {
     "name": "stderr",
     "output_type": "stream",
     "text": [
      "Training Batches: 100%|██████████| 1/1 [00:01<00:00,  1.83s/it]\n",
      "Running inference: 100%|██████████| 1/1 [00:04<00:00,  4.00s/it]\n",
      "Running inference: 100%|██████████| 1/1 [00:04<00:00,  4.12s/it]\n"
     ]
    },
    {
     "name": "stdout",
     "output_type": "stream",
     "text": [
      "Epoch: 008, Average Loss: 0.5892\n",
      "Validation: {'precision': 0.7383063283393929, 'recall': 0.8923787528860115, 'f1': 0.8080639040322066, 'auc': 0.6648470986288537, 'prauc': 0.8090633571198619}\n",
      "Test:       {'precision': 0.7456760415094407, 'recall': 0.8967263519615691, 'f1': 0.8142552093625295, 'auc': 0.6776224475279805, 'prauc': 0.820791873192124}\n"
     ]
    },
    {
     "name": "stderr",
     "output_type": "stream",
     "text": [
      "Training Batches: 100%|██████████| 1/1 [00:02<00:00,  2.74s/it]\n",
      "Running inference: 100%|██████████| 1/1 [00:04<00:00,  4.14s/it]\n",
      "Running inference: 100%|██████████| 1/1 [00:04<00:00,  4.15s/it]\n"
     ]
    },
    {
     "name": "stdout",
     "output_type": "stream",
     "text": [
      "Epoch: 009, Average Loss: 0.5842\n",
      "Validation: {'precision': 0.7173883066735263, 'recall': 0.9612009237866409, 'f1': 0.8215878982988044, 'auc': 0.6627768031621958, 'prauc': 0.8085216579456806}\n",
      "Test:       {'precision': 0.7230863275142816, 'recall': 0.9627419063113015, 'f1': 0.8258795187806347, 'auc': 0.6748255081379725, 'prauc': 0.8200350156622607}\n"
     ]
    },
    {
     "name": "stderr",
     "output_type": "stream",
     "text": [
      "Training Batches: 100%|██████████| 1/1 [00:01<00:00,  1.82s/it]\n",
      "Running inference: 100%|██████████| 1/1 [00:04<00:00,  4.10s/it]\n",
      "Running inference: 100%|██████████| 1/1 [00:04<00:00,  4.19s/it]\n"
     ]
    },
    {
     "name": "stdout",
     "output_type": "stream",
     "text": [
      "Epoch: 010, Average Loss: 0.5817\n",
      "Validation: {'precision': 0.7100500834719798, 'recall': 0.9822632794448201, 'f1': 0.8242635610202019, 'auc': 0.6603101430901661, 'prauc': 0.8080202195583208}\n",
      "Test:       {'precision': 0.7151615029659095, 'recall': 0.981099656356501, 'f1': 0.8272838139418495, 'auc': 0.6717727205470156, 'prauc': 0.8192872439092186}\n"
     ]
    },
    {
     "name": "stderr",
     "output_type": "stream",
     "text": [
      "Training Batches: 100%|██████████| 1/1 [00:01<00:00,  1.80s/it]\n",
      "Running inference: 100%|██████████| 1/1 [00:04<00:00,  4.43s/it]\n",
      "Running inference: 100%|██████████| 1/1 [00:04<00:00,  4.59s/it]\n"
     ]
    },
    {
     "name": "stdout",
     "output_type": "stream",
     "text": [
      "Epoch: 011, Average Loss: 0.5814\n",
      "Validation: {'precision': 0.7076810825147866, 'recall': 0.985588914548743, 'f1': 0.8238291909179954, 'auc': 0.6598512371000823, 'prauc': 0.8081328615974864}\n",
      "Test:       {'precision': 0.7130525765101274, 'recall': 0.986073430999289, 'f1': 0.8276280786199283, 'auc': 0.6711345418477046, 'prauc': 0.819287709052812}\n"
     ]
    },
    {
     "name": "stderr",
     "output_type": "stream",
     "text": [
      "Training Batches: 100%|██████████| 1/1 [00:01<00:00,  1.31s/it]\n",
      "Running inference: 100%|██████████| 1/1 [00:04<00:00,  4.50s/it]\n",
      "Running inference: 100%|██████████| 1/1 [00:04<00:00,  4.69s/it]\n"
     ]
    },
    {
     "name": "stdout",
     "output_type": "stream",
     "text": [
      "Epoch: 012, Average Loss: 0.5805\n",
      "Validation: {'precision': 0.7081784386612399, 'recall': 0.9854965357958563, 'f1': 0.8241337971342629, 'auc': 0.6613406123322405, 'prauc': 0.8088659186743166}\n",
      "Test:       {'precision': 0.7129314853551824, 'recall': 0.9861638632655215, 'f1': 0.8275783513554308, 'auc': 0.6723736898271172, 'prauc': 0.8198365633883644}\n"
     ]
    },
    {
     "name": "stderr",
     "output_type": "stream",
     "text": [
      "Training Batches: 100%|██████████| 1/1 [00:01<00:00,  1.34s/it]\n",
      "Running inference: 100%|██████████| 1/1 [00:04<00:00,  4.56s/it]\n",
      "Running inference: 100%|██████████| 1/1 [00:04<00:00,  4.56s/it]\n"
     ]
    },
    {
     "name": "stdout",
     "output_type": "stream",
     "text": [
      "Epoch: 013, Average Loss: 0.5788\n",
      "Validation: {'precision': 0.7106653293208219, 'recall': 0.9818013856803862, 'f1': 0.8245151231338897, 'auc': 0.6647378328945881, 'prauc': 0.8099856451121576}\n",
      "Test:       {'precision': 0.7155576073331692, 'recall': 0.9811900886227335, 'f1': 0.8275809416914579, 'auc': 0.6758839600430095, 'prauc': 0.8209072260462}\n"
     ]
    },
    {
     "name": "stderr",
     "output_type": "stream",
     "text": [
      "Training Batches: 100%|██████████| 1/1 [00:01<00:00,  1.83s/it]\n",
      "Running inference: 100%|██████████| 1/1 [00:03<00:00,  3.97s/it]\n",
      "Running inference: 100%|██████████| 1/1 [00:04<00:00,  4.07s/it]\n"
     ]
    },
    {
     "name": "stdout",
     "output_type": "stream",
     "text": [
      "Epoch: 014, Average Loss: 0.5782\n",
      "Validation: {'precision': 0.7273053462499265, 'recall': 0.9362586605072182, 'f1': 0.8186591227034247, 'auc': 0.669656537169528, 'prauc': 0.811674520534957}\n",
      "Test:       {'precision': 0.7370908830475277, 'recall': 0.930728884064993, 'f1': 0.8226689531419582, 'auc': 0.6819922999194532, 'prauc': 0.8227758650759169}\n"
     ]
    },
    {
     "name": "stderr",
     "output_type": "stream",
     "text": [
      "Training Batches: 100%|██████████| 1/1 [00:02<00:00,  2.77s/it]\n",
      "Running inference: 100%|██████████| 1/1 [00:03<00:00,  3.99s/it]\n",
      "Running inference: 100%|██████████| 1/1 [00:04<00:00,  4.10s/it]\n"
     ]
    },
    {
     "name": "stdout",
     "output_type": "stream",
     "text": [
      "Epoch: 015, Average Loss: 0.5756\n",
      "Validation: {'precision': 0.7615661340242937, 'recall': 0.8409237875280915, 'f1': 0.7992800020358818, 'auc': 0.6717160726109918, 'prauc': 0.8123979790708444}\n",
      "Test:       {'precision': 0.7694225176561948, 'recall': 0.8374027853130426, 'f1': 0.8019746193532945, 'auc': 0.6846170949604593, 'prauc': 0.8235829277689674}\n"
     ]
    },
    {
     "name": "stderr",
     "output_type": "stream",
     "text": [
      "Training Batches: 100%|██████████| 1/1 [00:01<00:00,  1.78s/it]\n",
      "Running inference: 100%|██████████| 1/1 [00:03<00:00,  3.98s/it]\n",
      "Running inference: 100%|██████████| 1/1 [00:04<00:00,  4.06s/it]\n"
     ]
    },
    {
     "name": "stdout",
     "output_type": "stream",
     "text": [
      "Epoch: 016, Average Loss: 0.5774\n",
      "Validation: {'precision': 0.7688609144149235, 'recall': 0.8124711316389722, 'f1': 0.7900646734076925, 'auc': 0.6725801652158465, 'prauc': 0.8126695461996476}\n",
      "Test:       {'precision': 0.7770623042109492, 'recall': 0.8075601374563143, 'f1': 0.7920177333603513, 'auc': 0.6852372387348805, 'prauc': 0.823707784168977}\n"
     ]
    },
    {
     "name": "stderr",
     "output_type": "stream",
     "text": [
      "Training Batches: 100%|██████████| 1/1 [00:01<00:00,  1.78s/it]\n",
      "Running inference: 100%|██████████| 1/1 [00:04<00:00,  4.48s/it]\n",
      "Running inference: 100%|██████████| 1/1 [00:04<00:00,  4.63s/it]\n"
     ]
    },
    {
     "name": "stdout",
     "output_type": "stream",
     "text": [
      "Epoch: 017, Average Loss: 0.5718\n",
      "Validation: {'precision': 0.7703239473909698, 'recall': 0.8061893764426732, 'f1': 0.7878486904970468, 'auc': 0.6731545446470388, 'prauc': 0.812738055925575}\n",
      "Test:       {'precision': 0.778169014083822, 'recall': 0.7994212334953884, 'f1': 0.7886519710908453, 'auc': 0.6853339733155251, 'prauc': 0.8236890516135922}\n"
     ]
    },
    {
     "name": "stderr",
     "output_type": "stream",
     "text": [
      "Training Batches: 100%|██████████| 1/1 [00:01<00:00,  1.35s/it]\n",
      "Running inference: 100%|██████████| 1/1 [00:04<00:00,  4.58s/it]\n",
      "Running inference: 100%|██████████| 1/1 [00:04<00:00,  4.59s/it]\n"
     ]
    },
    {
     "name": "stdout",
     "output_type": "stream",
     "text": [
      "Epoch: 018, Average Loss: 0.5713\n",
      "Validation: {'precision': 0.7700855454618837, 'recall': 0.8066512702071069, 'f1': 0.7879444093676161, 'auc': 0.6736647474926921, 'prauc': 0.8128326382688796}\n",
      "Test:       {'precision': 0.7787563854141458, 'recall': 0.7996020980278534, 'f1': 0.7890415798654188, 'auc': 0.6854580377438872, 'prauc': 0.8237727714225522}\n"
     ]
    },
    {
     "name": "stderr",
     "output_type": "stream",
     "text": [
      "Training Batches: 100%|██████████| 1/1 [00:01<00:00,  1.34s/it]\n",
      "Running inference: 100%|██████████| 1/1 [00:04<00:00,  4.47s/it]\n",
      "Running inference: 100%|██████████| 1/1 [00:04<00:00,  4.61s/it]\n"
     ]
    },
    {
     "name": "stdout",
     "output_type": "stream",
     "text": [
      "Epoch: 019, Average Loss: 0.5709\n",
      "Validation: {'precision': 0.7715048975950387, 'recall': 0.8003695150108079, 'f1': 0.7856721781793912, 'auc': 0.6742828231237585, 'prauc': 0.8132734718291963}\n",
      "Test:       {'precision': 0.7806290653116095, 'recall': 0.7922770844630201, 'f1': 0.7864099406932086, 'auc': 0.6861451386542863, 'prauc': 0.8242425827923069}\n"
     ]
    },
    {
     "name": "stderr",
     "output_type": "stream",
     "text": [
      "Training Batches: 100%|██████████| 1/1 [00:01<00:00,  1.82s/it]\n",
      "Running inference: 100%|██████████| 1/1 [00:04<00:00,  4.06s/it]\n",
      "Running inference: 100%|██████████| 1/1 [00:04<00:00,  4.15s/it]\n"
     ]
    },
    {
     "name": "stdout",
     "output_type": "stream",
     "text": [
      "Epoch: 020, Average Loss: 0.5695\n",
      "Validation: {'precision': 0.7737404856825174, 'recall': 0.7888221708999641, 'f1': 0.7812085398970569, 'auc': 0.674944070075421, 'prauc': 0.8136938346105986}\n",
      "Test:       {'precision': 0.782541696881089, 'recall': 0.7807017543852588, 'f1': 0.7816206378241067, 'auc': 0.6869361484780883, 'prauc': 0.8246698795664479}\n"
     ]
    },
    {
     "name": "stderr",
     "output_type": "stream",
     "text": [
      "Training Batches: 100%|██████████| 1/1 [00:02<00:00,  2.73s/it]\n",
      "Running inference: 100%|██████████| 1/1 [00:04<00:00,  4.12s/it]\n",
      "Running inference: 100%|██████████| 1/1 [00:04<00:00,  4.03s/it]\n"
     ]
    },
    {
     "name": "stdout",
     "output_type": "stream",
     "text": [
      "Epoch: 021, Average Loss: 0.5684\n",
      "Validation: {'precision': 0.7727517985604561, 'recall': 0.7938106235558486, 'f1': 0.7831396623503835, 'auc': 0.6759990269545697, 'prauc': 0.8142920998398224}\n",
      "Test:       {'precision': 0.7811432680201499, 'recall': 0.7859468258267445, 'f1': 0.7835376798172273, 'auc': 0.6881947285936044, 'prauc': 0.8252812433334693}\n"
     ]
    },
    {
     "name": "stderr",
     "output_type": "stream",
     "text": [
      "Training Batches: 100%|██████████| 1/1 [00:01<00:00,  1.83s/it]\n",
      "Running inference: 100%|██████████| 1/1 [00:04<00:00,  4.01s/it]\n",
      "Running inference: 100%|██████████| 1/1 [00:04<00:00,  4.13s/it]\n"
     ]
    },
    {
     "name": "stdout",
     "output_type": "stream",
     "text": [
      "Epoch: 022, Average Loss: 0.5677\n",
      "Validation: {'precision': 0.7667916808721729, 'recall': 0.8310392609692091, 'f1': 0.7976237924981778, 'auc': 0.6774468761607907, 'prauc': 0.8150921555212005}\n",
      "Test:       {'precision': 0.7749273131513811, 'recall': 0.8194971965990057, 'f1': 0.7965893058330239, 'auc': 0.6898296044441543, 'prauc': 0.8260190359933128}\n"
     ]
    },
    {
     "name": "stderr",
     "output_type": "stream",
     "text": [
      "Training Batches: 100%|██████████| 1/1 [00:01<00:00,  1.79s/it]\n",
      "Running inference: 100%|██████████| 1/1 [00:04<00:00,  4.55s/it]\n",
      "Running inference: 100%|██████████| 1/1 [00:04<00:00,  4.71s/it]\n"
     ]
    },
    {
     "name": "stdout",
     "output_type": "stream",
     "text": [
      "Epoch: 023, Average Loss: 0.5663\n",
      "Validation: {'precision': 0.7565857954994342, 'recall': 0.8728868360269072, 'f1': 0.8105859090678398, 'auc': 0.678041958041958, 'prauc': 0.8151692034415183}\n",
      "Test:       {'precision': 0.765851303507591, 'recall': 0.8607343100010302, 'f1': 0.8105254144151139, 'auc': 0.6898410794128479, 'prauc': 0.825820007100768}\n",
      "\n",
      "Early stopping triggered after 23 epochs (no improvement for 10 epochs).\n",
      "\n",
      "Best validation performance:\n",
      "{'precision': 0.7106653293208219, 'recall': 0.9818013856803862, 'f1': 0.8245151231338897, 'auc': 0.6647378328945881, 'prauc': 0.8099856451121576}\n",
      "Corresponding test performance:\n",
      "{'precision': 0.7155576073331692, 'recall': 0.9811900886227335, 'f1': 0.8275809416914579, 'auc': 0.6758839600430095, 'prauc': 0.8209072260462}\n",
      "Corresponding test-long performance:\n",
      "{'precision': 0.8870653685649873, 'recall': 0.9968740231291127, 'f1': 0.938769497516431, 'auc': 0.5698197251433248, 'prauc': 0.9068585814437076}\n",
      "[INFO] Random seed set to 127978094\n",
      "Training with seed: 127978094\n"
     ]
    },
    {
     "name": "stderr",
     "output_type": "stream",
     "text": [
      "Training Batches: 100%|██████████| 1/1 [00:01<00:00,  1.34s/it]\n",
      "Running inference: 100%|██████████| 1/1 [00:04<00:00,  4.51s/it]\n",
      "Running inference: 100%|██████████| 1/1 [00:04<00:00,  4.58s/it]\n"
     ]
    },
    {
     "name": "stdout",
     "output_type": "stream",
     "text": [
      "Epoch: 001, Average Loss: 0.6953\n",
      "Validation: {'precision': 0.7858176555707604, 'recall': 0.652101616627573, 'f1': 0.7127423213753133, 'auc': 0.6543582139569437, 'prauc': 0.8029209455149935}\n",
      "Test:       {'precision': 0.7954645048194615, 'recall': 0.6566286851142551, 'f1': 0.7194094867719338, 'auc': 0.6661880078689351, 'prauc': 0.8129090516827391}\n"
     ]
    },
    {
     "name": "stderr",
     "output_type": "stream",
     "text": [
      "Training Batches: 100%|██████████| 1/1 [00:01<00:00,  1.83s/it]\n",
      "Running inference: 100%|██████████| 1/1 [00:04<00:00,  4.02s/it]\n",
      "Running inference: 100%|██████████| 1/1 [00:04<00:00,  4.07s/it]\n"
     ]
    },
    {
     "name": "stdout",
     "output_type": "stream",
     "text": [
      "Epoch: 002, Average Loss: 0.6745\n",
      "Validation: {'precision': 0.7841852337256616, 'recall': 0.6632794457268699, 'f1': 0.7186827436453469, 'auc': 0.6567659664238764, 'prauc': 0.8043191193682413}\n",
      "Test:       {'precision': 0.7955085294744163, 'recall': 0.6663049376011337, 'f1': 0.7251968454320472, 'auc': 0.6691817558541268, 'prauc': 0.8153266302222937}\n"
     ]
    },
    {
     "name": "stderr",
     "output_type": "stream",
     "text": [
      "Training Batches: 100%|██████████| 1/1 [00:02<00:00,  2.71s/it]\n",
      "Running inference: 100%|██████████| 1/1 [00:03<00:00,  3.99s/it]\n",
      "Running inference: 100%|██████████| 1/1 [00:04<00:00,  4.08s/it]\n"
     ]
    },
    {
     "name": "stdout",
     "output_type": "stream",
     "text": [
      "Epoch: 003, Average Loss: 0.6557\n",
      "Validation: {'precision': 0.7838418564667126, 'recall': 0.673995381061733, 'f1': 0.7247802066205745, 'auc': 0.6588351313813208, 'prauc': 0.8056908317514387}\n",
      "Test:       {'precision': 0.7948145786836734, 'recall': 0.6764333514191748, 'f1': 0.7308612974890321, 'auc': 0.6713817095023878, 'prauc': 0.8169216746122243}\n"
     ]
    },
    {
     "name": "stderr",
     "output_type": "stream",
     "text": [
      "Training Batches: 100%|██████████| 1/1 [00:02<00:00,  2.29s/it]\n",
      "Running inference: 100%|██████████| 1/1 [00:04<00:00,  4.57s/it]\n",
      "Running inference: 100%|██████████| 1/1 [00:03<00:00,  3.62s/it]\n"
     ]
    },
    {
     "name": "stdout",
     "output_type": "stream",
     "text": [
      "Epoch: 004, Average Loss: 0.6383\n",
      "Validation: {'precision': 0.783191868384383, 'recall': 0.6904387990755746, 'f1': 0.7338963029531019, 'auc': 0.6606408372228234, 'prauc': 0.8069328217766343}\n",
      "Test:       {'precision': 0.793250259604576, 'recall': 0.6908120817501439, 'f1': 0.7384957413494815, 'auc': 0.673451781963545, 'prauc': 0.8182539475535588}\n"
     ]
    },
    {
     "name": "stderr",
     "output_type": "stream",
     "text": [
      "Training Batches: 100%|██████████| 1/1 [00:02<00:00,  2.28s/it]\n",
      "Running inference: 100%|██████████| 1/1 [00:04<00:00,  4.09s/it]\n",
      "Running inference: 100%|██████████| 1/1 [00:04<00:00,  4.99s/it]\n"
     ]
    },
    {
     "name": "stdout",
     "output_type": "stream",
     "text": [
      "Epoch: 005, Average Loss: 0.6220\n",
      "Validation: {'precision': 0.7803175887521185, 'recall': 0.7127020785212815, 'f1': 0.7449787512860903, 'auc': 0.6623949534876209, 'prauc': 0.8080678333838099}\n",
      "Test:       {'precision': 0.791095890410162, 'recall': 0.7102550189901335, 'f1': 0.7484989943466719, 'auc': 0.6756237121131314, 'prauc': 0.8194113359802511}\n"
     ]
    },
    {
     "name": "stderr",
     "output_type": "stream",
     "text": [
      "Training Batches: 100%|██████████| 1/1 [00:01<00:00,  1.33s/it]\n",
      "Running inference: 100%|██████████| 1/1 [00:04<00:00,  4.49s/it]\n",
      "Running inference: 100%|██████████| 1/1 [00:04<00:00,  4.57s/it]\n"
     ]
    },
    {
     "name": "stdout",
     "output_type": "stream",
     "text": [
      "Epoch: 006, Average Loss: 0.6077\n",
      "Validation: {'precision': 0.7790629288367191, 'recall': 0.7342263279438944, 'f1': 0.755980401148151, 'auc': 0.6638055463589527, 'prauc': 0.8088683962052691}\n",
      "Test:       {'precision': 0.7891771106569618, 'recall': 0.7345812986066788, 'f1': 0.7609011237584578, 'auc': 0.6773965254111893, 'prauc': 0.8202316808815753}\n"
     ]
    },
    {
     "name": "stderr",
     "output_type": "stream",
     "text": [
      "Training Batches: 100%|██████████| 1/1 [00:02<00:00,  2.31s/it]\n",
      "Running inference: 100%|██████████| 1/1 [00:04<00:00,  4.55s/it]\n",
      "Running inference: 100%|██████████| 1/1 [00:03<00:00,  3.66s/it]\n"
     ]
    },
    {
     "name": "stdout",
     "output_type": "stream",
     "text": [
      "Epoch: 007, Average Loss: 0.5957\n",
      "Validation: {'precision': 0.7700700063635147, 'recall': 0.7824480369507782, 'f1': 0.7762096724189613, 'auc': 0.6649647018685703, 'prauc': 0.8094648100849616}\n",
      "Test:       {'precision': 0.78053830227673, 'recall': 0.7841381805020943, 'f1': 0.7823340952384148, 'auc': 0.6787991173747395, 'prauc': 0.8208105204436554}\n"
     ]
    },
    {
     "name": "stderr",
     "output_type": "stream",
     "text": [
      "Training Batches: 100%|██████████| 1/1 [00:02<00:00,  2.27s/it]\n",
      "Running inference: 100%|██████████| 1/1 [00:04<00:00,  4.54s/it]\n",
      "Running inference: 100%|██████████| 1/1 [00:03<00:00,  3.59s/it]\n"
     ]
    },
    {
     "name": "stdout",
     "output_type": "stream",
     "text": [
      "Epoch: 008, Average Loss: 0.5874\n",
      "Validation: {'precision': 0.7509378567927328, 'recall': 0.8506235565812003, 'f1': 0.7976783421404368, 'auc': 0.6658981592887481, 'prauc': 0.8099164279539469}\n",
      "Test:       {'precision': 0.7624096385536044, 'recall': 0.8583830710789849, 'f1': 0.8075548699530363, 'auc': 0.6797544035638279, 'prauc': 0.8212133714735617}\n"
     ]
    },
    {
     "name": "stderr",
     "output_type": "stream",
     "text": [
      "Training Batches: 100%|██████████| 1/1 [00:02<00:00,  2.28s/it]\n",
      "Running inference: 100%|██████████| 1/1 [00:04<00:00,  4.05s/it]\n",
      "Running inference: 100%|██████████| 1/1 [00:04<00:00,  4.07s/it]\n"
     ]
    },
    {
     "name": "stdout",
     "output_type": "stream",
     "text": [
      "Epoch: 009, Average Loss: 0.5831\n",
      "Validation: {'precision': 0.7319303985717341, 'recall': 0.909284064664287, 'f1': 0.8110245902869863, 'auc': 0.6663733668179395, 'prauc': 0.8102472317908744}\n",
      "Test:       {'precision': 0.7414083681389745, 'recall': 0.9149936697405362, 'f1': 0.8191054392963047, 'auc': 0.6802165039222791, 'prauc': 0.8215357211362282}\n"
     ]
    },
    {
     "name": "stderr",
     "output_type": "stream",
     "text": [
      "Training Batches: 100%|██████████| 1/1 [00:02<00:00,  2.69s/it]\n",
      "Running inference: 100%|██████████| 1/1 [00:04<00:00,  4.02s/it]\n",
      "Running inference: 100%|██████████| 1/1 [00:04<00:00,  4.17s/it]\n"
     ]
    },
    {
     "name": "stdout",
     "output_type": "stream",
     "text": [
      "Epoch: 010, Average Loss: 0.5810\n",
      "Validation: {'precision': 0.7194113524872323, 'recall': 0.9483602771353825, 'f1': 0.8181709454820982, 'auc': 0.6662369991440431, 'prauc': 0.8104257795412761}\n",
      "Test:       {'precision': 0.729257945614626, 'recall': 0.9482727437140999, 'f1': 0.8244682893016639, 'auc': 0.6799732306222561, 'prauc': 0.8216305088709207}\n"
     ]
    },
    {
     "name": "stderr",
     "output_type": "stream",
     "text": [
      "Training Batches: 100%|██████████| 1/1 [00:01<00:00,  1.80s/it]\n",
      "Running inference: 100%|██████████| 1/1 [00:03<00:00,  4.00s/it]\n",
      "Running inference: 100%|██████████| 1/1 [00:04<00:00,  4.97s/it]\n"
     ]
    },
    {
     "name": "stdout",
     "output_type": "stream",
     "text": [
      "Epoch: 011, Average Loss: 0.5807\n",
      "Validation: {'precision': 0.7139624194207146, 'recall': 0.9617551963039613, 'f1': 0.819537917728437, 'auc': 0.6664471830132915, 'prauc': 0.8107508088710592}\n",
      "Test:       {'precision': 0.7240956468419346, 'recall': 0.9612045577853489, 'f1': 0.8259703879180059, 'auc': 0.6804179302509784, 'prauc': 0.8219570270352986}\n"
     ]
    },
    {
     "name": "stderr",
     "output_type": "stream",
     "text": [
      "Training Batches: 100%|██████████| 1/1 [00:01<00:00,  1.34s/it]\n",
      "Running inference: 100%|██████████| 1/1 [00:04<00:00,  4.50s/it]\n",
      "Running inference: 100%|██████████| 1/1 [00:04<00:00,  4.58s/it]\n"
     ]
    },
    {
     "name": "stdout",
     "output_type": "stream",
     "text": [
      "Epoch: 012, Average Loss: 0.5782\n",
      "Validation: {'precision': 0.7205091937760109, 'recall': 0.9411547344102159, 'f1': 0.8161826508055118, 'auc': 0.6678694544485537, 'prauc': 0.8111431945183376}\n",
      "Test:       {'precision': 0.7325302902220818, 'recall': 0.9404051365518715, 'f1': 0.8235526995986033, 'auc': 0.6824768052038249, 'prauc': 0.8226215546653415}\n"
     ]
    },
    {
     "name": "stderr",
     "output_type": "stream",
     "text": [
      "Training Batches: 100%|██████████| 1/1 [00:02<00:00,  2.26s/it]\n",
      "Running inference: 100%|██████████| 1/1 [00:04<00:00,  4.56s/it]\n",
      "Running inference: 100%|██████████| 1/1 [00:03<00:00,  3.70s/it]\n"
     ]
    },
    {
     "name": "stdout",
     "output_type": "stream",
     "text": [
      "Epoch: 013, Average Loss: 0.5803\n",
      "Validation: {'precision': 0.7410331085218109, 'recall': 0.8932101616619923, 'f1': 0.8100364378860555, 'auc': 0.6703682633763465, 'prauc': 0.8120329922844143}\n",
      "Test:       {'precision': 0.752183489025023, 'recall': 0.895641164766779, 'f1': 0.8176676936956319, 'auc': 0.6848933959553489, 'prauc': 0.8234006716487198}\n"
     ]
    },
    {
     "name": "stderr",
     "output_type": "stream",
     "text": [
      "Training Batches: 100%|██████████| 1/1 [00:02<00:00,  2.25s/it]\n",
      "Running inference: 100%|██████████| 1/1 [00:04<00:00,  4.59s/it]\n",
      "Running inference: 100%|██████████| 1/1 [00:03<00:00,  3.70s/it]\n"
     ]
    },
    {
     "name": "stdout",
     "output_type": "stream",
     "text": [
      "Epoch: 014, Average Loss: 0.5741\n",
      "Validation: {'precision': 0.7510986815815013, 'recall': 0.8683602771354564, 'f1': 0.8054841424119853, 'auc': 0.6714839952195609, 'prauc': 0.81262008957555}\n",
      "Test:       {'precision': 0.7643322216922627, 'recall': 0.8705009947541413, 'f1': 0.8139692153823133, 'auc': 0.6860995459677932, 'prauc': 0.8239675476877408}\n"
     ]
    },
    {
     "name": "stderr",
     "output_type": "stream",
     "text": [
      "Training Batches: 100%|██████████| 1/1 [00:02<00:00,  2.32s/it]\n",
      "Running inference: 100%|██████████| 1/1 [00:04<00:00,  4.15s/it]\n",
      "Running inference: 100%|██████████| 1/1 [00:04<00:00,  4.12s/it]\n"
     ]
    },
    {
     "name": "stdout",
     "output_type": "stream",
     "text": [
      "Epoch: 015, Average Loss: 0.5736\n",
      "Validation: {'precision': 0.764561462918418, 'recall': 0.8342725173202454, 'f1': 0.7978972428773341, 'auc': 0.6725628542935124, 'prauc': 0.8131425723228312}\n",
      "Test:       {'precision': 0.7754635509264453, 'recall': 0.8282691264235591, 'f1': 0.800996977819885, 'auc': 0.6867349797911729, 'prauc': 0.8242738960542182}\n"
     ]
    },
    {
     "name": "stderr",
     "output_type": "stream",
     "text": [
      "Training Batches: 100%|██████████| 1/1 [00:02<00:00,  2.72s/it]\n",
      "Running inference: 100%|██████████| 1/1 [00:04<00:00,  4.09s/it]\n",
      "Running inference: 100%|██████████| 1/1 [00:04<00:00,  4.11s/it]\n"
     ]
    },
    {
     "name": "stdout",
     "output_type": "stream",
     "text": [
      "Epoch: 016, Average Loss: 0.5714\n",
      "Validation: {'precision': 0.7746869409653178, 'recall': 0.8000923787521477, 'f1': 0.7871847257435989, 'auc': 0.673380454706956, 'prauc': 0.8135458788224995}\n",
      "Test:       {'precision': 0.7834673815900057, 'recall': 0.7928196780604152, 'f1': 0.7881157806880689, 'auc': 0.6870175831004748, 'prauc': 0.8244477367629455}\n"
     ]
    },
    {
     "name": "stderr",
     "output_type": "stream",
     "text": [
      "Training Batches: 100%|██████████| 1/1 [00:02<00:00,  2.30s/it]\n",
      "Running inference: 100%|██████████| 1/1 [00:04<00:00,  4.61s/it]\n",
      "Running inference: 100%|██████████| 1/1 [00:03<00:00,  3.64s/it]\n"
     ]
    },
    {
     "name": "stdout",
     "output_type": "stream",
     "text": [
      "Epoch: 017, Average Loss: 0.5708\n",
      "Validation: {'precision': 0.7763952754478618, 'recall': 0.7954734411078102, 'f1': 0.7858185750328721, 'auc': 0.6739155085676447, 'prauc': 0.8139666554497696}\n",
      "Test:       {'precision': 0.784356132287299, 'recall': 0.7871224452877671, 'f1': 0.7857368489826058, 'auc': 0.687511710314554, 'prauc': 0.8247883485561985}\n"
     ]
    },
    {
     "name": "stderr",
     "output_type": "stream",
     "text": [
      "Training Batches: 100%|██████████| 1/1 [00:02<00:00,  2.27s/it]\n",
      "Running inference: 100%|██████████| 1/1 [00:03<00:00,  3.99s/it]\n",
      "Running inference: 100%|██████████| 1/1 [00:05<00:00,  5.04s/it]\n"
     ]
    },
    {
     "name": "stdout",
     "output_type": "stream",
     "text": [
      "Epoch: 018, Average Loss: 0.5712\n",
      "Validation: {'precision': 0.7768542199481394, 'recall': 0.7856812933018146, 'f1': 0.7812428186801473, 'auc': 0.6740610919103991, 'prauc': 0.8141556648048028}\n",
      "Test:       {'precision': 0.7854088965698304, 'recall': 0.7807921866514913, 'f1': 0.7830937322448095, 'auc': 0.687956221666588, 'prauc': 0.8252222753722913}\n"
     ]
    },
    {
     "name": "stderr",
     "output_type": "stream",
     "text": [
      "Training Batches: 100%|██████████| 1/1 [00:01<00:00,  1.32s/it]\n",
      "Running inference: 100%|██████████| 1/1 [00:04<00:00,  4.45s/it]\n",
      "Running inference: 100%|██████████| 1/1 [00:04<00:00,  4.59s/it]\n"
     ]
    },
    {
     "name": "stdout",
     "output_type": "stream",
     "text": [
      "Epoch: 019, Average Loss: 0.5686\n",
      "Validation: {'precision': 0.7766447071556929, 'recall': 0.7950115473433764, 'f1': 0.7857208020847825, 'auc': 0.675097264167703, 'prauc': 0.8146368246666291}\n",
      "Test:       {'precision': 0.7846679248667343, 'recall': 0.7895641164760449, 'f1': 0.7871084015803619, 'auc': 0.6891411162318406, 'prauc': 0.8257385897209664}\n"
     ]
    },
    {
     "name": "stderr",
     "output_type": "stream",
     "text": [
      "Training Batches: 100%|██████████| 1/1 [00:02<00:00,  2.27s/it]\n",
      "Running inference: 100%|██████████| 1/1 [00:04<00:00,  4.57s/it]\n",
      "Running inference: 100%|██████████| 1/1 [00:03<00:00,  3.61s/it]\n"
     ]
    },
    {
     "name": "stdout",
     "output_type": "stream",
     "text": [
      "Epoch: 020, Average Loss: 0.5662\n",
      "Validation: {'precision': 0.7725957745237375, 'recall': 0.8141339491909337, 'f1': 0.7928211536928896, 'auc': 0.6765401472084497, 'prauc': 0.8151529050061297}\n",
      "Test:       {'precision': 0.7818038252318109, 'recall': 0.8058419243978966, 'f1': 0.7936408927560504, 'auc': 0.6907805107229124, 'prauc': 0.8263881744901683}\n"
     ]
    },
    {
     "name": "stderr",
     "output_type": "stream",
     "text": [
      "Training Batches: 100%|██████████| 1/1 [00:02<00:00,  2.28s/it]\n",
      "Running inference: 100%|██████████| 1/1 [00:04<00:00,  4.62s/it]\n",
      "Running inference: 100%|██████████| 1/1 [00:03<00:00,  3.59s/it]\n"
     ]
    },
    {
     "name": "stdout",
     "output_type": "stream",
     "text": [
      "Epoch: 021, Average Loss: 0.5648\n",
      "Validation: {'precision': 0.7673073651975103, 'recall': 0.8334411085442647, 'f1': 0.799008098448468, 'auc': 0.678479515576802, 'prauc': 0.8158900165017555}\n",
      "Test:       {'precision': 0.7781377899038385, 'recall': 0.8252848616378863, 'f1': 0.8010181640547918, 'auc': 0.6926269699340362, 'prauc': 0.8271175512012829}\n",
      "\n",
      "Early stopping triggered after 21 epochs (no improvement for 10 epochs).\n",
      "\n",
      "Best validation performance:\n",
      "{'precision': 0.7139624194207146, 'recall': 0.9617551963039613, 'f1': 0.819537917728437, 'auc': 0.6664471830132915, 'prauc': 0.8107508088710592}\n",
      "Corresponding test performance:\n",
      "{'precision': 0.7240956468419346, 'recall': 0.9612045577853489, 'f1': 0.8259703879180059, 'auc': 0.6804179302509784, 'prauc': 0.8219570270352986}\n",
      "Corresponding test-long performance:\n",
      "{'precision': 0.8872222222197578, 'recall': 0.9984370115629934, 'f1': 0.9395499288284253, 'auc': 0.5656634752149778, 'prauc': 0.9053842534418848}\n",
      "[INFO] Random seed set to 939042955\n",
      "Training with seed: 939042955\n"
     ]
    },
    {
     "name": "stderr",
     "output_type": "stream",
     "text": [
      "Training Batches: 100%|██████████| 1/1 [00:02<00:00,  2.32s/it]\n",
      "Running inference: 100%|██████████| 1/1 [00:03<00:00,  3.99s/it]\n",
      "Running inference: 100%|██████████| 1/1 [00:04<00:00,  4.07s/it]\n"
     ]
    },
    {
     "name": "stdout",
     "output_type": "stream",
     "text": [
      "Epoch: 001, Average Loss: 0.6966\n",
      "Validation: {'precision': 0.7930673490743363, 'recall': 0.6298383371818661, 'f1': 0.7020904079988615, 'auc': 0.6591939570244998, 'prauc': 0.8045619097581834}\n",
      "Test:       {'precision': 0.8058612301623932, 'recall': 0.629137276179572, 'f1': 0.7066172313759633, 'auc': 0.6735048462617783, 'prauc': 0.8183447809152589}\n"
     ]
    },
    {
     "name": "stderr",
     "output_type": "stream",
     "text": [
      "Training Batches: 100%|██████████| 1/1 [00:02<00:00,  2.72s/it]\n",
      "Running inference: 100%|██████████| 1/1 [00:04<00:00,  4.12s/it]\n",
      "Running inference: 100%|██████████| 1/1 [00:04<00:00,  4.11s/it]\n"
     ]
    },
    {
     "name": "stdout",
     "output_type": "stream",
     "text": [
      "Epoch: 002, Average Loss: 0.6767\n",
      "Validation: {'precision': 0.7863572280655173, 'recall': 0.6698383371818292, 'f1': 0.723436092008244, 'auc': 0.6613116834089698, 'prauc': 0.8063656449119551}\n",
      "Test:       {'precision': 0.7988146551715529, 'recall': 0.6703743895815967, 'f1': 0.7289802290821421, 'auc': 0.6753623642510211, 'prauc': 0.8195069193100466}\n"
     ]
    },
    {
     "name": "stderr",
     "output_type": "stream",
     "text": [
      "Training Batches: 100%|██████████| 1/1 [00:02<00:00,  2.26s/it]\n",
      "Running inference: 100%|██████████| 1/1 [00:04<00:00,  4.03s/it]\n",
      "Running inference: 100%|██████████| 1/1 [00:04<00:00,  4.57s/it]\n"
     ]
    },
    {
     "name": "stdout",
     "output_type": "stream",
     "text": [
      "Epoch: 003, Average Loss: 0.6585\n",
      "Validation: {'precision': 0.7846723044389168, 'recall': 0.6857274826783503, 'f1': 0.7318708355444725, 'auc': 0.6625855654161081, 'prauc': 0.8073877284705933}\n",
      "Test:       {'precision': 0.7970984020176649, 'recall': 0.6856574425748908, 'f1': 0.7371900776721549, 'auc': 0.6764635946015248, 'prauc': 0.8201440114500582}\n"
     ]
    },
    {
     "name": "stderr",
     "output_type": "stream",
     "text": [
      "Training Batches: 100%|██████████| 1/1 [00:01<00:00,  1.83s/it]\n",
      "Running inference: 100%|██████████| 1/1 [00:04<00:00,  4.07s/it]\n",
      "Running inference: 100%|██████████| 1/1 [00:04<00:00,  4.00s/it]\n"
     ]
    },
    {
     "name": "stdout",
     "output_type": "stream",
     "text": [
      "Epoch: 004, Average Loss: 0.6418\n",
      "Validation: {'precision': 0.7830820770511064, 'recall': 0.6909930715928951, 'f1': 0.7341610589634369, 'auc': 0.6631927800836577, 'prauc': 0.8078854481737268}\n",
      "Test:       {'precision': 0.7965660770022928, 'recall': 0.692258998009864, 'f1': 0.7407586557553909, 'auc': 0.6770518007040122, 'prauc': 0.8204050012325457}\n"
     ]
    },
    {
     "name": "stderr",
     "output_type": "stream",
     "text": [
      "Training Batches: 100%|██████████| 1/1 [00:02<00:00,  2.23s/it]\n",
      "Running inference: 100%|██████████| 1/1 [00:04<00:00,  4.97s/it]\n",
      "Running inference: 100%|██████████| 1/1 [00:03<00:00,  3.57s/it]\n"
     ]
    },
    {
     "name": "stdout",
     "output_type": "stream",
     "text": [
      "Epoch: 005, Average Loss: 0.6245\n",
      "Validation: {'precision': 0.7822904855161505, 'recall': 0.7010623556575509, 'f1': 0.7394523968460959, 'auc': 0.6638043754744101, 'prauc': 0.8082788269607161}\n",
      "Test:       {'precision': 0.7960499385992672, 'recall': 0.7034725990226953, 'f1': 0.7469034995790704, 'auc': 0.6777479983512512, 'prauc': 0.8206310306090701}\n"
     ]
    },
    {
     "name": "stderr",
     "output_type": "stream",
     "text": [
      "Training Batches: 100%|██████████| 1/1 [00:02<00:00,  2.26s/it]\n",
      "Running inference: 100%|██████████| 1/1 [00:03<00:00,  3.96s/it]\n",
      "Running inference: 100%|██████████| 1/1 [00:04<00:00,  4.01s/it]\n"
     ]
    },
    {
     "name": "stdout",
     "output_type": "stream",
     "text": [
      "Epoch: 006, Average Loss: 0.6097\n",
      "Validation: {'precision': 0.7808055693676969, 'recall': 0.7252655889138796, 'f1': 0.752011489258953, 'auc': 0.6646606554530919, 'prauc': 0.8087154265051496}\n",
      "Test:       {'precision': 0.7923583145066374, 'recall': 0.7295170916976582, 'f1': 0.7596402793903136, 'auc': 0.6788301533004288, 'prauc': 0.8209717542788982}\n"
     ]
    },
    {
     "name": "stderr",
     "output_type": "stream",
     "text": [
      "Training Batches: 100%|██████████| 1/1 [00:02<00:00,  2.72s/it]\n",
      "Running inference: 100%|██████████| 1/1 [00:04<00:00,  4.10s/it]\n",
      "Running inference: 100%|██████████| 1/1 [00:04<00:00,  4.14s/it]\n"
     ]
    },
    {
     "name": "stdout",
     "output_type": "stream",
     "text": [
      "Epoch: 007, Average Loss: 0.5976\n",
      "Validation: {'precision': 0.7615444148243515, 'recall': 0.818106235565064, 'f1': 0.7888126787146238, 'auc': 0.6655385867019816, 'prauc': 0.8091413618051544}\n",
      "Test:       {'precision': 0.7712429330851647, 'recall': 0.8265509133651414, 'f1': 0.7979396693690816, 'auc': 0.6795933774487415, 'prauc': 0.8212753727820664}\n"
     ]
    },
    {
     "name": "stderr",
     "output_type": "stream",
     "text": [
      "Training Batches: 100%|██████████| 1/1 [00:02<00:00,  2.25s/it]\n",
      "Running inference: 100%|██████████| 1/1 [00:04<00:00,  4.66s/it]\n",
      "Running inference: 100%|██████████| 1/1 [00:03<00:00,  3.66s/it]\n"
     ]
    },
    {
     "name": "stdout",
     "output_type": "stream",
     "text": [
      "Epoch: 008, Average Loss: 0.5899\n",
      "Validation: {'precision': 0.7284300887525619, 'recall': 0.9249884526550346, 'f1': 0.815025838544013, 'auc': 0.6646930768423264, 'prauc': 0.8089993567186008}\n",
      "Test:       {'precision': 0.7352625170111486, 'recall': 0.9282872128767151, 'f1': 0.8205763570315676, 'auc': 0.6783634451177616, 'prauc': 0.8210032048551332}\n"
     ]
    },
    {
     "name": "stderr",
     "output_type": "stream",
     "text": [
      "Training Batches: 100%|██████████| 1/1 [00:02<00:00,  2.33s/it]\n",
      "Running inference: 100%|██████████| 1/1 [00:04<00:00,  4.05s/it]\n",
      "Running inference: 100%|██████████| 1/1 [00:05<00:00,  5.09s/it]\n"
     ]
    },
    {
     "name": "stdout",
     "output_type": "stream",
     "text": [
      "Epoch: 009, Average Loss: 0.5850\n",
      "Validation: {'precision': 0.7127282638316211, 'recall': 0.9662817551954122, 'f1': 0.8203599809962888, 'auc': 0.662679205898028, 'prauc': 0.8085184609909613}\n",
      "Test:       {'precision': 0.7205219613905155, 'recall': 0.9687104358826472, 'f1': 0.8263837945287035, 'auc': 0.676073396119447, 'prauc': 0.8204155928293881}\n"
     ]
    },
    {
     "name": "stderr",
     "output_type": "stream",
     "text": [
      "Training Batches: 100%|██████████| 1/1 [00:01<00:00,  1.33s/it]\n",
      "Running inference: 100%|██████████| 1/1 [00:04<00:00,  4.58s/it]\n",
      "Running inference: 100%|██████████| 1/1 [00:04<00:00,  4.59s/it]\n"
     ]
    },
    {
     "name": "stdout",
     "output_type": "stream",
     "text": [
      "Epoch: 010, Average Loss: 0.5830\n",
      "Validation: {'precision': 0.7107270640648682, 'recall': 0.9725635103917112, 'f1': 0.8212809062678542, 'auc': 0.6632958381110806, 'prauc': 0.8088853147208859}\n",
      "Test:       {'precision': 0.7184711679313367, 'recall': 0.9757641526487829, 'f1': 0.8275809124332855, 'auc': 0.6763952105264348, 'prauc': 0.8206478374570149}\n"
     ]
    },
    {
     "name": "stderr",
     "output_type": "stream",
     "text": [
      "Training Batches: 100%|██████████| 1/1 [00:02<00:00,  2.23s/it]\n",
      "Running inference: 100%|██████████| 1/1 [00:04<00:00,  4.57s/it]\n",
      "Running inference: 100%|██████████| 1/1 [00:03<00:00,  3.67s/it]\n"
     ]
    },
    {
     "name": "stdout",
     "output_type": "stream",
     "text": [
      "Epoch: 011, Average Loss: 0.5822\n",
      "Validation: {'precision': 0.7128442868825247, 'recall': 0.9659122401838651, 'f1': 0.8203036078694231, 'auc': 0.6653946688415511, 'prauc': 0.8097949730953714}\n",
      "Test:       {'precision': 0.7214550353649569, 'recall': 0.9685295713501821, 'f1': 0.8269312385915434, 'auc': 0.6783825601562847, 'prauc': 0.8214601178216204}\n"
     ]
    },
    {
     "name": "stderr",
     "output_type": "stream",
     "text": [
      "Training Batches: 100%|██████████| 1/1 [00:02<00:00,  2.24s/it]\n",
      "Running inference: 100%|██████████| 1/1 [00:04<00:00,  4.60s/it]\n",
      "Running inference: 100%|██████████| 1/1 [00:03<00:00,  3.61s/it]\n"
     ]
    },
    {
     "name": "stdout",
     "output_type": "stream",
     "text": [
      "Epoch: 012, Average Loss: 0.5810\n",
      "Validation: {'precision': 0.7205406166403487, 'recall': 0.94558891454878, 'f1': 0.8178658414410948, 'auc': 0.6672972552851306, 'prauc': 0.8106115388000648}\n",
      "Test:       {'precision': 0.7289341517852058, 'recall': 0.9450171821297295, 'f1': 0.823029057065813, 'auc': 0.6809135438599663, 'prauc': 0.8224775461681556}\n"
     ]
    },
    {
     "name": "stderr",
     "output_type": "stream",
     "text": [
      "Training Batches: 100%|██████████| 1/1 [00:02<00:00,  2.22s/it]\n",
      "Running inference: 100%|██████████| 1/1 [00:03<00:00,  3.97s/it]\n",
      "Running inference: 100%|██████████| 1/1 [00:04<00:00,  4.11s/it]\n"
     ]
    },
    {
     "name": "stdout",
     "output_type": "stream",
     "text": [
      "Epoch: 013, Average Loss: 0.5807\n",
      "Validation: {'precision': 0.7247441994518484, 'recall': 0.9291454965349384, 'f1': 0.8143140460006999, 'auc': 0.6686731253734718, 'prauc': 0.8113136377516584}\n",
      "Test:       {'precision': 0.7341717879085792, 'recall': 0.9291011032728078, 'f1': 0.8202139500416747, 'auc': 0.6825278182770844, 'prauc': 0.8231400744438342}\n"
     ]
    },
    {
     "name": "stderr",
     "output_type": "stream",
     "text": [
      "Training Batches: 100%|██████████| 1/1 [00:02<00:00,  2.72s/it]\n",
      "Running inference: 100%|██████████| 1/1 [00:03<00:00,  3.98s/it]\n",
      "Running inference: 100%|██████████| 1/1 [00:04<00:00,  4.09s/it]\n"
     ]
    },
    {
     "name": "stdout",
     "output_type": "stream",
     "text": [
      "Epoch: 014, Average Loss: 0.5750\n",
      "Validation: {'precision': 0.7345139412202453, 'recall': 0.9004157043871589, 'f1': 0.8090475152832262, 'auc': 0.669685556937289, 'prauc': 0.8118969742807489}\n",
      "Test:       {'precision': 0.7479973047834484, 'recall': 0.9035087719290075, 'f1': 0.8184312872820414, 'auc': 0.68390904579115, 'prauc': 0.8236524831609284}\n"
     ]
    },
    {
     "name": "stderr",
     "output_type": "stream",
     "text": [
      "Training Batches: 100%|██████████| 1/1 [00:02<00:00,  2.27s/it]\n",
      "Running inference: 100%|██████████| 1/1 [00:04<00:00,  4.50s/it]\n",
      "Running inference: 100%|██████████| 1/1 [00:03<00:00,  3.57s/it]\n"
     ]
    },
    {
     "name": "stdout",
     "output_type": "stream",
     "text": [
      "Epoch: 015, Average Loss: 0.5763\n",
      "Validation: {'precision': 0.7529326106295987, 'recall': 0.8597690531169886, 'f1': 0.8028120367705822, 'auc': 0.670553626512056, 'prauc': 0.8121295947682783}\n",
      "Test:       {'precision': 0.7653954235240743, 'recall': 0.8620907939945178, 'f1': 0.8108705772480664, 'auc': 0.6848918600139435, 'prauc': 0.8239593837601056}\n"
     ]
    },
    {
     "name": "stderr",
     "output_type": "stream",
     "text": [
      "Training Batches: 100%|██████████| 1/1 [00:02<00:00,  2.25s/it]\n",
      "Running inference: 100%|██████████| 1/1 [00:03<00:00,  3.99s/it]\n",
      "Running inference: 100%|██████████| 1/1 [00:05<00:00,  5.02s/it]\n"
     ]
    },
    {
     "name": "stdout",
     "output_type": "stream",
     "text": [
      "Epoch: 016, Average Loss: 0.5736\n",
      "Validation: {'precision': 0.76488352027544, 'recall': 0.8189376443410448, 'f1': 0.790988172564788, 'auc': 0.6701675979909236, 'prauc': 0.8119884599310254}\n",
      "Test:       {'precision': 0.7749402118203151, 'recall': 0.8204919515275633, 'f1': 0.7970657948803852, 'auc': 0.6846515495944382, 'prauc': 0.8239267880106566}\n"
     ]
    },
    {
     "name": "stderr",
     "output_type": "stream",
     "text": [
      "Training Batches: 100%|██████████| 1/1 [00:01<00:00,  1.33s/it]\n",
      "Running inference: 100%|██████████| 1/1 [00:04<00:00,  4.52s/it]\n",
      "Running inference: 100%|██████████| 1/1 [00:04<00:00,  4.59s/it]\n"
     ]
    },
    {
     "name": "stdout",
     "output_type": "stream",
     "text": [
      "Epoch: 017, Average Loss: 0.5739\n",
      "Validation: {'precision': 0.7615646258496925, 'recall': 0.8273441108537392, 'f1': 0.7930927556897357, 'auc': 0.6706903676577464, 'prauc': 0.8123596020916075}\n",
      "Test:       {'precision': 0.7728153703541141, 'recall': 0.8293543136183492, 'f1': 0.8000872360088002, 'auc': 0.6850723579023315, 'prauc': 0.8241074622169827}\n"
     ]
    },
    {
     "name": "stderr",
     "output_type": "stream",
     "text": [
      "Training Batches: 100%|██████████| 1/1 [00:02<00:00,  2.26s/it]\n",
      "Running inference: 100%|██████████| 1/1 [00:04<00:00,  4.57s/it]\n",
      "Running inference: 100%|██████████| 1/1 [00:03<00:00,  3.66s/it]\n"
     ]
    },
    {
     "name": "stdout",
     "output_type": "stream",
     "text": [
      "Epoch: 018, Average Loss: 0.5729\n",
      "Validation: {'precision': 0.7546062285987651, 'recall': 0.8550577367197644, 'f1': 0.8016976261304662, 'auc': 0.6719521572538316, 'prauc': 0.8130838109612369}\n",
      "Test:       {'precision': 0.7663596703823183, 'recall': 0.8578404774815899, 'f1': 0.8095238045389804, 'auc': 0.6858520909434276, 'prauc': 0.8243371557317916}\n"
     ]
    },
    {
     "name": "stderr",
     "output_type": "stream",
     "text": [
      "Training Batches: 100%|██████████| 1/1 [00:02<00:00,  2.26s/it]\n",
      "Running inference: 100%|██████████| 1/1 [00:04<00:00,  4.55s/it]\n",
      "Running inference: 100%|██████████| 1/1 [00:03<00:00,  3.70s/it]\n"
     ]
    },
    {
     "name": "stdout",
     "output_type": "stream",
     "text": [
      "Epoch: 019, Average Loss: 0.5689\n",
      "Validation: {'precision': 0.7520991603352641, 'recall': 0.8688221708998902, 'f1': 0.8062580318876451, 'auc': 0.6732720873237618, 'prauc': 0.8135308541527574}\n",
      "Test:       {'precision': 0.7624130297274174, 'recall': 0.872038343280094, 'f1': 0.813549307432167, 'auc': 0.6864679340819135, 'prauc': 0.8243692259701454}\n"
     ]
    },
    {
     "name": "stderr",
     "output_type": "stream",
     "text": [
      "Training Batches: 100%|██████████| 1/1 [00:02<00:00,  2.30s/it]\n",
      "Running inference: 100%|██████████| 1/1 [00:04<00:00,  4.10s/it]\n",
      "Running inference: 100%|██████████| 1/1 [00:04<00:00,  4.12s/it]\n"
     ]
    },
    {
     "name": "stdout",
     "output_type": "stream",
     "text": [
      "Epoch: 020, Average Loss: 0.5743\n",
      "Validation: {'precision': 0.7553251802051062, 'recall': 0.8615242494218369, 'f1': 0.8049369879433691, 'auc': 0.6738475064196773, 'prauc': 0.8135856316904154}\n",
      "Test:       {'precision': 0.7653331195375889, 'recall': 0.8632664134555404, 'f1': 0.8113552285391279, 'auc': 0.6865575438762967, 'prauc': 0.8242154922353011}\n",
      "\n",
      "Early stopping triggered after 20 epochs (no improvement for 10 epochs).\n",
      "\n",
      "Best validation performance:\n",
      "{'precision': 0.7107270640648682, 'recall': 0.9725635103917112, 'f1': 0.8212809062678542, 'auc': 0.6632958381110806, 'prauc': 0.8088853147208859}\n",
      "Corresponding test performance:\n",
      "{'precision': 0.7184711679313367, 'recall': 0.9757641526487829, 'f1': 0.8275809124332855, 'auc': 0.6763952105264348, 'prauc': 0.8206478374570149}\n",
      "Corresponding test-long performance:\n",
      "{'precision': 0.8871012482638361, 'recall': 0.9996874023100979, 'f1': 0.9400352683836466, 'auc': 0.5665745178620152, 'prauc': 0.9057698138768773}\n",
      "[INFO] Random seed set to 2340505846\n",
      "Training with seed: 2340505846\n"
     ]
    },
    {
     "name": "stderr",
     "output_type": "stream",
     "text": [
      "Training Batches: 100%|██████████| 1/1 [00:02<00:00,  2.73s/it]\n",
      "Running inference: 100%|██████████| 1/1 [00:03<00:00,  3.99s/it]\n",
      "Running inference: 100%|██████████| 1/1 [00:04<00:00,  4.07s/it]\n"
     ]
    },
    {
     "name": "stdout",
     "output_type": "stream",
     "text": [
      "Epoch: 001, Average Loss: 0.6915\n",
      "Validation: {'precision': 0.7805951383059716, 'recall': 0.6882217090062925, 'f1': 0.7315037507262593, 'auc': 0.6580988569744344, 'prauc': 0.8041999114846927}\n",
      "Test:       {'precision': 0.7928822677417826, 'recall': 0.6930728884059567, 'f1': 0.7396255499340234, 'auc': 0.6694349880000366, 'prauc': 0.8150505192215004}\n"
     ]
    },
    {
     "name": "stderr",
     "output_type": "stream",
     "text": [
      "Training Batches: 100%|██████████| 1/1 [00:02<00:00,  2.23s/it]\n",
      "Running inference: 100%|██████████| 1/1 [00:04<00:00,  4.53s/it]\n",
      "Running inference: 100%|██████████| 1/1 [00:03<00:00,  3.66s/it]\n"
     ]
    },
    {
     "name": "stdout",
     "output_type": "stream",
     "text": [
      "Epoch: 002, Average Loss: 0.6732\n",
      "Validation: {'precision': 0.7801692613093927, 'recall': 0.6897921478053674, 'f1': 0.7322023876441878, 'auc': 0.6582049431515367, 'prauc': 0.8043232325555418}\n",
      "Test:       {'precision': 0.7924079437310794, 'recall': 0.6928015916072592, 'f1': 0.7392646867133706, 'auc': 0.6701071952334525, 'prauc': 0.8157626162271828}\n"
     ]
    },
    {
     "name": "stderr",
     "output_type": "stream",
     "text": [
      "Training Batches: 100%|██████████| 1/1 [00:02<00:00,  2.22s/it]\n",
      "Running inference: 100%|██████████| 1/1 [00:04<00:00,  4.60s/it]\n",
      "Running inference: 100%|██████████| 1/1 [00:03<00:00,  3.65s/it]\n"
     ]
    },
    {
     "name": "stdout",
     "output_type": "stream",
     "text": [
      "Epoch: 003, Average Loss: 0.6562\n",
      "Validation: {'precision': 0.7799112212235161, 'recall': 0.6979214780594014, 'f1': 0.7366419606932989, 'auc': 0.6602837275311294, 'prauc': 0.8059774417069205}\n",
      "Test:       {'precision': 0.7930399181158719, 'recall': 0.7006691987694875, 'f1': 0.7439984586250896, 'auc': 0.6725277794326308, 'prauc': 0.8176934632547048}\n"
     ]
    },
    {
     "name": "stderr",
     "output_type": "stream",
     "text": [
      "Training Batches: 100%|██████████| 1/1 [00:02<00:00,  2.30s/it]\n",
      "Running inference: 100%|██████████| 1/1 [00:04<00:00,  4.13s/it]\n",
      "Running inference: 100%|██████████| 1/1 [00:04<00:00,  4.08s/it]\n"
     ]
    },
    {
     "name": "stdout",
     "output_type": "stream",
     "text": [
      "Epoch: 004, Average Loss: 0.6394\n",
      "Validation: {'precision': 0.7799794661182956, 'recall': 0.701801385680645, 'f1': 0.7388281010185482, 'auc': 0.6617912716613641, 'prauc': 0.8071797160462049}\n",
      "Test:       {'precision': 0.7933319738980491, 'recall': 0.7036534635551603, 'f1': 0.7458065703071741, 'auc': 0.6741705629040937, 'prauc': 0.8188509452743493}\n"
     ]
    },
    {
     "name": "stderr",
     "output_type": "stream",
     "text": [
      "Training Batches: 100%|██████████| 1/1 [00:02<00:00,  2.71s/it]\n",
      "Running inference: 100%|██████████| 1/1 [00:04<00:00,  4.10s/it]\n",
      "Running inference: 100%|██████████| 1/1 [00:04<00:00,  4.03s/it]\n"
     ]
    },
    {
     "name": "stdout",
     "output_type": "stream",
     "text": [
      "Epoch: 005, Average Loss: 0.6234\n",
      "Validation: {'precision': 0.7803598971714341, 'recall': 0.7010623556575509, 'f1': 0.7385888027994955, 'auc': 0.662770979020979, 'prauc': 0.8079248048820991}\n",
      "Test:       {'precision': 0.7940335104201123, 'recall': 0.7028395731590678, 'f1': 0.745658634564998, 'auc': 0.6754905311293307, 'prauc': 0.8195848394631342}\n"
     ]
    },
    {
     "name": "stderr",
     "output_type": "stream",
     "text": [
      "Training Batches: 100%|██████████| 1/1 [00:02<00:00,  2.26s/it]\n",
      "Running inference: 100%|██████████| 1/1 [00:04<00:00,  4.52s/it]\n",
      "Running inference: 100%|██████████| 1/1 [00:03<00:00,  3.73s/it]\n"
     ]
    },
    {
     "name": "stdout",
     "output_type": "stream",
     "text": [
      "Epoch: 006, Average Loss: 0.6082\n",
      "Validation: {'precision': 0.7807288449652247, 'recall': 0.7006004618931172, 'f1': 0.7384974875890117, 'auc': 0.6634892460311052, 'prauc': 0.8083678501353722}\n",
      "Test:       {'precision': 0.7943189945838415, 'recall': 0.7030204376915328, 'f1': 0.7458862986878181, 'auc': 0.6764714625852404, 'prauc': 0.8200064746551458}\n"
     ]
    },
    {
     "name": "stderr",
     "output_type": "stream",
     "text": [
      "Training Batches: 100%|██████████| 1/1 [00:02<00:00,  2.27s/it]\n",
      "Running inference: 100%|██████████| 1/1 [00:04<00:00,  4.00s/it]\n",
      "Running inference: 100%|██████████| 1/1 [00:05<00:00,  5.01s/it]\n"
     ]
    },
    {
     "name": "stdout",
     "output_type": "stream",
     "text": [
      "Epoch: 007, Average Loss: 0.5969\n",
      "Validation: {'precision': 0.7811651071528511, 'recall': 0.7172286374127324, 'f1': 0.7478327825252395, 'auc': 0.6640720033430773, 'prauc': 0.8086873574425176}\n",
      "Test:       {'precision': 0.7921415716848709, 'recall': 0.7164948453601767, 'f1': 0.7524216474335093, 'auc': 0.676955967869612, 'prauc': 0.8202252942455122}\n"
     ]
    },
    {
     "name": "stderr",
     "output_type": "stream",
     "text": [
      "Training Batches: 100%|██████████| 1/1 [00:01<00:00,  1.32s/it]\n",
      "Running inference: 100%|██████████| 1/1 [00:04<00:00,  4.45s/it]\n",
      "Running inference: 100%|██████████| 1/1 [00:04<00:00,  4.50s/it]\n"
     ]
    },
    {
     "name": "stdout",
     "output_type": "stream",
     "text": [
      "Epoch: 008, Average Loss: 0.5879\n",
      "Validation: {'precision': 0.7628538671833822, 'recall': 0.7990762124703934, 'f1': 0.7805450229752747, 'auc': 0.6638224939033253, 'prauc': 0.8087594652088528}\n",
      "Test:       {'precision': 0.774421034301955, 'recall': 0.8043950081381764, 'f1': 0.7891234868392851, 'auc': 0.6762722262117061, 'prauc': 0.820161741898027}\n"
     ]
    },
    {
     "name": "stderr",
     "output_type": "stream",
     "text": [
      "Training Batches: 100%|██████████| 1/1 [00:02<00:00,  2.23s/it]\n",
      "Running inference: 100%|██████████| 1/1 [00:04<00:00,  4.58s/it]\n",
      "Running inference: 100%|██████████| 1/1 [00:03<00:00,  3.61s/it]\n"
     ]
    },
    {
     "name": "stdout",
     "output_type": "stream",
     "text": [
      "Epoch: 009, Average Loss: 0.5836\n",
      "Validation: {'precision': 0.7246609304355223, 'recall': 0.9180600461885283, 'f1': 0.8099759517090926, 'auc': 0.6608600146966198, 'prauc': 0.8080868319970133}\n",
      "Test:       {'precision': 0.7339787587596749, 'recall': 0.9187013926560691, 'f1': 0.816016702560102, 'auc': 0.6729731429844122, 'prauc': 0.8193806911555532}\n"
     ]
    },
    {
     "name": "stderr",
     "output_type": "stream",
     "text": [
      "Training Batches: 100%|██████████| 1/1 [00:02<00:00,  2.28s/it]\n",
      "Running inference: 100%|██████████| 1/1 [00:04<00:00,  4.02s/it]\n",
      "Running inference: 100%|██████████| 1/1 [00:04<00:00,  4.45s/it]\n"
     ]
    },
    {
     "name": "stdout",
     "output_type": "stream",
     "text": [
      "Epoch: 010, Average Loss: 0.5823\n",
      "Validation: {'precision': 0.7133898421881928, 'recall': 0.9563048498836431, 'f1': 0.8171771343536841, 'auc': 0.6580432298648234, 'prauc': 0.8074702951726465}\n",
      "Test:       {'precision': 0.7198443579761623, 'recall': 0.9536082474218179, 'f1': 0.8203991081789674, 'auc': 0.670009469722869, 'prauc': 0.8187085353844865}\n"
     ]
    },
    {
     "name": "stderr",
     "output_type": "stream",
     "text": [
      "Training Batches: 100%|██████████| 1/1 [00:02<00:00,  2.74s/it]\n",
      "Running inference: 100%|██████████| 1/1 [00:04<00:00,  4.09s/it]\n",
      "Running inference: 100%|██████████| 1/1 [00:04<00:00,  4.05s/it]\n"
     ]
    },
    {
     "name": "stdout",
     "output_type": "stream",
     "text": [
      "Epoch: 011, Average Loss: 0.5823\n",
      "Validation: {'precision': 0.7150880599079773, 'recall': 0.9527020785210598, 'f1': 0.8169683477764101, 'auc': 0.659335189925548, 'prauc': 0.8081233742306344}\n",
      "Test:       {'precision': 0.7219817219812258, 'recall': 0.9501718213049826, 'f1': 0.820506808571056, 'auc': 0.6714243393083634, 'prauc': 0.8193022962065666}\n"
     ]
    },
    {
     "name": "stderr",
     "output_type": "stream",
     "text": [
      "Training Batches: 100%|██████████| 1/1 [00:02<00:00,  2.27s/it]\n",
      "Running inference: 100%|██████████| 1/1 [00:04<00:00,  4.52s/it]\n",
      "Running inference: 100%|██████████| 1/1 [00:03<00:00,  3.58s/it]\n"
     ]
    },
    {
     "name": "stdout",
     "output_type": "stream",
     "text": [
      "Epoch: 012, Average Loss: 0.5797\n",
      "Validation: {'precision': 0.7159874608145482, 'recall': 0.9494688221700235, 'f1': 0.8163621873136632, 'auc': 0.6614997315040618, 'prauc': 0.8089141298841721}\n",
      "Test:       {'precision': 0.7243194569503884, 'recall': 0.9456502079933571, 'f1': 0.8203177044419606, 'auc': 0.6731328610719792, 'prauc': 0.8198860238451989}\n"
     ]
    },
    {
     "name": "stderr",
     "output_type": "stream",
     "text": [
      "Training Batches: 100%|██████████| 1/1 [00:02<00:00,  2.28s/it]\n",
      "Running inference: 100%|██████████| 1/1 [00:03<00:00,  3.97s/it]\n",
      "Running inference: 100%|██████████| 1/1 [00:04<00:00,  4.50s/it]\n"
     ]
    },
    {
     "name": "stdout",
     "output_type": "stream",
     "text": [
      "Epoch: 013, Average Loss: 0.5811\n",
      "Validation: {'precision': 0.7324185248708088, 'recall': 0.9072517321007785, 'f1': 0.8105141487245775, 'auc': 0.6664997617855586, 'prauc': 0.8105533872578166}\n",
      "Test:       {'precision': 0.7440143208765987, 'recall': 0.9020618556692873, 'f1': 0.8154506388222516, 'auc': 0.6789561896793697, 'prauc': 0.8215372457308224}\n"
     ]
    },
    {
     "name": "stderr",
     "output_type": "stream",
     "text": [
      "Training Batches: 100%|██████████| 1/1 [00:02<00:00,  2.70s/it]\n",
      "Running inference: 100%|██████████| 1/1 [00:04<00:00,  4.16s/it]\n",
      "Running inference: 100%|██████████| 1/1 [00:04<00:00,  4.12s/it]\n"
     ]
    },
    {
     "name": "stdout",
     "output_type": "stream",
     "text": [
      "Epoch: 014, Average Loss: 0.5773\n",
      "Validation: {'precision': 0.7493002798874455, 'recall': 0.8655889145488539, 'f1': 0.803257603254986, 'auc': 0.6699085195981849, 'prauc': 0.8116884305850528}\n",
      "Test:       {'precision': 0.7628148740497698, 'recall': 0.8626333875919129, 'f1': 0.8096592064937872, 'auc': 0.6832200323859686, 'prauc': 0.8228821455572606}\n"
     ]
    },
    {
     "name": "stderr",
     "output_type": "stream",
     "text": [
      "Training Batches: 100%|██████████| 1/1 [00:02<00:00,  2.28s/it]\n",
      "Running inference: 100%|██████████| 1/1 [00:04<00:00,  4.09s/it]\n",
      "Running inference: 100%|██████████| 1/1 [00:05<00:00,  5.00s/it]\n"
     ]
    },
    {
     "name": "stdout",
     "output_type": "stream",
     "text": [
      "Epoch: 015, Average Loss: 0.5759\n",
      "Validation: {'precision': 0.7614923384404051, 'recall': 0.8447113163964483, 'f1': 0.8009459942243876, 'auc': 0.6717534702595326, 'prauc': 0.812048988861586}\n",
      "Test:       {'precision': 0.7723258913689001, 'recall': 0.8383975402416002, 'f1': 0.8040065859365164, 'auc': 0.684612437589746, 'prauc': 0.8232455238033457}\n"
     ]
    },
    {
     "name": "stderr",
     "output_type": "stream",
     "text": [
      "Training Batches: 100%|██████████| 1/1 [00:01<00:00,  1.34s/it]\n",
      "Running inference: 100%|██████████| 1/1 [00:04<00:00,  4.52s/it]\n",
      "Running inference: 100%|██████████| 1/1 [00:04<00:00,  4.51s/it]\n"
     ]
    },
    {
     "name": "stdout",
     "output_type": "stream",
     "text": [
      "Epoch: 016, Average Loss: 0.5789\n",
      "Validation: {'precision': 0.7710864903495611, 'recall': 0.7972286374126584, 'f1': 0.7839396779729257, 'auc': 0.6720074613608101, 'prauc': 0.8121686395637299}\n",
      "Test:       {'precision': 0.781784020756212, 'recall': 0.7901971423396724, 'f1': 0.7859680633601289, 'auc': 0.6851245501822181, 'prauc': 0.8234929546224622}\n"
     ]
    },
    {
     "name": "stderr",
     "output_type": "stream",
     "text": [
      "Training Batches: 100%|██████████| 1/1 [00:02<00:00,  2.28s/it]\n",
      "Running inference: 100%|██████████| 1/1 [00:04<00:00,  4.53s/it]\n",
      "Running inference: 100%|██████████| 1/1 [00:03<00:00,  3.65s/it]\n"
     ]
    },
    {
     "name": "stdout",
     "output_type": "stream",
     "text": [
      "Epoch: 017, Average Loss: 0.5725\n",
      "Validation: {'precision': 0.7770570793172933, 'recall': 0.7746882217082912, 'f1': 0.7758708373918553, 'auc': 0.6718699833653644, 'prauc': 0.8123334016679487}\n",
      "Test:       {'precision': 0.7860051832647297, 'recall': 0.7679508048464749, 'f1': 0.7768731081643592, 'auc': 0.6853621256350919, 'prauc': 0.8237669542272231}\n"
     ]
    },
    {
     "name": "stderr",
     "output_type": "stream",
     "text": [
      "Training Batches: 100%|██████████| 1/1 [00:02<00:00,  2.26s/it]\n",
      "Running inference: 100%|██████████| 1/1 [00:04<00:00,  4.51s/it]\n",
      "Running inference: 100%|██████████| 1/1 [00:03<00:00,  3.57s/it]\n"
     ]
    },
    {
     "name": "stdout",
     "output_type": "stream",
     "text": [
      "Epoch: 018, Average Loss: 0.5722\n",
      "Validation: {'precision': 0.7773249351604508, 'recall': 0.7752424942256118, 'f1': 0.7762823131159369, 'auc': 0.6721849513073531, 'prauc': 0.8126236022218931}\n",
      "Test:       {'precision': 0.7861298365492786, 'recall': 0.7698498824373576, 'f1': 0.7779046872829269, 'auc': 0.6858997447641937, 'prauc': 0.8241784670533653}\n"
     ]
    },
    {
     "name": "stderr",
     "output_type": "stream",
     "text": [
      "Training Batches: 100%|██████████| 1/1 [00:02<00:00,  2.25s/it]\n",
      "Running inference: 100%|██████████| 1/1 [00:04<00:00,  4.01s/it]\n",
      "Running inference: 100%|██████████| 1/1 [00:04<00:00,  4.07s/it]\n"
     ]
    },
    {
     "name": "stdout",
     "output_type": "stream",
     "text": [
      "Epoch: 019, Average Loss: 0.5702\n",
      "Validation: {'precision': 0.7741585233434906, 'recall': 0.7903926096990388, 'f1': 0.7821913375056513, 'auc': 0.6729674453721799, 'prauc': 0.8130971111337866}\n",
      "Test:       {'precision': 0.7842304913287714, 'recall': 0.7852233676968844, 'f1': 0.7847266104534275, 'auc': 0.6868661293685989, 'prauc': 0.8246942971184713}\n"
     ]
    },
    {
     "name": "stderr",
     "output_type": "stream",
     "text": [
      "Training Batches: 100%|██████████| 1/1 [00:02<00:00,  2.72s/it]\n",
      "Running inference: 100%|██████████| 1/1 [00:04<00:00,  4.15s/it]\n",
      "Running inference: 100%|██████████| 1/1 [00:04<00:00,  4.08s/it]\n"
     ]
    },
    {
     "name": "stdout",
     "output_type": "stream",
     "text": [
      "Epoch: 020, Average Loss: 0.5698\n",
      "Validation: {'precision': 0.7718374155027901, 'recall': 0.812193995380312, 'f1': 0.79150161545626, 'auc': 0.6738815529159063, 'prauc': 0.8136115150177927}\n",
      "Test:       {'precision': 0.7808978873232562, 'recall': 0.8022246337485962, 'f1': 0.7914176058486267, 'auc': 0.6879289017281699, 'prauc': 0.8252139831090377}\n",
      "\n",
      "Early stopping triggered after 20 epochs (no improvement for 10 epochs).\n",
      "\n",
      "Best validation performance:\n",
      "{'precision': 0.7133898421881928, 'recall': 0.9563048498836431, 'f1': 0.8171771343536841, 'auc': 0.6580432298648234, 'prauc': 0.8074702951726465}\n",
      "Corresponding test performance:\n",
      "{'precision': 0.7198443579761623, 'recall': 0.9536082474218179, 'f1': 0.8203991081789674, 'auc': 0.670009469722869, 'prauc': 0.8187085353844865}\n",
      "Corresponding test-long performance:\n",
      "{'precision': 0.8876720022440672, 'recall': 0.9881212878993807, 'f1': 0.9352070956032873, 'auc': 0.5723564286211079, 'prauc': 0.907271163963736}\n",
      "[INFO] Random seed set to 946785248\n",
      "Training with seed: 946785248\n"
     ]
    },
    {
     "name": "stderr",
     "output_type": "stream",
     "text": [
      "Training Batches: 100%|██████████| 1/1 [00:01<00:00,  1.85s/it]\n",
      "Running inference: 100%|██████████| 1/1 [00:04<00:00,  4.61s/it]\n",
      "Running inference: 100%|██████████| 1/1 [00:03<00:00,  3.60s/it]\n"
     ]
    },
    {
     "name": "stdout",
     "output_type": "stream",
     "text": [
      "Epoch: 001, Average Loss: 0.6982\n",
      "Validation: {'precision': 0.7968472205750896, 'recall': 0.6210623556576248, 'f1': 0.6980583483104712, 'auc': 0.6618777959915374, 'prauc': 0.807583170353007}\n",
      "Test:       {'precision': 0.8086339444106343, 'recall': 0.6182854042316709, 'f1': 0.7007635885900253, 'auc': 0.676145565546904, 'prauc': 0.8214547245651065}\n"
     ]
    },
    {
     "name": "stderr",
     "output_type": "stream",
     "text": [
      "Training Batches: 100%|██████████| 1/1 [00:02<00:00,  2.30s/it]\n",
      "Running inference: 100%|██████████| 1/1 [00:04<00:00,  4.06s/it]\n",
      "Running inference: 100%|██████████| 1/1 [00:04<00:00,  4.10s/it]\n"
     ]
    },
    {
     "name": "stdout",
     "output_type": "stream",
     "text": [
      "Epoch: 002, Average Loss: 0.6784\n",
      "Validation: {'precision': 0.791334219857279, 'recall': 0.6596766743642867, 'f1': 0.719532465190069, 'auc': 0.6626411218688932, 'prauc': 0.8081617253485136}\n",
      "Test:       {'precision': 0.803242527847355, 'recall': 0.6586181949713703, 'f1': 0.723776392563746, 'auc': 0.6770043450692338, 'prauc': 0.821539661975603}\n"
     ]
    },
    {
     "name": "stderr",
     "output_type": "stream",
     "text": [
      "Training Batches: 100%|██████████| 1/1 [00:02<00:00,  2.32s/it]\n",
      "Running inference: 100%|██████████| 1/1 [00:04<00:00,  4.44s/it]\n",
      "Running inference: 100%|██████████| 1/1 [00:05<00:00,  5.04s/it]\n"
     ]
    },
    {
     "name": "stdout",
     "output_type": "stream",
     "text": [
      "Epoch: 003, Average Loss: 0.6617\n",
      "Validation: {'precision': 0.7884218529371255, 'recall': 0.6705773672049232, 'f1': 0.7247404103673591, 'auc': 0.6629721894733441, 'prauc': 0.808284473832207}\n",
      "Test:       {'precision': 0.800798101811043, 'recall': 0.6714595767763868, 'f1': 0.7304476094008804, 'auc': 0.6772692107326274, 'prauc': 0.8214702362920802}\n"
     ]
    },
    {
     "name": "stderr",
     "output_type": "stream",
     "text": [
      "Training Batches: 100%|██████████| 1/1 [00:01<00:00,  1.32s/it]\n",
      "Running inference: 100%|██████████| 1/1 [00:04<00:00,  4.47s/it]\n",
      "Running inference: 100%|██████████| 1/1 [00:04<00:00,  4.06s/it]\n"
     ]
    },
    {
     "name": "stdout",
     "output_type": "stream",
     "text": [
      "Epoch: 004, Average Loss: 0.6458\n",
      "Validation: {'precision': 0.7865240641702818, 'recall': 0.6793533487291645, 'f1': 0.7290210607013436, 'auc': 0.6633883581776191, 'prauc': 0.808491206748416}\n",
      "Test:       {'precision': 0.7989373007430404, 'recall': 0.6798697775360102, 'f1': 0.7346101181507113, 'auc': 0.6776222592512922, 'prauc': 0.8215007995104098}\n"
     ]
    },
    {
     "name": "stderr",
     "output_type": "stream",
     "text": [
      "Training Batches: 100%|██████████| 1/1 [00:01<00:00,  1.81s/it]\n",
      "Running inference: 100%|██████████| 1/1 [00:04<00:00,  4.57s/it]\n",
      "Running inference: 100%|██████████| 1/1 [00:04<00:00,  4.16s/it]\n"
     ]
    },
    {
     "name": "stdout",
     "output_type": "stream",
     "text": [
      "Epoch: 005, Average Loss: 0.6302\n",
      "Validation: {'precision': 0.7862134688682907, 'recall': 0.6859122401841238, 'f1': 0.7326459074996698, 'auc': 0.6639519069267915, 'prauc': 0.8088926038821179}\n",
      "Test:       {'precision': 0.798004201679834, 'recall': 0.6870139265683785, 'f1': 0.7383613518160164, 'auc': 0.6782070763733883, 'prauc': 0.8216303508880809}\n"
     ]
    },
    {
     "name": "stderr",
     "output_type": "stream",
     "text": [
      "Training Batches: 100%|██████████| 1/1 [00:01<00:00,  1.33s/it]\n",
      "Running inference: 100%|██████████| 1/1 [00:04<00:00,  4.56s/it]\n",
      "Running inference: 100%|██████████| 1/1 [00:04<00:00,  4.10s/it]\n"
     ]
    },
    {
     "name": "stdout",
     "output_type": "stream",
     "text": [
      "Epoch: 006, Average Loss: 0.6140\n",
      "Validation: {'precision': 0.7850799289512223, 'recall': 0.6941339491910447, 'f1': 0.7368111344572836, 'auc': 0.6646593836302266, 'prauc': 0.80933509203841}\n",
      "Test:       {'precision': 0.7977586385796432, 'recall': 0.6952432627955369, 'f1': 0.7429813914954335, 'auc': 0.6789435255947491, 'prauc': 0.8217877834872226}\n"
     ]
    },
    {
     "name": "stderr",
     "output_type": "stream",
     "text": [
      "Training Batches: 100%|██████████| 1/1 [00:01<00:00,  1.83s/it]\n",
      "Running inference: 100%|██████████| 1/1 [00:04<00:00,  4.60s/it]\n",
      "Running inference: 100%|██████████| 1/1 [00:04<00:00,  4.20s/it]\n"
     ]
    },
    {
     "name": "stdout",
     "output_type": "stream",
     "text": [
      "Epoch: 007, Average Loss: 0.6010\n",
      "Validation: {'precision': 0.7841873785406728, 'recall': 0.7082678983827175, 'f1': 0.7442966652384073, 'auc': 0.6654584416737996, 'prauc': 0.8098013024056213}\n",
      "Test:       {'precision': 0.7956574675316602, 'recall': 0.7091698317953434, 'f1': 0.7499282727245107, 'auc': 0.6796728896670464, 'prauc': 0.8219997244412705}\n"
     ]
    },
    {
     "name": "stderr",
     "output_type": "stream",
     "text": [
      "Training Batches: 100%|██████████| 1/1 [00:01<00:00,  1.32s/it]\n",
      "Running inference: 100%|██████████| 1/1 [00:04<00:00,  4.52s/it]\n",
      "Running inference: 100%|██████████| 1/1 [00:04<00:00,  4.14s/it]\n"
     ]
    },
    {
     "name": "stdout",
     "output_type": "stream",
     "text": [
      "Epoch: 008, Average Loss: 0.5912\n",
      "Validation: {'precision': 0.7724461105897165, 'recall': 0.7613856812925991, 'f1': 0.7668760126780764, 'auc': 0.6653972326749463, 'prauc': 0.8099317641187344}\n",
      "Test:       {'precision': 0.7837334822252151, 'recall': 0.7616205462101993, 'f1': 0.7725187988895098, 'auc': 0.679396013932792, 'prauc': 0.8219780283887854}\n"
     ]
    },
    {
     "name": "stderr",
     "output_type": "stream",
     "text": [
      "Training Batches: 100%|██████████| 1/1 [00:01<00:00,  1.77s/it]\n",
      "Running inference: 100%|██████████| 1/1 [00:04<00:00,  4.49s/it]\n",
      "Running inference: 100%|██████████| 1/1 [00:04<00:00,  4.13s/it]\n"
     ]
    },
    {
     "name": "stdout",
     "output_type": "stream",
     "text": [
      "Epoch: 009, Average Loss: 0.5849\n",
      "Validation: {'precision': 0.739537444933339, 'recall': 0.8684526558883432, 'f1': 0.7988273732019987, 'auc': 0.6621891907169043, 'prauc': 0.8091847518574002}\n",
      "Test:       {'precision': 0.7482555434945354, 'recall': 0.8727618014099541, 'f1': 0.8057271615006893, 'auc': 0.6757092590947649, 'prauc': 0.8210435387483671}\n"
     ]
    },
    {
     "name": "stderr",
     "output_type": "stream",
     "text": [
      "Training Batches: 100%|██████████| 1/1 [00:01<00:00,  1.87s/it]\n",
      "Running inference: 100%|██████████| 1/1 [00:04<00:00,  4.12s/it]\n",
      "Running inference: 100%|██████████| 1/1 [00:04<00:00,  4.21s/it]\n"
     ]
    },
    {
     "name": "stdout",
     "output_type": "stream",
     "text": [
      "Epoch: 010, Average Loss: 0.5828\n",
      "Validation: {'precision': 0.7177373507669714, 'recall': 0.9330254041561818, 'f1': 0.8113427271404626, 'auc': 0.6565297202797202, 'prauc': 0.807792127700652}\n",
      "Test:       {'precision': 0.7262063636997076, 'recall': 0.9349792005779209, 'f1': 0.8174738041314998, 'auc': 0.6690992807553042, 'prauc': 0.8193411195195117}\n"
     ]
    },
    {
     "name": "stderr",
     "output_type": "stream",
     "text": [
      "Training Batches: 100%|██████████| 1/1 [00:01<00:00,  1.81s/it]\n",
      "Running inference: 100%|██████████| 1/1 [00:04<00:00,  4.61s/it]\n",
      "Running inference: 100%|██████████| 1/1 [00:04<00:00,  4.59s/it]\n"
     ]
    },
    {
     "name": "stdout",
     "output_type": "stream",
     "text": [
      "Epoch: 011, Average Loss: 0.5815\n",
      "Validation: {'precision': 0.7137678633665292, 'recall': 0.9458660508074402, 'f1': 0.8135875993879647, 'auc': 0.6533279364976824, 'prauc': 0.8070745338841577}\n",
      "Test:       {'precision': 0.7200165425966915, 'recall': 0.9446554530647995, 'f1': 0.8171790610373721, 'auc': 0.6651983562295624, 'prauc': 0.8184125781450017}\n"
     ]
    },
    {
     "name": "stderr",
     "output_type": "stream",
     "text": [
      "Training Batches: 100%|██████████| 1/1 [00:01<00:00,  1.34s/it]\n",
      "Running inference: 100%|██████████| 1/1 [00:04<00:00,  4.54s/it]\n",
      "Running inference: 100%|██████████| 1/1 [00:04<00:00,  4.50s/it]\n"
     ]
    },
    {
     "name": "stdout",
     "output_type": "stream",
     "text": [
      "Epoch: 012, Average Loss: 0.5803\n",
      "Validation: {'precision': 0.7164835164830085, 'recall': 0.9335796766735024, 'f1': 0.810750095366687, 'auc': 0.6537492934317415, 'prauc': 0.8073440370087515}\n",
      "Test:       {'precision': 0.7223120736933251, 'recall': 0.9289202387403428, 'f1': 0.8126903704880564, 'auc': 0.6652853301503079, 'prauc': 0.8185294202925872}\n"
     ]
    },
    {
     "name": "stderr",
     "output_type": "stream",
     "text": [
      "Training Batches: 100%|██████████| 1/1 [00:01<00:00,  1.81s/it]\n",
      "Running inference: 100%|██████████| 1/1 [00:04<00:00,  4.01s/it]\n",
      "Running inference: 100%|██████████| 1/1 [00:04<00:00,  4.15s/it]\n"
     ]
    },
    {
     "name": "stdout",
     "output_type": "stream",
     "text": [
      "Epoch: 013, Average Loss: 0.5795\n",
      "Validation: {'precision': 0.7336075298578394, 'recall': 0.8568129330246126, 'f1': 0.7904380383223271, 'auc': 0.6573737261583682, 'prauc': 0.8083848982796542}\n",
      "Test:       {'precision': 0.7455120601022178, 'recall': 0.8525049737738718, 'f1': 0.7954267342530638, 'auc': 0.670075287289417, 'prauc': 0.8199055217289943}\n"
     ]
    },
    {
     "name": "stderr",
     "output_type": "stream",
     "text": [
      "Training Batches: 100%|██████████| 1/1 [00:02<00:00,  2.71s/it]\n",
      "Running inference: 100%|██████████| 1/1 [00:04<00:00,  4.17s/it]\n",
      "Running inference: 100%|██████████| 1/1 [00:04<00:00,  4.14s/it]\n"
     ]
    },
    {
     "name": "stdout",
     "output_type": "stream",
     "text": [
      "Epoch: 014, Average Loss: 0.5775\n",
      "Validation: {'precision': 0.7728599679811914, 'recall': 0.7581524249415629, 'f1': 0.7654355480682049, 'auc': 0.6633728035820992, 'prauc': 0.8100989625455868}\n",
      "Test:       {'precision': 0.781156156155423, 'recall': 0.7527581841194133, 'f1': 0.7666942936101998, 'auc': 0.6776803772922141, 'prauc': 0.8220107570274422}\n"
     ]
    },
    {
     "name": "stderr",
     "output_type": "stream",
     "text": [
      "Training Batches: 100%|██████████| 1/1 [00:01<00:00,  1.84s/it]\n",
      "Running inference: 100%|██████████| 1/1 [00:04<00:00,  4.19s/it]\n",
      "Running inference: 100%|██████████| 1/1 [00:04<00:00,  4.22s/it]\n"
     ]
    },
    {
     "name": "stdout",
     "output_type": "stream",
     "text": [
      "Epoch: 015, Average Loss: 0.5758\n",
      "Validation: {'precision': 0.7809005154130303, 'recall': 0.7418013856806079, 'f1': 0.760848962218797, 'auc': 0.6680461570761802, 'prauc': 0.8116155349752621}\n",
      "Test:       {'precision': 0.791909762737464, 'recall': 0.7364803761975615, 'f1': 0.7631899490870155, 'auc': 0.6826683618703319, 'prauc': 0.8236273803339345}\n"
     ]
    },
    {
     "name": "stderr",
     "output_type": "stream",
     "text": [
      "Training Batches: 100%|██████████| 1/1 [00:01<00:00,  1.82s/it]\n",
      "Running inference: 100%|██████████| 1/1 [00:04<00:00,  4.66s/it]\n",
      "Running inference: 100%|██████████| 1/1 [00:04<00:00,  4.66s/it]\n"
     ]
    },
    {
     "name": "stdout",
     "output_type": "stream",
     "text": [
      "Epoch: 016, Average Loss: 0.5769\n",
      "Validation: {'precision': 0.7830441249372503, 'recall': 0.7295150115466701, 'f1': 0.75533237185872, 'auc': 0.6692815815823899, 'prauc': 0.8120616990338103}\n",
      "Test:       {'precision': 0.7938583457149144, 'recall': 0.7247241815873352, 'f1': 0.7577175764401763, 'auc': 0.6841175077224162, 'prauc': 0.8241385061607032}\n"
     ]
    },
    {
     "name": "stderr",
     "output_type": "stream",
     "text": [
      "Training Batches: 100%|██████████| 1/1 [00:01<00:00,  1.34s/it]\n",
      "Running inference: 100%|██████████| 1/1 [00:04<00:00,  4.54s/it]\n",
      "Running inference: 100%|██████████| 1/1 [00:04<00:00,  4.65s/it]\n"
     ]
    },
    {
     "name": "stdout",
     "output_type": "stream",
     "text": [
      "Epoch: 017, Average Loss: 0.5730\n",
      "Validation: {'precision': 0.7834165834158007, 'recall': 0.7244341801378988, 'f1': 0.7527717732646674, 'auc': 0.6698705466012048, 'prauc': 0.8123461840321995}\n",
      "Test:       {'precision': 0.7951843340985161, 'recall': 0.7197504069445471, 'f1': 0.7555893053074029, 'auc': 0.6849206366193719, 'prauc': 0.8244126939386636}\n"
     ]
    },
    {
     "name": "stderr",
     "output_type": "stream",
     "text": [
      "Training Batches: 100%|██████████| 1/1 [00:01<00:00,  1.35s/it]\n",
      "Running inference: 100%|██████████| 1/1 [00:04<00:00,  4.49s/it]\n",
      "Running inference: 100%|██████████| 1/1 [00:04<00:00,  4.68s/it]\n"
     ]
    },
    {
     "name": "stdout",
     "output_type": "stream",
     "text": [
      "Epoch: 018, Average Loss: 0.5706\n",
      "Validation: {'precision': 0.7850947962880344, 'recall': 0.7191685912233541, 'f1': 0.7506870399922462, 'auc': 0.6701800739676028, 'prauc': 0.8124829454421583}\n",
      "Test:       {'precision': 0.7965092816779695, 'recall': 0.7139627419056664, 'f1': 0.7529804432736329, 'auc': 0.6854620113729425, 'prauc': 0.8245367170051847}\n"
     ]
    },
    {
     "name": "stderr",
     "output_type": "stream",
     "text": [
      "Training Batches: 100%|██████████| 1/1 [00:01<00:00,  1.83s/it]\n",
      "Running inference: 100%|██████████| 1/1 [00:04<00:00,  4.07s/it]\n",
      "Running inference: 100%|██████████| 1/1 [00:04<00:00,  4.17s/it]\n"
     ]
    },
    {
     "name": "stdout",
     "output_type": "stream",
     "text": [
      "Epoch: 019, Average Loss: 0.5714\n",
      "Validation: {'precision': 0.7844173982434313, 'recall': 0.7263741339485206, 'f1': 0.7542807758594552, 'auc': 0.6713221910883573, 'prauc': 0.81294903541219}\n",
      "Test:       {'precision': 0.7958387516246915, 'recall': 0.7194791101458495, 'f1': 0.7557349748267497, 'auc': 0.6867876179895325, 'prauc': 0.8251191408136673}\n"
     ]
    },
    {
     "name": "stderr",
     "output_type": "stream",
     "text": [
      "Training Batches: 100%|██████████| 1/1 [00:02<00:00,  2.71s/it]\n",
      "Running inference: 100%|██████████| 1/1 [00:04<00:00,  4.08s/it]\n",
      "Running inference: 100%|██████████| 1/1 [00:04<00:00,  4.18s/it]\n"
     ]
    },
    {
     "name": "stdout",
     "output_type": "stream",
     "text": [
      "Epoch: 020, Average Loss: 0.5699\n",
      "Validation: {'precision': 0.7846350078485237, 'recall': 0.7387528868353452, 'f1': 0.7610029925772045, 'auc': 0.6729156640126617, 'prauc': 0.8137312267368945}\n",
      "Test:       {'precision': 0.7942800788946801, 'recall': 0.7283414722366356, 'f1': 0.7598830028395875, 'auc': 0.6880452071751095, 'prauc': 0.8257680534282741}\n"
     ]
    },
    {
     "name": "stderr",
     "output_type": "stream",
     "text": [
      "Training Batches: 100%|██████████| 1/1 [00:01<00:00,  1.83s/it]\n",
      "Running inference: 100%|██████████| 1/1 [00:04<00:00,  4.12s/it]\n",
      "Running inference: 100%|██████████| 1/1 [00:04<00:00,  4.15s/it]\n"
     ]
    },
    {
     "name": "stdout",
     "output_type": "stream",
     "text": [
      "Epoch: 021, Average Loss: 0.5683\n",
      "Validation: {'precision': 0.7835502039223309, 'recall': 0.7454041570431913, 'f1': 0.7640013205716736, 'auc': 0.6744725367011741, 'prauc': 0.8143027936737189}\n",
      "Test:       {'precision': 0.7923114355223432, 'recall': 0.7362090793988639, 'f1': 0.7632306704853247, 'auc': 0.6887415435525401, 'prauc': 0.8259931516912309}\n",
      "\n",
      "Early stopping triggered after 21 epochs (no improvement for 10 epochs).\n",
      "\n",
      "Best validation performance:\n",
      "{'precision': 0.7137678633665292, 'recall': 0.9458660508074402, 'f1': 0.8135875993879647, 'auc': 0.6533279364976824, 'prauc': 0.8070745338841577}\n",
      "Corresponding test performance:\n",
      "{'precision': 0.7200165425966915, 'recall': 0.9446554530647995, 'f1': 0.8171790610373721, 'auc': 0.6651983562295624, 'prauc': 0.8184125781450017}\n",
      "Corresponding test-long performance:\n",
      "{'precision': 0.8877321328056057, 'recall': 0.9862457017787238, 'f1': 0.9343995211475822, 'auc': 0.5673854375335814, 'prauc': 0.9059060956191318}\n",
      "[INFO] Random seed set to 2530876844\n",
      "Training with seed: 2530876844\n"
     ]
    },
    {
     "name": "stderr",
     "output_type": "stream",
     "text": [
      "Training Batches: 100%|██████████| 1/1 [00:01<00:00,  1.82s/it]\n",
      "Running inference: 100%|██████████| 1/1 [00:04<00:00,  4.53s/it]\n",
      "Running inference: 100%|██████████| 1/1 [00:04<00:00,  4.63s/it]\n"
     ]
    },
    {
     "name": "stdout",
     "output_type": "stream",
     "text": [
      "Epoch: 001, Average Loss: 0.6921\n",
      "Validation: {'precision': 0.7880189288010453, 'recall': 0.6768591224012223, 'f1': 0.7282214331834124, 'auc': 0.6619034747008188, 'prauc': 0.8056806301875081}\n",
      "Test:       {'precision': 0.8000638773546257, 'recall': 0.6795984807373127, 'f1': 0.734927382446241, 'auc': 0.6753994151214402, 'prauc': 0.818566976356898}\n"
     ]
    },
    {
     "name": "stderr",
     "output_type": "stream",
     "text": [
      "Training Batches: 100%|██████████| 1/1 [00:01<00:00,  1.83s/it]\n",
      "Running inference: 100%|██████████| 1/1 [00:04<00:00,  4.04s/it]\n",
      "Running inference: 100%|██████████| 1/1 [00:04<00:00,  4.03s/it]\n"
     ]
    },
    {
     "name": "stdout",
     "output_type": "stream",
     "text": [
      "Epoch: 002, Average Loss: 0.6745\n",
      "Validation: {'precision': 0.7831981103001097, 'recall': 0.7044803695143607, 'f1': 0.7417566334725715, 'auc': 0.6614015891729517, 'prauc': 0.8055745490202308}\n",
      "Test:       {'precision': 0.794123669122856, 'recall': 0.7014830891655801, 'f1': 0.7449342118627977, 'auc': 0.6751911910133594, 'prauc': 0.8183992570862708}\n"
     ]
    },
    {
     "name": "stderr",
     "output_type": "stream",
     "text": [
      "Training Batches: 100%|██████████| 1/1 [00:02<00:00,  2.74s/it]\n",
      "Running inference: 100%|██████████| 1/1 [00:04<00:00,  4.13s/it]\n",
      "Running inference: 100%|██████████| 1/1 [00:04<00:00,  4.09s/it]\n"
     ]
    },
    {
     "name": "stdout",
     "output_type": "stream",
     "text": [
      "Epoch: 003, Average Loss: 0.6577\n",
      "Validation: {'precision': 0.7800080289032717, 'recall': 0.7179676674358263, 'f1': 0.7477031072306672, 'auc': 0.6617482214667549, 'prauc': 0.806045361163565}\n",
      "Test:       {'precision': 0.791374824894145, 'recall': 0.7152287936329216, 'f1': 0.7513775363382982, 'auc': 0.6754820685876518, 'prauc': 0.8186175081346853}\n"
     ]
    },
    {
     "name": "stderr",
     "output_type": "stream",
     "text": [
      "Training Batches: 100%|██████████| 1/1 [00:01<00:00,  1.84s/it]\n",
      "Running inference: 100%|██████████| 1/1 [00:04<00:00,  4.07s/it]\n",
      "Running inference: 100%|██████████| 1/1 [00:04<00:00,  4.08s/it]\n"
     ]
    },
    {
     "name": "stdout",
     "output_type": "stream",
     "text": [
      "Epoch: 004, Average Loss: 0.6421\n",
      "Validation: {'precision': 0.7788385826763987, 'recall': 0.7309930715928582, 'f1': 0.7541577267174306, 'auc': 0.6627360442675108, 'prauc': 0.8068571478439593}\n",
      "Test:       {'precision': 0.7901960784305978, 'recall': 0.7288840658340306, 'f1': 0.7583027516167082, 'auc': 0.6765169561787395, 'prauc': 0.8193152209964079}\n"
     ]
    },
    {
     "name": "stderr",
     "output_type": "stream",
     "text": [
      "Training Batches: 100%|██████████| 1/1 [00:01<00:00,  1.83s/it]\n",
      "Running inference: 100%|██████████| 1/1 [00:04<00:00,  4.48s/it]\n",
      "Running inference: 100%|██████████| 1/1 [00:04<00:00,  4.62s/it]\n"
     ]
    },
    {
     "name": "stdout",
     "output_type": "stream",
     "text": [
      "Epoch: 005, Average Loss: 0.6265\n",
      "Validation: {'precision': 0.7787593437522776, 'recall': 0.741062355657514, 'f1': 0.7594433349625956, 'auc': 0.6637050622587575, 'prauc': 0.8076635715702589}\n",
      "Test:       {'precision': 0.7895193977988906, 'recall': 0.7398263700481643, 'f1': 0.7638655412230531, 'auc': 0.6775380698436753, 'prauc': 0.8199449922809308}\n"
     ]
    },
    {
     "name": "stderr",
     "output_type": "stream",
     "text": [
      "Training Batches: 100%|██████████| 1/1 [00:01<00:00,  1.32s/it]\n",
      "Running inference: 100%|██████████| 1/1 [00:04<00:00,  4.49s/it]\n",
      "Running inference: 100%|██████████| 1/1 [00:04<00:00,  4.60s/it]\n"
     ]
    },
    {
     "name": "stdout",
     "output_type": "stream",
     "text": [
      "Epoch: 006, Average Loss: 0.6123\n",
      "Validation: {'precision': 0.7760397152484301, 'recall': 0.7653579676667294, 'f1': 0.7706618246818636, 'auc': 0.6648733526865743, 'prauc': 0.808406865823714}\n",
      "Test:       {'precision': 0.784843124475575, 'recall': 0.7623440043400593, 'f1': 0.7734299688523594, 'auc': 0.6788931665352496, 'prauc': 0.8205585434082014}\n"
     ]
    },
    {
     "name": "stderr",
     "output_type": "stream",
     "text": [
      "Training Batches: 100%|██████████| 1/1 [00:01<00:00,  1.33s/it]\n",
      "Running inference: 100%|██████████| 1/1 [00:04<00:00,  4.45s/it]\n",
      "Running inference: 100%|██████████| 1/1 [00:04<00:00,  4.62s/it]\n"
     ]
    },
    {
     "name": "stdout",
     "output_type": "stream",
     "text": [
      "Epoch: 007, Average Loss: 0.6000\n",
      "Validation: {'precision': 0.7614702370793437, 'recall': 0.8248498845257969, 'f1': 0.7918939243230524, 'auc': 0.6660087069397116, 'prauc': 0.8090471089865563}\n",
      "Test:       {'precision': 0.7704505411521348, 'recall': 0.8304395008131393, 'f1': 0.7993210551969506, 'auc': 0.6801046081135679, 'prauc': 0.8210500665861333}\n"
     ]
    },
    {
     "name": "stderr",
     "output_type": "stream",
     "text": [
      "Training Batches: 100%|██████████| 1/1 [00:01<00:00,  1.82s/it]\n",
      "Running inference: 100%|██████████| 1/1 [00:03<00:00,  3.99s/it]\n",
      "Running inference: 100%|██████████| 1/1 [00:04<00:00,  4.06s/it]\n"
     ]
    },
    {
     "name": "stdout",
     "output_type": "stream",
     "text": [
      "Epoch: 008, Average Loss: 0.5909\n",
      "Validation: {'precision': 0.7390738614613555, 'recall': 0.8920092378744646, 'f1': 0.8083716986849719, 'auc': 0.666066837319724, 'prauc': 0.8092895985522802}\n",
      "Test:       {'precision': 0.7485520872502831, 'recall': 0.8999819135459396, 'f1': 0.8173120305196927, 'auc': 0.6804892078414901, 'prauc': 0.8212707130350063}\n"
     ]
    },
    {
     "name": "stderr",
     "output_type": "stream",
     "text": [
      "Training Batches: 100%|██████████| 1/1 [00:02<00:00,  2.72s/it]\n",
      "Running inference: 100%|██████████| 1/1 [00:04<00:00,  4.02s/it]\n",
      "Running inference: 100%|██████████| 1/1 [00:04<00:00,  4.20s/it]\n"
     ]
    },
    {
     "name": "stdout",
     "output_type": "stream",
     "text": [
      "Epoch: 009, Average Loss: 0.5847\n",
      "Validation: {'precision': 0.7231416749887836, 'recall': 0.9364434180129917, 'f1': 0.8160850089691508, 'auc': 0.6644373395080669, 'prauc': 0.809027068617705}\n",
      "Test:       {'precision': 0.7318651938361135, 'recall': 0.940676433350569, 'f1': 0.8232361155315576, 'auc': 0.6792297557076277, 'prauc': 0.8210936766061577}\n"
     ]
    },
    {
     "name": "stderr",
     "output_type": "stream",
     "text": [
      "Training Batches: 100%|██████████| 1/1 [00:01<00:00,  1.85s/it]\n",
      "Running inference: 100%|██████████| 1/1 [00:04<00:00,  4.06s/it]\n",
      "Running inference: 100%|██████████| 1/1 [00:04<00:00,  4.09s/it]\n"
     ]
    },
    {
     "name": "stdout",
     "output_type": "stream",
     "text": [
      "Epoch: 010, Average Loss: 0.5822\n",
      "Validation: {'precision': 0.7174984382586815, 'recall': 0.9549191685903418, 'f1': 0.819356367959978, 'auc': 0.6633710573491174, 'prauc': 0.808924344050457}\n",
      "Test:       {'precision': 0.7250034195043599, 'recall': 0.9586724543308386, 'f1': 0.8256230480551651, 'auc': 0.6780687921004017, 'prauc': 0.8209021853798126}\n"
     ]
    },
    {
     "name": "stderr",
     "output_type": "stream",
     "text": [
      "Training Batches: 100%|██████████| 1/1 [00:01<00:00,  1.83s/it]\n",
      "Running inference: 100%|██████████| 1/1 [00:04<00:00,  4.46s/it]\n",
      "Running inference: 100%|██████████| 1/1 [00:04<00:00,  4.62s/it]\n"
     ]
    },
    {
     "name": "stdout",
     "output_type": "stream",
     "text": [
      "Epoch: 011, Average Loss: 0.5812\n",
      "Validation: {'precision': 0.7161650251389791, 'recall': 0.9605542725164335, 'f1': 0.8205492375298166, 'auc': 0.6631663948061177, 'prauc': 0.8089861378867558}\n",
      "Test:       {'precision': 0.7243397767487583, 'recall': 0.9623801772463715, 'f1': 0.8265631018950577, 'auc': 0.6777668854758883, 'prauc': 0.8209514424436257}\n"
     ]
    },
    {
     "name": "stderr",
     "output_type": "stream",
     "text": [
      "Training Batches: 100%|██████████| 1/1 [00:01<00:00,  1.32s/it]\n",
      "Running inference: 100%|██████████| 1/1 [00:04<00:00,  4.43s/it]\n",
      "Running inference: 100%|██████████| 1/1 [00:04<00:00,  4.57s/it]\n"
     ]
    },
    {
     "name": "stdout",
     "output_type": "stream",
     "text": [
      "Epoch: 012, Average Loss: 0.5817\n",
      "Validation: {'precision': 0.7250360750355519, 'recall': 0.9283140877589576, 'f1': 0.8141786460775561, 'auc': 0.6653896824884122, 'prauc': 0.8097040711308665}\n",
      "Test:       {'precision': 0.7351559162745727, 'recall': 0.9338035811168983, 'f1': 0.82265773885603, 'auc': 0.6804562197838211, 'prauc': 0.8218102659839167}\n"
     ]
    },
    {
     "name": "stderr",
     "output_type": "stream",
     "text": [
      "Training Batches: 100%|██████████| 1/1 [00:01<00:00,  1.34s/it]\n",
      "Running inference: 100%|██████████| 1/1 [00:04<00:00,  4.48s/it]\n",
      "Running inference: 100%|██████████| 1/1 [00:04<00:00,  4.57s/it]\n"
     ]
    },
    {
     "name": "stdout",
     "output_type": "stream",
     "text": [
      "Epoch: 013, Average Loss: 0.5783\n",
      "Validation: {'precision': 0.742168114143345, 'recall': 0.8841570438790908, 'f1': 0.8069642882797067, 'auc': 0.6672420723041392, 'prauc': 0.8103424316137581}\n",
      "Test:       {'precision': 0.753031465847465, 'recall': 0.8873213962733881, 'f1': 0.8146795035017814, 'auc': 0.6826582543849542, 'prauc': 0.8225654735967516}\n"
     ]
    },
    {
     "name": "stderr",
     "output_type": "stream",
     "text": [
      "Training Batches: 100%|██████████| 1/1 [00:01<00:00,  1.84s/it]\n",
      "Running inference: 100%|██████████| 1/1 [00:04<00:00,  4.07s/it]\n",
      "Running inference: 100%|██████████| 1/1 [00:04<00:00,  4.04s/it]\n"
     ]
    },
    {
     "name": "stdout",
     "output_type": "stream",
     "text": [
      "Epoch: 014, Average Loss: 0.5771\n",
      "Validation: {'precision': 0.758750313256404, 'recall': 0.8390762124703565, 'f1': 0.7968941869754396, 'auc': 0.6685298030491449, 'prauc': 0.8107353659027405}\n",
      "Test:       {'precision': 0.7703293981666223, 'recall': 0.8438234762155509, 'f1': 0.8054033008661287, 'auc': 0.684065057800745, 'prauc': 0.8231056400043965}\n"
     ]
    },
    {
     "name": "stderr",
     "output_type": "stream",
     "text": [
      "Training Batches: 100%|██████████| 1/1 [00:02<00:00,  2.70s/it]\n",
      "Running inference: 100%|██████████| 1/1 [00:04<00:00,  4.14s/it]\n",
      "Running inference: 100%|██████████| 1/1 [00:04<00:00,  4.16s/it]\n"
     ]
    },
    {
     "name": "stdout",
     "output_type": "stream",
     "text": [
      "Epoch: 015, Average Loss: 0.5798\n",
      "Validation: {'precision': 0.7637876318717182, 'recall': 0.8226327944565148, 'f1': 0.7921188350702204, 'auc': 0.6699112247452317, 'prauc': 0.8112963839986413}\n",
      "Test:       {'precision': 0.775655716831529, 'recall': 0.8263700488326764, 'f1': 0.8002101618242232, 'auc': 0.6848655904612609, 'prauc': 0.8234147402308627}\n"
     ]
    },
    {
     "name": "stderr",
     "output_type": "stream",
     "text": [
      "Training Batches: 100%|██████████| 1/1 [00:01<00:00,  1.87s/it]\n",
      "Running inference: 100%|██████████| 1/1 [00:04<00:00,  4.11s/it]\n",
      "Running inference: 100%|██████████| 1/1 [00:04<00:00,  4.13s/it]\n"
     ]
    },
    {
     "name": "stdout",
     "output_type": "stream",
     "text": [
      "Epoch: 016, Average Loss: 0.5735\n",
      "Validation: {'precision': 0.7705458107018337, 'recall': 0.7994457274819404, 'f1': 0.7847297737459954, 'auc': 0.670703772266994, 'prauc': 0.8116071992565829}\n",
      "Test:       {'precision': 0.7808666490152847, 'recall': 0.8001446916252485, 'f1': 0.7903881320316153, 'auc': 0.6851955899495445, 'prauc': 0.8235277056052807}\n"
     ]
    },
    {
     "name": "stderr",
     "output_type": "stream",
     "text": [
      "Training Batches: 100%|██████████| 1/1 [00:01<00:00,  1.81s/it]\n",
      "Running inference: 100%|██████████| 1/1 [00:04<00:00,  4.49s/it]\n",
      "Running inference: 100%|██████████| 1/1 [00:04<00:00,  4.64s/it]\n"
     ]
    },
    {
     "name": "stdout",
     "output_type": "stream",
     "text": [
      "Epoch: 017, Average Loss: 0.5715\n",
      "Validation: {'precision': 0.7741089198473184, 'recall': 0.7904849884519256, 'f1': 0.7822112477993207, 'auc': 0.6714569538429238, 'prauc': 0.8119021368760398}\n",
      "Test:       {'precision': 0.7840827338122445, 'recall': 0.7884789292812547, 'f1': 0.7862746816257166, 'auc': 0.6856249103456138, 'prauc': 0.8237487611649253}\n"
     ]
    },
    {
     "name": "stderr",
     "output_type": "stream",
     "text": [
      "Training Batches: 100%|██████████| 1/1 [00:01<00:00,  1.32s/it]\n",
      "Running inference: 100%|██████████| 1/1 [00:04<00:00,  4.59s/it]\n",
      "Running inference: 100%|██████████| 1/1 [00:04<00:00,  4.69s/it]\n"
     ]
    },
    {
     "name": "stdout",
     "output_type": "stream",
     "text": [
      "Epoch: 018, Average Loss: 0.5717\n",
      "Validation: {'precision': 0.7757503877376373, 'recall': 0.7854965357960411, 'f1': 0.7805930364022139, 'auc': 0.6720958328622879, 'prauc': 0.8122158227959714}\n",
      "Test:       {'precision': 0.7850213074614334, 'recall': 0.7829625610410716, 'f1': 0.7839905776950021, 'auc': 0.6862347583579689, 'prauc': 0.8241232607288498}\n"
     ]
    },
    {
     "name": "stderr",
     "output_type": "stream",
     "text": [
      "Training Batches: 100%|██████████| 1/1 [00:01<00:00,  1.31s/it]\n",
      "Running inference: 100%|██████████| 1/1 [00:04<00:00,  4.46s/it]\n",
      "Running inference: 100%|██████████| 1/1 [00:04<00:00,  4.65s/it]\n"
     ]
    },
    {
     "name": "stdout",
     "output_type": "stream",
     "text": [
      "Epoch: 019, Average Loss: 0.5708\n",
      "Validation: {'precision': 0.7762340036555976, 'recall': 0.7844803695142868, 'f1': 0.7803353958723838, 'auc': 0.672785695828421, 'prauc': 0.812551523107972}\n",
      "Test:       {'precision': 0.7855715064503129, 'recall': 0.7818773738462815, 'f1': 0.7837200820188968, 'auc': 0.6870527710226084, 'prauc': 0.8245423379237952}\n"
     ]
    },
    {
     "name": "stderr",
     "output_type": "stream",
     "text": [
      "Training Batches: 100%|██████████| 1/1 [00:01<00:00,  1.84s/it]\n",
      "Running inference: 100%|██████████| 1/1 [00:04<00:00,  4.10s/it]\n",
      "Running inference: 100%|██████████| 1/1 [00:04<00:00,  4.12s/it]\n"
     ]
    },
    {
     "name": "stdout",
     "output_type": "stream",
     "text": [
      "Epoch: 020, Average Loss: 0.5683\n",
      "Validation: {'precision': 0.7749094202891531, 'recall': 0.7903002309461521, 'f1': 0.7825291511854526, 'auc': 0.6737741242591127, 'prauc': 0.8128517337055117}\n",
      "Test:       {'precision': 0.7841092935459427, 'recall': 0.7889310906124173, 'f1': 0.7865127970188114, 'auc': 0.6881925386384392, 'prauc': 0.8250016360326953}\n"
     ]
    },
    {
     "name": "stderr",
     "output_type": "stream",
     "text": [
      "Training Batches: 100%|██████████| 1/1 [00:02<00:00,  2.73s/it]\n",
      "Running inference: 100%|██████████| 1/1 [00:04<00:00,  4.05s/it]\n",
      "Running inference: 100%|██████████| 1/1 [00:04<00:00,  4.07s/it]\n"
     ]
    },
    {
     "name": "stdout",
     "output_type": "stream",
     "text": [
      "Epoch: 021, Average Loss: 0.5678\n",
      "Validation: {'precision': 0.7738351254473352, 'recall': 0.7977829099299789, 'f1': 0.7856265585665141, 'auc': 0.6751134344869911, 'prauc': 0.8132584160632891}\n",
      "Test:       {'precision': 0.7830306267799296, 'recall': 0.7953517815149255, 'f1': 0.78914310850341, 'auc': 0.6894932134577639, 'prauc': 0.8254738771971843}\n",
      "\n",
      "Early stopping triggered after 21 epochs (no improvement for 10 epochs).\n",
      "\n",
      "Best validation performance:\n",
      "{'precision': 0.7161650251389791, 'recall': 0.9605542725164335, 'f1': 0.8205492375298166, 'auc': 0.6631663948061177, 'prauc': 0.8089861378867558}\n",
      "Corresponding test performance:\n",
      "{'precision': 0.7243397767487583, 'recall': 0.9623801772463715, 'f1': 0.8265631018950577, 'auc': 0.6777668854758883, 'prauc': 0.8209514424436257}\n",
      "Corresponding test-long performance:\n",
      "{'precision': 0.8869758400419689, 'recall': 0.9984370115629934, 'f1': 0.939411759720594, 'auc': 0.5654009390159364, 'prauc': 0.9055814037227905}\n",
      "[INFO] Random seed set to 3460967357\n",
      "Training with seed: 3460967357\n"
     ]
    },
    {
     "name": "stderr",
     "output_type": "stream",
     "text": [
      "Training Batches: 100%|██████████| 1/1 [00:01<00:00,  1.82s/it]\n",
      "Running inference: 100%|██████████| 1/1 [00:04<00:00,  4.09s/it]\n",
      "Running inference: 100%|██████████| 1/1 [00:04<00:00,  4.16s/it]\n"
     ]
    },
    {
     "name": "stdout",
     "output_type": "stream",
     "text": [
      "Epoch: 001, Average Loss: 0.6991\n",
      "Validation: {'precision': 0.80247075831147, 'recall': 0.5640646651264997, 'f1': 0.6624715151688224, 'auc': 0.6582694326458761, 'prauc': 0.8046053736603439}\n",
      "Test:       {'precision': 0.8097918575719207, 'recall': 0.5594139989143069, 'f1': 0.6617104299956046, 'auc': 0.6716217028243129, 'prauc': 0.8169318323192994}\n"
     ]
    },
    {
     "name": "stderr",
     "output_type": "stream",
     "text": [
      "Training Batches: 100%|██████████| 1/1 [00:01<00:00,  1.77s/it]\n",
      "Running inference: 100%|██████████| 1/1 [00:04<00:00,  4.46s/it]\n",
      "Running inference: 100%|██████████| 1/1 [00:04<00:00,  4.50s/it]\n"
     ]
    },
    {
     "name": "stdout",
     "output_type": "stream",
     "text": [
      "Epoch: 002, Average Loss: 0.6815\n",
      "Validation: {'precision': 0.7914338919916301, 'recall': 0.6281755196299046, 'f1': 0.7004171552858316, 'auc': 0.6579248796815194, 'prauc': 0.8045470426243304}\n",
      "Test:       {'precision': 0.8017850933107664, 'recall': 0.6255199855302717, 'f1': 0.702768600612752, 'auc': 0.6711723359155779, 'prauc': 0.8168828825579484}\n"
     ]
    },
    {
     "name": "stderr",
     "output_type": "stream",
     "text": [
      "Training Batches: 100%|██████████| 1/1 [00:01<00:00,  1.79s/it]\n",
      "Running inference: 100%|██████████| 1/1 [00:04<00:00,  4.01s/it]\n",
      "Running inference: 100%|██████████| 1/1 [00:04<00:00,  4.08s/it]\n"
     ]
    },
    {
     "name": "stdout",
     "output_type": "stream",
     "text": [
      "Epoch: 003, Average Loss: 0.6641\n",
      "Validation: {'precision': 0.7862620873615802, 'recall': 0.6534872979208743, 'f1': 0.7137523913691164, 'auc': 0.6587802209338005, 'prauc': 0.8051016823199042}\n",
      "Test:       {'precision': 0.7982989064389723, 'recall': 0.6535539880623498, 'f1': 0.7187111481492758, 'auc': 0.6715625343976556, 'prauc': 0.8171761931496596}\n"
     ]
    },
    {
     "name": "stderr",
     "output_type": "stream",
     "text": [
      "Training Batches: 100%|██████████| 1/1 [00:02<00:00,  2.74s/it]\n",
      "Running inference: 100%|██████████| 1/1 [00:04<00:00,  4.05s/it]\n",
      "Running inference: 100%|██████████| 1/1 [00:04<00:00,  4.18s/it]\n"
     ]
    },
    {
     "name": "stdout",
     "output_type": "stream",
     "text": [
      "Epoch: 004, Average Loss: 0.6481\n",
      "Validation: {'precision': 0.7838160321067535, 'recall': 0.6675288683596604, 'f1': 0.7210137647380249, 'auc': 0.6601071662171547, 'prauc': 0.805956751340781}\n",
      "Test:       {'precision': 0.7955937667911922, 'recall': 0.6694700669192716, 'f1': 0.7271030741504206, 'auc': 0.6724895394462851, 'prauc': 0.8177240165107496}\n"
     ]
    },
    {
     "name": "stderr",
     "output_type": "stream",
     "text": [
      "Training Batches: 100%|██████████| 1/1 [00:01<00:00,  1.79s/it]\n",
      "Running inference: 100%|██████████| 1/1 [00:04<00:00,  4.02s/it]\n",
      "Running inference: 100%|██████████| 1/1 [00:04<00:00,  4.18s/it]\n"
     ]
    },
    {
     "name": "stdout",
     "output_type": "stream",
     "text": [
      "Epoch: 005, Average Loss: 0.6328\n",
      "Validation: {'precision': 0.7831159189725494, 'recall': 0.682124711315767, 'f1': 0.7291399180012103, 'auc': 0.6613685621537815, 'prauc': 0.8067309953247603}\n",
      "Test:       {'precision': 0.7937579080548357, 'recall': 0.6807741001983353, 'f1': 0.732937391582045, 'auc': 0.6734991087774314, 'prauc': 0.8181446154769048}\n"
     ]
    },
    {
     "name": "stderr",
     "output_type": "stream",
     "text": [
      "Training Batches: 100%|██████████| 1/1 [00:01<00:00,  1.79s/it]\n",
      "Running inference: 100%|██████████| 1/1 [00:04<00:00,  4.49s/it]\n",
      "Running inference: 100%|██████████| 1/1 [00:04<00:00,  4.65s/it]\n"
     ]
    },
    {
     "name": "stdout",
     "output_type": "stream",
     "text": [
      "Epoch: 006, Average Loss: 0.6182\n",
      "Validation: {'precision': 0.781224066389231, 'recall': 0.6957043879901194, 'f1': 0.735988267676685, 'auc': 0.662707609942021, 'prauc': 0.8075184181657699}\n",
      "Test:       {'precision': 0.7916409306147913, 'recall': 0.695424127328002, 'f1': 0.7404197908992872, 'auc': 0.6747480174167432, 'prauc': 0.8186927753125932}\n"
     ]
    },
    {
     "name": "stderr",
     "output_type": "stream",
     "text": [
      "Training Batches: 100%|██████████| 1/1 [00:01<00:00,  1.32s/it]\n",
      "Running inference: 100%|██████████| 1/1 [00:04<00:00,  4.44s/it]\n",
      "Running inference: 100%|██████████| 1/1 [00:04<00:00,  4.61s/it]\n"
     ]
    },
    {
     "name": "stdout",
     "output_type": "stream",
     "text": [
      "Epoch: 007, Average Loss: 0.6047\n",
      "Validation: {'precision': 0.7770849571309654, 'recall': 0.7368129330247234, 'f1': 0.7564132910339271, 'auc': 0.664297792277007, 'prauc': 0.8083349187524225}\n",
      "Test:       {'precision': 0.7866395978337329, 'recall': 0.7358473503339339, 'f1': 0.7603962196567561, 'auc': 0.67613133579298, 'prauc': 0.8193167010322318}\n"
     ]
    },
    {
     "name": "stderr",
     "output_type": "stream",
     "text": [
      "Training Batches: 100%|██████████| 1/1 [00:01<00:00,  1.32s/it]\n",
      "Running inference: 100%|██████████| 1/1 [00:04<00:00,  4.52s/it]\n",
      "Running inference: 100%|██████████| 1/1 [00:04<00:00,  4.54s/it]\n"
     ]
    },
    {
     "name": "stdout",
     "output_type": "stream",
     "text": [
      "Epoch: 008, Average Loss: 0.5946\n",
      "Validation: {'precision': 0.7580563522855086, 'recall': 0.8301154734403416, 'f1': 0.7924511612867671, 'auc': 0.6655929016133982, 'prauc': 0.8091208508178301}\n",
      "Test:       {'precision': 0.7688619732519397, 'recall': 0.8266413456313739, 'f1': 0.7967054466988946, 'auc': 0.6772092693806177, 'prauc': 0.8199357455998818}\n"
     ]
    },
    {
     "name": "stderr",
     "output_type": "stream",
     "text": [
      "Training Batches: 100%|██████████| 1/1 [00:01<00:00,  1.79s/it]\n",
      "Running inference: 100%|██████████| 1/1 [00:03<00:00,  3.97s/it]\n",
      "Running inference: 100%|██████████| 1/1 [00:04<00:00,  4.04s/it]\n"
     ]
    },
    {
     "name": "stdout",
     "output_type": "stream",
     "text": [
      "Epoch: 009, Average Loss: 0.5866\n",
      "Validation: {'precision': 0.7297946701611112, 'recall': 0.9259122401839021, 'f1': 0.8162384412602924, 'auc': 0.6649103869571538, 'prauc': 0.8092628188181824}\n",
      "Test:       {'precision': 0.7375559082378174, 'recall': 0.9245794899611822, 'f1': 0.8205457414510882, 'auc': 0.6763917819088456, 'prauc': 0.8199918092079161}\n"
     ]
    },
    {
     "name": "stderr",
     "output_type": "stream",
     "text": [
      "Training Batches: 100%|██████████| 1/1 [00:02<00:00,  2.71s/it]\n",
      "Running inference: 100%|██████████| 1/1 [00:04<00:00,  4.16s/it]\n",
      "Running inference: 100%|██████████| 1/1 [00:04<00:00,  4.23s/it]\n"
     ]
    },
    {
     "name": "stdout",
     "output_type": "stream",
     "text": [
      "Epoch: 010, Average Loss: 0.5825\n",
      "Validation: {'precision': 0.7185329258122266, 'recall': 0.9555658198605491, 'f1': 0.8202688186989673, 'auc': 0.6637525436457307, 'prauc': 0.8092161284198658}\n",
      "Test:       {'precision': 0.7264352010995349, 'recall': 0.9555073250127006, 'f1': 0.8253720218077198, 'auc': 0.6754447600754486, 'prauc': 0.8200350399609823}\n"
     ]
    },
    {
     "name": "stderr",
     "output_type": "stream",
     "text": [
      "Training Batches: 100%|██████████| 1/1 [00:01<00:00,  1.82s/it]\n",
      "Running inference: 100%|██████████| 1/1 [00:04<00:00,  4.03s/it]\n",
      "Running inference: 100%|██████████| 1/1 [00:04<00:00,  4.17s/it]\n"
     ]
    },
    {
     "name": "stdout",
     "output_type": "stream",
     "text": [
      "Epoch: 011, Average Loss: 0.5809\n",
      "Validation: {'precision': 0.7229815414958976, 'recall': 0.9479907621238355, 'f1': 0.8203365393163956, 'auc': 0.6658317822477755, 'prauc': 0.8100743045616963}\n",
      "Test:       {'precision': 0.7307772889163134, 'recall': 0.9462832338569847, 'f1': 0.824683763848908, 'auc': 0.6779272873051132, 'prauc': 0.8209661711960663}\n"
     ]
    },
    {
     "name": "stderr",
     "output_type": "stream",
     "text": [
      "Training Batches: 100%|██████████| 1/1 [00:01<00:00,  1.80s/it]\n",
      "Running inference: 100%|██████████| 1/1 [00:04<00:00,  4.53s/it]\n",
      "Running inference: 100%|██████████| 1/1 [00:04<00:00,  4.61s/it]\n"
     ]
    },
    {
     "name": "stdout",
     "output_type": "stream",
     "text": [
      "Epoch: 012, Average Loss: 0.5799\n",
      "Validation: {'precision': 0.734763313608924, 'recall': 0.9176905311769813, 'f1': 0.8161018640275362, 'auc': 0.6689950681535555, 'prauc': 0.8112742941271955}\n",
      "Test:       {'precision': 0.7438818255304299, 'recall': 0.9153553988054662, 'f1': 0.8207581543878254, 'auc': 0.6813011064684062, 'prauc': 0.8221032413999902}\n"
     ]
    },
    {
     "name": "stderr",
     "output_type": "stream",
     "text": [
      "Training Batches: 100%|██████████| 1/1 [00:01<00:00,  1.34s/it]\n",
      "Running inference: 100%|██████████| 1/1 [00:04<00:00,  4.49s/it]\n",
      "Running inference: 100%|██████████| 1/1 [00:04<00:00,  4.59s/it]\n"
     ]
    },
    {
     "name": "stdout",
     "output_type": "stream",
     "text": [
      "Epoch: 013, Average Loss: 0.5785\n",
      "Validation: {'precision': 0.7444358578046797, 'recall': 0.8898845265580694, 'f1': 0.8106879815737398, 'auc': 0.6713755470857088, 'prauc': 0.8122508147859633}\n",
      "Test:       {'precision': 0.7567400540743477, 'recall': 0.885874480013668, 'f1': 0.8162312994505024, 'auc': 0.6835744384786497, 'prauc': 0.8228338637017866}\n"
     ]
    },
    {
     "name": "stderr",
     "output_type": "stream",
     "text": [
      "Training Batches: 100%|██████████| 1/1 [00:01<00:00,  1.32s/it]\n",
      "Running inference: 100%|██████████| 1/1 [00:04<00:00,  4.46s/it]\n",
      "Running inference: 100%|██████████| 1/1 [00:04<00:00,  4.65s/it]\n"
     ]
    },
    {
     "name": "stdout",
     "output_type": "stream",
     "text": [
      "Epoch: 014, Average Loss: 0.5754\n",
      "Validation: {'precision': 0.7544578313246951, 'recall': 0.8677136258652491, 'f1': 0.8071321110279751, 'auc': 0.6736759213650092, 'prauc': 0.8132785754908411}\n",
      "Test:       {'precision': 0.7660535656657259, 'recall': 0.858744800143915, 'f1': 0.809755260641914, 'auc': 0.6855526021879654, 'prauc': 0.8235386166087639}\n"
     ]
    },
    {
     "name": "stderr",
     "output_type": "stream",
     "text": [
      "Training Batches: 100%|██████████| 1/1 [00:01<00:00,  1.82s/it]\n",
      "Running inference: 100%|██████████| 1/1 [00:04<00:00,  4.07s/it]\n",
      "Running inference: 100%|██████████| 1/1 [00:04<00:00,  4.01s/it]\n"
     ]
    },
    {
     "name": "stdout",
     "output_type": "stream",
     "text": [
      "Epoch: 015, Average Loss: 0.5736\n",
      "Validation: {'precision': 0.7646708623909128, 'recall': 0.8305773672047754, 'f1': 0.7962626704716737, 'auc': 0.6752799423440301, 'prauc': 0.8140937924293048}\n",
      "Test:       {'precision': 0.775059665870461, 'recall': 0.8223005968522135, 'f1': 0.7979815658680872, 'auc': 0.6867433333305588, 'prauc': 0.8241608491187513}\n"
     ]
    },
    {
     "name": "stderr",
     "output_type": "stream",
     "text": [
      "Training Batches: 100%|██████████| 1/1 [00:02<00:00,  2.76s/it]\n",
      "Running inference: 100%|██████████| 1/1 [00:04<00:00,  4.07s/it]\n",
      "Running inference: 100%|██████████| 1/1 [00:04<00:00,  4.09s/it]\n"
     ]
    },
    {
     "name": "stdout",
     "output_type": "stream",
     "text": [
      "Epoch: 016, Average Loss: 0.5759\n",
      "Validation: {'precision': 0.7771774569159038, 'recall': 0.7707159353341609, 'f1': 0.7739332046468647, 'auc': 0.6752115566304366, 'prauc': 0.8141332478983961}\n",
      "Test:       {'precision': 0.7868668967439726, 'recall': 0.7628865979374544, 'f1': 0.7746912113097745, 'auc': 0.6872085452090182, 'prauc': 0.8244954722263482}\n"
     ]
    },
    {
     "name": "stderr",
     "output_type": "stream",
     "text": [
      "Training Batches: 100%|██████████| 1/1 [00:01<00:00,  1.83s/it]\n",
      "Running inference: 100%|██████████| 1/1 [00:04<00:00,  4.01s/it]\n",
      "Running inference: 100%|██████████| 1/1 [00:04<00:00,  4.11s/it]\n"
     ]
    },
    {
     "name": "stdout",
     "output_type": "stream",
     "text": [
      "Epoch: 017, Average Loss: 0.5718\n",
      "Validation: {'precision': 0.7797212878416341, 'recall': 0.7494688221702083, 'f1': 0.7642958028203608, 'auc': 0.6749388717518048, 'prauc': 0.8139189755209767}\n",
      "Test:       {'precision': 0.7901115813766928, 'recall': 0.7428106348338371, 'f1': 0.7657313271565591, 'auc': 0.6867434621514509, 'prauc': 0.8243497683680994}\n"
     ]
    },
    {
     "name": "stderr",
     "output_type": "stream",
     "text": [
      "Training Batches: 100%|██████████| 1/1 [00:01<00:00,  1.79s/it]\n",
      "Running inference: 100%|██████████| 1/1 [00:04<00:00,  4.60s/it]\n",
      "Running inference: 100%|██████████| 1/1 [00:04<00:00,  4.72s/it]\n"
     ]
    },
    {
     "name": "stdout",
     "output_type": "stream",
     "text": [
      "Epoch: 018, Average Loss: 0.5726\n",
      "Validation: {'precision': 0.7788277968682905, 'recall': 0.7537182448029989, 'f1': 0.7660673157836847, 'auc': 0.6750724232464994, 'prauc': 0.8138681715775151}\n",
      "Test:       {'precision': 0.7892427999229551, 'recall': 0.7484174353402527, 'f1': 0.7682881494773751, 'auc': 0.686374301111978, 'prauc': 0.8242780736319015}\n"
     ]
    },
    {
     "name": "stderr",
     "output_type": "stream",
     "text": [
      "Training Batches: 100%|██████████| 1/1 [00:01<00:00,  1.31s/it]\n",
      "Running inference: 100%|██████████| 1/1 [00:04<00:00,  4.53s/it]\n",
      "Running inference: 100%|██████████| 1/1 [00:04<00:00,  4.62s/it]\n"
     ]
    },
    {
     "name": "stdout",
     "output_type": "stream",
     "text": [
      "Epoch: 019, Average Loss: 0.5686\n",
      "Validation: {'precision': 0.777266322216273, 'recall': 0.7643418013849751, 'f1': 0.7707498785580872, 'auc': 0.6756374759766792, 'prauc': 0.8140591250263145}\n",
      "Test:       {'precision': 0.7864588224239022, 'recall': 0.7573702296972713, 'f1': 0.7716404796373565, 'auc': 0.6865569988648303, 'prauc': 0.8245096749678567}\n"
     ]
    },
    {
     "name": "stderr",
     "output_type": "stream",
     "text": [
      "Training Batches: 100%|██████████| 1/1 [00:01<00:00,  1.34s/it]\n",
      "Running inference: 100%|██████████| 1/1 [00:04<00:00,  4.52s/it]\n",
      "Running inference: 100%|██████████| 1/1 [00:04<00:00,  4.68s/it]\n"
     ]
    },
    {
     "name": "stdout",
     "output_type": "stream",
     "text": [
      "Epoch: 020, Average Loss: 0.5687\n",
      "Validation: {'precision': 0.7763402829478998, 'recall': 0.7705311778283874, 'f1': 0.7734248176615074, 'auc': 0.6764581550089632, 'prauc': 0.814464360719965}\n",
      "Test:       {'precision': 0.7854156990238872, 'recall': 0.7646048109958721, 'f1': 0.7748705444205275, 'auc': 0.6872747393289431, 'prauc': 0.8249813722502548}\n"
     ]
    },
    {
     "name": "stderr",
     "output_type": "stream",
     "text": [
      "Training Batches: 100%|██████████| 1/1 [00:01<00:00,  1.84s/it]\n",
      "Running inference: 100%|██████████| 1/1 [00:04<00:00,  4.12s/it]\n",
      "Running inference: 100%|██████████| 1/1 [00:04<00:00,  4.12s/it]\n"
     ]
    },
    {
     "name": "stdout",
     "output_type": "stream",
     "text": [
      "Epoch: 021, Average Loss: 0.5665\n",
      "Validation: {'precision': 0.7764485981301155, 'recall': 0.7674826789831247, 'f1': 0.7719396001097883, 'auc': 0.6770755240717712, 'prauc': 0.8147395972513609}\n",
      "Test:       {'precision': 0.7866467735912097, 'recall': 0.7628865979374544, 'f1': 0.7745845143283498, 'auc': 0.6877760408757806, 'prauc': 0.8251825250288469}\n",
      "\n",
      "Early stopping triggered after 21 epochs (no improvement for 10 epochs).\n",
      "\n",
      "Best validation performance:\n",
      "{'precision': 0.7229815414958976, 'recall': 0.9479907621238355, 'f1': 0.8203365393163956, 'auc': 0.6658317822477755, 'prauc': 0.8100743045616963}\n",
      "Corresponding test performance:\n",
      "{'precision': 0.7307772889163134, 'recall': 0.9462832338569847, 'f1': 0.824683763848908, 'auc': 0.6779272873051132, 'prauc': 0.8209661711960663}\n",
      "Corresponding test-long performance:\n",
      "{'precision': 0.8874580067164405, 'recall': 0.9909346670803659, 'f1': 0.9363461772602292, 'auc': 0.5724580801916247, 'prauc': 0.9077770313451847}\n",
      "[INFO] Random seed set to 2998485882\n",
      "Training with seed: 2998485882\n"
     ]
    },
    {
     "name": "stderr",
     "output_type": "stream",
     "text": [
      "Training Batches: 100%|██████████| 1/1 [00:02<00:00,  2.76s/it]\n",
      "Running inference: 100%|██████████| 1/1 [00:04<00:00,  4.06s/it]\n",
      "Running inference: 100%|██████████| 1/1 [00:04<00:00,  4.18s/it]\n"
     ]
    },
    {
     "name": "stdout",
     "output_type": "stream",
     "text": [
      "Epoch: 001, Average Loss: 0.6903\n",
      "Validation: {'precision': 0.7751906864705186, 'recall': 0.7135334872972623, 'f1': 0.743085280495379, 'auc': 0.6536336786769812, 'prauc': 0.8016234745542546}\n",
      "Test:       {'precision': 0.7871513944215267, 'recall': 0.7146862000355265, 'f1': 0.7491705325026361, 'auc': 0.6691068811879364, 'prauc': 0.8152098594782738}\n"
     ]
    },
    {
     "name": "stderr",
     "output_type": "stream",
     "text": [
      "Training Batches: 100%|██████████| 1/1 [00:01<00:00,  1.84s/it]\n",
      "Running inference: 100%|██████████| 1/1 [00:04<00:00,  4.12s/it]\n",
      "Running inference: 100%|██████████| 1/1 [00:04<00:00,  4.20s/it]\n"
     ]
    },
    {
     "name": "stdout",
     "output_type": "stream",
     "text": [
      "Epoch: 002, Average Loss: 0.6704\n",
      "Validation: {'precision': 0.7779606955440086, 'recall': 0.698475750576722, 'f1': 0.7360786554499119, 'auc': 0.6553671934301264, 'prauc': 0.8035317413133117}\n",
      "Test:       {'precision': 0.790711885119879, 'recall': 0.7021161150292077, 'f1': 0.7437850216011774, 'auc': 0.670217089363687, 'prauc': 0.8160703205160397}\n"
     ]
    },
    {
     "name": "stderr",
     "output_type": "stream",
     "text": [
      "Training Batches: 100%|██████████| 1/1 [00:01<00:00,  1.82s/it]\n",
      "Running inference: 100%|██████████| 1/1 [00:04<00:00,  4.53s/it]\n",
      "Running inference: 100%|██████████| 1/1 [00:03<00:00,  3.68s/it]\n"
     ]
    },
    {
     "name": "stdout",
     "output_type": "stream",
     "text": [
      "Epoch: 003, Average Loss: 0.6541\n",
      "Validation: {'precision': 0.7788094501178388, 'recall': 0.6973672055420809, 'f1': 0.7358416949852593, 'auc': 0.6568176670327364, 'prauc': 0.8046841288854121}\n",
      "Test:       {'precision': 0.7914329423755314, 'recall': 0.7017543859642776, 'f1': 0.7439006804412783, 'auc': 0.6713381284036709, 'prauc': 0.8169108881805236}\n"
     ]
    },
    {
     "name": "stderr",
     "output_type": "stream",
     "text": [
      "Training Batches: 100%|██████████| 1/1 [00:02<00:00,  2.31s/it]\n",
      "Running inference: 100%|██████████| 1/1 [00:04<00:00,  4.01s/it]\n",
      "Running inference: 100%|██████████| 1/1 [00:04<00:00,  4.06s/it]\n"
     ]
    },
    {
     "name": "stdout",
     "output_type": "stream",
     "text": [
      "Epoch: 004, Average Loss: 0.6378\n",
      "Validation: {'precision': 0.7786000616704917, 'recall': 0.6997690531171364, 'f1': 0.7370828012799197, 'auc': 0.6580713714691775, 'prauc': 0.8056564281124764}\n",
      "Test:       {'precision': 0.7910386965368726, 'recall': 0.7024778440941377, 'f1': 0.7441325747658859, 'auc': 0.6721396718127244, 'prauc': 0.8175188016576073}\n"
     ]
    },
    {
     "name": "stderr",
     "output_type": "stream",
     "text": [
      "Training Batches: 100%|██████████| 1/1 [00:02<00:00,  2.24s/it]\n",
      "Running inference: 100%|██████████| 1/1 [00:04<00:00,  4.40s/it]\n",
      "Running inference: 100%|██████████| 1/1 [00:05<00:00,  5.07s/it]\n"
     ]
    },
    {
     "name": "stdout",
     "output_type": "stream",
     "text": [
      "Epoch: 005, Average Loss: 0.6221\n",
      "Validation: {'precision': 0.7780051150887181, 'recall': 0.7025404157037389, 'f1': 0.7383495095753801, 'auc': 0.6592040407629323, 'prauc': 0.8064309645883346}\n",
      "Test:       {'precision': 0.7906034831907749, 'recall': 0.7060951347434381, 'f1': 0.7459634993622231, 'auc': 0.6730236209555046, 'prauc': 0.8180392749722663}\n"
     ]
    },
    {
     "name": "stderr",
     "output_type": "stream",
     "text": [
      "Training Batches: 100%|██████████| 1/1 [00:01<00:00,  1.34s/it]\n",
      "Running inference: 100%|██████████| 1/1 [00:04<00:00,  4.49s/it]\n",
      "Running inference: 100%|██████████| 1/1 [00:04<00:00,  4.12s/it]\n"
     ]
    },
    {
     "name": "stdout",
     "output_type": "stream",
     "text": [
      "Epoch: 006, Average Loss: 0.6075\n",
      "Validation: {'precision': 0.7767279960211071, 'recall': 0.7214780600455228, 'f1': 0.7480842861938225, 'auc': 0.6604026025937111, 'prauc': 0.8071340698809913}\n",
      "Test:       {'precision': 0.7863676600759453, 'recall': 0.7230059685289175, 'f1': 0.7533568854674653, 'auc': 0.6740975511861886, 'prauc': 0.8185714573412843}\n"
     ]
    },
    {
     "name": "stderr",
     "output_type": "stream",
     "text": [
      "Training Batches: 100%|██████████| 1/1 [00:01<00:00,  1.82s/it]\n",
      "Running inference: 100%|██████████| 1/1 [00:04<00:00,  4.61s/it]\n",
      "Running inference: 100%|██████████| 1/1 [00:04<00:00,  4.22s/it]\n"
     ]
    },
    {
     "name": "stdout",
     "output_type": "stream",
     "text": [
      "Epoch: 007, Average Loss: 0.5961\n",
      "Validation: {'precision': 0.7671885013267717, 'recall': 0.7741339491909707, 'f1': 0.7706455716041382, 'auc': 0.6617570939453157, 'prauc': 0.8077978553395475}\n",
      "Test:       {'precision': 0.7785520361983904, 'recall': 0.7779887863982835, 'f1': 0.7782703043895626, 'auc': 0.6753954018551873, 'prauc': 0.8191685092751402}\n"
     ]
    },
    {
     "name": "stderr",
     "output_type": "stream",
     "text": [
      "Training Batches: 100%|██████████| 1/1 [00:01<00:00,  1.34s/it]\n",
      "Running inference: 100%|██████████| 1/1 [00:04<00:00,  4.60s/it]\n",
      "Running inference: 100%|██████████| 1/1 [00:04<00:00,  4.14s/it]\n"
     ]
    },
    {
     "name": "stdout",
     "output_type": "stream",
     "text": [
      "Epoch: 008, Average Loss: 0.5877\n",
      "Validation: {'precision': 0.7470686767163219, 'recall': 0.8652193995373069, 'f1': 0.801814908132919, 'auc': 0.6630607830391319, 'prauc': 0.8084038656612762}\n",
      "Test:       {'precision': 0.7556044993307987, 'recall': 0.868692349429491, 'f1': 0.8082116815323276, 'auc': 0.676597528692079, 'prauc': 0.8196942254608521}\n"
     ]
    },
    {
     "name": "stderr",
     "output_type": "stream",
     "text": [
      "Training Batches: 100%|██████████| 1/1 [00:01<00:00,  1.83s/it]\n",
      "Running inference: 100%|██████████| 1/1 [00:04<00:00,  4.61s/it]\n",
      "Running inference: 100%|██████████| 1/1 [00:04<00:00,  4.17s/it]\n"
     ]
    },
    {
     "name": "stdout",
     "output_type": "stream",
     "text": [
      "Epoch: 009, Average Loss: 0.5825\n",
      "Validation: {'precision': 0.7307692307686964, 'recall': 0.9232332563501863, 'f1': 0.81580343166146, 'auc': 0.6638145601511654, 'prauc': 0.8088092388030277}\n",
      "Test:       {'precision': 0.738701784685709, 'recall': 0.9282872128767151, 'f1': 0.8227137884438311, 'auc': 0.6775453333601281, 'prauc': 0.8200692484727383}\n"
     ]
    },
    {
     "name": "stderr",
     "output_type": "stream",
     "text": [
      "Training Batches: 100%|██████████| 1/1 [00:01<00:00,  1.34s/it]\n",
      "Running inference: 100%|██████████| 1/1 [00:04<00:00,  4.58s/it]\n",
      "Running inference: 100%|██████████| 1/1 [00:04<00:00,  4.13s/it]\n"
     ]
    },
    {
     "name": "stdout",
     "output_type": "stream",
     "text": [
      "Epoch: 010, Average Loss: 0.5815\n",
      "Validation: {'precision': 0.7195504990572209, 'recall': 0.9523325635095128, 'f1': 0.8197360001853364, 'auc': 0.6641943708716226, 'prauc': 0.8091122107130305}\n",
      "Test:       {'precision': 0.7275358324140521, 'recall': 0.9547838668828406, 'f1': 0.8258114929396292, 'auc': 0.6782342674909143, 'prauc': 0.8202668920514311}\n"
     ]
    },
    {
     "name": "stderr",
     "output_type": "stream",
     "text": [
      "Training Batches: 100%|██████████| 1/1 [00:01<00:00,  1.81s/it]\n",
      "Running inference: 100%|██████████| 1/1 [00:04<00:00,  4.58s/it]\n",
      "Running inference: 100%|██████████| 1/1 [00:04<00:00,  4.16s/it]\n"
     ]
    },
    {
     "name": "stdout",
     "output_type": "stream",
     "text": [
      "Epoch: 011, Average Loss: 0.5816\n",
      "Validation: {'precision': 0.7209351158390698, 'recall': 0.951501154733532, 'f1': 0.8203249393441379, 'auc': 0.6657226982024904, 'prauc': 0.8096637507591731}\n",
      "Test:       {'precision': 0.7286168301777473, 'recall': 0.9536986796880504, 'f1': 0.8261005747535901, 'auc': 0.6798115108562122, 'prauc': 0.8205406070584459}\n"
     ]
    },
    {
     "name": "stderr",
     "output_type": "stream",
     "text": [
      "Training Batches: 100%|██████████| 1/1 [00:01<00:00,  1.81s/it]\n",
      "Running inference: 100%|██████████| 1/1 [00:04<00:00,  4.04s/it]\n",
      "Running inference: 100%|██████████| 1/1 [00:04<00:00,  4.04s/it]\n"
     ]
    },
    {
     "name": "stdout",
     "output_type": "stream",
     "text": [
      "Epoch: 012, Average Loss: 0.5819\n",
      "Validation: {'precision': 0.7406309388059744, 'recall': 0.9000461893756119, 'f1': 0.8125938232366853, 'auc': 0.6680226081655065, 'prauc': 0.8103611341863943}\n",
      "Test:       {'precision': 0.7497564995873606, 'recall': 0.9049556881887276, 'f1': 0.820077847942309, 'auc': 0.6817990983092476, 'prauc': 0.8210669599674276}\n"
     ]
    },
    {
     "name": "stderr",
     "output_type": "stream",
     "text": [
      "Training Batches: 100%|██████████| 1/1 [00:01<00:00,  1.82s/it]\n",
      "Running inference: 100%|██████████| 1/1 [00:04<00:00,  4.49s/it]\n",
      "Running inference: 100%|██████████| 1/1 [00:04<00:00,  4.62s/it]\n"
     ]
    },
    {
     "name": "stdout",
     "output_type": "stream",
     "text": [
      "Epoch: 013, Average Loss: 0.5807\n",
      "Validation: {'precision': 0.7579121789554615, 'recall': 0.8450808314079953, 'f1': 0.7991264418365375, 'auc': 0.6689874775916923, 'prauc': 0.8107389916019301}\n",
      "Test:       {'precision': 0.7659834065391524, 'recall': 0.8516006511115467, 'f1': 0.806526202618661, 'auc': 0.6828329256053006, 'prauc': 0.8212898480207697}\n"
     ]
    },
    {
     "name": "stderr",
     "output_type": "stream",
     "text": [
      "Training Batches: 100%|██████████| 1/1 [00:01<00:00,  1.32s/it]\n",
      "Running inference: 100%|██████████| 1/1 [00:04<00:00,  4.52s/it]\n",
      "Running inference: 100%|██████████| 1/1 [00:04<00:00,  4.66s/it]\n"
     ]
    },
    {
     "name": "stdout",
     "output_type": "stream",
     "text": [
      "Epoch: 014, Average Loss: 0.5782\n",
      "Validation: {'precision': 0.7657063519604601, 'recall': 0.815150115472688, 'f1': 0.7896550131258007, 'auc': 0.6695289309420371, 'prauc': 0.8109974860779857}\n",
      "Test:       {'precision': 0.7743589743583125, 'recall': 0.8193163320665406, 'f1': 0.7962035278269016, 'auc': 0.6835817119044021, 'prauc': 0.8214994341454182}\n"
     ]
    },
    {
     "name": "stderr",
     "output_type": "stream",
     "text": [
      "Training Batches: 100%|██████████| 1/1 [00:01<00:00,  1.87s/it]\n",
      "Running inference: 100%|██████████| 1/1 [00:04<00:00,  4.03s/it]\n",
      "Running inference: 100%|██████████| 1/1 [00:04<00:00,  4.15s/it]\n"
     ]
    },
    {
     "name": "stdout",
     "output_type": "stream",
     "text": [
      "Epoch: 015, Average Loss: 0.5763\n",
      "Validation: {'precision': 0.7729798669939208, 'recall': 0.7838337182440795, 'f1': 0.7783689519759532, 'auc': 0.6692631805261713, 'prauc': 0.8109260829791192}\n",
      "Test:       {'precision': 0.7829548538851144, 'recall': 0.7826008319761416, 'f1': 0.7827777979028244, 'auc': 0.6835251000769874, 'prauc': 0.8215762580579984}\n"
     ]
    },
    {
     "name": "stderr",
     "output_type": "stream",
     "text": [
      "Training Batches: 100%|██████████| 1/1 [00:02<00:00,  2.75s/it]\n",
      "Running inference: 100%|██████████| 1/1 [00:04<00:00,  4.06s/it]\n",
      "Running inference: 100%|██████████| 1/1 [00:04<00:00,  4.14s/it]\n"
     ]
    },
    {
     "name": "stdout",
     "output_type": "stream",
     "text": [
      "Epoch: 016, Average Loss: 0.5754\n",
      "Validation: {'precision': 0.7753217683260816, 'recall': 0.7679445727475585, 'f1': 0.7716155331253552, 'auc': 0.6696058964130558, 'prauc': 0.8110965532894916}\n",
      "Test:       {'precision': 0.7865429234331447, 'recall': 0.7664134563205223, 'f1': 0.7763477254998312, 'auc': 0.6838444371591276, 'prauc': 0.8217215433634228}\n"
     ]
    },
    {
     "name": "stderr",
     "output_type": "stream",
     "text": [
      "Training Batches: 100%|██████████| 1/1 [00:01<00:00,  1.82s/it]\n",
      "Running inference: 100%|██████████| 1/1 [00:04<00:00,  4.01s/it]\n",
      "Running inference: 100%|██████████| 1/1 [00:04<00:00,  4.11s/it]\n"
     ]
    },
    {
     "name": "stdout",
     "output_type": "stream",
     "text": [
      "Epoch: 017, Average Loss: 0.5728\n",
      "Validation: {'precision': 0.7763578274753088, 'recall': 0.7632332563503341, 'f1': 0.7697395953164115, 'auc': 0.6701199450088018, 'prauc': 0.8111693932742041}\n",
      "Test:       {'precision': 0.7872360394173746, 'recall': 0.7585458491582939, 'f1': 0.7726246898842605, 'auc': 0.684078038982946, 'prauc': 0.8216708286665241}\n"
     ]
    },
    {
     "name": "stderr",
     "output_type": "stream",
     "text": [
      "Training Batches: 100%|██████████| 1/1 [00:01<00:00,  1.76s/it]\n",
      "Running inference: 100%|██████████| 1/1 [00:04<00:00,  4.49s/it]\n",
      "Running inference: 100%|██████████| 1/1 [00:04<00:00,  4.62s/it]\n"
     ]
    },
    {
     "name": "stdout",
     "output_type": "stream",
     "text": [
      "Epoch: 018, Average Loss: 0.5714\n",
      "Validation: {'precision': 0.7768916737864076, 'recall': 0.7559353348722808, 'f1': 0.7662702450236274, 'auc': 0.6705731883589852, 'prauc': 0.8112031301640354}\n",
      "Test:       {'precision': 0.7888657451232826, 'recall': 0.7534816422492734, 'f1': 0.7707678025874876, 'auc': 0.684053999022626, 'prauc': 0.8216653910579509}\n"
     ]
    },
    {
     "name": "stderr",
     "output_type": "stream",
     "text": [
      "Training Batches: 100%|██████████| 1/1 [00:01<00:00,  1.34s/it]\n",
      "Running inference: 100%|██████████| 1/1 [00:04<00:00,  4.47s/it]\n",
      "Running inference: 100%|██████████| 1/1 [00:04<00:00,  4.57s/it]\n"
     ]
    },
    {
     "name": "stdout",
     "output_type": "stream",
     "text": [
      "Epoch: 019, Average Loss: 0.5693\n",
      "Validation: {'precision': 0.7777777777770416, 'recall': 0.7591685912233171, 'f1': 0.7683605204546451, 'auc': 0.6714564390574783, 'prauc': 0.8115851470032673}\n",
      "Test:       {'precision': 0.7883273618698959, 'recall': 0.7561041779700162, 'f1': 0.7718796109541967, 'auc': 0.6846491019974889, 'prauc': 0.8221163391555069}\n"
     ]
    },
    {
     "name": "stderr",
     "output_type": "stream",
     "text": [
      "Training Batches: 100%|██████████| 1/1 [00:01<00:00,  1.35s/it]\n",
      "Running inference: 100%|██████████| 1/1 [00:04<00:00,  4.52s/it]\n",
      "Running inference: 100%|██████████| 1/1 [00:04<00:00,  4.55s/it]\n"
     ]
    },
    {
     "name": "stdout",
     "output_type": "stream",
     "text": [
      "Epoch: 020, Average Loss: 0.5671\n",
      "Validation: {'precision': 0.7770149534460857, 'recall': 0.7632332563503341, 'f1': 0.7700624425716837, 'auc': 0.6724299488040827, 'prauc': 0.8121477694221825}\n",
      "Test:       {'precision': 0.7878332707465379, 'recall': 0.758907578223224, 'f1': 0.7730999489393137, 'auc': 0.6854910555294544, 'prauc': 0.8228769216949525}\n"
     ]
    },
    {
     "name": "stderr",
     "output_type": "stream",
     "text": [
      "Training Batches: 100%|██████████| 1/1 [00:01<00:00,  1.84s/it]\n",
      "Running inference: 100%|██████████| 1/1 [00:03<00:00,  3.98s/it]\n",
      "Running inference: 100%|██████████| 1/1 [00:04<00:00,  4.15s/it]\n"
     ]
    },
    {
     "name": "stdout",
     "output_type": "stream",
     "text": [
      "Epoch: 021, Average Loss: 0.5665\n",
      "Validation: {'precision': 0.7770790313489984, 'recall': 0.7648036951494089, 'f1': 0.7708924946504208, 'auc': 0.673391325764305, 'prauc': 0.8126711917032472}\n",
      "Test:       {'precision': 0.7876122754483649, 'recall': 0.7612588171452692, 'f1': 0.774211344214384, 'auc': 0.6864970674221199, 'prauc': 0.8237204636603759}\n",
      "\n",
      "Early stopping triggered after 21 epochs (no improvement for 10 epochs).\n",
      "\n",
      "Best validation performance:\n",
      "{'precision': 0.7209351158390698, 'recall': 0.951501154733532, 'f1': 0.8203249393441379, 'auc': 0.6657226982024904, 'prauc': 0.8096637507591731}\n",
      "Corresponding test performance:\n",
      "{'precision': 0.7286168301777473, 'recall': 0.9536986796880504, 'f1': 0.8261005747535901, 'auc': 0.6798115108562122, 'prauc': 0.8205406070584459}\n",
      "Corresponding test-long performance:\n",
      "{'precision': 0.8869758400419689, 'recall': 0.9984370115629934, 'f1': 0.939411759720594, 'auc': 0.5667350203417786, 'prauc': 0.9051301390189483}\n",
      "[INFO] Random seed set to 1461364854\n",
      "Training with seed: 1461364854\n"
     ]
    },
    {
     "name": "stderr",
     "output_type": "stream",
     "text": [
      "Training Batches: 100%|██████████| 1/1 [00:02<00:00,  2.68s/it]\n",
      "Running inference: 100%|██████████| 1/1 [00:04<00:00,  4.13s/it]\n",
      "Running inference: 100%|██████████| 1/1 [00:04<00:00,  4.09s/it]\n"
     ]
    },
    {
     "name": "stdout",
     "output_type": "stream",
     "text": [
      "Epoch: 001, Average Loss: 0.7004\n",
      "Validation: {'precision': 0.8054783644292637, 'recall': 0.5623094688216514, 'f1': 0.662278310900975, 'auc': 0.6585817358161469, 'prauc': 0.8060959418126443}\n",
      "Test:       {'precision': 0.8141523082982847, 'recall': 0.5597757279792369, 'f1': 0.6634156749306104, 'auc': 0.6721233412873298, 'prauc': 0.8177399606186654}\n"
     ]
    },
    {
     "name": "stderr",
     "output_type": "stream",
     "text": [
      "Training Batches: 100%|██████████| 1/1 [00:01<00:00,  1.78s/it]\n",
      "Running inference: 100%|██████████| 1/1 [00:04<00:00,  4.06s/it]\n",
      "Running inference: 100%|██████████| 1/1 [00:04<00:00,  4.16s/it]\n"
     ]
    },
    {
     "name": "stdout",
     "output_type": "stream",
     "text": [
      "Epoch: 002, Average Loss: 0.6815\n",
      "Validation: {'precision': 0.7924851530370117, 'recall': 0.641016166281163, 'f1': 0.7087482714454786, 'auc': 0.6610057292591934, 'prauc': 0.8073360355797842}\n",
      "Test:       {'precision': 0.8057045065592633, 'recall': 0.6386326641339857, 'f1': 0.7125056702919312, 'auc': 0.6752731409193142, 'prauc': 0.8196706664452076}\n"
     ]
    },
    {
     "name": "stderr",
     "output_type": "stream",
     "text": [
      "Training Batches: 100%|██████████| 1/1 [00:01<00:00,  1.79s/it]\n",
      "Running inference: 100%|██████████| 1/1 [00:04<00:00,  4.55s/it]\n",
      "Running inference: 100%|██████████| 1/1 [00:03<00:00,  3.56s/it]\n"
     ]
    },
    {
     "name": "stdout",
     "output_type": "stream",
     "text": [
      "Epoch: 003, Average Loss: 0.6643\n",
      "Validation: {'precision': 0.7891838308175028, 'recall': 0.6618937644335686, 'f1': 0.7199557828191021, 'auc': 0.6619994266703274, 'prauc': 0.8077833063753569}\n",
      "Test:       {'precision': 0.801993209943268, 'recall': 0.6622354856206707, 'f1': 0.7254445440566709, 'auc': 0.6764460650509039, 'prauc': 0.8202370031465085}\n"
     ]
    },
    {
     "name": "stderr",
     "output_type": "stream",
     "text": [
      "Training Batches: 100%|██████████| 1/1 [00:02<00:00,  2.25s/it]\n",
      "Running inference: 100%|██████████| 1/1 [00:04<00:00,  4.04s/it]\n",
      "Running inference: 100%|██████████| 1/1 [00:04<00:00,  4.11s/it]\n"
     ]
    },
    {
     "name": "stdout",
     "output_type": "stream",
     "text": [
      "Epoch: 004, Average Loss: 0.6478\n",
      "Validation: {'precision': 0.7870200108158063, 'recall': 0.6721478060039979, 'f1': 0.7250622770432198, 'auc': 0.662556313490205, 'prauc': 0.808089460126055}\n",
      "Test:       {'precision': 0.7999999999991378, 'recall': 0.6713691445101543, 'f1': 0.7300619480318903, 'auc': 0.676989917129322, 'prauc': 0.8204138668093133}\n"
     ]
    },
    {
     "name": "stderr",
     "output_type": "stream",
     "text": [
      "Training Batches: 100%|██████████| 1/1 [00:02<00:00,  2.20s/it]\n",
      "Running inference: 100%|██████████| 1/1 [00:04<00:00,  4.46s/it]\n",
      "Running inference: 100%|██████████| 1/1 [00:05<00:00,  5.05s/it]\n"
     ]
    },
    {
     "name": "stdout",
     "output_type": "stream",
     "text": [
      "Epoch: 005, Average Loss: 0.6322\n",
      "Validation: {'precision': 0.7854778430317293, 'recall': 0.679538106234938, 'f1': 0.7286775581754984, 'auc': 0.6629774988291155, 'prauc': 0.8082923914022551}\n",
      "Test:       {'precision': 0.7982987772452967, 'recall': 0.6789654548736851, 'f1': 0.7338122415255813, 'auc': 0.6773664308689421, 'prauc': 0.8204656610135057}\n"
     ]
    },
    {
     "name": "stderr",
     "output_type": "stream",
     "text": [
      "Training Batches: 100%|██████████| 1/1 [00:01<00:00,  1.33s/it]\n",
      "Running inference: 100%|██████████| 1/1 [00:04<00:00,  4.49s/it]\n",
      "Running inference: 100%|██████████| 1/1 [00:04<00:00,  4.16s/it]\n"
     ]
    },
    {
     "name": "stdout",
     "output_type": "stream",
     "text": [
      "Epoch: 006, Average Loss: 0.6161\n",
      "Validation: {'precision': 0.7834997372561392, 'recall': 0.6886836027707264, 'f1': 0.7330383431026152, 'auc': 0.6633512431563817, 'prauc': 0.8084190545398601}\n",
      "Test:       {'precision': 0.7961530420230021, 'recall': 0.6887321396267961, 'f1': 0.7385570159719215, 'auc': 0.6776619360860494, 'prauc': 0.8204716711897448}\n"
     ]
    },
    {
     "name": "stderr",
     "output_type": "stream",
     "text": [
      "Training Batches: 100%|██████████| 1/1 [00:01<00:00,  1.82s/it]\n",
      "Running inference: 100%|██████████| 1/1 [00:04<00:00,  4.57s/it]\n",
      "Running inference: 100%|██████████| 1/1 [00:04<00:00,  4.22s/it]\n"
     ]
    },
    {
     "name": "stdout",
     "output_type": "stream",
     "text": [
      "Epoch: 007, Average Loss: 0.6034\n",
      "Validation: {'precision': 0.7829370343904654, 'recall': 0.7087297921471513, 'f1': 0.7439875822886117, 'auc': 0.6640689953810623, 'prauc': 0.8086968355064386}\n",
      "Test:       {'precision': 0.7939953342115893, 'recall': 0.7079037800680883, 'f1': 0.7484820909185674, 'auc': 0.6783028200240938, 'prauc': 0.8205965117011751}\n"
     ]
    },
    {
     "name": "stderr",
     "output_type": "stream",
     "text": [
      "Training Batches: 100%|██████████| 1/1 [00:01<00:00,  1.34s/it]\n",
      "Running inference: 100%|██████████| 1/1 [00:04<00:00,  4.47s/it]\n",
      "Running inference: 100%|██████████| 1/1 [00:04<00:00,  4.11s/it]\n"
     ]
    },
    {
     "name": "stdout",
     "output_type": "stream",
     "text": [
      "Epoch: 008, Average Loss: 0.5933\n",
      "Validation: {'precision': 0.7708106143213642, 'recall': 0.7835565819854193, 'f1': 0.7771313340440147, 'auc': 0.6651187539365946, 'prauc': 0.8091539482404351}\n",
      "Test:       {'precision': 0.7807332854054809, 'recall': 0.7856755290280469, 'f1': 0.7831966054744182, 'auc': 0.6793808824326235, 'prauc': 0.8209498707123168}\n"
     ]
    },
    {
     "name": "stderr",
     "output_type": "stream",
     "text": [
      "Training Batches: 100%|██████████| 1/1 [00:01<00:00,  1.79s/it]\n",
      "Running inference: 100%|██████████| 1/1 [00:04<00:00,  4.53s/it]\n",
      "Running inference: 100%|██████████| 1/1 [00:04<00:00,  4.14s/it]\n"
     ]
    },
    {
     "name": "stdout",
     "output_type": "stream",
     "text": [
      "Epoch: 009, Average Loss: 0.5857\n",
      "Validation: {'precision': 0.7450227308349702, 'recall': 0.8780600461885653, 'f1': 0.8060891270347741, 'auc': 0.6661728932153297, 'prauc': 0.809618087100626}\n",
      "Test:       {'precision': 0.7558004190263399, 'recall': 0.8808102731046474, 'f1': 0.8135310035897789, 'auc': 0.6804257288695983, 'prauc': 0.8213336421225423}\n"
     ]
    },
    {
     "name": "stderr",
     "output_type": "stream",
     "text": [
      "Training Batches: 100%|██████████| 1/1 [00:01<00:00,  1.33s/it]\n",
      "Running inference: 100%|██████████| 1/1 [00:04<00:00,  4.53s/it]\n",
      "Running inference: 100%|██████████| 1/1 [00:04<00:00,  4.06s/it]\n"
     ]
    },
    {
     "name": "stdout",
     "output_type": "stream",
     "text": [
      "Epoch: 010, Average Loss: 0.5819\n",
      "Validation: {'precision': 0.7316020482803719, 'recall': 0.9238799076203936, 'f1': 0.8165748062527393, 'auc': 0.6668355230220127, 'prauc': 0.8100197497378718}\n",
      "Test:       {'precision': 0.7391900671329392, 'recall': 0.9260264062209024, 'f1': 0.8221267663681323, 'auc': 0.6810263909614187, 'prauc': 0.8216881719915998}\n"
     ]
    },
    {
     "name": "stderr",
     "output_type": "stream",
     "text": [
      "Training Batches: 100%|██████████| 1/1 [00:01<00:00,  1.80s/it]\n",
      "Running inference: 100%|██████████| 1/1 [00:04<00:00,  4.54s/it]\n",
      "Running inference: 100%|██████████| 1/1 [00:04<00:00,  4.07s/it]\n"
     ]
    },
    {
     "name": "stdout",
     "output_type": "stream",
     "text": [
      "Epoch: 011, Average Loss: 0.5802\n",
      "Validation: {'precision': 0.723228762777072, 'recall': 0.9477136258651753, 'f1': 0.8203918383522835, 'auc': 0.6672969524701626, 'prauc': 0.8103481890392943}\n",
      "Test:       {'precision': 0.7312299763193124, 'recall': 0.9494483631751225, 'f1': 0.8261724848538649, 'auc': 0.681306645766765, 'prauc': 0.8218343199481046}\n"
     ]
    },
    {
     "name": "stderr",
     "output_type": "stream",
     "text": [
      "Training Batches: 100%|██████████| 1/1 [00:01<00:00,  1.83s/it]\n",
      "Running inference: 100%|██████████| 1/1 [00:04<00:00,  4.03s/it]\n",
      "Running inference: 100%|██████████| 1/1 [00:04<00:00,  4.15s/it]\n"
     ]
    },
    {
     "name": "stdout",
     "output_type": "stream",
     "text": [
      "Epoch: 012, Average Loss: 0.5791\n",
      "Validation: {'precision': 0.7184600470843938, 'recall': 0.9585219399529251, 'f1': 0.8213084211120221, 'auc': 0.6684295914824205, 'prauc': 0.8107518932804463}\n",
      "Test:       {'precision': 0.7271294456241162, 'recall': 0.9595767769931637, 'f1': 0.8273361613256509, 'auc': 0.6823441692314905, 'prauc': 0.8219845159788761}\n"
     ]
    },
    {
     "name": "stderr",
     "output_type": "stream",
     "text": [
      "Training Batches: 100%|██████████| 1/1 [00:01<00:00,  1.79s/it]\n",
      "Running inference: 100%|██████████| 1/1 [00:04<00:00,  4.43s/it]\n",
      "Running inference: 100%|██████████| 1/1 [00:04<00:00,  4.69s/it]\n"
     ]
    },
    {
     "name": "stdout",
     "output_type": "stream",
     "text": [
      "Epoch: 013, Average Loss: 0.5777\n",
      "Validation: {'precision': 0.7280194271832525, 'recall': 0.9416166281746498, 'f1': 0.8211552355548664, 'auc': 0.6705402622781376, 'prauc': 0.8113982558826494}\n",
      "Test:       {'precision': 0.7379751332143957, 'recall': 0.9393199493570814, 'f1': 0.8265626815791705, 'auc': 0.6845680241098803, 'prauc': 0.8224430750516343}\n"
     ]
    },
    {
     "name": "stderr",
     "output_type": "stream",
     "text": [
      "Training Batches: 100%|██████████| 1/1 [00:01<00:00,  1.32s/it]\n",
      "Running inference: 100%|██████████| 1/1 [00:04<00:00,  4.49s/it]\n",
      "Running inference: 100%|██████████| 1/1 [00:04<00:00,  4.64s/it]\n"
     ]
    },
    {
     "name": "stdout",
     "output_type": "stream",
     "text": [
      "Epoch: 014, Average Loss: 0.5763\n",
      "Validation: {'precision': 0.7433228744159001, 'recall': 0.8972748267890094, 'f1': 0.8130755014890203, 'auc': 0.6720650466738805, 'prauc': 0.8121546652997195}\n",
      "Test:       {'precision': 0.7554231591806023, 'recall': 0.8943751130395239, 'f1': 0.8190476140824089, 'auc': 0.6864270185847324, 'prauc': 0.8231661389943516}\n"
     ]
    },
    {
     "name": "stderr",
     "output_type": "stream",
     "text": [
      "Training Batches: 100%|██████████| 1/1 [00:01<00:00,  1.79s/it]\n",
      "Running inference: 100%|██████████| 1/1 [00:04<00:00,  4.04s/it]\n",
      "Running inference: 100%|██████████| 1/1 [00:04<00:00,  4.08s/it]\n"
     ]
    },
    {
     "name": "stdout",
     "output_type": "stream",
     "text": [
      "Epoch: 015, Average Loss: 0.5750\n",
      "Validation: {'precision': 0.766403297835137, 'recall': 0.824387990761363, 'f1': 0.7943388618891974, 'auc': 0.6722598980119188, 'prauc': 0.8124557179976243}\n",
      "Test:       {'precision': 0.7774900742268449, 'recall': 0.8146138542224501, 'f1': 0.7956191435623409, 'auc': 0.6866509390230469, 'prauc': 0.8234462607487212}\n"
     ]
    },
    {
     "name": "stderr",
     "output_type": "stream",
     "text": [
      "Training Batches: 100%|██████████| 1/1 [00:02<00:00,  2.72s/it]\n",
      "Running inference: 100%|██████████| 1/1 [00:04<00:00,  4.16s/it]\n",
      "Running inference: 100%|██████████| 1/1 [00:04<00:00,  4.09s/it]\n"
     ]
    },
    {
     "name": "stdout",
     "output_type": "stream",
     "text": [
      "Epoch: 016, Average Loss: 0.5747\n",
      "Validation: {'precision': 0.7706503415839139, 'recall': 0.8024018475743164, 'f1': 0.7862056430824261, 'auc': 0.6728085078893393, 'prauc': 0.8127362161807294}\n",
      "Test:       {'precision': 0.7817051509762152, 'recall': 0.795984807378553, 'f1': 0.7887803516624862, 'auc': 0.6868411480248368, 'prauc': 0.8235360135624848}\n"
     ]
    },
    {
     "name": "stderr",
     "output_type": "stream",
     "text": [
      "Training Batches: 100%|██████████| 1/1 [00:01<00:00,  1.82s/it]\n",
      "Running inference: 100%|██████████| 1/1 [00:04<00:00,  4.18s/it]\n",
      "Running inference: 100%|██████████| 1/1 [00:04<00:00,  4.02s/it]\n"
     ]
    },
    {
     "name": "stdout",
     "output_type": "stream",
     "text": [
      "Epoch: 017, Average Loss: 0.5692\n",
      "Validation: {'precision': 0.7734410456560102, 'recall': 0.7871593533480026, 'f1': 0.7802398997702973, 'auc': 0.6733147842342415, 'prauc': 0.8128636030900421}\n",
      "Test:       {'precision': 0.7847120991246495, 'recall': 0.7788931090606086, 'f1': 0.7817917713450073, 'auc': 0.6868934393977175, 'prauc': 0.8235820446714506}\n"
     ]
    },
    {
     "name": "stderr",
     "output_type": "stream",
     "text": [
      "Training Batches: 100%|██████████| 1/1 [00:01<00:00,  1.80s/it]\n",
      "Running inference: 100%|██████████| 1/1 [00:04<00:00,  4.52s/it]\n",
      "Running inference: 100%|██████████| 1/1 [00:04<00:00,  4.63s/it]\n"
     ]
    },
    {
     "name": "stdout",
     "output_type": "stream",
     "text": [
      "Epoch: 018, Average Loss: 0.5677\n",
      "Validation: {'precision': 0.773663294796989, 'recall': 0.7913163972279064, 'f1': 0.7823902767736807, 'auc': 0.6741695198565868, 'prauc': 0.8132766164183396}\n",
      "Test:       {'precision': 0.7847064178417981, 'recall': 0.7795261349242362, 'f1': 0.7821076935884663, 'auc': 0.6875245725851622, 'prauc': 0.8238706896100534}\n"
     ]
    },
    {
     "name": "stderr",
     "output_type": "stream",
     "text": [
      "Training Batches: 100%|██████████| 1/1 [00:01<00:00,  1.34s/it]\n",
      "Running inference: 100%|██████████| 1/1 [00:04<00:00,  4.52s/it]\n",
      "Running inference: 100%|██████████| 1/1 [00:04<00:00,  4.67s/it]\n"
     ]
    },
    {
     "name": "stdout",
     "output_type": "stream",
     "text": [
      "Epoch: 019, Average Loss: 0.5678\n",
      "Validation: {'precision': 0.7743757973384596, 'recall': 0.7850346420316073, 'f1': 0.779668787145947, 'auc': 0.6745679536975726, 'prauc': 0.8135018927115597}\n",
      "Test:       {'precision': 0.784877334309058, 'recall': 0.7753662506775407, 'f1': 0.7800927982020963, 'auc': 0.6877238089586963, 'prauc': 0.8239095243914493}\n"
     ]
    },
    {
     "name": "stderr",
     "output_type": "stream",
     "text": [
      "Training Batches: 100%|██████████| 1/1 [00:01<00:00,  1.35s/it]\n",
      "Running inference: 100%|██████████| 1/1 [00:04<00:00,  4.52s/it]\n",
      "Running inference: 100%|██████████| 1/1 [00:04<00:00,  4.62s/it]\n"
     ]
    },
    {
     "name": "stdout",
     "output_type": "stream",
     "text": [
      "Epoch: 020, Average Loss: 0.5647\n",
      "Validation: {'precision': 0.7746259065447767, 'recall': 0.7794919168584022, 'f1': 0.777051288856963, 'auc': 0.6748446962967747, 'prauc': 0.813659460940594}\n",
      "Test:       {'precision': 0.7854642593950023, 'recall': 0.7711159341646128, 'f1': 0.7782239614138791, 'auc': 0.6879757330770867, 'prauc': 0.8239322310763734}\n"
     ]
    },
    {
     "name": "stderr",
     "output_type": "stream",
     "text": [
      "Training Batches: 100%|██████████| 1/1 [00:01<00:00,  1.80s/it]\n",
      "Running inference: 100%|██████████| 1/1 [00:04<00:00,  4.06s/it]\n",
      "Running inference: 100%|██████████| 1/1 [00:04<00:00,  4.01s/it]\n"
     ]
    },
    {
     "name": "stdout",
     "output_type": "stream",
     "text": [
      "Epoch: 021, Average Loss: 0.5651\n",
      "Validation: {'precision': 0.7728841264068534, 'recall': 0.786235565819135, 'f1': 0.7795026739390674, 'auc': 0.6755124436764159, 'prauc': 0.8137109324677818}\n",
      "Test:       {'precision': 0.7848020434220171, 'recall': 0.7779887863982835, 'f1': 0.7813805581238176, 'auc': 0.688817220871981, 'prauc': 0.8239939644804766}\n"
     ]
    },
    {
     "name": "stderr",
     "output_type": "stream",
     "text": [
      "Training Batches: 100%|██████████| 1/1 [00:02<00:00,  2.71s/it]\n",
      "Running inference: 100%|██████████| 1/1 [00:04<00:00,  4.01s/it]\n",
      "Running inference: 100%|██████████| 1/1 [00:04<00:00,  4.08s/it]\n"
     ]
    },
    {
     "name": "stdout",
     "output_type": "stream",
     "text": [
      "Epoch: 022, Average Loss: 0.5653\n",
      "Validation: {'precision': 0.7690778670808321, 'recall': 0.8220785219391943, 'f1': 0.7946954763407907, 'auc': 0.6774818311019235, 'prauc': 0.8142453466458954}\n",
      "Test:       {'precision': 0.7799564270145708, 'recall': 0.8093687827809645, 'f1': 0.7943904445638706, 'auc': 0.6910109118430278, 'prauc': 0.8244350877457822}\n",
      "\n",
      "Early stopping triggered after 22 epochs (no improvement for 10 epochs).\n",
      "\n",
      "Best validation performance:\n",
      "{'precision': 0.7184600470843938, 'recall': 0.9585219399529251, 'f1': 0.8213084211120221, 'auc': 0.6684295914824205, 'prauc': 0.8107518932804463}\n",
      "Corresponding test performance:\n",
      "{'precision': 0.7271294456241162, 'recall': 0.9595767769931637, 'f1': 0.8273361613256509, 'auc': 0.6823441692314905, 'prauc': 0.8219845159788761}\n",
      "Corresponding test-long performance:\n",
      "{'precision': 0.8871281623550539, 'recall': 0.997499218502665, 'f1': 0.9390818078454622, 'auc': 0.5677744649726266, 'prauc': 0.9059252041897594}\n",
      "[INFO] Random seed set to 667779376\n",
      "Training with seed: 667779376\n"
     ]
    },
    {
     "name": "stderr",
     "output_type": "stream",
     "text": [
      "Training Batches: 100%|██████████| 1/1 [00:01<00:00,  1.80s/it]\n",
      "Running inference: 100%|██████████| 1/1 [00:04<00:00,  4.05s/it]\n",
      "Running inference: 100%|██████████| 1/1 [00:04<00:00,  4.04s/it]\n"
     ]
    },
    {
     "name": "stdout",
     "output_type": "stream",
     "text": [
      "Epoch: 001, Average Loss: 0.6874\n",
      "Validation: {'precision': 0.7556196454315416, 'recall': 0.822909930715175, 'f1': 0.7878305424568725, 'auc': 0.6596879895508648, 'prauc': 0.8065879748829853}\n",
      "Test:       {'precision': 0.7654539329621312, 'recall': 0.8219388677872834, 'f1': 0.792691430554218, 'auc': 0.6759799613354993, 'prauc': 0.821047806618735}\n"
     ]
    },
    {
     "name": "stderr",
     "output_type": "stream",
     "text": [
      "Training Batches: 100%|██████████| 1/1 [00:01<00:00,  1.77s/it]\n",
      "Running inference: 100%|██████████| 1/1 [00:04<00:00,  4.51s/it]\n",
      "Running inference: 100%|██████████| 1/1 [00:04<00:00,  4.54s/it]\n"
     ]
    },
    {
     "name": "stdout",
     "output_type": "stream",
     "text": [
      "Epoch: 002, Average Loss: 0.6684\n",
      "Validation: {'precision': 0.7688306863557455, 'recall': 0.7647113163965221, 'f1': 0.7667654636914341, 'auc': 0.6609638196676303, 'prauc': 0.807832886993939}\n",
      "Test:       {'precision': 0.7793888226110127, 'recall': 0.7680412371127074, 'f1': 0.7736734179100628, 'auc': 0.6760616139624723, 'prauc': 0.8210470538850069}\n"
     ]
    },
    {
     "name": "stderr",
     "output_type": "stream",
     "text": [
      "Training Batches: 100%|██████████| 1/1 [00:01<00:00,  1.80s/it]\n",
      "Running inference: 100%|██████████| 1/1 [00:04<00:00,  4.10s/it]\n",
      "Running inference: 100%|██████████| 1/1 [00:04<00:00,  4.09s/it]\n"
     ]
    },
    {
     "name": "stdout",
     "output_type": "stream",
     "text": [
      "Epoch: 003, Average Loss: 0.6520\n",
      "Validation: {'precision': 0.7728186955265081, 'recall': 0.7454041570431913, 'f1': 0.7588639092302027, 'auc': 0.6613995199373375, 'prauc': 0.808167136883012}\n",
      "Test:       {'precision': 0.7847764034245625, 'recall': 0.7458853318857425, 'f1': 0.764836790254744, 'auc': 0.6759536422363195, 'prauc': 0.8208871954457811}\n"
     ]
    },
    {
     "name": "stderr",
     "output_type": "stream",
     "text": [
      "Training Batches: 100%|██████████| 1/1 [00:02<00:00,  2.71s/it]\n",
      "Running inference: 100%|██████████| 1/1 [00:04<00:00,  4.06s/it]\n",
      "Running inference: 100%|██████████| 1/1 [00:04<00:00,  4.20s/it]\n"
     ]
    },
    {
     "name": "stdout",
     "output_type": "stream",
     "text": [
      "Epoch: 004, Average Loss: 0.6365\n",
      "Validation: {'precision': 0.7738026543558628, 'recall': 0.7432794457267959, 'f1': 0.7582339864257075, 'auc': 0.6621049274051584, 'prauc': 0.8085130416005265}\n",
      "Test:       {'precision': 0.7857347738782046, 'recall': 0.7431723638987672, 'f1': 0.7638611280607472, 'auc': 0.6763404220101077, 'prauc': 0.8209730240279162}\n"
     ]
    },
    {
     "name": "stderr",
     "output_type": "stream",
     "text": [
      "Training Batches: 100%|██████████| 1/1 [00:01<00:00,  1.82s/it]\n",
      "Running inference: 100%|██████████| 1/1 [00:04<00:00,  4.13s/it]\n",
      "Running inference: 100%|██████████| 1/1 [00:04<00:00,  4.13s/it]\n"
     ]
    },
    {
     "name": "stdout",
     "output_type": "stream",
     "text": [
      "Epoch: 005, Average Loss: 0.6209\n",
      "Validation: {'precision': 0.7736335018594165, 'recall': 0.749191685911548, 'f1': 0.7612164395284503, 'auc': 0.6630158352040569, 'prauc': 0.8089909767756662}\n",
      "Test:       {'precision': 0.7845309097786759, 'recall': 0.7494121902688103, 'f1': 0.7665695338761543, 'auc': 0.6771003959082204, 'prauc': 0.8211722109434741}\n"
     ]
    },
    {
     "name": "stderr",
     "output_type": "stream",
     "text": [
      "Training Batches: 100%|██████████| 1/1 [00:01<00:00,  1.80s/it]\n",
      "Running inference: 100%|██████████| 1/1 [00:04<00:00,  4.53s/it]\n",
      "Running inference: 100%|██████████| 1/1 [00:04<00:00,  4.57s/it]\n"
     ]
    },
    {
     "name": "stdout",
     "output_type": "stream",
     "text": [
      "Epoch: 006, Average Loss: 0.6082\n",
      "Validation: {'precision': 0.7722014925365931, 'recall': 0.7647113163965221, 'f1': 0.768438147703049, 'auc': 0.6641924833249891, 'prauc': 0.8095626005869905}\n",
      "Test:       {'precision': 0.7824558156743013, 'recall': 0.7646952432621046, 'f1': 0.7734735829258603, 'auc': 0.678174365776102, 'prauc': 0.8215585282232163}\n"
     ]
    },
    {
     "name": "stderr",
     "output_type": "stream",
     "text": [
      "Training Batches: 100%|██████████| 1/1 [00:01<00:00,  1.31s/it]\n",
      "Running inference: 100%|██████████| 1/1 [00:04<00:00,  4.53s/it]\n",
      "Running inference: 100%|██████████| 1/1 [00:04<00:00,  4.58s/it]\n"
     ]
    },
    {
     "name": "stdout",
     "output_type": "stream",
     "text": [
      "Epoch: 007, Average Loss: 0.5962\n",
      "Validation: {'precision': 0.7645547186524018, 'recall': 0.7970438799068849, 'f1': 0.7804613247165193, 'auc': 0.665454606017539, 'prauc': 0.8101449181873399}\n",
      "Test:       {'precision': 0.7765677147367147, 'recall': 0.7996020980278534, 'f1': 0.7879165874081362, 'auc': 0.6794360574116268, 'prauc': 0.8220077513300577}\n"
     ]
    },
    {
     "name": "stderr",
     "output_type": "stream",
     "text": [
      "Training Batches: 100%|██████████| 1/1 [00:01<00:00,  1.33s/it]\n",
      "Running inference: 100%|██████████| 1/1 [00:04<00:00,  4.64s/it]\n",
      "Running inference: 100%|██████████| 1/1 [00:04<00:00,  4.60s/it]\n"
     ]
    },
    {
     "name": "stdout",
     "output_type": "stream",
     "text": [
      "Epoch: 008, Average Loss: 0.5878\n",
      "Validation: {'precision': 0.7526696237877832, 'recall': 0.8464665127012965, 'f1': 0.7968172479405491, 'auc': 0.6667911000662154, 'prauc': 0.8106785173145187}\n",
      "Test:       {'precision': 0.7626995057921391, 'recall': 0.8513293543128492, 'f1': 0.8045809958263203, 'auc': 0.6807227204816141, 'prauc': 0.8224447620173965}\n"
     ]
    },
    {
     "name": "stderr",
     "output_type": "stream",
     "text": [
      "Training Batches: 100%|██████████| 1/1 [00:01<00:00,  1.87s/it]\n",
      "Running inference: 100%|██████████| 1/1 [00:04<00:00,  4.07s/it]\n",
      "Running inference: 100%|██████████| 1/1 [00:04<00:00,  4.08s/it]\n"
     ]
    },
    {
     "name": "stdout",
     "output_type": "stream",
     "text": [
      "Epoch: 009, Average Loss: 0.5824\n",
      "Validation: {'precision': 0.7342886998053931, 'recall': 0.9088221708998532, 'f1': 0.8122858390882753, 'auc': 0.6682582284920622, 'prauc': 0.8112661641626562}\n",
      "Test:       {'precision': 0.7446276125988043, 'recall': 0.9149936697405362, 'f1': 0.8210662938429013, 'auc': 0.6819893172203368, 'prauc': 0.822847797025501}\n"
     ]
    },
    {
     "name": "stderr",
     "output_type": "stream",
     "text": [
      "Training Batches: 100%|██████████| 1/1 [00:02<00:00,  2.70s/it]\n",
      "Running inference: 100%|██████████| 1/1 [00:04<00:00,  4.10s/it]\n",
      "Running inference: 100%|██████████| 1/1 [00:04<00:00,  4.16s/it]\n"
     ]
    },
    {
     "name": "stdout",
     "output_type": "stream",
     "text": [
      "Epoch: 010, Average Loss: 0.5795\n",
      "Validation: {'precision': 0.7173027814198928, 'recall': 0.9600923787519998, 'f1': 0.8211266443890832, 'auc': 0.6695617560845621, 'prauc': 0.8118362572631053}\n",
      "Test:       {'precision': 0.7267330786021242, 'recall': 0.9631940676424641, 'f1': 0.8284203108785355, 'auc': 0.6822968820548019, 'prauc': 0.8230005091417167}\n"
     ]
    },
    {
     "name": "stderr",
     "output_type": "stream",
     "text": [
      "Training Batches: 100%|██████████| 1/1 [00:01<00:00,  1.86s/it]\n",
      "Running inference: 100%|██████████| 1/1 [00:04<00:00,  4.04s/it]\n",
      "Running inference: 100%|██████████| 1/1 [00:04<00:00,  4.10s/it]\n"
     ]
    },
    {
     "name": "stdout",
     "output_type": "stream",
     "text": [
      "Epoch: 011, Average Loss: 0.5807\n",
      "Validation: {'precision': 0.717240431525653, 'recall': 0.9642494226319036, 'f1': 0.8226022490279669, 'auc': 0.671313944427397, 'prauc': 0.8126529011347934}\n",
      "Test:       {'precision': 0.7269073569477337, 'recall': 0.9650027129671143, 'f1': 0.8292019532924843, 'auc': 0.6838780296840594, 'prauc': 0.8235657840263751}\n"
     ]
    },
    {
     "name": "stderr",
     "output_type": "stream",
     "text": [
      "Training Batches: 100%|██████████| 1/1 [00:01<00:00,  1.82s/it]\n",
      "Running inference: 100%|██████████| 1/1 [00:04<00:00,  4.41s/it]\n",
      "Running inference: 100%|██████████| 1/1 [00:04<00:00,  4.64s/it]\n"
     ]
    },
    {
     "name": "stdout",
     "output_type": "stream",
     "text": [
      "Epoch: 012, Average Loss: 0.5819\n",
      "Validation: {'precision': 0.7282289803214824, 'recall': 0.9401385681284617, 'f1': 0.8207258015316166, 'auc': 0.6726137070204623, 'prauc': 0.8133798403712238}\n",
      "Test:       {'precision': 0.7373708787316136, 'recall': 0.9424850786752192, 'f1': 0.8274055206375589, 'auc': 0.6857458632539674, 'prauc': 0.8242803761765943}\n"
     ]
    },
    {
     "name": "stderr",
     "output_type": "stream",
     "text": [
      "Training Batches: 100%|██████████| 1/1 [00:01<00:00,  1.32s/it]\n",
      "Running inference: 100%|██████████| 1/1 [00:04<00:00,  4.59s/it]\n",
      "Running inference: 100%|██████████| 1/1 [00:04<00:00,  4.68s/it]\n"
     ]
    },
    {
     "name": "stdout",
     "output_type": "stream",
     "text": [
      "Epoch: 013, Average Loss: 0.5789\n",
      "Validation: {'precision': 0.7288414721461199, 'recall': 0.9403233256342352, 'f1': 0.82118510257829, 'auc': 0.6736440753242139, 'prauc': 0.8140221379213775}\n",
      "Test:       {'precision': 0.7385282000278884, 'recall': 0.9402242720194065, 'f1': 0.8272597022643884, 'auc': 0.6868218348003259, 'prauc': 0.8247593714464083}\n"
     ]
    },
    {
     "name": "stderr",
     "output_type": "stream",
     "text": [
      "Training Batches: 100%|██████████| 1/1 [00:01<00:00,  1.33s/it]\n",
      "Running inference: 100%|██████████| 1/1 [00:04<00:00,  4.56s/it]\n",
      "Running inference: 100%|██████████| 1/1 [00:04<00:00,  4.61s/it]\n"
     ]
    },
    {
     "name": "stdout",
     "output_type": "stream",
     "text": [
      "Epoch: 014, Average Loss: 0.5772\n",
      "Validation: {'precision': 0.740540945530276, 'recall': 0.9130715935326438, 'f1': 0.8178057206867166, 'auc': 0.6740637264006202, 'prauc': 0.814299529030055}\n",
      "Test:       {'precision': 0.7507619118406669, 'recall': 0.913365888948351, 'f1': 0.8241197780016568, 'auc': 0.6879793896085618, 'prauc': 0.825167218172242}\n"
     ]
    },
    {
     "name": "stderr",
     "output_type": "stream",
     "text": [
      "Training Batches: 100%|██████████| 1/1 [00:01<00:00,  1.81s/it]\n",
      "Running inference: 100%|██████████| 1/1 [00:04<00:00,  4.03s/it]\n",
      "Running inference: 100%|██████████| 1/1 [00:04<00:00,  4.02s/it]\n"
     ]
    },
    {
     "name": "stdout",
     "output_type": "stream",
     "text": [
      "Epoch: 015, Average Loss: 0.5743\n",
      "Validation: {'precision': 0.7526080476894246, 'recall': 0.8863741339483728, 'f1': 0.8140324036183448, 'auc': 0.6754748946203912, 'prauc': 0.8146882933149875}\n",
      "Test:       {'precision': 0.7615456383138224, 'recall': 0.8857840477474355, 'f1': 0.8189799281381225, 'auc': 0.6895770263120041, 'prauc': 0.8254381519026148}\n"
     ]
    },
    {
     "name": "stderr",
     "output_type": "stream",
     "text": [
      "Training Batches: 100%|██████████| 1/1 [00:02<00:00,  2.73s/it]\n",
      "Running inference: 100%|██████████| 1/1 [00:04<00:00,  4.06s/it]\n",
      "Running inference: 100%|██████████| 1/1 [00:04<00:00,  4.15s/it]\n"
     ]
    },
    {
     "name": "stdout",
     "output_type": "stream",
     "text": [
      "Epoch: 016, Average Loss: 0.5777\n",
      "Validation: {'precision': 0.7544839521705833, 'recall': 0.8860046189368258, 'f1': 0.8149721665061445, 'auc': 0.6769649764208079, 'prauc': 0.8150950319600037}\n",
      "Test:       {'precision': 0.7629854936821377, 'recall': 0.8846988605526453, 'f1': 0.819346728694939, 'auc': 0.6903400225464307, 'prauc': 0.825509815970245}\n"
     ]
    },
    {
     "name": "stderr",
     "output_type": "stream",
     "text": [
      "Training Batches: 100%|██████████| 1/1 [00:01<00:00,  1.86s/it]\n",
      "Running inference: 100%|██████████| 1/1 [00:03<00:00,  3.98s/it]\n",
      "Running inference: 100%|██████████| 1/1 [00:04<00:00,  4.08s/it]\n"
     ]
    },
    {
     "name": "stdout",
     "output_type": "stream",
     "text": [
      "Epoch: 017, Average Loss: 0.5695\n",
      "Validation: {'precision': 0.7546090273357003, 'recall': 0.8772286374125845, 'f1': 0.811311883617397, 'auc': 0.6772640062016506, 'prauc': 0.8152997417230652}\n",
      "Test:       {'precision': 0.7653383934212797, 'recall': 0.8753843371306969, 'f1': 0.816670880029819, 'auc': 0.6905592459768344, 'prauc': 0.8256846179385209}\n"
     ]
    },
    {
     "name": "stderr",
     "output_type": "stream",
     "text": [
      "Training Batches: 100%|██████████| 1/1 [00:01<00:00,  1.82s/it]\n",
      "Running inference: 100%|██████████| 1/1 [00:04<00:00,  4.50s/it]\n",
      "Running inference: 100%|██████████| 1/1 [00:04<00:00,  4.65s/it]\n"
     ]
    },
    {
     "name": "stdout",
     "output_type": "stream",
     "text": [
      "Epoch: 018, Average Loss: 0.5690\n",
      "Validation: {'precision': 0.7608036080354564, 'recall': 0.8570900692832728, 'f1': 0.8060816631316918, 'auc': 0.6771156975241848, 'prauc': 0.8152899337493873}\n",
      "Test:       {'precision': 0.7697835851361619, 'recall': 0.8524145415076393, 'f1': 0.8089945450702113, 'auc': 0.690712929301073, 'prauc': 0.8259012090169884}\n"
     ]
    },
    {
     "name": "stderr",
     "output_type": "stream",
     "text": [
      "Training Batches: 100%|██████████| 1/1 [00:01<00:00,  1.33s/it]\n",
      "Running inference: 100%|██████████| 1/1 [00:04<00:00,  4.50s/it]\n",
      "Running inference: 100%|██████████| 1/1 [00:04<00:00,  4.59s/it]\n"
     ]
    },
    {
     "name": "stdout",
     "output_type": "stream",
     "text": [
      "Epoch: 019, Average Loss: 0.5692\n",
      "Validation: {'precision': 0.7643644317315013, 'recall': 0.8393533487290167, 'f1': 0.800105666021147, 'auc': 0.6772069154863612, 'prauc': 0.8152439610506694}\n",
      "Test:       {'precision': 0.7736528953316235, 'recall': 0.8348706818585323, 'f1': 0.8030968589968006, 'auc': 0.6910228129115952, 'prauc': 0.826041052183079}\n"
     ]
    },
    {
     "name": "stderr",
     "output_type": "stream",
     "text": [
      "Training Batches: 100%|██████████| 1/1 [00:01<00:00,  1.35s/it]\n",
      "Running inference: 100%|██████████| 1/1 [00:04<00:00,  4.47s/it]\n",
      "Running inference: 100%|██████████| 1/1 [00:04<00:00,  4.59s/it]\n"
     ]
    },
    {
     "name": "stdout",
     "output_type": "stream",
     "text": [
      "Epoch: 020, Average Loss: 0.5675\n",
      "Validation: {'precision': 0.7651784204289149, 'recall': 0.835935334872207, 'f1': 0.7989934169330363, 'auc': 0.6779144729404544, 'prauc': 0.8154455645363503}\n",
      "Test:       {'precision': 0.7742587601071644, 'recall': 0.8312533912092319, 'f1': 0.8017444346043806, 'auc': 0.6917758205722366, 'prauc': 0.8263079906032131}\n"
     ]
    },
    {
     "name": "stderr",
     "output_type": "stream",
     "text": [
      "Training Batches: 100%|██████████| 1/1 [00:01<00:00,  1.83s/it]\n",
      "Running inference: 100%|██████████| 1/1 [00:04<00:00,  4.09s/it]\n",
      "Running inference: 100%|██████████| 1/1 [00:04<00:00,  4.07s/it]\n"
     ]
    },
    {
     "name": "stdout",
     "output_type": "stream",
     "text": [
      "Epoch: 021, Average Loss: 0.5665\n",
      "Validation: {'precision': 0.7618497109820298, 'recall': 0.8522863741331618, 'f1': 0.8045345491898359, 'auc': 0.6794066239764853, 'prauc': 0.8160186266172069}\n",
      "Test:       {'precision': 0.7714826083374956, 'recall': 0.8484355217934089, 'f1': 0.8081312668138517, 'auc': 0.6932920028346938, 'prauc': 0.8268934976914365}\n",
      "\n",
      "Early stopping triggered after 21 epochs (no improvement for 10 epochs).\n",
      "\n",
      "Best validation performance:\n",
      "{'precision': 0.717240431525653, 'recall': 0.9642494226319036, 'f1': 0.8226022490279669, 'auc': 0.671313944427397, 'prauc': 0.8126529011347934}\n",
      "Corresponding test performance:\n",
      "{'precision': 0.7269073569477337, 'recall': 0.9650027129671143, 'f1': 0.8292019532924843, 'auc': 0.6838780296840594, 'prauc': 0.8235657840263751}\n",
      "Corresponding test-long performance:\n",
      "{'precision': 0.8869758400419689, 'recall': 0.9984370115629934, 'f1': 0.939411759720594, 'auc': 0.5704670851450369, 'prauc': 0.9073230700328526}\n",
      "[INFO] Random seed set to 1445662585\n",
      "Training with seed: 1445662585\n"
     ]
    },
    {
     "name": "stderr",
     "output_type": "stream",
     "text": [
      "Training Batches: 100%|██████████| 1/1 [00:02<00:00,  2.76s/it]\n",
      "Running inference: 100%|██████████| 1/1 [00:04<00:00,  4.20s/it]\n",
      "Running inference: 100%|██████████| 1/1 [00:04<00:00,  4.20s/it]\n"
     ]
    },
    {
     "name": "stdout",
     "output_type": "stream",
     "text": [
      "Epoch: 001, Average Loss: 0.6873\n",
      "Validation: {'precision': 0.756984890688987, 'recall': 0.8284526558883801, 'f1': 0.7911079696036752, 'auc': 0.6604680409082835, 'prauc': 0.8051883141720569}\n",
      "Test:       {'precision': 0.7660178765343195, 'recall': 0.8292638813521167, 'f1': 0.7963871590177626, 'auc': 0.6741056867209879, 'prauc': 0.8183346006451863}\n"
     ]
    },
    {
     "name": "stderr",
     "output_type": "stream",
     "text": [
      "Training Batches: 100%|██████████| 1/1 [00:01<00:00,  1.82s/it]\n",
      "Running inference: 100%|██████████| 1/1 [00:04<00:00,  4.11s/it]\n",
      "Running inference: 100%|██████████| 1/1 [00:04<00:00,  4.14s/it]\n"
     ]
    },
    {
     "name": "stdout",
     "output_type": "stream",
     "text": [
      "Epoch: 002, Average Loss: 0.6665\n",
      "Validation: {'precision': 0.770502461223395, 'recall': 0.7663741339484836, 'f1': 0.7684327478707581, 'auc': 0.6617123782683829, 'prauc': 0.8065346350903794}\n",
      "Test:       {'precision': 0.7804855618900307, 'recall': 0.7674986435153124, 'f1': 0.7739376203872078, 'auc': 0.6756501897611015, 'prauc': 0.8199021121170937}\n"
     ]
    },
    {
     "name": "stderr",
     "output_type": "stream",
     "text": [
      "Training Batches: 100%|██████████| 1/1 [00:01<00:00,  1.83s/it]\n",
      "Running inference: 100%|██████████| 1/1 [00:04<00:00,  4.53s/it]\n",
      "Running inference: 100%|██████████| 1/1 [00:03<00:00,  3.61s/it]\n"
     ]
    },
    {
     "name": "stdout",
     "output_type": "stream",
     "text": [
      "Epoch: 003, Average Loss: 0.6493\n",
      "Validation: {'precision': 0.7732359635804502, 'recall': 0.7531639722856783, 'f1': 0.7630679906948483, 'auc': 0.6627762076260921, 'prauc': 0.8075756725916927}\n",
      "Test:       {'precision': 0.7840876878004497, 'recall': 0.750406945197368, 'f1': 0.7668776808757354, 'auc': 0.6769880343624378, 'prauc': 0.8206867837816252}\n"
     ]
    },
    {
     "name": "stderr",
     "output_type": "stream",
     "text": [
      "Training Batches: 100%|██████████| 1/1 [00:02<00:00,  2.25s/it]\n",
      "Running inference: 100%|██████████| 1/1 [00:03<00:00,  3.98s/it]\n",
      "Running inference: 100%|██████████| 1/1 [00:03<00:00,  3.99s/it]\n"
     ]
    },
    {
     "name": "stdout",
     "output_type": "stream",
     "text": [
      "Epoch: 004, Average Loss: 0.6338\n",
      "Validation: {'precision': 0.7735188339951036, 'recall': 0.7550115473434134, 'f1': 0.7641531435204243, 'auc': 0.664061354350038, 'prauc': 0.8086244090216741}\n",
      "Test:       {'precision': 0.7853575803252753, 'recall': 0.7537529390479709, 'f1': 0.7692307642321676, 'auc': 0.6784847547608932, 'prauc': 0.8214798688766518}\n"
     ]
    },
    {
     "name": "stderr",
     "output_type": "stream",
     "text": [
      "Training Batches: 100%|██████████| 1/1 [00:02<00:00,  2.25s/it]\n",
      "Running inference: 100%|██████████| 1/1 [00:04<00:00,  4.50s/it]\n",
      "Running inference: 100%|██████████| 1/1 [00:05<00:00,  5.19s/it]\n"
     ]
    },
    {
     "name": "stdout",
     "output_type": "stream",
     "text": [
      "Epoch: 005, Average Loss: 0.6182\n",
      "Validation: {'precision': 0.7738465893001473, 'recall': 0.7576905311771291, 'f1': 0.7656833407802748, 'auc': 0.6649340670876468, 'prauc': 0.809254459971256}\n",
      "Test:       {'precision': 0.7846773438224364, 'recall': 0.7576415264959688, 'f1': 0.7709224702711285, 'auc': 0.6794091338451843, 'prauc': 0.821872753407951}\n"
     ]
    },
    {
     "name": "stderr",
     "output_type": "stream",
     "text": [
      "Training Batches: 100%|██████████| 1/1 [00:01<00:00,  1.34s/it]\n",
      "Running inference: 100%|██████████| 1/1 [00:04<00:00,  4.62s/it]\n",
      "Running inference: 100%|██████████| 1/1 [00:04<00:00,  4.11s/it]\n"
     ]
    },
    {
     "name": "stdout",
     "output_type": "stream",
     "text": [
      "Epoch: 006, Average Loss: 0.6053\n",
      "Validation: {'precision': 0.7735321528417767, 'recall': 0.7667436489600307, 'f1': 0.770122936312303, 'auc': 0.665527887239781, 'prauc': 0.809586653264853}\n",
      "Test:       {'precision': 0.7834441980776206, 'recall': 0.7668656176516848, 'f1': 0.7750662595095059, 'auc': 0.6800649312788105, 'prauc': 0.8221357040910479}\n"
     ]
    },
    {
     "name": "stderr",
     "output_type": "stream",
     "text": [
      "Training Batches: 100%|██████████| 1/1 [00:01<00:00,  1.77s/it]\n",
      "Running inference: 100%|██████████| 1/1 [00:04<00:00,  4.57s/it]\n",
      "Running inference: 100%|██████████| 1/1 [00:04<00:00,  4.12s/it]\n"
     ]
    },
    {
     "name": "stdout",
     "output_type": "stream",
     "text": [
      "Epoch: 007, Average Loss: 0.5935\n",
      "Validation: {'precision': 0.7664849657105973, 'recall': 0.8053579676666924, 'f1': 0.7854407806233242, 'auc': 0.6664774342285888, 'prauc': 0.8100552018958458}\n",
      "Test:       {'precision': 0.775869584168097, 'recall': 0.804847169469339, 'f1': 0.7900927643205226, 'auc': 0.6810628571831738, 'prauc': 0.8225102796025283}\n"
     ]
    },
    {
     "name": "stderr",
     "output_type": "stream",
     "text": [
      "Training Batches: 100%|██████████| 1/1 [00:01<00:00,  1.35s/it]\n",
      "Running inference: 100%|██████████| 1/1 [00:04<00:00,  4.60s/it]\n",
      "Running inference: 100%|██████████| 1/1 [00:04<00:00,  4.18s/it]\n"
     ]
    },
    {
     "name": "stdout",
     "output_type": "stream",
     "text": [
      "Epoch: 008, Average Loss: 0.5866\n",
      "Validation: {'precision': 0.7405700238144421, 'recall': 0.8905311778282766, 'f1': 0.808656986904684, 'auc': 0.6679498215410455, 'prauc': 0.8106508154135346}\n",
      "Test:       {'precision': 0.7516890609574495, 'recall': 0.895460300234314, 'f1': 0.8173001477343772, 'auc': 0.6824574226142183, 'prauc': 0.8229812338411121}\n"
     ]
    },
    {
     "name": "stderr",
     "output_type": "stream",
     "text": [
      "Training Batches: 100%|██████████| 1/1 [00:01<00:00,  1.82s/it]\n",
      "Running inference: 100%|██████████| 1/1 [00:04<00:00,  4.56s/it]\n",
      "Running inference: 100%|██████████| 1/1 [00:04<00:00,  4.22s/it]\n"
     ]
    },
    {
     "name": "stdout",
     "output_type": "stream",
     "text": [
      "Epoch: 009, Average Loss: 0.5819\n",
      "Validation: {'precision': 0.7149026597198279, 'recall': 0.9634180138559229, 'f1': 0.8207610229293901, 'auc': 0.6691506948594131, 'prauc': 0.8112172971635057}\n",
      "Test:       {'precision': 0.7236565697630116, 'recall': 0.9657261710969743, 'f1': 0.8273484359309928, 'auc': 0.683182050041407, 'prauc': 0.8233314416774192}\n"
     ]
    },
    {
     "name": "stderr",
     "output_type": "stream",
     "text": [
      "Training Batches: 100%|██████████| 1/1 [00:01<00:00,  1.33s/it]\n",
      "Running inference: 100%|██████████| 1/1 [00:04<00:00,  4.52s/it]\n",
      "Running inference: 100%|██████████| 1/1 [00:04<00:00,  4.12s/it]\n"
     ]
    },
    {
     "name": "stdout",
     "output_type": "stream",
     "text": [
      "Epoch: 010, Average Loss: 0.5808\n",
      "Validation: {'precision': 0.7060140965676134, 'recall': 0.9901154734401938, 'f1': 0.8242713171422619, 'auc': 0.6687881849674575, 'prauc': 0.811361885877483}\n",
      "Test:       {'precision': 0.7127521145083195, 'recall': 0.9906854765771471, 'f1': 0.8290449474557725, 'auc': 0.6821182669332981, 'prauc': 0.8231804490580321}\n"
     ]
    },
    {
     "name": "stderr",
     "output_type": "stream",
     "text": [
      "Training Batches: 100%|██████████| 1/1 [00:01<00:00,  1.80s/it]\n",
      "Running inference: 100%|██████████| 1/1 [00:04<00:00,  4.58s/it]\n",
      "Running inference: 100%|██████████| 1/1 [00:04<00:00,  4.16s/it]\n"
     ]
    },
    {
     "name": "stdout",
     "output_type": "stream",
     "text": [
      "Epoch: 011, Average Loss: 0.5802\n",
      "Validation: {'precision': 0.7053571428566797, 'recall': 0.9925173210152494, 'f1': 0.824653639076842, 'auc': 0.6695827714433372, 'prauc': 0.8119970847000049}\n",
      "Test:       {'precision': 0.7115434500643893, 'recall': 0.9922228251030998, 'f1': 0.8287634969101297, 'auc': 0.6832104401841591, 'prauc': 0.8237561410371985}\n"
     ]
    },
    {
     "name": "stderr",
     "output_type": "stream",
     "text": [
      "Training Batches: 100%|██████████| 1/1 [00:01<00:00,  1.81s/it]\n",
      "Running inference: 100%|██████████| 1/1 [00:03<00:00,  3.98s/it]\n",
      "Running inference: 100%|██████████| 1/1 [00:04<00:00,  4.14s/it]\n"
     ]
    },
    {
     "name": "stdout",
     "output_type": "stream",
     "text": [
      "Epoch: 012, Average Loss: 0.5776\n",
      "Validation: {'precision': 0.7064866644710527, 'recall': 0.9910392609690614, 'f1': 0.8249134899495498, 'auc': 0.6720007994315154, 'prauc': 0.812901700323925}\n",
      "Test:       {'precision': 0.7123171920697352, 'recall': 0.9910472056420772, 'f1': 0.8288772027118203, 'auc': 0.6859518874975836, 'prauc': 0.8247004520150891}\n"
     ]
    },
    {
     "name": "stderr",
     "output_type": "stream",
     "text": [
      "Training Batches: 100%|██████████| 1/1 [00:01<00:00,  1.81s/it]\n",
      "Running inference: 100%|██████████| 1/1 [00:04<00:00,  4.62s/it]\n",
      "Running inference: 100%|██████████| 1/1 [00:04<00:00,  4.72s/it]\n"
     ]
    },
    {
     "name": "stdout",
     "output_type": "stream",
     "text": [
      "Epoch: 013, Average Loss: 0.5781\n",
      "Validation: {'precision': 0.7236954055581936, 'recall': 0.9429099307150642, 'f1': 0.8188856302898277, 'auc': 0.673625815581647, 'prauc': 0.8137466086928293}\n",
      "Test:       {'precision': 0.7347914761933083, 'recall': 0.9448363175972645, 'f1': 0.8266803764519108, 'auc': 0.6885335275397464, 'prauc': 0.8256763463771168}\n"
     ]
    },
    {
     "name": "stderr",
     "output_type": "stream",
     "text": [
      "Training Batches: 100%|██████████| 1/1 [00:01<00:00,  1.32s/it]\n",
      "Running inference: 100%|██████████| 1/1 [00:04<00:00,  4.44s/it]\n",
      "Running inference: 100%|██████████| 1/1 [00:04<00:00,  4.57s/it]\n"
     ]
    },
    {
     "name": "stdout",
     "output_type": "stream",
     "text": [
      "Epoch: 014, Average Loss: 0.5761\n",
      "Validation: {'precision': 0.7489014438161103, 'recall': 0.8816628175511485, 'f1': 0.809877376338412, 'auc': 0.6742430231431386, 'prauc': 0.814242291217701}\n",
      "Test:       {'precision': 0.7603524916160334, 'recall': 0.8817145957669725, 'f1': 0.8165487157669657, 'auc': 0.68881610112115, 'prauc': 0.825923640962644}\n"
     ]
    },
    {
     "name": "stderr",
     "output_type": "stream",
     "text": [
      "Training Batches: 100%|██████████| 1/1 [00:01<00:00,  1.81s/it]\n",
      "Running inference: 100%|██████████| 1/1 [00:03<00:00,  3.98s/it]\n",
      "Running inference: 100%|██████████| 1/1 [00:04<00:00,  4.08s/it]\n"
     ]
    },
    {
     "name": "stdout",
     "output_type": "stream",
     "text": [
      "Epoch: 015, Average Loss: 0.5719\n",
      "Validation: {'precision': 0.7602547138597748, 'recall': 0.8492378752878991, 'f1': 0.8022865072107691, 'auc': 0.6745714966326974, 'prauc': 0.8147380155265578}\n",
      "Test:       {'precision': 0.7716105550494071, 'recall': 0.8435521794168533, 'f1': 0.805979171576381, 'auc': 0.688881611499417, 'prauc': 0.8262403739114196}\n"
     ]
    },
    {
     "name": "stderr",
     "output_type": "stream",
     "text": [
      "Training Batches: 100%|██████████| 1/1 [00:02<00:00,  2.69s/it]\n",
      "Running inference: 100%|██████████| 1/1 [00:04<00:00,  4.01s/it]\n",
      "Running inference: 100%|██████████| 1/1 [00:04<00:00,  4.10s/it]\n"
     ]
    },
    {
     "name": "stdout",
     "output_type": "stream",
     "text": [
      "Epoch: 016, Average Loss: 0.5751\n",
      "Validation: {'precision': 0.7737134660204646, 'recall': 0.7972286374126584, 'f1': 0.7852950493704863, 'auc': 0.6740860640514219, 'prauc': 0.8147928076241346}\n",
      "Test:       {'precision': 0.7827799158679112, 'recall': 0.7909206004695325, 'f1': 0.7868291974644523, 'auc': 0.6884664415828765, 'prauc': 0.8261229983712731}\n"
     ]
    },
    {
     "name": "stderr",
     "output_type": "stream",
     "text": [
      "Training Batches: 100%|██████████| 1/1 [00:01<00:00,  1.82s/it]\n",
      "Running inference: 100%|██████████| 1/1 [00:04<00:00,  4.11s/it]\n",
      "Running inference: 100%|██████████| 1/1 [00:04<00:00,  4.07s/it]\n"
     ]
    },
    {
     "name": "stdout",
     "output_type": "stream",
     "text": [
      "Epoch: 017, Average Loss: 0.5702\n",
      "Validation: {'precision': 0.7777263469720628, 'recall': 0.7760739030015925, 'f1': 0.776899241311767, 'auc': 0.6741504021382774, 'prauc': 0.8148805757285683}\n",
      "Test:       {'precision': 0.7877240226568969, 'recall': 0.7671369144503823, 'f1': 0.7772941719369857, 'auc': 0.6884090072836124, 'prauc': 0.8261242612969348}\n"
     ]
    },
    {
     "name": "stderr",
     "output_type": "stream",
     "text": [
      "Training Batches: 100%|██████████| 1/1 [00:01<00:00,  1.78s/it]\n",
      "Running inference: 100%|██████████| 1/1 [00:04<00:00,  4.50s/it]\n",
      "Running inference: 100%|██████████| 1/1 [00:04<00:00,  4.66s/it]\n"
     ]
    },
    {
     "name": "stdout",
     "output_type": "stream",
     "text": [
      "Epoch: 018, Average Loss: 0.5748\n",
      "Validation: {'precision': 0.7779731605730884, 'recall': 0.7765357967660262, 'f1': 0.7772538091463037, 'auc': 0.6750232158142088, 'prauc': 0.8151450787003942}\n",
      "Test:       {'precision': 0.7870979701540577, 'recall': 0.7679508048464749, 'f1': 0.7774065039028706, 'auc': 0.6889339524187945, 'prauc': 0.8262835899017505}\n"
     ]
    },
    {
     "name": "stderr",
     "output_type": "stream",
     "text": [
      "Training Batches: 100%|██████████| 1/1 [00:01<00:00,  1.34s/it]\n",
      "Running inference: 100%|██████████| 1/1 [00:04<00:00,  4.42s/it]\n",
      "Running inference: 100%|██████████| 1/1 [00:04<00:00,  4.63s/it]\n"
     ]
    },
    {
     "name": "stdout",
     "output_type": "stream",
     "text": [
      "Epoch: 019, Average Loss: 0.5713\n",
      "Validation: {'precision': 0.774804001080675, 'recall': 0.7942725173202824, 'f1': 0.784417475156974, 'auc': 0.6762174372971139, 'prauc': 0.8153837085985528}\n",
      "Test:       {'precision': 0.7846708746611499, 'recall': 0.7869415807553021, 'f1': 0.7858045823209552, 'auc': 0.6897691775364744, 'prauc': 0.8264693380308896}\n"
     ]
    },
    {
     "name": "stderr",
     "output_type": "stream",
     "text": [
      "Training Batches: 100%|██████████| 1/1 [00:01<00:00,  1.33s/it]\n",
      "Running inference: 100%|██████████| 1/1 [00:04<00:00,  4.52s/it]\n",
      "Running inference: 100%|██████████| 1/1 [00:04<00:00,  4.70s/it]\n"
     ]
    },
    {
     "name": "stdout",
     "output_type": "stream",
     "text": [
      "Epoch: 020, Average Loss: 0.5693\n",
      "Validation: {'precision': 0.7702761564589509, 'recall': 0.8168129330246495, 'f1': 0.7928622618615507, 'auc': 0.6772244282853406, 'prauc': 0.8157533384292304}\n",
      "Test:       {'precision': 0.7790859933710281, 'recall': 0.8078314342550118, 'f1': 0.7931983611881144, 'auc': 0.6904200896855015, 'prauc': 0.8266628785767275}\n"
     ]
    },
    {
     "name": "stderr",
     "output_type": "stream",
     "text": [
      "Training Batches: 100%|██████████| 1/1 [00:01<00:00,  1.81s/it]\n",
      "Running inference: 100%|██████████| 1/1 [00:04<00:00,  4.08s/it]\n",
      "Running inference: 100%|██████████| 1/1 [00:04<00:00,  4.07s/it]\n"
     ]
    },
    {
     "name": "stdout",
     "output_type": "stream",
     "text": [
      "Epoch: 021, Average Loss: 0.5677\n",
      "Validation: {'precision': 0.7663742441012125, 'recall': 0.8312240184749826, 'f1': 0.7974829339422123, 'auc': 0.678167323438686, 'prauc': 0.8162966703670205}\n",
      "Test:       {'precision': 0.7762810128734109, 'recall': 0.8233857840470036, 'f1': 0.79913985545038, 'auc': 0.6910518471588076, 'prauc': 0.8269241516635646}\n"
     ]
    },
    {
     "name": "stderr",
     "output_type": "stream",
     "text": [
      "Training Batches: 100%|██████████| 1/1 [00:02<00:00,  2.76s/it]\n",
      "Running inference: 100%|██████████| 1/1 [00:04<00:00,  4.17s/it]\n",
      "Running inference: 100%|██████████| 1/1 [00:04<00:00,  4.14s/it]"
     ]
    },
    {
     "name": "stdout",
     "output_type": "stream",
     "text": [
      "Epoch: 022, Average Loss: 0.5688\n",
      "Validation: {'precision': 0.7666185584508306, 'recall': 0.8341801385673586, 'f1': 0.7989736279935118, 'auc': 0.6791481108383534, 'prauc': 0.8169663515141499}\n",
      "Test:       {'precision': 0.7757580905455059, 'recall': 0.8259178875015138, 'f1': 0.8000525551198351, 'auc': 0.6917694389834295, 'prauc': 0.8272297510952911}\n",
      "\n",
      "Early stopping triggered after 22 epochs (no improvement for 10 epochs).\n",
      "\n",
      "Best validation performance:\n",
      "{'precision': 0.7064866644710527, 'recall': 0.9910392609690614, 'f1': 0.8249134899495498, 'auc': 0.6720007994315154, 'prauc': 0.812901700323925}\n",
      "Corresponding test performance:\n",
      "{'precision': 0.7123171920697352, 'recall': 0.9910472056420772, 'f1': 0.8288772027118203, 'auc': 0.6859518874975836, 'prauc': 0.8247004520150891}\n",
      "Corresponding test-long performance:\n",
      "{'precision': 0.8868866093682094, 'recall': 0.9999999999968741, 'f1': 0.9400528895200547, 'auc': 0.5679257958821178, 'prauc': 0.906212787002995}\n"
     ]
    },
    {
     "name": "stderr",
     "output_type": "stream",
     "text": [
      "\n"
     ]
    }
   ],
   "source": [
    "final_metrics, final_long_seq_metrics = [], []\n",
    "\n",
    "for seed in seeds:\n",
    "    set_random_seed(seed)\n",
    "    print(f\"Training with seed: {seed}\")\n",
    "    \n",
    "    # Initialize model, optimizer, and loss function\n",
    "    model = SetGNN(args, tokenizer).to(device)\n",
    "    optimizer = torch.optim.AdamW(model.parameters(), lr=args[\"lr\"])\n",
    "    \n",
    "    best_test_metric, best_test_long_seq_metric = train_with_early_stopping(\n",
    "        model, \n",
    "        train_dataloader, \n",
    "        val_dataloader, \n",
    "        test_dataloader,\n",
    "        optimizer, \n",
    "        loss_fn, \n",
    "        device, \n",
    "        args,\n",
    "        val_long_seq_idx,\n",
    "        test_long_seq_idx,\n",
    "        task_type=task_type,\n",
    "        eval_metric = \"f1\")\n",
    "    \n",
    "    final_metrics.append(best_test_metric)\n",
    "    final_long_seq_metrics.append(best_test_long_seq_metric)"
   ]
  },
  {
   "cell_type": "code",
   "execution_count": 13,
   "id": "6eb056a2-fcd4-4d68-84bb-87ec28d1fef1",
   "metadata": {},
   "outputs": [],
   "source": [
    "import numpy as np\n",
    "def topk_avg_performance_formatted(performances, long_seq_performances, k=5):\n",
    "    metrics = [\"f1\", \"auc\", \"prauc\"]\n",
    "    scores = {m: np.array([p[m] for p in performances]) for m in metrics}\n",
    "\n",
    "    # 计算排名（值越大排名越靠前）\n",
    "    ranks = {m: (-scores[m]).argsort().argsort() + 1 for m in metrics}\n",
    "    avg_ranks = np.mean(np.stack([ranks[m] for m in metrics], axis=1), axis=1)\n",
    "\n",
    "    # 选 top-k\n",
    "    topk_idx = np.argsort(avg_ranks)[:k]\n",
    "    final_avg = {m: np.mean([performances[i][m] for i in topk_idx]) for m in performances[0].keys()}\n",
    "    final_std = {m: np.std([performances[i][m] for i in topk_idx], ddof=0) for m in performances[0].keys()}\n",
    "    final_long_seq_avg = {m: np.mean([long_seq_performances[i][m] for i in topk_idx]) for m in long_seq_performances[0].keys()}\n",
    "    final_long_seq_std = {m: np.std([long_seq_performances[i][m] for i in topk_idx], ddof=0) for m in long_seq_performances[0].keys()}\n",
    "\n",
    "    # 打印结果（转百分比，均保留两位小数）\n",
    "    print(\"Final Metrics:\")\n",
    "    for m in performances[0].keys():\n",
    "        mean_val = final_avg[m] * 100\n",
    "        std_val = final_std[m] * 100\n",
    "        print(f\"{m}: {mean_val:.2f} ± {std_val:.2f}\")\n",
    "    print(\"\\nFinal Long Sequence Metrics:\")\n",
    "    for m in long_seq_performances[0].keys():\n",
    "        mean_val = final_long_seq_avg[m] * 100\n",
    "        std_val = final_long_seq_std[m] * 100\n",
    "        print(f\"{m}: {mean_val:.2f} ± {std_val:.2f}\")"
   ]
  },
  {
   "cell_type": "code",
   "execution_count": 14,
   "id": "72ab00b6-0a47-46b9-8713-7e99561364eb",
   "metadata": {},
   "outputs": [],
   "source": [
    "def print_per_class_performance(dfs, col_name=\"prauc\"):\n",
    "    \"\"\"\n",
    "    输入一个 DataFrame 列表，对每个疾病在所有表格的指定列计算 mean ± std 并打印。\n",
    "\n",
    "    参数:\n",
    "        dfs (list[pd.DataFrame]): 多个表格组成的列表\n",
    "        col_name (str): 要计算的指标列名 (默认: \"prauc\")\n",
    "    \"\"\"\n",
    "    # 拼接所有表格\n",
    "    all_values = pd.concat(dfs, axis=0)\n",
    "\n",
    "    # 按疾病分组，计算 mean 和 std\n",
    "    grouped = all_values.groupby(all_values.index)[col_name].agg([\"mean\", \"std\"])\n",
    "\n",
    "    # 打印\n",
    "    for disease, row in grouped.iterrows():\n",
    "        mean_val = row[\"mean\"] * 100\n",
    "        std_val = row[\"std\"] * 100\n",
    "        print(f\"{disease}: {mean_val:.2f} ± {std_val:.2f}\")"
   ]
  },
  {
   "cell_type": "code",
   "execution_count": 15,
   "id": "904ef3af-4fe5-427a-976d-31509805b5fd",
   "metadata": {
    "tags": []
   },
   "outputs": [
    {
     "name": "stdout",
     "output_type": "stream",
     "text": [
      "Final Metrics:\n",
      "precision: 72.16 ± 0.64\n",
      "recall: 97.05 ± 1.29\n",
      "f1: 82.76 ± 0.13\n",
      "auc: 68.27 ± 0.20\n",
      "prauc: 82.30 ± 0.10\n",
      "\n",
      "Final Long Sequence Metrics:\n",
      "precision: 88.69 ± 0.01\n",
      "recall: 99.85 ± 0.10\n",
      "f1: 93.94 ± 0.04\n",
      "auc: 56.91 ± 0.16\n",
      "prauc: 90.64 ± 0.07\n"
     ]
    }
   ],
   "source": [
    "if task_type == \"binary\":\n",
    "    topk_avg_performance_formatted(final_metrics, final_long_seq_metrics)\n",
    "else:\n",
    "    final_metrics_global = [metrics[\"global\"] for metrics in final_metrics]\n",
    "    final_metrics_per_class = [metrics[\"per_class\"] for metrics in final_metrics]\n",
    "    final_long_seq_metrics_global = [metrics[\"global\"] for metrics in final_long_seq_metrics]\n",
    "    final_long_seq_metrics_per_class = [metrics[\"per_class\"] for metrics in final_long_seq_metrics]\n",
    "    topk_avg_performance_formatted(final_metrics_global, final_long_seq_metrics_global)\n",
    "    print(\"\\nPer-class performance, all patients:\")\n",
    "    print_per_class_performance(final_metrics_per_class, col_name=\"prauc\")\n",
    "    print(\"\\nPer-class performance, long seq:\")\n",
    "    print_per_class_performance(final_long_seq_metrics_per_class, col_name=\"prauc\")"
   ]
  }
 ],
 "metadata": {
  "kernelspec": {
   "display_name": "heart-cuda",
   "language": "python",
   "name": "heart-cuda"
  },
  "language_info": {
   "codemirror_mode": {
    "name": "ipython",
    "version": 3
   },
   "file_extension": ".py",
   "mimetype": "text/x-python",
   "name": "python",
   "nbconvert_exporter": "python",
   "pygments_lexer": "ipython3",
   "version": "3.10.18"
  }
 },
 "nbformat": 4,
 "nbformat_minor": 5
}
