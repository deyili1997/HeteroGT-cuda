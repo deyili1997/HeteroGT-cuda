{
 "cells": [
  {
   "cell_type": "code",
   "execution_count": 1,
   "id": "105bbf2f",
   "metadata": {},
   "outputs": [
    {
     "name": "stderr",
     "output_type": "stream",
     "text": [
      "Disabling PyTorch because PyTorch >= 2.1 is required but found 1.13.1\n",
      "None of PyTorch, TensorFlow >= 2.0, or Flax have been found. Models won't be available and only tokenizers, configuration and file/data utilities can be used.\n"
     ]
    }
   ],
   "source": [
    "import torch\n",
    "import random\n",
    "from model import SetGNN \n",
    "import pickle\n",
    "from tokenizer import EHRTokenizer\n",
    "from dataset import FinetuneHGDataset, batcher_SetGNN_finetune\n",
    "from torch.utils.data import DataLoader\n",
    "import torch.nn.functional as F\n",
    "from train import PHENO_ORDER, train_with_early_stopping\n",
    "from set_seed import set_random_seed"
   ]
  },
  {
   "cell_type": "code",
   "execution_count": 2,
   "id": "eb757cdd",
   "metadata": {},
   "outputs": [
    {
     "name": "stdout",
     "output_type": "stream",
     "text": [
      "cuda\n"
     ]
    }
   ],
   "source": [
    "device = torch.device(\"cuda\" if torch.cuda.is_available() else \"cpu\")\n",
    "print(device)"
   ]
  },
  {
   "cell_type": "code",
   "execution_count": 3,
   "id": "89793d45",
   "metadata": {},
   "outputs": [],
   "source": [
    "args = {\n",
    "    \"dataset\": \"MIMIC-III\", \n",
    "    \"task\": \"stay\",  # options: death, stay, readmission, next_diag_6m, next_diag_12m\n",
    "    \"special_tokens\":[\"[PAD]\", \"[CLS]\"],\n",
    "    \"predicted_token_type\": [\"diag\", \"med\", \"lab\", \"pro\"],\n",
    "    \"batch_size\": 256,\n",
    "    \"lr\": 1e-3,\n",
    "    \"epochs\": 500,\n",
    "    \"model_name\": \"HG\",\n",
    "    \"early_stop_patience\": 10,\n",
    "    # model hyperparameters\n",
    "    \"level\": \"visit\",  # \"visit\" or \"patient\"\n",
    "    \"hg_all_num_layers\": 3,\n",
    "    \"hg_use_type_embed\": True,\n",
    "    \"MLP_num_layers\": 2,\n",
    "    \"hg_aggregate\": \"mean\",\n",
    "    \"hg_dropout\": 0.0,\n",
    "    \"normtype\": \"all_one\",\n",
    "    \"add_self_loop\": True,\n",
    "    \"hg_normalization\": \"ln\",\n",
    "    \"hg_hidden_size\": 128,\n",
    "    \"PMA\": True,\n",
    "    \"hg_num_heads\": 4,\n",
    "}"
   ]
  },
  {
   "cell_type": "code",
   "execution_count": 4,
   "id": "c32fba6c",
   "metadata": {},
   "outputs": [],
   "source": [
    "full_data_path = f\"/home/lideyi/HeteroGT-cuda/data_process/{args['dataset']}-processed/mimic.pkl\"\n",
    "\n",
    "if args[\"task\"] == \"next_diag_6m\":\n",
    "    finetune_data_path = f\"/home/lideyi/HeteroGT-cuda/data_process/{args['dataset']}-processed/mimic_nextdiag_6m.pkl\"\n",
    "elif args[\"task\"] == \"next_diag_12m\":\n",
    "    finetune_data_path = f\"/home/lideyi/HeteroGT-cuda/data_process/{args['dataset']}-processed/mimic_nextdiag_12m.pkl\"\n",
    "else:\n",
    "    finetune_data_path = f\"/home/lideyi/HeteroGT-cuda/data_process/{args['dataset']}-processed/mimic_downstream.pkl\""
   ]
  },
  {
   "cell_type": "code",
   "execution_count": 5,
   "id": "9ab08e48",
   "metadata": {},
   "outputs": [
    {
     "name": "stdout",
     "output_type": "stream",
     "text": [
      "Max admissions per patient: 8\n"
     ]
    }
   ],
   "source": [
    "ehr_full_data = pickle.load(open(full_data_path, 'rb'))\n",
    "diag_sentences = ehr_full_data[\"ICD9_CODE\"].values.tolist()\n",
    "med_sentences = ehr_full_data[\"NDC\"].values.tolist()\n",
    "lab_sentences = ehr_full_data[\"LAB_TEST\"].values.tolist()\n",
    "pro_sentences = ehr_full_data[\"PRO_CODE\"].values.tolist()\n",
    "age_gender_sentences = [\"[PAD]\"] + [str(c) + \"_\" + gender \\\n",
    "    for c in set(ehr_full_data[\"AGE\"].values.tolist()) for gender in [\"M\", \"F\"]] # PAD token special for age_gender vocabulary\n",
    "max_admissions = ehr_full_data.groupby(\"SUBJECT_ID\")[\"HADM_ID\"].nunique().max()\n",
    "args[\"max_adm_len\"] = max_admissions\n",
    "print(f\"Max admissions per patient: {max_admissions}\")"
   ]
  },
  {
   "cell_type": "code",
   "execution_count": 6,
   "id": "42864fb3",
   "metadata": {},
   "outputs": [
    {
     "name": "stdout",
     "output_type": "stream",
     "text": [
      "Age and gender vocabulary size: 37\n",
      "Global vocabulary size: 4446\n",
      "Label vocabulary size: 18\n"
     ]
    }
   ],
   "source": [
    "tokenizer = EHRTokenizer(age_gender_sentences, diag_sentences, med_sentences, lab_sentences, \n",
    "                         pro_sentences, special_tokens=args[\"special_tokens\"])\n",
    "args[\"age_gender_vocab_size\"] = tokenizer.token_number(\"age_gender\")\n",
    "args[\"global_vocab_size\"] = len(tokenizer.vocab.id2word)\n",
    "args[\"label_vocab_size\"] = len(PHENO_ORDER)\n",
    "print(f\"Age and gender vocabulary size: {args['age_gender_vocab_size']}\")\n",
    "print(f\"Global vocabulary size: {args['global_vocab_size']}\")\n",
    "print(f\"Label vocabulary size: {args['label_vocab_size']}\")"
   ]
  },
  {
   "cell_type": "code",
   "execution_count": 7,
   "id": "f7ff21ce",
   "metadata": {},
   "outputs": [
    {
     "name": "stdout",
     "output_type": "stream",
     "text": [
      "3131 6310 6304\n"
     ]
    }
   ],
   "source": [
    "train_data, val_data, test_data = pickle.load(open(finetune_data_path, 'rb'))\n",
    "\n",
    "# output: input_ids (a patient has multiple visits), labels\n",
    "train_dataset = FinetuneHGDataset(train_data, tokenizer, token_type=args[\"predicted_token_type\"], task=args[\"task\"], level=args[\"level\"])\n",
    "val_dataset = FinetuneHGDataset(val_data, tokenizer, token_type=args[\"predicted_token_type\"], task=args[\"task\"], level=args[\"level\"])\n",
    "test_dataset = FinetuneHGDataset(test_data, tokenizer, token_type=args[\"predicted_token_type\"], task=args[\"task\"], level=args[\"level\"])\n",
    "print(len(train_dataset), len(val_dataset), len(test_dataset))"
   ]
  },
  {
   "cell_type": "code",
   "execution_count": 8,
   "id": "42afdd7b",
   "metadata": {},
   "outputs": [
    {
     "name": "stdout",
     "output_type": "stream",
     "text": [
      "835 854\n"
     ]
    }
   ],
   "source": [
    "long_adm_seq_crite = 3\n",
    "val_long_seq_idx, test_long_seq_idx = [], []\n",
    "for i in range(len(val_dataset)):\n",
    "    hadm_id = list(val_dataset.records.keys())[i]\n",
    "    num_adms = len(val_dataset.records[hadm_id])\n",
    "    if num_adms >= long_adm_seq_crite:\n",
    "        val_long_seq_idx.append(i)\n",
    "for i in range(len(test_dataset)):\n",
    "    hadm_id = list(test_dataset.records.keys())[i]\n",
    "    num_adms = len(test_dataset.records[hadm_id])\n",
    "    if num_adms >= long_adm_seq_crite:\n",
    "        test_long_seq_idx.append(i)\n",
    "print(len(val_long_seq_idx), len(test_long_seq_idx))"
   ]
  },
  {
   "cell_type": "code",
   "execution_count": 9,
   "id": "d0769b44",
   "metadata": {},
   "outputs": [],
   "source": [
    "use_full_graph = True\n",
    "train_batch_size = len(train_dataset) if use_full_graph else args[\"batch_size\"]\n",
    "val_batch_size = len(val_dataset) if use_full_graph else args[\"batch_size\"]\n",
    "test_batch_size = len(test_dataset) if use_full_graph else args[\"batch_size\"]\n",
    "train_dataloader = DataLoader(train_dataset, collate_fn=batcher_SetGNN_finetune(device = device), batch_size = train_batch_size, shuffle = True)\n",
    "val_dataloader = DataLoader(val_dataset, collate_fn=batcher_SetGNN_finetune(device = device), batch_size = val_batch_size, shuffle = False)\n",
    "test_dataloader = DataLoader(test_dataset, collate_fn=batcher_SetGNN_finetune(device = device), batch_size = test_batch_size, shuffle = False)"
   ]
  },
  {
   "cell_type": "code",
   "execution_count": 10,
   "id": "92a62432",
   "metadata": {},
   "outputs": [],
   "source": [
    "if args[\"task\"] in [\"death\", \"stay\", \"readmission\"]:\n",
    "    eval_metric = \"prauc\"\n",
    "    task_type = \"binary\"\n",
    "    loss_fn = F.binary_cross_entropy_with_logits\n",
    "else:\n",
    "    eval_metric = \"prauc\"\n",
    "    task_type = \"l2r\"\n",
    "    loss_fn = lambda x, y: F.binary_cross_entropy_with_logits(x, y)"
   ]
  },
  {
   "cell_type": "code",
   "execution_count": 11,
   "id": "33afa400",
   "metadata": {},
   "outputs": [
    {
     "name": "stdout",
     "output_type": "stream",
     "text": [
      "[2746317213, 1181241943, 958682846, 3163119785, 1812140441, 127978094, 939042955, 2340505846, 946785248, 2530876844, 3460967357, 2998485882, 1461364854, 667779376, 1445662585]\n"
     ]
    }
   ],
   "source": [
    "random.seed(42)\n",
    "seeds = [random.randint(0, 2**32 - 1) for _ in range(15)]\n",
    "print(seeds)"
   ]
  },
  {
   "cell_type": "code",
   "execution_count": 12,
   "id": "71af0347",
   "metadata": {},
   "outputs": [
    {
     "name": "stdout",
     "output_type": "stream",
     "text": [
      "[INFO] Random seed set to 2746317213\n",
      "Training with seed: 2746317213\n"
     ]
    },
    {
     "name": "stderr",
     "output_type": "stream",
     "text": [
      "Training Batches: 100%|██████████| 1/1 [00:01<00:00,  1.81s/it]\n",
      "Running inference: 100%|██████████| 1/1 [00:02<00:00,  2.04s/it]\n",
      "Running inference: 100%|██████████| 1/1 [00:02<00:00,  2.04s/it]\n"
     ]
    },
    {
     "name": "stdout",
     "output_type": "stream",
     "text": [
      "Epoch: 001, Average Loss: 0.6931\n",
      "Validation: {'precision': 0.5712560386456182, 'recall': 0.593289432422097, 'f1': 0.5820642928003377, 'auc': 0.6148733093945072, 'prauc': 0.6205900873176058}\n",
      "Test:       {'precision': 0.5843568196490486, 'recall': 0.5669488867965916, 'f1': 0.5755212428108661, 'auc': 0.6216907839800438, 'prauc': 0.6234269725185083}\n"
     ]
    },
    {
     "name": "stderr",
     "output_type": "stream",
     "text": [
      "Training Batches: 100%|██████████| 1/1 [00:00<00:00,  1.45it/s]\n",
      "Running inference: 100%|██████████| 1/1 [00:02<00:00,  2.29s/it]\n",
      "Running inference: 100%|██████████| 1/1 [00:02<00:00,  2.30s/it]\n"
     ]
    },
    {
     "name": "stdout",
     "output_type": "stream",
     "text": [
      "Epoch: 002, Average Loss: 0.6846\n",
      "Validation: {'precision': 0.5633187772911294, 'recall': 0.6876763875801578, 'f1': 0.6193165722857281, 'auc': 0.6227445573733564, 'prauc': 0.6264023200941555}\n",
      "Test:       {'precision': 0.5691250330410544, 'recall': 0.6751332706156314, 'f1': 0.6176133054189166, 'auc': 0.6352818954804009, 'prauc': 0.6401927572083361}\n"
     ]
    },
    {
     "name": "stderr",
     "output_type": "stream",
     "text": [
      "Training Batches: 100%|██████████| 1/1 [00:01<00:00,  1.00s/it]\n",
      "Running inference: 100%|██████████| 1/1 [00:01<00:00,  1.99s/it]\n",
      "Running inference: 100%|██████████| 1/1 [00:02<00:00,  2.26s/it]\n"
     ]
    },
    {
     "name": "stdout",
     "output_type": "stream",
     "text": [
      "Epoch: 003, Average Loss: 0.6754\n",
      "Validation: {'precision': 0.6782608695628582, 'recall': 0.6114769520206602, 'f1': 0.6431398366999397, 'auc': 0.7081770090614075, 'prauc': 0.7233784634767635}\n",
      "Test:       {'precision': 0.7272362615293734, 'recall': 0.5685167764171574, 'f1': 0.6381555740942467, 'auc': 0.7293741981238678, 'prauc': 0.7426136286838575}\n"
     ]
    },
    {
     "name": "stderr",
     "output_type": "stream",
     "text": [
      "Training Batches: 100%|██████████| 1/1 [00:01<00:00,  1.28s/it]\n",
      "Running inference: 100%|██████████| 1/1 [00:01<00:00,  1.99s/it]\n",
      "Running inference: 100%|██████████| 1/1 [00:02<00:00,  2.31s/it]\n"
     ]
    },
    {
     "name": "stdout",
     "output_type": "stream",
     "text": [
      "Epoch: 004, Average Loss: 0.6629\n",
      "Validation: {'precision': 0.6060282742048385, 'recall': 0.7124490435850974, 'f1': 0.6549437828657976, 'auc': 0.6806397733156138, 'prauc': 0.694144619771943}\n",
      "Test:       {'precision': 0.6413139982224288, 'recall': 0.6795233615532157, 'f1': 0.6598660120545501, 'auc': 0.7057015815300086, 'prauc': 0.7217891381548593}\n"
     ]
    },
    {
     "name": "stderr",
     "output_type": "stream",
     "text": [
      "Training Batches: 100%|██████████| 1/1 [00:00<00:00,  1.01it/s]\n",
      "Running inference: 100%|██████████| 1/1 [00:02<00:00,  2.29s/it]\n",
      "Running inference: 100%|██████████| 1/1 [00:01<00:00,  1.99s/it]\n"
     ]
    },
    {
     "name": "stdout",
     "output_type": "stream",
     "text": [
      "Epoch: 005, Average Loss: 0.6472\n",
      "Validation: {'precision': 0.6573991031370482, 'recall': 0.6895578551248368, 'f1': 0.6730945771862812, 'auc': 0.7172954853520126, 'prauc': 0.7246833141268137}\n",
      "Test:       {'precision': 0.7088695652149257, 'recall': 0.6390718093426182, 'f1': 0.6721635834016909, 'auc': 0.7428376134454966, 'prauc': 0.7499579202083871}\n"
     ]
    },
    {
     "name": "stderr",
     "output_type": "stream",
     "text": [
      "Training Batches: 100%|██████████| 1/1 [00:01<00:00,  1.28s/it]\n",
      "Running inference: 100%|██████████| 1/1 [00:01<00:00,  2.00s/it]\n",
      "Running inference: 100%|██████████| 1/1 [00:02<00:00,  2.04s/it]\n"
     ]
    },
    {
     "name": "stdout",
     "output_type": "stream",
     "text": [
      "Epoch: 006, Average Loss: 0.6322\n",
      "Validation: {'precision': 0.7010380622813113, 'recall': 0.6353088742532602, 'f1': 0.666556994516401, 'auc': 0.7396782776905835, 'prauc': 0.7381518779269232}\n",
      "Test:       {'precision': 0.7565109549369305, 'recall': 0.5738476011270811, 'f1': 0.6526390821104792, 'auc': 0.7600410620979923, 'prauc': 0.7595441378932726}\n"
     ]
    },
    {
     "name": "stderr",
     "output_type": "stream",
     "text": [
      "Training Batches: 100%|██████████| 1/1 [00:01<00:00,  1.00s/it]\n",
      "Running inference: 100%|██████████| 1/1 [00:02<00:00,  2.02s/it]\n",
      "Running inference: 100%|██████████| 1/1 [00:02<00:00,  2.26s/it]\n"
     ]
    },
    {
     "name": "stdout",
     "output_type": "stream",
     "text": [
      "Epoch: 007, Average Loss: 0.6150\n",
      "Validation: {'precision': 0.683495145628856, 'recall': 0.662276575726992, 'f1': 0.6727185807611643, 'auc': 0.7314321126903207, 'prauc': 0.7318899629248027}\n",
      "Test:       {'precision': 0.7462919594038006, 'recall': 0.5995609909043601, 'f1': 0.6649278336938782, 'auc': 0.7578168735123294, 'prauc': 0.7599090976296774}\n"
     ]
    },
    {
     "name": "stderr",
     "output_type": "stream",
     "text": [
      "Training Batches: 100%|██████████| 1/1 [00:01<00:00,  1.28s/it]\n",
      "Running inference: 100%|██████████| 1/1 [00:01<00:00,  1.98s/it]\n",
      "Running inference: 100%|██████████| 1/1 [00:02<00:00,  2.26s/it]\n"
     ]
    },
    {
     "name": "stdout",
     "output_type": "stream",
     "text": [
      "Epoch: 008, Average Loss: 0.5977\n",
      "Validation: {'precision': 0.7280602636507418, 'recall': 0.6061461273107365, 'f1': 0.6615331914802778, 'auc': 0.7549720588103792, 'prauc': 0.7485094983380901}\n",
      "Test:       {'precision': 0.7852348993253457, 'recall': 0.5503292568185941, 'f1': 0.6471238889576013, 'auc': 0.7712284452927323, 'prauc': 0.7673403950962103}\n"
     ]
    },
    {
     "name": "stderr",
     "output_type": "stream",
     "text": [
      "Training Batches: 100%|██████████| 1/1 [00:00<00:00,  1.02it/s]\n",
      "Running inference: 100%|██████████| 1/1 [00:02<00:00,  2.27s/it]\n",
      "Running inference: 100%|██████████| 1/1 [00:02<00:00,  2.01s/it]\n"
     ]
    },
    {
     "name": "stdout",
     "output_type": "stream",
     "text": [
      "Epoch: 009, Average Loss: 0.5830\n",
      "Validation: {'precision': 0.7228044813851724, 'recall': 0.6271558482263181, 'f1': 0.6715916672861096, 'auc': 0.761673844998864, 'prauc': 0.7543768745521342}\n",
      "Test:       {'precision': 0.7735607675873196, 'recall': 0.5688303543412705, 'f1': 0.6555836597326506, 'auc': 0.775024046846428, 'prauc': 0.7714467982164039}\n"
     ]
    },
    {
     "name": "stderr",
     "output_type": "stream",
     "text": [
      "Training Batches: 100%|██████████| 1/1 [00:01<00:00,  1.28s/it]\n",
      "Running inference: 100%|██████████| 1/1 [00:01<00:00,  1.99s/it]\n",
      "Running inference: 100%|██████████| 1/1 [00:02<00:00,  2.31s/it]\n"
     ]
    },
    {
     "name": "stdout",
     "output_type": "stream",
     "text": [
      "Epoch: 010, Average Loss: 0.5758\n",
      "Validation: {'precision': 0.7639296187645948, 'recall': 0.4901222953888676, 'f1': 0.5971346657231825, 'auc': 0.7617304116029256, 'prauc': 0.7469941809266094}\n",
      "Test:       {'precision': 0.7796246648751763, 'recall': 0.4559423016605333, 'f1': 0.575385828344428, 'auc': 0.7559175878961941, 'prauc': 0.7489839550492424}\n"
     ]
    },
    {
     "name": "stderr",
     "output_type": "stream",
     "text": [
      "Training Batches: 100%|██████████| 1/1 [00:00<00:00,  1.02it/s]\n",
      "Running inference: 100%|██████████| 1/1 [00:02<00:00,  2.28s/it]\n",
      "Running inference: 100%|██████████| 1/1 [00:02<00:00,  2.32s/it]\n"
     ]
    },
    {
     "name": "stdout",
     "output_type": "stream",
     "text": [
      "Epoch: 011, Average Loss: 0.5763\n",
      "Validation: {'precision': 0.7734597156361448, 'recall': 0.5117591721526756, 'f1': 0.6159652716722456, 'auc': 0.7716678979699221, 'prauc': 0.7560076290387743}\n",
      "Test:       {'precision': 0.7933403805454898, 'recall': 0.4706804640938518, 'f1': 0.5908285723752363, 'auc': 0.7675331584746321, 'prauc': 0.7594956306320206}\n"
     ]
    },
    {
     "name": "stderr",
     "output_type": "stream",
     "text": [
      "Training Batches: 100%|██████████| 1/1 [00:00<00:00,  1.00it/s]\n",
      "Running inference: 100%|██████████| 1/1 [00:01<00:00,  1.96s/it]\n",
      "Running inference: 100%|██████████| 1/1 [00:02<00:00,  2.27s/it]\n"
     ]
    },
    {
     "name": "stdout",
     "output_type": "stream",
     "text": [
      "Epoch: 012, Average Loss: 0.5730\n",
      "Validation: {'precision': 0.7560491868276238, 'recall': 0.5976795233596812, 'f1': 0.6676006955914865, 'auc': 0.780147211824048, 'prauc': 0.767315870734628}\n",
      "Test:       {'precision': 0.7906137184079847, 'recall': 0.5493885230462546, 'f1': 0.6482886168062579, 'auc': 0.7829436762708084, 'prauc': 0.7761550798025735}\n"
     ]
    },
    {
     "name": "stderr",
     "output_type": "stream",
     "text": [
      "Training Batches: 100%|██████████| 1/1 [00:01<00:00,  1.28s/it]\n",
      "Running inference: 100%|██████████| 1/1 [00:02<00:00,  2.00s/it]\n",
      "Running inference: 100%|██████████| 1/1 [00:02<00:00,  2.29s/it]\n"
     ]
    },
    {
     "name": "stdout",
     "output_type": "stream",
     "text": [
      "Epoch: 013, Average Loss: 0.5549\n",
      "Validation: {'precision': 0.745230078560624, 'recall': 0.6246472248334128, 'f1': 0.6796315201131886, 'auc': 0.7806727889214657, 'prauc': 0.7698764244549887}\n",
      "Test:       {'precision': 0.7834612105678455, 'recall': 0.5763562245199864, 'f1': 0.6641373031533292, 'auc': 0.7862490795254755, 'prauc': 0.7803409093953971}\n"
     ]
    },
    {
     "name": "stderr",
     "output_type": "stream",
     "text": [
      "Training Batches: 100%|██████████| 1/1 [00:00<00:00,  1.02it/s]\n",
      "Running inference: 100%|██████████| 1/1 [00:02<00:00,  2.27s/it]\n",
      "Running inference: 100%|██████████| 1/1 [00:02<00:00,  2.03s/it]\n"
     ]
    },
    {
     "name": "stdout",
     "output_type": "stream",
     "text": [
      "Epoch: 014, Average Loss: 0.5761\n",
      "Validation: {'precision': 0.7713194739042372, 'recall': 0.5700846660377232, 'f1': 0.6556076402598203, 'auc': 0.7856608983801556, 'prauc': 0.771849285490415}\n",
      "Test:       {'precision': 0.801966292131077, 'recall': 0.5371589840058415, 'f1': 0.643380276883243, 'auc': 0.7862706222785287, 'prauc': 0.7779809138743821}\n"
     ]
    },
    {
     "name": "stderr",
     "output_type": "stream",
     "text": [
      "Training Batches: 100%|██████████| 1/1 [00:01<00:00,  1.29s/it]\n",
      "Running inference: 100%|██████████| 1/1 [00:02<00:00,  2.01s/it]\n",
      "Running inference: 100%|██████████| 1/1 [00:02<00:00,  2.31s/it]\n"
     ]
    },
    {
     "name": "stdout",
     "output_type": "stream",
     "text": [
      "Epoch: 015, Average Loss: 0.5505\n",
      "Validation: {'precision': 0.7945604662418915, 'recall': 0.5130134838491283, 'f1': 0.6234756049855353, 'auc': 0.784143848371761, 'prauc': 0.7686380970666852}\n",
      "Test:       {'precision': 0.8094986807345146, 'recall': 0.481028535589586, 'f1': 0.603461836391562, 'auc': 0.7823744039880267, 'prauc': 0.7721821558567897}\n"
     ]
    },
    {
     "name": "stderr",
     "output_type": "stream",
     "text": [
      "Training Batches: 100%|██████████| 1/1 [00:00<00:00,  1.02it/s]\n",
      "Running inference: 100%|██████████| 1/1 [00:02<00:00,  2.28s/it]\n",
      "Running inference: 100%|██████████| 1/1 [00:02<00:00,  2.34s/it]\n"
     ]
    },
    {
     "name": "stdout",
     "output_type": "stream",
     "text": [
      "Epoch: 016, Average Loss: 0.5452\n",
      "Validation: {'precision': 0.8065380492990004, 'recall': 0.4719347757903044, 'f1': 0.595450044796118, 'auc': 0.7853563630748078, 'prauc': 0.7693988592641339}\n",
      "Test:       {'precision': 0.8185415488930552, 'recall': 0.45406083411585435, 'f1': 0.5841064899620411, 'auc': 0.7850006065190988, 'prauc': 0.7736054558323275}\n"
     ]
    },
    {
     "name": "stderr",
     "output_type": "stream",
     "text": [
      "Training Batches: 100%|██████████| 1/1 [00:01<00:00,  1.01s/it]\n",
      "Running inference: 100%|██████████| 1/1 [00:02<00:00,  2.00s/it]\n",
      "Running inference: 100%|██████████| 1/1 [00:02<00:00,  2.29s/it]\n"
     ]
    },
    {
     "name": "stdout",
     "output_type": "stream",
     "text": [
      "Epoch: 017, Average Loss: 0.5425\n",
      "Validation: {'precision': 0.8119703389787502, 'recall': 0.48071495766547284, 'f1': 0.6038999362359371, 'auc': 0.7889944597884289, 'prauc': 0.7740020303744053}\n",
      "Test:       {'precision': 0.8260135135088625, 'recall': 0.46001881467400435, 'f1': 0.5909365512938218, 'auc': 0.7920501201209816, 'prauc': 0.7805180140689527}\n"
     ]
    },
    {
     "name": "stderr",
     "output_type": "stream",
     "text": [
      "Training Batches: 100%|██████████| 1/1 [00:01<00:00,  1.29s/it]\n",
      "Running inference: 100%|██████████| 1/1 [00:02<00:00,  2.01s/it]\n",
      "Running inference: 100%|██████████| 1/1 [00:02<00:00,  2.30s/it]\n"
     ]
    },
    {
     "name": "stdout",
     "output_type": "stream",
     "text": [
      "Epoch: 018, Average Loss: 0.5391\n",
      "Validation: {'precision': 0.8037790697635476, 'recall': 0.5202257761037309, 'f1': 0.6316390586192722, 'auc': 0.7895467126112079, 'prauc': 0.777072534566081}\n",
      "Test:       {'precision': 0.830552659015482, 'recall': 0.4995296331122624, 'f1': 0.6238496134783862, 'auc': 0.79752469740737, 'prauc': 0.7880758803343444}\n"
     ]
    },
    {
     "name": "stderr",
     "output_type": "stream",
     "text": [
      "Training Batches: 100%|██████████| 1/1 [00:00<00:00,  1.02it/s]\n",
      "Running inference: 100%|██████████| 1/1 [00:02<00:00,  2.30s/it]\n",
      "Running inference: 100%|██████████| 1/1 [00:01<00:00,  2.00s/it]\n"
     ]
    },
    {
     "name": "stdout",
     "output_type": "stream",
     "text": [
      "Epoch: 019, Average Loss: 0.5290\n",
      "Validation: {'precision': 0.780833691444861, 'recall': 0.56977108811361, 'f1': 0.6588107275345103, 'auc': 0.7867358648044097, 'prauc': 0.7774103376102103}\n",
      "Test:       {'precision': 0.8156789547325447, 'recall': 0.548134211349802, 'f1': 0.6556639111689567, 'auc': 0.7979724645362495, 'prauc': 0.7913949266952085}\n"
     ]
    },
    {
     "name": "stderr",
     "output_type": "stream",
     "text": [
      "Training Batches: 100%|██████████| 1/1 [00:01<00:00,  1.29s/it]\n",
      "Running inference: 100%|██████████| 1/1 [00:02<00:00,  2.02s/it]\n",
      "Running inference: 100%|██████████| 1/1 [00:02<00:00,  2.29s/it]\n"
     ]
    },
    {
     "name": "stdout",
     "output_type": "stream",
     "text": [
      "Epoch: 020, Average Loss: 0.5296\n",
      "Validation: {'precision': 0.7806315789440816, 'recall': 0.5813734713057969, 'f1': 0.6664270260176318, 'auc': 0.7910108632998183, 'prauc': 0.7807360378601256}\n",
      "Test:       {'precision': 0.8089375284960834, 'recall': 0.5562872373767441, 'f1': 0.6592344804902306, 'auc': 0.8006926901110208, 'prauc': 0.7934109198278967}\n"
     ]
    },
    {
     "name": "stderr",
     "output_type": "stream",
     "text": [
      "Training Batches: 100%|██████████| 1/1 [00:00<00:00,  1.01it/s]\n",
      "Running inference: 100%|██████████| 1/1 [00:02<00:00,  2.30s/it]\n",
      "Running inference: 100%|██████████| 1/1 [00:02<00:00,  2.33s/it]\n"
     ]
    },
    {
     "name": "stdout",
     "output_type": "stream",
     "text": [
      "Epoch: 021, Average Loss: 0.5342\n",
      "Validation: {'precision': 0.7995348837172115, 'recall': 0.5390404515505204, 'f1': 0.643940808073253, 'auc': 0.7914294863119369, 'prauc': 0.7781224698497797}\n",
      "Test:       {'precision': 0.8229736449486675, 'recall': 0.5189714644072783, 'f1': 0.6365384567926118, 'auc': 0.797604828395362, 'prauc': 0.7882533054828338}\n"
     ]
    },
    {
     "name": "stderr",
     "output_type": "stream",
     "text": [
      "Training Batches: 100%|██████████| 1/1 [00:01<00:00,  1.01s/it]\n",
      "Running inference: 100%|██████████| 1/1 [00:02<00:00,  2.00s/it]\n",
      "Running inference: 100%|██████████| 1/1 [00:02<00:00,  2.29s/it]\n"
     ]
    },
    {
     "name": "stdout",
     "output_type": "stream",
     "text": [
      "Epoch: 022, Average Loss: 0.5227\n",
      "Validation: {'precision': 0.8110316649601071, 'recall': 0.4979617434916966, 'f1': 0.6170584759519605, 'auc': 0.787025128131396, 'prauc': 0.7731160721185648}\n",
      "Test:       {'precision': 0.8277153558008148, 'recall': 0.4851050486030571, 'f1': 0.6117042262594279, 'auc': 0.7943698920899339, 'prauc': 0.7848417294284296}\n"
     ]
    },
    {
     "name": "stderr",
     "output_type": "stream",
     "text": [
      "Training Batches: 100%|██████████| 1/1 [00:01<00:00,  1.28s/it]\n",
      "Running inference: 100%|██████████| 1/1 [00:02<00:00,  2.00s/it]\n",
      "Running inference: 100%|██████████| 1/1 [00:02<00:00,  2.28s/it]\n"
     ]
    },
    {
     "name": "stdout",
     "output_type": "stream",
     "text": [
      "Epoch: 023, Average Loss: 0.5242\n",
      "Validation: {'precision': 0.8149484536040467, 'recall': 0.49576669802290446, 'f1': 0.6164944386553785, 'auc': 0.78913246019816, 'prauc': 0.7750873005723191}\n",
      "Test:       {'precision': 0.8313513513468576, 'recall': 0.48228284728603865, 'f1': 0.6104385744337837, 'auc': 0.7971987374336038, 'prauc': 0.787763794864319}\n",
      "\n",
      "Early stopping triggered after 23 epochs (no improvement for 10 epochs).\n",
      "\n",
      "Best validation performance:\n",
      "{'precision': 0.745230078560624, 'recall': 0.6246472248334128, 'f1': 0.6796315201131886, 'auc': 0.7806727889214657, 'prauc': 0.7698764244549887}\n",
      "Corresponding test performance:\n",
      "{'precision': 0.7834612105678455, 'recall': 0.5763562245199864, 'f1': 0.6641373031533292, 'auc': 0.7862490795254755, 'prauc': 0.7803409093953971}\n",
      "Corresponding test-long performance:\n",
      "{'precision': 0.8060200668626749, 'recall': 0.5250544662194977, 'f1': 0.6358839002191923, 'auc': 0.7776674664239817, 'prauc': 0.7884567112367915}\n",
      "[INFO] Random seed set to 1181241943\n",
      "Training with seed: 1181241943\n"
     ]
    },
    {
     "name": "stderr",
     "output_type": "stream",
     "text": [
      "Training Batches: 100%|██████████| 1/1 [00:01<00:00,  1.00s/it]\n",
      "Running inference: 100%|██████████| 1/1 [00:02<00:00,  2.32s/it]\n",
      "Running inference: 100%|██████████| 1/1 [00:02<00:00,  2.00s/it]\n"
     ]
    },
    {
     "name": "stdout",
     "output_type": "stream",
     "text": [
      "Epoch: 001, Average Loss: 0.6947\n",
      "Validation: {'precision': 0.8473282442101275, 'recall': 0.034807149576560656, 'f1': 0.06686746912109705, 'auc': 0.6288468179376219, 'prauc': 0.6361777667479583}\n",
      "Test:       {'precision': 0.9027777776523921, 'recall': 0.02038256506735534, 'f1': 0.03986507163170703, 'auc': 0.6380691653240196, 'prauc': 0.6468713036070708}\n"
     ]
    },
    {
     "name": "stderr",
     "output_type": "stream",
     "text": [
      "Training Batches: 100%|██████████| 1/1 [00:01<00:00,  1.29s/it]\n",
      "Running inference: 100%|██████████| 1/1 [00:02<00:00,  2.03s/it]\n",
      "Running inference: 100%|██████████| 1/1 [00:02<00:00,  2.32s/it]\n"
     ]
    },
    {
     "name": "stdout",
     "output_type": "stream",
     "text": [
      "Epoch: 002, Average Loss: 0.6854\n",
      "Validation: {'precision': 0.7979094076599449, 'recall': 0.35904672310956715, 'f1': 0.4952422102501683, 'auc': 0.7069893615599683, 'prauc': 0.7237097679952753}\n",
      "Test:       {'precision': 0.8348375451188192, 'recall': 0.2900595798046721, 'f1': 0.43053292612181554, 'auc': 0.7196351624036679, 'prauc': 0.7342847874048318}\n"
     ]
    },
    {
     "name": "stderr",
     "output_type": "stream",
     "text": [
      "Training Batches: 100%|██████████| 1/1 [00:00<00:00,  1.01it/s]\n",
      "Running inference: 100%|██████████| 1/1 [00:02<00:00,  2.33s/it]\n",
      "Running inference: 100%|██████████| 1/1 [00:02<00:00,  2.05s/it]\n"
     ]
    },
    {
     "name": "stdout",
     "output_type": "stream",
     "text": [
      "Epoch: 003, Average Loss: 0.6767\n",
      "Validation: {'precision': 0.6069138555879372, 'recall': 0.6826591407943473, 'f1': 0.6425619784864279, 'auc': 0.6807156308397107, 'prauc': 0.7022637912862082}\n",
      "Test:       {'precision': 0.64999999999793, 'recall': 0.6400125431149577, 'f1': 0.6449676044152312, 'auc': 0.6987737240826336, 'prauc': 0.7207449900747748}\n"
     ]
    },
    {
     "name": "stderr",
     "output_type": "stream",
     "text": [
      "Training Batches: 100%|██████████| 1/1 [00:01<00:00,  1.28s/it]\n",
      "Running inference: 100%|██████████| 1/1 [00:02<00:00,  2.05s/it]\n",
      "Running inference: 100%|██████████| 1/1 [00:02<00:00,  2.05s/it]\n"
     ]
    },
    {
     "name": "stdout",
     "output_type": "stream",
     "text": [
      "Epoch: 004, Average Loss: 0.6672\n",
      "Validation: {'precision': 0.7041942604830604, 'recall': 0.6001881467525865, 'f1': 0.6480446877670253, 'auc': 0.7262368267883361, 'prauc': 0.7327429521283781}\n",
      "Test:       {'precision': 0.7557251908363012, 'recall': 0.5277516462824468, 'f1': 0.6214918710786432, 'auc': 0.7367611477455359, 'prauc': 0.7425687098223728}\n"
     ]
    },
    {
     "name": "stderr",
     "output_type": "stream",
     "text": [
      "Training Batches: 100%|██████████| 1/1 [00:00<00:00,  1.01it/s]\n",
      "Running inference: 100%|██████████| 1/1 [00:02<00:00,  2.30s/it]\n",
      "Running inference: 100%|██████████| 1/1 [00:02<00:00,  2.05s/it]\n"
     ]
    },
    {
     "name": "stdout",
     "output_type": "stream",
     "text": [
      "Epoch: 005, Average Loss: 0.6527\n",
      "Validation: {'precision': 0.656345800120612, 'recall': 0.6713703355262736, 'f1': 0.6637730534391344, 'auc': 0.7223988379632045, 'prauc': 0.733906623730568}\n",
      "Test:       {'precision': 0.7252788104062258, 'recall': 0.6117905299447733, 'f1': 0.6637183144758458, 'auc': 0.7394356704703718, 'prauc': 0.750234200179418}\n"
     ]
    },
    {
     "name": "stderr",
     "output_type": "stream",
     "text": [
      "Training Batches: 100%|██████████| 1/1 [00:01<00:00,  1.31s/it]\n",
      "Running inference: 100%|██████████| 1/1 [00:02<00:00,  2.07s/it]\n",
      "Running inference: 100%|██████████| 1/1 [00:02<00:00,  2.06s/it]\n"
     ]
    },
    {
     "name": "stdout",
     "output_type": "stream",
     "text": [
      "Epoch: 006, Average Loss: 0.6371\n",
      "Validation: {'precision': 0.6592526690371908, 'recall': 0.6970837253035526, 'f1': 0.6776405985683538, 'auc': 0.7297227060860542, 'prauc': 0.7377386567810356}\n",
      "Test:       {'precision': 0.7241379310318543, 'recall': 0.6255879586057523, 'f1': 0.6712651363433745, 'auc': 0.7475185315493116, 'prauc': 0.7571477506772372}\n"
     ]
    },
    {
     "name": "stderr",
     "output_type": "stream",
     "text": [
      "Training Batches: 100%|██████████| 1/1 [00:00<00:00,  1.41it/s]\n",
      "Running inference: 100%|██████████| 1/1 [00:02<00:00,  2.32s/it]\n",
      "Running inference: 100%|██████████| 1/1 [00:02<00:00,  2.31s/it]\n"
     ]
    },
    {
     "name": "stdout",
     "output_type": "stream",
     "text": [
      "Epoch: 007, Average Loss: 0.6228\n",
      "Validation: {'precision': 0.7266917293205764, 'recall': 0.6061461273107365, 'f1': 0.6609676818227052, 'auc': 0.7495891888057605, 'prauc': 0.7447434877028972}\n",
      "Test:       {'precision': 0.7561085972816466, 'recall': 0.5239887111930888, 'f1': 0.6190035143323264, 'auc': 0.7486402647141281, 'prauc': 0.7474342600463999}\n"
     ]
    },
    {
     "name": "stderr",
     "output_type": "stream",
     "text": [
      "Training Batches: 100%|██████████| 1/1 [00:01<00:00,  1.30s/it]\n",
      "Running inference: 100%|██████████| 1/1 [00:02<00:00,  2.37s/it]\n",
      "Running inference: 100%|██████████| 1/1 [00:01<00:00,  1.74s/it]\n"
     ]
    },
    {
     "name": "stdout",
     "output_type": "stream",
     "text": [
      "Epoch: 008, Average Loss: 0.6113\n",
      "Validation: {'precision': 0.7155963302727043, 'recall': 0.6359360301014866, 'f1': 0.6734185571934505, 'auc': 0.7532661185433064, 'prauc': 0.7500653660844426}\n",
      "Test:       {'precision': 0.7550933786046049, 'recall': 0.55785512699731, 'f1': 0.6416591475000643, 'auc': 0.7571530748504968, 'prauc': 0.7579500402134063}\n"
     ]
    },
    {
     "name": "stderr",
     "output_type": "stream",
     "text": [
      "Training Batches: 100%|██████████| 1/1 [00:01<00:00,  1.27s/it]\n",
      "Running inference: 100%|██████████| 1/1 [00:02<00:00,  2.35s/it]\n",
      "Running inference: 100%|██████████| 1/1 [00:01<00:00,  1.75s/it]\n"
     ]
    },
    {
     "name": "stdout",
     "output_type": "stream",
     "text": [
      "Epoch: 009, Average Loss: 0.5985\n",
      "Validation: {'precision': 0.7332082551567235, 'recall': 0.6127312637171128, 'f1': 0.6675777196705106, 'auc': 0.7595917317911045, 'prauc': 0.7530118818237856}\n",
      "Test:       {'precision': 0.7612931798017658, 'recall': 0.5390404515505204, 'f1': 0.6311731179636513, 'auc': 0.7589482707158989, 'prauc': 0.7568795542539669}\n"
     ]
    },
    {
     "name": "stderr",
     "output_type": "stream",
     "text": [
      "Training Batches: 100%|██████████| 1/1 [00:01<00:00,  1.29s/it]\n",
      "Running inference: 100%|██████████| 1/1 [00:02<00:00,  2.03s/it]\n",
      "Running inference: 100%|██████████| 1/1 [00:02<00:00,  2.36s/it]\n"
     ]
    },
    {
     "name": "stdout",
     "output_type": "stream",
     "text": [
      "Epoch: 010, Average Loss: 0.5826\n",
      "Validation: {'precision': 0.7429814155763426, 'recall': 0.5892129194086259, 'f1': 0.657222800240951, 'auc': 0.7642176341314247, 'prauc': 0.7550967108315999}\n",
      "Test:       {'precision': 0.7618173474035713, 'recall': 0.520539354027844, 'f1': 0.6184798759496645, 'auc': 0.7594777795058958, 'prauc': 0.7551676271249015}\n"
     ]
    },
    {
     "name": "stderr",
     "output_type": "stream",
     "text": [
      "Training Batches: 100%|██████████| 1/1 [00:00<00:00,  1.40it/s]\n",
      "Running inference: 100%|██████████| 1/1 [00:02<00:00,  2.32s/it]\n",
      "Running inference: 100%|██████████| 1/1 [00:02<00:00,  2.35s/it]\n"
     ]
    },
    {
     "name": "stdout",
     "output_type": "stream",
     "text": [
      "Epoch: 011, Average Loss: 0.5789\n",
      "Validation: {'precision': 0.752495009977036, 'recall': 0.5910943869533049, 'f1': 0.662100451690831, 'auc': 0.7700991040874747, 'prauc': 0.7612597280057338}\n",
      "Test:       {'precision': 0.7735760971018975, 'recall': 0.5195986202555045, 'f1': 0.621646965740145, 'auc': 0.7699957770163992, 'prauc': 0.7654194652661948}\n"
     ]
    },
    {
     "name": "stderr",
     "output_type": "stream",
     "text": [
      "Training Batches: 100%|██████████| 1/1 [00:01<00:00,  1.01s/it]\n",
      "Running inference: 100%|██████████| 1/1 [00:02<00:00,  2.33s/it]\n",
      "Running inference: 100%|██████████| 1/1 [00:02<00:00,  2.36s/it]\n"
     ]
    },
    {
     "name": "stdout",
     "output_type": "stream",
     "text": [
      "Epoch: 012, Average Loss: 0.5554\n",
      "Validation: {'precision': 0.7534562211952632, 'recall': 0.6152398871100181, 'f1': 0.6773692337850563, 'auc': 0.7753867754111905, 'prauc': 0.7675872809311467}\n",
      "Test:       {'precision': 0.7767543859615055, 'recall': 0.5553465036044047, 'f1': 0.6476503882606454, 'auc': 0.7792787909079515, 'prauc': 0.7754948683085536}\n"
     ]
    },
    {
     "name": "stderr",
     "output_type": "stream",
     "text": [
      "Training Batches: 100%|██████████| 1/1 [00:00<00:00,  1.40it/s]\n",
      "Running inference: 100%|██████████| 1/1 [00:02<00:00,  2.35s/it]\n",
      "Running inference: 100%|██████████| 1/1 [00:02<00:00,  2.06s/it]\n"
     ]
    },
    {
     "name": "stdout",
     "output_type": "stream",
     "text": [
      "Epoch: 013, Average Loss: 0.5615\n",
      "Validation: {'precision': 0.7615006699385374, 'recall': 0.5346503606129362, 'f1': 0.6282240187322723, 'auc': 0.7682820903198866, 'prauc': 0.7564265120014942}\n",
      "Test:       {'precision': 0.7701956848932755, 'recall': 0.48134211351369915, 'f1': 0.5924353484095579, 'auc': 0.7632820887611761, 'prauc': 0.7570572763715856}\n"
     ]
    },
    {
     "name": "stderr",
     "output_type": "stream",
     "text": [
      "Training Batches: 100%|██████████| 1/1 [00:00<00:00,  1.00it/s]\n",
      "Running inference: 100%|██████████| 1/1 [00:02<00:00,  2.02s/it]\n",
      "Running inference: 100%|██████████| 1/1 [00:02<00:00,  2.28s/it]\n"
     ]
    },
    {
     "name": "stdout",
     "output_type": "stream",
     "text": [
      "Epoch: 014, Average Loss: 0.5483\n",
      "Validation: {'precision': 0.7574626865636312, 'recall': 0.5092505487597703, 'f1': 0.6090380600687525, 'auc': 0.7619791840925467, 'prauc': 0.751103275100842}\n",
      "Test:       {'precision': 0.7658710005039824, 'recall': 0.47287550956264385, 'f1': 0.5847227560374396, 'auc': 0.7564360233084534, 'prauc': 0.7517067491223659}\n"
     ]
    },
    {
     "name": "stderr",
     "output_type": "stream",
     "text": [
      "Training Batches: 100%|██████████| 1/1 [00:01<00:00,  1.29s/it]\n",
      "Running inference: 100%|██████████| 1/1 [00:01<00:00,  1.99s/it]\n",
      "Running inference: 100%|██████████| 1/1 [00:02<00:00,  2.29s/it]\n"
     ]
    },
    {
     "name": "stdout",
     "output_type": "stream",
     "text": [
      "Epoch: 015, Average Loss: 0.5391\n",
      "Validation: {'precision': 0.7662610155234316, 'recall': 0.5725932894306285, 'f1': 0.6554199520297629, 'auc': 0.7796750866508944, 'prauc': 0.7699237376790282}\n",
      "Test:       {'precision': 0.7813932172283163, 'recall': 0.5346503606129362, 'f1': 0.6348910769086402, 'auc': 0.7781429643532871, 'prauc': 0.7740740744222682}\n"
     ]
    },
    {
     "name": "stderr",
     "output_type": "stream",
     "text": [
      "Training Batches: 100%|██████████| 1/1 [00:00<00:00,  1.01it/s]\n",
      "Running inference: 100%|██████████| 1/1 [00:02<00:00,  2.28s/it]\n",
      "Running inference: 100%|██████████| 1/1 [00:02<00:00,  2.02s/it]\n"
     ]
    },
    {
     "name": "stdout",
     "output_type": "stream",
     "text": [
      "Epoch: 016, Average Loss: 0.5261\n",
      "Validation: {'precision': 0.7737015663611967, 'recall': 0.5885857635603996, 'f1': 0.6685663352502288, 'auc': 0.7878052047103203, 'prauc': 0.7785482349227029}\n",
      "Test:       {'precision': 0.788694481826879, 'recall': 0.5512699905909336, 'f1': 0.6489479464281137, 'auc': 0.7895683245023146, 'prauc': 0.7846878256645475}\n",
      "\n",
      "Early stopping triggered after 16 epochs (no improvement for 10 epochs).\n",
      "\n",
      "Best validation performance:\n",
      "{'precision': 0.6592526690371908, 'recall': 0.6970837253035526, 'f1': 0.6776405985683538, 'auc': 0.7297227060860542, 'prauc': 0.7377386567810356}\n",
      "Corresponding test performance:\n",
      "{'precision': 0.7241379310318543, 'recall': 0.6255879586057523, 'f1': 0.6712651363433745, 'auc': 0.7475185315493116, 'prauc': 0.7571477506772372}\n",
      "Corresponding test-long performance:\n",
      "{'precision': 0.7882736156095025, 'recall': 0.527233115456923, 'f1': 0.631853781081165, 'auc': 0.7528032872783431, 'prauc': 0.7777021261494225}\n",
      "[INFO] Random seed set to 958682846\n",
      "Training with seed: 958682846\n"
     ]
    },
    {
     "name": "stderr",
     "output_type": "stream",
     "text": [
      "Training Batches: 100%|██████████| 1/1 [00:01<00:00,  1.28s/it]\n",
      "Running inference: 100%|██████████| 1/1 [00:02<00:00,  2.01s/it]\n",
      "Running inference: 100%|██████████| 1/1 [00:02<00:00,  2.31s/it]\n"
     ]
    },
    {
     "name": "stdout",
     "output_type": "stream",
     "text": [
      "Epoch: 001, Average Loss: 0.6939\n",
      "Validation: {'precision': 0.5411764705870984, 'recall': 0.8077767325154978, 'f1': 0.6481318356767468, 'auc': 0.5821223006150287, 'prauc': 0.5669324964633751}\n",
      "Test:       {'precision': 0.5477840789738547, 'recall': 0.8178112260871189, 'f1': 0.6561006241246644, 'auc': 0.5816423530525024, 'prauc': 0.570847216034878}\n"
     ]
    },
    {
     "name": "stderr",
     "output_type": "stream",
     "text": [
      "Training Batches: 100%|██████████| 1/1 [00:00<00:00,  1.01it/s]\n",
      "Running inference: 100%|██████████| 1/1 [00:02<00:00,  2.31s/it]\n",
      "Running inference: 100%|██████████| 1/1 [00:02<00:00,  2.34s/it]\n"
     ]
    },
    {
     "name": "stdout",
     "output_type": "stream",
     "text": [
      "Epoch: 002, Average Loss: 0.6857\n",
      "Validation: {'precision': 0.5519031141856576, 'recall': 0.8002508623367819, 'f1': 0.6532701858747926, 'auc': 0.6710101378808462, 'prauc': 0.6990682168769744}\n",
      "Test:       {'precision': 0.5559677067410954, 'recall': 0.7989965506403293, 'f1': 0.6556870769913842, 'auc': 0.6790138855123475, 'prauc': 0.7106629924795285}\n"
     ]
    },
    {
     "name": "stderr",
     "output_type": "stream",
     "text": [
      "Training Batches: 100%|██████████| 1/1 [00:00<00:00,  1.43it/s]\n",
      "Running inference: 100%|██████████| 1/1 [00:02<00:00,  2.30s/it]\n",
      "Running inference: 100%|██████████| 1/1 [00:02<00:00,  2.36s/it]\n"
     ]
    },
    {
     "name": "stdout",
     "output_type": "stream",
     "text": [
      "Epoch: 003, Average Loss: 0.6777\n",
      "Validation: {'precision': 0.5522421029367082, 'recall': 0.7839448102828976, 'f1': 0.6480041423752108, 'auc': 0.6565613392480097, 'prauc': 0.6786700713274191}\n",
      "Test:       {'precision': 0.5607206405681479, 'recall': 0.790529946689274, 'f1': 0.6560832742580737, 'auc': 0.6681200978282589, 'prauc': 0.6965055643103414}\n"
     ]
    },
    {
     "name": "stderr",
     "output_type": "stream",
     "text": [
      "Training Batches: 100%|██████████| 1/1 [00:00<00:00,  1.41it/s]\n",
      "Running inference: 100%|██████████| 1/1 [00:02<00:00,  2.35s/it]\n",
      "Running inference: 100%|██████████| 1/1 [00:02<00:00,  2.06s/it]\n"
     ]
    },
    {
     "name": "stdout",
     "output_type": "stream",
     "text": [
      "Epoch: 004, Average Loss: 0.6654\n",
      "Validation: {'precision': 0.5768343331781799, 'recall': 0.7839448102828976, 'f1': 0.664628467797827, 'auc': 0.7032784215285061, 'prauc': 0.721040100504405}\n",
      "Test:       {'precision': 0.6109582186624695, 'recall': 0.7657572906843344, 'f1': 0.6796548795589575, 'auc': 0.7177071866724851, 'prauc': 0.7361989693245108}\n"
     ]
    },
    {
     "name": "stderr",
     "output_type": "stream",
     "text": [
      "Training Batches: 100%|██████████| 1/1 [00:00<00:00,  1.42it/s]\n",
      "Running inference: 100%|██████████| 1/1 [00:02<00:00,  2.30s/it]\n",
      "Running inference: 100%|██████████| 1/1 [00:02<00:00,  2.32s/it]\n"
     ]
    },
    {
     "name": "stdout",
     "output_type": "stream",
     "text": [
      "Epoch: 005, Average Loss: 0.6504\n",
      "Validation: {'precision': 0.6553480475363459, 'recall': 0.7262464722460764, 'f1': 0.6889781297723847, 'auc': 0.7371153483483004, 'prauc': 0.7417001248980409}\n",
      "Test:       {'precision': 0.6979405034302127, 'recall': 0.6694888679815946, 'f1': 0.6834186889820513, 'auc': 0.7462853599376267, 'prauc': 0.7517409908408751}\n"
     ]
    },
    {
     "name": "stderr",
     "output_type": "stream",
     "text": [
      "Training Batches: 100%|██████████| 1/1 [00:00<00:00,  1.02it/s]\n",
      "Running inference: 100%|██████████| 1/1 [00:02<00:00,  2.31s/it]\n",
      "Running inference: 100%|██████████| 1/1 [00:02<00:00,  2.32s/it]\n"
     ]
    },
    {
     "name": "stdout",
     "output_type": "stream",
     "text": [
      "Epoch: 006, Average Loss: 0.6347\n",
      "Validation: {'precision': 0.6367071524949077, 'recall': 0.7397303229829423, 'f1': 0.6843632094153496, 'auc': 0.7269120089895686, 'prauc': 0.7329760539378463}\n",
      "Test:       {'precision': 0.6863793645778975, 'recall': 0.6842270304149131, 'f1': 0.6853015025355486, 'auc': 0.7426006431619123, 'prauc': 0.7509025941969437}\n"
     ]
    },
    {
     "name": "stderr",
     "output_type": "stream",
     "text": [
      "Training Batches: 100%|██████████| 1/1 [00:00<00:00,  1.43it/s]\n",
      "Running inference: 100%|██████████| 1/1 [00:02<00:00,  2.29s/it]\n",
      "Running inference: 100%|██████████| 1/1 [00:02<00:00,  2.39s/it]\n"
     ]
    },
    {
     "name": "stdout",
     "output_type": "stream",
     "text": [
      "Epoch: 007, Average Loss: 0.6198\n",
      "Validation: {'precision': 0.7400707825373966, 'recall': 0.5901536531809654, 'f1': 0.6566643356055287, 'auc': 0.7569564112619186, 'prauc': 0.7464654617543579}\n",
      "Test:       {'precision': 0.7538671519528942, 'recall': 0.5195986202555045, 'f1': 0.6151846990837618, 'auc': 0.7513332095128369, 'prauc': 0.7452061299777418}\n"
     ]
    },
    {
     "name": "stderr",
     "output_type": "stream",
     "text": [
      "Training Batches: 100%|██████████| 1/1 [00:00<00:00,  1.42it/s]\n",
      "Running inference: 100%|██████████| 1/1 [00:02<00:00,  2.31s/it]\n",
      "Running inference: 100%|██████████| 1/1 [00:02<00:00,  2.04s/it]\n"
     ]
    },
    {
     "name": "stdout",
     "output_type": "stream",
     "text": [
      "Epoch: 008, Average Loss: 0.6113\n",
      "Validation: {'precision': 0.7196261682217123, 'recall': 0.6277830040745445, 'f1': 0.6705744381628372, 'auc': 0.7519016878449821, 'prauc': 0.7469109483951599}\n",
      "Test:       {'precision': 0.75948827291787, 'recall': 0.5584822828455362, 'f1': 0.6436573857897953, 'auc': 0.7575339990446694, 'prauc': 0.75559497301662}\n"
     ]
    },
    {
     "name": "stderr",
     "output_type": "stream",
     "text": [
      "Training Batches: 100%|██████████| 1/1 [00:00<00:00,  1.43it/s]\n",
      "Running inference: 100%|██████████| 1/1 [00:02<00:00,  2.27s/it]\n",
      "Running inference: 100%|██████████| 1/1 [00:02<00:00,  2.33s/it]\n"
     ]
    },
    {
     "name": "stdout",
     "output_type": "stream",
     "text": [
      "Epoch: 009, Average Loss: 0.5985\n",
      "Validation: {'precision': 0.6744257274098793, 'recall': 0.6904985888971763, 'f1': 0.682367519014693, 'auc': 0.7372076332964896, 'prauc': 0.7384820158006503}\n",
      "Test:       {'precision': 0.7255187477221495, 'recall': 0.624960802757526, 'f1': 0.671495951898775, 'auc': 0.7538502889396586, 'prauc': 0.7577464734982565}\n"
     ]
    },
    {
     "name": "stderr",
     "output_type": "stream",
     "text": [
      "Training Batches: 100%|██████████| 1/1 [00:01<00:00,  1.00s/it]\n",
      "Running inference: 100%|██████████| 1/1 [00:02<00:00,  2.34s/it]\n",
      "Running inference: 100%|██████████| 1/1 [00:02<00:00,  2.38s/it]\n"
     ]
    },
    {
     "name": "stdout",
     "output_type": "stream",
     "text": [
      "Epoch: 010, Average Loss: 0.5960\n",
      "Validation: {'precision': 0.7480946650591733, 'recall': 0.5848228284710416, 'f1': 0.6564589883849249, 'auc': 0.7625368122498146, 'prauc': 0.7520675538616736}\n",
      "Test:       {'precision': 0.7729805013891691, 'recall': 0.5221072436484099, 'f1': 0.623245362956203, 'auc': 0.7625877879770298, 'prauc': 0.7561340595565404}\n"
     ]
    },
    {
     "name": "stderr",
     "output_type": "stream",
     "text": [
      "Training Batches: 100%|██████████| 1/1 [00:00<00:00,  1.42it/s]\n",
      "Running inference: 100%|██████████| 1/1 [00:02<00:00,  2.31s/it]\n",
      "Running inference: 100%|██████████| 1/1 [00:02<00:00,  2.39s/it]\n"
     ]
    },
    {
     "name": "stdout",
     "output_type": "stream",
     "text": [
      "Epoch: 011, Average Loss: 0.5811\n",
      "Validation: {'precision': 0.7564655172381187, 'recall': 0.5503292568185941, 'f1': 0.6371392218420122, 'auc': 0.7643691482325347, 'prauc': 0.7496613193645871}\n",
      "Test:       {'precision': 0.7650485436856066, 'recall': 0.4941988084023387, 'f1': 0.6004953276733027, 'auc': 0.7574013701794945, 'prauc': 0.7483125316417369}\n"
     ]
    },
    {
     "name": "stderr",
     "output_type": "stream",
     "text": [
      "Training Batches: 100%|██████████| 1/1 [00:00<00:00,  1.39it/s]\n",
      "Running inference: 100%|██████████| 1/1 [00:02<00:00,  2.36s/it]\n",
      "Running inference: 100%|██████████| 1/1 [00:02<00:00,  2.07s/it]\n"
     ]
    },
    {
     "name": "stdout",
     "output_type": "stream",
     "text": [
      "Epoch: 012, Average Loss: 0.5768\n",
      "Validation: {'precision': 0.758635394453055, 'recall': 0.55785512699731, 'f1': 0.6429345813084101, 'auc': 0.7675574751360639, 'prauc': 0.7525137026859721}\n",
      "Test:       {'precision': 0.7734939758998868, 'recall': 0.5032925682016203, 'f1': 0.6098024268325536, 'auc': 0.7620198243661624, 'prauc': 0.7528875819508052}\n"
     ]
    },
    {
     "name": "stderr",
     "output_type": "stream",
     "text": [
      "Training Batches: 100%|██████████| 1/1 [00:01<00:00,  1.02s/it]\n",
      "Running inference: 100%|██████████| 1/1 [00:02<00:00,  2.01s/it]\n",
      "Running inference: 100%|██████████| 1/1 [00:02<00:00,  2.31s/it]\n"
     ]
    },
    {
     "name": "stdout",
     "output_type": "stream",
     "text": [
      "Epoch: 013, Average Loss: 0.5626\n",
      "Validation: {'precision': 0.7596618357457341, 'recall': 0.5917215428015311, 'f1': 0.6652564731288131, 'auc': 0.7723360972599961, 'prauc': 0.7594615196439629}\n",
      "Test:       {'precision': 0.780510018211382, 'recall': 0.5374725619299546, 'f1': 0.6365830963747113, 'auc': 0.7732785301802394, 'prauc': 0.7653258954133142}\n"
     ]
    },
    {
     "name": "stderr",
     "output_type": "stream",
     "text": [
      "Training Batches: 100%|██████████| 1/1 [00:01<00:00,  1.30s/it]\n",
      "Running inference: 100%|██████████| 1/1 [00:02<00:00,  2.04s/it]\n",
      "Running inference: 100%|██████████| 1/1 [00:02<00:00,  2.32s/it]\n"
     ]
    },
    {
     "name": "stdout",
     "output_type": "stream",
     "text": [
      "Epoch: 014, Average Loss: 0.5630\n",
      "Validation: {'precision': 0.7732707087925992, 'recall': 0.5678896205689311, 'f1': 0.6548544518134944, 'auc': 0.7743485823032534, 'prauc': 0.7613878923176605}\n",
      "Test:       {'precision': 0.7940613026781894, 'recall': 0.5199121981796178, 'f1': 0.6283873365076754, 'auc': 0.7774829910401275, 'prauc': 0.7690092468722542}\n"
     ]
    },
    {
     "name": "stderr",
     "output_type": "stream",
     "text": [
      "Training Batches: 100%|██████████| 1/1 [00:00<00:00,  1.01it/s]\n",
      "Running inference: 100%|██████████| 1/1 [00:02<00:00,  2.32s/it]\n",
      "Running inference: 100%|██████████| 1/1 [00:02<00:00,  2.00s/it]\n"
     ]
    },
    {
     "name": "stdout",
     "output_type": "stream",
     "text": [
      "Epoch: 015, Average Loss: 0.5455\n",
      "Validation: {'precision': 0.7772982304670811, 'recall': 0.5647538413277995, 'f1': 0.6541954182977519, 'auc': 0.7760181511481764, 'prauc': 0.7640737982954029}\n",
      "Test:       {'precision': 0.7998088867615872, 'recall': 0.5249294449654283, 'f1': 0.633850809298449, 'auc': 0.7811974046015924, 'prauc': 0.7734343130046745}\n",
      "\n",
      "Early stopping triggered after 15 epochs (no improvement for 10 epochs).\n",
      "\n",
      "Best validation performance:\n",
      "{'precision': 0.6553480475363459, 'recall': 0.7262464722460764, 'f1': 0.6889781297723847, 'auc': 0.7371153483483004, 'prauc': 0.7417001248980409}\n",
      "Corresponding test performance:\n",
      "{'precision': 0.6979405034302127, 'recall': 0.6694888679815946, 'f1': 0.6834186889820513, 'auc': 0.7462853599376267, 'prauc': 0.7517409908408751}\n",
      "Corresponding test-long performance:\n",
      "{'precision': 0.7770897832576752, 'recall': 0.5468409585937507, 'f1': 0.6419437291501561, 'auc': 0.7465541490857946, 'prauc': 0.7695697003423492}\n",
      "[INFO] Random seed set to 3163119785\n",
      "Training with seed: 3163119785\n"
     ]
    },
    {
     "name": "stderr",
     "output_type": "stream",
     "text": [
      "Training Batches: 100%|██████████| 1/1 [00:01<00:00,  1.30s/it]\n",
      "Running inference: 100%|██████████| 1/1 [00:02<00:00,  2.00s/it]\n",
      "Running inference: 100%|██████████| 1/1 [00:02<00:00,  2.31s/it]\n"
     ]
    },
    {
     "name": "stdout",
     "output_type": "stream",
     "text": [
      "Epoch: 001, Average Loss: 0.6932\n",
      "Validation: {'precision': 0.5389183457040532, 'recall': 0.7968015051715371, 'f1': 0.6429655822292815, 'auc': 0.5671855019894264, 'prauc': 0.5466005238702878}\n",
      "Test:       {'precision': 0.5464179737165188, 'recall': 0.8084038883637241, 'f1': 0.6520804302428601, 'auc': 0.5647592773513689, 'prauc': 0.5412197445206051}\n"
     ]
    },
    {
     "name": "stderr",
     "output_type": "stream",
     "text": [
      "Training Batches: 100%|██████████| 1/1 [00:00<00:00,  1.01it/s]\n",
      "Running inference: 100%|██████████| 1/1 [00:02<00:00,  2.30s/it]\n",
      "Running inference: 100%|██████████| 1/1 [00:02<00:00,  2.37s/it]\n"
     ]
    },
    {
     "name": "stdout",
     "output_type": "stream",
     "text": [
      "Epoch: 002, Average Loss: 0.6842\n",
      "Validation: {'precision': 0.5459857173760095, 'recall': 0.7911571025375003, 'f1': 0.6460947454865426, 'auc': 0.6551140178776592, 'prauc': 0.6490995437437582}\n",
      "Test:       {'precision': 0.5532840365364218, 'recall': 0.7977422389438766, 'f1': 0.6533966819476915, 'auc': 0.658003258593067, 'prauc': 0.6527917976130566}\n"
     ]
    },
    {
     "name": "stderr",
     "output_type": "stream",
     "text": [
      "Training Batches: 100%|██████████| 1/1 [00:00<00:00,  1.42it/s]\n",
      "Running inference: 100%|██████████| 1/1 [00:02<00:00,  2.33s/it]\n",
      "Running inference: 100%|██████████| 1/1 [00:02<00:00,  2.35s/it]\n"
     ]
    },
    {
     "name": "stdout",
     "output_type": "stream",
     "text": [
      "Epoch: 003, Average Loss: 0.6779\n",
      "Validation: {'precision': 0.5489179440925408, 'recall': 0.7635622452155423, 'f1': 0.6386885197222171, 'auc': 0.6226577482331979, 'prauc': 0.6116776284801014}\n",
      "Test:       {'precision': 0.554749489910327, 'recall': 0.7673251803049003, 'f1': 0.6439473635486245, 'auc': 0.6253437402950652, 'prauc': 0.6156519732506458}\n"
     ]
    },
    {
     "name": "stderr",
     "output_type": "stream",
     "text": [
      "Training Batches: 100%|██████████| 1/1 [00:00<00:00,  1.42it/s]\n",
      "Running inference: 100%|██████████| 1/1 [00:02<00:00,  2.32s/it]\n",
      "Running inference: 100%|██████████| 1/1 [00:02<00:00,  2.06s/it]\n"
     ]
    },
    {
     "name": "stdout",
     "output_type": "stream",
     "text": [
      "Epoch: 004, Average Loss: 0.6653\n",
      "Validation: {'precision': 0.5642625982418764, 'recall': 0.7654437127602213, 'f1': 0.6496340603156532, 'auc': 0.6658671986941654, 'prauc': 0.6543995730639941}\n",
      "Test:       {'precision': 0.5739478015504963, 'recall': 0.7654437127602213, 'f1': 0.6560064449795073, 'auc': 0.6736106308452964, 'prauc': 0.6631498661629082}\n"
     ]
    },
    {
     "name": "stderr",
     "output_type": "stream",
     "text": [
      "Training Batches: 100%|██████████| 1/1 [00:00<00:00,  1.42it/s]\n",
      "Running inference: 100%|██████████| 1/1 [00:02<00:00,  2.28s/it]\n",
      "Running inference: 100%|██████████| 1/1 [00:02<00:00,  2.28s/it]\n"
     ]
    },
    {
     "name": "stdout",
     "output_type": "stream",
     "text": [
      "Epoch: 005, Average Loss: 0.6506\n",
      "Validation: {'precision': 0.5826538176412586, 'recall': 0.739416745058829, 'f1': 0.6517412886008357, 'auc': 0.6719605171132063, 'prauc': 0.6590867768146593}\n",
      "Test:       {'precision': 0.6019166019150429, 'recall': 0.7287550956389817, 'f1': 0.6592907751854025, 'auc': 0.6820895665124951, 'prauc': 0.6694614442141953}\n"
     ]
    },
    {
     "name": "stderr",
     "output_type": "stream",
     "text": [
      "Training Batches: 100%|██████████| 1/1 [00:01<00:00,  1.00s/it]\n",
      "Running inference: 100%|██████████| 1/1 [00:02<00:00,  2.30s/it]\n",
      "Running inference: 100%|██████████| 1/1 [00:02<00:00,  2.33s/it]\n"
     ]
    },
    {
     "name": "stdout",
     "output_type": "stream",
     "text": [
      "Epoch: 006, Average Loss: 0.6368\n",
      "Validation: {'precision': 0.6918502973043308, 'recall': 0.6202571338958286, 'f1': 0.654100524113252, 'auc': 0.7101944173082153, 'prauc': 0.6943084231668961}\n",
      "Test:       {'precision': 0.7231067961136967, 'recall': 0.5838820946987022, 'f1': 0.6460791067824609, 'auc': 0.7238111344826493, 'prauc': 0.7068413062284298}\n"
     ]
    },
    {
     "name": "stderr",
     "output_type": "stream",
     "text": [
      "Training Batches: 100%|██████████| 1/1 [00:00<00:00,  1.42it/s]\n",
      "Running inference: 100%|██████████| 1/1 [00:02<00:00,  2.30s/it]\n",
      "Running inference: 100%|██████████| 1/1 [00:02<00:00,  2.35s/it]\n"
     ]
    },
    {
     "name": "stdout",
     "output_type": "stream",
     "text": [
      "Epoch: 007, Average Loss: 0.6240\n",
      "Validation: {'precision': 0.6263053909098891, 'recall': 0.6958294136070999, 'f1': 0.6592394483689678, 'auc': 0.6871616616274161, 'prauc': 0.67443397548696}\n",
      "Test:       {'precision': 0.6645689112628553, 'recall': 0.662276575726992, 'f1': 0.6634207583087526, 'auc': 0.703019257107221, 'prauc': 0.6889192586712485}\n"
     ]
    },
    {
     "name": "stderr",
     "output_type": "stream",
     "text": [
      "Training Batches: 100%|██████████| 1/1 [00:00<00:00,  1.42it/s]\n",
      "Running inference: 100%|██████████| 1/1 [00:02<00:00,  2.32s/it]\n",
      "Running inference: 100%|██████████| 1/1 [00:02<00:00,  2.05s/it]\n"
     ]
    },
    {
     "name": "stdout",
     "output_type": "stream",
     "text": [
      "Epoch: 008, Average Loss: 0.6120\n",
      "Validation: {'precision': 0.7193126022883826, 'recall': 0.5512699905909336, 'f1': 0.6241789405849764, 'auc': 0.722885682510239, 'prauc': 0.7118543963206807}\n",
      "Test:       {'precision': 0.7596425211629368, 'recall': 0.5064283474427519, 'f1': 0.6077140121309212, 'auc': 0.7380931744202961, 'prauc': 0.7282281643398988}\n"
     ]
    },
    {
     "name": "stderr",
     "output_type": "stream",
     "text": [
      "Training Batches: 100%|██████████| 1/1 [00:00<00:00,  1.46it/s]\n",
      "Running inference: 100%|██████████| 1/1 [00:02<00:00,  2.28s/it]\n",
      "Running inference: 100%|██████████| 1/1 [00:02<00:00,  2.31s/it]\n"
     ]
    },
    {
     "name": "stdout",
     "output_type": "stream",
     "text": [
      "Epoch: 009, Average Loss: 0.5951\n",
      "Validation: {'precision': 0.7215556474939117, 'recall': 0.5468798996533494, 'f1': 0.6221905052602774, 'auc': 0.7265876803964766, 'prauc': 0.7184676524446616}\n",
      "Test:       {'precision': 0.7641734159086986, 'recall': 0.5029789902775071, 'f1': 0.6066565761481203, 'auc': 0.7429089863983688, 'prauc': 0.7363650489515583}\n"
     ]
    },
    {
     "name": "stderr",
     "output_type": "stream",
     "text": [
      "Training Batches: 100%|██████████| 1/1 [00:00<00:00,  1.01it/s]\n",
      "Running inference: 100%|██████████| 1/1 [00:02<00:00,  2.31s/it]\n",
      "Running inference: 100%|██████████| 1/1 [00:02<00:00,  2.34s/it]\n"
     ]
    },
    {
     "name": "stdout",
     "output_type": "stream",
     "text": [
      "Epoch: 010, Average Loss: 0.5842\n",
      "Validation: {'precision': 0.6975574712618623, 'recall': 0.6089683286277549, 'f1': 0.6502594961090408, 'auc': 0.719267730741759, 'prauc': 0.7158395943954694}\n",
      "Test:       {'precision': 0.7463738085339977, 'recall': 0.5647538413277995, 'f1': 0.6429846434335248, 'auc': 0.7393311780513574, 'prauc': 0.7386427318980677}\n"
     ]
    },
    {
     "name": "stderr",
     "output_type": "stream",
     "text": [
      "Training Batches: 100%|██████████| 1/1 [00:00<00:00,  1.42it/s]\n",
      "Running inference: 100%|██████████| 1/1 [00:02<00:00,  2.31s/it]\n",
      "Running inference: 100%|██████████| 1/1 [00:02<00:00,  2.36s/it]\n"
     ]
    },
    {
     "name": "stdout",
     "output_type": "stream",
     "text": [
      "Epoch: 011, Average Loss: 0.5762\n",
      "Validation: {'precision': 0.7504496402843955, 'recall': 0.5233615553448625, 'f1': 0.6166635828159694, 'auc': 0.7394493989622488, 'prauc': 0.7332705961591576}\n",
      "Test:       {'precision': 0.7801127626818036, 'recall': 0.4772656005002281, 'f1': 0.5922178941204387, 'auc': 0.7566783792803009, 'prauc': 0.7515931856779536}\n"
     ]
    },
    {
     "name": "stderr",
     "output_type": "stream",
     "text": [
      "Training Batches: 100%|██████████| 1/1 [00:00<00:00,  1.42it/s]\n",
      "Running inference: 100%|██████████| 1/1 [00:02<00:00,  2.34s/it]\n",
      "Running inference: 100%|██████████| 1/1 [00:02<00:00,  2.07s/it]\n"
     ]
    },
    {
     "name": "stdout",
     "output_type": "stream",
     "text": [
      "Epoch: 012, Average Loss: 0.5617\n",
      "Validation: {'precision': 0.761265580053877, 'recall': 0.4979617434916966, 'f1': 0.6020853032732024, 'auc': 0.7476562788076483, 'prauc': 0.7385303859354402}\n",
      "Test:       {'precision': 0.8016759776491527, 'recall': 0.44998432110238323, 'f1': 0.5764209634583104, 'auc': 0.7642124538252733, 'prauc': 0.7557530724636199}\n"
     ]
    },
    {
     "name": "stderr",
     "output_type": "stream",
     "text": [
      "Training Batches: 100%|██████████| 1/1 [00:00<00:00,  1.42it/s]\n",
      "Running inference: 100%|██████████| 1/1 [00:02<00:00,  2.31s/it]\n",
      "Running inference: 100%|██████████| 1/1 [00:02<00:00,  2.32s/it]\n"
     ]
    },
    {
     "name": "stdout",
     "output_type": "stream",
     "text": [
      "Epoch: 013, Average Loss: 0.5536\n",
      "Validation: {'precision': 0.7499999999967839, 'recall': 0.5484477892739152, 'f1': 0.6335808681484278, 'auc': 0.7436666754078647, 'prauc': 0.7385285957297739}\n",
      "Test:       {'precision': 0.7899749373393986, 'recall': 0.4941988084023387, 'f1': 0.608024686620925, 'auc': 0.7633203925814409, 'prauc': 0.7592520215481171}\n"
     ]
    },
    {
     "name": "stderr",
     "output_type": "stream",
     "text": [
      "Training Batches: 100%|██████████| 1/1 [00:00<00:00,  1.02it/s]\n",
      "Running inference: 100%|██████████| 1/1 [00:02<00:00,  2.28s/it]\n",
      "Running inference: 100%|██████████| 1/1 [00:02<00:00,  2.37s/it]\n"
     ]
    },
    {
     "name": "stdout",
     "output_type": "stream",
     "text": [
      "Epoch: 014, Average Loss: 0.5501\n",
      "Validation: {'precision': 0.7757704569565581, 'recall': 0.4578237692052122, 'f1': 0.575823304341908, 'auc': 0.7572107097963411, 'prauc': 0.7429177305005179}\n",
      "Test:       {'precision': 0.8134991118957164, 'recall': 0.43085606773148055, 'f1': 0.5633456289268156, 'auc': 0.7714733682748735, 'prauc': 0.760066265815422}\n"
     ]
    },
    {
     "name": "stderr",
     "output_type": "stream",
     "text": [
      "Training Batches: 100%|██████████| 1/1 [00:00<00:00,  1.43it/s]\n",
      "Running inference: 100%|██████████| 1/1 [00:02<00:00,  2.31s/it]\n",
      "Running inference: 100%|██████████| 1/1 [00:02<00:00,  2.38s/it]\n"
     ]
    },
    {
     "name": "stdout",
     "output_type": "stream",
     "text": [
      "Epoch: 015, Average Loss: 0.5410\n",
      "Validation: {'precision': 0.7739829231503065, 'recall': 0.4832235810583781, 'f1': 0.5949806902458364, 'auc': 0.760717537827535, 'prauc': 0.74586563047717}\n",
      "Test:       {'precision': 0.8027777777733179, 'recall': 0.45312010034351485, 'f1': 0.5792743990733593, 'auc': 0.7744820050061734, 'prauc': 0.7643646994361997}\n"
     ]
    },
    {
     "name": "stderr",
     "output_type": "stream",
     "text": [
      "Training Batches: 100%|██████████| 1/1 [00:00<00:00,  1.42it/s]\n",
      "Running inference: 100%|██████████| 1/1 [00:02<00:00,  2.34s/it]\n",
      "Running inference: 100%|██████████| 1/1 [00:02<00:00,  2.09s/it]\n"
     ]
    },
    {
     "name": "stdout",
     "output_type": "stream",
     "text": [
      "Epoch: 016, Average Loss: 0.5362\n",
      "Validation: {'precision': 0.7884288145162313, 'recall': 0.4358733145172911, 'f1': 0.5613893330537075, 'auc': 0.7601929654655356, 'prauc': 0.7365879488624436}\n",
      "Test:       {'precision': 0.8054711246151643, 'recall': 0.41549074944993575, 'f1': 0.5482002437494492, 'auc': 0.7710399965370527, 'prauc': 0.7554459880040321}\n"
     ]
    },
    {
     "name": "stderr",
     "output_type": "stream",
     "text": [
      "Training Batches: 100%|██████████| 1/1 [00:00<00:00,  1.37it/s]\n",
      "Running inference: 100%|██████████| 1/1 [00:02<00:00,  2.29s/it]\n",
      "Running inference: 100%|██████████| 1/1 [00:02<00:00,  2.31s/it]\n"
     ]
    },
    {
     "name": "stdout",
     "output_type": "stream",
     "text": [
      "Epoch: 017, Average Loss: 0.5269\n",
      "Validation: {'precision': 0.7958715596284641, 'recall': 0.4352461586690648, 'f1': 0.5627407211514556, 'auc': 0.7586137223347359, 'prauc': 0.7305406655922146}\n",
      "Test:       {'precision': 0.8057247259390639, 'recall': 0.41486359360170943, 'f1': 0.5477126843947372, 'auc': 0.7692122852079304, 'prauc': 0.7490123291365285}\n",
      "\n",
      "Early stopping triggered after 17 epochs (no improvement for 10 epochs).\n",
      "\n",
      "Best validation performance:\n",
      "{'precision': 0.6263053909098891, 'recall': 0.6958294136070999, 'f1': 0.6592394483689678, 'auc': 0.6871616616274161, 'prauc': 0.67443397548696}\n",
      "Corresponding test performance:\n",
      "{'precision': 0.6645689112628553, 'recall': 0.662276575726992, 'f1': 0.6634207583087526, 'auc': 0.703019257107221, 'prauc': 0.6889192586712485}\n",
      "Corresponding test-long performance:\n",
      "{'precision': 0.792531120299065, 'recall': 0.41612200434823265, 'f1': 0.5457142811836327, 'auc': 0.7334381291194396, 'prauc': 0.7674479435128194}\n",
      "[INFO] Random seed set to 1812140441\n",
      "Training with seed: 1812140441\n"
     ]
    },
    {
     "name": "stderr",
     "output_type": "stream",
     "text": [
      "Training Batches: 100%|██████████| 1/1 [00:01<00:00,  1.00s/it]\n",
      "Running inference: 100%|██████████| 1/1 [00:02<00:00,  2.30s/it]\n",
      "Running inference: 100%|██████████| 1/1 [00:02<00:00,  2.34s/it]\n"
     ]
    },
    {
     "name": "stdout",
     "output_type": "stream",
     "text": [
      "Epoch: 001, Average Loss: 0.6934\n",
      "Validation: {'precision': 0.5592472802100581, 'recall': 0.5964252116632286, 'f1': 0.5772382347606307, 'auc': 0.5919017421006948, 'prauc': 0.5893191841306417}\n",
      "Test:       {'precision': 0.55670407560379, 'recall': 0.5910943869533049, 'f1': 0.5733840254209955, 'auc': 0.5896516768365574, 'prauc': 0.5843068504635106}\n"
     ]
    },
    {
     "name": "stderr",
     "output_type": "stream",
     "text": [
      "Training Batches: 100%|██████████| 1/1 [00:01<00:00,  1.01s/it]\n",
      "Running inference: 100%|██████████| 1/1 [00:02<00:00,  2.03s/it]\n",
      "Running inference: 100%|██████████| 1/1 [00:02<00:00,  2.02s/it]\n"
     ]
    },
    {
     "name": "stdout",
     "output_type": "stream",
     "text": [
      "Epoch: 002, Average Loss: 0.6855\n",
      "Validation: {'precision': 0.561526870917726, 'recall': 0.7011602383170237, 'f1': 0.6236229207322542, 'auc': 0.6266287137909683, 'prauc': 0.6415164749980463}\n",
      "Test:       {'precision': 0.5636918382899474, 'recall': 0.6952022577588737, 'f1': 0.6225779226012579, 'auc': 0.6311913394106043, 'prauc': 0.6502222091679243}\n"
     ]
    },
    {
     "name": "stderr",
     "output_type": "stream",
     "text": [
      "Training Batches: 100%|██████████| 1/1 [00:01<00:00,  1.31s/it]\n",
      "Running inference: 100%|██████████| 1/1 [00:02<00:00,  2.03s/it]\n",
      "Running inference: 100%|██████████| 1/1 [00:02<00:00,  2.33s/it]\n"
     ]
    },
    {
     "name": "stdout",
     "output_type": "stream",
     "text": [
      "Epoch: 003, Average Loss: 0.6754\n",
      "Validation: {'precision': 0.6025364274133769, 'recall': 0.7002195045446842, 'f1': 0.6477157310668419, 'auc': 0.6745389193809344, 'prauc': 0.6936317863054511}\n",
      "Test:       {'precision': 0.6139852188726151, 'recall': 0.6773283160844236, 'f1': 0.6441031707966022, 'auc': 0.6868955634512095, 'prauc': 0.7121205283231952}\n"
     ]
    },
    {
     "name": "stderr",
     "output_type": "stream",
     "text": [
      "Training Batches: 100%|██████████| 1/1 [00:00<00:00,  1.02it/s]\n",
      "Running inference: 100%|██████████| 1/1 [00:02<00:00,  2.32s/it]\n",
      "Running inference: 100%|██████████| 1/1 [00:02<00:00,  2.02s/it]\n"
     ]
    },
    {
     "name": "stdout",
     "output_type": "stream",
     "text": [
      "Epoch: 004, Average Loss: 0.6629\n",
      "Validation: {'precision': 0.590756519492407, 'recall': 0.7174662903709079, 'f1': 0.6479750729266908, 'auc': 0.6670406291894326, 'prauc': 0.6645990047291508}\n",
      "Test:       {'precision': 0.6115267387070892, 'recall': 0.6920664785177421, 'f1': 0.649308615199582, 'auc': 0.6842457544921421, 'prauc': 0.6955668612413571}\n"
     ]
    },
    {
     "name": "stderr",
     "output_type": "stream",
     "text": [
      "Training Batches: 100%|██████████| 1/1 [00:01<00:00,  1.31s/it]\n",
      "Running inference: 100%|██████████| 1/1 [00:02<00:00,  2.06s/it]\n",
      "Running inference: 100%|██████████| 1/1 [00:02<00:00,  2.04s/it]\n"
     ]
    },
    {
     "name": "stdout",
     "output_type": "stream",
     "text": [
      "Epoch: 005, Average Loss: 0.6549\n",
      "Validation: {'precision': 0.7350936967600721, 'recall': 0.5412354970193125, 'f1': 0.6234422923859884, 'auc': 0.737329407229212, 'prauc': 0.736383314663047}\n",
      "Test:       {'precision': 0.7718154463351464, 'recall': 0.4825964252101518, 'f1': 0.5938645524697526, 'auc': 0.7451413793502644, 'prauc': 0.743615842210345}\n"
     ]
    },
    {
     "name": "stderr",
     "output_type": "stream",
     "text": [
      "Training Batches: 100%|██████████| 1/1 [00:01<00:00,  1.00s/it]\n",
      "Running inference: 100%|██████████| 1/1 [00:02<00:00,  2.33s/it]\n",
      "Running inference: 100%|██████████| 1/1 [00:02<00:00,  2.04s/it]\n"
     ]
    },
    {
     "name": "stdout",
     "output_type": "stream",
     "text": [
      "Epoch: 006, Average Loss: 0.6464\n",
      "Validation: {'precision': 0.7239312824581545, 'recall': 0.5682031984930442, 'f1': 0.636683059019791, 'auc': 0.7406689468132254, 'prauc': 0.7395956572981102}\n",
      "Test:       {'precision': 0.7683215129987314, 'recall': 0.5095641266838835, 'f1': 0.6127450932419137, 'auc': 0.7487871883032917, 'prauc': 0.7476651127334505}\n"
     ]
    },
    {
     "name": "stderr",
     "output_type": "stream",
     "text": [
      "Training Batches: 100%|██████████| 1/1 [00:01<00:00,  1.31s/it]\n",
      "Running inference: 100%|██████████| 1/1 [00:02<00:00,  2.01s/it]\n",
      "Running inference: 100%|██████████| 1/1 [00:02<00:00,  2.05s/it]\n"
     ]
    },
    {
     "name": "stdout",
     "output_type": "stream",
     "text": [
      "Epoch: 007, Average Loss: 0.6302\n",
      "Validation: {'precision': 0.6554520877120593, 'recall': 0.6842270304149131, 'f1': 0.6695305258379326, 'auc': 0.7188044974770591, 'prauc': 0.7259810519421633}\n",
      "Test:       {'precision': 0.7028709788976034, 'recall': 0.6371903417979392, 'f1': 0.6684210476413918, 'auc': 0.7402281216481011, 'prauc': 0.7505128936472588}\n"
     ]
    },
    {
     "name": "stderr",
     "output_type": "stream",
     "text": [
      "Training Batches: 100%|██████████| 1/1 [00:00<00:00,  1.42it/s]\n",
      "Running inference: 100%|██████████| 1/1 [00:02<00:00,  2.28s/it]\n",
      "Running inference: 100%|██████████| 1/1 [00:02<00:00,  2.28s/it]\n"
     ]
    },
    {
     "name": "stdout",
     "output_type": "stream",
     "text": [
      "Epoch: 008, Average Loss: 0.6127\n",
      "Validation: {'precision': 0.6493769921742991, 'recall': 0.7027281279375894, 'f1': 0.6749999950057515, 'auc': 0.7219025991400068, 'prauc': 0.7287034449736731}\n",
      "Test:       {'precision': 0.6979619111236286, 'recall': 0.6550642834723893, 'f1': 0.6758330587362593, 'auc': 0.7446148905723777, 'prauc': 0.7546990893223369}\n"
     ]
    },
    {
     "name": "stderr",
     "output_type": "stream",
     "text": [
      "Training Batches: 100%|██████████| 1/1 [00:01<00:00,  1.27s/it]\n",
      "Running inference: 100%|██████████| 1/1 [00:02<00:00,  2.33s/it]\n",
      "Running inference: 100%|██████████| 1/1 [00:01<00:00,  1.73s/it]\n"
     ]
    },
    {
     "name": "stdout",
     "output_type": "stream",
     "text": [
      "Epoch: 009, Average Loss: 0.6086\n",
      "Validation: {'precision': 0.7201187824769112, 'recall': 0.6083411727795286, 'f1': 0.6595274470134385, 'auc': 0.7551510021884142, 'prauc': 0.7532491735837018}\n",
      "Test:       {'precision': 0.7651448639123567, 'recall': 0.5465663217292362, 'f1': 0.6376440412312557, 'auc': 0.7628066381879526, 'prauc': 0.7616207478563285}\n"
     ]
    },
    {
     "name": "stderr",
     "output_type": "stream",
     "text": [
      "Training Batches: 100%|██████████| 1/1 [00:01<00:00,  1.29s/it]\n",
      "Running inference: 100%|██████████| 1/1 [00:02<00:00,  2.36s/it]\n",
      "Running inference: 100%|██████████| 1/1 [00:01<00:00,  1.73s/it]\n"
     ]
    },
    {
     "name": "stdout",
     "output_type": "stream",
     "text": [
      "Epoch: 010, Average Loss: 0.5899\n",
      "Validation: {'precision': 0.7560869565184518, 'recall': 0.5453120100327836, 'f1': 0.6336308932888034, 'auc': 0.7626111626707838, 'prauc': 0.756672111911427}\n",
      "Test:       {'precision': 0.7868769074222438, 'recall': 0.4851050486030571, 'f1': 0.6001939817000489, 'auc': 0.7664725302215128, 'prauc': 0.7617391007795709}\n"
     ]
    },
    {
     "name": "stderr",
     "output_type": "stream",
     "text": [
      "Training Batches: 100%|██████████| 1/1 [00:01<00:00,  1.30s/it]\n",
      "Running inference: 100%|██████████| 1/1 [00:02<00:00,  2.02s/it]\n",
      "Running inference: 100%|██████████| 1/1 [00:02<00:00,  2.34s/it]\n"
     ]
    },
    {
     "name": "stdout",
     "output_type": "stream",
     "text": [
      "Epoch: 011, Average Loss: 0.5853\n",
      "Validation: {'precision': 0.7532251352444727, 'recall': 0.5675760426448179, 'f1': 0.6473533570421041, 'auc': 0.7621622468857975, 'prauc': 0.7606150662298973}\n",
      "Test:       {'precision': 0.7962872496297202, 'recall': 0.5111320163044493, 'f1': 0.6226126766716826, 'auc': 0.7728739995580716, 'prauc': 0.771449931420499}\n"
     ]
    },
    {
     "name": "stderr",
     "output_type": "stream",
     "text": [
      "Training Batches: 100%|██████████| 1/1 [00:00<00:00,  1.41it/s]\n",
      "Running inference: 100%|██████████| 1/1 [00:02<00:00,  2.29s/it]\n",
      "Running inference: 100%|██████████| 1/1 [00:02<00:00,  2.33s/it]\n"
     ]
    },
    {
     "name": "stdout",
     "output_type": "stream",
     "text": [
      "Epoch: 012, Average Loss: 0.5696\n",
      "Validation: {'precision': 0.7243660418936996, 'recall': 0.6180620884270365, 'f1': 0.6670050711712284, 'auc': 0.7554213262527619, 'prauc': 0.7585520603093276}\n",
      "Test:       {'precision': 0.7811550151941765, 'recall': 0.5641266854795731, 'f1': 0.6551347365698416, 'auc': 0.7729623349122964, 'prauc': 0.7758272846505663}\n"
     ]
    },
    {
     "name": "stderr",
     "output_type": "stream",
     "text": [
      "Training Batches: 100%|██████████| 1/1 [00:01<00:00,  1.00s/it]\n",
      "Running inference: 100%|██████████| 1/1 [00:02<00:00,  2.28s/it]\n",
      "Running inference: 100%|██████████| 1/1 [00:02<00:00,  2.37s/it]\n"
     ]
    },
    {
     "name": "stdout",
     "output_type": "stream",
     "text": [
      "Epoch: 013, Average Loss: 0.5586\n",
      "Validation: {'precision': 0.736147757253162, 'recall': 0.6124176857929996, 'f1': 0.66860663660091, 'auc': 0.7642665647463058, 'prauc': 0.7635007087948886}\n",
      "Test:       {'precision': 0.7862190812686122, 'recall': 0.5581687049214231, 'f1': 0.6528516364398476, 'auc': 0.7809809704003581, 'prauc': 0.780272909240344}\n"
     ]
    },
    {
     "name": "stderr",
     "output_type": "stream",
     "text": [
      "Training Batches: 100%|██████████| 1/1 [00:00<00:00,  1.40it/s]\n",
      "Running inference: 100%|██████████| 1/1 [00:02<00:00,  2.36s/it]\n",
      "Running inference: 100%|██████████| 1/1 [00:02<00:00,  2.09s/it]\n"
     ]
    },
    {
     "name": "stdout",
     "output_type": "stream",
     "text": [
      "Epoch: 014, Average Loss: 0.5574\n",
      "Validation: {'precision': 0.767513134847778, 'recall': 0.5497021009703679, 'f1': 0.6405993008168152, 'auc': 0.7797737516689911, 'prauc': 0.7673465071833215}\n",
      "Test:       {'precision': 0.804987531168055, 'recall': 0.5061147695186388, 'f1': 0.6214863256386343, 'auc': 0.786768420941368, 'prauc': 0.7788433586769252}\n"
     ]
    },
    {
     "name": "stderr",
     "output_type": "stream",
     "text": [
      "Training Batches: 100%|██████████| 1/1 [00:00<00:00,  1.40it/s]\n",
      "Running inference: 100%|██████████| 1/1 [00:02<00:00,  2.30s/it]\n",
      "Running inference: 100%|██████████| 1/1 [00:02<00:00,  2.32s/it]\n"
     ]
    },
    {
     "name": "stdout",
     "output_type": "stream",
     "text": [
      "Epoch: 015, Average Loss: 0.5419\n",
      "Validation: {'precision': 0.7786680019991054, 'recall': 0.48761367199596234, 'f1': 0.5996914723154474, 'auc': 0.7753264912860803, 'prauc': 0.7587604141262367}\n",
      "Test:       {'precision': 0.8060671722599888, 'recall': 0.46660395108038066, 'f1': 0.5910625574189257, 'auc': 0.7772387223939434, 'prauc': 0.7683032108425537}\n"
     ]
    },
    {
     "name": "stderr",
     "output_type": "stream",
     "text": [
      "Training Batches: 100%|██████████| 1/1 [00:00<00:00,  1.01it/s]\n",
      "Running inference: 100%|██████████| 1/1 [00:02<00:00,  2.32s/it]\n",
      "Running inference: 100%|██████████| 1/1 [00:02<00:00,  2.37s/it]\n"
     ]
    },
    {
     "name": "stdout",
     "output_type": "stream",
     "text": [
      "Epoch: 016, Average Loss: 0.5473\n",
      "Validation: {'precision': 0.776351970665553, 'recall': 0.5312010034476915, 'f1': 0.6307950054135893, 'auc': 0.782707478617472, 'prauc': 0.767061537368924}\n",
      "Test:       {'precision': 0.8037242073437155, 'recall': 0.500783944808715, 'f1': 0.6170788206150184, 'auc': 0.7858326701890075, 'prauc': 0.7770565072458069}\n"
     ]
    },
    {
     "name": "stderr",
     "output_type": "stream",
     "text": [
      "Training Batches: 100%|██████████| 1/1 [00:00<00:00,  1.40it/s]\n",
      "Running inference: 100%|██████████| 1/1 [00:02<00:00,  2.32s/it]\n",
      "Running inference: 100%|██████████| 1/1 [00:02<00:00,  2.38s/it]\n"
     ]
    },
    {
     "name": "stdout",
     "output_type": "stream",
     "text": [
      "Epoch: 017, Average Loss: 0.5357\n",
      "Validation: {'precision': 0.7820746132812463, 'recall': 0.5390404515505204, 'f1': 0.6382030766593215, 'auc': 0.7879873130049235, 'prauc': 0.7720976007732898}\n",
      "Test:       {'precision': 0.8105682951106153, 'recall': 0.5098777046079966, 'f1': 0.6259865207621633, 'auc': 0.794132418470998, 'prauc': 0.7842245266363506}\n"
     ]
    },
    {
     "name": "stderr",
     "output_type": "stream",
     "text": [
      "Training Batches: 100%|██████████| 1/1 [00:00<00:00,  1.42it/s]\n",
      "Running inference: 100%|██████████| 1/1 [00:02<00:00,  2.34s/it]\n",
      "Running inference: 100%|██████████| 1/1 [00:02<00:00,  2.06s/it]\n"
     ]
    },
    {
     "name": "stdout",
     "output_type": "stream",
     "text": [
      "Epoch: 018, Average Loss: 0.5256\n",
      "Validation: {'precision': 0.7882245549941205, 'recall': 0.5415490749434257, 'f1': 0.642007430113906, 'auc': 0.7912511457751529, 'prauc': 0.7767405303474126}\n",
      "Test:       {'precision': 0.8161146811625501, 'recall': 0.5177171527108256, 'f1': 0.6335379845033741, 'auc': 0.799607801093949, 'prauc': 0.7896916708697516}\n",
      "\n",
      "Early stopping triggered after 18 epochs (no improvement for 10 epochs).\n",
      "\n",
      "Best validation performance:\n",
      "{'precision': 0.6493769921742991, 'recall': 0.7027281279375894, 'f1': 0.6749999950057515, 'auc': 0.7219025991400068, 'prauc': 0.7287034449736731}\n",
      "Corresponding test performance:\n",
      "{'precision': 0.6979619111236286, 'recall': 0.6550642834723893, 'f1': 0.6758330587362593, 'auc': 0.7446148905723777, 'prauc': 0.7546990893223369}\n",
      "Corresponding test-long performance:\n",
      "{'precision': 0.8006993006713042, 'recall': 0.4989106753703941, 'f1': 0.6147650959242557, 'auc': 0.753062518959764, 'prauc': 0.780984704593717}\n",
      "[INFO] Random seed set to 127978094\n",
      "Training with seed: 127978094\n"
     ]
    },
    {
     "name": "stderr",
     "output_type": "stream",
     "text": [
      "Training Batches: 100%|██████████| 1/1 [00:00<00:00,  1.41it/s]\n",
      "Running inference: 100%|██████████| 1/1 [00:02<00:00,  2.30s/it]\n",
      "Running inference: 100%|██████████| 1/1 [00:02<00:00,  2.35s/it]\n"
     ]
    },
    {
     "name": "stdout",
     "output_type": "stream",
     "text": [
      "Epoch: 001, Average Loss: 0.6936\n",
      "Validation: {'precision': 0.5431224041032419, 'recall': 0.6970837253035526, 'f1': 0.6105465482201196, 'auc': 0.579280908851508, 'prauc': 0.5779454236729862}\n",
      "Test:       {'precision': 0.5431139179000654, 'recall': 0.7011602383170237, 'f1': 0.6120996392071074, 'auc': 0.5808917793760353, 'prauc': 0.5813556077429674}\n"
     ]
    },
    {
     "name": "stderr",
     "output_type": "stream",
     "text": [
      "Training Batches: 100%|██████████| 1/1 [00:01<00:00,  1.00s/it]\n",
      "Running inference: 100%|██████████| 1/1 [00:02<00:00,  2.31s/it]\n",
      "Running inference: 100%|██████████| 1/1 [00:02<00:00,  2.37s/it]\n"
     ]
    },
    {
     "name": "stdout",
     "output_type": "stream",
     "text": [
      "Epoch: 002, Average Loss: 0.6859\n",
      "Validation: {'precision': 0.5476245654680241, 'recall': 0.7409846346793949, 'f1': 0.629797436475507, 'auc': 0.6548971959743467, 'prauc': 0.6886748262749185}\n",
      "Test:       {'precision': 0.5564156697148571, 'recall': 0.7438068359964133, 'f1': 0.6366076172170163, 'auc': 0.6664545611494569, 'prauc': 0.6980744076825403}\n"
     ]
    },
    {
     "name": "stderr",
     "output_type": "stream",
     "text": [
      "Training Batches: 100%|██████████| 1/1 [00:00<00:00,  1.40it/s]\n",
      "Running inference: 100%|██████████| 1/1 [00:02<00:00,  2.34s/it]\n",
      "Running inference: 100%|██████████| 1/1 [00:02<00:00,  2.06s/it]\n"
     ]
    },
    {
     "name": "stdout",
     "output_type": "stream",
     "text": [
      "Epoch: 003, Average Loss: 0.6768\n",
      "Validation: {'precision': 0.5481788842772057, 'recall': 0.7456883035410923, 'f1': 0.6318586373361685, 'auc': 0.6258618494827973, 'prauc': 0.640353802069529}\n",
      "Test:       {'precision': 0.5531816070586317, 'recall': 0.7469426152375449, 'f1': 0.6356237442754684, 'auc': 0.641205246566372, 'prauc': 0.6566353178008284}\n"
     ]
    },
    {
     "name": "stderr",
     "output_type": "stream",
     "text": [
      "Training Batches: 100%|██████████| 1/1 [00:01<00:00,  1.02s/it]\n",
      "Running inference: 100%|██████████| 1/1 [00:02<00:00,  2.04s/it]\n",
      "Running inference: 100%|██████████| 1/1 [00:02<00:00,  2.34s/it]\n"
     ]
    },
    {
     "name": "stdout",
     "output_type": "stream",
     "text": [
      "Epoch: 004, Average Loss: 0.6647\n",
      "Validation: {'precision': 0.553033811948696, 'recall': 0.7488240827822239, 'f1': 0.636206202651025, 'auc': 0.6224006866763745, 'prauc': 0.6190535342102669}\n",
      "Test:       {'precision': 0.5603773584892444, 'recall': 0.7450611476928659, 'f1': 0.639655399594245, 'auc': 0.6393531738062269, 'prauc': 0.6356042847549932}\n"
     ]
    },
    {
     "name": "stderr",
     "output_type": "stream",
     "text": [
      "Training Batches: 100%|██████████| 1/1 [00:01<00:00,  1.29s/it]\n",
      "Running inference: 100%|██████████| 1/1 [00:02<00:00,  2.04s/it]\n",
      "Running inference: 100%|██████████| 1/1 [00:02<00:00,  2.32s/it]\n"
     ]
    },
    {
     "name": "stdout",
     "output_type": "stream",
     "text": [
      "Epoch: 005, Average Loss: 0.6522\n",
      "Validation: {'precision': 0.6400688863357059, 'recall': 0.6992787707723447, 'f1': 0.6683650482072291, 'auc': 0.7070551214931092, 'prauc': 0.7203871763786296}\n",
      "Test:       {'precision': 0.6918408631129742, 'recall': 0.6434619002802024, 'f1': 0.6667749746957047, 'auc': 0.7258420926267914, 'prauc': 0.7355253284263643}\n"
     ]
    },
    {
     "name": "stderr",
     "output_type": "stream",
     "text": [
      "Training Batches: 100%|██████████| 1/1 [00:00<00:00,  1.00it/s]\n",
      "Running inference: 100%|██████████| 1/1 [00:02<00:00,  2.32s/it]\n",
      "Running inference: 100%|██████████| 1/1 [00:02<00:00,  2.04s/it]\n"
     ]
    },
    {
     "name": "stdout",
     "output_type": "stream",
     "text": [
      "Epoch: 006, Average Loss: 0.6396\n",
      "Validation: {'precision': 0.6321548821531084, 'recall': 0.7064910630269474, 'f1': 0.6672589910152193, 'auc': 0.6986776375736484, 'prauc': 0.7103727249949212}\n",
      "Test:       {'precision': 0.6752577319565874, 'recall': 0.6572593289411814, 'f1': 0.6661369725929475, 'auc': 0.7213268725207588, 'prauc': 0.7309584431957525}\n"
     ]
    },
    {
     "name": "stderr",
     "output_type": "stream",
     "text": [
      "Training Batches: 100%|██████████| 1/1 [00:01<00:00,  1.30s/it]\n",
      "Running inference: 100%|██████████| 1/1 [00:02<00:00,  2.01s/it]\n",
      "Running inference: 100%|██████████| 1/1 [00:02<00:00,  2.31s/it]\n"
     ]
    },
    {
     "name": "stdout",
     "output_type": "stream",
     "text": [
      "Epoch: 007, Average Loss: 0.6212\n",
      "Validation: {'precision': 0.6055776892414194, 'recall': 0.7149576669780027, 'f1': 0.655737699950451, 'auc': 0.6745483136570973, 'prauc': 0.6708909678078925}\n",
      "Test:       {'precision': 0.6580086580066233, 'recall': 0.6672938225128024, 'f1': 0.6626187089947569, 'auc': 0.6998987792607716, 'prauc': 0.7001232334654581}\n"
     ]
    },
    {
     "name": "stderr",
     "output_type": "stream",
     "text": [
      "Training Batches: 100%|██████████| 1/1 [00:00<00:00,  1.00it/s]\n",
      "Running inference: 100%|██████████| 1/1 [00:02<00:00,  2.29s/it]\n",
      "Running inference: 100%|██████████| 1/1 [00:02<00:00,  2.35s/it]\n"
     ]
    },
    {
     "name": "stdout",
     "output_type": "stream",
     "text": [
      "Epoch: 008, Average Loss: 0.6088\n",
      "Validation: {'precision': 0.6642678347914135, 'recall': 0.6657259328922367, 'f1': 0.6649960795711416, 'auc': 0.7120809085299927, 'prauc': 0.7192797486363807}\n",
      "Test:       {'precision': 0.714869888473179, 'recall': 0.6030103480696049, 'f1': 0.6541928849810662, 'auc': 0.7364026723080492, 'prauc': 0.7421973584472789}\n"
     ]
    },
    {
     "name": "stderr",
     "output_type": "stream",
     "text": [
      "Training Batches: 100%|██████████| 1/1 [00:01<00:00,  1.01s/it]\n",
      "Running inference: 100%|██████████| 1/1 [00:02<00:00,  2.01s/it]\n",
      "Running inference: 100%|██████████| 1/1 [00:02<00:00,  2.28s/it]\n"
     ]
    },
    {
     "name": "stdout",
     "output_type": "stream",
     "text": [
      "Epoch: 009, Average Loss: 0.5938\n",
      "Validation: {'precision': 0.7644207464819951, 'recall': 0.49451238632645184, 'f1': 0.6005331254636388, 'auc': 0.757533832706931, 'prauc': 0.7490472548805152}\n",
      "Test:       {'precision': 0.7872928176752084, 'recall': 0.44684854186125167, 'f1': 0.5701140181827605, 'auc': 0.7601398668275327, 'prauc': 0.7534976263310597}\n"
     ]
    },
    {
     "name": "stderr",
     "output_type": "stream",
     "text": [
      "Training Batches: 100%|██████████| 1/1 [00:01<00:00,  1.29s/it]\n",
      "Running inference: 100%|██████████| 1/1 [00:02<00:00,  2.00s/it]\n",
      "Running inference: 100%|██████████| 1/1 [00:02<00:00,  2.35s/it]\n"
     ]
    },
    {
     "name": "stdout",
     "output_type": "stream",
     "text": [
      "Epoch: 010, Average Loss: 0.5910\n",
      "Validation: {'precision': 0.7646233036931932, 'recall': 0.5123863280009019, 'f1': 0.6135936865183425, 'auc': 0.762637788159374, 'prauc': 0.7541483144996326}\n",
      "Test:       {'precision': 0.7863157894695457, 'recall': 0.46848541862505966, 'f1': 0.5871487475291257, 'auc': 0.7628370396431956, 'prauc': 0.7569874682411197}\n"
     ]
    },
    {
     "name": "stderr",
     "output_type": "stream",
     "text": [
      "Training Batches: 100%|██████████| 1/1 [00:01<00:00,  1.01s/it]\n",
      "Running inference: 100%|██████████| 1/1 [00:02<00:00,  2.32s/it]\n",
      "Running inference: 100%|██████████| 1/1 [00:01<00:00,  1.99s/it]\n"
     ]
    },
    {
     "name": "stdout",
     "output_type": "stream",
     "text": [
      "Epoch: 011, Average Loss: 0.5720\n",
      "Validation: {'precision': 0.7650753768812183, 'recall': 0.5729068673547416, 'f1': 0.6551909579840627, 'auc': 0.7665541463471487, 'prauc': 0.7605427201093542}\n",
      "Test:       {'precision': 0.7927360774780013, 'recall': 0.5133270617732414, 'f1': 0.6231442662580581, 'auc': 0.7725177891296677, 'prauc': 0.7678792067762733}\n"
     ]
    },
    {
     "name": "stderr",
     "output_type": "stream",
     "text": [
      "Training Batches: 100%|██████████| 1/1 [00:01<00:00,  1.29s/it]\n",
      "Running inference: 100%|██████████| 1/1 [00:02<00:00,  2.02s/it]\n",
      "Running inference: 100%|██████████| 1/1 [00:02<00:00,  2.37s/it]\n"
     ]
    },
    {
     "name": "stdout",
     "output_type": "stream",
     "text": [
      "Epoch: 012, Average Loss: 0.5706\n",
      "Validation: {'precision': 0.7839080459734074, 'recall': 0.5346503606129362, 'f1': 0.6357196074059861, 'auc': 0.7714277159681294, 'prauc': 0.7629589391119971}\n",
      "Test:       {'precision': 0.8061812467218116, 'recall': 0.4825964252101518, 'f1': 0.6037661781296252, 'auc': 0.7756593063938186, 'prauc': 0.7694247590489529}\n"
     ]
    },
    {
     "name": "stderr",
     "output_type": "stream",
     "text": [
      "Training Batches: 100%|██████████| 1/1 [00:00<00:00,  1.01it/s]\n",
      "Running inference: 100%|██████████| 1/1 [00:02<00:00,  2.36s/it]\n",
      "Running inference: 100%|██████████| 1/1 [00:02<00:00,  2.38s/it]\n"
     ]
    },
    {
     "name": "stdout",
     "output_type": "stream",
     "text": [
      "Epoch: 013, Average Loss: 0.5502\n",
      "Validation: {'precision': 0.7972972972931534, 'recall': 0.481028535589586, 'f1': 0.6000391112825854, 'auc': 0.7769141741943956, 'prauc': 0.7652150288877734}\n",
      "Test:       {'precision': 0.8150488225111141, 'recall': 0.44496707431657273, 'f1': 0.5756592246379233, 'auc': 0.77841788612239, 'prauc': 0.7701487283156776}\n"
     ]
    },
    {
     "name": "stderr",
     "output_type": "stream",
     "text": [
      "Training Batches: 100%|██████████| 1/1 [00:00<00:00,  1.41it/s]\n",
      "Running inference: 100%|██████████| 1/1 [00:02<00:00,  2.33s/it]\n",
      "Running inference: 100%|██████████| 1/1 [00:02<00:00,  2.31s/it]\n"
     ]
    },
    {
     "name": "stdout",
     "output_type": "stream",
     "text": [
      "Epoch: 014, Average Loss: 0.5509\n",
      "Validation: {'precision': 0.8003010536838921, 'recall': 0.5001567889604887, 'f1': 0.6155924306171104, 'auc': 0.7823594382685033, 'prauc': 0.7699772035025905}\n",
      "Test:       {'precision': 0.8154269972406863, 'recall': 0.4640953276874754, 'f1': 0.5915267739517459, 'auc': 0.7825764427982023, 'prauc': 0.7741887594243975}\n"
     ]
    },
    {
     "name": "stderr",
     "output_type": "stream",
     "text": [
      "Training Batches: 100%|██████████| 1/1 [00:01<00:00,  1.02s/it]\n",
      "Running inference: 100%|██████████| 1/1 [00:02<00:00,  2.32s/it]\n",
      "Running inference: 100%|██████████| 1/1 [00:02<00:00,  2.00s/it]\n"
     ]
    },
    {
     "name": "stdout",
     "output_type": "stream",
     "text": [
      "Epoch: 015, Average Loss: 0.5445\n",
      "Validation: {'precision': 0.7901684114665901, 'recall': 0.5443712762604441, 'f1': 0.6446342320777286, 'auc': 0.7863766718922954, 'prauc': 0.7750041723492317}\n",
      "Test:       {'precision': 0.8120638085702291, 'recall': 0.5108184383803361, 'f1': 0.6271414774512831, 'auc': 0.7869982941964931, 'prauc': 0.779378148846615}\n",
      "\n",
      "Early stopping triggered after 15 epochs (no improvement for 10 epochs).\n",
      "\n",
      "Best validation performance:\n",
      "{'precision': 0.6400688863357059, 'recall': 0.6992787707723447, 'f1': 0.6683650482072291, 'auc': 0.7070551214931092, 'prauc': 0.7203871763786296}\n",
      "Corresponding test performance:\n",
      "{'precision': 0.6918408631129742, 'recall': 0.6434619002802024, 'f1': 0.6667749746957047, 'auc': 0.7258420926267914, 'prauc': 0.7355253284263643}\n",
      "Corresponding test-long performance:\n",
      "{'precision': 0.7749077490488964, 'recall': 0.45751633985931334, 'f1': 0.5753424610692813, 'auc': 0.7267367143763271, 'prauc': 0.7592041750697601}\n",
      "[INFO] Random seed set to 939042955\n",
      "Training with seed: 939042955\n"
     ]
    },
    {
     "name": "stderr",
     "output_type": "stream",
     "text": [
      "Training Batches: 100%|██████████| 1/1 [00:01<00:00,  1.58s/it]\n",
      "Running inference: 100%|██████████| 1/1 [00:02<00:00,  2.03s/it]\n",
      "Running inference: 100%|██████████| 1/1 [00:02<00:00,  2.04s/it]\n"
     ]
    },
    {
     "name": "stdout",
     "output_type": "stream",
     "text": [
      "Epoch: 001, Average Loss: 0.6933\n",
      "Validation: {'precision': 0.5704307334092829, 'recall': 0.6146127312617917, 'f1': 0.5916981082127111, 'auc': 0.6056806333932457, 'prauc': 0.6060156352676391}\n",
      "Test:       {'precision': 0.567616191902346, 'recall': 0.5936030103462101, 'f1': 0.5803188178088183, 'auc': 0.6122968853105101, 'prauc': 0.6234203628721398}\n"
     ]
    },
    {
     "name": "stderr",
     "output_type": "stream",
     "text": [
      "Training Batches: 100%|██████████| 1/1 [00:00<00:00,  1.00it/s]\n",
      "Running inference: 100%|██████████| 1/1 [00:02<00:00,  2.03s/it]\n",
      "Running inference: 100%|██████████| 1/1 [00:02<00:00,  2.28s/it]\n"
     ]
    },
    {
     "name": "stdout",
     "output_type": "stream",
     "text": [
      "Epoch: 002, Average Loss: 0.6847\n",
      "Validation: {'precision': 0.5818421052616267, 'recall': 0.6933207902141947, 'f1': 0.6327085370309663, 'auc': 0.6609261108530616, 'prauc': 0.6792610910752315}\n",
      "Test:       {'precision': 0.5978776877950353, 'recall': 0.6713703355262736, 'f1': 0.6324963022527089, 'auc': 0.6738389940943663, 'prauc': 0.7033012757639107}\n"
     ]
    },
    {
     "name": "stderr",
     "output_type": "stream",
     "text": [
      "Training Batches: 100%|██████████| 1/1 [00:01<00:00,  1.57s/it]\n",
      "Running inference: 100%|██████████| 1/1 [00:02<00:00,  2.04s/it]\n",
      "Running inference: 100%|██████████| 1/1 [00:01<00:00,  1.99s/it]\n"
     ]
    },
    {
     "name": "stdout",
     "output_type": "stream",
     "text": [
      "Epoch: 003, Average Loss: 0.6747\n",
      "Validation: {'precision': 0.6193781232631334, 'recall': 0.6995923486964579, 'f1': 0.6570460854303409, 'auc': 0.6924407424633038, 'prauc': 0.7079991955925087}\n",
      "Test:       {'precision': 0.6620341124426341, 'recall': 0.6572593289411814, 'f1': 0.6596380752497598, 'auc': 0.7117822249133886, 'prauc': 0.735963563150783}\n"
     ]
    },
    {
     "name": "stderr",
     "output_type": "stream",
     "text": [
      "Training Batches: 100%|██████████| 1/1 [00:01<00:00,  1.28s/it]\n",
      "Running inference: 100%|██████████| 1/1 [00:01<00:00,  1.99s/it]\n",
      "Running inference: 100%|██████████| 1/1 [00:02<00:00,  2.32s/it]\n"
     ]
    },
    {
     "name": "stdout",
     "output_type": "stream",
     "text": [
      "Epoch: 004, Average Loss: 0.6613\n",
      "Validation: {'precision': 0.5829539706611458, 'recall': 0.7227971150808317, 'f1': 0.6453870873136978, 'auc': 0.6683604496351756, 'prauc': 0.6622294600356018}\n",
      "Test:       {'precision': 0.6122225267179715, 'recall': 0.7005330824687973, 'f1': 0.6534074240935444, 'auc': 0.6897045270484867, 'prauc': 0.6911407595890009}\n"
     ]
    },
    {
     "name": "stderr",
     "output_type": "stream",
     "text": [
      "Training Batches: 100%|██████████| 1/1 [00:00<00:00,  1.02it/s]\n",
      "Running inference: 100%|██████████| 1/1 [00:02<00:00,  2.27s/it]\n",
      "Running inference: 100%|██████████| 1/1 [00:02<00:00,  2.35s/it]\n"
     ]
    },
    {
     "name": "stdout",
     "output_type": "stream",
     "text": [
      "Epoch: 005, Average Loss: 0.6520\n",
      "Validation: {'precision': 0.7016865776503806, 'recall': 0.6262151144539787, 'f1': 0.6618061259170235, 'auc': 0.7231735894444105, 'prauc': 0.7232076764146095}\n",
      "Test:       {'precision': 0.7454620462015451, 'recall': 0.5666353088724785, 'f1': 0.643862457232039, 'auc': 0.7433022926421935, 'prauc': 0.7522895841849498}\n"
     ]
    },
    {
     "name": "stderr",
     "output_type": "stream",
     "text": [
      "Training Batches: 100%|██████████| 1/1 [00:00<00:00,  1.41it/s]\n",
      "Running inference: 100%|██████████| 1/1 [00:02<00:00,  2.28s/it]\n",
      "Running inference: 100%|██████████| 1/1 [00:02<00:00,  2.31s/it]\n"
     ]
    },
    {
     "name": "stdout",
     "output_type": "stream",
     "text": [
      "Epoch: 006, Average Loss: 0.6328\n",
      "Validation: {'precision': 0.730145867095907, 'recall': 0.5650674192519126, 'f1': 0.6370867902000575, 'auc': 0.7406489525783972, 'prauc': 0.7404496196267037}\n",
      "Test:       {'precision': 0.7713884992951314, 'recall': 0.5174035747867125, 'f1': 0.6193693645612315, 'auc': 0.754483333811502, 'prauc': 0.7606083031929578}\n"
     ]
    },
    {
     "name": "stderr",
     "output_type": "stream",
     "text": [
      "Training Batches: 100%|██████████| 1/1 [00:01<00:00,  1.00s/it]\n",
      "Running inference: 100%|██████████| 1/1 [00:02<00:00,  2.28s/it]\n",
      "Running inference: 100%|██████████| 1/1 [00:02<00:00,  2.01s/it]\n"
     ]
    },
    {
     "name": "stdout",
     "output_type": "stream",
     "text": [
      "Epoch: 007, Average Loss: 0.6225\n",
      "Validation: {'precision': 0.7071862710021195, 'recall': 0.6202571338958286, 'f1': 0.6608753708962806, 'auc': 0.732412533511694, 'prauc': 0.7276064709897547}\n",
      "Test:       {'precision': 0.7485331098040716, 'recall': 0.5600501724661021, 'f1': 0.640717483890671, 'auc': 0.7505670324404667, 'prauc': 0.7574183097543334}\n"
     ]
    },
    {
     "name": "stderr",
     "output_type": "stream",
     "text": [
      "Training Batches: 100%|██████████| 1/1 [00:01<00:00,  1.58s/it]\n",
      "Running inference: 100%|██████████| 1/1 [00:02<00:00,  2.05s/it]\n",
      "Running inference: 100%|██████████| 1/1 [00:02<00:00,  2.04s/it]\n"
     ]
    },
    {
     "name": "stdout",
     "output_type": "stream",
     "text": [
      "Epoch: 008, Average Loss: 0.6059\n",
      "Validation: {'precision': 0.7056338028144168, 'recall': 0.6284101599227707, 'f1': 0.6647868585076658, 'auc': 0.7295315551726844, 'prauc': 0.7209985955743747}\n",
      "Test:       {'precision': 0.7458677685919592, 'recall': 0.5660081530242521, 'f1': 0.6436084814528938, 'auc': 0.748474365382205, 'prauc': 0.7529829282066225}\n"
     ]
    },
    {
     "name": "stderr",
     "output_type": "stream",
     "text": [
      "Training Batches: 100%|██████████| 1/1 [00:00<00:00,  1.01it/s]\n",
      "Running inference: 100%|██████████| 1/1 [00:02<00:00,  2.01s/it]\n",
      "Running inference: 100%|██████████| 1/1 [00:02<00:00,  2.31s/it]\n"
     ]
    },
    {
     "name": "stdout",
     "output_type": "stream",
     "text": [
      "Epoch: 009, Average Loss: 0.6004\n",
      "Validation: {'precision': 0.7521929824528413, 'recall': 0.5377861398540678, 'f1': 0.6271713244464947, 'auc': 0.7552736803830132, 'prauc': 0.7538806289843955}\n",
      "Test:       {'precision': 0.7910750507059277, 'recall': 0.48918156161652815, 'f1': 0.6045340003134654, 'auc': 0.7626399335194668, 'prauc': 0.7666321786127491}\n"
     ]
    },
    {
     "name": "stderr",
     "output_type": "stream",
     "text": [
      "Training Batches: 100%|██████████| 1/1 [00:01<00:00,  1.30s/it]\n",
      "Running inference: 100%|██████████| 1/1 [00:02<00:00,  2.01s/it]\n",
      "Running inference: 100%|██████████| 1/1 [00:02<00:00,  2.03s/it]\n"
     ]
    },
    {
     "name": "stdout",
     "output_type": "stream",
     "text": [
      "Epoch: 010, Average Loss: 0.5843\n",
      "Validation: {'precision': 0.7608108108073838, 'recall': 0.5296331138271256, 'f1': 0.6245146928841693, 'auc': 0.7599083239214743, 'prauc': 0.7595526337412276}\n",
      "Test:       {'precision': 0.8023920956796547, 'recall': 0.48385073690660446, 'f1': 0.6036776165875525, 'auc': 0.7665100287052151, 'prauc': 0.7702369923914665}\n"
     ]
    },
    {
     "name": "stderr",
     "output_type": "stream",
     "text": [
      "Training Batches: 100%|██████████| 1/1 [00:01<00:00,  1.31s/it]\n",
      "Running inference: 100%|██████████| 1/1 [00:02<00:00,  2.05s/it]\n",
      "Running inference: 100%|██████████| 1/1 [00:02<00:00,  2.07s/it]\n"
     ]
    },
    {
     "name": "stdout",
     "output_type": "stream",
     "text": [
      "Epoch: 011, Average Loss: 0.5690\n",
      "Validation: {'precision': 0.7662628981571725, 'recall': 0.5355910943852756, 'f1': 0.6304909512270006, 'auc': 0.7640318585525441, 'prauc': 0.7657213020879974}\n",
      "Test:       {'precision': 0.8112820512778909, 'recall': 0.49608027594701765, 'f1': 0.6156839804993746, 'auc': 0.7718420110864646, 'prauc': 0.7763800472206233}\n"
     ]
    },
    {
     "name": "stderr",
     "output_type": "stream",
     "text": [
      "Training Batches: 100%|██████████| 1/1 [00:01<00:00,  1.01s/it]\n",
      "Running inference: 100%|██████████| 1/1 [00:02<00:00,  2.35s/it]\n",
      "Running inference: 100%|██████████| 1/1 [00:01<00:00,  1.73s/it]\n"
     ]
    },
    {
     "name": "stdout",
     "output_type": "stream",
     "text": [
      "Epoch: 012, Average Loss: 0.5613\n",
      "Validation: {'precision': 0.7735099337714194, 'recall': 0.5493885230462546, 'f1': 0.6424642415657971, 'auc': 0.7677913775414908, 'prauc': 0.7713412668389015}\n",
      "Test:       {'precision': 0.8133802816860495, 'recall': 0.5070555032909783, 'f1': 0.6246861069143506, 'auc': 0.7771361929828006, 'prauc': 0.7824173401425175}\n"
     ]
    },
    {
     "name": "stderr",
     "output_type": "stream",
     "text": [
      "Training Batches: 100%|██████████| 1/1 [00:01<00:00,  1.29s/it]\n",
      "Running inference: 100%|██████████| 1/1 [00:02<00:00,  2.38s/it]\n",
      "Running inference: 100%|██████████| 1/1 [00:01<00:00,  1.72s/it]\n"
     ]
    },
    {
     "name": "stdout",
     "output_type": "stream",
     "text": [
      "Epoch: 013, Average Loss: 0.5480\n",
      "Validation: {'precision': 0.7871333964011962, 'recall': 0.5217936657242966, 'f1': 0.6275692955991032, 'auc': 0.7774465834926593, 'prauc': 0.7779752028920197}\n",
      "Test:       {'precision': 0.8255501878645972, 'recall': 0.48228284728603865, 'f1': 0.608867770480602, 'auc': 0.7838790746884228, 'prauc': 0.785234137321757}\n"
     ]
    },
    {
     "name": "stderr",
     "output_type": "stream",
     "text": [
      "Training Batches: 100%|██████████| 1/1 [00:01<00:00,  1.31s/it]\n",
      "Running inference: 100%|██████████| 1/1 [00:02<00:00,  2.04s/it]\n",
      "Running inference: 100%|██████████| 1/1 [00:02<00:00,  2.36s/it]\n"
     ]
    },
    {
     "name": "stdout",
     "output_type": "stream",
     "text": [
      "Epoch: 014, Average Loss: 0.5433\n",
      "Validation: {'precision': 0.816528925615336, 'recall': 0.4647224835357017, 'f1': 0.5923261344633336, 'auc': 0.7852580999508785, 'prauc': 0.7803477493821174}\n",
      "Test:       {'precision': 0.8311298076873129, 'recall': 0.433678269048499, 'f1': 0.5699567232886196, 'auc': 0.7870408260337125, 'prauc': 0.7828823612700722}\n"
     ]
    },
    {
     "name": "stderr",
     "output_type": "stream",
     "text": [
      "Training Batches: 100%|██████████| 1/1 [00:00<00:00,  1.42it/s]\n",
      "Running inference: 100%|██████████| 1/1 [00:02<00:00,  2.29s/it]\n",
      "Running inference: 100%|██████████| 1/1 [00:02<00:00,  2.31s/it]\n"
     ]
    },
    {
     "name": "stdout",
     "output_type": "stream",
     "text": [
      "Epoch: 015, Average Loss: 0.5436\n",
      "Validation: {'precision': 0.812913065577972, 'recall': 0.5014111006569414, 'f1': 0.6202482497392744, 'auc': 0.7860508361960757, 'prauc': 0.7822743461160171}\n",
      "Test:       {'precision': 0.8297040759305991, 'recall': 0.46597679523215435, 'f1': 0.5967871439860076, 'auc': 0.7910686161851509, 'prauc': 0.78785218704631}\n"
     ]
    },
    {
     "name": "stderr",
     "output_type": "stream",
     "text": [
      "Training Batches: 100%|██████████| 1/1 [00:00<00:00,  1.00it/s]\n",
      "Running inference: 100%|██████████| 1/1 [00:02<00:00,  2.30s/it]\n",
      "Running inference: 100%|██████████| 1/1 [00:02<00:00,  2.36s/it]\n"
     ]
    },
    {
     "name": "stdout",
     "output_type": "stream",
     "text": [
      "Epoch: 016, Average Loss: 0.5533\n",
      "Validation: {'precision': 0.7802108677989449, 'recall': 0.6033239259937181, 'f1': 0.680459765194266, 'auc': 0.7842009173435318, 'prauc': 0.7884085347319953}\n",
      "Test:       {'precision': 0.8098654708483863, 'recall': 0.5663217309483652, 'f1': 0.6665436378926445, 'auc': 0.7965484281591968, 'prauc': 0.7975892369187574}\n"
     ]
    },
    {
     "name": "stderr",
     "output_type": "stream",
     "text": [
      "Training Batches: 100%|██████████| 1/1 [00:00<00:00,  1.41it/s]\n",
      "Running inference: 100%|██████████| 1/1 [00:02<00:00,  2.34s/it]\n",
      "Running inference: 100%|██████████| 1/1 [00:02<00:00,  2.05s/it]\n"
     ]
    },
    {
     "name": "stdout",
     "output_type": "stream",
     "text": [
      "Epoch: 017, Average Loss: 0.5430\n",
      "Validation: {'precision': 0.7833537331669386, 'recall': 0.6020696142972654, 'f1': 0.6808510589129829, 'auc': 0.7909337498564485, 'prauc': 0.793597581327606}\n",
      "Test:       {'precision': 0.8086802480035046, 'recall': 0.5725932894306285, 'f1': 0.6704607992559617, 'auc': 0.8004427337753625, 'prauc': 0.7992934027508122}\n"
     ]
    },
    {
     "name": "stderr",
     "output_type": "stream",
     "text": [
      "Training Batches: 100%|██████████| 1/1 [00:01<00:00,  1.01s/it]\n",
      "Running inference: 100%|██████████| 1/1 [00:02<00:00,  2.01s/it]\n",
      "Running inference: 100%|██████████| 1/1 [00:02<00:00,  2.29s/it]\n"
     ]
    },
    {
     "name": "stdout",
     "output_type": "stream",
     "text": [
      "Epoch: 018, Average Loss: 0.5286\n",
      "Validation: {'precision': 0.7974290780106498, 'recall': 0.5641266854795731, 'f1': 0.6607897104795467, 'auc': 0.7925213322912217, 'prauc': 0.7920197067562295}\n",
      "Test:       {'precision': 0.8127984718203782, 'recall': 0.5337096268405968, 'f1': 0.6443308678226215, 'auc': 0.7973355943157332, 'prauc': 0.7944007097968481}\n"
     ]
    },
    {
     "name": "stderr",
     "output_type": "stream",
     "text": [
      "Training Batches: 100%|██████████| 1/1 [00:01<00:00,  1.30s/it]\n",
      "Running inference: 100%|██████████| 1/1 [00:02<00:00,  2.02s/it]\n",
      "Running inference: 100%|██████████| 1/1 [00:02<00:00,  2.31s/it]\n"
     ]
    },
    {
     "name": "stdout",
     "output_type": "stream",
     "text": [
      "Epoch: 019, Average Loss: 0.5291\n",
      "Validation: {'precision': 0.8097469540730565, 'recall': 0.5418626528675389, 'f1': 0.6492579324473985, 'auc': 0.7908636193242371, 'prauc': 0.7915284974847843}\n",
      "Test:       {'precision': 0.8226773226732135, 'recall': 0.516462841014373, 'f1': 0.6345598103235284, 'auc': 0.7969783772166259, 'prauc': 0.7944444743972603}\n"
     ]
    },
    {
     "name": "stderr",
     "output_type": "stream",
     "text": [
      "Training Batches: 100%|██████████| 1/1 [00:01<00:00,  1.02s/it]\n",
      "Running inference: 100%|██████████| 1/1 [00:02<00:00,  2.32s/it]\n",
      "Running inference: 100%|██████████| 1/1 [00:02<00:00,  2.04s/it]\n"
     ]
    },
    {
     "name": "stdout",
     "output_type": "stream",
     "text": [
      "Epoch: 020, Average Loss: 0.5191\n",
      "Validation: {'precision': 0.8181818181779643, 'recall': 0.5446848541845573, 'f1': 0.6539909590543171, 'auc': 0.7874514373694661, 'prauc': 0.7929321605186075}\n",
      "Test:       {'precision': 0.8309859154887778, 'recall': 0.5180307306349388, 'f1': 0.6382074513222565, 'auc': 0.7978073705408891, 'prauc': 0.7981826751715779}\n"
     ]
    },
    {
     "name": "stderr",
     "output_type": "stream",
     "text": [
      "Training Batches: 100%|██████████| 1/1 [00:01<00:00,  1.28s/it]\n",
      "Running inference: 100%|██████████| 1/1 [00:02<00:00,  2.04s/it]\n",
      "Running inference: 100%|██████████| 1/1 [00:02<00:00,  2.04s/it]\n"
     ]
    },
    {
     "name": "stdout",
     "output_type": "stream",
     "text": [
      "Epoch: 021, Average Loss: 0.5161\n",
      "Validation: {'precision': 0.7962478184956534, 'recall': 0.5722797115065152, 'f1': 0.6659368679649115, 'auc': 0.7791781445129038, 'prauc': 0.7904586278521756}\n",
      "Test:       {'precision': 0.8189087488202309, 'recall': 0.5459391658810099, 'f1': 0.6551269942568011, 'auc': 0.7932023554081119, 'prauc': 0.7989978890849718}\n"
     ]
    },
    {
     "name": "stderr",
     "output_type": "stream",
     "text": [
      "Training Batches: 100%|██████████| 1/1 [00:01<00:00,  1.01s/it]\n",
      "Running inference: 100%|██████████| 1/1 [00:02<00:00,  2.01s/it]\n",
      "Running inference: 100%|██████████| 1/1 [00:02<00:00,  2.33s/it]\n"
     ]
    },
    {
     "name": "stdout",
     "output_type": "stream",
     "text": [
      "Epoch: 022, Average Loss: 0.5133\n",
      "Validation: {'precision': 0.7917205692074527, 'recall': 0.57572906867176, 'f1': 0.6666666617889903, 'auc': 0.776956172134889, 'prauc': 0.7898210394376793}\n",
      "Test:       {'precision': 0.8176334106690597, 'recall': 0.5525243022873862, 'f1': 0.6594311329092711, 'auc': 0.7916990940467006, 'prauc': 0.8000333170994394}\n"
     ]
    },
    {
     "name": "stderr",
     "output_type": "stream",
     "text": [
      "Training Batches: 100%|██████████| 1/1 [00:01<00:00,  1.28s/it]\n",
      "Running inference: 100%|██████████| 1/1 [00:02<00:00,  2.02s/it]\n",
      "Running inference: 100%|██████████| 1/1 [00:02<00:00,  2.33s/it]\n"
     ]
    },
    {
     "name": "stdout",
     "output_type": "stream",
     "text": [
      "Epoch: 023, Average Loss: 0.5149\n",
      "Validation: {'precision': 0.7964486790784043, 'recall': 0.5766698024440995, 'f1': 0.668970529865565, 'auc': 0.7833367444100792, 'prauc': 0.7948481351341403}\n",
      "Test:       {'precision': 0.8199074074036116, 'recall': 0.5553465036044047, 'f1': 0.6621798418828777, 'auc': 0.797108036403226, 'prauc': 0.805090997636358}\n"
     ]
    },
    {
     "name": "stderr",
     "output_type": "stream",
     "text": [
      "Training Batches: 100%|██████████| 1/1 [00:01<00:00,  1.01s/it]\n",
      "Running inference: 100%|██████████| 1/1 [00:02<00:00,  2.34s/it]\n",
      "Running inference: 100%|██████████| 1/1 [00:02<00:00,  2.02s/it]\n"
     ]
    },
    {
     "name": "stdout",
     "output_type": "stream",
     "text": [
      "Epoch: 024, Average Loss: 0.5090\n",
      "Validation: {'precision': 0.8206470028505203, 'recall': 0.5409219190951994, 'f1': 0.6520506472592219, 'auc': 0.7948369460102409, 'prauc': 0.8003485881237202}\n",
      "Test:       {'precision': 0.8358722358681284, 'recall': 0.5333960489164836, 'f1': 0.6512251100960164, 'auc': 0.8039150430326558, 'prauc': 0.8080109696590829}\n"
     ]
    },
    {
     "name": "stderr",
     "output_type": "stream",
     "text": [
      "Training Batches: 100%|██████████| 1/1 [00:01<00:00,  1.27s/it]\n",
      "Running inference: 100%|██████████| 1/1 [00:02<00:00,  2.06s/it]\n",
      "Running inference: 100%|██████████| 1/1 [00:02<00:00,  2.33s/it]\n"
     ]
    },
    {
     "name": "stdout",
     "output_type": "stream",
     "text": [
      "Epoch: 025, Average Loss: 0.5063\n",
      "Validation: {'precision': 0.8272058823485966, 'recall': 0.4938852304782255, 'f1': 0.6184959701833307, 'auc': 0.7915205153408529, 'prauc': 0.7942283417372391}\n",
      "Test:       {'precision': 0.8304370721388603, 'recall': 0.49451238632645184, 'f1': 0.6198899324258886, 'auc': 0.7952398569118263, 'prauc': 0.7988314336429543}\n"
     ]
    },
    {
     "name": "stderr",
     "output_type": "stream",
     "text": [
      "Training Batches: 100%|██████████| 1/1 [00:00<00:00,  1.01it/s]\n",
      "Running inference: 100%|██████████| 1/1 [00:02<00:00,  2.28s/it]\n",
      "Running inference: 100%|██████████| 1/1 [00:02<00:00,  2.37s/it]\n"
     ]
    },
    {
     "name": "stdout",
     "output_type": "stream",
     "text": [
      "Epoch: 026, Average Loss: 0.4999\n",
      "Validation: {'precision': 0.8281086729319326, 'recall': 0.49702100971935714, 'f1': 0.6212032091055045, 'auc': 0.7889813479912173, 'prauc': 0.7927612570454454}\n",
      "Test:       {'precision': 0.8208877284552435, 'recall': 0.492944496705886, 'f1': 0.6159874561241545, 'auc': 0.7917974961079594, 'prauc': 0.7968444333950171}\n"
     ]
    },
    {
     "name": "stderr",
     "output_type": "stream",
     "text": [
      "Training Batches: 100%|██████████| 1/1 [00:01<00:00,  1.00s/it]\n",
      "Running inference: 100%|██████████| 1/1 [00:02<00:00,  2.03s/it]\n",
      "Running inference: 100%|██████████| 1/1 [00:02<00:00,  2.32s/it]\n"
     ]
    },
    {
     "name": "stdout",
     "output_type": "stream",
     "text": [
      "Epoch: 027, Average Loss: 0.5071\n",
      "Validation: {'precision': 0.8207461328443096, 'recall': 0.565694575100139, 'f1': 0.6697605297871049, 'auc': 0.8057837393418923, 'prauc': 0.8103445631942845}\n",
      "Test:       {'precision': 0.8230912476684215, 'recall': 0.5544057698320652, 'f1': 0.6625444958435455, 'auc': 0.809222814983488, 'prauc': 0.8141649334304821}\n",
      "\n",
      "Early stopping triggered after 27 epochs (no improvement for 10 epochs).\n",
      "\n",
      "Best validation performance:\n",
      "{'precision': 0.7833537331669386, 'recall': 0.6020696142972654, 'f1': 0.6808510589129829, 'auc': 0.7909337498564485, 'prauc': 0.793597581327606}\n",
      "Corresponding test performance:\n",
      "{'precision': 0.8086802480035046, 'recall': 0.5725932894306285, 'f1': 0.6704607992559617, 'auc': 0.8004427337753625, 'prauc': 0.7992934027508122}\n",
      "Corresponding test-long performance:\n",
      "{'precision': 0.8246268656408721, 'recall': 0.4814814814709917, 'f1': 0.6079779870752977, 'auc': 0.7843247566255758, 'prauc': 0.8048611860924848}\n",
      "[INFO] Random seed set to 2340505846\n",
      "Training with seed: 2340505846\n"
     ]
    },
    {
     "name": "stderr",
     "output_type": "stream",
     "text": [
      "Training Batches: 100%|██████████| 1/1 [00:01<00:00,  1.29s/it]\n",
      "Running inference: 100%|██████████| 1/1 [00:02<00:00,  2.03s/it]\n",
      "Running inference: 100%|██████████| 1/1 [00:02<00:00,  2.33s/it]\n"
     ]
    },
    {
     "name": "stdout",
     "output_type": "stream",
     "text": [
      "Epoch: 001, Average Loss: 0.6926\n",
      "Validation: {'precision': 0.5511977952076507, 'recall': 0.8153026026942136, 'f1': 0.6577283027995746, 'auc': 0.6752391697308585, 'prauc': 0.6985067636126319}\n",
      "Test:       {'precision': 0.5569647009077215, 'recall': 0.8262778300381741, 'f1': 0.6654040355918946, 'auc': 0.6837552038583675, 'prauc': 0.7061613619305472}\n"
     ]
    },
    {
     "name": "stderr",
     "output_type": "stream",
     "text": [
      "Training Batches: 100%|██████████| 1/1 [00:01<00:00,  1.00s/it]\n",
      "Running inference: 100%|██████████| 1/1 [00:02<00:00,  2.28s/it]\n",
      "Running inference: 100%|██████████| 1/1 [00:02<00:00,  2.35s/it]\n"
     ]
    },
    {
     "name": "stdout",
     "output_type": "stream",
     "text": [
      "Epoch: 002, Average Loss: 0.6845\n",
      "Validation: {'precision': 0.5697459584282454, 'recall': 0.7735967387871634, 'f1': 0.6562042775977661, 'auc': 0.6924235614876475, 'prauc': 0.7142202668914329}\n",
      "Test:       {'precision': 0.5899999999985952, 'recall': 0.7770460959524081, 'f1': 0.6707267510804218, 'auc': 0.7054044626718954, 'prauc': 0.7283766734859909}\n"
     ]
    },
    {
     "name": "stderr",
     "output_type": "stream",
     "text": [
      "Training Batches: 100%|██████████| 1/1 [00:01<00:00,  1.02s/it]\n",
      "Running inference: 100%|██████████| 1/1 [00:02<00:00,  2.04s/it]\n",
      "Running inference: 100%|██████████| 1/1 [00:02<00:00,  2.04s/it]\n"
     ]
    },
    {
     "name": "stdout",
     "output_type": "stream",
     "text": [
      "Epoch: 003, Average Loss: 0.6733\n",
      "Validation: {'precision': 0.7023301608116104, 'recall': 0.6710567576021604, 'f1': 0.6863373907669085, 'auc': 0.7464302504132225, 'prauc': 0.7487876816994294}\n",
      "Test:       {'precision': 0.7321094042685197, 'recall': 0.6127312637171128, 'f1': 0.6671218796393741, 'auc': 0.7557354811659461, 'prauc': 0.7594073113135141}\n"
     ]
    },
    {
     "name": "stderr",
     "output_type": "stream",
     "text": [
      "Training Batches: 100%|██████████| 1/1 [00:01<00:00,  1.30s/it]\n",
      "Running inference: 100%|██████████| 1/1 [00:02<00:00,  2.05s/it]\n",
      "Running inference: 100%|██████████| 1/1 [00:02<00:00,  2.06s/it]\n"
     ]
    },
    {
     "name": "stdout",
     "output_type": "stream",
     "text": [
      "Epoch: 004, Average Loss: 0.6612\n",
      "Validation: {'precision': 0.67129071169882, 'recall': 0.6980244590758921, 'f1': 0.6843966129859662, 'auc': 0.7384699828762943, 'prauc': 0.7508515897601864}\n",
      "Test:       {'precision': 0.71894736841853, 'recall': 0.642521166507863, 'f1': 0.6785891654059577, 'auc': 0.7563293162138914, 'prauc': 0.7702197301265689}\n"
     ]
    },
    {
     "name": "stderr",
     "output_type": "stream",
     "text": [
      "Training Batches: 100%|██████████| 1/1 [00:01<00:00,  1.02s/it]\n",
      "Running inference: 100%|██████████| 1/1 [00:02<00:00,  2.37s/it]\n",
      "Running inference: 100%|██████████| 1/1 [00:01<00:00,  1.72s/it]\n"
     ]
    },
    {
     "name": "stdout",
     "output_type": "stream",
     "text": [
      "Epoch: 005, Average Loss: 0.6430\n",
      "Validation: {'precision': 0.7388994307372339, 'recall': 0.6105362182483207, 'f1': 0.6686126324055839, 'auc': 0.7616053220433223, 'prauc': 0.7618289870766417}\n",
      "Test:       {'precision': 0.768886902097591, 'recall': 0.5393540294746336, 'f1': 0.6339845141342554, 'auc': 0.7658553404132484, 'prauc': 0.7687339439799274}\n"
     ]
    },
    {
     "name": "stderr",
     "output_type": "stream",
     "text": [
      "Training Batches: 100%|██████████| 1/1 [00:01<00:00,  1.30s/it]\n",
      "Running inference: 100%|██████████| 1/1 [00:02<00:00,  2.36s/it]\n",
      "Running inference: 100%|██████████| 1/1 [00:01<00:00,  1.74s/it]\n"
     ]
    },
    {
     "name": "stdout",
     "output_type": "stream",
     "text": [
      "Epoch: 006, Average Loss: 0.6245\n",
      "Validation: {'precision': 0.764627065650895, 'recall': 0.5368454060817284, 'f1': 0.6308032375974064, 'auc': 0.7667312812014304, 'prauc': 0.7614002425284141}\n",
      "Test:       {'precision': 0.7794192562364778, 'recall': 0.47977422389313334, 'f1': 0.5939440946597151, 'auc': 0.7609346333478797, 'prauc': 0.7586422887307909}\n"
     ]
    },
    {
     "name": "stderr",
     "output_type": "stream",
     "text": [
      "Training Batches: 100%|██████████| 1/1 [00:01<00:00,  1.28s/it]\n",
      "Running inference: 100%|██████████| 1/1 [00:02<00:00,  2.01s/it]\n",
      "Running inference: 100%|██████████| 1/1 [00:02<00:00,  2.37s/it]\n"
     ]
    },
    {
     "name": "stdout",
     "output_type": "stream",
     "text": [
      "Epoch: 007, Average Loss: 0.6088\n",
      "Validation: {'precision': 0.7345588235267112, 'recall': 0.6265286923780918, 'f1': 0.6762565528224064, 'auc': 0.7654723477220488, 'prauc': 0.7653024001108173}\n",
      "Test:       {'precision': 0.7706949977832196, 'recall': 0.5459391658810099, 'f1': 0.6391336221624441, 'auc': 0.7691540996412729, 'prauc': 0.772241307992226}\n"
     ]
    },
    {
     "name": "stderr",
     "output_type": "stream",
     "text": [
      "Training Batches: 100%|██████████| 1/1 [00:00<00:00,  1.43it/s]\n",
      "Running inference: 100%|██████████| 1/1 [00:02<00:00,  2.31s/it]\n",
      "Running inference: 100%|██████████| 1/1 [00:02<00:00,  2.36s/it]\n"
     ]
    },
    {
     "name": "stdout",
     "output_type": "stream",
     "text": [
      "Epoch: 008, Average Loss: 0.6032\n",
      "Validation: {'precision': 0.7608797379468373, 'recall': 0.5098777046079966, 'f1': 0.6105895558386693, 'auc': 0.7654700368305862, 'prauc': 0.7569165233808102}\n",
      "Test:       {'precision': 0.769953051639176, 'recall': 0.4628410159910228, 'f1': 0.5781433560600925, 'auc': 0.7497094496682265, 'prauc': 0.7454097705705176}\n"
     ]
    },
    {
     "name": "stderr",
     "output_type": "stream",
     "text": [
      "Training Batches: 100%|██████████| 1/1 [00:01<00:00,  1.01s/it]\n",
      "Running inference: 100%|██████████| 1/1 [00:02<00:00,  2.33s/it]\n",
      "Running inference: 100%|██████████| 1/1 [00:02<00:00,  2.40s/it]\n"
     ]
    },
    {
     "name": "stdout",
     "output_type": "stream",
     "text": [
      "Epoch: 009, Average Loss: 0.5775\n",
      "Validation: {'precision': 0.7763371150687395, 'recall': 0.4506114769506096, 'f1': 0.5702380905882205, 'auc': 0.7615965808451814, 'prauc': 0.751792201643407}\n",
      "Test:       {'precision': 0.7767387492648935, 'recall': 0.4167450611463884, 'f1': 0.5424489750445339, 'auc': 0.7448662562470207, 'prauc': 0.7388756418280509}\n"
     ]
    },
    {
     "name": "stderr",
     "output_type": "stream",
     "text": [
      "Training Batches: 100%|██████████| 1/1 [00:00<00:00,  1.41it/s]\n",
      "Running inference: 100%|██████████| 1/1 [00:02<00:00,  2.34s/it]\n",
      "Running inference: 100%|██████████| 1/1 [00:02<00:00,  2.07s/it]\n"
     ]
    },
    {
     "name": "stdout",
     "output_type": "stream",
     "text": [
      "Epoch: 010, Average Loss: 0.5755\n",
      "Validation: {'precision': 0.7937100213177308, 'recall': 0.46691752900449385, 'f1': 0.5879565599931069, 'auc': 0.7710384814670022, 'prauc': 0.7634174023338708}\n",
      "Test:       {'precision': 0.7991730655593671, 'recall': 0.42427093132510424, 'f1': 0.554281027831017, 'auc': 0.7604592834417265, 'prauc': 0.7560117600301515}\n"
     ]
    },
    {
     "name": "stderr",
     "output_type": "stream",
     "text": [
      "Training Batches: 100%|██████████| 1/1 [00:01<00:00,  1.01s/it]\n",
      "Running inference: 100%|██████████| 1/1 [00:02<00:00,  2.03s/it]\n",
      "Running inference: 100%|██████████| 1/1 [00:02<00:00,  2.32s/it]\n"
     ]
    },
    {
     "name": "stdout",
     "output_type": "stream",
     "text": [
      "Epoch: 011, Average Loss: 0.5715\n",
      "Validation: {'precision': 0.7822762033253159, 'recall': 0.5453120100327836, 'f1': 0.6426459670711872, 'auc': 0.7752707284703536, 'prauc': 0.7717797935880663}\n",
      "Test:       {'precision': 0.8036809815909832, 'recall': 0.492944496705886, 'f1': 0.6110787124859517, 'auc': 0.7754180074262098, 'prauc': 0.7747812613209866}\n"
     ]
    },
    {
     "name": "stderr",
     "output_type": "stream",
     "text": [
      "Training Batches: 100%|██████████| 1/1 [00:01<00:00,  1.29s/it]\n",
      "Running inference: 100%|██████████| 1/1 [00:02<00:00,  2.04s/it]\n",
      "Running inference: 100%|██████████| 1/1 [00:02<00:00,  2.34s/it]\n"
     ]
    },
    {
     "name": "stdout",
     "output_type": "stream",
     "text": [
      "Epoch: 012, Average Loss: 0.5546\n",
      "Validation: {'precision': 0.7642799678167165, 'recall': 0.5957980558150022, 'f1': 0.6696035193034423, 'auc': 0.7757662639787584, 'prauc': 0.7734587959060748}\n",
      "Test:       {'precision': 0.7973977695130233, 'recall': 0.538099717778181, 'f1': 0.6425762917597566, 'auc': 0.7815479273405219, 'prauc': 0.7825536871861942}\n"
     ]
    },
    {
     "name": "stderr",
     "output_type": "stream",
     "text": [
      "Training Batches: 100%|██████████| 1/1 [00:00<00:00,  1.00it/s]\n",
      "Running inference: 100%|██████████| 1/1 [00:02<00:00,  2.38s/it]\n",
      "Running inference: 100%|██████████| 1/1 [00:02<00:00,  2.05s/it]\n"
     ]
    },
    {
     "name": "stdout",
     "output_type": "stream",
     "text": [
      "Epoch: 013, Average Loss: 0.5602\n",
      "Validation: {'precision': 0.7848837209267224, 'recall': 0.5503292568185941, 'f1': 0.6470046034468423, 'auc': 0.7826507110663268, 'prauc': 0.7766745089489575}\n",
      "Test:       {'precision': 0.804282868521891, 'recall': 0.5064283474427519, 'f1': 0.6215124062621629, 'auc': 0.7827986150224463, 'prauc': 0.7804799888040781}\n",
      "\n",
      "Early stopping triggered after 13 epochs (no improvement for 10 epochs).\n",
      "\n",
      "Best validation performance:\n",
      "{'precision': 0.7023301608116104, 'recall': 0.6710567576021604, 'f1': 0.6863373907669085, 'auc': 0.7464302504132225, 'prauc': 0.7487876816994294}\n",
      "Corresponding test performance:\n",
      "{'precision': 0.7321094042685197, 'recall': 0.6127312637171128, 'f1': 0.6671218796393741, 'auc': 0.7557354811659461, 'prauc': 0.7594073113135141}\n",
      "Corresponding test-long performance:\n",
      "{'precision': 0.781456953616508, 'recall': 0.5141612200323712, 'f1': 0.6202365260769339, 'auc': 0.7539891343316512, 'prauc': 0.7779802090216292}\n",
      "[INFO] Random seed set to 946785248\n",
      "Training with seed: 946785248\n"
     ]
    },
    {
     "name": "stderr",
     "output_type": "stream",
     "text": [
      "Training Batches: 100%|██████████| 1/1 [00:01<00:00,  1.30s/it]\n",
      "Running inference: 100%|██████████| 1/1 [00:02<00:00,  2.06s/it]\n",
      "Running inference: 100%|██████████| 1/1 [00:02<00:00,  2.36s/it]\n"
     ]
    },
    {
     "name": "stdout",
     "output_type": "stream",
     "text": [
      "Epoch: 001, Average Loss: 0.6932\n",
      "Validation: {'precision': 0.5611702127646007, 'recall': 0.7278143618666422, 'f1': 0.633720131600612, 'auc': 0.604407030776754, 'prauc': 0.5827189625313787}\n",
      "Test:       {'precision': 0.566840926062816, 'recall': 0.7140169332056632, 'f1': 0.6319733506013135, 'auc': 0.6116729508085328, 'prauc': 0.5940104261184715}\n"
     ]
    },
    {
     "name": "stderr",
     "output_type": "stream",
     "text": [
      "Training Batches: 100%|██████████| 1/1 [00:01<00:00,  1.00s/it]\n",
      "Running inference: 100%|██████████| 1/1 [00:02<00:00,  2.34s/it]\n",
      "Running inference: 100%|██████████| 1/1 [00:02<00:00,  2.39s/it]\n"
     ]
    },
    {
     "name": "stdout",
     "output_type": "stream",
     "text": [
      "Epoch: 002, Average Loss: 0.6844\n",
      "Validation: {'precision': 0.5703067484648582, 'recall': 0.7287550956389817, 'f1': 0.6398678364823152, 'auc': 0.6449447892863857, 'prauc': 0.6274127180350566}\n",
      "Test:       {'precision': 0.586057201224244, 'recall': 0.7196613358397, 'f1': 0.6460239218626349, 'auc': 0.6541087516427606, 'prauc': 0.6395430085397418}\n"
     ]
    },
    {
     "name": "stderr",
     "output_type": "stream",
     "text": [
      "Training Batches: 100%|██████████| 1/1 [00:00<00:00,  1.39it/s]\n",
      "Running inference: 100%|██████████| 1/1 [00:02<00:00,  2.35s/it]\n",
      "Running inference: 100%|██████████| 1/1 [00:02<00:00,  2.40s/it]\n"
     ]
    },
    {
     "name": "stdout",
     "output_type": "stream",
     "text": [
      "Epoch: 003, Average Loss: 0.6741\n",
      "Validation: {'precision': 0.6517397881977255, 'recall': 0.6754468485397446, 'f1': 0.6633815779992444, 'auc': 0.7012069585161826, 'prauc': 0.6767822594469184}\n",
      "Test:       {'precision': 0.6718172657014719, 'recall': 0.6271558482263181, 'f1': 0.6487187754124993, 'auc': 0.7099179714377322, 'prauc': 0.6875235666215026}\n"
     ]
    },
    {
     "name": "stderr",
     "output_type": "stream",
     "text": [
      "Training Batches: 100%|██████████| 1/1 [00:00<00:00,  1.39it/s]\n",
      "Running inference: 100%|██████████| 1/1 [00:02<00:00,  2.38s/it]\n",
      "Running inference: 100%|██████████| 1/1 [00:02<00:00,  2.08s/it]\n"
     ]
    },
    {
     "name": "stdout",
     "output_type": "stream",
     "text": [
      "Epoch: 004, Average Loss: 0.6621\n",
      "Validation: {'precision': 0.5791718946033145, 'recall': 0.7237378488531712, 'f1': 0.6434346200946108, 'auc': 0.6478057733905671, 'prauc': 0.6218189074284014}\n",
      "Test:       {'precision': 0.5995751460419555, 'recall': 0.7080589526475132, 'f1': 0.6493170331346311, 'auc': 0.6625339814279322, 'prauc': 0.6401565490020047}\n"
     ]
    },
    {
     "name": "stderr",
     "output_type": "stream",
     "text": [
      "Training Batches: 100%|██████████| 1/1 [00:00<00:00,  1.41it/s]\n",
      "Running inference: 100%|██████████| 1/1 [00:02<00:00,  2.35s/it]\n",
      "Running inference: 100%|██████████| 1/1 [00:02<00:00,  2.39s/it]\n"
     ]
    },
    {
     "name": "stdout",
     "output_type": "stream",
     "text": [
      "Epoch: 005, Average Loss: 0.6539\n",
      "Validation: {'precision': 0.6595004742312378, 'recall': 0.6541235497000498, 'f1': 0.656801002554691, 'auc': 0.7010775485942796, 'prauc': 0.6729791301166121}\n",
      "Test:       {'precision': 0.6839672947007325, 'recall': 0.6033239259937181, 'f1': 0.641119621808556, 'auc': 0.710260642145175, 'prauc': 0.6866386577946741}\n"
     ]
    },
    {
     "name": "stderr",
     "output_type": "stream",
     "text": [
      "Training Batches: 100%|██████████| 1/1 [00:01<00:00,  1.01s/it]\n",
      "Running inference: 100%|██████████| 1/1 [00:02<00:00,  2.33s/it]\n",
      "Running inference: 100%|██████████| 1/1 [00:02<00:00,  2.35s/it]\n"
     ]
    },
    {
     "name": "stdout",
     "output_type": "stream",
     "text": [
      "Epoch: 006, Average Loss: 0.6354\n",
      "Validation: {'precision': 0.7016038791469541, 'recall': 0.5898400752568522, 'f1': 0.6408858553419079, 'auc': 0.7258129289152705, 'prauc': 0.6981188180536424}\n",
      "Test:       {'precision': 0.7209205020890338, 'recall': 0.5402947632469731, 'f1': 0.6176734132756396, 'auc': 0.7251961120364092, 'prauc': 0.7037515690603428}\n"
     ]
    },
    {
     "name": "stderr",
     "output_type": "stream",
     "text": [
      "Training Batches: 100%|██████████| 1/1 [00:00<00:00,  1.43it/s]\n",
      "Running inference: 100%|██████████| 1/1 [00:02<00:00,  2.33s/it]\n",
      "Running inference: 100%|██████████| 1/1 [00:02<00:00,  2.36s/it]\n"
     ]
    },
    {
     "name": "stdout",
     "output_type": "stream",
     "text": [
      "Epoch: 007, Average Loss: 0.6282\n",
      "Validation: {'precision': 0.6696762141946773, 'recall': 0.6745061147674052, 'f1': 0.6720824821093536, 'auc': 0.716509631544432, 'prauc': 0.689097047648731}\n",
      "Test:       {'precision': 0.6926605504562715, 'recall': 0.6155534650341312, 'f1': 0.651834628918576, 'auc': 0.7264534940785112, 'prauc': 0.7052724968046888}\n"
     ]
    },
    {
     "name": "stderr",
     "output_type": "stream",
     "text": [
      "Training Batches: 100%|██████████| 1/1 [00:00<00:00,  1.42it/s]\n",
      "Running inference: 100%|██████████| 1/1 [00:02<00:00,  2.37s/it]\n",
      "Running inference: 100%|██████████| 1/1 [00:02<00:00,  2.06s/it]\n"
     ]
    },
    {
     "name": "stdout",
     "output_type": "stream",
     "text": [
      "Epoch: 008, Average Loss: 0.6107\n",
      "Validation: {'precision': 0.6481320590771847, 'recall': 0.7017873941652499, 'f1': 0.6738934006065928, 'auc': 0.7077310572459057, 'prauc': 0.6821338106832873}\n",
      "Test:       {'precision': 0.6842278564350207, 'recall': 0.6516149263071446, 'f1': 0.6675232844322526, 'auc': 0.72516097922886, 'prauc': 0.7061210297638826}\n"
     ]
    },
    {
     "name": "stderr",
     "output_type": "stream",
     "text": [
      "Training Batches: 100%|██████████| 1/1 [00:00<00:00,  1.41it/s]\n",
      "Running inference: 100%|██████████| 1/1 [00:02<00:00,  2.32s/it]\n",
      "Running inference: 100%|██████████| 1/1 [00:02<00:00,  2.35s/it]\n"
     ]
    },
    {
     "name": "stdout",
     "output_type": "stream",
     "text": [
      "Epoch: 009, Average Loss: 0.6036\n",
      "Validation: {'precision': 0.7070671378066888, 'recall': 0.6274694261504313, 'f1': 0.6648944957632107, 'auc': 0.7406050456406087, 'prauc': 0.7245181793534285}\n",
      "Test:       {'precision': 0.7333333333303883, 'recall': 0.5725932894306285, 'f1': 0.6430709582712311, 'auc': 0.7486842562238675, 'prauc': 0.7506643211952742}\n"
     ]
    },
    {
     "name": "stderr",
     "output_type": "stream",
     "text": [
      "Training Batches: 100%|██████████| 1/1 [00:01<00:00,  1.01s/it]\n",
      "Running inference: 100%|██████████| 1/1 [00:02<00:00,  2.33s/it]\n",
      "Running inference: 100%|██████████| 1/1 [00:02<00:00,  2.36s/it]\n"
     ]
    },
    {
     "name": "stdout",
     "output_type": "stream",
     "text": [
      "Epoch: 010, Average Loss: 0.5803\n",
      "Validation: {'precision': 0.7405405405374614, 'recall': 0.5584822828455362, 'f1': 0.6367536597366203, 'auc': 0.7599182708021175, 'prauc': 0.757196885742794}\n",
      "Test:       {'precision': 0.7774647887287444, 'recall': 0.5192850423313914, 'f1': 0.6226734300520339, 'auc': 0.7609734908370316, 'prauc': 0.7675193425749921}\n"
     ]
    },
    {
     "name": "stderr",
     "output_type": "stream",
     "text": [
      "Training Batches: 100%|██████████| 1/1 [00:00<00:00,  1.40it/s]\n",
      "Running inference: 100%|██████████| 1/1 [00:02<00:00,  2.34s/it]\n",
      "Running inference: 100%|██████████| 1/1 [00:02<00:00,  2.39s/it]\n"
     ]
    },
    {
     "name": "stdout",
     "output_type": "stream",
     "text": [
      "Epoch: 011, Average Loss: 0.5738\n",
      "Validation: {'precision': 0.7378984651682885, 'recall': 0.5879586077121732, 'f1': 0.6544502568417662, 'auc': 0.767504324632425, 'prauc': 0.7658992598601438}\n",
      "Test:       {'precision': 0.7796304641695375, 'recall': 0.5424898087157651, 'f1': 0.639792894566775, 'auc': 0.7721012287925941, 'prauc': 0.778606483639456}\n"
     ]
    },
    {
     "name": "stderr",
     "output_type": "stream",
     "text": [
      "Training Batches: 100%|██████████| 1/1 [00:00<00:00,  1.42it/s]\n",
      "Running inference: 100%|██████████| 1/1 [00:02<00:00,  2.37s/it]\n",
      "Running inference: 100%|██████████| 1/1 [00:02<00:00,  2.10s/it]\n"
     ]
    },
    {
     "name": "stdout",
     "output_type": "stream",
     "text": [
      "Epoch: 012, Average Loss: 0.5649\n",
      "Validation: {'precision': 0.7371078254571327, 'recall': 0.6409532768872971, 'f1': 0.6856759426906104, 'auc': 0.7708443665841478, 'prauc': 0.7710393331669776}\n",
      "Test:       {'precision': 0.7695167286213569, 'recall': 0.5841956726228154, 'f1': 0.6641711180859905, 'auc': 0.7805042111552201, 'prauc': 0.7878275812950701}\n"
     ]
    },
    {
     "name": "stderr",
     "output_type": "stream",
     "text": [
      "Training Batches: 100%|██████████| 1/1 [00:00<00:00,  1.39it/s]\n",
      "Running inference: 100%|██████████| 1/1 [00:02<00:00,  2.33s/it]\n",
      "Running inference: 100%|██████████| 1/1 [00:02<00:00,  2.34s/it]\n"
     ]
    },
    {
     "name": "stdout",
     "output_type": "stream",
     "text": [
      "Epoch: 013, Average Loss: 0.5506\n",
      "Validation: {'precision': 0.7565084226617286, 'recall': 0.6196299780476023, 'f1': 0.6812618464520486, 'auc': 0.7841378199592499, 'prauc': 0.7827152796623738}\n",
      "Test:       {'precision': 0.7847826086922401, 'recall': 0.5660081530242521, 'f1': 0.6576789894811005, 'auc': 0.7877455961931741, 'prauc': 0.7917428982893403}\n"
     ]
    },
    {
     "name": "stderr",
     "output_type": "stream",
     "text": [
      "Training Batches: 100%|██████████| 1/1 [00:01<00:00,  1.00s/it]\n",
      "Running inference: 100%|██████████| 1/1 [00:02<00:00,  2.32s/it]\n",
      "Running inference: 100%|██████████| 1/1 [00:02<00:00,  2.37s/it]\n"
     ]
    },
    {
     "name": "stdout",
     "output_type": "stream",
     "text": [
      "Epoch: 014, Average Loss: 0.5468\n",
      "Validation: {'precision': 0.7689010132471984, 'recall': 0.6186892442752628, 'f1': 0.6856646345001733, 'auc': 0.7926974624100851, 'prauc': 0.7897047794992367}\n",
      "Test:       {'precision': 0.7926247288468867, 'recall': 0.5729068673547416, 'f1': 0.6650891833323423, 'auc': 0.7938246289034286, 'prauc': 0.7963841330074808}\n"
     ]
    },
    {
     "name": "stderr",
     "output_type": "stream",
     "text": [
      "Training Batches: 100%|██████████| 1/1 [00:00<00:00,  1.40it/s]\n",
      "Running inference: 100%|██████████| 1/1 [00:02<00:00,  2.32s/it]\n",
      "Running inference: 100%|██████████| 1/1 [00:02<00:00,  2.41s/it]\n"
     ]
    },
    {
     "name": "stdout",
     "output_type": "stream",
     "text": [
      "Epoch: 015, Average Loss: 0.5385\n",
      "Validation: {'precision': 0.7902888237723303, 'recall': 0.5920351207256443, 'f1': 0.6769451367282439, 'auc': 0.7996156686077149, 'prauc': 0.7950468840323357}\n",
      "Test:       {'precision': 0.8079409048900834, 'recall': 0.5487613671980284, 'f1': 0.6535947664218636, 'auc': 0.7970776349479829, 'prauc': 0.7976373496878157}\n"
     ]
    },
    {
     "name": "stderr",
     "output_type": "stream",
     "text": [
      "Training Batches: 100%|██████████| 1/1 [00:00<00:00,  1.41it/s]\n",
      "Running inference: 100%|██████████| 1/1 [00:02<00:00,  2.36s/it]\n",
      "Running inference: 100%|██████████| 1/1 [00:02<00:00,  2.08s/it]\n"
     ]
    },
    {
     "name": "stdout",
     "output_type": "stream",
     "text": [
      "Epoch: 016, Average Loss: 0.5280\n",
      "Validation: {'precision': 0.7870597870565641, 'recall': 0.6026967701454917, 'f1': 0.6826496132706139, 'auc': 0.8028770397761691, 'prauc': 0.7990670284459601}\n",
      "Test:       {'precision': 0.8093315388030089, 'recall': 0.565694575100139, 'f1': 0.6659283820131378, 'auc': 0.8027244535917256, 'prauc': 0.8030993042446206}\n"
     ]
    },
    {
     "name": "stderr",
     "output_type": "stream",
     "text": [
      "Training Batches: 100%|██████████| 1/1 [00:00<00:00,  1.42it/s]\n",
      "Running inference: 100%|██████████| 1/1 [00:02<00:00,  2.31s/it]\n",
      "Running inference: 100%|██████████| 1/1 [00:02<00:00,  2.38s/it]\n"
     ]
    },
    {
     "name": "stdout",
     "output_type": "stream",
     "text": [
      "Epoch: 017, Average Loss: 0.5260\n",
      "Validation: {'precision': 0.7272414977645921, 'recall': 0.6638444653475577, 'f1': 0.6940983556638468, 'auc': 0.7792271756013267, 'prauc': 0.7781479112947489}\n",
      "Test:       {'precision': 0.7704606014435841, 'recall': 0.634681718405034, 'f1': 0.6960109991708409, 'auc': 0.7924294336420288, 'prauc': 0.7983735483357396}\n"
     ]
    },
    {
     "name": "stderr",
     "output_type": "stream",
     "text": [
      "Training Batches: 100%|██████████| 1/1 [00:00<00:00,  1.00it/s]\n",
      "Running inference: 100%|██████████| 1/1 [00:02<00:00,  2.33s/it]\n",
      "Running inference: 100%|██████████| 1/1 [00:02<00:00,  2.40s/it]\n"
     ]
    },
    {
     "name": "stdout",
     "output_type": "stream",
     "text": [
      "Epoch: 018, Average Loss: 0.5294\n",
      "Validation: {'precision': 0.7511045655347898, 'recall': 0.6396989651908445, 'f1': 0.6909398764861342, 'auc': 0.7911950815388005, 'prauc': 0.7883335620126892}\n",
      "Test:       {'precision': 0.7870630775380191, 'recall': 0.6142991533376786, 'f1': 0.6900316963768387, 'auc': 0.8006190018155306, 'prauc': 0.8021050803410169}\n"
     ]
    },
    {
     "name": "stderr",
     "output_type": "stream",
     "text": [
      "Training Batches: 100%|██████████| 1/1 [00:00<00:00,  1.42it/s]\n",
      "Running inference: 100%|██████████| 1/1 [00:02<00:00,  2.34s/it]\n",
      "Running inference: 100%|██████████| 1/1 [00:02<00:00,  2.42s/it]\n"
     ]
    },
    {
     "name": "stdout",
     "output_type": "stream",
     "text": [
      "Epoch: 019, Average Loss: 0.5240\n",
      "Validation: {'precision': 0.7954739538821713, 'recall': 0.5841956726228154, 'f1': 0.6736575615584997, 'auc': 0.8084803487316069, 'prauc': 0.8026559147637923}\n",
      "Test:       {'precision': 0.8173076923039501, 'recall': 0.5597365945419889, 'f1': 0.6644332726710627, 'auc': 0.8073277573843072, 'prauc': 0.8040919752577455}\n"
     ]
    },
    {
     "name": "stderr",
     "output_type": "stream",
     "text": [
      "Training Batches: 100%|██████████| 1/1 [00:00<00:00,  1.39it/s]\n",
      "Running inference: 100%|██████████| 1/1 [00:02<00:00,  2.37s/it]\n",
      "Running inference: 100%|██████████| 1/1 [00:02<00:00,  2.07s/it]\n"
     ]
    },
    {
     "name": "stdout",
     "output_type": "stream",
     "text": [
      "Epoch: 020, Average Loss: 0.5155\n",
      "Validation: {'precision': 0.8133159268894112, 'recall': 0.5860771401674942, 'f1': 0.6812465779615082, 'auc': 0.8140189527260934, 'prauc': 0.8100206672659759}\n",
      "Test:       {'precision': 0.8206672845189034, 'recall': 0.5553465036044047, 'f1': 0.6624275246391866, 'auc': 0.8103002546373543, 'prauc': 0.8076628696351354}\n"
     ]
    },
    {
     "name": "stderr",
     "output_type": "stream",
     "text": [
      "Training Batches: 100%|██████████| 1/1 [00:00<00:00,  1.41it/s]\n",
      "Running inference: 100%|██████████| 1/1 [00:02<00:00,  2.32s/it]\n",
      "Running inference: 100%|██████████| 1/1 [00:02<00:00,  2.35s/it]\n"
     ]
    },
    {
     "name": "stdout",
     "output_type": "stream",
     "text": [
      "Epoch: 021, Average Loss: 0.5081\n",
      "Validation: {'precision': 0.7918660287049767, 'recall': 0.6227657572887338, 'f1': 0.6972090524676282, 'auc': 0.8077782396211586, 'prauc': 0.8113326878258704}\n",
      "Test:       {'precision': 0.802614930405725, 'recall': 0.5967387895873417, 'f1': 0.6845323692064821, 'auc': 0.8081232285741465, 'prauc': 0.8110284788977045}\n"
     ]
    },
    {
     "name": "stderr",
     "output_type": "stream",
     "text": [
      "Training Batches: 100%|██████████| 1/1 [00:01<00:00,  1.00s/it]\n",
      "Running inference: 100%|██████████| 1/1 [00:02<00:00,  2.30s/it]\n",
      "Running inference: 100%|██████████| 1/1 [00:02<00:00,  2.34s/it]\n"
     ]
    },
    {
     "name": "stdout",
     "output_type": "stream",
     "text": [
      "Epoch: 022, Average Loss: 0.5117\n",
      "Validation: {'precision': 0.7932270916303059, 'recall': 0.6243336469092997, 'f1': 0.6987190685901946, 'auc': 0.8082217298348848, 'prauc': 0.8133157737278365}\n",
      "Test:       {'precision': 0.8059196617302076, 'recall': 0.5976795233596812, 'f1': 0.6863521737175952, 'auc': 0.8089598725957559, 'prauc': 0.8129625245132371}\n"
     ]
    },
    {
     "name": "stderr",
     "output_type": "stream",
     "text": [
      "Training Batches: 100%|██████████| 1/1 [00:00<00:00,  1.40it/s]\n",
      "Running inference: 100%|██████████| 1/1 [00:02<00:00,  2.36s/it]\n",
      "Running inference: 100%|██████████| 1/1 [00:02<00:00,  2.40s/it]\n"
     ]
    },
    {
     "name": "stdout",
     "output_type": "stream",
     "text": [
      "Epoch: 023, Average Loss: 0.5035\n",
      "Validation: {'precision': 0.7984806077537047, 'recall': 0.6262151144539787, 'f1': 0.7019332112393508, 'auc': 0.8135123148913143, 'prauc': 0.816988692025364}\n",
      "Test:       {'precision': 0.8054031236774782, 'recall': 0.5983066792079075, 'f1': 0.686577900827845, 'auc': 0.8126677427976488, 'prauc': 0.8158069875662479}\n"
     ]
    },
    {
     "name": "stderr",
     "output_type": "stream",
     "text": [
      "Training Batches: 100%|██████████| 1/1 [00:00<00:00,  1.42it/s]\n",
      "Running inference: 100%|██████████| 1/1 [00:02<00:00,  2.38s/it]\n",
      "Running inference: 100%|██████████| 1/1 [00:02<00:00,  2.07s/it]\n"
     ]
    },
    {
     "name": "stdout",
     "output_type": "stream",
     "text": [
      "Epoch: 024, Average Loss: 0.4969\n",
      "Validation: {'precision': 0.7936570086108314, 'recall': 0.6356224521773735, 'f1': 0.7059028332965245, 'auc': 0.8164823630251741, 'prauc': 0.81883837069733}\n",
      "Test:       {'precision': 0.8043207311973232, 'recall': 0.607086861083076, 'f1': 0.6919227970965969, 'auc': 0.8151122412667542, 'prauc': 0.8179333993172706}\n"
     ]
    },
    {
     "name": "stderr",
     "output_type": "stream",
     "text": [
      "Training Batches: 100%|██████████| 1/1 [00:00<00:00,  1.40it/s]\n",
      "Running inference: 100%|██████████| 1/1 [00:02<00:00,  2.35s/it]\n",
      "Running inference: 100%|██████████| 1/1 [00:02<00:00,  2.35s/it]\n"
     ]
    },
    {
     "name": "stdout",
     "output_type": "stream",
     "text": [
      "Epoch: 025, Average Loss: 0.4889\n",
      "Validation: {'precision': 0.789331271740281, 'recall': 0.6403261210390708, 'f1': 0.7070637069632227, 'auc': 0.8174201830648027, 'prauc': 0.8193396734489495}\n",
      "Test:       {'precision': 0.8013163307247992, 'recall': 0.6108497961724338, 'f1': 0.693238429252191, 'auc': 0.81621459602053, 'prauc': 0.8191825565076198}\n"
     ]
    },
    {
     "name": "stderr",
     "output_type": "stream",
     "text": [
      "Training Batches: 100%|██████████| 1/1 [00:01<00:00,  1.02s/it]\n",
      "Running inference: 100%|██████████| 1/1 [00:02<00:00,  2.31s/it]\n",
      "Running inference: 100%|██████████| 1/1 [00:02<00:00,  2.37s/it]\n"
     ]
    },
    {
     "name": "stdout",
     "output_type": "stream",
     "text": [
      "Epoch: 026, Average Loss: 0.4938\n",
      "Validation: {'precision': 0.7724087052719573, 'recall': 0.6566321730929551, 'f1': 0.7098305035049889, 'auc': 0.8124875350012142, 'prauc': 0.8162788098128383}\n",
      "Test:       {'precision': 0.7958697378840514, 'recall': 0.6284101599227707, 'f1': 0.7022954217356612, 'auc': 0.8156473874126902, 'prauc': 0.8205577250074456}\n"
     ]
    },
    {
     "name": "stderr",
     "output_type": "stream",
     "text": [
      "Training Batches: 100%|██████████| 1/1 [00:00<00:00,  1.43it/s]\n",
      "Running inference: 100%|██████████| 1/1 [00:02<00:00,  2.31s/it]\n",
      "Running inference: 100%|██████████| 1/1 [00:02<00:00,  2.37s/it]\n"
     ]
    },
    {
     "name": "stdout",
     "output_type": "stream",
     "text": [
      "Epoch: 027, Average Loss: 0.4989\n",
      "Validation: {'precision': 0.7879369957710798, 'recall': 0.6431483223560892, 'f1': 0.7082182270929344, 'auc': 0.8158801246153246, 'prauc': 0.8192735555462957}\n",
      "Test:       {'precision': 0.8023064250378819, 'recall': 0.6108497961724338, 'f1': 0.6936086830010033, 'auc': 0.819162832509625, 'prauc': 0.8247175222095386}\n"
     ]
    },
    {
     "name": "stderr",
     "output_type": "stream",
     "text": [
      "Training Batches: 100%|██████████| 1/1 [00:00<00:00,  1.41it/s]\n",
      "Running inference: 100%|██████████| 1/1 [00:02<00:00,  2.37s/it]\n",
      "Running inference: 100%|██████████| 1/1 [00:02<00:00,  2.08s/it]\n"
     ]
    },
    {
     "name": "stdout",
     "output_type": "stream",
     "text": [
      "Epoch: 028, Average Loss: 0.4916\n",
      "Validation: {'precision': 0.8088356729941832, 'recall': 0.6142991533376786, 'f1': 0.6982712479870369, 'auc': 0.8186248608315854, 'prauc': 0.8212863143730794}\n",
      "Test:       {'precision': 0.8168831168795806, 'recall': 0.5917215428015311, 'f1': 0.6863065963254779, 'auc': 0.821557651779517, 'prauc': 0.8280991746494504}\n"
     ]
    },
    {
     "name": "stderr",
     "output_type": "stream",
     "text": [
      "Training Batches: 100%|██████████| 1/1 [00:00<00:00,  1.40it/s]\n",
      "Running inference: 100%|██████████| 1/1 [00:02<00:00,  2.33s/it]\n",
      "Running inference: 100%|██████████| 1/1 [00:02<00:00,  2.37s/it]\n"
     ]
    },
    {
     "name": "stdout",
     "output_type": "stream",
     "text": [
      "Epoch: 029, Average Loss: 0.4854\n",
      "Validation: {'precision': 0.7860429447822621, 'recall': 0.6428347444319761, 'f1': 0.7072623721393836, 'auc': 0.8115290174119643, 'prauc': 0.8182276175669851}\n",
      "Test:       {'precision': 0.8040322580612741, 'recall': 0.6252743806816392, 'f1': 0.7034750347652656, 'auc': 0.8188262521599379, 'prauc': 0.8290153796184612}\n"
     ]
    },
    {
     "name": "stderr",
     "output_type": "stream",
     "text": [
      "Training Batches: 100%|██████████| 1/1 [00:01<00:00,  1.03s/it]\n",
      "Running inference: 100%|██████████| 1/1 [00:02<00:00,  2.36s/it]\n",
      "Running inference: 100%|██████████| 1/1 [00:02<00:00,  2.40s/it]\n"
     ]
    },
    {
     "name": "stdout",
     "output_type": "stream",
     "text": [
      "Epoch: 030, Average Loss: 0.4885\n",
      "Validation: {'precision': 0.7551091097999477, 'recall': 0.6835998745666868, 'f1': 0.7175773485320445, 'auc': 0.8050157195879901, 'prauc': 0.8159784954814446}\n",
      "Test:       {'precision': 0.7747781065060104, 'recall': 0.6569457510170682, 'f1': 0.7110130613813609, 'auc': 0.8154300472078226, 'prauc': 0.8290787958216225}\n"
     ]
    },
    {
     "name": "stderr",
     "output_type": "stream",
     "text": [
      "Training Batches: 100%|██████████| 1/1 [00:00<00:00,  1.41it/s]\n",
      "Running inference: 100%|██████████| 1/1 [00:02<00:00,  2.36s/it]\n",
      "Running inference: 100%|██████████| 1/1 [00:02<00:00,  2.41s/it]\n"
     ]
    },
    {
     "name": "stdout",
     "output_type": "stream",
     "text": [
      "Epoch: 031, Average Loss: 0.4943\n",
      "Validation: {'precision': 0.8007858546137494, 'recall': 0.6390718093426182, 'f1': 0.7108475709238629, 'auc': 0.8221455542115543, 'prauc': 0.8270775994673771}\n",
      "Test:       {'precision': 0.8093080724843109, 'recall': 0.6161806208823576, 'f1': 0.6996617362322439, 'auc': 0.8258527130027125, 'prauc': 0.8342210472170518}\n"
     ]
    },
    {
     "name": "stderr",
     "output_type": "stream",
     "text": [
      "Training Batches: 100%|██████████| 1/1 [00:00<00:00,  1.41it/s]\n",
      "Running inference: 100%|██████████| 1/1 [00:02<00:00,  2.35s/it]\n",
      "Running inference: 100%|██████████| 1/1 [00:02<00:00,  2.09s/it]\n"
     ]
    },
    {
     "name": "stdout",
     "output_type": "stream",
     "text": [
      "Epoch: 032, Average Loss: 0.4677\n",
      "Validation: {'precision': 0.8283582089515876, 'recall': 0.5917215428015311, 'f1': 0.6903237558826087, 'auc': 0.8300634721505928, 'prauc': 0.8313004967376588}\n",
      "Test:       {'precision': 0.8329550612762917, 'recall': 0.5754154907476469, 'f1': 0.6806379773605165, 'auc': 0.8260327057244833, 'prauc': 0.8315453019620962}\n"
     ]
    },
    {
     "name": "stderr",
     "output_type": "stream",
     "text": [
      "Training Batches: 100%|██████████| 1/1 [00:01<00:00,  1.02s/it]\n",
      "Running inference: 100%|██████████| 1/1 [00:02<00:00,  2.05s/it]\n",
      "Running inference: 100%|██████████| 1/1 [00:02<00:00,  2.27s/it]\n"
     ]
    },
    {
     "name": "stdout",
     "output_type": "stream",
     "text": [
      "Epoch: 033, Average Loss: 0.4649\n",
      "Validation: {'precision': 0.828596802838239, 'recall': 0.5851364063951549, 'f1': 0.685903321740138, 'auc': 0.8304491900777555, 'prauc': 0.8323525973324122}\n",
      "Test:       {'precision': 0.8312700596018741, 'recall': 0.5685167764171574, 'f1': 0.6752327698477749, 'auc': 0.823522572325515, 'prauc': 0.828579949824487}\n"
     ]
    },
    {
     "name": "stderr",
     "output_type": "stream",
     "text": [
      "Training Batches: 100%|██████████| 1/1 [00:01<00:00,  1.33s/it]\n",
      "Running inference: 100%|██████████| 1/1 [00:02<00:00,  2.05s/it]\n",
      "Running inference: 100%|██████████| 1/1 [00:02<00:00,  2.35s/it]\n"
     ]
    },
    {
     "name": "stdout",
     "output_type": "stream",
     "text": [
      "Epoch: 034, Average Loss: 0.4775\n",
      "Validation: {'precision': 0.8186007540811957, 'recall': 0.6127312637171128, 'f1': 0.7008608272386558, 'auc': 0.8334296372231966, 'prauc': 0.8370727190669252}\n",
      "Test:       {'precision': 0.8221549112902546, 'recall': 0.5957980558150022, 'f1': 0.6909090860339974, 'auc': 0.8258414886243695, 'prauc': 0.8306623554942526}\n"
     ]
    },
    {
     "name": "stderr",
     "output_type": "stream",
     "text": [
      "Training Batches: 100%|██████████| 1/1 [00:01<00:00,  1.00s/it]\n",
      "Running inference: 100%|██████████| 1/1 [00:02<00:00,  2.36s/it]\n",
      "Running inference: 100%|██████████| 1/1 [00:02<00:00,  2.06s/it]\n"
     ]
    },
    {
     "name": "stdout",
     "output_type": "stream",
     "text": [
      "Epoch: 035, Average Loss: 0.4700\n",
      "Validation: {'precision': 0.8094310210412727, 'recall': 0.6513013483830313, 'f1': 0.7218071192958774, 'auc': 0.8359437866609115, 'prauc': 0.8413534542774332}\n",
      "Test:       {'precision': 0.816659861164489, 'recall': 0.6271558482263181, 'f1': 0.7094714388580072, 'auc': 0.8295765892687896, 'prauc': 0.8350538024446124}\n"
     ]
    },
    {
     "name": "stderr",
     "output_type": "stream",
     "text": [
      "Training Batches: 100%|██████████| 1/1 [00:01<00:00,  1.32s/it]\n",
      "Running inference: 100%|██████████| 1/1 [00:02<00:00,  2.04s/it]\n",
      "Running inference: 100%|██████████| 1/1 [00:02<00:00,  2.35s/it]\n"
     ]
    },
    {
     "name": "stdout",
     "output_type": "stream",
     "text": [
      "Epoch: 036, Average Loss: 0.4733\n",
      "Validation: {'precision': 0.8252742787451228, 'recall': 0.6368767638738261, 'f1': 0.7189380481778114, 'auc': 0.8385729783040448, 'prauc': 0.8436849477597077}\n",
      "Test:       {'precision': 0.8241014799119488, 'recall': 0.611163374096547, 'f1': 0.7018365093315111, 'auc': 0.8339218833600855, 'prauc': 0.8399718252756265}\n"
     ]
    },
    {
     "name": "stderr",
     "output_type": "stream",
     "text": [
      "Training Batches: 100%|██████████| 1/1 [00:01<00:00,  1.01s/it]\n",
      "Running inference: 100%|██████████| 1/1 [00:02<00:00,  2.33s/it]\n",
      "Running inference: 100%|██████████| 1/1 [00:02<00:00,  2.34s/it]\n"
     ]
    },
    {
     "name": "stdout",
     "output_type": "stream",
     "text": [
      "Epoch: 037, Average Loss: 0.4595\n",
      "Validation: {'precision': 0.8391761612583735, 'recall': 0.6005017246766996, 'f1': 0.7000548297172047, 'auc': 0.8373256997555177, 'prauc': 0.8410066144219412}\n",
      "Test:       {'precision': 0.8372715113649698, 'recall': 0.5888993414845127, 'f1': 0.6914580216586738, 'auc': 0.8345727966369146, 'prauc': 0.8413324600120435}\n"
     ]
    },
    {
     "name": "stderr",
     "output_type": "stream",
     "text": [
      "Training Batches: 100%|██████████| 1/1 [00:01<00:00,  1.02s/it]\n",
      "Running inference: 100%|██████████| 1/1 [00:02<00:00,  2.02s/it]\n",
      "Running inference: 100%|██████████| 1/1 [00:02<00:00,  2.32s/it]\n"
     ]
    },
    {
     "name": "stdout",
     "output_type": "stream",
     "text": [
      "Epoch: 038, Average Loss: 0.4615\n",
      "Validation: {'precision': 0.8327601031778472, 'recall': 0.6074004390071891, 'f1': 0.702447864566849, 'auc': 0.8353061815643308, 'prauc': 0.8380332809730169}\n",
      "Test:       {'precision': 0.8368513632329074, 'recall': 0.5967387895873417, 'f1': 0.6966867972610902, 'auc': 0.8361377669124453, 'prauc': 0.8447270084765309}\n"
     ]
    },
    {
     "name": "stderr",
     "output_type": "stream",
     "text": [
      "Training Batches: 100%|██████████| 1/1 [00:01<00:00,  1.30s/it]\n",
      "Running inference: 100%|██████████| 1/1 [00:02<00:00,  2.03s/it]\n",
      "Running inference: 100%|██████████| 1/1 [00:02<00:00,  2.33s/it]\n"
     ]
    },
    {
     "name": "stdout",
     "output_type": "stream",
     "text": [
      "Epoch: 039, Average Loss: 0.4556\n",
      "Validation: {'precision': 0.8214285714252377, 'recall': 0.634681718405034, 'f1': 0.7160799526243742, 'auc': 0.833678610659901, 'prauc': 0.8370380575168112}\n",
      "Test:       {'precision': 0.8246861924651687, 'recall': 0.6180620884270365, 'f1': 0.7065782349279469, 'auc': 0.8365323818281843, 'prauc': 0.8464003465832186}\n"
     ]
    },
    {
     "name": "stderr",
     "output_type": "stream",
     "text": [
      "Training Batches: 100%|██████████| 1/1 [00:01<00:00,  1.01s/it]\n",
      "Running inference: 100%|██████████| 1/1 [00:02<00:00,  2.30s/it]\n",
      "Running inference: 100%|██████████| 1/1 [00:02<00:00,  2.01s/it]\n"
     ]
    },
    {
     "name": "stdout",
     "output_type": "stream",
     "text": [
      "Epoch: 040, Average Loss: 0.4582\n",
      "Validation: {'precision': 0.8053333333302655, 'recall': 0.6629037315752183, 'f1': 0.7272101773630919, 'auc': 0.8344486398846404, 'prauc': 0.8399269861911822}\n",
      "Test:       {'precision': 0.808817791647254, 'recall': 0.6500470366865787, 'f1': 0.7207927627896779, 'auc': 0.8373120482879801, 'prauc': 0.8480874387512514}\n"
     ]
    },
    {
     "name": "stderr",
     "output_type": "stream",
     "text": [
      "Training Batches: 100%|██████████| 1/1 [00:01<00:00,  1.29s/it]\n",
      "Running inference: 100%|██████████| 1/1 [00:02<00:00,  2.02s/it]\n",
      "Running inference: 100%|██████████| 1/1 [00:02<00:00,  2.35s/it]\n"
     ]
    },
    {
     "name": "stdout",
     "output_type": "stream",
     "text": [
      "Epoch: 041, Average Loss: 0.4506\n",
      "Validation: {'precision': 0.8012560029523411, 'recall': 0.6801505174014421, 'f1': 0.735753047948152, 'auc': 0.8388760065062647, 'prauc': 0.8447155897707392}\n",
      "Test:       {'precision': 0.8038331454310266, 'recall': 0.6707431796780472, 'f1': 0.7312820463202823, 'auc': 0.8402146825942106, 'prauc': 0.8511486182478667}\n"
     ]
    },
    {
     "name": "stderr",
     "output_type": "stream",
     "text": [
      "Training Batches: 100%|██████████| 1/1 [00:00<00:00,  1.00it/s]\n",
      "Running inference: 100%|██████████| 1/1 [00:02<00:00,  2.27s/it]\n",
      "Running inference: 100%|██████████| 1/1 [00:02<00:00,  2.36s/it]\n"
     ]
    },
    {
     "name": "stdout",
     "output_type": "stream",
     "text": [
      "Epoch: 042, Average Loss: 0.4580\n",
      "Validation: {'precision': 0.8210862619775516, 'recall': 0.6447162119766551, 'f1': 0.7222905273024174, 'auc': 0.8421593813803838, 'prauc': 0.8447590689116534}\n",
      "Test:       {'precision': 0.8231511253986208, 'recall': 0.6422075885837497, 'f1': 0.7215078337208685, 'auc': 0.8411697110905415, 'prauc': 0.850793054279084}\n"
     ]
    },
    {
     "name": "stderr",
     "output_type": "stream",
     "text": [
      "Training Batches: 100%|██████████| 1/1 [00:01<00:00,  1.02s/it]\n",
      "Running inference: 100%|██████████| 1/1 [00:01<00:00,  1.99s/it]\n",
      "Running inference: 100%|██████████| 1/1 [00:02<00:00,  2.31s/it]\n"
     ]
    },
    {
     "name": "stdout",
     "output_type": "stream",
     "text": [
      "Epoch: 043, Average Loss: 0.4503\n",
      "Validation: {'precision': 0.8198632891000408, 'recall': 0.6393853872667313, 'f1': 0.7184637019097505, 'auc': 0.8420666443012561, 'prauc': 0.8450300672241177}\n",
      "Test:       {'precision': 0.816686722820631, 'recall': 0.6384446534943918, 'f1': 0.7166490623023477, 'auc': 0.8403529991488599, 'prauc': 0.850191978175521}\n"
     ]
    },
    {
     "name": "stderr",
     "output_type": "stream",
     "text": [
      "Training Batches: 100%|██████████| 1/1 [00:01<00:00,  1.27s/it]\n",
      "Running inference: 100%|██████████| 1/1 [00:02<00:00,  2.04s/it]\n",
      "Running inference: 100%|██████████| 1/1 [00:02<00:00,  2.35s/it]\n"
     ]
    },
    {
     "name": "stdout",
     "output_type": "stream",
     "text": [
      "Epoch: 044, Average Loss: 0.4485\n",
      "Validation: {'precision': 0.8214143028333144, 'recall': 0.6447162119766551, 'f1': 0.7224174230391665, 'auc': 0.8441724692648924, 'prauc': 0.847175086004204}\n",
      "Test:       {'precision': 0.8164232135775112, 'recall': 0.648479147066013, 'f1': 0.7228241824102727, 'auc': 0.8419977984111715, 'prauc': 0.8517598753007355}\n"
     ]
    },
    {
     "name": "stderr",
     "output_type": "stream",
     "text": [
      "Training Batches: 100%|██████████| 1/1 [00:01<00:00,  1.01s/it]\n",
      "Running inference: 100%|██████████| 1/1 [00:02<00:00,  2.31s/it]\n",
      "Running inference: 100%|██████████| 1/1 [00:02<00:00,  2.01s/it]\n"
     ]
    },
    {
     "name": "stdout",
     "output_type": "stream",
     "text": [
      "Epoch: 045, Average Loss: 0.4407\n",
      "Validation: {'precision': 0.8209538702078931, 'recall': 0.6585136406376341, 'f1': 0.730816073011448, 'auc': 0.8466315592016734, 'prauc': 0.8498685711268041}\n",
      "Test:       {'precision': 0.8156467854344863, 'recall': 0.660395108182313, 'f1': 0.7298561724917049, 'auc': 0.8443218990641486, 'prauc': 0.8544489140132169}\n"
     ]
    },
    {
     "name": "stderr",
     "output_type": "stream",
     "text": [
      "Training Batches: 100%|██████████| 1/1 [00:01<00:00,  1.29s/it]\n",
      "Running inference: 100%|██████████| 1/1 [00:02<00:00,  2.01s/it]\n",
      "Running inference: 100%|██████████| 1/1 [00:02<00:00,  2.34s/it]\n"
     ]
    },
    {
     "name": "stdout",
     "output_type": "stream",
     "text": [
      "Epoch: 046, Average Loss: 0.4369\n",
      "Validation: {'precision': 0.8179389312945881, 'recall': 0.6719974913744998, 'f1': 0.7378206182163738, 'auc': 0.848834140186111, 'prauc': 0.8529503115497163}\n",
      "Test:       {'precision': 0.811512415346834, 'recall': 0.6763875823120841, 'f1': 0.7378142587637011, 'auc': 0.8456531707358813, 'prauc': 0.8564980557644358}\n"
     ]
    },
    {
     "name": "stderr",
     "output_type": "stream",
     "text": [
      "Training Batches: 100%|██████████| 1/1 [00:00<00:00,  1.00it/s]\n",
      "Running inference: 100%|██████████| 1/1 [00:02<00:00,  2.31s/it]\n",
      "Running inference: 100%|██████████| 1/1 [00:02<00:00,  2.35s/it]\n"
     ]
    },
    {
     "name": "stdout",
     "output_type": "stream",
     "text": [
      "Epoch: 047, Average Loss: 0.4536\n",
      "Validation: {'precision': 0.8056067871604368, 'recall': 0.6848541862631394, 'f1': 0.7403389780811568, 'auc': 0.8492710996196171, 'prauc': 0.8542922612930168}\n",
      "Test:       {'precision': 0.8031352533692923, 'recall': 0.6908121668212894, 'f1': 0.7427511750662186, 'auc': 0.8438928560103525, 'prauc': 0.855538913930822}\n"
     ]
    },
    {
     "name": "stderr",
     "output_type": "stream",
     "text": [
      "Training Batches: 100%|██████████| 1/1 [00:01<00:00,  1.01s/it]\n",
      "Running inference: 100%|██████████| 1/1 [00:02<00:00,  2.01s/it]\n",
      "Running inference: 100%|██████████| 1/1 [00:02<00:00,  2.30s/it]\n"
     ]
    },
    {
     "name": "stdout",
     "output_type": "stream",
     "text": [
      "Epoch: 048, Average Loss: 0.4376\n",
      "Validation: {'precision': 0.8137404580121613, 'recall': 0.6685481342092551, 'f1': 0.7340333914992239, 'auc': 0.8495113318581807, 'prauc': 0.8536932437151814}\n",
      "Test:       {'precision': 0.8086303939932135, 'recall': 0.6757604264638578, 'f1': 0.7362487138622814, 'auc': 0.8424900603851422, 'prauc': 0.854257941292874}\n"
     ]
    },
    {
     "name": "stderr",
     "output_type": "stream",
     "text": [
      "Training Batches: 100%|██████████| 1/1 [00:01<00:00,  1.29s/it]\n",
      "Running inference: 100%|██████████| 1/1 [00:02<00:00,  2.01s/it]\n",
      "Running inference: 100%|██████████| 1/1 [00:02<00:00,  2.34s/it]\n"
     ]
    },
    {
     "name": "stdout",
     "output_type": "stream",
     "text": [
      "Epoch: 049, Average Loss: 0.4326\n",
      "Validation: {'precision': 0.8293683346971724, 'recall': 0.6340545625568076, 'f1': 0.7186777985341715, 'auc': 0.8488372548659084, 'prauc': 0.8518641910200346}\n",
      "Test:       {'precision': 0.8191823899338869, 'recall': 0.6534963938518235, 'f1': 0.7270190077940509, 'auc': 0.8414925503851269, 'prauc': 0.8530348906020603}\n"
     ]
    },
    {
     "name": "stderr",
     "output_type": "stream",
     "text": [
      "Training Batches: 100%|██████████| 1/1 [00:01<00:00,  1.01s/it]\n",
      "Running inference: 100%|██████████| 1/1 [00:02<00:00,  2.32s/it]\n",
      "Running inference: 100%|██████████| 1/1 [00:02<00:00,  2.06s/it]\n"
     ]
    },
    {
     "name": "stdout",
     "output_type": "stream",
     "text": [
      "Epoch: 050, Average Loss: 0.4308\n",
      "Validation: {'precision': 0.8270527568392422, 'recall': 0.6538099717759367, 'f1': 0.730297718358342, 'auc': 0.8498433466772244, 'prauc': 0.8548997897725947}\n",
      "Test:       {'precision': 0.8142307692276376, 'recall': 0.6638444653475577, 'f1': 0.731387108540337, 'auc': 0.8406826838042287, 'prauc': 0.8533682491428707}\n"
     ]
    },
    {
     "name": "stderr",
     "output_type": "stream",
     "text": [
      "Training Batches: 100%|██████████| 1/1 [00:01<00:00,  1.29s/it]\n",
      "Running inference: 100%|██████████| 1/1 [00:02<00:00,  2.04s/it]\n",
      "Running inference: 100%|██████████| 1/1 [00:02<00:00,  2.31s/it]\n"
     ]
    },
    {
     "name": "stdout",
     "output_type": "stream",
     "text": [
      "Epoch: 051, Average Loss: 0.4313\n",
      "Validation: {'precision': 0.8189687617583028, 'recall': 0.6823455628702341, 'f1': 0.7444406382136809, 'auc': 0.8524758037104678, 'prauc': 0.8587608844642882}\n",
      "Test:       {'precision': 0.8052325581366089, 'recall': 0.6948886798347604, 'f1': 0.7460023515301804, 'auc': 0.8420982641473727, 'prauc': 0.8552882736906351}\n"
     ]
    },
    {
     "name": "stderr",
     "output_type": "stream",
     "text": [
      "Training Batches: 100%|██████████| 1/1 [00:00<00:00,  1.00it/s]\n",
      "Running inference: 100%|██████████| 1/1 [00:02<00:00,  2.33s/it]\n",
      "Running inference: 100%|██████████| 1/1 [00:02<00:00,  2.36s/it]\n"
     ]
    },
    {
     "name": "stdout",
     "output_type": "stream",
     "text": [
      "Epoch: 052, Average Loss: 0.4221\n",
      "Validation: {'precision': 0.815530441119885, 'recall': 0.7014738162411368, 'f1': 0.7542144252347572, 'auc': 0.8536637023957614, 'prauc': 0.8597919412669952}\n",
      "Test:       {'precision': 0.7959111737723091, 'recall': 0.7080589526475132, 'f1': 0.7494191785525754, 'auc': 0.8430420179318253, 'prauc': 0.8560926158391617}\n"
     ]
    },
    {
     "name": "stderr",
     "output_type": "stream",
     "text": [
      "Training Batches: 100%|██████████| 1/1 [00:00<00:00,  1.43it/s]\n",
      "Running inference: 100%|██████████| 1/1 [00:02<00:00,  2.29s/it]\n",
      "Running inference: 100%|██████████| 1/1 [00:02<00:00,  2.34s/it]\n"
     ]
    },
    {
     "name": "stdout",
     "output_type": "stream",
     "text": [
      "Epoch: 053, Average Loss: 0.4222\n",
      "Validation: {'precision': 0.8019491820368885, 'recall': 0.7224835371567185, 'f1': 0.7601451616227582, 'auc': 0.853952262407955, 'prauc': 0.8601036540150702}\n",
      "Test:       {'precision': 0.7865812542117783, 'recall': 0.731577296956, 'f1': 0.7580828544679507, 'auc': 0.8446916492135133, 'prauc': 0.8571967127950074}\n"
     ]
    },
    {
     "name": "stderr",
     "output_type": "stream",
     "text": [
      "Training Batches: 100%|██████████| 1/1 [00:00<00:00,  1.00it/s]\n",
      "Running inference: 100%|██████████| 1/1 [00:02<00:00,  2.32s/it]\n",
      "Running inference: 100%|██████████| 1/1 [00:02<00:00,  2.01s/it]\n"
     ]
    },
    {
     "name": "stdout",
     "output_type": "stream",
     "text": [
      "Epoch: 054, Average Loss: 0.4217\n",
      "Validation: {'precision': 0.810995328778976, 'recall': 0.7077453747234, 'f1': 0.7558606782087894, 'auc': 0.8563465469102427, 'prauc': 0.8621282822723787}\n",
      "Test:       {'precision': 0.794968986902843, 'recall': 0.7234242709290579, 'f1': 0.7575110769327641, 'auc': 0.8483375085000758, 'prauc': 0.8603831821424497}\n"
     ]
    },
    {
     "name": "stderr",
     "output_type": "stream",
     "text": [
      "Training Batches: 100%|██████████| 1/1 [00:01<00:00,  1.59s/it]\n",
      "Running inference: 100%|██████████| 1/1 [00:02<00:00,  2.05s/it]\n",
      "Running inference: 100%|██████████| 1/1 [00:02<00:00,  2.08s/it]\n"
     ]
    },
    {
     "name": "stdout",
     "output_type": "stream",
     "text": [
      "Epoch: 055, Average Loss: 0.4223\n",
      "Validation: {'precision': 0.811583577709635, 'recall': 0.6942615239865342, 'f1': 0.74835220053737, 'auc': 0.8549378073799627, 'prauc': 0.8610537887883571}\n",
      "Test:       {'precision': 0.801910152101868, 'recall': 0.7108811539645316, 'f1': 0.7536569099092154, 'auc': 0.8492951543402356, 'prauc': 0.8611631371815729}\n"
     ]
    },
    {
     "name": "stderr",
     "output_type": "stream",
     "text": [
      "Training Batches: 100%|██████████| 1/1 [00:01<00:00,  1.01s/it]\n",
      "Running inference: 100%|██████████| 1/1 [00:02<00:00,  2.01s/it]\n",
      "Running inference: 100%|██████████| 1/1 [00:02<00:00,  2.33s/it]\n"
     ]
    },
    {
     "name": "stdout",
     "output_type": "stream",
     "text": [
      "Epoch: 056, Average Loss: 0.4295\n",
      "Validation: {'precision': 0.8211043872888764, 'recall': 0.6807776732496683, 'f1': 0.7443853884921516, 'auc': 0.8562994750558859, 'prauc': 0.8619214917688767}\n",
      "Test:       {'precision': 0.80759493670594, 'recall': 0.7002195045446842, 'f1': 0.7500839721810496, 'auc': 0.8504705430535444, 'prauc': 0.8625499454159157}\n"
     ]
    },
    {
     "name": "stderr",
     "output_type": "stream",
     "text": [
      "Training Batches: 100%|██████████| 1/1 [00:01<00:00,  1.29s/it]\n",
      "Running inference: 100%|██████████| 1/1 [00:02<00:00,  2.03s/it]\n",
      "Running inference: 100%|██████████| 1/1 [00:02<00:00,  2.03s/it]\n"
     ]
    },
    {
     "name": "stdout",
     "output_type": "stream",
     "text": [
      "Epoch: 057, Average Loss: 0.4178\n",
      "Validation: {'precision': 0.835826930849835, 'recall': 0.6481655691418998, 'f1': 0.7301306909445627, 'auc': 0.8562610439261282, 'prauc': 0.861577303814819}\n",
      "Test:       {'precision': 0.8227411944838333, 'recall': 0.6738789589191788, 'f1': 0.7409067352641165, 'auc': 0.8508956097580617, 'prauc': 0.8627516698848393}\n"
     ]
    },
    {
     "name": "stderr",
     "output_type": "stream",
     "text": [
      "Training Batches: 100%|██████████| 1/1 [00:01<00:00,  1.30s/it]\n",
      "Running inference: 100%|██████████| 1/1 [00:02<00:00,  2.05s/it]\n",
      "Running inference: 100%|██████████| 1/1 [00:02<00:00,  2.06s/it]\n"
     ]
    },
    {
     "name": "stdout",
     "output_type": "stream",
     "text": [
      "Epoch: 058, Average Loss: 0.4210\n",
      "Validation: {'precision': 0.8286913391803561, 'recall': 0.6810912511737814, 'f1': 0.7476764150107904, 'auc': 0.8577808067201527, 'prauc': 0.8641747775772134}\n",
      "Test:       {'precision': 0.8122703894165604, 'recall': 0.6933207902141947, 'f1': 0.7480967637649325, 'auc': 0.8497550518510912, 'prauc': 0.8623989629927042}\n"
     ]
    },
    {
     "name": "stderr",
     "output_type": "stream",
     "text": [
      "Training Batches: 100%|██████████| 1/1 [00:01<00:00,  1.01s/it]\n",
      "Running inference: 100%|██████████| 1/1 [00:02<00:00,  2.38s/it]\n",
      "Running inference: 100%|██████████| 1/1 [00:01<00:00,  1.76s/it]\n"
     ]
    },
    {
     "name": "stdout",
     "output_type": "stream",
     "text": [
      "Epoch: 059, Average Loss: 0.4132\n",
      "Validation: {'precision': 0.8129522431229633, 'recall': 0.7046095954822684, 'f1': 0.7549134840200927, 'auc': 0.854922033033892, 'prauc': 0.8630886652941991}\n",
      "Test:       {'precision': 0.8026222537179213, 'recall': 0.7102539981163053, 'f1': 0.753618361344529, 'auc': 0.8443050876634016, 'prauc': 0.8586012198318214}\n"
     ]
    },
    {
     "name": "stderr",
     "output_type": "stream",
     "text": [
      "Training Batches: 100%|██████████| 1/1 [00:01<00:00,  1.31s/it]\n",
      "Running inference: 100%|██████████| 1/1 [00:02<00:00,  2.39s/it]\n",
      "Running inference: 100%|██████████| 1/1 [00:01<00:00,  1.75s/it]\n"
     ]
    },
    {
     "name": "stdout",
     "output_type": "stream",
     "text": [
      "Epoch: 060, Average Loss: 0.4090\n",
      "Validation: {'precision': 0.8050070521833392, 'recall': 0.7158984007503422, 'f1': 0.7578423186661002, 'auc': 0.8537503105888361, 'prauc': 0.8621402714620954}\n",
      "Test:       {'precision': 0.7954624781822148, 'recall': 0.7146440890538895, 'f1': 0.7528906458212162, 'auc': 0.8431308062878666, 'prauc': 0.8576510528254719}\n"
     ]
    },
    {
     "name": "stderr",
     "output_type": "stream",
     "text": [
      "Training Batches: 100%|██████████| 1/1 [00:01<00:00,  1.30s/it]\n",
      "Running inference: 100%|██████████| 1/1 [00:02<00:00,  2.04s/it]\n",
      "Running inference: 100%|██████████| 1/1 [00:02<00:00,  2.39s/it]\n"
     ]
    },
    {
     "name": "stdout",
     "output_type": "stream",
     "text": [
      "Epoch: 061, Average Loss: 0.4128\n",
      "Validation: {'precision': 0.8179159049330241, 'recall': 0.7014738162411368, 'f1': 0.7552329457357972, 'auc': 0.8571725398977925, 'prauc': 0.8637405747449681}\n",
      "Test:       {'precision': 0.8047210300400404, 'recall': 0.7055503292546079, 'f1': 0.7518796942671668, 'auc': 0.8459053920806223, 'prauc': 0.859759403046537}\n"
     ]
    },
    {
     "name": "stderr",
     "output_type": "stream",
     "text": [
      "Training Batches: 100%|██████████| 1/1 [00:00<00:00,  1.42it/s]\n",
      "Running inference: 100%|██████████| 1/1 [00:02<00:00,  2.29s/it]\n",
      "Running inference: 100%|██████████| 1/1 [00:02<00:00,  2.35s/it]\n"
     ]
    },
    {
     "name": "stdout",
     "output_type": "stream",
     "text": [
      "Epoch: 062, Average Loss: 0.3984\n",
      "Validation: {'precision': 0.8332695984671769, 'recall': 0.6832862966425736, 'f1': 0.7508614698912506, 'auc': 0.8589945271057018, 'prauc': 0.8638397949592099}\n",
      "Test:       {'precision': 0.8122464035381326, 'recall': 0.6904985888971763, 'f1': 0.7464406729963903, 'auc': 0.8492679742312432, 'prauc': 0.8620607748039371}\n"
     ]
    },
    {
     "name": "stderr",
     "output_type": "stream",
     "text": [
      "Training Batches: 100%|██████████| 1/1 [00:00<00:00,  1.01it/s]\n",
      "Running inference: 100%|██████████| 1/1 [00:02<00:00,  2.34s/it]\n",
      "Running inference: 100%|██████████| 1/1 [00:02<00:00,  2.36s/it]\n"
     ]
    },
    {
     "name": "stdout",
     "output_type": "stream",
     "text": [
      "Epoch: 063, Average Loss: 0.4042\n",
      "Validation: {'precision': 0.8096428571399656, 'recall': 0.7108811539645316, 'f1': 0.7570545951187497, 'auc': 0.8527262842503001, 'prauc': 0.8585379324022909}\n",
      "Test:       {'precision': 0.7963224893889805, 'recall': 0.7061774851028342, 'f1': 0.748545781952522, 'auc': 0.8459534102731753, 'prauc': 0.858868263753583}\n",
      "\n",
      "Early stopping triggered after 63 epochs (no improvement for 10 epochs).\n",
      "\n",
      "Best validation performance:\n",
      "{'precision': 0.8019491820368885, 'recall': 0.7224835371567185, 'f1': 0.7601451616227582, 'auc': 0.853952262407955, 'prauc': 0.8601036540150702}\n",
      "Corresponding test performance:\n",
      "{'precision': 0.7865812542117783, 'recall': 0.731577296956, 'f1': 0.7580828544679507, 'auc': 0.8446916492135133, 'prauc': 0.8571967127950074}\n",
      "Corresponding test-long performance:\n",
      "{'precision': 0.8463687150601573, 'recall': 0.6601307189398664, 'f1': 0.741738061153727, 'auc': 0.834075177187612, 'prauc': 0.8544408176099348}\n",
      "[INFO] Random seed set to 2530876844\n",
      "Training with seed: 2530876844\n"
     ]
    },
    {
     "name": "stderr",
     "output_type": "stream",
     "text": [
      "Training Batches: 100%|██████████| 1/1 [00:00<00:00,  1.39it/s]\n",
      "Running inference: 100%|██████████| 1/1 [00:02<00:00,  2.37s/it]\n",
      "Running inference: 100%|██████████| 1/1 [00:02<00:00,  2.06s/it]\n"
     ]
    },
    {
     "name": "stdout",
     "output_type": "stream",
     "text": [
      "Epoch: 001, Average Loss: 0.6937\n",
      "Validation: {'precision': 0.8093023255625743, 'recall': 0.10912511759137936, 'f1': 0.19231831788283585, 'auc': 0.6218022160243444, 'prauc': 0.6406535949027048}\n",
      "Test:       {'precision': 0.9082125603425983, 'recall': 0.0589526497332739, 'f1': 0.11071849119850868, 'auc': 0.6281072527100834, 'prauc': 0.6557966544443554}\n"
     ]
    },
    {
     "name": "stderr",
     "output_type": "stream",
     "text": [
      "Training Batches: 100%|██████████| 1/1 [00:01<00:00,  1.00s/it]\n",
      "Running inference: 100%|██████████| 1/1 [00:02<00:00,  2.33s/it]\n",
      "Running inference: 100%|██████████| 1/1 [00:02<00:00,  2.41s/it]\n"
     ]
    },
    {
     "name": "stdout",
     "output_type": "stream",
     "text": [
      "Epoch: 002, Average Loss: 0.6860\n",
      "Validation: {'precision': 0.6366101694893674, 'recall': 0.5888993414845127, 'f1': 0.6118260253036792, 'auc': 0.6616032522883603, 'prauc': 0.6838765404963825}\n",
      "Test:       {'precision': 0.6782061368974107, 'recall': 0.5406083411710862, 'f1': 0.6016401974695834, 'auc': 0.676758238467203, 'prauc': 0.7046836328750303}\n"
     ]
    },
    {
     "name": "stderr",
     "output_type": "stream",
     "text": [
      "Training Batches: 100%|██████████| 1/1 [00:00<00:00,  1.41it/s]\n",
      "Running inference: 100%|██████████| 1/1 [00:02<00:00,  2.37s/it]\n",
      "Running inference: 100%|██████████| 1/1 [00:02<00:00,  2.42s/it]\n"
     ]
    },
    {
     "name": "stdout",
     "output_type": "stream",
     "text": [
      "Epoch: 003, Average Loss: 0.6758\n",
      "Validation: {'precision': 0.6354231974901711, 'recall': 0.6356224521773735, 'f1': 0.6355228042157534, 'auc': 0.678842653309312, 'prauc': 0.696128731127156}\n",
      "Test:       {'precision': 0.6874771814505751, 'recall': 0.5904672311050785, 'f1': 0.6352901434747122, 'auc': 0.6974040982571007, 'prauc': 0.721240759706445}\n"
     ]
    },
    {
     "name": "stderr",
     "output_type": "stream",
     "text": [
      "Training Batches: 100%|██████████| 1/1 [00:00<00:00,  1.41it/s]\n",
      "Running inference: 100%|██████████| 1/1 [00:02<00:00,  2.35s/it]\n",
      "Running inference: 100%|██████████| 1/1 [00:02<00:00,  2.10s/it]\n"
     ]
    },
    {
     "name": "stdout",
     "output_type": "stream",
     "text": [
      "Epoch: 004, Average Loss: 0.6635\n",
      "Validation: {'precision': 0.6673280423258355, 'recall': 0.632800250860355, 'f1': 0.6496056605414322, 'auc': 0.7003979455572056, 'prauc': 0.7177353895823451}\n",
      "Test:       {'precision': 0.7241515390658084, 'recall': 0.5754154907476469, 'f1': 0.6412720551715884, 'auc': 0.72584460930355, 'prauc': 0.7481643625479466}\n"
     ]
    },
    {
     "name": "stderr",
     "output_type": "stream",
     "text": [
      "Training Batches: 100%|██████████| 1/1 [00:01<00:00,  1.04s/it]\n",
      "Running inference: 100%|██████████| 1/1 [00:02<00:00,  2.05s/it]\n",
      "Running inference: 100%|██████████| 1/1 [00:02<00:00,  2.29s/it]\n"
     ]
    },
    {
     "name": "stdout",
     "output_type": "stream",
     "text": [
      "Epoch: 005, Average Loss: 0.6541\n",
      "Validation: {'precision': 0.7883472057028041, 'recall': 0.41580432737404893, 'f1': 0.5444467209947249, 'auc': 0.7525340683173867, 'prauc': 0.7515986716245311}\n",
      "Test:       {'precision': 0.8306951135524385, 'recall': 0.378488554404583, 'f1': 0.520034463598819, 'auc': 0.7640375447905545, 'prauc': 0.7643322193966626}\n"
     ]
    },
    {
     "name": "stderr",
     "output_type": "stream",
     "text": [
      "Training Batches: 100%|██████████| 1/1 [00:01<00:00,  1.56s/it]\n",
      "Running inference: 100%|██████████| 1/1 [00:02<00:00,  2.06s/it]\n",
      "Running inference: 100%|██████████| 1/1 [00:02<00:00,  2.07s/it]\n"
     ]
    },
    {
     "name": "stdout",
     "output_type": "stream",
     "text": [
      "Epoch: 006, Average Loss: 0.6460\n",
      "Validation: {'precision': 0.7772126144416216, 'recall': 0.47914706804490703, 'f1': 0.5928224977039572, 'auc': 0.7533092216927602, 'prauc': 0.7549847662928079}\n",
      "Test:       {'precision': 0.8242753623138631, 'recall': 0.4280338664144621, 'f1': 0.5634674877583082, 'auc': 0.7661947897744404, 'prauc': 0.7687559203692241}\n"
     ]
    },
    {
     "name": "stderr",
     "output_type": "stream",
     "text": [
      "Training Batches: 100%|██████████| 1/1 [00:01<00:00,  1.32s/it]\n",
      "Running inference: 100%|██████████| 1/1 [00:02<00:00,  2.01s/it]\n",
      "Running inference: 100%|██████████| 1/1 [00:02<00:00,  2.36s/it]\n"
     ]
    },
    {
     "name": "stdout",
     "output_type": "stream",
     "text": [
      "Epoch: 007, Average Loss: 0.6304\n",
      "Validation: {'precision': 0.7090975788675382, 'recall': 0.6061461273107365, 'f1': 0.6535925563132944, 'auc': 0.7318817317901, 'prauc': 0.7419834010608799}\n",
      "Test:       {'precision': 0.7787102473463838, 'recall': 0.5528378802114994, 'f1': 0.646616536494886, 'auc': 0.7567476885582312, 'prauc': 0.7705032019582971}\n"
     ]
    },
    {
     "name": "stderr",
     "output_type": "stream",
     "text": [
      "Training Batches: 100%|██████████| 1/1 [00:01<00:00,  1.00s/it]\n",
      "Running inference: 100%|██████████| 1/1 [00:02<00:00,  2.31s/it]\n",
      "Running inference: 100%|██████████| 1/1 [00:02<00:00,  2.36s/it]\n"
     ]
    },
    {
     "name": "stdout",
     "output_type": "stream",
     "text": [
      "Epoch: 008, Average Loss: 0.6136\n",
      "Validation: {'precision': 0.7169459962729351, 'recall': 0.6036375039178312, 'f1': 0.6554307066450652, 'auc': 0.7410207046832425, 'prauc': 0.7483296868586591}\n",
      "Test:       {'precision': 0.7840909090873451, 'recall': 0.5409219190951994, 'f1': 0.6401929808776606, 'auc': 0.764363253096645, 'prauc': 0.7749128981399791}\n"
     ]
    },
    {
     "name": "stderr",
     "output_type": "stream",
     "text": [
      "Training Batches: 100%|██████████| 1/1 [00:00<00:00,  1.42it/s]\n",
      "Running inference: 100%|██████████| 1/1 [00:02<00:00,  2.30s/it]\n",
      "Running inference: 100%|██████████| 1/1 [00:02<00:00,  2.37s/it]\n"
     ]
    },
    {
     "name": "stdout",
     "output_type": "stream",
     "text": [
      "Epoch: 009, Average Loss: 0.6127\n",
      "Validation: {'precision': 0.7739628040020317, 'recall': 0.5089369708356571, 'f1': 0.6140749100805268, 'auc': 0.7615306199649567, 'prauc': 0.761004965609237}\n",
      "Test:       {'precision': 0.8148571428524866, 'recall': 0.4471621197853648, 'f1': 0.5774448223101329, 'auc': 0.7712818995070837, 'prauc': 0.7717368772505299}\n"
     ]
    },
    {
     "name": "stderr",
     "output_type": "stream",
     "text": [
      "Training Batches: 100%|██████████| 1/1 [00:01<00:00,  1.00s/it]\n",
      "Running inference: 100%|██████████| 1/1 [00:02<00:00,  2.32s/it]\n",
      "Running inference: 100%|██████████| 1/1 [00:02<00:00,  2.05s/it]\n"
     ]
    },
    {
     "name": "stdout",
     "output_type": "stream",
     "text": [
      "Epoch: 010, Average Loss: 0.5975\n",
      "Validation: {'precision': 0.7796780684065409, 'recall': 0.48604578237539653, 'f1': 0.598802390476359, 'auc': 0.7680442192095566, 'prauc': 0.7638193341793563}\n",
      "Test:       {'precision': 0.8088578088530953, 'recall': 0.4352461586690648, 'f1': 0.5659531045209855, 'auc': 0.7716578406812745, 'prauc': 0.7681154830206472}\n"
     ]
    },
    {
     "name": "stderr",
     "output_type": "stream",
     "text": [
      "Training Batches: 100%|██████████| 1/1 [00:01<00:00,  1.59s/it]\n",
      "Running inference: 100%|██████████| 1/1 [00:02<00:00,  2.05s/it]\n",
      "Running inference: 100%|██████████| 1/1 [00:02<00:00,  2.05s/it]\n"
     ]
    },
    {
     "name": "stdout",
     "output_type": "stream",
     "text": [
      "Epoch: 011, Average Loss: 0.5846\n",
      "Validation: {'precision': 0.7768479776811862, 'recall': 0.5239887111930888, 'f1': 0.6258426918157914, 'auc': 0.7700129480253382, 'prauc': 0.7684501685699942}\n",
      "Test:       {'precision': 0.8102029621458574, 'recall': 0.4631545939151359, 'f1': 0.5893854702293897, 'auc': 0.7772937369478852, 'prauc': 0.7766618950455182}\n"
     ]
    },
    {
     "name": "stderr",
     "output_type": "stream",
     "text": [
      "Training Batches: 100%|██████████| 1/1 [00:01<00:00,  1.02s/it]\n",
      "Running inference: 100%|██████████| 1/1 [00:02<00:00,  2.03s/it]\n",
      "Running inference: 100%|██████████| 1/1 [00:02<00:00,  2.33s/it]\n"
     ]
    },
    {
     "name": "stdout",
     "output_type": "stream",
     "text": [
      "Epoch: 012, Average Loss: 0.5768\n",
      "Validation: {'precision': 0.7718511878046982, 'recall': 0.5399811853228599, 'f1': 0.6354243493974054, 'auc': 0.7693506264374625, 'prauc': 0.7702038561033211}\n",
      "Test:       {'precision': 0.8117524700945827, 'recall': 0.4894951395406413, 'f1': 0.6107198701086515, 'auc': 0.7809973791328237, 'prauc': 0.7832257039760908}\n"
     ]
    },
    {
     "name": "stderr",
     "output_type": "stream",
     "text": [
      "Training Batches: 100%|██████████| 1/1 [00:01<00:00,  1.30s/it]\n",
      "Running inference: 100%|██████████| 1/1 [00:02<00:00,  2.04s/it]\n",
      "Running inference: 100%|██████████| 1/1 [00:02<00:00,  2.06s/it]\n"
     ]
    },
    {
     "name": "stdout",
     "output_type": "stream",
     "text": [
      "Epoch: 013, Average Loss: 0.5654\n",
      "Validation: {'precision': 0.770288248333613, 'recall': 0.5446848541845573, 'f1': 0.6381337203468859, 'auc': 0.7717961524460937, 'prauc': 0.7726759047647458}\n",
      "Test:       {'precision': 0.8141547861465674, 'recall': 0.5014111006569414, 'f1': 0.620609349054659, 'auc': 0.7851363560634544, 'prauc': 0.7877148936367813}\n"
     ]
    },
    {
     "name": "stderr",
     "output_type": "stream",
     "text": [
      "Training Batches: 100%|██████████| 1/1 [00:01<00:00,  1.31s/it]\n",
      "Running inference: 100%|██████████| 1/1 [00:02<00:00,  2.04s/it]\n",
      "Running inference: 100%|██████████| 1/1 [00:02<00:00,  2.08s/it]\n"
     ]
    },
    {
     "name": "stdout",
     "output_type": "stream",
     "text": [
      "Epoch: 014, Average Loss: 0.5637\n",
      "Validation: {'precision': 0.7910156249961376, 'recall': 0.5079962370633176, 'f1': 0.618674809059689, 'auc': 0.7798442338585989, 'prauc': 0.7783799619991156}\n",
      "Test:       {'precision': 0.8222709818934599, 'recall': 0.4700533082456254, 'f1': 0.5981644007959948, 'auc': 0.7893019091006555, 'prauc': 0.7887080815477371}\n"
     ]
    },
    {
     "name": "stderr",
     "output_type": "stream",
     "text": [
      "Training Batches: 100%|██████████| 1/1 [00:01<00:00,  1.01s/it]\n",
      "Running inference: 100%|██████████| 1/1 [00:02<00:00,  2.38s/it]\n",
      "Running inference: 100%|██████████| 1/1 [00:01<00:00,  1.75s/it]\n"
     ]
    },
    {
     "name": "stdout",
     "output_type": "stream",
     "text": [
      "Epoch: 015, Average Loss: 0.5422\n",
      "Validation: {'precision': 0.8086548487966181, 'recall': 0.4863593602995097, 'f1': 0.6074016009466315, 'auc': 0.7835967699363873, 'prauc': 0.7804397567540449}\n",
      "Test:       {'precision': 0.8267127230810207, 'recall': 0.4502978990264964, 'f1': 0.5830288220662435, 'auc': 0.7896455864788017, 'prauc': 0.7872146751233884}\n"
     ]
    },
    {
     "name": "stderr",
     "output_type": "stream",
     "text": [
      "Training Batches: 100%|██████████| 1/1 [00:01<00:00,  1.30s/it]\n",
      "Running inference: 100%|██████████| 1/1 [00:02<00:00,  2.38s/it]\n",
      "Running inference: 100%|██████████| 1/1 [00:01<00:00,  1.74s/it]\n"
     ]
    },
    {
     "name": "stdout",
     "output_type": "stream",
     "text": [
      "Epoch: 016, Average Loss: 0.5485\n",
      "Validation: {'precision': 0.7998093422268837, 'recall': 0.5261837566618809, 'f1': 0.6347645119496828, 'auc': 0.7889444742013585, 'prauc': 0.7866539301783531}\n",
      "Test:       {'precision': 0.8239957716658352, 'recall': 0.48886798369241496, 'f1': 0.6136587239201179, 'auc': 0.7975498138414201, 'prauc': 0.7962900686850687}\n"
     ]
    },
    {
     "name": "stderr",
     "output_type": "stream",
     "text": [
      "Training Batches: 100%|██████████| 1/1 [00:01<00:00,  1.32s/it]\n",
      "Running inference: 100%|██████████| 1/1 [00:02<00:00,  2.07s/it]\n",
      "Running inference: 100%|██████████| 1/1 [00:02<00:00,  2.04s/it]\n"
     ]
    },
    {
     "name": "stdout",
     "output_type": "stream",
     "text": [
      "Epoch: 017, Average Loss: 0.5273\n",
      "Validation: {'precision': 0.7919675090216969, 'recall': 0.5503292568185941, 'f1': 0.6493987000624982, 'auc': 0.7927982373725606, 'prauc': 0.7895268588917767}\n",
      "Test:       {'precision': 0.8247422680371883, 'recall': 0.5268109125101073, 'f1': 0.6429391456423373, 'auc': 0.8042273626183908, 'prauc': 0.8032875290103385}\n"
     ]
    },
    {
     "name": "stderr",
     "output_type": "stream",
     "text": [
      "Training Batches: 100%|██████████| 1/1 [00:01<00:00,  1.30s/it]\n",
      "Running inference: 100%|██████████| 1/1 [00:02<00:00,  2.04s/it]\n",
      "Running inference: 100%|██████████| 1/1 [00:02<00:00,  2.05s/it]\n"
     ]
    },
    {
     "name": "stdout",
     "output_type": "stream",
     "text": [
      "Epoch: 018, Average Loss: 0.5199\n",
      "Validation: {'precision': 0.7980251346463285, 'recall': 0.5575415490731969, 'f1': 0.6564519058065903, 'auc': 0.7969323217255245, 'prauc': 0.7888780274657412}\n",
      "Test:       {'precision': 0.8283073929920802, 'recall': 0.5340232047647099, 'f1': 0.6493803574805985, 'auc': 0.807424095770624, 'prauc': 0.8043849780265452}\n"
     ]
    },
    {
     "name": "stderr",
     "output_type": "stream",
     "text": [
      "Training Batches: 100%|██████████| 1/1 [00:00<00:00,  1.00it/s]\n",
      "Running inference: 100%|██████████| 1/1 [00:02<00:00,  2.36s/it]\n",
      "Running inference: 100%|██████████| 1/1 [00:02<00:00,  2.06s/it]\n"
     ]
    },
    {
     "name": "stdout",
     "output_type": "stream",
     "text": [
      "Epoch: 019, Average Loss: 0.5148\n",
      "Validation: {'precision': 0.8075253256111552, 'recall': 0.5249294449654283, 'f1': 0.6362599724174683, 'auc': 0.7952949044139935, 'prauc': 0.7802179821838424}\n",
      "Test:       {'precision': 0.8318899643360577, 'recall': 0.5120727500767888, 'f1': 0.6339285667092492, 'auc': 0.8033281540125643, 'prauc': 0.7980876756865347}\n"
     ]
    },
    {
     "name": "stderr",
     "output_type": "stream",
     "text": [
      "Training Batches: 100%|██████████| 1/1 [00:01<00:00,  1.31s/it]\n",
      "Running inference: 100%|██████████| 1/1 [00:02<00:00,  2.05s/it]\n",
      "Running inference: 100%|██████████| 1/1 [00:02<00:00,  2.04s/it]\n"
     ]
    },
    {
     "name": "stdout",
     "output_type": "stream",
     "text": [
      "Epoch: 020, Average Loss: 0.5300\n",
      "Validation: {'precision': 0.8138033763614012, 'recall': 0.5139542176214678, 'f1': 0.6300211369016258, 'auc': 0.7961928364575079, 'prauc': 0.7826568787781892}\n",
      "Test:       {'precision': 0.8376990241353997, 'recall': 0.5114455942285624, 'f1': 0.6351246058818175, 'auc': 0.8049478368408256, 'prauc': 0.8008363824326509}\n"
     ]
    },
    {
     "name": "stderr",
     "output_type": "stream",
     "text": [
      "Training Batches: 100%|██████████| 1/1 [00:00<00:00,  1.44it/s]\n",
      "Running inference: 100%|██████████| 1/1 [00:02<00:00,  2.30s/it]\n",
      "Running inference: 100%|██████████| 1/1 [00:02<00:00,  2.33s/it]\n"
     ]
    },
    {
     "name": "stdout",
     "output_type": "stream",
     "text": [
      "Epoch: 021, Average Loss: 0.5103\n",
      "Validation: {'precision': 0.8150943396187967, 'recall': 0.5418626528675389, 'f1': 0.6509700460573046, 'auc': 0.8029552081917285, 'prauc': 0.7953593642150232}\n",
      "Test:       {'precision': 0.8379562043754845, 'recall': 0.5399811853228599, 'f1': 0.6567505673136892, 'auc': 0.8147579938462219, 'prauc': 0.8129969670869048}\n"
     ]
    },
    {
     "name": "stderr",
     "output_type": "stream",
     "text": [
      "Training Batches: 100%|██████████| 1/1 [00:01<00:00,  1.30s/it]\n",
      "Running inference: 100%|██████████| 1/1 [00:02<00:00,  2.36s/it]\n",
      "Running inference: 100%|██████████| 1/1 [00:01<00:00,  1.72s/it]\n"
     ]
    },
    {
     "name": "stdout",
     "output_type": "stream",
     "text": [
      "Epoch: 022, Average Loss: 0.4998\n",
      "Validation: {'precision': 0.8177083333294617, 'recall': 0.5415490749434257, 'f1': 0.6515751696993087, 'auc': 0.8042016829519207, 'prauc': 0.8019896821029611}\n",
      "Test:       {'precision': 0.8364871421599395, 'recall': 0.5406083411710862, 'f1': 0.6567618999902209, 'auc': 0.8138267731120269, 'prauc': 0.8141778114611848}\n"
     ]
    },
    {
     "name": "stderr",
     "output_type": "stream",
     "text": [
      "Training Batches: 100%|██████████| 1/1 [00:01<00:00,  1.28s/it]\n",
      "Running inference: 100%|██████████| 1/1 [00:02<00:00,  2.37s/it]\n",
      "Running inference: 100%|██████████| 1/1 [00:01<00:00,  1.72s/it]\n"
     ]
    },
    {
     "name": "stdout",
     "output_type": "stream",
     "text": [
      "Epoch: 023, Average Loss: 0.4970\n",
      "Validation: {'precision': 0.8227974116434903, 'recall': 0.5183443085590519, 'f1': 0.6360138467365605, 'auc': 0.7949583180487959, 'prauc': 0.7980886675557021}\n",
      "Test:       {'precision': 0.8347436535548296, 'recall': 0.5258701787377678, 'f1': 0.645248167629176, 'auc': 0.8017852801589735, 'prauc': 0.805241922710551}\n"
     ]
    },
    {
     "name": "stderr",
     "output_type": "stream",
     "text": [
      "Training Batches: 100%|██████████| 1/1 [00:01<00:00,  1.32s/it]\n",
      "Running inference: 100%|██████████| 1/1 [00:02<00:00,  2.03s/it]\n",
      "Running inference: 100%|██████████| 1/1 [00:02<00:00,  2.35s/it]\n"
     ]
    },
    {
     "name": "stdout",
     "output_type": "stream",
     "text": [
      "Epoch: 024, Average Loss: 0.4930\n",
      "Validation: {'precision': 0.8244197779978587, 'recall': 0.5123863280009019, 'f1': 0.6319860714641333, 'auc': 0.791956771459566, 'prauc': 0.7974945627725589}\n",
      "Test:       {'precision': 0.8331658291415419, 'recall': 0.5199121981796178, 'f1': 0.6402780412203338, 'auc': 0.7986904724154611, 'prauc': 0.8038143866732658}\n"
     ]
    },
    {
     "name": "stderr",
     "output_type": "stream",
     "text": [
      "Training Batches: 100%|██████████| 1/1 [00:00<00:00,  1.42it/s]\n",
      "Running inference: 100%|██████████| 1/1 [00:02<00:00,  2.31s/it]\n",
      "Running inference: 100%|██████████| 1/1 [00:02<00:00,  2.33s/it]\n"
     ]
    },
    {
     "name": "stdout",
     "output_type": "stream",
     "text": [
      "Epoch: 025, Average Loss: 0.5053\n",
      "Validation: {'precision': 0.8246356370436078, 'recall': 0.550015678894481, 'f1': 0.6598946528343875, 'auc': 0.8043761050205724, 'prauc': 0.8095135005769116}\n",
      "Test:       {'precision': 0.8327868852420011, 'recall': 0.5575415490731969, 'f1': 0.6679188531949573, 'auc': 0.8118026099951328, 'prauc': 0.8170947127044474}\n"
     ]
    },
    {
     "name": "stderr",
     "output_type": "stream",
     "text": [
      "Training Batches: 100%|██████████| 1/1 [00:01<00:00,  1.00s/it]\n",
      "Running inference: 100%|██████████| 1/1 [00:02<00:00,  2.34s/it]\n",
      "Running inference: 100%|██████████| 1/1 [00:02<00:00,  2.38s/it]\n"
     ]
    },
    {
     "name": "stdout",
     "output_type": "stream",
     "text": [
      "Epoch: 026, Average Loss: 0.4881\n",
      "Validation: {'precision': 0.8185801928097346, 'recall': 0.5857635622433811, 'f1': 0.6828733272497112, 'auc': 0.8128005100840773, 'prauc': 0.8182214960821839}\n",
      "Test:       {'precision': 0.8309671694727997, 'recall': 0.587331451863947, 'f1': 0.6882234013548244, 'auc': 0.8207450671877194, 'prauc': 0.8263191031591597}\n"
     ]
    },
    {
     "name": "stderr",
     "output_type": "stream",
     "text": [
      "Training Batches: 100%|██████████| 1/1 [00:00<00:00,  1.42it/s]\n",
      "Running inference: 100%|██████████| 1/1 [00:02<00:00,  2.38s/it]\n",
      "Running inference: 100%|██████████| 1/1 [00:02<00:00,  2.06s/it]\n"
     ]
    },
    {
     "name": "stdout",
     "output_type": "stream",
     "text": [
      "Epoch: 027, Average Loss: 0.4882\n",
      "Validation: {'precision': 0.8201376936281406, 'recall': 0.5976795233596812, 'f1': 0.691456552348952, 'auc': 0.8161555225935355, 'prauc': 0.8215547873516892}\n",
      "Test:       {'precision': 0.8261060008724218, 'recall': 0.591407964877418, 'f1': 0.689327480514665, 'auc': 0.8249613060948374, 'prauc': 0.830636017618766}\n"
     ]
    },
    {
     "name": "stderr",
     "output_type": "stream",
     "text": [
      "Training Batches: 100%|██████████| 1/1 [00:00<00:00,  1.41it/s]\n",
      "Running inference: 100%|██████████| 1/1 [00:02<00:00,  2.33s/it]\n",
      "Running inference: 100%|██████████| 1/1 [00:02<00:00,  2.35s/it]\n"
     ]
    },
    {
     "name": "stdout",
     "output_type": "stream",
     "text": [
      "Epoch: 028, Average Loss: 0.4938\n",
      "Validation: {'precision': 0.8296727924660258, 'recall': 0.5804327375334575, 'f1': 0.6830258254119901, 'auc': 0.8163604886189098, 'prauc': 0.8209837537645059}\n",
      "Test:       {'precision': 0.8345323740969671, 'recall': 0.5820006271540232, 'f1': 0.6857565072568743, 'auc': 0.8251387318063146, 'prauc': 0.8311921332415828}\n"
     ]
    },
    {
     "name": "stderr",
     "output_type": "stream",
     "text": [
      "Training Batches: 100%|██████████| 1/1 [00:00<00:00,  1.01it/s]\n",
      "Running inference: 100%|██████████| 1/1 [00:02<00:00,  2.32s/it]\n",
      "Running inference: 100%|██████████| 1/1 [00:02<00:00,  2.38s/it]\n"
     ]
    },
    {
     "name": "stdout",
     "output_type": "stream",
     "text": [
      "Epoch: 029, Average Loss: 0.4840\n",
      "Validation: {'precision': 0.8342723004655669, 'recall': 0.5572279711490836, 'f1': 0.6681707039755328, 'auc': 0.8144484771175026, 'prauc': 0.8185008194810641}\n",
      "Test:       {'precision': 0.8410997204061459, 'recall': 0.5660081530242521, 'f1': 0.6766635378314915, 'auc': 0.823607736667024, 'prauc': 0.830997553571182}\n"
     ]
    },
    {
     "name": "stderr",
     "output_type": "stream",
     "text": [
      "Training Batches: 100%|██████████| 1/1 [00:00<00:00,  1.41it/s]\n",
      "Running inference: 100%|██████████| 1/1 [00:02<00:00,  2.36s/it]\n",
      "Running inference: 100%|██████████| 1/1 [00:02<00:00,  2.43s/it]\n"
     ]
    },
    {
     "name": "stdout",
     "output_type": "stream",
     "text": [
      "Epoch: 030, Average Loss: 0.4848\n",
      "Validation: {'precision': 0.8363549618280709, 'recall': 0.5497021009703679, 'f1': 0.6633869393929913, 'auc': 0.8117943680359905, 'prauc': 0.8162753602519904}\n",
      "Test:       {'precision': 0.842227378186347, 'recall': 0.5691439322653837, 'f1': 0.6792664622505142, 'auc': 0.8222886960443379, 'prauc': 0.8315979737454476}\n"
     ]
    },
    {
     "name": "stderr",
     "output_type": "stream",
     "text": [
      "Training Batches: 100%|██████████| 1/1 [00:00<00:00,  1.41it/s]\n",
      "Running inference: 100%|██████████| 1/1 [00:02<00:00,  2.38s/it]\n",
      "Running inference: 100%|██████████| 1/1 [00:02<00:00,  2.07s/it]\n"
     ]
    },
    {
     "name": "stdout",
     "output_type": "stream",
     "text": [
      "Epoch: 031, Average Loss: 0.4776\n",
      "Validation: {'precision': 0.8304066543399704, 'recall': 0.5634995296313469, 'f1': 0.6713992105740547, 'auc': 0.8144479245130223, 'prauc': 0.8198125224017023}\n",
      "Test:       {'precision': 0.8383928571391144, 'recall': 0.5888993414845127, 'f1': 0.6918401130356602, 'auc': 0.8252322011811267, 'prauc': 0.8357652891110213}\n"
     ]
    },
    {
     "name": "stderr",
     "output_type": "stream",
     "text": [
      "Training Batches: 100%|██████████| 1/1 [00:00<00:00,  1.43it/s]\n",
      "Running inference: 100%|██████████| 1/1 [00:02<00:00,  2.32s/it]\n",
      "Running inference: 100%|██████████| 1/1 [00:02<00:00,  2.35s/it]\n"
     ]
    },
    {
     "name": "stdout",
     "output_type": "stream",
     "text": [
      "Epoch: 032, Average Loss: 0.4738\n",
      "Validation: {'precision': 0.8224020442895128, 'recall': 0.6055189714625101, 'f1': 0.6974896104279821, 'auc': 0.8218851267910791, 'prauc': 0.8288156799992288}\n",
      "Test:       {'precision': 0.828877005344184, 'recall': 0.6318595170880155, 'f1': 0.7170818456222128, 'auc': 0.831667746320996, 'prauc': 0.8430388710313632}\n"
     ]
    },
    {
     "name": "stderr",
     "output_type": "stream",
     "text": [
      "Training Batches: 100%|██████████| 1/1 [00:01<00:00,  1.01s/it]\n",
      "Running inference: 100%|██████████| 1/1 [00:02<00:00,  2.34s/it]\n",
      "Running inference: 100%|██████████| 1/1 [00:02<00:00,  2.40s/it]\n"
     ]
    },
    {
     "name": "stdout",
     "output_type": "stream",
     "text": [
      "Epoch: 033, Average Loss: 0.4754\n",
      "Validation: {'precision': 0.8255319148901041, 'recall': 0.6083411727795286, 'f1': 0.7004874477209629, 'auc': 0.826569404259214, 'prauc': 0.8338674913517539}\n",
      "Test:       {'precision': 0.8297086581828901, 'recall': 0.6340545625568076, 'f1': 0.7188055407675444, 'auc': 0.8349742569134369, 'prauc': 0.846643134397137}\n"
     ]
    },
    {
     "name": "stderr",
     "output_type": "stream",
     "text": [
      "Training Batches: 100%|██████████| 1/1 [00:00<00:00,  1.40it/s]\n",
      "Running inference: 100%|██████████| 1/1 [00:02<00:00,  2.32s/it]\n",
      "Running inference: 100%|██████████| 1/1 [00:02<00:00,  2.41s/it]\n"
     ]
    },
    {
     "name": "stdout",
     "output_type": "stream",
     "text": [
      "Epoch: 034, Average Loss: 0.4757\n",
      "Validation: {'precision': 0.8351351351313733, 'recall': 0.5813734713057969, 'f1': 0.6855241216138382, 'auc': 0.8290338192937131, 'prauc': 0.83536682246373}\n",
      "Test:       {'precision': 0.8405545927173287, 'recall': 0.6083411727795286, 'f1': 0.7058395439706876, 'auc': 0.8355594345933328, 'prauc': 0.8472802386895759}\n"
     ]
    },
    {
     "name": "stderr",
     "output_type": "stream",
     "text": [
      "Training Batches: 100%|██████████| 1/1 [00:00<00:00,  1.40it/s]\n",
      "Running inference: 100%|██████████| 1/1 [00:02<00:00,  2.35s/it]\n",
      "Running inference: 100%|██████████| 1/1 [00:02<00:00,  2.09s/it]\n"
     ]
    },
    {
     "name": "stdout",
     "output_type": "stream",
     "text": [
      "Epoch: 035, Average Loss: 0.4682\n",
      "Validation: {'precision': 0.8475247524710519, 'recall': 0.5368454060817284, 'f1': 0.6573238577948904, 'auc': 0.8255765247186515, 'prauc': 0.8311876386665613}\n",
      "Test:       {'precision': 0.8542260208886314, 'recall': 0.5641266854795731, 'f1': 0.6795089659337025, 'auc': 0.8326889130825414, 'prauc': 0.8443869976807092}\n"
     ]
    },
    {
     "name": "stderr",
     "output_type": "stream",
     "text": [
      "Training Batches: 100%|██████████| 1/1 [00:00<00:00,  1.41it/s]\n",
      "Running inference: 100%|██████████| 1/1 [00:02<00:00,  2.31s/it]\n",
      "Running inference: 100%|██████████| 1/1 [00:02<00:00,  2.32s/it]\n"
     ]
    },
    {
     "name": "stdout",
     "output_type": "stream",
     "text": [
      "Epoch: 036, Average Loss: 0.4699\n",
      "Validation: {'precision': 0.8522440746300947, 'recall': 0.5299466917512388, 'f1': 0.6535189434518556, 'auc': 0.8263526828294434, 'prauc': 0.8328132543884852}\n",
      "Test:       {'precision': 0.8563162970064787, 'recall': 0.5569143932249705, 'f1': 0.674900242229261, 'auc': 0.833219227209101, 'prauc': 0.8449019595492295}\n"
     ]
    },
    {
     "name": "stderr",
     "output_type": "stream",
     "text": [
      "Training Batches: 100%|██████████| 1/1 [00:01<00:00,  1.01s/it]\n",
      "Running inference: 100%|██████████| 1/1 [00:02<00:00,  2.34s/it]\n",
      "Running inference: 100%|██████████| 1/1 [00:02<00:00,  2.36s/it]\n"
     ]
    },
    {
     "name": "stdout",
     "output_type": "stream",
     "text": [
      "Epoch: 037, Average Loss: 0.4702\n",
      "Validation: {'precision': 0.8511374876317946, 'recall': 0.5396676073987468, 'f1': 0.6605258060331096, 'auc': 0.8271678246744733, 'prauc': 0.8356934637583494}\n",
      "Test:       {'precision': 0.8544512482296069, 'recall': 0.5688303543412705, 'f1': 0.6829819229096297, 'auc': 0.8345746086441805, 'prauc': 0.8464361122801474}\n"
     ]
    },
    {
     "name": "stderr",
     "output_type": "stream",
     "text": [
      "Training Batches: 100%|██████████| 1/1 [00:00<00:00,  1.41it/s]\n",
      "Running inference: 100%|██████████| 1/1 [00:02<00:00,  2.32s/it]\n",
      "Running inference: 100%|██████████| 1/1 [00:02<00:00,  2.38s/it]\n"
     ]
    },
    {
     "name": "stdout",
     "output_type": "stream",
     "text": [
      "Epoch: 038, Average Loss: 0.4563\n",
      "Validation: {'precision': 0.8452813067112284, 'recall': 0.5841956726228154, 'f1': 0.6908956005786584, 'auc': 0.8333059542931792, 'prauc': 0.8428194859723092}\n",
      "Test:       {'precision': 0.8416523235764128, 'recall': 0.6133584195653391, 'f1': 0.7095954966623271, 'auc': 0.8384696189298386, 'prauc': 0.8504272145095848}\n"
     ]
    },
    {
     "name": "stderr",
     "output_type": "stream",
     "text": [
      "Training Batches: 100%|██████████| 1/1 [00:00<00:00,  1.40it/s]\n",
      "Running inference: 100%|██████████| 1/1 [00:02<00:00,  2.35s/it]\n",
      "Running inference: 100%|██████████| 1/1 [00:02<00:00,  2.11s/it]\n"
     ]
    },
    {
     "name": "stdout",
     "output_type": "stream",
     "text": [
      "Epoch: 039, Average Loss: 0.4628\n",
      "Validation: {'precision': 0.8402084237914017, 'recall': 0.6067732831589628, 'f1': 0.7046613206920211, 'auc': 0.8361083623224621, 'prauc': 0.8460822340504424}\n",
      "Test:       {'precision': 0.829918032783484, 'recall': 0.6349952963291471, 'f1': 0.7194883589161349, 'auc': 0.8402501174029708, 'prauc': 0.8524141473239861}\n"
     ]
    },
    {
     "name": "stderr",
     "output_type": "stream",
     "text": [
      "Training Batches: 100%|██████████| 1/1 [00:00<00:00,  1.38it/s]\n",
      "Running inference: 100%|██████████| 1/1 [00:02<00:00,  2.37s/it]\n",
      "Running inference: 100%|██████████| 1/1 [00:02<00:00,  2.36s/it]\n"
     ]
    },
    {
     "name": "stdout",
     "output_type": "stream",
     "text": [
      "Epoch: 040, Average Loss: 0.4589\n",
      "Validation: {'precision': 0.8400174367879686, 'recall': 0.6042646597660575, 'f1': 0.702899867463324, 'auc': 0.8379684792395037, 'prauc': 0.8471255513428639}\n",
      "Test:       {'precision': 0.833333333329887, 'recall': 0.6318595170880155, 'f1': 0.7187444217015719, 'auc': 0.8417326413478917, 'prauc': 0.8534698127325264}\n"
     ]
    },
    {
     "name": "stderr",
     "output_type": "stream",
     "text": [
      "Training Batches: 100%|██████████| 1/1 [00:01<00:00,  1.01s/it]\n",
      "Running inference: 100%|██████████| 1/1 [00:02<00:00,  2.36s/it]\n",
      "Running inference: 100%|██████████| 1/1 [00:02<00:00,  2.37s/it]\n"
     ]
    },
    {
     "name": "stdout",
     "output_type": "stream",
     "text": [
      "Epoch: 041, Average Loss: 0.4564\n",
      "Validation: {'precision': 0.8467966573776844, 'recall': 0.5719661335824021, 'f1': 0.682762488166536, 'auc': 0.8372975671637997, 'prauc': 0.8445388798497455}\n",
      "Test:       {'precision': 0.8431978798549329, 'recall': 0.5986202571320206, 'f1': 0.7001650419045558, 'auc': 0.8412831125452812, 'prauc': 0.8522987326846505}\n"
     ]
    },
    {
     "name": "stderr",
     "output_type": "stream",
     "text": [
      "Training Batches: 100%|██████████| 1/1 [00:00<00:00,  1.41it/s]\n",
      "Running inference: 100%|██████████| 1/1 [00:02<00:00,  2.37s/it]\n",
      "Running inference: 100%|██████████| 1/1 [00:02<00:00,  2.40s/it]\n"
     ]
    },
    {
     "name": "stdout",
     "output_type": "stream",
     "text": [
      "Epoch: 042, Average Loss: 0.4524\n",
      "Validation: {'precision': 0.8450508788120026, 'recall': 0.5729068673547416, 'f1': 0.6828630114402704, 'auc': 0.8392100307961454, 'prauc': 0.8457932402171434}\n",
      "Test:       {'precision': 0.8402444347409854, 'recall': 0.6036375039178312, 'f1': 0.7025547396572481, 'auc': 0.8418473514745461, 'prauc': 0.8534770089093965}\n"
     ]
    },
    {
     "name": "stderr",
     "output_type": "stream",
     "text": [
      "Training Batches: 100%|██████████| 1/1 [00:00<00:00,  1.41it/s]\n",
      "Running inference: 100%|██████████| 1/1 [00:02<00:00,  2.37s/it]\n",
      "Running inference: 100%|██████████| 1/1 [00:02<00:00,  2.11s/it]\n"
     ]
    },
    {
     "name": "stdout",
     "output_type": "stream",
     "text": [
      "Epoch: 043, Average Loss: 0.4508\n",
      "Validation: {'precision': 0.833822912291927, 'recall': 0.6230793352128471, 'f1': 0.7132088967531737, 'auc': 0.8447493883421957, 'prauc': 0.8516976593344452}\n",
      "Test:       {'precision': 0.8230403800442477, 'recall': 0.6519285042312577, 'f1': 0.7275590501828564, 'auc': 0.8426378396444036, 'prauc': 0.8557695077726543}\n"
     ]
    },
    {
     "name": "stderr",
     "output_type": "stream",
     "text": [
      "Training Batches: 100%|██████████| 1/1 [00:00<00:00,  1.41it/s]\n",
      "Running inference: 100%|██████████| 1/1 [00:02<00:00,  2.32s/it]\n",
      "Running inference: 100%|██████████| 1/1 [00:02<00:00,  2.37s/it]\n"
     ]
    },
    {
     "name": "stdout",
     "output_type": "stream",
     "text": [
      "Epoch: 044, Average Loss: 0.4512\n",
      "Validation: {'precision': 0.8150398784625331, 'recall': 0.6729382251468393, 'f1': 0.7372037051083384, 'auc': 0.8495920121122865, 'prauc': 0.85788539241675}\n",
      "Test:       {'precision': 0.7975635972741041, 'recall': 0.6980244590758921, 'f1': 0.7444816003708287, 'auc': 0.8437641028273857, 'prauc': 0.8578687950309649}\n"
     ]
    },
    {
     "name": "stderr",
     "output_type": "stream",
     "text": [
      "Training Batches: 100%|██████████| 1/1 [00:01<00:00,  1.00s/it]\n",
      "Running inference: 100%|██████████| 1/1 [00:02<00:00,  2.35s/it]\n",
      "Running inference: 100%|██████████| 1/1 [00:02<00:00,  2.40s/it]\n"
     ]
    },
    {
     "name": "stdout",
     "output_type": "stream",
     "text": [
      "Epoch: 045, Average Loss: 0.4629\n",
      "Validation: {'precision': 0.8322690506563122, 'recall': 0.613044841641226, 'f1': 0.7060310532562176, 'auc': 0.8396079060218717, 'prauc': 0.8484651977254083}\n",
      "Test:       {'precision': 0.8311637080835063, 'recall': 0.6607086861064262, 'f1': 0.7361984576762566, 'auc': 0.8444583029444614, 'prauc': 0.8564315333353538}\n"
     ]
    },
    {
     "name": "stderr",
     "output_type": "stream",
     "text": [
      "Training Batches: 100%|██████████| 1/1 [00:00<00:00,  1.40it/s]\n",
      "Running inference: 100%|██████████| 1/1 [00:02<00:00,  2.35s/it]\n",
      "Running inference: 100%|██████████| 1/1 [00:02<00:00,  2.40s/it]\n"
     ]
    },
    {
     "name": "stdout",
     "output_type": "stream",
     "text": [
      "Epoch: 046, Average Loss: 0.4653\n",
      "Validation: {'precision': 0.8390750353900941, 'recall': 0.5575415490731969, 'f1': 0.6699321730454161, 'auc': 0.8262643665861571, 'prauc': 0.835519977780954}\n",
      "Test:       {'precision': 0.843872655905609, 'recall': 0.6067732831589628, 'f1': 0.705946729899327, 'auc': 0.8350912320491738, 'prauc': 0.8470167747366368}\n"
     ]
    },
    {
     "name": "stderr",
     "output_type": "stream",
     "text": [
      "Training Batches: 100%|██████████| 1/1 [00:00<00:00,  1.40it/s]\n",
      "Running inference: 100%|██████████| 1/1 [00:02<00:00,  2.36s/it]\n",
      "Running inference: 100%|██████████| 1/1 [00:02<00:00,  2.10s/it]\n"
     ]
    },
    {
     "name": "stdout",
     "output_type": "stream",
     "text": [
      "Epoch: 047, Average Loss: 0.4512\n",
      "Validation: {'precision': 0.8405521180350284, 'recall': 0.5537786139838389, 'f1': 0.6676748534320411, 'auc': 0.8276128219913275, 'prauc': 0.8349486863989006}\n",
      "Test:       {'precision': 0.8455392809549688, 'recall': 0.597365945435568, 'f1': 0.700110248728581, 'auc': 0.835455495843205, 'prauc': 0.847106876926514}\n"
     ]
    },
    {
     "name": "stderr",
     "output_type": "stream",
     "text": [
      "Training Batches: 100%|██████████| 1/1 [00:00<00:00,  1.39it/s]\n",
      "Running inference: 100%|██████████| 1/1 [00:02<00:00,  2.29s/it]\n",
      "Running inference: 100%|██████████| 1/1 [00:02<00:00,  2.38s/it]\n"
     ]
    },
    {
     "name": "stdout",
     "output_type": "stream",
     "text": [
      "Epoch: 048, Average Loss: 0.4540\n",
      "Validation: {'precision': 0.8364211477594378, 'recall': 0.5804327375334575, 'f1': 0.6853017352569387, 'auc': 0.8335986839573595, 'prauc': 0.8395260358486824}\n",
      "Test:       {'precision': 0.8368040798944463, 'recall': 0.6174349325788102, 'f1': 0.7105737951833876, 'auc': 0.8400668026678787, 'prauc': 0.8515485176895459}\n"
     ]
    },
    {
     "name": "stderr",
     "output_type": "stream",
     "text": [
      "Training Batches: 100%|██████████| 1/1 [00:01<00:00,  1.01s/it]\n",
      "Running inference: 100%|██████████| 1/1 [00:02<00:00,  2.36s/it]\n",
      "Running inference: 100%|██████████| 1/1 [00:02<00:00,  2.38s/it]\n"
     ]
    },
    {
     "name": "stdout",
     "output_type": "stream",
     "text": [
      "Epoch: 049, Average Loss: 0.4454\n",
      "Validation: {'precision': 0.8189448441214271, 'recall': 0.642521166507863, 'f1': 0.7200843387709123, 'auc': 0.836173368704039, 'prauc': 0.8439870627007127}\n",
      "Test:       {'precision': 0.8185343156230379, 'recall': 0.6619629978028788, 'f1': 0.7319694818772393, 'auc': 0.8411321622733039, 'prauc': 0.8541348564438739}\n"
     ]
    },
    {
     "name": "stderr",
     "output_type": "stream",
     "text": [
      "Training Batches: 100%|██████████| 1/1 [00:00<00:00,  1.40it/s]\n",
      "Running inference: 100%|██████████| 1/1 [00:02<00:00,  2.36s/it]\n",
      "Running inference: 100%|██████████| 1/1 [00:02<00:00,  2.37s/it]\n"
     ]
    },
    {
     "name": "stdout",
     "output_type": "stream",
     "text": [
      "Epoch: 050, Average Loss: 0.4489\n",
      "Validation: {'precision': 0.8112840466894503, 'recall': 0.6538099717759367, 'f1': 0.7240840374237161, 'auc': 0.8353357207856347, 'prauc': 0.8446305467914414}\n",
      "Test:       {'precision': 0.811056418020405, 'recall': 0.6716839134503867, 'f1': 0.734819892125704, 'auc': 0.8404943357156195, 'prauc': 0.8545825074809823}\n"
     ]
    },
    {
     "name": "stderr",
     "output_type": "stream",
     "text": [
      "Training Batches: 100%|██████████| 1/1 [00:00<00:00,  1.41it/s]\n",
      "Running inference: 100%|██████████| 1/1 [00:02<00:00,  2.40s/it]\n",
      "Running inference: 100%|██████████| 1/1 [00:02<00:00,  2.11s/it]\n"
     ]
    },
    {
     "name": "stdout",
     "output_type": "stream",
     "text": [
      "Epoch: 051, Average Loss: 0.4603\n",
      "Validation: {'precision': 0.8206456755646846, 'recall': 0.6456569457489945, 'f1': 0.7227097177783964, 'auc': 0.8421139673394678, 'prauc': 0.8505112822960164}\n",
      "Test:       {'precision': 0.8181471597376357, 'recall': 0.6729382251468393, 'f1': 0.738472121679427, 'auc': 0.844422767468631, 'prauc': 0.857659957567997}\n"
     ]
    },
    {
     "name": "stderr",
     "output_type": "stream",
     "text": [
      "Training Batches: 100%|██████████| 1/1 [00:00<00:00,  1.39it/s]\n",
      "Running inference: 100%|██████████| 1/1 [00:02<00:00,  2.33s/it]\n",
      "Running inference: 100%|██████████| 1/1 [00:02<00:00,  2.37s/it]\n"
     ]
    },
    {
     "name": "stdout",
     "output_type": "stream",
     "text": [
      "Epoch: 052, Average Loss: 0.4409\n",
      "Validation: {'precision': 0.8310272536652787, 'recall': 0.6215114455922812, 'f1': 0.7111589473799115, 'auc': 0.8422867818314498, 'prauc': 0.8513121958326069}\n",
      "Test:       {'precision': 0.8221450617252233, 'recall': 0.668234556285142, 'f1': 0.7372426866266243, 'auc': 0.8422949172692848, 'prauc': 0.8556386811948501}\n"
     ]
    },
    {
     "name": "stderr",
     "output_type": "stream",
     "text": [
      "Training Batches: 100%|██████████| 1/1 [00:01<00:00,  1.00s/it]\n",
      "Running inference: 100%|██████████| 1/1 [00:02<00:00,  2.33s/it]\n",
      "Running inference: 100%|██████████| 1/1 [00:02<00:00,  2.37s/it]\n"
     ]
    },
    {
     "name": "stdout",
     "output_type": "stream",
     "text": [
      "Epoch: 053, Average Loss: 0.4390\n",
      "Validation: {'precision': 0.8419677840625078, 'recall': 0.6064597052348496, 'f1': 0.7050674395335538, 'auc': 0.8405034769371524, 'prauc': 0.8505264683558269}\n",
      "Test:       {'precision': 0.8314651721343816, 'recall': 0.6513013483830313, 'f1': 0.7304378357605402, 'auc': 0.8396857274731004, 'prauc': 0.8534234731835525}\n"
     ]
    },
    {
     "name": "stderr",
     "output_type": "stream",
     "text": [
      "Training Batches: 100%|██████████| 1/1 [00:00<00:00,  1.41it/s]\n",
      "Running inference: 100%|██████████| 1/1 [00:02<00:00,  2.36s/it]\n",
      "Running inference: 100%|██████████| 1/1 [00:02<00:00,  2.40s/it]\n"
     ]
    },
    {
     "name": "stdout",
     "output_type": "stream",
     "text": [
      "Epoch: 054, Average Loss: 0.4407\n",
      "Validation: {'precision': 0.8438855160414402, 'recall': 0.6102226403242076, 'f1': 0.7082802499036012, 'auc': 0.843848944460135, 'prauc': 0.8544733922281135}\n",
      "Test:       {'precision': 0.828186856687141, 'recall': 0.6560050172447288, 'f1': 0.7321084815039253, 'auc': 0.840923831771232, 'prauc': 0.8553896421330242}\n",
      "\n",
      "Early stopping triggered after 54 epochs (no improvement for 10 epochs).\n",
      "\n",
      "Best validation performance:\n",
      "{'precision': 0.8150398784625331, 'recall': 0.6729382251468393, 'f1': 0.7372037051083384, 'auc': 0.8495920121122865, 'prauc': 0.85788539241675}\n",
      "Corresponding test performance:\n",
      "{'precision': 0.7975635972741041, 'recall': 0.6980244590758921, 'f1': 0.7444816003708287, 'auc': 0.8437641028273857, 'prauc': 0.8578687950309649}\n",
      "Corresponding test-long performance:\n",
      "{'precision': 0.8304597700910787, 'recall': 0.6296296296159122, 'f1': 0.716232956662966, 'auc': 0.8259562615482198, 'prauc': 0.849188072674387}\n",
      "[INFO] Random seed set to 3460967357\n",
      "Training with seed: 3460967357\n"
     ]
    },
    {
     "name": "stderr",
     "output_type": "stream",
     "text": [
      "Training Batches: 100%|██████████| 1/1 [00:00<00:00,  1.37it/s]\n",
      "Running inference: 100%|██████████| 1/1 [00:02<00:00,  2.36s/it]\n",
      "Running inference: 100%|██████████| 1/1 [00:02<00:00,  2.10s/it]\n"
     ]
    },
    {
     "name": "stdout",
     "output_type": "stream",
     "text": [
      "Epoch: 001, Average Loss: 0.6930\n",
      "Validation: {'precision': 0.5604238258861386, 'recall': 0.6136719974894523, 'f1': 0.5858404380559786, 'auc': 0.6090257994956028, 'prauc': 0.6024729120559432}\n",
      "Test:       {'precision': 0.5667550839947929, 'recall': 0.6030103480696049, 'f1': 0.5843208701169748, 'auc': 0.6156071205845536, 'prauc': 0.6087115556238445}\n"
     ]
    },
    {
     "name": "stderr",
     "output_type": "stream",
     "text": [
      "Training Batches: 100%|██████████| 1/1 [00:01<00:00,  1.02s/it]\n",
      "Running inference: 100%|██████████| 1/1 [00:02<00:00,  2.08s/it]\n",
      "Running inference: 100%|██████████| 1/1 [00:02<00:00,  2.10s/it]\n"
     ]
    },
    {
     "name": "stdout",
     "output_type": "stream",
     "text": [
      "Epoch: 002, Average Loss: 0.6844\n",
      "Validation: {'precision': 0.5950436496744719, 'recall': 0.6625901536511051, 'f1': 0.6270029623716133, 'auc': 0.657179854371639, 'prauc': 0.658969356594745}\n",
      "Test:       {'precision': 0.6134655846089165, 'recall': 0.6400125431149577, 'f1': 0.6264579446626894, 'auc': 0.6671365805510213, 'prauc': 0.668842370814929}\n"
     ]
    },
    {
     "name": "stderr",
     "output_type": "stream",
     "text": [
      "Training Batches: 100%|██████████| 1/1 [00:00<00:00,  1.38it/s]\n",
      "Running inference: 100%|██████████| 1/1 [00:02<00:00,  2.34s/it]\n",
      "Running inference: 100%|██████████| 1/1 [00:02<00:00,  2.40s/it]\n"
     ]
    },
    {
     "name": "stdout",
     "output_type": "stream",
     "text": [
      "Epoch: 003, Average Loss: 0.6753\n",
      "Validation: {'precision': 0.5637534043066013, 'recall': 0.7140169332056632, 'f1': 0.6300498013762025, 'auc': 0.6284645161108822, 'prauc': 0.624007995151227}\n",
      "Test:       {'precision': 0.5685678073496361, 'recall': 0.7033552837858158, 'f1': 0.6288197315276137, 'auc': 0.640164751727321, 'prauc': 0.6367949600051321}\n"
     ]
    },
    {
     "name": "stderr",
     "output_type": "stream",
     "text": [
      "Training Batches: 100%|██████████| 1/1 [00:00<00:00,  1.40it/s]\n",
      "Running inference: 100%|██████████| 1/1 [00:02<00:00,  2.37s/it]\n",
      "Running inference: 100%|██████████| 1/1 [00:02<00:00,  2.08s/it]\n"
     ]
    },
    {
     "name": "stdout",
     "output_type": "stream",
     "text": [
      "Epoch: 004, Average Loss: 0.6667\n",
      "Validation: {'precision': 0.659033078878311, 'recall': 0.6497334587624656, 'f1': 0.6543502239576049, 'auc': 0.7036520826306466, 'prauc': 0.7126738351301471}\n",
      "Test:       {'precision': 0.705903790084891, 'recall': 0.6074004390071891, 'f1': 0.6529580263760031, 'auc': 0.7235475880924949, 'prauc': 0.7329972879889841}\n"
     ]
    },
    {
     "name": "stderr",
     "output_type": "stream",
     "text": [
      "Training Batches: 100%|██████████| 1/1 [00:01<00:00,  1.01s/it]\n",
      "Running inference: 100%|██████████| 1/1 [00:02<00:00,  2.36s/it]\n",
      "Running inference: 100%|██████████| 1/1 [00:02<00:00,  2.44s/it]\n"
     ]
    },
    {
     "name": "stdout",
     "output_type": "stream",
     "text": [
      "Epoch: 005, Average Loss: 0.6522\n",
      "Validation: {'precision': 0.6531755915297224, 'recall': 0.6578864847894077, 'f1': 0.6555225695957355, 'auc': 0.6986297116941858, 'prauc': 0.7052381381963598}\n",
      "Test:       {'precision': 0.6924167257239815, 'recall': 0.6127312637171128, 'f1': 0.6501414024362059, 'auc': 0.7205093552425145, 'prauc': 0.7287169576070069}\n"
     ]
    },
    {
     "name": "stderr",
     "output_type": "stream",
     "text": [
      "Training Batches: 100%|██████████| 1/1 [00:00<00:00,  1.40it/s]\n",
      "Running inference: 100%|██████████| 1/1 [00:02<00:00,  2.35s/it]\n",
      "Running inference: 100%|██████████| 1/1 [00:02<00:00,  2.40s/it]\n"
     ]
    },
    {
     "name": "stdout",
     "output_type": "stream",
     "text": [
      "Epoch: 006, Average Loss: 0.6361\n",
      "Validation: {'precision': 0.6599369085152683, 'recall': 0.6560050172447288, 'f1': 0.6579650838484236, 'auc': 0.7001483692792501, 'prauc': 0.7050146175994771}\n",
      "Test:       {'precision': 0.6970246734372387, 'recall': 0.6023831922213786, 'f1': 0.6462573541496657, 'auc': 0.723653389183424, 'prauc': 0.7298353199368718}\n"
     ]
    },
    {
     "name": "stderr",
     "output_type": "stream",
     "text": [
      "Training Batches: 100%|██████████| 1/1 [00:00<00:00,  1.39it/s]\n",
      "Running inference: 100%|██████████| 1/1 [00:02<00:00,  2.40s/it]\n",
      "Running inference: 100%|██████████| 1/1 [00:02<00:00,  2.08s/it]\n"
     ]
    },
    {
     "name": "stdout",
     "output_type": "stream",
     "text": [
      "Epoch: 007, Average Loss: 0.6197\n",
      "Validation: {'precision': 0.6886102403319798, 'recall': 0.6199435559717155, 'f1': 0.6524752425363675, 'auc': 0.7206475338919862, 'prauc': 0.7210408473253291}\n",
      "Test:       {'precision': 0.7484170536059586, 'recall': 0.555973659452631, 'f1': 0.6379992754231979, 'auc': 0.7432012229035705, 'prauc': 0.7429286915487764}\n"
     ]
    },
    {
     "name": "stderr",
     "output_type": "stream",
     "text": [
      "Training Batches: 100%|██████████| 1/1 [00:00<00:00,  1.43it/s]\n",
      "Running inference: 100%|██████████| 1/1 [00:02<00:00,  2.33s/it]\n",
      "Running inference: 100%|██████████| 1/1 [00:02<00:00,  2.35s/it]\n"
     ]
    },
    {
     "name": "stdout",
     "output_type": "stream",
     "text": [
      "Epoch: 008, Average Loss: 0.6059\n",
      "Validation: {'precision': 0.7010563380257006, 'recall': 0.6243336469092997, 'f1': 0.6604743688742418, 'auc': 0.7309794793842861, 'prauc': 0.7280444996851738}\n",
      "Test:       {'precision': 0.7511677282346023, 'recall': 0.5547193477561784, 'f1': 0.6381673832782364, 'auc': 0.7520237856153803, 'prauc': 0.7486016837468854}\n"
     ]
    },
    {
     "name": "stderr",
     "output_type": "stream",
     "text": [
      "Training Batches: 100%|██████████| 1/1 [00:00<00:00,  1.01it/s]\n",
      "Running inference: 100%|██████████| 1/1 [00:02<00:00,  2.32s/it]\n",
      "Running inference: 100%|██████████| 1/1 [00:02<00:00,  2.42s/it]\n"
     ]
    },
    {
     "name": "stdout",
     "output_type": "stream",
     "text": [
      "Epoch: 009, Average Loss: 0.5979\n",
      "Validation: {'precision': 0.76467559216908, 'recall': 0.4656632173080412, 'f1': 0.5788345304713958, 'auc': 0.7564055148319546, 'prauc': 0.7382865985297643}\n",
      "Test:       {'precision': 0.7850255246693987, 'recall': 0.4339918469726121, 'f1': 0.5589660697257689, 'auc': 0.7535078195663565, 'prauc': 0.7427441110523646}\n"
     ]
    },
    {
     "name": "stderr",
     "output_type": "stream",
     "text": [
      "Training Batches: 100%|██████████| 1/1 [00:00<00:00,  1.40it/s]\n",
      "Running inference: 100%|██████████| 1/1 [00:02<00:00,  2.36s/it]\n",
      "Running inference: 100%|██████████| 1/1 [00:02<00:00,  2.42s/it]\n"
     ]
    },
    {
     "name": "stdout",
     "output_type": "stream",
     "text": [
      "Epoch: 010, Average Loss: 0.5936\n",
      "Validation: {'precision': 0.7682926829232257, 'recall': 0.5136406396973545, 'f1': 0.6156737407315421, 'auc': 0.7624896901586868, 'prauc': 0.7465935705929144}\n",
      "Test:       {'precision': 0.7908108108065363, 'recall': 0.4587645029775517, 'f1': 0.5806707633602761, 'auc': 0.7655129717070166, 'prauc': 0.7543613093946804}\n"
     ]
    },
    {
     "name": "stderr",
     "output_type": "stream",
     "text": [
      "Training Batches: 100%|██████████| 1/1 [00:00<00:00,  1.39it/s]\n",
      "Running inference: 100%|██████████| 1/1 [00:02<00:00,  2.42s/it]\n",
      "Running inference: 100%|██████████| 1/1 [00:02<00:00,  2.13s/it]\n"
     ]
    },
    {
     "name": "stdout",
     "output_type": "stream",
     "text": [
      "Epoch: 011, Average Loss: 0.5767\n",
      "Validation: {'precision': 0.7313320825488505, 'recall': 0.611163374096547, 'f1': 0.6658694859841481, 'auc': 0.7496181251858133, 'prauc': 0.7453165528546839}\n",
      "Test:       {'precision': 0.7790802524761989, 'recall': 0.5418626528675389, 'f1': 0.6391714395827793, 'auc': 0.768162528998408, 'prauc': 0.7615866334336039}\n"
     ]
    },
    {
     "name": "stderr",
     "output_type": "stream",
     "text": [
      "Training Batches: 100%|██████████| 1/1 [00:00<00:00,  1.39it/s]\n",
      "Running inference: 100%|██████████| 1/1 [00:02<00:00,  2.36s/it]\n",
      "Running inference: 100%|██████████| 1/1 [00:02<00:00,  2.36s/it]\n"
     ]
    },
    {
     "name": "stdout",
     "output_type": "stream",
     "text": [
      "Epoch: 012, Average Loss: 0.5692\n",
      "Validation: {'precision': 0.7584059775809116, 'recall': 0.5729068673547416, 'f1': 0.652733114065801, 'auc': 0.7554325290526782, 'prauc': 0.7490466655275003}\n",
      "Test:       {'precision': 0.8005865102600167, 'recall': 0.5136406396973545, 'f1': 0.6257879608520128, 'auc': 0.7731214895505065, 'prauc': 0.7642826323745668}\n"
     ]
    },
    {
     "name": "stderr",
     "output_type": "stream",
     "text": [
      "Training Batches: 100%|██████████| 1/1 [00:01<00:00,  1.03s/it]\n",
      "Running inference: 100%|██████████| 1/1 [00:02<00:00,  2.35s/it]\n",
      "Running inference: 100%|██████████| 1/1 [00:02<00:00,  2.42s/it]\n"
     ]
    },
    {
     "name": "stdout",
     "output_type": "stream",
     "text": [
      "Epoch: 013, Average Loss: 0.5549\n",
      "Validation: {'precision': 0.7752858399262301, 'recall': 0.5528378802114994, 'f1': 0.6454329074571408, 'auc': 0.7601235884848883, 'prauc': 0.751604832109869}\n",
      "Test:       {'precision': 0.8074375955129525, 'recall': 0.49702100971935714, 'f1': 0.6152950263366509, 'auc': 0.7774501735751961, 'prauc': 0.7665909775619993}\n"
     ]
    },
    {
     "name": "stderr",
     "output_type": "stream",
     "text": [
      "Training Batches: 100%|██████████| 1/1 [00:00<00:00,  1.38it/s]\n",
      "Running inference: 100%|██████████| 1/1 [00:02<00:00,  2.35s/it]\n",
      "Running inference: 100%|██████████| 1/1 [00:02<00:00,  2.42s/it]\n"
     ]
    },
    {
     "name": "stdout",
     "output_type": "stream",
     "text": [
      "Epoch: 014, Average Loss: 0.5477\n",
      "Validation: {'precision': 0.7716836734661068, 'recall': 0.5691439322653837, 'f1': 0.655116400092775, 'auc': 0.7615238882376529, 'prauc': 0.753457977681536}\n",
      "Test:       {'precision': 0.8094071533522322, 'recall': 0.5180307306349388, 'f1': 0.631739956997574, 'auc': 0.7804983724651402, 'prauc': 0.7699172615477562}\n"
     ]
    },
    {
     "name": "stderr",
     "output_type": "stream",
     "text": [
      "Training Batches: 100%|██████████| 1/1 [00:00<00:00,  1.39it/s]\n",
      "Running inference: 100%|██████████| 1/1 [00:02<00:00,  2.39s/it]\n",
      "Running inference: 100%|██████████| 1/1 [00:02<00:00,  2.11s/it]\n"
     ]
    },
    {
     "name": "stdout",
     "output_type": "stream",
     "text": [
      "Epoch: 015, Average Loss: 0.5421\n",
      "Validation: {'precision': 0.7638945233234731, 'recall': 0.5904672311050785, 'f1': 0.6660771086275598, 'auc': 0.7634404712852143, 'prauc': 0.7566269099408214}\n",
      "Test:       {'precision': 0.8047641289079647, 'recall': 0.5402947632469731, 'f1': 0.646529075866299, 'auc': 0.784096012225009, 'prauc': 0.7741110871562267}\n"
     ]
    },
    {
     "name": "stderr",
     "output_type": "stream",
     "text": [
      "Training Batches: 100%|██████████| 1/1 [00:00<00:00,  1.40it/s]\n",
      "Running inference: 100%|██████████| 1/1 [00:02<00:00,  2.33s/it]\n",
      "Running inference: 100%|██████████| 1/1 [00:02<00:00,  2.36s/it]\n"
     ]
    },
    {
     "name": "stdout",
     "output_type": "stream",
     "text": [
      "Epoch: 016, Average Loss: 0.5415\n",
      "Validation: {'precision': 0.7942583732019414, 'recall': 0.520539354027844, 'f1': 0.6289069851745388, 'auc': 0.7811718410038352, 'prauc': 0.7637977780970487}\n",
      "Test:       {'precision': 0.8143899895682253, 'recall': 0.48980871746475446, 'f1': 0.6117094137525673, 'auc': 0.7925007059278308, 'prauc': 0.77701106545983}\n"
     ]
    },
    {
     "name": "stderr",
     "output_type": "stream",
     "text": [
      "Training Batches: 100%|██████████| 1/1 [00:01<00:00,  1.01s/it]\n",
      "Running inference: 100%|██████████| 1/1 [00:02<00:00,  2.37s/it]\n",
      "Running inference: 100%|██████████| 1/1 [00:02<00:00,  2.40s/it]\n"
     ]
    },
    {
     "name": "stdout",
     "output_type": "stream",
     "text": [
      "Epoch: 017, Average Loss: 0.5294\n",
      "Validation: {'precision': 0.805985037402464, 'recall': 0.506741925366865, 'f1': 0.6222564450071334, 'auc': 0.7871848810629376, 'prauc': 0.7677452682071573}\n",
      "Test:       {'precision': 0.8216560509510529, 'recall': 0.4854186265271702, 'f1': 0.6102897646957054, 'auc': 0.7956401595170398, 'prauc': 0.7799332513508144}\n"
     ]
    },
    {
     "name": "stderr",
     "output_type": "stream",
     "text": [
      "Training Batches: 100%|██████████| 1/1 [00:00<00:00,  1.41it/s]\n",
      "Running inference: 100%|██████████| 1/1 [00:02<00:00,  2.39s/it]\n",
      "Running inference: 100%|██████████| 1/1 [00:02<00:00,  2.43s/it]\n"
     ]
    },
    {
     "name": "stdout",
     "output_type": "stream",
     "text": [
      "Epoch: 018, Average Loss: 0.5285\n",
      "Validation: {'precision': 0.7844387755068689, 'recall': 0.5785512699887785, 'f1': 0.6659447704230013, 'auc': 0.7813284792555795, 'prauc': 0.7692216104281753}\n",
      "Test:       {'precision': 0.815227483747376, 'recall': 0.5506428347427074, 'f1': 0.657308623296708, 'auc': 0.7935401437626431, 'prauc': 0.7841964992815131}\n"
     ]
    },
    {
     "name": "stderr",
     "output_type": "stream",
     "text": [
      "Training Batches: 100%|██████████| 1/1 [00:00<00:00,  1.39it/s]\n",
      "Running inference: 100%|██████████| 1/1 [00:02<00:00,  2.38s/it]\n",
      "Running inference: 100%|██████████| 1/1 [00:02<00:00,  2.11s/it]\n"
     ]
    },
    {
     "name": "stdout",
     "output_type": "stream",
     "text": [
      "Epoch: 019, Average Loss: 0.5284\n",
      "Validation: {'precision': 0.7983794089571098, 'recall': 0.5252430228895414, 'f1': 0.6336296528613572, 'auc': 0.787909194826135, 'prauc': 0.7723440187596365}\n",
      "Test:       {'precision': 0.8211986131707717, 'recall': 0.5199121981796178, 'f1': 0.6367127448658783, 'auc': 0.7962145154868738, 'prauc': 0.7858700133938227}\n"
     ]
    },
    {
     "name": "stderr",
     "output_type": "stream",
     "text": [
      "Training Batches: 100%|██████████| 1/1 [00:00<00:00,  1.38it/s]\n",
      "Running inference: 100%|██████████| 1/1 [00:02<00:00,  2.34s/it]\n",
      "Running inference: 100%|██████████| 1/1 [00:02<00:00,  2.36s/it]\n"
     ]
    },
    {
     "name": "stdout",
     "output_type": "stream",
     "text": [
      "Epoch: 020, Average Loss: 0.5116\n",
      "Validation: {'precision': 0.8103837471737564, 'recall': 0.4502978990264964, 'f1': 0.5789155366271107, 'auc': 0.7885252985847597, 'prauc': 0.770183894415092}\n",
      "Test:       {'precision': 0.8380843785585058, 'recall': 0.46095954844634385, 'f1': 0.5947804930924693, 'auc': 0.7950856349600628, 'prauc': 0.7834647228828331}\n"
     ]
    },
    {
     "name": "stderr",
     "output_type": "stream",
     "text": [
      "Training Batches: 100%|██████████| 1/1 [00:01<00:00,  1.01s/it]\n",
      "Running inference: 100%|██████████| 1/1 [00:02<00:00,  2.34s/it]\n",
      "Running inference: 100%|██████████| 1/1 [00:02<00:00,  2.42s/it]\n"
     ]
    },
    {
     "name": "stdout",
     "output_type": "stream",
     "text": [
      "Epoch: 021, Average Loss: 0.5195\n",
      "Validation: {'precision': 0.8178613395956648, 'recall': 0.4365004703655174, 'f1': 0.5692087462265514, 'auc': 0.7874615851971929, 'prauc': 0.771217345051275}\n",
      "Test:       {'precision': 0.8382780686396843, 'recall': 0.4518657886470622, 'f1': 0.5872045594233216, 'auc': 0.794333651944611, 'prauc': 0.7841614576566992}\n"
     ]
    },
    {
     "name": "stderr",
     "output_type": "stream",
     "text": [
      "Training Batches: 100%|██████████| 1/1 [00:00<00:00,  1.39it/s]\n",
      "Running inference: 100%|██████████| 1/1 [00:02<00:00,  2.34s/it]\n",
      "Running inference: 100%|██████████| 1/1 [00:02<00:00,  2.41s/it]\n"
     ]
    },
    {
     "name": "stdout",
     "output_type": "stream",
     "text": [
      "Epoch: 022, Average Loss: 0.5180\n",
      "Validation: {'precision': 0.8223981900405973, 'recall': 0.4559423016605333, 'f1': 0.5866451436836847, 'auc': 0.7928124041419614, 'prauc': 0.7778958860333651}\n",
      "Test:       {'precision': 0.8380520951254924, 'recall': 0.4640953276874754, 'f1': 0.5973763828973504, 'auc': 0.7987942098314481, 'prauc': 0.7902313788299836}\n"
     ]
    },
    {
     "name": "stderr",
     "output_type": "stream",
     "text": [
      "Training Batches: 100%|██████████| 1/1 [00:00<00:00,  1.40it/s]\n",
      "Running inference: 100%|██████████| 1/1 [00:02<00:00,  2.41s/it]\n",
      "Running inference: 100%|██████████| 1/1 [00:02<00:00,  2.11s/it]\n"
     ]
    },
    {
     "name": "stdout",
     "output_type": "stream",
     "text": [
      "Epoch: 023, Average Loss: 0.5043\n",
      "Validation: {'precision': 0.8233944954081228, 'recall': 0.4502978990264964, 'f1': 0.5822014955280237, 'auc': 0.7911981962185979, 'prauc': 0.7786779208115027}\n",
      "Test:       {'precision': 0.8396816372891435, 'recall': 0.4631545939151359, 'f1': 0.5970088878970191, 'auc': 0.798869911468345, 'prauc': 0.7916589146966239}\n"
     ]
    },
    {
     "name": "stderr",
     "output_type": "stream",
     "text": [
      "Training Batches: 100%|██████████| 1/1 [00:00<00:00,  1.42it/s]\n",
      "Running inference: 100%|██████████| 1/1 [00:02<00:00,  2.36s/it]\n",
      "Running inference: 100%|██████████| 1/1 [00:02<00:00,  2.37s/it]\n"
     ]
    },
    {
     "name": "stdout",
     "output_type": "stream",
     "text": [
      "Epoch: 024, Average Loss: 0.5043\n",
      "Validation: {'precision': 0.8278409090862054, 'recall': 0.45688303543287273, 'f1': 0.5888058147719355, 'auc': 0.7948634710252893, 'prauc': 0.7831373588276906}\n",
      "Test:       {'precision': 0.8383267382654702, 'recall': 0.4650360614598149, 'f1': 0.5982250861701326, 'auc': 0.8012202862266811, 'prauc': 0.7938373347429648}\n"
     ]
    },
    {
     "name": "stderr",
     "output_type": "stream",
     "text": [
      "Training Batches: 100%|██████████| 1/1 [00:01<00:00,  1.02s/it]\n",
      "Running inference: 100%|██████████| 1/1 [00:02<00:00,  2.36s/it]\n",
      "Running inference: 100%|██████████| 1/1 [00:02<00:00,  2.41s/it]\n"
     ]
    },
    {
     "name": "stdout",
     "output_type": "stream",
     "text": [
      "Epoch: 025, Average Loss: 0.5020\n",
      "Validation: {'precision': 0.8277835587886172, 'recall': 0.4989024772640361, 'f1': 0.6225787470168214, 'auc': 0.8054511216815976, 'prauc': 0.7934500944624874}\n",
      "Test:       {'precision': 0.8333333333289931, 'recall': 0.5017246785810545, 'f1': 0.6263456598196275, 'auc': 0.8073230763655361, 'prauc': 0.8013417783732575}\n",
      "\n",
      "Early stopping triggered after 25 epochs (no improvement for 10 epochs).\n",
      "\n",
      "Best validation performance:\n",
      "{'precision': 0.7638945233234731, 'recall': 0.5904672311050785, 'f1': 0.6660771086275598, 'auc': 0.7634404712852143, 'prauc': 0.7566269099408214}\n",
      "Corresponding test performance:\n",
      "{'precision': 0.8047641289079647, 'recall': 0.5402947632469731, 'f1': 0.646529075866299, 'auc': 0.784096012225009, 'prauc': 0.7741110871562267}\n",
      "Corresponding test-long performance:\n",
      "{'precision': 0.8319327730742885, 'recall': 0.4313725490102097, 'f1': 0.5681492063902481, 'auc': 0.773425994870522, 'prauc': 0.7834775649313486}\n",
      "[INFO] Random seed set to 2998485882\n",
      "Training with seed: 2998485882\n"
     ]
    },
    {
     "name": "stderr",
     "output_type": "stream",
     "text": [
      "Training Batches: 100%|██████████| 1/1 [00:00<00:00,  1.39it/s]\n",
      "Running inference: 100%|██████████| 1/1 [00:02<00:00,  2.37s/it]\n",
      "Running inference: 100%|██████████| 1/1 [00:02<00:00,  2.39s/it]\n"
     ]
    },
    {
     "name": "stdout",
     "output_type": "stream",
     "text": [
      "Epoch: 001, Average Loss: 0.6946\n",
      "Validation: {'precision': 0.7499999999184783, 'recall': 0.021636876763807975, 'f1': 0.04206034690970827, 'auc': 0.6173464153903764, 'prauc': 0.6251670469549082}\n",
      "Test:       {'precision': 0.6486486484733381, 'recall': 0.007525870178715818, 'f1': 0.014879107026717209, 'auc': 0.6225485680864247, 'prauc': 0.6256086145327967}\n"
     ]
    },
    {
     "name": "stderr",
     "output_type": "stream",
     "text": [
      "Training Batches: 100%|██████████| 1/1 [00:00<00:00,  1.39it/s]\n",
      "Running inference: 100%|██████████| 1/1 [00:02<00:00,  2.37s/it]\n",
      "Running inference: 100%|██████████| 1/1 [00:02<00:00,  2.08s/it]\n"
     ]
    },
    {
     "name": "stdout",
     "output_type": "stream",
     "text": [
      "Epoch: 002, Average Loss: 0.6863\n",
      "Validation: {'precision': 0.6096291476883227, 'recall': 0.5876450297880601, 'f1': 0.5984352496700607, 'auc': 0.6471665607173167, 'prauc': 0.6609651585490492}\n",
      "Test:       {'precision': 0.6540212443070789, 'recall': 0.5406083411710862, 'f1': 0.5919313255151347, 'auc': 0.6595301263824734, 'prauc': 0.6763024734364962}\n"
     ]
    },
    {
     "name": "stderr",
     "output_type": "stream",
     "text": [
      "Training Batches: 100%|██████████| 1/1 [00:01<00:00,  1.03s/it]\n",
      "Running inference: 100%|██████████| 1/1 [00:02<00:00,  2.36s/it]\n",
      "Running inference: 100%|██████████| 1/1 [00:02<00:00,  2.37s/it]\n"
     ]
    },
    {
     "name": "stdout",
     "output_type": "stream",
     "text": [
      "Epoch: 003, Average Loss: 0.6778\n",
      "Validation: {'precision': 0.5700207468864885, 'recall': 0.6892442772007237, 'f1': 0.6239886394717201, 'auc': 0.6395644311203131, 'prauc': 0.6427290181223508}\n",
      "Test:       {'precision': 0.5805050230774356, 'recall': 0.6704296017539341, 'f1': 0.6222351521835148, 'auc': 0.6553920051219405, 'prauc': 0.6611481313042382}\n"
     ]
    },
    {
     "name": "stderr",
     "output_type": "stream",
     "text": [
      "Training Batches: 100%|██████████| 1/1 [00:00<00:00,  1.38it/s]\n",
      "Running inference: 100%|██████████| 1/1 [00:02<00:00,  2.36s/it]\n",
      "Running inference: 100%|██████████| 1/1 [00:02<00:00,  2.43s/it]\n"
     ]
    },
    {
     "name": "stdout",
     "output_type": "stream",
     "text": [
      "Epoch: 004, Average Loss: 0.6670\n",
      "Validation: {'precision': 0.7017543859623998, 'recall': 0.6146127312617917, 'f1': 0.655299226046133, 'auc': 0.724356263505528, 'prauc': 0.7404553950157381}\n",
      "Test:       {'precision': 0.7680278019080451, 'recall': 0.5544057698320652, 'f1': 0.6439628434253394, 'auc': 0.745866131923189, 'prauc': 0.7595851871628687}\n"
     ]
    },
    {
     "name": "stderr",
     "output_type": "stream",
     "text": [
      "Training Batches: 100%|██████████| 1/1 [00:00<00:00,  1.41it/s]\n",
      "Running inference: 100%|██████████| 1/1 [00:02<00:00,  2.38s/it]\n",
      "Running inference: 100%|██████████| 1/1 [00:02<00:00,  2.07s/it]\n"
     ]
    },
    {
     "name": "stdout",
     "output_type": "stream",
     "text": [
      "Epoch: 005, Average Loss: 0.6538\n",
      "Validation: {'precision': 0.629239099456742, 'recall': 0.6923800564418552, 'f1': 0.6593012789748066, 'auc': 0.6949992509697454, 'prauc': 0.7002211156939742}\n",
      "Test:       {'precision': 0.683223684208279, 'recall': 0.6513013483830313, 'f1': 0.6668807142172875, 'auc': 0.7211985220060733, 'prauc': 0.7341812260553868}\n"
     ]
    },
    {
     "name": "stderr",
     "output_type": "stream",
     "text": [
      "Training Batches: 100%|██████████| 1/1 [00:01<00:00,  1.02s/it]\n",
      "Running inference: 100%|██████████| 1/1 [00:02<00:00,  2.08s/it]\n",
      "Running inference: 100%|██████████| 1/1 [00:02<00:00,  2.36s/it]\n"
     ]
    },
    {
     "name": "stdout",
     "output_type": "stream",
     "text": [
      "Epoch: 006, Average Loss: 0.6389\n",
      "Validation: {'precision': 0.7161506900383583, 'recall': 0.6020696142972654, 'f1': 0.6541737599415218, 'auc': 0.7375573816956698, 'prauc': 0.7420273197162346}\n",
      "Test:       {'precision': 0.7722994172981968, 'recall': 0.5402947632469731, 'f1': 0.6357933530874411, 'auc': 0.7562345381671647, 'prauc': 0.7621323170432468}\n"
     ]
    },
    {
     "name": "stderr",
     "output_type": "stream",
     "text": [
      "Training Batches: 100%|██████████| 1/1 [00:01<00:00,  1.32s/it]\n",
      "Running inference: 100%|██████████| 1/1 [00:02<00:00,  2.06s/it]\n",
      "Running inference: 100%|██████████| 1/1 [00:02<00:00,  2.38s/it]\n"
     ]
    },
    {
     "name": "stdout",
     "output_type": "stream",
     "text": [
      "Epoch: 007, Average Loss: 0.6274\n",
      "Validation: {'precision': 0.6597347799859562, 'recall': 0.6864220758837052, 'f1': 0.6728138877308023, 'auc': 0.7212555495304922, 'prauc': 0.7285507849337494}\n",
      "Test:       {'precision': 0.7173990710942573, 'recall': 0.6296644716192235, 'f1': 0.6706746777177006, 'auc': 0.7478660846096659, 'prauc': 0.7588322056948269}\n"
     ]
    },
    {
     "name": "stderr",
     "output_type": "stream",
     "text": [
      "Training Batches: 100%|██████████| 1/1 [00:01<00:00,  1.02s/it]\n",
      "Running inference: 100%|██████████| 1/1 [00:02<00:00,  2.39s/it]\n",
      "Running inference: 100%|██████████| 1/1 [00:02<00:00,  2.06s/it]\n"
     ]
    },
    {
     "name": "stdout",
     "output_type": "stream",
     "text": [
      "Epoch: 008, Average Loss: 0.6113\n",
      "Validation: {'precision': 0.7317993210081788, 'recall': 0.6083411727795286, 'f1': 0.6643835566839938, 'auc': 0.7547963305856834, 'prauc': 0.7548489134089129}\n",
      "Test:       {'precision': 0.775574583142066, 'recall': 0.5396676073987468, 'f1': 0.6364644921999235, 'auc': 0.765861984439891, 'prauc': 0.7674762983418328}\n"
     ]
    },
    {
     "name": "stderr",
     "output_type": "stream",
     "text": [
      "Training Batches: 100%|██████████| 1/1 [00:01<00:00,  1.33s/it]\n",
      "Running inference: 100%|██████████| 1/1 [00:02<00:00,  2.06s/it]\n",
      "Running inference: 100%|██████████| 1/1 [00:02<00:00,  2.35s/it]\n"
     ]
    },
    {
     "name": "stdout",
     "output_type": "stream",
     "text": [
      "Epoch: 009, Average Loss: 0.5985\n",
      "Validation: {'precision': 0.724674384946727, 'recall': 0.6280965819986576, 'f1': 0.6729380094697213, 'auc': 0.7557901143881226, 'prauc': 0.7570315461904352}\n",
      "Test:       {'precision': 0.7758771929790532, 'recall': 0.5547193477561784, 'f1': 0.6469189931244258, 'auc': 0.7695107630714931, 'prauc': 0.7719198608249207}\n"
     ]
    },
    {
     "name": "stderr",
     "output_type": "stream",
     "text": [
      "Training Batches: 100%|██████████| 1/1 [00:01<00:00,  1.00s/it]\n",
      "Running inference: 100%|██████████| 1/1 [00:02<00:00,  2.34s/it]\n",
      "Running inference: 100%|██████████| 1/1 [00:02<00:00,  2.38s/it]\n"
     ]
    },
    {
     "name": "stdout",
     "output_type": "stream",
     "text": [
      "Epoch: 010, Average Loss: 0.5790\n",
      "Validation: {'precision': 0.6711165048523328, 'recall': 0.6936343681383078, 'f1': 0.6821896634649474, 'auc': 0.7382745618373958, 'prauc': 0.7475576015873251}\n",
      "Test:       {'precision': 0.7406576980540335, 'recall': 0.6215114455922812, 'f1': 0.675873822827935, 'auc': 0.7659375350761823, 'prauc': 0.7756881007019224}\n"
     ]
    },
    {
     "name": "stderr",
     "output_type": "stream",
     "text": [
      "Training Batches: 100%|██████████| 1/1 [00:00<00:00,  1.40it/s]\n",
      "Running inference: 100%|██████████| 1/1 [00:02<00:00,  2.32s/it]\n",
      "Running inference: 100%|██████████| 1/1 [00:02<00:00,  2.36s/it]\n"
     ]
    },
    {
     "name": "stdout",
     "output_type": "stream",
     "text": [
      "Epoch: 011, Average Loss: 0.5748\n",
      "Validation: {'precision': 0.7178251892611225, 'recall': 0.6541235497000498, 'f1': 0.6844954831135375, 'auc': 0.7571781563687817, 'prauc': 0.7620378465362417}\n",
      "Test:       {'precision': 0.7761444771071981, 'recall': 0.579492003761118, 'f1': 0.6635547527329952, 'auc': 0.7767351353745595, 'prauc': 0.7811714963565495}\n"
     ]
    },
    {
     "name": "stderr",
     "output_type": "stream",
     "text": [
      "Training Batches: 100%|██████████| 1/1 [00:01<00:00,  1.03s/it]\n",
      "Running inference: 100%|██████████| 1/1 [00:02<00:00,  2.35s/it]\n",
      "Running inference: 100%|██████████| 1/1 [00:02<00:00,  2.05s/it]\n"
     ]
    },
    {
     "name": "stdout",
     "output_type": "stream",
     "text": [
      "Epoch: 012, Average Loss: 0.5643\n",
      "Validation: {'precision': 0.7734553775708309, 'recall': 0.5299466917512388, 'f1': 0.6289542192138603, 'auc': 0.7766772575827131, 'prauc': 0.7679422078872169}\n",
      "Test:       {'precision': 0.7965738757987336, 'recall': 0.46660395108038066, 'f1': 0.5884911956552507, 'auc': 0.771565478644236, 'prauc': 0.7678404250020371}\n"
     ]
    },
    {
     "name": "stderr",
     "output_type": "stream",
     "text": [
      "Training Batches: 100%|██████████| 1/1 [00:01<00:00,  1.59s/it]\n",
      "Running inference: 100%|██████████| 1/1 [00:02<00:00,  2.07s/it]\n",
      "Running inference: 100%|██████████| 1/1 [00:02<00:00,  2.07s/it]\n"
     ]
    },
    {
     "name": "stdout",
     "output_type": "stream",
     "text": [
      "Epoch: 013, Average Loss: 0.5710\n",
      "Validation: {'precision': 0.7704280155608715, 'recall': 0.5587958607696495, 'f1': 0.6477644444155591, 'auc': 0.7801415853057043, 'prauc': 0.7719556953648075}\n",
      "Test:       {'precision': 0.7912306925720417, 'recall': 0.4979617434916966, 'f1': 0.6112394101909543, 'auc': 0.775865673888019, 'prauc': 0.772716515291535}\n"
     ]
    },
    {
     "name": "stderr",
     "output_type": "stream",
     "text": [
      "Training Batches: 100%|██████████| 1/1 [00:01<00:00,  1.03s/it]\n",
      "Running inference: 100%|██████████| 1/1 [00:02<00:00,  2.06s/it]\n",
      "Running inference: 100%|██████████| 1/1 [00:02<00:00,  2.35s/it]\n"
     ]
    },
    {
     "name": "stdout",
     "output_type": "stream",
     "text": [
      "Epoch: 014, Average Loss: 0.5514\n",
      "Validation: {'precision': 0.7404332129937169, 'recall': 0.6431483223560892, 'f1': 0.688370526990861, 'auc': 0.7764268775164227, 'prauc': 0.7770854576831605}\n",
      "Test:       {'precision': 0.785532994920535, 'recall': 0.5823142050781364, 'f1': 0.668827655831887, 'auc': 0.7887802523421451, 'prauc': 0.7901223614868709}\n"
     ]
    },
    {
     "name": "stderr",
     "output_type": "stream",
     "text": [
      "Training Batches: 100%|██████████| 1/1 [00:01<00:00,  1.35s/it]\n",
      "Running inference: 100%|██████████| 1/1 [00:02<00:00,  2.09s/it]\n",
      "Running inference: 100%|██████████| 1/1 [00:02<00:00,  2.07s/it]\n"
     ]
    },
    {
     "name": "stdout",
     "output_type": "stream",
     "text": [
      "Epoch: 015, Average Loss: 0.5551\n",
      "Validation: {'precision': 0.7571483034664234, 'recall': 0.6227657572887338, 'f1': 0.6834136220237321, 'auc': 0.7797283376280748, 'prauc': 0.7790177404064813}\n",
      "Test:       {'precision': 0.7941047074316142, 'recall': 0.5660081530242521, 'f1': 0.660930057386464, 'auc': 0.7908658727054829, 'prauc': 0.7910634201924087}\n"
     ]
    },
    {
     "name": "stderr",
     "output_type": "stream",
     "text": [
      "Training Batches: 100%|██████████| 1/1 [00:01<00:00,  1.32s/it]\n",
      "Running inference: 100%|██████████| 1/1 [00:02<00:00,  2.07s/it]\n",
      "Running inference: 100%|██████████| 1/1 [00:02<00:00,  2.08s/it]\n"
     ]
    },
    {
     "name": "stdout",
     "output_type": "stream",
     "text": [
      "Epoch: 016, Average Loss: 0.5383\n",
      "Validation: {'precision': 0.7753096967074955, 'recall': 0.5691439322653837, 'f1': 0.6564195249524515, 'auc': 0.785891183738076, 'prauc': 0.7811409343395983}\n",
      "Test:       {'precision': 0.8107194591945402, 'recall': 0.526497334585994, 'f1': 0.63840303704855, 'auc': 0.791540140742631, 'prauc': 0.7886699466772671}\n"
     ]
    },
    {
     "name": "stderr",
     "output_type": "stream",
     "text": [
      "Training Batches: 100%|██████████| 1/1 [00:01<00:00,  1.00s/it]\n",
      "Running inference: 100%|██████████| 1/1 [00:02<00:00,  2.39s/it]\n",
      "Running inference: 100%|██████████| 1/1 [00:01<00:00,  1.74s/it]\n"
     ]
    },
    {
     "name": "stdout",
     "output_type": "stream",
     "text": [
      "Epoch: 017, Average Loss: 0.5333\n",
      "Validation: {'precision': 0.7866541353346492, 'recall': 0.5249294449654283, 'f1': 0.6296783852663179, 'auc': 0.7842193040016904, 'prauc': 0.7769337408326797}\n",
      "Test:       {'precision': 0.8097740409836586, 'recall': 0.4832235810583781, 'f1': 0.6052631532112748, 'auc': 0.783297420355989, 'prauc': 0.7790060219613553}\n"
     ]
    },
    {
     "name": "stderr",
     "output_type": "stream",
     "text": [
      "Training Batches: 100%|██████████| 1/1 [00:01<00:00,  1.31s/it]\n",
      "Running inference: 100%|██████████| 1/1 [00:02<00:00,  2.37s/it]\n",
      "Running inference: 100%|██████████| 1/1 [00:01<00:00,  1.76s/it]\n"
     ]
    },
    {
     "name": "stdout",
     "output_type": "stream",
     "text": [
      "Epoch: 018, Average Loss: 0.5262\n",
      "Validation: {'precision': 0.7824186498262146, 'recall': 0.5051740357462993, 'f1': 0.6139481659611814, 'auc': 0.777293260867796, 'prauc': 0.7717855902942481}\n",
      "Test:       {'precision': 0.8026666666623858, 'recall': 0.4719347757903044, 'f1': 0.5943917804843776, 'auc': 0.7757310820149722, 'prauc': 0.772773013018259}\n"
     ]
    },
    {
     "name": "stderr",
     "output_type": "stream",
     "text": [
      "Training Batches: 100%|██████████| 1/1 [00:01<00:00,  1.32s/it]\n",
      "Running inference: 100%|██████████| 1/1 [00:02<00:00,  2.08s/it]\n",
      "Running inference: 100%|██████████| 1/1 [00:02<00:00,  2.42s/it]\n"
     ]
    },
    {
     "name": "stdout",
     "output_type": "stream",
     "text": [
      "Epoch: 019, Average Loss: 0.5304\n",
      "Validation: {'precision': 0.7909967845622831, 'recall': 0.5399811853228599, 'f1': 0.6418188546610984, 'auc': 0.7834261156255549, 'prauc': 0.7802323212378683}\n",
      "Test:       {'precision': 0.8047426841533566, 'recall': 0.5001567889604887, 'f1': 0.6169019484705733, 'auc': 0.7845788114943675, 'prauc': 0.7823298300007213}\n"
     ]
    },
    {
     "name": "stderr",
     "output_type": "stream",
     "text": [
      "Training Batches: 100%|██████████| 1/1 [00:00<00:00,  1.41it/s]\n",
      "Running inference: 100%|██████████| 1/1 [00:02<00:00,  2.32s/it]\n",
      "Running inference: 100%|██████████| 1/1 [00:02<00:00,  2.38s/it]\n"
     ]
    },
    {
     "name": "stdout",
     "output_type": "stream",
     "text": [
      "Epoch: 020, Average Loss: 0.5171\n",
      "Validation: {'precision': 0.7931338028134105, 'recall': 0.5650674192519126, 'f1': 0.6599523848107864, 'auc': 0.788838876508874, 'prauc': 0.7880066794463889}\n",
      "Test:       {'precision': 0.811475409832153, 'recall': 0.5277516462824468, 'f1': 0.6395591819975885, 'auc': 0.7934335876686867, 'prauc': 0.7917958486619443}\n"
     ]
    },
    {
     "name": "stderr",
     "output_type": "stream",
     "text": [
      "Training Batches: 100%|██████████| 1/1 [00:01<00:00,  1.03s/it]\n",
      "Running inference: 100%|██████████| 1/1 [00:02<00:00,  2.35s/it]\n",
      "Running inference: 100%|██████████| 1/1 [00:02<00:00,  2.43s/it]\n"
     ]
    },
    {
     "name": "stdout",
     "output_type": "stream",
     "text": [
      "Epoch: 021, Average Loss: 0.5195\n",
      "Validation: {'precision': 0.8053382420579598, 'recall': 0.5487613671980284, 'f1': 0.652741509537395, 'auc': 0.7913962295695844, 'prauc': 0.7905160619114848}\n",
      "Test:       {'precision': 0.8215183509259854, 'recall': 0.5123863280009019, 'f1': 0.6311317063514631, 'auc': 0.7968772068109325, 'prauc': 0.7948564904740245}\n"
     ]
    },
    {
     "name": "stderr",
     "output_type": "stream",
     "text": [
      "Training Batches: 100%|██████████| 1/1 [00:01<00:00,  1.04s/it]\n",
      "Running inference: 100%|██████████| 1/1 [00:02<00:00,  2.09s/it]\n",
      "Running inference: 100%|██████████| 1/1 [00:02<00:00,  2.09s/it]\n"
     ]
    },
    {
     "name": "stdout",
     "output_type": "stream",
     "text": [
      "Epoch: 022, Average Loss: 0.5127\n",
      "Validation: {'precision': 0.8193612774410212, 'recall': 0.5148949513938071, 'f1': 0.6323897506979373, 'auc': 0.7909727838274572, 'prauc': 0.7893475311116992}\n",
      "Test:       {'precision': 0.8313953488328151, 'recall': 0.4932580746299992, 'f1': 0.6191694501550894, 'auc': 0.7960425761307304, 'prauc': 0.793958795196825}\n"
     ]
    },
    {
     "name": "stderr",
     "output_type": "stream",
     "text": [
      "Training Batches: 100%|██████████| 1/1 [00:01<00:00,  1.31s/it]\n",
      "Running inference: 100%|██████████| 1/1 [00:02<00:00,  2.06s/it]\n",
      "Running inference: 100%|██████████| 1/1 [00:02<00:00,  2.07s/it]\n"
     ]
    },
    {
     "name": "stdout",
     "output_type": "stream",
     "text": [
      "Epoch: 023, Average Loss: 0.5134\n",
      "Validation: {'precision': 0.8202811244938741, 'recall': 0.5123863280009019, 'f1': 0.6307662566039641, 'auc': 0.7914050712412672, 'prauc': 0.7896510873520366}\n",
      "Test:       {'precision': 0.831223628687599, 'recall': 0.4941988084023387, 'f1': 0.6198623355371693, 'auc': 0.7974707398576669, 'prauc': 0.7967045760428642}\n"
     ]
    },
    {
     "name": "stderr",
     "output_type": "stream",
     "text": [
      "Training Batches: 100%|██████████| 1/1 [00:01<00:00,  1.33s/it]\n",
      "Running inference: 100%|██████████| 1/1 [00:02<00:00,  2.06s/it]\n",
      "Running inference: 100%|██████████| 1/1 [00:02<00:00,  2.09s/it]\n"
     ]
    },
    {
     "name": "stdout",
     "output_type": "stream",
     "text": [
      "Epoch: 024, Average Loss: 0.5180\n",
      "Validation: {'precision': 0.8282666666622492, 'recall': 0.486986516147736, 'f1': 0.6133491264558667, 'auc': 0.7874744458105497, 'prauc': 0.7877407338963149}\n",
      "Test:       {'precision': 0.8328690807753044, 'recall': 0.4687989965491728, 'f1': 0.5999197385669093, 'auc': 0.7913949788271984, 'prauc': 0.7929314613042989}\n",
      "\n",
      "Early stopping triggered after 24 epochs (no improvement for 10 epochs).\n",
      "\n",
      "Best validation performance:\n",
      "{'precision': 0.7404332129937169, 'recall': 0.6431483223560892, 'f1': 0.688370526990861, 'auc': 0.7764268775164227, 'prauc': 0.7770854576831605}\n",
      "Corresponding test performance:\n",
      "{'precision': 0.785532994920535, 'recall': 0.5823142050781364, 'f1': 0.668827655831887, 'auc': 0.7887802523421451, 'prauc': 0.7901223614868709}\n",
      "Corresponding test-long performance:\n",
      "{'precision': 0.7986577180940048, 'recall': 0.5185185185072219, 'f1': 0.6287978816032138, 'auc': 0.7786382063373873, 'prauc': 0.7993691637676816}\n",
      "[INFO] Random seed set to 1461364854\n",
      "Training with seed: 1461364854\n"
     ]
    },
    {
     "name": "stderr",
     "output_type": "stream",
     "text": [
      "Training Batches: 100%|██████████| 1/1 [00:01<00:00,  1.02s/it]\n",
      "Running inference: 100%|██████████| 1/1 [00:02<00:00,  2.40s/it]\n",
      "Running inference: 100%|██████████| 1/1 [00:01<00:00,  1.77s/it]\n"
     ]
    },
    {
     "name": "stdout",
     "output_type": "stream",
     "text": [
      "Epoch: 001, Average Loss: 0.6934\n",
      "Validation: {'precision': 0.5468897266716615, 'recall': 0.7278143618666422, 'f1': 0.6245123050681037, 'auc': 0.6012101636221676, 'prauc': 0.6085265188343082}\n",
      "Test:       {'precision': 0.5513931163648996, 'recall': 0.7384760112864895, 'f1': 0.6313672873286919, 'auc': 0.6038649108316259, 'prauc': 0.6075350372285503}\n"
     ]
    },
    {
     "name": "stderr",
     "output_type": "stream",
     "text": [
      "Training Batches: 100%|██████████| 1/1 [00:01<00:00,  1.28s/it]\n",
      "Running inference: 100%|██████████| 1/1 [00:02<00:00,  2.39s/it]\n",
      "Running inference: 100%|██████████| 1/1 [00:02<00:00,  2.08s/it]\n"
     ]
    },
    {
     "name": "stdout",
     "output_type": "stream",
     "text": [
      "Epoch: 002, Average Loss: 0.6861\n",
      "Validation: {'precision': 0.5469225368580695, 'recall': 0.7328316086524528, 'f1': 0.6263736214774636, 'auc': 0.5828704266076445, 'prauc': 0.5738854484171092}\n",
      "Test:       {'precision': 0.5509918319707094, 'recall': 0.7403574788311685, 'f1': 0.6317902011534602, 'auc': 0.5822952796707381, 'prauc': 0.5702390728170389}\n"
     ]
    },
    {
     "name": "stderr",
     "output_type": "stream",
     "text": [
      "Training Batches: 100%|██████████| 1/1 [00:01<00:00,  1.02s/it]\n",
      "Running inference: 100%|██████████| 1/1 [00:02<00:00,  2.07s/it]\n",
      "Running inference: 100%|██████████| 1/1 [00:02<00:00,  2.09s/it]\n"
     ]
    },
    {
     "name": "stdout",
     "output_type": "stream",
     "text": [
      "Epoch: 003, Average Loss: 0.6795\n",
      "Validation: {'precision': 0.5694809854088269, 'recall': 0.7466290373134318, 'f1': 0.6461329665949379, 'auc': 0.6777143354343356, 'prauc': 0.7069477184117345}\n",
      "Test:       {'precision': 0.5804710500476437, 'recall': 0.7419253684517343, 'f1': 0.6513420460018517, 'auc': 0.6904437253460053, 'prauc': 0.7214706788788754}\n"
     ]
    },
    {
     "name": "stderr",
     "output_type": "stream",
     "text": [
      "Training Batches: 100%|██████████| 1/1 [00:00<00:00,  1.42it/s]\n",
      "Running inference: 100%|██████████| 1/1 [00:02<00:00,  2.32s/it]\n",
      "Running inference: 100%|██████████| 1/1 [00:02<00:00,  2.39s/it]\n"
     ]
    },
    {
     "name": "stdout",
     "output_type": "stream",
     "text": [
      "Epoch: 004, Average Loss: 0.6701\n",
      "Validation: {'precision': 0.5992826031242653, 'recall': 0.733458764500679, 'f1': 0.6596164643099584, 'auc': 0.6944517706402044, 'prauc': 0.7180121067978856}\n",
      "Test:       {'precision': 0.6205198358396156, 'recall': 0.7111947318886448, 'f1': 0.6627703047816178, 'auc': 0.7100486372950356, 'prauc': 0.7388181988417967}\n"
     ]
    },
    {
     "name": "stderr",
     "output_type": "stream",
     "text": [
      "Training Batches: 100%|██████████| 1/1 [00:00<00:00,  1.42it/s]\n",
      "Running inference: 100%|██████████| 1/1 [00:02<00:00,  2.33s/it]\n",
      "Running inference: 100%|██████████| 1/1 [00:02<00:00,  2.10s/it]\n"
     ]
    },
    {
     "name": "stdout",
     "output_type": "stream",
     "text": [
      "Epoch: 005, Average Loss: 0.6584\n",
      "Validation: {'precision': 0.6515016354426063, 'recall': 0.6870492317319316, 'f1': 0.6688034138049037, 'auc': 0.7127058539603003, 'prauc': 0.7318611867133273}\n",
      "Test:       {'precision': 0.690187069246176, 'recall': 0.6594543744099736, 'f1': 0.674470809625189, 'auc': 0.7314359603915346, 'prauc': 0.7574578777076433}\n"
     ]
    },
    {
     "name": "stderr",
     "output_type": "stream",
     "text": [
      "Training Batches: 100%|██████████| 1/1 [00:01<00:00,  1.02s/it]\n",
      "Running inference: 100%|██████████| 1/1 [00:02<00:00,  2.02s/it]\n",
      "Running inference: 100%|██████████| 1/1 [00:02<00:00,  2.66s/it]\n"
     ]
    },
    {
     "name": "stdout",
     "output_type": "stream",
     "text": [
      "Epoch: 006, Average Loss: 0.6409\n",
      "Validation: {'precision': 0.6579106280173372, 'recall': 0.6832862966425736, 'f1': 0.670358401398743, 'auc': 0.7149924810624957, 'prauc': 0.7281445032579699}\n",
      "Test:       {'precision': 0.6964405641346662, 'recall': 0.650360614610692, 'f1': 0.6726122862311731, 'auc': 0.7365684709729019, 'prauc': 0.7603101405787829}\n"
     ]
    },
    {
     "name": "stderr",
     "output_type": "stream",
     "text": [
      "Training Batches: 100%|██████████| 1/1 [00:00<00:00,  1.40it/s]\n",
      "Running inference: 100%|██████████| 1/1 [00:02<00:00,  2.37s/it]\n",
      "Running inference: 100%|██████████| 1/1 [00:02<00:00,  2.06s/it]\n"
     ]
    },
    {
     "name": "stdout",
     "output_type": "stream",
     "text": [
      "Epoch: 007, Average Loss: 0.6279\n",
      "Validation: {'precision': 0.7608229747074119, 'recall': 0.5566008153008574, 'f1': 0.6428830085187636, 'auc': 0.760044566044223, 'prauc': 0.7607239168469402}\n",
      "Test:       {'precision': 0.7956834532335939, 'recall': 0.5202257761037309, 'f1': 0.6291239997673328, 'auc': 0.7659197673382669, 'prauc': 0.7717961799725599}\n"
     ]
    },
    {
     "name": "stderr",
     "output_type": "stream",
     "text": [
      "Training Batches: 100%|██████████| 1/1 [00:00<00:00,  1.41it/s]\n",
      "Running inference: 100%|██████████| 1/1 [00:02<00:00,  2.34s/it]\n",
      "Running inference: 100%|██████████| 1/1 [00:02<00:00,  2.35s/it]\n"
     ]
    },
    {
     "name": "stdout",
     "output_type": "stream",
     "text": [
      "Epoch: 008, Average Loss: 0.6134\n",
      "Validation: {'precision': 0.7677951388855565, 'recall': 0.5547193477561784, 'f1': 0.6440924764673309, 'auc': 0.766230320121766, 'prauc': 0.7655530283442332}\n",
      "Test:       {'precision': 0.7974683544264973, 'recall': 0.5136406396973545, 'f1': 0.6248331060463519, 'auc': 0.7696896484554903, 'prauc': 0.7740790941088795}\n"
     ]
    },
    {
     "name": "stderr",
     "output_type": "stream",
     "text": [
      "Training Batches: 100%|██████████| 1/1 [00:01<00:00,  1.02s/it]\n",
      "Running inference: 100%|██████████| 1/1 [00:02<00:00,  2.35s/it]\n",
      "Running inference: 100%|██████████| 1/1 [00:02<00:00,  2.35s/it]\n"
     ]
    },
    {
     "name": "stdout",
     "output_type": "stream",
     "text": [
      "Epoch: 009, Average Loss: 0.5977\n",
      "Validation: {'precision': 0.7515151515121151, 'recall': 0.5832549388504759, 'f1': 0.656779656094085, 'auc': 0.7651546503827189, 'prauc': 0.7689780107401877}\n",
      "Test:       {'precision': 0.7938860583566749, 'recall': 0.5374725619299546, 'f1': 0.6409872801494104, 'auc': 0.774569988025652, 'prauc': 0.7825416612699891}\n"
     ]
    },
    {
     "name": "stderr",
     "output_type": "stream",
     "text": [
      "Training Batches: 100%|██████████| 1/1 [00:00<00:00,  1.42it/s]\n",
      "Running inference: 100%|██████████| 1/1 [00:02<00:00,  2.31s/it]\n",
      "Running inference: 100%|██████████| 1/1 [00:02<00:00,  2.39s/it]\n"
     ]
    },
    {
     "name": "stdout",
     "output_type": "stream",
     "text": [
      "Epoch: 010, Average Loss: 0.5809\n",
      "Validation: {'precision': 0.7250264737002293, 'recall': 0.6440890561284287, 'f1': 0.682165388572166, 'auc': 0.7597281246241663, 'prauc': 0.7661639867449546}\n",
      "Test:       {'precision': 0.7708840227057142, 'recall': 0.5961116337391154, 'f1': 0.6723253708530039, 'auc': 0.7763800826174646, 'prauc': 0.7875330208262483}\n"
     ]
    },
    {
     "name": "stderr",
     "output_type": "stream",
     "text": [
      "Training Batches: 100%|██████████| 1/1 [00:00<00:00,  1.40it/s]\n",
      "Running inference: 100%|██████████| 1/1 [00:02<00:00,  2.38s/it]\n",
      "Running inference: 100%|██████████| 1/1 [00:02<00:00,  2.10s/it]\n"
     ]
    },
    {
     "name": "stdout",
     "output_type": "stream",
     "text": [
      "Epoch: 011, Average Loss: 0.5968\n",
      "Validation: {'precision': 0.7670190274809006, 'recall': 0.5688303543412705, 'f1': 0.6532228975203791, 'auc': 0.7794852921303395, 'prauc': 0.7780121514023639}\n",
      "Test:       {'precision': 0.7979942693371634, 'recall': 0.5239887111930888, 'f1': 0.6325951116235365, 'auc': 0.7819701250335347, 'prauc': 0.7857218159131838}\n"
     ]
    },
    {
     "name": "stderr",
     "output_type": "stream",
     "text": [
      "Training Batches: 100%|██████████| 1/1 [00:00<00:00,  1.41it/s]\n",
      "Running inference: 100%|██████████| 1/1 [00:02<00:00,  2.35s/it]\n",
      "Running inference: 100%|██████████| 1/1 [00:02<00:00,  2.34s/it]\n"
     ]
    },
    {
     "name": "stdout",
     "output_type": "stream",
     "text": [
      "Epoch: 012, Average Loss: 0.5653\n",
      "Validation: {'precision': 0.7990142387688992, 'recall': 0.4575101912810991, 'f1': 0.5818544320569444, 'auc': 0.7779513625669141, 'prauc': 0.7687245243882056}\n",
      "Test:       {'precision': 0.806301050170325, 'recall': 0.4333646911243858, 'f1': 0.5637364833147853, 'auc': 0.7714634022349096, 'prauc': 0.7678212585965296}\n"
     ]
    },
    {
     "name": "stderr",
     "output_type": "stream",
     "text": [
      "Training Batches: 100%|██████████| 1/1 [00:01<00:00,  1.00s/it]\n",
      "Running inference: 100%|██████████| 1/1 [00:02<00:00,  2.35s/it]\n",
      "Running inference: 100%|██████████| 1/1 [00:02<00:00,  2.40s/it]\n"
     ]
    },
    {
     "name": "stdout",
     "output_type": "stream",
     "text": [
      "Epoch: 013, Average Loss: 0.5823\n",
      "Validation: {'precision': 0.8099219620913606, 'recall': 0.4556287237364201, 'f1': 0.5831828169829422, 'auc': 0.7828087559476569, 'prauc': 0.7739496891525031}\n",
      "Test:       {'precision': 0.8178613395956648, 'recall': 0.4365004703655174, 'f1': 0.5692087462265514, 'auc': 0.7790565683501725, 'prauc': 0.7753751237122537}\n"
     ]
    },
    {
     "name": "stderr",
     "output_type": "stream",
     "text": [
      "Training Batches: 100%|██████████| 1/1 [00:00<00:00,  1.42it/s]\n",
      "Running inference: 100%|██████████| 1/1 [00:02<00:00,  2.33s/it]\n",
      "Running inference: 100%|██████████| 1/1 [00:02<00:00,  2.37s/it]\n"
     ]
    },
    {
     "name": "stdout",
     "output_type": "stream",
     "text": [
      "Epoch: 014, Average Loss: 0.5588\n",
      "Validation: {'precision': 0.8084135833714728, 'recall': 0.5001567889604887, 'f1': 0.6179775233649538, 'auc': 0.7855750939754156, 'prauc': 0.7810586947079208}\n",
      "Test:       {'precision': 0.827586206892022, 'recall': 0.47412982125909653, 'f1': 0.6028708087633712, 'auc': 0.7896917423305534, 'prauc': 0.7894887089462888}\n"
     ]
    },
    {
     "name": "stderr",
     "output_type": "stream",
     "text": [
      "Training Batches: 100%|██████████| 1/1 [00:00<00:00,  1.42it/s]\n",
      "Running inference: 100%|██████████| 1/1 [00:02<00:00,  2.33s/it]\n",
      "Running inference: 100%|██████████| 1/1 [00:02<00:00,  2.08s/it]\n"
     ]
    },
    {
     "name": "stdout",
     "output_type": "stream",
     "text": [
      "Epoch: 015, Average Loss: 0.5511\n",
      "Validation: {'precision': 0.7920433996347557, 'recall': 0.5493885230462546, 'f1': 0.6487687416896287, 'auc': 0.7805790471069195, 'prauc': 0.780730679549141}\n",
      "Test:       {'precision': 0.8195413758682975, 'recall': 0.5155221072420335, 'f1': 0.6329162608968816, 'auc': 0.7926966040467157, 'prauc': 0.7966362159945537}\n"
     ]
    },
    {
     "name": "stderr",
     "output_type": "stream",
     "text": [
      "Training Batches: 100%|██████████| 1/1 [00:00<00:00,  1.42it/s]\n",
      "Running inference: 100%|██████████| 1/1 [00:02<00:00,  2.31s/it]\n",
      "Running inference: 100%|██████████| 1/1 [00:02<00:00,  2.33s/it]\n"
     ]
    },
    {
     "name": "stdout",
     "output_type": "stream",
     "text": [
      "Epoch: 016, Average Loss: 0.5419\n",
      "Validation: {'precision': 0.7830961621354762, 'recall': 0.5694575101894969, 'f1': 0.6594044976641075, 'auc': 0.7763919127238589, 'prauc': 0.7785286935343596}\n",
      "Test:       {'precision': 0.8140301318229095, 'recall': 0.542176230791652, 'f1': 0.6508563851852792, 'auc': 0.7924825858551692, 'prauc': 0.7987108713253095}\n"
     ]
    },
    {
     "name": "stderr",
     "output_type": "stream",
     "text": [
      "Training Batches: 100%|██████████| 1/1 [00:00<00:00,  1.00it/s]\n",
      "Running inference: 100%|██████████| 1/1 [00:02<00:00,  2.36s/it]\n",
      "Running inference: 100%|██████████| 1/1 [00:02<00:00,  2.37s/it]\n"
     ]
    },
    {
     "name": "stdout",
     "output_type": "stream",
     "text": [
      "Epoch: 017, Average Loss: 0.5426\n",
      "Validation: {'precision': 0.7937865826168673, 'recall': 0.5528378802114994, 'f1': 0.651756002551382, 'auc': 0.7760664789218064, 'prauc': 0.7783228734425749}\n",
      "Test:       {'precision': 0.8198727361682826, 'recall': 0.5252430228895414, 'f1': 0.6402905151151137, 'auc': 0.7930755148994812, 'prauc': 0.7995159045183797}\n"
     ]
    },
    {
     "name": "stderr",
     "output_type": "stream",
     "text": [
      "Training Batches: 100%|██████████| 1/1 [00:00<00:00,  1.41it/s]\n",
      "Running inference: 100%|██████████| 1/1 [00:02<00:00,  2.37s/it]\n",
      "Running inference: 100%|██████████| 1/1 [00:02<00:00,  2.41s/it]\n"
     ]
    },
    {
     "name": "stdout",
     "output_type": "stream",
     "text": [
      "Epoch: 018, Average Loss: 0.5307\n",
      "Validation: {'precision': 0.8121003443147462, 'recall': 0.5177171527108256, 'f1': 0.6323247750204671, 'auc': 0.7797416001355991, 'prauc': 0.778718313191131}\n",
      "Test:       {'precision': 0.8273155415969267, 'recall': 0.49576669802290446, 'f1': 0.619999995311541, 'auc': 0.7948578253798797, 'prauc': 0.7984011876840088}\n"
     ]
    },
    {
     "name": "stderr",
     "output_type": "stream",
     "text": [
      "Training Batches: 100%|██████████| 1/1 [00:00<00:00,  1.41it/s]\n",
      "Running inference: 100%|██████████| 1/1 [00:02<00:00,  2.36s/it]\n",
      "Running inference: 100%|██████████| 1/1 [00:02<00:00,  2.08s/it]\n"
     ]
    },
    {
     "name": "stdout",
     "output_type": "stream",
     "text": [
      "Epoch: 019, Average Loss: 0.5360\n",
      "Validation: {'precision': 0.8128834355786663, 'recall': 0.4985888993399229, 'f1': 0.6180757970340296, 'auc': 0.7804235140641357, 'prauc': 0.7771363104363014}\n",
      "Test:       {'precision': 0.8261791202923892, 'recall': 0.48886798369241496, 'f1': 0.6142631946961263, 'auc': 0.7936679406084418, 'prauc': 0.7955775507766443}\n"
     ]
    },
    {
     "name": "stderr",
     "output_type": "stream",
     "text": [
      "Training Batches: 100%|██████████| 1/1 [00:00<00:00,  1.43it/s]\n",
      "Running inference: 100%|██████████| 1/1 [00:02<00:00,  2.30s/it]\n",
      "Running inference: 100%|██████████| 1/1 [00:02<00:00,  2.34s/it]\n"
     ]
    },
    {
     "name": "stdout",
     "output_type": "stream",
     "text": [
      "Epoch: 020, Average Loss: 0.5226\n",
      "Validation: {'precision': 0.8046146293529475, 'recall': 0.5139542176214678, 'f1': 0.6272483687575906, 'auc': 0.7802012665895632, 'prauc': 0.7762204976570027}\n",
      "Test:       {'precision': 0.8262429523279025, 'recall': 0.5054876136704124, 'f1': 0.6272373493732207, 'auc': 0.7927157811236156, 'prauc': 0.7951903958798138}\n",
      "\n",
      "Early stopping triggered after 20 epochs (no improvement for 10 epochs).\n",
      "\n",
      "Best validation performance:\n",
      "{'precision': 0.7250264737002293, 'recall': 0.6440890561284287, 'f1': 0.682165388572166, 'auc': 0.7597281246241663, 'prauc': 0.7661639867449546}\n",
      "Corresponding test performance:\n",
      "{'precision': 0.7708840227057142, 'recall': 0.5961116337391154, 'f1': 0.6723253708530039, 'auc': 0.7763800826174646, 'prauc': 0.7875330208262483}\n",
      "Corresponding test-long performance:\n",
      "{'precision': 0.8146853146568291, 'recall': 0.5076252723200954, 'f1': 0.6255033509575245, 'auc': 0.7750199939328757, 'prauc': 0.8005070986509011}\n",
      "[INFO] Random seed set to 667779376\n",
      "Training with seed: 667779376\n"
     ]
    },
    {
     "name": "stderr",
     "output_type": "stream",
     "text": [
      "Training Batches: 100%|██████████| 1/1 [00:01<00:00,  1.01s/it]\n",
      "Running inference: 100%|██████████| 1/1 [00:02<00:00,  2.32s/it]\n",
      "Running inference: 100%|██████████| 1/1 [00:02<00:00,  2.38s/it]\n"
     ]
    },
    {
     "name": "stdout",
     "output_type": "stream",
     "text": [
      "Epoch: 001, Average Loss: 0.6922\n",
      "Validation: {'precision': 0.540546089097638, 'recall': 0.8256506741899479, 'f1': 0.6533498711466468, 'auc': 0.5950145631375234, 'prauc': 0.583572297359036}\n",
      "Test:       {'precision': 0.5474871794860564, 'recall': 0.8369394794580215, 'f1': 0.6619543602962901, 'auc': 0.591249011575203, 'prauc': 0.5795677536921959}\n"
     ]
    },
    {
     "name": "stderr",
     "output_type": "stream",
     "text": [
      "Training Batches: 100%|██████████| 1/1 [00:01<00:00,  1.02s/it]\n",
      "Running inference: 100%|██████████| 1/1 [00:02<00:00,  2.03s/it]\n",
      "Running inference: 100%|██████████| 1/1 [00:02<00:00,  2.06s/it]\n"
     ]
    },
    {
     "name": "stdout",
     "output_type": "stream",
     "text": [
      "Epoch: 002, Average Loss: 0.6834\n",
      "Validation: {'precision': 0.5637254901948223, 'recall': 0.7933521480062924, 'f1': 0.659111627289412, 'auc': 0.6878718086212127, 'prauc': 0.6928383336500556}\n",
      "Test:       {'precision': 0.5738041002264834, 'recall': 0.7899027908410476, 'f1': 0.6647314900439747, 'auc': 0.6918448096310199, 'prauc': 0.6924856597230341}\n"
     ]
    },
    {
     "name": "stderr",
     "output_type": "stream",
     "text": [
      "Training Batches: 100%|██████████| 1/1 [00:01<00:00,  1.28s/it]\n",
      "Running inference: 100%|██████████| 1/1 [00:02<00:00,  2.03s/it]\n",
      "Running inference: 100%|██████████| 1/1 [00:02<00:00,  2.30s/it]\n"
     ]
    },
    {
     "name": "stdout",
     "output_type": "stream",
     "text": [
      "Epoch: 003, Average Loss: 0.6781\n",
      "Validation: {'precision': 0.571728971961281, 'recall': 0.7673251803049003, 'f1': 0.6552416606558723, 'auc': 0.6887575331293923, 'prauc': 0.7006392986377377}\n",
      "Test:       {'precision': 0.588652482268064, 'recall': 0.7547820633403739, 'f1': 0.6614454471219077, 'auc': 0.6955443747996096, 'prauc': 0.7062408719693207}\n"
     ]
    },
    {
     "name": "stderr",
     "output_type": "stream",
     "text": [
      "Training Batches: 100%|██████████| 1/1 [00:01<00:00,  1.00s/it]\n",
      "Running inference: 100%|██████████| 1/1 [00:02<00:00,  2.33s/it]\n",
      "Running inference: 100%|██████████| 1/1 [00:02<00:00,  2.04s/it]\n"
     ]
    },
    {
     "name": "stdout",
     "output_type": "stream",
     "text": [
      "Epoch: 004, Average Loss: 0.6637\n",
      "Validation: {'precision': 0.583815028900328, 'recall': 0.7601128880502975, 'f1': 0.6604004854806469, 'auc': 0.6958159501546739, 'prauc': 0.7122030292657561}\n",
      "Test:       {'precision': 0.6064565718662402, 'recall': 0.7422389463758475, 'f1': 0.6675126854041268, 'auc': 0.7091040781740201, 'prauc': 0.7284491018321543}\n"
     ]
    },
    {
     "name": "stderr",
     "output_type": "stream",
     "text": [
      "Training Batches: 100%|██████████| 1/1 [00:01<00:00,  1.29s/it]\n",
      "Running inference: 100%|██████████| 1/1 [00:02<00:00,  2.04s/it]\n",
      "Running inference: 100%|██████████| 1/1 [00:02<00:00,  2.02s/it]\n"
     ]
    },
    {
     "name": "stdout",
     "output_type": "stream",
     "text": [
      "Epoch: 005, Average Loss: 0.6509\n",
      "Validation: {'precision': 0.7209302325554783, 'recall': 0.6124176857929996, 'f1': 0.6622583877063539, 'auc': 0.74417255969108, 'prauc': 0.7494766847706346}\n",
      "Test:       {'precision': 0.765511339320644, 'recall': 0.5609909062384416, 'f1': 0.6474846132851717, 'auc': 0.7525789645083143, 'prauc': 0.7568534114313052}\n"
     ]
    },
    {
     "name": "stderr",
     "output_type": "stream",
     "text": [
      "Training Batches: 100%|██████████| 1/1 [00:00<00:00,  1.01it/s]\n",
      "Running inference: 100%|██████████| 1/1 [00:02<00:00,  2.31s/it]\n",
      "Running inference: 100%|██████████| 1/1 [00:02<00:00,  2.05s/it]\n"
     ]
    },
    {
     "name": "stdout",
     "output_type": "stream",
     "text": [
      "Epoch: 006, Average Loss: 0.6342\n",
      "Validation: {'precision': 0.7427521437291027, 'recall': 0.5703982439618364, 'f1': 0.6452642731966528, 'auc': 0.7507696524489571, 'prauc': 0.7513667364339816}\n",
      "Test:       {'precision': 0.781524249419023, 'recall': 0.5305738475994651, 'f1': 0.6320507983183796, 'auc': 0.7586453131677059, 'prauc': 0.7598185208562451}\n"
     ]
    },
    {
     "name": "stderr",
     "output_type": "stream",
     "text": [
      "Training Batches: 100%|██████████| 1/1 [00:01<00:00,  1.30s/it]\n",
      "Running inference: 100%|██████████| 1/1 [00:02<00:00,  2.06s/it]\n",
      "Running inference: 100%|██████████| 1/1 [00:02<00:00,  2.07s/it]\n"
     ]
    },
    {
     "name": "stdout",
     "output_type": "stream",
     "text": [
      "Epoch: 007, Average Loss: 0.6164\n",
      "Validation: {'precision': 0.7562879444893483, 'recall': 0.5468798996533494, 'f1': 0.6347588668283455, 'auc': 0.7570421151931167, 'prauc': 0.7548260314110815}\n",
      "Test:       {'precision': 0.7967439565821572, 'recall': 0.5064283474427519, 'f1': 0.6192484615034403, 'auc': 0.7643604344186753, 'prauc': 0.76341282013539}\n"
     ]
    },
    {
     "name": "stderr",
     "output_type": "stream",
     "text": [
      "Training Batches: 100%|██████████| 1/1 [00:00<00:00,  1.43it/s]\n",
      "Running inference: 100%|██████████| 1/1 [00:02<00:00,  2.31s/it]\n",
      "Running inference: 100%|██████████| 1/1 [00:02<00:00,  2.31s/it]\n"
     ]
    },
    {
     "name": "stdout",
     "output_type": "stream",
     "text": [
      "Epoch: 008, Average Loss: 0.6006\n",
      "Validation: {'precision': 0.7836158192046124, 'recall': 0.4349325807449516, 'f1': 0.5593869685872195, 'auc': 0.7631998371524833, 'prauc': 0.7507082751636769}\n",
      "Test:       {'precision': 0.7862928348860667, 'recall': 0.39573534023080675, 'f1': 0.5264914431865543, 'auc': 0.7579427073502565, 'prauc': 0.7444331036912953}\n"
     ]
    },
    {
     "name": "stderr",
     "output_type": "stream",
     "text": [
      "Training Batches: 100%|██████████| 1/1 [00:01<00:00,  1.28s/it]\n",
      "Running inference: 100%|██████████| 1/1 [00:02<00:00,  2.39s/it]\n",
      "Running inference: 100%|██████████| 1/1 [00:01<00:00,  1.74s/it]\n"
     ]
    },
    {
     "name": "stdout",
     "output_type": "stream",
     "text": [
      "Epoch: 009, Average Loss: 0.5857\n",
      "Validation: {'precision': 0.7842582106410858, 'recall': 0.4343054248967253, 'f1': 0.5590312769439231, 'auc': 0.764710155433574, 'prauc': 0.7508442835649747}\n",
      "Test:       {'precision': 0.7851393188805874, 'recall': 0.3976168077754857, 'f1': 0.5278934176827639, 'auc': 0.7580341130501267, 'prauc': 0.7434490216704008}\n"
     ]
    },
    {
     "name": "stderr",
     "output_type": "stream",
     "text": [
      "Training Batches: 100%|██████████| 1/1 [00:01<00:00,  1.29s/it]\n",
      "Running inference: 100%|██████████| 1/1 [00:02<00:00,  2.37s/it]\n",
      "Running inference: 100%|██████████| 1/1 [00:01<00:00,  1.77s/it]\n"
     ]
    },
    {
     "name": "stdout",
     "output_type": "stream",
     "text": [
      "Epoch: 010, Average Loss: 0.5699\n",
      "Validation: {'precision': 0.7852077000973394, 'recall': 0.48604578237539653, 'f1': 0.6004261041260142, 'auc': 0.7781176462786761, 'prauc': 0.7648935133906682}\n",
      "Test:       {'precision': 0.7914798206233662, 'recall': 0.4427720288477806, 'f1': 0.5678664743833473, 'auc': 0.773553955284694, 'prauc': 0.7611705094244202}\n"
     ]
    },
    {
     "name": "stderr",
     "output_type": "stream",
     "text": [
      "Training Batches: 100%|██████████| 1/1 [00:01<00:00,  1.29s/it]\n",
      "Running inference: 100%|██████████| 1/1 [00:02<00:00,  2.05s/it]\n",
      "Running inference: 100%|██████████| 1/1 [00:02<00:00,  2.37s/it]\n"
     ]
    },
    {
     "name": "stdout",
     "output_type": "stream",
     "text": [
      "Epoch: 011, Average Loss: 0.5778\n",
      "Validation: {'precision': 0.7762155828894188, 'recall': 0.41549074944993575, 'f1': 0.5412581653905542, 'auc': 0.7589184083503963, 'prauc': 0.7447292766176457}\n",
      "Test:       {'precision': 0.7802267002469759, 'recall': 0.3885230479762041, 'f1': 0.5187356036817004, 'auc': 0.7531756685677642, 'prauc': 0.738194050281083}\n"
     ]
    },
    {
     "name": "stderr",
     "output_type": "stream",
     "text": [
      "Training Batches: 100%|██████████| 1/1 [00:00<00:00,  1.41it/s]\n",
      "Running inference: 100%|██████████| 1/1 [00:02<00:00,  2.28s/it]\n",
      "Running inference: 100%|██████████| 1/1 [00:02<00:00,  2.34s/it]\n"
     ]
    },
    {
     "name": "stdout",
     "output_type": "stream",
     "text": [
      "Epoch: 012, Average Loss: 0.5635\n",
      "Validation: {'precision': 0.7829614604409537, 'recall': 0.3631232361230382, 'f1': 0.49614395453773497, 'auc': 0.7487231571117834, 'prauc': 0.733540968968442}\n",
      "Test:       {'precision': 0.776912181297614, 'recall': 0.34399498275213547, 'f1': 0.47685285381808984, 'auc': 0.7469580173016495, 'prauc': 0.7310329635753587}\n"
     ]
    },
    {
     "name": "stderr",
     "output_type": "stream",
     "text": [
      "Training Batches: 100%|██████████| 1/1 [00:01<00:00,  1.00s/it]\n",
      "Running inference: 100%|██████████| 1/1 [00:02<00:00,  2.33s/it]\n",
      "Running inference: 100%|██████████| 1/1 [00:02<00:00,  2.39s/it]\n"
     ]
    },
    {
     "name": "stdout",
     "output_type": "stream",
     "text": [
      "Epoch: 013, Average Loss: 0.5633\n",
      "Validation: {'precision': 0.8005483207621622, 'recall': 0.36625901536416977, 'f1': 0.5025817512843169, 'auc': 0.764223562070394, 'prauc': 0.7504490089457458}\n",
      "Test:       {'precision': 0.8023426061434675, 'recall': 0.34368140482802234, 'f1': 0.4812294140204999, 'auc': 0.7643238922721413, 'prauc': 0.750221163065955}\n"
     ]
    },
    {
     "name": "stderr",
     "output_type": "stream",
     "text": [
      "Training Batches: 100%|██████████| 1/1 [00:00<00:00,  1.41it/s]\n",
      "Running inference: 100%|██████████| 1/1 [00:02<00:00,  2.36s/it]\n",
      "Running inference: 100%|██████████| 1/1 [00:02<00:00,  2.08s/it]\n"
     ]
    },
    {
     "name": "stdout",
     "output_type": "stream",
     "text": [
      "Epoch: 014, Average Loss: 0.5588\n",
      "Validation: {'precision': 0.8200992555780391, 'recall': 0.4145500156775963, 'f1': 0.5507185958287851, 'auc': 0.7786533712038208, 'prauc': 0.7670354469815628}\n",
      "Test:       {'precision': 0.8199999999945334, 'recall': 0.38570084665918564, 'f1': 0.5246321133688284, 'auc': 0.7803914640364374, 'prauc': 0.7688518020693454}\n"
     ]
    },
    {
     "name": "stderr",
     "output_type": "stream",
     "text": [
      "Training Batches: 100%|██████████| 1/1 [00:00<00:00,  1.40it/s]\n",
      "Running inference: 100%|██████████| 1/1 [00:02<00:00,  2.30s/it]\n",
      "Running inference: 100%|██████████| 1/1 [00:02<00:00,  2.35s/it]\n"
     ]
    },
    {
     "name": "stdout",
     "output_type": "stream",
     "text": [
      "Epoch: 015, Average Loss: 0.5432\n",
      "Validation: {'precision': 0.8201943844448154, 'recall': 0.4763248667278886, 'f1': 0.602658198086883, 'auc': 0.7876895596636508, 'prauc': 0.777095683204881}\n",
      "Test:       {'precision': 0.8246942341244923, 'recall': 0.44402634054423323, 'f1': 0.5772523395162567, 'auc': 0.7916327544473453, 'prauc': 0.7824130203017149}\n",
      "\n",
      "Early stopping triggered after 15 epochs (no improvement for 10 epochs).\n",
      "\n",
      "Best validation performance:\n",
      "{'precision': 0.7209302325554783, 'recall': 0.6124176857929996, 'f1': 0.6622583877063539, 'auc': 0.74417255969108, 'prauc': 0.7494766847706346}\n",
      "Corresponding test performance:\n",
      "{'precision': 0.765511339320644, 'recall': 0.5609909062384416, 'f1': 0.6474846132851717, 'auc': 0.7525789645083143, 'prauc': 0.7568534114313052}\n",
      "Corresponding test-long performance:\n",
      "{'precision': 0.8062283736745249, 'recall': 0.5076252723200954, 'f1': 0.6229946476480239, 'auc': 0.7588924740078873, 'prauc': 0.7833582834325895}\n",
      "[INFO] Random seed set to 1445662585\n",
      "Training with seed: 1445662585\n"
     ]
    },
    {
     "name": "stderr",
     "output_type": "stream",
     "text": [
      "Training Batches: 100%|██████████| 1/1 [00:01<00:00,  1.01s/it]\n",
      "Running inference: 100%|██████████| 1/1 [00:02<00:00,  2.31s/it]\n",
      "Running inference: 100%|██████████| 1/1 [00:02<00:00,  2.36s/it]\n"
     ]
    },
    {
     "name": "stdout",
     "output_type": "stream",
     "text": [
      "Epoch: 001, Average Loss: 0.6940\n",
      "Validation: {'precision': 0.545254833039224, 'recall': 0.7783004076488608, 'f1': 0.6412608141689871, 'auc': 0.6154610293775594, 'prauc': 0.63769074638602}\n",
      "Test:       {'precision': 0.5509525919349779, 'recall': 0.7798682972694266, 'f1': 0.6457224409465999, 'auc': 0.6275373764248795, 'prauc': 0.6549257889259054}\n"
     ]
    },
    {
     "name": "stderr",
     "output_type": "stream",
     "text": [
      "Training Batches: 100%|██████████| 1/1 [00:01<00:00,  1.01s/it]\n",
      "Running inference: 100%|██████████| 1/1 [00:02<00:00,  2.07s/it]\n",
      "Running inference: 100%|██████████| 1/1 [00:02<00:00,  2.07s/it]\n"
     ]
    },
    {
     "name": "stdout",
     "output_type": "stream",
     "text": [
      "Epoch: 002, Average Loss: 0.6851\n",
      "Validation: {'precision': 0.5500770416012545, 'recall': 0.7836312323587845, 'f1': 0.6464045476607101, 'auc': 0.6707377541088907, 'prauc': 0.7001493740655443}\n",
      "Test:       {'precision': 0.5612427358056298, 'recall': 0.7873941674481424, 'f1': 0.6553569049653262, 'auc': 0.690124208064741, 'prauc': 0.7226978150428094}\n"
     ]
    },
    {
     "name": "stderr",
     "output_type": "stream",
     "text": [
      "Training Batches: 100%|██████████| 1/1 [00:01<00:00,  1.30s/it]\n",
      "Running inference: 100%|██████████| 1/1 [00:02<00:00,  2.06s/it]\n",
      "Running inference: 100%|██████████| 1/1 [00:02<00:00,  2.07s/it]\n"
     ]
    },
    {
     "name": "stdout",
     "output_type": "stream",
     "text": [
      "Epoch: 003, Average Loss: 0.6752\n",
      "Validation: {'precision': 0.6807857581317349, 'recall': 0.6955158356829868, 'f1': 0.688071966458032, 'auc': 0.7350158029810299, 'prauc': 0.7465654599723701}\n",
      "Test:       {'precision': 0.7369744879599821, 'recall': 0.6431483223560892, 'f1': 0.6868720646792148, 'auc': 0.7520592204241405, 'prauc': 0.762662954388262}\n"
     ]
    },
    {
     "name": "stderr",
     "output_type": "stream",
     "text": [
      "Training Batches: 100%|██████████| 1/1 [00:01<00:00,  1.31s/it]\n",
      "Running inference: 100%|██████████| 1/1 [00:02<00:00,  2.09s/it]\n",
      "Running inference: 100%|██████████| 1/1 [00:02<00:00,  2.05s/it]\n"
     ]
    },
    {
     "name": "stdout",
     "output_type": "stream",
     "text": [
      "Epoch: 004, Average Loss: 0.6651\n",
      "Validation: {'precision': 0.6478671628953683, 'recall': 0.7096268422680789, 'f1': 0.6773421081481004, 'auc': 0.7248390388741176, 'prauc': 0.7421012961264264}\n",
      "Test:       {'precision': 0.7127981189092617, 'recall': 0.6654123549681236, 'f1': 0.6882906210173013, 'auc': 0.7463018693371626, 'prauc': 0.763360194407702}\n"
     ]
    },
    {
     "name": "stderr",
     "output_type": "stream",
     "text": [
      "Training Batches: 100%|██████████| 1/1 [00:01<00:00,  1.04s/it]\n",
      "Running inference: 100%|██████████| 1/1 [00:02<00:00,  2.39s/it]\n",
      "Running inference: 100%|██████████| 1/1 [00:01<00:00,  1.75s/it]\n"
     ]
    },
    {
     "name": "stdout",
     "output_type": "stream",
     "text": [
      "Epoch: 005, Average Loss: 0.6500\n",
      "Validation: {'precision': 0.7580778790357993, 'recall': 0.5738476011270811, 'f1': 0.6532214835816387, 'auc': 0.7565934505919851, 'prauc': 0.7556254093660879}\n",
      "Test:       {'precision': 0.8003904343543173, 'recall': 0.5142677955455809, 'f1': 0.6261931987472368, 'auc': 0.770367037171819, 'prauc': 0.7714912104989602}\n"
     ]
    },
    {
     "name": "stderr",
     "output_type": "stream",
     "text": [
      "Training Batches: 100%|██████████| 1/1 [00:01<00:00,  1.30s/it]\n",
      "Running inference: 100%|██████████| 1/1 [00:02<00:00,  2.38s/it]\n",
      "Running inference: 100%|██████████| 1/1 [00:01<00:00,  1.77s/it]\n"
     ]
    },
    {
     "name": "stdout",
     "output_type": "stream",
     "text": [
      "Epoch: 006, Average Loss: 0.6329\n",
      "Validation: {'precision': 0.7710360618158498, 'recall': 0.42238946378042524, 'f1': 0.5457860570128463, 'auc': 0.7569478710108614, 'prauc': 0.738906371112553}\n",
      "Test:       {'precision': 0.790741915023521, 'recall': 0.3910316713691094, 'f1': 0.5232899661950611, 'auc': 0.758556373811059, 'prauc': 0.7482712803978726}\n"
     ]
    },
    {
     "name": "stderr",
     "output_type": "stream",
     "text": [
      "Training Batches: 100%|██████████| 1/1 [00:01<00:00,  1.32s/it]\n",
      "Running inference: 100%|██████████| 1/1 [00:02<00:00,  2.08s/it]\n",
      "Running inference: 100%|██████████| 1/1 [00:02<00:00,  2.06s/it]\n"
     ]
    },
    {
     "name": "stdout",
     "output_type": "stream",
     "text": [
      "Epoch: 007, Average Loss: 0.6263\n",
      "Validation: {'precision': 0.7809768637491981, 'recall': 0.4763248667278886, 'f1': 0.5917413275857636, 'auc': 0.7700107376074176, 'prauc': 0.7564025092664401}\n",
      "Test:       {'precision': 0.8019461934699373, 'recall': 0.43932267168253586, 'f1': 0.5676661218425794, 'auc': 0.7715517879226695, 'prauc': 0.7644281052542853}\n"
     ]
    },
    {
     "name": "stderr",
     "output_type": "stream",
     "text": [
      "Training Batches: 100%|██████████| 1/1 [00:01<00:00,  1.01s/it]\n",
      "Running inference: 100%|██████████| 1/1 [00:02<00:00,  2.38s/it]\n",
      "Running inference: 100%|██████████| 1/1 [00:01<00:00,  1.73s/it]\n"
     ]
    },
    {
     "name": "stdout",
     "output_type": "stream",
     "text": [
      "Epoch: 008, Average Loss: 0.6036\n",
      "Validation: {'precision': 0.7632241813569974, 'recall': 0.5700846660377232, 'f1': 0.6526655847633184, 'auc': 0.7678230267071735, 'prauc': 0.7677102868310418}\n",
      "Test:       {'precision': 0.8123468887760297, 'recall': 0.5199121981796178, 'f1': 0.6340344120644869, 'auc': 0.7813573645763654, 'prauc': 0.7827710528596084}\n"
     ]
    },
    {
     "name": "stderr",
     "output_type": "stream",
     "text": [
      "Training Batches: 100%|██████████| 1/1 [00:01<00:00,  1.29s/it]\n",
      "Running inference: 100%|██████████| 1/1 [00:02<00:00,  2.38s/it]\n",
      "Running inference: 100%|██████████| 1/1 [00:01<00:00,  1.73s/it]\n"
     ]
    },
    {
     "name": "stdout",
     "output_type": "stream",
     "text": [
      "Epoch: 009, Average Loss: 0.5933\n",
      "Validation: {'precision': 0.7876318312522166, 'recall': 0.5152085293179204, 'f1': 0.6229383838418437, 'auc': 0.7753040354494769, 'prauc': 0.7695944293280224}\n",
      "Test:       {'precision': 0.8280818131518625, 'recall': 0.4697397303215123, 'f1': 0.5994397712891505, 'auc': 0.7833518309075087, 'prauc': 0.7801950878798937}\n"
     ]
    },
    {
     "name": "stderr",
     "output_type": "stream",
     "text": [
      "Training Batches: 100%|██████████| 1/1 [00:01<00:00,  1.31s/it]\n",
      "Running inference: 100%|██████████| 1/1 [00:02<00:00,  2.05s/it]\n",
      "Running inference: 100%|██████████| 1/1 [00:02<00:00,  2.37s/it]\n"
     ]
    },
    {
     "name": "stdout",
     "output_type": "stream",
     "text": [
      "Epoch: 010, Average Loss: 0.5791\n",
      "Validation: {'precision': 0.8073671497535787, 'recall': 0.4192536845392937, 'f1': 0.5519091802248163, 'auc': 0.7761099839654274, 'prauc': 0.7621679042432148}\n",
      "Test:       {'precision': 0.8254475703272031, 'recall': 0.4048291000300884, 'f1': 0.5432358466236034, 'auc': 0.7749099910557309, 'prauc': 0.7662965644933439}\n"
     ]
    },
    {
     "name": "stderr",
     "output_type": "stream",
     "text": [
      "Training Batches: 100%|██████████| 1/1 [00:00<00:00,  1.43it/s]\n",
      "Running inference: 100%|██████████| 1/1 [00:02<00:00,  2.32s/it]\n",
      "Running inference: 100%|██████████| 1/1 [00:02<00:00,  2.35s/it]\n"
     ]
    },
    {
     "name": "stdout",
     "output_type": "stream",
     "text": [
      "Epoch: 011, Average Loss: 0.5725\n",
      "Validation: {'precision': 0.801278326549673, 'recall': 0.43242395735204636, 'f1': 0.5617107897420146, 'auc': 0.7756782491560976, 'prauc': 0.7616675497188194}\n",
      "Test:       {'precision': 0.8168408113041374, 'recall': 0.4167450611463884, 'f1': 0.5519102945269981, 'auc': 0.7729892130200775, 'prauc': 0.765038111608243}\n"
     ]
    },
    {
     "name": "stderr",
     "output_type": "stream",
     "text": [
      "Training Batches: 100%|██████████| 1/1 [00:01<00:00,  1.01s/it]\n",
      "Running inference: 100%|██████████| 1/1 [00:02<00:00,  2.31s/it]\n",
      "Running inference: 100%|██████████| 1/1 [00:02<00:00,  2.36s/it]\n"
     ]
    },
    {
     "name": "stdout",
     "output_type": "stream",
     "text": [
      "Epoch: 012, Average Loss: 0.5550\n",
      "Validation: {'precision': 0.7997829625567022, 'recall': 0.4622138601427965, 'f1': 0.5858505517942126, 'auc': 0.7785452616727899, 'prauc': 0.7652599195276013}\n",
      "Test:       {'precision': 0.8166666666619732, 'recall': 0.44559423016479904, 'f1': 0.5765875385419584, 'auc': 0.7763481711561664, 'prauc': 0.7697104744910348}\n"
     ]
    },
    {
     "name": "stderr",
     "output_type": "stream",
     "text": [
      "Training Batches: 100%|██████████| 1/1 [00:00<00:00,  1.41it/s]\n",
      "Running inference: 100%|██████████| 1/1 [00:02<00:00,  2.35s/it]\n",
      "Running inference: 100%|██████████| 1/1 [00:02<00:00,  2.05s/it]"
     ]
    },
    {
     "name": "stdout",
     "output_type": "stream",
     "text": [
      "Epoch: 013, Average Loss: 0.5493\n",
      "Validation: {'precision': 0.7990605427933244, 'recall': 0.48008780181724653, 'f1': 0.5998041089226644, 'auc': 0.7809033757000117, 'prauc': 0.7682043415324304}\n",
      "Test:       {'precision': 0.8218040951808423, 'recall': 0.4656632173080412, 'f1': 0.5944755758445884, 'auc': 0.7803169704043846, 'prauc': 0.7747097460666861}\n",
      "\n",
      "Early stopping triggered after 13 epochs (no improvement for 10 epochs).\n",
      "\n",
      "Best validation performance:\n",
      "{'precision': 0.6807857581317349, 'recall': 0.6955158356829868, 'f1': 0.688071966458032, 'auc': 0.7350158029810299, 'prauc': 0.7465654599723701}\n",
      "Corresponding test performance:\n",
      "{'precision': 0.7369744879599821, 'recall': 0.6431483223560892, 'f1': 0.6868720646792148, 'auc': 0.7520592204241405, 'prauc': 0.762662954388262}\n",
      "Corresponding test-long performance:\n",
      "{'precision': 0.8044280442507591, 'recall': 0.4749455337587158, 'f1': 0.5972602692878589, 'auc': 0.7356719340338105, 'prauc': 0.7699600297317911}\n"
     ]
    },
    {
     "name": "stderr",
     "output_type": "stream",
     "text": [
      "\n"
     ]
    }
   ],
   "source": [
    "final_metrics, final_long_seq_metrics = [], []\n",
    "\n",
    "for seed in seeds:\n",
    "    set_random_seed(seed)\n",
    "    print(f\"Training with seed: {seed}\")\n",
    "    \n",
    "    # Initialize model, optimizer, and loss function\n",
    "    model = SetGNN(args, tokenizer).to(device)\n",
    "    optimizer = torch.optim.AdamW(model.parameters(), lr=args[\"lr\"])\n",
    "    \n",
    "    best_test_metric, best_test_long_seq_metric = train_with_early_stopping(\n",
    "        model, \n",
    "        train_dataloader, \n",
    "        val_dataloader, \n",
    "        test_dataloader,\n",
    "        optimizer, \n",
    "        loss_fn, \n",
    "        device, \n",
    "        args,\n",
    "        val_long_seq_idx,\n",
    "        test_long_seq_idx,\n",
    "        task_type=task_type,\n",
    "        eval_metric = \"f1\")\n",
    "    \n",
    "    final_metrics.append(best_test_metric)\n",
    "    final_long_seq_metrics.append(best_test_long_seq_metric)"
   ]
  },
  {
   "cell_type": "code",
   "execution_count": 13,
   "id": "36f57c40-0abf-4a16-8806-cadd794d1c02",
   "metadata": {
    "tags": []
   },
   "outputs": [],
   "source": [
    "import numpy as np\n",
    "def topk_avg_performance_formatted(performances, long_seq_performances, k=5):\n",
    "    metrics = [\"f1\", \"auc\", \"prauc\"]\n",
    "    scores = {m: np.array([p[m] for p in performances]) for m in metrics}\n",
    "\n",
    "    # 计算排名（值越大排名越靠前）\n",
    "    ranks = {m: (-scores[m]).argsort().argsort() + 1 for m in metrics}\n",
    "    avg_ranks = np.mean(np.stack([ranks[m] for m in metrics], axis=1), axis=1)\n",
    "\n",
    "    # 选 top-k\n",
    "    topk_idx = np.argsort(avg_ranks)[:k]\n",
    "    final_avg = {m: np.mean([performances[i][m] for i in topk_idx]) for m in performances[0].keys()}\n",
    "    final_std = {m: np.std([performances[i][m] for i in topk_idx], ddof=0) for m in performances[0].keys()}\n",
    "    final_long_seq_avg = {m: np.mean([long_seq_performances[i][m] for i in topk_idx]) for m in long_seq_performances[0].keys()}\n",
    "    final_long_seq_std = {m: np.std([long_seq_performances[i][m] for i in topk_idx], ddof=0) for m in long_seq_performances[0].keys()}\n",
    "\n",
    "    # 打印结果（转百分比，均保留两位小数）\n",
    "    print(\"Final Metrics:\")\n",
    "    for m in performances[0].keys():\n",
    "        mean_val = final_avg[m] * 100\n",
    "        std_val = final_std[m] * 100\n",
    "        print(f\"{m}: {mean_val:.2f} ± {std_val:.2f}\")\n",
    "    print(\"\\nFinal Long Sequence Metrics:\")\n",
    "    for m in long_seq_performances[0].keys():\n",
    "        mean_val = final_long_seq_avg[m] * 100\n",
    "        std_val = final_long_seq_std[m] * 100\n",
    "        print(f\"{m}: {mean_val:.2f} ± {std_val:.2f}\")"
   ]
  },
  {
   "cell_type": "code",
   "execution_count": 14,
   "id": "89f127fc-b5f0-44ab-b9bb-3b321913ef4d",
   "metadata": {
    "tags": []
   },
   "outputs": [],
   "source": [
    "def print_per_class_performance(dfs, col_name=\"prauc\"):\n",
    "    \"\"\"\n",
    "    输入一个 DataFrame 列表，对每个疾病在所有表格的指定列计算 mean ± std 并打印。\n",
    "\n",
    "    参数:\n",
    "        dfs (list[pd.DataFrame]): 多个表格组成的列表\n",
    "        col_name (str): 要计算的指标列名 (默认: \"prauc\")\n",
    "    \"\"\"\n",
    "    # 拼接所有表格\n",
    "    all_values = pd.concat(dfs, axis=0)\n",
    "\n",
    "    # 按疾病分组，计算 mean 和 std\n",
    "    grouped = all_values.groupby(all_values.index)[col_name].agg([\"mean\", \"std\"])\n",
    "\n",
    "    # 打印\n",
    "    for disease, row in grouped.iterrows():\n",
    "        mean_val = row[\"mean\"] * 100\n",
    "        std_val = row[\"std\"] * 100\n",
    "        print(f\"{disease}: {mean_val:.2f} ± {std_val:.2f}\")"
   ]
  },
  {
   "cell_type": "code",
   "execution_count": 15,
   "id": "de561b29-f604-4efd-9b0a-7ac7848dbb93",
   "metadata": {
    "tags": []
   },
   "outputs": [
    {
     "name": "stdout",
     "output_type": "stream",
     "text": [
      "Final Metrics:\n",
      "precision: 78.98 ± 1.27\n",
      "recall: 63.61 ± 6.55\n",
      "f1: 70.28 ± 3.98\n",
      "auc: 81.08 ± 2.83\n",
      "prauc: 81.84 ± 3.22\n",
      "\n",
      "Final Long Sequence Metrics:\n",
      "precision: 82.30 ± 1.59\n",
      "recall: 55.95 ± 7.14\n",
      "f1: 66.41 ± 5.41\n",
      "auc: 79.96 ± 2.51\n",
      "prauc: 82.17 ± 2.47\n"
     ]
    }
   ],
   "source": [
    "if task_type == \"binary\":\n",
    "    topk_avg_performance_formatted(final_metrics, final_long_seq_metrics)\n",
    "else:\n",
    "    final_metrics_global = [metrics[\"global\"] for metrics in final_metrics]\n",
    "    final_metrics_per_class = [metrics[\"per_class\"] for metrics in final_metrics]\n",
    "    final_long_seq_metrics_global = [metrics[\"global\"] for metrics in final_long_seq_metrics]\n",
    "    final_long_seq_metrics_per_class = [metrics[\"per_class\"] for metrics in final_long_seq_metrics]\n",
    "    topk_avg_performance_formatted(final_metrics_global, final_long_seq_metrics_global)\n",
    "    print(\"\\nPer-class performance, all patients:\")\n",
    "    print_per_class_performance(final_metrics_per_class, col_name=\"prauc\")\n",
    "    print(\"\\nPer-class performance, long seq:\")\n",
    "    print_per_class_performance(final_long_seq_metrics_per_class, col_name=\"prauc\")"
   ]
  }
 ],
 "metadata": {
  "kernelspec": {
   "display_name": "heart-cuda",
   "language": "python",
   "name": "heart-cuda"
  },
  "language_info": {
   "codemirror_mode": {
    "name": "ipython",
    "version": 3
   },
   "file_extension": ".py",
   "mimetype": "text/x-python",
   "name": "python",
   "nbconvert_exporter": "python",
   "pygments_lexer": "ipython3",
   "version": "3.10.18"
  }
 },
 "nbformat": 4,
 "nbformat_minor": 5
}
