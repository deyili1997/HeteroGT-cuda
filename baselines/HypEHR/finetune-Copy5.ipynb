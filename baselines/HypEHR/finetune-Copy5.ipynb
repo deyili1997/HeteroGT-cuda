{
 "cells": [
  {
   "cell_type": "code",
   "execution_count": 1,
   "id": "105bbf2f",
   "metadata": {},
   "outputs": [
    {
     "name": "stderr",
     "output_type": "stream",
     "text": [
      "Disabling PyTorch because PyTorch >= 2.1 is required but found 1.13.1\n",
      "None of PyTorch, TensorFlow >= 2.0, or Flax have been found. Models won't be available and only tokenizers, configuration and file/data utilities can be used.\n"
     ]
    }
   ],
   "source": [
    "import torch\n",
    "import random\n",
    "from model import SetGNN \n",
    "import pickle\n",
    "from tokenizer import EHRTokenizer\n",
    "from dataset import FinetuneHGDataset, batcher_SetGNN_finetune\n",
    "from torch.utils.data import DataLoader\n",
    "import torch.nn.functional as F\n",
    "from train import PHENO_ORDER, train_with_early_stopping\n",
    "from set_seed import set_random_seed"
   ]
  },
  {
   "cell_type": "code",
   "execution_count": 2,
   "id": "eb757cdd",
   "metadata": {},
   "outputs": [
    {
     "name": "stdout",
     "output_type": "stream",
     "text": [
      "cuda\n"
     ]
    }
   ],
   "source": [
    "device = torch.device(\"cuda\" if torch.cuda.is_available() else \"cpu\")\n",
    "print(device)"
   ]
  },
  {
   "cell_type": "code",
   "execution_count": 3,
   "id": "89793d45",
   "metadata": {},
   "outputs": [],
   "source": [
    "args = {\n",
    "    \"dataset\": \"MIMIC-IV\", \n",
    "    \"task\": \"stay\",  # options: death, stay, readmission, next_diag_6m, next_diag_12m\n",
    "    \"special_tokens\":[\"[PAD]\", \"[CLS]\"],\n",
    "    \"predicted_token_type\": [\"diag\", \"med\", \"lab\", \"pro\"],\n",
    "    \"batch_size\": 256,\n",
    "    \"lr\": 1e-3,\n",
    "    \"epochs\": 500,\n",
    "    \"model_name\": \"HG\",\n",
    "    \"early_stop_patience\": 10,\n",
    "    # model hyperparameters\n",
    "    \"level\": \"visit\",  # \"visit\" or \"patient\"\n",
    "    \"hg_all_num_layers\": 3,\n",
    "    \"hg_use_type_embed\": True,\n",
    "    \"MLP_num_layers\": 2,\n",
    "    \"hg_aggregate\": \"mean\",\n",
    "    \"hg_dropout\": 0.0,\n",
    "    \"normtype\": \"all_one\",\n",
    "    \"add_self_loop\": True,\n",
    "    \"hg_normalization\": \"ln\",\n",
    "    \"hg_hidden_size\": 128,\n",
    "    \"PMA\": True,\n",
    "    \"hg_num_heads\": 4,\n",
    "}"
   ]
  },
  {
   "cell_type": "code",
   "execution_count": 4,
   "id": "c32fba6c",
   "metadata": {},
   "outputs": [],
   "source": [
    "full_data_path = f\"/home/lideyi/HeteroGT-cuda/data_process/{args['dataset']}-processed/mimic.pkl\"\n",
    "\n",
    "if args[\"task\"] == \"next_diag_6m\":\n",
    "    finetune_data_path = f\"/home/lideyi/HeteroGT-cuda/data_process/{args['dataset']}-processed/mimic_nextdiag_6m.pkl\"\n",
    "elif args[\"task\"] == \"next_diag_12m\":\n",
    "    finetune_data_path = f\"/home/lideyi/HeteroGT-cuda/data_process/{args['dataset']}-processed/mimic_nextdiag_12m.pkl\"\n",
    "else:\n",
    "    finetune_data_path = f\"/home/lideyi/HeteroGT-cuda/data_process/{args['dataset']}-processed/mimic_downstream.pkl\""
   ]
  },
  {
   "cell_type": "code",
   "execution_count": 5,
   "id": "9ab08e48",
   "metadata": {},
   "outputs": [
    {
     "name": "stdout",
     "output_type": "stream",
     "text": [
      "Max admissions per patient: 8\n"
     ]
    }
   ],
   "source": [
    "ehr_full_data = pickle.load(open(full_data_path, 'rb'))\n",
    "diag_sentences = ehr_full_data[\"ICD9_CODE\"].values.tolist()\n",
    "med_sentences = ehr_full_data[\"NDC\"].values.tolist()\n",
    "lab_sentences = ehr_full_data[\"LAB_TEST\"].values.tolist()\n",
    "pro_sentences = ehr_full_data[\"PRO_CODE\"].values.tolist()\n",
    "age_gender_sentences = [\"[PAD]\"] + [str(c) + \"_\" + gender \\\n",
    "    for c in set(ehr_full_data[\"AGE\"].values.tolist()) for gender in [\"M\", \"F\"]] # PAD token special for age_gender vocabulary\n",
    "max_admissions = ehr_full_data.groupby(\"SUBJECT_ID\")[\"HADM_ID\"].nunique().max()\n",
    "args[\"max_adm_len\"] = max_admissions\n",
    "print(f\"Max admissions per patient: {max_admissions}\")"
   ]
  },
  {
   "cell_type": "code",
   "execution_count": 6,
   "id": "42864fb3",
   "metadata": {},
   "outputs": [
    {
     "name": "stdout",
     "output_type": "stream",
     "text": [
      "Age and gender vocabulary size: 41\n",
      "Global vocabulary size: 4207\n",
      "Label vocabulary size: 18\n"
     ]
    }
   ],
   "source": [
    "tokenizer = EHRTokenizer(age_gender_sentences, diag_sentences, med_sentences, lab_sentences, \n",
    "                         pro_sentences, special_tokens=args[\"special_tokens\"])\n",
    "args[\"age_gender_vocab_size\"] = tokenizer.token_number(\"age_gender\")\n",
    "args[\"global_vocab_size\"] = len(tokenizer.vocab.id2word)\n",
    "args[\"label_vocab_size\"] = len(PHENO_ORDER)\n",
    "print(f\"Age and gender vocabulary size: {args['age_gender_vocab_size']}\")\n",
    "print(f\"Global vocabulary size: {args['global_vocab_size']}\")\n",
    "print(f\"Label vocabulary size: {args['label_vocab_size']}\")"
   ]
  },
  {
   "cell_type": "code",
   "execution_count": 7,
   "id": "f7ff21ce",
   "metadata": {},
   "outputs": [
    {
     "name": "stdout",
     "output_type": "stream",
     "text": [
      "7621 15401 15621\n"
     ]
    }
   ],
   "source": [
    "train_data, val_data, test_data = pickle.load(open(finetune_data_path, 'rb'))\n",
    "\n",
    "# output: input_ids (a patient has multiple visits), labels\n",
    "train_dataset = FinetuneHGDataset(train_data, tokenizer, token_type=args[\"predicted_token_type\"], task=args[\"task\"], level=args[\"level\"])\n",
    "val_dataset = FinetuneHGDataset(val_data, tokenizer, token_type=args[\"predicted_token_type\"], task=args[\"task\"], level=args[\"level\"])\n",
    "test_dataset = FinetuneHGDataset(test_data, tokenizer, token_type=args[\"predicted_token_type\"], task=args[\"task\"], level=args[\"level\"])\n",
    "print(len(train_dataset), len(val_dataset), len(test_dataset))"
   ]
  },
  {
   "cell_type": "code",
   "execution_count": 8,
   "id": "42afdd7b",
   "metadata": {},
   "outputs": [
    {
     "name": "stdout",
     "output_type": "stream",
     "text": [
      "3379 3608\n"
     ]
    }
   ],
   "source": [
    "long_adm_seq_crite = 3\n",
    "val_long_seq_idx, test_long_seq_idx = [], []\n",
    "for i in range(len(val_dataset)):\n",
    "    hadm_id = list(val_dataset.records.keys())[i]\n",
    "    num_adms = len(val_dataset.records[hadm_id])\n",
    "    if num_adms >= long_adm_seq_crite:\n",
    "        val_long_seq_idx.append(i)\n",
    "for i in range(len(test_dataset)):\n",
    "    hadm_id = list(test_dataset.records.keys())[i]\n",
    "    num_adms = len(test_dataset.records[hadm_id])\n",
    "    if num_adms >= long_adm_seq_crite:\n",
    "        test_long_seq_idx.append(i)\n",
    "print(len(val_long_seq_idx), len(test_long_seq_idx))"
   ]
  },
  {
   "cell_type": "code",
   "execution_count": 9,
   "id": "d0769b44",
   "metadata": {},
   "outputs": [],
   "source": [
    "use_full_graph = True\n",
    "train_batch_size = len(train_dataset) if use_full_graph else args[\"batch_size\"]\n",
    "val_batch_size = len(val_dataset) if use_full_graph else args[\"batch_size\"]\n",
    "test_batch_size = len(test_dataset) if use_full_graph else args[\"batch_size\"]\n",
    "train_dataloader = DataLoader(train_dataset, collate_fn=batcher_SetGNN_finetune(device = device), batch_size = train_batch_size, shuffle = True)\n",
    "val_dataloader = DataLoader(val_dataset, collate_fn=batcher_SetGNN_finetune(device = device), batch_size = val_batch_size, shuffle = False)\n",
    "test_dataloader = DataLoader(test_dataset, collate_fn=batcher_SetGNN_finetune(device = device), batch_size = test_batch_size, shuffle = False)"
   ]
  },
  {
   "cell_type": "code",
   "execution_count": 10,
   "id": "92a62432",
   "metadata": {},
   "outputs": [],
   "source": [
    "if args[\"task\"] in [\"death\", \"stay\", \"readmission\"]:\n",
    "    eval_metric = \"prauc\"\n",
    "    task_type = \"binary\"\n",
    "    loss_fn = F.binary_cross_entropy_with_logits\n",
    "else:\n",
    "    eval_metric = \"prauc\"\n",
    "    task_type = \"l2r\"\n",
    "    loss_fn = lambda x, y: F.binary_cross_entropy_with_logits(x, y)"
   ]
  },
  {
   "cell_type": "code",
   "execution_count": 11,
   "id": "33afa400",
   "metadata": {},
   "outputs": [
    {
     "name": "stdout",
     "output_type": "stream",
     "text": [
      "[2746317213, 1181241943, 958682846, 3163119785, 1812140441, 127978094, 939042955, 2340505846, 946785248, 2530876844, 3460967357, 2998485882, 1461364854, 667779376, 1445662585]\n"
     ]
    }
   ],
   "source": [
    "random.seed(42)\n",
    "seeds = [random.randint(0, 2**32 - 1) for _ in range(15)]\n",
    "print(seeds)"
   ]
  },
  {
   "cell_type": "code",
   "execution_count": 12,
   "id": "71af0347",
   "metadata": {},
   "outputs": [
    {
     "name": "stdout",
     "output_type": "stream",
     "text": [
      "[INFO] Random seed set to 2746317213\n",
      "Training with seed: 2746317213\n"
     ]
    },
    {
     "name": "stderr",
     "output_type": "stream",
     "text": [
      "Training Batches: 100%|██████████| 1/1 [00:02<00:00,  2.39s/it]\n",
      "Running inference: 100%|██████████| 1/1 [00:04<00:00,  4.39s/it]\n",
      "Running inference: 100%|██████████| 1/1 [00:04<00:00,  4.39s/it]\n"
     ]
    },
    {
     "name": "stdout",
     "output_type": "stream",
     "text": [
      "Epoch: 001, Average Loss: 0.6981\n",
      "Validation: {'precision': 0.47202572347206173, 'recall': 0.7049558202060988, 'f1': 0.5654417947481533, 'auc': 0.7061749967075, 'prauc': 0.5622686272016076}\n",
      "Test:       {'precision': 0.4550170821201379, 'recall': 0.6899462778190907, 'f1': 0.5483797130899577, 'auc': 0.6874861064282067, 'prauc': 0.5359739978754918}\n"
     ]
    },
    {
     "name": "stderr",
     "output_type": "stream",
     "text": [
      "Training Batches: 100%|██████████| 1/1 [00:01<00:00,  1.72s/it]\n",
      "Running inference: 100%|██████████| 1/1 [00:03<00:00,  3.89s/it]\n",
      "Running inference: 100%|██████████| 1/1 [00:03<00:00,  3.83s/it]\n"
     ]
    },
    {
     "name": "stdout",
     "output_type": "stream",
     "text": [
      "Epoch: 002, Average Loss: 0.6788\n",
      "Validation: {'precision': 0.5389355742286854, 'recall': 0.5543603534372755, 'f1': 0.5465391484892133, 'auc': 0.7159432649956656, 'prauc': 0.5693790296582353}\n",
      "Test:       {'precision': 0.5146133925258701, 'recall': 0.5337682271670495, 'f1': 0.5240158171894183, 'auc': 0.6963359384003173, 'prauc': 0.5391354787794816}\n"
     ]
    },
    {
     "name": "stderr",
     "output_type": "stream",
     "text": [
      "Training Batches: 100%|██████████| 1/1 [00:02<00:00,  2.57s/it]\n",
      "Running inference: 100%|██████████| 1/1 [00:03<00:00,  3.82s/it]\n",
      "Running inference: 100%|██████████| 1/1 [00:03<00:00,  3.84s/it]\n"
     ]
    },
    {
     "name": "stdout",
     "output_type": "stream",
     "text": [
      "Epoch: 003, Average Loss: 0.6595\n",
      "Validation: {'precision': 0.5512796208520355, 'recall': 0.5585862466374211, 'f1': 0.5549088777393545, 'auc': 0.7216793935846084, 'prauc': 0.5772168852302109}\n",
      "Test:       {'precision': 0.5281385281375341, 'recall': 0.5383729854172326, 'f1': 0.5332066458308012, 'auc': 0.7019952993922329, 'prauc': 0.543442175358948}\n"
     ]
    },
    {
     "name": "stderr",
     "output_type": "stream",
     "text": [
      "Training Batches: 100%|██████████| 1/1 [00:02<00:00,  2.12s/it]\n",
      "Running inference: 100%|██████████| 1/1 [00:04<00:00,  4.30s/it]\n",
      "Running inference: 100%|██████████| 1/1 [00:03<00:00,  3.42s/it]\n"
     ]
    },
    {
     "name": "stdout",
     "output_type": "stream",
     "text": [
      "Epoch: 004, Average Loss: 0.6399\n",
      "Validation: {'precision': 0.5716853035132354, 'recall': 0.549942374182578, 'f1': 0.5606030887936146, 'auc': 0.7380089409040046, 'prauc': 0.5862312885539354}\n",
      "Test:       {'precision': 0.5447687115335621, 'recall': 0.5264773599375931, 'f1': 0.5354668698174684, 'auc': 0.7177380019077002, 'prauc': 0.5518316747094663}\n"
     ]
    },
    {
     "name": "stderr",
     "output_type": "stream",
     "text": [
      "Training Batches: 100%|██████████| 1/1 [00:02<00:00,  2.16s/it]\n",
      "Running inference: 100%|██████████| 1/1 [00:03<00:00,  3.81s/it]\n",
      "Running inference: 100%|██████████| 1/1 [00:04<00:00,  4.26s/it]\n"
     ]
    },
    {
     "name": "stdout",
     "output_type": "stream",
     "text": [
      "Epoch: 005, Average Loss: 0.6208\n",
      "Validation: {'precision': 0.583418838496648, 'recall': 0.5461006530915365, 'f1': 0.5641432631857057, 'auc': 0.7519030838714224, 'prauc': 0.5943353128410054}\n",
      "Test:       {'precision': 0.555488174650181, 'recall': 0.5272448196459569, 'f1': 0.540998124739516, 'auc': 0.7307961069170394, 'prauc': 0.5595796643612213}\n"
     ]
    },
    {
     "name": "stderr",
     "output_type": "stream",
     "text": [
      "Training Batches: 100%|██████████| 1/1 [00:02<00:00,  2.56s/it]\n",
      "Running inference: 100%|██████████| 1/1 [00:03<00:00,  3.85s/it]\n",
      "Running inference: 100%|██████████| 1/1 [00:03<00:00,  3.82s/it]\n"
     ]
    },
    {
     "name": "stdout",
     "output_type": "stream",
     "text": [
      "Epoch: 006, Average Loss: 0.6011\n",
      "Validation: {'precision': 0.5717548534439061, 'recall': 0.5770265078744199, 'f1': 0.5743785800850492, 'auc': 0.75129836607212, 'prauc': 0.5985613590206943}\n",
      "Test:       {'precision': 0.544222807676808, 'recall': 0.5548733691470551, 'f1': 0.5494964798939724, 'auc': 0.7291653656323595, 'prauc': 0.5619678571645376}\n"
     ]
    },
    {
     "name": "stderr",
     "output_type": "stream",
     "text": [
      "Training Batches: 100%|██████████| 1/1 [00:02<00:00,  2.15s/it]\n",
      "Running inference: 100%|██████████| 1/1 [00:03<00:00,  3.83s/it]\n",
      "Running inference: 100%|██████████| 1/1 [00:04<00:00,  4.75s/it]\n"
     ]
    },
    {
     "name": "stdout",
     "output_type": "stream",
     "text": [
      "Epoch: 007, Average Loss: 0.5847\n",
      "Validation: {'precision': 0.5471304347816571, 'recall': 0.6043027276208138, 'f1': 0.574297183766299, 'auc': 0.7440615545838101, 'prauc': 0.5951618417897646}\n",
      "Test:       {'precision': 0.5219611848816446, 'recall': 0.5882578664608821, 'f1': 0.5531300689839974, 'auc': 0.7216987343513683, 'prauc': 0.5583518835145441}\n"
     ]
    },
    {
     "name": "stderr",
     "output_type": "stream",
     "text": [
      "Training Batches: 100%|██████████| 1/1 [00:01<00:00,  1.26s/it]\n",
      "Running inference: 100%|██████████| 1/1 [00:04<00:00,  4.23s/it]\n",
      "Running inference: 100%|██████████| 1/1 [00:04<00:00,  4.33s/it]\n"
     ]
    },
    {
     "name": "stdout",
     "output_type": "stream",
     "text": [
      "Epoch: 008, Average Loss: 0.5664\n",
      "Validation: {'precision': 0.5682386566620788, 'recall': 0.6110257395301364, 'f1': 0.5888559742724303, 'auc': 0.7597262900900742, 'prauc': 0.611502082378155}\n",
      "Test:       {'precision': 0.5393971443671084, 'recall': 0.5871066768983363, 'f1': 0.5622416119119318, 'auc': 0.736384668294683, 'prauc': 0.574056917010849}\n"
     ]
    },
    {
     "name": "stderr",
     "output_type": "stream",
     "text": [
      "Training Batches: 100%|██████████| 1/1 [00:02<00:00,  2.13s/it]\n",
      "Running inference: 100%|██████████| 1/1 [00:04<00:00,  4.39s/it]\n",
      "Running inference: 100%|██████████| 1/1 [00:03<00:00,  3.37s/it]\n"
     ]
    },
    {
     "name": "stdout",
     "output_type": "stream",
     "text": [
      "Epoch: 009, Average Loss: 0.5514\n",
      "Validation: {'precision': 0.5876423371278932, 'recall': 0.6046868997299181, 'f1': 0.5960427858736982, 'auc': 0.7755692351056059, 'prauc': 0.6269397395116828}\n",
      "Test:       {'precision': 0.5600073855233383, 'recall': 0.5819263238668805, 'f1': 0.5707564872852996, 'auc': 0.7527553233900028, 'prauc': 0.5908454569831321}\n"
     ]
    },
    {
     "name": "stderr",
     "output_type": "stream",
     "text": [
      "Training Batches: 100%|██████████| 1/1 [00:02<00:00,  2.17s/it]\n",
      "Running inference: 100%|██████████| 1/1 [00:04<00:00,  4.41s/it]\n",
      "Running inference: 100%|██████████| 1/1 [00:03<00:00,  3.49s/it]\n"
     ]
    },
    {
     "name": "stdout",
     "output_type": "stream",
     "text": [
      "Epoch: 010, Average Loss: 0.5428\n",
      "Validation: {'precision': 0.59212945935897, 'recall': 0.6185170956576671, 'f1': 0.6050356958655753, 'auc': 0.778575292363642, 'prauc': 0.6326998695556322}\n",
      "Test:       {'precision': 0.5617690058469266, 'recall': 0.5897927858776097, 'f1': 0.5754399051478967, 'auc': 0.7560749792430499, 'prauc': 0.5971334034221116}\n"
     ]
    },
    {
     "name": "stderr",
     "output_type": "stream",
     "text": [
      "Training Batches: 100%|██████████| 1/1 [00:02<00:00,  2.15s/it]\n",
      "Running inference: 100%|██████████| 1/1 [00:03<00:00,  3.98s/it]\n",
      "Running inference: 100%|██████████| 1/1 [00:03<00:00,  3.91s/it]\n"
     ]
    },
    {
     "name": "stdout",
     "output_type": "stream",
     "text": [
      "Epoch: 011, Average Loss: 0.5302\n",
      "Validation: {'precision': 0.5719851248440376, 'recall': 0.6204379562031878, 'f1': 0.5952271211473965, 'auc': 0.7697154243688715, 'prauc': 0.6249002611966784}\n",
      "Test:       {'precision': 0.5458223394889256, 'recall': 0.5953568687632476, 'f1': 0.5695145402960693, 'auc': 0.747321715659164, 'prauc': 0.5890291764583709}\n"
     ]
    },
    {
     "name": "stderr",
     "output_type": "stream",
     "text": [
      "Training Batches: 100%|██████████| 1/1 [00:02<00:00,  2.60s/it]\n",
      "Running inference: 100%|██████████| 1/1 [00:03<00:00,  3.91s/it]\n",
      "Running inference: 100%|██████████| 1/1 [00:03<00:00,  3.95s/it]\n"
     ]
    },
    {
     "name": "stdout",
     "output_type": "stream",
     "text": [
      "Epoch: 012, Average Loss: 0.5291\n",
      "Validation: {'precision': 0.6020098596878991, 'recall': 0.6098732232028239, 'f1': 0.6059160255334054, 'auc': 0.784866322613757, 'prauc': 0.6414837702407078}\n",
      "Test:       {'precision': 0.5712940290062699, 'recall': 0.5819263238668805, 'f1': 0.5765611583868397, 'auc': 0.7625235872758145, 'prauc': 0.6061844569648615}\n"
     ]
    },
    {
     "name": "stderr",
     "output_type": "stream",
     "text": [
      "Training Batches: 100%|██████████| 1/1 [00:01<00:00,  1.70s/it]\n",
      "Running inference: 100%|██████████| 1/1 [00:03<00:00,  3.84s/it]\n",
      "Running inference: 100%|██████████| 1/1 [00:04<00:00,  4.80s/it]\n"
     ]
    },
    {
     "name": "stdout",
     "output_type": "stream",
     "text": [
      "Epoch: 013, Average Loss: 0.5199\n",
      "Validation: {'precision': 0.6096078431360596, 'recall': 0.5971955436023872, 'f1': 0.603337856439296, 'auc': 0.7873763946493246, 'prauc': 0.6454003984797813}\n",
      "Test:       {'precision': 0.5785188057375368, 'recall': 0.5725249424394234, 'f1': 0.5755062630800286, 'auc': 0.7640561473198226, 'prauc': 0.6086055224384519}\n"
     ]
    },
    {
     "name": "stderr",
     "output_type": "stream",
     "text": [
      "Training Batches: 100%|██████████| 1/1 [00:01<00:00,  1.25s/it]\n",
      "Running inference: 100%|██████████| 1/1 [00:04<00:00,  4.24s/it]\n",
      "Running inference: 100%|██████████| 1/1 [00:04<00:00,  4.28s/it]\n"
     ]
    },
    {
     "name": "stdout",
     "output_type": "stream",
     "text": [
      "Epoch: 014, Average Loss: 0.5190\n",
      "Validation: {'precision': 0.6147194852189529, 'recall': 0.5872070687656796, 'f1': 0.6006483887532817, 'auc': 0.7869505081189565, 'prauc': 0.6455866617175177}\n",
      "Test:       {'precision': 0.5799522673019492, 'recall': 0.5594781273972381, 'f1': 0.5695312450005021, 'auc': 0.7628903867874537, 'prauc': 0.6071285820811996}\n"
     ]
    },
    {
     "name": "stderr",
     "output_type": "stream",
     "text": [
      "Training Batches: 100%|██████████| 1/1 [00:02<00:00,  2.13s/it]\n",
      "Running inference: 100%|██████████| 1/1 [00:04<00:00,  4.29s/it]\n",
      "Running inference: 100%|██████████| 1/1 [00:03<00:00,  3.35s/it]\n"
     ]
    },
    {
     "name": "stdout",
     "output_type": "stream",
     "text": [
      "Epoch: 015, Average Loss: 0.5177\n",
      "Validation: {'precision': 0.6105995498248198, 'recall': 0.5731847867833785, 'f1': 0.5913008966188037, 'auc': 0.7822006505113409, 'prauc': 0.6403451008473787}\n",
      "Test:       {'precision': 0.5774762001203616, 'recall': 0.5470069071363258, 'f1': 0.561828746603707, 'auc': 0.7580922060555217, 'prauc': 0.6008469726062438}\n"
     ]
    },
    {
     "name": "stderr",
     "output_type": "stream",
     "text": [
      "Training Batches: 100%|██████████| 1/1 [00:02<00:00,  2.14s/it]\n",
      "Running inference: 100%|██████████| 1/1 [00:04<00:00,  4.37s/it]\n",
      "Running inference: 100%|██████████| 1/1 [00:03<00:00,  3.41s/it]\n"
     ]
    },
    {
     "name": "stdout",
     "output_type": "stream",
     "text": [
      "Epoch: 016, Average Loss: 0.5143\n",
      "Validation: {'precision': 0.61876768996164, 'recall': 0.5459085670369844, 'f1': 0.5800591847316193, 'auc': 0.7823199624231068, 'prauc': 0.640485377512222}\n",
      "Test:       {'precision': 0.5856590811494512, 'recall': 0.5234075211041378, 'f1': 0.5527862158859599, 'auc': 0.7587654843972839, 'prauc': 0.6009362073978645}\n"
     ]
    },
    {
     "name": "stderr",
     "output_type": "stream",
     "text": [
      "Training Batches: 100%|██████████| 1/1 [00:02<00:00,  2.15s/it]\n",
      "Running inference: 100%|██████████| 1/1 [00:03<00:00,  3.79s/it]\n",
      "Running inference: 100%|██████████| 1/1 [00:03<00:00,  3.82s/it]\n"
     ]
    },
    {
     "name": "stdout",
     "output_type": "stream",
     "text": [
      "Epoch: 017, Average Loss: 0.5127\n",
      "Validation: {'precision': 0.6416382252544085, 'recall': 0.5055704955810496, 'f1': 0.5655350187047061, 'auc': 0.7884376724558773, 'prauc': 0.6468286520251165}\n",
      "Test:       {'precision': 0.6070325492976787, 'recall': 0.49021488871740176, 'f1': 0.5424052598894036, 'auc': 0.7660888022179873, 'prauc': 0.6083869332630167}\n"
     ]
    },
    {
     "name": "stderr",
     "output_type": "stream",
     "text": [
      "Training Batches: 100%|██████████| 1/1 [00:02<00:00,  2.57s/it]\n",
      "Running inference: 100%|██████████| 1/1 [00:03<00:00,  3.88s/it]\n",
      "Running inference: 100%|██████████| 1/1 [00:03<00:00,  3.83s/it]\n"
     ]
    },
    {
     "name": "stdout",
     "output_type": "stream",
     "text": [
      "Epoch: 018, Average Loss: 0.5126\n",
      "Validation: {'precision': 0.6561581619004645, 'recall': 0.4717633499798852, 'f1': 0.5488881390591008, 'auc': 0.7925626427574325, 'prauc': 0.6514316407152284}\n",
      "Test:       {'precision': 0.6224783861655162, 'recall': 0.45587106676812, 'f1': 0.5263041262512048, 'auc': 0.7710862577819669, 'prauc': 0.6153245112036378}\n"
     ]
    },
    {
     "name": "stderr",
     "output_type": "stream",
     "text": [
      "Training Batches: 100%|██████████| 1/1 [00:02<00:00,  2.15s/it]\n",
      "Running inference: 100%|██████████| 1/1 [00:04<00:00,  4.34s/it]\n",
      "Running inference: 100%|██████████| 1/1 [00:03<00:00,  3.43s/it]\n"
     ]
    },
    {
     "name": "stdout",
     "output_type": "stream",
     "text": [
      "Epoch: 019, Average Loss: 0.5084\n",
      "Validation: {'precision': 0.6642397087631917, 'recall': 0.4556281213975113, 'f1': 0.540503584097875, 'auc': 0.7942986616905794, 'prauc': 0.6536524866373588}\n",
      "Test:       {'precision': 0.6299836155089296, 'recall': 0.44263238679884376, 'f1': 0.5199459045496141, 'auc': 0.7733258739061266, 'prauc': 0.6187689710902015}\n"
     ]
    },
    {
     "name": "stderr",
     "output_type": "stream",
     "text": [
      "Training Batches: 100%|██████████| 1/1 [00:02<00:00,  2.12s/it]\n",
      "Running inference: 100%|██████████| 1/1 [00:03<00:00,  3.80s/it]\n",
      "Running inference: 100%|██████████| 1/1 [00:04<00:00,  4.83s/it]\n"
     ]
    },
    {
     "name": "stdout",
     "output_type": "stream",
     "text": [
      "Epoch: 020, Average Loss: 0.5051\n",
      "Validation: {'precision': 0.6691407365096513, 'recall': 0.4502497118700533, 'f1': 0.5382937143310712, 'auc': 0.7946380482624926, 'prauc': 0.6554641339125518}\n",
      "Test:       {'precision': 0.6347537354714036, 'recall': 0.4401381427466613, 'f1': 0.5198277767172265, 'auc': 0.7736112934914418, 'prauc': 0.6201637599585538}\n"
     ]
    },
    {
     "name": "stderr",
     "output_type": "stream",
     "text": [
      "Training Batches: 100%|██████████| 1/1 [00:01<00:00,  1.26s/it]\n",
      "Running inference: 100%|██████████| 1/1 [00:04<00:00,  4.22s/it]\n",
      "Running inference: 100%|██████████| 1/1 [00:04<00:00,  4.27s/it]\n"
     ]
    },
    {
     "name": "stdout",
     "output_type": "stream",
     "text": [
      "Epoch: 021, Average Loss: 0.5041\n",
      "Validation: {'precision': 0.6728202215260641, 'recall': 0.4550518632338551, 'f1': 0.5429127945434665, 'auc': 0.7914571258085467, 'prauc': 0.6545930050327258}\n",
      "Test:       {'precision': 0.6403557531944404, 'recall': 0.44205679201757087, 'f1': 0.523041992896478, 'auc': 0.7704692265172555, 'prauc': 0.6193854647790255}\n"
     ]
    },
    {
     "name": "stderr",
     "output_type": "stream",
     "text": [
      "Training Batches: 100%|██████████| 1/1 [00:02<00:00,  2.11s/it]\n",
      "Running inference: 100%|██████████| 1/1 [00:04<00:00,  4.40s/it]\n",
      "Running inference: 100%|██████████| 1/1 [00:03<00:00,  3.44s/it]\n"
     ]
    },
    {
     "name": "stdout",
     "output_type": "stream",
     "text": [
      "Epoch: 022, Average Loss: 0.5007\n",
      "Validation: {'precision': 0.6810826713719298, 'recall': 0.44467921628804324, 'f1': 0.5380592630867562, 'auc': 0.7924694918546658, 'prauc': 0.6579201306627828}\n",
      "Test:       {'precision': 0.6508670520212403, 'recall': 0.432079815808841, 'f1': 0.5193726889298191, 'auc': 0.7715330271260767, 'prauc': 0.62341368782957}\n",
      "\n",
      "Early stopping triggered after 22 epochs (no improvement for 10 epochs).\n",
      "\n",
      "Best validation performance:\n",
      "{'precision': 0.6020098596878991, 'recall': 0.6098732232028239, 'f1': 0.6059160255334054, 'auc': 0.784866322613757, 'prauc': 0.6414837702407078}\n",
      "Corresponding test performance:\n",
      "{'precision': 0.5712940290062699, 'recall': 0.5819263238668805, 'f1': 0.5765611583868397, 'auc': 0.7625235872758145, 'prauc': 0.6061844569648615}\n",
      "Corresponding test-long performance:\n",
      "{'precision': 0.6280925778082356, 'recall': 0.5181040157964576, 'f1': 0.5678210628630124, 'auc': 0.7229274884493244, 'prauc': 0.6595343117345736}\n",
      "[INFO] Random seed set to 1181241943\n",
      "Training with seed: 1181241943\n"
     ]
    },
    {
     "name": "stderr",
     "output_type": "stream",
     "text": [
      "Training Batches: 100%|██████████| 1/1 [00:02<00:00,  2.13s/it]\n",
      "Running inference: 100%|██████████| 1/1 [00:04<00:00,  4.34s/it]\n",
      "Running inference: 100%|██████████| 1/1 [00:03<00:00,  3.42s/it]\n"
     ]
    },
    {
     "name": "stdout",
     "output_type": "stream",
     "text": [
      "Epoch: 001, Average Loss: 0.6902\n",
      "Validation: {'precision': 0.7063870352649535, 'recall': 0.14233576642308426, 'f1': 0.23693045284312234, 'auc': 0.704523000114743, 'prauc': 0.5485879517384975}\n",
      "Test:       {'precision': 0.6735930735872416, 'recall': 0.14927091327676656, 'f1': 0.24438510775648617, 'auc': 0.6853942552370885, 'prauc': 0.5150749643942152}\n"
     ]
    },
    {
     "name": "stderr",
     "output_type": "stream",
     "text": [
      "Training Batches: 100%|██████████| 1/1 [00:02<00:00,  2.13s/it]\n",
      "Running inference: 100%|██████████| 1/1 [00:03<00:00,  3.86s/it]\n",
      "Running inference: 100%|██████████| 1/1 [00:04<00:00,  4.30s/it]\n"
     ]
    },
    {
     "name": "stdout",
     "output_type": "stream",
     "text": [
      "Epoch: 002, Average Loss: 0.6752\n",
      "Validation: {'precision': 0.6674097191231948, 'recall': 0.28755282366444956, 'f1': 0.4019331411786745, 'auc': 0.7337381868018511, 'prauc': 0.5847172769681832}\n",
      "Test:       {'precision': 0.6431478968763313, 'recall': 0.2728319263233445, 'f1': 0.38313349979032985, 'auc': 0.7142078826347735, 'prauc': 0.5603135968858901}\n"
     ]
    },
    {
     "name": "stderr",
     "output_type": "stream",
     "text": [
      "Training Batches: 100%|██████████| 1/1 [00:02<00:00,  2.56s/it]\n",
      "Running inference: 100%|██████████| 1/1 [00:03<00:00,  3.92s/it]\n",
      "Running inference: 100%|██████████| 1/1 [00:03<00:00,  3.86s/it]\n"
     ]
    },
    {
     "name": "stdout",
     "output_type": "stream",
     "text": [
      "Epoch: 003, Average Loss: 0.6575\n",
      "Validation: {'precision': 0.6319148936151006, 'recall': 0.3993469074137546, 'f1': 0.4894067749141566, 'auc': 0.7478742037001482, 'prauc': 0.5960661224245414}\n",
      "Test:       {'precision': 0.6045941807025893, 'recall': 0.3787413660775542, 'f1': 0.46573079625358305, 'auc': 0.7284699773876244, 'prauc': 0.5734634149824055}\n"
     ]
    },
    {
     "name": "stderr",
     "output_type": "stream",
     "text": [
      "Training Batches: 100%|██████████| 1/1 [00:02<00:00,  2.14s/it]\n",
      "Running inference: 100%|██████████| 1/1 [00:03<00:00,  3.85s/it]\n",
      "Running inference: 100%|██████████| 1/1 [00:04<00:00,  4.77s/it]\n"
     ]
    },
    {
     "name": "stdout",
     "output_type": "stream",
     "text": [
      "Epoch: 004, Average Loss: 0.6373\n",
      "Validation: {'precision': 0.5936651583696976, 'recall': 0.5040338071446331, 'f1': 0.5451901051506334, 'auc': 0.7542127891441516, 'prauc': 0.6021990299222355}\n",
      "Test:       {'precision': 0.5646503260612443, 'recall': 0.48177283192539955, 'f1': 0.5199295943676928, 'auc': 0.7329628405431954, 'prauc': 0.5737646535402455}\n"
     ]
    },
    {
     "name": "stderr",
     "output_type": "stream",
     "text": [
      "Training Batches: 100%|██████████| 1/1 [00:01<00:00,  1.24s/it]\n",
      "Running inference: 100%|██████████| 1/1 [00:04<00:00,  4.27s/it]\n",
      "Running inference: 100%|██████████| 1/1 [00:04<00:00,  4.30s/it]\n"
     ]
    },
    {
     "name": "stdout",
     "output_type": "stream",
     "text": [
      "Epoch: 005, Average Loss: 0.6184\n",
      "Validation: {'precision': 0.5823061630207111, 'recall': 0.5626200537830146, 'f1': 0.5722938597912941, 'auc': 0.7610900916567955, 'prauc': 0.6103167025225822}\n",
      "Test:       {'precision': 0.5511251480447076, 'recall': 0.5356868764379592, 'f1': 0.5432963561597105, 'auc': 0.7392638679689125, 'prauc': 0.5796980232852238}\n"
     ]
    },
    {
     "name": "stderr",
     "output_type": "stream",
     "text": [
      "Training Batches: 100%|██████████| 1/1 [00:02<00:00,  2.13s/it]\n",
      "Running inference: 100%|██████████| 1/1 [00:04<00:00,  4.37s/it]\n",
      "Running inference: 100%|██████████| 1/1 [00:03<00:00,  3.46s/it]\n"
     ]
    },
    {
     "name": "stdout",
     "output_type": "stream",
     "text": [
      "Epoch: 006, Average Loss: 0.6011\n",
      "Validation: {'precision': 0.5785093397437053, 'recall': 0.6008451786388767, 'f1': 0.5894657445531183, 'auc': 0.7688316306853091, 'prauc': 0.619627393641453}\n",
      "Test:       {'precision': 0.5514624213244141, 'recall': 0.5715656178039686, 'f1': 0.5613340820553778, 'auc': 0.7471975813185459, 'prauc': 0.5880864389171183}\n"
     ]
    },
    {
     "name": "stderr",
     "output_type": "stream",
     "text": [
      "Training Batches: 100%|██████████| 1/1 [00:02<00:00,  2.12s/it]\n",
      "Running inference: 100%|██████████| 1/1 [00:04<00:00,  4.33s/it]\n",
      "Running inference: 100%|██████████| 1/1 [00:03<00:00,  3.42s/it]\n"
     ]
    },
    {
     "name": "stdout",
     "output_type": "stream",
     "text": [
      "Epoch: 007, Average Loss: 0.5823\n",
      "Validation: {'precision': 0.5721775602926037, 'recall': 0.6288897426034789, 'f1': 0.5991947241462152, 'auc': 0.7719617949410242, 'prauc': 0.6249441452255418}\n",
      "Test:       {'precision': 0.5466124181840676, 'recall': 0.5928626247110651, 'f1': 0.5687988905433156, 'auc': 0.7500519614976915, 'prauc': 0.5926418528105293}\n"
     ]
    },
    {
     "name": "stderr",
     "output_type": "stream",
     "text": [
      "Training Batches: 100%|██████████| 1/1 [00:02<00:00,  2.17s/it]\n",
      "Running inference: 100%|██████████| 1/1 [00:03<00:00,  3.89s/it]\n",
      "Running inference: 100%|██████████| 1/1 [00:03<00:00,  3.89s/it]\n"
     ]
    },
    {
     "name": "stdout",
     "output_type": "stream",
     "text": [
      "Epoch: 008, Average Loss: 0.5667\n",
      "Validation: {'precision': 0.569041188385265, 'recall': 0.6475220898950298, 'f1': 0.6057502196378688, 'auc': 0.774941512198642, 'prauc': 0.6290483798025621}\n",
      "Test:       {'precision': 0.5431679129834412, 'recall': 0.6132003069827069, 'f1': 0.576063441304251, 'auc': 0.7519972643073284, 'prauc': 0.5956257514656833}\n"
     ]
    },
    {
     "name": "stderr",
     "output_type": "stream",
     "text": [
      "Training Batches: 100%|██████████| 1/1 [00:02<00:00,  2.57s/it]\n",
      "Running inference: 100%|██████████| 1/1 [00:03<00:00,  3.92s/it]\n",
      "Running inference: 100%|██████████| 1/1 [00:03<00:00,  3.96s/it]\n"
     ]
    },
    {
     "name": "stdout",
     "output_type": "stream",
     "text": [
      "Epoch: 009, Average Loss: 0.5507\n",
      "Validation: {'precision': 0.565937707089851, 'recall': 0.6561659623498729, 'f1': 0.607721041103384, 'auc': 0.7755176949974913, 'prauc': 0.6297329264908159}\n",
      "Test:       {'precision': 0.5409564785693514, 'recall': 0.6272064466603469, 'f1': 0.580897373968917, 'auc': 0.7519002443204184, 'prauc': 0.5949717314680238}\n"
     ]
    },
    {
     "name": "stderr",
     "output_type": "stream",
     "text": [
      "Training Batches: 100%|██████████| 1/1 [00:01<00:00,  1.70s/it]\n",
      "Running inference: 100%|██████████| 1/1 [00:03<00:00,  3.82s/it]\n",
      "Running inference: 100%|██████████| 1/1 [00:04<00:00,  4.75s/it]\n"
     ]
    },
    {
     "name": "stdout",
     "output_type": "stream",
     "text": [
      "Epoch: 010, Average Loss: 0.5414\n",
      "Validation: {'precision': 0.5743710957275462, 'recall': 0.6534767575861439, 'f1': 0.6113756801665685, 'auc': 0.7814645341691794, 'prauc': 0.6413205876765911}\n",
      "Test:       {'precision': 0.5515192666770472, 'recall': 0.6233691481185277, 'f1': 0.5852472254958945, 'auc': 0.7591472696122303, 'prauc': 0.6083696723172354}\n"
     ]
    },
    {
     "name": "stderr",
     "output_type": "stream",
     "text": [
      "Training Batches: 100%|██████████| 1/1 [00:01<00:00,  1.24s/it]\n",
      "Running inference: 100%|██████████| 1/1 [00:04<00:00,  4.26s/it]\n",
      "Running inference: 100%|██████████| 1/1 [00:04<00:00,  4.28s/it]\n"
     ]
    },
    {
     "name": "stdout",
     "output_type": "stream",
     "text": [
      "Epoch: 011, Average Loss: 0.5283\n",
      "Validation: {'precision': 0.5785629352801451, 'recall': 0.6542451018043522, 'f1': 0.6140809469694178, 'auc': 0.78317292247957, 'prauc': 0.6454593805343668}\n",
      "Test:       {'precision': 0.555689447408236, 'recall': 0.6193399846496176, 'f1': 0.5857907581022576, 'auc': 0.7617642010459837, 'prauc': 0.6132653704490183}\n"
     ]
    },
    {
     "name": "stderr",
     "output_type": "stream",
     "text": [
      "Training Batches: 100%|██████████| 1/1 [00:02<00:00,  2.13s/it]\n",
      "Running inference: 100%|██████████| 1/1 [00:04<00:00,  4.39s/it]\n",
      "Running inference: 100%|██████████| 1/1 [00:03<00:00,  3.41s/it]\n"
     ]
    },
    {
     "name": "stdout",
     "output_type": "stream",
     "text": [
      "Epoch: 012, Average Loss: 0.5208\n",
      "Validation: {'precision': 0.5820359281427168, 'recall': 0.6534767575861439, 'f1': 0.6156908827180735, 'auc': 0.7871185904821406, 'prauc': 0.6487919913488247}\n",
      "Test:       {'precision': 0.5605774187995178, 'recall': 0.6258633921707102, 'f1': 0.5914241632671724, 'auc': 0.7649895741531307, 'prauc': 0.6140199839268772}\n"
     ]
    },
    {
     "name": "stderr",
     "output_type": "stream",
     "text": [
      "Training Batches: 100%|██████████| 1/1 [00:02<00:00,  2.14s/it]\n",
      "Running inference: 100%|██████████| 1/1 [00:04<00:00,  4.36s/it]\n",
      "Running inference: 100%|██████████| 1/1 [00:03<00:00,  3.46s/it]\n"
     ]
    },
    {
     "name": "stdout",
     "output_type": "stream",
     "text": [
      "Epoch: 013, Average Loss: 0.5168\n",
      "Validation: {'precision': 0.5811660717311216, 'recall': 0.6567422205135292, 'f1': 0.6166471228018151, 'auc': 0.7861097760026017, 'prauc': 0.644207972934978}\n",
      "Test:       {'precision': 0.5558009172744084, 'recall': 0.6277820414416198, 'f1': 0.5896026619243593, 'auc': 0.7636147787273351, 'prauc': 0.6074620855050413}\n"
     ]
    },
    {
     "name": "stderr",
     "output_type": "stream",
     "text": [
      "Training Batches: 100%|██████████| 1/1 [00:02<00:00,  2.18s/it]\n",
      "Running inference: 100%|██████████| 1/1 [00:03<00:00,  3.83s/it]\n",
      "Running inference: 100%|██████████| 1/1 [00:03<00:00,  3.87s/it]\n"
     ]
    },
    {
     "name": "stdout",
     "output_type": "stream",
     "text": [
      "Epoch: 014, Average Loss: 0.5142\n",
      "Validation: {'precision': 0.5881432545191444, 'recall': 0.6498271225496546, 'f1': 0.6174484345075449, 'auc': 0.7893178297874506, 'prauc': 0.6499534981640215}\n",
      "Test:       {'precision': 0.5623153137483707, 'recall': 0.6206830391392543, 'f1': 0.5900592745368592, 'auc': 0.7672829673860223, 'prauc': 0.6138508065732681}\n"
     ]
    },
    {
     "name": "stderr",
     "output_type": "stream",
     "text": [
      "Training Batches: 100%|██████████| 1/1 [00:02<00:00,  2.58s/it]\n",
      "Running inference: 100%|██████████| 1/1 [00:03<00:00,  3.84s/it]\n",
      "Running inference: 100%|██████████| 1/1 [00:03<00:00,  3.87s/it]\n"
     ]
    },
    {
     "name": "stdout",
     "output_type": "stream",
     "text": [
      "Epoch: 015, Average Loss: 0.5083\n",
      "Validation: {'precision': 0.5989198919881208, 'recall': 0.6390703034947386, 'f1': 0.618344015076594, 'auc': 0.7942272817967422, 'prauc': 0.6594024344793166}\n",
      "Test:       {'precision': 0.576468448807826, 'recall': 0.6082118188783419, 'f1': 0.5919148488910104, 'auc': 0.7731182859717524, 'prauc': 0.6245943499041746}\n"
     ]
    },
    {
     "name": "stderr",
     "output_type": "stream",
     "text": [
      "Training Batches: 100%|██████████| 1/1 [00:02<00:00,  2.16s/it]\n",
      "Running inference: 100%|██████████| 1/1 [00:04<00:00,  4.44s/it]\n",
      "Running inference: 100%|██████████| 1/1 [00:03<00:00,  3.37s/it]\n"
     ]
    },
    {
     "name": "stdout",
     "output_type": "stream",
     "text": [
      "Epoch: 016, Average Loss: 0.5070\n",
      "Validation: {'precision': 0.6149802890921439, 'recall': 0.6292739147125831, 'f1': 0.6220449964235745, 'auc': 0.7969693926557371, 'prauc': 0.6657357172731755}\n",
      "Test:       {'precision': 0.5903176425553189, 'recall': 0.5919033000756103, 'f1': 0.5911094029314305, 'auc': 0.7772695746279545, 'prauc': 0.632373899493563}\n"
     ]
    },
    {
     "name": "stderr",
     "output_type": "stream",
     "text": [
      "Training Batches: 100%|██████████| 1/1 [00:02<00:00,  2.16s/it]\n",
      "Running inference: 100%|██████████| 1/1 [00:03<00:00,  3.81s/it]\n",
      "Running inference: 100%|██████████| 1/1 [00:04<00:00,  4.76s/it]\n"
     ]
    },
    {
     "name": "stdout",
     "output_type": "stream",
     "text": [
      "Epoch: 017, Average Loss: 0.5041\n",
      "Validation: {'precision': 0.6164435946450929, 'recall': 0.6192854398758754, 'f1': 0.6178612445197316, 'auc': 0.798622387832201, 'prauc': 0.6675451573201807}\n",
      "Test:       {'precision': 0.5953825083142332, 'recall': 0.58384497313779, 'f1': 0.5895572942340551, 'auc': 0.7797503813151836, 'prauc': 0.6344230570490963}\n"
     ]
    },
    {
     "name": "stderr",
     "output_type": "stream",
     "text": [
      "Training Batches: 100%|██████████| 1/1 [00:01<00:00,  1.23s/it]\n",
      "Running inference: 100%|██████████| 1/1 [00:04<00:00,  4.30s/it]\n",
      "Running inference: 100%|██████████| 1/1 [00:04<00:00,  4.27s/it]\n"
     ]
    },
    {
     "name": "stdout",
     "output_type": "stream",
     "text": [
      "Epoch: 018, Average Loss: 0.5015\n",
      "Validation: {'precision': 0.6104440632730885, 'recall': 0.6152516327302819, 'f1': 0.612838414591366, 'auc': 0.7973255573180453, 'prauc': 0.6630672227571252}\n",
      "Test:       {'precision': 0.5922972184388401, 'recall': 0.5842287029919719, 'f1': 0.5882352891167459, 'auc': 0.779253880817909, 'prauc': 0.629724123569943}\n"
     ]
    },
    {
     "name": "stderr",
     "output_type": "stream",
     "text": [
      "Training Batches: 100%|██████████| 1/1 [00:02<00:00,  2.13s/it]\n",
      "Running inference: 100%|██████████| 1/1 [00:04<00:00,  4.29s/it]\n",
      "Running inference: 100%|██████████| 1/1 [00:03<00:00,  3.43s/it]\n"
     ]
    },
    {
     "name": "stdout",
     "output_type": "stream",
     "text": [
      "Epoch: 019, Average Loss: 0.4953\n",
      "Validation: {'precision': 0.608913756510498, 'recall': 0.6062235881663346, 'f1': 0.6075656894834058, 'auc': 0.796142687814283, 'prauc': 0.6610406676014868}\n",
      "Test:       {'precision': 0.5902954412040886, 'recall': 0.5788564850334251, 'f1': 0.5845199988741889, 'auc': 0.7782788239588696, 'prauc': 0.6271799540822034}\n"
     ]
    },
    {
     "name": "stderr",
     "output_type": "stream",
     "text": [
      "Training Batches: 100%|██████████| 1/1 [00:02<00:00,  2.12s/it]\n",
      "Running inference: 100%|██████████| 1/1 [00:04<00:00,  4.40s/it]\n",
      "Running inference: 100%|██████████| 1/1 [00:03<00:00,  3.41s/it]\n"
     ]
    },
    {
     "name": "stdout",
     "output_type": "stream",
     "text": [
      "Epoch: 020, Average Loss: 0.4922\n",
      "Validation: {'precision': 0.6228174603162245, 'recall': 0.6029581252389494, 'f1': 0.6127269128217054, 'auc': 0.8014100849794735, 'prauc': 0.6714076222355282}\n",
      "Test:       {'precision': 0.6050112039099511, 'recall': 0.56983883346015, 'f1': 0.5868985228167789, 'auc': 0.7840884014195462, 'prauc': 0.6383023613034386}\n"
     ]
    },
    {
     "name": "stderr",
     "output_type": "stream",
     "text": [
      "Training Batches: 100%|██████████| 1/1 [00:02<00:00,  2.14s/it]\n",
      "Running inference: 100%|██████████| 1/1 [00:03<00:00,  3.86s/it]\n",
      "Running inference: 100%|██████████| 1/1 [00:03<00:00,  3.82s/it]\n"
     ]
    },
    {
     "name": "stdout",
     "output_type": "stream",
     "text": [
      "Epoch: 021, Average Loss: 0.4894\n",
      "Validation: {'precision': 0.6407198158597182, 'recall': 0.5881674990384399, 'f1': 0.6133199749778704, 'auc': 0.8065233893739766, 'prauc': 0.6819092047109971}\n",
      "Test:       {'precision': 0.6261398176278199, 'recall': 0.5533384497303274, 'f1': 0.5874923559874998, 'auc': 0.7894094965636842, 'prauc': 0.649122665120987}\n"
     ]
    },
    {
     "name": "stderr",
     "output_type": "stream",
     "text": [
      "Training Batches: 100%|██████████| 1/1 [00:02<00:00,  2.56s/it]\n",
      "Running inference: 100%|██████████| 1/1 [00:03<00:00,  3.84s/it]\n",
      "Running inference: 100%|██████████| 1/1 [00:03<00:00,  3.91s/it]\n"
     ]
    },
    {
     "name": "stdout",
     "output_type": "stream",
     "text": [
      "Epoch: 022, Average Loss: 0.4835\n",
      "Validation: {'precision': 0.6585097001749152, 'recall': 0.5737610449470346, 'f1': 0.6132210995183875, 'auc': 0.809762945648596, 'prauc': 0.6897400089345505}\n",
      "Test:       {'precision': 0.6436755270379384, 'recall': 0.5389485801985054, 'f1': 0.5866750159235317, 'auc': 0.7923714586091926, 'prauc': 0.6569459404413251}\n"
     ]
    },
    {
     "name": "stderr",
     "output_type": "stream",
     "text": [
      "Training Batches: 100%|██████████| 1/1 [00:01<00:00,  1.70s/it]\n",
      "Running inference: 100%|██████████| 1/1 [00:03<00:00,  3.83s/it]\n",
      "Running inference: 100%|██████████| 1/1 [00:04<00:00,  4.78s/it]\n"
     ]
    },
    {
     "name": "stdout",
     "output_type": "stream",
     "text": [
      "Epoch: 023, Average Loss: 0.4810\n",
      "Validation: {'precision': 0.6667419792122306, 'recall': 0.5668459469831602, 'f1': 0.6127491644667326, 'auc': 0.8113522387210442, 'prauc': 0.6946133595073458}\n",
      "Test:       {'precision': 0.6509167842015728, 'recall': 0.5312739831148671, 'f1': 0.5850411951344885, 'auc': 0.7935321593930278, 'prauc': 0.6613752028757401}\n"
     ]
    },
    {
     "name": "stderr",
     "output_type": "stream",
     "text": [
      "Training Batches: 100%|██████████| 1/1 [00:01<00:00,  1.25s/it]\n",
      "Running inference: 100%|██████████| 1/1 [00:04<00:00,  4.20s/it]\n",
      "Running inference: 100%|██████████| 1/1 [00:04<00:00,  4.29s/it]\n"
     ]
    },
    {
     "name": "stdout",
     "output_type": "stream",
     "text": [
      "Epoch: 024, Average Loss: 0.4814\n",
      "Validation: {'precision': 0.6694101508901019, 'recall': 0.5624279677284625, 'f1': 0.611273481466499, 'auc': 0.81086031377761, 'prauc': 0.696145138194333}\n",
      "Test:       {'precision': 0.6497389653520415, 'recall': 0.5253261703750474, 'f1': 0.5809463137477944, 'auc': 0.792322814979392, 'prauc': 0.6620931664291598}\n"
     ]
    },
    {
     "name": "stderr",
     "output_type": "stream",
     "text": [
      "Training Batches: 100%|██████████| 1/1 [00:02<00:00,  2.13s/it]\n",
      "Running inference: 100%|██████████| 1/1 [00:04<00:00,  4.38s/it]\n",
      "Running inference: 100%|██████████| 1/1 [00:03<00:00,  3.42s/it]\n"
     ]
    },
    {
     "name": "stdout",
     "output_type": "stream",
     "text": [
      "Epoch: 025, Average Loss: 0.4768\n",
      "Validation: {'precision': 0.6665899148038992, 'recall': 0.5560891279282442, 'f1': 0.6063462093028428, 'auc': 0.8070388563993295, 'prauc': 0.6934329148138028}\n",
      "Test:       {'precision': 0.6465661641525567, 'recall': 0.5184190329997728, 'f1': 0.5754445696519686, 'auc': 0.7883354382133002, 'prauc': 0.6596685971928554}\n"
     ]
    },
    {
     "name": "stderr",
     "output_type": "stream",
     "text": [
      "Training Batches: 100%|██████████| 1/1 [00:02<00:00,  2.18s/it]\n",
      "Running inference: 100%|██████████| 1/1 [00:04<00:00,  4.33s/it]\n",
      "Running inference: 100%|██████████| 1/1 [00:03<00:00,  3.44s/it]\n"
     ]
    },
    {
     "name": "stdout",
     "output_type": "stream",
     "text": [
      "Epoch: 026, Average Loss: 0.4735\n",
      "Validation: {'precision': 0.6589164785538174, 'recall': 0.5606991932374938, 'f1': 0.6058530460896997, 'auc': 0.8056281402395884, 'prauc': 0.6929763060177296}\n",
      "Test:       {'precision': 0.6446066886466213, 'recall': 0.5251343054479564, 'f1': 0.5787692908851491, 'auc': 0.7871819630084272, 'prauc': 0.6597637401091914}\n",
      "\n",
      "Early stopping triggered after 26 epochs (no improvement for 10 epochs).\n",
      "\n",
      "Best validation performance:\n",
      "{'precision': 0.6149802890921439, 'recall': 0.6292739147125831, 'f1': 0.6220449964235745, 'auc': 0.7969693926557371, 'prauc': 0.6657357172731755}\n",
      "Corresponding test performance:\n",
      "{'precision': 0.5903176425553189, 'recall': 0.5919033000756103, 'f1': 0.5911094029314305, 'auc': 0.7772695746279545, 'prauc': 0.632373899493563}\n",
      "Corresponding test-long performance:\n",
      "{'precision': 0.6543674698745907, 'recall': 0.5720868992720732, 'f1': 0.6104671534305797, 'auc': 0.7442851690931936, 'prauc': 0.6848765430119335}\n",
      "[INFO] Random seed set to 958682846\n",
      "Training with seed: 958682846\n"
     ]
    },
    {
     "name": "stderr",
     "output_type": "stream",
     "text": [
      "Training Batches: 100%|██████████| 1/1 [00:02<00:00,  2.18s/it]\n",
      "Running inference: 100%|██████████| 1/1 [00:03<00:00,  3.89s/it]\n",
      "Running inference: 100%|██████████| 1/1 [00:03<00:00,  3.93s/it]\n"
     ]
    },
    {
     "name": "stdout",
     "output_type": "stream",
     "text": [
      "Epoch: 001, Average Loss: 0.6958\n",
      "Validation: {'precision': 0.536970567120036, 'recall': 0.4310411064148463, 'f1': 0.4782099044887969, 'auc': 0.6941234008294274, 'prauc': 0.5311274008883624}\n",
      "Test:       {'precision': 0.5122309197639133, 'recall': 0.4017651573284694, 'f1': 0.4503225757172289, 'auc': 0.6762187100173878, 'prauc': 0.5086417243956483}\n"
     ]
    },
    {
     "name": "stderr",
     "output_type": "stream",
     "text": [
      "Training Batches: 100%|██████████| 1/1 [00:02<00:00,  2.60s/it]\n",
      "Running inference: 100%|██████████| 1/1 [00:03<00:00,  3.89s/it]\n",
      "Running inference: 100%|██████████| 1/1 [00:03<00:00,  3.90s/it]\n"
     ]
    },
    {
     "name": "stdout",
     "output_type": "stream",
     "text": [
      "Epoch: 002, Average Loss: 0.6769\n",
      "Validation: {'precision': 0.5608597850523348, 'recall': 0.4310411064148463, 'f1': 0.48745519221720385, 'auc': 0.7083146789732373, 'prauc': 0.5437267179950469}\n",
      "Test:       {'precision': 0.5354209445571473, 'recall': 0.4002302379117417, 'f1': 0.45805884446657585, 'auc': 0.6907219861170086, 'prauc': 0.5200774640550927}\n"
     ]
    },
    {
     "name": "stderr",
     "output_type": "stream",
     "text": [
      "Training Batches: 100%|██████████| 1/1 [00:02<00:00,  2.14s/it]\n",
      "Running inference: 100%|██████████| 1/1 [00:03<00:00,  3.89s/it]\n",
      "Running inference: 100%|██████████| 1/1 [00:04<00:00,  4.35s/it]\n"
     ]
    },
    {
     "name": "stdout",
     "output_type": "stream",
     "text": [
      "Epoch: 003, Average Loss: 0.6589\n",
      "Validation: {'precision': 0.5768087215050128, 'recall': 0.4471763349972202, 'f1': 0.5037870541571642, 'auc': 0.725626248582906, 'prauc': 0.5565413457632433}\n",
      "Test:       {'precision': 0.549414161995544, 'recall': 0.4138526477351998, 'f1': 0.47209454532780243, 'auc': 0.7085119882308589, 'prauc': 0.5316443070757606}\n"
     ]
    },
    {
     "name": "stderr",
     "output_type": "stream",
     "text": [
      "Training Batches: 100%|██████████| 1/1 [00:01<00:00,  1.70s/it]\n",
      "Running inference: 100%|██████████| 1/1 [00:03<00:00,  3.92s/it]\n",
      "Running inference: 100%|██████████| 1/1 [00:03<00:00,  3.87s/it]\n"
     ]
    },
    {
     "name": "stdout",
     "output_type": "stream",
     "text": [
      "Epoch: 004, Average Loss: 0.6378\n",
      "Validation: {'precision': 0.5667766776665197, 'recall': 0.4948136765261337, 'f1': 0.5283560610664007, 'auc': 0.7351762698075202, 'prauc': 0.5670886420014543}\n",
      "Test:       {'precision': 0.5429661207077788, 'recall': 0.4643131235601222, 'f1': 0.5005688232433302, 'auc': 0.7171733284415672, 'prauc': 0.539561743796303}\n"
     ]
    },
    {
     "name": "stderr",
     "output_type": "stream",
     "text": [
      "Training Batches: 100%|██████████| 1/1 [00:02<00:00,  2.11s/it]\n",
      "Running inference: 100%|██████████| 1/1 [00:04<00:00,  4.75s/it]\n",
      "Running inference: 100%|██████████| 1/1 [00:03<00:00,  3.42s/it]\n"
     ]
    },
    {
     "name": "stdout",
     "output_type": "stream",
     "text": [
      "Epoch: 005, Average Loss: 0.6192\n",
      "Validation: {'precision': 0.5688510991278124, 'recall': 0.5268920476363295, 'f1': 0.5470682040209994, 'auc': 0.7454409660864016, 'prauc': 0.5777467077757226}\n",
      "Test:       {'precision': 0.5482722513077524, 'recall': 0.5023023791241322, 'f1': 0.5242815610443701, 'auc': 0.7267935416890469, 'prauc': 0.5487019793953867}\n"
     ]
    },
    {
     "name": "stderr",
     "output_type": "stream",
     "text": [
      "Training Batches: 100%|██████████| 1/1 [00:02<00:00,  2.17s/it]\n",
      "Running inference: 100%|██████████| 1/1 [00:03<00:00,  3.89s/it]\n",
      "Running inference: 100%|██████████| 1/1 [00:03<00:00,  3.94s/it]\n"
     ]
    },
    {
     "name": "stdout",
     "output_type": "stream",
     "text": [
      "Epoch: 006, Average Loss: 0.5996\n",
      "Validation: {'precision': 0.5700058582297012, 'recall': 0.5606991932374938, 'f1': 0.5653142198467311, 'auc': 0.7528907773635015, 'prauc': 0.587344138059192}\n",
      "Test:       {'precision': 0.5439043512337438, 'recall': 0.5324251726774129, 'f1': 0.5381035435742783, 'auc': 0.7337618752943226, 'prauc': 0.5573955191455595}\n"
     ]
    },
    {
     "name": "stderr",
     "output_type": "stream",
     "text": [
      "Training Batches: 100%|██████████| 1/1 [00:02<00:00,  2.60s/it]\n",
      "Running inference: 100%|██████████| 1/1 [00:03<00:00,  3.86s/it]\n",
      "Running inference: 100%|██████████| 1/1 [00:03<00:00,  3.91s/it]\n"
     ]
    },
    {
     "name": "stdout",
     "output_type": "stream",
     "text": [
      "Epoch: 007, Average Loss: 0.5830\n",
      "Validation: {'precision': 0.568495707352429, 'recall': 0.5850941221656069, 'f1': 0.5766754967038435, 'auc': 0.7595755039503407, 'prauc': 0.5962169703999662}\n",
      "Test:       {'precision': 0.5441999253999549, 'recall': 0.5598618572514201, 'f1': 0.5519197982910538, 'auc': 0.7408368507033918, 'prauc': 0.5667055254655502}\n"
     ]
    },
    {
     "name": "stderr",
     "output_type": "stream",
     "text": [
      "Training Batches: 100%|██████████| 1/1 [00:02<00:00,  2.18s/it]\n",
      "Running inference: 100%|██████████| 1/1 [00:04<00:00,  4.34s/it]\n",
      "Running inference: 100%|██████████| 1/1 [00:03<00:00,  3.40s/it]\n"
     ]
    },
    {
     "name": "stdout",
     "output_type": "stream",
     "text": [
      "Epoch: 008, Average Loss: 0.5673\n",
      "Validation: {'precision': 0.5703338806776677, 'recall': 0.6004610065297724, 'f1': 0.5850098200232695, 'auc': 0.7641945847747638, 'prauc': 0.6038498755146339}\n",
      "Test:       {'precision': 0.5498632634447587, 'recall': 0.5786646201063341, 'f1': 0.5638964145590875, 'auc': 0.746355958046519, 'prauc': 0.5754816401120413}\n"
     ]
    },
    {
     "name": "stderr",
     "output_type": "stream",
     "text": [
      "Training Batches: 100%|██████████| 1/1 [00:02<00:00,  2.14s/it]\n",
      "Running inference: 100%|██████████| 1/1 [00:03<00:00,  3.83s/it]\n",
      "Running inference: 100%|██████████| 1/1 [00:04<00:00,  4.85s/it]\n"
     ]
    },
    {
     "name": "stdout",
     "output_type": "stream",
     "text": [
      "Epoch: 009, Average Loss: 0.5522\n",
      "Validation: {'precision': 0.5739902191621554, 'recall': 0.6087207068755115, 'f1': 0.590845524974311, 'auc': 0.7680719534200268, 'prauc': 0.6123271994782247}\n",
      "Test:       {'precision': 0.5524120420737171, 'recall': 0.5844205679190629, 'f1': 0.5679656858475814, 'auc': 0.7503161190796058, 'prauc': 0.5840640285959398}\n"
     ]
    },
    {
     "name": "stderr",
     "output_type": "stream",
     "text": [
      "Training Batches: 100%|██████████| 1/1 [00:01<00:00,  1.25s/it]\n",
      "Running inference: 100%|██████████| 1/1 [00:04<00:00,  4.26s/it]\n",
      "Running inference: 100%|██████████| 1/1 [00:04<00:00,  4.26s/it]\n"
     ]
    },
    {
     "name": "stdout",
     "output_type": "stream",
     "text": [
      "Epoch: 010, Average Loss: 0.5432\n",
      "Validation: {'precision': 0.5656992084422767, 'recall': 0.6177487514394588, 'f1': 0.5905793724762212, 'auc': 0.7682031918126687, 'prauc': 0.6155256751973036}\n",
      "Test:       {'precision': 0.5437707496058994, 'recall': 0.5970836531070662, 'f1': 0.5691815222160964, 'auc': 0.7491194931595517, 'prauc': 0.5860063470135874}\n"
     ]
    },
    {
     "name": "stderr",
     "output_type": "stream",
     "text": [
      "Training Batches: 100%|██████████| 1/1 [00:02<00:00,  2.16s/it]\n",
      "Running inference: 100%|██████████| 1/1 [00:04<00:00,  4.34s/it]\n",
      "Running inference: 100%|██████████| 1/1 [00:03<00:00,  3.43s/it]\n"
     ]
    },
    {
     "name": "stdout",
     "output_type": "stream",
     "text": [
      "Epoch: 011, Average Loss: 0.5304\n",
      "Validation: {'precision': 0.5623689727453488, 'recall': 0.618325009603115, 'f1': 0.5890210380110675, 'auc': 0.7664967724078886, 'prauc': 0.6138187361011957}\n",
      "Test:       {'precision': 0.5390571231924655, 'recall': 0.6011128165759764, 'f1': 0.5683962214288745, 'auc': 0.7471743193781106, 'prauc': 0.5841373341283702}\n"
     ]
    },
    {
     "name": "stderr",
     "output_type": "stream",
     "text": [
      "Training Batches: 100%|██████████| 1/1 [00:02<00:00,  2.14s/it]\n",
      "Running inference: 100%|██████████| 1/1 [00:04<00:00,  4.35s/it]\n",
      "Running inference: 100%|██████████| 1/1 [00:03<00:00,  3.45s/it]\n"
     ]
    },
    {
     "name": "stdout",
     "output_type": "stream",
     "text": [
      "Epoch: 012, Average Loss: 0.5291\n",
      "Validation: {'precision': 0.5873398923323049, 'recall': 0.6077602766027511, 'f1': 0.5973756204133406, 'auc': 0.7793331137705258, 'prauc': 0.6343670033401859}\n",
      "Test:       {'precision': 0.5684816948512015, 'recall': 0.5869148119712454, 'f1': 0.5775512080654142, 'auc': 0.7625240204419003, 'prauc': 0.606460808357005}\n"
     ]
    },
    {
     "name": "stderr",
     "output_type": "stream",
     "text": [
      "Training Batches: 100%|██████████| 1/1 [00:02<00:00,  2.18s/it]\n",
      "Running inference: 100%|██████████| 1/1 [00:03<00:00,  3.93s/it]\n",
      "Running inference: 100%|██████████| 1/1 [00:03<00:00,  3.83s/it]\n"
     ]
    },
    {
     "name": "stdout",
     "output_type": "stream",
     "text": [
      "Epoch: 013, Average Loss: 0.5210\n",
      "Validation: {'precision': 0.5978805394978847, 'recall': 0.5960430272750749, 'f1': 0.5969603643716992, 'auc': 0.7816134267681102, 'prauc': 0.6400521584831022}\n",
      "Test:       {'precision': 0.576186830014211, 'recall': 0.5775134305437883, 'f1': 0.5768493625726843, 'auc': 0.7655920252317217, 'prauc': 0.6134524403047696}\n"
     ]
    },
    {
     "name": "stderr",
     "output_type": "stream",
     "text": [
      "Training Batches: 100%|██████████| 1/1 [00:02<00:00,  2.58s/it]\n",
      "Running inference: 100%|██████████| 1/1 [00:03<00:00,  3.89s/it]\n",
      "Running inference: 100%|██████████| 1/1 [00:03<00:00,  3.91s/it]\n"
     ]
    },
    {
     "name": "stdout",
     "output_type": "stream",
     "text": [
      "Epoch: 014, Average Loss: 0.5187\n",
      "Validation: {'precision': 0.6056751467698519, 'recall': 0.5945063388386583, 'f1': 0.6000387697181531, 'auc': 0.785215007318865, 'prauc': 0.6444118651858031}\n",
      "Test:       {'precision': 0.5808580858074532, 'recall': 0.5740598618561511, 'f1': 0.5774389605495753, 'auc': 0.7674092859896688, 'prauc': 0.6149534292538642}\n"
     ]
    },
    {
     "name": "stderr",
     "output_type": "stream",
     "text": [
      "Training Batches: 100%|██████████| 1/1 [00:01<00:00,  1.72s/it]\n",
      "Running inference: 100%|██████████| 1/1 [00:03<00:00,  3.88s/it]\n",
      "Running inference: 100%|██████████| 1/1 [00:04<00:00,  4.84s/it]\n"
     ]
    },
    {
     "name": "stdout",
     "output_type": "stream",
     "text": [
      "Epoch: 015, Average Loss: 0.5124\n",
      "Validation: {'precision': 0.5970381917369505, 'recall': 0.5885516711475441, 'f1': 0.5927645529406843, 'auc': 0.7783664564804973, 'prauc': 0.6367515221722324}\n",
      "Test:       {'precision': 0.5681948973708648, 'recall': 0.5683039140434223, 'f1': 0.5682493954785264, 'auc': 0.7591565688586247, 'prauc': 0.6057431677616121}\n"
     ]
    },
    {
     "name": "stderr",
     "output_type": "stream",
     "text": [
      "Training Batches: 100%|██████████| 1/1 [00:01<00:00,  1.26s/it]\n",
      "Running inference: 100%|██████████| 1/1 [00:04<00:00,  4.27s/it]\n",
      "Running inference: 100%|██████████| 1/1 [00:04<00:00,  4.34s/it]\n"
     ]
    },
    {
     "name": "stdout",
     "output_type": "stream",
     "text": [
      "Epoch: 016, Average Loss: 0.5128\n",
      "Validation: {'precision': 0.5937990580836071, 'recall': 0.5812524010745654, 'f1': 0.5874587408740171, 'auc': 0.7744788005389337, 'prauc': 0.6337766382570925}\n",
      "Test:       {'precision': 0.5676305064999658, 'recall': 0.5612049117410568, 'f1': 0.5643994161278718, 'auc': 0.7551574873919177, 'prauc': 0.6026015747384826}\n"
     ]
    },
    {
     "name": "stderr",
     "output_type": "stream",
     "text": [
      "Training Batches: 100%|██████████| 1/1 [00:02<00:00,  2.16s/it]\n",
      "Running inference: 100%|██████████| 1/1 [00:04<00:00,  4.40s/it]\n",
      "Running inference: 100%|██████████| 1/1 [00:03<00:00,  3.49s/it]\n"
     ]
    },
    {
     "name": "stdout",
     "output_type": "stream",
     "text": [
      "Epoch: 017, Average Loss: 0.5132\n",
      "Validation: {'precision': 0.6226617931614219, 'recall': 0.5562812139827963, 'f1': 0.587602713894643, 'auc': 0.7863886446336394, 'prauc': 0.6499628868585756}\n",
      "Test:       {'precision': 0.5944807246669592, 'recall': 0.5414428242506879, 'f1': 0.5667235616329174, 'auc': 0.7672493371084279, 'prauc': 0.6184794911669244}\n"
     ]
    },
    {
     "name": "stderr",
     "output_type": "stream",
     "text": [
      "Training Batches: 100%|██████████| 1/1 [00:02<00:00,  2.14s/it]\n",
      "Running inference: 100%|██████████| 1/1 [00:04<00:00,  4.38s/it]\n",
      "Running inference: 100%|██████████| 1/1 [00:03<00:00,  3.41s/it]\n"
     ]
    },
    {
     "name": "stdout",
     "output_type": "stream",
     "text": [
      "Epoch: 018, Average Loss: 0.5058\n",
      "Validation: {'precision': 0.6396292004620171, 'recall': 0.5301575105637146, 'f1': 0.5797710274971448, 'auc': 0.7929486330425319, 'prauc': 0.6586544685442344}\n",
      "Test:       {'precision': 0.6122123490530594, 'recall': 0.5155410590934084, 'f1': 0.5597333561437917, 'auc': 0.7751737143464681, 'prauc': 0.628645765386683}\n"
     ]
    },
    {
     "name": "stderr",
     "output_type": "stream",
     "text": [
      "Training Batches: 100%|██████████| 1/1 [00:02<00:00,  2.14s/it]\n",
      "Running inference: 100%|██████████| 1/1 [00:03<00:00,  3.92s/it]\n",
      "Running inference: 100%|██████████| 1/1 [00:03<00:00,  3.86s/it]\n"
     ]
    },
    {
     "name": "stdout",
     "output_type": "stream",
     "text": [
      "Epoch: 019, Average Loss: 0.5079\n",
      "Validation: {'precision': 0.6524329692138718, 'recall': 0.5048021513628413, 'f1': 0.5692007748072359, 'auc': 0.7938297606960092, 'prauc': 0.6602921065637135}\n",
      "Test:       {'precision': 0.6257065618072605, 'recall': 0.4884881043735831, 'f1': 0.5486477700988964, 'auc': 0.7779148630675368, 'prauc': 0.6327511131692167}\n"
     ]
    },
    {
     "name": "stderr",
     "output_type": "stream",
     "text": [
      "Training Batches: 100%|██████████| 1/1 [00:02<00:00,  2.58s/it]\n",
      "Running inference: 100%|██████████| 1/1 [00:03<00:00,  3.89s/it]\n",
      "Running inference: 100%|██████████| 1/1 [00:03<00:00,  3.89s/it]\n"
     ]
    },
    {
     "name": "stdout",
     "output_type": "stream",
     "text": [
      "Epoch: 020, Average Loss: 0.5035\n",
      "Validation: {'precision': 0.6679894179876509, 'recall': 0.48501728774397806, 'f1': 0.5619853056076375, 'auc': 0.7952035009967938, 'prauc': 0.6625882753091219}\n",
      "Test:       {'precision': 0.6365529809928754, 'recall': 0.4691097467373962, 'f1': 0.5401524307701678, 'auc': 0.7792335127955787, 'prauc': 0.6348311840711116}\n"
     ]
    },
    {
     "name": "stderr",
     "output_type": "stream",
     "text": [
      "Training Batches: 100%|██████████| 1/1 [00:02<00:00,  2.13s/it]\n",
      "Running inference: 100%|██████████| 1/1 [00:04<00:00,  4.35s/it]\n",
      "Running inference: 100%|██████████| 1/1 [00:03<00:00,  3.39s/it]\n"
     ]
    },
    {
     "name": "stdout",
     "output_type": "stream",
     "text": [
      "Epoch: 021, Average Loss: 0.5011\n",
      "Validation: {'precision': 0.6709470304957974, 'recall': 0.4817518248165929, 'f1': 0.5608228931656436, 'auc': 0.7940292890253579, 'prauc': 0.6626749994148939}\n",
      "Test:       {'precision': 0.6393834706334325, 'recall': 0.46162701458084876, 'f1': 0.5361559839870721, 'auc': 0.7773902159909878, 'prauc': 0.6334776240696733}\n"
     ]
    },
    {
     "name": "stderr",
     "output_type": "stream",
     "text": [
      "Training Batches: 100%|██████████| 1/1 [00:02<00:00,  2.17s/it]\n",
      "Running inference: 100%|██████████| 1/1 [00:03<00:00,  3.81s/it]\n",
      "Running inference: 100%|██████████| 1/1 [00:04<00:00,  4.77s/it]\n"
     ]
    },
    {
     "name": "stdout",
     "output_type": "stream",
     "text": [
      "Epoch: 022, Average Loss: 0.4957\n",
      "Validation: {'precision': 0.665590529995519, 'recall': 0.47522089896182246, 'f1': 0.5545220168795555, 'auc': 0.7898642623283165, 'prauc': 0.6602650917847814}\n",
      "Test:       {'precision': 0.6405176967759099, 'recall': 0.465272448195577, 'f1': 0.5390086637174017, 'auc': 0.7732537102794995, 'prauc': 0.630842269089925}\n"
     ]
    },
    {
     "name": "stderr",
     "output_type": "stream",
     "text": [
      "Training Batches: 100%|██████████| 1/1 [00:01<00:00,  1.26s/it]\n",
      "Running inference: 100%|██████████| 1/1 [00:04<00:00,  4.35s/it]\n",
      "Running inference: 100%|██████████| 1/1 [00:04<00:00,  4.35s/it]\n"
     ]
    },
    {
     "name": "stdout",
     "output_type": "stream",
     "text": [
      "Epoch: 023, Average Loss: 0.4926\n",
      "Validation: {'precision': 0.6703504043108616, 'recall': 0.4777180176709994, 'f1': 0.5578734810076155, 'auc': 0.7923550409730199, 'prauc': 0.6641673473888767}\n",
      "Test:       {'precision': 0.645410885804041, 'recall': 0.4641212586330312, 'f1': 0.5399553522751381, 'auc': 0.7763998232092527, 'prauc': 0.635705131187867}\n"
     ]
    },
    {
     "name": "stderr",
     "output_type": "stream",
     "text": [
      "Training Batches: 100%|██████████| 1/1 [00:02<00:00,  2.15s/it]\n",
      "Running inference: 100%|██████████| 1/1 [00:04<00:00,  4.32s/it]\n",
      "Running inference: 100%|██████████| 1/1 [00:03<00:00,  3.46s/it]\n"
     ]
    },
    {
     "name": "stdout",
     "output_type": "stream",
     "text": [
      "Epoch: 024, Average Loss: 0.4917\n",
      "Validation: {'precision': 0.6837299391237307, 'recall': 0.47464464079816626, 'f1': 0.5603174554790891, 'auc': 0.79913323876306, 'prauc': 0.6719594405275289}\n",
      "Test:       {'precision': 0.6608958505065653, 'recall': 0.4614351496537578, 'f1': 0.5434414142053893, 'auc': 0.7843597569315237, 'prauc': 0.6457185210114926}\n",
      "\n",
      "Early stopping triggered after 24 epochs (no improvement for 10 epochs).\n",
      "\n",
      "Best validation performance:\n",
      "{'precision': 0.6056751467698519, 'recall': 0.5945063388386583, 'f1': 0.6000387697181531, 'auc': 0.785215007318865, 'prauc': 0.6444118651858031}\n",
      "Corresponding test performance:\n",
      "{'precision': 0.5808580858074532, 'recall': 0.5740598618561511, 'f1': 0.5774389605495753, 'auc': 0.7674092859896688, 'prauc': 0.6149534292538642}\n",
      "Corresponding test-long performance:\n",
      "{'precision': 0.6335754640788251, 'recall': 0.5167873601019304, 'f1': 0.5692530769908438, 'auc': 0.7268011916080689, 'prauc': 0.6634956313568466}\n",
      "[INFO] Random seed set to 3163119785\n",
      "Training with seed: 3163119785\n"
     ]
    },
    {
     "name": "stderr",
     "output_type": "stream",
     "text": [
      "Training Batches: 100%|██████████| 1/1 [00:02<00:00,  2.15s/it]\n",
      "Running inference: 100%|██████████| 1/1 [00:04<00:00,  4.37s/it]\n",
      "Running inference: 100%|██████████| 1/1 [00:03<00:00,  3.48s/it]\n"
     ]
    },
    {
     "name": "stdout",
     "output_type": "stream",
     "text": [
      "Epoch: 001, Average Loss: 0.6897\n",
      "Validation: {'precision': 0.5863539445566487, 'recall': 0.1056473300036388, 'f1': 0.1790364557455233, 'auc': 0.6899353125011186, 'prauc': 0.4997432292778836}\n",
      "Test:       {'precision': 0.5879629629561578, 'recall': 0.09746738296220747, 'f1': 0.16721527076593998, 'auc': 0.6771904766574354, 'prauc': 0.48620551117400296}\n"
     ]
    },
    {
     "name": "stderr",
     "output_type": "stream",
     "text": [
      "Training Batches: 100%|██████████| 1/1 [00:02<00:00,  2.15s/it]\n",
      "Running inference: 100%|██████████| 1/1 [00:03<00:00,  3.81s/it]\n",
      "Running inference: 100%|██████████| 1/1 [00:04<00:00,  4.32s/it]\n"
     ]
    },
    {
     "name": "stdout",
     "output_type": "stream",
     "text": [
      "Epoch: 002, Average Loss: 0.6734\n",
      "Validation: {'precision': 0.6058661778157385, 'recall': 0.25393776411783725, 'f1': 0.35787763525198246, 'auc': 0.7017150298341013, 'prauc': 0.5119935081287047}\n",
      "Test:       {'precision': 0.594395280233066, 'recall': 0.23196469685297014, 'f1': 0.3337013484311993, 'auc': 0.6886902067673151, 'prauc': 0.49619357138902076}\n"
     ]
    },
    {
     "name": "stderr",
     "output_type": "stream",
     "text": [
      "Training Batches: 100%|██████████| 1/1 [00:02<00:00,  2.61s/it]\n",
      "Running inference: 100%|██████████| 1/1 [00:03<00:00,  3.88s/it]\n",
      "Running inference: 100%|██████████| 1/1 [00:03<00:00,  3.87s/it]\n"
     ]
    },
    {
     "name": "stdout",
     "output_type": "stream",
     "text": [
      "Epoch: 003, Average Loss: 0.6552\n",
      "Validation: {'precision': 0.5728554641581292, 'recall': 0.3745678063765375, 'f1': 0.45296166769183016, 'auc': 0.7101592138093953, 'prauc': 0.5215194107909671}\n",
      "Test:       {'precision': 0.5699967668911413, 'recall': 0.33825786646136174, 'f1': 0.42456351127872327, 'auc': 0.6970787168580942, 'prauc': 0.50353258525952}\n"
     ]
    },
    {
     "name": "stderr",
     "output_type": "stream",
     "text": [
      "Training Batches: 100%|██████████| 1/1 [00:02<00:00,  2.14s/it]\n",
      "Running inference: 100%|██████████| 1/1 [00:03<00:00,  3.87s/it]\n",
      "Running inference: 100%|██████████| 1/1 [00:04<00:00,  4.79s/it]\n"
     ]
    },
    {
     "name": "stdout",
     "output_type": "stream",
     "text": [
      "Epoch: 004, Average Loss: 0.6389\n",
      "Validation: {'precision': 0.5637799161101313, 'recall': 0.4389166346514812, 'f1': 0.4935738151434313, 'auc': 0.7204684318486403, 'prauc': 0.5312635456512305}\n",
      "Test:       {'precision': 0.5515247108292547, 'recall': 0.40253261703683324, 'f1': 0.46539484871451936, 'auc': 0.7071621597609424, 'prauc': 0.5120026389272636}\n"
     ]
    },
    {
     "name": "stderr",
     "output_type": "stream",
     "text": [
      "Training Batches: 100%|██████████| 1/1 [00:01<00:00,  1.25s/it]\n",
      "Running inference: 100%|██████████| 1/1 [00:04<00:00,  4.29s/it]\n",
      "Running inference: 100%|██████████| 1/1 [00:04<00:00,  4.37s/it]\n"
     ]
    },
    {
     "name": "stdout",
     "output_type": "stream",
     "text": [
      "Epoch: 005, Average Loss: 0.6196\n",
      "Validation: {'precision': 0.5558516544513528, 'recall': 0.4807913945438325, 'f1': 0.5156040737150273, 'auc': 0.7308961704691667, 'prauc': 0.540428504637894}\n",
      "Test:       {'precision': 0.5511059371349217, 'recall': 0.4541442824243013, 'f1': 0.4979488748182696, 'auc': 0.7174797335412924, 'prauc': 0.5206032563974515}\n"
     ]
    },
    {
     "name": "stderr",
     "output_type": "stream",
     "text": [
      "Training Batches: 100%|██████████| 1/1 [00:02<00:00,  2.13s/it]\n",
      "Running inference: 100%|██████████| 1/1 [00:04<00:00,  4.38s/it]\n",
      "Running inference: 100%|██████████| 1/1 [00:03<00:00,  3.42s/it]\n"
     ]
    },
    {
     "name": "stdout",
     "output_type": "stream",
     "text": [
      "Epoch: 006, Average Loss: 0.6018\n",
      "Validation: {'precision': 0.5501403930995785, 'recall': 0.5268920476363295, 'f1': 0.5382653011237224, 'auc': 0.7364284937759031, 'prauc': 0.5487079236639258}\n",
      "Test:       {'precision': 0.540337711068292, 'recall': 0.49731389101976725, 'f1': 0.5179338545339871, 'auc': 0.7227653274989978, 'prauc': 0.5276280274876257}\n"
     ]
    },
    {
     "name": "stderr",
     "output_type": "stream",
     "text": [
      "Training Batches: 100%|██████████| 1/1 [00:02<00:00,  2.13s/it]\n",
      "Running inference: 100%|██████████| 1/1 [00:04<00:00,  4.33s/it]\n",
      "Running inference: 100%|██████████| 1/1 [00:03<00:00,  3.42s/it]\n"
     ]
    },
    {
     "name": "stdout",
     "output_type": "stream",
     "text": [
      "Epoch: 007, Average Loss: 0.5856\n",
      "Validation: {'precision': 0.5484416072088839, 'recall': 0.561083365346598, 'f1': 0.5546904621473361, 'auc': 0.7393975186513769, 'prauc': 0.5558468066731528}\n",
      "Test:       {'precision': 0.5327947682236338, 'recall': 0.5314658480419581, 'f1': 0.532129473435255, 'auc': 0.725382507772843, 'prauc': 0.5331854284024768}\n"
     ]
    },
    {
     "name": "stderr",
     "output_type": "stream",
     "text": [
      "Training Batches: 100%|██████████| 1/1 [00:02<00:00,  2.15s/it]\n",
      "Running inference: 100%|██████████| 1/1 [00:03<00:00,  3.82s/it]\n",
      "Running inference: 100%|██████████| 1/1 [00:03<00:00,  3.89s/it]\n"
     ]
    },
    {
     "name": "stdout",
     "output_type": "stream",
     "text": [
      "Epoch: 008, Average Loss: 0.5714\n",
      "Validation: {'precision': 0.5430145751856683, 'recall': 0.5868228966565755, 'f1': 0.5640694189355747, 'auc': 0.7420079295082803, 'prauc': 0.5625762053994614}\n",
      "Test:       {'precision': 0.5250179985591702, 'recall': 0.5596699923243291, 'f1': 0.54179048534585, 'auc': 0.7276796796886099, 'prauc': 0.5382297263418876}\n"
     ]
    },
    {
     "name": "stderr",
     "output_type": "stream",
     "text": [
      "Training Batches: 100%|██████████| 1/1 [00:02<00:00,  2.56s/it]\n",
      "Running inference: 100%|██████████| 1/1 [00:03<00:00,  3.84s/it]\n",
      "Running inference: 100%|██████████| 1/1 [00:03<00:00,  3.92s/it]\n"
     ]
    },
    {
     "name": "stdout",
     "output_type": "stream",
     "text": [
      "Epoch: 009, Average Loss: 0.5579\n",
      "Validation: {'precision': 0.5463917525763649, 'recall': 0.6006530925843245, 'f1': 0.5722389921736517, 'auc': 0.7500622795932637, 'prauc': 0.5723237478004479}\n",
      "Test:       {'precision': 0.5258257203082821, 'recall': 0.5742517267832421, 'f1': 0.5489728490072149, 'auc': 0.7356172178026174, 'prauc': 0.5471357510576083}\n"
     ]
    },
    {
     "name": "stderr",
     "output_type": "stream",
     "text": [
      "Training Batches: 100%|██████████| 1/1 [00:01<00:00,  1.74s/it]\n",
      "Running inference: 100%|██████████| 1/1 [00:03<00:00,  3.86s/it]\n",
      "Running inference: 100%|██████████| 1/1 [00:04<00:00,  4.76s/it]\n"
     ]
    },
    {
     "name": "stdout",
     "output_type": "stream",
     "text": [
      "Epoch: 010, Average Loss: 0.5454\n",
      "Validation: {'precision': 0.5404902789509036, 'recall': 0.6140991164029694, 'f1': 0.5749482910358337, 'auc': 0.7496598503594054, 'prauc': 0.5756460524840713}\n",
      "Test:       {'precision': 0.5191146881279022, 'recall': 0.5940138142736109, 'f1': 0.5540443758376807, 'auc': 0.7345290769462964, 'prauc': 0.5489356714528002}\n"
     ]
    },
    {
     "name": "stderr",
     "output_type": "stream",
     "text": [
      "Training Batches: 100%|██████████| 1/1 [00:01<00:00,  1.26s/it]\n",
      "Running inference: 100%|██████████| 1/1 [00:04<00:00,  4.27s/it]\n",
      "Running inference: 100%|██████████| 1/1 [00:04<00:00,  4.28s/it]\n"
     ]
    },
    {
     "name": "stdout",
     "output_type": "stream",
     "text": [
      "Epoch: 011, Average Loss: 0.5368\n",
      "Validation: {'precision': 0.5377547611083566, 'recall': 0.618325009603115, 'f1': 0.5752323038152518, 'auc': 0.7485310174230247, 'prauc': 0.577623915714081}\n",
      "Test:       {'precision': 0.5164203612470994, 'recall': 0.6034151957010679, 'f1': 0.5565386607520713, 'auc': 0.7323416158621219, 'prauc': 0.5496076764964026}\n"
     ]
    },
    {
     "name": "stderr",
     "output_type": "stream",
     "text": [
      "Training Batches: 100%|██████████| 1/1 [00:02<00:00,  2.13s/it]\n",
      "Running inference: 100%|██████████| 1/1 [00:04<00:00,  4.37s/it]\n",
      "Running inference: 100%|██████████| 1/1 [00:03<00:00,  3.41s/it]\n"
     ]
    },
    {
     "name": "stdout",
     "output_type": "stream",
     "text": [
      "Epoch: 012, Average Loss: 0.5297\n",
      "Validation: {'precision': 0.5583999999990072, 'recall': 0.6033422973480536, 'f1': 0.5800018415579767, 'auc': 0.7633265234948847, 'prauc': 0.5976758047473041}\n",
      "Test:       {'precision': 0.5394924946380638, 'recall': 0.579240214887607, 'f1': 0.558660246670711, 'auc': 0.7484309618417913, 'prauc': 0.5707329144420793}\n"
     ]
    },
    {
     "name": "stderr",
     "output_type": "stream",
     "text": [
      "Training Batches: 100%|██████████| 1/1 [00:02<00:00,  2.11s/it]\n",
      "Running inference: 100%|██████████| 1/1 [00:04<00:00,  4.37s/it]\n",
      "Running inference: 100%|██████████| 1/1 [00:03<00:00,  3.40s/it]\n"
     ]
    },
    {
     "name": "stdout",
     "output_type": "stream",
     "text": [
      "Epoch: 013, Average Loss: 0.5233\n",
      "Validation: {'precision': 0.5512729844403266, 'recall': 0.5989243180933559, 'f1': 0.5741115766683607, 'auc': 0.7527053045708567, 'prauc': 0.5884114821543039}\n",
      "Test:       {'precision': 0.5299338670370172, 'recall': 0.5842287029919719, 'f1': 0.5557583450747398, 'auc': 0.7357387439304215, 'prauc': 0.5597275478638273}\n"
     ]
    },
    {
     "name": "stderr",
     "output_type": "stream",
     "text": [
      "Training Batches: 100%|██████████| 1/1 [00:02<00:00,  2.14s/it]\n",
      "Running inference: 100%|██████████| 1/1 [00:03<00:00,  3.89s/it]\n",
      "Running inference: 100%|██████████| 1/1 [00:03<00:00,  3.87s/it]\n"
     ]
    },
    {
     "name": "stdout",
     "output_type": "stream",
     "text": [
      "Epoch: 014, Average Loss: 0.5185\n",
      "Validation: {'precision': 0.5376641326873918, 'recall': 0.5977718017660435, 'f1': 0.5661269733648107, 'auc': 0.7389348917770777, 'prauc': 0.574648961762762}\n",
      "Test:       {'precision': 0.5176151761508848, 'recall': 0.5863392171899725, 'f1': 0.5498380662670384, 'auc': 0.7208666130843291, 'prauc': 0.5451668397939142}\n"
     ]
    },
    {
     "name": "stderr",
     "output_type": "stream",
     "text": [
      "Training Batches: 100%|██████████| 1/1 [00:02<00:00,  2.55s/it]\n",
      "Running inference: 100%|██████████| 1/1 [00:03<00:00,  3.87s/it]\n",
      "Running inference: 100%|██████████| 1/1 [00:03<00:00,  3.88s/it]\n"
     ]
    },
    {
     "name": "stdout",
     "output_type": "stream",
     "text": [
      "Epoch: 015, Average Loss: 0.5218\n",
      "Validation: {'precision': 0.5745814307447211, 'recall': 0.5800998847472529, 'f1': 0.577327465845885, 'auc': 0.7670097335533735, 'prauc': 0.610268220146292}\n",
      "Test:       {'precision': 0.556001529050925, 'recall': 0.5581350729076014, 'f1': 0.5570662531375958, 'auc': 0.7496986730814079, 'prauc': 0.5807758604713122}\n"
     ]
    },
    {
     "name": "stderr",
     "output_type": "stream",
     "text": [
      "Training Batches: 100%|██████████| 1/1 [00:02<00:00,  2.12s/it]\n",
      "Running inference: 100%|██████████| 1/1 [00:04<00:00,  4.42s/it]\n",
      "Running inference: 100%|██████████| 1/1 [00:03<00:00,  3.42s/it]\n"
     ]
    },
    {
     "name": "stdout",
     "output_type": "stream",
     "text": [
      "Epoch: 016, Average Loss: 0.5131\n",
      "Validation: {'precision': 0.5995939086282241, 'recall': 0.5672301190922643, 'f1': 0.5829631773144124, 'auc': 0.7812599092946851, 'prauc': 0.6288843507972383}\n",
      "Test:       {'precision': 0.5809077956430269, 'recall': 0.5475825019175987, 'f1': 0.563753081423, 'auc': 0.7645255242470891, 'prauc': 0.599897663859707}\n"
     ]
    },
    {
     "name": "stderr",
     "output_type": "stream",
     "text": [
      "Training Batches: 100%|██████████| 1/1 [00:02<00:00,  2.15s/it]\n",
      "Running inference: 100%|██████████| 1/1 [00:03<00:00,  3.86s/it]\n",
      "Running inference: 100%|██████████| 1/1 [00:04<00:00,  4.87s/it]\n"
     ]
    },
    {
     "name": "stdout",
     "output_type": "stream",
     "text": [
      "Epoch: 017, Average Loss: 0.5272\n",
      "Validation: {'precision': 0.5988711953223164, 'recall': 0.5706876680742016, 'f1': 0.5844398494327562, 'auc': 0.7797585198502426, 'prauc': 0.6278793119830776}\n",
      "Test:       {'precision': 0.5768844221093932, 'recall': 0.5506523407510541, 'f1': 0.5634632324611073, 'auc': 0.7623366807179601, 'prauc': 0.5974233172982929}\n"
     ]
    },
    {
     "name": "stderr",
     "output_type": "stream",
     "text": [
      "Training Batches: 100%|██████████| 1/1 [00:01<00:00,  1.24s/it]\n",
      "Running inference: 100%|██████████| 1/1 [00:04<00:00,  4.37s/it]\n",
      "Running inference: 100%|██████████| 1/1 [00:04<00:00,  4.26s/it]\n"
     ]
    },
    {
     "name": "stdout",
     "output_type": "stream",
     "text": [
      "Epoch: 018, Average Loss: 0.5173\n",
      "Validation: {'precision': 0.5795278637759684, 'recall': 0.5752977333834512, 'f1': 0.5774050460882156, 'auc': 0.7683915190474191, 'prauc': 0.6151782927024734}\n",
      "Test:       {'precision': 0.5577400267215924, 'recall': 0.5606293169597839, 'f1': 0.559180934621966, 'auc': 0.750383140011002, 'prauc': 0.583965845207693}\n"
     ]
    },
    {
     "name": "stderr",
     "output_type": "stream",
     "text": [
      "Training Batches: 100%|██████████| 1/1 [00:02<00:00,  2.15s/it]\n",
      "Running inference: 100%|██████████| 1/1 [00:04<00:00,  4.43s/it]\n",
      "Running inference: 100%|██████████| 1/1 [00:03<00:00,  3.48s/it]\n"
     ]
    },
    {
     "name": "stdout",
     "output_type": "stream",
     "text": [
      "Epoch: 019, Average Loss: 0.5098\n",
      "Validation: {'precision': 0.5885668276960778, 'recall': 0.5616596235102542, 'f1': 0.5747985009972816, 'auc': 0.7692383839750301, 'prauc': 0.6183836151075014}\n",
      "Test:       {'precision': 0.5637917329082596, 'recall': 0.5443207981570524, 'f1': 0.5538851960937854, 'auc': 0.7516762421562838, 'prauc': 0.5871954733826606}\n"
     ]
    },
    {
     "name": "stderr",
     "output_type": "stream",
     "text": [
      "Training Batches: 100%|██████████| 1/1 [00:02<00:00,  2.14s/it]\n",
      "Running inference: 100%|██████████| 1/1 [00:04<00:00,  4.40s/it]\n",
      "Running inference: 100%|██████████| 1/1 [00:03<00:00,  3.46s/it]\n"
     ]
    },
    {
     "name": "stdout",
     "output_type": "stream",
     "text": [
      "Epoch: 020, Average Loss: 0.5106\n",
      "Validation: {'precision': 0.6128533568891059, 'recall': 0.5330388013819957, 'f1': 0.5701664219801439, 'auc': 0.7772193287369593, 'prauc': 0.6294491436988973}\n",
      "Test:       {'precision': 0.5901353120895021, 'recall': 0.5188027628539548, 'f1': 0.5521747959180704, 'auc': 0.7606843917245887, 'prauc': 0.5997843001366194}\n"
     ]
    },
    {
     "name": "stderr",
     "output_type": "stream",
     "text": [
      "Training Batches: 100%|██████████| 1/1 [00:02<00:00,  2.16s/it]\n",
      "Running inference: 100%|██████████| 1/1 [00:03<00:00,  3.93s/it]\n",
      "Running inference: 100%|██████████| 1/1 [00:03<00:00,  3.93s/it]\n"
     ]
    },
    {
     "name": "stdout",
     "output_type": "stream",
     "text": [
      "Epoch: 021, Average Loss: 0.5035\n",
      "Validation: {'precision': 0.6439488849896168, 'recall': 0.4936611601988212, 'f1': 0.5588778900517974, 'auc': 0.7854531224299423, 'prauc': 0.6397256069598527}\n",
      "Test:       {'precision': 0.6201242236009438, 'recall': 0.47889485801903514, 'f1': 0.5404352013171884, 'auc': 0.7700276090846763, 'prauc': 0.6125542255269768}\n"
     ]
    },
    {
     "name": "stderr",
     "output_type": "stream",
     "text": [
      "Training Batches: 100%|██████████| 1/1 [00:02<00:00,  2.63s/it]\n",
      "Running inference: 100%|██████████| 1/1 [00:03<00:00,  3.98s/it]\n",
      "Running inference: 100%|██████████| 1/1 [00:03<00:00,  3.98s/it]\n"
     ]
    },
    {
     "name": "stdout",
     "output_type": "stream",
     "text": [
      "Epoch: 022, Average Loss: 0.5003\n",
      "Validation: {'precision': 0.6637265711117317, 'recall': 0.4625432193613858, 'f1': 0.5451663976939634, 'auc': 0.7896901978834925, 'prauc': 0.6448459273556606}\n",
      "Test:       {'precision': 0.6366630076821167, 'recall': 0.4451266308510262, 'f1': 0.5239385678746199, 'auc': 0.7750444465269186, 'prauc': 0.6195281894216705}\n"
     ]
    },
    {
     "name": "stderr",
     "output_type": "stream",
     "text": [
      "Training Batches: 100%|██████████| 1/1 [00:02<00:00,  2.14s/it]\n",
      "Running inference: 100%|██████████| 1/1 [00:04<00:00,  4.44s/it]\n",
      "Running inference: 100%|██████████| 1/1 [00:03<00:00,  3.42s/it]\n"
     ]
    },
    {
     "name": "stdout",
     "output_type": "stream",
     "text": [
      "Epoch: 023, Average Loss: 0.5015\n",
      "Validation: {'precision': 0.6642036124776568, 'recall': 0.46619285439787517, 'f1': 0.5478555256262255, 'auc': 0.7889051038366904, 'prauc': 0.6448996979950918}\n",
      "Test:       {'precision': 0.6379263301483277, 'recall': 0.4485801995386635, 'f1': 0.526754529340143, 'auc': 0.7738718014186761, 'prauc': 0.6190702879511092}\n"
     ]
    },
    {
     "name": "stderr",
     "output_type": "stream",
     "text": [
      "Training Batches: 100%|██████████| 1/1 [00:02<00:00,  2.21s/it]\n",
      "Running inference: 100%|██████████| 1/1 [00:03<00:00,  3.81s/it]\n",
      "Running inference: 100%|██████████| 1/1 [00:04<00:00,  4.83s/it]\n"
     ]
    },
    {
     "name": "stdout",
     "output_type": "stream",
     "text": [
      "Epoch: 024, Average Loss: 0.4976\n",
      "Validation: {'precision': 0.6584197924962533, 'recall': 0.4754129850163746, 'f1': 0.5521472343928306, 'auc': 0.7866914981148436, 'prauc': 0.6442677625409017}\n",
      "Test:       {'precision': 0.6346153846137128, 'recall': 0.46220260936212165, 'f1': 0.5348578992076193, 'auc': 0.7707369139419538, 'prauc': 0.617002394426064}\n"
     ]
    },
    {
     "name": "stderr",
     "output_type": "stream",
     "text": [
      "Training Batches: 100%|██████████| 1/1 [00:01<00:00,  1.24s/it]\n",
      "Running inference: 100%|██████████| 1/1 [00:04<00:00,  4.23s/it]\n",
      "Running inference: 100%|██████████| 1/1 [00:04<00:00,  4.32s/it]\n"
     ]
    },
    {
     "name": "stdout",
     "output_type": "stream",
     "text": [
      "Epoch: 025, Average Loss: 0.4930\n",
      "Validation: {'precision': 0.6557762676407325, 'recall': 0.48194391087114496, 'f1': 0.5555801545486205, 'auc': 0.7855352606501307, 'prauc': 0.6450413063031334}\n",
      "Test:       {'precision': 0.6319587628849692, 'recall': 0.4704528012270329, 'f1': 0.5393752700731325, 'auc': 0.7690486352982657, 'prauc': 0.6166977336405881}\n"
     ]
    },
    {
     "name": "stderr",
     "output_type": "stream",
     "text": [
      "Training Batches: 100%|██████████| 1/1 [00:02<00:00,  2.11s/it]\n",
      "Running inference: 100%|██████████| 1/1 [00:04<00:00,  4.41s/it]\n",
      "Running inference: 100%|██████████| 1/1 [00:03<00:00,  3.48s/it]\n"
     ]
    },
    {
     "name": "stdout",
     "output_type": "stream",
     "text": [
      "Epoch: 026, Average Loss: 0.4908\n",
      "Validation: {'precision': 0.6625589931812728, 'recall': 0.4854014598530822, 'f1': 0.5603104164038677, 'auc': 0.7898224631216443, 'prauc': 0.6500033380483751}\n",
      "Test:       {'precision': 0.6349165596902826, 'recall': 0.47448196469594306, 'f1': 0.5430987103773386, 'auc': 0.7732731843207591, 'prauc': 0.6214672480579225}\n"
     ]
    },
    {
     "name": "stderr",
     "output_type": "stream",
     "text": [
      "Training Batches: 100%|██████████| 1/1 [00:02<00:00,  2.17s/it]\n",
      "Running inference: 100%|██████████| 1/1 [00:04<00:00,  4.36s/it]\n",
      "Running inference: 100%|██████████| 1/1 [00:03<00:00,  3.45s/it]\n"
     ]
    },
    {
     "name": "stdout",
     "output_type": "stream",
     "text": [
      "Epoch: 027, Average Loss: 0.4873\n",
      "Validation: {'precision': 0.673889490789074, 'recall': 0.4779101037255515, 'f1': 0.5592267876811481, 'auc': 0.7958172719936647, 'prauc': 0.6564242946005501}\n",
      "Test:       {'precision': 0.6473084062565704, 'recall': 0.46834228702903236, 'f1': 0.5434709959067032, 'auc': 0.7795220106249926, 'prauc': 0.6287466106933148}\n",
      "\n",
      "Early stopping triggered after 27 epochs (no improvement for 10 epochs).\n",
      "\n",
      "Best validation performance:\n",
      "{'precision': 0.5988711953223164, 'recall': 0.5706876680742016, 'f1': 0.5844398494327562, 'auc': 0.7797585198502426, 'prauc': 0.6278793119830776}\n",
      "Corresponding test performance:\n",
      "{'precision': 0.5768844221093932, 'recall': 0.5506523407510541, 'f1': 0.5634632324611073, 'auc': 0.7623366807179601, 'prauc': 0.5974233172982929}\n",
      "Corresponding test-long performance:\n",
      "{'precision': 0.6415970287777011, 'recall': 0.4549045424591514, 'f1': 0.5323574681762835, 'auc': 0.7212559849060458, 'prauc': 0.6461880536724045}\n",
      "[INFO] Random seed set to 1812140441\n",
      "Training with seed: 1812140441\n"
     ]
    },
    {
     "name": "stderr",
     "output_type": "stream",
     "text": [
      "Training Batches: 100%|██████████| 1/1 [00:02<00:00,  2.17s/it]\n",
      "Running inference: 100%|██████████| 1/1 [00:03<00:00,  3.84s/it]\n",
      "Running inference: 100%|██████████| 1/1 [00:03<00:00,  3.92s/it]\n"
     ]
    },
    {
     "name": "stdout",
     "output_type": "stream",
     "text": [
      "Epoch: 001, Average Loss: 0.6930\n",
      "Validation: {'precision': 0.6143518518490076, 'recall': 0.2548981943905976, 'f1': 0.36030409577256695, 'auc': 0.6643030441541686, 'prauc': 0.5108430298848218}\n",
      "Test:       {'precision': 0.596634615381747, 'recall': 0.23810437451988084, 'f1': 0.3403730074409418, 'auc': 0.6485454891116055, 'prauc': 0.4825837429666653}\n"
     ]
    },
    {
     "name": "stderr",
     "output_type": "stream",
     "text": [
      "Training Batches: 100%|██████████| 1/1 [00:02<00:00,  2.12s/it]\n",
      "Running inference: 100%|██████████| 1/1 [00:04<00:00,  4.34s/it]\n",
      "Running inference: 100%|██████████| 1/1 [00:04<00:00,  4.90s/it]\n"
     ]
    },
    {
     "name": "stdout",
     "output_type": "stream",
     "text": [
      "Epoch: 002, Average Loss: 0.6743\n",
      "Validation: {'precision': 0.5953230281387423, 'recall': 0.28851325393720995, 'f1': 0.3886660584815671, 'auc': 0.6837669007937233, 'prauc': 0.5164136537347328}\n",
      "Test:       {'precision': 0.5815459328183669, 'recall': 0.2757099002297089, 'f1': 0.37407262351515524, 'auc': 0.6654987157270699, 'prauc': 0.49217242068980227}\n"
     ]
    },
    {
     "name": "stderr",
     "output_type": "stream",
     "text": [
      "Training Batches: 100%|██████████| 1/1 [00:01<00:00,  1.26s/it]\n",
      "Running inference: 100%|██████████| 1/1 [00:04<00:00,  4.33s/it]\n",
      "Running inference: 100%|██████████| 1/1 [00:04<00:00,  4.27s/it]\n"
     ]
    },
    {
     "name": "stdout",
     "output_type": "stream",
     "text": [
      "Epoch: 003, Average Loss: 0.6574\n",
      "Validation: {'precision': 0.5981862574098424, 'recall': 0.32942758355680096, 'f1': 0.4248730289873541, 'auc': 0.7033661126285606, 'prauc': 0.5222632362389446}\n",
      "Test:       {'precision': 0.5762952448524618, 'recall': 0.31158864159571836, 'f1': 0.404483183488238, 'auc': 0.6857896529266875, 'prauc': 0.5042145110278444}\n"
     ]
    },
    {
     "name": "stderr",
     "output_type": "stream",
     "text": [
      "Training Batches: 100%|██████████| 1/1 [00:02<00:00,  2.13s/it]\n",
      "Running inference: 100%|██████████| 1/1 [00:04<00:00,  4.35s/it]\n",
      "Running inference: 100%|██████████| 1/1 [00:03<00:00,  3.55s/it]\n"
     ]
    },
    {
     "name": "stdout",
     "output_type": "stream",
     "text": [
      "Epoch: 004, Average Loss: 0.6405\n",
      "Validation: {'precision': 0.589065785519408, 'recall': 0.3766807529766103, 'f1': 0.4595196203139707, 'auc': 0.7175037310290292, 'prauc': 0.5311043568248853}\n",
      "Test:       {'precision': 0.5624811803656655, 'recall': 0.35840368380591253, 'f1': 0.4378295979633855, 'auc': 0.69967610052019, 'prauc': 0.5131529638131016}\n"
     ]
    },
    {
     "name": "stderr",
     "output_type": "stream",
     "text": [
      "Training Batches: 100%|██████████| 1/1 [00:02<00:00,  2.16s/it]\n",
      "Running inference: 100%|██████████| 1/1 [00:04<00:00,  4.36s/it]\n",
      "Running inference: 100%|██████████| 1/1 [00:03<00:00,  3.41s/it]\n"
     ]
    },
    {
     "name": "stdout",
     "output_type": "stream",
     "text": [
      "Epoch: 005, Average Loss: 0.6213\n",
      "Validation: {'precision': 0.5819299652483776, 'recall': 0.4181713407598575, 'f1': 0.48664356280928556, 'auc': 0.7289204066609678, 'prauc': 0.5413110480073746}\n",
      "Test:       {'precision': 0.560374832662489, 'recall': 0.4015732924013784, 'f1': 0.4678663190426716, 'auc': 0.710701716524759, 'prauc': 0.5228176583651681}\n"
     ]
    },
    {
     "name": "stderr",
     "output_type": "stream",
     "text": [
      "Training Batches: 100%|██████████| 1/1 [00:02<00:00,  2.14s/it]\n",
      "Running inference: 100%|██████████| 1/1 [00:03<00:00,  3.88s/it]\n",
      "Running inference: 100%|██████████| 1/1 [00:03<00:00,  3.86s/it]\n"
     ]
    },
    {
     "name": "stdout",
     "output_type": "stream",
     "text": [
      "Epoch: 006, Average Loss: 0.6027\n",
      "Validation: {'precision': 0.5793263049612257, 'recall': 0.4327698809058149, 'f1': 0.4954370484297562, 'auc': 0.7346517872670025, 'prauc': 0.5469140656751006}\n",
      "Test:       {'precision': 0.5569620253150457, 'recall': 0.4221028396001111, 'f1': 0.4802444831968514, 'auc': 0.7173526131195722, 'prauc': 0.5312600690241852}\n"
     ]
    },
    {
     "name": "stderr",
     "output_type": "stream",
     "text": [
      "Training Batches: 100%|██████████| 1/1 [00:02<00:00,  2.56s/it]\n",
      "Running inference: 100%|██████████| 1/1 [00:03<00:00,  3.85s/it]\n",
      "Running inference: 100%|██████████| 1/1 [00:03<00:00,  3.88s/it]\n"
     ]
    },
    {
     "name": "stdout",
     "output_type": "stream",
     "text": [
      "Epoch: 007, Average Loss: 0.5847\n",
      "Validation: {'precision': 0.5806896551710788, 'recall': 0.48520937379853013, 'f1': 0.528673080011806, 'auc': 0.7460480296153551, 'prauc': 0.5638462113940002}\n",
      "Test:       {'precision': 0.5551755585942655, 'recall': 0.46719109746648657, 'f1': 0.5073973694889851, 'auc': 0.7276280038962092, 'prauc': 0.5450606221130162}\n"
     ]
    },
    {
     "name": "stderr",
     "output_type": "stream",
     "text": [
      "Training Batches: 100%|██████████| 1/1 [00:01<00:00,  1.70s/it]\n",
      "Running inference: 100%|██████████| 1/1 [00:03<00:00,  3.79s/it]\n",
      "Running inference: 100%|██████████| 1/1 [00:04<00:00,  4.91s/it]\n"
     ]
    },
    {
     "name": "stdout",
     "output_type": "stream",
     "text": [
      "Epoch: 008, Average Loss: 0.5699\n",
      "Validation: {'precision': 0.5644749754650354, 'recall': 0.5524394928917549, 'f1': 0.5583923840879346, 'auc': 0.7520066068558989, 'prauc': 0.5808455247819426}\n",
      "Test:       {'precision': 0.5375532326741433, 'recall': 0.5328089025315947, 'f1': 0.5351705480921486, 'auc': 0.7318191806975, 'prauc': 0.5560443985883191}\n"
     ]
    },
    {
     "name": "stderr",
     "output_type": "stream",
     "text": [
      "Training Batches: 100%|██████████| 1/1 [00:01<00:00,  1.23s/it]\n",
      "Running inference: 100%|██████████| 1/1 [00:04<00:00,  4.28s/it]\n",
      "Running inference: 100%|██████████| 1/1 [00:04<00:00,  4.35s/it]\n"
     ]
    },
    {
     "name": "stdout",
     "output_type": "stream",
     "text": [
      "Epoch: 009, Average Loss: 0.5561\n",
      "Validation: {'precision': 0.5762572135190102, 'recall': 0.5370726085275892, 'f1': 0.5559753380156272, 'auc': 0.7556262749605891, 'prauc': 0.5866749822952005}\n",
      "Test:       {'precision': 0.5530612244886672, 'recall': 0.5199539524165004, 'f1': 0.535996830446738, 'auc': 0.7378885472140342, 'prauc': 0.566412883621316}\n"
     ]
    },
    {
     "name": "stderr",
     "output_type": "stream",
     "text": [
      "Training Batches: 100%|██████████| 1/1 [00:02<00:00,  2.16s/it]\n",
      "Running inference: 100%|██████████| 1/1 [00:04<00:00,  4.38s/it]\n",
      "Running inference: 100%|██████████| 1/1 [00:03<00:00,  3.36s/it]\n"
     ]
    },
    {
     "name": "stdout",
     "output_type": "stream",
     "text": [
      "Epoch: 010, Average Loss: 0.5429\n",
      "Validation: {'precision': 0.5772819472604923, 'recall': 0.5466769112551927, 'f1': 0.5615627416482188, 'auc': 0.7574326281008614, 'prauc': 0.5962721747734276}\n",
      "Test:       {'precision': 0.552801289801385, 'recall': 0.5262854950105021, 'f1': 0.5392176085266299, 'auc': 0.7406153553727748, 'prauc': 0.5759881931381126}\n"
     ]
    },
    {
     "name": "stderr",
     "output_type": "stream",
     "text": [
      "Training Batches: 100%|██████████| 1/1 [00:02<00:00,  2.19s/it]\n",
      "Running inference: 100%|██████████| 1/1 [00:04<00:00,  4.36s/it]\n",
      "Running inference: 100%|██████████| 1/1 [00:03<00:00,  3.46s/it]\n"
     ]
    },
    {
     "name": "stdout",
     "output_type": "stream",
     "text": [
      "Epoch: 011, Average Loss: 0.5330\n",
      "Validation: {'precision': 0.5832514252003475, 'recall': 0.5699193238559932, 'f1': 0.576508301615695, 'auc': 0.7698109681042944, 'prauc': 0.6140111662771256}\n",
      "Test:       {'precision': 0.5571290009688513, 'recall': 0.551036070605236, 'f1': 0.5540657806651381, 'auc': 0.7508937783120118, 'prauc': 0.5880528504082796}\n"
     ]
    },
    {
     "name": "stderr",
     "output_type": "stream",
     "text": [
      "Training Batches: 100%|██████████| 1/1 [00:02<00:00,  2.26s/it]\n",
      "Running inference: 100%|██████████| 1/1 [00:03<00:00,  3.95s/it]\n",
      "Running inference: 100%|██████████| 1/1 [00:03<00:00,  3.90s/it]\n"
     ]
    },
    {
     "name": "stdout",
     "output_type": "stream",
     "text": [
      "Epoch: 012, Average Loss: 0.5247\n",
      "Validation: {'precision': 0.5777020632205608, 'recall': 0.5862466384929192, 'f1': 0.5819429828912372, 'auc': 0.7744950699168746, 'prauc': 0.6227873249888104}\n",
      "Test:       {'precision': 0.5506706408335494, 'recall': 0.5671527244808765, 'f1': 0.558790165132356, 'auc': 0.7529842839233744, 'prauc': 0.591008879550557}\n"
     ]
    },
    {
     "name": "stderr",
     "output_type": "stream",
     "text": [
      "Training Batches: 100%|██████████| 1/1 [00:02<00:00,  2.63s/it]\n",
      "Running inference: 100%|██████████| 1/1 [00:03<00:00,  3.92s/it]\n",
      "Running inference: 100%|██████████| 1/1 [00:03<00:00,  3.99s/it]\n"
     ]
    },
    {
     "name": "stdout",
     "output_type": "stream",
     "text": [
      "Epoch: 013, Average Loss: 0.5205\n",
      "Validation: {'precision': 0.5996778091006854, 'recall': 0.572032270456066, 'f1': 0.5855288978722575, 'auc': 0.7785291125775009, 'prauc': 0.6313558943802128}\n",
      "Test:       {'precision': 0.5707472178049071, 'recall': 0.551036070605236, 'f1': 0.56071846434836, 'auc': 0.7603770004807959, 'prauc': 0.6049555402298687}\n"
     ]
    },
    {
     "name": "stderr",
     "output_type": "stream",
     "text": [
      "Training Batches: 100%|██████████| 1/1 [00:02<00:00,  2.18s/it]\n",
      "Running inference: 100%|██████████| 1/1 [00:04<00:00,  4.47s/it]\n",
      "Running inference: 100%|██████████| 1/1 [00:03<00:00,  3.52s/it]\n"
     ]
    },
    {
     "name": "stdout",
     "output_type": "stream",
     "text": [
      "Epoch: 014, Average Loss: 0.5188\n",
      "Validation: {'precision': 0.5930787589487011, 'recall': 0.5728006146742743, 'f1': 0.5827633328936705, 'auc': 0.7701697328524807, 'prauc': 0.6271713825312708}\n",
      "Test:       {'precision': 0.5736852629462634, 'recall': 0.5504604758239631, 'f1': 0.5618329529957466, 'auc': 0.7576366996592991, 'prauc': 0.6084160398182376}\n"
     ]
    },
    {
     "name": "stderr",
     "output_type": "stream",
     "text": [
      "Training Batches: 100%|██████████| 1/1 [00:02<00:00,  2.18s/it]\n",
      "Running inference: 100%|██████████| 1/1 [00:03<00:00,  3.83s/it]\n",
      "Running inference: 100%|██████████| 1/1 [00:04<00:00,  4.89s/it]\n"
     ]
    },
    {
     "name": "stdout",
     "output_type": "stream",
     "text": [
      "Epoch: 015, Average Loss: 0.5253\n",
      "Validation: {'precision': 0.6057063602127883, 'recall': 0.5872070687656796, 'f1': 0.5963132691636988, 'auc': 0.7869413230329738, 'prauc': 0.6422208643481103}\n",
      "Test:       {'precision': 0.578420038534531, 'recall': 0.5759785111270607, 'f1': 0.5771966879425774, 'auc': 0.7663115693979625, 'prauc': 0.6110686324422301}\n"
     ]
    },
    {
     "name": "stderr",
     "output_type": "stream",
     "text": [
      "Training Batches: 100%|██████████| 1/1 [00:01<00:00,  1.31s/it]\n",
      "Running inference: 100%|██████████| 1/1 [00:04<00:00,  4.33s/it]\n",
      "Running inference: 100%|██████████| 1/1 [00:04<00:00,  4.37s/it]\n"
     ]
    },
    {
     "name": "stdout",
     "output_type": "stream",
     "text": [
      "Epoch: 016, Average Loss: 0.5118\n",
      "Validation: {'precision': 0.5986577181196574, 'recall': 0.5996926623115642, 'f1': 0.5991747383056382, 'auc': 0.7849416685806188, 'prauc': 0.6407458040934803}\n",
      "Test:       {'precision': 0.5669291338572049, 'recall': 0.5801995395230618, 'f1': 0.573487573228294, 'auc': 0.7606293796316974, 'prauc': 0.6045851876659121}\n"
     ]
    },
    {
     "name": "stderr",
     "output_type": "stream",
     "text": [
      "Training Batches: 100%|██████████| 1/1 [00:02<00:00,  2.23s/it]\n",
      "Running inference: 100%|██████████| 1/1 [00:04<00:00,  4.47s/it]\n",
      "Running inference: 100%|██████████| 1/1 [00:03<00:00,  3.64s/it]\n"
     ]
    },
    {
     "name": "stdout",
     "output_type": "stream",
     "text": [
      "Epoch: 017, Average Loss: 0.5129\n",
      "Validation: {'precision': 0.6105263157882611, 'recall': 0.5904725316930648, 'f1': 0.6003319938284611, 'auc': 0.7876564879584936, 'prauc': 0.6448876094428918}\n",
      "Test:       {'precision': 0.5735294117635962, 'recall': 0.5686876438976042, 'f1': 0.5710982608949433, 'auc': 0.7633047424055295, 'prauc': 0.6094877506066405}\n"
     ]
    },
    {
     "name": "stderr",
     "output_type": "stream",
     "text": [
      "Training Batches: 100%|██████████| 1/1 [00:02<00:00,  2.30s/it]\n",
      "Running inference: 100%|██████████| 1/1 [00:04<00:00,  4.61s/it]\n",
      "Running inference: 100%|██████████| 1/1 [00:03<00:00,  3.68s/it]\n"
     ]
    },
    {
     "name": "stdout",
     "output_type": "stream",
     "text": [
      "Epoch: 018, Average Loss: 0.5110\n",
      "Validation: {'precision': 0.621336706724391, 'recall': 0.5660776027649519, 'f1': 0.5924213438889221, 'auc': 0.789790122198384, 'prauc': 0.6479102070918459}\n",
      "Test:       {'precision': 0.5861082737475258, 'recall': 0.5504604758239631, 'f1': 0.567725333877843, 'auc': 0.7664332614191611, 'prauc': 0.6142019287787918}\n"
     ]
    },
    {
     "name": "stderr",
     "output_type": "stream",
     "text": [
      "Training Batches: 100%|██████████| 1/1 [00:02<00:00,  2.34s/it]\n",
      "Running inference: 100%|██████████| 1/1 [00:04<00:00,  4.19s/it]\n",
      "Running inference: 100%|██████████| 1/1 [00:04<00:00,  4.13s/it]\n"
     ]
    },
    {
     "name": "stdout",
     "output_type": "stream",
     "text": [
      "Epoch: 019, Average Loss: 0.5110\n",
      "Validation: {'precision': 0.6283947891352872, 'recall': 0.5466769112551927, 'f1': 0.5846943966665341, 'auc': 0.7904795406213488, 'prauc': 0.6488983855787331}\n",
      "Test:       {'precision': 0.5952278589841031, 'recall': 0.5312739831148671, 'f1': 0.5614355181293322, 'auc': 0.7679067081169131, 'prauc': 0.6158232215183708}\n"
     ]
    },
    {
     "name": "stderr",
     "output_type": "stream",
     "text": [
      "Training Batches: 100%|██████████| 1/1 [00:02<00:00,  2.75s/it]\n",
      "Running inference: 100%|██████████| 1/1 [00:04<00:00,  4.14s/it]\n",
      "Running inference: 100%|██████████| 1/1 [00:04<00:00,  4.15s/it]\n"
     ]
    },
    {
     "name": "stdout",
     "output_type": "stream",
     "text": [
      "Epoch: 020, Average Loss: 0.5090\n",
      "Validation: {'precision': 0.6373879052641127, 'recall': 0.5324625432183395, 'f1': 0.5802197752587883, 'auc': 0.792422464214434, 'prauc': 0.6506342425622296}\n",
      "Test:       {'precision': 0.6046250561279645, 'recall': 0.5166922486559542, 'f1': 0.5572108371566383, 'auc': 0.7703898649605649, 'prauc': 0.617234494761427}\n"
     ]
    },
    {
     "name": "stderr",
     "output_type": "stream",
     "text": [
      "Training Batches: 100%|██████████| 1/1 [00:01<00:00,  1.81s/it]\n",
      "Running inference: 100%|██████████| 1/1 [00:04<00:00,  4.05s/it]\n",
      "Running inference: 100%|██████████| 1/1 [00:05<00:00,  5.11s/it]\n"
     ]
    },
    {
     "name": "stdout",
     "output_type": "stream",
     "text": [
      "Epoch: 021, Average Loss: 0.4986\n",
      "Validation: {'precision': 0.6403800475044171, 'recall': 0.5178640030723821, 'f1': 0.572642306014796, 'auc': 0.7926452331664693, 'prauc': 0.6507324618036852}\n",
      "Test:       {'precision': 0.6120027913454013, 'recall': 0.5047966231763147, 'f1': 0.5532541218454577, 'auc': 0.7716231164556147, 'prauc': 0.6168636839882878}\n"
     ]
    },
    {
     "name": "stderr",
     "output_type": "stream",
     "text": [
      "Training Batches: 100%|██████████| 1/1 [00:01<00:00,  1.32s/it]\n",
      "Running inference: 100%|██████████| 1/1 [00:04<00:00,  4.48s/it]\n",
      "Running inference: 100%|██████████| 1/1 [00:04<00:00,  4.56s/it]\n"
     ]
    },
    {
     "name": "stdout",
     "output_type": "stream",
     "text": [
      "Epoch: 022, Average Loss: 0.4958\n",
      "Validation: {'precision': 0.6520765978596069, 'recall': 0.503649635035529, 'f1': 0.568332064009382, 'auc': 0.7935735109279913, 'prauc': 0.6519589419463668}\n",
      "Test:       {'precision': 0.6202870347832151, 'recall': 0.4892555640819469, 'f1': 0.5470342115224898, 'auc': 0.774126816431291, 'prauc': 0.6192192834331941}\n"
     ]
    },
    {
     "name": "stderr",
     "output_type": "stream",
     "text": [
      "Training Batches: 100%|██████████| 1/1 [00:02<00:00,  2.29s/it]\n",
      "Running inference: 100%|██████████| 1/1 [00:04<00:00,  4.67s/it]\n",
      "Running inference: 100%|██████████| 1/1 [00:03<00:00,  3.69s/it]\n"
     ]
    },
    {
     "name": "stdout",
     "output_type": "stream",
     "text": [
      "Epoch: 023, Average Loss: 0.4942\n",
      "Validation: {'precision': 0.6640726329425056, 'recall': 0.49174029965330057, 'f1': 0.5650590393655086, 'auc': 0.7946218165669559, 'prauc': 0.6538499273454115}\n",
      "Test:       {'precision': 0.632794457273203, 'recall': 0.47313891020630633, 'f1': 0.5414425244695749, 'auc': 0.7773382544932963, 'prauc': 0.6240900698396784}\n"
     ]
    },
    {
     "name": "stderr",
     "output_type": "stream",
     "text": [
      "Training Batches: 100%|██████████| 1/1 [00:02<00:00,  2.32s/it]\n",
      "Running inference: 100%|██████████| 1/1 [00:04<00:00,  4.67s/it]\n",
      "Running inference: 100%|██████████| 1/1 [00:03<00:00,  3.61s/it]\n"
     ]
    },
    {
     "name": "stdout",
     "output_type": "stream",
     "text": [
      "Epoch: 024, Average Loss: 0.4927\n",
      "Validation: {'precision': 0.6638655462167441, 'recall': 0.4855935459076343, 'f1': 0.5609052536058217, 'auc': 0.7945590942054448, 'prauc': 0.6568157589813873}\n",
      "Test:       {'precision': 0.6336073997928222, 'recall': 0.47313891020630633, 'f1': 0.5417398896557676, 'auc': 0.7785498108188593, 'prauc': 0.6296664942559663}\n"
     ]
    },
    {
     "name": "stderr",
     "output_type": "stream",
     "text": [
      "Training Batches: 100%|██████████| 1/1 [00:02<00:00,  2.34s/it]\n",
      "Running inference: 100%|██████████| 1/1 [00:04<00:00,  4.14s/it]\n",
      "Running inference: 100%|██████████| 1/1 [00:04<00:00,  4.08s/it]\n"
     ]
    },
    {
     "name": "stdout",
     "output_type": "stream",
     "text": [
      "Epoch: 025, Average Loss: 0.4895\n",
      "Validation: {'precision': 0.6590791515761535, 'recall': 0.4894352669986757, 'f1': 0.5617283901695773, 'auc': 0.7931226692255532, 'prauc': 0.6585363855972755}\n",
      "Test:       {'precision': 0.632030264815556, 'recall': 0.4808135072899447, 'f1': 0.5461479737333889, 'auc': 0.7779755616173412, 'prauc': 0.6332417226231042}\n"
     ]
    },
    {
     "name": "stderr",
     "output_type": "stream",
     "text": [
      "Training Batches: 100%|██████████| 1/1 [00:02<00:00,  2.77s/it]\n",
      "Running inference: 100%|██████████| 1/1 [00:04<00:00,  4.05s/it]\n",
      "Running inference: 100%|██████████| 1/1 [00:04<00:00,  4.07s/it]\n"
     ]
    },
    {
     "name": "stdout",
     "output_type": "stream",
     "text": [
      "Epoch: 026, Average Loss: 0.4866\n",
      "Validation: {'precision': 0.6714697406322466, 'recall': 0.49231655781695677, 'f1': 0.5681037300169292, 'auc': 0.7989724196832529, 'prauc': 0.6670363811356657}\n",
      "Test:       {'precision': 0.6422159528067654, 'recall': 0.4804297774357628, 'f1': 0.549665234922632, 'auc': 0.7827362412258063, 'prauc': 0.6396388916686355}\n"
     ]
    },
    {
     "name": "stderr",
     "output_type": "stream",
     "text": [
      "Training Batches: 100%|██████████| 1/1 [00:02<00:00,  2.27s/it]\n",
      "Running inference: 100%|██████████| 1/1 [00:04<00:00,  4.63s/it]\n",
      "Running inference: 100%|██████████| 1/1 [00:03<00:00,  3.57s/it]\n"
     ]
    },
    {
     "name": "stdout",
     "output_type": "stream",
     "text": [
      "Epoch: 027, Average Loss: 0.4823\n",
      "Validation: {'precision': 0.672675766158453, 'recall': 0.5017287744900082, 'f1': 0.5747606948516216, 'auc': 0.8014388649155528, 'prauc': 0.6721323536032542}\n",
      "Test:       {'precision': 0.6487382105514944, 'recall': 0.48829623944649214, 'f1': 0.5571975867786845, 'auc': 0.7841757442917742, 'prauc': 0.6420399158552631}\n",
      "\n",
      "Early stopping triggered after 27 epochs (no improvement for 10 epochs).\n",
      "\n",
      "Best validation performance:\n",
      "{'precision': 0.6105263157882611, 'recall': 0.5904725316930648, 'f1': 0.6003319938284611, 'auc': 0.7876564879584936, 'prauc': 0.6448876094428918}\n",
      "Corresponding test performance:\n",
      "{'precision': 0.5735294117635962, 'recall': 0.5686876438976042, 'f1': 0.5710982608949433, 'auc': 0.7633047424055295, 'prauc': 0.6094877506066405}\n",
      "Corresponding test-long performance:\n",
      "{'precision': 0.6444636678144943, 'recall': 0.4904542462113861, 'f1': 0.5570093408823018, 'auc': 0.7248419650755344, 'prauc': 0.6579455582211637}\n",
      "[INFO] Random seed set to 127978094\n",
      "Training with seed: 127978094\n"
     ]
    },
    {
     "name": "stderr",
     "output_type": "stream",
     "text": [
      "Training Batches: 100%|██████████| 1/1 [00:02<00:00,  2.28s/it]\n",
      "Running inference: 100%|██████████| 1/1 [00:04<00:00,  4.65s/it]\n",
      "Running inference: 100%|██████████| 1/1 [00:03<00:00,  3.62s/it]\n"
     ]
    },
    {
     "name": "stdout",
     "output_type": "stream",
     "text": [
      "Epoch: 001, Average Loss: 0.6918\n",
      "Validation: {'precision': 0.6458536585302844, 'recall': 0.1271609681134707, 'f1': 0.212485954560745, 'auc': 0.6939369953972828, 'prauc': 0.5194823690318833}\n",
      "Test:       {'precision': 0.6475728155276935, 'recall': 0.12797390636967004, 'f1': 0.21371355059195082, 'auc': 0.6819233138245159, 'prauc': 0.5082738900620702}\n"
     ]
    },
    {
     "name": "stderr",
     "output_type": "stream",
     "text": [
      "Training Batches: 100%|██████████| 1/1 [00:02<00:00,  2.27s/it]\n",
      "Running inference: 100%|██████████| 1/1 [00:04<00:00,  4.08s/it]\n",
      "Running inference: 100%|██████████| 1/1 [00:04<00:00,  4.15s/it]\n"
     ]
    },
    {
     "name": "stdout",
     "output_type": "stream",
     "text": [
      "Epoch: 002, Average Loss: 0.6731\n",
      "Validation: {'precision': 0.6467065868224748, 'recall': 0.20745293891623617, 'f1': 0.31413612197581464, 'auc': 0.7035931679540546, 'prauc': 0.5420421788515117}\n",
      "Test:       {'precision': 0.6326048434693881, 'recall': 0.20548733691441773, 'f1': 0.3102099890565892, 'auc': 0.6878373580422574, 'prauc': 0.5248250550715459}\n"
     ]
    },
    {
     "name": "stderr",
     "output_type": "stream",
     "text": [
      "Training Batches: 100%|██████████| 1/1 [00:02<00:00,  2.73s/it]\n",
      "Running inference: 100%|██████████| 1/1 [00:04<00:00,  4.03s/it]\n",
      "Running inference: 100%|██████████| 1/1 [00:04<00:00,  4.09s/it]\n"
     ]
    },
    {
     "name": "stdout",
     "output_type": "stream",
     "text": [
      "Epoch: 003, Average Loss: 0.6562\n",
      "Validation: {'precision': 0.632391713745264, 'recall': 0.3225124855929264, 'f1': 0.427172111032391, 'auc': 0.710054758185419, 'prauc': 0.554853448173865}\n",
      "Test:       {'precision': 0.5949320602255053, 'recall': 0.3108211818873545, 'f1': 0.4083175758311912, 'auc': 0.6926899518076002, 'prauc': 0.5322905429776076}\n"
     ]
    },
    {
     "name": "stderr",
     "output_type": "stream",
     "text": [
      "Training Batches: 100%|██████████| 1/1 [00:02<00:00,  2.26s/it]\n",
      "Running inference: 100%|██████████| 1/1 [00:04<00:00,  4.59s/it]\n",
      "Running inference: 100%|██████████| 1/1 [00:03<00:00,  3.57s/it]\n"
     ]
    },
    {
     "name": "stdout",
     "output_type": "stream",
     "text": [
      "Epoch: 004, Average Loss: 0.6363\n",
      "Validation: {'precision': 0.6035889070130408, 'recall': 0.42643104110559654, 'f1': 0.49977487132868564, 'auc': 0.7150799611192955, 'prauc': 0.5631756626785818}\n",
      "Test:       {'precision': 0.5683030949824752, 'recall': 0.40867229470374394, 'f1': 0.4754464237038534, 'auc': 0.6964688097930484, 'prauc': 0.5365694299922602}\n"
     ]
    },
    {
     "name": "stderr",
     "output_type": "stream",
     "text": [
      "Training Batches: 100%|██████████| 1/1 [00:02<00:00,  2.27s/it]\n",
      "Running inference: 100%|██████████| 1/1 [00:04<00:00,  4.04s/it]\n",
      "Running inference: 100%|██████████| 1/1 [00:05<00:00,  5.01s/it]\n"
     ]
    },
    {
     "name": "stdout",
     "output_type": "stream",
     "text": [
      "Epoch: 005, Average Loss: 0.6174\n",
      "Validation: {'precision': 0.5874407582924468, 'recall': 0.47618132923458284, 'f1': 0.5259919322485869, 'auc': 0.7251583555926434, 'prauc': 0.5723459350237966}\n",
      "Test:       {'precision': 0.5557880055775086, 'recall': 0.45874904067448435, 'f1': 0.5026277015824205, 'auc': 0.7052323034695978, 'prauc': 0.542743556546165}\n"
     ]
    },
    {
     "name": "stderr",
     "output_type": "stream",
     "text": [
      "Training Batches: 100%|██████████| 1/1 [00:01<00:00,  1.31s/it]\n",
      "Running inference: 100%|██████████| 1/1 [00:04<00:00,  4.49s/it]\n",
      "Running inference: 100%|██████████| 1/1 [00:04<00:00,  4.56s/it]\n"
     ]
    },
    {
     "name": "stdout",
     "output_type": "stream",
     "text": [
      "Epoch: 006, Average Loss: 0.6004\n",
      "Validation: {'precision': 0.5860310421273037, 'recall': 0.5076834421811224, 'f1': 0.5440510448392762, 'auc': 0.7406504114824315, 'prauc': 0.584046889030155}\n",
      "Test:       {'precision': 0.5525519031129918, 'recall': 0.49021488871740176, 'f1': 0.5195201251510131, 'auc': 0.71925409242415, 'prauc': 0.552858122441426}\n"
     ]
    },
    {
     "name": "stderr",
     "output_type": "stream",
     "text": [
      "Training Batches: 100%|██████████| 1/1 [00:02<00:00,  2.25s/it]\n",
      "Running inference: 100%|██████████| 1/1 [00:04<00:00,  4.59s/it]\n",
      "Running inference: 100%|██████████| 1/1 [00:03<00:00,  3.61s/it]\n"
     ]
    },
    {
     "name": "stdout",
     "output_type": "stream",
     "text": [
      "Epoch: 007, Average Loss: 0.5815\n",
      "Validation: {'precision': 0.5800623052947455, 'recall': 0.536496350363933, 'f1': 0.5574293932701458, 'auc': 0.7523714949947404, 'prauc': 0.5950028058302739}\n",
      "Test:       {'precision': 0.5482429412948441, 'recall': 0.5178434382184999, 'f1': 0.5326097631332563, 'auc': 0.7303857696056316, 'prauc': 0.562498706268664}\n"
     ]
    },
    {
     "name": "stderr",
     "output_type": "stream",
     "text": [
      "Training Batches: 100%|██████████| 1/1 [00:02<00:00,  2.27s/it]\n",
      "Running inference: 100%|██████████| 1/1 [00:04<00:00,  4.54s/it]\n",
      "Running inference: 100%|██████████| 1/1 [00:03<00:00,  3.58s/it]\n"
     ]
    },
    {
     "name": "stdout",
     "output_type": "stream",
     "text": [
      "Epoch: 008, Average Loss: 0.5673\n",
      "Validation: {'precision': 0.5700594211221582, 'recall': 0.5712639262378577, 'f1': 0.5706610330877526, 'auc': 0.7577017558304572, 'prauc': 0.602537715568656}\n",
      "Test:       {'precision': 0.5395331325291048, 'recall': 0.5498848810426902, 'f1': 0.5446598201609519, 'auc': 0.7356281483340579, 'prauc': 0.5692551764076124}\n"
     ]
    },
    {
     "name": "stderr",
     "output_type": "stream",
     "text": [
      "Training Batches: 100%|██████████| 1/1 [00:02<00:00,  2.29s/it]\n",
      "Running inference: 100%|██████████| 1/1 [00:04<00:00,  4.06s/it]\n",
      "Running inference: 100%|██████████| 1/1 [00:04<00:00,  4.02s/it]\n"
     ]
    },
    {
     "name": "stdout",
     "output_type": "stream",
     "text": [
      "Epoch: 009, Average Loss: 0.5531\n",
      "Validation: {'precision': 0.5815915627985013, 'recall': 0.58259700345643, 'f1': 0.5820938439577199, 'auc': 0.7698206713233325, 'prauc': 0.6157817588266146}\n",
      "Test:       {'precision': 0.5544761904751343, 'recall': 0.5585188027617833, 'f1': 0.5564901498451119, 'auc': 0.7496259011790006, 'prauc': 0.5839628218195784}\n"
     ]
    },
    {
     "name": "stderr",
     "output_type": "stream",
     "text": [
      "Training Batches: 100%|██████████| 1/1 [00:02<00:00,  2.76s/it]\n",
      "Running inference: 100%|██████████| 1/1 [00:04<00:00,  4.07s/it]\n",
      "Running inference: 100%|██████████| 1/1 [00:04<00:00,  4.14s/it]\n"
     ]
    },
    {
     "name": "stdout",
     "output_type": "stream",
     "text": [
      "Epoch: 010, Average Loss: 0.5418\n",
      "Validation: {'precision': 0.5830948292299503, 'recall': 0.5870149827111275, 'f1': 0.5850483342350805, 'auc': 0.774045255059946, 'prauc': 0.622388785467086}\n",
      "Test:       {'precision': 0.5549688855354423, 'recall': 0.564658480428694, 'f1': 0.5597717496355439, 'auc': 0.754608979315453, 'prauc': 0.5911962494395869}\n"
     ]
    },
    {
     "name": "stderr",
     "output_type": "stream",
     "text": [
      "Training Batches: 100%|██████████| 1/1 [00:01<00:00,  1.82s/it]\n",
      "Running inference: 100%|██████████| 1/1 [00:04<00:00,  4.09s/it]\n",
      "Running inference: 100%|██████████| 1/1 [00:05<00:00,  5.07s/it]\n"
     ]
    },
    {
     "name": "stdout",
     "output_type": "stream",
     "text": [
      "Epoch: 011, Average Loss: 0.5327\n",
      "Validation: {'precision': 0.5900717471386657, 'recall': 0.5845178640019506, 'f1': 0.5872816701895602, 'auc': 0.7759390031157696, 'prauc': 0.6279088946931375}\n",
      "Test:       {'precision': 0.560891279292046, 'recall': 0.560245587105602, 'f1': 0.5605682422632758, 'auc': 0.7550644488464768, 'prauc': 0.5952199238575591}\n"
     ]
    },
    {
     "name": "stderr",
     "output_type": "stream",
     "text": [
      "Training Batches: 100%|██████████| 1/1 [00:01<00:00,  1.32s/it]\n",
      "Running inference: 100%|██████████| 1/1 [00:04<00:00,  4.47s/it]\n",
      "Running inference: 100%|██████████| 1/1 [00:04<00:00,  4.50s/it]\n"
     ]
    },
    {
     "name": "stdout",
     "output_type": "stream",
     "text": [
      "Epoch: 012, Average Loss: 0.5238\n",
      "Validation: {'precision': 0.6088734410128627, 'recall': 0.572032270456066, 'f1': 0.5898781766418083, 'auc': 0.7840710072148616, 'prauc': 0.6386162870125066}\n",
      "Test:       {'precision': 0.5810783724181579, 'recall': 0.5562164236366919, 'f1': 0.5683756444474078, 'auc': 0.7638895719190998, 'prauc': 0.6072645929199681}\n"
     ]
    },
    {
     "name": "stderr",
     "output_type": "stream",
     "text": [
      "Training Batches: 100%|██████████| 1/1 [00:02<00:00,  2.27s/it]\n",
      "Running inference: 100%|██████████| 1/1 [00:04<00:00,  4.61s/it]\n",
      "Running inference: 100%|██████████| 1/1 [00:03<00:00,  3.56s/it]\n"
     ]
    },
    {
     "name": "stdout",
     "output_type": "stream",
     "text": [
      "Epoch: 013, Average Loss: 0.5196\n",
      "Validation: {'precision': 0.6095295780322845, 'recall': 0.5799077986927009, 'f1': 0.5943498325843704, 'auc': 0.7861474584066335, 'prauc': 0.6424838265838029}\n",
      "Test:       {'precision': 0.5807730426153007, 'recall': 0.5621642363765116, 'f1': 0.5713171442641288, 'auc': 0.7645965911340524, 'prauc': 0.6090342830623531}\n"
     ]
    },
    {
     "name": "stderr",
     "output_type": "stream",
     "text": [
      "Training Batches: 100%|██████████| 1/1 [00:02<00:00,  2.29s/it]\n",
      "Running inference: 100%|██████████| 1/1 [00:04<00:00,  4.57s/it]\n",
      "Running inference: 100%|██████████| 1/1 [00:03<00:00,  3.52s/it]\n"
     ]
    },
    {
     "name": "stdout",
     "output_type": "stream",
     "text": [
      "Epoch: 014, Average Loss: 0.5156\n",
      "Validation: {'precision': 0.6044409510697496, 'recall': 0.5908567038021689, 'f1': 0.5975716317163379, 'auc': 0.7831140719850733, 'prauc': 0.6399291974286933}\n",
      "Test:       {'precision': 0.5757753071960683, 'recall': 0.5663852647725127, 'f1': 0.5710416818161402, 'auc': 0.7603975528291201, 'prauc': 0.6039325234571987}\n"
     ]
    },
    {
     "name": "stderr",
     "output_type": "stream",
     "text": [
      "Training Batches: 100%|██████████| 1/1 [00:02<00:00,  2.27s/it]\n",
      "Running inference: 100%|██████████| 1/1 [00:04<00:00,  4.01s/it]\n",
      "Running inference: 100%|██████████| 1/1 [00:04<00:00,  4.05s/it]\n"
     ]
    },
    {
     "name": "stdout",
     "output_type": "stream",
     "text": [
      "Epoch: 015, Average Loss: 0.5101\n",
      "Validation: {'precision': 0.5944260378082354, 'recall': 0.5858624663838151, 'f1': 0.5901131806429254, 'auc': 0.7776173020265408, 'prauc': 0.6335443700540297}\n",
      "Test:       {'precision': 0.5682564201572345, 'recall': 0.564658480428694, 'f1': 0.5664517320791258, 'auc': 0.7552178357223334, 'prauc': 0.5966575760854627}\n"
     ]
    },
    {
     "name": "stderr",
     "output_type": "stream",
     "text": [
      "Training Batches: 100%|██████████| 1/1 [00:02<00:00,  2.74s/it]\n",
      "Running inference: 100%|██████████| 1/1 [00:03<00:00,  3.99s/it]\n",
      "Running inference: 100%|██████████| 1/1 [00:04<00:00,  4.01s/it]\n"
     ]
    },
    {
     "name": "stdout",
     "output_type": "stream",
     "text": [
      "Epoch: 016, Average Loss: 0.5125\n",
      "Validation: {'precision': 0.6284272866842983, 'recall': 0.5503265462916821, 'f1': 0.5867895495522383, 'auc': 0.7904088578519861, 'prauc': 0.6479269441938235}\n",
      "Test:       {'precision': 0.5992748986978049, 'recall': 0.5391404451255964, 'f1': 0.5676194273933723, 'auc': 0.7695619924076861, 'prauc': 0.612582746876611}\n"
     ]
    },
    {
     "name": "stderr",
     "output_type": "stream",
     "text": [
      "Training Batches: 100%|██████████| 1/1 [00:02<00:00,  2.24s/it]\n",
      "Running inference: 100%|██████████| 1/1 [00:04<00:00,  4.49s/it]\n",
      "Running inference: 100%|██████████| 1/1 [00:03<00:00,  3.57s/it]\n"
     ]
    },
    {
     "name": "stdout",
     "output_type": "stream",
     "text": [
      "Epoch: 017, Average Loss: 0.5060\n",
      "Validation: {'precision': 0.6410564225674885, 'recall': 0.5128697656540283, 'f1': 0.5698431281305959, 'auc': 0.7933584009245755, 'prauc': 0.6512527829294192}\n",
      "Test:       {'precision': 0.6156374735839032, 'recall': 0.503069838832496, 'f1': 0.5536902072762533, 'auc': 0.7741888697771506, 'prauc': 0.6175826801253301}\n"
     ]
    },
    {
     "name": "stderr",
     "output_type": "stream",
     "text": [
      "Training Batches: 100%|██████████| 1/1 [00:02<00:00,  2.25s/it]\n",
      "Running inference: 100%|██████████| 1/1 [00:04<00:00,  4.01s/it]\n",
      "Running inference: 100%|██████████| 1/1 [00:05<00:00,  5.09s/it]\n"
     ]
    },
    {
     "name": "stdout",
     "output_type": "stream",
     "text": [
      "Epoch: 018, Average Loss: 0.5103\n",
      "Validation: {'precision': 0.6533265358127623, 'recall': 0.49231655781695677, 'f1': 0.561507279575566, 'auc': 0.7937619794717568, 'prauc': 0.6518223547282866}\n",
      "Test:       {'precision': 0.623596906957786, 'recall': 0.479662317727399, 'f1': 0.5422405329865406, 'auc': 0.7755242655217418, 'prauc': 0.6184322639144448}\n"
     ]
    },
    {
     "name": "stderr",
     "output_type": "stream",
     "text": [
      "Training Batches: 100%|██████████| 1/1 [00:01<00:00,  1.31s/it]\n",
      "Running inference: 100%|██████████| 1/1 [00:04<00:00,  4.50s/it]\n",
      "Running inference: 100%|██████████| 1/1 [00:04<00:00,  4.56s/it]\n"
     ]
    },
    {
     "name": "stdout",
     "output_type": "stream",
     "text": [
      "Epoch: 019, Average Loss: 0.5048\n",
      "Validation: {'precision': 0.654417513680859, 'recall': 0.4823280829802491, 'f1': 0.5553466721010886, 'auc': 0.7920681365693224, 'prauc': 0.6514789302075805}\n",
      "Test:       {'precision': 0.628818737269275, 'recall': 0.47390636991467017, 'f1': 0.5404813955351292, 'auc': 0.7732019423241017, 'prauc': 0.6170111540804921}\n"
     ]
    },
    {
     "name": "stderr",
     "output_type": "stream",
     "text": [
      "Training Batches: 100%|██████████| 1/1 [00:02<00:00,  2.23s/it]\n",
      "Running inference: 100%|██████████| 1/1 [00:04<00:00,  4.55s/it]\n",
      "Running inference: 100%|██████████| 1/1 [00:03<00:00,  3.57s/it]\n"
     ]
    },
    {
     "name": "stdout",
     "output_type": "stream",
     "text": [
      "Epoch: 020, Average Loss: 0.4982\n",
      "Validation: {'precision': 0.6607811663973762, 'recall': 0.4744525547436142, 'f1': 0.552325576528811, 'auc': 0.7920117825340925, 'prauc': 0.6531046057317211}\n",
      "Test:       {'precision': 0.6312223090940026, 'recall': 0.4646968534143041, 'f1': 0.5353077639284953, 'auc': 0.7731597685366883, 'prauc': 0.618685500924608}\n"
     ]
    },
    {
     "name": "stderr",
     "output_type": "stream",
     "text": [
      "Training Batches: 100%|██████████| 1/1 [00:02<00:00,  2.23s/it]\n",
      "Running inference: 100%|██████████| 1/1 [00:04<00:00,  4.61s/it]\n",
      "Running inference: 100%|██████████| 1/1 [00:03<00:00,  3.56s/it]\n"
     ]
    },
    {
     "name": "stdout",
     "output_type": "stream",
     "text": [
      "Epoch: 021, Average Loss: 0.4984\n",
      "Validation: {'precision': 0.686629113546734, 'recall': 0.44487130234259536, 'f1': 0.5399230631836354, 'auc': 0.7983258555742733, 'prauc': 0.6609257770958364}\n",
      "Test:       {'precision': 0.64907727796814, 'recall': 0.43188795088175, 'f1': 0.5186635896706986, 'auc': 0.7805869724875759, 'prauc': 0.6286865391149445}\n"
     ]
    },
    {
     "name": "stderr",
     "output_type": "stream",
     "text": [
      "Training Batches: 100%|██████████| 1/1 [00:02<00:00,  2.27s/it]\n",
      "Running inference: 100%|██████████| 1/1 [00:03<00:00,  4.00s/it]\n",
      "Running inference: 100%|██████████| 1/1 [00:04<00:00,  4.08s/it]\n"
     ]
    },
    {
     "name": "stdout",
     "output_type": "stream",
     "text": [
      "Epoch: 022, Average Loss: 0.4943\n",
      "Validation: {'precision': 0.6977113795273436, 'recall': 0.4216288897417948, 'f1': 0.5256226006669011, 'auc': 0.79973989720617, 'prauc': 0.6649426254639358}\n",
      "Test:       {'precision': 0.6631676443326238, 'recall': 0.4121258633913812, 'f1': 0.5083422032940422, 'auc': 0.782803096263808, 'prauc': 0.6336212266916219}\n"
     ]
    },
    {
     "name": "stderr",
     "output_type": "stream",
     "text": [
      "Training Batches: 100%|██████████| 1/1 [00:02<00:00,  2.67s/it]\n",
      "Running inference: 100%|██████████| 1/1 [00:03<00:00,  3.95s/it]\n",
      "Running inference: 100%|██████████| 1/1 [00:04<00:00,  4.01s/it]\n"
     ]
    },
    {
     "name": "stdout",
     "output_type": "stream",
     "text": [
      "Epoch: 023, Average Loss: 0.4891\n",
      "Validation: {'precision': 0.7015772870640329, 'recall': 0.42719938532380486, 'f1': 0.5310410650171787, 'auc': 0.8022030452281171, 'prauc': 0.6701719889874264}\n",
      "Test:       {'precision': 0.6654400490626635, 'recall': 0.4163468917873823, 'f1': 0.512215267304491, 'auc': 0.7851294285518163, 'prauc': 0.6378736024542545}\n"
     ]
    },
    {
     "name": "stderr",
     "output_type": "stream",
     "text": [
      "Training Batches: 100%|██████████| 1/1 [00:02<00:00,  2.22s/it]\n",
      "Running inference: 100%|██████████| 1/1 [00:04<00:00,  4.50s/it]\n",
      "Running inference: 100%|██████████| 1/1 [00:03<00:00,  3.47s/it]\n"
     ]
    },
    {
     "name": "stdout",
     "output_type": "stream",
     "text": [
      "Epoch: 024, Average Loss: 0.4859\n",
      "Validation: {'precision': 0.7110544759454889, 'recall': 0.42873607376022144, 'f1': 0.5349310917704269, 'auc': 0.802581272937986, 'prauc': 0.6740005356349237}\n",
      "Test:       {'precision': 0.6698608964430607, 'recall': 0.41577129700610943, 'f1': 0.5130815626930625, 'auc': 0.7853590710913655, 'prauc': 0.639995826624068}\n",
      "\n",
      "Early stopping triggered after 24 epochs (no improvement for 10 epochs).\n",
      "\n",
      "Best validation performance:\n",
      "{'precision': 0.6044409510697496, 'recall': 0.5908567038021689, 'f1': 0.5975716317163379, 'auc': 0.7831140719850733, 'prauc': 0.6399291974286933}\n",
      "Corresponding test performance:\n",
      "{'precision': 0.5757753071960683, 'recall': 0.5663852647725127, 'f1': 0.5710416818161402, 'auc': 0.7603975528291201, 'prauc': 0.6039325234571987}\n",
      "Corresponding test-long performance:\n",
      "{'precision': 0.6446789797656581, 'recall': 0.48255431204422283, 'f1': 0.5519578264245736, 'auc': 0.7236816189129491, 'prauc': 0.6543595212911919}\n",
      "[INFO] Random seed set to 939042955\n",
      "Training with seed: 939042955\n"
     ]
    },
    {
     "name": "stderr",
     "output_type": "stream",
     "text": [
      "Training Batches: 100%|██████████| 1/1 [00:02<00:00,  2.23s/it]\n",
      "Running inference: 100%|██████████| 1/1 [00:04<00:00,  4.49s/it]\n",
      "Running inference: 100%|██████████| 1/1 [00:03<00:00,  3.51s/it]\n"
     ]
    },
    {
     "name": "stdout",
     "output_type": "stream",
     "text": [
      "Epoch: 001, Average Loss: 0.6900\n",
      "Validation: {'precision': 0.6794117647008867, 'recall': 0.17748751440611316, 'f1': 0.2814498901048192, 'auc': 0.7004008183110859, 'prauc': 0.5385708637248552}\n",
      "Test:       {'precision': 0.659173313990869, 'recall': 0.17440521872568227, 'f1': 0.2758306748877106, 'auc': 0.684117235534778, 'prauc': 0.5158449070080301}\n"
     ]
    },
    {
     "name": "stderr",
     "output_type": "stream",
     "text": [
      "Training Batches: 100%|██████████| 1/1 [00:02<00:00,  2.24s/it]\n",
      "Running inference: 100%|██████████| 1/1 [00:04<00:00,  4.02s/it]\n",
      "Running inference: 100%|██████████| 1/1 [00:03<00:00,  3.99s/it]\n"
     ]
    },
    {
     "name": "stdout",
     "output_type": "stream",
     "text": [
      "Epoch: 002, Average Loss: 0.6729\n",
      "Validation: {'precision': 0.6466951973340623, 'recall': 0.2612370341908159, 'f1': 0.3721439280386338, 'auc': 0.7111376845330877, 'prauc': 0.5385183985341506}\n",
      "Test:       {'precision': 0.6307842182141706, 'recall': 0.24846508058279265, 'f1': 0.3565037812162316, 'auc': 0.6960779926043987, 'prauc': 0.5205432227559756}\n"
     ]
    },
    {
     "name": "stderr",
     "output_type": "stream",
     "text": [
      "Training Batches: 100%|██████████| 1/1 [00:02<00:00,  2.23s/it]\n",
      "Running inference: 100%|██████████| 1/1 [00:04<00:00,  4.41s/it]\n",
      "Running inference: 100%|██████████| 1/1 [00:04<00:00,  4.96s/it]\n"
     ]
    },
    {
     "name": "stdout",
     "output_type": "stream",
     "text": [
      "Epoch: 003, Average Loss: 0.6548\n",
      "Validation: {'precision': 0.62646450723423, 'recall': 0.34921244717566424, 'f1': 0.44844597468236286, 'auc': 0.7266020061735083, 'prauc': 0.5516884725590846}\n",
      "Test:       {'precision': 0.6017699115022946, 'recall': 0.3261703760546313, 'f1': 0.4230434196032413, 'auc': 0.7114239794994104, 'prauc': 0.5327180863335818}\n"
     ]
    },
    {
     "name": "stderr",
     "output_type": "stream",
     "text": [
      "Training Batches: 100%|██████████| 1/1 [00:01<00:00,  1.30s/it]\n",
      "Running inference: 100%|██████████| 1/1 [00:04<00:00,  4.42s/it]\n",
      "Running inference: 100%|██████████| 1/1 [00:04<00:00,  4.04s/it]\n"
     ]
    },
    {
     "name": "stdout",
     "output_type": "stream",
     "text": [
      "Epoch: 004, Average Loss: 0.6360\n",
      "Validation: {'precision': 0.6120045950585525, 'recall': 0.4093353822504623, 'f1': 0.4905616894867284, 'auc': 0.7379369675123038, 'prauc': 0.5631109747596194}\n",
      "Test:       {'precision': 0.5875754961156526, 'recall': 0.39198004604683045, 'f1': 0.47024973625017835, 'auc': 0.7226451745998486, 'prauc': 0.5438853302547867}\n"
     ]
    },
    {
     "name": "stderr",
     "output_type": "stream",
     "text": [
      "Training Batches: 100%|██████████| 1/1 [00:01<00:00,  1.75s/it]\n",
      "Running inference: 100%|██████████| 1/1 [00:04<00:00,  4.55s/it]\n",
      "Running inference: 100%|██████████| 1/1 [00:04<00:00,  4.02s/it]\n"
     ]
    },
    {
     "name": "stdout",
     "output_type": "stream",
     "text": [
      "Epoch: 005, Average Loss: 0.6168\n",
      "Validation: {'precision': 0.6034732272054909, 'recall': 0.48059930848928045, 'f1': 0.5350727067825093, 'auc': 0.7488575731363649, 'prauc': 0.5777168488060833}\n",
      "Test:       {'precision': 0.5728436820474201, 'recall': 0.45491174213266516, 'f1': 0.5071115339375978, 'auc': 0.7331543828997975, 'prauc': 0.5570584233669793}\n"
     ]
    },
    {
     "name": "stderr",
     "output_type": "stream",
     "text": [
      "Training Batches: 100%|██████████| 1/1 [00:01<00:00,  1.28s/it]\n",
      "Running inference: 100%|██████████| 1/1 [00:04<00:00,  4.44s/it]\n",
      "Running inference: 100%|██████████| 1/1 [00:04<00:00,  4.02s/it]\n"
     ]
    },
    {
     "name": "stdout",
     "output_type": "stream",
     "text": [
      "Epoch: 006, Average Loss: 0.5975\n",
      "Validation: {'precision': 0.5915611814333511, 'recall': 0.5386092969640057, 'f1': 0.5638447567230938, 'auc': 0.7594298614587575, 'prauc': 0.5959520379363447}\n",
      "Test:       {'precision': 0.5614071606982486, 'recall': 0.517459708364318, 'f1': 0.5385383336653684, 'auc': 0.7423608395886817, 'prauc': 0.5718086398372513}\n"
     ]
    },
    {
     "name": "stderr",
     "output_type": "stream",
     "text": [
      "Training Batches: 100%|██████████| 1/1 [00:01<00:00,  1.75s/it]\n",
      "Running inference: 100%|██████████| 1/1 [00:04<00:00,  4.46s/it]\n",
      "Running inference: 100%|██████████| 1/1 [00:04<00:00,  4.01s/it]\n"
     ]
    },
    {
     "name": "stdout",
     "output_type": "stream",
     "text": [
      "Epoch: 007, Average Loss: 0.5811\n",
      "Validation: {'precision': 0.5836349014865628, 'recall': 0.5576258163646607, 'f1': 0.5703339832136572, 'auc': 0.760122256791641, 'prauc': 0.6044164784245942}\n",
      "Test:       {'precision': 0.5615920397998775, 'recall': 0.5414428242506879, 'f1': 0.5513333934571705, 'auc': 0.7444185536057224, 'prauc': 0.580364981435068}\n"
     ]
    },
    {
     "name": "stderr",
     "output_type": "stream",
     "text": [
      "Training Batches: 100%|██████████| 1/1 [00:01<00:00,  1.30s/it]\n",
      "Running inference: 100%|██████████| 1/1 [00:04<00:00,  4.47s/it]\n",
      "Running inference: 100%|██████████| 1/1 [00:04<00:00,  4.02s/it]\n"
     ]
    },
    {
     "name": "stdout",
     "output_type": "stream",
     "text": [
      "Epoch: 008, Average Loss: 0.5654\n",
      "Validation: {'precision': 0.5824947788103617, 'recall': 0.5893200153657524, 'f1': 0.5858875152893211, 'auc': 0.7685849522479156, 'prauc': 0.6193198079850772}\n",
      "Test:       {'precision': 0.559034326668127, 'recall': 0.5686876438976042, 'f1': 0.5638196640120389, 'auc': 0.7512921436501132, 'prauc': 0.5924067723518984}\n"
     ]
    },
    {
     "name": "stderr",
     "output_type": "stream",
     "text": [
      "Training Batches: 100%|██████████| 1/1 [00:01<00:00,  1.80s/it]\n",
      "Running inference: 100%|██████████| 1/1 [00:04<00:00,  4.47s/it]\n",
      "Running inference: 100%|██████████| 1/1 [00:04<00:00,  4.14s/it]\n"
     ]
    },
    {
     "name": "stdout",
     "output_type": "stream",
     "text": [
      "Epoch: 009, Average Loss: 0.5503\n",
      "Validation: {'precision': 0.5857196684239154, 'recall': 0.5971955436023872, 'f1': 0.5914019352694617, 'auc': 0.7727628003829287, 'prauc': 0.627943107682053}\n",
      "Test:       {'precision': 0.5614953271017542, 'recall': 0.5763622409812426, 'f1': 0.5688316556701041, 'auc': 0.755342080658548, 'prauc': 0.6009392948594809}\n"
     ]
    },
    {
     "name": "stderr",
     "output_type": "stream",
     "text": [
      "Training Batches: 100%|██████████| 1/1 [00:01<00:00,  1.77s/it]\n",
      "Running inference: 100%|██████████| 1/1 [00:03<00:00,  3.97s/it]\n",
      "Running inference: 100%|██████████| 1/1 [00:04<00:00,  4.07s/it]\n"
     ]
    },
    {
     "name": "stdout",
     "output_type": "stream",
     "text": [
      "Epoch: 010, Average Loss: 0.5378\n",
      "Validation: {'precision': 0.5927367055760743, 'recall': 0.6144832885120736, 'f1': 0.6034141230774437, 'auc': 0.7803306235288553, 'prauc': 0.6389278415081193}\n",
      "Test:       {'precision': 0.5649862511447021, 'recall': 0.5913277052943374, 'f1': 0.5778569369720749, 'auc': 0.7610120956929136, 'prauc': 0.609636491223311}\n"
     ]
    },
    {
     "name": "stderr",
     "output_type": "stream",
     "text": [
      "Training Batches: 100%|██████████| 1/1 [00:01<00:00,  1.73s/it]\n",
      "Running inference: 100%|██████████| 1/1 [00:04<00:00,  4.48s/it]\n",
      "Running inference: 100%|██████████| 1/1 [00:04<00:00,  4.50s/it]\n"
     ]
    },
    {
     "name": "stdout",
     "output_type": "stream",
     "text": [
      "Epoch: 011, Average Loss: 0.5286\n",
      "Validation: {'precision': 0.5967002749759914, 'recall': 0.6252401075669896, 'f1': 0.6106368958551607, 'auc': 0.7851194824246441, 'prauc': 0.6460989500317165}\n",
      "Test:       {'precision': 0.5688189546019736, 'recall': 0.6034151957010679, 'f1': 0.5856065493278156, 'auc': 0.7647645674123292, 'prauc': 0.6150982107391612}\n"
     ]
    },
    {
     "name": "stderr",
     "output_type": "stream",
     "text": [
      "Training Batches: 100%|██████████| 1/1 [00:01<00:00,  1.27s/it]\n",
      "Running inference: 100%|██████████| 1/1 [00:04<00:00,  4.37s/it]\n",
      "Running inference: 100%|██████████| 1/1 [00:04<00:00,  4.53s/it]\n"
     ]
    },
    {
     "name": "stdout",
     "output_type": "stream",
     "text": [
      "Epoch: 012, Average Loss: 0.5231\n",
      "Validation: {'precision': 0.597441685476679, 'recall': 0.610065309257376, 'f1': 0.6036875068792698, 'auc': 0.7835794590954679, 'prauc': 0.6451395028005641}\n",
      "Test:       {'precision': 0.5765765765754944, 'recall': 0.5894090560234279, 'f1': 0.5829221961380197, 'auc': 0.7686903239986472, 'prauc': 0.6217001925494435}\n"
     ]
    },
    {
     "name": "stderr",
     "output_type": "stream",
     "text": [
      "Training Batches: 100%|██████████| 1/1 [00:01<00:00,  1.77s/it]\n",
      "Running inference: 100%|██████████| 1/1 [00:04<00:00,  4.05s/it]\n",
      "Running inference: 100%|██████████| 1/1 [00:03<00:00,  3.97s/it]\n"
     ]
    },
    {
     "name": "stdout",
     "output_type": "stream",
     "text": [
      "Epoch: 013, Average Loss: 0.5233\n",
      "Validation: {'precision': 0.6094952148609317, 'recall': 0.623895505185125, 'f1': 0.6166112906805742, 'auc': 0.7907475378788235, 'prauc': 0.6559267433903002}\n",
      "Test:       {'precision': 0.5779510022260989, 'recall': 0.5974673829612481, 'f1': 0.5875471648115906, 'auc': 0.7707395037221686, 'prauc': 0.6251322454655053}\n"
     ]
    },
    {
     "name": "stderr",
     "output_type": "stream",
     "text": [
      "Training Batches: 100%|██████████| 1/1 [00:02<00:00,  2.68s/it]\n",
      "Running inference: 100%|██████████| 1/1 [00:03<00:00,  4.00s/it]\n",
      "Running inference: 100%|██████████| 1/1 [00:04<00:00,  4.02s/it]\n"
     ]
    },
    {
     "name": "stdout",
     "output_type": "stream",
     "text": [
      "Epoch: 014, Average Loss: 0.5172\n",
      "Validation: {'precision': 0.5977096416686412, 'recall': 0.6215904725305003, 'f1': 0.6094161908576443, 'auc': 0.7838822466324649, 'prauc': 0.6506403575890536}\n",
      "Test:       {'precision': 0.5661804430027622, 'recall': 0.6032233307739769, 'f1': 0.5841151831135465, 'auc': 0.7594803558995783, 'prauc': 0.614365743107999}\n"
     ]
    },
    {
     "name": "stderr",
     "output_type": "stream",
     "text": [
      "Training Batches: 100%|██████████| 1/1 [00:01<00:00,  1.76s/it]\n",
      "Running inference: 100%|██████████| 1/1 [00:03<00:00,  4.00s/it]\n",
      "Running inference: 100%|██████████| 1/1 [00:04<00:00,  4.05s/it]\n"
     ]
    },
    {
     "name": "stdout",
     "output_type": "stream",
     "text": [
      "Epoch: 015, Average Loss: 0.5185\n",
      "Validation: {'precision': 0.5952115812906548, 'recall': 0.6160199769484902, 'f1': 0.6054370348342011, 'auc': 0.7784933331348727, 'prauc': 0.6450779126720705}\n",
      "Test:       {'precision': 0.5614479637998888, 'recall': 0.5951650038361567, 'f1': 0.5778150271350533, 'auc': 0.7541802370535505, 'prauc': 0.6082431141069432}\n"
     ]
    },
    {
     "name": "stderr",
     "output_type": "stream",
     "text": [
      "Training Batches: 100%|██████████| 1/1 [00:01<00:00,  1.77s/it]\n",
      "Running inference: 100%|██████████| 1/1 [00:04<00:00,  4.44s/it]\n",
      "Running inference: 100%|██████████| 1/1 [00:04<00:00,  4.49s/it]\n"
     ]
    },
    {
     "name": "stdout",
     "output_type": "stream",
     "text": [
      "Epoch: 016, Average Loss: 0.5153\n",
      "Validation: {'precision': 0.6051351877054948, 'recall': 0.5975797157114914, 'f1': 0.601333714917852, 'auc': 0.7828047842333807, 'prauc': 0.6505676803303985}\n",
      "Test:       {'precision': 0.572533484247175, 'recall': 0.5823100537210624, 'f1': 0.5773803811877884, 'auc': 0.7592188433956771, 'prauc': 0.6141469303626322}\n"
     ]
    },
    {
     "name": "stderr",
     "output_type": "stream",
     "text": [
      "Training Batches: 100%|██████████| 1/1 [00:01<00:00,  1.29s/it]\n",
      "Running inference: 100%|██████████| 1/1 [00:04<00:00,  4.37s/it]\n",
      "Running inference: 100%|██████████| 1/1 [00:04<00:00,  4.58s/it]\n"
     ]
    },
    {
     "name": "stdout",
     "output_type": "stream",
     "text": [
      "Epoch: 017, Average Loss: 0.5125\n",
      "Validation: {'precision': 0.6292229729716444, 'recall': 0.5724164425651702, 'f1': 0.5994769614151183, 'auc': 0.7910972117470373, 'prauc': 0.6607166362350629}\n",
      "Test:       {'precision': 0.5953947368408812, 'recall': 0.555640828855419, 'f1': 0.5748312772596862, 'auc': 0.7685563374336528, 'prauc': 0.6253038174580962}\n"
     ]
    },
    {
     "name": "stderr",
     "output_type": "stream",
     "text": [
      "Training Batches: 100%|██████████| 1/1 [00:01<00:00,  1.27s/it]\n",
      "Running inference: 100%|██████████| 1/1 [00:04<00:00,  4.43s/it]\n",
      "Running inference: 100%|██████████| 1/1 [00:04<00:00,  4.42s/it]\n"
     ]
    },
    {
     "name": "stdout",
     "output_type": "stream",
     "text": [
      "Epoch: 018, Average Loss: 0.5066\n",
      "Validation: {'precision': 0.6427774056694736, 'recall': 0.553015751055411, 'f1': 0.5945276150579214, 'auc': 0.795390735441827, 'prauc': 0.66606098554052}\n",
      "Test:       {'precision': 0.6100807331428975, 'recall': 0.536454336146323, 'f1': 0.5709035172246598, 'auc': 0.774002368736483, 'prauc': 0.6318209802706228}\n"
     ]
    },
    {
     "name": "stderr",
     "output_type": "stream",
     "text": [
      "Training Batches: 100%|██████████| 1/1 [00:01<00:00,  1.75s/it]\n",
      "Running inference: 100%|██████████| 1/1 [00:03<00:00,  3.98s/it]\n",
      "Running inference: 100%|██████████| 1/1 [00:03<00:00,  3.99s/it]\n"
     ]
    },
    {
     "name": "stdout",
     "output_type": "stream",
     "text": [
      "Epoch: 019, Average Loss: 0.5001\n",
      "Validation: {'precision': 0.6516129032243051, 'recall': 0.5432193622732554, 'f1': 0.5924994712603144, 'auc': 0.7964745850083946, 'prauc': 0.6683817596990785}\n",
      "Test:       {'precision': 0.6196291270904124, 'recall': 0.5257099002292293, 'f1': 0.5688187618997851, 'auc': 0.7755334357399402, 'prauc': 0.6342351429160168}\n"
     ]
    },
    {
     "name": "stderr",
     "output_type": "stream",
     "text": [
      "Training Batches: 100%|██████████| 1/1 [00:02<00:00,  2.65s/it]\n",
      "Running inference: 100%|██████████| 1/1 [00:03<00:00,  3.97s/it]\n",
      "Running inference: 100%|██████████| 1/1 [00:04<00:00,  4.01s/it]\n"
     ]
    },
    {
     "name": "stdout",
     "output_type": "stream",
     "text": [
      "Epoch: 020, Average Loss: 0.4985\n",
      "Validation: {'precision': 0.6603098927278658, 'recall': 0.5320783711092354, 'f1': 0.5892990058001104, 'auc': 0.7980952486821992, 'prauc': 0.6716696566424434}\n",
      "Test:       {'precision': 0.6299580027983436, 'recall': 0.5180353031455909, 'f1': 0.5685407404664169, 'auc': 0.7777065562617862, 'prauc': 0.638459884483992}\n"
     ]
    },
    {
     "name": "stderr",
     "output_type": "stream",
     "text": [
      "Training Batches: 100%|██████████| 1/1 [00:01<00:00,  1.77s/it]\n",
      "Running inference: 100%|██████████| 1/1 [00:03<00:00,  3.92s/it]\n",
      "Running inference: 100%|██████████| 1/1 [00:04<00:00,  4.00s/it]\n"
     ]
    },
    {
     "name": "stdout",
     "output_type": "stream",
     "text": [
      "Epoch: 021, Average Loss: 0.4975\n",
      "Validation: {'precision': 0.6653743639431419, 'recall': 0.5274683057999857, 'f1': 0.5884495825508362, 'auc': 0.7965632422844807, 'prauc': 0.6729838983797891}\n",
      "Test:       {'precision': 0.6327590276123843, 'recall': 0.5143898695308626, 'f1': 0.5674674519257785, 'auc': 0.776363778261138, 'prauc': 0.6398479438981491}\n"
     ]
    },
    {
     "name": "stderr",
     "output_type": "stream",
     "text": [
      "Training Batches: 100%|██████████| 1/1 [00:01<00:00,  1.75s/it]\n",
      "Running inference: 100%|██████████| 1/1 [00:04<00:00,  4.42s/it]\n",
      "Running inference: 100%|██████████| 1/1 [00:04<00:00,  4.56s/it]\n"
     ]
    },
    {
     "name": "stdout",
     "output_type": "stream",
     "text": [
      "Epoch: 022, Average Loss: 0.4930\n",
      "Validation: {'precision': 0.6695416461294491, 'recall': 0.5218978102179757, 'f1': 0.5865716703777606, 'auc': 0.7986961040350884, 'prauc': 0.6772056571877524}\n",
      "Test:       {'precision': 0.643669813602896, 'recall': 0.5101688411348615, 'f1': 0.5691961847264245, 'auc': 0.7792032925488724, 'prauc': 0.6453408585629669}\n"
     ]
    },
    {
     "name": "stderr",
     "output_type": "stream",
     "text": [
      "Training Batches: 100%|██████████| 1/1 [00:01<00:00,  1.30s/it]\n",
      "Running inference: 100%|██████████| 1/1 [00:04<00:00,  4.39s/it]\n",
      "Running inference: 100%|██████████| 1/1 [00:04<00:00,  4.51s/it]\n"
     ]
    },
    {
     "name": "stdout",
     "output_type": "stream",
     "text": [
      "Epoch: 023, Average Loss: 0.4922\n",
      "Validation: {'precision': 0.6748007968110687, 'recall': 0.5205532078361111, 'f1': 0.5877250005037985, 'auc': 0.803139603697925, 'prauc': 0.6820487554198503}\n",
      "Test:       {'precision': 0.6439247830264129, 'recall': 0.5124712202599531, 'f1': 0.5707264907898866, 'auc': 0.7839921648181105, 'prauc': 0.6512695810819233}\n",
      "\n",
      "Early stopping triggered after 23 epochs (no improvement for 10 epochs).\n",
      "\n",
      "Best validation performance:\n",
      "{'precision': 0.6094952148609317, 'recall': 0.623895505185125, 'f1': 0.6166112906805742, 'auc': 0.7907475378788235, 'prauc': 0.6559267433903002}\n",
      "Corresponding test performance:\n",
      "{'precision': 0.5779510022260989, 'recall': 0.5974673829612481, 'f1': 0.5875471648115906, 'auc': 0.7707395037221686, 'prauc': 0.6251322454655053}\n",
      "Corresponding test-long performance:\n",
      "{'precision': 0.6334841628911503, 'recall': 0.5529953917014286, 'f1': 0.5905096610997028, 'auc': 0.7325477728885529, 'prauc': 0.6738675030995795}\n",
      "[INFO] Random seed set to 2340505846\n",
      "Training with seed: 2340505846\n"
     ]
    },
    {
     "name": "stderr",
     "output_type": "stream",
     "text": [
      "Training Batches: 100%|██████████| 1/1 [00:01<00:00,  1.29s/it]\n",
      "Running inference: 100%|██████████| 1/1 [00:04<00:00,  4.46s/it]\n",
      "Running inference: 100%|██████████| 1/1 [00:04<00:00,  4.43s/it]\n"
     ]
    },
    {
     "name": "stdout",
     "output_type": "stream",
     "text": [
      "Epoch: 001, Average Loss: 0.6933\n",
      "Validation: {'precision': 0.5051651143090514, 'recall': 0.5729927007288264, 'f1': 0.5369453644725168, 'auc': 0.7053587298919627, 'prauc': 0.5301695225818004}\n",
      "Test:       {'precision': 0.477097356755086, 'recall': 0.5575594781263286, 'f1': 0.5141997650019023, 'auc': 0.6861166011584372, 'prauc': 0.5048146760297251}\n"
     ]
    },
    {
     "name": "stderr",
     "output_type": "stream",
     "text": [
      "Training Batches: 100%|██████████| 1/1 [00:01<00:00,  1.77s/it]\n",
      "Running inference: 100%|██████████| 1/1 [00:03<00:00,  3.98s/it]\n",
      "Running inference: 100%|██████████| 1/1 [00:04<00:00,  4.48s/it]\n"
     ]
    },
    {
     "name": "stdout",
     "output_type": "stream",
     "text": [
      "Epoch: 002, Average Loss: 0.6770\n",
      "Validation: {'precision': 0.5516765285985175, 'recall': 0.5372646945821412, 'f1': 0.5443752382851414, 'auc': 0.7299035782645633, 'prauc': 0.5571496618121821}\n",
      "Test:       {'precision': 0.5218413320264019, 'recall': 0.5111281657703164, 'f1': 0.5164291895328313, 'auc': 0.7100507416282636, 'prauc': 0.5276118274501863}\n"
     ]
    },
    {
     "name": "stderr",
     "output_type": "stream",
     "text": [
      "Training Batches: 100%|██████████| 1/1 [00:01<00:00,  1.72s/it]\n",
      "Running inference: 100%|██████████| 1/1 [00:04<00:00,  4.41s/it]\n",
      "Running inference: 100%|██████████| 1/1 [00:04<00:00,  4.41s/it]\n"
     ]
    },
    {
     "name": "stdout",
     "output_type": "stream",
     "text": [
      "Epoch: 003, Average Loss: 0.6588\n",
      "Validation: {'precision': 0.5453873174328981, 'recall': 0.566653860928608, 'f1': 0.5558172347558451, 'auc': 0.7365257143783054, 'prauc': 0.5640374043116612}\n",
      "Test:       {'precision': 0.5165514732620652, 'recall': 0.5448963929383253, 'f1': 0.5303454665245174, 'auc': 0.7154886625873603, 'prauc': 0.5318488131828187}\n"
     ]
    },
    {
     "name": "stderr",
     "output_type": "stream",
     "text": [
      "Training Batches: 100%|██████████| 1/1 [00:01<00:00,  1.76s/it]\n",
      "Running inference: 100%|██████████| 1/1 [00:03<00:00,  3.91s/it]\n",
      "Running inference: 100%|██████████| 1/1 [00:04<00:00,  4.43s/it]\n"
     ]
    },
    {
     "name": "stdout",
     "output_type": "stream",
     "text": [
      "Epoch: 004, Average Loss: 0.6406\n",
      "Validation: {'precision': 0.5599334073241585, 'recall': 0.5814444871291174, 'f1': 0.5704862369909006, 'auc': 0.7516157932230835, 'prauc': 0.5743421247689698}\n",
      "Test:       {'precision': 0.5309554610967826, 'recall': 0.5512279355323269, 'f1': 0.5409018118133129, 'auc': 0.7318509124173564, 'prauc': 0.5438729077983784}\n"
     ]
    },
    {
     "name": "stderr",
     "output_type": "stream",
     "text": [
      "Training Batches: 100%|██████████| 1/1 [00:02<00:00,  2.18s/it]\n",
      "Running inference: 100%|██████████| 1/1 [00:04<00:00,  4.36s/it]\n",
      "Running inference: 100%|██████████| 1/1 [00:04<00:00,  4.43s/it]\n"
     ]
    },
    {
     "name": "stdout",
     "output_type": "stream",
     "text": [
      "Epoch: 005, Average Loss: 0.6206\n",
      "Validation: {'precision': 0.5540658192572626, 'recall': 0.6112178255846884, 'f1': 0.581240290928401, 'auc': 0.7558250025388519, 'prauc': 0.5837761921155507}\n",
      "Test:       {'precision': 0.5267841563417784, 'recall': 0.579240214887607, 'f1': 0.5517682486883889, 'auc': 0.7351878764812344, 'prauc': 0.5510893283837446}\n"
     ]
    },
    {
     "name": "stderr",
     "output_type": "stream",
     "text": [
      "Training Batches: 100%|██████████| 1/1 [00:02<00:00,  2.66s/it]\n",
      "Running inference: 100%|██████████| 1/1 [00:03<00:00,  3.99s/it]\n",
      "Running inference: 100%|██████████| 1/1 [00:03<00:00,  3.94s/it]\n"
     ]
    },
    {
     "name": "stdout",
     "output_type": "stream",
     "text": [
      "Epoch: 006, Average Loss: 0.6023\n",
      "Validation: {'precision': 0.5557249322483813, 'recall': 0.6302343449853434, 'f1': 0.5906390589250632, 'auc': 0.761036535540065, 'prauc': 0.5940955650171776}\n",
      "Test:       {'precision': 0.5293423271491917, 'recall': 0.6022640061385222, 'f1': 0.5634535940145462, 'auc': 0.7400777317462521, 'prauc': 0.5608987745679304}\n"
     ]
    },
    {
     "name": "stderr",
     "output_type": "stream",
     "text": [
      "Training Batches: 100%|██████████| 1/1 [00:02<00:00,  2.22s/it]\n",
      "Running inference: 100%|██████████| 1/1 [00:03<00:00,  3.93s/it]\n",
      "Running inference: 100%|██████████| 1/1 [00:04<00:00,  4.48s/it]\n"
     ]
    },
    {
     "name": "stdout",
     "output_type": "stream",
     "text": [
      "Epoch: 007, Average Loss: 0.5864\n",
      "Validation: {'precision': 0.5495017679193998, 'recall': 0.6567422205135292, 'f1': 0.5983549127843601, 'auc': 0.7643141039397519, 'prauc': 0.6022875931314198}\n",
      "Test:       {'precision': 0.5268418507165454, 'recall': 0.627014581733256, 'f1': 0.5725799337138606, 'auc': 0.7432932434127235, 'prauc': 0.5690679843906403}\n"
     ]
    },
    {
     "name": "stderr",
     "output_type": "stream",
     "text": [
      "Training Batches: 100%|██████████| 1/1 [00:01<00:00,  1.77s/it]\n",
      "Running inference: 100%|██████████| 1/1 [00:03<00:00,  3.96s/it]\n",
      "Running inference: 100%|██████████| 1/1 [00:03<00:00,  3.95s/it]\n"
     ]
    },
    {
     "name": "stdout",
     "output_type": "stream",
     "text": [
      "Epoch: 008, Average Loss: 0.5702\n",
      "Validation: {'precision': 0.5496075353209582, 'recall': 0.672493276986799, 'f1': 0.60487214432387, 'auc': 0.7697603417944775, 'prauc': 0.610894152006251}\n",
      "Test:       {'precision': 0.5297675899386665, 'recall': 0.6385264773587135, 'f1': 0.5790847349066001, 'auc': 0.7504811553582793, 'prauc': 0.5797587997785427}\n"
     ]
    },
    {
     "name": "stderr",
     "output_type": "stream",
     "text": [
      "Training Batches: 100%|██████████| 1/1 [00:02<00:00,  2.17s/it]\n",
      "Running inference: 100%|██████████| 1/1 [00:04<00:00,  4.94s/it]\n",
      "Running inference: 100%|██████████| 1/1 [00:03<00:00,  3.51s/it]\n"
     ]
    },
    {
     "name": "stdout",
     "output_type": "stream",
     "text": [
      "Epoch: 009, Average Loss: 0.5569\n",
      "Validation: {'precision': 0.5458003651848056, 'recall': 0.689012677678277, 'f1': 0.6091017101282014, 'auc': 0.7716513107730036, 'prauc': 0.6163049381085911}\n",
      "Test:       {'precision': 0.5265028589081648, 'recall': 0.6536838065988994, 'f1': 0.5832406010657971, 'auc': 0.7522754122321826, 'prauc': 0.5842349968513557}\n"
     ]
    },
    {
     "name": "stderr",
     "output_type": "stream",
     "text": [
      "Training Batches: 100%|██████████| 1/1 [00:02<00:00,  2.20s/it]\n",
      "Running inference: 100%|██████████| 1/1 [00:03<00:00,  3.99s/it]\n",
      "Running inference: 100%|██████████| 1/1 [00:03<00:00,  3.93s/it]\n"
     ]
    },
    {
     "name": "stdout",
     "output_type": "stream",
     "text": [
      "Epoch: 010, Average Loss: 0.5435\n",
      "Validation: {'precision': 0.5481571363559106, 'recall': 0.6941990011511829, 'f1': 0.6125942827195503, 'auc': 0.7740620614121443, 'prauc': 0.6209012519986988}\n",
      "Test:       {'precision': 0.5303193951542504, 'recall': 0.659439754411628, 'f1': 0.5878730815198704, 'auc': 0.7555187939889376, 'prauc': 0.5894990616298305}\n"
     ]
    },
    {
     "name": "stderr",
     "output_type": "stream",
     "text": [
      "Training Batches: 100%|██████████| 1/1 [00:02<00:00,  2.64s/it]\n",
      "Running inference: 100%|██████████| 1/1 [00:03<00:00,  3.98s/it]\n",
      "Running inference: 100%|██████████| 1/1 [00:03<00:00,  3.94s/it]\n"
     ]
    },
    {
     "name": "stdout",
     "output_type": "stream",
     "text": [
      "Epoch: 011, Average Loss: 0.5327\n",
      "Validation: {'precision': 0.5541549953306035, 'recall': 0.6840184402599232, 'f1': 0.6122764737334544, 'auc': 0.7774015043192513, 'prauc': 0.6291393625606991}\n",
      "Test:       {'precision': 0.5398625978582204, 'recall': 0.6483115886403524, 'f1': 0.5891378208622645, 'auc': 0.7615087989487814, 'prauc': 0.6021631522704071}\n"
     ]
    },
    {
     "name": "stderr",
     "output_type": "stream",
     "text": [
      "Training Batches: 100%|██████████| 1/1 [00:02<00:00,  2.20s/it]\n",
      "Running inference: 100%|██████████| 1/1 [00:04<00:00,  4.53s/it]\n",
      "Running inference: 100%|██████████| 1/1 [00:03<00:00,  3.52s/it]\n"
     ]
    },
    {
     "name": "stdout",
     "output_type": "stream",
     "text": [
      "Epoch: 012, Average Loss: 0.5362\n",
      "Validation: {'precision': 0.5643010044449789, 'recall': 0.6582789089499457, 'f1': 0.6076779806654908, 'auc': 0.7749747574995992, 'prauc': 0.6294435548012774}\n",
      "Test:       {'precision': 0.5480149304368035, 'recall': 0.6197237145037995, 'f1': 0.5816675620986645, 'auc': 0.7600592685487433, 'prauc': 0.6060732717691615}\n"
     ]
    },
    {
     "name": "stderr",
     "output_type": "stream",
     "text": [
      "Training Batches: 100%|██████████| 1/1 [00:02<00:00,  2.23s/it]\n",
      "Running inference: 100%|██████████| 1/1 [00:03<00:00,  3.89s/it]\n",
      "Running inference: 100%|██████████| 1/1 [00:05<00:00,  5.20s/it]\n"
     ]
    },
    {
     "name": "stdout",
     "output_type": "stream",
     "text": [
      "Epoch: 013, Average Loss: 0.5237\n",
      "Validation: {'precision': 0.5780249410168891, 'recall': 0.6588551671136019, 'f1': 0.6157989178209659, 'auc': 0.782868900843841, 'prauc': 0.6391975397794704}\n",
      "Test:       {'precision': 0.5554019014683571, 'recall': 0.6164620107432531, 'f1': 0.5843411789717735, 'auc': 0.7648212660880649, 'prauc': 0.6097616612658041}\n"
     ]
    },
    {
     "name": "stderr",
     "output_type": "stream",
     "text": [
      "Training Batches: 100%|██████████| 1/1 [00:01<00:00,  1.35s/it]\n",
      "Running inference: 100%|██████████| 1/1 [00:04<00:00,  4.56s/it]\n",
      "Running inference: 100%|██████████| 1/1 [00:04<00:00,  4.56s/it]\n"
     ]
    },
    {
     "name": "stdout",
     "output_type": "stream",
     "text": [
      "Epoch: 014, Average Loss: 0.5204\n",
      "Validation: {'precision': 0.5688933534227877, 'recall': 0.6527084133679356, 'f1': 0.6079255697607983, 'auc': 0.7810129765010645, 'prauc': 0.6360999353092506}\n",
      "Test:       {'precision': 0.5509683995913167, 'recall': 0.6222179585559819, 'f1': 0.584429621977201, 'auc': 0.7601736520442822, 'prauc': 0.6020042698674088}\n"
     ]
    },
    {
     "name": "stderr",
     "output_type": "stream",
     "text": [
      "Training Batches: 100%|██████████| 1/1 [00:02<00:00,  2.22s/it]\n",
      "Running inference: 100%|██████████| 1/1 [00:04<00:00,  4.41s/it]\n",
      "Running inference: 100%|██████████| 1/1 [00:03<00:00,  3.41s/it]\n"
     ]
    },
    {
     "name": "stdout",
     "output_type": "stream",
     "text": [
      "Epoch: 015, Average Loss: 0.5201\n",
      "Validation: {'precision': 0.5685449957938292, 'recall': 0.6492508643859983, 'f1': 0.6062236520919875, 'auc': 0.7806131379324832, 'prauc': 0.6358510894126834}\n",
      "Test:       {'precision': 0.5475587092405009, 'recall': 0.6218342287018, 'f1': 0.5823376106870797, 'auc': 0.7596531799514956, 'prauc': 0.6010223409643025}\n"
     ]
    },
    {
     "name": "stderr",
     "output_type": "stream",
     "text": [
      "Training Batches: 100%|██████████| 1/1 [00:02<00:00,  2.15s/it]\n",
      "Running inference: 100%|██████████| 1/1 [00:04<00:00,  4.39s/it]\n",
      "Running inference: 100%|██████████| 1/1 [00:03<00:00,  3.46s/it]\n"
     ]
    },
    {
     "name": "stdout",
     "output_type": "stream",
     "text": [
      "Epoch: 016, Average Loss: 0.5168\n",
      "Validation: {'precision': 0.5821360567758661, 'recall': 0.6459854014586132, 'f1': 0.6124009783502852, 'auc': 0.7855592360796959, 'prauc': 0.6431388053677638}\n",
      "Test:       {'precision': 0.561492641905113, 'recall': 0.6149270913265255, 'f1': 0.5869963320055773, 'auc': 0.7659576911384983, 'prauc': 0.6103909386915579}\n"
     ]
    },
    {
     "name": "stderr",
     "output_type": "stream",
     "text": [
      "Training Batches: 100%|██████████| 1/1 [00:02<00:00,  2.16s/it]\n",
      "Running inference: 100%|██████████| 1/1 [00:03<00:00,  3.80s/it]\n",
      "Running inference: 100%|██████████| 1/1 [00:03<00:00,  3.93s/it]\n"
     ]
    },
    {
     "name": "stdout",
     "output_type": "stream",
     "text": [
      "Epoch: 017, Average Loss: 0.5108\n",
      "Validation: {'precision': 0.5930064888237329, 'recall': 0.631963119476312, 'f1': 0.6118653474309229, 'auc': 0.7878098365017013, 'prauc': 0.6476457499300805}\n",
      "Test:       {'precision': 0.57171569523009, 'recall': 0.6003453568676126, 'f1': 0.5856808560220088, 'auc': 0.7699368193163614, 'prauc': 0.6176602949638254}\n"
     ]
    },
    {
     "name": "stderr",
     "output_type": "stream",
     "text": [
      "Training Batches: 100%|██████████| 1/1 [00:02<00:00,  2.60s/it]\n",
      "Running inference: 100%|██████████| 1/1 [00:03<00:00,  3.85s/it]\n",
      "Running inference: 100%|██████████| 1/1 [00:03<00:00,  3.94s/it]\n"
     ]
    },
    {
     "name": "stdout",
     "output_type": "stream",
     "text": [
      "Epoch: 018, Average Loss: 0.5132\n",
      "Validation: {'precision': 0.6011571481885011, 'recall': 0.6187091817122191, 'f1': 0.6098068863289228, 'auc': 0.7879278295293259, 'prauc': 0.6488810602442437}\n",
      "Test:       {'precision': 0.5782904689852907, 'recall': 0.5867229470441544, 'f1': 0.582476185475343, 'auc': 0.7712306311167199, 'prauc': 0.6208675417712866}\n"
     ]
    },
    {
     "name": "stderr",
     "output_type": "stream",
     "text": [
      "Training Batches: 100%|██████████| 1/1 [00:02<00:00,  2.14s/it]\n",
      "Running inference: 100%|██████████| 1/1 [00:04<00:00,  4.40s/it]\n",
      "Running inference: 100%|██████████| 1/1 [00:03<00:00,  3.45s/it]\n"
     ]
    },
    {
     "name": "stdout",
     "output_type": "stream",
     "text": [
      "Epoch: 019, Average Loss: 0.5076\n",
      "Validation: {'precision': 0.6071087330391609, 'recall': 0.610257395311928, 'f1': 0.6086789872395033, 'auc': 0.7910901839786854, 'prauc': 0.6513166134929431}\n",
      "Test:       {'precision': 0.5856257264614769, 'recall': 0.5800076745959708, 'f1': 0.5828031567495228, 'auc': 0.7737632334082458, 'prauc': 0.6217642757839861}\n"
     ]
    },
    {
     "name": "stderr",
     "output_type": "stream",
     "text": [
      "Training Batches: 100%|██████████| 1/1 [00:02<00:00,  2.14s/it]\n",
      "Running inference: 100%|██████████| 1/1 [00:03<00:00,  3.85s/it]\n",
      "Running inference: 100%|██████████| 1/1 [00:04<00:00,  4.82s/it]\n"
     ]
    },
    {
     "name": "stdout",
     "output_type": "stream",
     "text": [
      "Epoch: 020, Average Loss: 0.5050\n",
      "Validation: {'precision': 0.6032786885234267, 'recall': 0.6008451786388767, 'f1': 0.6020594695441414, 'auc': 0.7895232365718283, 'prauc': 0.6468117498734138}\n",
      "Test:       {'precision': 0.5776145370180212, 'recall': 0.5732924021477872, 'f1': 0.5754453488747447, 'auc': 0.7709433498388658, 'prauc': 0.6144524407937725}\n"
     ]
    },
    {
     "name": "stderr",
     "output_type": "stream",
     "text": [
      "Training Batches: 100%|██████████| 1/1 [00:01<00:00,  1.26s/it]\n",
      "Running inference: 100%|██████████| 1/1 [00:04<00:00,  4.27s/it]\n",
      "Running inference: 100%|██████████| 1/1 [00:04<00:00,  4.30s/it]\n"
     ]
    },
    {
     "name": "stdout",
     "output_type": "stream",
     "text": [
      "Epoch: 021, Average Loss: 0.5029\n",
      "Validation: {'precision': 0.604424073334786, 'recall': 0.58259700345643, 'f1': 0.5933098541554597, 'auc': 0.7898347381647577, 'prauc': 0.6475017843062092}\n",
      "Test:       {'precision': 0.5805362462749145, 'recall': 0.5608211818868749, 'f1': 0.5705084364954502, 'auc': 0.7712205484848513, 'prauc': 0.6149570882682314}\n"
     ]
    },
    {
     "name": "stderr",
     "output_type": "stream",
     "text": [
      "Training Batches: 100%|██████████| 1/1 [00:02<00:00,  2.16s/it]\n",
      "Running inference: 100%|██████████| 1/1 [00:04<00:00,  4.37s/it]\n",
      "Running inference: 100%|██████████| 1/1 [00:03<00:00,  3.43s/it]\n"
     ]
    },
    {
     "name": "stdout",
     "output_type": "stream",
     "text": [
      "Epoch: 022, Average Loss: 0.4997\n",
      "Validation: {'precision': 0.6256366723246485, 'recall': 0.5662696888195039, 'f1': 0.594474687489528, 'auc': 0.7954793173531051, 'prauc': 0.6565514933328608}\n",
      "Test:       {'precision': 0.6045125585342603, 'recall': 0.5448963929383253, 'f1': 0.5731584208447866, 'auc': 0.7775930114495198, 'prauc': 0.6253787474447131}\n"
     ]
    },
    {
     "name": "stderr",
     "output_type": "stream",
     "text": [
      "Training Batches: 100%|██████████| 1/1 [00:02<00:00,  2.16s/it]\n",
      "Running inference: 100%|██████████| 1/1 [00:04<00:00,  4.38s/it]\n",
      "Running inference: 100%|██████████| 1/1 [00:03<00:00,  3.42s/it]\n"
     ]
    },
    {
     "name": "stdout",
     "output_type": "stream",
     "text": [
      "Epoch: 023, Average Loss: 0.4976\n",
      "Validation: {'precision': 0.6440144014386948, 'recall': 0.5497502881280258, 'f1': 0.593160616791605, 'auc': 0.8003443606492452, 'prauc': 0.6648566615932509}\n",
      "Test:       {'precision': 0.6222474460825829, 'recall': 0.5259017651563203, 'f1': 0.5700322296186121, 'auc': 0.783097584688025, 'prauc': 0.6352284444084061}\n",
      "\n",
      "Early stopping triggered after 23 epochs (no improvement for 10 epochs).\n",
      "\n",
      "Best validation performance:\n",
      "{'precision': 0.5780249410168891, 'recall': 0.6588551671136019, 'f1': 0.6157989178209659, 'auc': 0.782868900843841, 'prauc': 0.6391975397794704}\n",
      "Corresponding test performance:\n",
      "{'precision': 0.5554019014683571, 'recall': 0.6164620107432531, 'f1': 0.5843411789717735, 'auc': 0.7648212660880649, 'prauc': 0.6097616612658041}\n",
      "Corresponding test-long performance:\n",
      "{'precision': 0.6015574302362002, 'recall': 0.6102699144133623, 'f1': 0.605882347937475, 'auc': 0.7228190802255521, 'prauc': 0.6609462351853155}\n",
      "[INFO] Random seed set to 946785248\n",
      "Training with seed: 946785248\n"
     ]
    },
    {
     "name": "stderr",
     "output_type": "stream",
     "text": [
      "Training Batches: 100%|██████████| 1/1 [00:02<00:00,  2.17s/it]\n",
      "Running inference: 100%|██████████| 1/1 [00:03<00:00,  3.88s/it]\n",
      "Running inference: 100%|██████████| 1/1 [00:03<00:00,  3.89s/it]\n"
     ]
    },
    {
     "name": "stdout",
     "output_type": "stream",
     "text": [
      "Epoch: 001, Average Loss: 0.6890\n",
      "Validation: {'precision': 0.7034383954053949, 'recall': 0.09431425278506662, 'f1': 0.16632791119361343, 'auc': 0.6846564316232996, 'prauc': 0.5305775380972438}\n",
      "Test:       {'precision': 0.6508344030725182, 'recall': 0.09727551803511651, 'f1': 0.16925387855824692, 'auc': 0.6676616338051515, 'prauc': 0.5003754751667145}\n"
     ]
    },
    {
     "name": "stderr",
     "output_type": "stream",
     "text": [
      "Training Batches: 100%|██████████| 1/1 [00:02<00:00,  2.57s/it]\n",
      "Running inference: 100%|██████████| 1/1 [00:03<00:00,  3.93s/it]\n",
      "Running inference: 100%|██████████| 1/1 [00:03<00:00,  3.96s/it]\n"
     ]
    },
    {
     "name": "stdout",
     "output_type": "stream",
     "text": [
      "Epoch: 002, Average Loss: 0.6730\n",
      "Validation: {'precision': 0.6690460739735948, 'recall': 0.19804072224318472, 'f1': 0.3056173078721074, 'auc': 0.719503149966359, 'prauc': 0.547365991610244}\n",
      "Test:       {'precision': 0.6434159061235762, 'recall': 0.1893706830387771, 'f1': 0.29261784409881353, 'auc': 0.7025069883514081, 'prauc': 0.5236225390534897}\n"
     ]
    },
    {
     "name": "stderr",
     "output_type": "stream",
     "text": [
      "Training Batches: 100%|██████████| 1/1 [00:02<00:00,  2.17s/it]\n",
      "Running inference: 100%|██████████| 1/1 [00:03<00:00,  3.80s/it]\n",
      "Running inference: 100%|██████████| 1/1 [00:04<00:00,  4.41s/it]\n"
     ]
    },
    {
     "name": "stdout",
     "output_type": "stream",
     "text": [
      "Epoch: 003, Average Loss: 0.6559\n",
      "Validation: {'precision': 0.6311538461514187, 'recall': 0.31521321551994774, 'f1': 0.42044580647086877, 'auc': 0.7255661545690764, 'prauc': 0.5560789504986323}\n",
      "Test:       {'precision': 0.6040996784541636, 'recall': 0.2883729854177123, 'f1': 0.39038960601434913, 'auc': 0.7074669980897191, 'prauc': 0.5306226647080199}\n"
     ]
    },
    {
     "name": "stderr",
     "output_type": "stream",
     "text": [
      "Training Batches: 100%|██████████| 1/1 [00:01<00:00,  1.71s/it]\n",
      "Running inference: 100%|██████████| 1/1 [00:03<00:00,  3.90s/it]\n",
      "Running inference: 100%|██████████| 1/1 [00:03<00:00,  3.85s/it]\n"
     ]
    },
    {
     "name": "stdout",
     "output_type": "stream",
     "text": [
      "Epoch: 004, Average Loss: 0.6379\n",
      "Validation: {'precision': 0.6189754471033072, 'recall': 0.39223972339532803, 'f1': 0.4801881198828154, 'auc': 0.7374420845001534, 'prauc': 0.5644930515748362}\n",
      "Test:       {'precision': 0.589045383409737, 'recall': 0.36108979278518594, 'f1': 0.4477221316017164, 'auc': 0.7189903772246213, 'prauc': 0.5387548543751448}\n"
     ]
    },
    {
     "name": "stderr",
     "output_type": "stream",
     "text": [
      "Training Batches: 100%|██████████| 1/1 [00:02<00:00,  2.08s/it]\n",
      "Running inference: 100%|██████████| 1/1 [00:04<00:00,  4.74s/it]\n",
      "Running inference: 100%|██████████| 1/1 [00:03<00:00,  3.46s/it]\n"
     ]
    },
    {
     "name": "stdout",
     "output_type": "stream",
     "text": [
      "Epoch: 005, Average Loss: 0.6190\n",
      "Validation: {'precision': 0.6055354371427689, 'recall': 0.4496734537063971, 'f1': 0.5160934695347573, 'auc': 0.7484427369709792, 'prauc': 0.5737563111981764}\n",
      "Test:       {'precision': 0.5800832033266249, 'recall': 0.42805065233993084, 'f1': 0.4926032187823088, 'auc': 0.7297424165889855, 'prauc': 0.547221540150569}\n"
     ]
    },
    {
     "name": "stderr",
     "output_type": "stream",
     "text": [
      "Training Batches: 100%|██████████| 1/1 [00:02<00:00,  2.13s/it]\n",
      "Running inference: 100%|██████████| 1/1 [00:03<00:00,  3.83s/it]\n",
      "Running inference: 100%|██████████| 1/1 [00:03<00:00,  3.93s/it]\n"
     ]
    },
    {
     "name": "stdout",
     "output_type": "stream",
     "text": [
      "Epoch: 006, Average Loss: 0.6003\n",
      "Validation: {'precision': 0.598583234945458, 'recall': 0.4869381482894988, 'f1': 0.5370193785916316, 'auc': 0.7559920957389303, 'prauc': 0.5815323765329266}\n",
      "Test:       {'precision': 0.5702997908422721, 'recall': 0.4708365310812148, 'f1': 0.5158171258905816, 'auc': 0.7370856416170345, 'prauc': 0.554862265591862}\n"
     ]
    },
    {
     "name": "stderr",
     "output_type": "stream",
     "text": [
      "Training Batches: 100%|██████████| 1/1 [00:02<00:00,  2.54s/it]\n",
      "Running inference: 100%|██████████| 1/1 [00:03<00:00,  3.92s/it]\n",
      "Running inference: 100%|██████████| 1/1 [00:03<00:00,  3.85s/it]\n"
     ]
    },
    {
     "name": "stdout",
     "output_type": "stream",
     "text": [
      "Epoch: 007, Average Loss: 0.5847\n",
      "Validation: {'precision': 0.5856819584435596, 'recall': 0.5468689973097448, 'f1': 0.5656104052560649, 'auc': 0.758521319856347, 'prauc': 0.5922504425233597}\n",
      "Test:       {'precision': 0.5601728039486522, 'recall': 0.522448196468683, 'f1': 0.5406532264156997, 'auc': 0.7388673551070504, 'prauc': 0.5635875298347253}\n"
     ]
    },
    {
     "name": "stderr",
     "output_type": "stream",
     "text": [
      "Training Batches: 100%|██████████| 1/1 [00:02<00:00,  2.14s/it]\n",
      "Running inference: 100%|██████████| 1/1 [00:04<00:00,  4.39s/it]\n",
      "Running inference: 100%|██████████| 1/1 [00:03<00:00,  3.47s/it]\n"
     ]
    },
    {
     "name": "stdout",
     "output_type": "stream",
     "text": [
      "Epoch: 008, Average Loss: 0.5685\n",
      "Validation: {'precision': 0.5737518910730451, 'recall': 0.582789089510982, 'f1': 0.5782351770079703, 'auc': 0.7609220658172173, 'prauc': 0.6004933111658259}\n",
      "Test:       {'precision': 0.5477463712747369, 'recall': 0.5502686108968721, 'f1': 0.54900458917968, 'auc': 0.7411787569895495, 'prauc': 0.571062599119557}\n"
     ]
    },
    {
     "name": "stderr",
     "output_type": "stream",
     "text": [
      "Training Batches: 100%|██████████| 1/1 [00:02<00:00,  2.21s/it]\n",
      "Running inference: 100%|██████████| 1/1 [00:03<00:00,  3.83s/it]\n",
      "Running inference: 100%|██████████| 1/1 [00:04<00:00,  4.83s/it]\n"
     ]
    },
    {
     "name": "stdout",
     "output_type": "stream",
     "text": [
      "Epoch: 009, Average Loss: 0.5559\n",
      "Validation: {'precision': 0.5830969937595328, 'recall': 0.5923933922385854, 'f1': 0.587708427586139, 'auc': 0.7695964704399438, 'prauc': 0.612432738350655}\n",
      "Test:       {'precision': 0.5588910133832526, 'recall': 0.5608211818868749, 'f1': 0.5598544290154146, 'auc': 0.7503239437180486, 'prauc': 0.5836020413684881}\n"
     ]
    },
    {
     "name": "stderr",
     "output_type": "stream",
     "text": [
      "Training Batches: 100%|██████████| 1/1 [00:01<00:00,  1.25s/it]\n",
      "Running inference: 100%|██████████| 1/1 [00:04<00:00,  4.29s/it]\n",
      "Running inference: 100%|██████████| 1/1 [00:04<00:00,  4.35s/it]\n"
     ]
    },
    {
     "name": "stdout",
     "output_type": "stream",
     "text": [
      "Epoch: 010, Average Loss: 0.5453\n",
      "Validation: {'precision': 0.5842590849169944, 'recall': 0.5960430272750749, 'f1': 0.5900922266243644, 'auc': 0.7735305134208709, 'prauc': 0.6190332324196968}\n",
      "Test:       {'precision': 0.5594512195111291, 'recall': 0.5633154259390574, 'f1': 0.5613766680391388, 'auc': 0.7550069575689672, 'prauc': 0.5909619398139389}\n"
     ]
    },
    {
     "name": "stderr",
     "output_type": "stream",
     "text": [
      "Training Batches: 100%|██████████| 1/1 [00:02<00:00,  2.15s/it]\n",
      "Running inference: 100%|██████████| 1/1 [00:04<00:00,  4.38s/it]\n",
      "Running inference: 100%|██████████| 1/1 [00:03<00:00,  3.49s/it]\n"
     ]
    },
    {
     "name": "stdout",
     "output_type": "stream",
     "text": [
      "Epoch: 011, Average Loss: 0.5309\n",
      "Validation: {'precision': 0.5987086675785586, 'recall': 0.5877833269293358, 'f1': 0.5931956914226529, 'auc': 0.7795741304267136, 'prauc': 0.6280140811004103}\n",
      "Test:       {'precision': 0.5742574257414371, 'recall': 0.5564082885637828, 'f1': 0.5651919653762896, 'auc': 0.7622742126386142, 'prauc': 0.6013584036971662}\n"
     ]
    },
    {
     "name": "stderr",
     "output_type": "stream",
     "text": [
      "Training Batches: 100%|██████████| 1/1 [00:02<00:00,  2.12s/it]\n",
      "Running inference: 100%|██████████| 1/1 [00:04<00:00,  4.31s/it]\n",
      "Running inference: 100%|██████████| 1/1 [00:03<00:00,  3.46s/it]\n"
     ]
    },
    {
     "name": "stdout",
     "output_type": "stream",
     "text": [
      "Epoch: 012, Average Loss: 0.5241\n",
      "Validation: {'precision': 0.6186387434542018, 'recall': 0.5674222051468163, 'f1': 0.5919246518561486, 'auc': 0.7849361952114331, 'prauc': 0.6378331905313832}\n",
      "Test:       {'precision': 0.5935524652326305, 'recall': 0.5404834996152331, 'f1': 0.5657762553030449, 'auc': 0.7679070306874026, 'prauc': 0.612499084943656}\n"
     ]
    },
    {
     "name": "stderr",
     "output_type": "stream",
     "text": [
      "Training Batches: 100%|██████████| 1/1 [00:02<00:00,  2.16s/it]\n",
      "Running inference: 100%|██████████| 1/1 [00:03<00:00,  3.84s/it]\n",
      "Running inference: 100%|██████████| 1/1 [00:03<00:00,  3.86s/it]\n"
     ]
    },
    {
     "name": "stdout",
     "output_type": "stream",
     "text": [
      "Epoch: 013, Average Loss: 0.5189\n",
      "Validation: {'precision': 0.5935585852586572, 'recall': 0.5770265078744199, 'f1': 0.5851758009801827, 'auc': 0.7774018151990847, 'prauc': 0.6284949980267907}\n",
      "Test:       {'precision': 0.5715701823937915, 'recall': 0.5531465848032365, 'f1': 0.5622074832997774, 'auc': 0.7578873830110565, 'prauc': 0.5982377186664064}\n"
     ]
    },
    {
     "name": "stderr",
     "output_type": "stream",
     "text": [
      "Training Batches: 100%|██████████| 1/1 [00:02<00:00,  2.61s/it]\n",
      "Running inference: 100%|██████████| 1/1 [00:03<00:00,  3.91s/it]\n",
      "Running inference: 100%|██████████| 1/1 [00:03<00:00,  3.87s/it]\n"
     ]
    },
    {
     "name": "stdout",
     "output_type": "stream",
     "text": [
      "Epoch: 014, Average Loss: 0.5161\n",
      "Validation: {'precision': 0.5743115805345638, 'recall': 0.5849020361110547, 'f1': 0.5795584266704221, 'auc': 0.7665588824303341, 'prauc': 0.6150154377905533}\n",
      "Test:       {'precision': 0.5537735849046155, 'recall': 0.5631235610119664, 'f1': 0.5584094318333824, 'auc': 0.7460194617282833, 'prauc': 0.5827700842874256}\n"
     ]
    },
    {
     "name": "stderr",
     "output_type": "stream",
     "text": [
      "Training Batches: 100%|██████████| 1/1 [00:02<00:00,  2.18s/it]\n",
      "Running inference: 100%|██████████| 1/1 [00:04<00:00,  4.34s/it]\n",
      "Running inference: 100%|██████████| 1/1 [00:03<00:00,  3.47s/it]\n"
     ]
    },
    {
     "name": "stdout",
     "output_type": "stream",
     "text": [
      "Epoch: 015, Average Loss: 0.5182\n",
      "Validation: {'precision': 0.6156708703729261, 'recall': 0.572032270456066, 'f1': 0.5930498804979518, 'auc': 0.788210428718363, 'prauc': 0.6448209971150508}\n",
      "Test:       {'precision': 0.5915522263824562, 'recall': 0.5454719877195982, 'f1': 0.5675783539609622, 'auc': 0.7686680574185792, 'prauc': 0.6135117110623599}\n"
     ]
    },
    {
     "name": "stderr",
     "output_type": "stream",
     "text": [
      "Training Batches: 100%|██████████| 1/1 [00:02<00:00,  2.14s/it]\n",
      "Running inference: 100%|██████████| 1/1 [00:03<00:00,  3.87s/it]\n",
      "Running inference: 100%|██████████| 1/1 [00:04<00:00,  4.83s/it]\n"
     ]
    },
    {
     "name": "stdout",
     "output_type": "stream",
     "text": [
      "Epoch: 016, Average Loss: 0.5110\n",
      "Validation: {'precision': 0.6355545908386465, 'recall': 0.5624279677284625, 'f1': 0.5967593958122781, 'auc': 0.7946890419757487, 'prauc': 0.6549896713767459}\n",
      "Test:       {'precision': 0.6080522306842044, 'recall': 0.5360706062921411, 'f1': 0.5697970787343425, 'auc': 0.7754164163826879, 'prauc': 0.6240277674944055}\n"
     ]
    },
    {
     "name": "stderr",
     "output_type": "stream",
     "text": [
      "Training Batches: 100%|██████████| 1/1 [00:01<00:00,  1.27s/it]\n",
      "Running inference: 100%|██████████| 1/1 [00:04<00:00,  4.29s/it]\n",
      "Running inference: 100%|██████████| 1/1 [00:04<00:00,  4.30s/it]\n"
     ]
    },
    {
     "name": "stdout",
     "output_type": "stream",
     "text": [
      "Epoch: 017, Average Loss: 0.5108\n",
      "Validation: {'precision': 0.6385701676949723, 'recall': 0.5558970418736922, 'f1': 0.5943725561235739, 'auc': 0.7955349460020571, 'prauc': 0.6574423573525293}\n",
      "Test:       {'precision': 0.6099557522110399, 'recall': 0.5289716039897756, 'f1': 0.56658445864927, 'auc': 0.7760510139146218, 'prauc': 0.6257417307721455}\n"
     ]
    },
    {
     "name": "stderr",
     "output_type": "stream",
     "text": [
      "Training Batches: 100%|██████████| 1/1 [00:02<00:00,  2.17s/it]\n",
      "Running inference: 100%|██████████| 1/1 [00:04<00:00,  4.34s/it]\n",
      "Running inference: 100%|██████████| 1/1 [00:03<00:00,  3.41s/it]\n"
     ]
    },
    {
     "name": "stdout",
     "output_type": "stream",
     "text": [
      "Epoch: 018, Average Loss: 0.5101\n",
      "Validation: {'precision': 0.6329453894345727, 'recall': 0.5432193622732554, 'f1': 0.5846599081972097, 'auc': 0.7930186846316272, 'prauc': 0.6551985530343835}\n",
      "Test:       {'precision': 0.6107094441920228, 'recall': 0.5186108979268638, 'f1': 0.5609047470553313, 'auc': 0.7738689443657699, 'prauc': 0.6229200935891359}\n"
     ]
    },
    {
     "name": "stderr",
     "output_type": "stream",
     "text": [
      "Training Batches: 100%|██████████| 1/1 [00:02<00:00,  2.17s/it]\n",
      "Running inference: 100%|██████████| 1/1 [00:04<00:00,  4.35s/it]\n",
      "Running inference: 100%|██████████| 1/1 [00:03<00:00,  3.44s/it]\n"
     ]
    },
    {
     "name": "stdout",
     "output_type": "stream",
     "text": [
      "Epoch: 019, Average Loss: 0.5037\n",
      "Validation: {'precision': 0.6399447131982494, 'recall': 0.5336150595456519, 'f1': 0.5819629153289227, 'auc': 0.7915287788998132, 'prauc': 0.6552645495886645}\n",
      "Test:       {'precision': 0.6136680613653797, 'recall': 0.5065234075201334, 'f1': 0.5549716158139691, 'auc': 0.7722757779349546, 'prauc': 0.6225412152200488}\n"
     ]
    },
    {
     "name": "stderr",
     "output_type": "stream",
     "text": [
      "Training Batches: 100%|██████████| 1/1 [00:02<00:00,  2.16s/it]\n",
      "Running inference: 100%|██████████| 1/1 [00:03<00:00,  3.83s/it]\n",
      "Running inference: 100%|██████████| 1/1 [00:03<00:00,  3.90s/it]\n"
     ]
    },
    {
     "name": "stdout",
     "output_type": "stream",
     "text": [
      "Epoch: 020, Average Loss: 0.5036\n",
      "Validation: {'precision': 0.6597655275613376, 'recall': 0.5080676142902265, 'f1': 0.5740640211276128, 'auc': 0.7979753432725698, 'prauc': 0.6661864335747907}\n",
      "Test:       {'precision': 0.6362490546996817, 'recall': 0.484267075977582, 'f1': 0.5499509701425356, 'auc': 0.7785400046759818, 'prauc': 0.6339285147277669}\n"
     ]
    },
    {
     "name": "stderr",
     "output_type": "stream",
     "text": [
      "Training Batches: 100%|██████████| 1/1 [00:02<00:00,  2.65s/it]\n",
      "Running inference: 100%|██████████| 1/1 [00:03<00:00,  3.86s/it]\n",
      "Running inference: 100%|██████████| 1/1 [00:03<00:00,  3.92s/it]\n"
     ]
    },
    {
     "name": "stdout",
     "output_type": "stream",
     "text": [
      "Epoch: 021, Average Loss: 0.4969\n",
      "Validation: {'precision': 0.677454446557853, 'recall': 0.4784863618892077, 'f1': 0.560846555993436, 'auc': 0.8021664556138021, 'prauc': 0.6740096329874988}\n",
      "Test:       {'precision': 0.65222131370768, 'recall': 0.4591327705286663, 'f1': 0.5389032718077513, 'auc': 0.7828874991364327, 'prauc': 0.6428379878078851}\n"
     ]
    },
    {
     "name": "stderr",
     "output_type": "stream",
     "text": [
      "Training Batches: 100%|██████████| 1/1 [00:01<00:00,  1.70s/it]\n",
      "Running inference: 100%|██████████| 1/1 [00:03<00:00,  3.82s/it]\n",
      "Running inference: 100%|██████████| 1/1 [00:04<00:00,  4.76s/it]\n"
     ]
    },
    {
     "name": "stdout",
     "output_type": "stream",
     "text": [
      "Epoch: 022, Average Loss: 0.4946\n",
      "Validation: {'precision': 0.6834512022611501, 'recall': 0.4640799077978024, 'f1': 0.5527971579774801, 'auc': 0.8041870520621978, 'prauc': 0.6788705986044032}\n",
      "Test:       {'precision': 0.6625819321725205, 'recall': 0.44608595548648106, 'f1': 0.533195729623565, 'auc': 0.7853641769213975, 'prauc': 0.6483901933936717}\n"
     ]
    },
    {
     "name": "stderr",
     "output_type": "stream",
     "text": [
      "Training Batches: 100%|██████████| 1/1 [00:01<00:00,  1.27s/it]\n",
      "Running inference: 100%|██████████| 1/1 [00:04<00:00,  4.29s/it]\n",
      "Running inference: 100%|██████████| 1/1 [00:04<00:00,  4.37s/it]\n"
     ]
    },
    {
     "name": "stdout",
     "output_type": "stream",
     "text": [
      "Epoch: 023, Average Loss: 0.4940\n",
      "Validation: {'precision': 0.6828602620068699, 'recall': 0.48059930848928045, 'f1': 0.5641488113843358, 'auc': 0.8053481222952278, 'prauc': 0.681171232603392}\n",
      "Test:       {'precision': 0.661695664179338, 'recall': 0.4597083653099392, 'f1': 0.5425110333133709, 'auc': 0.7873500222334014, 'prauc': 0.6509674272599046}\n"
     ]
    },
    {
     "name": "stderr",
     "output_type": "stream",
     "text": [
      "Training Batches: 100%|██████████| 1/1 [00:02<00:00,  2.14s/it]\n",
      "Running inference: 100%|██████████| 1/1 [00:04<00:00,  4.40s/it]\n",
      "Running inference: 100%|██████████| 1/1 [00:03<00:00,  3.44s/it]\n"
     ]
    },
    {
     "name": "stdout",
     "output_type": "stream",
     "text": [
      "Epoch: 024, Average Loss: 0.4903\n",
      "Validation: {'precision': 0.6756967960388756, 'recall': 0.49827122550807096, 'f1': 0.5735765567492013, 'auc': 0.8028697976850568, 'prauc': 0.6792967701242539}\n",
      "Test:       {'precision': 0.6546705477622263, 'recall': 0.474673829623034, 'f1': 0.5503281010094498, 'auc': 0.7861966299752259, 'prauc': 0.6492941945560453}\n"
     ]
    },
    {
     "name": "stderr",
     "output_type": "stream",
     "text": [
      "Training Batches: 100%|██████████| 1/1 [00:02<00:00,  2.13s/it]\n",
      "Running inference: 100%|██████████| 1/1 [00:04<00:00,  4.45s/it]\n",
      "Running inference: 100%|██████████| 1/1 [00:03<00:00,  3.50s/it]\n"
     ]
    },
    {
     "name": "stdout",
     "output_type": "stream",
     "text": [
      "Epoch: 025, Average Loss: 0.4882\n",
      "Validation: {'precision': 0.6701318458400859, 'recall': 0.5076834421811224, 'f1': 0.5777049131266386, 'auc': 0.7991219999860575, 'prauc': 0.6760072142342088}\n",
      "Test:       {'precision': 0.6524767801840752, 'recall': 0.4852264006130368, 'f1': 0.5565580936983798, 'auc': 0.783521479176287, 'prauc': 0.6458589679151421}\n"
     ]
    },
    {
     "name": "stderr",
     "output_type": "stream",
     "text": [
      "Training Batches: 100%|██████████| 1/1 [00:02<00:00,  2.16s/it]\n",
      "Running inference: 100%|██████████| 1/1 [00:03<00:00,  3.82s/it]\n",
      "Running inference: 100%|██████████| 1/1 [00:03<00:00,  3.89s/it]\n"
     ]
    },
    {
     "name": "stdout",
     "output_type": "stream",
     "text": [
      "Epoch: 026, Average Loss: 0.4870\n",
      "Validation: {'precision': 0.6746956746939272, 'recall': 0.5003841721081437, 'f1': 0.5746112226371562, 'auc': 0.8021382503343841, 'prauc': 0.679918762314488}\n",
      "Test:       {'precision': 0.6615668688982813, 'recall': 0.48119723714412665, 'f1': 0.5571476125841702, 'auc': 0.7881084223191644, 'prauc': 0.6511737140885798}\n",
      "\n",
      "Early stopping triggered after 26 epochs (no improvement for 10 epochs).\n",
      "\n",
      "Best validation performance:\n",
      "{'precision': 0.6355545908386465, 'recall': 0.5624279677284625, 'f1': 0.5967593958122781, 'auc': 0.7946890419757487, 'prauc': 0.6549896713767459}\n",
      "Corresponding test performance:\n",
      "{'precision': 0.6080522306842044, 'recall': 0.5360706062921411, 'f1': 0.5697970787343425, 'auc': 0.7754164163826879, 'prauc': 0.6240277674944055}\n",
      "Corresponding test-long performance:\n",
      "{'precision': 0.6735611510730796, 'recall': 0.49308755760044054, 'f1': 0.5693652554726018, 'auc': 0.7393444012667375, 'prauc': 0.6775775592587121}\n",
      "[INFO] Random seed set to 2530876844\n",
      "Training with seed: 2530876844\n"
     ]
    },
    {
     "name": "stderr",
     "output_type": "stream",
     "text": [
      "Training Batches: 100%|██████████| 1/1 [00:02<00:00,  2.61s/it]\n",
      "Running inference: 100%|██████████| 1/1 [00:03<00:00,  3.88s/it]\n",
      "Running inference: 100%|██████████| 1/1 [00:03<00:00,  3.94s/it]\n"
     ]
    },
    {
     "name": "stdout",
     "output_type": "stream",
     "text": [
      "Epoch: 001, Average Loss: 0.6918\n",
      "Validation: {'precision': 0.6419683257882242, 'recall': 0.21801767191660004, 'f1': 0.32549469079405097, 'auc': 0.6792675087051063, 'prauc': 0.524317328273576}\n",
      "Test:       {'precision': 0.5939490445828347, 'recall': 0.21469685341478378, 'f1': 0.3153889476208845, 'auc': 0.6588696617625384, 'prauc': 0.49240928080023627}\n"
     ]
    },
    {
     "name": "stderr",
     "output_type": "stream",
     "text": [
      "Training Batches: 100%|██████████| 1/1 [00:02<00:00,  2.11s/it]\n",
      "Running inference: 100%|██████████| 1/1 [00:04<00:00,  4.33s/it]\n",
      "Running inference: 100%|██████████| 1/1 [00:03<00:00,  3.40s/it]\n"
     ]
    },
    {
     "name": "stdout",
     "output_type": "stream",
     "text": [
      "Epoch: 002, Average Loss: 0.6745\n",
      "Validation: {'precision': 0.6401581722291734, 'recall': 0.27986938148236673, 'f1': 0.38946805243507704, 'auc': 0.7200451736659533, 'prauc': 0.5534917835527954}\n",
      "Test:       {'precision': 0.6067708333306998, 'recall': 0.2682271680731615, 'f1': 0.37200638212323067, 'auc': 0.6996546634070949, 'prauc': 0.5253834464329713}\n"
     ]
    },
    {
     "name": "stderr",
     "output_type": "stream",
     "text": [
      "Training Batches: 100%|██████████| 1/1 [00:02<00:00,  2.12s/it]\n",
      "Running inference: 100%|██████████| 1/1 [00:04<00:00,  4.41s/it]\n",
      "Running inference: 100%|██████████| 1/1 [00:03<00:00,  3.42s/it]\n"
     ]
    },
    {
     "name": "stdout",
     "output_type": "stream",
     "text": [
      "Epoch: 003, Average Loss: 0.6576\n",
      "Validation: {'precision': 0.615680784037047, 'recall': 0.33787936995709206, 'f1': 0.4363140224603689, 'auc': 0.7321652761545558, 'prauc': 0.5582857652081403}\n",
      "Test:       {'precision': 0.5876500857612774, 'recall': 0.3286646201068138, 'f1': 0.4215577657933639, 'auc': 0.7127658911678874, 'prauc': 0.5317476111378237}\n"
     ]
    },
    {
     "name": "stderr",
     "output_type": "stream",
     "text": [
      "Training Batches: 100%|██████████| 1/1 [00:02<00:00,  2.15s/it]\n",
      "Running inference: 100%|██████████| 1/1 [00:03<00:00,  3.84s/it]\n",
      "Running inference: 100%|██████████| 1/1 [00:03<00:00,  3.90s/it]\n"
     ]
    },
    {
     "name": "stdout",
     "output_type": "stream",
     "text": [
      "Epoch: 004, Average Loss: 0.6390\n",
      "Validation: {'precision': 0.6036568213766423, 'recall': 0.4122166730687433, 'f1': 0.48989840859957173, 'auc': 0.7406780515257888, 'prauc': 0.5665416466983914}\n",
      "Test:       {'precision': 0.5745152354554722, 'recall': 0.3979278587866502, 'f1': 0.47018816111257583, 'auc': 0.721658993667075, 'prauc': 0.5392754164765645}\n"
     ]
    },
    {
     "name": "stderr",
     "output_type": "stream",
     "text": [
      "Training Batches: 100%|██████████| 1/1 [00:02<00:00,  2.56s/it]\n",
      "Running inference: 100%|██████████| 1/1 [00:03<00:00,  3.84s/it]\n",
      "Running inference: 100%|██████████| 1/1 [00:03<00:00,  3.85s/it]\n"
     ]
    },
    {
     "name": "stdout",
     "output_type": "stream",
     "text": [
      "Epoch: 005, Average Loss: 0.6196\n",
      "Validation: {'precision': 0.5860400829288505, 'recall': 0.4886669227804674, 'f1': 0.5329422805746523, 'auc': 0.7512581872088211, 'prauc': 0.5804196591326405}\n",
      "Test:       {'precision': 0.5624999999987216, 'recall': 0.474865694550125, 'f1': 0.5149812684428507, 'auc': 0.7308877722338253, 'prauc': 0.5497594508816517}\n"
     ]
    },
    {
     "name": "stderr",
     "output_type": "stream",
     "text": [
      "Training Batches: 100%|██████████| 1/1 [00:02<00:00,  2.16s/it]\n",
      "Running inference: 100%|██████████| 1/1 [00:04<00:00,  4.40s/it]\n",
      "Running inference: 100%|██████████| 1/1 [00:03<00:00,  3.48s/it]\n"
     ]
    },
    {
     "name": "stdout",
     "output_type": "stream",
     "text": [
      "Epoch: 006, Average Loss: 0.6021\n",
      "Validation: {'precision': 0.5726791530932966, 'recall': 0.5403380714549744, 'f1': 0.5560387378376748, 'auc': 0.7525567511135621, 'prauc': 0.5813607923819258}\n",
      "Test:       {'precision': 0.5501122678086342, 'recall': 0.5170759785101361, 'f1': 0.5330827761332, 'auc': 0.7332112935504261, 'prauc': 0.5512721630624677}\n"
     ]
    },
    {
     "name": "stderr",
     "output_type": "stream",
     "text": [
      "Training Batches: 100%|██████████| 1/1 [00:02<00:00,  2.19s/it]\n",
      "Running inference: 100%|██████████| 1/1 [00:03<00:00,  3.86s/it]\n",
      "Running inference: 100%|██████████| 1/1 [00:04<00:00,  4.86s/it]\n"
     ]
    },
    {
     "name": "stdout",
     "output_type": "stream",
     "text": [
      "Epoch: 007, Average Loss: 0.5822\n",
      "Validation: {'precision': 0.5667042465227984, 'recall': 0.5793315405290447, 'f1': 0.5729483232669959, 'auc': 0.7579649674226197, 'prauc': 0.5911772083031452}\n",
      "Test:       {'precision': 0.5448548812654639, 'recall': 0.5546815042199642, 'f1': 0.5497242771822787, 'auc': 0.7381023837996031, 'prauc': 0.5595995177617746}\n"
     ]
    },
    {
     "name": "stderr",
     "output_type": "stream",
     "text": [
      "Training Batches: 100%|██████████| 1/1 [00:01<00:00,  1.25s/it]\n",
      "Running inference: 100%|██████████| 1/1 [00:04<00:00,  4.28s/it]\n",
      "Running inference: 100%|██████████| 1/1 [00:04<00:00,  4.29s/it]\n"
     ]
    },
    {
     "name": "stdout",
     "output_type": "stream",
     "text": [
      "Epoch: 008, Average Loss: 0.5653\n",
      "Validation: {'precision': 0.5649408022608854, 'recall': 0.6140991164029694, 'f1': 0.5884951629781562, 'auc': 0.7647794251059394, 'prauc': 0.6047729008424357}\n",
      "Test:       {'precision': 0.5406987054432688, 'recall': 0.5849961627003358, 'f1': 0.5619758497666367, 'auc': 0.7425108901640479, 'prauc': 0.570694097092327}\n"
     ]
    },
    {
     "name": "stderr",
     "output_type": "stream",
     "text": [
      "Training Batches: 100%|██████████| 1/1 [00:02<00:00,  2.13s/it]\n",
      "Running inference: 100%|██████████| 1/1 [00:04<00:00,  4.38s/it]\n",
      "Running inference: 100%|██████████| 1/1 [00:03<00:00,  3.42s/it]\n"
     ]
    },
    {
     "name": "stdout",
     "output_type": "stream",
     "text": [
      "Epoch: 009, Average Loss: 0.5546\n",
      "Validation: {'precision': 0.5641424619630634, 'recall': 0.6267767960034061, 'f1': 0.5938125518826313, 'auc': 0.7685289090925191, 'prauc': 0.6128237749307268}\n",
      "Test:       {'precision': 0.540309942537802, 'recall': 0.5953568687632476, 'f1': 0.5664993103918176, 'auc': 0.7467139283430487, 'prauc': 0.5787665447329303}\n"
     ]
    },
    {
     "name": "stderr",
     "output_type": "stream",
     "text": [
      "Training Batches: 100%|██████████| 1/1 [00:02<00:00,  2.11s/it]\n",
      "Running inference: 100%|██████████| 1/1 [00:04<00:00,  4.41s/it]\n",
      "Running inference: 100%|██████████| 1/1 [00:03<00:00,  3.43s/it]\n"
     ]
    },
    {
     "name": "stdout",
     "output_type": "stream",
     "text": [
      "Epoch: 010, Average Loss: 0.5388\n",
      "Validation: {'precision': 0.5631868131858462, 'recall': 0.6300422589307914, 'f1': 0.5947416087952163, 'auc': 0.7699166295651996, 'prauc': 0.619193151861093}\n",
      "Test:       {'precision': 0.5409035409025974, 'recall': 0.5949731389090657, 'f1': 0.5666514340235422, 'auc': 0.7496026484548651, 'prauc': 0.5863986066939876}\n"
     ]
    },
    {
     "name": "stderr",
     "output_type": "stream",
     "text": [
      "Training Batches: 100%|██████████| 1/1 [00:02<00:00,  2.15s/it]\n",
      "Running inference: 100%|██████████| 1/1 [00:03<00:00,  3.84s/it]\n",
      "Running inference: 100%|██████████| 1/1 [00:03<00:00,  3.84s/it]\n"
     ]
    },
    {
     "name": "stdout",
     "output_type": "stream",
     "text": [
      "Epoch: 011, Average Loss: 0.5268\n",
      "Validation: {'precision': 0.5676691729313608, 'recall': 0.6381098732219783, 'f1': 0.6008319718653173, 'auc': 0.7750274657622387, 'prauc': 0.6262499518354921}\n",
      "Test:       {'precision': 0.5449689869046435, 'recall': 0.6068687643887052, 'f1': 0.5742556231905943, 'auc': 0.7552210337783283, 'prauc': 0.5935862929926989}\n"
     ]
    },
    {
     "name": "stderr",
     "output_type": "stream",
     "text": [
      "Training Batches: 100%|██████████| 1/1 [00:02<00:00,  2.58s/it]\n",
      "Running inference: 100%|██████████| 1/1 [00:03<00:00,  3.92s/it]\n",
      "Running inference: 100%|██████████| 1/1 [00:04<00:00,  4.01s/it]\n"
     ]
    },
    {
     "name": "stdout",
     "output_type": "stream",
     "text": [
      "Epoch: 012, Average Loss: 0.5224\n",
      "Validation: {'precision': 0.5537260227456227, 'recall': 0.6265847099488541, 'f1': 0.5879066364526145, 'auc': 0.7628511505474217, 'prauc': 0.6151561111888915}\n",
      "Test:       {'precision': 0.5412299091534919, 'recall': 0.5943975441277928, 'f1': 0.5665691244905379, 'auc': 0.7489912667818679, 'prauc': 0.593914395254124}\n"
     ]
    },
    {
     "name": "stderr",
     "output_type": "stream",
     "text": [
      "Training Batches: 100%|██████████| 1/1 [00:01<00:00,  1.70s/it]\n",
      "Running inference: 100%|██████████| 1/1 [00:03<00:00,  3.86s/it]\n",
      "Running inference: 100%|██████████| 1/1 [00:04<00:00,  4.90s/it]\n"
     ]
    },
    {
     "name": "stdout",
     "output_type": "stream",
     "text": [
      "Epoch: 013, Average Loss: 0.5313\n",
      "Validation: {'precision': 0.5797919238219366, 'recall': 0.6315789473672079, 'f1': 0.6045784633356904, 'auc': 0.7788657671751216, 'prauc': 0.633011838867131}\n",
      "Test:       {'precision': 0.5566406249990117, 'recall': 0.6014965464301583, 'f1': 0.5781999212329189, 'auc': 0.760024513882586, 'prauc': 0.6011845741140747}\n"
     ]
    },
    {
     "name": "stderr",
     "output_type": "stream",
     "text": [
      "Training Batches: 100%|██████████| 1/1 [00:01<00:00,  1.26s/it]\n",
      "Running inference: 100%|██████████| 1/1 [00:04<00:00,  4.32s/it]\n",
      "Running inference: 100%|██████████| 1/1 [00:04<00:00,  4.38s/it]\n"
     ]
    },
    {
     "name": "stdout",
     "output_type": "stream",
     "text": [
      "Epoch: 014, Average Loss: 0.5188\n",
      "Validation: {'precision': 0.5675960021031604, 'recall': 0.6217825585850523, 'f1': 0.5934549404671688, 'auc': 0.7702833076182328, 'prauc': 0.6195314788761461}\n",
      "Test:       {'precision': 0.5400172860837683, 'recall': 0.5993860322321578, 'f1': 0.5681549463629098, 'auc': 0.7466722153706201, 'prauc': 0.5839994944901145}\n"
     ]
    },
    {
     "name": "stderr",
     "output_type": "stream",
     "text": [
      "Training Batches: 100%|██████████| 1/1 [00:02<00:00,  2.18s/it]\n",
      "Running inference: 100%|██████████| 1/1 [00:04<00:00,  4.41s/it]\n",
      "Running inference: 100%|██████████| 1/1 [00:03<00:00,  3.47s/it]\n"
     ]
    },
    {
     "name": "stdout",
     "output_type": "stream",
     "text": [
      "Epoch: 015, Average Loss: 0.5248\n",
      "Validation: {'precision': 0.5888268156413616, 'recall': 0.607376104493647, 'f1': 0.5979576349395572, 'auc': 0.77976513311215, 'prauc': 0.6342720126931486}\n",
      "Test:       {'precision': 0.5602074842523894, 'recall': 0.5801995395230618, 'f1': 0.5700282702125263, 'auc': 0.7562454992200429, 'prauc': 0.5983616731163075}\n"
     ]
    },
    {
     "name": "stderr",
     "output_type": "stream",
     "text": [
      "Training Batches: 100%|██████████| 1/1 [00:02<00:00,  2.18s/it]\n",
      "Running inference: 100%|██████████| 1/1 [00:04<00:00,  4.64s/it]\n",
      "Running inference: 100%|██████████| 1/1 [00:03<00:00,  3.60s/it]\n"
     ]
    },
    {
     "name": "stdout",
     "output_type": "stream",
     "text": [
      "Epoch: 016, Average Loss: 0.5212\n",
      "Validation: {'precision': 0.6048355132766452, 'recall': 0.5862466384929192, 'f1': 0.5953960152887806, 'auc': 0.7839144368261093, 'prauc': 0.6413763419611668}\n",
      "Test:       {'precision': 0.5772196954704821, 'recall': 0.560053722178511, 'f1': 0.5685071524642447, 'auc': 0.7616879545985908, 'prauc': 0.6060262746453084}\n"
     ]
    },
    {
     "name": "stderr",
     "output_type": "stream",
     "text": [
      "Training Batches: 100%|██████████| 1/1 [00:02<00:00,  2.22s/it]\n",
      "Running inference: 100%|██████████| 1/1 [00:03<00:00,  3.96s/it]\n",
      "Running inference: 100%|██████████| 1/1 [00:03<00:00,  3.94s/it]\n"
     ]
    },
    {
     "name": "stdout",
     "output_type": "stream",
     "text": [
      "Epoch: 017, Average Loss: 0.5109\n",
      "Validation: {'precision': 0.6155457783351864, 'recall': 0.5643488282739832, 'f1': 0.5888365517774493, 'auc': 0.7839492647880355, 'prauc': 0.642462859081834}\n",
      "Test:       {'precision': 0.5902806870536441, 'recall': 0.5406753645423241, 'f1': 0.5643901412131754, 'auc': 0.7630551926586349, 'prauc': 0.6085192014682057}\n"
     ]
    },
    {
     "name": "stderr",
     "output_type": "stream",
     "text": [
      "Training Batches: 100%|██████████| 1/1 [00:02<00:00,  2.65s/it]\n",
      "Running inference: 100%|██████████| 1/1 [00:03<00:00,  3.94s/it]\n",
      "Running inference: 100%|██████████| 1/1 [00:04<00:00,  4.01s/it]\n"
     ]
    },
    {
     "name": "stdout",
     "output_type": "stream",
     "text": [
      "Epoch: 018, Average Loss: 0.5090\n",
      "Validation: {'precision': 0.6225339763248081, 'recall': 0.5455243949278803, 'f1': 0.5814905765111246, 'auc': 0.7841993063799889, 'prauc': 0.643272374345384}\n",
      "Test:       {'precision': 0.596406660822532, 'recall': 0.522256331541592, 'f1': 0.5568739721075722, 'auc': 0.764373556681386, 'prauc': 0.6108053747854592}\n"
     ]
    },
    {
     "name": "stderr",
     "output_type": "stream",
     "text": [
      "Training Batches: 100%|██████████| 1/1 [00:02<00:00,  2.20s/it]\n",
      "Running inference: 100%|██████████| 1/1 [00:04<00:00,  4.46s/it]\n",
      "Running inference: 100%|██████████| 1/1 [00:03<00:00,  3.52s/it]\n"
     ]
    },
    {
     "name": "stdout",
     "output_type": "stream",
     "text": [
      "Epoch: 019, Average Loss: 0.5072\n",
      "Validation: {'precision': 0.6334096109825322, 'recall': 0.5316941990001313, 'f1': 0.5781119415698998, 'auc': 0.7865905281132402, 'prauc': 0.6457394906801016}\n",
      "Test:       {'precision': 0.6071837108199333, 'recall': 0.5092095164994067, 'f1': 0.5538975219078526, 'auc': 0.7670992128026641, 'prauc': 0.6136865223598787}\n"
     ]
    },
    {
     "name": "stderr",
     "output_type": "stream",
     "text": [
      "Training Batches: 100%|██████████| 1/1 [00:02<00:00,  2.19s/it]\n",
      "Running inference: 100%|██████████| 1/1 [00:03<00:00,  3.86s/it]\n",
      "Running inference: 100%|██████████| 1/1 [00:04<00:00,  4.89s/it]\n"
     ]
    },
    {
     "name": "stdout",
     "output_type": "stream",
     "text": [
      "Epoch: 020, Average Loss: 0.5029\n",
      "Validation: {'precision': 0.638176638175123, 'recall': 0.5163273146359656, 'f1': 0.5708218255917531, 'auc': 0.7893288707318318, 'prauc': 0.6485167022856302}\n",
      "Test:       {'precision': 0.613145539904664, 'recall': 0.5011511895615864, 'f1': 0.5515202653196138, 'auc': 0.7695681765447827, 'prauc': 0.6161290749967514}\n"
     ]
    },
    {
     "name": "stderr",
     "output_type": "stream",
     "text": [
      "Training Batches: 100%|██████████| 1/1 [00:01<00:00,  1.30s/it]\n",
      "Running inference: 100%|██████████| 1/1 [00:04<00:00,  4.38s/it]\n",
      "Running inference: 100%|██████████| 1/1 [00:04<00:00,  4.47s/it]\n"
     ]
    },
    {
     "name": "stdout",
     "output_type": "stream",
     "text": [
      "Epoch: 021, Average Loss: 0.5017\n",
      "Validation: {'precision': 0.6420824294995371, 'recall': 0.5117172493267159, 'f1': 0.5695350030797168, 'auc': 0.790852106550012, 'prauc': 0.6504600576679562}\n",
      "Test:       {'precision': 0.6149439006908214, 'recall': 0.4942440521863119, 'f1': 0.5480268007170137, 'auc': 0.7711871854799484, 'prauc': 0.6181149883798217}\n"
     ]
    },
    {
     "name": "stderr",
     "output_type": "stream",
     "text": [
      "Training Batches: 100%|██████████| 1/1 [00:02<00:00,  2.22s/it]\n",
      "Running inference: 100%|██████████| 1/1 [00:04<00:00,  4.48s/it]\n",
      "Running inference: 100%|██████████| 1/1 [00:03<00:00,  3.48s/it]\n"
     ]
    },
    {
     "name": "stdout",
     "output_type": "stream",
     "text": [
      "Epoch: 022, Average Loss: 0.4993\n",
      "Validation: {'precision': 0.6485958485942648, 'recall': 0.5101805608902993, 'f1': 0.5711213798674466, 'auc': 0.7914394056580507, 'prauc': 0.651888095971269}\n",
      "Test:       {'precision': 0.6186236766106386, 'recall': 0.4932847275508571, 'f1': 0.5488898328078786, 'auc': 0.7720157769042038, 'prauc': 0.6196142863097636}\n"
     ]
    },
    {
     "name": "stderr",
     "output_type": "stream",
     "text": [
      "Training Batches: 100%|██████████| 1/1 [00:02<00:00,  2.22s/it]\n",
      "Running inference: 100%|██████████| 1/1 [00:04<00:00,  4.44s/it]\n",
      "Running inference: 100%|██████████| 1/1 [00:03<00:00,  3.52s/it]\n"
     ]
    },
    {
     "name": "stdout",
     "output_type": "stream",
     "text": [
      "Epoch: 023, Average Loss: 0.4938\n",
      "Validation: {'precision': 0.6530763528523522, 'recall': 0.5076834421811224, 'f1': 0.5712741764238016, 'auc': 0.7934575150677803, 'prauc': 0.6554847903864797}\n",
      "Test:       {'precision': 0.6239357820466458, 'recall': 0.49213353798831133, 'f1': 0.5502520598545649, 'auc': 0.7742958618003327, 'prauc': 0.6234270569573753}\n",
      "\n",
      "Early stopping triggered after 23 epochs (no improvement for 10 epochs).\n",
      "\n",
      "Best validation performance:\n",
      "{'precision': 0.5797919238219366, 'recall': 0.6315789473672079, 'f1': 0.6045784633356904, 'auc': 0.7788657671751216, 'prauc': 0.633011838867131}\n",
      "Corresponding test performance:\n",
      "{'precision': 0.5566406249990117, 'recall': 0.6014965464301583, 'f1': 0.5781999212329189, 'auc': 0.760024513882586, 'prauc': 0.6011845741140747}\n",
      "Corresponding test-long performance:\n",
      "{'precision': 0.6072172102664316, 'recall': 0.5760368663556549, 'f1': 0.5912162112156937, 'auc': 0.7191401337013752, 'prauc': 0.6527776848876397}\n",
      "[INFO] Random seed set to 3460967357\n",
      "Training with seed: 3460967357\n"
     ]
    },
    {
     "name": "stderr",
     "output_type": "stream",
     "text": [
      "Training Batches: 100%|██████████| 1/1 [00:02<00:00,  2.21s/it]\n",
      "Running inference: 100%|██████████| 1/1 [00:03<00:00,  3.94s/it]\n",
      "Running inference: 100%|██████████| 1/1 [00:03<00:00,  3.88s/it]\n"
     ]
    },
    {
     "name": "stdout",
     "output_type": "stream",
     "text": [
      "Epoch: 001, Average Loss: 0.6879\n",
      "Validation: {'precision': 0.7096774193421205, 'recall': 0.07606607760261992, 'f1': 0.13740457840347445, 'auc': 0.7276123373698096, 'prauc': 0.5574116929579052}\n",
      "Test:       {'precision': 0.7107142857015943, 'recall': 0.07636224098220191, 'f1': 0.13790713615451614, 'auc': 0.7099857759316996, 'prauc': 0.5387724905745056}\n"
     ]
    },
    {
     "name": "stderr",
     "output_type": "stream",
     "text": [
      "Training Batches: 100%|██████████| 1/1 [00:02<00:00,  2.63s/it]\n",
      "Running inference: 100%|██████████| 1/1 [00:03<00:00,  3.84s/it]\n",
      "Running inference: 100%|██████████| 1/1 [00:03<00:00,  3.86s/it]\n"
     ]
    },
    {
     "name": "stdout",
     "output_type": "stream",
     "text": [
      "Epoch: 002, Average Loss: 0.6704\n",
      "Validation: {'precision': 0.6554174067466456, 'recall': 0.2835190165188561, 'f1': 0.3958165685910774, 'auc': 0.7322631656196297, 'prauc': 0.5581164862815053}\n",
      "Test:       {'precision': 0.6273179556733274, 'recall': 0.2661166538751609, 'f1': 0.3737033502551269, 'auc': 0.7141395622051199, 'prauc': 0.5348057498848653}\n"
     ]
    },
    {
     "name": "stderr",
     "output_type": "stream",
     "text": [
      "Training Batches: 100%|██████████| 1/1 [00:02<00:00,  2.16s/it]\n",
      "Running inference: 100%|██████████| 1/1 [00:03<00:00,  3.81s/it]\n",
      "Running inference: 100%|██████████| 1/1 [00:04<00:00,  4.35s/it]\n"
     ]
    },
    {
     "name": "stdout",
     "output_type": "stream",
     "text": [
      "Epoch: 003, Average Loss: 0.6531\n",
      "Validation: {'precision': 0.5832267962143104, 'recall': 0.43814829043327286, 'f1': 0.5003838933119137, 'auc': 0.7351636744639725, 'prauc': 0.5636610899993995}\n",
      "Test:       {'precision': 0.5549923973630132, 'recall': 0.4201841903292015, 'f1': 0.47827035980295834, 'auc': 0.7138537094537191, 'prauc': 0.5346035042383372}\n"
     ]
    },
    {
     "name": "stderr",
     "output_type": "stream",
     "text": [
      "Training Batches: 100%|██████████| 1/1 [00:01<00:00,  1.70s/it]\n",
      "Running inference: 100%|██████████| 1/1 [00:03<00:00,  3.84s/it]\n",
      "Running inference: 100%|██████████| 1/1 [00:03<00:00,  3.82s/it]\n"
     ]
    },
    {
     "name": "stdout",
     "output_type": "stream",
     "text": [
      "Epoch: 004, Average Loss: 0.6346\n",
      "Validation: {'precision': 0.5609157808655746, 'recall': 0.5270841336908815, 'f1': 0.5434739502424194, 'auc': 0.737366116773625, 'prauc': 0.5699250484872275}\n",
      "Test:       {'precision': 0.5348088531176363, 'recall': 0.5099769762077706, 'f1': 0.5220978146835904, 'auc': 0.7140868081056544, 'prauc': 0.5368805738902128}\n"
     ]
    },
    {
     "name": "stderr",
     "output_type": "stream",
     "text": [
      "Training Batches: 100%|██████████| 1/1 [00:02<00:00,  2.13s/it]\n",
      "Running inference: 100%|██████████| 1/1 [00:04<00:00,  4.75s/it]\n",
      "Running inference: 100%|██████████| 1/1 [00:03<00:00,  3.39s/it]\n"
     ]
    },
    {
     "name": "stdout",
     "output_type": "stream",
     "text": [
      "Epoch: 005, Average Loss: 0.6159\n",
      "Validation: {'precision': 0.570940514468306, 'recall': 0.5457164809824324, 'f1': 0.5580436013656274, 'auc': 0.7562932252501499, 'prauc': 0.5853804137937108}\n",
      "Test:       {'precision': 0.5444131832786487, 'recall': 0.5197620874894096, 'f1': 0.5318021151429819, 'auc': 0.7361187780484256, 'prauc': 0.5543684492364469}\n"
     ]
    },
    {
     "name": "stderr",
     "output_type": "stream",
     "text": [
      "Training Batches: 100%|██████████| 1/1 [00:02<00:00,  2.16s/it]\n",
      "Running inference: 100%|██████████| 1/1 [00:03<00:00,  3.79s/it]\n",
      "Running inference: 100%|██████████| 1/1 [00:03<00:00,  3.84s/it]\n"
     ]
    },
    {
     "name": "stdout",
     "output_type": "stream",
     "text": [
      "Epoch: 006, Average Loss: 0.5966\n",
      "Validation: {'precision': 0.5742806811497861, 'recall': 0.5635804840557749, 'f1': 0.5688802664486848, 'auc': 0.7614785218775559, 'prauc': 0.5920876997716904}\n",
      "Test:       {'precision': 0.5545791837520903, 'recall': 0.5448963929383253, 'f1': 0.5496951464558226, 'auc': 0.7423821568898807, 'prauc': 0.5612492222431533}\n"
     ]
    },
    {
     "name": "stderr",
     "output_type": "stream",
     "text": [
      "Training Batches: 100%|██████████| 1/1 [00:02<00:00,  2.58s/it]\n",
      "Running inference: 100%|██████████| 1/1 [00:03<00:00,  3.82s/it]\n",
      "Running inference: 100%|██████████| 1/1 [00:03<00:00,  3.84s/it]\n"
     ]
    },
    {
     "name": "stdout",
     "output_type": "stream",
     "text": [
      "Epoch: 007, Average Loss: 0.5791\n",
      "Validation: {'precision': 0.5645763012958526, 'recall': 0.6104494813664801, 'f1': 0.5866174384767733, 'auc': 0.764959791932838, 'prauc': 0.6022555422750787}\n",
      "Test:       {'precision': 0.5401912181293552, 'recall': 0.5853798925545177, 'f1': 0.5618784480456984, 'auc': 0.743451772983811, 'prauc': 0.568028162655432}\n"
     ]
    },
    {
     "name": "stderr",
     "output_type": "stream",
     "text": [
      "Training Batches: 100%|██████████| 1/1 [00:02<00:00,  2.15s/it]\n",
      "Running inference: 100%|██████████| 1/1 [00:04<00:00,  4.31s/it]\n",
      "Running inference: 100%|██████████| 1/1 [00:03<00:00,  3.59s/it]\n"
     ]
    },
    {
     "name": "stdout",
     "output_type": "stream",
     "text": [
      "Epoch: 008, Average Loss: 0.5633\n",
      "Validation: {'precision': 0.5636269070725318, 'recall': 0.6244717633487813, 'f1': 0.5924913381868103, 'auc': 0.7680492780334005, 'prauc': 0.6093408332991013}\n",
      "Test:       {'precision': 0.5413130088332907, 'recall': 0.5995778971592487, 'f1': 0.5689576645613903, 'auc': 0.745943556283979, 'prauc': 0.5744236235933549}\n"
     ]
    },
    {
     "name": "stderr",
     "output_type": "stream",
     "text": [
      "Training Batches: 100%|██████████| 1/1 [00:02<00:00,  2.21s/it]\n",
      "Running inference: 100%|██████████| 1/1 [00:03<00:00,  3.90s/it]\n",
      "Running inference: 100%|██████████| 1/1 [00:04<00:00,  4.87s/it]\n"
     ]
    },
    {
     "name": "stdout",
     "output_type": "stream",
     "text": [
      "Epoch: 009, Average Loss: 0.5501\n",
      "Validation: {'precision': 0.5680887372003958, 'recall': 0.6394544756038428, 'f1': 0.6016627457844953, 'auc': 0.7724128250554827, 'prauc': 0.6172177151395426}\n",
      "Test:       {'precision': 0.5462054723790291, 'recall': 0.6089792785867058, 'f1': 0.5758867771964289, 'auc': 0.7505582404889446, 'prauc': 0.5828009949441053}\n"
     ]
    },
    {
     "name": "stderr",
     "output_type": "stream",
     "text": [
      "Training Batches: 100%|██████████| 1/1 [00:01<00:00,  1.28s/it]\n",
      "Running inference: 100%|██████████| 1/1 [00:04<00:00,  4.35s/it]\n",
      "Running inference: 100%|██████████| 1/1 [00:04<00:00,  4.41s/it]\n"
     ]
    },
    {
     "name": "stdout",
     "output_type": "stream",
     "text": [
      "Epoch: 010, Average Loss: 0.5390\n",
      "Validation: {'precision': 0.5624685560949816, 'recall': 0.6442566269676445, 'f1': 0.60059091632192, 'auc': 0.7747366612297237, 'prauc': 0.6226329982783156}\n",
      "Test:       {'precision': 0.5414634146332356, 'recall': 0.6176132003057989, 'f1': 0.5770368328801869, 'auc': 0.7526423776372164, 'prauc': 0.5884474743627089}\n"
     ]
    },
    {
     "name": "stderr",
     "output_type": "stream",
     "text": [
      "Training Batches: 100%|██████████| 1/1 [00:02<00:00,  2.21s/it]\n",
      "Running inference: 100%|██████████| 1/1 [00:04<00:00,  4.46s/it]\n",
      "Running inference: 100%|██████████| 1/1 [00:03<00:00,  3.50s/it]\n"
     ]
    },
    {
     "name": "stdout",
     "output_type": "stream",
     "text": [
      "Epoch: 011, Average Loss: 0.5328\n",
      "Validation: {'precision': 0.5631552670984138, 'recall': 0.6500192086042067, 'f1': 0.6034774805350341, 'auc': 0.7762629964256356, 'prauc': 0.624923711636914}\n",
      "Test:       {'precision': 0.5413959686814236, 'recall': 0.6235610130456186, 'f1': 0.5795809134366793, 'auc': 0.7548171847419072, 'prauc': 0.5917149559907448}\n"
     ]
    },
    {
     "name": "stderr",
     "output_type": "stream",
     "text": [
      "Training Batches: 100%|██████████| 1/1 [00:02<00:00,  2.19s/it]\n",
      "Running inference: 100%|██████████| 1/1 [00:04<00:00,  4.40s/it]\n",
      "Running inference: 100%|██████████| 1/1 [00:03<00:00,  3.55s/it]\n"
     ]
    },
    {
     "name": "stdout",
     "output_type": "stream",
     "text": [
      "Epoch: 012, Average Loss: 0.5255\n",
      "Validation: {'precision': 0.5818149964951265, 'recall': 0.6379177871674262, 'f1': 0.6085761357461315, 'auc': 0.7815278406079529, 'prauc': 0.6358744969603513}\n",
      "Test:       {'precision': 0.563594140763552, 'recall': 0.6053338449719775, 'f1': 0.5837187739137134, 'auc': 0.7644436650731807, 'prauc': 0.6084703021689282}\n"
     ]
    },
    {
     "name": "stderr",
     "output_type": "stream",
     "text": [
      "Training Batches: 100%|██████████| 1/1 [00:02<00:00,  2.20s/it]\n",
      "Running inference: 100%|██████████| 1/1 [00:03<00:00,  3.93s/it]\n",
      "Running inference: 100%|██████████| 1/1 [00:03<00:00,  3.89s/it]\n"
     ]
    },
    {
     "name": "stdout",
     "output_type": "stream",
     "text": [
      "Epoch: 013, Average Loss: 0.5201\n",
      "Validation: {'precision': 0.5921965860052669, 'recall': 0.6064156742208866, 'f1': 0.5992217848828348, 'auc': 0.7780032263674332, 'prauc': 0.6327491762972256}\n",
      "Test:       {'precision': 0.5794970986449139, 'recall': 0.5748273215645149, 'f1': 0.5771527593988929, 'auc': 0.76491204664008, 'prauc': 0.6134692734544716}\n"
     ]
    },
    {
     "name": "stderr",
     "output_type": "stream",
     "text": [
      "Training Batches: 100%|██████████| 1/1 [00:02<00:00,  2.65s/it]\n",
      "Running inference: 100%|██████████| 1/1 [00:03<00:00,  3.95s/it]\n",
      "Running inference: 100%|██████████| 1/1 [00:04<00:00,  4.00s/it]\n"
     ]
    },
    {
     "name": "stdout",
     "output_type": "stream",
     "text": [
      "Epoch: 014, Average Loss: 0.5278\n",
      "Validation: {'precision': 0.6020781219922993, 'recall': 0.6010372646934287, 'f1': 0.6015572381017984, 'auc': 0.7867021057115786, 'prauc': 0.6426488817438974}\n",
      "Test:       {'precision': 0.5808139534872465, 'recall': 0.5750191864916059, 'f1': 0.5779020389635313, 'auc': 0.7675261025883278, 'prauc': 0.6121950513109049}\n"
     ]
    },
    {
     "name": "stderr",
     "output_type": "stream",
     "text": [
      "Training Batches: 100%|██████████| 1/1 [00:01<00:00,  1.75s/it]\n",
      "Running inference: 100%|██████████| 1/1 [00:03<00:00,  3.86s/it]\n",
      "Running inference: 100%|██████████| 1/1 [00:04<00:00,  4.92s/it]\n"
     ]
    },
    {
     "name": "stdout",
     "output_type": "stream",
     "text": [
      "Epoch: 015, Average Loss: 0.5249\n",
      "Validation: {'precision': 0.5969947986888904, 'recall': 0.5952746830568666, 'f1': 0.5961334950469545, 'auc': 0.779875052684711, 'prauc': 0.6354227066488087}\n",
      "Test:       {'precision': 0.5715659869169458, 'recall': 0.570030698387241, 'f1': 0.5707973052774907, 'auc': 0.757899290470265, 'prauc': 0.6026790751612648}\n"
     ]
    },
    {
     "name": "stderr",
     "output_type": "stream",
     "text": [
      "Training Batches: 100%|██████████| 1/1 [00:01<00:00,  1.27s/it]\n",
      "Running inference: 100%|██████████| 1/1 [00:04<00:00,  4.41s/it]\n",
      "Running inference: 100%|██████████| 1/1 [00:04<00:00,  4.40s/it]\n"
     ]
    },
    {
     "name": "stdout",
     "output_type": "stream",
     "text": [
      "Epoch: 016, Average Loss: 0.5154\n",
      "Validation: {'precision': 0.6012269938638408, 'recall': 0.5835574337291902, 'f1': 0.5922604492352631, 'auc': 0.7784398241211473, 'prauc': 0.6351195489593593}\n",
      "Test:       {'precision': 0.5740813907535084, 'recall': 0.5575594781263286, 'f1': 0.5656998198004318, 'auc': 0.7564651144255219, 'prauc': 0.6028133717607834}\n"
     ]
    },
    {
     "name": "stderr",
     "output_type": "stream",
     "text": [
      "Training Batches: 100%|██████████| 1/1 [00:02<00:00,  2.18s/it]\n",
      "Running inference: 100%|██████████| 1/1 [00:04<00:00,  4.43s/it]\n",
      "Running inference: 100%|██████████| 1/1 [00:03<00:00,  3.52s/it]\n"
     ]
    },
    {
     "name": "stdout",
     "output_type": "stream",
     "text": [
      "Epoch: 017, Average Loss: 0.5240\n",
      "Validation: {'precision': 0.6100719424447891, 'recall': 0.5701114099105453, 'f1': 0.5894151474223953, 'auc': 0.7807613993511467, 'prauc': 0.6384518565273335}\n",
      "Test:       {'precision': 0.582508250823881, 'recall': 0.5418265541048699, 'f1': 0.5614314065362451, 'auc': 0.7593698248173126, 'prauc': 0.6062677836739322}\n"
     ]
    },
    {
     "name": "stderr",
     "output_type": "stream",
     "text": [
      "Training Batches: 100%|██████████| 1/1 [00:02<00:00,  2.21s/it]\n",
      "Running inference: 100%|██████████| 1/1 [00:04<00:00,  4.48s/it]\n",
      "Running inference: 100%|██████████| 1/1 [00:03<00:00,  3.54s/it]\n"
     ]
    },
    {
     "name": "stdout",
     "output_type": "stream",
     "text": [
      "Epoch: 018, Average Loss: 0.5154\n",
      "Validation: {'precision': 0.6224821312527129, 'recall': 0.5520553207826507, 'f1': 0.5851572789422664, 'auc': 0.78419230687344, 'prauc': 0.6426399168921355}\n",
      "Test:       {'precision': 0.5920452075622864, 'recall': 0.5226400613957739, 'f1': 0.555181896577409, 'auc': 0.763455604015269, 'prauc': 0.6106855410372658}\n"
     ]
    },
    {
     "name": "stderr",
     "output_type": "stream",
     "text": [
      "Training Batches: 100%|██████████| 1/1 [00:02<00:00,  2.22s/it]\n",
      "Running inference: 100%|██████████| 1/1 [00:03<00:00,  3.93s/it]\n",
      "Running inference: 100%|██████████| 1/1 [00:03<00:00,  3.90s/it]\n"
     ]
    },
    {
     "name": "stdout",
     "output_type": "stream",
     "text": [
      "Epoch: 019, Average Loss: 0.5090\n",
      "Validation: {'precision': 0.6356517733748603, 'recall': 0.5301575105637146, 'f1': 0.5781315409132128, 'auc': 0.7863057716065723, 'prauc': 0.6451043537845432}\n",
      "Test:       {'precision': 0.6054327808457518, 'recall': 0.5046047582492237, 'f1': 0.5504395094812901, 'auc': 0.7662800773018981, 'prauc': 0.6136379696113665}\n"
     ]
    },
    {
     "name": "stderr",
     "output_type": "stream",
     "text": [
      "Training Batches: 100%|██████████| 1/1 [00:02<00:00,  2.63s/it]\n",
      "Running inference: 100%|██████████| 1/1 [00:03<00:00,  3.95s/it]\n",
      "Running inference: 100%|██████████| 1/1 [00:03<00:00,  3.92s/it]\n"
     ]
    },
    {
     "name": "stdout",
     "output_type": "stream",
     "text": [
      "Epoch: 020, Average Loss: 0.5053\n",
      "Validation: {'precision': 0.6495327102787763, 'recall': 0.5072992700720182, 'f1': 0.5696721262218967, 'auc': 0.787976138371295, 'prauc': 0.6470355420518312}\n",
      "Test:       {'precision': 0.6173444389989776, 'recall': 0.48349961626921817, 'f1': 0.542285340456865, 'auc': 0.7686525371698898, 'prauc': 0.6163374570018367}\n"
     ]
    },
    {
     "name": "stderr",
     "output_type": "stream",
     "text": [
      "Training Batches: 100%|██████████| 1/1 [00:02<00:00,  2.18s/it]\n",
      "Running inference: 100%|██████████| 1/1 [00:04<00:00,  4.45s/it]\n",
      "Running inference: 100%|██████████| 1/1 [00:03<00:00,  3.45s/it]\n"
     ]
    },
    {
     "name": "stdout",
     "output_type": "stream",
     "text": [
      "Epoch: 021, Average Loss: 0.5053\n",
      "Validation: {'precision': 0.6579288865801767, 'recall': 0.4869381482894988, 'f1': 0.5596644172319448, 'auc': 0.7895435285463993, 'prauc': 0.6492679662170746}\n",
      "Test:       {'precision': 0.6314824515436578, 'recall': 0.46258633921630354, 'f1': 0.5339977802785503, 'auc': 0.771140633950179, 'prauc': 0.6200481224280404}\n"
     ]
    },
    {
     "name": "stderr",
     "output_type": "stream",
     "text": [
      "Training Batches: 100%|██████████| 1/1 [00:02<00:00,  2.19s/it]\n",
      "Running inference: 100%|██████████| 1/1 [00:03<00:00,  3.86s/it]\n",
      "Running inference: 100%|██████████| 1/1 [00:04<00:00,  4.90s/it]\n"
     ]
    },
    {
     "name": "stdout",
     "output_type": "stream",
     "text": [
      "Epoch: 022, Average Loss: 0.5008\n",
      "Validation: {'precision': 0.6693788988319247, 'recall': 0.47406838263451007, 'f1': 0.5550432876218588, 'auc': 0.7913785391549382, 'prauc': 0.6517399277218088}\n",
      "Test:       {'precision': 0.6398477847223707, 'recall': 0.45165003837211887, 'f1': 0.5295242331409314, 'auc': 0.773759122938581, 'prauc': 0.6234087613712609}\n",
      "\n",
      "Early stopping triggered after 22 epochs (no improvement for 10 epochs).\n",
      "\n",
      "Best validation performance:\n",
      "{'precision': 0.5818149964951265, 'recall': 0.6379177871674262, 'f1': 0.6085761357461315, 'auc': 0.7815278406079529, 'prauc': 0.6358744969603513}\n",
      "Corresponding test performance:\n",
      "{'precision': 0.563594140763552, 'recall': 0.6053338449719775, 'f1': 0.5837187739137134, 'auc': 0.7644436650731807, 'prauc': 0.6084703021689282}\n",
      "Corresponding test-long performance:\n",
      "{'precision': 0.610406937954567, 'recall': 0.602369980246199, 'f1': 0.6063618240220463, 'auc': 0.7268618560937554, 'prauc': 0.6617464954875137}\n",
      "[INFO] Random seed set to 2998485882\n",
      "Training with seed: 2998485882\n"
     ]
    },
    {
     "name": "stderr",
     "output_type": "stream",
     "text": [
      "Training Batches: 100%|██████████| 1/1 [00:01<00:00,  1.28s/it]\n",
      "Running inference: 100%|██████████| 1/1 [00:04<00:00,  4.31s/it]\n",
      "Running inference: 100%|██████████| 1/1 [00:04<00:00,  4.41s/it]\n"
     ]
    },
    {
     "name": "stdout",
     "output_type": "stream",
     "text": [
      "Epoch: 001, Average Loss: 0.6953\n",
      "Validation: {'precision': 0.5598238316599955, 'recall': 0.43949289281513737, 'f1': 0.49241363975022745, 'auc': 0.6947633799383026, 'prauc': 0.537426130264089}\n",
      "Test:       {'precision': 0.5357142857129842, 'recall': 0.4230621642355659, 'f1': 0.4727701494419406, 'auc': 0.6807378488433949, 'prauc': 0.5183046386039336}\n"
     ]
    },
    {
     "name": "stderr",
     "output_type": "stream",
     "text": [
      "Training Batches: 100%|██████████| 1/1 [00:02<00:00,  2.18s/it]\n",
      "Running inference: 100%|██████████| 1/1 [00:04<00:00,  4.45s/it]\n",
      "Running inference: 100%|██████████| 1/1 [00:03<00:00,  3.94s/it]\n"
     ]
    },
    {
     "name": "stdout",
     "output_type": "stream",
     "text": [
      "Epoch: 002, Average Loss: 0.6804\n",
      "Validation: {'precision': 0.5959912308155465, 'recall': 0.36553976181259024, 'f1': 0.4531491797128503, 'auc': 0.7043423695110161, 'prauc': 0.5360620141191522}\n",
      "Test:       {'precision': 0.5861635220107354, 'recall': 0.3576362240975487, 'f1': 0.44423259777064006, 'auc': 0.6901234335331893, 'prauc': 0.5213669098067675}\n"
     ]
    },
    {
     "name": "stderr",
     "output_type": "stream",
     "text": [
      "Training Batches: 100%|██████████| 1/1 [00:02<00:00,  2.65s/it]\n",
      "Running inference: 100%|██████████| 1/1 [00:03<00:00,  3.94s/it]\n",
      "Running inference: 100%|██████████| 1/1 [00:04<00:00,  4.08s/it]\n"
     ]
    },
    {
     "name": "stdout",
     "output_type": "stream",
     "text": [
      "Epoch: 003, Average Loss: 0.6635\n",
      "Validation: {'precision': 0.5987432675026968, 'recall': 0.38436419515869313, 'f1': 0.4681796863924873, 'auc': 0.7178213936950179, 'prauc': 0.5430822832640332}\n",
      "Test:       {'precision': 0.5821030430835128, 'recall': 0.37068303913973394, 'f1': 0.4529363450282725, 'auc': 0.7022940273143105, 'prauc': 0.5268516015381411}\n"
     ]
    },
    {
     "name": "stderr",
     "output_type": "stream",
     "text": [
      "Training Batches: 100%|██████████| 1/1 [00:02<00:00,  2.20s/it]\n",
      "Running inference: 100%|██████████| 1/1 [00:04<00:00,  4.49s/it]\n",
      "Running inference: 100%|██████████| 1/1 [00:03<00:00,  3.55s/it]\n"
     ]
    },
    {
     "name": "stdout",
     "output_type": "stream",
     "text": [
      "Epoch: 004, Average Loss: 0.6459\n",
      "Validation: {'precision': 0.5927543679327011, 'recall': 0.4431425278516267, 'f1': 0.5071444224498513, 'auc': 0.7340745776226435, 'prauc': 0.5598357951393702}\n",
      "Test:       {'precision': 0.5700910273067098, 'recall': 0.4205679201833834, 'f1': 0.4840454847893283, 'auc': 0.7170419869545859, 'prauc': 0.538979687760678}\n"
     ]
    },
    {
     "name": "stderr",
     "output_type": "stream",
     "text": [
      "Training Batches: 100%|██████████| 1/1 [00:02<00:00,  2.22s/it]\n",
      "Running inference: 100%|██████████| 1/1 [00:03<00:00,  3.96s/it]\n",
      "Running inference: 100%|██████████| 1/1 [00:05<00:00,  5.12s/it]\n"
     ]
    },
    {
     "name": "stdout",
     "output_type": "stream",
     "text": [
      "Epoch: 005, Average Loss: 0.6275\n",
      "Validation: {'precision': 0.5813900837659466, 'recall': 0.4932769880897171, 'f1': 0.5337212877686565, 'auc': 0.7433018302155227, 'prauc': 0.5716345292349971}\n",
      "Test:       {'precision': 0.5589034888976917, 'recall': 0.47333077513339733, 'f1': 0.5125701176179641, 'auc': 0.7255897823530275, 'prauc': 0.5479535203032475}\n"
     ]
    },
    {
     "name": "stderr",
     "output_type": "stream",
     "text": [
      "Training Batches: 100%|██████████| 1/1 [00:01<00:00,  1.28s/it]\n",
      "Running inference: 100%|██████████| 1/1 [00:04<00:00,  4.40s/it]\n",
      "Running inference: 100%|██████████| 1/1 [00:04<00:00,  4.47s/it]\n"
     ]
    },
    {
     "name": "stdout",
     "output_type": "stream",
     "text": [
      "Epoch: 006, Average Loss: 0.6103\n",
      "Validation: {'precision': 0.5924688057027797, 'recall': 0.5107568190539555, 'f1': 0.5485867497199224, 'auc': 0.75487663063538, 'prauc': 0.5827727450515527}\n",
      "Test:       {'precision': 0.5697184659708053, 'recall': 0.4930928626237661, 'f1': 0.5286434178367919, 'auc': 0.7374452524149101, 'prauc': 0.5601040280918262}\n"
     ]
    },
    {
     "name": "stderr",
     "output_type": "stream",
     "text": [
      "Training Batches: 100%|██████████| 1/1 [00:02<00:00,  2.20s/it]\n",
      "Running inference: 100%|██████████| 1/1 [00:04<00:00,  4.43s/it]\n",
      "Running inference: 100%|██████████| 1/1 [00:03<00:00,  3.50s/it]\n"
     ]
    },
    {
     "name": "stdout",
     "output_type": "stream",
     "text": [
      "Epoch: 007, Average Loss: 0.5905\n",
      "Validation: {'precision': 0.5918496621609125, 'recall': 0.5384172109094537, 'f1': 0.5638704436119311, 'auc': 0.7613362896435377, 'prauc': 0.5939078532083946}\n",
      "Test:       {'precision': 0.5654799083894119, 'recall': 0.5211051419790462, 'f1': 0.5423864153767017, 'auc': 0.7431965275637036, 'prauc': 0.5693277509475225}\n"
     ]
    },
    {
     "name": "stderr",
     "output_type": "stream",
     "text": [
      "Training Batches: 100%|██████████| 1/1 [00:02<00:00,  2.23s/it]\n",
      "Running inference: 100%|██████████| 1/1 [00:04<00:00,  4.47s/it]\n",
      "Running inference: 100%|██████████| 1/1 [00:03<00:00,  3.59s/it]\n"
     ]
    },
    {
     "name": "stdout",
     "output_type": "stream",
     "text": [
      "Epoch: 008, Average Loss: 0.5740\n",
      "Validation: {'precision': 0.5826771653532117, 'recall': 0.582789089510982, 'f1': 0.5827331170578457, 'auc': 0.7622398383274138, 'prauc': 0.6055311883084988}\n",
      "Test:       {'precision': 0.557336386184779, 'recall': 0.5604374520326929, 'f1': 0.5588826124293719, 'auc': 0.7426285177970803, 'prauc': 0.5761528221363501}\n"
     ]
    },
    {
     "name": "stderr",
     "output_type": "stream",
     "text": [
      "Training Batches: 100%|██████████| 1/1 [00:02<00:00,  2.24s/it]\n",
      "Running inference: 100%|██████████| 1/1 [00:03<00:00,  3.92s/it]\n",
      "Running inference: 100%|██████████| 1/1 [00:03<00:00,  3.98s/it]\n"
     ]
    },
    {
     "name": "stdout",
     "output_type": "stream",
     "text": [
      "Epoch: 009, Average Loss: 0.5588\n",
      "Validation: {'precision': 0.5760969340911032, 'recall': 0.6027660391843973, 'f1': 0.5891298175866403, 'auc': 0.7636983169342652, 'prauc': 0.6129889614309988}\n",
      "Test:       {'precision': 0.5506294471801667, 'recall': 0.579048349960516, 'f1': 0.5644814314558633, 'auc': 0.7433305325612974, 'prauc': 0.5819399277764425}\n"
     ]
    },
    {
     "name": "stderr",
     "output_type": "stream",
     "text": [
      "Training Batches: 100%|██████████| 1/1 [00:02<00:00,  2.66s/it]\n",
      "Running inference: 100%|██████████| 1/1 [00:04<00:00,  4.04s/it]\n",
      "Running inference: 100%|██████████| 1/1 [00:04<00:00,  4.07s/it]\n"
     ]
    },
    {
     "name": "stdout",
     "output_type": "stream",
     "text": [
      "Epoch: 010, Average Loss: 0.5468\n",
      "Validation: {'precision': 0.5810391978111559, 'recall': 0.6121782558574488, 'f1': 0.5962024082470753, 'auc': 0.769742028146118, 'prauc': 0.6222518869442409}\n",
      "Test:       {'precision': 0.5544697792244762, 'recall': 0.5878741366067002, 'f1': 0.5706835487376138, 'auc': 0.7489115734383883, 'prauc': 0.5908479703729087}\n"
     ]
    },
    {
     "name": "stderr",
     "output_type": "stream",
     "text": [
      "Training Batches: 100%|██████████| 1/1 [00:01<00:00,  1.75s/it]\n",
      "Running inference: 100%|██████████| 1/1 [00:03<00:00,  3.96s/it]\n",
      "Running inference: 100%|██████████| 1/1 [00:04<00:00,  4.94s/it]\n"
     ]
    },
    {
     "name": "stdout",
     "output_type": "stream",
     "text": [
      "Epoch: 011, Average Loss: 0.5352\n",
      "Validation: {'precision': 0.5749910297800951, 'recall': 0.6156358048393861, 'f1': 0.5946196610529612, 'auc': 0.7694578651373136, 'prauc': 0.6246020686266248}\n",
      "Test:       {'precision': 0.5499111900523093, 'recall': 0.5940138142736109, 'f1': 0.571112335902892, 'auc': 0.7483986126298549, 'prauc': 0.5923109104072459}\n"
     ]
    },
    {
     "name": "stderr",
     "output_type": "stream",
     "text": [
      "Training Batches: 100%|██████████| 1/1 [00:01<00:00,  1.28s/it]\n",
      "Running inference: 100%|██████████| 1/1 [00:04<00:00,  4.47s/it]\n",
      "Running inference: 100%|██████████| 1/1 [00:04<00:00,  4.44s/it]\n"
     ]
    },
    {
     "name": "stdout",
     "output_type": "stream",
     "text": [
      "Epoch: 012, Average Loss: 0.5269\n",
      "Validation: {'precision': 0.5866105725249925, 'recall': 0.6160199769484902, 'f1': 0.6009556775653419, 'auc': 0.7764098918571529, 'prauc': 0.6331516798273993}\n",
      "Test:       {'precision': 0.5597096188737574, 'recall': 0.5917114351485193, 'f1': 0.5752658036205845, 'auc': 0.7552894648035782, 'prauc': 0.600668548292111}\n"
     ]
    },
    {
     "name": "stderr",
     "output_type": "stream",
     "text": [
      "Training Batches: 100%|██████████| 1/1 [00:02<00:00,  2.22s/it]\n",
      "Running inference: 100%|██████████| 1/1 [00:04<00:00,  4.52s/it]\n",
      "Running inference: 100%|██████████| 1/1 [00:03<00:00,  3.51s/it]\n"
     ]
    },
    {
     "name": "stdout",
     "output_type": "stream",
     "text": [
      "Epoch: 013, Average Loss: 0.5201\n",
      "Validation: {'precision': 0.6019454510764792, 'recall': 0.6062235881663346, 'f1': 0.6040769401611231, 'auc': 0.7838107536914154, 'prauc': 0.6418409581657338}\n",
      "Test:       {'precision': 0.5732701421790081, 'recall': 0.5801995395230618, 'f1': 0.5767140218895166, 'auc': 0.7646788189599487, 'prauc': 0.6118995384965467}\n"
     ]
    },
    {
     "name": "stderr",
     "output_type": "stream",
     "text": [
      "Training Batches: 100%|██████████| 1/1 [00:02<00:00,  2.20s/it]\n",
      "Running inference: 100%|██████████| 1/1 [00:04<00:00,  4.45s/it]\n",
      "Running inference: 100%|██████████| 1/1 [00:03<00:00,  3.49s/it]\n"
     ]
    },
    {
     "name": "stdout",
     "output_type": "stream",
     "text": [
      "Epoch: 014, Average Loss: 0.5154\n",
      "Validation: {'precision': 0.5958141321033107, 'recall': 0.5960430272750749, 'f1': 0.5959285527096297, 'auc': 0.7793407915603474, 'prauc': 0.6371643231723745}\n",
      "Test:       {'precision': 0.5673422996768946, 'recall': 0.574635456637424, 'f1': 0.5709655845520657, 'auc': 0.75880879178956, 'prauc': 0.6039117033774343}\n"
     ]
    },
    {
     "name": "stderr",
     "output_type": "stream",
     "text": [
      "Training Batches: 100%|██████████| 1/1 [00:02<00:00,  2.22s/it]\n",
      "Running inference: 100%|██████████| 1/1 [00:03<00:00,  3.97s/it]\n",
      "Running inference: 100%|██████████| 1/1 [00:03<00:00,  3.92s/it]\n"
     ]
    },
    {
     "name": "stdout",
     "output_type": "stream",
     "text": [
      "Epoch: 015, Average Loss: 0.5146\n",
      "Validation: {'precision': 0.61563651248339, 'recall': 0.5777948520926282, 'f1': 0.5961157302396762, 'auc': 0.786307721670981, 'prauc': 0.6457719090266005}\n",
      "Test:       {'precision': 0.5865580448053227, 'recall': 0.5525709900219636, 'f1': 0.569057493521406, 'auc': 0.7666898155538254, 'prauc': 0.6138105967485011}\n"
     ]
    },
    {
     "name": "stderr",
     "output_type": "stream",
     "text": [
      "Training Batches: 100%|██████████| 1/1 [00:02<00:00,  2.65s/it]\n",
      "Running inference: 100%|██████████| 1/1 [00:03<00:00,  3.96s/it]\n",
      "Running inference: 100%|██████████| 1/1 [00:04<00:00,  4.00s/it]\n"
     ]
    },
    {
     "name": "stdout",
     "output_type": "stream",
     "text": [
      "Epoch: 016, Average Loss: 0.5108\n",
      "Validation: {'precision': 0.6172450052563254, 'recall': 0.563772570110327, 'f1': 0.5892982582356504, 'auc': 0.7834742498234107, 'prauc': 0.6435435586337879}\n",
      "Test:       {'precision': 0.5876418663291558, 'recall': 0.536454336146323, 'f1': 0.5608826429530743, 'auc': 0.7626633063792204, 'prauc': 0.6101055248443309}\n"
     ]
    },
    {
     "name": "stderr",
     "output_type": "stream",
     "text": [
      "Training Batches: 100%|██████████| 1/1 [00:02<00:00,  2.21s/it]\n",
      "Running inference: 100%|██████████| 1/1 [00:04<00:00,  4.52s/it]\n",
      "Running inference: 100%|██████████| 1/1 [00:03<00:00,  3.51s/it]\n"
     ]
    },
    {
     "name": "stdout",
     "output_type": "stream",
     "text": [
      "Epoch: 017, Average Loss: 0.5081\n",
      "Validation: {'precision': 0.614206720543143, 'recall': 0.5547445255463797, 'f1': 0.5829632570222577, 'auc': 0.7779211729326537, 'prauc': 0.6379658281470084}\n",
      "Test:       {'precision': 0.5819292333601898, 'recall': 0.5301227935523214, 'f1': 0.5548192721181713, 'auc': 0.7572388780828799, 'prauc': 0.6038639796473837}\n"
     ]
    },
    {
     "name": "stderr",
     "output_type": "stream",
     "text": [
      "Training Batches: 100%|██████████| 1/1 [00:02<00:00,  2.20s/it]\n",
      "Running inference: 100%|██████████| 1/1 [00:03<00:00,  3.88s/it]\n",
      "Running inference: 100%|██████████| 1/1 [00:04<00:00,  4.95s/it]\n"
     ]
    },
    {
     "name": "stdout",
     "output_type": "stream",
     "text": [
      "Epoch: 018, Average Loss: 0.5061\n",
      "Validation: {'precision': 0.6150845253562742, 'recall': 0.5451402228187762, 'f1': 0.57800406833675, 'auc': 0.7778792135757644, 'prauc': 0.6389014155041446}\n",
      "Test:       {'precision': 0.5866294067055318, 'recall': 0.5235993860312287, 'f1': 0.5533252180482457, 'auc': 0.7574489636344721, 'prauc': 0.6048783654259114}\n"
     ]
    },
    {
     "name": "stderr",
     "output_type": "stream",
     "text": [
      "Training Batches: 100%|██████████| 1/1 [00:01<00:00,  1.28s/it]\n",
      "Running inference: 100%|██████████| 1/1 [00:04<00:00,  4.49s/it]\n",
      "Running inference: 100%|██████████| 1/1 [00:04<00:00,  4.44s/it]\n"
     ]
    },
    {
     "name": "stdout",
     "output_type": "stream",
     "text": [
      "Epoch: 019, Average Loss: 0.5044\n",
      "Validation: {'precision': 0.6387582314190058, 'recall': 0.5217057241634235, 'f1': 0.574328605749593, 'auc': 0.7874810198441191, 'prauc': 0.6501861178372722}\n",
      "Test:       {'precision': 0.6082809955789527, 'recall': 0.5017267843428593, 'f1': 0.5498895965589544, 'auc': 0.7678525070583954, 'prauc': 0.6178258822885496}\n"
     ]
    },
    {
     "name": "stderr",
     "output_type": "stream",
     "text": [
      "Training Batches: 100%|██████████| 1/1 [00:02<00:00,  2.23s/it]\n",
      "Running inference: 100%|██████████| 1/1 [00:04<00:00,  4.42s/it]\n",
      "Running inference: 100%|██████████| 1/1 [00:03<00:00,  3.51s/it]\n"
     ]
    },
    {
     "name": "stdout",
     "output_type": "stream",
     "text": [
      "Epoch: 020, Average Loss: 0.5001\n",
      "Validation: {'precision': 0.654596100276894, 'recall': 0.4965424510171023, 'f1': 0.5647187280258492, 'auc': 0.7903736342248173, 'prauc': 0.6543123788276768}\n",
      "Test:       {'precision': 0.6221555388831654, 'recall': 0.47735993860230747, 'f1': 0.5402236407266201, 'auc': 0.7721851817089334, 'prauc': 0.6243667754435706}\n"
     ]
    },
    {
     "name": "stderr",
     "output_type": "stream",
     "text": [
      "Training Batches: 100%|██████████| 1/1 [00:02<00:00,  2.24s/it]\n",
      "Running inference: 100%|██████████| 1/1 [00:04<00:00,  4.54s/it]\n",
      "Running inference: 100%|██████████| 1/1 [00:03<00:00,  3.54s/it]\n"
     ]
    },
    {
     "name": "stdout",
     "output_type": "stream",
     "text": [
      "Epoch: 021, Average Loss: 0.4975\n",
      "Validation: {'precision': 0.6608695652156499, 'recall': 0.4817518248165929, 'f1': 0.5572714094089323, 'auc': 0.7906187300012416, 'prauc': 0.655877623702218}\n",
      "Test:       {'precision': 0.6302367941695804, 'recall': 0.4646968534143041, 'f1': 0.5349530597182969, 'auc': 0.7731539161863807, 'prauc': 0.6258656794230862}\n"
     ]
    },
    {
     "name": "stderr",
     "output_type": "stream",
     "text": [
      "Training Batches: 100%|██████████| 1/1 [00:02<00:00,  2.23s/it]\n",
      "Running inference: 100%|██████████| 1/1 [00:03<00:00,  3.97s/it]\n",
      "Running inference: 100%|██████████| 1/1 [00:03<00:00,  3.91s/it]\n"
     ]
    },
    {
     "name": "stdout",
     "output_type": "stream",
     "text": [
      "Epoch: 022, Average Loss: 0.4947\n",
      "Validation: {'precision': 0.6627653783324366, 'recall': 0.46772954283429174, 'f1': 0.5484234185710084, 'auc': 0.7879114753659762, 'prauc': 0.6556167015730197}\n",
      "Test:       {'precision': 0.6357027463633934, 'recall': 0.4529930928617556, 'f1': 0.5290163518503725, 'auc': 0.771040517286571, 'prauc': 0.6254039323165521}\n"
     ]
    },
    {
     "name": "stderr",
     "output_type": "stream",
     "text": [
      "Training Batches: 100%|██████████| 1/1 [00:02<00:00,  2.67s/it]\n",
      "Running inference: 100%|██████████| 1/1 [00:04<00:00,  4.01s/it]\n",
      "Running inference: 100%|██████████| 1/1 [00:03<00:00,  3.99s/it]\n"
     ]
    },
    {
     "name": "stdout",
     "output_type": "stream",
     "text": [
      "Epoch: 023, Average Loss: 0.4934\n",
      "Validation: {'precision': 0.6808009422830366, 'recall': 0.44410295812438705, 'f1': 0.5375494023347497, 'auc': 0.791644294309373, 'prauc': 0.6601790179639402}\n",
      "Test:       {'precision': 0.6508910312572279, 'recall': 0.42747505755865794, 'f1': 0.5160393698515235, 'auc': 0.7761995253679387, 'prauc': 0.6327608751957678}\n",
      "\n",
      "Early stopping triggered after 23 epochs (no improvement for 10 epochs).\n",
      "\n",
      "Best validation performance:\n",
      "{'precision': 0.6019454510764792, 'recall': 0.6062235881663346, 'f1': 0.6040769401611231, 'auc': 0.7838107536914154, 'prauc': 0.6418409581657338}\n",
      "Corresponding test performance:\n",
      "{'precision': 0.5732701421790081, 'recall': 0.5801995395230618, 'f1': 0.5767140218895166, 'auc': 0.7646788189599487, 'prauc': 0.6118995384965467}\n",
      "Corresponding test-long performance:\n",
      "{'precision': 0.6242331288295688, 'recall': 0.5358788676725749, 'f1': 0.5766914580075589, 'auc': 0.725109834233111, 'prauc': 0.6671327987953057}\n",
      "[INFO] Random seed set to 1461364854\n",
      "Training with seed: 1461364854\n"
     ]
    },
    {
     "name": "stderr",
     "output_type": "stream",
     "text": [
      "Training Batches: 100%|██████████| 1/1 [00:01<00:00,  1.78s/it]\n",
      "Running inference: 100%|██████████| 1/1 [00:04<00:00,  4.50s/it]\n",
      "Running inference: 100%|██████████| 1/1 [00:03<00:00,  3.49s/it]\n"
     ]
    },
    {
     "name": "stdout",
     "output_type": "stream",
     "text": [
      "Epoch: 001, Average Loss: 0.6874\n",
      "Validation: {'precision': 0.71584699452248, 'recall': 0.07548981943896371, 'f1': 0.1365768879347887, 'auc': 0.6961162630284559, 'prauc': 0.5281443368760099}\n",
      "Test:       {'precision': 0.6850828729155601, 'recall': 0.07137375287783697, 'f1': 0.12927888621408953, 'auc': 0.6778413133094353, 'prauc': 0.5056316600876085}\n"
     ]
    },
    {
     "name": "stderr",
     "output_type": "stream",
     "text": [
      "Training Batches: 100%|██████████| 1/1 [00:02<00:00,  2.17s/it]\n",
      "Running inference: 100%|██████████| 1/1 [00:03<00:00,  3.86s/it]\n",
      "Running inference: 100%|██████████| 1/1 [00:03<00:00,  3.88s/it]\n"
     ]
    },
    {
     "name": "stdout",
     "output_type": "stream",
     "text": [
      "Epoch: 002, Average Loss: 0.6738\n",
      "Validation: {'precision': 0.6014962593486209, 'recall': 0.23165578178979707, 'f1': 0.3344889711611444, 'auc': 0.7034746567933745, 'prauc': 0.5281911560727968}\n",
      "Test:       {'precision': 0.5833766233735929, 'recall': 0.21546431312314762, 'f1': 0.31469804846265537, 'auc': 0.6854665663245109, 'prauc': 0.5044912726411013}\n"
     ]
    },
    {
     "name": "stderr",
     "output_type": "stream",
     "text": [
      "Training Batches: 100%|██████████| 1/1 [00:02<00:00,  2.11s/it]\n",
      "Running inference: 100%|██████████| 1/1 [00:04<00:00,  4.23s/it]\n",
      "Running inference: 100%|██████████| 1/1 [00:04<00:00,  4.88s/it]\n"
     ]
    },
    {
     "name": "stdout",
     "output_type": "stream",
     "text": [
      "Epoch: 003, Average Loss: 0.6562\n",
      "Validation: {'precision': 0.6023076923053757, 'recall': 0.30080676142854246, 'f1': 0.40122981876915015, 'auc': 0.7161095668652593, 'prauc': 0.5389960999157317}\n",
      "Test:       {'precision': 0.583167132027989, 'recall': 0.2805065234069829, 'f1': 0.37880554037272235, 'auc': 0.6973775461594685, 'prauc': 0.5137596341065238}\n"
     ]
    },
    {
     "name": "stderr",
     "output_type": "stream",
     "text": [
      "Training Batches: 100%|██████████| 1/1 [00:01<00:00,  1.25s/it]\n",
      "Running inference: 100%|██████████| 1/1 [00:04<00:00,  4.32s/it]\n",
      "Running inference: 100%|██████████| 1/1 [00:03<00:00,  3.89s/it]\n"
     ]
    },
    {
     "name": "stdout",
     "output_type": "stream",
     "text": [
      "Epoch: 004, Average Loss: 0.6390\n",
      "Validation: {'precision': 0.5912674348071824, 'recall': 0.3745678063765375, 'f1': 0.45860770926755295, 'auc': 0.7305400152274596, 'prauc': 0.5516757831504004}\n",
      "Test:       {'precision': 0.5600501724661021, 'recall': 0.3426707597844538, 'f1': 0.4251874729701507, 'auc': 0.7113042597663469, 'prauc': 0.5239018582047772}\n"
     ]
    },
    {
     "name": "stderr",
     "output_type": "stream",
     "text": [
      "Training Batches: 100%|██████████| 1/1 [00:01<00:00,  1.71s/it]\n",
      "Running inference: 100%|██████████| 1/1 [00:04<00:00,  4.41s/it]\n",
      "Running inference: 100%|██████████| 1/1 [00:03<00:00,  3.96s/it]\n"
     ]
    },
    {
     "name": "stdout",
     "output_type": "stream",
     "text": [
      "Epoch: 005, Average Loss: 0.6203\n",
      "Validation: {'precision': 0.5905954510590581, 'recall': 0.443910872069835, 'f1': 0.506853816790388, 'auc': 0.74301123293623, 'prauc': 0.5648350371705037}\n",
      "Test:       {'precision': 0.5669125395137858, 'recall': 0.412893323099745, 'f1': 0.4777975084439804, 'auc': 0.7233027207180279, 'prauc': 0.5343996234728335}\n"
     ]
    },
    {
     "name": "stderr",
     "output_type": "stream",
     "text": [
      "Training Batches: 100%|██████████| 1/1 [00:01<00:00,  1.24s/it]\n",
      "Running inference: 100%|██████████| 1/1 [00:04<00:00,  4.36s/it]\n",
      "Running inference: 100%|██████████| 1/1 [00:03<00:00,  3.88s/it]\n"
     ]
    },
    {
     "name": "stdout",
     "output_type": "stream",
     "text": [
      "Epoch: 006, Average Loss: 0.6017\n",
      "Validation: {'precision': 0.5781112091778947, 'recall': 0.5032654629264248, 'f1': 0.5380981671321101, 'auc': 0.7518899986566223, 'prauc': 0.5774328125943082}\n",
      "Test:       {'precision': 0.5552344965535558, 'recall': 0.47927858787321703, 'f1': 0.5144681239518546, 'auc': 0.7318023793831523, 'prauc': 0.5443058969867033}\n"
     ]
    },
    {
     "name": "stderr",
     "output_type": "stream",
     "text": [
      "Training Batches: 100%|██████████| 1/1 [00:01<00:00,  1.71s/it]\n",
      "Running inference: 100%|██████████| 1/1 [00:04<00:00,  4.40s/it]\n",
      "Running inference: 100%|██████████| 1/1 [00:03<00:00,  3.96s/it]\n"
     ]
    },
    {
     "name": "stdout",
     "output_type": "stream",
     "text": [
      "Epoch: 007, Average Loss: 0.5841\n",
      "Validation: {'precision': 0.5738033246533671, 'recall': 0.5503265462916821, 'f1': 0.5618197812546334, 'auc': 0.7580164981101332, 'prauc': 0.5876778796512616}\n",
      "Test:       {'precision': 0.5511444196869534, 'recall': 0.522064466614501, 'f1': 0.536210459087746, 'auc': 0.7377955178848932, 'prauc': 0.553672296942288}\n"
     ]
    },
    {
     "name": "stderr",
     "output_type": "stream",
     "text": [
      "Training Batches: 100%|██████████| 1/1 [00:01<00:00,  1.24s/it]\n",
      "Running inference: 100%|██████████| 1/1 [00:04<00:00,  4.36s/it]\n",
      "Running inference: 100%|██████████| 1/1 [00:03<00:00,  3.89s/it]\n"
     ]
    },
    {
     "name": "stdout",
     "output_type": "stream",
     "text": [
      "Epoch: 008, Average Loss: 0.5691\n",
      "Validation: {'precision': 0.55795536356991, 'recall': 0.5954667691114186, 'f1': 0.5761010914546918, 'auc': 0.7604129105945397, 'prauc': 0.5948597753024003}\n",
      "Test:       {'precision': 0.5348457350262525, 'recall': 0.5654259401370579, 'f1': 0.5497108698396213, 'auc': 0.7404220987844291, 'prauc': 0.5604953783502337}\n"
     ]
    },
    {
     "name": "stderr",
     "output_type": "stream",
     "text": [
      "Training Batches: 100%|██████████| 1/1 [00:01<00:00,  1.72s/it]\n",
      "Running inference: 100%|██████████| 1/1 [00:04<00:00,  4.32s/it]\n",
      "Running inference: 100%|██████████| 1/1 [00:03<00:00,  3.97s/it]\n"
     ]
    },
    {
     "name": "stdout",
     "output_type": "stream",
     "text": [
      "Epoch: 009, Average Loss: 0.5541\n",
      "Validation: {'precision': 0.5647951977391158, 'recall': 0.6144832885120736, 'f1': 0.5885924513095415, 'auc': 0.7655092955896327, 'prauc': 0.6038879513615185}\n",
      "Test:       {'precision': 0.5421816227824786, 'recall': 0.5807751343043347, 'f1': 0.5608151872234866, 'auc': 0.7455837795927089, 'prauc': 0.5694595088065892}\n"
     ]
    },
    {
     "name": "stderr",
     "output_type": "stream",
     "text": [
      "Training Batches: 100%|██████████| 1/1 [00:01<00:00,  1.72s/it]\n",
      "Running inference: 100%|██████████| 1/1 [00:03<00:00,  3.91s/it]\n",
      "Running inference: 100%|██████████| 1/1 [00:03<00:00,  3.93s/it]\n"
     ]
    },
    {
     "name": "stdout",
     "output_type": "stream",
     "text": [
      "Epoch: 010, Average Loss: 0.5444\n",
      "Validation: {'precision': 0.5654140570623427, 'recall': 0.6242796772942292, 'f1': 0.5933905372788226, 'auc': 0.7680597725829235, 'prauc': 0.61086788264927}\n",
      "Test:       {'precision': 0.5437632884469459, 'recall': 0.588833461242155, 'f1': 0.5654016162301628, 'auc': 0.748267501550366, 'prauc': 0.5761958529927567}\n"
     ]
    },
    {
     "name": "stderr",
     "output_type": "stream",
     "text": [
      "Training Batches: 100%|██████████| 1/1 [00:01<00:00,  1.71s/it]\n",
      "Running inference: 100%|██████████| 1/1 [00:04<00:00,  4.31s/it]\n",
      "Running inference: 100%|██████████| 1/1 [00:04<00:00,  4.45s/it]\n"
     ]
    },
    {
     "name": "stdout",
     "output_type": "stream",
     "text": [
      "Epoch: 011, Average Loss: 0.5341\n",
      "Validation: {'precision': 0.5681068887722226, 'recall': 0.6288897426034789, 'f1': 0.5969550501672425, 'auc': 0.7711701064735168, 'prauc': 0.6176093146017921}\n",
      "Test:       {'precision': 0.5485704137798818, 'recall': 0.5926707597839742, 'f1': 0.5697685092552394, 'auc': 0.751554891138174, 'prauc': 0.5827909390168702}\n"
     ]
    },
    {
     "name": "stderr",
     "output_type": "stream",
     "text": [
      "Training Batches: 100%|██████████| 1/1 [00:01<00:00,  1.29s/it]\n",
      "Running inference: 100%|██████████| 1/1 [00:04<00:00,  4.31s/it]\n",
      "Running inference: 100%|██████████| 1/1 [00:04<00:00,  4.41s/it]\n"
     ]
    },
    {
     "name": "stdout",
     "output_type": "stream",
     "text": [
      "Epoch: 012, Average Loss: 0.5278\n",
      "Validation: {'precision': 0.5727208229858589, 'recall': 0.6202458701486357, 'f1': 0.5955366973307027, 'auc': 0.7725838654873832, 'prauc': 0.6224101824270444}\n",
      "Test:       {'precision': 0.5530111792272755, 'recall': 0.5884497313879731, 'f1': 0.5701803259202869, 'auc': 0.7534820654863069, 'prauc': 0.5884214803139679}\n"
     ]
    },
    {
     "name": "stderr",
     "output_type": "stream",
     "text": [
      "Training Batches: 100%|██████████| 1/1 [00:01<00:00,  1.72s/it]\n",
      "Running inference: 100%|██████████| 1/1 [00:03<00:00,  3.89s/it]\n",
      "Running inference: 100%|██████████| 1/1 [00:03<00:00,  3.96s/it]\n"
     ]
    },
    {
     "name": "stdout",
     "output_type": "stream",
     "text": [
      "Epoch: 013, Average Loss: 0.5211\n",
      "Validation: {'precision': 0.5744985673342148, 'recall': 0.6162120630030422, 'f1': 0.5946246474610121, 'auc': 0.773893762375137, 'prauc': 0.626326558813033}\n",
      "Test:       {'precision': 0.5559414990849069, 'recall': 0.5834612432836082, 'f1': 0.5693690270183271, 'auc': 0.7560563623176619, 'prauc': 0.5942017786905965}\n"
     ]
    },
    {
     "name": "stderr",
     "output_type": "stream",
     "text": [
      "Training Batches: 100%|██████████| 1/1 [00:02<00:00,  2.58s/it]\n",
      "Running inference: 100%|██████████| 1/1 [00:03<00:00,  3.98s/it]\n",
      "Running inference: 100%|██████████| 1/1 [00:03<00:00,  3.93s/it]\n"
     ]
    },
    {
     "name": "stdout",
     "output_type": "stream",
     "text": [
      "Epoch: 014, Average Loss: 0.5223\n",
      "Validation: {'precision': 0.5902905479945011, 'recall': 0.6165962351121463, 'f1': 0.6031567030057516, 'auc': 0.7821301938364023, 'prauc': 0.6353228396777296}\n",
      "Test:       {'precision': 0.5649507526471568, 'recall': 0.5832693783565172, 'f1': 0.5739639334501089, 'auc': 0.7616656880185229, 'prauc': 0.5994267782992847}\n"
     ]
    },
    {
     "name": "stderr",
     "output_type": "stream",
     "text": [
      "Training Batches: 100%|██████████| 1/1 [00:01<00:00,  1.73s/it]\n",
      "Running inference: 100%|██████████| 1/1 [00:03<00:00,  3.91s/it]\n",
      "Running inference: 100%|██████████| 1/1 [00:03<00:00,  3.97s/it]\n"
     ]
    },
    {
     "name": "stdout",
     "output_type": "stream",
     "text": [
      "Epoch: 015, Average Loss: 0.5175\n",
      "Validation: {'precision': 0.5996920708225564, 'recall': 0.5985401459842518, 'f1': 0.5991155496998719, 'auc': 0.7823340462216135, 'prauc': 0.6384569087473235}\n",
      "Test:       {'precision': 0.5712077294674953, 'recall': 0.5671527244808765, 'f1': 0.5691729997164028, 'auc': 0.7602231988714531, 'prauc': 0.6009022440270624}\n"
     ]
    },
    {
     "name": "stderr",
     "output_type": "stream",
     "text": [
      "Training Batches: 100%|██████████| 1/1 [00:01<00:00,  1.71s/it]\n",
      "Running inference: 100%|██████████| 1/1 [00:04<00:00,  4.40s/it]\n",
      "Running inference: 100%|██████████| 1/1 [00:04<00:00,  4.47s/it]\n"
     ]
    },
    {
     "name": "stdout",
     "output_type": "stream",
     "text": [
      "Epoch: 016, Average Loss: 0.5173\n",
      "Validation: {'precision': 0.6027637212911585, 'recall': 0.5948905109477625, 'f1': 0.5988012324313863, 'auc': 0.7831156829078456, 'prauc': 0.6404752575846113}\n",
      "Test:       {'precision': 0.5718452265203736, 'recall': 0.5642747505745122, 'f1': 0.5680347608127415, 'auc': 0.7602561471428696, 'prauc': 0.60209239261185}\n"
     ]
    },
    {
     "name": "stderr",
     "output_type": "stream",
     "text": [
      "Training Batches: 100%|██████████| 1/1 [00:01<00:00,  1.27s/it]\n",
      "Running inference: 100%|██████████| 1/1 [00:04<00:00,  4.37s/it]\n",
      "Running inference: 100%|██████████| 1/1 [00:04<00:00,  4.43s/it]\n"
     ]
    },
    {
     "name": "stdout",
     "output_type": "stream",
     "text": [
      "Epoch: 017, Average Loss: 0.5118\n",
      "Validation: {'precision': 0.6077391475140292, 'recall': 0.5943142527841062, 'f1': 0.6009517285140724, 'auc': 0.7878958842713081, 'prauc': 0.6454356862303622}\n",
      "Test:       {'precision': 0.5756450351826121, 'recall': 0.5650422102828759, 'f1': 0.5702943404679566, 'auc': 0.7644683739726684, 'prauc': 0.6059221444392765}\n"
     ]
    },
    {
     "name": "stderr",
     "output_type": "stream",
     "text": [
      "Training Batches: 100%|██████████| 1/1 [00:01<00:00,  1.29s/it]\n",
      "Running inference: 100%|██████████| 1/1 [00:04<00:00,  4.33s/it]\n",
      "Running inference: 100%|██████████| 1/1 [00:04<00:00,  4.43s/it]\n"
     ]
    },
    {
     "name": "stdout",
     "output_type": "stream",
     "text": [
      "Epoch: 018, Average Loss: 0.5077\n",
      "Validation: {'precision': 0.6135275339173712, 'recall': 0.5906646177476169, 'f1': 0.6018790319941653, 'auc': 0.7904515425951534, 'prauc': 0.6483699478351839}\n",
      "Test:       {'precision': 0.5836313071104815, 'recall': 0.5636991557932393, 'f1': 0.5734920894762827, 'auc': 0.767262322874701, 'prauc': 0.608712635095156}\n"
     ]
    },
    {
     "name": "stderr",
     "output_type": "stream",
     "text": [
      "Training Batches: 100%|██████████| 1/1 [00:01<00:00,  1.74s/it]\n",
      "Running inference: 100%|██████████| 1/1 [00:03<00:00,  4.00s/it]\n",
      "Running inference: 100%|██████████| 1/1 [00:03<00:00,  3.88s/it]\n"
     ]
    },
    {
     "name": "stdout",
     "output_type": "stream",
     "text": [
      "Epoch: 019, Average Loss: 0.5078\n",
      "Validation: {'precision': 0.6228179551109252, 'recall': 0.5756819054925554, 'f1': 0.5983230135731197, 'auc': 0.7915079311097826, 'prauc': 0.6506281667455438}\n",
      "Test:       {'precision': 0.5921568627438758, 'recall': 0.5504604758239631, 'f1': 0.5705478721060507, 'auc': 0.7689911808859549, 'prauc': 0.6117020004402781}\n"
     ]
    },
    {
     "name": "stderr",
     "output_type": "stream",
     "text": [
      "Training Batches: 100%|██████████| 1/1 [00:02<00:00,  2.64s/it]\n",
      "Running inference: 100%|██████████| 1/1 [00:03<00:00,  3.91s/it]\n",
      "Running inference: 100%|██████████| 1/1 [00:03<00:00,  3.98s/it]\n"
     ]
    },
    {
     "name": "stdout",
     "output_type": "stream",
     "text": [
      "Epoch: 020, Average Loss: 0.5026\n",
      "Validation: {'precision': 0.6302631578933547, 'recall': 0.5520553207826507, 'f1': 0.5885725938328781, 'auc': 0.7888129609382316, 'prauc': 0.6500687088599304}\n",
      "Test:       {'precision': 0.5979965156781403, 'recall': 0.526861089791775, 'f1': 0.560179513582705, 'auc': 0.7673435461239303, 'prauc': 0.6128402123736111}\n"
     ]
    },
    {
     "name": "stderr",
     "output_type": "stream",
     "text": [
      "Training Batches: 100%|██████████| 1/1 [00:01<00:00,  1.75s/it]\n",
      "Running inference: 100%|██████████| 1/1 [00:03<00:00,  3.96s/it]\n",
      "Running inference: 100%|██████████| 1/1 [00:03<00:00,  3.90s/it]\n"
     ]
    },
    {
     "name": "stdout",
     "output_type": "stream",
     "text": [
      "Epoch: 021, Average Loss: 0.5007\n",
      "Validation: {'precision': 0.6324101625071358, 'recall': 0.5307337687273709, 'f1': 0.5771279323738163, 'auc': 0.7828735075177338, 'prauc': 0.6458444061075119}\n",
      "Test:       {'precision': 0.6024261844801959, 'recall': 0.5049884881034057, 'f1': 0.5494207235627676, 'auc': 0.7631614934593396, 'prauc': 0.6115541843528083}\n"
     ]
    },
    {
     "name": "stderr",
     "output_type": "stream",
     "text": [
      "Training Batches: 100%|██████████| 1/1 [00:01<00:00,  1.73s/it]\n",
      "Running inference: 100%|██████████| 1/1 [00:04<00:00,  4.41s/it]\n",
      "Running inference: 100%|██████████| 1/1 [00:04<00:00,  4.43s/it]\n"
     ]
    },
    {
     "name": "stdout",
     "output_type": "stream",
     "text": [
      "Epoch: 022, Average Loss: 0.5012\n",
      "Validation: {'precision': 0.6429919773462883, 'recall': 0.5234344986543922, 'f1': 0.5770859755680382, 'auc': 0.7885019680577565, 'prauc': 0.65239910683505}\n",
      "Test:       {'precision': 0.6080671485180507, 'recall': 0.5003837298532227, 'f1': 0.5489948376941751, 'auc': 0.7668045124035543, 'prauc': 0.6149114059048115}\n"
     ]
    },
    {
     "name": "stderr",
     "output_type": "stream",
     "text": [
      "Training Batches: 100%|██████████| 1/1 [00:01<00:00,  1.26s/it]\n",
      "Running inference: 100%|██████████| 1/1 [00:04<00:00,  4.36s/it]\n",
      "Running inference: 100%|██████████| 1/1 [00:04<00:00,  4.53s/it]\n"
     ]
    },
    {
     "name": "stdout",
     "output_type": "stream",
     "text": [
      "Epoch: 023, Average Loss: 0.4948\n",
      "Validation: {'precision': 0.6501064584796543, 'recall': 0.5278524779090898, 'f1': 0.5826354238663599, 'auc': 0.7941601600145605, 'prauc': 0.6588923758185842}\n",
      "Test:       {'precision': 0.6138059701478223, 'recall': 0.5049884881034057, 'f1': 0.554105258204029, 'auc': 0.7706216456816437, 'prauc': 0.6180211474315831}\n"
     ]
    },
    {
     "name": "stderr",
     "output_type": "stream",
     "text": [
      "Training Batches: 100%|██████████| 1/1 [00:01<00:00,  1.27s/it]\n",
      "Running inference: 100%|██████████| 1/1 [00:04<00:00,  4.42s/it]\n",
      "Running inference: 100%|██████████| 1/1 [00:04<00:00,  4.43s/it]\n"
     ]
    },
    {
     "name": "stdout",
     "output_type": "stream",
     "text": [
      "Epoch: 024, Average Loss: 0.4941\n",
      "Validation: {'precision': 0.651836158190556, 'recall': 0.5318862850546833, 'f1': 0.5857837902690575, 'auc': 0.7961939641455693, 'prauc': 0.6622410093223318}\n",
      "Test:       {'precision': 0.6148837209288026, 'recall': 0.5072908672284971, 'f1': 0.5559293474417673, 'auc': 0.7720845489325423, 'prauc': 0.6202111480084407}\n",
      "\n",
      "Early stopping triggered after 24 epochs (no improvement for 10 epochs).\n",
      "\n",
      "Best validation performance:\n",
      "{'precision': 0.5902905479945011, 'recall': 0.6165962351121463, 'f1': 0.6031567030057516, 'auc': 0.7821301938364023, 'prauc': 0.6353228396777296}\n",
      "Corresponding test performance:\n",
      "{'precision': 0.5649507526471568, 'recall': 0.5832693783565172, 'f1': 0.5739639334501089, 'auc': 0.7616656880185229, 'prauc': 0.5994267782992847}\n",
      "Corresponding test-long performance:\n",
      "{'precision': 0.6129496402833601, 'recall': 0.5608953258685919, 'f1': 0.5857683002653445, 'auc': 0.7212399127565912, 'prauc': 0.6558505164384999}\n",
      "[INFO] Random seed set to 667779376\n",
      "Training with seed: 667779376\n"
     ]
    },
    {
     "name": "stderr",
     "output_type": "stream",
     "text": [
      "Training Batches: 100%|██████████| 1/1 [00:01<00:00,  1.75s/it]\n",
      "Running inference: 100%|██████████| 1/1 [00:03<00:00,  3.91s/it]\n",
      "Running inference: 100%|██████████| 1/1 [00:03<00:00,  3.90s/it]\n"
     ]
    },
    {
     "name": "stdout",
     "output_type": "stream",
     "text": [
      "Epoch: 001, Average Loss: 0.6978\n",
      "Validation: {'precision': 0.4454153068739389, 'recall': 0.8127160968098104, 'f1': 0.5754505224569886, 'auc': 0.7240192824629671, 'prauc': 0.5498801651843572}\n",
      "Test:       {'precision': 0.43331944154987145, 'recall': 0.7979662317713009, 'f1': 0.5616475308867903, 'auc': 0.7066713641531802, 'prauc': 0.5242882563549152}\n"
     ]
    },
    {
     "name": "stderr",
     "output_type": "stream",
     "text": [
      "Training Batches: 100%|██████████| 1/1 [00:02<00:00,  2.64s/it]\n",
      "Running inference: 100%|██████████| 1/1 [00:03<00:00,  3.94s/it]\n",
      "Running inference: 100%|██████████| 1/1 [00:03<00:00,  3.98s/it]\n"
     ]
    },
    {
     "name": "stdout",
     "output_type": "stream",
     "text": [
      "Epoch: 002, Average Loss: 0.6799\n",
      "Validation: {'precision': 0.5125734076185626, 'recall': 0.6538609296952481, 'f1': 0.574660246612864, 'auc': 0.7317539067703411, 'prauc': 0.5592366473354259}\n",
      "Test:       {'precision': 0.4965579167906367, 'recall': 0.6366078280878039, 'f1': 0.557928362319425, 'auc': 0.7144560315041141, 'prauc': 0.5322069465348915}\n"
     ]
    },
    {
     "name": "stderr",
     "output_type": "stream",
     "text": [
      "Training Batches: 100%|██████████| 1/1 [00:01<00:00,  1.75s/it]\n",
      "Running inference: 100%|██████████| 1/1 [00:04<00:00,  4.44s/it]\n",
      "Running inference: 100%|██████████| 1/1 [00:03<00:00,  4.00s/it]\n"
     ]
    },
    {
     "name": "stdout",
     "output_type": "stream",
     "text": [
      "Epoch: 003, Average Loss: 0.6611\n",
      "Validation: {'precision': 0.5258455647726136, 'recall': 0.6331156358036244, 'f1': 0.5745162927584094, 'auc': 0.7368460053919752, 'prauc': 0.560326565339609}\n",
      "Test:       {'precision': 0.509612303747982, 'recall': 0.6103223330763424, 'f1': 0.5554391429353942, 'auc': 0.7202271677787545, 'prauc': 0.5356273673012768}\n"
     ]
    },
    {
     "name": "stderr",
     "output_type": "stream",
     "text": [
      "Training Batches: 100%|██████████| 1/1 [00:01<00:00,  1.28s/it]\n",
      "Running inference: 100%|██████████| 1/1 [00:04<00:00,  4.35s/it]\n",
      "Running inference: 100%|██████████| 1/1 [00:03<00:00,  3.97s/it]\n"
     ]
    },
    {
     "name": "stdout",
     "output_type": "stream",
     "text": [
      "Epoch: 004, Average Loss: 0.6402\n",
      "Validation: {'precision': 0.532612153992153, 'recall': 0.6431041106403321, 'f1': 0.5826661976188505, 'auc': 0.745125686832468, 'prauc': 0.5682714834442879}\n",
      "Test:       {'precision': 0.5162991371036812, 'recall': 0.6199155794308904, 'f1': 0.5633827326168858, 'auc': 0.7286050238270839, 'prauc': 0.5430980990670975}\n"
     ]
    },
    {
     "name": "stderr",
     "output_type": "stream",
     "text": [
      "Training Batches: 100%|██████████| 1/1 [00:01<00:00,  1.72s/it]\n",
      "Running inference: 100%|██████████| 1/1 [00:04<00:00,  4.46s/it]\n",
      "Running inference: 100%|██████████| 1/1 [00:03<00:00,  3.51s/it]\n"
     ]
    },
    {
     "name": "stdout",
     "output_type": "stream",
     "text": [
      "Epoch: 005, Average Loss: 0.6199\n",
      "Validation: {'precision': 0.5354919053540855, 'recall': 0.6607760276591226, 'f1': 0.5915735118208056, 'auc': 0.7546545305460162, 'prauc': 0.5813902413383957}\n",
      "Test:       {'precision': 0.5175902864250972, 'recall': 0.6379508825774406, 'f1': 0.5715022294980903, 'auc': 0.7376429328271102, 'prauc': 0.5536555052032395}\n"
     ]
    },
    {
     "name": "stderr",
     "output_type": "stream",
     "text": [
      "Training Batches: 100%|██████████| 1/1 [00:02<00:00,  2.21s/it]\n",
      "Running inference: 100%|██████████| 1/1 [00:03<00:00,  3.92s/it]\n",
      "Running inference: 100%|██████████| 1/1 [00:03<00:00,  3.89s/it]\n"
     ]
    },
    {
     "name": "stdout",
     "output_type": "stream",
     "text": [
      "Epoch: 006, Average Loss: 0.6028\n",
      "Validation: {'precision': 0.5352027740079373, 'recall': 0.6819054936598503, 'f1': 0.5997128086538571, 'auc': 0.7613897044512528, 'prauc': 0.5933617105833193}\n",
      "Test:       {'precision': 0.5158802177850637, 'recall': 0.6544512663072631, 'f1': 0.5769621060298786, 'auc': 0.7438562671612109, 'prauc': 0.5629456593456137}\n"
     ]
    },
    {
     "name": "stderr",
     "output_type": "stream",
     "text": [
      "Training Batches: 100%|██████████| 1/1 [00:02<00:00,  2.63s/it]\n",
      "Running inference: 100%|██████████| 1/1 [00:03<00:00,  3.92s/it]\n",
      "Running inference: 100%|██████████| 1/1 [00:03<00:00,  3.91s/it]\n"
     ]
    },
    {
     "name": "stdout",
     "output_type": "stream",
     "text": [
      "Epoch: 007, Average Loss: 0.5848\n",
      "Validation: {'precision': 0.5265841223590291, 'recall': 0.694391087205735, 'f1': 0.598956171052362, 'auc': 0.7576411625247739, 'prauc': 0.5930496255353244}\n",
      "Test:       {'precision': 0.5109253556232425, 'recall': 0.6684574059849032, 'f1': 0.5791704713578808, 'auc': 0.7413731379664582, 'prauc': 0.5652114950939195}\n"
     ]
    },
    {
     "name": "stderr",
     "output_type": "stream",
     "text": [
      "Training Batches: 100%|██████████| 1/1 [00:01<00:00,  1.73s/it]\n",
      "Running inference: 100%|██████████| 1/1 [00:03<00:00,  3.88s/it]\n",
      "Running inference: 100%|██████████| 1/1 [00:04<00:00,  4.80s/it]\n"
     ]
    },
    {
     "name": "stdout",
     "output_type": "stream",
     "text": [
      "Epoch: 008, Average Loss: 0.5670\n",
      "Validation: {'precision': 0.5240711291014543, 'recall': 0.6963119477512557, 'f1': 0.5980367846721492, 'auc': 0.7587949317920225, 'prauc': 0.5985166411604772}\n",
      "Test:       {'precision': 0.5113287531055236, 'recall': 0.6711435149641767, 'f1': 0.580436400964425, 'auc': 0.7430107269618128, 'prauc': 0.5707809017083287}\n"
     ]
    },
    {
     "name": "stderr",
     "output_type": "stream",
     "text": [
      "Training Batches: 100%|██████████| 1/1 [00:01<00:00,  1.24s/it]\n",
      "Running inference: 100%|██████████| 1/1 [00:04<00:00,  4.25s/it]\n",
      "Running inference: 100%|██████████| 1/1 [00:04<00:00,  4.30s/it]\n"
     ]
    },
    {
     "name": "stdout",
     "output_type": "stream",
     "text": [
      "Epoch: 009, Average Loss: 0.5540\n",
      "Validation: {'precision': 0.5332248039062703, 'recall': 0.69208605455111, 'f1': 0.60235726332679, 'auc': 0.7643077356134707, 'prauc': 0.6082100462727495}\n",
      "Test:       {'precision': 0.5196034249654204, 'recall': 0.6636607828076292, 'f1': 0.5828629152854458, 'auc': 0.7479597969523836, 'prauc': 0.5791392840715881}\n"
     ]
    },
    {
     "name": "stderr",
     "output_type": "stream",
     "text": [
      "Training Batches: 100%|██████████| 1/1 [00:02<00:00,  2.13s/it]\n",
      "Running inference: 100%|██████████| 1/1 [00:04<00:00,  4.34s/it]\n",
      "Running inference: 100%|██████████| 1/1 [00:03<00:00,  3.42s/it]\n"
     ]
    },
    {
     "name": "stdout",
     "output_type": "stream",
     "text": [
      "Epoch: 010, Average Loss: 0.5429\n",
      "Validation: {'precision': 0.5421705426348183, 'recall': 0.6717249327685906, 'f1': 0.6000343121458336, 'auc': 0.7659679658115084, 'prauc': 0.6134512977653165}\n",
      "Test:       {'precision': 0.5263568309411629, 'recall': 0.6475441289319886, 'f1': 0.5806951086104435, 'auc': 0.7493642043491056, 'prauc': 0.5842433669681234}\n"
     ]
    },
    {
     "name": "stderr",
     "output_type": "stream",
     "text": [
      "Training Batches: 100%|██████████| 1/1 [00:02<00:00,  2.15s/it]\n",
      "Running inference: 100%|██████████| 1/1 [00:04<00:00,  4.33s/it]\n",
      "Running inference: 100%|██████████| 1/1 [00:03<00:00,  3.40s/it]\n"
     ]
    },
    {
     "name": "stdout",
     "output_type": "stream",
     "text": [
      "Epoch: 011, Average Loss: 0.5420\n",
      "Validation: {'precision': 0.5594011590461053, 'recall': 0.667499039568445, 'f1': 0.6086880314714489, 'auc': 0.7741700120790946, 'prauc': 0.6252959297097517}\n",
      "Test:       {'precision': 0.5378382758053187, 'recall': 0.6367996930148949, 'f1': 0.5831503069030405, 'auc': 0.7559559599487633, 'prauc': 0.5927443082927842}\n"
     ]
    },
    {
     "name": "stderr",
     "output_type": "stream",
     "text": [
      "Training Batches: 100%|██████████| 1/1 [00:02<00:00,  2.14s/it]\n",
      "Running inference: 100%|██████████| 1/1 [00:03<00:00,  3.82s/it]\n",
      "Running inference: 100%|██████████| 1/1 [00:03<00:00,  3.89s/it]\n"
     ]
    },
    {
     "name": "stdout",
     "output_type": "stream",
     "text": [
      "Epoch: 012, Average Loss: 0.5326\n",
      "Validation: {'precision': 0.5675365173140201, 'recall': 0.6642335766410599, 'f1': 0.6120895604779996, 'auc': 0.7793898917328008, 'prauc': 0.6324803884930321}\n",
      "Test:       {'precision': 0.5440397350984371, 'recall': 0.6304681504208932, 'f1': 0.5840739374362752, 'auc': 0.760441809500265, 'prauc': 0.5976708517863341}\n"
     ]
    },
    {
     "name": "stderr",
     "output_type": "stream",
     "text": [
      "Training Batches: 100%|██████████| 1/1 [00:02<00:00,  2.56s/it]\n",
      "Running inference: 100%|██████████| 1/1 [00:03<00:00,  3.89s/it]\n",
      "Running inference: 100%|██████████| 1/1 [00:03<00:00,  3.96s/it]\n"
     ]
    },
    {
     "name": "stdout",
     "output_type": "stream",
     "text": [
      "Epoch: 013, Average Loss: 0.5227\n",
      "Validation: {'precision': 0.5732600732591188, 'recall': 0.6613522858227788, 'f1': 0.6141633913854019, 'auc': 0.7809064295036643, 'prauc': 0.637031558330247}\n",
      "Test:       {'precision': 0.5528127623836225, 'recall': 0.631619339983439, 'f1': 0.5895943354885276, 'auc': 0.762767966678579, 'prauc': 0.6030481476186923}\n"
     ]
    },
    {
     "name": "stderr",
     "output_type": "stream",
     "text": [
      "Training Batches: 100%|██████████| 1/1 [00:02<00:00,  2.15s/it]\n",
      "Running inference: 100%|██████████| 1/1 [00:04<00:00,  4.39s/it]\n",
      "Running inference: 100%|██████████| 1/1 [00:03<00:00,  3.43s/it]\n"
     ]
    },
    {
     "name": "stdout",
     "output_type": "stream",
     "text": [
      "Epoch: 014, Average Loss: 0.5195\n",
      "Validation: {'precision': 0.5759705488611513, 'recall': 0.6611601997682267, 'f1': 0.6156322611646218, 'auc': 0.7810392693984776, 'prauc': 0.6391043362507346}\n",
      "Test:       {'precision': 0.5550287842862258, 'recall': 0.6289332310041655, 'f1': 0.5896743968892615, 'auc': 0.764126421605012, 'prauc': 0.6063266933758559}\n"
     ]
    },
    {
     "name": "stderr",
     "output_type": "stream",
     "text": [
      "Training Batches: 100%|██████████| 1/1 [00:02<00:00,  2.15s/it]\n",
      "Running inference: 100%|██████████| 1/1 [00:03<00:00,  3.80s/it]\n",
      "Running inference: 100%|██████████| 1/1 [00:04<00:00,  4.79s/it]\n"
     ]
    },
    {
     "name": "stdout",
     "output_type": "stream",
     "text": [
      "Epoch: 015, Average Loss: 0.5155\n",
      "Validation: {'precision': 0.5770208439237807, 'recall': 0.6540530157498001, 'f1': 0.6131268519555398, 'auc': 0.7832412783604836, 'prauc': 0.6368340028356252}\n",
      "Test:       {'precision': 0.5564282055650394, 'recall': 0.6252877973894373, 'f1': 0.5888517431413088, 'auc': 0.7657482783767839, 'prauc': 0.5997347817266598}\n"
     ]
    },
    {
     "name": "stderr",
     "output_type": "stream",
     "text": [
      "Training Batches: 100%|██████████| 1/1 [00:01<00:00,  1.27s/it]\n",
      "Running inference: 100%|██████████| 1/1 [00:04<00:00,  4.29s/it]\n",
      "Running inference: 100%|██████████| 1/1 [00:04<00:00,  4.40s/it]\n"
     ]
    },
    {
     "name": "stdout",
     "output_type": "stream",
     "text": [
      "Epoch: 016, Average Loss: 0.5301\n",
      "Validation: {'precision': 0.5893770954639327, 'recall': 0.6415674222039156, 'f1': 0.6143658553959757, 'auc': 0.7863847539254232, 'prauc': 0.6442132716030405}\n",
      "Test:       {'precision': 0.5674047829927947, 'recall': 0.6145433614723436, 'f1': 0.5900340744026475, 'auc': 0.7690405526034314, 'prauc': 0.608221005606341}\n"
     ]
    },
    {
     "name": "stderr",
     "output_type": "stream",
     "text": [
      "Training Batches: 100%|██████████| 1/1 [00:02<00:00,  2.14s/it]\n",
      "Running inference: 100%|██████████| 1/1 [00:04<00:00,  4.32s/it]\n",
      "Running inference: 100%|██████████| 1/1 [00:03<00:00,  3.45s/it]\n"
     ]
    },
    {
     "name": "stdout",
     "output_type": "stream",
     "text": [
      "Epoch: 017, Average Loss: 0.5213\n",
      "Validation: {'precision': 0.5921889191633203, 'recall': 0.6262005378397499, 'f1': 0.6087200024717169, 'auc': 0.783537075811533, 'prauc': 0.6471329601400226}\n",
      "Test:       {'precision': 0.5747063142427042, 'recall': 0.6007290867217945, 'f1': 0.5874296385285531, 'auc': 0.7674691827213993, 'prauc': 0.6158818804323859}\n"
     ]
    },
    {
     "name": "stderr",
     "output_type": "stream",
     "text": [
      "Training Batches: 100%|██████████| 1/1 [00:02<00:00,  2.15s/it]\n",
      "Running inference: 100%|██████████| 1/1 [00:03<00:00,  3.87s/it]\n",
      "Running inference: 100%|██████████| 1/1 [00:04<00:00,  4.30s/it]\n"
     ]
    },
    {
     "name": "stdout",
     "output_type": "stream",
     "text": [
      "Epoch: 018, Average Loss: 0.5152\n",
      "Validation: {'precision': 0.6037274096374177, 'recall': 0.6160199769484902, 'f1': 0.6098117462828623, 'auc': 0.7867682194894525, 'prauc': 0.6520339711533654}\n",
      "Test:       {'precision': 0.5838887830878235, 'recall': 0.5882578664608821, 'f1': 0.5860651770691012, 'auc': 0.7704470521001845, 'prauc': 0.6208178333103567}\n"
     ]
    },
    {
     "name": "stderr",
     "output_type": "stream",
     "text": [
      "Training Batches: 100%|██████████| 1/1 [00:02<00:00,  2.59s/it]\n",
      "Running inference: 100%|██████████| 1/1 [00:03<00:00,  3.85s/it]\n",
      "Running inference: 100%|██████████| 1/1 [00:03<00:00,  3.85s/it]\n"
     ]
    },
    {
     "name": "stdout",
     "output_type": "stream",
     "text": [
      "Epoch: 019, Average Loss: 0.5095\n",
      "Validation: {'precision': 0.6178431372536906, 'recall': 0.6052631578935742, 'f1': 0.6114884483275006, 'auc': 0.7940837495197848, 'prauc': 0.660206395236641}\n",
      "Test:       {'precision': 0.5947815773856596, 'recall': 0.5773215656166975, 'f1': 0.5859215216283399, 'auc': 0.7764625677775896, 'prauc': 0.6264225818034457}\n"
     ]
    },
    {
     "name": "stderr",
     "output_type": "stream",
     "text": [
      "Training Batches: 100%|██████████| 1/1 [00:02<00:00,  2.14s/it]\n",
      "Running inference: 100%|██████████| 1/1 [00:04<00:00,  4.36s/it]\n",
      "Running inference: 100%|██████████| 1/1 [00:03<00:00,  3.48s/it]\n"
     ]
    },
    {
     "name": "stdout",
     "output_type": "stream",
     "text": [
      "Epoch: 020, Average Loss: 0.5024\n",
      "Validation: {'precision': 0.6261625555992193, 'recall': 0.5948905109477625, 'f1': 0.6101260785324165, 'auc': 0.7977019951137226, 'prauc': 0.6644172812886405}\n",
      "Test:       {'precision': 0.5987780040721002, 'recall': 0.5640828856474212, 'f1': 0.5809128580738426, 'auc': 0.7792178911675923, 'prauc': 0.62927504165861}\n"
     ]
    },
    {
     "name": "stderr",
     "output_type": "stream",
     "text": [
      "Training Batches: 100%|██████████| 1/1 [00:02<00:00,  2.12s/it]\n",
      "Running inference: 100%|██████████| 1/1 [00:03<00:00,  3.83s/it]\n",
      "Running inference: 100%|██████████| 1/1 [00:04<00:00,  4.30s/it]\n"
     ]
    },
    {
     "name": "stdout",
     "output_type": "stream",
     "text": [
      "Epoch: 021, Average Loss: 0.5036\n",
      "Validation: {'precision': 0.6308808290142365, 'recall': 0.5847099500565027, 'f1': 0.6069185474932927, 'auc': 0.7982293038345426, 'prauc': 0.6656016477999107}\n",
      "Test:       {'precision': 0.6009975062331651, 'recall': 0.5548733691470551, 'f1': 0.577015158614153, 'auc': 0.7796345324279927, 'prauc': 0.63048834997061}\n"
     ]
    },
    {
     "name": "stderr",
     "output_type": "stream",
     "text": [
      "Training Batches: 100%|██████████| 1/1 [00:02<00:00,  2.56s/it]\n",
      "Running inference: 100%|██████████| 1/1 [00:03<00:00,  3.90s/it]\n",
      "Running inference: 100%|██████████| 1/1 [00:03<00:00,  3.93s/it]\n"
     ]
    },
    {
     "name": "stdout",
     "output_type": "stream",
     "text": [
      "Epoch: 022, Average Loss: 0.5019\n",
      "Validation: {'precision': 0.6358985290969177, 'recall': 0.5729927007288264, 'f1': 0.6028089270119164, 'auc': 0.798857799230789, 'prauc': 0.6673460603067992}\n",
      "Test:       {'precision': 0.6082121471330021, 'recall': 0.545663852646689, 'f1': 0.5752427134601305, 'auc': 0.7804218163970064, 'prauc': 0.6326200304502928}\n"
     ]
    },
    {
     "name": "stderr",
     "output_type": "stream",
     "text": [
      "Training Batches: 100%|██████████| 1/1 [00:02<00:00,  2.13s/it]\n",
      "Running inference: 100%|██████████| 1/1 [00:03<00:00,  3.83s/it]\n",
      "Running inference: 100%|██████████| 1/1 [00:04<00:00,  4.84s/it]\n"
     ]
    },
    {
     "name": "stdout",
     "output_type": "stream",
     "text": [
      "Epoch: 023, Average Loss: 0.4988\n",
      "Validation: {'precision': 0.6475391745737199, 'recall': 0.5635804840557749, 'f1': 0.6026496817846271, 'auc': 0.8021267760423566, 'prauc': 0.6721855013961244}\n",
      "Test:       {'precision': 0.6186701893425393, 'recall': 0.5391404451255964, 'f1': 0.5761738724060476, 'auc': 0.783971981121774, 'prauc': 0.6383489721910385}\n"
     ]
    },
    {
     "name": "stderr",
     "output_type": "stream",
     "text": [
      "Training Batches: 100%|██████████| 1/1 [00:01<00:00,  1.24s/it]\n",
      "Running inference: 100%|██████████| 1/1 [00:04<00:00,  4.24s/it]\n",
      "Running inference: 100%|██████████| 1/1 [00:04<00:00,  4.36s/it]\n"
     ]
    },
    {
     "name": "stdout",
     "output_type": "stream",
     "text": [
      "Epoch: 024, Average Loss: 0.4945\n",
      "Validation: {'precision': 0.6584978443370582, 'recall': 0.5574337303101087, 'f1': 0.6037657289352935, 'auc': 0.8050579960459854, 'prauc': 0.6770059335681642}\n",
      "Test:       {'precision': 0.6258255522645734, 'recall': 0.5272448196459569, 'f1': 0.5723211446760915, 'auc': 0.7872277772342209, 'prauc': 0.6442757524078138}\n",
      "\n",
      "Early stopping triggered after 24 epochs (no improvement for 10 epochs).\n",
      "\n",
      "Best validation performance:\n",
      "{'precision': 0.5759705488611513, 'recall': 0.6611601997682267, 'f1': 0.6156322611646218, 'auc': 0.7810392693984776, 'prauc': 0.6391043362507346}\n",
      "Corresponding test performance:\n",
      "{'precision': 0.5550287842862258, 'recall': 0.6289332310041655, 'f1': 0.5896743968892615, 'auc': 0.764126421605012, 'prauc': 0.6063266933758559}\n",
      "Corresponding test-long performance:\n",
      "{'precision': 0.6030805687168065, 'recall': 0.6701777485143504, 'f1': 0.6348612360451613, 'auc': 0.7357905653961581, 'prauc': 0.6652826341523014}\n",
      "[INFO] Random seed set to 1445662585\n",
      "Training with seed: 1445662585\n"
     ]
    },
    {
     "name": "stderr",
     "output_type": "stream",
     "text": [
      "Training Batches: 100%|██████████| 1/1 [00:02<00:00,  2.13s/it]\n",
      "Running inference: 100%|██████████| 1/1 [00:04<00:00,  4.45s/it]\n",
      "Running inference: 100%|██████████| 1/1 [00:03<00:00,  3.40s/it]\n"
     ]
    },
    {
     "name": "stdout",
     "output_type": "stream",
     "text": [
      "Epoch: 001, Average Loss: 0.7002\n",
      "Validation: {'precision': 0.44306358381438865, 'recall': 0.5889358432566483, 'f1': 0.5056902474493856, 'auc': 0.651799871766779, 'prauc': 0.4951956174604305}\n",
      "Test:       {'precision': 0.4269393511982695, 'recall': 0.5807751343043347, 'f1': 0.49211509835096884, 'auc': 0.6376055293964201, 'prauc': 0.47725248080101546}\n"
     ]
    },
    {
     "name": "stderr",
     "output_type": "stream",
     "text": [
      "Training Batches: 100%|██████████| 1/1 [00:02<00:00,  2.12s/it]\n",
      "Running inference: 100%|██████████| 1/1 [00:04<00:00,  4.40s/it]\n",
      "Running inference: 100%|██████████| 1/1 [00:03<00:00,  3.46s/it]\n"
     ]
    },
    {
     "name": "stdout",
     "output_type": "stream",
     "text": [
      "Epoch: 002, Average Loss: 0.6836\n",
      "Validation: {'precision': 0.5176235867867045, 'recall': 0.44852093737908466, 'f1': 0.48060100356632035, 'auc': 0.6717045842717038, 'prauc': 0.5068650145167153}\n",
      "Test:       {'precision': 0.5003368515596219, 'recall': 0.42747505755865794, 'f1': 0.46104500278983995, 'auc': 0.655881212071701, 'prauc': 0.48817221561799284}\n"
     ]
    },
    {
     "name": "stderr",
     "output_type": "stream",
     "text": [
      "Training Batches: 100%|██████████| 1/1 [00:02<00:00,  2.16s/it]\n",
      "Running inference: 100%|██████████| 1/1 [00:03<00:00,  3.89s/it]\n",
      "Running inference: 100%|██████████| 1/1 [00:04<00:00,  4.86s/it]\n"
     ]
    },
    {
     "name": "stdout",
     "output_type": "stream",
     "text": [
      "Epoch: 003, Average Loss: 0.6669\n",
      "Validation: {'precision': 0.5477209770824787, 'recall': 0.4177871686507534, 'f1': 0.4740111098329001, 'auc': 0.6847665207666787, 'prauc': 0.5136175774892784}\n",
      "Test:       {'precision': 0.5261793675465885, 'recall': 0.38948580199464794, 'f1': 0.4476295430707493, 'auc': 0.6680721370099537, 'prauc': 0.4925063499692534}\n"
     ]
    },
    {
     "name": "stderr",
     "output_type": "stream",
     "text": [
      "Training Batches: 100%|██████████| 1/1 [00:01<00:00,  1.24s/it]\n",
      "Running inference: 100%|██████████| 1/1 [00:04<00:00,  4.35s/it]\n",
      "Running inference: 100%|██████████| 1/1 [00:04<00:00,  4.30s/it]\n"
     ]
    },
    {
     "name": "stdout",
     "output_type": "stream",
     "text": [
      "Epoch: 004, Average Loss: 0.6489\n",
      "Validation: {'precision': 0.5568557618912316, 'recall': 0.4204763734144824, 'f1': 0.4791507010172924, 'auc': 0.6952281923920356, 'prauc': 0.5211355673536071}\n",
      "Test:       {'precision': 0.5365272631007504, 'recall': 0.3889102072133751, 'f1': 0.4509454901206532, 'auc': 0.6780382103361613, 'prauc': 0.4990033248214141}\n"
     ]
    },
    {
     "name": "stderr",
     "output_type": "stream",
     "text": [
      "Training Batches: 100%|██████████| 1/1 [00:02<00:00,  2.13s/it]\n",
      "Running inference: 100%|██████████| 1/1 [00:04<00:00,  4.34s/it]\n",
      "Running inference: 100%|██████████| 1/1 [00:03<00:00,  3.44s/it]\n"
     ]
    },
    {
     "name": "stdout",
     "output_type": "stream",
     "text": [
      "Epoch: 005, Average Loss: 0.6298\n",
      "Validation: {'precision': 0.5612590799017887, 'recall': 0.4452554744516995, 'f1': 0.4965724029488142, 'auc': 0.7034723770079304, 'prauc': 0.5305588721595834}\n",
      "Test:       {'precision': 0.5397184514818006, 'recall': 0.41193399846429024, 'f1': 0.4672470027061089, 'auc': 0.6856285704405841, 'prauc': 0.5068835272938194}\n"
     ]
    },
    {
     "name": "stderr",
     "output_type": "stream",
     "text": [
      "Training Batches: 100%|██████████| 1/1 [00:02<00:00,  2.13s/it]\n",
      "Running inference: 100%|██████████| 1/1 [00:04<00:00,  4.35s/it]\n",
      "Running inference: 100%|██████████| 1/1 [00:03<00:00,  3.40s/it]\n"
     ]
    },
    {
     "name": "stdout",
     "output_type": "stream",
     "text": [
      "Epoch: 006, Average Loss: 0.6117\n",
      "Validation: {'precision': 0.5803003308715188, 'recall': 0.4379562043787208, 'f1': 0.4991789770342189, 'auc': 0.7203516823403486, 'prauc': 0.5437603911492997}\n",
      "Test:       {'precision': 0.5598211937929009, 'recall': 0.40848042977665294, 'f1': 0.4723238997245316, 'auc': 0.7020248099838625, 'prauc': 0.5198024226921647}\n"
     ]
    },
    {
     "name": "stderr",
     "output_type": "stream",
     "text": [
      "Training Batches: 100%|██████████| 1/1 [00:02<00:00,  2.17s/it]\n",
      "Running inference: 100%|██████████| 1/1 [00:03<00:00,  3.90s/it]\n",
      "Running inference: 100%|██████████| 1/1 [00:03<00:00,  3.88s/it]\n"
     ]
    },
    {
     "name": "stdout",
     "output_type": "stream",
     "text": [
      "Epoch: 007, Average Loss: 0.5932\n",
      "Validation: {'precision': 0.5698166431580399, 'recall': 0.46561659623421897, 'f1': 0.5124735679882421, 'auc': 0.7292486863442924, 'prauc': 0.5555257168594872}\n",
      "Test:       {'precision': 0.5525872442826653, 'recall': 0.4405218726008432, 'f1': 0.4902316594162027, 'auc': 0.710635202489846, 'prauc': 0.5301321571948827}\n"
     ]
    },
    {
     "name": "stderr",
     "output_type": "stream",
     "text": [
      "Training Batches: 100%|██████████| 1/1 [00:02<00:00,  2.64s/it]\n",
      "Running inference: 100%|██████████| 1/1 [00:03<00:00,  3.81s/it]\n",
      "Running inference: 100%|██████████| 1/1 [00:03<00:00,  3.89s/it]\n"
     ]
    },
    {
     "name": "stdout",
     "output_type": "stream",
     "text": [
      "Epoch: 008, Average Loss: 0.5755\n",
      "Validation: {'precision': 0.5663176265258152, 'recall': 0.4986553976171751, 'f1': 0.530337073670785, 'auc': 0.7372901867295008, 'prauc': 0.5683743091571565}\n",
      "Test:       {'precision': 0.5448902682319998, 'recall': 0.47160399078957865, 'f1': 0.5056052608893952, 'auc': 0.7184033542317231, 'prauc': 0.5415045596356761}\n"
     ]
    },
    {
     "name": "stderr",
     "output_type": "stream",
     "text": [
      "Training Batches: 100%|██████████| 1/1 [00:02<00:00,  2.17s/it]\n",
      "Running inference: 100%|██████████| 1/1 [00:04<00:00,  4.39s/it]\n",
      "Running inference: 100%|██████████| 1/1 [00:03<00:00,  3.42s/it]\n"
     ]
    },
    {
     "name": "stdout",
     "output_type": "stream",
     "text": [
      "Epoch: 009, Average Loss: 0.5603\n",
      "Validation: {'precision': 0.5677770794037968, 'recall': 0.5205532078361111, 'f1': 0.5431405902583506, 'auc': 0.7449377741041621, 'prauc': 0.5826696159063516}\n",
      "Test:       {'precision': 0.5442796610157961, 'recall': 0.49290099769667517, 'f1': 0.517317755784486, 'auc': 0.7258350096553643, 'prauc': 0.5542721578319214}\n"
     ]
    },
    {
     "name": "stderr",
     "output_type": "stream",
     "text": [
      "Training Batches: 100%|██████████| 1/1 [00:02<00:00,  2.14s/it]\n",
      "Running inference: 100%|██████████| 1/1 [00:03<00:00,  3.86s/it]\n",
      "Running inference: 100%|██████████| 1/1 [00:04<00:00,  4.79s/it]\n"
     ]
    },
    {
     "name": "stdout",
     "output_type": "stream",
     "text": [
      "Epoch: 010, Average Loss: 0.5481\n",
      "Validation: {'precision': 0.5818937240310914, 'recall': 0.5111409911630597, 'f1': 0.5442274211370272, 'auc': 0.7544113565721975, 'prauc': 0.597367818573279}\n",
      "Test:       {'precision': 0.562707365625829, 'recall': 0.4881043745194012, 'f1': 0.5227576237100418, 'auc': 0.7354945765025499, 'prauc': 0.5682179680591184}\n"
     ]
    },
    {
     "name": "stderr",
     "output_type": "stream",
     "text": [
      "Training Batches: 100%|██████████| 1/1 [00:01<00:00,  1.24s/it]\n",
      "Running inference: 100%|██████████| 1/1 [00:04<00:00,  4.29s/it]\n",
      "Running inference: 100%|██████████| 1/1 [00:04<00:00,  4.29s/it]\n"
     ]
    },
    {
     "name": "stdout",
     "output_type": "stream",
     "text": [
      "Epoch: 011, Average Loss: 0.5347\n",
      "Validation: {'precision': 0.612128712869772, 'recall': 0.4750288129072704, 'f1': 0.5349340206029111, 'auc': 0.76797188779612, 'prauc': 0.6140672505126406}\n",
      "Test:       {'precision': 0.5908412145331239, 'recall': 0.45548733691393806, 'f1': 0.5144095292104005, 'auc': 0.7498323278596132, 'prauc': 0.5863012919543726}\n"
     ]
    },
    {
     "name": "stderr",
     "output_type": "stream",
     "text": [
      "Training Batches: 100%|██████████| 1/1 [00:02<00:00,  2.14s/it]\n",
      "Running inference: 100%|██████████| 1/1 [00:04<00:00,  4.37s/it]\n",
      "Running inference: 100%|██████████| 1/1 [00:03<00:00,  3.47s/it]\n"
     ]
    },
    {
     "name": "stdout",
     "output_type": "stream",
     "text": [
      "Epoch: 012, Average Loss: 0.5276\n",
      "Validation: {'precision': 0.5875585854269545, 'recall': 0.5297733384546105, 'f1': 0.5571717121839649, 'auc': 0.7498320212634269, 'prauc': 0.6055398629205182}\n",
      "Test:       {'precision': 0.5588046958365874, 'recall': 0.5023023791241322, 'f1': 0.5290492018434607, 'auc': 0.7292254651226833, 'prauc': 0.5721166787706458}\n"
     ]
    },
    {
     "name": "stderr",
     "output_type": "stream",
     "text": [
      "Training Batches: 100%|██████████| 1/1 [00:02<00:00,  2.16s/it]\n",
      "Running inference: 100%|██████████| 1/1 [00:04<00:00,  4.36s/it]\n",
      "Running inference: 100%|██████████| 1/1 [00:03<00:00,  3.41s/it]\n"
     ]
    },
    {
     "name": "stdout",
     "output_type": "stream",
     "text": [
      "Epoch: 013, Average Loss: 0.5230\n",
      "Validation: {'precision': 0.557766615145754, 'recall': 0.5545524394918276, 'f1': 0.5561548784510991, 'auc': 0.7355567396204289, 'prauc': 0.5889584205032208}\n",
      "Test:       {'precision': 0.5306942053919856, 'recall': 0.5324251726774129, 'f1': 0.5315582748572463, 'auc': 0.7144986015924144, 'prauc': 0.5539976108665245}\n"
     ]
    },
    {
     "name": "stderr",
     "output_type": "stream",
     "text": [
      "Training Batches: 100%|██████████| 1/1 [00:02<00:00,  2.15s/it]\n",
      "Running inference: 100%|██████████| 1/1 [00:03<00:00,  3.84s/it]\n",
      "Running inference: 100%|██████████| 1/1 [00:03<00:00,  3.92s/it]\n"
     ]
    },
    {
     "name": "stdout",
     "output_type": "stream",
     "text": [
      "Epoch: 014, Average Loss: 0.5205\n",
      "Validation: {'precision': 0.5822864321595849, 'recall': 0.5341913177093082, 'f1': 0.5572029603457698, 'auc': 0.7553478302565965, 'prauc': 0.6088828739416329}\n",
      "Test:       {'precision': 0.5568610994533008, 'recall': 0.5092095164994067, 'f1': 0.5319703297453438, 'auc': 0.7344674014687242, 'prauc': 0.5728344852990748}\n"
     ]
    },
    {
     "name": "stderr",
     "output_type": "stream",
     "text": [
      "Training Batches: 100%|██████████| 1/1 [00:02<00:00,  2.57s/it]\n",
      "Running inference: 100%|██████████| 1/1 [00:03<00:00,  3.94s/it]\n",
      "Running inference: 100%|██████████| 1/1 [00:03<00:00,  3.84s/it]\n"
     ]
    },
    {
     "name": "stdout",
     "output_type": "stream",
     "text": [
      "Epoch: 015, Average Loss: 0.5169\n",
      "Validation: {'precision': 0.6210298363796414, 'recall': 0.49577410679889405, 'f1': 0.5513779057645577, 'auc': 0.7759314760555641, 'prauc': 0.6287506817517013}\n",
      "Test:       {'precision': 0.5992320614336472, 'recall': 0.4790867229461261, 'f1': 0.5324661428378843, 'auc': 0.7565726409940863, 'prauc': 0.5940245409715011}\n"
     ]
    },
    {
     "name": "stderr",
     "output_type": "stream",
     "text": [
      "Training Batches: 100%|██████████| 1/1 [00:02<00:00,  2.12s/it]\n",
      "Running inference: 100%|██████████| 1/1 [00:04<00:00,  4.31s/it]\n",
      "Running inference: 100%|██████████| 1/1 [00:03<00:00,  3.45s/it]\n"
     ]
    },
    {
     "name": "stdout",
     "output_type": "stream",
     "text": [
      "Epoch: 016, Average Loss: 0.5118\n",
      "Validation: {'precision': 0.6483337848803893, 'recall': 0.4596619285431048, 'f1': 0.5379341302454904, 'auc': 0.7824670462666441, 'prauc': 0.6353743917187318}\n",
      "Test:       {'precision': 0.6217532467515645, 'recall': 0.44090560245502514, 'f1': 0.5159407225796674, 'auc': 0.7655983568296135, 'prauc': 0.6035551501604045}\n"
     ]
    },
    {
     "name": "stderr",
     "output_type": "stream",
     "text": [
      "Training Batches: 100%|██████████| 1/1 [00:02<00:00,  2.12s/it]\n",
      "Running inference: 100%|██████████| 1/1 [00:03<00:00,  3.89s/it]\n",
      "Running inference: 100%|██████████| 1/1 [00:04<00:00,  4.85s/it]\n"
     ]
    },
    {
     "name": "stdout",
     "output_type": "stream",
     "text": [
      "Epoch: 017, Average Loss: 0.5111\n",
      "Validation: {'precision': 0.6400425985073481, 'recall': 0.46177487514317755, 'f1': 0.5364873863370094, 'auc': 0.77425931937665, 'prauc': 0.6309904477123942}\n",
      "Test:       {'precision': 0.6107453252551732, 'recall': 0.44493476592393527, 'f1': 0.5148185099407193, 'auc': 0.7548793763322622, 'prauc': 0.5951362259039622}\n"
     ]
    },
    {
     "name": "stderr",
     "output_type": "stream",
     "text": [
      "Training Batches: 100%|██████████| 1/1 [00:01<00:00,  1.26s/it]\n",
      "Running inference: 100%|██████████| 1/1 [00:04<00:00,  4.26s/it]\n",
      "Running inference: 100%|██████████| 1/1 [00:04<00:00,  4.29s/it]\n"
     ]
    },
    {
     "name": "stdout",
     "output_type": "stream",
     "text": [
      "Epoch: 018, Average Loss: 0.5047\n",
      "Validation: {'precision': 0.6163127413112541, 'recall': 0.4905877833259881, 'f1': 0.5463101554911444, 'auc': 0.7565333940522471, 'prauc': 0.6175103518057176}\n",
      "Test:       {'precision': 0.5891491395779418, 'recall': 0.4729470452792154, 'f1': 0.5246913530834255, 'auc': 0.7359721928017455, 'prauc': 0.5799147205035401}\n"
     ]
    },
    {
     "name": "stderr",
     "output_type": "stream",
     "text": [
      "Training Batches: 100%|██████████| 1/1 [00:02<00:00,  2.14s/it]\n",
      "Running inference: 100%|██████████| 1/1 [00:04<00:00,  4.32s/it]\n",
      "Running inference: 100%|██████████| 1/1 [00:03<00:00,  3.41s/it]\n"
     ]
    },
    {
     "name": "stdout",
     "output_type": "stream",
     "text": [
      "Epoch: 019, Average Loss: 0.5052\n",
      "Validation: {'precision': 0.6327669287328613, 'recall': 0.47925470610741594, 'f1': 0.5454147945257258, 'auc': 0.7586745836141457, 'prauc': 0.6223643378325097}\n",
      "Test:       {'precision': 0.6023098167195523, 'recall': 0.46028396009121203, 'f1': 0.5218053240713326, 'auc': 0.7383874439492301, 'prauc': 0.5852022638708972}\n"
     ]
    },
    {
     "name": "stderr",
     "output_type": "stream",
     "text": [
      "Training Batches: 100%|██████████| 1/1 [00:02<00:00,  2.13s/it]\n",
      "Running inference: 100%|██████████| 1/1 [00:04<00:00,  4.31s/it]\n",
      "Running inference: 100%|██████████| 1/1 [00:03<00:00,  3.39s/it]\n"
     ]
    },
    {
     "name": "stdout",
     "output_type": "stream",
     "text": [
      "Epoch: 020, Average Loss: 0.5025\n",
      "Validation: {'precision': 0.6781574130546731, 'recall': 0.4270072992692528, 'f1': 0.5240452569260046, 'auc': 0.7802103507157866, 'prauc': 0.6428569013284786}\n",
      "Test:       {'precision': 0.6359295732598153, 'recall': 0.4088641596308349, 'f1': 0.4977227559497028, 'auc': 0.7612383374178745, 'prauc': 0.608479656698775}\n"
     ]
    },
    {
     "name": "stderr",
     "output_type": "stream",
     "text": [
      "Training Batches: 100%|██████████| 1/1 [00:02<00:00,  2.14s/it]\n",
      "Running inference: 100%|██████████| 1/1 [00:03<00:00,  3.92s/it]\n",
      "Running inference: 100%|██████████| 1/1 [00:03<00:00,  3.92s/it]\n"
     ]
    },
    {
     "name": "stdout",
     "output_type": "stream",
     "text": [
      "Epoch: 021, Average Loss: 0.4966\n",
      "Validation: {'precision': 0.6924596641399656, 'recall': 0.4039569727230043, 'f1': 0.5102511175092158, 'auc': 0.7883432497719745, 'prauc': 0.6507329721835131}\n",
      "Test:       {'precision': 0.6572815533959312, 'recall': 0.38967766692173894, 'f1': 0.48927968696604945, 'auc': 0.7706903808447837, 'prauc': 0.6184739110109744}\n"
     ]
    },
    {
     "name": "stderr",
     "output_type": "stream",
     "text": [
      "Training Batches: 100%|██████████| 1/1 [00:02<00:00,  2.58s/it]\n",
      "Running inference: 100%|██████████| 1/1 [00:03<00:00,  3.90s/it]\n",
      "Running inference: 100%|██████████| 1/1 [00:03<00:00,  3.90s/it]\n"
     ]
    },
    {
     "name": "stdout",
     "output_type": "stream",
     "text": [
      "Epoch: 022, Average Loss: 0.4978\n",
      "Validation: {'precision': 0.6956950377893668, 'recall': 0.4066461774867333, 'f1': 0.5132743316257214, 'auc': 0.7887139033186327, 'prauc': 0.6534694882012366}\n",
      "Test:       {'precision': 0.6594155844134435, 'recall': 0.38967766692173894, 'f1': 0.48986974930909943, 'auc': 0.7718738735377696, 'prauc': 0.6213832822640509}\n"
     ]
    },
    {
     "name": "stderr",
     "output_type": "stream",
     "text": [
      "Training Batches: 100%|██████████| 1/1 [00:02<00:00,  2.15s/it]\n",
      "Running inference: 100%|██████████| 1/1 [00:04<00:00,  4.40s/it]\n",
      "Running inference: 100%|██████████| 1/1 [00:03<00:00,  3.44s/it]\n"
     ]
    },
    {
     "name": "stdout",
     "output_type": "stream",
     "text": [
      "Epoch: 023, Average Loss: 0.4921\n",
      "Validation: {'precision': 0.6937618147426158, 'recall': 0.4229734921236593, 'f1': 0.5255369881328291, 'auc': 0.7920220227273882, 'prauc': 0.6583738996917066}\n",
      "Test:       {'precision': 0.6636420525636306, 'recall': 0.40694551035992527, 'f1': 0.5045195005193635, 'auc': 0.7753420224115339, 'prauc': 0.6263552268125565}\n"
     ]
    },
    {
     "name": "stderr",
     "output_type": "stream",
     "text": [
      "Training Batches: 100%|██████████| 1/1 [00:02<00:00,  2.19s/it]\n",
      "Running inference: 100%|██████████| 1/1 [00:03<00:00,  3.90s/it]\n",
      "Running inference: 100%|██████████| 1/1 [00:04<00:00,  4.92s/it]"
     ]
    },
    {
     "name": "stdout",
     "output_type": "stream",
     "text": [
      "Epoch: 024, Average Loss: 0.4882\n",
      "Validation: {'precision': 0.6872781065068424, 'recall': 0.4462159047244598, 'f1': 0.5411134357093957, 'auc': 0.7926746725446194, 'prauc': 0.6613650631382965}\n",
      "Test:       {'precision': 0.6610619469007049, 'recall': 0.42996930161084046, 'f1': 0.5210416134514276, 'auc': 0.775839241780185, 'prauc': 0.6284720857042837}\n",
      "\n",
      "Early stopping triggered after 24 epochs (no improvement for 10 epochs).\n",
      "\n",
      "Best validation performance:\n",
      "{'precision': 0.5822864321595849, 'recall': 0.5341913177093082, 'f1': 0.5572029603457698, 'auc': 0.7553478302565965, 'prauc': 0.6088828739416329}\n",
      "Corresponding test performance:\n",
      "{'precision': 0.5568610994533008, 'recall': 0.5092095164994067, 'f1': 0.5319703297453438, 'auc': 0.7344674014687242, 'prauc': 0.5728344852990748}\n",
      "Corresponding test-long performance:\n",
      "{'precision': 0.6578947368342357, 'recall': 0.362080315994983, 'f1': 0.4670912905333676, 'auc': 0.7062272646052506, 'prauc': 0.6290622271436906}\n"
     ]
    },
    {
     "name": "stderr",
     "output_type": "stream",
     "text": [
      "\n"
     ]
    }
   ],
   "source": [
    "final_metrics, final_long_seq_metrics = [], []\n",
    "\n",
    "for seed in seeds:\n",
    "    set_random_seed(seed)\n",
    "    print(f\"Training with seed: {seed}\")\n",
    "    \n",
    "    # Initialize model, optimizer, and loss function\n",
    "    model = SetGNN(args, tokenizer).to(device)\n",
    "    optimizer = torch.optim.AdamW(model.parameters(), lr=args[\"lr\"])\n",
    "    \n",
    "    best_test_metric, best_test_long_seq_metric = train_with_early_stopping(\n",
    "        model, \n",
    "        train_dataloader, \n",
    "        val_dataloader, \n",
    "        test_dataloader,\n",
    "        optimizer, \n",
    "        loss_fn, \n",
    "        device, \n",
    "        args,\n",
    "        val_long_seq_idx,\n",
    "        test_long_seq_idx,\n",
    "        task_type=task_type,\n",
    "        eval_metric = \"f1\")\n",
    "    \n",
    "    final_metrics.append(best_test_metric)\n",
    "    final_long_seq_metrics.append(best_test_long_seq_metric)"
   ]
  },
  {
   "cell_type": "code",
   "execution_count": 13,
   "id": "85433114-11e1-41a3-a0f0-88be914cff49",
   "metadata": {},
   "outputs": [],
   "source": [
    "import numpy as np\n",
    "def topk_avg_performance_formatted(performances, long_seq_performances, k=5):\n",
    "    metrics = [\"f1\", \"auc\", \"prauc\"]\n",
    "    scores = {m: np.array([p[m] for p in performances]) for m in metrics}\n",
    "\n",
    "    # 计算排名（值越大排名越靠前）\n",
    "    ranks = {m: (-scores[m]).argsort().argsort() + 1 for m in metrics}\n",
    "    avg_ranks = np.mean(np.stack([ranks[m] for m in metrics], axis=1), axis=1)\n",
    "\n",
    "    # 选 top-k\n",
    "    topk_idx = np.argsort(avg_ranks)[:k]\n",
    "    final_avg = {m: np.mean([performances[i][m] for i in topk_idx]) for m in performances[0].keys()}\n",
    "    final_std = {m: np.std([performances[i][m] for i in topk_idx], ddof=0) for m in performances[0].keys()}\n",
    "    final_long_seq_avg = {m: np.mean([long_seq_performances[i][m] for i in topk_idx]) for m in long_seq_performances[0].keys()}\n",
    "    final_long_seq_std = {m: np.std([long_seq_performances[i][m] for i in topk_idx], ddof=0) for m in long_seq_performances[0].keys()}\n",
    "\n",
    "    # 打印结果（转百分比，均保留两位小数）\n",
    "    print(\"Final Metrics:\")\n",
    "    for m in performances[0].keys():\n",
    "        mean_val = final_avg[m] * 100\n",
    "        std_val = final_std[m] * 100\n",
    "        print(f\"{m}: {mean_val:.2f} ± {std_val:.2f}\")\n",
    "    print(\"\\nFinal Long Sequence Metrics:\")\n",
    "    for m in long_seq_performances[0].keys():\n",
    "        mean_val = final_long_seq_avg[m] * 100\n",
    "        std_val = final_long_seq_std[m] * 100\n",
    "        print(f\"{m}: {mean_val:.2f} ± {std_val:.2f}\")"
   ]
  },
  {
   "cell_type": "code",
   "execution_count": 14,
   "id": "68a2f031-3bca-403b-a1ca-9599bf3cec87",
   "metadata": {},
   "outputs": [],
   "source": [
    "def print_per_class_performance(dfs, col_name=\"prauc\"):\n",
    "    \"\"\"\n",
    "    输入一个 DataFrame 列表，对每个疾病在所有表格的指定列计算 mean ± std 并打印。\n",
    "\n",
    "    参数:\n",
    "        dfs (list[pd.DataFrame]): 多个表格组成的列表\n",
    "        col_name (str): 要计算的指标列名 (默认: \"prauc\")\n",
    "    \"\"\"\n",
    "    # 拼接所有表格\n",
    "    all_values = pd.concat(dfs, axis=0)\n",
    "\n",
    "    # 按疾病分组，计算 mean 和 std\n",
    "    grouped = all_values.groupby(all_values.index)[col_name].agg([\"mean\", \"std\"])\n",
    "\n",
    "    # 打印\n",
    "    for disease, row in grouped.iterrows():\n",
    "        mean_val = row[\"mean\"] * 100\n",
    "        std_val = row[\"std\"] * 100\n",
    "        print(f\"{disease}: {mean_val:.2f} ± {std_val:.2f}\")"
   ]
  },
  {
   "cell_type": "code",
   "execution_count": 15,
   "id": "d82d2dab-0b4a-494b-97a7-54b6008123c6",
   "metadata": {
    "tags": []
   },
   "outputs": [
    {
     "name": "stdout",
     "output_type": "stream",
     "text": [
      "Final Metrics:\n",
      "precision: 58.25 ± 1.72\n",
      "recall: 58.32 ± 2.72\n",
      "f1: 58.20 ± 0.76\n",
      "auc: 77.11 ± 0.47\n",
      "prauc: 62.12 ± 0.80\n",
      "\n",
      "Final Long Sequence Metrics:\n",
      "precision: 63.93 ± 2.40\n",
      "recall: 54.90 ± 4.12\n",
      "f1: 58.91 ± 1.75\n",
      "auc: 73.32 ± 0.79\n",
      "prauc: 67.22 ± 0.89\n"
     ]
    }
   ],
   "source": [
    "if task_type == \"binary\":\n",
    "    topk_avg_performance_formatted(final_metrics, final_long_seq_metrics)\n",
    "else:\n",
    "    final_metrics_global = [metrics[\"global\"] for metrics in final_metrics]\n",
    "    final_metrics_per_class = [metrics[\"per_class\"] for metrics in final_metrics]\n",
    "    final_long_seq_metrics_global = [metrics[\"global\"] for metrics in final_long_seq_metrics]\n",
    "    final_long_seq_metrics_per_class = [metrics[\"per_class\"] for metrics in final_long_seq_metrics]\n",
    "    topk_avg_performance_formatted(final_metrics_global, final_long_seq_metrics_global)\n",
    "    print(\"\\nPer-class performance, all patients:\")\n",
    "    print_per_class_performance(final_metrics_per_class, col_name=\"prauc\")\n",
    "    print(\"\\nPer-class performance, long seq:\")\n",
    "    print_per_class_performance(final_long_seq_metrics_per_class, col_name=\"prauc\")"
   ]
  }
 ],
 "metadata": {
  "kernelspec": {
   "display_name": "heart-cuda",
   "language": "python",
   "name": "heart-cuda"
  },
  "language_info": {
   "codemirror_mode": {
    "name": "ipython",
    "version": 3
   },
   "file_extension": ".py",
   "mimetype": "text/x-python",
   "name": "python",
   "nbconvert_exporter": "python",
   "pygments_lexer": "ipython3",
   "version": "3.10.18"
  }
 },
 "nbformat": 4,
 "nbformat_minor": 5
}
