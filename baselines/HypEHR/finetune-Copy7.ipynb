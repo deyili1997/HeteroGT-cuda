{
 "cells": [
  {
   "cell_type": "code",
   "execution_count": 1,
   "id": "105bbf2f",
   "metadata": {},
   "outputs": [
    {
     "name": "stderr",
     "output_type": "stream",
     "text": [
      "Disabling PyTorch because PyTorch >= 2.1 is required but found 1.13.1\n",
      "None of PyTorch, TensorFlow >= 2.0, or Flax have been found. Models won't be available and only tokenizers, configuration and file/data utilities can be used.\n"
     ]
    }
   ],
   "source": [
    "import torch\n",
    "import random\n",
    "from model import SetGNN \n",
    "import pickle\n",
    "from tokenizer import EHRTokenizer\n",
    "from dataset import FinetuneHGDataset, batcher_SetGNN_finetune\n",
    "from torch.utils.data import DataLoader\n",
    "import torch.nn.functional as F\n",
    "from train import PHENO_ORDER, train_with_early_stopping\n",
    "from set_seed import set_random_seed\n",
    "import pandas as pd"
   ]
  },
  {
   "cell_type": "code",
   "execution_count": 2,
   "id": "eb757cdd",
   "metadata": {},
   "outputs": [
    {
     "name": "stdout",
     "output_type": "stream",
     "text": [
      "cuda\n"
     ]
    }
   ],
   "source": [
    "device = torch.device(\"cuda\" if torch.cuda.is_available() else \"cpu\")\n",
    "print(device)"
   ]
  },
  {
   "cell_type": "code",
   "execution_count": 3,
   "id": "89793d45",
   "metadata": {},
   "outputs": [],
   "source": [
    "args = {\n",
    "    \"dataset\": \"MIMIC-III\", \n",
    "    \"task\": \"next_diag_12m\",  # options: death, stay, readmission, next_diag_6m, next_diag_12m\n",
    "    \"special_tokens\":[\"[PAD]\", \"[CLS]\"],\n",
    "    \"predicted_token_type\": [\"diag\", \"med\"],\n",
    "    \"batch_size\": 256,\n",
    "    \"lr\": 1e-3,\n",
    "    \"epochs\": 500,\n",
    "    \"model_name\": \"HG\",\n",
    "    \"early_stop_patience\": 10,\n",
    "    # model hyperparameters\n",
    "    \"level\": \"patient\",  # \"visit\" or \"patient\"\n",
    "    \"hg_all_num_layers\": 3,\n",
    "    \"hg_use_type_embed\": True,\n",
    "    \"MLP_num_layers\": 2,\n",
    "    \"hg_aggregate\": \"mean\",\n",
    "    \"hg_dropout\": 0.0,\n",
    "    \"normtype\": \"all_one\",\n",
    "    \"add_self_loop\": True,\n",
    "    \"hg_normalization\": \"ln\",\n",
    "    \"hg_hidden_size\": 128,\n",
    "    \"PMA\": True,\n",
    "    \"hg_num_heads\": 4,\n",
    "}"
   ]
  },
  {
   "cell_type": "code",
   "execution_count": 4,
   "id": "c32fba6c",
   "metadata": {},
   "outputs": [],
   "source": [
    "full_data_path = f\"/home/lideyi/HeteroGT-cuda/data_process/{args['dataset']}-processed/mimic.pkl\"\n",
    "\n",
    "if args[\"task\"] == \"next_diag_6m\":\n",
    "    finetune_data_path = f\"/home/lideyi/HeteroGT-cuda/data_process/{args['dataset']}-processed/mimic_nextdiag_6m.pkl\"\n",
    "elif args[\"task\"] == \"next_diag_12m\":\n",
    "    finetune_data_path = f\"/home/lideyi/HeteroGT-cuda/data_process/{args['dataset']}-processed/mimic_nextdiag_12m.pkl\"\n",
    "else:\n",
    "    finetune_data_path = f\"/home/lideyi/HeteroGT-cuda/data_process/{args['dataset']}-processed/mimic_downstream.pkl\""
   ]
  },
  {
   "cell_type": "code",
   "execution_count": 5,
   "id": "9ab08e48",
   "metadata": {},
   "outputs": [
    {
     "name": "stdout",
     "output_type": "stream",
     "text": [
      "Max admissions per patient: 8\n"
     ]
    }
   ],
   "source": [
    "ehr_full_data = pickle.load(open(full_data_path, 'rb'))\n",
    "diag_sentences = ehr_full_data[\"ICD9_CODE\"].values.tolist()\n",
    "med_sentences = ehr_full_data[\"NDC\"].values.tolist()\n",
    "# lab_sentences = ehr_full_data[\"LAB_TEST\"].values.tolist()\n",
    "# pro_sentences = ehr_full_data[\"PRO_CODE\"].values.tolist()\n",
    "lab_sentences = [[]]\n",
    "pro_sentences = [[]]\n",
    "age_gender_sentences = [\"[PAD]\"] + [str(c) + \"_\" + gender \\\n",
    "    for c in set(ehr_full_data[\"AGE\"].values.tolist()) for gender in [\"M\", \"F\"]] # PAD token special for age_gender vocabulary\n",
    "max_admissions = ehr_full_data.groupby(\"SUBJECT_ID\")[\"HADM_ID\"].nunique().max()\n",
    "args[\"max_adm_len\"] = max_admissions\n",
    "print(f\"Max admissions per patient: {max_admissions}\")"
   ]
  },
  {
   "cell_type": "code",
   "execution_count": 6,
   "id": "42864fb3",
   "metadata": {},
   "outputs": [
    {
     "name": "stdout",
     "output_type": "stream",
     "text": [
      "Age and gender vocabulary size: 37\n",
      "Global vocabulary size: 2145\n",
      "Label vocabulary size: 18\n"
     ]
    }
   ],
   "source": [
    "tokenizer = EHRTokenizer(age_gender_sentences, diag_sentences, med_sentences, lab_sentences, \n",
    "                         pro_sentences, special_tokens=args[\"special_tokens\"])\n",
    "args[\"age_gender_vocab_size\"] = tokenizer.token_number(\"age_gender\")\n",
    "args[\"global_vocab_size\"] = len(tokenizer.vocab.id2word)\n",
    "args[\"label_vocab_size\"] = len(PHENO_ORDER)\n",
    "print(f\"Age and gender vocabulary size: {args['age_gender_vocab_size']}\")\n",
    "print(f\"Global vocabulary size: {args['global_vocab_size']}\")\n",
    "print(f\"Label vocabulary size: {args['label_vocab_size']}\")"
   ]
  },
  {
   "cell_type": "code",
   "execution_count": 7,
   "id": "f7ff21ce",
   "metadata": {},
   "outputs": [
    {
     "name": "stdout",
     "output_type": "stream",
     "text": [
      "1883 1410 1410\n"
     ]
    }
   ],
   "source": [
    "train_data, val_data, test_data = pickle.load(open(finetune_data_path, 'rb'))\n",
    "\n",
    "# output: input_ids (a patient has multiple visits), labels\n",
    "train_dataset = FinetuneHGDataset(train_data, tokenizer, token_type=args[\"predicted_token_type\"], task=args[\"task\"], level=args[\"level\"])\n",
    "val_dataset = FinetuneHGDataset(val_data, tokenizer, token_type=args[\"predicted_token_type\"], task=args[\"task\"], level=args[\"level\"])\n",
    "test_dataset = FinetuneHGDataset(test_data, tokenizer, token_type=args[\"predicted_token_type\"], task=args[\"task\"], level=args[\"level\"])\n",
    "print(len(train_dataset), len(val_dataset), len(test_dataset))"
   ]
  },
  {
   "cell_type": "code",
   "execution_count": 8,
   "id": "42afdd7b",
   "metadata": {},
   "outputs": [
    {
     "name": "stdout",
     "output_type": "stream",
     "text": [
      "208 186\n"
     ]
    }
   ],
   "source": [
    "long_adm_seq_crite = 3\n",
    "val_long_seq_idx, test_long_seq_idx = [], []\n",
    "for i in range(len(val_dataset)):\n",
    "    hadm_id = list(val_dataset.records.keys())[i]\n",
    "    num_adms = len(val_dataset.records[hadm_id])\n",
    "    if num_adms >= long_adm_seq_crite:\n",
    "        val_long_seq_idx.append(i)\n",
    "for i in range(len(test_dataset)):\n",
    "    hadm_id = list(test_dataset.records.keys())[i]\n",
    "    num_adms = len(test_dataset.records[hadm_id])\n",
    "    if num_adms >= long_adm_seq_crite:\n",
    "        test_long_seq_idx.append(i)\n",
    "print(len(val_long_seq_idx), len(test_long_seq_idx))"
   ]
  },
  {
   "cell_type": "code",
   "execution_count": 9,
   "id": "d0769b44",
   "metadata": {},
   "outputs": [],
   "source": [
    "use_full_graph = True\n",
    "train_batch_size = len(train_dataset) if use_full_graph else args[\"batch_size\"]\n",
    "val_batch_size = len(val_dataset) if use_full_graph else args[\"batch_size\"]\n",
    "test_batch_size = len(test_dataset) if use_full_graph else args[\"batch_size\"]\n",
    "train_dataloader = DataLoader(train_dataset, collate_fn=batcher_SetGNN_finetune(device = device), batch_size = train_batch_size, shuffle = True)\n",
    "val_dataloader = DataLoader(val_dataset, collate_fn=batcher_SetGNN_finetune(device = device), batch_size = val_batch_size, shuffle = False)\n",
    "test_dataloader = DataLoader(test_dataset, collate_fn=batcher_SetGNN_finetune(device = device), batch_size = test_batch_size, shuffle = False)"
   ]
  },
  {
   "cell_type": "code",
   "execution_count": 10,
   "id": "41710c43-6c04-44f0-9300-e4168e642140",
   "metadata": {
    "tags": []
   },
   "outputs": [
    {
     "name": "stdout",
     "output_type": "stream",
     "text": [
      "torch.Size([1883, 18])\n"
     ]
    }
   ],
   "source": [
    "batch = next(iter(train_dataloader))\n",
    "graph, global_node_ids, last_visit_indices, labels = batch\n",
    "print(labels.shape)"
   ]
  },
  {
   "cell_type": "code",
   "execution_count": 11,
   "id": "92a62432",
   "metadata": {},
   "outputs": [],
   "source": [
    "if args[\"task\"] in [\"death\", \"stay\", \"readmission\"]:\n",
    "    eval_metric = \"prauc\"\n",
    "    task_type = \"binary\"\n",
    "    loss_fn = F.binary_cross_entropy_with_logits\n",
    "else:\n",
    "    eval_metric = \"prauc\"\n",
    "    task_type = \"l2r\"\n",
    "    loss_fn = lambda x, y: F.binary_cross_entropy_with_logits(x, y)"
   ]
  },
  {
   "cell_type": "code",
   "execution_count": 12,
   "id": "33afa400",
   "metadata": {},
   "outputs": [
    {
     "name": "stdout",
     "output_type": "stream",
     "text": [
      "[2746317213, 1181241943, 958682846, 3163119785, 1812140441, 127978094, 939042955, 2340505846, 946785248, 2530876844, 3460967357, 2998485882, 1461364854, 667779376, 1445662585]\n"
     ]
    }
   ],
   "source": [
    "random.seed(42)\n",
    "seeds = [random.randint(0, 2**32 - 1) for _ in range(15)]\n",
    "print(seeds)"
   ]
  },
  {
   "cell_type": "code",
   "execution_count": null,
   "id": "71af0347",
   "metadata": {},
   "outputs": [
    {
     "name": "stdout",
     "output_type": "stream",
     "text": [
      "[INFO] Random seed set to 2746317213\n",
      "Training with seed: 2746317213\n"
     ]
    },
    {
     "name": "stderr",
     "output_type": "stream",
     "text": [
      "Training Batches: 100%|██████████| 1/1 [00:01<00:00,  1.15s/it]\n",
      "Running inference: 100%|██████████| 1/1 [00:00<00:00,  2.98it/s]\n",
      "Running inference: 100%|██████████| 1/1 [00:00<00:00,  3.38it/s]\n"
     ]
    },
    {
     "name": "stdout",
     "output_type": "stream",
     "text": [
      "Epoch: 001, Average Loss: 0.6933\n",
      "Validation: {'precision': 0.12555253325580906, 'recall': 0.37436539376380373, 'f1': 0.1689312515045155, 'auc': 0.53986987347967, 'prauc': 0.23358664913895102}\n",
      "Test:       {'precision': 0.11672113616644293, 'recall': 0.37703396325910343, 'f1': 0.16264748726738584, 'auc': 0.5244515109196481, 'prauc': 0.22512015920636091}\n"
     ]
    },
    {
     "name": "stderr",
     "output_type": "stream",
     "text": [
      "Training Batches: 100%|██████████| 1/1 [00:00<00:00,  9.20it/s]\n",
      "Running inference: 100%|██████████| 1/1 [00:00<00:00,  3.45it/s]\n",
      "Running inference: 100%|██████████| 1/1 [00:00<00:00,  3.42it/s]\n"
     ]
    },
    {
     "name": "stdout",
     "output_type": "stream",
     "text": [
      "Epoch: 002, Average Loss: 0.6837\n",
      "Validation: {'precision': 0.14693124377257838, 'recall': 0.2321835665509887, 'f1': 0.14767606061478822, 'auc': 0.5468580111809253, 'prauc': 0.2419990648587324}\n",
      "Test:       {'precision': 0.11107427522633367, 'recall': 0.23097923977975116, 'f1': 0.1411878523761014, 'auc': 0.5343453608257313, 'prauc': 0.2326085997407975}\n"
     ]
    },
    {
     "name": "stderr",
     "output_type": "stream",
     "text": [
      "Training Batches: 100%|██████████| 1/1 [00:00<00:00,  2.97it/s]\n",
      "Running inference: 100%|██████████| 1/1 [00:00<00:00, 15.48it/s]\n",
      "Running inference: 100%|██████████| 1/1 [00:00<00:00,  3.21it/s]\n"
     ]
    },
    {
     "name": "stdout",
     "output_type": "stream",
     "text": [
      "Epoch: 003, Average Loss: 0.6737\n",
      "Validation: {'precision': 0.12113658693635382, 'recall': 0.07942123701335077, 'f1': 0.07883712590937292, 'auc': 0.5435221234894875, 'prauc': 0.24076103069110794}\n",
      "Test:       {'precision': 0.11797542575830218, 'recall': 0.08041751258305206, 'f1': 0.07756626541581496, 'auc': 0.5308104727675979, 'prauc': 0.23094702746094592}\n"
     ]
    },
    {
     "name": "stderr",
     "output_type": "stream",
     "text": [
      "Training Batches: 100%|██████████| 1/1 [00:00<00:00,  2.76it/s]\n",
      "Running inference: 100%|██████████| 1/1 [00:00<00:00,  3.25it/s]\n",
      "Running inference: 100%|██████████| 1/1 [00:00<00:00, 15.51it/s]\n"
     ]
    },
    {
     "name": "stdout",
     "output_type": "stream",
     "text": [
      "Epoch: 004, Average Loss: 0.6624\n",
      "Validation: {'precision': 0.1313602091617452, 'recall': 0.023436145790402187, 'f1': 0.03340967243297452, 'auc': 0.5331006100497802, 'prauc': 0.2334590380665737}\n",
      "Test:       {'precision': 0.11355934044915705, 'recall': 0.023321165785860756, 'f1': 0.03176988388012328, 'auc': 0.5216353429311871, 'prauc': 0.22460840644349822}\n"
     ]
    },
    {
     "name": "stderr",
     "output_type": "stream",
     "text": [
      "Training Batches: 100%|██████████| 1/1 [00:00<00:00,  2.88it/s]\n",
      "Running inference: 100%|██████████| 1/1 [00:00<00:00,  3.22it/s]\n",
      "Running inference: 100%|██████████| 1/1 [00:00<00:00, 15.57it/s]\n"
     ]
    },
    {
     "name": "stdout",
     "output_type": "stream",
     "text": [
      "Epoch: 005, Average Loss: 0.6486\n",
      "Validation: {'precision': 0.14688628365098955, 'recall': 0.008279094249143804, 'f1': 0.014273890426049473, 'auc': 0.5259225419820585, 'prauc': 0.2283800038922369}\n",
      "Test:       {'precision': 0.09673651904623032, 'recall': 0.007254730319194844, 'f1': 0.012306784125692133, 'auc': 0.5153716412341167, 'prauc': 0.2203787889634275}\n"
     ]
    },
    {
     "name": "stderr",
     "output_type": "stream",
     "text": [
      "Training Batches: 100%|██████████| 1/1 [00:00<00:00,  2.82it/s]\n",
      "Running inference: 100%|██████████| 1/1 [00:00<00:00,  3.19it/s]\n",
      "Running inference: 100%|██████████| 1/1 [00:00<00:00,  3.18it/s]\n"
     ]
    },
    {
     "name": "stdout",
     "output_type": "stream",
     "text": [
      "Epoch: 006, Average Loss: 0.6324\n",
      "Validation: {'precision': 0.0954835713456403, 'recall': 0.004180855172612897, 'f1': 0.007727538539489601, 'auc': 0.5221283103788351, 'prauc': 0.22515468879213665}\n",
      "Test:       {'precision': 0.08460356069051721, 'recall': 0.0037193373429314147, 'f1': 0.006892837154187477, 'auc': 0.511806137637908, 'prauc': 0.21795025853745198}\n"
     ]
    },
    {
     "name": "stderr",
     "output_type": "stream",
     "text": [
      "Training Batches: 100%|██████████| 1/1 [00:00<00:00,  2.80it/s]\n",
      "Running inference: 100%|██████████| 1/1 [00:00<00:00, 15.20it/s]\n",
      "Running inference: 100%|██████████| 1/1 [00:00<00:00,  3.26it/s]\n"
     ]
    },
    {
     "name": "stdout",
     "output_type": "stream",
     "text": [
      "Epoch: 007, Average Loss: 0.6140\n",
      "Validation: {'precision': 0.04102693602693603, 'recall': 0.0014600514242345325, 'f1': 0.002797802219522175, 'auc': 0.5175002244438768, 'prauc': 0.22112701058004372}\n",
      "Test:       {'precision': 0.03975795971410006, 'recall': 0.001343022800508578, 'f1': 0.002597476144315873, 'auc': 0.5073395450565905, 'prauc': 0.21517164522564056}\n"
     ]
    },
    {
     "name": "stderr",
     "output_type": "stream",
     "text": [
      "Training Batches: 100%|██████████| 1/1 [00:00<00:00,  2.83it/s]\n",
      "Running inference: 100%|██████████| 1/1 [00:00<00:00, 15.15it/s]\n",
      "Running inference: 100%|██████████| 1/1 [00:00<00:00,  3.20it/s]\n"
     ]
    },
    {
     "name": "stdout",
     "output_type": "stream",
     "text": [
      "Epoch: 008, Average Loss: 0.5934\n",
      "Validation: {'precision': 0.02202581369248036, 'recall': 0.0005262330541943618, 'f1': 0.001026281273676019, 'auc': 0.5129154423573811, 'prauc': 0.21741511576251535}\n",
      "Test:       {'precision': 0.047378547378547374, 'recall': 0.0007983224148490537, 'f1': 0.0015685683518075904, 'auc': 0.5032420731221534, 'prauc': 0.21264660140427333}\n"
     ]
    },
    {
     "name": "stderr",
     "output_type": "stream",
     "text": [
      "Training Batches: 100%|██████████| 1/1 [00:00<00:00,  2.80it/s]\n",
      "Running inference: 100%|██████████| 1/1 [00:00<00:00,  3.16it/s]\n",
      "Running inference: 100%|██████████| 1/1 [00:00<00:00, 15.28it/s]\n"
     ]
    },
    {
     "name": "stdout",
     "output_type": "stream",
     "text": [
      "Epoch: 009, Average Loss: 0.5708\n",
      "Validation: {'precision': 0.03756613756613757, 'recall': 0.0003982248616700402, 'f1': 0.0007870935705328174, 'auc': 0.5114136428155319, 'prauc': 0.21569152178272047}\n",
      "Test:       {'precision': 0.04351851851851852, 'recall': 0.00041239033889442175, 'f1': 0.0008168200047180939, 'auc': 0.5016076636886392, 'prauc': 0.2117690583811139}\n"
     ]
    },
    {
     "name": "stderr",
     "output_type": "stream",
     "text": [
      "Training Batches: 100%|██████████| 1/1 [00:00<00:00,  2.84it/s]\n",
      "Running inference: 100%|██████████| 1/1 [00:00<00:00,  3.10it/s]\n",
      "Running inference: 100%|██████████| 1/1 [00:00<00:00, 15.51it/s]\n"
     ]
    },
    {
     "name": "stdout",
     "output_type": "stream",
     "text": [
      "Epoch: 010, Average Loss: 0.5490\n",
      "Validation: {'precision': 0.03888888888888889, 'recall': 0.0002702166691457187, 'f1': 0.0005365415957076673, 'auc': 0.5116363368196263, 'prauc': 0.21533320322558486}\n",
      "Test:       {'precision': 0.046296296296296294, 'recall': 0.0002822836514106851, 'f1': 0.0005611306387207802, 'auc': 0.5017949313848304, 'prauc': 0.21167377230133724}\n"
     ]
    },
    {
     "name": "stderr",
     "output_type": "stream",
     "text": [
      "Training Batches: 100%|██████████| 1/1 [00:00<00:00,  2.87it/s]\n",
      "Running inference: 100%|██████████| 1/1 [00:00<00:00,  3.21it/s]\n",
      "Running inference: 100%|██████████| 1/1 [00:00<00:00,  3.19it/s]\n"
     ]
    },
    {
     "name": "stdout",
     "output_type": "stream",
     "text": [
      "Epoch: 011, Average Loss: 0.5273\n",
      "Validation: {'precision': 0.041666666666666664, 'recall': 0.0002702166691457187, 'f1': 0.0005369163633517278, 'auc': 0.5139943664147091, 'prauc': 0.21684020249854694}\n",
      "Test:       {'precision': 0.07407407407407407, 'recall': 0.0002822836514106851, 'f1': 0.0005622684194112765, 'auc': 0.5047299917570817, 'prauc': 0.21305567330203204}\n"
     ]
    },
    {
     "name": "stderr",
     "output_type": "stream",
     "text": [
      "Training Batches: 100%|██████████| 1/1 [00:00<00:00,  2.82it/s]\n",
      "Running inference: 100%|██████████| 1/1 [00:00<00:00, 15.12it/s]\n",
      "Running inference: 100%|██████████| 1/1 [00:00<00:00,  3.20it/s]\n"
     ]
    },
    {
     "name": "stdout",
     "output_type": "stream",
     "text": [
      "Epoch: 012, Average Loss: 0.5089\n",
      "Validation: {'precision': 0.06944444444444445, 'recall': 0.0002702166691457187, 'f1': 0.0005379153663467389, 'auc': 0.516488748023844, 'prauc': 0.2182104253621801}\n",
      "Test:       {'precision': 0.05555555555555555, 'recall': 0.0001786352268667381, 'f1': 0.0003561253561253561, 'auc': 0.5081102385254744, 'prauc': 0.2148253817316237}\n",
      "\n",
      "Early stopping triggered after 12 epochs (no improvement for 10 epochs).\n",
      "\n",
      "Best validation performance:\n",
      "{'global': {'precision': 0.14693124377257838, 'recall': 0.2321835665509887, 'f1': 0.14767606061478822, 'auc': 0.5468580111809253, 'prauc': 0.2419990648587324}, 'per_class':                                            precision    recall        f1  \\\n",
      "Acute and unspecified renal failure         0.329499  0.923963  0.485766   \n",
      "Acute cerebrovascular disease               0.000000  0.000000  0.000000   \n",
      "Acute myocardial infarction                 0.000000  0.000000  0.000000   \n",
      "Cardiac dysrhythmias                        0.411168  0.886861  0.561850   \n",
      "Chronic kidney disease                      0.338768  0.550000  0.419283   \n",
      "Chronic obstructive pulmonary disease       0.000000  0.000000  0.000000   \n",
      "Conduction disorders                        0.000000  0.000000  0.000000   \n",
      "Congestive heart failure; nonhypertensive   0.397015  0.985185  0.565957   \n",
      "Coronary atherosclerosis and related        0.000000  0.000000  0.000000   \n",
      "Disorders of lipid metabolism               0.000000  0.000000  0.000000   \n",
      "Essential hypertension                      0.371486  0.718447  0.489742   \n",
      "Fluid and electrolyte disorders             0.000000  0.000000  0.000000   \n",
      "Gastrointestinal hemorrhage                 0.500000  0.010000  0.019608   \n",
      "Hypertension with complications             0.000000  0.000000  0.000000   \n",
      "Other liver diseases                        0.013245  0.047619  0.020725   \n",
      "Other lower respiratory disease             0.000000  0.000000  0.000000   \n",
      "Pneumonia                                   0.000000  0.000000  0.000000   \n",
      "Septicemia (except in labor)                0.283582  0.057229  0.095238   \n",
      "\n",
      "                                                auc     prauc  \n",
      "Acute and unspecified renal failure        0.602484  0.380981  \n",
      "Acute cerebrovascular disease              0.502913  0.012083  \n",
      "Acute myocardial infarction                0.403834  0.052724  \n",
      "Cardiac dysrhythmias                       0.543147  0.407604  \n",
      "Chronic kidney disease                     0.665191  0.328348  \n",
      "Chronic obstructive pulmonary disease      0.440551  0.112450  \n",
      "Conduction disorders                       0.459409  0.021554  \n",
      "Congestive heart failure; nonhypertensive  0.584873  0.437098  \n",
      "Coronary atherosclerosis and related       0.553186  0.273555  \n",
      "Disorders of lipid metabolism              0.568748  0.301873  \n",
      "Essential hypertension                     0.521613  0.387877  \n",
      "Fluid and electrolyte disorders            0.561452  0.439376  \n",
      "Gastrointestinal hemorrhage                0.560840  0.090649  \n",
      "Hypertension with complications            0.590721  0.267172  \n",
      "Other liver diseases                       0.547097  0.031827  \n",
      "Other lower respiratory disease            0.542904  0.379728  \n",
      "Pneumonia                                  0.564354  0.124239  \n",
      "Septicemia (except in labor)               0.630127  0.306844  }\n",
      "Corresponding test performance:\n",
      "{'global': {'precision': 0.11107427522633367, 'recall': 0.23097923977975116, 'f1': 0.1411878523761014, 'auc': 0.5343453608257313, 'prauc': 0.2326085997407975}, 'per_class':                                            precision    recall        f1  \\\n",
      "Acute and unspecified renal failure         0.317269  0.925059  0.472488   \n",
      "Acute cerebrovascular disease               0.000000  0.000000  0.000000   \n",
      "Acute myocardial infarction                 0.000000  0.000000  0.000000   \n",
      "Cardiac dysrhythmias                        0.408511  0.898876  0.561732   \n",
      "Chronic kidney disease                      0.314721  0.565350  0.404348   \n",
      "Chronic obstructive pulmonary disease       0.000000  0.000000  0.000000   \n",
      "Conduction disorders                        0.000000  0.000000  0.000000   \n",
      "Congestive heart failure; nonhypertensive   0.389543  0.986940  0.558606   \n",
      "Coronary atherosclerosis and related        0.000000  0.000000  0.000000   \n",
      "Disorders of lipid metabolism               0.000000  0.000000  0.000000   \n",
      "Essential hypertension                      0.357755  0.746032  0.483601   \n",
      "Fluid and electrolyte disorders             0.000000  0.000000  0.000000   \n",
      "Gastrointestinal hemorrhage                 0.000000  0.000000  0.000000   \n",
      "Hypertension with complications             0.000000  0.000000  0.000000   \n",
      "Other liver diseases                        0.000000  0.000000  0.000000   \n",
      "Other lower respiratory disease             0.000000  0.000000  0.000000   \n",
      "Pneumonia                                   0.000000  0.000000  0.000000   \n",
      "Septicemia (except in labor)                0.211538  0.035370  0.060606   \n",
      "\n",
      "                                                auc     prauc  \n",
      "Acute and unspecified renal failure        0.539546  0.315918  \n",
      "Acute cerebrovascular disease              0.337031  0.011511  \n",
      "Acute myocardial infarction                0.453592  0.063862  \n",
      "Cardiac dysrhythmias                       0.586333  0.433380  \n",
      "Chronic kidney disease                     0.618057  0.300547  \n",
      "Chronic obstructive pulmonary disease      0.456264  0.106497  \n",
      "Conduction disorders                       0.583717  0.031380  \n",
      "Congestive heart failure; nonhypertensive  0.603026  0.451867  \n",
      "Coronary atherosclerosis and related       0.547444  0.250648  \n",
      "Disorders of lipid metabolism              0.523761  0.274790  \n",
      "Essential hypertension                     0.512324  0.361791  \n",
      "Fluid and electrolyte disorders            0.545573  0.409266  \n",
      "Gastrointestinal hemorrhage                0.562135  0.085448  \n",
      "Hypertension with complications            0.560425  0.259447  \n",
      "Other liver diseases                       0.557805  0.018301  \n",
      "Other lower respiratory disease            0.538941  0.422533  \n",
      "Pneumonia                                  0.515762  0.134703  \n",
      "Septicemia (except in labor)               0.576480  0.255066  }\n",
      "Corresponding test-long performance:\n",
      "{'global': {'precision': 0.13199672011954156, 'recall': 0.2526050708724908, 'f1': 0.1557336697305401, 'auc': 0.5373552657200281, 'prauc': 0.28826901585506126}, 'per_class':                                            precision    recall        f1  \\\n",
      "Acute and unspecified renal failure         0.318436  0.966102  0.478992   \n",
      "Acute cerebrovascular disease               0.000000  0.000000  0.000000   \n",
      "Acute myocardial infarction                 0.000000  0.000000  0.000000   \n",
      "Cardiac dysrhythmias                        0.439560  1.000000  0.610687   \n",
      "Chronic kidney disease                      0.500000  0.705128  0.585106   \n",
      "Chronic obstructive pulmonary disease       0.000000  0.000000  0.000000   \n",
      "Conduction disorders                        0.000000  0.000000  0.000000   \n",
      "Congestive heart failure; nonhypertensive   0.502732  1.000000  0.669091   \n",
      "Coronary atherosclerosis and related        0.000000  0.000000  0.000000   \n",
      "Disorders of lipid metabolism               0.000000  0.000000  0.000000   \n",
      "Essential hypertension                      0.281879  0.857143  0.424242   \n",
      "Fluid and electrolyte disorders             0.000000  0.000000  0.000000   \n",
      "Gastrointestinal hemorrhage                 0.000000  0.000000  0.000000   \n",
      "Hypertension with complications             0.000000  0.000000  0.000000   \n",
      "Other liver diseases                        0.000000  0.000000  0.000000   \n",
      "Other lower respiratory disease             0.000000  0.000000  0.000000   \n",
      "Pneumonia                                   0.000000  0.000000  0.000000   \n",
      "Septicemia (except in labor)                0.333333  0.018519  0.035088   \n",
      "\n",
      "                                                auc     prauc  \n",
      "Acute and unspecified renal failure        0.475777  0.315744  \n",
      "Acute cerebrovascular disease              0.427027  0.004673  \n",
      "Acute myocardial infarction                0.539773  0.053162  \n",
      "Cardiac dysrhythmias                       0.621108  0.561731  \n",
      "Chronic kidney disease                     0.586895  0.471001  \n",
      "Chronic obstructive pulmonary disease      0.431731  0.114225  \n",
      "Conduction disorders                       0.609551  0.064963  \n",
      "Congestive heart failure; nonhypertensive  0.578168  0.540900  \n",
      "Coronary atherosclerosis and related       0.540333  0.280799  \n",
      "Disorders of lipid metabolism              0.567109  0.406331  \n",
      "Essential hypertension                     0.550574  0.278640  \n",
      "Fluid and electrolyte disorders            0.504638  0.514016  \n",
      "Gastrointestinal hemorrhage                0.514550  0.103002  \n",
      "Hypertension with complications            0.547981  0.422938  \n",
      "Other liver diseases                       0.495446  0.015131  \n",
      "Other lower respiratory disease            0.577128  0.529225  \n",
      "Pneumonia                                  0.517205  0.126858  \n",
      "Septicemia (except in labor)               0.587402  0.385505  }\n",
      "[INFO] Random seed set to 1181241943\n",
      "Training with seed: 1181241943\n"
     ]
    },
    {
     "name": "stderr",
     "output_type": "stream",
     "text": [
      "Training Batches: 100%|██████████| 1/1 [00:00<00:00,  2.80it/s]\n",
      "Running inference: 100%|██████████| 1/1 [00:00<00:00, 15.17it/s]\n",
      "Running inference: 100%|██████████| 1/1 [00:00<00:00,  3.26it/s]\n"
     ]
    },
    {
     "name": "stdout",
     "output_type": "stream",
     "text": [
      "Epoch: 001, Average Loss: 0.6925\n",
      "Validation: {'precision': 0.1218112873800757, 'recall': 0.31829523311325325, 'f1': 0.1597691427687816, 'auc': 0.5393133742790032, 'prauc': 0.23617583469630604}\n",
      "Test:       {'precision': 0.13201264574858343, 'recall': 0.3260267877951, 'f1': 0.15906635499744634, 'auc': 0.5307097621007452, 'prauc': 0.22677851557063214}\n"
     ]
    },
    {
     "name": "stderr",
     "output_type": "stream",
     "text": [
      "Training Batches: 100%|██████████| 1/1 [00:00<00:00,  2.84it/s]\n",
      "Running inference: 100%|██████████| 1/1 [00:00<00:00,  3.11it/s]\n",
      "Running inference: 100%|██████████| 1/1 [00:00<00:00, 15.89it/s]\n"
     ]
    },
    {
     "name": "stdout",
     "output_type": "stream",
     "text": [
      "Epoch: 002, Average Loss: 0.6832\n",
      "Validation: {'precision': 0.10386111705300943, 'recall': 0.20782251862362178, 'f1': 0.13245067148472456, 'auc': 0.5521734384374158, 'prauc': 0.24656518283187084}\n",
      "Test:       {'precision': 0.09348896548424587, 'recall': 0.2036359431251772, 'f1': 0.12628658951779295, 'auc': 0.5392807842064816, 'prauc': 0.2340867596589749}\n"
     ]
    },
    {
     "name": "stderr",
     "output_type": "stream",
     "text": [
      "Training Batches: 100%|██████████| 1/1 [00:00<00:00,  2.94it/s]\n",
      "Running inference: 100%|██████████| 1/1 [00:00<00:00,  3.21it/s]\n",
      "Running inference: 100%|██████████| 1/1 [00:00<00:00,  3.23it/s]\n"
     ]
    },
    {
     "name": "stdout",
     "output_type": "stream",
     "text": [
      "Epoch: 003, Average Loss: 0.6738\n",
      "Validation: {'precision': 0.09948626628184333, 'recall': 0.04243969698015917, 'f1': 0.057287450014004405, 'auc': 0.5437447438439874, 'prauc': 0.24132646651256584}\n",
      "Test:       {'precision': 0.08921798187298231, 'recall': 0.04355109408276639, 'f1': 0.05593778036104535, 'auc': 0.529617626052256, 'prauc': 0.229340018733236}\n"
     ]
    },
    {
     "name": "stderr",
     "output_type": "stream",
     "text": [
      "Training Batches: 100%|██████████| 1/1 [00:00<00:00,  2.84it/s]\n",
      "Running inference: 100%|██████████| 1/1 [00:00<00:00, 15.54it/s]\n",
      "Running inference: 100%|██████████| 1/1 [00:00<00:00,  3.22it/s]\n"
     ]
    },
    {
     "name": "stdout",
     "output_type": "stream",
     "text": [
      "Epoch: 004, Average Loss: 0.6627\n",
      "Validation: {'precision': 0.09496060684722957, 'recall': 0.009547209487569843, 'f1': 0.01718479756519031, 'auc': 0.5307768452833526, 'prauc': 0.23206111907928031}\n",
      "Test:       {'precision': 0.08163691512487488, 'recall': 0.006575782730344158, 'f1': 0.012145354335322463, 'auc': 0.5167956083524872, 'prauc': 0.22072126414779228}\n"
     ]
    },
    {
     "name": "stderr",
     "output_type": "stream",
     "text": [
      "Training Batches: 100%|██████████| 1/1 [00:00<00:00,  2.76it/s]\n",
      "Running inference: 100%|██████████| 1/1 [00:00<00:00, 15.38it/s]\n",
      "Running inference: 100%|██████████| 1/1 [00:00<00:00,  3.17it/s]\n"
     ]
    },
    {
     "name": "stdout",
     "output_type": "stream",
     "text": [
      "Epoch: 005, Average Loss: 0.6495\n",
      "Validation: {'precision': 0.08391754850088182, 'recall': 0.0022337348554748926, 'f1': 0.004266563857064373, 'auc': 0.5218216696342213, 'prauc': 0.22505556884557443}\n",
      "Test:       {'precision': 0.05567901234567902, 'recall': 0.0017251450444080792, 'f1': 0.0033186921390473303, 'auc': 0.5079705383841455, 'prauc': 0.21495134578813596}\n"
     ]
    },
    {
     "name": "stderr",
     "output_type": "stream",
     "text": [
      "Training Batches: 100%|██████████| 1/1 [00:00<00:00,  2.83it/s]\n",
      "Running inference: 100%|██████████| 1/1 [00:00<00:00,  3.18it/s]\n",
      "Running inference: 100%|██████████| 1/1 [00:00<00:00, 15.66it/s]\n"
     ]
    },
    {
     "name": "stdout",
     "output_type": "stream",
     "text": [
      "Epoch: 006, Average Loss: 0.6330\n",
      "Validation: {'precision': 0.030086756924992224, 'recall': 0.0009808175586178197, 'f1': 0.0018806939661113865, 'auc': 0.5158215695874452, 'prauc': 0.22032557468754044}\n",
      "Test:       {'precision': 0.058333333333333334, 'recall': 0.0014269935834659204, 'f1': 0.00275621259295786, 'auc': 0.5024834248552131, 'prauc': 0.21136759291499374}\n"
     ]
    },
    {
     "name": "stderr",
     "output_type": "stream",
     "text": [
      "Training Batches: 100%|██████████| 1/1 [00:00<00:00,  2.86it/s]\n",
      "Running inference: 100%|██████████| 1/1 [00:00<00:00,  3.11it/s]\n",
      "Running inference: 100%|██████████| 1/1 [00:00<00:00,  3.23it/s]\n"
     ]
    },
    {
     "name": "stdout",
     "output_type": "stream",
     "text": [
      "Epoch: 007, Average Loss: 0.6142\n",
      "Validation: {'precision': 0.08395061728395062, 'recall': 0.0006608471056036522, 'f1': 0.0012960350174128108, 'auc': 0.5112995204675355, 'prauc': 0.21743943393810644}\n",
      "Test:       {'precision': 0.05864197530864198, 'recall': 0.001175402761629798, 'f1': 0.0022775036297686736, 'auc': 0.49823355586708623, 'prauc': 0.2092405889278407}\n"
     ]
    },
    {
     "name": "stderr",
     "output_type": "stream",
     "text": [
      "Training Batches: 100%|██████████| 1/1 [00:00<00:00,  9.60it/s]\n",
      "Running inference: 100%|██████████| 1/1 [00:00<00:00,  3.25it/s]\n",
      "Running inference: 100%|██████████| 1/1 [00:00<00:00,  3.23it/s]\n"
     ]
    },
    {
     "name": "stdout",
     "output_type": "stream",
     "text": [
      "Epoch: 008, Average Loss: 0.5932\n",
      "Validation: {'precision': 0.0617283950617284, 'recall': 0.0003125364124653729, 'f1': 0.0006101639611713843, 'auc': 0.5087896709775228, 'prauc': 0.21600535272448856}\n",
      "Test:       {'precision': 0.0609567901234568, 'recall': 0.0010651734847338542, 'f1': 0.0020742873684050154, 'auc': 0.4963356896399049, 'prauc': 0.20833485116819891}\n"
     ]
    },
    {
     "name": "stderr",
     "output_type": "stream",
     "text": [
      "Training Batches: 100%|██████████| 1/1 [00:00<00:00,  2.81it/s]\n",
      "Running inference: 100%|██████████| 1/1 [00:00<00:00, 15.58it/s]\n",
      "Running inference: 100%|██████████| 1/1 [00:00<00:00,  3.12it/s]\n"
     ]
    },
    {
     "name": "stdout",
     "output_type": "stream",
     "text": [
      "Epoch: 009, Average Loss: 0.5692\n",
      "Validation: {'precision': 0.06851851851851852, 'recall': 0.0008680919680209285, 'f1': 0.0015810943358175436, 'auc': 0.5082356737635103, 'prauc': 0.2157297305760648}\n",
      "Test:       {'precision': 0.042328042328042326, 'recall': 0.0009657896644198013, 'f1': 0.00188598301805849, 'auc': 0.4961067558631966, 'prauc': 0.2081185886802143}\n"
     ]
    },
    {
     "name": "stderr",
     "output_type": "stream",
     "text": [
      "Training Batches: 100%|██████████| 1/1 [00:00<00:00,  2.84it/s]\n",
      "Running inference: 100%|██████████| 1/1 [00:00<00:00, 15.37it/s]\n",
      "Running inference: 100%|██████████| 1/1 [00:00<00:00,  3.21it/s]\n"
     ]
    },
    {
     "name": "stdout",
     "output_type": "stream",
     "text": [
      "Epoch: 010, Average Loss: 0.5459\n",
      "Validation: {'precision': 0.010648148148148148, 'recall': 0.0006634304207119741, 'f1': 0.0011786331181127092, 'auc': 0.5084884447697349, 'prauc': 0.21623266257396279}\n",
      "Test:       {'precision': 0.046296296296296294, 'recall': 0.0007033533860017877, 'f1': 0.0013827797514990884, 'auc': 0.4969038277315067, 'prauc': 0.20853819331722934}\n"
     ]
    },
    {
     "name": "stderr",
     "output_type": "stream",
     "text": [
      "Training Batches: 100%|██████████| 1/1 [00:00<00:00,  2.78it/s]\n",
      "Running inference: 100%|██████████| 1/1 [00:00<00:00,  3.18it/s]\n",
      "Running inference: 100%|██████████| 1/1 [00:00<00:00, 15.37it/s]\n"
     ]
    },
    {
     "name": "stdout",
     "output_type": "stream",
     "text": [
      "Epoch: 011, Average Loss: 0.5247\n",
      "Validation: {'precision': 0.014814814814814815, 'recall': 0.0006634304207119741, 'f1': 0.0011798587885544407, 'auc': 0.5087122043413492, 'prauc': 0.21605632086223522}\n",
      "Test:       {'precision': 0.039351851851851846, 'recall': 0.00048289483220990064, 'f1': 0.0009529740338164251, 'auc': 0.49747873335241544, 'prauc': 0.20886904383933835}\n"
     ]
    },
    {
     "name": "stderr",
     "output_type": "stream",
     "text": [
      "Training Batches: 100%|██████████| 1/1 [00:00<00:00,  2.79it/s]\n",
      "Running inference: 100%|██████████| 1/1 [00:00<00:00,  3.20it/s]\n",
      "Running inference: 100%|██████████| 1/1 [00:00<00:00, 15.63it/s]\n"
     ]
    },
    {
     "name": "stdout",
     "output_type": "stream",
     "text": [
      "Epoch: 012, Average Loss: 0.5069\n",
      "Validation: {'precision': 0.018518518518518517, 'recall': 0.00010787486515641856, 'f1': 0.0002145002145002145, 'auc': 0.508524102049691, 'prauc': 0.21590061041200026}\n",
      "Test:       {'precision': 0.018518518518518517, 'recall': 0.0002204585537918871, 'f1': 0.00043572984749455336, 'auc': 0.49843644820147237, 'prauc': 0.2091419402362239}\n",
      "\n",
      "Early stopping triggered after 12 epochs (no improvement for 10 epochs).\n",
      "\n",
      "Best validation performance:\n",
      "{'global': {'precision': 0.10386111705300943, 'recall': 0.20782251862362178, 'f1': 0.13245067148472456, 'auc': 0.5521734384374158, 'prauc': 0.24656518283187084}, 'per_class':                                            precision    recall        f1  \\\n",
      "Acute and unspecified renal failure         0.000000  0.000000  0.000000   \n",
      "Acute cerebrovascular disease               0.000000  0.000000  0.000000   \n",
      "Acute myocardial infarction                 0.000000  0.000000  0.000000   \n",
      "Cardiac dysrhythmias                        0.420922  0.616788  0.500370   \n",
      "Chronic kidney disease                      0.000000  0.000000  0.000000   \n",
      "Chronic obstructive pulmonary disease       0.107143  0.015957  0.027778   \n",
      "Conduction disorders                        0.000000  0.000000  0.000000   \n",
      "Congestive heart failure; nonhypertensive   0.000000  0.000000  0.000000   \n",
      "Coronary atherosclerosis and related        0.000000  0.000000  0.000000   \n",
      "Disorders of lipid metabolism               0.301165  0.475066  0.368635   \n",
      "Essential hypertension                      0.356037  0.893204  0.509131   \n",
      "Fluid and electrolyte disorders             0.416731  0.937282  0.576944   \n",
      "Gastrointestinal hemorrhage                 0.000000  0.000000  0.000000   \n",
      "Hypertension with complications             0.267503  0.802508  0.401254   \n",
      "Other liver diseases                        0.000000  0.000000  0.000000   \n",
      "Other lower respiratory disease             0.000000  0.000000  0.000000   \n",
      "Pneumonia                                   0.000000  0.000000  0.000000   \n",
      "Septicemia (except in labor)                0.000000  0.000000  0.000000   \n",
      "\n",
      "                                                auc     prauc  \n",
      "Acute and unspecified renal failure        0.568521  0.347040  \n",
      "Acute cerebrovascular disease              0.487328  0.011862  \n",
      "Acute myocardial infarction                0.411003  0.053024  \n",
      "Cardiac dysrhythmias                       0.541553  0.409680  \n",
      "Chronic kidney disease                     0.648499  0.323171  \n",
      "Chronic obstructive pulmonary disease      0.489092  0.124396  \n",
      "Conduction disorders                       0.426971  0.018898  \n",
      "Congestive heart failure; nonhypertensive  0.675948  0.538010  \n",
      "Coronary atherosclerosis and related       0.681217  0.353003  \n",
      "Disorders of lipid metabolism              0.540112  0.287810  \n",
      "Essential hypertension                     0.452506  0.330234  \n",
      "Fluid and electrolyte disorders            0.549155  0.443626  \n",
      "Gastrointestinal hemorrhage                0.573687  0.080612  \n",
      "Hypertension with complications            0.615509  0.291603  \n",
      "Other liver diseases                       0.581253  0.037793  \n",
      "Other lower respiratory disease            0.555340  0.385802  \n",
      "Pneumonia                                  0.539872  0.116070  \n",
      "Septicemia (except in labor)               0.601555  0.285537  }\n",
      "Corresponding test performance:\n",
      "{'global': {'precision': 0.09348896548424587, 'recall': 0.2036359431251772, 'f1': 0.12628658951779295, 'auc': 0.5392807842064816, 'prauc': 0.2340867596589749}, 'per_class':                                            precision    recall        f1  \\\n",
      "Acute and unspecified renal failure         0.000000  0.000000  0.000000   \n",
      "Acute cerebrovascular disease               0.000000  0.000000  0.000000   \n",
      "Acute myocardial infarction                 0.000000  0.000000  0.000000   \n",
      "Cardiac dysrhythmias                        0.423177  0.608614  0.499232   \n",
      "Chronic kidney disease                      0.000000  0.000000  0.000000   \n",
      "Chronic obstructive pulmonary disease       0.000000  0.000000  0.000000   \n",
      "Conduction disorders                        0.000000  0.000000  0.000000   \n",
      "Congestive heart failure; nonhypertensive   0.000000  0.000000  0.000000   \n",
      "Coronary atherosclerosis and related        0.000000  0.000000  0.000000   \n",
      "Disorders of lipid metabolism               0.245776  0.438356  0.314961   \n",
      "Essential hypertension                      0.358915  0.918651  0.516165   \n",
      "Fluid and electrolyte disorders             0.411720  0.967800  0.577683   \n",
      "Gastrointestinal hemorrhage                 0.000000  0.000000  0.000000   \n",
      "Hypertension with complications             0.243214  0.732026  0.365118   \n",
      "Other liver diseases                        0.000000  0.000000  0.000000   \n",
      "Other lower respiratory disease             0.000000  0.000000  0.000000   \n",
      "Pneumonia                                   0.000000  0.000000  0.000000   \n",
      "Septicemia (except in labor)                0.000000  0.000000  0.000000   \n",
      "\n",
      "                                                auc     prauc  \n",
      "Acute and unspecified renal failure        0.554248  0.344621  \n",
      "Acute cerebrovascular disease              0.502360  0.015898  \n",
      "Acute myocardial infarction                0.410695  0.054528  \n",
      "Cardiac dysrhythmias                       0.570424  0.424928  \n",
      "Chronic kidney disease                     0.623010  0.300550  \n",
      "Chronic obstructive pulmonary disease      0.490721  0.113443  \n",
      "Conduction disorders                       0.458071  0.021348  \n",
      "Congestive heart failure; nonhypertensive  0.616505  0.470885  \n",
      "Coronary atherosclerosis and related       0.687801  0.338917  \n",
      "Disorders of lipid metabolism              0.484614  0.247646  \n",
      "Essential hypertension                     0.460910  0.322664  \n",
      "Fluid and electrolyte disorders            0.555057  0.424685  \n",
      "Gastrointestinal hemorrhage                0.547608  0.074305  \n",
      "Hypertension with complications            0.566687  0.237535  \n",
      "Other liver diseases                       0.534787  0.017344  \n",
      "Other lower respiratory disease            0.556836  0.424782  \n",
      "Pneumonia                                  0.530563  0.140618  \n",
      "Septicemia (except in labor)               0.556157  0.238865  }\n",
      "Corresponding test-long performance:\n",
      "{'global': {'precision': 0.10683128439442739, 'recall': 0.23317493664132322, 'f1': 0.14425088301206307, 'auc': 0.5093891151537867, 'prauc': 0.2713013850113015}, 'per_class':                                            precision    recall        f1  \\\n",
      "Acute and unspecified renal failure         0.000000  0.000000  0.000000   \n",
      "Acute cerebrovascular disease               0.000000  0.000000  0.000000   \n",
      "Acute myocardial infarction                 0.000000  0.000000  0.000000   \n",
      "Cardiac dysrhythmias                        0.503817  0.825000  0.625592   \n",
      "Chronic kidney disease                      0.000000  0.000000  0.000000   \n",
      "Chronic obstructive pulmonary disease       0.000000  0.000000  0.000000   \n",
      "Conduction disorders                        0.000000  0.000000  0.000000   \n",
      "Congestive heart failure; nonhypertensive   0.000000  0.000000  0.000000   \n",
      "Coronary atherosclerosis and related        0.000000  0.000000  0.000000   \n",
      "Disorders of lipid metabolism               0.242424  0.489796  0.324324   \n",
      "Essential hypertension                      0.273743  1.000000  0.429825   \n",
      "Fluid and electrolyte disorders             0.532609  1.000000  0.695035   \n",
      "Gastrointestinal hemorrhage                 0.000000  0.000000  0.000000   \n",
      "Hypertension with complications             0.370370  0.882353  0.521739   \n",
      "Other liver diseases                        0.000000  0.000000  0.000000   \n",
      "Other lower respiratory disease             0.000000  0.000000  0.000000   \n",
      "Pneumonia                                   0.000000  0.000000  0.000000   \n",
      "Septicemia (except in labor)                0.000000  0.000000  0.000000   \n",
      "\n",
      "                                                auc     prauc  \n",
      "Acute and unspecified renal failure        0.518217  0.326842  \n",
      "Acute cerebrovascular disease              0.194595  0.003333  \n",
      "Acute myocardial infarction                0.471591  0.045879  \n",
      "Cardiac dysrhythmias                       0.615566  0.496786  \n",
      "Chronic kidney disease                     0.559829  0.463184  \n",
      "Chronic obstructive pulmonary disease      0.518990  0.137124  \n",
      "Conduction disorders                       0.509129  0.046181  \n",
      "Congestive heart failure; nonhypertensive  0.636679  0.630412  \n",
      "Coronary atherosclerosis and related       0.641645  0.332892  \n",
      "Disorders of lipid metabolism              0.447937  0.221678  \n",
      "Essential hypertension                     0.410100  0.214420  \n",
      "Fluid and electrolyte disorders            0.562036  0.561342  \n",
      "Gastrointestinal hemorrhage                0.488426  0.089028  \n",
      "Hypertension with complications            0.512712  0.360430  \n",
      "Other liver diseases                       0.479053  0.014366  \n",
      "Other lower respiratory disease            0.502717  0.466655  \n",
      "Pneumonia                                  0.580421  0.149002  \n",
      "Septicemia (except in labor)               0.519360  0.323869  }\n",
      "[INFO] Random seed set to 958682846\n",
      "Training with seed: 958682846\n"
     ]
    },
    {
     "name": "stderr",
     "output_type": "stream",
     "text": [
      "Training Batches: 100%|██████████| 1/1 [00:00<00:00,  2.86it/s]\n",
      "Running inference: 100%|██████████| 1/1 [00:00<00:00,  3.13it/s]\n",
      "Running inference: 100%|██████████| 1/1 [00:00<00:00,  3.19it/s]\n"
     ]
    },
    {
     "name": "stdout",
     "output_type": "stream",
     "text": [
      "Epoch: 001, Average Loss: 0.6926\n",
      "Validation: {'precision': 0.10350587233544034, 'recall': 0.2570886517846184, 'f1': 0.10641333752674655, 'auc': 0.5245468593188924, 'prauc': 0.22790927312451462}\n",
      "Test:       {'precision': 0.09437995791621055, 'recall': 0.25220368768098256, 'f1': 0.10333376999566773, 'auc': 0.5223947409746539, 'prauc': 0.2217316479604134}\n"
     ]
    },
    {
     "name": "stderr",
     "output_type": "stream",
     "text": [
      "Training Batches: 100%|██████████| 1/1 [00:00<00:00,  2.84it/s]\n",
      "Running inference: 100%|██████████| 1/1 [00:00<00:00, 14.34it/s]\n",
      "Running inference: 100%|██████████| 1/1 [00:00<00:00,  3.23it/s]\n"
     ]
    },
    {
     "name": "stdout",
     "output_type": "stream",
     "text": [
      "Epoch: 002, Average Loss: 0.6841\n",
      "Validation: {'precision': 0.11269959630735624, 'recall': 0.07932749246993594, 'f1': 0.0564892578546584, 'auc': 0.5320367554566166, 'prauc': 0.23312111012105804}\n",
      "Test:       {'precision': 0.09205490035531944, 'recall': 0.07365111988715525, 'f1': 0.0558351232819519, 'auc': 0.5205871864152828, 'prauc': 0.22346362744637988}\n"
     ]
    },
    {
     "name": "stderr",
     "output_type": "stream",
     "text": [
      "Training Batches: 100%|██████████| 1/1 [00:00<00:00,  2.84it/s]\n",
      "Running inference: 100%|██████████| 1/1 [00:00<00:00, 15.72it/s]\n",
      "Running inference: 100%|██████████| 1/1 [00:00<00:00,  3.22it/s]\n"
     ]
    },
    {
     "name": "stdout",
     "output_type": "stream",
     "text": [
      "Epoch: 003, Average Loss: 0.6743\n",
      "Validation: {'precision': 0.06415996070875364, 'recall': 0.01997591375722003, 'f1': 0.02682962201948959, 'auc': 0.5268594811214552, 'prauc': 0.22932167594598438}\n",
      "Test:       {'precision': 0.10324197308068277, 'recall': 0.016679730836665005, 'f1': 0.021891312098368552, 'auc': 0.5150796404245115, 'prauc': 0.22055668183652008}\n"
     ]
    },
    {
     "name": "stderr",
     "output_type": "stream",
     "text": [
      "Training Batches: 100%|██████████| 1/1 [00:00<00:00,  2.81it/s]\n",
      "Running inference: 100%|██████████| 1/1 [00:00<00:00, 15.61it/s]\n",
      "Running inference: 100%|██████████| 1/1 [00:00<00:00,  3.16it/s]\n"
     ]
    },
    {
     "name": "stdout",
     "output_type": "stream",
     "text": [
      "Epoch: 004, Average Loss: 0.6636\n",
      "Validation: {'precision': 0.057279956559006605, 'recall': 0.0069873541691988054, 'f1': 0.011590486538293239, 'auc': 0.5229126101994327, 'prauc': 0.22642582618559912}\n",
      "Test:       {'precision': 0.05140901771336554, 'recall': 0.006700603895311333, 'f1': 0.01118583587210468, 'auc': 0.5100320917559645, 'prauc': 0.21773291149131604}\n"
     ]
    },
    {
     "name": "stderr",
     "output_type": "stream",
     "text": [
      "Training Batches: 100%|██████████| 1/1 [00:00<00:00,  2.81it/s]\n",
      "Running inference: 100%|██████████| 1/1 [00:00<00:00, 15.60it/s]\n",
      "Running inference: 100%|██████████| 1/1 [00:00<00:00,  3.24it/s]\n"
     ]
    },
    {
     "name": "stdout",
     "output_type": "stream",
     "text": [
      "Epoch: 005, Average Loss: 0.6509\n",
      "Validation: {'precision': 0.05685531788472965, 'recall': 0.0030197690226609307, 'f1': 0.00546006087806386, 'auc': 0.5193056399839227, 'prauc': 0.22358507929235827}\n",
      "Test:       {'precision': 0.053765432098765435, 'recall': 0.0025069991452591686, 'f1': 0.004566609785095165, 'auc': 0.5061633009958405, 'prauc': 0.2152086871055479}\n"
     ]
    },
    {
     "name": "stderr",
     "output_type": "stream",
     "text": [
      "Training Batches: 100%|██████████| 1/1 [00:00<00:00,  2.83it/s]\n",
      "Running inference: 100%|██████████| 1/1 [00:00<00:00,  3.19it/s]\n",
      "Running inference: 100%|██████████| 1/1 [00:00<00:00,  3.17it/s]\n"
     ]
    },
    {
     "name": "stdout",
     "output_type": "stream",
     "text": [
      "Epoch: 006, Average Loss: 0.6354\n",
      "Validation: {'precision': 0.031450665061346174, 'recall': 0.0015009350512524336, 'f1': 0.0026648019466371355, 'auc': 0.515533773983764, 'prauc': 0.22059178542120061}\n",
      "Test:       {'precision': 0.0498936735778841, 'recall': 0.0014833087125093816, 'f1': 0.0026743654644173797, 'auc': 0.5026771777457026, 'prauc': 0.2124118586131615}\n"
     ]
    },
    {
     "name": "stderr",
     "output_type": "stream",
     "text": [
      "Training Batches: 100%|██████████| 1/1 [00:00<00:00,  9.53it/s]\n",
      "Running inference: 100%|██████████| 1/1 [00:00<00:00,  3.21it/s]\n",
      "Running inference: 100%|██████████| 1/1 [00:00<00:00,  3.19it/s]\n"
     ]
    },
    {
     "name": "stdout",
     "output_type": "stream",
     "text": [
      "Epoch: 007, Average Loss: 0.6174\n",
      "Validation: {'precision': 0.009868421052631578, 'recall': 0.0013012677106636838, 'f1': 0.002280508162861104, 'auc': 0.5123995305810859, 'prauc': 0.21844496570090344}\n",
      "Test:       {'precision': 0.013800705467372132, 'recall': 0.000977860402479329, 'f1': 0.0017018532459291402, 'auc': 0.4995844993716588, 'prauc': 0.21048713180225398}\n"
     ]
    },
    {
     "name": "stderr",
     "output_type": "stream",
     "text": [
      "Training Batches: 100%|██████████| 1/1 [00:00<00:00,  2.80it/s]\n",
      "Running inference: 100%|██████████| 1/1 [00:00<00:00, 15.64it/s]\n",
      "Running inference: 100%|██████████| 1/1 [00:00<00:00,  3.23it/s]\n"
     ]
    },
    {
     "name": "stdout",
     "output_type": "stream",
     "text": [
      "Epoch: 008, Average Loss: 0.5971\n",
      "Validation: {'precision': 0.010912698412698412, 'recall': 0.0013012677106636838, 'f1': 0.0023214602161970585, 'auc': 0.5102300076010788, 'prauc': 0.21699150498363437}\n",
      "Test:       {'precision': 0.006535947712418301, 'recall': 0.0008742119779353822, 'f1': 0.0015252895891790777, 'auc': 0.4975886538661226, 'prauc': 0.20970014326077038}\n"
     ]
    },
    {
     "name": "stderr",
     "output_type": "stream",
     "text": [
      "Training Batches: 100%|██████████| 1/1 [00:00<00:00,  2.82it/s]\n",
      "Running inference: 100%|██████████| 1/1 [00:00<00:00,  3.15it/s]\n",
      "Running inference: 100%|██████████| 1/1 [00:00<00:00, 15.82it/s]\n"
     ]
    },
    {
     "name": "stdout",
     "output_type": "stream",
     "text": [
      "Epoch: 009, Average Loss: 0.5757\n",
      "Validation: {'precision': 0.01221001221001221, 'recall': 0.0009284116331096196, 'f1': 0.0017242926554106891, 'auc': 0.5101972867029574, 'prauc': 0.21697317210324124}\n",
      "Test:       {'precision': 0.008547008547008548, 'recall': 0.0008742119779353822, 'f1': 0.001572159589412773, 'auc': 0.49772923532455216, 'prauc': 0.2097078604682877}\n"
     ]
    },
    {
     "name": "stderr",
     "output_type": "stream",
     "text": [
      "Training Batches: 100%|██████████| 1/1 [00:00<00:00,  2.83it/s]\n",
      "Running inference: 100%|██████████| 1/1 [00:00<00:00,  3.19it/s]\n",
      "Running inference: 100%|██████████| 1/1 [00:00<00:00, 15.85it/s]\n"
     ]
    },
    {
     "name": "stdout",
     "output_type": "stream",
     "text": [
      "Epoch: 010, Average Loss: 0.5531\n",
      "Validation: {'precision': 0.037037037037037035, 'recall': 0.0009284116331096196, 'f1': 0.0017840532022713705, 'auc': 0.5123483322564942, 'prauc': 0.2183692963253453}\n",
      "Test:       {'precision': 0.004273504273504274, 'recall': 0.0005787037037037037, 'f1': 0.0010193679918450561, 'auc': 0.4999737313419412, 'prauc': 0.21107981675688847}\n"
     ]
    },
    {
     "name": "stderr",
     "output_type": "stream",
     "text": [
      "Training Batches: 100%|██████████| 1/1 [00:00<00:00,  2.87it/s]\n",
      "Running inference: 100%|██████████| 1/1 [00:00<00:00,  3.18it/s]\n",
      "Running inference: 100%|██████████| 1/1 [00:00<00:00,  3.20it/s]\n"
     ]
    },
    {
     "name": "stdout",
     "output_type": "stream",
     "text": [
      "Epoch: 011, Average Loss: 0.5326\n",
      "Validation: {'precision': 0.009259259259259259, 'recall': 0.0005555555555555556, 'f1': 0.0010482180293501049, 'auc': 0.5144238316372962, 'prauc': 0.22006076315161072}\n",
      "Test:       {'precision': 0.004273504273504274, 'recall': 0.0005787037037037037, 'f1': 0.0010193679918450561, 'auc': 0.5023071273572745, 'prauc': 0.21237928161795536}\n"
     ]
    },
    {
     "name": "stderr",
     "output_type": "stream",
     "text": [
      "Training Batches: 100%|██████████| 1/1 [00:00<00:00,  9.65it/s]\n",
      "Running inference: 100%|██████████| 1/1 [00:00<00:00,  3.21it/s]\n",
      "Running inference: 100%|██████████| 1/1 [00:00<00:00,  3.20it/s]\n"
     ]
    },
    {
     "name": "stdout",
     "output_type": "stream",
     "text": [
      "Epoch: 012, Average Loss: 0.5149\n",
      "Validation: {'precision': 0.009259259259259259, 'recall': 0.0005555555555555556, 'f1': 0.0010482180293501049, 'auc': 0.5150010856658691, 'prauc': 0.22065047453127257}\n",
      "Test:       {'precision': 0.0, 'recall': 0.0, 'f1': 0.0, 'auc': 0.5032134656333969, 'prauc': 0.2128160923076623}\n",
      "\n",
      "Early stopping triggered after 12 epochs (no improvement for 10 epochs).\n",
      "\n",
      "Best validation performance:\n",
      "{'global': {'precision': 0.11269959630735624, 'recall': 0.07932749246993594, 'f1': 0.0564892578546584, 'auc': 0.5320367554566166, 'prauc': 0.23312111012105804}, 'per_class':                                            precision    recall        f1  \\\n",
      "Acute and unspecified renal failure         0.000000  0.000000  0.000000   \n",
      "Acute cerebrovascular disease               0.000000  0.000000  0.000000   \n",
      "Acute myocardial infarction                 0.000000  0.000000  0.000000   \n",
      "Cardiac dysrhythmias                        0.000000  0.000000  0.000000   \n",
      "Chronic kidney disease                      0.000000  0.000000  0.000000   \n",
      "Chronic obstructive pulmonary disease       0.000000  0.000000  0.000000   \n",
      "Conduction disorders                        0.000000  0.000000  0.000000   \n",
      "Congestive heart failure; nonhypertensive   0.417130  0.694444  0.521195   \n",
      "Coronary atherosclerosis and related        0.250000  0.008746  0.016901   \n",
      "Disorders of lipid metabolism               0.000000  0.000000  0.000000   \n",
      "Essential hypertension                      0.666667  0.003883  0.007722   \n",
      "Fluid and electrolyte disorders             0.443182  0.067944  0.117825   \n",
      "Gastrointestinal hemorrhage                 0.087719  0.150000  0.110701   \n",
      "Hypertension with complications             0.000000  0.000000  0.000000   \n",
      "Other liver diseases                        0.044118  0.214286  0.073171   \n",
      "Other lower respiratory disease             0.000000  0.000000  0.000000   \n",
      "Pneumonia                                   0.119777  0.288591  0.169291   \n",
      "Septicemia (except in labor)                0.000000  0.000000  0.000000   \n",
      "\n",
      "                                                auc     prauc  \n",
      "Acute and unspecified renal failure        0.576399  0.343332  \n",
      "Acute cerebrovascular disease              0.531250  0.012709  \n",
      "Acute myocardial infarction                0.428017  0.055411  \n",
      "Cardiac dysrhythmias                       0.560580  0.437530  \n",
      "Chronic kidney disease                     0.638223  0.301904  \n",
      "Chronic obstructive pulmonary disease      0.411982  0.106821  \n",
      "Conduction disorders                       0.446557  0.020583  \n",
      "Congestive heart failure; nonhypertensive  0.554013  0.402442  \n",
      "Coronary atherosclerosis and related       0.509936  0.252484  \n",
      "Disorders of lipid metabolism              0.472580  0.256727  \n",
      "Essential hypertension                     0.498899  0.376142  \n",
      "Fluid and electrolyte disorders            0.573598  0.452423  \n",
      "Gastrointestinal hemorrhage                0.571702  0.084026  \n",
      "Hypertension with complications            0.535978  0.238406  \n",
      "Other liver diseases                       0.573500  0.034770  \n",
      "Other lower respiratory disease            0.567299  0.411524  \n",
      "Pneumonia                                  0.549489  0.138557  \n",
      "Septicemia (except in labor)               0.576659  0.270390  }\n",
      "Corresponding test performance:\n",
      "{'global': {'precision': 0.09205490035531944, 'recall': 0.07365111988715525, 'f1': 0.0558351232819519, 'auc': 0.5205871864152828, 'prauc': 0.22346362744637988}, 'per_class':                                            precision    recall        f1  \\\n",
      "Acute and unspecified renal failure         0.000000  0.000000  0.000000   \n",
      "Acute cerebrovascular disease               0.000000  0.000000  0.000000   \n",
      "Acute myocardial infarction                 0.000000  0.000000  0.000000   \n",
      "Cardiac dysrhythmias                        0.000000  0.000000  0.000000   \n",
      "Chronic kidney disease                      0.000000  0.000000  0.000000   \n",
      "Chronic obstructive pulmonary disease       0.000000  0.000000  0.000000   \n",
      "Conduction disorders                        0.000000  0.000000  0.000000   \n",
      "Congestive heart failure; nonhypertensive   0.425056  0.708955  0.531469   \n",
      "Coronary atherosclerosis and related        0.263158  0.015576  0.029412   \n",
      "Disorders of lipid metabolism               0.000000  0.000000  0.000000   \n",
      "Essential hypertension                      0.333333  0.003968  0.007843   \n",
      "Fluid and electrolyte disorders             0.373494  0.055456  0.096573   \n",
      "Gastrointestinal hemorrhage                 0.106250  0.177083  0.132812   \n",
      "Hypertension with complications             0.000000  0.000000  0.000000   \n",
      "Other liver diseases                        0.017143  0.120000  0.030000   \n",
      "Other lower respiratory disease             0.000000  0.000000  0.000000   \n",
      "Pneumonia                                   0.138554  0.244681  0.176923   \n",
      "Septicemia (except in labor)                0.000000  0.000000  0.000000   \n",
      "\n",
      "                                                auc     prauc  \n",
      "Acute and unspecified renal failure        0.542458  0.315569  \n",
      "Acute cerebrovascular disease              0.384410  0.012915  \n",
      "Acute myocardial infarction                0.453996  0.061910  \n",
      "Cardiac dysrhythmias                       0.562737  0.432379  \n",
      "Chronic kidney disease                     0.585610  0.260734  \n",
      "Chronic obstructive pulmonary disease      0.457047  0.104198  \n",
      "Conduction disorders                       0.548176  0.028181  \n",
      "Congestive heart failure; nonhypertensive  0.572700  0.422778  \n",
      "Coronary atherosclerosis and related       0.483664  0.225614  \n",
      "Disorders of lipid metabolism              0.434410  0.226481  \n",
      "Essential hypertension                     0.524170  0.368130  \n",
      "Fluid and electrolyte disorders            0.584384  0.442702  \n",
      "Gastrointestinal hemorrhage                0.575636  0.085951  \n",
      "Hypertension with complications            0.489563  0.196631  \n",
      "Other liver diseases                       0.551249  0.018744  \n",
      "Other lower respiratory disease            0.569019  0.447703  \n",
      "Pneumonia                                  0.513021  0.133731  \n",
      "Septicemia (except in labor)               0.538319  0.237992  }\n",
      "Corresponding test-long performance:\n",
      "{'global': {'precision': 0.07710727969348657, 'recall': 0.07116840294894126, 'f1': 0.06114733836252823, 'auc': 0.5088835878660487, 'prauc': 0.26161927066783586}, 'per_class':                                            precision    recall        f1  \\\n",
      "Acute and unspecified renal failure         0.000000  0.000000  0.000000   \n",
      "Acute cerebrovascular disease               0.000000  0.000000  0.000000   \n",
      "Acute myocardial infarction                 0.000000  0.000000  0.000000   \n",
      "Cardiac dysrhythmias                        0.000000  0.000000  0.000000   \n",
      "Chronic kidney disease                      0.000000  0.000000  0.000000   \n",
      "Chronic obstructive pulmonary disease       0.000000  0.000000  0.000000   \n",
      "Conduction disorders                        0.000000  0.000000  0.000000   \n",
      "Congestive heart failure; nonhypertensive   0.537931  0.847826  0.658228   \n",
      "Coronary atherosclerosis and related        0.000000  0.000000  0.000000   \n",
      "Disorders of lipid metabolism               0.000000  0.000000  0.000000   \n",
      "Essential hypertension                      0.000000  0.000000  0.000000   \n",
      "Fluid and electrolyte disorders             0.500000  0.061224  0.109091   \n",
      "Gastrointestinal hemorrhage                 0.200000  0.111111  0.142857   \n",
      "Hypertension with complications             0.000000  0.000000  0.000000   \n",
      "Other liver diseases                        0.000000  0.000000  0.000000   \n",
      "Other lower respiratory disease             0.000000  0.000000  0.000000   \n",
      "Pneumonia                                   0.150000  0.260870  0.190476   \n",
      "Septicemia (except in labor)                0.000000  0.000000  0.000000   \n",
      "\n",
      "                                                auc     prauc  \n",
      "Acute and unspecified renal failure        0.530495  0.335263  \n",
      "Acute cerebrovascular disease              0.167568  0.003226  \n",
      "Acute myocardial infarction                0.559091  0.055975  \n",
      "Cardiac dysrhythmias                       0.601651  0.500855  \n",
      "Chronic kidney disease                     0.538343  0.412110  \n",
      "Chronic obstructive pulmonary disease      0.486779  0.130675  \n",
      "Conduction disorders                       0.586376  0.057724  \n",
      "Congestive heart failure; nonhypertensive  0.569958  0.510858  \n",
      "Coronary atherosclerosis and related       0.464389  0.202872  \n",
      "Disorders of lipid metabolism              0.403247  0.210248  \n",
      "Essential hypertension                     0.471771  0.228314  \n",
      "Fluid and electrolyte disorders            0.536062  0.547564  \n",
      "Gastrointestinal hemorrhage                0.514385  0.104622  \n",
      "Hypertension with complications            0.458001  0.321645  \n",
      "Other liver diseases                       0.591985  0.018990  \n",
      "Other lower respiratory disease            0.581059  0.568577  \n",
      "Pneumonia                                  0.519338  0.126028  \n",
      "Septicemia (except in labor)               0.579405  0.373603  }\n",
      "[INFO] Random seed set to 3163119785\n",
      "Training with seed: 3163119785\n"
     ]
    },
    {
     "name": "stderr",
     "output_type": "stream",
     "text": [
      "Training Batches: 100%|██████████| 1/1 [00:00<00:00,  2.81it/s]\n",
      "Running inference: 100%|██████████| 1/1 [00:00<00:00, 15.65it/s]\n",
      "Running inference: 100%|██████████| 1/1 [00:00<00:00,  3.18it/s]\n"
     ]
    },
    {
     "name": "stdout",
     "output_type": "stream",
     "text": [
      "Epoch: 001, Average Loss: 0.6908\n",
      "Validation: {'precision': 0.09655835702541567, 'recall': 0.10089595747192452, 'f1': 0.06493924013547342, 'auc': 0.5196502500873489, 'prauc': 0.21956492059286703}\n",
      "Test:       {'precision': 0.11778623842538069, 'recall': 0.1010438210171873, 'f1': 0.06079435505495217, 'auc': 0.5293805767107919, 'prauc': 0.2181292125351901}\n"
     ]
    },
    {
     "name": "stderr",
     "output_type": "stream",
     "text": [
      "Training Batches: 100%|██████████| 1/1 [00:00<00:00,  2.77it/s]\n",
      "Running inference: 100%|██████████| 1/1 [00:00<00:00, 15.34it/s]\n",
      "Running inference: 100%|██████████| 1/1 [00:00<00:00,  3.21it/s]\n"
     ]
    },
    {
     "name": "stdout",
     "output_type": "stream",
     "text": [
      "Epoch: 002, Average Loss: 0.6814\n",
      "Validation: {'precision': 0.10845871442675954, 'recall': 0.016902629502781864, 'f1': 0.02317899420227547, 'auc': 0.5274308924491085, 'prauc': 0.22621802024892107}\n",
      "Test:       {'precision': 0.08379741919119861, 'recall': 0.01120321571725541, 'f1': 0.0170404773272048, 'auc': 0.524866017204748, 'prauc': 0.22022153123711083}\n"
     ]
    },
    {
     "name": "stderr",
     "output_type": "stream",
     "text": [
      "Training Batches: 100%|██████████| 1/1 [00:00<00:00,  2.82it/s]\n",
      "Running inference: 100%|██████████| 1/1 [00:00<00:00,  3.16it/s]\n",
      "Running inference: 100%|██████████| 1/1 [00:00<00:00, 15.54it/s]\n"
     ]
    },
    {
     "name": "stdout",
     "output_type": "stream",
     "text": [
      "Epoch: 003, Average Loss: 0.6705\n",
      "Validation: {'precision': 0.11270753512132822, 'recall': 0.0035417590632752993, 'f1': 0.00641986734024827, 'auc': 0.5255383614065011, 'prauc': 0.22610080915738262}\n",
      "Test:       {'precision': 0.0558970317835566, 'recall': 0.00322248482455446, 'f1': 0.005896571280588104, 'auc': 0.517817361122221, 'prauc': 0.21886153504626862}\n"
     ]
    },
    {
     "name": "stderr",
     "output_type": "stream",
     "text": [
      "Training Batches: 100%|██████████| 1/1 [00:00<00:00,  2.81it/s]\n",
      "Running inference: 100%|██████████| 1/1 [00:00<00:00,  3.20it/s]\n",
      "Running inference: 100%|██████████| 1/1 [00:00<00:00, 15.77it/s]\n"
     ]
    },
    {
     "name": "stdout",
     "output_type": "stream",
     "text": [
      "Epoch: 004, Average Loss: 0.6582\n",
      "Validation: {'precision': 0.03761214630779849, 'recall': 0.0018977858878270223, 'f1': 0.00361268523194125, 'auc': 0.5193699475599558, 'prauc': 0.2217126122498252}\n",
      "Test:       {'precision': 0.04135802469135803, 'recall': 0.0017053841041444091, 'f1': 0.0032198830697658383, 'auc': 0.5085274134857635, 'prauc': 0.21493867579849965}\n"
     ]
    },
    {
     "name": "stderr",
     "output_type": "stream",
     "text": [
      "Training Batches: 100%|██████████| 1/1 [00:00<00:00,  2.83it/s]\n",
      "Running inference: 100%|██████████| 1/1 [00:00<00:00,  3.18it/s]\n",
      "Running inference: 100%|██████████| 1/1 [00:00<00:00,  3.18it/s]\n"
     ]
    },
    {
     "name": "stdout",
     "output_type": "stream",
     "text": [
      "Epoch: 005, Average Loss: 0.6432\n",
      "Validation: {'precision': 0.03367003367003366, 'recall': 0.001129736732681093, 'f1': 0.0021827554266843864, 'auc': 0.5139526013067434, 'prauc': 0.2183278664101263}\n",
      "Test:       {'precision': 0.011728395061728396, 'recall': 0.0006970001115200179, 'f1': 0.001283648582323404, 'auc': 0.5017469994575724, 'prauc': 0.21169214407290235}\n"
     ]
    },
    {
     "name": "stderr",
     "output_type": "stream",
     "text": [
      "Training Batches: 100%|██████████| 1/1 [00:00<00:00,  9.39it/s]\n",
      "Running inference: 100%|██████████| 1/1 [00:00<00:00,  3.20it/s]\n",
      "Running inference: 100%|██████████| 1/1 [00:00<00:00,  3.23it/s]\n"
     ]
    },
    {
     "name": "stdout",
     "output_type": "stream",
     "text": [
      "Epoch: 006, Average Loss: 0.6255\n",
      "Validation: {'precision': 0.009259259259259259, 'recall': 0.00012800819252432156, 'f1': 0.0002525252525252525, 'auc': 0.5099333047665827, 'prauc': 0.21544665909111216}\n",
      "Test:       {'precision': 0.014109347442680775, 'recall': 0.0006970001115200179, 'f1': 0.0012944379842179058, 'auc': 0.4972045975897511, 'prauc': 0.20929406189582198}\n"
     ]
    },
    {
     "name": "stderr",
     "output_type": "stream",
     "text": [
      "Training Batches: 100%|██████████| 1/1 [00:00<00:00,  2.87it/s]\n",
      "Running inference: 100%|██████████| 1/1 [00:00<00:00, 15.62it/s]\n",
      "Running inference: 100%|██████████| 1/1 [00:00<00:00,  3.21it/s]\n"
     ]
    },
    {
     "name": "stdout",
     "output_type": "stream",
     "text": [
      "Epoch: 007, Average Loss: 0.6055\n",
      "Validation: {'precision': 0.011111111111111112, 'recall': 0.00012800819252432156, 'f1': 0.0002531004808909137, 'auc': 0.5072665138325299, 'prauc': 0.21316260749978816}\n",
      "Test:       {'precision': 0.016203703703703703, 'recall': 0.0006970001115200179, 'f1': 0.0013048256762579827, 'auc': 0.4939083683576329, 'prauc': 0.20771134552222184}\n"
     ]
    },
    {
     "name": "stderr",
     "output_type": "stream",
     "text": [
      "Training Batches: 100%|██████████| 1/1 [00:00<00:00,  2.85it/s]\n",
      "Running inference: 100%|██████████| 1/1 [00:00<00:00,  3.18it/s]\n",
      "Running inference: 100%|██████████| 1/1 [00:00<00:00, 16.10it/s]\n"
     ]
    },
    {
     "name": "stdout",
     "output_type": "stream",
     "text": [
      "Epoch: 008, Average Loss: 0.5835\n",
      "Validation: {'precision': 0.018518518518518517, 'recall': 0.00012800819252432156, 'f1': 0.0002542588354945334, 'auc': 0.5039223633671863, 'prauc': 0.21105682702799472}\n",
      "Test:       {'precision': 0.024691358024691357, 'recall': 0.0006970001115200179, 'f1': 0.0012968195319858, 'auc': 0.49028687751711747, 'prauc': 0.20595399120638114}\n"
     ]
    },
    {
     "name": "stderr",
     "output_type": "stream",
     "text": [
      "Training Batches: 100%|██████████| 1/1 [00:00<00:00,  2.83it/s]\n",
      "Running inference: 100%|██████████| 1/1 [00:00<00:00,  3.17it/s]\n",
      "Running inference: 100%|██████████| 1/1 [00:00<00:00, 15.67it/s]\n"
     ]
    },
    {
     "name": "stdout",
     "output_type": "stream",
     "text": [
      "Epoch: 009, Average Loss: 0.5606\n",
      "Validation: {'precision': 0.0, 'recall': 0.0, 'f1': 0.0, 'auc': 0.5002605990673096, 'prauc': 0.20885979118938947}\n",
      "Test:       {'precision': 0.03395061728395062, 'recall': 0.0006970001115200179, 'f1': 0.0012974218581695215, 'auc': 0.48691709604484107, 'prauc': 0.20415594679969773}\n"
     ]
    },
    {
     "name": "stderr",
     "output_type": "stream",
     "text": [
      "Training Batches: 100%|██████████| 1/1 [00:00<00:00,  2.84it/s]\n",
      "Running inference: 100%|██████████| 1/1 [00:00<00:00,  3.19it/s]\n",
      "Running inference: 100%|██████████| 1/1 [00:00<00:00, 15.75it/s]\n"
     ]
    },
    {
     "name": "stdout",
     "output_type": "stream",
     "text": [
      "Epoch: 010, Average Loss: 0.5384\n",
      "Validation: {'precision': 0.0, 'recall': 0.0, 'f1': 0.0, 'auc': 0.49977258621458603, 'prauc': 0.20860314480037342}\n",
      "Test:       {'precision': 0.006172839506172839, 'recall': 0.0005668934240362811, 'f1': 0.0010384215991692627, 'auc': 0.48719931113933534, 'prauc': 0.20421533592816005}\n"
     ]
    },
    {
     "name": "stderr",
     "output_type": "stream",
     "text": [
      "Training Batches: 100%|██████████| 1/1 [00:00<00:00,  2.86it/s]\n",
      "Running inference: 100%|██████████| 1/1 [00:00<00:00,  3.17it/s]\n",
      "Running inference: 100%|██████████| 1/1 [00:00<00:00,  3.19it/s]\n"
     ]
    },
    {
     "name": "stdout",
     "output_type": "stream",
     "text": [
      "Epoch: 011, Average Loss: 0.5188\n",
      "Validation: {'precision': 0.0, 'recall': 0.0, 'f1': 0.0, 'auc': 0.5013956130550127, 'prauc': 0.2090235111304818}\n",
      "Test:       {'precision': 0.006172839506172839, 'recall': 0.0005668934240362811, 'f1': 0.0010384215991692627, 'auc': 0.4900320109748205, 'prauc': 0.20512038263462407}\n"
     ]
    },
    {
     "name": "stderr",
     "output_type": "stream",
     "text": [
      "Training Batches: 100%|██████████| 1/1 [00:00<00:00,  2.81it/s]\n",
      "Running inference: 100%|██████████| 1/1 [00:00<00:00, 15.65it/s]\n",
      "Running inference: 100%|██████████| 1/1 [00:00<00:00,  3.20it/s]\n"
     ]
    },
    {
     "name": "stdout",
     "output_type": "stream",
     "text": [
      "Epoch: 012, Average Loss: 0.5031\n",
      "Validation: {'precision': 0.0, 'recall': 0.0, 'f1': 0.0, 'auc': 0.5058678817308417, 'prauc': 0.21112116889881422}\n",
      "Test:       {'precision': 0.006944444444444444, 'recall': 0.0005668934240362811, 'f1': 0.0010482180293501049, 'auc': 0.49655786090959864, 'prauc': 0.2076467136268297}\n",
      "\n",
      "Early stopping triggered after 12 epochs (no improvement for 10 epochs).\n",
      "\n",
      "Best validation performance:\n",
      "{'global': {'precision': 0.10845871442675954, 'recall': 0.016902629502781864, 'f1': 0.02317899420227547, 'auc': 0.5274308924491085, 'prauc': 0.22621802024892107}, 'per_class':                                            precision    recall        f1  \\\n",
      "Acute and unspecified renal failure         0.362245  0.163594  0.225397   \n",
      "Acute cerebrovascular disease               0.000000  0.000000  0.000000   \n",
      "Acute myocardial infarction                 0.062500  0.010526  0.018018   \n",
      "Cardiac dysrhythmias                        0.000000  0.000000  0.000000   \n",
      "Chronic kidney disease                      0.000000  0.000000  0.000000   \n",
      "Chronic obstructive pulmonary disease       0.000000  0.000000  0.000000   \n",
      "Conduction disorders                        0.000000  0.000000  0.000000   \n",
      "Congestive heart failure; nonhypertensive   0.000000  0.000000  0.000000   \n",
      "Coronary atherosclerosis and related        0.242424  0.069971  0.108597   \n",
      "Disorders of lipid metabolism               0.000000  0.000000  0.000000   \n",
      "Essential hypertension                      0.750000  0.005825  0.011561   \n",
      "Fluid and electrolyte disorders             0.000000  0.000000  0.000000   \n",
      "Gastrointestinal hemorrhage                 0.000000  0.000000  0.000000   \n",
      "Hypertension with complications             0.000000  0.000000  0.000000   \n",
      "Other liver diseases                        0.035088  0.047619  0.040404   \n",
      "Other lower respiratory disease             0.000000  0.000000  0.000000   \n",
      "Pneumonia                                   0.500000  0.006711  0.013245   \n",
      "Septicemia (except in labor)                0.000000  0.000000  0.000000   \n",
      "\n",
      "                                                auc     prauc  \n",
      "Acute and unspecified renal failure        0.564736  0.349966  \n",
      "Acute cerebrovascular disease              0.522669  0.013187  \n",
      "Acute myocardial infarction                0.449450  0.057250  \n",
      "Cardiac dysrhythmias                       0.485684  0.360566  \n",
      "Chronic kidney disease                     0.560414  0.263537  \n",
      "Chronic obstructive pulmonary disease      0.472775  0.120985  \n",
      "Conduction disorders                       0.466517  0.020636  \n",
      "Congestive heart failure; nonhypertensive  0.514382  0.372528  \n",
      "Coronary atherosclerosis and related       0.508166  0.244209  \n",
      "Disorders of lipid metabolism              0.500133  0.266385  \n",
      "Essential hypertension                     0.598643  0.464600  \n",
      "Fluid and electrolyte disorders            0.535046  0.416004  \n",
      "Gastrointestinal hemorrhage                0.569168  0.091563  \n",
      "Hypertension with complications            0.511153  0.220290  \n",
      "Other liver diseases                       0.554128  0.031764  \n",
      "Other lower respiratory disease            0.522572  0.363226  \n",
      "Pneumonia                                  0.546567  0.129664  \n",
      "Septicemia (except in labor)               0.611553  0.285564  }\n",
      "Corresponding test performance:\n",
      "{'global': {'precision': 0.08379741919119861, 'recall': 0.01120321571725541, 'f1': 0.0170404773272048, 'auc': 0.524866017204748, 'prauc': 0.22022153123711083}, 'per_class':                                            precision    recall        f1  \\\n",
      "Acute and unspecified renal failure         0.337423  0.128806  0.186441   \n",
      "Acute cerebrovascular disease               0.000000  0.000000  0.000000   \n",
      "Acute myocardial infarction                 0.000000  0.000000  0.000000   \n",
      "Cardiac dysrhythmias                        0.000000  0.000000  0.000000   \n",
      "Chronic kidney disease                      0.000000  0.000000  0.000000   \n",
      "Chronic obstructive pulmonary disease       0.000000  0.000000  0.000000   \n",
      "Conduction disorders                        0.000000  0.000000  0.000000   \n",
      "Congestive heart failure; nonhypertensive   0.000000  0.000000  0.000000   \n",
      "Coronary atherosclerosis and related        0.220930  0.059190  0.093366   \n",
      "Disorders of lipid metabolism               0.000000  0.000000  0.000000   \n",
      "Essential hypertension                      0.750000  0.011905  0.023438   \n",
      "Fluid and electrolyte disorders             0.000000  0.000000  0.000000   \n",
      "Gastrointestinal hemorrhage                 0.000000  0.000000  0.000000   \n",
      "Hypertension with complications             0.000000  0.000000  0.000000   \n",
      "Other liver diseases                        0.000000  0.000000  0.000000   \n",
      "Other lower respiratory disease             0.200000  0.001757  0.003484   \n",
      "Pneumonia                                   0.000000  0.000000  0.000000   \n",
      "Septicemia (except in labor)                0.000000  0.000000  0.000000   \n",
      "\n",
      "                                                auc     prauc  \n",
      "Acute and unspecified renal failure        0.555614  0.333662  \n",
      "Acute cerebrovascular disease              0.484578  0.016280  \n",
      "Acute myocardial infarction                0.500459  0.069972  \n",
      "Cardiac dysrhythmias                       0.498960  0.362547  \n",
      "Chronic kidney disease                     0.534266  0.231927  \n",
      "Chronic obstructive pulmonary disease      0.497645  0.116916  \n",
      "Conduction disorders                       0.532670  0.026295  \n",
      "Congestive heart failure; nonhypertensive  0.560821  0.424215  \n",
      "Coronary atherosclerosis and related       0.512019  0.235085  \n",
      "Disorders of lipid metabolism              0.462139  0.238193  \n",
      "Essential hypertension                     0.584954  0.409944  \n",
      "Fluid and electrolyte disorders            0.523719  0.401033  \n",
      "Gastrointestinal hemorrhage                0.552539  0.083452  \n",
      "Hypertension with complications            0.477698  0.197724  \n",
      "Other liver diseases                       0.536549  0.018237  \n",
      "Other lower respiratory disease            0.536095  0.411475  \n",
      "Pneumonia                                  0.531821  0.138906  \n",
      "Septicemia (except in labor)               0.565042  0.248125  }\n",
      "Corresponding test-long performance:\n",
      "{'global': {'precision': 0.016666666666666666, 'recall': 0.002824858757062147, 'f1': 0.004830917874396135, 'auc': 0.5200374721965905, 'prauc': 0.2682451868086788}, 'per_class':                                            precision    recall        f1  \\\n",
      "Acute and unspecified renal failure              0.3  0.050847  0.086957   \n",
      "Acute cerebrovascular disease                    0.0  0.000000  0.000000   \n",
      "Acute myocardial infarction                      0.0  0.000000  0.000000   \n",
      "Cardiac dysrhythmias                             0.0  0.000000  0.000000   \n",
      "Chronic kidney disease                           0.0  0.000000  0.000000   \n",
      "Chronic obstructive pulmonary disease            0.0  0.000000  0.000000   \n",
      "Conduction disorders                             0.0  0.000000  0.000000   \n",
      "Congestive heart failure; nonhypertensive        0.0  0.000000  0.000000   \n",
      "Coronary atherosclerosis and related             0.0  0.000000  0.000000   \n",
      "Disorders of lipid metabolism                    0.0  0.000000  0.000000   \n",
      "Essential hypertension                           0.0  0.000000  0.000000   \n",
      "Fluid and electrolyte disorders                  0.0  0.000000  0.000000   \n",
      "Gastrointestinal hemorrhage                      0.0  0.000000  0.000000   \n",
      "Hypertension with complications                  0.0  0.000000  0.000000   \n",
      "Other liver diseases                             0.0  0.000000  0.000000   \n",
      "Other lower respiratory disease                  0.0  0.000000  0.000000   \n",
      "Pneumonia                                        0.0  0.000000  0.000000   \n",
      "Septicemia (except in labor)                     0.0  0.000000  0.000000   \n",
      "\n",
      "                                                auc     prauc  \n",
      "Acute and unspecified renal failure        0.521954  0.317573  \n",
      "Acute cerebrovascular disease              0.227027  0.003472  \n",
      "Acute myocardial infarction                0.613068  0.064800  \n",
      "Cardiac dysrhythmias                       0.554363  0.470368  \n",
      "Chronic kidney disease                     0.510328  0.404303  \n",
      "Chronic obstructive pulmonary disease      0.564423  0.160313  \n",
      "Conduction disorders                       0.582865  0.064470  \n",
      "Congestive heart failure; nonhypertensive  0.625636  0.577614  \n",
      "Coronary atherosclerosis and related       0.485595  0.219153  \n",
      "Disorders of lipid metabolism              0.446000  0.226302  \n",
      "Essential hypertension                     0.553851  0.289655  \n",
      "Fluid and electrolyte disorders            0.532004  0.549162  \n",
      "Gastrointestinal hemorrhage                0.534061  0.119988  \n",
      "Hypertension with complications            0.454636  0.338360  \n",
      "Other liver diseases                       0.519126  0.015657  \n",
      "Other lower respiratory disease            0.562442  0.535893  \n",
      "Pneumonia                                  0.520405  0.126699  \n",
      "Septicemia (except in labor)               0.552890  0.344631  }\n",
      "[INFO] Random seed set to 1812140441\n",
      "Training with seed: 1812140441\n"
     ]
    },
    {
     "name": "stderr",
     "output_type": "stream",
     "text": [
      "Training Batches: 100%|██████████| 1/1 [00:00<00:00,  2.84it/s]\n",
      "Running inference: 100%|██████████| 1/1 [00:00<00:00, 15.65it/s]\n",
      "Running inference: 100%|██████████| 1/1 [00:00<00:00,  3.15it/s]\n"
     ]
    },
    {
     "name": "stdout",
     "output_type": "stream",
     "text": [
      "Epoch: 001, Average Loss: 0.6967\n",
      "Validation: {'precision': 0.16397862543753686, 'recall': 0.42757823960698793, 'f1': 0.18345254573446335, 'auc': 0.5213285075873966, 'prauc': 0.22231434164120734}\n",
      "Test:       {'precision': 0.1736211756331792, 'recall': 0.41769532389644215, 'f1': 0.1787846998808347, 'auc': 0.5206229541168903, 'prauc': 0.21503320842188012}\n"
     ]
    },
    {
     "name": "stderr",
     "output_type": "stream",
     "text": [
      "Training Batches: 100%|██████████| 1/1 [00:00<00:00,  2.80it/s]\n",
      "Running inference: 100%|██████████| 1/1 [00:00<00:00, 15.82it/s]\n",
      "Running inference: 100%|██████████| 1/1 [00:00<00:00,  3.23it/s]\n"
     ]
    },
    {
     "name": "stdout",
     "output_type": "stream",
     "text": [
      "Epoch: 002, Average Loss: 0.6864\n",
      "Validation: {'precision': 0.13925564066501128, 'recall': 0.1398718354473482, 'f1': 0.10524826584872814, 'auc': 0.5299857805712415, 'prauc': 0.22764425041791275}\n",
      "Test:       {'precision': 0.1215287743656836, 'recall': 0.14673072403084744, 'f1': 0.10077906462238541, 'auc': 0.5253042761265263, 'prauc': 0.22080812183002138}\n"
     ]
    },
    {
     "name": "stderr",
     "output_type": "stream",
     "text": [
      "Training Batches: 100%|██████████| 1/1 [00:00<00:00,  2.82it/s]\n",
      "Running inference: 100%|██████████| 1/1 [00:00<00:00,  3.17it/s]\n",
      "Running inference: 100%|██████████| 1/1 [00:00<00:00, 15.83it/s]\n"
     ]
    },
    {
     "name": "stdout",
     "output_type": "stream",
     "text": [
      "Epoch: 003, Average Loss: 0.6769\n",
      "Validation: {'precision': 0.11373025020441882, 'recall': 0.05360097248516764, 'f1': 0.04629479986746394, 'auc': 0.5259583703676279, 'prauc': 0.22808954855817445}\n",
      "Test:       {'precision': 0.0997764972019418, 'recall': 0.05642283141881407, 'f1': 0.04594213227791072, 'auc': 0.5206173846357943, 'prauc': 0.22170410429197504}\n"
     ]
    },
    {
     "name": "stderr",
     "output_type": "stream",
     "text": [
      "Training Batches: 100%|██████████| 1/1 [00:00<00:00,  2.83it/s]\n",
      "Running inference: 100%|██████████| 1/1 [00:00<00:00,  3.24it/s]\n",
      "Running inference: 100%|██████████| 1/1 [00:00<00:00, 15.79it/s]\n"
     ]
    },
    {
     "name": "stdout",
     "output_type": "stream",
     "text": [
      "Epoch: 004, Average Loss: 0.6656\n",
      "Validation: {'precision': 0.08647829315863972, 'recall': 0.008164100919519947, 'f1': 0.01413929593968201, 'auc': 0.5210235268362652, 'prauc': 0.22465458036551444}\n",
      "Test:       {'precision': 0.07105848773346447, 'recall': 0.008425835493760558, 'f1': 0.014439834198650537, 'auc': 0.5144401242521962, 'prauc': 0.21782824666664372}\n"
     ]
    },
    {
     "name": "stderr",
     "output_type": "stream",
     "text": [
      "Training Batches: 100%|██████████| 1/1 [00:00<00:00,  2.85it/s]\n",
      "Running inference: 100%|██████████| 1/1 [00:00<00:00,  3.18it/s]\n",
      "Running inference: 100%|██████████| 1/1 [00:00<00:00,  3.22it/s]\n"
     ]
    },
    {
     "name": "stdout",
     "output_type": "stream",
     "text": [
      "Epoch: 005, Average Loss: 0.6520\n",
      "Validation: {'precision': 0.048059116809116814, 'recall': 0.0021461034304283986, 'f1': 0.0039970914188545365, 'auc': 0.5174121552875042, 'prauc': 0.2220868965707427}\n",
      "Test:       {'precision': 0.044060705090116864, 'recall': 0.002372388657467125, 'f1': 0.0043612493149585855, 'auc': 0.5093483015982875, 'prauc': 0.21465043708900533}\n"
     ]
    },
    {
     "name": "stderr",
     "output_type": "stream",
     "text": [
      "Training Batches: 100%|██████████| 1/1 [00:00<00:00,  9.68it/s]\n",
      "Running inference: 100%|██████████| 1/1 [00:00<00:00,  3.21it/s]\n",
      "Running inference: 100%|██████████| 1/1 [00:00<00:00,  3.30it/s]\n"
     ]
    },
    {
     "name": "stdout",
     "output_type": "stream",
     "text": [
      "Epoch: 006, Average Loss: 0.6355\n",
      "Validation: {'precision': 0.056782581453634094, 'recall': 0.0019299339535585325, 'f1': 0.003589088370592436, 'auc': 0.5142698352193942, 'prauc': 0.2194921193790458}\n",
      "Test:       {'precision': 0.045465645465645466, 'recall': 0.0017078580531926096, 'f1': 0.003236012437991381, 'auc': 0.5052744734221173, 'prauc': 0.2120670291347955}\n"
     ]
    },
    {
     "name": "stderr",
     "output_type": "stream",
     "text": [
      "Training Batches: 100%|██████████| 1/1 [00:00<00:00,  2.81it/s]\n",
      "Running inference: 100%|██████████| 1/1 [00:00<00:00, 15.55it/s]\n",
      "Running inference: 100%|██████████| 1/1 [00:00<00:00,  3.21it/s]\n"
     ]
    },
    {
     "name": "stdout",
     "output_type": "stream",
     "text": [
      "Epoch: 007, Average Loss: 0.6169\n",
      "Validation: {'precision': 0.03138616557734205, 'recall': 0.0018331472714059967, 'f1': 0.00340212911943842, 'auc': 0.5115887139870262, 'prauc': 0.2172629682236139}\n",
      "Test:       {'precision': 0.03780864197530864, 'recall': 0.0010433274489180934, 'f1': 0.0020263024888670326, 'auc': 0.5017752959602869, 'prauc': 0.21013765016628444}\n"
     ]
    },
    {
     "name": "stderr",
     "output_type": "stream",
     "text": [
      "Training Batches: 100%|██████████| 1/1 [00:00<00:00,  2.90it/s]\n",
      "Running inference: 100%|██████████| 1/1 [00:00<00:00, 15.93it/s]\n",
      "Running inference: 100%|██████████| 1/1 [00:00<00:00,  3.26it/s]\n"
     ]
    },
    {
     "name": "stdout",
     "output_type": "stream",
     "text": [
      "Epoch: 008, Average Loss: 0.5961\n",
      "Validation: {'precision': 0.03591269841269841, 'recall': 0.0008712656394280027, 'f1': 0.0016631683905579337, 'auc': 0.5084746319871218, 'prauc': 0.21478109413724442}\n",
      "Test:       {'precision': 0.04034391534391534, 'recall': 0.0007670550418131208, 'f1': 0.0014992355246103801, 'auc': 0.4977584302823696, 'prauc': 0.20822301640938995}\n"
     ]
    },
    {
     "name": "stderr",
     "output_type": "stream",
     "text": [
      "Training Batches: 100%|██████████| 1/1 [00:00<00:00,  2.86it/s]\n",
      "Running inference: 100%|██████████| 1/1 [00:00<00:00,  3.19it/s]\n",
      "Running inference: 100%|██████████| 1/1 [00:00<00:00, 13.54it/s]\n"
     ]
    },
    {
     "name": "stdout",
     "output_type": "stream",
     "text": [
      "Epoch: 009, Average Loss: 0.5732\n",
      "Validation: {'precision': 0.05555555555555555, 'recall': 0.00021616947686986597, 'f1': 0.0004306632213608958, 'auc': 0.5060703917763575, 'prauc': 0.21318618228106226}\n",
      "Test:       {'precision': 0.027777777777777776, 'recall': 0.00019527436047646942, 'f1': 0.00038782237735117316, 'auc': 0.4947943544893911, 'prauc': 0.2066424551543517}\n"
     ]
    },
    {
     "name": "stderr",
     "output_type": "stream",
     "text": [
      "Training Batches: 100%|██████████| 1/1 [00:00<00:00,  2.86it/s]\n",
      "Running inference: 100%|██████████| 1/1 [00:00<00:00,  3.18it/s]\n",
      "Running inference: 100%|██████████| 1/1 [00:00<00:00,  3.17it/s]\n"
     ]
    },
    {
     "name": "stdout",
     "output_type": "stream",
     "text": [
      "Epoch: 010, Average Loss: 0.5509\n",
      "Validation: {'precision': 0.0, 'recall': 0.0, 'f1': 0.0, 'auc': 0.5057367831660934, 'prauc': 0.21277177892685528}\n",
      "Test:       {'precision': 0.027777777777777776, 'recall': 9.763718023823471e-05, 'f1': 0.0001945903872348706, 'auc': 0.49425042473176234, 'prauc': 0.20652503460316646}\n"
     ]
    },
    {
     "name": "stderr",
     "output_type": "stream",
     "text": [
      "Training Batches: 100%|██████████| 1/1 [00:00<00:00,  9.58it/s]\n",
      "Running inference: 100%|██████████| 1/1 [00:00<00:00,  3.24it/s]\n",
      "Running inference: 100%|██████████| 1/1 [00:00<00:00,  3.22it/s]\n"
     ]
    },
    {
     "name": "stdout",
     "output_type": "stream",
     "text": [
      "Epoch: 011, Average Loss: 0.5300\n",
      "Validation: {'precision': 0.0, 'recall': 0.0, 'f1': 0.0, 'auc': 0.5076367057876963, 'prauc': 0.21347035042208842}\n",
      "Test:       {'precision': 0.0, 'recall': 0.0, 'f1': 0.0, 'auc': 0.4963731946135369, 'prauc': 0.20749071662185084}\n"
     ]
    },
    {
     "name": "stderr",
     "output_type": "stream",
     "text": [
      "Training Batches: 100%|██████████| 1/1 [00:00<00:00,  3.15it/s]\n",
      "Running inference: 100%|██████████| 1/1 [00:00<00:00, 16.10it/s]\n",
      "Running inference: 100%|██████████| 1/1 [00:00<00:00,  3.45it/s]\n"
     ]
    },
    {
     "name": "stdout",
     "output_type": "stream",
     "text": [
      "Epoch: 012, Average Loss: 0.5139\n",
      "Validation: {'precision': 0.0, 'recall': 0.0, 'f1': 0.0, 'auc': 0.5112220338794872, 'prauc': 0.21541907691292253}\n",
      "Test:       {'precision': 0.0, 'recall': 0.0, 'f1': 0.0, 'auc': 0.5007263440146825, 'prauc': 0.20958024571247252}\n"
     ]
    },
    {
     "name": "stderr",
     "output_type": "stream",
     "text": [
      "Training Batches: 100%|██████████| 1/1 [00:00<00:00,  2.95it/s]\n",
      "Running inference: 100%|██████████| 1/1 [00:00<00:00, 16.12it/s]\n",
      "Running inference: 100%|██████████| 1/1 [00:00<00:00,  3.15it/s]\n"
     ]
    },
    {
     "name": "stdout",
     "output_type": "stream",
     "text": [
      "Epoch: 013, Average Loss: 0.5013\n",
      "Validation: {'precision': 0.0, 'recall': 0.0, 'f1': 0.0, 'auc': 0.5146609648507776, 'prauc': 0.21717817848261306}\n",
      "Test:       {'precision': 0.0, 'recall': 0.0, 'f1': 0.0, 'auc': 0.5048535681246875, 'prauc': 0.21155769491154727}\n",
      "\n",
      "Early stopping triggered after 13 epochs (no improvement for 10 epochs).\n",
      "\n",
      "Best validation performance:\n",
      "{'global': {'precision': 0.11373025020441882, 'recall': 0.05360097248516764, 'f1': 0.04629479986746394, 'auc': 0.5259583703676279, 'prauc': 0.22808954855817445}, 'per_class':                                            precision    recall        f1  \\\n",
      "Acute and unspecified renal failure         0.000000  0.000000  0.000000   \n",
      "Acute cerebrovascular disease               0.000000  0.000000  0.000000   \n",
      "Acute myocardial infarction                 0.014925  0.010526  0.012346   \n",
      "Cardiac dysrhythmias                        0.000000  0.000000  0.000000   \n",
      "Chronic kidney disease                      0.142857  0.002941  0.005764   \n",
      "Chronic obstructive pulmonary disease       0.000000  0.000000  0.000000   \n",
      "Conduction disorders                        0.000000  0.000000  0.000000   \n",
      "Congestive heart failure; nonhypertensive   0.412621  0.787037  0.541401   \n",
      "Coronary atherosclerosis and related        0.000000  0.000000  0.000000   \n",
      "Disorders of lipid metabolism               0.142857  0.002625  0.005155   \n",
      "Essential hypertension                      0.000000  0.000000  0.000000   \n",
      "Fluid and electrolyte disorders             0.611111  0.019164  0.037162   \n",
      "Gastrointestinal hemorrhage                 0.066667  0.010000  0.017391   \n",
      "Hypertension with complications             0.076923  0.006270  0.011594   \n",
      "Other liver diseases                        0.000000  0.000000  0.000000   \n",
      "Other lower respiratory disease             0.331034  0.093385  0.145675   \n",
      "Pneumonia                                   0.148148  0.026846  0.045455   \n",
      "Septicemia (except in labor)                0.100000  0.006024  0.011364   \n",
      "\n",
      "                                                auc     prauc  \n",
      "Acute and unspecified renal failure        0.552951  0.335517  \n",
      "Acute cerebrovascular disease              0.476133  0.011060  \n",
      "Acute myocardial infarction                0.439344  0.056472  \n",
      "Cardiac dysrhythmias                       0.519296  0.388437  \n",
      "Chronic kidney disease                     0.574864  0.273503  \n",
      "Chronic obstructive pulmonary disease      0.475587  0.120658  \n",
      "Conduction disorders                       0.469444  0.021999  \n",
      "Congestive heart failure; nonhypertensive  0.560403  0.421605  \n",
      "Coronary atherosclerosis and related       0.488909  0.227174  \n",
      "Disorders of lipid metabolism              0.514047  0.277133  \n",
      "Essential hypertension                     0.563945  0.408000  \n",
      "Fluid and electrolyte disorders            0.562250  0.448382  \n",
      "Gastrointestinal hemorrhage                0.536676  0.075710  \n",
      "Hypertension with complications            0.541946  0.239233  \n",
      "Other liver diseases                       0.528422  0.031049  \n",
      "Other lower respiratory disease            0.526868  0.372746  \n",
      "Pneumonia                                  0.543640  0.121341  \n",
      "Septicemia (except in labor)               0.592525  0.275592  }\n",
      "Corresponding test performance:\n",
      "{'global': {'precision': 0.0997764972019418, 'recall': 0.05642283141881407, 'f1': 0.04594213227791072, 'auc': 0.5206173846357943, 'prauc': 0.22170410429197504}, 'per_class':                                            precision    recall        f1  \\\n",
      "Acute and unspecified renal failure         0.000000  0.000000  0.000000   \n",
      "Acute cerebrovascular disease               0.000000  0.000000  0.000000   \n",
      "Acute myocardial infarction                 0.076923  0.051020  0.061350   \n",
      "Cardiac dysrhythmias                        0.000000  0.000000  0.000000   \n",
      "Chronic kidney disease                      0.000000  0.000000  0.000000   \n",
      "Chronic obstructive pulmonary disease       0.000000  0.000000  0.000000   \n",
      "Conduction disorders                        0.000000  0.000000  0.000000   \n",
      "Congestive heart failure; nonhypertensive   0.422326  0.847015  0.563625   \n",
      "Coronary atherosclerosis and related        0.000000  0.000000  0.000000   \n",
      "Disorders of lipid metabolism               0.200000  0.002740  0.005405   \n",
      "Essential hypertension                      0.000000  0.000000  0.000000   \n",
      "Fluid and electrolyte disorders             0.400000  0.010733  0.020906   \n",
      "Gastrointestinal hemorrhage                 0.000000  0.000000  0.000000   \n",
      "Hypertension with complications             0.095238  0.006536  0.012232   \n",
      "Other liver diseases                        0.000000  0.000000  0.000000   \n",
      "Other lower respiratory disease             0.376000  0.082601  0.135447   \n",
      "Pneumonia                                   0.058824  0.005319  0.009756   \n",
      "Septicemia (except in labor)                0.166667  0.009646  0.018237   \n",
      "\n",
      "                                                auc     prauc  \n",
      "Acute and unspecified renal failure        0.513199  0.301077  \n",
      "Acute cerebrovascular disease              0.438237  0.015221  \n",
      "Acute myocardial infarction                0.483010  0.068249  \n",
      "Cardiac dysrhythmias                       0.547770  0.393367  \n",
      "Chronic kidney disease                     0.540472  0.239876  \n",
      "Chronic obstructive pulmonary disease      0.505880  0.120868  \n",
      "Conduction disorders                       0.516659  0.025085  \n",
      "Congestive heart failure; nonhypertensive  0.613345  0.469535  \n",
      "Coronary atherosclerosis and related       0.476510  0.212363  \n",
      "Disorders of lipid metabolism              0.464298  0.241536  \n",
      "Essential hypertension                     0.561085  0.400618  \n",
      "Fluid and electrolyte disorders            0.556099  0.418168  \n",
      "Gastrointestinal hemorrhage                0.524361  0.072346  \n",
      "Hypertension with complications            0.506422  0.210104  \n",
      "Other liver diseases                       0.517285  0.016872  \n",
      "Other lower respiratory disease            0.535341  0.413022  \n",
      "Pneumonia                                  0.514212  0.135644  \n",
      "Septicemia (except in labor)               0.556928  0.236723  }\n",
      "Corresponding test-long performance:\n",
      "{'global': {'precision': 0.029370134465675865, 'recall': 0.050120772946859904, 'f1': 0.037037037037037035, 'auc': 0.5052213548765485, 'prauc': 0.27060368167387766}, 'per_class':                                            precision    recall        f1  \\\n",
      "Acute and unspecified renal failure         0.000000  0.000000  0.000000   \n",
      "Acute cerebrovascular disease               0.000000  0.000000  0.000000   \n",
      "Acute myocardial infarction                 0.000000  0.000000  0.000000   \n",
      "Cardiac dysrhythmias                        0.000000  0.000000  0.000000   \n",
      "Chronic kidney disease                      0.000000  0.000000  0.000000   \n",
      "Chronic obstructive pulmonary disease       0.000000  0.000000  0.000000   \n",
      "Conduction disorders                        0.000000  0.000000  0.000000   \n",
      "Congestive heart failure; nonhypertensive   0.528662  0.902174  0.666667   \n",
      "Coronary atherosclerosis and related        0.000000  0.000000  0.000000   \n",
      "Disorders of lipid metabolism               0.000000  0.000000  0.000000   \n",
      "Essential hypertension                      0.000000  0.000000  0.000000   \n",
      "Fluid and electrolyte disorders             0.000000  0.000000  0.000000   \n",
      "Gastrointestinal hemorrhage                 0.000000  0.000000  0.000000   \n",
      "Hypertension with complications             0.000000  0.000000  0.000000   \n",
      "Other liver diseases                        0.000000  0.000000  0.000000   \n",
      "Other lower respiratory disease             0.000000  0.000000  0.000000   \n",
      "Pneumonia                                   0.000000  0.000000  0.000000   \n",
      "Septicemia (except in labor)                0.000000  0.000000  0.000000   \n",
      "\n",
      "                                                auc     prauc  \n",
      "Acute and unspecified renal failure        0.486454  0.318444  \n",
      "Acute cerebrovascular disease              0.027027  0.002762  \n",
      "Acute myocardial infarction                0.570455  0.057881  \n",
      "Cardiac dysrhythmias                       0.659906  0.532141  \n",
      "Chronic kidney disease                     0.497982  0.395662  \n",
      "Chronic obstructive pulmonary disease      0.535817  0.149429  \n",
      "Conduction disorders                       0.559691  0.048671  \n",
      "Congestive heart failure; nonhypertensive  0.660268  0.691404  \n",
      "Coronary atherosclerosis and related       0.447503  0.200634  \n",
      "Disorders of lipid metabolism              0.411440  0.210074  \n",
      "Essential hypertension                     0.477134  0.243330  \n",
      "Fluid and electrolyte disorders            0.541744  0.539775  \n",
      "Gastrointestinal hemorrhage                0.488095  0.098280  \n",
      "Hypertension with complications            0.490155  0.355951  \n",
      "Other liver diseases                       0.559199  0.017639  \n",
      "Other lower respiratory disease            0.535615  0.503088  \n",
      "Pneumonia                                  0.534809  0.122028  \n",
      "Septicemia (except in labor)               0.610690  0.383674  }\n",
      "[INFO] Random seed set to 127978094\n",
      "Training with seed: 127978094\n"
     ]
    },
    {
     "name": "stderr",
     "output_type": "stream",
     "text": [
      "Training Batches: 100%|██████████| 1/1 [00:00<00:00,  2.74it/s]\n",
      "Running inference: 100%|██████████| 1/1 [00:00<00:00,  3.05it/s]\n",
      "Running inference: 100%|██████████| 1/1 [00:00<00:00, 15.72it/s]\n"
     ]
    },
    {
     "name": "stdout",
     "output_type": "stream",
     "text": [
      "Epoch: 001, Average Loss: 0.6913\n",
      "Validation: {'precision': 0.1053932399164546, 'recall': 0.18792427687369453, 'f1': 0.11905423341769371, 'auc': 0.5227656576151882, 'prauc': 0.22734931904258365}\n",
      "Test:       {'precision': 0.10393074313410108, 'recall': 0.186380271337652, 'f1': 0.11510084147687621, 'auc': 0.5168931842525263, 'prauc': 0.21995945351246973}\n"
     ]
    },
    {
     "name": "stderr",
     "output_type": "stream",
     "text": [
      "Training Batches: 100%|██████████| 1/1 [00:00<00:00,  2.84it/s]\n",
      "Running inference: 100%|██████████| 1/1 [00:00<00:00,  3.20it/s]\n",
      "Running inference: 100%|██████████| 1/1 [00:00<00:00, 15.90it/s]\n"
     ]
    },
    {
     "name": "stdout",
     "output_type": "stream",
     "text": [
      "Epoch: 002, Average Loss: 0.6826\n",
      "Validation: {'precision': 0.10966203901876612, 'recall': 0.094302762226931, 'f1': 0.07794435577932646, 'auc': 0.5344022518632103, 'prauc': 0.23129147941348294}\n",
      "Test:       {'precision': 0.08415442633416388, 'recall': 0.09079412498604311, 'f1': 0.07223968951619203, 'auc': 0.5219793748530263, 'prauc': 0.2233936945613833}\n"
     ]
    },
    {
     "name": "stderr",
     "output_type": "stream",
     "text": [
      "Training Batches: 100%|██████████| 1/1 [00:00<00:00,  2.88it/s]\n",
      "Running inference: 100%|██████████| 1/1 [00:00<00:00,  3.20it/s]\n",
      "Running inference: 100%|██████████| 1/1 [00:00<00:00, 15.87it/s]\n"
     ]
    },
    {
     "name": "stdout",
     "output_type": "stream",
     "text": [
      "Epoch: 003, Average Loss: 0.6735\n",
      "Validation: {'precision': 0.06424098693170716, 'recall': 0.05530661504422067, 'f1': 0.04033482521478557, 'auc': 0.5315165773866752, 'prauc': 0.22881617641742238}\n",
      "Test:       {'precision': 0.06934314528996238, 'recall': 0.05503248749829162, 'f1': 0.038500397075433374, 'auc': 0.5177037355577765, 'prauc': 0.2212203112279964}\n"
     ]
    },
    {
     "name": "stderr",
     "output_type": "stream",
     "text": [
      "Training Batches: 100%|██████████| 1/1 [00:00<00:00,  2.83it/s]\n",
      "Running inference: 100%|██████████| 1/1 [00:00<00:00,  3.20it/s]\n",
      "Running inference: 100%|██████████| 1/1 [00:00<00:00,  3.17it/s]\n"
     ]
    },
    {
     "name": "stdout",
     "output_type": "stream",
     "text": [
      "Epoch: 004, Average Loss: 0.6628\n",
      "Validation: {'precision': 0.058730158730158716, 'recall': 0.002822757762214058, 'f1': 0.005099418551415203, 'auc': 0.5247121676593982, 'prauc': 0.2241816379185376}\n",
      "Test:       {'precision': 0.03418803418803419, 'recall': 0.0025726056324374582, 'f1': 0.004658119658119658, 'auc': 0.5123312649893276, 'prauc': 0.21753904267211807}\n"
     ]
    },
    {
     "name": "stderr",
     "output_type": "stream",
     "text": [
      "Training Batches: 100%|██████████| 1/1 [00:00<00:00,  2.85it/s]\n",
      "Running inference: 100%|██████████| 1/1 [00:00<00:00, 15.99it/s]\n",
      "Running inference: 100%|██████████| 1/1 [00:00<00:00,  3.22it/s]\n"
     ]
    },
    {
     "name": "stdout",
     "output_type": "stream",
     "text": [
      "Epoch: 005, Average Loss: 0.6504\n",
      "Validation: {'precision': 0.07642089093701997, 'recall': 0.0020520349683622514, 'f1': 0.0037686825659375917, 'auc': 0.5195293828640309, 'prauc': 0.2208864888963598}\n",
      "Test:       {'precision': 0.019230769230769232, 'recall': 0.0015459548622988454, 'f1': 0.0028607375256916867, 'auc': 0.5057546174947144, 'prauc': 0.21385754070793989}\n"
     ]
    },
    {
     "name": "stderr",
     "output_type": "stream",
     "text": [
      "Training Batches: 100%|██████████| 1/1 [00:00<00:00,  2.82it/s]\n",
      "Running inference: 100%|██████████| 1/1 [00:00<00:00, 15.69it/s]\n",
      "Running inference: 100%|██████████| 1/1 [00:00<00:00,  3.21it/s]\n"
     ]
    },
    {
     "name": "stdout",
     "output_type": "stream",
     "text": [
      "Epoch: 006, Average Loss: 0.6349\n",
      "Validation: {'precision': 0.012820512820512822, 'recall': 0.0010422001203920829, 'f1': 0.0019273359848571935, 'auc': 0.5142506921190357, 'prauc': 0.21764174671168998}\n",
      "Test:       {'precision': 0.018461007591442376, 'recall': 0.0013673196354321074, 'f1': 0.0025460629895324863, 'auc': 0.5008632528741772, 'prauc': 0.21113607893080621}\n"
     ]
    },
    {
     "name": "stderr",
     "output_type": "stream",
     "text": [
      "Training Batches: 100%|██████████| 1/1 [00:00<00:00,  2.84it/s]\n",
      "Running inference: 100%|██████████| 1/1 [00:00<00:00, 16.02it/s]\n",
      "Running inference: 100%|██████████| 1/1 [00:00<00:00,  3.25it/s]\n"
     ]
    },
    {
     "name": "stdout",
     "output_type": "stream",
     "text": [
      "Epoch: 007, Average Loss: 0.6167\n",
      "Validation: {'precision': 0.013935340022296544, 'recall': 0.0010422001203920829, 'f1': 0.0019378272377750727, 'auc': 0.5111445426305168, 'prauc': 0.2158950446864842}\n",
      "Test:       {'precision': 0.01893939393939394, 'recall': 0.001188684408565369, 'f1': 0.002236762867712176, 'auc': 0.49844350444635105, 'prauc': 0.20948411625784982}\n"
     ]
    },
    {
     "name": "stderr",
     "output_type": "stream",
     "text": [
      "Training Batches: 100%|██████████| 1/1 [00:00<00:00,  2.85it/s]\n",
      "Running inference: 100%|██████████| 1/1 [00:00<00:00,  3.22it/s]\n",
      "Running inference: 100%|██████████| 1/1 [00:00<00:00, 15.48it/s]\n"
     ]
    },
    {
     "name": "stdout",
     "output_type": "stream",
     "text": [
      "Epoch: 008, Average Loss: 0.5963\n",
      "Validation: {'precision': 0.009564509564509565, 'recall': 0.0007075280989730735, 'f1': 0.0013153957650862487, 'auc': 0.5099140607485799, 'prauc': 0.21546862737433495}\n",
      "Test:       {'precision': 0.01770152505446623, 'recall': 0.001010049181698631, 'f1': 0.001910569105691057, 'auc': 0.4977357589996989, 'prauc': 0.20892043540661007}\n"
     ]
    },
    {
     "name": "stderr",
     "output_type": "stream",
     "text": [
      "Training Batches: 100%|██████████| 1/1 [00:00<00:00,  2.80it/s]\n",
      "Running inference: 100%|██████████| 1/1 [00:00<00:00,  3.09it/s]\n",
      "Running inference: 100%|██████████| 1/1 [00:00<00:00,  3.16it/s]\n"
     ]
    },
    {
     "name": "stdout",
     "output_type": "stream",
     "text": [
      "Epoch: 009, Average Loss: 0.5745\n",
      "Validation: {'precision': 0.010898458266879319, 'recall': 0.0007075280989730735, 'f1': 0.0013275561886673, 'auc': 0.5085509110741148, 'prauc': 0.2146109356059599}\n",
      "Test:       {'precision': 0.020833333333333332, 'recall': 0.001010049181698631, 'f1': 0.001926050746496356, 'auc': 0.4967548969060698, 'prauc': 0.208476819064727}\n"
     ]
    },
    {
     "name": "stderr",
     "output_type": "stream",
     "text": [
      "Training Batches: 100%|██████████| 1/1 [00:00<00:00,  9.68it/s]\n",
      "Running inference: 100%|██████████| 1/1 [00:00<00:00,  3.21it/s]\n",
      "Running inference: 100%|██████████| 1/1 [00:00<00:00,  3.17it/s]\n"
     ]
    },
    {
     "name": "stdout",
     "output_type": "stream",
     "text": [
      "Epoch: 010, Average Loss: 0.5518\n",
      "Validation: {'precision': 0.01122334455667789, 'recall': 0.0007075280989730735, 'f1': 0.0013293650793650795, 'auc': 0.5072241500766729, 'prauc': 0.21417759787655008}\n",
      "Test:       {'precision': 0.024074074074074074, 'recall': 0.001010049181698631, 'f1': 0.001936064202840498, 'auc': 0.49561915857125793, 'prauc': 0.20794249371409512}\n"
     ]
    },
    {
     "name": "stderr",
     "output_type": "stream",
     "text": [
      "Training Batches: 100%|██████████| 1/1 [00:00<00:00,  2.83it/s]\n",
      "Running inference: 100%|██████████| 1/1 [00:00<00:00, 15.62it/s]\n",
      "Running inference: 100%|██████████| 1/1 [00:00<00:00,  3.16it/s]\n"
     ]
    },
    {
     "name": "stdout",
     "output_type": "stream",
     "text": [
      "Epoch: 011, Average Loss: 0.5297\n",
      "Validation: {'precision': 0.006944444444444444, 'recall': 0.0003346720214190094, 'f1': 0.0006385696040868455, 'auc': 0.5066734125647193, 'prauc': 0.21437636898682358}\n",
      "Test:       {'precision': 0.015873015873015872, 'recall': 0.0007145409074669524, 'f1': 0.0013675213675213675, 'auc': 0.49548210752813737, 'prauc': 0.2080967237897713}\n"
     ]
    },
    {
     "name": "stderr",
     "output_type": "stream",
     "text": [
      "Training Batches: 100%|██████████| 1/1 [00:00<00:00,  2.82it/s]\n",
      "Running inference: 100%|██████████| 1/1 [00:00<00:00,  3.18it/s]\n",
      "Running inference: 100%|██████████| 1/1 [00:00<00:00, 15.82it/s]\n"
     ]
    },
    {
     "name": "stdout",
     "output_type": "stream",
     "text": [
      "Epoch: 012, Average Loss: 0.5124\n",
      "Validation: {'precision': 0.003968253968253968, 'recall': 0.0001673360107095047, 'f1': 0.0003211303789338471, 'auc': 0.5076297614625466, 'prauc': 0.21601134283047174}\n",
      "Test:       {'precision': 0.018518518518518517, 'recall': 0.0007145409074669524, 'f1': 0.0013759889920880635, 'auc': 0.49716222285597284, 'prauc': 0.208909097670592}\n",
      "\n",
      "Early stopping triggered after 12 epochs (no improvement for 10 epochs).\n",
      "\n",
      "Best validation performance:\n",
      "{'global': {'precision': 0.10966203901876612, 'recall': 0.094302762226931, 'f1': 0.07794435577932646, 'auc': 0.5344022518632103, 'prauc': 0.23129147941348294}, 'per_class':                                            precision    recall        f1  \\\n",
      "Acute and unspecified renal failure         0.000000  0.000000  0.000000   \n",
      "Acute cerebrovascular disease               0.000000  0.000000  0.000000   \n",
      "Acute myocardial infarction                 0.000000  0.000000  0.000000   \n",
      "Cardiac dysrhythmias                        0.396310  0.979927  0.564372   \n",
      "Chronic kidney disease                      0.333333  0.035294  0.063830   \n",
      "Chronic obstructive pulmonary disease       0.000000  0.000000  0.000000   \n",
      "Conduction disorders                        0.000000  0.000000  0.000000   \n",
      "Congestive heart failure; nonhypertensive   0.000000  0.000000  0.000000   \n",
      "Coronary atherosclerosis and related        0.000000  0.000000  0.000000   \n",
      "Disorders of lipid metabolism               0.000000  0.000000  0.000000   \n",
      "Essential hypertension                      0.000000  0.000000  0.000000   \n",
      "Fluid and electrolyte disorders             0.489418  0.322300  0.388655   \n",
      "Gastrointestinal hemorrhage                 0.000000  0.000000  0.000000   \n",
      "Hypertension with complications             0.000000  0.000000  0.000000   \n",
      "Other liver diseases                        0.000000  0.000000  0.000000   \n",
      "Other lower respiratory disease             0.285714  0.007782  0.015152   \n",
      "Pneumonia                                   0.142857  0.026846  0.045198   \n",
      "Septicemia (except in labor)                0.326284  0.325301  0.325792   \n",
      "\n",
      "                                                auc     prauc  \n",
      "Acute and unspecified renal failure        0.571039  0.356055  \n",
      "Acute cerebrovascular disease              0.518399  0.012322  \n",
      "Acute myocardial infarction                0.448409  0.057127  \n",
      "Cardiac dysrhythmias                       0.500874  0.380423  \n",
      "Chronic kidney disease                     0.625449  0.309486  \n",
      "Chronic obstructive pulmonary disease      0.410974  0.105805  \n",
      "Conduction disorders                       0.483297  0.021158  \n",
      "Congestive heart failure; nonhypertensive  0.595958  0.460217  \n",
      "Coronary atherosclerosis and related       0.457932  0.215895  \n",
      "Disorders of lipid metabolism              0.522361  0.272985  \n",
      "Essential hypertension                     0.469469  0.342517  \n",
      "Fluid and electrolyte disorders            0.592396  0.459989  \n",
      "Gastrointestinal hemorrhage                0.578771  0.084318  \n",
      "Hypertension with complications            0.557073  0.241710  \n",
      "Other liver diseases                       0.565389  0.034798  \n",
      "Other lower respiratory disease            0.557921  0.392406  \n",
      "Pneumonia                                  0.546299  0.127059  \n",
      "Septicemia (except in labor)               0.617231  0.288977  }\n",
      "Corresponding test performance:\n",
      "{'global': {'precision': 0.08415442633416388, 'recall': 0.09079412498604311, 'f1': 0.07223968951619203, 'auc': 0.5219793748530263, 'prauc': 0.2233936945613833}, 'per_class':                                            precision    recall        f1  \\\n",
      "Acute and unspecified renal failure         0.000000  0.000000  0.000000   \n",
      "Acute cerebrovascular disease               0.076923  0.041667  0.054054   \n",
      "Acute myocardial infarction                 0.000000  0.000000  0.000000   \n",
      "Cardiac dysrhythmias                        0.382245  0.975655  0.549288   \n",
      "Chronic kidney disease                      0.000000  0.000000  0.000000   \n",
      "Chronic obstructive pulmonary disease       0.000000  0.000000  0.000000   \n",
      "Conduction disorders                        0.000000  0.000000  0.000000   \n",
      "Congestive heart failure; nonhypertensive   0.000000  0.000000  0.000000   \n",
      "Coronary atherosclerosis and related        0.000000  0.000000  0.000000   \n",
      "Disorders of lipid metabolism               0.000000  0.000000  0.000000   \n",
      "Essential hypertension                      0.000000  0.000000  0.000000   \n",
      "Fluid and electrolyte disorders             0.510574  0.302326  0.379775   \n",
      "Gastrointestinal hemorrhage                 0.000000  0.000000  0.000000   \n",
      "Hypertension with complications             0.000000  0.000000  0.000000   \n",
      "Other liver diseases                        0.000000  0.000000  0.000000   \n",
      "Other lower respiratory disease             0.166667  0.001757  0.003478   \n",
      "Pneumonia                                   0.090909  0.010638  0.019048   \n",
      "Septicemia (except in labor)                0.287462  0.302251  0.294671   \n",
      "\n",
      "                                                auc     prauc  \n",
      "Acute and unspecified renal failure        0.527141  0.322057  \n",
      "Acute cerebrovascular disease              0.431006  0.015304  \n",
      "Acute myocardial infarction                0.471892  0.065205  \n",
      "Cardiac dysrhythmias                       0.508064  0.374911  \n",
      "Chronic kidney disease                     0.571611  0.259055  \n",
      "Chronic obstructive pulmonary disease      0.426003  0.099486  \n",
      "Conduction disorders                       0.542799  0.026735  \n",
      "Congestive heart failure; nonhypertensive  0.622961  0.475842  \n",
      "Coronary atherosclerosis and related       0.421367  0.190843  \n",
      "Disorders of lipid metabolism              0.464288  0.230804  \n",
      "Essential hypertension                     0.449744  0.319361  \n",
      "Fluid and electrolyte disorders            0.624235  0.492633  \n",
      "Gastrointestinal hemorrhage                0.564617  0.080832  \n",
      "Hypertension with complications            0.519512  0.210944  \n",
      "Other liver diseases                       0.559076  0.019337  \n",
      "Other lower respiratory disease            0.555723  0.426815  \n",
      "Pneumonia                                  0.525767  0.134159  \n",
      "Septicemia (except in labor)               0.609824  0.276763  }\n",
      "Corresponding test-long performance:\n",
      "{'global': {'precision': 0.07596864832889677, 'recall': 0.09628789787519947, 'f1': 0.07912516286302694, 'auc': 0.5138270660216464, 'prauc': 0.2665544125804646}, 'per_class':                                            precision    recall        f1  \\\n",
      "Acute and unspecified renal failure         0.000000  0.000000  0.000000   \n",
      "Acute cerebrovascular disease               0.000000  0.000000  0.000000   \n",
      "Acute myocardial infarction                 0.000000  0.000000  0.000000   \n",
      "Cardiac dysrhythmias                        0.434783  1.000000  0.606061   \n",
      "Chronic kidney disease                      0.000000  0.000000  0.000000   \n",
      "Chronic obstructive pulmonary disease       0.000000  0.000000  0.000000   \n",
      "Conduction disorders                        0.000000  0.000000  0.000000   \n",
      "Congestive heart failure; nonhypertensive   0.000000  0.000000  0.000000   \n",
      "Coronary atherosclerosis and related        0.000000  0.000000  0.000000   \n",
      "Disorders of lipid metabolism               0.000000  0.000000  0.000000   \n",
      "Essential hypertension                      0.000000  0.000000  0.000000   \n",
      "Fluid and electrolyte disorders             0.585714  0.418367  0.488095   \n",
      "Gastrointestinal hemorrhage                 0.000000  0.000000  0.000000   \n",
      "Hypertension with complications             0.000000  0.000000  0.000000   \n",
      "Other liver diseases                        0.000000  0.000000  0.000000   \n",
      "Other lower respiratory disease             0.000000  0.000000  0.000000   \n",
      "Pneumonia                                   0.000000  0.000000  0.000000   \n",
      "Septicemia (except in labor)                0.346939  0.314815  0.330097   \n",
      "\n",
      "                                                auc     prauc  \n",
      "Acute and unspecified renal failure        0.526758  0.361008  \n",
      "Acute cerebrovascular disease              0.205405  0.003378  \n",
      "Acute myocardial infarction                0.567045  0.056543  \n",
      "Cardiac dysrhythmias                       0.493809  0.424032  \n",
      "Chronic kidney disease                     0.543922  0.444177  \n",
      "Chronic obstructive pulmonary disease      0.504087  0.130166  \n",
      "Conduction disorders                       0.560393  0.052777  \n",
      "Congestive heart failure; nonhypertensive  0.581175  0.527157  \n",
      "Coronary atherosclerosis and related       0.414533  0.192085  \n",
      "Disorders of lipid metabolism              0.446596  0.229489  \n",
      "Essential hypertension                     0.447937  0.224201  \n",
      "Fluid and electrolyte disorders            0.612709  0.596676  \n",
      "Gastrointestinal hemorrhage                0.532407  0.132949  \n",
      "Hypertension with complications            0.519940  0.380314  \n",
      "Other liver diseases                       0.622951  0.020094  \n",
      "Other lower respiratory disease            0.533823  0.494969  \n",
      "Pneumonia                                  0.532142  0.137110  \n",
      "Septicemia (except in labor)               0.603255  0.390855  }\n",
      "[INFO] Random seed set to 939042955\n",
      "Training with seed: 939042955\n"
     ]
    },
    {
     "name": "stderr",
     "output_type": "stream",
     "text": [
      "Training Batches: 100%|██████████| 1/1 [00:00<00:00,  2.84it/s]\n",
      "Running inference: 100%|██████████| 1/1 [00:00<00:00,  3.18it/s]\n",
      "Running inference: 100%|██████████| 1/1 [00:00<00:00, 16.15it/s]\n"
     ]
    },
    {
     "name": "stdout",
     "output_type": "stream",
     "text": [
      "Epoch: 001, Average Loss: 0.6910\n",
      "Validation: {'precision': 0.08353952086009259, 'recall': 0.1917723948757154, 'f1': 0.09024492021749901, 'auc': 0.5110466092676068, 'prauc': 0.21940639638714773}\n",
      "Test:       {'precision': 0.09123146609840464, 'recall': 0.19318505281153145, 'f1': 0.0886401222072596, 'auc': 0.5179326414218192, 'prauc': 0.21710521765101098}\n"
     ]
    },
    {
     "name": "stderr",
     "output_type": "stream",
     "text": [
      "Training Batches: 100%|██████████| 1/1 [00:00<00:00,  2.81it/s]\n",
      "Running inference: 100%|██████████| 1/1 [00:00<00:00,  3.23it/s]\n",
      "Running inference: 100%|██████████| 1/1 [00:00<00:00,  3.16it/s]\n"
     ]
    },
    {
     "name": "stdout",
     "output_type": "stream",
     "text": [
      "Epoch: 002, Average Loss: 0.6798\n",
      "Validation: {'precision': 0.10030309496473266, 'recall': 0.03864757656854064, 'f1': 0.04048250870993838, 'auc': 0.5145016563609052, 'prauc': 0.2217810249817128}\n",
      "Test:       {'precision': 0.062432844194738796, 'recall': 0.03501656142120853, 'f1': 0.03774852880881494, 'auc': 0.5130515231651375, 'prauc': 0.21777664255641307}\n"
     ]
    },
    {
     "name": "stderr",
     "output_type": "stream",
     "text": [
      "Training Batches: 100%|██████████| 1/1 [00:00<00:00,  9.67it/s]\n",
      "Running inference: 100%|██████████| 1/1 [00:00<00:00,  3.22it/s]\n",
      "Running inference: 100%|██████████| 1/1 [00:00<00:00,  3.22it/s]\n"
     ]
    },
    {
     "name": "stdout",
     "output_type": "stream",
     "text": [
      "Epoch: 003, Average Loss: 0.6688\n",
      "Validation: {'precision': 0.0731927630124873, 'recall': 0.01007784467829125, 'f1': 0.016626763918738494, 'auc': 0.5126147434391841, 'prauc': 0.22171092362436326}\n",
      "Test:       {'precision': 0.06075122239505801, 'recall': 0.006183030545621579, 'f1': 0.010439477865330515, 'auc': 0.507307872117437, 'prauc': 0.2159461505484565}\n"
     ]
    },
    {
     "name": "stderr",
     "output_type": "stream",
     "text": [
      "Training Batches: 100%|██████████| 1/1 [00:00<00:00,  2.80it/s]\n",
      "Running inference: 100%|██████████| 1/1 [00:00<00:00, 13.89it/s]\n",
      "Running inference: 100%|██████████| 1/1 [00:00<00:00,  3.21it/s]\n"
     ]
    },
    {
     "name": "stdout",
     "output_type": "stream",
     "text": [
      "Epoch: 004, Average Loss: 0.6565\n",
      "Validation: {'precision': 0.08348030570252792, 'recall': 0.003982637948440752, 'f1': 0.007215280858206314, 'auc': 0.5067823142380415, 'prauc': 0.217550999427999}\n",
      "Test:       {'precision': 0.055708180708180705, 'recall': 0.002113135930068963, 'f1': 0.003883183897925894, 'auc': 0.4997602378784506, 'prauc': 0.21166100239004199}\n"
     ]
    },
    {
     "name": "stderr",
     "output_type": "stream",
     "text": [
      "Training Batches: 100%|██████████| 1/1 [00:00<00:00,  2.85it/s]\n",
      "Running inference: 100%|██████████| 1/1 [00:00<00:00, 15.45it/s]\n",
      "Running inference: 100%|██████████| 1/1 [00:00<00:00,  3.20it/s]\n"
     ]
    },
    {
     "name": "stdout",
     "output_type": "stream",
     "text": [
      "Epoch: 005, Average Loss: 0.6411\n",
      "Validation: {'precision': 0.06759259259259259, 'recall': 0.0014577322271340182, 'f1': 0.002665097162379771, 'auc': 0.4988495945585668, 'prauc': 0.21212979304764598}\n",
      "Test:       {'precision': 0.04431216931216931, 'recall': 0.0011504843850403549, 'f1': 0.0020693891827912444, 'auc': 0.4911896636905257, 'prauc': 0.20673081287283468}\n"
     ]
    },
    {
     "name": "stderr",
     "output_type": "stream",
     "text": [
      "Training Batches: 100%|██████████| 1/1 [00:00<00:00,  2.82it/s]\n",
      "Running inference: 100%|██████████| 1/1 [00:00<00:00,  3.14it/s]\n",
      "Running inference: 100%|██████████| 1/1 [00:00<00:00, 14.00it/s]\n"
     ]
    },
    {
     "name": "stdout",
     "output_type": "stream",
     "text": [
      "Epoch: 006, Average Loss: 0.6231\n",
      "Validation: {'precision': 0.02607212475633528, 'recall': 0.0010957476438191243, 'f1': 0.0019555128995141207, 'auc': 0.4923025606030353, 'prauc': 0.20776632479585588}\n",
      "Test:       {'precision': 0.031746031746031744, 'recall': 0.0010528472048021201, 'f1': 0.0019366957379958888, 'auc': 0.4848008513247122, 'prauc': 0.20297992649748856}\n"
     ]
    },
    {
     "name": "stderr",
     "output_type": "stream",
     "text": [
      "Training Batches: 100%|██████████| 1/1 [00:00<00:00,  2.86it/s]\n",
      "Running inference: 100%|██████████| 1/1 [00:00<00:00,  3.16it/s]\n",
      "Running inference: 100%|██████████| 1/1 [00:00<00:00, 16.13it/s]\n"
     ]
    },
    {
     "name": "stdout",
     "output_type": "stream",
     "text": [
      "Epoch: 007, Average Loss: 0.6030\n",
      "Validation: {'precision': 0.008101851851851851, 'recall': 0.0009284116331096196, 'f1': 0.0016479855310440018, 'auc': 0.487085075354889, 'prauc': 0.20450956809672405}\n",
      "Test:       {'precision': 0.013227513227513227, 'recall': 0.0008742119779353822, 'f1': 0.001582838696240758, 'auc': 0.47946426475606363, 'prauc': 0.20040033198239202}\n"
     ]
    },
    {
     "name": "stderr",
     "output_type": "stream",
     "text": [
      "Training Batches: 100%|██████████| 1/1 [00:00<00:00,  2.78it/s]\n",
      "Running inference: 100%|██████████| 1/1 [00:00<00:00,  3.17it/s]\n",
      "Running inference: 100%|██████████| 1/1 [00:00<00:00,  3.22it/s]\n"
     ]
    },
    {
     "name": "stdout",
     "output_type": "stream",
     "text": [
      "Epoch: 008, Average Loss: 0.5790\n",
      "Validation: {'precision': 0.008522727272727272, 'recall': 0.0009284116331096196, 'f1': 0.0016522988505747126, 'auc': 0.48303954408393135, 'prauc': 0.20216897333311318}\n",
      "Test:       {'precision': 0.014309764309764309, 'recall': 0.0008742119779353822, 'f1': 0.0016111592853090108, 'auc': 0.47543804362868297, 'prauc': 0.19851064023230774}\n"
     ]
    },
    {
     "name": "stderr",
     "output_type": "stream",
     "text": [
      "Training Batches: 100%|██████████| 1/1 [00:00<00:00,  2.85it/s]\n",
      "Running inference: 100%|██████████| 1/1 [00:00<00:00, 15.70it/s]\n",
      "Running inference: 100%|██████████| 1/1 [00:00<00:00,  3.22it/s]\n"
     ]
    },
    {
     "name": "stdout",
     "output_type": "stream",
     "text": [
      "Epoch: 009, Average Loss: 0.5564\n",
      "Validation: {'precision': 0.008754208754208756, 'recall': 0.0009284116331096196, 'f1': 0.0016606280193236715, 'auc': 0.4802901514972896, 'prauc': 0.2005673685387708}\n",
      "Test:       {'precision': 0.0154320987654321, 'recall': 0.0008742119779353822, 'f1': 0.0016309387443408062, 'auc': 0.4729442409957708, 'prauc': 0.19715245073019966}\n"
     ]
    },
    {
     "name": "stderr",
     "output_type": "stream",
     "text": [
      "Training Batches: 100%|██████████| 1/1 [00:00<00:00,  2.80it/s]\n",
      "Running inference: 100%|██████████| 1/1 [00:00<00:00, 15.67it/s]\n",
      "Running inference: 100%|██████████| 1/1 [00:00<00:00,  3.27it/s]\n"
     ]
    },
    {
     "name": "stdout",
     "output_type": "stream",
     "text": [
      "Epoch: 010, Average Loss: 0.5339\n",
      "Validation: {'precision': 0.005555555555555556, 'recall': 0.0003728560775540641, 'f1': 0.0006988120195667366, 'auc': 0.47764020166642734, 'prauc': 0.19943947085461614}\n",
      "Test:       {'precision': 0.009259259259259259, 'recall': 0.0002955082742316785, 'f1': 0.000572737686139748, 'auc': 0.47097156260924916, 'prauc': 0.19611566336367986}\n"
     ]
    },
    {
     "name": "stderr",
     "output_type": "stream",
     "text": [
      "Training Batches: 100%|██████████| 1/1 [00:00<00:00,  2.86it/s]\n",
      "Running inference: 100%|██████████| 1/1 [00:00<00:00,  3.12it/s]\n",
      "Running inference: 100%|██████████| 1/1 [00:00<00:00, 15.73it/s]\n"
     ]
    },
    {
     "name": "stdout",
     "output_type": "stream",
     "text": [
      "Epoch: 011, Average Loss: 0.5144\n",
      "Validation: {'precision': 0.005555555555555556, 'recall': 0.0003728560775540641, 'f1': 0.0006988120195667366, 'auc': 0.47747553459090825, 'prauc': 0.1989886255023171}\n",
      "Test:       {'precision': 0.009259259259259259, 'recall': 0.0002955082742316785, 'f1': 0.000572737686139748, 'auc': 0.47221812057559337, 'prauc': 0.19629589795225744}\n"
     ]
    },
    {
     "name": "stderr",
     "output_type": "stream",
     "text": [
      "Training Batches: 100%|██████████| 1/1 [00:00<00:00,  2.79it/s]\n",
      "Running inference: 100%|██████████| 1/1 [00:00<00:00,  3.17it/s]\n",
      "Running inference: 100%|██████████| 1/1 [00:00<00:00,  3.24it/s]\n"
     ]
    },
    {
     "name": "stdout",
     "output_type": "stream",
     "text": [
      "Epoch: 012, Average Loss: 0.4995\n",
      "Validation: {'precision': 0.005555555555555556, 'recall': 0.0003728560775540641, 'f1': 0.0006988120195667366, 'auc': 0.4792316623288554, 'prauc': 0.199249017804229}\n",
      "Test:       {'precision': 0.011111111111111112, 'recall': 0.0002955082742316785, 'f1': 0.0005757052389176742, 'auc': 0.47626514795419017, 'prauc': 0.19769146419121483}\n",
      "\n",
      "Early stopping triggered after 12 epochs (no improvement for 10 epochs).\n",
      "\n",
      "Best validation performance:\n",
      "{'global': {'precision': 0.10030309496473266, 'recall': 0.03864757656854064, 'f1': 0.04048250870993838, 'auc': 0.5145016563609052, 'prauc': 0.2217810249817128}, 'per_class':                                            precision    recall        f1  \\\n",
      "Acute and unspecified renal failure         0.000000  0.000000  0.000000   \n",
      "Acute cerebrovascular disease               0.000000  0.000000  0.000000   \n",
      "Acute myocardial infarction                 0.000000  0.000000  0.000000   \n",
      "Cardiac dysrhythmias                        0.000000  0.000000  0.000000   \n",
      "Chronic kidney disease                      0.000000  0.000000  0.000000   \n",
      "Chronic obstructive pulmonary disease       0.000000  0.000000  0.000000   \n",
      "Conduction disorders                        0.000000  0.000000  0.000000   \n",
      "Congestive heart failure; nonhypertensive   0.000000  0.000000  0.000000   \n",
      "Coronary atherosclerosis and related        0.000000  0.000000  0.000000   \n",
      "Disorders of lipid metabolism               0.272727  0.015748  0.029777   \n",
      "Essential hypertension                      0.000000  0.000000  0.000000   \n",
      "Fluid and electrolyte disorders             0.500000  0.001742  0.003472   \n",
      "Gastrointestinal hemorrhage                 0.068323  0.110000  0.084291   \n",
      "Hypertension with complications             0.271318  0.109718  0.156250   \n",
      "Other liver diseases                        0.000000  0.000000  0.000000   \n",
      "Other lower respiratory disease             0.401421  0.439689  0.419684   \n",
      "Pneumonia                                   0.125000  0.006711  0.012739   \n",
      "Septicemia (except in labor)                0.166667  0.012048  0.022472   \n",
      "\n",
      "                                                auc     prauc  \n",
      "Acute and unspecified renal failure        0.559903  0.346826  \n",
      "Acute cerebrovascular disease              0.494692  0.011559  \n",
      "Acute myocardial infarction                0.420260  0.053700  \n",
      "Cardiac dysrhythmias                       0.568690  0.419586  \n",
      "Chronic kidney disease                     0.540117  0.246966  \n",
      "Chronic obstructive pulmonary disease      0.438593  0.112673  \n",
      "Conduction disorders                       0.472151  0.021819  \n",
      "Congestive heart failure; nonhypertensive  0.532656  0.396442  \n",
      "Coronary atherosclerosis and related       0.476724  0.226148  \n",
      "Disorders of lipid metabolism              0.497786  0.266507  \n",
      "Essential hypertension                     0.448597  0.329788  \n",
      "Fluid and electrolyte disorders            0.554580  0.437090  \n",
      "Gastrointestinal hemorrhage                0.535111  0.075837  \n",
      "Hypertension with complications            0.545524  0.246216  \n",
      "Other liver diseases                       0.548350  0.031417  \n",
      "Other lower respiratory disease            0.555459  0.407234  \n",
      "Pneumonia                                  0.549809  0.120011  \n",
      "Septicemia (except in labor)               0.522029  0.242238  }\n",
      "Corresponding test performance:\n",
      "{'global': {'precision': 0.062432844194738796, 'recall': 0.03501656142120853, 'f1': 0.03774852880881494, 'auc': 0.5130515231651375, 'prauc': 0.21777664255641307}, 'per_class':                                            precision    recall        f1  \\\n",
      "Acute and unspecified renal failure         0.000000  0.000000  0.000000   \n",
      "Acute cerebrovascular disease               0.000000  0.000000  0.000000   \n",
      "Acute myocardial infarction                 0.000000  0.000000  0.000000   \n",
      "Cardiac dysrhythmias                        0.000000  0.000000  0.000000   \n",
      "Chronic kidney disease                      0.000000  0.000000  0.000000   \n",
      "Chronic obstructive pulmonary disease       0.000000  0.000000  0.000000   \n",
      "Conduction disorders                        0.000000  0.000000  0.000000   \n",
      "Congestive heart failure; nonhypertensive   0.000000  0.000000  0.000000   \n",
      "Coronary atherosclerosis and related        0.000000  0.000000  0.000000   \n",
      "Disorders of lipid metabolism               0.166667  0.005479  0.010610   \n",
      "Essential hypertension                      0.000000  0.000000  0.000000   \n",
      "Fluid and electrolyte disorders             0.000000  0.000000  0.000000   \n",
      "Gastrointestinal hemorrhage                 0.085271  0.114583  0.097778   \n",
      "Hypertension with complications             0.208000  0.084967  0.120650   \n",
      "Other liver diseases                        0.000000  0.000000  0.000000   \n",
      "Other lower respiratory disease             0.423853  0.405975  0.414722   \n",
      "Pneumonia                                   0.000000  0.000000  0.000000   \n",
      "Septicemia (except in labor)                0.240000  0.019293  0.035714   \n",
      "\n",
      "                                                auc     prauc  \n",
      "Acute and unspecified renal failure        0.504498  0.307827  \n",
      "Acute cerebrovascular disease              0.456259  0.014469  \n",
      "Acute myocardial infarction                0.469380  0.065554  \n",
      "Cardiac dysrhythmias                       0.590698  0.434664  \n",
      "Chronic kidney disease                     0.543076  0.244976  \n",
      "Chronic obstructive pulmonary disease      0.459272  0.109909  \n",
      "Conduction disorders                       0.498666  0.025243  \n",
      "Congestive heart failure; nonhypertensive  0.554259  0.410218  \n",
      "Coronary atherosclerosis and related       0.469417  0.215257  \n",
      "Disorders of lipid metabolism              0.450728  0.234164  \n",
      "Essential hypertension                     0.464415  0.336674  \n",
      "Fluid and electrolyte disorders            0.557759  0.422556  \n",
      "Gastrointestinal hemorrhage                0.575132  0.083436  \n",
      "Hypertension with complications            0.526549  0.221600  \n",
      "Other liver diseases                       0.553357  0.018607  \n",
      "Other lower respiratory disease            0.533749  0.422256  \n",
      "Pneumonia                                  0.516584  0.134429  \n",
      "Septicemia (except in labor)               0.511128  0.218139  }\n",
      "Corresponding test-long performance:\n",
      "{'global': {'precision': 0.050645994832041345, 'recall': 0.027638715060492283, 'f1': 0.030204633857601897, 'auc': 0.5185301559230008, 'prauc': 0.2697049319243304}, 'per_class':                                            precision    recall        f1  \\\n",
      "Acute and unspecified renal failure         0.000000  0.000000  0.000000   \n",
      "Acute cerebrovascular disease               0.000000  0.000000  0.000000   \n",
      "Acute myocardial infarction                 0.000000  0.000000  0.000000   \n",
      "Cardiac dysrhythmias                        0.000000  0.000000  0.000000   \n",
      "Chronic kidney disease                      0.000000  0.000000  0.000000   \n",
      "Chronic obstructive pulmonary disease       0.000000  0.000000  0.000000   \n",
      "Conduction disorders                        0.000000  0.000000  0.000000   \n",
      "Congestive heart failure; nonhypertensive   0.000000  0.000000  0.000000   \n",
      "Coronary atherosclerosis and related        0.000000  0.000000  0.000000   \n",
      "Disorders of lipid metabolism               0.000000  0.000000  0.000000   \n",
      "Essential hypertension                      0.000000  0.000000  0.000000   \n",
      "Fluid and electrolyte disorders             0.000000  0.000000  0.000000   \n",
      "Gastrointestinal hemorrhage                 0.000000  0.000000  0.000000   \n",
      "Hypertension with complications             0.400000  0.029412  0.054795   \n",
      "Other liver diseases                        0.000000  0.000000  0.000000   \n",
      "Other lower respiratory disease             0.511628  0.468085  0.488889   \n",
      "Pneumonia                                   0.000000  0.000000  0.000000   \n",
      "Septicemia (except in labor)                0.000000  0.000000  0.000000   \n",
      "\n",
      "                                                auc     prauc  \n",
      "Acute and unspecified renal failure        0.501001  0.322494  \n",
      "Acute cerebrovascular disease              0.367568  0.004237  \n",
      "Acute myocardial infarction                0.570455  0.057696  \n",
      "Cardiac dysrhythmias                       0.648172  0.598748  \n",
      "Chronic kidney disease                     0.613960  0.522778  \n",
      "Chronic obstructive pulmonary disease      0.501923  0.128427  \n",
      "Conduction disorders                       0.545646  0.052421  \n",
      "Congestive heart failure; nonhypertensive  0.565449  0.525902  \n",
      "Coronary atherosclerosis and related       0.462068  0.213018  \n",
      "Disorders of lipid metabolism              0.394012  0.206013  \n",
      "Essential hypertension                     0.397438  0.204521  \n",
      "Fluid and electrolyte disorders            0.563428  0.544158  \n",
      "Gastrointestinal hemorrhage                0.514881  0.101112  \n",
      "Hypertension with complications            0.513958  0.377303  \n",
      "Other liver diseases                       0.559199  0.018085  \n",
      "Other lower respiratory disease            0.542322  0.510303  \n",
      "Pneumonia                                  0.506268  0.121649  \n",
      "Septicemia (except in labor)               0.565797  0.345823  }\n",
      "[INFO] Random seed set to 2340505846\n",
      "Training with seed: 2340505846\n"
     ]
    },
    {
     "name": "stderr",
     "output_type": "stream",
     "text": [
      "Training Batches:   0%|          | 0/1 [00:00<?, ?it/s]"
     ]
    }
   ],
   "source": [
    "final_metrics, final_long_seq_metrics = [], []\n",
    "\n",
    "for seed in seeds:\n",
    "    set_random_seed(seed)\n",
    "    print(f\"Training with seed: {seed}\")\n",
    "    \n",
    "    # Initialize model, optimizer, and loss function\n",
    "    model = SetGNN(args, tokenizer).to(device)\n",
    "    optimizer = torch.optim.AdamW(model.parameters(), lr=args[\"lr\"])\n",
    "    \n",
    "    best_test_metric, best_test_long_seq_metric = train_with_early_stopping(\n",
    "        model, \n",
    "        train_dataloader, \n",
    "        val_dataloader, \n",
    "        test_dataloader,\n",
    "        optimizer, \n",
    "        loss_fn, \n",
    "        device, \n",
    "        args,\n",
    "        val_long_seq_idx,\n",
    "        test_long_seq_idx,\n",
    "        task_type=task_type,\n",
    "        eval_metric = \"prauc\")\n",
    "    \n",
    "    final_metrics.append(best_test_metric)\n",
    "    final_long_seq_metrics.append(best_test_long_seq_metric)"
   ]
  },
  {
   "cell_type": "code",
   "execution_count": null,
   "id": "ee9abd8e-1f4b-47bf-bed3-337489bcc79d",
   "metadata": {},
   "outputs": [],
   "source": [
    "import numpy as np\n",
    "def topk_avg_performance_formatted(performances, long_seq_performances, k=5):\n",
    "    metrics = [\"f1\", \"auc\", \"prauc\"]\n",
    "    scores = {m: np.array([p[m] for p in performances]) for m in metrics}\n",
    "\n",
    "    # 计算排名（值越大排名越靠前）\n",
    "    ranks = {m: (-scores[m]).argsort().argsort() + 1 for m in metrics}\n",
    "    avg_ranks = np.mean(np.stack([ranks[m] for m in metrics], axis=1), axis=1)\n",
    "\n",
    "    # 选 top-k\n",
    "    topk_idx = np.argsort(avg_ranks)[:k]\n",
    "    final_avg = {m: np.mean([performances[i][m] for i in topk_idx]) for m in performances[0].keys()}\n",
    "    final_std = {m: np.std([performances[i][m] for i in topk_idx], ddof=0) for m in performances[0].keys()}\n",
    "    final_long_seq_avg = {m: np.mean([long_seq_performances[i][m] for i in topk_idx]) for m in long_seq_performances[0].keys()}\n",
    "    final_long_seq_std = {m: np.std([long_seq_performances[i][m] for i in topk_idx], ddof=0) for m in long_seq_performances[0].keys()}\n",
    "\n",
    "    # 打印结果（转百分比，均保留两位小数）\n",
    "    print(\"Final Metrics:\")\n",
    "    for m in performances[0].keys():\n",
    "        mean_val = final_avg[m] * 100\n",
    "        std_val = final_std[m] * 100\n",
    "        print(f\"{m}: {mean_val:.2f} ± {std_val:.2f}\")\n",
    "    print(\"\\nFinal Long Sequence Metrics:\")\n",
    "    for m in long_seq_performances[0].keys():\n",
    "        mean_val = final_long_seq_avg[m] * 100\n",
    "        std_val = final_long_seq_std[m] * 100\n",
    "        print(f\"{m}: {mean_val:.2f} ± {std_val:.2f}\")"
   ]
  },
  {
   "cell_type": "code",
   "execution_count": null,
   "id": "e6e4b92e-35fc-46b9-8f3d-4713b4c71cd6",
   "metadata": {},
   "outputs": [],
   "source": [
    "def print_per_class_performance(dfs, col_name=\"prauc\"):\n",
    "    \"\"\"\n",
    "    输入一个 DataFrame 列表，对每个疾病在所有表格的指定列计算 mean ± std 并打印。\n",
    "\n",
    "    参数:\n",
    "        dfs (list[pd.DataFrame]): 多个表格组成的列表\n",
    "        col_name (str): 要计算的指标列名 (默认: \"prauc\")\n",
    "    \"\"\"\n",
    "    # 拼接所有表格\n",
    "    all_values = pd.concat(dfs, axis=0)\n",
    "\n",
    "    # 按疾病分组，计算 mean 和 std\n",
    "    grouped = all_values.groupby(all_values.index)[col_name].agg([\"mean\", \"std\"])\n",
    "\n",
    "    # 打印\n",
    "    for disease, row in grouped.iterrows():\n",
    "        mean_val = row[\"mean\"] * 100\n",
    "        std_val = row[\"std\"] * 100\n",
    "        print(f\"{disease}: {mean_val:.2f} ± {std_val:.2f}\")"
   ]
  },
  {
   "cell_type": "code",
   "execution_count": null,
   "id": "2a55c99e-6f60-468f-a7a7-1b67f170d599",
   "metadata": {},
   "outputs": [],
   "source": [
    "if task_type == \"binary\":\n",
    "    topk_avg_performance_formatted(final_metrics, final_long_seq_metrics)\n",
    "else:\n",
    "    final_metrics_global = [metrics[\"global\"] for metrics in final_metrics]\n",
    "    final_metrics_per_class = [metrics[\"per_class\"] for metrics in final_metrics]\n",
    "    final_long_seq_metrics_global = [metrics[\"global\"] for metrics in final_long_seq_metrics]\n",
    "    final_long_seq_metrics_per_class = [metrics[\"per_class\"] for metrics in final_long_seq_metrics]\n",
    "    topk_avg_performance_formatted(final_metrics_global, final_long_seq_metrics_global)\n",
    "    print(\"\\nPer-class performance, all patients:\")\n",
    "    print_per_class_performance(final_metrics_per_class, col_name=\"prauc\")\n",
    "    print(\"\\nPer-class performance, long seq:\")\n",
    "    print_per_class_performance(final_long_seq_metrics_per_class, col_name=\"prauc\")"
   ]
  }
 ],
 "metadata": {
  "kernelspec": {
   "display_name": "heart-cuda",
   "language": "python",
   "name": "heart-cuda"
  },
  "language_info": {
   "codemirror_mode": {
    "name": "ipython",
    "version": 3
   },
   "file_extension": ".py",
   "mimetype": "text/x-python",
   "name": "python",
   "nbconvert_exporter": "python",
   "pygments_lexer": "ipython3",
   "version": "3.10.18"
  }
 },
 "nbformat": 4,
 "nbformat_minor": 5
}
