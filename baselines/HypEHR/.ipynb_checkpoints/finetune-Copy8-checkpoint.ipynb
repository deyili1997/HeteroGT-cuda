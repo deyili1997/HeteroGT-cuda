{
 "cells": [
  {
   "cell_type": "code",
   "execution_count": 1,
   "id": "105bbf2f",
   "metadata": {},
   "outputs": [
    {
     "name": "stderr",
     "output_type": "stream",
     "text": [
      "Disabling PyTorch because PyTorch >= 2.1 is required but found 1.13.1\n",
      "None of PyTorch, TensorFlow >= 2.0, or Flax have been found. Models won't be available and only tokenizers, configuration and file/data utilities can be used.\n"
     ]
    }
   ],
   "source": [
    "import torch\n",
    "import random\n",
    "from model import SetGNN \n",
    "import pickle\n",
    "from tokenizer import EHRTokenizer\n",
    "from dataset import FinetuneHGDataset, batcher_SetGNN_finetune\n",
    "from torch.utils.data import DataLoader\n",
    "import torch.nn.functional as F\n",
    "from train import PHENO_ORDER, train_with_early_stopping\n",
    "from set_seed import set_random_seed\n",
    "import pandas as pd"
   ]
  },
  {
   "cell_type": "code",
   "execution_count": 2,
   "id": "eb757cdd",
   "metadata": {},
   "outputs": [
    {
     "name": "stdout",
     "output_type": "stream",
     "text": [
      "cuda\n"
     ]
    }
   ],
   "source": [
    "device = torch.device(\"cuda\" if torch.cuda.is_available() else \"cpu\")\n",
    "print(device)"
   ]
  },
  {
   "cell_type": "code",
   "execution_count": 3,
   "id": "89793d45",
   "metadata": {},
   "outputs": [],
   "source": [
    "args = {\n",
    "    \"dataset\": \"MIMIC-IV\", \n",
    "    \"task\": \"next_diag_12m\",  # options: death, stay, readmission, next_diag_6m, next_diag_12m\n",
    "    \"special_tokens\":[\"[PAD]\", \"[CLS]\"],\n",
    "    \"predicted_token_type\": [\"diag\", \"med\", \"lab\", \"pro\"],\n",
    "    \"batch_size\": 256,\n",
    "    \"lr\": 1e-3,\n",
    "    \"epochs\": 500,\n",
    "    \"model_name\": \"HG\",\n",
    "    \"early_stop_patience\": 10,\n",
    "    # model hyperparameters\n",
    "    \"level\": \"patient\",  # \"visit\" or \"patient\"\n",
    "    \"hg_all_num_layers\": 3,\n",
    "    \"hg_use_type_embed\": True,\n",
    "    \"MLP_num_layers\": 2,\n",
    "    \"hg_aggregate\": \"mean\",\n",
    "    \"hg_dropout\": 0.0,\n",
    "    \"normtype\": \"all_one\",\n",
    "    \"add_self_loop\": True,\n",
    "    \"hg_normalization\": \"ln\",\n",
    "    \"hg_hidden_size\": 128,\n",
    "    \"PMA\": True,\n",
    "    \"hg_num_heads\": 4,\n",
    "}"
   ]
  },
  {
   "cell_type": "code",
   "execution_count": 4,
   "id": "c32fba6c",
   "metadata": {},
   "outputs": [],
   "source": [
    "full_data_path = f\"/home/lideyi/HeteroGT-cuda/data_process/{args['dataset']}-processed/mimic.pkl\"\n",
    "\n",
    "if args[\"task\"] == \"next_diag_6m\":\n",
    "    finetune_data_path = f\"/home/lideyi/HeteroGT-cuda/data_process/{args['dataset']}-processed/mimic_nextdiag_6m.pkl\"\n",
    "elif args[\"task\"] == \"next_diag_12m\":\n",
    "    finetune_data_path = f\"/home/lideyi/HeteroGT-cuda/data_process/{args['dataset']}-processed/mimic_nextdiag_12m.pkl\"\n",
    "else:\n",
    "    finetune_data_path = f\"/home/lideyi/HeteroGT-cuda/data_process/{args['dataset']}-processed/mimic_downstream.pkl\""
   ]
  },
  {
   "cell_type": "code",
   "execution_count": 5,
   "id": "9ab08e48",
   "metadata": {},
   "outputs": [
    {
     "name": "stdout",
     "output_type": "stream",
     "text": [
      "Max admissions per patient: 8\n"
     ]
    }
   ],
   "source": [
    "ehr_full_data = pickle.load(open(full_data_path, 'rb'))\n",
    "diag_sentences = ehr_full_data[\"ICD9_CODE\"].values.tolist()\n",
    "med_sentences = ehr_full_data[\"NDC\"].values.tolist()\n",
    "lab_sentences = ehr_full_data[\"LAB_TEST\"].values.tolist()\n",
    "pro_sentences = ehr_full_data[\"PRO_CODE\"].values.tolist()\n",
    "age_gender_sentences = [\"[PAD]\"] + [str(c) + \"_\" + gender \\\n",
    "    for c in set(ehr_full_data[\"AGE\"].values.tolist()) for gender in [\"M\", \"F\"]] # PAD token special for age_gender vocabulary\n",
    "max_admissions = ehr_full_data.groupby(\"SUBJECT_ID\")[\"HADM_ID\"].nunique().max()\n",
    "args[\"max_adm_len\"] = max_admissions\n",
    "print(f\"Max admissions per patient: {max_admissions}\")"
   ]
  },
  {
   "cell_type": "code",
   "execution_count": 6,
   "id": "42864fb3",
   "metadata": {},
   "outputs": [
    {
     "name": "stdout",
     "output_type": "stream",
     "text": [
      "Age and gender vocabulary size: 41\n",
      "Global vocabulary size: 4207\n",
      "Label vocabulary size: 18\n"
     ]
    }
   ],
   "source": [
    "tokenizer = EHRTokenizer(age_gender_sentences, diag_sentences, med_sentences, lab_sentences, \n",
    "                         pro_sentences, special_tokens=args[\"special_tokens\"])\n",
    "args[\"age_gender_vocab_size\"] = tokenizer.token_number(\"age_gender\")\n",
    "args[\"global_vocab_size\"] = len(tokenizer.vocab.id2word)\n",
    "args[\"label_vocab_size\"] = len(PHENO_ORDER)\n",
    "print(f\"Age and gender vocabulary size: {args['age_gender_vocab_size']}\")\n",
    "print(f\"Global vocabulary size: {args['global_vocab_size']}\")\n",
    "print(f\"Label vocabulary size: {args['label_vocab_size']}\")"
   ]
  },
  {
   "cell_type": "code",
   "execution_count": 7,
   "id": "f7ff21ce",
   "metadata": {},
   "outputs": [
    {
     "name": "stdout",
     "output_type": "stream",
     "text": [
      "6850 5046 5062\n"
     ]
    }
   ],
   "source": [
    "train_data, val_data, test_data = pickle.load(open(finetune_data_path, 'rb'))\n",
    "\n",
    "# output: input_ids (a patient has multiple visits), labels\n",
    "train_dataset = FinetuneHGDataset(train_data, tokenizer, token_type=args[\"predicted_token_type\"], task=args[\"task\"], level=args[\"level\"])\n",
    "val_dataset = FinetuneHGDataset(val_data, tokenizer, token_type=args[\"predicted_token_type\"], task=args[\"task\"], level=args[\"level\"])\n",
    "test_dataset = FinetuneHGDataset(test_data, tokenizer, token_type=args[\"predicted_token_type\"], task=args[\"task\"], level=args[\"level\"])\n",
    "print(len(train_dataset), len(val_dataset), len(test_dataset))"
   ]
  },
  {
   "cell_type": "code",
   "execution_count": 8,
   "id": "42afdd7b",
   "metadata": {},
   "outputs": [
    {
     "name": "stdout",
     "output_type": "stream",
     "text": [
      "857 876\n"
     ]
    }
   ],
   "source": [
    "long_adm_seq_crite = 3\n",
    "val_long_seq_idx, test_long_seq_idx = [], []\n",
    "for i in range(len(val_dataset)):\n",
    "    hadm_id = list(val_dataset.records.keys())[i]\n",
    "    num_adms = len(val_dataset.records[hadm_id])\n",
    "    if num_adms >= long_adm_seq_crite:\n",
    "        val_long_seq_idx.append(i)\n",
    "for i in range(len(test_dataset)):\n",
    "    hadm_id = list(test_dataset.records.keys())[i]\n",
    "    num_adms = len(test_dataset.records[hadm_id])\n",
    "    if num_adms >= long_adm_seq_crite:\n",
    "        test_long_seq_idx.append(i)\n",
    "print(len(val_long_seq_idx), len(test_long_seq_idx))"
   ]
  },
  {
   "cell_type": "code",
   "execution_count": 9,
   "id": "d0769b44",
   "metadata": {},
   "outputs": [],
   "source": [
    "use_full_graph = True\n",
    "train_batch_size = len(train_dataset) if use_full_graph else args[\"batch_size\"]\n",
    "val_batch_size = len(val_dataset) if use_full_graph else args[\"batch_size\"]\n",
    "test_batch_size = len(test_dataset) if use_full_graph else args[\"batch_size\"]\n",
    "train_dataloader = DataLoader(train_dataset, collate_fn=batcher_SetGNN_finetune(device = device), batch_size = train_batch_size, shuffle = True)\n",
    "val_dataloader = DataLoader(val_dataset, collate_fn=batcher_SetGNN_finetune(device = device), batch_size = val_batch_size, shuffle = False)\n",
    "test_dataloader = DataLoader(test_dataset, collate_fn=batcher_SetGNN_finetune(device = device), batch_size = test_batch_size, shuffle = False)"
   ]
  },
  {
   "cell_type": "code",
   "execution_count": 10,
   "id": "92a62432",
   "metadata": {},
   "outputs": [],
   "source": [
    "if args[\"task\"] in [\"death\", \"stay\", \"readmission\"]:\n",
    "    eval_metric = \"prauc\"\n",
    "    task_type = \"binary\"\n",
    "    loss_fn = F.binary_cross_entropy_with_logits\n",
    "else:\n",
    "    eval_metric = \"prauc\"\n",
    "    task_type = \"l2r\"\n",
    "    loss_fn = lambda x, y: F.binary_cross_entropy_with_logits(x, y)"
   ]
  },
  {
   "cell_type": "code",
   "execution_count": 11,
   "id": "33afa400",
   "metadata": {},
   "outputs": [
    {
     "name": "stdout",
     "output_type": "stream",
     "text": [
      "[2746317213, 1181241943, 958682846, 3163119785, 1812140441, 127978094, 939042955, 2340505846, 946785248, 2530876844, 3460967357, 2998485882, 1461364854, 667779376, 1445662585]\n"
     ]
    }
   ],
   "source": [
    "random.seed(42)\n",
    "seeds = [random.randint(0, 2**32 - 1) for _ in range(15)]\n",
    "print(seeds)"
   ]
  },
  {
   "cell_type": "code",
   "execution_count": 12,
   "id": "71af0347",
   "metadata": {},
   "outputs": [
    {
     "name": "stdout",
     "output_type": "stream",
     "text": [
      "[INFO] Random seed set to 2746317213\n",
      "Training with seed: 2746317213\n"
     ]
    },
    {
     "name": "stderr",
     "output_type": "stream",
     "text": [
      "Training Batches: 100%|██████████| 1/1 [00:02<00:00,  2.18s/it]\n",
      "Running inference: 100%|██████████| 1/1 [00:01<00:00,  1.59s/it]\n",
      "Running inference: 100%|██████████| 1/1 [00:01<00:00,  1.21s/it]\n"
     ]
    },
    {
     "name": "stdout",
     "output_type": "stream",
     "text": [
      "Epoch: 001, Average Loss: 0.6892\n",
      "Validation: {'precision': 0.12415502524749394, 'recall': 0.20746104457814887, 'f1': 0.12097475009215843, 'auc': 0.5412593207379399, 'prauc': 0.19585540536167645}\n",
      "Test:       {'precision': 0.12311171098071992, 'recall': 0.1991971681318675, 'f1': 0.11748625158760657, 'auc': 0.5396592896842423, 'prauc': 0.1958430049972901}\n"
     ]
    },
    {
     "name": "stderr",
     "output_type": "stream",
     "text": [
      "Training Batches: 100%|██████████| 1/1 [00:01<00:00,  1.51s/it]\n",
      "Running inference: 100%|██████████| 1/1 [00:01<00:00,  1.57s/it]\n",
      "Running inference: 100%|██████████| 1/1 [00:01<00:00,  1.20s/it]\n"
     ]
    },
    {
     "name": "stdout",
     "output_type": "stream",
     "text": [
      "Epoch: 002, Average Loss: 0.6800\n",
      "Validation: {'precision': 0.11708364572437541, 'recall': 0.14431351874274323, 'f1': 0.1110820140235675, 'auc': 0.550825524875574, 'prauc': 0.20511674127911453}\n",
      "Test:       {'precision': 0.11686564412154807, 'recall': 0.13844460561939537, 'f1': 0.10914794552795301, 'auc': 0.5528171675168129, 'prauc': 0.2091637322852361}\n"
     ]
    },
    {
     "name": "stderr",
     "output_type": "stream",
     "text": [
      "Training Batches: 100%|██████████| 1/1 [00:01<00:00,  1.44s/it]\n",
      "Running inference: 100%|██████████| 1/1 [00:01<00:00,  1.15s/it]\n",
      "Running inference: 100%|██████████| 1/1 [00:01<00:00,  1.55s/it]\n"
     ]
    },
    {
     "name": "stdout",
     "output_type": "stream",
     "text": [
      "Epoch: 003, Average Loss: 0.6701\n",
      "Validation: {'precision': 0.11206650181560024, 'recall': 0.10958599433805949, 'f1': 0.10109501742151555, 'auc': 0.5540112849009271, 'prauc': 0.21156352246533813}\n",
      "Test:       {'precision': 0.1141978189747366, 'recall': 0.11043220600787745, 'f1': 0.10255668818161467, 'auc': 0.5553140110890405, 'prauc': 0.21624811141285455}\n"
     ]
    },
    {
     "name": "stderr",
     "output_type": "stream",
     "text": [
      "Training Batches: 100%|██████████| 1/1 [00:01<00:00,  1.51s/it]\n",
      "Running inference: 100%|██████████| 1/1 [00:01<00:00,  1.17s/it]\n",
      "Running inference: 100%|██████████| 1/1 [00:01<00:00,  1.16s/it]\n"
     ]
    },
    {
     "name": "stdout",
     "output_type": "stream",
     "text": [
      "Epoch: 004, Average Loss: 0.6592\n",
      "Validation: {'precision': 0.11648139192715999, 'recall': 0.07149434302025097, 'f1': 0.0810597085757983, 'auc': 0.5536148819095766, 'prauc': 0.21290707700755787}\n",
      "Test:       {'precision': 0.11749157225745924, 'recall': 0.07057384844243988, 'f1': 0.08055358193300975, 'auc': 0.5525604424252034, 'prauc': 0.21736212791402368}\n"
     ]
    },
    {
     "name": "stderr",
     "output_type": "stream",
     "text": [
      "Training Batches: 100%|██████████| 1/1 [00:01<00:00,  1.88s/it]\n",
      "Running inference: 100%|██████████| 1/1 [00:01<00:00,  1.16s/it]\n",
      "Running inference: 100%|██████████| 1/1 [00:01<00:00,  1.17s/it]\n"
     ]
    },
    {
     "name": "stdout",
     "output_type": "stream",
     "text": [
      "Epoch: 005, Average Loss: 0.6459\n",
      "Validation: {'precision': 0.10498550436974081, 'recall': 0.028172492752181984, 'f1': 0.03348643558735932, 'auc': 0.5504300239276669, 'prauc': 0.2098179342885551}\n",
      "Test:       {'precision': 0.10711733190206583, 'recall': 0.028514041762577977, 'f1': 0.033651694507870325, 'auc': 0.5476929071025002, 'prauc': 0.21379979023719023}\n"
     ]
    },
    {
     "name": "stderr",
     "output_type": "stream",
     "text": [
      "Training Batches: 100%|██████████| 1/1 [00:01<00:00,  1.90s/it]\n",
      "Running inference: 100%|██████████| 1/1 [00:01<00:00,  1.19s/it]\n",
      "Running inference: 100%|██████████| 1/1 [00:01<00:00,  1.20s/it]\n"
     ]
    },
    {
     "name": "stdout",
     "output_type": "stream",
     "text": [
      "Epoch: 006, Average Loss: 0.6297\n",
      "Validation: {'precision': 0.11712819185645272, 'recall': 0.02143207880651911, 'f1': 0.022610480325642033, 'auc': 0.5472644737504904, 'prauc': 0.2060052525001431}\n",
      "Test:       {'precision': 0.12576401286078706, 'recall': 0.023407229367086738, 'f1': 0.025087935873261333, 'auc': 0.5438784795282654, 'prauc': 0.2106551725617795}\n"
     ]
    },
    {
     "name": "stderr",
     "output_type": "stream",
     "text": [
      "Training Batches: 100%|██████████| 1/1 [00:01<00:00,  1.92s/it]\n",
      "Running inference: 100%|██████████| 1/1 [00:01<00:00,  1.18s/it]\n",
      "Running inference: 100%|██████████| 1/1 [00:01<00:00,  1.20s/it]\n"
     ]
    },
    {
     "name": "stdout",
     "output_type": "stream",
     "text": [
      "Epoch: 007, Average Loss: 0.6118\n",
      "Validation: {'precision': 0.023362144557184016, 'recall': 0.017817903888411195, 'f1': 0.02021680216802168, 'auc': 0.5428428310409392, 'prauc': 0.19819801744296614}\n",
      "Test:       {'precision': 0.055799755799755796, 'recall': 0.02017421659997895, 'f1': 0.023522436975746713, 'auc': 0.5390539749247201, 'prauc': 0.20168910910095025}\n"
     ]
    },
    {
     "name": "stderr",
     "output_type": "stream",
     "text": [
      "Training Batches: 100%|██████████| 1/1 [00:01<00:00,  1.91s/it]\n",
      "Running inference: 100%|██████████| 1/1 [00:01<00:00,  1.19s/it]\n",
      "Running inference: 100%|██████████| 1/1 [00:01<00:00,  1.20s/it]\n"
     ]
    },
    {
     "name": "stdout",
     "output_type": "stream",
     "text": [
      "Epoch: 008, Average Loss: 0.5914\n",
      "Validation: {'precision': 0.03498727735368957, 'recall': 0.007881914588707366, 'f1': 0.012865497076023392, 'auc': 0.5390512267934953, 'prauc': 0.19356501400685266}\n",
      "Test:       {'precision': 0.04034643008027038, 'recall': 0.008374989037972465, 'f1': 0.013870733478576616, 'auc': 0.5348606904316271, 'prauc': 0.19662525218281493}\n"
     ]
    },
    {
     "name": "stderr",
     "output_type": "stream",
     "text": [
      "Training Batches: 100%|██████████| 1/1 [00:01<00:00,  1.91s/it]\n",
      "Running inference: 100%|██████████| 1/1 [00:01<00:00,  1.19s/it]\n",
      "Running inference: 100%|██████████| 1/1 [00:01<00:00,  1.20s/it]\n"
     ]
    },
    {
     "name": "stdout",
     "output_type": "stream",
     "text": [
      "Epoch: 009, Average Loss: 0.5688\n",
      "Validation: {'precision': 0.0, 'recall': 0.0, 'f1': 0.0, 'auc': 0.5369797944797847, 'prauc': 0.19150974433215381}\n",
      "Test:       {'precision': 0.0, 'recall': 0.0, 'f1': 0.0, 'auc': 0.5327557742921429, 'prauc': 0.194076586029314}\n"
     ]
    },
    {
     "name": "stderr",
     "output_type": "stream",
     "text": [
      "Training Batches: 100%|██████████| 1/1 [00:01<00:00,  1.90s/it]\n",
      "Running inference: 100%|██████████| 1/1 [00:01<00:00,  1.19s/it]\n",
      "Running inference: 100%|██████████| 1/1 [00:01<00:00,  1.17s/it]\n"
     ]
    },
    {
     "name": "stdout",
     "output_type": "stream",
     "text": [
      "Epoch: 010, Average Loss: 0.5462\n",
      "Validation: {'precision': 0.0, 'recall': 0.0, 'f1': 0.0, 'auc': 0.5347120711450204, 'prauc': 0.18597044595847564}\n",
      "Test:       {'precision': 0.0, 'recall': 0.0, 'f1': 0.0, 'auc': 0.5302605738882717, 'prauc': 0.18751606090785655}\n"
     ]
    },
    {
     "name": "stderr",
     "output_type": "stream",
     "text": [
      "Training Batches: 100%|██████████| 1/1 [00:01<00:00,  1.91s/it]\n",
      "Running inference: 100%|██████████| 1/1 [00:01<00:00,  1.18s/it]\n",
      "Running inference: 100%|██████████| 1/1 [00:01<00:00,  1.19s/it]\n"
     ]
    },
    {
     "name": "stdout",
     "output_type": "stream",
     "text": [
      "Epoch: 011, Average Loss: 0.5231\n",
      "Validation: {'precision': 0.0, 'recall': 0.0, 'f1': 0.0, 'auc': 0.5312365487527394, 'prauc': 0.17996230590367526}\n",
      "Test:       {'precision': 0.0, 'recall': 0.0, 'f1': 0.0, 'auc': 0.5265504266039464, 'prauc': 0.18102826089455418}\n"
     ]
    },
    {
     "name": "stderr",
     "output_type": "stream",
     "text": [
      "Training Batches: 100%|██████████| 1/1 [00:01<00:00,  1.94s/it]\n",
      "Running inference: 100%|██████████| 1/1 [00:01<00:00,  1.20s/it]\n",
      "Running inference: 100%|██████████| 1/1 [00:01<00:00,  1.20s/it]\n"
     ]
    },
    {
     "name": "stdout",
     "output_type": "stream",
     "text": [
      "Epoch: 012, Average Loss: 0.5006\n",
      "Validation: {'precision': 0.0, 'recall': 0.0, 'f1': 0.0, 'auc': 0.529228423095246, 'prauc': 0.17741015269107926}\n",
      "Test:       {'precision': 0.0, 'recall': 0.0, 'f1': 0.0, 'auc': 0.5246792765979037, 'prauc': 0.17901538152894475}\n"
     ]
    },
    {
     "name": "stderr",
     "output_type": "stream",
     "text": [
      "Training Batches: 100%|██████████| 1/1 [00:01<00:00,  1.92s/it]\n",
      "Running inference: 100%|██████████| 1/1 [00:01<00:00,  1.19s/it]\n",
      "Running inference: 100%|██████████| 1/1 [00:01<00:00,  1.20s/it]\n"
     ]
    },
    {
     "name": "stdout",
     "output_type": "stream",
     "text": [
      "Epoch: 013, Average Loss: 0.4811\n",
      "Validation: {'precision': 0.0, 'recall': 0.0, 'f1': 0.0, 'auc': 0.5277527795379792, 'prauc': 0.17606741576130808}\n",
      "Test:       {'precision': 0.0, 'recall': 0.0, 'f1': 0.0, 'auc': 0.5236454410974594, 'prauc': 0.1778474221368279}\n"
     ]
    },
    {
     "name": "stderr",
     "output_type": "stream",
     "text": [
      "Training Batches: 100%|██████████| 1/1 [00:01<00:00,  1.92s/it]\n",
      "Running inference: 100%|██████████| 1/1 [00:01<00:00,  1.19s/it]\n",
      "Running inference: 100%|██████████| 1/1 [00:01<00:00,  1.19s/it]\n"
     ]
    },
    {
     "name": "stdout",
     "output_type": "stream",
     "text": [
      "Epoch: 014, Average Loss: 0.4637\n",
      "Validation: {'precision': 0.0, 'recall': 0.0, 'f1': 0.0, 'auc': 0.5263071605617795, 'prauc': 0.1752032011970486}\n",
      "Test:       {'precision': 0.0, 'recall': 0.0, 'f1': 0.0, 'auc': 0.5229416163125973, 'prauc': 0.17729611280315746}\n",
      "\n",
      "Early stopping triggered after 14 epochs (no improvement for 10 epochs).\n",
      "\n",
      "Best validation performance:\n",
      "{'global': {'precision': 0.11648139192715999, 'recall': 0.07149434302025097, 'f1': 0.0810597085757983, 'auc': 0.5536148819095766, 'prauc': 0.21290707700755787}, 'per_class':                                            precision    recall        f1  \\\n",
      "Acute and unspecified renal failure         0.342593  0.255834  0.292924   \n",
      "Acute cerebrovascular disease               0.000000  0.000000  0.000000   \n",
      "Acute myocardial infarction                 0.000000  0.000000  0.000000   \n",
      "Cardiac dysrhythmias                        0.000000  0.000000  0.000000   \n",
      "Chronic kidney disease                      0.389634  0.374893  0.382121   \n",
      "Chronic obstructive pulmonary disease       0.076923  0.002232  0.004338   \n",
      "Conduction disorders                        0.000000  0.000000  0.000000   \n",
      "Congestive heart failure; nonhypertensive   0.345757  0.385159  0.364396   \n",
      "Coronary atherosclerosis and related        0.000000  0.000000  0.000000   \n",
      "Disorders of lipid metabolism               0.000000  0.000000  0.000000   \n",
      "Essential hypertension                      0.471488  0.161505  0.240596   \n",
      "Fluid and electrolyte disorders             0.470270  0.107275  0.174699   \n",
      "Gastrointestinal hemorrhage                 0.000000  0.000000  0.000000   \n",
      "Hypertension with complications             0.000000  0.000000  0.000000   \n",
      "Other liver diseases                        0.000000  0.000000  0.000000   \n",
      "Other lower respiratory disease             0.000000  0.000000  0.000000   \n",
      "Pneumonia                                   0.000000  0.000000  0.000000   \n",
      "Septicemia (except in labor)                0.000000  0.000000  0.000000   \n",
      "\n",
      "                                                auc     prauc  \n",
      "Acute and unspecified renal failure        0.600187  0.303529  \n",
      "Acute cerebrovascular disease              0.439015  0.006191  \n",
      "Acute myocardial infarction                0.530538  0.041018  \n",
      "Cardiac dysrhythmias                       0.547509  0.307833  \n",
      "Chronic kidney disease                     0.654652  0.409473  \n",
      "Chronic obstructive pulmonary disease      0.519374  0.095086  \n",
      "Conduction disorders                       0.487934  0.028934  \n",
      "Congestive heart failure; nonhypertensive  0.616812  0.320504  \n",
      "Coronary atherosclerosis and related       0.530416  0.280953  \n",
      "Disorders of lipid metabolism              0.554830  0.446372  \n",
      "Essential hypertension                     0.579351  0.462125  \n",
      "Fluid and electrolyte disorders            0.609475  0.406972  \n",
      "Gastrointestinal hemorrhage                0.500614  0.030558  \n",
      "Hypertension with complications            0.639393  0.346395  \n",
      "Other liver diseases                       0.522046  0.012101  \n",
      "Other lower respiratory disease            0.518174  0.157321  \n",
      "Pneumonia                                  0.528541  0.072635  \n",
      "Septicemia (except in labor)               0.586205  0.104329  }\n",
      "Corresponding test performance:\n",
      "{'global': {'precision': 0.11749157225745924, 'recall': 0.07057384844243988, 'f1': 0.08055358193300975, 'auc': 0.5525604424252034, 'prauc': 0.21736212791402368}, 'per_class':                                            precision    recall        f1  \\\n",
      "Acute and unspecified renal failure         0.330263  0.216566  0.261595   \n",
      "Acute cerebrovascular disease               0.000000  0.000000  0.000000   \n",
      "Acute myocardial infarction                 0.000000  0.000000  0.000000   \n",
      "Cardiac dysrhythmias                        0.000000  0.000000  0.000000   \n",
      "Chronic kidney disease                      0.450741  0.408051  0.428335   \n",
      "Chronic obstructive pulmonary disease       0.100000  0.002347  0.004587   \n",
      "Conduction disorders                        0.000000  0.000000  0.000000   \n",
      "Congestive heart failure; nonhypertensive   0.368379  0.402766  0.384806   \n",
      "Coronary atherosclerosis and related        0.000000  0.000000  0.000000   \n",
      "Disorders of lipid metabolism               0.000000  0.000000  0.000000   \n",
      "Essential hypertension                      0.428571  0.155533  0.228237   \n",
      "Fluid and electrolyte disorders             0.436893  0.085066  0.142405   \n",
      "Gastrointestinal hemorrhage                 0.000000  0.000000  0.000000   \n",
      "Hypertension with complications             0.000000  0.000000  0.000000   \n",
      "Other liver diseases                        0.000000  0.000000  0.000000   \n",
      "Other lower respiratory disease             0.000000  0.000000  0.000000   \n",
      "Pneumonia                                   0.000000  0.000000  0.000000   \n",
      "Septicemia (except in labor)                0.000000  0.000000  0.000000   \n",
      "\n",
      "                                                auc     prauc  \n",
      "Acute and unspecified renal failure        0.619054  0.302675  \n",
      "Acute cerebrovascular disease              0.421982  0.006196  \n",
      "Acute myocardial infarction                0.463456  0.033640  \n",
      "Cardiac dysrhythmias                       0.514160  0.278957  \n",
      "Chronic kidney disease                     0.676879  0.481224  \n",
      "Chronic obstructive pulmonary disease      0.504562  0.087850  \n",
      "Conduction disorders                       0.499610  0.023204  \n",
      "Congestive heart failure; nonhypertensive  0.631820  0.344808  \n",
      "Coronary atherosclerosis and related       0.543758  0.304440  \n",
      "Disorders of lipid metabolism              0.540193  0.423478  \n",
      "Essential hypertension                     0.564728  0.425732  \n",
      "Fluid and electrolyte disorders            0.615511  0.397257  \n",
      "Gastrointestinal hemorrhage                0.529614  0.044069  \n",
      "Hypertension with complications            0.661212  0.391520  \n",
      "Other liver diseases                       0.528672  0.009456  \n",
      "Other lower respiratory disease            0.517430  0.173657  \n",
      "Pneumonia                                  0.535712  0.078826  \n",
      "Septicemia (except in labor)               0.577736  0.105532  }\n",
      "Corresponding test-long performance:\n",
      "{'global': {'precision': 0.11226069104548213, 'recall': 0.0926319940879328, 'f1': 0.08713823434082185, 'auc': 0.5470328454034533, 'prauc': 0.24714085514875622}, 'per_class':                                            precision    recall        f1  \\\n",
      "Acute and unspecified renal failure         0.370787  0.360000  0.365314   \n",
      "Acute cerebrovascular disease               0.000000  0.000000  0.000000   \n",
      "Acute myocardial infarction                 0.000000  0.000000  0.000000   \n",
      "Cardiac dysrhythmias                        0.000000  0.000000  0.000000   \n",
      "Chronic kidney disease                      0.446623  0.642633  0.526992   \n",
      "Chronic obstructive pulmonary disease       0.000000  0.000000  0.000000   \n",
      "Conduction disorders                        0.000000  0.000000  0.000000   \n",
      "Congestive heart failure; nonhypertensive   0.397727  0.518519  0.450161   \n",
      "Coronary atherosclerosis and related        0.000000  0.000000  0.000000   \n",
      "Disorders of lipid metabolism               0.000000  0.000000  0.000000   \n",
      "Essential hypertension                      0.333333  0.003367  0.006667   \n",
      "Fluid and electrolyte disorders             0.472222  0.142857  0.219355   \n",
      "Gastrointestinal hemorrhage                 0.000000  0.000000  0.000000   \n",
      "Hypertension with complications             0.000000  0.000000  0.000000   \n",
      "Other liver diseases                        0.000000  0.000000  0.000000   \n",
      "Other lower respiratory disease             0.000000  0.000000  0.000000   \n",
      "Pneumonia                                   0.000000  0.000000  0.000000   \n",
      "Septicemia (except in labor)                0.000000  0.000000  0.000000   \n",
      "\n",
      "                                                auc     prauc  \n",
      "Acute and unspecified renal failure        0.574669  0.352268  \n",
      "Acute cerebrovascular disease              0.390160  0.002119  \n",
      "Acute myocardial infarction                0.395232  0.027019  \n",
      "Cardiac dysrhythmias                       0.484688  0.282759  \n",
      "Chronic kidney disease                     0.669580  0.609628  \n",
      "Chronic obstructive pulmonary disease      0.582628  0.110724  \n",
      "Conduction disorders                       0.462704  0.022320  \n",
      "Congestive heart failure; nonhypertensive  0.627937  0.426970  \n",
      "Coronary atherosclerosis and related       0.512818  0.272970  \n",
      "Disorders of lipid metabolism              0.569462  0.424994  \n",
      "Essential hypertension                     0.602025  0.424484  \n",
      "Fluid and electrolyte disorders            0.575884  0.456482  \n",
      "Gastrointestinal hemorrhage                0.568111  0.071405  \n",
      "Hypertension with complications            0.645007  0.482654  \n",
      "Other liver diseases                       0.637828  0.016984  \n",
      "Other lower respiratory disease            0.529723  0.244956  \n",
      "Pneumonia                                  0.489785  0.090359  \n",
      "Septicemia (except in labor)               0.528351  0.129442  }\n",
      "[INFO] Random seed set to 1181241943\n",
      "Training with seed: 1181241943\n"
     ]
    },
    {
     "name": "stderr",
     "output_type": "stream",
     "text": [
      "Training Batches: 100%|██████████| 1/1 [00:01<00:00,  1.92s/it]\n",
      "Running inference: 100%|██████████| 1/1 [00:01<00:00,  1.18s/it]\n",
      "Running inference: 100%|██████████| 1/1 [00:01<00:00,  1.19s/it]\n"
     ]
    },
    {
     "name": "stdout",
     "output_type": "stream",
     "text": [
      "Epoch: 001, Average Loss: 0.6929\n",
      "Validation: {'precision': 0.13560908573427888, 'recall': 0.4136848435466139, 'f1': 0.1773617748657843, 'auc': 0.5477438087175267, 'prauc': 0.19540037040936512}\n",
      "Test:       {'precision': 0.14433724294180275, 'recall': 0.4158531926591526, 'f1': 0.18085834733063746, 'auc': 0.5415601550217295, 'prauc': 0.2058976745023476}\n"
     ]
    },
    {
     "name": "stderr",
     "output_type": "stream",
     "text": [
      "Training Batches: 100%|██████████| 1/1 [00:01<00:00,  1.90s/it]\n",
      "Running inference: 100%|██████████| 1/1 [00:01<00:00,  1.18s/it]\n",
      "Running inference: 100%|██████████| 1/1 [00:01<00:00,  1.59s/it]\n"
     ]
    },
    {
     "name": "stdout",
     "output_type": "stream",
     "text": [
      "Epoch: 002, Average Loss: 0.6842\n",
      "Validation: {'precision': 0.1468544396305173, 'recall': 0.3147006981873407, 'f1': 0.17461412473835042, 'auc': 0.5623933229533837, 'prauc': 0.21628416392738953}\n",
      "Test:       {'precision': 0.14951216841120213, 'recall': 0.3158348440026479, 'f1': 0.1784931151882062, 'auc': 0.5583376117753174, 'prauc': 0.22904889385443428}\n"
     ]
    },
    {
     "name": "stderr",
     "output_type": "stream",
     "text": [
      "Training Batches: 100%|██████████| 1/1 [00:01<00:00,  1.48s/it]\n",
      "Running inference: 100%|██████████| 1/1 [00:01<00:00,  1.19s/it]\n",
      "Running inference: 100%|██████████| 1/1 [00:01<00:00,  1.20s/it]\n"
     ]
    },
    {
     "name": "stdout",
     "output_type": "stream",
     "text": [
      "Epoch: 003, Average Loss: 0.6744\n",
      "Validation: {'precision': 0.17592110853974366, 'recall': 0.2129485347882934, 'f1': 0.14631497539618432, 'auc': 0.5644538210679184, 'prauc': 0.2230092848965951}\n",
      "Test:       {'precision': 0.16582172788090888, 'recall': 0.2134751013205706, 'f1': 0.14792425219235714, 'auc': 0.5628816134487223, 'prauc': 0.23417476946059562}\n"
     ]
    },
    {
     "name": "stderr",
     "output_type": "stream",
     "text": [
      "Training Batches: 100%|██████████| 1/1 [00:01<00:00,  1.91s/it]\n",
      "Running inference: 100%|██████████| 1/1 [00:01<00:00,  1.19s/it]\n",
      "Running inference: 100%|██████████| 1/1 [00:01<00:00,  1.21s/it]\n"
     ]
    },
    {
     "name": "stdout",
     "output_type": "stream",
     "text": [
      "Epoch: 004, Average Loss: 0.6636\n",
      "Validation: {'precision': 0.19256672079783138, 'recall': 0.1415048884608264, 'f1': 0.11556319032647372, 'auc': 0.5614526061799506, 'prauc': 0.22434918977035703}\n",
      "Test:       {'precision': 0.14434507345899922, 'recall': 0.1474644838805479, 'f1': 0.12358877192037104, 'auc': 0.5609469679574778, 'prauc': 0.23384587259875728}\n"
     ]
    },
    {
     "name": "stderr",
     "output_type": "stream",
     "text": [
      "Training Batches: 100%|██████████| 1/1 [00:01<00:00,  1.93s/it]\n",
      "Running inference: 100%|██████████| 1/1 [00:01<00:00,  1.20s/it]\n",
      "Running inference: 100%|██████████| 1/1 [00:00<00:00,  1.26it/s]\n"
     ]
    },
    {
     "name": "stdout",
     "output_type": "stream",
     "text": [
      "Epoch: 005, Average Loss: 0.6502\n",
      "Validation: {'precision': 0.1466565057669662, 'recall': 0.09428412072034774, 'f1': 0.08341988593311012, 'auc': 0.5575247565998012, 'prauc': 0.22300256219810122}\n",
      "Test:       {'precision': 0.1565926111381692, 'recall': 0.09976183027286592, 'f1': 0.09026666997491636, 'auc': 0.5571934558289274, 'prauc': 0.23180713700236666}\n"
     ]
    },
    {
     "name": "stderr",
     "output_type": "stream",
     "text": [
      "Training Batches: 100%|██████████| 1/1 [00:01<00:00,  1.90s/it]\n",
      "Running inference: 100%|██████████| 1/1 [00:01<00:00,  1.58s/it]\n",
      "Running inference: 100%|██████████| 1/1 [00:01<00:00,  1.20s/it]\n"
     ]
    },
    {
     "name": "stdout",
     "output_type": "stream",
     "text": [
      "Epoch: 006, Average Loss: 0.6347\n",
      "Validation: {'precision': 0.1606205318610413, 'recall': 0.06388695634337581, 'f1': 0.051320792221202435, 'auc': 0.5533352682027588, 'prauc': 0.21928381073858755}\n",
      "Test:       {'precision': 0.18975965402943665, 'recall': 0.06768354048236395, 'f1': 0.05597965876835073, 'auc': 0.5529836193999641, 'prauc': 0.22761665947408286}\n"
     ]
    },
    {
     "name": "stderr",
     "output_type": "stream",
     "text": [
      "Training Batches: 100%|██████████| 1/1 [00:01<00:00,  1.53s/it]\n",
      "Running inference: 100%|██████████| 1/1 [00:01<00:00,  1.57s/it]\n",
      "Running inference: 100%|██████████| 1/1 [00:01<00:00,  1.22s/it]\n"
     ]
    },
    {
     "name": "stdout",
     "output_type": "stream",
     "text": [
      "Epoch: 007, Average Loss: 0.6165\n",
      "Validation: {'precision': 0.07040014675557055, 'recall': 0.036861389490431044, 'f1': 0.03485411119965939, 'auc': 0.5480065906361286, 'prauc': 0.20955630245015913}\n",
      "Test:       {'precision': 0.05854332723704984, 'recall': 0.03763295801567646, 'f1': 0.036882359421985325, 'auc': 0.5473198217748478, 'prauc': 0.21701399688115255}\n"
     ]
    },
    {
     "name": "stderr",
     "output_type": "stream",
     "text": [
      "Training Batches: 100%|██████████| 1/1 [00:01<00:00,  1.52s/it]\n",
      "Running inference: 100%|██████████| 1/1 [00:01<00:00,  1.18s/it]\n",
      "Running inference: 100%|██████████| 1/1 [00:01<00:00,  1.19s/it]\n"
     ]
    },
    {
     "name": "stdout",
     "output_type": "stream",
     "text": [
      "Epoch: 008, Average Loss: 0.5960\n",
      "Validation: {'precision': 0.11893636968487267, 'recall': 0.01648977175592265, 'f1': 0.021226691410554215, 'auc': 0.5418854333675766, 'prauc': 0.1992441267385954}\n",
      "Test:       {'precision': 0.03782679738562092, 'recall': 0.016622602537308604, 'f1': 0.02166702303459414, 'auc': 0.5408053454863717, 'prauc': 0.20522735714675697}\n"
     ]
    },
    {
     "name": "stderr",
     "output_type": "stream",
     "text": [
      "Training Batches: 100%|██████████| 1/1 [00:02<00:00,  2.33s/it]\n",
      "Running inference: 100%|██████████| 1/1 [00:00<00:00,  1.25it/s]\n",
      "Running inference: 100%|██████████| 1/1 [00:01<00:00,  1.19s/it]\n"
     ]
    },
    {
     "name": "stdout",
     "output_type": "stream",
     "text": [
      "Epoch: 009, Average Loss: 0.5734\n",
      "Validation: {'precision': 0.03333333333333333, 'recall': 0.00014330753797649757, 'f1': 0.00028538812785388126, 'auc': 0.5368827136537203, 'prauc': 0.1895818572589121}\n",
      "Test:       {'precision': 0.041666666666666664, 'recall': 0.00013154433043935807, 'f1': 0.00026226068712300026, 'auc': 0.5354848217628775, 'prauc': 0.19457815116899357}\n"
     ]
    },
    {
     "name": "stderr",
     "output_type": "stream",
     "text": [
      "Training Batches: 100%|██████████| 1/1 [00:01<00:00,  1.89s/it]\n",
      "Running inference: 100%|██████████| 1/1 [00:01<00:00,  1.58s/it]\n",
      "Running inference: 100%|██████████| 1/1 [00:01<00:00,  1.18s/it]\n"
     ]
    },
    {
     "name": "stdout",
     "output_type": "stream",
     "text": [
      "Epoch: 010, Average Loss: 0.5496\n",
      "Validation: {'precision': 0.0, 'recall': 0.0, 'f1': 0.0, 'auc': 0.532797931435646, 'prauc': 0.18361192475149668}\n",
      "Test:       {'precision': 0.0, 'recall': 0.0, 'f1': 0.0, 'auc': 0.5312394105629248, 'prauc': 0.1871636010115565}\n"
     ]
    },
    {
     "name": "stderr",
     "output_type": "stream",
     "text": [
      "Training Batches: 100%|██████████| 1/1 [00:01<00:00,  1.53s/it]\n",
      "Running inference: 100%|██████████| 1/1 [00:01<00:00,  1.18s/it]\n",
      "Running inference: 100%|██████████| 1/1 [00:01<00:00,  1.57s/it]\n"
     ]
    },
    {
     "name": "stdout",
     "output_type": "stream",
     "text": [
      "Epoch: 011, Average Loss: 0.5256\n",
      "Validation: {'precision': 0.0, 'recall': 0.0, 'f1': 0.0, 'auc': 0.5304206445309809, 'prauc': 0.1809901585186119}\n",
      "Test:       {'precision': 0.0, 'recall': 0.0, 'f1': 0.0, 'auc': 0.5290405336711846, 'prauc': 0.18367747860789332}\n"
     ]
    },
    {
     "name": "stderr",
     "output_type": "stream",
     "text": [
      "Training Batches: 100%|██████████| 1/1 [00:01<00:00,  1.93s/it]\n",
      "Running inference: 100%|██████████| 1/1 [00:00<00:00,  1.25it/s]\n",
      "Running inference: 100%|██████████| 1/1 [00:01<00:00,  1.20s/it]\n"
     ]
    },
    {
     "name": "stdout",
     "output_type": "stream",
     "text": [
      "Epoch: 012, Average Loss: 0.5020\n",
      "Validation: {'precision': 0.0, 'recall': 0.0, 'f1': 0.0, 'auc': 0.5292005103228764, 'prauc': 0.1797543846056756}\n",
      "Test:       {'precision': 0.0, 'recall': 0.0, 'f1': 0.0, 'auc': 0.5279963060081239, 'prauc': 0.18198318150999176}\n"
     ]
    },
    {
     "name": "stderr",
     "output_type": "stream",
     "text": [
      "Training Batches: 100%|██████████| 1/1 [00:01<00:00,  1.92s/it]\n",
      "Running inference: 100%|██████████| 1/1 [00:01<00:00,  1.19s/it]\n",
      "Running inference: 100%|██████████| 1/1 [00:01<00:00,  1.18s/it]\n"
     ]
    },
    {
     "name": "stdout",
     "output_type": "stream",
     "text": [
      "Epoch: 013, Average Loss: 0.4812\n",
      "Validation: {'precision': 0.0, 'recall': 0.0, 'f1': 0.0, 'auc': 0.5283456739063119, 'prauc': 0.17906383397393352}\n",
      "Test:       {'precision': 0.0, 'recall': 0.0, 'f1': 0.0, 'auc': 0.5274483966055863, 'prauc': 0.18093572065843638}\n"
     ]
    },
    {
     "name": "stderr",
     "output_type": "stream",
     "text": [
      "Training Batches: 100%|██████████| 1/1 [00:02<00:00,  2.29s/it]\n",
      "Running inference: 100%|██████████| 1/1 [00:00<00:00,  1.28it/s]\n",
      "Running inference: 100%|██████████| 1/1 [00:01<00:00,  1.16s/it]\n"
     ]
    },
    {
     "name": "stdout",
     "output_type": "stream",
     "text": [
      "Epoch: 014, Average Loss: 0.4636\n",
      "Validation: {'precision': 0.0, 'recall': 0.0, 'f1': 0.0, 'auc': 0.5278684880355681, 'prauc': 0.17882719229875815}\n",
      "Test:       {'precision': 0.0, 'recall': 0.0, 'f1': 0.0, 'auc': 0.5271911580099032, 'prauc': 0.18032964359684658}\n",
      "\n",
      "Early stopping triggered after 14 epochs (no improvement for 10 epochs).\n",
      "\n",
      "Best validation performance:\n",
      "{'global': {'precision': 0.19256672079783138, 'recall': 0.1415048884608264, 'f1': 0.11556319032647372, 'auc': 0.5614526061799506, 'prauc': 0.22434918977035703}, 'per_class':                                            precision    recall        f1  \\\n",
      "Acute and unspecified renal failure         0.297792  0.477960  0.366954   \n",
      "Acute cerebrovascular disease               0.000000  0.000000  0.000000   \n",
      "Acute myocardial infarction                 0.000000  0.000000  0.000000   \n",
      "Cardiac dysrhythmias                        1.000000  0.000730  0.001460   \n",
      "Chronic kidney disease                      0.309564  0.634566  0.416126   \n",
      "Chronic obstructive pulmonary disease       0.081159  0.062500  0.070618   \n",
      "Conduction disorders                        0.000000  0.000000  0.000000   \n",
      "Congestive heart failure; nonhypertensive   0.273310  0.678445  0.389650   \n",
      "Coronary atherosclerosis and related        0.000000  0.000000  0.000000   \n",
      "Disorders of lipid metabolism               0.639053  0.057082  0.104803   \n",
      "Essential hypertension                      0.449159  0.292520  0.354299   \n",
      "Fluid and electrolyte disorders             0.000000  0.000000  0.000000   \n",
      "Gastrointestinal hemorrhage                 0.000000  0.000000  0.000000   \n",
      "Hypertension with complications             0.416164  0.343284  0.376227   \n",
      "Other liver diseases                        0.000000  0.000000  0.000000   \n",
      "Other lower respiratory disease             0.000000  0.000000  0.000000   \n",
      "Pneumonia                                   0.000000  0.000000  0.000000   \n",
      "Septicemia (except in labor)                0.000000  0.000000  0.000000   \n",
      "\n",
      "                                                auc     prauc  \n",
      "Acute and unspecified renal failure        0.598536  0.294491  \n",
      "Acute cerebrovascular disease              0.446205  0.006315  \n",
      "Acute myocardial infarction                0.520915  0.040131  \n",
      "Cardiac dysrhythmias                       0.567176  0.347929  \n",
      "Chronic kidney disease                     0.646699  0.383713  \n",
      "Chronic obstructive pulmonary disease      0.518345  0.092205  \n",
      "Conduction disorders                       0.455061  0.019617  \n",
      "Congestive heart failure; nonhypertensive  0.623212  0.344748  \n",
      "Coronary atherosclerosis and related       0.594669  0.373744  \n",
      "Disorders of lipid metabolism              0.566711  0.460379  \n",
      "Essential hypertension                     0.563694  0.456186  \n",
      "Fluid and electrolyte disorders            0.616164  0.415688  \n",
      "Gastrointestinal hemorrhage                0.520476  0.032075  \n",
      "Hypertension with complications            0.658918  0.404609  \n",
      "Other liver diseases                       0.522886  0.011365  \n",
      "Other lower respiratory disease            0.535090  0.167722  \n",
      "Pneumonia                                  0.564336  0.086282  \n",
      "Septicemia (except in labor)               0.587053  0.101087  }\n",
      "Corresponding test performance:\n",
      "{'global': {'precision': 0.14434507345899922, 'recall': 0.1474644838805479, 'f1': 0.12358877192037104, 'auc': 0.5609469679574778, 'prauc': 0.23384587259875728}, 'per_class':                                            precision    recall        f1  \\\n",
      "Acute and unspecified renal failure         0.313682  0.486626  0.381468   \n",
      "Acute cerebrovascular disease               0.000000  0.000000  0.000000   \n",
      "Acute myocardial infarction                 0.000000  0.000000  0.000000   \n",
      "Cardiac dysrhythmias                        0.000000  0.000000  0.000000   \n",
      "Chronic kidney disease                      0.340824  0.646409  0.446322   \n",
      "Chronic obstructive pulmonary disease       0.082397  0.051643  0.063492   \n",
      "Conduction disorders                        0.000000  0.000000  0.000000   \n",
      "Congestive heart failure; nonhypertensive   0.284588  0.686258  0.402331   \n",
      "Coronary atherosclerosis and related        0.000000  0.000000  0.000000   \n",
      "Disorders of lipid metabolism               0.660194  0.074114  0.133268   \n",
      "Essential hypertension                      0.454480  0.316052  0.372832   \n",
      "Fluid and electrolyte disorders             0.000000  0.000000  0.000000   \n",
      "Gastrointestinal hemorrhage                 0.000000  0.000000  0.000000   \n",
      "Hypertension with complications             0.462046  0.393258  0.424886   \n",
      "Other liver diseases                        0.000000  0.000000  0.000000   \n",
      "Other lower respiratory disease             0.000000  0.000000  0.000000   \n",
      "Pneumonia                                   0.000000  0.000000  0.000000   \n",
      "Septicemia (except in labor)                0.000000  0.000000  0.000000   \n",
      "\n",
      "                                                auc     prauc  \n",
      "Acute and unspecified renal failure        0.624728  0.312073  \n",
      "Acute cerebrovascular disease              0.373916  0.005597  \n",
      "Acute myocardial infarction                0.426695  0.031761  \n",
      "Cardiac dysrhythmias                       0.553198  0.311264  \n",
      "Chronic kidney disease                     0.668106  0.451034  \n",
      "Chronic obstructive pulmonary disease      0.491217  0.083093  \n",
      "Conduction disorders                       0.503248  0.022162  \n",
      "Congestive heart failure; nonhypertensive  0.643585  0.361408  \n",
      "Coronary atherosclerosis and related       0.618547  0.425885  \n",
      "Disorders of lipid metabolism              0.560989  0.448462  \n",
      "Essential hypertension                     0.564381  0.436771  \n",
      "Fluid and electrolyte disorders            0.627160  0.420116  \n",
      "Gastrointestinal hemorrhage                0.548351  0.043859  \n",
      "Hypertension with complications            0.684565  0.455518  \n",
      "Other liver diseases                       0.503095  0.008926  \n",
      "Other lower respiratory disease            0.532246  0.184216  \n",
      "Pneumonia                                  0.587736  0.099987  \n",
      "Septicemia (except in labor)               0.585282  0.107095  }\n",
      "Corresponding test-long performance:\n",
      "{'global': {'precision': 0.16159236083776826, 'recall': 0.186576347190026, 'f1': 0.13422516819336952, 'auc': 0.5621299622931688, 'prauc': 0.261804502967944}, 'per_class':                                            precision    recall        f1  \\\n",
      "Acute and unspecified renal failure         0.361656  0.603636  0.452316   \n",
      "Acute cerebrovascular disease               0.000000  0.000000  0.000000   \n",
      "Acute myocardial infarction                 0.000000  0.000000  0.000000   \n",
      "Cardiac dysrhythmias                        0.000000  0.000000  0.000000   \n",
      "Chronic kidney disease                      0.378307  0.896552  0.532093   \n",
      "Chronic obstructive pulmonary disease       0.083333  0.051948  0.064000   \n",
      "Conduction disorders                        0.000000  0.000000  0.000000   \n",
      "Congestive heart failure; nonhypertensive   0.323786  0.962963  0.484623   \n",
      "Coronary atherosclerosis and related        0.000000  0.000000  0.000000   \n",
      "Disorders of lipid metabolism               0.791667  0.066202  0.122186   \n",
      "Essential hypertension                      0.500000  0.141414  0.220472   \n",
      "Fluid and electrolyte disorders             0.000000  0.000000  0.000000   \n",
      "Gastrointestinal hemorrhage                 0.000000  0.000000  0.000000   \n",
      "Hypertension with complications             0.469914  0.635659  0.540362   \n",
      "Other liver diseases                        0.000000  0.000000  0.000000   \n",
      "Other lower respiratory disease             0.000000  0.000000  0.000000   \n",
      "Pneumonia                                   0.000000  0.000000  0.000000   \n",
      "Septicemia (except in labor)                0.000000  0.000000  0.000000   \n",
      "\n",
      "                                                auc     prauc  \n",
      "Acute and unspecified renal failure        0.574476  0.361018  \n",
      "Acute cerebrovascular disease              0.334668  0.001719  \n",
      "Acute myocardial infarction                0.450079  0.028730  \n",
      "Cardiac dysrhythmias                       0.533323  0.317997  \n",
      "Chronic kidney disease                     0.648416  0.564190  \n",
      "Chronic obstructive pulmonary disease      0.536897  0.093522  \n",
      "Conduction disorders                       0.425732  0.016405  \n",
      "Congestive heart failure; nonhypertensive  0.676238  0.437576  \n",
      "Coronary atherosclerosis and related       0.621993  0.384075  \n",
      "Disorders of lipid metabolism              0.591355  0.437536  \n",
      "Essential hypertension                     0.581416  0.424848  \n",
      "Fluid and electrolyte disorders            0.566879  0.480980  \n",
      "Gastrointestinal hemorrhage                0.540597  0.059455  \n",
      "Hypertension with complications            0.700779  0.569333  \n",
      "Other liver diseases                       0.641493  0.019079  \n",
      "Other lower respiratory disease            0.573501  0.263634  \n",
      "Pneumonia                                  0.562540  0.113097  \n",
      "Septicemia (except in labor)               0.557958  0.139288  }\n",
      "[INFO] Random seed set to 958682846\n",
      "Training with seed: 958682846\n"
     ]
    },
    {
     "name": "stderr",
     "output_type": "stream",
     "text": [
      "Training Batches: 100%|██████████| 1/1 [00:01<00:00,  1.92s/it]\n",
      "Running inference: 100%|██████████| 1/1 [00:01<00:00,  1.58s/it]\n",
      "Running inference: 100%|██████████| 1/1 [00:01<00:00,  1.22s/it]\n"
     ]
    },
    {
     "name": "stdout",
     "output_type": "stream",
     "text": [
      "Epoch: 001, Average Loss: 0.6969\n",
      "Validation: {'precision': 0.16799815864349787, 'recall': 0.42293471910779235, 'f1': 0.1806485425746709, 'auc': 0.5484569381289031, 'prauc': 0.20068741219352476}\n",
      "Test:       {'precision': 0.17277236124275402, 'recall': 0.4222477537950623, 'f1': 0.18591909800510809, 'auc': 0.5419256345142494, 'prauc': 0.205457802907714}\n"
     ]
    },
    {
     "name": "stderr",
     "output_type": "stream",
     "text": [
      "Training Batches: 100%|██████████| 1/1 [00:01<00:00,  1.54s/it]\n",
      "Running inference: 100%|██████████| 1/1 [00:01<00:00,  1.58s/it]\n",
      "Running inference: 100%|██████████| 1/1 [00:01<00:00,  1.23s/it]\n"
     ]
    },
    {
     "name": "stdout",
     "output_type": "stream",
     "text": [
      "Epoch: 002, Average Loss: 0.6865\n",
      "Validation: {'precision': 0.18078622582954806, 'recall': 0.2977771256529405, 'f1': 0.16934000658186177, 'auc': 0.5592662125818054, 'prauc': 0.2136910017194882}\n",
      "Test:       {'precision': 0.18479047701483967, 'recall': 0.2940854849435543, 'f1': 0.1747666654815897, 'auc': 0.5545979500951845, 'prauc': 0.22172801122840982}\n"
     ]
    },
    {
     "name": "stderr",
     "output_type": "stream",
     "text": [
      "Training Batches: 100%|██████████| 1/1 [00:01<00:00,  1.51s/it]\n",
      "Running inference: 100%|██████████| 1/1 [00:01<00:00,  1.19s/it]\n",
      "Running inference: 100%|██████████| 1/1 [00:01<00:00,  1.18s/it]\n"
     ]
    },
    {
     "name": "stdout",
     "output_type": "stream",
     "text": [
      "Epoch: 003, Average Loss: 0.6765\n",
      "Validation: {'precision': 0.18887465520393576, 'recall': 0.1762567532237113, 'f1': 0.1364492067142047, 'auc': 0.5584589993172195, 'prauc': 0.21642671371531336}\n",
      "Test:       {'precision': 0.20754302123792706, 'recall': 0.17991339169264453, 'f1': 0.14258539455540972, 'auc': 0.5540964266575765, 'prauc': 0.2248766644303857}\n"
     ]
    },
    {
     "name": "stderr",
     "output_type": "stream",
     "text": [
      "Training Batches: 100%|██████████| 1/1 [00:01<00:00,  1.89s/it]\n",
      "Running inference: 100%|██████████| 1/1 [00:01<00:00,  1.18s/it]\n",
      "Running inference: 100%|██████████| 1/1 [00:01<00:00,  1.57s/it]\n"
     ]
    },
    {
     "name": "stdout",
     "output_type": "stream",
     "text": [
      "Epoch: 004, Average Loss: 0.6646\n",
      "Validation: {'precision': 0.19261036460089742, 'recall': 0.10672315642847595, 'f1': 0.09622300761633303, 'auc': 0.5552857054771755, 'prauc': 0.2154184404215319}\n",
      "Test:       {'precision': 0.19912023042843538, 'recall': 0.10800870955027886, 'f1': 0.10012360878722792, 'auc': 0.5511598502575452, 'prauc': 0.22301820504234257}\n"
     ]
    },
    {
     "name": "stderr",
     "output_type": "stream",
     "text": [
      "Training Batches: 100%|██████████| 1/1 [00:01<00:00,  1.95s/it]\n",
      "Running inference: 100%|██████████| 1/1 [00:00<00:00,  1.24it/s]\n",
      "Running inference: 100%|██████████| 1/1 [00:01<00:00,  1.60s/it]\n"
     ]
    },
    {
     "name": "stdout",
     "output_type": "stream",
     "text": [
      "Epoch: 005, Average Loss: 0.6507\n",
      "Validation: {'precision': 0.1791103132978565, 'recall': 0.0684486182393424, 'f1': 0.06505886259011467, 'auc': 0.5508547925077872, 'prauc': 0.21134731554410038}\n",
      "Test:       {'precision': 0.16353789449627865, 'recall': 0.07323761238350672, 'f1': 0.06968900074894652, 'auc': 0.5465754082934715, 'prauc': 0.21658414444368607}\n"
     ]
    },
    {
     "name": "stderr",
     "output_type": "stream",
     "text": [
      "Training Batches: 100%|██████████| 1/1 [00:01<00:00,  1.52s/it]\n",
      "Running inference: 100%|██████████| 1/1 [00:01<00:00,  1.59s/it]\n",
      "Running inference: 100%|██████████| 1/1 [00:01<00:00,  1.21s/it]\n"
     ]
    },
    {
     "name": "stdout",
     "output_type": "stream",
     "text": [
      "Epoch: 006, Average Loss: 0.6346\n",
      "Validation: {'precision': 0.10536233641830532, 'recall': 0.029383535142159373, 'f1': 0.03428087460707694, 'auc': 0.5460944980034051, 'prauc': 0.20584728586458248}\n",
      "Test:       {'precision': 0.16499608217830797, 'recall': 0.030588791737134594, 'f1': 0.03634978064658756, 'auc': 0.5412274766959392, 'prauc': 0.20882447323348102}\n"
     ]
    },
    {
     "name": "stderr",
     "output_type": "stream",
     "text": [
      "Training Batches: 100%|██████████| 1/1 [00:01<00:00,  1.95s/it]\n",
      "Running inference: 100%|██████████| 1/1 [00:00<00:00,  1.26it/s]\n",
      "Running inference: 100%|██████████| 1/1 [00:01<00:00,  1.18s/it]\n"
     ]
    },
    {
     "name": "stdout",
     "output_type": "stream",
     "text": [
      "Epoch: 007, Average Loss: 0.6158\n",
      "Validation: {'precision': 0.041324575807334424, 'recall': 0.007213146078150377, 'f1': 0.012282414185781682, 'auc': 0.5413845510722288, 'prauc': 0.19948629091582987}\n",
      "Test:       {'precision': 0.12426900584795322, 'recall': 0.005641516629084162, 'f1': 0.009968713976935734, 'auc': 0.5361415497247428, 'prauc': 0.2010083903926404}\n"
     ]
    },
    {
     "name": "stderr",
     "output_type": "stream",
     "text": [
      "Training Batches: 100%|██████████| 1/1 [00:01<00:00,  1.90s/it]\n",
      "Running inference: 100%|██████████| 1/1 [00:01<00:00,  1.19s/it]\n",
      "Running inference: 100%|██████████| 1/1 [00:01<00:00,  1.60s/it]\n"
     ]
    },
    {
     "name": "stdout",
     "output_type": "stream",
     "text": [
      "Epoch: 008, Average Loss: 0.5950\n",
      "Validation: {'precision': 0.0, 'recall': 0.0, 'f1': 0.0, 'auc': 0.538081077324879, 'prauc': 0.19193928371130642}\n",
      "Test:       {'precision': 0.0, 'recall': 0.0, 'f1': 0.0, 'auc': 0.5325563136337205, 'prauc': 0.19216978952899058}\n"
     ]
    },
    {
     "name": "stderr",
     "output_type": "stream",
     "text": [
      "Training Batches: 100%|██████████| 1/1 [00:01<00:00,  1.93s/it]\n",
      "Running inference: 100%|██████████| 1/1 [00:00<00:00,  1.26it/s]\n",
      "Running inference: 100%|██████████| 1/1 [00:01<00:00,  1.60s/it]\n"
     ]
    },
    {
     "name": "stdout",
     "output_type": "stream",
     "text": [
      "Epoch: 009, Average Loss: 0.5727\n",
      "Validation: {'precision': 0.0, 'recall': 0.0, 'f1': 0.0, 'auc': 0.5338783097446351, 'prauc': 0.1848528841303062}\n",
      "Test:       {'precision': 0.0, 'recall': 0.0, 'f1': 0.0, 'auc': 0.5285847474655645, 'prauc': 0.18520751652954123}\n"
     ]
    },
    {
     "name": "stderr",
     "output_type": "stream",
     "text": [
      "Training Batches: 100%|██████████| 1/1 [00:01<00:00,  1.50s/it]\n",
      "Running inference: 100%|██████████| 1/1 [00:01<00:00,  1.59s/it]\n",
      "Running inference: 100%|██████████| 1/1 [00:01<00:00,  1.21s/it]\n"
     ]
    },
    {
     "name": "stdout",
     "output_type": "stream",
     "text": [
      "Epoch: 010, Average Loss: 0.5493\n",
      "Validation: {'precision': 0.0, 'recall': 0.0, 'f1': 0.0, 'auc': 0.5309446838931263, 'prauc': 0.18146227871998877}\n",
      "Test:       {'precision': 0.0, 'recall': 0.0, 'f1': 0.0, 'auc': 0.5260294709289753, 'prauc': 0.18189066350086092}\n"
     ]
    },
    {
     "name": "stderr",
     "output_type": "stream",
     "text": [
      "Training Batches: 100%|██████████| 1/1 [00:01<00:00,  1.95s/it]\n",
      "Running inference: 100%|██████████| 1/1 [00:00<00:00,  1.26it/s]\n",
      "Running inference: 100%|██████████| 1/1 [00:01<00:00,  1.19s/it]\n"
     ]
    },
    {
     "name": "stdout",
     "output_type": "stream",
     "text": [
      "Epoch: 011, Average Loss: 0.5256\n",
      "Validation: {'precision': 0.0, 'recall': 0.0, 'f1': 0.0, 'auc': 0.5293489189725382, 'prauc': 0.17973101442783565}\n",
      "Test:       {'precision': 0.0, 'recall': 0.0, 'f1': 0.0, 'auc': 0.5248508760371106, 'prauc': 0.18017459049787335}\n"
     ]
    },
    {
     "name": "stderr",
     "output_type": "stream",
     "text": [
      "Training Batches: 100%|██████████| 1/1 [00:01<00:00,  1.85s/it]\n",
      "Running inference: 100%|██████████| 1/1 [00:01<00:00,  1.16s/it]\n",
      "Running inference: 100%|██████████| 1/1 [00:01<00:00,  1.53s/it]\n"
     ]
    },
    {
     "name": "stdout",
     "output_type": "stream",
     "text": [
      "Epoch: 012, Average Loss: 0.5029\n",
      "Validation: {'precision': 0.0, 'recall': 0.0, 'f1': 0.0, 'auc': 0.5282392464150448, 'prauc': 0.17849726517858794}\n",
      "Test:       {'precision': 0.0, 'recall': 0.0, 'f1': 0.0, 'auc': 0.5240753052549164, 'prauc': 0.17905718364229953}\n"
     ]
    },
    {
     "name": "stderr",
     "output_type": "stream",
     "text": [
      "Training Batches: 100%|██████████| 1/1 [00:01<00:00,  1.91s/it]\n",
      "Running inference: 100%|██████████| 1/1 [00:00<00:00,  1.26it/s]\n",
      "Running inference: 100%|██████████| 1/1 [00:01<00:00,  1.61s/it]\n"
     ]
    },
    {
     "name": "stdout",
     "output_type": "stream",
     "text": [
      "Epoch: 013, Average Loss: 0.4829\n",
      "Validation: {'precision': 0.0, 'recall': 0.0, 'f1': 0.0, 'auc': 0.5275161366697003, 'prauc': 0.1777102067350756}\n",
      "Test:       {'precision': 0.0, 'recall': 0.0, 'f1': 0.0, 'auc': 0.5235955300565148, 'prauc': 0.17829389167651918}\n",
      "\n",
      "Early stopping triggered after 13 epochs (no improvement for 10 epochs).\n",
      "\n",
      "Best validation performance:\n",
      "{'global': {'precision': 0.18887465520393576, 'recall': 0.1762567532237113, 'f1': 0.1364492067142047, 'auc': 0.5584589993172195, 'prauc': 0.21642671371531336}, 'per_class':                                            precision    recall        f1  \\\n",
      "Acute and unspecified renal failure         0.166667  0.001729  0.003422   \n",
      "Acute cerebrovascular disease               0.000000  0.000000  0.000000   \n",
      "Acute myocardial infarction                 0.045872  0.024876  0.032258   \n",
      "Cardiac dysrhythmias                        0.293839  0.045289  0.078481   \n",
      "Chronic kidney disease                      0.352399  0.492691  0.410900   \n",
      "Chronic obstructive pulmonary disease       0.092084  0.636161  0.160881   \n",
      "Conduction disorders                        0.000000  0.000000  0.000000   \n",
      "Congestive heart failure; nonhypertensive   0.277922  0.567138  0.373039   \n",
      "Coronary atherosclerosis and related        0.750000  0.034511  0.065986   \n",
      "Disorders of lipid metabolism               0.000000  0.000000  0.000000   \n",
      "Essential hypertension                      0.468998  0.562172  0.511376   \n",
      "Fluid and electrolyte disorders             0.426667  0.315660  0.362863   \n",
      "Gastrointestinal hemorrhage                 0.031933  0.129252  0.051213   \n",
      "Hypertension with complications             0.422819  0.313433  0.360000   \n",
      "Other liver diseases                        0.016000  0.034483  0.021858   \n",
      "Other lower respiratory disease             0.000000  0.000000  0.000000   \n",
      "Pneumonia                                   0.000000  0.000000  0.000000   \n",
      "Septicemia (except in labor)                0.054545  0.015228  0.023810   \n",
      "\n",
      "                                                auc     prauc  \n",
      "Acute and unspecified renal failure        0.593946  0.289395  \n",
      "Acute cerebrovascular disease              0.482359  0.006569  \n",
      "Acute myocardial infarction                0.552058  0.045732  \n",
      "Cardiac dysrhythmias                       0.535878  0.293150  \n",
      "Chronic kidney disease                     0.657328  0.414878  \n",
      "Chronic obstructive pulmonary disease      0.495696  0.084517  \n",
      "Conduction disorders                       0.445512  0.018470  \n",
      "Congestive heart failure; nonhypertensive  0.612379  0.332583  \n",
      "Coronary atherosclerosis and related       0.578061  0.342249  \n",
      "Disorders of lipid metabolism              0.574700  0.465238  \n",
      "Essential hypertension                     0.583117  0.478685  \n",
      "Fluid and electrolyte disorders            0.600329  0.393257  \n",
      "Gastrointestinal hemorrhage                0.514991  0.030340  \n",
      "Hypertension with complications            0.672032  0.353117  \n",
      "Other liver diseases                       0.543653  0.013043  \n",
      "Other lower respiratory disease            0.532394  0.164459  \n",
      "Pneumonia                                  0.558757  0.088115  \n",
      "Septicemia (except in labor)               0.519072  0.081883  }\n",
      "Corresponding test performance:\n",
      "{'global': {'precision': 0.20754302123792706, 'recall': 0.17991339169264453, 'f1': 0.14258539455540972, 'auc': 0.5540964266575765, 'prauc': 0.2248766644303857}, 'per_class':                                            precision    recall        f1  \\\n",
      "Acute and unspecified renal failure         0.333333  0.002588  0.005137   \n",
      "Acute cerebrovascular disease               0.000000  0.000000  0.000000   \n",
      "Acute myocardial infarction                 0.081301  0.052083  0.063492   \n",
      "Cardiac dysrhythmias                        0.297170  0.047476  0.081871   \n",
      "Chronic kidney disease                      0.390987  0.506709  0.441389   \n",
      "Chronic obstructive pulmonary disease       0.081600  0.598592  0.143622   \n",
      "Conduction disorders                        0.000000  0.000000  0.000000   \n",
      "Congestive heart failure; nonhypertensive   0.289928  0.594641  0.389802   \n",
      "Coronary atherosclerosis and related        0.871795  0.054444  0.102487   \n",
      "Disorders of lipid metabolism               0.000000  0.000000  0.000000   \n",
      "Essential hypertension                      0.441945  0.548355  0.489433   \n",
      "Fluid and electrolyte disorders             0.409352  0.314430  0.355666   \n",
      "Gastrointestinal hemorrhage                 0.055659  0.147059  0.080754   \n",
      "Hypertension with complications             0.445205  0.365169  0.401235   \n",
      "Other liver diseases                        0.000000  0.000000  0.000000   \n",
      "Other lower respiratory disease             0.000000  0.000000  0.000000   \n",
      "Pneumonia                                   0.000000  0.000000  0.000000   \n",
      "Septicemia (except in labor)                0.037500  0.006897  0.011650   \n",
      "\n",
      "                                                auc     prauc  \n",
      "Acute and unspecified renal failure        0.614735  0.293663  \n",
      "Acute cerebrovascular disease              0.441089  0.006550  \n",
      "Acute myocardial infarction                0.473301  0.042365  \n",
      "Cardiac dysrhythmias                       0.537236  0.282770  \n",
      "Chronic kidney disease                     0.675577  0.484337  \n",
      "Chronic obstructive pulmonary disease      0.475564  0.075172  \n",
      "Conduction disorders                       0.490757  0.020919  \n",
      "Congestive heart failure; nonhypertensive  0.627827  0.345524  \n",
      "Coronary atherosclerosis and related       0.595893  0.387903  \n",
      "Disorders of lipid metabolism              0.562732  0.451571  \n",
      "Essential hypertension                     0.579416  0.464639  \n",
      "Fluid and electrolyte disorders            0.607726  0.389521  \n",
      "Gastrointestinal hemorrhage                0.555008  0.047702  \n",
      "Hypertension with complications            0.694156  0.403210  \n",
      "Other liver diseases                       0.484668  0.008572  \n",
      "Other lower respiratory disease            0.526270  0.178870  \n",
      "Pneumonia                                  0.552405  0.084363  \n",
      "Septicemia (except in labor)               0.479376  0.080128  }\n",
      "Corresponding test-long performance:\n",
      "{'global': {'precision': 0.19662418732082385, 'recall': 0.2387339192830979, 'f1': 0.15654224337400366, 'auc': 0.5550827472459833, 'prauc': 0.2552396319824688}, 'per_class':                                            precision    recall        f1  \\\n",
      "Acute and unspecified renal failure         0.000000  0.000000  0.000000   \n",
      "Acute cerebrovascular disease               0.000000  0.000000  0.000000   \n",
      "Acute myocardial infarction                 0.071429  0.033333  0.045455   \n",
      "Cardiac dysrhythmias                        0.276596  0.052209  0.087838   \n",
      "Chronic kidney disease                      0.409326  0.742947  0.527840   \n",
      "Chronic obstructive pulmonary disease       0.083840  0.896104  0.153333   \n",
      "Conduction disorders                        0.000000  0.000000  0.000000   \n",
      "Congestive heart failure; nonhypertensive   0.328710  0.877778  0.478305   \n",
      "Coronary atherosclerosis and related        0.833333  0.023697  0.046083   \n",
      "Disorders of lipid metabolism               0.000000  0.000000  0.000000   \n",
      "Essential hypertension                      0.427536  0.198653  0.271264   \n",
      "Fluid and electrolyte disorders             0.462777  0.644258  0.538642   \n",
      "Gastrointestinal hemorrhage                 0.095890  0.291667  0.144330   \n",
      "Hypertension with complications             0.490975  0.527132  0.508411   \n",
      "Other liver diseases                        0.000000  0.000000  0.000000   \n",
      "Other lower respiratory disease             0.000000  0.000000  0.000000   \n",
      "Pneumonia                                   0.000000  0.000000  0.000000   \n",
      "Septicemia (except in labor)                0.058824  0.009434  0.016260   \n",
      "\n",
      "                                                auc     prauc  \n",
      "Acute and unspecified renal failure        0.542118  0.337064  \n",
      "Acute cerebrovascular disease              0.398741  0.001881  \n",
      "Acute myocardial infarction                0.467100  0.034490  \n",
      "Cardiac dysrhythmias                       0.508474  0.285316  \n",
      "Chronic kidney disease                     0.677293  0.617222  \n",
      "Chronic obstructive pulmonary disease      0.453830  0.074295  \n",
      "Conduction disorders                       0.490158  0.021223  \n",
      "Congestive heart failure; nonhypertensive  0.667113  0.456709  \n",
      "Coronary atherosclerosis and related       0.603542  0.349777  \n",
      "Disorders of lipid metabolism              0.613900  0.470939  \n",
      "Essential hypertension                     0.594151  0.417507  \n",
      "Fluid and electrolyte disorders            0.570360  0.455253  \n",
      "Gastrointestinal hemorrhage                0.610809  0.076459  \n",
      "Hypertension with complications            0.717057  0.524652  \n",
      "Other liver diseases                       0.557099  0.013979  \n",
      "Other lower respiratory disease            0.545344  0.249557  \n",
      "Pneumonia                                  0.498425  0.094988  \n",
      "Septicemia (except in labor)               0.475974  0.113003  }\n",
      "[INFO] Random seed set to 3163119785\n",
      "Training with seed: 3163119785\n"
     ]
    },
    {
     "name": "stderr",
     "output_type": "stream",
     "text": [
      "Training Batches: 100%|██████████| 1/1 [00:01<00:00,  1.52s/it]\n",
      "Running inference: 100%|██████████| 1/1 [00:01<00:00,  1.60s/it]\n",
      "Running inference: 100%|██████████| 1/1 [00:01<00:00,  1.21s/it]\n"
     ]
    },
    {
     "name": "stdout",
     "output_type": "stream",
     "text": [
      "Epoch: 001, Average Loss: 0.6956\n",
      "Validation: {'precision': 0.17771841131397903, 'recall': 0.341636649882147, 'f1': 0.14072005741352708, 'auc': 0.5341158196571273, 'prauc': 0.18672773120298433}\n",
      "Test:       {'precision': 0.16085178018038135, 'recall': 0.3342325890696236, 'f1': 0.14537735338229604, 'auc': 0.5381220134158488, 'prauc': 0.19634512152390377}\n"
     ]
    },
    {
     "name": "stderr",
     "output_type": "stream",
     "text": [
      "Training Batches: 100%|██████████| 1/1 [00:01<00:00,  1.96s/it]\n",
      "Running inference: 100%|██████████| 1/1 [00:00<00:00,  1.25it/s]\n",
      "Running inference: 100%|██████████| 1/1 [00:01<00:00,  1.59s/it]\n"
     ]
    },
    {
     "name": "stdout",
     "output_type": "stream",
     "text": [
      "Epoch: 002, Average Loss: 0.6858\n",
      "Validation: {'precision': 0.1942398296428869, 'recall': 0.18981111558007827, 'f1': 0.10254243246185761, 'auc': 0.5433585993127541, 'prauc': 0.19493707262978557}\n",
      "Test:       {'precision': 0.15027382883098037, 'recall': 0.19612779454150653, 'f1': 0.10926177325473865, 'auc': 0.545273937466155, 'prauc': 0.20307553823768065}\n"
     ]
    },
    {
     "name": "stderr",
     "output_type": "stream",
     "text": [
      "Training Batches: 100%|██████████| 1/1 [00:01<00:00,  1.51s/it]\n",
      "Running inference: 100%|██████████| 1/1 [00:01<00:00,  1.59s/it]\n",
      "Running inference: 100%|██████████| 1/1 [00:01<00:00,  1.20s/it]\n"
     ]
    },
    {
     "name": "stdout",
     "output_type": "stream",
     "text": [
      "Epoch: 003, Average Loss: 0.6755\n",
      "Validation: {'precision': 0.15635258095875462, 'recall': 0.07529085775206873, 'f1': 0.05691504444714154, 'auc': 0.5478207472500034, 'prauc': 0.2011064492930395}\n",
      "Test:       {'precision': 0.1312591552736131, 'recall': 0.08235492034705137, 'f1': 0.06415955270474731, 'auc': 0.5477677905396915, 'prauc': 0.20828757098885284}\n"
     ]
    },
    {
     "name": "stderr",
     "output_type": "stream",
     "text": [
      "Training Batches: 100%|██████████| 1/1 [00:01<00:00,  1.94s/it]\n",
      "Running inference: 100%|██████████| 1/1 [00:00<00:00,  1.25it/s]\n",
      "Running inference: 100%|██████████| 1/1 [00:01<00:00,  1.61s/it]\n"
     ]
    },
    {
     "name": "stdout",
     "output_type": "stream",
     "text": [
      "Epoch: 004, Average Loss: 0.6637\n",
      "Validation: {'precision': 0.07709401149634759, 'recall': 0.022629534487095856, 'f1': 0.028551105986528616, 'auc': 0.5459531568011257, 'prauc': 0.201607256210037}\n",
      "Test:       {'precision': 0.16589130022006182, 'recall': 0.027219297405576267, 'f1': 0.03390793329985294, 'auc': 0.5446585017624288, 'prauc': 0.20748614145157449}\n"
     ]
    },
    {
     "name": "stderr",
     "output_type": "stream",
     "text": [
      "Training Batches: 100%|██████████| 1/1 [00:01<00:00,  1.52s/it]\n",
      "Running inference: 100%|██████████| 1/1 [00:01<00:00,  1.61s/it]\n",
      "Running inference: 100%|██████████| 1/1 [00:01<00:00,  1.21s/it]\n"
     ]
    },
    {
     "name": "stdout",
     "output_type": "stream",
     "text": [
      "Epoch: 005, Average Loss: 0.6498\n",
      "Validation: {'precision': 0.06132478632478633, 'recall': 0.0016337223232648376, 'f1': 0.003134005130609541, 'auc': 0.5402893869426116, 'prauc': 0.19618935341902385}\n",
      "Test:       {'precision': 0.0925534413906507, 'recall': 0.0021149144072185907, 'f1': 0.004083196956956865, 'auc': 0.5378399928532972, 'prauc': 0.20054399433257838}\n"
     ]
    },
    {
     "name": "stderr",
     "output_type": "stream",
     "text": [
      "Training Batches: 100%|██████████| 1/1 [00:01<00:00,  1.94s/it]\n",
      "Running inference: 100%|██████████| 1/1 [00:00<00:00,  1.27it/s]\n",
      "Running inference: 100%|██████████| 1/1 [00:01<00:00,  1.61s/it]\n"
     ]
    },
    {
     "name": "stdout",
     "output_type": "stream",
     "text": [
      "Epoch: 006, Average Loss: 0.6335\n",
      "Validation: {'precision': 0.0, 'recall': 0.0, 'f1': 0.0, 'auc': 0.5349117743680546, 'prauc': 0.19045385243836507}\n",
      "Test:       {'precision': 0.027777777777777776, 'recall': 0.00010403662089055348, 'f1': 0.00020729684908789387, 'auc': 0.5317883564485671, 'prauc': 0.19369481740734618}\n"
     ]
    },
    {
     "name": "stderr",
     "output_type": "stream",
     "text": [
      "Training Batches: 100%|██████████| 1/1 [00:01<00:00,  1.51s/it]\n",
      "Running inference: 100%|██████████| 1/1 [00:01<00:00,  1.57s/it]\n",
      "Running inference: 100%|██████████| 1/1 [00:01<00:00,  1.19s/it]\n"
     ]
    },
    {
     "name": "stdout",
     "output_type": "stream",
     "text": [
      "Epoch: 007, Average Loss: 0.6148\n",
      "Validation: {'precision': 0.0, 'recall': 0.0, 'f1': 0.0, 'auc': 0.5313497282711637, 'prauc': 0.186176019517633}\n",
      "Test:       {'precision': 0.0, 'recall': 0.0, 'f1': 0.0, 'auc': 0.5279537024180373, 'prauc': 0.1886144747348731}\n"
     ]
    },
    {
     "name": "stderr",
     "output_type": "stream",
     "text": [
      "Training Batches: 100%|██████████| 1/1 [00:01<00:00,  1.95s/it]\n",
      "Running inference: 100%|██████████| 1/1 [00:00<00:00,  1.26it/s]\n",
      "Running inference: 100%|██████████| 1/1 [00:01<00:00,  1.59s/it]\n"
     ]
    },
    {
     "name": "stdout",
     "output_type": "stream",
     "text": [
      "Epoch: 008, Average Loss: 0.5935\n",
      "Validation: {'precision': 0.0, 'recall': 0.0, 'f1': 0.0, 'auc': 0.5287299851882127, 'prauc': 0.1827075007415038}\n",
      "Test:       {'precision': 0.0, 'recall': 0.0, 'f1': 0.0, 'auc': 0.525400424951964, 'prauc': 0.1848571257480468}\n"
     ]
    },
    {
     "name": "stderr",
     "output_type": "stream",
     "text": [
      "Training Batches: 100%|██████████| 1/1 [00:01<00:00,  1.51s/it]\n",
      "Running inference: 100%|██████████| 1/1 [00:01<00:00,  1.57s/it]\n",
      "Running inference: 100%|██████████| 1/1 [00:01<00:00,  1.20s/it]\n"
     ]
    },
    {
     "name": "stdout",
     "output_type": "stream",
     "text": [
      "Epoch: 009, Average Loss: 0.5709\n",
      "Validation: {'precision': 0.0, 'recall': 0.0, 'f1': 0.0, 'auc': 0.5269025177836184, 'prauc': 0.1803933435078469}\n",
      "Test:       {'precision': 0.0, 'recall': 0.0, 'f1': 0.0, 'auc': 0.5238041764805161, 'prauc': 0.18210516989416306}\n"
     ]
    },
    {
     "name": "stderr",
     "output_type": "stream",
     "text": [
      "Training Batches: 100%|██████████| 1/1 [00:01<00:00,  1.95s/it]\n",
      "Running inference: 100%|██████████| 1/1 [00:00<00:00,  1.26it/s]\n",
      "Running inference: 100%|██████████| 1/1 [00:01<00:00,  1.60s/it]\n"
     ]
    },
    {
     "name": "stdout",
     "output_type": "stream",
     "text": [
      "Epoch: 010, Average Loss: 0.5471\n",
      "Validation: {'precision': 0.0, 'recall': 0.0, 'f1': 0.0, 'auc': 0.5257005881430588, 'prauc': 0.17862585318811586}\n",
      "Test:       {'precision': 0.0, 'recall': 0.0, 'f1': 0.0, 'auc': 0.522783318283849, 'prauc': 0.18013771050854785}\n"
     ]
    },
    {
     "name": "stderr",
     "output_type": "stream",
     "text": [
      "Training Batches: 100%|██████████| 1/1 [00:01<00:00,  1.50s/it]\n",
      "Running inference: 100%|██████████| 1/1 [00:01<00:00,  1.52s/it]\n",
      "Running inference: 100%|██████████| 1/1 [00:01<00:00,  1.22s/it]\n"
     ]
    },
    {
     "name": "stdout",
     "output_type": "stream",
     "text": [
      "Epoch: 011, Average Loss: 0.5232\n",
      "Validation: {'precision': 0.0, 'recall': 0.0, 'f1': 0.0, 'auc': 0.5248790350741369, 'prauc': 0.17722545217775465}\n",
      "Test:       {'precision': 0.0, 'recall': 0.0, 'f1': 0.0, 'auc': 0.5221117791352994, 'prauc': 0.17880434862506556}\n"
     ]
    },
    {
     "name": "stderr",
     "output_type": "stream",
     "text": [
      "Training Batches: 100%|██████████| 1/1 [00:01<00:00,  1.94s/it]\n",
      "Running inference: 100%|██████████| 1/1 [00:00<00:00,  1.26it/s]\n",
      "Running inference: 100%|██████████| 1/1 [00:01<00:00,  1.58s/it]\n"
     ]
    },
    {
     "name": "stdout",
     "output_type": "stream",
     "text": [
      "Epoch: 012, Average Loss: 0.5009\n",
      "Validation: {'precision': 0.0, 'recall': 0.0, 'f1': 0.0, 'auc': 0.5243216351275254, 'prauc': 0.1764675144390241}\n",
      "Test:       {'precision': 0.0, 'recall': 0.0, 'f1': 0.0, 'auc': 0.5217305461622547, 'prauc': 0.1780313755842574}\n"
     ]
    },
    {
     "name": "stderr",
     "output_type": "stream",
     "text": [
      "Training Batches: 100%|██████████| 1/1 [00:01<00:00,  1.53s/it]\n",
      "Running inference: 100%|██████████| 1/1 [00:01<00:00,  1.59s/it]\n",
      "Running inference: 100%|██████████| 1/1 [00:01<00:00,  1.20s/it]\n"
     ]
    },
    {
     "name": "stdout",
     "output_type": "stream",
     "text": [
      "Epoch: 013, Average Loss: 0.4806\n",
      "Validation: {'precision': 0.0, 'recall': 0.0, 'f1': 0.0, 'auc': 0.5239173929673605, 'prauc': 0.17629200636114764}\n",
      "Test:       {'precision': 0.0, 'recall': 0.0, 'f1': 0.0, 'auc': 0.521662137686513, 'prauc': 0.1776792456105048}\n"
     ]
    },
    {
     "name": "stderr",
     "output_type": "stream",
     "text": [
      "Training Batches: 100%|██████████| 1/1 [00:01<00:00,  1.96s/it]\n",
      "Running inference: 100%|██████████| 1/1 [00:00<00:00,  1.25it/s]\n",
      "Running inference: 100%|██████████| 1/1 [00:01<00:00,  1.60s/it]\n"
     ]
    },
    {
     "name": "stdout",
     "output_type": "stream",
     "text": [
      "Epoch: 014, Average Loss: 0.4641\n",
      "Validation: {'precision': 0.0, 'recall': 0.0, 'f1': 0.0, 'auc': 0.5237541988447049, 'prauc': 0.1764048741863613}\n",
      "Test:       {'precision': 0.0, 'recall': 0.0, 'f1': 0.0, 'auc': 0.5219535844197504, 'prauc': 0.17758008344805504}\n",
      "\n",
      "Early stopping triggered after 14 epochs (no improvement for 10 epochs).\n",
      "\n",
      "Best validation performance:\n",
      "{'global': {'precision': 0.07709401149634759, 'recall': 0.022629534487095856, 'f1': 0.028551105986528616, 'auc': 0.5459531568011257, 'prauc': 0.201607256210037}, 'per_class':                                            precision    recall        f1  \\\n",
      "Acute and unspecified renal failure         0.000000  0.000000  0.000000   \n",
      "Acute cerebrovascular disease               0.000000  0.000000  0.000000   \n",
      "Acute myocardial infarction                 0.000000  0.000000  0.000000   \n",
      "Cardiac dysrhythmias                        0.342612  0.116874  0.174292   \n",
      "Chronic kidney disease                      0.200000  0.001720  0.003410   \n",
      "Chronic obstructive pulmonary disease       0.000000  0.000000  0.000000   \n",
      "Conduction disorders                        0.000000  0.000000  0.000000   \n",
      "Congestive heart failure; nonhypertensive   0.000000  0.000000  0.000000   \n",
      "Coronary atherosclerosis and related        0.000000  0.000000  0.000000   \n",
      "Disorders of lipid metabolism               0.000000  0.000000  0.000000   \n",
      "Essential hypertension                      0.468750  0.007146  0.014078   \n",
      "Fluid and electrolyte disorders             0.000000  0.000000  0.000000   \n",
      "Gastrointestinal hemorrhage                 0.000000  0.000000  0.000000   \n",
      "Hypertension with complications             0.376330  0.281592  0.322140   \n",
      "Other liver diseases                        0.000000  0.000000  0.000000   \n",
      "Other lower respiratory disease             0.000000  0.000000  0.000000   \n",
      "Pneumonia                                   0.000000  0.000000  0.000000   \n",
      "Septicemia (except in labor)                0.000000  0.000000  0.000000   \n",
      "\n",
      "                                                auc     prauc  \n",
      "Acute and unspecified renal failure        0.591324  0.289506  \n",
      "Acute cerebrovascular disease              0.429740  0.005958  \n",
      "Acute myocardial infarction                0.536253  0.041557  \n",
      "Cardiac dysrhythmias                       0.541781  0.307454  \n",
      "Chronic kidney disease                     0.615533  0.295362  \n",
      "Chronic obstructive pulmonary disease      0.500412  0.093405  \n",
      "Conduction disorders                       0.462528  0.019102  \n",
      "Congestive heart failure; nonhypertensive  0.603892  0.317445  \n",
      "Coronary atherosclerosis and related       0.531736  0.272566  \n",
      "Disorders of lipid metabolism              0.541431  0.425314  \n",
      "Essential hypertension                     0.591938  0.490503  \n",
      "Fluid and electrolyte disorders            0.568586  0.355932  \n",
      "Gastrointestinal hemorrhage                0.503036  0.030023  \n",
      "Hypertension with complications            0.658450  0.331485  \n",
      "Other liver diseases                       0.539011  0.012467  \n",
      "Other lower respiratory disease            0.537621  0.176311  \n",
      "Pneumonia                                  0.543037  0.081097  \n",
      "Septicemia (except in labor)               0.530848  0.083443  }\n",
      "Corresponding test performance:\n",
      "{'global': {'precision': 0.16589130022006182, 'recall': 0.027219297405576267, 'f1': 0.03390793329985294, 'auc': 0.5446585017624288, 'prauc': 0.20748614145157449}, 'per_class':                                            precision    recall        f1  \\\n",
      "Acute and unspecified renal failure         0.000000  0.000000  0.000000   \n",
      "Acute cerebrovascular disease               0.000000  0.000000  0.000000   \n",
      "Acute myocardial infarction                 0.000000  0.000000  0.000000   \n",
      "Cardiac dysrhythmias                        0.327511  0.113037  0.168067   \n",
      "Chronic kidney disease                      0.600000  0.002368  0.004717   \n",
      "Chronic obstructive pulmonary disease       1.000000  0.002347  0.004684   \n",
      "Conduction disorders                        0.000000  0.000000  0.000000   \n",
      "Congestive heart failure; nonhypertensive   0.000000  0.000000  0.000000   \n",
      "Coronary atherosclerosis and related        0.000000  0.000000  0.000000   \n",
      "Disorders of lipid metabolism               0.000000  0.000000  0.000000   \n",
      "Essential hypertension                      0.596154  0.015454  0.030126   \n",
      "Fluid and electrolyte disorders             0.000000  0.000000  0.000000   \n",
      "Gastrointestinal hemorrhage                 0.000000  0.000000  0.000000   \n",
      "Hypertension with complications             0.462379  0.356742  0.402748   \n",
      "Other liver diseases                        0.000000  0.000000  0.000000   \n",
      "Other lower respiratory disease             0.000000  0.000000  0.000000   \n",
      "Pneumonia                                   0.000000  0.000000  0.000000   \n",
      "Septicemia (except in labor)                0.000000  0.000000  0.000000   \n",
      "\n",
      "                                                auc     prauc  \n",
      "Acute and unspecified renal failure        0.611196  0.299980  \n",
      "Acute cerebrovascular disease              0.391586  0.005830  \n",
      "Acute myocardial infarction                0.466859  0.037109  \n",
      "Cardiac dysrhythmias                       0.537833  0.284641  \n",
      "Chronic kidney disease                     0.614761  0.315635  \n",
      "Chronic obstructive pulmonary disease      0.501339  0.090708  \n",
      "Conduction disorders                       0.505295  0.021976  \n",
      "Congestive heart failure; nonhypertensive  0.619926  0.334686  \n",
      "Coronary atherosclerosis and related       0.552072  0.301315  \n",
      "Disorders of lipid metabolism              0.537448  0.412686  \n",
      "Essential hypertension                     0.588386  0.472625  \n",
      "Fluid and electrolyte disorders            0.583718  0.361660  \n",
      "Gastrointestinal hemorrhage                0.524001  0.040832  \n",
      "Hypertension with complications            0.687374  0.390429  \n",
      "Other liver diseases                       0.513279  0.009372  \n",
      "Other lower respiratory disease            0.528360  0.184273  \n",
      "Pneumonia                                  0.541285  0.085674  \n",
      "Septicemia (except in labor)               0.499137  0.085321  }\n",
      "Corresponding test-long performance:\n",
      "{'global': {'precision': 0.07791002402271238, 'recall': 0.030507374528205247, 'f1': 0.034890174134027424, 'auc': 0.5469178023048809, 'prauc': 0.23512749244675568}, 'per_class':                                            precision    recall        f1  \\\n",
      "Acute and unspecified renal failure         0.000000  0.000000  0.000000   \n",
      "Acute cerebrovascular disease               0.000000  0.000000  0.000000   \n",
      "Acute myocardial infarction                 0.000000  0.000000  0.000000   \n",
      "Cardiac dysrhythmias                        0.421053  0.096386  0.156863   \n",
      "Chronic kidney disease                      0.500000  0.003135  0.006231   \n",
      "Chronic obstructive pulmonary disease       0.000000  0.000000  0.000000   \n",
      "Conduction disorders                        0.000000  0.000000  0.000000   \n",
      "Congestive heart failure; nonhypertensive   0.000000  0.000000  0.000000   \n",
      "Coronary atherosclerosis and related        0.000000  0.000000  0.000000   \n",
      "Disorders of lipid metabolism               0.000000  0.000000  0.000000   \n",
      "Essential hypertension                      0.000000  0.000000  0.000000   \n",
      "Fluid and electrolyte disorders             0.000000  0.000000  0.000000   \n",
      "Gastrointestinal hemorrhage                 0.000000  0.000000  0.000000   \n",
      "Hypertension with complications             0.481328  0.449612  0.464930   \n",
      "Other liver diseases                        0.000000  0.000000  0.000000   \n",
      "Other lower respiratory disease             0.000000  0.000000  0.000000   \n",
      "Pneumonia                                   0.000000  0.000000  0.000000   \n",
      "Septicemia (except in labor)                0.000000  0.000000  0.000000   \n",
      "\n",
      "                                                auc     prauc  \n",
      "Acute and unspecified renal failure        0.562529  0.352447  \n",
      "Acute cerebrovascular disease              0.433066  0.002975  \n",
      "Acute myocardial infarction                0.480102  0.035172  \n",
      "Cardiac dysrhythmias                       0.560907  0.319629  \n",
      "Chronic kidney disease                     0.499977  0.368621  \n",
      "Chronic obstructive pulmonary disease      0.571689  0.101074  \n",
      "Conduction disorders                       0.448265  0.017535  \n",
      "Congestive heart failure; nonhypertensive  0.628462  0.438936  \n",
      "Coronary atherosclerosis and related       0.539026  0.274067  \n",
      "Disorders of lipid metabolism              0.564978  0.418273  \n",
      "Essential hypertension                     0.599972  0.425180  \n",
      "Fluid and electrolyte disorders            0.487082  0.400236  \n",
      "Gastrointestinal hemorrhage                0.574024  0.069467  \n",
      "Hypertension with complications            0.688853  0.465929  \n",
      "Other liver diseases                       0.636863  0.022288  \n",
      "Other lower respiratory disease            0.570165  0.276292  \n",
      "Pneumonia                                  0.499117  0.115646  \n",
      "Septicemia (except in labor)               0.499443  0.128528  }\n",
      "[INFO] Random seed set to 1812140441\n",
      "Training with seed: 1812140441\n"
     ]
    },
    {
     "name": "stderr",
     "output_type": "stream",
     "text": [
      "Training Batches: 100%|██████████| 1/1 [00:01<00:00,  1.94s/it]\n",
      "Running inference: 100%|██████████| 1/1 [00:00<00:00,  1.26it/s]\n",
      "Running inference: 100%|██████████| 1/1 [00:01<00:00,  1.19s/it]\n"
     ]
    },
    {
     "name": "stdout",
     "output_type": "stream",
     "text": [
      "Epoch: 001, Average Loss: 0.6919\n",
      "Validation: {'precision': 0.1508706382647703, 'recall': 0.2692103232992469, 'f1': 0.14307699185707443, 'auc': 0.5411977772637961, 'prauc': 0.19551137730299983}\n",
      "Test:       {'precision': 0.16489722672586815, 'recall': 0.2644379307905055, 'f1': 0.14205177989585618, 'auc': 0.5345566989172814, 'prauc': 0.1977848817938619}\n"
     ]
    },
    {
     "name": "stderr",
     "output_type": "stream",
     "text": [
      "Training Batches: 100%|██████████| 1/1 [00:01<00:00,  1.92s/it]\n",
      "Running inference: 100%|██████████| 1/1 [00:01<00:00,  1.20s/it]\n",
      "Running inference: 100%|██████████| 1/1 [00:01<00:00,  1.19s/it]\n"
     ]
    },
    {
     "name": "stdout",
     "output_type": "stream",
     "text": [
      "Epoch: 002, Average Loss: 0.6816\n",
      "Validation: {'precision': 0.16552481007742414, 'recall': 0.12404930151117931, 'f1': 0.09768164621399997, 'auc': 0.5487572161319924, 'prauc': 0.2087044226120097}\n",
      "Test:       {'precision': 0.14998032247843024, 'recall': 0.10938183704779204, 'f1': 0.09473110721723225, 'auc': 0.5421611731440255, 'prauc': 0.21049784464933974}\n"
     ]
    },
    {
     "name": "stderr",
     "output_type": "stream",
     "text": [
      "Training Batches: 100%|██████████| 1/1 [00:01<00:00,  1.91s/it]\n",
      "Running inference: 100%|██████████| 1/1 [00:01<00:00,  1.60s/it]\n",
      "Running inference: 100%|██████████| 1/1 [00:00<00:00,  1.27it/s]\n"
     ]
    },
    {
     "name": "stdout",
     "output_type": "stream",
     "text": [
      "Epoch: 003, Average Loss: 0.6705\n",
      "Validation: {'precision': 0.172781700740665, 'recall': 0.05775335515518871, 'f1': 0.062085522877262336, 'auc': 0.5476090598856845, 'prauc': 0.2078583628308103}\n",
      "Test:       {'precision': 0.14712354767137045, 'recall': 0.05702648807663165, 'f1': 0.06145746417393626, 'auc': 0.5398384329866102, 'prauc': 0.20771855060590183}\n"
     ]
    },
    {
     "name": "stderr",
     "output_type": "stream",
     "text": [
      "Training Batches: 100%|██████████| 1/1 [00:01<00:00,  1.94s/it]\n",
      "Running inference: 100%|██████████| 1/1 [00:01<00:00,  1.60s/it]\n",
      "Running inference: 100%|██████████| 1/1 [00:01<00:00,  1.21s/it]\n"
     ]
    },
    {
     "name": "stdout",
     "output_type": "stream",
     "text": [
      "Epoch: 004, Average Loss: 0.6576\n",
      "Validation: {'precision': 0.15920317039979404, 'recall': 0.03022004396871589, 'f1': 0.031350875174122245, 'auc': 0.5428466147138277, 'prauc': 0.20194925846788425}\n",
      "Test:       {'precision': 0.16235917949212245, 'recall': 0.031761887749449186, 'f1': 0.032566422845613674, 'auc': 0.5348226018761687, 'prauc': 0.2013218067193251}\n"
     ]
    },
    {
     "name": "stderr",
     "output_type": "stream",
     "text": [
      "Training Batches: 100%|██████████| 1/1 [00:01<00:00,  1.54s/it]\n",
      "Running inference: 100%|██████████| 1/1 [00:01<00:00,  1.19s/it]\n",
      "Running inference: 100%|██████████| 1/1 [00:01<00:00,  1.21s/it]\n"
     ]
    },
    {
     "name": "stdout",
     "output_type": "stream",
     "text": [
      "Epoch: 005, Average Loss: 0.6425\n",
      "Validation: {'precision': 0.16828895010713193, 'recall': 0.005902672537320999, 'f1': 0.009819004088382587, 'auc': 0.5375379052387336, 'prauc': 0.19540178896604432}\n",
      "Test:       {'precision': 0.11237180305544918, 'recall': 0.006499151022322343, 'f1': 0.010903069738681923, 'auc': 0.5303045659448947, 'prauc': 0.19551766066146203}\n"
     ]
    },
    {
     "name": "stderr",
     "output_type": "stream",
     "text": [
      "Training Batches: 100%|██████████| 1/1 [00:01<00:00,  1.92s/it]\n",
      "Running inference: 100%|██████████| 1/1 [00:01<00:00,  1.20s/it]\n",
      "Running inference: 100%|██████████| 1/1 [00:01<00:00,  1.20s/it]\n"
     ]
    },
    {
     "name": "stdout",
     "output_type": "stream",
     "text": [
      "Epoch: 006, Average Loss: 0.6254\n",
      "Validation: {'precision': 0.08333333333333333, 'recall': 0.0005936135824371434, 'f1': 0.0011740449164507488, 'auc': 0.532446533117396, 'prauc': 0.18920669713932153}\n",
      "Test:       {'precision': 0.1402116402116402, 'recall': 0.0007569843774011571, 'f1': 0.0015003084505775103, 'auc': 0.5260364612583904, 'prauc': 0.19005187331527498}\n"
     ]
    },
    {
     "name": "stderr",
     "output_type": "stream",
     "text": [
      "Training Batches: 100%|██████████| 1/1 [00:01<00:00,  1.95s/it]\n",
      "Running inference: 100%|██████████| 1/1 [00:01<00:00,  1.21s/it]\n",
      "Running inference: 100%|██████████| 1/1 [00:00<00:00,  1.25it/s]\n"
     ]
    },
    {
     "name": "stdout",
     "output_type": "stream",
     "text": [
      "Epoch: 007, Average Loss: 0.6056\n",
      "Validation: {'precision': 0.05555555555555555, 'recall': 4.56495937186159e-05, 'f1': 9.122422915526363e-05, 'auc': 0.5285305242869953, 'prauc': 0.18451312035135356}\n",
      "Test:       {'precision': 0.05555555555555555, 'recall': 4.4480028467218215e-05, 'f1': 8.888888888888889e-05, 'auc': 0.5230203546455043, 'prauc': 0.18532194126341628}\n"
     ]
    },
    {
     "name": "stderr",
     "output_type": "stream",
     "text": [
      "Training Batches: 100%|██████████| 1/1 [00:01<00:00,  1.90s/it]\n",
      "Running inference: 100%|██████████| 1/1 [00:01<00:00,  1.58s/it]\n",
      "Running inference: 100%|██████████| 1/1 [00:01<00:00,  1.18s/it]\n"
     ]
    },
    {
     "name": "stdout",
     "output_type": "stream",
     "text": [
      "Epoch: 008, Average Loss: 0.5841\n",
      "Validation: {'precision': 0.0, 'recall': 0.0, 'f1': 0.0, 'auc': 0.5261783458620184, 'prauc': 0.18140765439871132}\n",
      "Test:       {'precision': 0.0, 'recall': 0.0, 'f1': 0.0, 'auc': 0.5213863723867691, 'prauc': 0.18220000833766692}\n"
     ]
    },
    {
     "name": "stderr",
     "output_type": "stream",
     "text": [
      "Training Batches: 100%|██████████| 1/1 [00:01<00:00,  1.52s/it]\n",
      "Running inference: 100%|██████████| 1/1 [00:01<00:00,  1.59s/it]\n",
      "Running inference: 100%|██████████| 1/1 [00:01<00:00,  1.21s/it]\n"
     ]
    },
    {
     "name": "stdout",
     "output_type": "stream",
     "text": [
      "Epoch: 009, Average Loss: 0.5610\n",
      "Validation: {'precision': 0.0, 'recall': 0.0, 'f1': 0.0, 'auc': 0.5252094559049786, 'prauc': 0.17961429792487935}\n",
      "Test:       {'precision': 0.0, 'recall': 0.0, 'f1': 0.0, 'auc': 0.5208627365791744, 'prauc': 0.1800959919527596}\n"
     ]
    },
    {
     "name": "stderr",
     "output_type": "stream",
     "text": [
      "Training Batches: 100%|██████████| 1/1 [00:01<00:00,  1.51s/it]\n",
      "Running inference: 100%|██████████| 1/1 [00:01<00:00,  1.18s/it]\n",
      "Running inference: 100%|██████████| 1/1 [00:01<00:00,  1.60s/it]\n"
     ]
    },
    {
     "name": "stdout",
     "output_type": "stream",
     "text": [
      "Epoch: 010, Average Loss: 0.5374\n",
      "Validation: {'precision': 0.0, 'recall': 0.0, 'f1': 0.0, 'auc': 0.5251700404099762, 'prauc': 0.1782943667419865}\n",
      "Test:       {'precision': 0.0, 'recall': 0.0, 'f1': 0.0, 'auc': 0.5209695303086951, 'prauc': 0.17882936382102815}\n"
     ]
    },
    {
     "name": "stderr",
     "output_type": "stream",
     "text": [
      "Training Batches: 100%|██████████| 1/1 [00:01<00:00,  1.52s/it]\n",
      "Running inference: 100%|██████████| 1/1 [00:01<00:00,  1.20s/it]\n",
      "Running inference: 100%|██████████| 1/1 [00:01<00:00,  1.19s/it]\n"
     ]
    },
    {
     "name": "stdout",
     "output_type": "stream",
     "text": [
      "Epoch: 011, Average Loss: 0.5149\n",
      "Validation: {'precision': 0.0, 'recall': 0.0, 'f1': 0.0, 'auc': 0.5250222748729265, 'prauc': 0.17739702105705768}\n",
      "Test:       {'precision': 0.0, 'recall': 0.0, 'f1': 0.0, 'auc': 0.5208515759758438, 'prauc': 0.17798034586545486}\n"
     ]
    },
    {
     "name": "stderr",
     "output_type": "stream",
     "text": [
      "Training Batches: 100%|██████████| 1/1 [00:01<00:00,  1.92s/it]\n",
      "Running inference: 100%|██████████| 1/1 [00:01<00:00,  1.20s/it]\n",
      "Running inference: 100%|██████████| 1/1 [00:01<00:00,  1.20s/it]\n"
     ]
    },
    {
     "name": "stdout",
     "output_type": "stream",
     "text": [
      "Epoch: 012, Average Loss: 0.4927\n",
      "Validation: {'precision': 0.0, 'recall': 0.0, 'f1': 0.0, 'auc': 0.5249889945703562, 'prauc': 0.17684715523484407}\n",
      "Test:       {'precision': 0.0, 'recall': 0.0, 'f1': 0.0, 'auc': 0.5206042998841626, 'prauc': 0.17722197489048278}\n",
      "\n",
      "Early stopping triggered after 12 epochs (no improvement for 10 epochs).\n",
      "\n",
      "Best validation performance:\n",
      "{'global': {'precision': 0.16552481007742414, 'recall': 0.12404930151117931, 'f1': 0.09768164621399997, 'auc': 0.5487572161319924, 'prauc': 0.2087044226120097}, 'per_class':                                            precision    recall        f1  \\\n",
      "Acute and unspecified renal failure         0.241935  0.012965  0.024610   \n",
      "Acute cerebrovascular disease               0.000000  0.000000  0.000000   \n",
      "Acute myocardial infarction                 0.000000  0.000000  0.000000   \n",
      "Cardiac dysrhythmias                        0.341947  0.541271  0.419118   \n",
      "Chronic kidney disease                      0.000000  0.000000  0.000000   \n",
      "Chronic obstructive pulmonary disease       0.000000  0.000000  0.000000   \n",
      "Conduction disorders                        0.000000  0.000000  0.000000   \n",
      "Congestive heart failure; nonhypertensive   0.000000  0.000000  0.000000   \n",
      "Coronary atherosclerosis and related        0.454183  0.093673  0.155313   \n",
      "Disorders of lipid metabolism               0.577947  0.080338  0.141067   \n",
      "Essential hypertension                      0.396324  0.472606  0.431117   \n",
      "Fluid and electrolyte disorders             0.374713  0.705302  0.489412   \n",
      "Gastrointestinal hemorrhage                 0.000000  0.000000  0.000000   \n",
      "Hypertension with complications             0.000000  0.000000  0.000000   \n",
      "Other liver diseases                        0.010204  0.258621  0.019634   \n",
      "Other lower respiratory disease             0.000000  0.000000  0.000000   \n",
      "Pneumonia                                   0.082192  0.065574  0.072948   \n",
      "Septicemia (except in labor)                0.500000  0.002538  0.005051   \n",
      "\n",
      "                                                auc     prauc  \n",
      "Acute and unspecified renal failure        0.571819  0.266034  \n",
      "Acute cerebrovascular disease              0.436671  0.006369  \n",
      "Acute myocardial infarction                0.558588  0.049341  \n",
      "Cardiac dysrhythmias                       0.598744  0.349426  \n",
      "Chronic kidney disease                     0.668269  0.379364  \n",
      "Chronic obstructive pulmonary disease      0.531421  0.097605  \n",
      "Conduction disorders                       0.414845  0.016927  \n",
      "Congestive heart failure; nonhypertensive  0.628124  0.332002  \n",
      "Coronary atherosclerosis and related       0.560944  0.313571  \n",
      "Disorders of lipid metabolism              0.575117  0.454224  \n",
      "Essential hypertension                     0.488691  0.435589  \n",
      "Fluid and electrolyte disorders            0.601898  0.390446  \n",
      "Gastrointestinal hemorrhage                0.503432  0.029357  \n",
      "Hypertension with complications            0.641692  0.305344  \n",
      "Other liver diseases                       0.499424  0.010594  \n",
      "Other lower respiratory disease            0.512759  0.151956  \n",
      "Pneumonia                                  0.543400  0.082073  \n",
      "Septicemia (except in labor)               0.541791  0.086456  }\n",
      "Corresponding test performance:\n",
      "{'global': {'precision': 0.14998032247843024, 'recall': 0.10938183704779204, 'f1': 0.09473110721723225, 'auc': 0.5421611731440255, 'prauc': 0.21049784464933974}, 'per_class':                                            precision    recall        f1  \\\n",
      "Acute and unspecified renal failure         0.200000  0.010354  0.019688   \n",
      "Acute cerebrovascular disease               0.000000  0.000000  0.000000   \n",
      "Acute myocardial infarction                 0.000000  0.000000  0.000000   \n",
      "Cardiac dysrhythmias                        0.293000  0.441598  0.352269   \n",
      "Chronic kidney disease                      0.000000  0.000000  0.000000   \n",
      "Chronic obstructive pulmonary disease       0.000000  0.000000  0.000000   \n",
      "Conduction disorders                        0.000000  0.000000  0.000000   \n",
      "Congestive heart failure; nonhypertensive   0.000000  0.000000  0.000000   \n",
      "Coronary atherosclerosis and related        0.529412  0.115292  0.189349   \n",
      "Disorders of lipid metabolism               0.574219  0.080109  0.140603   \n",
      "Essential hypertension                      0.391339  0.486540  0.433778   \n",
      "Fluid and electrolyte disorders             0.372542  0.704474  0.487358   \n",
      "Gastrointestinal hemorrhage                 0.000000  0.000000  0.000000   \n",
      "Hypertension with complications             0.000000  0.000000  0.000000   \n",
      "Other liver diseases                        0.002177  0.062500  0.004208   \n",
      "Other lower respiratory disease             0.250000  0.001168  0.002326   \n",
      "Pneumonia                                   0.086957  0.066838  0.075581   \n",
      "Septicemia (except in labor)                0.000000  0.000000  0.000000   \n",
      "\n",
      "                                                auc     prauc  \n",
      "Acute and unspecified renal failure        0.598801  0.277760  \n",
      "Acute cerebrovascular disease              0.414641  0.006544  \n",
      "Acute myocardial infarction                0.477226  0.043714  \n",
      "Cardiac dysrhythmias                       0.551437  0.297224  \n",
      "Chronic kidney disease                     0.657520  0.390636  \n",
      "Chronic obstructive pulmonary disease      0.525178  0.089978  \n",
      "Conduction disorders                       0.453877  0.019258  \n",
      "Congestive heart failure; nonhypertensive  0.622140  0.336843  \n",
      "Coronary atherosclerosis and related       0.592761  0.368963  \n",
      "Disorders of lipid metabolism              0.558605  0.429686  \n",
      "Essential hypertension                     0.510487  0.428848  \n",
      "Fluid and electrolyte disorders            0.606739  0.381083  \n",
      "Gastrointestinal hemorrhage                0.531918  0.042255  \n",
      "Hypertension with complications            0.660316  0.334221  \n",
      "Other liver diseases                       0.446799  0.007755  \n",
      "Other lower respiratory disease            0.510812  0.168439  \n",
      "Pneumonia                                  0.536243  0.081636  \n",
      "Septicemia (except in labor)               0.503401  0.084118  }\n",
      "Corresponding test-long performance:\n",
      "{'global': {'precision': 0.13420140949076853, 'recall': 0.13441446139925373, 'f1': 0.09629846684750865, 'auc': 0.5358252290835703, 'prauc': 0.23967933198066943}, 'per_class':                                            precision    recall        f1  \\\n",
      "Acute and unspecified renal failure         0.208333  0.018182  0.033445   \n",
      "Acute cerebrovascular disease               0.000000  0.000000  0.000000   \n",
      "Acute myocardial infarction                 0.000000  0.000000  0.000000   \n",
      "Cardiac dysrhythmias                        0.313725  0.385542  0.345946   \n",
      "Chronic kidney disease                      0.000000  0.000000  0.000000   \n",
      "Chronic obstructive pulmonary disease       0.000000  0.000000  0.000000   \n",
      "Conduction disorders                        0.000000  0.000000  0.000000   \n",
      "Congestive heart failure; nonhypertensive   0.000000  0.000000  0.000000   \n",
      "Coronary atherosclerosis and related        0.405405  0.071090  0.120968   \n",
      "Disorders of lipid metabolism               0.653846  0.059233  0.108626   \n",
      "Essential hypertension                      0.352770  0.814815  0.492370   \n",
      "Fluid and electrolyte disorders             0.415648  0.952381  0.578723   \n",
      "Gastrointestinal hemorrhage                 0.000000  0.000000  0.000000   \n",
      "Hypertension with complications             0.000000  0.000000  0.000000   \n",
      "Other liver diseases                        0.004673  0.083333  0.008850   \n",
      "Other lower respiratory disease             0.000000  0.000000  0.000000   \n",
      "Pneumonia                                   0.061224  0.034884  0.044444   \n",
      "Septicemia (except in labor)                0.000000  0.000000  0.000000   \n",
      "\n",
      "                                                auc     prauc  \n",
      "Acute and unspecified renal failure        0.525095  0.313808  \n",
      "Acute cerebrovascular disease              0.225973  0.001377  \n",
      "Acute myocardial infarction                0.453231  0.037618  \n",
      "Cardiac dysrhythmias                       0.539600  0.326016  \n",
      "Chronic kidney disease                     0.646035  0.512164  \n",
      "Chronic obstructive pulmonary disease      0.623759  0.116078  \n",
      "Conduction disorders                       0.458042  0.018869  \n",
      "Congestive heart failure; nonhypertensive  0.616520  0.401483  \n",
      "Coronary atherosclerosis and related       0.597723  0.331678  \n",
      "Disorders of lipid metabolism              0.610422  0.441973  \n",
      "Essential hypertension                     0.590156  0.437542  \n",
      "Fluid and electrolyte disorders            0.531843  0.432084  \n",
      "Gastrointestinal hemorrhage                0.562425  0.064891  \n",
      "Hypertension with complications            0.638851  0.406012  \n",
      "Other liver diseases                       0.498553  0.012726  \n",
      "Other lower respiratory disease            0.542238  0.246112  \n",
      "Pneumonia                                  0.487489  0.091301  \n",
      "Septicemia (except in labor)               0.496900  0.122497  }\n",
      "[INFO] Random seed set to 127978094\n",
      "Training with seed: 127978094\n"
     ]
    },
    {
     "name": "stderr",
     "output_type": "stream",
     "text": [
      "Training Batches: 100%|██████████| 1/1 [00:01<00:00,  1.94s/it]\n",
      "Running inference: 100%|██████████| 1/1 [00:01<00:00,  1.21s/it]\n",
      "Running inference: 100%|██████████| 1/1 [00:01<00:00,  1.21s/it]\n"
     ]
    },
    {
     "name": "stdout",
     "output_type": "stream",
     "text": [
      "Epoch: 001, Average Loss: 0.6934\n",
      "Validation: {'precision': 0.16929639260816953, 'recall': 0.3446303323560078, 'f1': 0.15473362185277129, 'auc': 0.5420967351614495, 'prauc': 0.19548855521964567}\n",
      "Test:       {'precision': 0.16327531509512402, 'recall': 0.34709626792460985, 'f1': 0.159503074098431, 'auc': 0.5483399575105802, 'prauc': 0.20282705480458513}\n"
     ]
    },
    {
     "name": "stderr",
     "output_type": "stream",
     "text": [
      "Training Batches: 100%|██████████| 1/1 [00:01<00:00,  1.51s/it]\n",
      "Running inference: 100%|██████████| 1/1 [00:01<00:00,  1.20s/it]\n",
      "Running inference: 100%|██████████| 1/1 [00:01<00:00,  1.18s/it]\n"
     ]
    },
    {
     "name": "stdout",
     "output_type": "stream",
     "text": [
      "Epoch: 002, Average Loss: 0.6849\n",
      "Validation: {'precision': 0.15301779506090585, 'recall': 0.23421012244676553, 'f1': 0.13695368963881968, 'auc': 0.5513144126799555, 'prauc': 0.20548374962566252}\n",
      "Test:       {'precision': 0.1545101956736638, 'recall': 0.24237764163900957, 'f1': 0.14560926653411105, 'auc': 0.553709358220163, 'prauc': 0.21565779238210664}\n"
     ]
    },
    {
     "name": "stderr",
     "output_type": "stream",
     "text": [
      "Training Batches: 100%|██████████| 1/1 [00:01<00:00,  1.91s/it]\n",
      "Running inference: 100%|██████████| 1/1 [00:01<00:00,  1.18s/it]\n",
      "Running inference: 100%|██████████| 1/1 [00:01<00:00,  1.57s/it]\n"
     ]
    },
    {
     "name": "stdout",
     "output_type": "stream",
     "text": [
      "Epoch: 003, Average Loss: 0.6748\n",
      "Validation: {'precision': 0.12949618427724205, 'recall': 0.10452350993209124, 'f1': 0.0965647091782617, 'auc': 0.552842388070092, 'prauc': 0.2107797480810714}\n",
      "Test:       {'precision': 0.22418142169965588, 'recall': 0.11409462017303247, 'f1': 0.10817535836968024, 'auc': 0.5538309128417728, 'prauc': 0.22020024423824797}\n"
     ]
    },
    {
     "name": "stderr",
     "output_type": "stream",
     "text": [
      "Training Batches: 100%|██████████| 1/1 [00:01<00:00,  1.93s/it]\n",
      "Running inference: 100%|██████████| 1/1 [00:00<00:00,  1.25it/s]\n",
      "Running inference: 100%|██████████| 1/1 [00:01<00:00,  1.60s/it]\n"
     ]
    },
    {
     "name": "stdout",
     "output_type": "stream",
     "text": [
      "Epoch: 004, Average Loss: 0.6631\n",
      "Validation: {'precision': 0.11034594407552142, 'recall': 0.04008477291417945, 'f1': 0.04676375163643979, 'auc': 0.5503807343522809, 'prauc': 0.2109714351479287}\n",
      "Test:       {'precision': 0.12995810901644825, 'recall': 0.03926395378631795, 'f1': 0.04720833273236026, 'auc': 0.5487578021469182, 'prauc': 0.21663274422293952}\n"
     ]
    },
    {
     "name": "stderr",
     "output_type": "stream",
     "text": [
      "Training Batches: 100%|██████████| 1/1 [00:01<00:00,  1.51s/it]\n",
      "Running inference: 100%|██████████| 1/1 [00:01<00:00,  1.59s/it]\n",
      "Running inference: 100%|██████████| 1/1 [00:01<00:00,  1.20s/it]\n"
     ]
    },
    {
     "name": "stdout",
     "output_type": "stream",
     "text": [
      "Epoch: 005, Average Loss: 0.6490\n",
      "Validation: {'precision': 0.142266168278695, 'recall': 0.007177845159854031, 'f1': 0.01251835060243315, 'auc': 0.5454564253639427, 'prauc': 0.206017591817266}\n",
      "Test:       {'precision': 0.09017883181269008, 'recall': 0.004899579573090151, 'f1': 0.008874785257195296, 'auc': 0.5419776656488533, 'prauc': 0.20978144140021257}\n"
     ]
    },
    {
     "name": "stderr",
     "output_type": "stream",
     "text": [
      "Training Batches: 100%|██████████| 1/1 [00:01<00:00,  1.95s/it]\n",
      "Running inference: 100%|██████████| 1/1 [00:00<00:00,  1.21it/s]\n",
      "Running inference: 100%|██████████| 1/1 [00:01<00:00,  1.19s/it]\n"
     ]
    },
    {
     "name": "stdout",
     "output_type": "stream",
     "text": [
      "Epoch: 006, Average Loss: 0.6326\n",
      "Validation: {'precision': 0.028619528619528618, 'recall': 0.00012681183704302138, 'f1': 0.0002521052770518202, 'auc': 0.5401054300318183, 'prauc': 0.19967249321241579}\n",
      "Test:       {'precision': 0.05061728395061729, 'recall': 0.00021978564179317997, 'f1': 0.00043758840638765, 'auc': 0.535798770249734, 'prauc': 0.20308758997814594}\n"
     ]
    },
    {
     "name": "stderr",
     "output_type": "stream",
     "text": [
      "Training Batches: 100%|██████████| 1/1 [00:01<00:00,  1.91s/it]\n",
      "Running inference: 100%|██████████| 1/1 [00:01<00:00,  1.18s/it]\n",
      "Running inference: 100%|██████████| 1/1 [00:01<00:00,  1.55s/it]\n"
     ]
    },
    {
     "name": "stdout",
     "output_type": "stream",
     "text": [
      "Epoch: 007, Average Loss: 0.6137\n",
      "Validation: {'precision': 0.0, 'recall': 0.0, 'f1': 0.0, 'auc': 0.5356470084639051, 'prauc': 0.19181931614158929}\n",
      "Test:       {'precision': 0.0, 'recall': 0.0, 'f1': 0.0, 'auc': 0.5308443697200443, 'prauc': 0.19411448754672975}\n"
     ]
    },
    {
     "name": "stderr",
     "output_type": "stream",
     "text": [
      "Training Batches: 100%|██████████| 1/1 [00:01<00:00,  1.91s/it]\n",
      "Running inference: 100%|██████████| 1/1 [00:00<00:00,  1.22it/s]\n",
      "Running inference: 100%|██████████| 1/1 [00:01<00:00,  1.58s/it]\n"
     ]
    },
    {
     "name": "stdout",
     "output_type": "stream",
     "text": [
      "Epoch: 008, Average Loss: 0.5925\n",
      "Validation: {'precision': 0.0, 'recall': 0.0, 'f1': 0.0, 'auc': 0.5311044746991843, 'prauc': 0.18451607492762723}\n",
      "Test:       {'precision': 0.0, 'recall': 0.0, 'f1': 0.0, 'auc': 0.5261293588500255, 'prauc': 0.18627200805912547}\n"
     ]
    },
    {
     "name": "stderr",
     "output_type": "stream",
     "text": [
      "Training Batches: 100%|██████████| 1/1 [00:01<00:00,  1.53s/it]\n",
      "Running inference: 100%|██████████| 1/1 [00:01<00:00,  1.59s/it]\n",
      "Running inference: 100%|██████████| 1/1 [00:01<00:00,  1.20s/it]\n"
     ]
    },
    {
     "name": "stdout",
     "output_type": "stream",
     "text": [
      "Epoch: 009, Average Loss: 0.5699\n",
      "Validation: {'precision': 0.0, 'recall': 0.0, 'f1': 0.0, 'auc': 0.5281904909440612, 'prauc': 0.18076945006407316}\n",
      "Test:       {'precision': 0.0, 'recall': 0.0, 'f1': 0.0, 'auc': 0.5233660309433895, 'prauc': 0.18207086048519558}\n"
     ]
    },
    {
     "name": "stderr",
     "output_type": "stream",
     "text": [
      "Training Batches: 100%|██████████| 1/1 [00:01<00:00,  1.95s/it]\n",
      "Running inference: 100%|██████████| 1/1 [00:00<00:00,  1.24it/s]\n",
      "Running inference: 100%|██████████| 1/1 [00:01<00:00,  1.20s/it]\n"
     ]
    },
    {
     "name": "stdout",
     "output_type": "stream",
     "text": [
      "Epoch: 010, Average Loss: 0.5455\n",
      "Validation: {'precision': 0.0, 'recall': 0.0, 'f1': 0.0, 'auc': 0.5264711367858085, 'prauc': 0.1785855326036}\n",
      "Test:       {'precision': 0.0, 'recall': 0.0, 'f1': 0.0, 'auc': 0.5219842949671075, 'prauc': 0.17956638276371456}\n"
     ]
    },
    {
     "name": "stderr",
     "output_type": "stream",
     "text": [
      "Training Batches: 100%|██████████| 1/1 [00:01<00:00,  1.92s/it]\n",
      "Running inference: 100%|██████████| 1/1 [00:01<00:00,  1.18s/it]\n",
      "Running inference: 100%|██████████| 1/1 [00:01<00:00,  1.57s/it]\n"
     ]
    },
    {
     "name": "stdout",
     "output_type": "stream",
     "text": [
      "Epoch: 011, Average Loss: 0.5218\n",
      "Validation: {'precision': 0.0, 'recall': 0.0, 'f1': 0.0, 'auc': 0.5254597569085124, 'prauc': 0.17717325032850073}\n",
      "Test:       {'precision': 0.0, 'recall': 0.0, 'f1': 0.0, 'auc': 0.5213493227894954, 'prauc': 0.1780563185207668}\n"
     ]
    },
    {
     "name": "stderr",
     "output_type": "stream",
     "text": [
      "Training Batches: 100%|██████████| 1/1 [00:01<00:00,  1.94s/it]\n",
      "Running inference: 100%|██████████| 1/1 [00:00<00:00,  1.28it/s]\n",
      "Running inference: 100%|██████████| 1/1 [00:01<00:00,  1.59s/it]\n"
     ]
    },
    {
     "name": "stdout",
     "output_type": "stream",
     "text": [
      "Epoch: 012, Average Loss: 0.4989\n",
      "Validation: {'precision': 0.0, 'recall': 0.0, 'f1': 0.0, 'auc': 0.5248942152290206, 'prauc': 0.17635611464998138}\n",
      "Test:       {'precision': 0.0, 'recall': 0.0, 'f1': 0.0, 'auc': 0.5211753130411593, 'prauc': 0.17716877292118816}\n"
     ]
    },
    {
     "name": "stderr",
     "output_type": "stream",
     "text": [
      "Training Batches: 100%|██████████| 1/1 [00:01<00:00,  1.52s/it]\n",
      "Running inference: 100%|██████████| 1/1 [00:01<00:00,  1.58s/it]\n",
      "Running inference: 100%|██████████| 1/1 [00:01<00:00,  1.20s/it]\n"
     ]
    },
    {
     "name": "stdout",
     "output_type": "stream",
     "text": [
      "Epoch: 013, Average Loss: 0.4784\n",
      "Validation: {'precision': 0.0, 'recall': 0.0, 'f1': 0.0, 'auc': 0.5246032058251772, 'prauc': 0.17598186542254568}\n",
      "Test:       {'precision': 0.0, 'recall': 0.0, 'f1': 0.0, 'auc': 0.5212359069545817, 'prauc': 0.176796669953531}\n"
     ]
    },
    {
     "name": "stderr",
     "output_type": "stream",
     "text": [
      "Training Batches: 100%|██████████| 1/1 [00:01<00:00,  1.94s/it]\n",
      "Running inference: 100%|██████████| 1/1 [00:00<00:00,  1.26it/s]\n",
      "Running inference: 100%|██████████| 1/1 [00:01<00:00,  1.19s/it]\n"
     ]
    },
    {
     "name": "stdout",
     "output_type": "stream",
     "text": [
      "Epoch: 014, Average Loss: 0.4614\n",
      "Validation: {'precision': 0.0, 'recall': 0.0, 'f1': 0.0, 'auc': 0.5245908343961153, 'prauc': 0.1759970028038012}\n",
      "Test:       {'precision': 0.0, 'recall': 0.0, 'f1': 0.0, 'auc': 0.5215428323744113, 'prauc': 0.17668162459973974}\n",
      "\n",
      "Early stopping triggered after 14 epochs (no improvement for 10 epochs).\n",
      "\n",
      "Best validation performance:\n",
      "{'global': {'precision': 0.11034594407552142, 'recall': 0.04008477291417945, 'f1': 0.04676375163643979, 'auc': 0.5503807343522809, 'prauc': 0.2109714351479287}, 'per_class':                                            precision    recall        f1  \\\n",
      "Acute and unspecified renal failure         0.384615  0.004322  0.008547   \n",
      "Acute cerebrovascular disease               0.000000  0.000000  0.000000   \n",
      "Acute myocardial infarction                 0.000000  0.000000  0.000000   \n",
      "Cardiac dysrhythmias                        0.313704  0.416362  0.357815   \n",
      "Chronic kidney disease                      0.584488  0.181427  0.276903   \n",
      "Chronic obstructive pulmonary disease       0.000000  0.000000  0.000000   \n",
      "Conduction disorders                        0.000000  0.000000  0.000000   \n",
      "Congestive heart failure; nonhypertensive   0.326316  0.027385  0.050530   \n",
      "Coronary atherosclerosis and related        0.377104  0.092030  0.147952   \n",
      "Disorders of lipid metabolism               0.000000  0.000000  0.000000   \n",
      "Essential hypertension                      0.000000  0.000000  0.000000   \n",
      "Fluid and electrolyte disorders             0.000000  0.000000  0.000000   \n",
      "Gastrointestinal hemorrhage                 0.000000  0.000000  0.000000   \n",
      "Hypertension with complications             0.000000  0.000000  0.000000   \n",
      "Other liver diseases                        0.000000  0.000000  0.000000   \n",
      "Other lower respiratory disease             0.000000  0.000000  0.000000   \n",
      "Pneumonia                                   0.000000  0.000000  0.000000   \n",
      "Septicemia (except in labor)                0.000000  0.000000  0.000000   \n",
      "\n",
      "                                                auc     prauc  \n",
      "Acute and unspecified renal failure        0.589235  0.283947  \n",
      "Acute cerebrovascular disease              0.482747  0.006820  \n",
      "Acute myocardial infarction                0.527217  0.041011  \n",
      "Cardiac dysrhythmias                       0.542137  0.307262  \n",
      "Chronic kidney disease                     0.665981  0.417690  \n",
      "Chronic obstructive pulmonary disease      0.500902  0.086435  \n",
      "Conduction disorders                       0.462046  0.019575  \n",
      "Congestive heart failure; nonhypertensive  0.570690  0.270377  \n",
      "Coronary atherosclerosis and related       0.541533  0.289160  \n",
      "Disorders of lipid metabolism              0.589092  0.486994  \n",
      "Essential hypertension                     0.600146  0.520135  \n",
      "Fluid and electrolyte disorders            0.568717  0.358871  \n",
      "Gastrointestinal hemorrhage                0.500593  0.030729  \n",
      "Hypertension with complications            0.662275  0.345775  \n",
      "Other liver diseases                       0.529403  0.012629  \n",
      "Other lower respiratory disease            0.522184  0.159523  \n",
      "Pneumonia                                  0.532950  0.079778  \n",
      "Septicemia (except in labor)               0.519006  0.080774  }\n",
      "Corresponding test performance:\n",
      "{'global': {'precision': 0.12995810901644825, 'recall': 0.03926395378631795, 'f1': 0.04720833273236026, 'auc': 0.5487578021469182, 'prauc': 0.21663274422293952}, 'per_class':                                            precision    recall        f1  \\\n",
      "Acute and unspecified renal failure         0.300000  0.002588  0.005133   \n",
      "Acute cerebrovascular disease               0.000000  0.000000  0.000000   \n",
      "Acute myocardial infarction                 0.000000  0.000000  0.000000   \n",
      "Cardiac dysrhythmias                        0.288375  0.385079  0.329784   \n",
      "Chronic kidney disease                      0.636856  0.185478  0.287286   \n",
      "Chronic obstructive pulmonary disease       0.250000  0.002347  0.004651   \n",
      "Conduction disorders                        0.000000  0.000000  0.000000   \n",
      "Congestive heart failure; nonhypertensive   0.397849  0.031979  0.059200   \n",
      "Coronary atherosclerosis and related        0.466165  0.099279  0.163696   \n",
      "Disorders of lipid metabolism               0.000000  0.000000  0.000000   \n",
      "Essential hypertension                      0.000000  0.000000  0.000000   \n",
      "Fluid and electrolyte disorders             0.000000  0.000000  0.000000   \n",
      "Gastrointestinal hemorrhage                 0.000000  0.000000  0.000000   \n",
      "Hypertension with complications             0.000000  0.000000  0.000000   \n",
      "Other liver diseases                        0.000000  0.000000  0.000000   \n",
      "Other lower respiratory disease             0.000000  0.000000  0.000000   \n",
      "Pneumonia                                   0.000000  0.000000  0.000000   \n",
      "Septicemia (except in labor)                0.000000  0.000000  0.000000   \n",
      "\n",
      "                                                auc     prauc  \n",
      "Acute and unspecified renal failure        0.607845  0.293619  \n",
      "Acute cerebrovascular disease              0.419256  0.006146  \n",
      "Acute myocardial infarction                0.442981  0.032438  \n",
      "Cardiac dysrhythmias                       0.541497  0.279719  \n",
      "Chronic kidney disease                     0.680274  0.466070  \n",
      "Chronic obstructive pulmonary disease      0.509099  0.087000  \n",
      "Conduction disorders                       0.505292  0.022502  \n",
      "Congestive heart failure; nonhypertensive  0.576211  0.276960  \n",
      "Coronary atherosclerosis and related       0.558880  0.321621  \n",
      "Disorders of lipid metabolism              0.587364  0.470641  \n",
      "Essential hypertension                     0.596905  0.505303  \n",
      "Fluid and electrolyte disorders            0.583306  0.363496  \n",
      "Gastrointestinal hemorrhage                0.522520  0.044456  \n",
      "Hypertension with complications            0.678140  0.384866  \n",
      "Other liver diseases                       0.545485  0.010455  \n",
      "Other lower respiratory disease            0.514197  0.175261  \n",
      "Pneumonia                                  0.518325  0.077704  \n",
      "Septicemia (except in labor)               0.490064  0.081132  }\n",
      "Corresponding test-long performance:\n",
      "{'global': {'precision': 0.10737857481344455, 'recall': 0.054881343939083865, 'f1': 0.052785478398254954, 'auc': 0.548648538150673, 'prauc': 0.24334492412512634}, 'per_class':                                            precision    recall        f1  \\\n",
      "Acute and unspecified renal failure         0.000000  0.000000  0.000000   \n",
      "Acute cerebrovascular disease               0.000000  0.000000  0.000000   \n",
      "Acute myocardial infarction                 0.000000  0.000000  0.000000   \n",
      "Cardiac dysrhythmias                        0.304609  0.610442  0.406417   \n",
      "Chronic kidney disease                      0.628205  0.307210  0.412632   \n",
      "Chronic obstructive pulmonary disease       0.000000  0.000000  0.000000   \n",
      "Conduction disorders                        0.000000  0.000000  0.000000   \n",
      "Congestive heart failure; nonhypertensive   0.588235  0.037037  0.069686   \n",
      "Coronary atherosclerosis and related        0.411765  0.033175  0.061404   \n",
      "Disorders of lipid metabolism               0.000000  0.000000  0.000000   \n",
      "Essential hypertension                      0.000000  0.000000  0.000000   \n",
      "Fluid and electrolyte disorders             0.000000  0.000000  0.000000   \n",
      "Gastrointestinal hemorrhage                 0.000000  0.000000  0.000000   \n",
      "Hypertension with complications             0.000000  0.000000  0.000000   \n",
      "Other liver diseases                        0.000000  0.000000  0.000000   \n",
      "Other lower respiratory disease             0.000000  0.000000  0.000000   \n",
      "Pneumonia                                   0.000000  0.000000  0.000000   \n",
      "Septicemia (except in labor)                0.000000  0.000000  0.000000   \n",
      "\n",
      "                                                auc     prauc  \n",
      "Acute and unspecified renal failure        0.587439  0.369884  \n",
      "Acute cerebrovascular disease              0.411327  0.002304  \n",
      "Acute myocardial infarction                0.433333  0.030075  \n",
      "Cardiac dysrhythmias                       0.543959  0.297377  \n",
      "Chronic kidney disease                     0.673750  0.575622  \n",
      "Chronic obstructive pulmonary disease      0.591909  0.107902  \n",
      "Conduction disorders                       0.444574  0.018109  \n",
      "Congestive heart failure; nonhypertensive  0.518182  0.343604  \n",
      "Coronary atherosclerosis and related       0.550012  0.300052  \n",
      "Disorders of lipid metabolism              0.634765  0.469040  \n",
      "Essential hypertension                     0.595587  0.446385  \n",
      "Fluid and electrolyte disorders            0.515201  0.422060  \n",
      "Gastrointestinal hemorrhage                0.562651  0.062918  \n",
      "Hypertension with complications            0.660100  0.429761  \n",
      "Other liver diseases                       0.632041  0.020052  \n",
      "Other lower respiratory disease            0.534275  0.268829  \n",
      "Pneumonia                                  0.495003  0.099607  \n",
      "Septicemia (except in labor)               0.491565  0.116630  }\n",
      "[INFO] Random seed set to 939042955\n",
      "Training with seed: 939042955\n"
     ]
    },
    {
     "name": "stderr",
     "output_type": "stream",
     "text": [
      "Training Batches: 100%|██████████| 1/1 [00:01<00:00,  1.94s/it]\n",
      "Running inference: 100%|██████████| 1/1 [00:01<00:00,  1.17s/it]\n",
      "Running inference: 100%|██████████| 1/1 [00:01<00:00,  1.58s/it]\n"
     ]
    },
    {
     "name": "stdout",
     "output_type": "stream",
     "text": [
      "Epoch: 001, Average Loss: 0.6912\n",
      "Validation: {'precision': 0.1611246435566076, 'recall': 0.4372561360281827, 'f1': 0.1954873608842766, 'auc': 0.5478198252421456, 'prauc': 0.1997585563718882}\n",
      "Test:       {'precision': 0.20129576592524023, 'recall': 0.44508740043871126, 'f1': 0.19917257247063525, 'auc': 0.5540189856293686, 'prauc': 0.21172790400061317}\n"
     ]
    },
    {
     "name": "stderr",
     "output_type": "stream",
     "text": [
      "Training Batches: 100%|██████████| 1/1 [00:01<00:00,  1.95s/it]\n",
      "Running inference: 100%|██████████| 1/1 [00:00<00:00,  1.26it/s]\n",
      "Running inference: 100%|██████████| 1/1 [00:01<00:00,  1.19s/it]\n"
     ]
    },
    {
     "name": "stdout",
     "output_type": "stream",
     "text": [
      "Epoch: 002, Average Loss: 0.6820\n",
      "Validation: {'precision': 0.1784414588325165, 'recall': 0.2808869718694796, 'f1': 0.18107926256462242, 'auc': 0.5573884503200642, 'prauc': 0.215101577024454}\n",
      "Test:       {'precision': 0.14927850200481774, 'recall': 0.28566459550601897, 'f1': 0.18496215775943572, 'auc': 0.5640204649915829, 'prauc': 0.22797647146978445}\n"
     ]
    },
    {
     "name": "stderr",
     "output_type": "stream",
     "text": [
      "Training Batches: 100%|██████████| 1/1 [00:01<00:00,  1.91s/it]\n",
      "Running inference: 100%|██████████| 1/1 [00:01<00:00,  1.20s/it]\n",
      "Running inference: 100%|██████████| 1/1 [00:01<00:00,  1.60s/it]\n"
     ]
    },
    {
     "name": "stdout",
     "output_type": "stream",
     "text": [
      "Epoch: 003, Average Loss: 0.6726\n",
      "Validation: {'precision': 0.16169997806762793, 'recall': 0.18229307596652147, 'f1': 0.15861771428484694, 'auc': 0.5591176170090154, 'prauc': 0.2220774893603915}\n",
      "Test:       {'precision': 0.15839220576007348, 'recall': 0.18642364418984167, 'f1': 0.1607925170925518, 'auc': 0.5656590790686759, 'prauc': 0.23461293984384746}\n"
     ]
    },
    {
     "name": "stderr",
     "output_type": "stream",
     "text": [
      "Training Batches: 100%|██████████| 1/1 [00:01<00:00,  1.52s/it]\n",
      "Running inference: 100%|██████████| 1/1 [00:01<00:00,  1.58s/it]\n",
      "Running inference: 100%|██████████| 1/1 [00:01<00:00,  1.19s/it]\n"
     ]
    },
    {
     "name": "stdout",
     "output_type": "stream",
     "text": [
      "Epoch: 004, Average Loss: 0.6614\n",
      "Validation: {'precision': 0.1665128216499895, 'recall': 0.11684843665762676, 'f1': 0.11687572034723846, 'auc': 0.5569621779611268, 'prauc': 0.22186075105919265}\n",
      "Test:       {'precision': 0.1879967680546316, 'recall': 0.1235898947846748, 'f1': 0.12283159503810191, 'auc': 0.5622478044734635, 'prauc': 0.23315712836227373}\n"
     ]
    },
    {
     "name": "stderr",
     "output_type": "stream",
     "text": [
      "Training Batches: 100%|██████████| 1/1 [00:01<00:00,  1.93s/it]\n",
      "Running inference: 100%|██████████| 1/1 [00:00<00:00,  1.25it/s]\n",
      "Running inference: 100%|██████████| 1/1 [00:01<00:00,  1.19s/it]\n"
     ]
    },
    {
     "name": "stdout",
     "output_type": "stream",
     "text": [
      "Epoch: 005, Average Loss: 0.6483\n",
      "Validation: {'precision': 0.16235331910828363, 'recall': 0.07430393980764394, 'f1': 0.08109836671936355, 'auc': 0.5528042322254882, 'prauc': 0.2185951827047361}\n",
      "Test:       {'precision': 0.17402248979548648, 'recall': 0.08063932728174984, 'f1': 0.0882365222037724, 'auc': 0.5561015588625768, 'prauc': 0.22825417081318314}\n"
     ]
    },
    {
     "name": "stderr",
     "output_type": "stream",
     "text": [
      "Training Batches: 100%|██████████| 1/1 [00:01<00:00,  1.90s/it]\n",
      "Running inference: 100%|██████████| 1/1 [00:01<00:00,  1.18s/it]\n",
      "Running inference: 100%|██████████| 1/1 [00:01<00:00,  1.60s/it]\n"
     ]
    },
    {
     "name": "stdout",
     "output_type": "stream",
     "text": [
      "Epoch: 006, Average Loss: 0.6329\n",
      "Validation: {'precision': 0.1936019395186993, 'recall': 0.04403943091809829, 'f1': 0.04819140214166775, 'auc': 0.548176927150846, 'prauc': 0.21467498801848145}\n",
      "Test:       {'precision': 0.21074388034778738, 'recall': 0.0518310726347904, 'f1': 0.0594241770112979, 'auc': 0.550115387724944, 'prauc': 0.2226413014028992}\n"
     ]
    },
    {
     "name": "stderr",
     "output_type": "stream",
     "text": [
      "Training Batches: 100%|██████████| 1/1 [00:01<00:00,  1.53s/it]\n",
      "Running inference: 100%|██████████| 1/1 [00:01<00:00,  1.58s/it]\n",
      "Running inference: 100%|██████████| 1/1 [00:01<00:00,  1.20s/it]\n"
     ]
    },
    {
     "name": "stdout",
     "output_type": "stream",
     "text": [
      "Epoch: 007, Average Loss: 0.6151\n",
      "Validation: {'precision': 0.19560925502088453, 'recall': 0.009580116407477437, 'f1': 0.01645139425377508, 'auc': 0.5437337225453435, 'prauc': 0.20767346762599256}\n",
      "Test:       {'precision': 0.26540220502484657, 'recall': 0.011855957011911328, 'f1': 0.020293055408041733, 'auc': 0.5449099981739884, 'prauc': 0.21429582883256626}\n"
     ]
    },
    {
     "name": "stderr",
     "output_type": "stream",
     "text": [
      "Training Batches: 100%|██████████| 1/1 [00:01<00:00,  1.96s/it]\n",
      "Running inference: 100%|██████████| 1/1 [00:00<00:00,  1.23it/s]\n",
      "Running inference: 100%|██████████| 1/1 [00:01<00:00,  1.18s/it]\n"
     ]
    },
    {
     "name": "stdout",
     "output_type": "stream",
     "text": [
      "Epoch: 008, Average Loss: 0.5947\n",
      "Validation: {'precision': 0.11574074074074076, 'recall': 0.0004744610122208578, 'f1': 0.0009407414982715531, 'auc': 0.5377225874018833, 'prauc': 0.19507705374403167}\n",
      "Test:       {'precision': 0.1259259259259259, 'recall': 0.0008138357295275119, 'f1': 0.001611838134784862, 'auc': 0.5379589971704876, 'prauc': 0.19918572168449733}\n"
     ]
    },
    {
     "name": "stderr",
     "output_type": "stream",
     "text": [
      "Training Batches: 100%|██████████| 1/1 [00:01<00:00,  1.90s/it]\n",
      "Running inference: 100%|██████████| 1/1 [00:01<00:00,  1.19s/it]\n",
      "Running inference: 100%|██████████| 1/1 [00:01<00:00,  1.61s/it]\n"
     ]
    },
    {
     "name": "stdout",
     "output_type": "stream",
     "text": [
      "Epoch: 009, Average Loss: 0.5729\n",
      "Validation: {'precision': 0.05555555555555555, 'recall': 9.12991874372318e-05, 'f1': 0.00018229878771306173, 'auc': 0.5325492410493236, 'prauc': 0.18737888169810782}\n",
      "Test:       {'precision': 0.05555555555555555, 'recall': 0.00022240014233609109, 'f1': 0.00044302675881623246, 'auc': 0.5322426260319758, 'prauc': 0.19004213695894429}\n"
     ]
    },
    {
     "name": "stderr",
     "output_type": "stream",
     "text": [
      "Training Batches: 100%|██████████| 1/1 [00:01<00:00,  1.52s/it]\n",
      "Running inference: 100%|██████████| 1/1 [00:01<00:00,  1.57s/it]\n",
      "Running inference: 100%|██████████| 1/1 [00:01<00:00,  1.21s/it]\n"
     ]
    },
    {
     "name": "stdout",
     "output_type": "stream",
     "text": [
      "Epoch: 010, Average Loss: 0.5492\n",
      "Validation: {'precision': 0.0, 'recall': 0.0, 'f1': 0.0, 'auc': 0.5295022221000202, 'prauc': 0.18331340820286254}\n",
      "Test:       {'precision': 0.05555555555555555, 'recall': 4.4480028467218215e-05, 'f1': 8.888888888888889e-05, 'auc': 0.5289031297763338, 'prauc': 0.18540559235452347}\n"
     ]
    },
    {
     "name": "stderr",
     "output_type": "stream",
     "text": [
      "Training Batches: 100%|██████████| 1/1 [00:01<00:00,  1.93s/it]\n",
      "Running inference: 100%|██████████| 1/1 [00:00<00:00,  1.25it/s]\n",
      "Running inference: 100%|██████████| 1/1 [00:01<00:00,  1.20s/it]\n"
     ]
    },
    {
     "name": "stdout",
     "output_type": "stream",
     "text": [
      "Epoch: 011, Average Loss: 0.5255\n",
      "Validation: {'precision': 0.0, 'recall': 0.0, 'f1': 0.0, 'auc': 0.5277484863100862, 'prauc': 0.1807841701801501}\n",
      "Test:       {'precision': 0.0, 'recall': 0.0, 'f1': 0.0, 'auc': 0.5270989688060834, 'prauc': 0.18250911176922346}\n"
     ]
    },
    {
     "name": "stderr",
     "output_type": "stream",
     "text": [
      "Training Batches: 100%|██████████| 1/1 [00:01<00:00,  1.90s/it]\n",
      "Running inference: 100%|██████████| 1/1 [00:01<00:00,  1.19s/it]\n",
      "Running inference: 100%|██████████| 1/1 [00:01<00:00,  1.59s/it]\n"
     ]
    },
    {
     "name": "stdout",
     "output_type": "stream",
     "text": [
      "Epoch: 012, Average Loss: 0.5030\n",
      "Validation: {'precision': 0.0, 'recall': 0.0, 'f1': 0.0, 'auc': 0.526770135047763, 'prauc': 0.17937775100154865}\n",
      "Test:       {'precision': 0.0, 'recall': 0.0, 'f1': 0.0, 'auc': 0.5261385267493528, 'prauc': 0.18070030270123644}\n"
     ]
    },
    {
     "name": "stderr",
     "output_type": "stream",
     "text": [
      "Training Batches: 100%|██████████| 1/1 [00:01<00:00,  1.51s/it]\n",
      "Running inference: 100%|██████████| 1/1 [00:01<00:00,  1.59s/it]\n",
      "Running inference: 100%|██████████| 1/1 [00:01<00:00,  1.19s/it]\n"
     ]
    },
    {
     "name": "stdout",
     "output_type": "stream",
     "text": [
      "Epoch: 013, Average Loss: 0.4825\n",
      "Validation: {'precision': 0.0, 'recall': 0.0, 'f1': 0.0, 'auc': 0.5260179391520935, 'prauc': 0.17832023646519665}\n",
      "Test:       {'precision': 0.0, 'recall': 0.0, 'f1': 0.0, 'auc': 0.5254717856605919, 'prauc': 0.17962828828845687}\n",
      "\n",
      "Early stopping triggered after 13 epochs (no improvement for 10 epochs).\n",
      "\n",
      "Best validation performance:\n",
      "{'global': {'precision': 0.16169997806762793, 'recall': 0.18229307596652147, 'f1': 0.15861771428484694, 'auc': 0.5591176170090154, 'prauc': 0.2220774893603915}, 'per_class':                                            precision    recall        f1  \\\n",
      "Acute and unspecified renal failure         0.000000  0.000000  0.000000   \n",
      "Acute cerebrovascular disease               0.000000  0.000000  0.000000   \n",
      "Acute myocardial infarction                 0.000000  0.000000  0.000000   \n",
      "Cardiac dysrhythmias                        0.384259  0.242513  0.297358   \n",
      "Chronic kidney disease                      0.404666  0.432502  0.418121   \n",
      "Chronic obstructive pulmonary disease       0.000000  0.000000  0.000000   \n",
      "Conduction disorders                        0.000000  0.000000  0.000000   \n",
      "Congestive heart failure; nonhypertensive   0.000000  0.000000  0.000000   \n",
      "Coronary atherosclerosis and related        0.281629  0.534100  0.368794   \n",
      "Disorders of lipid metabolism               0.491896  0.368922  0.421625   \n",
      "Essential hypertension                      0.496256  0.473559  0.484642   \n",
      "Fluid and electrolyte disorders             0.387904  0.620838  0.477477   \n",
      "Gastrointestinal hemorrhage                 0.000000  0.000000  0.000000   \n",
      "Hypertension with complications             0.276489  0.604975  0.379526   \n",
      "Other liver diseases                        0.000000  0.000000  0.000000   \n",
      "Other lower respiratory disease             0.187500  0.003866  0.007576   \n",
      "Pneumonia                                   0.000000  0.000000  0.000000   \n",
      "Septicemia (except in labor)                0.000000  0.000000  0.000000   \n",
      "\n",
      "                                                auc     prauc  \n",
      "Acute and unspecified renal failure        0.583056  0.282875  \n",
      "Acute cerebrovascular disease              0.482537  0.006586  \n",
      "Acute myocardial infarction                0.472067  0.034571  \n",
      "Cardiac dysrhythmias                       0.564894  0.335121  \n",
      "Chronic kidney disease                     0.658086  0.400715  \n",
      "Chronic obstructive pulmonary disease      0.513683  0.094152  \n",
      "Conduction disorders                       0.467810  0.020511  \n",
      "Congestive heart failure; nonhypertensive  0.621618  0.334869  \n",
      "Coronary atherosclerosis and related       0.590842  0.394747  \n",
      "Disorders of lipid metabolism              0.577327  0.469080  \n",
      "Essential hypertension                     0.597700  0.495010  \n",
      "Fluid and electrolyte disorders            0.600831  0.397052  \n",
      "Gastrointestinal hemorrhage                0.523948  0.030097  \n",
      "Hypertension with complications            0.645713  0.350363  \n",
      "Other liver diseases                       0.509633  0.011391  \n",
      "Other lower respiratory disease            0.532475  0.166140  \n",
      "Pneumonia                                  0.548256  0.082059  \n",
      "Septicemia (except in labor)               0.573641  0.092056  }\n",
      "Corresponding test performance:\n",
      "{'global': {'precision': 0.15839220576007348, 'recall': 0.18642364418984167, 'f1': 0.1607925170925518, 'auc': 0.5656590790686759, 'prauc': 0.23461293984384746}, 'per_class':                                            precision    recall        f1  \\\n",
      "Acute and unspecified renal failure         0.000000  0.000000  0.000000   \n",
      "Acute cerebrovascular disease               0.000000  0.000000  0.000000   \n",
      "Acute myocardial infarction                 0.013514  0.005208  0.007519   \n",
      "Cardiac dysrhythmias                        0.332845  0.171063  0.225983   \n",
      "Chronic kidney disease                      0.450000  0.483031  0.465931   \n",
      "Chronic obstructive pulmonary disease       0.000000  0.000000  0.000000   \n",
      "Conduction disorders                        0.000000  0.000000  0.000000   \n",
      "Congestive heart failure; nonhypertensive   0.000000  0.000000  0.000000   \n",
      "Coronary atherosclerosis and related        0.299830  0.566053  0.392016   \n",
      "Disorders of lipid metabolism               0.471859  0.392916  0.428784   \n",
      "Essential hypertension                      0.484258  0.483051  0.483654   \n",
      "Fluid and electrolyte disorders             0.387377  0.618778  0.476468   \n",
      "Gastrointestinal hemorrhage                 0.000000  0.000000  0.000000   \n",
      "Hypertension with complications             0.300267  0.632022  0.407117   \n",
      "Other liver diseases                        0.000000  0.000000  0.000000   \n",
      "Other lower respiratory disease             0.111111  0.003505  0.006795   \n",
      "Pneumonia                                   0.000000  0.000000  0.000000   \n",
      "Septicemia (except in labor)                0.000000  0.000000  0.000000   \n",
      "\n",
      "                                                auc     prauc  \n",
      "Acute and unspecified renal failure        0.606283  0.296595  \n",
      "Acute cerebrovascular disease              0.440384  0.006483  \n",
      "Acute myocardial infarction                0.415196  0.030328  \n",
      "Cardiac dysrhythmias                       0.547713  0.297230  \n",
      "Chronic kidney disease                     0.683982  0.484155  \n",
      "Chronic obstructive pulmonary disease      0.503612  0.088058  \n",
      "Conduction disorders                       0.522456  0.022948  \n",
      "Congestive heart failure; nonhypertensive  0.639762  0.363818  \n",
      "Coronary atherosclerosis and related       0.614071  0.422220  \n",
      "Disorders of lipid metabolism              0.581057  0.459690  \n",
      "Essential hypertension                     0.600329  0.484823  \n",
      "Fluid and electrolyte disorders            0.616621  0.406131  \n",
      "Gastrointestinal hemorrhage                0.562582  0.050978  \n",
      "Hypertension with complications            0.673285  0.414371  \n",
      "Other liver diseases                       0.503918  0.009032  \n",
      "Other lower respiratory disease            0.541955  0.190810  \n",
      "Pneumonia                                  0.572260  0.096411  \n",
      "Septicemia (except in labor)               0.556397  0.098951  }\n",
      "Corresponding test-long performance:\n",
      "{'global': {'precision': 0.1821575918090156, 'recall': 0.23528079856084785, 'f1': 0.17042370116504585, 'auc': 0.5773477663723506, 'prauc': 0.2718124116143261}, 'per_class':                                            precision    recall        f1  \\\n",
      "Acute and unspecified renal failure         0.000000  0.000000  0.000000   \n",
      "Acute cerebrovascular disease               0.000000  0.000000  0.000000   \n",
      "Acute myocardial infarction                 0.000000  0.000000  0.000000   \n",
      "Cardiac dysrhythmias                        0.345070  0.196787  0.250639   \n",
      "Chronic kidney disease                      0.452055  0.724138  0.556627   \n",
      "Chronic obstructive pulmonary disease       0.000000  0.000000  0.000000   \n",
      "Conduction disorders                        0.000000  0.000000  0.000000   \n",
      "Congestive heart failure; nonhypertensive   0.000000  0.000000  0.000000   \n",
      "Coronary atherosclerosis and related        0.268589  0.838863  0.406897   \n",
      "Disorders of lipid metabolism               0.452229  0.494774  0.472546   \n",
      "Essential hypertension                      0.513889  0.249158  0.335601   \n",
      "Fluid and electrolyte disorders             0.430636  0.834734  0.568160   \n",
      "Gastrointestinal hemorrhage                 0.000000  0.000000  0.000000   \n",
      "Hypertension with complications             0.316369  0.891473  0.467005   \n",
      "Other liver diseases                        0.000000  0.000000  0.000000   \n",
      "Other lower respiratory disease             0.500000  0.005128  0.010152   \n",
      "Pneumonia                                   0.000000  0.000000  0.000000   \n",
      "Septicemia (except in labor)                0.000000  0.000000  0.000000   \n",
      "\n",
      "                                                auc     prauc  \n",
      "Acute and unspecified renal failure        0.552398  0.338666  \n",
      "Acute cerebrovascular disease              0.406178  0.001796  \n",
      "Acute myocardial infarction                0.458156  0.030088  \n",
      "Cardiac dysrhythmias                       0.541874  0.313380  \n",
      "Chronic kidney disease                     0.680864  0.599798  \n",
      "Chronic obstructive pulmonary disease      0.513377  0.093318  \n",
      "Conduction disorders                       0.639375  0.031988  \n",
      "Congestive heart failure; nonhypertensive  0.676983  0.460037  \n",
      "Coronary atherosclerosis and related       0.697456  0.510709  \n",
      "Disorders of lipid metabolism              0.641890  0.449626  \n",
      "Essential hypertension                     0.609774  0.439457  \n",
      "Fluid and electrolyte disorders            0.559606  0.468212  \n",
      "Gastrointestinal hemorrhage                0.620169  0.078278  \n",
      "Hypertension with complications            0.664330  0.520063  \n",
      "Other liver diseases                       0.514660  0.016492  \n",
      "Other lower respiratory disease            0.578196  0.304765  \n",
      "Pneumonia                                  0.523668  0.100388  \n",
      "Septicemia (except in labor)               0.513306  0.135562  }\n",
      "[INFO] Random seed set to 2340505846\n",
      "Training with seed: 2340505846\n"
     ]
    },
    {
     "name": "stderr",
     "output_type": "stream",
     "text": [
      "Training Batches: 100%|██████████| 1/1 [00:01<00:00,  1.95s/it]\n",
      "Running inference: 100%|██████████| 1/1 [00:00<00:00,  1.24it/s]\n",
      "Running inference: 100%|██████████| 1/1 [00:01<00:00,  1.19s/it]\n"
     ]
    },
    {
     "name": "stdout",
     "output_type": "stream",
     "text": [
      "Epoch: 001, Average Loss: 0.6950\n",
      "Validation: {'precision': 0.19285996687801948, 'recall': 0.3434925173279721, 'f1': 0.14572928470658167, 'auc': 0.5379339487798184, 'prauc': 0.1982037694195722}\n",
      "Test:       {'precision': 0.19343032832420445, 'recall': 0.34818638424063797, 'f1': 0.15175702604678357, 'auc': 0.5422660426612322, 'prauc': 0.20561847438888559}\n"
     ]
    },
    {
     "name": "stderr",
     "output_type": "stream",
     "text": [
      "Training Batches: 100%|██████████| 1/1 [00:01<00:00,  1.91s/it]\n",
      "Running inference: 100%|██████████| 1/1 [00:01<00:00,  1.59s/it]\n",
      "Running inference: 100%|██████████| 1/1 [00:00<00:00,  1.25it/s]\n"
     ]
    },
    {
     "name": "stdout",
     "output_type": "stream",
     "text": [
      "Epoch: 002, Average Loss: 0.6867\n",
      "Validation: {'precision': 0.20962002024819545, 'recall': 0.21955930868492804, 'f1': 0.12220342507061613, 'auc': 0.5516943214907466, 'prauc': 0.21234978741025642}\n",
      "Test:       {'precision': 0.20784025756524918, 'recall': 0.22521783954534497, 'f1': 0.12839744303587203, 'auc': 0.5567593839648582, 'prauc': 0.22203631182978412}\n"
     ]
    },
    {
     "name": "stderr",
     "output_type": "stream",
     "text": [
      "Training Batches: 100%|██████████| 1/1 [00:01<00:00,  1.89s/it]\n",
      "Running inference: 100%|██████████| 1/1 [00:01<00:00,  1.54s/it]\n",
      "Running inference: 100%|██████████| 1/1 [00:01<00:00,  1.22s/it]\n"
     ]
    },
    {
     "name": "stdout",
     "output_type": "stream",
     "text": [
      "Epoch: 003, Average Loss: 0.6769\n",
      "Validation: {'precision': 0.18103693464088202, 'recall': 0.14074209412745453, 'f1': 0.09307921325822896, 'auc': 0.557263394339995, 'prauc': 0.2173671105571353}\n",
      "Test:       {'precision': 0.19947902045987015, 'recall': 0.14543931553729594, 'f1': 0.09833224694886039, 'auc': 0.5606922223477101, 'prauc': 0.2264134055315348}\n"
     ]
    },
    {
     "name": "stderr",
     "output_type": "stream",
     "text": [
      "Training Batches: 100%|██████████| 1/1 [00:01<00:00,  1.53s/it]\n",
      "Running inference: 100%|██████████| 1/1 [00:01<00:00,  1.18s/it]\n",
      "Running inference: 100%|██████████| 1/1 [00:01<00:00,  1.18s/it]\n"
     ]
    },
    {
     "name": "stdout",
     "output_type": "stream",
     "text": [
      "Epoch: 004, Average Loss: 0.6663\n",
      "Validation: {'precision': 0.12741035326842792, 'recall': 0.08548041723687565, 'f1': 0.06112764867352172, 'auc': 0.557575897947364, 'prauc': 0.21691027711555722}\n",
      "Test:       {'precision': 0.18750386924611206, 'recall': 0.08818652562438158, 'f1': 0.06484440886382312, 'auc': 0.559598554950508, 'prauc': 0.22639080023658456}\n"
     ]
    },
    {
     "name": "stderr",
     "output_type": "stream",
     "text": [
      "Training Batches: 100%|██████████| 1/1 [00:01<00:00,  1.96s/it]\n",
      "Running inference: 100%|██████████| 1/1 [00:01<00:00,  1.18s/it]\n",
      "Running inference: 100%|██████████| 1/1 [00:01<00:00,  1.21s/it]\n"
     ]
    },
    {
     "name": "stdout",
     "output_type": "stream",
     "text": [
      "Epoch: 005, Average Loss: 0.6536\n",
      "Validation: {'precision': 0.10525784944527561, 'recall': 0.043308631958912394, 'f1': 0.03598156576909158, 'auc': 0.5532421617789961, 'prauc': 0.21286326094475244}\n",
      "Test:       {'precision': 0.08878203669307679, 'recall': 0.047260898917256884, 'f1': 0.038807020602490895, 'auc': 0.5540675108838026, 'prauc': 0.22160709940707513}\n"
     ]
    },
    {
     "name": "stderr",
     "output_type": "stream",
     "text": [
      "Training Batches: 100%|██████████| 1/1 [00:01<00:00,  1.93s/it]\n",
      "Running inference: 100%|██████████| 1/1 [00:01<00:00,  1.19s/it]\n",
      "Running inference: 100%|██████████| 1/1 [00:01<00:00,  1.19s/it]\n"
     ]
    },
    {
     "name": "stdout",
     "output_type": "stream",
     "text": [
      "Epoch: 006, Average Loss: 0.6384\n",
      "Validation: {'precision': 0.07946895951536395, 'recall': 0.024865823083380714, 'f1': 0.024428702780680475, 'auc': 0.5475508785614209, 'prauc': 0.20638992024062064}\n",
      "Test:       {'precision': 0.08320068072494892, 'recall': 0.027932980010231437, 'f1': 0.027590523912150396, 'auc': 0.5468180979516866, 'prauc': 0.2143627797932105}\n"
     ]
    },
    {
     "name": "stderr",
     "output_type": "stream",
     "text": [
      "Training Batches: 100%|██████████| 1/1 [00:01<00:00,  1.94s/it]\n",
      "Running inference: 100%|██████████| 1/1 [00:01<00:00,  1.19s/it]\n",
      "Running inference: 100%|██████████| 1/1 [00:01<00:00,  1.19s/it]\n"
     ]
    },
    {
     "name": "stdout",
     "output_type": "stream",
     "text": [
      "Epoch: 007, Average Loss: 0.6209\n",
      "Validation: {'precision': 0.022981235504954668, 'recall': 0.02240032881216605, 'f1': 0.022687064210635863, 'auc': 0.5430439554989093, 'prauc': 0.19909574714280856}\n",
      "Test:       {'precision': 0.050564629965718894, 'recall': 0.024006840711499892, 'f1': 0.023790403132366453, 'auc': 0.5410449165720932, 'prauc': 0.20554838464390934}\n"
     ]
    },
    {
     "name": "stderr",
     "output_type": "stream",
     "text": [
      "Training Batches: 100%|██████████| 1/1 [00:01<00:00,  1.94s/it]\n",
      "Running inference: 100%|██████████| 1/1 [00:01<00:00,  1.19s/it]\n",
      "Running inference: 100%|██████████| 1/1 [00:01<00:00,  1.19s/it]\n"
     ]
    },
    {
     "name": "stdout",
     "output_type": "stream",
     "text": [
      "Epoch: 008, Average Loss: 0.6011\n",
      "Validation: {'precision': 0.023843791978507004, 'recall': 0.017022879846554324, 'f1': 0.019864108713029578, 'auc': 0.5385716525942792, 'prauc': 0.1928172454490366}\n",
      "Test:       {'precision': 0.02434928631402183, 'recall': 0.018273471959672338, 'f1': 0.02087832973362131, 'auc': 0.535260369980245, 'prauc': 0.19654742099084938}\n"
     ]
    },
    {
     "name": "stderr",
     "output_type": "stream",
     "text": [
      "Training Batches: 100%|██████████| 1/1 [00:01<00:00,  1.91s/it]\n",
      "Running inference: 100%|██████████| 1/1 [00:01<00:00,  1.19s/it]\n",
      "Running inference: 100%|██████████| 1/1 [00:01<00:00,  1.18s/it]\n"
     ]
    },
    {
     "name": "stdout",
     "output_type": "stream",
     "text": [
      "Epoch: 009, Average Loss: 0.5795\n",
      "Validation: {'precision': 0.0273972602739726, 'recall': 0.0012330456226880395, 'f1': 0.002359882005899705, 'auc': 0.5351202323747846, 'prauc': 0.1885838485750151}\n",
      "Test:       {'precision': 0.027777777777777776, 'recall': 0.0010501995379122034, 'f1': 0.0020238818053025707, 'auc': 0.5310688899570872, 'prauc': 0.19100620566366433}\n"
     ]
    },
    {
     "name": "stderr",
     "output_type": "stream",
     "text": [
      "Training Batches: 100%|██████████| 1/1 [00:01<00:00,  1.92s/it]\n",
      "Running inference: 100%|██████████| 1/1 [00:01<00:00,  1.19s/it]\n",
      "Running inference: 100%|██████████| 1/1 [00:01<00:00,  1.21s/it]\n"
     ]
    },
    {
     "name": "stdout",
     "output_type": "stream",
     "text": [
      "Epoch: 010, Average Loss: 0.5565\n",
      "Validation: {'precision': 0.0, 'recall': 0.0, 'f1': 0.0, 'auc': 0.5324770807873433, 'prauc': 0.18490083945011537}\n",
      "Test:       {'precision': 0.0, 'recall': 0.0, 'f1': 0.0, 'auc': 0.528054058964197, 'prauc': 0.1867191375079979}\n"
     ]
    },
    {
     "name": "stderr",
     "output_type": "stream",
     "text": [
      "Training Batches: 100%|██████████| 1/1 [00:01<00:00,  1.93s/it]\n",
      "Running inference: 100%|██████████| 1/1 [00:01<00:00,  1.20s/it]\n",
      "Running inference: 100%|██████████| 1/1 [00:01<00:00,  1.20s/it]\n"
     ]
    },
    {
     "name": "stdout",
     "output_type": "stream",
     "text": [
      "Epoch: 011, Average Loss: 0.5323\n",
      "Validation: {'precision': 0.0, 'recall': 0.0, 'f1': 0.0, 'auc': 0.5301927303611778, 'prauc': 0.18157845659870275}\n",
      "Test:       {'precision': 0.0, 'recall': 0.0, 'f1': 0.0, 'auc': 0.5257701894444736, 'prauc': 0.1832304268705074}\n"
     ]
    },
    {
     "name": "stderr",
     "output_type": "stream",
     "text": [
      "Training Batches: 100%|██████████| 1/1 [00:01<00:00,  1.95s/it]\n",
      "Running inference: 100%|██████████| 1/1 [00:01<00:00,  1.20s/it]\n",
      "Running inference: 100%|██████████| 1/1 [00:01<00:00,  1.21s/it]\n"
     ]
    },
    {
     "name": "stdout",
     "output_type": "stream",
     "text": [
      "Epoch: 012, Average Loss: 0.5081\n",
      "Validation: {'precision': 0.0, 'recall': 0.0, 'f1': 0.0, 'auc': 0.5285053432638193, 'prauc': 0.179623306407783}\n",
      "Test:       {'precision': 0.0, 'recall': 0.0, 'f1': 0.0, 'auc': 0.5241551342573538, 'prauc': 0.18121547684356534}\n"
     ]
    },
    {
     "name": "stderr",
     "output_type": "stream",
     "text": [
      "Training Batches: 100%|██████████| 1/1 [00:01<00:00,  1.94s/it]\n",
      "Running inference: 100%|██████████| 1/1 [00:01<00:00,  1.18s/it]\n",
      "Running inference: 100%|██████████| 1/1 [00:01<00:00,  1.20s/it]\n"
     ]
    },
    {
     "name": "stdout",
     "output_type": "stream",
     "text": [
      "Epoch: 013, Average Loss: 0.4871\n",
      "Validation: {'precision': 0.0, 'recall': 0.0, 'f1': 0.0, 'auc': 0.5275881807431546, 'prauc': 0.17858399160690638}\n",
      "Test:       {'precision': 0.0, 'recall': 0.0, 'f1': 0.0, 'auc': 0.5233902037133226, 'prauc': 0.1801315224596263}\n",
      "\n",
      "Early stopping triggered after 13 epochs (no improvement for 10 epochs).\n",
      "\n",
      "Best validation performance:\n",
      "{'global': {'precision': 0.18103693464088202, 'recall': 0.14074209412745453, 'f1': 0.09307921325822896, 'auc': 0.557263394339995, 'prauc': 0.2173671105571353}, 'per_class':                                            precision    recall        f1  \\\n",
      "Acute and unspecified renal failure         0.000000  0.000000  0.000000   \n",
      "Acute cerebrovascular disease               0.000000  0.000000  0.000000   \n",
      "Acute myocardial infarction                 0.000000  0.000000  0.000000   \n",
      "Cardiac dysrhythmias                        0.000000  0.000000  0.000000   \n",
      "Chronic kidney disease                      0.688679  0.062769  0.115051   \n",
      "Chronic obstructive pulmonary disease       0.052632  0.006696  0.011881   \n",
      "Conduction disorders                        0.000000  0.000000  0.000000   \n",
      "Congestive heart failure; nonhypertensive   0.346346  0.305654  0.324730   \n",
      "Coronary atherosclerosis and related        0.300000  0.002465  0.004890   \n",
      "Disorders of lipid metabolism               0.403659  0.571353  0.473085   \n",
      "Essential hypertension                      0.000000  0.000000  0.000000   \n",
      "Fluid and electrolyte disorders             0.404404  0.464242  0.432262   \n",
      "Gastrointestinal hemorrhage                 0.030231  0.693878  0.057938   \n",
      "Hypertension with complications             0.875000  0.013930  0.027424   \n",
      "Other liver diseases                        0.000000  0.000000  0.000000   \n",
      "Other lower respiratory disease             0.157713  0.412371  0.228164   \n",
      "Pneumonia                                   0.000000  0.000000  0.000000   \n",
      "Septicemia (except in labor)                0.000000  0.000000  0.000000   \n",
      "\n",
      "                                                auc     prauc  \n",
      "Acute and unspecified renal failure        0.597370  0.289358  \n",
      "Acute cerebrovascular disease              0.446785  0.006471  \n",
      "Acute myocardial infarction                0.494905  0.038188  \n",
      "Cardiac dysrhythmias                       0.609959  0.379782  \n",
      "Chronic kidney disease                     0.675816  0.421629  \n",
      "Chronic obstructive pulmonary disease      0.499290  0.087491  \n",
      "Conduction disorders                       0.427932  0.017928  \n",
      "Congestive heart failure; nonhypertensive  0.615967  0.323255  \n",
      "Coronary atherosclerosis and related       0.544150  0.272389  \n",
      "Disorders of lipid metabolism              0.559876  0.448823  \n",
      "Essential hypertension                     0.574698  0.475157  \n",
      "Fluid and electrolyte disorders            0.599496  0.395802  \n",
      "Gastrointestinal hemorrhage                0.514375  0.029692  \n",
      "Hypertension with complications            0.660069  0.370329  \n",
      "Other liver diseases                       0.551054  0.013765  \n",
      "Other lower respiratory disease            0.502342  0.152301  \n",
      "Pneumonia                                  0.555206  0.081698  \n",
      "Septicemia (except in labor)               0.601451  0.108550  }\n",
      "Corresponding test performance:\n",
      "{'global': {'precision': 0.19947902045987015, 'recall': 0.14543931553729594, 'f1': 0.09833224694886039, 'auc': 0.5606922223477101, 'prauc': 0.2264134055315348}, 'per_class':                                            precision    recall        f1  \\\n",
      "Acute and unspecified renal failure         0.000000  0.000000  0.000000   \n",
      "Acute cerebrovascular disease               0.000000  0.000000  0.000000   \n",
      "Acute myocardial infarction                 0.000000  0.000000  0.000000   \n",
      "Cardiac dysrhythmias                        0.000000  0.000000  0.000000   \n",
      "Chronic kidney disease                      0.859649  0.077348  0.141926   \n",
      "Chronic obstructive pulmonary disease       0.032258  0.002347  0.004376   \n",
      "Conduction disorders                        0.000000  0.000000  0.000000   \n",
      "Congestive heart failure; nonhypertensive   0.372642  0.341400  0.356337   \n",
      "Coronary atherosclerosis and related        0.500000  0.000801  0.001599   \n",
      "Disorders of lipid metabolism               0.382923  0.559673  0.454727   \n",
      "Essential hypertension                      0.000000  0.000000  0.000000   \n",
      "Fluid and electrolyte disorders             0.405131  0.477631  0.438404   \n",
      "Gastrointestinal hemorrhage                 0.044235  0.735294  0.083449   \n",
      "Hypertension with complications             0.823529  0.026217  0.050817   \n",
      "Other liver diseases                        0.000000  0.000000  0.000000   \n",
      "Other lower respiratory disease             0.170255  0.397196  0.238346   \n",
      "Pneumonia                                   0.000000  0.000000  0.000000   \n",
      "Septicemia (except in labor)                0.000000  0.000000  0.000000   \n",
      "\n",
      "                                                auc     prauc  \n",
      "Acute and unspecified renal failure        0.621249  0.300143  \n",
      "Acute cerebrovascular disease              0.414649  0.006272  \n",
      "Acute myocardial infarction                0.404302  0.029884  \n",
      "Cardiac dysrhythmias                       0.586043  0.338156  \n",
      "Chronic kidney disease                     0.703051  0.517240  \n",
      "Chronic obstructive pulmonary disease      0.479715  0.077095  \n",
      "Conduction disorders                       0.508780  0.022976  \n",
      "Congestive heart failure; nonhypertensive  0.627892  0.336004  \n",
      "Coronary atherosclerosis and related       0.563208  0.294967  \n",
      "Disorders of lipid metabolism              0.552937  0.427694  \n",
      "Essential hypertension                     0.583235  0.458793  \n",
      "Fluid and electrolyte disorders            0.610381  0.394549  \n",
      "Gastrointestinal hemorrhage                0.561860  0.053659  \n",
      "Hypertension with complications            0.688416  0.432119  \n",
      "Other liver diseases                       0.517802  0.009895  \n",
      "Other lower respiratory disease            0.501062  0.168473  \n",
      "Pneumonia                                  0.552869  0.086032  \n",
      "Septicemia (except in labor)               0.615008  0.121491  }\n",
      "Corresponding test-long performance:\n",
      "{'global': {'precision': 0.17848091450805822, 'recall': 0.1965382602662641, 'f1': 0.1185277854205017, 'auc': 0.5635567155043174, 'prauc': 0.25940536614137416}, 'per_class':                                            precision    recall        f1  \\\n",
      "Acute and unspecified renal failure         0.000000  0.000000  0.000000   \n",
      "Acute cerebrovascular disease               0.000000  0.000000  0.000000   \n",
      "Acute myocardial infarction                 0.000000  0.000000  0.000000   \n",
      "Cardiac dysrhythmias                        0.000000  0.000000  0.000000   \n",
      "Chronic kidney disease                      0.826087  0.119122  0.208219   \n",
      "Chronic obstructive pulmonary disease       0.000000  0.000000  0.000000   \n",
      "Conduction disorders                        0.000000  0.000000  0.000000   \n",
      "Congestive heart failure; nonhypertensive   0.411765  0.492593  0.448567   \n",
      "Coronary atherosclerosis and related        0.000000  0.000000  0.000000   \n",
      "Disorders of lipid metabolism               0.330656  0.860627  0.477756   \n",
      "Essential hypertension                      0.000000  0.000000  0.000000   \n",
      "Fluid and electrolyte disorders             0.437967  0.820728  0.571150   \n",
      "Gastrointestinal hemorrhage                 0.054309  0.958333  0.102793   \n",
      "Hypertension with complications             0.928571  0.050388  0.095588   \n",
      "Other liver diseases                        0.000000  0.000000  0.000000   \n",
      "Other lower respiratory disease             0.223301  0.235897  0.229426   \n",
      "Pneumonia                                   0.000000  0.000000  0.000000   \n",
      "Septicemia (except in labor)                0.000000  0.000000  0.000000   \n",
      "\n",
      "                                                auc     prauc  \n",
      "Acute and unspecified renal failure        0.537456  0.323578  \n",
      "Acute cerebrovascular disease              0.392449  0.002179  \n",
      "Acute myocardial infarction                0.366194  0.025474  \n",
      "Cardiac dysrhythmias                       0.584017  0.369362  \n",
      "Chronic kidney disease                     0.724166  0.629361  \n",
      "Chronic obstructive pulmonary disease      0.495880  0.081655  \n",
      "Conduction disorders                       0.417573  0.016971  \n",
      "Congestive heart failure; nonhypertensive  0.649367  0.427223  \n",
      "Coronary atherosclerosis and related       0.602876  0.314650  \n",
      "Disorders of lipid metabolism              0.577137  0.432566  \n",
      "Essential hypertension                     0.605619  0.427199  \n",
      "Fluid and electrolyte disorders            0.586422  0.467158  \n",
      "Gastrointestinal hemorrhage                0.604607  0.096811  \n",
      "Hypertension with complications            0.698436  0.537938  \n",
      "Other liver diseases                       0.695505  0.024594  \n",
      "Other lower respiratory disease            0.528631  0.238173  \n",
      "Pneumonia                                  0.496548  0.100351  \n",
      "Septicemia (except in labor)               0.581138  0.154053  }\n",
      "[INFO] Random seed set to 946785248\n",
      "Training with seed: 946785248\n"
     ]
    },
    {
     "name": "stderr",
     "output_type": "stream",
     "text": [
      "Training Batches: 100%|██████████| 1/1 [00:01<00:00,  1.93s/it]\n",
      "Running inference: 100%|██████████| 1/1 [00:01<00:00,  1.17s/it]\n",
      "Running inference: 100%|██████████| 1/1 [00:01<00:00,  1.23s/it]\n"
     ]
    },
    {
     "name": "stdout",
     "output_type": "stream",
     "text": [
      "Epoch: 001, Average Loss: 0.6935\n",
      "Validation: {'precision': 0.12868944656225725, 'recall': 0.3608784155339465, 'f1': 0.12612766108858076, 'auc': 0.5407145378549097, 'prauc': 0.19606990099639984}\n",
      "Test:       {'precision': 0.13284460631778647, 'recall': 0.36248252273011866, 'f1': 0.1282846852779856, 'auc': 0.5401232620540859, 'prauc': 0.19619946808600577}\n"
     ]
    },
    {
     "name": "stderr",
     "output_type": "stream",
     "text": [
      "Training Batches: 100%|██████████| 1/1 [00:01<00:00,  1.91s/it]\n",
      "Running inference: 100%|██████████| 1/1 [00:01<00:00,  1.18s/it]\n",
      "Running inference: 100%|██████████| 1/1 [00:01<00:00,  1.20s/it]\n"
     ]
    },
    {
     "name": "stdout",
     "output_type": "stream",
     "text": [
      "Epoch: 002, Average Loss: 0.6846\n",
      "Validation: {'precision': 0.19573723438882143, 'recall': 0.23996878389116855, 'f1': 0.126151295695239, 'auc': 0.555601659804178, 'prauc': 0.21307685595031162}\n",
      "Test:       {'precision': 0.1530180462940514, 'recall': 0.228005799545914, 'f1': 0.1273095095338212, 'auc': 0.550813352810831, 'prauc': 0.21282188444608519}\n"
     ]
    },
    {
     "name": "stderr",
     "output_type": "stream",
     "text": [
      "Training Batches: 100%|██████████| 1/1 [00:02<00:00,  2.32s/it]\n",
      "Running inference: 100%|██████████| 1/1 [00:00<00:00,  1.27it/s]\n",
      "Running inference: 100%|██████████| 1/1 [00:01<00:00,  1.18s/it]\n"
     ]
    },
    {
     "name": "stdout",
     "output_type": "stream",
     "text": [
      "Epoch: 003, Average Loss: 0.6746\n",
      "Validation: {'precision': 0.17165003954104036, 'recall': 0.14769772780152868, 'f1': 0.10484922485717313, 'auc': 0.5588275931071451, 'prauc': 0.21905542074478035}\n",
      "Test:       {'precision': 0.16200852234389923, 'recall': 0.15108402689695652, 'f1': 0.10694915969084111, 'auc': 0.5543777908053424, 'prauc': 0.2198629272833575}\n"
     ]
    },
    {
     "name": "stderr",
     "output_type": "stream",
     "text": [
      "Training Batches: 100%|██████████| 1/1 [00:01<00:00,  1.90s/it]\n",
      "Running inference: 100%|██████████| 1/1 [00:01<00:00,  1.59s/it]\n",
      "Running inference: 100%|██████████| 1/1 [00:01<00:00,  1.20s/it]\n"
     ]
    },
    {
     "name": "stdout",
     "output_type": "stream",
     "text": [
      "Epoch: 004, Average Loss: 0.6636\n",
      "Validation: {'precision': 0.1768471796763068, 'recall': 0.10416648080283676, 'f1': 0.08852899191362011, 'auc': 0.5559733030870364, 'prauc': 0.21656022413989118}\n",
      "Test:       {'precision': 0.1882806103672324, 'recall': 0.09866539228518621, 'f1': 0.08584235497702968, 'auc': 0.5515387734243, 'prauc': 0.22004460030632175}\n"
     ]
    },
    {
     "name": "stderr",
     "output_type": "stream",
     "text": [
      "Training Batches: 100%|██████████| 1/1 [00:01<00:00,  1.50s/it]\n",
      "Running inference: 100%|██████████| 1/1 [00:01<00:00,  1.18s/it]\n",
      "Running inference: 100%|██████████| 1/1 [00:01<00:00,  1.59s/it]\n"
     ]
    },
    {
     "name": "stdout",
     "output_type": "stream",
     "text": [
      "Epoch: 005, Average Loss: 0.6507\n",
      "Validation: {'precision': 0.13136450374314101, 'recall': 0.07689925216286625, 'f1': 0.06776132278573217, 'auc': 0.5518866086252134, 'prauc': 0.21313421529679752}\n",
      "Test:       {'precision': 0.136201246363176, 'recall': 0.08059718847813449, 'f1': 0.07164053957274041, 'auc': 0.5484754599650306, 'prauc': 0.21846022202798457}\n"
     ]
    },
    {
     "name": "stderr",
     "output_type": "stream",
     "text": [
      "Training Batches: 100%|██████████| 1/1 [00:01<00:00,  1.95s/it]\n",
      "Running inference: 100%|██████████| 1/1 [00:00<00:00,  1.28it/s]\n",
      "Running inference: 100%|██████████| 1/1 [00:01<00:00,  1.19s/it]\n"
     ]
    },
    {
     "name": "stdout",
     "output_type": "stream",
     "text": [
      "Epoch: 006, Average Loss: 0.6353\n",
      "Validation: {'precision': 0.06682926419094014, 'recall': 0.06065432266888281, 'f1': 0.052225420356938584, 'auc': 0.5483607018755235, 'prauc': 0.210095858353829}\n",
      "Test:       {'precision': 0.12643371233976225, 'recall': 0.06330784299640074, 'f1': 0.055585321684536414, 'auc': 0.5457644840593837, 'prauc': 0.21635398190271599}\n"
     ]
    },
    {
     "name": "stderr",
     "output_type": "stream",
     "text": [
      "Training Batches: 100%|██████████| 1/1 [00:01<00:00,  1.92s/it]\n",
      "Running inference: 100%|██████████| 1/1 [00:01<00:00,  1.18s/it]\n",
      "Running inference: 100%|██████████| 1/1 [00:01<00:00,  1.18s/it]\n"
     ]
    },
    {
     "name": "stdout",
     "output_type": "stream",
     "text": [
      "Epoch: 007, Average Loss: 0.6176\n",
      "Validation: {'precision': 0.06645068338411199, 'recall': 0.052297774744465064, 'f1': 0.04459541708429476, 'auc': 0.5452045292023606, 'prauc': 0.20647253536683113}\n",
      "Test:       {'precision': 0.06989996487303489, 'recall': 0.05578522796335959, 'f1': 0.048417261444560405, 'auc': 0.5430462546752528, 'prauc': 0.2122776683097409}\n"
     ]
    },
    {
     "name": "stderr",
     "output_type": "stream",
     "text": [
      "Training Batches: 100%|██████████| 1/1 [00:02<00:00,  2.32s/it]\n",
      "Running inference: 100%|██████████| 1/1 [00:00<00:00,  1.26it/s]\n",
      "Running inference: 100%|██████████| 1/1 [00:01<00:00,  1.19s/it]\n"
     ]
    },
    {
     "name": "stdout",
     "output_type": "stream",
     "text": [
      "Epoch: 008, Average Loss: 0.5975\n",
      "Validation: {'precision': 0.07800274411030535, 'recall': 0.04156886758859871, 'f1': 0.041288813496426276, 'auc': 0.5429484592246676, 'prauc': 0.20369310397050222}\n",
      "Test:       {'precision': 0.05762760983191552, 'recall': 0.045527499101564915, 'f1': 0.046016405449231496, 'auc': 0.5407483266445677, 'prauc': 0.20853622938004893}\n"
     ]
    },
    {
     "name": "stderr",
     "output_type": "stream",
     "text": [
      "Training Batches: 100%|██████████| 1/1 [00:01<00:00,  1.91s/it]\n",
      "Running inference: 100%|██████████| 1/1 [00:01<00:00,  1.59s/it]\n",
      "Running inference: 100%|██████████| 1/1 [00:01<00:00,  1.19s/it]\n"
     ]
    },
    {
     "name": "stdout",
     "output_type": "stream",
     "text": [
      "Epoch: 009, Average Loss: 0.5754\n",
      "Validation: {'precision': 0.09139784946236558, 'recall': 0.012238511274714611, 'f1': 0.018898972366157733, 'auc': 0.5417605972917668, 'prauc': 0.202100375297064}\n",
      "Test:       {'precision': 0.09142645971914264, 'recall': 0.014282495473134248, 'f1': 0.022048011806919423, 'auc': 0.5394550636274054, 'prauc': 0.20640775823110358}\n"
     ]
    },
    {
     "name": "stderr",
     "output_type": "stream",
     "text": [
      "Training Batches: 100%|██████████| 1/1 [00:01<00:00,  1.54s/it]\n",
      "Running inference: 100%|██████████| 1/1 [00:01<00:00,  1.18s/it]\n",
      "Running inference: 100%|██████████| 1/1 [00:01<00:00,  1.19s/it]\n"
     ]
    },
    {
     "name": "stdout",
     "output_type": "stream",
     "text": [
      "Epoch: 010, Average Loss: 0.5524\n",
      "Validation: {'precision': 0.027777777777777776, 'recall': 0.00019107671730199676, 'f1': 0.000379542651105418, 'auc': 0.5417601269459927, 'prauc': 0.1986113391275323}\n",
      "Test:       {'precision': 0.041666666666666664, 'recall': 0.00013154433043935807, 'f1': 0.00026226068712300026, 'auc': 0.539195981589698, 'prauc': 0.20262016811573635}\n"
     ]
    },
    {
     "name": "stderr",
     "output_type": "stream",
     "text": [
      "Training Batches: 100%|██████████| 1/1 [00:01<00:00,  1.91s/it]\n",
      "Running inference: 100%|██████████| 1/1 [00:01<00:00,  1.18s/it]\n",
      "Running inference: 100%|██████████| 1/1 [00:01<00:00,  1.19s/it]\n"
     ]
    },
    {
     "name": "stdout",
     "output_type": "stream",
     "text": [
      "Epoch: 011, Average Loss: 0.5284\n",
      "Validation: {'precision': 0.0, 'recall': 0.0, 'f1': 0.0, 'auc': 0.5385847494604936, 'prauc': 0.18801073396265122}\n",
      "Test:       {'precision': 0.0, 'recall': 0.0, 'f1': 0.0, 'auc': 0.5351510040309088, 'prauc': 0.1896913476791839}\n"
     ]
    },
    {
     "name": "stderr",
     "output_type": "stream",
     "text": [
      "Training Batches: 100%|██████████| 1/1 [00:01<00:00,  1.94s/it]\n",
      "Running inference: 100%|██████████| 1/1 [00:01<00:00,  1.18s/it]\n",
      "Running inference: 100%|██████████| 1/1 [00:00<00:00,  1.29it/s]\n"
     ]
    },
    {
     "name": "stdout",
     "output_type": "stream",
     "text": [
      "Epoch: 012, Average Loss: 0.5057\n",
      "Validation: {'precision': 0.0, 'recall': 0.0, 'f1': 0.0, 'auc': 0.5351191522852056, 'prauc': 0.18258975981826212}\n",
      "Test:       {'precision': 0.0, 'recall': 0.0, 'f1': 0.0, 'auc': 0.5309324028103949, 'prauc': 0.18341760271881696}\n"
     ]
    },
    {
     "name": "stderr",
     "output_type": "stream",
     "text": [
      "Training Batches: 100%|██████████| 1/1 [00:01<00:00,  1.93s/it]\n",
      "Running inference: 100%|██████████| 1/1 [00:01<00:00,  1.59s/it]\n",
      "Running inference: 100%|██████████| 1/1 [00:01<00:00,  1.21s/it]\n"
     ]
    },
    {
     "name": "stdout",
     "output_type": "stream",
     "text": [
      "Epoch: 013, Average Loss: 0.4850\n",
      "Validation: {'precision': 0.0, 'recall': 0.0, 'f1': 0.0, 'auc': 0.5336535124266306, 'prauc': 0.18050258047360035}\n",
      "Test:       {'precision': 0.0, 'recall': 0.0, 'f1': 0.0, 'auc': 0.5289852267644453, 'prauc': 0.1808266322545138}\n",
      "\n",
      "Early stopping triggered after 13 epochs (no improvement for 10 epochs).\n",
      "\n",
      "Best validation performance:\n",
      "{'global': {'precision': 0.17165003954104036, 'recall': 0.14769772780152868, 'f1': 0.10484922485717313, 'auc': 0.5588275931071451, 'prauc': 0.21905542074478035}, 'per_class':                                            precision    recall        f1  \\\n",
      "Acute and unspecified renal failure         0.000000  0.000000  0.000000   \n",
      "Acute cerebrovascular disease               0.004957  0.297297  0.009752   \n",
      "Acute myocardial infarction                 0.000000  0.000000  0.000000   \n",
      "Cardiac dysrhythmias                        0.000000  0.000000  0.000000   \n",
      "Chronic kidney disease                      0.329792  0.587274  0.422387   \n",
      "Chronic obstructive pulmonary disease       0.000000  0.000000  0.000000   \n",
      "Conduction disorders                        0.008427  0.027523  0.012903   \n",
      "Congestive heart failure; nonhypertensive   0.309584  0.545053  0.394880   \n",
      "Coronary atherosclerosis and related        0.577465  0.067379  0.120677   \n",
      "Disorders of lipid metabolism               0.764706  0.006871  0.013620   \n",
      "Essential hypertension                      0.464821  0.679848  0.552138   \n",
      "Fluid and electrolyte disorders             0.000000  0.000000  0.000000   \n",
      "Gastrointestinal hemorrhage                 0.000000  0.000000  0.000000   \n",
      "Hypertension with complications             0.296616  0.444776  0.355892   \n",
      "Other liver diseases                        0.000000  0.000000  0.000000   \n",
      "Other lower respiratory disease             0.000000  0.000000  0.000000   \n",
      "Pneumonia                                   0.000000  0.000000  0.000000   \n",
      "Septicemia (except in labor)                0.333333  0.002538  0.005038   \n",
      "\n",
      "                                                auc     prauc  \n",
      "Acute and unspecified renal failure        0.595316  0.288552  \n",
      "Acute cerebrovascular disease              0.438378  0.006339  \n",
      "Acute myocardial infarction                0.539789  0.042796  \n",
      "Cardiac dysrhythmias                       0.541638  0.290780  \n",
      "Chronic kidney disease                     0.661727  0.422371  \n",
      "Chronic obstructive pulmonary disease      0.517374  0.092170  \n",
      "Conduction disorders                       0.436844  0.026976  \n",
      "Congestive heart failure; nonhypertensive  0.617973  0.313623  \n",
      "Coronary atherosclerosis and related       0.606783  0.378445  \n",
      "Disorders of lipid metabolism              0.600945  0.495970  \n",
      "Essential hypertension                     0.585490  0.473868  \n",
      "Fluid and electrolyte disorders            0.591244  0.378176  \n",
      "Gastrointestinal hemorrhage                0.503036  0.031343  \n",
      "Hypertension with complications            0.641201  0.360562  \n",
      "Other liver diseases                       0.552016  0.012763  \n",
      "Other lower respiratory disease            0.531346  0.161305  \n",
      "Pneumonia                                  0.546087  0.080244  \n",
      "Septicemia (except in labor)               0.551709  0.086715  }\n",
      "Corresponding test performance:\n",
      "{'global': {'precision': 0.16200852234389923, 'recall': 0.15108402689695652, 'f1': 0.10694915969084111, 'auc': 0.5543777908053424, 'prauc': 0.2198629272833575}, 'per_class':                                            precision    recall        f1  \\\n",
      "Acute and unspecified renal failure         0.000000  0.000000  0.000000   \n",
      "Acute cerebrovascular disease               0.007109  0.384615  0.013960   \n",
      "Acute myocardial infarction                 0.000000  0.000000  0.000000   \n",
      "Cardiac dysrhythmias                        0.000000  0.000000  0.000000   \n",
      "Chronic kidney disease                      0.364468  0.597474  0.452751   \n",
      "Chronic obstructive pulmonary disease       0.000000  0.000000  0.000000   \n",
      "Conduction disorders                        0.007491  0.017544  0.010499   \n",
      "Congestive heart failure; nonhypertensive   0.300052  0.498704  0.374675   \n",
      "Coronary atherosclerosis and related        0.604317  0.067254  0.121037   \n",
      "Disorders of lipid metabolism               0.833333  0.005450  0.010828   \n",
      "Essential hypertension                      0.436643  0.651047  0.522714   \n",
      "Fluid and electrolyte disorders             0.000000  0.000000  0.000000   \n",
      "Gastrointestinal hemorrhage                 0.000000  0.000000  0.000000   \n",
      "Hypertension with complications             0.340013  0.476592  0.396881   \n",
      "Other liver diseases                        0.022727  0.020833  0.021739   \n",
      "Other lower respiratory disease             0.000000  0.000000  0.000000   \n",
      "Pneumonia                                   0.000000  0.000000  0.000000   \n",
      "Septicemia (except in labor)                0.000000  0.000000  0.000000   \n",
      "\n",
      "                                                auc     prauc  \n",
      "Acute and unspecified renal failure        0.609457  0.291066  \n",
      "Acute cerebrovascular disease              0.427914  0.006473  \n",
      "Acute myocardial infarction                0.456408  0.033553  \n",
      "Cardiac dysrhythmias                       0.506118  0.262870  \n",
      "Chronic kidney disease                     0.685879  0.488898  \n",
      "Chronic obstructive pulmonary disease      0.498465  0.084364  \n",
      "Conduction disorders                       0.485567  0.021086  \n",
      "Congestive heart failure; nonhypertensive  0.599841  0.293351  \n",
      "Coronary atherosclerosis and related       0.608180  0.371570  \n",
      "Disorders of lipid metabolism              0.581625  0.457989  \n",
      "Essential hypertension                     0.568950  0.432968  \n",
      "Fluid and electrolyte disorders            0.602839  0.382705  \n",
      "Gastrointestinal hemorrhage                0.537268  0.048628  \n",
      "Hypertension with complications            0.667140  0.420277  \n",
      "Other liver diseases                       0.526598  0.010100  \n",
      "Other lower respiratory disease            0.517934  0.171452  \n",
      "Pneumonia                                  0.571235  0.091434  \n",
      "Septicemia (except in labor)               0.527381  0.088751  }\n",
      "Corresponding test-long performance:\n",
      "{'global': {'precision': 0.11113479352175057, 'recall': 0.17787754544965004, 'f1': 0.11041884360035281, 'auc': 0.5557081526027497, 'prauc': 0.2517046429858209}, 'per_class':                                            precision    recall        f1  \\\n",
      "Acute and unspecified renal failure         0.000000  0.000000  0.000000   \n",
      "Acute cerebrovascular disease               0.002551  0.500000  0.005076   \n",
      "Acute myocardial infarction                 0.000000  0.000000  0.000000   \n",
      "Cardiac dysrhythmias                        0.000000  0.000000  0.000000   \n",
      "Chronic kidney disease                      0.385387  0.843260  0.529007   \n",
      "Chronic obstructive pulmonary disease       0.000000  0.000000  0.000000   \n",
      "Conduction disorders                        0.024390  0.055556  0.033898   \n",
      "Congestive heart failure; nonhypertensive   0.333333  0.640741  0.438530   \n",
      "Coronary atherosclerosis and related        0.363636  0.037915  0.068670   \n",
      "Disorders of lipid metabolism               0.000000  0.000000  0.000000   \n",
      "Essential hypertension                      0.453125  0.292929  0.355828   \n",
      "Fluid and electrolyte disorders             0.000000  0.000000  0.000000   \n",
      "Gastrointestinal hemorrhage                 0.000000  0.000000  0.000000   \n",
      "Hypertension with complications             0.338004  0.748062  0.465621   \n",
      "Other liver diseases                        0.100000  0.083333  0.090909   \n",
      "Other lower respiratory disease             0.000000  0.000000  0.000000   \n",
      "Pneumonia                                   0.000000  0.000000  0.000000   \n",
      "Septicemia (except in labor)                0.000000  0.000000  0.000000   \n",
      "\n",
      "                                                auc     prauc  \n",
      "Acute and unspecified renal failure        0.517168  0.318942  \n",
      "Acute cerebrovascular disease              0.447368  0.002751  \n",
      "Acute myocardial infarction                0.374389  0.025048  \n",
      "Cardiac dysrhythmias                       0.476762  0.266027  \n",
      "Chronic kidney disease                     0.691411  0.616617  \n",
      "Chronic obstructive pulmonary disease      0.569819  0.103609  \n",
      "Conduction disorders                       0.440106  0.019759  \n",
      "Congestive heart failure; nonhypertensive  0.562887  0.342881  \n",
      "Coronary atherosclerosis and related       0.644642  0.352166  \n",
      "Disorders of lipid metabolism              0.634676  0.477296  \n",
      "Essential hypertension                     0.602781  0.431899  \n",
      "Fluid and electrolyte disorders            0.593759  0.466819  \n",
      "Gastrointestinal hemorrhage                0.579157  0.073318  \n",
      "Hypertension with complications            0.669934  0.543643  \n",
      "Other liver diseases                       0.612461  0.021171  \n",
      "Other lower respiratory disease            0.555254  0.239252  \n",
      "Pneumonia                                  0.520871  0.101905  \n",
      "Septicemia (except in labor)               0.509299  0.127579  }\n",
      "[INFO] Random seed set to 2530876844\n",
      "Training with seed: 2530876844\n"
     ]
    },
    {
     "name": "stderr",
     "output_type": "stream",
     "text": [
      "Training Batches: 100%|██████████| 1/1 [00:01<00:00,  1.51s/it]\n",
      "Running inference: 100%|██████████| 1/1 [00:01<00:00,  1.17s/it]\n",
      "Running inference: 100%|██████████| 1/1 [00:01<00:00,  1.58s/it]\n"
     ]
    },
    {
     "name": "stdout",
     "output_type": "stream",
     "text": [
      "Epoch: 001, Average Loss: 0.6956\n",
      "Validation: {'precision': 0.14929268388003872, 'recall': 0.4133738291661732, 'f1': 0.13710154311752248, 'auc': 0.541783416923765, 'prauc': 0.1925248730596443}\n",
      "Test:       {'precision': 0.10092339228798243, 'recall': 0.4151895436933113, 'f1': 0.14426985762424607, 'auc': 0.5414271036368675, 'prauc': 0.19717095839435042}\n"
     ]
    },
    {
     "name": "stderr",
     "output_type": "stream",
     "text": [
      "Training Batches: 100%|██████████| 1/1 [00:01<00:00,  1.95s/it]\n",
      "Running inference: 100%|██████████| 1/1 [00:00<00:00,  1.25it/s]\n",
      "Running inference: 100%|██████████| 1/1 [00:01<00:00,  1.60s/it]\n"
     ]
    },
    {
     "name": "stdout",
     "output_type": "stream",
     "text": [
      "Epoch: 002, Average Loss: 0.6865\n",
      "Validation: {'precision': 0.09795406621705165, 'recall': 0.2804002074444527, 'f1': 0.13267198776068914, 'auc': 0.5557460536101548, 'prauc': 0.20595621741240844}\n",
      "Test:       {'precision': 0.1046584392327965, 'recall': 0.2846118675209635, 'f1': 0.1375543353888636, 'auc': 0.5579045253850515, 'prauc': 0.21365077085471998}\n"
     ]
    },
    {
     "name": "stderr",
     "output_type": "stream",
     "text": [
      "Training Batches: 100%|██████████| 1/1 [00:01<00:00,  1.53s/it]\n",
      "Running inference: 100%|██████████| 1/1 [00:01<00:00,  1.59s/it]\n",
      "Running inference: 100%|██████████| 1/1 [00:01<00:00,  1.20s/it]\n"
     ]
    },
    {
     "name": "stdout",
     "output_type": "stream",
     "text": [
      "Epoch: 003, Average Loss: 0.6767\n",
      "Validation: {'precision': 0.09441843458119023, 'recall': 0.18386080497709845, 'f1': 0.11485722697200222, 'auc': 0.5594163241299374, 'prauc': 0.21163852816567566}\n",
      "Test:       {'precision': 0.1553053112340671, 'recall': 0.1901672915037254, 'f1': 0.119613869511183, 'auc': 0.560340695518131, 'prauc': 0.21982238870495296}\n"
     ]
    },
    {
     "name": "stderr",
     "output_type": "stream",
     "text": [
      "Training Batches: 100%|██████████| 1/1 [00:02<00:00,  2.02s/it]\n",
      "Running inference: 100%|██████████| 1/1 [00:00<00:00,  1.26it/s]\n",
      "Running inference: 100%|██████████| 1/1 [00:01<00:00,  1.19s/it]\n"
     ]
    },
    {
     "name": "stdout",
     "output_type": "stream",
     "text": [
      "Epoch: 004, Average Loss: 0.6658\n",
      "Validation: {'precision': 0.09647594642031415, 'recall': 0.06990180348899495, 'f1': 0.0733827347051894, 'auc': 0.5556960752937963, 'prauc': 0.2114299131962975}\n",
      "Test:       {'precision': 0.1095156221229702, 'recall': 0.07535391069643967, 'f1': 0.08043369924010589, 'auc': 0.5557036105185229, 'prauc': 0.2197085553736387}\n"
     ]
    },
    {
     "name": "stderr",
     "output_type": "stream",
     "text": [
      "Training Batches: 100%|██████████| 1/1 [00:01<00:00,  1.93s/it]\n",
      "Running inference: 100%|██████████| 1/1 [00:01<00:00,  1.18s/it]\n",
      "Running inference: 100%|██████████| 1/1 [00:01<00:00,  1.59s/it]\n"
     ]
    },
    {
     "name": "stdout",
     "output_type": "stream",
     "text": [
      "Epoch: 005, Average Loss: 0.6528\n",
      "Validation: {'precision': 0.12314534016789953, 'recall': 0.027042354998492963, 'f1': 0.03212183624423302, 'auc': 0.5503670291545025, 'prauc': 0.20826033503826982}\n",
      "Test:       {'precision': 0.19112521633784788, 'recall': 0.02678299833694317, 'f1': 0.03387064334359059, 'auc': 0.5497062044947126, 'prauc': 0.2166105504216791}\n"
     ]
    },
    {
     "name": "stderr",
     "output_type": "stream",
     "text": [
      "Training Batches: 100%|██████████| 1/1 [00:01<00:00,  1.96s/it]\n",
      "Running inference: 100%|██████████| 1/1 [00:00<00:00,  1.26it/s]\n",
      "Running inference: 100%|██████████| 1/1 [00:01<00:00,  1.58s/it]\n"
     ]
    },
    {
     "name": "stdout",
     "output_type": "stream",
     "text": [
      "Epoch: 006, Average Loss: 0.6373\n",
      "Validation: {'precision': 0.06328518156475146, 'recall': 0.010035419287542376, 'f1': 0.0157423901428959, 'auc': 0.5447242287959612, 'prauc': 0.2026815195814098}\n",
      "Test:       {'precision': 0.08563357546408394, 'recall': 0.010179535028770314, 'f1': 0.01609923601190755, 'auc': 0.543822563504237, 'prauc': 0.21021394150112355}\n"
     ]
    },
    {
     "name": "stderr",
     "output_type": "stream",
     "text": [
      "Training Batches: 100%|██████████| 1/1 [00:01<00:00,  1.54s/it]\n",
      "Running inference: 100%|██████████| 1/1 [00:01<00:00,  1.58s/it]\n",
      "Running inference: 100%|██████████| 1/1 [00:01<00:00,  1.19s/it]\n"
     ]
    },
    {
     "name": "stdout",
     "output_type": "stream",
     "text": [
      "Epoch: 007, Average Loss: 0.6196\n",
      "Validation: {'precision': 0.018518518518518517, 'recall': 2.6467630088401884e-05, 'f1': 5.28597103287874e-05, 'auc': 0.5389798763180015, 'prauc': 0.19461251694406478}\n",
      "Test:       {'precision': 0.037037037037037035, 'recall': 5.538938739337542e-05, 'f1': 0.0001106133510314695, 'auc': 0.5370537764580783, 'prauc': 0.19879246914381107}\n"
     ]
    },
    {
     "name": "stderr",
     "output_type": "stream",
     "text": [
      "Training Batches: 100%|██████████| 1/1 [00:01<00:00,  1.93s/it]\n",
      "Running inference: 100%|██████████| 1/1 [00:00<00:00,  1.26it/s]\n",
      "Running inference: 100%|██████████| 1/1 [00:01<00:00,  1.20s/it]\n"
     ]
    },
    {
     "name": "stdout",
     "output_type": "stream",
     "text": [
      "Epoch: 008, Average Loss: 0.5991\n",
      "Validation: {'precision': 0.0, 'recall': 0.0, 'f1': 0.0, 'auc': 0.533757960968112, 'prauc': 0.18702267755375424}\n",
      "Test:       {'precision': 0.0, 'recall': 0.0, 'f1': 0.0, 'auc': 0.5310496122260613, 'prauc': 0.19030948066274095}\n"
     ]
    },
    {
     "name": "stderr",
     "output_type": "stream",
     "text": [
      "Training Batches: 100%|██████████| 1/1 [00:01<00:00,  1.93s/it]\n",
      "Running inference: 100%|██████████| 1/1 [00:01<00:00,  1.19s/it]\n",
      "Running inference: 100%|██████████| 1/1 [00:01<00:00,  1.58s/it]\n"
     ]
    },
    {
     "name": "stdout",
     "output_type": "stream",
     "text": [
      "Epoch: 009, Average Loss: 0.5769\n",
      "Validation: {'precision': 0.0, 'recall': 0.0, 'f1': 0.0, 'auc': 0.5298611670157346, 'prauc': 0.18218878873873795}\n",
      "Test:       {'precision': 0.0, 'recall': 0.0, 'f1': 0.0, 'auc': 0.5269074932908326, 'prauc': 0.18472642945290588}\n"
     ]
    },
    {
     "name": "stderr",
     "output_type": "stream",
     "text": [
      "Training Batches: 100%|██████████| 1/1 [00:01<00:00,  1.94s/it]\n",
      "Running inference: 100%|██████████| 1/1 [00:00<00:00,  1.28it/s]\n",
      "Running inference: 100%|██████████| 1/1 [00:01<00:00,  1.49s/it]\n"
     ]
    },
    {
     "name": "stdout",
     "output_type": "stream",
     "text": [
      "Epoch: 010, Average Loss: 0.5539\n",
      "Validation: {'precision': 0.0, 'recall': 0.0, 'f1': 0.0, 'auc': 0.5275084369544687, 'prauc': 0.17939763053390786}\n",
      "Test:       {'precision': 0.0, 'recall': 0.0, 'f1': 0.0, 'auc': 0.5244312499271131, 'prauc': 0.18151232571272125}\n"
     ]
    },
    {
     "name": "stderr",
     "output_type": "stream",
     "text": [
      "Training Batches: 100%|██████████| 1/1 [00:01<00:00,  1.52s/it]\n",
      "Running inference: 100%|██████████| 1/1 [00:01<00:00,  1.58s/it]\n",
      "Running inference: 100%|██████████| 1/1 [00:01<00:00,  1.20s/it]\n"
     ]
    },
    {
     "name": "stdout",
     "output_type": "stream",
     "text": [
      "Epoch: 011, Average Loss: 0.5301\n",
      "Validation: {'precision': 0.0, 'recall': 0.0, 'f1': 0.0, 'auc': 0.5261886647566727, 'prauc': 0.17777857692028307}\n",
      "Test:       {'precision': 0.0, 'recall': 0.0, 'f1': 0.0, 'auc': 0.5230547683019393, 'prauc': 0.1794369069291687}\n"
     ]
    },
    {
     "name": "stderr",
     "output_type": "stream",
     "text": [
      "Training Batches: 100%|██████████| 1/1 [00:01<00:00,  1.95s/it]\n",
      "Running inference: 100%|██████████| 1/1 [00:00<00:00,  1.26it/s]\n",
      "Running inference: 100%|██████████| 1/1 [00:01<00:00,  1.20s/it]\n"
     ]
    },
    {
     "name": "stdout",
     "output_type": "stream",
     "text": [
      "Epoch: 012, Average Loss: 0.5075\n",
      "Validation: {'precision': 0.0, 'recall': 0.0, 'f1': 0.0, 'auc': 0.5255786741769319, 'prauc': 0.17689374611551048}\n",
      "Test:       {'precision': 0.0, 'recall': 0.0, 'f1': 0.0, 'auc': 0.5221890123818153, 'prauc': 0.178021948486223}\n"
     ]
    },
    {
     "name": "stderr",
     "output_type": "stream",
     "text": [
      "Training Batches: 100%|██████████| 1/1 [00:01<00:00,  1.91s/it]\n",
      "Running inference: 100%|██████████| 1/1 [00:01<00:00,  1.18s/it]\n",
      "Running inference: 100%|██████████| 1/1 [00:01<00:00,  1.57s/it]\n"
     ]
    },
    {
     "name": "stdout",
     "output_type": "stream",
     "text": [
      "Epoch: 013, Average Loss: 0.4868\n",
      "Validation: {'precision': 0.0, 'recall': 0.0, 'f1': 0.0, 'auc': 0.525358310635831, 'prauc': 0.17636570677659513}\n",
      "Test:       {'precision': 0.0, 'recall': 0.0, 'f1': 0.0, 'auc': 0.5218664710844078, 'prauc': 0.1772665120012812}\n",
      "\n",
      "Early stopping triggered after 13 epochs (no improvement for 10 epochs).\n",
      "\n",
      "Best validation performance:\n",
      "{'global': {'precision': 0.09441843458119023, 'recall': 0.18386080497709845, 'f1': 0.11485722697200222, 'auc': 0.5594163241299374, 'prauc': 0.21163852816567566}, 'per_class':                                            precision    recall        f1  \\\n",
      "Acute and unspecified renal failure         0.000000  0.000000  0.000000   \n",
      "Acute cerebrovascular disease               0.000000  0.000000  0.000000   \n",
      "Acute myocardial infarction                 0.023474  0.024876  0.024155   \n",
      "Cardiac dysrhythmias                        0.000000  0.000000  0.000000   \n",
      "Chronic kidney disease                      0.357756  0.537403  0.429553   \n",
      "Chronic obstructive pulmonary disease       0.101852  0.122768  0.111336   \n",
      "Conduction disorders                        0.018141  0.522936  0.035066   \n",
      "Congestive heart failure; nonhypertensive   0.253165  0.512367  0.338884   \n",
      "Coronary atherosclerosis and related        0.000000  0.000000  0.000000   \n",
      "Disorders of lipid metabolism               0.000000  0.000000  0.000000   \n",
      "Essential hypertension                      0.467316  0.640305  0.540302   \n",
      "Fluid and electrolyte disorders             0.000000  0.000000  0.000000   \n",
      "Gastrointestinal hemorrhage                 0.000000  0.000000  0.000000   \n",
      "Hypertension with complications             0.308597  0.339303  0.323223   \n",
      "Other liver diseases                        0.000000  0.000000  0.000000   \n",
      "Other lower respiratory disease             0.169231  0.609536  0.264912   \n",
      "Pneumonia                                   0.000000  0.000000  0.000000   \n",
      "Septicemia (except in labor)                0.000000  0.000000  0.000000   \n",
      "\n",
      "                                                auc     prauc  \n",
      "Acute and unspecified renal failure        0.607386  0.302643  \n",
      "Acute cerebrovascular disease              0.487582  0.007188  \n",
      "Acute myocardial infarction                0.499391  0.037777  \n",
      "Cardiac dysrhythmias                       0.546654  0.306407  \n",
      "Chronic kidney disease                     0.666191  0.412098  \n",
      "Chronic obstructive pulmonary disease      0.507629  0.090488  \n",
      "Conduction disorders                       0.430195  0.017376  \n",
      "Congestive heart failure; nonhypertensive  0.557932  0.245182  \n",
      "Coronary atherosclerosis and related       0.600996  0.375375  \n",
      "Disorders of lipid metabolism              0.554347  0.422764  \n",
      "Essential hypertension                     0.590559  0.487105  \n",
      "Fluid and electrolyte disorders            0.610069  0.407439  \n",
      "Gastrointestinal hemorrhage                0.524658  0.031688  \n",
      "Hypertension with complications            0.635120  0.301580  \n",
      "Other liver diseases                       0.570324  0.014849  \n",
      "Other lower respiratory disease            0.543511  0.168972  \n",
      "Pneumonia                                  0.558733  0.085842  \n",
      "Septicemia (except in labor)               0.578219  0.094719  }\n",
      "Corresponding test performance:\n",
      "{'global': {'precision': 0.1553053112340671, 'recall': 0.1901672915037254, 'f1': 0.119613869511183, 'auc': 0.560340695518131, 'prauc': 0.21982238870495296}, 'per_class':                                            precision    recall        f1  \\\n",
      "Acute and unspecified renal failure         0.000000  0.000000  0.000000   \n",
      "Acute cerebrovascular disease               0.000000  0.000000  0.000000   \n",
      "Acute myocardial infarction                 0.020305  0.020833  0.020566   \n",
      "Cardiac dysrhythmias                        0.000000  0.000000  0.000000   \n",
      "Chronic kidney disease                      0.404594  0.542226  0.463406   \n",
      "Chronic obstructive pulmonary disease       0.088561  0.112676  0.099174   \n",
      "Conduction disorders                        0.022684  0.631579  0.043796   \n",
      "Congestive heart failure; nonhypertensive   0.245982  0.476232  0.324404   \n",
      "Coronary atherosclerosis and related        1.000000  0.000801  0.001600   \n",
      "Disorders of lipid metabolism               0.000000  0.000000  0.000000   \n",
      "Essential hypertension                      0.441291  0.620140  0.515648   \n",
      "Fluid and electrolyte disorders             0.000000  0.000000  0.000000   \n",
      "Gastrointestinal hemorrhage                 0.000000  0.000000  0.000000   \n",
      "Hypertension with complications             0.383741  0.411049  0.396926   \n",
      "Other liver diseases                        0.000000  0.000000  0.000000   \n",
      "Other lower respiratory disease             0.188338  0.607477  0.287531   \n",
      "Pneumonia                                   0.000000  0.000000  0.000000   \n",
      "Septicemia (except in labor)                0.000000  0.000000  0.000000   \n",
      "\n",
      "                                                auc     prauc  \n",
      "Acute and unspecified renal failure        0.627168  0.309688  \n",
      "Acute cerebrovascular disease              0.421196  0.006185  \n",
      "Acute myocardial infarction                0.427886  0.031239  \n",
      "Cardiac dysrhythmias                       0.552911  0.293029  \n",
      "Chronic kidney disease                     0.679749  0.454467  \n",
      "Chronic obstructive pulmonary disease      0.513962  0.087461  \n",
      "Conduction disorders                       0.481695  0.019922  \n",
      "Congestive heart failure; nonhypertensive  0.543573  0.240876  \n",
      "Coronary atherosclerosis and related       0.610437  0.414724  \n",
      "Disorders of lipid metabolism              0.538302  0.389184  \n",
      "Essential hypertension                     0.588806  0.463368  \n",
      "Fluid and electrolyte disorders            0.620357  0.404109  \n",
      "Gastrointestinal hemorrhage                0.583417  0.055245  \n",
      "Hypertension with complications            0.670986  0.393849  \n",
      "Other liver diseases                       0.542394  0.010887  \n",
      "Other lower respiratory disease            0.549502  0.193798  \n",
      "Pneumonia                                  0.564082  0.088501  \n",
      "Septicemia (except in labor)               0.569710  0.100271  }\n",
      "Corresponding test-long performance:\n",
      "{'global': {'precision': 0.10759869250116445, 'recall': 0.23250434821316043, 'f1': 0.12899201620791056, 'auc': 0.559661124720209, 'prauc': 0.24942933522386854}, 'per_class':                                            precision    recall        f1  \\\n",
      "Acute and unspecified renal failure         0.000000  0.000000  0.000000   \n",
      "Acute cerebrovascular disease               0.000000  0.000000  0.000000   \n",
      "Acute myocardial infarction                 0.000000  0.000000  0.000000   \n",
      "Cardiac dysrhythmias                        0.000000  0.000000  0.000000   \n",
      "Chronic kidney disease                      0.422034  0.780564  0.547855   \n",
      "Chronic obstructive pulmonary disease       0.129870  0.129870  0.129870   \n",
      "Conduction disorders                        0.019925  0.888889  0.038977   \n",
      "Congestive heart failure; nonhypertensive   0.296146  0.540741  0.382700   \n",
      "Coronary atherosclerosis and related        0.000000  0.000000  0.000000   \n",
      "Disorders of lipid metabolism               0.000000  0.000000  0.000000   \n",
      "Essential hypertension                      0.444444  0.296296  0.355556   \n",
      "Fluid and electrolyte disorders             0.000000  0.000000  0.000000   \n",
      "Gastrointestinal hemorrhage                 0.000000  0.000000  0.000000   \n",
      "Hypertension with complications             0.379691  0.666667  0.483826   \n",
      "Other liver diseases                        0.000000  0.000000  0.000000   \n",
      "Other lower respiratory disease             0.244666  0.882051  0.383073   \n",
      "Pneumonia                                   0.000000  0.000000  0.000000   \n",
      "Septicemia (except in labor)                0.000000  0.000000  0.000000   \n",
      "\n",
      "                                                auc     prauc  \n",
      "Acute and unspecified renal failure        0.573030  0.354639  \n",
      "Acute cerebrovascular disease              0.425629  0.002552  \n",
      "Acute myocardial infarction                0.367809  0.024491  \n",
      "Cardiac dysrhythmias                       0.529932  0.303187  \n",
      "Chronic kidney disease                     0.658929  0.545350  \n",
      "Chronic obstructive pulmonary disease      0.600832  0.117632  \n",
      "Conduction disorders                       0.376004  0.014865  \n",
      "Congestive heart failure; nonhypertensive  0.456870  0.279570  \n",
      "Coronary atherosclerosis and related       0.643310  0.384144  \n",
      "Disorders of lipid metabolism              0.575537  0.383684  \n",
      "Essential hypertension                     0.611239  0.439676  \n",
      "Fluid and electrolyte disorders            0.577522  0.467809  \n",
      "Gastrointestinal hemorrhage                0.647142  0.088051  \n",
      "Hypertension with complications            0.660577  0.510867  \n",
      "Other liver diseases                       0.689043  0.049677  \n",
      "Other lower respiratory disease            0.603807  0.279163  \n",
      "Pneumonia                                  0.539395  0.105528  \n",
      "Septicemia (except in labor)               0.537295  0.138842  }\n",
      "[INFO] Random seed set to 3460967357\n",
      "Training with seed: 3460967357\n"
     ]
    },
    {
     "name": "stderr",
     "output_type": "stream",
     "text": [
      "Training Batches: 100%|██████████| 1/1 [00:01<00:00,  1.97s/it]\n",
      "Running inference: 100%|██████████| 1/1 [00:00<00:00,  1.27it/s]\n",
      "Running inference: 100%|██████████| 1/1 [00:01<00:00,  1.60s/it]\n"
     ]
    },
    {
     "name": "stdout",
     "output_type": "stream",
     "text": [
      "Epoch: 001, Average Loss: 0.6905\n",
      "Validation: {'precision': 0.15314539589287487, 'recall': 0.20417003251478397, 'f1': 0.09557583212935129, 'auc': 0.5343122787528765, 'prauc': 0.18792496491890412}\n",
      "Test:       {'precision': 0.15179669898062326, 'recall': 0.21087979838107354, 'f1': 0.10471923994824173, 'auc': 0.5322861833003761, 'prauc': 0.1935528300782167}\n"
     ]
    },
    {
     "name": "stderr",
     "output_type": "stream",
     "text": [
      "Training Batches: 100%|██████████| 1/1 [00:01<00:00,  1.52s/it]\n",
      "Running inference: 100%|██████████| 1/1 [00:01<00:00,  1.57s/it]\n",
      "Running inference: 100%|██████████| 1/1 [00:01<00:00,  1.20s/it]\n"
     ]
    },
    {
     "name": "stdout",
     "output_type": "stream",
     "text": [
      "Epoch: 002, Average Loss: 0.6814\n",
      "Validation: {'precision': 0.14012009280848778, 'recall': 0.1189396635242064, 'f1': 0.08296336358716275, 'auc': 0.5529885221601832, 'prauc': 0.20655812999382198}\n",
      "Test:       {'precision': 0.1552773618966282, 'recall': 0.12408203797197956, 'f1': 0.09283078724980179, 'auc': 0.5517501899109303, 'prauc': 0.21354565325018918}\n"
     ]
    },
    {
     "name": "stderr",
     "output_type": "stream",
     "text": [
      "Training Batches: 100%|██████████| 1/1 [00:01<00:00,  1.95s/it]\n",
      "Running inference: 100%|██████████| 1/1 [00:00<00:00,  1.24it/s]\n",
      "Running inference: 100%|██████████| 1/1 [00:01<00:00,  1.19s/it]\n"
     ]
    },
    {
     "name": "stdout",
     "output_type": "stream",
     "text": [
      "Epoch: 003, Average Loss: 0.6721\n",
      "Validation: {'precision': 0.17368947584669708, 'recall': 0.055721260156145966, 'f1': 0.05833302924707356, 'auc': 0.5579954244070271, 'prauc': 0.21908349503512045}\n",
      "Test:       {'precision': 0.1823474959665129, 'recall': 0.0640742764034154, 'f1': 0.06584776242511971, 'auc': 0.5580817313552975, 'prauc': 0.22435052570796796}\n"
     ]
    },
    {
     "name": "stderr",
     "output_type": "stream",
     "text": [
      "Training Batches: 100%|██████████| 1/1 [00:01<00:00,  1.91s/it]\n",
      "Running inference: 100%|██████████| 1/1 [00:01<00:00,  1.17s/it]\n",
      "Running inference: 100%|██████████| 1/1 [00:01<00:00,  1.58s/it]\n"
     ]
    },
    {
     "name": "stdout",
     "output_type": "stream",
     "text": [
      "Epoch: 004, Average Loss: 0.6610\n",
      "Validation: {'precision': 0.21768299618354633, 'recall': 0.031094485707295685, 'f1': 0.04014968738231998, 'auc': 0.555223279262441, 'prauc': 0.22282634435222481}\n",
      "Test:       {'precision': 0.201870886652246, 'recall': 0.03502714457019091, 'f1': 0.04606575774403474, 'auc': 0.5566266414472897, 'prauc': 0.22728280413174373}\n"
     ]
    },
    {
     "name": "stderr",
     "output_type": "stream",
     "text": [
      "Training Batches: 100%|██████████| 1/1 [00:01<00:00,  1.50s/it]\n",
      "Running inference: 100%|██████████| 1/1 [00:01<00:00,  1.59s/it]\n",
      "Running inference: 100%|██████████| 1/1 [00:01<00:00,  1.20s/it]\n"
     ]
    },
    {
     "name": "stdout",
     "output_type": "stream",
     "text": [
      "Epoch: 005, Average Loss: 0.6476\n",
      "Validation: {'precision': 0.22656007532482786, 'recall': 0.015770212001072464, 'f1': 0.022584844560642067, 'auc': 0.5514209494006621, 'prauc': 0.2210168564272261}\n",
      "Test:       {'precision': 0.221357180159358, 'recall': 0.015665545512662075, 'f1': 0.023091034437196054, 'auc': 0.5523765909828215, 'prauc': 0.22427829402562505}\n"
     ]
    },
    {
     "name": "stderr",
     "output_type": "stream",
     "text": [
      "Training Batches: 100%|██████████| 1/1 [00:01<00:00,  1.94s/it]\n",
      "Running inference: 100%|██████████| 1/1 [00:00<00:00,  1.25it/s]\n",
      "Running inference: 100%|██████████| 1/1 [00:01<00:00,  1.18s/it]\n"
     ]
    },
    {
     "name": "stdout",
     "output_type": "stream",
     "text": [
      "Epoch: 006, Average Loss: 0.6322\n",
      "Validation: {'precision': 0.03189300411522634, 'recall': 0.0010617892862035895, 'f1': 0.0020551577830814106, 'auc': 0.5472368493489268, 'prauc': 0.21557594778153807}\n",
      "Test:       {'precision': 0.06349206349206349, 'recall': 0.0007482104551011252, 'f1': 0.0014673031713709958, 'auc': 0.5475141089093846, 'prauc': 0.21779395391753184}\n"
     ]
    },
    {
     "name": "stderr",
     "output_type": "stream",
     "text": [
      "Training Batches: 100%|██████████| 1/1 [00:01<00:00,  1.92s/it]\n",
      "Running inference: 100%|██████████| 1/1 [00:01<00:00,  1.17s/it]\n",
      "Running inference: 100%|██████████| 1/1 [00:01<00:00,  1.59s/it]\n"
     ]
    },
    {
     "name": "stdout",
     "output_type": "stream",
     "text": [
      "Epoch: 007, Average Loss: 0.6145\n",
      "Validation: {'precision': 0.0, 'recall': 0.0, 'f1': 0.0, 'auc': 0.5419979113160152, 'prauc': 0.20605821928372248}\n",
      "Test:       {'precision': 0.0, 'recall': 0.0, 'f1': 0.0, 'auc': 0.5416976902588992, 'prauc': 0.20773942125516187}\n"
     ]
    },
    {
     "name": "stderr",
     "output_type": "stream",
     "text": [
      "Training Batches: 100%|██████████| 1/1 [00:01<00:00,  1.51s/it]\n",
      "Running inference: 100%|██████████| 1/1 [00:01<00:00,  1.57s/it]\n",
      "Running inference: 100%|██████████| 1/1 [00:01<00:00,  1.20s/it]\n"
     ]
    },
    {
     "name": "stdout",
     "output_type": "stream",
     "text": [
      "Epoch: 008, Average Loss: 0.5940\n",
      "Validation: {'precision': 0.0, 'recall': 0.0, 'f1': 0.0, 'auc': 0.5354773575104056, 'prauc': 0.1945617517078851}\n",
      "Test:       {'precision': 0.0, 'recall': 0.0, 'f1': 0.0, 'auc': 0.5346406491720163, 'prauc': 0.1955431728871014}\n"
     ]
    },
    {
     "name": "stderr",
     "output_type": "stream",
     "text": [
      "Training Batches: 100%|██████████| 1/1 [00:01<00:00,  1.98s/it]\n",
      "Running inference: 100%|██████████| 1/1 [00:00<00:00,  1.25it/s]\n",
      "Running inference: 100%|██████████| 1/1 [00:01<00:00,  1.18s/it]\n"
     ]
    },
    {
     "name": "stdout",
     "output_type": "stream",
     "text": [
      "Epoch: 009, Average Loss: 0.5716\n",
      "Validation: {'precision': 0.0, 'recall': 0.0, 'f1': 0.0, 'auc': 0.5307225655261606, 'prauc': 0.18728378698788453}\n",
      "Test:       {'precision': 0.0, 'recall': 0.0, 'f1': 0.0, 'auc': 0.5295982592712642, 'prauc': 0.18821560204318596}\n"
     ]
    },
    {
     "name": "stderr",
     "output_type": "stream",
     "text": [
      "Training Batches: 100%|██████████| 1/1 [00:01<00:00,  1.90s/it]\n",
      "Running inference: 100%|██████████| 1/1 [00:01<00:00,  1.19s/it]\n",
      "Running inference: 100%|██████████| 1/1 [00:01<00:00,  1.61s/it]\n"
     ]
    },
    {
     "name": "stdout",
     "output_type": "stream",
     "text": [
      "Epoch: 010, Average Loss: 0.5482\n",
      "Validation: {'precision': 0.0, 'recall': 0.0, 'f1': 0.0, 'auc': 0.5276256001498849, 'prauc': 0.1826748594810967}\n",
      "Test:       {'precision': 0.0, 'recall': 0.0, 'f1': 0.0, 'auc': 0.5265429711713447, 'prauc': 0.18376660058926844}\n"
     ]
    },
    {
     "name": "stderr",
     "output_type": "stream",
     "text": [
      "Training Batches: 100%|██████████| 1/1 [00:01<00:00,  1.51s/it]\n",
      "Running inference: 100%|██████████| 1/1 [00:01<00:00,  1.59s/it]\n",
      "Running inference: 100%|██████████| 1/1 [00:01<00:00,  1.21s/it]\n"
     ]
    },
    {
     "name": "stdout",
     "output_type": "stream",
     "text": [
      "Epoch: 011, Average Loss: 0.5247\n",
      "Validation: {'precision': 0.0, 'recall': 0.0, 'f1': 0.0, 'auc': 0.5259576331478241, 'prauc': 0.18027981750607774}\n",
      "Test:       {'precision': 0.0, 'recall': 0.0, 'f1': 0.0, 'auc': 0.5247575936213642, 'prauc': 0.18070788383642816}\n"
     ]
    },
    {
     "name": "stderr",
     "output_type": "stream",
     "text": [
      "Training Batches: 100%|██████████| 1/1 [00:01<00:00,  1.93s/it]\n",
      "Running inference: 100%|██████████| 1/1 [00:00<00:00,  1.26it/s]\n",
      "Running inference: 100%|██████████| 1/1 [00:01<00:00,  1.19s/it]\n"
     ]
    },
    {
     "name": "stdout",
     "output_type": "stream",
     "text": [
      "Epoch: 012, Average Loss: 0.5017\n",
      "Validation: {'precision': 0.0, 'recall': 0.0, 'f1': 0.0, 'auc': 0.5248898654379469, 'prauc': 0.1789057128802721}\n",
      "Test:       {'precision': 0.0, 'recall': 0.0, 'f1': 0.0, 'auc': 0.5238617190470872, 'prauc': 0.1789503205622242}\n"
     ]
    },
    {
     "name": "stderr",
     "output_type": "stream",
     "text": [
      "Training Batches: 100%|██████████| 1/1 [00:01<00:00,  1.92s/it]\n",
      "Running inference: 100%|██████████| 1/1 [00:01<00:00,  1.18s/it]\n",
      "Running inference: 100%|██████████| 1/1 [00:01<00:00,  1.59s/it]\n"
     ]
    },
    {
     "name": "stdout",
     "output_type": "stream",
     "text": [
      "Epoch: 013, Average Loss: 0.4804\n",
      "Validation: {'precision': 0.0, 'recall': 0.0, 'f1': 0.0, 'auc': 0.5240762942330399, 'prauc': 0.17796543816741514}\n",
      "Test:       {'precision': 0.0, 'recall': 0.0, 'f1': 0.0, 'auc': 0.5234855189529586, 'prauc': 0.17812359648780512}\n"
     ]
    },
    {
     "name": "stderr",
     "output_type": "stream",
     "text": [
      "Training Batches: 100%|██████████| 1/1 [00:01<00:00,  1.53s/it]\n",
      "Running inference: 100%|██████████| 1/1 [00:01<00:00,  1.58s/it]\n",
      "Running inference: 100%|██████████| 1/1 [00:01<00:00,  1.20s/it]\n"
     ]
    },
    {
     "name": "stdout",
     "output_type": "stream",
     "text": [
      "Epoch: 014, Average Loss: 0.4644\n",
      "Validation: {'precision': 0.0, 'recall': 0.0, 'f1': 0.0, 'auc': 0.523595416554, 'prauc': 0.1774808930025131}\n",
      "Test:       {'precision': 0.0, 'recall': 0.0, 'f1': 0.0, 'auc': 0.5233381591348225, 'prauc': 0.17771241469820762}\n",
      "\n",
      "Early stopping triggered after 14 epochs (no improvement for 10 epochs).\n",
      "\n",
      "Best validation performance:\n",
      "{'global': {'precision': 0.21768299618354633, 'recall': 0.031094485707295685, 'f1': 0.04014968738231998, 'auc': 0.555223279262441, 'prauc': 0.22282634435222481}, 'per_class':                                            precision    recall        f1  \\\n",
      "Acute and unspecified renal failure         0.000000  0.000000  0.000000   \n",
      "Acute cerebrovascular disease               0.000000  0.000000  0.000000   \n",
      "Acute myocardial infarction                 0.000000  0.000000  0.000000   \n",
      "Cardiac dysrhythmias                        0.000000  0.000000  0.000000   \n",
      "Chronic kidney disease                      0.677824  0.139295  0.231098   \n",
      "Chronic obstructive pulmonary disease       0.000000  0.000000  0.000000   \n",
      "Conduction disorders                        0.000000  0.000000  0.000000   \n",
      "Congestive heart failure; nonhypertensive   0.000000  0.000000  0.000000   \n",
      "Coronary atherosclerosis and related        0.900000  0.007395  0.014670   \n",
      "Disorders of lipid metabolism               0.921053  0.018499  0.036269   \n",
      "Essential hypertension                      0.687500  0.010481  0.020648   \n",
      "Fluid and electrolyte disorders             0.434438  0.371763  0.400664   \n",
      "Gastrointestinal hemorrhage                 0.011765  0.006803  0.008621   \n",
      "Hypertension with complications             0.000000  0.000000  0.000000   \n",
      "Other liver diseases                        0.000000  0.000000  0.000000   \n",
      "Other lower respiratory disease             0.000000  0.000000  0.000000   \n",
      "Pneumonia                                   0.285714  0.005464  0.010724   \n",
      "Septicemia (except in labor)                0.000000  0.000000  0.000000   \n",
      "\n",
      "                                                auc     prauc  \n",
      "Acute and unspecified renal failure        0.584603  0.291034  \n",
      "Acute cerebrovascular disease              0.431464  0.005872  \n",
      "Acute myocardial infarction                0.519209  0.038802  \n",
      "Cardiac dysrhythmias                       0.554308  0.315916  \n",
      "Chronic kidney disease                     0.669436  0.443254  \n",
      "Chronic obstructive pulmonary disease      0.528434  0.099505  \n",
      "Conduction disorders                       0.471872  0.019802  \n",
      "Congestive heart failure; nonhypertensive  0.596965  0.308548  \n",
      "Coronary atherosclerosis and related       0.572535  0.346867  \n",
      "Disorders of lipid metabolism              0.580431  0.499382  \n",
      "Essential hypertension                     0.545062  0.483916  \n",
      "Fluid and electrolyte disorders            0.603227  0.412450  \n",
      "Gastrointestinal hemorrhage                0.514282  0.030266  \n",
      "Hypertension with complications            0.663064  0.346585  \n",
      "Other liver diseases                       0.506374  0.011883  \n",
      "Other lower respiratory disease            0.535995  0.174876  \n",
      "Pneumonia                                  0.553154  0.092950  \n",
      "Septicemia (except in labor)               0.563605  0.088966  }\n",
      "Corresponding test performance:\n",
      "{'global': {'precision': 0.201870886652246, 'recall': 0.03502714457019091, 'f1': 0.04606575774403474, 'auc': 0.5566266414472897, 'prauc': 0.22728280413174373}, 'per_class':                                            precision    recall        f1  \\\n",
      "Acute and unspecified renal failure         0.000000  0.000000  0.000000   \n",
      "Acute cerebrovascular disease               0.000000  0.000000  0.000000   \n",
      "Acute myocardial infarction                 0.000000  0.000000  0.000000   \n",
      "Cardiac dysrhythmias                        0.000000  0.000000  0.000000   \n",
      "Chronic kidney disease                      0.782772  0.164957  0.272490   \n",
      "Chronic obstructive pulmonary disease       0.000000  0.000000  0.000000   \n",
      "Conduction disorders                        0.000000  0.000000  0.000000   \n",
      "Congestive heart failure; nonhypertensive   0.000000  0.000000  0.000000   \n",
      "Coronary atherosclerosis and related        0.913043  0.016813  0.033019   \n",
      "Disorders of lipid metabolism               0.741935  0.025068  0.048498   \n",
      "Essential hypertension                      0.706897  0.020439  0.039729   \n",
      "Fluid and electrolyte disorders             0.423239  0.378702  0.399734   \n",
      "Gastrointestinal hemorrhage                 0.065789  0.024510  0.035714   \n",
      "Hypertension with complications             0.000000  0.000000  0.000000   \n",
      "Other liver diseases                        0.000000  0.000000  0.000000   \n",
      "Other lower respiratory disease             0.000000  0.000000  0.000000   \n",
      "Pneumonia                                   0.000000  0.000000  0.000000   \n",
      "Septicemia (except in labor)                0.000000  0.000000  0.000000   \n",
      "\n",
      "                                                auc     prauc  \n",
      "Acute and unspecified renal failure        0.590430  0.286944  \n",
      "Acute cerebrovascular disease              0.388066  0.005890  \n",
      "Acute myocardial infarction                0.431027  0.031226  \n",
      "Cardiac dysrhythmias                       0.560433  0.302812  \n",
      "Chronic kidney disease                     0.693988  0.510522  \n",
      "Chronic obstructive pulmonary disease      0.518421  0.088534  \n",
      "Conduction disorders                       0.501492  0.021986  \n",
      "Congestive heart failure; nonhypertensive  0.577468  0.279736  \n",
      "Coronary atherosclerosis and related       0.603376  0.379987  \n",
      "Disorders of lipid metabolism              0.580205  0.472820  \n",
      "Essential hypertension                     0.565889  0.482977  \n",
      "Fluid and electrolyte disorders            0.613357  0.414363  \n",
      "Gastrointestinal hemorrhage                0.559450  0.049786  \n",
      "Hypertension with complications            0.686733  0.391388  \n",
      "Other liver diseases                       0.527120  0.009763  \n",
      "Other lower respiratory disease            0.526683  0.182554  \n",
      "Pneumonia                                  0.550740  0.087854  \n",
      "Septicemia (except in labor)               0.544401  0.091948  }\n",
      "Corresponding test-long performance:\n",
      "{'global': {'precision': 0.22550124639960664, 'recall': 0.05867870997963869, 'f1': 0.06138254465805712, 'auc': 0.5704542359054378, 'prauc': 0.2566384112813551}, 'per_class':                                            precision    recall        f1  \\\n",
      "Acute and unspecified renal failure         0.000000  0.000000  0.000000   \n",
      "Acute cerebrovascular disease               0.000000  0.000000  0.000000   \n",
      "Acute myocardial infarction                 0.000000  0.000000  0.000000   \n",
      "Cardiac dysrhythmias                        0.000000  0.000000  0.000000   \n",
      "Chronic kidney disease                      0.728682  0.294671  0.419643   \n",
      "Chronic obstructive pulmonary disease       0.000000  0.000000  0.000000   \n",
      "Conduction disorders                        0.000000  0.000000  0.000000   \n",
      "Congestive heart failure; nonhypertensive   0.000000  0.000000  0.000000   \n",
      "Coronary atherosclerosis and related        1.000000  0.004739  0.009434   \n",
      "Disorders of lipid metabolism               0.750000  0.020906  0.040678   \n",
      "Essential hypertension                      1.000000  0.006734  0.013378   \n",
      "Fluid and electrolyte disorders             0.449905  0.666667  0.537246   \n",
      "Gastrointestinal hemorrhage                 0.130435  0.062500  0.084507   \n",
      "Hypertension with complications             0.000000  0.000000  0.000000   \n",
      "Other liver diseases                        0.000000  0.000000  0.000000   \n",
      "Other lower respiratory disease             0.000000  0.000000  0.000000   \n",
      "Pneumonia                                   0.000000  0.000000  0.000000   \n",
      "Septicemia (except in labor)                0.000000  0.000000  0.000000   \n",
      "\n",
      "                                                auc     prauc  \n",
      "Acute and unspecified renal failure        0.525004  0.338631  \n",
      "Acute cerebrovascular disease              0.423913  0.002722  \n",
      "Acute myocardial infarction                0.404177  0.029566  \n",
      "Cardiac dysrhythmias                       0.562707  0.315675  \n",
      "Chronic kidney disease                     0.703534  0.620533  \n",
      "Chronic obstructive pulmonary disease      0.623929  0.121654  \n",
      "Conduction disorders                       0.461895  0.018198  \n",
      "Congestive heart failure; nonhypertensive  0.563452  0.344406  \n",
      "Coronary atherosclerosis and related       0.650159  0.400164  \n",
      "Disorders of lipid metabolism              0.634451  0.480557  \n",
      "Essential hypertension                     0.594863  0.418188  \n",
      "Fluid and electrolyte disorders            0.590853  0.485910  \n",
      "Gastrointestinal hemorrhage                0.629177  0.077390  \n",
      "Hypertension with complications            0.689405  0.465719  \n",
      "Other liver diseases                       0.657022  0.021264  \n",
      "Other lower respiratory disease            0.552125  0.267169  \n",
      "Pneumonia                                  0.493229  0.095534  \n",
      "Septicemia (except in labor)               0.508282  0.116213  }\n",
      "[INFO] Random seed set to 2998485882\n",
      "Training with seed: 2998485882\n"
     ]
    },
    {
     "name": "stderr",
     "output_type": "stream",
     "text": [
      "Training Batches: 100%|██████████| 1/1 [00:01<00:00,  1.94s/it]\n",
      "Running inference: 100%|██████████| 1/1 [00:00<00:00,  1.27it/s]\n",
      "Running inference: 100%|██████████| 1/1 [00:01<00:00,  1.18s/it]\n"
     ]
    },
    {
     "name": "stdout",
     "output_type": "stream",
     "text": [
      "Epoch: 001, Average Loss: 0.6933\n",
      "Validation: {'precision': 0.13747877959262267, 'recall': 0.2994859975652373, 'f1': 0.14616736372789094, 'auc': 0.5327007847266272, 'prauc': 0.19199819022289027}\n",
      "Test:       {'precision': 0.20667737406086037, 'recall': 0.30041457207708333, 'f1': 0.1518788989257139, 'auc': 0.5370029031272845, 'prauc': 0.20057764688789123}\n"
     ]
    },
    {
     "name": "stderr",
     "output_type": "stream",
     "text": [
      "Training Batches: 100%|██████████| 1/1 [00:01<00:00,  1.92s/it]\n",
      "Running inference: 100%|██████████| 1/1 [00:01<00:00,  1.61s/it]\n",
      "Running inference: 100%|██████████| 1/1 [00:00<00:00,  1.26it/s]\n"
     ]
    },
    {
     "name": "stdout",
     "output_type": "stream",
     "text": [
      "Epoch: 002, Average Loss: 0.6848\n",
      "Validation: {'precision': 0.14626039456629616, 'recall': 0.19128251896659984, 'f1': 0.11934651473543575, 'auc': 0.5569409114397678, 'prauc': 0.2088847847074274}\n",
      "Test:       {'precision': 0.21063639482512744, 'recall': 0.1871630856212042, 'f1': 0.12659163402199988, 'auc': 0.5594652647445323, 'prauc': 0.2188590929356945}\n"
     ]
    },
    {
     "name": "stderr",
     "output_type": "stream",
     "text": [
      "Training Batches: 100%|██████████| 1/1 [00:01<00:00,  1.90s/it]\n",
      "Running inference: 100%|██████████| 1/1 [00:01<00:00,  1.60s/it]\n",
      "Running inference: 100%|██████████| 1/1 [00:01<00:00,  1.20s/it]\n"
     ]
    },
    {
     "name": "stdout",
     "output_type": "stream",
     "text": [
      "Epoch: 003, Average Loss: 0.6758\n",
      "Validation: {'precision': 0.17829225505133892, 'recall': 0.08355106106591102, 'f1': 0.07122068161944578, 'auc': 0.5603015927385149, 'prauc': 0.21404374304174625}\n",
      "Test:       {'precision': 0.23047434466026426, 'recall': 0.07631750317040348, 'f1': 0.07006471010150225, 'auc': 0.5628165609538309, 'prauc': 0.2237299307958147}\n"
     ]
    },
    {
     "name": "stderr",
     "output_type": "stream",
     "text": [
      "Training Batches: 100%|██████████| 1/1 [00:01<00:00,  1.53s/it]\n",
      "Running inference: 100%|██████████| 1/1 [00:01<00:00,  1.19s/it]\n",
      "Running inference: 100%|██████████| 1/1 [00:01<00:00,  1.19s/it]\n"
     ]
    },
    {
     "name": "stdout",
     "output_type": "stream",
     "text": [
      "Epoch: 004, Average Loss: 0.6644\n",
      "Validation: {'precision': 0.13594897262407368, 'recall': 0.036993957097536855, 'f1': 0.03878298708617386, 'auc': 0.5581619360567848, 'prauc': 0.21467975751689963}\n",
      "Test:       {'precision': 0.1539384778516919, 'recall': 0.03675676228553863, 'f1': 0.03848161241202353, 'auc': 0.558823309919396, 'prauc': 0.22159798018815677}\n"
     ]
    },
    {
     "name": "stderr",
     "output_type": "stream",
     "text": [
      "Training Batches: 100%|██████████| 1/1 [00:01<00:00,  1.91s/it]\n",
      "Running inference: 100%|██████████| 1/1 [00:01<00:00,  1.19s/it]\n",
      "Running inference: 100%|██████████| 1/1 [00:01<00:00,  1.20s/it]\n"
     ]
    },
    {
     "name": "stdout",
     "output_type": "stream",
     "text": [
      "Epoch: 005, Average Loss: 0.6517\n",
      "Validation: {'precision': 0.12344988431054005, 'recall': 0.02742306826395012, 'f1': 0.025774923096894425, 'auc': 0.5535581993618168, 'prauc': 0.21137129394304885}\n",
      "Test:       {'precision': 0.11861502940031768, 'recall': 0.028210202801888757, 'f1': 0.026930533682044698, 'auc': 0.5522102223243179, 'prauc': 0.21503970973946396}\n"
     ]
    },
    {
     "name": "stderr",
     "output_type": "stream",
     "text": [
      "Training Batches: 100%|██████████| 1/1 [00:01<00:00,  1.91s/it]\n",
      "Running inference: 100%|██████████| 1/1 [00:01<00:00,  1.18s/it]\n",
      "Running inference: 100%|██████████| 1/1 [00:00<00:00,  1.24it/s]\n"
     ]
    },
    {
     "name": "stdout",
     "output_type": "stream",
     "text": [
      "Epoch: 006, Average Loss: 0.6363\n",
      "Validation: {'precision': 0.05452014269555382, 'recall': 0.02338533369650471, 'f1': 0.022419285560884815, 'auc': 0.5477166883848491, 'prauc': 0.20615961276725278}\n",
      "Test:       {'precision': 0.13556397306397308, 'recall': 0.025565634424962805, 'f1': 0.025133447852437176, 'auc': 0.5447580693059052, 'prauc': 0.20767245075036878}\n"
     ]
    },
    {
     "name": "stderr",
     "output_type": "stream",
     "text": [
      "Training Batches: 100%|██████████| 1/1 [00:01<00:00,  1.90s/it]\n",
      "Running inference: 100%|██████████| 1/1 [00:01<00:00,  1.58s/it]\n",
      "Running inference: 100%|██████████| 1/1 [00:01<00:00,  1.20s/it]\n"
     ]
    },
    {
     "name": "stdout",
     "output_type": "stream",
     "text": [
      "Epoch: 007, Average Loss: 0.6183\n",
      "Validation: {'precision': 0.026419082125603864, 'recall': 0.016719212763924716, 'f1': 0.020478614475454918, 'auc': 0.5431357650551774, 'prauc': 0.2021966988615812}\n",
      "Test:       {'precision': 0.030765825586542714, 'recall': 0.01828466193107077, 'f1': 0.022937293729372935, 'auc': 0.5393994493249201, 'prauc': 0.20231377940981377}\n"
     ]
    },
    {
     "name": "stderr",
     "output_type": "stream",
     "text": [
      "Training Batches: 100%|██████████| 1/1 [00:01<00:00,  1.51s/it]\n",
      "Running inference: 100%|██████████| 1/1 [00:01<00:00,  1.59s/it]\n",
      "Running inference: 100%|██████████| 1/1 [00:01<00:00,  1.21s/it]\n"
     ]
    },
    {
     "name": "stdout",
     "output_type": "stream",
     "text": [
      "Epoch: 008, Average Loss: 0.5981\n",
      "Validation: {'precision': 0.047619047619047616, 'recall': 0.0005732301519059903, 'f1': 0.0011328235627301047, 'auc': 0.5400698124546003, 'prauc': 0.19829717904349642}\n",
      "Test:       {'precision': 0.044444444444444446, 'recall': 0.0005261773217574323, 'f1': 0.0010400416016640667, 'auc': 0.5360009559910309, 'prauc': 0.1979513476011827}\n"
     ]
    },
    {
     "name": "stderr",
     "output_type": "stream",
     "text": [
      "Training Batches: 100%|██████████| 1/1 [00:01<00:00,  1.54s/it]\n",
      "Running inference: 100%|██████████| 1/1 [00:01<00:00,  1.19s/it]\n",
      "Running inference: 100%|██████████| 1/1 [00:01<00:00,  1.60s/it]\n"
     ]
    },
    {
     "name": "stdout",
     "output_type": "stream",
     "text": [
      "Epoch: 009, Average Loss: 0.5754\n",
      "Validation: {'precision': 0.0, 'recall': 0.0, 'f1': 0.0, 'auc': 0.537224029113782, 'prauc': 0.19153447499172233}\n",
      "Test:       {'precision': 0.0, 'recall': 0.0, 'f1': 0.0, 'auc': 0.5328035719354406, 'prauc': 0.19099909989917543}\n"
     ]
    },
    {
     "name": "stderr",
     "output_type": "stream",
     "text": [
      "Training Batches: 100%|██████████| 1/1 [00:01<00:00,  1.52s/it]\n",
      "Running inference: 100%|██████████| 1/1 [00:01<00:00,  1.19s/it]\n",
      "Running inference: 100%|██████████| 1/1 [00:01<00:00,  1.19s/it]\n"
     ]
    },
    {
     "name": "stdout",
     "output_type": "stream",
     "text": [
      "Epoch: 010, Average Loss: 0.5516\n",
      "Validation: {'precision': 0.0, 'recall': 0.0, 'f1': 0.0, 'auc': 0.5339420291168596, 'prauc': 0.1860918819369267}\n",
      "Test:       {'precision': 0.0, 'recall': 0.0, 'f1': 0.0, 'auc': 0.5291830252790692, 'prauc': 0.1856772419821287}\n"
     ]
    },
    {
     "name": "stderr",
     "output_type": "stream",
     "text": [
      "Training Batches: 100%|██████████| 1/1 [00:01<00:00,  1.93s/it]\n",
      "Running inference: 100%|██████████| 1/1 [00:01<00:00,  1.19s/it]\n",
      "Running inference: 100%|██████████| 1/1 [00:01<00:00,  1.19s/it]\n"
     ]
    },
    {
     "name": "stdout",
     "output_type": "stream",
     "text": [
      "Epoch: 011, Average Loss: 0.5282\n",
      "Validation: {'precision': 0.0, 'recall': 0.0, 'f1': 0.0, 'auc': 0.5315379405443013, 'prauc': 0.18276823812460932}\n",
      "Test:       {'precision': 0.0, 'recall': 0.0, 'f1': 0.0, 'auc': 0.5268900836619814, 'prauc': 0.18269041251311716}\n"
     ]
    },
    {
     "name": "stderr",
     "output_type": "stream",
     "text": [
      "Training Batches: 100%|██████████| 1/1 [00:01<00:00,  1.93s/it]\n",
      "Running inference: 100%|██████████| 1/1 [00:01<00:00,  1.20s/it]\n",
      "Running inference: 100%|██████████| 1/1 [00:00<00:00,  1.27it/s]\n"
     ]
    },
    {
     "name": "stdout",
     "output_type": "stream",
     "text": [
      "Epoch: 012, Average Loss: 0.5050\n",
      "Validation: {'precision': 0.0, 'recall': 0.0, 'f1': 0.0, 'auc': 0.5297173593639916, 'prauc': 0.1804708324236223}\n",
      "Test:       {'precision': 0.0, 'recall': 0.0, 'f1': 0.0, 'auc': 0.5253325661141838, 'prauc': 0.180884236736946}\n"
     ]
    },
    {
     "name": "stderr",
     "output_type": "stream",
     "text": [
      "Training Batches: 100%|██████████| 1/1 [00:01<00:00,  1.89s/it]\n",
      "Running inference: 100%|██████████| 1/1 [00:01<00:00,  1.58s/it]\n",
      "Running inference: 100%|██████████| 1/1 [00:01<00:00,  1.20s/it]\n"
     ]
    },
    {
     "name": "stdout",
     "output_type": "stream",
     "text": [
      "Epoch: 013, Average Loss: 0.4840\n",
      "Validation: {'precision': 0.0, 'recall': 0.0, 'f1': 0.0, 'auc': 0.5287814653773462, 'prauc': 0.17907017024439967}\n",
      "Test:       {'precision': 0.0, 'recall': 0.0, 'f1': 0.0, 'auc': 0.5245957042346732, 'prauc': 0.1796624373710283}\n"
     ]
    },
    {
     "name": "stderr",
     "output_type": "stream",
     "text": [
      "Training Batches: 100%|██████████| 1/1 [00:01<00:00,  1.52s/it]\n",
      "Running inference: 100%|██████████| 1/1 [00:01<00:00,  1.59s/it]\n",
      "Running inference: 100%|██████████| 1/1 [00:01<00:00,  1.21s/it]\n"
     ]
    },
    {
     "name": "stdout",
     "output_type": "stream",
     "text": [
      "Epoch: 014, Average Loss: 0.4664\n",
      "Validation: {'precision': 0.0, 'recall': 0.0, 'f1': 0.0, 'auc': 0.5283097949277855, 'prauc': 0.17838504206246308}\n",
      "Test:       {'precision': 0.0, 'recall': 0.0, 'f1': 0.0, 'auc': 0.5243398200390328, 'prauc': 0.1790503012917567}\n",
      "\n",
      "Early stopping triggered after 14 epochs (no improvement for 10 epochs).\n",
      "\n",
      "Best validation performance:\n",
      "{'global': {'precision': 0.13594897262407368, 'recall': 0.036993957097536855, 'f1': 0.03878298708617386, 'auc': 0.5581619360567848, 'prauc': 0.21467975751689963}, 'per_class':                                            precision    recall        f1  \\\n",
      "Acute and unspecified renal failure         0.000000  0.000000  0.000000   \n",
      "Acute cerebrovascular disease               0.000000  0.000000  0.000000   \n",
      "Acute myocardial infarction                 0.000000  0.000000  0.000000   \n",
      "Cardiac dysrhythmias                        0.448052  0.151205  0.226106   \n",
      "Chronic kidney disease                      0.357325  0.482373  0.410538   \n",
      "Chronic obstructive pulmonary disease       0.000000  0.000000  0.000000   \n",
      "Conduction disorders                        0.000000  0.000000  0.000000   \n",
      "Congestive heart failure; nonhypertensive   0.397260  0.025618  0.048133   \n",
      "Coronary atherosclerosis and related        0.000000  0.000000  0.000000   \n",
      "Disorders of lipid metabolism               0.800000  0.004228  0.008412   \n",
      "Essential hypertension                      0.000000  0.000000  0.000000   \n",
      "Fluid and electrolyte disorders             0.444444  0.002466  0.004905   \n",
      "Gastrointestinal hemorrhage                 0.000000  0.000000  0.000000   \n",
      "Hypertension with complications             0.000000  0.000000  0.000000   \n",
      "Other liver diseases                        0.000000  0.000000  0.000000   \n",
      "Other lower respiratory disease             0.000000  0.000000  0.000000   \n",
      "Pneumonia                                   0.000000  0.000000  0.000000   \n",
      "Septicemia (except in labor)                0.000000  0.000000  0.000000   \n",
      "\n",
      "                                                auc     prauc  \n",
      "Acute and unspecified renal failure        0.587112  0.291711  \n",
      "Acute cerebrovascular disease              0.452709  0.006803  \n",
      "Acute myocardial infarction                0.560285  0.046074  \n",
      "Cardiac dysrhythmias                       0.595659  0.361264  \n",
      "Chronic kidney disease                     0.648356  0.368385  \n",
      "Chronic obstructive pulmonary disease      0.502925  0.086806  \n",
      "Conduction disorders                       0.479980  0.020498  \n",
      "Congestive heart failure; nonhypertensive  0.640231  0.344447  \n",
      "Coronary atherosclerosis and related       0.565968  0.322907  \n",
      "Disorders of lipid metabolism              0.569009  0.465511  \n",
      "Essential hypertension                     0.550676  0.469111  \n",
      "Fluid and electrolyte disorders            0.571735  0.371269  \n",
      "Gastrointestinal hemorrhage                0.509960  0.032272  \n",
      "Hypertension with complications            0.641324  0.315691  \n",
      "Other liver diseases                       0.525385  0.011707  \n",
      "Other lower respiratory disease            0.512714  0.158975  \n",
      "Pneumonia                                  0.541968  0.085283  \n",
      "Septicemia (except in labor)               0.590919  0.105521  }\n",
      "Corresponding test performance:\n",
      "{'global': {'precision': 0.1539384778516919, 'recall': 0.03675676228553863, 'f1': 0.03848161241202353, 'auc': 0.558823309919396, 'prauc': 0.22159798018815677}, 'per_class':                                            precision    recall        f1  \\\n",
      "Acute and unspecified renal failure         0.000000  0.000000  0.000000   \n",
      "Acute cerebrovascular disease               0.000000  0.000000  0.000000   \n",
      "Acute myocardial infarction                 0.000000  0.000000  0.000000   \n",
      "Cardiac dysrhythmias                        0.389423  0.122080  0.185886   \n",
      "Chronic kidney disease                      0.397531  0.508287  0.446138   \n",
      "Chronic obstructive pulmonary disease       0.000000  0.000000  0.000000   \n",
      "Conduction disorders                        0.000000  0.000000  0.000000   \n",
      "Congestive heart failure; nonhypertensive   0.322034  0.016422  0.031250   \n",
      "Coronary atherosclerosis and related        0.000000  0.000000  0.000000   \n",
      "Disorders of lipid metabolism               0.928571  0.007084  0.014062   \n",
      "Essential hypertension                      0.000000  0.000000  0.000000   \n",
      "Fluid and electrolyte disorders             0.333333  0.003151  0.006242   \n",
      "Gastrointestinal hemorrhage                 0.000000  0.000000  0.000000   \n",
      "Hypertension with complications             0.000000  0.000000  0.000000   \n",
      "Other liver diseases                        0.000000  0.000000  0.000000   \n",
      "Other lower respiratory disease             0.000000  0.000000  0.000000   \n",
      "Pneumonia                                   0.000000  0.000000  0.000000   \n",
      "Septicemia (except in labor)                0.400000  0.004598  0.009091   \n",
      "\n",
      "                                                auc     prauc  \n",
      "Acute and unspecified renal failure        0.597533  0.290486  \n",
      "Acute cerebrovascular disease              0.401096  0.005917  \n",
      "Acute myocardial infarction                0.483483  0.036783  \n",
      "Cardiac dysrhythmias                       0.574767  0.319651  \n",
      "Chronic kidney disease                     0.670475  0.442296  \n",
      "Chronic obstructive pulmonary disease      0.517012  0.086210  \n",
      "Conduction disorders                       0.520836  0.023148  \n",
      "Congestive heart failure; nonhypertensive  0.630585  0.331821  \n",
      "Coronary atherosclerosis and related       0.591545  0.374044  \n",
      "Disorders of lipid metabolism              0.560512  0.450269  \n",
      "Essential hypertension                     0.568388  0.470472  \n",
      "Fluid and electrolyte disorders            0.585025  0.373007  \n",
      "Gastrointestinal hemorrhage                0.532974  0.044266  \n",
      "Hypertension with complications            0.666548  0.349594  \n",
      "Other liver diseases                       0.497569  0.009271  \n",
      "Other lower respiratory disease            0.506579  0.170396  \n",
      "Pneumonia                                  0.560199  0.090483  \n",
      "Septicemia (except in labor)               0.593692  0.120650  }\n",
      "Corresponding test-long performance:\n",
      "{'global': {'precision': 0.11869046000012953, 'recall': 0.053122696575559396, 'f1': 0.044926885774386555, 'auc': 0.5542890973111925, 'prauc': 0.2495672841455332}, 'per_class':                                            precision    recall        f1  \\\n",
      "Acute and unspecified renal failure         0.000000  0.000000  0.000000   \n",
      "Acute cerebrovascular disease               0.000000  0.000000  0.000000   \n",
      "Acute myocardial infarction                 0.000000  0.000000  0.000000   \n",
      "Cardiac dysrhythmias                        0.389474  0.148594  0.215116   \n",
      "Chronic kidney disease                      0.413621  0.780564  0.540717   \n",
      "Chronic obstructive pulmonary disease       0.000000  0.000000  0.000000   \n",
      "Conduction disorders                        0.000000  0.000000  0.000000   \n",
      "Congestive heart failure; nonhypertensive   0.500000  0.014815  0.028777   \n",
      "Coronary atherosclerosis and related        0.000000  0.000000  0.000000   \n",
      "Disorders of lipid metabolism               0.000000  0.000000  0.000000   \n",
      "Essential hypertension                      0.000000  0.000000  0.000000   \n",
      "Fluid and electrolyte disorders             0.333333  0.002801  0.005556   \n",
      "Gastrointestinal hemorrhage                 0.000000  0.000000  0.000000   \n",
      "Hypertension with complications             0.000000  0.000000  0.000000   \n",
      "Other liver diseases                        0.000000  0.000000  0.000000   \n",
      "Other lower respiratory disease             0.000000  0.000000  0.000000   \n",
      "Pneumonia                                   0.000000  0.000000  0.000000   \n",
      "Septicemia (except in labor)                0.500000  0.009434  0.018519   \n",
      "\n",
      "                                                auc     prauc  \n",
      "Acute and unspecified renal failure        0.558351  0.353539  \n",
      "Acute cerebrovascular disease              0.352975  0.001825  \n",
      "Acute myocardial infarction                0.428132  0.029966  \n",
      "Cardiac dysrhythmias                       0.541778  0.318537  \n",
      "Chronic kidney disease                     0.652567  0.552834  \n",
      "Chronic obstructive pulmonary disease      0.605790  0.113794  \n",
      "Conduction disorders                       0.461215  0.019969  \n",
      "Congestive heart failure; nonhypertensive  0.655925  0.429442  \n",
      "Coronary atherosclerosis and related       0.593130  0.317687  \n",
      "Disorders of lipid metabolism              0.593902  0.454881  \n",
      "Essential hypertension                     0.576153  0.406541  \n",
      "Fluid and electrolyte disorders            0.508711  0.427391  \n",
      "Gastrointestinal hemorrhage                0.578528  0.079414  \n",
      "Hypertension with complications            0.660420  0.448426  \n",
      "Other liver diseases                       0.587481  0.022736  \n",
      "Other lower respiratory disease            0.547972  0.242472  \n",
      "Pneumonia                                  0.499058  0.101755  \n",
      "Septicemia (except in labor)               0.575116  0.171002  }\n",
      "[INFO] Random seed set to 1461364854\n",
      "Training with seed: 1461364854\n"
     ]
    },
    {
     "name": "stderr",
     "output_type": "stream",
     "text": [
      "Training Batches: 100%|██████████| 1/1 [00:01<00:00,  1.53s/it]\n",
      "Running inference: 100%|██████████| 1/1 [00:01<00:00,  1.19s/it]\n",
      "Running inference: 100%|██████████| 1/1 [00:01<00:00,  1.61s/it]\n"
     ]
    },
    {
     "name": "stdout",
     "output_type": "stream",
     "text": [
      "Epoch: 001, Average Loss: 0.6959\n",
      "Validation: {'precision': 0.15155705314045578, 'recall': 0.38979122191122856, 'f1': 0.17931815317077843, 'auc': 0.528639482307296, 'prauc': 0.1881815116214282}\n",
      "Test:       {'precision': 0.18050528517302342, 'recall': 0.40007484164502977, 'f1': 0.18952790183610638, 'auc': 0.5365443160307852, 'prauc': 0.1943148254473981}\n"
     ]
    },
    {
     "name": "stderr",
     "output_type": "stream",
     "text": [
      "Training Batches: 100%|██████████| 1/1 [00:01<00:00,  1.52s/it]\n",
      "Running inference: 100%|██████████| 1/1 [00:01<00:00,  1.18s/it]\n",
      "Running inference: 100%|██████████| 1/1 [00:01<00:00,  1.61s/it]\n"
     ]
    },
    {
     "name": "stdout",
     "output_type": "stream",
     "text": [
      "Epoch: 002, Average Loss: 0.6871\n",
      "Validation: {'precision': 0.1910947488618778, 'recall': 0.1794939942184477, 'f1': 0.1300400256264605, 'auc': 0.5494526808917062, 'prauc': 0.2059761971626105}\n",
      "Test:       {'precision': 0.21633436940283934, 'recall': 0.17243065040149722, 'f1': 0.12745511562884695, 'auc': 0.5529972729175375, 'prauc': 0.21292305151773297}\n"
     ]
    },
    {
     "name": "stderr",
     "output_type": "stream",
     "text": [
      "Training Batches: 100%|██████████| 1/1 [00:01<00:00,  1.50s/it]\n",
      "Running inference: 100%|██████████| 1/1 [00:01<00:00,  1.57s/it]\n",
      "Running inference: 100%|██████████| 1/1 [00:01<00:00,  1.16s/it]\n"
     ]
    },
    {
     "name": "stdout",
     "output_type": "stream",
     "text": [
      "Epoch: 003, Average Loss: 0.6772\n",
      "Validation: {'precision': 0.21417958979225163, 'recall': 0.0686023204362364, 'f1': 0.06273744579968446, 'auc': 0.5518391432649684, 'prauc': 0.21139056394878497}\n",
      "Test:       {'precision': 0.22081288394131485, 'recall': 0.07044766332818969, 'f1': 0.0619001739677445, 'auc': 0.5547701772188541, 'prauc': 0.22081894478477737}\n"
     ]
    },
    {
     "name": "stderr",
     "output_type": "stream",
     "text": [
      "Training Batches: 100%|██████████| 1/1 [00:01<00:00,  1.92s/it]\n",
      "Running inference: 100%|██████████| 1/1 [00:00<00:00,  1.26it/s]\n",
      "Running inference: 100%|██████████| 1/1 [00:01<00:00,  1.18s/it]\n"
     ]
    },
    {
     "name": "stdout",
     "output_type": "stream",
     "text": [
      "Epoch: 004, Average Loss: 0.6664\n",
      "Validation: {'precision': 0.16284708983072546, 'recall': 0.03814490691000268, 'f1': 0.033842504121739767, 'auc': 0.5491446261818929, 'prauc': 0.2078643506001375}\n",
      "Test:       {'precision': 0.11259098012254773, 'recall': 0.03926776608614819, 'f1': 0.03563816417418431, 'auc': 0.5499065824281103, 'prauc': 0.21695113315545236}\n"
     ]
    },
    {
     "name": "stderr",
     "output_type": "stream",
     "text": [
      "Training Batches: 100%|██████████| 1/1 [00:01<00:00,  1.92s/it]\n",
      "Running inference: 100%|██████████| 1/1 [00:01<00:00,  1.18s/it]\n",
      "Running inference: 100%|██████████| 1/1 [00:01<00:00,  1.58s/it]\n"
     ]
    },
    {
     "name": "stdout",
     "output_type": "stream",
     "text": [
      "Epoch: 005, Average Loss: 0.6532\n",
      "Validation: {'precision': 0.04490159378367648, 'recall': 0.031033193867356798, 'f1': 0.023511937436084276, 'auc': 0.5438337401456921, 'prauc': 0.20109176663768127}\n",
      "Test:       {'precision': 0.05073302469135802, 'recall': 0.03216838128952614, 'f1': 0.02549005822062673, 'auc': 0.5432010731095077, 'prauc': 0.20884157438545853}\n"
     ]
    },
    {
     "name": "stderr",
     "output_type": "stream",
     "text": [
      "Training Batches: 100%|██████████| 1/1 [00:01<00:00,  1.96s/it]\n",
      "Running inference: 100%|██████████| 1/1 [00:00<00:00,  1.25it/s]\n",
      "Running inference: 100%|██████████| 1/1 [00:01<00:00,  1.62s/it]\n"
     ]
    },
    {
     "name": "stdout",
     "output_type": "stream",
     "text": [
      "Epoch: 006, Average Loss: 0.6381\n",
      "Validation: {'precision': 0.01879459734964322, 'recall': 0.02818381580204452, 'f1': 0.02255093070366548, 'auc': 0.5387618441547136, 'prauc': 0.1943643558117516}\n",
      "Test:       {'precision': 0.048442308900194714, 'recall': 0.02887975117006256, 'f1': 0.02413672786529187, 'auc': 0.537189921475305, 'prauc': 0.20016921127967235}\n"
     ]
    },
    {
     "name": "stderr",
     "output_type": "stream",
     "text": [
      "Training Batches: 100%|██████████| 1/1 [00:01<00:00,  1.50s/it]\n",
      "Running inference: 100%|██████████| 1/1 [00:01<00:00,  1.58s/it]\n",
      "Running inference: 100%|██████████| 1/1 [00:01<00:00,  1.19s/it]\n"
     ]
    },
    {
     "name": "stdout",
     "output_type": "stream",
     "text": [
      "Epoch: 007, Average Loss: 0.6207\n",
      "Validation: {'precision': 0.023624091381100727, 'recall': 0.008693990637240852, 'f1': 0.01271038480340806, 'auc': 0.5353135544873312, 'prauc': 0.18915248756585515}\n",
      "Test:       {'precision': 0.02797293780900338, 'recall': 0.009427343681487328, 'f1': 0.014102059556605012, 'auc': 0.532872962131959, 'prauc': 0.19354711030241872}\n"
     ]
    },
    {
     "name": "stderr",
     "output_type": "stream",
     "text": [
      "Training Batches: 100%|██████████| 1/1 [00:01<00:00,  1.94s/it]\n",
      "Running inference: 100%|██████████| 1/1 [00:00<00:00,  1.26it/s]\n",
      "Running inference: 100%|██████████| 1/1 [00:01<00:00,  1.18s/it]\n"
     ]
    },
    {
     "name": "stdout",
     "output_type": "stream",
     "text": [
      "Epoch: 008, Average Loss: 0.6007\n",
      "Validation: {'precision': 0.018518518518518517, 'recall': 4.776917932549919e-05, 'f1': 9.52925481227368e-05, 'auc': 0.5329107413607983, 'prauc': 0.18449154330228323}\n",
      "Test:       {'precision': 0.0, 'recall': 0.0, 'f1': 0.0, 'auc': 0.5296491517025667, 'prauc': 0.18740324865380917}\n"
     ]
    },
    {
     "name": "stderr",
     "output_type": "stream",
     "text": [
      "Training Batches: 100%|██████████| 1/1 [00:01<00:00,  1.89s/it]\n",
      "Running inference: 100%|██████████| 1/1 [00:01<00:00,  1.18s/it]\n",
      "Running inference: 100%|██████████| 1/1 [00:01<00:00,  1.58s/it]\n"
     ]
    },
    {
     "name": "stdout",
     "output_type": "stream",
     "text": [
      "Epoch: 009, Average Loss: 0.5787\n",
      "Validation: {'precision': 0.0, 'recall': 0.0, 'f1': 0.0, 'auc': 0.5303772092972233, 'prauc': 0.18051275056930002}\n",
      "Test:       {'precision': 0.0, 'recall': 0.0, 'f1': 0.0, 'auc': 0.5263706545151883, 'prauc': 0.18281113941121002}\n"
     ]
    },
    {
     "name": "stderr",
     "output_type": "stream",
     "text": [
      "Training Batches: 100%|██████████| 1/1 [00:01<00:00,  1.97s/it]\n",
      "Running inference: 100%|██████████| 1/1 [00:00<00:00,  1.26it/s]\n",
      "Running inference: 100%|██████████| 1/1 [00:01<00:00,  1.58s/it]\n"
     ]
    },
    {
     "name": "stdout",
     "output_type": "stream",
     "text": [
      "Epoch: 010, Average Loss: 0.5554\n",
      "Validation: {'precision': 0.0, 'recall': 0.0, 'f1': 0.0, 'auc': 0.5291731155201472, 'prauc': 0.17851108241825697}\n",
      "Test:       {'precision': 0.0, 'recall': 0.0, 'f1': 0.0, 'auc': 0.5244784118003452, 'prauc': 0.18018324728783128}\n"
     ]
    },
    {
     "name": "stderr",
     "output_type": "stream",
     "text": [
      "Training Batches: 100%|██████████| 1/1 [00:01<00:00,  1.52s/it]\n",
      "Running inference: 100%|██████████| 1/1 [00:01<00:00,  1.56s/it]\n",
      "Running inference: 100%|██████████| 1/1 [00:01<00:00,  1.20s/it]\n"
     ]
    },
    {
     "name": "stdout",
     "output_type": "stream",
     "text": [
      "Epoch: 011, Average Loss: 0.5318\n",
      "Validation: {'precision': 0.0, 'recall': 0.0, 'f1': 0.0, 'auc': 0.5285626522899767, 'prauc': 0.1769756772817957}\n",
      "Test:       {'precision': 0.0, 'recall': 0.0, 'f1': 0.0, 'auc': 0.5235767115671993, 'prauc': 0.17846206256410785}\n"
     ]
    },
    {
     "name": "stderr",
     "output_type": "stream",
     "text": [
      "Training Batches: 100%|██████████| 1/1 [00:01<00:00,  1.94s/it]\n",
      "Running inference: 100%|██████████| 1/1 [00:00<00:00,  1.26it/s]\n",
      "Running inference: 100%|██████████| 1/1 [00:01<00:00,  1.18s/it]\n"
     ]
    },
    {
     "name": "stdout",
     "output_type": "stream",
     "text": [
      "Epoch: 012, Average Loss: 0.5095\n",
      "Validation: {'precision': 0.0, 'recall': 0.0, 'f1': 0.0, 'auc': 0.5279985514075372, 'prauc': 0.17594996406536886}\n",
      "Test:       {'precision': 0.0, 'recall': 0.0, 'f1': 0.0, 'auc': 0.5229790639156173, 'prauc': 0.17724550877068093}\n"
     ]
    },
    {
     "name": "stderr",
     "output_type": "stream",
     "text": [
      "Training Batches: 100%|██████████| 1/1 [00:01<00:00,  1.90s/it]\n",
      "Running inference: 100%|██████████| 1/1 [00:01<00:00,  1.17s/it]\n",
      "Running inference: 100%|██████████| 1/1 [00:01<00:00,  1.58s/it]\n"
     ]
    },
    {
     "name": "stdout",
     "output_type": "stream",
     "text": [
      "Epoch: 013, Average Loss: 0.4880\n",
      "Validation: {'precision': 0.0, 'recall': 0.0, 'f1': 0.0, 'auc': 0.5276975066405334, 'prauc': 0.1753565540239515}\n",
      "Test:       {'precision': 0.0, 'recall': 0.0, 'f1': 0.0, 'auc': 0.5227293921112185, 'prauc': 0.17645949121295842}\n",
      "\n",
      "Early stopping triggered after 13 epochs (no improvement for 10 epochs).\n",
      "\n",
      "Best validation performance:\n",
      "{'global': {'precision': 0.21417958979225163, 'recall': 0.0686023204362364, 'f1': 0.06273744579968446, 'auc': 0.5518391432649684, 'prauc': 0.21139056394878497}, 'per_class':                                            precision    recall        f1  \\\n",
      "Acute and unspecified renal failure         0.000000  0.000000  0.000000   \n",
      "Acute cerebrovascular disease               0.001812  0.027027  0.003396   \n",
      "Acute myocardial infarction                 0.000000  0.000000  0.000000   \n",
      "Cardiac dysrhythmias                        0.210526  0.005844  0.011372   \n",
      "Chronic kidney disease                      0.320711  0.589854  0.415506   \n",
      "Chronic obstructive pulmonary disease       0.166667  0.002232  0.004405   \n",
      "Conduction disorders                        0.000000  0.000000  0.000000   \n",
      "Congestive heart failure; nonhypertensive   0.369565  0.015018  0.028862   \n",
      "Coronary atherosclerosis and related        0.812500  0.010682  0.021087   \n",
      "Disorders of lipid metabolism               0.663158  0.033298  0.063412   \n",
      "Essential hypertension                      0.492768  0.486899  0.489815   \n",
      "Fluid and electrolyte disorders             0.666667  0.011097  0.021831   \n",
      "Gastrointestinal hemorrhage                 0.000000  0.000000  0.000000   \n",
      "Hypertension with complications             0.000000  0.000000  0.000000   \n",
      "Other liver diseases                        0.000000  0.000000  0.000000   \n",
      "Other lower respiratory disease             0.074627  0.006443  0.011862   \n",
      "Pneumonia                                   0.076233  0.046448  0.057725   \n",
      "Septicemia (except in labor)                0.000000  0.000000  0.000000   \n",
      "\n",
      "                                                auc     prauc  \n",
      "Acute and unspecified renal failure        0.601126  0.303407  \n",
      "Acute cerebrovascular disease              0.425909  0.005917  \n",
      "Acute myocardial infarction                0.533586  0.040976  \n",
      "Cardiac dysrhythmias                       0.540446  0.304039  \n",
      "Chronic kidney disease                     0.646349  0.367884  \n",
      "Chronic obstructive pulmonary disease      0.500874  0.086238  \n",
      "Conduction disorders                       0.471210  0.021288  \n",
      "Congestive heart failure; nonhypertensive  0.636886  0.322182  \n",
      "Coronary atherosclerosis and related       0.548587  0.308943  \n",
      "Disorders of lipid metabolism              0.566373  0.466584  \n",
      "Essential hypertension                     0.599490  0.500394  \n",
      "Fluid and electrolyte disorders            0.599461  0.401154  \n",
      "Gastrointestinal hemorrhage                0.502918  0.031474  \n",
      "Hypertension with complications            0.644332  0.317814  \n",
      "Other liver diseases                       0.505354  0.010864  \n",
      "Other lower respiratory disease            0.516743  0.153624  \n",
      "Pneumonia                                  0.535383  0.077469  \n",
      "Septicemia (except in labor)               0.558076  0.084778  }\n",
      "Corresponding test performance:\n",
      "{'global': {'precision': 0.22081288394131485, 'recall': 0.07044766332818969, 'f1': 0.0619001739677445, 'auc': 0.5547701772188541, 'prauc': 0.22081894478477737}, 'per_class':                                            precision    recall        f1  \\\n",
      "Acute and unspecified renal failure         0.000000  0.000000  0.000000   \n",
      "Acute cerebrovascular disease               0.005917  0.076923  0.010989   \n",
      "Acute myocardial infarction                 0.000000  0.000000  0.000000   \n",
      "Cardiac dysrhythmias                        0.270833  0.009797  0.018909   \n",
      "Chronic kidney disease                      0.350764  0.598264  0.442240   \n",
      "Chronic obstructive pulmonary disease       0.000000  0.000000  0.000000   \n",
      "Conduction disorders                        0.031250  0.008772  0.013699   \n",
      "Congestive heart failure; nonhypertensive   0.173913  0.006914  0.013300   \n",
      "Coronary atherosclerosis and related        0.666667  0.009608  0.018942   \n",
      "Disorders of lipid metabolism               0.552632  0.022888  0.043956   \n",
      "Essential hypertension                      0.476767  0.491027  0.483792   \n",
      "Fluid and electrolyte disorders             0.423077  0.006931  0.013639   \n",
      "Gastrointestinal hemorrhage                 0.000000  0.000000  0.000000   \n",
      "Hypertension with complications             0.875000  0.006554  0.013011   \n",
      "Other liver diseases                        0.000000  0.000000  0.000000   \n",
      "Other lower respiratory disease             0.102564  0.004673  0.008939   \n",
      "Pneumonia                                   0.045249  0.025707  0.032787   \n",
      "Septicemia (except in labor)                0.000000  0.000000  0.000000   \n",
      "\n",
      "                                                auc     prauc  \n",
      "Acute and unspecified renal failure        0.619932  0.312418  \n",
      "Acute cerebrovascular disease              0.399210  0.006213  \n",
      "Acute myocardial infarction                0.458180  0.034708  \n",
      "Cardiac dysrhythmias                       0.552767  0.296119  \n",
      "Chronic kidney disease                     0.672458  0.456925  \n",
      "Chronic obstructive pulmonary disease      0.511225  0.084917  \n",
      "Conduction disorders                       0.500397  0.022096  \n",
      "Congestive heart failure; nonhypertensive  0.643635  0.324764  \n",
      "Coronary atherosclerosis and related       0.557820  0.319604  \n",
      "Disorders of lipid metabolism              0.562494  0.439661  \n",
      "Essential hypertension                     0.599803  0.488855  \n",
      "Fluid and electrolyte disorders            0.606653  0.391479  \n",
      "Gastrointestinal hemorrhage                0.542566  0.046085  \n",
      "Hypertension with complications            0.670317  0.403041  \n",
      "Other liver diseases                       0.506108  0.008888  \n",
      "Other lower respiratory disease            0.513894  0.169853  \n",
      "Pneumonia                                  0.532606  0.079782  \n",
      "Septicemia (except in labor)               0.535798  0.089332  }\n",
      "Corresponding test-long performance:\n",
      "{'global': {'precision': 0.3251243612354723, 'recall': 0.0663300460846998, 'f1': 0.060501403761336135, 'auc': 0.5583179903711898, 'prauc': 0.2556144230631699}, 'per_class':                                            precision    recall        f1  \\\n",
      "Acute and unspecified renal failure         0.000000  0.000000  0.000000   \n",
      "Acute cerebrovascular disease               0.000000  0.000000  0.000000   \n",
      "Acute myocardial infarction                 0.000000  0.000000  0.000000   \n",
      "Cardiac dysrhythmias                        0.125000  0.004016  0.007782   \n",
      "Chronic kidney disease                      0.383191  0.843260  0.526934   \n",
      "Chronic obstructive pulmonary disease       0.000000  0.000000  0.000000   \n",
      "Conduction disorders                        0.333333  0.055556  0.095238   \n",
      "Congestive heart failure; nonhypertensive   0.428571  0.011111  0.021661   \n",
      "Coronary atherosclerosis and related        0.666667  0.009479  0.018692   \n",
      "Disorders of lipid metabolism               0.750000  0.020906  0.040678   \n",
      "Essential hypertension                      0.482143  0.181818  0.264059   \n",
      "Fluid and electrolyte disorders             0.600000  0.008403  0.016575   \n",
      "Gastrointestinal hemorrhage                 0.000000  0.000000  0.000000   \n",
      "Hypertension with complications             1.000000  0.019380  0.038023   \n",
      "Other liver diseases                        0.000000  0.000000  0.000000   \n",
      "Other lower respiratory disease             1.000000  0.005128  0.010204   \n",
      "Pneumonia                                   0.083333  0.034884  0.049180   \n",
      "Septicemia (except in labor)                0.000000  0.000000  0.000000   \n",
      "\n",
      "                                                auc     prauc  \n",
      "Acute and unspecified renal failure        0.563733  0.346363  \n",
      "Acute cerebrovascular disease              0.388444  0.002132  \n",
      "Acute myocardial infarction                0.413160  0.026327  \n",
      "Cardiac dysrhythmias                       0.552865  0.307405  \n",
      "Chronic kidney disease                     0.673461  0.607842  \n",
      "Chronic obstructive pulmonary disease      0.605026  0.118326  \n",
      "Conduction disorders                       0.465618  0.032229  \n",
      "Congestive heart failure; nonhypertensive  0.661188  0.418061  \n",
      "Coronary atherosclerosis and related       0.542237  0.288695  \n",
      "Disorders of lipid metabolism              0.619212  0.455753  \n",
      "Essential hypertension                     0.615379  0.441116  \n",
      "Fluid and electrolyte disorders            0.550285  0.453634  \n",
      "Gastrointestinal hemorrhage                0.599361  0.073551  \n",
      "Hypertension with complications            0.671694  0.527702  \n",
      "Other liver diseases                       0.598476  0.015621  \n",
      "Other lower respiratory disease            0.551659  0.263784  \n",
      "Pneumonia                                  0.482301  0.105529  \n",
      "Septicemia (except in labor)               0.495626  0.116988  }\n",
      "[INFO] Random seed set to 667779376\n",
      "Training with seed: 667779376\n"
     ]
    },
    {
     "name": "stderr",
     "output_type": "stream",
     "text": [
      "Training Batches: 100%|██████████| 1/1 [00:01<00:00,  1.95s/it]\n",
      "Running inference: 100%|██████████| 1/1 [00:00<00:00,  1.27it/s]\n",
      "Running inference: 100%|██████████| 1/1 [00:01<00:00,  1.52s/it]\n"
     ]
    },
    {
     "name": "stdout",
     "output_type": "stream",
     "text": [
      "Epoch: 001, Average Loss: 0.6877\n",
      "Validation: {'precision': 0.11418339257418844, 'recall': 0.2639081555176467, 'f1': 0.13150637708950524, 'auc': 0.5466298624867042, 'prauc': 0.19685273667061953}\n",
      "Test:       {'precision': 0.11721625849883553, 'recall': 0.2642784145620747, 'f1': 0.13428441576673492, 'auc': 0.5501232609591551, 'prauc': 0.2037891637392447}\n"
     ]
    },
    {
     "name": "stderr",
     "output_type": "stream",
     "text": [
      "Training Batches: 100%|██████████| 1/1 [00:01<00:00,  1.53s/it]\n",
      "Running inference: 100%|██████████| 1/1 [00:01<00:00,  1.59s/it]\n",
      "Running inference: 100%|██████████| 1/1 [00:01<00:00,  1.20s/it]\n"
     ]
    },
    {
     "name": "stdout",
     "output_type": "stream",
     "text": [
      "Epoch: 002, Average Loss: 0.6781\n",
      "Validation: {'precision': 0.10748906967179925, 'recall': 0.1684720294902392, 'f1': 0.10316949244283342, 'auc': 0.5658096164731523, 'prauc': 0.21372081003609752}\n",
      "Test:       {'precision': 0.11477167629346316, 'recall': 0.16757745949036565, 'f1': 0.10458183236186333, 'auc': 0.5674219042838001, 'prauc': 0.2222279625890451}\n"
     ]
    },
    {
     "name": "stderr",
     "output_type": "stream",
     "text": [
      "Training Batches: 100%|██████████| 1/1 [00:01<00:00,  1.96s/it]\n",
      "Running inference: 100%|██████████| 1/1 [00:00<00:00,  1.27it/s]\n",
      "Running inference: 100%|██████████| 1/1 [00:01<00:00,  1.18s/it]\n"
     ]
    },
    {
     "name": "stdout",
     "output_type": "stream",
     "text": [
      "Epoch: 003, Average Loss: 0.6685\n",
      "Validation: {'precision': 0.08541080833116158, 'recall': 0.10429788193839667, 'f1': 0.07882928509740189, 'auc': 0.5683595896839322, 'prauc': 0.21786408039889}\n",
      "Test:       {'precision': 0.11219695657303506, 'recall': 0.10231261757937654, 'f1': 0.0797898149190199, 'auc': 0.5659535258967159, 'prauc': 0.22451575117884748}\n"
     ]
    },
    {
     "name": "stderr",
     "output_type": "stream",
     "text": [
      "Training Batches: 100%|██████████| 1/1 [00:01<00:00,  1.92s/it]\n",
      "Running inference: 100%|██████████| 1/1 [00:01<00:00,  1.17s/it]\n",
      "Running inference: 100%|██████████| 1/1 [00:01<00:00,  1.60s/it]\n"
     ]
    },
    {
     "name": "stdout",
     "output_type": "stream",
     "text": [
      "Epoch: 004, Average Loss: 0.6570\n",
      "Validation: {'precision': 0.0952816477395694, 'recall': 0.05311189564634399, 'f1': 0.05002797720984196, 'auc': 0.563523349627165, 'prauc': 0.21659924495058003}\n",
      "Test:       {'precision': 0.0978429851240764, 'recall': 0.05399067858593413, 'f1': 0.053112693471652456, 'auc': 0.5595720759891267, 'prauc': 0.2211009150697266}\n"
     ]
    },
    {
     "name": "stderr",
     "output_type": "stream",
     "text": [
      "Training Batches: 100%|██████████| 1/1 [00:01<00:00,  1.51s/it]\n",
      "Running inference: 100%|██████████| 1/1 [00:01<00:00,  1.58s/it]\n",
      "Running inference: 100%|██████████| 1/1 [00:01<00:00,  1.20s/it]\n"
     ]
    },
    {
     "name": "stdout",
     "output_type": "stream",
     "text": [
      "Epoch: 005, Average Loss: 0.6437\n",
      "Validation: {'precision': 0.11447335302274114, 'recall': 0.02669961318198231, 'f1': 0.029441988126210905, 'auc': 0.5577424341813336, 'prauc': 0.2132344129588799}\n",
      "Test:       {'precision': 0.10915364512748234, 'recall': 0.027139814980852217, 'f1': 0.030200773012802242, 'auc': 0.5521588381196421, 'prauc': 0.21567089458845637}\n"
     ]
    },
    {
     "name": "stderr",
     "output_type": "stream",
     "text": [
      "Training Batches: 100%|██████████| 1/1 [00:01<00:00,  1.95s/it]\n",
      "Running inference: 100%|██████████| 1/1 [00:00<00:00,  1.25it/s]\n",
      "Running inference: 100%|██████████| 1/1 [00:01<00:00,  1.20s/it]\n"
     ]
    },
    {
     "name": "stdout",
     "output_type": "stream",
     "text": [
      "Epoch: 006, Average Loss: 0.6284\n",
      "Validation: {'precision': 0.09794110881067403, 'recall': 0.001585309640619994, 'f1': 0.003019130825877984, 'auc': 0.5525420891385227, 'prauc': 0.20780350039034473}\n",
      "Test:       {'precision': 0.09808853118712274, 'recall': 0.0015086376243289685, 'f1': 0.0028807215971190145, 'auc': 0.5453727534907791, 'prauc': 0.20864140719225058}\n"
     ]
    },
    {
     "name": "stderr",
     "output_type": "stream",
     "text": [
      "Training Batches: 100%|██████████| 1/1 [00:01<00:00,  1.95s/it]\n",
      "Running inference: 100%|██████████| 1/1 [00:01<00:00,  1.19s/it]\n",
      "Running inference: 100%|██████████| 1/1 [00:01<00:00,  1.60s/it]\n"
     ]
    },
    {
     "name": "stdout",
     "output_type": "stream",
     "text": [
      "Epoch: 007, Average Loss: 0.6107\n",
      "Validation: {'precision': 0.05555555555555555, 'recall': 4.776917932549919e-05, 'f1': 9.545628102329134e-05, 'auc': 0.54650551361423, 'prauc': 0.19846311286090804}\n",
      "Test:       {'precision': 0.0, 'recall': 0.0, 'f1': 0.0, 'auc': 0.538383229666263, 'prauc': 0.19938309998024606}\n"
     ]
    },
    {
     "name": "stderr",
     "output_type": "stream",
     "text": [
      "Training Batches: 100%|██████████| 1/1 [00:01<00:00,  1.52s/it]\n",
      "Running inference: 100%|██████████| 1/1 [00:01<00:00,  1.59s/it]\n",
      "Running inference: 100%|██████████| 1/1 [00:01<00:00,  1.19s/it]\n"
     ]
    },
    {
     "name": "stdout",
     "output_type": "stream",
     "text": [
      "Epoch: 008, Average Loss: 0.5909\n",
      "Validation: {'precision': 0.0, 'recall': 0.0, 'f1': 0.0, 'auc': 0.5400961626667846, 'prauc': 0.19003088754408373}\n",
      "Test:       {'precision': 0.0, 'recall': 0.0, 'f1': 0.0, 'auc': 0.5320294299017324, 'prauc': 0.19179903443539265}\n"
     ]
    },
    {
     "name": "stderr",
     "output_type": "stream",
     "text": [
      "Training Batches: 100%|██████████| 1/1 [00:01<00:00,  1.95s/it]\n",
      "Running inference: 100%|██████████| 1/1 [00:00<00:00,  1.25it/s]\n",
      "Running inference: 100%|██████████| 1/1 [00:01<00:00,  1.19s/it]\n"
     ]
    },
    {
     "name": "stdout",
     "output_type": "stream",
     "text": [
      "Epoch: 009, Average Loss: 0.5690\n",
      "Validation: {'precision': 0.0, 'recall': 0.0, 'f1': 0.0, 'auc': 0.5351979766236261, 'prauc': 0.18441762668894243}\n",
      "Test:       {'precision': 0.0, 'recall': 0.0, 'f1': 0.0, 'auc': 0.5274628435400026, 'prauc': 0.18640271204114064}\n"
     ]
    },
    {
     "name": "stderr",
     "output_type": "stream",
     "text": [
      "Training Batches: 100%|██████████| 1/1 [00:01<00:00,  1.94s/it]\n",
      "Running inference: 100%|██████████| 1/1 [00:01<00:00,  1.18s/it]\n",
      "Running inference: 100%|██████████| 1/1 [00:01<00:00,  1.59s/it]\n"
     ]
    },
    {
     "name": "stdout",
     "output_type": "stream",
     "text": [
      "Epoch: 010, Average Loss: 0.5458\n",
      "Validation: {'precision': 0.0, 'recall': 0.0, 'f1': 0.0, 'auc': 0.531927861327559, 'prauc': 0.18055307369717588}\n",
      "Test:       {'precision': 0.0, 'recall': 0.0, 'f1': 0.0, 'auc': 0.5247083469910059, 'prauc': 0.18268840771155015}\n"
     ]
    },
    {
     "name": "stderr",
     "output_type": "stream",
     "text": [
      "Training Batches: 100%|██████████| 1/1 [00:01<00:00,  1.51s/it]\n",
      "Running inference: 100%|██████████| 1/1 [00:01<00:00,  1.59s/it]\n",
      "Running inference: 100%|██████████| 1/1 [00:01<00:00,  1.21s/it]\n"
     ]
    },
    {
     "name": "stdout",
     "output_type": "stream",
     "text": [
      "Epoch: 011, Average Loss: 0.5230\n",
      "Validation: {'precision': 0.0, 'recall': 0.0, 'f1': 0.0, 'auc': 0.5299890339871198, 'prauc': 0.1783679960950593}\n",
      "Test:       {'precision': 0.0, 'recall': 0.0, 'f1': 0.0, 'auc': 0.5232065983899385, 'prauc': 0.18045279117385168}\n"
     ]
    },
    {
     "name": "stderr",
     "output_type": "stream",
     "text": [
      "Training Batches: 100%|██████████| 1/1 [00:01<00:00,  1.97s/it]\n",
      "Running inference: 100%|██████████| 1/1 [00:00<00:00,  1.24it/s]\n",
      "Running inference: 100%|██████████| 1/1 [00:01<00:00,  1.19s/it]\n"
     ]
    },
    {
     "name": "stdout",
     "output_type": "stream",
     "text": [
      "Epoch: 012, Average Loss: 0.5003\n",
      "Validation: {'precision': 0.0, 'recall': 0.0, 'f1': 0.0, 'auc': 0.528916593588926, 'prauc': 0.17719171610729437}\n",
      "Test:       {'precision': 0.0, 'recall': 0.0, 'f1': 0.0, 'auc': 0.522596704728147, 'prauc': 0.17925026054466683}\n"
     ]
    },
    {
     "name": "stderr",
     "output_type": "stream",
     "text": [
      "Training Batches: 100%|██████████| 1/1 [00:01<00:00,  1.87s/it]\n",
      "Running inference: 100%|██████████| 1/1 [00:01<00:00,  1.20s/it]\n",
      "Running inference: 100%|██████████| 1/1 [00:01<00:00,  1.60s/it]\n"
     ]
    },
    {
     "name": "stdout",
     "output_type": "stream",
     "text": [
      "Epoch: 013, Average Loss: 0.4801\n",
      "Validation: {'precision': 0.0, 'recall': 0.0, 'f1': 0.0, 'auc': 0.528293946713812, 'prauc': 0.17667468799571212}\n",
      "Test:       {'precision': 0.0, 'recall': 0.0, 'f1': 0.0, 'auc': 0.5224933512280362, 'prauc': 0.17861468980285655}\n",
      "\n",
      "Early stopping triggered after 13 epochs (no improvement for 10 epochs).\n",
      "\n",
      "Best validation performance:\n",
      "{'global': {'precision': 0.08541080833116158, 'recall': 0.10429788193839667, 'f1': 0.07882928509740189, 'auc': 0.5683595896839322, 'prauc': 0.21786408039889}, 'per_class':                                            precision    recall        f1  \\\n",
      "Acute and unspecified renal failure         0.000000  0.000000  0.000000   \n",
      "Acute cerebrovascular disease               0.000000  0.000000  0.000000   \n",
      "Acute myocardial infarction                 0.000000  0.000000  0.000000   \n",
      "Cardiac dysrhythmias                        0.000000  0.000000  0.000000   \n",
      "Chronic kidney disease                      0.321383  0.647463  0.429549   \n",
      "Chronic obstructive pulmonary disease       0.000000  0.000000  0.000000   \n",
      "Conduction disorders                        0.000000  0.000000  0.000000   \n",
      "Congestive heart failure; nonhypertensive   0.000000  0.000000  0.000000   \n",
      "Coronary atherosclerosis and related        0.000000  0.000000  0.000000   \n",
      "Disorders of lipid metabolism               0.527529  0.217759  0.308268   \n",
      "Essential hypertension                      0.514728  0.333016  0.404397   \n",
      "Fluid and electrolyte disorders             0.000000  0.000000  0.000000   \n",
      "Gastrointestinal hemorrhage                 0.000000  0.000000  0.000000   \n",
      "Hypertension with complications             0.000000  0.000000  0.000000   \n",
      "Other liver diseases                        0.000000  0.000000  0.000000   \n",
      "Other lower respiratory disease             0.173755  0.679124  0.276713   \n",
      "Pneumonia                                   0.000000  0.000000  0.000000   \n",
      "Septicemia (except in labor)                0.000000  0.000000  0.000000   \n",
      "\n",
      "                                                auc     prauc  \n",
      "Acute and unspecified renal failure        0.622873  0.326134  \n",
      "Acute cerebrovascular disease              0.526212  0.007802  \n",
      "Acute myocardial infarction                0.537794  0.049600  \n",
      "Cardiac dysrhythmias                       0.519841  0.277647  \n",
      "Chronic kidney disease                     0.662689  0.409475  \n",
      "Chronic obstructive pulmonary disease      0.547222  0.109390  \n",
      "Conduction disorders                       0.463890  0.019408  \n",
      "Congestive heart failure; nonhypertensive  0.596038  0.278301  \n",
      "Coronary atherosclerosis and related       0.604646  0.330995  \n",
      "Disorders of lipid metabolism              0.570448  0.459798  \n",
      "Essential hypertension                     0.595800  0.492537  \n",
      "Fluid and electrolyte disorders            0.598593  0.382776  \n",
      "Gastrointestinal hemorrhage                0.511949  0.029848  \n",
      "Hypertension with complications            0.670323  0.375106  \n",
      "Other liver diseases                       0.520675  0.011511  \n",
      "Other lower respiratory disease            0.559315  0.185716  \n",
      "Pneumonia                                  0.546137  0.082727  \n",
      "Septicemia (except in labor)               0.576029  0.092784  }\n",
      "Corresponding test performance:\n",
      "{'global': {'precision': 0.11219695657303506, 'recall': 0.10231261757937654, 'f1': 0.0797898149190199, 'auc': 0.5659535258967159, 'prauc': 0.22451575117884748}, 'per_class':                                            precision    recall        f1  \\\n",
      "Acute and unspecified renal failure         0.500000  0.002588  0.005150   \n",
      "Acute cerebrovascular disease               0.000000  0.000000  0.000000   \n",
      "Acute myocardial infarction                 0.000000  0.000000  0.000000   \n",
      "Cardiac dysrhythmias                        0.000000  0.000000  0.000000   \n",
      "Chronic kidney disease                      0.358811  0.666930  0.466593   \n",
      "Chronic obstructive pulmonary disease       0.000000  0.000000  0.000000   \n",
      "Conduction disorders                        0.000000  0.000000  0.000000   \n",
      "Congestive heart failure; nonhypertensive   0.000000  0.000000  0.000000   \n",
      "Coronary atherosclerosis and related        0.000000  0.000000  0.000000   \n",
      "Disorders of lipid metabolism               0.487773  0.206540  0.290199   \n",
      "Essential hypertension                      0.487452  0.319541  0.386028   \n",
      "Fluid and electrolyte disorders             0.000000  0.000000  0.000000   \n",
      "Gastrointestinal hemorrhage                 0.000000  0.000000  0.000000   \n",
      "Hypertension with complications             0.000000  0.000000  0.000000   \n",
      "Other liver diseases                        0.000000  0.000000  0.000000   \n",
      "Other lower respiratory disease             0.185508  0.646028  0.288246   \n",
      "Pneumonia                                   0.000000  0.000000  0.000000   \n",
      "Septicemia (except in labor)                0.000000  0.000000  0.000000   \n",
      "\n",
      "                                                auc     prauc  \n",
      "Acute and unspecified renal failure        0.649026  0.337282  \n",
      "Acute cerebrovascular disease              0.447498  0.006456  \n",
      "Acute myocardial infarction                0.454158  0.040010  \n",
      "Cardiac dysrhythmias                       0.557167  0.297374  \n",
      "Chronic kidney disease                     0.682371  0.447241  \n",
      "Chronic obstructive pulmonary disease      0.524720  0.105368  \n",
      "Conduction disorders                       0.509072  0.023836  \n",
      "Congestive heart failure; nonhypertensive  0.605204  0.288612  \n",
      "Coronary atherosclerosis and related       0.611906  0.358905  \n",
      "Disorders of lipid metabolism              0.551225  0.428570  \n",
      "Essential hypertension                     0.588281  0.471244  \n",
      "Fluid and electrolyte disorders            0.606574  0.376660  \n",
      "Gastrointestinal hemorrhage                0.587084  0.054971  \n",
      "Hypertension with complications            0.698221  0.418606  \n",
      "Other liver diseases                       0.444759  0.007650  \n",
      "Other lower respiratory disease            0.552183  0.194906  \n",
      "Pneumonia                                  0.554430  0.085467  \n",
      "Septicemia (except in labor)               0.563285  0.098128  }\n",
      "Corresponding test-long performance:\n",
      "{'global': {'precision': 0.12129761472918628, 'recall': 0.1053371651278389, 'f1': 0.07401878371343597, 'auc': 0.5676504985081512, 'prauc': 0.25383422896798125}, 'per_class':                                            precision    recall        f1  \\\n",
      "Acute and unspecified renal failure         0.500000  0.003636  0.007220   \n",
      "Acute cerebrovascular disease               0.000000  0.000000  0.000000   \n",
      "Acute myocardial infarction                 0.000000  0.000000  0.000000   \n",
      "Cardiac dysrhythmias                        0.000000  0.000000  0.000000   \n",
      "Chronic kidney disease                      0.382979  0.902821  0.537815   \n",
      "Chronic obstructive pulmonary disease       0.000000  0.000000  0.000000   \n",
      "Conduction disorders                        0.000000  0.000000  0.000000   \n",
      "Congestive heart failure; nonhypertensive   0.000000  0.000000  0.000000   \n",
      "Coronary atherosclerosis and related        0.000000  0.000000  0.000000   \n",
      "Disorders of lipid metabolism               0.522222  0.163763  0.249337   \n",
      "Essential hypertension                      0.527273  0.097643  0.164773   \n",
      "Fluid and electrolyte disorders             0.000000  0.000000  0.000000   \n",
      "Gastrointestinal hemorrhage                 0.000000  0.000000  0.000000   \n",
      "Hypertension with complications             0.000000  0.000000  0.000000   \n",
      "Other liver diseases                        0.000000  0.000000  0.000000   \n",
      "Other lower respiratory disease             0.250883  0.728205  0.373193   \n",
      "Pneumonia                                   0.000000  0.000000  0.000000   \n",
      "Septicemia (except in labor)                0.000000  0.000000  0.000000   \n",
      "\n",
      "                                                auc     prauc  \n",
      "Acute and unspecified renal failure        0.594718  0.381665  \n",
      "Acute cerebrovascular disease              0.407323  0.001911  \n",
      "Acute myocardial infarction                0.515977  0.053109  \n",
      "Cardiac dysrhythmias                       0.568209  0.328094  \n",
      "Chronic kidney disease                     0.655583  0.535646  \n",
      "Chronic obstructive pulmonary disease      0.619329  0.163623  \n",
      "Conduction disorders                       0.494626  0.020185  \n",
      "Congestive heart failure; nonhypertensive  0.584815  0.343615  \n",
      "Coronary atherosclerosis and related       0.627378  0.364034  \n",
      "Disorders of lipid metabolism              0.606925  0.449439  \n",
      "Essential hypertension                     0.605020  0.420393  \n",
      "Fluid and electrolyte disorders            0.520801  0.409678  \n",
      "Gastrointestinal hemorrhage                0.638889  0.084746  \n",
      "Hypertension with complications            0.682672  0.493719  \n",
      "Other liver diseases                       0.478202  0.011925  \n",
      "Other lower respiratory disease            0.584777  0.281020  \n",
      "Pneumonia                                  0.514601  0.101436  \n",
      "Septicemia (except in labor)               0.517863  0.124778  }\n",
      "[INFO] Random seed set to 1445662585\n",
      "Training with seed: 1445662585\n"
     ]
    },
    {
     "name": "stderr",
     "output_type": "stream",
     "text": [
      "Training Batches: 100%|██████████| 1/1 [00:01<00:00,  1.97s/it]\n",
      "Running inference: 100%|██████████| 1/1 [00:00<00:00,  1.27it/s]\n",
      "Running inference: 100%|██████████| 1/1 [00:01<00:00,  1.19s/it]\n"
     ]
    },
    {
     "name": "stdout",
     "output_type": "stream",
     "text": [
      "Epoch: 001, Average Loss: 0.6907\n",
      "Validation: {'precision': 0.1415166061239921, 'recall': 0.31583194840064416, 'f1': 0.16210519058305203, 'auc': 0.5348576819045683, 'prauc': 0.19691022061974625}\n",
      "Test:       {'precision': 0.17256880324063617, 'recall': 0.3154969689987725, 'f1': 0.16836924393006977, 'auc': 0.5457636253907765, 'prauc': 0.20515649078940867}\n"
     ]
    },
    {
     "name": "stderr",
     "output_type": "stream",
     "text": [
      "Training Batches: 100%|██████████| 1/1 [00:01<00:00,  1.92s/it]\n",
      "Running inference: 100%|██████████| 1/1 [00:01<00:00,  1.18s/it]\n",
      "Running inference: 100%|██████████| 1/1 [00:01<00:00,  1.19s/it]\n"
     ]
    },
    {
     "name": "stdout",
     "output_type": "stream",
     "text": [
      "Epoch: 002, Average Loss: 0.6806\n",
      "Validation: {'precision': 0.15725230102554164, 'recall': 0.2078870628690874, 'f1': 0.14134431217716759, 'auc': 0.5498301989295501, 'prauc': 0.21499362777234973}\n",
      "Test:       {'precision': 0.1631987902221071, 'recall': 0.2117143191400036, 'f1': 0.1481140426206944, 'auc': 0.5615308142300885, 'prauc': 0.22342060450387885}\n"
     ]
    },
    {
     "name": "stderr",
     "output_type": "stream",
     "text": [
      "Training Batches: 100%|██████████| 1/1 [00:02<00:00,  2.34s/it]\n",
      "Running inference: 100%|██████████| 1/1 [00:00<00:00,  1.26it/s]\n",
      "Running inference: 100%|██████████| 1/1 [00:01<00:00,  1.19s/it]\n"
     ]
    },
    {
     "name": "stdout",
     "output_type": "stream",
     "text": [
      "Epoch: 003, Average Loss: 0.6701\n",
      "Validation: {'precision': 0.161658147176091, 'recall': 0.1374900196430755, 'f1': 0.12235476192354668, 'auc': 0.5560213396034039, 'prauc': 0.2236206659582812}\n",
      "Test:       {'precision': 0.16944505853720335, 'recall': 0.1459759552150634, 'f1': 0.1304179040348959, 'auc': 0.563443756654886, 'prauc': 0.2319390184378258}\n"
     ]
    },
    {
     "name": "stderr",
     "output_type": "stream",
     "text": [
      "Training Batches: 100%|██████████| 1/1 [00:01<00:00,  1.94s/it]\n",
      "Running inference: 100%|██████████| 1/1 [00:01<00:00,  1.19s/it]\n",
      "Running inference: 100%|██████████| 1/1 [00:01<00:00,  1.20s/it]\n"
     ]
    },
    {
     "name": "stdout",
     "output_type": "stream",
     "text": [
      "Epoch: 004, Average Loss: 0.6575\n",
      "Validation: {'precision': 0.15501812554735106, 'recall': 0.06808199892835526, 'f1': 0.06919347622160171, 'auc': 0.5541918014774811, 'prauc': 0.22296789061877703}\n",
      "Test:       {'precision': 0.18951619377591195, 'recall': 0.07305063217598512, 'f1': 0.07607103486978156, 'auc': 0.5589145811650329, 'prauc': 0.23188172138195406}\n"
     ]
    },
    {
     "name": "stderr",
     "output_type": "stream",
     "text": [
      "Training Batches: 100%|██████████| 1/1 [00:02<00:00,  2.35s/it]\n",
      "Running inference: 100%|██████████| 1/1 [00:00<00:00,  1.26it/s]\n",
      "Running inference: 100%|██████████| 1/1 [00:01<00:00,  1.20s/it]\n"
     ]
    },
    {
     "name": "stdout",
     "output_type": "stream",
     "text": [
      "Epoch: 005, Average Loss: 0.6427\n",
      "Validation: {'precision': 0.11294931307548467, 'recall': 0.029844658876519135, 'f1': 0.029040322270629193, 'auc': 0.5488724866261115, 'prauc': 0.21660124086258573}\n",
      "Test:       {'precision': 0.13561507936507936, 'recall': 0.03276131473284825, 'f1': 0.03227088030390504, 'auc': 0.5523227352391873, 'prauc': 0.22487125111056716}\n"
     ]
    },
    {
     "name": "stderr",
     "output_type": "stream",
     "text": [
      "Training Batches: 100%|██████████| 1/1 [00:01<00:00,  1.91s/it]\n",
      "Running inference: 100%|██████████| 1/1 [00:01<00:00,  1.19s/it]\n",
      "Running inference: 100%|██████████| 1/1 [00:01<00:00,  1.18s/it]\n"
     ]
    },
    {
     "name": "stdout",
     "output_type": "stream",
     "text": [
      "Epoch: 006, Average Loss: 0.6252\n",
      "Validation: {'precision': 0.053267973856209155, 'recall': 0.010521682585837765, 'f1': 0.01584009552373615, 'auc': 0.5435942309985395, 'prauc': 0.2076971643090991}\n",
      "Test:       {'precision': 0.15547910295616718, 'recall': 0.013703650689576907, 'f1': 0.019535286237507814, 'auc': 0.5462818902620247, 'prauc': 0.2150847286289744}\n"
     ]
    },
    {
     "name": "stderr",
     "output_type": "stream",
     "text": [
      "Training Batches: 100%|██████████| 1/1 [00:02<00:00,  2.33s/it]\n",
      "Running inference: 100%|██████████| 1/1 [00:00<00:00,  1.26it/s]\n",
      "Running inference: 100%|██████████| 1/1 [00:01<00:00,  1.19s/it]\n"
     ]
    },
    {
     "name": "stdout",
     "output_type": "stream",
     "text": [
      "Epoch: 007, Average Loss: 0.6051\n",
      "Validation: {'precision': 0.022222222222222223, 'recall': 0.00022111663902708677, 'f1': 0.0004378762999452654, 'auc': 0.5381276296074389, 'prauc': 0.1975441104223034}\n",
      "Test:       {'precision': 0.0308641975308642, 'recall': 0.0002600915522263837, 'f1': 0.0005158361704322707, 'auc': 0.5404311463358503, 'prauc': 0.20407127093635824}\n"
     ]
    },
    {
     "name": "stderr",
     "output_type": "stream",
     "text": [
      "Training Batches: 100%|██████████| 1/1 [00:01<00:00,  1.92s/it]\n",
      "Running inference: 100%|██████████| 1/1 [00:01<00:00,  1.18s/it]\n",
      "Running inference: 100%|██████████| 1/1 [00:01<00:00,  1.20s/it]\n"
     ]
    },
    {
     "name": "stdout",
     "output_type": "stream",
     "text": [
      "Epoch: 008, Average Loss: 0.5827\n",
      "Validation: {'precision': 0.0, 'recall': 0.0, 'f1': 0.0, 'auc': 0.5324534515619838, 'prauc': 0.18797184624460272}\n",
      "Test:       {'precision': 0.0, 'recall': 0.0, 'f1': 0.0, 'auc': 0.5342350888542494, 'prauc': 0.19296128538921808}\n"
     ]
    },
    {
     "name": "stderr",
     "output_type": "stream",
     "text": [
      "Training Batches: 100%|██████████| 1/1 [00:02<00:00,  2.33s/it]\n",
      "Running inference: 100%|██████████| 1/1 [00:00<00:00,  1.25it/s]\n",
      "Running inference: 100%|██████████| 1/1 [00:01<00:00,  1.18s/it]\n"
     ]
    },
    {
     "name": "stdout",
     "output_type": "stream",
     "text": [
      "Epoch: 009, Average Loss: 0.5581\n",
      "Validation: {'precision': 0.0, 'recall': 0.0, 'f1': 0.0, 'auc': 0.5281660934408676, 'prauc': 0.18244959572088754}\n",
      "Test:       {'precision': 0.0, 'recall': 0.0, 'f1': 0.0, 'auc': 0.5295654435457349, 'prauc': 0.18624611485053225}\n"
     ]
    },
    {
     "name": "stderr",
     "output_type": "stream",
     "text": [
      "Training Batches: 100%|██████████| 1/1 [00:01<00:00,  1.93s/it]\n",
      "Running inference: 100%|██████████| 1/1 [00:01<00:00,  1.18s/it]\n",
      "Running inference: 100%|██████████| 1/1 [00:01<00:00,  1.19s/it]\n"
     ]
    },
    {
     "name": "stdout",
     "output_type": "stream",
     "text": [
      "Epoch: 010, Average Loss: 0.5341\n",
      "Validation: {'precision': 0.0, 'recall': 0.0, 'f1': 0.0, 'auc': 0.5258204350920964, 'prauc': 0.17983471071171153}\n",
      "Test:       {'precision': 0.0, 'recall': 0.0, 'f1': 0.0, 'auc': 0.5270094029830944, 'prauc': 0.18264839487487758}\n"
     ]
    },
    {
     "name": "stderr",
     "output_type": "stream",
     "text": [
      "Training Batches: 100%|██████████| 1/1 [00:02<00:00,  2.33s/it]\n",
      "Running inference: 100%|██████████| 1/1 [00:00<00:00,  1.26it/s]\n",
      "Running inference: 100%|██████████| 1/1 [00:01<00:00,  1.20s/it]\n"
     ]
    },
    {
     "name": "stdout",
     "output_type": "stream",
     "text": [
      "Epoch: 011, Average Loss: 0.5098\n",
      "Validation: {'precision': 0.0, 'recall': 0.0, 'f1': 0.0, 'auc': 0.5246903910507428, 'prauc': 0.17854792754844698}\n",
      "Test:       {'precision': 0.0, 'recall': 0.0, 'f1': 0.0, 'auc': 0.5258048609947515, 'prauc': 0.1806713817630908}\n"
     ]
    },
    {
     "name": "stderr",
     "output_type": "stream",
     "text": [
      "Training Batches: 100%|██████████| 1/1 [00:01<00:00,  1.92s/it]\n",
      "Running inference: 100%|██████████| 1/1 [00:01<00:00,  1.18s/it]\n",
      "Running inference: 100%|██████████| 1/1 [00:01<00:00,  1.18s/it]\n"
     ]
    },
    {
     "name": "stdout",
     "output_type": "stream",
     "text": [
      "Epoch: 012, Average Loss: 0.4879\n",
      "Validation: {'precision': 0.0, 'recall': 0.0, 'f1': 0.0, 'auc': 0.5243252324697332, 'prauc': 0.1779085454151986}\n",
      "Test:       {'precision': 0.0, 'recall': 0.0, 'f1': 0.0, 'auc': 0.5253047638004872, 'prauc': 0.1795823660012866}\n"
     ]
    },
    {
     "name": "stderr",
     "output_type": "stream",
     "text": [
      "Training Batches: 100%|██████████| 1/1 [00:02<00:00,  2.34s/it]\n",
      "Running inference: 100%|██████████| 1/1 [00:00<00:00,  1.25it/s]\n",
      "Running inference: 100%|██████████| 1/1 [00:01<00:00,  1.18s/it]"
     ]
    },
    {
     "name": "stdout",
     "output_type": "stream",
     "text": [
      "Epoch: 013, Average Loss: 0.4691\n",
      "Validation: {'precision': 0.0, 'recall': 0.0, 'f1': 0.0, 'auc': 0.5243079599983342, 'prauc': 0.1778314899807364}\n",
      "Test:       {'precision': 0.0, 'recall': 0.0, 'f1': 0.0, 'auc': 0.5250502805092991, 'prauc': 0.17903909298949217}\n",
      "\n",
      "Early stopping triggered after 13 epochs (no improvement for 10 epochs).\n",
      "\n",
      "Best validation performance:\n",
      "{'global': {'precision': 0.161658147176091, 'recall': 0.1374900196430755, 'f1': 0.12235476192354668, 'auc': 0.5560213396034039, 'prauc': 0.2236206659582812}, 'per_class':                                            precision    recall        f1  \\\n",
      "Acute and unspecified renal failure         0.000000  0.000000  0.000000   \n",
      "Acute cerebrovascular disease               0.000000  0.000000  0.000000   \n",
      "Acute myocardial infarction                 0.057851  0.069652  0.063205   \n",
      "Cardiac dysrhythmias                        0.000000  0.000000  0.000000   \n",
      "Chronic kidney disease                      0.680272  0.171969  0.274537   \n",
      "Chronic obstructive pulmonary disease       0.000000  0.000000  0.000000   \n",
      "Conduction disorders                        0.000000  0.000000  0.000000   \n",
      "Congestive heart failure; nonhypertensive   0.339595  0.415194  0.373609   \n",
      "Coronary atherosclerosis and related        0.000000  0.000000  0.000000   \n",
      "Disorders of lipid metabolism               0.384615  0.002643  0.005249   \n",
      "Essential hypertension                      0.531762  0.247261  0.337561   \n",
      "Fluid and electrolyte disorders             0.375094  0.612824  0.465356   \n",
      "Gastrointestinal hemorrhage                 0.000000  0.000000  0.000000   \n",
      "Hypertension with complications             0.293272  0.568159  0.386856   \n",
      "Other liver diseases                        0.000000  0.000000  0.000000   \n",
      "Other lower respiratory disease             0.185079  0.332474  0.237788   \n",
      "Pneumonia                                   0.062305  0.054645  0.058224   \n",
      "Septicemia (except in labor)                0.000000  0.000000  0.000000   \n",
      "\n",
      "                                                auc     prauc  \n",
      "Acute and unspecified renal failure        0.588448  0.286083  \n",
      "Acute cerebrovascular disease              0.418503  0.006788  \n",
      "Acute myocardial infarction                0.546015  0.046154  \n",
      "Cardiac dysrhythmias                       0.523350  0.289113  \n",
      "Chronic kidney disease                     0.699766  0.484922  \n",
      "Chronic obstructive pulmonary disease      0.505792  0.089518  \n",
      "Conduction disorders                       0.456909  0.019195  \n",
      "Congestive heart failure; nonhypertensive  0.614438  0.343086  \n",
      "Coronary atherosclerosis and related       0.566345  0.349091  \n",
      "Disorders of lipid metabolism              0.570147  0.457075  \n",
      "Essential hypertension                     0.594887  0.503307  \n",
      "Fluid and electrolyte disorders            0.590031  0.384743  \n",
      "Gastrointestinal hemorrhage                0.522354  0.031382  \n",
      "Hypertension with complications            0.660308  0.390351  \n",
      "Other liver diseases                       0.520862  0.013076  \n",
      "Other lower respiratory disease            0.540582  0.169929  \n",
      "Pneumonia                                  0.537363  0.076213  \n",
      "Septicemia (except in labor)               0.552282  0.085144  }\n",
      "Corresponding test performance:\n",
      "{'global': {'precision': 0.16944505853720335, 'recall': 0.1459759552150634, 'f1': 0.1304179040348959, 'auc': 0.563443756654886, 'prauc': 0.2319390184378258}, 'per_class':                                            precision    recall        f1  \\\n",
      "Acute and unspecified renal failure         0.000000  0.000000  0.000000   \n",
      "Acute cerebrovascular disease               0.000000  0.000000  0.000000   \n",
      "Acute myocardial infarction                 0.040724  0.046875  0.043584   \n",
      "Cardiac dysrhythmias                        0.000000  0.000000  0.000000   \n",
      "Chronic kidney disease                      0.767908  0.211523  0.331683   \n",
      "Chronic obstructive pulmonary disease       0.000000  0.000000  0.000000   \n",
      "Conduction disorders                        0.000000  0.000000  0.000000   \n",
      "Congestive heart failure; nonhypertensive   0.348806  0.454624  0.394747   \n",
      "Coronary atherosclerosis and related        0.000000  0.000000  0.000000   \n",
      "Disorders of lipid metabolism               0.428571  0.004905  0.009698   \n",
      "Essential hypertension                      0.466964  0.260718  0.334613   \n",
      "Fluid and electrolyte disorders             0.376897  0.641462  0.474813   \n",
      "Gastrointestinal hemorrhage                 0.000000  0.000000  0.000000   \n",
      "Hypertension with complications             0.323676  0.606742  0.422150   \n",
      "Other liver diseases                        0.000000  0.000000  0.000000   \n",
      "Other lower respiratory disease             0.210008  0.323598  0.254713   \n",
      "Pneumonia                                   0.086455  0.077121  0.081522   \n",
      "Septicemia (except in labor)                0.000000  0.000000  0.000000   \n",
      "\n",
      "                                                auc     prauc  \n",
      "Acute and unspecified renal failure        0.611777  0.299271  \n",
      "Acute cerebrovascular disease              0.403360  0.006118  \n",
      "Acute myocardial infarction                0.466699  0.041795  \n",
      "Cardiac dysrhythmias                       0.520045  0.274088  \n",
      "Chronic kidney disease                     0.718657  0.544242  \n",
      "Chronic obstructive pulmonary disease      0.509258  0.084955  \n",
      "Conduction disorders                       0.507401  0.022328  \n",
      "Congestive heart failure; nonhypertensive  0.627941  0.356238  \n",
      "Coronary atherosclerosis and related       0.577976  0.376059  \n",
      "Disorders of lipid metabolism              0.563736  0.437079  \n",
      "Essential hypertension                     0.581878  0.469316  \n",
      "Fluid and electrolyte disorders            0.600048  0.379388  \n",
      "Gastrointestinal hemorrhage                0.560651  0.048976  \n",
      "Hypertension with complications            0.686802  0.441226  \n",
      "Other liver diseases                       0.566975  0.011057  \n",
      "Other lower respiratory disease            0.553398  0.210749  \n",
      "Pneumonia                                  0.554514  0.086240  \n",
      "Septicemia (except in labor)               0.530872  0.085779  }\n",
      "Corresponding test-long performance:\n",
      "{'global': {'precision': 0.23099779470505244, 'recall': 0.197750563897993, 'f1': 0.14306515110042464, 'auc': 0.5838385135164165, 'prauc': 0.27283541411427026}, 'per_class':                                            precision    recall        f1  \\\n",
      "Acute and unspecified renal failure         0.000000  0.000000  0.000000   \n",
      "Acute cerebrovascular disease               0.000000  0.000000  0.000000   \n",
      "Acute myocardial infarction                 0.037037  0.033333  0.035088   \n",
      "Cardiac dysrhythmias                        0.000000  0.000000  0.000000   \n",
      "Chronic kidney disease                      0.770833  0.347962  0.479482   \n",
      "Chronic obstructive pulmonary disease       0.000000  0.000000  0.000000   \n",
      "Conduction disorders                        0.000000  0.000000  0.000000   \n",
      "Congestive heart failure; nonhypertensive   0.408714  0.729630  0.523936   \n",
      "Coronary atherosclerosis and related        0.000000  0.000000  0.000000   \n",
      "Disorders of lipid metabolism               1.000000  0.006969  0.013841   \n",
      "Essential hypertension                      0.833333  0.016835  0.033003   \n",
      "Fluid and electrolyte disorders             0.418023  0.935574  0.577855   \n",
      "Gastrointestinal hemorrhage                 0.000000  0.000000  0.000000   \n",
      "Hypertension with complications             0.328889  0.860465  0.475884   \n",
      "Other liver diseases                        0.000000  0.000000  0.000000   \n",
      "Other lower respiratory disease             0.257683  0.558974  0.352751   \n",
      "Pneumonia                                   0.103448  0.069767  0.083333   \n",
      "Septicemia (except in labor)                0.000000  0.000000  0.000000   \n",
      "\n",
      "                                                auc     prauc  \n",
      "Acute and unspecified renal failure        0.569339  0.353010  \n",
      "Acute cerebrovascular disease              0.434783  0.003030  \n",
      "Acute myocardial infarction                0.401537  0.060607  \n",
      "Cardiac dysrhythmias                       0.478975  0.297037  \n",
      "Chronic kidney disease                     0.767175  0.674511  \n",
      "Chronic obstructive pulmonary disease      0.595988  0.107146  \n",
      "Conduction disorders                       0.519490  0.026744  \n",
      "Congestive heart failure; nonhypertensive  0.669072  0.456364  \n",
      "Coronary atherosclerosis and related       0.658201  0.423495  \n",
      "Disorders of lipid metabolism              0.646862  0.478663  \n",
      "Essential hypertension                     0.630854  0.452815  \n",
      "Fluid and electrolyte disorders            0.542767  0.430956  \n",
      "Gastrointestinal hemorrhage                0.615791  0.078432  \n",
      "Hypertension with complications            0.699935  0.550643  \n",
      "Other liver diseases                       0.702353  0.021530  \n",
      "Other lower respiratory disease            0.577401  0.281157  \n",
      "Pneumonia                                  0.513836  0.104908  \n",
      "Septicemia (except in labor)               0.484734  0.109989  }\n"
     ]
    },
    {
     "name": "stderr",
     "output_type": "stream",
     "text": [
      "\n"
     ]
    }
   ],
   "source": [
    "final_metrics, final_long_seq_metrics = [], []\n",
    "\n",
    "for seed in seeds:\n",
    "    set_random_seed(seed)\n",
    "    print(f\"Training with seed: {seed}\")\n",
    "    \n",
    "    # Initialize model, optimizer, and loss function\n",
    "    model = SetGNN(args, tokenizer).to(device)\n",
    "    optimizer = torch.optim.AdamW(model.parameters(), lr=args[\"lr\"])\n",
    "    \n",
    "    best_test_metric, best_test_long_seq_metric = train_with_early_stopping(\n",
    "        model, \n",
    "        train_dataloader, \n",
    "        val_dataloader, \n",
    "        test_dataloader,\n",
    "        optimizer, \n",
    "        loss_fn, \n",
    "        device, \n",
    "        args,\n",
    "        val_long_seq_idx,\n",
    "        test_long_seq_idx,\n",
    "        task_type=task_type,\n",
    "        eval_metric = \"prauc\")\n",
    "    \n",
    "    final_metrics.append(best_test_metric)\n",
    "    final_long_seq_metrics.append(best_test_long_seq_metric)"
   ]
  },
  {
   "cell_type": "code",
   "execution_count": 13,
   "id": "ee9abd8e-1f4b-47bf-bed3-337489bcc79d",
   "metadata": {},
   "outputs": [],
   "source": [
    "import numpy as np\n",
    "def topk_avg_performance_formatted(performances, long_seq_performances, k=5):\n",
    "    metrics = [\"f1\", \"auc\", \"prauc\"]\n",
    "    scores = {m: np.array([p[m] for p in performances]) for m in metrics}\n",
    "\n",
    "    # 计算排名（值越大排名越靠前）\n",
    "    ranks = {m: (-scores[m]).argsort().argsort() + 1 for m in metrics}\n",
    "    avg_ranks = np.mean(np.stack([ranks[m] for m in metrics], axis=1), axis=1)\n",
    "\n",
    "    # 选 top-k\n",
    "    topk_idx = np.argsort(avg_ranks)[:k]\n",
    "    final_avg = {m: np.mean([performances[i][m] for i in topk_idx]) for m in performances[0].keys()}\n",
    "    final_std = {m: np.std([performances[i][m] for i in topk_idx], ddof=0) for m in performances[0].keys()}\n",
    "    final_long_seq_avg = {m: np.mean([long_seq_performances[i][m] for i in topk_idx]) for m in long_seq_performances[0].keys()}\n",
    "    final_long_seq_std = {m: np.std([long_seq_performances[i][m] for i in topk_idx], ddof=0) for m in long_seq_performances[0].keys()}\n",
    "\n",
    "    # 打印结果（转百分比，均保留两位小数）\n",
    "    print(\"Final Metrics:\")\n",
    "    for m in performances[0].keys():\n",
    "        mean_val = final_avg[m] * 100\n",
    "        std_val = final_std[m] * 100\n",
    "        print(f\"{m}: {mean_val:.2f} ± {std_val:.2f}\")\n",
    "    print(\"\\nFinal Long Sequence Metrics:\")\n",
    "    for m in long_seq_performances[0].keys():\n",
    "        mean_val = final_long_seq_avg[m] * 100\n",
    "        std_val = final_long_seq_std[m] * 100\n",
    "        print(f\"{m}: {mean_val:.2f} ± {std_val:.2f}\")"
   ]
  },
  {
   "cell_type": "code",
   "execution_count": 14,
   "id": "e6e4b92e-35fc-46b9-8f3d-4713b4c71cd6",
   "metadata": {},
   "outputs": [],
   "source": [
    "def print_per_class_performance(dfs, col_name=\"prauc\"):\n",
    "    \"\"\"\n",
    "    输入一个 DataFrame 列表，对每个疾病在所有表格的指定列计算 mean ± std 并打印。\n",
    "\n",
    "    参数:\n",
    "        dfs (list[pd.DataFrame]): 多个表格组成的列表\n",
    "        col_name (str): 要计算的指标列名 (默认: \"prauc\")\n",
    "    \"\"\"\n",
    "    # 拼接所有表格\n",
    "    all_values = pd.concat(dfs, axis=0)\n",
    "\n",
    "    # 按疾病分组，计算 mean 和 std\n",
    "    grouped = all_values.groupby(all_values.index)[col_name].agg([\"mean\", \"std\"])\n",
    "\n",
    "    # 打印\n",
    "    for disease, row in grouped.iterrows():\n",
    "        mean_val = row[\"mean\"] * 100\n",
    "        std_val = row[\"std\"] * 100\n",
    "        print(f\"{disease}: {mean_val:.2f} ± {std_val:.2f}\")"
   ]
  },
  {
   "cell_type": "code",
   "execution_count": 15,
   "id": "2a55c99e-6f60-468f-a7a7-1b67f170d599",
   "metadata": {},
   "outputs": [
    {
     "name": "stdout",
     "output_type": "stream",
     "text": [
      "Final Metrics:\n",
      "precision: 15.68 ± 2.87\n",
      "recall: 14.55 ± 2.66\n",
      "f1: 11.86 ± 2.78\n",
      "auc: 56.33 ± 0.22\n",
      "prauc: 23.03 ± 0.41\n",
      "\n",
      "Final Long Sequence Metrics:\n",
      "precision: 17.49 ± 3.54\n",
      "recall: 18.43 ± 4.28\n",
      "f1: 12.81 ± 3.18\n",
      "auc: 57.09 ± 0.84\n",
      "prauc: 26.39 ± 0.73\n",
      "\n",
      "Per-class performance, all patients:\n",
      "Acute and unspecified renal failure: 30.02 ± 1.39\n",
      "Acute cerebrovascular disease: 0.62 ± 0.03\n",
      "Acute myocardial infarction: 3.54 ± 0.47\n",
      "Cardiac dysrhythmias: 29.44 ± 1.90\n",
      "Chronic kidney disease: 46.23 ± 5.45\n",
      "Chronic obstructive pulmonary disease: 8.67 ± 0.67\n",
      "Conduction disorders: 2.20 ± 0.13\n",
      "Congestive heart failure; nonhypertensive: 32.10 ± 3.64\n",
      "Coronary atherosclerosis and related: 36.15 ± 4.38\n",
      "Disorders of lipid metabolism: 44.00 ± 2.24\n",
      "Essential hypertension: 46.38 ± 2.35\n",
      "Fluid and electrolyte disorders: 38.90 ± 1.74\n",
      "Gastrointestinal hemorrhage: 4.77 ± 0.46\n",
      "Hypertension with complications: 40.16 ± 3.18\n",
      "Other liver diseases: 0.94 ± 0.10\n",
      "Other lower respiratory disease: 18.12 ± 1.22\n",
      "Pneumonia: 8.67 ± 0.62\n",
      "Septicemia (except in labor): 9.59 ± 1.32\n",
      "\n",
      "Per-class performance, long seq:\n",
      "Acute and unspecified renal failure: 34.64 ± 1.85\n",
      "Acute cerebrovascular disease: 0.22 ± 0.05\n",
      "Acute myocardial infarction: 3.32 ± 1.04\n",
      "Cardiac dysrhythmias: 30.99 ± 2.40\n",
      "Chronic kidney disease: 57.53 ± 7.12\n",
      "Chronic obstructive pulmonary disease: 10.83 ± 2.05\n",
      "Conduction disorders: 2.10 ± 0.53\n",
      "Congestive heart failure; nonhypertensive: 40.05 ± 5.53\n",
      "Coronary atherosclerosis and related: 35.12 ± 6.37\n",
      "Disorders of lipid metabolism: 44.83 ± 2.66\n",
      "Essential hypertension: 43.02 ± 1.25\n",
      "Fluid and electrolyte disorders: 44.83 ± 2.62\n",
      "Gastrointestinal hemorrhage: 7.56 ± 0.97\n",
      "Hypertension with complications: 49.85 ± 4.76\n",
      "Other liver diseases: 2.07 ± 0.89\n",
      "Other lower respiratory disease: 26.31 ± 1.94\n",
      "Pneumonia: 10.15 ± 0.70\n",
      "Septicemia (except in labor): 12.96 ± 1.64\n"
     ]
    }
   ],
   "source": [
    "if task_type == \"binary\":\n",
    "    topk_avg_performance_formatted(final_metrics, final_long_seq_metrics)\n",
    "else:\n",
    "    final_metrics_global = [metrics[\"global\"] for metrics in final_metrics]\n",
    "    final_metrics_per_class = [metrics[\"per_class\"] for metrics in final_metrics]\n",
    "    final_long_seq_metrics_global = [metrics[\"global\"] for metrics in final_long_seq_metrics]\n",
    "    final_long_seq_metrics_per_class = [metrics[\"per_class\"] for metrics in final_long_seq_metrics]\n",
    "    topk_avg_performance_formatted(final_metrics_global, final_long_seq_metrics_global)\n",
    "    print(\"\\nPer-class performance, all patients:\")\n",
    "    print_per_class_performance(final_metrics_per_class, col_name=\"prauc\")\n",
    "    print(\"\\nPer-class performance, long seq:\")\n",
    "    print_per_class_performance(final_long_seq_metrics_per_class, col_name=\"prauc\")"
   ]
  }
 ],
 "metadata": {
  "kernelspec": {
   "display_name": "heart-cuda",
   "language": "python",
   "name": "heart-cuda"
  },
  "language_info": {
   "codemirror_mode": {
    "name": "ipython",
    "version": 3
   },
   "file_extension": ".py",
   "mimetype": "text/x-python",
   "name": "python",
   "nbconvert_exporter": "python",
   "pygments_lexer": "ipython3",
   "version": "3.10.18"
  }
 },
 "nbformat": 4,
 "nbformat_minor": 5
}
