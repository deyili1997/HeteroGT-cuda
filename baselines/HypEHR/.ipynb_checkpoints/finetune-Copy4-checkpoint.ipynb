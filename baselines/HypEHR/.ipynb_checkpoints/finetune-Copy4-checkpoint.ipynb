{
 "cells": [
  {
   "cell_type": "code",
   "execution_count": 1,
   "id": "105bbf2f",
   "metadata": {},
   "outputs": [
    {
     "name": "stderr",
     "output_type": "stream",
     "text": [
      "Disabling PyTorch because PyTorch >= 2.1 is required but found 1.13.1\n",
      "None of PyTorch, TensorFlow >= 2.0, or Flax have been found. Models won't be available and only tokenizers, configuration and file/data utilities can be used.\n"
     ]
    }
   ],
   "source": [
    "import torch\n",
    "import random\n",
    "from model import SetGNN \n",
    "import pickle\n",
    "from tokenizer import EHRTokenizer\n",
    "from dataset import FinetuneHGDataset, batcher_SetGNN_finetune\n",
    "from torch.utils.data import DataLoader\n",
    "import torch.nn.functional as F\n",
    "from train import PHENO_ORDER, train_with_early_stopping\n",
    "from set_seed import set_random_seed\n",
    "import pandas as pd\n",
    "from print_hg import summarize_hypergraph"
   ]
  },
  {
   "cell_type": "code",
   "execution_count": 2,
   "id": "eb757cdd",
   "metadata": {},
   "outputs": [
    {
     "name": "stdout",
     "output_type": "stream",
     "text": [
      "cuda\n"
     ]
    }
   ],
   "source": [
    "device = torch.device(\"cuda\" if torch.cuda.is_available() else \"cpu\")\n",
    "print(device)"
   ]
  },
  {
   "cell_type": "code",
   "execution_count": 3,
   "id": "89793d45",
   "metadata": {},
   "outputs": [],
   "source": [
    "args = {\n",
    "    \"dataset\": \"MIMIC-III\", \n",
    "    \"task\": \"next_diag_12m\",  # options: death, stay, readmission, next_diag_12m\n",
    "    \"special_tokens\":[\"[PAD]\", \"[CLS]\"],\n",
    "    \"predicted_token_type\": [\"diag\", \"med\"],\n",
    "    \"batch_size\": 256,\n",
    "    \"lr\": 1e-3,\n",
    "    \"epochs\": 500,\n",
    "    \"model_name\": \"HG\",\n",
    "    \"early_stop_patience\": 10,\n",
    "    # model hyperparameters\n",
    "    \"level\": \"visit\",  # \"visit\" or \"patient\"\n",
    "    \"hg_all_num_layers\": 3,\n",
    "    \"hg_use_type_embed\": True,\n",
    "    \"MLP_num_layers\": 2,\n",
    "    \"hg_aggregate\": \"mean\",\n",
    "    \"hg_dropout\": 0.0,\n",
    "    \"normtype\": \"all_one\",\n",
    "    \"add_self_loop\": True,\n",
    "    \"hg_normalization\": \"ln\",\n",
    "    \"hg_hidden_size\": 48,\n",
    "    \"PMA\": True,\n",
    "    \"hg_num_heads\": 4,\n",
    "}"
   ]
  },
  {
   "cell_type": "code",
   "execution_count": 4,
   "id": "c32fba6c",
   "metadata": {},
   "outputs": [],
   "source": [
    "full_data_path = f\"/home/lideyi/HeteroGT-cuda/data_process/{args['dataset']}-processed/mimic.pkl\"\n",
    "\n",
    "if args[\"task\"] == \"next_diag_6m\":\n",
    "    finetune_data_path = f\"/home/lideyi/HeteroGT-cuda/data_process/{args['dataset']}-processed/mimic_nextdiag_6m.pkl\"\n",
    "elif args[\"task\"] == \"next_diag_12m\":\n",
    "    finetune_data_path = f\"/home/lideyi/HeteroGT-cuda/data_process/{args['dataset']}-processed/mimic_nextdiag_12m.pkl\"\n",
    "else:\n",
    "    finetune_data_path = f\"/home/lideyi/HeteroGT-cuda/data_process/{args['dataset']}-processed/mimic_downstream.pkl\""
   ]
  },
  {
   "cell_type": "code",
   "execution_count": 5,
   "id": "9ab08e48",
   "metadata": {},
   "outputs": [
    {
     "name": "stdout",
     "output_type": "stream",
     "text": [
      "Max admissions per patient: 8\n"
     ]
    }
   ],
   "source": [
    "ehr_full_data = pickle.load(open(full_data_path, 'rb'))\n",
    "diag_sentences = ehr_full_data[\"ICD9_CODE\"].values.tolist()\n",
    "med_sentences = ehr_full_data[\"NDC\"].values.tolist()\n",
    "lab_sentences = [[]]\n",
    "pro_sentences = [[]]\n",
    "age_gender_sentences = [\"[PAD]\"] + [str(c) + \"_\" + gender \\\n",
    "    for c in set(ehr_full_data[\"AGE\"].values.tolist()) for gender in [\"M\", \"F\"]] # PAD token special for age_gender vocabulary\n",
    "max_admissions = ehr_full_data.groupby(\"SUBJECT_ID\")[\"HADM_ID\"].nunique().max()\n",
    "args[\"max_adm_len\"] = max_admissions\n",
    "print(f\"Max admissions per patient: {max_admissions}\")"
   ]
  },
  {
   "cell_type": "code",
   "execution_count": 6,
   "id": "42864fb3",
   "metadata": {},
   "outputs": [
    {
     "name": "stdout",
     "output_type": "stream",
     "text": [
      "Age and gender vocabulary size: 37\n",
      "Global vocabulary size: 2145\n",
      "Label vocabulary size: 18\n"
     ]
    }
   ],
   "source": [
    "tokenizer = EHRTokenizer(age_gender_sentences, diag_sentences, med_sentences, lab_sentences, \n",
    "                         pro_sentences, special_tokens=args[\"special_tokens\"])\n",
    "args[\"age_gender_vocab_size\"] = tokenizer.token_number(\"age_gender\")\n",
    "args[\"global_vocab_size\"] = len(tokenizer.vocab.id2word)\n",
    "args[\"label_vocab_size\"] = len(PHENO_ORDER)\n",
    "print(f\"Age and gender vocabulary size: {args['age_gender_vocab_size']}\")\n",
    "print(f\"Global vocabulary size: {args['global_vocab_size']}\")\n",
    "print(f\"Label vocabulary size: {args['label_vocab_size']}\")"
   ]
  },
  {
   "cell_type": "code",
   "execution_count": 7,
   "id": "f7ff21ce",
   "metadata": {},
   "outputs": [],
   "source": [
    "train_data, val_data, test_data = pickle.load(open(finetune_data_path, 'rb'))\n",
    "train_data[\"EXP_FLAG\"] = 1\n",
    "val_data[\"EXP_FLAG\"] = 1\n",
    "test_data[\"EXP_FLAG\"] = 1\n",
    "\n",
    "# for transductiove learning, otherwise the graph is too sparse\n",
    "all_exp_ids = pd.concat([\n",
    "    train_data[\"SUBJECT_ID\"],\n",
    "    val_data[\"SUBJECT_ID\"],\n",
    "    test_data[\"SUBJECT_ID\"]\n",
    "]).unique()\n",
    "\n",
    "non_exp_data = ehr_full_data[~ehr_full_data[\"SUBJECT_ID\"].isin(all_exp_ids)].copy(deep = True)\n",
    "non_exp_data[\"EXP_FLAG\"] = 0\n",
    "\n",
    "# concat\n",
    "train_data_full = pd.concat([train_data, non_exp_data], axis = 0)\n",
    "val_data_full = pd.concat([val_data, non_exp_data], axis = 0)\n",
    "test_data_full = pd.concat([test_data, non_exp_data], axis = 0)"
   ]
  },
  {
   "cell_type": "code",
   "execution_count": 8,
   "id": "598dd8df",
   "metadata": {},
   "outputs": [
    {
     "name": "stdout",
     "output_type": "stream",
     "text": [
      "32949 32476 32476\n"
     ]
    }
   ],
   "source": [
    "# output: input_ids (a patient has multiple visits), labels\n",
    "train_dataset = FinetuneHGDataset(train_data_full, tokenizer, token_type=args[\"predicted_token_type\"], task=args[\"task\"], level=args[\"level\"])\n",
    "val_dataset = FinetuneHGDataset(val_data_full, tokenizer, token_type=args[\"predicted_token_type\"], task=args[\"task\"], level=args[\"level\"])\n",
    "test_dataset = FinetuneHGDataset(test_data_full, tokenizer, token_type=args[\"predicted_token_type\"], task=args[\"task\"], level=args[\"level\"])\n",
    "print(len(train_dataset), len(val_dataset), len(test_dataset))"
   ]
  },
  {
   "cell_type": "code",
   "execution_count": 9,
   "id": "42afdd7b",
   "metadata": {},
   "outputs": [
    {
     "name": "stdout",
     "output_type": "stream",
     "text": [
      "208 186\n"
     ]
    }
   ],
   "source": [
    "long_adm_seq_crite = 3\n",
    "val_long_seq_idx, test_long_seq_idx = [], []\n",
    "for i in range(len(val_dataset)):\n",
    "    hadm_id = list(val_dataset.records.keys())[i]\n",
    "    exp_flag = val_dataset.exp_flags[hadm_id]\n",
    "    num_adms = len(val_dataset.records[hadm_id])\n",
    "    if num_adms >= long_adm_seq_crite and exp_flag == True:\n",
    "        val_long_seq_idx.append(i)\n",
    "for i in range(len(test_dataset)):\n",
    "    hadm_id = list(test_dataset.records.keys())[i]\n",
    "    exp_flag = test_dataset.exp_flags[hadm_id]\n",
    "    num_adms = len(test_dataset.records[hadm_id])\n",
    "    if num_adms >= long_adm_seq_crite and exp_flag == True:\n",
    "        test_long_seq_idx.append(i)\n",
    "print(len(val_long_seq_idx), len(test_long_seq_idx))"
   ]
  },
  {
   "cell_type": "code",
   "execution_count": 10,
   "id": "d0769b44",
   "metadata": {},
   "outputs": [],
   "source": [
    "use_full_graph = True\n",
    "train_batch_size = len(train_dataset) if use_full_graph else args[\"batch_size\"]\n",
    "val_batch_size = len(val_dataset) if use_full_graph else args[\"batch_size\"]\n",
    "test_batch_size = len(test_dataset) if use_full_graph else args[\"batch_size\"]\n",
    "train_dataloader = DataLoader(train_dataset, collate_fn=batcher_SetGNN_finetune(device = device), batch_size = train_batch_size, shuffle = True)\n",
    "val_dataloader = DataLoader(val_dataset, collate_fn=batcher_SetGNN_finetune(device = device), batch_size = val_batch_size, shuffle = False)\n",
    "test_dataloader = DataLoader(test_dataset, collate_fn=batcher_SetGNN_finetune(device = device), batch_size = test_batch_size, shuffle = False)"
   ]
  },
  {
   "cell_type": "code",
   "execution_count": 11,
   "id": "3a3e5d45",
   "metadata": {},
   "outputs": [
    {
     "name": "stdout",
     "output_type": "stream",
     "text": [
      "Data(edge_index=[2, 702150], n_x=[1], num_hyperedges=[1], totedges=37760, norm=[702150])\n",
      "torch.Size([32949])\n",
      "torch.Size([32949])\n",
      "torch.Size([1883, 18])\n"
     ]
    }
   ],
   "source": [
    "# exmain HG properties\n",
    "batch = next(iter(train_dataloader))\n",
    "HG_sample, global_node_ids, last_visit_indices, exp_flags, labels = batch\n",
    "print(HG_sample)\n",
    "print(last_visit_indices.shape)\n",
    "print(exp_flags.shape)\n",
    "print(labels.shape)"
   ]
  },
  {
   "cell_type": "code",
   "execution_count": 12,
   "id": "92a62432",
   "metadata": {},
   "outputs": [],
   "source": [
    "if args[\"task\"] in [\"death\", \"stay\", \"readmission\"]:\n",
    "    eval_metric = \"prauc\"\n",
    "    task_type = \"binary\"\n",
    "    loss_fn = F.binary_cross_entropy_with_logits\n",
    "else:\n",
    "    eval_metric = \"prauc\"\n",
    "    task_type = \"l2r\"\n",
    "    loss_fn = lambda x, y: F.binary_cross_entropy_with_logits(x, y)"
   ]
  },
  {
   "cell_type": "code",
   "execution_count": 13,
   "id": "33afa400",
   "metadata": {},
   "outputs": [
    {
     "name": "stdout",
     "output_type": "stream",
     "text": [
      "[2746317213, 1181241943, 958682846, 3163119785, 1812140441, 127978094, 939042955, 2340505846, 946785248, 2530876844, 3460967357, 2998485882, 1461364854, 667779376, 1445662585, 398340369, 415393687, 3639960595, 2592983555, 3466589567]\n"
     ]
    }
   ],
   "source": [
    "random.seed(42)\n",
    "seeds = [random.randint(0, 2**32 - 1) for _ in range(20)]\n",
    "print(seeds)"
   ]
  },
  {
   "cell_type": "code",
   "execution_count": null,
   "id": "71af0347",
   "metadata": {},
   "outputs": [
    {
     "name": "stdout",
     "output_type": "stream",
     "text": [
      "[INFO] Random seed set to 2746317213\n",
      "Training with seed: 2746317213\n"
     ]
    },
    {
     "name": "stderr",
     "output_type": "stream",
     "text": [
      "Training Batches: 100%|██████████| 1/1 [00:06<00:00,  6.81s/it]\n",
      "Running inference: 100%|██████████| 1/1 [00:06<00:00,  6.37s/it]\n",
      "Running inference: 100%|██████████| 1/1 [00:07<00:00,  7.21s/it]\n"
     ]
    },
    {
     "name": "stdout",
     "output_type": "stream",
     "text": [
      "Epoch: 001, Average Loss: 0.6991\n",
      "Validation: {'precision': 0.16116466791526102, 'recall': 0.5838161933992092, 'f1': 0.1903875620316031, 'auc': 0.49453015508963116, 'prauc': 0.21498201784899212}\n",
      "Test:       {'precision': 0.15723778571459243, 'recall': 0.5831737580406986, 'f1': 0.19209292123181013, 'auc': 0.4934861987489826, 'prauc': 0.21398590648829158}\n"
     ]
    },
    {
     "name": "stderr",
     "output_type": "stream",
     "text": [
      "Training Batches: 100%|██████████| 1/1 [00:06<00:00,  6.92s/it]\n",
      "Running inference: 100%|██████████| 1/1 [00:06<00:00,  6.13s/it]\n",
      "Running inference: 100%|██████████| 1/1 [00:06<00:00,  6.44s/it]\n"
     ]
    },
    {
     "name": "stdout",
     "output_type": "stream",
     "text": [
      "Epoch: 002, Average Loss: 0.6954\n",
      "Validation: {'precision': 0.1361064525426462, 'recall': 0.5413912679934659, 'f1': 0.18373596863101224, 'auc': 0.510100303768315, 'prauc': 0.2250937172433193}\n",
      "Test:       {'precision': 0.1623980093680863, 'recall': 0.5420122794742329, 'f1': 0.18505620357459948, 'auc': 0.5118729292226776, 'prauc': 0.2233755364807447}\n"
     ]
    },
    {
     "name": "stderr",
     "output_type": "stream",
     "text": [
      "Training Batches: 100%|██████████| 1/1 [00:06<00:00,  6.94s/it]\n",
      "Running inference: 100%|██████████| 1/1 [00:06<00:00,  6.24s/it]\n",
      "Running inference: 100%|██████████| 1/1 [00:06<00:00,  6.17s/it]\n"
     ]
    },
    {
     "name": "stdout",
     "output_type": "stream",
     "text": [
      "Epoch: 003, Average Loss: 0.6915\n",
      "Validation: {'precision': 0.14295035021065203, 'recall': 0.4865003927686449, 'f1': 0.17010188323670417, 'auc': 0.5232557314239238, 'prauc': 0.23467668456967183}\n",
      "Test:       {'precision': 0.16395028197273806, 'recall': 0.4878133594183822, 'f1': 0.1709978974694244, 'auc': 0.5285385710790558, 'prauc': 0.23203657217486817}\n"
     ]
    },
    {
     "name": "stderr",
     "output_type": "stream",
     "text": [
      "Training Batches: 100%|██████████| 1/1 [00:06<00:00,  6.65s/it]\n",
      "Running inference: 100%|██████████| 1/1 [00:06<00:00,  6.43s/it]\n",
      "Running inference: 100%|██████████| 1/1 [00:06<00:00,  6.44s/it]\n"
     ]
    },
    {
     "name": "stdout",
     "output_type": "stream",
     "text": [
      "Epoch: 004, Average Loss: 0.6878\n",
      "Validation: {'precision': 0.1607502693679062, 'recall': 0.4098022951072444, 'f1': 0.16033709435403104, 'auc': 0.5351561957626403, 'prauc': 0.2448574912078805}\n",
      "Test:       {'precision': 0.162224932343505, 'recall': 0.41395022086865985, 'f1': 0.1613712283720183, 'auc': 0.5432407566443451, 'prauc': 0.240489689533563}\n"
     ]
    },
    {
     "name": "stderr",
     "output_type": "stream",
     "text": [
      "Training Batches: 100%|██████████| 1/1 [00:06<00:00,  6.74s/it]\n",
      "Running inference: 100%|██████████| 1/1 [00:06<00:00,  6.46s/it]\n",
      "Running inference: 100%|██████████| 1/1 [00:06<00:00,  6.31s/it]\n"
     ]
    },
    {
     "name": "stdout",
     "output_type": "stream",
     "text": [
      "Epoch: 005, Average Loss: 0.6844\n",
      "Validation: {'precision': 0.1735485832597001, 'recall': 0.31103342661440025, 'f1': 0.14454431055989492, 'auc': 0.5446867432029503, 'prauc': 0.2539441283921361}\n",
      "Test:       {'precision': 0.15789787385603493, 'recall': 0.3318784780874417, 'f1': 0.1509242526473672, 'auc': 0.553870233940748, 'prauc': 0.24808423678170943}\n"
     ]
    },
    {
     "name": "stderr",
     "output_type": "stream",
     "text": [
      "Training Batches: 100%|██████████| 1/1 [00:06<00:00,  6.64s/it]\n",
      "Running inference: 100%|██████████| 1/1 [00:06<00:00,  6.89s/it]\n",
      "Running inference: 100%|██████████| 1/1 [00:06<00:00,  6.55s/it]\n"
     ]
    },
    {
     "name": "stdout",
     "output_type": "stream",
     "text": [
      "Epoch: 006, Average Loss: 0.6795\n",
      "Validation: {'precision': 0.19104627460975523, 'recall': 0.24417621852129834, 'f1': 0.12943407926679207, 'auc': 0.551561436982198, 'prauc': 0.2621208338514085}\n",
      "Test:       {'precision': 0.17988712245056748, 'recall': 0.27055962174417986, 'f1': 0.13381164525422004, 'auc': 0.5610237742576643, 'prauc': 0.25461154713223083}\n"
     ]
    },
    {
     "name": "stderr",
     "output_type": "stream",
     "text": [
      "Training Batches: 100%|██████████| 1/1 [00:07<00:00,  7.04s/it]\n",
      "Running inference: 100%|██████████| 1/1 [00:06<00:00,  6.58s/it]\n",
      "Running inference: 100%|██████████| 1/1 [00:06<00:00,  6.11s/it]\n"
     ]
    },
    {
     "name": "stdout",
     "output_type": "stream",
     "text": [
      "Epoch: 007, Average Loss: 0.6754\n",
      "Validation: {'precision': 0.13475469559373782, 'recall': 0.17169911288154513, 'f1': 0.1102741952551612, 'auc': 0.5551801107435529, 'prauc': 0.2666688844867735}\n",
      "Test:       {'precision': 0.2038207113638239, 'recall': 0.18619177744341817, 'f1': 0.1110769229837287, 'auc': 0.5652462439689274, 'prauc': 0.2594412590277079}\n"
     ]
    },
    {
     "name": "stderr",
     "output_type": "stream",
     "text": [
      "Training Batches: 100%|██████████| 1/1 [00:06<00:00,  6.93s/it]\n",
      "Running inference: 100%|██████████| 1/1 [00:06<00:00,  6.67s/it]\n",
      "Running inference: 100%|██████████| 1/1 [00:06<00:00,  6.66s/it]\n"
     ]
    },
    {
     "name": "stdout",
     "output_type": "stream",
     "text": [
      "Epoch: 008, Average Loss: 0.6696\n",
      "Validation: {'precision': 0.13580931144337602, 'recall': 0.10119106322993937, 'f1': 0.08224283602468996, 'auc': 0.555767534504045, 'prauc': 0.26743822475119194}\n",
      "Test:       {'precision': 0.199550092830952, 'recall': 0.10783267513690878, 'f1': 0.08255996740776853, 'auc': 0.5662151716165823, 'prauc': 0.2610949338046862}\n"
     ]
    },
    {
     "name": "stderr",
     "output_type": "stream",
     "text": [
      "Training Batches: 100%|██████████| 1/1 [00:06<00:00,  7.00s/it]\n",
      "Running inference: 100%|██████████| 1/1 [00:06<00:00,  6.72s/it]\n",
      "Running inference: 100%|██████████| 1/1 [00:06<00:00,  6.15s/it]\n"
     ]
    },
    {
     "name": "stdout",
     "output_type": "stream",
     "text": [
      "Epoch: 009, Average Loss: 0.6641\n",
      "Validation: {'precision': 0.14465589514444888, 'recall': 0.0461074054358852, 'f1': 0.04957393012361221, 'auc': 0.5534621344575092, 'prauc': 0.26558055600028996}\n",
      "Test:       {'precision': 0.12443092292405665, 'recall': 0.05501389816594776, 'f1': 0.05239517129279611, 'auc': 0.565233663036073, 'prauc': 0.2615251984667341}\n"
     ]
    },
    {
     "name": "stderr",
     "output_type": "stream",
     "text": [
      "Training Batches: 100%|██████████| 1/1 [00:06<00:00,  6.95s/it]\n",
      "Running inference: 100%|██████████| 1/1 [00:06<00:00,  6.57s/it]\n",
      "Running inference: 100%|██████████| 1/1 [00:06<00:00,  6.90s/it]\n"
     ]
    },
    {
     "name": "stdout",
     "output_type": "stream",
     "text": [
      "Epoch: 010, Average Loss: 0.6585\n",
      "Validation: {'precision': 0.08460547243594099, 'recall': 0.015937103832881945, 'f1': 0.023585856310446327, 'auc': 0.5493122785860033, 'prauc': 0.2632528548151092}\n",
      "Test:       {'precision': 0.0869254809436145, 'recall': 0.017601364500530056, 'f1': 0.02491122204683799, 'auc': 0.5631219217038913, 'prauc': 0.26067975632610885}\n"
     ]
    },
    {
     "name": "stderr",
     "output_type": "stream",
     "text": [
      "Training Batches: 100%|██████████| 1/1 [00:07<00:00,  7.34s/it]\n",
      "Running inference: 100%|██████████| 1/1 [00:06<00:00,  6.21s/it]\n",
      "Running inference: 100%|██████████| 1/1 [00:06<00:00,  6.70s/it]\n"
     ]
    },
    {
     "name": "stdout",
     "output_type": "stream",
     "text": [
      "Epoch: 011, Average Loss: 0.6516\n",
      "Validation: {'precision': 0.0713349465618068, 'recall': 0.003109983741777376, 'f1': 0.005800236319367576, 'auc': 0.5436680394325599, 'prauc': 0.2595430659967797}\n",
      "Test:       {'precision': 0.0923881673881674, 'recall': 0.004222694249321999, 'f1': 0.007763160113415284, 'auc': 0.5585263357235204, 'prauc': 0.2581420870326402}\n"
     ]
    },
    {
     "name": "stderr",
     "output_type": "stream",
     "text": [
      "Training Batches: 100%|██████████| 1/1 [00:07<00:00,  7.03s/it]\n",
      "Running inference: 100%|██████████| 1/1 [00:06<00:00,  6.43s/it]\n",
      "Running inference: 100%|██████████| 1/1 [00:06<00:00,  6.58s/it]\n"
     ]
    },
    {
     "name": "stdout",
     "output_type": "stream",
     "text": [
      "Epoch: 012, Average Loss: 0.6430\n",
      "Validation: {'precision': 0.09427609427609428, 'recall': 0.0006230297862908833, 'f1': 0.001229662149202379, 'auc': 0.537087623659056, 'prauc': 0.2557779113307724}\n",
      "Test:       {'precision': 0.05555555555555555, 'recall': 0.0007966290619148367, 'f1': 0.001563125865305484, 'auc': 0.5530006623260272, 'prauc': 0.2544264402705361}\n"
     ]
    },
    {
     "name": "stderr",
     "output_type": "stream",
     "text": [
      "Training Batches: 100%|██████████| 1/1 [00:06<00:00,  6.86s/it]\n",
      "Running inference: 100%|██████████| 1/1 [00:06<00:00,  6.15s/it]\n",
      "Running inference: 100%|██████████| 1/1 [00:06<00:00,  6.69s/it]\n"
     ]
    },
    {
     "name": "stdout",
     "output_type": "stream",
     "text": [
      "Epoch: 013, Average Loss: 0.6366\n",
      "Validation: {'precision': 0.018518518518518517, 'recall': 0.00010787486515641856, 'f1': 0.0002145002145002145, 'auc': 0.5304414046356335, 'prauc': 0.2519792325775417}\n",
      "Test:       {'precision': 0.06944444444444445, 'recall': 0.0004984776009726781, 'f1': 0.000988238026990536, 'auc': 0.5474101518798199, 'prauc': 0.25011140501245177}\n"
     ]
    },
    {
     "name": "stderr",
     "output_type": "stream",
     "text": [
      "Training Batches: 100%|██████████| 1/1 [00:06<00:00,  6.71s/it]\n",
      "Running inference: 100%|██████████| 1/1 [00:06<00:00,  6.36s/it]\n",
      "Running inference: 100%|██████████| 1/1 [00:06<00:00,  6.71s/it]\n"
     ]
    },
    {
     "name": "stdout",
     "output_type": "stream",
     "text": [
      "Epoch: 014, Average Loss: 0.6297\n",
      "Validation: {'precision': 0.018518518518518517, 'recall': 0.00010787486515641856, 'f1': 0.0002145002145002145, 'auc': 0.5246034829306325, 'prauc': 0.2486191976995242}\n",
      "Test:       {'precision': 0.041666666666666664, 'recall': 0.0002888645037626817, 'f1': 0.0005723208621759347, 'auc': 0.5424345921534824, 'prauc': 0.24730359625846074}\n"
     ]
    },
    {
     "name": "stderr",
     "output_type": "stream",
     "text": [
      "Training Batches: 100%|██████████| 1/1 [00:06<00:00,  6.67s/it]\n",
      "Running inference: 100%|██████████| 1/1 [00:06<00:00,  6.66s/it]\n",
      "Running inference: 100%|██████████| 1/1 [00:06<00:00,  6.18s/it]\n"
     ]
    },
    {
     "name": "stdout",
     "output_type": "stream",
     "text": [
      "Epoch: 015, Average Loss: 0.6199\n",
      "Validation: {'precision': 0.027777777777777776, 'recall': 0.00010787486515641856, 'f1': 0.0002149151085321298, 'auc': 0.5192752540492751, 'prauc': 0.2456062529158527}\n",
      "Test:       {'precision': 0.07407407407407407, 'recall': 0.0002888645037626817, 'f1': 0.0005752794214332677, 'auc': 0.5376921629754452, 'prauc': 0.24492632521635185}\n"
     ]
    },
    {
     "name": "stderr",
     "output_type": "stream",
     "text": [
      "Training Batches: 100%|██████████| 1/1 [00:06<00:00,  6.88s/it]\n",
      "Running inference: 100%|██████████| 1/1 [00:06<00:00,  6.29s/it]\n",
      "Running inference: 100%|██████████| 1/1 [00:06<00:00,  6.25s/it]\n"
     ]
    },
    {
     "name": "stdout",
     "output_type": "stream",
     "text": [
      "Epoch: 016, Average Loss: 0.6105\n",
      "Validation: {'precision': 0.027777777777777776, 'recall': 0.0002157497303128371, 'f1': 0.00042817383857846286, 'auc': 0.5148476426675688, 'prauc': 0.24334848104112666}\n",
      "Test:       {'precision': 0.027777777777777776, 'recall': 0.00011022927689594356, 'f1': 0.00021958717610891522, 'auc': 0.5340531710884628, 'prauc': 0.24227135959273177}\n"
     ]
    },
    {
     "name": "stderr",
     "output_type": "stream",
     "text": [
      "Training Batches: 100%|██████████| 1/1 [00:07<00:00,  7.13s/it]\n",
      "Running inference: 100%|██████████| 1/1 [00:06<00:00,  6.61s/it]\n",
      "Running inference: 100%|██████████| 1/1 [00:07<00:00,  7.08s/it]\n"
     ]
    },
    {
     "name": "stdout",
     "output_type": "stream",
     "text": [
      "Epoch: 017, Average Loss: 0.6020\n",
      "Validation: {'precision': 0.031746031746031744, 'recall': 0.0004314994606256742, 'f1': 0.0008514261387824605, 'auc': 0.5114048326585754, 'prauc': 0.24156661697475335}\n",
      "Test:       {'precision': 0.08333333333333333, 'recall': 0.0003935288203200976, 'f1': 0.0007825108817919499, 'auc': 0.5311079993300304, 'prauc': 0.240716433783084}\n"
     ]
    },
    {
     "name": "stderr",
     "output_type": "stream",
     "text": [
      "Training Batches: 100%|██████████| 1/1 [00:06<00:00,  6.44s/it]\n",
      "Running inference: 100%|██████████| 1/1 [00:06<00:00,  6.30s/it]\n",
      "Running inference: 100%|██████████| 1/1 [00:06<00:00,  6.63s/it]\n"
     ]
    },
    {
     "name": "stdout",
     "output_type": "stream",
     "text": [
      "Epoch: 018, Average Loss: 0.5947\n",
      "Validation: {'precision': 0.034722222222222224, 'recall': 0.0005393743257820927, 'f1': 0.0010622477161674102, 'auc': 0.508364688465142, 'prauc': 0.23974448268188142}\n",
      "Test:       {'precision': 0.08333333333333333, 'recall': 0.0003935288203200976, 'f1': 0.0007825108817919499, 'auc': 0.5286293397207981, 'prauc': 0.23918838966054062}\n"
     ]
    },
    {
     "name": "stderr",
     "output_type": "stream",
     "text": [
      "Training Batches: 100%|██████████| 1/1 [00:06<00:00,  6.70s/it]\n",
      "Running inference: 100%|██████████| 1/1 [00:06<00:00,  6.79s/it]\n",
      "Running inference: 100%|██████████| 1/1 [00:06<00:00,  6.87s/it]\n"
     ]
    },
    {
     "name": "stdout",
     "output_type": "stream",
     "text": [
      "Epoch: 019, Average Loss: 0.5857\n",
      "Validation: {'precision': 0.04040404040404041, 'recall': 0.0008629989212513484, 'f1': 0.0016899028305872412, 'auc': 0.5058765188604505, 'prauc': 0.23820533709294991}\n",
      "Test:       {'precision': 0.07777777777777778, 'recall': 0.0003935288203200976, 'f1': 0.0007816514607323524, 'auc': 0.5266093920044859, 'prauc': 0.23805653818653422}\n"
     ]
    },
    {
     "name": "stderr",
     "output_type": "stream",
     "text": [
      "Training Batches: 100%|██████████| 1/1 [00:07<00:00,  7.25s/it]\n",
      "Running inference: 100%|██████████| 1/1 [00:06<00:00,  6.49s/it]\n",
      "Running inference: 100%|██████████| 1/1 [00:06<00:00,  6.11s/it]\n"
     ]
    },
    {
     "name": "stdout",
     "output_type": "stream",
     "text": [
      "Epoch: 020, Average Loss: 0.5755\n",
      "Validation: {'precision': 0.042735042735042736, 'recall': 0.0010787486515641855, 'f1': 0.0021043771043771043, 'auc': 0.5037171950372242, 'prauc': 0.2364592376109179}\n",
      "Test:       {'precision': 0.018518518518518517, 'recall': 0.0002204585537918871, 'f1': 0.00043572984749455336, 'auc': 0.5250916669870952, 'prauc': 0.23688594720428396}\n"
     ]
    },
    {
     "name": "stderr",
     "output_type": "stream",
     "text": [
      "Training Batches: 100%|██████████| 1/1 [00:06<00:00,  6.71s/it]\n",
      "Running inference: 100%|██████████| 1/1 [00:06<00:00,  6.68s/it]\n",
      "Running inference: 100%|██████████| 1/1 [00:06<00:00,  6.72s/it]\n"
     ]
    },
    {
     "name": "stdout",
     "output_type": "stream",
     "text": [
      "Epoch: 021, Average Loss: 0.5661\n",
      "Validation: {'precision': 0.044444444444444446, 'recall': 0.0012944983818770227, 'f1': 0.0025157232704402514, 'auc': 0.502654990347445, 'prauc': 0.23542146221768098}\n",
      "Test:       {'precision': 0.018518518518518517, 'recall': 0.00033068783068783067, 'f1': 0.000649772579597141, 'auc': 0.5242661783473294, 'prauc': 0.2361699906362641}\n"
     ]
    },
    {
     "name": "stderr",
     "output_type": "stream",
     "text": [
      "Training Batches: 100%|██████████| 1/1 [00:06<00:00,  6.91s/it]\n",
      "Running inference: 100%|██████████| 1/1 [00:06<00:00,  6.54s/it]\n",
      "Running inference: 100%|██████████| 1/1 [00:06<00:00,  6.20s/it]\n"
     ]
    },
    {
     "name": "stdout",
     "output_type": "stream",
     "text": [
      "Epoch: 022, Average Loss: 0.5589\n",
      "Validation: {'precision': 0.0457516339869281, 'recall': 0.0015102481121898597, 'f1': 0.0029239766081871343, 'auc': 0.5018667075647956, 'prauc': 0.2336691379959082}\n",
      "Test:       {'precision': 0.01515151515151515, 'recall': 0.00033068783068783067, 'f1': 0.0006472491909385113, 'auc': 0.5235635081970517, 'prauc': 0.23489846579126153}\n"
     ]
    },
    {
     "name": "stderr",
     "output_type": "stream",
     "text": [
      "Training Batches: 100%|██████████| 1/1 [00:07<00:00,  7.03s/it]\n",
      "Running inference: 100%|██████████| 1/1 [00:06<00:00,  6.36s/it]\n",
      "Running inference: 100%|██████████| 1/1 [00:06<00:00,  6.38s/it]\n"
     ]
    },
    {
     "name": "stdout",
     "output_type": "stream",
     "text": [
      "Epoch: 023, Average Loss: 0.5506\n",
      "Validation: {'precision': 0.0457516339869281, 'recall': 0.0015102481121898597, 'f1': 0.0029239766081871343, 'auc': 0.5023189173650136, 'prauc': 0.23325052025988935}\n",
      "Test:       {'precision': 0.018518518518518517, 'recall': 0.0004409171075837742, 'f1': 0.0008613264427217916, 'auc': 0.5240184321859434, 'prauc': 0.23441819234575834}\n"
     ]
    },
    {
     "name": "stderr",
     "output_type": "stream",
     "text": [
      "Training Batches: 100%|██████████| 1/1 [00:06<00:00,  6.35s/it]\n",
      "Running inference: 100%|██████████| 1/1 [00:06<00:00,  6.27s/it]\n",
      "Running inference: 100%|██████████| 1/1 [00:06<00:00,  6.57s/it]\n"
     ]
    },
    {
     "name": "stdout",
     "output_type": "stream",
     "text": [
      "Epoch: 024, Average Loss: 0.5417\n",
      "Validation: {'precision': 0.044444444444444446, 'recall': 0.001725997842502697, 'f1': 0.0033229491173416407, 'auc': 0.5038982419002637, 'prauc': 0.2339742318926781}\n",
      "Test:       {'precision': 0.017361111111111112, 'recall': 0.0005511463844797178, 'f1': 0.0010683760683760685, 'auc': 0.5255911805907663, 'prauc': 0.23497619479859042}\n"
     ]
    },
    {
     "name": "stderr",
     "output_type": "stream",
     "text": [
      "Training Batches: 100%|██████████| 1/1 [00:06<00:00,  6.32s/it]\n",
      "Running inference: 100%|██████████| 1/1 [00:06<00:00,  6.58s/it]\n",
      "Running inference: 100%|██████████| 1/1 [00:06<00:00,  6.50s/it]\n"
     ]
    },
    {
     "name": "stdout",
     "output_type": "stream",
     "text": [
      "Epoch: 025, Average Loss: 0.5336\n",
      "Validation: {'precision': 0.0966183574879227, 'recall': 0.0019367533660953297, 'f1': 0.0037163268718491387, 'auc': 0.5062594420412664, 'prauc': 0.2357553101521782}\n",
      "Test:       {'precision': 0.0196078431372549, 'recall': 0.0006613756613756613, 'f1': 0.0012795905310300703, 'auc': 0.5278033100847571, 'prauc': 0.23648166909470358}\n"
     ]
    },
    {
     "name": "stderr",
     "output_type": "stream",
     "text": [
      "Training Batches: 100%|██████████| 1/1 [00:06<00:00,  6.53s/it]\n",
      "Running inference: 100%|██████████| 1/1 [00:06<00:00,  6.75s/it]\n",
      "Running inference: 100%|██████████| 1/1 [00:06<00:00,  6.65s/it]\n"
     ]
    },
    {
     "name": "stdout",
     "output_type": "stream",
     "text": [
      "Epoch: 026, Average Loss: 0.5266\n",
      "Validation: {'precision': 0.09053497942386832, 'recall': 0.0019367533660953297, 'f1': 0.0036904158320695962, 'auc': 0.5097828188998472, 'prauc': 0.23801637625096225}\n",
      "Test:       {'precision': 0.08333333333333333, 'recall': 0.0016472464974337632, 'f1': 0.003131660928020987, 'auc': 0.530943025676605, 'prauc': 0.23889097813791638}\n"
     ]
    },
    {
     "name": "stderr",
     "output_type": "stream",
     "text": [
      "Training Batches: 100%|██████████| 1/1 [00:07<00:00,  7.44s/it]\n",
      "Running inference: 100%|██████████| 1/1 [00:06<00:00,  6.32s/it]\n",
      "Running inference: 100%|██████████| 1/1 [00:06<00:00,  6.30s/it]\n"
     ]
    },
    {
     "name": "stdout",
     "output_type": "stream",
     "text": [
      "Epoch: 027, Average Loss: 0.5179\n",
      "Validation: {'precision': 0.11868686868686867, 'recall': 0.0028781503966347943, 'f1': 0.0054745173749178085, 'auc': 0.5136384912653194, 'prauc': 0.24060683926101767}\n",
      "Test:       {'precision': 0.13804713804713806, 'recall': 0.002283075142094651, 'f1': 0.004344358064945384, 'auc': 0.5344684800607511, 'prauc': 0.2413893303804334}\n"
     ]
    },
    {
     "name": "stderr",
     "output_type": "stream",
     "text": [
      "Training Batches: 100%|██████████| 1/1 [00:06<00:00,  6.73s/it]\n",
      "Running inference: 100%|██████████| 1/1 [00:06<00:00,  6.51s/it]\n",
      "Running inference: 100%|██████████| 1/1 [00:06<00:00,  6.35s/it]\n"
     ]
    },
    {
     "name": "stdout",
     "output_type": "stream",
     "text": [
      "Epoch: 028, Average Loss: 0.5116\n",
      "Validation: {'precision': 0.11983618233618233, 'recall': 0.003917433878890268, 'f1': 0.007429668342821983, 'auc': 0.5176053699877315, 'prauc': 0.2434789330175449}\n",
      "Test:       {'precision': 0.13095238095238096, 'recall': 0.0034568884665312637, 'f1': 0.006531966674034551, 'auc': 0.5380952113599662, 'prauc': 0.24397844958300682}\n"
     ]
    },
    {
     "name": "stderr",
     "output_type": "stream",
     "text": [
      "Training Batches: 100%|██████████| 1/1 [00:06<00:00,  6.78s/it]\n",
      "Running inference: 100%|██████████| 1/1 [00:06<00:00,  6.85s/it]\n",
      "Running inference: 100%|██████████| 1/1 [00:06<00:00,  6.13s/it]\n"
     ]
    },
    {
     "name": "stdout",
     "output_type": "stream",
     "text": [
      "Epoch: 029, Average Loss: 0.5057\n",
      "Validation: {'precision': 0.1257340543054829, 'recall': 0.005605468459506681, 'f1': 0.01049957463908447, 'auc': 0.5218907475121723, 'prauc': 0.24609922480678423}\n",
      "Test:       {'precision': 0.13032012245848723, 'recall': 0.00526808322101519, 'f1': 0.00985231407114021, 'auc': 0.5419777593988433, 'prauc': 0.24636271700296555}\n"
     ]
    },
    {
     "name": "stderr",
     "output_type": "stream",
     "text": [
      "Training Batches: 100%|██████████| 1/1 [00:06<00:00,  6.97s/it]\n",
      "Running inference: 100%|██████████| 1/1 [00:06<00:00,  6.25s/it]\n",
      "Running inference: 100%|██████████| 1/1 [00:06<00:00,  6.50s/it]\n"
     ]
    },
    {
     "name": "stdout",
     "output_type": "stream",
     "text": [
      "Epoch: 030, Average Loss: 0.4984\n",
      "Validation: {'precision': 0.12560906346217082, 'recall': 0.007151645696831093, 'f1': 0.013279012563211425, 'auc': 0.5270422137234977, 'prauc': 0.2489592853678572}\n",
      "Test:       {'precision': 0.12455851905979783, 'recall': 0.007409189413493734, 'f1': 0.013595895427134207, 'auc': 0.5467659224484377, 'prauc': 0.2489524229891937}\n"
     ]
    },
    {
     "name": "stderr",
     "output_type": "stream",
     "text": [
      "Training Batches: 100%|██████████| 1/1 [00:07<00:00,  7.00s/it]\n",
      "Running inference: 100%|██████████| 1/1 [00:06<00:00,  6.41s/it]\n",
      "Running inference: 100%|██████████| 1/1 [00:06<00:00,  6.33s/it]\n"
     ]
    },
    {
     "name": "stdout",
     "output_type": "stream",
     "text": [
      "Epoch: 031, Average Loss: 0.4939\n",
      "Validation: {'precision': 0.12235837660801235, 'recall': 0.009135330024470884, 'f1': 0.016711256336474887, 'auc': 0.533101894523662, 'prauc': 0.2523011241135411}\n",
      "Test:       {'precision': 0.1165508468140047, 'recall': 0.008570229229572962, 'f1': 0.015589056940723548, 'auc': 0.552173468569734, 'prauc': 0.2521128247675107}\n"
     ]
    },
    {
     "name": "stderr",
     "output_type": "stream",
     "text": [
      "Training Batches: 100%|██████████| 1/1 [00:07<00:00,  7.02s/it]\n",
      "Running inference: 100%|██████████| 1/1 [00:06<00:00,  6.34s/it]\n",
      "Running inference: 100%|██████████| 1/1 [00:06<00:00,  6.78s/it]\n"
     ]
    },
    {
     "name": "stdout",
     "output_type": "stream",
     "text": [
      "Epoch: 032, Average Loss: 0.4884\n",
      "Validation: {'precision': 0.12230955600631058, 'recall': 0.011859155788044992, 'f1': 0.021253659740667737, 'auc': 0.5402374448784898, 'prauc': 0.2561372245958197}\n",
      "Test:       {'precision': 0.11034968773541347, 'recall': 0.009744042554009574, 'f1': 0.017495809512875327, 'auc': 0.5580731916006428, 'prauc': 0.25550440705807476}\n"
     ]
    },
    {
     "name": "stderr",
     "output_type": "stream",
     "text": [
      "Training Batches: 100%|██████████| 1/1 [00:07<00:00,  7.07s/it]\n",
      "Running inference: 100%|██████████| 1/1 [00:06<00:00,  6.15s/it]\n",
      "Running inference: 100%|██████████| 1/1 [00:06<00:00,  6.75s/it]\n"
     ]
    },
    {
     "name": "stdout",
     "output_type": "stream",
     "text": [
      "Epoch: 033, Average Loss: 0.4835\n",
      "Validation: {'precision': 0.11999426589296602, 'recall': 0.012899941177722894, 'f1': 0.022871231667992695, 'auc': 0.5478462942552086, 'prauc': 0.2604960421188265}\n",
      "Test:       {'precision': 0.11388393741334918, 'recall': 0.011475971311624505, 'f1': 0.02022404553631432, 'auc': 0.5649053909499111, 'prauc': 0.2596826923146404}\n"
     ]
    },
    {
     "name": "stderr",
     "output_type": "stream",
     "text": [
      "Training Batches: 100%|██████████| 1/1 [00:07<00:00,  7.21s/it]\n",
      "Running inference: 100%|██████████| 1/1 [00:06<00:00,  6.29s/it]\n",
      "Running inference: 100%|██████████| 1/1 [00:06<00:00,  6.96s/it]\n"
     ]
    },
    {
     "name": "stdout",
     "output_type": "stream",
     "text": [
      "Epoch: 034, Average Loss: 0.4783\n",
      "Validation: {'precision': 0.11869782858229584, 'recall': 0.015112367463960783, 'f1': 0.026242580133260505, 'auc': 0.5573696334222484, 'prauc': 0.266228701643564}\n",
      "Test:       {'precision': 0.11419014708488391, 'recall': 0.013388873508919347, 'f1': 0.0232728554288648, 'auc': 0.5736430175968456, 'prauc': 0.26506286574623805}\n"
     ]
    },
    {
     "name": "stderr",
     "output_type": "stream",
     "text": [
      "Training Batches: 100%|██████████| 1/1 [00:06<00:00,  6.71s/it]\n",
      "Running inference: 100%|██████████| 1/1 [00:06<00:00,  6.36s/it]\n",
      "Running inference: 100%|██████████| 1/1 [00:06<00:00,  6.38s/it]\n"
     ]
    },
    {
     "name": "stdout",
     "output_type": "stream",
     "text": [
      "Epoch: 035, Average Loss: 0.4737\n",
      "Validation: {'precision': 0.11907679738562092, 'recall': 0.01721440355465033, 'f1': 0.02926777022901725, 'auc': 0.5656780412647838, 'prauc': 0.27166588961852367}\n",
      "Test:       {'precision': 0.1134097384097384, 'recall': 0.015113056825142464, 'f1': 0.025737043585366357, 'auc': 0.5803899372935797, 'prauc': 0.2701442085062006}\n"
     ]
    },
    {
     "name": "stderr",
     "output_type": "stream",
     "text": [
      "Training Batches: 100%|██████████| 1/1 [00:06<00:00,  6.94s/it]\n",
      "Running inference: 100%|██████████| 1/1 [00:06<00:00,  6.27s/it]\n",
      "Running inference: 100%|██████████| 1/1 [00:06<00:00,  6.33s/it]\n"
     ]
    },
    {
     "name": "stdout",
     "output_type": "stream",
     "text": [
      "Epoch: 036, Average Loss: 0.4720\n",
      "Validation: {'precision': 0.11950434326669804, 'recall': 0.020243867478688227, 'f1': 0.033639143194979376, 'auc': 0.5732363700799569, 'prauc': 0.2774716136398998}\n",
      "Test:       {'precision': 0.11470959595959594, 'recall': 0.018193967887215133, 'f1': 0.03036416904342885, 'auc': 0.5869171446049837, 'prauc': 0.27562430409052807}\n"
     ]
    },
    {
     "name": "stderr",
     "output_type": "stream",
     "text": [
      "Training Batches: 100%|██████████| 1/1 [00:06<00:00,  6.46s/it]\n",
      "Running inference: 100%|██████████| 1/1 [00:06<00:00,  6.13s/it]\n",
      "Running inference: 100%|██████████| 1/1 [00:06<00:00,  6.50s/it]\n"
     ]
    },
    {
     "name": "stdout",
     "output_type": "stream",
     "text": [
      "Epoch: 037, Average Loss: 0.4664\n",
      "Validation: {'precision': 0.17424297337595174, 'recall': 0.022180267739882464, 'f1': 0.03640427223592211, 'auc': 0.5793777007670089, 'prauc': 0.28275308256668225}\n",
      "Test:       {'precision': 0.1137802237757615, 'recall': 0.02062511220722971, 'f1': 0.033800680204456646, 'auc': 0.5918360302447799, 'prauc': 0.28014974355715216}\n"
     ]
    },
    {
     "name": "stderr",
     "output_type": "stream",
     "text": [
      "Training Batches: 100%|██████████| 1/1 [00:06<00:00,  6.60s/it]\n",
      "Running inference: 100%|██████████| 1/1 [00:06<00:00,  6.42s/it]\n",
      "Running inference: 100%|██████████| 1/1 [00:06<00:00,  6.36s/it]\n"
     ]
    },
    {
     "name": "stdout",
     "output_type": "stream",
     "text": [
      "Epoch: 038, Average Loss: 0.4624\n",
      "Validation: {'precision': 0.17065177774133, 'recall': 0.023323933787996576, 'f1': 0.0378437231080245, 'auc': 0.584826014884278, 'prauc': 0.2878261515593022}\n",
      "Test:       {'precision': 0.11397603754940712, 'recall': 0.022830769906486827, 'f1': 0.036981012572750244, 'auc': 0.5964988227833564, 'prauc': 0.2846118034238843}\n"
     ]
    },
    {
     "name": "stderr",
     "output_type": "stream",
     "text": [
      "Training Batches: 100%|██████████| 1/1 [00:07<00:00,  7.28s/it]\n",
      "Running inference: 100%|██████████| 1/1 [00:06<00:00,  6.34s/it]\n",
      "Running inference: 100%|██████████| 1/1 [00:06<00:00,  6.76s/it]\n"
     ]
    },
    {
     "name": "stdout",
     "output_type": "stream",
     "text": [
      "Epoch: 039, Average Loss: 0.4602\n",
      "Validation: {'precision': 0.16960936268336646, 'recall': 0.024983993520167114, 'f1': 0.04011854480599322, 'auc': 0.5882950766434007, 'prauc': 0.29123078447427797}\n",
      "Test:       {'precision': 0.11264513658130679, 'recall': 0.024081908246059398, 'f1': 0.03853778634125455, 'auc': 0.5994046577861343, 'prauc': 0.2875251866847433}\n"
     ]
    },
    {
     "name": "stderr",
     "output_type": "stream",
     "text": [
      "Training Batches: 100%|██████████| 1/1 [00:06<00:00,  6.59s/it]\n",
      "Running inference: 100%|██████████| 1/1 [00:06<00:00,  6.14s/it]\n",
      "Running inference: 100%|██████████| 1/1 [00:06<00:00,  6.77s/it]\n"
     ]
    },
    {
     "name": "stdout",
     "output_type": "stream",
     "text": [
      "Epoch: 040, Average Loss: 0.4563\n",
      "Validation: {'precision': 0.17014532195879348, 'recall': 0.026305625161135993, 'f1': 0.04192192118975583, 'auc': 0.5911379534996317, 'prauc': 0.2938412875298957}\n",
      "Test:       {'precision': 0.11301235121270979, 'recall': 0.025443275862527915, 'f1': 0.0403626853864055, 'auc': 0.6019845947590857, 'prauc': 0.2901764423274328}\n"
     ]
    },
    {
     "name": "stderr",
     "output_type": "stream",
     "text": [
      "Training Batches: 100%|██████████| 1/1 [00:06<00:00,  6.80s/it]\n",
      "Running inference: 100%|██████████| 1/1 [00:06<00:00,  6.96s/it]\n",
      "Running inference: 100%|██████████| 1/1 [00:06<00:00,  6.72s/it]\n"
     ]
    },
    {
     "name": "stdout",
     "output_type": "stream",
     "text": [
      "Epoch: 041, Average Loss: 0.4544\n",
      "Validation: {'precision': 0.17182422365349195, 'recall': 0.02887910707540012, 'f1': 0.04555980444387843, 'auc': 0.5940568349205329, 'prauc': 0.29634733197563584}\n",
      "Test:       {'precision': 0.15568571392022926, 'recall': 0.028341214627897873, 'f1': 0.04461077901031494, 'auc': 0.604663643118819, 'prauc': 0.2925925725746691}\n"
     ]
    },
    {
     "name": "stderr",
     "output_type": "stream",
     "text": [
      "Training Batches: 100%|██████████| 1/1 [00:07<00:00,  7.52s/it]\n",
      "Running inference: 100%|██████████| 1/1 [00:06<00:00,  6.19s/it]\n",
      "Running inference: 100%|██████████| 1/1 [00:06<00:00,  6.34s/it]\n"
     ]
    },
    {
     "name": "stdout",
     "output_type": "stream",
     "text": [
      "Epoch: 042, Average Loss: 0.4516\n",
      "Validation: {'precision': 0.17082867910907482, 'recall': 0.032833130397493346, 'f1': 0.05076040668606847, 'auc': 0.5981092235736335, 'prauc': 0.29989918949311806}\n",
      "Test:       {'precision': 0.15788870035193567, 'recall': 0.03310735012531344, 'f1': 0.05096086199366404, 'auc': 0.6086185708556012, 'prauc': 0.29677569058663444}\n"
     ]
    },
    {
     "name": "stderr",
     "output_type": "stream",
     "text": [
      "Training Batches: 100%|██████████| 1/1 [00:06<00:00,  6.80s/it]\n",
      "Running inference: 100%|██████████| 1/1 [00:06<00:00,  6.74s/it]\n",
      "Running inference: 100%|██████████| 1/1 [00:06<00:00,  6.96s/it]\n"
     ]
    },
    {
     "name": "stdout",
     "output_type": "stream",
     "text": [
      "Epoch: 043, Average Loss: 0.4483\n",
      "Validation: {'precision': 0.15502075308838595, 'recall': 0.03652411992282819, 'f1': 0.055558732451412664, 'auc': 0.6018552291282208, 'prauc': 0.30338940148976173}\n",
      "Test:       {'precision': 0.15097857054378794, 'recall': 0.03685573707706559, 'f1': 0.05538102780571348, 'auc': 0.612054939832267, 'prauc': 0.3005425774677734}\n"
     ]
    },
    {
     "name": "stderr",
     "output_type": "stream",
     "text": [
      "Training Batches: 100%|██████████| 1/1 [00:07<00:00,  7.15s/it]\n",
      "Running inference: 100%|██████████| 1/1 [00:06<00:00,  6.64s/it]\n",
      "Running inference: 100%|██████████| 1/1 [00:07<00:00,  7.48s/it]\n"
     ]
    },
    {
     "name": "stdout",
     "output_type": "stream",
     "text": [
      "Epoch: 044, Average Loss: 0.4479\n",
      "Validation: {'precision': 0.15662835920890208, 'recall': 0.04186319037501781, 'f1': 0.061559028249574314, 'auc': 0.6063182935958275, 'prauc': 0.3081288253726452}\n",
      "Test:       {'precision': 0.14585908619999527, 'recall': 0.04210682223909431, 'f1': 0.061090896945446324, 'auc': 0.6158161722184028, 'prauc': 0.30528293355187547}\n"
     ]
    },
    {
     "name": "stderr",
     "output_type": "stream",
     "text": [
      "Training Batches: 100%|██████████| 1/1 [00:06<00:00,  6.69s/it]\n",
      "Running inference: 100%|██████████| 1/1 [00:06<00:00,  6.38s/it]\n",
      "Running inference: 100%|██████████| 1/1 [00:06<00:00,  6.31s/it]\n"
     ]
    },
    {
     "name": "stdout",
     "output_type": "stream",
     "text": [
      "Epoch: 045, Average Loss: 0.4432\n",
      "Validation: {'precision': 0.16024666860788206, 'recall': 0.048253343990350445, 'f1': 0.06858357508817806, 'auc': 0.6109423510244326, 'prauc': 0.31360928056463455}\n",
      "Test:       {'precision': 0.141369253068903, 'recall': 0.04646836592497869, 'f1': 0.065018048296172, 'auc': 0.6193156371653381, 'prauc': 0.309706885442934}\n"
     ]
    },
    {
     "name": "stderr",
     "output_type": "stream",
     "text": [
      "Training Batches: 100%|██████████| 1/1 [00:06<00:00,  6.70s/it]\n",
      "Running inference: 100%|██████████| 1/1 [00:06<00:00,  6.33s/it]\n",
      "Running inference: 100%|██████████| 1/1 [00:06<00:00,  6.56s/it]\n"
     ]
    },
    {
     "name": "stdout",
     "output_type": "stream",
     "text": [
      "Epoch: 046, Average Loss: 0.4411\n",
      "Validation: {'precision': 0.15989832746356614, 'recall': 0.0546572928224013, 'f1': 0.07436066809610384, 'auc': 0.6159153133645854, 'prauc': 0.3187248981184507}\n",
      "Test:       {'precision': 0.1730332287033318, 'recall': 0.05227306124137321, 'f1': 0.0711255265281509, 'auc': 0.6226534631203945, 'prauc': 0.3139277421400292}\n"
     ]
    },
    {
     "name": "stderr",
     "output_type": "stream",
     "text": [
      "Training Batches: 100%|██████████| 1/1 [00:06<00:00,  6.62s/it]\n",
      "Running inference: 100%|██████████| 1/1 [00:06<00:00,  6.56s/it]\n",
      "Running inference: 100%|██████████| 1/1 [00:06<00:00,  6.80s/it]\n"
     ]
    },
    {
     "name": "stdout",
     "output_type": "stream",
     "text": [
      "Epoch: 047, Average Loss: 0.4394\n",
      "Validation: {'precision': 0.18126779499355675, 'recall': 0.05801447448461331, 'f1': 0.07731737248865261, 'auc': 0.6193420691180438, 'prauc': 0.32187946081879926}\n",
      "Test:       {'precision': 0.22767898947738216, 'recall': 0.056472469204714174, 'f1': 0.07542683416885608, 'auc': 0.6254964478824477, 'prauc': 0.3167404380890365}\n"
     ]
    },
    {
     "name": "stderr",
     "output_type": "stream",
     "text": [
      "Training Batches: 100%|██████████| 1/1 [00:06<00:00,  6.53s/it]\n",
      "Running inference: 100%|██████████| 1/1 [00:06<00:00,  6.26s/it]\n",
      "Running inference: 100%|██████████| 1/1 [00:06<00:00,  6.75s/it]\n"
     ]
    },
    {
     "name": "stdout",
     "output_type": "stream",
     "text": [
      "Epoch: 048, Average Loss: 0.4394\n",
      "Validation: {'precision': 0.18073796766827668, 'recall': 0.05804126192961682, 'f1': 0.07780490263286702, 'auc': 0.620425361578254, 'prauc': 0.3223673827220084}\n",
      "Test:       {'precision': 0.18680283579069004, 'recall': 0.05593040155097881, 'f1': 0.07519233508356019, 'auc': 0.6269986765274065, 'prauc': 0.3173233701479575}\n"
     ]
    },
    {
     "name": "stderr",
     "output_type": "stream",
     "text": [
      "Training Batches: 100%|██████████| 1/1 [00:06<00:00,  6.85s/it]\n",
      "Running inference: 100%|██████████| 1/1 [00:06<00:00,  6.35s/it]\n",
      "Running inference: 100%|██████████| 1/1 [00:06<00:00,  6.59s/it]\n"
     ]
    },
    {
     "name": "stdout",
     "output_type": "stream",
     "text": [
      "Epoch: 049, Average Loss: 0.4358\n",
      "Validation: {'precision': 0.15366601076417322, 'recall': 0.057043592408694915, 'f1': 0.07717139495608395, 'auc': 0.6212270273394108, 'prauc': 0.3222905735431567}\n",
      "Test:       {'precision': 0.19019623673414376, 'recall': 0.055201987472985055, 'f1': 0.07509500466786205, 'auc': 0.6275174561726913, 'prauc': 0.31759093407624417}\n"
     ]
    },
    {
     "name": "stderr",
     "output_type": "stream",
     "text": [
      "Training Batches: 100%|██████████| 1/1 [00:07<00:00,  7.05s/it]\n",
      "Running inference: 100%|██████████| 1/1 [00:06<00:00,  6.43s/it]\n",
      "Running inference: 100%|██████████| 1/1 [00:06<00:00,  6.64s/it]\n"
     ]
    },
    {
     "name": "stdout",
     "output_type": "stream",
     "text": [
      "Epoch: 050, Average Loss: 0.4337\n",
      "Validation: {'precision': 0.1514196972151442, 'recall': 0.05835502005773152, 'f1': 0.07830543253424117, 'auc': 0.6232101325858072, 'prauc': 0.3243638728748428}\n",
      "Test:       {'precision': 0.19011405610351165, 'recall': 0.0562073507066377, 'f1': 0.07594721210279975, 'auc': 0.6286721066179958, 'prauc': 0.319151039347556}\n"
     ]
    },
    {
     "name": "stderr",
     "output_type": "stream",
     "text": [
      "Training Batches: 100%|██████████| 1/1 [00:07<00:00,  7.31s/it]\n",
      "Running inference: 100%|██████████| 1/1 [00:06<00:00,  6.65s/it]\n",
      "Running inference: 100%|██████████| 1/1 [00:07<00:00,  7.29s/it]\n"
     ]
    },
    {
     "name": "stdout",
     "output_type": "stream",
     "text": [
      "Epoch: 051, Average Loss: 0.4318\n",
      "Validation: {'precision': 0.1938330721860444, 'recall': 0.06065804197761904, 'f1': 0.08034654544986972, 'auc': 0.6253911764081657, 'prauc': 0.3270645064871568}\n",
      "Test:       {'precision': 0.21901075226713348, 'recall': 0.05910865781754805, 'f1': 0.07894863273631397, 'auc': 0.6302947955926503, 'prauc': 0.3217177179516211}\n"
     ]
    },
    {
     "name": "stderr",
     "output_type": "stream",
     "text": [
      "Training Batches: 100%|██████████| 1/1 [00:06<00:00,  6.61s/it]\n",
      "Running inference: 100%|██████████| 1/1 [00:06<00:00,  6.13s/it]\n",
      "Running inference: 100%|██████████| 1/1 [00:06<00:00,  6.14s/it]\n"
     ]
    },
    {
     "name": "stdout",
     "output_type": "stream",
     "text": [
      "Epoch: 052, Average Loss: 0.4301\n",
      "Validation: {'precision': 0.25839141994592796, 'recall': 0.0669984311846919, 'f1': 0.08672164198059763, 'auc': 0.6289936152962883, 'prauc': 0.3327086130441825}\n",
      "Test:       {'precision': 0.2093873224505816, 'recall': 0.06403755297639935, 'f1': 0.08298899135313469, 'auc': 0.6332280059308507, 'prauc': 0.32566594255981735}\n"
     ]
    },
    {
     "name": "stderr",
     "output_type": "stream",
     "text": [
      "Training Batches: 100%|██████████| 1/1 [00:06<00:00,  6.82s/it]\n",
      "Running inference: 100%|██████████| 1/1 [00:06<00:00,  6.47s/it]\n",
      "Running inference: 100%|██████████| 1/1 [00:06<00:00,  6.57s/it]\n"
     ]
    },
    {
     "name": "stdout",
     "output_type": "stream",
     "text": [
      "Epoch: 053, Average Loss: 0.4278\n",
      "Validation: {'precision': 0.2770801714397955, 'recall': 0.07330647091052526, 'f1': 0.09376763931589621, 'auc': 0.6326059515904434, 'prauc': 0.3370074386925139}\n",
      "Test:       {'precision': 0.24527515970947483, 'recall': 0.07163239050792207, 'f1': 0.0924295352352727, 'auc': 0.6365841106466567, 'prauc': 0.3293095260393038}\n"
     ]
    },
    {
     "name": "stderr",
     "output_type": "stream",
     "text": [
      "Training Batches: 100%|██████████| 1/1 [00:06<00:00,  6.65s/it]\n",
      "Running inference: 100%|██████████| 1/1 [00:06<00:00,  6.33s/it]\n",
      "Running inference: 100%|██████████| 1/1 [00:07<00:00,  7.26s/it]\n"
     ]
    },
    {
     "name": "stdout",
     "output_type": "stream",
     "text": [
      "Epoch: 054, Average Loss: 0.4262\n",
      "Validation: {'precision': 0.271596912879469, 'recall': 0.08439286129708051, 'f1': 0.10743027657191688, 'auc': 0.6367267987560797, 'prauc': 0.3421502189460805}\n",
      "Test:       {'precision': 0.2388787064050605, 'recall': 0.08324828027077116, 'f1': 0.10689890418838519, 'auc': 0.6404452863018341, 'prauc': 0.333283468991386}\n"
     ]
    },
    {
     "name": "stderr",
     "output_type": "stream",
     "text": [
      "Training Batches: 100%|██████████| 1/1 [00:06<00:00,  6.70s/it]\n",
      "Running inference: 100%|██████████| 1/1 [00:06<00:00,  6.74s/it]\n",
      "Running inference: 100%|██████████| 1/1 [00:06<00:00,  7.00s/it]\n"
     ]
    },
    {
     "name": "stdout",
     "output_type": "stream",
     "text": [
      "Epoch: 055, Average Loss: 0.4259\n",
      "Validation: {'precision': 0.2727576898801149, 'recall': 0.09805157418410992, 'f1': 0.12416512359576869, 'auc': 0.6401469601489156, 'prauc': 0.34571723631669976}\n",
      "Test:       {'precision': 0.23723568855486743, 'recall': 0.09511435999309097, 'f1': 0.12027946480161988, 'auc': 0.6435934044725331, 'prauc': 0.33657785227408554}\n"
     ]
    },
    {
     "name": "stderr",
     "output_type": "stream",
     "text": [
      "Training Batches: 100%|██████████| 1/1 [00:06<00:00,  6.98s/it]\n",
      "Running inference: 100%|██████████| 1/1 [00:06<00:00,  6.58s/it]\n",
      "Running inference: 100%|██████████| 1/1 [00:06<00:00,  6.26s/it]\n"
     ]
    },
    {
     "name": "stdout",
     "output_type": "stream",
     "text": [
      "Epoch: 056, Average Loss: 0.4235\n",
      "Validation: {'precision': 0.2581548131757006, 'recall': 0.11008761038089492, 'f1': 0.13685252711937515, 'auc': 0.6431878241382918, 'prauc': 0.3493646659758921}\n",
      "Test:       {'precision': 0.24801242198915407, 'recall': 0.11272978185831987, 'f1': 0.13998273473250836, 'auc': 0.6461860168767634, 'prauc': 0.33984140468184165}\n"
     ]
    },
    {
     "name": "stderr",
     "output_type": "stream",
     "text": [
      "Training Batches: 100%|██████████| 1/1 [00:07<00:00,  7.47s/it]\n",
      "Running inference: 100%|██████████| 1/1 [00:06<00:00,  6.38s/it]\n",
      "Running inference: 100%|██████████| 1/1 [00:06<00:00,  6.62s/it]\n"
     ]
    },
    {
     "name": "stdout",
     "output_type": "stream",
     "text": [
      "Epoch: 057, Average Loss: 0.4214\n",
      "Validation: {'precision': 0.31110705756218493, 'recall': 0.1167013302840595, 'f1': 0.1449107025780466, 'auc': 0.6446012467637212, 'prauc': 0.3512688019883632}\n",
      "Test:       {'precision': 0.24189517330098426, 'recall': 0.11628855808216906, 'f1': 0.14395135996551897, 'auc': 0.6468380330357338, 'prauc': 0.34149560945776564}\n"
     ]
    },
    {
     "name": "stderr",
     "output_type": "stream",
     "text": [
      "Training Batches: 100%|██████████| 1/1 [00:07<00:00,  7.27s/it]\n",
      "Running inference: 100%|██████████| 1/1 [00:06<00:00,  6.75s/it]\n",
      "Running inference: 100%|██████████| 1/1 [00:07<00:00,  7.43s/it]\n"
     ]
    },
    {
     "name": "stdout",
     "output_type": "stream",
     "text": [
      "Epoch: 058, Average Loss: 0.4204\n",
      "Validation: {'precision': 0.3161710098690451, 'recall': 0.11500011299435113, 'f1': 0.1447004187283346, 'auc': 0.645241635998626, 'prauc': 0.3523003221826002}\n",
      "Test:       {'precision': 0.2870005742656001, 'recall': 0.11330370064944005, 'f1': 0.14282456373900979, 'auc': 0.6467801077917653, 'prauc': 0.3421126395658595}\n"
     ]
    },
    {
     "name": "stderr",
     "output_type": "stream",
     "text": [
      "Training Batches: 100%|██████████| 1/1 [00:06<00:00,  6.73s/it]\n",
      "Running inference: 100%|██████████| 1/1 [00:06<00:00,  6.45s/it]\n",
      "Running inference: 100%|██████████| 1/1 [00:06<00:00,  6.12s/it]\n"
     ]
    },
    {
     "name": "stdout",
     "output_type": "stream",
     "text": [
      "Epoch: 059, Average Loss: 0.4199\n",
      "Validation: {'precision': 0.3039454577900379, 'recall': 0.10575833064080645, 'f1': 0.13784791386452092, 'auc': 0.6450816986833927, 'prauc': 0.35244230521759}\n",
      "Test:       {'precision': 0.2912081150958823, 'recall': 0.1038919228928049, 'f1': 0.1349293767583101, 'auc': 0.6462792164320499, 'prauc': 0.3420229285419309}\n"
     ]
    },
    {
     "name": "stderr",
     "output_type": "stream",
     "text": [
      "Training Batches: 100%|██████████| 1/1 [00:06<00:00,  6.84s/it]\n",
      "Running inference: 100%|██████████| 1/1 [00:06<00:00,  6.69s/it]\n",
      "Running inference: 100%|██████████| 1/1 [00:06<00:00,  6.98s/it]\n"
     ]
    },
    {
     "name": "stdout",
     "output_type": "stream",
     "text": [
      "Epoch: 060, Average Loss: 0.4165\n",
      "Validation: {'precision': 0.3068548808543296, 'recall': 0.09966601481034663, 'f1': 0.13354344983973754, 'auc': 0.6455606770279491, 'prauc': 0.35282288429651043}\n",
      "Test:       {'precision': 0.2861950168564373, 'recall': 0.09966687666714565, 'f1': 0.13267282421966703, 'auc': 0.6474581256403045, 'prauc': 0.34234137953048643}\n"
     ]
    },
    {
     "name": "stderr",
     "output_type": "stream",
     "text": [
      "Training Batches: 100%|██████████| 1/1 [00:06<00:00,  6.78s/it]\n",
      "Running inference: 100%|██████████| 1/1 [00:06<00:00,  6.79s/it]\n",
      "Running inference: 100%|██████████| 1/1 [00:06<00:00,  6.99s/it]\n"
     ]
    },
    {
     "name": "stdout",
     "output_type": "stream",
     "text": [
      "Epoch: 061, Average Loss: 0.4170\n",
      "Validation: {'precision': 0.2985439555798459, 'recall': 0.12192295769548211, 'f1': 0.15782236805042155, 'auc': 0.6486866856398703, 'prauc': 0.3567297114369848}\n",
      "Test:       {'precision': 0.2797728774351008, 'recall': 0.11779795853800046, 'f1': 0.15222289432570613, 'auc': 0.6499098209467193, 'prauc': 0.34550196806556427}\n"
     ]
    },
    {
     "name": "stderr",
     "output_type": "stream",
     "text": [
      "Training Batches: 100%|██████████| 1/1 [00:06<00:00,  6.81s/it]\n",
      "Running inference: 100%|██████████| 1/1 [00:06<00:00,  6.31s/it]\n",
      "Running inference: 100%|██████████| 1/1 [00:06<00:00,  6.99s/it]\n"
     ]
    },
    {
     "name": "stdout",
     "output_type": "stream",
     "text": [
      "Epoch: 062, Average Loss: 0.4169\n",
      "Validation: {'precision': 0.2931505665948809, 'recall': 0.15166102057221112, 'f1': 0.18241505875994832, 'auc': 0.652870673157248, 'prauc': 0.36158212543472873}\n",
      "Test:       {'precision': 0.2736526782708293, 'recall': 0.14817223968150886, 'f1': 0.17579348229774266, 'auc': 0.6524913552390693, 'prauc': 0.3493337505112063}\n"
     ]
    },
    {
     "name": "stderr",
     "output_type": "stream",
     "text": [
      "Training Batches: 100%|██████████| 1/1 [00:07<00:00,  7.06s/it]\n",
      "Running inference: 100%|██████████| 1/1 [00:06<00:00,  6.44s/it]\n",
      "Running inference: 100%|██████████| 1/1 [00:06<00:00,  6.50s/it]\n"
     ]
    },
    {
     "name": "stdout",
     "output_type": "stream",
     "text": [
      "Epoch: 063, Average Loss: 0.4137\n",
      "Validation: {'precision': 0.287857418007335, 'recall': 0.1734462474077808, 'f1': 0.19603053570576495, 'auc': 0.6563029572323416, 'prauc': 0.364945267206218}\n",
      "Test:       {'precision': 0.27137482190032763, 'recall': 0.17033294951552666, 'f1': 0.18990199106534064, 'auc': 0.6553122672138644, 'prauc': 0.3519970222383147}\n"
     ]
    },
    {
     "name": "stderr",
     "output_type": "stream",
     "text": [
      "Training Batches: 100%|██████████| 1/1 [00:07<00:00,  7.09s/it]\n",
      "Running inference: 100%|██████████| 1/1 [00:06<00:00,  6.50s/it]\n",
      "Running inference: 100%|██████████| 1/1 [00:06<00:00,  6.70s/it]\n"
     ]
    },
    {
     "name": "stdout",
     "output_type": "stream",
     "text": [
      "Epoch: 064, Average Loss: 0.4122\n",
      "Validation: {'precision': 0.2796090619631234, 'recall': 0.18053683980060006, 'f1': 0.19944535542727673, 'auc': 0.658585225805546, 'prauc': 0.3669343278396424}\n",
      "Test:       {'precision': 0.26545335098717987, 'recall': 0.17923461513738528, 'f1': 0.1949683517118843, 'auc': 0.6569151062379852, 'prauc': 0.353421810586363}\n"
     ]
    },
    {
     "name": "stderr",
     "output_type": "stream",
     "text": [
      "Training Batches: 100%|██████████| 1/1 [00:07<00:00,  7.24s/it]\n",
      "Running inference: 100%|██████████| 1/1 [00:07<00:00,  7.10s/it]\n",
      "Running inference: 100%|██████████| 1/1 [00:07<00:00,  7.53s/it]\n"
     ]
    },
    {
     "name": "stdout",
     "output_type": "stream",
     "text": [
      "Epoch: 065, Average Loss: 0.4115\n",
      "Validation: {'precision': 0.2807847629429594, 'recall': 0.182656403887103, 'f1': 0.20268489946883084, 'auc': 0.6604384619039528, 'prauc': 0.36834478417232225}\n",
      "Test:       {'precision': 0.26715912311493684, 'recall': 0.18135794794702612, 'f1': 0.19818251710622603, 'auc': 0.6581894216127014, 'prauc': 0.3547463839634141}\n"
     ]
    },
    {
     "name": "stderr",
     "output_type": "stream",
     "text": [
      "Training Batches: 100%|██████████| 1/1 [00:06<00:00,  6.72s/it]\n",
      "Running inference: 100%|██████████| 1/1 [00:06<00:00,  6.23s/it]\n",
      "Running inference: 100%|██████████| 1/1 [00:06<00:00,  6.47s/it]\n"
     ]
    },
    {
     "name": "stdout",
     "output_type": "stream",
     "text": [
      "Epoch: 066, Average Loss: 0.4094\n",
      "Validation: {'precision': 0.2861007605393781, 'recall': 0.1830451433171865, 'f1': 0.20640185873950967, 'auc': 0.6617499906947757, 'prauc': 0.3692926121766738}\n",
      "Test:       {'precision': 0.2674391881352087, 'recall': 0.18029709137852545, 'f1': 0.2006131100142765, 'auc': 0.6592347448313477, 'prauc': 0.35569463869491663}\n"
     ]
    },
    {
     "name": "stderr",
     "output_type": "stream",
     "text": [
      "Training Batches: 100%|██████████| 1/1 [00:07<00:00,  7.15s/it]\n",
      "Running inference: 100%|██████████| 1/1 [00:06<00:00,  6.41s/it]\n",
      "Running inference: 100%|██████████| 1/1 [00:06<00:00,  6.91s/it]\n"
     ]
    },
    {
     "name": "stdout",
     "output_type": "stream",
     "text": [
      "Epoch: 067, Average Loss: 0.4083\n",
      "Validation: {'precision': 0.2918516386523936, 'recall': 0.18083473994529803, 'f1': 0.20897994007132625, 'auc': 0.6625662965364686, 'prauc': 0.36953994915125726}\n",
      "Test:       {'precision': 0.26708697062130865, 'recall': 0.17847116262386103, 'f1': 0.20224321163287656, 'auc': 0.6600786213195953, 'prauc': 0.35613322063791175}\n"
     ]
    },
    {
     "name": "stderr",
     "output_type": "stream",
     "text": [
      "Training Batches: 100%|██████████| 1/1 [00:06<00:00,  6.76s/it]\n",
      "Running inference: 100%|██████████| 1/1 [00:06<00:00,  6.45s/it]\n",
      "Running inference: 100%|██████████| 1/1 [00:06<00:00,  6.80s/it]\n"
     ]
    },
    {
     "name": "stdout",
     "output_type": "stream",
     "text": [
      "Epoch: 068, Average Loss: 0.4074\n",
      "Validation: {'precision': 0.29453022185254274, 'recall': 0.17784011107928654, 'f1': 0.2100141920954492, 'auc': 0.6631721973122783, 'prauc': 0.36961873864976885}\n",
      "Test:       {'precision': 0.26906188164011213, 'recall': 0.17716586337138893, 'f1': 0.20391847292570908, 'auc': 0.6608528488266326, 'prauc': 0.35616067592137346}\n"
     ]
    },
    {
     "name": "stderr",
     "output_type": "stream",
     "text": [
      "Training Batches: 100%|██████████| 1/1 [00:06<00:00,  6.53s/it]\n",
      "Running inference: 100%|██████████| 1/1 [00:06<00:00,  6.26s/it]\n",
      "Running inference: 100%|██████████| 1/1 [00:06<00:00,  6.86s/it]\n"
     ]
    },
    {
     "name": "stdout",
     "output_type": "stream",
     "text": [
      "Epoch: 069, Average Loss: 0.4068\n",
      "Validation: {'precision': 0.29548383869738126, 'recall': 0.17961886632446353, 'f1': 0.21257335220525894, 'auc': 0.6641776244120595, 'prauc': 0.37075254482831554}\n",
      "Test:       {'precision': 0.27211419945305043, 'recall': 0.17736564184379516, 'f1': 0.20572928131558615, 'auc': 0.6617676358050157, 'prauc': 0.35707841785636746}\n"
     ]
    },
    {
     "name": "stderr",
     "output_type": "stream",
     "text": [
      "Training Batches: 100%|██████████| 1/1 [00:06<00:00,  6.94s/it]\n",
      "Running inference: 100%|██████████| 1/1 [00:06<00:00,  6.38s/it]\n",
      "Running inference: 100%|██████████| 1/1 [00:06<00:00,  6.54s/it]\n"
     ]
    },
    {
     "name": "stdout",
     "output_type": "stream",
     "text": [
      "Epoch: 070, Average Loss: 0.4063\n",
      "Validation: {'precision': 0.29467544856513417, 'recall': 0.18181769132930028, 'f1': 0.21421431858657558, 'auc': 0.6658854128897103, 'prauc': 0.37263389318825046}\n",
      "Test:       {'precision': 0.2719289111377007, 'recall': 0.18038818725260286, 'f1': 0.20781358765431968, 'auc': 0.6628189123798314, 'prauc': 0.3583673986527525}\n"
     ]
    },
    {
     "name": "stderr",
     "output_type": "stream",
     "text": [
      "Training Batches: 100%|██████████| 1/1 [00:07<00:00,  7.05s/it]\n",
      "Running inference: 100%|██████████| 1/1 [00:06<00:00,  6.16s/it]\n",
      "Running inference: 100%|██████████| 1/1 [00:06<00:00,  6.77s/it]\n"
     ]
    },
    {
     "name": "stdout",
     "output_type": "stream",
     "text": [
      "Epoch: 071, Average Loss: 0.4050\n",
      "Validation: {'precision': 0.2911702536604286, 'recall': 0.18801339357581248, 'f1': 0.2162081471764653, 'auc': 0.6681122301729753, 'prauc': 0.3750747485983593}\n",
      "Test:       {'precision': 0.2694519695205833, 'recall': 0.18609811031709983, 'f1': 0.20979477281280717, 'auc': 0.6636459183814755, 'prauc': 0.3601692986192346}\n"
     ]
    },
    {
     "name": "stderr",
     "output_type": "stream",
     "text": [
      "Training Batches: 100%|██████████| 1/1 [00:06<00:00,  6.95s/it]\n",
      "Running inference: 100%|██████████| 1/1 [00:06<00:00,  6.81s/it]\n",
      "Running inference: 100%|██████████| 1/1 [00:07<00:00,  7.22s/it]\n"
     ]
    },
    {
     "name": "stdout",
     "output_type": "stream",
     "text": [
      "Epoch: 072, Average Loss: 0.4048\n",
      "Validation: {'precision': 0.284264114046515, 'recall': 0.1932175714340606, 'f1': 0.21627926629186656, 'auc': 0.6698993200362247, 'prauc': 0.37614915375886626}\n",
      "Test:       {'precision': 0.2702440351953106, 'recall': 0.1894797476512732, 'f1': 0.21032964892617134, 'auc': 0.6642036247769602, 'prauc': 0.36079027594778323}\n"
     ]
    },
    {
     "name": "stderr",
     "output_type": "stream",
     "text": [
      "Training Batches: 100%|██████████| 1/1 [00:06<00:00,  6.75s/it]\n",
      "Running inference: 100%|██████████| 1/1 [00:06<00:00,  6.15s/it]\n",
      "Running inference: 100%|██████████| 1/1 [00:06<00:00,  6.42s/it]\n"
     ]
    },
    {
     "name": "stdout",
     "output_type": "stream",
     "text": [
      "Epoch: 073, Average Loss: 0.4030\n",
      "Validation: {'precision': 0.2832065729453794, 'recall': 0.19996403992016804, 'f1': 0.21962838255147316, 'auc': 0.6715421059502006, 'prauc': 0.3768818601417582}\n",
      "Test:       {'precision': 0.32404235307768076, 'recall': 0.19316251298717077, 'f1': 0.21183799258285008, 'auc': 0.6653265129469476, 'prauc': 0.36144708555360516}\n"
     ]
    },
    {
     "name": "stderr",
     "output_type": "stream",
     "text": [
      "Training Batches: 100%|██████████| 1/1 [00:07<00:00,  7.05s/it]\n",
      "Running inference: 100%|██████████| 1/1 [00:06<00:00,  6.47s/it]\n",
      "Running inference: 100%|██████████| 1/1 [00:06<00:00,  6.76s/it]\n"
     ]
    },
    {
     "name": "stdout",
     "output_type": "stream",
     "text": [
      "Epoch: 074, Average Loss: 0.4032\n",
      "Validation: {'precision': 0.28160429164440426, 'recall': 0.20416400344565055, 'f1': 0.2212411215799496, 'auc': 0.6725828103938014, 'prauc': 0.37748282944198347}\n",
      "Test:       {'precision': 0.3243172634490476, 'recall': 0.19793039831740877, 'f1': 0.21350077946245874, 'auc': 0.6664792607228374, 'prauc': 0.36179810102746013}\n"
     ]
    },
    {
     "name": "stderr",
     "output_type": "stream",
     "text": [
      "Training Batches: 100%|██████████| 1/1 [00:06<00:00,  6.87s/it]\n",
      "Running inference: 100%|██████████| 1/1 [00:06<00:00,  6.37s/it]\n",
      "Running inference: 100%|██████████| 1/1 [00:07<00:00,  7.05s/it]\n"
     ]
    },
    {
     "name": "stdout",
     "output_type": "stream",
     "text": [
      "Epoch: 075, Average Loss: 0.4020\n",
      "Validation: {'precision': 0.2835903605982113, 'recall': 0.20581306365423419, 'f1': 0.22327891786350781, 'auc': 0.6736493352789985, 'prauc': 0.378163439579641}\n",
      "Test:       {'precision': 0.3249822006948002, 'recall': 0.1982242710207514, 'f1': 0.21464031535246766, 'auc': 0.6680089541481036, 'prauc': 0.3628014426396063}\n"
     ]
    },
    {
     "name": "stderr",
     "output_type": "stream",
     "text": [
      "Training Batches: 100%|██████████| 1/1 [00:06<00:00,  6.83s/it]\n",
      "Running inference: 100%|██████████| 1/1 [00:06<00:00,  6.37s/it]\n",
      "Running inference: 100%|██████████| 1/1 [00:06<00:00,  6.81s/it]\n"
     ]
    },
    {
     "name": "stdout",
     "output_type": "stream",
     "text": [
      "Epoch: 076, Average Loss: 0.4015\n",
      "Validation: {'precision': 0.2845885777195968, 'recall': 0.2051817110557909, 'f1': 0.22391860260947785, 'auc': 0.6752561162130343, 'prauc': 0.3785969630697845}\n",
      "Test:       {'precision': 0.2977926713496135, 'recall': 0.19672716108525862, 'f1': 0.21483994537362155, 'auc': 0.6701730155817435, 'prauc': 0.36408101243252494}\n"
     ]
    },
    {
     "name": "stderr",
     "output_type": "stream",
     "text": [
      "Training Batches: 100%|██████████| 1/1 [00:06<00:00,  6.56s/it]\n",
      "Running inference: 100%|██████████| 1/1 [00:06<00:00,  6.12s/it]\n",
      "Running inference: 100%|██████████| 1/1 [00:06<00:00,  6.60s/it]\n"
     ]
    },
    {
     "name": "stdout",
     "output_type": "stream",
     "text": [
      "Epoch: 077, Average Loss: 0.4014\n",
      "Validation: {'precision': 0.34263922341935404, 'recall': 0.20299065781202164, 'f1': 0.2250364205955585, 'auc': 0.6769938405271295, 'prauc': 0.3792425883098291}\n",
      "Test:       {'precision': 0.30991427782145103, 'recall': 0.19731011192824424, 'f1': 0.21798781571907114, 'auc': 0.6719193569291155, 'prauc': 0.36559013000667034}\n"
     ]
    },
    {
     "name": "stderr",
     "output_type": "stream",
     "text": [
      "Training Batches: 100%|██████████| 1/1 [00:06<00:00,  6.87s/it]\n",
      "Running inference: 100%|██████████| 1/1 [00:06<00:00,  6.68s/it]\n",
      "Running inference: 100%|██████████| 1/1 [00:06<00:00,  6.84s/it]\n"
     ]
    },
    {
     "name": "stdout",
     "output_type": "stream",
     "text": [
      "Epoch: 078, Average Loss: 0.3985\n",
      "Validation: {'precision': 0.34434144020700724, 'recall': 0.20139541525521726, 'f1': 0.2253646207839468, 'auc': 0.6773783109099016, 'prauc': 0.37966435194991127}\n",
      "Test:       {'precision': 0.3096861554844163, 'recall': 0.19590922110084313, 'f1': 0.2184857197271186, 'auc': 0.6727963618093281, 'prauc': 0.36650469125543467}\n"
     ]
    },
    {
     "name": "stderr",
     "output_type": "stream",
     "text": [
      "Training Batches: 100%|██████████| 1/1 [00:06<00:00,  6.88s/it]\n",
      "Running inference: 100%|██████████| 1/1 [00:06<00:00,  6.88s/it]\n",
      "Running inference: 100%|██████████| 1/1 [00:07<00:00,  7.30s/it]\n"
     ]
    },
    {
     "name": "stdout",
     "output_type": "stream",
     "text": [
      "Epoch: 079, Average Loss: 0.3990\n",
      "Validation: {'precision': 0.3466315059711943, 'recall': 0.20634463065754455, 'f1': 0.22970551348843468, 'auc': 0.678659147582164, 'prauc': 0.38118686402853785}\n",
      "Test:       {'precision': 0.31207281854087615, 'recall': 0.19804710594556038, 'f1': 0.21999323267791132, 'auc': 0.674358901822096, 'prauc': 0.36800613083275385}\n"
     ]
    },
    {
     "name": "stderr",
     "output_type": "stream",
     "text": [
      "Training Batches: 100%|██████████| 1/1 [00:06<00:00,  6.76s/it]\n",
      "Running inference: 100%|██████████| 1/1 [00:06<00:00,  6.12s/it]\n",
      "Running inference: 100%|██████████| 1/1 [00:06<00:00,  6.36s/it]\n"
     ]
    },
    {
     "name": "stdout",
     "output_type": "stream",
     "text": [
      "Epoch: 080, Average Loss: 0.3982\n",
      "Validation: {'precision': 0.3163409646497114, 'recall': 0.21076439360704752, 'f1': 0.233223294518475, 'auc': 0.6800617981277649, 'prauc': 0.38307612668622293}\n",
      "Test:       {'precision': 0.3073969009189787, 'recall': 0.20215043315803896, 'f1': 0.2231207059230917, 'auc': 0.6758895608523614, 'prauc': 0.3695787813886646}\n"
     ]
    },
    {
     "name": "stderr",
     "output_type": "stream",
     "text": [
      "Training Batches: 100%|██████████| 1/1 [00:06<00:00,  6.91s/it]\n",
      "Running inference: 100%|██████████| 1/1 [00:06<00:00,  6.39s/it]\n",
      "Running inference: 100%|██████████| 1/1 [00:06<00:00,  6.99s/it]\n"
     ]
    },
    {
     "name": "stdout",
     "output_type": "stream",
     "text": [
      "Epoch: 081, Average Loss: 0.3973\n",
      "Validation: {'precision': 0.3180377091294807, 'recall': 0.21398456085378173, 'f1': 0.23536288400684618, 'auc': 0.6808837573266892, 'prauc': 0.38470417317650246}\n",
      "Test:       {'precision': 0.3047327949615037, 'recall': 0.20571263212842086, 'f1': 0.22612751719823976, 'auc': 0.6770375974169887, 'prauc': 0.37087354108703646}\n"
     ]
    },
    {
     "name": "stderr",
     "output_type": "stream",
     "text": [
      "Training Batches: 100%|██████████| 1/1 [00:06<00:00,  6.57s/it]\n",
      "Running inference: 100%|██████████| 1/1 [00:06<00:00,  6.61s/it]\n",
      "Running inference: 100%|██████████| 1/1 [00:06<00:00,  6.78s/it]\n"
     ]
    },
    {
     "name": "stdout",
     "output_type": "stream",
     "text": [
      "Epoch: 082, Average Loss: 0.3962\n",
      "Validation: {'precision': 0.3165681265659003, 'recall': 0.21603147889549118, 'f1': 0.23710210109408233, 'auc': 0.6820141029472317, 'prauc': 0.38610474050265936}\n",
      "Test:       {'precision': 0.30470816267879086, 'recall': 0.2078684078207233, 'f1': 0.22820129329316005, 'auc': 0.6780472054494557, 'prauc': 0.37172708823419165}\n"
     ]
    },
    {
     "name": "stderr",
     "output_type": "stream",
     "text": [
      "Training Batches: 100%|██████████| 1/1 [00:06<00:00,  6.60s/it]\n",
      "Running inference: 100%|██████████| 1/1 [00:06<00:00,  6.40s/it]\n",
      "Running inference: 100%|██████████| 1/1 [00:06<00:00,  6.76s/it]\n"
     ]
    },
    {
     "name": "stdout",
     "output_type": "stream",
     "text": [
      "Epoch: 083, Average Loss: 0.3964\n",
      "Validation: {'precision': 0.3259626193779727, 'recall': 0.21793622706608637, 'f1': 0.24094644355101272, 'auc': 0.6827062146944168, 'prauc': 0.3867404791807232}\n",
      "Test:       {'precision': 0.31258714849171493, 'recall': 0.20926083278043656, 'f1': 0.23098381592201467, 'auc': 0.6790373073870188, 'prauc': 0.37276419628661855}\n"
     ]
    },
    {
     "name": "stderr",
     "output_type": "stream",
     "text": [
      "Training Batches: 100%|██████████| 1/1 [00:06<00:00,  6.50s/it]\n",
      "Running inference: 100%|██████████| 1/1 [00:06<00:00,  6.31s/it]\n",
      "Running inference: 100%|██████████| 1/1 [00:06<00:00,  6.12s/it]\n"
     ]
    },
    {
     "name": "stdout",
     "output_type": "stream",
     "text": [
      "Epoch: 084, Average Loss: 0.3947\n",
      "Validation: {'precision': 0.32556275139337776, 'recall': 0.21860449198898144, 'f1': 0.24253826110985, 'auc': 0.6835231868846144, 'prauc': 0.3875985731597025}\n",
      "Test:       {'precision': 0.31469828126653454, 'recall': 0.2098626759300141, 'f1': 0.23220948921600046, 'auc': 0.6801228269254318, 'prauc': 0.3740954290978435}\n"
     ]
    },
    {
     "name": "stderr",
     "output_type": "stream",
     "text": [
      "Training Batches: 100%|██████████| 1/1 [00:07<00:00,  7.13s/it]\n",
      "Running inference: 100%|██████████| 1/1 [00:06<00:00,  6.13s/it]\n",
      "Running inference: 100%|██████████| 1/1 [00:06<00:00,  6.89s/it]\n"
     ]
    },
    {
     "name": "stdout",
     "output_type": "stream",
     "text": [
      "Epoch: 085, Average Loss: 0.3951\n",
      "Validation: {'precision': 0.3312683311412201, 'recall': 0.22406354102252735, 'f1': 0.24773533879076537, 'auc': 0.6851032714900307, 'prauc': 0.38865628643216477}\n",
      "Test:       {'precision': 0.30961900590869906, 'recall': 0.21457727676276545, 'f1': 0.23562114248105331, 'auc': 0.6816599249122881, 'prauc': 0.3750688408399781}\n"
     ]
    },
    {
     "name": "stderr",
     "output_type": "stream",
     "text": [
      "Training Batches: 100%|██████████| 1/1 [00:07<00:00,  7.04s/it]\n",
      "Running inference: 100%|██████████| 1/1 [00:06<00:00,  6.88s/it]\n",
      "Running inference: 100%|██████████| 1/1 [00:07<00:00,  7.20s/it]\n"
     ]
    },
    {
     "name": "stdout",
     "output_type": "stream",
     "text": [
      "Epoch: 086, Average Loss: 0.3941\n",
      "Validation: {'precision': 0.32943732571330603, 'recall': 0.22689894574567562, 'f1': 0.24936521224853614, 'auc': 0.6861010213079491, 'prauc': 0.38952506295829037}\n",
      "Test:       {'precision': 0.3072481330474969, 'recall': 0.2176396997895821, 'f1': 0.23714917768114324, 'auc': 0.6829909995801153, 'prauc': 0.3756107755397796}\n"
     ]
    },
    {
     "name": "stderr",
     "output_type": "stream",
     "text": [
      "Training Batches: 100%|██████████| 1/1 [00:06<00:00,  6.79s/it]\n",
      "Running inference: 100%|██████████| 1/1 [00:06<00:00,  6.22s/it]\n",
      "Running inference: 100%|██████████| 1/1 [00:06<00:00,  6.38s/it]\n"
     ]
    },
    {
     "name": "stdout",
     "output_type": "stream",
     "text": [
      "Epoch: 087, Average Loss: 0.3942\n",
      "Validation: {'precision': 0.3229168372022705, 'recall': 0.23372016911207882, 'f1': 0.2533068647925195, 'auc': 0.6877810577588019, 'prauc': 0.39020086327385833}\n",
      "Test:       {'precision': 0.3007297720924274, 'recall': 0.22352111998103044, 'f1': 0.23981155211949515, 'auc': 0.6847566456960908, 'prauc': 0.3762327642783247}\n"
     ]
    },
    {
     "name": "stderr",
     "output_type": "stream",
     "text": [
      "Training Batches: 100%|██████████| 1/1 [00:06<00:00,  6.74s/it]\n",
      "Running inference: 100%|██████████| 1/1 [00:06<00:00,  6.12s/it]\n",
      "Running inference: 100%|██████████| 1/1 [00:06<00:00,  6.69s/it]\n"
     ]
    },
    {
     "name": "stdout",
     "output_type": "stream",
     "text": [
      "Epoch: 088, Average Loss: 0.3939\n",
      "Validation: {'precision': 0.32158177410633676, 'recall': 0.2387926094164021, 'f1': 0.25635863411338056, 'auc': 0.68931022956693, 'prauc': 0.39090804285468744}\n",
      "Test:       {'precision': 0.30119277968198305, 'recall': 0.22819886409522036, 'f1': 0.24265996473032836, 'auc': 0.6860274005087663, 'prauc': 0.37677003041420565}\n"
     ]
    },
    {
     "name": "stderr",
     "output_type": "stream",
     "text": [
      "Training Batches: 100%|██████████| 1/1 [00:06<00:00,  6.56s/it]\n",
      "Running inference: 100%|██████████| 1/1 [00:06<00:00,  6.14s/it]\n",
      "Running inference: 100%|██████████| 1/1 [00:06<00:00,  6.93s/it]\n"
     ]
    },
    {
     "name": "stdout",
     "output_type": "stream",
     "text": [
      "Epoch: 089, Average Loss: 0.3945\n",
      "Validation: {'precision': 0.3211003728414844, 'recall': 0.23857435101647578, 'f1': 0.25623997133203275, 'auc': 0.6903130004893545, 'prauc': 0.39104108933910686}\n",
      "Test:       {'precision': 0.2997285352052207, 'recall': 0.22896797603811864, 'f1': 0.24320061917111685, 'auc': 0.6869330004542957, 'prauc': 0.3770991517966395}\n"
     ]
    },
    {
     "name": "stderr",
     "output_type": "stream",
     "text": [
      "Training Batches: 100%|██████████| 1/1 [00:06<00:00,  6.69s/it]\n",
      "Running inference: 100%|██████████| 1/1 [00:06<00:00,  6.58s/it]\n",
      "Running inference: 100%|██████████| 1/1 [00:07<00:00,  7.03s/it]\n"
     ]
    },
    {
     "name": "stdout",
     "output_type": "stream",
     "text": [
      "Epoch: 090, Average Loss: 0.3928\n",
      "Validation: {'precision': 0.3217238165261591, 'recall': 0.23379025712804216, 'f1': 0.2532494483551106, 'auc': 0.6905085438127965, 'prauc': 0.3911608979572723}\n",
      "Test:       {'precision': 0.3028755339810478, 'recall': 0.22634338109232813, 'f1': 0.24308062498235217, 'auc': 0.6872469324643038, 'prauc': 0.37768998004141485}\n"
     ]
    },
    {
     "name": "stderr",
     "output_type": "stream",
     "text": [
      "Training Batches: 100%|██████████| 1/1 [00:06<00:00,  6.72s/it]\n",
      "Running inference: 100%|██████████| 1/1 [00:06<00:00,  6.38s/it]\n",
      "Running inference: 100%|██████████| 1/1 [00:06<00:00,  6.49s/it]\n"
     ]
    },
    {
     "name": "stdout",
     "output_type": "stream",
     "text": [
      "Epoch: 091, Average Loss: 0.3925\n",
      "Validation: {'precision': 0.3210581219342974, 'recall': 0.22946439239177113, 'f1': 0.2505195622128775, 'auc': 0.690512486556738, 'prauc': 0.39116070224956645}\n",
      "Test:       {'precision': 0.3044069182520806, 'recall': 0.223159187953882, 'f1': 0.24230030258861557, 'auc': 0.6878977953188601, 'prauc': 0.37844608297360266}\n"
     ]
    },
    {
     "name": "stderr",
     "output_type": "stream",
     "text": [
      "Training Batches: 100%|██████████| 1/1 [00:07<00:00,  7.24s/it]\n",
      "Running inference: 100%|██████████| 1/1 [00:06<00:00,  6.34s/it]\n",
      "Running inference: 100%|██████████| 1/1 [00:06<00:00,  6.62s/it]\n"
     ]
    },
    {
     "name": "stdout",
     "output_type": "stream",
     "text": [
      "Epoch: 092, Average Loss: 0.3915\n",
      "Validation: {'precision': 0.3222316073195848, 'recall': 0.22731801256355297, 'f1': 0.25037384936584206, 'auc': 0.6904802718797579, 'prauc': 0.39149993465211336}\n",
      "Test:       {'precision': 0.3066103227595814, 'recall': 0.22062167922005255, 'f1': 0.2422424648450601, 'auc': 0.6883922555350218, 'prauc': 0.3790681854850393}\n"
     ]
    },
    {
     "name": "stderr",
     "output_type": "stream",
     "text": [
      "Training Batches: 100%|██████████| 1/1 [00:07<00:00,  7.01s/it]\n",
      "Running inference: 100%|██████████| 1/1 [00:06<00:00,  6.73s/it]\n",
      "Running inference: 100%|██████████| 1/1 [00:07<00:00,  7.22s/it]\n"
     ]
    },
    {
     "name": "stdout",
     "output_type": "stream",
     "text": [
      "Epoch: 093, Average Loss: 0.3929\n",
      "Validation: {'precision': 0.3222777373094947, 'recall': 0.22875912259577927, 'f1': 0.2515002444976424, 'auc': 0.6912356018572237, 'prauc': 0.3919663404443118}\n",
      "Test:       {'precision': 0.3092198978206595, 'recall': 0.22273034346010523, 'f1': 0.2451058510558925, 'auc': 0.6893606365740492, 'prauc': 0.379757840538872}\n"
     ]
    },
    {
     "name": "stderr",
     "output_type": "stream",
     "text": [
      "Training Batches: 100%|██████████| 1/1 [00:06<00:00,  6.93s/it]\n",
      "Running inference: 100%|██████████| 1/1 [00:06<00:00,  6.62s/it]\n",
      "Running inference: 100%|██████████| 1/1 [00:06<00:00,  6.15s/it]\n"
     ]
    },
    {
     "name": "stdout",
     "output_type": "stream",
     "text": [
      "Epoch: 094, Average Loss: 0.3916\n",
      "Validation: {'precision': 0.32177158019582536, 'recall': 0.22617722528450082, 'f1': 0.2509814737913485, 'auc': 0.6911224572201952, 'prauc': 0.39258254532707293}\n",
      "Test:       {'precision': 0.31060701019815784, 'recall': 0.22018013602340603, 'f1': 0.24429072609519448, 'auc': 0.6899950397245375, 'prauc': 0.3806694021644972}\n"
     ]
    },
    {
     "name": "stderr",
     "output_type": "stream",
     "text": [
      "Training Batches: 100%|██████████| 1/1 [00:07<00:00,  7.16s/it]\n",
      "Running inference: 100%|██████████| 1/1 [00:06<00:00,  6.14s/it]\n",
      "Running inference: 100%|██████████| 1/1 [00:06<00:00,  6.86s/it]\n"
     ]
    },
    {
     "name": "stdout",
     "output_type": "stream",
     "text": [
      "Epoch: 095, Average Loss: 0.3907\n",
      "Validation: {'precision': 0.3218699105789388, 'recall': 0.22959310483276785, 'f1': 0.2542886397445846, 'auc': 0.6917000387130706, 'prauc': 0.39322086336647855}\n",
      "Test:       {'precision': 0.30855884847852216, 'recall': 0.22267552456503134, 'f1': 0.24574653258774118, 'auc': 0.690826472787211, 'prauc': 0.38181728059629744}\n"
     ]
    },
    {
     "name": "stderr",
     "output_type": "stream",
     "text": [
      "Training Batches: 100%|██████████| 1/1 [00:06<00:00,  6.85s/it]\n",
      "Running inference: 100%|██████████| 1/1 [00:06<00:00,  6.64s/it]\n",
      "Running inference: 100%|██████████| 1/1 [00:07<00:00,  7.08s/it]\n"
     ]
    },
    {
     "name": "stdout",
     "output_type": "stream",
     "text": [
      "Epoch: 096, Average Loss: 0.3912\n",
      "Validation: {'precision': 0.3209244111877084, 'recall': 0.23355851628205165, 'f1': 0.25765219281189833, 'auc': 0.6928292576231997, 'prauc': 0.39429183644899407}\n",
      "Test:       {'precision': 0.30849040283866813, 'recall': 0.22596241099956005, 'f1': 0.24898508214128157, 'auc': 0.6916285744687695, 'prauc': 0.3830326766204687}\n"
     ]
    },
    {
     "name": "stderr",
     "output_type": "stream",
     "text": [
      "Training Batches: 100%|██████████| 1/1 [00:06<00:00,  6.78s/it]\n",
      "Running inference: 100%|██████████| 1/1 [00:06<00:00,  6.43s/it]\n",
      "Running inference: 100%|██████████| 1/1 [00:06<00:00,  6.70s/it]\n"
     ]
    },
    {
     "name": "stdout",
     "output_type": "stream",
     "text": [
      "Epoch: 097, Average Loss: 0.3906\n",
      "Validation: {'precision': 0.3192409424657673, 'recall': 0.23823876938817307, 'f1': 0.2598475286954833, 'auc': 0.6944785676685487, 'prauc': 0.39545472789523}\n",
      "Test:       {'precision': 0.30932867232368605, 'recall': 0.23346933980866197, 'f1': 0.2541953163078505, 'auc': 0.6932004047032926, 'prauc': 0.384413667505501}\n"
     ]
    },
    {
     "name": "stderr",
     "output_type": "stream",
     "text": [
      "Training Batches: 100%|██████████| 1/1 [00:06<00:00,  6.55s/it]\n",
      "Running inference: 100%|██████████| 1/1 [00:06<00:00,  6.18s/it]\n",
      "Running inference: 100%|██████████| 1/1 [00:06<00:00,  6.17s/it]\n"
     ]
    },
    {
     "name": "stdout",
     "output_type": "stream",
     "text": [
      "Epoch: 098, Average Loss: 0.3904\n",
      "Validation: {'precision': 0.37504367601512656, 'recall': 0.23751513142221128, 'f1': 0.25997609553830664, 'auc': 0.6953089939648295, 'prauc': 0.39607859331236445}\n",
      "Test:       {'precision': 0.30863993955984387, 'recall': 0.2317703713958209, 'f1': 0.25305458661375346, 'auc': 0.694116876545466, 'prauc': 0.38515921145369997}\n"
     ]
    },
    {
     "name": "stderr",
     "output_type": "stream",
     "text": [
      "Training Batches: 100%|██████████| 1/1 [00:07<00:00,  7.26s/it]\n",
      "Running inference: 100%|██████████| 1/1 [00:06<00:00,  6.08s/it]\n",
      "Running inference: 100%|██████████| 1/1 [00:07<00:00,  7.02s/it]\n"
     ]
    },
    {
     "name": "stdout",
     "output_type": "stream",
     "text": [
      "Epoch: 099, Average Loss: 0.3890\n",
      "Validation: {'precision': 0.3758355137723119, 'recall': 0.23472409901054408, 'f1': 0.2592099964815012, 'auc': 0.6960943459356004, 'prauc': 0.3966272688201844}\n",
      "Test:       {'precision': 0.3103737160097573, 'recall': 0.2295490647050558, 'f1': 0.25271317978161295, 'auc': 0.6947465889445128, 'prauc': 0.3857122853392107}\n"
     ]
    },
    {
     "name": "stderr",
     "output_type": "stream",
     "text": [
      "Training Batches: 100%|██████████| 1/1 [00:06<00:00,  6.97s/it]\n",
      "Running inference: 100%|██████████| 1/1 [00:06<00:00,  6.73s/it]\n",
      "Running inference: 100%|██████████| 1/1 [00:07<00:00,  7.26s/it]\n"
     ]
    },
    {
     "name": "stdout",
     "output_type": "stream",
     "text": [
      "Epoch: 100, Average Loss: 0.3903\n",
      "Validation: {'precision': 0.37936147572132245, 'recall': 0.22679841021808414, 'f1': 0.25608424486042636, 'auc': 0.6957340071519889, 'prauc': 0.396641016893891}\n",
      "Test:       {'precision': 0.31326774648085354, 'recall': 0.22102787037175606, 'f1': 0.2483612810818716, 'auc': 0.6944655626561723, 'prauc': 0.38598262599888644}\n"
     ]
    },
    {
     "name": "stderr",
     "output_type": "stream",
     "text": [
      "Training Batches: 100%|██████████| 1/1 [00:06<00:00,  6.73s/it]\n",
      "Running inference: 100%|██████████| 1/1 [00:06<00:00,  6.14s/it]\n",
      "Running inference: 100%|██████████| 1/1 [00:06<00:00,  6.29s/it]\n"
     ]
    },
    {
     "name": "stdout",
     "output_type": "stream",
     "text": [
      "Epoch: 101, Average Loss: 0.3883\n",
      "Validation: {'precision': 0.3814275665899648, 'recall': 0.22283234057709095, 'f1': 0.2537706987360294, 'auc': 0.6961153387333462, 'prauc': 0.3970902116619794}\n",
      "Test:       {'precision': 0.3149404968023932, 'recall': 0.21623503558866275, 'f1': 0.24568247432607, 'auc': 0.6947472714674424, 'prauc': 0.3865571068895934}\n"
     ]
    },
    {
     "name": "stderr",
     "output_type": "stream",
     "text": [
      "Training Batches: 100%|██████████| 1/1 [00:06<00:00,  6.88s/it]\n",
      "Running inference: 100%|██████████| 1/1 [00:06<00:00,  6.14s/it]\n",
      "Running inference: 100%|██████████| 1/1 [00:07<00:00,  7.03s/it]\n"
     ]
    },
    {
     "name": "stdout",
     "output_type": "stream",
     "text": [
      "Epoch: 102, Average Loss: 0.3875\n",
      "Validation: {'precision': 0.3809893559133757, 'recall': 0.22103390067455472, 'f1': 0.25208154429306884, 'auc': 0.6969777815672084, 'prauc': 0.3980746319530206}\n",
      "Test:       {'precision': 0.315877855055351, 'recall': 0.21432379314272054, 'f1': 0.24483161974190992, 'auc': 0.695549912053558, 'prauc': 0.3868349997745266}\n"
     ]
    },
    {
     "name": "stderr",
     "output_type": "stream",
     "text": [
      "Training Batches: 100%|██████████| 1/1 [00:06<00:00,  6.62s/it]\n",
      "Running inference: 100%|██████████| 1/1 [00:06<00:00,  6.15s/it]\n",
      "Running inference: 100%|██████████| 1/1 [00:06<00:00,  7.00s/it]\n"
     ]
    },
    {
     "name": "stdout",
     "output_type": "stream",
     "text": [
      "Epoch: 103, Average Loss: 0.3882\n",
      "Validation: {'precision': 0.3817600170474735, 'recall': 0.2219497488024118, 'f1': 0.2529732441952264, 'auc': 0.69857044586968, 'prauc': 0.3991870748046158}\n",
      "Test:       {'precision': 0.3168141988254357, 'recall': 0.21590396192353406, 'f1': 0.24602005942101185, 'auc': 0.697309446051428, 'prauc': 0.38756240301625206}\n"
     ]
    },
    {
     "name": "stderr",
     "output_type": "stream",
     "text": [
      "Training Batches: 100%|██████████| 1/1 [00:06<00:00,  6.63s/it]\n",
      "Running inference: 100%|██████████| 1/1 [00:06<00:00,  6.16s/it]\n",
      "Running inference: 100%|██████████| 1/1 [00:06<00:00,  6.57s/it]\n"
     ]
    },
    {
     "name": "stdout",
     "output_type": "stream",
     "text": [
      "Epoch: 104, Average Loss: 0.3873\n",
      "Validation: {'precision': 0.3818194224390972, 'recall': 0.22806245973823427, 'f1': 0.2563725717804688, 'auc': 0.7005811073703871, 'prauc': 0.4001218269705415}\n",
      "Test:       {'precision': 0.31591886633591293, 'recall': 0.2214221571251257, 'f1': 0.24915063684729233, 'auc': 0.6994453056497405, 'prauc': 0.388160162269923}\n"
     ]
    },
    {
     "name": "stderr",
     "output_type": "stream",
     "text": [
      "Training Batches: 100%|██████████| 1/1 [00:06<00:00,  6.64s/it]\n",
      "Running inference: 100%|██████████| 1/1 [00:06<00:00,  6.28s/it]\n",
      "Running inference: 100%|██████████| 1/1 [00:06<00:00,  6.39s/it]\n"
     ]
    },
    {
     "name": "stdout",
     "output_type": "stream",
     "text": [
      "Epoch: 105, Average Loss: 0.3866\n",
      "Validation: {'precision': 0.37822342474730564, 'recall': 0.23585418145376913, 'f1': 0.25994143672596953, 'auc': 0.7024290612469685, 'prauc': 0.4009142771170506}\n",
      "Test:       {'precision': 0.34942607819465477, 'recall': 0.2309308928167024, 'f1': 0.25440689197590527, 'auc': 0.7012022232330861, 'prauc': 0.3884356724435809}\n"
     ]
    },
    {
     "name": "stderr",
     "output_type": "stream",
     "text": [
      "Training Batches: 100%|██████████| 1/1 [00:07<00:00,  7.07s/it]\n",
      "Running inference: 100%|██████████| 1/1 [00:06<00:00,  6.27s/it]\n",
      "Running inference: 100%|██████████| 1/1 [00:07<00:00,  7.07s/it]\n"
     ]
    },
    {
     "name": "stdout",
     "output_type": "stream",
     "text": [
      "Epoch: 106, Average Loss: 0.3875\n",
      "Validation: {'precision': 0.35470954131499977, 'recall': 0.24143346082501355, 'f1': 0.2630725729774528, 'auc': 0.7036965970172393, 'prauc': 0.40123119333247126}\n",
      "Test:       {'precision': 0.3371534390394081, 'recall': 0.23692691692628667, 'f1': 0.2577476496766612, 'auc': 0.7028392076466309, 'prauc': 0.3893128798718144}\n"
     ]
    },
    {
     "name": "stderr",
     "output_type": "stream",
     "text": [
      "Training Batches: 100%|██████████| 1/1 [00:07<00:00,  7.31s/it]\n",
      "Running inference: 100%|██████████| 1/1 [00:06<00:00,  6.79s/it]\n",
      "Running inference: 100%|██████████| 1/1 [00:07<00:00,  7.27s/it]\n"
     ]
    },
    {
     "name": "stdout",
     "output_type": "stream",
     "text": [
      "Epoch: 107, Average Loss: 0.3868\n",
      "Validation: {'precision': 0.3553343548191166, 'recall': 0.24088718713271629, 'f1': 0.2643675775331445, 'auc': 0.7038996990343667, 'prauc': 0.40202497795195286}\n",
      "Test:       {'precision': 0.3436886769704076, 'recall': 0.2355155938495379, 'f1': 0.25787357852522597, 'auc': 0.7038004887467592, 'prauc': 0.3909118060611516}\n"
     ]
    },
    {
     "name": "stderr",
     "output_type": "stream",
     "text": [
      "Training Batches: 100%|██████████| 1/1 [00:06<00:00,  6.66s/it]\n",
      "Running inference: 100%|██████████| 1/1 [00:06<00:00,  6.49s/it]\n",
      "Running inference: 100%|██████████| 1/1 [00:06<00:00,  6.10s/it]\n"
     ]
    },
    {
     "name": "stdout",
     "output_type": "stream",
     "text": [
      "Epoch: 108, Average Loss: 0.3861\n",
      "Validation: {'precision': 0.36197292778678714, 'recall': 0.23460097422241263, 'f1': 0.2624200971514708, 'auc': 0.7042147456090366, 'prauc': 0.40291832447315934}\n",
      "Test:       {'precision': 0.3402267741680077, 'recall': 0.2310937622366002, 'f1': 0.2568134066311545, 'auc': 0.7038411535207053, 'prauc': 0.3922351805321656}\n"
     ]
    },
    {
     "name": "stderr",
     "output_type": "stream",
     "text": [
      "Training Batches: 100%|██████████| 1/1 [00:07<00:00,  7.26s/it]\n",
      "Running inference: 100%|██████████| 1/1 [00:06<00:00,  6.11s/it]\n",
      "Running inference: 100%|██████████| 1/1 [00:06<00:00,  6.80s/it]\n"
     ]
    },
    {
     "name": "stdout",
     "output_type": "stream",
     "text": [
      "Epoch: 109, Average Loss: 0.3860\n",
      "Validation: {'precision': 0.35959630704774864, 'recall': 0.23440320657758265, 'f1': 0.2618690497213845, 'auc': 0.7053472952248497, 'prauc': 0.40372909518683975}\n",
      "Test:       {'precision': 0.3397978069077323, 'recall': 0.2294924293976392, 'f1': 0.25541040126373254, 'auc': 0.7044889004981144, 'prauc': 0.39297428628601466}\n"
     ]
    },
    {
     "name": "stderr",
     "output_type": "stream",
     "text": [
      "Training Batches: 100%|██████████| 1/1 [00:06<00:00,  6.69s/it]\n",
      "Running inference: 100%|██████████| 1/1 [00:06<00:00,  6.42s/it]\n",
      "Running inference: 100%|██████████| 1/1 [00:06<00:00,  6.96s/it]\n"
     ]
    },
    {
     "name": "stdout",
     "output_type": "stream",
     "text": [
      "Epoch: 110, Average Loss: 0.3867\n",
      "Validation: {'precision': 0.3550342301625356, 'recall': 0.24154470609002537, 'f1': 0.2656326002527185, 'auc': 0.7075422568657542, 'prauc': 0.4042174079832033}\n",
      "Test:       {'precision': 0.339296429776937, 'recall': 0.23362441851927132, 'f1': 0.2575360662624224, 'auc': 0.7056520067769997, 'prauc': 0.39407039500819546}\n"
     ]
    },
    {
     "name": "stderr",
     "output_type": "stream",
     "text": [
      "Training Batches: 100%|██████████| 1/1 [00:06<00:00,  6.58s/it]\n",
      "Running inference: 100%|██████████| 1/1 [00:06<00:00,  6.50s/it]\n",
      "Running inference: 100%|██████████| 1/1 [00:07<00:00,  7.04s/it]\n"
     ]
    },
    {
     "name": "stdout",
     "output_type": "stream",
     "text": [
      "Epoch: 111, Average Loss: 0.3842\n",
      "Validation: {'precision': 0.3550144094425258, 'recall': 0.2440693088767992, 'f1': 0.26704931127259773, 'auc': 0.7090517829334323, 'prauc': 0.40416819916807717}\n",
      "Test:       {'precision': 0.3326017505183422, 'recall': 0.23767406678644065, 'f1': 0.2590135532511032, 'auc': 0.705271269352897, 'prauc': 0.3939165678270861}\n"
     ]
    },
    {
     "name": "stderr",
     "output_type": "stream",
     "text": [
      "Training Batches: 100%|██████████| 1/1 [00:06<00:00,  6.75s/it]\n",
      "Running inference: 100%|██████████| 1/1 [00:06<00:00,  6.14s/it]\n",
      "Running inference: 100%|██████████| 1/1 [00:06<00:00,  6.54s/it]\n"
     ]
    },
    {
     "name": "stdout",
     "output_type": "stream",
     "text": [
      "Epoch: 112, Average Loss: 0.3842\n",
      "Validation: {'precision': 0.3581459158693765, 'recall': 0.24467562067458046, 'f1': 0.2681216102668271, 'auc': 0.7091231940854021, 'prauc': 0.40424311861387185}\n",
      "Test:       {'precision': 0.3332522272358541, 'recall': 0.23776935115483763, 'f1': 0.2596106374999639, 'auc': 0.7045873892515518, 'prauc': 0.3939234378658043}\n"
     ]
    },
    {
     "name": "stderr",
     "output_type": "stream",
     "text": [
      "Training Batches: 100%|██████████| 1/1 [00:06<00:00,  6.84s/it]\n",
      "Running inference: 100%|██████████| 1/1 [00:06<00:00,  6.30s/it]\n",
      "Running inference: 100%|██████████| 1/1 [00:06<00:00,  6.89s/it]\n"
     ]
    },
    {
     "name": "stdout",
     "output_type": "stream",
     "text": [
      "Epoch: 113, Average Loss: 0.3850\n",
      "Validation: {'precision': 0.36516835398376146, 'recall': 0.24041801155492384, 'f1': 0.2671364743706495, 'auc': 0.7087280846906996, 'prauc': 0.40530379482566103}\n",
      "Test:       {'precision': 0.3384190651231159, 'recall': 0.23370469128045374, 'f1': 0.25948712666274015, 'auc': 0.7052587973051425, 'prauc': 0.3955524823302586}\n"
     ]
    },
    {
     "name": "stderr",
     "output_type": "stream",
     "text": [
      "Training Batches: 100%|██████████| 1/1 [00:07<00:00,  7.10s/it]\n",
      "Running inference: 100%|██████████| 1/1 [00:06<00:00,  6.66s/it]\n",
      "Running inference: 100%|██████████| 1/1 [00:07<00:00,  7.46s/it]\n"
     ]
    },
    {
     "name": "stdout",
     "output_type": "stream",
     "text": [
      "Epoch: 114, Average Loss: 0.3852\n",
      "Validation: {'precision': 0.36770059355538637, 'recall': 0.2339117543074438, 'f1': 0.2652230171927814, 'auc': 0.7068240514139603, 'prauc': 0.40531963254535114}\n",
      "Test:       {'precision': 0.34038955548373895, 'recall': 0.22779447786005047, 'f1': 0.2589247366167573, 'auc': 0.7051076354738293, 'prauc': 0.39595419788711006}\n"
     ]
    },
    {
     "name": "stderr",
     "output_type": "stream",
     "text": [
      "Training Batches: 100%|██████████| 1/1 [00:06<00:00,  6.55s/it]\n",
      "Running inference: 100%|██████████| 1/1 [00:06<00:00,  6.30s/it]\n",
      "Running inference: 100%|██████████| 1/1 [00:06<00:00,  6.55s/it]\n"
     ]
    },
    {
     "name": "stdout",
     "output_type": "stream",
     "text": [
      "Epoch: 115, Average Loss: 0.3828\n",
      "Validation: {'precision': 0.3701864904945238, 'recall': 0.23068532091191754, 'f1': 0.2655232130755997, 'auc': 0.7054037234662842, 'prauc': 0.404624321798206}\n",
      "Test:       {'precision': 0.3464883864141491, 'recall': 0.22344532072235238, 'f1': 0.2574166850601452, 'auc': 0.7053808349516911, 'prauc': 0.3964051927598414}\n"
     ]
    },
    {
     "name": "stderr",
     "output_type": "stream",
     "text": [
      "Training Batches: 100%|██████████| 1/1 [00:07<00:00,  7.35s/it]\n",
      "Running inference: 100%|██████████| 1/1 [00:06<00:00,  6.51s/it]\n",
      "Running inference: 100%|██████████| 1/1 [00:07<00:00,  7.09s/it]\n"
     ]
    },
    {
     "name": "stdout",
     "output_type": "stream",
     "text": [
      "Epoch: 116, Average Loss: 0.3839\n",
      "Validation: {'precision': 0.3723660083266126, 'recall': 0.23669559246193062, 'f1': 0.2711603972688937, 'auc': 0.7059830715932147, 'prauc': 0.4052266986143245}\n",
      "Test:       {'precision': 0.35246605362848704, 'recall': 0.2277860265237506, 'f1': 0.2617273369222247, 'auc': 0.7063273132218075, 'prauc': 0.39734592777355326}\n"
     ]
    },
    {
     "name": "stderr",
     "output_type": "stream",
     "text": [
      "Training Batches: 100%|██████████| 1/1 [00:06<00:00,  6.95s/it]\n",
      "Running inference: 100%|██████████| 1/1 [00:06<00:00,  6.48s/it]\n",
      "Running inference: 100%|██████████| 1/1 [00:06<00:00,  6.88s/it]\n"
     ]
    },
    {
     "name": "stdout",
     "output_type": "stream",
     "text": [
      "Epoch: 117, Average Loss: 0.3843\n",
      "Validation: {'precision': 0.3676310760956987, 'recall': 0.24516327931173829, 'f1': 0.2762633117510189, 'auc': 0.7090140951682867, 'prauc': 0.407368430454249}\n",
      "Test:       {'precision': 0.3501833780800551, 'recall': 0.23866897998507705, 'f1': 0.2688215966618436, 'auc': 0.7084880605391803, 'prauc': 0.39906526502601186}\n"
     ]
    },
    {
     "name": "stderr",
     "output_type": "stream",
     "text": [
      "Training Batches: 100%|██████████| 1/1 [00:06<00:00,  6.86s/it]\n",
      "Running inference: 100%|██████████| 1/1 [00:06<00:00,  6.62s/it]\n",
      "Running inference: 100%|██████████| 1/1 [00:06<00:00,  6.80s/it]\n"
     ]
    },
    {
     "name": "stdout",
     "output_type": "stream",
     "text": [
      "Epoch: 118, Average Loss: 0.3817\n",
      "Validation: {'precision': 0.3611222867168387, 'recall': 0.2546225418721958, 'f1': 0.28118896888878453, 'auc': 0.7115741524301393, 'prauc': 0.40838244086943293}\n",
      "Test:       {'precision': 0.3508010739176048, 'recall': 0.24913166991630475, 'f1': 0.275432611947753, 'auc': 0.7100158304009154, 'prauc': 0.39985182174559225}\n"
     ]
    },
    {
     "name": "stderr",
     "output_type": "stream",
     "text": [
      "Training Batches: 100%|██████████| 1/1 [00:06<00:00,  6.84s/it]\n",
      "Running inference: 100%|██████████| 1/1 [00:06<00:00,  6.33s/it]\n",
      "Running inference: 100%|██████████| 1/1 [00:06<00:00,  6.63s/it]\n"
     ]
    },
    {
     "name": "stdout",
     "output_type": "stream",
     "text": [
      "Epoch: 119, Average Loss: 0.3814\n",
      "Validation: {'precision': 0.3607340425822732, 'recall': 0.2612461836245354, 'f1': 0.2854023017820959, 'auc': 0.712718855907008, 'prauc': 0.4089661099866664}\n",
      "Test:       {'precision': 0.3479420063538318, 'recall': 0.25688744897164456, 'f1': 0.27915269130492515, 'auc': 0.709516631957925, 'prauc': 0.39963363105858796}\n"
     ]
    },
    {
     "name": "stderr",
     "output_type": "stream",
     "text": [
      "Training Batches: 100%|██████████| 1/1 [00:07<00:00,  7.15s/it]\n",
      "Running inference: 100%|██████████| 1/1 [00:06<00:00,  6.31s/it]\n",
      "Running inference: 100%|██████████| 1/1 [00:06<00:00,  6.98s/it]\n"
     ]
    },
    {
     "name": "stdout",
     "output_type": "stream",
     "text": [
      "Epoch: 120, Average Loss: 0.3813\n",
      "Validation: {'precision': 0.3565828583012802, 'recall': 0.26361969873430063, 'f1': 0.28563847462862846, 'auc': 0.7135988965129574, 'prauc': 0.4088533826730258}\n",
      "Test:       {'precision': 0.3419847377865829, 'recall': 0.25658334715828757, 'f1': 0.27725069227164395, 'auc': 0.7092599303284192, 'prauc': 0.39929263650592783}\n"
     ]
    },
    {
     "name": "stderr",
     "output_type": "stream",
     "text": [
      "Training Batches: 100%|██████████| 1/1 [00:06<00:00,  6.89s/it]\n",
      "Running inference: 100%|██████████| 1/1 [00:06<00:00,  6.88s/it]\n",
      "Running inference: 100%|██████████| 1/1 [00:07<00:00,  7.35s/it]\n"
     ]
    },
    {
     "name": "stdout",
     "output_type": "stream",
     "text": [
      "Epoch: 121, Average Loss: 0.3817\n",
      "Validation: {'precision': 0.35685612334748107, 'recall': 0.2614955420165578, 'f1': 0.284695930858772, 'auc': 0.7138106598270662, 'prauc': 0.40907928996732656}\n",
      "Test:       {'precision': 0.34334887536584396, 'recall': 0.25508750777510936, 'f1': 0.2769869503212025, 'auc': 0.7095854166098721, 'prauc': 0.39917655943012353}\n"
     ]
    },
    {
     "name": "stderr",
     "output_type": "stream",
     "text": [
      "Training Batches: 100%|██████████| 1/1 [00:06<00:00,  6.39s/it]\n",
      "Running inference: 100%|██████████| 1/1 [00:06<00:00,  6.11s/it]\n",
      "Running inference: 100%|██████████| 1/1 [00:06<00:00,  6.40s/it]\n"
     ]
    },
    {
     "name": "stdout",
     "output_type": "stream",
     "text": [
      "Epoch: 122, Average Loss: 0.3818\n",
      "Validation: {'precision': 0.36183901443944877, 'recall': 0.2567585905122495, 'f1': 0.28330736151176283, 'auc': 0.7139790255092379, 'prauc': 0.4094570244170365}\n",
      "Test:       {'precision': 0.34944922156070785, 'recall': 0.2500698512817869, 'f1': 0.2754924862344272, 'auc': 0.7104332846177963, 'prauc': 0.39921574336311866}\n"
     ]
    },
    {
     "name": "stderr",
     "output_type": "stream",
     "text": [
      "Training Batches: 100%|██████████| 1/1 [00:06<00:00,  7.00s/it]\n",
      "Running inference: 100%|██████████| 1/1 [00:06<00:00,  6.33s/it]\n",
      "Running inference: 100%|██████████| 1/1 [00:06<00:00,  6.58s/it]\n"
     ]
    },
    {
     "name": "stdout",
     "output_type": "stream",
     "text": [
      "Epoch: 123, Average Loss: 0.3805\n",
      "Validation: {'precision': 0.3640666796190627, 'recall': 0.24828783501384125, 'f1': 0.27833549133168783, 'auc': 0.7134097773069876, 'prauc': 0.41035328976014046}\n",
      "Test:       {'precision': 0.3534889460782893, 'recall': 0.24096261744092917, 'f1': 0.2712190416505142, 'auc': 0.7118462971529415, 'prauc': 0.40056374411806345}\n"
     ]
    },
    {
     "name": "stderr",
     "output_type": "stream",
     "text": [
      "Training Batches: 100%|██████████| 1/1 [00:06<00:00,  6.60s/it]\n",
      "Running inference: 100%|██████████| 1/1 [00:06<00:00,  6.34s/it]\n",
      "Running inference: 100%|██████████| 1/1 [00:06<00:00,  6.63s/it]\n"
     ]
    },
    {
     "name": "stdout",
     "output_type": "stream",
     "text": [
      "Epoch: 124, Average Loss: 0.3806\n",
      "Validation: {'precision': 0.3719387886877524, 'recall': 0.23828922192088106, 'f1': 0.27403276173450863, 'auc': 0.7112738663755349, 'prauc': 0.4102059291323591}\n",
      "Test:       {'precision': 0.36476295796152136, 'recall': 0.23445193787250856, 'f1': 0.2707315558339314, 'auc': 0.7124245226694795, 'prauc': 0.402927852226471}\n"
     ]
    },
    {
     "name": "stderr",
     "output_type": "stream",
     "text": [
      "Training Batches: 100%|██████████| 1/1 [00:06<00:00,  6.61s/it]\n",
      "Running inference: 100%|██████████| 1/1 [00:06<00:00,  6.12s/it]\n",
      "Running inference: 100%|██████████| 1/1 [00:06<00:00,  6.67s/it]\n"
     ]
    },
    {
     "name": "stdout",
     "output_type": "stream",
     "text": [
      "Epoch: 125, Average Loss: 0.3803\n",
      "Validation: {'precision': 0.37102509968538655, 'recall': 0.23558395254266143, 'f1': 0.2719868594327606, 'auc': 0.7102227794765023, 'prauc': 0.4101577288632419}\n",
      "Test:       {'precision': 0.36246979341140806, 'recall': 0.23150088366689792, 'f1': 0.2685690984510979, 'auc': 0.7129583903212342, 'prauc': 0.4033565877976888}\n"
     ]
    },
    {
     "name": "stderr",
     "output_type": "stream",
     "text": [
      "Training Batches: 100%|██████████| 1/1 [00:06<00:00,  6.54s/it]\n",
      "Running inference: 100%|██████████| 1/1 [00:06<00:00,  6.48s/it]\n",
      "Running inference: 100%|██████████| 1/1 [00:06<00:00,  6.44s/it]\n"
     ]
    },
    {
     "name": "stdout",
     "output_type": "stream",
     "text": [
      "Epoch: 126, Average Loss: 0.3788\n",
      "Validation: {'precision': 0.37140030698295456, 'recall': 0.23952129534052574, 'f1': 0.2752255218130114, 'auc': 0.7107364058901952, 'prauc': 0.4109381650002505}\n",
      "Test:       {'precision': 0.36274778348541326, 'recall': 0.23435505344457874, 'f1': 0.2703726640313902, 'auc': 0.7143611580053215, 'prauc': 0.4049607605430079}\n"
     ]
    },
    {
     "name": "stderr",
     "output_type": "stream",
     "text": [
      "Training Batches: 100%|██████████| 1/1 [00:07<00:00,  7.25s/it]\n",
      "Running inference: 100%|██████████| 1/1 [00:06<00:00,  6.09s/it]\n",
      "Running inference: 100%|██████████| 1/1 [00:06<00:00,  6.68s/it]\n"
     ]
    },
    {
     "name": "stdout",
     "output_type": "stream",
     "text": [
      "Epoch: 127, Average Loss: 0.3814\n",
      "Validation: {'precision': 0.422631018868447, 'recall': 0.24830762821912644, 'f1': 0.2807226243152995, 'auc': 0.7136921065289499, 'prauc': 0.4125907220008373}\n",
      "Test:       {'precision': 0.36051122957810255, 'recall': 0.24290734005344689, 'f1': 0.2760255277912251, 'auc': 0.7165991266176024, 'prauc': 0.40708595596573594}\n"
     ]
    },
    {
     "name": "stderr",
     "output_type": "stream",
     "text": [
      "Training Batches: 100%|██████████| 1/1 [00:07<00:00,  7.02s/it]\n",
      "Running inference: 100%|██████████| 1/1 [00:06<00:00,  6.92s/it]\n",
      "Running inference: 100%|██████████| 1/1 [00:07<00:00,  7.17s/it]\n"
     ]
    },
    {
     "name": "stdout",
     "output_type": "stream",
     "text": [
      "Epoch: 128, Average Loss: 0.3787\n",
      "Validation: {'precision': 0.4186266429087748, 'recall': 0.25437477705122447, 'f1': 0.28473542208188407, 'auc': 0.7155408032197507, 'prauc': 0.41344478516497585}\n",
      "Test:       {'precision': 0.35592652940057, 'recall': 0.24784300660699443, 'f1': 0.27787820446539624, 'auc': 0.7174280814243662, 'prauc': 0.4080420214640213}\n"
     ]
    },
    {
     "name": "stderr",
     "output_type": "stream",
     "text": [
      "Training Batches: 100%|██████████| 1/1 [00:06<00:00,  6.57s/it]\n",
      "Running inference: 100%|██████████| 1/1 [00:06<00:00,  6.39s/it]\n",
      "Running inference: 100%|██████████| 1/1 [00:06<00:00,  6.38s/it]\n"
     ]
    },
    {
     "name": "stdout",
     "output_type": "stream",
     "text": [
      "Epoch: 129, Average Loss: 0.3774\n",
      "Validation: {'precision': 0.41927408571165803, 'recall': 0.2634904973362032, 'f1': 0.2913253200610862, 'auc': 0.7171508294549125, 'prauc': 0.414527095474075}\n",
      "Test:       {'precision': 0.3529141089185437, 'recall': 0.2545655198375676, 'f1': 0.28108126466002004, 'auc': 0.7170790496521696, 'prauc': 0.40876032477650714}\n"
     ]
    },
    {
     "name": "stderr",
     "output_type": "stream",
     "text": [
      "Training Batches: 100%|██████████| 1/1 [00:07<00:00,  7.16s/it]\n",
      "Running inference: 100%|██████████| 1/1 [00:06<00:00,  6.62s/it]\n",
      "Running inference: 100%|██████████| 1/1 [00:06<00:00,  6.77s/it]\n"
     ]
    },
    {
     "name": "stdout",
     "output_type": "stream",
     "text": [
      "Epoch: 130, Average Loss: 0.3793\n",
      "Validation: {'precision': 0.3616793546319552, 'recall': 0.26970986012424586, 'f1': 0.29381384268796384, 'auc': 0.7179250678893746, 'prauc': 0.41484208737590733}\n",
      "Test:       {'precision': 0.34838446160718173, 'recall': 0.25887753409354197, 'f1': 0.2816718709443928, 'auc': 0.7147177669575107, 'prauc': 0.4064796916615677}\n"
     ]
    },
    {
     "name": "stderr",
     "output_type": "stream",
     "text": [
      "Training Batches: 100%|██████████| 1/1 [00:06<00:00,  6.63s/it]\n",
      "Running inference: 100%|██████████| 1/1 [00:06<00:00,  6.47s/it]\n",
      "Running inference: 100%|██████████| 1/1 [00:07<00:00,  7.12s/it]\n"
     ]
    },
    {
     "name": "stdout",
     "output_type": "stream",
     "text": [
      "Epoch: 131, Average Loss: 0.3776\n",
      "Validation: {'precision': 0.36281883744150684, 'recall': 0.27151387974325825, 'f1': 0.2966800485294243, 'auc': 0.7166337845792499, 'prauc': 0.4154584251772582}\n",
      "Test:       {'precision': 0.34892441141953845, 'recall': 0.26043538507941427, 'f1': 0.2838626672678349, 'auc': 0.7131337057053905, 'prauc': 0.40653701911150963}\n"
     ]
    },
    {
     "name": "stderr",
     "output_type": "stream",
     "text": [
      "Training Batches: 100%|██████████| 1/1 [00:07<00:00,  7.03s/it]\n",
      "Running inference: 100%|██████████| 1/1 [00:06<00:00,  6.16s/it]\n",
      "Running inference: 100%|██████████| 1/1 [00:06<00:00,  6.51s/it]\n"
     ]
    },
    {
     "name": "stdout",
     "output_type": "stream",
     "text": [
      "Epoch: 132, Average Loss: 0.3781\n",
      "Validation: {'precision': 0.3674585377290898, 'recall': 0.26519089480361774, 'f1': 0.2942298560879096, 'auc': 0.714993537832986, 'prauc': 0.4152215385238272}\n",
      "Test:       {'precision': 0.35385732916793494, 'recall': 0.25660901777114314, 'f1': 0.28404828455821857, 'auc': 0.7126247210632438, 'prauc': 0.4087490424234214}\n"
     ]
    },
    {
     "name": "stderr",
     "output_type": "stream",
     "text": [
      "Training Batches: 100%|██████████| 1/1 [00:06<00:00,  6.42s/it]\n",
      "Running inference: 100%|██████████| 1/1 [00:06<00:00,  6.09s/it]\n",
      "Running inference: 100%|██████████| 1/1 [00:06<00:00,  6.09s/it]\n"
     ]
    },
    {
     "name": "stdout",
     "output_type": "stream",
     "text": [
      "Epoch: 133, Average Loss: 0.3760\n",
      "Validation: {'precision': 0.36693888759093, 'recall': 0.25780707749502213, 'f1': 0.291320131933557, 'auc': 0.713644361096974, 'prauc': 0.41529306182792425}\n",
      "Test:       {'precision': 0.35437051769400557, 'recall': 0.25231078909388466, 'f1': 0.2836099021655883, 'auc': 0.7131564309376057, 'prauc': 0.4088752033989453}\n"
     ]
    },
    {
     "name": "stderr",
     "output_type": "stream",
     "text": [
      "Training Batches: 100%|██████████| 1/1 [00:07<00:00,  7.12s/it]\n",
      "Running inference: 100%|██████████| 1/1 [00:06<00:00,  6.64s/it]\n",
      "Running inference: 100%|██████████| 1/1 [00:06<00:00,  6.75s/it]\n"
     ]
    },
    {
     "name": "stdout",
     "output_type": "stream",
     "text": [
      "Epoch: 134, Average Loss: 0.3748\n",
      "Validation: {'precision': 0.3694816394167184, 'recall': 0.25344779748701957, 'f1': 0.2899392995161991, 'auc': 0.713488203931795, 'prauc': 0.4156303275892024}\n",
      "Test:       {'precision': 0.35869210722902106, 'recall': 0.24796248412825872, 'f1': 0.28350932578362364, 'auc': 0.7151290315057603, 'prauc': 0.40780432379731757}\n"
     ]
    },
    {
     "name": "stderr",
     "output_type": "stream",
     "text": [
      "Training Batches: 100%|██████████| 1/1 [00:07<00:00,  7.11s/it]\n",
      "Running inference: 100%|██████████| 1/1 [00:06<00:00,  6.77s/it]\n",
      "Running inference: 100%|██████████| 1/1 [00:07<00:00,  7.50s/it]\n"
     ]
    },
    {
     "name": "stdout",
     "output_type": "stream",
     "text": [
      "Epoch: 135, Average Loss: 0.3763\n",
      "Validation: {'precision': 0.3707743548056682, 'recall': 0.2481753033779236, 'f1': 0.2864480806236423, 'auc': 0.7120567368793727, 'prauc': 0.4155198563735756}\n",
      "Test:       {'precision': 0.3590372988901008, 'recall': 0.24134444309344294, 'f1': 0.2792439683620689, 'auc': 0.7161880266509514, 'prauc': 0.4078719004583211}\n"
     ]
    },
    {
     "name": "stderr",
     "output_type": "stream",
     "text": [
      "Training Batches: 100%|██████████| 1/1 [00:06<00:00,  6.89s/it]\n",
      "Running inference: 100%|██████████| 1/1 [00:06<00:00,  6.42s/it]\n",
      "Running inference: 100%|██████████| 1/1 [00:06<00:00,  6.40s/it]\n"
     ]
    },
    {
     "name": "stdout",
     "output_type": "stream",
     "text": [
      "Epoch: 136, Average Loss: 0.3802\n",
      "Validation: {'precision': 0.36904444732318337, 'recall': 0.2507935308363931, 'f1': 0.2853524722909764, 'auc': 0.7140996194495756, 'prauc': 0.4171294024449811}\n",
      "Test:       {'precision': 0.41682859626596974, 'recall': 0.24537600836198925, 'f1': 0.2809108151740849, 'auc': 0.719960556984002, 'prauc': 0.40938169985513206}\n"
     ]
    },
    {
     "name": "stderr",
     "output_type": "stream",
     "text": [
      "Training Batches: 100%|██████████| 1/1 [00:07<00:00,  7.26s/it]\n",
      "Running inference: 100%|██████████| 1/1 [00:06<00:00,  6.55s/it]\n",
      "Running inference: 100%|██████████| 1/1 [00:06<00:00,  6.57s/it]\n"
     ]
    },
    {
     "name": "stdout",
     "output_type": "stream",
     "text": [
      "Epoch: 137, Average Loss: 0.3749\n",
      "Validation: {'precision': 0.39282121857405605, 'recall': 0.25723646198904315, 'f1': 0.28764431068014423, 'auc': 0.7147017854930893, 'prauc': 0.4175662875624694}\n",
      "Test:       {'precision': 0.38704195289250776, 'recall': 0.25121203445961593, 'f1': 0.28285926343906237, 'auc': 0.7219365822708955, 'prauc': 0.40904586225859685}\n"
     ]
    },
    {
     "name": "stderr",
     "output_type": "stream",
     "text": [
      "Training Batches: 100%|██████████| 1/1 [00:06<00:00,  6.84s/it]\n",
      "Running inference: 100%|██████████| 1/1 [00:06<00:00,  6.37s/it]\n",
      "Running inference: 100%|██████████| 1/1 [00:06<00:00,  6.85s/it]\n"
     ]
    },
    {
     "name": "stdout",
     "output_type": "stream",
     "text": [
      "Epoch: 138, Average Loss: 0.3768\n",
      "Validation: {'precision': 0.3914696053550042, 'recall': 0.263589616907479, 'f1': 0.2930505897263017, 'auc': 0.717560502591679, 'prauc': 0.4184012583802643}\n",
      "Test:       {'precision': 0.3775360778151558, 'recall': 0.2550646090090496, 'f1': 0.28494554382697335, 'auc': 0.7245075045590489, 'prauc': 0.41056835330757085}\n"
     ]
    },
    {
     "name": "stderr",
     "output_type": "stream",
     "text": [
      "Training Batches: 100%|██████████| 1/1 [00:06<00:00,  6.88s/it]\n",
      "Running inference: 100%|██████████| 1/1 [00:06<00:00,  6.41s/it]\n",
      "Running inference: 100%|██████████| 1/1 [00:06<00:00,  6.79s/it]\n"
     ]
    },
    {
     "name": "stdout",
     "output_type": "stream",
     "text": [
      "Epoch: 139, Average Loss: 0.3742\n",
      "Validation: {'precision': 0.3880082342818194, 'recall': 0.26327414847743186, 'f1': 0.2905521703711651, 'auc': 0.7192291650306368, 'prauc': 0.41874725882116487}\n",
      "Test:       {'precision': 0.37355077080041377, 'recall': 0.2579881922729768, 'f1': 0.28472952151064035, 'auc': 0.725381622838273, 'prauc': 0.41099547817615656}\n"
     ]
    },
    {
     "name": "stderr",
     "output_type": "stream",
     "text": [
      "Training Batches: 100%|██████████| 1/1 [00:06<00:00,  6.67s/it]\n",
      "Running inference: 100%|██████████| 1/1 [00:06<00:00,  6.33s/it]\n",
      "Running inference: 100%|██████████| 1/1 [00:06<00:00,  6.41s/it]\n"
     ]
    },
    {
     "name": "stdout",
     "output_type": "stream",
     "text": [
      "Epoch: 140, Average Loss: 0.3737\n",
      "Validation: {'precision': 0.3916378744748067, 'recall': 0.2668520159732261, 'f1': 0.2927331097042168, 'auc': 0.7207078418885823, 'prauc': 0.41834886542963573}\n",
      "Test:       {'precision': 0.377027052406241, 'recall': 0.25814335923924475, 'f1': 0.2835918185106058, 'auc': 0.7248837152865133, 'prauc': 0.4110244254735321}\n"
     ]
    },
    {
     "name": "stderr",
     "output_type": "stream",
     "text": [
      "Training Batches: 100%|██████████| 1/1 [00:06<00:00,  6.99s/it]\n",
      "Running inference: 100%|██████████| 1/1 [00:06<00:00,  6.61s/it]\n",
      "Running inference: 100%|██████████| 1/1 [00:06<00:00,  6.68s/it]\n"
     ]
    },
    {
     "name": "stdout",
     "output_type": "stream",
     "text": [
      "Epoch: 141, Average Loss: 0.3734\n",
      "Validation: {'precision': 0.3911798519726888, 'recall': 0.2645453207528193, 'f1': 0.29026561770438936, 'auc': 0.7216091396342327, 'prauc': 0.41869597924022245}\n",
      "Test:       {'precision': 0.36936902324575116, 'recall': 0.2579367537934441, 'f1': 0.28291514040364013, 'auc': 0.7249940557345962, 'prauc': 0.4111607492916315}\n"
     ]
    },
    {
     "name": "stderr",
     "output_type": "stream",
     "text": [
      "Training Batches: 100%|██████████| 1/1 [00:06<00:00,  6.96s/it]\n",
      "Running inference: 100%|██████████| 1/1 [00:06<00:00,  6.82s/it]\n",
      "Running inference: 100%|██████████| 1/1 [00:07<00:00,  7.23s/it]\n"
     ]
    },
    {
     "name": "stdout",
     "output_type": "stream",
     "text": [
      "Epoch: 142, Average Loss: 0.3745\n",
      "Validation: {'precision': 0.3660928851013947, 'recall': 0.262105442551821, 'f1': 0.2902329190645043, 'auc': 0.7221364759316328, 'prauc': 0.41904104386953844}\n",
      "Test:       {'precision': 0.37357649586978814, 'recall': 0.25475600791388336, 'f1': 0.28269418851513256, 'auc': 0.7245243774919595, 'prauc': 0.4114837720651395}\n"
     ]
    },
    {
     "name": "stderr",
     "output_type": "stream",
     "text": [
      "Training Batches: 100%|██████████| 1/1 [00:06<00:00,  6.88s/it]\n",
      "Running inference: 100%|██████████| 1/1 [00:06<00:00,  6.31s/it]\n",
      "Running inference: 100%|██████████| 1/1 [00:06<00:00,  6.42s/it]\n"
     ]
    },
    {
     "name": "stdout",
     "output_type": "stream",
     "text": [
      "Epoch: 143, Average Loss: 0.3736\n",
      "Validation: {'precision': 0.3686672955849251, 'recall': 0.2589778930938803, 'f1': 0.289879044824674, 'auc': 0.7219910800708536, 'prauc': 0.41973974719707285}\n",
      "Test:       {'precision': 0.37745168135984747, 'recall': 0.25285591616498804, 'f1': 0.28356684330430054, 'auc': 0.7242647423659672, 'prauc': 0.4121040431765002}\n"
     ]
    },
    {
     "name": "stderr",
     "output_type": "stream",
     "text": [
      "Training Batches: 100%|██████████| 1/1 [00:07<00:00,  7.25s/it]\n",
      "Running inference: 100%|██████████| 1/1 [00:06<00:00,  6.41s/it]\n",
      "Running inference: 100%|██████████| 1/1 [00:06<00:00,  6.54s/it]\n"
     ]
    },
    {
     "name": "stdout",
     "output_type": "stream",
     "text": [
      "Epoch: 144, Average Loss: 0.3736\n",
      "Validation: {'precision': 0.3681228331662907, 'recall': 0.2561850909494163, 'f1': 0.2894186917853292, 'auc': 0.7213565333435129, 'prauc': 0.4207777192969877}\n",
      "Test:       {'precision': 0.38727898309201786, 'recall': 0.2527515505150388, 'f1': 0.285093554295625, 'auc': 0.7240124144653692, 'prauc': 0.41275119522940296}\n"
     ]
    },
    {
     "name": "stderr",
     "output_type": "stream",
     "text": [
      "Training Batches: 100%|██████████| 1/1 [00:06<00:00,  6.61s/it]\n",
      "Running inference: 100%|██████████| 1/1 [00:06<00:00,  6.51s/it]\n",
      "Running inference: 100%|██████████| 1/1 [00:06<00:00,  6.48s/it]\n"
     ]
    },
    {
     "name": "stdout",
     "output_type": "stream",
     "text": [
      "Epoch: 145, Average Loss: 0.3720\n",
      "Validation: {'precision': 0.3626833731655864, 'recall': 0.25599675772684183, 'f1': 0.28855995821776076, 'auc': 0.7203826553346322, 'prauc': 0.4218537983069223}\n",
      "Test:       {'precision': 0.388689461683323, 'recall': 0.2548388141798452, 'f1': 0.2879023548021439, 'auc': 0.7237961611282165, 'prauc': 0.4131651694160017}\n"
     ]
    },
    {
     "name": "stderr",
     "output_type": "stream",
     "text": [
      "Training Batches: 100%|██████████| 1/1 [00:06<00:00,  6.60s/it]\n",
      "Running inference: 100%|██████████| 1/1 [00:06<00:00,  6.10s/it]\n",
      "Running inference: 100%|██████████| 1/1 [00:06<00:00,  6.49s/it]\n"
     ]
    },
    {
     "name": "stdout",
     "output_type": "stream",
     "text": [
      "Epoch: 146, Average Loss: 0.3725\n",
      "Validation: {'precision': 0.36177431896841666, 'recall': 0.25650764743773746, 'f1': 0.2890025862363348, 'auc': 0.7210217661159564, 'prauc': 0.422026412684141}\n",
      "Test:       {'precision': 0.3880600221239878, 'recall': 0.25619158538095, 'f1': 0.2890372792136524, 'auc': 0.7245340378745175, 'prauc': 0.41352211836357566}\n"
     ]
    },
    {
     "name": "stderr",
     "output_type": "stream",
     "text": [
      "Training Batches: 100%|██████████| 1/1 [00:06<00:00,  6.65s/it]\n",
      "Running inference: 100%|██████████| 1/1 [00:06<00:00,  6.37s/it]\n",
      "Running inference: 100%|██████████| 1/1 [00:06<00:00,  6.68s/it]\n"
     ]
    },
    {
     "name": "stdout",
     "output_type": "stream",
     "text": [
      "Epoch: 147, Average Loss: 0.3708\n",
      "Validation: {'precision': 0.3634650258009213, 'recall': 0.26010735661078194, 'f1': 0.29261870069936213, 'auc': 0.722428842191176, 'prauc': 0.422573238588058}\n",
      "Test:       {'precision': 0.3876009605495836, 'recall': 0.25922560048607574, 'f1': 0.29120584813207473, 'auc': 0.7255942880793602, 'prauc': 0.4142984069896984}\n"
     ]
    },
    {
     "name": "stderr",
     "output_type": "stream",
     "text": [
      "Training Batches: 100%|██████████| 1/1 [00:06<00:00,  6.81s/it]\n",
      "Running inference: 100%|██████████| 1/1 [00:06<00:00,  6.19s/it]\n",
      "Running inference: 100%|██████████| 1/1 [00:06<00:00,  6.70s/it]\n"
     ]
    },
    {
     "name": "stdout",
     "output_type": "stream",
     "text": [
      "Epoch: 148, Average Loss: 0.3718\n",
      "Validation: {'precision': 0.36440324633904825, 'recall': 0.2652434849015854, 'f1': 0.2965425971067997, 'auc': 0.7253292139593481, 'prauc': 0.4235632627799637}\n",
      "Test:       {'precision': 0.3849946503321562, 'recall': 0.2635848590466898, 'f1': 0.29327651716800585, 'auc': 0.7279972465108325, 'prauc': 0.4148348931848043}\n"
     ]
    },
    {
     "name": "stderr",
     "output_type": "stream",
     "text": [
      "Training Batches: 100%|██████████| 1/1 [00:07<00:00,  7.12s/it]\n",
      "Running inference: 100%|██████████| 1/1 [00:06<00:00,  6.80s/it]\n",
      "Running inference: 100%|██████████| 1/1 [00:07<00:00,  7.35s/it]\n"
     ]
    },
    {
     "name": "stdout",
     "output_type": "stream",
     "text": [
      "Epoch: 149, Average Loss: 0.3709\n",
      "Validation: {'precision': 0.36642349210288505, 'recall': 0.2699262722859564, 'f1': 0.2995579717301909, 'auc': 0.7271868908858328, 'prauc': 0.4238509071347779}\n",
      "Test:       {'precision': 0.38946147488576227, 'recall': 0.2650639368009483, 'f1': 0.29386574365583606, 'auc': 0.7292088931083033, 'prauc': 0.4149669018524174}\n"
     ]
    },
    {
     "name": "stderr",
     "output_type": "stream",
     "text": [
      "Training Batches: 100%|██████████| 1/1 [00:06<00:00,  6.55s/it]\n",
      "Running inference: 100%|██████████| 1/1 [00:06<00:00,  6.61s/it]\n",
      "Running inference: 100%|██████████| 1/1 [00:06<00:00,  6.35s/it]\n"
     ]
    },
    {
     "name": "stdout",
     "output_type": "stream",
     "text": [
      "Epoch: 150, Average Loss: 0.3685\n",
      "Validation: {'precision': 0.36660117647290463, 'recall': 0.2712452182944161, 'f1': 0.300713308766752, 'auc': 0.7285046443558123, 'prauc': 0.4241424390727063}\n",
      "Test:       {'precision': 0.38771310330370584, 'recall': 0.26505640099769034, 'f1': 0.2935967237919439, 'auc': 0.730162616457894, 'prauc': 0.41498325127366725}\n"
     ]
    },
    {
     "name": "stderr",
     "output_type": "stream",
     "text": [
      "Training Batches: 100%|██████████| 1/1 [00:07<00:00,  7.10s/it]\n",
      "Running inference: 100%|██████████| 1/1 [00:06<00:00,  6.34s/it]\n",
      "Running inference: 100%|██████████| 1/1 [00:06<00:00,  6.73s/it]\n"
     ]
    },
    {
     "name": "stdout",
     "output_type": "stream",
     "text": [
      "Epoch: 151, Average Loss: 0.3693\n",
      "Validation: {'precision': 0.39744877013081215, 'recall': 0.27148798222868287, 'f1': 0.30276671837471536, 'auc': 0.7295072885672513, 'prauc': 0.42411428897591685}\n",
      "Test:       {'precision': 0.3903334642472682, 'recall': 0.2636992358728162, 'f1': 0.29435015176434676, 'auc': 0.7306871989347228, 'prauc': 0.41438346160942907}\n"
     ]
    },
    {
     "name": "stderr",
     "output_type": "stream",
     "text": [
      "Training Batches: 100%|██████████| 1/1 [00:06<00:00,  6.85s/it]\n",
      "Running inference: 100%|██████████| 1/1 [00:06<00:00,  6.35s/it]\n",
      "Running inference: 100%|██████████| 1/1 [00:06<00:00,  6.98s/it]\n"
     ]
    },
    {
     "name": "stdout",
     "output_type": "stream",
     "text": [
      "Epoch: 152, Average Loss: 0.3684\n",
      "Validation: {'precision': 0.40955842074798066, 'recall': 0.2703801373221344, 'f1': 0.3032070609739779, 'auc': 0.7303379305691012, 'prauc': 0.42429277712099245}\n",
      "Test:       {'precision': 0.3932994646786044, 'recall': 0.2619280648208154, 'f1': 0.2948096937591982, 'auc': 0.7315153176464284, 'prauc': 0.4149750179387962}\n"
     ]
    },
    {
     "name": "stderr",
     "output_type": "stream",
     "text": [
      "Training Batches: 100%|██████████| 1/1 [00:06<00:00,  6.90s/it]\n",
      "Running inference: 100%|██████████| 1/1 [00:06<00:00,  6.54s/it]\n",
      "Running inference: 100%|██████████| 1/1 [00:06<00:00,  6.84s/it]\n"
     ]
    },
    {
     "name": "stdout",
     "output_type": "stream",
     "text": [
      "Epoch: 153, Average Loss: 0.3665\n",
      "Validation: {'precision': 0.41518115648455445, 'recall': 0.26995927944059567, 'f1': 0.303389067692993, 'auc': 0.7307126406896375, 'prauc': 0.42435526409218594}\n",
      "Test:       {'precision': 0.39439560705854304, 'recall': 0.26195364220582096, 'f1': 0.2954403864166363, 'auc': 0.7319485930066462, 'prauc': 0.4155848961986626}\n"
     ]
    },
    {
     "name": "stderr",
     "output_type": "stream",
     "text": [
      "Training Batches: 100%|██████████| 1/1 [00:06<00:00,  6.93s/it]\n",
      "Running inference: 100%|██████████| 1/1 [00:06<00:00,  6.56s/it]\n",
      "Running inference: 100%|██████████| 1/1 [00:06<00:00,  6.39s/it]\n"
     ]
    },
    {
     "name": "stdout",
     "output_type": "stream",
     "text": [
      "Epoch: 154, Average Loss: 0.3666\n",
      "Validation: {'precision': 0.4174070434534699, 'recall': 0.2709591778636495, 'f1': 0.3053452399338926, 'auc': 0.7309517602953597, 'prauc': 0.42497338880729707}\n",
      "Test:       {'precision': 0.3965253432542194, 'recall': 0.2634197915368877, 'f1': 0.2976837852809369, 'auc': 0.732805061161275, 'prauc': 0.4168278323056512}\n"
     ]
    },
    {
     "name": "stderr",
     "output_type": "stream",
     "text": [
      "Training Batches: 100%|██████████| 1/1 [00:06<00:00,  6.77s/it]\n",
      "Running inference: 100%|██████████| 1/1 [00:06<00:00,  6.07s/it]\n",
      "Running inference: 100%|██████████| 1/1 [00:07<00:00,  7.04s/it]\n"
     ]
    },
    {
     "name": "stdout",
     "output_type": "stream",
     "text": [
      "Epoch: 155, Average Loss: 0.3665\n",
      "Validation: {'precision': 0.41207388242364096, 'recall': 0.2726923091866016, 'f1': 0.3065661795527721, 'auc': 0.7300518914058283, 'prauc': 0.42615807096970215}\n",
      "Test:       {'precision': 0.3966058806590654, 'recall': 0.26476580322511933, 'f1': 0.2991296265550438, 'auc': 0.7338480771257087, 'prauc': 0.4183739707678632}\n"
     ]
    },
    {
     "name": "stderr",
     "output_type": "stream",
     "text": [
      "Training Batches: 100%|██████████| 1/1 [00:06<00:00,  6.78s/it]\n",
      "Running inference: 100%|██████████| 1/1 [00:06<00:00,  6.71s/it]\n",
      "Running inference: 100%|██████████| 1/1 [00:06<00:00,  6.88s/it]\n"
     ]
    },
    {
     "name": "stdout",
     "output_type": "stream",
     "text": [
      "Epoch: 156, Average Loss: 0.3667\n",
      "Validation: {'precision': 0.3915891135855618, 'recall': 0.2754109530839311, 'f1': 0.3077633927831908, 'auc': 0.7286548914682751, 'prauc': 0.4266638871950362}\n",
      "Test:       {'precision': 0.3974893213012993, 'recall': 0.2700697354228161, 'f1': 0.30242508906770227, 'auc': 0.7348919000292808, 'prauc': 0.4196422237843376}\n"
     ]
    },
    {
     "name": "stderr",
     "output_type": "stream",
     "text": [
      "Training Batches: 100%|██████████| 1/1 [00:06<00:00,  6.69s/it]\n",
      "Running inference: 100%|██████████| 1/1 [00:06<00:00,  6.33s/it]\n",
      "Running inference: 100%|██████████| 1/1 [00:06<00:00,  6.03s/it]\n"
     ]
    },
    {
     "name": "stdout",
     "output_type": "stream",
     "text": [
      "Epoch: 157, Average Loss: 0.3666\n",
      "Validation: {'precision': 0.3719478572856012, 'recall': 0.2747324291824773, 'f1': 0.30680805051181204, 'auc': 0.727193980477554, 'prauc': 0.4267723151533696}\n",
      "Test:       {'precision': 0.39767090287878515, 'recall': 0.2704750918031152, 'f1': 0.3025080805465196, 'auc': 0.7346771663462276, 'prauc': 0.4200762091870176}\n"
     ]
    },
    {
     "name": "stderr",
     "output_type": "stream",
     "text": [
      "Training Batches: 100%|██████████| 1/1 [00:06<00:00,  6.91s/it]\n",
      "Running inference: 100%|██████████| 1/1 [00:06<00:00,  6.29s/it]\n",
      "Running inference: 100%|██████████| 1/1 [00:06<00:00,  6.72s/it]\n"
     ]
    },
    {
     "name": "stdout",
     "output_type": "stream",
     "text": [
      "Epoch: 158, Average Loss: 0.3665\n",
      "Validation: {'precision': 0.37178146351694336, 'recall': 0.279597265748077, 'f1': 0.3101907763688372, 'auc': 0.7274718096984665, 'prauc': 0.428195022681514}\n",
      "Test:       {'precision': 0.402076890452211, 'recall': 0.2741818976585323, 'f1': 0.3039102492539053, 'auc': 0.7340634471872141, 'prauc': 0.41989643573568997}\n"
     ]
    },
    {
     "name": "stderr",
     "output_type": "stream",
     "text": [
      "Training Batches: 100%|██████████| 1/1 [00:06<00:00,  6.80s/it]\n",
      "Running inference: 100%|██████████| 1/1 [00:06<00:00,  6.44s/it]\n",
      "Running inference: 100%|██████████| 1/1 [00:06<00:00,  6.65s/it]\n"
     ]
    },
    {
     "name": "stdout",
     "output_type": "stream",
     "text": [
      "Epoch: 159, Average Loss: 0.3648\n",
      "Validation: {'precision': 0.37135092919980167, 'recall': 0.28248853456954837, 'f1': 0.3122266522397667, 'auc': 0.7277688326726546, 'prauc': 0.4288366732263942}\n",
      "Test:       {'precision': 0.4040323969278054, 'recall': 0.2791095983392634, 'f1': 0.30775230675241094, 'auc': 0.733657059668537, 'prauc': 0.4196189000431371}\n"
     ]
    },
    {
     "name": "stderr",
     "output_type": "stream",
     "text": [
      "Training Batches: 100%|██████████| 1/1 [00:06<00:00,  6.86s/it]\n",
      "Running inference: 100%|██████████| 1/1 [00:06<00:00,  6.38s/it]\n",
      "Running inference: 100%|██████████| 1/1 [00:06<00:00,  6.84s/it]\n"
     ]
    },
    {
     "name": "stdout",
     "output_type": "stream",
     "text": [
      "Epoch: 160, Average Loss: 0.3666\n",
      "Validation: {'precision': 0.392845486744117, 'recall': 0.2827447046166636, 'f1': 0.3136510688527392, 'auc': 0.727690399001881, 'prauc': 0.4296253297698507}\n",
      "Test:       {'precision': 0.4097444357345433, 'recall': 0.28035653962352153, 'f1': 0.3097707666196945, 'auc': 0.7338898704471365, 'prauc': 0.42041858153835676}\n"
     ]
    },
    {
     "name": "stderr",
     "output_type": "stream",
     "text": [
      "Training Batches: 100%|██████████| 1/1 [00:06<00:00,  6.57s/it]\n",
      "Running inference: 100%|██████████| 1/1 [00:06<00:00,  6.21s/it]\n",
      "Running inference: 100%|██████████| 1/1 [00:06<00:00,  6.29s/it]\n"
     ]
    },
    {
     "name": "stdout",
     "output_type": "stream",
     "text": [
      "Epoch: 161, Average Loss: 0.3647\n",
      "Validation: {'precision': 0.37380543651837567, 'recall': 0.2827645795481067, 'f1': 0.31218448286555583, 'auc': 0.7292556404748701, 'prauc': 0.4289634125078157}\n",
      "Test:       {'precision': 0.40445643665736886, 'recall': 0.27947967679188923, 'f1': 0.30762279304664353, 'auc': 0.7340964788311801, 'prauc': 0.4205516186499858}\n"
     ]
    },
    {
     "name": "stderr",
     "output_type": "stream",
     "text": [
      "Training Batches: 100%|██████████| 1/1 [00:06<00:00,  6.96s/it]\n",
      "Running inference: 100%|██████████| 1/1 [00:06<00:00,  6.36s/it]\n",
      "Running inference: 100%|██████████| 1/1 [00:06<00:00,  6.69s/it]\n"
     ]
    },
    {
     "name": "stdout",
     "output_type": "stream",
     "text": [
      "Epoch: 162, Average Loss: 0.3656\n",
      "Validation: {'precision': 0.37585680559243023, 'recall': 0.2801769221092273, 'f1': 0.3108968603231135, 'auc': 0.7295945466517983, 'prauc': 0.42952090245412644}\n",
      "Test:       {'precision': 0.4054597642900007, 'recall': 0.27824034100991263, 'f1': 0.3069445818439748, 'auc': 0.7348841289709228, 'prauc': 0.4213088302007535}\n"
     ]
    },
    {
     "name": "stderr",
     "output_type": "stream",
     "text": [
      "Training Batches: 100%|██████████| 1/1 [00:06<00:00,  6.68s/it]\n",
      "Running inference: 100%|██████████| 1/1 [00:06<00:00,  6.73s/it]\n",
      "Running inference: 100%|██████████| 1/1 [00:07<00:00,  7.16s/it]\n"
     ]
    },
    {
     "name": "stdout",
     "output_type": "stream",
     "text": [
      "Epoch: 163, Average Loss: 0.3672\n",
      "Validation: {'precision': 0.37482362222001564, 'recall': 0.27761179957373816, 'f1': 0.30841787494981454, 'auc': 0.7305308865940721, 'prauc': 0.4299586442259472}\n",
      "Test:       {'precision': 0.405163000964185, 'recall': 0.27357046949664765, 'f1': 0.30271396476593865, 'auc': 0.7363322974598056, 'prauc': 0.4223382969775884}\n"
     ]
    },
    {
     "name": "stderr",
     "output_type": "stream",
     "text": [
      "Training Batches: 100%|██████████| 1/1 [00:06<00:00,  6.54s/it]\n",
      "Running inference: 100%|██████████| 1/1 [00:06<00:00,  6.24s/it]\n",
      "Running inference: 100%|██████████| 1/1 [00:06<00:00,  6.31s/it]\n"
     ]
    },
    {
     "name": "stdout",
     "output_type": "stream",
     "text": [
      "Epoch: 164, Average Loss: 0.3632\n",
      "Validation: {'precision': 0.37448205856141686, 'recall': 0.27483252012153775, 'f1': 0.3061944467363655, 'auc': 0.7307951980213229, 'prauc': 0.4295496593516864}\n",
      "Test:       {'precision': 0.4046665542343368, 'recall': 0.2693268201130792, 'f1': 0.3001585498964061, 'auc': 0.737692204652165, 'prauc': 0.42273535659894973}\n"
     ]
    },
    {
     "name": "stderr",
     "output_type": "stream",
     "text": [
      "Training Batches: 100%|██████████| 1/1 [00:06<00:00,  6.96s/it]\n",
      "Running inference: 100%|██████████| 1/1 [00:06<00:00,  6.05s/it]\n",
      "Running inference: 100%|██████████| 1/1 [00:06<00:00,  6.89s/it]\n"
     ]
    },
    {
     "name": "stdout",
     "output_type": "stream",
     "text": [
      "Epoch: 165, Average Loss: 0.3647\n",
      "Validation: {'precision': 0.38985660503080943, 'recall': 0.27052520724231294, 'f1': 0.30294330504250594, 'auc': 0.7305672708459223, 'prauc': 0.42949734807703127}\n",
      "Test:       {'precision': 0.40685770042428077, 'recall': 0.26871531374460866, 'f1': 0.3005165251020992, 'auc': 0.7388414032869807, 'prauc': 0.4231310224197128}\n"
     ]
    },
    {
     "name": "stderr",
     "output_type": "stream",
     "text": [
      "Training Batches: 100%|██████████| 1/1 [00:06<00:00,  6.40s/it]\n",
      "Running inference: 100%|██████████| 1/1 [00:06<00:00,  6.32s/it]\n",
      "Running inference: 100%|██████████| 1/1 [00:07<00:00,  7.22s/it]\n"
     ]
    },
    {
     "name": "stdout",
     "output_type": "stream",
     "text": [
      "Epoch: 166, Average Loss: 0.3644\n",
      "Validation: {'precision': 0.3971296457067993, 'recall': 0.27371620940902797, 'f1': 0.3068657178991032, 'auc': 0.7309998399087303, 'prauc': 0.42960814003636816}\n",
      "Test:       {'precision': 0.39614229149147556, 'recall': 0.2710193390089243, 'f1': 0.303483109254284, 'auc': 0.7400800393646966, 'prauc': 0.4236449984734547}\n"
     ]
    },
    {
     "name": "stderr",
     "output_type": "stream",
     "text": [
      "Training Batches: 100%|██████████| 1/1 [00:06<00:00,  6.57s/it]\n",
      "Running inference: 100%|██████████| 1/1 [00:06<00:00,  6.46s/it]\n",
      "Running inference: 100%|██████████| 1/1 [00:06<00:00,  6.93s/it]\n"
     ]
    },
    {
     "name": "stdout",
     "output_type": "stream",
     "text": [
      "Epoch: 167, Average Loss: 0.3622\n",
      "Validation: {'precision': 0.40445346554875544, 'recall': 0.2746171825584646, 'f1': 0.3091422974070267, 'auc': 0.7308603867676733, 'prauc': 0.4299852299879529}\n",
      "Test:       {'precision': 0.397178184782619, 'recall': 0.2724083183971996, 'f1': 0.3055074962063753, 'auc': 0.740886050278424, 'prauc': 0.42423214748334837}\n"
     ]
    },
    {
     "name": "stderr",
     "output_type": "stream",
     "text": [
      "Training Batches: 100%|██████████| 1/1 [00:06<00:00,  6.31s/it]\n",
      "Running inference: 100%|██████████| 1/1 [00:06<00:00,  6.41s/it]\n",
      "Running inference: 100%|██████████| 1/1 [00:06<00:00,  6.10s/it]\n"
     ]
    },
    {
     "name": "stdout",
     "output_type": "stream",
     "text": [
      "Epoch: 168, Average Loss: 0.3620\n",
      "Validation: {'precision': 0.39954365802941283, 'recall': 0.27829788895628843, 'f1': 0.3125175011616501, 'auc': 0.7312386609835645, 'prauc': 0.4312027384860866}\n",
      "Test:       {'precision': 0.3990646472194751, 'recall': 0.27604414760138773, 'f1': 0.31004459062892875, 'auc': 0.7416464194303124, 'prauc': 0.4241069033517861}\n"
     ]
    },
    {
     "name": "stderr",
     "output_type": "stream",
     "text": [
      "Training Batches: 100%|██████████| 1/1 [00:06<00:00,  6.91s/it]\n",
      "Running inference: 100%|██████████| 1/1 [00:06<00:00,  6.33s/it]\n",
      "Running inference: 100%|██████████| 1/1 [00:06<00:00,  6.74s/it]\n"
     ]
    },
    {
     "name": "stdout",
     "output_type": "stream",
     "text": [
      "Epoch: 169, Average Loss: 0.3603\n",
      "Validation: {'precision': 0.4002923227069173, 'recall': 0.2805999233641014, 'f1': 0.3155984086351596, 'auc': 0.7316953260176828, 'prauc': 0.4305405292460782}\n",
      "Test:       {'precision': 0.4513176699064908, 'recall': 0.27933934348002903, 'f1': 0.31379120404068844, 'auc': 0.7417165911390868, 'prauc': 0.4231918428876794}\n"
     ]
    },
    {
     "name": "stderr",
     "output_type": "stream",
     "text": [
      "Training Batches: 100%|██████████| 1/1 [00:06<00:00,  6.89s/it]\n",
      "Running inference: 100%|██████████| 1/1 [00:06<00:00,  6.55s/it]\n",
      "Running inference: 100%|██████████| 1/1 [00:07<00:00,  7.11s/it]\n"
     ]
    },
    {
     "name": "stdout",
     "output_type": "stream",
     "text": [
      "Epoch: 170, Average Loss: 0.3607\n",
      "Validation: {'precision': 0.4014209359831386, 'recall': 0.2863121075800723, 'f1': 0.3204417969197038, 'auc': 0.7316997944327868, 'prauc': 0.4302559453365794}\n",
      "Test:       {'precision': 0.4499933472219686, 'recall': 0.2811487297987191, 'f1': 0.3153423133142472, 'auc': 0.74125714762548, 'prauc': 0.42247220330432433}\n"
     ]
    },
    {
     "name": "stderr",
     "output_type": "stream",
     "text": [
      "Training Batches: 100%|██████████| 1/1 [00:06<00:00,  6.81s/it]\n",
      "Running inference: 100%|██████████| 1/1 [00:06<00:00,  6.10s/it]\n",
      "Running inference: 100%|██████████| 1/1 [00:06<00:00,  6.32s/it]\n"
     ]
    },
    {
     "name": "stdout",
     "output_type": "stream",
     "text": [
      "Epoch: 171, Average Loss: 0.3617\n",
      "Validation: {'precision': 0.4028226353332425, 'recall': 0.29145174118075223, 'f1': 0.3247223848425811, 'auc': 0.7332104806446104, 'prauc': 0.43167038954199033}\n",
      "Test:       {'precision': 0.4482044877395125, 'recall': 0.2850010621105834, 'f1': 0.3182499088293617, 'auc': 0.7419689547817243, 'prauc': 0.4230058891550772}\n"
     ]
    },
    {
     "name": "stderr",
     "output_type": "stream",
     "text": [
      "Training Batches: 100%|██████████| 1/1 [00:06<00:00,  6.74s/it]\n",
      "Running inference: 100%|██████████| 1/1 [00:06<00:00,  6.56s/it]\n",
      "Running inference: 100%|██████████| 1/1 [00:07<00:00,  7.12s/it]\n"
     ]
    },
    {
     "name": "stdout",
     "output_type": "stream",
     "text": [
      "Epoch: 172, Average Loss: 0.3604\n",
      "Validation: {'precision': 0.403749877167972, 'recall': 0.2886648688908055, 'f1': 0.3230069315764555, 'auc': 0.7345317827695401, 'prauc': 0.43426247844300375}\n",
      "Test:       {'precision': 0.4279893257548638, 'recall': 0.28593945829358836, 'f1': 0.3192439260898198, 'auc': 0.7432420086412195, 'prauc': 0.4256755821034276}\n"
     ]
    },
    {
     "name": "stderr",
     "output_type": "stream",
     "text": [
      "Training Batches: 100%|██████████| 1/1 [00:06<00:00,  6.47s/it]\n",
      "Running inference: 100%|██████████| 1/1 [00:06<00:00,  6.33s/it]\n",
      "Running inference: 100%|██████████| 1/1 [00:06<00:00,  6.93s/it]\n"
     ]
    },
    {
     "name": "stdout",
     "output_type": "stream",
     "text": [
      "Epoch: 173, Average Loss: 0.3600\n",
      "Validation: {'precision': 0.40479672122484545, 'recall': 0.2877826022166432, 'f1': 0.32210252603520123, 'auc': 0.7359837398170205, 'prauc': 0.4343703844145472}\n",
      "Test:       {'precision': 0.42615248301915176, 'recall': 0.28433569953420956, 'f1': 0.31740235600837113, 'auc': 0.7442067746373477, 'prauc': 0.42724519417943824}\n"
     ]
    },
    {
     "name": "stderr",
     "output_type": "stream",
     "text": [
      "Training Batches: 100%|██████████| 1/1 [00:06<00:00,  6.45s/it]\n",
      "Running inference: 100%|██████████| 1/1 [00:06<00:00,  6.32s/it]\n",
      "Running inference: 100%|██████████| 1/1 [00:06<00:00,  6.99s/it]\n"
     ]
    },
    {
     "name": "stdout",
     "output_type": "stream",
     "text": [
      "Epoch: 174, Average Loss: 0.3590\n",
      "Validation: {'precision': 0.4052251596045032, 'recall': 0.2892042208334823, 'f1': 0.3221725684211951, 'auc': 0.7364341236181775, 'prauc': 0.43487951818427373}\n",
      "Test:       {'precision': 0.4242383009827516, 'recall': 0.2840759896000897, 'f1': 0.3152106146204039, 'auc': 0.7447832718511568, 'prauc': 0.4280222214157908}\n"
     ]
    },
    {
     "name": "stderr",
     "output_type": "stream",
     "text": [
      "Training Batches: 100%|██████████| 1/1 [00:06<00:00,  6.72s/it]\n",
      "Running inference: 100%|██████████| 1/1 [00:06<00:00,  6.24s/it]\n",
      "Running inference: 100%|██████████| 1/1 [00:06<00:00,  6.32s/it]\n"
     ]
    },
    {
     "name": "stdout",
     "output_type": "stream",
     "text": [
      "Epoch: 175, Average Loss: 0.3586\n",
      "Validation: {'precision': 0.4051319017934897, 'recall': 0.28799666394977863, 'f1': 0.320160164420576, 'auc': 0.7362493522915242, 'prauc': 0.43473712417473254}\n",
      "Test:       {'precision': 0.42824255949130785, 'recall': 0.2829469079090771, 'f1': 0.3124423989246216, 'auc': 0.7448776945465118, 'prauc': 0.4284043529362433}\n"
     ]
    },
    {
     "name": "stderr",
     "output_type": "stream",
     "text": [
      "Training Batches: 100%|██████████| 1/1 [00:06<00:00,  6.86s/it]\n",
      "Running inference: 100%|██████████| 1/1 [00:06<00:00,  6.25s/it]\n",
      "Running inference: 100%|██████████| 1/1 [00:06<00:00,  6.53s/it]\n"
     ]
    },
    {
     "name": "stdout",
     "output_type": "stream",
     "text": [
      "Epoch: 176, Average Loss: 0.3580\n",
      "Validation: {'precision': 0.4068349677956316, 'recall': 0.2910267792223621, 'f1': 0.3222824205799767, 'auc': 0.7363206836579426, 'prauc': 0.4346012971256741}\n",
      "Test:       {'precision': 0.4240057233194343, 'recall': 0.2830102856793391, 'f1': 0.3113468613628391, 'auc': 0.7446682216559972, 'prauc': 0.42813193287490303}\n"
     ]
    },
    {
     "name": "stderr",
     "output_type": "stream",
     "text": [
      "Training Batches: 100%|██████████| 1/1 [00:06<00:00,  6.91s/it]\n",
      "Running inference: 100%|██████████| 1/1 [00:06<00:00,  6.61s/it]\n",
      "Running inference: 100%|██████████| 1/1 [00:07<00:00,  7.42s/it]\n"
     ]
    },
    {
     "name": "stdout",
     "output_type": "stream",
     "text": [
      "Epoch: 177, Average Loss: 0.3579\n",
      "Validation: {'precision': 0.4069210940204537, 'recall': 0.29518722608712467, 'f1': 0.3254268088703271, 'auc': 0.7358977838999103, 'prauc': 0.4341769302567283}\n",
      "Test:       {'precision': 0.42770051135228715, 'recall': 0.28664547499484516, 'f1': 0.3140485501757638, 'auc': 0.7443991926500424, 'prauc': 0.4272975409366276}\n"
     ]
    },
    {
     "name": "stderr",
     "output_type": "stream",
     "text": [
      "Training Batches: 100%|██████████| 1/1 [00:06<00:00,  6.44s/it]\n",
      "Running inference: 100%|██████████| 1/1 [00:06<00:00,  6.38s/it]\n",
      "Running inference: 100%|██████████| 1/1 [00:06<00:00,  6.59s/it]\n"
     ]
    },
    {
     "name": "stdout",
     "output_type": "stream",
     "text": [
      "Epoch: 178, Average Loss: 0.3572\n",
      "Validation: {'precision': 0.40691972746133026, 'recall': 0.2970674439070747, 'f1': 0.32686670284419966, 'auc': 0.7353588674360473, 'prauc': 0.43367946852264505}\n",
      "Test:       {'precision': 0.4309038124893636, 'recall': 0.2899125555253564, 'f1': 0.3174898177617098, 'auc': 0.7446750222632621, 'prauc': 0.42672801961442824}\n"
     ]
    },
    {
     "name": "stderr",
     "output_type": "stream",
     "text": [
      "Training Batches: 100%|██████████| 1/1 [00:06<00:00,  6.85s/it]\n",
      "Running inference: 100%|██████████| 1/1 [00:06<00:00,  6.68s/it]\n",
      "Running inference: 100%|██████████| 1/1 [00:06<00:00,  6.72s/it]\n"
     ]
    },
    {
     "name": "stdout",
     "output_type": "stream",
     "text": [
      "Epoch: 179, Average Loss: 0.3598\n",
      "Validation: {'precision': 0.4245214299432331, 'recall': 0.29746428985371415, 'f1': 0.3287459710400552, 'auc': 0.7356004965414916, 'prauc': 0.43497416279067047}\n",
      "Test:       {'precision': 0.42769185757452727, 'recall': 0.28987364914205543, 'f1': 0.3190554232604731, 'auc': 0.7454787921227591, 'prauc': 0.4275272142493109}\n"
     ]
    },
    {
     "name": "stderr",
     "output_type": "stream",
     "text": [
      "Training Batches: 100%|██████████| 1/1 [00:06<00:00,  6.71s/it]\n",
      "Running inference: 100%|██████████| 1/1 [00:06<00:00,  6.58s/it]\n",
      "Running inference: 100%|██████████| 1/1 [00:06<00:00,  6.78s/it]\n"
     ]
    },
    {
     "name": "stdout",
     "output_type": "stream",
     "text": [
      "Epoch: 180, Average Loss: 0.3554\n",
      "Validation: {'precision': 0.42544169510400165, 'recall': 0.29644561314665263, 'f1': 0.3297958305613212, 'auc': 0.7352735120483883, 'prauc': 0.4367683561323355}\n",
      "Test:       {'precision': 0.4325581676149632, 'recall': 0.29208683811416164, 'f1': 0.32347778607768846, 'auc': 0.7454251558636622, 'prauc': 0.428510097390041}\n"
     ]
    },
    {
     "name": "stderr",
     "output_type": "stream",
     "text": [
      "Training Batches: 100%|██████████| 1/1 [00:06<00:00,  6.89s/it]\n",
      "Running inference: 100%|██████████| 1/1 [00:06<00:00,  6.18s/it]\n",
      "Running inference: 100%|██████████| 1/1 [00:07<00:00,  7.07s/it]\n"
     ]
    },
    {
     "name": "stdout",
     "output_type": "stream",
     "text": [
      "Epoch: 181, Average Loss: 0.3557\n",
      "Validation: {'precision': 0.4249495491276377, 'recall': 0.29375411523998296, 'f1': 0.32751947504981715, 'auc': 0.7340516062320785, 'prauc': 0.43729053488000674}\n",
      "Test:       {'precision': 0.43943297470390563, 'recall': 0.2926258671145566, 'f1': 0.3262984908147413, 'auc': 0.7442013090350681, 'prauc': 0.4283755028679358}\n"
     ]
    },
    {
     "name": "stderr",
     "output_type": "stream",
     "text": [
      "Training Batches: 100%|██████████| 1/1 [00:06<00:00,  6.66s/it]\n",
      "Running inference: 100%|██████████| 1/1 [00:06<00:00,  6.23s/it]\n",
      "Running inference: 100%|██████████| 1/1 [00:06<00:00,  6.49s/it]\n"
     ]
    },
    {
     "name": "stdout",
     "output_type": "stream",
     "text": [
      "Epoch: 182, Average Loss: 0.3556\n",
      "Validation: {'precision': 0.431445696740792, 'recall': 0.29485653043624865, 'f1': 0.3286944122257755, 'auc': 0.7334540428175385, 'prauc': 0.4375664763167015}\n",
      "Test:       {'precision': 0.44156384975011315, 'recall': 0.29480582880295486, 'f1': 0.3283404240319267, 'auc': 0.7432896146635409, 'prauc': 0.4274890606937454}\n"
     ]
    },
    {
     "name": "stderr",
     "output_type": "stream",
     "text": [
      "Training Batches: 100%|██████████| 1/1 [00:07<00:00,  7.21s/it]\n",
      "Running inference: 100%|██████████| 1/1 [00:06<00:00,  6.11s/it]\n",
      "Running inference: 100%|██████████| 1/1 [00:06<00:00,  6.72s/it]\n"
     ]
    },
    {
     "name": "stdout",
     "output_type": "stream",
     "text": [
      "Epoch: 183, Average Loss: 0.3558\n",
      "Validation: {'precision': 0.4305931938205614, 'recall': 0.29532911735015954, 'f1': 0.3293251601993098, 'auc': 0.7336966036039194, 'prauc': 0.4382571222025838}\n",
      "Test:       {'precision': 0.44531070448312143, 'recall': 0.294861342529992, 'f1': 0.32833903146140075, 'auc': 0.7431809624234059, 'prauc': 0.42818073394911255}\n"
     ]
    },
    {
     "name": "stderr",
     "output_type": "stream",
     "text": [
      "Training Batches: 100%|██████████| 1/1 [00:07<00:00,  7.09s/it]\n",
      "Running inference: 100%|██████████| 1/1 [00:06<00:00,  6.70s/it]\n",
      "Running inference: 100%|██████████| 1/1 [00:07<00:00,  7.35s/it]\n"
     ]
    },
    {
     "name": "stdout",
     "output_type": "stream",
     "text": [
      "Epoch: 184, Average Loss: 0.3594\n",
      "Validation: {'precision': 0.4228310033357099, 'recall': 0.30139114824321217, 'f1': 0.33330450633184855, 'auc': 0.7357777957543581, 'prauc': 0.43753452605665305}\n",
      "Test:       {'precision': 0.43996250917605156, 'recall': 0.29928625873085524, 'f1': 0.3292384266632742, 'auc': 0.7444986450301424, 'prauc': 0.4294218913529332}\n"
     ]
    },
    {
     "name": "stderr",
     "output_type": "stream",
     "text": [
      "Training Batches: 100%|██████████| 1/1 [00:06<00:00,  6.61s/it]\n",
      "Running inference: 100%|██████████| 1/1 [00:06<00:00,  6.26s/it]\n",
      "Running inference: 100%|██████████| 1/1 [00:06<00:00,  6.52s/it]\n"
     ]
    },
    {
     "name": "stdout",
     "output_type": "stream",
     "text": [
      "Epoch: 185, Average Loss: 0.3563\n",
      "Validation: {'precision': 0.4274700926780712, 'recall': 0.3058207647091039, 'f1': 0.33375016597932655, 'auc': 0.7361127575653277, 'prauc': 0.43617044407082317}\n",
      "Test:       {'precision': 0.44009652849265785, 'recall': 0.2993300951285763, 'f1': 0.32600234511068127, 'auc': 0.7439614896645667, 'prauc': 0.4284896349802938}\n"
     ]
    },
    {
     "name": "stderr",
     "output_type": "stream",
     "text": [
      "Training Batches: 100%|██████████| 1/1 [00:06<00:00,  6.89s/it]\n",
      "Running inference: 100%|██████████| 1/1 [00:06<00:00,  6.36s/it]\n",
      "Running inference: 100%|██████████| 1/1 [00:06<00:00,  6.82s/it]\n"
     ]
    },
    {
     "name": "stdout",
     "output_type": "stream",
     "text": [
      "Epoch: 186, Average Loss: 0.3551\n",
      "Validation: {'precision': 0.4284464912094959, 'recall': 0.30583207638400045, 'f1': 0.33136492093102, 'auc': 0.736101305965924, 'prauc': 0.43464006828138635}\n",
      "Test:       {'precision': 0.42637099487442004, 'recall': 0.2975422464278288, 'f1': 0.32092217668656486, 'auc': 0.7430758854331319, 'prauc': 0.4278321650235168}\n"
     ]
    },
    {
     "name": "stderr",
     "output_type": "stream",
     "text": [
      "Training Batches: 100%|██████████| 1/1 [00:06<00:00,  6.55s/it]\n",
      "Running inference: 100%|██████████| 1/1 [00:06<00:00,  6.48s/it]\n",
      "Running inference: 100%|██████████| 1/1 [00:06<00:00,  6.86s/it]\n"
     ]
    },
    {
     "name": "stdout",
     "output_type": "stream",
     "text": [
      "Epoch: 187, Average Loss: 0.3565\n",
      "Validation: {'precision': 0.4199290020744177, 'recall': 0.3002524781311341, 'f1': 0.3277103555044065, 'auc': 0.7364990202986921, 'prauc': 0.4356375397709211}\n",
      "Test:       {'precision': 0.42943614748299763, 'recall': 0.29584753083998616, 'f1': 0.3210015428830377, 'auc': 0.7435566685445947, 'prauc': 0.42894431301727487}\n"
     ]
    },
    {
     "name": "stderr",
     "output_type": "stream",
     "text": [
      "Training Batches: 100%|██████████| 1/1 [00:06<00:00,  6.64s/it]\n",
      "Running inference: 100%|██████████| 1/1 [00:06<00:00,  6.16s/it]\n",
      "Running inference: 100%|██████████| 1/1 [00:06<00:00,  6.53s/it]\n"
     ]
    },
    {
     "name": "stdout",
     "output_type": "stream",
     "text": [
      "Epoch: 188, Average Loss: 0.3547\n",
      "Validation: {'precision': 0.41970499049070586, 'recall': 0.29627477975793126, 'f1': 0.32554866024270024, 'auc': 0.736924748967573, 'prauc': 0.43618406536737986}\n",
      "Test:       {'precision': 0.4299428181718192, 'recall': 0.2935059280095649, 'f1': 0.3202317887812451, 'auc': 0.7442297115698299, 'prauc': 0.4301836152290537}\n"
     ]
    },
    {
     "name": "stderr",
     "output_type": "stream",
     "text": [
      "Training Batches: 100%|██████████| 1/1 [00:06<00:00,  6.43s/it]\n",
      "Running inference: 100%|██████████| 1/1 [00:06<00:00,  6.16s/it]\n",
      "Running inference: 100%|██████████| 1/1 [00:06<00:00,  6.37s/it]\n"
     ]
    },
    {
     "name": "stdout",
     "output_type": "stream",
     "text": [
      "Epoch: 189, Average Loss: 0.3575\n",
      "Validation: {'precision': 0.41952566312634304, 'recall': 0.2997766624802394, 'f1': 0.33057418474911415, 'auc': 0.7387273607282892, 'prauc': 0.4384606273465876}\n",
      "Test:       {'precision': 0.4361420782589955, 'recall': 0.2958358689301624, 'f1': 0.32450932981476627, 'auc': 0.7458783110012666, 'prauc': 0.4312693367321421}\n"
     ]
    },
    {
     "name": "stderr",
     "output_type": "stream",
     "text": [
      "Training Batches: 100%|██████████| 1/1 [00:06<00:00,  6.96s/it]\n",
      "Running inference: 100%|██████████| 1/1 [00:06<00:00,  6.51s/it]\n",
      "Running inference: 100%|██████████| 1/1 [00:06<00:00,  6.93s/it]\n"
     ]
    },
    {
     "name": "stdout",
     "output_type": "stream",
     "text": [
      "Epoch: 190, Average Loss: 0.3554\n",
      "Validation: {'precision': 0.42697750806318097, 'recall': 0.30623075247569764, 'f1': 0.3365671313771292, 'auc': 0.7405284198058041, 'prauc': 0.4396461221552499}\n",
      "Test:       {'precision': 0.43960276320810254, 'recall': 0.30192807268738847, 'f1': 0.32943918377457876, 'auc': 0.7478468099746366, 'prauc': 0.4317997908842423}\n"
     ]
    },
    {
     "name": "stderr",
     "output_type": "stream",
     "text": [
      "Training Batches: 100%|██████████| 1/1 [00:06<00:00,  6.89s/it]\n",
      "Running inference: 100%|██████████| 1/1 [00:06<00:00,  6.95s/it]\n",
      "Running inference: 100%|██████████| 1/1 [00:07<00:00,  7.24s/it]\n"
     ]
    },
    {
     "name": "stdout",
     "output_type": "stream",
     "text": [
      "Epoch: 191, Average Loss: 0.3537\n",
      "Validation: {'precision': 0.43200549232112295, 'recall': 0.3061249503833243, 'f1': 0.3383412684131299, 'auc': 0.7408931169314954, 'prauc': 0.4396848261934562}\n",
      "Test:       {'precision': 0.43057854725764966, 'recall': 0.30285513305530093, 'f1': 0.33236773530359565, 'auc': 0.7485071711081994, 'prauc': 0.4312136784008994}\n"
     ]
    },
    {
     "name": "stderr",
     "output_type": "stream",
     "text": [
      "Training Batches: 100%|██████████| 1/1 [00:06<00:00,  6.94s/it]\n",
      "Running inference: 100%|██████████| 1/1 [00:06<00:00,  6.25s/it]\n",
      "Running inference: 100%|██████████| 1/1 [00:06<00:00,  6.55s/it]\n"
     ]
    },
    {
     "name": "stdout",
     "output_type": "stream",
     "text": [
      "Epoch: 192, Average Loss: 0.3529\n",
      "Validation: {'precision': 0.42843809956142476, 'recall': 0.30801472882635944, 'f1': 0.3404408264590508, 'auc': 0.7405236379900682, 'prauc': 0.4393404316808068}\n",
      "Test:       {'precision': 0.4248407883047754, 'recall': 0.30602934909069845, 'f1': 0.335547770052625, 'auc': 0.7484834675010825, 'prauc': 0.43062572273047534}\n"
     ]
    },
    {
     "name": "stderr",
     "output_type": "stream",
     "text": [
      "Training Batches: 100%|██████████| 1/1 [00:07<00:00,  7.24s/it]\n",
      "Running inference: 100%|██████████| 1/1 [00:06<00:00,  6.52s/it]\n",
      "Running inference: 100%|██████████| 1/1 [00:06<00:00,  6.51s/it]\n"
     ]
    },
    {
     "name": "stdout",
     "output_type": "stream",
     "text": [
      "Epoch: 193, Average Loss: 0.3536\n",
      "Validation: {'precision': 0.4228819342290542, 'recall': 0.31345551273629535, 'f1': 0.34311887854045875, 'auc': 0.7396697784438538, 'prauc': 0.4380514029530464}\n",
      "Test:       {'precision': 0.4227742986271973, 'recall': 0.30894233526385584, 'f1': 0.3366096984493394, 'auc': 0.74784519169624, 'prauc': 0.42866605594320445}\n"
     ]
    },
    {
     "name": "stderr",
     "output_type": "stream",
     "text": [
      "Training Batches: 100%|██████████| 1/1 [00:06<00:00,  6.84s/it]\n",
      "Running inference: 100%|██████████| 1/1 [00:06<00:00,  6.35s/it]\n",
      "Running inference: 100%|██████████| 1/1 [00:07<00:00,  7.02s/it]\n"
     ]
    },
    {
     "name": "stdout",
     "output_type": "stream",
     "text": [
      "Epoch: 194, Average Loss: 0.3528\n",
      "Validation: {'precision': 0.4237892487332803, 'recall': 0.3130562848217621, 'f1': 0.34319289169379696, 'auc': 0.7386893918193542, 'prauc': 0.4372532995294983}\n",
      "Test:       {'precision': 0.42194745174919734, 'recall': 0.30942840914463887, 'f1': 0.33670701698595823, 'auc': 0.7474285604038869, 'prauc': 0.4289987862584959}\n"
     ]
    },
    {
     "name": "stderr",
     "output_type": "stream",
     "text": [
      "Training Batches: 100%|██████████| 1/1 [00:06<00:00,  6.48s/it]\n",
      "Running inference: 100%|██████████| 1/1 [00:06<00:00,  6.06s/it]\n",
      "Running inference: 100%|██████████| 1/1 [00:06<00:00,  6.52s/it]\n"
     ]
    },
    {
     "name": "stdout",
     "output_type": "stream",
     "text": [
      "Epoch: 195, Average Loss: 0.3539\n",
      "Validation: {'precision': 0.43365342372481686, 'recall': 0.30660735658308225, 'f1': 0.34102025236220396, 'auc': 0.7380245295674324, 'prauc': 0.4385097638178037}\n",
      "Test:       {'precision': 0.42472457599941704, 'recall': 0.3039424363683193, 'f1': 0.3343490290120963, 'auc': 0.7469542623094579, 'prauc': 0.43128832600460154}\n"
     ]
    },
    {
     "name": "stderr",
     "output_type": "stream",
     "text": [
      "Training Batches: 100%|██████████| 1/1 [00:06<00:00,  6.82s/it]\n",
      "Running inference: 100%|██████████| 1/1 [00:06<00:00,  6.15s/it]\n",
      "Running inference: 100%|██████████| 1/1 [00:06<00:00,  6.12s/it]\n"
     ]
    },
    {
     "name": "stdout",
     "output_type": "stream",
     "text": [
      "Epoch: 196, Average Loss: 0.3541\n",
      "Validation: {'precision': 0.435508262281864, 'recall': 0.3030067897627797, 'f1': 0.3396356168986496, 'auc': 0.7384857054850981, 'prauc': 0.440729014889046}\n",
      "Test:       {'precision': 0.4280295793049812, 'recall': 0.297807302019917, 'f1': 0.3304698451937271, 'auc': 0.746574523023495, 'prauc': 0.43315232413815985}\n"
     ]
    },
    {
     "name": "stderr",
     "output_type": "stream",
     "text": [
      "Training Batches: 100%|██████████| 1/1 [00:07<00:00,  7.02s/it]\n",
      "Running inference: 100%|██████████| 1/1 [00:06<00:00,  6.38s/it]\n",
      "Running inference: 100%|██████████| 1/1 [00:06<00:00,  6.66s/it]\n"
     ]
    },
    {
     "name": "stdout",
     "output_type": "stream",
     "text": [
      "Epoch: 197, Average Loss: 0.3557\n",
      "Validation: {'precision': 0.43707786622744144, 'recall': 0.3029657151408134, 'f1': 0.3388634112683484, 'auc': 0.7396652139753943, 'prauc': 0.44130978057606396}\n",
      "Test:       {'precision': 0.4269765669613356, 'recall': 0.29694832750600564, 'f1': 0.3281186529370239, 'auc': 0.7465029005090985, 'prauc': 0.4332322834612489}\n"
     ]
    },
    {
     "name": "stderr",
     "output_type": "stream",
     "text": [
      "Training Batches: 100%|██████████| 1/1 [00:06<00:00,  7.00s/it]\n",
      "Running inference: 100%|██████████| 1/1 [00:06<00:00,  6.96s/it]\n",
      "Running inference: 100%|██████████| 1/1 [00:07<00:00,  7.21s/it]\n"
     ]
    },
    {
     "name": "stdout",
     "output_type": "stream",
     "text": [
      "Epoch: 198, Average Loss: 0.3513\n",
      "Validation: {'precision': 0.43365182249958173, 'recall': 0.30257818729830793, 'f1': 0.33623704814733646, 'auc': 0.7402506093091712, 'prauc': 0.4408812152639309}\n",
      "Test:       {'precision': 0.42828896123246185, 'recall': 0.29634845337322213, 'f1': 0.3267886981363361, 'auc': 0.7469968109070183, 'prauc': 0.43331691682359463}\n"
     ]
    },
    {
     "name": "stderr",
     "output_type": "stream",
     "text": [
      "Training Batches: 100%|██████████| 1/1 [00:06<00:00,  6.85s/it]\n",
      "Running inference: 100%|██████████| 1/1 [00:06<00:00,  6.27s/it]\n",
      "Running inference: 100%|██████████| 1/1 [00:06<00:00,  6.15s/it]\n"
     ]
    },
    {
     "name": "stdout",
     "output_type": "stream",
     "text": [
      "Epoch: 199, Average Loss: 0.3536\n",
      "Validation: {'precision': 0.42990248870160824, 'recall': 0.3011357968747451, 'f1': 0.3328536369190428, 'auc': 0.7402525277606588, 'prauc': 0.4406400796276481}\n",
      "Test:       {'precision': 0.4297391066593027, 'recall': 0.2964141617098229, 'f1': 0.32515656080349237, 'auc': 0.7480525811709431, 'prauc': 0.43355181244816043}\n"
     ]
    },
    {
     "name": "stderr",
     "output_type": "stream",
     "text": [
      "Training Batches: 100%|██████████| 1/1 [00:06<00:00,  6.96s/it]\n",
      "Running inference: 100%|██████████| 1/1 [00:06<00:00,  6.27s/it]\n",
      "Running inference: 100%|██████████| 1/1 [00:06<00:00,  6.75s/it]\n"
     ]
    },
    {
     "name": "stdout",
     "output_type": "stream",
     "text": [
      "Epoch: 200, Average Loss: 0.3508\n",
      "Validation: {'precision': 0.4313208001884649, 'recall': 0.298772773541754, 'f1': 0.3313637700761642, 'auc': 0.740935716019288, 'prauc': 0.4414134331302931}\n",
      "Test:       {'precision': 0.4285001253651253, 'recall': 0.29323816266077996, 'f1': 0.3218650848083821, 'auc': 0.74968711218593, 'prauc': 0.4342862890290358}\n"
     ]
    },
    {
     "name": "stderr",
     "output_type": "stream",
     "text": [
      "Training Batches: 100%|██████████| 1/1 [00:06<00:00,  6.87s/it]\n",
      "Running inference: 100%|██████████| 1/1 [00:06<00:00,  6.34s/it]\n",
      "Running inference: 100%|██████████| 1/1 [00:06<00:00,  6.77s/it]\n"
     ]
    },
    {
     "name": "stdout",
     "output_type": "stream",
     "text": [
      "Epoch: 201, Average Loss: 0.3514\n",
      "Validation: {'precision': 0.4373385015127948, 'recall': 0.29559604291277586, 'f1': 0.3302099744781851, 'auc': 0.7419253145028837, 'prauc': 0.44289996292147077}\n",
      "Test:       {'precision': 0.4292338554513608, 'recall': 0.29121137316914164, 'f1': 0.3215777345234771, 'auc': 0.7512983920898952, 'prauc': 0.43567920139917654}\n"
     ]
    },
    {
     "name": "stderr",
     "output_type": "stream",
     "text": [
      "Training Batches: 100%|██████████| 1/1 [00:06<00:00,  6.86s/it]\n",
      "Running inference: 100%|██████████| 1/1 [00:06<00:00,  6.10s/it]\n",
      "Running inference: 100%|██████████| 1/1 [00:06<00:00,  6.92s/it]\n"
     ]
    },
    {
     "name": "stdout",
     "output_type": "stream",
     "text": [
      "Epoch: 202, Average Loss: 0.3508\n",
      "Validation: {'precision': 0.4402850214614953, 'recall': 0.29549430992359166, 'f1': 0.33255574207570315, 'auc': 0.7427277679009348, 'prauc': 0.4442711679519}\n",
      "Test:       {'precision': 0.42138159665793773, 'recall': 0.29192166170144557, 'f1': 0.323469751140035, 'auc': 0.75246414912432, 'prauc': 0.43653982443549544}\n"
     ]
    },
    {
     "name": "stderr",
     "output_type": "stream",
     "text": [
      "Training Batches: 100%|██████████| 1/1 [00:06<00:00,  6.38s/it]\n",
      "Running inference: 100%|██████████| 1/1 [00:06<00:00,  6.42s/it]\n",
      "Running inference: 100%|██████████| 1/1 [00:06<00:00,  6.36s/it]\n"
     ]
    },
    {
     "name": "stdout",
     "output_type": "stream",
     "text": [
      "Epoch: 203, Average Loss: 0.3496\n",
      "Validation: {'precision': 0.4388198967422171, 'recall': 0.29399007046275916, 'f1': 0.3332460694271307, 'auc': 0.7429033533492753, 'prauc': 0.4443547893674793}\n",
      "Test:       {'precision': 0.42519546373186334, 'recall': 0.2913430996703117, 'f1': 0.32652440224417223, 'auc': 0.7525368056267046, 'prauc': 0.43656899373657637}\n"
     ]
    },
    {
     "name": "stderr",
     "output_type": "stream",
     "text": [
      "Training Batches: 100%|██████████| 1/1 [00:06<00:00,  6.85s/it]\n",
      "Running inference: 100%|██████████| 1/1 [00:06<00:00,  6.27s/it]\n",
      "Running inference: 100%|██████████| 1/1 [00:06<00:00,  6.97s/it]\n"
     ]
    },
    {
     "name": "stdout",
     "output_type": "stream",
     "text": [
      "Epoch: 204, Average Loss: 0.3493\n",
      "Validation: {'precision': 0.43352910178036885, 'recall': 0.29536288986261594, 'f1': 0.33495943746881873, 'auc': 0.7426536612784157, 'prauc': 0.443768015278282}\n",
      "Test:       {'precision': 0.42988543879764296, 'recall': 0.2922925266688987, 'f1': 0.32940619161376494, 'auc': 0.7529947281882585, 'prauc': 0.4367448101464686}\n"
     ]
    },
    {
     "name": "stderr",
     "output_type": "stream",
     "text": [
      "Training Batches: 100%|██████████| 1/1 [00:07<00:00,  7.08s/it]\n",
      "Running inference: 100%|██████████| 1/1 [00:06<00:00,  6.73s/it]\n",
      "Running inference: 100%|██████████| 1/1 [00:07<00:00,  7.37s/it]\n"
     ]
    },
    {
     "name": "stdout",
     "output_type": "stream",
     "text": [
      "Epoch: 205, Average Loss: 0.3509\n",
      "Validation: {'precision': 0.4362121195949902, 'recall': 0.29857876490044594, 'f1': 0.3377992325360298, 'auc': 0.7428028962913864, 'prauc': 0.44384509583073883}\n",
      "Test:       {'precision': 0.4292062891614028, 'recall': 0.29636485036422455, 'f1': 0.3319388357445421, 'auc': 0.7534633303939532, 'prauc': 0.4369936810071697}\n"
     ]
    },
    {
     "name": "stderr",
     "output_type": "stream",
     "text": [
      "Training Batches: 100%|██████████| 1/1 [00:06<00:00,  6.81s/it]\n",
      "Running inference: 100%|██████████| 1/1 [00:06<00:00,  6.29s/it]\n",
      "Running inference: 100%|██████████| 1/1 [00:06<00:00,  6.67s/it]\n"
     ]
    },
    {
     "name": "stdout",
     "output_type": "stream",
     "text": [
      "Epoch: 206, Average Loss: 0.3502\n",
      "Validation: {'precision': 0.4366969715422694, 'recall': 0.3017803752669404, 'f1': 0.33975870996735624, 'auc': 0.7427218292096668, 'prauc': 0.44355191737712296}\n",
      "Test:       {'precision': 0.4262554496903671, 'recall': 0.2968065194212281, 'f1': 0.3315400525690515, 'auc': 0.7538486233517777, 'prauc': 0.43704495891752226}\n"
     ]
    },
    {
     "name": "stderr",
     "output_type": "stream",
     "text": [
      "Training Batches: 100%|██████████| 1/1 [00:07<00:00,  7.18s/it]\n",
      "Running inference: 100%|██████████| 1/1 [00:06<00:00,  6.19s/it]\n",
      "Running inference: 100%|██████████| 1/1 [00:06<00:00,  6.77s/it]\n"
     ]
    },
    {
     "name": "stdout",
     "output_type": "stream",
     "text": [
      "Epoch: 207, Average Loss: 0.3486\n",
      "Validation: {'precision': 0.434661574212504, 'recall': 0.30174432220440567, 'f1': 0.33905031938152386, 'auc': 0.7424354565457331, 'prauc': 0.44318983193565953}\n",
      "Test:       {'precision': 0.42774721757457257, 'recall': 0.29851658032941214, 'f1': 0.33280486716542046, 'auc': 0.7536437746985323, 'prauc': 0.43778084685814017}\n"
     ]
    },
    {
     "name": "stderr",
     "output_type": "stream",
     "text": [
      "Training Batches: 100%|██████████| 1/1 [00:06<00:00,  6.71s/it]\n",
      "Running inference: 100%|██████████| 1/1 [00:06<00:00,  6.42s/it]\n",
      "Running inference: 100%|██████████| 1/1 [00:06<00:00,  6.89s/it]\n"
     ]
    },
    {
     "name": "stdout",
     "output_type": "stream",
     "text": [
      "Epoch: 208, Average Loss: 0.3483\n",
      "Validation: {'precision': 0.43597801929248614, 'recall': 0.30371854636873197, 'f1': 0.3413238402086608, 'auc': 0.7428005600439779, 'prauc': 0.44408921081940766}\n",
      "Test:       {'precision': 0.43159947235321233, 'recall': 0.29820564468456556, 'f1': 0.3326755607720365, 'auc': 0.7531254134675296, 'prauc': 0.43816907219549045}\n"
     ]
    },
    {
     "name": "stderr",
     "output_type": "stream",
     "text": [
      "Training Batches: 100%|██████████| 1/1 [00:06<00:00,  6.63s/it]\n",
      "Running inference: 100%|██████████| 1/1 [00:06<00:00,  6.66s/it]\n",
      "Running inference: 100%|██████████| 1/1 [00:07<00:00,  7.10s/it]\n"
     ]
    },
    {
     "name": "stdout",
     "output_type": "stream",
     "text": [
      "Epoch: 209, Average Loss: 0.3482\n",
      "Validation: {'precision': 0.4363441526532869, 'recall': 0.30565200517188473, 'f1': 0.3410409358852489, 'auc': 0.7431168509454122, 'prauc': 0.4445910074318042}\n",
      "Test:       {'precision': 0.4257944747649954, 'recall': 0.29864478548983636, 'f1': 0.3312587033779461, 'auc': 0.7528278145303533, 'prauc': 0.4381995578609688}\n"
     ]
    },
    {
     "name": "stderr",
     "output_type": "stream",
     "text": [
      "Training Batches: 100%|██████████| 1/1 [00:06<00:00,  6.61s/it]\n",
      "Running inference: 100%|██████████| 1/1 [00:06<00:00,  6.37s/it]\n",
      "Running inference: 100%|██████████| 1/1 [00:06<00:00,  6.16s/it]\n"
     ]
    },
    {
     "name": "stdout",
     "output_type": "stream",
     "text": [
      "Epoch: 210, Average Loss: 0.3465\n",
      "Validation: {'precision': 0.43823765015149196, 'recall': 0.3055795339447257, 'f1': 0.34041761217889316, 'auc': 0.7433257435282309, 'prauc': 0.4446148144550649}\n",
      "Test:       {'precision': 0.4246518148394433, 'recall': 0.29964781915781225, 'f1': 0.33105679412113465, 'auc': 0.7521804178106278, 'prauc': 0.43790010325123324}\n"
     ]
    },
    {
     "name": "stderr",
     "output_type": "stream",
     "text": [
      "Training Batches: 100%|██████████| 1/1 [00:07<00:00,  7.01s/it]\n",
      "Running inference: 100%|██████████| 1/1 [00:06<00:00,  6.32s/it]\n",
      "Running inference: 100%|██████████| 1/1 [00:06<00:00,  6.52s/it]\n"
     ]
    },
    {
     "name": "stdout",
     "output_type": "stream",
     "text": [
      "Epoch: 211, Average Loss: 0.3490\n",
      "Validation: {'precision': 0.4387291937736365, 'recall': 0.31137876562586386, 'f1': 0.3447267673768126, 'auc': 0.743810853756668, 'prauc': 0.44480467337852647}\n",
      "Test:       {'precision': 0.4274738147903605, 'recall': 0.3045981345533526, 'f1': 0.3340363124298215, 'auc': 0.7524405689794085, 'prauc': 0.43762371767732955}\n"
     ]
    },
    {
     "name": "stderr",
     "output_type": "stream",
     "text": [
      "Training Batches: 100%|██████████| 1/1 [00:06<00:00,  6.91s/it]\n",
      "Running inference: 100%|██████████| 1/1 [00:06<00:00,  6.87s/it]\n",
      "Running inference: 100%|██████████| 1/1 [00:07<00:00,  7.27s/it]\n"
     ]
    },
    {
     "name": "stdout",
     "output_type": "stream",
     "text": [
      "Epoch: 212, Average Loss: 0.3483\n",
      "Validation: {'precision': 0.4344212539595701, 'recall': 0.31285543961340534, 'f1': 0.3466064843187452, 'auc': 0.7433358875315682, 'prauc': 0.444106200364236}\n",
      "Test:       {'precision': 0.4322806364630203, 'recall': 0.30925557071931065, 'f1': 0.34001753088063563, 'auc': 0.7522145412679582, 'prauc': 0.43717402944431144}\n"
     ]
    },
    {
     "name": "stderr",
     "output_type": "stream",
     "text": [
      "Training Batches: 100%|██████████| 1/1 [00:06<00:00,  6.59s/it]\n",
      "Running inference: 100%|██████████| 1/1 [00:06<00:00,  6.22s/it]\n",
      "Running inference: 100%|██████████| 1/1 [00:06<00:00,  6.41s/it]\n"
     ]
    },
    {
     "name": "stdout",
     "output_type": "stream",
     "text": [
      "Epoch: 213, Average Loss: 0.3483\n",
      "Validation: {'precision': 0.4332504838154627, 'recall': 0.31246589642005956, 'f1': 0.34669124165074394, 'auc': 0.7426114501391942, 'prauc': 0.4433519879438278}\n",
      "Test:       {'precision': 0.42830861370417744, 'recall': 0.30695610390759176, 'f1': 0.33932811686301645, 'auc': 0.7516799501117161, 'prauc': 0.4362555322213592}\n"
     ]
    },
    {
     "name": "stderr",
     "output_type": "stream",
     "text": [
      "Training Batches: 100%|██████████| 1/1 [00:07<00:00,  7.04s/it]\n",
      "Running inference: 100%|██████████| 1/1 [00:06<00:00,  6.72s/it]\n",
      "Running inference: 100%|██████████| 1/1 [00:06<00:00,  6.84s/it]\n"
     ]
    },
    {
     "name": "stdout",
     "output_type": "stream",
     "text": [
      "Epoch: 214, Average Loss: 0.3459\n",
      "Validation: {'precision': 0.43589801910606085, 'recall': 0.31740216840870145, 'f1': 0.35195138853171226, 'auc': 0.7423621757029096, 'prauc': 0.44259331618950737}\n",
      "Test:       {'precision': 0.42723287314378733, 'recall': 0.3104164680894102, 'f1': 0.3421713980380525, 'auc': 0.7513515967405018, 'prauc': 0.43583714791423495}\n"
     ]
    },
    {
     "name": "stderr",
     "output_type": "stream",
     "text": [
      "Training Batches: 100%|██████████| 1/1 [00:06<00:00,  6.88s/it]\n",
      "Running inference: 100%|██████████| 1/1 [00:06<00:00,  6.33s/it]\n",
      "Running inference: 100%|██████████| 1/1 [00:06<00:00,  6.74s/it]\n"
     ]
    },
    {
     "name": "stdout",
     "output_type": "stream",
     "text": [
      "Epoch: 215, Average Loss: 0.3484\n",
      "Validation: {'precision': 0.43944736761814185, 'recall': 0.3157174148679031, 'f1': 0.3516359132515516, 'auc': 0.7425739872950385, 'prauc': 0.44271238640133576}\n",
      "Test:       {'precision': 0.423809342667666, 'recall': 0.30801629356368015, 'f1': 0.3403840100729731, 'auc': 0.7515281346975481, 'prauc': 0.43594881361665955}\n"
     ]
    },
    {
     "name": "stderr",
     "output_type": "stream",
     "text": [
      "Training Batches: 100%|██████████| 1/1 [00:06<00:00,  6.51s/it]\n",
      "Running inference: 100%|██████████| 1/1 [00:06<00:00,  6.30s/it]\n",
      "Running inference: 100%|██████████| 1/1 [00:06<00:00,  6.88s/it]\n"
     ]
    },
    {
     "name": "stdout",
     "output_type": "stream",
     "text": [
      "Epoch: 216, Average Loss: 0.3463\n",
      "Validation: {'precision': 0.43720337257255387, 'recall': 0.31043846143231346, 'f1': 0.3478878188247383, 'auc': 0.7426268943465811, 'prauc': 0.44278791433436965}\n",
      "Test:       {'precision': 0.4270348090036383, 'recall': 0.3049064173101808, 'f1': 0.3389588319927463, 'auc': 0.751734670940689, 'prauc': 0.43645780757879754}\n"
     ]
    },
    {
     "name": "stderr",
     "output_type": "stream",
     "text": [
      "Training Batches: 100%|██████████| 1/1 [00:06<00:00,  6.53s/it]\n",
      "Running inference: 100%|██████████| 1/1 [00:06<00:00,  6.44s/it]\n",
      "Running inference: 100%|██████████| 1/1 [00:06<00:00,  6.16s/it]\n"
     ]
    },
    {
     "name": "stdout",
     "output_type": "stream",
     "text": [
      "Epoch: 217, Average Loss: 0.3455\n",
      "Validation: {'precision': 0.4387926189545852, 'recall': 0.30712681619110255, 'f1': 0.34616662926593744, 'auc': 0.7432995693170921, 'prauc': 0.44372913075587633}\n",
      "Test:       {'precision': 0.4283470823463006, 'recall': 0.3007929579581277, 'f1': 0.33666640926090463, 'auc': 0.7523678555547171, 'prauc': 0.4372503065002241}\n"
     ]
    },
    {
     "name": "stderr",
     "output_type": "stream",
     "text": [
      "Training Batches: 100%|██████████| 1/1 [00:06<00:00,  6.82s/it]\n",
      "Running inference: 100%|██████████| 1/1 [00:06<00:00,  6.32s/it]\n",
      "Running inference: 100%|██████████| 1/1 [00:06<00:00,  6.72s/it]\n"
     ]
    },
    {
     "name": "stdout",
     "output_type": "stream",
     "text": [
      "Epoch: 218, Average Loss: 0.3439\n",
      "Validation: {'precision': 0.4360135017726977, 'recall': 0.3034101613940122, 'f1': 0.34384630238478586, 'auc': 0.7441140756860838, 'prauc': 0.4454060144628966}\n",
      "Test:       {'precision': 0.43552361231995107, 'recall': 0.29854328856774465, 'f1': 0.3361326369467736, 'auc': 0.7527718217781882, 'prauc': 0.43882885951654604}\n"
     ]
    },
    {
     "name": "stderr",
     "output_type": "stream",
     "text": [
      "Training Batches: 100%|██████████| 1/1 [00:06<00:00,  6.94s/it]\n",
      "Running inference: 100%|██████████| 1/1 [00:06<00:00,  6.65s/it]\n",
      "Running inference: 100%|██████████| 1/1 [00:07<00:00,  7.39s/it]\n"
     ]
    },
    {
     "name": "stdout",
     "output_type": "stream",
     "text": [
      "Epoch: 219, Average Loss: 0.3481\n",
      "Validation: {'precision': 0.43440462773955457, 'recall': 0.3132971474310511, 'f1': 0.34999923169658453, 'auc': 0.7459187002815351, 'prauc': 0.4469137128700511}\n",
      "Test:       {'precision': 0.4397537241215722, 'recall': 0.3083248934093616, 'f1': 0.34358208948025576, 'auc': 0.7538830941275474, 'prauc': 0.4393250916039472}\n"
     ]
    },
    {
     "name": "stderr",
     "output_type": "stream",
     "text": [
      "Training Batches: 100%|██████████| 1/1 [00:06<00:00,  6.31s/it]\n",
      "Running inference: 100%|██████████| 1/1 [00:06<00:00,  6.57s/it]\n",
      "Running inference: 100%|██████████| 1/1 [00:06<00:00,  6.08s/it]\n"
     ]
    },
    {
     "name": "stdout",
     "output_type": "stream",
     "text": [
      "Epoch: 220, Average Loss: 0.3449\n",
      "Validation: {'precision': 0.4304014952261575, 'recall': 0.32208319839216243, 'f1': 0.3555624396333712, 'auc': 0.7472059956889735, 'prauc': 0.4480507206139764}\n",
      "Test:       {'precision': 0.43392904651395636, 'recall': 0.3162073418228586, 'f1': 0.34793678572847664, 'auc': 0.7543145571030303, 'prauc': 0.4395312655068264}\n"
     ]
    },
    {
     "name": "stderr",
     "output_type": "stream",
     "text": [
      "Training Batches: 100%|██████████| 1/1 [00:07<00:00,  7.15s/it]\n",
      "Running inference: 100%|██████████| 1/1 [00:06<00:00,  6.13s/it]\n",
      "Running inference: 100%|██████████| 1/1 [00:06<00:00,  6.80s/it]\n"
     ]
    },
    {
     "name": "stdout",
     "output_type": "stream",
     "text": [
      "Epoch: 221, Average Loss: 0.3441\n",
      "Validation: {'precision': 0.42970067123318745, 'recall': 0.3257306237315196, 'f1': 0.3571776245977491, 'auc': 0.7477142232620831, 'prauc': 0.4489094402943717}\n",
      "Test:       {'precision': 0.43373009854854616, 'recall': 0.32098740190582664, 'f1': 0.350982342867032, 'auc': 0.754701063845415, 'prauc': 0.4400439410761147}\n"
     ]
    },
    {
     "name": "stderr",
     "output_type": "stream",
     "text": [
      "Training Batches: 100%|██████████| 1/1 [00:06<00:00,  6.90s/it]\n",
      "Running inference: 100%|██████████| 1/1 [00:06<00:00,  6.10s/it]\n",
      "Running inference: 100%|██████████| 1/1 [00:06<00:00,  6.72s/it]\n"
     ]
    },
    {
     "name": "stdout",
     "output_type": "stream",
     "text": [
      "Epoch: 222, Average Loss: 0.3439\n",
      "Validation: {'precision': 0.4290121016639156, 'recall': 0.32562306474222813, 'f1': 0.35606165691534597, 'auc': 0.7477089900844601, 'prauc': 0.4489096317830893}\n",
      "Test:       {'precision': 0.4360014678998684, 'recall': 0.32333273579439453, 'f1': 0.3528917971965858, 'auc': 0.7547658575910172, 'prauc': 0.4401521397298235}\n"
     ]
    },
    {
     "name": "stderr",
     "output_type": "stream",
     "text": [
      "Training Batches: 100%|██████████| 1/1 [00:06<00:00,  6.68s/it]\n",
      "Running inference: 100%|██████████| 1/1 [00:06<00:00,  6.58s/it]\n",
      "Running inference: 100%|██████████| 1/1 [00:06<00:00,  6.78s/it]\n"
     ]
    },
    {
     "name": "stdout",
     "output_type": "stream",
     "text": [
      "Epoch: 223, Average Loss: 0.3446\n",
      "Validation: {'precision': 0.4325536118542621, 'recall': 0.3272647409663545, 'f1': 0.3586468744438662, 'auc': 0.7474183971894989, 'prauc': 0.44823392536418666}\n",
      "Test:       {'precision': 0.4353457115573034, 'recall': 0.32662017661158893, 'f1': 0.35564446432546226, 'auc': 0.7540719772975203, 'prauc': 0.43981113432551766}\n"
     ]
    },
    {
     "name": "stderr",
     "output_type": "stream",
     "text": [
      "Training Batches: 100%|██████████| 1/1 [00:06<00:00,  6.55s/it]\n",
      "Running inference: 100%|██████████| 1/1 [00:06<00:00,  6.47s/it]\n",
      "Running inference: 100%|██████████| 1/1 [00:06<00:00,  6.39s/it]\n"
     ]
    },
    {
     "name": "stdout",
     "output_type": "stream",
     "text": [
      "Epoch: 224, Average Loss: 0.3424\n",
      "Validation: {'precision': 0.43223363590921277, 'recall': 0.32438392537069555, 'f1': 0.3577750690731247, 'auc': 0.746883814553525, 'prauc': 0.44740153046554476}\n",
      "Test:       {'precision': 0.43657055171310777, 'recall': 0.3259646411136692, 'f1': 0.3560944126844874, 'auc': 0.7535134332160883, 'prauc': 0.4391887895096926}\n"
     ]
    },
    {
     "name": "stderr",
     "output_type": "stream",
     "text": [
      "Training Batches: 100%|██████████| 1/1 [00:06<00:00,  6.99s/it]\n",
      "Running inference: 100%|██████████| 1/1 [00:06<00:00,  6.12s/it]\n",
      "Running inference: 100%|██████████| 1/1 [00:07<00:00,  7.00s/it]\n"
     ]
    },
    {
     "name": "stdout",
     "output_type": "stream",
     "text": [
      "Epoch: 225, Average Loss: 0.3434\n",
      "Validation: {'precision': 0.43122713706475135, 'recall': 0.32113106518522394, 'f1': 0.35607151774121487, 'auc': 0.7464461386467967, 'prauc': 0.4466942327366054}\n",
      "Test:       {'precision': 0.4371580693375741, 'recall': 0.32032090803219476, 'f1': 0.3532065409212999, 'auc': 0.7532595649231905, 'prauc': 0.43922442452919497}\n"
     ]
    },
    {
     "name": "stderr",
     "output_type": "stream",
     "text": [
      "Training Batches: 100%|██████████| 1/1 [00:07<00:00,  7.23s/it]\n",
      "Running inference: 100%|██████████| 1/1 [00:07<00:00,  7.01s/it]\n",
      "Running inference: 100%|██████████| 1/1 [00:07<00:00,  7.20s/it]\n"
     ]
    },
    {
     "name": "stdout",
     "output_type": "stream",
     "text": [
      "Epoch: 226, Average Loss: 0.3444\n",
      "Validation: {'precision': 0.43102331136278993, 'recall': 0.3137821551208019, 'f1': 0.35137751023390074, 'auc': 0.7460364652553245, 'prauc': 0.4470577060677847}\n",
      "Test:       {'precision': 0.4416613636758789, 'recall': 0.3142936059190464, 'f1': 0.3502033861213638, 'auc': 0.7530227467422113, 'prauc': 0.43905519471327226}\n"
     ]
    },
    {
     "name": "stderr",
     "output_type": "stream",
     "text": [
      "Training Batches: 100%|██████████| 1/1 [00:06<00:00,  6.50s/it]\n",
      "Running inference: 100%|██████████| 1/1 [00:06<00:00,  6.35s/it]\n",
      "Running inference: 100%|██████████| 1/1 [00:06<00:00,  6.09s/it]\n"
     ]
    },
    {
     "name": "stdout",
     "output_type": "stream",
     "text": [
      "Epoch: 227, Average Loss: 0.3435\n",
      "Validation: {'precision': 0.43323223129478783, 'recall': 0.3104909342101199, 'f1': 0.3500181896796998, 'auc': 0.745261974528927, 'prauc': 0.4474323737701719}\n",
      "Test:       {'precision': 0.4425565263371132, 'recall': 0.3096122328991844, 'f1': 0.3471691323661308, 'auc': 0.752873371167536, 'prauc': 0.43910562455886865}\n"
     ]
    },
    {
     "name": "stderr",
     "output_type": "stream",
     "text": [
      "Training Batches: 100%|██████████| 1/1 [00:06<00:00,  6.99s/it]\n",
      "Running inference: 100%|██████████| 1/1 [00:06<00:00,  6.39s/it]\n",
      "Running inference: 100%|██████████| 1/1 [00:06<00:00,  6.81s/it]\n"
     ]
    },
    {
     "name": "stdout",
     "output_type": "stream",
     "text": [
      "Epoch: 228, Average Loss: 0.3419\n",
      "Validation: {'precision': 0.4382462308894565, 'recall': 0.3114234721405614, 'f1': 0.35247349584943855, 'auc': 0.7458664795473953, 'prauc': 0.4492625024502236}\n",
      "Test:       {'precision': 0.4422176851402202, 'recall': 0.30961672428562753, 'f1': 0.3473536787385671, 'auc': 0.7524430312276388, 'prauc': 0.4400765569241454}\n"
     ]
    },
    {
     "name": "stderr",
     "output_type": "stream",
     "text": [
      "Training Batches: 100%|██████████| 1/1 [00:06<00:00,  6.50s/it]\n",
      "Running inference: 100%|██████████| 1/1 [00:06<00:00,  6.40s/it]\n",
      "Running inference: 100%|██████████| 1/1 [00:07<00:00,  7.02s/it]\n"
     ]
    },
    {
     "name": "stdout",
     "output_type": "stream",
     "text": [
      "Epoch: 229, Average Loss: 0.3426\n",
      "Validation: {'precision': 0.4408706083609983, 'recall': 0.31251856044834625, 'f1': 0.3540941171563088, 'auc': 0.7461363460943137, 'prauc': 0.44983892724036095}\n",
      "Test:       {'precision': 0.44080542967944497, 'recall': 0.3061571035363931, 'f1': 0.34469551654700303, 'auc': 0.7519705183325701, 'prauc': 0.4408944225088224}\n"
     ]
    },
    {
     "name": "stderr",
     "output_type": "stream",
     "text": [
      "Training Batches: 100%|██████████| 1/1 [00:06<00:00,  6.54s/it]\n",
      "Running inference: 100%|██████████| 1/1 [00:06<00:00,  6.34s/it]\n",
      "Running inference: 100%|██████████| 1/1 [00:06<00:00,  6.98s/it]\n"
     ]
    },
    {
     "name": "stdout",
     "output_type": "stream",
     "text": [
      "Epoch: 230, Average Loss: 0.3410\n",
      "Validation: {'precision': 0.44434593938777844, 'recall': 0.3093879750101405, 'f1': 0.35300693304655284, 'auc': 0.7458293101123964, 'prauc': 0.44975894869478444}\n",
      "Test:       {'precision': 0.4447427480736947, 'recall': 0.305313050791499, 'f1': 0.3453619797721199, 'auc': 0.7515297750781934, 'prauc': 0.4410171007881025}\n"
     ]
    },
    {
     "name": "stderr",
     "output_type": "stream",
     "text": [
      "Training Batches: 100%|██████████| 1/1 [00:06<00:00,  6.39s/it]\n",
      "Running inference: 100%|██████████| 1/1 [00:06<00:00,  6.39s/it]\n",
      "Running inference: 100%|██████████| 1/1 [00:06<00:00,  6.04s/it]\n"
     ]
    },
    {
     "name": "stdout",
     "output_type": "stream",
     "text": [
      "Epoch: 231, Average Loss: 0.3429\n",
      "Validation: {'precision': 0.44672585195969217, 'recall': 0.3093765585252597, 'f1': 0.3538486364231949, 'auc': 0.7454956324621134, 'prauc': 0.4492923246869164}\n",
      "Test:       {'precision': 0.4405437232806872, 'recall': 0.3044996593204765, 'f1': 0.34558753347344795, 'auc': 0.7511070913034995, 'prauc': 0.44094406206439757}\n"
     ]
    },
    {
     "name": "stderr",
     "output_type": "stream",
     "text": [
      "Training Batches: 100%|██████████| 1/1 [00:07<00:00,  7.32s/it]\n",
      "Running inference: 100%|██████████| 1/1 [00:06<00:00,  6.05s/it]\n",
      "Running inference: 100%|██████████| 1/1 [00:06<00:00,  6.84s/it]\n"
     ]
    },
    {
     "name": "stdout",
     "output_type": "stream",
     "text": [
      "Epoch: 232, Average Loss: 0.3425\n",
      "Validation: {'precision': 0.4464743672618963, 'recall': 0.3088917475808091, 'f1': 0.3535050568817902, 'auc': 0.7440415000180525, 'prauc': 0.4480351737435937}\n",
      "Test:       {'precision': 0.44160361123737185, 'recall': 0.3062375167260219, 'f1': 0.34800414263151985, 'auc': 0.7502254922711603, 'prauc': 0.4396236436305462}\n"
     ]
    },
    {
     "name": "stderr",
     "output_type": "stream",
     "text": [
      "Training Batches: 100%|██████████| 1/1 [00:06<00:00,  6.83s/it]\n",
      "Running inference: 100%|██████████| 1/1 [00:06<00:00,  6.60s/it]\n",
      "Running inference: 100%|██████████| 1/1 [00:07<00:00,  7.32s/it]\n"
     ]
    },
    {
     "name": "stdout",
     "output_type": "stream",
     "text": [
      "Epoch: 233, Average Loss: 0.3400\n",
      "Validation: {'precision': 0.4418194522853139, 'recall': 0.30343601595518266, 'f1': 0.3472745536316741, 'auc': 0.7422075801401469, 'prauc': 0.4466313168423935}\n",
      "Test:       {'precision': 0.44374935551010997, 'recall': 0.3038998117901316, 'f1': 0.3455606397047656, 'auc': 0.7496081125511219, 'prauc': 0.43888848328333574}\n"
     ]
    },
    {
     "name": "stderr",
     "output_type": "stream",
     "text": [
      "Training Batches: 100%|██████████| 1/1 [00:06<00:00,  6.40s/it]\n",
      "Running inference: 100%|██████████| 1/1 [00:06<00:00,  6.54s/it]\n",
      "Running inference: 100%|██████████| 1/1 [00:06<00:00,  6.24s/it]\n"
     ]
    },
    {
     "name": "stdout",
     "output_type": "stream",
     "text": [
      "Epoch: 234, Average Loss: 0.3409\n",
      "Validation: {'precision': 0.4374478823319592, 'recall': 0.3093236639642536, 'f1': 0.3496060914314855, 'auc': 0.742509925556045, 'prauc': 0.4471833874860548}\n",
      "Test:       {'precision': 0.44057407579553887, 'recall': 0.30796933010345007, 'f1': 0.3461956552595772, 'auc': 0.7505710229500756, 'prauc': 0.44006322098854145}\n"
     ]
    },
    {
     "name": "stderr",
     "output_type": "stream",
     "text": [
      "Training Batches: 100%|██████████| 1/1 [00:07<00:00,  7.22s/it]\n",
      "Running inference: 100%|██████████| 1/1 [00:06<00:00,  6.29s/it]\n",
      "Running inference: 100%|██████████| 1/1 [00:06<00:00,  6.74s/it]\n"
     ]
    },
    {
     "name": "stdout",
     "output_type": "stream",
     "text": [
      "Epoch: 235, Average Loss: 0.3437\n",
      "Validation: {'precision': 0.439289958913846, 'recall': 0.3216236931864063, 'f1': 0.353955154394389, 'auc': 0.7441437260219624, 'prauc': 0.44711034444316705}\n",
      "Test:       {'precision': 0.43197140660818634, 'recall': 0.31733590608516066, 'f1': 0.3442723922255684, 'auc': 0.7523580938336636, 'prauc': 0.4401067025046814}\n"
     ]
    },
    {
     "name": "stderr",
     "output_type": "stream",
     "text": [
      "Training Batches: 100%|██████████| 1/1 [00:06<00:00,  6.76s/it]\n",
      "Running inference: 100%|██████████| 1/1 [00:06<00:00,  6.41s/it]\n",
      "Running inference: 100%|██████████| 1/1 [00:06<00:00,  6.76s/it]\n"
     ]
    },
    {
     "name": "stdout",
     "output_type": "stream",
     "text": [
      "Epoch: 236, Average Loss: 0.3400\n",
      "Validation: {'precision': 0.4378604131957131, 'recall': 0.32400545498410543, 'f1': 0.35327416006855905, 'auc': 0.7447387252305732, 'prauc': 0.4464251149418044}\n",
      "Test:       {'precision': 0.43001583629094303, 'recall': 0.3172603348948668, 'f1': 0.34079273778741875, 'auc': 0.752130569596802, 'prauc': 0.4389547647087951}\n"
     ]
    },
    {
     "name": "stderr",
     "output_type": "stream",
     "text": [
      "Training Batches: 100%|██████████| 1/1 [00:06<00:00,  6.83s/it]\n",
      "Running inference: 100%|██████████| 1/1 [00:06<00:00,  6.59s/it]\n",
      "Running inference: 100%|██████████| 1/1 [00:06<00:00,  6.82s/it]\n"
     ]
    },
    {
     "name": "stdout",
     "output_type": "stream",
     "text": [
      "Epoch: 237, Average Loss: 0.3431\n",
      "Validation: {'precision': 0.43518994687308205, 'recall': 0.32410011198097116, 'f1': 0.3545286420712226, 'auc': 0.7457783663744191, 'prauc': 0.44729429565116274}\n",
      "Test:       {'precision': 0.43478648712741536, 'recall': 0.3189986301790093, 'f1': 0.34575583509653546, 'auc': 0.7523880804182681, 'prauc': 0.4395508257272706}\n"
     ]
    },
    {
     "name": "stderr",
     "output_type": "stream",
     "text": [
      "Training Batches: 100%|██████████| 1/1 [00:07<00:00,  7.13s/it]\n",
      "Running inference: 100%|██████████| 1/1 [00:06<00:00,  6.14s/it]\n",
      "Running inference: 100%|██████████| 1/1 [00:06<00:00,  6.24s/it]\n"
     ]
    },
    {
     "name": "stdout",
     "output_type": "stream",
     "text": [
      "Epoch: 238, Average Loss: 0.3420\n",
      "Validation: {'precision': 0.4370113929139616, 'recall': 0.3236852781836193, 'f1': 0.35640101328960533, 'auc': 0.7465418558707954, 'prauc': 0.4478957702533389}\n",
      "Test:       {'precision': 0.43792954036459386, 'recall': 0.32046536001534043, 'f1': 0.3502684715457389, 'auc': 0.7528496554431896, 'prauc': 0.439913137600434}\n"
     ]
    },
    {
     "name": "stderr",
     "output_type": "stream",
     "text": [
      "Training Batches: 100%|██████████| 1/1 [00:07<00:00,  7.20s/it]\n",
      "Running inference: 100%|██████████| 1/1 [00:06<00:00,  6.62s/it]\n",
      "Running inference: 100%|██████████| 1/1 [00:06<00:00,  6.77s/it]\n"
     ]
    },
    {
     "name": "stdout",
     "output_type": "stream",
     "text": [
      "Epoch: 239, Average Loss: 0.3453\n",
      "Validation: {'precision': 0.43361334902496884, 'recall': 0.32312986953569245, 'f1': 0.3586978622725331, 'auc': 0.7470191742117356, 'prauc': 0.44794563277151206}\n",
      "Test:       {'precision': 0.43990226638503066, 'recall': 0.3208038095008086, 'f1': 0.3544077941936242, 'auc': 0.7532641982365182, 'prauc': 0.4403502440810696}\n"
     ]
    },
    {
     "name": "stderr",
     "output_type": "stream",
     "text": [
      "Training Batches: 100%|██████████| 1/1 [00:07<00:00,  7.21s/it]\n",
      "Running inference: 100%|██████████| 1/1 [00:06<00:00,  6.84s/it]\n",
      "Running inference: 100%|██████████| 1/1 [00:07<00:00,  7.21s/it]\n"
     ]
    },
    {
     "name": "stdout",
     "output_type": "stream",
     "text": [
      "Epoch: 240, Average Loss: 0.3424\n",
      "Validation: {'precision': 0.4336290336570599, 'recall': 0.3182714517811243, 'f1': 0.3574598910516058, 'auc': 0.7472925188972742, 'prauc': 0.4477773185404965}\n",
      "Test:       {'precision': 0.4389167509774821, 'recall': 0.3206059364913181, 'f1': 0.35680506509614174, 'auc': 0.7539197902686324, 'prauc': 0.4403177845050422}\n"
     ]
    },
    {
     "name": "stderr",
     "output_type": "stream",
     "text": [
      "Training Batches: 100%|██████████| 1/1 [00:06<00:00,  6.40s/it]\n",
      "Running inference: 100%|██████████| 1/1 [00:06<00:00,  6.34s/it]\n",
      "Running inference: 100%|██████████| 1/1 [00:06<00:00,  6.38s/it]\n"
     ]
    },
    {
     "name": "stdout",
     "output_type": "stream",
     "text": [
      "Epoch: 241, Average Loss: 0.3397\n",
      "Validation: {'precision': 0.43177738184126657, 'recall': 0.3167370338972819, 'f1': 0.3562676116433978, 'auc': 0.7479277724252709, 'prauc': 0.4477747765548405}\n",
      "Test:       {'precision': 0.43975274937749936, 'recall': 0.31967197164983674, 'f1': 0.3567300190907222, 'auc': 0.7547942392858371, 'prauc': 0.44082465575658714}\n"
     ]
    },
    {
     "name": "stderr",
     "output_type": "stream",
     "text": [
      "Training Batches: 100%|██████████| 1/1 [00:06<00:00,  7.00s/it]\n",
      "Running inference: 100%|██████████| 1/1 [00:06<00:00,  6.50s/it]\n",
      "Running inference: 100%|██████████| 1/1 [00:06<00:00,  6.88s/it]\n"
     ]
    },
    {
     "name": "stdout",
     "output_type": "stream",
     "text": [
      "Epoch: 242, Average Loss: 0.3398\n",
      "Validation: {'precision': 0.4312712725097056, 'recall': 0.32103425084513454, 'f1': 0.3578760553143329, 'auc': 0.7484970453884907, 'prauc': 0.4484748102281164}\n",
      "Test:       {'precision': 0.43144754906649285, 'recall': 0.31923030460223506, 'f1': 0.35266942518935135, 'auc': 0.7554258495198328, 'prauc': 0.44134252663013956}\n"
     ]
    },
    {
     "name": "stderr",
     "output_type": "stream",
     "text": [
      "Training Batches: 100%|██████████| 1/1 [00:06<00:00,  6.80s/it]\n",
      "Running inference: 100%|██████████| 1/1 [00:06<00:00,  6.36s/it]\n",
      "Running inference: 100%|██████████| 1/1 [00:06<00:00,  6.81s/it]\n"
     ]
    },
    {
     "name": "stdout",
     "output_type": "stream",
     "text": [
      "Epoch: 243, Average Loss: 0.3378\n",
      "Validation: {'precision': 0.4290237731093582, 'recall': 0.3208852036494366, 'f1': 0.35406518219169647, 'auc': 0.7478672983869535, 'prauc': 0.447715993321389}\n",
      "Test:       {'precision': 0.43104399754648326, 'recall': 0.3172799546677201, 'f1': 0.34773740135137127, 'auc': 0.7549694114974478, 'prauc': 0.4403942274555859}\n"
     ]
    },
    {
     "name": "stderr",
     "output_type": "stream",
     "text": [
      "Training Batches: 100%|██████████| 1/1 [00:06<00:00,  6.69s/it]\n",
      "Running inference: 100%|██████████| 1/1 [00:06<00:00,  6.54s/it]\n",
      "Running inference: 100%|██████████| 1/1 [00:07<00:00,  7.08s/it]\n"
     ]
    },
    {
     "name": "stdout",
     "output_type": "stream",
     "text": [
      "Epoch: 244, Average Loss: 0.3372\n",
      "Validation: {'precision': 0.4299078507625074, 'recall': 0.31882440924408506, 'f1': 0.3521882870269099, 'auc': 0.7475673392422049, 'prauc': 0.44800331550872546}\n",
      "Test:       {'precision': 0.4341876226822084, 'recall': 0.3188707660014873, 'f1': 0.34862316215305694, 'auc': 0.7543211478488443, 'prauc': 0.440201888863108}\n"
     ]
    },
    {
     "name": "stderr",
     "output_type": "stream",
     "text": [
      "Training Batches: 100%|██████████| 1/1 [00:06<00:00,  6.52s/it]\n",
      "Running inference: 100%|██████████| 1/1 [00:06<00:00,  6.32s/it]\n",
      "Running inference: 100%|██████████| 1/1 [00:06<00:00,  6.40s/it]\n"
     ]
    },
    {
     "name": "stdout",
     "output_type": "stream",
     "text": [
      "Epoch: 245, Average Loss: 0.3386\n",
      "Validation: {'precision': 0.43385185199712945, 'recall': 0.32114303456355325, 'f1': 0.35609228248853486, 'auc': 0.7481139743502763, 'prauc': 0.4499597987941206}\n",
      "Test:       {'precision': 0.4350511581633869, 'recall': 0.3183885557785887, 'f1': 0.34960399552893123, 'auc': 0.7542870534270611, 'prauc': 0.4412702343230218}\n"
     ]
    },
    {
     "name": "stderr",
     "output_type": "stream",
     "text": [
      "Training Batches: 100%|██████████| 1/1 [00:07<00:00,  7.14s/it]\n",
      "Running inference: 100%|██████████| 1/1 [00:06<00:00,  6.11s/it]\n",
      "Running inference: 100%|██████████| 1/1 [00:06<00:00,  6.91s/it]\n"
     ]
    },
    {
     "name": "stdout",
     "output_type": "stream",
     "text": [
      "Epoch: 246, Average Loss: 0.3386\n",
      "Validation: {'precision': 0.4407524758963327, 'recall': 0.3204255399139537, 'f1': 0.35986423831708714, 'auc': 0.7483511119999222, 'prauc': 0.45229608434450363}\n",
      "Test:       {'precision': 0.44039982381690557, 'recall': 0.3160661908736591, 'f1': 0.3528606510949738, 'auc': 0.7539753778645247, 'prauc': 0.4427197893520373}\n"
     ]
    },
    {
     "name": "stderr",
     "output_type": "stream",
     "text": [
      "Training Batches: 100%|██████████| 1/1 [00:06<00:00,  6.82s/it]\n",
      "Running inference: 100%|██████████| 1/1 [00:06<00:00,  6.93s/it]\n",
      "Running inference: 100%|██████████| 1/1 [00:07<00:00,  7.28s/it]\n"
     ]
    },
    {
     "name": "stdout",
     "output_type": "stream",
     "text": [
      "Epoch: 247, Average Loss: 0.3413\n",
      "Validation: {'precision': 0.4419999066887646, 'recall': 0.31918864769624683, 'f1': 0.3598763425719523, 'auc': 0.748184862342216, 'prauc': 0.45269917903149853}\n",
      "Test:       {'precision': 0.43889641947839114, 'recall': 0.31502699390047595, 'f1': 0.35293287065364415, 'auc': 0.7536014151464742, 'prauc': 0.44281142538112084}\n"
     ]
    },
    {
     "name": "stderr",
     "output_type": "stream",
     "text": [
      "Training Batches: 100%|██████████| 1/1 [00:06<00:00,  6.56s/it]\n",
      "Running inference: 100%|██████████| 1/1 [00:06<00:00,  6.35s/it]\n",
      "Running inference: 100%|██████████| 1/1 [00:06<00:00,  6.26s/it]\n"
     ]
    },
    {
     "name": "stdout",
     "output_type": "stream",
     "text": [
      "Epoch: 248, Average Loss: 0.3415\n",
      "Validation: {'precision': 0.4452603997236002, 'recall': 0.31665942880248, 'f1': 0.3587480889064837, 'auc': 0.7480742929725466, 'prauc': 0.4527247532144061}\n",
      "Test:       {'precision': 0.4390628535805382, 'recall': 0.31189135048796285, 'f1': 0.3512200702394799, 'auc': 0.7528976677952552, 'prauc': 0.44293774873271824}\n"
     ]
    },
    {
     "name": "stderr",
     "output_type": "stream",
     "text": [
      "Training Batches: 100%|██████████| 1/1 [00:07<00:00,  7.09s/it]\n",
      "Running inference: 100%|██████████| 1/1 [00:06<00:00,  6.27s/it]\n",
      "Running inference: 100%|██████████| 1/1 [00:07<00:00,  7.03s/it]\n"
     ]
    },
    {
     "name": "stdout",
     "output_type": "stream",
     "text": [
      "Epoch: 249, Average Loss: 0.3358\n",
      "Validation: {'precision': 0.44876936697409625, 'recall': 0.3139226483830501, 'f1': 0.3576751883675556, 'auc': 0.7471878627591955, 'prauc': 0.45255308626336166}\n",
      "Test:       {'precision': 0.43771751567698597, 'recall': 0.3092433354372508, 'f1': 0.3492354131033853, 'auc': 0.7518580925906833, 'prauc': 0.4424779902149505}\n"
     ]
    },
    {
     "name": "stderr",
     "output_type": "stream",
     "text": [
      "Training Batches: 100%|██████████| 1/1 [00:06<00:00,  6.60s/it]\n",
      "Running inference: 100%|██████████| 1/1 [00:06<00:00,  6.35s/it]\n",
      "Running inference: 100%|██████████| 1/1 [00:06<00:00,  6.77s/it]\n"
     ]
    },
    {
     "name": "stdout",
     "output_type": "stream",
     "text": [
      "Epoch: 250, Average Loss: 0.3378\n",
      "Validation: {'precision': 0.444553834434306, 'recall': 0.31173307488720364, 'f1': 0.353899786437497, 'auc': 0.746862539811927, 'prauc': 0.4522761863831438}\n",
      "Test:       {'precision': 0.44156123790287904, 'recall': 0.3112411341306518, 'f1': 0.35138702668403593, 'auc': 0.7518380673632051, 'prauc': 0.4421321952590753}\n"
     ]
    },
    {
     "name": "stderr",
     "output_type": "stream",
     "text": [
      "Training Batches: 100%|██████████| 1/1 [00:06<00:00,  6.51s/it]\n",
      "Running inference: 100%|██████████| 1/1 [00:06<00:00,  6.38s/it]\n",
      "Running inference: 100%|██████████| 1/1 [00:06<00:00,  6.58s/it]\n"
     ]
    },
    {
     "name": "stdout",
     "output_type": "stream",
     "text": [
      "Epoch: 251, Average Loss: 0.3357\n",
      "Validation: {'precision': 0.44347169698407046, 'recall': 0.3153672754658502, 'f1': 0.3563187343675857, 'auc': 0.7470093198658323, 'prauc': 0.4522254133219574}\n",
      "Test:       {'precision': 0.44221633748417033, 'recall': 0.3136918679404969, 'f1': 0.3519344161672323, 'auc': 0.7524224250004508, 'prauc': 0.44212402666442285}\n"
     ]
    },
    {
     "name": "stderr",
     "output_type": "stream",
     "text": [
      "Training Batches: 100%|██████████| 1/1 [00:06<00:00,  6.77s/it]\n",
      "Running inference: 100%|██████████| 1/1 [00:06<00:00,  6.44s/it]\n",
      "Running inference: 100%|██████████| 1/1 [00:06<00:00,  6.10s/it]\n"
     ]
    },
    {
     "name": "stdout",
     "output_type": "stream",
     "text": [
      "Epoch: 252, Average Loss: 0.3384\n",
      "Validation: {'precision': 0.4373000829669164, 'recall': 0.31930319559606735, 'f1': 0.35716796564998193, 'auc': 0.7472853917238882, 'prauc': 0.45225000968313567}\n",
      "Test:       {'precision': 0.4398477120705668, 'recall': 0.31693218684356456, 'f1': 0.35146279647871803, 'auc': 0.7532772691248033, 'prauc': 0.44255140482519406}\n"
     ]
    },
    {
     "name": "stderr",
     "output_type": "stream",
     "text": [
      "Training Batches: 100%|██████████| 1/1 [00:07<00:00,  7.00s/it]\n",
      "Running inference: 100%|██████████| 1/1 [00:06<00:00,  6.58s/it]\n",
      "Running inference: 100%|██████████| 1/1 [00:06<00:00,  6.76s/it]\n"
     ]
    },
    {
     "name": "stdout",
     "output_type": "stream",
     "text": [
      "Epoch: 253, Average Loss: 0.3378\n",
      "Validation: {'precision': 0.4353746578872671, 'recall': 0.3299722671682038, 'f1': 0.36340397981371997, 'auc': 0.7471464031217446, 'prauc': 0.45207754385991133}\n",
      "Test:       {'precision': 0.4390375270341565, 'recall': 0.3255876196478231, 'f1': 0.3562153758346034, 'auc': 0.754186156136893, 'prauc': 0.44263389620905935}\n"
     ]
    },
    {
     "name": "stderr",
     "output_type": "stream",
     "text": [
      "Training Batches: 100%|██████████| 1/1 [00:07<00:00,  7.10s/it]\n",
      "Running inference: 100%|██████████| 1/1 [00:06<00:00,  6.85s/it]\n",
      "Running inference: 100%|██████████| 1/1 [00:06<00:00,  6.98s/it]\n"
     ]
    },
    {
     "name": "stdout",
     "output_type": "stream",
     "text": [
      "Epoch: 254, Average Loss: 0.3353\n",
      "Validation: {'precision': 0.4341522995576485, 'recall': 0.33321043863193683, 'f1': 0.3659039336594008, 'auc': 0.747480282253939, 'prauc': 0.4524363786591695}\n",
      "Test:       {'precision': 0.43658862206858723, 'recall': 0.3277931525970003, 'f1': 0.35779435608144605, 'auc': 0.7543645048783605, 'prauc': 0.44330907737468767}\n"
     ]
    },
    {
     "name": "stderr",
     "output_type": "stream",
     "text": [
      "Training Batches: 100%|██████████| 1/1 [00:06<00:00,  6.70s/it]\n",
      "Running inference: 100%|██████████| 1/1 [00:06<00:00,  6.36s/it]\n",
      "Running inference: 100%|██████████| 1/1 [00:06<00:00,  6.63s/it]\n"
     ]
    },
    {
     "name": "stdout",
     "output_type": "stream",
     "text": [
      "Epoch: 255, Average Loss: 0.3350\n",
      "Validation: {'precision': 0.43265320599532475, 'recall': 0.33295439782934094, 'f1': 0.3663892412647529, 'auc': 0.7475019876347635, 'prauc': 0.4535740764812627}\n",
      "Test:       {'precision': 0.43587624394317304, 'recall': 0.3313215179064796, 'f1': 0.3616286795111477, 'auc': 0.7538411315689609, 'prauc': 0.4436076874498654}\n"
     ]
    },
    {
     "name": "stderr",
     "output_type": "stream",
     "text": [
      "Training Batches: 100%|██████████| 1/1 [00:07<00:00,  7.19s/it]\n",
      "Running inference: 100%|██████████| 1/1 [00:06<00:00,  6.45s/it]\n",
      "Running inference:   0%|          | 0/1 [00:00<?, ?it/s]"
     ]
    }
   ],
   "source": [
    "final_metrics, final_long_seq_metrics = [], []\n",
    "\n",
    "for seed in seeds:\n",
    "    set_random_seed(seed)\n",
    "    print(f\"Training with seed: {seed}\")\n",
    "    \n",
    "    # Initialize model, optimizer, and loss function\n",
    "    model = SetGNN(args, tokenizer).to(device)\n",
    "    optimizer = torch.optim.AdamW(model.parameters(), lr=args[\"lr\"])\n",
    "    \n",
    "    best_test_metric, best_test_long_seq_metric = train_with_early_stopping(\n",
    "        model, \n",
    "        train_dataloader, \n",
    "        val_dataloader, \n",
    "        test_dataloader,\n",
    "        optimizer, \n",
    "        loss_fn, \n",
    "        device, \n",
    "        args,\n",
    "        val_long_seq_idx,\n",
    "        test_long_seq_idx,\n",
    "        task_type=task_type,\n",
    "        eval_metric = \"prauc\")\n",
    "    \n",
    "    final_metrics.append(best_test_metric)\n",
    "    final_long_seq_metrics.append(best_test_long_seq_metric)"
   ]
  },
  {
   "cell_type": "code",
   "execution_count": null,
   "id": "ee9abd8e-1f4b-47bf-bed3-337489bcc79d",
   "metadata": {},
   "outputs": [],
   "source": [
    "import numpy as np\n",
    "def topk_avg_performance_formatted(performances, long_seq_performances, k=2):\n",
    "    metrics = [\"f1\", \"auc\", \"prauc\"]\n",
    "    scores = {m: np.array([p[m] for p in performances]) for m in metrics}\n",
    "\n",
    "    # 计算排名（值越大排名越靠前）\n",
    "    ranks = {m: (-scores[m]).argsort().argsort() + 1 for m in metrics}\n",
    "    avg_ranks = np.mean(np.stack([ranks[m] for m in metrics], axis=1), axis=1)\n",
    "\n",
    "    # 选 top-k\n",
    "    topk_idx = np.argsort(avg_ranks)[:k]\n",
    "    final_avg = {m: np.mean([performances[i][m] for i in topk_idx]) for m in performances[0].keys()}\n",
    "    final_std = {m: np.std([performances[i][m] for i in topk_idx], ddof=0) for m in performances[0].keys()}\n",
    "    final_long_seq_avg = {m: np.mean([long_seq_performances[i][m] for i in topk_idx]) for m in long_seq_performances[0].keys()}\n",
    "    final_long_seq_std = {m: np.std([long_seq_performances[i][m] for i in topk_idx], ddof=0) for m in long_seq_performances[0].keys()}\n",
    "\n",
    "    # 打印结果（转百分比，均保留两位小数）\n",
    "    print(\"Final Metrics:\")\n",
    "    for m in performances[0].keys():\n",
    "        mean_val = final_avg[m] * 100\n",
    "        std_val = final_std[m] * 100\n",
    "        print(f\"{m}: {mean_val:.2f} ± {std_val:.2f}\")\n",
    "    print(\"\\nFinal Long Sequence Metrics:\")\n",
    "    for m in long_seq_performances[0].keys():\n",
    "        mean_val = final_long_seq_avg[m] * 100\n",
    "        std_val = final_long_seq_std[m] * 100\n",
    "        print(f\"{m}: {mean_val:.2f} ± {std_val:.2f}\")"
   ]
  },
  {
   "cell_type": "code",
   "execution_count": null,
   "id": "e6e4b92e-35fc-46b9-8f3d-4713b4c71cd6",
   "metadata": {},
   "outputs": [],
   "source": [
    "def print_per_class_performance(dfs, col_name=\"prauc\"):\n",
    "    \"\"\"\n",
    "    输入一个 DataFrame 列表，对每个疾病在所有表格的指定列计算 mean ± std 并打印。\n",
    "\n",
    "    参数:\n",
    "        dfs (list[pd.DataFrame]): 多个表格组成的列表\n",
    "        col_name (str): 要计算的指标列名 (默认: \"prauc\")\n",
    "    \"\"\"\n",
    "    # 拼接所有表格\n",
    "    all_values = pd.concat(dfs, axis=0)\n",
    "\n",
    "    # 按疾病分组，计算 mean 和 std\n",
    "    grouped = all_values.groupby(all_values.index)[col_name].agg([\"mean\", \"std\"])\n",
    "\n",
    "    # 打印\n",
    "    for disease, row in grouped.iterrows():\n",
    "        mean_val = row[\"mean\"] * 100\n",
    "        std_val = row[\"std\"] * 100\n",
    "        print(f\"{disease}: {mean_val:.2f} ± {std_val:.2f}\")"
   ]
  },
  {
   "cell_type": "code",
   "execution_count": null,
   "id": "2a55c99e-6f60-468f-a7a7-1b67f170d599",
   "metadata": {},
   "outputs": [],
   "source": [
    "if task_type == \"binary\":\n",
    "    topk_avg_performance_formatted(final_metrics, final_long_seq_metrics)\n",
    "else:\n",
    "    final_metrics_global = [metrics[\"global\"] for metrics in final_metrics]\n",
    "    final_metrics_per_class = [metrics[\"per_class\"] for metrics in final_metrics]\n",
    "    final_long_seq_metrics_global = [metrics[\"global\"] for metrics in final_long_seq_metrics]\n",
    "    final_long_seq_metrics_per_class = [metrics[\"per_class\"] for metrics in final_long_seq_metrics]\n",
    "    topk_avg_performance_formatted(final_metrics_global, final_long_seq_metrics_global)\n",
    "    print(\"\\nPer-class performance, all patients:\")\n",
    "    print_per_class_performance(final_metrics_per_class, col_name=\"prauc\")\n",
    "    print(\"\\nPer-class performance, long seq:\")\n",
    "    print_per_class_performance(final_long_seq_metrics_per_class, col_name=\"prauc\")"
   ]
  }
 ],
 "metadata": {
  "kernelspec": {
   "display_name": "heart-cuda",
   "language": "python",
   "name": "heart-cuda"
  },
  "language_info": {
   "codemirror_mode": {
    "name": "ipython",
    "version": 3
   },
   "file_extension": ".py",
   "mimetype": "text/x-python",
   "name": "python",
   "nbconvert_exporter": "python",
   "pygments_lexer": "ipython3",
   "version": "3.10.18"
  }
 },
 "nbformat": 4,
 "nbformat_minor": 5
}
