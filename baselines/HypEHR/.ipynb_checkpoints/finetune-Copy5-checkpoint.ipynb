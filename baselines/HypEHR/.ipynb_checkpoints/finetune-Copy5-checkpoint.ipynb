{
 "cells": [
  {
   "cell_type": "code",
   "execution_count": 1,
   "id": "105bbf2f",
   "metadata": {},
   "outputs": [
    {
     "name": "stderr",
     "output_type": "stream",
     "text": [
      "Disabling PyTorch because PyTorch >= 2.1 is required but found 1.13.1\n",
      "None of PyTorch, TensorFlow >= 2.0, or Flax have been found. Models won't be available and only tokenizers, configuration and file/data utilities can be used.\n"
     ]
    }
   ],
   "source": [
    "import torch\n",
    "import random\n",
    "from model import SetGNN \n",
    "import pickle\n",
    "from tokenizer import EHRTokenizer\n",
    "from dataset import FinetuneHGDataset, batcher_SetGNN_finetune\n",
    "from torch.utils.data import DataLoader\n",
    "import torch.nn.functional as F\n",
    "from train import PHENO_ORDER, train_with_early_stopping\n",
    "from set_seed import set_random_seed"
   ]
  },
  {
   "cell_type": "code",
   "execution_count": 2,
   "id": "eb757cdd",
   "metadata": {},
   "outputs": [
    {
     "name": "stdout",
     "output_type": "stream",
     "text": [
      "cuda\n"
     ]
    }
   ],
   "source": [
    "device = torch.device(\"cuda\" if torch.cuda.is_available() else \"cpu\")\n",
    "print(device)"
   ]
  },
  {
   "cell_type": "code",
   "execution_count": 3,
   "id": "89793d45",
   "metadata": {},
   "outputs": [],
   "source": [
    "args = {\n",
    "    \"dataset\": \"MIMIC-IV\", \n",
    "    \"task\": \"stay\",  # options: death, stay, readmission, next_diag_6m, next_diag_12m\n",
    "    \"special_tokens\":[\"[PAD]\", \"[CLS]\"],\n",
    "    \"predicted_token_type\": [\"diag\", \"med\", \"lab\", \"pro\"],\n",
    "    \"batch_size\": 256,\n",
    "    \"lr\": 1e-3,\n",
    "    \"epochs\": 500,\n",
    "    \"model_name\": \"HG\",\n",
    "    \"early_stop_patience\": 10,\n",
    "    # model hyperparameters\n",
    "    \"level\": \"visit\",  # \"visit\" or \"patient\"\n",
    "    \"hg_all_num_layers\": 3,\n",
    "    \"hg_use_type_embed\": True,\n",
    "    \"MLP_num_layers\": 2,\n",
    "    \"hg_aggregate\": \"mean\",\n",
    "    \"hg_dropout\": 0.0,\n",
    "    \"normtype\": \"all_one\",\n",
    "    \"add_self_loop\": True,\n",
    "    \"hg_normalization\": \"ln\",\n",
    "    \"hg_hidden_size\": 48,\n",
    "    \"PMA\": True,\n",
    "    \"hg_num_heads\": 4,\n",
    "}"
   ]
  },
  {
   "cell_type": "code",
   "execution_count": 4,
   "id": "c32fba6c",
   "metadata": {},
   "outputs": [],
   "source": [
    "full_data_path = f\"/home/lideyi/HeteroGT-cuda/data_process/{args['dataset']}-processed/mimic.pkl\"\n",
    "\n",
    "if args[\"task\"] == \"next_diag_6m\":\n",
    "    finetune_data_path = f\"/home/lideyi/HeteroGT-cuda/data_process/{args['dataset']}-processed/mimic_nextdiag_6m.pkl\"\n",
    "elif args[\"task\"] == \"next_diag_12m\":\n",
    "    finetune_data_path = f\"/home/lideyi/HeteroGT-cuda/data_process/{args['dataset']}-processed/mimic_nextdiag_12m.pkl\"\n",
    "else:\n",
    "    finetune_data_path = f\"/home/lideyi/HeteroGT-cuda/data_process/{args['dataset']}-processed/mimic_downstream.pkl\""
   ]
  },
  {
   "cell_type": "code",
   "execution_count": 5,
   "id": "9ab08e48",
   "metadata": {},
   "outputs": [
    {
     "name": "stdout",
     "output_type": "stream",
     "text": [
      "Max admissions per patient: 8\n"
     ]
    }
   ],
   "source": [
    "ehr_full_data = pickle.load(open(full_data_path, 'rb'))\n",
    "diag_sentences = ehr_full_data[\"ICD9_CODE\"].values.tolist()\n",
    "med_sentences = ehr_full_data[\"NDC\"].values.tolist()\n",
    "lab_sentences = ehr_full_data[\"LAB_TEST\"].values.tolist()\n",
    "pro_sentences = ehr_full_data[\"PRO_CODE\"].values.tolist()\n",
    "age_gender_sentences = [\"[PAD]\"] + [str(c) + \"_\" + gender \\\n",
    "    for c in set(ehr_full_data[\"AGE\"].values.tolist()) for gender in [\"M\", \"F\"]] # PAD token special for age_gender vocabulary\n",
    "max_admissions = ehr_full_data.groupby(\"SUBJECT_ID\")[\"HADM_ID\"].nunique().max()\n",
    "args[\"max_adm_len\"] = max_admissions\n",
    "print(f\"Max admissions per patient: {max_admissions}\")"
   ]
  },
  {
   "cell_type": "code",
   "execution_count": 6,
   "id": "42864fb3",
   "metadata": {},
   "outputs": [
    {
     "name": "stdout",
     "output_type": "stream",
     "text": [
      "Age and gender vocabulary size: 41\n",
      "Global vocabulary size: 4207\n",
      "Label vocabulary size: 18\n"
     ]
    }
   ],
   "source": [
    "tokenizer = EHRTokenizer(age_gender_sentences, diag_sentences, med_sentences, lab_sentences, \n",
    "                         pro_sentences, special_tokens=args[\"special_tokens\"])\n",
    "args[\"age_gender_vocab_size\"] = tokenizer.token_number(\"age_gender\")\n",
    "args[\"global_vocab_size\"] = len(tokenizer.vocab.id2word)\n",
    "args[\"label_vocab_size\"] = len(PHENO_ORDER)\n",
    "print(f\"Age and gender vocabulary size: {args['age_gender_vocab_size']}\")\n",
    "print(f\"Global vocabulary size: {args['global_vocab_size']}\")\n",
    "print(f\"Label vocabulary size: {args['label_vocab_size']}\")"
   ]
  },
  {
   "cell_type": "code",
   "execution_count": 7,
   "id": "f7ff21ce",
   "metadata": {},
   "outputs": [
    {
     "name": "stdout",
     "output_type": "stream",
     "text": [
      "7621 15401 15621\n"
     ]
    }
   ],
   "source": [
    "train_data, val_data, test_data = pickle.load(open(finetune_data_path, 'rb'))\n",
    "\n",
    "# output: input_ids (a patient has multiple visits), labels\n",
    "train_dataset = FinetuneHGDataset(train_data, tokenizer, token_type=args[\"predicted_token_type\"], task=args[\"task\"], level=args[\"level\"])\n",
    "val_dataset = FinetuneHGDataset(val_data, tokenizer, token_type=args[\"predicted_token_type\"], task=args[\"task\"], level=args[\"level\"])\n",
    "test_dataset = FinetuneHGDataset(test_data, tokenizer, token_type=args[\"predicted_token_type\"], task=args[\"task\"], level=args[\"level\"])\n",
    "print(len(train_dataset), len(val_dataset), len(test_dataset))"
   ]
  },
  {
   "cell_type": "code",
   "execution_count": 8,
   "id": "42afdd7b",
   "metadata": {},
   "outputs": [
    {
     "name": "stdout",
     "output_type": "stream",
     "text": [
      "3379 3608\n"
     ]
    }
   ],
   "source": [
    "long_adm_seq_crite = 3\n",
    "val_long_seq_idx, test_long_seq_idx = [], []\n",
    "for i in range(len(val_dataset)):\n",
    "    hadm_id = list(val_dataset.records.keys())[i]\n",
    "    num_adms = len(val_dataset.records[hadm_id])\n",
    "    if num_adms >= long_adm_seq_crite:\n",
    "        val_long_seq_idx.append(i)\n",
    "for i in range(len(test_dataset)):\n",
    "    hadm_id = list(test_dataset.records.keys())[i]\n",
    "    num_adms = len(test_dataset.records[hadm_id])\n",
    "    if num_adms >= long_adm_seq_crite:\n",
    "        test_long_seq_idx.append(i)\n",
    "print(len(val_long_seq_idx), len(test_long_seq_idx))"
   ]
  },
  {
   "cell_type": "code",
   "execution_count": 9,
   "id": "d0769b44",
   "metadata": {},
   "outputs": [],
   "source": [
    "use_full_graph = True\n",
    "train_batch_size = len(train_dataset) if use_full_graph else args[\"batch_size\"]\n",
    "val_batch_size = len(val_dataset) if use_full_graph else args[\"batch_size\"]\n",
    "test_batch_size = len(test_dataset) if use_full_graph else args[\"batch_size\"]\n",
    "train_dataloader = DataLoader(train_dataset, collate_fn=batcher_SetGNN_finetune(device = device), batch_size = train_batch_size, shuffle = True)\n",
    "val_dataloader = DataLoader(val_dataset, collate_fn=batcher_SetGNN_finetune(device = device), batch_size = val_batch_size, shuffle = False)\n",
    "test_dataloader = DataLoader(test_dataset, collate_fn=batcher_SetGNN_finetune(device = device), batch_size = test_batch_size, shuffle = False)"
   ]
  },
  {
   "cell_type": "code",
   "execution_count": 10,
   "id": "92a62432",
   "metadata": {},
   "outputs": [],
   "source": [
    "if args[\"task\"] in [\"death\", \"stay\", \"readmission\"]:\n",
    "    eval_metric = \"prauc\"\n",
    "    task_type = \"binary\"\n",
    "    loss_fn = F.binary_cross_entropy_with_logits\n",
    "else:\n",
    "    eval_metric = \"prauc\"\n",
    "    task_type = \"l2r\"\n",
    "    loss_fn = lambda x, y: F.binary_cross_entropy_with_logits(x, y)"
   ]
  },
  {
   "cell_type": "code",
   "execution_count": 11,
   "id": "33afa400",
   "metadata": {},
   "outputs": [
    {
     "name": "stdout",
     "output_type": "stream",
     "text": [
      "[2746317213, 1181241943, 958682846, 3163119785, 1812140441]\n"
     ]
    }
   ],
   "source": [
    "random.seed(42)\n",
    "seeds = [random.randint(0, 2**32 - 1) for _ in range(5)]\n",
    "print(seeds)"
   ]
  },
  {
   "cell_type": "code",
   "execution_count": null,
   "id": "71af0347",
   "metadata": {},
   "outputs": [
    {
     "name": "stdout",
     "output_type": "stream",
     "text": [
      "[INFO] Random seed set to 2746317213\n",
      "Training with seed: 2746317213\n"
     ]
    },
    {
     "name": "stderr",
     "output_type": "stream",
     "text": [
      "Training Batches: 100%|██████████| 1/1 [00:02<00:00,  2.31s/it]\n",
      "Running inference: 100%|██████████| 1/1 [00:04<00:00,  4.23s/it]\n",
      "Running inference: 100%|██████████| 1/1 [00:04<00:00,  4.28s/it]\n"
     ]
    },
    {
     "name": "stdout",
     "output_type": "stream",
     "text": [
      "Epoch: 001, Average Loss: 0.7013\n",
      "Validation: {'precision': 0.3402522333155936, 'recall': 0.9950057625797253, 'f1': 0.5070974019775749, 'auc': 0.5543332786310435, 'prauc': 0.34200814389057393}\n",
      "Test:       {'precision': 0.3357018280470669, 'recall': 0.997122026091717, 'f1': 0.5022954584644641, 'auc': 0.5412741198857739, 'prauc': 0.3319851012969301}\n"
     ]
    },
    {
     "name": "stderr",
     "output_type": "stream",
     "text": [
      "Training Batches: 100%|██████████| 1/1 [00:01<00:00,  1.61s/it]\n",
      "Running inference: 100%|██████████| 1/1 [00:03<00:00,  3.77s/it]\n",
      "Running inference: 100%|██████████| 1/1 [00:03<00:00,  3.82s/it]\n"
     ]
    },
    {
     "name": "stdout",
     "output_type": "stream",
     "text": [
      "Epoch: 002, Average Loss: 0.6917\n",
      "Validation: {'precision': 0.3764115432870126, 'recall': 0.8643872454843173, 'f1': 0.5244449581874945, 'auc': 0.6489422360776236, 'prauc': 0.468420288381237}\n",
      "Test:       {'precision': 0.36434931786588975, 'recall': 0.8557175748256798, 'f1': 0.5110869149647072, 'auc': 0.6254834962984022, 'prauc': 0.43085147841793314}\n"
     ]
    },
    {
     "name": "stderr",
     "output_type": "stream",
     "text": [
      "Training Batches: 100%|██████████| 1/1 [00:02<00:00,  2.45s/it]\n",
      "Running inference: 100%|██████████| 1/1 [00:03<00:00,  3.82s/it]\n",
      "Running inference: 100%|██████████| 1/1 [00:03<00:00,  3.81s/it]\n"
     ]
    },
    {
     "name": "stdout",
     "output_type": "stream",
     "text": [
      "Epoch: 003, Average Loss: 0.6823\n",
      "Validation: {'precision': 0.466126461210858, 'recall': 0.6740299654232155, 'f1': 0.5511229730199483, 'auc': 0.68450446790844, 'prauc': 0.5332248441490418}\n",
      "Test:       {'precision': 0.44718898752033037, 'recall': 0.6669224865681755, 'f1': 0.5353869801763413, 'auc': 0.6657175106818756, 'prauc': 0.5075390415369498}\n"
     ]
    },
    {
     "name": "stderr",
     "output_type": "stream",
     "text": [
      "Training Batches: 100%|██████████| 1/1 [00:02<00:00,  2.03s/it]\n",
      "Running inference: 100%|██████████| 1/1 [00:04<00:00,  4.21s/it]\n",
      "Running inference: 100%|██████████| 1/1 [00:03<00:00,  3.40s/it]\n"
     ]
    },
    {
     "name": "stdout",
     "output_type": "stream",
     "text": [
      "Epoch: 004, Average Loss: 0.6753\n",
      "Validation: {'precision': 0.5038276660129895, 'recall': 0.5436035343823596, 'f1': 0.5229603571978729, 'auc': 0.6879266896366041, 'prauc': 0.538586320100928}\n",
      "Test:       {'precision': 0.4874113475168663, 'recall': 0.5274366845730479, 'f1': 0.5066347167171277, 'auc': 0.6700304532347627, 'prauc': 0.514705539165667}\n"
     ]
    },
    {
     "name": "stderr",
     "output_type": "stream",
     "text": [
      "Training Batches: 100%|██████████| 1/1 [00:02<00:00,  2.03s/it]\n",
      "Running inference: 100%|██████████| 1/1 [00:03<00:00,  3.70s/it]\n",
      "Running inference: 100%|██████████| 1/1 [00:04<00:00,  4.21s/it]\n"
     ]
    },
    {
     "name": "stdout",
     "output_type": "stream",
     "text": [
      "Epoch: 005, Average Loss: 0.6674\n",
      "Validation: {'precision': 0.5308076602819926, 'recall': 0.48981943910777986, 'f1': 0.5094905044975557, 'auc': 0.6949892388474685, 'prauc': 0.5445426989402271}\n",
      "Test:       {'precision': 0.5043768236754806, 'recall': 0.4643131235601222, 'f1': 0.4835164785240702, 'auc': 0.6773036712503134, 'prauc': 0.521698923388569}\n"
     ]
    },
    {
     "name": "stderr",
     "output_type": "stream",
     "text": [
      "Training Batches: 100%|██████████| 1/1 [00:02<00:00,  2.48s/it]\n",
      "Running inference: 100%|██████████| 1/1 [00:03<00:00,  3.77s/it]\n",
      "Running inference: 100%|██████████| 1/1 [00:03<00:00,  3.82s/it]\n"
     ]
    },
    {
     "name": "stdout",
     "output_type": "stream",
     "text": [
      "Epoch: 006, Average Loss: 0.6584\n",
      "Validation: {'precision': 0.5489293115345408, 'recall': 0.45793315405213614, 'f1': 0.49931929549010234, 'auc': 0.7048527023088196, 'prauc': 0.5518083154193095}\n",
      "Test:       {'precision': 0.5256260238695867, 'recall': 0.43092862624629524, 'f1': 0.4735898738039353, 'auc': 0.6873356411193543, 'prauc': 0.5304846806202803}\n"
     ]
    },
    {
     "name": "stderr",
     "output_type": "stream",
     "text": [
      "Training Batches: 100%|██████████| 1/1 [00:02<00:00,  2.04s/it]\n",
      "Running inference: 100%|██████████| 1/1 [00:03<00:00,  3.77s/it]\n",
      "Running inference: 100%|██████████| 1/1 [00:04<00:00,  4.72s/it]\n"
     ]
    },
    {
     "name": "stdout",
     "output_type": "stream",
     "text": [
      "Epoch: 007, Average Loss: 0.6495\n",
      "Validation: {'precision': 0.5600955794490798, 'recall': 0.4502497118700533, 'f1': 0.49920135806517285, 'auc': 0.7132906310050443, 'prauc': 0.5576613737823947}\n",
      "Test:       {'precision': 0.5375679683624874, 'recall': 0.4173062164228371, 'f1': 0.46986389656889854, 'auc': 0.6954409066715466, 'prauc': 0.5364180733885122}\n"
     ]
    },
    {
     "name": "stderr",
     "output_type": "stream",
     "text": [
      "Training Batches: 100%|██████████| 1/1 [00:01<00:00,  1.15s/it]\n",
      "Running inference: 100%|██████████| 1/1 [00:04<00:00,  4.14s/it]\n",
      "Running inference: 100%|██████████| 1/1 [00:04<00:00,  4.23s/it]\n"
     ]
    },
    {
     "name": "stdout",
     "output_type": "stream",
     "text": [
      "Epoch: 008, Average Loss: 0.6421\n",
      "Validation: {'precision': 0.5705925384038757, 'recall': 0.44948136765184504, 'f1': 0.502847314291492, 'auc': 0.7211150524812262, 'prauc': 0.5625047447108089}\n",
      "Test:       {'precision': 0.547588992677234, 'recall': 0.4161550268602913, 'f1': 0.47290962116849333, 'auc': 0.7032655451142663, 'prauc': 0.5410999928912001}\n"
     ]
    },
    {
     "name": "stderr",
     "output_type": "stream",
     "text": [
      "Training Batches: 100%|██████████| 1/1 [00:02<00:00,  2.05s/it]\n",
      "Running inference: 100%|██████████| 1/1 [00:04<00:00,  4.30s/it]\n",
      "Running inference: 100%|██████████| 1/1 [00:03<00:00,  3.37s/it]\n"
     ]
    },
    {
     "name": "stdout",
     "output_type": "stream",
     "text": [
      "Epoch: 009, Average Loss: 0.6326\n",
      "Validation: {'precision': 0.570075757574408, 'recall': 0.4625432193613858, 'f1': 0.51071049346247, 'auc': 0.7272894274290596, 'prauc': 0.5667880918073953}\n",
      "Test:       {'precision': 0.5495958853770522, 'recall': 0.4305448963921133, 'f1': 0.4828402317591181, 'auc': 0.7092278090120222, 'prauc': 0.5445322482996475}\n"
     ]
    },
    {
     "name": "stderr",
     "output_type": "stream",
     "text": [
      "Training Batches: 100%|██████████| 1/1 [00:02<00:00,  2.06s/it]\n",
      "Running inference: 100%|██████████| 1/1 [00:04<00:00,  4.21s/it]\n",
      "Running inference: 100%|██████████| 1/1 [00:03<00:00,  3.38s/it]\n"
     ]
    },
    {
     "name": "stdout",
     "output_type": "stream",
     "text": [
      "Epoch: 010, Average Loss: 0.6250\n",
      "Validation: {'precision': 0.569890009164597, 'recall': 0.4777180176709994, 'f1': 0.5197492113385597, 'auc': 0.7335932320141414, 'prauc': 0.5715018057566976}\n",
      "Test:       {'precision': 0.5486307837569674, 'recall': 0.44589409055939005, 'f1': 0.4919559645696736, 'auc': 0.7152398870096404, 'prauc': 0.5483791585014366}\n"
     ]
    },
    {
     "name": "stderr",
     "output_type": "stream",
     "text": [
      "Training Batches: 100%|██████████| 1/1 [00:02<00:00,  2.07s/it]\n",
      "Running inference: 100%|██████████| 1/1 [00:03<00:00,  3.83s/it]\n",
      "Running inference: 100%|██████████| 1/1 [00:03<00:00,  3.84s/it]\n"
     ]
    },
    {
     "name": "stdout",
     "output_type": "stream",
     "text": [
      "Epoch: 011, Average Loss: 0.6160\n",
      "Validation: {'precision': 0.5665340406707194, 'recall': 0.49231655781695677, 'f1': 0.5268242499052909, 'auc': 0.7386727635540311, 'prauc': 0.5757324650988919}\n",
      "Test:       {'precision': 0.5466092084360477, 'recall': 0.4623944742892126, 'f1': 0.5009874183785559, 'auc': 0.7200143449861522, 'prauc': 0.5515947883461703}\n"
     ]
    },
    {
     "name": "stderr",
     "output_type": "stream",
     "text": [
      "Training Batches: 100%|██████████| 1/1 [00:02<00:00,  2.48s/it]\n",
      "Running inference: 100%|██████████| 1/1 [00:03<00:00,  3.80s/it]\n",
      "Running inference: 100%|██████████| 1/1 [00:03<00:00,  3.84s/it]\n"
     ]
    },
    {
     "name": "stdout",
     "output_type": "stream",
     "text": [
      "Epoch: 012, Average Loss: 0.6078\n",
      "Validation: {'precision': 0.5695736853482589, 'recall': 0.5055704955810496, 'f1': 0.5356670348049671, 'auc': 0.7440104195615389, 'prauc': 0.5805259490527777}\n",
      "Test:       {'precision': 0.5482728077932943, 'recall': 0.47505755947721595, 'f1': 0.5090460476561267, 'auc': 0.7250720843664499, 'prauc': 0.5555723250397842}\n"
     ]
    },
    {
     "name": "stderr",
     "output_type": "stream",
     "text": [
      "Training Batches: 100%|██████████| 1/1 [00:01<00:00,  1.61s/it]\n",
      "Running inference: 100%|██████████| 1/1 [00:03<00:00,  3.72s/it]\n",
      "Running inference: 100%|██████████| 1/1 [00:04<00:00,  4.68s/it]\n"
     ]
    },
    {
     "name": "stdout",
     "output_type": "stream",
     "text": [
      "Epoch: 013, Average Loss: 0.5989\n",
      "Validation: {'precision': 0.5714900021488465, 'recall': 0.5105647329994034, 'f1': 0.5393121589591622, 'auc': 0.7497798876574489, 'prauc': 0.585926322057824}\n",
      "Test:       {'precision': 0.5499012941422463, 'recall': 0.4810053722170357, 'f1': 0.5131511566219362, 'auc': 0.7307542188349166, 'prauc': 0.5605673112372171}\n"
     ]
    },
    {
     "name": "stderr",
     "output_type": "stream",
     "text": [
      "Training Batches: 100%|██████████| 1/1 [00:01<00:00,  1.16s/it]\n",
      "Running inference: 100%|██████████| 1/1 [00:04<00:00,  4.13s/it]\n",
      "Running inference: 100%|██████████| 1/1 [00:04<00:00,  4.25s/it]\n"
     ]
    },
    {
     "name": "stdout",
     "output_type": "stream",
     "text": [
      "Epoch: 014, Average Loss: 0.5902\n",
      "Validation: {'precision': 0.5766804437664201, 'recall': 0.509220130617539, 'f1': 0.5408548353731869, 'auc': 0.7549532389627769, 'prauc': 0.5915449118538041}\n",
      "Test:       {'precision': 0.5554811341804968, 'recall': 0.47735993860230747, 'f1': 0.5134660975969396, 'auc': 0.7361016357309893, 'prauc': 0.5660749276527386}\n"
     ]
    },
    {
     "name": "stderr",
     "output_type": "stream",
     "text": [
      "Training Batches: 100%|██████████| 1/1 [00:02<00:00,  2.05s/it]\n",
      "Running inference: 100%|██████████| 1/1 [00:04<00:00,  4.24s/it]\n",
      "Running inference: 100%|██████████| 1/1 [00:03<00:00,  3.35s/it]\n"
     ]
    },
    {
     "name": "stdout",
     "output_type": "stream",
     "text": [
      "Epoch: 015, Average Loss: 0.5813\n",
      "Validation: {'precision': 0.586742507108758, 'recall': 0.5151747983086532, 'f1': 0.5486345454955752, 'auc': 0.7572119222604468, 'prauc': 0.5951154257042282}\n",
      "Test:       {'precision': 0.5608001798144284, 'recall': 0.4787029930919442, 'f1': 0.5165096731172725, 'auc': 0.7389227911497276, 'prauc': 0.5703617155743005}\n"
     ]
    },
    {
     "name": "stderr",
     "output_type": "stream",
     "text": [
      "Training Batches: 100%|██████████| 1/1 [00:02<00:00,  2.04s/it]\n",
      "Running inference: 100%|██████████| 1/1 [00:04<00:00,  4.23s/it]\n",
      "Running inference: 100%|██████████| 1/1 [00:03<00:00,  3.31s/it]\n"
     ]
    },
    {
     "name": "stdout",
     "output_type": "stream",
     "text": [
      "Epoch: 016, Average Loss: 0.5748\n",
      "Validation: {'precision': 0.5892547660299193, 'recall': 0.5224740683816318, 'f1': 0.553858679602538, 'auc': 0.7597883247477116, 'prauc': 0.5994716809952778}\n",
      "Test:       {'precision': 0.5631801021528688, 'recall': 0.4865694551026735, 'f1': 0.5220792539035793, 'auc': 0.7416382540435409, 'prauc': 0.5744859809729512}\n"
     ]
    },
    {
     "name": "stderr",
     "output_type": "stream",
     "text": [
      "Training Batches: 100%|██████████| 1/1 [00:02<00:00,  2.06s/it]\n",
      "Running inference: 100%|██████████| 1/1 [00:03<00:00,  3.82s/it]\n",
      "Running inference: 100%|██████████| 1/1 [00:03<00:00,  3.78s/it]\n"
     ]
    },
    {
     "name": "stdout",
     "output_type": "stream",
     "text": [
      "Epoch: 017, Average Loss: 0.5660\n",
      "Validation: {'precision': 0.5868921775886112, 'recall': 0.5332308874365478, 'f1': 0.5587761624821702, 'auc': 0.7639026403495268, 'prauc': 0.6050045179947483}\n",
      "Test:       {'precision': 0.5643865363722814, 'recall': 0.498656945509404, 'f1': 0.5294896558105399, 'auc': 0.7455661303787892, 'prauc': 0.5791486355851166}\n"
     ]
    },
    {
     "name": "stderr",
     "output_type": "stream",
     "text": [
      "Training Batches: 100%|██████████| 1/1 [00:02<00:00,  2.47s/it]\n",
      "Running inference: 100%|██████████| 1/1 [00:03<00:00,  3.79s/it]\n",
      "Running inference: 100%|██████████| 1/1 [00:03<00:00,  3.78s/it]\n"
     ]
    },
    {
     "name": "stdout",
     "output_type": "stream",
     "text": [
      "Epoch: 018, Average Loss: 0.5578\n",
      "Validation: {'precision': 0.5901467505228718, 'recall': 0.5407222435640785, 'f1': 0.5643544456900551, 'auc': 0.7675700614807263, 'prauc': 0.6108044387285256}\n",
      "Test:       {'precision': 0.5678165845284598, 'recall': 0.5084420567910429, 'f1': 0.5364915427416341, 'auc': 0.7491647912725623, 'prauc': 0.5841156491249644}\n"
     ]
    },
    {
     "name": "stderr",
     "output_type": "stream",
     "text": [
      "Training Batches: 100%|██████████| 1/1 [00:02<00:00,  2.09s/it]\n",
      "Running inference: 100%|██████████| 1/1 [00:04<00:00,  4.24s/it]\n",
      "Running inference: 100%|██████████| 1/1 [00:03<00:00,  3.36s/it]\n"
     ]
    },
    {
     "name": "stdout",
     "output_type": "stream",
     "text": [
      "Epoch: 019, Average Loss: 0.5510\n",
      "Validation: {'precision': 0.5977277508929145, 'recall': 0.5457164809824324, 'f1': 0.5705392057733323, 'auc': 0.7711036064510015, 'prauc': 0.6165520575911932}\n",
      "Test:       {'precision': 0.5756002595704616, 'recall': 0.5105525709890435, 'f1': 0.541128617284245, 'auc': 0.7527579223865174, 'prauc': 0.5896133154159068}\n"
     ]
    },
    {
     "name": "stderr",
     "output_type": "stream",
     "text": [
      "Training Batches: 100%|██████████| 1/1 [00:02<00:00,  2.04s/it]\n",
      "Running inference: 100%|██████████| 1/1 [00:03<00:00,  3.73s/it]\n",
      "Running inference: 100%|██████████| 1/1 [00:04<00:00,  4.73s/it]\n"
     ]
    },
    {
     "name": "stdout",
     "output_type": "stream",
     "text": [
      "Epoch: 020, Average Loss: 0.5448\n",
      "Validation: {'precision': 0.5991552270314696, 'recall': 0.544948136764224, 'f1': 0.5707675234277401, 'auc': 0.7722467963833182, 'prauc': 0.6201189706002451}\n",
      "Test:       {'precision': 0.5805112519104643, 'recall': 0.5097851112806796, 'f1': 0.5428542191490553, 'auc': 0.7548565014764144, 'prauc': 0.5944042599613079}\n"
     ]
    },
    {
     "name": "stderr",
     "output_type": "stream",
     "text": [
      "Training Batches: 100%|██████████| 1/1 [00:01<00:00,  1.16s/it]\n",
      "Running inference: 100%|██████████| 1/1 [00:04<00:00,  4.14s/it]\n",
      "Running inference: 100%|██████████| 1/1 [00:04<00:00,  4.24s/it]\n"
     ]
    },
    {
     "name": "stdout",
     "output_type": "stream",
     "text": [
      "Epoch: 021, Average Loss: 0.5389\n",
      "Validation: {'precision': 0.6048030334935648, 'recall': 0.5514790626189945, 'f1': 0.5769114789841556, 'auc': 0.7785633847239679, 'prauc': 0.6279694785619441}\n",
      "Test:       {'precision': 0.584804132585913, 'recall': 0.5212970069061372, 'f1': 0.5512274245142486, 'auc': 0.7605748007048921, 'prauc': 0.600341525413341}\n"
     ]
    },
    {
     "name": "stderr",
     "output_type": "stream",
     "text": [
      "Training Batches: 100%|██████████| 1/1 [00:02<00:00,  2.05s/it]\n",
      "Running inference: 100%|██████████| 1/1 [00:04<00:00,  4.22s/it]\n",
      "Running inference: 100%|██████████| 1/1 [00:03<00:00,  3.31s/it]\n"
     ]
    },
    {
     "name": "stdout",
     "output_type": "stream",
     "text": [
      "Epoch: 022, Average Loss: 0.5350\n",
      "Validation: {'precision': 0.6040557148697172, 'recall': 0.566461774874056, 'f1': 0.584655030689962, 'auc': 0.7813725137385334, 'prauc': 0.6324038943973698}\n",
      "Test:       {'precision': 0.5801526717545282, 'recall': 0.5395241749797783, 'f1': 0.5591012973218054, 'auc': 0.7615382450263134, 'prauc': 0.6007261857666091}\n"
     ]
    },
    {
     "name": "stderr",
     "output_type": "stream",
     "text": [
      "Training Batches: 100%|██████████| 1/1 [00:02<00:00,  2.03s/it]\n",
      "Running inference: 100%|██████████| 1/1 [00:04<00:00,  4.32s/it]\n",
      "Running inference: 100%|██████████| 1/1 [00:03<00:00,  3.30s/it]\n"
     ]
    },
    {
     "name": "stdout",
     "output_type": "stream",
     "text": [
      "Epoch: 023, Average Loss: 0.5312\n",
      "Validation: {'precision': 0.6018947792771581, 'recall': 0.5735689588924826, 'f1': 0.5873905723598675, 'auc': 0.7796918785187121, 'prauc': 0.6317930204470956}\n",
      "Test:       {'precision': 0.574377656343707, 'recall': 0.5445126630841433, 'f1': 0.5590465822180622, 'auc': 0.7590532357064224, 'prauc': 0.5982638219654564}\n"
     ]
    },
    {
     "name": "stderr",
     "output_type": "stream",
     "text": [
      "Training Batches: 100%|██████████| 1/1 [00:02<00:00,  2.04s/it]\n",
      "Running inference: 100%|██████████| 1/1 [00:03<00:00,  3.74s/it]\n",
      "Running inference: 100%|██████████| 1/1 [00:03<00:00,  3.72s/it]\n"
     ]
    },
    {
     "name": "stdout",
     "output_type": "stream",
     "text": [
      "Epoch: 024, Average Loss: 0.5345\n",
      "Validation: {'precision': 0.6157563025197148, 'recall': 0.5630042258921187, 'f1': 0.5881998745994416, 'auc': 0.7859712178029764, 'prauc': 0.6399591227678854}\n",
      "Test:       {'precision': 0.5924039889654309, 'recall': 0.5356868764379592, 'f1': 0.5626196423666691, 'auc': 0.7657610706007634, 'prauc': 0.6081116021380397}\n"
     ]
    },
    {
     "name": "stderr",
     "output_type": "stream",
     "text": [
      "Training Batches: 100%|██████████| 1/1 [00:02<00:00,  2.45s/it]\n",
      "Running inference: 100%|██████████| 1/1 [00:03<00:00,  3.75s/it]\n",
      "Running inference: 100%|██████████| 1/1 [00:03<00:00,  3.79s/it]\n"
     ]
    },
    {
     "name": "stdout",
     "output_type": "stream",
     "text": [
      "Epoch: 025, Average Loss: 0.5242\n",
      "Validation: {'precision': 0.6257031588043581, 'recall': 0.5555128697645879, 'f1': 0.588522583539046, 'auc': 0.7884441255675676, 'prauc': 0.6434121387156553}\n",
      "Test:       {'precision': 0.6028027151289626, 'recall': 0.5282041442814117, 'f1': 0.5630432509772424, 'auc': 0.7686140406860555, 'prauc': 0.6128463478248698}\n"
     ]
    },
    {
     "name": "stderr",
     "output_type": "stream",
     "text": [
      "Training Batches: 100%|██████████| 1/1 [00:02<00:00,  2.04s/it]\n",
      "Running inference: 100%|██████████| 1/1 [00:04<00:00,  4.25s/it]\n",
      "Running inference: 100%|██████████| 1/1 [00:03<00:00,  3.35s/it]\n"
     ]
    },
    {
     "name": "stdout",
     "output_type": "stream",
     "text": [
      "Epoch: 026, Average Loss: 0.5203\n",
      "Validation: {'precision': 0.6333630686872583, 'recall': 0.5455243949278803, 'f1': 0.5861713056560637, 'auc': 0.7895699627528276, 'prauc': 0.6455648731893933}\n",
      "Test:       {'precision': 0.6066606660652416, 'recall': 0.5172678434372271, 'f1': 0.558409274235113, 'auc': 0.7696307183545263, 'prauc': 0.6153283330055087}\n"
     ]
    },
    {
     "name": "stderr",
     "output_type": "stream",
     "text": [
      "Training Batches: 100%|██████████| 1/1 [00:02<00:00,  2.03s/it]\n",
      "Running inference: 100%|██████████| 1/1 [00:03<00:00,  3.72s/it]\n",
      "Running inference: 100%|██████████| 1/1 [00:04<00:00,  4.72s/it]\n"
     ]
    },
    {
     "name": "stdout",
     "output_type": "stream",
     "text": [
      "Epoch: 027, Average Loss: 0.5216\n",
      "Validation: {'precision': 0.6381668946633877, 'recall': 0.5376488666912455, 'f1': 0.5836113378209788, 'auc': 0.7909950076467018, 'prauc': 0.6475766316117714}\n",
      "Test:       {'precision': 0.6125114573771483, 'recall': 0.512854950114135, 'f1': 0.5582706717297732, 'auc': 0.771017826756717, 'prauc': 0.6173025621646362}\n"
     ]
    },
    {
     "name": "stderr",
     "output_type": "stream",
     "text": [
      "Training Batches: 100%|██████████| 1/1 [00:01<00:00,  1.15s/it]\n",
      "Running inference: 100%|██████████| 1/1 [00:04<00:00,  4.14s/it]\n",
      "Running inference: 100%|██████████| 1/1 [00:04<00:00,  4.24s/it]\n"
     ]
    },
    {
     "name": "stdout",
     "output_type": "stream",
     "text": [
      "Epoch: 028, Average Loss: 0.5180\n",
      "Validation: {'precision': 0.6389332117605677, 'recall': 0.5384172109094537, 'f1': 0.5843844420278248, 'auc': 0.7922996195772901, 'prauc': 0.6495285148771245}\n",
      "Test:       {'precision': 0.6117593228080261, 'recall': 0.513046815041226, 'f1': 0.5580715801359563, 'auc': 0.7715308244304493, 'prauc': 0.6179719367650465}\n"
     ]
    },
    {
     "name": "stderr",
     "output_type": "stream",
     "text": [
      "Training Batches: 100%|██████████| 1/1 [00:02<00:00,  2.05s/it]\n",
      "Running inference: 100%|██████████| 1/1 [00:04<00:00,  4.28s/it]\n",
      "Running inference: 100%|██████████| 1/1 [00:03<00:00,  3.32s/it]\n"
     ]
    },
    {
     "name": "stdout",
     "output_type": "stream",
     "text": [
      "Epoch: 029, Average Loss: 0.5152\n",
      "Validation: {'precision': 0.6382452193461456, 'recall': 0.544948136764224, 'f1': 0.5879183454598771, 'auc': 0.792983084180418, 'prauc': 0.6503185524070031}\n",
      "Test:       {'precision': 0.6088709677405716, 'recall': 0.5214888718332281, 'f1': 0.5618023927137127, 'auc': 0.7717817289733995, 'prauc': 0.6177074036050579}\n"
     ]
    },
    {
     "name": "stderr",
     "output_type": "stream",
     "text": [
      "Training Batches: 100%|██████████| 1/1 [00:02<00:00,  2.06s/it]\n",
      "Running inference: 100%|██████████| 1/1 [00:04<00:00,  4.33s/it]\n",
      "Running inference: 100%|██████████| 1/1 [00:03<00:00,  3.32s/it]\n"
     ]
    },
    {
     "name": "stdout",
     "output_type": "stream",
     "text": [
      "Epoch: 030, Average Loss: 0.5149\n",
      "Validation: {'precision': 0.6344491243612626, 'recall': 0.5497502881280258, 'f1': 0.5890706958579567, 'auc': 0.7924226620470551, 'prauc': 0.6492265034896557}\n",
      "Test:       {'precision': 0.6067241760658998, 'recall': 0.5262854950105021, 'f1': 0.5636494350733605, 'auc': 0.771209793063105, 'prauc': 0.6156813774588497}\n"
     ]
    },
    {
     "name": "stderr",
     "output_type": "stream",
     "text": [
      "Training Batches: 100%|██████████| 1/1 [00:02<00:00,  2.06s/it]\n",
      "Running inference: 100%|██████████| 1/1 [00:03<00:00,  3.80s/it]\n",
      "Running inference: 100%|██████████| 1/1 [00:03<00:00,  3.80s/it]\n"
     ]
    },
    {
     "name": "stdout",
     "output_type": "stream",
     "text": [
      "Epoch: 031, Average Loss: 0.5118\n",
      "Validation: {'precision': 0.6278865185823007, 'recall': 0.5484056857461613, 'f1': 0.5854608788522435, 'auc': 0.7911765332075245, 'prauc': 0.6469780114815918}\n",
      "Test:       {'precision': 0.6009657594367845, 'recall': 0.5253261703750474, 'f1': 0.5606060556274639, 'auc': 0.770235362912445, 'prauc': 0.6128854220702507}\n"
     ]
    },
    {
     "name": "stderr",
     "output_type": "stream",
     "text": [
      "Training Batches: 100%|██████████| 1/1 [00:02<00:00,  2.50s/it]\n",
      "Running inference: 100%|██████████| 1/1 [00:03<00:00,  3.74s/it]\n",
      "Running inference: 100%|██████████| 1/1 [00:03<00:00,  3.77s/it]\n"
     ]
    },
    {
     "name": "stdout",
     "output_type": "stream",
     "text": [
      "Epoch: 032, Average Loss: 0.5145\n",
      "Validation: {'precision': 0.6365688487570281, 'recall': 0.5416826738368389, 'f1': 0.5853051008842628, 'auc': 0.7938500715117823, 'prauc': 0.6502373897758675}\n",
      "Test:       {'precision': 0.6097889537480696, 'recall': 0.5211051419790462, 'f1': 0.5619697860496555, 'auc': 0.7730518640998363, 'prauc': 0.6164014173348666}\n"
     ]
    },
    {
     "name": "stderr",
     "output_type": "stream",
     "text": [
      "Training Batches: 100%|██████████| 1/1 [00:02<00:00,  2.03s/it]\n",
      "Running inference: 100%|██████████| 1/1 [00:04<00:00,  4.28s/it]\n",
      "Running inference: 100%|██████████| 1/1 [00:03<00:00,  3.34s/it]\n"
     ]
    },
    {
     "name": "stdout",
     "output_type": "stream",
     "text": [
      "Epoch: 033, Average Loss: 0.5117\n",
      "Validation: {'precision': 0.6454164727765347, 'recall': 0.5328467153274437, 'f1': 0.5837542037986185, 'auc': 0.7968927749077392, 'prauc': 0.6537423637994894}\n",
      "Test:       {'precision': 0.617169373548452, 'recall': 0.5103607060619525, 'f1': 0.5587061492129856, 'auc': 0.7764714615067972, 'prauc': 0.6204446165569294}\n"
     ]
    },
    {
     "name": "stderr",
     "output_type": "stream",
     "text": [
      "Training Batches: 100%|██████████| 1/1 [00:02<00:00,  2.03s/it]\n",
      "Running inference: 100%|██████████| 1/1 [00:03<00:00,  3.76s/it]\n",
      "Running inference: 100%|██████████| 1/1 [00:04<00:00,  4.71s/it]\n"
     ]
    },
    {
     "name": "stdout",
     "output_type": "stream",
     "text": [
      "Epoch: 034, Average Loss: 0.5093\n",
      "Validation: {'precision': 0.6538369016101664, 'recall': 0.5220898962725277, 'f1': 0.5805831414889482, 'auc': 0.7992834125637279, 'prauc': 0.656350341224206}\n",
      "Test:       {'precision': 0.6253006252991214, 'recall': 0.4988488104364949, 'f1': 0.5549626418070125, 'auc': 0.7798279088282345, 'prauc': 0.62441009671215}\n"
     ]
    },
    {
     "name": "stderr",
     "output_type": "stream",
     "text": [
      "Training Batches: 100%|██████████| 1/1 [00:01<00:00,  1.13s/it]\n",
      "Running inference: 100%|██████████| 1/1 [00:04<00:00,  4.10s/it]\n",
      "Running inference: 100%|██████████| 1/1 [00:04<00:00,  4.21s/it]\n"
     ]
    },
    {
     "name": "stdout",
     "output_type": "stream",
     "text": [
      "Epoch: 035, Average Loss: 0.5071\n",
      "Validation: {'precision': 0.6591639871366333, 'recall': 0.5119093353812679, 'f1': 0.5762785116741997, 'auc': 0.8003526696193342, 'prauc': 0.6571547239422997}\n",
      "Test:       {'precision': 0.6330343796695739, 'recall': 0.4875287797381283, 'f1': 0.5508345929586806, 'auc': 0.7825379894030249, 'prauc': 0.6271863245187486}\n"
     ]
    },
    {
     "name": "stderr",
     "output_type": "stream",
     "text": [
      "Training Batches: 100%|██████████| 1/1 [00:02<00:00,  2.06s/it]\n",
      "Running inference: 100%|██████████| 1/1 [00:04<00:00,  4.22s/it]\n",
      "Running inference: 100%|██████████| 1/1 [00:03<00:00,  3.28s/it]\n"
     ]
    },
    {
     "name": "stdout",
     "output_type": "stream",
     "text": [
      "Epoch: 036, Average Loss: 0.5095\n",
      "Validation: {'precision': 0.6624397666734404, 'recall': 0.5017287744900082, 'f1': 0.57099136027056, 'auc': 0.8006319150744124, 'prauc': 0.6575862960100874}\n",
      "Test:       {'precision': 0.6375701888702462, 'recall': 0.47927858787321703, 'f1': 0.5472070049568515, 'auc': 0.783947410466782, 'prauc': 0.6292836355799935}\n"
     ]
    },
    {
     "name": "stderr",
     "output_type": "stream",
     "text": [
      "Training Batches: 100%|██████████| 1/1 [00:02<00:00,  2.03s/it]\n",
      "Running inference: 100%|██████████| 1/1 [00:04<00:00,  4.21s/it]\n",
      "Running inference: 100%|██████████| 1/1 [00:03<00:00,  3.26s/it]\n"
     ]
    },
    {
     "name": "stdout",
     "output_type": "stream",
     "text": [
      "Epoch: 037, Average Loss: 0.5103\n",
      "Validation: {'precision': 0.6655578300904157, 'recall': 0.4996158278899354, 'f1': 0.5707702386814659, 'auc': 0.8014649788215469, 'prauc': 0.6595570231266812}\n",
      "Test:       {'precision': 0.6402157164852589, 'recall': 0.47831926323776225, 'f1': 0.5475510603352608, 'auc': 0.7841022258690915, 'prauc': 0.6310743855134846}\n"
     ]
    },
    {
     "name": "stderr",
     "output_type": "stream",
     "text": [
      "Training Batches: 100%|██████████| 1/1 [00:02<00:00,  2.05s/it]\n",
      "Running inference: 100%|██████████| 1/1 [00:03<00:00,  3.74s/it]\n",
      "Running inference: 100%|██████████| 1/1 [00:03<00:00,  3.71s/it]\n"
     ]
    },
    {
     "name": "stdout",
     "output_type": "stream",
     "text": [
      "Epoch: 038, Average Loss: 0.5081\n",
      "Validation: {'precision': 0.6660019940162861, 'recall': 0.5132539377631324, 'f1': 0.579735295581655, 'auc': 0.8026635618877904, 'prauc': 0.6617471176070976}\n",
      "Test:       {'precision': 0.6362955566634142, 'recall': 0.489063699154856, 'f1': 0.5530483786816935, 'auc': 0.7839606819383456, 'prauc': 0.6315606751864127}\n"
     ]
    },
    {
     "name": "stderr",
     "output_type": "stream",
     "text": [
      "Training Batches: 100%|██████████| 1/1 [00:02<00:00,  2.49s/it]\n",
      "Running inference: 100%|██████████| 1/1 [00:03<00:00,  3.83s/it]\n",
      "Running inference: 100%|██████████| 1/1 [00:03<00:00,  3.81s/it]\n"
     ]
    },
    {
     "name": "stdout",
     "output_type": "stream",
     "text": [
      "Epoch: 039, Average Loss: 0.5029\n",
      "Validation: {'precision': 0.6626770884204625, 'recall': 0.5211294659997673, 'f1': 0.5834408552852838, 'auc': 0.802557909847486, 'prauc': 0.661928424956024}\n",
      "Test:       {'precision': 0.62919708029044, 'recall': 0.49616270145722147, 'f1': 0.5548165580380036, 'auc': 0.7829180143047293, 'prauc': 0.6304983361485075}\n"
     ]
    },
    {
     "name": "stderr",
     "output_type": "stream",
     "text": [
      "Training Batches: 100%|██████████| 1/1 [00:01<00:00,  1.61s/it]\n",
      "Running inference: 100%|██████████| 1/1 [00:03<00:00,  3.70s/it]\n",
      "Running inference: 100%|██████████| 1/1 [00:04<00:00,  4.70s/it]\n"
     ]
    },
    {
     "name": "stdout",
     "output_type": "stream",
     "text": [
      "Epoch: 040, Average Loss: 0.5041\n",
      "Validation: {'precision': 0.658554216865883, 'recall': 0.5249711870908087, 'f1': 0.5842240224245685, 'auc': 0.8020454762556578, 'prauc': 0.6620636163491544}\n",
      "Test:       {'precision': 0.6250596658696299, 'recall': 0.5024942440512231, 'f1': 0.5571155023967578, 'auc': 0.7820796259538962, 'prauc': 0.6300325844563969}\n"
     ]
    },
    {
     "name": "stderr",
     "output_type": "stream",
     "text": [
      "Training Batches: 100%|██████████| 1/1 [00:01<00:00,  1.18s/it]\n",
      "Running inference: 100%|██████████| 1/1 [00:04<00:00,  4.10s/it]\n",
      "Running inference: 100%|██████████| 1/1 [00:04<00:00,  4.25s/it]\n"
     ]
    },
    {
     "name": "stdout",
     "output_type": "stream",
     "text": [
      "Epoch: 041, Average Loss: 0.5018\n",
      "Validation: {'precision': 0.6576165305125958, 'recall': 0.5257395313090171, 'f1': 0.5843296278533355, 'auc': 0.8024225923346077, 'prauc': 0.6635598966704708}\n",
      "Test:       {'precision': 0.6274089935745244, 'recall': 0.5059478127388605, 'f1': 0.5601699366388175, 'auc': 0.7826327421802093, 'prauc': 0.63196124981142}\n"
     ]
    },
    {
     "name": "stderr",
     "output_type": "stream",
     "text": [
      "Training Batches: 100%|██████████| 1/1 [00:02<00:00,  2.04s/it]\n",
      "Running inference: 100%|██████████| 1/1 [00:04<00:00,  4.25s/it]\n",
      "Running inference: 100%|██████████| 1/1 [00:03<00:00,  3.39s/it]\n"
     ]
    },
    {
     "name": "stdout",
     "output_type": "stream",
     "text": [
      "Epoch: 042, Average Loss: 0.5023\n",
      "Validation: {'precision': 0.6630063445567033, 'recall': 0.5218978102179757, 'f1': 0.5840498660928709, 'auc': 0.8030332827949491, 'prauc': 0.6657665469945759}\n",
      "Test:       {'precision': 0.6318203766281222, 'recall': 0.5021105141970412, 'f1': 0.5595467130458408, 'auc': 0.7836203977209344, 'prauc': 0.6347916120460969}\n"
     ]
    },
    {
     "name": "stderr",
     "output_type": "stream",
     "text": [
      "Training Batches: 100%|██████████| 1/1 [00:02<00:00,  2.06s/it]\n",
      "Running inference: 100%|██████████| 1/1 [00:04<00:00,  4.27s/it]\n",
      "Running inference: 100%|██████████| 1/1 [00:03<00:00,  3.35s/it]\n"
     ]
    },
    {
     "name": "stdout",
     "output_type": "stream",
     "text": [
      "Epoch: 043, Average Loss: 0.4980\n",
      "Validation: {'precision': 0.6704856787031869, 'recall': 0.5170956588541739, 'f1': 0.5838846062956817, 'auc': 0.8044309608428951, 'prauc': 0.669446117040809}\n",
      "Test:       {'precision': 0.637663298001879, 'recall': 0.49635456638431247, 'f1': 0.5582047636598827, 'auc': 0.7857116959340706, 'prauc': 0.6396644876203517}\n"
     ]
    },
    {
     "name": "stderr",
     "output_type": "stream",
     "text": [
      "Training Batches: 100%|██████████| 1/1 [00:02<00:00,  2.06s/it]\n",
      "Running inference: 100%|██████████| 1/1 [00:03<00:00,  3.77s/it]\n",
      "Running inference: 100%|██████████| 1/1 [00:03<00:00,  3.81s/it]\n"
     ]
    },
    {
     "name": "stdout",
     "output_type": "stream",
     "text": [
      "Epoch: 044, Average Loss: 0.4963\n",
      "Validation: {'precision': 0.6760242792092159, 'recall': 0.5134460238176846, 'f1': 0.5836244492406063, 'auc': 0.8058895807587616, 'prauc': 0.6727175748035732}\n",
      "Test:       {'precision': 0.6430177366958706, 'recall': 0.49386032233212995, 'f1': 0.5586543629633127, 'auc': 0.7879032029738124, 'prauc': 0.6440257926403892}\n"
     ]
    },
    {
     "name": "stderr",
     "output_type": "stream",
     "text": [
      "Training Batches: 100%|██████████| 1/1 [00:02<00:00,  2.45s/it]\n",
      "Running inference: 100%|██████████| 1/1 [00:03<00:00,  3.73s/it]\n",
      "Running inference: 100%|██████████| 1/1 [00:03<00:00,  3.78s/it]\n"
     ]
    },
    {
     "name": "stdout",
     "output_type": "stream",
     "text": [
      "Epoch: 045, Average Loss: 0.4975\n",
      "Validation: {'precision': 0.677394438721222, 'recall': 0.5053784095264976, 'f1': 0.5788778828932614, 'auc': 0.8058950635485482, 'prauc': 0.6733103878743043}\n",
      "Test:       {'precision': 0.6460086712556847, 'recall': 0.48599386032140063, 'f1': 0.5546917721708482, 'auc': 0.7887345039901785, 'prauc': 0.6447881187488274}\n"
     ]
    },
    {
     "name": "stderr",
     "output_type": "stream",
     "text": [
      "Training Batches: 100%|██████████| 1/1 [00:02<00:00,  2.03s/it]\n",
      "Running inference: 100%|██████████| 1/1 [00:04<00:00,  4.24s/it]\n",
      "Running inference: 100%|██████████| 1/1 [00:03<00:00,  3.33s/it]\n"
     ]
    },
    {
     "name": "stdout",
     "output_type": "stream",
     "text": [
      "Epoch: 046, Average Loss: 0.4947\n",
      "Validation: {'precision': 0.6739851927478325, 'recall': 0.5071071840174662, 'f1': 0.5787569829314971, 'auc': 0.8043708008848582, 'prauc': 0.6715088850126105}\n",
      "Test:       {'precision': 0.6441361916755507, 'recall': 0.49002302379031076, 'f1': 0.5566089086794267, 'auc': 0.7876958915284289, 'prauc': 0.641505932730985}\n"
     ]
    },
    {
     "name": "stderr",
     "output_type": "stream",
     "text": [
      "Training Batches: 100%|██████████| 1/1 [00:02<00:00,  2.03s/it]\n",
      "Running inference: 100%|██████████| 1/1 [00:03<00:00,  3.69s/it]\n",
      "Running inference: 100%|██████████| 1/1 [00:04<00:00,  4.74s/it]\n"
     ]
    },
    {
     "name": "stdout",
     "output_type": "stream",
     "text": [
      "Epoch: 047, Average Loss: 0.4942\n",
      "Validation: {'precision': 0.6602316602300671, 'recall': 0.525547445254465, 'f1': 0.5852406367744836, 'auc': 0.8046059956096231, 'prauc': 0.6724965273132733}\n",
      "Test:       {'precision': 0.6358617378765342, 'recall': 0.5082501918639519, 'f1': 0.5649392145107747, 'auc': 0.7877843127077216, 'prauc': 0.640695304702906}\n"
     ]
    },
    {
     "name": "stderr",
     "output_type": "stream",
     "text": [
      "Training Batches: 100%|██████████| 1/1 [00:01<00:00,  1.13s/it]\n",
      "Running inference: 100%|██████████| 1/1 [00:04<00:00,  4.17s/it]\n",
      "Running inference: 100%|██████████| 1/1 [00:04<00:00,  4.20s/it]\n"
     ]
    },
    {
     "name": "stdout",
     "output_type": "stream",
     "text": [
      "Epoch: 048, Average Loss: 0.4918\n",
      "Validation: {'precision': 0.6510036496335515, 'recall': 0.5482135996916093, 'f1': 0.5952033318446697, 'auc': 0.8054249001934427, 'prauc': 0.6736959345867953}\n",
      "Test:       {'precision': 0.627473277233051, 'recall': 0.5293553338439575, 'f1': 0.5742532992287587, 'auc': 0.7882961767765911, 'prauc': 0.6407697146311335}\n"
     ]
    },
    {
     "name": "stderr",
     "output_type": "stream",
     "text": [
      "Training Batches: 100%|██████████| 1/1 [00:02<00:00,  2.04s/it]\n",
      "Running inference: 100%|██████████| 1/1 [00:04<00:00,  4.23s/it]\n",
      "Running inference: 100%|██████████| 1/1 [00:03<00:00,  3.35s/it]\n"
     ]
    },
    {
     "name": "stdout",
     "output_type": "stream",
     "text": [
      "Epoch: 049, Average Loss: 0.4906\n",
      "Validation: {'precision': 0.6527746319351013, 'recall': 0.5535920092190673, 'f1': 0.5991061170572896, 'auc': 0.8073914223920526, 'prauc': 0.6769870602548073}\n",
      "Test:       {'precision': 0.6289592760166766, 'recall': 0.5333844973128676, 'f1': 0.5772425199495504, 'auc': 0.790594602109117, 'prauc': 0.6443587889172461}\n"
     ]
    },
    {
     "name": "stderr",
     "output_type": "stream",
     "text": [
      "Training Batches: 100%|██████████| 1/1 [00:02<00:00,  2.03s/it]\n",
      "Running inference: 100%|██████████| 1/1 [00:04<00:00,  4.31s/it]\n",
      "Running inference: 100%|██████████| 1/1 [00:03<00:00,  3.33s/it]\n"
     ]
    },
    {
     "name": "stdout",
     "output_type": "stream",
     "text": [
      "Epoch: 050, Average Loss: 0.4951\n",
      "Validation: {'precision': 0.6725274725258302, 'recall': 0.5290049942364022, 'f1': 0.5921943827703149, 'auc': 0.8103025105713275, 'prauc': 0.6845214218929043}\n",
      "Test:       {'precision': 0.6479902557840488, 'recall': 0.5103607060619525, 'f1': 0.5709992437545586, 'auc': 0.7942692237449924, 'prauc': 0.6524217530271504}\n"
     ]
    },
    {
     "name": "stderr",
     "output_type": "stream",
     "text": [
      "Training Batches: 100%|██████████| 1/1 [00:02<00:00,  2.05s/it]\n",
      "Running inference: 100%|██████████| 1/1 [00:03<00:00,  3.78s/it]\n",
      "Running inference: 100%|██████████| 1/1 [00:03<00:00,  3.78s/it]\n"
     ]
    },
    {
     "name": "stdout",
     "output_type": "stream",
     "text": [
      "Epoch: 051, Average Loss: 0.4873\n",
      "Validation: {'precision': 0.6873533246396679, 'recall': 0.5063388397992579, 'f1': 0.5831213312490706, 'auc': 0.8105192126563137, 'prauc': 0.6864999181942505}\n",
      "Test:       {'precision': 0.6581980094272966, 'recall': 0.48215656177958144, 'f1': 0.5565891424047462, 'auc': 0.7949105583920049, 'prauc': 0.6547191242067912}\n"
     ]
    },
    {
     "name": "stderr",
     "output_type": "stream",
     "text": [
      "Training Batches: 100%|██████████| 1/1 [00:02<00:00,  2.48s/it]\n",
      "Running inference: 100%|██████████| 1/1 [00:03<00:00,  3.79s/it]\n",
      "Running inference: 100%|██████████| 1/1 [00:03<00:00,  3.84s/it]\n"
     ]
    },
    {
     "name": "stdout",
     "output_type": "stream",
     "text": [
      "Epoch: 052, Average Loss: 0.4857\n",
      "Validation: {'precision': 0.6891749868610374, 'recall': 0.503841721090081, 'f1': 0.5821127336901685, 'auc': 0.8107692919306713, 'prauc': 0.6891437953033079}\n",
      "Test:       {'precision': 0.6616719242884814, 'recall': 0.4829240214879453, 'f1': 0.5583407227160878, 'auc': 0.7949135905546052, 'prauc': 0.6571259725131195}\n"
     ]
    },
    {
     "name": "stderr",
     "output_type": "stream",
     "text": [
      "Training Batches: 100%|██████████| 1/1 [00:02<00:00,  2.04s/it]\n",
      "Running inference: 100%|██████████| 1/1 [00:04<00:00,  4.30s/it]\n",
      "Running inference: 100%|██████████| 1/1 [00:03<00:00,  3.39s/it]\n"
     ]
    },
    {
     "name": "stdout",
     "output_type": "stream",
     "text": [
      "Epoch: 053, Average Loss: 0.4874\n",
      "Validation: {'precision': 0.682559598492641, 'recall': 0.5224740683816318, 'f1': 0.591883359247546, 'auc': 0.811709288919847, 'prauc': 0.6922209325072824}\n",
      "Test:       {'precision': 0.6529499256305084, 'recall': 0.5053722179575876, 'f1': 0.569759891251247, 'auc': 0.7957464491256202, 'prauc': 0.6595085907881457}\n"
     ]
    },
    {
     "name": "stderr",
     "output_type": "stream",
     "text": [
      "Training Batches: 100%|██████████| 1/1 [00:02<00:00,  2.06s/it]\n",
      "Running inference: 100%|██████████| 1/1 [00:03<00:00,  3.70s/it]\n",
      "Running inference: 100%|██████████| 1/1 [00:04<00:00,  4.75s/it]\n"
     ]
    },
    {
     "name": "stdout",
     "output_type": "stream",
     "text": [
      "Epoch: 054, Average Loss: 0.4932\n",
      "Validation: {'precision': 0.6763575204212485, 'recall': 0.5407222435640785, 'f1': 0.6009820616705502, 'auc': 0.8131504053590406, 'prauc': 0.695033256011558}\n",
      "Test:       {'precision': 0.6512625059536654, 'recall': 0.5245587106666835, 'f1': 0.5810839482980564, 'auc': 0.7977316861618439, 'prauc': 0.6628882734517139}\n"
     ]
    },
    {
     "name": "stderr",
     "output_type": "stream",
     "text": [
      "Training Batches: 100%|██████████| 1/1 [00:01<00:00,  1.16s/it]\n",
      "Running inference: 100%|██████████| 1/1 [00:04<00:00,  4.18s/it]\n",
      "Running inference: 100%|██████████| 1/1 [00:04<00:00,  4.22s/it]\n"
     ]
    },
    {
     "name": "stdout",
     "output_type": "stream",
     "text": [
      "Epoch: 055, Average Loss: 0.4843\n",
      "Validation: {'precision': 0.6722222222206662, 'recall': 0.5578179024192128, 'f1': 0.6096997640950907, 'auc': 0.8143112589182475, 'prauc': 0.6972812643393718}\n",
      "Test:       {'precision': 0.6469641214336547, 'recall': 0.5397160399068693, 'f1': 0.5884937188889809, 'auc': 0.7997482033192393, 'prauc': 0.6666259604914689}\n"
     ]
    },
    {
     "name": "stderr",
     "output_type": "stream",
     "text": [
      "Training Batches: 100%|██████████| 1/1 [00:02<00:00,  2.03s/it]\n",
      "Running inference: 100%|██████████| 1/1 [00:04<00:00,  4.26s/it]\n",
      "Running inference: 100%|██████████| 1/1 [00:03<00:00,  3.31s/it]\n"
     ]
    },
    {
     "name": "stdout",
     "output_type": "stream",
     "text": [
      "Epoch: 056, Average Loss: 0.4798\n",
      "Validation: {'precision': 0.6643528884893319, 'recall': 0.5699193238559932, 'f1': 0.6135235682289925, 'auc': 0.8149336686062428, 'prauc': 0.6985819078020451}\n",
      "Test:       {'precision': 0.642487046630677, 'recall': 0.5471987720634167, 'f1': 0.5910268316280954, 'auc': 0.8014562232768782, 'prauc': 0.6699329086890441}\n"
     ]
    },
    {
     "name": "stderr",
     "output_type": "stream",
     "text": [
      "Training Batches: 100%|██████████| 1/1 [00:02<00:00,  2.04s/it]\n",
      "Running inference: 100%|██████████| 1/1 [00:04<00:00,  4.27s/it]\n",
      "Running inference: 100%|██████████| 1/1 [00:03<00:00,  3.33s/it]\n"
     ]
    },
    {
     "name": "stdout",
     "output_type": "stream",
     "text": [
      "Epoch: 057, Average Loss: 0.4812\n",
      "Validation: {'precision': 0.6632996632981745, 'recall': 0.5676142912013684, 'f1': 0.6117379103586236, 'auc': 0.8143179004419581, 'prauc': 0.6976742754181302}\n",
      "Test:       {'precision': 0.6444794243295604, 'recall': 0.5498848810426902, 'f1': 0.5934361685470624, 'auc': 0.8018808458528163, 'prauc': 0.6706735749984467}\n"
     ]
    },
    {
     "name": "stderr",
     "output_type": "stream",
     "text": [
      "Training Batches: 100%|██████████| 1/1 [00:02<00:00,  2.04s/it]\n",
      "Running inference: 100%|██████████| 1/1 [00:03<00:00,  3.72s/it]\n",
      "Running inference: 100%|██████████| 1/1 [00:03<00:00,  3.76s/it]\n"
     ]
    },
    {
     "name": "stdout",
     "output_type": "stream",
     "text": [
      "Epoch: 058, Average Loss: 0.4767\n",
      "Validation: {'precision': 0.663060626547976, 'recall': 0.5651171724921915, 'f1': 0.6101835478667867, 'auc': 0.8138155374726072, 'prauc': 0.6954759664422926}\n",
      "Test:       {'precision': 0.6448408218544935, 'recall': 0.5479662317717806, 'f1': 0.592469655855317, 'auc': 0.8025613497735407, 'prauc': 0.670057470044982}\n"
     ]
    },
    {
     "name": "stderr",
     "output_type": "stream",
     "text": [
      "Training Batches: 100%|██████████| 1/1 [00:02<00:00,  2.53s/it]\n",
      "Running inference: 100%|██████████| 1/1 [00:03<00:00,  3.86s/it]\n",
      "Running inference: 100%|██████████| 1/1 [00:03<00:00,  3.80s/it]\n"
     ]
    },
    {
     "name": "stdout",
     "output_type": "stream",
     "text": [
      "Epoch: 059, Average Loss: 0.4801\n",
      "Validation: {'precision': 0.6615521458735567, 'recall': 0.5714560122924098, 'f1': 0.6132124035588757, 'auc': 0.8154007231630158, 'prauc': 0.697441999096187}\n",
      "Test:       {'precision': 0.6471246363825305, 'recall': 0.5548733691470551, 'f1': 0.5974589352203462, 'auc': 0.8047713354941747, 'prauc': 0.674074303533644}\n"
     ]
    },
    {
     "name": "stderr",
     "output_type": "stream",
     "text": [
      "Training Batches: 100%|██████████| 1/1 [00:01<00:00,  1.62s/it]\n",
      "Running inference: 100%|██████████| 1/1 [00:03<00:00,  3.73s/it]\n",
      "Running inference: 100%|██████████| 1/1 [00:04<00:00,  4.69s/it]\n"
     ]
    },
    {
     "name": "stdout",
     "output_type": "stream",
     "text": [
      "Epoch: 060, Average Loss: 0.4798\n",
      "Validation: {'precision': 0.6585207612442506, 'recall': 0.5849020361110547, 'f1': 0.6195320397772025, 'auc': 0.8175982856013462, 'prauc': 0.7008934347290152}\n",
      "Test:       {'precision': 0.6446099912343457, 'recall': 0.5644666155016032, 'f1': 0.6018821554135358, 'auc': 0.807535736939379, 'prauc': 0.679987015637799}\n"
     ]
    },
    {
     "name": "stderr",
     "output_type": "stream",
     "text": [
      "Training Batches: 100%|██████████| 1/1 [00:01<00:00,  1.13s/it]\n",
      "Running inference: 100%|██████████| 1/1 [00:04<00:00,  4.17s/it]\n",
      "Running inference: 100%|██████████| 1/1 [00:04<00:00,  4.23s/it]\n"
     ]
    },
    {
     "name": "stdout",
     "output_type": "stream",
     "text": [
      "Epoch: 061, Average Loss: 0.4740\n",
      "Validation: {'precision': 0.6589891234790809, 'recall': 0.593545908565898, 'f1': 0.6245578525161771, 'auc': 0.8187221256191926, 'prauc': 0.701884778363004}\n",
      "Test:       {'precision': 0.6478014801901442, 'recall': 0.5709900230226957, 'f1': 0.6069753162505203, 'auc': 0.8091826528300271, 'prauc': 0.6826398689339022}\n"
     ]
    },
    {
     "name": "stderr",
     "output_type": "stream",
     "text": [
      "Training Batches: 100%|██████████| 1/1 [00:02<00:00,  2.05s/it]\n",
      "Running inference: 100%|██████████| 1/1 [00:04<00:00,  4.28s/it]\n",
      "Running inference: 100%|██████████| 1/1 [00:03<00:00,  3.31s/it]\n"
     ]
    },
    {
     "name": "stdout",
     "output_type": "stream",
     "text": [
      "Epoch: 062, Average Loss: 0.4741\n",
      "Validation: {'precision': 0.66163334751029, 'recall': 0.5975797157114914, 'f1': 0.6279773870181296, 'auc': 0.818655342978647, 'prauc': 0.7010381350372518}\n",
      "Test:       {'precision': 0.6438918918904997, 'recall': 0.5713737528768776, 'f1': 0.6054691421142656, 'auc': 0.8092638023488588, 'prauc': 0.68315020616524}\n"
     ]
    },
    {
     "name": "stderr",
     "output_type": "stream",
     "text": [
      "Training Batches: 100%|██████████| 1/1 [00:02<00:00,  2.07s/it]\n",
      "Running inference: 100%|██████████| 1/1 [00:04<00:00,  4.26s/it]\n",
      "Running inference: 100%|██████████| 1/1 [00:03<00:00,  3.34s/it]\n"
     ]
    },
    {
     "name": "stdout",
     "output_type": "stream",
     "text": [
      "Epoch: 063, Average Loss: 0.4781\n",
      "Validation: {'precision': 0.6766169154213555, 'recall': 0.574721475219795, 'f1': 0.621520560050558, 'auc': 0.819185025690921, 'prauc': 0.703551531994842}\n",
      "Test:       {'precision': 0.6585421936062117, 'recall': 0.5495011511885083, 'f1': 0.5991005075381762, 'auc': 0.8105476236803457, 'prauc': 0.6863755282777989}\n"
     ]
    },
    {
     "name": "stderr",
     "output_type": "stream",
     "text": [
      "Training Batches: 100%|██████████| 1/1 [00:02<00:00,  2.05s/it]\n",
      "Running inference: 100%|██████████| 1/1 [00:03<00:00,  3.82s/it]\n",
      "Running inference: 100%|██████████| 1/1 [00:03<00:00,  3.79s/it]\n"
     ]
    },
    {
     "name": "stdout",
     "output_type": "stream",
     "text": [
      "Epoch: 064, Average Loss: 0.4765\n",
      "Validation: {'precision': 0.6823420931289019, 'recall': 0.5685747214741288, 'f1': 0.6202849908489424, 'auc': 0.8205195574503106, 'prauc': 0.7080640206522739}\n",
      "Test:       {'precision': 0.6629950785079377, 'recall': 0.5427858787403247, 'f1': 0.5968984020533936, 'auc': 0.8113123737966, 'prauc': 0.6884937751377844}\n"
     ]
    },
    {
     "name": "stderr",
     "output_type": "stream",
     "text": [
      "Training Batches: 100%|██████████| 1/1 [00:02<00:00,  2.49s/it]\n",
      "Running inference: 100%|██████████| 1/1 [00:03<00:00,  3.77s/it]\n",
      "Running inference: 100%|██████████| 1/1 [00:03<00:00,  3.84s/it]\n"
     ]
    },
    {
     "name": "stdout",
     "output_type": "stream",
     "text": [
      "Epoch: 065, Average Loss: 0.4690\n",
      "Validation: {'precision': 0.6886402335181497, 'recall': 0.5437956204369117, 'f1': 0.607706338311292, 'auc': 0.8199721263257376, 'prauc': 0.7095355386388903}\n",
      "Test:       {'precision': 0.6778822365148989, 'recall': 0.5257099002292293, 'f1': 0.59217635124895, 'auc': 0.8109464866986309, 'prauc': 0.6880835190160655}\n"
     ]
    },
    {
     "name": "stderr",
     "output_type": "stream",
     "text": [
      "Training Batches: 100%|██████████| 1/1 [00:02<00:00,  2.04s/it]\n",
      "Running inference: 100%|██████████| 1/1 [00:04<00:00,  4.28s/it]\n",
      "Running inference: 100%|██████████| 1/1 [00:03<00:00,  3.34s/it]\n"
     ]
    },
    {
     "name": "stdout",
     "output_type": "stream",
     "text": [
      "Epoch: 066, Average Loss: 0.4726\n",
      "Validation: {'precision': 0.6863023420849627, 'recall': 0.5572416442555566, 'f1': 0.6150747326757897, 'auc': 0.8214513679372106, 'prauc': 0.7125302510307548}\n",
      "Test:       {'precision': 0.6735336888010821, 'recall': 0.5331926323857767, 'f1': 0.5952023938669523, 'auc': 0.8115150310106366, 'prauc': 0.6888931815123783}\n"
     ]
    },
    {
     "name": "stderr",
     "output_type": "stream",
     "text": [
      "Training Batches: 100%|██████████| 1/1 [00:02<00:00,  2.04s/it]\n",
      "Running inference: 100%|██████████| 1/1 [00:03<00:00,  3.69s/it]\n",
      "Running inference: 100%|██████████| 1/1 [00:04<00:00,  4.70s/it]\n"
     ]
    },
    {
     "name": "stdout",
     "output_type": "stream",
     "text": [
      "Epoch: 067, Average Loss: 0.4767\n",
      "Validation: {'precision': 0.6616936331148104, 'recall': 0.6048789857844701, 'f1': 0.6320120371563086, 'auc': 0.8226264371833384, 'prauc': 0.7155452806217034}\n",
      "Test:       {'precision': 0.6496097137887042, 'recall': 0.5748273215645149, 'f1': 0.6099348484376046, 'auc': 0.810618570755413, 'prauc': 0.6900273855608442}\n"
     ]
    },
    {
     "name": "stderr",
     "output_type": "stream",
     "text": [
      "Training Batches: 100%|██████████| 1/1 [00:01<00:00,  1.17s/it]\n",
      "Running inference: 100%|██████████| 1/1 [00:04<00:00,  4.18s/it]\n",
      "Running inference: 100%|██████████| 1/1 [00:04<00:00,  4.27s/it]\n"
     ]
    },
    {
     "name": "stdout",
     "output_type": "stream",
     "text": [
      "Epoch: 068, Average Loss: 0.4682\n",
      "Validation: {'precision': 0.6429942418413762, 'recall': 0.6434882827494363, 'f1': 0.6432411624334815, 'auc': 0.8220825199429413, 'prauc': 0.7128916512902419}\n",
      "Test:       {'precision': 0.6309758988529613, 'recall': 0.6128165771285249, 'f1': 0.6217636702967214, 'auc': 0.8090907847546476, 'prauc': 0.6869532444904581}\n"
     ]
    },
    {
     "name": "stderr",
     "output_type": "stream",
     "text": [
      "Training Batches: 100%|██████████| 1/1 [00:02<00:00,  2.02s/it]\n",
      "Running inference: 100%|██████████| 1/1 [00:04<00:00,  4.25s/it]\n",
      "Running inference: 100%|██████████| 1/1 [00:03<00:00,  3.35s/it]\n"
     ]
    },
    {
     "name": "stdout",
     "output_type": "stream",
     "text": [
      "Epoch: 069, Average Loss: 0.4652\n",
      "Validation: {'precision': 0.6329437545642204, 'recall': 0.6657702650774765, 'f1': 0.6489421406675853, 'auc': 0.8213647831933464, 'prauc': 0.7100306919348065}\n",
      "Test:       {'precision': 0.618171578748605, 'recall': 0.6318112049105299, 'f1': 0.6249169700444802, 'auc': 0.8080514073400232, 'prauc': 0.684185514224333}\n"
     ]
    },
    {
     "name": "stderr",
     "output_type": "stream",
     "text": [
      "Training Batches: 100%|██████████| 1/1 [00:02<00:00,  2.03s/it]\n",
      "Running inference: 100%|██████████| 1/1 [00:04<00:00,  4.30s/it]\n",
      "Running inference: 100%|██████████| 1/1 [00:03<00:00,  3.37s/it]\n"
     ]
    },
    {
     "name": "stdout",
     "output_type": "stream",
     "text": [
      "Epoch: 070, Average Loss: 0.4722\n",
      "Validation: {'precision': 0.641688855076756, 'recall': 0.6480983480586859, 'f1': 0.6448776708398697, 'auc': 0.822608519200221, 'prauc': 0.715764504195362}\n",
      "Test:       {'precision': 0.6292289535786207, 'recall': 0.6137759017639797, 'f1': 0.6214063664059373, 'auc': 0.8087523898786745, 'prauc': 0.687260192378321}\n"
     ]
    },
    {
     "name": "stderr",
     "output_type": "stream",
     "text": [
      "Training Batches: 100%|██████████| 1/1 [00:02<00:00,  2.06s/it]\n",
      "Running inference: 100%|██████████| 1/1 [00:03<00:00,  3.73s/it]\n",
      "Running inference: 100%|██████████| 1/1 [00:03<00:00,  3.76s/it]\n"
     ]
    },
    {
     "name": "stdout",
     "output_type": "stream",
     "text": [
      "Epoch: 071, Average Loss: 0.4668\n",
      "Validation: {'precision': 0.6479041916154733, 'recall': 0.6235113330760209, 'f1': 0.6354737616411603, 'auc': 0.8228420935816126, 'prauc': 0.7174469496541152}\n",
      "Test:       {'precision': 0.6404145077706934, 'recall': 0.5928626247110651, 'f1': 0.6157218242380487, 'auc': 0.8088593726855566, 'prauc': 0.6871459666301568}\n"
     ]
    },
    {
     "name": "stderr",
     "output_type": "stream",
     "text": [
      "Training Batches: 100%|██████████| 1/1 [00:02<00:00,  2.46s/it]\n",
      "Running inference: 100%|██████████| 1/1 [00:03<00:00,  3.80s/it]\n",
      "Running inference: 100%|██████████| 1/1 [00:03<00:00,  3.85s/it]\n"
     ]
    },
    {
     "name": "stdout",
     "output_type": "stream",
     "text": [
      "Epoch: 072, Average Loss: 0.4706\n",
      "Validation: {'precision': 0.6587942821614693, 'recall': 0.6108336534755843, 'f1': 0.6339080982651158, 'auc': 0.8233587947056977, 'prauc': 0.7196998500508087}\n",
      "Test:       {'precision': 0.6485961123096142, 'recall': 0.5761703760541517, 'f1': 0.6102418157843809, 'auc': 0.8099750241964732, 'prauc': 0.6907298600231669}\n"
     ]
    },
    {
     "name": "stderr",
     "output_type": "stream",
     "text": [
      "Training Batches: 100%|██████████| 1/1 [00:02<00:00,  2.06s/it]\n",
      "Running inference: 100%|██████████| 1/1 [00:04<00:00,  4.30s/it]\n",
      "Running inference: 100%|██████████| 1/1 [00:03<00:00,  3.30s/it]\n"
     ]
    },
    {
     "name": "stdout",
     "output_type": "stream",
     "text": [
      "Epoch: 073, Average Loss: 0.4629\n",
      "Validation: {'precision': 0.6649192702858777, 'recall': 0.6091048789846156, 'f1': 0.6357894686925323, 'auc': 0.8243424844423486, 'prauc': 0.7218669885504315}\n",
      "Test:       {'precision': 0.6515151515137413, 'recall': 0.5775134305437883, 'f1': 0.6122864067337246, 'auc': 0.8114568945921482, 'prauc': 0.6941822565533524}\n"
     ]
    },
    {
     "name": "stderr",
     "output_type": "stream",
     "text": [
      "Training Batches: 100%|██████████| 1/1 [00:02<00:00,  2.03s/it]\n",
      "Running inference: 100%|██████████| 1/1 [00:03<00:00,  3.81s/it]\n",
      "Running inference: 100%|██████████| 1/1 [00:04<00:00,  4.77s/it]\n"
     ]
    },
    {
     "name": "stdout",
     "output_type": "stream",
     "text": [
      "Epoch: 074, Average Loss: 0.4619\n",
      "Validation: {'precision': 0.6665968586373474, 'recall': 0.6114099116392405, 'f1': 0.637811837508797, 'auc': 0.8255278786671808, 'prauc': 0.7233465814098406}\n",
      "Test:       {'precision': 0.656745600693772, 'recall': 0.5800076745959708, 'f1': 0.6159959196231907, 'auc': 0.8133075920853957, 'prauc': 0.6971708563018479}\n"
     ]
    },
    {
     "name": "stderr",
     "output_type": "stream",
     "text": [
      "Training Batches: 100%|██████████| 1/1 [00:01<00:00,  1.14s/it]\n",
      "Running inference: 100%|██████████| 1/1 [00:04<00:00,  4.17s/it]\n",
      "Running inference: 100%|██████████| 1/1 [00:04<00:00,  4.21s/it]\n"
     ]
    },
    {
     "name": "stdout",
     "output_type": "stream",
     "text": [
      "Epoch: 075, Average Loss: 0.4620\n",
      "Validation: {'precision': 0.6593137254888495, 'recall': 0.6200537840940836, 'f1': 0.6390813650291808, 'auc': 0.8254398243095593, 'prauc': 0.7205483835729577}\n",
      "Test:       {'precision': 0.6494780793305857, 'recall': 0.5968917881799752, 'f1': 0.6220755798906803, 'auc': 0.8139369271102027, 'prauc': 0.6975890822741164}\n"
     ]
    },
    {
     "name": "stderr",
     "output_type": "stream",
     "text": [
      "Training Batches: 100%|██████████| 1/1 [00:02<00:00,  2.02s/it]\n",
      "Running inference: 100%|██████████| 1/1 [00:04<00:00,  4.22s/it]\n",
      "Running inference: 100%|██████████| 1/1 [00:03<00:00,  3.32s/it]\n"
     ]
    },
    {
     "name": "stdout",
     "output_type": "stream",
     "text": [
      "Epoch: 076, Average Loss: 0.4622\n",
      "Validation: {'precision': 0.6589795918353899, 'recall': 0.6202458701486357, 'f1': 0.6390263160007469, 'auc': 0.8266824015825103, 'prauc': 0.7218938119458809}\n",
      "Test:       {'precision': 0.6508962067514571, 'recall': 0.5991941673050668, 'f1': 0.62397601898333, 'auc': 0.8157441052362813, 'prauc': 0.7000509098778804}\n"
     ]
    },
    {
     "name": "stderr",
     "output_type": "stream",
     "text": [
      "Training Batches: 100%|██████████| 1/1 [00:02<00:00,  2.05s/it]\n",
      "Running inference: 100%|██████████| 1/1 [00:04<00:00,  4.28s/it]\n",
      "Running inference: 100%|██████████| 1/1 [00:03<00:00,  3.38s/it]\n"
     ]
    },
    {
     "name": "stdout",
     "output_type": "stream",
     "text": [
      "Epoch: 077, Average Loss: 0.4566\n",
      "Validation: {'precision': 0.6586450960552909, 'recall': 0.6256242796760937, 'f1': 0.6417101713393479, 'auc': 0.827494561016008, 'prauc': 0.7220658292807367}\n",
      "Test:       {'precision': 0.6491769547311745, 'recall': 0.6053338449719775, 'f1': 0.6264892722089933, 'auc': 0.8172267682337302, 'prauc': 0.7020415473314339}\n"
     ]
    },
    {
     "name": "stderr",
     "output_type": "stream",
     "text": [
      "Training Batches: 100%|██████████| 1/1 [00:02<00:00,  2.06s/it]\n",
      "Running inference: 100%|██████████| 1/1 [00:03<00:00,  3.70s/it]\n",
      "Running inference: 100%|██████████| 1/1 [00:03<00:00,  3.79s/it]\n"
     ]
    },
    {
     "name": "stdout",
     "output_type": "stream",
     "text": [
      "Epoch: 078, Average Loss: 0.4528\n",
      "Validation: {'precision': 0.66132305194671, 'recall': 0.6260084517851978, 'f1': 0.6431813646492273, 'auc': 0.8283188730248061, 'prauc': 0.7234937239488956}\n",
      "Test:       {'precision': 0.6517177535473119, 'recall': 0.60782808902416, 'f1': 0.6290082348539239, 'auc': 0.8187746089026359, 'prauc': 0.7046574608311797}\n"
     ]
    },
    {
     "name": "stderr",
     "output_type": "stream",
     "text": [
      "Training Batches: 100%|██████████| 1/1 [00:02<00:00,  2.52s/it]\n",
      "Running inference: 100%|██████████| 1/1 [00:03<00:00,  3.78s/it]\n",
      "Running inference: 100%|██████████| 1/1 [00:03<00:00,  3.78s/it]\n"
     ]
    },
    {
     "name": "stdout",
     "output_type": "stream",
     "text": [
      "Epoch: 079, Average Loss: 0.4508\n",
      "Validation: {'precision': 0.6669424906895595, 'recall': 0.6192854398758754, 'f1': 0.6422310707027961, 'auc': 0.8293927273337043, 'prauc': 0.7265862886519363}\n",
      "Test:       {'precision': 0.6625792811825315, 'recall': 0.6013046815030674, 'f1': 0.6304566435721415, 'auc': 0.820504397760159, 'prauc': 0.708233747891296}\n"
     ]
    },
    {
     "name": "stderr",
     "output_type": "stream",
     "text": [
      "Training Batches: 100%|██████████| 1/1 [00:02<00:00,  2.04s/it]\n",
      "Running inference: 100%|██████████| 1/1 [00:04<00:00,  4.25s/it]\n",
      "Running inference: 100%|██████████| 1/1 [00:03<00:00,  3.32s/it]\n"
     ]
    },
    {
     "name": "stdout",
     "output_type": "stream",
     "text": [
      "Epoch: 080, Average Loss: 0.4530\n",
      "Validation: {'precision': 0.6682454695208644, 'recall': 0.6233192470214689, 'f1': 0.645000988842971, 'auc': 0.8295917281093965, 'prauc': 0.7261934695139317}\n",
      "Test:       {'precision': 0.6592436974776067, 'recall': 0.6020721412114312, 'f1': 0.6293622092087697, 'auc': 0.821088692728347, 'prauc': 0.7085915467614752}\n"
     ]
    },
    {
     "name": "stderr",
     "output_type": "stream",
     "text": [
      "Training Batches: 100%|██████████| 1/1 [00:02<00:00,  2.05s/it]\n",
      "Running inference: 100%|██████████| 1/1 [00:03<00:00,  3.75s/it]\n",
      "Running inference: 100%|██████████| 1/1 [00:04<00:00,  4.66s/it]\n"
     ]
    },
    {
     "name": "stdout",
     "output_type": "stream",
     "text": [
      "Epoch: 081, Average Loss: 0.4506\n",
      "Validation: {'precision': 0.6772218703806687, 'recall': 0.6162120630030422, 'f1': 0.645278080094811, 'auc': 0.8308419360691639, 'prauc': 0.7309963538818146}\n",
      "Test:       {'precision': 0.6691957511366373, 'recall': 0.5922870299297922, 'f1': 0.6283969415821912, 'auc': 0.8219642043343593, 'prauc': 0.7106740865409348}\n"
     ]
    },
    {
     "name": "stderr",
     "output_type": "stream",
     "text": [
      "Training Batches: 100%|██████████| 1/1 [00:01<00:00,  1.15s/it]\n",
      "Running inference: 100%|██████████| 1/1 [00:04<00:00,  4.14s/it]\n",
      "Running inference: 100%|██████████| 1/1 [00:04<00:00,  4.23s/it]\n"
     ]
    },
    {
     "name": "stdout",
     "output_type": "stream",
     "text": [
      "Epoch: 082, Average Loss: 0.4613\n",
      "Validation: {'precision': 0.6988117001812184, 'recall': 0.5873991548202316, 'f1': 0.6382801035730234, 'auc': 0.8286819147258501, 'prauc': 0.7284615558179836}\n",
      "Test:       {'precision': 0.6839511966196998, 'recall': 0.5592862624701472, 'f1': 0.6153683716586443, 'auc': 0.8188204968588271, 'prauc': 0.7038837636308023}\n"
     ]
    },
    {
     "name": "stderr",
     "output_type": "stream",
     "text": [
      "Training Batches: 100%|██████████| 1/1 [00:02<00:00,  2.03s/it]\n",
      "Running inference: 100%|██████████| 1/1 [00:04<00:00,  4.22s/it]\n",
      "Running inference: 100%|██████████| 1/1 [00:03<00:00,  3.33s/it]\n"
     ]
    },
    {
     "name": "stdout",
     "output_type": "stream",
     "text": [
      "Epoch: 083, Average Loss: 0.4552\n",
      "Validation: {'precision': 0.6993155534559846, 'recall': 0.5691509796377849, 'f1': 0.6275547975505265, 'auc': 0.8259554985881344, 'prauc': 0.7230171898990421}\n",
      "Test:       {'precision': 0.6777385158994635, 'recall': 0.5519953952406907, 'f1': 0.6084381889814129, 'auc': 0.8157235252390579, 'prauc': 0.6971967530014411}\n"
     ]
    },
    {
     "name": "stderr",
     "output_type": "stream",
     "text": [
      "Training Batches: 100%|██████████| 1/1 [00:02<00:00,  2.08s/it]\n",
      "Running inference: 100%|██████████| 1/1 [00:03<00:00,  3.76s/it]\n",
      "Running inference: 100%|██████████| 1/1 [00:04<00:00,  4.17s/it]\n"
     ]
    },
    {
     "name": "stdout",
     "output_type": "stream",
     "text": [
      "Epoch: 084, Average Loss: 0.4512\n",
      "Validation: {'precision': 0.7068798449595279, 'recall': 0.5605071071829418, 'f1': 0.6252410492757656, 'auc': 0.8285299510109907, 'prauc': 0.7256084612906584}\n",
      "Test:       {'precision': 0.6841726618688629, 'recall': 0.5473906369905077, 'f1': 0.6081858829307696, 'auc': 0.8181816966942312, 'prauc': 0.6980900174044856}\n"
     ]
    },
    {
     "name": "stderr",
     "output_type": "stream",
     "text": [
      "Training Batches: 100%|██████████| 1/1 [00:02<00:00,  2.46s/it]\n",
      "Running inference: 100%|██████████| 1/1 [00:03<00:00,  3.80s/it]\n",
      "Running inference: 100%|██████████| 1/1 [00:03<00:00,  3.79s/it]\n"
     ]
    },
    {
     "name": "stdout",
     "output_type": "stream",
     "text": [
      "Epoch: 085, Average Loss: 0.4511\n",
      "Validation: {'precision': 0.7040913415777733, 'recall': 0.5685747214741288, 'f1': 0.6291179546727839, 'auc': 0.8307171884706164, 'prauc': 0.7294694360962531}\n",
      "Test:       {'precision': 0.6839121190628776, 'recall': 0.555448963928328, 'f1': 0.6130227584192822, 'auc': 0.8201053411995803, 'prauc': 0.7007197286116512}\n"
     ]
    },
    {
     "name": "stderr",
     "output_type": "stream",
     "text": [
      "Training Batches: 100%|██████████| 1/1 [00:02<00:00,  2.02s/it]\n",
      "Running inference: 100%|██████████| 1/1 [00:04<00:00,  4.27s/it]\n",
      "Running inference: 100%|██████████| 1/1 [00:03<00:00,  3.35s/it]\n"
     ]
    },
    {
     "name": "stdout",
     "output_type": "stream",
     "text": [
      "Epoch: 086, Average Loss: 0.4502\n",
      "Validation: {'precision': 0.6988558352386754, 'recall': 0.5866308106020234, 'f1': 0.6378446065655978, 'auc': 0.8316553672837976, 'prauc': 0.7324104155842466}\n",
      "Test:       {'precision': 0.6777067153936096, 'recall': 0.5692632386788771, 'f1': 0.6187695466527915, 'auc': 0.8210573480930775, 'prauc': 0.7037154293650818}\n"
     ]
    },
    {
     "name": "stderr",
     "output_type": "stream",
     "text": [
      "Training Batches: 100%|██████████| 1/1 [00:02<00:00,  2.02s/it]\n",
      "Running inference: 100%|██████████| 1/1 [00:03<00:00,  3.70s/it]\n",
      "Running inference: 100%|██████████| 1/1 [00:04<00:00,  4.19s/it]\n"
     ]
    },
    {
     "name": "stdout",
     "output_type": "stream",
     "text": [
      "Epoch: 087, Average Loss: 0.4476\n",
      "Validation: {'precision': 0.6901377165688802, 'recall': 0.5968113714932831, 'f1': 0.640090641914139, 'auc': 0.8320976268187178, 'prauc': 0.7341950063678621}\n",
      "Test:       {'precision': 0.6720214190078715, 'recall': 0.5778971603979702, 'f1': 0.621415303465281, 'auc': 0.8206365779304129, 'prauc': 0.7053169080873901}\n"
     ]
    },
    {
     "name": "stderr",
     "output_type": "stream",
     "text": [
      "Training Batches: 100%|██████████| 1/1 [00:02<00:00,  2.50s/it]\n",
      "Running inference: 100%|██████████| 1/1 [00:03<00:00,  3.77s/it]\n",
      "Running inference: 100%|██████████| 1/1 [00:03<00:00,  3.82s/it]\n"
     ]
    },
    {
     "name": "stdout",
     "output_type": "stream",
     "text": [
      "Epoch: 088, Average Loss: 0.4525\n",
      "Validation: {'precision': 0.6911603421787866, 'recall': 0.6052631578935742, 'f1': 0.6453660984512478, 'auc': 0.8325067823616956, 'prauc': 0.7350581481063965}\n",
      "Test:       {'precision': 0.6693069306915967, 'recall': 0.583653108210699, 'f1': 0.6235523164323576, 'auc': 0.8196522771227774, 'prauc': 0.7063620259263096}\n"
     ]
    },
    {
     "name": "stderr",
     "output_type": "stream",
     "text": [
      "Training Batches: 100%|██████████| 1/1 [00:02<00:00,  2.04s/it]\n",
      "Running inference: 100%|██████████| 1/1 [00:03<00:00,  3.72s/it]\n",
      "Running inference: 100%|██████████| 1/1 [00:04<00:00,  4.71s/it]\n"
     ]
    },
    {
     "name": "stdout",
     "output_type": "stream",
     "text": [
      "Epoch: 089, Average Loss: 0.4423\n",
      "Validation: {'precision': 0.688221206181824, 'recall': 0.607184018439095, 'f1': 0.6451678692911355, 'auc': 0.831097695965929, 'prauc': 0.7333501606691918}\n",
      "Test:       {'precision': 0.6656367247833467, 'recall': 0.5786646201063341, 'f1': 0.6191111517510638, 'auc': 0.8175023171620697, 'prauc': 0.7051163146816279}\n"
     ]
    },
    {
     "name": "stderr",
     "output_type": "stream",
     "text": [
      "Training Batches: 100%|██████████| 1/1 [00:01<00:00,  1.14s/it]\n",
      "Running inference: 100%|██████████| 1/1 [00:04<00:00,  4.16s/it]\n",
      "Running inference: 100%|██████████| 1/1 [00:04<00:00,  4.22s/it]\n"
     ]
    },
    {
     "name": "stdout",
     "output_type": "stream",
     "text": [
      "Epoch: 090, Average Loss: 0.4459\n",
      "Validation: {'precision': 0.6896245278811606, 'recall': 0.5962351133296269, 'f1': 0.6395384724125088, 'auc': 0.8304500202260303, 'prauc': 0.7322922111166508}\n",
      "Test:       {'precision': 0.6662189388836665, 'recall': 0.5709900230226957, 'f1': 0.6149395549002395, 'auc': 0.8165653420533784, 'prauc': 0.70448706209703}\n"
     ]
    },
    {
     "name": "stderr",
     "output_type": "stream",
     "text": [
      "Training Batches: 100%|██████████| 1/1 [00:02<00:00,  2.03s/it]\n",
      "Running inference: 100%|██████████| 1/1 [00:04<00:00,  4.24s/it]\n",
      "Running inference: 100%|██████████| 1/1 [00:03<00:00,  3.28s/it]\n"
     ]
    },
    {
     "name": "stdout",
     "output_type": "stream",
     "text": [
      "Epoch: 091, Average Loss: 0.4390\n",
      "Validation: {'precision': 0.6984090909075036, 'recall': 0.5902804456385127, 'f1': 0.6398084480840459, 'auc': 0.831873124476097, 'prauc': 0.7337607606141203}\n",
      "Test:       {'precision': 0.6726857142841768, 'recall': 0.564658480428694, 'f1': 0.6139563943275368, 'auc': 0.8178619371762451, 'prauc': 0.7059999428637174}\n"
     ]
    },
    {
     "name": "stderr",
     "output_type": "stream",
     "text": [
      "Training Batches: 100%|██████████| 1/1 [00:02<00:00,  2.03s/it]\n",
      "Running inference: 100%|██████████| 1/1 [00:04<00:00,  4.21s/it]\n",
      "Running inference: 100%|██████████| 1/1 [00:03<00:00,  3.34s/it]\n"
     ]
    },
    {
     "name": "stdout",
     "output_type": "stream",
     "text": [
      "Epoch: 092, Average Loss: 0.4407\n",
      "Validation: {'precision': 0.7075955265593952, 'recall': 0.5833653476746382, 'f1': 0.6395030483193289, 'auc': 0.8351468492705723, 'prauc': 0.7373511773746437}\n",
      "Test:       {'precision': 0.6825922421932767, 'recall': 0.5537221795845094, 'f1': 0.6114406730191335, 'auc': 0.8217061110776458, 'prauc': 0.7100343046833575}\n"
     ]
    },
    {
     "name": "stderr",
     "output_type": "stream",
     "text": [
      "Training Batches: 100%|██████████| 1/1 [00:02<00:00,  2.03s/it]\n",
      "Running inference: 100%|██████████| 1/1 [00:03<00:00,  3.70s/it]\n",
      "Running inference: 100%|██████████| 1/1 [00:03<00:00,  3.72s/it]\n"
     ]
    },
    {
     "name": "stdout",
     "output_type": "stream",
     "text": [
      "Epoch: 093, Average Loss: 0.4366\n",
      "Validation: {'precision': 0.710831950697533, 'recall': 0.5760660776016595, 'f1': 0.6363925679977797, 'auc': 0.8345765355061509, 'prauc': 0.7373680279938561}\n",
      "Test:       {'precision': 0.6899393939377214, 'recall': 0.5460475825008709, 'f1': 0.6096176452753073, 'auc': 0.8218076378351075, 'prauc': 0.7111113670682707}\n"
     ]
    },
    {
     "name": "stderr",
     "output_type": "stream",
     "text": [
      "Training Batches: 100%|██████████| 1/1 [00:02<00:00,  2.47s/it]\n",
      "Running inference: 100%|██████████| 1/1 [00:03<00:00,  3.74s/it]\n",
      "Running inference: 100%|██████████| 1/1 [00:03<00:00,  3.83s/it]\n"
     ]
    },
    {
     "name": "stdout",
     "output_type": "stream",
     "text": [
      "Epoch: 094, Average Loss: 0.4397\n",
      "Validation: {'precision': 0.7087784486746197, 'recall': 0.5862466384929192, 'f1': 0.6417157225455157, 'auc': 0.8354743282028111, 'prauc': 0.7393890856153608}\n",
      "Test:       {'precision': 0.6862093520040679, 'recall': 0.5546815042199642, 'f1': 0.6134747961158806, 'auc': 0.8218970543747675, 'prauc': 0.7119345805219854}\n"
     ]
    },
    {
     "name": "stderr",
     "output_type": "stream",
     "text": [
      "Training Batches: 100%|██████████| 1/1 [00:01<00:00,  1.81s/it]\n",
      "Running inference: 100%|██████████| 1/1 [00:03<00:00,  3.80s/it]\n",
      "Running inference: 100%|██████████| 1/1 [00:04<00:00,  4.93s/it]\n"
     ]
    },
    {
     "name": "stdout",
     "output_type": "stream",
     "text": [
      "Epoch: 095, Average Loss: 0.4349\n",
      "Validation: {'precision': 0.7021181716818236, 'recall': 0.6048789857844701, 'f1': 0.6498813282220834, 'auc': 0.8357782556325303, 'prauc': 0.740590918677301}\n",
      "Test:       {'precision': 0.6782866256535013, 'recall': 0.5711818879497866, 'f1': 0.6201437300630492, 'auc': 0.8219265833989964, 'prauc': 0.7127479316126413}\n"
     ]
    },
    {
     "name": "stderr",
     "output_type": "stream",
     "text": [
      "Training Batches: 100%|██████████| 1/1 [00:01<00:00,  1.21s/it]\n",
      "Running inference: 100%|██████████| 1/1 [00:04<00:00,  4.24s/it]\n",
      "Running inference: 100%|██████████| 1/1 [00:04<00:00,  4.42s/it]\n"
     ]
    },
    {
     "name": "stdout",
     "output_type": "stream",
     "text": [
      "Epoch: 096, Average Loss: 0.4310\n",
      "Validation: {'precision': 0.6907526881705576, 'recall': 0.6169804072212506, 'f1': 0.6517857093003037, 'auc': 0.8352251909885546, 'prauc': 0.7400555659495446}\n",
      "Test:       {'precision': 0.6691515018621593, 'recall': 0.5855717574816086, 'f1': 0.6245779137766634, 'auc': 0.8217368290045357, 'prauc': 0.7138320603804864}\n"
     ]
    },
    {
     "name": "stderr",
     "output_type": "stream",
     "text": [
      "Training Batches: 100%|██████████| 1/1 [00:02<00:00,  2.22s/it]\n",
      "Running inference: 100%|██████████| 1/1 [00:04<00:00,  4.53s/it]\n",
      "Running inference: 100%|██████████| 1/1 [00:03<00:00,  3.56s/it]\n"
     ]
    },
    {
     "name": "stdout",
     "output_type": "stream",
     "text": [
      "Epoch: 097, Average Loss: 0.4353\n",
      "Validation: {'precision': 0.7054979720578965, 'recall': 0.6014214368025328, 'f1': 0.6493156316956463, 'auc': 0.835517917323675, 'prauc': 0.7411397445831746}\n",
      "Test:       {'precision': 0.6812196812181076, 'recall': 0.5658096699912398, 'f1': 0.6181741906185134, 'auc': 0.8220937855080988, 'prauc': 0.7148304204934901}\n"
     ]
    },
    {
     "name": "stderr",
     "output_type": "stream",
     "text": [
      "Training Batches: 100%|██████████| 1/1 [00:02<00:00,  2.20s/it]\n",
      "Running inference: 100%|██████████| 1/1 [00:04<00:00,  4.55s/it]\n",
      "Running inference: 100%|██████████| 1/1 [00:03<00:00,  3.56s/it]\n"
     ]
    },
    {
     "name": "stdout",
     "output_type": "stream",
     "text": [
      "Epoch: 098, Average Loss: 0.4303\n",
      "Validation: {'precision': 0.7133712660011537, 'recall': 0.5779869381471802, 'f1': 0.6385823380077601, 'auc': 0.8360646795855764, 'prauc': 0.741558659794162}\n",
      "Test:       {'precision': 0.6910016977911934, 'recall': 0.5466231772821438, 'f1': 0.6103909966735934, 'auc': 0.8233690725460663, 'prauc': 0.7161335166351983}\n"
     ]
    },
    {
     "name": "stderr",
     "output_type": "stream",
     "text": [
      "Training Batches: 100%|██████████| 1/1 [00:02<00:00,  2.19s/it]\n",
      "Running inference: 100%|██████████| 1/1 [00:03<00:00,  3.96s/it]\n",
      "Running inference: 100%|██████████| 1/1 [00:04<00:00,  4.01s/it]\n"
     ]
    },
    {
     "name": "stdout",
     "output_type": "stream",
     "text": [
      "Epoch: 099, Average Loss: 0.4284\n",
      "Validation: {'precision': 0.7133697459018918, 'recall': 0.5770265078744199, 'f1': 0.6379951102716257, 'auc': 0.8360685231907876, 'prauc': 0.7405838897584677}\n",
      "Test:       {'precision': 0.6928903005113782, 'recall': 0.5441289332299614, 'f1': 0.609564745205336, 'auc': 0.8244652131505241, 'prauc': 0.7167397479550068}\n"
     ]
    },
    {
     "name": "stderr",
     "output_type": "stream",
     "text": [
      "Training Batches: 100%|██████████| 1/1 [00:02<00:00,  2.66s/it]\n",
      "Running inference: 100%|██████████| 1/1 [00:04<00:00,  4.00s/it]\n",
      "Running inference: 100%|██████████| 1/1 [00:04<00:00,  4.04s/it]\n"
     ]
    },
    {
     "name": "stdout",
     "output_type": "stream",
     "text": [
      "Epoch: 100, Average Loss: 0.4358\n",
      "Validation: {'precision': 0.7049034834685936, 'recall': 0.610257395311928, 'f1': 0.6541748122797731, 'auc': 0.8392295964384099, 'prauc': 0.7450959820404774}\n",
      "Test:       {'precision': 0.6826442526108981, 'recall': 0.5765541059083336, 'f1': 0.6251300137568878, 'auc': 0.8281829117711833, 'prauc': 0.7211858183225617}\n"
     ]
    },
    {
     "name": "stderr",
     "output_type": "stream",
     "text": [
      "Training Batches: 100%|██████████| 1/1 [00:02<00:00,  2.19s/it]\n",
      "Running inference: 100%|██████████| 1/1 [00:04<00:00,  4.51s/it]\n",
      "Running inference: 100%|██████████| 1/1 [00:03<00:00,  3.47s/it]\n"
     ]
    },
    {
     "name": "stdout",
     "output_type": "stream",
     "text": [
      "Epoch: 101, Average Loss: 0.4268\n",
      "Validation: {'precision': 0.682897139377799, 'recall': 0.6465616596222694, 'f1': 0.66423285144051, 'auc': 0.8410872541717719, 'prauc': 0.7461747966787392}\n",
      "Test:       {'precision': 0.660100502511236, 'recall': 0.6300844205667113, 'f1': 0.6447432952861171, 'auc': 0.8289209438346161, 'prauc': 0.7204152626353415}\n"
     ]
    },
    {
     "name": "stderr",
     "output_type": "stream",
     "text": [
      "Training Batches: 100%|██████████| 1/1 [00:02<00:00,  2.17s/it]\n",
      "Running inference: 100%|██████████| 1/1 [00:03<00:00,  3.89s/it]\n",
      "Running inference: 100%|██████████| 1/1 [00:05<00:00,  5.03s/it]\n"
     ]
    },
    {
     "name": "stdout",
     "output_type": "stream",
     "text": [
      "Epoch: 102, Average Loss: 0.4300\n",
      "Validation: {'precision': 0.6744689221072493, 'recall': 0.6586630810590498, 'f1': 0.6664722982064045, 'auc': 0.8400555664729854, 'prauc': 0.7429063027915375}\n",
      "Test:       {'precision': 0.6497471800843062, 'recall': 0.6410207214108959, 'f1': 0.6453544473845334, 'auc': 0.8278590786487312, 'prauc': 0.7182645826407489}\n"
     ]
    },
    {
     "name": "stderr",
     "output_type": "stream",
     "text": [
      "Training Batches: 100%|██████████| 1/1 [00:01<00:00,  1.20s/it]\n",
      "Running inference: 100%|██████████| 1/1 [00:04<00:00,  4.36s/it]\n",
      "Running inference: 100%|██████████| 1/1 [00:04<00:00,  4.53s/it]\n"
     ]
    },
    {
     "name": "stdout",
     "output_type": "stream",
     "text": [
      "Epoch: 103, Average Loss: 0.4234\n",
      "Validation: {'precision': 0.681937968780292, 'recall': 0.6461774875131653, 'f1': 0.663576284577225, 'auc': 0.8399105457410687, 'prauc': 0.7431532494785779}\n",
      "Test:       {'precision': 0.6580528846140664, 'recall': 0.6302762854938022, 'f1': 0.6438651459222696, 'auc': 0.8281986439947661, 'prauc': 0.7196577813653623}\n"
     ]
    },
    {
     "name": "stderr",
     "output_type": "stream",
     "text": [
      "Training Batches: 100%|██████████| 1/1 [00:02<00:00,  2.18s/it]\n",
      "Running inference: 100%|██████████| 1/1 [00:04<00:00,  4.57s/it]\n",
      "Running inference: 100%|██████████| 1/1 [00:03<00:00,  3.51s/it]\n"
     ]
    },
    {
     "name": "stdout",
     "output_type": "stream",
     "text": [
      "Epoch: 104, Average Loss: 0.4249\n",
      "Validation: {'precision': 0.7053768179799352, 'recall': 0.6148674606211778, 'f1': 0.6570196994556481, 'auc': 0.8413226184673549, 'prauc': 0.7467658812025527}\n",
      "Test:       {'precision': 0.6794394569724558, 'recall': 0.5953568687632476, 'f1': 0.6346252123228369, 'auc': 0.8299423863300303, 'prauc': 0.7222094087647154}\n"
     ]
    },
    {
     "name": "stderr",
     "output_type": "stream",
     "text": [
      "Training Batches: 100%|██████████| 1/1 [00:02<00:00,  2.17s/it]\n",
      "Running inference: 100%|██████████| 1/1 [00:04<00:00,  4.54s/it]\n",
      "Running inference: 100%|██████████| 1/1 [00:03<00:00,  3.55s/it]\n"
     ]
    },
    {
     "name": "stdout",
     "output_type": "stream",
     "text": [
      "Epoch: 105, Average Loss: 0.4210\n",
      "Validation: {'precision': 0.7255185721159539, 'recall': 0.5777948520926282, 'f1': 0.6432848539165806, 'auc': 0.8420756259471236, 'prauc': 0.7476105962999653}\n",
      "Test:       {'precision': 0.7040117416812525, 'recall': 0.5521872601677817, 'f1': 0.6189247262545007, 'auc': 0.831534538967879, 'prauc': 0.7231341724566089}\n"
     ]
    },
    {
     "name": "stderr",
     "output_type": "stream",
     "text": [
      "Training Batches: 100%|██████████| 1/1 [00:02<00:00,  2.19s/it]\n",
      "Running inference: 100%|██████████| 1/1 [00:03<00:00,  3.91s/it]\n",
      "Running inference: 100%|██████████| 1/1 [00:04<00:00,  4.01s/it]\n"
     ]
    },
    {
     "name": "stdout",
     "output_type": "stream",
     "text": [
      "Epoch: 106, Average Loss: 0.4212\n",
      "Validation: {'precision': 0.7306837817804723, 'recall': 0.5685747214741288, 'f1': 0.6395160369906838, 'auc': 0.8416542613052393, 'prauc': 0.7480620369396156}\n",
      "Test:       {'precision': 0.713387015599614, 'recall': 0.5439370683028705, 'f1': 0.617243626702796, 'auc': 0.8311611129367577, 'prauc': 0.7238634454854824}\n"
     ]
    },
    {
     "name": "stderr",
     "output_type": "stream",
     "text": [
      "Training Batches: 100%|██████████| 1/1 [00:02<00:00,  2.68s/it]\n",
      "Running inference: 100%|██████████| 1/1 [00:03<00:00,  4.00s/it]\n",
      "Running inference: 100%|██████████| 1/1 [00:04<00:00,  4.04s/it]\n"
     ]
    },
    {
     "name": "stdout",
     "output_type": "stream",
     "text": [
      "Epoch: 107, Average Loss: 0.4161\n",
      "Validation: {'precision': 0.7244678306607882, 'recall': 0.5818286592382216, 'f1': 0.6453606001503899, 'auc': 0.8422459598339487, 'prauc': 0.7503324630651818}\n",
      "Test:       {'precision': 0.7083025375690852, 'recall': 0.5516116653865089, 'f1': 0.6202135642702586, 'auc': 0.8307638627709196, 'prauc': 0.725013019005877}\n"
     ]
    },
    {
     "name": "stderr",
     "output_type": "stream",
     "text": [
      "Training Batches: 100%|██████████| 1/1 [00:01<00:00,  1.72s/it]\n",
      "Running inference: 100%|██████████| 1/1 [00:03<00:00,  3.94s/it]\n",
      "Running inference: 100%|██████████| 1/1 [00:05<00:00,  5.06s/it]\n"
     ]
    },
    {
     "name": "stdout",
     "output_type": "stream",
     "text": [
      "Epoch: 108, Average Loss: 0.4195\n",
      "Validation: {'precision': 0.714449541282765, 'recall': 0.5983480599296996, 'f1': 0.6512648915462126, 'auc': 0.8415785102525343, 'prauc': 0.7496219660868215}\n",
      "Test:       {'precision': 0.6916608269079849, 'recall': 0.5681120491163313, 'f1': 0.6238280788980355, 'auc': 0.8291933500047594, 'prauc': 0.7247743323912903}\n"
     ]
    },
    {
     "name": "stderr",
     "output_type": "stream",
     "text": [
      "Training Batches: 100%|██████████| 1/1 [00:01<00:00,  1.22s/it]\n",
      "Running inference: 100%|██████████| 1/1 [00:04<00:00,  4.42s/it]\n",
      "Running inference: 100%|██████████| 1/1 [00:04<00:00,  4.51s/it]\n"
     ]
    },
    {
     "name": "stdout",
     "output_type": "stream",
     "text": [
      "Epoch: 109, Average Loss: 0.4217\n",
      "Validation: {'precision': 0.7071204657395721, 'recall': 0.6066077602754387, 'f1': 0.6530190190146842, 'auc': 0.839923979518106, 'prauc': 0.7475812513392751}\n",
      "Test:       {'precision': 0.683934276584473, 'recall': 0.5750191864916059, 'f1': 0.6247654734601348, 'auc': 0.8266946452635187, 'prauc': 0.7229013615240965}\n"
     ]
    },
    {
     "name": "stderr",
     "output_type": "stream",
     "text": [
      "Training Batches: 100%|██████████| 1/1 [00:02<00:00,  2.21s/it]\n",
      "Running inference: 100%|██████████| 1/1 [00:04<00:00,  4.52s/it]\n",
      "Running inference: 100%|██████████| 1/1 [00:03<00:00,  3.57s/it]\n"
     ]
    },
    {
     "name": "stdout",
     "output_type": "stream",
     "text": [
      "Epoch: 110, Average Loss: 0.4179\n",
      "Validation: {'precision': 0.7012901814985758, 'recall': 0.6160199769484902, 'f1': 0.6558952808361544, 'auc': 0.8401698383632119, 'prauc': 0.7481962460074779}\n",
      "Test:       {'precision': 0.6783108556252967, 'recall': 0.588641596315064, 'f1': 0.6303030253267814, 'auc': 0.8266879357973393, 'prauc': 0.723355251501234}\n"
     ]
    },
    {
     "name": "stderr",
     "output_type": "stream",
     "text": [
      "Training Batches: 100%|██████████| 1/1 [00:02<00:00,  2.19s/it]\n",
      "Running inference: 100%|██████████| 1/1 [00:04<00:00,  4.49s/it]\n",
      "Running inference: 100%|██████████| 1/1 [00:03<00:00,  3.54s/it]\n"
     ]
    },
    {
     "name": "stdout",
     "output_type": "stream",
     "text": [
      "Epoch: 111, Average Loss: 0.4186\n",
      "Validation: {'precision': 0.6988184747568231, 'recall': 0.6248559354578854, 'f1': 0.6597708093333076, 'auc': 0.8430832063279309, 'prauc': 0.751355133902257}\n",
      "Test:       {'precision': 0.678749728672284, 'recall': 0.5999616270134306, 'f1': 0.6369283991321568, 'auc': 0.8308803844479882, 'prauc': 0.7278966417217049}\n"
     ]
    },
    {
     "name": "stderr",
     "output_type": "stream",
     "text": [
      "Training Batches: 100%|██████████| 1/1 [00:02<00:00,  2.22s/it]\n",
      "Running inference: 100%|██████████| 1/1 [00:03<00:00,  3.99s/it]\n",
      "Running inference: 100%|██████████| 1/1 [00:04<00:00,  4.02s/it]\n"
     ]
    },
    {
     "name": "stdout",
     "output_type": "stream",
     "text": [
      "Epoch: 112, Average Loss: 0.4169\n",
      "Validation: {'precision': 0.7084153005448997, 'recall': 0.6225509028032605, 'f1': 0.662713419004732, 'auc': 0.8462811800697012, 'prauc': 0.7558677934606319}\n",
      "Test:       {'precision': 0.6836032837792687, 'recall': 0.5911358403672465, 'f1': 0.6340158402765737, 'auc': 0.834367629494725, 'prauc': 0.7313839837407838}\n"
     ]
    },
    {
     "name": "stderr",
     "output_type": "stream",
     "text": [
      "Training Batches: 100%|██████████| 1/1 [00:02<00:00,  2.66s/it]\n",
      "Running inference: 100%|██████████| 1/1 [00:03<00:00,  3.99s/it]\n",
      "Running inference: 100%|██████████| 1/1 [00:04<00:00,  4.01s/it]\n"
     ]
    },
    {
     "name": "stdout",
     "output_type": "stream",
     "text": [
      "Epoch: 113, Average Loss: 0.4063\n",
      "Validation: {'precision': 0.7123137598582114, 'recall': 0.6244717633487813, 'f1': 0.665506648039675, 'auc': 0.8477994512311501, 'prauc': 0.758944216908257}\n",
      "Test:       {'precision': 0.6910806560307996, 'recall': 0.5901765157317916, 'f1': 0.6366552780680871, 'auc': 0.8360462494563305, 'prauc': 0.7330995197375467}\n"
     ]
    },
    {
     "name": "stderr",
     "output_type": "stream",
     "text": [
      "Training Batches: 100%|██████████| 1/1 [00:02<00:00,  2.20s/it]\n",
      "Running inference: 100%|██████████| 1/1 [00:04<00:00,  4.50s/it]\n",
      "Running inference: 100%|██████████| 1/1 [00:03<00:00,  3.55s/it]\n"
     ]
    },
    {
     "name": "stdout",
     "output_type": "stream",
     "text": [
      "Epoch: 114, Average Loss: 0.4116\n",
      "Validation: {'precision': 0.7151407670123805, 'recall': 0.6196696119849795, 'f1': 0.6639909387311174, 'auc': 0.8476589335465152, 'prauc': 0.7588807006183897}\n",
      "Test:       {'precision': 0.6928312159693901, 'recall': 0.5859554873357906, 'f1': 0.6349272299608396, 'auc': 0.8363819808216915, 'prauc': 0.7331684089499846}\n"
     ]
    },
    {
     "name": "stderr",
     "output_type": "stream",
     "text": [
      "Training Batches: 100%|██████████| 1/1 [00:02<00:00,  2.18s/it]\n",
      "Running inference: 100%|██████████| 1/1 [00:03<00:00,  3.98s/it]\n",
      "Running inference: 100%|██████████| 1/1 [00:04<00:00,  4.98s/it]\n"
     ]
    },
    {
     "name": "stdout",
     "output_type": "stream",
     "text": [
      "Epoch: 115, Average Loss: 0.4134\n",
      "Validation: {'precision': 0.7206082614600077, 'recall': 0.6098732232028239, 'f1': 0.6606325376882757, 'auc': 0.8473438898076069, 'prauc': 0.7579569276888553}\n",
      "Test:       {'precision': 0.6992323796215417, 'recall': 0.5767459708354246, 'f1': 0.6321101832478784, 'auc': 0.8373723643871267, 'prauc': 0.7333115542088564}\n"
     ]
    },
    {
     "name": "stderr",
     "output_type": "stream",
     "text": [
      "Training Batches: 100%|██████████| 1/1 [00:01<00:00,  1.23s/it]\n",
      "Running inference: 100%|██████████| 1/1 [00:04<00:00,  4.45s/it]\n",
      "Running inference: 100%|██████████| 1/1 [00:04<00:00,  4.53s/it]\n"
     ]
    },
    {
     "name": "stdout",
     "output_type": "stream",
     "text": [
      "Epoch: 116, Average Loss: 0.4053\n",
      "Validation: {'precision': 0.7231020027929131, 'recall': 0.596427199384179, 'f1': 0.6536842055710197, 'auc': 0.8437548763385967, 'prauc': 0.7540824175741886}\n",
      "Test:       {'precision': 0.6968261487430203, 'recall': 0.5644666155016032, 'f1': 0.6237015002477186, 'auc': 0.8329542177731989, 'prauc': 0.7290127598827504}\n"
     ]
    },
    {
     "name": "stderr",
     "output_type": "stream",
     "text": [
      "Training Batches: 100%|██████████| 1/1 [00:02<00:00,  2.19s/it]\n",
      "Running inference: 100%|██████████| 1/1 [00:04<00:00,  4.49s/it]\n",
      "Running inference: 100%|██████████| 1/1 [00:03<00:00,  3.45s/it]\n"
     ]
    },
    {
     "name": "stdout",
     "output_type": "stream",
     "text": [
      "Epoch: 117, Average Loss: 0.4056\n",
      "Validation: {'precision': 0.7186276767195058, 'recall': 0.5995005762570121, 'f1': 0.653681008758184, 'auc': 0.8410352053512028, 'prauc': 0.7506984627577719}\n",
      "Test:       {'precision': 0.6890988707059482, 'recall': 0.5736761320019692, 'f1': 0.6261124439986868, 'auc': 0.8297210568928078, 'prauc': 0.7264076937379205}\n"
     ]
    },
    {
     "name": "stderr",
     "output_type": "stream",
     "text": [
      "Training Batches: 100%|██████████| 1/1 [00:02<00:00,  2.20s/it]\n",
      "Running inference: 100%|██████████| 1/1 [00:04<00:00,  4.47s/it]\n",
      "Running inference: 100%|██████████| 1/1 [00:03<00:00,  3.50s/it]\n"
     ]
    },
    {
     "name": "stdout",
     "output_type": "stream",
     "text": [
      "Epoch: 118, Average Loss: 0.4012\n",
      "Validation: {'precision': 0.7106932487523546, 'recall': 0.6025739531298452, 'f1': 0.6521829472154862, 'auc': 0.841191427177718, 'prauc': 0.7503906618748724}\n",
      "Test:       {'precision': 0.6872296835859613, 'recall': 0.579240214887607, 'f1': 0.6286309164301511, 'auc': 0.8286586848104396, 'prauc': 0.7254310735151328}\n"
     ]
    },
    {
     "name": "stderr",
     "output_type": "stream",
     "text": [
      "Training Batches: 100%|██████████| 1/1 [00:02<00:00,  2.25s/it]\n",
      "Running inference: 100%|██████████| 1/1 [00:03<00:00,  3.95s/it]\n",
      "Running inference: 100%|██████████| 1/1 [00:03<00:00,  3.99s/it]\n"
     ]
    },
    {
     "name": "stdout",
     "output_type": "stream",
     "text": [
      "Epoch: 119, Average Loss: 0.4071\n",
      "Validation: {'precision': 0.718000904566445, 'recall': 0.6098732232028239, 'f1': 0.6595346855178658, 'auc': 0.8455677673759688, 'prauc': 0.7561734618579034}\n",
      "Test:       {'precision': 0.6879302432292613, 'recall': 0.5752110514186969, 'f1': 0.6265412698556441, 'auc': 0.8319728938303657, 'prauc': 0.7288359677759524}\n"
     ]
    },
    {
     "name": "stderr",
     "output_type": "stream",
     "text": [
      "Training Batches: 100%|██████████| 1/1 [00:02<00:00,  2.69s/it]\n",
      "Running inference: 100%|██████████| 1/1 [00:03<00:00,  3.98s/it]\n",
      "Running inference: 100%|██████████| 1/1 [00:04<00:00,  4.01s/it]\n"
     ]
    },
    {
     "name": "stdout",
     "output_type": "stream",
     "text": [
      "Epoch: 120, Average Loss: 0.3968\n",
      "Validation: {'precision': 0.7229084129556679, 'recall': 0.5958509412205227, 'f1': 0.6532589189157333, 'auc': 0.8455182338558689, 'prauc': 0.7573016929925017}\n",
      "Test:       {'precision': 0.6922533553080004, 'recall': 0.5640828856474212, 'f1': 0.6216301885172651, 'auc': 0.8302711040913219, 'prauc': 0.7267056269111721}\n"
     ]
    },
    {
     "name": "stderr",
     "output_type": "stream",
     "text": [
      "Training Batches: 100%|██████████| 1/1 [00:02<00:00,  2.22s/it]\n",
      "Running inference: 100%|██████████| 1/1 [00:04<00:00,  4.54s/it]\n",
      "Running inference: 100%|██████████| 1/1 [00:03<00:00,  3.53s/it]\n"
     ]
    },
    {
     "name": "stdout",
     "output_type": "stream",
     "text": [
      "Epoch: 121, Average Loss: 0.4089\n",
      "Validation: {'precision': 0.7182270465836313, 'recall': 0.610065309257376, 'f1': 0.6597424129794358, 'auc': 0.8455272776328365, 'prauc': 0.7584199611940652}\n",
      "Test:       {'precision': 0.6892357126447344, 'recall': 0.5761703760541517, 'f1': 0.6276517872844, 'auc': 0.8314139897678428, 'prauc': 0.7281288792976139}\n"
     ]
    },
    {
     "name": "stderr",
     "output_type": "stream",
     "text": [
      "Training Batches: 100%|██████████| 1/1 [00:02<00:00,  2.21s/it]\n",
      "Running inference: 100%|██████████| 1/1 [00:03<00:00,  3.91s/it]\n",
      "Running inference: 100%|██████████| 1/1 [00:05<00:00,  5.07s/it]\n"
     ]
    },
    {
     "name": "stdout",
     "output_type": "stream",
     "text": [
      "Epoch: 122, Average Loss: 0.4043\n",
      "Validation: {'precision': 0.7226312039878351, 'recall': 0.5845178640019506, 'f1': 0.6462780029125765, 'auc': 0.8429208140077554, 'prauc': 0.7545001077670654}\n",
      "Test:       {'precision': 0.6941910705696251, 'recall': 0.5548733691470551, 'f1': 0.6167626310173819, 'auc': 0.8275380380650873, 'prauc': 0.7225554392399836}\n"
     ]
    },
    {
     "name": "stderr",
     "output_type": "stream",
     "text": [
      "Training Batches: 100%|██████████| 1/1 [00:01<00:00,  1.20s/it]\n",
      "Running inference: 100%|██████████| 1/1 [00:04<00:00,  4.33s/it]\n",
      "Running inference: 100%|██████████| 1/1 [00:04<00:00,  4.37s/it]\n"
     ]
    },
    {
     "name": "stdout",
     "output_type": "stream",
     "text": [
      "Epoch: 123, Average Loss: 0.4037\n",
      "Validation: {'precision': 0.7309019221273265, 'recall': 0.5697272378014412, 'f1': 0.6403281470615823, 'auc': 0.8409165717227094, 'prauc': 0.7507124003197689}\n",
      "Test:       {'precision': 0.6980246913563012, 'recall': 0.5424021488861428, 'f1': 0.6104513014906833, 'auc': 0.8250167810384881, 'prauc': 0.7183155936912254}\n",
      "\n",
      "Early stopping triggered after 123 epochs (no improvement for 10 epochs).\n",
      "\n",
      "Best validation performance:\n",
      "{'precision': 0.7123137598582114, 'recall': 0.6244717633487813, 'f1': 0.665506648039675, 'auc': 0.8477994512311501, 'prauc': 0.758944216908257}\n",
      "Corresponding test performance:\n",
      "{'precision': 0.6910806560307996, 'recall': 0.5901765157317916, 'f1': 0.6366552780680871, 'auc': 0.8360462494563305, 'prauc': 0.7330995197375467}\n",
      "Corresponding test-long performance:\n",
      "{'precision': 0.745115452924111, 'recall': 0.552337063854165, 'f1': 0.6344045319675903, 'auc': 0.8034580962822597, 'prauc': 0.7578144714114361}\n",
      "[INFO] Random seed set to 1181241943\n",
      "Training with seed: 1181241943\n"
     ]
    },
    {
     "name": "stderr",
     "output_type": "stream",
     "text": [
      "Training Batches: 100%|██████████| 1/1 [00:02<00:00,  2.14s/it]\n",
      "Running inference: 100%|██████████| 1/1 [00:04<00:00,  4.44s/it]\n",
      "Running inference: 100%|██████████| 1/1 [00:03<00:00,  3.41s/it]\n"
     ]
    },
    {
     "name": "stdout",
     "output_type": "stream",
     "text": [
      "Epoch: 001, Average Loss: 0.6886\n",
      "Validation: {'precision': 0.9230769223668639, 'recall': 0.0023050326546248463, 'f1': 0.004598582054139809, 'auc': 0.6584557807351348, 'prauc': 0.4980323017495933}\n",
      "Test:       {'precision': 0.7777777769135802, 'recall': 0.001343054489636717, 'f1': 0.0026814786095109475, 'auc': 0.6526828150737669, 'prauc': 0.48492673936426167}\n"
     ]
    },
    {
     "name": "stderr",
     "output_type": "stream",
     "text": [
      "Training Batches: 100%|██████████| 1/1 [00:02<00:00,  2.14s/it]\n",
      "Running inference: 100%|██████████| 1/1 [00:04<00:00,  4.42s/it]\n",
      "Running inference: 100%|██████████| 1/1 [00:03<00:00,  3.35s/it]\n"
     ]
    },
    {
     "name": "stdout",
     "output_type": "stream",
     "text": [
      "Epoch: 002, Average Loss: 0.6810\n",
      "Validation: {'precision': 0.7499999999431818, 'recall': 0.01901651940065498, 'f1': 0.037092543541502626, 'auc': 0.685204512769342, 'prauc': 0.5372676517992326}\n",
      "Test:       {'precision': 0.7438016528310908, 'recall': 0.017267843438186364, 'f1': 0.03375210906323498, 'auc': 0.673008350262447, 'prauc': 0.5197688806002756}\n"
     ]
    },
    {
     "name": "stderr",
     "output_type": "stream",
     "text": [
      "Training Batches: 100%|██████████| 1/1 [00:02<00:00,  2.15s/it]\n",
      "Running inference: 100%|██████████| 1/1 [00:03<00:00,  3.84s/it]\n",
      "Running inference: 100%|██████████| 1/1 [00:04<00:00,  4.33s/it]\n"
     ]
    },
    {
     "name": "stdout",
     "output_type": "stream",
     "text": [
      "Epoch: 003, Average Loss: 0.6735\n",
      "Validation: {'precision': 0.7121212121077249, 'recall': 0.07222435651157852, 'f1': 0.13114753931108586, 'auc': 0.6854167118070464, 'prauc': 0.5381002831902685}\n",
      "Test:       {'precision': 0.7087912087782272, 'recall': 0.07425172678420136, 'f1': 0.13442167247530326, 'auc': 0.6724641830631397, 'prauc': 0.5191138019564752}\n"
     ]
    },
    {
     "name": "stderr",
     "output_type": "stream",
     "text": [
      "Training Batches: 100%|██████████| 1/1 [00:02<00:00,  2.60s/it]\n",
      "Running inference: 100%|██████████| 1/1 [00:03<00:00,  3.95s/it]\n",
      "Running inference: 100%|██████████| 1/1 [00:04<00:00,  4.03s/it]\n"
     ]
    },
    {
     "name": "stdout",
     "output_type": "stream",
     "text": [
      "Epoch: 004, Average Loss: 0.6665\n",
      "Validation: {'precision': 0.6760124610521702, 'recall': 0.12504802151339792, 'f1': 0.21105527374652697, 'auc': 0.6854720201555642, 'prauc': 0.5348669041294215}\n",
      "Test:       {'precision': 0.673447537466023, 'recall': 0.12068303914021358, 'f1': 0.20468597203948632, 'auc': 0.6726321962066152, 'prauc': 0.5158771484253352}\n"
     ]
    },
    {
     "name": "stderr",
     "output_type": "stream",
     "text": [
      "Training Batches: 100%|██████████| 1/1 [00:02<00:00,  2.25s/it]\n",
      "Running inference: 100%|██████████| 1/1 [00:03<00:00,  3.98s/it]\n",
      "Running inference: 100%|██████████| 1/1 [00:04<00:00,  4.92s/it]\n"
     ]
    },
    {
     "name": "stdout",
     "output_type": "stream",
     "text": [
      "Epoch: 005, Average Loss: 0.6589\n",
      "Validation: {'precision': 0.6659125188486734, 'recall': 0.16961198616947828, 'f1': 0.27036129498747236, 'auc': 0.6883954399015585, 'prauc': 0.5338020806959224}\n",
      "Test:       {'precision': 0.6540284360137913, 'recall': 0.15886415963131453, 'f1': 0.2556344519331881, 'auc': 0.6753018356583355, 'prauc': 0.5147726232189991}\n"
     ]
    },
    {
     "name": "stderr",
     "output_type": "stream",
     "text": [
      "Training Batches: 100%|██████████| 1/1 [00:01<00:00,  1.22s/it]\n",
      "Running inference: 100%|██████████| 1/1 [00:04<00:00,  4.33s/it]\n",
      "Running inference: 100%|██████████| 1/1 [00:04<00:00,  4.55s/it]\n"
     ]
    },
    {
     "name": "stdout",
     "output_type": "stream",
     "text": [
      "Epoch: 006, Average Loss: 0.6523\n",
      "Validation: {'precision': 0.659380692163574, 'recall': 0.2086054552435486, 'f1': 0.3169414818284286, 'auc': 0.6931531825522178, 'prauc': 0.5348641856508971}\n",
      "Test:       {'precision': 0.6346649484495189, 'recall': 0.18898695318459519, 'f1': 0.2912477788403761, 'auc': 0.6797374563764886, 'prauc': 0.5152154466599774}\n"
     ]
    },
    {
     "name": "stderr",
     "output_type": "stream",
     "text": [
      "Training Batches: 100%|██████████| 1/1 [00:02<00:00,  2.19s/it]\n",
      "Running inference: 100%|██████████| 1/1 [00:04<00:00,  4.42s/it]\n",
      "Running inference: 100%|██████████| 1/1 [00:03<00:00,  3.53s/it]\n"
     ]
    },
    {
     "name": "stdout",
     "output_type": "stream",
     "text": [
      "Epoch: 007, Average Loss: 0.6454\n",
      "Validation: {'precision': 0.6492227979240973, 'recall': 0.24068382635374436, 'f1': 0.35117712609763435, 'auc': 0.6982575750581674, 'prauc': 0.5368570580983364}\n",
      "Test:       {'precision': 0.6242523110352135, 'recall': 0.2202609363004216, 'f1': 0.3256275667006423, 'auc': 0.6844195209485385, 'prauc': 0.5165105691994011}\n"
     ]
    },
    {
     "name": "stderr",
     "output_type": "stream",
     "text": [
      "Training Batches: 100%|██████████| 1/1 [00:02<00:00,  2.17s/it]\n",
      "Running inference: 100%|██████████| 1/1 [00:04<00:00,  4.50s/it]\n",
      "Running inference: 100%|██████████| 1/1 [00:03<00:00,  3.55s/it]\n"
     ]
    },
    {
     "name": "stdout",
     "output_type": "stream",
     "text": [
      "Epoch: 008, Average Loss: 0.6365\n",
      "Validation: {'precision': 0.6332442067707966, 'recall': 0.2729542835184922, 'f1': 0.3814765058564548, 'auc': 0.7051423575280117, 'prauc': 0.5410324488536447}\n",
      "Test:       {'precision': 0.6138059701463908, 'recall': 0.25249424405170284, 'f1': 0.3578031497567655, 'auc': 0.6908541017731646, 'prauc': 0.5198495423480074}\n"
     ]
    },
    {
     "name": "stderr",
     "output_type": "stream",
     "text": [
      "Training Batches: 100%|██████████| 1/1 [00:02<00:00,  2.24s/it]\n",
      "Running inference: 100%|██████████| 1/1 [00:03<00:00,  3.97s/it]\n",
      "Running inference: 100%|██████████| 1/1 [00:03<00:00,  3.97s/it]\n"
     ]
    },
    {
     "name": "stdout",
     "output_type": "stream",
     "text": [
      "Epoch: 009, Average Loss: 0.6305\n",
      "Validation: {'precision': 0.6223803875024817, 'recall': 0.30234344986495904, 'f1': 0.40698124963791404, 'auc': 0.7120920856212047, 'prauc': 0.545016671141547}\n",
      "Test:       {'precision': 0.6032677000393664, 'recall': 0.2762854950109818, 'f1': 0.378997232168512, 'auc': 0.6976184233683481, 'prauc': 0.5232619358289247}\n"
     ]
    },
    {
     "name": "stderr",
     "output_type": "stream",
     "text": [
      "Training Batches: 100%|██████████| 1/1 [00:02<00:00,  2.68s/it]\n",
      "Running inference: 100%|██████████| 1/1 [00:03<00:00,  4.00s/it]\n",
      "Running inference: 100%|██████████| 1/1 [00:04<00:00,  4.06s/it]\n"
     ]
    },
    {
     "name": "stdout",
     "output_type": "stream",
     "text": [
      "Epoch: 010, Average Loss: 0.6215\n",
      "Validation: {'precision': 0.6137756941918003, 'recall': 0.32693046484762406, 'f1': 0.42661987264141954, 'auc': 0.7195416708038805, 'prauc': 0.5499005948965779}\n",
      "Test:       {'precision': 0.5989365742476304, 'recall': 0.30257099002244325, 'f1': 0.40203951115438097, 'auc': 0.7048414309831499, 'prauc': 0.5273689730748161}\n"
     ]
    },
    {
     "name": "stderr",
     "output_type": "stream",
     "text": [
      "Training Batches: 100%|██████████| 1/1 [00:01<00:00,  1.72s/it]\n",
      "Running inference: 100%|██████████| 1/1 [00:03<00:00,  3.91s/it]\n",
      "Running inference: 100%|██████████| 1/1 [00:05<00:00,  5.03s/it]\n"
     ]
    },
    {
     "name": "stdout",
     "output_type": "stream",
     "text": [
      "Epoch: 011, Average Loss: 0.6120\n",
      "Validation: {'precision': 0.6049218490169441, 'recall': 0.3494045332302163, 'f1': 0.4429562841677842, 'auc': 0.7270112841842995, 'prauc': 0.5556305728616497}\n",
      "Test:       {'precision': 0.5958115183225278, 'recall': 0.327513430544268, 'f1': 0.42268168416695323, 'auc': 0.7120158410496495, 'prauc': 0.5322971004681125}\n"
     ]
    },
    {
     "name": "stderr",
     "output_type": "stream",
     "text": [
      "Training Batches: 100%|██████████| 1/1 [00:01<00:00,  1.23s/it]\n",
      "Running inference: 100%|██████████| 1/1 [00:04<00:00,  4.36s/it]\n",
      "Running inference: 100%|██████████| 1/1 [00:04<00:00,  4.24s/it]\n"
     ]
    },
    {
     "name": "stdout",
     "output_type": "stream",
     "text": [
      "Epoch: 012, Average Loss: 0.6068\n",
      "Validation: {'precision': 0.6041083099887827, 'recall': 0.3728390318855689, 'f1': 0.46109988837804455, 'auc': 0.7343564702666049, 'prauc': 0.561899137428018}\n",
      "Test:       {'precision': 0.5877392150483693, 'recall': 0.34765924788881875, 'f1': 0.4368896879142152, 'auc': 0.7190397950235963, 'prauc': 0.537332300300355}\n"
     ]
    },
    {
     "name": "stderr",
     "output_type": "stream",
     "text": [
      "Training Batches: 100%|██████████| 1/1 [00:02<00:00,  2.06s/it]\n",
      "Running inference: 100%|██████████| 1/1 [00:04<00:00,  4.28s/it]\n",
      "Running inference: 100%|██████████| 1/1 [00:03<00:00,  3.37s/it]\n"
     ]
    },
    {
     "name": "stdout",
     "output_type": "stream",
     "text": [
      "Epoch: 013, Average Loss: 0.6001\n",
      "Validation: {'precision': 0.6048099762452351, 'recall': 0.39127929312256765, 'f1': 0.4751574479928328, 'auc': 0.7408956579884719, 'prauc': 0.567529195441109}\n",
      "Test:       {'precision': 0.5863013698612289, 'recall': 0.36953184957718815, 'f1': 0.45333646695198493, 'auc': 0.7252199138135891, 'prauc': 0.541960375602794}\n"
     ]
    },
    {
     "name": "stderr",
     "output_type": "stream",
     "text": [
      "Training Batches: 100%|██████████| 1/1 [00:02<00:00,  2.02s/it]\n",
      "Running inference: 100%|██████████| 1/1 [00:04<00:00,  4.29s/it]\n",
      "Running inference: 100%|██████████| 1/1 [00:03<00:00,  3.33s/it]\n"
     ]
    },
    {
     "name": "stdout",
     "output_type": "stream",
     "text": [
      "Epoch: 014, Average Loss: 0.5879\n",
      "Validation: {'precision': 0.5973355084268697, 'recall': 0.42201306185089893, 'f1': 0.4945970235123984, 'auc': 0.7468737735555062, 'prauc': 0.5749514105541508}\n",
      "Test:       {'precision': 0.5799776286337249, 'recall': 0.3979278587866502, 'f1': 0.47200727783037927, 'auc': 0.7306229695109323, 'prauc': 0.5479389774342831}\n"
     ]
    },
    {
     "name": "stderr",
     "output_type": "stream",
     "text": [
      "Training Batches: 100%|██████████| 1/1 [00:02<00:00,  2.05s/it]\n",
      "Running inference: 100%|██████████| 1/1 [00:03<00:00,  3.72s/it]\n",
      "Running inference: 100%|██████████| 1/1 [00:03<00:00,  3.79s/it]\n"
     ]
    },
    {
     "name": "stdout",
     "output_type": "stream",
     "text": [
      "Epoch: 015, Average Loss: 0.5789\n",
      "Validation: {'precision': 0.5931778279393198, 'recall': 0.4542835190156468, 'f1': 0.5145219139380955, 'auc': 0.7514520254951609, 'prauc': 0.5824029108414364}\n",
      "Test:       {'precision': 0.5767857142842429, 'recall': 0.43380660015265965, 'f1': 0.4951817734608039, 'auc': 0.7346031114817619, 'prauc': 0.5539541820716972}\n"
     ]
    },
    {
     "name": "stderr",
     "output_type": "stream",
     "text": [
      "Training Batches: 100%|██████████| 1/1 [00:02<00:00,  2.46s/it]\n",
      "Running inference: 100%|██████████| 1/1 [00:03<00:00,  3.76s/it]\n",
      "Running inference: 100%|██████████| 1/1 [00:03<00:00,  3.77s/it]\n"
     ]
    },
    {
     "name": "stdout",
     "output_type": "stream",
     "text": [
      "Epoch: 016, Average Loss: 0.5721\n",
      "Validation: {'precision': 0.5855981416943424, 'recall': 0.4842489435257698, 'f1': 0.5301230104995445, 'auc': 0.7549813877185886, 'prauc': 0.5894776541701492}\n",
      "Test:       {'precision': 0.5655220742803889, 'recall': 0.46450498848721317, 'f1': 0.5100600392901429, 'auc': 0.7377395196479345, 'prauc': 0.559928270229693}\n"
     ]
    },
    {
     "name": "stderr",
     "output_type": "stream",
     "text": [
      "Training Batches: 100%|██████████| 1/1 [00:02<00:00,  2.03s/it]\n",
      "Running inference: 100%|██████████| 1/1 [00:04<00:00,  4.27s/it]\n",
      "Running inference: 100%|██████████| 1/1 [00:03<00:00,  3.35s/it]\n"
     ]
    },
    {
     "name": "stdout",
     "output_type": "stream",
     "text": [
      "Epoch: 017, Average Loss: 0.5667\n",
      "Validation: {'precision': 0.5883694412757392, 'recall': 0.49558202074434193, 'f1': 0.5380043741409273, 'auc': 0.7589136502059248, 'prauc': 0.5959548810618751}\n",
      "Test:       {'precision': 0.5708418891157407, 'recall': 0.48004604758158087, 'f1': 0.5215216208830323, 'auc': 0.74162642031473, 'prauc': 0.5659735791406456}\n"
     ]
    },
    {
     "name": "stderr",
     "output_type": "stream",
     "text": [
      "Training Batches: 100%|██████████| 1/1 [00:02<00:00,  2.04s/it]\n",
      "Running inference: 100%|██████████| 1/1 [00:03<00:00,  3.73s/it]\n",
      "Running inference: 100%|██████████| 1/1 [00:04<00:00,  4.76s/it]\n"
     ]
    },
    {
     "name": "stdout",
     "output_type": "stream",
     "text": [
      "Epoch: 018, Average Loss: 0.5565\n",
      "Validation: {'precision': 0.595281306713713, 'recall': 0.5040338071446331, 'f1': 0.5458706004004856, 'auc': 0.7623343269555236, 'prauc': 0.6010270223225157}\n",
      "Test:       {'precision': 0.5711081202320074, 'recall': 0.4884881043735831, 'f1': 0.5265770374284827, 'auc': 0.7449898904565364, 'prauc': 0.5711485732681261}\n"
     ]
    },
    {
     "name": "stderr",
     "output_type": "stream",
     "text": [
      "Training Batches: 100%|██████████| 1/1 [00:01<00:00,  1.14s/it]\n",
      "Running inference: 100%|██████████| 1/1 [00:04<00:00,  4.17s/it]\n",
      "Running inference: 100%|██████████| 1/1 [00:04<00:00,  4.21s/it]\n"
     ]
    },
    {
     "name": "stdout",
     "output_type": "stream",
     "text": [
      "Epoch: 019, Average Loss: 0.5522\n",
      "Validation: {'precision': 0.5976909413841082, 'recall': 0.5170956588541739, 'f1': 0.5544799126357026, 'auc': 0.7651234937165533, 'prauc': 0.6063399582199697}\n",
      "Test:       {'precision': 0.5724288840250057, 'recall': 0.5019186492699503, 'f1': 0.5348599418615803, 'auc': 0.7477292419991644, 'prauc': 0.5765348405392866}\n"
     ]
    },
    {
     "name": "stderr",
     "output_type": "stream",
     "text": [
      "Training Batches: 100%|██████████| 1/1 [00:02<00:00,  2.02s/it]\n",
      "Running inference: 100%|██████████| 1/1 [00:04<00:00,  4.29s/it]\n",
      "Running inference: 100%|██████████| 1/1 [00:03<00:00,  3.35s/it]\n"
     ]
    },
    {
     "name": "stdout",
     "output_type": "stream",
     "text": [
      "Epoch: 020, Average Loss: 0.5457\n",
      "Validation: {'precision': 0.5957767722460767, 'recall': 0.531117940836475, 'f1': 0.5615923581716118, 'auc': 0.7684677693919775, 'prauc': 0.6131168528950117}\n",
      "Test:       {'precision': 0.5716101694903144, 'recall': 0.517651573291409, 'f1': 0.543294396944321, 'auc': 0.7508105274768493, 'prauc': 0.5824420982166688}\n"
     ]
    },
    {
     "name": "stderr",
     "output_type": "stream",
     "text": [
      "Training Batches: 100%|██████████| 1/1 [00:02<00:00,  2.05s/it]\n",
      "Running inference: 100%|██████████| 1/1 [00:04<00:00,  4.26s/it]\n",
      "Running inference: 100%|██████████| 1/1 [00:03<00:00,  3.39s/it]\n"
     ]
    },
    {
     "name": "stdout",
     "output_type": "stream",
     "text": [
      "Epoch: 021, Average Loss: 0.5413\n",
      "Validation: {'precision': 0.5976529756902815, 'recall': 0.5478294275825052, 'f1': 0.5716576418313243, 'auc': 0.7724961785332012, 'prauc': 0.6207445431373979}\n",
      "Test:       {'precision': 0.5724265461258015, 'recall': 0.5345356868754134, 'f1': 0.5528326172887181, 'auc': 0.7544608365141241, 'prauc': 0.5890391010767995}\n"
     ]
    },
    {
     "name": "stderr",
     "output_type": "stream",
     "text": [
      "Training Batches: 100%|██████████| 1/1 [00:02<00:00,  2.04s/it]\n",
      "Running inference: 100%|██████████| 1/1 [00:03<00:00,  3.79s/it]\n",
      "Running inference: 100%|██████████| 1/1 [00:03<00:00,  3.74s/it]\n"
     ]
    },
    {
     "name": "stdout",
     "output_type": "stream",
     "text": [
      "Epoch: 022, Average Loss: 0.5363\n",
      "Validation: {'precision': 0.6027708850277032, 'recall': 0.5599308490192856, 'f1': 0.5805616361129808, 'auc': 0.7761112399639982, 'prauc': 0.6274649362901779}\n",
      "Test:       {'precision': 0.5749644958397749, 'recall': 0.5437452033757795, 'f1': 0.5589192337366444, 'auc': 0.7574442264564278, 'prauc': 0.5946837655005333}\n"
     ]
    },
    {
     "name": "stderr",
     "output_type": "stream",
     "text": [
      "Training Batches: 100%|██████████| 1/1 [00:02<00:00,  2.47s/it]\n",
      "Running inference: 100%|██████████| 1/1 [00:03<00:00,  3.74s/it]\n",
      "Running inference: 100%|██████████| 1/1 [00:03<00:00,  3.83s/it]\n"
     ]
    },
    {
     "name": "stdout",
     "output_type": "stream",
     "text": [
      "Epoch: 023, Average Loss: 0.5317\n",
      "Validation: {'precision': 0.6060355518796899, 'recall': 0.5631963119466707, 'f1': 0.5838311379764776, 'auc': 0.7790926811916006, 'prauc': 0.6331669281131613}\n",
      "Test:       {'precision': 0.5767911200795625, 'recall': 0.5483499616259625, 'f1': 0.5622110700488088, 'auc': 0.7599058263750884, 'prauc': 0.599570764673306}\n"
     ]
    },
    {
     "name": "stderr",
     "output_type": "stream",
     "text": [
      "Training Batches: 100%|██████████| 1/1 [00:01<00:00,  1.61s/it]\n",
      "Running inference: 100%|██████████| 1/1 [00:03<00:00,  3.72s/it]\n",
      "Running inference: 100%|██████████| 1/1 [00:04<00:00,  4.73s/it]\n"
     ]
    },
    {
     "name": "stdout",
     "output_type": "stream",
     "text": [
      "Epoch: 024, Average Loss: 0.5276\n",
      "Validation: {'precision': 0.6073341573947109, 'recall': 0.5662696888195039, 'f1': 0.5860834940109207, 'auc': 0.7810272016085864, 'prauc': 0.6373793205390008}\n",
      "Test:       {'precision': 0.5810539018491934, 'recall': 0.5542977743657822, 'f1': 0.5673605605947499, 'auc': 0.7614031709379545, 'prauc': 0.6031615324703037}\n"
     ]
    },
    {
     "name": "stderr",
     "output_type": "stream",
     "text": [
      "Training Batches: 100%|██████████| 1/1 [00:01<00:00,  1.14s/it]\n",
      "Running inference: 100%|██████████| 1/1 [00:04<00:00,  4.15s/it]\n",
      "Running inference: 100%|██████████| 1/1 [00:04<00:00,  4.29s/it]\n"
     ]
    },
    {
     "name": "stdout",
     "output_type": "stream",
     "text": [
      "Epoch: 025, Average Loss: 0.5220\n",
      "Validation: {'precision': 0.6107327141370263, 'recall': 0.5683826354195767, 'f1': 0.5887971296187499, 'auc': 0.7833521023107417, 'prauc': 0.641237006381307}\n",
      "Test:       {'precision': 0.5849929591619695, 'recall': 0.5579432079805104, 'f1': 0.5711479867526363, 'auc': 0.763682942479894, 'prauc': 0.6065170096003348}\n"
     ]
    },
    {
     "name": "stderr",
     "output_type": "stream",
     "text": [
      "Training Batches: 100%|██████████| 1/1 [00:02<00:00,  2.05s/it]\n",
      "Running inference: 100%|██████████| 1/1 [00:04<00:00,  4.23s/it]\n",
      "Running inference: 100%|██████████| 1/1 [00:03<00:00,  3.40s/it]\n"
     ]
    },
    {
     "name": "stdout",
     "output_type": "stream",
     "text": [
      "Epoch: 026, Average Loss: 0.5243\n",
      "Validation: {'precision': 0.6165491497291237, 'recall': 0.5710718401833057, 'f1': 0.5929397636539354, 'auc': 0.7876289986447522, 'prauc': 0.646742074396965}\n",
      "Test:       {'precision': 0.591427999197694, 'recall': 0.5665771296996036, 'f1': 0.5787359087689296, 'auc': 0.7681592808101083, 'prauc': 0.6122599087863807}\n"
     ]
    },
    {
     "name": "stderr",
     "output_type": "stream",
     "text": [
      "Training Batches: 100%|██████████| 1/1 [00:02<00:00,  2.04s/it]\n",
      "Running inference: 100%|██████████| 1/1 [00:04<00:00,  4.26s/it]\n",
      "Running inference: 100%|██████████| 1/1 [00:03<00:00,  3.39s/it]\n"
     ]
    },
    {
     "name": "stdout",
     "output_type": "stream",
     "text": [
      "Epoch: 027, Average Loss: 0.5211\n",
      "Validation: {'precision': 0.6194852941163818, 'recall': 0.58259700345643, 'f1': 0.6004751484384832, 'auc': 0.7908317768930369, 'prauc': 0.6506915553630588}\n",
      "Test:       {'precision': 0.5935137286100408, 'recall': 0.5723330775123324, 'f1': 0.5827309971493692, 'auc': 0.7716456871735725, 'prauc': 0.6168733836674329}\n"
     ]
    },
    {
     "name": "stderr",
     "output_type": "stream",
     "text": [
      "Training Batches: 100%|██████████| 1/1 [00:02<00:00,  2.08s/it]\n",
      "Running inference: 100%|██████████| 1/1 [00:03<00:00,  3.77s/it]\n",
      "Running inference: 100%|██████████| 1/1 [00:03<00:00,  3.77s/it]\n"
     ]
    },
    {
     "name": "stdout",
     "output_type": "stream",
     "text": [
      "Epoch: 028, Average Loss: 0.5187\n",
      "Validation: {'precision': 0.6137002812362119, 'recall': 0.5868228966565755, 'f1': 0.599960717703606, 'auc': 0.7901373090279316, 'prauc': 0.6508613581239364}\n",
      "Test:       {'precision': 0.5889822230892968, 'recall': 0.5784727551792431, 'f1': 0.5836801808476927, 'auc': 0.7702564866713504, 'prauc': 0.6158214157432136}\n"
     ]
    },
    {
     "name": "stderr",
     "output_type": "stream",
     "text": [
      "Training Batches: 100%|██████████| 1/1 [00:02<00:00,  2.45s/it]\n",
      "Running inference: 100%|██████████| 1/1 [00:03<00:00,  3.78s/it]\n",
      "Running inference: 100%|██████████| 1/1 [00:03<00:00,  3.76s/it]\n"
     ]
    },
    {
     "name": "stdout",
     "output_type": "stream",
     "text": [
      "Epoch: 029, Average Loss: 0.5131\n",
      "Validation: {'precision': 0.6125623130595961, 'recall': 0.5900883595839607, 'f1': 0.601115345749029, 'auc': 0.7879686489934936, 'prauc': 0.6495497288151424}\n",
      "Test:       {'precision': 0.5835589941961633, 'recall': 0.5788564850334251, 'f1': 0.5811982227007539, 'auc': 0.7678518895663157, 'prauc': 0.6139783499265762}\n"
     ]
    },
    {
     "name": "stderr",
     "output_type": "stream",
     "text": [
      "Training Batches: 100%|██████████| 1/1 [00:02<00:00,  2.05s/it]\n",
      "Running inference: 100%|██████████| 1/1 [00:04<00:00,  4.29s/it]\n",
      "Running inference: 100%|██████████| 1/1 [00:03<00:00,  3.30s/it]\n"
     ]
    },
    {
     "name": "stdout",
     "output_type": "stream",
     "text": [
      "Epoch: 030, Average Loss: 0.5164\n",
      "Validation: {'precision': 0.6163208300067512, 'recall': 0.5933538225113458, 'f1': 0.6046192942764068, 'auc': 0.7920254612467562, 'prauc': 0.6545641609998821}\n",
      "Test:       {'precision': 0.5905882352929597, 'recall': 0.5778971603979702, 'f1': 0.5841737731220326, 'auc': 0.7721382062293781, 'prauc': 0.620170496604445}\n"
     ]
    },
    {
     "name": "stderr",
     "output_type": "stream",
     "text": [
      "Training Batches: 100%|██████████| 1/1 [00:02<00:00,  2.03s/it]\n",
      "Running inference: 100%|██████████| 1/1 [00:03<00:00,  3.71s/it]\n",
      "Running inference: 100%|██████████| 1/1 [00:04<00:00,  4.69s/it]\n"
     ]
    },
    {
     "name": "stdout",
     "output_type": "stream",
     "text": [
      "Epoch: 031, Average Loss: 0.5108\n",
      "Validation: {'precision': 0.6217470244086711, 'recall': 0.5920092201294813, 'f1': 0.6065138196598814, 'auc': 0.7949953151351189, 'prauc': 0.6580365791375825}\n",
      "Test:       {'precision': 0.595219280915458, 'recall': 0.5780890253250612, 'f1': 0.5865290975889839, 'auc': 0.7756695881353635, 'prauc': 0.6254369596353383}\n"
     ]
    },
    {
     "name": "stderr",
     "output_type": "stream",
     "text": [
      "Training Batches: 100%|██████████| 1/1 [00:01<00:00,  1.16s/it]\n",
      "Running inference: 100%|██████████| 1/1 [00:04<00:00,  4.17s/it]\n",
      "Running inference: 100%|██████████| 1/1 [00:04<00:00,  4.24s/it]\n"
     ]
    },
    {
     "name": "stdout",
     "output_type": "stream",
     "text": [
      "Epoch: 032, Average Loss: 0.5106\n",
      "Validation: {'precision': 0.6241816693931584, 'recall': 0.5860545524383671, 'f1': 0.6045175301731722, 'auc': 0.7956035562391981, 'prauc': 0.6595088165162694}\n",
      "Test:       {'precision': 0.5983655571046474, 'recall': 0.5759785111270607, 'f1': 0.5869586419847345, 'auc': 0.7763055957611509, 'prauc': 0.6278382263862867}\n"
     ]
    },
    {
     "name": "stderr",
     "output_type": "stream",
     "text": [
      "Training Batches: 100%|██████████| 1/1 [00:02<00:00,  2.05s/it]\n",
      "Running inference: 100%|██████████| 1/1 [00:04<00:00,  4.26s/it]\n",
      "Running inference: 100%|██████████| 1/1 [00:03<00:00,  3.37s/it]\n"
     ]
    },
    {
     "name": "stdout",
     "output_type": "stream",
     "text": [
      "Epoch: 033, Average Loss: 0.5089\n",
      "Validation: {'precision': 0.6301398455424125, 'recall': 0.5799077986927009, 'f1': 0.6039811893657155, 'auc': 0.7954820022243922, 'prauc': 0.6604356890934939}\n",
      "Test:       {'precision': 0.604476093589818, 'recall': 0.570030698387241, 'f1': 0.5867482916359057, 'auc': 0.7763842476627648, 'prauc': 0.6291879789987168}\n"
     ]
    },
    {
     "name": "stderr",
     "output_type": "stream",
     "text": [
      "Training Batches: 100%|██████████| 1/1 [00:02<00:00,  2.07s/it]\n",
      "Running inference: 100%|██████████| 1/1 [00:03<00:00,  3.72s/it]\n",
      "Running inference: 100%|██████████| 1/1 [00:04<00:00,  4.23s/it]\n"
     ]
    },
    {
     "name": "stdout",
     "output_type": "stream",
     "text": [
      "Epoch: 034, Average Loss: 0.5067\n",
      "Validation: {'precision': 0.63368869935899, 'recall': 0.5708797541287536, 'f1': 0.600646720962259, 'auc': 0.7951933173271042, 'prauc': 0.6610267104247753}\n",
      "Test:       {'precision': 0.6087319824512039, 'recall': 0.5590943975430562, 'f1': 0.5828582808364502, 'auc': 0.7766878878725809, 'prauc': 0.6304906119366482}\n"
     ]
    },
    {
     "name": "stderr",
     "output_type": "stream",
     "text": [
      "Training Batches: 100%|██████████| 1/1 [00:02<00:00,  2.45s/it]\n",
      "Running inference: 100%|██████████| 1/1 [00:03<00:00,  3.81s/it]\n",
      "Running inference: 100%|██████████| 1/1 [00:03<00:00,  3.77s/it]\n"
     ]
    },
    {
     "name": "stdout",
     "output_type": "stream",
     "text": [
      "Epoch: 035, Average Loss: 0.5086\n",
      "Validation: {'precision': 0.6390895163041386, 'recall': 0.560891279292046, 'f1': 0.5974424502629777, 'auc': 0.7966668123719622, 'prauc': 0.6628803914986869}\n",
      "Test:       {'precision': 0.6137769247161148, 'recall': 0.5521872601677817, 'f1': 0.5813554136573584, 'auc': 0.7790461822879382, 'prauc': 0.633499663163688}\n"
     ]
    },
    {
     "name": "stderr",
     "output_type": "stream",
     "text": [
      "Training Batches: 100%|██████████| 1/1 [00:02<00:00,  2.05s/it]\n",
      "Running inference: 100%|██████████| 1/1 [00:04<00:00,  4.29s/it]\n",
      "Running inference: 100%|██████████| 1/1 [00:03<00:00,  3.31s/it]\n"
     ]
    },
    {
     "name": "stdout",
     "output_type": "stream",
     "text": [
      "Epoch: 036, Average Loss: 0.5033\n",
      "Validation: {'precision': 0.6473244524708799, 'recall': 0.5507107184007862, 'f1': 0.5951219462507938, 'auc': 0.7991499038062431, 'prauc': 0.6658817440359102}\n",
      "Test:       {'precision': 0.620712256935502, 'recall': 0.5450882578654161, 'f1': 0.5804474360250638, 'auc': 0.7821567755986594, 'prauc': 0.637695556048802}\n"
     ]
    },
    {
     "name": "stderr",
     "output_type": "stream",
     "text": [
      "Training Batches: 100%|██████████| 1/1 [00:02<00:00,  2.08s/it]\n",
      "Running inference: 100%|██████████| 1/1 [00:03<00:00,  3.72s/it]\n",
      "Running inference:   0%|          | 0/1 [00:00<?, ?it/s]"
     ]
    }
   ],
   "source": [
    "final_metrics, final_long_seq_metrics = [], []\n",
    "\n",
    "for seed in seeds:\n",
    "    set_random_seed(seed)\n",
    "    print(f\"Training with seed: {seed}\")\n",
    "    \n",
    "    # Initialize model, optimizer, and loss function\n",
    "    model = SetGNN(args, tokenizer).to(device)\n",
    "    optimizer = torch.optim.AdamW(model.parameters(), lr=args[\"lr\"])\n",
    "    \n",
    "    best_test_metric, best_test_long_seq_metric = train_with_early_stopping(\n",
    "        model, \n",
    "        train_dataloader, \n",
    "        val_dataloader, \n",
    "        test_dataloader,\n",
    "        optimizer, \n",
    "        loss_fn, \n",
    "        device, \n",
    "        args,\n",
    "        val_long_seq_idx,\n",
    "        test_long_seq_idx,\n",
    "        task_type=task_type,\n",
    "        eval_metric = \"f1\")\n",
    "    \n",
    "    final_metrics.append(best_test_metric)\n",
    "    final_long_seq_metrics.append(best_test_long_seq_metric)"
   ]
  },
  {
   "cell_type": "code",
   "execution_count": null,
   "id": "85433114-11e1-41a3-a0f0-88be914cff49",
   "metadata": {},
   "outputs": [],
   "source": [
    "import numpy as np\n",
    "def topk_avg_performance_formatted(performances, long_seq_performances, k=5):\n",
    "    metrics = [\"f1\", \"auc\", \"prauc\"]\n",
    "    scores = {m: np.array([p[m] for p in performances]) for m in metrics}\n",
    "\n",
    "    # 计算排名（值越大排名越靠前）\n",
    "    ranks = {m: (-scores[m]).argsort().argsort() + 1 for m in metrics}\n",
    "    avg_ranks = np.mean(np.stack([ranks[m] for m in metrics], axis=1), axis=1)\n",
    "\n",
    "    # 选 top-k\n",
    "    topk_idx = np.argsort(avg_ranks)[:k]\n",
    "    final_avg = {m: np.mean([performances[i][m] for i in topk_idx]) for m in performances[0].keys()}\n",
    "    final_std = {m: np.std([performances[i][m] for i in topk_idx], ddof=0) for m in performances[0].keys()}\n",
    "    final_long_seq_avg = {m: np.mean([long_seq_performances[i][m] for i in topk_idx]) for m in long_seq_performances[0].keys()}\n",
    "    final_long_seq_std = {m: np.std([long_seq_performances[i][m] for i in topk_idx], ddof=0) for m in long_seq_performances[0].keys()}\n",
    "\n",
    "    # 打印结果（转百分比，均保留两位小数）\n",
    "    print(\"Final Metrics:\")\n",
    "    for m in performances[0].keys():\n",
    "        mean_val = final_avg[m] * 100\n",
    "        std_val = final_std[m] * 100\n",
    "        print(f\"{m}: {mean_val:.2f} ± {std_val:.2f}\")\n",
    "    print(\"\\nFinal Long Sequence Metrics:\")\n",
    "    for m in long_seq_performances[0].keys():\n",
    "        mean_val = final_long_seq_avg[m] * 100\n",
    "        std_val = final_long_seq_std[m] * 100\n",
    "        print(f\"{m}: {mean_val:.2f} ± {std_val:.2f}\")"
   ]
  },
  {
   "cell_type": "code",
   "execution_count": null,
   "id": "68a2f031-3bca-403b-a1ca-9599bf3cec87",
   "metadata": {},
   "outputs": [],
   "source": [
    "def print_per_class_performance(dfs, col_name=\"prauc\"):\n",
    "    \"\"\"\n",
    "    输入一个 DataFrame 列表，对每个疾病在所有表格的指定列计算 mean ± std 并打印。\n",
    "\n",
    "    参数:\n",
    "        dfs (list[pd.DataFrame]): 多个表格组成的列表\n",
    "        col_name (str): 要计算的指标列名 (默认: \"prauc\")\n",
    "    \"\"\"\n",
    "    # 拼接所有表格\n",
    "    all_values = pd.concat(dfs, axis=0)\n",
    "\n",
    "    # 按疾病分组，计算 mean 和 std\n",
    "    grouped = all_values.groupby(all_values.index)[col_name].agg([\"mean\", \"std\"])\n",
    "\n",
    "    # 打印\n",
    "    for disease, row in grouped.iterrows():\n",
    "        mean_val = row[\"mean\"] * 100\n",
    "        std_val = row[\"std\"] * 100\n",
    "        print(f\"{disease}: {mean_val:.2f} ± {std_val:.2f}\")"
   ]
  },
  {
   "cell_type": "code",
   "execution_count": null,
   "id": "d82d2dab-0b4a-494b-97a7-54b6008123c6",
   "metadata": {
    "tags": []
   },
   "outputs": [],
   "source": [
    "if task_type == \"binary\":\n",
    "    topk_avg_performance_formatted(final_metrics, final_long_seq_metrics)\n",
    "else:\n",
    "    final_metrics_global = [metrics[\"global\"] for metrics in final_metrics]\n",
    "    final_metrics_per_class = [metrics[\"per_class\"] for metrics in final_metrics]\n",
    "    final_long_seq_metrics_global = [metrics[\"global\"] for metrics in final_long_seq_metrics]\n",
    "    final_long_seq_metrics_per_class = [metrics[\"per_class\"] for metrics in final_long_seq_metrics]\n",
    "    topk_avg_performance_formatted(final_metrics_global, final_long_seq_metrics_global)\n",
    "    print(\"\\nPer-class performance, all patients:\")\n",
    "    print_per_class_performance(final_metrics_per_class, col_name=\"prauc\")\n",
    "    print(\"\\nPer-class performance, long seq:\")\n",
    "    print_per_class_performance(final_long_seq_metrics_per_class, col_name=\"prauc\")"
   ]
  }
 ],
 "metadata": {
  "kernelspec": {
   "display_name": "heart-cuda",
   "language": "python",
   "name": "heart-cuda"
  },
  "language_info": {
   "codemirror_mode": {
    "name": "ipython",
    "version": 3
   },
   "file_extension": ".py",
   "mimetype": "text/x-python",
   "name": "python",
   "nbconvert_exporter": "python",
   "pygments_lexer": "ipython3",
   "version": "3.10.18"
  }
 },
 "nbformat": 4,
 "nbformat_minor": 5
}
