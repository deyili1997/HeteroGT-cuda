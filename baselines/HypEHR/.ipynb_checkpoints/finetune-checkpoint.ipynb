{
 "cells": [
  {
   "cell_type": "code",
   "execution_count": 1,
   "id": "105bbf2f",
   "metadata": {},
   "outputs": [
    {
     "name": "stderr",
     "output_type": "stream",
     "text": [
      "Disabling PyTorch because PyTorch >= 2.1 is required but found 1.13.1\n",
      "None of PyTorch, TensorFlow >= 2.0, or Flax have been found. Models won't be available and only tokenizers, configuration and file/data utilities can be used.\n"
     ]
    }
   ],
   "source": [
    "import torch\n",
    "import random\n",
    "from model import SetGNN \n",
    "import pickle\n",
    "from tokenizer import EHRTokenizer\n",
    "from dataset import FinetuneHGDataset, batcher_SetGNN_finetune\n",
    "from torch.utils.data import DataLoader\n",
    "import torch.nn.functional as F\n",
    "from train import PHENO_ORDER, train_with_early_stopping\n",
    "from set_seed import set_random_seed\n",
    "import pandas as pd"
   ]
  },
  {
   "cell_type": "code",
   "execution_count": 2,
   "id": "eb757cdd",
   "metadata": {},
   "outputs": [
    {
     "name": "stdout",
     "output_type": "stream",
     "text": [
      "cuda\n"
     ]
    }
   ],
   "source": [
    "device = torch.device(\"cuda\" if torch.cuda.is_available() else \"cpu\")\n",
    "print(device)"
   ]
  },
  {
   "cell_type": "code",
   "execution_count": 3,
   "id": "89793d45",
   "metadata": {},
   "outputs": [],
   "source": [
    "args = {\n",
    "    \"dataset\": \"MIMIC-III\", \n",
    "    \"task\": \"death\",  # options: death, stay, readmission, next_diag_6m, next_diag_12m\n",
    "    \"special_tokens\":[\"[PAD]\", \"[CLS]\"],\n",
    "    \"predicted_token_type\": [\"diag\", \"med\"],\n",
    "    \"batch_size\": 256,\n",
    "    \"lr\": 1e-3,\n",
    "    \"epochs\": 500,\n",
    "    \"model_name\": \"HG\",\n",
    "    \"early_stop_patience\": 10,\n",
    "    # model hyperparameters\n",
    "    \"level\": \"visit\",  # \"visit\" or \"patient\"\n",
    "    \"hg_all_num_layers\": 3,\n",
    "    \"hg_use_type_embed\": True,\n",
    "    \"MLP_num_layers\": 2,\n",
    "    \"hg_aggregate\": \"mean\",\n",
    "    \"hg_dropout\": 0.0,\n",
    "    \"normtype\": \"all_one\",\n",
    "    \"add_self_loop\": True,\n",
    "    \"hg_normalization\": \"ln\",\n",
    "    \"hg_hidden_size\": 48,\n",
    "    \"PMA\": True,\n",
    "    \"hg_num_heads\": 4,\n",
    "}"
   ]
  },
  {
   "cell_type": "code",
   "execution_count": 4,
   "id": "c32fba6c",
   "metadata": {},
   "outputs": [],
   "source": [
    "full_data_path = f\"/home/lideyi/HeteroGT-cuda/data_process/{args['dataset']}-processed/mimic.pkl\"\n",
    "\n",
    "if args[\"task\"] == \"next_diag_6m\":\n",
    "    finetune_data_path = f\"/home/lideyi/HeteroGT-cuda/data_process/{args['dataset']}-processed/mimic_nextdiag_6m.pkl\"\n",
    "elif args[\"task\"] == \"next_diag_12m\":\n",
    "    finetune_data_path = f\"/home/lideyi/HeteroGT-cuda/data_process/{args['dataset']}-processed/mimic_nextdiag_12m.pkl\"\n",
    "else:\n",
    "    finetune_data_path = f\"/home/lideyi/HeteroGT-cuda/data_process/{args['dataset']}-processed/mimic_downstream.pkl\""
   ]
  },
  {
   "cell_type": "code",
   "execution_count": 5,
   "id": "9ab08e48",
   "metadata": {},
   "outputs": [
    {
     "name": "stdout",
     "output_type": "stream",
     "text": [
      "Max admissions per patient: 8\n"
     ]
    }
   ],
   "source": [
    "ehr_full_data = pickle.load(open(full_data_path, 'rb'))\n",
    "diag_sentences = ehr_full_data[\"ICD9_CODE\"].values.tolist()\n",
    "med_sentences = ehr_full_data[\"NDC\"].values.tolist()\n",
    "# lab_sentences = ehr_full_data[\"LAB_TEST\"].values.tolist()\n",
    "# pro_sentences = ehr_full_data[\"PRO_CODE\"].values.tolist()\n",
    "lab_sentences = [[]]\n",
    "pro_sentences = [[]]\n",
    "age_gender_sentences = [\"[PAD]\"] + [str(c) + \"_\" + gender \\\n",
    "    for c in set(ehr_full_data[\"AGE\"].values.tolist()) for gender in [\"M\", \"F\"]] # PAD token special for age_gender vocabulary\n",
    "max_admissions = ehr_full_data.groupby(\"SUBJECT_ID\")[\"HADM_ID\"].nunique().max()\n",
    "args[\"max_adm_len\"] = max_admissions\n",
    "print(f\"Max admissions per patient: {max_admissions}\")"
   ]
  },
  {
   "cell_type": "code",
   "execution_count": 6,
   "id": "42864fb3",
   "metadata": {},
   "outputs": [
    {
     "name": "stdout",
     "output_type": "stream",
     "text": [
      "Age and gender vocabulary size: 37\n",
      "Global vocabulary size: 2145\n",
      "Label vocabulary size: 18\n"
     ]
    }
   ],
   "source": [
    "tokenizer = EHRTokenizer(age_gender_sentences, diag_sentences, med_sentences, lab_sentences, \n",
    "                         pro_sentences, special_tokens=args[\"special_tokens\"])\n",
    "args[\"age_gender_vocab_size\"] = tokenizer.token_number(\"age_gender\")\n",
    "args[\"global_vocab_size\"] = len(tokenizer.vocab.id2word)\n",
    "args[\"label_vocab_size\"] = len(PHENO_ORDER)\n",
    "print(f\"Age and gender vocabulary size: {args['age_gender_vocab_size']}\")\n",
    "print(f\"Global vocabulary size: {args['global_vocab_size']}\")\n",
    "print(f\"Label vocabulary size: {args['label_vocab_size']}\")"
   ]
  },
  {
   "cell_type": "code",
   "execution_count": 7,
   "id": "f7ff21ce",
   "metadata": {},
   "outputs": [
    {
     "name": "stdout",
     "output_type": "stream",
     "text": [
      "3131 6310 6304\n"
     ]
    }
   ],
   "source": [
    "train_data, val_data, test_data = pickle.load(open(finetune_data_path, 'rb'))\n",
    "\n",
    "# output: input_ids (a patient has multiple visits), labels\n",
    "train_dataset = FinetuneHGDataset(train_data, tokenizer, token_type=args[\"predicted_token_type\"], task=args[\"task\"], level=args[\"level\"])\n",
    "val_dataset = FinetuneHGDataset(val_data, tokenizer, token_type=args[\"predicted_token_type\"], task=args[\"task\"], level=args[\"level\"])\n",
    "test_dataset = FinetuneHGDataset(test_data, tokenizer, token_type=args[\"predicted_token_type\"], task=args[\"task\"], level=args[\"level\"])\n",
    "print(len(train_dataset), len(val_dataset), len(test_dataset))"
   ]
  },
  {
   "cell_type": "code",
   "execution_count": 8,
   "id": "42afdd7b",
   "metadata": {},
   "outputs": [
    {
     "name": "stdout",
     "output_type": "stream",
     "text": [
      "835 854\n"
     ]
    }
   ],
   "source": [
    "long_adm_seq_crite = 3\n",
    "val_long_seq_idx, test_long_seq_idx = [], []\n",
    "for i in range(len(val_dataset)):\n",
    "    hadm_id = list(val_dataset.records.keys())[i]\n",
    "    num_adms = len(val_dataset.records[hadm_id])\n",
    "    if num_adms >= long_adm_seq_crite:\n",
    "        val_long_seq_idx.append(i)\n",
    "for i in range(len(test_dataset)):\n",
    "    hadm_id = list(test_dataset.records.keys())[i]\n",
    "    num_adms = len(test_dataset.records[hadm_id])\n",
    "    if num_adms >= long_adm_seq_crite:\n",
    "        test_long_seq_idx.append(i)\n",
    "print(len(val_long_seq_idx), len(test_long_seq_idx))"
   ]
  },
  {
   "cell_type": "code",
   "execution_count": 9,
   "id": "d0769b44",
   "metadata": {},
   "outputs": [],
   "source": [
    "use_full_graph = True\n",
    "train_batch_size = len(train_dataset) if use_full_graph else args[\"batch_size\"]\n",
    "val_batch_size = len(val_dataset) if use_full_graph else args[\"batch_size\"]\n",
    "test_batch_size = len(test_dataset) if use_full_graph else args[\"batch_size\"]\n",
    "train_dataloader = DataLoader(train_dataset, collate_fn=batcher_SetGNN_finetune(device = device), batch_size = train_batch_size, shuffle = True)\n",
    "val_dataloader = DataLoader(val_dataset, collate_fn=batcher_SetGNN_finetune(device = device), batch_size = val_batch_size, shuffle = False)\n",
    "test_dataloader = DataLoader(test_dataset, collate_fn=batcher_SetGNN_finetune(device = device), batch_size = test_batch_size, shuffle = False)"
   ]
  },
  {
   "cell_type": "code",
   "execution_count": 10,
   "id": "92a62432",
   "metadata": {},
   "outputs": [],
   "source": [
    "if args[\"task\"] in [\"death\", \"stay\", \"readmission\"]:\n",
    "    eval_metric = \"prauc\"\n",
    "    task_type = \"binary\"\n",
    "    loss_fn = F.binary_cross_entropy_with_logits\n",
    "else:\n",
    "    eval_metric = \"prauc\"\n",
    "    task_type = \"l2r\"\n",
    "    loss_fn = lambda x, y: F.binary_cross_entropy_with_logits(x, y)"
   ]
  },
  {
   "cell_type": "code",
   "execution_count": 11,
   "id": "33afa400",
   "metadata": {},
   "outputs": [
    {
     "name": "stdout",
     "output_type": "stream",
     "text": [
      "[2746317213, 1181241943, 958682846, 3163119785, 1812140441]\n"
     ]
    }
   ],
   "source": [
    "random.seed(42)\n",
    "seeds = [random.randint(0, 2**32 - 1) for _ in range(5)]\n",
    "print(seeds)"
   ]
  },
  {
   "cell_type": "code",
   "execution_count": null,
   "id": "71af0347",
   "metadata": {},
   "outputs": [
    {
     "name": "stdout",
     "output_type": "stream",
     "text": [
      "[INFO] Random seed set to 2746317213\n",
      "Training with seed: 2746317213\n"
     ]
    },
    {
     "name": "stderr",
     "output_type": "stream",
     "text": [
      "Training Batches: 100%|██████████| 1/1 [00:01<00:00,  1.57s/it]\n",
      "Running inference: 100%|██████████| 1/1 [00:01<00:00,  1.03s/it]\n",
      "Running inference: 100%|██████████| 1/1 [00:01<00:00,  1.26s/it]\n"
     ]
    },
    {
     "name": "stdout",
     "output_type": "stream",
     "text": [
      "Epoch: 001, Average Loss: 0.7064\n",
      "Validation: {'precision': 0.27232724902172045, 'recall': 0.9846788450148223, 'f1': 0.42665645007078823, 'auc': 0.5670758167107611, 'prauc': 0.293538415674836}\n",
      "Test:       {'precision': 0.2923582580110232, 'recall': 0.985049833881589, 'f1': 0.45089341935593796, 'auc': 0.5341685021077411, 'prauc': 0.28844177431833506}\n"
     ]
    },
    {
     "name": "stderr",
     "output_type": "stream",
     "text": [
      "Training Batches: 100%|██████████| 1/1 [00:00<00:00,  2.20it/s]\n",
      "Running inference: 100%|██████████| 1/1 [00:00<00:00,  1.04it/s]\n",
      "Running inference: 100%|██████████| 1/1 [00:01<00:00,  1.28s/it]\n"
     ]
    },
    {
     "name": "stdout",
     "output_type": "stream",
     "text": [
      "Epoch: 002, Average Loss: 0.6976\n",
      "Validation: {'precision': 0.29823151125341996, 'recall': 0.8744843842022718, 'f1': 0.4447774576176131, 'auc': 0.5786135643663388, 'prauc': 0.3076242192556147}\n",
      "Test:       {'precision': 0.3104561970118885, 'recall': 0.8516057585777874, 'f1': 0.45502958188176196, 'auc': 0.5464431835583872, 'prauc': 0.3005191869443685}\n"
     ]
    },
    {
     "name": "stderr",
     "output_type": "stream",
     "text": [
      "Training Batches: 100%|██████████| 1/1 [00:00<00:00,  2.25it/s]\n",
      "Running inference: 100%|██████████| 1/1 [00:01<00:00,  1.25s/it]\n",
      "Running inference: 100%|██████████| 1/1 [00:00<00:00,  1.03it/s]\n"
     ]
    },
    {
     "name": "stdout",
     "output_type": "stream",
     "text": [
      "Epoch: 003, Average Loss: 0.6888\n",
      "Validation: {'precision': 0.30916623511054075, 'recall': 0.703594578664092, 'f1': 0.42957366008496095, 'auc': 0.5809182907928083, 'prauc': 0.3126042070712224}\n",
      "Test:       {'precision': 0.3116053169726186, 'recall': 0.6749723145034608, 'f1': 0.4263728533193045, 'auc': 0.5504814616758427, 'prauc': 0.30731712289513746}\n"
     ]
    },
    {
     "name": "stderr",
     "output_type": "stream",
     "text": [
      "Training Batches: 100%|██████████| 1/1 [00:00<00:00,  1.34it/s]\n",
      "Running inference: 100%|██████████| 1/1 [00:00<00:00,  1.05it/s]\n",
      "Running inference: 100%|██████████| 1/1 [00:01<00:00,  1.27s/it]\n"
     ]
    },
    {
     "name": "stdout",
     "output_type": "stream",
     "text": [
      "Epoch: 004, Average Loss: 0.6810\n",
      "Validation: {'precision': 0.30934343434245787, 'recall': 0.5774896876807455, 'f1': 0.4028776932971898, 'auc': 0.5814029450474377, 'prauc': 0.3146926007044858}\n",
      "Test:       {'precision': 0.31172456575585694, 'recall': 0.5564784053125333, 'f1': 0.399602381081658, 'auc': 0.5519116531181324, 'prauc': 0.3103788055769864}\n"
     ]
    },
    {
     "name": "stderr",
     "output_type": "stream",
     "text": [
      "Training Batches: 100%|██████████| 1/1 [00:00<00:00,  2.21it/s]\n",
      "Running inference: 100%|██████████| 1/1 [00:00<00:00,  1.04it/s]\n",
      "Running inference: 100%|██████████| 1/1 [00:00<00:00,  1.04it/s]\n"
     ]
    },
    {
     "name": "stdout",
     "output_type": "stream",
     "text": [
      "Epoch: 005, Average Loss: 0.6737\n",
      "Validation: {'precision': 0.3105205678911157, 'recall': 0.502651738358853, 'f1': 0.38388838411628246, 'auc': 0.58181095392706, 'prauc': 0.31629458522886855}\n",
      "Test:       {'precision': 0.31105491329367396, 'recall': 0.47674418604387186, 'f1': 0.37647572762004944, 'auc': 0.5530687442234694, 'prauc': 0.31323205770369367}\n"
     ]
    },
    {
     "name": "stderr",
     "output_type": "stream",
     "text": [
      "Training Batches: 100%|██████████| 1/1 [00:00<00:00,  1.37it/s]\n",
      "Running inference: 100%|██████████| 1/1 [00:01<00:00,  1.29s/it]\n",
      "Running inference: 100%|██████████| 1/1 [00:00<00:00,  1.02it/s]\n"
     ]
    },
    {
     "name": "stdout",
     "output_type": "stream",
     "text": [
      "Epoch: 006, Average Loss: 0.6662\n",
      "Validation: {'precision': 0.3149897330582547, 'recall': 0.45197407188891003, 'f1': 0.37124878508993986, 'auc': 0.5845328866781524, 'prauc': 0.3194130702622602}\n",
      "Test:       {'precision': 0.31521298174314316, 'recall': 0.43023255813715267, 'f1': 0.36384921075769844, 'auc': 0.5556149724720769, 'prauc': 0.31778431147679154}\n"
     ]
    },
    {
     "name": "stderr",
     "output_type": "stream",
     "text": [
      "Training Batches: 100%|██████████| 1/1 [00:00<00:00,  2.20it/s]\n",
      "Running inference: 100%|██████████| 1/1 [00:00<00:00,  1.04it/s]\n",
      "Running inference: 100%|██████████| 1/1 [00:00<00:00,  1.02it/s]\n"
     ]
    },
    {
     "name": "stdout",
     "output_type": "stream",
     "text": [
      "Epoch: 007, Average Loss: 0.6597\n",
      "Validation: {'precision': 0.32256596906131685, 'recall': 0.41779611078127404, 'f1': 0.36405647775094435, 'auc': 0.5890637780217087, 'prauc': 0.32434859879178735}\n",
      "Test:       {'precision': 0.31935047361155006, 'recall': 0.392026578070919, 'f1': 0.3519761322614726, 'auc': 0.5595118686932102, 'prauc': 0.32302752462722806}\n"
     ]
    },
    {
     "name": "stderr",
     "output_type": "stream",
     "text": [
      "Training Batches: 100%|██████████| 1/1 [00:00<00:00,  1.36it/s]\n",
      "Running inference: 100%|██████████| 1/1 [00:00<00:00,  1.03it/s]\n",
      "Running inference: 100%|██████████| 1/1 [00:01<00:00,  1.28s/it]\n"
     ]
    },
    {
     "name": "stdout",
     "output_type": "stream",
     "text": [
      "Epoch: 008, Average Loss: 0.6533\n",
      "Validation: {'precision': 0.3278850916278956, 'recall': 0.3901001767802587, 'f1': 0.3562970886847106, 'auc': 0.593075652434174, 'prauc': 0.32987609849319377}\n",
      "Test:       {'precision': 0.32443125618039353, 'recall': 0.36323366555723574, 'f1': 0.3427377170621959, 'auc': 0.5630276431459387, 'prauc': 0.3277924577992075}\n"
     ]
    },
    {
     "name": "stderr",
     "output_type": "stream",
     "text": [
      "Training Batches: 100%|██████████| 1/1 [00:00<00:00,  2.18it/s]\n",
      "Running inference: 100%|██████████| 1/1 [00:01<00:00,  1.27s/it]\n",
      "Running inference: 100%|██████████| 1/1 [00:00<00:00,  1.02it/s]\n"
     ]
    },
    {
     "name": "stdout",
     "output_type": "stream",
     "text": [
      "Epoch: 009, Average Loss: 0.6437\n",
      "Validation: {'precision': 0.3329787234024842, 'recall': 0.368886269885864, 'f1': 0.3500139732051472, 'auc': 0.5973619172891654, 'prauc': 0.3353644550739814}\n",
      "Test:       {'precision': 0.3310308182766683, 'recall': 0.34496124030816744, 'f1': 0.3378524895772977, 'auc': 0.5666470689323223, 'prauc': 0.33273918041903294}\n"
     ]
    },
    {
     "name": "stderr",
     "output_type": "stream",
     "text": [
      "Training Batches: 100%|██████████| 1/1 [00:00<00:00,  2.24it/s]\n",
      "Running inference: 100%|██████████| 1/1 [00:01<00:00,  1.28s/it]\n",
      "Running inference: 100%|██████████| 1/1 [00:00<00:00,  1.02it/s]\n"
     ]
    },
    {
     "name": "stdout",
     "output_type": "stream",
     "text": [
      "Epoch: 010, Average Loss: 0.6378\n",
      "Validation: {'precision': 0.34262948206976307, 'recall': 0.35474366528960083, 'f1': 0.3485813499502722, 'auc': 0.6044439499398397, 'prauc': 0.34452979489760016}\n",
      "Test:       {'precision': 0.34074074073879923, 'recall': 0.33111849390735815, 'f1': 0.33586070828192505, 'auc': 0.5729984828990072, 'prauc': 0.34033287310660937}\n"
     ]
    },
    {
     "name": "stderr",
     "output_type": "stream",
     "text": [
      "Training Batches: 100%|██████████| 1/1 [00:00<00:00,  1.39it/s]\n",
      "Running inference: 100%|██████████| 1/1 [00:00<00:00,  1.03it/s]\n",
      "Running inference: 100%|██████████| 1/1 [00:01<00:00,  1.28s/it]\n"
     ]
    },
    {
     "name": "stdout",
     "output_type": "stream",
     "text": [
      "Epoch: 011, Average Loss: 0.6308\n",
      "Validation: {'precision': 0.3554616777286937, 'recall': 0.3470830877999583, 'f1': 0.3512224159884797, 'auc': 0.6124316754385168, 'prauc': 0.3547717808691334}\n",
      "Test:       {'precision': 0.34969696969485037, 'recall': 0.3194905869306784, 'f1': 0.33391203204529235, 'auc': 0.580177507217432, 'prauc': 0.3488687061984838}\n"
     ]
    },
    {
     "name": "stderr",
     "output_type": "stream",
     "text": [
      "Training Batches: 100%|██████████| 1/1 [00:00<00:00,  2.24it/s]\n",
      "Running inference: 100%|██████████| 1/1 [00:00<00:00,  1.04it/s]\n",
      "Running inference: 100%|██████████| 1/1 [00:01<00:00,  1.30s/it]\n"
     ]
    },
    {
     "name": "stdout",
     "output_type": "stream",
     "text": [
      "Epoch: 012, Average Loss: 0.6183\n",
      "Validation: {'precision': 0.3738562091478833, 'recall': 0.3370654095442719, 'f1': 0.35450882674345274, 'auc': 0.6209781457209973, 'prauc': 0.36608436313775927}\n",
      "Test:       {'precision': 0.36393442622712174, 'recall': 0.3073089700979662, 'f1': 0.33323325831788053, 'auc': 0.5882069156366777, 'prauc': 0.3582485463710632}\n"
     ]
    },
    {
     "name": "stderr",
     "output_type": "stream",
     "text": [
      "Training Batches: 100%|██████████| 1/1 [00:00<00:00,  6.29it/s]\n",
      "Running inference: 100%|██████████| 1/1 [00:01<00:00,  1.27s/it]\n",
      "Running inference: 100%|██████████| 1/1 [00:01<00:00,  1.29s/it]\n"
     ]
    },
    {
     "name": "stdout",
     "output_type": "stream",
     "text": [
      "Epoch: 013, Average Loss: 0.6115\n",
      "Validation: {'precision': 0.3968816442211419, 'recall': 0.3299941072461403, 'f1': 0.36036035540038047, 'auc': 0.6301343299616607, 'prauc': 0.37772272829793035}\n",
      "Test:       {'precision': 0.37880986937315814, 'recall': 0.28903654484889796, 'f1': 0.3278894423244679, 'auc': 0.5967503952784232, 'prauc': 0.36842882963593654}\n"
     ]
    },
    {
     "name": "stderr",
     "output_type": "stream",
     "text": [
      "Training Batches: 100%|██████████| 1/1 [00:00<00:00,  6.30it/s]\n",
      "Running inference: 100%|██████████| 1/1 [00:01<00:00,  1.26s/it]\n",
      "Running inference: 100%|██████████| 1/1 [00:00<00:00,  1.02it/s]\n"
     ]
    },
    {
     "name": "stdout",
     "output_type": "stream",
     "text": [
      "Epoch: 014, Average Loss: 0.6032\n",
      "Validation: {'precision': 0.4269387755067189, 'recall': 0.3081909251602346, 'f1': 0.357973985545537, 'auc': 0.6408134578037191, 'prauc': 0.3904296296619548}\n",
      "Test:       {'precision': 0.40454914703164463, 'recall': 0.27574750830412104, 'f1': 0.32795521414315754, 'auc': 0.6068696952552309, 'prauc': 0.38095142264486853}\n"
     ]
    },
    {
     "name": "stderr",
     "output_type": "stream",
     "text": [
      "Training Batches: 100%|██████████| 1/1 [00:00<00:00,  1.35it/s]\n",
      "Running inference: 100%|██████████| 1/1 [00:00<00:00,  1.06it/s]\n",
      "Running inference: 100%|██████████| 1/1 [00:01<00:00,  1.26s/it]\n"
     ]
    },
    {
     "name": "stdout",
     "output_type": "stream",
     "text": [
      "Epoch: 015, Average Loss: 0.5978\n",
      "Validation: {'precision': 0.4587155963260669, 'recall': 0.29463759575548243, 'f1': 0.3588087501682231, 'auc': 0.6532250266055258, 'prauc': 0.40479243394807907}\n",
      "Test:       {'precision': 0.44647758462537535, 'recall': 0.2702104097437973, 'f1': 0.336667811788571, 'auc': 0.6187273093443277, 'prauc': 0.3947465896030689}\n"
     ]
    },
    {
     "name": "stderr",
     "output_type": "stream",
     "text": [
      "Training Batches: 100%|██████████| 1/1 [00:00<00:00,  1.33it/s]\n",
      "Running inference: 100%|██████████| 1/1 [00:00<00:00,  1.04it/s]\n",
      "Running inference: 100%|██████████| 1/1 [00:01<00:00,  1.28s/it]\n"
     ]
    },
    {
     "name": "stdout",
     "output_type": "stream",
     "text": [
      "Epoch: 016, Average Loss: 0.5873\n",
      "Validation: {'precision': 0.4911366006205304, 'recall': 0.2775486152016644, 'f1': 0.3546686700821594, 'auc': 0.6640536129288485, 'prauc': 0.4163328793741781}\n",
      "Test:       {'precision': 0.48268625392987735, 'recall': 0.2547065337748909, 'f1': 0.33345414552988073, 'auc': 0.6290011015108474, 'prauc': 0.40667651905975477}\n"
     ]
    },
    {
     "name": "stderr",
     "output_type": "stream",
     "text": [
      "Training Batches: 100%|██████████| 1/1 [00:00<00:00,  6.17it/s]\n",
      "Running inference: 100%|██████████| 1/1 [00:01<00:00,  1.27s/it]\n",
      "Running inference: 100%|██████████| 1/1 [00:00<00:00,  1.03it/s]\n"
     ]
    },
    {
     "name": "stdout",
     "output_type": "stream",
     "text": [
      "Epoch: 017, Average Loss: 0.5815\n",
      "Validation: {'precision': 0.526558891448885, 'recall': 0.26870948732899996, 'f1': 0.35583300371637017, 'auc': 0.6791353788536177, 'prauc': 0.43110810606669314}\n",
      "Test:       {'precision': 0.5100117785570081, 'recall': 0.23975636766201686, 'f1': 0.32617702012928035, 'auc': 0.643347947925176, 'prauc': 0.4226570271415527}\n"
     ]
    },
    {
     "name": "stderr",
     "output_type": "stream",
     "text": [
      "Training Batches: 100%|██████████| 1/1 [00:00<00:00,  1.39it/s]\n",
      "Running inference: 100%|██████████| 1/1 [00:01<00:00,  1.28s/it]\n",
      "Running inference: 100%|██████████| 1/1 [00:00<00:00,  1.07it/s]\n"
     ]
    },
    {
     "name": "stdout",
     "output_type": "stream",
     "text": [
      "Epoch: 018, Average Loss: 0.5648\n",
      "Validation: {'precision': 0.5487053020894118, 'recall': 0.26222746022237936, 'f1': 0.3548644294329692, 'auc': 0.6937321072968824, 'prauc': 0.4454335942062165}\n",
      "Test:       {'precision': 0.5351562499930318, 'recall': 0.2275747508293047, 'f1': 0.31934731515794496, 'auc': 0.6576955329475829, 'prauc': 0.4378123113429154}\n"
     ]
    },
    {
     "name": "stderr",
     "output_type": "stream",
     "text": [
      "Training Batches: 100%|██████████| 1/1 [00:00<00:00,  2.15it/s]\n",
      "Running inference: 100%|██████████| 1/1 [00:00<00:00,  1.04it/s]\n",
      "Running inference: 100%|██████████| 1/1 [00:00<00:00,  1.03it/s]\n"
     ]
    },
    {
     "name": "stdout",
     "output_type": "stream",
     "text": [
      "Epoch: 019, Average Loss: 0.5589\n",
      "Validation: {'precision': 0.5531914893547786, 'recall': 0.26045963464784644, 'f1': 0.35416666231102145, 'auc': 0.7073571001273463, 'prauc': 0.4576946845635368}\n",
      "Test:       {'precision': 0.5550847457548717, 'recall': 0.217607973420722, 'f1': 0.3126491606290881, 'auc': 0.670801086935648, 'prauc': 0.45089930866191297}\n"
     ]
    },
    {
     "name": "stderr",
     "output_type": "stream",
     "text": [
      "Training Batches: 100%|██████████| 1/1 [00:00<00:00,  1.34it/s]\n",
      "Running inference: 100%|██████████| 1/1 [00:00<00:00,  1.04it/s]\n",
      "Running inference: 100%|██████████| 1/1 [00:01<00:00,  1.26s/it]\n"
     ]
    },
    {
     "name": "stdout",
     "output_type": "stream",
     "text": [
      "Epoch: 020, Average Loss: 0.5492\n",
      "Validation: {'precision': 0.5694789081815201, 'recall': 0.27047731290353283, 'f1': 0.36675988376489166, 'auc': 0.7207621207315392, 'prauc': 0.46939157674693516}\n",
      "Test:       {'precision': 0.5705967976627279, 'recall': 0.21705426356468963, 'f1': 0.3144805415323162, 'auc': 0.6840216175812358, 'prauc': 0.46416824202598095}\n"
     ]
    },
    {
     "name": "stderr",
     "output_type": "stream",
     "text": [
      "Training Batches: 100%|██████████| 1/1 [00:00<00:00,  2.22it/s]\n",
      "Running inference: 100%|██████████| 1/1 [00:01<00:00,  1.27s/it]\n",
      "Running inference: 100%|██████████| 1/1 [00:00<00:00,  1.04it/s]\n"
     ]
    },
    {
     "name": "stdout",
     "output_type": "stream",
     "text": [
      "Epoch: 021, Average Loss: 0.5515\n",
      "Validation: {'precision': 0.5691382765474035, 'recall': 0.33470830877822805, 'f1': 0.42152133114028395, 'auc': 0.7435924785849629, 'prauc': 0.49340797485048854}\n",
      "Test:       {'precision': 0.5648679678465572, 'recall': 0.27242524916792676, 'f1': 0.3675756399852421, 'auc': 0.7071595004448883, 'prauc': 0.48694796810888946}\n"
     ]
    },
    {
     "name": "stderr",
     "output_type": "stream",
     "text": [
      "Training Batches: 100%|██████████| 1/1 [00:00<00:00,  2.22it/s]\n",
      "Running inference: 100%|██████████| 1/1 [00:01<00:00,  1.28s/it]\n",
      "Running inference: 100%|██████████| 1/1 [00:00<00:00,  1.01it/s]\n"
     ]
    },
    {
     "name": "stdout",
     "output_type": "stream",
     "text": [
      "Epoch: 022, Average Loss: 0.5366\n",
      "Validation: {'precision': 0.5603864734254398, 'recall': 0.4101355332916315, 'f1': 0.4736304816766692, 'auc': 0.7634413313506025, 'prauc': 0.5159682318135989}\n",
      "Test:       {'precision': 0.5465949820739553, 'recall': 0.33776301217974664, 'f1': 0.4175222403135974, 'auc': 0.7311297946127896, 'prauc': 0.5110709675193245}\n"
     ]
    },
    {
     "name": "stderr",
     "output_type": "stream",
     "text": [
      "Training Batches: 100%|██████████| 1/1 [00:00<00:00,  1.34it/s]\n",
      "Running inference: 100%|██████████| 1/1 [00:00<00:00,  1.04it/s]\n",
      "Running inference: 100%|██████████| 1/1 [00:01<00:00,  1.26s/it]\n"
     ]
    },
    {
     "name": "stdout",
     "output_type": "stream",
     "text": [
      "Epoch: 023, Average Loss: 0.5444\n",
      "Validation: {'precision': 0.559205500377699, 'recall': 0.4313494401860263, 'f1': 0.48702594318385417, 'auc': 0.7651486709500361, 'prauc': 0.5175395171836743}\n",
      "Test:       {'precision': 0.5488013698583151, 'recall': 0.35492801771675014, 'f1': 0.43106926220770564, 'auc': 0.7311873444922242, 'prauc': 0.5123218726779825}\n"
     ]
    },
    {
     "name": "stderr",
     "output_type": "stream",
     "text": [
      "Training Batches: 100%|██████████| 1/1 [00:00<00:00,  2.20it/s]\n",
      "Running inference: 100%|██████████| 1/1 [00:00<00:00,  1.05it/s]\n",
      "Running inference: 100%|██████████| 1/1 [00:01<00:00,  1.28s/it]\n"
     ]
    },
    {
     "name": "stdout",
     "output_type": "stream",
     "text": [
      "Epoch: 024, Average Loss: 0.5242\n",
      "Validation: {'precision': 0.5541090317286078, 'recall': 0.40129640541896705, 'f1': 0.465481881659249, 'auc': 0.7566018174406807, 'prauc': 0.5062922457491625}\n",
      "Test:       {'precision': 0.5616180620831457, 'recall': 0.3305647840513258, 'f1': 0.4161728778699093, 'auc': 0.7198167808800958, 'prauc': 0.5024525336721085}\n"
     ]
    },
    {
     "name": "stderr",
     "output_type": "stream",
     "text": [
      "Training Batches: 100%|██████████| 1/1 [00:00<00:00,  6.33it/s]\n",
      "Running inference: 100%|██████████| 1/1 [00:01<00:00,  1.25s/it]\n",
      "Running inference: 100%|██████████| 1/1 [00:01<00:00,  1.28s/it]\n"
     ]
    },
    {
     "name": "stdout",
     "output_type": "stream",
     "text": [
      "Epoch: 025, Average Loss: 0.5118\n",
      "Validation: {'precision': 0.5668849391902069, 'recall': 0.35710076605564467, 'f1': 0.4381778694411245, 'auc': 0.7477913677124459, 'prauc': 0.4958743717803602}\n",
      "Test:       {'precision': 0.5759562841467109, 'recall': 0.2918050941290598, 'f1': 0.38735758465492715, 'auc': 0.7122250592979186, 'prauc': 0.49650205872437175}\n"
     ]
    },
    {
     "name": "stderr",
     "output_type": "stream",
     "text": [
      "Training Batches: 100%|██████████| 1/1 [00:00<00:00,  6.41it/s]\n",
      "Running inference: 100%|██████████| 1/1 [00:01<00:00,  1.26s/it]\n",
      "Running inference: 100%|██████████| 1/1 [00:00<00:00,  1.02it/s]\n"
     ]
    },
    {
     "name": "stdout",
     "output_type": "stream",
     "text": [
      "Epoch: 026, Average Loss: 0.5046\n",
      "Validation: {'precision': 0.5711556828980788, 'recall': 0.352386564523557, 'f1': 0.43586005358642294, 'auc': 0.749965797001403, 'prauc': 0.4976425409931775}\n",
      "Test:       {'precision': 0.5841694537281586, 'recall': 0.2901439645609627, 'f1': 0.3877173466539761, 'auc': 0.7161575318081569, 'prauc': 0.5015523619478907}\n"
     ]
    },
    {
     "name": "stderr",
     "output_type": "stream",
     "text": [
      "Training Batches: 100%|██████████| 1/1 [00:00<00:00,  1.35it/s]\n",
      "Running inference: 100%|██████████| 1/1 [00:00<00:00,  1.05it/s]\n",
      "Running inference: 100%|██████████| 1/1 [00:01<00:00,  1.25s/it]\n"
     ]
    },
    {
     "name": "stdout",
     "output_type": "stream",
     "text": [
      "Epoch: 027, Average Loss: 0.5082\n",
      "Validation: {'precision': 0.5778175313007351, 'recall': 0.3806717737160833, 'f1': 0.4589697998263856, 'auc': 0.760451778498443, 'prauc': 0.5094725886030507}\n",
      "Test:       {'precision': 0.5911949685472621, 'recall': 0.31229235880225753, 'f1': 0.40869564764741656, 'auc': 0.7287948082745771, 'prauc': 0.5155601306058577}\n"
     ]
    },
    {
     "name": "stderr",
     "output_type": "stream",
     "text": [
      "Training Batches: 100%|██████████| 1/1 [00:00<00:00,  1.34it/s]\n",
      "Running inference: 100%|██████████| 1/1 [00:00<00:00,  1.02it/s]\n",
      "Running inference: 100%|██████████| 1/1 [00:01<00:00,  1.28s/it]\n"
     ]
    },
    {
     "name": "stdout",
     "output_type": "stream",
     "text": [
      "Epoch: 028, Average Loss: 0.4972\n",
      "Validation: {'precision': 0.5736554949292779, 'recall': 0.4337065409520701, 'f1': 0.49395972663681154, 'auc': 0.7755967768575933, 'prauc': 0.5281462040285546}\n",
      "Test:       {'precision': 0.5828729281714284, 'recall': 0.3504983388684912, 'f1': 0.4377593314064698, 'auc': 0.7469790929597355, 'prauc': 0.5356337197524601}\n"
     ]
    },
    {
     "name": "stderr",
     "output_type": "stream",
     "text": [
      "Training Batches: 100%|██████████| 1/1 [00:00<00:00,  6.03it/s]\n",
      "Running inference: 100%|██████████| 1/1 [00:01<00:00,  1.26s/it]\n",
      "Running inference: 100%|██████████| 1/1 [00:00<00:00,  1.04it/s]\n"
     ]
    },
    {
     "name": "stdout",
     "output_type": "stream",
     "text": [
      "Epoch: 029, Average Loss: 0.4788\n",
      "Validation: {'precision': 0.5688581314839526, 'recall': 0.4843842074220131, 'f1': 0.5232336041949689, 'auc': 0.7895968210564263, 'prauc': 0.5472148596105494}\n",
      "Test:       {'precision': 0.5795819935644728, 'recall': 0.39922480619933987, 'f1': 0.4727868804125644, 'auc': 0.7652760769275085, 'prauc': 0.556472958591318}\n"
     ]
    },
    {
     "name": "stderr",
     "output_type": "stream",
     "text": [
      "Training Batches: 100%|██████████| 1/1 [00:00<00:00,  1.40it/s]\n",
      "Running inference: 100%|██████████| 1/1 [00:01<00:00,  1.29s/it]\n",
      "Running inference: 100%|██████████| 1/1 [00:00<00:00,  1.03it/s]\n"
     ]
    },
    {
     "name": "stdout",
     "output_type": "stream",
     "text": [
      "Epoch: 030, Average Loss: 0.4783\n",
      "Validation: {'precision': 0.5718050065838485, 'recall': 0.5114908662315175, 'f1': 0.5399688908130736, 'auc': 0.7982187870332886, 'prauc': 0.5604122912750438}\n",
      "Test:       {'precision': 0.5870722433415432, 'recall': 0.4274640088569908, 'f1': 0.4947132280587408, 'auc': 0.7774744970940697, 'prauc': 0.5721524349697436}\n"
     ]
    },
    {
     "name": "stderr",
     "output_type": "stream",
     "text": [
      "Training Batches: 100%|██████████| 1/1 [00:00<00:00,  2.22it/s]\n",
      "Running inference: 100%|██████████| 1/1 [00:00<00:00,  1.04it/s]\n",
      "Running inference: 100%|██████████| 1/1 [00:00<00:00,  1.04it/s]\n"
     ]
    },
    {
     "name": "stdout",
     "output_type": "stream",
     "text": [
      "Epoch: 031, Average Loss: 0.4698\n",
      "Validation: {'precision': 0.5809018567600737, 'recall': 0.5162050677636052, 'f1': 0.5466458608486099, 'auc': 0.8042990646326176, 'prauc': 0.5711336177484607}\n",
      "Test:       {'precision': 0.6092214663597187, 'recall': 0.44629014396209143, 'f1': 0.51518056398769, 'auc': 0.7866525641764248, 'prauc': 0.5867533655896127}\n"
     ]
    },
    {
     "name": "stderr",
     "output_type": "stream",
     "text": [
      "Training Batches: 100%|██████████| 1/1 [00:00<00:00,  1.35it/s]\n",
      "Running inference: 100%|██████████| 1/1 [00:00<00:00,  1.03it/s]\n",
      "Running inference: 100%|██████████| 1/1 [00:01<00:00,  1.27s/it]\n"
     ]
    },
    {
     "name": "stdout",
     "output_type": "stream",
     "text": [
      "Epoch: 032, Average Loss: 0.4563\n",
      "Validation: {'precision': 0.59072847681728, 'recall': 0.5256334708277807, 'f1': 0.5562831256652306, 'auc': 0.8096496782618771, 'prauc': 0.5817412331280678}\n",
      "Test:       {'precision': 0.6191553544448029, 'recall': 0.45459579180257703, 'f1': 0.5242656400693906, 'auc': 0.7942011387366946, 'prauc': 0.5992679836167162}\n"
     ]
    },
    {
     "name": "stderr",
     "output_type": "stream",
     "text": [
      "Training Batches: 100%|██████████| 1/1 [00:00<00:00,  2.20it/s]\n",
      "Running inference: 100%|██████████| 1/1 [00:01<00:00,  1.27s/it]\n",
      "Running inference: 100%|██████████| 1/1 [00:00<00:00,  1.04it/s]\n"
     ]
    },
    {
     "name": "stdout",
     "output_type": "stream",
     "text": [
      "Epoch: 033, Average Loss: 0.4507\n",
      "Validation: {'precision': 0.5974632843751838, 'recall': 0.5274012964023135, 'f1': 0.5602503862521968, 'auc': 0.8130421303019916, 'prauc': 0.5896396616281732}\n",
      "Test:       {'precision': 0.6301158301109644, 'recall': 0.4518272425224152, 'f1': 0.5262818396986462, 'auc': 0.7984752174831486, 'prauc': 0.6083538515733812}\n"
     ]
    },
    {
     "name": "stderr",
     "output_type": "stream",
     "text": [
      "Training Batches: 100%|██████████| 1/1 [00:00<00:00,  2.35it/s]\n",
      "Running inference: 100%|██████████| 1/1 [00:01<00:00,  1.26s/it]\n",
      "Running inference: 100%|██████████| 1/1 [00:00<00:00,  1.01it/s]\n"
     ]
    },
    {
     "name": "stdout",
     "output_type": "stream",
     "text": [
      "Epoch: 034, Average Loss: 0.4807\n",
      "Validation: {'precision': 0.5909090909055097, 'recall': 0.5745433117231907, 'f1': 0.5826112886933518, 'auc': 0.8194524939830187, 'prauc': 0.6011013792780691}\n",
      "Test:       {'precision': 0.6194387405843982, 'recall': 0.5011074197092962, 'f1': 0.5540250945320118, 'auc': 0.8068408156793693, 'prauc': 0.6177586698574773}\n"
     ]
    },
    {
     "name": "stderr",
     "output_type": "stream",
     "text": [
      "Training Batches: 100%|██████████| 1/1 [00:00<00:00,  1.36it/s]\n",
      "Running inference: 100%|██████████| 1/1 [00:00<00:00,  1.02it/s]\n",
      "Running inference: 100%|██████████| 1/1 [00:01<00:00,  1.28s/it]\n"
     ]
    },
    {
     "name": "stdout",
     "output_type": "stream",
     "text": [
      "Epoch: 035, Average Loss: 0.4435\n",
      "Validation: {'precision': 0.5860091743085665, 'recall': 0.6022392457242061, 'f1': 0.5940133632043969, 'auc': 0.8237963706115574, 'prauc': 0.6090034822089683}\n",
      "Test:       {'precision': 0.6129641283787731, 'recall': 0.5393133997755298, 'f1': 0.5737849729257364, 'auc': 0.8119933456336198, 'prauc': 0.6237427615383869}\n"
     ]
    },
    {
     "name": "stderr",
     "output_type": "stream",
     "text": [
      "Training Batches: 100%|██████████| 1/1 [00:00<00:00,  2.19it/s]\n",
      "Running inference: 100%|██████████| 1/1 [00:00<00:00,  1.04it/s]\n",
      "Running inference: 100%|██████████| 1/1 [00:01<00:00,  1.30s/it]\n"
     ]
    },
    {
     "name": "stdout",
     "output_type": "stream",
     "text": [
      "Epoch: 036, Average Loss: 0.4403\n",
      "Validation: {'precision': 0.5802197802165923, 'recall': 0.6222746022355788, 'f1': 0.6005117948321008, 'auc': 0.8266348682038066, 'prauc': 0.6139914198127159}\n",
      "Test:       {'precision': 0.6134969325115737, 'recall': 0.5537098560323716, 'f1': 0.5820721719596724, 'auc': 0.8151051014675159, 'prauc': 0.6274485432979464}\n"
     ]
    },
    {
     "name": "stderr",
     "output_type": "stream",
     "text": [
      "Training Batches: 100%|██████████| 1/1 [00:00<00:00,  6.29it/s]\n",
      "Running inference: 100%|██████████| 1/1 [00:01<00:00,  1.28s/it]\n",
      "Running inference: 100%|██████████| 1/1 [00:01<00:00,  1.29s/it]\n"
     ]
    },
    {
     "name": "stdout",
     "output_type": "stream",
     "text": [
      "Epoch: 037, Average Loss: 0.4449\n",
      "Validation: {'precision': 0.5824825362676922, 'recall': 0.6387743075978859, 'f1': 0.6093310798863435, 'auc': 0.8302607692819645, 'prauc': 0.6213584367517179}\n",
      "Test:       {'precision': 0.6143364928873558, 'recall': 0.5741971207055693, 'f1': 0.5935890047332726, 'auc': 0.8183303567427778, 'prauc': 0.6316764624318555}\n"
     ]
    },
    {
     "name": "stderr",
     "output_type": "stream",
     "text": [
      "Training Batches: 100%|██████████| 1/1 [00:00<00:00,  6.34it/s]\n",
      "Running inference: 100%|██████████| 1/1 [00:01<00:00,  1.26s/it]\n",
      "Running inference: 100%|██████████| 1/1 [00:00<00:00,  1.02it/s]\n"
     ]
    },
    {
     "name": "stdout",
     "output_type": "stream",
     "text": [
      "Epoch: 038, Average Loss: 0.4422\n",
      "Validation: {'precision': 0.5869336143277822, 'recall': 0.6564525633432148, 'f1': 0.6197496473070363, 'auc': 0.8347704554051021, 'prauc': 0.6309623334097441}\n",
      "Test:       {'precision': 0.611965811962325, 'recall': 0.594684385378767, 'f1': 0.6032013429336108, 'auc': 0.821308547615847, 'prauc': 0.6358268485168257}\n"
     ]
    },
    {
     "name": "stderr",
     "output_type": "stream",
     "text": [
      "Training Batches: 100%|██████████| 1/1 [00:00<00:00,  1.34it/s]\n",
      "Running inference: 100%|██████████| 1/1 [00:00<00:00,  1.04it/s]\n",
      "Running inference: 100%|██████████| 1/1 [00:01<00:00,  1.26s/it]\n"
     ]
    },
    {
     "name": "stdout",
     "output_type": "stream",
     "text": [
      "Epoch: 039, Average Loss: 0.4325\n",
      "Validation: {'precision': 0.5842131724455294, 'recall': 0.6847377725357411, 'f1': 0.6304937552015871, 'auc': 0.8378254123106013, 'prauc': 0.6362366641530358}\n",
      "Test:       {'precision': 0.5973474801029319, 'recall': 0.6234772978924503, 'f1': 0.610132750349838, 'auc': 0.8241771782906343, 'prauc': 0.6378358977507342}\n"
     ]
    },
    {
     "name": "stderr",
     "output_type": "stream",
     "text": [
      "Training Batches: 100%|██████████| 1/1 [00:00<00:00,  1.34it/s]\n",
      "Running inference: 100%|██████████| 1/1 [00:00<00:00,  1.03it/s]\n",
      "Running inference: 100%|██████████| 1/1 [00:01<00:00,  1.30s/it]\n"
     ]
    },
    {
     "name": "stdout",
     "output_type": "stream",
     "text": [
      "Epoch: 040, Average Loss: 0.4362\n",
      "Validation: {'precision': 0.5864257812471366, 'recall': 0.7077195050046687, 'f1': 0.6413885130645287, 'auc': 0.8401614355985321, 'prauc': 0.6422932922671392}\n",
      "Test:       {'precision': 0.592951991825368, 'recall': 0.6428571428535833, 'f1': 0.6168969131770332, 'auc': 0.8262010875265346, 'prauc': 0.6407130479244607}\n"
     ]
    },
    {
     "name": "stderr",
     "output_type": "stream",
     "text": [
      "Training Batches: 100%|██████████| 1/1 [00:00<00:00,  6.35it/s]\n",
      "Running inference: 100%|██████████| 1/1 [00:01<00:00,  1.26s/it]\n",
      "Running inference: 100%|██████████| 1/1 [00:00<00:00,  1.02it/s]\n"
     ]
    },
    {
     "name": "stdout",
     "output_type": "stream",
     "text": [
      "Epoch: 041, Average Loss: 0.4339\n",
      "Validation: {'precision': 0.5904761904732307, 'recall': 0.6941661755999166, 'f1': 0.6381365064050659, 'auc': 0.841213074014778, 'prauc': 0.6475868859880625}\n",
      "Test:       {'precision': 0.5990541250625379, 'recall': 0.6312292358769035, 'f1': 0.6147209440429738, 'auc': 0.826245527112579, 'prauc': 0.642209314127089}\n"
     ]
    },
    {
     "name": "stderr",
     "output_type": "stream",
     "text": [
      "Training Batches: 100%|██████████| 1/1 [00:00<00:00,  1.36it/s]\n",
      "Running inference: 100%|██████████| 1/1 [00:01<00:00,  1.29s/it]\n",
      "Running inference: 100%|██████████| 1/1 [00:00<00:00,  1.02it/s]\n"
     ]
    },
    {
     "name": "stdout",
     "output_type": "stream",
     "text": [
      "Epoch: 042, Average Loss: 0.4555\n",
      "Validation: {'precision': 0.6100735710208824, 'recall': 0.63523865644882, 'f1': 0.6224018425735061, 'auc': 0.8394891279174265, 'prauc': 0.6469246393654149}\n",
      "Test:       {'precision': 0.6227436823067224, 'recall': 0.5730897009935045, 'f1': 0.5968858081539674, 'auc': 0.8242336818086247, 'prauc': 0.6428536326927448}\n"
     ]
    },
    {
     "name": "stderr",
     "output_type": "stream",
     "text": [
      "Training Batches: 100%|██████████| 1/1 [00:00<00:00,  2.18it/s]\n",
      "Running inference: 100%|██████████| 1/1 [00:00<00:00,  1.04it/s]\n",
      "Running inference: 100%|██████████| 1/1 [00:00<00:00,  1.03it/s]\n"
     ]
    },
    {
     "name": "stdout",
     "output_type": "stream",
     "text": [
      "Epoch: 043, Average Loss: 0.4747\n",
      "Validation: {'precision': 0.600216099402484, 'recall': 0.654684737768682, 'f1': 0.6262683151862731, 'auc': 0.8407733211756736, 'prauc': 0.6482243242464754}\n",
      "Test:       {'precision': 0.6188571428536066, 'recall': 0.5996677740830584, 'f1': 0.6091113560776794, 'auc': 0.8279815638499602, 'prauc': 0.648193534980613}\n"
     ]
    },
    {
     "name": "stderr",
     "output_type": "stream",
     "text": [
      "Training Batches: 100%|██████████| 1/1 [00:00<00:00,  1.34it/s]\n",
      "Running inference: 100%|██████████| 1/1 [00:00<00:00,  1.02it/s]\n",
      "Running inference: 100%|██████████| 1/1 [00:01<00:00,  1.28s/it]\n"
     ]
    },
    {
     "name": "stdout",
     "output_type": "stream",
     "text": [
      "Epoch: 044, Average Loss: 0.4269\n",
      "Validation: {'precision': 0.5909327774851958, 'recall': 0.6682380671734341, 'f1': 0.627212384395908, 'auc': 0.8418763758643202, 'prauc': 0.6490599658263146}\n",
      "Test:       {'precision': 0.6087425795973624, 'recall': 0.6245847176045151, 'f1': 0.6165618971565149, 'auc': 0.8300918286803487, 'prauc': 0.6491573713898892}\n"
     ]
    },
    {
     "name": "stderr",
     "output_type": "stream",
     "text": [
      "Training Batches: 100%|██████████| 1/1 [00:00<00:00,  2.22it/s]\n",
      "Running inference: 100%|██████████| 1/1 [00:01<00:00,  1.26s/it]\n",
      "Running inference: 100%|██████████| 1/1 [00:00<00:00,  1.03it/s]\n"
     ]
    },
    {
     "name": "stdout",
     "output_type": "stream",
     "text": [
      "Epoch: 045, Average Loss: 0.4191\n",
      "Validation: {'precision': 0.585166240406214, 'recall': 0.6741308190885438, 'f1': 0.626506019117909, 'auc': 0.8421035016589253, 'prauc': 0.6490474368552647}\n",
      "Test:       {'precision': 0.601885804082756, 'recall': 0.6362126245811949, 'f1': 0.6185733462791138, 'auc': 0.8308831241349053, 'prauc': 0.6490832362293666}\n"
     ]
    },
    {
     "name": "stderr",
     "output_type": "stream",
     "text": [
      "Training Batches: 100%|██████████| 1/1 [00:00<00:00,  2.20it/s]\n",
      "Running inference: 100%|██████████| 1/1 [00:01<00:00,  1.25s/it]\n",
      "Running inference: 100%|██████████| 1/1 [00:00<00:00,  1.05it/s]\n"
     ]
    },
    {
     "name": "stdout",
     "output_type": "stream",
     "text": [
      "Epoch: 046, Average Loss: 0.4142\n",
      "Validation: {'precision': 0.5798403193583841, 'recall': 0.6847377725357411, 'f1': 0.6279383900593815, 'auc': 0.8433087501809151, 'prauc': 0.650071869989772}\n",
      "Test:       {'precision': 0.595658758199921, 'recall': 0.6533776301181984, 'f1': 0.623184573829673, 'auc': 0.8317250142428259, 'prauc': 0.6489183221605498}\n"
     ]
    },
    {
     "name": "stderr",
     "output_type": "stream",
     "text": [
      "Training Batches: 100%|██████████| 1/1 [00:00<00:00,  1.35it/s]\n",
      "Running inference: 100%|██████████| 1/1 [00:00<00:00,  1.03it/s]\n",
      "Running inference: 100%|██████████| 1/1 [00:01<00:00,  1.31s/it]\n"
     ]
    },
    {
     "name": "stdout",
     "output_type": "stream",
     "text": [
      "Epoch: 047, Average Loss: 0.4151\n",
      "Validation: {'precision': 0.5842864246614407, 'recall': 0.6923983500253836, 'f1': 0.6337648278263956, 'auc': 0.8460840792099292, 'prauc': 0.6547554367238212}\n",
      "Test:       {'precision': 0.592702169622324, 'recall': 0.6655592469509105, 'f1': 0.6270213825982608, 'auc': 0.8335770739991737, 'prauc': 0.6512219781635382}\n"
     ]
    },
    {
     "name": "stderr",
     "output_type": "stream",
     "text": [
      "Training Batches: 100%|██████████| 1/1 [00:00<00:00,  2.16it/s]\n",
      "Running inference: 100%|██████████| 1/1 [00:00<00:00,  1.04it/s]\n",
      "Running inference: 100%|██████████| 1/1 [00:01<00:00,  1.28s/it]\n"
     ]
    },
    {
     "name": "stdout",
     "output_type": "stream",
     "text": [
      "Epoch: 048, Average Loss: 0.4309\n",
      "Validation: {'precision': 0.5946639302175749, 'recall': 0.6829699469612083, 'f1': 0.635765217181671, 'auc': 0.8484494832249461, 'prauc': 0.6610089864782033}\n",
      "Test:       {'precision': 0.600512820509741, 'recall': 0.648394241413907, 'f1': 0.6235356712553602, 'auc': 0.8356556402328682, 'prauc': 0.655598743865996}\n"
     ]
    },
    {
     "name": "stderr",
     "output_type": "stream",
     "text": [
      "Training Batches: 100%|██████████| 1/1 [00:00<00:00,  6.41it/s]\n",
      "Running inference: 100%|██████████| 1/1 [00:01<00:00,  1.27s/it]\n",
      "Running inference: 100%|██████████| 1/1 [00:01<00:00,  1.28s/it]\n"
     ]
    },
    {
     "name": "stdout",
     "output_type": "stream",
     "text": [
      "Epoch: 049, Average Loss: 0.4163\n",
      "Validation: {'precision': 0.6015831134532899, 'recall': 0.6717737183224999, 'f1': 0.6347438702900547, 'auc': 0.8494854732104615, 'prauc': 0.6640376080464656}\n",
      "Test:       {'precision': 0.6069182389905298, 'recall': 0.6411960132854863, 'f1': 0.6235864247257769, 'auc': 0.8373018745380622, 'prauc': 0.659254698889635}\n"
     ]
    },
    {
     "name": "stderr",
     "output_type": "stream",
     "text": [
      "Training Batches: 100%|██████████| 1/1 [00:00<00:00,  6.33it/s]\n",
      "Running inference: 100%|██████████| 1/1 [00:01<00:00,  1.27s/it]\n",
      "Running inference: 100%|██████████| 1/1 [00:00<00:00,  1.03it/s]\n"
     ]
    },
    {
     "name": "stdout",
     "output_type": "stream",
     "text": [
      "Epoch: 050, Average Loss: 0.3997\n",
      "Validation: {'precision': 0.6077468630626964, 'recall': 0.6564525633432148, 'f1': 0.6311614680916645, 'auc': 0.8502514159913676, 'prauc': 0.6672073147929161}\n",
      "Test:       {'precision': 0.6135629709331886, 'recall': 0.6312292358769035, 'f1': 0.6222707373556892, 'auc': 0.8381390867948201, 'prauc': 0.661702739389089}\n"
     ]
    },
    {
     "name": "stderr",
     "output_type": "stream",
     "text": [
      "Training Batches: 100%|██████████| 1/1 [00:00<00:00,  1.35it/s]\n",
      "Running inference: 100%|██████████| 1/1 [00:00<00:00,  1.03it/s]\n",
      "Running inference: 100%|██████████| 1/1 [00:01<00:00,  1.27s/it]\n"
     ]
    },
    {
     "name": "stdout",
     "output_type": "stream",
     "text": [
      "Epoch: 051, Average Loss: 0.4083\n",
      "Validation: {'precision': 0.6169125993154546, 'recall': 0.6405421331724188, 'f1': 0.6285053433647116, 'auc': 0.8499237570132114, 'prauc': 0.6672461310110391}\n",
      "Test:       {'precision': 0.6192584393988974, 'recall': 0.6196013289002237, 'f1': 0.6194298316973743, 'auc': 0.8378755268122119, 'prauc': 0.6615101206316731}\n"
     ]
    },
    {
     "name": "stderr",
     "output_type": "stream",
     "text": [
      "Training Batches: 100%|██████████| 1/1 [00:00<00:00,  1.32it/s]\n",
      "Running inference: 100%|██████████| 1/1 [00:00<00:00,  1.04it/s]\n",
      "Running inference: 100%|██████████| 1/1 [00:01<00:00,  1.28s/it]\n"
     ]
    },
    {
     "name": "stdout",
     "output_type": "stream",
     "text": [
      "Epoch: 052, Average Loss: 0.3983\n",
      "Validation: {'precision': 0.6198830409320475, 'recall': 0.6246317030016227, 'f1': 0.6222483072946297, 'auc': 0.8493605412491996, 'prauc': 0.6665253107900632}\n",
      "Test:       {'precision': 0.6224373576274349, 'recall': 0.6052048726433821, 'f1': 0.6137001634422334, 'auc': 0.8370731522364807, 'prauc': 0.6592878980775999}\n"
     ]
    },
    {
     "name": "stderr",
     "output_type": "stream",
     "text": [
      "Training Batches: 100%|██████████| 1/1 [00:00<00:00,  6.34it/s]\n",
      "Running inference: 100%|██████████| 1/1 [00:01<00:00,  1.26s/it]\n",
      "Running inference: 100%|██████████| 1/1 [00:00<00:00,  1.04it/s]\n"
     ]
    },
    {
     "name": "stdout",
     "output_type": "stream",
     "text": [
      "Epoch: 053, Average Loss: 0.4077\n",
      "Validation: {'precision': 0.6187974314032761, 'recall': 0.6246317030016227, 'f1': 0.6217008747618598, 'auc': 0.8505941485599419, 'prauc': 0.6699971086307898}\n",
      "Test:       {'precision': 0.6254980079645674, 'recall': 0.6085271317795763, 'f1': 0.6168958692607442, 'auc': 0.8388552904280824, 'prauc': 0.66382660163449}\n"
     ]
    },
    {
     "name": "stderr",
     "output_type": "stream",
     "text": [
      "Training Batches: 100%|██████████| 1/1 [00:00<00:00,  1.36it/s]\n",
      "Running inference: 100%|██████████| 1/1 [00:01<00:00,  1.25s/it]\n",
      "Running inference: 100%|██████████| 1/1 [00:00<00:00,  1.08it/s]\n"
     ]
    },
    {
     "name": "stdout",
     "output_type": "stream",
     "text": [
      "Epoch: 054, Average Loss: 0.4037\n",
      "Validation: {'precision': 0.6168277430323091, 'recall': 0.6393635827893969, 'f1': 0.6278935135164943, 'auc': 0.8523190527244813, 'prauc': 0.6754896955211577}\n",
      "Test:       {'precision': 0.6259073143460308, 'recall': 0.6207087486122884, 'f1': 0.6232971871011529, 'auc': 0.8418240024974802, 'prauc': 0.6715065159297695}\n"
     ]
    },
    {
     "name": "stderr",
     "output_type": "stream",
     "text": [
      "Training Batches: 100%|██████████| 1/1 [00:00<00:00,  2.31it/s]\n",
      "Running inference: 100%|██████████| 1/1 [00:00<00:00,  1.07it/s]\n",
      "Running inference: 100%|██████████| 1/1 [00:00<00:00,  1.09it/s]\n"
     ]
    },
    {
     "name": "stdout",
     "output_type": "stream",
     "text": [
      "Epoch: 055, Average Loss: 0.4007\n",
      "Validation: {'precision': 0.6138613861352373, 'recall': 0.6576311137262367, 'f1': 0.6349928826267787, 'auc': 0.8533391387946825, 'prauc': 0.6786860743227372}\n",
      "Test:       {'precision': 0.6239130434748701, 'recall': 0.6356589147251624, 'f1': 0.6297312072844189, 'auc': 0.8442196162487869, 'prauc': 0.6773670912843572}\n"
     ]
    },
    {
     "name": "stderr",
     "output_type": "stream",
     "text": [
      "Training Batches: 100%|██████████| 1/1 [00:00<00:00,  1.47it/s]\n",
      "Running inference: 100%|██████████| 1/1 [00:00<00:00,  1.04it/s]\n",
      "Running inference: 100%|██████████| 1/1 [00:01<00:00,  1.26s/it]\n"
     ]
    },
    {
     "name": "stdout",
     "output_type": "stream",
     "text": [
      "Epoch: 056, Average Loss: 0.3987\n",
      "Validation: {'precision': 0.5992666317412296, 'recall': 0.6741308190885438, 'f1': 0.634498053804667, 'auc': 0.8529084556582873, 'prauc': 0.6783908713526376}\n",
      "Test:       {'precision': 0.6232114467375559, 'recall': 0.6511627906940689, 'f1': 0.6368805798892894, 'auc': 0.8456912312941349, 'prauc': 0.6801596891631264}\n"
     ]
    },
    {
     "name": "stderr",
     "output_type": "stream",
     "text": [
      "Training Batches: 100%|██████████| 1/1 [00:00<00:00,  2.23it/s]\n",
      "Running inference: 100%|██████████| 1/1 [00:01<00:00,  1.27s/it]\n",
      "Running inference: 100%|██████████| 1/1 [00:00<00:00,  1.02it/s]\n"
     ]
    },
    {
     "name": "stdout",
     "output_type": "stream",
     "text": [
      "Epoch: 057, Average Loss: 0.3915\n",
      "Validation: {'precision': 0.5832916458199936, 'recall': 0.687094873301785, 'f1': 0.6309523759823493, 'auc': 0.8513401635433464, 'prauc': 0.675130752134759}\n",
      "Test:       {'precision': 0.6141851106608944, 'recall': 0.6760797342155256, 'f1': 0.643647860058192, 'auc': 0.8458854852187289, 'prauc': 0.6795175773151068}\n"
     ]
    },
    {
     "name": "stderr",
     "output_type": "stream",
     "text": [
      "Training Batches: 100%|██████████| 1/1 [00:00<00:00,  2.21it/s]\n",
      "Running inference: 100%|██████████| 1/1 [00:01<00:00,  1.27s/it]\n",
      "Running inference: 100%|██████████| 1/1 [00:00<00:00,  1.02it/s]\n"
     ]
    },
    {
     "name": "stdout",
     "output_type": "stream",
     "text": [
      "Epoch: 058, Average Loss: 0.3966\n",
      "Validation: {'precision': 0.5705433746397972, 'recall': 0.705362404238625, 'f1': 0.6308300345781931, 'auc': 0.8489774421164548, 'prauc': 0.6701873852492392}\n",
      "Test:       {'precision': 0.599999999997136, 'recall': 0.696013289032691, 'f1': 0.6444501360136278, 'auc': 0.8446496092517063, 'prauc': 0.676298025783211}\n"
     ]
    },
    {
     "name": "stderr",
     "output_type": "stream",
     "text": [
      "Training Batches: 100%|██████████| 1/1 [00:00<00:00,  1.34it/s]\n",
      "Running inference: 100%|██████████| 1/1 [00:00<00:00,  1.05it/s]\n",
      "Running inference: 100%|██████████| 1/1 [00:01<00:00,  1.27s/it]\n"
     ]
    },
    {
     "name": "stdout",
     "output_type": "stream",
     "text": [
      "Epoch: 059, Average Loss: 0.4065\n",
      "Validation: {'precision': 0.5634124087565539, 'recall': 0.7277548615160415, 'f1': 0.6351247058002882, 'auc': 0.8483122880036832, 'prauc': 0.6679508689840811}\n",
      "Test:       {'precision': 0.5922150138990167, 'recall': 0.7076411960093708, 'f1': 0.6448032240977273, 'auc': 0.844471912458201, 'prauc': 0.6743065741124338}\n"
     ]
    },
    {
     "name": "stderr",
     "output_type": "stream",
     "text": [
      "Training Batches: 100%|██████████| 1/1 [00:00<00:00,  2.20it/s]\n",
      "Running inference: 100%|██████████| 1/1 [00:00<00:00,  1.04it/s]\n",
      "Running inference: 100%|██████████| 1/1 [00:01<00:00,  1.28s/it]\n"
     ]
    },
    {
     "name": "stdout",
     "output_type": "stream",
     "text": [
      "Epoch: 060, Average Loss: 0.3931\n",
      "Validation: {'precision': 0.5621621621596299, 'recall': 0.7354154390056841, 'f1': 0.6372223591400082, 'auc': 0.8478725990357244, 'prauc': 0.6671621339719569}\n",
      "Test:       {'precision': 0.5855978260843044, 'recall': 0.7159468438498564, 'f1': 0.6442451370499293, 'auc': 0.8444523393441259, 'prauc': 0.6732768224660602}\n"
     ]
    },
    {
     "name": "stderr",
     "output_type": "stream",
     "text": [
      "Training Batches: 100%|██████████| 1/1 [00:00<00:00,  6.43it/s]\n",
      "Running inference: 100%|██████████| 1/1 [00:01<00:00,  1.25s/it]\n",
      "Running inference: 100%|██████████| 1/1 [00:01<00:00,  1.29s/it]\n"
     ]
    },
    {
     "name": "stdout",
     "output_type": "stream",
     "text": [
      "Epoch: 061, Average Loss: 0.3933\n",
      "Validation: {'precision': 0.5634703196321303, 'recall': 0.7271655863245305, 'f1': 0.6349369644622962, 'auc': 0.8486096720587115, 'prauc': 0.6688670594302225}\n",
      "Test:       {'precision': 0.5879926672750322, 'recall': 0.7104097452895326, 'f1': 0.6434302859138373, 'auc': 0.845649253735018, 'prauc': 0.6749194574558454}\n"
     ]
    },
    {
     "name": "stderr",
     "output_type": "stream",
     "text": [
      "Training Batches: 100%|██████████| 1/1 [00:00<00:00,  6.46it/s]\n",
      "Running inference: 100%|██████████| 1/1 [00:01<00:00,  1.27s/it]\n",
      "Running inference: 100%|██████████| 1/1 [00:00<00:00,  1.05it/s]\n"
     ]
    },
    {
     "name": "stdout",
     "output_type": "stream",
     "text": [
      "Epoch: 062, Average Loss: 0.3968\n",
      "Validation: {'precision': 0.5741000467481342, 'recall': 0.7236299351754648, 'f1': 0.6402502557512619, 'auc': 0.851741657566093, 'prauc': 0.6753035560133833}\n",
      "Test:       {'precision': 0.6047281323848477, 'recall': 0.7081949058654031, 'f1': 0.6523845907941108, 'auc': 0.8493171814518768, 'prauc': 0.6817473111653841}\n"
     ]
    },
    {
     "name": "stderr",
     "output_type": "stream",
     "text": [
      "Training Batches: 100%|██████████| 1/1 [00:00<00:00,  1.35it/s]\n",
      "Running inference: 100%|██████████| 1/1 [00:00<00:00,  1.03it/s]\n",
      "Running inference: 100%|██████████| 1/1 [00:01<00:00,  1.27s/it]\n"
     ]
    },
    {
     "name": "stdout",
     "output_type": "stream",
     "text": [
      "Epoch: 063, Average Loss: 0.3820\n",
      "Validation: {'precision': 0.5858880778560298, 'recall': 0.7094873305792017, 'f1': 0.6417910398182194, 'auc': 0.8538442956871262, 'prauc': 0.6810231429908544}\n",
      "Test:       {'precision': 0.6185515872985191, 'recall': 0.6904761904723673, 'f1': 0.6525379332639043, 'auc': 0.8513948859761469, 'prauc': 0.6870905626459328}\n"
     ]
    },
    {
     "name": "stderr",
     "output_type": "stream",
     "text": [
      "Training Batches: 100%|██████████| 1/1 [00:00<00:00,  1.35it/s]\n",
      "Running inference: 100%|██████████| 1/1 [00:00<00:00,  1.03it/s]\n",
      "Running inference: 100%|██████████| 1/1 [00:01<00:00,  1.28s/it]\n"
     ]
    },
    {
     "name": "stdout",
     "output_type": "stream",
     "text": [
      "Epoch: 064, Average Loss: 0.3955\n",
      "Validation: {'precision': 0.6016469377220708, 'recall': 0.6888626988763179, 'f1': 0.6423076873270002, 'auc': 0.8546977419378328, 'prauc': 0.6842291728492098}\n",
      "Test:       {'precision': 0.6310020876793789, 'recall': 0.6694352159431372, 'f1': 0.6496507204173192, 'auc': 0.8519447796904444, 'prauc': 0.6892921300083986}\n"
     ]
    },
    {
     "name": "stderr",
     "output_type": "stream",
     "text": [
      "Training Batches: 100%|██████████| 1/1 [00:00<00:00,  6.32it/s]\n",
      "Running inference: 100%|██████████| 1/1 [00:01<00:00,  1.28s/it]\n",
      "Running inference: 100%|██████████| 1/1 [00:00<00:00,  1.04it/s]\n"
     ]
    },
    {
     "name": "stdout",
     "output_type": "stream",
     "text": [
      "Epoch: 065, Average Loss: 0.3811\n",
      "Validation: {'precision': 0.6191765980464834, 'recall': 0.6735415438970328, 'f1': 0.645215913718156, 'auc': 0.8553006855545568, 'prauc': 0.6863668371786816}\n",
      "Test:       {'precision': 0.642738818328864, 'recall': 0.6445182724216805, 'f1': 0.6436273104512477, 'auc': 0.851389469516906, 'prauc': 0.689199473393731}\n"
     ]
    },
    {
     "name": "stderr",
     "output_type": "stream",
     "text": [
      "Training Batches: 100%|██████████| 1/1 [00:00<00:00,  1.36it/s]\n",
      "Running inference: 100%|██████████| 1/1 [00:01<00:00,  1.28s/it]\n",
      "Running inference: 100%|██████████| 1/1 [00:00<00:00,  1.01it/s]\n"
     ]
    },
    {
     "name": "stdout",
     "output_type": "stream",
     "text": [
      "Epoch: 066, Average Loss: 0.4301\n",
      "Validation: {'precision': 0.6092680358051118, 'recall': 0.6817913965781863, 'f1': 0.6434927647563586, 'auc': 0.8568220962484516, 'prauc': 0.6858046260933478}\n",
      "Test:       {'precision': 0.6329842931904033, 'recall': 0.6694352159431372, 'f1': 0.650699672072535, 'auc': 0.8548967499767338, 'prauc': 0.6912336226099112}\n"
     ]
    },
    {
     "name": "stderr",
     "output_type": "stream",
     "text": [
      "Training Batches: 100%|██████████| 1/1 [00:00<00:00,  2.20it/s]\n",
      "Running inference: 100%|██████████| 1/1 [00:00<00:00,  1.02it/s]\n",
      "Running inference: 100%|██████████| 1/1 [00:00<00:00,  1.04it/s]\n"
     ]
    },
    {
     "name": "stdout",
     "output_type": "stream",
     "text": [
      "Epoch: 067, Average Loss: 0.3801\n",
      "Validation: {'precision': 0.5984536082443379, 'recall': 0.6841484973442301, 'f1': 0.6384382683209816, 'auc': 0.8564908604861285, 'prauc': 0.6839826883186582}\n",
      "Test:       {'precision': 0.6285130301449744, 'recall': 0.681063122919817, 'f1': 0.6537337180978533, 'auc': 0.8549660560347481, 'prauc': 0.6893799323858366}\n"
     ]
    },
    {
     "name": "stderr",
     "output_type": "stream",
     "text": [
      "Training Batches: 100%|██████████| 1/1 [00:00<00:00,  1.34it/s]\n",
      "Running inference: 100%|██████████| 1/1 [00:00<00:00,  1.03it/s]\n",
      "Running inference: 100%|██████████| 1/1 [00:01<00:00,  1.27s/it]\n"
     ]
    },
    {
     "name": "stdout",
     "output_type": "stream",
     "text": [
      "Epoch: 068, Average Loss: 0.3775\n",
      "Validation: {'precision': 0.5940996948087788, 'recall': 0.6882734236848069, 'f1': 0.6377286327521209, 'auc': 0.8555901495875011, 'prauc': 0.6823573871838496}\n",
      "Test:       {'precision': 0.6245614035056414, 'recall': 0.6899224806163349, 'f1': 0.6556169379186734, 'auc': 0.8537418746956318, 'prauc': 0.6871168899930148}\n"
     ]
    },
    {
     "name": "stderr",
     "output_type": "stream",
     "text": [
      "Training Batches: 100%|██████████| 1/1 [00:00<00:00,  2.20it/s]\n",
      "Running inference: 100%|██████████| 1/1 [00:01<00:00,  1.27s/it]\n",
      "Running inference: 100%|██████████| 1/1 [00:00<00:00,  1.04it/s]\n"
     ]
    },
    {
     "name": "stdout",
     "output_type": "stream",
     "text": [
      "Epoch: 069, Average Loss: 0.3739\n",
      "Validation: {'precision': 0.5904999999970475, 'recall': 0.6959340011744495, 'f1': 0.6388963975186339, 'auc': 0.8536446344852323, 'prauc': 0.6791387838883054}\n",
      "Test:       {'precision': 0.6169691024982003, 'recall': 0.6965669988887234, 'f1': 0.6543563019070247, 'auc': 0.8511142149063912, 'prauc': 0.6835929831579322}\n"
     ]
    },
    {
     "name": "stderr",
     "output_type": "stream",
     "text": [
      "Training Batches: 100%|██████████| 1/1 [00:00<00:00,  2.22it/s]\n",
      "Running inference: 100%|██████████| 1/1 [00:01<00:00,  1.27s/it]\n",
      "Running inference: 100%|██████████| 1/1 [00:00<00:00,  1.03it/s]\n"
     ]
    },
    {
     "name": "stdout",
     "output_type": "stream",
     "text": [
      "Epoch: 070, Average Loss: 0.3794\n",
      "Validation: {'precision': 0.5907508702108863, 'recall': 0.7000589275150262, 'f1': 0.6407766940615252, 'auc': 0.8538062284842062, 'prauc': 0.6795228344441601}\n",
      "Test:       {'precision': 0.6135148274155882, 'recall': 0.6987818383128529, 'f1': 0.6533781984865329, 'auc': 0.8504110600158457, 'prauc': 0.6827167308963282}\n"
     ]
    },
    {
     "name": "stderr",
     "output_type": "stream",
     "text": [
      "Training Batches: 100%|██████████| 1/1 [00:00<00:00,  1.32it/s]\n",
      "Running inference: 100%|██████████| 1/1 [00:00<00:00,  1.02it/s]\n",
      "Running inference: 100%|██████████| 1/1 [00:01<00:00,  1.26s/it]\n"
     ]
    },
    {
     "name": "stdout",
     "output_type": "stream",
     "text": [
      "Epoch: 071, Average Loss: 0.3745\n",
      "Validation: {'precision': 0.5925196850364541, 'recall': 0.7094873305792017, 'f1': 0.6457495257421725, 'auc': 0.8549531626500444, 'prauc': 0.6811042270769103}\n",
      "Test:       {'precision': 0.6096282173469513, 'recall': 0.7081949058654031, 'f1': 0.6552254048606806, 'auc': 0.8507770403186454, 'prauc': 0.6832917143874189}\n"
     ]
    },
    {
     "name": "stderr",
     "output_type": "stream",
     "text": [
      "Training Batches: 100%|██████████| 1/1 [00:00<00:00,  2.23it/s]\n",
      "Running inference: 100%|██████████| 1/1 [00:00<00:00,  1.03it/s]\n",
      "Running inference: 100%|██████████| 1/1 [00:01<00:00,  1.28s/it]\n"
     ]
    },
    {
     "name": "stdout",
     "output_type": "stream",
     "text": [
      "Epoch: 072, Average Loss: 0.3863\n",
      "Validation: {'precision': 0.5859598853840212, 'recall': 0.7230406599839538, 'f1': 0.6473226012239321, 'auc': 0.8563599246371576, 'prauc': 0.6827044538803201}\n",
      "Test:       {'precision': 0.60388708930771, 'recall': 0.7225913621222448, 'f1': 0.6579279002547728, 'auc': 0.8512509805022239, 'prauc': 0.682962846602558}\n"
     ]
    },
    {
     "name": "stderr",
     "output_type": "stream",
     "text": [
      "Training Batches: 100%|██████████| 1/1 [00:00<00:00,  6.35it/s]\n",
      "Running inference: 100%|██████████| 1/1 [00:01<00:00,  1.28s/it]\n",
      "Running inference: 100%|██████████| 1/1 [00:01<00:00,  1.22s/it]\n"
     ]
    },
    {
     "name": "stdout",
     "output_type": "stream",
     "text": [
      "Epoch: 073, Average Loss: 0.3773\n",
      "Validation: {'precision': 0.5881509794525173, 'recall': 0.7253977607499977, 'f1': 0.6496042166870422, 'auc': 0.8583387804775542, 'prauc': 0.6854658688075547}\n",
      "Test:       {'precision': 0.6049440298479247, 'recall': 0.7181616832739859, 'f1': 0.6567088557927795, 'auc': 0.8527547865496514, 'prauc': 0.6853237923186307}\n"
     ]
    },
    {
     "name": "stderr",
     "output_type": "stream",
     "text": [
      "Training Batches: 100%|██████████| 1/1 [00:00<00:00,  6.42it/s]\n",
      "Running inference: 100%|██████████| 1/1 [00:01<00:00,  1.26s/it]\n",
      "Running inference: 100%|██████████| 1/1 [00:00<00:00,  1.03it/s]\n"
     ]
    },
    {
     "name": "stdout",
     "output_type": "stream",
     "text": [
      "Epoch: 074, Average Loss: 0.3733\n",
      "Validation: {'precision': 0.5964566929104506, 'recall': 0.7142015321112893, 'f1': 0.6500402202983308, 'auc': 0.8591587582478407, 'prauc': 0.6864462904508944}\n",
      "Test:       {'precision': 0.6064030131798193, 'recall': 0.7131782945696945, 'f1': 0.6554707329428875, 'auc': 0.8533206834389788, 'prauc': 0.6858854323557484}\n"
     ]
    },
    {
     "name": "stderr",
     "output_type": "stream",
     "text": [
      "Training Batches: 100%|██████████| 1/1 [00:00<00:00,  1.37it/s]\n",
      "Running inference: 100%|██████████| 1/1 [00:00<00:00,  1.03it/s]\n",
      "Running inference: 100%|██████████| 1/1 [00:01<00:00,  1.27s/it]\n"
     ]
    },
    {
     "name": "stdout",
     "output_type": "stream",
     "text": [
      "Epoch: 075, Average Loss: 0.3741\n",
      "Validation: {'precision': 0.6068821689228004, 'recall': 0.685916322918763, 'f1': 0.6439833975047508, 'auc': 0.8594555035914107, 'prauc': 0.6865740936264351}\n",
      "Test:       {'precision': 0.6180657830112024, 'recall': 0.6971207087447557, 'f1': 0.6552172731827536, 'auc': 0.8542062745248657, 'prauc': 0.6877504258491408}\n"
     ]
    },
    {
     "name": "stderr",
     "output_type": "stream",
     "text": [
      "Training Batches: 100%|██████████| 1/1 [00:00<00:00,  1.32it/s]\n",
      "Running inference: 100%|██████████| 1/1 [00:00<00:00,  1.02it/s]\n",
      "Running inference: 100%|██████████| 1/1 [00:01<00:00,  1.28s/it]\n"
     ]
    },
    {
     "name": "stdout",
     "output_type": "stream",
     "text": [
      "Epoch: 076, Average Loss: 0.3880\n",
      "Validation: {'precision': 0.6357226791972049, 'recall': 0.637595757214864, 'f1': 0.6366578355376005, 'auc': 0.8587448732228012, 'prauc': 0.6846100973858471}\n",
      "Test:       {'precision': 0.6441615937983168, 'recall': 0.6445182724216805, 'f1': 0.6443398787495476, 'auc': 0.8540680932635496, 'prauc': 0.6877712720255267}\n"
     ]
    },
    {
     "name": "stderr",
     "output_type": "stream",
     "text": [
      "Training Batches: 100%|██████████| 1/1 [00:00<00:00,  6.21it/s]\n",
      "Running inference: 100%|██████████| 1/1 [00:01<00:00,  1.26s/it]\n",
      "Running inference: 100%|██████████| 1/1 [00:00<00:00,  1.04it/s]\n"
     ]
    },
    {
     "name": "stdout",
     "output_type": "stream",
     "text": [
      "Epoch: 077, Average Loss: 0.3695\n",
      "Validation: {'precision': 0.6588471849821793, 'recall': 0.5792575132552784, 'f1': 0.6164941938251994, 'auc': 0.856340252324239, 'prauc': 0.6781417797171663}\n",
      "Test:       {'precision': 0.6639801611862122, 'recall': 0.59302325581067, 'f1': 0.6264989713211302, 'auc': 0.852132139939641, 'prauc': 0.6824859693096067}\n"
     ]
    },
    {
     "name": "stderr",
     "output_type": "stream",
     "text": [
      "Training Batches: 100%|██████████| 1/1 [00:00<00:00,  1.35it/s]\n",
      "Running inference: 100%|██████████| 1/1 [00:01<00:00,  1.29s/it]\n",
      "Running inference: 100%|██████████| 1/1 [00:01<00:00,  1.01s/it]\n"
     ]
    },
    {
     "name": "stdout",
     "output_type": "stream",
     "text": [
      "Epoch: 078, Average Loss: 0.3867\n",
      "Validation: {'precision': 0.6673596673550426, 'recall': 0.5674720094250592, 'f1': 0.6133757912071546, 'auc': 0.8563771698465342, 'prauc': 0.6784660856509208}\n",
      "Test:       {'precision': 0.6715654952033766, 'recall': 0.5819490586900224, 'f1': 0.6235538366118888, 'auc': 0.8531656988438814, 'prauc': 0.6854840826083879}\n"
     ]
    },
    {
     "name": "stderr",
     "output_type": "stream",
     "text": [
      "Training Batches: 100%|██████████| 1/1 [00:00<00:00,  2.14it/s]\n",
      "Running inference: 100%|██████████| 1/1 [00:00<00:00,  1.02it/s]\n",
      "Running inference: 100%|██████████| 1/1 [00:00<00:00,  1.02it/s]\n"
     ]
    },
    {
     "name": "stdout",
     "output_type": "stream",
     "text": [
      "Epoch: 079, Average Loss: 0.3726\n",
      "Validation: {'precision': 0.6493011435791023, 'recall': 0.6022392457242061, 'f1': 0.624885351163445, 'auc': 0.8586675891363358, 'prauc': 0.6857615973862584}\n",
      "Test:       {'precision': 0.6595744680812082, 'recall': 0.6179401993321266, 'f1': 0.638078897231508, 'auc': 0.8562588048238002, 'prauc': 0.6946202786321318}\n"
     ]
    },
    {
     "name": "stderr",
     "output_type": "stream",
     "text": [
      "Training Batches: 100%|██████████| 1/1 [00:00<00:00,  1.32it/s]\n",
      "Running inference: 100%|██████████| 1/1 [00:00<00:00,  1.02it/s]\n",
      "Running inference: 100%|██████████| 1/1 [00:01<00:00,  1.29s/it]\n"
     ]
    },
    {
     "name": "stdout",
     "output_type": "stream",
     "text": [
      "Epoch: 080, Average Loss: 0.3705\n",
      "Validation: {'precision': 0.6380223660939492, 'recall': 0.6387743075978859, 'f1': 0.6383981104261596, 'auc': 0.8596998745953923, 'prauc': 0.6894351974209801}\n",
      "Test:       {'precision': 0.6457990115285789, 'recall': 0.6511627906940689, 'f1': 0.6484698047566421, 'auc': 0.8584329592529619, 'prauc': 0.7011198593215502}\n"
     ]
    },
    {
     "name": "stderr",
     "output_type": "stream",
     "text": [
      "Training Batches: 100%|██████████| 1/1 [00:00<00:00,  2.19it/s]\n",
      "Running inference: 100%|██████████| 1/1 [00:01<00:00,  1.29s/it]\n",
      "Running inference: 100%|██████████| 1/1 [00:00<00:00,  1.02it/s]\n"
     ]
    },
    {
     "name": "stdout",
     "output_type": "stream",
     "text": [
      "Epoch: 081, Average Loss: 0.3739\n",
      "Validation: {'precision': 0.6109936575020561, 'recall': 0.6812021213866754, 'f1': 0.6441905773460828, 'auc': 0.8580060118077308, 'prauc': 0.6870646061009148}\n",
      "Test:       {'precision': 0.6288297337989511, 'recall': 0.6932447397525291, 'f1': 0.6594679960618591, 'auc': 0.8575444137347618, 'prauc': 0.6992372309801796}\n"
     ]
    },
    {
     "name": "stderr",
     "output_type": "stream",
     "text": [
      "Training Batches: 100%|██████████| 1/1 [00:00<00:00,  2.19it/s]\n",
      "Running inference: 100%|██████████| 1/1 [00:01<00:00,  1.28s/it]\n",
      "Running inference: 100%|██████████| 1/1 [00:00<00:00,  1.02it/s]\n"
     ]
    },
    {
     "name": "stdout",
     "output_type": "stream",
     "text": [
      "Epoch: 082, Average Loss: 0.3728\n",
      "Validation: {'precision': 0.5960163432043105, 'recall': 0.687684148493296, 'f1': 0.6385772864036711, 'auc': 0.8553958535618575, 'prauc': 0.6830356458848406}\n",
      "Test:       {'precision': 0.6226692836083284, 'recall': 0.7026578073050794, 'f1': 0.6602497348690962, 'auc': 0.8557509502192928, 'prauc': 0.6964821825037553}\n"
     ]
    },
    {
     "name": "stderr",
     "output_type": "stream",
     "text": [
      "Training Batches: 100%|██████████| 1/1 [00:00<00:00,  1.32it/s]\n",
      "Running inference: 100%|██████████| 1/1 [00:00<00:00,  1.02it/s]\n",
      "Running inference: 100%|██████████| 1/1 [00:01<00:00,  1.29s/it]\n"
     ]
    },
    {
     "name": "stdout",
     "output_type": "stream",
     "text": [
      "Epoch: 083, Average Loss: 0.3601\n",
      "Validation: {'precision': 0.5844999999970776, 'recall': 0.6888626988763179, 'f1': 0.6324046474510466, 'auc': 0.8528926156141193, 'prauc': 0.6795144924971028}\n",
      "Test:       {'precision': 0.6133525456262567, 'recall': 0.7070874861533384, 'f1': 0.6568929991370437, 'auc': 0.8536565039119146, 'prauc': 0.6938056565940036}\n"
     ]
    },
    {
     "name": "stderr",
     "output_type": "stream",
     "text": [
      "Training Batches: 100%|██████████| 1/1 [00:00<00:00,  2.15it/s]\n",
      "Running inference: 100%|██████████| 1/1 [00:00<00:00,  1.02it/s]\n",
      "Running inference: 100%|██████████| 1/1 [00:01<00:00,  1.30s/it]\n"
     ]
    },
    {
     "name": "stdout",
     "output_type": "stream",
     "text": [
      "Epoch: 084, Average Loss: 0.3687\n",
      "Validation: {'precision': 0.5874686716762533, 'recall': 0.6906305244508508, 'f1': 0.6348862355491788, 'auc': 0.8544149205040558, 'prauc': 0.6821594698400092}\n",
      "Test:       {'precision': 0.6122646064673478, 'recall': 0.7021040974490471, 'f1': 0.6541140006944762, 'auc': 0.855007418087133, 'prauc': 0.6967402192578079}\n"
     ]
    },
    {
     "name": "stderr",
     "output_type": "stream",
     "text": [
      "Training Batches: 100%|██████████| 1/1 [00:00<00:00,  6.22it/s]\n",
      "Running inference: 100%|██████████| 1/1 [00:01<00:00,  1.28s/it]\n",
      "Running inference: 100%|██████████| 1/1 [00:01<00:00,  1.31s/it]\n"
     ]
    },
    {
     "name": "stdout",
     "output_type": "stream",
     "text": [
      "Epoch: 085, Average Loss: 0.3781\n",
      "Validation: {'precision': 0.6094736842073186, 'recall': 0.6823806717696973, 'f1': 0.6438698865886587, 'auc': 0.8597918490454011, 'prauc': 0.6905267439330544}\n",
      "Test:       {'precision': 0.6331480545698174, 'recall': 0.6937984496085615, 'f1': 0.662087181268506, 'auc': 0.8596690198720042, 'prauc': 0.7055050169614548}\n"
     ]
    },
    {
     "name": "stderr",
     "output_type": "stream",
     "text": [
      "Training Batches: 100%|██████████| 1/1 [00:00<00:00,  6.32it/s]\n",
      "Running inference: 100%|██████████| 1/1 [00:01<00:00,  1.28s/it]\n",
      "Running inference: 100%|██████████| 1/1 [00:00<00:00,  1.03it/s]\n"
     ]
    },
    {
     "name": "stdout",
     "output_type": "stream",
     "text": [
      "Epoch: 086, Average Loss: 0.3672\n",
      "Validation: {'precision': 0.6314898419828923, 'recall': 0.6593989393007696, 'f1': 0.6451426874171821, 'auc': 0.8626231291981705, 'prauc': 0.693804311517341}\n",
      "Test:       {'precision': 0.6521270866954652, 'recall': 0.6705426356552019, 'f1': 0.6612066562040203, 'auc': 0.8610271970266593, 'prauc': 0.7077344515113422}\n"
     ]
    },
    {
     "name": "stderr",
     "output_type": "stream",
     "text": [
      "Training Batches: 100%|██████████| 1/1 [00:00<00:00,  1.34it/s]\n",
      "Running inference: 100%|██████████| 1/1 [00:00<00:00,  1.02it/s]\n",
      "Running inference: 100%|██████████| 1/1 [00:01<00:00,  1.26s/it]\n"
     ]
    },
    {
     "name": "stdout",
     "output_type": "stream",
     "text": [
      "Epoch: 087, Average Loss: 0.3747\n",
      "Validation: {'precision': 0.6505646173108497, 'recall': 0.6110783735968706, 'f1': 0.6302035805373791, 'auc': 0.8619204188516454, 'prauc': 0.6888053708352739}\n",
      "Test:       {'precision': 0.6650717703309506, 'recall': 0.6157253599079971, 'f1': 0.6394479536006398, 'auc': 0.858196727769251, 'prauc': 0.699041681147422}\n"
     ]
    },
    {
     "name": "stderr",
     "output_type": "stream",
     "text": [
      "Training Batches: 100%|██████████| 1/1 [00:00<00:00,  1.34it/s]\n",
      "Running inference: 100%|██████████| 1/1 [00:00<00:00,  1.01it/s]\n",
      "Running inference: 100%|██████████| 1/1 [00:01<00:00,  1.29s/it]\n"
     ]
    },
    {
     "name": "stdout",
     "output_type": "stream",
     "text": [
      "Epoch: 088, Average Loss: 0.3606\n",
      "Validation: {'precision': 0.6644067796565125, 'recall': 0.5774896876807455, 'f1': 0.6179066785010493, 'auc': 0.8606504049877745, 'prauc': 0.6840461470251713}\n",
      "Test:       {'precision': 0.6763754045263666, 'recall': 0.5786267995538282, 'f1': 0.6236944146028557, 'auc': 0.8550970358673008, 'prauc': 0.6909990444821905}\n"
     ]
    },
    {
     "name": "stderr",
     "output_type": "stream",
     "text": [
      "Training Batches: 100%|██████████| 1/1 [00:00<00:00,  6.23it/s]\n",
      "Running inference: 100%|██████████| 1/1 [00:01<00:00,  1.29s/it]\n",
      "Running inference: 100%|██████████| 1/1 [00:01<00:00,  1.00s/it]\n"
     ]
    },
    {
     "name": "stdout",
     "output_type": "stream",
     "text": [
      "Epoch: 089, Average Loss: 0.3607\n",
      "Validation: {'precision': 0.6682892906768548, 'recall': 0.5662934590420372, 'f1': 0.6130781449504709, 'auc': 0.8601326654796002, 'prauc': 0.6826974184318556}\n",
      "Test:       {'precision': 0.6828609986458647, 'recall': 0.56035437430476, 'f1': 0.6155717712005242, 'auc': 0.8536606893576917, 'prauc': 0.6881883924659291}\n"
     ]
    },
    {
     "name": "stderr",
     "output_type": "stream",
     "text": [
      "Training Batches: 100%|██████████| 1/1 [00:00<00:00,  1.34it/s]\n",
      "Running inference: 100%|██████████| 1/1 [00:01<00:00,  1.30s/it]\n",
      "Running inference: 100%|██████████| 1/1 [00:00<00:00,  1.00it/s]\n"
     ]
    },
    {
     "name": "stdout",
     "output_type": "stream",
     "text": [
      "Epoch: 090, Average Loss: 0.3736\n",
      "Validation: {'precision': 0.6671159029604642, 'recall': 0.5833824395958552, 'f1': 0.6224457667883885, 'auc': 0.8614436846190999, 'prauc': 0.6865028887939784}\n",
      "Test:       {'precision': 0.680837148458595, 'recall': 0.5764119601296988, 'f1': 0.6242878511027138, 'auc': 0.8556328960281104, 'prauc': 0.6938386771015356}\n"
     ]
    },
    {
     "name": "stderr",
     "output_type": "stream",
     "text": [
      "Training Batches: 100%|██████████| 1/1 [00:00<00:00,  2.19it/s]\n",
      "Running inference: 100%|██████████| 1/1 [00:00<00:00,  1.03it/s]\n",
      "Running inference: 100%|██████████| 1/1 [00:00<00:00,  1.06it/s]\n"
     ]
    },
    {
     "name": "stdout",
     "output_type": "stream",
     "text": [
      "Epoch: 091, Average Loss: 0.3547\n",
      "Validation: {'precision': 0.66447800393523, 'recall': 0.5963464938090964, 'f1': 0.6285714235821246, 'auc': 0.8629127209734064, 'prauc': 0.6934199947924489}\n",
      "Test:       {'precision': 0.6789506558358592, 'recall': 0.6018826135071879, 'f1': 0.6380980284748791, 'auc': 0.8585865897332493, 'prauc': 0.7034283036261012}\n"
     ]
    },
    {
     "name": "stderr",
     "output_type": "stream",
     "text": [
      "Training Batches: 100%|██████████| 1/1 [00:00<00:00,  1.50it/s]\n",
      "Running inference: 100%|██████████| 1/1 [00:00<00:00,  1.08it/s]\n",
      "Running inference: 100%|██████████| 1/1 [00:01<00:00,  1.27s/it]\n"
     ]
    },
    {
     "name": "stdout",
     "output_type": "stream",
     "text": [
      "Epoch: 092, Average Loss: 0.3678\n",
      "Validation: {'precision': 0.648568019089209, 'recall': 0.6405421331724188, 'f1': 0.6445300869026871, 'auc': 0.8652350758361276, 'prauc': 0.7027958008290112}\n",
      "Test:       {'precision': 0.6672394043489849, 'recall': 0.6450719822777128, 'f1': 0.6559684634662017, 'auc': 0.8625859062745741, 'prauc': 0.7148702352092517}\n"
     ]
    },
    {
     "name": "stderr",
     "output_type": "stream",
     "text": [
      "Training Batches: 100%|██████████| 1/1 [00:00<00:00,  2.21it/s]\n",
      "Running inference: 100%|██████████| 1/1 [00:01<00:00,  1.29s/it]\n",
      "Running inference: 100%|██████████| 1/1 [00:00<00:00,  1.02it/s]\n"
     ]
    },
    {
     "name": "stdout",
     "output_type": "stream",
     "text": [
      "Epoch: 093, Average Loss: 0.3725\n",
      "Validation: {'precision': 0.6216216216182615, 'recall': 0.6776664702376095, 'f1': 0.6484352924400986, 'auc': 0.8658739150368133, 'prauc': 0.7045121365752522}\n",
      "Test:       {'precision': 0.6555378908285345, 'recall': 0.6849390919120436, 'f1': 0.6699160524046806, 'auc': 0.8652197826818071, 'prauc': 0.718351740829886}\n"
     ]
    },
    {
     "name": "stderr",
     "output_type": "stream",
     "text": [
      "Training Batches: 100%|██████████| 1/1 [00:00<00:00,  2.24it/s]\n",
      "Running inference: 100%|██████████| 1/1 [00:01<00:00,  1.29s/it]\n",
      "Running inference: 100%|██████████| 1/1 [00:00<00:00,  1.00it/s]\n"
     ]
    },
    {
     "name": "stdout",
     "output_type": "stream",
     "text": [
      "Epoch: 094, Average Loss: 0.3648\n",
      "Validation: {'precision': 0.6068332483395878, 'recall': 0.7012374778980481, 'f1': 0.6506287539071222, 'auc': 0.8645373474389778, 'prauc': 0.7009361324800875}\n",
      "Test:       {'precision': 0.640909090905854, 'recall': 0.7026578073050794, 'f1': 0.6703644957994129, 'auc': 0.8652858881048153, 'prauc': 0.7157011242332716}\n"
     ]
    },
    {
     "name": "stderr",
     "output_type": "stream",
     "text": [
      "Training Batches: 100%|██████████| 1/1 [00:00<00:00,  1.32it/s]\n",
      "Running inference: 100%|██████████| 1/1 [00:00<00:00,  1.03it/s]\n",
      "Running inference: 100%|██████████| 1/1 [00:01<00:00,  1.30s/it]\n"
     ]
    },
    {
     "name": "stdout",
     "output_type": "stream",
     "text": [
      "Epoch: 095, Average Loss: 0.3640\n",
      "Validation: {'precision': 0.6024036054050956, 'recall': 0.7088980553876907, 'f1': 0.6513264703949088, 'auc': 0.8651855118269562, 'prauc': 0.70101357841339}\n",
      "Test:       {'precision': 0.6383928571396905, 'recall': 0.7126245847136622, 'f1': 0.6734693827666728, 'auc': 0.8665559246954596, 'prauc': 0.7153502171530021}\n"
     ]
    },
    {
     "name": "stderr",
     "output_type": "stream",
     "text": [
      "Training Batches: 100%|██████████| 1/1 [00:00<00:00,  2.22it/s]\n",
      "Running inference: 100%|██████████| 1/1 [00:00<00:00,  1.04it/s]\n",
      "Running inference: 100%|██████████| 1/1 [00:01<00:00,  1.30s/it]\n"
     ]
    },
    {
     "name": "stdout",
     "output_type": "stream",
     "text": [
      "Epoch: 096, Average Loss: 0.3779\n",
      "Validation: {'precision': 0.6116751269004483, 'recall': 0.7100766057707126, 'f1': 0.6572129756622518, 'auc': 0.8692791413060961, 'prauc': 0.7068011600816856}\n",
      "Test:       {'precision': 0.6454999999967725, 'recall': 0.7148394241377917, 'f1': 0.6784025173425842, 'auc': 0.868859766393037, 'prauc': 0.7181306804167741}\n"
     ]
    },
    {
     "name": "stderr",
     "output_type": "stream",
     "text": [
      "Training Batches: 100%|██████████| 1/1 [00:00<00:00,  6.37it/s]\n",
      "Running inference: 100%|██████████| 1/1 [00:01<00:00,  1.27s/it]\n",
      "Running inference: 100%|██████████| 1/1 [00:01<00:00,  1.32s/it]\n"
     ]
    },
    {
     "name": "stdout",
     "output_type": "stream",
     "text": [
      "Epoch: 097, Average Loss: 0.3628\n",
      "Validation: {'precision': 0.6265624999967367, 'recall': 0.7088980553876907, 'f1': 0.6651921432044346, 'auc': 0.871103556715853, 'prauc': 0.7087872334482521}\n",
      "Test:       {'precision': 0.6479305058730306, 'recall': 0.7021040974490471, 'f1': 0.6739303697055059, 'auc': 0.8684455303624548, 'prauc': 0.7158664279089597}\n"
     ]
    },
    {
     "name": "stderr",
     "output_type": "stream",
     "text": [
      "Training Batches: 100%|██████████| 1/1 [00:00<00:00,  6.41it/s]\n",
      "Running inference: 100%|██████████| 1/1 [00:01<00:00,  1.28s/it]\n",
      "Running inference: 100%|██████████| 1/1 [00:00<00:00,  1.03it/s]\n"
     ]
    },
    {
     "name": "stdout",
     "output_type": "stream",
     "text": [
      "Epoch: 098, Average Loss: 0.3945\n",
      "Validation: {'precision': 0.6238390092847067, 'recall': 0.7124337065367565, 'f1': 0.6651994448119911, 'auc': 0.8706673167897698, 'prauc': 0.7069781391820119}\n",
      "Test:       {'precision': 0.6418511066366105, 'recall': 0.7065337762973061, 'f1': 0.6726410071323672, 'auc': 0.8682921460848602, 'prauc': 0.7142627934169654}\n"
     ]
    },
    {
     "name": "stderr",
     "output_type": "stream",
     "text": [
      "Training Batches: 100%|██████████| 1/1 [00:00<00:00,  1.34it/s]\n",
      "Running inference: 100%|██████████| 1/1 [00:00<00:00,  1.03it/s]\n",
      "Running inference: 100%|██████████| 1/1 [00:01<00:00,  1.27s/it]\n"
     ]
    },
    {
     "name": "stdout",
     "output_type": "stream",
     "text": [
      "Epoch: 099, Average Loss: 0.3600\n",
      "Validation: {'precision': 0.6195652173880976, 'recall': 0.705362404238625, 'f1': 0.6596858588916769, 'auc': 0.8695254284444527, 'prauc': 0.7046385746282606}\n",
      "Test:       {'precision': 0.644230769227509, 'recall': 0.7048726467292089, 'f1': 0.6731887840070714, 'auc': 0.8685188987648995, 'prauc': 0.7151982233428592}\n"
     ]
    },
    {
     "name": "stderr",
     "output_type": "stream",
     "text": [
      "Training Batches: 100%|██████████| 1/1 [00:00<00:00,  1.33it/s]\n",
      "Running inference: 100%|██████████| 1/1 [00:00<00:00,  1.03it/s]\n",
      "Running inference: 100%|██████████| 1/1 [00:01<00:00,  1.30s/it]\n"
     ]
    },
    {
     "name": "stdout",
     "output_type": "stream",
     "text": [
      "Epoch: 100, Average Loss: 0.3547\n",
      "Validation: {'precision': 0.6248682823992368, 'recall': 0.6988803771320042, 'f1': 0.6598052801301794, 'auc': 0.8696108880375859, 'prauc': 0.7049588687069535}\n",
      "Test:       {'precision': 0.6510903426757473, 'recall': 0.6943521594645938, 'f1': 0.672025718474237, 'auc': 0.8676319535642025, 'prauc': 0.7150017902567435}\n"
     ]
    },
    {
     "name": "stderr",
     "output_type": "stream",
     "text": [
      "Training Batches: 100%|██████████| 1/1 [00:00<00:00,  6.00it/s]\n",
      "Running inference: 100%|██████████| 1/1 [00:01<00:00,  1.27s/it]\n",
      "Running inference: 100%|██████████| 1/1 [00:00<00:00,  1.04it/s]\n"
     ]
    },
    {
     "name": "stdout",
     "output_type": "stream",
     "text": [
      "Epoch: 101, Average Loss: 0.3544\n",
      "Validation: {'precision': 0.6298129812946656, 'recall': 0.6747200942800547, 'f1': 0.6514935938642381, 'auc': 0.8691911268671293, 'prauc': 0.7047453438457073}\n",
      "Test:       {'precision': 0.659028914344468, 'recall': 0.6688815060871048, 'f1': 0.6639186539688716, 'auc': 0.8664106651067264, 'prauc': 0.7144502863808295}\n"
     ]
    },
    {
     "name": "stderr",
     "output_type": "stream",
     "text": [
      "Training Batches: 100%|██████████| 1/1 [00:00<00:00,  1.33it/s]\n",
      "Running inference: 100%|██████████| 1/1 [00:01<00:00,  1.30s/it]\n",
      "Running inference: 100%|██████████| 1/1 [00:00<00:00,  1.01it/s]\n"
     ]
    },
    {
     "name": "stdout",
     "output_type": "stream",
     "text": [
      "Epoch: 102, Average Loss: 0.3541\n",
      "Validation: {'precision': 0.6328611897981141, 'recall': 0.6582203889177477, 'f1': 0.6452917338774619, 'auc': 0.8678890496880469, 'prauc': 0.7025580344938158}\n",
      "Test:       {'precision': 0.663488502520115, 'recall': 0.6550387596862955, 'f1': 0.6592365511403044, 'auc': 0.8649760420159667, 'prauc': 0.7130892793837208}\n"
     ]
    },
    {
     "name": "stderr",
     "output_type": "stream",
     "text": [
      "Training Batches: 100%|██████████| 1/1 [00:00<00:00,  2.15it/s]\n",
      "Running inference: 100%|██████████| 1/1 [00:00<00:00,  1.02it/s]\n",
      "Running inference: 100%|██████████| 1/1 [00:00<00:00,  1.03it/s]\n"
     ]
    },
    {
     "name": "stdout",
     "output_type": "stream",
     "text": [
      "Epoch: 103, Average Loss: 0.3575\n",
      "Validation: {'precision': 0.6338828880009444, 'recall': 0.6570418385347258, 'f1': 0.6452546246275047, 'auc': 0.8668778417071173, 'prauc': 0.7009830204200768}\n",
      "Test:       {'precision': 0.6645927601772365, 'recall': 0.6506090808380365, 'f1': 0.6575265758586653, 'auc': 0.8639683959451402, 'prauc': 0.7126815526734694}\n"
     ]
    },
    {
     "name": "stderr",
     "output_type": "stream",
     "text": [
      "Training Batches: 100%|██████████| 1/1 [00:00<00:00,  1.35it/s]\n",
      "Running inference: 100%|██████████| 1/1 [00:00<00:00,  1.04it/s]\n",
      "Running inference: 100%|██████████| 1/1 [00:01<00:00,  1.28s/it]\n"
     ]
    },
    {
     "name": "stdout",
     "output_type": "stream",
     "text": [
      "Epoch: 104, Average Loss: 0.3636\n",
      "Validation: {'precision': 0.6358414704156471, 'recall': 0.6523276370026381, 'f1': 0.6439790525886957, 'auc': 0.8663065781787297, 'prauc': 0.6998016418959196}\n",
      "Test:       {'precision': 0.6659012629123657, 'recall': 0.642303432997551, 'f1': 0.6538895102177833, 'auc': 0.8627575095514336, 'prauc': 0.7121884704879121}\n"
     ]
    },
    {
     "name": "stderr",
     "output_type": "stream",
     "text": [
      "Training Batches: 100%|██████████| 1/1 [00:00<00:00,  2.20it/s]\n",
      "Running inference: 100%|██████████| 1/1 [00:01<00:00,  1.30s/it]\n",
      "Running inference: 100%|██████████| 1/1 [00:00<00:00,  1.02it/s]\n"
     ]
    },
    {
     "name": "stdout",
     "output_type": "stream",
     "text": [
      "Epoch: 105, Average Loss: 0.3511\n",
      "Validation: {'precision': 0.6374781085777147, 'recall': 0.6434885091299736, 'f1': 0.6404692032074973, 'auc': 0.8656144704424137, 'prauc': 0.6978239218096441}\n",
      "Test:       {'precision': 0.6684149184110233, 'recall': 0.6351052048691301, 'f1': 0.6513344640512416, 'auc': 0.8619328536320068, 'prauc': 0.7112918221075281}\n"
     ]
    },
    {
     "name": "stderr",
     "output_type": "stream",
     "text": [
      "Training Batches: 100%|██████████| 1/1 [00:00<00:00,  2.15it/s]\n",
      "Running inference: 100%|██████████| 1/1 [00:01<00:00,  1.28s/it]\n",
      "Running inference: 100%|██████████| 1/1 [00:00<00:00,  1.02it/s]\n"
     ]
    },
    {
     "name": "stdout",
     "output_type": "stream",
     "text": [
      "Epoch: 106, Average Loss: 0.3469\n",
      "Validation: {'precision': 0.6308304891886757, 'recall': 0.65350618738566, 'f1': 0.6419681570817788, 'auc': 0.864477947273347, 'prauc': 0.6962718461023191}\n",
      "Test:       {'precision': 0.6636311895238268, 'recall': 0.6456256921337452, 'f1': 0.6545046259262643, 'auc': 0.8623117595761769, 'prauc': 0.7147345122563623}\n"
     ]
    },
    {
     "name": "stderr",
     "output_type": "stream",
     "text": [
      "Training Batches: 100%|██████████| 1/1 [00:00<00:00,  1.33it/s]\n",
      "Running inference: 100%|██████████| 1/1 [00:00<00:00,  1.03it/s]\n",
      "Running inference: 100%|██████████| 1/1 [00:01<00:00,  1.29s/it]\n"
     ]
    },
    {
     "name": "stdout",
     "output_type": "stream",
     "text": [
      "Epoch: 107, Average Loss: 0.3518\n",
      "Validation: {'precision': 0.6228974498067125, 'recall': 0.6764879198545877, 'f1': 0.6485875656263096, 'auc': 0.8642549731032216, 'prauc': 0.6955419050037371}\n",
      "Test:       {'precision': 0.6536796536761165, 'recall': 0.6688815060871048, 'f1': 0.6611932079143926, 'auc': 0.8635671471066013, 'prauc': 0.718729548266118}\n",
      "\n",
      "Early stopping triggered after 107 epochs (no improvement for 10 epochs).\n",
      "\n",
      "Best validation performance:\n",
      "{'precision': 0.6265624999967367, 'recall': 0.7088980553876907, 'f1': 0.6651921432044346, 'auc': 0.871103556715853, 'prauc': 0.7087872334482521}\n",
      "Corresponding test performance:\n",
      "{'precision': 0.6479305058730306, 'recall': 0.7021040974490471, 'f1': 0.6739303697055059, 'auc': 0.8684455303624548, 'prauc': 0.7158664279089597}\n",
      "Corresponding test-long performance:\n",
      "{'precision': 0.4076433120759463, 'recall': 0.4812030074826163, 'f1': 0.4413793053486326, 'auc': 0.8094751441711074, 'prauc': 0.444952821162886}\n",
      "[INFO] Random seed set to 1181241943\n",
      "Training with seed: 1181241943\n"
     ]
    },
    {
     "name": "stderr",
     "output_type": "stream",
     "text": [
      "Training Batches: 100%|██████████| 1/1 [00:00<00:00,  2.18it/s]\n",
      "Running inference: 100%|██████████| 1/1 [00:00<00:00,  1.03it/s]\n",
      "Running inference: 100%|██████████| 1/1 [00:01<00:00,  1.30s/it]\n"
     ]
    },
    {
     "name": "stdout",
     "output_type": "stream",
     "text": [
      "Epoch: 001, Average Loss: 0.6799\n",
      "Validation: {'precision': 0.06976744185505679, 'recall': 0.005303476723598683, 'f1': 0.009857610954036373, 'auc': 0.5481255032247904, 'prauc': 0.2802696029502523}\n",
      "Test:       {'precision': 0.06349206348702444, 'recall': 0.004429678848258972, 'f1': 0.00828157227959759, 'auc': 0.5398442743347973, 'prauc': 0.2930529555427492}\n"
     ]
    },
    {
     "name": "stderr",
     "output_type": "stream",
     "text": [
      "Training Batches: 100%|██████████| 1/1 [00:00<00:00,  6.33it/s]\n",
      "Running inference: 100%|██████████| 1/1 [00:01<00:00,  1.26s/it]\n",
      "Running inference: 100%|██████████| 1/1 [00:00<00:00,  1.01it/s]\n"
     ]
    },
    {
     "name": "stdout",
     "output_type": "stream",
     "text": [
      "Epoch: 002, Average Loss: 0.6738\n",
      "Validation: {'precision': 0.06923076922544379, 'recall': 0.005303476723598683, 'f1': 0.009852215426823217, 'auc': 0.5543051004558994, 'prauc': 0.2849157560560401}\n",
      "Test:       {'precision': 0.062499999994419644, 'recall': 0.003875968992226601, 'f1': 0.007299268973231103, 'auc': 0.5408239763999947, 'prauc': 0.29395847367885847}\n"
     ]
    },
    {
     "name": "stderr",
     "output_type": "stream",
     "text": [
      "Training Batches: 100%|██████████| 1/1 [00:00<00:00,  1.37it/s]\n",
      "Running inference: 100%|██████████| 1/1 [00:00<00:00,  1.03it/s]\n",
      "Running inference: 100%|██████████| 1/1 [00:01<00:00,  1.29s/it]\n"
     ]
    },
    {
     "name": "stdout",
     "output_type": "stream",
     "text": [
      "Epoch: 003, Average Loss: 0.6649\n",
      "Validation: {'precision': 0.07936507935878055, 'recall': 0.0058927519151096485, 'f1': 0.0109709257564209, 'auc': 0.5578648948981133, 'prauc': 0.28823965062032875}\n",
      "Test:       {'precision': 0.08247422679562122, 'recall': 0.004429678848258972, 'f1': 0.008407776226336325, 'auc': 0.5411902644561604, 'prauc': 0.2951431224546424}\n"
     ]
    },
    {
     "name": "stderr",
     "output_type": "stream",
     "text": [
      "Training Batches: 100%|██████████| 1/1 [00:00<00:00,  1.33it/s]\n",
      "Running inference: 100%|██████████| 1/1 [00:00<00:00,  1.02it/s]\n",
      "Running inference: 100%|██████████| 1/1 [00:01<00:00,  1.30s/it]\n"
     ]
    },
    {
     "name": "stdout",
     "output_type": "stream",
     "text": [
      "Epoch: 004, Average Loss: 0.6585\n",
      "Validation: {'precision': 0.08620689654429252, 'recall': 0.0058927519151096485, 'f1': 0.011031438404974442, 'auc': 0.5624329592485482, 'prauc': 0.2926023354401531}\n",
      "Test:       {'precision': 0.0999999999875, 'recall': 0.004429678848258972, 'f1': 0.008483562284039757, 'auc': 0.5440459079389043, 'prauc': 0.2983625534282108}\n"
     ]
    },
    {
     "name": "stderr",
     "output_type": "stream",
     "text": [
      "Training Batches: 100%|██████████| 1/1 [00:00<00:00,  6.26it/s]\n",
      "Running inference: 100%|██████████| 1/1 [00:01<00:00,  1.27s/it]\n",
      "Running inference: 100%|██████████| 1/1 [00:00<00:00,  1.03it/s]\n"
     ]
    },
    {
     "name": "stdout",
     "output_type": "stream",
     "text": [
      "Epoch: 005, Average Loss: 0.6523\n",
      "Validation: {'precision': 0.11965811964789247, 'recall': 0.008249852681153507, 'f1': 0.01543550044686747, 'auc': 0.5652257889715224, 'prauc': 0.295321489771264}\n",
      "Test:       {'precision': 0.10810810809349891, 'recall': 0.004429678848258972, 'f1': 0.008510637541534699, 'auc': 0.5458401716131249, 'prauc': 0.30085003873885824}\n"
     ]
    },
    {
     "name": "stderr",
     "output_type": "stream",
     "text": [
      "Training Batches: 100%|██████████| 1/1 [00:00<00:00,  1.36it/s]\n",
      "Running inference: 100%|██████████| 1/1 [00:01<00:00,  1.29s/it]\n",
      "Running inference: 100%|██████████| 1/1 [00:00<00:00,  1.01it/s]\n"
     ]
    },
    {
     "name": "stdout",
     "output_type": "stream",
     "text": [
      "Epoch: 006, Average Loss: 0.6463\n",
      "Validation: {'precision': 0.142857142845805, 'recall': 0.010606953447197367, 'f1': 0.01974766739099267, 'auc': 0.5681234312448192, 'prauc': 0.29791065983753146}\n",
      "Test:       {'precision': 0.13333333331555558, 'recall': 0.005537098560323715, 'f1': 0.010632641445824596, 'auc': 0.5474066977965352, 'prauc': 0.30300550820701655}\n"
     ]
    },
    {
     "name": "stderr",
     "output_type": "stream",
     "text": [
      "Training Batches: 100%|██████████| 1/1 [00:00<00:00,  2.21it/s]\n",
      "Running inference: 100%|██████████| 1/1 [00:00<00:00,  1.02it/s]\n",
      "Running inference: 100%|██████████| 1/1 [00:00<00:00,  1.01it/s]\n"
     ]
    },
    {
     "name": "stdout",
     "output_type": "stream",
     "text": [
      "Epoch: 007, Average Loss: 0.6394\n",
      "Validation: {'precision': 0.14503816792785967, 'recall': 0.011196228638708332, 'f1': 0.02078774483990236, 'auc': 0.5714199488238831, 'prauc': 0.30059753349339513}\n",
      "Test:       {'precision': 0.17073170729625226, 'recall': 0.007751937984453202, 'f1': 0.014830507643502275, 'auc': 0.5497296202028021, 'prauc': 0.3055546028775191}\n"
     ]
    },
    {
     "name": "stderr",
     "output_type": "stream",
     "text": [
      "Training Batches: 100%|██████████| 1/1 [00:00<00:00,  1.33it/s]\n",
      "Running inference: 100%|██████████| 1/1 [00:00<00:00,  1.02it/s]\n",
      "Running inference: 100%|██████████| 1/1 [00:01<00:00,  1.28s/it]\n"
     ]
    },
    {
     "name": "stdout",
     "output_type": "stream",
     "text": [
      "Epoch: 008, Average Loss: 0.6321\n",
      "Validation: {'precision': 0.16528925618468684, 'recall': 0.011785503830219297, 'f1': 0.022002198977242683, 'auc': 0.5781101958659784, 'prauc': 0.3080157162526739}\n",
      "Test:       {'precision': 0.2708333332769097, 'recall': 0.00719822812842083, 'f1': 0.014023731965789607, 'auc': 0.5557240402649732, 'prauc': 0.3141837301705481}\n"
     ]
    },
    {
     "name": "stderr",
     "output_type": "stream",
     "text": [
      "Training Batches: 100%|██████████| 1/1 [00:00<00:00,  2.19it/s]\n",
      "Running inference: 100%|██████████| 1/1 [00:01<00:00,  1.28s/it]\n",
      "Running inference: 100%|██████████| 1/1 [00:00<00:00,  1.01it/s]\n"
     ]
    },
    {
     "name": "stdout",
     "output_type": "stream",
     "text": [
      "Epoch: 009, Average Loss: 0.6288\n",
      "Validation: {'precision': 0.24999999997159092, 'recall': 0.012964054213241226, 'f1': 0.024649859006316287, 'auc': 0.5872077463947613, 'prauc': 0.32037460998046463}\n",
      "Test:       {'precision': 0.47619047596371883, 'recall': 0.005537098560323715, 'f1': 0.010946907271269108, 'auc': 0.5642216646551906, 'prauc': 0.33015496886965223}\n"
     ]
    },
    {
     "name": "stderr",
     "output_type": "stream",
     "text": [
      "Training Batches: 100%|██████████| 1/1 [00:00<00:00,  2.17it/s]\n",
      "Running inference: 100%|██████████| 1/1 [00:01<00:00,  1.29s/it]\n",
      "Running inference: 100%|██████████| 1/1 [00:00<00:00,  1.02it/s]\n"
     ]
    },
    {
     "name": "stdout",
     "output_type": "stream",
     "text": [
      "Epoch: 010, Average Loss: 0.6183\n",
      "Validation: {'precision': 0.33928571422512754, 'recall': 0.011196228638708332, 'f1': 0.0216771243099516, 'auc': 0.5973548914631231, 'prauc': 0.3380233671585895}\n",
      "Test:       {'precision': 0.6521739127599243, 'recall': 0.008305647840485573, 'f1': 0.016402405437647097, 'auc': 0.5740223167968833, 'prauc': 0.3453531816794021}\n"
     ]
    },
    {
     "name": "stderr",
     "output_type": "stream",
     "text": [
      "Training Batches: 100%|██████████| 1/1 [00:00<00:00,  1.34it/s]\n",
      "Running inference: 100%|██████████| 1/1 [00:00<00:00,  1.03it/s]\n",
      "Running inference: 100%|██████████| 1/1 [00:01<00:00,  1.31s/it]\n"
     ]
    },
    {
     "name": "stdout",
     "output_type": "stream",
     "text": [
      "Epoch: 011, Average Loss: 0.6141\n",
      "Validation: {'precision': 0.4081632652228238, 'recall': 0.011785503830219297, 'f1': 0.022909506899796508, 'auc': 0.6100862630921478, 'prauc': 0.3580447465002291}\n",
      "Test:       {'precision': 0.6666666663888888, 'recall': 0.008859357696517944, 'f1': 0.017486338538767958, 'auc': 0.5859817972501129, 'prauc': 0.3604168215620236}\n"
     ]
    },
    {
     "name": "stderr",
     "output_type": "stream",
     "text": [
      "Training Batches: 100%|██████████| 1/1 [00:00<00:00,  2.21it/s]\n",
      "Running inference: 100%|██████████| 1/1 [00:00<00:00,  1.03it/s]\n",
      "Running inference: 100%|██████████| 1/1 [00:01<00:00,  1.29s/it]\n"
     ]
    },
    {
     "name": "stdout",
     "output_type": "stream",
     "text": [
      "Epoch: 012, Average Loss: 0.6081\n",
      "Validation: {'precision': 0.47169811311854754, 'recall': 0.01473187978777412, 'f1': 0.028571427983732255, 'auc': 0.6236485983285431, 'prauc': 0.37429953762107865}\n",
      "Test:       {'precision': 0.6666666664444444, 'recall': 0.01107419712064743, 'f1': 0.021786492053032788, 'auc': 0.5992026971997398, 'prauc': 0.37561621057953465}\n"
     ]
    },
    {
     "name": "stderr",
     "output_type": "stream",
     "text": [
      "Training Batches: 100%|██████████| 1/1 [00:00<00:00,  6.25it/s]\n",
      "Running inference: 100%|██████████| 1/1 [00:01<00:00,  1.28s/it]\n",
      "Running inference: 100%|██████████| 1/1 [00:01<00:00,  1.28s/it]\n"
     ]
    },
    {
     "name": "stdout",
     "output_type": "stream",
     "text": [
      "Epoch: 013, Average Loss: 0.5950\n",
      "Validation: {'precision': 0.5245901638484278, 'recall': 0.018856806128350875, 'f1': 0.03640500501797732, 'auc': 0.6351098922225511, 'prauc': 0.3849189962346673}\n",
      "Test:       {'precision': 0.6363636361707988, 'recall': 0.011627906976679802, 'f1': 0.022838498831640366, 'auc': 0.6111711025005822, 'prauc': 0.38949313892282467}\n"
     ]
    },
    {
     "name": "stderr",
     "output_type": "stream",
     "text": [
      "Training Batches: 100%|██████████| 1/1 [00:00<00:00,  6.30it/s]\n",
      "Running inference: 100%|██████████| 1/1 [00:01<00:00,  1.28s/it]\n",
      "Running inference: 100%|██████████| 1/1 [00:00<00:00,  1.02it/s]\n"
     ]
    },
    {
     "name": "stdout",
     "output_type": "stream",
     "text": [
      "Epoch: 014, Average Loss: 0.5881\n",
      "Validation: {'precision': 0.4788732393691728, 'recall': 0.020035356511372802, 'f1': 0.03846153769018987, 'auc': 0.645423677110408, 'prauc': 0.3931744521042394}\n",
      "Test:       {'precision': 0.6111111109413581, 'recall': 0.012181616832712173, 'f1': 0.0238870788781726, 'auc': 0.6223688318223874, 'prauc': 0.4021257802150537}\n"
     ]
    },
    {
     "name": "stderr",
     "output_type": "stream",
     "text": [
      "Training Batches: 100%|██████████| 1/1 [00:00<00:00,  1.34it/s]\n",
      "Running inference: 100%|██████████| 1/1 [00:00<00:00,  1.03it/s]\n",
      "Running inference: 100%|██████████| 1/1 [00:01<00:00,  1.25s/it]\n"
     ]
    },
    {
     "name": "stdout",
     "output_type": "stream",
     "text": [
      "Epoch: 015, Average Loss: 0.5795\n",
      "Validation: {'precision': 0.4949494948995001, 'recall': 0.028874484384037277, 'f1': 0.05456570051673233, 'auc': 0.6615028548486055, 'prauc': 0.4084123906684817}\n",
      "Test:       {'precision': 0.6792452828907084, 'recall': 0.019933554817165376, 'f1': 0.03873049971460245, 'auc': 0.6395289748563038, 'prauc': 0.4222878541973988}\n"
     ]
    },
    {
     "name": "stderr",
     "output_type": "stream",
     "text": [
      "Training Batches: 100%|██████████| 1/1 [00:00<00:00,  1.33it/s]\n",
      "Running inference: 100%|██████████| 1/1 [00:00<00:00,  1.02it/s]\n",
      "Running inference: 100%|██████████| 1/1 [00:01<00:00,  1.30s/it]\n"
     ]
    },
    {
     "name": "stdout",
     "output_type": "stream",
     "text": [
      "Epoch: 016, Average Loss: 0.5700\n",
      "Validation: {'precision': 0.5823529411422145, 'recall': 0.05833824395958552, 'f1': 0.10605248897025525, 'auc': 0.6847228266916497, 'prauc': 0.4308074756242159}\n",
      "Test:       {'precision': 0.6764705881689735, 'recall': 0.03820598006623364, 'f1': 0.07232704301237426, 'auc': 0.6647524407303947, 'prauc': 0.4518957664059151}\n"
     ]
    },
    {
     "name": "stderr",
     "output_type": "stream",
     "text": [
      "Training Batches: 100%|██████████| 1/1 [00:00<00:00,  6.30it/s]\n",
      "Running inference: 100%|██████████| 1/1 [00:01<00:00,  1.28s/it]\n",
      "Running inference: 100%|██████████| 1/1 [00:00<00:00,  1.03it/s]\n"
     ]
    },
    {
     "name": "stdout",
     "output_type": "stream",
     "text": [
      "Epoch: 017, Average Loss: 0.5617\n",
      "Validation: {'precision': 0.5809523809247166, 'recall': 0.07189157336433771, 'f1': 0.12794965718927512, 'auc': 0.6965417990023582, 'prauc': 0.4405703094187555}\n",
      "Test:       {'precision': 0.6808510637814998, 'recall': 0.05315614617910767, 'f1': 0.09861324981111949, 'auc': 0.6795644871327087, 'prauc': 0.4696162235724395}\n"
     ]
    },
    {
     "name": "stderr",
     "output_type": "stream",
     "text": [
      "Training Batches: 100%|██████████| 1/1 [00:00<00:00,  1.35it/s]\n",
      "Running inference: 100%|██████████| 1/1 [00:01<00:00,  1.29s/it]\n",
      "Running inference: 100%|██████████| 1/1 [00:00<00:00,  1.01it/s]\n"
     ]
    },
    {
     "name": "stdout",
     "output_type": "stream",
     "text": [
      "Epoch: 018, Average Loss: 0.5585\n",
      "Validation: {'precision': 0.5864197530683204, 'recall': 0.11196228638708332, 'f1': 0.18802572714254903, 'auc': 0.7178400158093861, 'prauc': 0.46023643184671476}\n",
      "Test:       {'precision': 0.6945606694270058, 'recall': 0.09191583610137367, 'f1': 0.16234718619823654, 'auc': 0.7053752079797246, 'prauc': 0.4973778366749354}\n"
     ]
    },
    {
     "name": "stderr",
     "output_type": "stream",
     "text": [
      "Training Batches: 100%|██████████| 1/1 [00:00<00:00,  2.18it/s]\n",
      "Running inference: 100%|██████████| 1/1 [00:00<00:00,  1.02it/s]\n",
      "Running inference: 100%|██████████| 1/1 [00:00<00:00,  1.03it/s]\n"
     ]
    },
    {
     "name": "stdout",
     "output_type": "stream",
     "text": [
      "Epoch: 019, Average Loss: 0.5381\n",
      "Validation: {'precision': 0.5792207792057346, 'recall': 0.13140836770694517, 'f1': 0.21421709592679494, 'auc': 0.7248208765650506, 'prauc': 0.4660881810757015}\n",
      "Test:       {'precision': 0.6769759449939183, 'recall': 0.10908084163837718, 'f1': 0.18788745588167943, 'auc': 0.7156778674119715, 'prauc': 0.5075901300256733}\n"
     ]
    },
    {
     "name": "stderr",
     "output_type": "stream",
     "text": [
      "Training Batches: 100%|██████████| 1/1 [00:00<00:00,  1.32it/s]\n",
      "Running inference: 100%|██████████| 1/1 [00:00<00:00,  1.02it/s]\n",
      "Running inference: 100%|██████████| 1/1 [00:01<00:00,  1.28s/it]\n"
     ]
    },
    {
     "name": "stdout",
     "output_type": "stream",
     "text": [
      "Epoch: 020, Average Loss: 0.5364\n",
      "Validation: {'precision': 0.5821596243994798, 'recall': 0.14614024749471927, 'f1': 0.23363165011066692, 'auc': 0.728038449407857, 'prauc': 0.4688655826669642}\n",
      "Test:       {'precision': 0.6752136751944383, 'recall': 0.13122923587967206, 'f1': 0.21974964956789136, 'auc': 0.7214189449032843, 'prauc': 0.5143601368336226}\n"
     ]
    },
    {
     "name": "stderr",
     "output_type": "stream",
     "text": [
      "Training Batches: 100%|██████████| 1/1 [00:00<00:00,  2.23it/s]\n",
      "Running inference: 100%|██████████| 1/1 [00:01<00:00,  1.19s/it]\n",
      "Running inference: 100%|██████████| 1/1 [00:00<00:00,  1.02it/s]\n"
     ]
    },
    {
     "name": "stdout",
     "output_type": "stream",
     "text": [
      "Epoch: 021, Average Loss: 0.5295\n",
      "Validation: {'precision': 0.5862068965420985, 'recall': 0.21037124336941446, 'f1': 0.3096270559542361, 'auc': 0.7414544558491343, 'prauc': 0.4859604997547049}\n",
      "Test:       {'precision': 0.6608187134374109, 'recall': 0.18770764119497393, 'f1': 0.2923673962931562, 'auc': 0.7380354108408955, 'prauc': 0.5325849032314904}\n"
     ]
    },
    {
     "name": "stderr",
     "output_type": "stream",
     "text": [
      "Training Batches: 100%|██████████| 1/1 [00:00<00:00,  2.20it/s]\n",
      "Running inference: 100%|██████████| 1/1 [00:01<00:00,  1.29s/it]\n",
      "Running inference: 100%|██████████| 1/1 [00:00<00:00,  1.02it/s]\n"
     ]
    },
    {
     "name": "stdout",
     "output_type": "stream",
     "text": [
      "Epoch: 022, Average Loss: 0.5179\n",
      "Validation: {'precision': 0.575443786973736, 'recall': 0.22922804949776532, 'f1': 0.3278550317424801, 'auc': 0.7434934783089117, 'prauc': 0.49061466139717147}\n",
      "Test:       {'precision': 0.6608996539678045, 'recall': 0.21151716500436593, 'f1': 0.32046979498167316, 'auc': 0.7410622267457864, 'prauc': 0.5373475823018596}\n"
     ]
    },
    {
     "name": "stderr",
     "output_type": "stream",
     "text": [
      "Training Batches: 100%|██████████| 1/1 [00:00<00:00,  1.32it/s]\n",
      "Running inference: 100%|██████████| 1/1 [00:00<00:00,  1.01it/s]\n",
      "Running inference: 100%|██████████| 1/1 [00:01<00:00,  1.29s/it]\n"
     ]
    },
    {
     "name": "stdout",
     "output_type": "stream",
     "text": [
      "Epoch: 023, Average Loss: 0.5002\n",
      "Validation: {'precision': 0.5849056603694757, 'recall': 0.25574543311575876, 'f1': 0.3558835545992425, 'auc': 0.7456447862430748, 'prauc': 0.4946467791553092}\n",
      "Test:       {'precision': 0.6561514195480103, 'recall': 0.23034330010946655, 'f1': 0.3409836027081564, 'auc': 0.744287051166336, 'prauc': 0.5423940098417397}\n"
     ]
    },
    {
     "name": "stderr",
     "output_type": "stream",
     "text": [
      "Training Batches: 100%|██████████| 1/1 [00:00<00:00,  2.16it/s]\n",
      "Running inference: 100%|██████████| 1/1 [00:00<00:00,  1.03it/s]\n",
      "Running inference: 100%|██████████| 1/1 [00:01<00:00,  1.31s/it]\n"
     ]
    },
    {
     "name": "stdout",
     "output_type": "stream",
     "text": [
      "Epoch: 024, Average Loss: 0.4969\n",
      "Validation: {'precision': 0.5906921240979631, 'recall': 0.2916912197979276, 'f1': 0.3905325399497342, 'auc': 0.7527613093125025, 'prauc': 0.5040949511335319}\n",
      "Test:       {'precision': 0.6553595657984347, 'recall': 0.26744186046363544, 'f1': 0.37986629552665296, 'auc': 0.7535776944299595, 'prauc': 0.5533675122586383}\n"
     ]
    },
    {
     "name": "stderr",
     "output_type": "stream",
     "text": [
      "Training Batches: 100%|██████████| 1/1 [00:00<00:00,  6.31it/s]\n",
      "Running inference: 100%|██████████| 1/1 [00:01<00:00,  1.26s/it]\n",
      "Running inference: 100%|██████████| 1/1 [00:01<00:00,  1.29s/it]\n"
     ]
    },
    {
     "name": "stdout",
     "output_type": "stream",
     "text": [
      "Epoch: 025, Average Loss: 0.4860\n",
      "Validation: {'precision': 0.5857002938238423, 'recall': 0.352386564523557, 'f1': 0.440029428712968, 'auc': 0.7680436945063532, 'prauc': 0.524257252528313}\n",
      "Test:       {'precision': 0.6410256410190664, 'recall': 0.3460686600202322, 'f1': 0.44947860026162534, 'auc': 0.7713591915097494, 'prauc': 0.5725578856261339}\n"
     ]
    },
    {
     "name": "stderr",
     "output_type": "stream",
     "text": [
      "Training Batches: 100%|██████████| 1/1 [00:00<00:00,  6.25it/s]\n",
      "Running inference: 100%|██████████| 1/1 [00:01<00:00,  1.26s/it]\n",
      "Running inference: 100%|██████████| 1/1 [00:00<00:00,  1.01it/s]\n"
     ]
    },
    {
     "name": "stdout",
     "output_type": "stream",
     "text": [
      "Epoch: 026, Average Loss: 0.4999\n",
      "Validation: {'precision': 0.5957671957608913, 'recall': 0.3317619328206732, 'f1': 0.42619227397868875, 'auc': 0.7660559605766849, 'prauc': 0.5236586395528083}\n",
      "Test:       {'precision': 0.6517857142784399, 'recall': 0.323366555922905, 'f1': 0.43227238638554333, 'auc': 0.7687333166900312, 'prauc': 0.5715282601534359}\n"
     ]
    },
    {
     "name": "stderr",
     "output_type": "stream",
     "text": [
      "Training Batches: 100%|██████████| 1/1 [00:00<00:00,  1.34it/s]\n",
      "Running inference: 100%|██████████| 1/1 [00:00<00:00,  1.04it/s]\n",
      "Running inference: 100%|██████████| 1/1 [00:01<00:00,  1.26s/it]\n"
     ]
    },
    {
     "name": "stdout",
     "output_type": "stream",
     "text": [
      "Epoch: 027, Average Loss: 0.4773\n",
      "Validation: {'precision': 0.6011183597334472, 'recall': 0.3800824985245723, 'f1': 0.46570396636950573, 'auc': 0.7746015366631235, 'prauc': 0.5374044724325322}\n",
      "Test:       {'precision': 0.6337488015279603, 'recall': 0.3660022148373976, 'f1': 0.46402245937782644, 'auc': 0.7777772033048279, 'prauc': 0.5822345591547108}\n"
     ]
    },
    {
     "name": "stderr",
     "output_type": "stream",
     "text": [
      "Training Batches: 100%|██████████| 1/1 [00:00<00:00,  1.32it/s]\n",
      "Running inference: 100%|██████████| 1/1 [00:00<00:00,  1.01it/s]\n",
      "Running inference: 100%|██████████| 1/1 [00:01<00:00,  1.29s/it]\n"
     ]
    },
    {
     "name": "stdout",
     "output_type": "stream",
     "text": [
      "Epoch: 028, Average Loss: 0.4627\n",
      "Validation: {'precision': 0.6104129263859029, 'recall': 0.4007071302274561, 'f1': 0.48381358468157015, 'auc': 0.780187579335947, 'prauc': 0.5456360908871035}\n",
      "Test:       {'precision': 0.6357738646836352, 'recall': 0.3798449612382069, 'f1': 0.47556325354644163, 'auc': 0.7835930033133958, 'prauc': 0.5893105404733409}\n"
     ]
    },
    {
     "name": "stderr",
     "output_type": "stream",
     "text": [
      "Training Batches: 100%|██████████| 1/1 [00:00<00:00,  6.31it/s]\n",
      "Running inference: 100%|██████████| 1/1 [00:01<00:00,  1.28s/it]\n",
      "Running inference: 100%|██████████| 1/1 [00:00<00:00,  1.03it/s]\n"
     ]
    },
    {
     "name": "stdout",
     "output_type": "stream",
     "text": [
      "Epoch: 029, Average Loss: 0.4652\n",
      "Validation: {'precision': 0.6147826086903063, 'recall': 0.41661756039825215, 'f1': 0.4966631493784856, 'auc': 0.7861241468571373, 'prauc': 0.5544547028340728}\n",
      "Test:       {'precision': 0.6301615798866234, 'recall': 0.3887043189347248, 'f1': 0.4808219130857385, 'auc': 0.7888584172022807, 'prauc': 0.595677464765064}\n"
     ]
    },
    {
     "name": "stderr",
     "output_type": "stream",
     "text": [
      "Training Batches: 100%|██████████| 1/1 [00:00<00:00,  1.34it/s]\n",
      "Running inference: 100%|██████████| 1/1 [00:01<00:00,  1.28s/it]\n",
      "Running inference: 100%|██████████| 1/1 [00:00<00:00,  1.01it/s]\n"
     ]
    },
    {
     "name": "stdout",
     "output_type": "stream",
     "text": [
      "Epoch: 030, Average Loss: 0.4494\n",
      "Validation: {'precision': 0.6086956521691872, 'recall': 0.4619917501445964, 'f1': 0.525293127418659, 'auc': 0.7955798229006417, 'prauc': 0.569336495333027}\n",
      "Test:       {'precision': 0.6291698991417443, 'recall': 0.4490586932422533, 'f1': 0.5240710775270845, 'auc': 0.7983501465152223, 'prauc': 0.6067623427546739}\n"
     ]
    },
    {
     "name": "stderr",
     "output_type": "stream",
     "text": [
      "Training Batches: 100%|██████████| 1/1 [00:00<00:00,  2.19it/s]\n",
      "Running inference: 100%|██████████| 1/1 [00:00<00:00,  1.03it/s]\n",
      "Running inference: 100%|██████████| 1/1 [00:00<00:00,  1.03it/s]\n"
     ]
    },
    {
     "name": "stdout",
     "output_type": "stream",
     "text": [
      "Epoch: 031, Average Loss: 0.4501\n",
      "Validation: {'precision': 0.6070150322075375, 'recall': 0.49970536240129815, 'f1': 0.5481577196717776, 'auc': 0.8042738994011567, 'prauc': 0.5821389657955718}\n",
      "Test:       {'precision': 0.6159217877051961, 'recall': 0.4883720930205517, 'f1': 0.5447807239083063, 'auc': 0.8058408634426917, 'prauc': 0.6159185061196398}\n"
     ]
    },
    {
     "name": "stderr",
     "output_type": "stream",
     "text": [
      "Training Batches: 100%|██████████| 1/1 [00:00<00:00,  1.33it/s]\n",
      "Running inference: 100%|██████████| 1/1 [00:00<00:00,  1.02it/s]\n",
      "Running inference: 100%|██████████| 1/1 [00:01<00:00,  1.28s/it]\n"
     ]
    },
    {
     "name": "stdout",
     "output_type": "stream",
     "text": [
      "Epoch: 032, Average Loss: 0.4543\n",
      "Validation: {'precision': 0.6123680241281119, 'recall': 0.4784914555069034, 'f1': 0.5372146824683799, 'auc': 0.8008445298387471, 'prauc': 0.5763096173073405}\n",
      "Test:       {'precision': 0.6167400881011987, 'recall': 0.46511627906719205, 'f1': 0.5303030253978948, 'auc': 0.8009925169153559, 'prauc': 0.6118733043736313}\n"
     ]
    },
    {
     "name": "stderr",
     "output_type": "stream",
     "text": [
      "Training Batches: 100%|██████████| 1/1 [00:00<00:00,  2.20it/s]\n",
      "Running inference: 100%|██████████| 1/1 [00:01<00:00,  1.29s/it]\n",
      "Running inference: 100%|██████████| 1/1 [00:00<00:00,  1.02it/s]\n"
     ]
    },
    {
     "name": "stdout",
     "output_type": "stream",
     "text": [
      "Epoch: 033, Average Loss: 0.4345\n",
      "Validation: {'precision': 0.6027586206854982, 'recall': 0.5150265173805832, 'f1': 0.5554496295998803, 'auc': 0.8049679232718481, 'prauc': 0.5840123605534681}\n",
      "Test:       {'precision': 0.6112237998606409, 'recall': 0.5005537098532639, 'f1': 0.5503805125499989, 'auc': 0.8053546131244746, 'prauc': 0.618717435767305}\n"
     ]
    },
    {
     "name": "stderr",
     "output_type": "stream",
     "text": [
      "Training Batches: 100%|██████████| 1/1 [00:00<00:00,  2.18it/s]\n",
      "Running inference: 100%|██████████| 1/1 [00:01<00:00,  1.28s/it]\n",
      "Running inference: 100%|██████████| 1/1 [00:00<00:00,  1.01it/s]\n"
     ]
    },
    {
     "name": "stdout",
     "output_type": "stream",
     "text": [
      "Epoch: 034, Average Loss: 0.4265\n",
      "Validation: {'precision': 0.5818181818148761, 'recall': 0.603417796107228, 'f1': 0.5924211694269287, 'auc': 0.813827553782379, 'prauc': 0.5991071589773302}\n",
      "Test:       {'precision': 0.6001128031551037, 'recall': 0.5891472868184433, 'f1': 0.5945794864751691, 'auc': 0.8167405028542278, 'prauc': 0.6314652226229304}\n"
     ]
    },
    {
     "name": "stderr",
     "output_type": "stream",
     "text": [
      "Training Batches: 100%|██████████| 1/1 [00:00<00:00,  1.32it/s]\n",
      "Running inference: 100%|██████████| 1/1 [00:00<00:00,  1.03it/s]\n",
      "Running inference: 100%|██████████| 1/1 [00:01<00:00,  1.27s/it]\n"
     ]
    },
    {
     "name": "stdout",
     "output_type": "stream",
     "text": [
      "Epoch: 035, Average Loss: 0.4313\n",
      "Validation: {'precision': 0.5771812080504632, 'recall': 0.6081319976393157, 'f1': 0.5922525057604122, 'auc': 0.8143015415556533, 'prauc': 0.600739497768821}\n",
      "Test:       {'precision': 0.6059417040324779, 'recall': 0.5985603543709936, 'f1': 0.6022284072531002, 'auc': 0.8184373318127856, 'prauc': 0.6344117007787908}\n"
     ]
    },
    {
     "name": "stderr",
     "output_type": "stream",
     "text": [
      "Training Batches: 100%|██████████| 1/1 [00:00<00:00,  2.19it/s]\n",
      "Running inference: 100%|██████████| 1/1 [00:00<00:00,  1.02it/s]\n",
      "Running inference: 100%|██████████| 1/1 [00:01<00:00,  1.28s/it]\n"
     ]
    },
    {
     "name": "stdout",
     "output_type": "stream",
     "text": [
      "Epoch: 036, Average Loss: 0.4590\n",
      "Validation: {'precision': 0.5878612716729026, 'recall': 0.5992928697666512, 'f1': 0.5935220259278432, 'auc': 0.8163263846210544, 'prauc': 0.6053272264611801}\n",
      "Test:       {'precision': 0.6135181975701126, 'recall': 0.5880398671063786, 'f1': 0.60050890085127, 'auc': 0.8194738451493392, 'prauc': 0.6375485000397502}\n"
     ]
    },
    {
     "name": "stderr",
     "output_type": "stream",
     "text": [
      "Training Batches: 100%|██████████| 1/1 [00:00<00:00,  6.27it/s]\n",
      "Running inference: 100%|██████████| 1/1 [00:01<00:00,  1.28s/it]\n",
      "Running inference: 100%|██████████| 1/1 [00:01<00:00,  1.28s/it]\n"
     ]
    },
    {
     "name": "stdout",
     "output_type": "stream",
     "text": [
      "Epoch: 037, Average Loss: 0.4316\n",
      "Validation: {'precision': 0.5857461024466273, 'recall': 0.619917501469535, 'f1': 0.6023475472479195, 'auc': 0.8224637630247638, 'prauc': 0.6152513529185084}\n",
      "Test:       {'precision': 0.610543302847711, 'recall': 0.6284606865967417, 'f1': 0.6193724370167655, 'auc': 0.8248104116164339, 'prauc': 0.6439380512885585}\n"
     ]
    },
    {
     "name": "stderr",
     "output_type": "stream",
     "text": [
      "Training Batches: 100%|██████████| 1/1 [00:00<00:00,  6.28it/s]\n",
      "Running inference: 100%|██████████| 1/1 [00:01<00:00,  1.27s/it]\n",
      "Running inference: 100%|██████████| 1/1 [00:00<00:00,  1.04it/s]\n"
     ]
    },
    {
     "name": "stdout",
     "output_type": "stream",
     "text": [
      "Epoch: 038, Average Loss: 0.4153\n",
      "Validation: {'precision': 0.5970063327541911, 'recall': 0.6110783735968706, 'f1': 0.603960391036765, 'auc': 0.825579142034227, 'prauc': 0.6210187913007946}\n",
      "Test:       {'precision': 0.6130268199200163, 'recall': 0.6201550387562561, 'f1': 0.6165703225497594, 'auc': 0.8263809385936016, 'prauc': 0.6471048319796099}\n"
     ]
    },
    {
     "name": "stderr",
     "output_type": "stream",
     "text": [
      "Training Batches: 100%|██████████| 1/1 [00:00<00:00,  1.47it/s]\n",
      "Running inference: 100%|██████████| 1/1 [00:00<00:00,  1.09it/s]\n",
      "Running inference: 100%|██████████| 1/1 [00:01<00:00,  1.27s/it]\n"
     ]
    },
    {
     "name": "stdout",
     "output_type": "stream",
     "text": [
      "Epoch: 039, Average Loss: 0.4364\n",
      "Validation: {'precision': 0.5975336322836462, 'recall': 0.6281673541506885, 'f1': 0.6124676767002651, 'auc': 0.8323166537242435, 'prauc': 0.6315913358486114}\n",
      "Test:       {'precision': 0.6072555205015392, 'recall': 0.6395348837173891, 'f1': 0.6229773412783085, 'auc': 0.8311043372543574, 'prauc': 0.6516128469179849}\n"
     ]
    },
    {
     "name": "stderr",
     "output_type": "stream",
     "text": [
      "Training Batches: 100%|██████████| 1/1 [00:00<00:00,  1.31it/s]\n",
      "Running inference: 100%|██████████| 1/1 [00:00<00:00,  1.02it/s]\n",
      "Running inference: 100%|██████████| 1/1 [00:01<00:00,  1.29s/it]\n"
     ]
    },
    {
     "name": "stdout",
     "output_type": "stream",
     "text": [
      "Epoch: 040, Average Loss: 0.4146\n",
      "Validation: {'precision': 0.6160661547512342, 'recall': 0.6146140247459363, 'f1': 0.6153392280347248, 'auc': 0.8363741321348381, 'prauc': 0.6387973831624023}\n",
      "Test:       {'precision': 0.6144251626864727, 'recall': 0.627353266884677, 'f1': 0.6208219128053594, 'auc': 0.8340841284449295, 'prauc': 0.6555079388547655}\n"
     ]
    },
    {
     "name": "stderr",
     "output_type": "stream",
     "text": [
      "Training Batches: 100%|██████████| 1/1 [00:00<00:00,  6.34it/s]\n",
      "Running inference: 100%|██████████| 1/1 [00:01<00:00,  1.27s/it]\n",
      "Running inference: 100%|██████████| 1/1 [00:00<00:00,  1.03it/s]\n"
     ]
    },
    {
     "name": "stdout",
     "output_type": "stream",
     "text": [
      "Epoch: 041, Average Loss: 0.4171\n",
      "Validation: {'precision': 0.6475988700519237, 'recall': 0.5403653506155548, 'f1': 0.5891423014937495, 'auc': 0.8334114051639311, 'prauc': 0.6360242389133565}\n",
      "Test:       {'precision': 0.6333746898223737, 'recall': 0.5653377630090514, 'f1': 0.5974253899804294, 'auc': 0.8315685524315717, 'prauc': 0.6551272878447608}\n"
     ]
    },
    {
     "name": "stderr",
     "output_type": "stream",
     "text": [
      "Training Batches: 100%|██████████| 1/1 [00:00<00:00,  1.35it/s]\n",
      "Running inference: 100%|██████████| 1/1 [00:01<00:00,  1.29s/it]\n",
      "Running inference: 100%|██████████| 1/1 [00:00<00:00,  1.01it/s]\n"
     ]
    },
    {
     "name": "stdout",
     "output_type": "stream",
     "text": [
      "Epoch: 042, Average Loss: 0.4054\n",
      "Validation: {'precision': 0.6789264413451399, 'recall': 0.402474955801989, 'f1': 0.505364405237934, 'auc': 0.822031355367431, 'prauc': 0.6202672340845308}\n",
      "Test:       {'precision': 0.6726649528648444, 'recall': 0.4346622369854116, 'f1': 0.5280861035355378, 'auc': 0.8218686587418945, 'prauc': 0.6453818101841083}\n"
     ]
    },
    {
     "name": "stderr",
     "output_type": "stream",
     "text": [
      "Training Batches: 100%|██████████| 1/1 [00:00<00:00,  2.17it/s]\n",
      "Running inference: 100%|██████████| 1/1 [00:00<00:00,  1.01it/s]\n",
      "Running inference: 100%|██████████| 1/1 [00:00<00:00,  1.01it/s]\n"
     ]
    },
    {
     "name": "stdout",
     "output_type": "stream",
     "text": [
      "Epoch: 043, Average Loss: 0.4142\n",
      "Validation: {'precision': 0.6919431279555267, 'recall': 0.43017088980300433, 'f1': 0.5305232510822073, 'auc': 0.8276094780181703, 'prauc': 0.6332823194003513}\n",
      "Test:       {'precision': 0.6780082987495601, 'recall': 0.45238095237844755, 'f1': 0.5426768467399367, 'auc': 0.8243208991125378, 'prauc': 0.6527543209718577}\n"
     ]
    },
    {
     "name": "stderr",
     "output_type": "stream",
     "text": [
      "Training Batches: 100%|██████████| 1/1 [00:00<00:00,  1.33it/s]\n",
      "Running inference: 100%|██████████| 1/1 [00:00<00:00,  1.03it/s]\n",
      "Running inference: 100%|██████████| 1/1 [00:01<00:00,  1.30s/it]\n"
     ]
    },
    {
     "name": "stdout",
     "output_type": "stream",
     "text": [
      "Epoch: 044, Average Loss: 0.4011\n",
      "Validation: {'precision': 0.6930604982144746, 'recall': 0.4590453741870416, 'f1': 0.5522864184565375, 'auc': 0.8317770702841921, 'prauc': 0.643282176230565}\n",
      "Test:       {'precision': 0.6791401273831279, 'recall': 0.4723145071956129, 'f1': 0.5571521832700246, 'auc': 0.8259014588494357, 'prauc': 0.6574014428679718}\n"
     ]
    },
    {
     "name": "stderr",
     "output_type": "stream",
     "text": [
      "Training Batches: 100%|██████████| 1/1 [00:00<00:00,  2.19it/s]\n",
      "Running inference: 100%|██████████| 1/1 [00:01<00:00,  1.28s/it]\n",
      "Running inference: 100%|██████████| 1/1 [00:00<00:00,  1.03it/s]\n"
     ]
    },
    {
     "name": "stdout",
     "output_type": "stream",
     "text": [
      "Epoch: 045, Average Loss: 0.4005\n",
      "Validation: {'precision': 0.6879668049735439, 'recall': 0.48850913376258986, 'f1': 0.5713301123003577, 'auc': 0.8322240405627764, 'prauc': 0.6463947186428527}\n",
      "Test:       {'precision': 0.6781695423805089, 'recall': 0.5005537098532639, 'f1': 0.5759796064510515, 'auc': 0.8241548969469388, 'prauc': 0.6578167706058373}\n"
     ]
    },
    {
     "name": "stderr",
     "output_type": "stream",
     "text": [
      "Training Batches: 100%|██████████| 1/1 [00:00<00:00,  2.21it/s]\n",
      "Running inference: 100%|██████████| 1/1 [00:01<00:00,  1.27s/it]\n",
      "Running inference: 100%|██████████| 1/1 [00:00<00:00,  1.04it/s]\n"
     ]
    },
    {
     "name": "stdout",
     "output_type": "stream",
     "text": [
      "Epoch: 046, Average Loss: 0.4018\n",
      "Validation: {'precision': 0.6803571428510683, 'recall': 0.4490276959313552, 'f1': 0.5410010601686577, 'auc': 0.8198870093881642, 'prauc': 0.6287467112515035}\n",
      "Test:       {'precision': 0.6815920397953434, 'recall': 0.4551495016586094, 'f1': 0.5458167282625146, 'auc': 0.8094479175437638, 'prauc': 0.6395060741464323}\n"
     ]
    },
    {
     "name": "stderr",
     "output_type": "stream",
     "text": [
      "Training Batches: 100%|██████████| 1/1 [00:00<00:00,  1.33it/s]\n",
      "Running inference: 100%|██████████| 1/1 [00:00<00:00,  1.03it/s]\n",
      "Running inference: 100%|██████████| 1/1 [00:01<00:00,  1.30s/it]\n"
     ]
    },
    {
     "name": "stdout",
     "output_type": "stream",
     "text": [
      "Epoch: 047, Average Loss: 0.3971\n",
      "Validation: {'precision': 0.6589085072178258, 'recall': 0.48379493223050213, 'f1': 0.5579340759834893, 'auc': 0.8166468900308766, 'prauc': 0.6225915308185027}\n",
      "Test:       {'precision': 0.6552238805921252, 'recall': 0.4861572535964222, 'f1': 0.5581690987298052, 'auc': 0.8042206035215849, 'prauc': 0.6326176414822587}\n"
     ]
    },
    {
     "name": "stderr",
     "output_type": "stream",
     "text": [
      "Training Batches: 100%|██████████| 1/1 [00:00<00:00,  2.19it/s]\n",
      "Running inference: 100%|██████████| 1/1 [00:00<00:00,  1.03it/s]\n",
      "Running inference: 100%|██████████| 1/1 [00:01<00:00,  1.30s/it]\n"
     ]
    },
    {
     "name": "stdout",
     "output_type": "stream",
     "text": [
      "Epoch: 048, Average Loss: 0.4128\n",
      "Validation: {'precision': 0.6422351233625383, 'recall': 0.5215085444872039, 'f1': 0.575609751147627, 'auc': 0.8184653015529247, 'prauc': 0.6218350414099858}\n",
      "Test:       {'precision': 0.6369127516735779, 'recall': 0.5254706533747205, 'f1': 0.5758495096055716, 'auc': 0.8051043480872759, 'prauc': 0.6322297492773681}\n"
     ]
    },
    {
     "name": "stderr",
     "output_type": "stream",
     "text": [
      "Training Batches: 100%|██████████| 1/1 [00:00<00:00,  6.30it/s]\n",
      "Running inference: 100%|██████████| 1/1 [00:01<00:00,  1.27s/it]\n",
      "Running inference: 100%|██████████| 1/1 [00:01<00:00,  1.30s/it]\n"
     ]
    },
    {
     "name": "stdout",
     "output_type": "stream",
     "text": [
      "Epoch: 049, Average Loss: 0.4051\n",
      "Validation: {'precision': 0.6182251340046563, 'recall': 0.6116676487883815, 'f1': 0.6149289049491059, 'auc': 0.833561757841237, 'prauc': 0.6443791393195654}\n",
      "Test:       {'precision': 0.6247896803105732, 'recall': 0.6168327796200619, 'f1': 0.6207857291845421, 'auc': 0.8219899135680827, 'prauc': 0.6542594349025799}\n"
     ]
    },
    {
     "name": "stderr",
     "output_type": "stream",
     "text": [
      "Training Batches: 100%|██████████| 1/1 [00:00<00:00,  6.33it/s]\n",
      "Running inference: 100%|██████████| 1/1 [00:01<00:00,  1.26s/it]\n",
      "Running inference:   0%|          | 0/1 [00:00<?, ?it/s]"
     ]
    }
   ],
   "source": [
    "final_metrics, final_long_seq_metrics = [], []\n",
    "\n",
    "for seed in seeds:\n",
    "    set_random_seed(seed)\n",
    "    print(f\"Training with seed: {seed}\")\n",
    "    \n",
    "    # Initialize model, optimizer, and loss function\n",
    "    model = SetGNN(args, tokenizer).to(device)\n",
    "    optimizer = torch.optim.AdamW(model.parameters(), lr=args[\"lr\"])\n",
    "    \n",
    "    best_test_metric, best_test_long_seq_metric = train_with_early_stopping(\n",
    "        model, \n",
    "        train_dataloader, \n",
    "        val_dataloader, \n",
    "        test_dataloader,\n",
    "        optimizer, \n",
    "        loss_fn, \n",
    "        device, \n",
    "        args,\n",
    "        val_long_seq_idx,\n",
    "        test_long_seq_idx,\n",
    "        task_type=task_type,\n",
    "        eval_metric = \"prauc\")\n",
    "    \n",
    "    final_metrics.append(best_test_metric)\n",
    "    final_long_seq_metrics.append(best_test_long_seq_metric)"
   ]
  },
  {
   "cell_type": "code",
   "execution_count": null,
   "id": "ee9abd8e-1f4b-47bf-bed3-337489bcc79d",
   "metadata": {},
   "outputs": [],
   "source": [
    "import numpy as np\n",
    "def topk_avg_performance_formatted(performances, long_seq_performances, k=5):\n",
    "    metrics = [\"f1\", \"auc\", \"prauc\"]\n",
    "    scores = {m: np.array([p[m] for p in performances]) for m in metrics}\n",
    "\n",
    "    # 计算排名（值越大排名越靠前）\n",
    "    ranks = {m: (-scores[m]).argsort().argsort() + 1 for m in metrics}\n",
    "    avg_ranks = np.mean(np.stack([ranks[m] for m in metrics], axis=1), axis=1)\n",
    "\n",
    "    # 选 top-k\n",
    "    topk_idx = np.argsort(avg_ranks)[:k]\n",
    "    final_avg = {m: np.mean([performances[i][m] for i in topk_idx]) for m in performances[0].keys()}\n",
    "    final_std = {m: np.std([performances[i][m] for i in topk_idx], ddof=0) for m in performances[0].keys()}\n",
    "    final_long_seq_avg = {m: np.mean([long_seq_performances[i][m] for i in topk_idx]) for m in long_seq_performances[0].keys()}\n",
    "    final_long_seq_std = {m: np.std([long_seq_performances[i][m] for i in topk_idx], ddof=0) for m in long_seq_performances[0].keys()}\n",
    "\n",
    "    # 打印结果（转百分比，均保留两位小数）\n",
    "    print(\"Final Metrics:\")\n",
    "    for m in performances[0].keys():\n",
    "        mean_val = final_avg[m] * 100\n",
    "        std_val = final_std[m] * 100\n",
    "        print(f\"{m}: {mean_val:.2f} ± {std_val:.2f}\")\n",
    "    print(\"\\nFinal Long Sequence Metrics:\")\n",
    "    for m in long_seq_performances[0].keys():\n",
    "        mean_val = final_long_seq_avg[m] * 100\n",
    "        std_val = final_long_seq_std[m] * 100\n",
    "        print(f\"{m}: {mean_val:.2f} ± {std_val:.2f}\")"
   ]
  },
  {
   "cell_type": "code",
   "execution_count": null,
   "id": "e6e4b92e-35fc-46b9-8f3d-4713b4c71cd6",
   "metadata": {},
   "outputs": [],
   "source": [
    "def print_per_class_performance(dfs, col_name=\"prauc\"):\n",
    "    \"\"\"\n",
    "    输入一个 DataFrame 列表，对每个疾病在所有表格的指定列计算 mean ± std 并打印。\n",
    "\n",
    "    参数:\n",
    "        dfs (list[pd.DataFrame]): 多个表格组成的列表\n",
    "        col_name (str): 要计算的指标列名 (默认: \"prauc\")\n",
    "    \"\"\"\n",
    "    # 拼接所有表格\n",
    "    all_values = pd.concat(dfs, axis=0)\n",
    "\n",
    "    # 按疾病分组，计算 mean 和 std\n",
    "    grouped = all_values.groupby(all_values.index)[col_name].agg([\"mean\", \"std\"])\n",
    "\n",
    "    # 打印\n",
    "    for disease, row in grouped.iterrows():\n",
    "        mean_val = row[\"mean\"] * 100\n",
    "        std_val = row[\"std\"] * 100\n",
    "        print(f\"{disease}: {mean_val:.2f} ± {std_val:.2f}\")"
   ]
  },
  {
   "cell_type": "code",
   "execution_count": null,
   "id": "2a55c99e-6f60-468f-a7a7-1b67f170d599",
   "metadata": {},
   "outputs": [],
   "source": [
    "if task_type == \"binary\":\n",
    "    topk_avg_performance_formatted(final_metrics, final_long_seq_metrics)\n",
    "else:\n",
    "    final_metrics_global = [metrics[\"global\"] for metrics in final_metrics]\n",
    "    final_metrics_per_class = [metrics[\"per_class\"] for metrics in final_metrics]\n",
    "    final_long_seq_metrics_global = [metrics[\"global\"] for metrics in final_long_seq_metrics]\n",
    "    final_long_seq_metrics_per_class = [metrics[\"per_class\"] for metrics in final_long_seq_metrics]\n",
    "    topk_avg_performance_formatted(final_metrics_global, final_long_seq_metrics_global)\n",
    "    print(\"\\nPer-class performance, all patients:\")\n",
    "    print_per_class_performance(final_metrics_per_class, col_name=\"prauc\")\n",
    "    print(\"\\nPer-class performance, long seq:\")\n",
    "    print_per_class_performance(final_long_seq_metrics_per_class, col_name=\"prauc\")"
   ]
  }
 ],
 "metadata": {
  "kernelspec": {
   "display_name": "heart-cuda",
   "language": "python",
   "name": "heart-cuda"
  },
  "language_info": {
   "codemirror_mode": {
    "name": "ipython",
    "version": 3
   },
   "file_extension": ".py",
   "mimetype": "text/x-python",
   "name": "python",
   "nbconvert_exporter": "python",
   "pygments_lexer": "ipython3",
   "version": "3.10.18"
  }
 },
 "nbformat": 4,
 "nbformat_minor": 5
}
