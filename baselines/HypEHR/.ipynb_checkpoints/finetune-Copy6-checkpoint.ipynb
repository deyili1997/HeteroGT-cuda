{
 "cells": [
  {
   "cell_type": "code",
   "execution_count": 1,
   "id": "105bbf2f",
   "metadata": {},
   "outputs": [
    {
     "name": "stderr",
     "output_type": "stream",
     "text": [
      "Disabling PyTorch because PyTorch >= 2.1 is required but found 1.13.1\n",
      "None of PyTorch, TensorFlow >= 2.0, or Flax have been found. Models won't be available and only tokenizers, configuration and file/data utilities can be used.\n"
     ]
    }
   ],
   "source": [
    "import torch\n",
    "import random\n",
    "from model import SetGNN \n",
    "import pickle\n",
    "from tokenizer import EHRTokenizer\n",
    "from dataset import FinetuneHGDataset, batcher_SetGNN_finetune\n",
    "from torch.utils.data import DataLoader\n",
    "import torch.nn.functional as F\n",
    "from train import PHENO_ORDER, train_with_early_stopping\n",
    "from set_seed import set_random_seed"
   ]
  },
  {
   "cell_type": "code",
   "execution_count": 2,
   "id": "eb757cdd",
   "metadata": {},
   "outputs": [
    {
     "name": "stdout",
     "output_type": "stream",
     "text": [
      "cuda\n"
     ]
    }
   ],
   "source": [
    "device = torch.device(\"cuda\" if torch.cuda.is_available() else \"cpu\")\n",
    "print(device)"
   ]
  },
  {
   "cell_type": "code",
   "execution_count": 3,
   "id": "89793d45",
   "metadata": {},
   "outputs": [],
   "source": [
    "args = {\n",
    "    \"dataset\": \"MIMIC-IV\", \n",
    "    \"task\": \"readmission\",  # options: death, stay, readmission, next_diag_6m, next_diag_12m\n",
    "    \"special_tokens\":[\"[PAD]\", \"[CLS]\"],\n",
    "    \"predicted_token_type\": [\"diag\", \"med\", \"lab\", \"pro\"],\n",
    "    \"batch_size\": 256,\n",
    "    \"lr\": 1e-3,\n",
    "    \"epochs\": 500,\n",
    "    \"model_name\": \"HG\",\n",
    "    \"early_stop_patience\": 10,\n",
    "    # model hyperparameters\n",
    "    \"level\": \"visit\",  # \"visit\" or \"patient\"\n",
    "    \"hg_all_num_layers\": 3,\n",
    "    \"hg_use_type_embed\": True,\n",
    "    \"MLP_num_layers\": 2,\n",
    "    \"hg_aggregate\": \"mean\",\n",
    "    \"hg_dropout\": 0.0,\n",
    "    \"normtype\": \"all_one\",\n",
    "    \"add_self_loop\": True,\n",
    "    \"hg_normalization\": \"ln\",\n",
    "    \"hg_hidden_size\": 128,\n",
    "    \"PMA\": True,\n",
    "    \"hg_num_heads\": 4,\n",
    "}"
   ]
  },
  {
   "cell_type": "code",
   "execution_count": 4,
   "id": "c32fba6c",
   "metadata": {},
   "outputs": [],
   "source": [
    "full_data_path = f\"/home/lideyi/HeteroGT-cuda/data_process/{args['dataset']}-processed/mimic.pkl\"\n",
    "\n",
    "if args[\"task\"] == \"next_diag_6m\":\n",
    "    finetune_data_path = f\"/home/lideyi/HeteroGT-cuda/data_process/{args['dataset']}-processed/mimic_nextdiag_6m.pkl\"\n",
    "elif args[\"task\"] == \"next_diag_12m\":\n",
    "    finetune_data_path = f\"/home/lideyi/HeteroGT-cuda/data_process/{args['dataset']}-processed/mimic_nextdiag_12m.pkl\"\n",
    "else:\n",
    "    finetune_data_path = f\"/home/lideyi/HeteroGT-cuda/data_process/{args['dataset']}-processed/mimic_downstream.pkl\""
   ]
  },
  {
   "cell_type": "code",
   "execution_count": 5,
   "id": "9ab08e48",
   "metadata": {},
   "outputs": [
    {
     "name": "stdout",
     "output_type": "stream",
     "text": [
      "Max admissions per patient: 8\n"
     ]
    }
   ],
   "source": [
    "ehr_full_data = pickle.load(open(full_data_path, 'rb'))\n",
    "diag_sentences = ehr_full_data[\"ICD9_CODE\"].values.tolist()\n",
    "med_sentences = ehr_full_data[\"NDC\"].values.tolist()\n",
    "lab_sentences = ehr_full_data[\"LAB_TEST\"].values.tolist()\n",
    "pro_sentences = ehr_full_data[\"PRO_CODE\"].values.tolist()\n",
    "age_gender_sentences = [\"[PAD]\"] + [str(c) + \"_\" + gender \\\n",
    "    for c in set(ehr_full_data[\"AGE\"].values.tolist()) for gender in [\"M\", \"F\"]] # PAD token special for age_gender vocabulary\n",
    "max_admissions = ehr_full_data.groupby(\"SUBJECT_ID\")[\"HADM_ID\"].nunique().max()\n",
    "args[\"max_adm_len\"] = max_admissions\n",
    "print(f\"Max admissions per patient: {max_admissions}\")"
   ]
  },
  {
   "cell_type": "code",
   "execution_count": 6,
   "id": "42864fb3",
   "metadata": {},
   "outputs": [
    {
     "name": "stdout",
     "output_type": "stream",
     "text": [
      "Age and gender vocabulary size: 41\n",
      "Global vocabulary size: 4207\n",
      "Label vocabulary size: 18\n"
     ]
    }
   ],
   "source": [
    "tokenizer = EHRTokenizer(age_gender_sentences, diag_sentences, med_sentences, lab_sentences, \n",
    "                         pro_sentences, special_tokens=args[\"special_tokens\"])\n",
    "args[\"age_gender_vocab_size\"] = tokenizer.token_number(\"age_gender\")\n",
    "args[\"global_vocab_size\"] = len(tokenizer.vocab.id2word)\n",
    "args[\"label_vocab_size\"] = len(PHENO_ORDER)\n",
    "print(f\"Age and gender vocabulary size: {args['age_gender_vocab_size']}\")\n",
    "print(f\"Global vocabulary size: {args['global_vocab_size']}\")\n",
    "print(f\"Label vocabulary size: {args['label_vocab_size']}\")"
   ]
  },
  {
   "cell_type": "code",
   "execution_count": 7,
   "id": "f7ff21ce",
   "metadata": {},
   "outputs": [
    {
     "name": "stdout",
     "output_type": "stream",
     "text": [
      "7621 15401 15621\n"
     ]
    }
   ],
   "source": [
    "train_data, val_data, test_data = pickle.load(open(finetune_data_path, 'rb'))\n",
    "\n",
    "# output: input_ids (a patient has multiple visits), labels\n",
    "train_dataset = FinetuneHGDataset(train_data, tokenizer, token_type=args[\"predicted_token_type\"], task=args[\"task\"], level=args[\"level\"])\n",
    "val_dataset = FinetuneHGDataset(val_data, tokenizer, token_type=args[\"predicted_token_type\"], task=args[\"task\"], level=args[\"level\"])\n",
    "test_dataset = FinetuneHGDataset(test_data, tokenizer, token_type=args[\"predicted_token_type\"], task=args[\"task\"], level=args[\"level\"])\n",
    "print(len(train_dataset), len(val_dataset), len(test_dataset))"
   ]
  },
  {
   "cell_type": "code",
   "execution_count": 8,
   "id": "42afdd7b",
   "metadata": {},
   "outputs": [
    {
     "name": "stdout",
     "output_type": "stream",
     "text": [
      "3379 3608\n"
     ]
    }
   ],
   "source": [
    "long_adm_seq_crite = 3\n",
    "val_long_seq_idx, test_long_seq_idx = [], []\n",
    "for i in range(len(val_dataset)):\n",
    "    hadm_id = list(val_dataset.records.keys())[i]\n",
    "    num_adms = len(val_dataset.records[hadm_id])\n",
    "    if num_adms >= long_adm_seq_crite:\n",
    "        val_long_seq_idx.append(i)\n",
    "for i in range(len(test_dataset)):\n",
    "    hadm_id = list(test_dataset.records.keys())[i]\n",
    "    num_adms = len(test_dataset.records[hadm_id])\n",
    "    if num_adms >= long_adm_seq_crite:\n",
    "        test_long_seq_idx.append(i)\n",
    "print(len(val_long_seq_idx), len(test_long_seq_idx))"
   ]
  },
  {
   "cell_type": "code",
   "execution_count": 9,
   "id": "d0769b44",
   "metadata": {},
   "outputs": [],
   "source": [
    "use_full_graph = True\n",
    "train_batch_size = len(train_dataset) if use_full_graph else args[\"batch_size\"]\n",
    "val_batch_size = len(val_dataset) if use_full_graph else args[\"batch_size\"]\n",
    "test_batch_size = len(test_dataset) if use_full_graph else args[\"batch_size\"]\n",
    "train_dataloader = DataLoader(train_dataset, collate_fn=batcher_SetGNN_finetune(device = device), batch_size = train_batch_size, shuffle = True)\n",
    "val_dataloader = DataLoader(val_dataset, collate_fn=batcher_SetGNN_finetune(device = device), batch_size = val_batch_size, shuffle = False)\n",
    "test_dataloader = DataLoader(test_dataset, collate_fn=batcher_SetGNN_finetune(device = device), batch_size = test_batch_size, shuffle = False)"
   ]
  },
  {
   "cell_type": "code",
   "execution_count": 10,
   "id": "92a62432",
   "metadata": {},
   "outputs": [],
   "source": [
    "if args[\"task\"] in [\"death\", \"stay\", \"readmission\"]:\n",
    "    eval_metric = \"prauc\"\n",
    "    task_type = \"binary\"\n",
    "    loss_fn = F.binary_cross_entropy_with_logits\n",
    "else:\n",
    "    eval_metric = \"prauc\"\n",
    "    task_type = \"l2r\"\n",
    "    loss_fn = lambda x, y: F.binary_cross_entropy_with_logits(x, y)"
   ]
  },
  {
   "cell_type": "code",
   "execution_count": 11,
   "id": "33afa400",
   "metadata": {},
   "outputs": [
    {
     "name": "stdout",
     "output_type": "stream",
     "text": [
      "[2746317213, 1181241943, 958682846, 3163119785, 1812140441]\n"
     ]
    }
   ],
   "source": [
    "random.seed(42)\n",
    "seeds = [random.randint(0, 2**32 - 1) for _ in range(15)]\n",
    "print(seeds)"
   ]
  },
  {
   "cell_type": "code",
   "execution_count": null,
   "id": "71af0347",
   "metadata": {},
   "outputs": [
    {
     "name": "stdout",
     "output_type": "stream",
     "text": [
      "[INFO] Random seed set to 2746317213\n",
      "Training with seed: 2746317213\n"
     ]
    },
    {
     "name": "stderr",
     "output_type": "stream",
     "text": [
      "Training Batches: 100%|██████████| 1/1 [00:02<00:00,  2.44s/it]\n",
      "Running inference: 100%|██████████| 1/1 [00:04<00:00,  4.42s/it]\n",
      "Running inference: 100%|██████████| 1/1 [00:04<00:00,  4.55s/it]\n"
     ]
    },
    {
     "name": "stdout",
     "output_type": "stream",
     "text": [
      "Epoch: 001, Average Loss: 0.6828\n",
      "Validation: {'precision': 0.7026674492919176, 'recall': 0.9952886836018519, 'f1': 0.8237632798026612, 'auc': 0.5959258567644826, 'prauc': 0.7567731495129011}\n",
      "Test:       {'precision': 0.7080306050275136, 'recall': 0.9958401157524002, 'f1': 0.8276276679089405, 'auc': 0.5833040612629354, 'prauc': 0.7496990153313221}\n"
     ]
    },
    {
     "name": "stderr",
     "output_type": "stream",
     "text": [
      "Training Batches: 100%|██████████| 1/1 [00:01<00:00,  1.73s/it]\n",
      "Running inference: 100%|██████████| 1/1 [00:04<00:00,  4.02s/it]\n",
      "Running inference: 100%|██████████| 1/1 [00:04<00:00,  4.05s/it]\n"
     ]
    },
    {
     "name": "stdout",
     "output_type": "stream",
     "text": [
      "Epoch: 002, Average Loss: 0.6735\n",
      "Validation: {'precision': 0.7124366525128664, 'recall': 0.9610161662808674, 'f1': 0.8182640451352446, 'auc': 0.6422497839919896, 'prauc': 0.7941820306237667}\n",
      "Test:       {'precision': 0.7120257407154363, 'recall': 0.9605715319217213, 'f1': 0.8178318398895749, 'auc': 0.6488314141596833, 'prauc': 0.8028557685203314}\n"
     ]
    },
    {
     "name": "stderr",
     "output_type": "stream",
     "text": [
      "Training Batches: 100%|██████████| 1/1 [00:02<00:00,  2.60s/it]\n",
      "Running inference: 100%|██████████| 1/1 [00:03<00:00,  3.97s/it]\n",
      "Running inference: 100%|██████████| 1/1 [00:04<00:00,  4.06s/it]\n"
     ]
    },
    {
     "name": "stdout",
     "output_type": "stream",
     "text": [
      "Epoch: 003, Average Loss: 0.6645\n",
      "Validation: {'precision': 0.7378663179749727, 'recall': 0.8861893764425993, 'f1': 0.8052547587445459, 'auc': 0.6521839822994557, 'prauc': 0.80181320691379}\n",
      "Test:       {'precision': 0.7397464578667116, 'recall': 0.8970880810264992, 'f1': 0.8108549893237788, 'auc': 0.6626931862507917, 'prauc': 0.8124619818215596}\n"
     ]
    },
    {
     "name": "stderr",
     "output_type": "stream",
     "text": [
      "Training Batches: 100%|██████████| 1/1 [00:02<00:00,  2.15s/it]\n",
      "Running inference: 100%|██████████| 1/1 [00:04<00:00,  4.53s/it]\n",
      "Running inference: 100%|██████████| 1/1 [00:03<00:00,  3.60s/it]\n"
     ]
    },
    {
     "name": "stdout",
     "output_type": "stream",
     "text": [
      "Epoch: 004, Average Loss: 0.6581\n",
      "Validation: {'precision': 0.7510587063017926, 'recall': 0.8355658198606599, 'f1': 0.7910617406842988, 'auc': 0.6557822114375231, 'prauc': 0.8042251160579996}\n",
      "Test:       {'precision': 0.7581145000809345, 'recall': 0.840658346897413, 'f1': 0.7972555696267095, 'auc': 0.6682928025151547, 'prauc': 0.8159734832780013}\n"
     ]
    },
    {
     "name": "stderr",
     "output_type": "stream",
     "text": [
      "Training Batches: 100%|██████████| 1/1 [00:02<00:00,  2.16s/it]\n",
      "Running inference: 100%|██████████| 1/1 [00:03<00:00,  3.87s/it]\n",
      "Running inference: 100%|██████████| 1/1 [00:04<00:00,  4.40s/it]\n"
     ]
    },
    {
     "name": "stdout",
     "output_type": "stream",
     "text": [
      "Epoch: 005, Average Loss: 0.6496\n",
      "Validation: {'precision': 0.758227520082268, 'recall': 0.8109006928398975, 'f1': 0.7836800235738124, 'auc': 0.6578838179718665, 'prauc': 0.8054675052166909}\n",
      "Test:       {'precision': 0.7660699062227058, 'recall': 0.8126243443653349, 'f1': 0.7886606936169611, 'auc': 0.671264205030222, 'prauc': 0.8177192836203284}\n"
     ]
    },
    {
     "name": "stderr",
     "output_type": "stream",
     "text": [
      "Training Batches: 100%|██████████| 1/1 [00:02<00:00,  2.60s/it]\n",
      "Running inference: 100%|██████████| 1/1 [00:03<00:00,  3.94s/it]\n",
      "Running inference: 100%|██████████| 1/1 [00:04<00:00,  4.01s/it]\n"
     ]
    },
    {
     "name": "stdout",
     "output_type": "stream",
     "text": [
      "Epoch: 006, Average Loss: 0.6423\n",
      "Validation: {'precision': 0.7624966705133955, 'recall': 0.7933487297914149, 'f1': 0.7776168005065138, 'auc': 0.6592742534601657, 'prauc': 0.806193258377895}\n",
      "Test:       {'precision': 0.771348166387502, 'recall': 0.7931814071253452, 'f1': 0.782112438711543, 'auc': 0.6730323213203689, 'prauc': 0.8186691935860961}\n"
     ]
    },
    {
     "name": "stderr",
     "output_type": "stream",
     "text": [
      "Training Batches: 100%|██████████| 1/1 [00:02<00:00,  2.16s/it]\n",
      "Running inference: 100%|██████████| 1/1 [00:03<00:00,  3.88s/it]\n",
      "Running inference: 100%|██████████| 1/1 [00:04<00:00,  4.98s/it]\n"
     ]
    },
    {
     "name": "stdout",
     "output_type": "stream",
     "text": [
      "Epoch: 007, Average Loss: 0.6345\n",
      "Validation: {'precision': 0.7653246282183847, 'recall': 0.7796766743641758, 'f1': 0.7724339857561424, 'auc': 0.6603727753193689, 'prauc': 0.8067934889885358}\n",
      "Test:       {'precision': 0.7753909760913397, 'recall': 0.7801591607878637, 'f1': 0.7777677555474887, 'auc': 0.6740943405731863, 'prauc': 0.8193310257446085}\n"
     ]
    },
    {
     "name": "stderr",
     "output_type": "stream",
     "text": [
      "Training Batches: 100%|██████████| 1/1 [00:01<00:00,  1.22s/it]\n",
      "Running inference: 100%|██████████| 1/1 [00:04<00:00,  4.40s/it]\n",
      "Running inference: 100%|██████████| 1/1 [00:04<00:00,  4.41s/it]\n"
     ]
    },
    {
     "name": "stdout",
     "output_type": "stream",
     "text": [
      "Epoch: 008, Average Loss: 0.6278\n",
      "Validation: {'precision': 0.7676545920227152, 'recall': 0.7752424942256118, 'f1': 0.771429879634242, 'auc': 0.6612999947512073, 'prauc': 0.8071890379982171}\n",
      "Test:       {'precision': 0.7779898218822446, 'recall': 0.7741906312165181, 'f1': 0.7760855720095702, 'auc': 0.6749585702101806, 'prauc': 0.8198002340208024}\n"
     ]
    },
    {
     "name": "stderr",
     "output_type": "stream",
     "text": [
      "Training Batches: 100%|██████████| 1/1 [00:02<00:00,  2.14s/it]\n",
      "Running inference: 100%|██████████| 1/1 [00:04<00:00,  4.46s/it]\n",
      "Running inference: 100%|██████████| 1/1 [00:03<00:00,  3.54s/it]\n"
     ]
    },
    {
     "name": "stdout",
     "output_type": "stream",
     "text": [
      "Epoch: 009, Average Loss: 0.6204\n",
      "Validation: {'precision': 0.7685364281101883, 'recall': 0.7708083140870476, 'f1': 0.7696706895846713, 'auc': 0.6620818024354399, 'prauc': 0.8074988338117763}\n",
      "Test:       {'precision': 0.778722237454731, 'recall': 0.7704829083009852, 'f1': 0.7745806577568353, 'auc': 0.6756859821504979, 'prauc': 0.8201892542426887}\n"
     ]
    },
    {
     "name": "stderr",
     "output_type": "stream",
     "text": [
      "Training Batches: 100%|██████████| 1/1 [00:02<00:00,  2.16s/it]\n",
      "Running inference: 100%|██████████| 1/1 [00:04<00:00,  4.49s/it]\n",
      "Running inference: 100%|██████████| 1/1 [00:03<00:00,  3.53s/it]\n"
     ]
    },
    {
     "name": "stdout",
     "output_type": "stream",
     "text": [
      "Epoch: 010, Average Loss: 0.6144\n",
      "Validation: {'precision': 0.7689617083939903, 'recall': 0.7717321016159152, 'f1': 0.7703444092184952, 'auc': 0.6627411719343013, 'prauc': 0.8077699650738106}\n",
      "Test:       {'precision': 0.7795743125963464, 'recall': 0.7717489600282403, 'f1': 0.7756418945677022, 'auc': 0.6763261922561836, 'prauc': 0.8204369654507441}\n"
     ]
    },
    {
     "name": "stderr",
     "output_type": "stream",
     "text": [
      "Training Batches: 100%|██████████| 1/1 [00:02<00:00,  2.15s/it]\n",
      "Running inference: 100%|██████████| 1/1 [00:03<00:00,  3.93s/it]\n",
      "Running inference: 100%|██████████| 1/1 [00:03<00:00,  3.97s/it]\n"
     ]
    },
    {
     "name": "stdout",
     "output_type": "stream",
     "text": [
      "Epoch: 011, Average Loss: 0.6080\n",
      "Validation: {'precision': 0.7680629229917979, 'recall': 0.7757967667429322, 'f1': 0.7719104688263381, 'auc': 0.6634084953729873, 'prauc': 0.8080166181657005}\n",
      "Test:       {'precision': 0.7790275761966808, 'recall': 0.7766323024047959, 'f1': 0.7778280902805318, 'auc': 0.6769958230717583, 'prauc': 0.8207369168051675}\n"
     ]
    },
    {
     "name": "stderr",
     "output_type": "stream",
     "text": [
      "Training Batches: 100%|██████████| 1/1 [00:02<00:00,  2.63s/it]\n",
      "Running inference: 100%|██████████| 1/1 [00:03<00:00,  3.92s/it]\n",
      "Running inference: 100%|██████████| 1/1 [00:04<00:00,  4.05s/it]\n"
     ]
    },
    {
     "name": "stdout",
     "output_type": "stream",
     "text": [
      "Epoch: 012, Average Loss: 0.6024\n",
      "Validation: {'precision': 0.7672281776409627, 'recall': 0.7867898383364555, 'f1': 0.7768858838991077, 'auc': 0.6640446995268011, 'prauc': 0.8082124958100021}\n",
      "Test:       {'precision': 0.7782042127804549, 'recall': 0.7884789292812547, 'f1': 0.7833078738962861, 'auc': 0.6775728911217316, 'prauc': 0.8209799636815318}\n"
     ]
    },
    {
     "name": "stderr",
     "output_type": "stream",
     "text": [
      "Training Batches: 100%|██████████| 1/1 [00:01<00:00,  1.70s/it]\n",
      "Running inference: 100%|██████████| 1/1 [00:03<00:00,  3.93s/it]\n",
      "Running inference: 100%|██████████| 1/1 [00:04<00:00,  4.96s/it]\n"
     ]
    },
    {
     "name": "stdout",
     "output_type": "stream",
     "text": [
      "Epoch: 013, Average Loss: 0.5969\n",
      "Validation: {'precision': 0.764825094721328, 'recall': 0.8018475750569959, 'f1': 0.7828988855946719, 'auc': 0.6646538219286486, 'prauc': 0.8084227973447208}\n",
      "Test:       {'precision': 0.7760062728691618, 'recall': 0.8054801953329666, 'f1': 0.7904685786006092, 'auc': 0.6781309531354747, 'prauc': 0.82116988016983}\n"
     ]
    },
    {
     "name": "stderr",
     "output_type": "stream",
     "text": [
      "Training Batches: 100%|██████████| 1/1 [00:01<00:00,  1.22s/it]\n",
      "Running inference: 100%|██████████| 1/1 [00:04<00:00,  4.39s/it]\n",
      "Running inference: 100%|██████████| 1/1 [00:04<00:00,  4.50s/it]\n"
     ]
    },
    {
     "name": "stdout",
     "output_type": "stream",
     "text": [
      "Epoch: 014, Average Loss: 0.5930\n",
      "Validation: {'precision': 0.7607367243301826, 'recall': 0.8165357967659893, 'f1': 0.7876492553869495, 'auc': 0.6652451085288844, 'prauc': 0.8086223058510205}\n",
      "Test:       {'precision': 0.7714455580085174, 'recall': 0.8213962741898884, 'f1': 0.795637696475839, 'auc': 0.6786634194288937, 'prauc': 0.8213361094258311}\n"
     ]
    },
    {
     "name": "stderr",
     "output_type": "stream",
     "text": [
      "Training Batches: 100%|██████████| 1/1 [00:02<00:00,  2.14s/it]\n",
      "Running inference: 100%|██████████| 1/1 [00:04<00:00,  4.53s/it]\n",
      "Running inference: 100%|██████████| 1/1 [00:03<00:00,  3.59s/it]\n"
     ]
    },
    {
     "name": "stdout",
     "output_type": "stream",
     "text": [
      "Epoch: 015, Average Loss: 0.5896\n",
      "Validation: {'precision': 0.7568903409560551, 'recall': 0.8346420323317925, 'f1': 0.7938669662791383, 'auc': 0.6659019747573443, 'prauc': 0.8088268955098411}\n",
      "Test:       {'precision': 0.7674399405590956, 'recall': 0.840658346897413, 'f1': 0.8023822832147568, 'auc': 0.6792904204384927, 'prauc': 0.821539407152979}\n"
     ]
    },
    {
     "name": "stderr",
     "output_type": "stream",
     "text": [
      "Training Batches: 100%|██████████| 1/1 [00:02<00:00,  2.13s/it]\n",
      "Running inference: 100%|██████████| 1/1 [00:04<00:00,  4.34s/it]\n",
      "Running inference: 100%|██████████| 1/1 [00:03<00:00,  3.52s/it]\n"
     ]
    },
    {
     "name": "stdout",
     "output_type": "stream",
     "text": [
      "Epoch: 016, Average Loss: 0.5858\n",
      "Validation: {'precision': 0.7543485395464765, 'recall': 0.8493302540407858, 'f1': 0.7990266321349956, 'auc': 0.6666048890485957, 'prauc': 0.809094718349299}\n",
      "Test:       {'precision': 0.7639731456759977, 'recall': 0.854132754566057, 'f1': 0.8065411333095274, 'auc': 0.6799091273645025, 'prauc': 0.8218129258310184}\n"
     ]
    },
    {
     "name": "stderr",
     "output_type": "stream",
     "text": [
      "Training Batches: 100%|██████████| 1/1 [00:02<00:00,  2.17s/it]\n",
      "Running inference: 100%|██████████| 1/1 [00:03<00:00,  3.95s/it]\n",
      "Running inference: 100%|██████████| 1/1 [00:03<00:00,  3.92s/it]\n"
     ]
    },
    {
     "name": "stdout",
     "output_type": "stream",
     "text": [
      "Epoch: 017, Average Loss: 0.5841\n",
      "Validation: {'precision': 0.7497191462038599, 'recall': 0.8630946882209116, 'f1': 0.8024219471861697, 'auc': 0.6673478051971123, 'prauc': 0.8093269228749034}\n",
      "Test:       {'precision': 0.7590704292144818, 'recall': 0.8684210526307935, 'f1': 0.8100721195315688, 'auc': 0.6804954903373035, 'prauc': 0.8220292141278958}\n"
     ]
    },
    {
     "name": "stderr",
     "output_type": "stream",
     "text": [
      "Training Batches: 100%|██████████| 1/1 [00:02<00:00,  2.57s/it]\n",
      "Running inference: 100%|██████████| 1/1 [00:03<00:00,  3.98s/it]\n",
      "Running inference: 100%|██████████| 1/1 [00:04<00:00,  4.02s/it]\n"
     ]
    },
    {
     "name": "stdout",
     "output_type": "stream",
     "text": [
      "Epoch: 018, Average Loss: 0.5829\n",
      "Validation: {'precision': 0.7462534327181276, 'recall': 0.8786143187058857, 'f1': 0.807042846114377, 'auc': 0.668148104782054, 'prauc': 0.8096518551479817}\n",
      "Test:       {'precision': 0.7553784243919243, 'recall': 0.8827093506955301, 'f1': 0.8140950742622258, 'auc': 0.681033436473285, 'prauc': 0.822222812930898}\n"
     ]
    },
    {
     "name": "stderr",
     "output_type": "stream",
     "text": [
      "Training Batches: 100%|██████████| 1/1 [00:02<00:00,  2.18s/it]\n",
      "Running inference: 100%|██████████| 1/1 [00:04<00:00,  4.50s/it]\n",
      "Running inference: 100%|██████████| 1/1 [00:03<00:00,  3.55s/it]\n"
     ]
    },
    {
     "name": "stdout",
     "output_type": "stream",
     "text": [
      "Epoch: 019, Average Loss: 0.5817\n",
      "Validation: {'precision': 0.7443028196209005, 'recall': 0.8900692840638428, 'f1': 0.810685733364711, 'auc': 0.6690497868182625, 'prauc': 0.8100658741976774}\n",
      "Test:       {'precision': 0.7515996343687145, 'recall': 0.8922951709161762, 'f1': 0.8159265641255066, 'auc': 0.6817295944833265, 'prauc': 0.8225083354328462}\n"
     ]
    },
    {
     "name": "stderr",
     "output_type": "stream",
     "text": [
      "Training Batches: 100%|██████████| 1/1 [00:02<00:00,  2.15s/it]\n",
      "Running inference: 100%|██████████| 1/1 [00:03<00:00,  3.90s/it]\n",
      "Running inference: 100%|██████████| 1/1 [00:04<00:00,  4.98s/it]\n"
     ]
    },
    {
     "name": "stdout",
     "output_type": "stream",
     "text": [
      "Epoch: 020, Average Loss: 0.5808\n",
      "Validation: {'precision': 0.7410850350497248, 'recall': 0.8984757505765372, 'f1': 0.8122259752533394, 'auc': 0.6700343997803582, 'prauc': 0.8105197882672875}\n",
      "Test:       {'precision': 0.7496059446065078, 'recall': 0.9031470428640774, 'f1': 0.8192444887055784, 'auc': 0.6825361619071706, 'prauc': 0.8228781693306813}\n"
     ]
    },
    {
     "name": "stderr",
     "output_type": "stream",
     "text": [
      "Training Batches: 100%|██████████| 1/1 [00:01<00:00,  1.26s/it]\n",
      "Running inference: 100%|██████████| 1/1 [00:04<00:00,  4.40s/it]\n",
      "Running inference: 100%|██████████| 1/1 [00:04<00:00,  4.48s/it]\n"
     ]
    },
    {
     "name": "stdout",
     "output_type": "stream",
     "text": [
      "Epoch: 021, Average Loss: 0.5799\n",
      "Validation: {'precision': 0.7375206116019056, 'recall': 0.9090069284056267, 'f1': 0.8143335904522467, 'auc': 0.6710852282821105, 'prauc': 0.8109810448367746}\n",
      "Test:       {'precision': 0.7463569790659469, 'recall': 0.9124615662860259, 'f1': 0.8210928867775046, 'auc': 0.6832603830530845, 'prauc': 0.823117112145552}\n"
     ]
    },
    {
     "name": "stderr",
     "output_type": "stream",
     "text": [
      "Training Batches: 100%|██████████| 1/1 [00:02<00:00,  2.18s/it]\n",
      "Running inference: 100%|██████████| 1/1 [00:04<00:00,  4.38s/it]\n",
      "Running inference: 100%|██████████| 1/1 [00:03<00:00,  3.47s/it]\n"
     ]
    },
    {
     "name": "stdout",
     "output_type": "stream",
     "text": [
      "Epoch: 022, Average Loss: 0.5791\n",
      "Validation: {'precision': 0.735361781075521, 'recall': 0.9153810623548125, 'f1': 0.8155555506143476, 'auc': 0.6722657524346323, 'prauc': 0.8115145061942903}\n",
      "Test:       {'precision': 0.7437568656164454, 'recall': 0.9184300958573716, 'f1': 0.8219155860390527, 'auc': 0.6842182753879125, 'prauc': 0.8234436092118678}\n"
     ]
    },
    {
     "name": "stderr",
     "output_type": "stream",
     "text": [
      "Training Batches: 100%|██████████| 1/1 [00:02<00:00,  2.14s/it]\n",
      "Running inference: 100%|██████████| 1/1 [00:04<00:00,  4.47s/it]\n",
      "Running inference: 100%|██████████| 1/1 [00:03<00:00,  3.54s/it]\n"
     ]
    },
    {
     "name": "stdout",
     "output_type": "stream",
     "text": [
      "Epoch: 023, Average Loss: 0.5778\n",
      "Validation: {'precision': 0.7343508073429665, 'recall': 0.9200923787520368, 'f1': 0.8167951402157052, 'auc': 0.6735191035869443, 'prauc': 0.8120762255275228}\n",
      "Test:       {'precision': 0.7429797759342769, 'recall': 0.9235847350326246, 'f1': 0.823496205346719, 'auc': 0.6854319564678929, 'prauc': 0.8238532984783558}\n"
     ]
    },
    {
     "name": "stderr",
     "output_type": "stream",
     "text": [
      "Training Batches: 100%|██████████| 1/1 [00:02<00:00,  2.15s/it]\n",
      "Running inference: 100%|██████████| 1/1 [00:03<00:00,  3.90s/it]\n",
      "Running inference: 100%|██████████| 1/1 [00:04<00:00,  4.02s/it]\n"
     ]
    },
    {
     "name": "stdout",
     "output_type": "stream",
     "text": [
      "Epoch: 024, Average Loss: 0.5760\n",
      "Validation: {'precision': 0.7318729463302432, 'recall': 0.9259122401839021, 'f1': 0.8175366997986655, 'auc': 0.6745273764918684, 'prauc': 0.8124703391821624}\n",
      "Test:       {'precision': 0.7409595159193625, 'recall': 0.9301862904675979, 'f1': 0.8248596582551058, 'auc': 0.6865659667807782, 'prauc': 0.8243216238392823}\n"
     ]
    },
    {
     "name": "stderr",
     "output_type": "stream",
     "text": [
      "Training Batches: 100%|██████████| 1/1 [00:02<00:00,  2.59s/it]\n",
      "Running inference: 100%|██████████| 1/1 [00:04<00:00,  4.00s/it]\n",
      "Running inference: 100%|██████████| 1/1 [00:04<00:00,  4.00s/it]\n"
     ]
    },
    {
     "name": "stdout",
     "output_type": "stream",
     "text": [
      "Epoch: 025, Average Loss: 0.5768\n",
      "Validation: {'precision': 0.7271686229596857, 'recall': 0.9385681293293869, 'f1': 0.8194539612854598, 'auc': 0.6748288691677837, 'prauc': 0.8125207337192457}\n",
      "Test:       {'precision': 0.734225352112159, 'recall': 0.9428468077401493, 'f1': 0.825560213621338, 'auc': 0.6850656493066444, 'prauc': 0.8230666234584532}\n"
     ]
    },
    {
     "name": "stderr",
     "output_type": "stream",
     "text": [
      "Training Batches: 100%|██████████| 1/1 [00:02<00:00,  2.17s/it]\n",
      "Running inference: 100%|██████████| 1/1 [00:04<00:00,  4.51s/it]\n",
      "Running inference: 100%|██████████| 1/1 [00:03<00:00,  3.47s/it]\n"
     ]
    },
    {
     "name": "stdout",
     "output_type": "stream",
     "text": [
      "Epoch: 026, Average Loss: 0.5743\n",
      "Validation: {'precision': 0.7296517915069355, 'recall': 0.9349653579668037, 'f1': 0.819646901457, 'auc': 0.6754366389961077, 'prauc': 0.8126432439454194}\n",
      "Test:       {'precision': 0.7366404087710335, 'recall': 0.9386869234934538, 'f1': 0.8254801334473502, 'auc': 0.6848597142467227, 'prauc': 0.8228156372748583}\n"
     ]
    },
    {
     "name": "stderr",
     "output_type": "stream",
     "text": [
      "Training Batches: 100%|██████████| 1/1 [00:02<00:00,  2.16s/it]\n",
      "Running inference: 100%|██████████| 1/1 [00:03<00:00,  3.88s/it]\n",
      "Running inference: 100%|██████████| 1/1 [00:04<00:00,  4.96s/it]\n"
     ]
    },
    {
     "name": "stdout",
     "output_type": "stream",
     "text": [
      "Epoch: 027, Average Loss: 0.5756\n",
      "Validation: {'precision': 0.7407240498717584, 'recall': 0.9110392609691352, 'f1': 0.8171009520101029, 'auc': 0.6767632612768294, 'prauc': 0.8134462882410382}\n",
      "Test:       {'precision': 0.7499443496321511, 'recall': 0.9139989148119786, 'f1': 0.8238842420420223, 'auc': 0.6875955330780935, 'prauc': 0.8247034589561127}\n"
     ]
    },
    {
     "name": "stderr",
     "output_type": "stream",
     "text": [
      "Training Batches: 100%|██████████| 1/1 [00:01<00:00,  1.23s/it]\n",
      "Running inference: 100%|██████████| 1/1 [00:04<00:00,  4.36s/it]\n",
      "Running inference: 100%|██████████| 1/1 [00:04<00:00,  4.46s/it]\n"
     ]
    },
    {
     "name": "stdout",
     "output_type": "stream",
     "text": [
      "Epoch: 028, Average Loss: 0.5742\n",
      "Validation: {'precision': 0.7478900503284955, 'recall': 0.8922863741331248, 'f1': 0.8137320927634252, 'auc': 0.6776172600494195, 'prauc': 0.8140141377648287}\n",
      "Test:       {'precision': 0.7568976088283592, 'recall': 0.8931090613122687, 'f1': 0.8193810619876797, 'auc': 0.6890289528720459, 'prauc': 0.8256254789643754}\n"
     ]
    },
    {
     "name": "stderr",
     "output_type": "stream",
     "text": [
      "Training Batches: 100%|██████████| 1/1 [00:02<00:00,  2.20s/it]\n",
      "Running inference: 100%|██████████| 1/1 [00:04<00:00,  4.52s/it]\n",
      "Running inference: 100%|██████████| 1/1 [00:03<00:00,  3.40s/it]\n"
     ]
    },
    {
     "name": "stdout",
     "output_type": "stream",
     "text": [
      "Epoch: 029, Average Loss: 0.5727\n",
      "Validation: {'precision': 0.7500194992584431, 'recall': 0.8883140877589946, 'f1': 0.8133299451322069, 'auc': 0.6782557756908218, 'prauc': 0.8145202479844611}\n",
      "Test:       {'precision': 0.7581043531948455, 'recall': 0.8882257189357132, 'f1': 0.8180228150522072, 'auc': 0.6891733809106543, 'prauc': 0.8258734182698902}\n"
     ]
    },
    {
     "name": "stderr",
     "output_type": "stream",
     "text": [
      "Training Batches: 100%|██████████| 1/1 [00:02<00:00,  2.12s/it]\n",
      "Running inference: 100%|██████████| 1/1 [00:04<00:00,  4.45s/it]\n",
      "Running inference: 100%|██████████| 1/1 [00:03<00:00,  3.57s/it]\n"
     ]
    },
    {
     "name": "stdout",
     "output_type": "stream",
     "text": [
      "Epoch: 030, Average Loss: 0.5708\n",
      "Validation: {'precision': 0.7500586900377572, 'recall': 0.8854503464195053, 'f1': 0.812150478002565, 'auc': 0.6788612845007186, 'prauc': 0.8150258743532702}\n",
      "Test:       {'precision': 0.7591817759175893, 'recall': 0.886055344546133, 'f1': 0.8177265849138788, 'auc': 0.6897091271821714, 'prauc': 0.8262951516694559}\n"
     ]
    },
    {
     "name": "stderr",
     "output_type": "stream",
     "text": [
      "Training Batches: 100%|██████████| 1/1 [00:02<00:00,  2.15s/it]\n",
      "Running inference: 100%|██████████| 1/1 [00:03<00:00,  3.94s/it]\n",
      "Running inference: 100%|██████████| 1/1 [00:03<00:00,  3.93s/it]\n"
     ]
    },
    {
     "name": "stdout",
     "output_type": "stream",
     "text": [
      "Epoch: 031, Average Loss: 0.5699\n",
      "Validation: {'precision': 0.749436543094156, 'recall': 0.8908083140869368, 'f1': 0.8140300473747979, 'auc': 0.6794236825530129, 'prauc': 0.8154780615585977}\n",
      "Test:       {'precision': 0.7579441409550219, 'recall': 0.890848254656456, 'f1': 0.8190396957177344, 'auc': 0.6898989893584826, 'prauc': 0.826506830639184}\n"
     ]
    },
    {
     "name": "stderr",
     "output_type": "stream",
     "text": [
      "Training Batches: 100%|██████████| 1/1 [00:02<00:00,  2.56s/it]\n",
      "Running inference: 100%|██████████| 1/1 [00:03<00:00,  3.99s/it]\n",
      "Running inference: 100%|██████████| 1/1 [00:03<00:00,  3.98s/it]\n"
     ]
    },
    {
     "name": "stdout",
     "output_type": "stream",
     "text": [
      "Epoch: 032, Average Loss: 0.5703\n",
      "Validation: {'precision': 0.7495147138747189, 'recall': 0.8917321016158043, 'f1': 0.8144616892656777, 'auc': 0.6801538905667082, 'prauc': 0.8158335049177312}\n",
      "Test:       {'precision': 0.7584801169135, 'recall': 0.8917525773187811, 'f1': 0.8197348136029422, 'auc': 0.6906095653991365, 'prauc': 0.826783572709985}\n"
     ]
    },
    {
     "name": "stderr",
     "output_type": "stream",
     "text": [
      "Training Batches: 100%|██████████| 1/1 [00:02<00:00,  2.16s/it]\n",
      "Running inference: 100%|██████████| 1/1 [00:04<00:00,  4.43s/it]\n",
      "Running inference: 100%|██████████| 1/1 [00:03<00:00,  3.43s/it]\n"
     ]
    },
    {
     "name": "stdout",
     "output_type": "stream",
     "text": [
      "Epoch: 033, Average Loss: 0.5692\n",
      "Validation: {'precision': 0.7504289502411866, 'recall': 0.8888683602763151, 'f1': 0.8138030144454671, 'auc': 0.681018063922221, 'prauc': 0.816100184343597}\n",
      "Test:       {'precision': 0.7596875241698818, 'recall': 0.8882257189357132, 'f1': 0.8189435894767296, 'auc': 0.6915646831301352, 'prauc': 0.8270610668451759}\n"
     ]
    },
    {
     "name": "stderr",
     "output_type": "stream",
     "text": [
      "Training Batches: 100%|██████████| 1/1 [00:02<00:00,  2.14s/it]\n",
      "Running inference: 100%|██████████| 1/1 [00:03<00:00,  3.81s/it]\n",
      "Running inference: 100%|██████████| 1/1 [00:04<00:00,  4.85s/it]\n"
     ]
    },
    {
     "name": "stdout",
     "output_type": "stream",
     "text": [
      "Epoch: 034, Average Loss: 0.5687\n",
      "Validation: {'precision': 0.7523727351158895, 'recall': 0.8860969976897125, 'f1': 0.8137778859293656, 'auc': 0.6816522493095819, 'prauc': 0.8162495463194799}\n",
      "Test:       {'precision': 0.7615564202328703, 'recall': 0.8849701573513429, 'f1': 0.8186381077930073, 'auc': 0.692126748500832, 'prauc': 0.8270844842073514}\n"
     ]
    },
    {
     "name": "stderr",
     "output_type": "stream",
     "text": [
      "Training Batches: 100%|██████████| 1/1 [00:01<00:00,  1.23s/it]\n",
      "Running inference: 100%|██████████| 1/1 [00:04<00:00,  4.29s/it]\n",
      "Running inference: 100%|██████████| 1/1 [00:04<00:00,  4.41s/it]\n"
     ]
    },
    {
     "name": "stdout",
     "output_type": "stream",
     "text": [
      "Epoch: 035, Average Loss: 0.5674\n",
      "Validation: {'precision': 0.7551652892555982, 'recall': 0.8778752886827917, 'f1': 0.8119099441923892, 'auc': 0.6821132447229445, 'prauc': 0.816145741462223}\n",
      "Test:       {'precision': 0.7637795275584537, 'recall': 0.877192982455347, 'f1': 0.8165670461217733, 'auc': 0.6930495222786219, 'prauc': 0.8271833874003562}\n"
     ]
    },
    {
     "name": "stderr",
     "output_type": "stream",
     "text": [
      "Training Batches: 100%|██████████| 1/1 [00:02<00:00,  2.17s/it]\n",
      "Running inference: 100%|██████████| 1/1 [00:04<00:00,  4.44s/it]\n",
      "Running inference: 100%|██████████| 1/1 [00:03<00:00,  3.59s/it]\n"
     ]
    },
    {
     "name": "stdout",
     "output_type": "stream",
     "text": [
      "Epoch: 036, Average Loss: 0.5678\n",
      "Validation: {'precision': 0.7605310604812648, 'recall': 0.8572748267890463, 'f1': 0.806010330710062, 'auc': 0.6825124154136857, 'prauc': 0.8158914026428967}\n",
      "Test:       {'precision': 0.7691246856487636, 'recall': 0.8573883161504273, 'f1': 0.8108616584735129, 'auc': 0.693387865396992, 'prauc': 0.8269525401557967}\n"
     ]
    },
    {
     "name": "stderr",
     "output_type": "stream",
     "text": [
      "Training Batches: 100%|██████████| 1/1 [00:02<00:00,  2.17s/it]\n",
      "Running inference: 100%|██████████| 1/1 [00:04<00:00,  4.55s/it]\n",
      "Running inference: 100%|██████████| 1/1 [00:03<00:00,  3.60s/it]\n"
     ]
    },
    {
     "name": "stdout",
     "output_type": "stream",
     "text": [
      "Epoch: 037, Average Loss: 0.5688\n",
      "Validation: {'precision': 0.7611878907529112, 'recall': 0.854780600461104, 'f1': 0.8052739169515832, 'auc': 0.6827650034722783, 'prauc': 0.8159666385088189}\n",
      "Test:       {'precision': 0.769449407178196, 'recall': 0.8568457225530323, 'f1': 0.8107992419759229, 'auc': 0.6924899243234733, 'prauc': 0.8263202722431762}\n"
     ]
    },
    {
     "name": "stderr",
     "output_type": "stream",
     "text": [
      "Training Batches: 100%|██████████| 1/1 [00:02<00:00,  2.22s/it]\n",
      "Running inference: 100%|██████████| 1/1 [00:04<00:00,  4.05s/it]\n",
      "Running inference: 100%|██████████| 1/1 [00:04<00:00,  4.02s/it]\n"
     ]
    },
    {
     "name": "stdout",
     "output_type": "stream",
     "text": [
      "Epoch: 038, Average Loss: 0.5664\n",
      "Validation: {'precision': 0.7602391874174637, 'recall': 0.8573672055419331, 'f1': 0.8058872003314413, 'auc': 0.6831442388442966, 'prauc': 0.8158291586963553}\n",
      "Test:       {'precision': 0.7698213852737655, 'recall': 0.8613673358646577, 'f1': 0.8130254740812489, 'auc': 0.6922953552299518, 'prauc': 0.8258580342366276}\n"
     ]
    },
    {
     "name": "stderr",
     "output_type": "stream",
     "text": [
      "Training Batches: 100%|██████████| 1/1 [00:02<00:00,  2.64s/it]\n",
      "Running inference: 100%|██████████| 1/1 [00:04<00:00,  4.02s/it]\n",
      "Running inference: 100%|██████████| 1/1 [00:04<00:00,  4.05s/it]\n"
     ]
    },
    {
     "name": "stdout",
     "output_type": "stream",
     "text": [
      "Epoch: 039, Average Loss: 0.5675\n",
      "Validation: {'precision': 0.758300347361856, 'recall': 0.8671593533479287, 'f1': 0.8090846356009389, 'auc': 0.6837589027600575, 'prauc': 0.8157525299664734}\n",
      "Test:       {'precision': 0.7677146504941208, 'recall': 0.8700488334229788, 'f1': 0.815684607142611, 'auc': 0.6928955813125992, 'prauc': 0.8257409923714994}\n"
     ]
    },
    {
     "name": "stderr",
     "output_type": "stream",
     "text": [
      "Training Batches: 100%|██████████| 1/1 [00:01<00:00,  1.73s/it]\n",
      "Running inference: 100%|██████████| 1/1 [00:03<00:00,  3.94s/it]\n",
      "Running inference: 100%|██████████| 1/1 [00:04<00:00,  4.97s/it]\n"
     ]
    },
    {
     "name": "stdout",
     "output_type": "stream",
     "text": [
      "Epoch: 040, Average Loss: 0.5678\n",
      "Validation: {'precision': 0.7541162699955098, 'recall': 0.8927482678975586, 'f1': 0.8175972877589355, 'auc': 0.6844424167056962, 'prauc': 0.8161014119501071}\n",
      "Test:       {'precision': 0.7615842809617377, 'recall': 0.890305661059061, 'f1': 0.820929742788692, 'auc': 0.6929650157734245, 'prauc': 0.8256698090708394}\n"
     ]
    },
    {
     "name": "stderr",
     "output_type": "stream",
     "text": [
      "Training Batches: 100%|██████████| 1/1 [00:01<00:00,  1.22s/it]\n",
      "Running inference: 100%|██████████| 1/1 [00:04<00:00,  4.38s/it]\n",
      "Running inference: 100%|██████████| 1/1 [00:04<00:00,  4.48s/it]\n"
     ]
    },
    {
     "name": "stdout",
     "output_type": "stream",
     "text": [
      "Epoch: 041, Average Loss: 0.5655\n",
      "Validation: {'precision': 0.7471533066882232, 'recall': 0.9152886836019257, 'f1': 0.8227185867634893, 'auc': 0.6849498336536443, 'prauc': 0.8167340675594086}\n",
      "Test:       {'precision': 0.7558270254060138, 'recall': 0.9120094049548634, 'f1': 0.8266054620322262, 'auc': 0.6937111067430919, 'prauc': 0.8261981150734681}\n"
     ]
    },
    {
     "name": "stderr",
     "output_type": "stream",
     "text": [
      "Training Batches: 100%|██████████| 1/1 [00:02<00:00,  2.13s/it]\n",
      "Running inference: 100%|██████████| 1/1 [00:04<00:00,  4.42s/it]\n",
      "Running inference: 100%|██████████| 1/1 [00:03<00:00,  3.51s/it]\n"
     ]
    },
    {
     "name": "stdout",
     "output_type": "stream",
     "text": [
      "Epoch: 042, Average Loss: 0.5648\n",
      "Validation: {'precision': 0.7464024711815366, 'recall': 0.915196304849039, 'f1': 0.8222259059148875, 'auc': 0.6855520114988937, 'prauc': 0.8173880147066367}\n",
      "Test:       {'precision': 0.7554758166997417, 'recall': 0.9139084825457461, 'f1': 0.8271741305057859, 'auc': 0.6949899117386631, 'prauc': 0.8270863060550202}\n"
     ]
    },
    {
     "name": "stderr",
     "output_type": "stream",
     "text": [
      "Training Batches: 100%|██████████| 1/1 [00:02<00:00,  2.18s/it]\n",
      "Running inference: 100%|██████████| 1/1 [00:04<00:00,  4.52s/it]\n",
      "Running inference: 100%|██████████| 1/1 [00:03<00:00,  3.58s/it]\n"
     ]
    },
    {
     "name": "stdout",
     "output_type": "stream",
     "text": [
      "Epoch: 043, Average Loss: 0.5655\n",
      "Validation: {'precision': 0.7518231365619468, 'recall': 0.9047575057728362, 'f1': 0.8212309190734534, 'auc': 0.6865512605177733, 'prauc': 0.8183406863203839}\n",
      "Test:       {'precision': 0.7603999694673991, 'recall': 0.9008862362082647, 'f1': 0.8247030042655878, 'auc': 0.6962679140809837, 'prauc': 0.8280405633191525}\n"
     ]
    },
    {
     "name": "stderr",
     "output_type": "stream",
     "text": [
      "Training Batches: 100%|██████████| 1/1 [00:02<00:00,  2.13s/it]\n",
      "Running inference: 100%|██████████| 1/1 [00:03<00:00,  3.94s/it]\n",
      "Running inference: 100%|██████████| 1/1 [00:03<00:00,  3.99s/it]\n"
     ]
    },
    {
     "name": "stdout",
     "output_type": "stream",
     "text": [
      "Epoch: 044, Average Loss: 0.5611\n",
      "Validation: {'precision': 0.755747351902114, 'recall': 0.8897921478051826, 'f1': 0.81731013504097, 'auc': 0.6870280325909657, 'prauc': 0.8188391109509038}\n",
      "Test:       {'precision': 0.7639471639465704, 'recall': 0.8891300415980383, 'f1': 0.8217987245498852, 'auc': 0.6962269490373056, 'prauc': 0.8285311012576659}\n"
     ]
    },
    {
     "name": "stderr",
     "output_type": "stream",
     "text": [
      "Training Batches: 100%|██████████| 1/1 [00:02<00:00,  2.64s/it]\n",
      "Running inference: 100%|██████████| 1/1 [00:04<00:00,  4.06s/it]\n",
      "Running inference: 100%|██████████| 1/1 [00:04<00:00,  4.00s/it]\n"
     ]
    },
    {
     "name": "stdout",
     "output_type": "stream",
     "text": [
      "Epoch: 045, Average Loss: 0.5628\n",
      "Validation: {'precision': 0.761180752122312, 'recall': 0.8694688221700975, 'f1': 0.8117291886392888, 'auc': 0.6867814806440671, 'prauc': 0.8187965655407481}\n",
      "Test:       {'precision': 0.7698527057310519, 'recall': 0.8696871043580487, 'f1': 0.8167303559520279, 'auc': 0.6966179699912325, 'prauc': 0.8290482267107818}\n"
     ]
    },
    {
     "name": "stderr",
     "output_type": "stream",
     "text": [
      "Training Batches: 100%|██████████| 1/1 [00:02<00:00,  2.18s/it]\n",
      "Running inference: 100%|██████████| 1/1 [00:04<00:00,  4.54s/it]\n",
      "Running inference: 100%|██████████| 1/1 [00:03<00:00,  3.49s/it]\n"
     ]
    },
    {
     "name": "stdout",
     "output_type": "stream",
     "text": [
      "Epoch: 046, Average Loss: 0.5612\n",
      "Validation: {'precision': 0.7630191166770245, 'recall': 0.8554272517313113, 'f1': 0.8065850740626774, 'auc': 0.6861750633892666, 'prauc': 0.8184247482220682}\n",
      "Test:       {'precision': 0.7730121266372808, 'recall': 0.85892566467638, 'f1': 0.8137074270114469, 'auc': 0.6965064309172995, 'prauc': 0.8290321362165114}\n"
     ]
    },
    {
     "name": "stderr",
     "output_type": "stream",
     "text": [
      "Training Batches: 100%|██████████| 1/1 [00:02<00:00,  2.16s/it]\n",
      "Running inference: 100%|██████████| 1/1 [00:03<00:00,  3.95s/it]\n",
      "Running inference: 100%|██████████| 1/1 [00:04<00:00,  4.89s/it]\n"
     ]
    },
    {
     "name": "stdout",
     "output_type": "stream",
     "text": [
      "Epoch: 047, Average Loss: 0.5606\n",
      "Validation: {'precision': 0.763922217624523, 'recall': 0.8528406466504823, 'f1': 0.8059362673845643, 'auc': 0.6856089810881959, 'prauc': 0.8179692098113134}\n",
      "Test:       {'precision': 0.7729350310147135, 'recall': 0.8563935612218697, 'f1': 0.8125268075392341, 'auc': 0.6965048355200978, 'prauc': 0.8289235998419746}\n"
     ]
    },
    {
     "name": "stderr",
     "output_type": "stream",
     "text": [
      "Training Batches: 100%|██████████| 1/1 [00:01<00:00,  1.26s/it]\n",
      "Running inference: 100%|██████████| 1/1 [00:04<00:00,  4.40s/it]\n",
      "Running inference: 100%|██████████| 1/1 [00:04<00:00,  4.47s/it]\n"
     ]
    },
    {
     "name": "stdout",
     "output_type": "stream",
     "text": [
      "Epoch: 048, Average Loss: 0.5611\n",
      "Validation: {'precision': 0.7587645407133904, 'recall': 0.873718244802888, 'f1': 0.812194069734271, 'auc': 0.6858034690482727, 'prauc': 0.8179739441554319}\n",
      "Test:       {'precision': 0.7676855895190411, 'recall': 0.8743895822021392, 'f1': 0.8175707048669526, 'auc': 0.696537674938276, 'prauc': 0.8287586407944063}\n"
     ]
    },
    {
     "name": "stderr",
     "output_type": "stream",
     "text": [
      "Training Batches: 100%|██████████| 1/1 [00:02<00:00,  2.14s/it]\n",
      "Running inference: 100%|██████████| 1/1 [00:04<00:00,  4.47s/it]\n",
      "Running inference: 100%|██████████| 1/1 [00:03<00:00,  3.62s/it]\n"
     ]
    },
    {
     "name": "stdout",
     "output_type": "stream",
     "text": [
      "Epoch: 049, Average Loss: 0.5585\n",
      "Validation: {'precision': 0.7513093037578933, 'recall': 0.901154734410253, 'f1': 0.8194380226770341, 'auc': 0.6847654698073289, 'prauc': 0.817557969069553}\n",
      "Test:       {'precision': 0.7603824091772386, 'recall': 0.8990775908836145, 'f1': 0.8239340272722583, 'auc': 0.6962516430113853, 'prauc': 0.8285701970356014}\n"
     ]
    },
    {
     "name": "stderr",
     "output_type": "stream",
     "text": [
      "Training Batches: 100%|██████████| 1/1 [00:02<00:00,  2.17s/it]\n",
      "Running inference: 100%|██████████| 1/1 [00:04<00:00,  4.45s/it]\n",
      "Running inference: 100%|██████████| 1/1 [00:03<00:00,  3.57s/it]\n"
     ]
    },
    {
     "name": "stdout",
     "output_type": "stream",
     "text": [
      "Epoch: 050, Average Loss: 0.5570\n",
      "Validation: {'precision': 0.7439498057956797, 'recall': 0.9200923787520368, 'f1': 0.8226985454208501, 'auc': 0.682188221709007, 'prauc': 0.8165924724686218}\n",
      "Test:       {'precision': 0.7546662684778597, 'recall': 0.9140893470782111, 'f1': 0.8267626320480658, 'auc': 0.6950428967625011, 'prauc': 0.8279565799624511}\n"
     ]
    },
    {
     "name": "stderr",
     "output_type": "stream",
     "text": [
      "Training Batches: 100%|██████████| 1/1 [00:02<00:00,  2.18s/it]\n",
      "Running inference: 100%|██████████| 1/1 [00:03<00:00,  3.93s/it]\n",
      "Running inference: 100%|██████████| 1/1 [00:03<00:00,  3.98s/it]\n"
     ]
    },
    {
     "name": "stdout",
     "output_type": "stream",
     "text": [
      "Epoch: 051, Average Loss: 0.5604\n",
      "Validation: {'precision': 0.742375899680387, 'recall': 0.9242494226319405, 'f1': 0.8233890165385792, 'auc': 0.683826410310244, 'prauc': 0.8178741732767179}\n",
      "Test:       {'precision': 0.7542404266345054, 'recall': 0.9208717670456493, 'f1': 0.8292682877317277, 'auc': 0.6971292700211548, 'prauc': 0.8293522529749411}\n"
     ]
    },
    {
     "name": "stderr",
     "output_type": "stream",
     "text": [
      "Training Batches: 100%|██████████| 1/1 [00:02<00:00,  2.65s/it]\n",
      "Running inference: 100%|██████████| 1/1 [00:03<00:00,  3.94s/it]\n",
      "Running inference: 100%|██████████| 1/1 [00:04<00:00,  4.01s/it]\n"
     ]
    },
    {
     "name": "stdout",
     "output_type": "stream",
     "text": [
      "Epoch: 052, Average Loss: 0.5573\n",
      "Validation: {'precision': 0.7461990064724174, 'recall': 0.9158429561192463, 'f1': 0.8223632317483522, 'auc': 0.68626822946107, 'prauc': 0.8191002776349903}\n",
      "Test:       {'precision': 0.7578852508255047, 'recall': 0.912642430818491, 'f1': 0.8280955066529638, 'auc': 0.6994442111795368, 'prauc': 0.8307787082955183}\n"
     ]
    },
    {
     "name": "stderr",
     "output_type": "stream",
     "text": [
      "Training Batches: 100%|██████████| 1/1 [00:02<00:00,  2.15s/it]\n",
      "Running inference: 100%|██████████| 1/1 [00:04<00:00,  4.47s/it]\n",
      "Running inference: 100%|██████████| 1/1 [00:03<00:00,  3.48s/it]\n"
     ]
    },
    {
     "name": "stdout",
     "output_type": "stream",
     "text": [
      "Epoch: 053, Average Loss: 0.5591\n",
      "Validation: {'precision': 0.7522574670056709, 'recall': 0.9004157043871589, 'f1': 0.8196955631161909, 'auc': 0.6882168437797769, 'prauc': 0.8197587525079684}\n",
      "Test:       {'precision': 0.7629135006518052, 'recall': 0.8988967263511495, 'f1': 0.825341465535555, 'auc': 0.7007427257715945, 'prauc': 0.8313718658302305}\n"
     ]
    },
    {
     "name": "stderr",
     "output_type": "stream",
     "text": [
      "Training Batches: 100%|██████████| 1/1 [00:02<00:00,  2.14s/it]\n",
      "Running inference: 100%|██████████| 1/1 [00:03<00:00,  3.92s/it]\n",
      "Running inference: 100%|██████████| 1/1 [00:05<00:00,  5.01s/it]\n"
     ]
    },
    {
     "name": "stdout",
     "output_type": "stream",
     "text": [
      "Epoch: 054, Average Loss: 0.5544\n",
      "Validation: {'precision': 0.756338802103182, 'recall': 0.8900692840638428, 'f1': 0.8177728689076972, 'auc': 0.6886779906006233, 'prauc': 0.819931217386692}\n",
      "Test:       {'precision': 0.7668639975068026, 'recall': 0.890305661059061, 'f1': 0.8239872732326112, 'auc': 0.7003369201429777, 'prauc': 0.8311302636276876}\n"
     ]
    },
    {
     "name": "stderr",
     "output_type": "stream",
     "text": [
      "Training Batches: 100%|██████████| 1/1 [00:01<00:00,  1.23s/it]\n",
      "Running inference: 100%|██████████| 1/1 [00:04<00:00,  4.38s/it]\n",
      "Running inference: 100%|██████████| 1/1 [00:04<00:00,  4.51s/it]\n"
     ]
    },
    {
     "name": "stdout",
     "output_type": "stream",
     "text": [
      "Epoch: 055, Average Loss: 0.5553\n",
      "Validation: {'precision': 0.7561262037103608, 'recall': 0.8921939953802381, 'f1': 0.8185439394354462, 'auc': 0.6885997028375781, 'prauc': 0.8198565805511036}\n",
      "Test:       {'precision': 0.7646648585813524, 'recall': 0.8923856031824087, 'f1': 0.8236030497383607, 'auc': 0.6985557433962348, 'prauc': 0.8302893079732759}\n"
     ]
    },
    {
     "name": "stderr",
     "output_type": "stream",
     "text": [
      "Training Batches: 100%|██████████| 1/1 [00:02<00:00,  2.14s/it]\n",
      "Running inference: 100%|██████████| 1/1 [00:04<00:00,  4.50s/it]\n",
      "Running inference: 100%|██████████| 1/1 [00:03<00:00,  3.56s/it]\n"
     ]
    },
    {
     "name": "stdout",
     "output_type": "stream",
     "text": [
      "Epoch: 056, Average Loss: 0.5535\n",
      "Validation: {'precision': 0.7543478260863709, 'recall': 0.8975519630476696, 'f1': 0.8197426653596014, 'auc': 0.6885676852016344, 'prauc': 0.8198306730161578}\n",
      "Test:       {'precision': 0.7638365021932385, 'recall': 0.8973593778251967, 'f1': 0.8252318134024427, 'auc': 0.6981030568722042, 'prauc': 0.8300599802536712}\n"
     ]
    },
    {
     "name": "stderr",
     "output_type": "stream",
     "text": [
      "Training Batches: 100%|██████████| 1/1 [00:02<00:00,  2.16s/it]\n",
      "Running inference: 100%|██████████| 1/1 [00:04<00:00,  4.49s/it]\n",
      "Running inference: 100%|██████████| 1/1 [00:03<00:00,  3.53s/it]\n"
     ]
    },
    {
     "name": "stdout",
     "output_type": "stream",
     "text": [
      "Epoch: 057, Average Loss: 0.5540\n",
      "Validation: {'precision': 0.750913798354591, 'recall': 0.9109468822162485, 'f1': 0.8232249397382531, 'auc': 0.6887871654903988, 'prauc': 0.8199884532183205}\n",
      "Test:       {'precision': 0.761417859576792, 'recall': 0.9091155724354231, 'f1': 0.8287374749444235, 'auc': 0.6986038332261741, 'prauc': 0.8303097636759295}\n"
     ]
    },
    {
     "name": "stderr",
     "output_type": "stream",
     "text": [
      "Training Batches: 100%|██████████| 1/1 [00:02<00:00,  2.16s/it]\n",
      "Running inference: 100%|██████████| 1/1 [00:03<00:00,  3.99s/it]\n",
      "Running inference: 100%|██████████| 1/1 [00:03<00:00,  3.95s/it]\n"
     ]
    },
    {
     "name": "stdout",
     "output_type": "stream",
     "text": [
      "Epoch: 058, Average Loss: 0.5524\n",
      "Validation: {'precision': 0.7477673545960617, 'recall': 0.9204618937635838, 'f1': 0.8251759784897512, 'auc': 0.6885945347954585, 'prauc': 0.820056371058845}\n",
      "Test:       {'precision': 0.7580174927108035, 'recall': 0.9169831795976514, 'f1': 0.8299570238964118, 'auc': 0.6999854868401134, 'prauc': 0.8309862923506384}\n"
     ]
    },
    {
     "name": "stderr",
     "output_type": "stream",
     "text": [
      "Training Batches: 100%|██████████| 1/1 [00:02<00:00,  2.63s/it]\n",
      "Running inference: 100%|██████████| 1/1 [00:04<00:00,  4.02s/it]\n",
      "Running inference: 100%|██████████| 1/1 [00:04<00:00,  4.04s/it]\n"
     ]
    },
    {
     "name": "stdout",
     "output_type": "stream",
     "text": [
      "Epoch: 059, Average Loss: 0.5529\n",
      "Validation: {'precision': 0.7456716417904883, 'recall': 0.9230484988444129, 'f1': 0.824932915592448, 'auc': 0.6872743826612187, 'prauc': 0.8196725683317072}\n",
      "Test:       {'precision': 0.7570469798652072, 'recall': 0.9180683667924415, 'f1': 0.8298185335447866, 'auc': 0.7002669505799852, 'prauc': 0.8311608900671894}\n"
     ]
    },
    {
     "name": "stderr",
     "output_type": "stream",
     "text": [
      "Training Batches: 100%|██████████| 1/1 [00:02<00:00,  2.18s/it]\n",
      "Running inference: 100%|██████████| 1/1 [00:04<00:00,  4.48s/it]\n",
      "Running inference: 100%|██████████| 1/1 [00:03<00:00,  3.53s/it]\n"
     ]
    },
    {
     "name": "stdout",
     "output_type": "stream",
     "text": [
      "Epoch: 060, Average Loss: 0.5499\n",
      "Validation: {'precision': 0.7439351093907248, 'recall': 0.9235103926088466, 'f1': 0.8240530800014653, 'auc': 0.685687914856506, 'prauc': 0.8190965922843819}\n",
      "Test:       {'precision': 0.7554646840143081, 'recall': 0.9188822571885341, 'f1': 0.8291986240660487, 'auc': 0.6993361601789889, 'prauc': 0.830781884561236}\n"
     ]
    },
    {
     "name": "stderr",
     "output_type": "stream",
     "text": [
      "Training Batches: 100%|██████████| 1/1 [00:02<00:00,  2.18s/it]\n",
      "Running inference: 100%|██████████| 1/1 [00:03<00:00,  3.97s/it]\n",
      "Running inference: 100%|██████████| 1/1 [00:05<00:00,  5.06s/it]\n"
     ]
    },
    {
     "name": "stdout",
     "output_type": "stream",
     "text": [
      "Epoch: 061, Average Loss: 0.5499\n",
      "Validation: {'precision': 0.7421001998070434, 'recall': 0.9263741339483359, 'f1': 0.8240611340199644, 'auc': 0.6840117229767922, 'prauc': 0.8184348707927365}\n",
      "Test:       {'precision': 0.7535674676519382, 'recall': 0.9216856574417419, 'f1': 0.8291908993331278, 'auc': 0.6978439187838579, 'prauc': 0.8301076130256316}\n"
     ]
    },
    {
     "name": "stderr",
     "output_type": "stream",
     "text": [
      "Training Batches: 100%|██████████| 1/1 [00:01<00:00,  1.21s/it]\n",
      "Running inference: 100%|██████████| 1/1 [00:04<00:00,  4.32s/it]\n",
      "Running inference: 100%|██████████| 1/1 [00:04<00:00,  4.43s/it]\n"
     ]
    },
    {
     "name": "stdout",
     "output_type": "stream",
     "text": [
      "Epoch: 062, Average Loss: 0.5500\n",
      "Validation: {'precision': 0.7415226186092375, 'recall': 0.9312702078513336, 'f1': 0.8256347206983831, 'auc': 0.6837842685605388, 'prauc': 0.8183894432835944}\n",
      "Test:       {'precision': 0.752204585537366, 'recall': 0.9256646771559723, 'f1': 0.8299683725764821, 'auc': 0.6962954520239882, 'prauc': 0.8294053882724717}\n"
     ]
    },
    {
     "name": "stderr",
     "output_type": "stream",
     "text": [
      "Training Batches: 100%|██████████| 1/1 [00:02<00:00,  2.11s/it]\n",
      "Running inference: 100%|██████████| 1/1 [00:04<00:00,  4.43s/it]\n",
      "Running inference: 100%|██████████| 1/1 [00:03<00:00,  3.50s/it]\n"
     ]
    },
    {
     "name": "stdout",
     "output_type": "stream",
     "text": [
      "Epoch: 063, Average Loss: 0.5508\n",
      "Validation: {'precision': 0.7483802923001744, 'recall': 0.9176905311769813, 'f1': 0.8244325441193775, 'auc': 0.6857014607794053, 'prauc': 0.8191391734929432}\n",
      "Test:       {'precision': 0.756108529455287, 'recall': 0.9122807017535609, 'f1': 0.8268852409447724, 'auc': 0.6962910324764604, 'prauc': 0.8293750920786447}\n"
     ]
    },
    {
     "name": "stderr",
     "output_type": "stream",
     "text": [
      "Training Batches: 100%|██████████| 1/1 [00:02<00:00,  2.16s/it]\n",
      "Running inference: 100%|██████████| 1/1 [00:04<00:00,  4.52s/it]\n",
      "Running inference: 100%|██████████| 1/1 [00:03<00:00,  3.50s/it]\n"
     ]
    },
    {
     "name": "stdout",
     "output_type": "stream",
     "text": [
      "Epoch: 064, Average Loss: 0.5494\n",
      "Validation: {'precision': 0.7521973785653414, 'recall': 0.9012471131631397, 'f1': 0.8200041976035053, 'auc': 0.6873270623718082, 'prauc': 0.8196473030921381}\n",
      "Test:       {'precision': 0.7633599508593647, 'recall': 0.8990775908836145, 'f1': 0.8256789253540399, 'auc': 0.6986431434168541, 'prauc': 0.8302154033410547}\n"
     ]
    },
    {
     "name": "stderr",
     "output_type": "stream",
     "text": [
      "Training Batches: 100%|██████████| 1/1 [00:02<00:00,  2.17s/it]\n",
      "Running inference: 100%|██████████| 1/1 [00:03<00:00,  3.97s/it]\n",
      "Running inference: 100%|██████████| 1/1 [00:03<00:00,  3.99s/it]\n"
     ]
    },
    {
     "name": "stdout",
     "output_type": "stream",
     "text": [
      "Epoch: 065, Average Loss: 0.5521\n",
      "Validation: {'precision': 0.75097098469214, 'recall': 0.9109468822162485, 'f1': 0.8232593037783191, 'auc': 0.6875964869426187, 'prauc': 0.8197108128201691}\n",
      "Test:       {'precision': 0.7597269624567616, 'recall': 0.9058600108510527, 'f1': 0.8263828684445635, 'auc': 0.6974796826661818, 'prauc': 0.8296991169016689}\n"
     ]
    },
    {
     "name": "stderr",
     "output_type": "stream",
     "text": [
      "Training Batches: 100%|██████████| 1/1 [00:02<00:00,  2.63s/it]\n",
      "Running inference: 100%|██████████| 1/1 [00:03<00:00,  3.98s/it]\n",
      "Running inference: 100%|██████████| 1/1 [00:04<00:00,  4.03s/it]\n"
     ]
    },
    {
     "name": "stdout",
     "output_type": "stream",
     "text": [
      "Epoch: 066, Average Loss: 0.5472\n",
      "Validation: {'precision': 0.747774036662366, 'recall': 0.9232332563501863, 'f1': 0.8262918511933443, 'auc': 0.6872837699252249, 'prauc': 0.8194913439296639}\n",
      "Test:       {'precision': 0.7570177408482992, 'recall': 0.9145415084093736, 'f1': 0.8283572870943455, 'auc': 0.6957611128729846, 'prauc': 0.8289427904222122}\n"
     ]
    },
    {
     "name": "stderr",
     "output_type": "stream",
     "text": [
      "Training Batches: 100%|██████████| 1/1 [00:02<00:00,  2.11s/it]\n",
      "Running inference: 100%|██████████| 1/1 [00:04<00:00,  4.54s/it]\n",
      "Running inference: 100%|██████████| 1/1 [00:03<00:00,  3.54s/it]\n"
     ]
    },
    {
     "name": "stdout",
     "output_type": "stream",
     "text": [
      "Epoch: 067, Average Loss: 0.5482\n",
      "Validation: {'precision': 0.7474100022354122, 'recall': 0.9263741339483359, 'f1': 0.8273244732348469, 'auc': 0.6877780447035643, 'prauc': 0.8195377936335272}\n",
      "Test:       {'precision': 0.7573523937154661, 'recall': 0.9198770121170917, 'f1': 0.8307403274404064, 'auc': 0.6976169958278282, 'prauc': 0.8295184695518522}\n"
     ]
    },
    {
     "name": "stderr",
     "output_type": "stream",
     "text": [
      "Training Batches: 100%|██████████| 1/1 [00:02<00:00,  2.15s/it]\n",
      "Running inference: 100%|██████████| 1/1 [00:03<00:00,  3.88s/it]\n",
      "Running inference: 100%|██████████| 1/1 [00:04<00:00,  4.91s/it]\n"
     ]
    },
    {
     "name": "stdout",
     "output_type": "stream",
     "text": [
      "Epoch: 068, Average Loss: 0.5484\n",
      "Validation: {'precision': 0.7489881576969352, 'recall': 0.9231408775972996, 'f1': 0.8269954847709353, 'auc': 0.6881135737818763, 'prauc': 0.8194601817560094}\n",
      "Test:       {'precision': 0.7599311737856214, 'recall': 0.9186109603898366, 'f1': 0.8317707217584345, 'auc': 0.6998760683562498, 'prauc': 0.8301597490634851}\n",
      "\n",
      "Early stopping triggered after 68 epochs (no improvement for 10 epochs).\n",
      "\n",
      "Best validation performance:\n",
      "{'precision': 0.7477673545960617, 'recall': 0.9204618937635838, 'f1': 0.8251759784897512, 'auc': 0.6885945347954585, 'prauc': 0.820056371058845}\n",
      "Corresponding test performance:\n",
      "{'precision': 0.7580174927108035, 'recall': 0.9169831795976514, 'f1': 0.8299570238964118, 'auc': 0.6999854868401134, 'prauc': 0.8309862923506384}\n",
      "Corresponding test-long performance:\n",
      "{'precision': 0.8876658199241105, 'recall': 0.9831197249109624, 'f1': 0.9329575743635571, 'auc': 0.5784196008685477, 'prauc': 0.9121256437309568}\n",
      "[INFO] Random seed set to 1181241943\n",
      "Training with seed: 1181241943\n"
     ]
    },
    {
     "name": "stderr",
     "output_type": "stream",
     "text": [
      "Training Batches: 100%|██████████| 1/1 [00:01<00:00,  1.22s/it]\n",
      "Running inference: 100%|██████████| 1/1 [00:04<00:00,  4.28s/it]\n",
      "Running inference: 100%|██████████| 1/1 [00:04<00:00,  4.43s/it]\n"
     ]
    },
    {
     "name": "stdout",
     "output_type": "stream",
     "text": [
      "Epoch: 001, Average Loss: 0.6976\n",
      "Validation: {'precision': 0.8073302909286832, 'recall': 0.5229561200918956, 'f1': 0.6347479909669683, 'auc': 0.648272097417594, 'prauc': 0.8008840638090196}\n",
      "Test:       {'precision': 0.8157522624422854, 'recall': 0.5217037438953502, 'f1': 0.6364037459304476, 'auc': 0.6585824620383658, 'prauc': 0.8136481659901817}\n"
     ]
    },
    {
     "name": "stderr",
     "output_type": "stream",
     "text": [
      "Training Batches: 100%|██████████| 1/1 [00:02<00:00,  2.15s/it]\n",
      "Running inference: 100%|██████████| 1/1 [00:04<00:00,  4.46s/it]\n",
      "Running inference: 100%|██████████| 1/1 [00:03<00:00,  3.93s/it]\n"
     ]
    },
    {
     "name": "stdout",
     "output_type": "stream",
     "text": [
      "Epoch: 002, Average Loss: 0.6884\n",
      "Validation: {'precision': 0.7933262836320134, 'recall': 0.6237413394913406, 'f1': 0.6983864245288917, 'auc': 0.6569113781714822, 'prauc': 0.8043559904224802}\n",
      "Test:       {'precision': 0.8025886194020492, 'recall': 0.6224452884783663, 'f1': 0.7011306867365166, 'auc': 0.6688551948927313, 'prauc': 0.8170834784612602}\n"
     ]
    },
    {
     "name": "stderr",
     "output_type": "stream",
     "text": [
      "Training Batches: 100%|██████████| 1/1 [00:02<00:00,  2.18s/it]\n",
      "Running inference: 100%|██████████| 1/1 [00:04<00:00,  4.46s/it]\n",
      "Running inference: 100%|██████████| 1/1 [00:03<00:00,  3.51s/it]\n"
     ]
    },
    {
     "name": "stdout",
     "output_type": "stream",
     "text": [
      "Epoch: 003, Average Loss: 0.6800\n",
      "Validation: {'precision': 0.7882262996933287, 'recall': 0.6666974595836797, 'f1': 0.7223862619877687, 'auc': 0.6588868218963485, 'prauc': 0.8051342821371746}\n",
      "Test:       {'precision': 0.7960242005177225, 'recall': 0.6663049376011337, 'f1': 0.7254110416074995, 'auc': 0.6715321029392289, 'prauc': 0.817933446686202}\n"
     ]
    },
    {
     "name": "stderr",
     "output_type": "stream",
     "text": [
      "Training Batches: 100%|██████████| 1/1 [00:02<00:00,  2.13s/it]\n",
      "Running inference: 100%|██████████| 1/1 [00:04<00:00,  4.44s/it]\n",
      "Running inference: 100%|██████████| 1/1 [00:03<00:00,  3.50s/it]\n"
     ]
    },
    {
     "name": "stdout",
     "output_type": "stream",
     "text": [
      "Epoch: 004, Average Loss: 0.6727\n",
      "Validation: {'precision': 0.7846299810238407, 'recall': 0.6875750577360853, 'f1': 0.7329033478839893, 'auc': 0.6597839919895347, 'prauc': 0.8056064320241001}\n",
      "Test:       {'precision': 0.7936986586245256, 'recall': 0.6902694881527488, 'f1': 0.7383796806342156, 'auc': 0.6726510412077422, 'prauc': 0.8182484328602813}\n"
     ]
    },
    {
     "name": "stderr",
     "output_type": "stream",
     "text": [
      "Training Batches: 100%|██████████| 1/1 [00:02<00:00,  2.16s/it]\n",
      "Running inference: 100%|██████████| 1/1 [00:03<00:00,  3.94s/it]\n",
      "Running inference: 100%|██████████| 1/1 [00:05<00:00,  5.16s/it]\n"
     ]
    },
    {
     "name": "stdout",
     "output_type": "stream",
     "text": [
      "Epoch: 005, Average Loss: 0.6648\n",
      "Validation: {'precision': 0.7828506647420561, 'recall': 0.7017090069277582, 'f1': 0.7400623488723609, 'auc': 0.6604932351136162, 'prauc': 0.8059723422120557}\n",
      "Test:       {'precision': 0.7924086699900351, 'recall': 0.7041960571525554, 'f1': 0.7457026524262806, 'auc': 0.6734555673159119, 'prauc': 0.8185122301833516}\n"
     ]
    },
    {
     "name": "stderr",
     "output_type": "stream",
     "text": [
      "Training Batches: 100%|██████████| 1/1 [00:01<00:00,  1.24s/it]\n",
      "Running inference: 100%|██████████| 1/1 [00:04<00:00,  4.49s/it]\n",
      "Running inference: 100%|██████████| 1/1 [00:04<00:00,  4.52s/it]\n"
     ]
    },
    {
     "name": "stdout",
     "output_type": "stream",
     "text": [
      "Epoch: 006, Average Loss: 0.6583\n",
      "Validation: {'precision': 0.7814428817152873, 'recall': 0.7134411085443755, 'f1': 0.7458953011714958, 'auc': 0.661132225165135, 'prauc': 0.8062673466204059}\n",
      "Test:       {'precision': 0.7911702873152555, 'recall': 0.7146862000355265, 'f1': 0.750985883737419, 'auc': 0.6742288394938061, 'prauc': 0.8188359204473655}\n"
     ]
    },
    {
     "name": "stderr",
     "output_type": "stream",
     "text": [
      "Training Batches: 100%|██████████| 1/1 [00:02<00:00,  2.16s/it]\n",
      "Running inference: 100%|██████████| 1/1 [00:04<00:00,  4.54s/it]\n",
      "Running inference: 100%|██████████| 1/1 [00:03<00:00,  3.65s/it]\n"
     ]
    },
    {
     "name": "stdout",
     "output_type": "stream",
     "text": [
      "Epoch: 007, Average Loss: 0.6507\n",
      "Validation: {'precision': 0.7790605095533647, 'recall': 0.7231408775974844, 'f1': 0.7500598809833094, 'auc': 0.6614044053521536, 'prauc': 0.8063952578480851}\n",
      "Test:       {'precision': 0.7898422090721993, 'recall': 0.7242720202561727, 'f1': 0.7556373192845391, 'auc': 0.6746283824452084, 'prauc': 0.8189641305126846}\n"
     ]
    },
    {
     "name": "stderr",
     "output_type": "stream",
     "text": [
      "Training Batches: 100%|██████████| 1/1 [00:02<00:00,  2.20s/it]\n",
      "Running inference: 100%|██████████| 1/1 [00:04<00:00,  4.53s/it]\n",
      "Running inference: 100%|██████████| 1/1 [00:03<00:00,  3.58s/it]\n"
     ]
    },
    {
     "name": "stdout",
     "output_type": "stream",
     "text": [
      "Epoch: 008, Average Loss: 0.6436\n",
      "Validation: {'precision': 0.7766175465982467, 'recall': 0.7351501154727619, 'f1': 0.7553151051017543, 'auc': 0.6616378353171078, 'prauc': 0.806498235278144}\n",
      "Test:       {'precision': 0.7876089060979791, 'recall': 0.7357569180677014, 'f1': 0.7608004438549038, 'auc': 0.6750247246929079, 'prauc': 0.8190850267756291}\n"
     ]
    },
    {
     "name": "stderr",
     "output_type": "stream",
     "text": [
      "Training Batches: 100%|██████████| 1/1 [00:02<00:00,  2.19s/it]\n",
      "Running inference: 100%|██████████| 1/1 [00:03<00:00,  3.93s/it]\n",
      "Running inference: 100%|██████████| 1/1 [00:03<00:00,  3.93s/it]\n"
     ]
    },
    {
     "name": "stdout",
     "output_type": "stream",
     "text": [
      "Epoch: 009, Average Loss: 0.6371\n",
      "Validation: {'precision': 0.7742428585069511, 'recall': 0.7486374133942275, 'f1': 0.7612248681925076, 'auc': 0.6618912207884494, 'prauc': 0.8065868099163671}\n",
      "Test:       {'precision': 0.7842803030295603, 'recall': 0.7489600289376478, 'f1': 0.7662133357365175, 'auc': 0.6753655054989278, 'prauc': 0.8192100100554569}\n"
     ]
    },
    {
     "name": "stderr",
     "output_type": "stream",
     "text": [
      "Training Batches: 100%|██████████| 1/1 [00:02<00:00,  2.62s/it]\n",
      "Running inference: 100%|██████████| 1/1 [00:04<00:00,  4.06s/it]\n",
      "Running inference: 100%|██████████| 1/1 [00:04<00:00,  4.05s/it]\n"
     ]
    },
    {
     "name": "stdout",
     "output_type": "stream",
     "text": [
      "Epoch: 010, Average Loss: 0.6302\n",
      "Validation: {'precision': 0.7703389047919749, 'recall': 0.7706235565812742, 'f1': 0.7704811993957049, 'auc': 0.6621838611734686, 'prauc': 0.8067218264049207}\n",
      "Test:       {'precision': 0.7806173857279649, 'recall': 0.7706637728334502, 'f1': 0.7756086411883509, 'auc': 0.6757198818637109, 'prauc': 0.8193275423268431}\n"
     ]
    },
    {
     "name": "stderr",
     "output_type": "stream",
     "text": [
      "Training Batches: 100%|██████████| 1/1 [00:02<00:00,  2.21s/it]\n",
      "Running inference: 100%|██████████| 1/1 [00:04<00:00,  4.50s/it]\n",
      "Running inference: 100%|██████████| 1/1 [00:03<00:00,  3.54s/it]\n"
     ]
    },
    {
     "name": "stdout",
     "output_type": "stream",
     "text": [
      "Epoch: 011, Average Loss: 0.6239\n",
      "Validation: {'precision': 0.764632516703105, 'recall': 0.7928868360269811, 'f1': 0.7785033963614834, 'auc': 0.6625164630404238, 'prauc': 0.8069101444697748}\n",
      "Test:       {'precision': 0.7760105448147838, 'recall': 0.7986073430992958, 'f1': 0.787146799528361, 'auc': 0.6761408883575919, 'prauc': 0.8194653532987661}\n"
     ]
    },
    {
     "name": "stderr",
     "output_type": "stream",
     "text": [
      "Training Batches: 100%|██████████| 1/1 [00:02<00:00,  2.20s/it]\n",
      "Running inference: 100%|██████████| 1/1 [00:04<00:00,  4.03s/it]\n",
      "Running inference: 100%|██████████| 1/1 [00:04<00:00,  4.97s/it]\n"
     ]
    },
    {
     "name": "stdout",
     "output_type": "stream",
     "text": [
      "Epoch: 012, Average Loss: 0.6171\n",
      "Validation: {'precision': 0.7561639177004283, 'recall': 0.8216166281747606, 'f1': 0.787532646533121, 'auc': 0.6628527188746589, 'prauc': 0.8070967613790379}\n",
      "Test:       {'precision': 0.7686755078052974, 'recall': 0.8281786941573266, 'f1': 0.7973184696710577, 'auc': 0.6765611120168211, 'prauc': 0.8195823341813677}\n"
     ]
    },
    {
     "name": "stderr",
     "output_type": "stream",
     "text": [
      "Training Batches: 100%|██████████| 1/1 [00:01<00:00,  1.22s/it]\n",
      "Running inference: 100%|██████████| 1/1 [00:04<00:00,  4.46s/it]\n",
      "Running inference: 100%|██████████| 1/1 [00:04<00:00,  4.50s/it]\n"
     ]
    },
    {
     "name": "stdout",
     "output_type": "stream",
     "text": [
      "Epoch: 013, Average Loss: 0.6108\n",
      "Validation: {'precision': 0.7485574969518499, 'recall': 0.8509006928398606, 'f1': 0.7964548155991167, 'auc': 0.6631651532647491, 'prauc': 0.8072816985404925}\n",
      "Test:       {'precision': 0.7606570512814418, 'recall': 0.8584735033452174, 'f1': 0.8066105821532586, 'auc': 0.6769825148826777, 'prauc': 0.8197214773373704}\n"
     ]
    },
    {
     "name": "stderr",
     "output_type": "stream",
     "text": [
      "Training Batches: 100%|██████████| 1/1 [00:02<00:00,  2.14s/it]\n",
      "Running inference: 100%|██████████| 1/1 [00:04<00:00,  4.53s/it]\n",
      "Running inference: 100%|██████████| 1/1 [00:03<00:00,  3.52s/it]\n"
     ]
    },
    {
     "name": "stdout",
     "output_type": "stream",
     "text": [
      "Epoch: 014, Average Loss: 0.6055\n",
      "Validation: {'precision': 0.7422986708360106, 'recall': 0.877043879906811, 'f1': 0.8040652078224203, 'auc': 0.6635054365380577, 'prauc': 0.8074876521545065}\n",
      "Test:       {'precision': 0.752620221947632, 'recall': 0.8831615120266927, 'f1': 0.8126820288166374, 'auc': 0.6774230030591593, 'prauc': 0.8199192894299119}\n"
     ]
    },
    {
     "name": "stderr",
     "output_type": "stream",
     "text": [
      "Training Batches: 100%|██████████| 1/1 [00:02<00:00,  2.19s/it]\n",
      "Running inference: 100%|██████████| 1/1 [00:04<00:00,  4.52s/it]\n",
      "Running inference: 100%|██████████| 1/1 [00:03<00:00,  3.53s/it]\n"
     ]
    },
    {
     "name": "stdout",
     "output_type": "stream",
     "text": [
      "Epoch: 015, Average Loss: 0.6005\n",
      "Validation: {'precision': 0.735242989947294, 'recall': 0.8986605080823107, 'f1': 0.8087795095155896, 'auc': 0.6638365445178379, 'prauc': 0.8077060574160195}\n",
      "Test:       {'precision': 0.7447936105092596, 'recall': 0.9023331524679848, 'f1': 0.8160294368770087, 'auc': 0.6779033860749848, 'prauc': 0.8201289374240958}\n"
     ]
    },
    {
     "name": "stderr",
     "output_type": "stream",
     "text": [
      "Training Batches: 100%|██████████| 1/1 [00:02<00:00,  2.18s/it]\n",
      "Running inference: 100%|██████████| 1/1 [00:03<00:00,  3.90s/it]\n",
      "Running inference: 100%|██████████| 1/1 [00:03<00:00,  3.98s/it]\n"
     ]
    },
    {
     "name": "stdout",
     "output_type": "stream",
     "text": [
      "Epoch: 016, Average Loss: 0.5958\n",
      "Validation: {'precision': 0.7314049586771462, 'recall': 0.9156581986134728, 'f1': 0.8132255765526543, 'auc': 0.6641743245207449, 'prauc': 0.8079333983020862}\n",
      "Test:       {'precision': 0.7399083569708779, 'recall': 0.9199674443833242, 'f1': 0.8201717207807538, 'auc': 0.6783505828471533, 'prauc': 0.8203219624220495}\n"
     ]
    },
    {
     "name": "stderr",
     "output_type": "stream",
     "text": [
      "Training Batches: 100%|██████████| 1/1 [00:02<00:00,  2.61s/it]\n",
      "Running inference: 100%|██████████| 1/1 [00:03<00:00,  3.94s/it]\n",
      "Running inference: 100%|██████████| 1/1 [00:03<00:00,  3.99s/it]\n"
     ]
    },
    {
     "name": "stdout",
     "output_type": "stream",
     "text": [
      "Epoch: 017, Average Loss: 0.5920\n",
      "Validation: {'precision': 0.7265720665556964, 'recall': 0.9318244803686542, 'f1': 0.8164966763127751, 'auc': 0.6645029191362909, 'prauc': 0.8081404341567642}\n",
      "Test:       {'precision': 0.734324959077123, 'recall': 0.9330801229870382, 'f1': 0.8218566998376038, 'auc': 0.6786847046039833, 'prauc': 0.8204994180052604}\n"
     ]
    },
    {
     "name": "stderr",
     "output_type": "stream",
     "text": [
      "Training Batches: 100%|██████████| 1/1 [00:02<00:00,  2.08s/it]\n",
      "Running inference: 100%|██████████| 1/1 [00:04<00:00,  4.41s/it]\n",
      "Running inference: 100%|██████████| 1/1 [00:03<00:00,  3.50s/it]\n"
     ]
    },
    {
     "name": "stdout",
     "output_type": "stream",
     "text": [
      "Epoch: 018, Average Loss: 0.5887\n",
      "Validation: {'precision': 0.7217784689328325, 'recall': 0.9432794457266113, 'f1': 0.817795926531045, 'auc': 0.6648112554304817, 'prauc': 0.8083246283619849}\n",
      "Test:       {'precision': 0.7294158796776988, 'recall': 0.9429372400063818, 'f1': 0.8225456504273657, 'auc': 0.6789248366560998, 'prauc': 0.8206006453589988}\n"
     ]
    },
    {
     "name": "stderr",
     "output_type": "stream",
     "text": [
      "Training Batches: 100%|██████████| 1/1 [00:02<00:00,  2.16s/it]\n",
      "Running inference: 100%|██████████| 1/1 [00:03<00:00,  3.95s/it]\n",
      "Running inference: 100%|██████████| 1/1 [00:05<00:00,  5.02s/it]\n"
     ]
    },
    {
     "name": "stdout",
     "output_type": "stream",
     "text": [
      "Epoch: 019, Average Loss: 0.5864\n",
      "Validation: {'precision': 0.7181362306722955, 'recall': 0.9525173210152863, 'f1': 0.8188857513619069, 'auc': 0.6651530931539593, 'prauc': 0.8084982658767738}\n",
      "Test:       {'precision': 0.725525318635394, 'recall': 0.9523421956945628, 'f1': 0.8236030138996263, 'auc': 0.6791868880784668, 'prauc': 0.8207325074411527}\n"
     ]
    },
    {
     "name": "stderr",
     "output_type": "stream",
     "text": [
      "Training Batches: 100%|██████████| 1/1 [00:01<00:00,  1.22s/it]\n",
      "Running inference: 100%|██████████| 1/1 [00:04<00:00,  4.39s/it]\n",
      "Running inference: 100%|██████████| 1/1 [00:04<00:00,  4.52s/it]\n"
     ]
    },
    {
     "name": "stdout",
     "output_type": "stream",
     "text": [
      "Epoch: 020, Average Loss: 0.5844\n",
      "Validation: {'precision': 0.7170529228635648, 'recall': 0.9575057736711708, 'f1': 0.8200158178872544, 'auc': 0.6656155824544969, 'prauc': 0.8087424813501899}\n",
      "Test:       {'precision': 0.7240104095324448, 'recall': 0.9560499186100957, 'f1': 0.8240062304805494, 'auc': 0.6795776513906095, 'prauc': 0.8209316742162921}\n"
     ]
    },
    {
     "name": "stderr",
     "output_type": "stream",
     "text": [
      "Training Batches: 100%|██████████| 1/1 [00:02<00:00,  2.13s/it]\n",
      "Running inference: 100%|██████████| 1/1 [00:04<00:00,  4.40s/it]\n",
      "Running inference: 100%|██████████| 1/1 [00:03<00:00,  3.45s/it]\n"
     ]
    },
    {
     "name": "stdout",
     "output_type": "stream",
     "text": [
      "Epoch: 021, Average Loss: 0.5837\n",
      "Validation: {'precision': 0.7164870093969621, 'recall': 0.9578752886827179, 'f1': 0.8197809968030793, 'auc': 0.6661767894345839, 'prauc': 0.8089759357231783}\n",
      "Test:       {'precision': 0.7239255406510239, 'recall': 0.9565925122074908, 'f1': 0.8241527025357914, 'auc': 0.680094242986406, 'prauc': 0.8211637546614535}\n"
     ]
    },
    {
     "name": "stderr",
     "output_type": "stream",
     "text": [
      "Training Batches: 100%|██████████| 1/1 [00:02<00:00,  2.12s/it]\n",
      "Running inference: 100%|██████████| 1/1 [00:03<00:00,  3.86s/it]\n",
      "Running inference: 100%|██████████| 1/1 [00:04<00:00,  4.40s/it]\n"
     ]
    },
    {
     "name": "stdout",
     "output_type": "stream",
     "text": [
      "Epoch: 022, Average Loss: 0.5828\n",
      "Validation: {'precision': 0.7176372596649423, 'recall': 0.9551039260961153, 'f1': 0.819514896812229, 'auc': 0.6669275283031056, 'prauc': 0.8093104249233867}\n",
      "Test:       {'precision': 0.7253729291257817, 'recall': 0.9542412732854455, 'f1': 0.8242140157912757, 'auc': 0.6808261339300477, 'prauc': 0.8215073349579272}\n"
     ]
    },
    {
     "name": "stderr",
     "output_type": "stream",
     "text": [
      "Training Batches: 100%|██████████| 1/1 [00:02<00:00,  2.55s/it]\n",
      "Running inference: 100%|██████████| 1/1 [00:03<00:00,  3.93s/it]\n",
      "Running inference: 100%|██████████| 1/1 [00:04<00:00,  4.05s/it]\n"
     ]
    },
    {
     "name": "stdout",
     "output_type": "stream",
     "text": [
      "Epoch: 023, Average Loss: 0.5818\n",
      "Validation: {'precision': 0.7205872023595415, 'recall': 0.9477136258651753, 'f1': 0.8186896447608417, 'auc': 0.6677740071706584, 'prauc': 0.8097020940903699}\n",
      "Test:       {'precision': 0.7282200917043711, 'recall': 0.9479110146491698, 'f1': 0.8236680761790734, 'auc': 0.681584552068156, 'prauc': 0.821894971011675}\n"
     ]
    },
    {
     "name": "stderr",
     "output_type": "stream",
     "text": [
      "Training Batches: 100%|██████████| 1/1 [00:02<00:00,  2.15s/it]\n",
      "Running inference: 100%|██████████| 1/1 [00:04<00:00,  4.46s/it]\n",
      "Running inference: 100%|██████████| 1/1 [00:03<00:00,  3.52s/it]\n"
     ]
    },
    {
     "name": "stdout",
     "output_type": "stream",
     "text": [
      "Epoch: 024, Average Loss: 0.5813\n",
      "Validation: {'precision': 0.7239002203107641, 'recall': 0.9409699769044425, 'f1': 0.8182840567809987, 'auc': 0.668652160483858, 'prauc': 0.8101066759345514}\n",
      "Test:       {'precision': 0.7320799887334656, 'recall': 0.9402242720194065, 'f1': 0.8231987282517866, 'auc': 0.6822846440700552, 'prauc': 0.8222796643183936}\n"
     ]
    },
    {
     "name": "stderr",
     "output_type": "stream",
     "text": [
      "Training Batches: 100%|██████████| 1/1 [00:02<00:00,  2.18s/it]\n",
      "Running inference: 100%|██████████| 1/1 [00:03<00:00,  3.94s/it]\n",
      "Running inference: 100%|██████████| 1/1 [00:04<00:00,  4.44s/it]\n"
     ]
    },
    {
     "name": "stdout",
     "output_type": "stream",
     "text": [
      "Epoch: 025, Average Loss: 0.5810\n",
      "Validation: {'precision': 0.7274760152919805, 'recall': 0.9316397228628807, 'f1': 0.8169961065462118, 'auc': 0.6695442130040861, 'prauc': 0.8105200052144961}\n",
      "Test:       {'precision': 0.7350677120450926, 'recall': 0.9326279616558757, 'f1': 0.8221460409878795, 'auc': 0.6829381326369236, 'prauc': 0.8226575037902781}\n"
     ]
    },
    {
     "name": "stderr",
     "output_type": "stream",
     "text": [
      "Training Batches: 100%|██████████| 1/1 [00:02<00:00,  2.62s/it]\n",
      "Running inference: 100%|██████████| 1/1 [00:04<00:00,  4.02s/it]\n",
      "Running inference: 100%|██████████| 1/1 [00:03<00:00,  3.92s/it]\n"
     ]
    },
    {
     "name": "stdout",
     "output_type": "stream",
     "text": [
      "Epoch: 026, Average Loss: 0.5799\n",
      "Validation: {'precision': 0.7304601899191158, 'recall': 0.9237875288675068, 'f1': 0.8158270397341549, 'auc': 0.6703771055734105, 'prauc': 0.8110179089156592}\n",
      "Test:       {'precision': 0.7389326207837518, 'recall': 0.9253029480910423, 'f1': 0.8216823881558003, 'auc': 0.6835379722568948, 'prauc': 0.8229897126059863}\n"
     ]
    },
    {
     "name": "stderr",
     "output_type": "stream",
     "text": [
      "Training Batches: 100%|██████████| 1/1 [00:02<00:00,  2.13s/it]\n",
      "Running inference: 100%|██████████| 1/1 [00:03<00:00,  3.90s/it]\n",
      "Running inference: 100%|██████████| 1/1 [00:04<00:00,  4.93s/it]\n"
     ]
    },
    {
     "name": "stdout",
     "output_type": "stream",
     "text": [
      "Epoch: 027, Average Loss: 0.5806\n",
      "Validation: {'precision': 0.7324140982150623, 'recall': 0.9175981524240945, 'f1': 0.8146143387700251, 'auc': 0.6711127137873674, 'prauc': 0.8114016950832672}\n",
      "Test:       {'precision': 0.7414836968409501, 'recall': 0.9192439862534642, 'f1': 0.8208503200858951, 'auc': 0.6840534738297583, 'prauc': 0.8231795659868972}\n"
     ]
    },
    {
     "name": "stderr",
     "output_type": "stream",
     "text": [
      "Training Batches: 100%|██████████| 1/1 [00:01<00:00,  1.21s/it]\n",
      "Running inference: 100%|██████████| 1/1 [00:04<00:00,  4.31s/it]\n",
      "Running inference: 100%|██████████| 1/1 [00:04<00:00,  4.44s/it]\n"
     ]
    },
    {
     "name": "stdout",
     "output_type": "stream",
     "text": [
      "Epoch: 028, Average Loss: 0.5793\n",
      "Validation: {'precision': 0.7357249626302423, 'recall': 0.9093764434171737, 'f1': 0.8133856591740227, 'auc': 0.6717834590351911, 'prauc': 0.8117999188182429}\n",
      "Test:       {'precision': 0.7449877931488162, 'recall': 0.9106529209613757, 'f1': 0.8195320398103301, 'auc': 0.6846957252511185, 'prauc': 0.8234717601936697}\n"
     ]
    },
    {
     "name": "stderr",
     "output_type": "stream",
     "text": [
      "Training Batches: 100%|██████████| 1/1 [00:02<00:00,  2.13s/it]\n",
      "Running inference: 100%|██████████| 1/1 [00:04<00:00,  4.46s/it]\n",
      "Running inference: 100%|██████████| 1/1 [00:03<00:00,  3.49s/it]\n"
     ]
    },
    {
     "name": "stdout",
     "output_type": "stream",
     "text": [
      "Epoch: 029, Average Loss: 0.5796\n",
      "Validation: {'precision': 0.74106664626158, 'recall': 0.8946882217081804, 'f1': 0.8106637600053366, 'auc': 0.6723333912046383, 'prauc': 0.8122466153573297}\n",
      "Test:       {'precision': 0.7522949700320519, 'recall': 0.8967263519615691, 'f1': 0.818185563749262, 'auc': 0.685583747115948, 'prauc': 0.8239624658924678}\n"
     ]
    },
    {
     "name": "stderr",
     "output_type": "stream",
     "text": [
      "Training Batches: 100%|██████████| 1/1 [00:02<00:00,  2.10s/it]\n",
      "Running inference: 100%|██████████| 1/1 [00:04<00:00,  4.45s/it]\n",
      "Running inference: 100%|██████████| 1/1 [00:03<00:00,  3.53s/it]\n"
     ]
    },
    {
     "name": "stdout",
     "output_type": "stream",
     "text": [
      "Epoch: 030, Average Loss: 0.5767\n",
      "Validation: {'precision': 0.7459548190410803, 'recall': 0.8815704387982618, 'f1': 0.8081124516349296, 'auc': 0.6727754001195109, 'prauc': 0.8124473817371389}\n",
      "Test:       {'precision': 0.7572357220238684, 'recall': 0.8848797250851104, 'f1': 0.8160967423189381, 'auc': 0.6863901758096006, 'prauc': 0.8242698557374273}\n"
     ]
    },
    {
     "name": "stderr",
     "output_type": "stream",
     "text": [
      "Training Batches: 100%|██████████| 1/1 [00:02<00:00,  2.22s/it]\n",
      "Running inference: 100%|██████████| 1/1 [00:03<00:00,  3.97s/it]\n",
      "Running inference: 100%|██████████| 1/1 [00:04<00:00,  4.08s/it]\n"
     ]
    },
    {
     "name": "stdout",
     "output_type": "stream",
     "text": [
      "Epoch: 031, Average Loss: 0.5765\n",
      "Validation: {'precision': 0.7483464566923241, 'recall': 0.8779676674356784, 'f1': 0.8079914934370266, 'auc': 0.6733116652400717, 'prauc': 0.8127141665619297}\n",
      "Test:       {'precision': 0.758588455245962, 'recall': 0.8806294085721824, 'f1': 0.8150659083980305, 'auc': 0.6870870968356951, 'prauc': 0.8246122544799772}\n"
     ]
    },
    {
     "name": "stderr",
     "output_type": "stream",
     "text": [
      "Training Batches: 100%|██████████| 1/1 [00:02<00:00,  2.64s/it]\n",
      "Running inference: 100%|██████████| 1/1 [00:04<00:00,  4.05s/it]\n",
      "Running inference: 100%|██████████| 1/1 [00:03<00:00,  3.94s/it]\n"
     ]
    },
    {
     "name": "stdout",
     "output_type": "stream",
     "text": [
      "Epoch: 032, Average Loss: 0.5749\n",
      "Validation: {'precision': 0.749388656621638, 'recall': 0.8775981524241315, 'f1': 0.8084418297678297, 'auc': 0.6739994791582552, 'prauc': 0.8131131837473109}\n",
      "Test:       {'precision': 0.7592375595650658, 'recall': 0.8789111955137647, 'f1': 0.8147030420941939, 'auc': 0.6878005069359745, 'prauc': 0.8250619856554168}\n"
     ]
    },
    {
     "name": "stderr",
     "output_type": "stream",
     "text": [
      "Training Batches: 100%|██████████| 1/1 [00:01<00:00,  1.71s/it]\n",
      "Running inference: 100%|██████████| 1/1 [00:03<00:00,  3.92s/it]\n",
      "Running inference: 100%|██████████| 1/1 [00:04<00:00,  4.90s/it]\n"
     ]
    },
    {
     "name": "stdout",
     "output_type": "stream",
     "text": [
      "Epoch: 033, Average Loss: 0.5742\n",
      "Validation: {'precision': 0.7512094535643181, 'recall': 0.8750115473433024, 'f1': 0.8083980491377016, 'auc': 0.6745807223953875, 'prauc': 0.8134861171226346}\n",
      "Test:       {'precision': 0.7605744330214544, 'recall': 0.876469524325487, 'f1': 0.8144195572276443, 'auc': 0.6886247426406309, 'prauc': 0.825637649367764}\n"
     ]
    },
    {
     "name": "stderr",
     "output_type": "stream",
     "text": [
      "Training Batches: 100%|██████████| 1/1 [00:01<00:00,  1.23s/it]\n",
      "Running inference: 100%|██████████| 1/1 [00:04<00:00,  4.28s/it]\n",
      "Running inference: 100%|██████████| 1/1 [00:04<00:00,  4.32s/it]\n"
     ]
    },
    {
     "name": "stdout",
     "output_type": "stream",
     "text": [
      "Epoch: 034, Average Loss: 0.5732\n",
      "Validation: {'precision': 0.7523520969536338, 'recall': 0.8716859122393794, 'f1': 0.8076346935327459, 'auc': 0.6750849698800045, 'prauc': 0.8137668740161343}\n",
      "Test:       {'precision': 0.7620515252088177, 'recall': 0.872038343280094, 'f1': 0.8133434498127888, 'auc': 0.6893891757234691, 'prauc': 0.8261309653469121}\n"
     ]
    },
    {
     "name": "stderr",
     "output_type": "stream",
     "text": [
      "Training Batches: 100%|██████████| 1/1 [00:02<00:00,  2.16s/it]\n",
      "Running inference: 100%|██████████| 1/1 [00:04<00:00,  4.45s/it]\n",
      "Running inference: 100%|██████████| 1/1 [00:03<00:00,  3.55s/it]\n"
     ]
    },
    {
     "name": "stdout",
     "output_type": "stream",
     "text": [
      "Epoch: 035, Average Loss: 0.5729\n",
      "Validation: {'precision': 0.7532343076179897, 'recall': 0.8713163972278324, 'f1': 0.8079838901728522, 'auc': 0.6758951715143978, 'prauc': 0.8141915182396589}\n",
      "Test:       {'precision': 0.7633206470022491, 'recall': 0.8705914270203738, 'f1': 0.8134347225240326, 'auc': 0.6901749237092949, 'prauc': 0.8265619467360001}\n"
     ]
    },
    {
     "name": "stderr",
     "output_type": "stream",
     "text": [
      "Training Batches: 100%|██████████| 1/1 [00:02<00:00,  2.16s/it]\n",
      "Running inference: 100%|██████████| 1/1 [00:04<00:00,  4.54s/it]\n",
      "Running inference: 100%|██████████| 1/1 [00:03<00:00,  3.50s/it]\n"
     ]
    },
    {
     "name": "stdout",
     "output_type": "stream",
     "text": [
      "Epoch: 036, Average Loss: 0.5712\n",
      "Validation: {'precision': 0.7550036170719757, 'recall': 0.8677136258652491, 'f1': 0.8074443344027796, 'auc': 0.6767695396404981, 'prauc': 0.8145816011093796}\n",
      "Test:       {'precision': 0.7654390029553683, 'recall': 0.8664315427736783, 'f1': 0.8128101752941767, 'auc': 0.6909117296654339, 'prauc': 0.8268825475591763}\n"
     ]
    },
    {
     "name": "stderr",
     "output_type": "stream",
     "text": [
      "Training Batches: 100%|██████████| 1/1 [00:02<00:00,  2.22s/it]\n",
      "Running inference: 100%|██████████| 1/1 [00:03<00:00,  3.99s/it]\n",
      "Running inference: 100%|██████████| 1/1 [00:03<00:00,  4.00s/it]\n"
     ]
    },
    {
     "name": "stdout",
     "output_type": "stream",
     "text": [
      "Epoch: 037, Average Loss: 0.5715\n",
      "Validation: {'precision': 0.7578784925269997, 'recall': 0.8619861431862706, 'f1': 0.8065868472479886, 'auc': 0.6774090949466238, 'prauc': 0.8148205130522228}\n",
      "Test:       {'precision': 0.7695489941590123, 'recall': 0.8579309097478224, 'f1': 0.8113401130333796, 'auc': 0.6914424122849626, 'prauc': 0.8270611676703575}\n"
     ]
    },
    {
     "name": "stderr",
     "output_type": "stream",
     "text": [
      "Training Batches: 100%|██████████| 1/1 [00:02<00:00,  2.59s/it]\n",
      "Running inference: 100%|██████████| 1/1 [00:03<00:00,  3.96s/it]\n",
      "Running inference: 100%|██████████| 1/1 [00:04<00:00,  4.09s/it]\n"
     ]
    },
    {
     "name": "stdout",
     "output_type": "stream",
     "text": [
      "Epoch: 038, Average Loss: 0.5709\n",
      "Validation: {'precision': 0.7624081261865039, 'recall': 0.8528406466504823, 'f1': 0.8050928702220866, 'auc': 0.6778042281044591, 'prauc': 0.8149732387155416}\n",
      "Test:       {'precision': 0.7728437939297338, 'recall': 0.8451799602090385, 'f1': 0.8073949239540499, 'auc': 0.6916780554244555, 'prauc': 0.8271329240148965}\n"
     ]
    },
    {
     "name": "stderr",
     "output_type": "stream",
     "text": [
      "Training Batches: 100%|██████████| 1/1 [00:02<00:00,  2.13s/it]\n",
      "Running inference: 100%|██████████| 1/1 [00:04<00:00,  4.48s/it]\n",
      "Running inference: 100%|██████████| 1/1 [00:03<00:00,  3.50s/it]\n"
     ]
    },
    {
     "name": "stdout",
     "output_type": "stream",
     "text": [
      "Epoch: 039, Average Loss: 0.5698\n",
      "Validation: {'precision': 0.7633880236522333, 'recall': 0.8467436489599568, 'f1': 0.8029081940316178, 'auc': 0.6781437644341802, 'prauc': 0.8150724548440406}\n",
      "Test:       {'precision': 0.7739217485602954, 'recall': 0.8389401338389952, 'f1': 0.8051204115836906, 'auc': 0.6919673177829473, 'prauc': 0.8272281999047675}\n"
     ]
    },
    {
     "name": "stderr",
     "output_type": "stream",
     "text": [
      "Training Batches: 100%|██████████| 1/1 [00:02<00:00,  2.13s/it]\n",
      "Running inference: 100%|██████████| 1/1 [00:03<00:00,  3.86s/it]\n",
      "Running inference: 100%|██████████| 1/1 [00:04<00:00,  4.89s/it]\n"
     ]
    },
    {
     "name": "stdout",
     "output_type": "stream",
     "text": [
      "Epoch: 040, Average Loss: 0.5709\n",
      "Validation: {'precision': 0.7584690553739751, 'recall': 0.8604157043871958, 'f1': 0.8062324122448391, 'auc': 0.6792065238456693, 'prauc': 0.8157132570262164}\n",
      "Test:       {'precision': 0.7701018329932626, 'recall': 0.854856212695917, 'f1': 0.8102687131374524, 'auc': 0.6926349072828475, 'prauc': 0.827588507541145}\n"
     ]
    },
    {
     "name": "stderr",
     "output_type": "stream",
     "text": [
      "Training Batches: 100%|██████████| 1/1 [00:01<00:00,  1.22s/it]\n",
      "Running inference: 100%|██████████| 1/1 [00:04<00:00,  4.39s/it]\n",
      "Running inference: 100%|██████████| 1/1 [00:04<00:00,  4.47s/it]\n"
     ]
    },
    {
     "name": "stdout",
     "output_type": "stream",
     "text": [
      "Epoch: 041, Average Loss: 0.5689\n",
      "Validation: {'precision': 0.7531790537866256, 'recall': 0.8809237875280546, 'f1': 0.8120582424964404, 'auc': 0.6800978193284775, 'prauc': 0.8161861814360806}\n",
      "Test:       {'precision': 0.7636134718281683, 'recall': 0.8775547115202771, 'f1': 0.8166287924651368, 'auc': 0.6927065217895385, 'prauc': 0.8276691843093327}\n"
     ]
    },
    {
     "name": "stderr",
     "output_type": "stream",
     "text": [
      "Training Batches: 100%|██████████| 1/1 [00:02<00:00,  2.19s/it]\n",
      "Running inference: 100%|██████████| 1/1 [00:04<00:00,  4.53s/it]\n",
      "Running inference: 100%|██████████| 1/1 [00:03<00:00,  3.51s/it]\n"
     ]
    },
    {
     "name": "stdout",
     "output_type": "stream",
     "text": [
      "Epoch: 042, Average Loss: 0.5682\n",
      "Validation: {'precision': 0.7512317197147483, 'recall': 0.8873903002301271, 'f1': 0.8136540692333929, 'auc': 0.6802666285792729, 'prauc': 0.8162491721222773}\n",
      "Test:       {'precision': 0.7610048219001703, 'recall': 0.8848797250851104, 'f1': 0.8182806439655881, 'auc': 0.6925787116460072, 'prauc': 0.8275436006103319}\n"
     ]
    },
    {
     "name": "stderr",
     "output_type": "stream",
     "text": [
      "Training Batches: 100%|██████████| 1/1 [00:02<00:00,  2.14s/it]\n",
      "Running inference: 100%|██████████| 1/1 [00:04<00:00,  4.45s/it]\n",
      "Running inference: 100%|██████████| 1/1 [00:03<00:00,  3.53s/it]\n"
     ]
    },
    {
     "name": "stdout",
     "output_type": "stream",
     "text": [
      "Epoch: 043, Average Loss: 0.5676\n",
      "Validation: {'precision': 0.7516053249798342, 'recall': 0.886651270207033, 'f1': 0.8135621904136634, 'auc': 0.6805167638366252, 'prauc': 0.816352455954314}\n",
      "Test:       {'precision': 0.7616669267982193, 'recall': 0.8826189184292976, 'f1': 0.8176943649995599, 'auc': 0.6927075721752739, 'prauc': 0.827613154362616}\n"
     ]
    },
    {
     "name": "stderr",
     "output_type": "stream",
     "text": [
      "Training Batches: 100%|██████████| 1/1 [00:02<00:00,  2.16s/it]\n",
      "Running inference: 100%|██████████| 1/1 [00:03<00:00,  3.94s/it]\n",
      "Running inference: 100%|██████████| 1/1 [00:04<00:00,  4.00s/it]\n"
     ]
    },
    {
     "name": "stdout",
     "output_type": "stream",
     "text": [
      "Epoch: 044, Average Loss: 0.5665\n",
      "Validation: {'precision': 0.7542662116034968, 'recall': 0.8778752886827917, 'f1': 0.8113900223503899, 'auc': 0.6808832708861577, 'prauc': 0.8165536399521509}\n",
      "Test:       {'precision': 0.7644120212506824, 'recall': 0.8717670464813965, 'f1': 0.8145675728652751, 'auc': 0.6929225246976405, 'prauc': 0.8277597969683649}\n"
     ]
    },
    {
     "name": "stderr",
     "output_type": "stream",
     "text": [
      "Training Batches: 100%|██████████| 1/1 [00:02<00:00,  2.64s/it]\n",
      "Running inference: 100%|██████████| 1/1 [00:03<00:00,  3.97s/it]\n",
      "Running inference: 100%|██████████| 1/1 [00:04<00:00,  4.01s/it]\n"
     ]
    },
    {
     "name": "stdout",
     "output_type": "stream",
     "text": [
      "Epoch: 045, Average Loss: 0.5679\n",
      "Validation: {'precision': 0.758414239481587, 'recall': 0.8659584295604009, 'f1': 0.8086262620041822, 'auc': 0.6812461744375716, 'prauc': 0.8166183417199319}\n",
      "Test:       {'precision': 0.7678413031200968, 'recall': 0.8610960390659602, 'f1': 0.8117993044491747, 'auc': 0.6934248072651177, 'prauc': 0.8279083005954165}\n"
     ]
    },
    {
     "name": "stderr",
     "output_type": "stream",
     "text": [
      "Training Batches: 100%|██████████| 1/1 [00:01<00:00,  1.70s/it]\n",
      "Running inference: 100%|██████████| 1/1 [00:03<00:00,  3.84s/it]\n",
      "Running inference: 100%|██████████| 1/1 [00:04<00:00,  4.95s/it]\n"
     ]
    },
    {
     "name": "stdout",
     "output_type": "stream",
     "text": [
      "Epoch: 046, Average Loss: 0.5661\n",
      "Validation: {'precision': 0.7623999339764278, 'recall': 0.8533949191678029, 'f1': 0.805335188110788, 'auc': 0.6814998728177134, 'prauc': 0.8164087399175113}\n",
      "Test:       {'precision': 0.771863430686325, 'recall': 0.8484355217934089, 'f1': 0.8083401492343963, 'auc': 0.6941884376947053, 'prauc': 0.8279518920288045}\n"
     ]
    },
    {
     "name": "stderr",
     "output_type": "stream",
     "text": [
      "Training Batches: 100%|██████████| 1/1 [00:01<00:00,  1.21s/it]\n",
      "Running inference: 100%|██████████| 1/1 [00:04<00:00,  4.29s/it]\n",
      "Running inference: 100%|██████████| 1/1 [00:04<00:00,  4.57s/it]\n"
     ]
    },
    {
     "name": "stdout",
     "output_type": "stream",
     "text": [
      "Epoch: 047, Average Loss: 0.5654\n",
      "Validation: {'precision': 0.7616622864645518, 'recall': 0.8567205542717258, 'f1': 0.806399716767777, 'auc': 0.6820415381385359, 'prauc': 0.8162229776617835}\n",
      "Test:       {'precision': 0.7716883755216091, 'recall': 0.8518719479102442, 'f1': 0.8098001239605647, 'auc': 0.695518107124045, 'prauc': 0.8281660439312886}\n"
     ]
    },
    {
     "name": "stderr",
     "output_type": "stream",
     "text": [
      "Training Batches: 100%|██████████| 1/1 [00:02<00:00,  2.14s/it]\n",
      "Running inference: 100%|██████████| 1/1 [00:04<00:00,  4.43s/it]\n",
      "Running inference: 100%|██████████| 1/1 [00:03<00:00,  3.50s/it]\n"
     ]
    },
    {
     "name": "stdout",
     "output_type": "stream",
     "text": [
      "Epoch: 048, Average Loss: 0.5645\n",
      "Validation: {'precision': 0.7565127057689336, 'recall': 0.8745496535788687, 'f1': 0.8112601175671591, 'auc': 0.6828204892682377, 'prauc': 0.8163674657607054}\n",
      "Test:       {'precision': 0.7662677340090621, 'recall': 0.8742991499359067, 'f1': 0.8167264997728391, 'auc': 0.6969585030647679, 'prauc': 0.8286600331584684}\n"
     ]
    },
    {
     "name": "stderr",
     "output_type": "stream",
     "text": [
      "Training Batches: 100%|██████████| 1/1 [00:02<00:00,  2.11s/it]\n",
      "Running inference: 100%|██████████| 1/1 [00:04<00:00,  4.44s/it]\n",
      "Running inference: 100%|██████████| 1/1 [00:03<00:00,  3.55s/it]\n"
     ]
    },
    {
     "name": "stdout",
     "output_type": "stream",
     "text": [
      "Epoch: 049, Average Loss: 0.5636\n",
      "Validation: {'precision': 0.7466094552135877, 'recall': 0.9001385681284987, 'f1': 0.8162171168387228, 'auc': 0.6827102949014034, 'prauc': 0.8163544008193453}\n",
      "Test:       {'precision': 0.7594965675051415, 'recall': 0.9004340748771021, 'f1': 0.8239821201594942, 'auc': 0.6975735534593027, 'prauc': 0.8289585338487904}\n"
     ]
    },
    {
     "name": "stderr",
     "output_type": "stream",
     "text": [
      "Training Batches: 100%|██████████| 1/1 [00:02<00:00,  2.20s/it]\n",
      "Running inference: 100%|██████████| 1/1 [00:03<00:00,  3.90s/it]\n",
      "Running inference: 100%|██████████| 1/1 [00:03<00:00,  3.90s/it]\n"
     ]
    },
    {
     "name": "stdout",
     "output_type": "stream",
     "text": [
      "Epoch: 050, Average Loss: 0.5627\n",
      "Validation: {'precision': 0.7419792137364497, 'recall': 0.9101154734402678, 'f1': 0.8174915936073052, 'auc': 0.6822681648605435, 'prauc': 0.8161318544855943}\n",
      "Test:       {'precision': 0.7541143028121229, 'recall': 0.9116476758899333, 'f1': 0.8254319118539996, 'auc': 0.6974234672107427, 'prauc': 0.8288153239292946}\n"
     ]
    },
    {
     "name": "stderr",
     "output_type": "stream",
     "text": [
      "Training Batches: 100%|██████████| 1/1 [00:02<00:00,  2.67s/it]\n",
      "Running inference: 100%|██████████| 1/1 [00:03<00:00,  3.95s/it]\n",
      "Running inference: 100%|██████████| 1/1 [00:04<00:00,  4.05s/it]\n"
     ]
    },
    {
     "name": "stdout",
     "output_type": "stream",
     "text": [
      "Epoch: 051, Average Loss: 0.5628\n",
      "Validation: {'precision': 0.7437155582390399, 'recall': 0.9101154734402678, 'f1': 0.8185443619492386, 'auc': 0.6828714631211744, 'prauc': 0.8165831335481614}\n",
      "Test:       {'precision': 0.7557039927943893, 'recall': 0.9105624886951432, 'f1': 0.825937161804875, 'auc': 0.6978365958116087, 'prauc': 0.8289831635733885}\n"
     ]
    },
    {
     "name": "stderr",
     "output_type": "stream",
     "text": [
      "Training Batches: 100%|██████████| 1/1 [00:02<00:00,  2.16s/it]\n",
      "Running inference: 100%|██████████| 1/1 [00:04<00:00,  4.59s/it]\n",
      "Running inference: 100%|██████████| 1/1 [00:03<00:00,  3.49s/it]\n"
     ]
    },
    {
     "name": "stdout",
     "output_type": "stream",
     "text": [
      "Epoch: 052, Average Loss: 0.5624\n",
      "Validation: {'precision': 0.7526344547648485, 'recall': 0.8907159353340501, 'f1': 0.8158740854052312, 'auc': 0.6834571779260001, 'prauc': 0.8170351016586179}\n",
      "Test:       {'precision': 0.7631314303390089, 'recall': 0.8921143063837111, 'f1': 0.8225974517734728, 'auc': 0.6982244953362279, 'prauc': 0.8289414785990906}\n"
     ]
    },
    {
     "name": "stderr",
     "output_type": "stream",
     "text": [
      "Training Batches: 100%|██████████| 1/1 [00:02<00:00,  2.22s/it]\n",
      "Running inference: 100%|██████████| 1/1 [00:03<00:00,  3.90s/it]\n",
      "Running inference: 100%|██████████| 1/1 [00:04<00:00,  4.89s/it]\n"
     ]
    },
    {
     "name": "stdout",
     "output_type": "stream",
     "text": [
      "Epoch: 053, Average Loss: 0.5615\n",
      "Validation: {'precision': 0.7584735528534269, 'recall': 0.8703002309460782, 'f1': 0.8105480463005108, 'auc': 0.6837208692000839, 'prauc': 0.8172760320756984}\n",
      "Test:       {'precision': 0.7676454205452632, 'recall': 0.872400072345024, 'f1': 0.8166772436969562, 'auc': 0.6982053208419083, 'prauc': 0.8288659320006754}\n"
     ]
    },
    {
     "name": "stderr",
     "output_type": "stream",
     "text": [
      "Training Batches: 100%|██████████| 1/1 [00:01<00:00,  1.18s/it]\n",
      "Running inference: 100%|██████████| 1/1 [00:04<00:00,  4.31s/it]\n",
      "Running inference: 100%|██████████| 1/1 [00:04<00:00,  4.39s/it]\n"
     ]
    },
    {
     "name": "stdout",
     "output_type": "stream",
     "text": [
      "Epoch: 054, Average Loss: 0.5599\n",
      "Validation: {'precision': 0.762068120558064, 'recall': 0.8618937644333838, 'f1': 0.8089127746263068, 'auc': 0.6836778089116426, 'prauc': 0.8172764108585724}\n",
      "Test:       {'precision': 0.7707961731792031, 'recall': 0.8597395550724726, 'f1': 0.8128419922782046, 'auc': 0.6980685824196267, 'prauc': 0.8286793175866476}\n"
     ]
    },
    {
     "name": "stderr",
     "output_type": "stream",
     "text": [
      "Training Batches: 100%|██████████| 1/1 [00:02<00:00,  2.21s/it]\n",
      "Running inference: 100%|██████████| 1/1 [00:04<00:00,  4.40s/it]\n",
      "Running inference: 100%|██████████| 1/1 [00:03<00:00,  3.48s/it]\n"
     ]
    },
    {
     "name": "stdout",
     "output_type": "stream",
     "text": [
      "Epoch: 055, Average Loss: 0.5609\n",
      "Validation: {'precision': 0.7599259080287026, 'recall': 0.8716859122393794, 'f1': 0.8119783101419411, 'auc': 0.6846049374989907, 'prauc': 0.8177141945034748}\n",
      "Test:       {'precision': 0.7689792663470741, 'recall': 0.872038343280094, 'f1': 0.8172726452436231, 'auc': 0.6988385052543268, 'prauc': 0.8288292893366145}\n"
     ]
    },
    {
     "name": "stderr",
     "output_type": "stream",
     "text": [
      "Training Batches: 100%|██████████| 1/1 [00:02<00:00,  2.12s/it]\n",
      "Running inference: 100%|██████████| 1/1 [00:04<00:00,  4.41s/it]\n",
      "Running inference: 100%|██████████| 1/1 [00:03<00:00,  3.46s/it]\n"
     ]
    },
    {
     "name": "stdout",
     "output_type": "stream",
     "text": [
      "Epoch: 056, Average Loss: 0.5589\n",
      "Validation: {'precision': 0.7561859732066538, 'recall': 0.8864665127012595, 'f1': 0.8161598929682438, 'auc': 0.6851318153555452, 'prauc': 0.8180813625104274}\n",
      "Test:       {'precision': 0.7654850019472025, 'recall': 0.8884970157344108, 'f1': 0.8224166024015134, 'auc': 0.6989093963821622, 'prauc': 0.828864183147785}\n"
     ]
    },
    {
     "name": "stderr",
     "output_type": "stream",
     "text": [
      "Training Batches: 100%|██████████| 1/1 [00:02<00:00,  2.18s/it]\n",
      "Running inference: 100%|██████████| 1/1 [00:03<00:00,  3.99s/it]\n",
      "Running inference: 100%|██████████| 1/1 [00:03<00:00,  3.99s/it]\n"
     ]
    },
    {
     "name": "stdout",
     "output_type": "stream",
     "text": [
      "Epoch: 057, Average Loss: 0.5607\n",
      "Validation: {'precision': 0.7551403330460831, 'recall': 0.8922863741331248, 'f1': 0.8180047375813845, 'auc': 0.6851414650591902, 'prauc': 0.8182764505473986}\n",
      "Test:       {'precision': 0.763391136800953, 'recall': 0.8957315970330115, 'f1': 0.8242832721916974, 'auc': 0.6986508825796776, 'prauc': 0.828722282221997}\n"
     ]
    },
    {
     "name": "stderr",
     "output_type": "stream",
     "text": [
      "Training Batches: 100%|██████████| 1/1 [00:02<00:00,  2.61s/it]\n",
      "Running inference: 100%|██████████| 1/1 [00:04<00:00,  4.04s/it]\n",
      "Running inference: 100%|██████████| 1/1 [00:04<00:00,  4.04s/it]\n"
     ]
    },
    {
     "name": "stdout",
     "output_type": "stream",
     "text": [
      "Epoch: 058, Average Loss: 0.5572\n",
      "Validation: {'precision': 0.7557610910795142, 'recall': 0.8907159353340501, 'f1': 0.8177076658126976, 'auc': 0.6849156458437636, 'prauc': 0.8187731890444648}\n",
      "Test:       {'precision': 0.7645014289018579, 'recall': 0.895098571169384, 'f1': 0.8246615238784316, 'auc': 0.6977137403177722, 'prauc': 0.8287364634718821}\n"
     ]
    },
    {
     "name": "stderr",
     "output_type": "stream",
     "text": [
      "Training Batches: 100%|██████████| 1/1 [00:01<00:00,  1.71s/it]\n",
      "Running inference: 100%|██████████| 1/1 [00:03<00:00,  3.88s/it]\n",
      "Running inference: 100%|██████████| 1/1 [00:04<00:00,  4.98s/it]\n"
     ]
    },
    {
     "name": "stdout",
     "output_type": "stream",
     "text": [
      "Epoch: 059, Average Loss: 0.5560\n",
      "Validation: {'precision': 0.7557299843008196, 'recall': 0.8894226327936355, 'f1': 0.8171440646270641, 'auc': 0.6849477341365332, 'prauc': 0.8190256084086438}\n",
      "Test:       {'precision': 0.7644736842099346, 'recall': 0.8931994935785013, 'f1': 0.8238385136715525, 'auc': 0.6975207864400512, 'prauc': 0.8288908576666549}\n"
     ]
    },
    {
     "name": "stderr",
     "output_type": "stream",
     "text": [
      "Training Batches: 100%|██████████| 1/1 [00:01<00:00,  1.24s/it]\n",
      "Running inference: 100%|██████████| 1/1 [00:04<00:00,  4.38s/it]\n",
      "Running inference: 100%|██████████| 1/1 [00:04<00:00,  4.49s/it]\n"
     ]
    },
    {
     "name": "stdout",
     "output_type": "stream",
     "text": [
      "Epoch: 060, Average Loss: 0.5559\n",
      "Validation: {'precision': 0.7564978405961864, 'recall': 0.8899769053109561, 'f1': 0.8178268201595016, 'auc': 0.6860171251958204, 'prauc': 0.8192978359302471}\n",
      "Test:       {'precision': 0.7654090979655601, 'recall': 0.8916621450525486, 'f1': 0.8237259766490552, 'auc': 0.6992171296747169, 'prauc': 0.8292703524603271}\n"
     ]
    },
    {
     "name": "stderr",
     "output_type": "stream",
     "text": [
      "Training Batches: 100%|██████████| 1/1 [00:02<00:00,  2.15s/it]\n",
      "Running inference: 100%|██████████| 1/1 [00:04<00:00,  4.53s/it]\n",
      "Running inference: 100%|██████████| 1/1 [00:03<00:00,  3.56s/it]\n"
     ]
    },
    {
     "name": "stdout",
     "output_type": "stream",
     "text": [
      "Epoch: 061, Average Loss: 0.5538\n",
      "Validation: {'precision': 0.756139662612196, 'recall': 0.8902540415696163, 'f1': 0.8177344031784327, 'auc': 0.6862801805584715, 'prauc': 0.8190660432888024}\n",
      "Test:       {'precision': 0.7666329468517884, 'recall': 0.8909386869226885, 'f1': 0.82412480158563, 'auc': 0.7000746804439223, 'prauc': 0.8293943600466904}\n"
     ]
    },
    {
     "name": "stderr",
     "output_type": "stream",
     "text": [
      "Training Batches: 100%|██████████| 1/1 [00:02<00:00,  2.20s/it]\n",
      "Running inference: 100%|██████████| 1/1 [00:04<00:00,  4.48s/it]\n",
      "Running inference: 100%|██████████| 1/1 [00:03<00:00,  3.51s/it]\n"
     ]
    },
    {
     "name": "stdout",
     "output_type": "stream",
     "text": [
      "Epoch: 062, Average Loss: 0.5534\n",
      "Validation: {'precision': 0.7512269938644546, 'recall': 0.9049422632786097, 'f1': 0.8209511787842654, 'auc': 0.6856746616547424, 'prauc': 0.818678125413885}\n",
      "Test:       {'precision': 0.7619011290808957, 'recall': 0.9031470428640774, 'f1': 0.8265331407772482, 'auc': 0.6992784186914437, 'prauc': 0.8290328293749996}\n"
     ]
    },
    {
     "name": "stderr",
     "output_type": "stream",
     "text": [
      "Training Batches: 100%|██████████| 1/1 [00:02<00:00,  2.18s/it]\n",
      "Running inference: 100%|██████████| 1/1 [00:03<00:00,  3.97s/it]\n",
      "Running inference: 100%|██████████| 1/1 [00:03<00:00,  4.00s/it]\n"
     ]
    },
    {
     "name": "stdout",
     "output_type": "stream",
     "text": [
      "Epoch: 063, Average Loss: 0.5555\n",
      "Validation: {'precision': 0.7562368030024585, 'recall': 0.8933025404148791, 'f1': 0.8190750416203103, 'auc': 0.6851722310599332, 'prauc': 0.81866214196804}\n",
      "Test:       {'precision': 0.7649516440999884, 'recall': 0.8941038162408264, 'f1': 0.8245006830169375, 'auc': 0.699051545281911, 'prauc': 0.8288700484871557}\n"
     ]
    },
    {
     "name": "stderr",
     "output_type": "stream",
     "text": [
      "Training Batches: 100%|██████████| 1/1 [00:02<00:00,  2.60s/it]\n",
      "Running inference: 100%|██████████| 1/1 [00:03<00:00,  3.96s/it]\n",
      "Running inference: 100%|██████████| 1/1 [00:04<00:00,  4.04s/it]\n"
     ]
    },
    {
     "name": "stdout",
     "output_type": "stream",
     "text": [
      "Epoch: 064, Average Loss: 0.5525\n",
      "Validation: {'precision': 0.75998373322427, 'recall': 0.8631870669737983, 'f1': 0.80830449328941, 'auc': 0.6789072114375232, 'prauc': 0.8165842553024605}\n",
      "Test:       {'precision': 0.7673410404618116, 'recall': 0.8643516006503306, 'f1': 0.8129624854482148, 'auc': 0.6925077511530758, 'prauc': 0.8266885423027657}\n"
     ]
    },
    {
     "name": "stderr",
     "output_type": "stream",
     "text": [
      "Training Batches: 100%|██████████| 1/1 [00:02<00:00,  2.13s/it]\n",
      "Running inference: 100%|██████████| 1/1 [00:04<00:00,  4.50s/it]\n",
      "Running inference: 100%|██████████| 1/1 [00:03<00:00,  3.47s/it]\n"
     ]
    },
    {
     "name": "stdout",
     "output_type": "stream",
     "text": [
      "Epoch: 065, Average Loss: 0.5550\n",
      "Validation: {'precision': 0.7555870317904032, 'recall': 0.8870207852185801, 'f1': 0.8160455480844782, 'auc': 0.6819523793181415, 'prauc': 0.8177017200415264}\n",
      "Test:       {'precision': 0.7640973788591707, 'recall': 0.8884065834681782, 'f1': 0.8215764115026225, 'auc': 0.6956442227773808, 'prauc': 0.8279737504292259}\n"
     ]
    },
    {
     "name": "stderr",
     "output_type": "stream",
     "text": [
      "Training Batches: 100%|██████████| 1/1 [00:02<00:00,  2.13s/it]\n",
      "Running inference: 100%|██████████| 1/1 [00:03<00:00,  3.95s/it]\n",
      "Running inference: 100%|██████████| 1/1 [00:04<00:00,  4.93s/it]\n"
     ]
    },
    {
     "name": "stdout",
     "output_type": "stream",
     "text": [
      "Epoch: 066, Average Loss: 0.5523\n",
      "Validation: {'precision': 0.7537192630842875, 'recall': 0.9032794457266482, 'f1': 0.8217497219078475, 'auc': 0.685208104539802, 'prauc': 0.8188081138665396}\n",
      "Test:       {'precision': 0.7622819712081939, 'recall': 0.9050461204549601, 'f1': 0.8275519857748003, 'auc': 0.6990345012869603, 'prauc': 0.8292736604865234}\n"
     ]
    },
    {
     "name": "stderr",
     "output_type": "stream",
     "text": [
      "Training Batches: 100%|██████████| 1/1 [00:01<00:00,  1.20s/it]\n",
      "Running inference: 100%|██████████| 1/1 [00:04<00:00,  4.44s/it]\n",
      "Running inference: 100%|██████████| 1/1 [00:04<00:00,  4.48s/it]\n"
     ]
    },
    {
     "name": "stdout",
     "output_type": "stream",
     "text": [
      "Epoch: 067, Average Loss: 0.5511\n",
      "Validation: {'precision': 0.7563670558727714, 'recall': 0.8916397228629176, 'f1': 0.8184516188776475, 'auc': 0.686225522456758, 'prauc': 0.818922184463335}\n",
      "Test:       {'precision': 0.7661221645887077, 'recall': 0.8949177066369189, 'f1': 0.8255265852274959, 'auc': 0.7004036394557701, 'prauc': 0.8295762452476052}\n"
     ]
    },
    {
     "name": "stderr",
     "output_type": "stream",
     "text": [
      "Training Batches: 100%|██████████| 1/1 [00:02<00:00,  2.18s/it]\n",
      "Running inference: 100%|██████████| 1/1 [00:04<00:00,  4.49s/it]\n",
      "Running inference: 100%|██████████| 1/1 [00:03<00:00,  3.45s/it]\n"
     ]
    },
    {
     "name": "stdout",
     "output_type": "stream",
     "text": [
      "Epoch: 068, Average Loss: 0.5495\n",
      "Validation: {'precision': 0.7567270730361992, 'recall': 0.891085450345597, 'f1': 0.8184286391866286, 'auc': 0.6868454149776321, 'prauc': 0.8189633013014167}\n",
      "Test:       {'precision': 0.7669850143638737, 'recall': 0.8932899258447338, 'f1': 0.8253331612562623, 'auc': 0.7012635189103322, 'prauc': 0.8298593042048372}\n"
     ]
    },
    {
     "name": "stderr",
     "output_type": "stream",
     "text": [
      "Training Batches: 100%|██████████| 1/1 [00:02<00:00,  2.16s/it]\n",
      "Running inference: 100%|██████████| 1/1 [00:04<00:00,  4.54s/it]\n",
      "Running inference: 100%|██████████| 1/1 [00:03<00:00,  3.49s/it]\n"
     ]
    },
    {
     "name": "stdout",
     "output_type": "stream",
     "text": [
      "Epoch: 069, Average Loss: 0.5507\n",
      "Validation: {'precision': 0.751932052949153, 'recall': 0.9078060046180989, 'f1': 0.8225495890837564, 'auc': 0.6865628785187099, 'prauc': 0.8188996735699131}\n",
      "Test:       {'precision': 0.7616776440300085, 'recall': 0.9098390305652831, 'f1': 0.8291919017431791, 'auc': 0.7006492612597486, 'prauc': 0.8297433063702021}\n"
     ]
    },
    {
     "name": "stderr",
     "output_type": "stream",
     "text": [
      "Training Batches: 100%|██████████| 1/1 [00:02<00:00,  2.14s/it]\n",
      "Running inference: 100%|██████████| 1/1 [00:03<00:00,  3.89s/it]\n",
      "Running inference: 100%|██████████| 1/1 [00:03<00:00,  4.00s/it]\n"
     ]
    },
    {
     "name": "stdout",
     "output_type": "stream",
     "text": [
      "Epoch: 070, Average Loss: 0.5521\n",
      "Validation: {'precision': 0.7541161011047738, 'recall': 0.9012471131631397, 'f1': 0.8211429964696643, 'auc': 0.6857461663625058, 'prauc': 0.8184619147091174}\n",
      "Test:       {'precision': 0.7642966360850425, 'recall': 0.9040513655264025, 'f1': 0.8283204855472835, 'auc': 0.6994515936075822, 'prauc': 0.8291942341637083}\n",
      "\n",
      "Early stopping triggered after 70 epochs (no improvement for 10 epochs).\n",
      "\n",
      "Best validation performance:\n",
      "{'precision': 0.7564978405961864, 'recall': 0.8899769053109561, 'f1': 0.8178268201595016, 'auc': 0.6860171251958204, 'prauc': 0.8192978359302471}\n",
      "Corresponding test performance:\n",
      "{'precision': 0.7654090979655601, 'recall': 0.8916621450525486, 'f1': 0.8237259766490552, 'auc': 0.6992171296747169, 'prauc': 0.8292703524603271}\n",
      "Corresponding test-long performance:\n",
      "{'precision': 0.8871242200768942, 'recall': 0.977805564235768, 'f1': 0.9302602180573823, 'auc': 0.5639995995080981, 'prauc': 0.9073015354951075}\n",
      "[INFO] Random seed set to 958682846\n",
      "Training with seed: 958682846\n"
     ]
    },
    {
     "name": "stderr",
     "output_type": "stream",
     "text": [
      "Training Batches: 100%|██████████| 1/1 [00:02<00:00,  2.58s/it]\n",
      "Running inference: 100%|██████████| 1/1 [00:03<00:00,  3.93s/it]\n",
      "Running inference: 100%|██████████| 1/1 [00:03<00:00,  3.99s/it]\n"
     ]
    },
    {
     "name": "stdout",
     "output_type": "stream",
     "text": [
      "Epoch: 001, Average Loss: 0.6942\n",
      "Validation: {'precision': 0.7279625292733227, 'recall': 0.7178752886829396, 'f1': 0.7228837159298036, 'auc': 0.5599077827484293, 'prauc': 0.7339440225434128}\n",
      "Test:       {'precision': 0.7207762764117885, 'recall': 0.7187556520159895, 'f1': 0.7197645410713527, 'auc': 0.5403868459679081, 'prauc': 0.7289659692356065}\n"
     ]
    },
    {
     "name": "stderr",
     "output_type": "stream",
     "text": [
      "Training Batches: 100%|██████████| 1/1 [00:01<00:00,  1.69s/it]\n",
      "Running inference: 100%|██████████| 1/1 [00:04<00:00,  4.42s/it]\n",
      "Running inference: 100%|██████████| 1/1 [00:04<00:00,  4.03s/it]\n"
     ]
    },
    {
     "name": "stdout",
     "output_type": "stream",
     "text": [
      "Epoch: 002, Average Loss: 0.6838\n",
      "Validation: {'precision': 0.7675312199800504, 'recall': 0.738106235565138, 'f1': 0.7525311934942548, 'auc': 0.6457905792244707, 'prauc': 0.7931474726462181}\n",
      "Test:       {'precision': 0.7793851717894933, 'recall': 0.7405498281780244, 'f1': 0.7594713606413264, 'auc': 0.6537766599295322, 'prauc': 0.7990363733131869}\n"
     ]
    },
    {
     "name": "stderr",
     "output_type": "stream",
     "text": [
      "Training Batches: 100%|██████████| 1/1 [00:01<00:00,  1.23s/it]\n",
      "Running inference: 100%|██████████| 1/1 [00:04<00:00,  4.51s/it]\n",
      "Running inference: 100%|██████████| 1/1 [00:04<00:00,  4.05s/it]\n"
     ]
    },
    {
     "name": "stdout",
     "output_type": "stream",
     "text": [
      "Epoch: 003, Average Loss: 0.6739\n",
      "Validation: {'precision': 0.7703696535699919, 'recall': 0.7354272517314222, 'f1': 0.7524930239731047, 'auc': 0.6550462600332693, 'prauc': 0.8049223895275683}\n",
      "Test:       {'precision': 0.7813455657484887, 'recall': 0.7393742087170018, 'f1': 0.7597806845300982, 'auc': 0.6663317918030831, 'prauc': 0.8120663959273277}\n"
     ]
    },
    {
     "name": "stderr",
     "output_type": "stream",
     "text": [
      "Training Batches: 100%|██████████| 1/1 [00:01<00:00,  1.74s/it]\n",
      "Running inference: 100%|██████████| 1/1 [00:04<00:00,  4.44s/it]\n",
      "Running inference: 100%|██████████| 1/1 [00:04<00:00,  4.07s/it]\n"
     ]
    },
    {
     "name": "stdout",
     "output_type": "stream",
     "text": [
      "Epoch: 004, Average Loss: 0.6652\n",
      "Validation: {'precision': 0.7728553385788663, 'recall': 0.7348729792141017, 'f1': 0.7533857322881874, 'auc': 0.6584260081719666, 'prauc': 0.8079921741473959}\n",
      "Test:       {'precision': 0.7834039276080251, 'recall': 0.7359377826001664, 'f1': 0.75892939908885, 'auc': 0.6708618874749904, 'prauc': 0.8164937538226127}\n"
     ]
    },
    {
     "name": "stderr",
     "output_type": "stream",
     "text": [
      "Training Batches: 100%|██████████| 1/1 [00:01<00:00,  1.72s/it]\n",
      "Running inference: 100%|██████████| 1/1 [00:03<00:00,  3.96s/it]\n",
      "Running inference: 100%|██████████| 1/1 [00:04<00:00,  4.07s/it]\n"
     ]
    },
    {
     "name": "stdout",
     "output_type": "stream",
     "text": [
      "Epoch: 005, Average Loss: 0.6576\n",
      "Validation: {'precision': 0.7732931336308371, 'recall': 0.7345034642025546, 'f1': 0.7533993411910636, 'auc': 0.6601514781407969, 'prauc': 0.8091112726838925}\n",
      "Test:       {'precision': 0.7844063222814336, 'recall': 0.7360282148663989, 'f1': 0.7594476016106799, 'auc': 0.6730634067925552, 'prauc': 0.8183775178982652}\n"
     ]
    },
    {
     "name": "stderr",
     "output_type": "stream",
     "text": [
      "Training Batches: 100%|██████████| 1/1 [00:01<00:00,  1.68s/it]\n",
      "Running inference: 100%|██████████| 1/1 [00:04<00:00,  4.39s/it]\n",
      "Running inference: 100%|██████████| 1/1 [00:04<00:00,  4.63s/it]\n"
     ]
    },
    {
     "name": "stdout",
     "output_type": "stream",
     "text": [
      "Epoch: 006, Average Loss: 0.6495\n",
      "Validation: {'precision': 0.7739965095978534, 'recall': 0.7374595842949307, 'f1': 0.7552864323928122, 'auc': 0.66130620245805, 'prauc': 0.8095740775333028}\n",
      "Test:       {'precision': 0.7845150148702057, 'recall': 0.7394646409832343, 'f1': 0.7613239557131245, 'auc': 0.6744550192523813, 'prauc': 0.8193599984911177}\n"
     ]
    },
    {
     "name": "stderr",
     "output_type": "stream",
     "text": [
      "Training Batches: 100%|██████████| 1/1 [00:01<00:00,  1.23s/it]\n",
      "Running inference: 100%|██████████| 1/1 [00:04<00:00,  4.47s/it]\n",
      "Running inference: 100%|██████████| 1/1 [00:04<00:00,  4.53s/it]\n"
     ]
    },
    {
     "name": "stdout",
     "output_type": "stream",
     "text": [
      "Epoch: 007, Average Loss: 0.6420\n",
      "Validation: {'precision': 0.774908106015888, 'recall': 0.7400461893757597, 'f1': 0.7570760239203276, 'auc': 0.6620537617694084, 'prauc': 0.809739770571704}\n",
      "Test:       {'precision': 0.7849081866863189, 'recall': 0.7421776089702096, 'f1': 0.762945054034534, 'auc': 0.6753582122545769, 'prauc': 0.8198957628435943}\n"
     ]
    },
    {
     "name": "stderr",
     "output_type": "stream",
     "text": [
      "Training Batches: 100%|██████████| 1/1 [00:01<00:00,  1.71s/it]\n",
      "Running inference: 100%|██████████| 1/1 [00:04<00:00,  4.01s/it]\n",
      "Running inference: 100%|██████████| 1/1 [00:03<00:00,  3.95s/it]\n"
     ]
    },
    {
     "name": "stdout",
     "output_type": "stream",
     "text": [
      "Epoch: 008, Average Loss: 0.6343\n",
      "Validation: {'precision': 0.7749137600605835, 'recall': 0.7470669745951528, 'f1': 0.7607356142098383, 'auc': 0.6626733110999855, 'prauc': 0.8098688085554777}\n",
      "Test:       {'precision': 0.7843788554609619, 'recall': 0.7474226804116951, 'f1': 0.765454961429615, 'auc': 0.6760539441647445, 'prauc': 0.8202568107507511}\n"
     ]
    },
    {
     "name": "stderr",
     "output_type": "stream",
     "text": [
      "Training Batches: 100%|██████████| 1/1 [00:02<00:00,  2.66s/it]\n",
      "Running inference: 100%|██████████| 1/1 [00:04<00:00,  4.05s/it]\n",
      "Running inference: 100%|██████████| 1/1 [00:04<00:00,  4.05s/it]\n"
     ]
    },
    {
     "name": "stdout",
     "output_type": "stream",
     "text": [
      "Epoch: 009, Average Loss: 0.6276\n",
      "Validation: {'precision': 0.7740011361477238, 'recall': 0.7551963048491869, 'f1': 0.7644830922086259, 'auc': 0.6631477010287634, 'prauc': 0.8099125281982883}\n",
      "Test:       {'precision': 0.7831675736528587, 'recall': 0.754838126242761, 'f1': 0.7687419364266654, 'auc': 0.6765586545105724, 'prauc': 0.8204163225538168}\n"
     ]
    },
    {
     "name": "stderr",
     "output_type": "stream",
     "text": [
      "Training Batches: 100%|██████████| 1/1 [00:01<00:00,  1.73s/it]\n",
      "Running inference: 100%|██████████| 1/1 [00:03<00:00,  3.98s/it]\n",
      "Running inference: 100%|██████████| 1/1 [00:04<00:00,  4.02s/it]\n"
     ]
    },
    {
     "name": "stdout",
     "output_type": "stream",
     "text": [
      "Epoch: 010, Average Loss: 0.6207\n",
      "Validation: {'precision': 0.7725871251043889, 'recall': 0.7638799076205414, 'f1': 0.7682088392952476, 'auc': 0.6635235347793085, 'prauc': 0.8099085245058955}\n",
      "Test:       {'precision': 0.7826046683949771, 'recall': 0.764062217398477, 'f1': 0.7732222884016766, 'auc': 0.6770187135533491, 'prauc': 0.820608317199565}\n"
     ]
    },
    {
     "name": "stderr",
     "output_type": "stream",
     "text": [
      "Training Batches: 100%|██████████| 1/1 [00:01<00:00,  1.68s/it]\n",
      "Running inference: 100%|██████████| 1/1 [00:04<00:00,  4.46s/it]\n",
      "Running inference: 100%|██████████| 1/1 [00:04<00:00,  4.63s/it]\n"
     ]
    },
    {
     "name": "stdout",
     "output_type": "stream",
     "text": [
      "Epoch: 011, Average Loss: 0.6139\n",
      "Validation: {'precision': 0.7712333825694504, 'recall': 0.7717321016159152, 'f1': 0.7714826564944166, 'auc': 0.6638824512669779, 'prauc': 0.8099388604150386}\n",
      "Test:       {'precision': 0.781041266354853, 'recall': 0.7719298245607054, 'f1': 0.7764588115728955, 'auc': 0.6774156305404131, 'prauc': 0.8206740828252541}\n"
     ]
    },
    {
     "name": "stderr",
     "output_type": "stream",
     "text": [
      "Training Batches: 100%|██████████| 1/1 [00:01<00:00,  1.25s/it]\n",
      "Running inference: 100%|██████████| 1/1 [00:04<00:00,  4.41s/it]\n",
      "Running inference: 100%|██████████| 1/1 [00:04<00:00,  4.50s/it]\n"
     ]
    },
    {
     "name": "stdout",
     "output_type": "stream",
     "text": [
      "Epoch: 012, Average Loss: 0.6083\n",
      "Validation: {'precision': 0.7699258991498554, 'recall': 0.7870669745951158, 'f1': 0.7784020780477227, 'auc': 0.6642889702676077, 'prauc': 0.8099924727902277}\n",
      "Test:       {'precision': 0.778674558334877, 'recall': 0.7852233676968844, 'f1': 0.781935246474011, 'auc': 0.6778384107988848, 'prauc': 0.820765563514585}\n"
     ]
    },
    {
     "name": "stderr",
     "output_type": "stream",
     "text": [
      "Training Batches: 100%|██████████| 1/1 [00:01<00:00,  1.21s/it]\n",
      "Running inference: 100%|██████████| 1/1 [00:04<00:00,  4.41s/it]\n",
      "Running inference: 100%|██████████| 1/1 [00:04<00:00,  4.51s/it]\n"
     ]
    },
    {
     "name": "stdout",
     "output_type": "stream",
     "text": [
      "Epoch: 013, Average Loss: 0.6027\n",
      "Validation: {'precision': 0.7658652996281016, 'recall': 0.8004618937636947, 'f1': 0.7827815117820747, 'auc': 0.6647252862610831, 'prauc': 0.8101044855488819}\n",
      "Test:       {'precision': 0.7758424507651852, 'recall': 0.8015916078849686, 'f1': 0.7885068668593685, 'auc': 0.678250221462932, 'prauc': 0.8208543246332622}\n"
     ]
    },
    {
     "name": "stderr",
     "output_type": "stream",
     "text": [
      "Training Batches: 100%|██████████| 1/1 [00:01<00:00,  1.75s/it]\n",
      "Running inference: 100%|██████████| 1/1 [00:03<00:00,  3.97s/it]\n",
      "Running inference: 100%|██████████| 1/1 [00:03<00:00,  3.98s/it]\n"
     ]
    },
    {
     "name": "stdout",
     "output_type": "stream",
     "text": [
      "Epoch: 014, Average Loss: 0.5975\n",
      "Validation: {'precision': 0.7621380080770283, 'recall': 0.8193071593525918, 'f1': 0.7896892479663866, 'auc': 0.6651585438233821, 'prauc': 0.8101807661460128}\n",
      "Test:       {'precision': 0.7713099474658776, 'recall': 0.8232049195145386, 'f1': 0.7964129433860517, 'auc': 0.6786230588524785, 'prauc': 0.8209187978655612}\n"
     ]
    },
    {
     "name": "stderr",
     "output_type": "stream",
     "text": [
      "Training Batches: 100%|██████████| 1/1 [00:02<00:00,  2.60s/it]\n",
      "Running inference: 100%|██████████| 1/1 [00:04<00:00,  4.03s/it]\n",
      "Running inference: 100%|██████████| 1/1 [00:04<00:00,  4.15s/it]\n"
     ]
    },
    {
     "name": "stdout",
     "output_type": "stream",
     "text": [
      "Epoch: 015, Average Loss: 0.5926\n",
      "Validation: {'precision': 0.7564326754927501, 'recall': 0.8391685912232432, 'f1': 0.7956555963090591, 'auc': 0.6656387780810413, 'prauc': 0.8102988582014132}\n",
      "Test:       {'precision': 0.7664503409177963, 'recall': 0.8437330439493184, 'f1': 0.8032370489473769, 'auc': 0.6790431933280132, 'prauc': 0.8210478304064858}\n"
     ]
    },
    {
     "name": "stderr",
     "output_type": "stream",
     "text": [
      "Training Batches:   0%|          | 0/1 [00:00<?, ?it/s]"
     ]
    }
   ],
   "source": [
    "final_metrics, final_long_seq_metrics = [], []\n",
    "\n",
    "for seed in seeds:\n",
    "    set_random_seed(seed)\n",
    "    print(f\"Training with seed: {seed}\")\n",
    "    \n",
    "    # Initialize model, optimizer, and loss function\n",
    "    model = SetGNN(args, tokenizer).to(device)\n",
    "    optimizer = torch.optim.AdamW(model.parameters(), lr=args[\"lr\"])\n",
    "    \n",
    "    best_test_metric, best_test_long_seq_metric = train_with_early_stopping(\n",
    "        model, \n",
    "        train_dataloader, \n",
    "        val_dataloader, \n",
    "        test_dataloader,\n",
    "        optimizer, \n",
    "        loss_fn, \n",
    "        device, \n",
    "        args,\n",
    "        val_long_seq_idx,\n",
    "        test_long_seq_idx,\n",
    "        task_type=task_type,\n",
    "        eval_metric = \"f1\")\n",
    "    \n",
    "    final_metrics.append(best_test_metric)\n",
    "    final_long_seq_metrics.append(best_test_long_seq_metric)"
   ]
  },
  {
   "cell_type": "code",
   "execution_count": null,
   "id": "6eb056a2-fcd4-4d68-84bb-87ec28d1fef1",
   "metadata": {},
   "outputs": [],
   "source": [
    "import numpy as np\n",
    "def topk_avg_performance_formatted(performances, long_seq_performances, k=5):\n",
    "    metrics = [\"f1\", \"auc\", \"prauc\"]\n",
    "    scores = {m: np.array([p[m] for p in performances]) for m in metrics}\n",
    "\n",
    "    # 计算排名（值越大排名越靠前）\n",
    "    ranks = {m: (-scores[m]).argsort().argsort() + 1 for m in metrics}\n",
    "    avg_ranks = np.mean(np.stack([ranks[m] for m in metrics], axis=1), axis=1)\n",
    "\n",
    "    # 选 top-k\n",
    "    topk_idx = np.argsort(avg_ranks)[:k]\n",
    "    final_avg = {m: np.mean([performances[i][m] for i in topk_idx]) for m in performances[0].keys()}\n",
    "    final_std = {m: np.std([performances[i][m] for i in topk_idx], ddof=0) for m in performances[0].keys()}\n",
    "    final_long_seq_avg = {m: np.mean([long_seq_performances[i][m] for i in topk_idx]) for m in long_seq_performances[0].keys()}\n",
    "    final_long_seq_std = {m: np.std([long_seq_performances[i][m] for i in topk_idx], ddof=0) for m in long_seq_performances[0].keys()}\n",
    "\n",
    "    # 打印结果（转百分比，均保留两位小数）\n",
    "    print(\"Final Metrics:\")\n",
    "    for m in performances[0].keys():\n",
    "        mean_val = final_avg[m] * 100\n",
    "        std_val = final_std[m] * 100\n",
    "        print(f\"{m}: {mean_val:.2f} ± {std_val:.2f}\")\n",
    "    print(\"\\nFinal Long Sequence Metrics:\")\n",
    "    for m in long_seq_performances[0].keys():\n",
    "        mean_val = final_long_seq_avg[m] * 100\n",
    "        std_val = final_long_seq_std[m] * 100\n",
    "        print(f\"{m}: {mean_val:.2f} ± {std_val:.2f}\")"
   ]
  },
  {
   "cell_type": "code",
   "execution_count": null,
   "id": "72ab00b6-0a47-46b9-8713-7e99561364eb",
   "metadata": {},
   "outputs": [],
   "source": [
    "def print_per_class_performance(dfs, col_name=\"prauc\"):\n",
    "    \"\"\"\n",
    "    输入一个 DataFrame 列表，对每个疾病在所有表格的指定列计算 mean ± std 并打印。\n",
    "\n",
    "    参数:\n",
    "        dfs (list[pd.DataFrame]): 多个表格组成的列表\n",
    "        col_name (str): 要计算的指标列名 (默认: \"prauc\")\n",
    "    \"\"\"\n",
    "    # 拼接所有表格\n",
    "    all_values = pd.concat(dfs, axis=0)\n",
    "\n",
    "    # 按疾病分组，计算 mean 和 std\n",
    "    grouped = all_values.groupby(all_values.index)[col_name].agg([\"mean\", \"std\"])\n",
    "\n",
    "    # 打印\n",
    "    for disease, row in grouped.iterrows():\n",
    "        mean_val = row[\"mean\"] * 100\n",
    "        std_val = row[\"std\"] * 100\n",
    "        print(f\"{disease}: {mean_val:.2f} ± {std_val:.2f}\")"
   ]
  },
  {
   "cell_type": "code",
   "execution_count": null,
   "id": "904ef3af-4fe5-427a-976d-31509805b5fd",
   "metadata": {
    "tags": []
   },
   "outputs": [],
   "source": [
    "if task_type == \"binary\":\n",
    "    topk_avg_performance_formatted(final_metrics, final_long_seq_metrics)\n",
    "else:\n",
    "    final_metrics_global = [metrics[\"global\"] for metrics in final_metrics]\n",
    "    final_metrics_per_class = [metrics[\"per_class\"] for metrics in final_metrics]\n",
    "    final_long_seq_metrics_global = [metrics[\"global\"] for metrics in final_long_seq_metrics]\n",
    "    final_long_seq_metrics_per_class = [metrics[\"per_class\"] for metrics in final_long_seq_metrics]\n",
    "    topk_avg_performance_formatted(final_metrics_global, final_long_seq_metrics_global)\n",
    "    print(\"\\nPer-class performance, all patients:\")\n",
    "    print_per_class_performance(final_metrics_per_class, col_name=\"prauc\")\n",
    "    print(\"\\nPer-class performance, long seq:\")\n",
    "    print_per_class_performance(final_long_seq_metrics_per_class, col_name=\"prauc\")"
   ]
  }
 ],
 "metadata": {
  "kernelspec": {
   "display_name": "heart-cuda",
   "language": "python",
   "name": "heart-cuda"
  },
  "language_info": {
   "codemirror_mode": {
    "name": "ipython",
    "version": 3
   },
   "file_extension": ".py",
   "mimetype": "text/x-python",
   "name": "python",
   "nbconvert_exporter": "python",
   "pygments_lexer": "ipython3",
   "version": "3.10.18"
  }
 },
 "nbformat": 4,
 "nbformat_minor": 5
}
