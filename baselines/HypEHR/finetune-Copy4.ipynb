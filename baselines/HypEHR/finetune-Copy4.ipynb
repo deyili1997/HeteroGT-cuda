{
 "cells": [
  {
   "cell_type": "code",
   "execution_count": 1,
   "id": "105bbf2f",
   "metadata": {},
   "outputs": [
    {
     "name": "stderr",
     "output_type": "stream",
     "text": [
      "Disabling PyTorch because PyTorch >= 2.1 is required but found 1.13.1\n",
      "None of PyTorch, TensorFlow >= 2.0, or Flax have been found. Models won't be available and only tokenizers, configuration and file/data utilities can be used.\n"
     ]
    }
   ],
   "source": [
    "import torch\n",
    "import random\n",
    "from model import SetGNN \n",
    "import pickle\n",
    "from tokenizer import EHRTokenizer\n",
    "from dataset import FinetuneHGDataset, batcher_SetGNN_finetune\n",
    "from torch.utils.data import DataLoader\n",
    "import torch.nn.functional as F\n",
    "from train import PHENO_ORDER, train_with_early_stopping\n",
    "from set_seed import set_random_seed"
   ]
  },
  {
   "cell_type": "code",
   "execution_count": 2,
   "id": "eb757cdd",
   "metadata": {},
   "outputs": [
    {
     "name": "stdout",
     "output_type": "stream",
     "text": [
      "cuda\n"
     ]
    }
   ],
   "source": [
    "device = torch.device(\"cuda\" if torch.cuda.is_available() else \"cpu\")\n",
    "print(device)"
   ]
  },
  {
   "cell_type": "code",
   "execution_count": 3,
   "id": "89793d45",
   "metadata": {},
   "outputs": [],
   "source": [
    "args = {\n",
    "    \"dataset\": \"MIMIC-IV\", \n",
    "    \"task\": \"death\",  # options: death, stay, readmission, next_diag_6m, next_diag_12m\n",
    "    \"special_tokens\":[\"[PAD]\", \"[CLS]\"],\n",
    "    \"predicted_token_type\": [\"diag\", \"med\", \"lab\", \"pro\"],\n",
    "    \"batch_size\": 256,\n",
    "    \"lr\": 1e-3,\n",
    "    \"epochs\": 500,\n",
    "    \"model_name\": \"HG\",\n",
    "    \"early_stop_patience\": 10,\n",
    "    # model hyperparameters\n",
    "    \"level\": \"visit\",  # \"visit\" or \"patient\"\n",
    "    \"hg_all_num_layers\": 3,\n",
    "    \"hg_use_type_embed\": True,\n",
    "    \"MLP_num_layers\": 2,\n",
    "    \"hg_aggregate\": \"mean\",\n",
    "    \"hg_dropout\": 0.0,\n",
    "    \"normtype\": \"all_one\",\n",
    "    \"add_self_loop\": True,\n",
    "    \"hg_normalization\": \"ln\",\n",
    "    \"hg_hidden_size\": 128,\n",
    "    \"PMA\": True,\n",
    "    \"hg_num_heads\": 4,\n",
    "}"
   ]
  },
  {
   "cell_type": "code",
   "execution_count": 4,
   "id": "c32fba6c",
   "metadata": {},
   "outputs": [],
   "source": [
    "full_data_path = f\"/home/lideyi/HeteroGT-cuda/data_process/{args['dataset']}-processed/mimic.pkl\"\n",
    "\n",
    "if args[\"task\"] == \"next_diag_6m\":\n",
    "    finetune_data_path = f\"/home/lideyi/HeteroGT-cuda/data_process/{args['dataset']}-processed/mimic_nextdiag_6m.pkl\"\n",
    "elif args[\"task\"] == \"next_diag_12m\":\n",
    "    finetune_data_path = f\"/home/lideyi/HeteroGT-cuda/data_process/{args['dataset']}-processed/mimic_nextdiag_12m.pkl\"\n",
    "else:\n",
    "    finetune_data_path = f\"/home/lideyi/HeteroGT-cuda/data_process/{args['dataset']}-processed/mimic_downstream.pkl\""
   ]
  },
  {
   "cell_type": "code",
   "execution_count": 5,
   "id": "9ab08e48",
   "metadata": {},
   "outputs": [
    {
     "name": "stdout",
     "output_type": "stream",
     "text": [
      "Max admissions per patient: 8\n"
     ]
    }
   ],
   "source": [
    "ehr_full_data = pickle.load(open(full_data_path, 'rb'))\n",
    "diag_sentences = ehr_full_data[\"ICD9_CODE\"].values.tolist()\n",
    "med_sentences = ehr_full_data[\"NDC\"].values.tolist()\n",
    "lab_sentences = ehr_full_data[\"LAB_TEST\"].values.tolist()\n",
    "pro_sentences = ehr_full_data[\"PRO_CODE\"].values.tolist()\n",
    "age_gender_sentences = [\"[PAD]\"] + [str(c) + \"_\" + gender \\\n",
    "    for c in set(ehr_full_data[\"AGE\"].values.tolist()) for gender in [\"M\", \"F\"]] # PAD token special for age_gender vocabulary\n",
    "max_admissions = ehr_full_data.groupby(\"SUBJECT_ID\")[\"HADM_ID\"].nunique().max()\n",
    "args[\"max_adm_len\"] = max_admissions\n",
    "print(f\"Max admissions per patient: {max_admissions}\")"
   ]
  },
  {
   "cell_type": "code",
   "execution_count": 6,
   "id": "42864fb3",
   "metadata": {},
   "outputs": [
    {
     "name": "stdout",
     "output_type": "stream",
     "text": [
      "Age and gender vocabulary size: 41\n",
      "Global vocabulary size: 4207\n",
      "Label vocabulary size: 18\n"
     ]
    }
   ],
   "source": [
    "tokenizer = EHRTokenizer(age_gender_sentences, diag_sentences, med_sentences, lab_sentences, \n",
    "                         pro_sentences, special_tokens=args[\"special_tokens\"])\n",
    "args[\"age_gender_vocab_size\"] = tokenizer.token_number(\"age_gender\")\n",
    "args[\"global_vocab_size\"] = len(tokenizer.vocab.id2word)\n",
    "args[\"label_vocab_size\"] = len(PHENO_ORDER)\n",
    "print(f\"Age and gender vocabulary size: {args['age_gender_vocab_size']}\")\n",
    "print(f\"Global vocabulary size: {args['global_vocab_size']}\")\n",
    "print(f\"Label vocabulary size: {args['label_vocab_size']}\")"
   ]
  },
  {
   "cell_type": "code",
   "execution_count": 7,
   "id": "f7ff21ce",
   "metadata": {},
   "outputs": [
    {
     "name": "stdout",
     "output_type": "stream",
     "text": [
      "7621 15401 15621\n"
     ]
    }
   ],
   "source": [
    "train_data, val_data, test_data = pickle.load(open(finetune_data_path, 'rb'))\n",
    "\n",
    "# output: input_ids (a patient has multiple visits), labels\n",
    "train_dataset = FinetuneHGDataset(train_data, tokenizer, token_type=args[\"predicted_token_type\"], task=args[\"task\"], level=args[\"level\"])\n",
    "val_dataset = FinetuneHGDataset(val_data, tokenizer, token_type=args[\"predicted_token_type\"], task=args[\"task\"], level=args[\"level\"])\n",
    "test_dataset = FinetuneHGDataset(test_data, tokenizer, token_type=args[\"predicted_token_type\"], task=args[\"task\"], level=args[\"level\"])\n",
    "print(len(train_dataset), len(val_dataset), len(test_dataset))"
   ]
  },
  {
   "cell_type": "code",
   "execution_count": 8,
   "id": "42afdd7b",
   "metadata": {},
   "outputs": [
    {
     "name": "stdout",
     "output_type": "stream",
     "text": [
      "3379 3608\n"
     ]
    }
   ],
   "source": [
    "long_adm_seq_crite = 3\n",
    "val_long_seq_idx, test_long_seq_idx = [], []\n",
    "for i in range(len(val_dataset)):\n",
    "    hadm_id = list(val_dataset.records.keys())[i]\n",
    "    num_adms = len(val_dataset.records[hadm_id])\n",
    "    if num_adms >= long_adm_seq_crite:\n",
    "        val_long_seq_idx.append(i)\n",
    "for i in range(len(test_dataset)):\n",
    "    hadm_id = list(test_dataset.records.keys())[i]\n",
    "    num_adms = len(test_dataset.records[hadm_id])\n",
    "    if num_adms >= long_adm_seq_crite:\n",
    "        test_long_seq_idx.append(i)\n",
    "print(len(val_long_seq_idx), len(test_long_seq_idx))"
   ]
  },
  {
   "cell_type": "code",
   "execution_count": 9,
   "id": "d0769b44",
   "metadata": {},
   "outputs": [],
   "source": [
    "use_full_graph = True\n",
    "train_batch_size = len(train_dataset) if use_full_graph else args[\"batch_size\"]\n",
    "val_batch_size = len(val_dataset) if use_full_graph else args[\"batch_size\"]\n",
    "test_batch_size = len(test_dataset) if use_full_graph else args[\"batch_size\"]\n",
    "train_dataloader = DataLoader(train_dataset, collate_fn=batcher_SetGNN_finetune(device = device), batch_size = train_batch_size, shuffle = True)\n",
    "val_dataloader = DataLoader(val_dataset, collate_fn=batcher_SetGNN_finetune(device = device), batch_size = val_batch_size, shuffle = False)\n",
    "test_dataloader = DataLoader(test_dataset, collate_fn=batcher_SetGNN_finetune(device = device), batch_size = test_batch_size, shuffle = False)"
   ]
  },
  {
   "cell_type": "code",
   "execution_count": 10,
   "id": "92a62432",
   "metadata": {},
   "outputs": [],
   "source": [
    "if args[\"task\"] in [\"death\", \"stay\", \"readmission\"]:\n",
    "    eval_metric = \"prauc\"\n",
    "    task_type = \"binary\"\n",
    "    loss_fn = F.binary_cross_entropy_with_logits\n",
    "else:\n",
    "    eval_metric = \"prauc\"\n",
    "    task_type = \"l2r\"\n",
    "    loss_fn = lambda x, y: F.binary_cross_entropy_with_logits(x, y)"
   ]
  },
  {
   "cell_type": "code",
   "execution_count": 11,
   "id": "33afa400",
   "metadata": {},
   "outputs": [
    {
     "name": "stdout",
     "output_type": "stream",
     "text": [
      "[2746317213, 1181241943, 958682846, 3163119785, 1812140441, 127978094, 939042955, 2340505846, 946785248, 2530876844, 3460967357, 2998485882, 1461364854, 667779376, 1445662585]\n"
     ]
    }
   ],
   "source": [
    "random.seed(42)\n",
    "seeds = [random.randint(0, 2**32 - 1) for _ in range(15)]\n",
    "print(seeds)"
   ]
  },
  {
   "cell_type": "code",
   "execution_count": 12,
   "id": "71af0347",
   "metadata": {},
   "outputs": [
    {
     "name": "stdout",
     "output_type": "stream",
     "text": [
      "[INFO] Random seed set to 2746317213\n",
      "Training with seed: 2746317213\n"
     ]
    },
    {
     "name": "stderr",
     "output_type": "stream",
     "text": [
      "Training Batches: 100%|██████████| 1/1 [00:02<00:00,  2.67s/it]\n",
      "Running inference: 100%|██████████| 1/1 [00:05<00:00,  5.08s/it]\n",
      "Running inference: 100%|██████████| 1/1 [00:05<00:00,  5.16s/it]\n"
     ]
    },
    {
     "name": "stdout",
     "output_type": "stream",
     "text": [
      "Epoch: 001, Average Loss: 0.7101\n",
      "Validation: {'precision': 0.13698003961582053, 'recall': 0.6403133903088297, 'f1': 0.2256809309481535, 'auc': 0.6857129234245759, 'prauc': 0.17419933523832684}\n",
      "Test:       {'precision': 0.1324052132699461, 'recall': 0.6304654442832831, 'f1': 0.21884944633510847, 'auc': 0.6726220557507517, 'prauc': 0.15935760471644794}\n"
     ]
    },
    {
     "name": "stderr",
     "output_type": "stream",
     "text": [
      "Training Batches: 100%|██████████| 1/1 [00:01<00:00,  1.94s/it]\n",
      "Running inference: 100%|██████████| 1/1 [00:04<00:00,  4.24s/it]\n",
      "Running inference: 100%|██████████| 1/1 [00:04<00:00,  4.44s/it]\n"
     ]
    },
    {
     "name": "stdout",
     "output_type": "stream",
     "text": [
      "Epoch: 002, Average Loss: 0.6779\n",
      "Validation: {'precision': 0.18469462840255815, 'recall': 0.35754985754731095, 'f1': 0.24357107750594267, 'auc': 0.6590832345636948, 'prauc': 0.1643644463603819}\n",
      "Test:       {'precision': 0.17556980056917532, 'recall': 0.3476727785589022, 'f1': 0.23331755351426925, 'auc': 0.6452166932292558, 'prauc': 0.1517000417595266}\n"
     ]
    },
    {
     "name": "stderr",
     "output_type": "stream",
     "text": [
      "Training Batches: 100%|██████████| 1/1 [00:02<00:00,  2.86s/it]\n",
      "Running inference: 100%|██████████| 1/1 [00:04<00:00,  4.54s/it]\n",
      "Running inference: 100%|██████████| 1/1 [00:04<00:00,  4.62s/it]\n"
     ]
    },
    {
     "name": "stdout",
     "output_type": "stream",
     "text": [
      "Epoch: 003, Average Loss: 0.6458\n",
      "Validation: {'precision': 0.21720613287719587, 'recall': 0.181623931622638, 'f1': 0.19782776850606776, 'auc': 0.6457992015790115, 'prauc': 0.15577198249254032}\n",
      "Test:       {'precision': 0.2052364864847531, 'recall': 0.17136812411726823, 'f1': 0.18677939550018596, 'auc': 0.632713151743801, 'prauc': 0.14571794891883255}\n"
     ]
    },
    {
     "name": "stderr",
     "output_type": "stream",
     "text": [
      "Training Batches: 100%|██████████| 1/1 [00:02<00:00,  2.51s/it]\n",
      "Running inference: 100%|██████████| 1/1 [00:04<00:00,  4.95s/it]\n",
      "Running inference: 100%|██████████| 1/1 [00:03<00:00,  3.78s/it]\n"
     ]
    },
    {
     "name": "stdout",
     "output_type": "stream",
     "text": [
      "Epoch: 004, Average Loss: 0.6130\n",
      "Validation: {'precision': 0.2612137203097305, 'recall': 0.07051282051231829, 'f1': 0.11104879081828799, 'auc': 0.6334130003844942, 'prauc': 0.14647036953310794}\n",
      "Test:       {'precision': 0.22518159805750165, 'recall': 0.06558533145228784, 'f1': 0.10158383047574689, 'auc': 0.6213374486230139, 'prauc': 0.13897670253384098}\n"
     ]
    },
    {
     "name": "stderr",
     "output_type": "stream",
     "text": [
      "Training Batches: 100%|██████████| 1/1 [00:02<00:00,  2.35s/it]\n",
      "Running inference: 100%|██████████| 1/1 [00:04<00:00,  4.51s/it]\n",
      "Running inference: 100%|██████████| 1/1 [00:04<00:00,  4.90s/it]\n"
     ]
    },
    {
     "name": "stdout",
     "output_type": "stream",
     "text": [
      "Epoch: 005, Average Loss: 0.5791\n",
      "Validation: {'precision': 0.2051282051106728, 'recall': 0.017094017093895342, 'f1': 0.031558183983806005, 'auc': 0.6230195695170332, 'prauc': 0.1379608502562178}\n",
      "Test:       {'precision': 0.21186440676170643, 'recall': 0.0176304654441634, 'f1': 0.03255208191448642, 'auc': 0.6115770749877332, 'prauc': 0.13319138091490257}\n"
     ]
    },
    {
     "name": "stderr",
     "output_type": "stream",
     "text": [
      "Training Batches: 100%|██████████| 1/1 [00:02<00:00,  3.00s/it]\n",
      "Running inference: 100%|██████████| 1/1 [00:04<00:00,  4.47s/it]\n",
      "Running inference: 100%|██████████| 1/1 [00:04<00:00,  4.33s/it]\n"
     ]
    },
    {
     "name": "stdout",
     "output_type": "stream",
     "text": [
      "Epoch: 006, Average Loss: 0.5440\n",
      "Validation: {'precision': 0.1282051281722551, 'recall': 0.0035612535612281966, 'f1': 0.006930006403979585, 'auc': 0.6149177876333696, 'prauc': 0.13074427362203433}\n",
      "Test:       {'precision': 0.08571428568979592, 'recall': 0.0021156558532996078, 'f1': 0.004129387003977396, 'auc': 0.6045224061703725, 'prauc': 0.12881349708514614}\n"
     ]
    },
    {
     "name": "stderr",
     "output_type": "stream",
     "text": [
      "Training Batches: 100%|██████████| 1/1 [00:02<00:00,  2.42s/it]\n",
      "Running inference: 100%|██████████| 1/1 [00:04<00:00,  4.43s/it]\n",
      "Running inference: 100%|██████████| 1/1 [00:05<00:00,  5.63s/it]\n"
     ]
    },
    {
     "name": "stdout",
     "output_type": "stream",
     "text": [
      "Epoch: 007, Average Loss: 0.5096\n",
      "Validation: {'precision': 0.13333333324444444, 'recall': 0.0014245014244912786, 'f1': 0.002818886330595414, 'auc': 0.6088987933311717, 'prauc': 0.12499001824900602}\n",
      "Test:       {'precision': 0.19999999986666667, 'recall': 0.0021156558532996078, 'f1': 0.004187020030046434, 'auc': 0.5996726937543837, 'prauc': 0.12445959483096705}\n"
     ]
    },
    {
     "name": "stderr",
     "output_type": "stream",
     "text": [
      "Training Batches: 100%|██████████| 1/1 [00:01<00:00,  1.43s/it]\n",
      "Running inference: 100%|██████████| 1/1 [00:04<00:00,  4.85s/it]\n",
      "Running inference: 100%|██████████| 1/1 [00:04<00:00,  4.76s/it]\n"
     ]
    },
    {
     "name": "stdout",
     "output_type": "stream",
     "text": [
      "Epoch: 008, Average Loss: 0.4750\n",
      "Validation: {'precision': 0.1111111109876543, 'recall': 0.0007122507122456393, 'f1': 0.0014154280404233576, 'auc': 0.6051785720464724, 'prauc': 0.12124365811363079}\n",
      "Test:       {'precision': 0.3333333329629629, 'recall': 0.0021156558532996078, 'f1': 0.004204624962194228, 'auc': 0.5970015472803327, 'prauc': 0.121297048013229}\n"
     ]
    },
    {
     "name": "stderr",
     "output_type": "stream",
     "text": [
      "Training Batches: 100%|██████████| 1/1 [00:02<00:00,  2.44s/it]\n",
      "Running inference: 100%|██████████| 1/1 [00:05<00:00,  5.04s/it]\n",
      "Running inference: 100%|██████████| 1/1 [00:04<00:00,  4.26s/it]\n"
     ]
    },
    {
     "name": "stdout",
     "output_type": "stream",
     "text": [
      "Epoch: 009, Average Loss: 0.4418\n",
      "Validation: {'precision': 0.249999999375, 'recall': 0.0007122507122456393, 'f1': 0.0014204544887776044, 'auc': 0.6028518117537194, 'prauc': 0.1189141621518227}\n",
      "Test:       {'precision': 0.3999999992, 'recall': 0.0014104372355330718, 'f1': 0.002810962684676847, 'auc': 0.5952697323426476, 'prauc': 0.11874189097214752}\n"
     ]
    },
    {
     "name": "stderr",
     "output_type": "stream",
     "text": [
      "Training Batches: 100%|██████████| 1/1 [00:02<00:00,  2.46s/it]\n",
      "Running inference: 100%|██████████| 1/1 [00:05<00:00,  5.07s/it]\n",
      "Running inference: 100%|██████████| 1/1 [00:03<00:00,  3.81s/it]\n"
     ]
    },
    {
     "name": "stdout",
     "output_type": "stream",
     "text": [
      "Epoch: 010, Average Loss: 0.4115\n",
      "Validation: {'precision': 0.0, 'recall': 0.0, 'f1': 0.0, 'auc': 0.6029910611695994, 'prauc': 0.11715305893186978}\n",
      "Test:       {'precision': 0.9999999900000002, 'recall': 0.0007052186177665359, 'f1': 0.001409443255804021, 'auc': 0.5960091617347375, 'prauc': 0.11610822497441635}\n"
     ]
    },
    {
     "name": "stderr",
     "output_type": "stream",
     "text": [
      "Training Batches: 100%|██████████| 1/1 [00:02<00:00,  2.42s/it]\n",
      "Running inference: 100%|██████████| 1/1 [00:04<00:00,  4.56s/it]\n",
      "Running inference: 100%|██████████| 1/1 [00:04<00:00,  4.45s/it]\n"
     ]
    },
    {
     "name": "stdout",
     "output_type": "stream",
     "text": [
      "Epoch: 011, Average Loss: 0.3844\n",
      "Validation: {'precision': 0.0, 'recall': 0.0, 'f1': 0.0, 'auc': 0.6046019324043186, 'prauc': 0.11598633684485657}\n",
      "Test:       {'precision': 0.0, 'recall': 0.0, 'f1': 0.0, 'auc': 0.5979200494700706, 'prauc': 0.11409152094078184}\n"
     ]
    },
    {
     "name": "stderr",
     "output_type": "stream",
     "text": [
      "Training Batches: 100%|██████████| 1/1 [00:02<00:00,  2.99s/it]\n",
      "Running inference: 100%|██████████| 1/1 [00:04<00:00,  4.39s/it]\n",
      "Running inference: 100%|██████████| 1/1 [00:04<00:00,  4.48s/it]\n"
     ]
    },
    {
     "name": "stdout",
     "output_type": "stream",
     "text": [
      "Epoch: 012, Average Loss: 0.3608\n",
      "Validation: {'precision': 0.0, 'recall': 0.0, 'f1': 0.0, 'auc': 0.6077829152237954, 'prauc': 0.11584936580648457}\n",
      "Test:       {'precision': 0.0, 'recall': 0.0, 'f1': 0.0, 'auc': 0.6010888658875085, 'prauc': 0.11303877352964575}\n",
      "\n",
      "Early stopping triggered after 12 epochs (no improvement for 10 epochs).\n",
      "\n",
      "Best validation performance:\n",
      "{'precision': 0.18469462840255815, 'recall': 0.35754985754731095, 'f1': 0.24357107750594267, 'auc': 0.6590832345636948, 'prauc': 0.1643644463603819}\n",
      "Corresponding test performance:\n",
      "{'precision': 0.17556980056917532, 'recall': 0.3476727785589022, 'f1': 0.23331755351426925, 'auc': 0.6452166932292558, 'prauc': 0.1517000417595266}\n",
      "Corresponding test-long performance:\n",
      "{'precision': 0.15654952076427237, 'recall': 0.4188034187855212, 'f1': 0.2279069727777177, 'auc': 0.7138462045101049, 'prauc': 0.13623139868329492}\n",
      "[INFO] Random seed set to 1181241943\n",
      "Training with seed: 1181241943\n"
     ]
    },
    {
     "name": "stderr",
     "output_type": "stream",
     "text": [
      "Training Batches: 100%|██████████| 1/1 [00:01<00:00,  1.91s/it]\n",
      "Running inference: 100%|██████████| 1/1 [00:05<00:00,  5.21s/it]\n",
      "Running inference: 100%|██████████| 1/1 [00:04<00:00,  4.54s/it]\n"
     ]
    },
    {
     "name": "stdout",
     "output_type": "stream",
     "text": [
      "Epoch: 001, Average Loss: 0.6870\n",
      "Validation: {'precision': 0.21568627446751248, 'recall': 0.007834757834702033, 'f1': 0.015120274237422831, 'auc': 0.6706176557573286, 'prauc': 0.17995036146519935}\n",
      "Test:       {'precision': 0.2583333333118056, 'recall': 0.021861777150762613, 'f1': 0.040312092188849166, 'auc': 0.661285181114024, 'prauc': 0.17900599643157422}\n"
     ]
    },
    {
     "name": "stderr",
     "output_type": "stream",
     "text": [
      "Training Batches: 100%|██████████| 1/1 [00:01<00:00,  1.52s/it]\n",
      "Running inference: 100%|██████████| 1/1 [00:04<00:00,  4.82s/it]\n",
      "Running inference: 100%|██████████| 1/1 [00:04<00:00,  4.64s/it]\n"
     ]
    },
    {
     "name": "stdout",
     "output_type": "stream",
     "text": [
      "Epoch: 002, Average Loss: 0.6603\n",
      "Validation: {'precision': 0.3055555555131173, 'recall': 0.015669515669404065, 'f1': 0.02981029717455809, 'auc': 0.6499643187683481, 'prauc': 0.18015380712043316}\n",
      "Test:       {'precision': 0.24761904759546488, 'recall': 0.018335684061929935, 'f1': 0.0341431372581072, 'auc': 0.6365408110704278, 'prauc': 0.17932557421278425}\n"
     ]
    },
    {
     "name": "stderr",
     "output_type": "stream",
     "text": [
      "Training Batches: 100%|██████████| 1/1 [00:01<00:00,  1.89s/it]\n",
      "Running inference: 100%|██████████| 1/1 [00:05<00:00,  5.38s/it]\n",
      "Running inference: 100%|██████████| 1/1 [00:04<00:00,  4.37s/it]\n"
     ]
    },
    {
     "name": "stdout",
     "output_type": "stream",
     "text": [
      "Epoch: 003, Average Loss: 0.6338\n",
      "Validation: {'precision': 0.21666666663055556, 'recall': 0.009259259259193311, 'f1': 0.017759562055208466, 'auc': 0.6553600110076498, 'prauc': 0.1760894916346294}\n",
      "Test:       {'precision': 0.23529411761245678, 'recall': 0.011283497884264575, 'f1': 0.021534319449396738, 'auc': 0.640862540512955, 'prauc': 0.17353058429612433}\n"
     ]
    },
    {
     "name": "stderr",
     "output_type": "stream",
     "text": [
      "Training Batches: 100%|██████████| 1/1 [00:02<00:00,  2.11s/it]\n",
      "Running inference: 100%|██████████| 1/1 [00:04<00:00,  4.32s/it]\n",
      "Running inference: 100%|██████████| 1/1 [00:04<00:00,  4.68s/it]\n"
     ]
    },
    {
     "name": "stdout",
     "output_type": "stream",
     "text": [
      "Epoch: 004, Average Loss: 0.6058\n",
      "Validation: {'precision': 0.16666666662698412, 'recall': 0.004985754985719475, 'f1': 0.009681880487001901, 'auc': 0.6641942707706799, 'prauc': 0.1707989371670321}\n",
      "Test:       {'precision': 0.18421052626731302, 'recall': 0.004936530324365751, 'f1': 0.009615384106897594, 'auc': 0.6508896737781713, 'prauc': 0.1687772045713311}\n"
     ]
    },
    {
     "name": "stderr",
     "output_type": "stream",
     "text": [
      "Training Batches: 100%|██████████| 1/1 [00:01<00:00,  1.91s/it]\n",
      "Running inference: 100%|██████████| 1/1 [00:05<00:00,  5.40s/it]\n",
      "Running inference: 100%|██████████| 1/1 [00:04<00:00,  4.91s/it]\n"
     ]
    },
    {
     "name": "stdout",
     "output_type": "stream",
     "text": [
      "Epoch: 005, Average Loss: 0.5769\n",
      "Validation: {'precision': 0.1739130434026465, 'recall': 0.0028490028489825572, 'f1': 0.005606166466224288, 'auc': 0.6610807627275442, 'prauc': 0.16347703313115797}\n",
      "Test:       {'precision': 0.05555555552469135, 'recall': 0.0007052186177665359, 'f1': 0.001392757412593832, 'auc': 0.6493952240170163, 'prauc': 0.16272851647763287}\n"
     ]
    },
    {
     "name": "stderr",
     "output_type": "stream",
     "text": [
      "Training Batches: 100%|██████████| 1/1 [00:01<00:00,  1.50s/it]\n",
      "Running inference: 100%|██████████| 1/1 [00:04<00:00,  4.68s/it]\n",
      "Running inference: 100%|██████████| 1/1 [00:05<00:00,  5.28s/it]\n"
     ]
    },
    {
     "name": "stdout",
     "output_type": "stream",
     "text": [
      "Epoch: 006, Average Loss: 0.5479\n",
      "Validation: {'precision': 0.0, 'recall': 0.0, 'f1': 0.0, 'auc': 0.6540980393234448, 'prauc': 0.1566185422575592}\n",
      "Test:       {'precision': 0.07692307686390532, 'recall': 0.0007052186177665359, 'f1': 0.001397623859073421, 'auc': 0.6432982334430031, 'prauc': 0.15688209658538974}\n"
     ]
    },
    {
     "name": "stderr",
     "output_type": "stream",
     "text": [
      "Training Batches: 100%|██████████| 1/1 [00:01<00:00,  1.90s/it]\n",
      "Running inference: 100%|██████████| 1/1 [00:04<00:00,  4.79s/it]\n",
      "Running inference: 100%|██████████| 1/1 [00:04<00:00,  4.28s/it]\n"
     ]
    },
    {
     "name": "stdout",
     "output_type": "stream",
     "text": [
      "Epoch: 007, Average Loss: 0.5164\n",
      "Validation: {'precision': 0.0, 'recall': 0.0, 'f1': 0.0, 'auc': 0.6489354302010586, 'prauc': 0.15273817442485893}\n",
      "Test:       {'precision': 0.9999999900000002, 'recall': 0.0007052186177665359, 'f1': 0.001409443255804021, 'auc': 0.6395448795209737, 'prauc': 0.1538420630509243}\n"
     ]
    },
    {
     "name": "stderr",
     "output_type": "stream",
     "text": [
      "Training Batches: 100%|██████████| 1/1 [00:03<00:00,  3.15s/it]\n",
      "Running inference: 100%|██████████| 1/1 [00:04<00:00,  4.32s/it]\n",
      "Running inference: 100%|██████████| 1/1 [00:04<00:00,  4.79s/it]\n"
     ]
    },
    {
     "name": "stdout",
     "output_type": "stream",
     "text": [
      "Epoch: 008, Average Loss: 0.4844\n",
      "Validation: {'precision': 0.0, 'recall': 0.0, 'f1': 0.0, 'auc': 0.6452613879205291, 'prauc': 0.1507722125395051}\n",
      "Test:       {'precision': 0.0, 'recall': 0.0, 'f1': 0.0, 'auc': 0.6376787537784534, 'prauc': 0.15132744652677532}\n"
     ]
    },
    {
     "name": "stderr",
     "output_type": "stream",
     "text": [
      "Training Batches: 100%|██████████| 1/1 [00:01<00:00,  1.88s/it]\n",
      "Running inference: 100%|██████████| 1/1 [00:04<00:00,  4.85s/it]\n",
      "Running inference: 100%|██████████| 1/1 [00:04<00:00,  4.38s/it]\n"
     ]
    },
    {
     "name": "stdout",
     "output_type": "stream",
     "text": [
      "Epoch: 009, Average Loss: 0.4525\n",
      "Validation: {'precision': 0.0, 'recall': 0.0, 'f1': 0.0, 'auc': 0.6415026459678885, 'prauc': 0.14882911845132196}\n",
      "Test:       {'precision': 0.0, 'recall': 0.0, 'f1': 0.0, 'auc': 0.6354822135254803, 'prauc': 0.14910355383844973}\n"
     ]
    },
    {
     "name": "stderr",
     "output_type": "stream",
     "text": [
      "Training Batches: 100%|██████████| 1/1 [00:02<00:00,  2.07s/it]\n",
      "Running inference: 100%|██████████| 1/1 [00:04<00:00,  4.84s/it]\n",
      "Running inference: 100%|██████████| 1/1 [00:05<00:00,  5.37s/it]\n"
     ]
    },
    {
     "name": "stdout",
     "output_type": "stream",
     "text": [
      "Epoch: 010, Average Loss: 0.4222\n",
      "Validation: {'precision': 0.0, 'recall': 0.0, 'f1': 0.0, 'auc': 0.6376648526841425, 'prauc': 0.14644736055851282}\n",
      "Test:       {'precision': 0.0, 'recall': 0.0, 'f1': 0.0, 'auc': 0.632442841939172, 'prauc': 0.14692124822270516}\n"
     ]
    },
    {
     "name": "stderr",
     "output_type": "stream",
     "text": [
      "Training Batches: 100%|██████████| 1/1 [00:01<00:00,  1.39s/it]\n",
      "Running inference: 100%|██████████| 1/1 [00:05<00:00,  5.32s/it]\n",
      "Running inference: 100%|██████████| 1/1 [00:04<00:00,  4.93s/it]\n"
     ]
    },
    {
     "name": "stdout",
     "output_type": "stream",
     "text": [
      "Epoch: 011, Average Loss: 0.3942\n",
      "Validation: {'precision': 0.0, 'recall': 0.0, 'f1': 0.0, 'auc': 0.6351484404370736, 'prauc': 0.14334733665101212}\n",
      "Test:       {'precision': 0.0, 'recall': 0.0, 'f1': 0.0, 'auc': 0.6302320513346323, 'prauc': 0.14472460181216368}\n"
     ]
    },
    {
     "name": "stderr",
     "output_type": "stream",
     "text": [
      "Training Batches: 100%|██████████| 1/1 [00:01<00:00,  1.46s/it]\n",
      "Running inference: 100%|██████████| 1/1 [00:04<00:00,  4.78s/it]\n",
      "Running inference: 100%|██████████| 1/1 [00:05<00:00,  5.47s/it]\n"
     ]
    },
    {
     "name": "stdout",
     "output_type": "stream",
     "text": [
      "Epoch: 012, Average Loss: 0.3675\n",
      "Validation: {'precision': 0.0, 'recall': 0.0, 'f1': 0.0, 'auc': 0.635809601650496, 'prauc': 0.14252905595671786}\n",
      "Test:       {'precision': 0.0, 'recall': 0.0, 'f1': 0.0, 'auc': 0.6312739158883675, 'prauc': 0.1436222928849207}\n",
      "\n",
      "Early stopping triggered after 12 epochs (no improvement for 10 epochs).\n",
      "\n",
      "Best validation performance:\n",
      "{'precision': 0.3055555555131173, 'recall': 0.015669515669404065, 'f1': 0.02981029717455809, 'auc': 0.6499643187683481, 'prauc': 0.18015380712043316}\n",
      "Corresponding test performance:\n",
      "{'precision': 0.24761904759546488, 'recall': 0.018335684061929935, 'f1': 0.0341431372581072, 'auc': 0.6365408110704278, 'prauc': 0.17932557421278425}\n",
      "Corresponding test-long performance:\n",
      "{'precision': 0.21428571420918366, 'recall': 0.02564102563992987, 'f1': 0.045801524805081366, 'auc': 0.7381952993986189, 'prauc': 0.16090700387365228}\n",
      "[INFO] Random seed set to 958682846\n",
      "Training with seed: 958682846\n"
     ]
    },
    {
     "name": "stderr",
     "output_type": "stream",
     "text": [
      "Training Batches: 100%|██████████| 1/1 [00:01<00:00,  1.90s/it]\n",
      "Running inference: 100%|██████████| 1/1 [00:04<00:00,  4.78s/it]\n",
      "Running inference: 100%|██████████| 1/1 [00:04<00:00,  4.29s/it]\n"
     ]
    },
    {
     "name": "stdout",
     "output_type": "stream",
     "text": [
      "Epoch: 001, Average Loss: 0.7002\n",
      "Validation: {'precision': 0.22465753424534435, 'recall': 0.29202279202071213, 'f1': 0.25394858597843706, 'auc': 0.6693007526846921, 'prauc': 0.17650896382552536}\n",
      "Test:       {'precision': 0.22790439132724902, 'recall': 0.2891396332842797, 'f1': 0.2548958607819452, 'auc': 0.6619361292291394, 'prauc': 0.17468781159587538}\n"
     ]
    },
    {
     "name": "stderr",
     "output_type": "stream",
     "text": [
      "Training Batches: 100%|██████████| 1/1 [00:03<00:00,  3.19s/it]\n",
      "Running inference: 100%|██████████| 1/1 [00:04<00:00,  4.34s/it]\n",
      "Running inference: 100%|██████████| 1/1 [00:04<00:00,  4.73s/it]\n"
     ]
    },
    {
     "name": "stdout",
     "output_type": "stream",
     "text": [
      "Epoch: 002, Average Loss: 0.6675\n",
      "Validation: {'precision': 0.3109243697435445, 'recall': 0.15811965811853193, 'f1': 0.20963172357400625, 'auc': 0.6600546474448024, 'prauc': 0.1828935920691283}\n",
      "Test:       {'precision': 0.282085561493555, 'recall': 0.14880112834873907, 'f1': 0.19482917368529346, 'auc': 0.6510062337095394, 'prauc': 0.1802511444048111}\n"
     ]
    },
    {
     "name": "stderr",
     "output_type": "stream",
     "text": [
      "Training Batches: 100%|██████████| 1/1 [00:01<00:00,  1.87s/it]\n",
      "Running inference: 100%|██████████| 1/1 [00:05<00:00,  5.27s/it]\n",
      "Running inference: 100%|██████████| 1/1 [00:04<00:00,  4.41s/it]\n"
     ]
    },
    {
     "name": "stdout",
     "output_type": "stream",
     "text": [
      "Epoch: 003, Average Loss: 0.6369\n",
      "Validation: {'precision': 0.33695652172692186, 'recall': 0.06623931623884445, 'f1': 0.1107142829670494, 'auc': 0.6343876190807675, 'prauc': 0.1690004112607918}\n",
      "Test:       {'precision': 0.28057553955825265, 'recall': 0.0550070521857898, 'f1': 0.09198112933344837, 'auc': 0.6231631569921015, 'prauc': 0.16459868325286447}\n"
     ]
    },
    {
     "name": "stderr",
     "output_type": "stream",
     "text": [
      "Training Batches: 100%|██████████| 1/1 [00:01<00:00,  1.52s/it]\n",
      "Running inference: 100%|██████████| 1/1 [00:04<00:00,  4.75s/it]\n",
      "Running inference: 100%|██████████| 1/1 [00:04<00:00,  4.78s/it]\n"
     ]
    },
    {
     "name": "stdout",
     "output_type": "stream",
     "text": [
      "Epoch: 004, Average Loss: 0.6037\n",
      "Validation: {'precision': 0.19642857141103318, 'recall': 0.015669515669404065, 'f1': 0.02902374533305261, 'auc': 0.6256177046078454, 'prauc': 0.1585298972699093}\n",
      "Test:       {'precision': 0.18181818179981635, 'recall': 0.012693935119797646, 'f1': 0.023731046900949924, 'auc': 0.6145716349284359, 'prauc': 0.15348565139821285}\n"
     ]
    },
    {
     "name": "stderr",
     "output_type": "stream",
     "text": [
      "Training Batches: 100%|██████████| 1/1 [00:01<00:00,  1.90s/it]\n",
      "Running inference: 100%|██████████| 1/1 [00:05<00:00,  5.01s/it]\n",
      "Running inference: 100%|██████████| 1/1 [00:03<00:00,  3.75s/it]\n"
     ]
    },
    {
     "name": "stdout",
     "output_type": "stream",
     "text": [
      "Epoch: 005, Average Loss: 0.5716\n",
      "Validation: {'precision': 0.1458333333029514, 'recall': 0.004985754985719475, 'f1': 0.009641872638803554, 'auc': 0.6177677827584951, 'prauc': 0.14827497308029342}\n",
      "Test:       {'precision': 0.19354838703433921, 'recall': 0.0042313117065992155, 'f1': 0.008281573080123342, 'auc': 0.6063856768773002, 'prauc': 0.14417111675965477}\n"
     ]
    },
    {
     "name": "stderr",
     "output_type": "stream",
     "text": [
      "Training Batches: 100%|██████████| 1/1 [00:02<00:00,  2.44s/it]\n",
      "Running inference: 100%|██████████| 1/1 [00:04<00:00,  4.46s/it]\n",
      "Running inference: 100%|██████████| 1/1 [00:04<00:00,  4.41s/it]\n"
     ]
    },
    {
     "name": "stdout",
     "output_type": "stream",
     "text": [
      "Epoch: 006, Average Loss: 0.5381\n",
      "Validation: {'precision': 0.18181818165289254, 'recall': 0.0014245014244912786, 'f1': 0.0028268549693665885, 'auc': 0.6126440250627577, 'prauc': 0.14027913265697356}\n",
      "Test:       {'precision': 0.1874999998828125, 'recall': 0.0021156558532996078, 'f1': 0.004184100197689517, 'auc': 0.6014828607992888, 'prauc': 0.138081440442808}\n"
     ]
    },
    {
     "name": "stderr",
     "output_type": "stream",
     "text": [
      "Training Batches: 100%|██████████| 1/1 [00:03<00:00,  3.05s/it]\n",
      "Running inference: 100%|██████████| 1/1 [00:04<00:00,  4.43s/it]\n",
      "Running inference: 100%|██████████| 1/1 [00:04<00:00,  4.41s/it]\n"
     ]
    },
    {
     "name": "stdout",
     "output_type": "stream",
     "text": [
      "Epoch: 007, Average Loss: 0.5037\n",
      "Validation: {'precision': 0.4999999975, 'recall': 0.0007122507122456393, 'f1': 0.0014224750782563657, 'auc': 0.6092318419067009, 'prauc': 0.1356271411966657}\n",
      "Test:       {'precision': 0.0, 'recall': 0.0, 'f1': 0.0, 'auc': 0.598732816037296, 'prauc': 0.1340306910797895}\n"
     ]
    },
    {
     "name": "stderr",
     "output_type": "stream",
     "text": [
      "Training Batches: 100%|██████████| 1/1 [00:01<00:00,  1.89s/it]\n",
      "Running inference: 100%|██████████| 1/1 [00:04<00:00,  4.62s/it]\n",
      "Running inference: 100%|██████████| 1/1 [00:05<00:00,  5.55s/it]\n"
     ]
    },
    {
     "name": "stdout",
     "output_type": "stream",
     "text": [
      "Epoch: 008, Average Loss: 0.4689\n",
      "Validation: {'precision': 0.0, 'recall': 0.0, 'f1': 0.0, 'auc': 0.6082309660576433, 'prauc': 0.1306651839232219}\n",
      "Test:       {'precision': 0.0, 'recall': 0.0, 'f1': 0.0, 'auc': 0.5990191885204332, 'prauc': 0.13065310336961278}\n"
     ]
    },
    {
     "name": "stderr",
     "output_type": "stream",
     "text": [
      "Training Batches: 100%|██████████| 1/1 [00:01<00:00,  1.52s/it]\n",
      "Running inference: 100%|██████████| 1/1 [00:04<00:00,  4.75s/it]\n",
      "Running inference: 100%|██████████| 1/1 [00:05<00:00,  5.04s/it]\n"
     ]
    },
    {
     "name": "stdout",
     "output_type": "stream",
     "text": [
      "Epoch: 009, Average Loss: 0.4373\n",
      "Validation: {'precision': 0.0, 'recall': 0.0, 'f1': 0.0, 'auc': 0.6091188750865824, 'prauc': 0.1281894173692514}\n",
      "Test:       {'precision': 0.0, 'recall': 0.0, 'f1': 0.0, 'auc': 0.6016274249058609, 'prauc': 0.1286820200571478}\n"
     ]
    },
    {
     "name": "stderr",
     "output_type": "stream",
     "text": [
      "Training Batches: 100%|██████████| 1/1 [00:02<00:00,  2.38s/it]\n",
      "Running inference: 100%|██████████| 1/1 [00:05<00:00,  5.16s/it]\n",
      "Running inference: 100%|██████████| 1/1 [00:03<00:00,  3.96s/it]\n"
     ]
    },
    {
     "name": "stdout",
     "output_type": "stream",
     "text": [
      "Epoch: 010, Average Loss: 0.4078\n",
      "Validation: {'precision': 0.0, 'recall': 0.0, 'f1': 0.0, 'auc': 0.6102047559234814, 'prauc': 0.12717882091711574}\n",
      "Test:       {'precision': 0.0, 'recall': 0.0, 'f1': 0.0, 'auc': 0.6042707409894829, 'prauc': 0.1272396360601477}\n"
     ]
    },
    {
     "name": "stderr",
     "output_type": "stream",
     "text": [
      "Training Batches: 100%|██████████| 1/1 [00:02<00:00,  2.64s/it]\n",
      "Running inference: 100%|██████████| 1/1 [00:04<00:00,  4.91s/it]\n",
      "Running inference: 100%|██████████| 1/1 [00:04<00:00,  4.03s/it]\n"
     ]
    },
    {
     "name": "stdout",
     "output_type": "stream",
     "text": [
      "Epoch: 011, Average Loss: 0.3801\n",
      "Validation: {'precision': 0.0, 'recall': 0.0, 'f1': 0.0, 'auc': 0.6114734954397025, 'prauc': 0.12700355734295782}\n",
      "Test:       {'precision': 0.0, 'recall': 0.0, 'f1': 0.0, 'auc': 0.6064996796898329, 'prauc': 0.12665091803994766}\n",
      "\n",
      "Early stopping triggered after 11 epochs (no improvement for 10 epochs).\n",
      "\n",
      "Best validation performance:\n",
      "{'precision': 0.22465753424534435, 'recall': 0.29202279202071213, 'f1': 0.25394858597843706, 'auc': 0.6693007526846921, 'prauc': 0.17650896382552536}\n",
      "Corresponding test performance:\n",
      "{'precision': 0.22790439132724902, 'recall': 0.2891396332842797, 'f1': 0.2548958607819452, 'auc': 0.6619361292291394, 'prauc': 0.17468781159587538}\n",
      "Corresponding test-long performance:\n",
      "{'precision': 0.18954248365393653, 'recall': 0.2478632478526554, 'f1': 0.21481480989574772, 'auc': 0.7077108000344514, 'prauc': 0.14315655537671707}\n",
      "[INFO] Random seed set to 3163119785\n",
      "Training with seed: 3163119785\n"
     ]
    },
    {
     "name": "stderr",
     "output_type": "stream",
     "text": [
      "Training Batches: 100%|██████████| 1/1 [00:02<00:00,  2.36s/it]\n",
      "Running inference: 100%|██████████| 1/1 [00:04<00:00,  4.69s/it]\n",
      "Running inference: 100%|██████████| 1/1 [00:04<00:00,  4.36s/it]\n"
     ]
    },
    {
     "name": "stdout",
     "output_type": "stream",
     "text": [
      "Epoch: 001, Average Loss: 0.6840\n",
      "Validation: {'precision': 0.045454545450413227, 'recall': 0.0035612535612281966, 'f1': 0.0066050184674437224, 'auc': 0.6531990371563137, 'prauc': 0.15779783003185913}\n",
      "Test:       {'precision': 0.08474576269750071, 'recall': 0.0035260930888326796, 'f1': 0.006770479937035076, 'auc': 0.6268287496026536, 'prauc': 0.14615518993839643}\n"
     ]
    },
    {
     "name": "stderr",
     "output_type": "stream",
     "text": [
      "Training Batches: 100%|██████████| 1/1 [00:03<00:00,  3.19s/it]\n",
      "Running inference: 100%|██████████| 1/1 [00:04<00:00,  4.37s/it]\n",
      "Running inference: 100%|██████████| 1/1 [00:04<00:00,  4.49s/it]\n"
     ]
    },
    {
     "name": "stdout",
     "output_type": "stream",
     "text": [
      "Epoch: 002, Average Loss: 0.6538\n",
      "Validation: {'precision': 0.0873015872946586, 'recall': 0.007834757834702033, 'f1': 0.014379083455713777, 'auc': 0.664960994897767, 'prauc': 0.1611984163590703}\n",
      "Test:       {'precision': 0.06410256409434582, 'recall': 0.0035260930888326796, 'f1': 0.006684490990109243, 'auc': 0.6431515590927323, 'prauc': 0.15219897443468383}\n"
     ]
    },
    {
     "name": "stderr",
     "output_type": "stream",
     "text": [
      "Training Batches: 100%|██████████| 1/1 [00:02<00:00,  2.38s/it]\n",
      "Running inference: 100%|██████████| 1/1 [00:04<00:00,  4.69s/it]\n",
      "Running inference: 100%|██████████| 1/1 [00:04<00:00,  4.99s/it]\n"
     ]
    },
    {
     "name": "stdout",
     "output_type": "stream",
     "text": [
      "Epoch: 003, Average Loss: 0.6220\n",
      "Validation: {'precision': 0.09473684209529086, 'recall': 0.006410256410210754, 'f1': 0.012008004149548784, 'auc': 0.6793673939490901, 'prauc': 0.16478157948625005}\n",
      "Test:       {'precision': 0.08771929823022469, 'recall': 0.0035260930888326796, 'f1': 0.00677966027384323, 'auc': 0.6643180978372535, 'prauc': 0.15784444144420112}\n"
     ]
    },
    {
     "name": "stderr",
     "output_type": "stream",
     "text": [
      "Training Batches: 100%|██████████| 1/1 [00:02<00:00,  2.17s/it]\n",
      "Running inference: 100%|██████████| 1/1 [00:04<00:00,  4.34s/it]\n",
      "Running inference: 100%|██████████| 1/1 [00:04<00:00,  4.63s/it]\n"
     ]
    },
    {
     "name": "stdout",
     "output_type": "stream",
     "text": [
      "Epoch: 004, Average Loss: 0.5916\n",
      "Validation: {'precision': 0.099999999975, 'recall': 0.0028490028489825572, 'f1': 0.005540165666239569, 'auc': 0.6781043027738749, 'prauc': 0.16191647362675524}\n",
      "Test:       {'precision': 0.0, 'recall': 0.0, 'f1': 0.0, 'auc': 0.6656494381736829, 'prauc': 0.15641928511027475}\n"
     ]
    },
    {
     "name": "stderr",
     "output_type": "stream",
     "text": [
      "Training Batches: 100%|██████████| 1/1 [00:02<00:00,  2.38s/it]\n",
      "Running inference: 100%|██████████| 1/1 [00:05<00:00,  5.64s/it]\n",
      "Running inference: 100%|██████████| 1/1 [00:04<00:00,  4.15s/it]\n"
     ]
    },
    {
     "name": "stdout",
     "output_type": "stream",
     "text": [
      "Epoch: 005, Average Loss: 0.5592\n",
      "Validation: {'precision': 0.0999999999, 'recall': 0.0007122507122456393, 'f1': 0.0014144270165390089, 'auc': 0.6711025480226024, 'prauc': 0.15627457643214102}\n",
      "Test:       {'precision': 0.0, 'recall': 0.0, 'f1': 0.0, 'auc': 0.6602736544167599, 'prauc': 0.15169927654293214}\n"
     ]
    },
    {
     "name": "stderr",
     "output_type": "stream",
     "text": [
      "Training Batches: 100%|██████████| 1/1 [00:02<00:00,  2.72s/it]\n",
      "Running inference: 100%|██████████| 1/1 [00:04<00:00,  4.30s/it]\n",
      "Running inference: 100%|██████████| 1/1 [00:04<00:00,  4.56s/it]\n"
     ]
    },
    {
     "name": "stdout",
     "output_type": "stream",
     "text": [
      "Epoch: 006, Average Loss: 0.5253\n",
      "Validation: {'precision': 0.0, 'recall': 0.0, 'f1': 0.0, 'auc': 0.6622313704992137, 'prauc': 0.15080975742341812}\n",
      "Test:       {'precision': 0.0, 'recall': 0.0, 'f1': 0.0, 'auc': 0.6529059495664665, 'prauc': 0.1470546807563718}\n"
     ]
    },
    {
     "name": "stderr",
     "output_type": "stream",
     "text": [
      "Training Batches: 100%|██████████| 1/1 [00:02<00:00,  2.90s/it]\n",
      "Running inference: 100%|██████████| 1/1 [00:04<00:00,  4.51s/it]\n",
      "Running inference: 100%|██████████| 1/1 [00:04<00:00,  4.41s/it]\n"
     ]
    },
    {
     "name": "stdout",
     "output_type": "stream",
     "text": [
      "Epoch: 007, Average Loss: 0.4916\n",
      "Validation: {'precision': 0.0, 'recall': 0.0, 'f1': 0.0, 'auc': 0.6540017376535917, 'prauc': 0.14696930924316443}\n",
      "Test:       {'precision': 0.0, 'recall': 0.0, 'f1': 0.0, 'auc': 0.6460848723133742, 'prauc': 0.1443305744915867}\n"
     ]
    },
    {
     "name": "stderr",
     "output_type": "stream",
     "text": [
      "Training Batches: 100%|██████████| 1/1 [00:02<00:00,  2.59s/it]\n",
      "Running inference: 100%|██████████| 1/1 [00:04<00:00,  4.77s/it]\n",
      "Running inference: 100%|██████████| 1/1 [00:03<00:00,  3.99s/it]\n"
     ]
    },
    {
     "name": "stdout",
     "output_type": "stream",
     "text": [
      "Epoch: 008, Average Loss: 0.4594\n",
      "Validation: {'precision': 0.0, 'recall': 0.0, 'f1': 0.0, 'auc': 0.6484556265312856, 'prauc': 0.1450313190640859}\n",
      "Test:       {'precision': 0.0, 'recall': 0.0, 'f1': 0.0, 'auc': 0.6422940305326941, 'prauc': 0.1431522232613217}\n"
     ]
    },
    {
     "name": "stderr",
     "output_type": "stream",
     "text": [
      "Training Batches: 100%|██████████| 1/1 [00:02<00:00,  2.38s/it]\n",
      "Running inference: 100%|██████████| 1/1 [00:04<00:00,  4.65s/it]\n",
      "Running inference: 100%|██████████| 1/1 [00:05<00:00,  5.39s/it]\n"
     ]
    },
    {
     "name": "stdout",
     "output_type": "stream",
     "text": [
      "Epoch: 009, Average Loss: 0.4279\n",
      "Validation: {'precision': 0.0, 'recall': 0.0, 'f1': 0.0, 'auc': 0.6449084429365919, 'prauc': 0.14259032576024752}\n",
      "Test:       {'precision': 0.0, 'recall': 0.0, 'f1': 0.0, 'auc': 0.6402777795707953, 'prauc': 0.1409452110977182}\n"
     ]
    },
    {
     "name": "stderr",
     "output_type": "stream",
     "text": [
      "Training Batches: 100%|██████████| 1/1 [00:01<00:00,  1.48s/it]\n",
      "Running inference: 100%|██████████| 1/1 [00:04<00:00,  4.74s/it]\n",
      "Running inference: 100%|██████████| 1/1 [00:05<00:00,  5.11s/it]\n"
     ]
    },
    {
     "name": "stdout",
     "output_type": "stream",
     "text": [
      "Epoch: 010, Average Loss: 0.3986\n",
      "Validation: {'precision': 0.0, 'recall': 0.0, 'f1': 0.0, 'auc': 0.6426273782314362, 'prauc': 0.1396927736913519}\n",
      "Test:       {'precision': 0.0, 'recall': 0.0, 'f1': 0.0, 'auc': 0.6391792363539478, 'prauc': 0.13850641543341274}\n"
     ]
    },
    {
     "name": "stderr",
     "output_type": "stream",
     "text": [
      "Training Batches: 100%|██████████| 1/1 [00:02<00:00,  2.39s/it]\n",
      "Running inference: 100%|██████████| 1/1 [00:05<00:00,  5.19s/it]\n",
      "Running inference: 100%|██████████| 1/1 [00:03<00:00,  3.85s/it]\n"
     ]
    },
    {
     "name": "stdout",
     "output_type": "stream",
     "text": [
      "Epoch: 011, Average Loss: 0.3723\n",
      "Validation: {'precision': 0.0, 'recall': 0.0, 'f1': 0.0, 'auc': 0.6418983605970103, 'prauc': 0.13817429429346756}\n",
      "Test:       {'precision': 0.0, 'recall': 0.0, 'f1': 0.0, 'auc': 0.6392929164233265, 'prauc': 0.1368877628113393}\n"
     ]
    },
    {
     "name": "stderr",
     "output_type": "stream",
     "text": [
      "Training Batches: 100%|██████████| 1/1 [00:02<00:00,  2.61s/it]\n",
      "Running inference: 100%|██████████| 1/1 [00:04<00:00,  4.88s/it]\n",
      "Running inference: 100%|██████████| 1/1 [00:04<00:00,  4.07s/it]\n"
     ]
    },
    {
     "name": "stdout",
     "output_type": "stream",
     "text": [
      "Epoch: 012, Average Loss: 0.3489\n",
      "Validation: {'precision': 0.0, 'recall': 0.0, 'f1': 0.0, 'auc': 0.6434722122994609, 'prauc': 0.138039239180548}\n",
      "Test:       {'precision': 0.0, 'recall': 0.0, 'f1': 0.0, 'auc': 0.6416177346667955, 'prauc': 0.13711732142507543}\n",
      "\n",
      "Early stopping triggered after 12 epochs (no improvement for 10 epochs).\n",
      "\n",
      "Best validation performance:\n",
      "{'precision': 0.0873015872946586, 'recall': 0.007834757834702033, 'f1': 0.014379083455713777, 'auc': 0.664960994897767, 'prauc': 0.1611984163590703}\n",
      "Corresponding test performance:\n",
      "{'precision': 0.06410256409434582, 'recall': 0.0035260930888326796, 'f1': 0.006684490990109243, 'auc': 0.6431515590927323, 'prauc': 0.15219897443468383}\n",
      "Corresponding test-long performance:\n",
      "{'precision': 0.10714285710459183, 'recall': 0.012820512819964935, 'f1': 0.022900761448050973, 'auc': 0.7418139721044286, 'prauc': 0.14372646870284655}\n",
      "[INFO] Random seed set to 1812140441\n",
      "Training with seed: 1812140441\n"
     ]
    },
    {
     "name": "stderr",
     "output_type": "stream",
     "text": [
      "Training Batches: 100%|██████████| 1/1 [00:02<00:00,  2.38s/it]\n",
      "Running inference: 100%|██████████| 1/1 [00:04<00:00,  4.82s/it]\n",
      "Running inference: 100%|██████████| 1/1 [00:04<00:00,  4.30s/it]\n"
     ]
    },
    {
     "name": "stdout",
     "output_type": "stream",
     "text": [
      "Epoch: 001, Average Loss: 0.6935\n",
      "Validation: {'precision': 0.2745664739805039, 'recall': 0.06766381766333573, 'f1': 0.10857142539772092, 'auc': 0.6135267182813087, 'prauc': 0.15729111670820806}\n",
      "Test:       {'precision': 0.2160356347390638, 'recall': 0.06840620592335397, 'f1': 0.10391001241432625, 'auc': 0.6048320161605938, 'prauc': 0.15132499892464218}\n"
     ]
    },
    {
     "name": "stderr",
     "output_type": "stream",
     "text": [
      "Training Batches: 100%|██████████| 1/1 [00:02<00:00,  2.63s/it]\n",
      "Running inference: 100%|██████████| 1/1 [00:04<00:00,  4.74s/it]\n",
      "Running inference: 100%|██████████| 1/1 [00:05<00:00,  5.62s/it]\n"
     ]
    },
    {
     "name": "stdout",
     "output_type": "stream",
     "text": [
      "Epoch: 002, Average Loss: 0.6597\n",
      "Validation: {'precision': 0.23428571427232653, 'recall': 0.02920227920207121, 'f1': 0.051931600308337704, 'auc': 0.6193798243701795, 'prauc': 0.15053293022352682}\n",
      "Test:       {'precision': 0.19875776396281006, 'recall': 0.02256699576852915, 'f1': 0.04053198043540926, 'auc': 0.610350204127597, 'prauc': 0.14835262236631122}\n"
     ]
    },
    {
     "name": "stderr",
     "output_type": "stream",
     "text": [
      "Training Batches: 100%|██████████| 1/1 [00:01<00:00,  1.43s/it]\n",
      "Running inference: 100%|██████████| 1/1 [00:05<00:00,  5.27s/it]\n",
      "Running inference: 100%|██████████| 1/1 [00:05<00:00,  5.03s/it]\n"
     ]
    },
    {
     "name": "stdout",
     "output_type": "stream",
     "text": [
      "Epoch: 003, Average Loss: 0.6274\n",
      "Validation: {'precision': 0.20652173910798677, 'recall': 0.013532763532667146, 'f1': 0.025401068364068947, 'auc': 0.620494710201433, 'prauc': 0.1430010115582414}\n",
      "Test:       {'precision': 0.13924050631148854, 'recall': 0.007757404795431895, 'f1': 0.01469605778429277, 'auc': 0.6112477280123281, 'prauc': 0.1424844279923123}\n"
     ]
    },
    {
     "name": "stderr",
     "output_type": "stream",
     "text": [
      "Training Batches: 100%|██████████| 1/1 [00:02<00:00,  2.59s/it]\n",
      "Running inference: 100%|██████████| 1/1 [00:04<00:00,  4.87s/it]\n",
      "Running inference: 100%|██████████| 1/1 [00:03<00:00,  3.91s/it]\n"
     ]
    },
    {
     "name": "stdout",
     "output_type": "stream",
     "text": [
      "Epoch: 004, Average Loss: 0.5950\n",
      "Validation: {'precision': 0.14705882348615917, 'recall': 0.0035612535612281966, 'f1': 0.006954102458928269, 'auc': 0.6234295067705798, 'prauc': 0.13948378933285793}\n",
      "Test:       {'precision': 0.06666666665185185, 'recall': 0.0021156558532996078, 'f1': 0.004101161399590532, 'auc': 0.6149227298271378, 'prauc': 0.13891182481768982}\n"
     ]
    },
    {
     "name": "stderr",
     "output_type": "stream",
     "text": [
      "Training Batches: 100%|██████████| 1/1 [00:02<00:00,  2.38s/it]\n",
      "Running inference: 100%|██████████| 1/1 [00:05<00:00,  5.19s/it]\n",
      "Running inference: 100%|██████████| 1/1 [00:03<00:00,  3.96s/it]\n"
     ]
    },
    {
     "name": "stdout",
     "output_type": "stream",
     "text": [
      "Epoch: 005, Average Loss: 0.5602\n",
      "Validation: {'precision': 0.0, 'recall': 0.0, 'f1': 0.0, 'auc': 0.6203002749673465, 'prauc': 0.13318577810102444}\n",
      "Test:       {'precision': 0.08333333326388888, 'recall': 0.0007052186177665359, 'f1': 0.0013986012321580716, 'auc': 0.6124639483483842, 'prauc': 0.13281627069280433}\n"
     ]
    },
    {
     "name": "stderr",
     "output_type": "stream",
     "text": [
      "Training Batches: 100%|██████████| 1/1 [00:02<00:00,  2.67s/it]\n",
      "Running inference: 100%|██████████| 1/1 [00:04<00:00,  4.38s/it]\n",
      "Running inference: 100%|██████████| 1/1 [00:04<00:00,  4.69s/it]\n"
     ]
    },
    {
     "name": "stdout",
     "output_type": "stream",
     "text": [
      "Epoch: 006, Average Loss: 0.5228\n",
      "Validation: {'precision': 0.0, 'recall': 0.0, 'f1': 0.0, 'auc': 0.6151392433095655, 'prauc': 0.12769290712325743}\n",
      "Test:       {'precision': 0.0, 'recall': 0.0, 'f1': 0.0, 'auc': 0.6079509066947556, 'prauc': 0.12758661409555003}\n"
     ]
    },
    {
     "name": "stderr",
     "output_type": "stream",
     "text": [
      "Training Batches: 100%|██████████| 1/1 [00:02<00:00,  2.89s/it]\n",
      "Running inference: 100%|██████████| 1/1 [00:04<00:00,  4.55s/it]\n",
      "Running inference: 100%|██████████| 1/1 [00:04<00:00,  4.41s/it]\n"
     ]
    },
    {
     "name": "stdout",
     "output_type": "stream",
     "text": [
      "Epoch: 007, Average Loss: 0.4851\n",
      "Validation: {'precision': 0.0, 'recall': 0.0, 'f1': 0.0, 'auc': 0.6101055283112152, 'prauc': 0.12363895099073667}\n",
      "Test:       {'precision': 0.0, 'recall': 0.0, 'f1': 0.0, 'auc': 0.6035611529259348, 'prauc': 0.12420137596070141}\n"
     ]
    },
    {
     "name": "stderr",
     "output_type": "stream",
     "text": [
      "Training Batches: 100%|██████████| 1/1 [00:02<00:00,  2.12s/it]\n",
      "Running inference: 100%|██████████| 1/1 [00:04<00:00,  4.26s/it]\n",
      "Running inference: 100%|██████████| 1/1 [00:05<00:00,  5.69s/it]\n"
     ]
    },
    {
     "name": "stdout",
     "output_type": "stream",
     "text": [
      "Epoch: 008, Average Loss: 0.4501\n",
      "Validation: {'precision': 0.0, 'recall': 0.0, 'f1': 0.0, 'auc': 0.607331047943322, 'prauc': 0.1221298307676742}\n",
      "Test:       {'precision': 0.0, 'recall': 0.0, 'f1': 0.0, 'auc': 0.6013267524183642, 'prauc': 0.12271568663531707}\n"
     ]
    },
    {
     "name": "stderr",
     "output_type": "stream",
     "text": [
      "Training Batches: 100%|██████████| 1/1 [00:01<00:00,  1.42s/it]\n",
      "Running inference: 100%|██████████| 1/1 [00:05<00:00,  5.27s/it]\n",
      "Running inference: 100%|██████████| 1/1 [00:04<00:00,  4.91s/it]\n"
     ]
    },
    {
     "name": "stdout",
     "output_type": "stream",
     "text": [
      "Epoch: 009, Average Loss: 0.4176\n",
      "Validation: {'precision': 0.0, 'recall': 0.0, 'f1': 0.0, 'auc': 0.6062326237185135, 'prauc': 0.12159865317830469}\n",
      "Test:       {'precision': 0.0, 'recall': 0.0, 'f1': 0.0, 'auc': 0.6008567390806309, 'prauc': 0.12214107530706424}\n"
     ]
    },
    {
     "name": "stderr",
     "output_type": "stream",
     "text": [
      "Training Batches: 100%|██████████| 1/1 [00:02<00:00,  2.58s/it]\n",
      "Running inference: 100%|██████████| 1/1 [00:04<00:00,  4.84s/it]\n",
      "Running inference: 100%|██████████| 1/1 [00:03<00:00,  3.95s/it]\n"
     ]
    },
    {
     "name": "stdout",
     "output_type": "stream",
     "text": [
      "Epoch: 010, Average Loss: 0.3874\n",
      "Validation: {'precision': 0.0, 'recall': 0.0, 'f1': 0.0, 'auc': 0.6062294687893031, 'prauc': 0.1213400370926879}\n",
      "Test:       {'precision': 0.0, 'recall': 0.0, 'f1': 0.0, 'auc': 0.6011744673024939, 'prauc': 0.12080938230677694}\n"
     ]
    },
    {
     "name": "stderr",
     "output_type": "stream",
     "text": [
      "Training Batches: 100%|██████████| 1/1 [00:02<00:00,  2.34s/it]\n",
      "Running inference: 100%|██████████| 1/1 [00:05<00:00,  5.22s/it]\n",
      "Running inference: 100%|██████████| 1/1 [00:03<00:00,  3.83s/it]\n"
     ]
    },
    {
     "name": "stdout",
     "output_type": "stream",
     "text": [
      "Epoch: 011, Average Loss: 0.3629\n",
      "Validation: {'precision': 0.0, 'recall': 0.0, 'f1': 0.0, 'auc': 0.6070895686438302, 'prauc': 0.12038960861900525}\n",
      "Test:       {'precision': 0.0, 'recall': 0.0, 'f1': 0.0, 'auc': 0.6019925467185612, 'prauc': 0.11776932226361203}\n",
      "\n",
      "Early stopping triggered after 11 epochs (no improvement for 10 epochs).\n",
      "\n",
      "Best validation performance:\n",
      "{'precision': 0.2745664739805039, 'recall': 0.06766381766333573, 'f1': 0.10857142539772092, 'auc': 0.6135267182813087, 'prauc': 0.15729111670820806}\n",
      "Corresponding test performance:\n",
      "{'precision': 0.2160356347390638, 'recall': 0.06840620592335397, 'f1': 0.10391001241432625, 'auc': 0.6048320161605938, 'prauc': 0.15132499892464218}\n",
      "Corresponding test-long performance:\n",
      "{'precision': 0.20967741933792924, 'recall': 0.11111111110636276, 'f1': 0.14525139211198168, 'auc': 0.7273975448249308, 'prauc': 0.15590247542726848}\n",
      "[INFO] Random seed set to 127978094\n",
      "Training with seed: 127978094\n"
     ]
    },
    {
     "name": "stderr",
     "output_type": "stream",
     "text": [
      "Training Batches: 100%|██████████| 1/1 [00:02<00:00,  2.58s/it]\n",
      "Running inference: 100%|██████████| 1/1 [00:04<00:00,  4.24s/it]\n",
      "Running inference: 100%|██████████| 1/1 [00:04<00:00,  4.70s/it]\n"
     ]
    },
    {
     "name": "stdout",
     "output_type": "stream",
     "text": [
      "Epoch: 001, Average Loss: 0.6896\n",
      "Validation: {'precision': 0.24999999991071428, 'recall': 0.004985754985719475, 'f1': 0.009776535929297635, 'auc': 0.5977530899478459, 'prauc': 0.13439030337231328}\n",
      "Test:       {'precision': 0.10526315783933518, 'recall': 0.0014104372355330718, 'f1': 0.0027835766353296594, 'auc': 0.5859703352367898, 'prauc': 0.12739225019278677}\n"
     ]
    },
    {
     "name": "stderr",
     "output_type": "stream",
     "text": [
      "Training Batches: 100%|██████████| 1/1 [00:02<00:00,  2.84s/it]\n",
      "Running inference: 100%|██████████| 1/1 [00:04<00:00,  4.68s/it]\n",
      "Running inference: 100%|██████████| 1/1 [00:04<00:00,  4.39s/it]\n"
     ]
    },
    {
     "name": "stdout",
     "output_type": "stream",
     "text": [
      "Epoch: 002, Average Loss: 0.6577\n",
      "Validation: {'precision': 0.249999999375, 'recall': 0.0007122507122456393, 'f1': 0.0014204544887776044, 'auc': 0.6177484206526144, 'prauc': 0.1532738643469635}\n",
      "Test:       {'precision': 0.0, 'recall': 0.0, 'f1': 0.0, 'auc': 0.6068247068722543, 'prauc': 0.1476651035536999}\n"
     ]
    },
    {
     "name": "stderr",
     "output_type": "stream",
     "text": [
      "Training Batches: 100%|██████████| 1/1 [00:02<00:00,  2.55s/it]\n",
      "Running inference: 100%|██████████| 1/1 [00:04<00:00,  4.25s/it]\n",
      "Running inference: 100%|██████████| 1/1 [00:05<00:00,  5.27s/it]\n"
     ]
    },
    {
     "name": "stdout",
     "output_type": "stream",
     "text": [
      "Epoch: 003, Average Loss: 0.6268\n",
      "Validation: {'precision': 0.249999999375, 'recall': 0.0007122507122456393, 'f1': 0.0014204544887776044, 'auc': 0.6298830671285482, 'prauc': 0.15949426272043427}\n",
      "Test:       {'precision': 0.0, 'recall': 0.0, 'f1': 0.0, 'auc': 0.6198774579001416, 'prauc': 0.15449477696967295}\n"
     ]
    },
    {
     "name": "stderr",
     "output_type": "stream",
     "text": [
      "Training Batches: 100%|██████████| 1/1 [00:01<00:00,  1.96s/it]\n",
      "Running inference: 100%|██████████| 1/1 [00:04<00:00,  4.74s/it]\n",
      "Running inference: 100%|██████████| 1/1 [00:04<00:00,  4.33s/it]\n"
     ]
    },
    {
     "name": "stdout",
     "output_type": "stream",
     "text": [
      "Epoch: 004, Average Loss: 0.5947\n",
      "Validation: {'precision': 0.0, 'recall': 0.0, 'f1': 0.0, 'auc': 0.6357950991533188, 'prauc': 0.15653078760825587}\n",
      "Test:       {'precision': 0.0, 'recall': 0.0, 'f1': 0.0, 'auc': 0.6272188219437936, 'prauc': 0.15283967120706504}\n"
     ]
    },
    {
     "name": "stderr",
     "output_type": "stream",
     "text": [
      "Training Batches: 100%|██████████| 1/1 [00:02<00:00,  2.60s/it]\n",
      "Running inference: 100%|██████████| 1/1 [00:05<00:00,  5.36s/it]\n",
      "Running inference: 100%|██████████| 1/1 [00:04<00:00,  4.15s/it]\n"
     ]
    },
    {
     "name": "stdout",
     "output_type": "stream",
     "text": [
      "Epoch: 005, Average Loss: 0.5599\n",
      "Validation: {'precision': 0.0, 'recall': 0.0, 'f1': 0.0, 'auc': 0.6343428648833378, 'prauc': 0.15048417947386927}\n",
      "Test:       {'precision': 0.0, 'recall': 0.0, 'f1': 0.0, 'auc': 0.6274689230617064, 'prauc': 0.14812033794736917}\n"
     ]
    },
    {
     "name": "stderr",
     "output_type": "stream",
     "text": [
      "Training Batches: 100%|██████████| 1/1 [00:02<00:00,  2.39s/it]\n",
      "Running inference: 100%|██████████| 1/1 [00:04<00:00,  4.77s/it]\n",
      "Running inference: 100%|██████████| 1/1 [00:04<00:00,  4.39s/it]\n"
     ]
    },
    {
     "name": "stdout",
     "output_type": "stream",
     "text": [
      "Epoch: 006, Average Loss: 0.5269\n",
      "Validation: {'precision': 0.0, 'recall': 0.0, 'f1': 0.0, 'auc': 0.6283252699449027, 'prauc': 0.14357941392260887}\n",
      "Test:       {'precision': 0.0, 'recall': 0.0, 'f1': 0.0, 'auc': 0.6218324124891869, 'prauc': 0.14275037318012065}\n"
     ]
    },
    {
     "name": "stderr",
     "output_type": "stream",
     "text": [
      "Training Batches: 100%|██████████| 1/1 [00:03<00:00,  3.19s/it]\n",
      "Running inference: 100%|██████████| 1/1 [00:04<00:00,  4.29s/it]\n",
      "Running inference: 100%|██████████| 1/1 [00:04<00:00,  4.68s/it]\n"
     ]
    },
    {
     "name": "stdout",
     "output_type": "stream",
     "text": [
      "Epoch: 007, Average Loss: 0.4934\n",
      "Validation: {'precision': 0.0, 'recall': 0.0, 'f1': 0.0, 'auc': 0.6234553313927466, 'prauc': 0.13780143753241114}\n",
      "Test:       {'precision': 0.0, 'recall': 0.0, 'f1': 0.0, 'auc': 0.617723048041957, 'prauc': 0.1381427344417352}\n"
     ]
    },
    {
     "name": "stderr",
     "output_type": "stream",
     "text": [
      "Training Batches: 100%|██████████| 1/1 [00:02<00:00,  2.40s/it]\n",
      "Running inference: 100%|██████████| 1/1 [00:05<00:00,  5.38s/it]\n",
      "Running inference: 100%|██████████| 1/1 [00:03<00:00,  3.89s/it]\n"
     ]
    },
    {
     "name": "stdout",
     "output_type": "stream",
     "text": [
      "Epoch: 008, Average Loss: 0.4586\n",
      "Validation: {'precision': 0.0, 'recall': 0.0, 'f1': 0.0, 'auc': 0.6212215397397935, 'prauc': 0.1326885683437913}\n",
      "Test:       {'precision': 0.0, 'recall': 0.0, 'f1': 0.0, 'auc': 0.6166089386745306, 'prauc': 0.13370119999763377}\n"
     ]
    },
    {
     "name": "stderr",
     "output_type": "stream",
     "text": [
      "Training Batches: 100%|██████████| 1/1 [00:02<00:00,  2.59s/it]\n",
      "Running inference: 100%|██████████| 1/1 [00:04<00:00,  4.28s/it]\n",
      "Running inference: 100%|██████████| 1/1 [00:05<00:00,  5.70s/it]\n"
     ]
    },
    {
     "name": "stdout",
     "output_type": "stream",
     "text": [
      "Epoch: 009, Average Loss: 0.4271\n",
      "Validation: {'precision': 0.0, 'recall': 0.0, 'f1': 0.0, 'auc': 0.6199016089528342, 'prauc': 0.12893123292982095}\n",
      "Test:       {'precision': 0.0, 'recall': 0.0, 'f1': 0.0, 'auc': 0.6160816260137736, 'prauc': 0.12993754121060272}\n"
     ]
    },
    {
     "name": "stderr",
     "output_type": "stream",
     "text": [
      "Training Batches: 100%|██████████| 1/1 [00:01<00:00,  1.42s/it]\n",
      "Running inference: 100%|██████████| 1/1 [00:05<00:00,  5.07s/it]\n",
      "Running inference: 100%|██████████| 1/1 [00:04<00:00,  4.73s/it]\n"
     ]
    },
    {
     "name": "stdout",
     "output_type": "stream",
     "text": [
      "Epoch: 010, Average Loss: 0.3971\n",
      "Validation: {'precision': 0.0, 'recall': 0.0, 'f1': 0.0, 'auc': 0.6203164058150841, 'prauc': 0.12783930488719786}\n",
      "Test:       {'precision': 0.0, 'recall': 0.0, 'f1': 0.0, 'auc': 0.6170367719646825, 'prauc': 0.12851914889767152}\n"
     ]
    },
    {
     "name": "stderr",
     "output_type": "stream",
     "text": [
      "Training Batches: 100%|██████████| 1/1 [00:02<00:00,  2.60s/it]\n",
      "Running inference: 100%|██████████| 1/1 [00:04<00:00,  4.86s/it]\n",
      "Running inference: 100%|██████████| 1/1 [00:04<00:00,  4.19s/it]\n"
     ]
    },
    {
     "name": "stdout",
     "output_type": "stream",
     "text": [
      "Epoch: 011, Average Loss: 0.3705\n",
      "Validation: {'precision': 0.0, 'recall': 0.0, 'f1': 0.0, 'auc': 0.6224719603122117, 'prauc': 0.12786773608866303}\n",
      "Test:       {'precision': 0.0, 'recall': 0.0, 'f1': 0.0, 'auc': 0.6197448104638692, 'prauc': 0.1283066720746636}\n",
      "\n",
      "Early stopping triggered after 11 epochs (no improvement for 10 epochs).\n",
      "\n",
      "Best validation performance:\n",
      "{'precision': 0.24999999991071428, 'recall': 0.004985754985719475, 'f1': 0.009776535929297635, 'auc': 0.5977530899478459, 'prauc': 0.13439030337231328}\n",
      "Corresponding test performance:\n",
      "{'precision': 0.10526315783933518, 'recall': 0.0014104372355330718, 'f1': 0.0027835766353296594, 'auc': 0.5859703352367898, 'prauc': 0.12739225019278677}\n",
      "Corresponding test-long performance:\n",
      "{'precision': 0.14285714265306124, 'recall': 0.004273504273321645, 'f1': 0.008298754621993459, 'auc': 0.7124820776273058, 'prauc': 0.12813487660863965}\n",
      "[INFO] Random seed set to 939042955\n",
      "Training with seed: 939042955\n"
     ]
    },
    {
     "name": "stderr",
     "output_type": "stream",
     "text": [
      "Training Batches: 100%|██████████| 1/1 [00:02<00:00,  2.36s/it]\n",
      "Running inference: 100%|██████████| 1/1 [00:04<00:00,  4.74s/it]\n",
      "Running inference: 100%|██████████| 1/1 [00:04<00:00,  4.78s/it]\n"
     ]
    },
    {
     "name": "stdout",
     "output_type": "stream",
     "text": [
      "Epoch: 001, Average Loss: 0.6846\n",
      "Validation: {'precision': 0.0, 'recall': 0.0, 'f1': 0.0, 'auc': 0.6198393499868815, 'prauc': 0.14462390719622217}\n",
      "Test:       {'precision': 0.0, 'recall': 0.0, 'f1': 0.0, 'auc': 0.6026904415493777, 'prauc': 0.13750465395073783}\n"
     ]
    },
    {
     "name": "stderr",
     "output_type": "stream",
     "text": [
      "Training Batches: 100%|██████████| 1/1 [00:03<00:00,  3.09s/it]\n",
      "Running inference: 100%|██████████| 1/1 [00:04<00:00,  4.30s/it]\n",
      "Running inference: 100%|██████████| 1/1 [00:04<00:00,  4.65s/it]\n"
     ]
    },
    {
     "name": "stdout",
     "output_type": "stream",
     "text": [
      "Epoch: 002, Average Loss: 0.6556\n",
      "Validation: {'precision': 0.0, 'recall': 0.0, 'f1': 0.0, 'auc': 0.6239335321549366, 'prauc': 0.14833812629584975}\n",
      "Test:       {'precision': 0.16666666638888888, 'recall': 0.0007052186177665359, 'f1': 0.0014044942980881569, 'auc': 0.6083653833836133, 'prauc': 0.14216416857077835}\n"
     ]
    },
    {
     "name": "stderr",
     "output_type": "stream",
     "text": [
      "Training Batches: 100%|██████████| 1/1 [00:02<00:00,  2.30s/it]\n",
      "Running inference: 100%|██████████| 1/1 [00:04<00:00,  4.71s/it]\n",
      "Running inference: 100%|██████████| 1/1 [00:05<00:00,  5.24s/it]\n"
     ]
    },
    {
     "name": "stdout",
     "output_type": "stream",
     "text": [
      "Epoch: 003, Average Loss: 0.6261\n",
      "Validation: {'precision': 0.0, 'recall': 0.0, 'f1': 0.0, 'auc': 0.6244707097389816, 'prauc': 0.1487027566393152}\n",
      "Test:       {'precision': 0.249999999375, 'recall': 0.0007052186177665359, 'f1': 0.0014064697047798237, 'auc': 0.6102672591370324, 'prauc': 0.14284205766241287}\n"
     ]
    },
    {
     "name": "stderr",
     "output_type": "stream",
     "text": [
      "Training Batches: 100%|██████████| 1/1 [00:01<00:00,  1.47s/it]\n",
      "Running inference: 100%|██████████| 1/1 [00:04<00:00,  4.73s/it]\n",
      "Running inference: 100%|██████████| 1/1 [00:05<00:00,  5.24s/it]\n"
     ]
    },
    {
     "name": "stdout",
     "output_type": "stream",
     "text": [
      "Epoch: 004, Average Loss: 0.5962\n",
      "Validation: {'precision': 0.0, 'recall': 0.0, 'f1': 0.0, 'auc': 0.6134399577280194, 'prauc': 0.14014676281746685}\n",
      "Test:       {'precision': 0.0, 'recall': 0.0, 'f1': 0.0, 'auc': 0.5979563456616915, 'prauc': 0.1341768464521093}\n"
     ]
    },
    {
     "name": "stderr",
     "output_type": "stream",
     "text": [
      "Training Batches: 100%|██████████| 1/1 [00:02<00:00,  2.34s/it]\n",
      "Running inference: 100%|██████████| 1/1 [00:05<00:00,  5.29s/it]\n",
      "Running inference: 100%|██████████| 1/1 [00:03<00:00,  3.87s/it]\n"
     ]
    },
    {
     "name": "stdout",
     "output_type": "stream",
     "text": [
      "Epoch: 005, Average Loss: 0.5637\n",
      "Validation: {'precision': 0.0, 'recall': 0.0, 'f1': 0.0, 'auc': 0.6019408768301389, 'prauc': 0.1333347317112299}\n",
      "Test:       {'precision': 0.0, 'recall': 0.0, 'f1': 0.0, 'auc': 0.5850704776707915, 'prauc': 0.12717084825401748}\n"
     ]
    },
    {
     "name": "stderr",
     "output_type": "stream",
     "text": [
      "Training Batches: 100%|██████████| 1/1 [00:02<00:00,  2.61s/it]\n",
      "Running inference: 100%|██████████| 1/1 [00:04<00:00,  4.82s/it]\n",
      "Running inference: 100%|██████████| 1/1 [00:04<00:00,  4.12s/it]\n"
     ]
    },
    {
     "name": "stdout",
     "output_type": "stream",
     "text": [
      "Epoch: 006, Average Loss: 0.5301\n",
      "Validation: {'precision': 0.0, 'recall': 0.0, 'f1': 0.0, 'auc': 0.5939544534064789, 'prauc': 0.12815907455405767}\n",
      "Test:       {'precision': 0.0, 'recall': 0.0, 'f1': 0.0, 'auc': 0.5768035359144112, 'prauc': 0.12173408531072476}\n"
     ]
    },
    {
     "name": "stderr",
     "output_type": "stream",
     "text": [
      "Training Batches: 100%|██████████| 1/1 [00:02<00:00,  2.41s/it]\n",
      "Running inference: 100%|██████████| 1/1 [00:04<00:00,  4.62s/it]\n",
      "Running inference: 100%|██████████| 1/1 [00:04<00:00,  4.35s/it]\n"
     ]
    },
    {
     "name": "stdout",
     "output_type": "stream",
     "text": [
      "Epoch: 007, Average Loss: 0.4973\n",
      "Validation: {'precision': 0.0, 'recall': 0.0, 'f1': 0.0, 'auc': 0.5871872829077944, 'prauc': 0.12376661299808074}\n",
      "Test:       {'precision': 0.0, 'recall': 0.0, 'f1': 0.0, 'auc': 0.5701361092289945, 'prauc': 0.11658473183764365}\n"
     ]
    },
    {
     "name": "stderr",
     "output_type": "stream",
     "text": [
      "Training Batches: 100%|██████████| 1/1 [00:03<00:00,  3.05s/it]\n",
      "Running inference: 100%|██████████| 1/1 [00:04<00:00,  4.33s/it]\n",
      "Running inference: 100%|██████████| 1/1 [00:04<00:00,  4.85s/it]\n"
     ]
    },
    {
     "name": "stdout",
     "output_type": "stream",
     "text": [
      "Epoch: 008, Average Loss: 0.4651\n",
      "Validation: {'precision': 0.0, 'recall': 0.0, 'f1': 0.0, 'auc': 0.5845638320543657, 'prauc': 0.12129643841008782}\n",
      "Test:       {'precision': 0.0, 'recall': 0.0, 'f1': 0.0, 'auc': 0.5681133289248275, 'prauc': 0.11415630463741527}\n"
     ]
    },
    {
     "name": "stderr",
     "output_type": "stream",
     "text": [
      "Training Batches: 100%|██████████| 1/1 [00:01<00:00,  1.86s/it]\n",
      "Running inference: 100%|██████████| 1/1 [00:05<00:00,  5.09s/it]\n",
      "Running inference: 100%|██████████| 1/1 [00:04<00:00,  4.33s/it]\n"
     ]
    },
    {
     "name": "stdout",
     "output_type": "stream",
     "text": [
      "Epoch: 009, Average Loss: 0.4333\n",
      "Validation: {'precision': 0.0, 'recall': 0.0, 'f1': 0.0, 'auc': 0.5844305617381991, 'prauc': 0.11993523179482796}\n",
      "Test:       {'precision': 0.0, 'recall': 0.0, 'f1': 0.0, 'auc': 0.5686619178073485, 'prauc': 0.11272338547589175}\n"
     ]
    },
    {
     "name": "stderr",
     "output_type": "stream",
     "text": [
      "Training Batches: 100%|██████████| 1/1 [00:01<00:00,  1.47s/it]\n",
      "Running inference: 100%|██████████| 1/1 [00:05<00:00,  5.05s/it]\n",
      "Running inference: 100%|██████████| 1/1 [00:04<00:00,  4.64s/it]\n"
     ]
    },
    {
     "name": "stdout",
     "output_type": "stream",
     "text": [
      "Epoch: 010, Average Loss: 0.4041\n",
      "Validation: {'precision': 0.0, 'recall': 0.0, 'f1': 0.0, 'auc': 0.5864503525073648, 'prauc': 0.11874388273768141}\n",
      "Test:       {'precision': 0.0, 'recall': 0.0, 'f1': 0.0, 'auc': 0.5716203553412056, 'prauc': 0.1115494376358603}\n",
      "\n",
      "Early stopping triggered after 10 epochs (no improvement for 10 epochs).\n",
      "\n",
      "Best validation performance:\n",
      "None\n",
      "Corresponding test performance:\n",
      "None\n",
      "[INFO] Random seed set to 2340505846\n",
      "Training with seed: 2340505846\n"
     ]
    },
    {
     "name": "stderr",
     "output_type": "stream",
     "text": [
      "Training Batches: 100%|██████████| 1/1 [00:02<00:00,  2.10s/it]\n",
      "Running inference: 100%|██████████| 1/1 [00:04<00:00,  4.92s/it]\n",
      "Running inference: 100%|██████████| 1/1 [00:03<00:00,  3.97s/it]\n"
     ]
    },
    {
     "name": "stdout",
     "output_type": "stream",
     "text": [
      "Epoch: 001, Average Loss: 0.6951\n",
      "Validation: {'precision': 0.2333333333321725, 'recall': 0.33404558404320484, 'f1': 0.27475102034632204, 'auc': 0.6742313218522407, 'prauc': 0.18626498965847665}\n",
      "Test:       {'precision': 0.2267002518880267, 'recall': 0.31734837799494114, 'f1': 0.2644725193805677, 'auc': 0.6531332600524313, 'prauc': 0.1811892077590257}\n"
     ]
    },
    {
     "name": "stderr",
     "output_type": "stream",
     "text": [
      "Training Batches: 100%|██████████| 1/1 [00:02<00:00,  2.37s/it]\n",
      "Running inference: 100%|██████████| 1/1 [00:04<00:00,  4.71s/it]\n",
      "Running inference: 100%|██████████| 1/1 [00:04<00:00,  4.82s/it]\n"
     ]
    },
    {
     "name": "stdout",
     "output_type": "stream",
     "text": [
      "Epoch: 002, Average Loss: 0.6671\n",
      "Validation: {'precision': 0.2869649805419556, 'recall': 0.21011396011246358, 'f1': 0.24259867932804532, 'auc': 0.7060667965683326, 'prauc': 0.21267461108162825}\n",
      "Test:       {'precision': 0.3001968503907461, 'recall': 0.21509167841879345, 'f1': 0.25061626464953163, 'auc': 0.6921338655185881, 'prauc': 0.20504232301322958}\n"
     ]
    },
    {
     "name": "stderr",
     "output_type": "stream",
     "text": [
      "Training Batches: 100%|██████████| 1/1 [00:03<00:00,  3.12s/it]\n",
      "Running inference: 100%|██████████| 1/1 [00:04<00:00,  4.28s/it]\n",
      "Running inference: 100%|██████████| 1/1 [00:04<00:00,  4.54s/it]\n"
     ]
    },
    {
     "name": "stdout",
     "output_type": "stream",
     "text": [
      "Epoch: 003, Average Loss: 0.6400\n",
      "Validation: {'precision': 0.330696202526413, 'recall': 0.1488603988593386, 'f1': 0.20530451438089833, 'auc': 0.702659727450754, 'prauc': 0.2067444827623851}\n",
      "Test:       {'precision': 0.3117283950569178, 'recall': 0.14245416078884024, 'f1': 0.19554694632187203, 'auc': 0.6899388148494026, 'prauc': 0.1976797159839247}\n"
     ]
    },
    {
     "name": "stderr",
     "output_type": "stream",
     "text": [
      "Training Batches: 100%|██████████| 1/1 [00:02<00:00,  2.40s/it]\n",
      "Running inference: 100%|██████████| 1/1 [00:04<00:00,  4.59s/it]\n",
      "Running inference: 100%|██████████| 1/1 [00:05<00:00,  5.55s/it]\n"
     ]
    },
    {
     "name": "stdout",
     "output_type": "stream",
     "text": [
      "Epoch: 004, Average Loss: 0.6124\n",
      "Validation: {'precision': 0.30312499999052733, 'recall': 0.069088319087827, 'f1': 0.11252899929564072, 'auc': 0.6874249050518967, 'prauc': 0.18906892615730078}\n",
      "Test:       {'precision': 0.2942942942854566, 'recall': 0.06911142454112051, 'f1': 0.11193603346906941, 'auc': 0.6742684430582269, 'prauc': 0.18037981329180441}\n"
     ]
    },
    {
     "name": "stderr",
     "output_type": "stream",
     "text": [
      "Training Batches: 100%|██████████| 1/1 [00:01<00:00,  1.51s/it]\n",
      "Running inference: 100%|██████████| 1/1 [00:04<00:00,  4.76s/it]\n",
      "Running inference: 100%|██████████| 1/1 [00:05<00:00,  5.01s/it]\n"
     ]
    },
    {
     "name": "stdout",
     "output_type": "stream",
     "text": [
      "Epoch: 005, Average Loss: 0.5820\n",
      "Validation: {'precision': 0.37254901957131875, 'recall': 0.027065527065334292, 'f1': 0.05046480617341175, 'auc': 0.6830443876150099, 'prauc': 0.18648814126814509}\n",
      "Test:       {'precision': 0.30769230766272193, 'recall': 0.02256699576852915, 'f1': 0.04204993302318518, 'auc': 0.6731675413337157, 'prauc': 0.17716511166303164}\n"
     ]
    },
    {
     "name": "stderr",
     "output_type": "stream",
     "text": [
      "Training Batches: 100%|██████████| 1/1 [00:02<00:00,  2.36s/it]\n",
      "Running inference: 100%|██████████| 1/1 [00:05<00:00,  5.20s/it]\n",
      "Running inference: 100%|██████████| 1/1 [00:03<00:00,  3.89s/it]\n"
     ]
    },
    {
     "name": "stdout",
     "output_type": "stream",
     "text": [
      "Epoch: 006, Average Loss: 0.5496\n",
      "Validation: {'precision': 0.47619047596371883, 'recall': 0.007122507122456393, 'f1': 0.014035087428707918, 'auc': 0.6752707183692395, 'prauc': 0.18101545410598766}\n",
      "Test:       {'precision': 0.319999999872, 'recall': 0.005641748942132287, 'f1': 0.011088010747360199, 'auc': 0.6679264407775747, 'prauc': 0.17207862349136752}\n"
     ]
    },
    {
     "name": "stderr",
     "output_type": "stream",
     "text": [
      "Training Batches: 100%|██████████| 1/1 [00:02<00:00,  2.67s/it]\n",
      "Running inference: 100%|██████████| 1/1 [00:04<00:00,  4.77s/it]\n",
      "Running inference: 100%|██████████| 1/1 [00:04<00:00,  4.05s/it]\n"
     ]
    },
    {
     "name": "stdout",
     "output_type": "stream",
     "text": [
      "Epoch: 007, Average Loss: 0.5193\n",
      "Validation: {'precision': 0.49999999937499995, 'recall': 0.0028490028489825572, 'f1': 0.005665722266850711, 'auc': 0.6651753010972844, 'prauc': 0.1717739773731203}\n",
      "Test:       {'precision': 0.2857142853061225, 'recall': 0.0014104372355330718, 'f1': 0.002807017446057252, 'auc': 0.658916941503151, 'prauc': 0.16532839975235353}\n"
     ]
    },
    {
     "name": "stderr",
     "output_type": "stream",
     "text": [
      "Training Batches: 100%|██████████| 1/1 [00:02<00:00,  2.35s/it]\n",
      "Running inference: 100%|██████████| 1/1 [00:04<00:00,  4.67s/it]\n",
      "Running inference: 100%|██████████| 1/1 [00:04<00:00,  4.41s/it]\n"
     ]
    },
    {
     "name": "stdout",
     "output_type": "stream",
     "text": [
      "Epoch: 008, Average Loss: 0.4866\n",
      "Validation: {'precision': 0.3333333322222222, 'recall': 0.0007122507122456393, 'f1': 0.00142146406545807, 'auc': 0.6540608925762886, 'prauc': 0.16166670364720612}\n",
      "Test:       {'precision': 0.0, 'recall': 0.0, 'f1': 0.0, 'auc': 0.6476068545482008, 'prauc': 0.15776027733508693}\n"
     ]
    },
    {
     "name": "stderr",
     "output_type": "stream",
     "text": [
      "Training Batches: 100%|██████████| 1/1 [00:03<00:00,  3.17s/it]\n",
      "Running inference: 100%|██████████| 1/1 [00:04<00:00,  4.35s/it]\n",
      "Running inference: 100%|██████████| 1/1 [00:04<00:00,  4.63s/it]\n"
     ]
    },
    {
     "name": "stdout",
     "output_type": "stream",
     "text": [
      "Epoch: 009, Average Loss: 0.4549\n",
      "Validation: {'precision': 0.0, 'recall': 0.0, 'f1': 0.0, 'auc': 0.6461473632831781, 'prauc': 0.15376493270327793}\n",
      "Test:       {'precision': 0.0, 'recall': 0.0, 'f1': 0.0, 'auc': 0.639796197132313, 'prauc': 0.1502449583859858}\n"
     ]
    },
    {
     "name": "stderr",
     "output_type": "stream",
     "text": [
      "Training Batches: 100%|██████████| 1/1 [00:01<00:00,  1.91s/it]\n",
      "Running inference: 100%|██████████| 1/1 [00:05<00:00,  5.44s/it]\n",
      "Running inference: 100%|██████████| 1/1 [00:04<00:00,  4.47s/it]\n"
     ]
    },
    {
     "name": "stdout",
     "output_type": "stream",
     "text": [
      "Epoch: 010, Average Loss: 0.4253\n",
      "Validation: {'precision': 0.0, 'recall': 0.0, 'f1': 0.0, 'auc': 0.6415158763161907, 'prauc': 0.14929236232687}\n",
      "Test:       {'precision': 0.0, 'recall': 0.0, 'f1': 0.0, 'auc': 0.6359461692224779, 'prauc': 0.1450350928562584}\n"
     ]
    },
    {
     "name": "stderr",
     "output_type": "stream",
     "text": [
      "Training Batches: 100%|██████████| 1/1 [00:01<00:00,  1.54s/it]\n",
      "Running inference: 100%|██████████| 1/1 [00:04<00:00,  4.73s/it]\n",
      "Running inference: 100%|██████████| 1/1 [00:04<00:00,  4.78s/it]\n"
     ]
    },
    {
     "name": "stdout",
     "output_type": "stream",
     "text": [
      "Epoch: 011, Average Loss: 0.3958\n",
      "Validation: {'precision': 0.0, 'recall': 0.0, 'f1': 0.0, 'auc': 0.6401418537590574, 'prauc': 0.14762209674070692}\n",
      "Test:       {'precision': 0.0, 'recall': 0.0, 'f1': 0.0, 'auc': 0.6353981513470753, 'prauc': 0.14277372018876996}\n",
      "\n",
      "Early stopping triggered after 11 epochs (no improvement for 10 epochs).\n",
      "\n",
      "Best validation performance:\n",
      "{'precision': 0.2333333333321725, 'recall': 0.33404558404320484, 'f1': 0.27475102034632204, 'auc': 0.6742313218522407, 'prauc': 0.18626498965847665}\n",
      "Corresponding test performance:\n",
      "{'precision': 0.2267002518880267, 'recall': 0.31734837799494114, 'f1': 0.2644725193805677, 'auc': 0.6531332600524313, 'prauc': 0.1811892077590257}\n",
      "Corresponding test-long performance:\n",
      "{'precision': 0.18653846153487424, 'recall': 0.41452991451219956, 'f1': 0.25729442542077974, 'auc': 0.7715600443816212, 'prauc': 0.18087959403397721}\n",
      "[INFO] Random seed set to 946785248\n",
      "Training with seed: 946785248\n"
     ]
    },
    {
     "name": "stderr",
     "output_type": "stream",
     "text": [
      "Training Batches: 100%|██████████| 1/1 [00:01<00:00,  1.90s/it]\n",
      "Running inference: 100%|██████████| 1/1 [00:05<00:00,  5.35s/it]\n",
      "Running inference: 100%|██████████| 1/1 [00:03<00:00,  3.87s/it]\n"
     ]
    },
    {
     "name": "stdout",
     "output_type": "stream",
     "text": [
      "Epoch: 001, Average Loss: 0.6827\n",
      "Validation: {'precision': 0.0, 'recall': 0.0, 'f1': 0.0, 'auc': 0.6861350733073246, 'prauc': 0.1753061788733844}\n",
      "Test:       {'precision': 0.0999999999, 'recall': 0.0007052186177665359, 'f1': 0.001400560084994796, 'auc': 0.6840952024776348, 'prauc': 0.17212757293263353}\n"
     ]
    },
    {
     "name": "stderr",
     "output_type": "stream",
     "text": [
      "Training Batches: 100%|██████████| 1/1 [00:02<00:00,  2.56s/it]\n",
      "Running inference: 100%|██████████| 1/1 [00:04<00:00,  4.26s/it]\n",
      "Running inference: 100%|██████████| 1/1 [00:05<00:00,  5.22s/it]\n"
     ]
    },
    {
     "name": "stdout",
     "output_type": "stream",
     "text": [
      "Epoch: 002, Average Loss: 0.6555\n",
      "Validation: {'precision': 0.0999999999, 'recall': 0.0007122507122456393, 'f1': 0.0014144270165390089, 'auc': 0.639486595316416, 'prauc': 0.15728490968487546}\n",
      "Test:       {'precision': 0.124999999921875, 'recall': 0.0014104372355330718, 'f1': 0.0027894000582389606, 'auc': 0.627364925286946, 'prauc': 0.15451417027591713}\n"
     ]
    },
    {
     "name": "stderr",
     "output_type": "stream",
     "text": [
      "Training Batches: 100%|██████████| 1/1 [00:02<00:00,  2.79s/it]\n",
      "Running inference: 100%|██████████| 1/1 [00:04<00:00,  4.81s/it]\n",
      "Running inference: 100%|██████████| 1/1 [00:04<00:00,  4.39s/it]\n"
     ]
    },
    {
     "name": "stdout",
     "output_type": "stream",
     "text": [
      "Epoch: 003, Average Loss: 0.6264\n",
      "Validation: {'precision': 0.0, 'recall': 0.0, 'f1': 0.0, 'auc': 0.6331291330844806, 'prauc': 0.1490239563140972}\n",
      "Test:       {'precision': 0.08333333326388888, 'recall': 0.0007052186177665359, 'f1': 0.0013986012321580716, 'auc': 0.6226992012951037, 'prauc': 0.14668985223157638}\n"
     ]
    },
    {
     "name": "stderr",
     "output_type": "stream",
     "text": [
      "Training Batches: 100%|██████████| 1/1 [00:02<00:00,  2.67s/it]\n",
      "Running inference: 100%|██████████| 1/1 [00:04<00:00,  4.25s/it]\n",
      "Running inference: 100%|██████████| 1/1 [00:05<00:00,  5.81s/it]\n"
     ]
    },
    {
     "name": "stdout",
     "output_type": "stream",
     "text": [
      "Epoch: 004, Average Loss: 0.5961\n",
      "Validation: {'precision': 0.0, 'recall': 0.0, 'f1': 0.0, 'auc': 0.6281736043560007, 'prauc': 0.14273192223046513}\n",
      "Test:       {'precision': 0.0, 'recall': 0.0, 'f1': 0.0, 'auc': 0.6192571207318582, 'prauc': 0.1404399910407962}\n"
     ]
    },
    {
     "name": "stderr",
     "output_type": "stream",
     "text": [
      "Training Batches: 100%|██████████| 1/1 [00:01<00:00,  1.38s/it]\n",
      "Running inference: 100%|██████████| 1/1 [00:05<00:00,  5.20s/it]\n",
      "Running inference: 100%|██████████| 1/1 [00:04<00:00,  4.96s/it]\n"
     ]
    },
    {
     "name": "stdout",
     "output_type": "stream",
     "text": [
      "Epoch: 005, Average Loss: 0.5640\n",
      "Validation: {'precision': 0.0, 'recall': 0.0, 'f1': 0.0, 'auc': 0.6247955402327767, 'prauc': 0.13680607371746392}\n",
      "Test:       {'precision': 0.0, 'recall': 0.0, 'f1': 0.0, 'auc': 0.6175039302668232, 'prauc': 0.13587452725829743}\n"
     ]
    },
    {
     "name": "stderr",
     "output_type": "stream",
     "text": [
      "Training Batches: 100%|██████████| 1/1 [00:02<00:00,  2.60s/it]\n",
      "Running inference: 100%|██████████| 1/1 [00:04<00:00,  4.75s/it]\n",
      "Running inference: 100%|██████████| 1/1 [00:04<00:00,  4.07s/it]\n"
     ]
    },
    {
     "name": "stdout",
     "output_type": "stream",
     "text": [
      "Epoch: 006, Average Loss: 0.5313\n",
      "Validation: {'precision': 0.0, 'recall': 0.0, 'f1': 0.0, 'auc': 0.6198236771127391, 'prauc': 0.13045528065171252}\n",
      "Test:       {'precision': 0.0, 'recall': 0.0, 'f1': 0.0, 'auc': 0.6138588939125378, 'prauc': 0.1306543274196325}\n"
     ]
    },
    {
     "name": "stderr",
     "output_type": "stream",
     "text": [
      "Training Batches: 100%|██████████| 1/1 [00:02<00:00,  2.38s/it]\n",
      "Running inference: 100%|██████████| 1/1 [00:05<00:00,  5.51s/it]\n",
      "Running inference: 100%|██████████| 1/1 [00:03<00:00,  3.92s/it]\n"
     ]
    },
    {
     "name": "stdout",
     "output_type": "stream",
     "text": [
      "Epoch: 007, Average Loss: 0.4983\n",
      "Validation: {'precision': 0.0, 'recall': 0.0, 'f1': 0.0, 'auc': 0.6161177293384195, 'prauc': 0.12613606244990297}\n",
      "Test:       {'precision': 0.0, 'recall': 0.0, 'f1': 0.0, 'auc': 0.6117814707097678, 'prauc': 0.12672963125684722}\n"
     ]
    },
    {
     "name": "stderr",
     "output_type": "stream",
     "text": [
      "Training Batches: 100%|██████████| 1/1 [00:02<00:00,  2.68s/it]\n",
      "Running inference: 100%|██████████| 1/1 [00:04<00:00,  4.30s/it]\n",
      "Running inference: 100%|██████████| 1/1 [00:04<00:00,  4.77s/it]\n"
     ]
    },
    {
     "name": "stdout",
     "output_type": "stream",
     "text": [
      "Epoch: 008, Average Loss: 0.4651\n",
      "Validation: {'precision': 0.0, 'recall': 0.0, 'f1': 0.0, 'auc': 0.6143928735644817, 'prauc': 0.12357223619511895}\n",
      "Test:       {'precision': 0.0, 'recall': 0.0, 'f1': 0.0, 'auc': 0.6114234740728508, 'prauc': 0.12463315230197619}\n"
     ]
    },
    {
     "name": "stderr",
     "output_type": "stream",
     "text": [
      "Training Batches: 100%|██████████| 1/1 [00:02<00:00,  2.86s/it]\n",
      "Running inference: 100%|██████████| 1/1 [00:04<00:00,  4.84s/it]\n",
      "Running inference: 100%|██████████| 1/1 [00:04<00:00,  4.38s/it]\n"
     ]
    },
    {
     "name": "stdout",
     "output_type": "stream",
     "text": [
      "Epoch: 009, Average Loss: 0.4331\n",
      "Validation: {'precision': 0.0, 'recall': 0.0, 'f1': 0.0, 'auc': 0.6156301910034854, 'prauc': 0.12292483868077987}\n",
      "Test:       {'precision': 0.0, 'recall': 0.0, 'f1': 0.0, 'auc': 0.6137679051695211, 'prauc': 0.12417702986152687}\n"
     ]
    },
    {
     "name": "stderr",
     "output_type": "stream",
     "text": [
      "Training Batches: 100%|██████████| 1/1 [00:02<00:00,  2.08s/it]\n",
      "Running inference: 100%|██████████| 1/1 [00:04<00:00,  4.81s/it]\n",
      "Running inference: 100%|██████████| 1/1 [00:04<00:00,  4.86s/it]\n"
     ]
    },
    {
     "name": "stdout",
     "output_type": "stream",
     "text": [
      "Epoch: 010, Average Loss: 0.4035\n",
      "Validation: {'precision': 0.0, 'recall': 0.0, 'f1': 0.0, 'auc': 0.617853678250549, 'prauc': 0.12454379000101695}\n",
      "Test:       {'precision': 0.0, 'recall': 0.0, 'f1': 0.0, 'auc': 0.6174501066393034, 'prauc': 0.12587429110030418}\n"
     ]
    },
    {
     "name": "stderr",
     "output_type": "stream",
     "text": [
      "Training Batches: 100%|██████████| 1/1 [00:01<00:00,  1.42s/it]\n",
      "Running inference: 100%|██████████| 1/1 [00:05<00:00,  5.22s/it]\n",
      "Running inference: 100%|██████████| 1/1 [00:04<00:00,  4.32s/it]\n"
     ]
    },
    {
     "name": "stdout",
     "output_type": "stream",
     "text": [
      "Epoch: 011, Average Loss: 0.3757\n",
      "Validation: {'precision': 0.0, 'recall': 0.0, 'f1': 0.0, 'auc': 0.6197251364608656, 'prauc': 0.12553335882851455}\n",
      "Test:       {'precision': 0.0, 'recall': 0.0, 'f1': 0.0, 'auc': 0.6204519158877716, 'prauc': 0.12740231353783116}\n"
     ]
    },
    {
     "name": "stderr",
     "output_type": "stream",
     "text": [
      "Training Batches: 100%|██████████| 1/1 [00:02<00:00,  2.09s/it]\n",
      "Running inference: 100%|██████████| 1/1 [00:04<00:00,  4.90s/it]\n",
      "Running inference: 100%|██████████| 1/1 [00:04<00:00,  4.23s/it]\n"
     ]
    },
    {
     "name": "stdout",
     "output_type": "stream",
     "text": [
      "Epoch: 012, Average Loss: 0.3509\n",
      "Validation: {'precision': 0.0, 'recall': 0.0, 'f1': 0.0, 'auc': 0.6221270807521433, 'prauc': 0.12577570513718306}\n",
      "Test:       {'precision': 0.0, 'recall': 0.0, 'f1': 0.0, 'auc': 0.6237819052710113, 'prauc': 0.1281109754546766}\n",
      "\n",
      "Early stopping triggered after 12 epochs (no improvement for 10 epochs).\n",
      "\n",
      "Best validation performance:\n",
      "{'precision': 0.0999999999, 'recall': 0.0007122507122456393, 'f1': 0.0014144270165390089, 'auc': 0.639486595316416, 'prauc': 0.15728490968487546}\n",
      "Corresponding test performance:\n",
      "{'precision': 0.124999999921875, 'recall': 0.0014104372355330718, 'f1': 0.0027894000582389606, 'auc': 0.627364925286946, 'prauc': 0.15451417027591713}\n",
      "Corresponding test-long performance:\n",
      "{'precision': 0.0, 'recall': 0.0, 'f1': 0.0, 'auc': 0.703951534864398, 'prauc': 0.13710026724075378}\n",
      "[INFO] Random seed set to 2530876844\n",
      "Training with seed: 2530876844\n"
     ]
    },
    {
     "name": "stderr",
     "output_type": "stream",
     "text": [
      "Training Batches: 100%|██████████| 1/1 [00:02<00:00,  2.37s/it]\n",
      "Running inference: 100%|██████████| 1/1 [00:04<00:00,  4.47s/it]\n",
      "Running inference: 100%|██████████| 1/1 [00:04<00:00,  4.40s/it]\n"
     ]
    },
    {
     "name": "stdout",
     "output_type": "stream",
     "text": [
      "Epoch: 001, Average Loss: 0.6916\n",
      "Validation: {'precision': 0.26315789459833794, 'recall': 0.0035612535612281966, 'f1': 0.007027406623284086, 'auc': 0.6206245966015915, 'prauc': 0.1633041450685667}\n",
      "Test:       {'precision': 0.2857142855782313, 'recall': 0.0042313117065992155, 'f1': 0.008339124104212987, 'auc': 0.6010387165666644, 'prauc': 0.14611299503635639}\n"
     ]
    },
    {
     "name": "stderr",
     "output_type": "stream",
     "text": [
      "Training Batches: 100%|██████████| 1/1 [00:03<00:00,  3.10s/it]\n",
      "Running inference: 100%|██████████| 1/1 [00:04<00:00,  4.37s/it]\n",
      "Running inference: 100%|██████████| 1/1 [00:04<00:00,  4.88s/it]\n"
     ]
    },
    {
     "name": "stdout",
     "output_type": "stream",
     "text": [
      "Epoch: 002, Average Loss: 0.6637\n",
      "Validation: {'precision': 0.4444444439506172, 'recall': 0.0028490028489825572, 'f1': 0.0056617125414248175, 'auc': 0.6115128048399463, 'prauc': 0.16754761458885986}\n",
      "Test:       {'precision': 0.3124999998046875, 'recall': 0.0035260930888326796, 'f1': 0.006973500476590637, 'auc': 0.5926430251182556, 'prauc': 0.14906773885512448}\n"
     ]
    },
    {
     "name": "stderr",
     "output_type": "stream",
     "text": [
      "Training Batches: 100%|██████████| 1/1 [00:02<00:00,  2.35s/it]\n",
      "Running inference: 100%|██████████| 1/1 [00:04<00:00,  4.50s/it]\n",
      "Running inference: 100%|██████████| 1/1 [00:04<00:00,  4.87s/it]\n"
     ]
    },
    {
     "name": "stdout",
     "output_type": "stream",
     "text": [
      "Epoch: 003, Average Loss: 0.6351\n",
      "Validation: {'precision': 0.5999999988, 'recall': 0.002136752136736918, 'f1': 0.004258339176912488, 'auc': 0.594410747765038, 'prauc': 0.15835379944115602}\n",
      "Test:       {'precision': 0.2857142853061225, 'recall': 0.0014104372355330718, 'f1': 0.002807017446057252, 'auc': 0.5757622423677947, 'prauc': 0.14276965190190283}\n"
     ]
    },
    {
     "name": "stderr",
     "output_type": "stream",
     "text": [
      "Training Batches: 100%|██████████| 1/1 [00:02<00:00,  2.08s/it]\n",
      "Running inference: 100%|██████████| 1/1 [00:04<00:00,  4.33s/it]\n",
      "Running inference: 100%|██████████| 1/1 [00:04<00:00,  4.67s/it]\n"
     ]
    },
    {
     "name": "stdout",
     "output_type": "stream",
     "text": [
      "Epoch: 004, Average Loss: 0.6066\n",
      "Validation: {'precision': 0.0, 'recall': 0.0, 'f1': 0.0, 'auc': 0.582517784132416, 'prauc': 0.14830275141005644}\n",
      "Test:       {'precision': 0.0, 'recall': 0.0, 'f1': 0.0, 'auc': 0.5639376531726595, 'prauc': 0.13615077756474578}\n"
     ]
    },
    {
     "name": "stderr",
     "output_type": "stream",
     "text": [
      "Training Batches: 100%|██████████| 1/1 [00:02<00:00,  2.42s/it]\n",
      "Running inference: 100%|██████████| 1/1 [00:05<00:00,  5.60s/it]\n",
      "Running inference: 100%|██████████| 1/1 [00:03<00:00,  3.90s/it]\n"
     ]
    },
    {
     "name": "stdout",
     "output_type": "stream",
     "text": [
      "Epoch: 005, Average Loss: 0.5744\n",
      "Validation: {'precision': 0.0, 'recall': 0.0, 'f1': 0.0, 'auc': 0.5800981315287952, 'prauc': 0.14044605088825077}\n",
      "Test:       {'precision': 0.0, 'recall': 0.0, 'f1': 0.0, 'auc': 0.5617227165599116, 'prauc': 0.13129172845737613}\n"
     ]
    },
    {
     "name": "stderr",
     "output_type": "stream",
     "text": [
      "Training Batches: 100%|██████████| 1/1 [00:02<00:00,  2.50s/it]\n",
      "Running inference: 100%|██████████| 1/1 [00:04<00:00,  4.40s/it]\n",
      "Running inference: 100%|██████████| 1/1 [00:04<00:00,  4.65s/it]\n"
     ]
    },
    {
     "name": "stdout",
     "output_type": "stream",
     "text": [
      "Epoch: 006, Average Loss: 0.5405\n",
      "Validation: {'precision': 0.0, 'recall': 0.0, 'f1': 0.0, 'auc': 0.5777447069956179, 'prauc': 0.1336970826490715}\n",
      "Test:       {'precision': 0.0, 'recall': 0.0, 'f1': 0.0, 'auc': 0.559869872939496, 'prauc': 0.12709901202831372}\n"
     ]
    },
    {
     "name": "stderr",
     "output_type": "stream",
     "text": [
      "Training Batches: 100%|██████████| 1/1 [00:02<00:00,  2.97s/it]\n",
      "Running inference: 100%|██████████| 1/1 [00:04<00:00,  4.52s/it]\n",
      "Running inference: 100%|██████████| 1/1 [00:04<00:00,  4.29s/it]\n"
     ]
    },
    {
     "name": "stdout",
     "output_type": "stream",
     "text": [
      "Epoch: 007, Average Loss: 0.5074\n",
      "Validation: {'precision': 0.0, 'recall': 0.0, 'f1': 0.0, 'auc': 0.5757802038165688, 'prauc': 0.12947125904822615}\n",
      "Test:       {'precision': 0.0, 'recall': 0.0, 'f1': 0.0, 'auc': 0.5584312577439737, 'prauc': 0.12446644014560347}\n"
     ]
    },
    {
     "name": "stderr",
     "output_type": "stream",
     "text": [
      "Training Batches: 100%|██████████| 1/1 [00:02<00:00,  2.46s/it]\n",
      "Running inference: 100%|██████████| 1/1 [00:05<00:00,  5.04s/it]\n",
      "Running inference: 100%|██████████| 1/1 [00:04<00:00,  4.28s/it]\n"
     ]
    },
    {
     "name": "stdout",
     "output_type": "stream",
     "text": [
      "Epoch: 008, Average Loss: 0.4747\n",
      "Validation: {'precision': 0.0, 'recall': 0.0, 'f1': 0.0, 'auc': 0.5744757169169543, 'prauc': 0.12474837617847914}\n",
      "Test:       {'precision': 0.0, 'recall': 0.0, 'f1': 0.0, 'auc': 0.557416007087241, 'prauc': 0.12149401800100826}\n"
     ]
    },
    {
     "name": "stderr",
     "output_type": "stream",
     "text": [
      "Training Batches: 100%|██████████| 1/1 [00:02<00:00,  2.53s/it]\n",
      "Running inference: 100%|██████████| 1/1 [00:04<00:00,  4.31s/it]\n",
      "Running inference: 100%|██████████| 1/1 [00:05<00:00,  5.52s/it]\n"
     ]
    },
    {
     "name": "stdout",
     "output_type": "stream",
     "text": [
      "Epoch: 009, Average Loss: 0.4423\n",
      "Validation: {'precision': 0.0, 'recall': 0.0, 'f1': 0.0, 'auc': 0.5744512916585504, 'prauc': 0.1207934040632766}\n",
      "Test:       {'precision': 0.0, 'recall': 0.0, 'f1': 0.0, 'auc': 0.5574898159639091, 'prauc': 0.1182384710098824}\n"
     ]
    },
    {
     "name": "stderr",
     "output_type": "stream",
     "text": [
      "Training Batches: 100%|██████████| 1/1 [00:01<00:00,  1.47s/it]\n",
      "Running inference: 100%|██████████| 1/1 [00:04<00:00,  4.99s/it]\n",
      "Running inference: 100%|██████████| 1/1 [00:05<00:00,  5.27s/it]\n"
     ]
    },
    {
     "name": "stdout",
     "output_type": "stream",
     "text": [
      "Epoch: 010, Average Loss: 0.4127\n",
      "Validation: {'precision': 0.0, 'recall': 0.0, 'f1': 0.0, 'auc': 0.5784380790185605, 'prauc': 0.11843915517239759}\n",
      "Test:       {'precision': 0.0, 'recall': 0.0, 'f1': 0.0, 'auc': 0.5624841669656593, 'prauc': 0.11535524921855209}\n"
     ]
    },
    {
     "name": "stderr",
     "output_type": "stream",
     "text": [
      "Training Batches: 100%|██████████| 1/1 [00:02<00:00,  2.39s/it]\n",
      "Running inference: 100%|██████████| 1/1 [00:05<00:00,  5.20s/it]\n",
      "Running inference: 100%|██████████| 1/1 [00:03<00:00,  3.83s/it]\n"
     ]
    },
    {
     "name": "stdout",
     "output_type": "stream",
     "text": [
      "Epoch: 011, Average Loss: 0.3846\n",
      "Validation: {'precision': 0.0, 'recall': 0.0, 'f1': 0.0, 'auc': 0.585005852902545, 'prauc': 0.11849701148061915}\n",
      "Test:       {'precision': 0.0, 'recall': 0.0, 'f1': 0.0, 'auc': 0.5709549582633519, 'prauc': 0.11494922520406886}\n",
      "\n",
      "Early stopping triggered after 11 epochs (no improvement for 10 epochs).\n",
      "\n",
      "Best validation performance:\n",
      "{'precision': 0.26315789459833794, 'recall': 0.0035612535612281966, 'f1': 0.007027406623284086, 'auc': 0.6206245966015915, 'prauc': 0.1633041450685667}\n",
      "Corresponding test performance:\n",
      "{'precision': 0.2857142855782313, 'recall': 0.0042313117065992155, 'f1': 0.008339124104212987, 'auc': 0.6010387165666644, 'prauc': 0.14611299503635639}\n",
      "Corresponding test-long performance:\n",
      "{'precision': 0.3333333322222222, 'recall': 0.004273504273321645, 'f1': 0.008438818314728772, 'auc': 0.7205579114292807, 'prauc': 0.14623567384783098}\n",
      "[INFO] Random seed set to 3460967357\n",
      "Training with seed: 3460967357\n"
     ]
    },
    {
     "name": "stderr",
     "output_type": "stream",
     "text": [
      "Training Batches: 100%|██████████| 1/1 [00:02<00:00,  2.46s/it]\n",
      "Running inference: 100%|██████████| 1/1 [00:04<00:00,  4.95s/it]\n",
      "Running inference: 100%|██████████| 1/1 [00:04<00:00,  4.22s/it]\n"
     ]
    },
    {
     "name": "stdout",
     "output_type": "stream",
     "text": [
      "Epoch: 001, Average Loss: 0.6809\n",
      "Validation: {'precision': 0.0, 'recall': 0.0, 'f1': 0.0, 'auc': 0.6738485068127134, 'prauc': 0.15152104943544575}\n",
      "Test:       {'precision': 0.0, 'recall': 0.0, 'f1': 0.0, 'auc': 0.663633336170163, 'prauc': 0.14254677929611217}\n"
     ]
    },
    {
     "name": "stderr",
     "output_type": "stream",
     "text": [
      "Training Batches: 100%|██████████| 1/1 [00:02<00:00,  2.49s/it]\n",
      "Running inference: 100%|██████████| 1/1 [00:04<00:00,  4.40s/it]\n",
      "Running inference: 100%|██████████| 1/1 [00:05<00:00,  5.42s/it]\n"
     ]
    },
    {
     "name": "stdout",
     "output_type": "stream",
     "text": [
      "Epoch: 002, Average Loss: 0.6510\n",
      "Validation: {'precision': 0.0, 'recall': 0.0, 'f1': 0.0, 'auc': 0.6661964041134577, 'prauc': 0.15672581465537366}\n",
      "Test:       {'precision': 0.0, 'recall': 0.0, 'f1': 0.0, 'auc': 0.653831105230455, 'prauc': 0.1472318896600905}\n"
     ]
    },
    {
     "name": "stderr",
     "output_type": "stream",
     "text": [
      "Training Batches: 100%|██████████| 1/1 [00:01<00:00,  1.46s/it]\n",
      "Running inference: 100%|██████████| 1/1 [00:04<00:00,  4.96s/it]\n",
      "Running inference: 100%|██████████| 1/1 [00:05<00:00,  5.21s/it]\n"
     ]
    },
    {
     "name": "stdout",
     "output_type": "stream",
     "text": [
      "Epoch: 003, Average Loss: 0.6222\n",
      "Validation: {'precision': 0.0, 'recall': 0.0, 'f1': 0.0, 'auc': 0.6550338065930693, 'prauc': 0.15280865633149243}\n",
      "Test:       {'precision': 0.0, 'recall': 0.0, 'f1': 0.0, 'auc': 0.6416798999635251, 'prauc': 0.14419528783120047}\n"
     ]
    },
    {
     "name": "stderr",
     "output_type": "stream",
     "text": [
      "Training Batches: 100%|██████████| 1/1 [00:02<00:00,  2.37s/it]\n",
      "Running inference: 100%|██████████| 1/1 [00:05<00:00,  5.12s/it]\n",
      "Running inference: 100%|██████████| 1/1 [00:03<00:00,  3.86s/it]\n"
     ]
    },
    {
     "name": "stdout",
     "output_type": "stream",
     "text": [
      "Epoch: 004, Average Loss: 0.5920\n",
      "Validation: {'precision': 0.0, 'recall': 0.0, 'f1': 0.0, 'auc': 0.6431472800337558, 'prauc': 0.14692958712436088}\n",
      "Test:       {'precision': 0.0, 'recall': 0.0, 'f1': 0.0, 'auc': 0.6303047430234598, 'prauc': 0.14017611408211678}\n"
     ]
    },
    {
     "name": "stderr",
     "output_type": "stream",
     "text": [
      "Training Batches: 100%|██████████| 1/1 [00:02<00:00,  2.47s/it]\n",
      "Running inference: 100%|██████████| 1/1 [00:05<00:00,  5.06s/it]\n",
      "Running inference: 100%|██████████| 1/1 [00:04<00:00,  4.22s/it]\n"
     ]
    },
    {
     "name": "stdout",
     "output_type": "stream",
     "text": [
      "Epoch: 005, Average Loss: 0.5590\n",
      "Validation: {'precision': 0.0, 'recall': 0.0, 'f1': 0.0, 'auc': 0.6304546690611562, 'prauc': 0.14068575836573782}\n",
      "Test:       {'precision': 0.0, 'recall': 0.0, 'f1': 0.0, 'auc': 0.6177199695687963, 'prauc': 0.13545159391018205}\n"
     ]
    },
    {
     "name": "stderr",
     "output_type": "stream",
     "text": [
      "Training Batches: 100%|██████████| 1/1 [00:02<00:00,  2.50s/it]\n",
      "Running inference: 100%|██████████| 1/1 [00:04<00:00,  4.46s/it]\n",
      "Running inference: 100%|██████████| 1/1 [00:04<00:00,  4.40s/it]\n"
     ]
    },
    {
     "name": "stdout",
     "output_type": "stream",
     "text": [
      "Epoch: 006, Average Loss: 0.5263\n",
      "Validation: {'precision': 0.0, 'recall': 0.0, 'f1': 0.0, 'auc': 0.6227584991248634, 'prauc': 0.1353657400566975}\n",
      "Test:       {'precision': 0.0, 'recall': 0.0, 'f1': 0.0, 'auc': 0.6109091207910444, 'prauc': 0.13161476049805726}\n"
     ]
    },
    {
     "name": "stderr",
     "output_type": "stream",
     "text": [
      "Training Batches: 100%|██████████| 1/1 [00:03<00:00,  3.03s/it]\n",
      "Running inference: 100%|██████████| 1/1 [00:04<00:00,  4.42s/it]\n",
      "Running inference: 100%|██████████| 1/1 [00:04<00:00,  4.70s/it]\n"
     ]
    },
    {
     "name": "stdout",
     "output_type": "stream",
     "text": [
      "Epoch: 007, Average Loss: 0.4920\n",
      "Validation: {'precision': 0.0, 'recall': 0.0, 'f1': 0.0, 'auc': 0.6185606113805013, 'prauc': 0.13166763514526358}\n",
      "Test:       {'precision': 0.0, 'recall': 0.0, 'f1': 0.0, 'auc': 0.6085627284090542, 'prauc': 0.12756918016496915}\n"
     ]
    },
    {
     "name": "stderr",
     "output_type": "stream",
     "text": [
      "Training Batches: 100%|██████████| 1/1 [00:02<00:00,  2.49s/it]\n",
      "Running inference: 100%|██████████| 1/1 [00:05<00:00,  5.12s/it]\n",
      "Running inference: 100%|██████████| 1/1 [00:03<00:00,  3.88s/it]\n"
     ]
    },
    {
     "name": "stdout",
     "output_type": "stream",
     "text": [
      "Epoch: 008, Average Loss: 0.4585\n",
      "Validation: {'precision': 0.0, 'recall': 0.0, 'f1': 0.0, 'auc': 0.6151332896528294, 'prauc': 0.12746023164950687}\n",
      "Test:       {'precision': 0.0, 'recall': 0.0, 'f1': 0.0, 'auc': 0.6064322760234507, 'prauc': 0.12245068425103821}\n"
     ]
    },
    {
     "name": "stderr",
     "output_type": "stream",
     "text": [
      "Training Batches: 100%|██████████| 1/1 [00:02<00:00,  2.52s/it]\n",
      "Running inference: 100%|██████████| 1/1 [00:04<00:00,  4.46s/it]\n",
      "Running inference: 100%|██████████| 1/1 [00:05<00:00,  5.81s/it]\n"
     ]
    },
    {
     "name": "stdout",
     "output_type": "stream",
     "text": [
      "Epoch: 009, Average Loss: 0.4277\n",
      "Validation: {'precision': 0.0, 'recall': 0.0, 'f1': 0.0, 'auc': 0.6115239743070706, 'prauc': 0.12367862414594985}\n",
      "Test:       {'precision': 0.0, 'recall': 0.0, 'f1': 0.0, 'auc': 0.6030547192645984, 'prauc': 0.11721429272880321}\n"
     ]
    },
    {
     "name": "stderr",
     "output_type": "stream",
     "text": [
      "Training Batches: 100%|██████████| 1/1 [00:01<00:00,  1.41s/it]\n",
      "Running inference: 100%|██████████| 1/1 [00:04<00:00,  4.91s/it]\n",
      "Running inference: 100%|██████████| 1/1 [00:04<00:00,  4.86s/it]\n"
     ]
    },
    {
     "name": "stdout",
     "output_type": "stream",
     "text": [
      "Epoch: 010, Average Loss: 0.3971\n",
      "Validation: {'precision': 0.0, 'recall': 0.0, 'f1': 0.0, 'auc': 0.6103088177014733, 'prauc': 0.12219864596772387}\n",
      "Test:       {'precision': 0.0, 'recall': 0.0, 'f1': 0.0, 'auc': 0.6018392437204361, 'prauc': 0.11498480513424383}\n",
      "\n",
      "Early stopping triggered after 10 epochs (no improvement for 10 epochs).\n",
      "\n",
      "Best validation performance:\n",
      "None\n",
      "Corresponding test performance:\n",
      "None\n",
      "[INFO] Random seed set to 2998485882\n",
      "Training with seed: 2998485882\n"
     ]
    },
    {
     "name": "stderr",
     "output_type": "stream",
     "text": [
      "Training Batches: 100%|██████████| 1/1 [00:02<00:00,  2.49s/it]\n",
      "Running inference: 100%|██████████| 1/1 [00:04<00:00,  4.94s/it]\n",
      "Running inference: 100%|██████████| 1/1 [00:04<00:00,  4.41s/it]\n"
     ]
    },
    {
     "name": "stdout",
     "output_type": "stream",
     "text": [
      "Epoch: 001, Average Loss: 0.6986\n",
      "Validation: {'precision': 0.2215288611535822, 'recall': 0.4045584045555231, 'f1': 0.28629031800651183, 'auc': 0.7004562892699636, 'prauc': 0.20846850494651492}\n",
      "Test:       {'precision': 0.2262688880270195, 'recall': 0.411847672775657, 'f1': 0.29207301367599225, 'auc': 0.6881045413735372, 'prauc': 0.21050693716079688}\n"
     ]
    },
    {
     "name": "stderr",
     "output_type": "stream",
     "text": [
      "Training Batches: 100%|██████████| 1/1 [00:02<00:00,  2.54s/it]\n",
      "Running inference: 100%|██████████| 1/1 [00:05<00:00,  5.21s/it]\n",
      "Running inference: 100%|██████████| 1/1 [00:03<00:00,  3.90s/it]\n"
     ]
    },
    {
     "name": "stdout",
     "output_type": "stream",
     "text": [
      "Epoch: 002, Average Loss: 0.6708\n",
      "Validation: {'precision': 0.28270814272385447, 'recall': 0.22008547008390253, 'f1': 0.24749699147125537, 'auc': 0.6775558030648406, 'prauc': 0.19513961324703408}\n",
      "Test:       {'precision': 0.2900432900407789, 'recall': 0.2362482369517895, 'f1': 0.2603964194575225, 'auc': 0.6632638200852896, 'prauc': 0.19128103479778608}\n"
     ]
    },
    {
     "name": "stderr",
     "output_type": "stream",
     "text": [
      "Training Batches: 100%|██████████| 1/1 [00:02<00:00,  2.47s/it]\n",
      "Running inference: 100%|██████████| 1/1 [00:04<00:00,  4.41s/it]\n",
      "Running inference: 100%|██████████| 1/1 [00:05<00:00,  5.91s/it]\n"
     ]
    },
    {
     "name": "stdout",
     "output_type": "stream",
     "text": [
      "Epoch: 003, Average Loss: 0.6411\n",
      "Validation: {'precision': 0.2845691382708503, 'recall': 0.10113960113888078, 'f1': 0.14923804132104393, 'auc': 0.6667352100480628, 'prauc': 0.17686601394162732}\n",
      "Test:       {'precision': 0.2802303262902067, 'recall': 0.10296191819391425, 'f1': 0.15059308528973306, 'auc': 0.6539853268052489, 'prauc': 0.17051558230757333}\n"
     ]
    },
    {
     "name": "stderr",
     "output_type": "stream",
     "text": [
      "Training Batches: 100%|██████████| 1/1 [00:01<00:00,  1.41s/it]\n",
      "Running inference: 100%|██████████| 1/1 [00:05<00:00,  5.05s/it]\n",
      "Running inference: 100%|██████████| 1/1 [00:04<00:00,  4.90s/it]\n"
     ]
    },
    {
     "name": "stdout",
     "output_type": "stream",
     "text": [
      "Epoch: 004, Average Loss: 0.6113\n",
      "Validation: {'precision': 0.2738095237932256, 'recall': 0.03276353276329941, 'f1': 0.05852417111826564, 'auc': 0.6591011973058126, 'prauc': 0.16447492123365776}\n",
      "Test:       {'precision': 0.26737967913008664, 'recall': 0.0352609308883268, 'f1': 0.06230529389065719, 'auc': 0.6488915957384795, 'prauc': 0.15858102083422398}\n"
     ]
    },
    {
     "name": "stderr",
     "output_type": "stream",
     "text": [
      "Training Batches: 100%|██████████| 1/1 [00:02<00:00,  2.65s/it]\n",
      "Running inference: 100%|██████████| 1/1 [00:04<00:00,  4.88s/it]\n",
      "Running inference: 100%|██████████| 1/1 [00:04<00:00,  4.22s/it]\n"
     ]
    },
    {
     "name": "stdout",
     "output_type": "stream",
     "text": [
      "Epoch: 005, Average Loss: 0.5788\n",
      "Validation: {'precision': 0.30232558132504056, 'recall': 0.009259259259193311, 'f1': 0.017968209512921208, 'auc': 0.6550402182234003, 'prauc': 0.16143542946224723}\n",
      "Test:       {'precision': 0.29824561398276395, 'recall': 0.01198871650203111, 'f1': 0.023050846714300514, 'auc': 0.6477673820276949, 'prauc': 0.15578711841709292}\n"
     ]
    },
    {
     "name": "stderr",
     "output_type": "stream",
     "text": [
      "Training Batches: 100%|██████████| 1/1 [00:02<00:00,  2.44s/it]\n",
      "Running inference: 100%|██████████| 1/1 [00:05<00:00,  5.38s/it]\n",
      "Running inference: 100%|██████████| 1/1 [00:03<00:00,  3.90s/it]\n"
     ]
    },
    {
     "name": "stdout",
     "output_type": "stream",
     "text": [
      "Epoch: 006, Average Loss: 0.5454\n",
      "Validation: {'precision': 0.5384615380473372, 'recall': 0.004985754985719475, 'f1': 0.009880028046709755, 'auc': 0.6485716210657269, 'prauc': 0.15860846268721526}\n",
      "Test:       {'precision': 0.14285714275510203, 'recall': 0.0014104372355330718, 'f1': 0.002793295895727363, 'auc': 0.6431247217581616, 'prauc': 0.15380168343811187}\n"
     ]
    },
    {
     "name": "stderr",
     "output_type": "stream",
     "text": [
      "Training Batches: 100%|██████████| 1/1 [00:02<00:00,  2.72s/it]\n",
      "Running inference: 100%|██████████| 1/1 [00:04<00:00,  4.36s/it]\n",
      "Running inference: 100%|██████████| 1/1 [00:04<00:00,  4.76s/it]\n"
     ]
    },
    {
     "name": "stdout",
     "output_type": "stream",
     "text": [
      "Epoch: 007, Average Loss: 0.5116\n",
      "Validation: {'precision': 0.3333333322222222, 'recall': 0.0007122507122456393, 'f1': 0.00142146406545807, 'auc': 0.6393607034637255, 'prauc': 0.15173754944755485}\n",
      "Test:       {'precision': 0.49999999875, 'recall': 0.0014104372355330718, 'f1': 0.002812939465660182, 'auc': 0.6342177058483145, 'prauc': 0.1484255982229808}\n"
     ]
    },
    {
     "name": "stderr",
     "output_type": "stream",
     "text": [
      "Training Batches: 100%|██████████| 1/1 [00:02<00:00,  2.87s/it]\n",
      "Running inference: 100%|██████████| 1/1 [00:04<00:00,  4.75s/it]\n",
      "Running inference: 100%|██████████| 1/1 [00:04<00:00,  4.41s/it]\n"
     ]
    },
    {
     "name": "stdout",
     "output_type": "stream",
     "text": [
      "Epoch: 008, Average Loss: 0.4773\n",
      "Validation: {'precision': 0.0, 'recall': 0.0, 'f1': 0.0, 'auc': 0.6315372423109796, 'prauc': 0.1452342280255859}\n",
      "Test:       {'precision': 0.0, 'recall': 0.0, 'f1': 0.0, 'auc': 0.6263679220316095, 'prauc': 0.14276217888907977}\n"
     ]
    },
    {
     "name": "stderr",
     "output_type": "stream",
     "text": [
      "Training Batches: 100%|██████████| 1/1 [00:02<00:00,  2.65s/it]\n",
      "Running inference: 100%|██████████| 1/1 [00:04<00:00,  4.88s/it]\n",
      "Running inference: 100%|██████████| 1/1 [00:04<00:00,  4.26s/it]\n"
     ]
    },
    {
     "name": "stdout",
     "output_type": "stream",
     "text": [
      "Epoch: 009, Average Loss: 0.4457\n",
      "Validation: {'precision': 0.0, 'recall': 0.0, 'f1': 0.0, 'auc': 0.6265930611504663, 'prauc': 0.1399372296233566}\n",
      "Test:       {'precision': 0.0, 'recall': 0.0, 'f1': 0.0, 'auc': 0.6217106390145628, 'prauc': 0.1392095566163563}\n"
     ]
    },
    {
     "name": "stderr",
     "output_type": "stream",
     "text": [
      "Training Batches: 100%|██████████| 1/1 [00:02<00:00,  2.37s/it]\n",
      "Running inference: 100%|██████████| 1/1 [00:04<00:00,  4.83s/it]\n",
      "Running inference: 100%|██████████| 1/1 [00:05<00:00,  5.48s/it]\n"
     ]
    },
    {
     "name": "stdout",
     "output_type": "stream",
     "text": [
      "Epoch: 010, Average Loss: 0.4151\n",
      "Validation: {'precision': 0.0, 'recall': 0.0, 'f1': 0.0, 'auc': 0.6239630714518191, 'prauc': 0.13656841990575047}\n",
      "Test:       {'precision': 0.0, 'recall': 0.0, 'f1': 0.0, 'auc': 0.6193852249375789, 'prauc': 0.13570763646855463}\n"
     ]
    },
    {
     "name": "stderr",
     "output_type": "stream",
     "text": [
      "Training Batches: 100%|██████████| 1/1 [00:01<00:00,  1.51s/it]\n",
      "Running inference: 100%|██████████| 1/1 [00:04<00:00,  4.78s/it]\n",
      "Running inference: 100%|██████████| 1/1 [00:05<00:00,  5.17s/it]\n"
     ]
    },
    {
     "name": "stdout",
     "output_type": "stream",
     "text": [
      "Epoch: 011, Average Loss: 0.3881\n",
      "Validation: {'precision': 0.0, 'recall': 0.0, 'f1': 0.0, 'auc': 0.623374397281306, 'prauc': 0.13520494550702433}\n",
      "Test:       {'precision': 0.0, 'recall': 0.0, 'f1': 0.0, 'auc': 0.6189175949339057, 'prauc': 0.13355973117794517}\n",
      "\n",
      "Early stopping triggered after 11 epochs (no improvement for 10 epochs).\n",
      "\n",
      "Best validation performance:\n",
      "{'precision': 0.2215288611535822, 'recall': 0.4045584045555231, 'f1': 0.28629031800651183, 'auc': 0.7004562892699636, 'prauc': 0.20846850494651492}\n",
      "Corresponding test performance:\n",
      "{'precision': 0.2262688880270195, 'recall': 0.411847672775657, 'f1': 0.29207301367599225, 'auc': 0.6881045413735372, 'prauc': 0.21050693716079688}\n",
      "Corresponding test-long performance:\n",
      "{'precision': 0.17171717171428086, 'recall': 0.4358974358788078, 'f1': 0.24637680753343144, 'auc': 0.743979856013051, 'prauc': 0.1610640092374587}\n",
      "[INFO] Random seed set to 1461364854\n",
      "Training with seed: 1461364854\n"
     ]
    },
    {
     "name": "stderr",
     "output_type": "stream",
     "text": [
      "Training Batches: 100%|██████████| 1/1 [00:02<00:00,  2.39s/it]\n",
      "Running inference: 100%|██████████| 1/1 [00:05<00:00,  5.36s/it]\n",
      "Running inference: 100%|██████████| 1/1 [00:03<00:00,  3.82s/it]\n"
     ]
    },
    {
     "name": "stdout",
     "output_type": "stream",
     "text": [
      "Epoch: 001, Average Loss: 0.6783\n",
      "Validation: {'precision': 0.0, 'recall': 0.0, 'f1': 0.0, 'auc': 0.649593970787798, 'prauc': 0.19760146014989588}\n",
      "Test:       {'precision': 0.0, 'recall': 0.0, 'f1': 0.0, 'auc': 0.63823935863686, 'prauc': 0.19664440404061428}\n"
     ]
    },
    {
     "name": "stderr",
     "output_type": "stream",
     "text": [
      "Training Batches: 100%|██████████| 1/1 [00:02<00:00,  2.66s/it]\n",
      "Running inference: 100%|██████████| 1/1 [00:04<00:00,  4.94s/it]\n",
      "Running inference: 100%|██████████| 1/1 [00:04<00:00,  4.08s/it]\n"
     ]
    },
    {
     "name": "stdout",
     "output_type": "stream",
     "text": [
      "Epoch: 002, Average Loss: 0.6497\n",
      "Validation: {'precision': 0.0, 'recall': 0.0, 'f1': 0.0, 'auc': 0.6340456145771571, 'prauc': 0.18660677173261128}\n",
      "Test:       {'precision': 0.0, 'recall': 0.0, 'f1': 0.0, 'auc': 0.6234397230486378, 'prauc': 0.18458160843782484}\n"
     ]
    },
    {
     "name": "stderr",
     "output_type": "stream",
     "text": [
      "Training Batches: 100%|██████████| 1/1 [00:02<00:00,  2.38s/it]\n",
      "Running inference: 100%|██████████| 1/1 [00:04<00:00,  4.71s/it]\n",
      "Running inference: 100%|██████████| 1/1 [00:04<00:00,  4.81s/it]\n"
     ]
    },
    {
     "name": "stdout",
     "output_type": "stream",
     "text": [
      "Epoch: 003, Average Loss: 0.6204\n",
      "Validation: {'precision': 0.0, 'recall': 0.0, 'f1': 0.0, 'auc': 0.6126301331970403, 'prauc': 0.16499843943890233}\n",
      "Test:       {'precision': 0.0, 'recall': 0.0, 'f1': 0.0, 'auc': 0.5999946672900409, 'prauc': 0.16185041510829856}\n"
     ]
    },
    {
     "name": "stderr",
     "output_type": "stream",
     "text": [
      "Training Batches: 100%|██████████| 1/1 [00:03<00:00,  3.19s/it]\n",
      "Running inference: 100%|██████████| 1/1 [00:04<00:00,  4.33s/it]\n",
      "Running inference: 100%|██████████| 1/1 [00:04<00:00,  4.55s/it]\n"
     ]
    },
    {
     "name": "stdout",
     "output_type": "stream",
     "text": [
      "Epoch: 004, Average Loss: 0.5902\n",
      "Validation: {'precision': 0.0, 'recall': 0.0, 'f1': 0.0, 'auc': 0.5985364537822208, 'prauc': 0.14681321890793425}\n",
      "Test:       {'precision': 0.0, 'recall': 0.0, 'f1': 0.0, 'auc': 0.585017597446337, 'prauc': 0.14365980731979092}\n"
     ]
    },
    {
     "name": "stderr",
     "output_type": "stream",
     "text": [
      "Training Batches: 100%|██████████| 1/1 [00:02<00:00,  2.37s/it]\n",
      "Running inference: 100%|██████████| 1/1 [00:04<00:00,  4.69s/it]\n",
      "Running inference: 100%|██████████| 1/1 [00:05<00:00,  5.59s/it]\n"
     ]
    },
    {
     "name": "stdout",
     "output_type": "stream",
     "text": [
      "Epoch: 005, Average Loss: 0.5585\n",
      "Validation: {'precision': 0.0, 'recall': 0.0, 'f1': 0.0, 'auc': 0.5888217652256376, 'prauc': 0.13352537413680796}\n",
      "Test:       {'precision': 0.0, 'recall': 0.0, 'f1': 0.0, 'auc': 0.5744952520509832, 'prauc': 0.1309125628325586}\n"
     ]
    },
    {
     "name": "stderr",
     "output_type": "stream",
     "text": [
      "Training Batches: 100%|██████████| 1/1 [00:01<00:00,  1.50s/it]\n",
      "Running inference: 100%|██████████| 1/1 [00:04<00:00,  4.80s/it]\n",
      "Running inference: 100%|██████████| 1/1 [00:05<00:00,  5.14s/it]\n"
     ]
    },
    {
     "name": "stdout",
     "output_type": "stream",
     "text": [
      "Epoch: 006, Average Loss: 0.5244\n",
      "Validation: {'precision': 0.0, 'recall': 0.0, 'f1': 0.0, 'auc': 0.5856598137533338, 'prauc': 0.12550939382531356}\n",
      "Test:       {'precision': 0.0, 'recall': 0.0, 'f1': 0.0, 'auc': 0.5713281734812974, 'prauc': 0.12398653366211429}\n"
     ]
    },
    {
     "name": "stderr",
     "output_type": "stream",
     "text": [
      "Training Batches: 100%|██████████| 1/1 [00:02<00:00,  2.41s/it]\n",
      "Running inference: 100%|██████████| 1/1 [00:05<00:00,  5.23s/it]\n",
      "Running inference: 100%|██████████| 1/1 [00:04<00:00,  4.06s/it]\n"
     ]
    },
    {
     "name": "stdout",
     "output_type": "stream",
     "text": [
      "Epoch: 007, Average Loss: 0.4910\n",
      "Validation: {'precision': 0.0, 'recall': 0.0, 'f1': 0.0, 'auc': 0.5848033522445897, 'prauc': 0.12054132454033352}\n",
      "Test:       {'precision': 0.0, 'recall': 0.0, 'f1': 0.0, 'auc': 0.5712443595668568, 'prauc': 0.11954881183072347}\n"
     ]
    },
    {
     "name": "stderr",
     "output_type": "stream",
     "text": [
      "Training Batches: 100%|██████████| 1/1 [00:02<00:00,  2.67s/it]\n",
      "Running inference: 100%|██████████| 1/1 [00:04<00:00,  4.33s/it]\n",
      "Running inference: 100%|██████████| 1/1 [00:04<00:00,  4.95s/it]\n"
     ]
    },
    {
     "name": "stdout",
     "output_type": "stream",
     "text": [
      "Epoch: 008, Average Loss: 0.4590\n",
      "Validation: {'precision': 0.0, 'recall': 0.0, 'f1': 0.0, 'auc': 0.5855187324430733, 'prauc': 0.11777393995354735}\n",
      "Test:       {'precision': 0.0, 'recall': 0.0, 'f1': 0.0, 'auc': 0.5733423141994972, 'prauc': 0.11675529084703912}\n"
     ]
    },
    {
     "name": "stderr",
     "output_type": "stream",
     "text": [
      "Training Batches: 100%|██████████| 1/1 [00:02<00:00,  2.80s/it]\n",
      "Running inference: 100%|██████████| 1/1 [00:04<00:00,  4.60s/it]\n",
      "Running inference: 100%|██████████| 1/1 [00:04<00:00,  4.45s/it]\n"
     ]
    },
    {
     "name": "stdout",
     "output_type": "stream",
     "text": [
      "Epoch: 009, Average Loss: 0.4267\n",
      "Validation: {'precision': 0.0, 'recall': 0.0, 'f1': 0.0, 'auc': 0.5866429304040935, 'prauc': 0.1157448158148929}\n",
      "Test:       {'precision': 0.0, 'recall': 0.0, 'f1': 0.0, 'auc': 0.5758653712186792, 'prauc': 0.11436164543742597}\n"
     ]
    },
    {
     "name": "stderr",
     "output_type": "stream",
     "text": [
      "Training Batches: 100%|██████████| 1/1 [00:02<00:00,  2.55s/it]\n",
      "Running inference: 100%|██████████| 1/1 [00:04<00:00,  4.93s/it]\n",
      "Running inference: 100%|██████████| 1/1 [00:03<00:00,  3.96s/it]\n"
     ]
    },
    {
     "name": "stdout",
     "output_type": "stream",
     "text": [
      "Epoch: 010, Average Loss: 0.3976\n",
      "Validation: {'precision': 0.0, 'recall': 0.0, 'f1': 0.0, 'auc': 0.5888467756725242, 'prauc': 0.11463996423228283}\n",
      "Test:       {'precision': 0.0, 'recall': 0.0, 'f1': 0.0, 'auc': 0.5794585948835578, 'prauc': 0.11300269969343012}\n",
      "\n",
      "Early stopping triggered after 10 epochs (no improvement for 10 epochs).\n",
      "\n",
      "Best validation performance:\n",
      "None\n",
      "Corresponding test performance:\n",
      "None\n",
      "[INFO] Random seed set to 667779376\n",
      "Training with seed: 667779376\n"
     ]
    },
    {
     "name": "stderr",
     "output_type": "stream",
     "text": [
      "Training Batches: 100%|██████████| 1/1 [00:02<00:00,  2.41s/it]\n",
      "Running inference: 100%|██████████| 1/1 [00:04<00:00,  4.55s/it]\n",
      "Running inference: 100%|██████████| 1/1 [00:05<00:00,  5.00s/it]\n"
     ]
    },
    {
     "name": "stdout",
     "output_type": "stream",
     "text": [
      "Epoch: 001, Average Loss: 0.7060\n",
      "Validation: {'precision': 0.12640558355935583, 'recall': 0.6965811965762352, 'f1': 0.21398096228297034, 'auc': 0.6657469030298923, 'prauc': 0.2086718783913379}\n",
      "Test:       {'precision': 0.12202230106421437, 'recall': 0.6791255289091741, 'f1': 0.2068743260961714, 'auc': 0.6475314816085558, 'prauc': 0.20280162033816831}\n"
     ]
    },
    {
     "name": "stderr",
     "output_type": "stream",
     "text": [
      "Training Batches: 100%|██████████| 1/1 [00:03<00:00,  3.01s/it]\n",
      "Running inference: 100%|██████████| 1/1 [00:04<00:00,  4.49s/it]\n",
      "Running inference: 100%|██████████| 1/1 [00:04<00:00,  4.41s/it]\n"
     ]
    },
    {
     "name": "stdout",
     "output_type": "stream",
     "text": [
      "Epoch: 002, Average Loss: 0.6761\n",
      "Validation: {'precision': 0.2141658274581599, 'recall': 0.45441595441271787, 'f1': 0.29112479600935504, 'auc': 0.6834640695289406, 'prauc': 0.21391000574693309}\n",
      "Test:       {'precision': 0.2124183006529006, 'recall': 0.45839210154824833, 'f1': 0.2903081689626283, 'auc': 0.6682239354863249, 'prauc': 0.2110841572733475}\n"
     ]
    },
    {
     "name": "stderr",
     "output_type": "stream",
     "text": [
      "Training Batches: 100%|██████████| 1/1 [00:02<00:00,  2.41s/it]\n",
      "Running inference: 100%|██████████| 1/1 [00:04<00:00,  4.45s/it]\n",
      "Running inference: 100%|██████████| 1/1 [00:05<00:00,  5.08s/it]\n"
     ]
    },
    {
     "name": "stdout",
     "output_type": "stream",
     "text": [
      "Epoch: 003, Average Loss: 0.6467\n",
      "Validation: {'precision': 0.2601977750292942, 'recall': 0.29985754985541413, 'f1': 0.27862342321647876, 'auc': 0.6814192174269333, 'prauc': 0.20413315716780667}\n",
      "Test:       {'precision': 0.26992753623025406, 'recall': 0.31523272214164155, 'f1': 0.2908262799988022, 'auc': 0.6666503143468666, 'prauc': 0.20127456032854912}\n"
     ]
    },
    {
     "name": "stderr",
     "output_type": "stream",
     "text": [
      "Training Batches: 100%|██████████| 1/1 [00:02<00:00,  2.07s/it]\n",
      "Running inference: 100%|██████████| 1/1 [00:04<00:00,  4.24s/it]\n",
      "Running inference: 100%|██████████| 1/1 [00:05<00:00,  5.06s/it]\n"
     ]
    },
    {
     "name": "stdout",
     "output_type": "stream",
     "text": [
      "Epoch: 004, Average Loss: 0.6144\n",
      "Validation: {'precision': 0.2821285140533923, 'recall': 0.20014245014102464, 'f1': 0.23416666180921536, 'auc': 0.6822260396865669, 'prauc': 0.19484408462584404}\n",
      "Test:       {'precision': 0.27793696274806173, 'recall': 0.20521861777006195, 'f1': 0.23610547178477437, 'auc': 0.668043025535339, 'prauc': 0.19203591387068156}\n"
     ]
    },
    {
     "name": "stderr",
     "output_type": "stream",
     "text": [
      "Training Batches: 100%|██████████| 1/1 [00:01<00:00,  1.94s/it]\n",
      "Running inference: 100%|██████████| 1/1 [00:05<00:00,  5.09s/it]\n",
      "Running inference: 100%|██████████| 1/1 [00:04<00:00,  4.66s/it]\n"
     ]
    },
    {
     "name": "stdout",
     "output_type": "stream",
     "text": [
      "Epoch: 005, Average Loss: 0.5811\n",
      "Validation: {'precision': 0.30225563909319914, 'recall': 0.1431623931613735, 'f1': 0.1942967573566383, 'auc': 0.6768715905137995, 'prauc': 0.18457048018480396}\n",
      "Test:       {'precision': 0.28987517336629853, 'recall': 0.147390691113206, 'f1': 0.19541841535142135, 'auc': 0.6635250434288152, 'prauc': 0.18227075436075418}\n"
     ]
    },
    {
     "name": "stderr",
     "output_type": "stream",
     "text": [
      "Training Batches: 100%|██████████| 1/1 [00:02<00:00,  2.11s/it]\n",
      "Running inference: 100%|██████████| 1/1 [00:04<00:00,  4.32s/it]\n",
      "Running inference: 100%|██████████| 1/1 [00:05<00:00,  5.01s/it]\n"
     ]
    },
    {
     "name": "stdout",
     "output_type": "stream",
     "text": [
      "Epoch: 006, Average Loss: 0.5493\n",
      "Validation: {'precision': 0.2876712328701445, 'recall': 0.08974358974295055, 'f1': 0.13680781396322517, 'auc': 0.6710668769681415, 'prauc': 0.1753790660142732}\n",
      "Test:       {'precision': 0.26508620689083867, 'recall': 0.08674188998528391, 'f1': 0.13071200478498138, 'auc': 0.6591329311523312, 'prauc': 0.17384109982515306}\n"
     ]
    },
    {
     "name": "stderr",
     "output_type": "stream",
     "text": [
      "Training Batches: 100%|██████████| 1/1 [00:02<00:00,  2.86s/it]\n",
      "Running inference: 100%|██████████| 1/1 [00:04<00:00,  4.55s/it]\n",
      "Running inference: 100%|██████████| 1/1 [00:04<00:00,  4.61s/it]\n"
     ]
    },
    {
     "name": "stdout",
     "output_type": "stream",
     "text": [
      "Epoch: 007, Average Loss: 0.5148\n",
      "Validation: {'precision': 0.2304147465331606, 'recall': 0.03561253561228196, 'f1': 0.061690312300896596, 'auc': 0.6632595721061106, 'prauc': 0.1667765345145041}\n",
      "Test:       {'precision': 0.2026431717972404, 'recall': 0.03244005641726065, 'f1': 0.05592704929202069, 'auc': 0.6528779702176589, 'prauc': 0.16513327373690267}\n"
     ]
    },
    {
     "name": "stderr",
     "output_type": "stream",
     "text": [
      "Training Batches: 100%|██████████| 1/1 [00:02<00:00,  2.51s/it]\n",
      "Running inference: 100%|██████████| 1/1 [00:04<00:00,  4.30s/it]\n",
      "Running inference: 100%|██████████| 1/1 [00:05<00:00,  5.49s/it]\n"
     ]
    },
    {
     "name": "stdout",
     "output_type": "stream",
     "text": [
      "Epoch: 008, Average Loss: 0.4805\n",
      "Validation: {'precision': 0.16455696200448647, 'recall': 0.009259259259193311, 'f1': 0.01753202866069904, 'auc': 0.6581419207249743, 'prauc': 0.16004569831308918}\n",
      "Test:       {'precision': 0.22058823526167823, 'recall': 0.010578279266498038, 'f1': 0.020188424429226432, 'auc': 0.6500468672712325, 'prauc': 0.1591838725961034}\n"
     ]
    },
    {
     "name": "stderr",
     "output_type": "stream",
     "text": [
      "Training Batches: 100%|██████████| 1/1 [00:01<00:00,  1.47s/it]\n",
      "Running inference: 100%|██████████| 1/1 [00:04<00:00,  4.94s/it]\n",
      "Running inference: 100%|██████████| 1/1 [00:05<00:00,  5.10s/it]\n"
     ]
    },
    {
     "name": "stdout",
     "output_type": "stream",
     "text": [
      "Epoch: 009, Average Loss: 0.4472\n",
      "Validation: {'precision': 0.15384615372781063, 'recall': 0.0014245014244912786, 'f1': 0.0028228650263435995, 'auc': 0.6516929401029565, 'prauc': 0.152709472642302}\n",
      "Test:       {'precision': 0.0833333332986111, 'recall': 0.0014104372355330718, 'f1': 0.0027739247766529005, 'auc': 0.6452842458540167, 'prauc': 0.1531613717784163}\n"
     ]
    },
    {
     "name": "stderr",
     "output_type": "stream",
     "text": [
      "Training Batches: 100%|██████████| 1/1 [00:02<00:00,  2.49s/it]\n",
      "Running inference: 100%|██████████| 1/1 [00:05<00:00,  5.04s/it]\n",
      "Running inference: 100%|██████████| 1/1 [00:03<00:00,  3.76s/it]\n"
     ]
    },
    {
     "name": "stdout",
     "output_type": "stream",
     "text": [
      "Epoch: 010, Average Loss: 0.4158\n",
      "Validation: {'precision': 0.0, 'recall': 0.0, 'f1': 0.0, 'auc': 0.6460671415751075, 'prauc': 0.1469960391713664}\n",
      "Test:       {'precision': 0.09090909082644627, 'recall': 0.0007052186177665359, 'f1': 0.0013995799731739147, 'auc': 0.640857922803214, 'prauc': 0.14797300101857602}\n"
     ]
    },
    {
     "name": "stderr",
     "output_type": "stream",
     "text": [
      "Training Batches: 100%|██████████| 1/1 [00:02<00:00,  2.37s/it]\n",
      "Running inference: 100%|██████████| 1/1 [00:05<00:00,  5.09s/it]\n",
      "Running inference: 100%|██████████| 1/1 [00:04<00:00,  4.19s/it]\n"
     ]
    },
    {
     "name": "stdout",
     "output_type": "stream",
     "text": [
      "Epoch: 011, Average Loss: 0.3865\n",
      "Validation: {'precision': 0.0, 'recall': 0.0, 'f1': 0.0, 'auc': 0.6433381023650366, 'prauc': 0.14361179363307935}\n",
      "Test:       {'precision': 0.0, 'recall': 0.0, 'f1': 0.0, 'auc': 0.6392873056577272, 'prauc': 0.14553455313613545}\n"
     ]
    },
    {
     "name": "stderr",
     "output_type": "stream",
     "text": [
      "Training Batches: 100%|██████████| 1/1 [00:02<00:00,  2.57s/it]\n",
      "Running inference: 100%|██████████| 1/1 [00:04<00:00,  4.38s/it]\n",
      "Running inference: 100%|██████████| 1/1 [00:04<00:00,  4.48s/it]\n"
     ]
    },
    {
     "name": "stdout",
     "output_type": "stream",
     "text": [
      "Epoch: 012, Average Loss: 0.3604\n",
      "Validation: {'precision': 0.0, 'recall': 0.0, 'f1': 0.0, 'auc': 0.6435216480047515, 'prauc': 0.1433392509884324}\n",
      "Test:       {'precision': 0.0, 'recall': 0.0, 'f1': 0.0, 'auc': 0.6402614438019263, 'prauc': 0.1452521062291667}\n",
      "\n",
      "Early stopping triggered after 12 epochs (no improvement for 10 epochs).\n",
      "\n",
      "Best validation performance:\n",
      "{'precision': 0.2141658274581599, 'recall': 0.45441595441271787, 'f1': 0.29112479600935504, 'auc': 0.6834640695289406, 'prauc': 0.21391000574693309}\n",
      "Corresponding test performance:\n",
      "{'precision': 0.2124183006529006, 'recall': 0.45839210154824833, 'f1': 0.2903081689626283, 'auc': 0.6682239354863249, 'prauc': 0.2110841572733475}\n",
      "Corresponding test-long performance:\n",
      "{'precision': 0.16369529983527237, 'recall': 0.4316239316054861, 'f1': 0.2373677985923798, 'auc': 0.7310314167160641, 'prauc': 0.16891722124355688}\n",
      "[INFO] Random seed set to 1445662585\n",
      "Training with seed: 1445662585\n"
     ]
    },
    {
     "name": "stderr",
     "output_type": "stream",
     "text": [
      "Training Batches: 100%|██████████| 1/1 [00:02<00:00,  2.86s/it]\n",
      "Running inference: 100%|██████████| 1/1 [00:04<00:00,  4.52s/it]\n",
      "Running inference: 100%|██████████| 1/1 [00:04<00:00,  4.55s/it]\n"
     ]
    },
    {
     "name": "stdout",
     "output_type": "stream",
     "text": [
      "Epoch: 001, Average Loss: 0.7092\n",
      "Validation: {'precision': 0.1258617925282574, 'recall': 0.5591168091128268, 'f1': 0.2054704851557999, 'auc': 0.6429124159084151, 'prauc': 0.16697036626135253}\n",
      "Test:       {'precision': 0.12835067801934982, 'recall': 0.5740479548619603, 'f1': 0.20979381144562922, 'auc': 0.6394445808792855, 'prauc': 0.16307305156700158}\n"
     ]
    },
    {
     "name": "stderr",
     "output_type": "stream",
     "text": [
      "Training Batches: 100%|██████████| 1/1 [00:02<00:00,  2.05s/it]\n",
      "Running inference: 100%|██████████| 1/1 [00:04<00:00,  4.92s/it]\n",
      "Running inference: 100%|██████████| 1/1 [00:04<00:00,  4.51s/it]\n"
     ]
    },
    {
     "name": "stdout",
     "output_type": "stream",
     "text": [
      "Epoch: 002, Average Loss: 0.6769\n",
      "Validation: {'precision': 0.1877022653713005, 'recall': 0.28917378917172953, 'f1': 0.22764227164787276, 'auc': 0.6279258660840428, 'prauc': 0.1724190658981372}\n",
      "Test:       {'precision': 0.19567177637423053, 'recall': 0.30606488011067656, 'f1': 0.23872386762797412, 'auc': 0.6202587168705394, 'prauc': 0.16352932516815674}\n"
     ]
    },
    {
     "name": "stderr",
     "output_type": "stream",
     "text": [
      "Training Batches: 100%|██████████| 1/1 [00:01<00:00,  1.43s/it]\n",
      "Running inference: 100%|██████████| 1/1 [00:05<00:00,  5.28s/it]\n",
      "Running inference: 100%|██████████| 1/1 [00:04<00:00,  4.48s/it]\n"
     ]
    },
    {
     "name": "stdout",
     "output_type": "stream",
     "text": [
      "Epoch: 003, Average Loss: 0.6460\n",
      "Validation: {'precision': 0.2964824120553353, 'recall': 0.12606837606747814, 'f1': 0.17691154003936574, 'auc': 0.6284871890537389, 'prauc': 0.16855176656140813}\n",
      "Test:       {'precision': 0.2617960426139757, 'recall': 0.12129760225584417, 'f1': 0.16578312820103944, 'auc': 0.6198732622391403, 'prauc': 0.15831544828129307}\n"
     ]
    },
    {
     "name": "stderr",
     "output_type": "stream",
     "text": [
      "Training Batches: 100%|██████████| 1/1 [00:02<00:00,  2.07s/it]\n",
      "Running inference: 100%|██████████| 1/1 [00:04<00:00,  4.82s/it]\n",
      "Running inference: 100%|██████████| 1/1 [00:04<00:00,  4.61s/it]\n"
     ]
    },
    {
     "name": "stdout",
     "output_type": "stream",
     "text": [
      "Epoch: 004, Average Loss: 0.6130\n",
      "Validation: {'precision': 0.36170212762109555, 'recall': 0.024216524216351735, 'f1': 0.045393857301110015, 'auc': 0.6305580438787556, 'prauc': 0.15859328161041225}\n",
      "Test:       {'precision': 0.23387096772307495, 'recall': 0.02045133991522954, 'f1': 0.03761348749589957, 'auc': 0.6237388811259506, 'prauc': 0.1505677878799078}\n"
     ]
    },
    {
     "name": "stderr",
     "output_type": "stream",
     "text": [
      "Training Batches: 100%|██████████| 1/1 [00:01<00:00,  1.90s/it]\n",
      "Running inference: 100%|██████████| 1/1 [00:04<00:00,  4.73s/it]\n",
      "Running inference: 100%|██████████| 1/1 [00:04<00:00,  4.39s/it]\n"
     ]
    },
    {
     "name": "stdout",
     "output_type": "stream",
     "text": [
      "Epoch: 005, Average Loss: 0.5778\n",
      "Validation: {'precision': 0.2222222220987654, 'recall': 0.0028490028489825572, 'f1': 0.0056258787935615055, 'auc': 0.6274789601841827, 'prauc': 0.14785442186922013}\n",
      "Test:       {'precision': 0.21052631567867036, 'recall': 0.0028208744710661437, 'f1': 0.005567153531602667, 'auc': 0.622696172474736, 'prauc': 0.1428515219990542}\n"
     ]
    },
    {
     "name": "stderr",
     "output_type": "stream",
     "text": [
      "Training Batches: 100%|██████████| 1/1 [00:02<00:00,  2.02s/it]\n",
      "Running inference: 100%|██████████| 1/1 [00:04<00:00,  4.87s/it]\n",
      "Running inference: 100%|██████████| 1/1 [00:05<00:00,  5.32s/it]\n"
     ]
    },
    {
     "name": "stdout",
     "output_type": "stream",
     "text": [
      "Epoch: 006, Average Loss: 0.5422\n",
      "Validation: {'precision': 0.0, 'recall': 0.0, 'f1': 0.0, 'auc': 0.6212460667701077, 'prauc': 0.13828628839610232}\n",
      "Test:       {'precision': 0.0, 'recall': 0.0, 'f1': 0.0, 'auc': 0.6176172627666516, 'prauc': 0.13632123663020143}\n"
     ]
    },
    {
     "name": "stderr",
     "output_type": "stream",
     "text": [
      "Training Batches: 100%|██████████| 1/1 [00:01<00:00,  1.39s/it]\n",
      "Running inference: 100%|██████████| 1/1 [00:05<00:00,  5.42s/it]\n",
      "Running inference: 100%|██████████| 1/1 [00:04<00:00,  4.95s/it]\n"
     ]
    },
    {
     "name": "stdout",
     "output_type": "stream",
     "text": [
      "Epoch: 007, Average Loss: 0.5055\n",
      "Validation: {'precision': 0.0, 'recall': 0.0, 'f1': 0.0, 'auc': 0.616130221840374, 'prauc': 0.13255734012510126}\n",
      "Test:       {'precision': 0.0, 'recall': 0.0, 'f1': 0.0, 'auc': 0.6132350810487504, 'prauc': 0.13182972077283814}\n"
     ]
    },
    {
     "name": "stderr",
     "output_type": "stream",
     "text": [
      "Training Batches: 100%|██████████| 1/1 [00:02<00:00,  2.09s/it]\n",
      "Running inference: 100%|██████████| 1/1 [00:04<00:00,  4.32s/it]\n",
      "Running inference: 100%|██████████| 1/1 [00:04<00:00,  4.76s/it]\n"
     ]
    },
    {
     "name": "stdout",
     "output_type": "stream",
     "text": [
      "Epoch: 008, Average Loss: 0.4704\n",
      "Validation: {'precision': 0.0, 'recall': 0.0, 'f1': 0.0, 'auc': 0.6129068510203753, 'prauc': 0.12879023699117287}\n",
      "Test:       {'precision': 0.0, 'recall': 0.0, 'f1': 0.0, 'auc': 0.6105045746607696, 'prauc': 0.12865368856015996}\n"
     ]
    },
    {
     "name": "stderr",
     "output_type": "stream",
     "text": [
      "Training Batches: 100%|██████████| 1/1 [00:02<00:00,  2.87s/it]\n",
      "Running inference: 100%|██████████| 1/1 [00:04<00:00,  4.72s/it]\n",
      "Running inference: 100%|██████████| 1/1 [00:04<00:00,  4.31s/it]\n"
     ]
    },
    {
     "name": "stdout",
     "output_type": "stream",
     "text": [
      "Epoch: 009, Average Loss: 0.4364\n",
      "Validation: {'precision': 0.0, 'recall': 0.0, 'f1': 0.0, 'auc': 0.6119064077019354, 'prauc': 0.12443357196091938}\n",
      "Test:       {'precision': 0.0, 'recall': 0.0, 'f1': 0.0, 'auc': 0.6099399230997404, 'prauc': 0.125786617108443}\n"
     ]
    },
    {
     "name": "stderr",
     "output_type": "stream",
     "text": [
      "Training Batches: 100%|██████████| 1/1 [00:02<00:00,  2.04s/it]\n",
      "Running inference: 100%|██████████| 1/1 [00:04<00:00,  4.25s/it]\n",
      "Running inference: 100%|██████████| 1/1 [00:04<00:00,  4.81s/it]\n"
     ]
    },
    {
     "name": "stdout",
     "output_type": "stream",
     "text": [
      "Epoch: 010, Average Loss: 0.4060\n",
      "Validation: {'precision': 0.0, 'recall': 0.0, 'f1': 0.0, 'auc': 0.6125870327931484, 'prauc': 0.12174306412702329}\n",
      "Test:       {'precision': 0.0, 'recall': 0.0, 'f1': 0.0, 'auc': 0.6109676366074948, 'prauc': 0.12336967875181734}\n"
     ]
    },
    {
     "name": "stderr",
     "output_type": "stream",
     "text": [
      "Training Batches: 100%|██████████| 1/1 [00:01<00:00,  1.85s/it]\n",
      "Running inference: 100%|██████████| 1/1 [00:05<00:00,  5.21s/it]\n",
      "Running inference: 100%|██████████| 1/1 [00:04<00:00,  4.92s/it]\n"
     ]
    },
    {
     "name": "stdout",
     "output_type": "stream",
     "text": [
      "Epoch: 011, Average Loss: 0.3785\n",
      "Validation: {'precision': 0.0, 'recall': 0.0, 'f1': 0.0, 'auc': 0.6148937694626057, 'prauc': 0.12130584068997893}\n",
      "Test:       {'precision': 0.0, 'recall': 0.0, 'f1': 0.0, 'auc': 0.6137166634872329, 'prauc': 0.1228791810389937}\n"
     ]
    },
    {
     "name": "stderr",
     "output_type": "stream",
     "text": [
      "Training Batches: 100%|██████████| 1/1 [00:01<00:00,  1.47s/it]\n",
      "Running inference: 100%|██████████| 1/1 [00:04<00:00,  4.91s/it]\n",
      "Running inference: 100%|██████████| 1/1 [00:05<00:00,  5.42s/it]"
     ]
    },
    {
     "name": "stdout",
     "output_type": "stream",
     "text": [
      "Epoch: 012, Average Loss: 0.3540\n",
      "Validation: {'precision': 0.0, 'recall': 0.0, 'f1': 0.0, 'auc': 0.6185282733560936, 'prauc': 0.12183077444131218}\n",
      "Test:       {'precision': 0.0, 'recall': 0.0, 'f1': 0.0, 'auc': 0.6178651046824868, 'prauc': 0.12377530277596518}\n",
      "\n",
      "Early stopping triggered after 12 epochs (no improvement for 10 epochs).\n",
      "\n",
      "Best validation performance:\n",
      "{'precision': 0.1877022653713005, 'recall': 0.28917378917172953, 'f1': 0.22764227164787276, 'auc': 0.6279258660840428, 'prauc': 0.1724190658981372}\n",
      "Corresponding test performance:\n",
      "{'precision': 0.19567177637423053, 'recall': 0.30606488011067656, 'f1': 0.23872386762797412, 'auc': 0.6202587168705394, 'prauc': 0.16352932516815674}\n",
      "Corresponding test-long performance:\n",
      "{'precision': 0.17381974248554036, 'recall': 0.34615384613905326, 'f1': 0.23142856697118375, 'auc': 0.7044657739678486, 'prauc': 0.1406569976811492}\n"
     ]
    },
    {
     "name": "stderr",
     "output_type": "stream",
     "text": [
      "\n"
     ]
    }
   ],
   "source": [
    "final_metrics, final_long_seq_metrics = [], []\n",
    "\n",
    "for seed in seeds:\n",
    "    set_random_seed(seed)\n",
    "    print(f\"Training with seed: {seed}\")\n",
    "    \n",
    "    # Initialize model, optimizer, and loss function\n",
    "    model = SetGNN(args, tokenizer).to(device)\n",
    "    optimizer = torch.optim.AdamW(model.parameters(), lr=args[\"lr\"])\n",
    "    \n",
    "    best_test_metric, best_test_long_seq_metric = train_with_early_stopping(\n",
    "        model, \n",
    "        train_dataloader, \n",
    "        val_dataloader, \n",
    "        test_dataloader,\n",
    "        optimizer, \n",
    "        loss_fn, \n",
    "        device, \n",
    "        args,\n",
    "        val_long_seq_idx,\n",
    "        test_long_seq_idx,\n",
    "        task_type=task_type,\n",
    "        eval_metric = \"f1\")\n",
    "    \n",
    "    final_metrics.append(best_test_metric)\n",
    "    final_long_seq_metrics.append(best_test_long_seq_metric)"
   ]
  },
  {
   "cell_type": "code",
   "execution_count": 13,
   "id": "399fb1a4-48a4-452c-9711-471ac691c5d0",
   "metadata": {
    "tags": []
   },
   "outputs": [],
   "source": [
    "import numpy as np\n",
    "def topk_avg_performance_formatted(performances, long_seq_performances, k=5):\n",
    "    metrics = [\"f1\", \"auc\", \"prauc\"]\n",
    "    scores = {m: np.array([p[m] for p in performances]) for m in metrics}\n",
    "\n",
    "    # 计算排名（值越大排名越靠前）\n",
    "    ranks = {m: (-scores[m]).argsort().argsort() + 1 for m in metrics}\n",
    "    avg_ranks = np.mean(np.stack([ranks[m] for m in metrics], axis=1), axis=1)\n",
    "\n",
    "    # 选 top-k\n",
    "    topk_idx = np.argsort(avg_ranks)[:k]\n",
    "    final_avg = {m: np.mean([performances[i][m] for i in topk_idx]) for m in performances[0].keys()}\n",
    "    final_std = {m: np.std([performances[i][m] for i in topk_idx], ddof=0) for m in performances[0].keys()}\n",
    "    final_long_seq_avg = {m: np.mean([long_seq_performances[i][m] for i in topk_idx]) for m in long_seq_performances[0].keys()}\n",
    "    final_long_seq_std = {m: np.std([long_seq_performances[i][m] for i in topk_idx], ddof=0) for m in long_seq_performances[0].keys()}\n",
    "\n",
    "    # 打印结果（转百分比，均保留两位小数）\n",
    "    print(\"Final Metrics:\")\n",
    "    for m in performances[0].keys():\n",
    "        mean_val = final_avg[m] * 100\n",
    "        std_val = final_std[m] * 100\n",
    "        print(f\"{m}: {mean_val:.2f} ± {std_val:.2f}\")\n",
    "    print(\"\\nFinal Long Sequence Metrics:\")\n",
    "    for m in long_seq_performances[0].keys():\n",
    "        mean_val = final_long_seq_avg[m] * 100\n",
    "        std_val = final_long_seq_std[m] * 100\n",
    "        print(f\"{m}: {mean_val:.2f} ± {std_val:.2f}\")"
   ]
  },
  {
   "cell_type": "code",
   "execution_count": 14,
   "id": "f8529f5e-4c43-4c02-8651-ef2dfa24c752",
   "metadata": {
    "tags": []
   },
   "outputs": [],
   "source": [
    "def print_per_class_performance(dfs, col_name=\"prauc\"):\n",
    "    \"\"\"\n",
    "    输入一个 DataFrame 列表，对每个疾病在所有表格的指定列计算 mean ± std 并打印。\n",
    "\n",
    "    参数:\n",
    "        dfs (list[pd.DataFrame]): 多个表格组成的列表\n",
    "        col_name (str): 要计算的指标列名 (默认: \"prauc\")\n",
    "    \"\"\"\n",
    "    # 拼接所有表格\n",
    "    all_values = pd.concat(dfs, axis=0)\n",
    "\n",
    "    # 按疾病分组，计算 mean 和 std\n",
    "    grouped = all_values.groupby(all_values.index)[col_name].agg([\"mean\", \"std\"])\n",
    "\n",
    "    # 打印\n",
    "    for disease, row in grouped.iterrows():\n",
    "        mean_val = row[\"mean\"] * 100\n",
    "        std_val = row[\"std\"] * 100\n",
    "        print(f\"{disease}: {mean_val:.2f} ± {std_val:.2f}\")"
   ]
  },
  {
   "cell_type": "code",
   "execution_count": 15,
   "id": "037f2112-8d86-4e55-85f3-4e3e6e0ab8dd",
   "metadata": {
    "tags": []
   },
   "outputs": [
    {
     "ename": "TypeError",
     "evalue": "'NoneType' object is not subscriptable",
     "output_type": "error",
     "traceback": [
      "\u001b[0;31m---------------------------------------------------------------------------\u001b[0m",
      "\u001b[0;31mTypeError\u001b[0m                                 Traceback (most recent call last)",
      "Cell \u001b[0;32mIn[15], line 2\u001b[0m\n\u001b[1;32m      1\u001b[0m \u001b[38;5;28;01mif\u001b[39;00m task_type \u001b[38;5;241m==\u001b[39m \u001b[38;5;124m\"\u001b[39m\u001b[38;5;124mbinary\u001b[39m\u001b[38;5;124m\"\u001b[39m:\n\u001b[0;32m----> 2\u001b[0m     \u001b[43mtopk_avg_performance_formatted\u001b[49m\u001b[43m(\u001b[49m\u001b[43mfinal_metrics\u001b[49m\u001b[43m,\u001b[49m\u001b[43m \u001b[49m\u001b[43mfinal_long_seq_metrics\u001b[49m\u001b[43m)\u001b[49m\n\u001b[1;32m      3\u001b[0m \u001b[38;5;28;01melse\u001b[39;00m:\n\u001b[1;32m      4\u001b[0m     final_metrics_global \u001b[38;5;241m=\u001b[39m [metrics[\u001b[38;5;124m\"\u001b[39m\u001b[38;5;124mglobal\u001b[39m\u001b[38;5;124m\"\u001b[39m] \u001b[38;5;28;01mfor\u001b[39;00m metrics \u001b[38;5;129;01min\u001b[39;00m final_metrics]\n",
      "Cell \u001b[0;32mIn[13], line 4\u001b[0m, in \u001b[0;36mtopk_avg_performance_formatted\u001b[0;34m(performances, long_seq_performances, k)\u001b[0m\n\u001b[1;32m      2\u001b[0m \u001b[38;5;28;01mdef\u001b[39;00m\u001b[38;5;250m \u001b[39m\u001b[38;5;21mtopk_avg_performance_formatted\u001b[39m(performances, long_seq_performances, k\u001b[38;5;241m=\u001b[39m\u001b[38;5;241m5\u001b[39m):\n\u001b[1;32m      3\u001b[0m     metrics \u001b[38;5;241m=\u001b[39m [\u001b[38;5;124m\"\u001b[39m\u001b[38;5;124mf1\u001b[39m\u001b[38;5;124m\"\u001b[39m, \u001b[38;5;124m\"\u001b[39m\u001b[38;5;124mauc\u001b[39m\u001b[38;5;124m\"\u001b[39m, \u001b[38;5;124m\"\u001b[39m\u001b[38;5;124mprauc\u001b[39m\u001b[38;5;124m\"\u001b[39m]\n\u001b[0;32m----> 4\u001b[0m     scores \u001b[38;5;241m=\u001b[39m {m: np\u001b[38;5;241m.\u001b[39marray([p[m] \u001b[38;5;28;01mfor\u001b[39;00m p \u001b[38;5;129;01min\u001b[39;00m performances]) \u001b[38;5;28;01mfor\u001b[39;00m m \u001b[38;5;129;01min\u001b[39;00m metrics}\n\u001b[1;32m      6\u001b[0m     \u001b[38;5;66;03m# 计算排名（值越大排名越靠前）\u001b[39;00m\n\u001b[1;32m      7\u001b[0m     ranks \u001b[38;5;241m=\u001b[39m {m: (\u001b[38;5;241m-\u001b[39mscores[m])\u001b[38;5;241m.\u001b[39margsort()\u001b[38;5;241m.\u001b[39margsort() \u001b[38;5;241m+\u001b[39m \u001b[38;5;241m1\u001b[39m \u001b[38;5;28;01mfor\u001b[39;00m m \u001b[38;5;129;01min\u001b[39;00m metrics}\n",
      "Cell \u001b[0;32mIn[13], line 4\u001b[0m, in \u001b[0;36m<dictcomp>\u001b[0;34m(.0)\u001b[0m\n\u001b[1;32m      2\u001b[0m \u001b[38;5;28;01mdef\u001b[39;00m\u001b[38;5;250m \u001b[39m\u001b[38;5;21mtopk_avg_performance_formatted\u001b[39m(performances, long_seq_performances, k\u001b[38;5;241m=\u001b[39m\u001b[38;5;241m5\u001b[39m):\n\u001b[1;32m      3\u001b[0m     metrics \u001b[38;5;241m=\u001b[39m [\u001b[38;5;124m\"\u001b[39m\u001b[38;5;124mf1\u001b[39m\u001b[38;5;124m\"\u001b[39m, \u001b[38;5;124m\"\u001b[39m\u001b[38;5;124mauc\u001b[39m\u001b[38;5;124m\"\u001b[39m, \u001b[38;5;124m\"\u001b[39m\u001b[38;5;124mprauc\u001b[39m\u001b[38;5;124m\"\u001b[39m]\n\u001b[0;32m----> 4\u001b[0m     scores \u001b[38;5;241m=\u001b[39m {m: np\u001b[38;5;241m.\u001b[39marray([p[m] \u001b[38;5;28;01mfor\u001b[39;00m p \u001b[38;5;129;01min\u001b[39;00m performances]) \u001b[38;5;28;01mfor\u001b[39;00m m \u001b[38;5;129;01min\u001b[39;00m metrics}\n\u001b[1;32m      6\u001b[0m     \u001b[38;5;66;03m# 计算排名（值越大排名越靠前）\u001b[39;00m\n\u001b[1;32m      7\u001b[0m     ranks \u001b[38;5;241m=\u001b[39m {m: (\u001b[38;5;241m-\u001b[39mscores[m])\u001b[38;5;241m.\u001b[39margsort()\u001b[38;5;241m.\u001b[39margsort() \u001b[38;5;241m+\u001b[39m \u001b[38;5;241m1\u001b[39m \u001b[38;5;28;01mfor\u001b[39;00m m \u001b[38;5;129;01min\u001b[39;00m metrics}\n",
      "Cell \u001b[0;32mIn[13], line 4\u001b[0m, in \u001b[0;36m<listcomp>\u001b[0;34m(.0)\u001b[0m\n\u001b[1;32m      2\u001b[0m \u001b[38;5;28;01mdef\u001b[39;00m\u001b[38;5;250m \u001b[39m\u001b[38;5;21mtopk_avg_performance_formatted\u001b[39m(performances, long_seq_performances, k\u001b[38;5;241m=\u001b[39m\u001b[38;5;241m5\u001b[39m):\n\u001b[1;32m      3\u001b[0m     metrics \u001b[38;5;241m=\u001b[39m [\u001b[38;5;124m\"\u001b[39m\u001b[38;5;124mf1\u001b[39m\u001b[38;5;124m\"\u001b[39m, \u001b[38;5;124m\"\u001b[39m\u001b[38;5;124mauc\u001b[39m\u001b[38;5;124m\"\u001b[39m, \u001b[38;5;124m\"\u001b[39m\u001b[38;5;124mprauc\u001b[39m\u001b[38;5;124m\"\u001b[39m]\n\u001b[0;32m----> 4\u001b[0m     scores \u001b[38;5;241m=\u001b[39m {m: np\u001b[38;5;241m.\u001b[39marray([\u001b[43mp\u001b[49m\u001b[43m[\u001b[49m\u001b[43mm\u001b[49m\u001b[43m]\u001b[49m \u001b[38;5;28;01mfor\u001b[39;00m p \u001b[38;5;129;01min\u001b[39;00m performances]) \u001b[38;5;28;01mfor\u001b[39;00m m \u001b[38;5;129;01min\u001b[39;00m metrics}\n\u001b[1;32m      6\u001b[0m     \u001b[38;5;66;03m# 计算排名（值越大排名越靠前）\u001b[39;00m\n\u001b[1;32m      7\u001b[0m     ranks \u001b[38;5;241m=\u001b[39m {m: (\u001b[38;5;241m-\u001b[39mscores[m])\u001b[38;5;241m.\u001b[39margsort()\u001b[38;5;241m.\u001b[39margsort() \u001b[38;5;241m+\u001b[39m \u001b[38;5;241m1\u001b[39m \u001b[38;5;28;01mfor\u001b[39;00m m \u001b[38;5;129;01min\u001b[39;00m metrics}\n",
      "\u001b[0;31mTypeError\u001b[0m: 'NoneType' object is not subscriptable"
     ]
    }
   ],
   "source": [
    "if task_type == \"binary\":\n",
    "    topk_avg_performance_formatted(final_metrics, final_long_seq_metrics)\n",
    "else:\n",
    "    final_metrics_global = [metrics[\"global\"] for metrics in final_metrics]\n",
    "    final_metrics_per_class = [metrics[\"per_class\"] for metrics in final_metrics]\n",
    "    final_long_seq_metrics_global = [metrics[\"global\"] for metrics in final_long_seq_metrics]\n",
    "    final_long_seq_metrics_per_class = [metrics[\"per_class\"] for metrics in final_long_seq_metrics]\n",
    "    topk_avg_performance_formatted(final_metrics_global, final_long_seq_metrics_global)\n",
    "    print(\"\\nPer-class performance, all patients:\")\n",
    "    print_per_class_performance(final_metrics_per_class, col_name=\"prauc\")\n",
    "    print(\"\\nPer-class performance, long seq:\")\n",
    "    print_per_class_performance(final_long_seq_metrics_per_class, col_name=\"prauc\")"
   ]
  }
 ],
 "metadata": {
  "kernelspec": {
   "display_name": "heart-cuda",
   "language": "python",
   "name": "heart-cuda"
  },
  "language_info": {
   "codemirror_mode": {
    "name": "ipython",
    "version": 3
   },
   "file_extension": ".py",
   "mimetype": "text/x-python",
   "name": "python",
   "nbconvert_exporter": "python",
   "pygments_lexer": "ipython3",
   "version": "3.10.18"
  }
 },
 "nbformat": 4,
 "nbformat_minor": 5
}
