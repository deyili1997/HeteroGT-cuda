{
 "cells": [
  {
   "cell_type": "code",
   "execution_count": 1,
   "id": "105bbf2f",
   "metadata": {},
   "outputs": [
    {
     "name": "stderr",
     "output_type": "stream",
     "text": [
      "Disabling PyTorch because PyTorch >= 2.1 is required but found 1.13.1\n",
      "None of PyTorch, TensorFlow >= 2.0, or Flax have been found. Models won't be available and only tokenizers, configuration and file/data utilities can be used.\n"
     ]
    }
   ],
   "source": [
    "import torch\n",
    "import random\n",
    "from model import SetGNN \n",
    "import pickle\n",
    "from tokenizer import EHRTokenizer\n",
    "from dataset import FinetuneHGDataset, batcher_SetGNN_finetune\n",
    "from torch.utils.data import DataLoader\n",
    "import torch.nn.functional as F\n",
    "from train import PHENO_ORDER, train_with_early_stopping\n",
    "from set_seed import set_random_seed"
   ]
  },
  {
   "cell_type": "code",
   "execution_count": 2,
   "id": "eb757cdd",
   "metadata": {},
   "outputs": [
    {
     "name": "stdout",
     "output_type": "stream",
     "text": [
      "cuda\n"
     ]
    }
   ],
   "source": [
    "device = torch.device(\"cuda\" if torch.cuda.is_available() else \"cpu\")\n",
    "print(device)"
   ]
  },
  {
   "cell_type": "code",
   "execution_count": 3,
   "id": "89793d45",
   "metadata": {},
   "outputs": [],
   "source": [
    "args = {\n",
    "    \"dataset\": \"MIMIC-III\", \n",
    "    \"task\": \"readmission\",  # options: death, stay, readmission, next_diag_6m, next_diag_12m\n",
    "    \"special_tokens\":[\"[PAD]\", \"[CLS]\"],\n",
    "    \"predicted_token_type\": [\"diag\", \"med\", \"lab\", \"pro\"],\n",
    "    \"batch_size\": 256,\n",
    "    \"lr\": 1e-3,\n",
    "    \"epochs\": 500,\n",
    "    \"model_name\": \"HG\",\n",
    "    \"early_stop_patience\": 10,\n",
    "    # model hyperparameters\n",
    "    \"level\": \"visit\",  # \"visit\" or \"patient\"\n",
    "    \"hg_all_num_layers\": 3,\n",
    "    \"hg_use_type_embed\": True,\n",
    "    \"MLP_num_layers\": 2,\n",
    "    \"hg_aggregate\": \"mean\",\n",
    "    \"hg_dropout\": 0.0,\n",
    "    \"normtype\": \"all_one\",\n",
    "    \"add_self_loop\": True,\n",
    "    \"hg_normalization\": \"ln\",\n",
    "    \"hg_hidden_size\": 128,\n",
    "    \"PMA\": True,\n",
    "    \"hg_num_heads\": 4,\n",
    "}"
   ]
  },
  {
   "cell_type": "code",
   "execution_count": 4,
   "id": "c32fba6c",
   "metadata": {},
   "outputs": [],
   "source": [
    "full_data_path = f\"/home/lideyi/HeteroGT-cuda/data_process/{args['dataset']}-processed/mimic.pkl\"\n",
    "\n",
    "if args[\"task\"] == \"next_diag_6m\":\n",
    "    finetune_data_path = f\"/home/lideyi/HeteroGT-cuda/data_process/{args['dataset']}-processed/mimic_nextdiag_6m.pkl\"\n",
    "elif args[\"task\"] == \"next_diag_12m\":\n",
    "    finetune_data_path = f\"/home/lideyi/HeteroGT-cuda/data_process/{args['dataset']}-processed/mimic_nextdiag_12m.pkl\"\n",
    "else:\n",
    "    finetune_data_path = f\"/home/lideyi/HeteroGT-cuda/data_process/{args['dataset']}-processed/mimic_downstream.pkl\""
   ]
  },
  {
   "cell_type": "code",
   "execution_count": 5,
   "id": "9ab08e48",
   "metadata": {},
   "outputs": [
    {
     "name": "stdout",
     "output_type": "stream",
     "text": [
      "Max admissions per patient: 8\n"
     ]
    }
   ],
   "source": [
    "ehr_full_data = pickle.load(open(full_data_path, 'rb'))\n",
    "diag_sentences = ehr_full_data[\"ICD9_CODE\"].values.tolist()\n",
    "med_sentences = ehr_full_data[\"NDC\"].values.tolist()\n",
    "lab_sentences = ehr_full_data[\"LAB_TEST\"].values.tolist()\n",
    "pro_sentences = ehr_full_data[\"PRO_CODE\"].values.tolist()\n",
    "age_gender_sentences = [\"[PAD]\"] + [str(c) + \"_\" + gender \\\n",
    "    for c in set(ehr_full_data[\"AGE\"].values.tolist()) for gender in [\"M\", \"F\"]] # PAD token special for age_gender vocabulary\n",
    "max_admissions = ehr_full_data.groupby(\"SUBJECT_ID\")[\"HADM_ID\"].nunique().max()\n",
    "args[\"max_adm_len\"] = max_admissions\n",
    "print(f\"Max admissions per patient: {max_admissions}\")"
   ]
  },
  {
   "cell_type": "code",
   "execution_count": 6,
   "id": "42864fb3",
   "metadata": {},
   "outputs": [
    {
     "name": "stdout",
     "output_type": "stream",
     "text": [
      "Age and gender vocabulary size: 37\n",
      "Global vocabulary size: 4446\n",
      "Label vocabulary size: 18\n"
     ]
    }
   ],
   "source": [
    "tokenizer = EHRTokenizer(age_gender_sentences, diag_sentences, med_sentences, lab_sentences, \n",
    "                         pro_sentences, special_tokens=args[\"special_tokens\"])\n",
    "args[\"age_gender_vocab_size\"] = tokenizer.token_number(\"age_gender\")\n",
    "args[\"global_vocab_size\"] = len(tokenizer.vocab.id2word)\n",
    "args[\"label_vocab_size\"] = len(PHENO_ORDER)\n",
    "print(f\"Age and gender vocabulary size: {args['age_gender_vocab_size']}\")\n",
    "print(f\"Global vocabulary size: {args['global_vocab_size']}\")\n",
    "print(f\"Label vocabulary size: {args['label_vocab_size']}\")"
   ]
  },
  {
   "cell_type": "code",
   "execution_count": 7,
   "id": "f7ff21ce",
   "metadata": {},
   "outputs": [
    {
     "name": "stdout",
     "output_type": "stream",
     "text": [
      "3131 6310 6304\n"
     ]
    }
   ],
   "source": [
    "train_data, val_data, test_data = pickle.load(open(finetune_data_path, 'rb'))\n",
    "\n",
    "# output: input_ids (a patient has multiple visits), labels\n",
    "train_dataset = FinetuneHGDataset(train_data, tokenizer, token_type=args[\"predicted_token_type\"], task=args[\"task\"], level=args[\"level\"])\n",
    "val_dataset = FinetuneHGDataset(val_data, tokenizer, token_type=args[\"predicted_token_type\"], task=args[\"task\"], level=args[\"level\"])\n",
    "test_dataset = FinetuneHGDataset(test_data, tokenizer, token_type=args[\"predicted_token_type\"], task=args[\"task\"], level=args[\"level\"])\n",
    "print(len(train_dataset), len(val_dataset), len(test_dataset))"
   ]
  },
  {
   "cell_type": "code",
   "execution_count": 8,
   "id": "42afdd7b",
   "metadata": {},
   "outputs": [
    {
     "name": "stdout",
     "output_type": "stream",
     "text": [
      "835 854\n"
     ]
    }
   ],
   "source": [
    "long_adm_seq_crite = 3\n",
    "val_long_seq_idx, test_long_seq_idx = [], []\n",
    "for i in range(len(val_dataset)):\n",
    "    hadm_id = list(val_dataset.records.keys())[i]\n",
    "    num_adms = len(val_dataset.records[hadm_id])\n",
    "    if num_adms >= long_adm_seq_crite:\n",
    "        val_long_seq_idx.append(i)\n",
    "for i in range(len(test_dataset)):\n",
    "    hadm_id = list(test_dataset.records.keys())[i]\n",
    "    num_adms = len(test_dataset.records[hadm_id])\n",
    "    if num_adms >= long_adm_seq_crite:\n",
    "        test_long_seq_idx.append(i)\n",
    "print(len(val_long_seq_idx), len(test_long_seq_idx))"
   ]
  },
  {
   "cell_type": "code",
   "execution_count": 9,
   "id": "d0769b44",
   "metadata": {},
   "outputs": [],
   "source": [
    "use_full_graph = True\n",
    "train_batch_size = len(train_dataset) if use_full_graph else args[\"batch_size\"]\n",
    "val_batch_size = len(val_dataset) if use_full_graph else args[\"batch_size\"]\n",
    "test_batch_size = len(test_dataset) if use_full_graph else args[\"batch_size\"]\n",
    "train_dataloader = DataLoader(train_dataset, collate_fn=batcher_SetGNN_finetune(device = device), batch_size = train_batch_size, shuffle = True)\n",
    "val_dataloader = DataLoader(val_dataset, collate_fn=batcher_SetGNN_finetune(device = device), batch_size = val_batch_size, shuffle = False)\n",
    "test_dataloader = DataLoader(test_dataset, collate_fn=batcher_SetGNN_finetune(device = device), batch_size = test_batch_size, shuffle = False)"
   ]
  },
  {
   "cell_type": "code",
   "execution_count": 10,
   "id": "92a62432",
   "metadata": {},
   "outputs": [],
   "source": [
    "if args[\"task\"] in [\"death\", \"stay\", \"readmission\"]:\n",
    "    eval_metric = \"prauc\"\n",
    "    task_type = \"binary\"\n",
    "    loss_fn = F.binary_cross_entropy_with_logits\n",
    "else:\n",
    "    eval_metric = \"prauc\"\n",
    "    task_type = \"l2r\"\n",
    "    loss_fn = lambda x, y: F.binary_cross_entropy_with_logits(x, y)"
   ]
  },
  {
   "cell_type": "code",
   "execution_count": 11,
   "id": "33afa400",
   "metadata": {},
   "outputs": [
    {
     "name": "stdout",
     "output_type": "stream",
     "text": [
      "[2746317213, 1181241943, 958682846, 3163119785, 1812140441, 127978094, 939042955, 2340505846, 946785248, 2530876844, 3460967357, 2998485882, 1461364854, 667779376, 1445662585]\n"
     ]
    }
   ],
   "source": [
    "random.seed(42)\n",
    "seeds = [random.randint(0, 2**32 - 1) for _ in range(15)]\n",
    "print(seeds)"
   ]
  },
  {
   "cell_type": "code",
   "execution_count": 12,
   "id": "71af0347",
   "metadata": {},
   "outputs": [
    {
     "name": "stdout",
     "output_type": "stream",
     "text": [
      "[INFO] Random seed set to 2746317213\n",
      "Training with seed: 2746317213\n"
     ]
    },
    {
     "name": "stderr",
     "output_type": "stream",
     "text": [
      "Training Batches: 100%|██████████| 1/1 [00:01<00:00,  1.82s/it]\n",
      "Running inference: 100%|██████████| 1/1 [00:02<00:00,  2.07s/it]\n",
      "Running inference: 100%|██████████| 1/1 [00:02<00:00,  2.02s/it]\n"
     ]
    },
    {
     "name": "stdout",
     "output_type": "stream",
     "text": [
      "Epoch: 001, Average Loss: 0.6899\n",
      "Validation: {'precision': 0.6957671957625942, 'recall': 0.4158102766781984, 'f1': 0.5205343842309585, 'auc': 0.7661746868268607, 'prauc': 0.6629367264844601}\n",
      "Test:       {'precision': 0.6769644056368237, 'recall': 0.3982615566953842, 'f1': 0.5014925326468715, 'auc': 0.7618007420940842, 'prauc': 0.6490149916834298}\n"
     ]
    },
    {
     "name": "stderr",
     "output_type": "stream",
     "text": [
      "Training Batches: 100%|██████████| 1/1 [00:00<00:00,  1.41it/s]\n",
      "Running inference: 100%|██████████| 1/1 [00:02<00:00,  2.30s/it]\n",
      "Running inference: 100%|██████████| 1/1 [00:02<00:00,  2.30s/it]\n"
     ]
    },
    {
     "name": "stdout",
     "output_type": "stream",
     "text": [
      "Epoch: 002, Average Loss: 0.6629\n",
      "Validation: {'precision': 0.6768226332933797, 'recall': 0.49169960474113955, 'f1': 0.5695970647199539, 'auc': 0.7667118388857519, 'prauc': 0.6646415454618781}\n",
      "Test:       {'precision': 0.6685236768764985, 'recall': 0.47412090082783837, 'f1': 0.5547850159466015, 'auc': 0.7629163022046371, 'prauc': 0.6492287938531134}\n"
     ]
    },
    {
     "name": "stderr",
     "output_type": "stream",
     "text": [
      "Training Batches: 100%|██████████| 1/1 [00:00<00:00,  1.00it/s]\n",
      "Running inference: 100%|██████████| 1/1 [00:01<00:00,  2.00s/it]\n",
      "Running inference: 100%|██████████| 1/1 [00:02<00:00,  2.28s/it]\n"
     ]
    },
    {
     "name": "stdout",
     "output_type": "stream",
     "text": [
      "Epoch: 003, Average Loss: 0.6388\n",
      "Validation: {'precision': 0.6697015680289848, 'recall': 0.5233201581006983, 'f1': 0.5875305031711803, 'auc': 0.7669188782232261, 'prauc': 0.6655142674308113}\n",
      "Test:       {'precision': 0.6573498964769289, 'recall': 0.501777953376129, 'f1': 0.5691239027729309, 'auc': 0.7632954858299362, 'prauc': 0.6501423280213328}\n"
     ]
    },
    {
     "name": "stderr",
     "output_type": "stream",
     "text": [
      "Training Batches: 100%|██████████| 1/1 [00:01<00:00,  1.30s/it]\n",
      "Running inference: 100%|██████████| 1/1 [00:01<00:00,  1.98s/it]\n",
      "Running inference: 100%|██████████| 1/1 [00:02<00:00,  2.33s/it]\n"
     ]
    },
    {
     "name": "stdout",
     "output_type": "stream",
     "text": [
      "Epoch: 004, Average Loss: 0.6169\n",
      "Validation: {'precision': 0.663918525699981, 'recall': 0.5411067193654502, 'f1': 0.5962543504500348, 'auc': 0.7673181609051174, 'prauc': 0.6666041177114012}\n",
      "Test:       {'precision': 0.6552748885554469, 'recall': 0.5227182931626918, 'f1': 0.5815384565992177, 'auc': 0.7636060268519811, 'prauc': 0.6512963183404507}\n"
     ]
    },
    {
     "name": "stderr",
     "output_type": "stream",
     "text": [
      "Training Batches: 100%|██████████| 1/1 [00:00<00:00,  1.02it/s]\n",
      "Running inference: 100%|██████████| 1/1 [00:02<00:00,  2.31s/it]\n",
      "Running inference: 100%|██████████| 1/1 [00:02<00:00,  2.03s/it]\n"
     ]
    },
    {
     "name": "stdout",
     "output_type": "stream",
     "text": [
      "Epoch: 005, Average Loss: 0.5995\n",
      "Validation: {'precision': 0.6591016548432194, 'recall': 0.5509881422903123, 'f1': 0.6002152802902871, 'auc': 0.7678995963778572, 'prauc': 0.6675968871033923}\n",
      "Test:       {'precision': 0.655934646801269, 'recall': 0.5393125246916661, 'f1': 0.5919340800406977, 'auc': 0.7639804458114555, 'prauc': 0.6521106886377239}\n"
     ]
    },
    {
     "name": "stderr",
     "output_type": "stream",
     "text": [
      "Training Batches: 100%|██████████| 1/1 [00:01<00:00,  1.26s/it]\n",
      "Running inference: 100%|██████████| 1/1 [00:02<00:00,  2.00s/it]\n",
      "Running inference: 100%|██████████| 1/1 [00:02<00:00,  2.03s/it]\n"
     ]
    },
    {
     "name": "stdout",
     "output_type": "stream",
     "text": [
      "Epoch: 006, Average Loss: 0.5869\n",
      "Validation: {'precision': 0.655782312922196, 'recall': 0.5715415019740255, 'f1': 0.6107708503536053, 'auc': 0.7684729280381455, 'prauc': 0.6686461239896221}\n",
      "Test:       {'precision': 0.6522346368684719, 'recall': 0.5535361517165013, 'f1': 0.5988459022760796, 'auc': 0.7643411990810371, 'prauc': 0.6525947842168396}\n"
     ]
    },
    {
     "name": "stderr",
     "output_type": "stream",
     "text": [
      "Training Batches: 100%|██████████| 1/1 [00:01<00:00,  1.01s/it]\n",
      "Running inference: 100%|██████████| 1/1 [00:02<00:00,  2.02s/it]\n",
      "Running inference: 100%|██████████| 1/1 [00:02<00:00,  2.28s/it]\n"
     ]
    },
    {
     "name": "stdout",
     "output_type": "stream",
     "text": [
      "Epoch: 007, Average Loss: 0.5803\n",
      "Validation: {'precision': 0.6552346570367544, 'recall': 0.5739130434759925, 'f1': 0.6118836865490173, 'auc': 0.7689829976786499, 'prauc': 0.6695000737142396}\n",
      "Test:       {'precision': 0.6513676402380558, 'recall': 0.5551165547192607, 'f1': 0.5994027254046923, 'auc': 0.7647836323361847, 'prauc': 0.6531078530847944}\n"
     ]
    },
    {
     "name": "stderr",
     "output_type": "stream",
     "text": [
      "Training Batches: 100%|██████████| 1/1 [00:01<00:00,  1.27s/it]\n",
      "Running inference: 100%|██████████| 1/1 [00:02<00:00,  2.01s/it]\n",
      "Running inference: 100%|██████████| 1/1 [00:02<00:00,  2.31s/it]\n"
     ]
    },
    {
     "name": "stdout",
     "output_type": "stream",
     "text": [
      "Epoch: 008, Average Loss: 0.5766\n",
      "Validation: {'precision': 0.6518650088781001, 'recall': 0.5802371541479042, 'f1': 0.6139690456207713, 'auc': 0.769332454984629, 'prauc': 0.6701434008801105}\n",
      "Test:       {'precision': 0.6499544211456246, 'recall': 0.5634136704837479, 'f1': 0.6035978786207634, 'auc': 0.7650151636798845, 'prauc': 0.6534510189373061}\n"
     ]
    },
    {
     "name": "stderr",
     "output_type": "stream",
     "text": [
      "Training Batches: 100%|██████████| 1/1 [00:01<00:00,  1.00s/it]\n",
      "Running inference: 100%|██████████| 1/1 [00:02<00:00,  2.30s/it]\n",
      "Running inference: 100%|██████████| 1/1 [00:02<00:00,  2.02s/it]\n"
     ]
    },
    {
     "name": "stdout",
     "output_type": "stream",
     "text": [
      "Epoch: 009, Average Loss: 0.5764\n",
      "Validation: {'precision': 0.6499567847854367, 'recall': 0.5944664031597057, 'f1': 0.6209743963286003, 'auc': 0.769491289708681, 'prauc': 0.6704841223706951}\n",
      "Test:       {'precision': 0.6495802032671252, 'recall': 0.580798103514102, 'f1': 0.6132665782421038, 'auc': 0.7651148551494465, 'prauc': 0.6533662375268596}\n"
     ]
    },
    {
     "name": "stderr",
     "output_type": "stream",
     "text": [
      "Training Batches: 100%|██████████| 1/1 [00:01<00:00,  1.28s/it]\n",
      "Running inference: 100%|██████████| 1/1 [00:02<00:00,  2.03s/it]\n",
      "Running inference: 100%|██████████| 1/1 [00:02<00:00,  2.32s/it]\n"
     ]
    },
    {
     "name": "stdout",
     "output_type": "stream",
     "text": [
      "Epoch: 010, Average Loss: 0.5776\n",
      "Validation: {'precision': 0.6498257839692952, 'recall': 0.5897233201557719, 'f1': 0.618317442170403, 'auc': 0.7695575318401405, 'prauc': 0.6706331071216414}\n",
      "Test:       {'precision': 0.6497326203179602, 'recall': 0.5760568945058235, 'f1': 0.6106806232877563, 'auc': 0.7653480619800297, 'prauc': 0.6528803325600117}\n"
     ]
    },
    {
     "name": "stderr",
     "output_type": "stream",
     "text": [
      "Training Batches: 100%|██████████| 1/1 [00:00<00:00,  1.02it/s]\n",
      "Running inference: 100%|██████████| 1/1 [00:02<00:00,  2.33s/it]\n",
      "Running inference: 100%|██████████| 1/1 [00:02<00:00,  2.33s/it]\n"
     ]
    },
    {
     "name": "stdout",
     "output_type": "stream",
     "text": [
      "Epoch: 011, Average Loss: 0.5730\n",
      "Validation: {'precision': 0.6513882767710384, 'recall': 0.5841897233178491, 'f1': 0.615961653691114, 'auc': 0.7694486270573228, 'prauc': 0.6705395409468522}\n",
      "Test:       {'precision': 0.6517615176122323, 'recall': 0.5701303832454756, 'f1': 0.6082191731019443, 'auc': 0.7654472298599408, 'prauc': 0.6522346727661682}\n"
     ]
    },
    {
     "name": "stderr",
     "output_type": "stream",
     "text": [
      "Training Batches: 100%|██████████| 1/1 [00:01<00:00,  1.01s/it]\n",
      "Running inference: 100%|██████████| 1/1 [00:02<00:00,  2.03s/it]\n",
      "Running inference: 100%|██████████| 1/1 [00:02<00:00,  2.28s/it]\n"
     ]
    },
    {
     "name": "stdout",
     "output_type": "stream",
     "text": [
      "Epoch: 012, Average Loss: 0.5714\n",
      "Validation: {'precision': 0.6533864541803746, 'recall': 0.5833992094838601, 'f1': 0.6164126072498118, 'auc': 0.7693783591609679, 'prauc': 0.670262319586413}\n",
      "Test:       {'precision': 0.6517979062328093, 'recall': 0.5657842749878871, 'f1': 0.6057529561053001, 'auc': 0.7654954001078385, 'prauc': 0.6515571913869467}\n"
     ]
    },
    {
     "name": "stderr",
     "output_type": "stream",
     "text": [
      "Training Batches: 100%|██████████| 1/1 [00:01<00:00,  1.29s/it]\n",
      "Running inference: 100%|██████████| 1/1 [00:02<00:00,  2.02s/it]\n",
      "Running inference: 100%|██████████| 1/1 [00:02<00:00,  2.33s/it]\n"
     ]
    },
    {
     "name": "stdout",
     "output_type": "stream",
     "text": [
      "Epoch: 013, Average Loss: 0.5701\n",
      "Validation: {'precision': 0.6520210896280667, 'recall': 0.586561264819816, 'f1': 0.6175613766177215, 'auc': 0.7693600602296256, 'prauc': 0.6701958587999837}\n",
      "Test:       {'precision': 0.6497966561199738, 'recall': 0.5681548794920263, 'f1': 0.6062394553909057, 'auc': 0.7656095426517701, 'prauc': 0.6512960270844691}\n"
     ]
    },
    {
     "name": "stderr",
     "output_type": "stream",
     "text": [
      "Training Batches: 100%|██████████| 1/1 [00:00<00:00,  1.01it/s]\n",
      "Running inference: 100%|██████████| 1/1 [00:02<00:00,  2.32s/it]\n",
      "Running inference: 100%|██████████| 1/1 [00:02<00:00,  2.03s/it]\n"
     ]
    },
    {
     "name": "stdout",
     "output_type": "stream",
     "text": [
      "Epoch: 014, Average Loss: 0.5687\n",
      "Validation: {'precision': 0.6508282475996041, 'recall': 0.5901185770727664, 'f1': 0.6189883863858517, 'auc': 0.7696456804065499, 'prauc': 0.6703310757826232}\n",
      "Test:       {'precision': 0.6497302158244167, 'recall': 0.5709205847468554, 'f1': 0.6077812778784333, 'auc': 0.7660158482209942, 'prauc': 0.6514312983694661}\n"
     ]
    },
    {
     "name": "stderr",
     "output_type": "stream",
     "text": [
      "Training Batches: 100%|██████████| 1/1 [00:01<00:00,  1.32s/it]\n",
      "Running inference: 100%|██████████| 1/1 [00:02<00:00,  2.04s/it]\n",
      "Running inference: 100%|██████████| 1/1 [00:02<00:00,  2.30s/it]\n"
     ]
    },
    {
     "name": "stdout",
     "output_type": "stream",
     "text": [
      "Epoch: 015, Average Loss: 0.5678\n",
      "Validation: {'precision': 0.648788927332834, 'recall': 0.5928853754917277, 'f1': 0.6195786815007608, 'auc': 0.7702503816634252, 'prauc': 0.6709591873856752}\n",
      "Test:       {'precision': 0.6505159264214871, 'recall': 0.5728960885003047, 'f1': 0.6092436924965584, 'auc': 0.7666228980624357, 'prauc': 0.6517740799871212}\n"
     ]
    },
    {
     "name": "stderr",
     "output_type": "stream",
     "text": [
      "Training Batches: 100%|██████████| 1/1 [00:00<00:00,  1.02it/s]\n",
      "Running inference: 100%|██████████| 1/1 [00:02<00:00,  2.31s/it]\n",
      "Running inference: 100%|██████████| 1/1 [00:02<00:00,  2.35s/it]\n"
     ]
    },
    {
     "name": "stdout",
     "output_type": "stream",
     "text": [
      "Epoch: 016, Average Loss: 0.5656\n",
      "Validation: {'precision': 0.648544520545169, 'recall': 0.5988142292466451, 'f1': 0.6226880344628482, 'auc': 0.770817387121735, 'prauc': 0.6714738685124337}\n",
      "Test:       {'precision': 0.6499778466962783, 'recall': 0.5796128012620324, 'f1': 0.6127819499010329, 'auc': 0.7673334092189268, 'prauc': 0.6524966594098622}\n"
     ]
    },
    {
     "name": "stderr",
     "output_type": "stream",
     "text": [
      "Training Batches: 100%|██████████| 1/1 [00:01<00:00,  1.00s/it]\n",
      "Running inference: 100%|██████████| 1/1 [00:02<00:00,  2.02s/it]\n",
      "Running inference: 100%|██████████| 1/1 [00:02<00:00,  2.31s/it]\n"
     ]
    },
    {
     "name": "stdout",
     "output_type": "stream",
     "text": [
      "Epoch: 017, Average Loss: 0.5631\n",
      "Validation: {'precision': 0.6459915611787089, 'recall': 0.6051383399185568, 'f1': 0.624897954186454, 'auc': 0.7714061944496727, 'prauc': 0.6720942348998369}\n",
      "Test:       {'precision': 0.6485191637602417, 'recall': 0.5883050177772094, 'f1': 0.6169463384938607, 'auc': 0.7679715602856411, 'prauc': 0.6529988763016303}\n"
     ]
    },
    {
     "name": "stderr",
     "output_type": "stream",
     "text": [
      "Training Batches: 100%|██████████| 1/1 [00:01<00:00,  1.29s/it]\n",
      "Running inference: 100%|██████████| 1/1 [00:01<00:00,  1.98s/it]\n",
      "Running inference: 100%|██████████| 1/1 [00:02<00:00,  2.30s/it]\n"
     ]
    },
    {
     "name": "stdout",
     "output_type": "stream",
     "text": [
      "Epoch: 018, Average Loss: 0.5623\n",
      "Validation: {'precision': 0.6435108153051435, 'recall': 0.6114624505904686, 'f1': 0.627077416970723, 'auc': 0.7718882405838927, 'prauc': 0.6726610472916801}\n",
      "Test:       {'precision': 0.6489270386238244, 'recall': 0.5973923350430763, 'f1': 0.6220942143024306, 'auc': 0.7684966159877262, 'prauc': 0.653603611992472}\n"
     ]
    },
    {
     "name": "stderr",
     "output_type": "stream",
     "text": [
      "Training Batches: 100%|██████████| 1/1 [00:00<00:00,  1.02it/s]\n",
      "Running inference: 100%|██████████| 1/1 [00:02<00:00,  2.35s/it]\n",
      "Running inference: 100%|██████████| 1/1 [00:02<00:00,  2.02s/it]\n"
     ]
    },
    {
     "name": "stdout",
     "output_type": "stream",
     "text": [
      "Epoch: 019, Average Loss: 0.5617\n",
      "Validation: {'precision': 0.6430036930626056, 'recall': 0.6193675889303583, 'f1': 0.6309643598069433, 'auc': 0.7721907480603133, 'prauc': 0.6728102026974367}\n",
      "Test:       {'precision': 0.6499999999972458, 'recall': 0.6060845515582534, 'f1': 0.6272745809777853, 'auc': 0.7687932818840181, 'prauc': 0.6537475854436524}\n"
     ]
    },
    {
     "name": "stderr",
     "output_type": "stream",
     "text": [
      "Training Batches: 100%|██████████| 1/1 [00:01<00:00,  1.31s/it]\n",
      "Running inference: 100%|██████████| 1/1 [00:02<00:00,  2.03s/it]\n",
      "Running inference: 100%|██████████| 1/1 [00:02<00:00,  2.31s/it]\n"
     ]
    },
    {
     "name": "stdout",
     "output_type": "stream",
     "text": [
      "Epoch: 020, Average Loss: 0.5613\n",
      "Validation: {'precision': 0.6424192889225893, 'recall': 0.6213438735153307, 'f1': 0.6317058418945726, 'auc': 0.7724838446577577, 'prauc': 0.6729994742393537}\n",
      "Test:       {'precision': 0.6503171247329796, 'recall': 0.6076649545610128, 'f1': 0.6282679688593906, 'auc': 0.7689038640183222, 'prauc': 0.6537541195193888}\n"
     ]
    },
    {
     "name": "stderr",
     "output_type": "stream",
     "text": [
      "Training Batches: 100%|██████████| 1/1 [00:01<00:00,  1.00s/it]\n",
      "Running inference: 100%|██████████| 1/1 [00:02<00:00,  2.31s/it]\n",
      "Running inference: 100%|██████████| 1/1 [00:02<00:00,  2.36s/it]\n"
     ]
    },
    {
     "name": "stdout",
     "output_type": "stream",
     "text": [
      "Epoch: 021, Average Loss: 0.5577\n",
      "Validation: {'precision': 0.642624286875947, 'recall': 0.6233201581003031, 'f1': 0.6328250351270341, 'auc': 0.7725494071146245, 'prauc': 0.6729884872231057}\n",
      "Test:       {'precision': 0.6500633178528913, 'recall': 0.6084551560623925, 'f1': 0.6285714235743283, 'auc': 0.7688206132638035, 'prauc': 0.6536709273389032}\n"
     ]
    },
    {
     "name": "stderr",
     "output_type": "stream",
     "text": [
      "Training Batches: 100%|██████████| 1/1 [00:01<00:00,  1.02s/it]\n",
      "Running inference: 100%|██████████| 1/1 [00:02<00:00,  2.06s/it]\n",
      "Running inference: 100%|██████████| 1/1 [00:02<00:00,  2.35s/it]\n"
     ]
    },
    {
     "name": "stdout",
     "output_type": "stream",
     "text": [
      "Epoch: 022, Average Loss: 0.5573\n",
      "Validation: {'precision': 0.6401120896691749, 'recall': 0.6320158102741817, 'f1': 0.6360381811551906, 'auc': 0.772425288077462, 'prauc': 0.6727141392502922}\n",
      "Test:       {'precision': 0.6479933110340803, 'recall': 0.6124061635692912, 'f1': 0.6296973340223502, 'auc': 0.768722806716985, 'prauc': 0.6531839088727494}\n"
     ]
    },
    {
     "name": "stderr",
     "output_type": "stream",
     "text": [
      "Training Batches: 100%|██████████| 1/1 [00:01<00:00,  1.27s/it]\n",
      "Running inference: 100%|██████████| 1/1 [00:02<00:00,  2.02s/it]\n",
      "Running inference: 100%|██████████| 1/1 [00:02<00:00,  2.35s/it]\n"
     ]
    },
    {
     "name": "stdout",
     "output_type": "stream",
     "text": [
      "Epoch: 023, Average Loss: 0.5560\n",
      "Validation: {'precision': 0.6407920792053831, 'recall': 0.639525691697077, 'f1': 0.6401582541468293, 'auc': 0.7725294874207919, 'prauc': 0.6721438475017218}\n",
      "Test:       {'precision': 0.6464521452118546, 'recall': 0.6191228763310189, 'f1': 0.6324924268867617, 'auc': 0.7688434417725898, 'prauc': 0.6526634533466931}\n"
     ]
    },
    {
     "name": "stderr",
     "output_type": "stream",
     "text": [
      "Training Batches: 100%|██████████| 1/1 [00:01<00:00,  1.01s/it]\n",
      "Running inference: 100%|██████████| 1/1 [00:02<00:00,  2.34s/it]\n",
      "Running inference: 100%|██████████| 1/1 [00:02<00:00,  2.05s/it]\n"
     ]
    },
    {
     "name": "stdout",
     "output_type": "stream",
     "text": [
      "Epoch: 024, Average Loss: 0.5537\n",
      "Validation: {'precision': 0.6407613005525743, 'recall': 0.638735177863088, 'f1': 0.6397466299935212, 'auc': 0.7730309304222347, 'prauc': 0.6719796433018912}\n",
      "Test:       {'precision': 0.6478170478143542, 'recall': 0.6155669695748102, 'f1': 0.6312803839796307, 'auc': 0.7691584333066686, 'prauc': 0.6524506842201347}\n"
     ]
    },
    {
     "name": "stderr",
     "output_type": "stream",
     "text": [
      "Training Batches: 100%|██████████| 1/1 [00:01<00:00,  1.28s/it]\n",
      "Running inference: 100%|██████████| 1/1 [00:02<00:00,  2.03s/it]\n",
      "Running inference: 100%|██████████| 1/1 [00:02<00:00,  2.32s/it]\n"
     ]
    },
    {
     "name": "stdout",
     "output_type": "stream",
     "text": [
      "Epoch: 025, Average Loss: 0.5532\n",
      "Validation: {'precision': 0.6425978216997071, 'recall': 0.6296442687722149, 'f1': 0.6360550958165054, 'auc': 0.7739504778635213, 'prauc': 0.671520225826215}\n",
      "Test:       {'precision': 0.652854122618804, 'recall': 0.6100355590651519, 'f1': 0.6307189492515375, 'auc': 0.7695216998065756, 'prauc': 0.651929432316829}\n"
     ]
    },
    {
     "name": "stderr",
     "output_type": "stream",
     "text": [
      "Training Batches: 100%|██████████| 1/1 [00:00<00:00,  1.00it/s]\n",
      "Running inference: 100%|██████████| 1/1 [00:02<00:00,  2.31s/it]\n",
      "Running inference: 100%|██████████| 1/1 [00:02<00:00,  2.34s/it]\n"
     ]
    },
    {
     "name": "stdout",
     "output_type": "stream",
     "text": [
      "Epoch: 026, Average Loss: 0.5564\n",
      "Validation: {'precision': 0.6374089689511789, 'recall': 0.6573122529618288, 'f1': 0.6472076229418424, 'auc': 0.7736838362925319, 'prauc': 0.6699700177047896}\n",
      "Test:       {'precision': 0.6457917830050028, 'recall': 0.6396681153668919, 'f1': 0.6427153582369428, 'auc': 0.7698837096913198, 'prauc': 0.6516123529049629}\n"
     ]
    },
    {
     "name": "stderr",
     "output_type": "stream",
     "text": [
      "Training Batches: 100%|██████████| 1/1 [00:01<00:00,  1.03s/it]\n",
      "Running inference: 100%|██████████| 1/1 [00:02<00:00,  2.04s/it]\n",
      "Running inference: 100%|██████████| 1/1 [00:02<00:00,  2.31s/it]\n"
     ]
    },
    {
     "name": "stdout",
     "output_type": "stream",
     "text": [
      "Epoch: 027, Average Loss: 0.5514\n",
      "Validation: {'precision': 0.6353073463244554, 'recall': 0.6699604743056523, 'f1': 0.6521739080444933, 'auc': 0.773618482966309, 'prauc': 0.6691601628859455}\n",
      "Test:       {'precision': 0.6440078585436385, 'recall': 0.6475701303806892, 'f1': 0.6457840769517884, 'auc': 0.7700961823717207, 'prauc': 0.6514385463975725}\n"
     ]
    },
    {
     "name": "stderr",
     "output_type": "stream",
     "text": [
      "Training Batches: 100%|██████████| 1/1 [00:01<00:00,  1.31s/it]\n",
      "Running inference: 100%|██████████| 1/1 [00:02<00:00,  2.03s/it]\n",
      "Running inference: 100%|██████████| 1/1 [00:02<00:00,  2.36s/it]\n"
     ]
    },
    {
     "name": "stdout",
     "output_type": "stream",
     "text": [
      "Epoch: 028, Average Loss: 0.5522\n",
      "Validation: {'precision': 0.6375813241460483, 'recall': 0.6584980237128123, 'f1': 0.6478708874739919, 'auc': 0.7736491206056423, 'prauc': 0.6690023542093844}\n",
      "Test:       {'precision': 0.6465895492594871, 'recall': 0.6404583168682716, 'f1': 0.6435093240964076, 'auc': 0.7702325251168574, 'prauc': 0.6513412353213018}\n"
     ]
    },
    {
     "name": "stderr",
     "output_type": "stream",
     "text": [
      "Training Batches: 100%|██████████| 1/1 [00:01<00:00,  1.01s/it]\n",
      "Running inference: 100%|██████████| 1/1 [00:02<00:00,  2.35s/it]\n",
      "Running inference: 100%|██████████| 1/1 [00:02<00:00,  2.05s/it]\n"
     ]
    },
    {
     "name": "stdout",
     "output_type": "stream",
     "text": [
      "Epoch: 029, Average Loss: 0.5490\n",
      "Validation: {'precision': 0.6386847195333126, 'recall': 0.652569169957895, 'f1': 0.6455522921632545, 'auc': 0.7728876759311543, 'prauc': 0.6687469821886014}\n",
      "Test:       {'precision': 0.6454215409413254, 'recall': 0.6321612011037845, 'f1': 0.6387225498882084, 'auc': 0.7698279997524469, 'prauc': 0.6514723271536077}\n"
     ]
    },
    {
     "name": "stderr",
     "output_type": "stream",
     "text": [
      "Training Batches: 100%|██████████| 1/1 [00:01<00:00,  1.31s/it]\n",
      "Running inference: 100%|██████████| 1/1 [00:02<00:00,  2.03s/it]\n",
      "Running inference: 100%|██████████| 1/1 [00:02<00:00,  2.34s/it]\n"
     ]
    },
    {
     "name": "stdout",
     "output_type": "stream",
     "text": [
      "Epoch: 030, Average Loss: 0.5468\n",
      "Validation: {'precision': 0.6381172839481555, 'recall': 0.6537549407088785, 'f1': 0.6458414631747045, 'auc': 0.7719446012924274, 'prauc': 0.6672981323020601}\n",
      "Test:       {'precision': 0.6428284451561156, 'recall': 0.6321612011037845, 'f1': 0.6374501942009978, 'auc': 0.7692130960662396, 'prauc': 0.650773751262729}\n"
     ]
    },
    {
     "name": "stderr",
     "output_type": "stream",
     "text": [
      "Training Batches: 100%|██████████| 1/1 [00:00<00:00,  1.00it/s]\n",
      "Running inference: 100%|██████████| 1/1 [00:02<00:00,  2.31s/it]\n",
      "Running inference: 100%|██████████| 1/1 [00:02<00:00,  2.35s/it]\n"
     ]
    },
    {
     "name": "stdout",
     "output_type": "stream",
     "text": [
      "Epoch: 031, Average Loss: 0.5457\n",
      "Validation: {'precision': 0.6372586141588896, 'recall': 0.6652173913017185, 'f1': 0.6509379180320819, 'auc': 0.7716168935734152, 'prauc': 0.6642311154282761}\n",
      "Test:       {'precision': 0.6426319936932915, 'recall': 0.6444093243751703, 'f1': 0.6435194268380704, 'auc': 0.7688379964402187, 'prauc': 0.6486907941852256}\n"
     ]
    },
    {
     "name": "stderr",
     "output_type": "stream",
     "text": [
      "Training Batches: 100%|██████████| 1/1 [00:01<00:00,  1.02s/it]\n",
      "Running inference: 100%|██████████| 1/1 [00:02<00:00,  2.02s/it]\n",
      "Running inference: 100%|██████████| 1/1 [00:02<00:00,  2.31s/it]\n"
     ]
    },
    {
     "name": "stdout",
     "output_type": "stream",
     "text": [
      "Epoch: 032, Average Loss: 0.5445\n",
      "Validation: {'precision': 0.6350500185230269, 'recall': 0.6774703557285475, 'f1': 0.6555746746737807, 'auc': 0.7720513624861451, 'prauc': 0.6613222269678722}\n",
      "Test:       {'precision': 0.6424407306620971, 'recall': 0.6531015408903473, 'f1': 0.6477272677250734, 'auc': 0.7686209161708883, 'prauc': 0.6470791195413368}\n"
     ]
    },
    {
     "name": "stderr",
     "output_type": "stream",
     "text": [
      "Training Batches: 100%|██████████| 1/1 [00:01<00:00,  1.30s/it]\n",
      "Running inference: 100%|██████████| 1/1 [00:02<00:00,  2.03s/it]\n",
      "Running inference: 100%|██████████| 1/1 [00:02<00:00,  2.33s/it]\n"
     ]
    },
    {
     "name": "stdout",
     "output_type": "stream",
     "text": [
      "Epoch: 033, Average Loss: 0.5449\n",
      "Validation: {'precision': 0.6315221302604119, 'recall': 0.6936758893253214, 'f1': 0.6611414529101846, 'auc': 0.7716863249471945, 'prauc': 0.6587340654570463}\n",
      "Test:       {'precision': 0.636261261258873, 'recall': 0.6696957724193217, 'f1': 0.6525505243559142, 'auc': 0.7683736771376569, 'prauc': 0.6465366213805392}\n"
     ]
    },
    {
     "name": "stderr",
     "output_type": "stream",
     "text": [
      "Training Batches: 100%|██████████| 1/1 [00:00<00:00,  1.00it/s]\n",
      "Running inference: 100%|██████████| 1/1 [00:02<00:00,  2.31s/it]\n",
      "Running inference: 100%|██████████| 1/1 [00:02<00:00,  2.02s/it]\n"
     ]
    },
    {
     "name": "stdout",
     "output_type": "stream",
     "text": [
      "Epoch: 034, Average Loss: 0.5415\n",
      "Validation: {'precision': 0.6280227595994736, 'recall': 0.6980237154122608, 'f1': 0.6611755846782498, 'auc': 0.7714975845410628, 'prauc': 0.6599568633622579}\n",
      "Test:       {'precision': 0.6336047372293353, 'recall': 0.6764124851810493, 'f1': 0.6543091866710975, 'auc': 0.768442790971597, 'prauc': 0.6476024727477652}\n"
     ]
    },
    {
     "name": "stderr",
     "output_type": "stream",
     "text": [
      "Training Batches: 100%|██████████| 1/1 [00:01<00:00,  1.29s/it]\n",
      "Running inference: 100%|██████████| 1/1 [00:02<00:00,  2.01s/it]\n",
      "Running inference: 100%|██████████| 1/1 [00:02<00:00,  2.30s/it]\n"
     ]
    },
    {
     "name": "stdout",
     "output_type": "stream",
     "text": [
      "Epoch: 035, Average Loss: 0.5402\n",
      "Validation: {'precision': 0.6298724954439714, 'recall': 0.6833992094834649, 'f1': 0.6555450187025034, 'auc': 0.7717014869188783, 'prauc': 0.6624664986798079}\n",
      "Test:       {'precision': 0.634036144575926, 'recall': 0.6653496641617331, 'f1': 0.649315591684418, 'auc': 0.7689300435008755, 'prauc': 0.6498140669137225}\n"
     ]
    },
    {
     "name": "stderr",
     "output_type": "stream",
     "text": [
      "Training Batches: 100%|██████████| 1/1 [00:01<00:00,  1.00s/it]\n",
      "Running inference: 100%|██████████| 1/1 [00:02<00:00,  2.31s/it]\n",
      "Running inference: 100%|██████████| 1/1 [00:02<00:00,  2.32s/it]\n"
     ]
    },
    {
     "name": "stdout",
     "output_type": "stream",
     "text": [
      "Epoch: 036, Average Loss: 0.5411\n",
      "Validation: {'precision': 0.6342557965570895, 'recall': 0.6703557312226468, 'f1': 0.6518062978452897, 'auc': 0.7723367212497647, 'prauc': 0.6639848020267956}\n",
      "Test:       {'precision': 0.6387921022042633, 'recall': 0.6519162386382777, 'f1': 0.6452874412240396, 'auc': 0.7694688172518184, 'prauc': 0.650421175784734}\n"
     ]
    },
    {
     "name": "stderr",
     "output_type": "stream",
     "text": [
      "Training Batches: 100%|██████████| 1/1 [00:00<00:00,  1.43it/s]\n",
      "Running inference: 100%|██████████| 1/1 [00:02<00:00,  2.28s/it]\n",
      "Running inference: 100%|██████████| 1/1 [00:02<00:00,  2.30s/it]\n"
     ]
    },
    {
     "name": "stdout",
     "output_type": "stream",
     "text": [
      "Epoch: 037, Average Loss: 0.5464\n",
      "Validation: {'precision': 0.6383635661881962, 'recall': 0.6537549407088785, 'f1': 0.6459675794543476, 'auc': 0.7738054457619674, 'prauc': 0.6635868229417993}\n",
      "Test:       {'precision': 0.6483780536618007, 'recall': 0.6396681153668919, 'f1': 0.6439936306380808, 'auc': 0.7700207854619678, 'prauc': 0.6496515914438185}\n"
     ]
    },
    {
     "name": "stderr",
     "output_type": "stream",
     "text": [
      "Training Batches: 100%|██████████| 1/1 [00:00<00:00,  1.00it/s]\n",
      "Running inference: 100%|██████████| 1/1 [00:02<00:00,  2.34s/it]\n",
      "Running inference: 100%|██████████| 1/1 [00:02<00:00,  2.04s/it]\n"
     ]
    },
    {
     "name": "stdout",
     "output_type": "stream",
     "text": [
      "Epoch: 038, Average Loss: 0.5383\n",
      "Validation: {'precision': 0.6339452978619935, 'recall': 0.668774703554669, 'f1': 0.6508943977708337, 'auc': 0.7728466863249474, 'prauc': 0.6560544532122408}\n",
      "Test:       {'precision': 0.6442979053504876, 'recall': 0.6562623468958663, 'f1': 0.6502250879710624, 'auc': 0.7693862995228109, 'prauc': 0.6465152946750442}\n"
     ]
    },
    {
     "name": "stderr",
     "output_type": "stream",
     "text": [
      "Training Batches: 100%|██████████| 1/1 [00:01<00:00,  1.57s/it]\n",
      "Running inference: 100%|██████████| 1/1 [00:02<00:00,  2.08s/it]\n",
      "Running inference: 100%|██████████| 1/1 [00:02<00:00,  2.08s/it]\n"
     ]
    },
    {
     "name": "stdout",
     "output_type": "stream",
     "text": [
      "Epoch: 039, Average Loss: 0.5331\n",
      "Validation: {'precision': 0.6310160427784991, 'recall': 0.6996047430802388, 'f1': 0.6635426379348841, 'auc': 0.7694408892234978, 'prauc': 0.6441320025137343}\n",
      "Test:       {'precision': 0.6344244207405869, 'recall': 0.6815487949400176, 'f1': 0.6571428521467655, 'auc': 0.7670327640412868, 'prauc': 0.6406928918927592}\n"
     ]
    },
    {
     "name": "stderr",
     "output_type": "stream",
     "text": [
      "Training Batches: 100%|██████████| 1/1 [00:01<00:00,  1.02s/it]\n",
      "Running inference: 100%|██████████| 1/1 [00:02<00:00,  2.03s/it]\n",
      "Running inference: 100%|██████████| 1/1 [00:02<00:00,  2.35s/it]\n"
     ]
    },
    {
     "name": "stdout",
     "output_type": "stream",
     "text": [
      "Epoch: 040, Average Loss: 0.5381\n",
      "Validation: {'precision': 0.6314639475577879, 'recall': 0.6853754940684372, 'f1': 0.6573161436033111, 'auc': 0.7713063868498651, 'prauc': 0.6500183342277556}\n",
      "Test:       {'precision': 0.6343479894752562, 'recall': 0.6669300671644925, 'f1': 0.650231119808026, 'auc': 0.7683442513992671, 'prauc': 0.6433013341392027}\n"
     ]
    },
    {
     "name": "stderr",
     "output_type": "stream",
     "text": [
      "Training Batches: 100%|██████████| 1/1 [00:01<00:00,  1.30s/it]\n",
      "Running inference: 100%|██████████| 1/1 [00:02<00:00,  2.05s/it]\n",
      "Running inference: 100%|██████████| 1/1 [00:02<00:00,  2.03s/it]\n"
     ]
    },
    {
     "name": "stdout",
     "output_type": "stream",
     "text": [
      "Epoch: 041, Average Loss: 0.5301\n",
      "Validation: {'precision': 0.6317757009322177, 'recall': 0.66798418972068, 'f1': 0.6493755953856312, 'auc': 0.7740349143610012, 'prauc': 0.6603562450115164}\n",
      "Test:       {'precision': 0.6409957215066473, 'recall': 0.651126037136898, 'f1': 0.6460211631671204, 'auc': 0.7703935812935241, 'prauc': 0.6475951974319704}\n"
     ]
    },
    {
     "name": "stderr",
     "output_type": "stream",
     "text": [
      "Training Batches: 100%|██████████| 1/1 [00:01<00:00,  1.29s/it]\n",
      "Running inference: 100%|██████████| 1/1 [00:02<00:00,  2.05s/it]\n",
      "Running inference: 100%|██████████| 1/1 [00:02<00:00,  2.01s/it]\n"
     ]
    },
    {
     "name": "stdout",
     "output_type": "stream",
     "text": [
      "Epoch: 042, Average Loss: 0.5264\n",
      "Validation: {'precision': 0.6336888561948008, 'recall': 0.6810276679814979, 'f1': 0.6565059961470561, 'auc': 0.774189618754836, 'prauc': 0.6643990046885124}\n",
      "Test:       {'precision': 0.6378648233462448, 'recall': 0.6562623468958663, 'f1': 0.6469328090199126, 'auc': 0.7704077182141027, 'prauc': 0.6495970255721124}\n"
     ]
    },
    {
     "name": "stderr",
     "output_type": "stream",
     "text": [
      "Training Batches: 100%|██████████| 1/1 [00:01<00:00,  1.00s/it]\n",
      "Running inference: 100%|██████████| 1/1 [00:02<00:00,  2.36s/it]\n",
      "Running inference: 100%|██████████| 1/1 [00:01<00:00,  1.72s/it]\n"
     ]
    },
    {
     "name": "stdout",
     "output_type": "stream",
     "text": [
      "Epoch: 043, Average Loss: 0.5233\n",
      "Validation: {'precision': 0.6287446504970444, 'recall': 0.6968379446612774, 'f1': 0.6610423647145022, 'auc': 0.7732390154129285, 'prauc': 0.663928003064747}\n",
      "Test:       {'precision': 0.6306039273781749, 'recall': 0.6724614776741508, 'f1': 0.6508604156527661, 'auc': 0.7694564605360532, 'prauc': 0.6493773541193254}\n"
     ]
    },
    {
     "name": "stderr",
     "output_type": "stream",
     "text": [
      "Training Batches: 100%|██████████| 1/1 [00:01<00:00,  1.27s/it]\n",
      "Running inference: 100%|██████████| 1/1 [00:02<00:00,  2.34s/it]\n",
      "Running inference: 100%|██████████| 1/1 [00:01<00:00,  1.74s/it]\n"
     ]
    },
    {
     "name": "stdout",
     "output_type": "stream",
     "text": [
      "Epoch: 044, Average Loss: 0.5209\n",
      "Validation: {'precision': 0.6244725738374667, 'recall': 0.7019762845822056, 'f1': 0.6609601736524964, 'auc': 0.7724288955810695, 'prauc': 0.661332983481228}\n",
      "Test:       {'precision': 0.6283734500341781, 'recall': 0.6807585934386379, 'f1': 0.653517916492347, 'auc': 0.7685716987436886, 'prauc': 0.6479742654327274}\n"
     ]
    },
    {
     "name": "stderr",
     "output_type": "stream",
     "text": [
      "Training Batches: 100%|██████████| 1/1 [00:01<00:00,  1.31s/it]\n",
      "Running inference: 100%|██████████| 1/1 [00:02<00:00,  2.01s/it]\n",
      "Running inference: 100%|██████████| 1/1 [00:02<00:00,  2.36s/it]\n"
     ]
    },
    {
     "name": "stdout",
     "output_type": "stream",
     "text": [
      "Epoch: 045, Average Loss: 0.5209\n",
      "Validation: {'precision': 0.6220196353414376, 'recall': 0.7011857707482166, 'f1': 0.6592344803368898, 'auc': 0.7711461404939666, 'prauc': 0.6559149703629812}\n",
      "Test:       {'precision': 0.629521373764598, 'recall': 0.6807585934386379, 'f1': 0.6541381878677287, 'auc': 0.7674679717592497, 'prauc': 0.6446541728448418}\n"
     ]
    },
    {
     "name": "stderr",
     "output_type": "stream",
     "text": [
      "Training Batches: 100%|██████████| 1/1 [00:00<00:00,  1.42it/s]\n",
      "Running inference: 100%|██████████| 1/1 [00:02<00:00,  2.31s/it]\n",
      "Running inference: 100%|██████████| 1/1 [00:02<00:00,  2.33s/it]\n"
     ]
    },
    {
     "name": "stdout",
     "output_type": "stream",
     "text": [
      "Epoch: 046, Average Loss: 0.5192\n",
      "Validation: {'precision': 0.6277134587531559, 'recall': 0.6857707509854317, 'f1': 0.6554590052075191, 'auc': 0.769799548277809, 'prauc': 0.6450377764568804}\n",
      "Test:       {'precision': 0.6331450094138111, 'recall': 0.6641643619096635, 'f1': 0.6482838361110411, 'auc': 0.7669271036497026, 'prauc': 0.6376445790243225}\n"
     ]
    },
    {
     "name": "stderr",
     "output_type": "stream",
     "text": [
      "Training Batches: 100%|██████████| 1/1 [00:00<00:00,  1.01it/s]\n",
      "Running inference: 100%|██████████| 1/1 [00:02<00:00,  2.30s/it]\n",
      "Running inference: 100%|██████████| 1/1 [00:02<00:00,  2.37s/it]\n"
     ]
    },
    {
     "name": "stdout",
     "output_type": "stream",
     "text": [
      "Epoch: 047, Average Loss: 0.5152\n",
      "Validation: {'precision': 0.63564431047236, 'recall': 0.6667984189696965, 'f1': 0.6508487604324485, 'auc': 0.7673014827362654, 'prauc': 0.6327424504175245}\n",
      "Test:       {'precision': 0.6377708978303492, 'recall': 0.651126037136898, 'f1': 0.6443792716353585, 'auc': 0.7660339644229209, 'prauc': 0.6327263309111634}\n"
     ]
    },
    {
     "name": "stderr",
     "output_type": "stream",
     "text": [
      "Training Batches: 100%|██████████| 1/1 [00:00<00:00,  1.39it/s]\n",
      "Running inference: 100%|██████████| 1/1 [00:02<00:00,  2.32s/it]\n",
      "Running inference: 100%|██████████| 1/1 [00:02<00:00,  2.04s/it]\n"
     ]
    },
    {
     "name": "stdout",
     "output_type": "stream",
     "text": [
      "Epoch: 048, Average Loss: 0.5068\n",
      "Validation: {'precision': 0.6321361058577235, 'recall': 0.6608695652147792, 'f1': 0.646183569879199, 'auc': 0.7623230231925883, 'prauc': 0.6171242677006813}\n",
      "Test:       {'precision': 0.6355866355841664, 'recall': 0.6463848281286196, 'f1': 0.6409402496501456, 'auc': 0.7616265438171759, 'prauc': 0.6249065422778733}\n"
     ]
    },
    {
     "name": "stderr",
     "output_type": "stream",
     "text": [
      "Training Batches: 100%|██████████| 1/1 [00:01<00:00,  1.02s/it]\n",
      "Running inference: 100%|██████████| 1/1 [00:02<00:00,  2.04s/it]\n",
      "Running inference: 100%|██████████| 1/1 [00:02<00:00,  2.29s/it]\n"
     ]
    },
    {
     "name": "stdout",
     "output_type": "stream",
     "text": [
      "Epoch: 049, Average Loss: 0.5102\n",
      "Validation: {'precision': 0.6237058193480054, 'recall': 0.6905138339893656, 'f1': 0.655411737647866, 'auc': 0.7560804734717776, 'prauc': 0.6040897667077103}\n",
      "Test:       {'precision': 0.6250456370915479, 'recall': 0.6764124851810493, 'f1': 0.6497153650242987, 'auc': 0.7556926499427244, 'prauc': 0.6145828846495841}\n",
      "\n",
      "Early stopping triggered after 49 epochs (no improvement for 10 epochs).\n",
      "\n",
      "Best validation performance:\n",
      "{'precision': 0.6310160427784991, 'recall': 0.6996047430802388, 'f1': 0.6635426379348841, 'auc': 0.7694408892234978, 'prauc': 0.6441320025137343}\n",
      "Corresponding test performance:\n",
      "{'precision': 0.6344244207405869, 'recall': 0.6815487949400176, 'f1': 0.6571428521467655, 'auc': 0.7670327640412868, 'prauc': 0.6406928918927592}\n",
      "Corresponding test-long performance:\n",
      "{'precision': 0.7767741935383642, 'recall': 0.9261538461395976, 'f1': 0.8449122757283694, 'auc': 0.5382805429864254, 'prauc': 0.7702538171284106}\n",
      "[INFO] Random seed set to 1181241943\n",
      "Training with seed: 1181241943\n"
     ]
    },
    {
     "name": "stderr",
     "output_type": "stream",
     "text": [
      "Training Batches: 100%|██████████| 1/1 [00:01<00:00,  1.33s/it]\n",
      "Running inference: 100%|██████████| 1/1 [00:02<00:00,  2.02s/it]\n",
      "Running inference: 100%|██████████| 1/1 [00:02<00:00,  2.32s/it]\n"
     ]
    },
    {
     "name": "stdout",
     "output_type": "stream",
     "text": [
      "Epoch: 001, Average Loss: 0.6849\n",
      "Validation: {'precision': 0.7124702144502585, 'recall': 0.3545454545440532, 'f1': 0.4734758467081769, 'auc': 0.7663060208712383, 'prauc': 0.6623161287481417}\n",
      "Test:       {'precision': 0.6736842105208609, 'recall': 0.3287238245739679, 'f1': 0.441848110300355, 'auc': 0.7614501464637331, 'prauc': 0.646102302936141}\n"
     ]
    },
    {
     "name": "stderr",
     "output_type": "stream",
     "text": [
      "Training Batches: 100%|██████████| 1/1 [00:00<00:00,  1.03it/s]\n",
      "Running inference: 100%|██████████| 1/1 [00:02<00:00,  2.33s/it]\n",
      "Running inference: 100%|██████████| 1/1 [00:02<00:00,  2.34s/it]\n"
     ]
    },
    {
     "name": "stdout",
     "output_type": "stream",
     "text": [
      "Epoch: 002, Average Loss: 0.6600\n",
      "Validation: {'precision': 0.6861226920745318, 'recall': 0.4553359683776469, 'f1': 0.5473984271333696, 'auc': 0.7657382834556747, 'prauc': 0.6636419753525671}\n",
      "Test:       {'precision': 0.6698853349386248, 'recall': 0.4385618332657505, 'f1': 0.5300859551006162, 'auc': 0.7614074739071716, 'prauc': 0.6474152518830394}\n"
     ]
    },
    {
     "name": "stderr",
     "output_type": "stream",
     "text": [
      "Training Batches: 100%|██████████| 1/1 [00:01<00:00,  1.03s/it]\n",
      "Running inference: 100%|██████████| 1/1 [00:02<00:00,  2.03s/it]\n",
      "Running inference: 100%|██████████| 1/1 [00:02<00:00,  2.03s/it]\n"
     ]
    },
    {
     "name": "stdout",
     "output_type": "stream",
     "text": [
      "Epoch: 003, Average Loss: 0.6367\n",
      "Validation: {'precision': 0.6751592356652062, 'recall': 0.5027667984169851, 'f1': 0.5763479787927485, 'auc': 0.766126116234812, 'prauc': 0.6651747188946422}\n",
      "Test:       {'precision': 0.6592872570158786, 'recall': 0.4824180165923255, 'f1': 0.5571526302988364, 'auc': 0.761997297649093, 'prauc': 0.6489841543235597}\n"
     ]
    },
    {
     "name": "stderr",
     "output_type": "stream",
     "text": [
      "Training Batches: 100%|██████████| 1/1 [00:01<00:00,  1.31s/it]\n",
      "Running inference: 100%|██████████| 1/1 [00:02<00:00,  2.06s/it]\n",
      "Running inference: 100%|██████████| 1/1 [00:02<00:00,  2.03s/it]\n"
     ]
    },
    {
     "name": "stdout",
     "output_type": "stream",
     "text": [
      "Epoch: 004, Average Loss: 0.6158\n",
      "Validation: {'precision': 0.6691542288523923, 'recall': 0.5316205533575825, 'f1': 0.5925110082788431, 'auc': 0.7667120480163958, 'prauc': 0.6661496704550225}\n",
      "Test:       {'precision': 0.658950617280561, 'recall': 0.5061240616337175, 'f1': 0.5725139615639204, 'auc': 0.7625600518060545, 'prauc': 0.6503066970435735}\n"
     ]
    },
    {
     "name": "stderr",
     "output_type": "stream",
     "text": [
      "Training Batches: 100%|██████████| 1/1 [00:01<00:00,  1.02s/it]\n",
      "Running inference: 100%|██████████| 1/1 [00:02<00:00,  2.34s/it]\n",
      "Running inference: 100%|██████████| 1/1 [00:01<00:00,  1.74s/it]\n"
     ]
    },
    {
     "name": "stdout",
     "output_type": "stream",
     "text": [
      "Epoch: 005, Average Loss: 0.5999\n",
      "Validation: {'precision': 0.6686217008764975, 'recall': 0.5407114624484557, 'f1': 0.5979020929554205, 'auc': 0.7673389171215258, 'prauc': 0.667000286935381}\n",
      "Test:       {'precision': 0.6584258324891099, 'recall': 0.5156064796502742, 'f1': 0.5783292660663326, 'auc': 0.7631691960061, 'prauc': 0.6512002803699948}\n"
     ]
    },
    {
     "name": "stderr",
     "output_type": "stream",
     "text": [
      "Training Batches: 100%|██████████| 1/1 [00:01<00:00,  1.27s/it]\n",
      "Running inference: 100%|██████████| 1/1 [00:02<00:00,  2.37s/it]\n",
      "Running inference: 100%|██████████| 1/1 [00:01<00:00,  1.76s/it]\n"
     ]
    },
    {
     "name": "stdout",
     "output_type": "stream",
     "text": [
      "Epoch: 006, Average Loss: 0.5878\n",
      "Validation: {'precision': 0.6652340019070428, 'recall': 0.5505928853733179, 'f1': 0.602508645560879, 'auc': 0.76780355312964, 'prauc': 0.667547211473517}\n",
      "Test:       {'precision': 0.6579852579820247, 'recall': 0.5290399051737296, 'f1': 0.5865089744694854, 'auc': 0.7635863922400662, 'prauc': 0.6518458630764044}\n"
     ]
    },
    {
     "name": "stderr",
     "output_type": "stream",
     "text": [
      "Training Batches: 100%|██████████| 1/1 [00:01<00:00,  1.29s/it]\n",
      "Running inference: 100%|██████████| 1/1 [00:02<00:00,  2.03s/it]\n",
      "Running inference: 100%|██████████| 1/1 [00:02<00:00,  2.00s/it]\n"
     ]
    },
    {
     "name": "stdout",
     "output_type": "stream",
     "text": [
      "Epoch: 007, Average Loss: 0.5798\n",
      "Validation: {'precision': 0.6609061186330645, 'recall': 0.5592885375471965, 'f1': 0.6058659766206086, 'auc': 0.7683401300792605, 'prauc': 0.6680451885495833}\n",
      "Test:       {'precision': 0.6586422725052545, 'recall': 0.5404978269437357, 'f1': 0.5937499950459583, 'auc': 0.7641293023492525, 'prauc': 0.6524478245680294}\n"
     ]
    },
    {
     "name": "stderr",
     "output_type": "stream",
     "text": [
      "Training Batches: 100%|██████████| 1/1 [00:01<00:00,  1.33s/it]\n",
      "Running inference: 100%|██████████| 1/1 [00:02<00:00,  2.03s/it]\n",
      "Running inference: 100%|██████████| 1/1 [00:02<00:00,  2.09s/it]\n"
     ]
    },
    {
     "name": "stdout",
     "output_type": "stream",
     "text": [
      "Epoch: 008, Average Loss: 0.5780\n",
      "Validation: {'precision': 0.6635249764341964, 'recall': 0.5565217391282351, 'f1': 0.6053310354485835, 'auc': 0.7687843235669323, 'prauc': 0.6685542652257003}\n",
      "Test:       {'precision': 0.6596884128497581, 'recall': 0.5353615171847674, 'f1': 0.5910577922162056, 'auc': 0.764698549017887, 'prauc': 0.6527110225026072}\n"
     ]
    },
    {
     "name": "stderr",
     "output_type": "stream",
     "text": [
      "Training Batches: 100%|██████████| 1/1 [00:01<00:00,  1.02s/it]\n",
      "Running inference: 100%|██████████| 1/1 [00:02<00:00,  2.34s/it]\n",
      "Running inference: 100%|██████████| 1/1 [00:02<00:00,  2.07s/it]\n"
     ]
    },
    {
     "name": "stdout",
     "output_type": "stream",
     "text": [
      "Epoch: 009, Average Loss: 0.5775\n",
      "Validation: {'precision': 0.663241475942722, 'recall': 0.5612648221321689, 'f1': 0.6080068458134916, 'auc': 0.7691486291486291, 'prauc': 0.6687341441706169}\n",
      "Test:       {'precision': 0.6595538312286152, 'recall': 0.5373370209382168, 'f1': 0.5922055252041387, 'auc': 0.7651640725766464, 'prauc': 0.6530440533798888}\n"
     ]
    },
    {
     "name": "stderr",
     "output_type": "stream",
     "text": [
      "Training Batches: 100%|██████████| 1/1 [00:01<00:00,  1.29s/it]\n",
      "Running inference: 100%|██████████| 1/1 [00:02<00:00,  2.08s/it]\n",
      "Running inference: 100%|██████████| 1/1 [00:02<00:00,  2.04s/it]\n"
     ]
    },
    {
     "name": "stdout",
     "output_type": "stream",
     "text": [
      "Epoch: 010, Average Loss: 0.5753\n",
      "Validation: {'precision': 0.660977859775549, 'recall': 0.5664031620530973, 'f1': 0.6100468234647227, 'auc': 0.7693148880105403, 'prauc': 0.6686053451234011}\n",
      "Test:       {'precision': 0.6569656488518275, 'recall': 0.5440537336999445, 'f1': 0.595202069820094, 'auc': 0.7655505864570605, 'prauc': 0.6532202807035408}\n"
     ]
    },
    {
     "name": "stderr",
     "output_type": "stream",
     "text": [
      "Training Batches: 100%|██████████| 1/1 [00:00<00:00,  1.43it/s]\n",
      "Running inference: 100%|██████████| 1/1 [00:02<00:00,  2.29s/it]\n",
      "Running inference: 100%|██████████| 1/1 [00:02<00:00,  2.33s/it]\n"
     ]
    },
    {
     "name": "stdout",
     "output_type": "stream",
     "text": [
      "Epoch: 011, Average Loss: 0.5741\n",
      "Validation: {'precision': 0.6573905109459061, 'recall': 0.5695652173890531, 'f1': 0.6103345990043971, 'auc': 0.7690726101595666, 'prauc': 0.6681589807953375}\n",
      "Test:       {'precision': 0.6575212866572492, 'recall': 0.5491900434589128, 'f1': 0.5984929982669988, 'auc': 0.7655641997879881, 'prauc': 0.6527664319731192}\n"
     ]
    },
    {
     "name": "stderr",
     "output_type": "stream",
     "text": [
      "Training Batches: 100%|██████████| 1/1 [00:01<00:00,  1.31s/it]\n",
      "Running inference: 100%|██████████| 1/1 [00:02<00:00,  2.41s/it]\n",
      "Running inference: 100%|██████████| 1/1 [00:01<00:00,  1.73s/it]\n"
     ]
    },
    {
     "name": "stdout",
     "output_type": "stream",
     "text": [
      "Epoch: 012, Average Loss: 0.5703\n",
      "Validation: {'precision': 0.6574839302081842, 'recall': 0.5660079051361028, 'f1': 0.6083262482114322, 'auc': 0.7686755756320974, 'prauc': 0.6678467524175885}\n",
      "Test:       {'precision': 0.6582338902116552, 'recall': 0.5448439352013242, 'f1': 0.5961954122489281, 'auc': 0.7653894255624636, 'prauc': 0.6521291641479964}\n"
     ]
    },
    {
     "name": "stderr",
     "output_type": "stream",
     "text": [
      "Training Batches: 100%|██████████| 1/1 [00:01<00:00,  1.30s/it]\n",
      "Running inference: 100%|██████████| 1/1 [00:02<00:00,  2.38s/it]\n",
      "Running inference: 100%|██████████| 1/1 [00:01<00:00,  1.71s/it]\n"
     ]
    },
    {
     "name": "stdout",
     "output_type": "stream",
     "text": [
      "Epoch: 013, Average Loss: 0.5702\n",
      "Validation: {'precision': 0.6636876763844606, 'recall': 0.5577075098792186, 'f1': 0.6060996513924298, 'auc': 0.7681840663362403, 'prauc': 0.6674802754005779}\n",
      "Test:       {'precision': 0.6579203109783386, 'recall': 0.5349664164340776, 'f1': 0.5901067721261637, 'auc': 0.7650122315778385, 'prauc': 0.6510567670191836}\n"
     ]
    },
    {
     "name": "stderr",
     "output_type": "stream",
     "text": [
      "Training Batches: 100%|██████████| 1/1 [00:01<00:00,  1.31s/it]\n",
      "Running inference: 100%|██████████| 1/1 [00:02<00:00,  2.06s/it]\n",
      "Running inference: 100%|██████████| 1/1 [00:02<00:00,  2.34s/it]\n"
     ]
    },
    {
     "name": "stdout",
     "output_type": "stream",
     "text": [
      "Epoch: 014, Average Loss: 0.5693\n",
      "Validation: {'precision': 0.6646139270456437, 'recall': 0.5545454545432627, 'f1': 0.6046110702374595, 'auc': 0.7678717820022167, 'prauc': 0.6671789287904256}\n",
      "Test:       {'precision': 0.6581907090432363, 'recall': 0.5318056104285587, 'f1': 0.588286708340541, 'auc': 0.7647191260911739, 'prauc': 0.6504772879199539}\n"
     ]
    },
    {
     "name": "stderr",
     "output_type": "stream",
     "text": [
      "Training Batches: 100%|██████████| 1/1 [00:00<00:00,  1.41it/s]\n",
      "Running inference: 100%|██████████| 1/1 [00:02<00:00,  2.28s/it]\n",
      "Running inference: 100%|██████████| 1/1 [00:02<00:00,  2.34s/it]\n"
     ]
    },
    {
     "name": "stdout",
     "output_type": "stream",
     "text": [
      "Epoch: 015, Average Loss: 0.5682\n",
      "Validation: {'precision': 0.6620046620015758, 'recall': 0.5612648221321689, 'f1': 0.607486626047354, 'auc': 0.7677640797206015, 'prauc': 0.6672007273754622}\n",
      "Test:       {'precision': 0.6579457364309208, 'recall': 0.536546819436837, 'f1': 0.5910772529380827, 'auc': 0.7646658246646958, 'prauc': 0.6505034291678593}\n"
     ]
    },
    {
     "name": "stderr",
     "output_type": "stream",
     "text": [
      "Training Batches: 100%|██████████| 1/1 [00:00<00:00,  1.00it/s]\n",
      "Running inference: 100%|██████████| 1/1 [00:02<00:00,  2.31s/it]\n",
      "Running inference: 100%|██████████| 1/1 [00:02<00:00,  2.35s/it]\n"
     ]
    },
    {
     "name": "stdout",
     "output_type": "stream",
     "text": [
      "Epoch: 016, Average Loss: 0.5658\n",
      "Validation: {'precision': 0.6555002263437959, 'recall': 0.5723320158080145, 'f1': 0.6110993830769138, 'auc': 0.7677388271953489, 'prauc': 0.6673101123140297}\n",
      "Test:       {'precision': 0.6559849198838078, 'recall': 0.5499802449602925, 'f1': 0.59832365718951, 'auc': 0.7647573481357014, 'prauc': 0.6508650720334114}\n"
     ]
    },
    {
     "name": "stderr",
     "output_type": "stream",
     "text": [
      "Training Batches: 100%|██████████| 1/1 [00:00<00:00,  1.42it/s]\n",
      "Running inference: 100%|██████████| 1/1 [00:02<00:00,  2.38s/it]\n",
      "Running inference: 100%|██████████| 1/1 [00:02<00:00,  2.06s/it]\n"
     ]
    },
    {
     "name": "stdout",
     "output_type": "stream",
     "text": [
      "Epoch: 017, Average Loss: 0.5652\n",
      "Validation: {'precision': 0.6537433155051081, 'recall': 0.5798418972309097, 'f1': 0.6145789644330493, 'auc': 0.768333960725265, 'prauc': 0.6679854163041373}\n",
      "Test:       {'precision': 0.6545623836096157, 'recall': 0.5555116554699506, 'f1': 0.6009831110813707, 'auc': 0.7653816764356278, 'prauc': 0.651603908365708}\n"
     ]
    },
    {
     "name": "stderr",
     "output_type": "stream",
     "text": [
      "Training Batches: 100%|██████████| 1/1 [00:00<00:00,  1.42it/s]\n",
      "Running inference: 100%|██████████| 1/1 [00:02<00:00,  2.31s/it]\n",
      "Running inference: 100%|██████████| 1/1 [00:02<00:00,  2.36s/it]\n"
     ]
    },
    {
     "name": "stdout",
     "output_type": "stream",
     "text": [
      "Epoch: 018, Average Loss: 0.5641\n",
      "Validation: {'precision': 0.6532329495099503, 'recall': 0.5830039525668657, 'f1': 0.6161236374529946, 'auc': 0.7693376832507267, 'prauc': 0.6689358036846511}\n",
      "Test:       {'precision': 0.6555090655478591, 'recall': 0.55709205847271, 'f1': 0.6023067015660319, 'auc': 0.7662936648898477, 'prauc': 0.6525657211031968}\n"
     ]
    },
    {
     "name": "stderr",
     "output_type": "stream",
     "text": [
      "Training Batches: 100%|██████████| 1/1 [00:00<00:00,  1.00it/s]\n",
      "Running inference: 100%|██████████| 1/1 [00:02<00:00,  2.34s/it]\n",
      "Running inference: 100%|██████████| 1/1 [00:02<00:00,  2.37s/it]\n"
     ]
    },
    {
     "name": "stdout",
     "output_type": "stream",
     "text": [
      "Epoch: 019, Average Loss: 0.5624\n",
      "Validation: {'precision': 0.6534740545265899, 'recall': 0.587351778653805, 'f1': 0.6186511190749037, 'auc': 0.7701049835832444, 'prauc': 0.6696267903033455}\n",
      "Test:       {'precision': 0.6542012927024276, 'recall': 0.5598577637275391, 'f1': 0.6033638442931132, 'auc': 0.7668255272573966, 'prauc': 0.6531704884862244}\n"
     ]
    },
    {
     "name": "stderr",
     "output_type": "stream",
     "text": [
      "Training Batches: 100%|██████████| 1/1 [00:00<00:00,  1.41it/s]\n",
      "Running inference: 100%|██████████| 1/1 [00:02<00:00,  2.37s/it]\n",
      "Running inference: 100%|██████████| 1/1 [00:02<00:00,  2.40s/it]\n"
     ]
    },
    {
     "name": "stdout",
     "output_type": "stream",
     "text": [
      "Epoch: 020, Average Loss: 0.5608\n",
      "Validation: {'precision': 0.6490179333874936, 'recall': 0.6007905138316174, 'f1': 0.6239737224268871, 'auc': 0.7701492147144321, 'prauc': 0.6695626402101623}\n",
      "Test:       {'precision': 0.6506726457369926, 'recall': 0.5732911892509945, 'f1': 0.6095358068216675, 'auc': 0.7667208093271841, 'prauc': 0.6533875218778976}\n"
     ]
    },
    {
     "name": "stderr",
     "output_type": "stream",
     "text": [
      "Training Batches: 100%|██████████| 1/1 [00:00<00:00,  1.39it/s]\n",
      "Running inference: 100%|██████████| 1/1 [00:02<00:00,  2.37s/it]\n",
      "Running inference: 100%|██████████| 1/1 [00:02<00:00,  2.09s/it]\n"
     ]
    },
    {
     "name": "stdout",
     "output_type": "stream",
     "text": [
      "Epoch: 021, Average Loss: 0.5587\n",
      "Validation: {'precision': 0.6458333333306424, 'recall': 0.612648221341452, 'f1': 0.6288032404370313, 'auc': 0.769898885333668, 'prauc': 0.6695992515101491}\n",
      "Test:       {'precision': 0.6473388143632742, 'recall': 0.5910707230320384, 'f1': 0.617926471670306, 'auc': 0.7664365001466574, 'prauc': 0.6534700664969286}\n"
     ]
    },
    {
     "name": "stderr",
     "output_type": "stream",
     "text": [
      "Training Batches: 100%|██████████| 1/1 [00:00<00:00,  1.42it/s]\n",
      "Running inference: 100%|██████████| 1/1 [00:02<00:00,  2.31s/it]\n",
      "Running inference: 100%|██████████| 1/1 [00:02<00:00,  2.33s/it]\n"
     ]
    },
    {
     "name": "stdout",
     "output_type": "stream",
     "text": [
      "Epoch: 022, Average Loss: 0.5595\n",
      "Validation: {'precision': 0.6461092715205046, 'recall': 0.6169960474283913, 'f1': 0.6312171401679163, 'auc': 0.7700143254491081, 'prauc': 0.6698523474047448}\n",
      "Test:       {'precision': 0.64503652771532, 'recall': 0.5930462267854878, 'f1': 0.617949768575643, 'auc': 0.7664995403406454, 'prauc': 0.6534858069052968}\n"
     ]
    },
    {
     "name": "stderr",
     "output_type": "stream",
     "text": [
      "Training Batches: 100%|██████████| 1/1 [00:00<00:00,  1.03it/s]\n",
      "Running inference: 100%|██████████| 1/1 [00:02<00:00,  2.36s/it]\n",
      "Running inference: 100%|██████████| 1/1 [00:02<00:00,  2.36s/it]\n"
     ]
    },
    {
     "name": "stdout",
     "output_type": "stream",
     "text": [
      "Epoch: 023, Average Loss: 0.5584\n",
      "Validation: {'precision': 0.6475789473656944, 'recall': 0.6079051383375181, 'f1': 0.6271151835855144, 'auc': 0.7705111152937241, 'prauc': 0.6701981918907803}\n",
      "Test:       {'precision': 0.6495388669273187, 'recall': 0.5843540102703108, 'f1': 0.6152246206353553, 'auc': 0.7668116521316435, 'prauc': 0.6536558342731007}\n"
     ]
    },
    {
     "name": "stderr",
     "output_type": "stream",
     "text": [
      "Training Batches: 100%|██████████| 1/1 [00:00<00:00,  1.43it/s]\n",
      "Running inference: 100%|██████████| 1/1 [00:02<00:00,  2.34s/it]\n",
      "Running inference: 100%|██████████| 1/1 [00:02<00:00,  2.40s/it]\n"
     ]
    },
    {
     "name": "stdout",
     "output_type": "stream",
     "text": [
      "Epoch: 024, Average Loss: 0.5565\n",
      "Validation: {'precision': 0.6463973344412896, 'recall': 0.613438735175441, 'f1': 0.6294869144898164, 'auc': 0.7704589371980676, 'prauc': 0.6702204783001198}\n",
      "Test:       {'precision': 0.648801742916563, 'recall': 0.5883050177772094, 'f1': 0.6170741765261839, 'auc': 0.7668030129024009, 'prauc': 0.6533245399021052}\n"
     ]
    },
    {
     "name": "stderr",
     "output_type": "stream",
     "text": [
      "Training Batches: 100%|██████████| 1/1 [00:00<00:00,  1.40it/s]\n",
      "Running inference: 100%|██████████| 1/1 [00:02<00:00,  2.37s/it]\n",
      "Running inference: 100%|██████████| 1/1 [00:02<00:00,  2.07s/it]\n"
     ]
    },
    {
     "name": "stdout",
     "output_type": "stream",
     "text": [
      "Epoch: 025, Average Loss: 0.5547\n",
      "Validation: {'precision': 0.6436452799319835, 'recall': 0.6225296442663142, 'f1': 0.6329113874039106, 'auc': 0.7707088483175439, 'prauc': 0.6704339342786885}\n",
      "Test:       {'precision': 0.6456020495275594, 'recall': 0.5973923350430763, 'f1': 0.6205622769668051, 'auc': 0.7670773738795575, 'prauc': 0.6529599753728746}\n"
     ]
    },
    {
     "name": "stderr",
     "output_type": "stream",
     "text": [
      "Training Batches: 100%|██████████| 1/1 [00:00<00:00,  1.43it/s]\n",
      "Running inference: 100%|██████████| 1/1 [00:02<00:00,  2.38s/it]\n",
      "Running inference: 100%|██████████| 1/1 [00:02<00:00,  2.35s/it]\n"
     ]
    },
    {
     "name": "stdout",
     "output_type": "stream",
     "text": [
      "Epoch: 026, Average Loss: 0.5536\n",
      "Validation: {'precision': 0.6410256410230728, 'recall': 0.6324110671911762, 'f1': 0.636689211074098, 'auc': 0.7706358617228183, 'prauc': 0.6704359014968208}\n",
      "Test:       {'precision': 0.6451342281852134, 'recall': 0.6076649545610128, 'f1': 0.6258392625502475, 'auc': 0.7670434976291336, 'prauc': 0.6526671988506709}\n"
     ]
    },
    {
     "name": "stderr",
     "output_type": "stream",
     "text": [
      "Training Batches: 100%|██████████| 1/1 [00:00<00:00,  1.01it/s]\n",
      "Running inference: 100%|██████████| 1/1 [00:02<00:00,  2.34s/it]\n",
      "Running inference: 100%|██████████| 1/1 [00:02<00:00,  2.37s/it]\n"
     ]
    },
    {
     "name": "stdout",
     "output_type": "stream",
     "text": [
      "Epoch: 027, Average Loss: 0.5529\n",
      "Validation: {'precision': 0.6419055308815426, 'recall': 0.6284584980212314, 'f1': 0.6351108398152793, 'auc': 0.7715153606457953, 'prauc': 0.6712134038415069}\n",
      "Test:       {'precision': 0.645243128961331, 'recall': 0.6029237455527344, 'f1': 0.6233660080750969, 'auc': 0.7677359449426632, 'prauc': 0.6532912484086749}\n"
     ]
    },
    {
     "name": "stderr",
     "output_type": "stream",
     "text": [
      "Training Batches: 100%|██████████| 1/1 [00:00<00:00,  1.42it/s]\n",
      "Running inference: 100%|██████████| 1/1 [00:02<00:00,  2.31s/it]\n",
      "Running inference: 100%|██████████| 1/1 [00:02<00:00,  2.35s/it]\n"
     ]
    },
    {
     "name": "stdout",
     "output_type": "stream",
     "text": [
      "Epoch: 028, Average Loss: 0.5515\n",
      "Validation: {'precision': 0.6429149797544822, 'recall': 0.6276679841872425, 'f1': 0.6351999949981793, 'auc': 0.7721854675115544, 'prauc': 0.6716654210665847}\n",
      "Test:       {'precision': 0.6471088435346637, 'recall': 0.601343342549975, 'f1': 0.6233872569333078, 'auc': 0.7680378467354656, 'prauc': 0.6532217223270839}\n"
     ]
    },
    {
     "name": "stderr",
     "output_type": "stream",
     "text": [
      "Training Batches: 100%|██████████| 1/1 [00:00<00:00,  1.44it/s]\n",
      "Running inference: 100%|██████████| 1/1 [00:02<00:00,  2.38s/it]\n",
      "Running inference: 100%|██████████| 1/1 [00:02<00:00,  2.08s/it]\n"
     ]
    },
    {
     "name": "stdout",
     "output_type": "stream",
     "text": [
      "Epoch: 029, Average Loss: 0.5486\n",
      "Validation: {'precision': 0.6405384006308767, 'recall': 0.639525691697077, 'f1': 0.6400316405670917, 'auc': 0.7723955915260263, 'prauc': 0.6713477408692057}\n",
      "Test:       {'precision': 0.6452688620231544, 'recall': 0.6116159620679115, 'f1': 0.6279918814107732, 'auc': 0.7680254900197006, 'prauc': 0.6525899730661299}\n"
     ]
    },
    {
     "name": "stderr",
     "output_type": "stream",
     "text": [
      "Training Batches: 100%|██████████| 1/1 [00:00<00:00,  1.41it/s]\n",
      "Running inference: 100%|██████████| 1/1 [00:02<00:00,  2.35s/it]\n",
      "Running inference: 100%|██████████| 1/1 [00:02<00:00,  2.36s/it]\n"
     ]
    },
    {
     "name": "stdout",
     "output_type": "stream",
     "text": [
      "Epoch: 030, Average Loss: 0.5470\n",
      "Validation: {'precision': 0.6381655654852773, 'recall': 0.6490118577049446, 'f1': 0.6435430089112173, 'auc': 0.7723134031829684, 'prauc': 0.6711066198664665}\n",
      "Test:       {'precision': 0.6448176976622498, 'recall': 0.6218885815858479, 'f1': 0.633145610445592, 'auc': 0.7677942728297917, 'prauc': 0.6522491727197284}\n"
     ]
    },
    {
     "name": "stderr",
     "output_type": "stream",
     "text": [
      "Training Batches: 100%|██████████| 1/1 [00:00<00:00,  1.01it/s]\n",
      "Running inference: 100%|██████████| 1/1 [00:02<00:00,  2.32s/it]\n",
      "Running inference: 100%|██████████| 1/1 [00:02<00:00,  2.39s/it]\n"
     ]
    },
    {
     "name": "stdout",
     "output_type": "stream",
     "text": [
      "Epoch: 031, Average Loss: 0.5475\n",
      "Validation: {'precision': 0.642684887457224, 'recall': 0.6320158102741817, 'f1': 0.6373056944796756, 'auc': 0.7727214170692431, 'prauc': 0.6715061708610858}\n",
      "Test:       {'precision': 0.647258818526786, 'recall': 0.6017384433006648, 'f1': 0.6236691186732112, 'auc': 0.7679171593208958, 'prauc': 0.6528330884755077}\n"
     ]
    },
    {
     "name": "stderr",
     "output_type": "stream",
     "text": [
      "Training Batches: 100%|██████████| 1/1 [00:00<00:00,  1.43it/s]\n",
      "Running inference: 100%|██████████| 1/1 [00:02<00:00,  2.34s/it]\n",
      "Running inference: 100%|██████████| 1/1 [00:02<00:00,  2.35s/it]\n"
     ]
    },
    {
     "name": "stdout",
     "output_type": "stream",
     "text": [
      "Epoch: 032, Average Loss: 0.5471\n",
      "Validation: {'precision': 0.6385214007757256, 'recall': 0.6486166007879501, 'f1': 0.6435294067624898, 'auc': 0.7727207896773114, 'prauc': 0.6712807732476738}\n",
      "Test:       {'precision': 0.6434711420358433, 'recall': 0.6210983800844683, 'f1': 0.6320868466274915, 'auc': 0.7681789017874618, 'prauc': 0.6529892509637769}\n"
     ]
    },
    {
     "name": "stderr",
     "output_type": "stream",
     "text": [
      "Training Batches: 100%|██████████| 1/1 [00:00<00:00,  1.43it/s]\n",
      "Running inference: 100%|██████████| 1/1 [00:02<00:00,  2.33s/it]\n",
      "Running inference: 100%|██████████| 1/1 [00:02<00:00,  2.07s/it]\n"
     ]
    },
    {
     "name": "stdout",
     "output_type": "stream",
     "text": [
      "Epoch: 033, Average Loss: 0.5411\n",
      "Validation: {'precision': 0.6367424242400124, 'recall': 0.6644268774677295, 'f1': 0.6502901303962663, 'auc': 0.7737976033628207, 'prauc': 0.6711870054719379}\n",
      "Test:       {'precision': 0.6450181524782371, 'recall': 0.6317661003530946, 'f1': 0.6383233482914038, 'auc': 0.7692129913483092, 'prauc': 0.6527392775737365}\n"
     ]
    },
    {
     "name": "stderr",
     "output_type": "stream",
     "text": [
      "Training Batches: 100%|██████████| 1/1 [00:00<00:00,  1.44it/s]\n",
      "Running inference: 100%|██████████| 1/1 [00:02<00:00,  2.30s/it]\n",
      "Running inference: 100%|██████████| 1/1 [00:02<00:00,  2.32s/it]\n"
     ]
    },
    {
     "name": "stdout",
     "output_type": "stream",
     "text": [
      "Epoch: 034, Average Loss: 0.5381\n",
      "Validation: {'precision': 0.6334453154138356, 'recall': 0.6707509881396413, 'f1': 0.6515645947328238, 'auc': 0.7739546604763996, 'prauc': 0.6698898317318008}\n",
      "Test:       {'precision': 0.6446478312747925, 'recall': 0.6400632161175818, 'f1': 0.6423473383757881, 'auc': 0.7692807962081218, 'prauc': 0.6521222083824644}\n"
     ]
    },
    {
     "name": "stderr",
     "output_type": "stream",
     "text": [
      "Training Batches: 100%|██████████| 1/1 [00:01<00:00,  1.01s/it]\n",
      "Running inference: 100%|██████████| 1/1 [00:02<00:00,  2.33s/it]\n",
      "Running inference: 100%|██████████| 1/1 [00:02<00:00,  2.34s/it]\n"
     ]
    },
    {
     "name": "stdout",
     "output_type": "stream",
     "text": [
      "Epoch: 035, Average Loss: 0.5381\n",
      "Validation: {'precision': 0.6389421234164855, 'recall': 0.6588932806298068, 'f1': 0.6487643460397154, 'auc': 0.7746283748457662, 'prauc': 0.6706009144380423}\n",
      "Test:       {'precision': 0.6478013029289585, 'recall': 0.6286052943475756, 'f1': 0.6380589482770962, 'auc': 0.7694436849485672, 'prauc': 0.6523749995220142}\n"
     ]
    },
    {
     "name": "stderr",
     "output_type": "stream",
     "text": [
      "Training Batches: 100%|██████████| 1/1 [00:00<00:00,  1.38it/s]\n",
      "Running inference: 100%|██████████| 1/1 [00:02<00:00,  2.35s/it]\n",
      "Running inference: 100%|██████████| 1/1 [00:02<00:00,  2.41s/it]\n"
     ]
    },
    {
     "name": "stdout",
     "output_type": "stream",
     "text": [
      "Epoch: 036, Average Loss: 0.5324\n",
      "Validation: {'precision': 0.6395393474063742, 'recall': 0.6584980237128123, 'f1': 0.6488802286888997, 'auc': 0.7750841750841752, 'prauc': 0.6703220858402197}\n",
      "Test:       {'precision': 0.6488362596951864, 'recall': 0.627815092846196, 'f1': 0.6381526054405599, 'auc': 0.7695750012330537, 'prauc': 0.6521664312551951}\n"
     ]
    },
    {
     "name": "stderr",
     "output_type": "stream",
     "text": [
      "Training Batches: 100%|██████████| 1/1 [00:00<00:00,  1.37it/s]\n",
      "Running inference: 100%|██████████| 1/1 [00:02<00:00,  2.36s/it]\n",
      "Running inference: 100%|██████████| 1/1 [00:02<00:00,  2.09s/it]\n"
     ]
    },
    {
     "name": "stdout",
     "output_type": "stream",
     "text": [
      "Epoch: 037, Average Loss: 0.5315\n",
      "Validation: {'precision': 0.6304029304006212, 'recall': 0.680237154147509, 'f1': 0.6543726185788852, 'auc': 0.77425769077943, 'prauc': 0.6665390042103434}\n",
      "Test:       {'precision': 0.6419077404196954, 'recall': 0.6487554326327588, 'f1': 0.6453134161019475, 'auc': 0.7692723664147397, 'prauc': 0.650869112689866}\n"
     ]
    },
    {
     "name": "stderr",
     "output_type": "stream",
     "text": [
      "Training Batches: 100%|██████████| 1/1 [00:00<00:00,  1.43it/s]\n",
      "Running inference: 100%|██████████| 1/1 [00:02<00:00,  2.35s/it]\n",
      "Running inference: 100%|██████████| 1/1 [00:02<00:00,  2.36s/it]\n"
     ]
    },
    {
     "name": "stdout",
     "output_type": "stream",
     "text": [
      "Epoch: 038, Average Loss: 0.5285\n",
      "Validation: {'precision': 0.6189821182922318, 'recall': 0.7114624505900733, 'f1': 0.6620080862317277, 'auc': 0.7704658385093167, 'prauc': 0.6562544814981951}\n",
      "Test:       {'precision': 0.6256335988391541, 'recall': 0.6827340971920872, 'f1': 0.652937837440459, 'auc': 0.7664531502975612, 'prauc': 0.6467661632172855}\n"
     ]
    },
    {
     "name": "stderr",
     "output_type": "stream",
     "text": [
      "Training Batches: 100%|██████████| 1/1 [00:00<00:00,  1.01it/s]\n",
      "Running inference: 100%|██████████| 1/1 [00:02<00:00,  2.37s/it]\n",
      "Running inference: 100%|██████████| 1/1 [00:02<00:00,  2.45s/it]\n"
     ]
    },
    {
     "name": "stdout",
     "output_type": "stream",
     "text": [
      "Epoch: 039, Average Loss: 0.5336\n",
      "Validation: {'precision': 0.6223702664774812, 'recall': 0.7015810276652111, 'f1': 0.6596060894041496, 'auc': 0.7704595123073383, 'prauc': 0.6570214506721364}\n",
      "Test:       {'precision': 0.6288659793791279, 'recall': 0.6748320821782899, 'f1': 0.6510386837782721, 'auc': 0.7657242087853525, 'prauc': 0.6462307848177373}\n"
     ]
    },
    {
     "name": "stderr",
     "output_type": "stream",
     "text": [
      "Training Batches: 100%|██████████| 1/1 [00:00<00:00,  1.42it/s]\n",
      "Running inference: 100%|██████████| 1/1 [00:02<00:00,  2.34s/it]\n",
      "Running inference: 100%|██████████| 1/1 [00:02<00:00,  2.40s/it]\n"
     ]
    },
    {
     "name": "stdout",
     "output_type": "stream",
     "text": [
      "Epoch: 040, Average Loss: 0.5257\n",
      "Validation: {'precision': 0.6253182975604754, 'recall': 0.67944664031352, 'f1': 0.6512597032842208, 'auc': 0.7722595520421607, 'prauc': 0.6603227146216354}\n",
      "Test:       {'precision': 0.6361185983802999, 'recall': 0.6527064401396574, 'f1': 0.6443057672292046, 'auc': 0.7669348527765383, 'prauc': 0.6470949098474363}\n"
     ]
    },
    {
     "name": "stderr",
     "output_type": "stream",
     "text": [
      "Training Batches: 100%|██████████| 1/1 [00:00<00:00,  1.40it/s]\n",
      "Running inference: 100%|██████████| 1/1 [00:02<00:00,  2.35s/it]\n",
      "Running inference: 100%|██████████| 1/1 [00:02<00:00,  2.08s/it]\n"
     ]
    },
    {
     "name": "stdout",
     "output_type": "stream",
     "text": [
      "Epoch: 041, Average Loss: 0.5228\n",
      "Validation: {'precision': 0.6288848263231119, 'recall': 0.6798418972305145, 'f1': 0.653371315043085, 'auc': 0.7726911454085367, 'prauc': 0.6560921212881212}\n",
      "Test:       {'precision': 0.6426332288376073, 'recall': 0.647965231131379, 'f1': 0.6452882106182428, 'auc': 0.7680426637602555, 'prauc': 0.6454132628495919}\n"
     ]
    },
    {
     "name": "stderr",
     "output_type": "stream",
     "text": [
      "Training Batches: 100%|██████████| 1/1 [00:00<00:00,  1.41it/s]\n",
      "Running inference: 100%|██████████| 1/1 [00:02<00:00,  2.34s/it]\n",
      "Running inference: 100%|██████████| 1/1 [00:02<00:00,  2.33s/it]\n"
     ]
    },
    {
     "name": "stdout",
     "output_type": "stream",
     "text": [
      "Epoch: 042, Average Loss: 0.5184\n",
      "Validation: {'precision': 0.6277817659704674, 'recall': 0.6913043478233546, 'f1': 0.6580135390271785, 'auc': 0.7707654181567224, 'prauc': 0.6456848973024808}\n",
      "Test:       {'precision': 0.636363636361226, 'recall': 0.6637692611589737, 'f1': 0.6497776008786489, 'auc': 0.7675760406632289, 'prauc': 0.6419414294939952}\n"
     ]
    },
    {
     "name": "stderr",
     "output_type": "stream",
     "text": [
      "Training Batches: 100%|██████████| 1/1 [00:01<00:00,  1.04s/it]\n",
      "Running inference: 100%|██████████| 1/1 [00:02<00:00,  2.38s/it]\n",
      "Running inference: 100%|██████████| 1/1 [00:02<00:00,  2.38s/it]\n"
     ]
    },
    {
     "name": "stdout",
     "output_type": "stream",
     "text": [
      "Epoch: 043, Average Loss: 0.5149\n",
      "Validation: {'precision': 0.6255230125501202, 'recall': 0.7090909090881063, 'f1': 0.6646906211749771, 'auc': 0.7697316853838593, 'prauc': 0.6455703505374982}\n",
      "Test:       {'precision': 0.6299154722505332, 'recall': 0.6772026866824291, 'f1': 0.6527037269157111, 'auc': 0.7666131592949259, 'prauc': 0.6420057968398869}\n"
     ]
    },
    {
     "name": "stderr",
     "output_type": "stream",
     "text": [
      "Training Batches: 100%|██████████| 1/1 [00:00<00:00,  1.39it/s]\n",
      "Running inference: 100%|██████████| 1/1 [00:02<00:00,  2.30s/it]\n",
      "Running inference: 100%|██████████| 1/1 [00:02<00:00,  2.41s/it]\n"
     ]
    },
    {
     "name": "stdout",
     "output_type": "stream",
     "text": [
      "Epoch: 044, Average Loss: 0.5084\n",
      "Validation: {'precision': 0.6276520509171583, 'recall': 0.7015810276652111, 'f1': 0.6625606519745464, 'auc': 0.7708311374615723, 'prauc': 0.6496459369078865}\n",
      "Test:       {'precision': 0.6315396113578792, 'recall': 0.6677202686658723, 'f1': 0.6491261713025173, 'auc': 0.766935638161015, 'prauc': 0.6440466284143365}\n"
     ]
    },
    {
     "name": "stderr",
     "output_type": "stream",
     "text": [
      "Training Batches: 100%|██████████| 1/1 [00:00<00:00,  1.40it/s]\n",
      "Running inference: 100%|██████████| 1/1 [00:02<00:00,  2.39s/it]\n",
      "Running inference: 100%|██████████| 1/1 [00:02<00:00,  2.13s/it]\n"
     ]
    },
    {
     "name": "stdout",
     "output_type": "stream",
     "text": [
      "Epoch: 045, Average Loss: 0.5076\n",
      "Validation: {'precision': 0.6299212598402651, 'recall': 0.6956521739102939, 'f1': 0.6611570198031991, 'auc': 0.7712340799297321, 'prauc': 0.650678529145765}\n",
      "Test:       {'precision': 0.6338134950696217, 'recall': 0.6606084551534548, 'f1': 0.6469336378706011, 'auc': 0.7674802237570846, 'prauc': 0.6446959397152042}\n"
     ]
    },
    {
     "name": "stderr",
     "output_type": "stream",
     "text": [
      "Training Batches: 100%|██████████| 1/1 [00:01<00:00,  1.00s/it]\n",
      "Running inference: 100%|██████████| 1/1 [00:02<00:00,  2.05s/it]\n",
      "Running inference: 100%|██████████| 1/1 [00:02<00:00,  2.33s/it]\n"
     ]
    },
    {
     "name": "stdout",
     "output_type": "stream",
     "text": [
      "Epoch: 046, Average Loss: 0.5047\n",
      "Validation: {'precision': 0.6288068792524945, 'recall': 0.6936758893253214, 'f1': 0.6596504366558577, 'auc': 0.7694477905347471, 'prauc': 0.6422181957700613}\n",
      "Test:       {'precision': 0.6363290175147132, 'recall': 0.6602133544027649, 'f1': 0.648051187552994, 'auc': 0.7674143561789809, 'prauc': 0.6402030208231262}\n"
     ]
    },
    {
     "name": "stderr",
     "output_type": "stream",
     "text": [
      "Training Batches: 100%|██████████| 1/1 [00:01<00:00,  1.31s/it]\n",
      "Running inference: 100%|██████████| 1/1 [00:02<00:00,  2.05s/it]\n",
      "Running inference: 100%|██████████| 1/1 [00:02<00:00,  2.38s/it]\n"
     ]
    },
    {
     "name": "stdout",
     "output_type": "stream",
     "text": [
      "Epoch: 047, Average Loss: 0.5007\n",
      "Validation: {'precision': 0.6245224036101962, 'recall': 0.7106719367560843, 'f1': 0.6648178911174515, 'auc': 0.7614577451533973, 'prauc': 0.6189971730000434}\n",
      "Test:       {'precision': 0.6322008862605901, 'recall': 0.6764124851810493, 'f1': 0.6535598346672703, 'auc': 0.7646246705181224, 'prauc': 0.6279268014309007}\n"
     ]
    },
    {
     "name": "stderr",
     "output_type": "stream",
     "text": [
      "Training Batches: 100%|██████████| 1/1 [00:01<00:00,  1.02s/it]\n",
      "Running inference: 100%|██████████| 1/1 [00:02<00:00,  2.33s/it]\n",
      "Running inference: 100%|██████████| 1/1 [00:02<00:00,  2.05s/it]\n"
     ]
    },
    {
     "name": "stdout",
     "output_type": "stream",
     "text": [
      "Epoch: 048, Average Loss: 0.4969\n",
      "Validation: {'precision': 0.6244798890408305, 'recall': 0.7118577075070678, 'f1': 0.6653121486945748, 'auc': 0.76393918480875, 'prauc': 0.6264039859684942}\n",
      "Test:       {'precision': 0.6302179534516801, 'recall': 0.6740418806769102, 'f1': 0.651393656706098, 'auc': 0.7651120277653308, 'prauc': 0.629512023648664}\n"
     ]
    },
    {
     "name": "stderr",
     "output_type": "stream",
     "text": [
      "Training Batches: 100%|██████████| 1/1 [00:01<00:00,  1.28s/it]\n",
      "Running inference: 100%|██████████| 1/1 [00:02<00:00,  2.06s/it]\n",
      "Running inference: 100%|██████████| 1/1 [00:02<00:00,  2.33s/it]\n"
     ]
    },
    {
     "name": "stdout",
     "output_type": "stream",
     "text": [
      "Epoch: 049, Average Loss: 0.4949\n",
      "Validation: {'precision': 0.6262840949322483, 'recall': 0.6988142292462498, 'f1': 0.6605641646370216, 'auc': 0.7686219336219337, 'prauc': 0.6403036095665935}\n",
      "Test:       {'precision': 0.6357440363474602, 'recall': 0.6633741604082838, 'f1': 0.6492652695550488, 'auc': 0.7666518002111742, 'prauc': 0.6362646490523001}\n"
     ]
    },
    {
     "name": "stderr",
     "output_type": "stream",
     "text": [
      "Training Batches: 100%|██████████| 1/1 [00:00<00:00,  1.00it/s]\n",
      "Running inference: 100%|██████████| 1/1 [00:02<00:00,  2.36s/it]\n",
      "Running inference: 100%|██████████| 1/1 [00:02<00:00,  2.40s/it]\n"
     ]
    },
    {
     "name": "stdout",
     "output_type": "stream",
     "text": [
      "Epoch: 050, Average Loss: 0.4896\n",
      "Validation: {'precision': 0.6170500676569112, 'recall': 0.720948616597941, 'f1': 0.6649653614148925, 'auc': 0.7533797603362821, 'prauc': 0.6046806847808818}\n",
      "Test:       {'precision': 0.623408769446169, 'recall': 0.6965626234662325, 'f1': 0.65795856937379, 'auc': 0.7550906265619335, 'prauc': 0.6103851202596213}\n"
     ]
    },
    {
     "name": "stderr",
     "output_type": "stream",
     "text": [
      "Training Batches: 100%|██████████| 1/1 [00:01<00:00,  1.02s/it]\n",
      "Running inference: 100%|██████████| 1/1 [00:02<00:00,  2.05s/it]\n",
      "Running inference: 100%|██████████| 1/1 [00:02<00:00,  2.31s/it]\n"
     ]
    },
    {
     "name": "stdout",
     "output_type": "stream",
     "text": [
      "Epoch: 051, Average Loss: 0.4842\n",
      "Validation: {'precision': 0.6005213424548697, 'recall': 0.7284584980208362, 'f1': 0.6583318400163019, 'auc': 0.7361741640002509, 'prauc': 0.5784880804772323}\n",
      "Test:       {'precision': 0.6038894575209693, 'recall': 0.6993283287210615, 'f1': 0.6481142388911579, 'auc': 0.738613993268522, 'prauc': 0.5860036903725273}\n"
     ]
    },
    {
     "name": "stderr",
     "output_type": "stream",
     "text": [
      "Training Batches: 100%|██████████| 1/1 [00:01<00:00,  1.31s/it]\n",
      "Running inference: 100%|██████████| 1/1 [00:02<00:00,  2.00s/it]\n",
      "Running inference: 100%|██████████| 1/1 [00:02<00:00,  2.39s/it]\n"
     ]
    },
    {
     "name": "stdout",
     "output_type": "stream",
     "text": [
      "Epoch: 052, Average Loss: 0.4848\n",
      "Validation: {'precision': 0.6101249178152198, 'recall': 0.7335968379417644, 'f1': 0.6661880783133364, 'auc': 0.7551129305477131, 'prauc': 0.6123261219829971}\n",
      "Test:       {'precision': 0.6165181631233155, 'recall': 0.7107862504910677, 'f1': 0.6603046380765686, 'auc': 0.7545989758795861, 'prauc': 0.610532787994726}\n"
     ]
    },
    {
     "name": "stderr",
     "output_type": "stream",
     "text": [
      "Training Batches: 100%|██████████| 1/1 [00:01<00:00,  1.02s/it]\n",
      "Running inference: 100%|██████████| 1/1 [00:02<00:00,  2.41s/it]\n",
      "Running inference: 100%|██████████| 1/1 [00:02<00:00,  2.08s/it]\n"
     ]
    },
    {
     "name": "stdout",
     "output_type": "stream",
     "text": [
      "Epoch: 053, Average Loss: 0.4766\n",
      "Validation: {'precision': 0.6118184786137387, 'recall': 0.7407114624476652, 'f1': 0.6701233635393467, 'auc': 0.7596603195516238, 'prauc': 0.6209249033719126}\n",
      "Test:       {'precision': 0.6194029850725258, 'recall': 0.721453970759694, 'f1': 0.6665449849882016, 'auc': 0.7590980770332322, 'prauc': 0.617699167504393}\n"
     ]
    },
    {
     "name": "stderr",
     "output_type": "stream",
     "text": [
      "Training Batches: 100%|██████████| 1/1 [00:01<00:00,  1.31s/it]\n",
      "Running inference: 100%|██████████| 1/1 [00:02<00:00,  2.05s/it]\n",
      "Running inference: 100%|██████████| 1/1 [00:02<00:00,  2.34s/it]\n"
     ]
    },
    {
     "name": "stdout",
     "output_type": "stream",
     "text": [
      "Epoch: 054, Average Loss: 0.4718\n",
      "Validation: {'precision': 0.6051948051928403, 'recall': 0.7367588932777204, 'f1': 0.664527624279201, 'auc': 0.7486943973900495, 'prauc': 0.5924579077309153}\n",
      "Test:       {'precision': 0.6186440677945131, 'recall': 0.7210588700090041, 'f1': 0.6659368678602146, 'auc': 0.7538030148920415, 'prauc': 0.6030761180817981}\n"
     ]
    },
    {
     "name": "stderr",
     "output_type": "stream",
     "text": [
      "Training Batches: 100%|██████████| 1/1 [00:01<00:00,  1.02s/it]\n",
      "Running inference: 100%|██████████| 1/1 [00:02<00:00,  2.34s/it]\n",
      "Running inference: 100%|██████████| 1/1 [00:02<00:00,  2.36s/it]\n"
     ]
    },
    {
     "name": "stdout",
     "output_type": "stream",
     "text": [
      "Epoch: 055, Average Loss: 0.4614\n",
      "Validation: {'precision': 0.6091992058219418, 'recall': 0.7276679841868472, 'f1': 0.6631844330772215, 'auc': 0.7461132547002112, 'prauc': 0.5891614026845811}\n",
      "Test:       {'precision': 0.6182702327175469, 'recall': 0.7032793362279602, 'f1': 0.6580406604526369, 'auc': 0.7529497208377057, 'prauc': 0.6019088843442855}\n"
     ]
    },
    {
     "name": "stderr",
     "output_type": "stream",
     "text": [
      "Training Batches: 100%|██████████| 1/1 [00:01<00:00,  1.01s/it]\n",
      "Running inference: 100%|██████████| 1/1 [00:02<00:00,  2.02s/it]\n",
      "Running inference: 100%|██████████| 1/1 [00:02<00:00,  2.32s/it]\n"
     ]
    },
    {
     "name": "stdout",
     "output_type": "stream",
     "text": [
      "Epoch: 056, Average Loss: 0.4597\n",
      "Validation: {'precision': 0.6065897858299618, 'recall': 0.7276679841868472, 'f1': 0.6616352151645823, 'auc': 0.744324926281448, 'prauc': 0.5891334812753148}\n",
      "Test:       {'precision': 0.6167067720845077, 'recall': 0.7088107467376183, 'f1': 0.659558818551128, 'auc': 0.7503927707767443, 'prauc': 0.5998050727929978}\n"
     ]
    },
    {
     "name": "stderr",
     "output_type": "stream",
     "text": [
      "Training Batches: 100%|██████████| 1/1 [00:01<00:00,  1.30s/it]\n",
      "Running inference: 100%|██████████| 1/1 [00:02<00:00,  2.02s/it]\n",
      "Running inference: 100%|██████████| 1/1 [00:02<00:00,  2.33s/it]\n"
     ]
    },
    {
     "name": "stdout",
     "output_type": "stream",
     "text": [
      "Epoch: 057, Average Loss: 0.4590\n",
      "Validation: {'precision': 0.6039111700344584, 'recall': 0.720158102763952, 'f1': 0.6569316698153315, 'auc': 0.7359391011564925, 'prauc': 0.5746240641874145}\n",
      "Test:       {'precision': 0.6135265700461922, 'recall': 0.7024891347265805, 'f1': 0.6550009160003585, 'auc': 0.7453841121746846, 'prauc': 0.5912589439781677}\n"
     ]
    },
    {
     "name": "stderr",
     "output_type": "stream",
     "text": [
      "Training Batches: 100%|██████████| 1/1 [00:01<00:00,  1.01s/it]\n",
      "Running inference: 100%|██████████| 1/1 [00:02<00:00,  2.36s/it]\n",
      "Running inference: 100%|██████████| 1/1 [00:02<00:00,  2.03s/it]\n"
     ]
    },
    {
     "name": "stdout",
     "output_type": "stream",
     "text": [
      "Epoch: 058, Average Loss: 0.4533\n",
      "Validation: {'precision': 0.5955424450980152, 'recall': 0.7181818181789795, 'f1': 0.6511377839679556, 'auc': 0.7282646339168078, 'prauc': 0.5599656337543367}\n",
      "Test:       {'precision': 0.6096147289443927, 'recall': 0.7064401422334792, 'f1': 0.6544655879968506, 'auc': 0.7426085634344047, 'prauc': 0.5844827820560028}\n"
     ]
    },
    {
     "name": "stderr",
     "output_type": "stream",
     "text": [
      "Training Batches: 100%|██████████| 1/1 [00:01<00:00,  1.29s/it]\n",
      "Running inference: 100%|██████████| 1/1 [00:02<00:00,  2.05s/it]\n",
      "Running inference: 100%|██████████| 1/1 [00:02<00:00,  2.35s/it]\n"
     ]
    },
    {
     "name": "stdout",
     "output_type": "stream",
     "text": [
      "Epoch: 059, Average Loss: 0.4526\n",
      "Validation: {'precision': 0.5996672212958414, 'recall': 0.7122529644240623, 'f1': 0.6511291729929168, 'auc': 0.7403486730660644, 'prauc': 0.5767618007711806}\n",
      "Test:       {'precision': 0.6164095371647391, 'recall': 0.6945871197127832, 'f1': 0.6531673738004173, 'auc': 0.7497491743776588, 'prauc': 0.5936542682062715}\n"
     ]
    },
    {
     "name": "stderr",
     "output_type": "stream",
     "text": [
      "Training Batches: 100%|██████████| 1/1 [00:00<00:00,  1.01it/s]\n",
      "Running inference: 100%|██████████| 1/1 [00:02<00:00,  2.31s/it]\n",
      "Running inference: 100%|██████████| 1/1 [00:02<00:00,  2.35s/it]\n"
     ]
    },
    {
     "name": "stdout",
     "output_type": "stream",
     "text": [
      "Epoch: 060, Average Loss: 0.4466\n",
      "Validation: {'precision': 0.5955392809567392, 'recall': 0.707114624503134, 'f1': 0.6465486036357184, 'auc': 0.7390579710144929, 'prauc': 0.5799046345389045}\n",
      "Test:       {'precision': 0.6119298245592564, 'recall': 0.6890557092031251, 'f1': 0.6482066480536317, 'auc': 0.747332598702147, 'prauc': 0.5940050005474262}\n"
     ]
    },
    {
     "name": "stderr",
     "output_type": "stream",
     "text": [
      "Training Batches: 100%|██████████| 1/1 [00:00<00:00,  1.02it/s]\n",
      "Running inference: 100%|██████████| 1/1 [00:02<00:00,  2.06s/it]\n",
      "Running inference: 100%|██████████| 1/1 [00:02<00:00,  2.25s/it]\n"
     ]
    },
    {
     "name": "stdout",
     "output_type": "stream",
     "text": [
      "Epoch: 061, Average Loss: 0.4374\n",
      "Validation: {'precision': 0.5725806451594433, 'recall': 0.7015810276652111, 'f1': 0.6305506167186381, 'auc': 0.7028537967668402, 'prauc': 0.5365134127764364}\n",
      "Test:       {'precision': 0.5851902639678259, 'recall': 0.6744369814276, 'f1': 0.6266519774016541, 'auc': 0.71880685856367, 'prauc': 0.5609263116507046}\n"
     ]
    },
    {
     "name": "stderr",
     "output_type": "stream",
     "text": [
      "Training Batches: 100%|██████████| 1/1 [00:01<00:00,  1.31s/it]\n",
      "Running inference: 100%|██████████| 1/1 [00:02<00:00,  2.03s/it]\n",
      "Running inference: 100%|██████████| 1/1 [00:02<00:00,  2.36s/it]\n"
     ]
    },
    {
     "name": "stdout",
     "output_type": "stream",
     "text": [
      "Epoch: 062, Average Loss: 0.4537\n",
      "Validation: {'precision': 0.588834154349462, 'recall': 0.7086956521711119, 'f1': 0.6432286945919292, 'auc': 0.7326689252776208, 'prauc': 0.5804231647332625}\n",
      "Test:       {'precision': 0.6009030913490764, 'recall': 0.683524298693467, 'f1': 0.6395563720978069, 'auc': 0.7401846575037778, 'prauc': 0.5923285004511161}\n"
     ]
    },
    {
     "name": "stderr",
     "output_type": "stream",
     "text": [
      "Training Batches: 100%|██████████| 1/1 [00:00<00:00,  1.02it/s]\n",
      "Running inference: 100%|██████████| 1/1 [00:02<00:00,  2.35s/it]\n",
      "Running inference: 100%|██████████| 1/1 [00:02<00:00,  2.04s/it]\n"
     ]
    },
    {
     "name": "stdout",
     "output_type": "stream",
     "text": [
      "Epoch: 063, Average Loss: 0.4334\n",
      "Validation: {'precision': 0.601214574896757, 'recall': 0.7043478260841726, 'f1': 0.6487076761355016, 'auc': 0.7469955246042203, 'prauc': 0.6029048520023843}\n",
      "Test:       {'precision': 0.6132538569403463, 'recall': 0.6910312129565744, 'f1': 0.6498235134994824, 'auc': 0.7524550856943475, 'prauc': 0.6062605275904362}\n",
      "\n",
      "Early stopping triggered after 63 epochs (no improvement for 10 epochs).\n",
      "\n",
      "Best validation performance:\n",
      "{'precision': 0.6118184786137387, 'recall': 0.7407114624476652, 'f1': 0.6701233635393467, 'auc': 0.7596603195516238, 'prauc': 0.6209249033719126}\n",
      "Corresponding test performance:\n",
      "{'precision': 0.6194029850725258, 'recall': 0.721453970759694, 'f1': 0.6665449849882016, 'auc': 0.7590980770332322, 'prauc': 0.617699167504393}\n",
      "Corresponding test-long performance:\n",
      "{'precision': 0.7691326530514141, 'recall': 0.9276923076780355, 'f1': 0.8410041791323487, 'auc': 0.5353092006033182, 'prauc': 0.7675507797278647}\n",
      "[INFO] Random seed set to 958682846\n",
      "Training with seed: 958682846\n"
     ]
    },
    {
     "name": "stderr",
     "output_type": "stream",
     "text": [
      "Training Batches: 100%|██████████| 1/1 [00:01<00:00,  1.32s/it]\n",
      "Running inference: 100%|██████████| 1/1 [00:02<00:00,  2.03s/it]\n",
      "Running inference: 100%|██████████| 1/1 [00:02<00:00,  2.34s/it]\n"
     ]
    },
    {
     "name": "stdout",
     "output_type": "stream",
     "text": [
      "Epoch: 001, Average Loss: 0.6919\n",
      "Validation: {'precision': 0.6586998087922624, 'recall': 0.5446640316184006, 'f1': 0.5962786622859387, 'auc': 0.7616351402220967, 'prauc': 0.6605501219682803}\n",
      "Test:       {'precision': 0.6426858513158624, 'recall': 0.5294350059244195, 'f1': 0.5805892498101933, 'auc': 0.7581887588862326, 'prauc': 0.6443220741213275}\n"
     ]
    },
    {
     "name": "stderr",
     "output_type": "stream",
     "text": [
      "Training Batches: 100%|██████████| 1/1 [00:01<00:00,  1.00s/it]\n",
      "Running inference: 100%|██████████| 1/1 [00:02<00:00,  2.31s/it]\n",
      "Running inference: 100%|██████████| 1/1 [00:02<00:00,  2.37s/it]\n"
     ]
    },
    {
     "name": "stdout",
     "output_type": "stream",
     "text": [
      "Epoch: 002, Average Loss: 0.6688\n",
      "Validation: {'precision': 0.6617502458177889, 'recall': 0.532015810274577, 'f1': 0.5898334744604998, 'auc': 0.7634079929732104, 'prauc': 0.6625172981845143}\n",
      "Test:       {'precision': 0.649402390435013, 'recall': 0.5152113788995843, 'f1': 0.574575892838691, 'auc': 0.7599155051964701, 'prauc': 0.6466878653011721}\n"
     ]
    },
    {
     "name": "stderr",
     "output_type": "stream",
     "text": [
      "Training Batches: 100%|██████████| 1/1 [00:00<00:00,  1.43it/s]\n",
      "Running inference: 100%|██████████| 1/1 [00:02<00:00,  2.35s/it]\n",
      "Running inference: 100%|██████████| 1/1 [00:02<00:00,  2.38s/it]\n"
     ]
    },
    {
     "name": "stdout",
     "output_type": "stream",
     "text": [
      "Epoch: 003, Average Loss: 0.6475\n",
      "Validation: {'precision': 0.6612665684798171, 'recall': 0.5324110671915715, 'f1': 0.5898839451323179, 'auc': 0.7641987159378464, 'prauc': 0.6633169378834132}\n",
      "Test:       {'precision': 0.6494281451981629, 'recall': 0.5160015804009641, 'f1': 0.5750770536275133, 'auc': 0.7606660186023025, 'prauc': 0.6479526483186383}\n"
     ]
    },
    {
     "name": "stderr",
     "output_type": "stream",
     "text": [
      "Training Batches: 100%|██████████| 1/1 [00:00<00:00,  1.42it/s]\n",
      "Running inference: 100%|██████████| 1/1 [00:02<00:00,  2.40s/it]\n",
      "Running inference: 100%|██████████| 1/1 [00:02<00:00,  2.09s/it]\n"
     ]
    },
    {
     "name": "stdout",
     "output_type": "stream",
     "text": [
      "Epoch: 004, Average Loss: 0.6267\n",
      "Validation: {'precision': 0.6592664092632275, 'recall': 0.5399209486144667, 'f1': 0.5936549276849267, 'auc': 0.7647327310370788, 'prauc': 0.6641296920121869}\n",
      "Test:       {'precision': 0.6488997554980495, 'recall': 0.5242986961654512, 'f1': 0.5799825125363817, 'auc': 0.7611642141552881, 'prauc': 0.6489324568797605}\n"
     ]
    },
    {
     "name": "stderr",
     "output_type": "stream",
     "text": [
      "Training Batches: 100%|██████████| 1/1 [00:00<00:00,  1.40it/s]\n",
      "Running inference: 100%|██████████| 1/1 [00:02<00:00,  2.37s/it]\n",
      "Running inference: 100%|██████████| 1/1 [00:02<00:00,  2.37s/it]\n"
     ]
    },
    {
     "name": "stdout",
     "output_type": "stream",
     "text": [
      "Epoch: 005, Average Loss: 0.6095\n",
      "Validation: {'precision': 0.6586653864586718, 'recall': 0.5422924901164337, 'f1': 0.5948406627226697, 'auc': 0.7654520358868185, 'prauc': 0.6650164351025735}\n",
      "Test:       {'precision': 0.6498789346215502, 'recall': 0.5302252074257993, 'f1': 0.5839860698965547, 'auc': 0.7618384929079258, 'prauc': 0.6498755252443139}\n"
     ]
    },
    {
     "name": "stderr",
     "output_type": "stream",
     "text": [
      "Training Batches: 100%|██████████| 1/1 [00:01<00:00,  1.02s/it]\n",
      "Running inference: 100%|██████████| 1/1 [00:02<00:00,  2.38s/it]\n",
      "Running inference: 100%|██████████| 1/1 [00:02<00:00,  2.41s/it]\n"
     ]
    },
    {
     "name": "stdout",
     "output_type": "stream",
     "text": [
      "Epoch: 006, Average Loss: 0.5954\n",
      "Validation: {'precision': 0.6597156398073, 'recall': 0.5501976284563234, 'f1': 0.5999999950383808, 'auc': 0.7662475688562644, 'prauc': 0.6659229995563609}\n",
      "Test:       {'precision': 0.6503126503095223, 'recall': 0.5341762149326978, 'f1': 0.5865509711843508, 'auc': 0.7626556069173732, 'prauc': 0.6509418421505648}\n"
     ]
    },
    {
     "name": "stderr",
     "output_type": "stream",
     "text": [
      "Training Batches: 100%|██████████| 1/1 [00:00<00:00,  1.42it/s]\n",
      "Running inference: 100%|██████████| 1/1 [00:02<00:00,  2.35s/it]\n",
      "Running inference: 100%|██████████| 1/1 [00:02<00:00,  2.39s/it]\n"
     ]
    },
    {
     "name": "stdout",
     "output_type": "stream",
     "text": [
      "Epoch: 007, Average Loss: 0.5854\n",
      "Validation: {'precision': 0.6580554250791073, 'recall': 0.5537549407092737, 'f1': 0.6014166080415416, 'auc': 0.767116924943012, 'prauc': 0.6667706471674381}\n",
      "Test:       {'precision': 0.652837386739853, 'recall': 0.5408929276944255, 'f1': 0.5916162439610337, 'auc': 0.7635012565628037, 'prauc': 0.652041197093383}\n"
     ]
    },
    {
     "name": "stderr",
     "output_type": "stream",
     "text": [
      "Training Batches: 100%|██████████| 1/1 [00:00<00:00,  1.40it/s]\n",
      "Running inference: 100%|██████████| 1/1 [00:02<00:00,  2.38s/it]\n",
      "Running inference: 100%|██████████| 1/1 [00:02<00:00,  2.09s/it]\n"
     ]
    },
    {
     "name": "stdout",
     "output_type": "stream",
     "text": [
      "Epoch: 008, Average Loss: 0.5786\n",
      "Validation: {'precision': 0.6552995391674872, 'recall': 0.5620553359661579, 'f1': 0.6051063780054832, 'auc': 0.7679277244494637, 'prauc': 0.6678620976165739}\n",
      "Test:       {'precision': 0.6527058823498697, 'recall': 0.5480047412068432, 'f1': 0.5957903730423323, 'auc': 0.76423653350979, 'prauc': 0.6528893116648565}\n"
     ]
    },
    {
     "name": "stderr",
     "output_type": "stream",
     "text": [
      "Training Batches: 100%|██████████| 1/1 [00:00<00:00,  1.42it/s]\n",
      "Running inference: 100%|██████████| 1/1 [00:02<00:00,  2.30s/it]\n",
      "Running inference: 100%|██████████| 1/1 [00:02<00:00,  2.36s/it]\n"
     ]
    },
    {
     "name": "stdout",
     "output_type": "stream",
     "text": [
      "Epoch: 009, Average Loss: 0.5772\n",
      "Validation: {'precision': 0.6596638655431388, 'recall': 0.5584980237132076, 'f1': 0.6048801320181969, 'auc': 0.7686296191730975, 'prauc': 0.6686137352339061}\n",
      "Test:       {'precision': 0.655040611559221, 'recall': 0.5416831291958053, 'f1': 0.5929930746270727, 'auc': 0.7650086711682113, 'prauc': 0.6534120745928486}\n"
     ]
    },
    {
     "name": "stderr",
     "output_type": "stream",
     "text": [
      "Training Batches: 100%|██████████| 1/1 [00:00<00:00,  1.02it/s]\n",
      "Running inference: 100%|██████████| 1/1 [00:02<00:00,  2.34s/it]\n",
      "Running inference: 100%|██████████| 1/1 [00:02<00:00,  2.40s/it]\n"
     ]
    },
    {
     "name": "stdout",
     "output_type": "stream",
     "text": [
      "Epoch: 010, Average Loss: 0.5761\n",
      "Validation: {'precision': 0.6580645161259997, 'recall': 0.5644268774681248, 'f1': 0.6076595694948339, 'auc': 0.769161072421942, 'prauc': 0.6687822360268041}\n",
      "Test:       {'precision': 0.6549929010854, 'recall': 0.5468194389547736, 'f1': 0.5960378934014207, 'auc': 0.765608076600747, 'prauc': 0.6538584161835411}\n"
     ]
    },
    {
     "name": "stderr",
     "output_type": "stream",
     "text": [
      "Training Batches: 100%|██████████| 1/1 [00:00<00:00,  1.39it/s]\n",
      "Running inference: 100%|██████████| 1/1 [00:02<00:00,  2.35s/it]\n",
      "Running inference: 100%|██████████| 1/1 [00:02<00:00,  2.37s/it]\n"
     ]
    },
    {
     "name": "stdout",
     "output_type": "stream",
     "text": [
      "Epoch: 011, Average Loss: 0.5746\n",
      "Validation: {'precision': 0.6546860782499787, 'recall': 0.5687747035550642, 'f1': 0.6087140390153112, 'auc': 0.7695236003931657, 'prauc': 0.6688350531464393}\n",
      "Test:       {'precision': 0.6534329752421606, 'recall': 0.5527459502151215, 'f1': 0.5988869813336475, 'auc': 0.7660712440060766, 'prauc': 0.6540525510074929}\n"
     ]
    },
    {
     "name": "stderr",
     "output_type": "stream",
     "text": [
      "Training Batches: 100%|██████████| 1/1 [00:00<00:00,  1.41it/s]\n",
      "Running inference: 100%|██████████| 1/1 [00:02<00:00,  2.38s/it]\n",
      "Running inference: 100%|██████████| 1/1 [00:02<00:00,  2.11s/it]\n"
     ]
    },
    {
     "name": "stdout",
     "output_type": "stream",
     "text": [
      "Epoch: 012, Average Loss: 0.5726\n",
      "Validation: {'precision': 0.6591432519545871, 'recall': 0.5656126482191083, 'f1': 0.6088066319123383, 'auc': 0.7698365644017817, 'prauc': 0.6692241028103592}\n",
      "Test:       {'precision': 0.6556134533365438, 'recall': 0.5468194389547736, 'f1': 0.5962946955984659, 'auc': 0.7665661409442603, 'prauc': 0.6541580847509196}\n"
     ]
    },
    {
     "name": "stderr",
     "output_type": "stream",
     "text": [
      "Training Batches: 100%|██████████| 1/1 [00:00<00:00,  1.48it/s]\n",
      "Running inference: 100%|██████████| 1/1 [00:02<00:00,  2.28s/it]\n",
      "Running inference: 100%|██████████| 1/1 [00:02<00:00,  2.33s/it]\n"
     ]
    },
    {
     "name": "stdout",
     "output_type": "stream",
     "text": [
      "Epoch: 013, Average Loss: 0.5689\n",
      "Validation: {'precision': 0.6598130841090664, 'recall': 0.5581027667962131, 'f1': 0.6047109158031594, 'auc': 0.7702475061170714, 'prauc': 0.6693465799601103}\n",
      "Test:       {'precision': 0.6560232220577842, 'recall': 0.5357566179354574, 'f1': 0.5898216566403487, 'auc': 0.7670716143933958, 'prauc': 0.6540949459075667}\n"
     ]
    },
    {
     "name": "stderr",
     "output_type": "stream",
     "text": [
      "Training Batches: 100%|██████████| 1/1 [00:00<00:00,  1.02it/s]\n",
      "Running inference: 100%|██████████| 1/1 [00:02<00:00,  2.32s/it]\n",
      "Running inference: 100%|██████████| 1/1 [00:02<00:00,  2.37s/it]\n"
     ]
    },
    {
     "name": "stdout",
     "output_type": "stream",
     "text": [
      "Epoch: 014, Average Loss: 0.5674\n",
      "Validation: {'precision': 0.6602079395053866, 'recall': 0.5521739130412958, 'f1': 0.601377524094367, 'auc': 0.7705941401593576, 'prauc': 0.6695388948625132}\n",
      "Test:       {'precision': 0.6581907090432363, 'recall': 0.5318056104285587, 'f1': 0.588286708340541, 'auc': 0.7674657726827153, 'prauc': 0.6539875933099121}\n"
     ]
    },
    {
     "name": "stderr",
     "output_type": "stream",
     "text": [
      "Training Batches: 100%|██████████| 1/1 [00:00<00:00,  1.42it/s]\n",
      "Running inference: 100%|██████████| 1/1 [00:02<00:00,  2.30s/it]\n",
      "Running inference: 100%|██████████| 1/1 [00:02<00:00,  2.37s/it]\n"
     ]
    },
    {
     "name": "stdout",
     "output_type": "stream",
     "text": [
      "Epoch: 015, Average Loss: 0.5673\n",
      "Validation: {'precision': 0.6593457943894423, 'recall': 0.5577075098792186, 'f1': 0.6042826502785359, 'auc': 0.7706680678419809, 'prauc': 0.6695488169389696}\n",
      "Test:       {'precision': 0.6580989330714933, 'recall': 0.5361517186861472, 'f1': 0.5908991894758621, 'auc': 0.7676776694145, 'prauc': 0.6539459286431578}\n"
     ]
    },
    {
     "name": "stderr",
     "output_type": "stream",
     "text": [
      "Training Batches: 100%|██████████| 1/1 [00:00<00:00,  1.42it/s]\n",
      "Running inference: 100%|██████████| 1/1 [00:02<00:00,  2.36s/it]\n",
      "Running inference: 100%|██████████| 1/1 [00:02<00:00,  2.06s/it]\n"
     ]
    },
    {
     "name": "stdout",
     "output_type": "stream",
     "text": [
      "Epoch: 016, Average Loss: 0.5657\n",
      "Validation: {'precision': 0.657287822875197, 'recall': 0.5632411067171413, 'f1': 0.6066411189096074, 'auc': 0.7709633603111864, 'prauc': 0.6692646102756018}\n",
      "Test:       {'precision': 0.6569097888644102, 'recall': 0.5408929276944255, 'f1': 0.5932827686088001, 'auc': 0.768071461191064, 'prauc': 0.654387080454288}\n"
     ]
    },
    {
     "name": "stderr",
     "output_type": "stream",
     "text": [
      "Training Batches: 100%|██████████| 1/1 [00:00<00:00,  1.40it/s]\n",
      "Running inference: 100%|██████████| 1/1 [00:02<00:00,  2.33s/it]\n",
      "Running inference: 100%|██████████| 1/1 [00:02<00:00,  2.34s/it]\n"
     ]
    },
    {
     "name": "stdout",
     "output_type": "stream",
     "text": [
      "Epoch: 017, Average Loss: 0.5638\n",
      "Validation: {'precision': 0.6552978626618677, 'recall': 0.5695652173890531, 'f1': 0.6094311644023369, 'auc': 0.7715468348077044, 'prauc': 0.6696663474042706}\n",
      "Test:       {'precision': 0.6568859441521208, 'recall': 0.548399841957533, 'f1': 0.5977605462868568, 'auc': 0.7686672014960421, 'prauc': 0.6549137209675809}\n"
     ]
    },
    {
     "name": "stderr",
     "output_type": "stream",
     "text": [
      "Training Batches: 100%|██████████| 1/1 [00:00<00:00,  1.01it/s]\n",
      "Running inference: 100%|██████████| 1/1 [00:02<00:00,  2.34s/it]\n",
      "Running inference: 100%|██████████| 1/1 [00:02<00:00,  2.36s/it]\n"
     ]
    },
    {
     "name": "stdout",
     "output_type": "stream",
     "text": [
      "Epoch: 018, Average Loss: 0.5624\n",
      "Validation: {'precision': 0.6559529198702764, 'recall': 0.572727272725009, 'f1': 0.6115214130410395, 'auc': 0.7722898237028671, 'prauc': 0.6701091481311461}\n",
      "Test:       {'precision': 0.6564417177883132, 'recall': 0.5495851442096026, 'f1': 0.5982795649291517, 'auc': 0.7693088082544537, 'prauc': 0.6553821512518448}\n"
     ]
    },
    {
     "name": "stderr",
     "output_type": "stream",
     "text": [
      "Training Batches: 100%|██████████| 1/1 [00:00<00:00,  1.41it/s]\n",
      "Running inference: 100%|██████████| 1/1 [00:02<00:00,  2.38s/it]\n",
      "Running inference: 100%|██████████| 1/1 [00:02<00:00,  2.40s/it]\n"
     ]
    },
    {
     "name": "stdout",
     "output_type": "stream",
     "text": [
      "Epoch: 019, Average Loss: 0.5592\n",
      "Validation: {'precision': 0.6551569506697078, 'recall': 0.5774703557289428, 'f1': 0.6138655412357691, 'auc': 0.77262772654077, 'prauc': 0.6702595685847116}\n",
      "Test:       {'precision': 0.6557223264509582, 'recall': 0.5523508494644317, 'f1': 0.5996139774487915, 'auc': 0.7696165742513479, 'prauc': 0.6558162047062706}\n"
     ]
    },
    {
     "name": "stderr",
     "output_type": "stream",
     "text": [
      "Training Batches: 100%|██████████| 1/1 [00:00<00:00,  1.42it/s]\n",
      "Running inference: 100%|██████████| 1/1 [00:02<00:00,  2.41s/it]\n",
      "Running inference: 100%|██████████| 1/1 [00:02<00:00,  2.10s/it]\n"
     ]
    },
    {
     "name": "stdout",
     "output_type": "stream",
     "text": [
      "Epoch: 020, Average Loss: 0.5603\n",
      "Validation: {'precision': 0.6534216335511991, 'recall': 0.584980237151838, 'f1': 0.6173096926143653, 'auc': 0.7729755630842587, 'prauc': 0.6701268084969239}\n",
      "Test:       {'precision': 0.6552363299320888, 'recall': 0.5586724614754696, 'f1': 0.6031136653212402, 'auc': 0.7699539754224923, 'prauc': 0.6562912887789422}\n"
     ]
    },
    {
     "name": "stderr",
     "output_type": "stream",
     "text": [
      "Training Batches: 100%|██████████| 1/1 [00:00<00:00,  1.42it/s]\n",
      "Running inference: 100%|██████████| 1/1 [00:02<00:00,  2.35s/it]\n",
      "Running inference: 100%|██████████| 1/1 [00:02<00:00,  2.39s/it]\n"
     ]
    },
    {
     "name": "stdout",
     "output_type": "stream",
     "text": [
      "Epoch: 021, Average Loss: 0.5577\n",
      "Validation: {'precision': 0.6493506493478384, 'recall': 0.5928853754917277, 'f1': 0.619834705751571, 'auc': 0.7732075935336805, 'prauc': 0.6702567751152484}\n",
      "Test:       {'precision': 0.6520747833987594, 'recall': 0.5649940734865073, 'f1': 0.6054191313481818, 'auc': 0.7701617357960338, 'prauc': 0.6564647583895223}\n"
     ]
    },
    {
     "name": "stderr",
     "output_type": "stream",
     "text": [
      "Training Batches: 100%|██████████| 1/1 [00:01<00:00,  1.01s/it]\n",
      "Running inference: 100%|██████████| 1/1 [00:02<00:00,  2.34s/it]\n",
      "Running inference: 100%|██████████| 1/1 [00:02<00:00,  2.39s/it]\n"
     ]
    },
    {
     "name": "stdout",
     "output_type": "stream",
     "text": [
      "Epoch: 022, Average Loss: 0.5573\n",
      "Validation: {'precision': 0.6494178525198386, 'recall': 0.5952569169936947, 'f1': 0.6211589968629584, 'auc': 0.7738264633916808, 'prauc': 0.6706309134979316}\n",
      "Test:       {'precision': 0.6528850522460115, 'recall': 0.5677597787413364, 'f1': 0.6073541792990111, 'auc': 0.7705851103878825, 'prauc': 0.6568420094708116}\n"
     ]
    },
    {
     "name": "stderr",
     "output_type": "stream",
     "text": [
      "Training Batches: 100%|██████████| 1/1 [00:00<00:00,  1.41it/s]\n",
      "Running inference: 100%|██████████| 1/1 [00:02<00:00,  2.34s/it]\n",
      "Running inference: 100%|██████████| 1/1 [00:02<00:00,  2.39s/it]\n"
     ]
    },
    {
     "name": "stdout",
     "output_type": "stream",
     "text": [
      "Epoch: 023, Average Loss: 0.5553\n",
      "Validation: {'precision': 0.6476883561616109, 'recall': 0.5980237154126561, 'f1': 0.6218660040477261, 'auc': 0.7738880523663132, 'prauc': 0.6704937672113843}\n",
      "Test:       {'precision': 0.6533756230147106, 'recall': 0.5697352824947858, 'f1': 0.6086956471947251, 'auc': 0.7706068917173668, 'prauc': 0.6568392687343492}\n"
     ]
    },
    {
     "name": "stderr",
     "output_type": "stream",
     "text": [
      "Training Batches: 100%|██████████| 1/1 [00:00<00:00,  1.41it/s]\n",
      "Running inference: 100%|██████████| 1/1 [00:02<00:00,  2.38s/it]\n",
      "Running inference: 100%|██████████| 1/1 [00:02<00:00,  2.05s/it]\n"
     ]
    },
    {
     "name": "stdout",
     "output_type": "stream",
     "text": [
      "Epoch: 024, Average Loss: 0.5572\n",
      "Validation: {'precision': 0.6460251045998074, 'recall': 0.6102766798394851, 'f1': 0.6276422714242614, 'auc': 0.7726464437334003, 'prauc': 0.6693259658812397}\n",
      "Test:       {'precision': 0.6479681978769967, 'recall': 0.5796128012620324, 'f1': 0.6118873777032534, 'auc': 0.7698120826270545, 'prauc': 0.6560195027177365}\n"
     ]
    },
    {
     "name": "stderr",
     "output_type": "stream",
     "text": [
      "Training Batches: 100%|██████████| 1/1 [00:01<00:00,  1.01s/it]\n",
      "Running inference: 100%|██████████| 1/1 [00:02<00:00,  2.03s/it]\n",
      "Running inference: 100%|██████████| 1/1 [00:02<00:00,  2.31s/it]\n"
     ]
    },
    {
     "name": "stdout",
     "output_type": "stream",
     "text": [
      "Epoch: 025, Average Loss: 0.5540\n",
      "Validation: {'precision': 0.6471593336153475, 'recall': 0.5988142292466451, 'f1': 0.6220488556085458, 'auc': 0.7722345609302131, 'prauc': 0.669340872430835}\n",
      "Test:       {'precision': 0.6496613995455998, 'recall': 0.5685499802427162, 'f1': 0.6064053890356242, 'auc': 0.7693902788041588, 'prauc': 0.6554187426047364}\n"
     ]
    },
    {
     "name": "stderr",
     "output_type": "stream",
     "text": [
      "Training Batches: 100%|██████████| 1/1 [00:01<00:00,  1.31s/it]\n",
      "Running inference: 100%|██████████| 1/1 [00:02<00:00,  2.04s/it]\n",
      "Running inference: 100%|██████████| 1/1 [00:02<00:00,  2.33s/it]\n"
     ]
    },
    {
     "name": "stdout",
     "output_type": "stream",
     "text": [
      "Epoch: 026, Average Loss: 0.5520\n",
      "Validation: {'precision': 0.6487783595085133, 'recall': 0.5877470355707994, 'f1': 0.6167565275687268, 'auc': 0.7721733902168685, 'prauc': 0.6695248525748312}\n",
      "Test:       {'precision': 0.6510344827556275, 'recall': 0.5594626629768492, 'f1': 0.6017849504021713, 'auc': 0.7692344585240029, 'prauc': 0.6551431350919602}\n"
     ]
    },
    {
     "name": "stderr",
     "output_type": "stream",
     "text": [
      "Training Batches: 100%|██████████| 1/1 [00:01<00:00,  1.02s/it]\n",
      "Running inference: 100%|██████████| 1/1 [00:02<00:00,  2.34s/it]\n",
      "Running inference: 100%|██████████| 1/1 [00:02<00:00,  2.03s/it]\n"
     ]
    },
    {
     "name": "stdout",
     "output_type": "stream",
     "text": [
      "Epoch: 027, Average Loss: 0.5530\n",
      "Validation: {'precision': 0.6472803347253252, 'recall': 0.6114624505904686, 'f1': 0.6288617836193785, 'auc': 0.7718229918229917, 'prauc': 0.6689989726495679}\n",
      "Test:       {'precision': 0.6464601769882901, 'recall': 0.5772421967578932, 'f1': 0.609893545420465, 'auc': 0.7690833505507064, 'prauc': 0.6552003784632577}\n"
     ]
    },
    {
     "name": "stderr",
     "output_type": "stream",
     "text": [
      "Training Batches: 100%|██████████| 1/1 [00:01<00:00,  1.31s/it]\n",
      "Running inference: 100%|██████████| 1/1 [00:02<00:00,  2.07s/it]\n",
      "Running inference: 100%|██████████| 1/1 [00:02<00:00,  2.37s/it]\n"
     ]
    },
    {
     "name": "stdout",
     "output_type": "stream",
     "text": [
      "Epoch: 028, Average Loss: 0.5490\n",
      "Validation: {'precision': 0.6445709638038042, 'recall': 0.626482213436259, 'f1': 0.635397870324182, 'auc': 0.7715619967793881, 'prauc': 0.6681645015832881}\n",
      "Test:       {'precision': 0.6472366148504005, 'recall': 0.592256025284108, 'f1': 0.618526918877721, 'auc': 0.7690253368173686, 'prauc': 0.6552887995142314}\n"
     ]
    },
    {
     "name": "stderr",
     "output_type": "stream",
     "text": [
      "Training Batches: 100%|██████████| 1/1 [00:01<00:00,  1.01s/it]\n",
      "Running inference: 100%|██████████| 1/1 [00:02<00:00,  2.32s/it]\n",
      "Running inference: 100%|██████████| 1/1 [00:02<00:00,  2.35s/it]\n"
     ]
    },
    {
     "name": "stdout",
     "output_type": "stream",
     "text": [
      "Epoch: 029, Average Loss: 0.5477\n",
      "Validation: {'precision': 0.6450040617358043, 'recall': 0.6276679841872425, 'f1': 0.6362179437163277, 'auc': 0.7720142417968504, 'prauc': 0.6685421351246765}\n",
      "Test:       {'precision': 0.6476976542109136, 'recall': 0.5890952192785891, 'f1': 0.6170080645307082, 'auc': 0.7694427424871955, 'prauc': 0.655830967914167}\n"
     ]
    },
    {
     "name": "stderr",
     "output_type": "stream",
     "text": [
      "Training Batches: 100%|██████████| 1/1 [00:01<00:00,  1.02s/it]\n",
      "Running inference: 100%|██████████| 1/1 [00:02<00:00,  2.04s/it]\n",
      "Running inference: 100%|██████████| 1/1 [00:02<00:00,  2.34s/it]\n"
     ]
    },
    {
     "name": "stdout",
     "output_type": "stream",
     "text": [
      "Epoch: 030, Average Loss: 0.5467\n",
      "Validation: {'precision': 0.6457641195986472, 'recall': 0.6146245059264245, 'f1': 0.6298096345306755, 'auc': 0.7726757220235481, 'prauc': 0.669539582749921}\n",
      "Test:       {'precision': 0.6516157591825958, 'recall': 0.5815883050154816, 'f1': 0.6146137737191933, 'auc': 0.7698121873449847, 'prauc': 0.6560853938550615}\n"
     ]
    },
    {
     "name": "stderr",
     "output_type": "stream",
     "text": [
      "Training Batches: 100%|██████████| 1/1 [00:01<00:00,  1.32s/it]\n",
      "Running inference: 100%|██████████| 1/1 [00:02<00:00,  2.07s/it]\n",
      "Running inference: 100%|██████████| 1/1 [00:02<00:00,  2.35s/it]\n"
     ]
    },
    {
     "name": "stdout",
     "output_type": "stream",
     "text": [
      "Epoch: 031, Average Loss: 0.5502\n",
      "Validation: {'precision': 0.645756457561928, 'recall': 0.6225296442663142, 'f1': 0.6339303632824824, 'auc': 0.7718356965096095, 'prauc': 0.6687108240340458}\n",
      "Test:       {'precision': 0.6487314085710905, 'recall': 0.5859344132730702, 'f1': 0.6157359302397739, 'auc': 0.7693328410194374, 'prauc': 0.6557340693514742}\n"
     ]
    },
    {
     "name": "stderr",
     "output_type": "stream",
     "text": [
      "Training Batches: 100%|██████████| 1/1 [00:01<00:00,  1.01s/it]\n",
      "Running inference: 100%|██████████| 1/1 [00:02<00:00,  2.33s/it]\n",
      "Running inference: 100%|██████████| 1/1 [00:02<00:00,  2.03s/it]\n"
     ]
    },
    {
     "name": "stdout",
     "output_type": "stream",
     "text": [
      "Epoch: 032, Average Loss: 0.5454\n",
      "Validation: {'precision': 0.6409036860854502, 'recall': 0.6391304347800825, 'f1': 0.6400158271763801, 'auc': 0.7703847481021393, 'prauc': 0.6669028427417454}\n",
      "Test:       {'precision': 0.6437263952973407, 'recall': 0.6060845515582534, 'f1': 0.6243386193406189, 'auc': 0.768417658668346, 'prauc': 0.6548703853910685}\n"
     ]
    },
    {
     "name": "stderr",
     "output_type": "stream",
     "text": [
      "Training Batches: 100%|██████████| 1/1 [00:01<00:00,  1.31s/it]\n",
      "Running inference: 100%|██████████| 1/1 [00:02<00:00,  2.04s/it]\n",
      "Running inference: 100%|██████████| 1/1 [00:02<00:00,  2.34s/it]\n"
     ]
    },
    {
     "name": "stdout",
     "output_type": "stream",
     "text": [
      "Epoch: 033, Average Loss: 0.5439\n",
      "Validation: {'precision': 0.6404809619212807, 'recall': 0.6316205533571873, 'f1': 0.6360198954952236, 'auc': 0.7698784428132255, 'prauc': 0.6667348323846213}\n",
      "Test:       {'precision': 0.6424319727863842, 'recall': 0.5969972342923865, 'f1': 0.6188818299417227, 'auc': 0.7680083162791457, 'prauc': 0.6543342734017206}\n"
     ]
    },
    {
     "name": "stderr",
     "output_type": "stream",
     "text": [
      "Training Batches: 100%|██████████| 1/1 [00:00<00:00,  1.01it/s]\n",
      "Running inference: 100%|██████████| 1/1 [00:02<00:00,  2.33s/it]\n",
      "Running inference: 100%|██████████| 1/1 [00:02<00:00,  2.38s/it]\n"
     ]
    },
    {
     "name": "stdout",
     "output_type": "stream",
     "text": [
      "Epoch: 034, Average Loss: 0.5412\n",
      "Validation: {'precision': 0.6425636811805976, 'recall': 0.6181818181793748, 'f1': 0.6301369813007011, 'auc': 0.7703960934395716, 'prauc': 0.6676160016675747}\n",
      "Test:       {'precision': 0.6481726111816462, 'recall': 0.5815883050154816, 'f1': 0.6130778792270151, 'auc': 0.7684060349780926, 'prauc': 0.6539610804546505}\n"
     ]
    },
    {
     "name": "stderr",
     "output_type": "stream",
     "text": [
      "Training Batches: 100%|██████████| 1/1 [00:01<00:00,  1.01s/it]\n",
      "Running inference: 100%|██████████| 1/1 [00:02<00:00,  2.02s/it]\n",
      "Running inference: 100%|██████████| 1/1 [00:02<00:00,  2.33s/it]\n"
     ]
    },
    {
     "name": "stdout",
     "output_type": "stream",
     "text": [
      "Epoch: 035, Average Loss: 0.5428\n",
      "Validation: {'precision': 0.6423061307322684, 'recall': 0.6252964426852755, 'f1': 0.6336871570251997, 'auc': 0.7711123658949746, 'prauc': 0.6676900615209302}\n",
      "Test:       {'precision': 0.6489778164391085, 'recall': 0.589490320029279, 'f1': 0.6178053780317523, 'auc': 0.7690214098949857, 'prauc': 0.6544653160600087}\n"
     ]
    },
    {
     "name": "stderr",
     "output_type": "stream",
     "text": [
      "Training Batches: 100%|██████████| 1/1 [00:01<00:00,  1.31s/it]\n",
      "Running inference: 100%|██████████| 1/1 [00:02<00:00,  2.03s/it]\n",
      "Running inference: 100%|██████████| 1/1 [00:02<00:00,  2.33s/it]\n"
     ]
    },
    {
     "name": "stdout",
     "output_type": "stream",
     "text": [
      "Epoch: 036, Average Loss: 0.5372\n",
      "Validation: {'precision': 0.6356648731720382, 'recall': 0.6537549407088785, 'f1': 0.6445830035721277, 'auc': 0.7709272852751115, 'prauc': 0.666038829706171}\n",
      "Test:       {'precision': 0.6412776412750153, 'recall': 0.618727775580329, 'f1': 0.6298009199940415, 'auc': 0.7691986449918702, 'prauc': 0.6549341193040841}\n"
     ]
    },
    {
     "name": "stderr",
     "output_type": "stream",
     "text": [
      "Training Batches: 100%|██████████| 1/1 [00:01<00:00,  1.01s/it]\n",
      "Running inference: 100%|██████████| 1/1 [00:02<00:00,  2.38s/it]\n",
      "Running inference: 100%|██████████| 1/1 [00:02<00:00,  2.07s/it]\n"
     ]
    },
    {
     "name": "stdout",
     "output_type": "stream",
     "text": [
      "Epoch: 037, Average Loss: 0.5350\n",
      "Validation: {'precision': 0.6300298062569671, 'recall': 0.6683794466376745, 'f1': 0.6486382765515478, 'auc': 0.7704224439007047, 'prauc': 0.6634972900294028}\n",
      "Test:       {'precision': 0.640680648988363, 'recall': 0.6396681153668919, 'f1': 0.6401739768084644, 'auc': 0.7690646584001635, 'prauc': 0.6544859869282182}\n"
     ]
    },
    {
     "name": "stderr",
     "output_type": "stream",
     "text": [
      "Training Batches: 100%|██████████| 1/1 [00:01<00:00,  1.30s/it]\n",
      "Running inference: 100%|██████████| 1/1 [00:02<00:00,  2.04s/it]\n",
      "Running inference: 100%|██████████| 1/1 [00:02<00:00,  2.37s/it]\n"
     ]
    },
    {
     "name": "stdout",
     "output_type": "stream",
     "text": [
      "Epoch: 038, Average Loss: 0.5359\n",
      "Validation: {'precision': 0.6351246105894272, 'recall': 0.6446640316180053, 'f1': 0.6398587631421381, 'auc': 0.7715029173724826, 'prauc': 0.6651127573530059}\n",
      "Test:       {'precision': 0.6478696741827574, 'recall': 0.612801264319981, 'f1': 0.629847710737352, 'auc': 0.7693457736838187, 'prauc': 0.6544927955860561}\n"
     ]
    },
    {
     "name": "stderr",
     "output_type": "stream",
     "text": [
      "Training Batches: 100%|██████████| 1/1 [00:00<00:00,  1.02it/s]\n",
      "Running inference: 100%|██████████| 1/1 [00:02<00:00,  2.29s/it]\n",
      "Running inference: 100%|██████████| 1/1 [00:02<00:00,  2.35s/it]\n"
     ]
    },
    {
     "name": "stdout",
     "output_type": "stream",
     "text": [
      "Epoch: 039, Average Loss: 0.5312\n",
      "Validation: {'precision': 0.6420361247921099, 'recall': 0.6181818181793748, 'f1': 0.629883200798691, 'auc': 0.7716985590898633, 'prauc': 0.6658138819781607}\n",
      "Test:       {'precision': 0.6514412416822553, 'recall': 0.5804030027634121, 'f1': 0.6138737935932521, 'auc': 0.7687373625092846, 'prauc': 0.6528286631615514}\n"
     ]
    },
    {
     "name": "stderr",
     "output_type": "stream",
     "text": [
      "Training Batches: 100%|██████████| 1/1 [00:01<00:00,  1.01s/it]\n",
      "Running inference: 100%|██████████| 1/1 [00:02<00:00,  2.05s/it]\n",
      "Running inference: 100%|██████████| 1/1 [00:02<00:00,  2.37s/it]\n"
     ]
    },
    {
     "name": "stdout",
     "output_type": "stream",
     "text": [
      "Epoch: 040, Average Loss: 0.5354\n",
      "Validation: {'precision': 0.6359034267888011, 'recall': 0.6454545454519943, 'f1': 0.6406433845622999, 'auc': 0.7699456783152434, 'prauc': 0.6619373853332233}\n",
      "Test:       {'precision': 0.6494542401316145, 'recall': 0.6112208613172216, 'f1': 0.6297577804691634, 'auc': 0.7681579582014193, 'prauc': 0.6514834916783308}\n"
     ]
    },
    {
     "name": "stderr",
     "output_type": "stream",
     "text": [
      "Training Batches: 100%|██████████| 1/1 [00:00<00:00,  1.00it/s]\n",
      "Running inference: 100%|██████████| 1/1 [00:02<00:00,  2.36s/it]\n",
      "Running inference: 100%|██████████| 1/1 [00:02<00:00,  2.09s/it]\n"
     ]
    },
    {
     "name": "stdout",
     "output_type": "stream",
     "text": [
      "Epoch: 041, Average Loss: 0.5294\n",
      "Validation: {'precision': 0.6329787234018505, 'recall': 0.6584980237128123, 'f1': 0.6454862406406757, 'auc': 0.769686513164774, 'prauc': 0.6599795150728047}\n",
      "Test:       {'precision': 0.6466074313382609, 'recall': 0.6325563018544743, 'f1': 0.6395046884272482, 'auc': 0.7685697091030146, 'prauc': 0.6516207914433071}\n"
     ]
    },
    {
     "name": "stderr",
     "output_type": "stream",
     "text": [
      "Training Batches: 100%|██████████| 1/1 [00:01<00:00,  1.60s/it]\n",
      "Running inference: 100%|██████████| 1/1 [00:02<00:00,  2.10s/it]\n",
      "Running inference: 100%|██████████| 1/1 [00:02<00:00,  2.05s/it]\n"
     ]
    },
    {
     "name": "stdout",
     "output_type": "stream",
     "text": [
      "Epoch: 042, Average Loss: 0.5261\n",
      "Validation: {'precision': 0.6296985485648318, 'recall': 0.668774703554669, 'f1': 0.6486486436506902, 'auc': 0.7702680009201748, 'prauc': 0.6593745162046587}\n",
      "Test:       {'precision': 0.6430830039500274, 'recall': 0.6428289213724108, 'f1': 0.642955932559206, 'auc': 0.7692474435473493, 'prauc': 0.6523881046402659}\n"
     ]
    },
    {
     "name": "stderr",
     "output_type": "stream",
     "text": [
      "Training Batches: 100%|██████████| 1/1 [00:01<00:00,  1.02s/it]\n",
      "Running inference: 100%|██████████| 1/1 [00:02<00:00,  2.05s/it]\n",
      "Running inference: 100%|██████████| 1/1 [00:02<00:00,  2.33s/it]\n"
     ]
    },
    {
     "name": "stdout",
     "output_type": "stream",
     "text": [
      "Epoch: 043, Average Loss: 0.5288\n",
      "Validation: {'precision': 0.6337811900167609, 'recall': 0.652569169957895, 'f1': 0.6430379696821065, 'auc': 0.7726401698140828, 'prauc': 0.6621963601983264}\n",
      "Test:       {'precision': 0.6530278232379173, 'recall': 0.630580798101025, 'f1': 0.6416080351999549, 'auc': 0.7712541532440096, 'prauc': 0.6542590026383095}\n"
     ]
    },
    {
     "name": "stderr",
     "output_type": "stream",
     "text": [
      "Training Batches: 100%|██████████| 1/1 [00:01<00:00,  1.34s/it]\n",
      "Running inference: 100%|██████████| 1/1 [00:02<00:00,  2.07s/it]\n",
      "Running inference: 100%|██████████| 1/1 [00:02<00:00,  2.06s/it]\n"
     ]
    },
    {
     "name": "stdout",
     "output_type": "stream",
     "text": [
      "Epoch: 044, Average Loss: 0.5239\n",
      "Validation: {'precision': 0.643201930809963, 'recall': 0.6320158102741817, 'f1': 0.637559803610283, 'auc': 0.7741004245352071, 'prauc': 0.6636917368135904}\n",
      "Test:       {'precision': 0.6619047619018965, 'recall': 0.604109047804804, 'f1': 0.6316876628450345, 'auc': 0.7718002572500675, 'prauc': 0.6534326295637651}\n"
     ]
    },
    {
     "name": "stderr",
     "output_type": "stream",
     "text": [
      "Training Batches: 100%|██████████| 1/1 [00:01<00:00,  1.28s/it]\n",
      "Running inference: 100%|██████████| 1/1 [00:02<00:00,  2.09s/it]\n",
      "Running inference: 100%|██████████| 1/1 [00:02<00:00,  2.08s/it]\n"
     ]
    },
    {
     "name": "stdout",
     "output_type": "stream",
     "text": [
      "Epoch: 045, Average Loss: 0.5243\n",
      "Validation: {'precision': 0.6453753629172735, 'recall': 0.615019762843419, 'f1': 0.6298320128105108, 'auc': 0.7738640023422632, 'prauc': 0.6583054995267285}\n",
      "Test:       {'precision': 0.6592328278293522, 'recall': 0.5839589095196209, 'f1': 0.6193169864257506, 'auc': 0.7712548862695213, 'prauc': 0.6491578778011475}\n"
     ]
    },
    {
     "name": "stderr",
     "output_type": "stream",
     "text": [
      "Training Batches: 100%|██████████| 1/1 [00:01<00:00,  1.01s/it]\n",
      "Running inference: 100%|██████████| 1/1 [00:02<00:00,  2.41s/it]\n",
      "Running inference: 100%|██████████| 1/1 [00:01<00:00,  1.76s/it]\n"
     ]
    },
    {
     "name": "stdout",
     "output_type": "stream",
     "text": [
      "Epoch: 046, Average Loss: 0.5306\n",
      "Validation: {'precision': 0.649183147030743, 'recall': 0.5968379446616726, 'f1': 0.6219110328975312, 'auc': 0.7735485287659201, 'prauc': 0.6611705646205481}\n",
      "Test:       {'precision': 0.6666666666635717, 'recall': 0.5673646779906465, 'f1': 0.6130202725110833, 'auc': 0.7703546262234849, 'prauc': 0.6484974087032953}\n"
     ]
    },
    {
     "name": "stderr",
     "output_type": "stream",
     "text": [
      "Training Batches: 100%|██████████| 1/1 [00:01<00:00,  1.32s/it]\n",
      "Running inference: 100%|██████████| 1/1 [00:02<00:00,  2.41s/it]\n",
      "Running inference: 100%|██████████| 1/1 [00:01<00:00,  1.77s/it]\n"
     ]
    },
    {
     "name": "stdout",
     "output_type": "stream",
     "text": [
      "Epoch: 047, Average Loss: 0.5241\n",
      "Validation: {'precision': 0.6404675534033033, 'recall': 0.628063241104237, 'f1': 0.6342047445489347, 'auc': 0.7703956751782839, 'prauc': 0.6596966139434591}\n",
      "Test:       {'precision': 0.652531371697739, 'recall': 0.5958119320403168, 'f1': 0.6228831011622309, 'auc': 0.76756179902472, 'prauc': 0.6476630033777543}\n"
     ]
    },
    {
     "name": "stderr",
     "output_type": "stream",
     "text": [
      "Training Batches: 100%|██████████| 1/1 [00:01<00:00,  1.35s/it]\n",
      "Running inference: 100%|██████████| 1/1 [00:02<00:00,  2.08s/it]\n",
      "Running inference: 100%|██████████| 1/1 [00:02<00:00,  2.40s/it]\n"
     ]
    },
    {
     "name": "stdout",
     "output_type": "stream",
     "text": [
      "Epoch: 048, Average Loss: 0.5160\n",
      "Validation: {'precision': 0.6253720238071973, 'recall': 0.6644268774677295, 'f1': 0.6443081590496426, 'auc': 0.7667016960495222, 'prauc': 0.6518113001386178}\n",
      "Test:       {'precision': 0.6350450803581535, 'recall': 0.6400632161175818, 'f1': 0.6375442689054787, 'auc': 0.7646470801551878, 'prauc': 0.6441854235900148}\n"
     ]
    },
    {
     "name": "stderr",
     "output_type": "stream",
     "text": [
      "Training Batches: 100%|██████████| 1/1 [00:00<00:00,  1.41it/s]\n",
      "Running inference: 100%|██████████| 1/1 [00:02<00:00,  2.36s/it]\n",
      "Running inference: 100%|██████████| 1/1 [00:02<00:00,  2.38s/it]\n"
     ]
    },
    {
     "name": "stdout",
     "output_type": "stream",
     "text": [
      "Epoch: 049, Average Loss: 0.5168\n",
      "Validation: {'precision': 0.6151655393356527, 'recall': 0.6830039525664704, 'f1': 0.6473122257660522, 'auc': 0.763864734299517, 'prauc': 0.6440486744683873}\n",
      "Test:       {'precision': 0.6283252154341389, 'recall': 0.6625839589069041, 'f1': 0.6449999950010408, 'auc': 0.7625743981624935, 'prauc': 0.6391140357125272}\n"
     ]
    },
    {
     "name": "stderr",
     "output_type": "stream",
     "text": [
      "Training Batches: 100%|██████████| 1/1 [00:01<00:00,  1.03s/it]\n",
      "Running inference: 100%|██████████| 1/1 [00:02<00:00,  2.33s/it]\n",
      "Running inference: 100%|██████████| 1/1 [00:02<00:00,  2.37s/it]\n"
     ]
    },
    {
     "name": "stdout",
     "output_type": "stream",
     "text": [
      "Epoch: 050, Average Loss: 0.5129\n",
      "Validation: {'precision': 0.6196207148044507, 'recall': 0.6715415019736303, 'f1': 0.64453717254737, 'auc': 0.7638661982140244, 'prauc': 0.642179746847602}\n",
      "Test:       {'precision': 0.6336939721768404, 'recall': 0.647965231131379, 'f1': 0.6407501415111074, 'auc': 0.7632324456359484, 'prauc': 0.6369809235309493}\n"
     ]
    },
    {
     "name": "stderr",
     "output_type": "stream",
     "text": [
      "Training Batches: 100%|██████████| 1/1 [00:00<00:00,  1.39it/s]\n",
      "Running inference: 100%|██████████| 1/1 [00:02<00:00,  2.38s/it]\n",
      "Running inference: 100%|██████████| 1/1 [00:02<00:00,  2.07s/it]\n"
     ]
    },
    {
     "name": "stdout",
     "output_type": "stream",
     "text": [
      "Epoch: 051, Average Loss: 0.5135\n",
      "Validation: {'precision': 0.6344554455420418, 'recall': 0.6332015810251652, 'f1': 0.6338278881725715, 'auc': 0.7645528786833136, 'prauc': 0.6428580137119208}\n",
      "Test:       {'precision': 0.6479352916106942, 'recall': 0.601343342549975, 'f1': 0.623770486807677, 'auc': 0.7636631504829119, 'prauc': 0.6351752077547136}\n"
     ]
    },
    {
     "name": "stderr",
     "output_type": "stream",
     "text": [
      "Training Batches: 100%|██████████| 1/1 [00:01<00:00,  1.02s/it]\n",
      "Running inference: 100%|██████████| 1/1 [00:02<00:00,  2.06s/it]\n",
      "Running inference: 100%|██████████| 1/1 [00:02<00:00,  2.37s/it]\n"
     ]
    },
    {
     "name": "stdout",
     "output_type": "stream",
     "text": [
      "Epoch: 052, Average Loss: 0.5102\n",
      "Validation: {'precision': 0.6339105920232223, 'recall': 0.6221343873493197, 'f1': 0.6279672800567814, 'auc': 0.7648382374469331, 'prauc': 0.6374779807670913}\n",
      "Test:       {'precision': 0.6523623753764527, 'recall': 0.5946266297882472, 'f1': 0.6221579115025658, 'auc': 0.7645629916572272, 'prauc': 0.6329652926787674}\n",
      "\n",
      "Early stopping triggered after 52 epochs (no improvement for 10 epochs).\n",
      "\n",
      "Best validation performance:\n",
      "{'precision': 0.6296985485648318, 'recall': 0.668774703554669, 'f1': 0.6486486436506902, 'auc': 0.7702680009201748, 'prauc': 0.6593745162046587}\n",
      "Corresponding test performance:\n",
      "{'precision': 0.6430830039500274, 'recall': 0.6428289213724108, 'f1': 0.642955932559206, 'auc': 0.7692474435473493, 'prauc': 0.6523881046402659}\n",
      "Corresponding test-long performance:\n",
      "{'precision': 0.7724867724765544, 'recall': 0.8984615384477159, 'f1': 0.830725457321012, 'auc': 0.5614705882352942, 'prauc': 0.7899607638948882}\n",
      "[INFO] Random seed set to 3163119785\n",
      "Training with seed: 3163119785\n"
     ]
    },
    {
     "name": "stderr",
     "output_type": "stream",
     "text": [
      "Training Batches: 100%|██████████| 1/1 [00:01<00:00,  1.30s/it]\n",
      "Running inference: 100%|██████████| 1/1 [00:02<00:00,  2.06s/it]\n",
      "Running inference: 100%|██████████| 1/1 [00:02<00:00,  2.36s/it]\n"
     ]
    },
    {
     "name": "stdout",
     "output_type": "stream",
     "text": [
      "Epoch: 001, Average Loss: 0.6980\n",
      "Validation: {'precision': 0.6515083295783364, 'recall': 0.57193675889102, 'f1': 0.6091349139830148, 'auc': 0.766533189033189, 'prauc': 0.6651498860234439}\n",
      "Test:       {'precision': 0.6496350364933867, 'recall': 0.5626234689823681, 'f1': 0.6030065586480206, 'auc': 0.7630619648455625, 'prauc': 0.6475941380895076}\n"
     ]
    },
    {
     "name": "stderr",
     "output_type": "stream",
     "text": [
      "Training Batches: 100%|██████████| 1/1 [00:00<00:00,  1.03it/s]\n",
      "Running inference: 100%|██████████| 1/1 [00:02<00:00,  2.35s/it]\n",
      "Running inference: 100%|██████████| 1/1 [00:02<00:00,  2.37s/it]\n"
     ]
    },
    {
     "name": "stdout",
     "output_type": "stream",
     "text": [
      "Epoch: 002, Average Loss: 0.6726\n",
      "Validation: {'precision': 0.6611810261342634, 'recall': 0.5399209486144667, 'f1': 0.594429934125834, 'auc': 0.7664551833030094, 'prauc': 0.6643693756204356}\n",
      "Test:       {'precision': 0.6583541147099334, 'recall': 0.5215329909106222, 'f1': 0.582010577075251, 'auc': 0.762794934123521, 'prauc': 0.6486496046037415}\n"
     ]
    },
    {
     "name": "stderr",
     "output_type": "stream",
     "text": [
      "Training Batches: 100%|██████████| 1/1 [00:01<00:00,  1.02s/it]\n",
      "Running inference: 100%|██████████| 1/1 [00:02<00:00,  2.08s/it]\n",
      "Running inference: 100%|██████████| 1/1 [00:02<00:00,  2.08s/it]\n"
     ]
    },
    {
     "name": "stdout",
     "output_type": "stream",
     "text": [
      "Epoch: 003, Average Loss: 0.6498\n",
      "Validation: {'precision': 0.6624328285263194, 'recall': 0.5359683794445219, 'f1': 0.592527851727769, 'auc': 0.7664783445218228, 'prauc': 0.6645268006781553}\n",
      "Test:       {'precision': 0.6580937972735346, 'recall': 0.5156064796502742, 'f1': 0.5782011470427719, 'auc': 0.7628250928874221, 'prauc': 0.6490602461817324}\n"
     ]
    },
    {
     "name": "stderr",
     "output_type": "stream",
     "text": [
      "Training Batches: 100%|██████████| 1/1 [00:01<00:00,  1.33s/it]\n",
      "Running inference: 100%|██████████| 1/1 [00:02<00:00,  2.08s/it]\n",
      "Running inference: 100%|██████████| 1/1 [00:02<00:00,  2.11s/it]\n"
     ]
    },
    {
     "name": "stdout",
     "output_type": "stream",
     "text": [
      "Epoch: 004, Average Loss: 0.6301\n",
      "Validation: {'precision': 0.659101883145055, 'recall': 0.5395256916974722, 'f1': 0.5933492669445957, 'auc': 0.7668309387874606, 'prauc': 0.665221788810598}\n",
      "Test:       {'precision': 0.6582341269808619, 'recall': 0.5242986961654512, 'f1': 0.5836815433351606, 'auc': 0.7631008151976713, 'prauc': 0.6497702133105547}\n"
     ]
    },
    {
     "name": "stderr",
     "output_type": "stream",
     "text": [
      "Training Batches: 100%|██████████| 1/1 [00:01<00:00,  1.01s/it]\n",
      "Running inference: 100%|██████████| 1/1 [00:02<00:00,  2.44s/it]\n",
      "Running inference: 100%|██████████| 1/1 [00:01<00:00,  1.78s/it]\n"
     ]
    },
    {
     "name": "stdout",
     "output_type": "stream",
     "text": [
      "Epoch: 005, Average Loss: 0.6124\n",
      "Validation: {'precision': 0.6585598473979086, 'recall': 0.545849802369384, 'f1': 0.5969310518814923, 'auc': 0.7673691364995713, 'prauc': 0.6659215077417738}\n",
      "Test:       {'precision': 0.6568771414554241, 'recall': 0.5302252074257993, 'f1': 0.5867949229074307, 'auc': 0.7635515735282706, 'prauc': 0.6504500759768448}\n"
     ]
    },
    {
     "name": "stderr",
     "output_type": "stream",
     "text": [
      "Training Batches: 100%|██████████| 1/1 [00:01<00:00,  1.31s/it]\n",
      "Running inference: 100%|██████████| 1/1 [00:02<00:00,  2.42s/it]\n",
      "Running inference: 100%|██████████| 1/1 [00:01<00:00,  1.72s/it]\n"
     ]
    },
    {
     "name": "stdout",
     "output_type": "stream",
     "text": [
      "Epoch: 006, Average Loss: 0.5978\n",
      "Validation: {'precision': 0.6575151233101093, 'recall': 0.5584980237132076, 'f1': 0.6039752034084293, 'auc': 0.7679535520839869, 'prauc': 0.6667820838412993}\n",
      "Test:       {'precision': 0.6556671449036076, 'recall': 0.5416831291958053, 'f1': 0.5932496705079119, 'auc': 0.763971754223248, 'prauc': 0.6512146481076433}\n"
     ]
    },
    {
     "name": "stderr",
     "output_type": "stream",
     "text": [
      "Training Batches: 100%|██████████| 1/1 [00:01<00:00,  1.31s/it]\n",
      "Running inference: 100%|██████████| 1/1 [00:02<00:00,  2.08s/it]\n",
      "Running inference: 100%|██████████| 1/1 [00:02<00:00,  2.41s/it]\n"
     ]
    },
    {
     "name": "stdout",
     "output_type": "stream",
     "text": [
      "Epoch: 007, Average Loss: 0.5870\n",
      "Validation: {'precision': 0.6583908045946741, 'recall': 0.5660079051361028, 'f1': 0.6087141289259836, 'auc': 0.7684549428027689, 'prauc': 0.6675980817731262}\n",
      "Test:       {'precision': 0.6557299096497589, 'recall': 0.5448439352013242, 'f1': 0.595166158182078, 'auc': 0.764388845739284, 'prauc': 0.6517227358512908}\n"
     ]
    },
    {
     "name": "stderr",
     "output_type": "stream",
     "text": [
      "Training Batches: 100%|██████████| 1/1 [00:00<00:00,  1.40it/s]\n",
      "Running inference: 100%|██████████| 1/1 [00:02<00:00,  2.34s/it]\n",
      "Running inference: 100%|██████████| 1/1 [00:02<00:00,  2.40s/it]\n"
     ]
    },
    {
     "name": "stdout",
     "output_type": "stream",
     "text": [
      "Epoch: 008, Average Loss: 0.5798\n",
      "Validation: {'precision': 0.6566893424006499, 'recall': 0.5723320158080145, 'f1': 0.6116156233208668, 'auc': 0.7689797561536692, 'prauc': 0.6685858058795681}\n",
      "Test:       {'precision': 0.6562207670689606, 'recall': 0.554326353217881, 'f1': 0.6009852167077273, 'auc': 0.7647853078230682, 'prauc': 0.6520774637219122}\n"
     ]
    },
    {
     "name": "stderr",
     "output_type": "stream",
     "text": [
      "Training Batches: 100%|██████████| 1/1 [00:00<00:00,  1.01it/s]\n",
      "Running inference: 100%|██████████| 1/1 [00:02<00:00,  2.33s/it]\n",
      "Running inference: 100%|██████████| 1/1 [00:02<00:00,  2.42s/it]\n"
     ]
    },
    {
     "name": "stdout",
     "output_type": "stream",
     "text": [
      "Epoch: 009, Average Loss: 0.5766\n",
      "Validation: {'precision': 0.6570397111883708, 'recall': 0.5754940711439704, 'f1': 0.6135693165532241, 'auc': 0.7693788297049167, 'prauc': 0.6693332515634505}\n",
      "Test:       {'precision': 0.6558290757052679, 'recall': 0.5578822599740898, 'f1': 0.602903496310945, 'auc': 0.7651141221239351, 'prauc': 0.6524201037674303}\n"
     ]
    },
    {
     "name": "stderr",
     "output_type": "stream",
     "text": [
      "Training Batches: 100%|██████████| 1/1 [00:00<00:00,  1.41it/s]\n",
      "Running inference: 100%|██████████| 1/1 [00:02<00:00,  2.41s/it]\n",
      "Running inference: 100%|██████████| 1/1 [00:02<00:00,  2.06s/it]\n"
     ]
    },
    {
     "name": "stdout",
     "output_type": "stream",
     "text": [
      "Epoch: 010, Average Loss: 0.5758\n",
      "Validation: {'precision': 0.6574410163309554, 'recall': 0.572727272725009, 'f1': 0.612167295401353, 'auc': 0.7695397034527469, 'prauc': 0.6695894815839832}\n",
      "Test:       {'precision': 0.6549953314628618, 'recall': 0.554326353217881, 'f1': 0.600470784674706, 'auc': 0.7654025153037401, 'prauc': 0.6522387623471835}\n"
     ]
    },
    {
     "name": "stderr",
     "output_type": "stream",
     "text": [
      "Training Batches: 100%|██████████| 1/1 [00:01<00:00,  1.01s/it]\n",
      "Running inference: 100%|██████████| 1/1 [00:02<00:00,  2.07s/it]\n",
      "Running inference: 100%|██████████| 1/1 [00:02<00:00,  2.34s/it]\n"
     ]
    },
    {
     "name": "stdout",
     "output_type": "stream",
     "text": [
      "Epoch: 011, Average Loss: 0.5759\n",
      "Validation: {'precision': 0.6565158978922682, 'recall': 0.5794466403139152, 'f1': 0.6155784119809546, 'auc': 0.769611958090219, 'prauc': 0.6698542184040914}\n",
      "Test:       {'precision': 0.655442804425021, 'recall': 0.5614381667302986, 'f1': 0.6048095289706563, 'auc': 0.7656447278763214, 'prauc': 0.6520035257567184}\n"
     ]
    },
    {
     "name": "stderr",
     "output_type": "stream",
     "text": [
      "Training Batches: 100%|██████████| 1/1 [00:01<00:00,  1.32s/it]\n",
      "Running inference: 100%|██████████| 1/1 [00:02<00:00,  2.10s/it]\n",
      "Running inference: 100%|██████████| 1/1 [00:02<00:00,  2.39s/it]\n"
     ]
    },
    {
     "name": "stdout",
     "output_type": "stream",
     "text": [
      "Epoch: 012, Average Loss: 0.5724\n",
      "Validation: {'precision': 0.6509392747896421, 'recall': 0.5889328063217829, 'f1': 0.6183855521794761, 'auc': 0.7698254804776544, 'prauc': 0.670156486558263}\n",
      "Test:       {'precision': 0.6552808988734594, 'recall': 0.5760568945058235, 'f1': 0.6131202641518456, 'auc': 0.7659278328006507, 'prauc': 0.652125565189877}\n"
     ]
    },
    {
     "name": "stderr",
     "output_type": "stream",
     "text": [
      "Training Batches: 100%|██████████| 1/1 [00:01<00:00,  1.01s/it]\n",
      "Running inference: 100%|██████████| 1/1 [00:02<00:00,  2.40s/it]\n",
      "Running inference: 100%|██████████| 1/1 [00:02<00:00,  2.09s/it]\n"
     ]
    },
    {
     "name": "stdout",
     "output_type": "stream",
     "text": [
      "Epoch: 013, Average Loss: 0.5717\n",
      "Validation: {'precision': 0.6519823788517534, 'recall': 0.584980237151838, 'f1': 0.6166666616787675, 'auc': 0.769941704833009, 'prauc': 0.6701393681090392}\n",
      "Test:       {'precision': 0.6552036199065375, 'recall': 0.572105886998925, 'f1': 0.61084158962064, 'auc': 0.7662362271051263, 'prauc': 0.6516563767545739}\n"
     ]
    },
    {
     "name": "stderr",
     "output_type": "stream",
     "text": [
      "Training Batches: 100%|██████████| 1/1 [00:01<00:00,  1.30s/it]\n",
      "Running inference: 100%|██████████| 1/1 [00:02<00:00,  2.04s/it]\n",
      "Running inference: 100%|██████████| 1/1 [00:02<00:00,  2.38s/it]\n"
     ]
    },
    {
     "name": "stdout",
     "output_type": "stream",
     "text": [
      "Epoch: 014, Average Loss: 0.5670\n",
      "Validation: {'precision': 0.6542222222193146, 'recall': 0.5818181818158822, 'f1': 0.6158995766045378, 'auc': 0.7702664324403455, 'prauc': 0.6702178293295139}\n",
      "Test:       {'precision': 0.6561210453890137, 'recall': 0.5653891742371973, 'f1': 0.6073853940063328, 'auc': 0.7667582983462001, 'prauc': 0.6518482956436737}\n"
     ]
    },
    {
     "name": "stderr",
     "output_type": "stream",
     "text": [
      "Training Batches: 100%|██████████| 1/1 [00:00<00:00,  1.01it/s]\n",
      "Running inference: 100%|██████████| 1/1 [00:02<00:00,  2.33s/it]\n",
      "Running inference: 100%|██████████| 1/1 [00:02<00:00,  2.37s/it]\n"
     ]
    },
    {
     "name": "stdout",
     "output_type": "stream",
     "text": [
      "Epoch: 015, Average Loss: 0.5670\n",
      "Validation: {'precision': 0.6549421193203253, 'recall': 0.5814229248988877, 'f1': 0.6159966449313483, 'auc': 0.7705582742539264, 'prauc': 0.6702723046683656}\n",
      "Test:       {'precision': 0.6591432519545871, 'recall': 0.5653891742371973, 'f1': 0.6086771536826118, 'auc': 0.7672010981141034, 'prauc': 0.6519196298241953}\n"
     ]
    },
    {
     "name": "stderr",
     "output_type": "stream",
     "text": [
      "Training Batches: 100%|██████████| 1/1 [00:00<00:00,  1.01it/s]\n",
      "Running inference: 100%|██████████| 1/1 [00:02<00:00,  2.05s/it]\n",
      "Running inference: 100%|██████████| 1/1 [00:02<00:00,  2.37s/it]\n"
     ]
    },
    {
     "name": "stdout",
     "output_type": "stream",
     "text": [
      "Epoch: 016, Average Loss: 0.5659\n",
      "Validation: {'precision': 0.6530612244868986, 'recall': 0.5818181818158822, 'f1': 0.6153846103986848, 'auc': 0.7706383712905452, 'prauc': 0.6704086355693022}\n",
      "Test:       {'precision': 0.6579550664802478, 'recall': 0.5669695772399567, 'f1': 0.6090831868755955, 'auc': 0.7674124188972721, 'prauc': 0.6521016952036734}\n"
     ]
    },
    {
     "name": "stderr",
     "output_type": "stream",
     "text": [
      "Training Batches: 100%|██████████| 1/1 [00:01<00:00,  1.32s/it]\n",
      "Running inference: 100%|██████████| 1/1 [00:02<00:00,  2.04s/it]\n",
      "Running inference: 100%|██████████| 1/1 [00:02<00:00,  2.34s/it]\n"
     ]
    },
    {
     "name": "stdout",
     "output_type": "stream",
     "text": [
      "Epoch: 017, Average Loss: 0.5643\n",
      "Validation: {'precision': 0.6525386313436974, 'recall': 0.5841897233178491, 'f1': 0.6164754903203123, 'auc': 0.7707877428529604, 'prauc': 0.6706827689511681}\n",
      "Test:       {'precision': 0.6578225068588389, 'recall': 0.5681548794920263, 'f1': 0.6097095561859174, 'auc': 0.7675792869190654, 'prauc': 0.652278040898555}\n"
     ]
    },
    {
     "name": "stderr",
     "output_type": "stream",
     "text": [
      "Training Batches: 100%|██████████| 1/1 [00:01<00:00,  1.01s/it]\n",
      "Running inference: 100%|██████████| 1/1 [00:02<00:00,  2.35s/it]\n",
      "Running inference: 100%|██████████| 1/1 [00:02<00:00,  2.06s/it]\n"
     ]
    },
    {
     "name": "stdout",
     "output_type": "stream",
     "text": [
      "Epoch: 018, Average Loss: 0.5615\n",
      "Validation: {'precision': 0.6503923278088475, 'recall': 0.5897233201557719, 'f1': 0.6185737926876776, 'auc': 0.7709101365623106, 'prauc': 0.6708079385386274}\n",
      "Test:       {'precision': 0.6572982774222245, 'recall': 0.5728960885003047, 'f1': 0.6122018105159903, 'auc': 0.767651961162633, 'prauc': 0.6522955714166483}\n"
     ]
    },
    {
     "name": "stderr",
     "output_type": "stream",
     "text": [
      "Training Batches: 100%|██████████| 1/1 [00:01<00:00,  1.31s/it]\n",
      "Running inference: 100%|██████████| 1/1 [00:02<00:00,  2.07s/it]\n",
      "Running inference: 100%|██████████| 1/1 [00:02<00:00,  2.34s/it]\n"
     ]
    },
    {
     "name": "stdout",
     "output_type": "stream",
     "text": [
      "Epoch: 019, Average Loss: 0.5608\n",
      "Validation: {'precision': 0.6504559270488474, 'recall': 0.5920948616577388, 'f1': 0.6199048160306045, 'auc': 0.771402952924692, 'prauc': 0.6712034132919266}\n",
      "Test:       {'precision': 0.6578707916257605, 'recall': 0.5713156854975452, 'f1': 0.6115457763713286, 'auc': 0.7680715659089941, 'prauc': 0.6526364232040959}\n"
     ]
    },
    {
     "name": "stderr",
     "output_type": "stream",
     "text": [
      "Training Batches: 100%|██████████| 1/1 [00:01<00:00,  1.01s/it]\n",
      "Running inference: 100%|██████████| 1/1 [00:02<00:00,  2.33s/it]\n",
      "Running inference: 100%|██████████| 1/1 [00:02<00:00,  2.35s/it]\n"
     ]
    },
    {
     "name": "stdout",
     "output_type": "stream",
     "text": [
      "Epoch: 020, Average Loss: 0.5609\n",
      "Validation: {'precision': 0.6494845360796844, 'recall': 0.5976284584956616, 'f1': 0.6224783811732292, 'auc': 0.771427107514064, 'prauc': 0.6711368592593788}\n",
      "Test:       {'precision': 0.657453556861543, 'recall': 0.5732911892509945, 'f1': 0.6124947185328264, 'auc': 0.7681092643638705, 'prauc': 0.6525757960137182}\n"
     ]
    },
    {
     "name": "stderr",
     "output_type": "stream",
     "text": [
      "Training Batches: 100%|██████████| 1/1 [00:01<00:00,  1.01s/it]\n",
      "Running inference: 100%|██████████| 1/1 [00:02<00:00,  2.04s/it]\n",
      "Running inference: 100%|██████████| 1/1 [00:02<00:00,  2.30s/it]\n"
     ]
    },
    {
     "name": "stdout",
     "output_type": "stream",
     "text": [
      "Epoch: 021, Average Loss: 0.5597\n",
      "Validation: {'precision': 0.6462900505874946, 'recall': 0.6059288537525458, 'f1': 0.6254589913306722, 'auc': 0.7709920112094024, 'prauc': 0.6704160833637984}\n",
      "Test:       {'precision': 0.6552795031026829, 'recall': 0.583563808768931, 'f1': 0.6173458675324618, 'auc': 0.767840348719085, 'prauc': 0.6522389888379682}\n"
     ]
    },
    {
     "name": "stderr",
     "output_type": "stream",
     "text": [
      "Training Batches: 100%|██████████| 1/1 [00:01<00:00,  1.34s/it]\n",
      "Running inference: 100%|██████████| 1/1 [00:02<00:00,  2.05s/it]\n",
      "Running inference: 100%|██████████| 1/1 [00:02<00:00,  2.37s/it]\n"
     ]
    },
    {
     "name": "stdout",
     "output_type": "stream",
     "text": [
      "Epoch: 022, Average Loss: 0.5643\n",
      "Validation: {'precision': 0.6487300903975518, 'recall': 0.5956521739106891, 'f1': 0.6210591336836444, 'auc': 0.7715489261141435, 'prauc': 0.6709022027703132}\n",
      "Test:       {'precision': 0.658769931659869, 'recall': 0.5713156854975452, 'f1': 0.6119339772486676, 'auc': 0.7681959708100865, 'prauc': 0.6521483837068678}\n"
     ]
    },
    {
     "name": "stderr",
     "output_type": "stream",
     "text": [
      "Training Batches: 100%|██████████| 1/1 [00:00<00:00,  1.00it/s]\n",
      "Running inference: 100%|██████████| 1/1 [00:02<00:00,  2.36s/it]\n",
      "Running inference: 100%|██████████| 1/1 [00:02<00:00,  2.03s/it]\n"
     ]
    },
    {
     "name": "stdout",
     "output_type": "stream",
     "text": [
      "Epoch: 023, Average Loss: 0.5574\n",
      "Validation: {'precision': 0.649698015527827, 'recall': 0.5952569169936947, 'f1': 0.6212871237198696, 'auc': 0.7717208315034402, 'prauc': 0.6709663589937607}\n",
      "Test:       {'precision': 0.6570380559346307, 'recall': 0.5661793757385769, 'f1': 0.6082342904409641, 'auc': 0.768313150173994, 'prauc': 0.6520520482231265}\n"
     ]
    },
    {
     "name": "stderr",
     "output_type": "stream",
     "text": [
      "Training Batches: 100%|██████████| 1/1 [00:01<00:00,  1.29s/it]\n",
      "Running inference: 100%|██████████| 1/1 [00:02<00:00,  2.03s/it]\n",
      "Running inference: 100%|██████████| 1/1 [00:02<00:00,  2.36s/it]\n"
     ]
    },
    {
     "name": "stdout",
     "output_type": "stream",
     "text": [
      "Epoch: 024, Average Loss: 0.5576\n",
      "Validation: {'precision': 0.6478094427875466, 'recall': 0.6019762845826009, 'f1': 0.6240524432729649, 'auc': 0.7720942342681473, 'prauc': 0.6710119176814496}\n",
      "Test:       {'precision': 0.6582392776493985, 'recall': 0.5760568945058235, 'f1': 0.6144121315556073, 'auc': 0.7686270945287709, 'prauc': 0.6518664333806892}\n"
     ]
    },
    {
     "name": "stderr",
     "output_type": "stream",
     "text": [
      "Training Batches: 100%|██████████| 1/1 [00:00<00:00,  1.02it/s]\n",
      "Running inference: 100%|██████████| 1/1 [00:02<00:00,  2.32s/it]\n",
      "Running inference: 100%|██████████| 1/1 [00:02<00:00,  2.36s/it]\n"
     ]
    },
    {
     "name": "stdout",
     "output_type": "stream",
     "text": [
      "Epoch: 025, Average Loss: 0.5540\n",
      "Validation: {'precision': 0.6460140437808921, 'recall': 0.6181818181793748, 'f1': 0.6317915522610307, 'auc': 0.7723201999288956, 'prauc': 0.6711279119868211}\n",
      "Test:       {'precision': 0.6584615384586442, 'recall': 0.5918609245334182, 'f1': 0.6233874273877891, 'auc': 0.7687038527716166, 'prauc': 0.6514334938367987}\n"
     ]
    },
    {
     "name": "stderr",
     "output_type": "stream",
     "text": [
      "Training Batches: 100%|██████████| 1/1 [00:01<00:00,  1.01s/it]\n",
      "Running inference: 100%|██████████| 1/1 [00:02<00:00,  2.09s/it]\n",
      "Running inference: 100%|██████████| 1/1 [00:02<00:00,  2.32s/it]\n"
     ]
    },
    {
     "name": "stdout",
     "output_type": "stream",
     "text": [
      "Epoch: 026, Average Loss: 0.5556\n",
      "Validation: {'precision': 0.6439024390217728, 'recall': 0.6260869565192645, 'f1': 0.6348697344773974, 'auc': 0.7722880983750547, 'prauc': 0.6706501801963594}\n",
      "Test:       {'precision': 0.6561555075565609, 'recall': 0.6001580402979053, 'f1': 0.6269087857626086, 'auc': 0.7686555254468236, 'prauc': 0.6511123623507791}\n"
     ]
    },
    {
     "name": "stderr",
     "output_type": "stream",
     "text": [
      "Training Batches: 100%|██████████| 1/1 [00:01<00:00,  1.29s/it]\n",
      "Running inference: 100%|██████████| 1/1 [00:02<00:00,  2.04s/it]\n",
      "Running inference: 100%|██████████| 1/1 [00:02<00:00,  2.32s/it]\n"
     ]
    },
    {
     "name": "stdout",
     "output_type": "stream",
     "text": [
      "Epoch: 027, Average Loss: 0.5547\n",
      "Validation: {'precision': 0.6419902912595389, 'recall': 0.627272727270248, 'f1': 0.6345461765255243, 'auc': 0.7717723822071648, 'prauc': 0.6701022282183279}\n",
      "Test:       {'precision': 0.65463917525492, 'recall': 0.6021335440513547, 'f1': 0.6272895607604156, 'auc': 0.7682166002423383, 'prauc': 0.6511438134658645}\n"
     ]
    },
    {
     "name": "stderr",
     "output_type": "stream",
     "text": [
      "Training Batches: 100%|██████████| 1/1 [00:00<00:00,  1.00it/s]\n",
      "Running inference: 100%|██████████| 1/1 [00:02<00:00,  2.31s/it]\n",
      "Running inference: 100%|██████████| 1/1 [00:02<00:00,  2.01s/it]\n"
     ]
    },
    {
     "name": "stdout",
     "output_type": "stream",
     "text": [
      "Epoch: 028, Average Loss: 0.5537\n",
      "Validation: {'precision': 0.6420408163239101, 'recall': 0.6217391304323252, 'f1': 0.6317269026292756, 'auc': 0.7713590877721311, 'prauc': 0.6693449825147149}\n",
      "Test:       {'precision': 0.6558861578238211, 'recall': 0.6009482417992851, 'f1': 0.6272164898523279, 'auc': 0.76785260071692, 'prauc': 0.6505290092585635}\n"
     ]
    },
    {
     "name": "stderr",
     "output_type": "stream",
     "text": [
      "Training Batches: 100%|██████████| 1/1 [00:01<00:00,  1.26s/it]\n",
      "Running inference: 100%|██████████| 1/1 [00:02<00:00,  2.06s/it]\n",
      "Running inference: 100%|██████████| 1/1 [00:02<00:00,  2.36s/it]\n"
     ]
    },
    {
     "name": "stdout",
     "output_type": "stream",
     "text": [
      "Epoch: 029, Average Loss: 0.5504\n",
      "Validation: {'precision': 0.6446179128979268, 'recall': 0.6201581027643472, 'f1': 0.6321514857326028, 'auc': 0.771181431290127, 'prauc': 0.6694156767556241}\n",
      "Test:       {'precision': 0.6560453950211435, 'recall': 0.5938364282868676, 'f1': 0.6233927780873619, 'auc': 0.7675647311267659, 'prauc': 0.6497652173617307}\n"
     ]
    },
    {
     "name": "stderr",
     "output_type": "stream",
     "text": [
      "Training Batches: 100%|██████████| 1/1 [00:01<00:00,  1.01s/it]\n",
      "Running inference: 100%|██████████| 1/1 [00:02<00:00,  2.35s/it]\n",
      "Running inference: 100%|██████████| 1/1 [00:02<00:00,  2.36s/it]\n"
     ]
    },
    {
     "name": "stdout",
     "output_type": "stream",
     "text": [
      "Epoch: 030, Average Loss: 0.5511\n",
      "Validation: {'precision': 0.6416091019884534, 'recall': 0.624110671934292, 'f1': 0.6327389250725536, 'auc': 0.77114525168873, 'prauc': 0.6691238130271933}\n",
      "Test:       {'precision': 0.6549935149128622, 'recall': 0.5985776372951459, 'f1': 0.6255160974022596, 'auc': 0.7673425196788551, 'prauc': 0.649458779624883}\n"
     ]
    },
    {
     "name": "stderr",
     "output_type": "stream",
     "text": [
      "Training Batches: 100%|██████████| 1/1 [00:01<00:00,  1.02s/it]\n",
      "Running inference: 100%|██████████| 1/1 [00:02<00:00,  2.07s/it]\n",
      "Running inference: 100%|██████████| 1/1 [00:02<00:00,  2.33s/it]\n"
     ]
    },
    {
     "name": "stdout",
     "output_type": "stream",
     "text": [
      "Epoch: 031, Average Loss: 0.5490\n",
      "Validation: {'precision': 0.6388341866851562, 'recall': 0.6411067193650549, 'f1': 0.6399684305863644, 'auc': 0.7708045255871343, 'prauc': 0.6684424460060931}\n",
      "Test:       {'precision': 0.6486825595957814, 'recall': 0.612801264319981, 'f1': 0.6302316081668643, 'auc': 0.7671539226865427, 'prauc': 0.6492242804767883}\n"
     ]
    },
    {
     "name": "stderr",
     "output_type": "stream",
     "text": [
      "Training Batches: 100%|██████████| 1/1 [00:01<00:00,  1.30s/it]\n",
      "Running inference: 100%|██████████| 1/1 [00:02<00:00,  2.04s/it]\n",
      "Running inference: 100%|██████████| 1/1 [00:02<00:00,  2.37s/it]\n"
     ]
    },
    {
     "name": "stdout",
     "output_type": "stream",
     "text": [
      "Epoch: 032, Average Loss: 0.5472\n",
      "Validation: {'precision': 0.6383647798717046, 'recall': 0.6418972331990439, 'f1': 0.6401261282257373, 'auc': 0.7713333124202689, 'prauc': 0.6685460373302834}\n",
      "Test:       {'precision': 0.6500627877745917, 'recall': 0.6135914658213608, 'f1': 0.631300808009729, 'auc': 0.7674022088990763, 'prauc': 0.6487446450389558}\n"
     ]
    },
    {
     "name": "stderr",
     "output_type": "stream",
     "text": [
      "Training Batches: 100%|██████████| 1/1 [00:01<00:00,  1.01s/it]\n",
      "Running inference: 100%|██████████| 1/1 [00:02<00:00,  2.38s/it]\n",
      "Running inference: 100%|██████████| 1/1 [00:02<00:00,  2.04s/it]\n"
     ]
    },
    {
     "name": "stdout",
     "output_type": "stream",
     "text": [
      "Epoch: 033, Average Loss: 0.5464\n",
      "Validation: {'precision': 0.6443548387070792, 'recall': 0.6316205533571873, 'f1': 0.6379241466945583, 'auc': 0.7726814731162559, 'prauc': 0.6691446425445049}\n",
      "Test:       {'precision': 0.6581010452933009, 'recall': 0.5969972342923865, 'f1': 0.6260617310772081, 'auc': 0.768114919132102, 'prauc': 0.6482323881083478}\n"
     ]
    },
    {
     "name": "stderr",
     "output_type": "stream",
     "text": [
      "Training Batches: 100%|██████████| 1/1 [00:01<00:00,  1.31s/it]\n",
      "Running inference: 100%|██████████| 1/1 [00:02<00:00,  2.04s/it]\n",
      "Running inference: 100%|██████████| 1/1 [00:02<00:00,  2.36s/it]\n"
     ]
    },
    {
     "name": "stdout",
     "output_type": "stream",
     "text": [
      "Epoch: 034, Average Loss: 0.5485\n",
      "Validation: {'precision': 0.6377373111172502, 'recall': 0.6505928853729226, 'f1': 0.6441009537144714, 'auc': 0.7724055252316122, 'prauc': 0.6693282931828524}\n",
      "Test:       {'precision': 0.6528066528039385, 'recall': 0.6203081785830885, 'f1': 0.6361426206084603, 'auc': 0.7688752760233744, 'prauc': 0.6494229969702416}\n"
     ]
    },
    {
     "name": "stderr",
     "output_type": "stream",
     "text": [
      "Training Batches: 100%|██████████| 1/1 [00:00<00:00,  1.02it/s]\n",
      "Running inference: 100%|██████████| 1/1 [00:02<00:00,  2.31s/it]\n",
      "Running inference: 100%|██████████| 1/1 [00:02<00:00,  2.37s/it]\n"
     ]
    },
    {
     "name": "stdout",
     "output_type": "stream",
     "text": [
      "Epoch: 035, Average Loss: 0.5477\n",
      "Validation: {'precision': 0.6319910514517824, 'recall': 0.6699604743056523, 'f1': 0.6504220978413576, 'auc': 0.7706257188865885, 'prauc': 0.66801417399767}\n",
      "Test:       {'precision': 0.6390649762256773, 'recall': 0.6372975108627527, 'f1': 0.6381800147798784, 'auc': 0.7683179148398187, 'prauc': 0.6491282399383139}\n"
     ]
    },
    {
     "name": "stderr",
     "output_type": "stream",
     "text": [
      "Training Batches: 100%|██████████| 1/1 [00:01<00:00,  1.01s/it]\n",
      "Running inference: 100%|██████████| 1/1 [00:02<00:00,  2.07s/it]\n",
      "Running inference: 100%|██████████| 1/1 [00:02<00:00,  2.34s/it]\n"
     ]
    },
    {
     "name": "stdout",
     "output_type": "stream",
     "text": [
      "Epoch: 036, Average Loss: 0.5455\n",
      "Validation: {'precision': 0.6322314049563027, 'recall': 0.6652173913017185, 'f1': 0.6483050797464973, 'auc': 0.7702625112407722, 'prauc': 0.6680992711374416}\n",
      "Test:       {'precision': 0.6407999999974369, 'recall': 0.6329514026051641, 'f1': 0.6368515155701091, 'auc': 0.7681286371809597, 'prauc': 0.6489263947727371}\n"
     ]
    },
    {
     "name": "stderr",
     "output_type": "stream",
     "text": [
      "Training Batches: 100%|██████████| 1/1 [00:01<00:00,  1.31s/it]\n",
      "Running inference: 100%|██████████| 1/1 [00:02<00:00,  2.04s/it]\n",
      "Running inference: 100%|██████████| 1/1 [00:02<00:00,  2.31s/it]\n"
     ]
    },
    {
     "name": "stdout",
     "output_type": "stream",
     "text": [
      "Epoch: 037, Average Loss: 0.5442\n",
      "Validation: {'precision': 0.6364696734034352, 'recall': 0.6470355731199722, 'f1': 0.6417091286708928, 'auc': 0.7709914883827926, 'prauc': 0.6691626794919665}\n",
      "Test:       {'precision': 0.6463314097252831, 'recall': 0.6195179770817087, 'f1': 0.6326407051066105, 'auc': 0.7687992508060402, 'prauc': 0.6489409379099098}\n"
     ]
    },
    {
     "name": "stderr",
     "output_type": "stream",
     "text": [
      "Training Batches: 100%|██████████| 1/1 [00:01<00:00,  1.00s/it]\n",
      "Running inference: 100%|██████████| 1/1 [00:02<00:00,  2.33s/it]\n",
      "Running inference: 100%|██████████| 1/1 [00:02<00:00,  2.06s/it]\n"
     ]
    },
    {
     "name": "stdout",
     "output_type": "stream",
     "text": [
      "Epoch: 038, Average Loss: 0.5445\n",
      "Validation: {'precision': 0.6387682589789232, 'recall': 0.639525691697077, 'f1': 0.6391467459356559, 'auc': 0.7720309722483636, 'prauc': 0.6696283824651642}\n",
      "Test:       {'precision': 0.6504854368904581, 'recall': 0.6088502568130824, 'f1': 0.6289795868396327, 'auc': 0.7694846820182454, 'prauc': 0.6487115960292713}\n"
     ]
    },
    {
     "name": "stderr",
     "output_type": "stream",
     "text": [
      "Training Batches: 100%|██████████| 1/1 [00:01<00:00,  1.33s/it]\n",
      "Running inference: 100%|██████████| 1/1 [00:02<00:00,  2.03s/it]\n",
      "Running inference: 100%|██████████| 1/1 [00:02<00:00,  2.36s/it]\n"
     ]
    },
    {
     "name": "stdout",
     "output_type": "stream",
     "text": [
      "Epoch: 039, Average Loss: 0.5392\n",
      "Validation: {'precision': 0.6410358565711513, 'recall': 0.6359683794441267, 'f1': 0.6384920584896087, 'auc': 0.7733900077378338, 'prauc': 0.669586864269022}\n",
      "Test:       {'precision': 0.6542416452414129, 'recall': 0.6033188463034242, 'f1': 0.6277492241936962, 'auc': 0.7703111159234818, 'prauc': 0.6482786205606643}\n"
     ]
    },
    {
     "name": "stderr",
     "output_type": "stream",
     "text": [
      "Training Batches: 100%|██████████| 1/1 [00:01<00:00,  1.02s/it]\n",
      "Running inference: 100%|██████████| 1/1 [00:02<00:00,  2.33s/it]\n",
      "Running inference: 100%|██████████| 1/1 [00:02<00:00,  2.34s/it]\n"
     ]
    },
    {
     "name": "stdout",
     "output_type": "stream",
     "text": [
      "Epoch: 040, Average Loss: 0.5396\n",
      "Validation: {'precision': 0.6405638214540307, 'recall': 0.6466403162029777, 'f1': 0.6435877211974222, 'auc': 0.7736173327477673, 'prauc': 0.6682711909079054}\n",
      "Test:       {'precision': 0.6536833192182316, 'recall': 0.6100355590651519, 'f1': 0.6311056561519647, 'auc': 0.770234305321671, 'prauc': 0.647775209272846}\n"
     ]
    },
    {
     "name": "stderr",
     "output_type": "stream",
     "text": [
      "Training Batches: 100%|██████████| 1/1 [00:01<00:00,  1.01s/it]\n",
      "Running inference: 100%|██████████| 1/1 [00:02<00:00,  2.03s/it]\n",
      "Running inference: 100%|██████████| 1/1 [00:02<00:00,  2.34s/it]\n"
     ]
    },
    {
     "name": "stdout",
     "output_type": "stream",
     "text": [
      "Epoch: 041, Average Loss: 0.5406\n",
      "Validation: {'precision': 0.6363984674305119, 'recall': 0.6565217391278398, 'f1': 0.6463034969442217, 'auc': 0.772724031202292, 'prauc': 0.6675755914362629}\n",
      "Test:       {'precision': 0.6476151315762845, 'recall': 0.6222836823365379, 'f1': 0.6346967509937901, 'auc': 0.7693500671189573, 'prauc': 0.6479910699229283}\n"
     ]
    },
    {
     "name": "stderr",
     "output_type": "stream",
     "text": [
      "Training Batches: 100%|██████████| 1/1 [00:01<00:00,  1.34s/it]\n",
      "Running inference: 100%|██████████| 1/1 [00:02<00:00,  2.06s/it]\n",
      "Running inference: 100%|██████████| 1/1 [00:02<00:00,  2.40s/it]\n"
     ]
    },
    {
     "name": "stdout",
     "output_type": "stream",
     "text": [
      "Epoch: 042, Average Loss: 0.5365\n",
      "Validation: {'precision': 0.6376755070177939, 'recall': 0.6462450592859833, 'f1': 0.6419316793322137, 'auc': 0.772307547524939, 'prauc': 0.6686594326820166}\n",
      "Test:       {'precision': 0.6480865224598665, 'recall': 0.6155669695748102, 'f1': 0.6314083030048052, 'auc': 0.7687472059947246, 'prauc': 0.6489546354094442}\n"
     ]
    },
    {
     "name": "stderr",
     "output_type": "stream",
     "text": [
      "Training Batches: 100%|██████████| 1/1 [00:00<00:00,  1.00it/s]\n",
      "Running inference: 100%|██████████| 1/1 [00:02<00:00,  2.34s/it]\n",
      "Running inference: 100%|██████████| 1/1 [00:02<00:00,  2.05s/it]\n"
     ]
    },
    {
     "name": "stdout",
     "output_type": "stream",
     "text": [
      "Epoch: 043, Average Loss: 0.5353\n",
      "Validation: {'precision': 0.6357742181516561, 'recall': 0.6588932806298068, 'f1': 0.647127324191629, 'auc': 0.7727588514545036, 'prauc': 0.668310306597252}\n",
      "Test:       {'precision': 0.6438133874213233, 'recall': 0.6270248913448162, 'f1': 0.6353082415956073, 'auc': 0.769291215642178, 'prauc': 0.6498633048400355}\n"
     ]
    },
    {
     "name": "stderr",
     "output_type": "stream",
     "text": [
      "Training Batches: 100%|██████████| 1/1 [00:01<00:00,  1.32s/it]\n",
      "Running inference: 100%|██████████| 1/1 [00:02<00:00,  2.11s/it]\n",
      "Running inference: 100%|██████████| 1/1 [00:02<00:00,  2.37s/it]\n"
     ]
    },
    {
     "name": "stdout",
     "output_type": "stream",
     "text": [
      "Epoch: 044, Average Loss: 0.5336\n",
      "Validation: {'precision': 0.632525697501349, 'recall': 0.6810276679814979, 'f1': 0.6558812283503426, 'auc': 0.7731414559675429, 'prauc': 0.6665188118016925}\n",
      "Test:       {'precision': 0.6423243030991664, 'recall': 0.6463848281286196, 'f1': 0.6443481635678152, 'auc': 0.7699418281425876, 'prauc': 0.649877791259216}\n"
     ]
    },
    {
     "name": "stderr",
     "output_type": "stream",
     "text": [
      "Training Batches: 100%|██████████| 1/1 [00:01<00:00,  1.00s/it]\n",
      "Running inference: 100%|██████████| 1/1 [00:02<00:00,  2.35s/it]\n",
      "Running inference: 100%|██████████| 1/1 [00:02<00:00,  2.38s/it]\n"
     ]
    },
    {
     "name": "stdout",
     "output_type": "stream",
     "text": [
      "Epoch: 045, Average Loss: 0.5329\n",
      "Validation: {'precision': 0.6315018314995183, 'recall': 0.6814229248984924, 'f1': 0.6555133029895273, 'auc': 0.7726256352343309, 'prauc': 0.6652996770473938}\n",
      "Test:       {'precision': 0.6412273800132131, 'recall': 0.6440142236244805, 'f1': 0.6426177754035614, 'auc': 0.7696997202879365, 'prauc': 0.6493557919049346}\n"
     ]
    },
    {
     "name": "stderr",
     "output_type": "stream",
     "text": [
      "Training Batches: 100%|██████████| 1/1 [00:01<00:00,  1.05s/it]\n",
      "Running inference: 100%|██████████| 1/1 [00:02<00:00,  2.07s/it]\n",
      "Running inference: 100%|██████████| 1/1 [00:02<00:00,  2.32s/it]\n"
     ]
    },
    {
     "name": "stdout",
     "output_type": "stream",
     "text": [
      "Epoch: 046, Average Loss: 0.5266\n",
      "Validation: {'precision': 0.632751578163265, 'recall': 0.6735177865586027, 'f1': 0.6524985590460243, 'auc': 0.7724882364012798, 'prauc': 0.6630135900592338}\n",
      "Test:       {'precision': 0.6444889779533287, 'recall': 0.6353220071093034, 'f1': 0.639872657154495, 'auc': 0.7700733015039694, 'prauc': 0.6484318588561878}\n"
     ]
    },
    {
     "name": "stderr",
     "output_type": "stream",
     "text": [
      "Training Batches: 100%|██████████| 1/1 [00:01<00:00,  1.34s/it]\n",
      "Running inference: 100%|██████████| 1/1 [00:02<00:00,  2.08s/it]\n",
      "Running inference: 100%|██████████| 1/1 [00:02<00:00,  2.35s/it]\n"
     ]
    },
    {
     "name": "stdout",
     "output_type": "stream",
     "text": [
      "Epoch: 047, Average Loss: 0.5262\n",
      "Validation: {'precision': 0.633058470762245, 'recall': 0.6675889328036855, 'f1': 0.6498653278213392, 'auc': 0.7718165087730305, 'prauc': 0.6635914064840938}\n",
      "Test:       {'precision': 0.6453583061862974, 'recall': 0.6262346898434364, 'f1': 0.6356526920108135, 'auc': 0.7693368726597506, 'prauc': 0.6477976750319674}\n"
     ]
    },
    {
     "name": "stderr",
     "output_type": "stream",
     "text": [
      "Training Batches: 100%|██████████| 1/1 [00:01<00:00,  1.01s/it]\n",
      "Running inference: 100%|██████████| 1/1 [00:02<00:00,  2.35s/it]\n",
      "Running inference: 100%|██████████| 1/1 [00:02<00:00,  2.05s/it]\n"
     ]
    },
    {
     "name": "stdout",
     "output_type": "stream",
     "text": [
      "Epoch: 048, Average Loss: 0.5236\n",
      "Validation: {'precision': 0.6290672451170316, 'recall': 0.6877470355704042, 'f1': 0.6570996928926437, 'auc': 0.7707337348641697, 'prauc': 0.6580715952291896}\n",
      "Test:       {'precision': 0.6404583168682716, 'recall': 0.6404583168682716, 'f1': 0.6404583118682716, 'auc': 0.7694589737663783, 'prauc': 0.6457770557195384}\n"
     ]
    },
    {
     "name": "stderr",
     "output_type": "stream",
     "text": [
      "Training Batches: 100%|██████████| 1/1 [00:01<00:00,  1.33s/it]\n",
      "Running inference: 100%|██████████| 1/1 [00:02<00:00,  2.06s/it]\n",
      "Running inference: 100%|██████████| 1/1 [00:02<00:00,  2.35s/it]\n"
     ]
    },
    {
     "name": "stdout",
     "output_type": "stream",
     "text": [
      "Epoch: 049, Average Loss: 0.5203\n",
      "Validation: {'precision': 0.6275712739060716, 'recall': 0.6873517786534097, 'f1': 0.6561026171546239, 'auc': 0.770344647301169, 'prauc': 0.653504632952594}\n",
      "Test:       {'precision': 0.6440745144643517, 'recall': 0.6420387198710311, 'f1': 0.6430550009333602, 'auc': 0.7699975380814607, 'prauc': 0.6450143691139869}\n"
     ]
    },
    {
     "name": "stderr",
     "output_type": "stream",
     "text": [
      "Training Batches: 100%|██████████| 1/1 [00:00<00:00,  1.02it/s]\n",
      "Running inference: 100%|██████████| 1/1 [00:02<00:00,  2.31s/it]\n",
      "Running inference: 100%|██████████| 1/1 [00:02<00:00,  2.38s/it]\n"
     ]
    },
    {
     "name": "stdout",
     "output_type": "stream",
     "text": [
      "Epoch: 050, Average Loss: 0.5173\n",
      "Validation: {'precision': 0.6331602373863755, 'recall': 0.6747035573095862, 'f1': 0.6532720960358399, 'auc': 0.7704479578392622, 'prauc': 0.6521297497387467}\n",
      "Test:       {'precision': 0.648714810278871, 'recall': 0.6282101935968858, 'f1': 0.6382978673391524, 'auc': 0.7703813292956891, 'prauc': 0.644467586730908}\n"
     ]
    },
    {
     "name": "stderr",
     "output_type": "stream",
     "text": [
      "Training Batches: 100%|██████████| 1/1 [00:01<00:00,  1.01s/it]\n",
      "Running inference: 100%|██████████| 1/1 [00:02<00:00,  2.06s/it]\n",
      "Running inference: 100%|██████████| 1/1 [00:02<00:00,  2.32s/it]\n"
     ]
    },
    {
     "name": "stdout",
     "output_type": "stream",
     "text": [
      "Epoch: 051, Average Loss: 0.5185\n",
      "Validation: {'precision': 0.631888317411345, 'recall': 0.6798418972305145, 'f1': 0.6549885707848431, 'auc': 0.7672890394629525, 'prauc': 0.6407904553307013}\n",
      "Test:       {'precision': 0.6467259498761249, 'recall': 0.6321612011037845, 'f1': 0.6393606343587331, 'auc': 0.7689917223617704, 'prauc': 0.6392198159657765}\n"
     ]
    },
    {
     "name": "stderr",
     "output_type": "stream",
     "text": [
      "Training Batches: 100%|██████████| 1/1 [00:01<00:00,  1.30s/it]\n",
      "Running inference: 100%|██████████| 1/1 [00:02<00:00,  2.06s/it]\n",
      "Running inference: 100%|██████████| 1/1 [00:02<00:00,  2.34s/it]\n"
     ]
    },
    {
     "name": "stdout",
     "output_type": "stream",
     "text": [
      "Epoch: 052, Average Loss: 0.5100\n",
      "Validation: {'precision': 0.640414905875373, 'recall': 0.6588932806298068, 'f1': 0.6495226912774598, 'auc': 0.770272288098375, 'prauc': 0.6501273647753187}\n",
      "Test:       {'precision': 0.6500843170292998, 'recall': 0.6092453575637723, 'f1': 0.6290026464405876, 'auc': 0.7698800445637622, 'prauc': 0.641796226026141}\n"
     ]
    },
    {
     "name": "stderr",
     "output_type": "stream",
     "text": [
      "Training Batches: 100%|██████████| 1/1 [00:00<00:00,  1.01it/s]\n",
      "Running inference: 100%|██████████| 1/1 [00:02<00:00,  2.38s/it]\n",
      "Running inference: 100%|██████████| 1/1 [00:02<00:00,  2.03s/it]\n"
     ]
    },
    {
     "name": "stdout",
     "output_type": "stream",
     "text": [
      "Epoch: 053, Average Loss: 0.5149\n",
      "Validation: {'precision': 0.6301969365403713, 'recall': 0.6830039525664704, 'f1': 0.6555386899980112, 'auc': 0.7650599159294812, 'prauc': 0.6307692892153223}\n",
      "Test:       {'precision': 0.6432517758459225, 'recall': 0.6440142236244805, 'f1': 0.6436327689362561, 'auc': 0.7664035139986406, 'prauc': 0.6326488252008168}\n"
     ]
    },
    {
     "name": "stderr",
     "output_type": "stream",
     "text": [
      "Training Batches: 100%|██████████| 1/1 [00:01<00:00,  1.32s/it]\n",
      "Running inference: 100%|██████████| 1/1 [00:02<00:00,  2.07s/it]\n",
      "Running inference: 100%|██████████| 1/1 [00:02<00:00,  2.34s/it]\n"
     ]
    },
    {
     "name": "stdout",
     "output_type": "stream",
     "text": [
      "Epoch: 054, Average Loss: 0.5071\n",
      "Validation: {'precision': 0.6146010186736347, 'recall': 0.7154150197600182, 'f1': 0.6611872096381846, 'auc': 0.7591367087019262, 'prauc': 0.6145047009172303}\n",
      "Test:       {'precision': 0.6280353200859896, 'recall': 0.6744369814276, 'f1': 0.6504095968327878, 'auc': 0.7605436033418841, 'prauc': 0.6266243559345998}\n"
     ]
    },
    {
     "name": "stderr",
     "output_type": "stream",
     "text": [
      "Training Batches: 100%|██████████| 1/1 [00:00<00:00,  1.00it/s]\n",
      "Running inference: 100%|██████████| 1/1 [00:02<00:00,  2.36s/it]\n",
      "Running inference: 100%|██████████| 1/1 [00:02<00:00,  2.38s/it]\n"
     ]
    },
    {
     "name": "stdout",
     "output_type": "stream",
     "text": [
      "Epoch: 055, Average Loss: 0.5134\n",
      "Validation: {'precision': 0.6249999999977224, 'recall': 0.677865612645542, 'f1': 0.6503602528745563, 'auc': 0.7652804441934877, 'prauc': 0.6309271485710999}\n",
      "Test:       {'precision': 0.6354851178947217, 'recall': 0.6495456341341386, 'f1': 0.642438447518604, 'auc': 0.7655091181566963, 'prauc': 0.6370010344075507}\n"
     ]
    },
    {
     "name": "stderr",
     "output_type": "stream",
     "text": [
      "Training Batches: 100%|██████████| 1/1 [00:01<00:00,  1.02s/it]\n",
      "Running inference: 100%|██████████| 1/1 [00:02<00:00,  2.05s/it]\n",
      "Running inference: 100%|██████████| 1/1 [00:02<00:00,  2.36s/it]\n"
     ]
    },
    {
     "name": "stdout",
     "output_type": "stream",
     "text": [
      "Epoch: 056, Average Loss: 0.4993\n",
      "Validation: {'precision': 0.635779122539199, 'recall': 0.6644268774677295, 'f1': 0.6497873935310328, 'auc': 0.7700134889265323, 'prauc': 0.6472703690767994}\n",
      "Test:       {'precision': 0.6424849699373048, 'recall': 0.6333465033558541, 'f1': 0.6378830033542643, 'auc': 0.7686781968787145, 'prauc': 0.6430015956733}\n"
     ]
    },
    {
     "name": "stderr",
     "output_type": "stream",
     "text": [
      "Training Batches: 100%|██████████| 1/1 [00:01<00:00,  1.31s/it]\n",
      "Running inference: 100%|██████████| 1/1 [00:02<00:00,  2.04s/it]\n",
      "Running inference: 100%|██████████| 1/1 [00:02<00:00,  2.33s/it]\n"
     ]
    },
    {
     "name": "stdout",
     "output_type": "stream",
     "text": [
      "Epoch: 057, Average Loss: 0.5028\n",
      "Validation: {'precision': 0.6348721861860555, 'recall': 0.6577075098788233, 'f1': 0.6460881332246393, 'auc': 0.7687404584143713, 'prauc': 0.6443327727297123}\n",
      "Test:       {'precision': 0.6423999999974305, 'recall': 0.6345318056079237, 'f1': 0.6384416566951275, 'auc': 0.7683711639073318, 'prauc': 0.6401781863866016}\n"
     ]
    },
    {
     "name": "stderr",
     "output_type": "stream",
     "text": [
      "Training Batches: 100%|██████████| 1/1 [00:01<00:00,  1.01s/it]\n",
      "Running inference: 100%|██████████| 1/1 [00:02<00:00,  2.37s/it]\n",
      "Running inference: 100%|██████████| 1/1 [00:02<00:00,  2.05s/it]\n"
     ]
    },
    {
     "name": "stdout",
     "output_type": "stream",
     "text": [
      "Epoch: 058, Average Loss: 0.4964\n",
      "Validation: {'precision': 0.6269929551330108, 'recall': 0.6683794466376745, 'f1': 0.6470250571797853, 'auc': 0.7631088315870925, 'prauc': 0.6316072136748585}\n",
      "Test:       {'precision': 0.6394138063993853, 'recall': 0.6550770446437967, 'f1': 0.6471506585423125, 'auc': 0.7657771960580402, 'prauc': 0.6332036606125018}\n"
     ]
    },
    {
     "name": "stderr",
     "output_type": "stream",
     "text": [
      "Training Batches: 100%|██████████| 1/1 [00:01<00:00,  1.31s/it]\n",
      "Running inference: 100%|██████████| 1/1 [00:02<00:00,  2.08s/it]\n",
      "Running inference: 100%|██████████| 1/1 [00:02<00:00,  2.39s/it]\n"
     ]
    },
    {
     "name": "stdout",
     "output_type": "stream",
     "text": [
      "Epoch: 059, Average Loss: 0.4970\n",
      "Validation: {'precision': 0.6202351264673308, 'recall': 0.6881422924873987, 'f1': 0.6524264518219667, 'auc': 0.7608380910554823, 'prauc': 0.6344330495002866}\n",
      "Test:       {'precision': 0.6308949127343821, 'recall': 0.6712761754220811, 'f1': 0.6504594130727622, 'auc': 0.7629370363548191, 'prauc': 0.6317037585861737}\n"
     ]
    },
    {
     "name": "stderr",
     "output_type": "stream",
     "text": [
      "Training Batches: 100%|██████████| 1/1 [00:01<00:00,  1.00s/it]\n",
      "Running inference: 100%|██████████| 1/1 [00:02<00:00,  2.40s/it]\n",
      "Running inference: 100%|██████████| 1/1 [00:02<00:00,  2.34s/it]\n"
     ]
    },
    {
     "name": "stdout",
     "output_type": "stream",
     "text": [
      "Epoch: 060, Average Loss: 0.4925\n",
      "Validation: {'precision': 0.6137714085962469, 'recall': 0.6940711462423159, 'f1': 0.6514561256044493, 'auc': 0.754809481983395, 'prauc': 0.6198712350443575}\n",
      "Test:       {'precision': 0.6244062842505502, 'recall': 0.6752271829289798, 'f1': 0.6488230777690397, 'auc': 0.7585240133398077, 'prauc': 0.6239372628532853}\n"
     ]
    },
    {
     "name": "stderr",
     "output_type": "stream",
     "text": [
      "Training Batches: 100%|██████████| 1/1 [00:01<00:00,  1.01s/it]\n",
      "Running inference: 100%|██████████| 1/1 [00:02<00:00,  2.05s/it]\n",
      "Running inference: 100%|██████████| 1/1 [00:02<00:00,  2.36s/it]\n"
     ]
    },
    {
     "name": "stdout",
     "output_type": "stream",
     "text": [
      "Epoch: 061, Average Loss: 0.4837\n",
      "Validation: {'precision': 0.6066783831261628, 'recall': 0.6822134387324814, 'f1': 0.6422325531543178, 'auc': 0.7466484723006461, 'prauc': 0.600827891777155}\n",
      "Test:       {'precision': 0.6210332103298117, 'recall': 0.6649545634110433, 'f1': 0.6422438415975431, 'auc': 0.7529183578176071, 'prauc': 0.6114414755116994}\n"
     ]
    },
    {
     "name": "stderr",
     "output_type": "stream",
     "text": [
      "Training Batches: 100%|██████████| 1/1 [00:01<00:00,  1.31s/it]\n",
      "Running inference: 100%|██████████| 1/1 [00:02<00:00,  2.06s/it]\n",
      "Running inference: 100%|██████████| 1/1 [00:02<00:00,  2.33s/it]\n"
     ]
    },
    {
     "name": "stdout",
     "output_type": "stream",
     "text": [
      "Epoch: 062, Average Loss: 0.4777\n",
      "Validation: {'precision': 0.6103336921398984, 'recall': 0.6723320158076193, 'f1': 0.6398344881445016, 'auc': 0.7444374385678734, 'prauc': 0.5945379710552317}\n",
      "Test:       {'precision': 0.6221968833119643, 'recall': 0.6467799288793095, 'f1': 0.6342502855844638, 'auc': 0.7508700751026525, 'prauc': 0.6078069874435206}\n"
     ]
    },
    {
     "name": "stderr",
     "output_type": "stream",
     "text": [
      "Training Batches: 100%|██████████| 1/1 [00:01<00:00,  1.03s/it]\n",
      "Running inference: 100%|██████████| 1/1 [00:02<00:00,  2.32s/it]\n",
      "Running inference: 100%|██████████| 1/1 [00:02<00:00,  2.05s/it]\n"
     ]
    },
    {
     "name": "stdout",
     "output_type": "stream",
     "text": [
      "Epoch: 063, Average Loss: 0.4750\n",
      "Validation: {'precision': 0.6162619573192927, 'recall': 0.6620553359657626, 'f1': 0.6383384096381302, 'auc': 0.7473091160047681, 'prauc': 0.6024498746458118}\n",
      "Test:       {'precision': 0.6278618548675675, 'recall': 0.639273014616202, 'f1': 0.6335160482477293, 'auc': 0.7531181596284524, 'prauc': 0.6125238875376787}\n"
     ]
    },
    {
     "name": "stderr",
     "output_type": "stream",
     "text": [
      "Training Batches: 100%|██████████| 1/1 [00:01<00:00,  1.29s/it]\n",
      "Running inference: 100%|██████████| 1/1 [00:02<00:00,  2.08s/it]\n",
      "Running inference: 100%|██████████| 1/1 [00:02<00:00,  2.32s/it]\n"
     ]
    },
    {
     "name": "stdout",
     "output_type": "stream",
     "text": [
      "Epoch: 064, Average Loss: 0.4722\n",
      "Validation: {'precision': 0.6109913793081502, 'recall': 0.6723320158076193, 'f1': 0.6401957044557585, 'auc': 0.7481177196394588, 'prauc': 0.6067715797675172}\n",
      "Test:       {'precision': 0.6242424242400597, 'recall': 0.651126037136898, 'f1': 0.6374008845762407, 'auc': 0.7529316569947442, 'prauc': 0.6140495129945321}\n",
      "\n",
      "Early stopping triggered after 64 epochs (no improvement for 10 epochs).\n",
      "\n",
      "Best validation performance:\n",
      "{'precision': 0.6146010186736347, 'recall': 0.7154150197600182, 'f1': 0.6611872096381846, 'auc': 0.7591367087019262, 'prauc': 0.6145047009172303}\n",
      "Corresponding test performance:\n",
      "{'precision': 0.6280353200859896, 'recall': 0.6744369814276, 'f1': 0.6504095968327878, 'auc': 0.7605436033418841, 'prauc': 0.6266243559345998}\n",
      "Corresponding test-long performance:\n",
      "{'precision': 0.7774834436983115, 'recall': 0.9030769230630296, 'f1': 0.8355871836281303, 'auc': 0.5330392156862745, 'prauc': 0.7659451023777193}\n",
      "[INFO] Random seed set to 1812140441\n",
      "Training with seed: 1812140441\n"
     ]
    },
    {
     "name": "stderr",
     "output_type": "stream",
     "text": [
      "Training Batches: 100%|██████████| 1/1 [00:01<00:00,  1.00s/it]\n",
      "Running inference: 100%|██████████| 1/1 [00:02<00:00,  2.35s/it]\n",
      "Running inference: 100%|██████████| 1/1 [00:02<00:00,  2.38s/it]\n"
     ]
    },
    {
     "name": "stdout",
     "output_type": "stream",
     "text": [
      "Epoch: 001, Average Loss: 0.6898\n",
      "Validation: {'precision': 0.6905775075945862, 'recall': 0.44901185770573515, 'f1': 0.5441916119885295, 'auc': 0.763515067862894, 'prauc': 0.6637054250561278}\n",
      "Test:       {'precision': 0.6736324523621781, 'recall': 0.4330304227560923, 'f1': 0.527176522410332, 'auc': 0.7605228691917022, 'prauc': 0.6483321610720392}\n"
     ]
    },
    {
     "name": "stderr",
     "output_type": "stream",
     "text": [
      "Training Batches: 100%|██████████| 1/1 [00:01<00:00,  1.03s/it]\n",
      "Running inference: 100%|██████████| 1/1 [00:02<00:00,  2.32s/it]\n",
      "Running inference: 100%|██████████| 1/1 [00:02<00:00,  2.04s/it]\n"
     ]
    },
    {
     "name": "stdout",
     "output_type": "stream",
     "text": [
      "Epoch: 002, Average Loss: 0.6674\n",
      "Validation: {'precision': 0.6732880292698731, 'recall': 0.5090909090888969, 'f1': 0.5797884263339678, 'auc': 0.764560825647782, 'prauc': 0.6642860598389002}\n",
      "Test:       {'precision': 0.6628971459307329, 'recall': 0.48636902409922417, 'f1': 0.5610756560087541, 'auc': 0.7613598796078901, 'prauc': 0.6482944688662402}\n"
     ]
    },
    {
     "name": "stderr",
     "output_type": "stream",
     "text": [
      "Training Batches: 100%|██████████| 1/1 [00:01<00:00,  1.60s/it]\n",
      "Running inference: 100%|██████████| 1/1 [00:02<00:00,  2.10s/it]\n",
      "Running inference: 100%|██████████| 1/1 [00:02<00:00,  2.08s/it]\n"
     ]
    },
    {
     "name": "stdout",
     "output_type": "stream",
     "text": [
      "Epoch: 003, Average Loss: 0.6454\n",
      "Validation: {'precision': 0.6636726546873071, 'recall': 0.5256916996026653, 'f1': 0.5866784247074062, 'auc': 0.7647487818139992, 'prauc': 0.6644324436840048}\n",
      "Test:       {'precision': 0.654665314398303, 'recall': 0.5100750691406161, 'f1': 0.5733955091762165, 'auc': 0.7615099404018844, 'prauc': 0.648557381308304}\n"
     ]
    },
    {
     "name": "stderr",
     "output_type": "stream",
     "text": [
      "Training Batches: 100%|██████████| 1/1 [00:01<00:00,  1.02s/it]\n",
      "Running inference: 100%|██████████| 1/1 [00:02<00:00,  2.04s/it]\n",
      "Running inference: 100%|██████████| 1/1 [00:02<00:00,  2.38s/it]\n"
     ]
    },
    {
     "name": "stdout",
     "output_type": "stream",
     "text": [
      "Epoch: 004, Average Loss: 0.6257\n",
      "Validation: {'precision': 0.6594724220591872, 'recall': 0.5434782608674171, 'f1': 0.5958829852930938, 'auc': 0.7650037643515905, 'prauc': 0.6647153982858982}\n",
      "Test:       {'precision': 0.6548025353454179, 'recall': 0.5306203081764891, 'f1': 0.5862068916040365, 'auc': 0.7618221045518476, 'prauc': 0.6490493501780252}\n"
     ]
    },
    {
     "name": "stderr",
     "output_type": "stream",
     "text": [
      "Training Batches: 100%|██████████| 1/1 [00:01<00:00,  1.31s/it]\n",
      "Running inference: 100%|██████████| 1/1 [00:02<00:00,  2.10s/it]\n",
      "Running inference: 100%|██████████| 1/1 [00:02<00:00,  2.05s/it]\n"
     ]
    },
    {
     "name": "stdout",
     "output_type": "stream",
     "text": [
      "Epoch: 005, Average Loss: 0.6080\n",
      "Validation: {'precision': 0.6600753295637474, 'recall': 0.5541501976262682, 'f1': 0.6024924746229139, 'auc': 0.7654390697868958, 'prauc': 0.6653407433172683}\n",
      "Test:       {'precision': 0.653403643333397, 'recall': 0.5385223231902864, 'f1': 0.5904266790378264, 'auc': 0.7622746954462256, 'prauc': 0.6497973181806962}\n"
     ]
    },
    {
     "name": "stderr",
     "output_type": "stream",
     "text": [
      "Training Batches: 100%|██████████| 1/1 [00:01<00:00,  1.32s/it]\n",
      "Running inference: 100%|██████████| 1/1 [00:02<00:00,  2.09s/it]\n",
      "Running inference: 100%|██████████| 1/1 [00:02<00:00,  2.07s/it]\n"
     ]
    },
    {
     "name": "stdout",
     "output_type": "stream",
     "text": [
      "Epoch: 006, Average Loss: 0.5938\n",
      "Validation: {'precision': 0.6531634046397217, 'recall': 0.5671936758870862, 'f1': 0.6071504075460442, 'auc': 0.7659062676453982, 'prauc': 0.6660859769297465}\n",
      "Test:       {'precision': 0.6506976744155781, 'recall': 0.5527459502151215, 'f1': 0.5977355216274511, 'auc': 0.7626967087049816, 'prauc': 0.6506045468966379}\n"
     ]
    },
    {
     "name": "stderr",
     "output_type": "stream",
     "text": [
      "Training Batches: 100%|██████████| 1/1 [00:01<00:00,  1.01s/it]\n",
      "Running inference: 100%|██████████| 1/1 [00:02<00:00,  2.39s/it]\n",
      "Running inference: 100%|██████████| 1/1 [00:01<00:00,  1.74s/it]\n"
     ]
    },
    {
     "name": "stdout",
     "output_type": "stream",
     "text": [
      "Epoch: 007, Average Loss: 0.5833\n",
      "Validation: {'precision': 0.651214128032445, 'recall': 0.5830039525668657, 'f1': 0.6152241868792333, 'auc': 0.7664090177133656, 'prauc': 0.6668566424887727}\n",
      "Test:       {'precision': 0.6471119133544806, 'recall': 0.5665744764892668, 'f1': 0.604171050422884, 'auc': 0.7631083548886466, 'prauc': 0.651249922415007}\n"
     ]
    },
    {
     "name": "stderr",
     "output_type": "stream",
     "text": [
      "Training Batches: 100%|██████████| 1/1 [00:01<00:00,  1.30s/it]\n",
      "Running inference: 100%|██████████| 1/1 [00:02<00:00,  2.48s/it]\n",
      "Running inference: 100%|██████████| 1/1 [00:01<00:00,  1.76s/it]\n"
     ]
    },
    {
     "name": "stdout",
     "output_type": "stream",
     "text": [
      "Epoch: 008, Average Loss: 0.5797\n",
      "Validation: {'precision': 0.6515017667815747, 'recall': 0.5830039525668657, 'f1': 0.6153525190011452, 'auc': 0.7670340046427002, 'prauc': 0.6676153324589881}\n",
      "Test:       {'precision': 0.6475631768923846, 'recall': 0.5669695772399567, 'f1': 0.6045923691504996, 'auc': 0.763678439300723, 'prauc': 0.6518207607427455}\n"
     ]
    },
    {
     "name": "stderr",
     "output_type": "stream",
     "text": [
      "Training Batches: 100%|██████████| 1/1 [00:01<00:00,  1.32s/it]\n",
      "Running inference: 100%|██████████| 1/1 [00:02<00:00,  2.07s/it]\n",
      "Running inference: 100%|██████████| 1/1 [00:02<00:00,  2.06s/it]\n"
     ]
    },
    {
     "name": "stdout",
     "output_type": "stream",
     "text": [
      "Epoch: 009, Average Loss: 0.5779\n",
      "Validation: {'precision': 0.6517000871811173, 'recall': 0.5909090909067554, 'f1': 0.6198175737821998, 'auc': 0.7675278666583014, 'prauc': 0.6683366429145391}\n",
      "Test:       {'precision': 0.6457219251308123, 'recall': 0.5725009877496148, 'f1': 0.6069109897799188, 'auc': 0.7641279933751247, 'prauc': 0.6522805541251869}\n"
     ]
    },
    {
     "name": "stderr",
     "output_type": "stream",
     "text": [
      "Training Batches: 100%|██████████| 1/1 [00:01<00:00,  1.36s/it]\n",
      "Running inference: 100%|██████████| 1/1 [00:02<00:00,  2.09s/it]\n",
      "Running inference: 100%|██████████| 1/1 [00:02<00:00,  2.07s/it]\n"
     ]
    },
    {
     "name": "stdout",
     "output_type": "stream",
     "text": [
      "Epoch: 010, Average Loss: 0.5776\n",
      "Validation: {'precision': 0.6492346938747907, 'recall': 0.6035573122505788, 'f1': 0.6255632887361612, 'auc': 0.7678980278980279, 'prauc': 0.6689825145233801}\n",
      "Test:       {'precision': 0.6469049694827947, 'recall': 0.5863295140237601, 'f1': 0.6151295286882703, 'auc': 0.7643780597924721, 'prauc': 0.6525652229020067}\n"
     ]
    },
    {
     "name": "stderr",
     "output_type": "stream",
     "text": [
      "Training Batches: 100%|██████████| 1/1 [00:01<00:00,  1.01s/it]\n",
      "Running inference: 100%|██████████| 1/1 [00:02<00:00,  2.34s/it]\n",
      "Running inference: 100%|██████████| 1/1 [00:02<00:00,  2.08s/it]\n"
     ]
    },
    {
     "name": "stdout",
     "output_type": "stream",
     "text": [
      "Epoch: 011, Average Loss: 0.5757\n",
      "Validation: {'precision': 0.6468855218827994, 'recall': 0.6075098814205238, 'f1': 0.6265796933309498, 'auc': 0.7680009201748332, 'prauc': 0.6693250358357892}\n",
      "Test:       {'precision': 0.6462467644493259, 'recall': 0.5918609245334182, 'f1': 0.6178593474509023, 'auc': 0.7645907419087336, 'prauc': 0.6522707532592219}\n"
     ]
    },
    {
     "name": "stderr",
     "output_type": "stream",
     "text": [
      "Training Batches: 100%|██████████| 1/1 [00:01<00:00,  1.31s/it]\n",
      "Running inference: 100%|██████████| 1/1 [00:02<00:00,  2.12s/it]\n",
      "Running inference: 100%|██████████| 1/1 [00:02<00:00,  2.09s/it]\n"
     ]
    },
    {
     "name": "stdout",
     "output_type": "stream",
     "text": [
      "Epoch: 012, Average Loss: 0.5739\n",
      "Validation: {'precision': 0.6482582837695486, 'recall': 0.6031620553335844, 'f1': 0.6248976199015589, 'auc': 0.7679313319530711, 'prauc': 0.6694719870064492}\n",
      "Test:       {'precision': 0.6448395489998056, 'recall': 0.5875148162758297, 'f1': 0.6148439065236788, 'auc': 0.7647458291633781, 'prauc': 0.6520755295976446}\n"
     ]
    },
    {
     "name": "stderr",
     "output_type": "stream",
     "text": [
      "Training Batches: 100%|██████████| 1/1 [00:00<00:00,  1.40it/s]\n",
      "Running inference: 100%|██████████| 1/1 [00:02<00:00,  2.35s/it]\n",
      "Running inference: 100%|██████████| 1/1 [00:02<00:00,  2.36s/it]\n"
     ]
    },
    {
     "name": "stdout",
     "output_type": "stream",
     "text": [
      "Epoch: 013, Average Loss: 0.5700\n",
      "Validation: {'precision': 0.6495023799193012, 'recall': 0.5932806324087222, 'f1': 0.6201198049642913, 'auc': 0.7678078403078403, 'prauc': 0.6693122043731246}\n",
      "Test:       {'precision': 0.6438053097316646, 'recall': 0.574871592253754, 'f1': 0.6073888491149023, 'auc': 0.7648025862815532, 'prauc': 0.6515718178792751}\n"
     ]
    },
    {
     "name": "stderr",
     "output_type": "stream",
     "text": [
      "Training Batches: 100%|██████████| 1/1 [00:01<00:00,  1.30s/it]\n",
      "Running inference: 100%|██████████| 1/1 [00:02<00:00,  2.39s/it]\n",
      "Running inference: 100%|██████████| 1/1 [00:01<00:00,  1.75s/it]\n"
     ]
    },
    {
     "name": "stdout",
     "output_type": "stream",
     "text": [
      "Epoch: 014, Average Loss: 0.5690\n",
      "Validation: {'precision': 0.6530701754357322, 'recall': 0.5885375494047884, 'f1': 0.619126814137752, 'auc': 0.7678100884622623, 'prauc': 0.669365741175474}\n",
      "Test:       {'precision': 0.6445647271057982, 'recall': 0.5645989727358175, 'f1': 0.6019376529805794, 'auc': 0.7648804964216314, 'prauc': 0.6512741547214767}\n"
     ]
    },
    {
     "name": "stderr",
     "output_type": "stream",
     "text": [
      "Training Batches: 100%|██████████| 1/1 [00:01<00:00,  1.31s/it]\n",
      "Running inference: 100%|██████████| 1/1 [00:02<00:00,  2.39s/it]\n",
      "Running inference: 100%|██████████| 1/1 [00:01<00:00,  1.74s/it]\n"
     ]
    },
    {
     "name": "stdout",
     "output_type": "stream",
     "text": [
      "Epoch: 015, Average Loss: 0.5690\n",
      "Validation: {'precision': 0.6516213847473636, 'recall': 0.5877470355707994, 'f1': 0.6180382327496978, 'auc': 0.7678563063345673, 'prauc': 0.669610849818212}\n",
      "Test:       {'precision': 0.6451758340818523, 'recall': 0.5653891742371973, 'f1': 0.6026531851644755, 'auc': 0.7649191896968448, 'prauc': 0.6510454736468854}\n"
     ]
    },
    {
     "name": "stderr",
     "output_type": "stream",
     "text": [
      "Training Batches: 100%|██████████| 1/1 [00:01<00:00,  1.31s/it]\n",
      "Running inference: 100%|██████████| 1/1 [00:02<00:00,  2.05s/it]\n",
      "Running inference: 100%|██████████| 1/1 [00:02<00:00,  2.39s/it]\n"
     ]
    },
    {
     "name": "stdout",
     "output_type": "stream",
     "text": [
      "Epoch: 016, Average Loss: 0.5671\n",
      "Validation: {'precision': 0.6499784203683644, 'recall': 0.5952569169936947, 'f1': 0.6214153034453009, 'auc': 0.7679327435849175, 'prauc': 0.6699202449333785}\n",
      "Test:       {'precision': 0.6443161634074409, 'recall': 0.5732911892509945, 'f1': 0.6067321714727657, 'auc': 0.7649619669713364, 'prauc': 0.6511502786488021}\n"
     ]
    },
    {
     "name": "stderr",
     "output_type": "stream",
     "text": [
      "Training Batches: 100%|██████████| 1/1 [00:00<00:00,  1.40it/s]\n",
      "Running inference: 100%|██████████| 1/1 [00:02<00:00,  2.35s/it]\n",
      "Running inference: 100%|██████████| 1/1 [00:02<00:00,  2.35s/it]\n"
     ]
    },
    {
     "name": "stdout",
     "output_type": "stream",
     "text": [
      "Epoch: 017, Average Loss: 0.5666\n",
      "Validation: {'precision': 0.6487409304283025, 'recall': 0.6007905138316174, 'f1': 0.6238456752838917, 'auc': 0.7683935629587804, 'prauc': 0.6703945364704291}\n",
      "Test:       {'precision': 0.6442392260305883, 'recall': 0.5788225997606526, 'f1': 0.6097814726392371, 'auc': 0.7653273278298476, 'prauc': 0.6513778886291592}\n"
     ]
    },
    {
     "name": "stderr",
     "output_type": "stream",
     "text": [
      "Training Batches: 100%|██████████| 1/1 [00:00<00:00,  1.01it/s]\n",
      "Running inference: 100%|██████████| 1/1 [00:02<00:00,  2.38s/it]\n",
      "Running inference: 100%|██████████| 1/1 [00:02<00:00,  2.42s/it]\n"
     ]
    },
    {
     "name": "stdout",
     "output_type": "stream",
     "text": [
      "Epoch: 018, Average Loss: 0.5632\n",
      "Validation: {'precision': 0.648705982177986, 'recall': 0.6043478260845678, 'f1': 0.6257417588670159, 'auc': 0.7691099922621661, 'prauc': 0.6709801834836658}\n",
      "Test:       {'precision': 0.6458973233846166, 'recall': 0.5815883050154816, 'f1': 0.6120582070693912, 'auc': 0.7659118633162932, 'prauc': 0.6518538357370676}\n"
     ]
    },
    {
     "name": "stderr",
     "output_type": "stream",
     "text": [
      "Training Batches: 100%|██████████| 1/1 [00:00<00:00,  1.41it/s]\n",
      "Running inference: 100%|██████████| 1/1 [00:02<00:00,  2.38s/it]\n",
      "Running inference: 100%|██████████| 1/1 [00:02<00:00,  2.12s/it]\n"
     ]
    },
    {
     "name": "stdout",
     "output_type": "stream",
     "text": [
      "Epoch: 019, Average Loss: 0.5619\n",
      "Validation: {'precision': 0.6512425021394549, 'recall': 0.6007905138316174, 'f1': 0.624999995005549, 'auc': 0.769768492377188, 'prauc': 0.6717046227706993}\n",
      "Test:       {'precision': 0.6489741302379618, 'recall': 0.574871592253754, 'f1': 0.6096794419045255, 'auc': 0.766466868346419, 'prauc': 0.6521863649690732}\n"
     ]
    },
    {
     "name": "stderr",
     "output_type": "stream",
     "text": [
      "Training Batches: 100%|██████████| 1/1 [00:00<00:00,  1.39it/s]\n",
      "Running inference: 100%|██████████| 1/1 [00:02<00:00,  2.35s/it]\n",
      "Running inference: 100%|██████████| 1/1 [00:02<00:00,  2.04s/it]\n"
     ]
    },
    {
     "name": "stdout",
     "output_type": "stream",
     "text": [
      "Epoch: 020, Average Loss: 0.5606\n",
      "Validation: {'precision': 0.650576676631138, 'recall': 0.6019762845826009, 'f1': 0.625333602067165, 'auc': 0.7701671999498086, 'prauc': 0.6721412771247847}\n",
      "Test:       {'precision': 0.6497777777748899, 'recall': 0.5776372975085831, 'f1': 0.6115875290034191, 'auc': 0.7667797655218936, 'prauc': 0.6523231212892274}\n"
     ]
    },
    {
     "name": "stderr",
     "output_type": "stream",
     "text": [
      "Training Batches: 100%|██████████| 1/1 [00:01<00:00,  1.28s/it]\n",
      "Running inference: 100%|██████████| 1/1 [00:02<00:00,  2.35s/it]\n",
      "Running inference: 100%|██████████| 1/1 [00:02<00:00,  2.31s/it]\n"
     ]
    },
    {
     "name": "stdout",
     "output_type": "stream",
     "text": [
      "Epoch: 021, Average Loss: 0.5620\n",
      "Validation: {'precision': 0.6484472049662591, 'recall': 0.6189723320133638, 'f1': 0.6333670324116695, 'auc': 0.7700513415730807, 'prauc': 0.6721070388360595}\n",
      "Test:       {'precision': 0.6500649631847117, 'recall': 0.5930462267854878, 'f1': 0.6202479288922539, 'auc': 0.7668083535168417, 'prauc': 0.6525376646902219}\n"
     ]
    },
    {
     "name": "stderr",
     "output_type": "stream",
     "text": [
      "Training Batches: 100%|██████████| 1/1 [00:01<00:00,  1.29s/it]\n",
      "Running inference: 100%|██████████| 1/1 [00:02<00:00,  2.34s/it]\n",
      "Running inference: 100%|██████████| 1/1 [00:02<00:00,  2.30s/it]\n"
     ]
    },
    {
     "name": "stdout",
     "output_type": "stream",
     "text": [
      "Epoch: 022, Average Loss: 0.5590\n",
      "Validation: {'precision': 0.6407304485881671, 'recall': 0.6379446640290991, 'f1': 0.6393345166849542, 'auc': 0.7694604429387037, 'prauc': 0.6713379061153943}\n",
      "Test:       {'precision': 0.6463515754533734, 'recall': 0.6159620703255, 'f1': 0.6307910126009931, 'auc': 0.7664893827014148, 'prauc': 0.6525833470941168}\n"
     ]
    },
    {
     "name": "stderr",
     "output_type": "stream",
     "text": [
      "Training Batches: 100%|██████████| 1/1 [00:01<00:00,  1.60s/it]\n",
      "Running inference: 100%|██████████| 1/1 [00:02<00:00,  2.06s/it]\n",
      "Running inference: 100%|██████████| 1/1 [00:02<00:00,  2.08s/it]\n"
     ]
    },
    {
     "name": "stdout",
     "output_type": "stream",
     "text": [
      "Epoch: 023, Average Loss: 0.5610\n",
      "Validation: {'precision': 0.6418029517325816, 'recall': 0.6359683794441267, 'f1': 0.6388723396471607, 'auc': 0.7700919129179998, 'prauc': 0.6719350518115426}\n",
      "Test:       {'precision': 0.6492256174104261, 'recall': 0.612801264319981, 'f1': 0.630487799879651, 'auc': 0.7670450683980868, 'prauc': 0.6521031262405796}\n"
     ]
    },
    {
     "name": "stderr",
     "output_type": "stream",
     "text": [
      "Training Batches: 100%|██████████| 1/1 [00:01<00:00,  1.03s/it]\n",
      "Running inference: 100%|██████████| 1/1 [00:02<00:00,  2.05s/it]\n",
      "Running inference: 100%|██████████| 1/1 [00:02<00:00,  2.32s/it]\n"
     ]
    },
    {
     "name": "stdout",
     "output_type": "stream",
     "text": [
      "Epoch: 024, Average Loss: 0.5574\n",
      "Validation: {'precision': 0.645253682485085, 'recall': 0.6233201581003031, 'f1': 0.6340973009900992, 'auc': 0.7705404981491938, 'prauc': 0.6724518116101934}\n",
      "Test:       {'precision': 0.6490776490748645, 'recall': 0.5977874357937661, 'f1': 0.6223776173835228, 'auc': 0.7673985437715188, 'prauc': 0.6514393832415445}\n"
     ]
    },
    {
     "name": "stderr",
     "output_type": "stream",
     "text": [
      "Training Batches: 100%|██████████| 1/1 [00:01<00:00,  1.32s/it]\n",
      "Running inference: 100%|██████████| 1/1 [00:02<00:00,  2.04s/it]\n",
      "Running inference: 100%|██████████| 1/1 [00:02<00:00,  2.38s/it]\n"
     ]
    },
    {
     "name": "stdout",
     "output_type": "stream",
     "text": [
      "Epoch: 025, Average Loss: 0.5526\n",
      "Validation: {'precision': 0.6486710963428212, 'recall': 0.6173913043453858, 'f1': 0.6326447904642404, 'auc': 0.7706507099985361, 'prauc': 0.6724839802221746}\n",
      "Test:       {'precision': 0.6496286588001328, 'recall': 0.5875148162758297, 'f1': 0.6170124431428239, 'auc': 0.7675268232360292, 'prauc': 0.6509734302936069}\n"
     ]
    },
    {
     "name": "stderr",
     "output_type": "stream",
     "text": [
      "Training Batches: 100%|██████████| 1/1 [00:00<00:00,  1.00it/s]\n",
      "Running inference: 100%|██████████| 1/1 [00:02<00:00,  2.36s/it]\n",
      "Running inference: 100%|██████████| 1/1 [00:02<00:00,  2.06s/it]\n"
     ]
    },
    {
     "name": "stdout",
     "output_type": "stream",
     "text": [
      "Epoch: 026, Average Loss: 0.5551\n",
      "Validation: {'precision': 0.6475953565478956, 'recall': 0.6173913043453858, 'f1': 0.6321327347817575, 'auc': 0.7715722441809398, 'prauc': 0.673764729430253}\n",
      "Test:       {'precision': 0.648825065271328, 'recall': 0.5890952192785891, 'f1': 0.6175191501136594, 'auc': 0.7679917708461722, 'prauc': 0.6507343691179949}\n"
     ]
    },
    {
     "name": "stderr",
     "output_type": "stream",
     "text": [
      "Training Batches: 100%|██████████| 1/1 [00:01<00:00,  1.33s/it]\n",
      "Running inference: 100%|██████████| 1/1 [00:02<00:00,  2.09s/it]\n",
      "Running inference: 100%|██████████| 1/1 [00:02<00:00,  2.05s/it]\n"
     ]
    },
    {
     "name": "stdout",
     "output_type": "stream",
     "text": [
      "Epoch: 027, Average Loss: 0.5544\n",
      "Validation: {'precision': 0.648216482162164, 'recall': 0.624901185768281, 'f1': 0.6363453361140282, 'auc': 0.7712215320910972, 'prauc': 0.6732632611732791}\n",
      "Test:       {'precision': 0.6500865051874997, 'recall': 0.5938364282868676, 'f1': 0.6206896501800749, 'auc': 0.7678765811229384, 'prauc': 0.6509843963812554}\n"
     ]
    },
    {
     "name": "stderr",
     "output_type": "stream",
     "text": [
      "Training Batches: 100%|██████████| 1/1 [00:01<00:00,  1.28s/it]\n",
      "Running inference: 100%|██████████| 1/1 [00:02<00:00,  2.06s/it]\n",
      "Running inference: 100%|██████████| 1/1 [00:02<00:00,  2.37s/it]\n"
     ]
    },
    {
     "name": "stdout",
     "output_type": "stream",
     "text": [
      "Epoch: 028, Average Loss: 0.5525\n",
      "Validation: {'precision': 0.6405693950152608, 'recall': 0.6403162055310659, 'f1': 0.6404427702494945, 'auc': 0.7706570884831755, 'prauc': 0.6726477189091289}\n",
      "Test:       {'precision': 0.6424116424089713, 'recall': 0.6104306598158419, 'f1': 0.6260129609650653, 'auc': 0.7675279751332615, 'prauc': 0.6510618594863715}\n"
     ]
    },
    {
     "name": "stderr",
     "output_type": "stream",
     "text": [
      "Training Batches: 100%|██████████| 1/1 [00:01<00:00,  1.02s/it]\n",
      "Running inference: 100%|██████████| 1/1 [00:02<00:00,  2.34s/it]\n",
      "Running inference: 100%|██████████| 1/1 [00:02<00:00,  2.38s/it]\n"
     ]
    },
    {
     "name": "stdout",
     "output_type": "stream",
     "text": [
      "Epoch: 029, Average Loss: 0.5523\n",
      "Validation: {'precision': 0.6369996113461446, 'recall': 0.6478260869539612, 'f1': 0.6423672299576649, 'auc': 0.7716832925528578, 'prauc': 0.6734553844170502}\n",
      "Test:       {'precision': 0.6431196406670351, 'recall': 0.6222836823365379, 'f1': 0.6325301154807432, 'auc': 0.7683654044211701, 'prauc': 0.6516465269253511}\n"
     ]
    },
    {
     "name": "stderr",
     "output_type": "stream",
     "text": [
      "Training Batches: 100%|██████████| 1/1 [00:00<00:00,  1.41it/s]\n",
      "Running inference: 100%|██████████| 1/1 [00:02<00:00,  2.33s/it]\n",
      "Running inference: 100%|██████████| 1/1 [00:02<00:00,  2.40s/it]\n"
     ]
    },
    {
     "name": "stdout",
     "output_type": "stream",
     "text": [
      "Epoch: 030, Average Loss: 0.5493\n",
      "Validation: {'precision': 0.6344617725346731, 'recall': 0.6592885375468013, 'f1': 0.6466369401437423, 'auc': 0.7719997072170984, 'prauc': 0.6736125577398293}\n",
      "Test:       {'precision': 0.6401273885324836, 'recall': 0.6353220071093034, 'f1': 0.6377156404466795, 'auc': 0.7686654212912286, 'prauc': 0.6510961906775311}\n"
     ]
    },
    {
     "name": "stderr",
     "output_type": "stream",
     "text": [
      "Training Batches: 100%|██████████| 1/1 [00:01<00:00,  1.01s/it]\n",
      "Running inference: 100%|██████████| 1/1 [00:02<00:00,  2.34s/it]\n",
      "Running inference: 100%|██████████| 1/1 [00:02<00:00,  2.41s/it]\n"
     ]
    },
    {
     "name": "stdout",
     "output_type": "stream",
     "text": [
      "Epoch: 031, Average Loss: 0.5452\n",
      "Validation: {'precision': 0.6348484848460801, 'recall': 0.6624505928827571, 'f1': 0.6483558944194846, 'auc': 0.7725462701549658, 'prauc': 0.6740100743311693}\n",
      "Test:       {'precision': 0.6378015025676639, 'recall': 0.6372975108627527, 'f1': 0.6375494021121054, 'auc': 0.7689874289266317, 'prauc': 0.6507573766810388}\n"
     ]
    },
    {
     "name": "stderr",
     "output_type": "stream",
     "text": [
      "Training Batches: 100%|██████████| 1/1 [00:00<00:00,  1.40it/s]\n",
      "Running inference: 100%|██████████| 1/1 [00:02<00:00,  2.36s/it]\n",
      "Running inference: 100%|██████████| 1/1 [00:02<00:00,  2.08s/it]\n"
     ]
    },
    {
     "name": "stdout",
     "output_type": "stream",
     "text": [
      "Epoch: 032, Average Loss: 0.5442\n",
      "Validation: {'precision': 0.635703363911943, 'recall': 0.6573122529618288, 'f1': 0.6463272394606024, 'auc': 0.7721931530627183, 'prauc': 0.6740720410714207}\n",
      "Test:       {'precision': 0.6377449020366344, 'recall': 0.6301856973503351, 'f1': 0.6339427612933656, 'auc': 0.7687021772847331, 'prauc': 0.6506933724128863}\n"
     ]
    },
    {
     "name": "stderr",
     "output_type": "stream",
     "text": [
      "Training Batches: 100%|██████████| 1/1 [00:00<00:00,  1.41it/s]\n",
      "Running inference: 100%|██████████| 1/1 [00:02<00:00,  2.36s/it]\n",
      "Running inference: 100%|██████████| 1/1 [00:02<00:00,  2.33s/it]\n"
     ]
    },
    {
     "name": "stdout",
     "output_type": "stream",
     "text": [
      "Epoch: 033, Average Loss: 0.5421\n",
      "Validation: {'precision': 0.6354246365698721, 'recall': 0.6565217391278398, 'f1': 0.6458009281247945, 'auc': 0.7710563711650669, 'prauc': 0.6733758810548447}\n",
      "Test:       {'precision': 0.6342147435872026, 'recall': 0.6254444883420568, 'f1': 0.6297990799390537, 'auc': 0.7675248335953551, 'prauc': 0.6501666140010559}\n"
     ]
    },
    {
     "name": "stderr",
     "output_type": "stream",
     "text": [
      "Training Batches: 100%|██████████| 1/1 [00:01<00:00,  1.01s/it]\n",
      "Running inference: 100%|██████████| 1/1 [00:02<00:00,  2.32s/it]\n",
      "Running inference: 100%|██████████| 1/1 [00:02<00:00,  2.39s/it]\n"
     ]
    },
    {
     "name": "stdout",
     "output_type": "stream",
     "text": [
      "Epoch: 034, Average Loss: 0.5447\n",
      "Validation: {'precision': 0.6344537815101816, 'recall': 0.6565217391278398, 'f1': 0.6452991402980993, 'auc': 0.7709366961540874, 'prauc': 0.6733836885064914}\n",
      "Test:       {'precision': 0.6322297566787706, 'recall': 0.6262346898434364, 'f1': 0.6292179386260397, 'auc': 0.7670736040340697, 'prauc': 0.6501055262796163}\n"
     ]
    },
    {
     "name": "stderr",
     "output_type": "stream",
     "text": [
      "Training Batches: 100%|██████████| 1/1 [00:00<00:00,  1.41it/s]\n",
      "Running inference: 100%|██████████| 1/1 [00:02<00:00,  2.35s/it]\n",
      "Running inference: 100%|██████████| 1/1 [00:02<00:00,  2.42s/it]\n"
     ]
    },
    {
     "name": "stdout",
     "output_type": "stream",
     "text": [
      "Epoch: 035, Average Loss: 0.5410\n",
      "Validation: {'precision': 0.6306137724527298, 'recall': 0.6660079051357075, 'f1': 0.6478277535556372, 'auc': 0.7723800635757158, 'prauc': 0.674268803676766}\n",
      "Test:       {'precision': 0.634789452968773, 'recall': 0.6372975108627527, 'f1': 0.6360410044612339, 'auc': 0.7681390042560509, 'prauc': 0.6509992640674042}\n"
     ]
    },
    {
     "name": "stderr",
     "output_type": "stream",
     "text": [
      "Training Batches: 100%|██████████| 1/1 [00:00<00:00,  1.38it/s]\n",
      "Running inference: 100%|██████████| 1/1 [00:02<00:00,  2.39s/it]\n",
      "Running inference: 100%|██████████| 1/1 [00:02<00:00,  2.08s/it]\n"
     ]
    },
    {
     "name": "stdout",
     "output_type": "stream",
     "text": [
      "Epoch: 036, Average Loss: 0.5366\n",
      "Validation: {'precision': 0.6286019210223103, 'recall': 0.6984189723292553, 'f1': 0.6616738388608288, 'auc': 0.7731540038061778, 'prauc': 0.668940501510952}\n",
      "Test:       {'precision': 0.6298094882307441, 'recall': 0.6661398656631129, 'f1': 0.6474654327894616, 'auc': 0.7694249404390593, 'prauc': 0.6495746507281901}\n"
     ]
    },
    {
     "name": "stderr",
     "output_type": "stream",
     "text": [
      "Training Batches: 100%|██████████| 1/1 [00:00<00:00,  1.40it/s]\n",
      "Running inference: 100%|██████████| 1/1 [00:02<00:00,  2.39s/it]\n",
      "Running inference: 100%|██████████| 1/1 [00:02<00:00,  2.41s/it]\n"
     ]
    },
    {
     "name": "stdout",
     "output_type": "stream",
     "text": [
      "Epoch: 037, Average Loss: 0.5338\n",
      "Validation: {'precision': 0.626354421528744, 'recall': 0.7083003952541174, 'f1': 0.6648117182588238, 'auc': 0.7731739757826714, 'prauc': 0.6644232963777539}\n",
      "Test:       {'precision': 0.630746598011656, 'recall': 0.6775977874331189, 'f1': 0.6533333283372562, 'auc': 0.7697299837697679, 'prauc': 0.6484854529701444}\n"
     ]
    },
    {
     "name": "stderr",
     "output_type": "stream",
     "text": [
      "Training Batches: 100%|██████████| 1/1 [00:01<00:00,  1.02s/it]\n",
      "Running inference: 100%|██████████| 1/1 [00:02<00:00,  2.36s/it]\n",
      "Running inference: 100%|██████████| 1/1 [00:02<00:00,  2.41s/it]\n"
     ]
    },
    {
     "name": "stdout",
     "output_type": "stream",
     "text": [
      "Epoch: 038, Average Loss: 0.5352\n",
      "Validation: {'precision': 0.6317483017496184, 'recall': 0.6984189723292553, 'f1': 0.6634127977132805, 'auc': 0.7745257962649267, 'prauc': 0.6701606697342148}\n",
      "Test:       {'precision': 0.6332075471674219, 'recall': 0.662979059657594, 'f1': 0.6477513943438934, 'auc': 0.7699031872263393, 'prauc': 0.6500036803393453}\n"
     ]
    },
    {
     "name": "stderr",
     "output_type": "stream",
     "text": [
      "Training Batches: 100%|██████████| 1/1 [00:00<00:00,  1.42it/s]\n",
      "Running inference: 100%|██████████| 1/1 [00:02<00:00,  2.34s/it]\n",
      "Running inference: 100%|██████████| 1/1 [00:02<00:00,  2.40s/it]\n"
     ]
    },
    {
     "name": "stdout",
     "output_type": "stream",
     "text": [
      "Epoch: 039, Average Loss: 0.5286\n",
      "Validation: {'precision': 0.6317871269304862, 'recall': 0.6944664031593104, 'f1': 0.6616456361308755, 'auc': 0.7751070226070227, 'prauc': 0.6731192288269652}\n",
      "Test:       {'precision': 0.6340068623689135, 'recall': 0.6570525483972459, 'f1': 0.6453240151775911, 'auc': 0.7696955315707282, 'prauc': 0.6505816341504109}\n"
     ]
    },
    {
     "name": "stderr",
     "output_type": "stream",
     "text": [
      "Training Batches: 100%|██████████| 1/1 [00:00<00:00,  1.43it/s]\n",
      "Running inference: 100%|██████████| 1/1 [00:02<00:00,  2.36s/it]\n",
      "Running inference: 100%|██████████| 1/1 [00:02<00:00,  2.12s/it]\n"
     ]
    },
    {
     "name": "stdout",
     "output_type": "stream",
     "text": [
      "Epoch: 040, Average Loss: 0.5302\n",
      "Validation: {'precision': 0.6270175438574491, 'recall': 0.706324110669145, 'f1': 0.6643122626732122, 'auc': 0.7742696635087939, 'prauc': 0.6725899575543965}\n",
      "Test:       {'precision': 0.6298076923053632, 'recall': 0.6728565784248406, 'f1': 0.6506208163974353, 'auc': 0.7686708666235997, 'prauc': 0.6509047898230003}\n"
     ]
    },
    {
     "name": "stderr",
     "output_type": "stream",
     "text": [
      "Training Batches: 100%|██████████| 1/1 [00:00<00:00,  1.37it/s]\n",
      "Running inference: 100%|██████████| 1/1 [00:02<00:00,  2.42s/it]\n",
      "Running inference: 100%|██████████| 1/1 [00:02<00:00,  2.41s/it]\n"
     ]
    },
    {
     "name": "stdout",
     "output_type": "stream",
     "text": [
      "Epoch: 041, Average Loss: 0.5229\n",
      "Validation: {'precision': 0.6220930232536864, 'recall': 0.7189723320129685, 'f1': 0.6670333650273146, 'auc': 0.773141508250204, 'prauc': 0.6678931813514137}\n",
      "Test:       {'precision': 0.6246408045954575, 'recall': 0.6870802054496757, 'f1': 0.6543744070502594, 'auc': 0.7679726074649433, 'prauc': 0.6497143477675549}\n"
     ]
    },
    {
     "name": "stderr",
     "output_type": "stream",
     "text": [
      "Training Batches: 100%|██████████| 1/1 [00:01<00:00,  1.03s/it]\n",
      "Running inference: 100%|██████████| 1/1 [00:02<00:00,  2.38s/it]\n",
      "Running inference: 100%|██████████| 1/1 [00:02<00:00,  2.42s/it]\n"
     ]
    },
    {
     "name": "stdout",
     "output_type": "stream",
     "text": [
      "Epoch: 042, Average Loss: 0.5190\n",
      "Validation: {'precision': 0.6158740790334365, 'recall': 0.7268774703528582, 'f1': 0.6667875222253715, 'auc': 0.7691688625384278, 'prauc': 0.6489382532389987}\n",
      "Test:       {'precision': 0.6222845129620803, 'recall': 0.7016989332252007, 'f1': 0.6596100228706924, 'auc': 0.7667610210123856, 'prauc': 0.6439368399081782}\n"
     ]
    },
    {
     "name": "stderr",
     "output_type": "stream",
     "text": [
      "Training Batches: 100%|██████████| 1/1 [00:00<00:00,  1.42it/s]\n",
      "Running inference: 100%|██████████| 1/1 [00:02<00:00,  2.41s/it]\n",
      "Running inference: 100%|██████████| 1/1 [00:02<00:00,  2.43s/it]\n"
     ]
    },
    {
     "name": "stdout",
     "output_type": "stream",
     "text": [
      "Epoch: 043, Average Loss: 0.5218\n",
      "Validation: {'precision': 0.6217794572290561, 'recall': 0.7154150197600182, 'f1': 0.6653188702288348, 'auc': 0.768654662567706, 'prauc': 0.6449229221408328}\n",
      "Test:       {'precision': 0.6241466043815158, 'recall': 0.686290003948296, 'f1': 0.6537448199993746, 'auc': 0.7670944952611473, 'prauc': 0.642999117045749}\n"
     ]
    },
    {
     "name": "stderr",
     "output_type": "stream",
     "text": [
      "Training Batches: 100%|██████████| 1/1 [00:00<00:00,  1.39it/s]\n",
      "Running inference: 100%|██████████| 1/1 [00:02<00:00,  2.40s/it]\n",
      "Running inference: 100%|██████████| 1/1 [00:02<00:00,  2.13s/it]\n"
     ]
    },
    {
     "name": "stdout",
     "output_type": "stream",
     "text": [
      "Epoch: 044, Average Loss: 0.5146\n",
      "Validation: {'precision': 0.6285204991064937, 'recall': 0.6968379446612774, 'f1': 0.6609184579911261, 'auc': 0.7720207771294728, 'prauc': 0.6564495528709414}\n",
      "Test:       {'precision': 0.6318147871522337, 'recall': 0.6685104701672521, 'f1': 0.6496448404612689, 'auc': 0.7683857196996312, 'prauc': 0.6456794680868776}\n"
     ]
    },
    {
     "name": "stderr",
     "output_type": "stream",
     "text": [
      "Training Batches: 100%|██████████| 1/1 [00:00<00:00,  1.41it/s]\n",
      "Running inference: 100%|██████████| 1/1 [00:02<00:00,  2.39s/it]\n",
      "Running inference: 100%|██████████| 1/1 [00:02<00:00,  2.41s/it]\n"
     ]
    },
    {
     "name": "stdout",
     "output_type": "stream",
     "text": [
      "Epoch: 045, Average Loss: 0.5129\n",
      "Validation: {'precision': 0.6297491039403952, 'recall': 0.6944664031593104, 'f1': 0.6605263107989331, 'auc': 0.7722762302110129, 'prauc': 0.6568443373806386}\n",
      "Test:       {'precision': 0.6314210723635868, 'recall': 0.6653496641617331, 'f1': 0.6479415109686097, 'auc': 0.7685263558799065, 'prauc': 0.6459940128468747}\n"
     ]
    },
    {
     "name": "stderr",
     "output_type": "stream",
     "text": [
      "Training Batches: 100%|██████████| 1/1 [00:01<00:00,  1.01s/it]\n",
      "Running inference: 100%|██████████| 1/1 [00:02<00:00,  2.38s/it]\n",
      "Running inference: 100%|██████████| 1/1 [00:02<00:00,  2.45s/it]\n"
     ]
    },
    {
     "name": "stdout",
     "output_type": "stream",
     "text": [
      "Epoch: 046, Average Loss: 0.5093\n",
      "Validation: {'precision': 0.6256038647321408, 'recall': 0.7166007905110016, 'f1': 0.6680176810927387, 'auc': 0.7711037392559132, 'prauc': 0.6515771252692628}\n",
      "Test:       {'precision': 0.629576453694797, 'recall': 0.6930067167100237, 'f1': 0.6597705423101284, 'auc': 0.7679160597826287, 'prauc': 0.644393748794383}\n"
     ]
    },
    {
     "name": "stderr",
     "output_type": "stream",
     "text": [
      "Training Batches: 100%|██████████| 1/1 [00:00<00:00,  1.40it/s]\n",
      "Running inference: 100%|██████████| 1/1 [00:02<00:00,  2.34s/it]\n",
      "Running inference: 100%|██████████| 1/1 [00:02<00:00,  2.44s/it]\n"
     ]
    },
    {
     "name": "stdout",
     "output_type": "stream",
     "text": [
      "Epoch: 047, Average Loss: 0.4995\n",
      "Validation: {'precision': 0.6137548891766175, 'recall': 0.7442687747006156, 'f1': 0.672740259423914, 'auc': 0.7635205052596357, 'prauc': 0.6282968628194726}\n",
      "Test:       {'precision': 0.6177658142644086, 'recall': 0.7254049782665927, 'f1': 0.6672723919041176, 'auc': 0.7636779157110718, 'prauc': 0.6340359559439928}\n"
     ]
    },
    {
     "name": "stderr",
     "output_type": "stream",
     "text": [
      "Training Batches: 100%|██████████| 1/1 [00:00<00:00,  1.38it/s]\n",
      "Running inference: 100%|██████████| 1/1 [00:02<00:00,  2.38s/it]\n",
      "Running inference: 100%|██████████| 1/1 [00:02<00:00,  2.10s/it]\n"
     ]
    },
    {
     "name": "stdout",
     "output_type": "stream",
     "text": [
      "Epoch: 048, Average Loss: 0.5056\n",
      "Validation: {'precision': 0.6138613861365879, 'recall': 0.7351778656097424, 'f1': 0.6690647432394675, 'auc': 0.762485726833553, 'prauc': 0.6250623387605504}\n",
      "Test:       {'precision': 0.6189345096687515, 'recall': 0.7206637692583143, 'f1': 0.6659364681917921, 'auc': 0.763108511965542, 'prauc': 0.6327526057472956}\n"
     ]
    },
    {
     "name": "stderr",
     "output_type": "stream",
     "text": [
      "Training Batches: 100%|██████████| 1/1 [00:00<00:00,  1.39it/s]\n",
      "Running inference: 100%|██████████| 1/1 [00:02<00:00,  2.35s/it]\n",
      "Running inference: 100%|██████████| 1/1 [00:02<00:00,  2.37s/it]\n"
     ]
    },
    {
     "name": "stdout",
     "output_type": "stream",
     "text": [
      "Epoch: 049, Average Loss: 0.5027\n",
      "Validation: {'precision': 0.6172035640828746, 'recall': 0.7118577075070678, 'f1': 0.6611600537600848, 'auc': 0.7587432816780643, 'prauc': 0.6159593917065359}\n",
      "Test:       {'precision': 0.625220147937213, 'recall': 0.7013038324745109, 'f1': 0.661080069501882, 'auc': 0.7621986702288914, 'prauc': 0.6283521392284523}\n"
     ]
    },
    {
     "name": "stderr",
     "output_type": "stream",
     "text": [
      "Training Batches: 100%|██████████| 1/1 [00:00<00:00,  1.00it/s]\n",
      "Running inference: 100%|██████████| 1/1 [00:02<00:00,  2.37s/it]\n",
      "Running inference: 100%|██████████| 1/1 [00:02<00:00,  2.40s/it]\n"
     ]
    },
    {
     "name": "stdout",
     "output_type": "stream",
     "text": [
      "Epoch: 050, Average Loss: 0.4932\n",
      "Validation: {'precision': 0.623358182461401, 'recall': 0.6940711462423159, 'f1': 0.6568169016885894, 'auc': 0.7620107911412259, 'prauc': 0.622778658168214}\n",
      "Test:       {'precision': 0.6297918948498364, 'recall': 0.6815487949400176, 'f1': 0.6546489513620407, 'auc': 0.7635015707165943, 'prauc': 0.6300350284951471}\n"
     ]
    },
    {
     "name": "stderr",
     "output_type": "stream",
     "text": [
      "Training Batches: 100%|██████████| 1/1 [00:00<00:00,  1.38it/s]\n",
      "Running inference: 100%|██████████| 1/1 [00:02<00:00,  2.36s/it]\n",
      "Running inference: 100%|██████████| 1/1 [00:02<00:00,  2.43s/it]\n"
     ]
    },
    {
     "name": "stdout",
     "output_type": "stream",
     "text": [
      "Epoch: 051, Average Loss: 0.4925\n",
      "Validation: {'precision': 0.6212706212684407, 'recall': 0.6996047430802388, 'f1': 0.658114886258864, 'auc': 0.7589475500345066, 'prauc': 0.6197573746885422}\n",
      "Test:       {'precision': 0.6256742179049778, 'recall': 0.6874753062003656, 'f1': 0.6551204769363191, 'auc': 0.7600311661503897, 'prauc': 0.6275903792197544}\n"
     ]
    },
    {
     "name": "stderr",
     "output_type": "stream",
     "text": [
      "Training Batches: 100%|██████████| 1/1 [00:00<00:00,  1.37it/s]\n",
      "Running inference: 100%|██████████| 1/1 [00:02<00:00,  2.43s/it]\n",
      "Running inference: 100%|██████████| 1/1 [00:02<00:00,  2.11s/it]\n"
     ]
    },
    {
     "name": "stdout",
     "output_type": "stream",
     "text": [
      "Epoch: 052, Average Loss: 0.4858\n",
      "Validation: {'precision': 0.6170731707295573, 'recall': 0.6999999999972333, 'f1': 0.6559259209433183, 'auc': 0.7568162996423866, 'prauc': 0.6208299236179756}\n",
      "Test:       {'precision': 0.6241084165455631, 'recall': 0.6914263137072643, 'f1': 0.6560449809525265, 'auc': 0.7585906139434229, 'prauc': 0.6298751830666793}\n"
     ]
    },
    {
     "name": "stderr",
     "output_type": "stream",
     "text": [
      "Training Batches: 100%|██████████| 1/1 [00:00<00:00,  1.40it/s]\n",
      "Running inference: 100%|██████████| 1/1 [00:02<00:00,  2.42s/it]\n",
      "Running inference: 100%|██████████| 1/1 [00:02<00:00,  2.43s/it]\n"
     ]
    },
    {
     "name": "stdout",
     "output_type": "stream",
     "text": [
      "Epoch: 053, Average Loss: 0.4812\n",
      "Validation: {'precision': 0.6079756674531667, 'recall': 0.7110671936730788, 'f1': 0.6554927988175507, 'auc': 0.7564603592864462, 'prauc': 0.623068740381764}\n",
      "Test:       {'precision': 0.6180939226497995, 'recall': 0.7072303437348588, 'f1': 0.6596646347843284, 'auc': 0.7567701974446103, 'prauc': 0.6295378178336044}\n"
     ]
    },
    {
     "name": "stderr",
     "output_type": "stream",
     "text": [
      "Training Batches: 100%|██████████| 1/1 [00:01<00:00,  1.02s/it]\n",
      "Running inference: 100%|██████████| 1/1 [00:02<00:00,  2.40s/it]\n",
      "Running inference: 100%|██████████| 1/1 [00:02<00:00,  2.41s/it]\n"
     ]
    },
    {
     "name": "stdout",
     "output_type": "stream",
     "text": [
      "Epoch: 054, Average Loss: 0.4791\n",
      "Validation: {'precision': 0.6074421723077189, 'recall': 0.7162055335940071, 'f1': 0.6573553369504747, 'auc': 0.7538661982140243, 'prauc': 0.6165138198532858}\n",
      "Test:       {'precision': 0.6165283540780895, 'recall': 0.7044646384800298, 'f1': 0.6575696059361986, 'auc': 0.7550887416391896, 'prauc': 0.6257707226508389}\n"
     ]
    },
    {
     "name": "stderr",
     "output_type": "stream",
     "text": [
      "Training Batches: 100%|██████████| 1/1 [00:00<00:00,  1.39it/s]\n",
      "Running inference: 100%|██████████| 1/1 [00:02<00:00,  2.43s/it]\n",
      "Running inference: 100%|██████████| 1/1 [00:02<00:00,  2.44s/it]\n"
     ]
    },
    {
     "name": "stdout",
     "output_type": "stream",
     "text": [
      "Epoch: 055, Average Loss: 0.4719\n",
      "Validation: {'precision': 0.6131361760639163, 'recall': 0.7047430830011671, 'f1': 0.6557557875925453, 'auc': 0.7531828638350377, 'prauc': 0.6077540092108653}\n",
      "Test:       {'precision': 0.6217468805681935, 'recall': 0.6890557092031251, 'f1': 0.6536731584290247, 'auc': 0.7552515780206699, 'prauc': 0.6194097502402066}\n"
     ]
    },
    {
     "name": "stderr",
     "output_type": "stream",
     "text": [
      "Training Batches: 100%|██████████| 1/1 [00:00<00:00,  1.38it/s]\n",
      "Running inference: 100%|██████████| 1/1 [00:02<00:00,  2.42s/it]\n",
      "Running inference: 100%|██████████| 1/1 [00:02<00:00,  2.11s/it]\n"
     ]
    },
    {
     "name": "stdout",
     "output_type": "stream",
     "text": [
      "Epoch: 056, Average Loss: 0.4685\n",
      "Validation: {'precision': 0.6182326231204394, 'recall': 0.6996047430802388, 'f1': 0.6564064478258262, 'auc': 0.7487687433339608, 'prauc': 0.5979681439416196}\n",
      "Test:       {'precision': 0.6214852198968224, 'recall': 0.6811536941893277, 'f1': 0.6499528696546004, 'auc': 0.7532026669981339, 'prauc': 0.6116967209638124}\n"
     ]
    },
    {
     "name": "stderr",
     "output_type": "stream",
     "text": [
      "Training Batches: 100%|██████████| 1/1 [00:00<00:00,  1.40it/s]\n",
      "Running inference: 100%|██████████| 1/1 [00:02<00:00,  2.39s/it]\n",
      "Running inference: 100%|██████████| 1/1 [00:02<00:00,  2.42s/it]\n"
     ]
    },
    {
     "name": "stdout",
     "output_type": "stream",
     "text": [
      "Epoch: 057, Average Loss: 0.4776\n",
      "Validation: {'precision': 0.6131659314536371, 'recall': 0.7142292490090347, 'f1': 0.6598502780282177, 'auc': 0.7570052491791621, 'prauc': 0.6215865086754286}\n",
      "Test:       {'precision': 0.6191140565028981, 'recall': 0.7013038324745109, 'f1': 0.6576509768620636, 'auc': 0.7575802953527335, 'prauc': 0.6298141213985303}\n",
      "\n",
      "Early stopping triggered after 57 epochs (no improvement for 10 epochs).\n",
      "\n",
      "Best validation performance:\n",
      "{'precision': 0.6137548891766175, 'recall': 0.7442687747006156, 'f1': 0.672740259423914, 'auc': 0.7635205052596357, 'prauc': 0.6282968628194726}\n",
      "Corresponding test performance:\n",
      "{'precision': 0.6177658142644086, 'recall': 0.7254049782665927, 'f1': 0.6672723919041176, 'auc': 0.7636779157110718, 'prauc': 0.6340359559439928}\n",
      "Corresponding test-long performance:\n",
      "{'precision': 0.7772087067762201, 'recall': 0.9338461538317869, 'f1': 0.8483577867840633, 'auc': 0.5427300150829563, 'prauc': 0.7738421691588542}\n",
      "[INFO] Random seed set to 127978094\n",
      "Training with seed: 127978094\n"
     ]
    },
    {
     "name": "stderr",
     "output_type": "stream",
     "text": [
      "Training Batches: 100%|██████████| 1/1 [00:01<00:00,  1.03s/it]\n",
      "Running inference: 100%|██████████| 1/1 [00:02<00:00,  2.41s/it]\n",
      "Running inference: 100%|██████████| 1/1 [00:02<00:00,  2.43s/it]\n"
     ]
    },
    {
     "name": "stdout",
     "output_type": "stream",
     "text": [
      "Epoch: 001, Average Loss: 0.6889\n",
      "Validation: {'precision': 0.6820877817278643, 'recall': 0.45454545454365797, 'f1': 0.5455407921617387, 'auc': 0.7630855135202961, 'prauc': 0.659527462873822}\n",
      "Test:       {'precision': 0.6709323583140102, 'recall': 0.4350059265095417, 'f1': 0.5278044055797577, 'auc': 0.7607076963385271, 'prauc': 0.6465669966657019}\n"
     ]
    },
    {
     "name": "stderr",
     "output_type": "stream",
     "text": [
      "Training Batches: 100%|██████████| 1/1 [00:01<00:00,  1.03s/it]\n",
      "Running inference: 100%|██████████| 1/1 [00:02<00:00,  2.09s/it]\n",
      "Running inference: 100%|██████████| 1/1 [00:02<00:00,  2.11s/it]\n"
     ]
    },
    {
     "name": "stdout",
     "output_type": "stream",
     "text": [
      "Epoch: 002, Average Loss: 0.6623\n",
      "Validation: {'precision': 0.6745159602267163, 'recall': 0.5094861660058914, 'f1': 0.5804998825072688, 'auc': 0.76439237091411, 'prauc': 0.661289576079622}\n",
      "Test:       {'precision': 0.6589935760136029, 'recall': 0.48636902409922417, 'f1': 0.5596726479866858, 'auc': 0.7615939241819148, 'prauc': 0.6485885753694165}\n"
     ]
    },
    {
     "name": "stderr",
     "output_type": "stream",
     "text": [
      "Training Batches: 100%|██████████| 1/1 [00:01<00:00,  1.34s/it]\n",
      "Running inference: 100%|██████████| 1/1 [00:02<00:00,  2.05s/it]\n",
      "Running inference: 100%|██████████| 1/1 [00:02<00:00,  2.36s/it]\n"
     ]
    },
    {
     "name": "stdout",
     "output_type": "stream",
     "text": [
      "Epoch: 003, Average Loss: 0.6375\n",
      "Validation: {'precision': 0.6627623230811969, 'recall': 0.5367588932785109, 'f1': 0.5931426026088163, 'auc': 0.7652167639124161, 'prauc': 0.6629268691677241}\n",
      "Test:       {'precision': 0.6542102640724753, 'recall': 0.5187672856557931, 'f1': 0.5786690122523043, 'auc': 0.7620970938365854, 'prauc': 0.6498252551444161}\n"
     ]
    },
    {
     "name": "stderr",
     "output_type": "stream",
     "text": [
      "Training Batches: 100%|██████████| 1/1 [00:01<00:00,  1.02s/it]\n",
      "Running inference: 100%|██████████| 1/1 [00:02<00:00,  2.34s/it]\n",
      "Running inference: 100%|██████████| 1/1 [00:02<00:00,  2.03s/it]\n"
     ]
    },
    {
     "name": "stdout",
     "output_type": "stream",
     "text": [
      "Epoch: 004, Average Loss: 0.6168\n",
      "Validation: {'precision': 0.6597938144298979, 'recall': 0.5565217391282351, 'f1': 0.6037735799391163, 'auc': 0.765935336804902, 'prauc': 0.6643985576122686}\n",
      "Test:       {'precision': 0.653307580875648, 'recall': 0.5345713156833878, 'f1': 0.5880052101712604, 'auc': 0.7626047663622552, 'prauc': 0.6507607250107488}\n"
     ]
    },
    {
     "name": "stderr",
     "output_type": "stream",
     "text": [
      "Training Batches: 100%|██████████| 1/1 [00:01<00:00,  1.33s/it]\n",
      "Running inference: 100%|██████████| 1/1 [00:02<00:00,  2.09s/it]\n",
      "Running inference: 100%|██████████| 1/1 [00:02<00:00,  2.10s/it]\n"
     ]
    },
    {
     "name": "stdout",
     "output_type": "stream",
     "text": [
      "Epoch: 005, Average Loss: 0.5998\n",
      "Validation: {'precision': 0.6586033774502118, 'recall': 0.5703557312230421, 'f1': 0.6113111579124099, 'auc': 0.766588870067131, 'prauc': 0.6660549461731323}\n",
      "Test:       {'precision': 0.6544082979695691, 'recall': 0.548399841957533, 'f1': 0.5967325831704087, 'auc': 0.7631506085734874, 'prauc': 0.6518270569953071}\n"
     ]
    },
    {
     "name": "stderr",
     "output_type": "stream",
     "text": [
      "Training Batches: 100%|██████████| 1/1 [00:01<00:00,  1.03s/it]\n",
      "Running inference: 100%|██████████| 1/1 [00:02<00:00,  2.39s/it]\n",
      "Running inference: 100%|██████████| 1/1 [00:02<00:00,  2.08s/it]\n"
     ]
    },
    {
     "name": "stdout",
     "output_type": "stream",
     "text": [
      "Epoch: 006, Average Loss: 0.5866\n",
      "Validation: {'precision': 0.6549107142827906, 'recall': 0.5798418972309097, 'f1': 0.6150943346385437, 'auc': 0.7671681619507706, 'prauc': 0.6671583791364484}\n",
      "Test:       {'precision': 0.6497485139430739, 'recall': 0.5614381667302986, 'f1': 0.6023738822643836, 'auc': 0.763589219624182, 'prauc': 0.6524112575034843}\n"
     ]
    },
    {
     "name": "stderr",
     "output_type": "stream",
     "text": [
      "Training Batches: 100%|██████████| 1/1 [00:01<00:00,  1.35s/it]\n",
      "Running inference: 100%|██████████| 1/1 [00:02<00:00,  2.10s/it]\n",
      "Running inference: 100%|██████████| 1/1 [00:02<00:00,  2.10s/it]\n"
     ]
    },
    {
     "name": "stdout",
     "output_type": "stream",
     "text": [
      "Epoch: 007, Average Loss: 0.5812\n",
      "Validation: {'precision': 0.6555605583041173, 'recall': 0.5754940711439704, 'f1': 0.612923590051195, 'auc': 0.7675035029382855, 'prauc': 0.6676265591464288}\n",
      "Test:       {'precision': 0.6514869888445564, 'recall': 0.5539312524671911, 'f1': 0.5987614727154367, 'auc': 0.7638927969038678, 'prauc': 0.6525430164240448}\n"
     ]
    },
    {
     "name": "stderr",
     "output_type": "stream",
     "text": [
      "Training Batches: 100%|██████████| 1/1 [00:00<00:00,  1.41it/s]\n",
      "Running inference: 100%|██████████| 1/1 [00:02<00:00,  2.31s/it]\n",
      "Running inference: 100%|██████████| 1/1 [00:02<00:00,  2.33s/it]\n"
     ]
    },
    {
     "name": "stdout",
     "output_type": "stream",
     "text": [
      "Epoch: 008, Average Loss: 0.5825\n",
      "Validation: {'precision': 0.6539991162145206, 'recall': 0.584980237151838, 'f1': 0.6175672806378086, 'auc': 0.7678226363008973, 'prauc': 0.6681747468224694}\n",
      "Test:       {'precision': 0.6512261580351898, 'recall': 0.5665744764892668, 'f1': 0.6059581610896322, 'auc': 0.7641984685421579, 'prauc': 0.6529029486296003}\n"
     ]
    },
    {
     "name": "stderr",
     "output_type": "stream",
     "text": [
      "Training Batches: 100%|██████████| 1/1 [00:01<00:00,  1.33s/it]\n",
      "Running inference: 100%|██████████| 1/1 [00:02<00:00,  2.39s/it]\n",
      "Running inference: 100%|██████████| 1/1 [00:01<00:00,  1.78s/it]\n"
     ]
    },
    {
     "name": "stdout",
     "output_type": "stream",
     "text": [
      "Epoch: 009, Average Loss: 0.5795\n",
      "Validation: {'precision': 0.6513525118048461, 'recall': 0.599604743080634, 'f1': 0.6244083094739835, 'auc': 0.7680789259050128, 'prauc': 0.6683946937114633}\n",
      "Test:       {'precision': 0.6507029876948563, 'recall': 0.5851442117716905, 'f1': 0.6161847256127132, 'auc': 0.7645125176148648, 'prauc': 0.6534920816149807}\n"
     ]
    },
    {
     "name": "stderr",
     "output_type": "stream",
     "text": [
      "Training Batches: 100%|██████████| 1/1 [00:01<00:00,  1.28s/it]\n",
      "Running inference: 100%|██████████| 1/1 [00:02<00:00,  2.41s/it]\n",
      "Running inference: 100%|██████████| 1/1 [00:01<00:00,  1.75s/it]\n"
     ]
    },
    {
     "name": "stdout",
     "output_type": "stream",
     "text": [
      "Epoch: 010, Average Loss: 0.5773\n",
      "Validation: {'precision': 0.6486601446165519, 'recall': 0.6027667984165899, 'f1': 0.6248719474729205, 'auc': 0.7682290817073425, 'prauc': 0.6685130637382308}\n",
      "Test:       {'precision': 0.6509598603811041, 'recall': 0.589490320029279, 'f1': 0.6187020476740294, 'auc': 0.7648077174601337, 'prauc': 0.6537229256812864}\n"
     ]
    },
    {
     "name": "stderr",
     "output_type": "stream",
     "text": [
      "Training Batches: 100%|██████████| 1/1 [00:01<00:00,  1.34s/it]\n",
      "Running inference: 100%|██████████| 1/1 [00:02<00:00,  2.08s/it]\n",
      "Running inference: 100%|██████████| 1/1 [00:02<00:00,  2.42s/it]\n"
     ]
    },
    {
     "name": "stdout",
     "output_type": "stream",
     "text": [
      "Epoch: 011, Average Loss: 0.5747\n",
      "Validation: {'precision': 0.6484874307599128, 'recall': 0.6015810276656064, 'f1': 0.6241541881560081, 'auc': 0.7682553276031537, 'prauc': 0.6684442694953839}\n",
      "Test:       {'precision': 0.6503282275682699, 'recall': 0.5871197155251399, 'f1': 0.6171096295619781, 'auc': 0.7650484639816919, 'prauc': 0.6536343580674708}\n"
     ]
    },
    {
     "name": "stderr",
     "output_type": "stream",
     "text": [
      "Training Batches: 100%|██████████| 1/1 [00:00<00:00,  1.40it/s]\n",
      "Running inference: 100%|██████████| 1/1 [00:02<00:00,  2.39s/it]\n",
      "Running inference: 100%|██████████| 1/1 [00:02<00:00,  2.38s/it]\n"
     ]
    },
    {
     "name": "stdout",
     "output_type": "stream",
     "text": [
      "Epoch: 012, Average Loss: 0.5714\n",
      "Validation: {'precision': 0.6494006849287269, 'recall': 0.599604743080634, 'f1': 0.6235100648779702, 'auc': 0.7682611832611833, 'prauc': 0.6685722678549539}\n",
      "Test:       {'precision': 0.650681918166957, 'recall': 0.5843540102703108, 'f1': 0.6157368809402508, 'auc': 0.7653429308014492, 'prauc': 0.6536064817136505}\n"
     ]
    },
    {
     "name": "stderr",
     "output_type": "stream",
     "text": [
      "Training Batches: 100%|██████████| 1/1 [00:01<00:00,  1.00s/it]\n",
      "Running inference: 100%|██████████| 1/1 [00:02<00:00,  2.35s/it]\n",
      "Running inference: 100%|██████████| 1/1 [00:02<00:00,  2.43s/it]\n"
     ]
    },
    {
     "name": "stdout",
     "output_type": "stream",
     "text": [
      "Epoch: 013, Average Loss: 0.5709\n",
      "Validation: {'precision': 0.6501721170367893, 'recall': 0.5972332015786671, 'f1': 0.6225793110344585, 'auc': 0.7683157663592446, 'prauc': 0.668411372234748}\n",
      "Test:       {'precision': 0.6489361702098895, 'recall': 0.5784274990099628, 'f1': 0.611656564890695, 'auc': 0.7655741479913583, 'prauc': 0.6534580337190743}\n"
     ]
    },
    {
     "name": "stderr",
     "output_type": "stream",
     "text": [
      "Training Batches: 100%|██████████| 1/1 [00:00<00:00,  1.41it/s]\n",
      "Running inference: 100%|██████████| 1/1 [00:02<00:00,  2.38s/it]\n",
      "Running inference: 100%|██████████| 1/1 [00:02<00:00,  2.08s/it]\n"
     ]
    },
    {
     "name": "stdout",
     "output_type": "stream",
     "text": [
      "Epoch: 014, Average Loss: 0.5695\n",
      "Validation: {'precision': 0.6514038876861711, 'recall': 0.5960474308276836, 'f1': 0.6224974150279162, 'auc': 0.7683355292050944, 'prauc': 0.6682038383382882}\n",
      "Test:       {'precision': 0.6490683229784868, 'recall': 0.5780323982592729, 'f1': 0.6114942478877632, 'auc': 0.7657884008765729, 'prauc': 0.6533563013090053}\n"
     ]
    },
    {
     "name": "stderr",
     "output_type": "stream",
     "text": [
      "Training Batches: 100%|██████████| 1/1 [00:00<00:00,  1.38it/s]\n",
      "Running inference: 100%|██████████| 1/1 [00:02<00:00,  2.40s/it]\n",
      "Running inference: 100%|██████████| 1/1 [00:02<00:00,  2.42s/it]\n"
     ]
    },
    {
     "name": "stdout",
     "output_type": "stream",
     "text": [
      "Epoch: 015, Average Loss: 0.5684\n",
      "Validation: {'precision': 0.6536964980516485, 'recall': 0.5976284584956616, 'f1': 0.6244063547018641, 'auc': 0.7684472572516051, 'prauc': 0.6682498839170803}\n",
      "Test:       {'precision': 0.6483370288219586, 'recall': 0.5776372975085831, 'f1': 0.6109485950976523, 'auc': 0.7660011877107644, 'prauc': 0.6534082361525937}\n"
     ]
    },
    {
     "name": "stderr",
     "output_type": "stream",
     "text": [
      "Training Batches: 100%|██████████| 1/1 [00:01<00:00,  1.02s/it]\n",
      "Running inference: 100%|██████████| 1/1 [00:02<00:00,  2.38s/it]\n",
      "Running inference: 100%|██████████| 1/1 [00:02<00:00,  2.42s/it]\n"
     ]
    },
    {
     "name": "stdout",
     "output_type": "stream",
     "text": [
      "Epoch: 016, Average Loss: 0.5674\n",
      "Validation: {'precision': 0.6535975872440604, 'recall': 0.599604743080634, 'f1': 0.6254380490161853, 'auc': 0.76871740176088, 'prauc': 0.6684183182565449}\n",
      "Test:       {'precision': 0.6480743691870382, 'recall': 0.5784274990099628, 'f1': 0.6112734814436331, 'auc': 0.7662791090975483, 'prauc': 0.6535426606857072}\n"
     ]
    },
    {
     "name": "stderr",
     "output_type": "stream",
     "text": [
      "Training Batches: 100%|██████████| 1/1 [00:00<00:00,  1.39it/s]\n",
      "Running inference: 100%|██████████| 1/1 [00:02<00:00,  2.40s/it]\n",
      "Running inference: 100%|██████████| 1/1 [00:02<00:00,  2.43s/it]\n"
     ]
    },
    {
     "name": "stdout",
     "output_type": "stream",
     "text": [
      "Epoch: 017, Average Loss: 0.5658\n",
      "Validation: {'precision': 0.6521924223045884, 'recall': 0.6055335968355513, 'f1': 0.6279975354839136, 'auc': 0.7689315515402471, 'prauc': 0.6685357683168976}\n",
      "Test:       {'precision': 0.6466725043754524, 'recall': 0.583563808768931, 'f1': 0.6134994757998096, 'auc': 0.766555145561588, 'prauc': 0.6538037984397496}\n"
     ]
    },
    {
     "name": "stderr",
     "output_type": "stream",
     "text": [
      "Training Batches: 100%|██████████| 1/1 [00:00<00:00,  1.40it/s]\n",
      "Running inference: 100%|██████████| 1/1 [00:02<00:00,  2.38s/it]\n",
      "Running inference: 100%|██████████| 1/1 [00:02<00:00,  2.10s/it]\n"
     ]
    },
    {
     "name": "stdout",
     "output_type": "stream",
     "text": [
      "Epoch: 018, Average Loss: 0.5623\n",
      "Validation: {'precision': 0.6518612521123018, 'recall': 0.6090909090885016, 'f1': 0.6297507101646012, 'auc': 0.7693550410941716, 'prauc': 0.668913425715805}\n",
      "Test:       {'precision': 0.647135986005041, 'recall': 0.5847491110210006, 'f1': 0.6143628011539016, 'auc': 0.7669577860032549, 'prauc': 0.654083257442366}\n"
     ]
    },
    {
     "name": "stderr",
     "output_type": "stream",
     "text": [
      "Training Batches: 100%|██████████| 1/1 [00:00<00:00,  1.41it/s]\n",
      "Running inference: 100%|██████████| 1/1 [00:02<00:00,  2.40s/it]\n",
      "Running inference: 100%|██████████| 1/1 [00:02<00:00,  2.37s/it]\n"
     ]
    },
    {
     "name": "stdout",
     "output_type": "stream",
     "text": [
      "Epoch: 019, Average Loss: 0.5628\n",
      "Validation: {'precision': 0.6484113712347475, 'recall': 0.6130434782584465, 'f1': 0.6302316081667495, 'auc': 0.7693551456594934, 'prauc': 0.6686738053256863}\n",
      "Test:       {'precision': 0.6470842332585439, 'recall': 0.5918609245334182, 'f1': 0.6182418439549678, 'auc': 0.7670285753240784, 'prauc': 0.6540833689390098}\n"
     ]
    },
    {
     "name": "stderr",
     "output_type": "stream",
     "text": [
      "Training Batches: 100%|██████████| 1/1 [00:01<00:00,  1.00s/it]\n",
      "Running inference: 100%|██████████| 1/1 [00:02<00:00,  2.38s/it]\n",
      "Running inference: 100%|██████████| 1/1 [00:02<00:00,  2.40s/it]\n"
     ]
    },
    {
     "name": "stdout",
     "output_type": "stream",
     "text": [
      "Epoch: 020, Average Loss: 0.5606\n",
      "Validation: {'precision': 0.6484113712347475, 'recall': 0.6130434782584465, 'f1': 0.6302316081667495, 'auc': 0.7692097998619738, 'prauc': 0.6681557404704876}\n",
      "Test:       {'precision': 0.6459412780628414, 'recall': 0.5910707230320384, 'f1': 0.6172890397772518, 'auc': 0.7669665823093927, 'prauc': 0.6538492937184572}\n"
     ]
    },
    {
     "name": "stderr",
     "output_type": "stream",
     "text": [
      "Training Batches: 100%|██████████| 1/1 [00:00<00:00,  1.40it/s]\n",
      "Running inference: 100%|██████████| 1/1 [00:02<00:00,  2.37s/it]\n",
      "Running inference: 100%|██████████| 1/1 [00:02<00:00,  2.42s/it]\n"
     ]
    },
    {
     "name": "stdout",
     "output_type": "stream",
     "text": [
      "Epoch: 021, Average Loss: 0.5587\n",
      "Validation: {'precision': 0.647157190632746, 'recall': 0.611857707507463, 'f1': 0.6290125915068603, 'auc': 0.7687605872388481, 'prauc': 0.667228867044581}\n",
      "Test:       {'precision': 0.6443298969044488, 'recall': 0.592651126034798, 'f1': 0.6174109849218065, 'auc': 0.7665936817599063, 'prauc': 0.6533258226823686}\n"
     ]
    },
    {
     "name": "stderr",
     "output_type": "stream",
     "text": [
      "Training Batches: 100%|██████████| 1/1 [00:00<00:00,  1.40it/s]\n",
      "Running inference: 100%|██████████| 1/1 [00:02<00:00,  2.39s/it]\n",
      "Running inference: 100%|██████████| 1/1 [00:02<00:00,  2.12s/it]\n"
     ]
    },
    {
     "name": "stdout",
     "output_type": "stream",
     "text": [
      "Epoch: 022, Average Loss: 0.5570\n",
      "Validation: {'precision': 0.6486028789134268, 'recall': 0.6055335968355513, 'f1': 0.6263286949215702, 'auc': 0.7688091055482359, 'prauc': 0.6673004376048249}\n",
      "Test:       {'precision': 0.6456968108316047, 'recall': 0.5839589095196209, 'f1': 0.6132780033088145, 'auc': 0.7666734768227282, 'prauc': 0.6530207091135173}\n"
     ]
    },
    {
     "name": "stderr",
     "output_type": "stream",
     "text": [
      "Training Batches: 100%|██████████| 1/1 [00:01<00:00,  1.04s/it]\n",
      "Running inference: 100%|██████████| 1/1 [00:02<00:00,  2.09s/it]\n",
      "Running inference: 100%|██████████| 1/1 [00:02<00:00,  2.37s/it]\n"
     ]
    },
    {
     "name": "stdout",
     "output_type": "stream",
     "text": [
      "Epoch: 023, Average Loss: 0.5580\n",
      "Validation: {'precision': 0.6470344255468808, 'recall': 0.6166007905113968, 'f1': 0.6314511182547462, 'auc': 0.7687588096283748, 'prauc': 0.6667854499615866}\n",
      "Test:       {'precision': 0.643800596503435, 'recall': 0.5969972342923865, 'f1': 0.6195161901665257, 'auc': 0.7667236367113, 'prauc': 0.6530445177583044}\n"
     ]
    },
    {
     "name": "stderr",
     "output_type": "stream",
     "text": [
      "Training Batches: 100%|██████████| 1/1 [00:01<00:00,  1.32s/it]\n",
      "Running inference: 100%|██████████| 1/1 [00:02<00:00,  2.08s/it]\n",
      "Running inference: 100%|██████████| 1/1 [00:02<00:00,  2.41s/it]\n"
     ]
    },
    {
     "name": "stdout",
     "output_type": "stream",
     "text": [
      "Epoch: 024, Average Loss: 0.5569\n",
      "Validation: {'precision': 0.6476468138248744, 'recall': 0.6146245059264245, 'f1': 0.6307037062156278, 'auc': 0.7698318589622938, 'prauc': 0.6677135217931205}\n",
      "Test:       {'precision': 0.6460746460718745, 'recall': 0.5950217305389371, 'f1': 0.6194981439158259, 'auc': 0.7676426412668441, 'prauc': 0.6536591505448175}\n"
     ]
    },
    {
     "name": "stderr",
     "output_type": "stream",
     "text": [
      "Training Batches: 100%|██████████| 1/1 [00:01<00:00,  1.00s/it]\n",
      "Running inference: 100%|██████████| 1/1 [00:02<00:00,  2.40s/it]\n",
      "Running inference: 100%|██████████| 1/1 [00:02<00:00,  2.06s/it]\n"
     ]
    },
    {
     "name": "stdout",
     "output_type": "stream",
     "text": [
      "Epoch: 025, Average Loss: 0.5519\n",
      "Validation: {'precision': 0.6494156928186585, 'recall': 0.615019762843419, 'f1': 0.631749893498902, 'auc': 0.7706474684735554, 'prauc': 0.6684284340490789}\n",
      "Test:       {'precision': 0.647668393779587, 'recall': 0.592651126034798, 'f1': 0.6189395452445443, 'auc': 0.7684116373873588, 'prauc': 0.6541530621205116}\n"
     ]
    },
    {
     "name": "stderr",
     "output_type": "stream",
     "text": [
      "Training Batches: 100%|██████████| 1/1 [00:01<00:00,  1.30s/it]\n",
      "Running inference: 100%|██████████| 1/1 [00:02<00:00,  2.04s/it]\n",
      "Running inference: 100%|██████████| 1/1 [00:02<00:00,  2.38s/it]\n"
     ]
    },
    {
     "name": "stdout",
     "output_type": "stream",
     "text": [
      "Epoch: 026, Average Loss: 0.5522\n",
      "Validation: {'precision': 0.6434676434650246, 'recall': 0.624901185768281, 'f1': 0.6340485211665655, 'auc': 0.7709709935796893, 'prauc': 0.6684625542069924}\n",
      "Test:       {'precision': 0.6469344608852139, 'recall': 0.6045041485554938, 'f1': 0.6249999950031948, 'auc': 0.7687532796346769, 'prauc': 0.6542734042113989}\n"
     ]
    },
    {
     "name": "stderr",
     "output_type": "stream",
     "text": [
      "Training Batches: 100%|██████████| 1/1 [00:01<00:00,  1.02s/it]\n",
      "Running inference: 100%|██████████| 1/1 [00:02<00:00,  2.40s/it]\n",
      "Running inference: 100%|██████████| 1/1 [00:02<00:00,  2.38s/it]\n"
     ]
    },
    {
     "name": "stdout",
     "output_type": "stream",
     "text": [
      "Epoch: 027, Average Loss: 0.5481\n",
      "Validation: {'precision': 0.6421309475370389, 'recall': 0.624110671934292, 'f1': 0.6329925786825801, 'auc': 0.7709518581257712, 'prauc': 0.6681894344618668}\n",
      "Test:       {'precision': 0.645516074447354, 'recall': 0.6029237455527344, 'f1': 0.6234933555752845, 'auc': 0.7689625060592411, 'prauc': 0.654116878759992}\n"
     ]
    },
    {
     "name": "stderr",
     "output_type": "stream",
     "text": [
      "Training Batches: 100%|██████████| 1/1 [00:01<00:00,  1.05s/it]\n",
      "Running inference: 100%|██████████| 1/1 [00:02<00:00,  2.04s/it]\n",
      "Running inference: 100%|██████████| 1/1 [00:02<00:00,  2.35s/it]\n"
     ]
    },
    {
     "name": "stdout",
     "output_type": "stream",
     "text": [
      "Epoch: 028, Average Loss: 0.5467\n",
      "Validation: {'precision': 0.6419302514166995, 'recall': 0.62569169960227, 'f1': 0.6337069605707417, 'auc': 0.7707233828972959, 'prauc': 0.6677390541513881}\n",
      "Test:       {'precision': 0.6443037974656359, 'recall': 0.6033188463034242, 'f1': 0.6231381300773275, 'auc': 0.7689598881109859, 'prauc': 0.6543657113171718}\n"
     ]
    },
    {
     "name": "stderr",
     "output_type": "stream",
     "text": [
      "Training Batches: 100%|██████████| 1/1 [00:01<00:00,  1.31s/it]\n",
      "Running inference: 100%|██████████| 1/1 [00:02<00:00,  2.07s/it]\n",
      "Running inference: 100%|██████████| 1/1 [00:02<00:00,  2.39s/it]\n"
     ]
    },
    {
     "name": "stdout",
     "output_type": "stream",
     "text": [
      "Epoch: 029, Average Loss: 0.5437\n",
      "Validation: {'precision': 0.6425120772920995, 'recall': 0.6308300395231983, 'f1': 0.6366174660788548, 'auc': 0.7697768576029445, 'prauc': 0.6666367068456359}\n",
      "Test:       {'precision': 0.6411442995345346, 'recall': 0.6021335440513547, 'f1': 0.6210268898679179, 'auc': 0.7682645610543755, 'prauc': 0.6538309065060333}\n"
     ]
    },
    {
     "name": "stderr",
     "output_type": "stream",
     "text": [
      "Training Batches: 100%|██████████| 1/1 [00:01<00:00,  1.00s/it]\n",
      "Running inference: 100%|██████████| 1/1 [00:02<00:00,  2.36s/it]\n",
      "Running inference: 100%|██████████| 1/1 [00:02<00:00,  2.02s/it]\n"
     ]
    },
    {
     "name": "stdout",
     "output_type": "stream",
     "text": [
      "Epoch: 030, Average Loss: 0.5429\n",
      "Validation: {'precision': 0.6430868167176725, 'recall': 0.6324110671911762, 'f1': 0.6377042596450785, 'auc': 0.7699640295292469, 'prauc': 0.6666992853584798}\n",
      "Test:       {'precision': 0.6412085606351607, 'recall': 0.6037139470541142, 'f1': 0.6218966168986264, 'auc': 0.7683143020712264, 'prauc': 0.6536256939637097}\n"
     ]
    },
    {
     "name": "stderr",
     "output_type": "stream",
     "text": [
      "Training Batches: 100%|██████████| 1/1 [00:01<00:00,  1.30s/it]\n",
      "Running inference: 100%|██████████| 1/1 [00:02<00:00,  2.06s/it]\n",
      "Running inference: 100%|██████████| 1/1 [00:02<00:00,  2.36s/it]\n"
     ]
    },
    {
     "name": "stdout",
     "output_type": "stream",
     "text": [
      "Epoch: 031, Average Loss: 0.5390\n",
      "Validation: {'precision': 0.6388779138655122, 'recall': 0.6391304347800825, 'f1': 0.6390041443750685, 'auc': 0.7709802998933434, 'prauc': 0.6671113681981873}\n",
      "Test:       {'precision': 0.6434746809360088, 'recall': 0.6175424733282594, 'f1': 0.6302419304834441, 'auc': 0.7691567578197853, 'prauc': 0.6539972680534631}\n"
     ]
    },
    {
     "name": "stderr",
     "output_type": "stream",
     "text": [
      "Training Batches: 100%|██████████| 1/1 [00:01<00:00,  1.02s/it]\n",
      "Running inference: 100%|██████████| 1/1 [00:02<00:00,  2.37s/it]\n",
      "Running inference: 100%|██████████| 1/1 [00:02<00:00,  2.33s/it]\n"
     ]
    },
    {
     "name": "stdout",
     "output_type": "stream",
     "text": [
      "Epoch: 032, Average Loss: 0.5336\n",
      "Validation: {'precision': 0.6331450094138111, 'recall': 0.6644268774677295, 'f1': 0.6484088667458244, 'auc': 0.77136436832089, 'prauc': 0.6647887172659805}\n",
      "Test:       {'precision': 0.6384158415816301, 'recall': 0.6369024101120628, 'f1': 0.637658222845586, 'auc': 0.7695839022571216, 'prauc': 0.6533233061307504}\n"
     ]
    },
    {
     "name": "stderr",
     "output_type": "stream",
     "text": [
      "Training Batches: 100%|██████████| 1/1 [00:00<00:00,  1.01it/s]\n",
      "Running inference: 100%|██████████| 1/1 [00:02<00:00,  2.06s/it]\n",
      "Running inference: 100%|██████████| 1/1 [00:02<00:00,  2.35s/it]\n"
     ]
    },
    {
     "name": "stdout",
     "output_type": "stream",
     "text": [
      "Epoch: 033, Average Loss: 0.5356\n",
      "Validation: {'precision': 0.6370341614882103, 'recall': 0.6486166007879501, 'f1': 0.6427732029884876, 'auc': 0.7715897588723676, 'prauc': 0.6672685959448658}\n",
      "Test:       {'precision': 0.644726083398836, 'recall': 0.6230738838379175, 'f1': 0.6337150844102037, 'auc': 0.7697948041685694, 'prauc': 0.654316477131938}\n"
     ]
    },
    {
     "name": "stderr",
     "output_type": "stream",
     "text": [
      "Training Batches: 100%|██████████| 1/1 [00:01<00:00,  1.31s/it]\n",
      "Running inference: 100%|██████████| 1/1 [00:02<00:00,  2.07s/it]\n",
      "Running inference: 100%|██████████| 1/1 [00:02<00:00,  2.36s/it]\n"
     ]
    },
    {
     "name": "stdout",
     "output_type": "stream",
     "text": [
      "Epoch: 034, Average Loss: 0.5351\n",
      "Validation: {'precision': 0.6339491916834721, 'recall': 0.6509881422899171, 'f1': 0.6423556892261431, 'auc': 0.7704250057510927, 'prauc': 0.665339849481877}\n",
      "Test:       {'precision': 0.6409736308290427, 'recall': 0.6242591860899871, 'f1': 0.6325059998021837, 'auc': 0.7689707787757281, 'prauc': 0.6531284812488877}\n"
     ]
    },
    {
     "name": "stderr",
     "output_type": "stream",
     "text": [
      "Training Batches: 100%|██████████| 1/1 [00:01<00:00,  1.01s/it]\n",
      "Running inference: 100%|██████████| 1/1 [00:02<00:00,  2.36s/it]\n",
      "Running inference: 100%|██████████| 1/1 [00:02<00:00,  2.06s/it]\n"
     ]
    },
    {
     "name": "stdout",
     "output_type": "stream",
     "text": [
      "Epoch: 035, Average Loss: 0.5355\n",
      "Validation: {'precision': 0.6223554301811624, 'recall': 0.6976284584952663, 'f1': 0.6578456901312137, 'auc': 0.7669186690925822, 'prauc': 0.6493287394696869}\n",
      "Test:       {'precision': 0.6296569531514952, 'recall': 0.6744369814276, 'f1': 0.6512781331186339, 'auc': 0.7663781722595292, 'prauc': 0.6472853688376623}\n"
     ]
    },
    {
     "name": "stderr",
     "output_type": "stream",
     "text": [
      "Training Batches: 100%|██████████| 1/1 [00:01<00:00,  1.35s/it]\n",
      "Running inference: 100%|██████████| 1/1 [00:02<00:00,  2.04s/it]\n",
      "Running inference: 100%|██████████| 1/1 [00:02<00:00,  2.39s/it]\n"
     ]
    },
    {
     "name": "stdout",
     "output_type": "stream",
     "text": [
      "Epoch: 036, Average Loss: 0.5378\n",
      "Validation: {'precision': 0.6260428001428145, 'recall': 0.6822134387324814, 'f1': 0.6529222571591968, 'auc': 0.7670166467992555, 'prauc': 0.6506642416022487}\n",
      "Test:       {'precision': 0.6305587229166456, 'recall': 0.6554721453944865, 'f1': 0.6427741135580843, 'auc': 0.76625041638467, 'prauc': 0.6467092292993399}\n"
     ]
    },
    {
     "name": "stderr",
     "output_type": "stream",
     "text": [
      "Training Batches: 100%|██████████| 1/1 [00:00<00:00,  1.00it/s]\n",
      "Running inference: 100%|██████████| 1/1 [00:02<00:00,  2.40s/it]\n",
      "Running inference: 100%|██████████| 1/1 [00:02<00:00,  2.38s/it]\n"
     ]
    },
    {
     "name": "stdout",
     "output_type": "stream",
     "text": [
      "Epoch: 037, Average Loss: 0.5218\n",
      "Validation: {'precision': 0.6331943918126821, 'recall': 0.6604743082977848, 'f1': 0.6465467158354735, 'auc': 0.7684530606269737, 'prauc': 0.6560113582183322}\n",
      "Test:       {'precision': 0.6366174710784339, 'recall': 0.630580798101025, 'f1': 0.6335847508530966, 'auc': 0.7672473310802923, 'prauc': 0.6489570986798412}\n"
     ]
    },
    {
     "name": "stderr",
     "output_type": "stream",
     "text": [
      "Training Batches: 100%|██████████| 1/1 [00:01<00:00,  1.05s/it]\n",
      "Running inference: 100%|██████████| 1/1 [00:02<00:00,  2.05s/it]\n",
      "Running inference: 100%|██████████| 1/1 [00:02<00:00,  2.33s/it]\n"
     ]
    },
    {
     "name": "stdout",
     "output_type": "stream",
     "text": [
      "Epoch: 038, Average Loss: 0.5202\n",
      "Validation: {'precision': 0.6359447004583874, 'recall': 0.6545454545428674, 'f1': 0.6451110195407931, 'auc': 0.7697221699395612, 'prauc': 0.655994116755387}\n",
      "Test:       {'precision': 0.6410360178039618, 'recall': 0.6258395890927466, 'f1': 0.633346656333653, 'auc': 0.7687280426134957, 'prauc': 0.6491696723932527}\n"
     ]
    },
    {
     "name": "stderr",
     "output_type": "stream",
     "text": [
      "Training Batches: 100%|██████████| 1/1 [00:01<00:00,  1.29s/it]\n",
      "Running inference: 100%|██████████| 1/1 [00:02<00:00,  2.06s/it]\n",
      "Running inference: 100%|██████████| 1/1 [00:02<00:00,  2.36s/it]\n"
     ]
    },
    {
     "name": "stdout",
     "output_type": "stream",
     "text": [
      "Epoch: 039, Average Loss: 0.5178\n",
      "Validation: {'precision': 0.6348187311154274, 'recall': 0.6644268774677295, 'f1': 0.6492854333932909, 'auc': 0.7693485580442102, 'prauc': 0.651301820407453}\n",
      "Test:       {'precision': 0.6419753086394187, 'recall': 0.6369024101120628, 'f1': 0.6394287930935361, 'auc': 0.7690864920886127, 'prauc': 0.6476129535002693}\n"
     ]
    },
    {
     "name": "stderr",
     "output_type": "stream",
     "text": [
      "Training Batches: 100%|██████████| 1/1 [00:01<00:00,  1.01s/it]\n",
      "Running inference: 100%|██████████| 1/1 [00:02<00:00,  2.36s/it]\n",
      "Running inference: 100%|██████████| 1/1 [00:02<00:00,  2.06s/it]\n"
     ]
    },
    {
     "name": "stdout",
     "output_type": "stream",
     "text": [
      "Epoch: 040, Average Loss: 0.5188\n",
      "Validation: {'precision': 0.6334332833559467, 'recall': 0.66798418972068, 'f1': 0.650250091191865, 'auc': 0.7688420959073132, 'prauc': 0.6497817349757287}\n",
      "Test:       {'precision': 0.638801261827134, 'recall': 0.6400632161175818, 'f1': 0.6394316113385112, 'auc': 0.7683388060668961, 'prauc': 0.6461250390639277}\n"
     ]
    },
    {
     "name": "stderr",
     "output_type": "stream",
     "text": [
      "Training Batches: 100%|██████████| 1/1 [00:01<00:00,  1.32s/it]\n",
      "Running inference: 100%|██████████| 1/1 [00:02<00:00,  2.07s/it]\n",
      "Running inference: 100%|██████████| 1/1 [00:02<00:00,  2.36s/it]\n"
     ]
    },
    {
     "name": "stdout",
     "output_type": "stream",
     "text": [
      "Epoch: 041, Average Loss: 0.5123\n",
      "Validation: {'precision': 0.63381858902339, 'recall': 0.6711462450566358, 'f1': 0.6519485455871129, 'auc': 0.768075736662693, 'prauc': 0.6475426459980949}\n",
      "Test:       {'precision': 0.6377891023103184, 'recall': 0.6428289213724108, 'f1': 0.640299089842107, 'auc': 0.7673073868132688, 'prauc': 0.6439426252560094}\n"
     ]
    },
    {
     "name": "stderr",
     "output_type": "stream",
     "text": [
      "Training Batches: 100%|██████████| 1/1 [00:01<00:00,  1.02s/it]\n",
      "Running inference: 100%|██████████| 1/1 [00:02<00:00,  2.36s/it]\n",
      "Running inference: 100%|██████████| 1/1 [00:02<00:00,  2.40s/it]\n"
     ]
    },
    {
     "name": "stdout",
     "output_type": "stream",
     "text": [
      "Epoch: 042, Average Loss: 0.5084\n",
      "Validation: {'precision': 0.6318499448303353, 'recall': 0.6790513833965255, 'f1': 0.6546008713613899, 'auc': 0.7646304661522053, 'prauc': 0.640022158218878}\n",
      "Test:       {'precision': 0.6368563685612201, 'recall': 0.6499407348848284, 'f1': 0.6433320247203319, 'auc': 0.7646498028213733, 'prauc': 0.6392577779225106}\n"
     ]
    },
    {
     "name": "stderr",
     "output_type": "stream",
     "text": [
      "Training Batches: 100%|██████████| 1/1 [00:01<00:00,  1.01s/it]\n",
      "Running inference: 100%|██████████| 1/1 [00:02<00:00,  2.03s/it]\n",
      "Running inference: 100%|██████████| 1/1 [00:02<00:00,  2.34s/it]\n"
     ]
    },
    {
     "name": "stdout",
     "output_type": "stream",
     "text": [
      "Epoch: 043, Average Loss: 0.5069\n",
      "Validation: {'precision': 0.6277104005857123, 'recall': 0.6750988142265807, 'f1': 0.650542748765326, 'auc': 0.7585983018591714, 'prauc': 0.6252042459507519}\n",
      "Test:       {'precision': 0.6286149162837572, 'recall': 0.6527064401396574, 'f1': 0.6404341876722836, 'auc': 0.7597735600420673, 'prauc': 0.6314414678115696}\n"
     ]
    },
    {
     "name": "stderr",
     "output_type": "stream",
     "text": [
      "Training Batches: 100%|██████████| 1/1 [00:01<00:00,  1.29s/it]\n",
      "Running inference: 100%|██████████| 1/1 [00:02<00:00,  2.00s/it]\n",
      "Running inference: 100%|██████████| 1/1 [00:02<00:00,  2.38s/it]\n"
     ]
    },
    {
     "name": "stdout",
     "output_type": "stream",
     "text": [
      "Epoch: 044, Average Loss: 0.5084\n",
      "Validation: {'precision': 0.6217175301610302, 'recall': 0.6924901185743381, 'f1': 0.6551981999484748, 'auc': 0.7545362527971223, 'prauc': 0.6099523245640341}\n",
      "Test:       {'precision': 0.6248164464000557, 'recall': 0.6724614776741508, 'f1': 0.6477640292573714, 'auc': 0.7571370243541443, 'prauc': 0.624176661951309}\n"
     ]
    },
    {
     "name": "stderr",
     "output_type": "stream",
     "text": [
      "Training Batches: 100%|██████████| 1/1 [00:00<00:00,  1.01it/s]\n",
      "Running inference: 100%|██████████| 1/1 [00:02<00:00,  2.32s/it]\n",
      "Running inference: 100%|██████████| 1/1 [00:02<00:00,  2.06s/it]\n"
     ]
    },
    {
     "name": "stdout",
     "output_type": "stream",
     "text": [
      "Epoch: 045, Average Loss: 0.4982\n",
      "Validation: {'precision': 0.6163152436895392, 'recall': 0.7047430830011671, 'f1': 0.6575696059364446, 'auc': 0.7525839136708702, 'prauc': 0.6007513104759941}\n",
      "Test:       {'precision': 0.6181172291274667, 'recall': 0.6874753062003656, 'f1': 0.6509539792989931, 'auc': 0.7556940112758173, 'prauc': 0.6171686402018719}\n",
      "\n",
      "Early stopping triggered after 45 epochs (no improvement for 10 epochs).\n",
      "\n",
      "Best validation performance:\n",
      "{'precision': 0.6223554301811624, 'recall': 0.6976284584952663, 'f1': 0.6578456901312137, 'auc': 0.7669186690925822, 'prauc': 0.6493287394696869}\n",
      "Corresponding test performance:\n",
      "{'precision': 0.6296569531514952, 'recall': 0.6744369814276, 'f1': 0.6512781331186339, 'auc': 0.7663781722595292, 'prauc': 0.6472853688376623}\n",
      "Corresponding test-long performance:\n",
      "{'precision': 0.7700394218032847, 'recall': 0.9015384615245917, 'f1': 0.8306165790021605, 'auc': 0.5634238310708899, 'prauc': 0.7862383041487128}\n",
      "[INFO] Random seed set to 939042955\n",
      "Training with seed: 939042955\n"
     ]
    },
    {
     "name": "stderr",
     "output_type": "stream",
     "text": [
      "Training Batches: 100%|██████████| 1/1 [00:01<00:00,  1.29s/it]\n",
      "Running inference: 100%|██████████| 1/1 [00:02<00:00,  2.04s/it]\n",
      "Running inference: 100%|██████████| 1/1 [00:02<00:00,  2.36s/it]\n"
     ]
    },
    {
     "name": "stdout",
     "output_type": "stream",
     "text": [
      "Epoch: 001, Average Loss: 0.6889\n",
      "Validation: {'precision': 0.7008310249258946, 'recall': 0.399999999998419, 'f1': 0.5093105137402376, 'auc': 0.7622890394629525, 'prauc': 0.6628539489251025}\n",
      "Test:       {'precision': 0.6762237762190474, 'recall': 0.3820624259170997, 'f1': 0.488260535651453, 'auc': 0.7591771390705425, 'prauc': 0.6444693326493722}\n"
     ]
    },
    {
     "name": "stderr",
     "output_type": "stream",
     "text": [
      "Training Batches: 100%|██████████| 1/1 [00:01<00:00,  1.00s/it]\n",
      "Running inference: 100%|██████████| 1/1 [00:02<00:00,  2.32s/it]\n",
      "Running inference: 100%|██████████| 1/1 [00:02<00:00,  2.40s/it]\n"
     ]
    },
    {
     "name": "stdout",
     "output_type": "stream",
     "text": [
      "Epoch: 002, Average Loss: 0.6644\n",
      "Validation: {'precision': 0.682494279172297, 'recall': 0.4715415019744208, 'f1': 0.557737255566521, 'auc': 0.7631176150741368, 'prauc': 0.6626252485129132}\n",
      "Test:       {'precision': 0.6645569620214928, 'recall': 0.4563413670467944, 'f1': 0.5411103254581184, 'auc': 0.7602516497524521, 'prauc': 0.6464521697967326}\n"
     ]
    },
    {
     "name": "stderr",
     "output_type": "stream",
     "text": [
      "Training Batches: 100%|██████████| 1/1 [00:00<00:00,  1.42it/s]\n",
      "Running inference: 100%|██████████| 1/1 [00:02<00:00,  2.35s/it]\n",
      "Running inference: 100%|██████████| 1/1 [00:02<00:00,  2.35s/it]\n"
     ]
    },
    {
     "name": "stdout",
     "output_type": "stream",
     "text": [
      "Epoch: 003, Average Loss: 0.6410\n",
      "Validation: {'precision': 0.6743438671629656, 'recall': 0.4976284584960568, 'f1': 0.572663174551603, 'auc': 0.763589727502771, 'prauc': 0.6629649801451847}\n",
      "Test:       {'precision': 0.6551351351315939, 'recall': 0.4788621098361167, 'f1': 0.5532983288320523, 'auc': 0.7608189067804128, 'prauc': 0.64750704623998}\n"
     ]
    },
    {
     "name": "stderr",
     "output_type": "stream",
     "text": [
      "Training Batches: 100%|██████████| 1/1 [00:00<00:00,  1.41it/s]\n",
      "Running inference: 100%|██████████| 1/1 [00:02<00:00,  2.40s/it]\n",
      "Running inference: 100%|██████████| 1/1 [00:02<00:00,  2.07s/it]\n"
     ]
    },
    {
     "name": "stdout",
     "output_type": "stream",
     "text": [
      "Epoch: 004, Average Loss: 0.6213\n",
      "Validation: {'precision': 0.668385765855243, 'recall': 0.5122529644248528, 'f1': 0.5799955198107367, 'auc': 0.7642822113474287, 'prauc': 0.6633782479947794}\n",
      "Test:       {'precision': 0.652400835069664, 'recall': 0.4938759383623316, 'f1': 0.5621767434627873, 'auc': 0.7614230245198081, 'prauc': 0.648299413261748}\n"
     ]
    },
    {
     "name": "stderr",
     "output_type": "stream",
     "text": [
      "Training Batches: 100%|██████████| 1/1 [00:00<00:00,  1.00it/s]\n",
      "Running inference: 100%|██████████| 1/1 [00:02<00:00,  2.03s/it]\n",
      "Running inference: 100%|██████████| 1/1 [00:02<00:00,  2.28s/it]\n"
     ]
    },
    {
     "name": "stdout",
     "output_type": "stream",
     "text": [
      "Epoch: 005, Average Loss: 0.6037\n",
      "Validation: {'precision': 0.6636726546873071, 'recall': 0.5256916996026653, 'f1': 0.5866784247074062, 'auc': 0.7651147081581864, 'prauc': 0.6640137241835133}\n",
      "Test:       {'precision': 0.652417302795662, 'recall': 0.5065191623844073, 'f1': 0.5702846925856011, 'auc': 0.7621931201785902, 'prauc': 0.649481404019498}\n"
     ]
    },
    {
     "name": "stderr",
     "output_type": "stream",
     "text": [
      "Training Batches: 100%|██████████| 1/1 [00:01<00:00,  1.30s/it]\n",
      "Running inference: 100%|██████████| 1/1 [00:02<00:00,  2.05s/it]\n",
      "Running inference: 100%|██████████| 1/1 [00:02<00:00,  2.35s/it]\n"
     ]
    },
    {
     "name": "stdout",
     "output_type": "stream",
     "text": [
      "Epoch: 006, Average Loss: 0.5911\n",
      "Validation: {'precision': 0.6624513618644823, 'recall': 0.5383399209464887, 'f1': 0.5939816784350369, 'auc': 0.7660280862454776, 'prauc': 0.6650154156911187}\n",
      "Test:       {'precision': 0.651892430275638, 'recall': 0.5171868826530337, 'f1': 0.5767790212810695, 'auc': 0.7629591318380939, 'prauc': 0.6504304288430145}\n"
     ]
    },
    {
     "name": "stderr",
     "output_type": "stream",
     "text": [
      "Training Batches: 100%|██████████| 1/1 [00:00<00:00,  1.01it/s]\n",
      "Running inference: 100%|██████████| 1/1 [00:02<00:00,  2.40s/it]\n",
      "Running inference: 100%|██████████| 1/1 [00:02<00:00,  2.06s/it]\n"
     ]
    },
    {
     "name": "stdout",
     "output_type": "stream",
     "text": [
      "Epoch: 007, Average Loss: 0.5828\n",
      "Validation: {'precision': 0.6623625059748333, 'recall': 0.5474308300373619, 'f1': 0.5994373462652106, 'auc': 0.7669539076060815, 'prauc': 0.6664139203768735}\n",
      "Test:       {'precision': 0.651724137927824, 'recall': 0.5227182931626918, 'f1': 0.5801359301597365, 'auc': 0.7638367728112042, 'prauc': 0.6517313234619706}\n"
     ]
    },
    {
     "name": "stderr",
     "output_type": "stream",
     "text": [
      "Training Batches: 100%|██████████| 1/1 [00:01<00:00,  1.31s/it]\n",
      "Running inference: 100%|██████████| 1/1 [00:02<00:00,  2.05s/it]\n",
      "Running inference: 100%|██████████| 1/1 [00:02<00:00,  2.35s/it]\n"
     ]
    },
    {
     "name": "stdout",
     "output_type": "stream",
     "text": [
      "Epoch: 008, Average Loss: 0.5781\n",
      "Validation: {'precision': 0.6613283089935877, 'recall': 0.5549407114602571, 'f1': 0.603481619793882, 'auc': 0.7678520714390279, 'prauc': 0.6679193363772552}\n",
      "Test:       {'precision': 0.6518987341740414, 'recall': 0.5290399051737296, 'f1': 0.584078511954513, 'auc': 0.7646188063140305, 'prauc': 0.6525902807223273}\n"
     ]
    },
    {
     "name": "stderr",
     "output_type": "stream",
     "text": [
      "Training Batches: 100%|██████████| 1/1 [00:00<00:00,  1.01it/s]\n",
      "Running inference: 100%|██████████| 1/1 [00:02<00:00,  2.36s/it]\n",
      "Running inference: 100%|██████████| 1/1 [00:02<00:00,  2.37s/it]\n"
     ]
    },
    {
     "name": "stdout",
     "output_type": "stream",
     "text": [
      "Epoch: 009, Average Loss: 0.5758\n",
      "Validation: {'precision': 0.6584342963622627, 'recall': 0.5584980237132076, 'f1': 0.6043626981962331, 'auc': 0.7684552564987347, 'prauc': 0.6688972649735851}\n",
      "Test:       {'precision': 0.6556036556005022, 'recall': 0.5385223231902864, 'f1': 0.591323205457649, 'auc': 0.7651296203776066, 'prauc': 0.6529092820465225}\n"
     ]
    },
    {
     "name": "stderr",
     "output_type": "stream",
     "text": [
      "Training Batches: 100%|██████████| 1/1 [00:01<00:00,  1.01s/it]\n",
      "Running inference: 100%|██████████| 1/1 [00:02<00:00,  2.06s/it]\n",
      "Running inference: 100%|██████████| 1/1 [00:02<00:00,  2.35s/it]\n"
     ]
    },
    {
     "name": "stdout",
     "output_type": "stream",
     "text": [
      "Epoch: 010, Average Loss: 0.5739\n",
      "Validation: {'precision': 0.6605719643663358, 'recall': 0.5569169960452296, 'f1': 0.6043319701569619, 'auc': 0.76894880481837, 'prauc': 0.6697295129531458}\n",
      "Test:       {'precision': 0.6574344023291671, 'recall': 0.5345713156833878, 'f1': 0.5896709473277346, 'auc': 0.7655441986633174, 'prauc': 0.6531104277202363}\n"
     ]
    },
    {
     "name": "stderr",
     "output_type": "stream",
     "text": [
      "Training Batches: 100%|██████████| 1/1 [00:01<00:00,  1.34s/it]\n",
      "Running inference: 100%|██████████| 1/1 [00:02<00:00,  2.06s/it]\n",
      "Running inference: 100%|██████████| 1/1 [00:02<00:00,  2.34s/it]\n"
     ]
    },
    {
     "name": "stdout",
     "output_type": "stream",
     "text": [
      "Epoch: 011, Average Loss: 0.5714\n",
      "Validation: {'precision': 0.6591970121351112, 'recall': 0.5581027667962131, 'f1': 0.6044520498264179, 'auc': 0.768951209820775, 'prauc': 0.6697438267004346}\n",
      "Test:       {'precision': 0.6584182435678874, 'recall': 0.5361517186861472, 'f1': 0.5910278696142655, 'auc': 0.765554775174269, 'prauc': 0.6526983271217917}\n"
     ]
    },
    {
     "name": "stderr",
     "output_type": "stream",
     "text": [
      "Training Batches: 100%|██████████| 1/1 [00:01<00:00,  1.00s/it]\n",
      "Running inference: 100%|██████████| 1/1 [00:02<00:00,  2.40s/it]\n",
      "Running inference: 100%|██████████| 1/1 [00:02<00:00,  2.08s/it]\n"
     ]
    },
    {
     "name": "stdout",
     "output_type": "stream",
     "text": [
      "Epoch: 012, Average Loss: 0.5684\n",
      "Validation: {'precision': 0.6598322460360679, 'recall': 0.559683794464191, 'f1': 0.6056458461859625, 'auc': 0.7689040508605726, 'prauc': 0.6697183203813942}\n",
      "Test:       {'precision': 0.6602223296246486, 'recall': 0.539707625442356, 'f1': 0.5939130385261144, 'auc': 0.7656587600789699, 'prauc': 0.6522501062251336}\n"
     ]
    },
    {
     "name": "stderr",
     "output_type": "stream",
     "text": [
      "Training Batches: 100%|██████████| 1/1 [00:01<00:00,  1.28s/it]\n",
      "Running inference: 100%|██████████| 1/1 [00:02<00:00,  2.06s/it]\n",
      "Running inference: 100%|██████████| 1/1 [00:02<00:00,  2.35s/it]\n"
     ]
    },
    {
     "name": "stdout",
     "output_type": "stream",
     "text": [
      "Epoch: 013, Average Loss: 0.5670\n",
      "Validation: {'precision': 0.6589327146141117, 'recall': 0.5612648221321689, 'f1': 0.6061899630123707, 'auc': 0.7689091745613484, 'prauc': 0.6697672328627415}\n",
      "Test:       {'precision': 0.660731472566599, 'recall': 0.5424733306971851, 'f1': 0.5957908390465833, 'auc': 0.7659013391643069, 'prauc': 0.65177504822893}\n"
     ]
    },
    {
     "name": "stderr",
     "output_type": "stream",
     "text": [
      "Training Batches: 100%|██████████| 1/1 [00:01<00:00,  1.01s/it]\n",
      "Running inference: 100%|██████████| 1/1 [00:02<00:00,  2.35s/it]\n",
      "Running inference: 100%|██████████| 1/1 [00:02<00:00,  2.36s/it]\n"
     ]
    },
    {
     "name": "stdout",
     "output_type": "stream",
     "text": [
      "Epoch: 014, Average Loss: 0.5658\n",
      "Validation: {'precision': 0.6577736890494122, 'recall': 0.5652173913021138, 'f1': 0.6079931923049642, 'auc': 0.7690305749001402, 'prauc': 0.6699253727300886}\n",
      "Test:       {'precision': 0.6602870813365537, 'recall': 0.5452390359520141, 'f1': 0.5972733125067057, 'auc': 0.76621104244291, 'prauc': 0.651716964663617}\n"
     ]
    },
    {
     "name": "stderr",
     "output_type": "stream",
     "text": [
      "Training Batches: 100%|██████████| 1/1 [00:01<00:00,  1.04s/it]\n",
      "Running inference: 100%|██████████| 1/1 [00:02<00:00,  2.03s/it]\n",
      "Running inference: 100%|██████████| 1/1 [00:02<00:00,  2.35s/it]\n"
     ]
    },
    {
     "name": "stdout",
     "output_type": "stream",
     "text": [
      "Epoch: 015, Average Loss: 0.5652\n",
      "Validation: {'precision': 0.6549549549520047, 'recall': 0.5747035573099815, 'f1': 0.6122105213345082, 'auc': 0.7692420582637973, 'prauc': 0.6700958986273099}\n",
      "Test:       {'precision': 0.6559440559409979, 'recall': 0.5559067562206405, 'f1': 0.6017964022171266, 'auc': 0.7665158763377584, 'prauc': 0.6517546739828769}\n"
     ]
    },
    {
     "name": "stderr",
     "output_type": "stream",
     "text": [
      "Training Batches: 100%|██████████| 1/1 [00:01<00:00,  1.31s/it]\n",
      "Running inference: 100%|██████████| 1/1 [00:02<00:00,  2.07s/it]\n",
      "Running inference: 100%|██████████| 1/1 [00:02<00:00,  2.38s/it]\n"
     ]
    },
    {
     "name": "stdout",
     "output_type": "stream",
     "text": [
      "Epoch: 016, Average Loss: 0.5632\n",
      "Validation: {'precision': 0.6535260621959986, 'recall': 0.5897233201557719, 'f1': 0.6199875287733181, 'auc': 0.769611958090219, 'prauc': 0.670371565273645}\n",
      "Test:       {'precision': 0.6528473804070486, 'recall': 0.5661793757385769, 'f1': 0.6064324960806841, 'auc': 0.766869089916365, 'prauc': 0.652149165337396}\n"
     ]
    },
    {
     "name": "stderr",
     "output_type": "stream",
     "text": [
      "Training Batches: 100%|██████████| 1/1 [00:01<00:00,  1.02s/it]\n",
      "Running inference: 100%|██████████| 1/1 [00:02<00:00,  2.41s/it]\n",
      "Running inference: 100%|██████████| 1/1 [00:02<00:00,  2.04s/it]\n"
     ]
    },
    {
     "name": "stdout",
     "output_type": "stream",
     "text": [
      "Epoch: 017, Average Loss: 0.5621\n",
      "Validation: {'precision': 0.6534311609812109, 'recall': 0.5984189723296506, 'f1': 0.624716314379886, 'auc': 0.7695390760608152, 'prauc': 0.6704096715439951}\n",
      "Test:       {'precision': 0.6527403414166544, 'recall': 0.5740813907523743, 'f1': 0.6108892109103552, 'auc': 0.7667528530138292, 'prauc': 0.6521813691942623}\n"
     ]
    },
    {
     "name": "stderr",
     "output_type": "stream",
     "text": [
      "Training Batches: 100%|██████████| 1/1 [00:01<00:00,  1.32s/it]\n",
      "Running inference: 100%|██████████| 1/1 [00:02<00:00,  2.08s/it]\n",
      "Running inference: 100%|██████████| 1/1 [00:02<00:00,  2.38s/it]\n"
     ]
    },
    {
     "name": "stdout",
     "output_type": "stream",
     "text": [
      "Epoch: 018, Average Loss: 0.5611\n",
      "Validation: {'precision': 0.6510729613705963, 'recall': 0.599604743080634, 'f1': 0.6242798303968452, 'auc': 0.769231131187653, 'prauc': 0.6700616756921072}\n",
      "Test:       {'precision': 0.6522514489493881, 'recall': 0.5780323982592729, 'f1': 0.6129032208220806, 'auc': 0.7663692712354611, 'prauc': 0.6519079575776366}\n"
     ]
    },
    {
     "name": "stderr",
     "output_type": "stream",
     "text": [
      "Training Batches: 100%|██████████| 1/1 [00:01<00:00,  1.02s/it]\n",
      "Running inference: 100%|██████████| 1/1 [00:02<00:00,  2.38s/it]\n",
      "Running inference: 100%|██████████| 1/1 [00:02<00:00,  2.39s/it]\n"
     ]
    },
    {
     "name": "stdout",
     "output_type": "stream",
     "text": [
      "Epoch: 019, Average Loss: 0.5594\n",
      "Validation: {'precision': 0.6493784826375938, 'recall': 0.5988142292466451, 'f1': 0.623072172673749, 'auc': 0.768823535562666, 'prauc': 0.6697915428939151}\n",
      "Test:       {'precision': 0.6521158129146899, 'recall': 0.5784274990099628, 'f1': 0.6130653216485284, 'auc': 0.7658235861011242, 'prauc': 0.6513443079503819}\n"
     ]
    },
    {
     "name": "stderr",
     "output_type": "stream",
     "text": [
      "Training Batches: 100%|██████████| 1/1 [00:00<00:00,  1.00it/s]\n",
      "Running inference: 100%|██████████| 1/1 [00:02<00:00,  2.07s/it]\n",
      "Running inference: 100%|██████████| 1/1 [00:02<00:00,  2.35s/it]\n"
     ]
    },
    {
     "name": "stdout",
     "output_type": "stream",
     "text": [
      "Epoch: 020, Average Loss: 0.5592\n",
      "Validation: {'precision': 0.6465696465669581, 'recall': 0.6146245059264245, 'f1': 0.6301924975335821, 'auc': 0.767806114980028, 'prauc': 0.6688915500351345}\n",
      "Test:       {'precision': 0.6484612050253643, 'recall': 0.5910707230320384, 'f1': 0.618437365822548, 'auc': 0.7648656264755411, 'prauc': 0.6503744259494543}\n"
     ]
    },
    {
     "name": "stderr",
     "output_type": "stream",
     "text": [
      "Training Batches: 100%|██████████| 1/1 [00:01<00:00,  1.31s/it]\n",
      "Running inference: 100%|██████████| 1/1 [00:02<00:00,  2.05s/it]\n",
      "Running inference: 100%|██████████| 1/1 [00:02<00:00,  2.35s/it]\n"
     ]
    },
    {
     "name": "stdout",
     "output_type": "stream",
     "text": [
      "Epoch: 021, Average Loss: 0.5585\n",
      "Validation: {'precision': 0.6462809917328667, 'recall': 0.6181818181793748, 'f1': 0.631919186919108, 'auc': 0.7679300771692075, 'prauc': 0.668763049414157}\n",
      "Test:       {'precision': 0.6486836426385469, 'recall': 0.5938364282868676, 'f1': 0.6200494999576798, 'auc': 0.76482070248348, 'prauc': 0.6500331743065837}\n"
     ]
    },
    {
     "name": "stderr",
     "output_type": "stream",
     "text": [
      "Training Batches: 100%|██████████| 1/1 [00:01<00:00,  1.01s/it]\n",
      "Running inference: 100%|██████████| 1/1 [00:02<00:00,  2.35s/it]\n",
      "Running inference: 100%|██████████| 1/1 [00:02<00:00,  2.06s/it]\n"
     ]
    },
    {
     "name": "stdout",
     "output_type": "stream",
     "text": [
      "Epoch: 022, Average Loss: 0.5562\n",
      "Validation: {'precision': 0.6479933110340803, 'recall': 0.612648221341452, 'f1': 0.6298252692801198, 'auc': 0.7689348976305498, 'prauc': 0.6690992925762189}\n",
      "Test:       {'precision': 0.65122377622093, 'recall': 0.5887001185278993, 'f1': 0.6183855521796844, 'auc': 0.7654683305228785, 'prauc': 0.6505172968592173}\n"
     ]
    },
    {
     "name": "stderr",
     "output_type": "stream",
     "text": [
      "Training Batches: 100%|██████████| 1/1 [00:01<00:00,  1.31s/it]\n",
      "Running inference: 100%|██████████| 1/1 [00:02<00:00,  2.07s/it]\n",
      "Running inference: 100%|██████████| 1/1 [00:02<00:00,  2.35s/it]\n"
     ]
    },
    {
     "name": "stdout",
     "output_type": "stream",
     "text": [
      "Epoch: 023, Average Loss: 0.5553\n",
      "Validation: {'precision': 0.6510745891249429, 'recall': 0.6106719367564796, 'f1': 0.630226387007451, 'auc': 0.7709484074701466, 'prauc': 0.6702031771000176}\n",
      "Test:       {'precision': 0.6598669623030605, 'recall': 0.5879099170265195, 'f1': 0.6218136180813093, 'auc': 0.7669144327801469, 'prauc': 0.6512397319588532}\n"
     ]
    },
    {
     "name": "stderr",
     "output_type": "stream",
     "text": [
      "Training Batches: 100%|██████████| 1/1 [00:00<00:00,  1.00it/s]\n",
      "Running inference: 100%|██████████| 1/1 [00:02<00:00,  2.34s/it]\n",
      "Running inference: 100%|██████████| 1/1 [00:02<00:00,  2.43s/it]\n"
     ]
    },
    {
     "name": "stdout",
     "output_type": "stream",
     "text": [
      "Epoch: 024, Average Loss: 0.5557\n",
      "Validation: {'precision': 0.6439516129006293, 'recall': 0.6312252964401928, 'f1': 0.6375249450977535, 'auc': 0.7710331053809315, 'prauc': 0.66990681353247}\n",
      "Test:       {'precision': 0.652542372878591, 'recall': 0.6084551560623925, 'f1': 0.6297280669724592, 'auc': 0.7675319544146094, 'prauc': 0.6515406329954709}\n"
     ]
    },
    {
     "name": "stderr",
     "output_type": "stream",
     "text": [
      "Training Batches: 100%|██████████| 1/1 [00:01<00:00,  1.03s/it]\n",
      "Running inference: 100%|██████████| 1/1 [00:02<00:00,  2.02s/it]\n",
      "Running inference: 100%|██████████| 1/1 [00:02<00:00,  2.30s/it]\n"
     ]
    },
    {
     "name": "stdout",
     "output_type": "stream",
     "text": [
      "Epoch: 025, Average Loss: 0.5536\n",
      "Validation: {'precision': 0.639825466082349, 'recall': 0.6375494071121046, 'f1': 0.6386854038274217, 'auc': 0.7701406403580315, 'prauc': 0.6691581365554106}\n",
      "Test:       {'precision': 0.6474999999973021, 'recall': 0.6139865665720506, 'f1': 0.6302981089737976, 'auc': 0.7671897362186754, 'prauc': 0.6512143804268572}\n"
     ]
    },
    {
     "name": "stderr",
     "output_type": "stream",
     "text": [
      "Training Batches: 100%|██████████| 1/1 [00:01<00:00,  1.28s/it]\n",
      "Running inference: 100%|██████████| 1/1 [00:02<00:00,  2.02s/it]\n",
      "Running inference: 100%|██████████| 1/1 [00:02<00:00,  2.37s/it]\n"
     ]
    },
    {
     "name": "stdout",
     "output_type": "stream",
     "text": [
      "Epoch: 026, Average Loss: 0.5517\n",
      "Validation: {'precision': 0.6408422725441365, 'recall': 0.6375494071121046, 'f1': 0.6391915939671853, 'auc': 0.768823640127988, 'prauc': 0.6681358294451174}\n",
      "Test:       {'precision': 0.6445182724225726, 'recall': 0.6131963650706709, 'f1': 0.6284672960736478, 'auc': 0.7663392171894902, 'prauc': 0.6505313301308018}\n"
     ]
    },
    {
     "name": "stderr",
     "output_type": "stream",
     "text": [
      "Training Batches: 100%|██████████| 1/1 [00:00<00:00,  1.00it/s]\n",
      "Running inference: 100%|██████████| 1/1 [00:02<00:00,  2.35s/it]\n",
      "Running inference: 100%|██████████| 1/1 [00:02<00:00,  2.08s/it]\n"
     ]
    },
    {
     "name": "stdout",
     "output_type": "stream",
     "text": [
      "Epoch: 027, Average Loss: 0.5506\n",
      "Validation: {'precision': 0.6406685236743308, 'recall': 0.6363636363611211, 'f1': 0.6385088191101561, 'auc': 0.768312420268942, 'prauc': 0.6676012532210552}\n",
      "Test:       {'precision': 0.6443148688019812, 'recall': 0.6112208613172216, 'f1': 0.6273317062742471, 'auc': 0.765870290297999, 'prauc': 0.6500385131107199}\n"
     ]
    },
    {
     "name": "stderr",
     "output_type": "stream",
     "text": [
      "Training Batches: 100%|██████████| 1/1 [00:01<00:00,  1.31s/it]\n",
      "Running inference: 100%|██████████| 1/1 [00:02<00:00,  2.01s/it]\n",
      "Running inference: 100%|██████████| 1/1 [00:02<00:00,  2.33s/it]\n"
     ]
    },
    {
     "name": "stdout",
     "output_type": "stream",
     "text": [
      "Epoch: 028, Average Loss: 0.5503\n",
      "Validation: {'precision': 0.6417260490869291, 'recall': 0.6407114624480604, 'f1': 0.6412183494278465, 'auc': 0.7688858564945522, 'prauc': 0.6675570923017928}\n",
      "Test:       {'precision': 0.6444811905719534, 'recall': 0.6159620703255, 'f1': 0.6298989848990046, 'auc': 0.7662783760720367, 'prauc': 0.6501617591162742}\n"
     ]
    },
    {
     "name": "stderr",
     "output_type": "stream",
     "text": [
      "Training Batches: 100%|██████████| 1/1 [00:00<00:00,  1.02it/s]\n",
      "Running inference: 100%|██████████| 1/1 [00:02<00:00,  2.31s/it]\n",
      "Running inference: 100%|██████████| 1/1 [00:02<00:00,  2.35s/it]\n"
     ]
    },
    {
     "name": "stdout",
     "output_type": "stream",
     "text": [
      "Epoch: 029, Average Loss: 0.5487\n",
      "Validation: {'precision': 0.6387715930877591, 'recall': 0.6577075098788233, 'f1': 0.6481012608213272, 'auc': 0.7690827007131354, 'prauc': 0.6666835804977811}\n",
      "Test:       {'precision': 0.642655935611096, 'recall': 0.6309758988517149, 'f1': 0.6367623554444527, 'auc': 0.7666160913969717, 'prauc': 0.6502152408099632}\n"
     ]
    },
    {
     "name": "stderr",
     "output_type": "stream",
     "text": [
      "Training Batches: 100%|██████████| 1/1 [00:00<00:00,  1.00it/s]\n",
      "Running inference: 100%|██████████| 1/1 [00:02<00:00,  2.05s/it]\n",
      "Running inference: 100%|██████████| 1/1 [00:02<00:00,  2.34s/it]\n"
     ]
    },
    {
     "name": "stdout",
     "output_type": "stream",
     "text": [
      "Epoch: 030, Average Loss: 0.5497\n",
      "Validation: {'precision': 0.642096964916665, 'recall': 0.6438735177840164, 'f1': 0.6429840092070632, 'auc': 0.7684673860760818, 'prauc': 0.6665946383526957}\n",
      "Test:       {'precision': 0.6466227347584571, 'recall': 0.6203081785830885, 'f1': 0.633192170841507, 'auc': 0.7659696676137706, 'prauc': 0.6496676513438508}\n"
     ]
    },
    {
     "name": "stderr",
     "output_type": "stream",
     "text": [
      "Training Batches: 100%|██████████| 1/1 [00:01<00:00,  1.30s/it]\n",
      "Running inference: 100%|██████████| 1/1 [00:02<00:00,  2.04s/it]\n",
      "Running inference: 100%|██████████| 1/1 [00:02<00:00,  2.36s/it]\n"
     ]
    },
    {
     "name": "stdout",
     "output_type": "stream",
     "text": [
      "Epoch: 031, Average Loss: 0.5457\n",
      "Validation: {'precision': 0.6419316843319909, 'recall': 0.6462450592859833, 'f1': 0.6440811452831205, 'auc': 0.7685381767990463, 'prauc': 0.6667216729405412}\n",
      "Test:       {'precision': 0.6455592105236614, 'recall': 0.6203081785830885, 'f1': 0.6326818406573081, 'auc': 0.7662129797246191, 'prauc': 0.6502160870901201}\n"
     ]
    },
    {
     "name": "stderr",
     "output_type": "stream",
     "text": [
      "Training Batches: 100%|██████████| 1/1 [00:00<00:00,  1.01it/s]\n",
      "Running inference: 100%|██████████| 1/1 [00:02<00:00,  2.36s/it]\n",
      "Running inference: 100%|██████████| 1/1 [00:02<00:00,  2.08s/it]\n"
     ]
    },
    {
     "name": "stdout",
     "output_type": "stream",
     "text": [
      "Epoch: 032, Average Loss: 0.5444\n",
      "Validation: {'precision': 0.6322484100238225, 'recall': 0.66798418972068, 'f1': 0.6496252112226906, 'auc': 0.7687692661605705, 'prauc': 0.6664989493209242}\n",
      "Test:       {'precision': 0.6393891934195796, 'recall': 0.64519952587655, 'f1': 0.642281214269946, 'auc': 0.7667370929653321, 'prauc': 0.6510426968193777}\n"
     ]
    },
    {
     "name": "stderr",
     "output_type": "stream",
     "text": [
      "Training Batches: 100%|██████████| 1/1 [00:01<00:00,  1.31s/it]\n",
      "Running inference: 100%|██████████| 1/1 [00:02<00:00,  2.06s/it]\n",
      "Running inference: 100%|██████████| 1/1 [00:02<00:00,  2.38s/it]\n"
     ]
    },
    {
     "name": "stdout",
     "output_type": "stream",
     "text": [
      "Epoch: 033, Average Loss: 0.5472\n",
      "Validation: {'precision': 0.635033758437228, 'recall': 0.6691699604716634, 'f1': 0.6516551143234731, 'auc': 0.7696205324466194, 'prauc': 0.6672539252782317}\n",
      "Test:       {'precision': 0.639984227126814, 'recall': 0.6412485183696514, 'f1': 0.6406157439613603, 'auc': 0.7674582853507051, 'prauc': 0.65172186718961}\n"
     ]
    },
    {
     "name": "stderr",
     "output_type": "stream",
     "text": [
      "Training Batches: 100%|██████████| 1/1 [00:01<00:00,  1.02s/it]\n",
      "Running inference: 100%|██████████| 1/1 [00:02<00:00,  2.35s/it]\n",
      "Running inference: 100%|██████████| 1/1 [00:02<00:00,  2.32s/it]\n"
     ]
    },
    {
     "name": "stdout",
     "output_type": "stream",
     "text": [
      "Epoch: 034, Average Loss: 0.5414\n",
      "Validation: {'precision': 0.6383635661881962, 'recall': 0.6537549407088785, 'f1': 0.6459675794543476, 'auc': 0.770002405002405, 'prauc': 0.6678568055509043}\n",
      "Test:       {'precision': 0.6458923512721737, 'recall': 0.630580798101025, 'f1': 0.6381447371013267, 'auc': 0.767864014971313, 'prauc': 0.6521010286572688}\n"
     ]
    },
    {
     "name": "stderr",
     "output_type": "stream",
     "text": [
      "Training Batches: 100%|██████████| 1/1 [00:01<00:00,  1.01s/it]\n",
      "Running inference: 100%|██████████| 1/1 [00:02<00:00,  2.05s/it]\n",
      "Running inference: 100%|██████████| 1/1 [00:02<00:00,  2.30s/it]\n"
     ]
    },
    {
     "name": "stdout",
     "output_type": "stream",
     "text": [
      "Epoch: 035, Average Loss: 0.5411\n",
      "Validation: {'precision': 0.6403301886767283, 'recall': 0.6438735177840164, 'f1': 0.6420969599167031, 'auc': 0.7702289980550849, 'prauc': 0.6680849240682281}\n",
      "Test:       {'precision': 0.6489273927365968, 'recall': 0.6214934808351581, 'f1': 0.6349142230522411, 'auc': 0.768205604859666, 'prauc': 0.6522322759600304}\n"
     ]
    },
    {
     "name": "stderr",
     "output_type": "stream",
     "text": [
      "Training Batches: 100%|██████████| 1/1 [00:01<00:00,  1.29s/it]\n",
      "Running inference: 100%|██████████| 1/1 [00:02<00:00,  2.04s/it]\n",
      "Running inference: 100%|██████████| 1/1 [00:02<00:00,  2.39s/it]\n"
     ]
    },
    {
     "name": "stdout",
     "output_type": "stream",
     "text": [
      "Epoch: 036, Average Loss: 0.5409\n",
      "Validation: {'precision': 0.6369942196507246, 'recall': 0.653359683791884, 'f1': 0.6450731657299944, 'auc': 0.7704791183052051, 'prauc': 0.6671790907831644}\n",
      "Test:       {'precision': 0.6467964314653415, 'recall': 0.6301856973503351, 'f1': 0.6383830248161818, 'auc': 0.7688132830086887, 'prauc': 0.6523910182544951}\n"
     ]
    },
    {
     "name": "stderr",
     "output_type": "stream",
     "text": [
      "Training Batches: 100%|██████████| 1/1 [00:00<00:00,  1.01it/s]\n",
      "Running inference: 100%|██████████| 1/1 [00:02<00:00,  2.38s/it]\n",
      "Running inference: 100%|██████████| 1/1 [00:02<00:00,  2.01s/it]\n"
     ]
    },
    {
     "name": "stdout",
     "output_type": "stream",
     "text": [
      "Epoch: 037, Average Loss: 0.5385\n",
      "Validation: {'precision': 0.6352059925069843, 'recall': 0.6703557312226468, 'f1': 0.6523076873088077, 'auc': 0.77069901917728, 'prauc': 0.6659079288533817}\n",
      "Test:       {'precision': 0.6446379105633374, 'recall': 0.6436191228737905, 'f1': 0.6441281088764598, 'auc': 0.7693699635256978, 'prauc': 0.652191826880811}\n"
     ]
    },
    {
     "name": "stderr",
     "output_type": "stream",
     "text": [
      "Training Batches: 100%|██████████| 1/1 [00:01<00:00,  1.29s/it]\n",
      "Running inference: 100%|██████████| 1/1 [00:02<00:00,  2.04s/it]\n",
      "Running inference: 100%|██████████| 1/1 [00:02<00:00,  2.34s/it]\n"
     ]
    },
    {
     "name": "stdout",
     "output_type": "stream",
     "text": [
      "Epoch: 038, Average Loss: 0.5379\n",
      "Validation: {'precision': 0.6342749529166317, 'recall': 0.665612648218713, 'f1': 0.6495660509309695, 'auc': 0.7700382709078362, 'prauc': 0.6659015809828406}\n",
      "Test:       {'precision': 0.6440745144643517, 'recall': 0.6420387198710311, 'f1': 0.6430550009333602, 'auc': 0.7686963654396064, 'prauc': 0.6520571706654967}\n"
     ]
    },
    {
     "name": "stderr",
     "output_type": "stream",
     "text": [
      "Training Batches: 100%|██████████| 1/1 [00:00<00:00,  1.00it/s]\n",
      "Running inference: 100%|██████████| 1/1 [00:02<00:00,  2.34s/it]\n",
      "Running inference: 100%|██████████| 1/1 [00:02<00:00,  2.35s/it]\n"
     ]
    },
    {
     "name": "stdout",
     "output_type": "stream",
     "text": [
      "Epoch: 039, Average Loss: 0.5350\n",
      "Validation: {'precision': 0.6345062429033882, 'recall': 0.6628458497997516, 'f1': 0.6483665134611202, 'auc': 0.7704460756634669, 'prauc': 0.6665468698948062}\n",
      "Test:       {'precision': 0.6439393939368264, 'recall': 0.6380877123641324, 'f1': 0.6410001934496339, 'auc': 0.7688715585368517, 'prauc': 0.6527482239991498}\n"
     ]
    },
    {
     "name": "stderr",
     "output_type": "stream",
     "text": [
      "Training Batches: 100%|██████████| 1/1 [00:01<00:00,  1.01s/it]\n",
      "Running inference: 100%|██████████| 1/1 [00:02<00:00,  2.05s/it]\n",
      "Running inference: 100%|██████████| 1/1 [00:02<00:00,  2.32s/it]\n"
     ]
    },
    {
     "name": "stdout",
     "output_type": "stream",
     "text": [
      "Epoch: 040, Average Loss: 0.5298\n",
      "Validation: {'precision': 0.6429414077835511, 'recall': 0.6462450592859833, 'f1': 0.6445889955888577, 'auc': 0.7704372921764227, 'prauc': 0.6677435165130476}\n",
      "Test:       {'precision': 0.6504369538050336, 'recall': 0.6175424733282594, 'f1': 0.6335630270234966, 'auc': 0.7682157624988966, 'prauc': 0.6526855701035132}\n"
     ]
    },
    {
     "name": "stderr",
     "output_type": "stream",
     "text": [
      "Training Batches: 100%|██████████| 1/1 [00:01<00:00,  1.30s/it]\n",
      "Running inference: 100%|██████████| 1/1 [00:02<00:00,  2.06s/it]\n",
      "Running inference: 100%|██████████| 1/1 [00:02<00:00,  2.36s/it]\n"
     ]
    },
    {
     "name": "stdout",
     "output_type": "stream",
     "text": [
      "Epoch: 041, Average Loss: 0.5397\n",
      "Validation: {'precision': 0.6314221891264653, 'recall': 0.6703557312226468, 'f1': 0.6503067434682367, 'auc': 0.7700370684066337, 'prauc': 0.6652530201334322}\n",
      "Test:       {'precision': 0.6429133858242405, 'recall': 0.64519952587655, 'f1': 0.6440544221321631, 'auc': 0.7684749393761722, 'prauc': 0.6519266192438777}\n"
     ]
    },
    {
     "name": "stderr",
     "output_type": "stream",
     "text": [
      "Training Batches: 100%|██████████| 1/1 [00:01<00:00,  1.00s/it]\n",
      "Running inference: 100%|██████████| 1/1 [00:02<00:00,  2.32s/it]\n",
      "Running inference: 100%|██████████| 1/1 [00:02<00:00,  2.04s/it]\n"
     ]
    },
    {
     "name": "stdout",
     "output_type": "stream",
     "text": [
      "Epoch: 042, Average Loss: 0.5289\n",
      "Validation: {'precision': 0.6263814616733463, 'recall': 0.6944664031593104, 'f1': 0.6586691608964768, 'auc': 0.7691495702365267, 'prauc': 0.6605861167323306}\n",
      "Test:       {'precision': 0.6385542168650657, 'recall': 0.6700908731700115, 'f1': 0.6539425436797731, 'auc': 0.7686458390382789, 'prauc': 0.6501643588016112}\n"
     ]
    },
    {
     "name": "stderr",
     "output_type": "stream",
     "text": [
      "Training Batches: 100%|██████████| 1/1 [00:01<00:00,  1.28s/it]\n",
      "Running inference: 100%|██████████| 1/1 [00:02<00:00,  2.03s/it]\n",
      "Running inference: 100%|██████████| 1/1 [00:02<00:00,  2.34s/it]\n"
     ]
    },
    {
     "name": "stdout",
     "output_type": "stream",
     "text": [
      "Epoch: 043, Average Loss: 0.5326\n",
      "Validation: {'precision': 0.6280421358495167, 'recall': 0.6833992094834649, 'f1': 0.6545523326933512, 'auc': 0.7685134993830645, 'prauc': 0.6594190293159158}\n",
      "Test:       {'precision': 0.6409370199668167, 'recall': 0.6594231529013852, 'f1': 0.6500486804902023, 'auc': 0.768564996796155, 'prauc': 0.6491954495109972}\n"
     ]
    },
    {
     "name": "stderr",
     "output_type": "stream",
     "text": [
      "Training Batches: 100%|██████████| 1/1 [00:00<00:00,  1.00it/s]\n",
      "Running inference: 100%|██████████| 1/1 [00:02<00:00,  2.35s/it]\n",
      "Running inference: 100%|██████████| 1/1 [00:02<00:00,  2.35s/it]\n"
     ]
    },
    {
     "name": "stdout",
     "output_type": "stream",
     "text": [
      "Epoch: 044, Average Loss: 0.5298\n",
      "Validation: {'precision': 0.6384885079834886, 'recall': 0.6478260869539612, 'f1': 0.643123400922794, 'auc': 0.7693415521676392, 'prauc': 0.6618830874850246}\n",
      "Test:       {'precision': 0.6475916014794253, 'recall': 0.6214934808351581, 'f1': 0.6342741885479442, 'auc': 0.7689784231846335, 'prauc': 0.6500157768695659}\n"
     ]
    },
    {
     "name": "stderr",
     "output_type": "stream",
     "text": [
      "Training Batches: 100%|██████████| 1/1 [00:01<00:00,  1.03s/it]\n",
      "Running inference: 100%|██████████| 1/1 [00:02<00:00,  2.09s/it]\n",
      "Running inference: 100%|██████████| 1/1 [00:02<00:00,  2.38s/it]\n"
     ]
    },
    {
     "name": "stdout",
     "output_type": "stream",
     "text": [
      "Epoch: 045, Average Loss: 0.5235\n",
      "Validation: {'precision': 0.6479217603885578, 'recall': 0.6284584980212314, 'f1': 0.6380417285459539, 'auc': 0.7711950770646423, 'prauc': 0.6636361703858149}\n",
      "Test:       {'precision': 0.6549657534218538, 'recall': 0.6045041485554938, 'f1': 0.6287240550013335, 'auc': 0.7705461553178434, 'prauc': 0.6508191005828116}\n"
     ]
    },
    {
     "name": "stderr",
     "output_type": "stream",
     "text": [
      "Training Batches: 100%|██████████| 1/1 [00:01<00:00,  1.31s/it]\n",
      "Running inference: 100%|██████████| 1/1 [00:02<00:00,  2.04s/it]\n",
      "Running inference: 100%|██████████| 1/1 [00:02<00:00,  2.42s/it]\n"
     ]
    },
    {
     "name": "stdout",
     "output_type": "stream",
     "text": [
      "Epoch: 046, Average Loss: 0.5273\n",
      "Validation: {'precision': 0.6463756507783486, 'recall': 0.6379446640290991, 'f1': 0.6421324795809112, 'auc': 0.7731427107514065, 'prauc': 0.662913002998645}\n",
      "Test:       {'precision': 0.6552453468669406, 'recall': 0.6120110628186013, 'f1': 0.632890699804051, 'auc': 0.7719566011198745, 'prauc': 0.6513464255500199}\n"
     ]
    },
    {
     "name": "stderr",
     "output_type": "stream",
     "text": [
      "Training Batches: 100%|██████████| 1/1 [00:01<00:00,  1.02s/it]\n",
      "Running inference: 100%|██████████| 1/1 [00:02<00:00,  2.40s/it]\n",
      "Running inference: 100%|██████████| 1/1 [00:02<00:00,  2.11s/it]\n"
     ]
    },
    {
     "name": "stdout",
     "output_type": "stream",
     "text": [
      "Epoch: 047, Average Loss: 0.5243\n",
      "Validation: {'precision': 0.6379375235203691, 'recall': 0.6699604743056523, 'f1': 0.6535569643469206, 'auc': 0.7723699730221469, 'prauc': 0.6557811775675653}\n",
      "Test:       {'precision': 0.6472929936279965, 'recall': 0.6424338206217209, 'f1': 0.6448542484180967, 'auc': 0.7715306609387355, 'prauc': 0.6498890856306082}\n"
     ]
    },
    {
     "name": "stderr",
     "output_type": "stream",
     "text": [
      "Training Batches: 100%|██████████| 1/1 [00:01<00:00,  1.35s/it]\n",
      "Running inference: 100%|██████████| 1/1 [00:02<00:00,  2.05s/it]\n",
      "Running inference: 100%|██████████| 1/1 [00:02<00:00,  2.37s/it]\n"
     ]
    },
    {
     "name": "stdout",
     "output_type": "stream",
     "text": [
      "Epoch: 048, Average Loss: 0.5195\n",
      "Validation: {'precision': 0.6286019210223103, 'recall': 0.6984189723292553, 'f1': 0.6616738388608288, 'auc': 0.7683603111863981, 'prauc': 0.6408938296681896}\n",
      "Test:       {'precision': 0.6396396396372386, 'recall': 0.6732516791755304, 'f1': 0.6560153944232733, 'auc': 0.7693923731627631, 'prauc': 0.6451200831665873}\n"
     ]
    },
    {
     "name": "stderr",
     "output_type": "stream",
     "text": [
      "Training Batches: 100%|██████████| 1/1 [00:00<00:00,  1.01it/s]\n",
      "Running inference: 100%|██████████| 1/1 [00:02<00:00,  2.36s/it]\n",
      "Running inference: 100%|██████████| 1/1 [00:02<00:00,  2.40s/it]\n"
     ]
    },
    {
     "name": "stdout",
     "output_type": "stream",
     "text": [
      "Epoch: 049, Average Loss: 0.5307\n",
      "Validation: {'precision': 0.6329160530168155, 'recall': 0.67944664031352, 'f1': 0.6553564570701232, 'auc': 0.7707181546311981, 'prauc': 0.6545353035922792}\n",
      "Test:       {'precision': 0.6436066848012297, 'recall': 0.6542868431424169, 'f1': 0.6489028163144103, 'auc': 0.7699865426987883, 'prauc': 0.6496628902699613}\n"
     ]
    },
    {
     "name": "stderr",
     "output_type": "stream",
     "text": [
      "Training Batches: 100%|██████████| 1/1 [00:01<00:00,  1.03s/it]\n",
      "Running inference: 100%|██████████| 1/1 [00:02<00:00,  2.10s/it]\n",
      "Running inference: 100%|██████████| 1/1 [00:02<00:00,  2.38s/it]\n"
     ]
    },
    {
     "name": "stdout",
     "output_type": "stream",
     "text": [
      "Epoch: 050, Average Loss: 0.5141\n",
      "Validation: {'precision': 0.639432297657693, 'recall': 0.6588932806298068, 'f1': 0.6490169309534342, 'auc': 0.7705892255892257, 'prauc': 0.6600001404020032}\n",
      "Test:       {'precision': 0.6482758620663356, 'recall': 0.6313709996024047, 'f1': 0.6397117644138441, 'auc': 0.7688185189051993, 'prauc': 0.6505541121314974}\n"
     ]
    },
    {
     "name": "stderr",
     "output_type": "stream",
     "text": [
      "Training Batches: 100%|██████████| 1/1 [00:01<00:00,  1.33s/it]\n",
      "Running inference: 100%|██████████| 1/1 [00:02<00:00,  2.09s/it]\n",
      "Running inference: 100%|██████████| 1/1 [00:02<00:00,  2.39s/it]\n"
     ]
    },
    {
     "name": "stdout",
     "output_type": "stream",
     "text": [
      "Epoch: 051, Average Loss: 0.5152\n",
      "Validation: {'precision': 0.6439063120260266, 'recall': 0.6411067193650549, 'f1': 0.6425034610303565, 'auc': 0.7704357236965932, 'prauc': 0.6594909785115286}\n",
      "Test:       {'precision': 0.6510067114066652, 'recall': 0.6131963650706709, 'f1': 0.6315361089388305, 'auc': 0.7684367173316449, 'prauc': 0.649243983317501}\n"
     ]
    },
    {
     "name": "stderr",
     "output_type": "stream",
     "text": [
      "Training Batches: 100%|██████████| 1/1 [00:01<00:00,  1.03s/it]\n",
      "Running inference: 100%|██████████| 1/1 [00:02<00:00,  2.39s/it]\n",
      "Running inference: 100%|██████████| 1/1 [00:02<00:00,  2.09s/it]\n"
     ]
    },
    {
     "name": "stdout",
     "output_type": "stream",
     "text": [
      "Epoch: 052, Average Loss: 0.5181\n",
      "Validation: {'precision': 0.6399539877276076, 'recall': 0.6596837944637958, 'f1': 0.6496691269565839, 'auc': 0.7694318966058096, 'prauc': 0.650774878038321}\n",
      "Test:       {'precision': 0.648494711144636, 'recall': 0.6297905965996453, 'f1': 0.639005807786643, 'auc': 0.7688567409497267, 'prauc': 0.6463835006983555}\n"
     ]
    },
    {
     "name": "stderr",
     "output_type": "stream",
     "text": [
      "Training Batches: 100%|██████████| 1/1 [00:01<00:00,  1.31s/it]\n",
      "Running inference: 100%|██████████| 1/1 [00:02<00:00,  2.03s/it]\n",
      "Running inference: 100%|██████████| 1/1 [00:02<00:00,  2.38s/it]\n"
     ]
    },
    {
     "name": "stdout",
     "output_type": "stream",
     "text": [
      "Epoch: 053, Average Loss: 0.5090\n",
      "Validation: {'precision': 0.6291635825291297, 'recall': 0.6719367588906248, 'f1': 0.649847089804143, 'auc': 0.7632391199782504, 'prauc': 0.628373720102531}\n",
      "Test:       {'precision': 0.6423272159287687, 'recall': 0.6499407348848284, 'f1': 0.6461115425231662, 'auc': 0.7666796551806108, 'prauc': 0.637279740749897}\n"
     ]
    },
    {
     "name": "stderr",
     "output_type": "stream",
     "text": [
      "Training Batches: 100%|██████████| 1/1 [00:01<00:00,  1.02s/it]\n",
      "Running inference: 100%|██████████| 1/1 [00:02<00:00,  2.35s/it]\n",
      "Running inference: 100%|██████████| 1/1 [00:02<00:00,  2.38s/it]\n"
     ]
    },
    {
     "name": "stdout",
     "output_type": "stream",
     "text": [
      "Epoch: 054, Average Loss: 0.5097\n",
      "Validation: {'precision': 0.6315205327390621, 'recall': 0.6747035573095862, 'f1': 0.6523982369292086, 'auc': 0.7671250810381245, 'prauc': 0.6373778146129745}\n",
      "Test:       {'precision': 0.6451233842512921, 'recall': 0.6507309363862082, 'f1': 0.647915022534917, 'auc': 0.7692720522609491, 'prauc': 0.6420726793690594}\n"
     ]
    },
    {
     "name": "stderr",
     "output_type": "stream",
     "text": [
      "Training Batches: 100%|██████████| 1/1 [00:01<00:00,  1.02s/it]\n",
      "Running inference: 100%|██████████| 1/1 [00:02<00:00,  2.06s/it]\n",
      "Running inference: 100%|██████████| 1/1 [00:02<00:00,  2.35s/it]\n"
     ]
    },
    {
     "name": "stdout",
     "output_type": "stream",
     "text": [
      "Epoch: 055, Average Loss: 0.5102\n",
      "Validation: {'precision': 0.6413255360598779, 'recall': 0.6501976284559281, 'f1': 0.645731103928025, 'auc': 0.7726748855009725, 'prauc': 0.6579512378866855}\n",
      "Test:       {'precision': 0.6509121061332881, 'recall': 0.6203081785830885, 'f1': 0.6352417510189398, 'auc': 0.7719580671708974, 'prauc': 0.6509211903885531}\n"
     ]
    },
    {
     "name": "stderr",
     "output_type": "stream",
     "text": [
      "Training Batches: 100%|██████████| 1/1 [00:01<00:00,  1.35s/it]\n",
      "Running inference: 100%|██████████| 1/1 [00:02<00:00,  2.05s/it]\n",
      "Running inference: 100%|██████████| 1/1 [00:02<00:00,  2.42s/it]\n"
     ]
    },
    {
     "name": "stdout",
     "output_type": "stream",
     "text": [
      "Epoch: 056, Average Loss: 0.5073\n",
      "Validation: {'precision': 0.6433895645325878, 'recall': 0.6482213438709556, 'f1': 0.6457964116149715, 'auc': 0.7717634941547985, 'prauc': 0.6550638103351916}\n",
      "Test:       {'precision': 0.6510178645589904, 'recall': 0.6191228763310189, 'f1': 0.6346699018454589, 'auc': 0.7716414001499352, 'prauc': 0.6501290767107539}\n"
     ]
    },
    {
     "name": "stderr",
     "output_type": "stream",
     "text": [
      "Training Batches: 100%|██████████| 1/1 [00:01<00:00,  1.02s/it]\n",
      "Running inference: 100%|██████████| 1/1 [00:02<00:00,  2.39s/it]\n",
      "Running inference: 100%|██████████| 1/1 [00:02<00:00,  2.03s/it]\n"
     ]
    },
    {
     "name": "stdout",
     "output_type": "stream",
     "text": [
      "Epoch: 057, Average Loss: 0.5030\n",
      "Validation: {'precision': 0.6313381624070479, 'recall': 0.6545454545428674, 'f1': 0.6427323838988042, 'auc': 0.7652207373946504, 'prauc': 0.6360895686069012}\n",
      "Test:       {'precision': 0.6427137695678735, 'recall': 0.6325563018544743, 'f1': 0.637594578828921, 'auc': 0.7676457304457852, 'prauc': 0.6399378694390305}\n"
     ]
    },
    {
     "name": "stderr",
     "output_type": "stream",
     "text": [
      "Training Batches: 100%|██████████| 1/1 [00:01<00:00,  1.30s/it]\n",
      "Running inference: 100%|██████████| 1/1 [00:02<00:00,  2.07s/it]\n",
      "Running inference: 100%|██████████| 1/1 [00:02<00:00,  2.34s/it]\n"
     ]
    },
    {
     "name": "stdout",
     "output_type": "stream",
     "text": [
      "Epoch: 058, Average Loss: 0.4947\n",
      "Validation: {'precision': 0.6248079877088141, 'recall': 0.6430830039500274, 'f1': 0.6338137854153987, 'auc': 0.7595571658615137, 'prauc': 0.6247291342029684}\n",
      "Test:       {'precision': 0.6347305389196218, 'recall': 0.6282101935968858, 'f1': 0.6314535295488567, 'auc': 0.7624164835237333, 'prauc': 0.6305990524789876}\n",
      "\n",
      "Early stopping triggered after 58 epochs (no improvement for 10 epochs).\n",
      "\n",
      "Best validation performance:\n",
      "{'precision': 0.6286019210223103, 'recall': 0.6984189723292553, 'f1': 0.6616738388608288, 'auc': 0.7683603111863981, 'prauc': 0.6408938296681896}\n",
      "Corresponding test performance:\n",
      "{'precision': 0.6396396396372386, 'recall': 0.6732516791755304, 'f1': 0.6560153944232733, 'auc': 0.7693923731627631, 'prauc': 0.6451200831665873}\n",
      "Corresponding test-long performance:\n",
      "{'precision': 0.775590551170924, 'recall': 0.909230769216781, 'f1': 0.8371104766060036, 'auc': 0.5284238310708899, 'prauc': 0.768084523409142}\n",
      "[INFO] Random seed set to 2340505846\n",
      "Training with seed: 2340505846\n"
     ]
    },
    {
     "name": "stderr",
     "output_type": "stream",
     "text": [
      "Training Batches: 100%|██████████| 1/1 [00:01<00:00,  1.02s/it]\n",
      "Running inference: 100%|██████████| 1/1 [00:02<00:00,  2.32s/it]\n",
      "Running inference: 100%|██████████| 1/1 [00:02<00:00,  2.35s/it]\n"
     ]
    },
    {
     "name": "stdout",
     "output_type": "stream",
     "text": [
      "Epoch: 001, Average Loss: 0.6970\n",
      "Validation: {'precision': 0.6565844578843342, 'recall': 0.5577075098792186, 'f1': 0.6031203198863129, 'auc': 0.7681852165547818, 'prauc': 0.6656207011895614}\n",
      "Test:       {'precision': 0.6545974273432368, 'recall': 0.5428684314478749, 'f1': 0.5935205133994962, 'auc': 0.763384129557861, 'prauc': 0.6481058692304402}\n"
     ]
    },
    {
     "name": "stderr",
     "output_type": "stream",
     "text": [
      "Training Batches: 100%|██████████| 1/1 [00:01<00:00,  1.02s/it]\n",
      "Running inference: 100%|██████████| 1/1 [00:02<00:00,  2.36s/it]\n",
      "Running inference: 100%|██████████| 1/1 [00:02<00:00,  2.03s/it]\n"
     ]
    },
    {
     "name": "stdout",
     "output_type": "stream",
     "text": [
      "Epoch: 002, Average Loss: 0.6735\n",
      "Validation: {'precision': 0.6660009984989217, 'recall': 0.5272727272706432, 'f1': 0.5885726842333048, 'auc': 0.7689856118116988, 'prauc': 0.6670413339375432}\n",
      "Test:       {'precision': 0.6600508905818827, 'recall': 0.5124456736447552, 'f1': 0.57695729045034, 'auc': 0.7641146941979879, 'prauc': 0.6500305644655948}\n"
     ]
    },
    {
     "name": "stderr",
     "output_type": "stream",
     "text": [
      "Training Batches: 100%|██████████| 1/1 [00:01<00:00,  1.64s/it]\n",
      "Running inference: 100%|██████████| 1/1 [00:02<00:00,  2.11s/it]\n",
      "Running inference: 100%|██████████| 1/1 [00:02<00:00,  2.07s/it]\n"
     ]
    },
    {
     "name": "stdout",
     "output_type": "stream",
     "text": [
      "Epoch: 003, Average Loss: 0.6525\n",
      "Validation: {'precision': 0.6663341645852053, 'recall': 0.5280632411046322, 'f1': 0.5891951439067481, 'auc': 0.7688262542610369, 'prauc': 0.667502453650688}\n",
      "Test:       {'precision': 0.6583375828625276, 'recall': 0.5100750691406161, 'f1': 0.574799638889169, 'auc': 0.7640223329835405, 'prauc': 0.6507319123884234}\n"
     ]
    },
    {
     "name": "stderr",
     "output_type": "stream",
     "text": [
      "Training Batches: 100%|██████████| 1/1 [00:01<00:00,  1.04s/it]\n",
      "Running inference: 100%|██████████| 1/1 [00:02<00:00,  2.05s/it]\n",
      "Running inference: 100%|██████████| 1/1 [00:02<00:00,  2.35s/it]\n"
     ]
    },
    {
     "name": "stdout",
     "output_type": "stream",
     "text": [
      "Epoch: 004, Average Loss: 0.6327\n",
      "Validation: {'precision': 0.6658488714393236, 'recall': 0.5363636363615164, 'f1': 0.5941330948802702, 'auc': 0.7686907898864421, 'prauc': 0.6681487425564546}\n",
      "Test:       {'precision': 0.6587939698459357, 'recall': 0.5179770841544133, 'f1': 0.5799601808686334, 'auc': 0.7638656749599428, 'prauc': 0.6512708199375743}\n"
     ]
    },
    {
     "name": "stderr",
     "output_type": "stream",
     "text": [
      "Training Batches: 100%|██████████| 1/1 [00:01<00:00,  1.33s/it]\n",
      "Running inference: 100%|██████████| 1/1 [00:02<00:00,  2.06s/it]\n",
      "Running inference: 100%|██████████| 1/1 [00:02<00:00,  2.07s/it]\n"
     ]
    },
    {
     "name": "stdout",
     "output_type": "stream",
     "text": [
      "Epoch: 005, Average Loss: 0.6150\n",
      "Validation: {'precision': 0.6620057859177338, 'recall': 0.5426877470334281, 'f1': 0.5964378751507151, 'auc': 0.7687965577096013, 'prauc': 0.6686778146595687}\n",
      "Test:       {'precision': 0.6592261904729205, 'recall': 0.525088897666831, 'f1': 0.5845612442368502, 'auc': 0.7639311236663255, 'prauc': 0.651654429681864}\n"
     ]
    },
    {
     "name": "stderr",
     "output_type": "stream",
     "text": [
      "Training Batches: 100%|██████████| 1/1 [00:01<00:00,  1.33s/it]\n",
      "Running inference: 100%|██████████| 1/1 [00:02<00:00,  2.11s/it]\n",
      "Running inference: 100%|██████████| 1/1 [00:02<00:00,  2.07s/it]\n"
     ]
    },
    {
     "name": "stdout",
     "output_type": "stream",
     "text": [
      "Epoch: 006, Average Loss: 0.5993\n",
      "Validation: {'precision': 0.6612440191355922, 'recall': 0.5462450592863785, 'f1': 0.59826839331116, 'auc': 0.7689596273291925, 'prauc': 0.6689869861999501}\n",
      "Test:       {'precision': 0.6592811422911902, 'recall': 0.5290399051737296, 'f1': 0.5870232304805486, 'auc': 0.7640922845609224, 'prauc': 0.6520618017003902}\n"
     ]
    },
    {
     "name": "stderr",
     "output_type": "stream",
     "text": [
      "Training Batches: 100%|██████████| 1/1 [00:01<00:00,  1.02s/it]\n",
      "Running inference: 100%|██████████| 1/1 [00:02<00:00,  2.42s/it]\n",
      "Running inference: 100%|██████████| 1/1 [00:01<00:00,  1.75s/it]\n"
     ]
    },
    {
     "name": "stdout",
     "output_type": "stream",
     "text": [
      "Epoch: 007, Average Loss: 0.5883\n",
      "Validation: {'precision': 0.6624293785279547, 'recall': 0.5561264822112406, 'f1': 0.604641163922432, 'auc': 0.7691875274483969, 'prauc': 0.6693481319744101}\n",
      "Test:       {'precision': 0.6587030716691433, 'recall': 0.533781114182008, 'f1': 0.5896988165276353, 'auc': 0.7642590478647856, 'prauc': 0.652262619734115}\n"
     ]
    },
    {
     "name": "stderr",
     "output_type": "stream",
     "text": [
      "Training Batches: 100%|██████████| 1/1 [00:01<00:00,  1.35s/it]\n",
      "Running inference: 100%|██████████| 1/1 [00:02<00:00,  2.41s/it]\n",
      "Running inference: 100%|██████████| 1/1 [00:01<00:00,  1.74s/it]\n"
     ]
    },
    {
     "name": "stdout",
     "output_type": "stream",
     "text": [
      "Epoch: 008, Average Loss: 0.5807\n",
      "Validation: {'precision': 0.6630639097713202, 'recall': 0.5577075098792186, 'f1': 0.6058394110930341, 'auc': 0.7694249430118996, 'prauc': 0.6696878044818059}\n",
      "Test:       {'precision': 0.6585365853626414, 'recall': 0.5333860134313181, 'f1': 0.5893909577244565, 'auc': 0.7644237168100446, 'prauc': 0.6524603586013931}\n"
     ]
    },
    {
     "name": "stderr",
     "output_type": "stream",
     "text": [
      "Training Batches: 100%|██████████| 1/1 [00:01<00:00,  1.33s/it]\n",
      "Running inference: 100%|██████████| 1/1 [00:02<00:00,  2.08s/it]\n",
      "Running inference: 100%|██████████| 1/1 [00:02<00:00,  2.43s/it]\n"
     ]
    },
    {
     "name": "stdout",
     "output_type": "stream",
     "text": [
      "Epoch: 009, Average Loss: 0.5779\n",
      "Validation: {'precision': 0.6641651031863782, 'recall': 0.559683794464191, 'f1': 0.6074646024984427, 'auc': 0.7695861304556957, 'prauc': 0.6697801797941216}\n",
      "Test:       {'precision': 0.6577409931808289, 'recall': 0.533781114182008, 'f1': 0.5893129721507825, 'auc': 0.7645971297024765, 'prauc': 0.6523983616323538}\n"
     ]
    },
    {
     "name": "stderr",
     "output_type": "stream",
     "text": [
      "Training Batches: 100%|██████████| 1/1 [00:00<00:00,  1.40it/s]\n",
      "Running inference: 100%|██████████| 1/1 [00:02<00:00,  2.37s/it]\n",
      "Running inference: 100%|██████████| 1/1 [00:02<00:00,  2.32s/it]\n"
     ]
    },
    {
     "name": "stdout",
     "output_type": "stream",
     "text": [
      "Epoch: 010, Average Loss: 0.5765\n",
      "Validation: {'precision': 0.6643356643325672, 'recall': 0.5632411067171413, 'f1': 0.6096256634805, 'auc': 0.7696866177300961, 'prauc': 0.6697367520542687}\n",
      "Test:       {'precision': 0.6582646631087821, 'recall': 0.536546819436837, 'f1': 0.5912059158155326, 'auc': 0.7647635264935839, 'prauc': 0.6519825481510734}\n"
     ]
    },
    {
     "name": "stderr",
     "output_type": "stream",
     "text": [
      "Training Batches: 100%|██████████| 1/1 [00:01<00:00,  1.03s/it]\n",
      "Running inference: 100%|██████████| 1/1 [00:02<00:00,  2.34s/it]\n",
      "Running inference: 100%|██████████| 1/1 [00:02<00:00,  2.43s/it]\n"
     ]
    },
    {
     "name": "stdout",
     "output_type": "stream",
     "text": [
      "Epoch: 011, Average Loss: 0.5750\n",
      "Validation: {'precision': 0.6638655462153882, 'recall': 0.5620553359661579, 'f1': 0.6087328717442079, 'auc': 0.7695742100089927, 'prauc': 0.669203198899597}\n",
      "Test:       {'precision': 0.659501709816026, 'recall': 0.5333860134313181, 'f1': 0.5897771903350928, 'auc': 0.7648558877080314, 'prauc': 0.6512826626932222}\n"
     ]
    },
    {
     "name": "stderr",
     "output_type": "stream",
     "text": [
      "Training Batches: 100%|██████████| 1/1 [00:00<00:00,  1.40it/s]\n",
      "Running inference: 100%|██████████| 1/1 [00:02<00:00,  2.37s/it]\n",
      "Running inference: 100%|██████████| 1/1 [00:02<00:00,  2.10s/it]\n"
     ]
    },
    {
     "name": "stdout",
     "output_type": "stream",
     "text": [
      "Epoch: 012, Average Loss: 0.5720\n",
      "Validation: {'precision': 0.666031443541372, 'recall': 0.5525691699582903, 'f1': 0.6040181415086562, 'auc': 0.7693794048141874, 'prauc': 0.6683430240087249}\n",
      "Test:       {'precision': 0.6636771300415363, 'recall': 0.5262741999189006, 'f1': 0.5870427451742594, 'auc': 0.7648960993932329, 'prauc': 0.6505002742245987}\n"
     ]
    },
    {
     "name": "stderr",
     "output_type": "stream",
     "text": [
      "Training Batches: 100%|██████████| 1/1 [00:01<00:00,  1.02s/it]\n",
      "Running inference: 100%|██████████| 1/1 [00:02<00:00,  2.06s/it]\n",
      "Running inference: 100%|██████████| 1/1 [00:02<00:00,  2.39s/it]\n"
     ]
    },
    {
     "name": "stdout",
     "output_type": "stream",
     "text": [
      "Epoch: 013, Average Loss: 0.5709\n",
      "Validation: {'precision': 0.6644518272393714, 'recall': 0.5533596837922793, 'f1': 0.6038386838464223, 'auc': 0.7690496057887363, 'prauc': 0.6674858868300431}\n",
      "Test:       {'precision': 0.6643529995009204, 'recall': 0.5294350059244195, 'f1': 0.5892700038563474, 'auc': 0.7649084561089979, 'prauc': 0.6497998830762375}\n"
     ]
    },
    {
     "name": "stderr",
     "output_type": "stream",
     "text": [
      "Training Batches: 100%|██████████| 1/1 [00:01<00:00,  1.33s/it]\n",
      "Running inference: 100%|██████████| 1/1 [00:02<00:00,  2.05s/it]\n",
      "Running inference: 100%|██████████| 1/1 [00:02<00:00,  2.36s/it]\n"
     ]
    },
    {
     "name": "stdout",
     "output_type": "stream",
     "text": [
      "Epoch: 014, Average Loss: 0.5707\n",
      "Validation: {'precision': 0.6652441915568268, 'recall': 0.5545454545432627, 'f1': 0.6048717346376237, 'auc': 0.7689721228851664, 'prauc': 0.6670464265334359}\n",
      "Test:       {'precision': 0.6641901931616435, 'recall': 0.5298301066751093, 'f1': 0.5894505445112708, 'auc': 0.7650391964448682, 'prauc': 0.6494449349447566}\n"
     ]
    },
    {
     "name": "stderr",
     "output_type": "stream",
     "text": [
      "Training Batches: 100%|██████████| 1/1 [00:01<00:00,  1.01s/it]\n",
      "Running inference: 100%|██████████| 1/1 [00:02<00:00,  2.34s/it]\n",
      "Running inference: 100%|██████████| 1/1 [00:02<00:00,  2.05s/it]\n"
     ]
    },
    {
     "name": "stdout",
     "output_type": "stream",
     "text": [
      "Epoch: 015, Average Loss: 0.5712\n",
      "Validation: {'precision': 0.6643059490053621, 'recall': 0.5561264822112406, 'f1': 0.6054216817836685, 'auc': 0.7691693330823767, 'prauc': 0.6672152291502342}\n",
      "Test:       {'precision': 0.6628881222244314, 'recall': 0.5314105096778688, 'f1': 0.5899122757597638, 'auc': 0.7652407261015619, 'prauc': 0.6494840741735147}\n"
     ]
    },
    {
     "name": "stderr",
     "output_type": "stream",
     "text": [
      "Training Batches: 100%|██████████| 1/1 [00:01<00:00,  1.31s/it]\n",
      "Running inference: 100%|██████████| 1/1 [00:02<00:00,  2.07s/it]\n",
      "Running inference: 100%|██████████| 1/1 [00:02<00:00,  2.36s/it]\n"
     ]
    },
    {
     "name": "stdout",
     "output_type": "stream",
     "text": [
      "Epoch: 016, Average Loss: 0.5687\n",
      "Validation: {'precision': 0.6582684379264395, 'recall': 0.5679841897210752, 'f1': 0.6098026684809137, 'auc': 0.7694876299224125, 'prauc': 0.6675161682392192}\n",
      "Test:       {'precision': 0.6599520383661394, 'recall': 0.5436586329492546, 'f1': 0.5961871700874221, 'auc': 0.7655590686094077, 'prauc': 0.6501652526093094}\n"
     ]
    },
    {
     "name": "stderr",
     "output_type": "stream",
     "text": [
      "Training Batches: 100%|██████████| 1/1 [00:01<00:00,  1.01s/it]\n",
      "Running inference: 100%|██████████| 1/1 [00:02<00:00,  2.37s/it]\n",
      "Running inference: 100%|██████████| 1/1 [00:02<00:00,  2.38s/it]\n"
     ]
    },
    {
     "name": "stdout",
     "output_type": "stream",
     "text": [
      "Epoch: 017, Average Loss: 0.5665\n",
      "Validation: {'precision': 0.6548042704597207, 'recall': 0.5818181818158822, 'f1': 0.6161573830433018, 'auc': 0.7698998264215656, 'prauc': 0.6678874995802211}\n",
      "Test:       {'precision': 0.6548059149692477, 'recall': 0.5598577637275391, 'f1': 0.6036208682974158, 'auc': 0.7659364196709281, 'prauc': 0.6509740916165333}\n"
     ]
    },
    {
     "name": "stderr",
     "output_type": "stream",
     "text": [
      "Training Batches: 100%|██████████| 1/1 [00:01<00:00,  1.02s/it]\n",
      "Running inference: 100%|██████████| 1/1 [00:02<00:00,  2.04s/it]\n",
      "Running inference: 100%|██████████| 1/1 [00:02<00:00,  2.38s/it]\n"
     ]
    },
    {
     "name": "stdout",
     "output_type": "stream",
     "text": [
      "Epoch: 018, Average Loss: 0.5641\n",
      "Validation: {'precision': 0.6523250760510547, 'recall': 0.5932806324087222, 'f1': 0.621403431150248, 'auc': 0.7702927829014785, 'prauc': 0.6680627228157003}\n",
      "Test:       {'precision': 0.6522717049003497, 'recall': 0.5728960885003047, 'f1': 0.6100126159691992, 'auc': 0.7662790043796179, 'prauc': 0.6517416703543579}\n"
     ]
    },
    {
     "name": "stderr",
     "output_type": "stream",
     "text": [
      "Training Batches: 100%|██████████| 1/1 [00:01<00:00,  1.32s/it]\n",
      "Running inference: 100%|██████████| 1/1 [00:02<00:00,  2.06s/it]\n",
      "Running inference: 100%|██████████| 1/1 [00:02<00:00,  2.35s/it]\n"
     ]
    },
    {
     "name": "stdout",
     "output_type": "stream",
     "text": [
      "Epoch: 019, Average Loss: 0.5643\n",
      "Validation: {'precision': 0.6531141868483862, 'recall': 0.5968379446616726, 'f1': 0.6237092060773649, 'auc': 0.7708898508898508, 'prauc': 0.6686735583186998}\n",
      "Test:       {'precision': 0.6541218637963525, 'recall': 0.5768470960072033, 'f1': 0.6130589914479506, 'auc': 0.7667178772251383, 'prauc': 0.6523474663327278}\n"
     ]
    },
    {
     "name": "stderr",
     "output_type": "stream",
     "text": [
      "Training Batches: 100%|██████████| 1/1 [00:01<00:00,  1.01s/it]\n",
      "Running inference: 100%|██████████| 1/1 [00:02<00:00,  2.37s/it]\n",
      "Running inference: 100%|██████████| 1/1 [00:02<00:00,  2.06s/it]\n"
     ]
    },
    {
     "name": "stdout",
     "output_type": "stream",
     "text": [
      "Epoch: 020, Average Loss: 0.5613\n",
      "Validation: {'precision': 0.6530612244869602, 'recall': 0.5944664031597057, 'f1': 0.6223877458878257, 'auc': 0.7712879310705397, 'prauc': 0.6689548192119177}\n",
      "Test:       {'precision': 0.6538808664230421, 'recall': 0.5725009877496148, 'f1': 0.610490831337119, 'auc': 0.7670550166014571, 'prauc': 0.6526276319494331}\n"
     ]
    },
    {
     "name": "stderr",
     "output_type": "stream",
     "text": [
      "Training Batches: 100%|██████████| 1/1 [00:01<00:00,  1.31s/it]\n",
      "Running inference: 100%|██████████| 1/1 [00:02<00:00,  2.08s/it]\n",
      "Running inference: 100%|██████████| 1/1 [00:02<00:00,  2.41s/it]\n"
     ]
    },
    {
     "name": "stdout",
     "output_type": "stream",
     "text": [
      "Epoch: 021, Average Loss: 0.5641\n",
      "Validation: {'precision': 0.6495726495698737, 'recall': 0.6007905138316174, 'f1': 0.6242299744711662, 'auc': 0.771072787920614, 'prauc': 0.6687161555941422}\n",
      "Test:       {'precision': 0.6529437804309299, 'recall': 0.5827736072675513, 'f1': 0.6158663833225284, 'auc': 0.7670169516338249, 'prauc': 0.6526275115897116}\n"
     ]
    },
    {
     "name": "stderr",
     "output_type": "stream",
     "text": [
      "Training Batches: 100%|██████████| 1/1 [00:01<00:00,  1.01s/it]\n",
      "Running inference: 100%|██████████| 1/1 [00:02<00:00,  2.35s/it]\n",
      "Running inference: 100%|██████████| 1/1 [00:02<00:00,  2.36s/it]\n"
     ]
    },
    {
     "name": "stdout",
     "output_type": "stream",
     "text": [
      "Epoch: 022, Average Loss: 0.5596\n",
      "Validation: {'precision': 0.6447860407119037, 'recall': 0.613438735175441, 'f1': 0.6287218908887479, 'auc': 0.7706096158270072, 'prauc': 0.6677382447061775}\n",
      "Test:       {'precision': 0.6502802932270363, 'recall': 0.5958119320403168, 'f1': 0.6218556651100818, 'auc': 0.7667961015190069, 'prauc': 0.6525597056059738}\n"
     ]
    },
    {
     "name": "stderr",
     "output_type": "stream",
     "text": [
      "Training Batches: 100%|██████████| 1/1 [00:00<00:00,  1.41it/s]\n",
      "Running inference: 100%|██████████| 1/1 [00:02<00:00,  2.30s/it]\n",
      "Running inference: 100%|██████████| 1/1 [00:02<00:00,  2.37s/it]\n"
     ]
    },
    {
     "name": "stdout",
     "output_type": "stream",
     "text": [
      "Epoch: 023, Average Loss: 0.5594\n",
      "Validation: {'precision': 0.6442980650446921, 'recall': 0.6185770750963693, 'f1': 0.631175635249579, 'auc': 0.7704833009180835, 'prauc': 0.667552554646906}\n",
      "Test:       {'precision': 0.64849785407447, 'recall': 0.5969972342923865, 'f1': 0.6216827763267071, 'auc': 0.7668551624316466, 'prauc': 0.6524176064402066}\n"
     ]
    },
    {
     "name": "stderr",
     "output_type": "stream",
     "text": [
      "Training Batches: 100%|██████████| 1/1 [00:00<00:00,  1.00it/s]\n",
      "Running inference: 100%|██████████| 1/1 [00:02<00:00,  2.38s/it]\n",
      "Running inference: 100%|██████████| 1/1 [00:02<00:00,  2.03s/it]\n"
     ]
    },
    {
     "name": "stdout",
     "output_type": "stream",
     "text": [
      "Epoch: 024, Average Loss: 0.5598\n",
      "Validation: {'precision': 0.6447748864079109, 'recall': 0.6169960474283913, 'f1': 0.6305796758724272, 'auc': 0.7709214296170818, 'prauc': 0.6677084057653697}\n",
      "Test:       {'precision': 0.6494623655886045, 'recall': 0.5966021335416966, 'f1': 0.6219110328977051, 'auc': 0.7673199006059293, 'prauc': 0.6527106205355013}\n"
     ]
    },
    {
     "name": "stderr",
     "output_type": "stream",
     "text": [
      "Training Batches: 100%|██████████| 1/1 [00:01<00:00,  1.62s/it]\n",
      "Running inference: 100%|██████████| 1/1 [00:02<00:00,  2.06s/it]\n",
      "Running inference: 100%|██████████| 1/1 [00:02<00:00,  2.09s/it]\n"
     ]
    },
    {
     "name": "stdout",
     "output_type": "stream",
     "text": [
      "Epoch: 025, Average Loss: 0.5563\n",
      "Validation: {'precision': 0.6449335548145975, 'recall': 0.6138339920924355, 'f1': 0.6289995899782284, 'auc': 0.7718124830081351, 'prauc': 0.668167174930232}\n",
      "Test:       {'precision': 0.6514038876861711, 'recall': 0.5958119320403168, 'f1': 0.6223689591014635, 'auc': 0.7681286371809597, 'prauc': 0.6533235629911585}\n"
     ]
    },
    {
     "name": "stderr",
     "output_type": "stream",
     "text": [
      "Training Batches: 100%|██████████| 1/1 [00:01<00:00,  1.02s/it]\n",
      "Running inference: 100%|██████████| 1/1 [00:02<00:00,  2.07s/it]\n",
      "Running inference: 100%|██████████| 1/1 [00:02<00:00,  2.33s/it]\n"
     ]
    },
    {
     "name": "stdout",
     "output_type": "stream",
     "text": [
      "Epoch: 026, Average Loss: 0.5560\n",
      "Validation: {'precision': 0.6445086705175702, 'recall': 0.6169960474283913, 'f1': 0.6304523374877157, 'auc': 0.7721710897797853, 'prauc': 0.6685199436979237}\n",
      "Test:       {'precision': 0.6533795493905833, 'recall': 0.5958119320403168, 'f1': 0.6232692655184787, 'auc': 0.7683565033971019, 'prauc': 0.6536018441136294}\n"
     ]
    },
    {
     "name": "stderr",
     "output_type": "stream",
     "text": [
      "Training Batches: 100%|██████████| 1/1 [00:01<00:00,  1.30s/it]\n",
      "Running inference: 100%|██████████| 1/1 [00:02<00:00,  2.11s/it]\n",
      "Running inference: 100%|██████████| 1/1 [00:02<00:00,  2.03s/it]\n"
     ]
    },
    {
     "name": "stdout",
     "output_type": "stream",
     "text": [
      "Epoch: 027, Average Loss: 0.5540\n",
      "Validation: {'precision': 0.6400481540905295, 'recall': 0.6304347826062039, 'f1': 0.6352050925684457, 'auc': 0.7721399815965033, 'prauc': 0.668389038195002}\n",
      "Test:       {'precision': 0.6487168700014778, 'recall': 0.6092453575637723, 'f1': 0.6283618531930711, 'auc': 0.7682279097788011, 'prauc': 0.6538088850047155}\n"
     ]
    },
    {
     "name": "stderr",
     "output_type": "stream",
     "text": [
      "Training Batches: 100%|██████████| 1/1 [00:01<00:00,  1.30s/it]\n",
      "Running inference: 100%|██████████| 1/1 [00:02<00:00,  2.05s/it]\n",
      "Running inference: 100%|██████████| 1/1 [00:02<00:00,  2.06s/it]\n"
     ]
    },
    {
     "name": "stdout",
     "output_type": "stream",
     "text": [
      "Epoch: 028, Average Loss: 0.5531\n",
      "Validation: {'precision': 0.6394022807682289, 'recall': 0.6426877470330329, 'f1': 0.6410407992553413, 'auc': 0.7720090135307526, 'prauc': 0.6682491031053766}\n",
      "Test:       {'precision': 0.6473727421976709, 'recall': 0.6230738838379175, 'f1': 0.6349909352046277, 'auc': 0.7680745503700052, 'prauc': 0.6535123609712801}\n"
     ]
    },
    {
     "name": "stderr",
     "output_type": "stream",
     "text": [
      "Training Batches: 100%|██████████| 1/1 [00:01<00:00,  1.02s/it]\n",
      "Running inference: 100%|██████████| 1/1 [00:02<00:00,  2.37s/it]\n",
      "Running inference: 100%|██████████| 1/1 [00:01<00:00,  1.74s/it]\n"
     ]
    },
    {
     "name": "stdout",
     "output_type": "stream",
     "text": [
      "Epoch: 029, Average Loss: 0.5531\n",
      "Validation: {'precision': 0.6398122800131412, 'recall': 0.6466403162029777, 'f1': 0.6432081727054949, 'auc': 0.7712478825522303, 'prauc': 0.6674613614324805}\n",
      "Test:       {'precision': 0.6436734693851279, 'recall': 0.6230738838379175, 'f1': 0.6332061784960694, 'auc': 0.7674926328318147, 'prauc': 0.6528964705033702}\n"
     ]
    },
    {
     "name": "stderr",
     "output_type": "stream",
     "text": [
      "Training Batches: 100%|██████████| 1/1 [00:01<00:00,  1.29s/it]\n",
      "Running inference: 100%|██████████| 1/1 [00:02<00:00,  2.39s/it]\n",
      "Running inference: 100%|██████████| 1/1 [00:01<00:00,  1.77s/it]\n"
     ]
    },
    {
     "name": "stdout",
     "output_type": "stream",
     "text": [
      "Epoch: 030, Average Loss: 0.5510\n",
      "Validation: {'precision': 0.6392927308422818, 'recall': 0.6430830039500274, 'f1': 0.6411822610073691, 'auc': 0.7704640608988435, 'prauc': 0.6667745510158386}\n",
      "Test:       {'precision': 0.6423297785043383, 'recall': 0.618727775580329, 'f1': 0.630307904035238, 'auc': 0.766909092165706, 'prauc': 0.6522486705026989}\n"
     ]
    },
    {
     "name": "stderr",
     "output_type": "stream",
     "text": [
      "Training Batches: 100%|██████████| 1/1 [00:01<00:00,  1.30s/it]\n",
      "Running inference: 100%|██████████| 1/1 [00:02<00:00,  2.05s/it]\n",
      "Running inference: 100%|██████████| 1/1 [00:02<00:00,  2.38s/it]\n"
     ]
    },
    {
     "name": "stdout",
     "output_type": "stream",
     "text": [
      "Epoch: 031, Average Loss: 0.5484\n",
      "Validation: {'precision': 0.6401425178121927, 'recall': 0.6391304347800825, 'f1': 0.6396360709468402, 'auc': 0.769597528075789, 'prauc': 0.6659413237044376}\n",
      "Test:       {'precision': 0.6415874328208285, 'recall': 0.6131963650706709, 'f1': 0.6270707020707333, 'auc': 0.7662474842826241, 'prauc': 0.6510407648172485}\n"
     ]
    },
    {
     "name": "stderr",
     "output_type": "stream",
     "text": [
      "Training Batches: 100%|██████████| 1/1 [00:00<00:00,  1.42it/s]\n",
      "Running inference: 100%|██████████| 1/1 [00:02<00:00,  2.33s/it]\n",
      "Running inference: 100%|██████████| 1/1 [00:02<00:00,  2.36s/it]\n"
     ]
    },
    {
     "name": "stdout",
     "output_type": "stream",
     "text": [
      "Epoch: 032, Average Loss: 0.5494\n",
      "Validation: {'precision': 0.6373926619803381, 'recall': 0.6454545454519943, 'f1': 0.6413982667965785, 'auc': 0.7697194512411903, 'prauc': 0.6650891847992682}\n",
      "Test:       {'precision': 0.639511201626723, 'recall': 0.6203081785830885, 'f1': 0.6297633323432005, 'auc': 0.7665848854537683, 'prauc': 0.650277335255738}\n"
     ]
    },
    {
     "name": "stderr",
     "output_type": "stream",
     "text": [
      "Training Batches: 100%|██████████| 1/1 [00:01<00:00,  1.01s/it]\n",
      "Running inference: 100%|██████████| 1/1 [00:02<00:00,  2.35s/it]\n",
      "Running inference: 100%|██████████| 1/1 [00:02<00:00,  2.40s/it]\n"
     ]
    },
    {
     "name": "stdout",
     "output_type": "stream",
     "text": [
      "Epoch: 033, Average Loss: 0.5476\n",
      "Validation: {'precision': 0.6379044684104858, 'recall': 0.6545454545428674, 'f1': 0.6461178256654949, 'auc': 0.7703585022063283, 'prauc': 0.6638189481176696}\n",
      "Test:       {'precision': 0.6379726468196381, 'recall': 0.6266297905941264, 'f1': 0.6322503438119143, 'auc': 0.767479961962259, 'prauc': 0.6494403039828985}\n"
     ]
    },
    {
     "name": "stderr",
     "output_type": "stream",
     "text": [
      "Training Batches: 100%|██████████| 1/1 [00:00<00:00,  1.41it/s]\n",
      "Running inference: 100%|██████████| 1/1 [00:02<00:00,  2.38s/it]\n",
      "Running inference: 100%|██████████| 1/1 [00:02<00:00,  2.08s/it]\n"
     ]
    },
    {
     "name": "stdout",
     "output_type": "stream",
     "text": [
      "Epoch: 034, Average Loss: 0.5495\n",
      "Validation: {'precision': 0.6393891934195796, 'recall': 0.6454545454519943, 'f1': 0.6424075481053735, 'auc': 0.7717664219838133, 'prauc': 0.6647161345683206}\n",
      "Test:       {'precision': 0.6463515754533734, 'recall': 0.6159620703255, 'f1': 0.6307910126009931, 'auc': 0.7688123405473166, 'prauc': 0.6502304092316582}\n"
     ]
    },
    {
     "name": "stderr",
     "output_type": "stream",
     "text": [
      "Training Batches: 100%|██████████| 1/1 [00:01<00:00,  1.02s/it]\n",
      "Running inference: 100%|██████████| 1/1 [00:02<00:00,  2.08s/it]\n",
      "Running inference: 100%|██████████| 1/1 [00:02<00:00,  2.34s/it]\n"
     ]
    },
    {
     "name": "stdout",
     "output_type": "stream",
     "text": [
      "Epoch: 035, Average Loss: 0.5439\n",
      "Validation: {'precision': 0.6429988099934828, 'recall': 0.6407114624480604, 'f1': 0.6418530933938316, 'auc': 0.7739938724721332, 'prauc': 0.6663484219666336}\n",
      "Test:       {'precision': 0.6527777777750304, 'recall': 0.612801264319981, 'f1': 0.6321581364330217, 'auc': 0.770211162659094, 'prauc': 0.6510978620702842}\n"
     ]
    },
    {
     "name": "stderr",
     "output_type": "stream",
     "text": [
      "Training Batches: 100%|██████████| 1/1 [00:01<00:00,  1.34s/it]\n",
      "Running inference: 100%|██████████| 1/1 [00:02<00:00,  2.09s/it]\n",
      "Running inference: 100%|██████████| 1/1 [00:02<00:00,  2.41s/it]\n"
     ]
    },
    {
     "name": "stdout",
     "output_type": "stream",
     "text": [
      "Epoch: 036, Average Loss: 0.5462\n",
      "Validation: {'precision': 0.638470451909469, 'recall': 0.653359683791884, 'f1': 0.6458292585261739, 'auc': 0.7733111654850785, 'prauc': 0.6650734944028004}\n",
      "Test:       {'precision': 0.6451219512168898, 'recall': 0.6270248913448162, 'f1': 0.635944695459293, 'auc': 0.7700343987928955, 'prauc': 0.6509639989627878}\n"
     ]
    },
    {
     "name": "stderr",
     "output_type": "stream",
     "text": [
      "Training Batches: 100%|██████████| 1/1 [00:01<00:00,  1.01s/it]\n",
      "Running inference: 100%|██████████| 1/1 [00:02<00:00,  2.35s/it]\n",
      "Running inference: 100%|██████████| 1/1 [00:02<00:00,  2.04s/it]\n"
     ]
    },
    {
     "name": "stdout",
     "output_type": "stream",
     "text": [
      "Epoch: 037, Average Loss: 0.5409\n",
      "Validation: {'precision': 0.6382739211983555, 'recall': 0.6723320158076193, 'f1': 0.654860437734253, 'auc': 0.7730407595624987, 'prauc': 0.6632134432346394}\n",
      "Test:       {'precision': 0.6400625978065726, 'recall': 0.6463848281286196, 'f1': 0.6432081727054749, 'auc': 0.7700355506901277, 'prauc': 0.6505143929632674}\n"
     ]
    },
    {
     "name": "stderr",
     "output_type": "stream",
     "text": [
      "Training Batches: 100%|██████████| 1/1 [00:01<00:00,  1.33s/it]\n",
      "Running inference: 100%|██████████| 1/1 [00:02<00:00,  2.11s/it]\n",
      "Running inference: 100%|██████████| 1/1 [00:02<00:00,  2.38s/it]\n"
     ]
    },
    {
     "name": "stdout",
     "output_type": "stream",
     "text": [
      "Epoch: 038, Average Loss: 0.5448\n",
      "Validation: {'precision': 0.6403406891186979, 'recall': 0.6537549407088785, 'f1': 0.6469782856297298, 'auc': 0.7732773908860865, 'prauc': 0.6655608789160992}\n",
      "Test:       {'precision': 0.6431181485966581, 'recall': 0.6258395890927466, 'f1': 0.6343612284785629, 'auc': 0.769770928480481, 'prauc': 0.651309450168593}\n"
     ]
    },
    {
     "name": "stderr",
     "output_type": "stream",
     "text": [
      "Training Batches: 100%|██████████| 1/1 [00:01<00:00,  1.03s/it]\n",
      "Running inference: 100%|██████████| 1/1 [00:02<00:00,  2.35s/it]\n",
      "Running inference: 100%|██████████| 1/1 [00:02<00:00,  2.38s/it]\n"
     ]
    },
    {
     "name": "stdout",
     "output_type": "stream",
     "text": [
      "Epoch: 039, Average Loss: 0.5377\n",
      "Validation: {'precision': 0.643972767318206, 'recall': 0.6355731225271322, 'f1': 0.6397453699728046, 'auc': 0.7729905682079595, 'prauc': 0.6669254934362245}\n",
      "Test:       {'precision': 0.6485568760583678, 'recall': 0.6037139470541142, 'f1': 0.6253325098391298, 'auc': 0.7686885639538056, 'prauc': 0.6511845222483323}\n"
     ]
    },
    {
     "name": "stderr",
     "output_type": "stream",
     "text": [
      "Training Batches: 100%|██████████| 1/1 [00:01<00:00,  1.02s/it]\n",
      "Running inference: 100%|██████████| 1/1 [00:02<00:00,  2.07s/it]\n",
      "Running inference: 100%|██████████| 1/1 [00:02<00:00,  2.39s/it]\n"
     ]
    },
    {
     "name": "stdout",
     "output_type": "stream",
     "text": [
      "Epoch: 040, Average Loss: 0.5441\n",
      "Validation: {'precision': 0.6420278637746052, 'recall': 0.6557312252938509, 'f1': 0.6488071909307539, 'auc': 0.7733350063784847, 'prauc': 0.663829597324773}\n",
      "Test:       {'precision': 0.6440195280689829, 'recall': 0.6254444883420568, 'f1': 0.634596106443706, 'auc': 0.7690976969071455, 'prauc': 0.6501807345674717}\n"
     ]
    },
    {
     "name": "stderr",
     "output_type": "stream",
     "text": [
      "Training Batches: 100%|██████████| 1/1 [00:01<00:00,  1.35s/it]\n",
      "Running inference: 100%|██████████| 1/1 [00:02<00:00,  2.07s/it]\n",
      "Running inference: 100%|██████████| 1/1 [00:02<00:00,  2.35s/it]\n"
     ]
    },
    {
     "name": "stdout",
     "output_type": "stream",
     "text": [
      "Epoch: 041, Average Loss: 0.5365\n",
      "Validation: {'precision': 0.6342086068539964, 'recall': 0.6873517786534097, 'f1': 0.6597116793758405, 'auc': 0.7731480435828262, 'prauc': 0.659568471020991}\n",
      "Test:       {'precision': 0.6333586626115754, 'recall': 0.6586329514000054, 'f1': 0.6457485907770607, 'auc': 0.7693646229112568, 'prauc': 0.6496779692552709}\n"
     ]
    },
    {
     "name": "stderr",
     "output_type": "stream",
     "text": [
      "Training Batches: 100%|██████████| 1/1 [00:01<00:00,  1.02s/it]\n",
      "Running inference: 100%|██████████| 1/1 [00:02<00:00,  2.37s/it]\n",
      "Running inference: 100%|██████████| 1/1 [00:02<00:00,  2.08s/it]\n"
     ]
    },
    {
     "name": "stdout",
     "output_type": "stream",
     "text": [
      "Epoch: 042, Average Loss: 0.5351\n",
      "Validation: {'precision': 0.6327338129473643, 'recall': 0.6952569169932994, 'f1': 0.66252353549823, 'auc': 0.7728729322207583, 'prauc': 0.6598206558472333}\n",
      "Test:       {'precision': 0.6315985130088045, 'recall': 0.6712761754220811, 'f1': 0.6508331687236534, 'auc': 0.7694328990017554, 'prauc': 0.650596213522981}\n"
     ]
    },
    {
     "name": "stderr",
     "output_type": "stream",
     "text": [
      "Training Batches: 100%|██████████| 1/1 [00:01<00:00,  1.27s/it]\n",
      "Running inference: 100%|██████████| 1/1 [00:02<00:00,  2.06s/it]\n",
      "Running inference: 100%|██████████| 1/1 [00:02<00:00,  2.40s/it]\n"
     ]
    },
    {
     "name": "stdout",
     "output_type": "stream",
     "text": [
      "Epoch: 043, Average Loss: 0.5352\n",
      "Validation: {'precision': 0.6340647080675565, 'recall': 0.6739130434755972, 'f1': 0.6533818689243445, 'auc': 0.7726674613631135, 'prauc': 0.6621514499431613}\n",
      "Test:       {'precision': 0.6389751552770226, 'recall': 0.6503358356355182, 'f1': 0.6446054385067732, 'auc': 0.7693958288544602, 'prauc': 0.6514100498706819}\n"
     ]
    },
    {
     "name": "stderr",
     "output_type": "stream",
     "text": [
      "Training Batches: 100%|██████████| 1/1 [00:01<00:00,  1.02s/it]\n",
      "Running inference: 100%|██████████| 1/1 [00:02<00:00,  2.31s/it]\n",
      "Running inference: 100%|██████████| 1/1 [00:02<00:00,  2.41s/it]\n"
     ]
    },
    {
     "name": "stdout",
     "output_type": "stream",
     "text": [
      "Epoch: 044, Average Loss: 0.5297\n",
      "Validation: {'precision': 0.6381278538788504, 'recall': 0.6628458497997516, 'f1': 0.6502520306720251, 'auc': 0.7722593429115169, 'prauc': 0.6611058459185296}\n",
      "Test:       {'precision': 0.6387559808586972, 'recall': 0.6329514026051641, 'f1': 0.635840439530226, 'auc': 0.768487139015042, 'prauc': 0.6501805132063758}\n"
     ]
    },
    {
     "name": "stderr",
     "output_type": "stream",
     "text": [
      "Training Batches: 100%|██████████| 1/1 [00:00<00:00,  1.40it/s]\n",
      "Running inference: 100%|██████████| 1/1 [00:02<00:00,  2.36s/it]\n",
      "Running inference: 100%|██████████| 1/1 [00:02<00:00,  2.32s/it]\n"
     ]
    },
    {
     "name": "stdout",
     "output_type": "stream",
     "text": [
      "Epoch: 045, Average Loss: 0.5297\n",
      "Validation: {'precision': 0.6383861236778342, 'recall': 0.6691699604716634, 'f1': 0.6534156646258769, 'auc': 0.771461038961039, 'prauc': 0.6532297702623302}\n",
      "Test:       {'precision': 0.6386061080632788, 'recall': 0.6444093243751703, 'f1': 0.6414945869346491, 'auc': 0.7673663953669437, 'prauc': 0.6463963870103455}\n"
     ]
    },
    {
     "name": "stderr",
     "output_type": "stream",
     "text": [
      "Training Batches: 100%|██████████| 1/1 [00:01<00:00,  1.00s/it]\n",
      "Running inference: 100%|██████████| 1/1 [00:02<00:00,  2.33s/it]\n",
      "Running inference: 100%|██████████| 1/1 [00:02<00:00,  2.02s/it]\n"
     ]
    },
    {
     "name": "stdout",
     "output_type": "stream",
     "text": [
      "Epoch: 046, Average Loss: 0.5248\n",
      "Validation: {'precision': 0.6362308254176909, 'recall': 0.6885375494043932, 'f1': 0.6613515515732414, 'auc': 0.7707579940188636, 'prauc': 0.6433732220371451}\n",
      "Test:       {'precision': 0.6378192908858642, 'recall': 0.6610035559041446, 'f1': 0.6492044963572424, 'auc': 0.7666110649363216, 'prauc': 0.6429413966159516}\n"
     ]
    },
    {
     "name": "stderr",
     "output_type": "stream",
     "text": [
      "Training Batches: 100%|██████████| 1/1 [00:01<00:00,  1.58s/it]\n",
      "Running inference: 100%|██████████| 1/1 [00:02<00:00,  2.08s/it]\n",
      "Running inference: 100%|██████████| 1/1 [00:02<00:00,  2.10s/it]\n"
     ]
    },
    {
     "name": "stdout",
     "output_type": "stream",
     "text": [
      "Epoch: 047, Average Loss: 0.5244\n",
      "Validation: {'precision': 0.6347131445147615, 'recall': 0.6909090909063601, 'f1': 0.661619979866436, 'auc': 0.771562205910032, 'prauc': 0.6452129320087835}\n",
      "Test:       {'precision': 0.6338403041800995, 'recall': 0.6586329514000054, 'f1': 0.6459988324339423, 'auc': 0.7676157287587795, 'prauc': 0.6447794621114341}\n"
     ]
    },
    {
     "name": "stderr",
     "output_type": "stream",
     "text": [
      "Training Batches: 100%|██████████| 1/1 [00:01<00:00,  1.02s/it]\n",
      "Running inference: 100%|██████████| 1/1 [00:02<00:00,  2.02s/it]\n",
      "Running inference: 100%|██████████| 1/1 [00:02<00:00,  2.37s/it]\n"
     ]
    },
    {
     "name": "stdout",
     "output_type": "stream",
     "text": [
      "Epoch: 048, Average Loss: 0.5219\n",
      "Validation: {'precision': 0.6420972644352504, 'recall': 0.66798418972068, 'f1': 0.6547849620664437, 'auc': 0.7734829663090532, 'prauc': 0.6528540812829728}\n",
      "Test:       {'precision': 0.6420590582576136, 'recall': 0.6357171078599932, 'f1': 0.6388723396471796, 'auc': 0.7689021885314389, 'prauc': 0.6484368031662833}\n"
     ]
    },
    {
     "name": "stderr",
     "output_type": "stream",
     "text": [
      "Training Batches: 100%|██████████| 1/1 [00:01<00:00,  1.31s/it]\n",
      "Running inference: 100%|██████████| 1/1 [00:02<00:00,  2.08s/it]\n",
      "Running inference: 100%|██████████| 1/1 [00:02<00:00,  2.06s/it]\n"
     ]
    },
    {
     "name": "stdout",
     "output_type": "stream",
     "text": [
      "Epoch: 049, Average Loss: 0.5190\n",
      "Validation: {'precision': 0.6458173445869309, 'recall': 0.6652173913017185, 'f1': 0.6553738267742437, 'auc': 0.7740229416316373, 'prauc': 0.6509185832608995}\n",
      "Test:       {'precision': 0.6452265372142184, 'recall': 0.6301856973503351, 'f1': 0.6376174245404211, 'auc': 0.7692612663141372, 'prauc': 0.6487458274835082}\n"
     ]
    },
    {
     "name": "stderr",
     "output_type": "stream",
     "text": [
      "Training Batches: 100%|██████████| 1/1 [00:01<00:00,  1.30s/it]\n",
      "Running inference: 100%|██████████| 1/1 [00:02<00:00,  2.09s/it]\n",
      "Running inference: 100%|██████████| 1/1 [00:02<00:00,  2.11s/it]\n"
     ]
    },
    {
     "name": "stdout",
     "output_type": "stream",
     "text": [
      "Epoch: 050, Average Loss: 0.5150\n",
      "Validation: {'precision': 0.6410741301034756, 'recall': 0.6699604743056523, 'f1': 0.6551990672843941, 'auc': 0.7713571533136749, 'prauc': 0.6373700864611733}\n",
      "Test:       {'precision': 0.6427722772251772, 'recall': 0.6412485183696514, 'f1': 0.6420094886683536, 'auc': 0.7659220209555238, 'prauc': 0.6393898812991471}\n"
     ]
    },
    {
     "name": "stderr",
     "output_type": "stream",
     "text": [
      "Training Batches: 100%|██████████| 1/1 [00:01<00:00,  1.03s/it]\n",
      "Running inference: 100%|██████████| 1/1 [00:02<00:00,  2.42s/it]\n",
      "Running inference: 100%|██████████| 1/1 [00:01<00:00,  1.77s/it]\n"
     ]
    },
    {
     "name": "stdout",
     "output_type": "stream",
     "text": [
      "Epoch: 051, Average Loss: 0.5111\n",
      "Validation: {'precision': 0.6269026548650375, 'recall': 0.6999999999972333, 'f1': 0.6614379035094357, 'auc': 0.7602821695213, 'prauc': 0.6163927540722178}\n",
      "Test:       {'precision': 0.6196818349958576, 'recall': 0.6617937574055244, 'f1': 0.6400458490342875, 'auc': 0.7527507044113371, 'prauc': 0.6164654016159254}\n"
     ]
    },
    {
     "name": "stderr",
     "output_type": "stream",
     "text": [
      "Training Batches: 100%|██████████| 1/1 [00:01<00:00,  1.29s/it]\n",
      "Running inference: 100%|██████████| 1/1 [00:02<00:00,  2.40s/it]\n",
      "Running inference: 100%|██████████| 1/1 [00:01<00:00,  1.77s/it]\n"
     ]
    },
    {
     "name": "stdout",
     "output_type": "stream",
     "text": [
      "Epoch: 052, Average Loss: 0.5140\n",
      "Validation: {'precision': 0.6227758007095275, 'recall': 0.6916996047403491, 'f1': 0.655430706621779, 'auc': 0.7544750298011168, 'prauc': 0.6110476505591087}\n",
      "Test:       {'precision': 0.6149574231743246, 'recall': 0.6562623468958663, 'f1': 0.6349388329233411, 'auc': 0.7441143025529288, 'prauc': 0.6069925448424114}\n",
      "\n",
      "Early stopping triggered after 52 epochs (no improvement for 10 epochs).\n",
      "\n",
      "Best validation performance:\n",
      "{'precision': 0.6327338129473643, 'recall': 0.6952569169932994, 'f1': 0.66252353549823, 'auc': 0.7728729322207583, 'prauc': 0.6598206558472333}\n",
      "Corresponding test performance:\n",
      "{'precision': 0.6315985130088045, 'recall': 0.6712761754220811, 'f1': 0.6508331687236534, 'auc': 0.7694328990017554, 'prauc': 0.650596213522981}\n",
      "Corresponding test-long performance:\n",
      "{'precision': 0.7723684210424688, 'recall': 0.9030769230630296, 'f1': 0.8326241084937981, 'auc': 0.5424434389140271, 'prauc': 0.771326139762125}\n",
      "[INFO] Random seed set to 946785248\n",
      "Training with seed: 946785248\n"
     ]
    },
    {
     "name": "stderr",
     "output_type": "stream",
     "text": [
      "Training Batches: 100%|██████████| 1/1 [00:01<00:00,  1.32s/it]\n",
      "Running inference: 100%|██████████| 1/1 [00:02<00:00,  2.05s/it]\n",
      "Running inference: 100%|██████████| 1/1 [00:02<00:00,  2.07s/it]\n"
     ]
    },
    {
     "name": "stdout",
     "output_type": "stream",
     "text": [
      "Epoch: 001, Average Loss: 0.6920\n",
      "Validation: {'precision': 0.690551680401455, 'recall': 0.43043478260699436, 'f1': 0.5303140931483025, 'auc': 0.7675913378087291, 'prauc': 0.6617492940081015}\n",
      "Test:       {'precision': 0.6755009696142502, 'recall': 0.41288028447090924, 'f1': 0.5125061257447083, 'auc': 0.7631710809288439, 'prauc': 0.6455986104375644}\n"
     ]
    },
    {
     "name": "stderr",
     "output_type": "stream",
     "text": [
      "Training Batches: 100%|██████████| 1/1 [00:01<00:00,  1.28s/it]\n",
      "Running inference: 100%|██████████| 1/1 [00:02<00:00,  2.07s/it]\n",
      "Running inference: 100%|██████████| 1/1 [00:02<00:00,  2.37s/it]\n"
     ]
    },
    {
     "name": "stdout",
     "output_type": "stream",
     "text": [
      "Epoch: 002, Average Loss: 0.6723\n",
      "Validation: {'precision': 0.6795366795329314, 'recall': 0.4869565217372057, 'f1': 0.5673497533653035, 'auc': 0.7677051048790178, 'prauc': 0.6634224123840788}\n",
      "Test:       {'precision': 0.6689419795183792, 'recall': 0.46463848281128156, 'f1': 0.5483795708185162, 'auc': 0.7626898496805526, 'prauc': 0.6481684453296698}\n"
     ]
    },
    {
     "name": "stderr",
     "output_type": "stream",
     "text": [
      "Training Batches: 100%|██████████| 1/1 [00:00<00:00,  1.01it/s]\n",
      "Running inference: 100%|██████████| 1/1 [00:02<00:00,  2.33s/it]\n",
      "Running inference: 100%|██████████| 1/1 [00:02<00:00,  2.38s/it]\n"
     ]
    },
    {
     "name": "stdout",
     "output_type": "stream",
     "text": [
      "Epoch: 003, Average Loss: 0.6487\n",
      "Validation: {'precision': 0.6718749999966136, 'recall': 0.5268774703536487, 'f1': 0.5906069955136023, 'auc': 0.7675178283873936, 'prauc': 0.6649074501113377}\n",
      "Test:       {'precision': 0.6629805160575936, 'recall': 0.4974318451185404, 'f1': 0.5683972862955868, 'auc': 0.7625570149860783, 'prauc': 0.6494333645573893}\n"
     ]
    },
    {
     "name": "stderr",
     "output_type": "stream",
     "text": [
      "Training Batches: 100%|██████████| 1/1 [00:00<00:00,  1.40it/s]\n",
      "Running inference: 100%|██████████| 1/1 [00:02<00:00,  2.34s/it]\n",
      "Running inference: 100%|██████████| 1/1 [00:02<00:00,  2.33s/it]\n"
     ]
    },
    {
     "name": "stdout",
     "output_type": "stream",
     "text": [
      "Epoch: 004, Average Loss: 0.6281\n",
      "Validation: {'precision': 0.662188099804884, 'recall': 0.5454545454523896, 'f1': 0.5981794488802761, 'auc': 0.7675687516991864, 'prauc': 0.6654584904578545}\n",
      "Test:       {'precision': 0.657213930344989, 'recall': 0.521928091661312, 'f1': 0.5818101690337464, 'auc': 0.7626378572282022, 'prauc': 0.6506046044476359}\n"
     ]
    },
    {
     "name": "stderr",
     "output_type": "stream",
     "text": [
      "Training Batches: 100%|██████████| 1/1 [00:01<00:00,  1.00s/it]\n",
      "Running inference: 100%|██████████| 1/1 [00:02<00:00,  2.35s/it]\n",
      "Running inference: 100%|██████████| 1/1 [00:02<00:00,  2.06s/it]\n"
     ]
    },
    {
     "name": "stdout",
     "output_type": "stream",
     "text": [
      "Epoch: 005, Average Loss: 0.6103\n",
      "Validation: {'precision': 0.6612826603294001, 'recall': 0.5501976284563234, 'f1': 0.6006472442303854, 'auc': 0.7679363510885251, 'prauc': 0.6660047255602266}\n",
      "Test:       {'precision': 0.6563269325423126, 'recall': 0.5266693006695904, 'f1': 0.5843928052284777, 'auc': 0.7630718083310025, 'prauc': 0.6512498014622861}\n"
     ]
    },
    {
     "name": "stderr",
     "output_type": "stream",
     "text": [
      "Training Batches: 100%|██████████| 1/1 [00:01<00:00,  1.61s/it]\n",
      "Running inference: 100%|██████████| 1/1 [00:02<00:00,  2.07s/it]\n",
      "Running inference: 100%|██████████| 1/1 [00:02<00:00,  2.05s/it]\n"
     ]
    },
    {
     "name": "stdout",
     "output_type": "stream",
     "text": [
      "Epoch: 006, Average Loss: 0.5936\n",
      "Validation: {'precision': 0.661833489239187, 'recall': 0.5592885375471965, 'f1': 0.6062553506453445, 'auc': 0.7683468222598657, 'prauc': 0.6666652744519949}\n",
      "Test:       {'precision': 0.6574209245710102, 'recall': 0.533781114182008, 'f1': 0.5891844695388677, 'auc': 0.7635042933827797, 'prauc': 0.6519559469868703}\n"
     ]
    },
    {
     "name": "stderr",
     "output_type": "stream",
     "text": [
      "Training Batches: 100%|██████████| 1/1 [00:01<00:00,  1.01s/it]\n",
      "Running inference: 100%|██████████| 1/1 [00:02<00:00,  2.05s/it]\n",
      "Running inference: 100%|██████████| 1/1 [00:02<00:00,  2.38s/it]\n"
     ]
    },
    {
     "name": "stdout",
     "output_type": "stream",
     "text": [
      "Epoch: 007, Average Loss: 0.5838\n",
      "Validation: {'precision': 0.658769931659869, 'recall': 0.5715415019740255, 'f1': 0.6120634870860351, 'auc': 0.7685811531463705, 'prauc': 0.6668396437524402}\n",
      "Test:       {'precision': 0.6564561734182072, 'recall': 0.5503753457109823, 'f1': 0.5987534874065724, 'auc': 0.763721792523831, 'prauc': 0.6526520600607353}\n"
     ]
    },
    {
     "name": "stderr",
     "output_type": "stream",
     "text": [
      "Training Batches: 100%|██████████| 1/1 [00:01<00:00,  1.31s/it]\n",
      "Running inference: 100%|██████████| 1/1 [00:02<00:00,  2.04s/it]\n",
      "Running inference: 100%|██████████| 1/1 [00:02<00:00,  2.05s/it]\n"
     ]
    },
    {
     "name": "stdout",
     "output_type": "stream",
     "text": [
      "Epoch: 008, Average Loss: 0.5780\n",
      "Validation: {'precision': 0.6560680698582353, 'recall': 0.5790513833969207, 'f1': 0.6151585085587434, 'auc': 0.768956072108246, 'prauc': 0.6671889399072427}\n",
      "Test:       {'precision': 0.6573007830462584, 'recall': 0.5638087712344377, 'f1': 0.6069757500246011, 'auc': 0.7640447949795712, 'prauc': 0.6532327609492904}\n"
     ]
    },
    {
     "name": "stderr",
     "output_type": "stream",
     "text": [
      "Training Batches: 100%|██████████| 1/1 [00:01<00:00,  1.33s/it]\n",
      "Running inference: 100%|██████████| 1/1 [00:02<00:00,  2.07s/it]\n",
      "Running inference: 100%|██████████| 1/1 [00:02<00:00,  2.09s/it]\n"
     ]
    },
    {
     "name": "stdout",
     "output_type": "stream",
     "text": [
      "Epoch: 009, Average Loss: 0.5766\n",
      "Validation: {'precision': 0.6538800705438542, 'recall': 0.5861660079028215, 'f1': 0.6181742342786933, 'auc': 0.7693201162766381, 'prauc': 0.6675879433945172}\n",
      "Test:       {'precision': 0.6542141230038533, 'recall': 0.5673646779906465, 'f1': 0.6077020686579112, 'auc': 0.7644700021351984, 'prauc': 0.6535785396894058}\n"
     ]
    },
    {
     "name": "stderr",
     "output_type": "stream",
     "text": [
      "Training Batches: 100%|██████████| 1/1 [00:01<00:00,  1.03s/it]\n",
      "Running inference: 100%|██████████| 1/1 [00:02<00:00,  2.40s/it]\n",
      "Running inference: 100%|██████████| 1/1 [00:01<00:00,  1.78s/it]\n"
     ]
    },
    {
     "name": "stdout",
     "output_type": "stream",
     "text": [
      "Epoch: 010, Average Loss: 0.5775\n",
      "Validation: {'precision': 0.6543921916563692, 'recall': 0.5830039525668657, 'f1': 0.6166387910006863, 'auc': 0.7697100403622144, 'prauc': 0.6679348852865237}\n",
      "Test:       {'precision': 0.6557904411734569, 'recall': 0.5638087712344377, 'f1': 0.6063309914142222, 'auc': 0.7650343270611134, 'prauc': 0.6534932036845706}\n"
     ]
    },
    {
     "name": "stderr",
     "output_type": "stream",
     "text": [
      "Training Batches: 100%|██████████| 1/1 [00:01<00:00,  1.30s/it]\n",
      "Running inference: 100%|██████████| 1/1 [00:02<00:00,  2.41s/it]\n",
      "Running inference: 100%|██████████| 1/1 [00:01<00:00,  1.74s/it]\n"
     ]
    },
    {
     "name": "stdout",
     "output_type": "stream",
     "text": [
      "Epoch: 011, Average Loss: 0.5745\n",
      "Validation: {'precision': 0.6550956831301509, 'recall': 0.5818181818158822, 'f1': 0.6162863672150938, 'auc': 0.7699727084509693, 'prauc': 0.6681425892076585}\n",
      "Test:       {'precision': 0.6568537258479445, 'recall': 0.5642038719851277, 'f1': 0.6070138101165357, 'auc': 0.7655535185591065, 'prauc': 0.6534430816109824}\n"
     ]
    },
    {
     "name": "stderr",
     "output_type": "stream",
     "text": [
      "Training Batches: 100%|██████████| 1/1 [00:01<00:00,  1.29s/it]\n",
      "Running inference: 100%|██████████| 1/1 [00:02<00:00,  2.04s/it]\n",
      "Running inference: 100%|██████████| 1/1 [00:02<00:00,  2.06s/it]\n"
     ]
    },
    {
     "name": "stdout",
     "output_type": "stream",
     "text": [
      "Epoch: 012, Average Loss: 0.5707\n",
      "Validation: {'precision': 0.6560822898002859, 'recall': 0.5798418972309097, 'f1': 0.6156105699220243, 'auc': 0.7702288934897631, 'prauc': 0.6680869706653164}\n",
      "Test:       {'precision': 0.6571031929631787, 'recall': 0.5610430659796087, 'f1': 0.6052855875263814, 'auc': 0.7660445409338724, 'prauc': 0.6532140438101888}\n"
     ]
    },
    {
     "name": "stderr",
     "output_type": "stream",
     "text": [
      "Training Batches: 100%|██████████| 1/1 [00:01<00:00,  1.03s/it]\n",
      "Running inference: 100%|██████████| 1/1 [00:02<00:00,  2.42s/it]\n",
      "Running inference: 100%|██████████| 1/1 [00:01<00:00,  1.77s/it]\n"
     ]
    },
    {
     "name": "stdout",
     "output_type": "stream",
     "text": [
      "Epoch: 013, Average Loss: 0.5694\n",
      "Validation: {'precision': 0.658284687918014, 'recall': 0.5794466403139152, 'f1': 0.6163548405085498, 'auc': 0.7706970324361628, 'prauc': 0.6683184407273141}\n",
      "Test:       {'precision': 0.6584342963622627, 'recall': 0.5582773607247796, 'f1': 0.6042334780332217, 'auc': 0.7666150442176696, 'prauc': 0.6531606490081779}\n"
     ]
    },
    {
     "name": "stderr",
     "output_type": "stream",
     "text": [
      "Training Batches: 100%|██████████| 1/1 [00:01<00:00,  1.28s/it]\n",
      "Running inference: 100%|██████████| 1/1 [00:02<00:00,  2.39s/it]\n",
      "Running inference: 100%|██████████| 1/1 [00:01<00:00,  1.77s/it]\n"
     ]
    },
    {
     "name": "stdout",
     "output_type": "stream",
     "text": [
      "Epoch: 014, Average Loss: 0.5678\n",
      "Validation: {'precision': 0.6537777777748721, 'recall': 0.5814229248988877, 'f1': 0.6154811665626986, 'auc': 0.7709868875086267, 'prauc': 0.6682675903761726}\n",
      "Test:       {'precision': 0.6563223714652324, 'recall': 0.5598577637275391, 'f1': 0.6042643873529735, 'auc': 0.7670556972680034, 'prauc': 0.6532020257606449}\n"
     ]
    },
    {
     "name": "stderr",
     "output_type": "stream",
     "text": [
      "Training Batches: 100%|██████████| 1/1 [00:01<00:00,  1.35s/it]\n",
      "Running inference: 100%|██████████| 1/1 [00:02<00:00,  2.11s/it]\n",
      "Running inference: 100%|██████████| 1/1 [00:02<00:00,  2.07s/it]\n"
     ]
    },
    {
     "name": "stdout",
     "output_type": "stream",
     "text": [
      "Epoch: 015, Average Loss: 0.5681\n",
      "Validation: {'precision': 0.6532399299446006, 'recall': 0.5897233201557719, 'f1': 0.6198587403366136, 'auc': 0.7714582156973462, 'prauc': 0.6686225137669078}\n",
      "Test:       {'precision': 0.6554238833151531, 'recall': 0.5681548794920263, 'f1': 0.608677243700107, 'auc': 0.7675337346194231, 'prauc': 0.6534800462944577}\n"
     ]
    },
    {
     "name": "stderr",
     "output_type": "stream",
     "text": [
      "Training Batches: 100%|██████████| 1/1 [00:01<00:00,  1.33s/it]\n",
      "Running inference: 100%|██████████| 1/1 [00:02<00:00,  2.11s/it]\n",
      "Running inference: 100%|██████████| 1/1 [00:02<00:00,  2.07s/it]\n"
     ]
    },
    {
     "name": "stdout",
     "output_type": "stream",
     "text": [
      "Epoch: 016, Average Loss: 0.5656\n",
      "Validation: {'precision': 0.6505608282974523, 'recall': 0.5960474308276836, 'f1': 0.622112206228117, 'auc': 0.7719608611999916, 'prauc': 0.6687937312921208}\n",
      "Test:       {'precision': 0.6548949485889366, 'recall': 0.5788225997606526, 'f1': 0.6145134178352248, 'auc': 0.7679323957797417, 'prauc': 0.6537398649709014}\n"
     ]
    },
    {
     "name": "stderr",
     "output_type": "stream",
     "text": [
      "Training Batches: 100%|██████████| 1/1 [00:00<00:00,  1.01it/s]\n",
      "Running inference: 100%|██████████| 1/1 [00:02<00:00,  2.37s/it]\n",
      "Running inference: 100%|██████████| 1/1 [00:02<00:00,  2.09s/it]\n"
     ]
    },
    {
     "name": "stdout",
     "output_type": "stream",
     "text": [
      "Epoch: 017, Average Loss: 0.5652\n",
      "Validation: {'precision': 0.6499148211215933, 'recall': 0.6031620553335844, 'f1': 0.6256662516669618, 'auc': 0.7721889181671789, 'prauc': 0.6690419562070877}\n",
      "Test:       {'precision': 0.6556728232161141, 'recall': 0.5890952192785891, 'f1': 0.6206035329929902, 'auc': 0.7681427741015385, 'prauc': 0.6537693996967469}\n"
     ]
    },
    {
     "name": "stderr",
     "output_type": "stream",
     "text": [
      "Training Batches: 100%|██████████| 1/1 [00:01<00:00,  1.31s/it]\n",
      "Running inference: 100%|██████████| 1/1 [00:02<00:00,  2.11s/it]\n",
      "Running inference: 100%|██████████| 1/1 [00:02<00:00,  2.08s/it]\n"
     ]
    },
    {
     "name": "stdout",
     "output_type": "stream",
     "text": [
      "Epoch: 018, Average Loss: 0.5633\n",
      "Validation: {'precision': 0.6474519632387324, 'recall': 0.612648221341452, 'f1': 0.6295694507283084, 'auc': 0.7723085931781585, 'prauc': 0.6691415708453738}\n",
      "Test:       {'precision': 0.6539627544363189, 'recall': 0.5966021335416966, 'f1': 0.6239669371567014, 'auc': 0.7681132436452186, 'prauc': 0.6536798931643949}\n"
     ]
    },
    {
     "name": "stderr",
     "output_type": "stream",
     "text": [
      "Training Batches: 100%|██████████| 1/1 [00:00<00:00,  1.41it/s]\n",
      "Running inference: 100%|██████████| 1/1 [00:02<00:00,  2.32s/it]\n",
      "Running inference: 100%|██████████| 1/1 [00:02<00:00,  2.35s/it]\n"
     ]
    },
    {
     "name": "stdout",
     "output_type": "stream",
     "text": [
      "Epoch: 019, Average Loss: 0.5611\n",
      "Validation: {'precision': 0.6451480263131367, 'recall': 0.6201581027643472, 'f1': 0.632406282786584, 'auc': 0.7722760733630298, 'prauc': 0.6690279336476043}\n",
      "Test:       {'precision': 0.6531223267722279, 'recall': 0.6033188463034242, 'f1': 0.6272335131814966, 'auc': 0.7680509364767423, 'prauc': 0.6536355370645446}\n"
     ]
    },
    {
     "name": "stderr",
     "output_type": "stream",
     "text": [
      "Training Batches: 100%|██████████| 1/1 [00:01<00:00,  1.31s/it]\n",
      "Running inference: 100%|██████████| 1/1 [00:02<00:00,  2.43s/it]\n",
      "Running inference: 100%|██████████| 1/1 [00:01<00:00,  1.77s/it]\n"
     ]
    },
    {
     "name": "stdout",
     "output_type": "stream",
     "text": [
      "Epoch: 020, Average Loss: 0.5611\n",
      "Validation: {'precision': 0.6454508363906755, 'recall': 0.6252964426852755, 'f1': 0.6352138074861596, 'auc': 0.772005876571094, 'prauc': 0.6687102555186941}\n",
      "Test:       {'precision': 0.652636054418994, 'recall': 0.6064796523089432, 'f1': 0.6287118524688173, 'auc': 0.767860559279616, 'prauc': 0.6532728739322298}\n"
     ]
    },
    {
     "name": "stderr",
     "output_type": "stream",
     "text": [
      "Training Batches: 100%|██████████| 1/1 [00:01<00:00,  1.33s/it]\n",
      "Running inference: 100%|██████████| 1/1 [00:02<00:00,  2.39s/it]\n",
      "Running inference: 100%|██████████| 1/1 [00:01<00:00,  1.75s/it]\n"
     ]
    },
    {
     "name": "stdout",
     "output_type": "stream",
     "text": [
      "Epoch: 021, Average Loss: 0.5600\n",
      "Validation: {'precision': 0.646669424904234, 'recall': 0.6177865612623803, 'f1': 0.6318981150728256, 'auc': 0.7720473890039108, 'prauc': 0.6689314581807446}\n",
      "Test:       {'precision': 0.6543422183978748, 'recall': 0.601343342549975, 'f1': 0.6267243104273684, 'auc': 0.7679212956791392, 'prauc': 0.6531260468449045}\n"
     ]
    },
    {
     "name": "stderr",
     "output_type": "stream",
     "text": [
      "Training Batches: 100%|██████████| 1/1 [00:01<00:00,  1.32s/it]\n",
      "Running inference: 100%|██████████| 1/1 [00:02<00:00,  2.07s/it]\n",
      "Running inference: 100%|██████████| 1/1 [00:02<00:00,  2.38s/it]\n"
     ]
    },
    {
     "name": "stdout",
     "output_type": "stream",
     "text": [
      "Epoch: 022, Average Loss: 0.5574\n",
      "Validation: {'precision': 0.6483333333306319, 'recall': 0.615019762843419, 'f1': 0.6312373175161289, 'auc': 0.7720005437396742, 'prauc': 0.6690631581899211}\n",
      "Test:       {'precision': 0.6528138528110268, 'recall': 0.5958119320403168, 'f1': 0.6230117694346179, 'auc': 0.76800302802367, 'prauc': 0.6528652995695354}\n"
     ]
    },
    {
     "name": "stderr",
     "output_type": "stream",
     "text": [
      "Training Batches: 100%|██████████| 1/1 [00:00<00:00,  1.41it/s]\n",
      "Running inference: 100%|██████████| 1/1 [00:02<00:00,  2.33s/it]\n",
      "Running inference: 100%|██████████| 1/1 [00:02<00:00,  2.41s/it]\n"
     ]
    },
    {
     "name": "stdout",
     "output_type": "stream",
     "text": [
      "Epoch: 023, Average Loss: 0.5589\n",
      "Validation: {'precision': 0.6450287592413927, 'recall': 0.6205533596813417, 'f1': 0.6325543866189831, 'auc': 0.7725079992471297, 'prauc': 0.6696086137285937}\n",
      "Test:       {'precision': 0.6532361765938567, 'recall': 0.6021335440513547, 'f1': 0.626644731847814, 'auc': 0.7683246691463175, 'prauc': 0.6528883170163503}\n"
     ]
    },
    {
     "name": "stderr",
     "output_type": "stream",
     "text": [
      "Training Batches: 100%|██████████| 1/1 [00:01<00:00,  1.01s/it]\n",
      "Running inference: 100%|██████████| 1/1 [00:02<00:00,  2.39s/it]\n",
      "Running inference: 100%|██████████| 1/1 [00:02<00:00,  2.41s/it]\n"
     ]
    },
    {
     "name": "stdout",
     "output_type": "stream",
     "text": [
      "Epoch: 024, Average Loss: 0.5553\n",
      "Validation: {'precision': 0.6437973673687922, 'recall': 0.6379446640290991, 'f1': 0.640857648362658, 'auc': 0.7728728799380973, 'prauc': 0.6697139538177878}\n",
      "Test:       {'precision': 0.6517931609647548, 'recall': 0.6175424733282594, 'f1': 0.6342057162426984, 'auc': 0.7686926479530838, 'prauc': 0.6524714757200745}\n"
     ]
    },
    {
     "name": "stderr",
     "output_type": "stream",
     "text": [
      "Training Batches: 100%|██████████| 1/1 [00:00<00:00,  1.41it/s]\n",
      "Running inference: 100%|██████████| 1/1 [00:02<00:00,  2.36s/it]\n",
      "Running inference: 100%|██████████| 1/1 [00:02<00:00,  2.11s/it]\n"
     ]
    },
    {
     "name": "stdout",
     "output_type": "stream",
     "text": [
      "Epoch: 025, Average Loss: 0.5573\n",
      "Validation: {'precision': 0.6424911312548581, 'recall': 0.6442687747010108, 'f1': 0.6433787200813462, 'auc': 0.7737666520275216, 'prauc': 0.6702533102546275}\n",
      "Test:       {'precision': 0.6532892014867469, 'recall': 0.6238640853392973, 'f1': 0.638237666786655, 'auc': 0.7691023044960748, 'prauc': 0.6524490551248674}\n"
     ]
    },
    {
     "name": "stderr",
     "output_type": "stream",
     "text": [
      "Training Batches: 100%|██████████| 1/1 [00:00<00:00,  1.39it/s]\n",
      "Running inference: 100%|██████████| 1/1 [00:02<00:00,  2.35s/it]\n",
      "Running inference: 100%|██████████| 1/1 [00:02<00:00,  2.35s/it]\n"
     ]
    },
    {
     "name": "stdout",
     "output_type": "stream",
     "text": [
      "Epoch: 026, Average Loss: 0.5520\n",
      "Validation: {'precision': 0.6437921459712662, 'recall': 0.6415019762820494, 'f1': 0.6426450157854342, 'auc': 0.7743230441056528, 'prauc': 0.6707246929206382}\n",
      "Test:       {'precision': 0.6552444630143952, 'recall': 0.6195179770817087, 'f1': 0.6368805798916736, 'auc': 0.7693089653313491, 'prauc': 0.6520885435437582}\n"
     ]
    },
    {
     "name": "stderr",
     "output_type": "stream",
     "text": [
      "Training Batches: 100%|██████████| 1/1 [00:01<00:00,  1.01s/it]\n",
      "Running inference: 100%|██████████| 1/1 [00:02<00:00,  2.39s/it]\n",
      "Running inference: 100%|██████████| 1/1 [00:02<00:00,  2.41s/it]\n"
     ]
    },
    {
     "name": "stdout",
     "output_type": "stream",
     "text": [
      "Epoch: 027, Average Loss: 0.5531\n",
      "Validation: {'precision': 0.6434782608670219, 'recall': 0.6434782608670219, 'f1': 0.6434782558670219, 'auc': 0.7741836585314845, 'prauc': 0.670742780037731}\n",
      "Test:       {'precision': 0.6540540540513345, 'recall': 0.6214934808351581, 'f1': 0.6373581797656676, 'auc': 0.7694531095622865, 'prauc': 0.6520529867688936}\n"
     ]
    },
    {
     "name": "stderr",
     "output_type": "stream",
     "text": [
      "Training Batches: 100%|██████████| 1/1 [00:00<00:00,  1.40it/s]\n",
      "Running inference: 100%|██████████| 1/1 [00:02<00:00,  2.39s/it]\n",
      "Running inference: 100%|██████████| 1/1 [00:02<00:00,  2.43s/it]\n"
     ]
    },
    {
     "name": "stdout",
     "output_type": "stream",
     "text": [
      "Epoch: 028, Average Loss: 0.5532\n",
      "Validation: {'precision': 0.6404669260675468, 'recall': 0.6505928853729226, 'f1': 0.6454901910762078, 'auc': 0.7732280360541232, 'prauc': 0.6703517394040474}\n",
      "Test:       {'precision': 0.6507352941149889, 'recall': 0.6293954958489554, 'f1': 0.6398875226148064, 'auc': 0.7693528945030731, 'prauc': 0.652179261463211}\n"
     ]
    },
    {
     "name": "stderr",
     "output_type": "stream",
     "text": [
      "Training Batches: 100%|██████████| 1/1 [00:00<00:00,  1.40it/s]\n",
      "Running inference: 100%|██████████| 1/1 [00:02<00:00,  2.38s/it]\n",
      "Running inference: 100%|██████████| 1/1 [00:02<00:00,  2.08s/it]\n"
     ]
    },
    {
     "name": "stdout",
     "output_type": "stream",
     "text": [
      "Epoch: 029, Average Loss: 0.5511\n",
      "Validation: {'precision': 0.639875146310418, 'recall': 0.6482213438709556, 'f1': 0.6440212005739621, 'auc': 0.7724671664889056, 'prauc': 0.6700718889434121}\n",
      "Test:       {'precision': 0.6490147783224589, 'recall': 0.624654286840677, 'f1': 0.6366015653636709, 'auc': 0.7690348137900529, 'prauc': 0.6519991514617531}\n"
     ]
    },
    {
     "name": "stderr",
     "output_type": "stream",
     "text": [
      "Training Batches: 100%|██████████| 1/1 [00:00<00:00,  1.40it/s]\n",
      "Running inference: 100%|██████████| 1/1 [00:02<00:00,  2.32s/it]\n",
      "Running inference: 100%|██████████| 1/1 [00:02<00:00,  2.34s/it]\n"
     ]
    },
    {
     "name": "stdout",
     "output_type": "stream",
     "text": [
      "Epoch: 030, Average Loss: 0.5499\n",
      "Validation: {'precision': 0.6417027985784718, 'recall': 0.6434782608670219, 'f1': 0.6425892983327802, 'auc': 0.7721752723926637, 'prauc': 0.6700757390890997}\n",
      "Test:       {'precision': 0.648178807944337, 'recall': 0.618727775580329, 'f1': 0.633110971349445, 'auc': 0.7688829204322798, 'prauc': 0.6521568010028171}\n"
     ]
    },
    {
     "name": "stderr",
     "output_type": "stream",
     "text": [
      "Training Batches: 100%|██████████| 1/1 [00:01<00:00,  1.02s/it]\n",
      "Running inference: 100%|██████████| 1/1 [00:02<00:00,  2.34s/it]\n",
      "Running inference: 100%|██████████| 1/1 [00:02<00:00,  2.45s/it]\n"
     ]
    },
    {
     "name": "stdout",
     "output_type": "stream",
     "text": [
      "Epoch: 031, Average Loss: 0.5492\n",
      "Validation: {'precision': 0.6420927467275384, 'recall': 0.6403162055310659, 'f1': 0.6412032405941471, 'auc': 0.7723872785829308, 'prauc': 0.6702426875824408}\n",
      "Test:       {'precision': 0.6496046608379126, 'recall': 0.6167522718268797, 'f1': 0.632752325766913, 'auc': 0.7690878534217055, 'prauc': 0.6520075273835972}\n"
     ]
    },
    {
     "name": "stderr",
     "output_type": "stream",
     "text": [
      "Training Batches: 100%|██████████| 1/1 [00:00<00:00,  1.39it/s]\n",
      "Running inference: 100%|██████████| 1/1 [00:02<00:00,  2.34s/it]\n",
      "Running inference: 100%|██████████| 1/1 [00:02<00:00,  2.42s/it]\n"
     ]
    },
    {
     "name": "stdout",
     "output_type": "stream",
     "text": [
      "Epoch: 032, Average Loss: 0.5488\n",
      "Validation: {'precision': 0.6376252891263007, 'recall': 0.6537549407088785, 'f1': 0.6455893782925617, 'auc': 0.7728478888261497, 'prauc': 0.6702871682109502}\n",
      "Test:       {'precision': 0.6500405514977695, 'recall': 0.6333465033558541, 'f1': 0.6415849459688606, 'auc': 0.769586520205377, 'prauc': 0.6522191026412201}\n"
     ]
    },
    {
     "name": "stderr",
     "output_type": "stream",
     "text": [
      "Training Batches: 100%|██████████| 1/1 [00:00<00:00,  1.38it/s]\n",
      "Running inference: 100%|██████████| 1/1 [00:02<00:00,  2.40s/it]\n",
      "Running inference: 100%|██████████| 1/1 [00:02<00:00,  2.11s/it]\n"
     ]
    },
    {
     "name": "stdout",
     "output_type": "stream",
     "text": [
      "Epoch: 033, Average Loss: 0.5459\n",
      "Validation: {'precision': 0.6350585568544199, 'recall': 0.6644268774677295, 'f1': 0.649410850707984, 'auc': 0.7731343455256497, 'prauc': 0.6697701183687877}\n",
      "Test:       {'precision': 0.6464285714260063, 'recall': 0.6436191228737905, 'f1': 0.6450207829602496, 'auc': 0.7700432998169635, 'prauc': 0.6519980693441505}\n"
     ]
    },
    {
     "name": "stderr",
     "output_type": "stream",
     "text": [
      "Training Batches: 100%|██████████| 1/1 [00:00<00:00,  1.42it/s]\n",
      "Running inference: 100%|██████████| 1/1 [00:02<00:00,  2.39s/it]\n",
      "Running inference: 100%|██████████| 1/1 [00:02<00:00,  2.39s/it]\n"
     ]
    },
    {
     "name": "stdout",
     "output_type": "stream",
     "text": [
      "Epoch: 034, Average Loss: 0.5437\n",
      "Validation: {'precision': 0.6351706036721592, 'recall': 0.6695652173886578, 'f1': 0.6519145610967904, 'auc': 0.7734905995775561, 'prauc': 0.6693758997938768}\n",
      "Test:       {'precision': 0.6471981057590876, 'recall': 0.647965231131379, 'f1': 0.6475814362610183, 'auc': 0.7705372542937754, 'prauc': 0.6515950355359033}\n"
     ]
    },
    {
     "name": "stderr",
     "output_type": "stream",
     "text": [
      "Training Batches: 100%|██████████| 1/1 [00:01<00:00,  1.01s/it]\n",
      "Running inference: 100%|██████████| 1/1 [00:02<00:00,  2.35s/it]\n",
      "Running inference: 100%|██████████| 1/1 [00:02<00:00,  2.37s/it]\n"
     ]
    },
    {
     "name": "stdout",
     "output_type": "stream",
     "text": [
      "Epoch: 035, Average Loss: 0.5428\n",
      "Validation: {'precision': 0.6352059925069843, 'recall': 0.6703557312226468, 'f1': 0.6523076873088077, 'auc': 0.7739852981157329, 'prauc': 0.66961254877183}\n",
      "Test:       {'precision': 0.6496031746005968, 'recall': 0.6467799288793095, 'f1': 0.6481884725266593, 'auc': 0.7710612628165584, 'prauc': 0.6515563686067024}\n"
     ]
    },
    {
     "name": "stderr",
     "output_type": "stream",
     "text": [
      "Training Batches: 100%|██████████| 1/1 [00:00<00:00,  1.43it/s]\n",
      "Running inference: 100%|██████████| 1/1 [00:02<00:00,  2.37s/it]\n",
      "Running inference: 100%|██████████| 1/1 [00:02<00:00,  2.46s/it]\n"
     ]
    },
    {
     "name": "stdout",
     "output_type": "stream",
     "text": [
      "Epoch: 036, Average Loss: 0.5419\n",
      "Validation: {'precision': 0.6422090729757705, 'recall': 0.6434782608670219, 'f1': 0.6428430354713067, 'auc': 0.7746739653261393, 'prauc': 0.6714364919872517}\n",
      "Test:       {'precision': 0.6549707602311823, 'recall': 0.6195179770817087, 'f1': 0.6367512640368163, 'auc': 0.7713610702507566, 'prauc': 0.651918528301969}\n"
     ]
    },
    {
     "name": "stderr",
     "output_type": "stream",
     "text": [
      "Training Batches: 100%|██████████| 1/1 [00:00<00:00,  1.39it/s]\n",
      "Running inference: 100%|██████████| 1/1 [00:02<00:00,  2.39s/it]\n",
      "Running inference: 100%|██████████| 1/1 [00:02<00:00,  2.07s/it]\n"
     ]
    },
    {
     "name": "stdout",
     "output_type": "stream",
     "text": [
      "Epoch: 037, Average Loss: 0.5475\n",
      "Validation: {'precision': 0.6367816091929626, 'recall': 0.6569169960448343, 'f1': 0.646692602002586, 'auc': 0.7744144341970429, 'prauc': 0.6713758141555071}\n",
      "Test:       {'precision': 0.6514657980429501, 'recall': 0.6321612011037845, 'f1': 0.6416683326765203, 'auc': 0.7716089375915693, 'prauc': 0.651927303861291}\n"
     ]
    },
    {
     "name": "stderr",
     "output_type": "stream",
     "text": [
      "Training Batches: 100%|██████████| 1/1 [00:00<00:00,  1.41it/s]\n",
      "Running inference: 100%|██████████| 1/1 [00:02<00:00,  2.27s/it]\n",
      "Running inference: 100%|██████████| 1/1 [00:02<00:00,  2.36s/it]\n"
     ]
    },
    {
     "name": "stdout",
     "output_type": "stream",
     "text": [
      "Epoch: 038, Average Loss: 0.5397\n",
      "Validation: {'precision': 0.6336047372293353, 'recall': 0.6766798418945587, 'f1': 0.6544342457674281, 'auc': 0.7739573791747705, 'prauc': 0.6693760297639451}\n",
      "Test:       {'precision': 0.6425215348447826, 'recall': 0.648360331882069, 'f1': 0.6454277236111331, 'auc': 0.7717958590969984, 'prauc': 0.6511099245964003}\n"
     ]
    },
    {
     "name": "stderr",
     "output_type": "stream",
     "text": [
      "Training Batches: 100%|██████████| 1/1 [00:01<00:00,  1.01s/it]\n",
      "Running inference: 100%|██████████| 1/1 [00:02<00:00,  2.30s/it]\n",
      "Running inference: 100%|██████████| 1/1 [00:02<00:00,  2.41s/it]\n"
     ]
    },
    {
     "name": "stdout",
     "output_type": "stream",
     "text": [
      "Epoch: 039, Average Loss: 0.5393\n",
      "Validation: {'precision': 0.633818181815877, 'recall': 0.6889328063213876, 'f1': 0.6602272677334525, 'auc': 0.7735488424618859, 'prauc': 0.6672615749415464}\n",
      "Test:       {'precision': 0.6408100878844448, 'recall': 0.6625839589069041, 'f1': 0.6515151465140159, 'auc': 0.7717538672069832, 'prauc': 0.650483791833601}\n"
     ]
    },
    {
     "name": "stderr",
     "output_type": "stream",
     "text": [
      "Training Batches: 100%|██████████| 1/1 [00:00<00:00,  1.42it/s]\n",
      "Running inference: 100%|██████████| 1/1 [00:02<00:00,  2.35s/it]\n",
      "Running inference: 100%|██████████| 1/1 [00:02<00:00,  2.39s/it]\n"
     ]
    },
    {
     "name": "stdout",
     "output_type": "stream",
     "text": [
      "Epoch: 040, Average Loss: 0.5413\n",
      "Validation: {'precision': 0.6333456289168818, 'recall': 0.678656126479531, 'f1': 0.655218464761143, 'auc': 0.7738153794675534, 'prauc': 0.6674245203200756}\n",
      "Test:       {'precision': 0.6436066848012297, 'recall': 0.6542868431424169, 'f1': 0.6489028163144103, 'auc': 0.7717425053115552, 'prauc': 0.6504760207443157}\n"
     ]
    },
    {
     "name": "stderr",
     "output_type": "stream",
     "text": [
      "Training Batches: 100%|██████████| 1/1 [00:00<00:00,  1.39it/s]\n",
      "Running inference: 100%|██████████| 1/1 [00:02<00:00,  2.37s/it]\n",
      "Running inference: 100%|██████████| 1/1 [00:02<00:00,  2.09s/it]\n"
     ]
    },
    {
     "name": "stdout",
     "output_type": "stream",
     "text": [
      "Epoch: 041, Average Loss: 0.5366\n",
      "Validation: {'precision': 0.638985005764556, 'recall': 0.6569169960448343, 'f1': 0.6478269293192275, 'auc': 0.7743750130706653, 'prauc': 0.6689812491732448}\n",
      "Test:       {'precision': 0.651453957994138, 'recall': 0.6372975108627527, 'f1': 0.6442979778220761, 'auc': 0.7715912402613635, 'prauc': 0.6501771988634478}\n"
     ]
    },
    {
     "name": "stderr",
     "output_type": "stream",
     "text": [
      "Training Batches: 100%|██████████| 1/1 [00:00<00:00,  1.40it/s]\n",
      "Running inference: 100%|██████████| 1/1 [00:02<00:00,  2.36s/it]\n",
      "Running inference: 100%|██████████| 1/1 [00:02<00:00,  2.35s/it]\n"
     ]
    },
    {
     "name": "stdout",
     "output_type": "stream",
     "text": [
      "Epoch: 042, Average Loss: 0.5358\n",
      "Validation: {'precision': 0.6428012519536667, 'recall': 0.6494071146219391, 'f1': 0.6460872934639683, 'auc': 0.7743773135077483, 'prauc': 0.6674523070929561}\n",
      "Test:       {'precision': 0.656006560062911, 'recall': 0.6321612011037845, 'f1': 0.6438631740735691, 'auc': 0.771291328109235, 'prauc': 0.6491767338953771}\n"
     ]
    },
    {
     "name": "stderr",
     "output_type": "stream",
     "text": [
      "Training Batches: 100%|██████████| 1/1 [00:01<00:00,  1.02s/it]\n",
      "Running inference: 100%|██████████| 1/1 [00:02<00:00,  2.33s/it]\n",
      "Running inference: 100%|██████████| 1/1 [00:02<00:00,  2.40s/it]\n"
     ]
    },
    {
     "name": "stdout",
     "output_type": "stream",
     "text": [
      "Epoch: 043, Average Loss: 0.5329\n",
      "Validation: {'precision': 0.6355707243055155, 'recall': 0.6624505928827571, 'f1': 0.6487323348486752, 'auc': 0.7724524750611708, 'prauc': 0.6609128177382932}\n",
      "Test:       {'precision': 0.6486271388752542, 'recall': 0.6440142236244805, 'f1': 0.6463124454336628, 'auc': 0.7700668613512613, 'prauc': 0.6465941046764186}\n"
     ]
    },
    {
     "name": "stderr",
     "output_type": "stream",
     "text": [
      "Training Batches: 100%|██████████| 1/1 [00:00<00:00,  1.42it/s]\n",
      "Running inference: 100%|██████████| 1/1 [00:02<00:00,  2.37s/it]\n",
      "Running inference: 100%|██████████| 1/1 [00:02<00:00,  2.39s/it]\n"
     ]
    },
    {
     "name": "stdout",
     "output_type": "stream",
     "text": [
      "Epoch: 044, Average Loss: 0.5309\n",
      "Validation: {'precision': 0.6371951219487912, 'recall': 0.6608695652147792, 'f1': 0.6488164482393474, 'auc': 0.7722329924503838, 'prauc': 0.6598620674129534}\n",
      "Test:       {'precision': 0.6507426736224379, 'recall': 0.6404583168682716, 'f1': 0.6455595330304027, 'auc': 0.7698313507262136, 'prauc': 0.6458864836501984}\n"
     ]
    },
    {
     "name": "stderr",
     "output_type": "stream",
     "text": [
      "Training Batches: 100%|██████████| 1/1 [00:00<00:00,  1.40it/s]\n",
      "Running inference: 100%|██████████| 1/1 [00:02<00:00,  2.35s/it]\n",
      "Running inference: 100%|██████████| 1/1 [00:02<00:00,  2.09s/it]\n"
     ]
    },
    {
     "name": "stdout",
     "output_type": "stream",
     "text": [
      "Epoch: 045, Average Loss: 0.5307\n",
      "Validation: {'precision': 0.6386522075885412, 'recall': 0.6517786561239061, 'f1': 0.6451486647945505, 'auc': 0.7725123909906519, 'prauc': 0.6631252642202013}\n",
      "Test:       {'precision': 0.6485935589048162, 'recall': 0.6286052943475756, 'f1': 0.6384430126551636, 'auc': 0.7700117797199695, 'prauc': 0.6472005344721844}\n"
     ]
    },
    {
     "name": "stderr",
     "output_type": "stream",
     "text": [
      "Training Batches: 100%|██████████| 1/1 [00:01<00:00,  1.02s/it]\n",
      "Running inference: 100%|██████████| 1/1 [00:02<00:00,  2.07s/it]\n",
      "Running inference: 100%|██████████| 1/1 [00:02<00:00,  2.34s/it]\n"
     ]
    },
    {
     "name": "stdout",
     "output_type": "stream",
     "text": [
      "Epoch: 046, Average Loss: 0.5255\n",
      "Validation: {'precision': 0.6367112810683109, 'recall': 0.6581027667958178, 'f1': 0.6472303156985573, 'auc': 0.772152738565782, 'prauc': 0.6612867593269472}\n",
      "Test:       {'precision': 0.6453043127745051, 'recall': 0.6325563018544743, 'f1': 0.6388667148702549, 'auc': 0.7703303316636757, 'prauc': 0.6479412743891693}\n"
     ]
    },
    {
     "name": "stderr",
     "output_type": "stream",
     "text": [
      "Training Batches: 100%|██████████| 1/1 [00:01<00:00,  1.31s/it]\n",
      "Running inference: 100%|██████████| 1/1 [00:02<00:00,  2.01s/it]\n",
      "Running inference: 100%|██████████| 1/1 [00:02<00:00,  2.36s/it]\n"
     ]
    },
    {
     "name": "stdout",
     "output_type": "stream",
     "text": [
      "Epoch: 047, Average Loss: 0.5271\n",
      "Validation: {'precision': 0.6320650166212336, 'recall': 0.6762845849775642, 'f1': 0.6534275298514117, 'auc': 0.7711260639521509, 'prauc': 0.6527498282854338}\n",
      "Test:       {'precision': 0.6442718446576922, 'recall': 0.6554721453944865, 'f1': 0.6498237317780845, 'auc': 0.7706044832049718, 'prauc': 0.6462131864499172}\n"
     ]
    },
    {
     "name": "stderr",
     "output_type": "stream",
     "text": [
      "Training Batches: 100%|██████████| 1/1 [00:00<00:00,  1.00it/s]\n",
      "Running inference: 100%|██████████| 1/1 [00:02<00:00,  2.32s/it]\n",
      "Running inference: 100%|██████████| 1/1 [00:02<00:00,  2.03s/it]\n"
     ]
    },
    {
     "name": "stdout",
     "output_type": "stream",
     "text": [
      "Epoch: 048, Average Loss: 0.5219\n",
      "Validation: {'precision': 0.6274928774906429, 'recall': 0.6964426877442829, 'f1': 0.6601723442055428, 'auc': 0.7672768053202836, 'prauc': 0.6372062768912794}\n",
      "Test:       {'precision': 0.6367663344384025, 'recall': 0.6815487949400176, 'f1': 0.6583969415681422, 'auc': 0.7695107044239032, 'prauc': 0.640875722496084}\n"
     ]
    },
    {
     "name": "stderr",
     "output_type": "stream",
     "text": [
      "Training Batches: 100%|██████████| 1/1 [00:01<00:00,  1.29s/it]\n",
      "Running inference: 100%|██████████| 1/1 [00:02<00:00,  2.05s/it]\n",
      "Running inference: 100%|██████████| 1/1 [00:02<00:00,  2.35s/it]\n"
     ]
    },
    {
     "name": "stdout",
     "output_type": "stream",
     "text": [
      "Epoch: 049, Average Loss: 0.5240\n",
      "Validation: {'precision': 0.6361266294203497, 'recall': 0.6750988142265807, 'f1': 0.6550335520488849, 'auc': 0.7676967919359224, 'prauc': 0.638839452716734}\n",
      "Test:       {'precision': 0.6437183975081925, 'recall': 0.6538917423917271, 'f1': 0.6487651851192853, 'auc': 0.7703666164264944, 'prauc': 0.6412853598921548}\n",
      "\n",
      "Early stopping triggered after 49 epochs (no improvement for 10 epochs).\n",
      "\n",
      "Best validation performance:\n",
      "{'precision': 0.633818181815877, 'recall': 0.6889328063213876, 'f1': 0.6602272677334525, 'auc': 0.7735488424618859, 'prauc': 0.6672615749415464}\n",
      "Corresponding test performance:\n",
      "{'precision': 0.6408100878844448, 'recall': 0.6625839589069041, 'f1': 0.6515151465140159, 'auc': 0.7717538672069832, 'prauc': 0.650483791833601}\n",
      "Corresponding test-long performance:\n",
      "{'precision': 0.7738095237992882, 'recall': 0.8999999999861539, 'f1': 0.8321479324276775, 'auc': 0.5469683257918552, 'prauc': 0.7729829875227783}\n",
      "[INFO] Random seed set to 2530876844\n",
      "Training with seed: 2530876844\n"
     ]
    },
    {
     "name": "stderr",
     "output_type": "stream",
     "text": [
      "Training Batches: 100%|██████████| 1/1 [00:01<00:00,  1.03s/it]\n",
      "Running inference: 100%|██████████| 1/1 [00:02<00:00,  2.34s/it]\n",
      "Running inference: 100%|██████████| 1/1 [00:02<00:00,  2.34s/it]\n"
     ]
    },
    {
     "name": "stdout",
     "output_type": "stream",
     "text": [
      "Epoch: 001, Average Loss: 0.6861\n",
      "Validation: {'precision': 0.7540983606454358, 'recall': 0.2181818181809558, 'f1': 0.33844266972362946, 'auc': 0.7642385030428509, 'prauc': 0.6610930900154972}\n",
      "Test:       {'precision': 0.7220588235187932, 'recall': 0.19399446858872385, 'f1': 0.3058237275845479, 'auc': 0.7607690086866665, 'prauc': 0.6464619290957976}\n"
     ]
    },
    {
     "name": "stderr",
     "output_type": "stream",
     "text": [
      "Training Batches: 100%|██████████| 1/1 [00:00<00:00,  1.01it/s]\n",
      "Running inference: 100%|██████████| 1/1 [00:02<00:00,  2.37s/it]\n",
      "Running inference: 100%|██████████| 1/1 [00:02<00:00,  2.05s/it]\n"
     ]
    },
    {
     "name": "stdout",
     "output_type": "stream",
     "text": [
      "Epoch: 002, Average Loss: 0.6602\n",
      "Validation: {'precision': 0.7146136189692838, 'recall': 0.36916996047284917, 'f1': 0.4868386715544306, 'auc': 0.7647361816927034, 'prauc': 0.662542508281105}\n",
      "Test:       {'precision': 0.6829268292629196, 'recall': 0.3429474515988031, 'f1': 0.45660178407909435, 'auc': 0.7617139309299381, 'prauc': 0.6469748285584216}\n"
     ]
    },
    {
     "name": "stderr",
     "output_type": "stream",
     "text": [
      "Training Batches: 100%|██████████| 1/1 [00:01<00:00,  1.58s/it]\n",
      "Running inference: 100%|██████████| 1/1 [00:02<00:00,  2.07s/it]\n",
      "Running inference: 100%|██████████| 1/1 [00:02<00:00,  2.05s/it]\n"
     ]
    },
    {
     "name": "stdout",
     "output_type": "stream",
     "text": [
      "Epoch: 003, Average Loss: 0.6391\n",
      "Validation: {'precision': 0.6960244648275473, 'recall': 0.44980237153972413, 'f1': 0.5464585786616293, 'auc': 0.7646355898529811, 'prauc': 0.6634567461379948}\n",
      "Test:       {'precision': 0.6697588126118136, 'recall': 0.4278941129971241, 'f1': 0.522179358788945, 'auc': 0.7618978156153913, 'prauc': 0.6481268024067284}\n"
     ]
    },
    {
     "name": "stderr",
     "output_type": "stream",
     "text": [
      "Training Batches: 100%|██████████| 1/1 [00:01<00:00,  1.01s/it]\n",
      "Running inference: 100%|██████████| 1/1 [00:02<00:00,  2.04s/it]\n",
      "Running inference: 100%|██████████| 1/1 [00:02<00:00,  2.35s/it]\n"
     ]
    },
    {
     "name": "stdout",
     "output_type": "stream",
     "text": [
      "Epoch: 004, Average Loss: 0.6194\n",
      "Validation: {'precision': 0.6807228915625372, 'recall': 0.49130434782414506, 'f1': 0.5707070658350495, 'auc': 0.7651250601250601, 'prauc': 0.6643950664803551}\n",
      "Test:       {'precision': 0.6607142857105988, 'recall': 0.4677992888168005, 'f1': 0.5477677490182029, 'auc': 0.7624389978787289, 'prauc': 0.6492119882140217}\n"
     ]
    },
    {
     "name": "stderr",
     "output_type": "stream",
     "text": [
      "Training Batches: 100%|██████████| 1/1 [00:01<00:00,  1.32s/it]\n",
      "Running inference: 100%|██████████| 1/1 [00:02<00:00,  2.08s/it]\n",
      "Running inference: 100%|██████████| 1/1 [00:02<00:00,  2.05s/it]\n"
     ]
    },
    {
     "name": "stdout",
     "output_type": "stream",
     "text": [
      "Epoch: 005, Average Loss: 0.6034\n",
      "Validation: {'precision': 0.6719876416031308, 'recall': 0.5158102766778031, 'f1': 0.5836314798781066, 'auc': 0.765735198778677, 'prauc': 0.6652791705919802}\n",
      "Test:       {'precision': 0.653704676822629, 'recall': 0.4915053338581924, 'f1': 0.5611186238753958, 'auc': 0.7630886679177666, 'prauc': 0.6503724244756133}\n"
     ]
    },
    {
     "name": "stderr",
     "output_type": "stream",
     "text": [
      "Training Batches: 100%|██████████| 1/1 [00:01<00:00,  1.32s/it]\n",
      "Running inference: 100%|██████████| 1/1 [00:02<00:00,  2.07s/it]\n",
      "Running inference: 100%|██████████| 1/1 [00:02<00:00,  2.06s/it]\n"
     ]
    },
    {
     "name": "stdout",
     "output_type": "stream",
     "text": [
      "Epoch: 006, Average Loss: 0.5907\n",
      "Validation: {'precision': 0.6632403328406107, 'recall': 0.5355731225275274, 'f1': 0.592608785782301, 'auc': 0.7664327017587886, 'prauc': 0.6661661480482051}\n",
      "Test:       {'precision': 0.6521956087791807, 'recall': 0.5163966811516539, 'f1': 0.5764057282513072, 'auc': 0.7638034725093966, 'prauc': 0.6517003738512064}\n"
     ]
    },
    {
     "name": "stderr",
     "output_type": "stream",
     "text": [
      "Training Batches: 100%|██████████| 1/1 [00:01<00:00,  1.02s/it]\n",
      "Running inference: 100%|██████████| 1/1 [00:02<00:00,  2.35s/it]\n",
      "Running inference: 100%|██████████| 1/1 [00:01<00:00,  1.70s/it]\n"
     ]
    },
    {
     "name": "stdout",
     "output_type": "stream",
     "text": [
      "Epoch: 007, Average Loss: 0.5818\n",
      "Validation: {'precision': 0.6611531190895031, 'recall': 0.5529644268752848, 'f1': 0.6022384797551467, 'auc': 0.7673085931781585, 'prauc': 0.6671354930640344}\n",
      "Test:       {'precision': 0.64917395529325, 'recall': 0.52785460292166, 'f1': 0.5822619257544394, 'auc': 0.7646673954336489, 'prauc': 0.6529205710757026}\n"
     ]
    },
    {
     "name": "stderr",
     "output_type": "stream",
     "text": [
      "Training Batches: 100%|██████████| 1/1 [00:01<00:00,  1.31s/it]\n",
      "Running inference: 100%|██████████| 1/1 [00:02<00:00,  2.46s/it]\n",
      "Running inference: 100%|██████████| 1/1 [00:01<00:00,  1.75s/it]\n"
     ]
    },
    {
     "name": "stdout",
     "output_type": "stream",
     "text": [
      "Epoch: 008, Average Loss: 0.5772\n",
      "Validation: {'precision': 0.6575785582224696, 'recall': 0.5624505928831524, 'f1': 0.6063059174820117, 'auc': 0.7683274776753037, 'prauc': 0.6683062106035719}\n",
      "Test:       {'precision': 0.6537911301828623, 'recall': 0.5416831291958053, 'f1': 0.5924805481961207, 'auc': 0.7656113228565837, 'prauc': 0.6541172247680176}\n"
     ]
    },
    {
     "name": "stderr",
     "output_type": "stream",
     "text": [
      "Training Batches: 100%|██████████| 1/1 [00:01<00:00,  1.35s/it]\n",
      "Running inference: 100%|██████████| 1/1 [00:02<00:00,  2.08s/it]\n",
      "Running inference: 100%|██████████| 1/1 [00:02<00:00,  2.08s/it]\n"
     ]
    },
    {
     "name": "stdout",
     "output_type": "stream",
     "text": [
      "Epoch: 009, Average Loss: 0.5754\n",
      "Validation: {'precision': 0.6575911398216078, 'recall': 0.5632411067171413, 'f1': 0.6067702739287064, 'auc': 0.7692146621494448, 'prauc': 0.6692857694385562}\n",
      "Test:       {'precision': 0.6577437858477163, 'recall': 0.5436586329492546, 'f1': 0.5952844423710864, 'auc': 0.7664102159461741, 'prauc': 0.6546627175129531}\n"
     ]
    },
    {
     "name": "stderr",
     "output_type": "stream",
     "text": [
      "Training Batches: 100%|██████████| 1/1 [00:01<00:00,  1.33s/it]\n",
      "Running inference: 100%|██████████| 1/1 [00:02<00:00,  2.11s/it]\n",
      "Running inference: 100%|██████████| 1/1 [00:02<00:00,  2.06s/it]\n"
     ]
    },
    {
     "name": "stdout",
     "output_type": "stream",
     "text": [
      "Epoch: 010, Average Loss: 0.5742\n",
      "Validation: {'precision': 0.6544549977356199, 'recall': 0.57193675889102, 'f1': 0.6104197376903844, 'auc': 0.7698640650814564, 'prauc': 0.6700758957581263}\n",
      "Test:       {'precision': 0.6547674964741439, 'recall': 0.5507704464616722, 'f1': 0.5982832568372165, 'auc': 0.7671364347921972, 'prauc': 0.6553217194153317}\n"
     ]
    },
    {
     "name": "stderr",
     "output_type": "stream",
     "text": [
      "Training Batches: 100%|██████████| 1/1 [00:01<00:00,  1.03s/it]\n",
      "Running inference: 100%|██████████| 1/1 [00:02<00:00,  2.34s/it]\n",
      "Running inference: 100%|██████████| 1/1 [00:02<00:00,  2.05s/it]\n"
     ]
    },
    {
     "name": "stdout",
     "output_type": "stream",
     "text": [
      "Epoch: 011, Average Loss: 0.5714\n",
      "Validation: {'precision': 0.6557526148219384, 'recall': 0.5699604743060476, 'f1': 0.6098540867960758, 'auc': 0.7704263128176172, 'prauc': 0.6709832831589666}\n",
      "Test:       {'precision': 0.658031088079802, 'recall': 0.5519557487137418, 'f1': 0.6003437853237716, 'auc': 0.7678198240047633, 'prauc': 0.6555625805948944}\n"
     ]
    },
    {
     "name": "stderr",
     "output_type": "stream",
     "text": [
      "Training Batches: 100%|██████████| 1/1 [00:01<00:00,  1.34s/it]\n",
      "Running inference: 100%|██████████| 1/1 [00:02<00:00,  2.10s/it]\n",
      "Running inference: 100%|██████████| 1/1 [00:02<00:00,  2.07s/it]\n"
     ]
    },
    {
     "name": "stdout",
     "output_type": "stream",
     "text": [
      "Epoch: 012, Average Loss: 0.5699\n",
      "Validation: {'precision': 0.6601307189511666, 'recall': 0.558893280630202, 'f1': 0.6053082142099759, 'auc': 0.7705010770228161, 'prauc': 0.6710937480152508}\n",
      "Test:       {'precision': 0.6619786614904851, 'recall': 0.5393125246916661, 'f1': 0.5943827514179327, 'auc': 0.7679528157761332, 'prauc': 0.6548395287476345}\n"
     ]
    },
    {
     "name": "stderr",
     "output_type": "stream",
     "text": [
      "Training Batches: 100%|██████████| 1/1 [00:00<00:00,  1.40it/s]\n",
      "Running inference: 100%|██████████| 1/1 [00:02<00:00,  2.31s/it]\n",
      "Running inference: 100%|██████████| 1/1 [00:02<00:00,  2.35s/it]\n"
     ]
    },
    {
     "name": "stdout",
     "output_type": "stream",
     "text": [
      "Epoch: 013, Average Loss: 0.5679\n",
      "Validation: {'precision': 0.6601031411127046, 'recall': 0.5565217391282351, 'f1': 0.6039030617289132, 'auc': 0.7703509212204864, 'prauc': 0.6711519766001368}\n",
      "Test:       {'precision': 0.6643835616405852, 'recall': 0.536546819436837, 'f1': 0.5936611972398532, 'auc': 0.767966533824991, 'prauc': 0.6543820204935096}\n"
     ]
    },
    {
     "name": "stderr",
     "output_type": "stream",
     "text": [
      "Training Batches: 100%|██████████| 1/1 [00:01<00:00,  1.31s/it]\n",
      "Running inference: 100%|██████████| 1/1 [00:02<00:00,  2.39s/it]\n",
      "Running inference: 100%|██████████| 1/1 [00:01<00:00,  1.75s/it]\n"
     ]
    },
    {
     "name": "stdout",
     "output_type": "stream",
     "text": [
      "Epoch: 014, Average Loss: 0.5677\n",
      "Validation: {'precision': 0.661736641218217, 'recall': 0.5482213438713509, 'f1': 0.5996541238784244, 'auc': 0.7703088859610598, 'prauc': 0.6709793594350351}\n",
      "Test:       {'precision': 0.665334665331342, 'recall': 0.5262741999189006, 'f1': 0.5876902664089825, 'auc': 0.7677722820644469, 'prauc': 0.6537774280052124}\n"
     ]
    },
    {
     "name": "stderr",
     "output_type": "stream",
     "text": [
      "Training Batches: 100%|██████████| 1/1 [00:01<00:00,  1.33s/it]\n",
      "Running inference: 100%|██████████| 1/1 [00:02<00:00,  2.39s/it]\n",
      "Running inference: 100%|██████████| 1/1 [00:01<00:00,  1.76s/it]\n"
     ]
    },
    {
     "name": "stdout",
     "output_type": "stream",
     "text": [
      "Epoch: 015, Average Loss: 0.5656\n",
      "Validation: {'precision': 0.6611687087622, 'recall': 0.5545454545432627, 'f1': 0.6031814223789452, 'auc': 0.770267373528243, 'prauc': 0.6708444335590692}\n",
      "Test:       {'precision': 0.662882527143816, 'recall': 0.5306203081764891, 'f1': 0.5894228609793788, 'auc': 0.7676700773645597, 'prauc': 0.6537256645143461}\n"
     ]
    },
    {
     "name": "stderr",
     "output_type": "stream",
     "text": [
      "Training Batches: 100%|██████████| 1/1 [00:01<00:00,  1.32s/it]\n",
      "Running inference: 100%|██████████| 1/1 [00:02<00:00,  2.06s/it]\n",
      "Running inference: 100%|██████████| 1/1 [00:02<00:00,  2.36s/it]\n"
     ]
    },
    {
     "name": "stdout",
     "output_type": "stream",
     "text": [
      "Epoch: 016, Average Loss: 0.5654\n",
      "Validation: {'precision': 0.6562216167090998, 'recall': 0.571146245057031, 'f1': 0.6107354134491679, 'auc': 0.770178545287241, 'prauc': 0.6710061111735774}\n",
      "Test:       {'precision': 0.6592522479855218, 'recall': 0.5503753457109823, 'f1': 0.5999138623936521, 'auc': 0.7677314420716641, 'prauc': 0.6539297076048878}\n"
     ]
    },
    {
     "name": "stderr",
     "output_type": "stream",
     "text": [
      "Training Batches: 100%|██████████| 1/1 [00:00<00:00,  1.42it/s]\n",
      "Running inference: 100%|██████████| 1/1 [00:02<00:00,  2.33s/it]\n",
      "Running inference: 100%|██████████| 1/1 [00:02<00:00,  2.37s/it]\n"
     ]
    },
    {
     "name": "stdout",
     "output_type": "stream",
     "text": [
      "Epoch: 017, Average Loss: 0.5635\n",
      "Validation: {'precision': 0.6552643269628821, 'recall': 0.5830039525668657, 'f1': 0.6170257218498362, 'auc': 0.770870401739967, 'prauc': 0.6714909663173585}\n",
      "Test:       {'precision': 0.6578458681492209, 'recall': 0.5598577637275391, 'f1': 0.604909279981769, 'auc': 0.7683905890833861, 'prauc': 0.654475869546107}\n"
     ]
    },
    {
     "name": "stderr",
     "output_type": "stream",
     "text": [
      "Training Batches: 100%|██████████| 1/1 [00:01<00:00,  1.03s/it]\n",
      "Running inference: 100%|██████████| 1/1 [00:02<00:00,  2.36s/it]\n",
      "Running inference: 100%|██████████| 1/1 [00:02<00:00,  2.42s/it]\n"
     ]
    },
    {
     "name": "stdout",
     "output_type": "stream",
     "text": [
      "Epoch: 018, Average Loss: 0.5630\n",
      "Validation: {'precision': 0.6567495559473502, 'recall': 0.5845849802348435, 'f1': 0.6185696311498193, 'auc': 0.7717684087249304, 'prauc': 0.6721555901364099}\n",
      "Test:       {'precision': 0.6596736596705843, 'recall': 0.5590675622261594, 'f1': 0.6052181301897382, 'auc': 0.768944128062489, 'prauc': 0.6548794324135533}\n"
     ]
    },
    {
     "name": "stderr",
     "output_type": "stream",
     "text": [
      "Training Batches: 100%|██████████| 1/1 [00:00<00:00,  1.40it/s]\n",
      "Running inference: 100%|██████████| 1/1 [00:02<00:00,  2.40s/it]\n",
      "Running inference: 100%|██████████| 1/1 [00:02<00:00,  2.06s/it]\n"
     ]
    },
    {
     "name": "stdout",
     "output_type": "stream",
     "text": [
      "Epoch: 019, Average Loss: 0.5604\n",
      "Validation: {'precision': 0.6551724137902071, 'recall': 0.585770750985827, 'f1': 0.6185308798210708, 'auc': 0.7728081017211452, 'prauc': 0.6726799695501636}\n",
      "Test:       {'precision': 0.6609302325550654, 'recall': 0.5614381667302986, 'f1': 0.6071352225460181, 'auc': 0.7695278781644581, 'prauc': 0.65533868404827}\n"
     ]
    },
    {
     "name": "stderr",
     "output_type": "stream",
     "text": [
      "Training Batches: 100%|██████████| 1/1 [00:00<00:00,  1.40it/s]\n",
      "Running inference: 100%|██████████| 1/1 [00:02<00:00,  2.36s/it]\n",
      "Running inference: 100%|██████████| 1/1 [00:02<00:00,  2.33s/it]\n"
     ]
    },
    {
     "name": "stdout",
     "output_type": "stream",
     "text": [
      "Epoch: 020, Average Loss: 0.5614\n",
      "Validation: {'precision': 0.650834403078088, 'recall': 0.6011857707486119, 'f1': 0.6250256781776796, 'auc': 0.7727327101240146, 'prauc': 0.6725432017321749}\n",
      "Test:       {'precision': 0.6586129753885521, 'recall': 0.5815883050154816, 'f1': 0.6177087654741007, 'auc': 0.7697798295045489, 'prauc': 0.6551962038829773}\n"
     ]
    },
    {
     "name": "stderr",
     "output_type": "stream",
     "text": [
      "Training Batches: 100%|██████████| 1/1 [00:01<00:00,  1.02s/it]\n",
      "Running inference: 100%|██████████| 1/1 [00:02<00:00,  2.39s/it]\n",
      "Running inference: 100%|██████████| 1/1 [00:02<00:00,  2.43s/it]\n"
     ]
    },
    {
     "name": "stdout",
     "output_type": "stream",
     "text": [
      "Epoch: 021, Average Loss: 0.5592\n",
      "Validation: {'precision': 0.6469601677121721, 'recall': 0.6098814229224906, 'f1': 0.6278738505460493, 'auc': 0.7722838111968546, 'prauc': 0.6722533186502495}\n",
      "Test:       {'precision': 0.6562911003916866, 'recall': 0.5914658237827284, 'f1': 0.6221945087266205, 'auc': 0.7696766823432899, 'prauc': 0.6550322010191034}\n"
     ]
    },
    {
     "name": "stderr",
     "output_type": "stream",
     "text": [
      "Training Batches: 100%|██████████| 1/1 [00:00<00:00,  1.40it/s]\n",
      "Running inference: 100%|██████████| 1/1 [00:02<00:00,  2.33s/it]\n",
      "Running inference: 100%|██████████| 1/1 [00:02<00:00,  2.40s/it]\n"
     ]
    },
    {
     "name": "stdout",
     "output_type": "stream",
     "text": [
      "Epoch: 022, Average Loss: 0.5584\n",
      "Validation: {'precision': 0.6473817567540229, 'recall': 0.6059288537525458, 'f1': 0.6259697785880505, 'auc': 0.7718269653052262, 'prauc': 0.6717496314431302}\n",
      "Test:       {'precision': 0.6529072347951491, 'recall': 0.5811932042647918, 'f1': 0.6149665501982596, 'auc': 0.7695286111899695, 'prauc': 0.6544061248092057}\n"
     ]
    },
    {
     "name": "stderr",
     "output_type": "stream",
     "text": [
      "Training Batches: 100%|██████████| 1/1 [00:00<00:00,  1.42it/s]\n",
      "Running inference: 100%|██████████| 1/1 [00:02<00:00,  2.38s/it]\n",
      "Running inference: 100%|██████████| 1/1 [00:02<00:00,  2.05s/it]\n"
     ]
    },
    {
     "name": "stdout",
     "output_type": "stream",
     "text": [
      "Epoch: 023, Average Loss: 0.5556\n",
      "Validation: {'precision': 0.6496130696446707, 'recall': 0.5972332015786671, 'f1': 0.6223228945120274, 'auc': 0.7717239684630989, 'prauc': 0.6715098406570696}\n",
      "Test:       {'precision': 0.6559963931440217, 'recall': 0.574871592253754, 'f1': 0.6127605761941234, 'auc': 0.769530810266504, 'prauc': 0.6539171019114463}\n"
     ]
    },
    {
     "name": "stderr",
     "output_type": "stream",
     "text": [
      "Training Batches: 100%|██████████| 1/1 [00:00<00:00,  1.42it/s]\n",
      "Running inference: 100%|██████████| 1/1 [00:02<00:00,  2.38s/it]\n",
      "Running inference: 100%|██████████| 1/1 [00:02<00:00,  2.38s/it]\n"
     ]
    },
    {
     "name": "stdout",
     "output_type": "stream",
     "text": [
      "Epoch: 024, Average Loss: 0.5559\n",
      "Validation: {'precision': 0.6490322580617246, 'recall': 0.5964426877446781, 'f1': 0.6216271834718534, 'auc': 0.7718623083840476, 'prauc': 0.6712346564239864}\n",
      "Test:       {'precision': 0.6586582048927532, 'recall': 0.5740813907523743, 'f1': 0.6134684349618368, 'auc': 0.7698550169784416, 'prauc': 0.6537044727473578}\n"
     ]
    },
    {
     "name": "stderr",
     "output_type": "stream",
     "text": [
      "Training Batches: 100%|██████████| 1/1 [00:01<00:00,  1.01s/it]\n",
      "Running inference: 100%|██████████| 1/1 [00:02<00:00,  2.31s/it]\n",
      "Running inference: 100%|██████████| 1/1 [00:02<00:00,  2.36s/it]\n"
     ]
    },
    {
     "name": "stdout",
     "output_type": "stream",
     "text": [
      "Epoch: 025, Average Loss: 0.5552\n",
      "Validation: {'precision': 0.6461731493072097, 'recall': 0.6106719367564796, 'f1': 0.627921149238381, 'auc': 0.771993851559069, 'prauc': 0.6707876241756432}\n",
      "Test:       {'precision': 0.6575221238908959, 'recall': 0.5871197155251399, 'f1': 0.6203297800269753, 'auc': 0.7702016856864098, 'prauc': 0.6535729498143781}\n"
     ]
    },
    {
     "name": "stderr",
     "output_type": "stream",
     "text": [
      "Training Batches: 100%|██████████| 1/1 [00:00<00:00,  1.43it/s]\n",
      "Running inference: 100%|██████████| 1/1 [00:02<00:00,  2.38s/it]\n",
      "Running inference: 100%|██████████| 1/1 [00:02<00:00,  2.39s/it]\n"
     ]
    },
    {
     "name": "stdout",
     "output_type": "stream",
     "text": [
      "Epoch: 026, Average Loss: 0.5529\n",
      "Validation: {'precision': 0.6393312101885377, 'recall': 0.6347826086931432, 'f1': 0.6370487851601707, 'auc': 0.7720810067549198, 'prauc': 0.6704428941155067}\n",
      "Test:       {'precision': 0.6550126368969882, 'recall': 0.6143816673227405, 'f1': 0.6340468859301622, 'auc': 0.7705029068126656, 'prauc': 0.6529342516532632}\n"
     ]
    },
    {
     "name": "stderr",
     "output_type": "stream",
     "text": [
      "Training Batches: 100%|██████████| 1/1 [00:00<00:00,  1.39it/s]\n",
      "Running inference: 100%|██████████| 1/1 [00:02<00:00,  2.39s/it]\n",
      "Running inference: 100%|██████████| 1/1 [00:02<00:00,  2.11s/it]\n"
     ]
    },
    {
     "name": "stdout",
     "output_type": "stream",
     "text": [
      "Epoch: 027, Average Loss: 0.5537\n",
      "Validation: {'precision': 0.6398104265377574, 'recall': 0.6403162055310659, 'f1': 0.6400632111175826, 'auc': 0.7726282493673797, 'prauc': 0.6707021613349146}\n",
      "Test:       {'precision': 0.654185948672048, 'recall': 0.6143816673227405, 'f1': 0.6336593267056821, 'auc': 0.7707941273765866, 'prauc': 0.6525555853988138}\n"
     ]
    },
    {
     "name": "stderr",
     "output_type": "stream",
     "text": [
      "Training Batches: 100%|██████████| 1/1 [00:00<00:00,  1.43it/s]\n",
      "Running inference: 100%|██████████| 1/1 [00:02<00:00,  2.38s/it]\n",
      "Running inference: 100%|██████████| 1/1 [00:02<00:00,  2.37s/it]\n"
     ]
    },
    {
     "name": "stdout",
     "output_type": "stream",
     "text": [
      "Epoch: 028, Average Loss: 0.5510\n",
      "Validation: {'precision': 0.6397934868918197, 'recall': 0.6367588932781156, 'f1': 0.6382725781987675, 'auc': 0.7727297822949997, 'prauc': 0.6710272347261446}\n",
      "Test:       {'precision': 0.6546610169463786, 'recall': 0.6104306598158419, 'f1': 0.6317726386346877, 'auc': 0.7708942377178696, 'prauc': 0.6525809843753982}\n"
     ]
    },
    {
     "name": "stderr",
     "output_type": "stream",
     "text": [
      "Training Batches: 100%|██████████| 1/1 [00:01<00:00,  1.01s/it]\n",
      "Running inference: 100%|██████████| 1/1 [00:02<00:00,  2.35s/it]\n",
      "Running inference: 100%|██████████| 1/1 [00:02<00:00,  2.39s/it]\n"
     ]
    },
    {
     "name": "stdout",
     "output_type": "stream",
     "text": [
      "Epoch: 029, Average Loss: 0.5520\n",
      "Validation: {'precision': 0.6400785854591746, 'recall': 0.6438735177840164, 'f1': 0.6419704383472675, 'auc': 0.7728716774368949, 'prauc': 0.6701883426511942}\n",
      "Test:       {'precision': 0.6550712489494759, 'recall': 0.6175424733282594, 'f1': 0.6357535032384921, 'auc': 0.771418979266164, 'prauc': 0.6520467324160548}\n"
     ]
    },
    {
     "name": "stderr",
     "output_type": "stream",
     "text": [
      "Training Batches: 100%|██████████| 1/1 [00:00<00:00,  1.42it/s]\n",
      "Running inference: 100%|██████████| 1/1 [00:02<00:00,  2.32s/it]\n",
      "Running inference: 100%|██████████| 1/1 [00:02<00:00,  2.38s/it]\n"
     ]
    },
    {
     "name": "stdout",
     "output_type": "stream",
     "text": [
      "Epoch: 030, Average Loss: 0.5479\n",
      "Validation: {'precision': 0.6424911312548581, 'recall': 0.6442687747010108, 'f1': 0.6433787200813462, 'auc': 0.7731048581048581, 'prauc': 0.6681440310024411}\n",
      "Test:       {'precision': 0.6549413735315958, 'recall': 0.6179375740789493, 'f1': 0.6359016010191234, 'auc': 0.7718981685148161, 'prauc': 0.6508001527613289}\n"
     ]
    },
    {
     "name": "stderr",
     "output_type": "stream",
     "text": [
      "Training Batches: 100%|██████████| 1/1 [00:00<00:00,  1.40it/s]\n",
      "Running inference: 100%|██████████| 1/1 [00:02<00:00,  2.41s/it]\n",
      "Running inference: 100%|██████████| 1/1 [00:02<00:00,  2.12s/it]\n"
     ]
    },
    {
     "name": "stdout",
     "output_type": "stream",
     "text": [
      "Epoch: 031, Average Loss: 0.5469\n",
      "Validation: {'precision': 0.6513535684960978, 'recall': 0.6276679841872425, 'f1': 0.6392914603775631, 'auc': 0.7735808394504047, 'prauc': 0.6651827516743763}\n",
      "Test:       {'precision': 0.6598874945882307, 'recall': 0.6025286448020446, 'f1': 0.629904992942458, 'auc': 0.7721079185290314, 'prauc': 0.6496717187250126}\n"
     ]
    },
    {
     "name": "stderr",
     "output_type": "stream",
     "text": [
      "Training Batches: 100%|██████████| 1/1 [00:00<00:00,  1.39it/s]\n",
      "Running inference: 100%|██████████| 1/1 [00:02<00:00,  2.35s/it]\n",
      "Running inference: 100%|██████████| 1/1 [00:02<00:00,  2.36s/it]\n"
     ]
    },
    {
     "name": "stdout",
     "output_type": "stream",
     "text": [
      "Epoch: 032, Average Loss: 0.5505\n",
      "Validation: {'precision': 0.6426614481383849, 'recall': 0.6490118577049446, 'f1': 0.6458210372788, 'auc': 0.7727716084237823, 'prauc': 0.6665945656090488}\n",
      "Test:       {'precision': 0.6528411447505067, 'recall': 0.6218885815858479, 'f1': 0.6369890682500666, 'auc': 0.7720773408934094, 'prauc': 0.6501219195033481}\n"
     ]
    },
    {
     "name": "stderr",
     "output_type": "stream",
     "text": [
      "Training Batches: 100%|██████████| 1/1 [00:00<00:00,  1.00it/s]\n",
      "Running inference: 100%|██████████| 1/1 [00:02<00:00,  2.34s/it]\n",
      "Running inference: 100%|██████████| 1/1 [00:02<00:00,  2.40s/it]\n"
     ]
    },
    {
     "name": "stdout",
     "output_type": "stream",
     "text": [
      "Epoch: 033, Average Loss: 0.5433\n",
      "Validation: {'precision': 0.639103554866155, 'recall': 0.6537549407088785, 'f1': 0.6463462239938179, 'auc': 0.7721737039128344, 'prauc': 0.6674860957684777}\n",
      "Test:       {'precision': 0.6508001641335626, 'recall': 0.6266297905941264, 'f1': 0.6384863073985756, 'auc': 0.7717726640754564, 'prauc': 0.6505349422886257}\n"
     ]
    },
    {
     "name": "stderr",
     "output_type": "stream",
     "text": [
      "Training Batches: 100%|██████████| 1/1 [00:00<00:00,  1.39it/s]\n",
      "Running inference: 100%|██████████| 1/1 [00:02<00:00,  2.38s/it]\n",
      "Running inference: 100%|██████████| 1/1 [00:02<00:00,  2.43s/it]\n"
     ]
    },
    {
     "name": "stdout",
     "output_type": "stream",
     "text": [
      "Epoch: 034, Average Loss: 0.5440\n",
      "Validation: {'precision': 0.6379044684104858, 'recall': 0.6545454545428674, 'f1': 0.6461178256654949, 'auc': 0.7714014890101847, 'prauc': 0.6679111994540268}\n",
      "Test:       {'precision': 0.6506172839479398, 'recall': 0.624654286840677, 'f1': 0.6373714926814219, 'auc': 0.7712896002633864, 'prauc': 0.6507695049435582}\n"
     ]
    },
    {
     "name": "stderr",
     "output_type": "stream",
     "text": [
      "Training Batches: 100%|██████████| 1/1 [00:00<00:00,  1.39it/s]\n",
      "Running inference: 100%|██████████| 1/1 [00:02<00:00,  2.37s/it]\n",
      "Running inference: 100%|██████████| 1/1 [00:02<00:00,  2.09s/it]\n"
     ]
    },
    {
     "name": "stdout",
     "output_type": "stream",
     "text": [
      "Epoch: 035, Average Loss: 0.5444\n",
      "Validation: {'precision': 0.6353928298984157, 'recall': 0.6584980237128123, 'f1': 0.6467391254338665, 'auc': 0.7710209758035844, 'prauc': 0.6664049089649664}\n",
      "Test:       {'precision': 0.6492295214896625, 'recall': 0.6325563018544743, 'f1': 0.6407844656806908, 'auc': 0.7714730137181536, 'prauc': 0.6504326878396512}\n"
     ]
    },
    {
     "name": "stderr",
     "output_type": "stream",
     "text": [
      "Training Batches: 100%|██████████| 1/1 [00:00<00:00,  1.38it/s]\n",
      "Running inference: 100%|██████████| 1/1 [00:02<00:00,  2.36s/it]\n",
      "Running inference: 100%|██████████| 1/1 [00:02<00:00,  2.37s/it]\n"
     ]
    },
    {
     "name": "stdout",
     "output_type": "stream",
     "text": [
      "Epoch: 036, Average Loss: 0.5426\n",
      "Validation: {'precision': 0.635949943114767, 'recall': 0.6628458497997516, 'f1': 0.649119406650493, 'auc': 0.770971673254282, 'prauc': 0.6626309257377754}\n",
      "Test:       {'precision': 0.6508447304881302, 'recall': 0.639273014616202, 'f1': 0.6450069712784768, 'auc': 0.7716243311273105, 'prauc': 0.6489396182265367}\n"
     ]
    },
    {
     "name": "stderr",
     "output_type": "stream",
     "text": [
      "Training Batches: 100%|██████████| 1/1 [00:00<00:00,  1.01it/s]\n",
      "Running inference: 100%|██████████| 1/1 [00:02<00:00,  2.33s/it]\n",
      "Running inference: 100%|██████████| 1/1 [00:02<00:00,  2.37s/it]\n"
     ]
    },
    {
     "name": "stdout",
     "output_type": "stream",
     "text": [
      "Epoch: 037, Average Loss: 0.5451\n",
      "Validation: {'precision': 0.6392996108924541, 'recall': 0.6494071146219391, 'f1': 0.644313720487977, 'auc': 0.7712553066900892, 'prauc': 0.6648936521109078}\n",
      "Test:       {'precision': 0.6544393497263258, 'recall': 0.6203081785830885, 'f1': 0.6369168307007979, 'auc': 0.7711731015660253, 'prauc': 0.6503269729947818}\n"
     ]
    },
    {
     "name": "stderr",
     "output_type": "stream",
     "text": [
      "Training Batches: 100%|██████████| 1/1 [00:00<00:00,  1.41it/s]\n",
      "Running inference: 100%|██████████| 1/1 [00:02<00:00,  2.34s/it]\n",
      "Running inference: 100%|██████████| 1/1 [00:02<00:00,  2.40s/it]\n"
     ]
    },
    {
     "name": "stdout",
     "output_type": "stream",
     "text": [
      "Epoch: 038, Average Loss: 0.5440\n",
      "Validation: {'precision': 0.6358778625929928, 'recall': 0.6584980237128123, 'f1': 0.6469902862611504, 'auc': 0.7700520735303344, 'prauc': 0.6617652310543681}\n",
      "Test:       {'precision': 0.6488022736473862, 'recall': 0.6313709996024047, 'f1': 0.6399679565522288, 'auc': 0.770487722712785, 'prauc': 0.6494792933934251}\n"
     ]
    },
    {
     "name": "stderr",
     "output_type": "stream",
     "text": [
      "Training Batches: 100%|██████████| 1/1 [00:00<00:00,  1.40it/s]\n",
      "Running inference: 100%|██████████| 1/1 [00:02<00:00,  2.40s/it]\n",
      "Running inference: 100%|██████████| 1/1 [00:02<00:00,  2.10s/it]\n"
     ]
    },
    {
     "name": "stdout",
     "output_type": "stream",
     "text": [
      "Epoch: 039, Average Loss: 0.5365\n",
      "Validation: {'precision': 0.6357414448645029, 'recall': 0.6608695652147792, 'f1': 0.6480620105032421, 'auc': 0.769455319237928, 'prauc': 0.6596593132786536}\n",
      "Test:       {'precision': 0.6490306946661994, 'recall': 0.6349269063586135, 'f1': 0.641901333124662, 'auc': 0.7702321062451366, 'prauc': 0.6485262066378068}\n"
     ]
    },
    {
     "name": "stderr",
     "output_type": "stream",
     "text": [
      "Training Batches: 100%|██████████| 1/1 [00:00<00:00,  1.41it/s]\n",
      "Running inference: 100%|██████████| 1/1 [00:02<00:00,  2.37s/it]\n",
      "Running inference: 100%|██████████| 1/1 [00:02<00:00,  2.37s/it]\n"
     ]
    },
    {
     "name": "stdout",
     "output_type": "stream",
     "text": [
      "Epoch: 040, Average Loss: 0.5348\n",
      "Validation: {'precision': 0.6394399066486214, 'recall': 0.6498023715389336, 'f1': 0.644579489214616, 'auc': 0.7696443733400254, 'prauc': 0.6584343896754499}\n",
      "Test:       {'precision': 0.6498761354225852, 'recall': 0.6218885815858479, 'f1': 0.635574394353782, 'auc': 0.7709896357522932, 'prauc': 0.6482403093431502}\n"
     ]
    },
    {
     "name": "stderr",
     "output_type": "stream",
     "text": [
      "Training Batches: 100%|██████████| 1/1 [00:01<00:00,  1.03s/it]\n",
      "Running inference: 100%|██████████| 1/1 [00:02<00:00,  2.32s/it]\n",
      "Running inference: 100%|██████████| 1/1 [00:02<00:00,  2.40s/it]\n"
     ]
    },
    {
     "name": "stdout",
     "output_type": "stream",
     "text": [
      "Epoch: 041, Average Loss: 0.5330\n",
      "Validation: {'precision': 0.6405331242624832, 'recall': 0.6458498023689888, 'f1': 0.6431804712817498, 'auc': 0.7700194491498839, 'prauc': 0.6571897335602793}\n",
      "Test:       {'precision': 0.6540722082256336, 'recall': 0.6155669695748102, 'f1': 0.6342356962029126, 'auc': 0.7720092742387713, 'prauc': 0.6479777117787409}\n"
     ]
    },
    {
     "name": "stderr",
     "output_type": "stream",
     "text": [
      "Training Batches: 100%|██████████| 1/1 [00:00<00:00,  1.41it/s]\n",
      "Running inference: 100%|██████████| 1/1 [00:02<00:00,  2.34s/it]\n",
      "Running inference: 100%|██████████| 1/1 [00:02<00:00,  2.43s/it]\n"
     ]
    },
    {
     "name": "stdout",
     "output_type": "stream",
     "text": [
      "Epoch: 042, Average Loss: 0.5308\n",
      "Validation: {'precision': 0.63806970509139, 'recall': 0.6584980237128123, 'f1': 0.6481229282801827, 'auc': 0.7701747286529894, 'prauc': 0.6549616616430523}\n",
      "Test:       {'precision': 0.6505530520251923, 'recall': 0.627419992095506, 'f1': 0.6387771470505572, 'auc': 0.7725488857331558, 'prauc': 0.6470681879241993}\n"
     ]
    },
    {
     "name": "stderr",
     "output_type": "stream",
     "text": [
      "Training Batches: 100%|██████████| 1/1 [00:00<00:00,  1.39it/s]\n",
      "Running inference: 100%|██████████| 1/1 [00:02<00:00,  2.42s/it]\n",
      "Running inference: 100%|██████████| 1/1 [00:02<00:00,  2.05s/it]\n"
     ]
    },
    {
     "name": "stdout",
     "output_type": "stream",
     "text": [
      "Epoch: 043, Average Loss: 0.5326\n",
      "Validation: {'precision': 0.6349981224159407, 'recall': 0.6683794466376745, 'f1': 0.6512613083071456, 'auc': 0.7706692180605224, 'prauc': 0.6550929291040206}\n",
      "Test:       {'precision': 0.6495589414568983, 'recall': 0.6400632161175818, 'f1': 0.6447761144006899, 'auc': 0.7726193609001888, 'prauc': 0.6477789316844108}\n"
     ]
    },
    {
     "name": "stderr",
     "output_type": "stream",
     "text": [
      "Training Batches: 100%|██████████| 1/1 [00:00<00:00,  1.43it/s]\n",
      "Running inference: 100%|██████████| 1/1 [00:02<00:00,  2.34s/it]\n",
      "Running inference: 100%|██████████| 1/1 [00:02<00:00,  2.33s/it]\n"
     ]
    },
    {
     "name": "stdout",
     "output_type": "stream",
     "text": [
      "Epoch: 044, Average Loss: 0.5273\n",
      "Validation: {'precision': 0.6387802971046178, 'recall': 0.6458498023689888, 'f1': 0.6422955924819035, 'auc': 0.7719785850220633, 'prauc': 0.660281150833236}\n",
      "Test:       {'precision': 0.653556485352914, 'recall': 0.6171473725775696, 'f1': 0.6348303140423702, 'auc': 0.7729232523336651, 'prauc': 0.6500566574744795}\n"
     ]
    },
    {
     "name": "stderr",
     "output_type": "stream",
     "text": [
      "Training Batches: 100%|██████████| 1/1 [00:01<00:00,  1.00s/it]\n",
      "Running inference: 100%|██████████| 1/1 [00:02<00:00,  2.40s/it]\n",
      "Running inference: 100%|██████████| 1/1 [00:02<00:00,  2.41s/it]\n"
     ]
    },
    {
     "name": "stdout",
     "output_type": "stream",
     "text": [
      "Epoch: 045, Average Loss: 0.5327\n",
      "Validation: {'precision': 0.631559220387438, 'recall': 0.6660079051357075, 'f1': 0.6483262743392367, 'auc': 0.7697987640378944, 'prauc': 0.651752496698741}\n",
      "Test:       {'precision': 0.647999999997408, 'recall': 0.6400632161175818, 'f1': 0.6440071506326924, 'auc': 0.771674909887603, 'prauc': 0.6467935869698892}\n"
     ]
    },
    {
     "name": "stderr",
     "output_type": "stream",
     "text": [
      "Training Batches: 100%|██████████| 1/1 [00:00<00:00,  1.42it/s]\n",
      "Running inference: 100%|██████████| 1/1 [00:02<00:00,  2.34s/it]\n",
      "Running inference: 100%|██████████| 1/1 [00:02<00:00,  2.44s/it]\n"
     ]
    },
    {
     "name": "stdout",
     "output_type": "stream",
     "text": [
      "Epoch: 046, Average Loss: 0.5232\n",
      "Validation: {'precision': 0.6309255078983036, 'recall': 0.6628458497997516, 'f1': 0.6464918993953086, 'auc': 0.7684738691260429, 'prauc': 0.6457990935393407}\n",
      "Test:       {'precision': 0.6489318823029064, 'recall': 0.6361122086106831, 'f1': 0.6424580955565932, 'auc': 0.770592231207137, 'prauc': 0.6442190224113706}\n"
     ]
    },
    {
     "name": "stderr",
     "output_type": "stream",
     "text": [
      "Training Batches: 100%|██████████| 1/1 [00:00<00:00,  1.43it/s]\n",
      "Running inference: 100%|██████████| 1/1 [00:02<00:00,  2.40s/it]\n",
      "Running inference: 100%|██████████| 1/1 [00:02<00:00,  2.11s/it]\n"
     ]
    },
    {
     "name": "stdout",
     "output_type": "stream",
     "text": [
      "Epoch: 047, Average Loss: 0.5242\n",
      "Validation: {'precision': 0.6464981350988541, 'recall': 0.6166007905113968, 'f1': 0.6311956251843461, 'auc': 0.7714071355375703, 'prauc': 0.65647086920317}\n",
      "Test:       {'precision': 0.6639821029053066, 'recall': 0.5863295140237601, 'f1': 0.6227444347984606, 'auc': 0.771985398550683, 'prauc': 0.6482848362848062}\n"
     ]
    },
    {
     "name": "stderr",
     "output_type": "stream",
     "text": [
      "Training Batches: 100%|██████████| 1/1 [00:00<00:00,  1.40it/s]\n",
      "Running inference: 100%|██████████| 1/1 [00:02<00:00,  2.34s/it]\n",
      "Running inference: 100%|██████████| 1/1 [00:02<00:00,  2.37s/it]\n"
     ]
    },
    {
     "name": "stdout",
     "output_type": "stream",
     "text": [
      "Epoch: 048, Average Loss: 0.5198\n",
      "Validation: {'precision': 0.6512515910027524, 'recall': 0.6067193675865348, 'f1': 0.6281972530352071, 'auc': 0.7703966162661815, 'prauc': 0.6573236538497919}\n",
      "Test:       {'precision': 0.6645101663555245, 'recall': 0.5681548794920263, 'f1': 0.6125665551983361, 'auc': 0.770890049000661, 'prauc': 0.6477472570895375}\n"
     ]
    },
    {
     "name": "stderr",
     "output_type": "stream",
     "text": [
      "Training Batches: 100%|██████████| 1/1 [00:01<00:00,  1.01s/it]\n",
      "Running inference: 100%|██████████| 1/1 [00:02<00:00,  2.37s/it]\n",
      "Running inference: 100%|██████████| 1/1 [00:02<00:00,  2.44s/it]\n"
     ]
    },
    {
     "name": "stdout",
     "output_type": "stream",
     "text": [
      "Epoch: 049, Average Loss: 0.5223\n",
      "Validation: {'precision': 0.6376415462684981, 'recall': 0.6454545454519943, 'f1': 0.6415242534930492, 'auc': 0.7678580839450405, 'prauc': 0.6477787691784583}\n",
      "Test:       {'precision': 0.6507399577139504, 'recall': 0.6080600553117027, 'f1': 0.6286764655914151, 'auc': 0.7698584726701387, 'prauc': 0.6442346884550936}\n"
     ]
    },
    {
     "name": "stderr",
     "output_type": "stream",
     "text": [
      "Training Batches: 100%|██████████| 1/1 [00:00<00:00,  1.42it/s]\n",
      "Running inference: 100%|██████████| 1/1 [00:02<00:00,  2.36s/it]\n",
      "Running inference: 100%|██████████| 1/1 [00:02<00:00,  2.42s/it]\n"
     ]
    },
    {
     "name": "stdout",
     "output_type": "stream",
     "text": [
      "Epoch: 050, Average Loss: 0.5148\n",
      "Validation: {'precision': 0.6275787187816592, 'recall': 0.6853754940684372, 'f1': 0.655204982726843, 'auc': 0.7663496246104942, 'prauc': 0.6400737279383305}\n",
      "Test:       {'precision': 0.6408775981499581, 'recall': 0.6578427498986257, 'f1': 0.6492493613465377, 'auc': 0.7689798892356565, 'prauc': 0.6410020818629242}\n"
     ]
    },
    {
     "name": "stderr",
     "output_type": "stream",
     "text": [
      "Training Batches: 100%|██████████| 1/1 [00:00<00:00,  1.40it/s]\n",
      "Running inference: 100%|██████████| 1/1 [00:02<00:00,  2.40s/it]\n",
      "Running inference: 100%|██████████| 1/1 [00:02<00:00,  2.10s/it]\n"
     ]
    },
    {
     "name": "stdout",
     "output_type": "stream",
     "text": [
      "Epoch: 051, Average Loss: 0.5138\n",
      "Validation: {'precision': 0.6343283582065884, 'recall': 0.6719367588906248, 'f1': 0.6525911658269755, 'auc': 0.768985298115733, 'prauc': 0.6465893908731241}\n",
      "Test:       {'precision': 0.6449189402900557, 'recall': 0.6444093243751703, 'f1': 0.6446640266180061, 'auc': 0.7718308348856893, 'prauc': 0.6451244883831745}\n"
     ]
    },
    {
     "name": "stderr",
     "output_type": "stream",
     "text": [
      "Training Batches: 100%|██████████| 1/1 [00:00<00:00,  1.42it/s]\n",
      "Running inference: 100%|██████████| 1/1 [00:02<00:00,  2.33s/it]\n",
      "Running inference: 100%|██████████| 1/1 [00:02<00:00,  2.34s/it]\n"
     ]
    },
    {
     "name": "stdout",
     "output_type": "stream",
     "text": [
      "Epoch: 052, Average Loss: 0.5135\n",
      "Validation: {'precision': 0.6433677521817182, 'recall': 0.6403162055310659, 'f1': 0.6418383468199894, 'auc': 0.7702279524018654, 'prauc': 0.6505480624170218}\n",
      "Test:       {'precision': 0.6540404040376514, 'recall': 0.6139865665720506, 'f1': 0.633380879453192, 'auc': 0.772593809725217, 'prauc': 0.6453591463632916}\n"
     ]
    },
    {
     "name": "stderr",
     "output_type": "stream",
     "text": [
      "Training Batches: 100%|██████████| 1/1 [00:01<00:00,  1.02s/it]\n",
      "Running inference: 100%|██████████| 1/1 [00:02<00:00,  2.34s/it]\n",
      "Running inference: 100%|██████████| 1/1 [00:02<00:00,  2.38s/it]\n"
     ]
    },
    {
     "name": "stdout",
     "output_type": "stream",
     "text": [
      "Epoch: 053, Average Loss: 0.5109\n",
      "Validation: {'precision': 0.6332547169786429, 'recall': 0.6367588932781156, 'f1': 0.6350019658292262, 'auc': 0.7623308655917351, 'prauc': 0.6309907499697732}\n",
      "Test:       {'precision': 0.6536997885807455, 'recall': 0.6108257605665317, 'f1': 0.6315359427155863, 'auc': 0.7677953200090937, 'prauc': 0.635712524312726}\n"
     ]
    },
    {
     "name": "stderr",
     "output_type": "stream",
     "text": [
      "Training Batches: 100%|██████████| 1/1 [00:00<00:00,  1.42it/s]\n",
      "Running inference: 100%|██████████| 1/1 [00:02<00:00,  2.35s/it]\n",
      "Running inference: 100%|██████████| 1/1 [00:02<00:00,  2.43s/it]\n"
     ]
    },
    {
     "name": "stdout",
     "output_type": "stream",
     "text": [
      "Epoch: 054, Average Loss: 0.5011\n",
      "Validation: {'precision': 0.6075539568323469, 'recall': 0.6675889328036855, 'f1': 0.6361581870990826, 'auc': 0.7442559131689566, 'prauc': 0.5951692697414782}\n",
      "Test:       {'precision': 0.6186666666643099, 'recall': 0.6416436191203412, 'f1': 0.6299456893359136, 'auc': 0.7517609105349694, 'prauc': 0.6137269147941771}\n"
     ]
    },
    {
     "name": "stderr",
     "output_type": "stream",
     "text": [
      "Training Batches: 100%|██████████| 1/1 [00:00<00:00,  1.41it/s]\n",
      "Running inference: 100%|██████████| 1/1 [00:02<00:00,  2.40s/it]\n",
      "Running inference: 100%|██████████| 1/1 [00:02<00:00,  2.08s/it]\n"
     ]
    },
    {
     "name": "stdout",
     "output_type": "stream",
     "text": [
      "Epoch: 055, Average Loss: 0.5118\n",
      "Validation: {'precision': 0.634052388287234, 'recall': 0.6505928853729226, 'f1': 0.64221614794409, 'auc': 0.763958529393312, 'prauc': 0.6329522940181265}\n",
      "Test:       {'precision': 0.6431753746430006, 'recall': 0.627419992095506, 'f1': 0.6351999949982281, 'auc': 0.7649297662077961, 'prauc': 0.6351929681754738}\n"
     ]
    },
    {
     "name": "stderr",
     "output_type": "stream",
     "text": [
      "Training Batches: 100%|██████████| 1/1 [00:00<00:00,  1.39it/s]\n",
      "Running inference: 100%|██████████| 1/1 [00:02<00:00,  2.33s/it]\n",
      "Running inference: 100%|██████████| 1/1 [00:02<00:00,  2.40s/it]\n"
     ]
    },
    {
     "name": "stdout",
     "output_type": "stream",
     "text": [
      "Epoch: 056, Average Loss: 0.4986\n",
      "Validation: {'precision': 0.6416767432461037, 'recall': 0.6292490118552204, 'f1': 0.6354021103441805, 'auc': 0.7698868080389818, 'prauc': 0.652642840067491}\n",
      "Test:       {'precision': 0.6496539792359445, 'recall': 0.5934413275361776, 'f1': 0.6202766830109665, 'auc': 0.7688353784919634, 'prauc': 0.6455426964237941}\n"
     ]
    },
    {
     "name": "stderr",
     "output_type": "stream",
     "text": [
      "Training Batches: 100%|██████████| 1/1 [00:01<00:00,  1.03s/it]\n",
      "Running inference: 100%|██████████| 1/1 [00:02<00:00,  2.36s/it]\n",
      "Running inference: 100%|██████████| 1/1 [00:02<00:00,  2.43s/it]\n"
     ]
    },
    {
     "name": "stdout",
     "output_type": "stream",
     "text": [
      "Epoch: 057, Average Loss: 0.4956\n",
      "Validation: {'precision': 0.6465661641513963, 'recall': 0.6102766798394851, 'f1': 0.6278975143184106, 'auc': 0.7702332852332854, 'prauc': 0.6508455429228925}\n",
      "Test:       {'precision': 0.6566156615632016, 'recall': 0.5764519952565135, 'f1': 0.6139280404635313, 'auc': 0.7692012629401255, 'prauc': 0.6449715540345597}\n"
     ]
    },
    {
     "name": "stderr",
     "output_type": "stream",
     "text": [
      "Training Batches: 100%|██████████| 1/1 [00:00<00:00,  1.40it/s]\n",
      "Running inference: 100%|██████████| 1/1 [00:02<00:00,  2.36s/it]\n",
      "Running inference: 100%|██████████| 1/1 [00:02<00:00,  2.41s/it]\n"
     ]
    },
    {
     "name": "stdout",
     "output_type": "stream",
     "text": [
      "Epoch: 058, Average Loss: 0.4917\n",
      "Validation: {'precision': 0.6430446194197592, 'recall': 0.5810276679818932, 'f1': 0.6104651112893692, 'auc': 0.7640594349290002, 'prauc': 0.6334061468023925}\n",
      "Test:       {'precision': 0.6517939282398721, 'recall': 0.5598577637275391, 'f1': 0.6023379333896692, 'auc': 0.7650658471581072, 'prauc': 0.6348170704080554}\n"
     ]
    },
    {
     "name": "stderr",
     "output_type": "stream",
     "text": [
      "Training Batches: 100%|██████████| 1/1 [00:00<00:00,  1.43it/s]\n",
      "Running inference: 100%|██████████| 1/1 [00:02<00:00,  2.43s/it]\n",
      "Running inference: 100%|██████████| 1/1 [00:02<00:00,  2.09s/it]\n"
     ]
    },
    {
     "name": "stdout",
     "output_type": "stream",
     "text": [
      "Epoch: 059, Average Loss: 0.4883\n",
      "Validation: {'precision': 0.630333755806378, 'recall': 0.5897233201557719, 'f1': 0.6093526598999268, 'auc': 0.7586706610619653, 'prauc': 0.624026387953458}\n",
      "Test:       {'precision': 0.6384379113618323, 'recall': 0.574871592253754, 'f1': 0.6049896000008135, 'auc': 0.7608928376391426, 'prauc': 0.6270417618780846}\n"
     ]
    },
    {
     "name": "stderr",
     "output_type": "stream",
     "text": [
      "Training Batches: 100%|██████████| 1/1 [00:00<00:00,  1.41it/s]\n",
      "Running inference: 100%|██████████| 1/1 [00:02<00:00,  2.36s/it]\n",
      "Running inference: 100%|██████████| 1/1 [00:02<00:00,  2.40s/it]\n"
     ]
    },
    {
     "name": "stdout",
     "output_type": "stream",
     "text": [
      "Epoch: 060, Average Loss: 0.4864\n",
      "Validation: {'precision': 0.6359983929263319, 'recall': 0.62569169960227, 'f1': 0.6308029437924006, 'auc': 0.7634981282807369, 'prauc': 0.6386785511744822}\n",
      "Test:       {'precision': 0.645585738537158, 'recall': 0.6009482417992851, 'f1': 0.6224677666429065, 'auc': 0.765774682827715, 'prauc': 0.637294880289286}\n",
      "\n",
      "Early stopping triggered after 60 epochs (no improvement for 10 epochs).\n",
      "\n",
      "Best validation performance:\n",
      "{'precision': 0.6275787187816592, 'recall': 0.6853754940684372, 'f1': 0.655204982726843, 'auc': 0.7663496246104942, 'prauc': 0.6400737279383305}\n",
      "Corresponding test performance:\n",
      "{'precision': 0.6408775981499581, 'recall': 0.6578427498986257, 'f1': 0.6492493613465377, 'auc': 0.7689798892356565, 'prauc': 0.6410020818629242}\n",
      "Corresponding test-long performance:\n",
      "{'precision': 0.7794117646954624, 'recall': 0.8969230769092781, 'f1': 0.834048635928232, 'auc': 0.5223076923076923, 'prauc': 0.7646519712812683}\n",
      "[INFO] Random seed set to 3460967357\n",
      "Training with seed: 3460967357\n"
     ]
    },
    {
     "name": "stderr",
     "output_type": "stream",
     "text": [
      "Training Batches: 100%|██████████| 1/1 [00:01<00:00,  1.02s/it]\n",
      "Running inference: 100%|██████████| 1/1 [00:02<00:00,  2.35s/it]\n",
      "Running inference: 100%|██████████| 1/1 [00:02<00:00,  2.35s/it]\n"
     ]
    },
    {
     "name": "stdout",
     "output_type": "stream",
     "text": [
      "Epoch: 001, Average Loss: 0.6894\n",
      "Validation: {'precision': 0.6777277840231849, 'recall': 0.47628458497835463, 'f1': 0.5594243219835547, 'auc': 0.7631385281385281, 'prauc': 0.6602408027835261}\n",
      "Test:       {'precision': 0.6643796455079224, 'recall': 0.45910707230162345, 'f1': 0.5429906493699855, 'auc': 0.7596203053512014, 'prauc': 0.6465846257678396}\n"
     ]
    },
    {
     "name": "stderr",
     "output_type": "stream",
     "text": [
      "Training Batches: 100%|██████████| 1/1 [00:01<00:00,  1.02s/it]\n",
      "Running inference: 100%|██████████| 1/1 [00:02<00:00,  2.05s/it]\n",
      "Running inference: 100%|██████████| 1/1 [00:02<00:00,  2.04s/it]\n"
     ]
    },
    {
     "name": "stdout",
     "output_type": "stream",
     "text": [
      "Epoch: 002, Average Loss: 0.6644\n",
      "Validation: {'precision': 0.6694257630591339, 'recall': 0.5114624505908638, 'f1': 0.5798790002403532, 'auc': 0.7634991739339565, 'prauc': 0.6607263303026589}\n",
      "Test:       {'precision': 0.6538663861091327, 'recall': 0.49111023310750257, 'f1': 0.5609205727158277, 'auc': 0.7604406656164855, 'prauc': 0.6470872804851309}\n"
     ]
    },
    {
     "name": "stderr",
     "output_type": "stream",
     "text": [
      "Training Batches: 100%|██████████| 1/1 [00:01<00:00,  1.30s/it]\n",
      "Running inference: 100%|██████████| 1/1 [00:02<00:00,  2.05s/it]\n",
      "Running inference: 100%|██████████| 1/1 [00:02<00:00,  2.37s/it]\n"
     ]
    },
    {
     "name": "stdout",
     "output_type": "stream",
     "text": [
      "Epoch: 003, Average Loss: 0.6440\n",
      "Validation: {'precision': 0.6648379052335919, 'recall': 0.5268774703536487, 'f1': 0.5878721009078565, 'auc': 0.7640170859736077, 'prauc': 0.6617038350453612}\n",
      "Test:       {'precision': 0.6551898734144042, 'recall': 0.5112603713926857, 'f1': 0.5743453124282157, 'auc': 0.7608820516923308, 'prauc': 0.6474732267376594}\n"
     ]
    },
    {
     "name": "stderr",
     "output_type": "stream",
     "text": [
      "Training Batches: 100%|██████████| 1/1 [00:00<00:00,  1.00it/s]\n",
      "Running inference: 100%|██████████| 1/1 [00:02<00:00,  2.36s/it]\n",
      "Running inference: 100%|██████████| 1/1 [00:02<00:00,  2.06s/it]\n"
     ]
    },
    {
     "name": "stdout",
     "output_type": "stream",
     "text": [
      "Epoch: 004, Average Loss: 0.6244\n",
      "Validation: {'precision': 0.6580829756764041, 'recall': 0.5454545454523896, 'f1': 0.5964988063660415, 'auc': 0.764667377710856, 'prauc': 0.6627542137616377}\n",
      "Test:       {'precision': 0.6512301012993188, 'recall': 0.5333860134313181, 'f1': 0.5864465632484965, 'auc': 0.7614205636484481, 'prauc': 0.6486346242938854}\n"
     ]
    },
    {
     "name": "stderr",
     "output_type": "stream",
     "text": [
      "Training Batches: 100%|██████████| 1/1 [00:01<00:00,  1.31s/it]\n",
      "Running inference: 100%|██████████| 1/1 [00:02<00:00,  2.07s/it]\n",
      "Running inference: 100%|██████████| 1/1 [00:02<00:00,  2.07s/it]\n"
     ]
    },
    {
     "name": "stdout",
     "output_type": "stream",
     "text": [
      "Epoch: 005, Average Loss: 0.6059\n",
      "Validation: {'precision': 0.6573394495382692, 'recall': 0.5664031620530973, 'f1': 0.6084925640271492, 'auc': 0.7653835978835979, 'prauc': 0.6637324130366226}\n",
      "Test:       {'precision': 0.648510242082642, 'recall': 0.5503753457109823, 'f1': 0.5954263681876137, 'auc': 0.7620651548678705, 'prauc': 0.6499446446540323}\n"
     ]
    },
    {
     "name": "stderr",
     "output_type": "stream",
     "text": [
      "Training Batches: 100%|██████████| 1/1 [00:01<00:00,  1.32s/it]\n",
      "Running inference: 100%|██████████| 1/1 [00:02<00:00,  2.07s/it]\n",
      "Running inference: 100%|██████████| 1/1 [00:02<00:00,  2.08s/it]\n"
     ]
    },
    {
     "name": "stdout",
     "output_type": "stream",
     "text": [
      "Epoch: 006, Average Loss: 0.5927\n",
      "Validation: {'precision': 0.6543985637313537, 'recall': 0.5762845849779594, 'f1': 0.6128625423063443, 'auc': 0.7659717255369429, 'prauc': 0.664464797057863}\n",
      "Test:       {'precision': 0.6473296500891007, 'recall': 0.5555116554699506, 'f1': 0.5979162187136003, 'auc': 0.7626844567071469, 'prauc': 0.6506478303764667}\n"
     ]
    },
    {
     "name": "stderr",
     "output_type": "stream",
     "text": [
      "Training Batches: 100%|██████████| 1/1 [00:01<00:00,  1.00s/it]\n",
      "Running inference: 100%|██████████| 1/1 [00:02<00:00,  2.04s/it]\n",
      "Running inference: 100%|██████████| 1/1 [00:02<00:00,  2.33s/it]\n"
     ]
    },
    {
     "name": "stdout",
     "output_type": "stream",
     "text": [
      "Epoch: 007, Average Loss: 0.5841\n",
      "Validation: {'precision': 0.6513882767710384, 'recall': 0.5841897233178491, 'f1': 0.615961653691114, 'auc': 0.7665683752640274, 'prauc': 0.6653059783768569}\n",
      "Test:       {'precision': 0.6474852741248415, 'recall': 0.5645989727358175, 'f1': 0.6032080997063565, 'auc': 0.7632346447124828, 'prauc': 0.6512921907131386}\n"
     ]
    },
    {
     "name": "stderr",
     "output_type": "stream",
     "text": [
      "Training Batches: 100%|██████████| 1/1 [00:01<00:00,  1.30s/it]\n",
      "Running inference: 100%|██████████| 1/1 [00:02<00:00,  2.00s/it]\n",
      "Running inference: 100%|██████████| 1/1 [00:02<00:00,  2.33s/it]\n"
     ]
    },
    {
     "name": "stdout",
     "output_type": "stream",
     "text": [
      "Epoch: 008, Average Loss: 0.5788\n",
      "Validation: {'precision': 0.6503889369029802, 'recall': 0.5948616600767002, 'f1': 0.6213872782443706, 'auc': 0.7671514314992576, 'prauc': 0.6661379428777933}\n",
      "Test:       {'precision': 0.6479185119546151, 'recall': 0.5780323982592729, 'f1': 0.6109834988767162, 'auc': 0.7637268189844812, 'prauc': 0.6521147750527212}\n"
     ]
    },
    {
     "name": "stderr",
     "output_type": "stream",
     "text": [
      "Training Batches: 100%|██████████| 1/1 [00:01<00:00,  1.01s/it]\n",
      "Running inference: 100%|██████████| 1/1 [00:02<00:00,  2.36s/it]\n",
      "Running inference: 100%|██████████| 1/1 [00:02<00:00,  2.04s/it]\n"
     ]
    },
    {
     "name": "stdout",
     "output_type": "stream",
     "text": [
      "Epoch: 009, Average Loss: 0.5769\n",
      "Validation: {'precision': 0.6491379310316848, 'recall': 0.5952569169936947, 'f1': 0.6210309228418647, 'auc': 0.7675597590814981, 'prauc': 0.6665453971194162}\n",
      "Test:       {'precision': 0.6458149779707233, 'recall': 0.5792177005113425, 'f1': 0.6107060979074632, 'auc': 0.7641756400333715, 'prauc': 0.6524688393133494}\n"
     ]
    },
    {
     "name": "stderr",
     "output_type": "stream",
     "text": [
      "Training Batches: 100%|██████████| 1/1 [00:01<00:00,  1.33s/it]\n",
      "Running inference: 100%|██████████| 1/1 [00:02<00:00,  2.07s/it]\n",
      "Running inference: 100%|██████████| 1/1 [00:02<00:00,  2.37s/it]\n"
     ]
    },
    {
     "name": "stdout",
     "output_type": "stream",
     "text": [
      "Epoch: 010, Average Loss: 0.5762\n",
      "Validation: {'precision': 0.6501933820341633, 'recall': 0.5980237154126561, 'f1': 0.6230183190745239, 'auc': 0.767803814542945, 'prauc': 0.6669126318086901}\n",
      "Test:       {'precision': 0.646384479714963, 'recall': 0.5792177005113425, 'f1': 0.6109606118076364, 'auc': 0.764521942228584, 'prauc': 0.6527185303825369}\n"
     ]
    },
    {
     "name": "stderr",
     "output_type": "stream",
     "text": [
      "Training Batches: 100%|██████████| 1/1 [00:01<00:00,  1.02s/it]\n",
      "Running inference: 100%|██████████| 1/1 [00:02<00:00,  2.35s/it]\n",
      "Running inference: 100%|██████████| 1/1 [00:02<00:00,  2.35s/it]\n"
     ]
    },
    {
     "name": "stdout",
     "output_type": "stream",
     "text": [
      "Epoch: 011, Average Loss: 0.5745\n",
      "Validation: {'precision': 0.6501933820341633, 'recall': 0.5980237154126561, 'f1': 0.6230183190745239, 'auc': 0.7679013739883305, 'prauc': 0.6672646843738621}\n",
      "Test:       {'precision': 0.6474217717027438, 'recall': 0.5804030027634121, 'f1': 0.6120833283456798, 'auc': 0.7647210110139177, 'prauc': 0.6526896825001713}\n"
     ]
    },
    {
     "name": "stderr",
     "output_type": "stream",
     "text": [
      "Training Batches: 100%|██████████| 1/1 [00:01<00:00,  1.00s/it]\n",
      "Running inference: 100%|██████████| 1/1 [00:02<00:00,  2.04s/it]\n",
      "Running inference: 100%|██████████| 1/1 [00:02<00:00,  2.37s/it]\n"
     ]
    },
    {
     "name": "stdout",
     "output_type": "stream",
     "text": [
      "Epoch: 012, Average Loss: 0.5722\n",
      "Validation: {'precision': 0.6492056676657398, 'recall': 0.5976284584956616, 'f1': 0.6223502728409399, 'auc': 0.7677832151745195, 'prauc': 0.6673316266927438}\n",
      "Test:       {'precision': 0.6472406180986877, 'recall': 0.5792177005113425, 'f1': 0.6113427806675436, 'auc': 0.7648477197094746, 'prauc': 0.6524174061434949}\n"
     ]
    },
    {
     "name": "stderr",
     "output_type": "stream",
     "text": [
      "Training Batches: 100%|██████████| 1/1 [00:01<00:00,  1.33s/it]\n",
      "Running inference: 100%|██████████| 1/1 [00:02<00:00,  2.06s/it]\n",
      "Running inference: 100%|██████████| 1/1 [00:02<00:00,  2.38s/it]\n"
     ]
    },
    {
     "name": "stdout",
     "output_type": "stream",
     "text": [
      "Epoch: 013, Average Loss: 0.5711\n",
      "Validation: {'precision': 0.6503040834029092, 'recall': 0.5916996047407443, 'f1': 0.619619200306581, 'auc': 0.7678114478114477, 'prauc': 0.6674989457531229}\n",
      "Test:       {'precision': 0.6472433886120698, 'recall': 0.5705254839961654, 'f1': 0.6064678656598843, 'auc': 0.7649790359939611, 'prauc': 0.6522171067391606}\n"
     ]
    },
    {
     "name": "stderr",
     "output_type": "stream",
     "text": [
      "Training Batches: 100%|██████████| 1/1 [00:01<00:00,  1.02s/it]\n",
      "Running inference: 100%|██████████| 1/1 [00:02<00:00,  2.34s/it]\n",
      "Running inference: 100%|██████████| 1/1 [00:02<00:00,  2.05s/it]\n"
     ]
    },
    {
     "name": "stdout",
     "output_type": "stream",
     "text": [
      "Epoch: 014, Average Loss: 0.5689\n",
      "Validation: {'precision': 0.6516015796373339, 'recall': 0.5869565217368105, 'f1': 0.6175920099829801, 'auc': 0.7679076479076479, 'prauc': 0.6674801300305709}\n",
      "Test:       {'precision': 0.6479383778856007, 'recall': 0.5649940734865073, 'f1': 0.6036302187439234, 'auc': 0.7651308769927692, 'prauc': 0.6521197430606829}\n"
     ]
    },
    {
     "name": "stderr",
     "output_type": "stream",
     "text": [
      "Training Batches: 100%|██████████| 1/1 [00:01<00:00,  1.31s/it]\n",
      "Running inference: 100%|██████████| 1/1 [00:02<00:00,  2.04s/it]\n",
      "Running inference: 100%|██████████| 1/1 [00:02<00:00,  2.42s/it]\n"
     ]
    },
    {
     "name": "stdout",
     "output_type": "stream",
     "text": [
      "Epoch: 015, Average Loss: 0.5684\n",
      "Validation: {'precision': 0.6521929824532798, 'recall': 0.5877470355707994, 'f1': 0.6182952133061544, 'auc': 0.76797509254031, 'prauc': 0.6676857039574576}\n",
      "Test:       {'precision': 0.647804436393627, 'recall': 0.5653891742371973, 'f1': 0.603797463374957, 'auc': 0.7652203061051704, 'prauc': 0.6520224059338007}\n"
     ]
    },
    {
     "name": "stderr",
     "output_type": "stream",
     "text": [
      "Training Batches: 100%|██████████| 1/1 [00:01<00:00,  1.02s/it]\n",
      "Running inference: 100%|██████████| 1/1 [00:02<00:00,  2.35s/it]\n",
      "Running inference: 100%|██████████| 1/1 [00:02<00:00,  2.36s/it]\n"
     ]
    },
    {
     "name": "stdout",
     "output_type": "stream",
     "text": [
      "Epoch: 016, Average Loss: 0.5657\n",
      "Validation: {'precision': 0.6519650654993364, 'recall': 0.5901185770727664, 'f1': 0.6195020696986228, 'auc': 0.7682050316832926, 'prauc': 0.6679774688882828}\n",
      "Test:       {'precision': 0.6474040632024948, 'recall': 0.5665744764892668, 'f1': 0.6042983515303656, 'auc': 0.765503986978116, 'prauc': 0.6520943809493784}\n"
     ]
    },
    {
     "name": "stderr",
     "output_type": "stream",
     "text": [
      "Training Batches: 100%|██████████| 1/1 [00:00<00:00,  1.01it/s]\n",
      "Running inference: 100%|██████████| 1/1 [00:02<00:00,  2.05s/it]\n",
      "Running inference: 100%|██████████| 1/1 [00:02<00:00,  2.35s/it]\n"
     ]
    },
    {
     "name": "stdout",
     "output_type": "stream",
     "text": [
      "Epoch: 017, Average Loss: 0.5634\n",
      "Validation: {'precision': 0.6498490728734375, 'recall': 0.5956521739106891, 'f1': 0.6215714530394878, 'auc': 0.7685747746617312, 'prauc': 0.6684404283283889}\n",
      "Test:       {'precision': 0.6451323463407577, 'recall': 0.5681548794920263, 'f1': 0.6042016756898569, 'auc': 0.7659186176227919, 'prauc': 0.6522086101965516}\n"
     ]
    },
    {
     "name": "stderr",
     "output_type": "stream",
     "text": [
      "Training Batches: 100%|██████████| 1/1 [00:01<00:00,  1.29s/it]\n",
      "Running inference: 100%|██████████| 1/1 [00:02<00:00,  2.03s/it]\n",
      "Running inference: 100%|██████████| 1/1 [00:02<00:00,  2.37s/it]\n"
     ]
    },
    {
     "name": "stdout",
     "output_type": "stream",
     "text": [
      "Epoch: 018, Average Loss: 0.5632\n",
      "Validation: {'precision': 0.6463670726558322, 'recall': 0.6083003952545126, 'f1': 0.6267562564559293, 'auc': 0.7686026936026935, 'prauc': 0.6686591419469867}\n",
      "Test:       {'precision': 0.6464426014812464, 'recall': 0.5851442117716905, 'f1': 0.6142679336245211, 'auc': 0.7660768987743081, 'prauc': 0.6524000549602766}\n"
     ]
    },
    {
     "name": "stderr",
     "output_type": "stream",
     "text": [
      "Training Batches: 100%|██████████| 1/1 [00:01<00:00,  1.02s/it]\n",
      "Running inference: 100%|██████████| 1/1 [00:02<00:00,  2.36s/it]\n",
      "Running inference: 100%|██████████| 1/1 [00:02<00:00,  2.05s/it]\n"
     ]
    },
    {
     "name": "stdout",
     "output_type": "stream",
     "text": [
      "Epoch: 019, Average Loss: 0.5615\n",
      "Validation: {'precision': 0.646638655459468, 'recall': 0.6083003952545126, 'f1': 0.6268839053890785, 'auc': 0.768775435514566, 'prauc': 0.6689181270940506}\n",
      "Test:       {'precision': 0.6464426014812464, 'recall': 0.5851442117716905, 'f1': 0.6142679336245211, 'auc': 0.7663941941028516, 'prauc': 0.6524137161987753}\n"
     ]
    },
    {
     "name": "stderr",
     "output_type": "stream",
     "text": [
      "Training Batches: 100%|██████████| 1/1 [00:01<00:00,  1.29s/it]\n",
      "Running inference: 100%|██████████| 1/1 [00:02<00:00,  2.02s/it]\n",
      "Running inference: 100%|██████████| 1/1 [00:02<00:00,  2.36s/it]\n"
     ]
    },
    {
     "name": "stdout",
     "output_type": "stream",
     "text": [
      "Epoch: 020, Average Loss: 0.5590\n",
      "Validation: {'precision': 0.6458507963091121, 'recall': 0.6090909090885016, 'f1': 0.6269324604207795, 'auc': 0.7686610410523453, 'prauc': 0.6689362136811543}\n",
      "Test:       {'precision': 0.6454148471587536, 'recall': 0.5839589095196209, 'f1': 0.6131507935994556, 'auc': 0.7664930478289722, 'prauc': 0.6521208408870361}\n"
     ]
    },
    {
     "name": "stderr",
     "output_type": "stream",
     "text": [
      "Training Batches: 100%|██████████| 1/1 [00:01<00:00,  1.01s/it]\n",
      "Running inference: 100%|██████████| 1/1 [00:02<00:00,  2.31s/it]\n",
      "Running inference: 100%|██████████| 1/1 [00:02<00:00,  2.38s/it]\n"
     ]
    },
    {
     "name": "stdout",
     "output_type": "stream",
     "text": [
      "Epoch: 021, Average Loss: 0.5581\n",
      "Validation: {'precision': 0.643716300287666, 'recall': 0.613438735175441, 'f1': 0.6282129073662752, 'auc': 0.7675921743313047, 'prauc': 0.6679094459143373}\n",
      "Test:       {'precision': 0.6436238729040634, 'recall': 0.592256025284108, 'f1': 0.6168724229896383, 'auc': 0.7658449485588875, 'prauc': 0.6513155782737536}\n"
     ]
    },
    {
     "name": "stderr",
     "output_type": "stream",
     "text": [
      "Training Batches: 100%|██████████| 1/1 [00:01<00:00,  1.03s/it]\n",
      "Running inference: 100%|██████████| 1/1 [00:02<00:00,  2.00s/it]\n",
      "Running inference: 100%|██████████| 1/1 [00:02<00:00,  2.34s/it]\n"
     ]
    },
    {
     "name": "stdout",
     "output_type": "stream",
     "text": [
      "Epoch: 022, Average Loss: 0.5583\n",
      "Validation: {'precision': 0.6430338004919908, 'recall': 0.6166007905113968, 'f1': 0.6295399465735112, 'auc': 0.7678504506765377, 'prauc': 0.6682059838389749}\n",
      "Test:       {'precision': 0.64233888177276, 'recall': 0.5946266297882472, 'f1': 0.6175625719437642, 'auc': 0.7662019319829816, 'prauc': 0.6514436792553533}\n"
     ]
    },
    {
     "name": "stderr",
     "output_type": "stream",
     "text": [
      "Training Batches: 100%|██████████| 1/1 [00:01<00:00,  1.26s/it]\n",
      "Running inference: 100%|██████████| 1/1 [00:02<00:00,  2.07s/it]\n",
      "Running inference: 100%|██████████| 1/1 [00:02<00:00,  2.34s/it]\n"
     ]
    },
    {
     "name": "stdout",
     "output_type": "stream",
     "text": [
      "Epoch: 023, Average Loss: 0.5545\n",
      "Validation: {'precision': 0.6385880465277233, 'recall': 0.6292490118552204, 'f1': 0.6338841279860015, 'auc': 0.7681598594642073, 'prauc': 0.6688976845806587}\n",
      "Test:       {'precision': 0.6403838130970364, 'recall': 0.6064796523089432, 'f1': 0.6229707742219479, 'auc': 0.766633998163038, 'prauc': 0.651246131107733}\n"
     ]
    },
    {
     "name": "stderr",
     "output_type": "stream",
     "text": [
      "Training Batches: 100%|██████████| 1/1 [00:00<00:00,  1.01it/s]\n",
      "Running inference: 100%|██████████| 1/1 [00:02<00:00,  2.40s/it]\n",
      "Running inference: 100%|██████████| 1/1 [00:02<00:00,  2.07s/it]\n"
     ]
    },
    {
     "name": "stdout",
     "output_type": "stream",
     "text": [
      "Epoch: 024, Average Loss: 0.5535\n",
      "Validation: {'precision': 0.6384920634895298, 'recall': 0.6359683794441267, 'f1': 0.6372277177697733, 'auc': 0.7686096994792647, 'prauc': 0.6688453354068394}\n",
      "Test:       {'precision': 0.6407086938580935, 'recall': 0.6143816673227405, 'f1': 0.6272690551045508, 'auc': 0.7670998882345532, 'prauc': 0.6503660803082202}\n"
     ]
    },
    {
     "name": "stderr",
     "output_type": "stream",
     "text": [
      "Training Batches: 100%|██████████| 1/1 [00:01<00:00,  1.34s/it]\n",
      "Running inference: 100%|██████████| 1/1 [00:02<00:00,  2.06s/it]\n",
      "Running inference: 100%|██████████| 1/1 [00:02<00:00,  2.09s/it]\n"
     ]
    },
    {
     "name": "stdout",
     "output_type": "stream",
     "text": [
      "Epoch: 025, Average Loss: 0.5512\n",
      "Validation: {'precision': 0.634193299959052, 'recall': 0.6509881422899171, 'f1': 0.64248097802936, 'auc': 0.7681361231361232, 'prauc': 0.6682825206846235}\n",
      "Test:       {'precision': 0.6376753506988471, 'recall': 0.6286052943475756, 'f1': 0.6331078342337103, 'auc': 0.7668968401678713, 'prauc': 0.6493720144075545}\n"
     ]
    },
    {
     "name": "stderr",
     "output_type": "stream",
     "text": [
      "Training Batches: 100%|██████████| 1/1 [00:01<00:00,  1.04s/it]\n",
      "Running inference: 100%|██████████| 1/1 [00:02<00:00,  2.04s/it]\n",
      "Running inference: 100%|██████████| 1/1 [00:02<00:00,  2.38s/it]\n"
     ]
    },
    {
     "name": "stdout",
     "output_type": "stream",
     "text": [
      "Epoch: 026, Average Loss: 0.5519\n",
      "Validation: {'precision': 0.631399317403749, 'recall': 0.6581027667958178, 'f1': 0.6444745450286801, 'auc': 0.7666954221302048, 'prauc': 0.6674273566158236}\n",
      "Test:       {'precision': 0.6332807570952946, 'recall': 0.6345318056079237, 'f1': 0.6339056590985488, 'auc': 0.7659011820874116, 'prauc': 0.6483698966825604}\n"
     ]
    },
    {
     "name": "stderr",
     "output_type": "stream",
     "text": [
      "Training Batches: 100%|██████████| 1/1 [00:00<00:00,  1.02it/s]\n",
      "Running inference: 100%|██████████| 1/1 [00:02<00:00,  2.36s/it]\n",
      "Running inference: 100%|██████████| 1/1 [00:02<00:00,  2.43s/it]\n"
     ]
    },
    {
     "name": "stdout",
     "output_type": "stream",
     "text": [
      "Epoch: 027, Average Loss: 0.5525\n",
      "Validation: {'precision': 0.6374360990930499, 'recall': 0.6407114624480604, 'f1': 0.6390695790700545, 'auc': 0.767259133780873, 'prauc': 0.6680493294836255}\n",
      "Test:       {'precision': 0.6382365059718244, 'recall': 0.6120110628186013, 'f1': 0.6248487243260208, 'auc': 0.7663705802095887, 'prauc': 0.6497659830887861}\n"
     ]
    },
    {
     "name": "stderr",
     "output_type": "stream",
     "text": [
      "Training Batches: 100%|██████████| 1/1 [00:00<00:00,  1.40it/s]\n",
      "Running inference: 100%|██████████| 1/1 [00:02<00:00,  2.34s/it]\n",
      "Running inference: 100%|██████████| 1/1 [00:02<00:00,  2.39s/it]\n"
     ]
    },
    {
     "name": "stdout",
     "output_type": "stream",
     "text": [
      "Epoch: 028, Average Loss: 0.5564\n",
      "Validation: {'precision': 0.6375733855160957, 'recall': 0.6438735177840164, 'f1': 0.6407079595993709, 'auc': 0.7677800782148608, 'prauc': 0.6685067169247638}\n",
      "Test:       {'precision': 0.6407407407381039, 'recall': 0.6151718688241202, 'f1': 0.6276960240259479, 'auc': 0.7667196574299519, 'prauc': 0.6498356481696842}\n"
     ]
    },
    {
     "name": "stderr",
     "output_type": "stream",
     "text": [
      "Training Batches: 100%|██████████| 1/1 [00:00<00:00,  1.41it/s]\n",
      "Running inference: 100%|██████████| 1/1 [00:02<00:00,  2.39s/it]\n",
      "Running inference: 100%|██████████| 1/1 [00:02<00:00,  2.08s/it]\n"
     ]
    },
    {
     "name": "stdout",
     "output_type": "stream",
     "text": [
      "Epoch: 029, Average Loss: 0.5521\n",
      "Validation: {'precision': 0.6348357524803865, 'recall': 0.6569169960448343, 'f1': 0.6456876406865983, 'auc': 0.7685620176924525, 'prauc': 0.6676764694638273}\n",
      "Test:       {'precision': 0.637999999997448, 'recall': 0.6301856973503351, 'f1': 0.6340687686013267, 'auc': 0.7672006268834175, 'prauc': 0.6487568232449429}\n"
     ]
    },
    {
     "name": "stderr",
     "output_type": "stream",
     "text": [
      "Training Batches: 100%|██████████| 1/1 [00:01<00:00,  1.01s/it]\n",
      "Running inference: 100%|██████████| 1/1 [00:02<00:00,  2.05s/it]\n",
      "Running inference: 100%|██████████| 1/1 [00:02<00:00,  2.37s/it]\n"
     ]
    },
    {
     "name": "stdout",
     "output_type": "stream",
     "text": [
      "Epoch: 030, Average Loss: 0.5455\n",
      "Validation: {'precision': 0.6317554975749842, 'recall': 0.6699604743056523, 'f1': 0.6502973285909164, 'auc': 0.7684766923897359, 'prauc': 0.6623957504527379}\n",
      "Test:       {'precision': 0.6344505066226249, 'recall': 0.6432240221231007, 'f1': 0.6388071364534875, 'auc': 0.767047110397726, 'prauc': 0.6455872541730416}\n"
     ]
    },
    {
     "name": "stderr",
     "output_type": "stream",
     "text": [
      "Training Batches: 100%|██████████| 1/1 [00:01<00:00,  1.29s/it]\n",
      "Running inference: 100%|██████████| 1/1 [00:02<00:00,  2.07s/it]\n",
      "Running inference: 100%|██████████| 1/1 [00:02<00:00,  2.37s/it]\n"
     ]
    },
    {
     "name": "stdout",
     "output_type": "stream",
     "text": [
      "Epoch: 031, Average Loss: 0.5511\n",
      "Validation: {'precision': 0.6392429509438423, 'recall': 0.6541501976258729, 'f1': 0.6466106611438696, 'auc': 0.7701399084007781, 'prauc': 0.6659420155989816}\n",
      "Test:       {'precision': 0.6423653300905534, 'recall': 0.6266297905941264, 'f1': 0.6343999949982313, 'auc': 0.7678128079034391, 'prauc': 0.6478986356367022}\n"
     ]
    },
    {
     "name": "stderr",
     "output_type": "stream",
     "text": [
      "Training Batches: 100%|██████████| 1/1 [00:01<00:00,  1.01s/it]\n",
      "Running inference: 100%|██████████| 1/1 [00:02<00:00,  2.38s/it]\n",
      "Running inference: 100%|██████████| 1/1 [00:02<00:00,  2.06s/it]\n"
     ]
    },
    {
     "name": "stdout",
     "output_type": "stream",
     "text": [
      "Epoch: 032, Average Loss: 0.5451\n",
      "Validation: {'precision': 0.6428857715405095, 'recall': 0.6339920948591542, 'f1': 0.6384079551967067, 'auc': 0.7707524520567999, 'prauc': 0.6685301604831653}\n",
      "Test:       {'precision': 0.6462383770048764, 'recall': 0.604109047804804, 'f1': 0.6244639525281415, 'auc': 0.7677888274974206, 'prauc': 0.6491452269292861}\n"
     ]
    },
    {
     "name": "stderr",
     "output_type": "stream",
     "text": [
      "Training Batches: 100%|██████████| 1/1 [00:01<00:00,  1.33s/it]\n",
      "Running inference: 100%|██████████| 1/1 [00:02<00:00,  2.08s/it]\n",
      "Running inference: 100%|██████████| 1/1 [00:02<00:00,  2.36s/it]\n"
     ]
    },
    {
     "name": "stdout",
     "output_type": "stream",
     "text": [
      "Epoch: 033, Average Loss: 0.5439\n",
      "Validation: {'precision': 0.6440404040378019, 'recall': 0.6300395256892094, 'f1': 0.6369630319610956, 'auc': 0.7699849425936383, 'prauc': 0.6688503205861307}\n",
      "Test:       {'precision': 0.6436732966540682, 'recall': 0.6009482417992851, 'f1': 0.6215774367687789, 'auc': 0.7673810035182084, 'prauc': 0.6495647689614457}\n"
     ]
    },
    {
     "name": "stderr",
     "output_type": "stream",
     "text": [
      "Training Batches: 100%|██████████| 1/1 [00:01<00:00,  1.01s/it]\n",
      "Running inference: 100%|██████████| 1/1 [00:02<00:00,  2.30s/it]\n",
      "Running inference: 100%|██████████| 1/1 [00:02<00:00,  2.39s/it]\n"
     ]
    },
    {
     "name": "stdout",
     "output_type": "stream",
     "text": [
      "Epoch: 034, Average Loss: 0.5457\n",
      "Validation: {'precision': 0.6361206567367846, 'recall': 0.6584980237128123, 'f1': 0.6471159398426394, 'auc': 0.7684844302235606, 'prauc': 0.6676078071480764}\n",
      "Test:       {'precision': 0.637751004013503, 'recall': 0.627419992095506, 'f1': 0.6325433130619446, 'auc': 0.7668787239659445, 'prauc': 0.6494515903109277}\n"
     ]
    },
    {
     "name": "stderr",
     "output_type": "stream",
     "text": [
      "Training Batches: 100%|██████████| 1/1 [00:01<00:00,  1.03s/it]\n",
      "Running inference: 100%|██████████| 1/1 [00:02<00:00,  2.06s/it]\n",
      "Running inference: 100%|██████████| 1/1 [00:02<00:00,  2.34s/it]\n"
     ]
    },
    {
     "name": "stdout",
     "output_type": "stream",
     "text": [
      "Epoch: 035, Average Loss: 0.5388\n",
      "Validation: {'precision': 0.6270014556017941, 'recall': 0.6810276679814979, 'f1': 0.6528988203186745, 'auc': 0.7673736328084153, 'prauc': 0.6631004369113691}\n",
      "Test:       {'precision': 0.629196529609094, 'recall': 0.6590280521506953, 'f1': 0.6437668803726398, 'auc': 0.7667239508650905, 'prauc': 0.647458211184122}\n"
     ]
    },
    {
     "name": "stderr",
     "output_type": "stream",
     "text": [
      "Training Batches: 100%|██████████| 1/1 [00:01<00:00,  1.28s/it]\n",
      "Running inference: 100%|██████████| 1/1 [00:02<00:00,  2.02s/it]\n",
      "Running inference: 100%|██████████| 1/1 [00:02<00:00,  2.37s/it]\n"
     ]
    },
    {
     "name": "stdout",
     "output_type": "stream",
     "text": [
      "Epoch: 036, Average Loss: 0.5405\n",
      "Validation: {'precision': 0.6260338007888313, 'recall': 0.6881422924873987, 'f1': 0.6556204054775371, 'auc': 0.7674024928372755, 'prauc': 0.6534035976629908}\n",
      "Test:       {'precision': 0.6338983050823582, 'recall': 0.6649545634110433, 'f1': 0.6490551434770235, 'auc': 0.7672977527636895, 'prauc': 0.6435872965400156}\n"
     ]
    },
    {
     "name": "stderr",
     "output_type": "stream",
     "text": [
      "Training Batches: 100%|██████████| 1/1 [00:01<00:00,  1.01s/it]\n",
      "Running inference: 100%|██████████| 1/1 [00:02<00:00,  2.40s/it]\n",
      "Running inference: 100%|██████████| 1/1 [00:02<00:00,  2.08s/it]\n"
     ]
    },
    {
     "name": "stdout",
     "output_type": "stream",
     "text": [
      "Epoch: 037, Average Loss: 0.5361\n",
      "Validation: {'precision': 0.6254951386365665, 'recall': 0.6865612648194207, 'f1': 0.6546071176765381, 'auc': 0.7641452830583265, 'prauc': 0.6336954027595494}\n",
      "Test:       {'precision': 0.633496057076104, 'recall': 0.6665349664138027, 'f1': 0.6495956823322645, 'auc': 0.7657877725689916, 'prauc': 0.63467592763558}\n"
     ]
    },
    {
     "name": "stderr",
     "output_type": "stream",
     "text": [
      "Training Batches: 100%|██████████| 1/1 [00:01<00:00,  1.30s/it]\n",
      "Running inference: 100%|██████████| 1/1 [00:02<00:00,  2.06s/it]\n",
      "Running inference: 100%|██████████| 1/1 [00:02<00:00,  2.34s/it]\n"
     ]
    },
    {
     "name": "stdout",
     "output_type": "stream",
     "text": [
      "Epoch: 038, Average Loss: 0.5360\n",
      "Validation: {'precision': 0.629602624860993, 'recall': 0.6826086956494759, 'f1': 0.6550350793978609, 'auc': 0.7642271577054185, 'prauc': 0.6316743200441148}\n",
      "Test:       {'precision': 0.6356707317048945, 'recall': 0.6590280521506953, 'f1': 0.6471386952900964, 'auc': 0.7653747650522339, 'prauc': 0.6327091933676161}\n"
     ]
    },
    {
     "name": "stderr",
     "output_type": "stream",
     "text": [
      "Training Batches: 100%|██████████| 1/1 [00:00<00:00,  1.00it/s]\n",
      "Running inference: 100%|██████████| 1/1 [00:02<00:00,  2.35s/it]\n",
      "Running inference: 100%|██████████| 1/1 [00:02<00:00,  2.36s/it]\n"
     ]
    },
    {
     "name": "stdout",
     "output_type": "stream",
     "text": [
      "Epoch: 039, Average Loss: 0.5303\n",
      "Validation: {'precision': 0.6311926605481424, 'recall': 0.6798418972305145, 'f1': 0.6546146477160967, 'auc': 0.7644283413848632, 'prauc': 0.6335332474098947}\n",
      "Test:       {'precision': 0.6353211009150026, 'recall': 0.6566574476465561, 'f1': 0.6458130900056543, 'auc': 0.7646281262098193, 'prauc': 0.6320638908769158}\n"
     ]
    },
    {
     "name": "stderr",
     "output_type": "stream",
     "text": [
      "Training Batches: 100%|██████████| 1/1 [00:01<00:00,  1.01s/it]\n",
      "Running inference: 100%|██████████| 1/1 [00:02<00:00,  2.06s/it]\n",
      "Running inference: 100%|██████████| 1/1 [00:02<00:00,  2.35s/it]\n"
     ]
    },
    {
     "name": "stdout",
     "output_type": "stream",
     "text": [
      "Epoch: 040, Average Loss: 0.5290\n",
      "Validation: {'precision': 0.628126132654483, 'recall': 0.6849802371514427, 'f1': 0.6553223621840555, 'auc': 0.7642839366752411, 'prauc': 0.6354611558869043}\n",
      "Test:       {'precision': 0.6298919120364149, 'recall': 0.6677202686658723, 'f1': 0.648254693889373, 'auc': 0.7636544588947043, 'prauc': 0.6331152442812961}\n"
     ]
    },
    {
     "name": "stderr",
     "output_type": "stream",
     "text": [
      "Training Batches: 100%|██████████| 1/1 [00:01<00:00,  1.32s/it]\n",
      "Running inference: 100%|██████████| 1/1 [00:02<00:00,  2.06s/it]\n",
      "Running inference: 100%|██████████| 1/1 [00:02<00:00,  2.35s/it]\n"
     ]
    },
    {
     "name": "stdout",
     "output_type": "stream",
     "text": [
      "Epoch: 041, Average Loss: 0.5242\n",
      "Validation: {'precision': 0.6201604464575509, 'recall': 0.7027667984161946, 'f1': 0.658884560516405, 'auc': 0.7608554488989272, 'prauc': 0.6246157592169819}\n",
      "Test:       {'precision': 0.6240981240958727, 'recall': 0.683524298693467, 'f1': 0.6524608662128444, 'auc': 0.7613763203229333, 'prauc': 0.6267151988320645}\n"
     ]
    },
    {
     "name": "stderr",
     "output_type": "stream",
     "text": [
      "Training Batches: 100%|██████████| 1/1 [00:00<00:00,  1.01it/s]\n",
      "Running inference: 100%|██████████| 1/1 [00:02<00:00,  2.36s/it]\n",
      "Running inference: 100%|██████████| 1/1 [00:02<00:00,  2.06s/it]\n"
     ]
    },
    {
     "name": "stdout",
     "output_type": "stream",
     "text": [
      "Epoch: 042, Average Loss: 0.5317\n",
      "Validation: {'precision': 0.6239858906503564, 'recall': 0.6992094861632443, 'f1': 0.6594594544731608, 'auc': 0.7559796725014116, 'prauc': 0.6086721901174694}\n",
      "Test:       {'precision': 0.626099706742573, 'recall': 0.6748320821782899, 'f1': 0.649553141990665, 'auc': 0.7583760992633826, 'prauc': 0.6156356880904922}\n"
     ]
    },
    {
     "name": "stderr",
     "output_type": "stream",
     "text": [
      "Training Batches: 100%|██████████| 1/1 [00:01<00:00,  1.34s/it]\n",
      "Running inference: 100%|██████████| 1/1 [00:02<00:00,  2.06s/it]\n",
      "Running inference: 100%|██████████| 1/1 [00:02<00:00,  2.37s/it]\n"
     ]
    },
    {
     "name": "stdout",
     "output_type": "stream",
     "text": [
      "Epoch: 043, Average Loss: 0.5173\n",
      "Validation: {'precision': 0.6208580397606528, 'recall': 0.7035573122501836, 'f1': 0.6596257130085275, 'auc': 0.7500547922287053, 'prauc': 0.5962357829785612}\n",
      "Test:       {'precision': 0.6294659300160977, 'recall': 0.6752271829289798, 'f1': 0.6515440285530381, 'auc': 0.7549254340270233, 'prauc': 0.6067261961915726}\n"
     ]
    },
    {
     "name": "stderr",
     "output_type": "stream",
     "text": [
      "Training Batches: 100%|██████████| 1/1 [00:01<00:00,  1.01s/it]\n",
      "Running inference: 100%|██████████| 1/1 [00:02<00:00,  2.31s/it]\n",
      "Running inference: 100%|██████████| 1/1 [00:02<00:00,  2.40s/it]\n"
     ]
    },
    {
     "name": "stdout",
     "output_type": "stream",
     "text": [
      "Epoch: 044, Average Loss: 0.5172\n",
      "Validation: {'precision': 0.6125548430623944, 'recall': 0.7173913043449905, 'f1': 0.6608410654819671, 'auc': 0.7433859296902776, 'prauc': 0.5866638127591017}\n",
      "Test:       {'precision': 0.6209735146720796, 'recall': 0.6854998024469162, 'f1': 0.6516431874980121, 'auc': 0.7507433140481302, 'prauc': 0.5982320138642221}\n"
     ]
    },
    {
     "name": "stderr",
     "output_type": "stream",
     "text": [
      "Training Batches: 100%|██████████| 1/1 [00:01<00:00,  1.03s/it]\n",
      "Running inference: 100%|██████████| 1/1 [00:02<00:00,  2.05s/it]\n",
      "Running inference: 100%|██████████| 1/1 [00:02<00:00,  2.34s/it]\n"
     ]
    },
    {
     "name": "stdout",
     "output_type": "stream",
     "text": [
      "Epoch: 045, Average Loss: 0.5134\n",
      "Validation: {'precision': 0.6141598915968355, 'recall': 0.7166007905110016, 'f1': 0.6614374266215246, 'auc': 0.7482250036597862, 'prauc': 0.5949354726899717}\n",
      "Test:       {'precision': 0.62620149519179, 'recall': 0.694982220463473, 'f1': 0.6588014931384247, 'auc': 0.7552231994615823, 'prauc': 0.6063643921989406}\n"
     ]
    },
    {
     "name": "stderr",
     "output_type": "stream",
     "text": [
      "Training Batches: 100%|██████████| 1/1 [00:01<00:00,  1.33s/it]\n",
      "Running inference: 100%|██████████| 1/1 [00:02<00:00,  2.03s/it]\n",
      "Running inference: 100%|██████████| 1/1 [00:02<00:00,  2.35s/it]\n"
     ]
    },
    {
     "name": "stdout",
     "output_type": "stream",
     "text": [
      "Epoch: 046, Average Loss: 0.5072\n",
      "Validation: {'precision': 0.6089552238785773, 'recall': 0.7256916996018747, 'f1': 0.662218209643618, 'auc': 0.7456010937532677, 'prauc': 0.5905528381098777}\n",
      "Test:       {'precision': 0.6215652173891424, 'recall': 0.7060450414827892, 'f1': 0.6611172721173191, 'auc': 0.7538719716490864, 'prauc': 0.6035694166966015}\n"
     ]
    },
    {
     "name": "stderr",
     "output_type": "stream",
     "text": [
      "Training Batches: 100%|██████████| 1/1 [00:01<00:00,  1.03s/it]\n",
      "Running inference: 100%|██████████| 1/1 [00:02<00:00,  2.38s/it]\n",
      "Running inference: 100%|██████████| 1/1 [00:02<00:00,  2.08s/it]\n"
     ]
    },
    {
     "name": "stdout",
     "output_type": "stream",
     "text": [
      "Epoch: 047, Average Loss: 0.5027\n",
      "Validation: {'precision': 0.6019160885345163, 'recall': 0.720158102763952, 'f1': 0.6557495001663012, 'auc': 0.7420199928895581, 'prauc': 0.585407148590872}\n",
      "Test:       {'precision': 0.6187025534830273, 'recall': 0.7084156459869284, 'f1': 0.6605267955361642, 'auc': 0.7510491427633155, 'prauc': 0.5983010784000169}\n"
     ]
    },
    {
     "name": "stderr",
     "output_type": "stream",
     "text": [
      "Training Batches: 100%|██████████| 1/1 [00:01<00:00,  1.31s/it]\n",
      "Running inference: 100%|██████████| 1/1 [00:02<00:00,  2.03s/it]\n",
      "Running inference: 100%|██████████| 1/1 [00:02<00:00,  2.39s/it]\n"
     ]
    },
    {
     "name": "stdout",
     "output_type": "stream",
     "text": [
      "Epoch: 048, Average Loss: 0.5066\n",
      "Validation: {'precision': 0.5925445705005105, 'recall': 0.7225296442659189, 'f1': 0.6511130849841971, 'auc': 0.7290036493297363, 'prauc': 0.5688707785681919}\n",
      "Test:       {'precision': 0.6048250084926782, 'recall': 0.7032793362279602, 'f1': 0.650347090385831, 'auc': 0.7421566008476078, 'prauc': 0.5870209454741601}\n"
     ]
    },
    {
     "name": "stderr",
     "output_type": "stream",
     "text": [
      "Training Batches: 100%|██████████| 1/1 [00:01<00:00,  1.01s/it]\n",
      "Running inference: 100%|██████████| 1/1 [00:02<00:00,  2.33s/it]\n",
      "Running inference: 100%|██████████| 1/1 [00:02<00:00,  2.36s/it]\n"
     ]
    },
    {
     "name": "stdout",
     "output_type": "stream",
     "text": [
      "Epoch: 049, Average Loss: 0.5035\n",
      "Validation: {'precision': 0.619872701553678, 'recall': 0.6928853754913324, 'f1': 0.6543486325643494, 'auc': 0.7526293995859215, 'prauc': 0.6089597405014855}\n",
      "Test:       {'precision': 0.6276831976290611, 'recall': 0.6700908731700115, 'f1': 0.6481941474966512, 'auc': 0.7582172945222155, 'prauc': 0.6210300607342721}\n"
     ]
    },
    {
     "name": "stderr",
     "output_type": "stream",
     "text": [
      "Training Batches: 100%|██████████| 1/1 [00:01<00:00,  1.00s/it]\n",
      "Running inference: 100%|██████████| 1/1 [00:02<00:00,  2.03s/it]\n",
      "Running inference: 100%|██████████| 1/1 [00:02<00:00,  2.38s/it]\n"
     ]
    },
    {
     "name": "stdout",
     "output_type": "stream",
     "text": [
      "Epoch: 050, Average Loss: 0.4941\n",
      "Validation: {'precision': 0.6277213352662274, 'recall': 0.6837944664004594, 'f1': 0.6545592080221759, 'auc': 0.7602780914737436, 'prauc': 0.6237198418512003}\n",
      "Test:       {'precision': 0.6330798479063381, 'recall': 0.6578427498986257, 'f1': 0.6452237888377428, 'auc': 0.763258939272292, 'prauc': 0.6317346286222738}\n"
     ]
    },
    {
     "name": "stderr",
     "output_type": "stream",
     "text": [
      "Training Batches: 100%|██████████| 1/1 [00:01<00:00,  1.29s/it]\n",
      "Running inference: 100%|██████████| 1/1 [00:02<00:00,  2.03s/it]\n",
      "Running inference: 100%|██████████| 1/1 [00:02<00:00,  2.36s/it]\n"
     ]
    },
    {
     "name": "stdout",
     "output_type": "stream",
     "text": [
      "Epoch: 051, Average Loss: 0.4931\n",
      "Validation: {'precision': 0.6161971830964219, 'recall': 0.6916996047403491, 'f1': 0.651769082537513, 'auc': 0.7503851140807662, 'prauc': 0.6019055112369357}\n",
      "Test:       {'precision': 0.6260162601602882, 'recall': 0.6693006716686318, 'f1': 0.646935263286481, 'auc': 0.757757582808583, 'prauc': 0.616459718959677}\n"
     ]
    },
    {
     "name": "stderr",
     "output_type": "stream",
     "text": [
      "Training Batches: 100%|██████████| 1/1 [00:00<00:00,  1.00it/s]\n",
      "Running inference: 100%|██████████| 1/1 [00:02<00:00,  2.34s/it]\n",
      "Running inference: 100%|██████████| 1/1 [00:02<00:00,  2.06s/it]\n"
     ]
    },
    {
     "name": "stdout",
     "output_type": "stream",
     "text": [
      "Epoch: 052, Average Loss: 0.4826\n",
      "Validation: {'precision': 0.610204790001353, 'recall': 0.6948616600763049, 'f1': 0.6497874649872201, 'auc': 0.741108810674028, 'prauc': 0.5868192907999612}\n",
      "Test:       {'precision': 0.6214626975353861, 'recall': 0.6681153694165622, 'f1': 0.6439451587512357, 'auc': 0.7507591788145574, 'prauc': 0.6033120889974251}\n"
     ]
    },
    {
     "name": "stderr",
     "output_type": "stream",
     "text": [
      "Training Batches: 100%|██████████| 1/1 [00:01<00:00,  1.30s/it]\n",
      "Running inference: 100%|██████████| 1/1 [00:02<00:00,  2.07s/it]\n",
      "Running inference: 100%|██████████| 1/1 [00:02<00:00,  2.37s/it]\n"
     ]
    },
    {
     "name": "stdout",
     "output_type": "stream",
     "text": [
      "Epoch: 053, Average Loss: 0.4822\n",
      "Validation: {'precision': 0.6107004575832077, 'recall': 0.6857707509854317, 'f1': 0.6460621808270562, 'auc': 0.741070592048853, 'prauc': 0.5869467678263701}\n",
      "Test:       {'precision': 0.6235119047595852, 'recall': 0.6621888581562142, 'f1': 0.6422686288399636, 'auc': 0.7502686276704774, 'prauc': 0.6016080425679453}\n"
     ]
    },
    {
     "name": "stderr",
     "output_type": "stream",
     "text": [
      "Training Batches: 100%|██████████| 1/1 [00:00<00:00,  1.02it/s]\n",
      "Running inference: 100%|██████████| 1/1 [00:02<00:00,  2.33s/it]\n",
      "Running inference: 100%|██████████| 1/1 [00:02<00:00,  2.38s/it]\n"
     ]
    },
    {
     "name": "stdout",
     "output_type": "stream",
     "text": [
      "Epoch: 054, Average Loss: 0.4768\n",
      "Validation: {'precision': 0.6115031757212015, 'recall': 0.6849802371514427, 'f1': 0.6461595774148438, 'auc': 0.742258924650229, 'prauc': 0.5872453707522809}\n",
      "Test:       {'precision': 0.6230483271352303, 'recall': 0.6621888581562142, 'f1': 0.6420225960364625, 'auc': 0.7507390206129915, 'prauc': 0.6010029712358115}\n"
     ]
    },
    {
     "name": "stderr",
     "output_type": "stream",
     "text": [
      "Training Batches: 100%|██████████| 1/1 [00:01<00:00,  1.02s/it]\n",
      "Running inference: 100%|██████████| 1/1 [00:02<00:00,  2.05s/it]\n",
      "Running inference: 100%|██████████| 1/1 [00:02<00:00,  2.34s/it]\n"
     ]
    },
    {
     "name": "stdout",
     "output_type": "stream",
     "text": [
      "Epoch: 055, Average Loss: 0.4681\n",
      "Validation: {'precision': 0.6095171448544104, 'recall': 0.6885375494043932, 'f1': 0.6466221182529519, 'auc': 0.7402523161218812, 'prauc': 0.5825191282845974}\n",
      "Test:       {'precision': 0.6211225997022853, 'recall': 0.6645594626603534, 'f1': 0.6421072673834812, 'auc': 0.748478841166252, 'prauc': 0.5964932963553427}\n"
     ]
    },
    {
     "name": "stderr",
     "output_type": "stream",
     "text": [
      "Training Batches: 100%|██████████| 1/1 [00:01<00:00,  1.30s/it]\n",
      "Running inference: 100%|██████████| 1/1 [00:02<00:00,  2.07s/it]\n",
      "Running inference: 100%|██████████| 1/1 [00:02<00:00,  2.38s/it]\n"
     ]
    },
    {
     "name": "stdout",
     "output_type": "stream",
     "text": [
      "Epoch: 056, Average Loss: 0.4642\n",
      "Validation: {'precision': 0.5946878233853237, 'recall': 0.6814229248984924, 'f1': 0.6351077496717075, 'auc': 0.7230730702469832, 'prauc': 0.5617680766687322}\n",
      "Test:       {'precision': 0.6040905770613437, 'recall': 0.6534966416410372, 'f1': 0.6278231113461957, 'auc': 0.7330225793848303, 'prauc': 0.5743865319190289}\n",
      "\n",
      "Early stopping triggered after 56 epochs (no improvement for 10 epochs).\n",
      "\n",
      "Best validation performance:\n",
      "{'precision': 0.6089552238785773, 'recall': 0.7256916996018747, 'f1': 0.662218209643618, 'auc': 0.7456010937532677, 'prauc': 0.5905528381098777}\n",
      "Corresponding test performance:\n",
      "{'precision': 0.6215652173891424, 'recall': 0.7060450414827892, 'f1': 0.6611172721173191, 'auc': 0.7538719716490864, 'prauc': 0.6035694166966015}\n",
      "Corresponding test-long performance:\n",
      "{'precision': 0.7808398950028761, 'recall': 0.9153846153705325, 'f1': 0.8427761989855267, 'auc': 0.5155731523378582, 'prauc': 0.7515528311542787}\n",
      "[INFO] Random seed set to 2998485882\n",
      "Training with seed: 2998485882\n"
     ]
    },
    {
     "name": "stderr",
     "output_type": "stream",
     "text": [
      "Training Batches: 100%|██████████| 1/1 [00:01<00:00,  1.01s/it]\n",
      "Running inference: 100%|██████████| 1/1 [00:02<00:00,  2.34s/it]\n",
      "Running inference: 100%|██████████| 1/1 [00:02<00:00,  2.05s/it]\n"
     ]
    },
    {
     "name": "stdout",
     "output_type": "stream",
     "text": [
      "Epoch: 001, Average Loss: 0.6871\n",
      "Validation: {'precision': 0.72699999999273, 'recall': 0.28735177865499073, 'f1': 0.41189801293413164, 'auc': 0.7629312796704102, 'prauc': 0.6619351097018167}\n",
      "Test:       {'precision': 0.6857440166421879, 'recall': 0.26037139470462123, 'f1': 0.37743413117462893, 'auc': 0.7597697378376145, 'prauc': 0.6426473234288489}\n"
     ]
    },
    {
     "name": "stderr",
     "output_type": "stream",
     "text": [
      "Training Batches: 100%|██████████| 1/1 [00:01<00:00,  1.31s/it]\n",
      "Running inference: 100%|██████████| 1/1 [00:02<00:00,  2.08s/it]\n",
      "Running inference: 100%|██████████| 1/1 [00:02<00:00,  2.41s/it]\n"
     ]
    },
    {
     "name": "stdout",
     "output_type": "stream",
     "text": [
      "Epoch: 002, Average Loss: 0.6630\n",
      "Validation: {'precision': 0.6946902654823345, 'recall': 0.4343873517769392, 'f1': 0.5345330691931157, 'auc': 0.765957400087835, 'prauc': 0.6646788191728835}\n",
      "Test:       {'precision': 0.6709346990994178, 'recall': 0.41406558672297883, 'f1': 0.5120938139926194, 'auc': 0.7625868595961889, 'prauc': 0.6472515442502484}\n"
     ]
    },
    {
     "name": "stderr",
     "output_type": "stream",
     "text": [
      "Training Batches: 100%|██████████| 1/1 [00:00<00:00,  1.01it/s]\n",
      "Running inference: 100%|██████████| 1/1 [00:02<00:00,  2.42s/it]\n",
      "Running inference: 100%|██████████| 1/1 [00:02<00:00,  2.05s/it]\n"
     ]
    },
    {
     "name": "stdout",
     "output_type": "stream",
     "text": [
      "Epoch: 003, Average Loss: 0.6400\n",
      "Validation: {'precision': 0.6806862202507987, 'recall': 0.48616600790321673, 'f1': 0.5672123539096829, 'auc': 0.7666458581675973, 'prauc': 0.6654159803566881}\n",
      "Test:       {'precision': 0.6649688737936335, 'recall': 0.46424338206059174, 'f1': 0.5467659328008602, 'auc': 0.7633378965916722, 'prauc': 0.648510785448333}\n"
     ]
    },
    {
     "name": "stderr",
     "output_type": "stream",
     "text": [
      "Training Batches: 100%|██████████| 1/1 [00:01<00:00,  1.36s/it]\n",
      "Running inference: 100%|██████████| 1/1 [00:02<00:00,  2.10s/it]\n",
      "Running inference: 100%|██████████| 1/1 [00:02<00:00,  2.07s/it]\n"
     ]
    },
    {
     "name": "stdout",
     "output_type": "stream",
     "text": [
      "Epoch: 004, Average Loss: 0.6197\n",
      "Validation: {'precision': 0.6720207253851191, 'recall': 0.5126482213418473, 'f1': 0.5816143448636673, 'auc': 0.767278269234791, 'prauc': 0.666166702861116}\n",
      "Test:       {'precision': 0.6615138592715272, 'recall': 0.4903200316061228, 'f1': 0.5631949122851124, 'auc': 0.7639508629961707, 'prauc': 0.6497403838937874}\n"
     ]
    },
    {
     "name": "stderr",
     "output_type": "stream",
     "text": [
      "Training Batches: 100%|██████████| 1/1 [00:00<00:00,  1.00it/s]\n",
      "Running inference: 100%|██████████| 1/1 [00:02<00:00,  2.33s/it]\n",
      "Running inference: 100%|██████████| 1/1 [00:02<00:00,  2.06s/it]\n"
     ]
    },
    {
     "name": "stdout",
     "output_type": "stream",
     "text": [
      "Epoch: 005, Average Loss: 0.6021\n",
      "Validation: {'precision': 0.6668329177024098, 'recall': 0.5284584980216267, 'f1': 0.5896361582397119, 'auc': 0.7679173724825898, 'prauc': 0.6670935581116926}\n",
      "Test:       {'precision': 0.6576114812882747, 'recall': 0.5069142631350971, 'f1': 0.5725122663886276, 'auc': 0.7646106383154738, 'prauc': 0.6508457762798299}\n"
     ]
    },
    {
     "name": "stderr",
     "output_type": "stream",
     "text": [
      "Training Batches: 100%|██████████| 1/1 [00:01<00:00,  1.32s/it]\n",
      "Running inference: 100%|██████████| 1/1 [00:02<00:00,  2.11s/it]\n",
      "Running inference: 100%|██████████| 1/1 [00:02<00:00,  2.10s/it]\n"
     ]
    },
    {
     "name": "stdout",
     "output_type": "stream",
     "text": [
      "Epoch: 006, Average Loss: 0.5880\n",
      "Validation: {'precision': 0.6641074856014199, 'recall': 0.5470355731203674, 'f1': 0.5999133023696487, 'auc': 0.7686117385030429, 'prauc': 0.6677073980186768}\n",
      "Test:       {'precision': 0.6524300441794186, 'recall': 0.525088897666831, 'f1': 0.5818739004849995, 'auc': 0.7653213589078255, 'prauc': 0.6520056897440639}\n"
     ]
    },
    {
     "name": "stderr",
     "output_type": "stream",
     "text": [
      "Training Batches: 100%|██████████| 1/1 [00:00<00:00,  1.40it/s]\n",
      "Running inference: 100%|██████████| 1/1 [00:02<00:00,  2.33s/it]\n",
      "Running inference: 100%|██████████| 1/1 [00:02<00:00,  2.34s/it]\n"
     ]
    },
    {
     "name": "stdout",
     "output_type": "stream",
     "text": [
      "Epoch: 007, Average Loss: 0.5794\n",
      "Validation: {'precision': 0.6595348837178626, 'recall': 0.56047430829818, 'f1': 0.6059829010132808, 'auc': 0.7693991676600372, 'prauc': 0.6686871350377857}\n",
      "Test:       {'precision': 0.6527117031367616, 'recall': 0.5420782299464951, 'f1': 0.592272820423435, 'auc': 0.7661063245126978, 'prauc': 0.653058430750171}\n"
     ]
    },
    {
     "name": "stderr",
     "output_type": "stream",
     "text": [
      "Training Batches: 100%|██████████| 1/1 [00:01<00:00,  1.31s/it]\n",
      "Running inference: 100%|██████████| 1/1 [00:02<00:00,  2.36s/it]\n",
      "Running inference: 100%|██████████| 1/1 [00:01<00:00,  1.74s/it]\n"
     ]
    },
    {
     "name": "stdout",
     "output_type": "stream",
     "text": [
      "Epoch: 008, Average Loss: 0.5752\n",
      "Validation: {'precision': 0.6587853500201262, 'recall': 0.5616600790491634, 'f1': 0.6063580065503078, 'auc': 0.7698918794570968, 'prauc': 0.6696894288330721}\n",
      "Test:       {'precision': 0.6547448736258715, 'recall': 0.5424733306971851, 'f1': 0.5933448524312078, 'auc': 0.7666845245643656, 'prauc': 0.6534361129491614}\n"
     ]
    },
    {
     "name": "stderr",
     "output_type": "stream",
     "text": [
      "Training Batches: 100%|██████████| 1/1 [00:01<00:00,  1.31s/it]\n",
      "Running inference: 100%|██████████| 1/1 [00:02<00:00,  2.39s/it]\n",
      "Running inference: 100%|██████████| 1/1 [00:01<00:00,  1.72s/it]\n"
     ]
    },
    {
     "name": "stdout",
     "output_type": "stream",
     "text": [
      "Epoch: 009, Average Loss: 0.5745\n",
      "Validation: {'precision': 0.6570380559346307, 'recall': 0.5664031620530973, 'f1': 0.6083633998221409, 'auc': 0.7704488989271597, 'prauc': 0.6707249308355449}\n",
      "Test:       {'precision': 0.6561171469028998, 'recall': 0.5487949427082229, 'f1': 0.5976764150026728, 'auc': 0.7672937734823414, 'prauc': 0.653905777523087}\n"
     ]
    },
    {
     "name": "stderr",
     "output_type": "stream",
     "text": [
      "Training Batches: 100%|██████████| 1/1 [00:01<00:00,  1.31s/it]\n",
      "Running inference: 100%|██████████| 1/1 [00:02<00:00,  2.04s/it]\n",
      "Running inference: 100%|██████████| 1/1 [00:02<00:00,  2.42s/it]\n"
     ]
    },
    {
     "name": "stdout",
     "output_type": "stream",
     "text": [
      "Epoch: 010, Average Loss: 0.5753\n",
      "Validation: {'precision': 0.6553873552953902, 'recall': 0.5818181818158822, 'f1': 0.6164154054003583, 'auc': 0.7708969090490828, 'prauc': 0.671494319252563}\n",
      "Test:       {'precision': 0.6525735294087658, 'recall': 0.5610430659796087, 'f1': 0.603356697808966, 'auc': 0.7679057974254677, 'prauc': 0.6544386339791176}\n"
     ]
    },
    {
     "name": "stderr",
     "output_type": "stream",
     "text": [
      "Training Batches: 100%|██████████| 1/1 [00:00<00:00,  1.42it/s]\n",
      "Running inference: 100%|██████████| 1/1 [00:02<00:00,  2.35s/it]\n",
      "Running inference: 100%|██████████| 1/1 [00:02<00:00,  2.42s/it]\n"
     ]
    },
    {
     "name": "stdout",
     "output_type": "stream",
     "text": [
      "Epoch: 011, Average Loss: 0.5728\n",
      "Validation: {'precision': 0.6539473684181845, 'recall': 0.5893280632387774, 'f1': 0.6199584149693493, 'auc': 0.7710483719179373, 'prauc': 0.6717935316681322}\n",
      "Test:       {'precision': 0.6527082385040842, 'recall': 0.5665744764892668, 'f1': 0.6065989797939599, 'auc': 0.7683133072508895, 'prauc': 0.6546074452524171}\n"
     ]
    },
    {
     "name": "stderr",
     "output_type": "stream",
     "text": [
      "Training Batches: 100%|██████████| 1/1 [00:01<00:00,  1.01s/it]\n",
      "Running inference: 100%|██████████| 1/1 [00:02<00:00,  2.37s/it]\n",
      "Running inference: 100%|██████████| 1/1 [00:02<00:00,  2.43s/it]\n"
     ]
    },
    {
     "name": "stdout",
     "output_type": "stream",
     "text": [
      "Epoch: 012, Average Loss: 0.5723\n",
      "Validation: {'precision': 0.6541685046287863, 'recall': 0.5861660079028215, 'f1': 0.6183031011204358, 'auc': 0.7704523495827843, 'prauc': 0.6715152726018742}\n",
      "Test:       {'precision': 0.6532479414425744, 'recall': 0.5642038719851277, 'f1': 0.6054695731458675, 'auc': 0.7681661261999759, 'prauc': 0.6539018428687964}\n"
     ]
    },
    {
     "name": "stderr",
     "output_type": "stream",
     "text": [
      "Training Batches: 100%|██████████| 1/1 [00:00<00:00,  1.41it/s]\n",
      "Running inference: 100%|██████████| 1/1 [00:02<00:00,  2.35s/it]\n",
      "Running inference: 100%|██████████| 1/1 [00:02<00:00,  2.13s/it]\n"
     ]
    },
    {
     "name": "stdout",
     "output_type": "stream",
     "text": [
      "Epoch: 013, Average Loss: 0.5671\n",
      "Validation: {'precision': 0.6551111111081995, 'recall': 0.5826086956498712, 'f1': 0.6167363966882163, 'auc': 0.7695867055649664, 'prauc': 0.6707825987538041}\n",
      "Test:       {'precision': 0.6543778801813163, 'recall': 0.5610430659796087, 'f1': 0.6041267765627585, 'auc': 0.7677803977040384, 'prauc': 0.6530389631975805}\n"
     ]
    },
    {
     "name": "stderr",
     "output_type": "stream",
     "text": [
      "Training Batches: 100%|██████████| 1/1 [00:00<00:00,  1.40it/s]\n",
      "Running inference: 100%|██████████| 1/1 [00:02<00:00,  2.39s/it]\n",
      "Running inference: 100%|██████████| 1/1 [00:02<00:00,  2.39s/it]\n"
     ]
    },
    {
     "name": "stdout",
     "output_type": "stream",
     "text": [
      "Epoch: 014, Average Loss: 0.5669\n",
      "Validation: {'precision': 0.6566562079755417, 'recall': 0.5790513833969207, 'f1': 0.6154169242336864, 'auc': 0.7688219670828367, 'prauc': 0.6701621654016274}\n",
      "Test:       {'precision': 0.6572093023225246, 'recall': 0.5582773607247796, 'f1': 0.6037171494847211, 'auc': 0.7672789558952163, 'prauc': 0.6522756659933244}\n"
     ]
    },
    {
     "name": "stderr",
     "output_type": "stream",
     "text": [
      "Training Batches: 100%|██████████| 1/1 [00:01<00:00,  1.02s/it]\n",
      "Running inference: 100%|██████████| 1/1 [00:02<00:00,  2.39s/it]\n",
      "Running inference: 100%|██████████| 1/1 [00:02<00:00,  2.40s/it]\n"
     ]
    },
    {
     "name": "stdout",
     "output_type": "stream",
     "text": [
      "Epoch: 015, Average Loss: 0.5657\n",
      "Validation: {'precision': 0.6569113012127109, 'recall': 0.5766798418949538, 'f1': 0.6141864820739216, 'auc': 0.7681952548256896, 'prauc': 0.6697673839503451}\n",
      "Test:       {'precision': 0.6565562295816306, 'recall': 0.5559067562206405, 'f1': 0.6020539103078741, 'auc': 0.7667633248068504, 'prauc': 0.6518300376334253}\n"
     ]
    },
    {
     "name": "stderr",
     "output_type": "stream",
     "text": [
      "Training Batches: 100%|██████████| 1/1 [00:00<00:00,  1.41it/s]\n",
      "Running inference: 100%|██████████| 1/1 [00:02<00:00,  2.36s/it]\n",
      "Running inference: 100%|██████████| 1/1 [00:02<00:00,  2.43s/it]\n"
     ]
    },
    {
     "name": "stdout",
     "output_type": "stream",
     "text": [
      "Epoch: 016, Average Loss: 0.5668\n",
      "Validation: {'precision': 0.6576576576546953, 'recall': 0.5770750988119483, 'f1': 0.6147368371239712, 'auc': 0.7684640399857791, 'prauc': 0.6700512159574498}\n",
      "Test:       {'precision': 0.6583763491287735, 'recall': 0.554326353217881, 'f1': 0.6018875969218282, 'auc': 0.7669339103151664, 'prauc': 0.6519633451662914}\n"
     ]
    },
    {
     "name": "stderr",
     "output_type": "stream",
     "text": [
      "Training Batches: 100%|██████████| 1/1 [00:00<00:00,  1.42it/s]\n",
      "Running inference: 100%|██████████| 1/1 [00:02<00:00,  2.32s/it]\n",
      "Running inference: 100%|██████████| 1/1 [00:02<00:00,  2.10s/it]\n"
     ]
    },
    {
     "name": "stdout",
     "output_type": "stream",
     "text": [
      "Epoch: 017, Average Loss: 0.5668\n",
      "Validation: {'precision': 0.6606088141723735, 'recall': 0.5747035573099815, 'f1': 0.6146691981498843, 'auc': 0.769457724240333, 'prauc': 0.670871472384035}\n",
      "Test:       {'precision': 0.6612979630475543, 'recall': 0.5515606479630519, 'f1': 0.6014648808634155, 'auc': 0.7677316515075245, 'prauc': 0.6525701118034655}\n"
     ]
    },
    {
     "name": "stderr",
     "output_type": "stream",
     "text": [
      "Training Batches: 100%|██████████| 1/1 [00:00<00:00,  1.38it/s]\n",
      "Running inference: 100%|██████████| 1/1 [00:02<00:00,  2.37s/it]\n",
      "Running inference: 100%|██████████| 1/1 [00:02<00:00,  2.35s/it]\n"
     ]
    },
    {
     "name": "stdout",
     "output_type": "stream",
     "text": [
      "Epoch: 018, Average Loss: 0.5630\n",
      "Validation: {'precision': 0.6580008964560377, 'recall': 0.5802371541479042, 'f1': 0.6166771636791758, 'auc': 0.7703199698851873, 'prauc': 0.6715995523589612}\n",
      "Test:       {'precision': 0.660066006597548, 'recall': 0.5531410509658113, 'f1': 0.6018916545375402, 'auc': 0.7682878084348826, 'prauc': 0.6530421701772253}\n"
     ]
    },
    {
     "name": "stderr",
     "output_type": "stream",
     "text": [
      "Training Batches: 100%|██████████| 1/1 [00:00<00:00,  1.01it/s]\n",
      "Running inference: 100%|██████████| 1/1 [00:02<00:00,  2.38s/it]\n",
      "Running inference: 100%|██████████| 1/1 [00:02<00:00,  2.37s/it]\n"
     ]
    },
    {
     "name": "stdout",
     "output_type": "stream",
     "text": [
      "Epoch: 019, Average Loss: 0.5621\n",
      "Validation: {'precision': 0.6555066079266277, 'recall': 0.5881422924877939, 'f1': 0.619999995012087, 'auc': 0.7711557605035866, 'prauc': 0.6722755967539228}\n",
      "Test:       {'precision': 0.6601489757883606, 'recall': 0.560252864478229, 'f1': 0.6061124122140695, 'auc': 0.7687808728092878, 'prauc': 0.6534299925268288}\n"
     ]
    },
    {
     "name": "stderr",
     "output_type": "stream",
     "text": [
      "Training Batches: 100%|██████████| 1/1 [00:00<00:00,  1.42it/s]\n",
      "Running inference: 100%|██████████| 1/1 [00:02<00:00,  2.34s/it]\n",
      "Running inference: 100%|██████████| 1/1 [00:02<00:00,  2.41s/it]\n"
     ]
    },
    {
     "name": "stdout",
     "output_type": "stream",
     "text": [
      "Epoch: 020, Average Loss: 0.5607\n",
      "Validation: {'precision': 0.653478260866724, 'recall': 0.5940711462427112, 'f1': 0.6223602434559657, 'auc': 0.7716566283957588, 'prauc': 0.6724850904869443}\n",
      "Test:       {'precision': 0.6600917431162382, 'recall': 0.5685499802427162, 'f1': 0.610910629709943, 'auc': 0.7690707843990808, 'prauc': 0.6535879415230135}\n"
     ]
    },
    {
     "name": "stderr",
     "output_type": "stream",
     "text": [
      "Training Batches: 100%|██████████| 1/1 [00:00<00:00,  1.41it/s]\n",
      "Running inference: 100%|██████████| 1/1 [00:02<00:00,  2.41s/it]\n",
      "Running inference: 100%|██████████| 1/1 [00:02<00:00,  2.07s/it]\n"
     ]
    },
    {
     "name": "stdout",
     "output_type": "stream",
     "text": [
      "Epoch: 021, Average Loss: 0.5620\n",
      "Validation: {'precision': 0.6529209621965081, 'recall': 0.6007905138316174, 'f1': 0.6257719176079625, 'auc': 0.7717606708911057, 'prauc': 0.6725324204686722}\n",
      "Test:       {'precision': 0.6589673913013634, 'recall': 0.574871592253754, 'f1': 0.6140535928260802, 'auc': 0.7692092215028217, 'prauc': 0.6536909949857015}\n"
     ]
    },
    {
     "name": "stderr",
     "output_type": "stream",
     "text": [
      "Training Batches: 100%|██████████| 1/1 [00:00<00:00,  1.37it/s]\n",
      "Running inference: 100%|██████████| 1/1 [00:02<00:00,  2.38s/it]\n",
      "Running inference: 100%|██████████| 1/1 [00:02<00:00,  2.35s/it]\n"
     ]
    },
    {
     "name": "stdout",
     "output_type": "stream",
     "text": [
      "Epoch: 022, Average Loss: 0.5608\n",
      "Validation: {'precision': 0.6538461538432961, 'recall': 0.5913043478237499, 'f1': 0.6210045612200824, 'auc': 0.7719323671497585, 'prauc': 0.6727207801722649}\n",
      "Test:       {'precision': 0.6614246068424541, 'recall': 0.5649940734865073, 'f1': 0.609418277576791, 'auc': 0.7692691201589033, 'prauc': 0.6533375799067023}\n"
     ]
    },
    {
     "name": "stderr",
     "output_type": "stream",
     "text": [
      "Training Batches: 100%|██████████| 1/1 [00:01<00:00,  1.01s/it]\n",
      "Running inference: 100%|██████████| 1/1 [00:02<00:00,  2.38s/it]\n",
      "Running inference: 100%|██████████| 1/1 [00:02<00:00,  2.39s/it]\n"
     ]
    },
    {
     "name": "stdout",
     "output_type": "stream",
     "text": [
      "Epoch: 023, Average Loss: 0.5572\n",
      "Validation: {'precision': 0.6558035714256437, 'recall': 0.5806324110648987, 'f1': 0.6159329090620203, 'auc': 0.7720246983290461, 'prauc': 0.6728013475182888}\n",
      "Test:       {'precision': 0.6635026103433151, 'recall': 0.5523508494644317, 'f1': 0.6028460493729519, 'auc': 0.7691869165836864, 'prauc': 0.6528127284514706}\n"
     ]
    },
    {
     "name": "stderr",
     "output_type": "stream",
     "text": [
      "Training Batches: 100%|██████████| 1/1 [00:00<00:00,  1.42it/s]\n",
      "Running inference: 100%|██████████| 1/1 [00:02<00:00,  2.32s/it]\n",
      "Running inference: 100%|██████████| 1/1 [00:02<00:00,  2.37s/it]\n"
     ]
    },
    {
     "name": "stdout",
     "output_type": "stream",
     "text": [
      "Epoch: 024, Average Loss: 0.5597\n",
      "Validation: {'precision': 0.6547045951831304, 'recall': 0.5913043478237499, 'f1': 0.6213914799532511, 'auc': 0.771598385511429, 'prauc': 0.6725333159725853}\n",
      "Test:       {'precision': 0.6604909680377004, 'recall': 0.5634136704837479, 'f1': 0.6081023404446416, 'auc': 0.7690500502488988, 'prauc': 0.6525692929368084}\n"
     ]
    },
    {
     "name": "stderr",
     "output_type": "stream",
     "text": [
      "Training Batches: 100%|██████████| 1/1 [00:00<00:00,  1.41it/s]\n",
      "Running inference: 100%|██████████| 1/1 [00:02<00:00,  2.36s/it]\n",
      "Running inference: 100%|██████████| 1/1 [00:02<00:00,  2.09s/it]\n"
     ]
    },
    {
     "name": "stdout",
     "output_type": "stream",
     "text": [
      "Epoch: 025, Average Loss: 0.5556\n",
      "Validation: {'precision': 0.6480777355274691, 'recall': 0.6063241106695403, 'f1': 0.6265060190993665, 'auc': 0.7711201037287994, 'prauc': 0.6723978674633302}\n",
      "Test:       {'precision': 0.658897355443035, 'recall': 0.580798103514102, 'f1': 0.6173876472642064, 'auc': 0.7688797788943734, 'prauc': 0.6526950029678599}\n"
     ]
    },
    {
     "name": "stderr",
     "output_type": "stream",
     "text": [
      "Training Batches: 100%|██████████| 1/1 [00:00<00:00,  1.43it/s]\n",
      "Running inference: 100%|██████████| 1/1 [00:02<00:00,  2.33s/it]\n",
      "Running inference: 100%|██████████| 1/1 [00:02<00:00,  2.37s/it]\n"
     ]
    },
    {
     "name": "stdout",
     "output_type": "stream",
     "text": [
      "Epoch: 026, Average Loss: 0.5546\n",
      "Validation: {'precision': 0.6444444444417924, 'recall': 0.6189723320133638, 'f1': 0.6314516079027122, 'auc': 0.7709365393061045, 'prauc': 0.6722951188044026}\n",
      "Test:       {'precision': 0.6541155866871536, 'recall': 0.5902805215306587, 'f1': 0.6205607426741313, 'auc': 0.768870668434445, 'prauc': 0.6526609736062814}\n"
     ]
    },
    {
     "name": "stderr",
     "output_type": "stream",
     "text": [
      "Training Batches: 100%|██████████| 1/1 [00:01<00:00,  1.00s/it]\n",
      "Running inference: 100%|██████████| 1/1 [00:02<00:00,  2.38s/it]\n",
      "Running inference: 100%|██████████| 1/1 [00:02<00:00,  2.45s/it]\n"
     ]
    },
    {
     "name": "stdout",
     "output_type": "stream",
     "text": [
      "Epoch: 027, Average Loss: 0.5542\n",
      "Validation: {'precision': 0.6441092539720991, 'recall': 0.6245059288512865, 'f1': 0.6341561258435213, 'auc': 0.7713469059121233, 'prauc': 0.6726599333284775}\n",
      "Test:       {'precision': 0.654246100517096, 'recall': 0.5966021335416966, 'f1': 0.6240958825881178, 'auc': 0.7691517837181002, 'prauc': 0.6527535046901066}\n"
     ]
    },
    {
     "name": "stderr",
     "output_type": "stream",
     "text": [
      "Training Batches: 100%|██████████| 1/1 [00:00<00:00,  1.40it/s]\n",
      "Running inference: 100%|██████████| 1/1 [00:02<00:00,  2.41s/it]\n",
      "Running inference: 100%|██████████| 1/1 [00:02<00:00,  2.40s/it]\n"
     ]
    },
    {
     "name": "stdout",
     "output_type": "stream",
     "text": [
      "Epoch: 028, Average Loss: 0.5536\n",
      "Validation: {'precision': 0.6458077709585038, 'recall': 0.624110671934292, 'f1': 0.6347738643456414, 'auc': 0.772034736599954, 'prauc': 0.6732658916662411}\n",
      "Test:       {'precision': 0.6579406631733947, 'recall': 0.5958119320403168, 'f1': 0.6253369222334046, 'auc': 0.7694968816571152, 'prauc': 0.6529938185752864}\n"
     ]
    },
    {
     "name": "stderr",
     "output_type": "stream",
     "text": [
      "Training Batches: 100%|██████████| 1/1 [00:00<00:00,  1.41it/s]\n",
      "Running inference: 100%|██████████| 1/1 [00:02<00:00,  2.39s/it]\n",
      "Running inference: 100%|██████████| 1/1 [00:02<00:00,  2.09s/it]\n"
     ]
    },
    {
     "name": "stdout",
     "output_type": "stream",
     "text": [
      "Epoch: 029, Average Loss: 0.5520\n",
      "Validation: {'precision': 0.6475916014794253, 'recall': 0.6217391304323252, 'f1': 0.6344020921965312, 'auc': 0.7723556475730388, 'prauc': 0.6737314027587569}\n",
      "Test:       {'precision': 0.6592105263128982, 'recall': 0.5938364282868676, 'f1': 0.624818120140923, 'auc': 0.7694163535687819, 'prauc': 0.6531202934522906}\n"
     ]
    },
    {
     "name": "stderr",
     "output_type": "stream",
     "text": [
      "Training Batches: 100%|██████████| 1/1 [00:00<00:00,  1.42it/s]\n",
      "Running inference: 100%|██████████| 1/1 [00:02<00:00,  2.34s/it]\n",
      "Running inference: 100%|██████████| 1/1 [00:02<00:00,  2.35s/it]\n"
     ]
    },
    {
     "name": "stdout",
     "output_type": "stream",
     "text": [
      "Epoch: 030, Average Loss: 0.5504\n",
      "Validation: {'precision': 0.6443991853334241, 'recall': 0.6252964426852755, 'f1': 0.6347041073355963, 'auc': 0.7721509086726477, 'prauc': 0.6737323116447043}\n",
      "Test:       {'precision': 0.658430862589257, 'recall': 0.6001580402979053, 'f1': 0.6279454270048155, 'auc': 0.769219798013773, 'prauc': 0.6530217422908464}\n"
     ]
    },
    {
     "name": "stderr",
     "output_type": "stream",
     "text": [
      "Training Batches: 100%|██████████| 1/1 [00:00<00:00,  1.01it/s]\n",
      "Running inference: 100%|██████████| 1/1 [00:02<00:00,  2.40s/it]\n",
      "Running inference: 100%|██████████| 1/1 [00:02<00:00,  2.40s/it]\n"
     ]
    },
    {
     "name": "stdout",
     "output_type": "stream",
     "text": [
      "Epoch: 031, Average Loss: 0.5491\n",
      "Validation: {'precision': 0.6396681153668919, 'recall': 0.6399209486140714, 'f1': 0.639794502011896, 'auc': 0.7723605621431708, 'prauc': 0.6736000748038218}\n",
      "Test:       {'precision': 0.6515533165379868, 'recall': 0.6131963650706709, 'f1': 0.6317931967117766, 'auc': 0.7695484028787797, 'prauc': 0.6532569888729161}\n"
     ]
    },
    {
     "name": "stderr",
     "output_type": "stream",
     "text": [
      "Training Batches: 100%|██████████| 1/1 [00:00<00:00,  1.40it/s]\n",
      "Running inference: 100%|██████████| 1/1 [00:02<00:00,  2.35s/it]\n",
      "Running inference: 100%|██████████| 1/1 [00:02<00:00,  2.43s/it]\n"
     ]
    },
    {
     "name": "stdout",
     "output_type": "stream",
     "text": [
      "Epoch: 032, Average Loss: 0.5488\n",
      "Validation: {'precision': 0.6370686312499533, 'recall': 0.6494071146219391, 'f1': 0.6431786992453488, 'auc': 0.7718890771064684, 'prauc': 0.6732288660799187}\n",
      "Test:       {'precision': 0.6507216494818527, 'recall': 0.6234689845886074, 'f1': 0.6368038690917273, 'auc': 0.7695065157066947, 'prauc': 0.6530963134750272}\n"
     ]
    },
    {
     "name": "stderr",
     "output_type": "stream",
     "text": [
      "Training Batches: 100%|██████████| 1/1 [00:00<00:00,  1.38it/s]\n",
      "Running inference: 100%|██████████| 1/1 [00:02<00:00,  2.39s/it]\n",
      "Running inference: 100%|██████████| 1/1 [00:02<00:00,  2.13s/it]\n"
     ]
    },
    {
     "name": "stdout",
     "output_type": "stream",
     "text": [
      "Epoch: 033, Average Loss: 0.5472\n",
      "Validation: {'precision': 0.639030113411658, 'recall': 0.6458498023689888, 'f1': 0.6424218546398405, 'auc': 0.7713753476796956, 'prauc': 0.6730233367494056}\n",
      "Test:       {'precision': 0.6508801341129469, 'recall': 0.6135914658213608, 'f1': 0.6316859823924643, 'auc': 0.769342527427982, 'prauc': 0.6522995517780397}\n"
     ]
    },
    {
     "name": "stderr",
     "output_type": "stream",
     "text": [
      "Training Batches: 100%|██████████| 1/1 [00:00<00:00,  1.42it/s]\n",
      "Running inference: 100%|██████████| 1/1 [00:02<00:00,  2.34s/it]\n",
      "Running inference: 100%|██████████| 1/1 [00:02<00:00,  2.36s/it]\n"
     ]
    },
    {
     "name": "stdout",
     "output_type": "stream",
     "text": [
      "Epoch: 034, Average Loss: 0.5450\n",
      "Validation: {'precision': 0.6454767726135067, 'recall': 0.6260869565192645, 'f1': 0.6356340238910679, 'auc': 0.7713639500596022, 'prauc': 0.6728791247063168}\n",
      "Test:       {'precision': 0.6562774363447925, 'recall': 0.5906756222813486, 'f1': 0.6217508787708707, 'auc': 0.7693743616787667, 'prauc': 0.6510563473329063}\n"
     ]
    },
    {
     "name": "stderr",
     "output_type": "stream",
     "text": [
      "Training Batches: 100%|██████████| 1/1 [00:01<00:00,  1.00s/it]\n",
      "Running inference: 100%|██████████| 1/1 [00:02<00:00,  2.39s/it]\n",
      "Running inference: 100%|██████████| 1/1 [00:02<00:00,  2.42s/it]\n"
     ]
    },
    {
     "name": "stdout",
     "output_type": "stream",
     "text": [
      "Epoch: 035, Average Loss: 0.5430\n",
      "Validation: {'precision': 0.6509591326077941, 'recall': 0.6169960474283913, 'f1': 0.6335227222737436, 'auc': 0.7718693142606186, 'prauc': 0.6728505513134979}\n",
      "Test:       {'precision': 0.6608028867809617, 'recall': 0.5788225997606526, 'f1': 0.6171019326772298, 'auc': 0.7698692586169504, 'prauc': 0.6504867770889841}\n"
     ]
    },
    {
     "name": "stderr",
     "output_type": "stream",
     "text": [
      "Training Batches: 100%|██████████| 1/1 [00:00<00:00,  1.41it/s]\n",
      "Running inference: 100%|██████████| 1/1 [00:02<00:00,  2.32s/it]\n",
      "Running inference: 100%|██████████| 1/1 [00:02<00:00,  2.40s/it]\n"
     ]
    },
    {
     "name": "stdout",
     "output_type": "stream",
     "text": [
      "Epoch: 036, Average Loss: 0.5464\n",
      "Validation: {'precision': 0.6427722772251772, 'recall': 0.6415019762820494, 'f1': 0.6421364935137848, 'auc': 0.7711533555011816, 'prauc': 0.6728280548894839}\n",
      "Test:       {'precision': 0.6506791171449462, 'recall': 0.6056894508075635, 'f1': 0.6273787549792893, 'auc': 0.7696544821420849, 'prauc': 0.6518315654994429}\n"
     ]
    },
    {
     "name": "stderr",
     "output_type": "stream",
     "text": [
      "Training Batches: 100%|██████████| 1/1 [00:00<00:00,  1.43it/s]\n",
      "Running inference: 100%|██████████| 1/1 [00:02<00:00,  2.40s/it]\n",
      "Running inference: 100%|██████████| 1/1 [00:02<00:00,  2.12s/it]\n"
     ]
    },
    {
     "name": "stdout",
     "output_type": "stream",
     "text": [
      "Epoch: 037, Average Loss: 0.5416\n",
      "Validation: {'precision': 0.6351865955802164, 'recall': 0.6592885375468013, 'f1': 0.647013183517455, 'auc': 0.770904280904281, 'prauc': 0.6722034242235584}\n",
      "Test:       {'precision': 0.6469387755075635, 'recall': 0.6262346898434364, 'f1': 0.6364183848803169, 'auc': 0.7697651166353542, 'prauc': 0.6528042439511368}\n"
     ]
    },
    {
     "name": "stderr",
     "output_type": "stream",
     "text": [
      "Training Batches: 100%|██████████| 1/1 [00:00<00:00,  1.43it/s]\n",
      "Running inference: 100%|██████████| 1/1 [00:02<00:00,  2.34s/it]\n",
      "Running inference: 100%|██████████| 1/1 [00:02<00:00,  2.38s/it]\n"
     ]
    },
    {
     "name": "stdout",
     "output_type": "stream",
     "text": [
      "Epoch: 038, Average Loss: 0.5430\n",
      "Validation: {'precision': 0.6367142306184469, 'recall': 0.652569169957895, 'f1': 0.644544207373801, 'auc': 0.7710196687370601, 'prauc': 0.6723280143251918}\n",
      "Test:       {'precision': 0.646551724135277, 'recall': 0.6222836823365379, 'f1': 0.6341856201251062, 'auc': 0.7696059977403965, 'prauc': 0.6531135226856993}\n"
     ]
    },
    {
     "name": "stderr",
     "output_type": "stream",
     "text": [
      "Training Batches: 100%|██████████| 1/1 [00:01<00:00,  1.01s/it]\n",
      "Running inference: 100%|██████████| 1/1 [00:02<00:00,  2.35s/it]\n",
      "Running inference: 100%|██████████| 1/1 [00:02<00:00,  2.40s/it]\n"
     ]
    },
    {
     "name": "stdout",
     "output_type": "stream",
     "text": [
      "Epoch: 039, Average Loss: 0.5379\n",
      "Validation: {'precision': 0.6387802971046178, 'recall': 0.6458498023689888, 'f1': 0.6422955924819035, 'auc': 0.7716123972645711, 'prauc': 0.6715564945421706}\n",
      "Test:       {'precision': 0.6507737348362578, 'recall': 0.6147767680734304, 'f1': 0.6322633026000134, 'auc': 0.7701123089329736, 'prauc': 0.6530333496846834}\n"
     ]
    },
    {
     "name": "stderr",
     "output_type": "stream",
     "text": [
      "Training Batches: 100%|██████████| 1/1 [00:00<00:00,  1.41it/s]\n",
      "Running inference: 100%|██████████| 1/1 [00:02<00:00,  2.37s/it]\n",
      "Running inference: 100%|██████████| 1/1 [00:02<00:00,  2.40s/it]\n"
     ]
    },
    {
     "name": "stdout",
     "output_type": "stream",
     "text": [
      "Epoch: 040, Average Loss: 0.5349\n",
      "Validation: {'precision': 0.6416207710438961, 'recall': 0.6446640316180053, 'f1': 0.6431387962593217, 'auc': 0.7713527615701529, 'prauc': 0.6682935004959534}\n",
      "Test:       {'precision': 0.6545914069054145, 'recall': 0.6139865665720506, 'f1': 0.6336391387334258, 'auc': 0.770534060396904, 'prauc': 0.6519694411472692}\n"
     ]
    },
    {
     "name": "stderr",
     "output_type": "stream",
     "text": [
      "Training Batches: 100%|██████████| 1/1 [00:00<00:00,  1.40it/s]\n",
      "Running inference: 100%|██████████| 1/1 [00:02<00:00,  2.42s/it]\n",
      "Running inference: 100%|██████████| 1/1 [00:02<00:00,  2.11s/it]\n"
     ]
    },
    {
     "name": "stdout",
     "output_type": "stream",
     "text": [
      "Epoch: 041, Average Loss: 0.5333\n",
      "Validation: {'precision': 0.6452661519681216, 'recall': 0.6276679841872425, 'f1': 0.6363454167575723, 'auc': 0.771557448187883, 'prauc': 0.6689246326628042}\n",
      "Test:       {'precision': 0.6576063130177221, 'recall': 0.592651126034798, 'f1': 0.623441391519633, 'auc': 0.7709581156552991, 'prauc': 0.651898934331091}\n"
     ]
    },
    {
     "name": "stderr",
     "output_type": "stream",
     "text": [
      "Training Batches: 100%|██████████| 1/1 [00:00<00:00,  1.41it/s]\n",
      "Running inference: 100%|██████████| 1/1 [00:02<00:00,  2.38s/it]\n",
      "Running inference: 100%|██████████| 1/1 [00:02<00:00,  2.36s/it]\n"
     ]
    },
    {
     "name": "stdout",
     "output_type": "stream",
     "text": [
      "Epoch: 042, Average Loss: 0.5320\n",
      "Validation: {'precision': 0.6421763304184187, 'recall': 0.6391304347800825, 'f1': 0.640649757279582, 'auc': 0.7715445343706213, 'prauc': 0.6697875794178634}\n",
      "Test:       {'precision': 0.6524731182767636, 'recall': 0.5993678387965257, 'f1': 0.624794064199176, 'auc': 0.7713183453352299, 'prauc': 0.6529799933091638}\n"
     ]
    },
    {
     "name": "stderr",
     "output_type": "stream",
     "text": [
      "Training Batches: 100%|██████████| 1/1 [00:00<00:00,  1.01it/s]\n",
      "Running inference: 100%|██████████| 1/1 [00:02<00:00,  2.36s/it]\n",
      "Running inference: 100%|██████████| 1/1 [00:02<00:00,  2.36s/it]\n"
     ]
    },
    {
     "name": "stdout",
     "output_type": "stream",
     "text": [
      "Epoch: 043, Average Loss: 0.5279\n",
      "Validation: {'precision': 0.6362591031021991, 'recall': 0.6561264822108454, 'f1': 0.6460400806184378, 'auc': 0.7705141476880608, 'prauc': 0.6696501478482995}\n",
      "Test:       {'precision': 0.6467436108794447, 'recall': 0.6199130778323987, 'f1': 0.6330441749472383, 'auc': 0.7706251126372237, 'prauc': 0.6545056977387019}\n"
     ]
    },
    {
     "name": "stderr",
     "output_type": "stream",
     "text": [
      "Training Batches: 100%|██████████| 1/1 [00:00<00:00,  1.43it/s]\n",
      "Running inference: 100%|██████████| 1/1 [00:02<00:00,  2.34s/it]\n",
      "Running inference: 100%|██████████| 1/1 [00:02<00:00,  2.40s/it]\n"
     ]
    },
    {
     "name": "stdout",
     "output_type": "stream",
     "text": [
      "Epoch: 044, Average Loss: 0.5263\n",
      "Validation: {'precision': 0.6292217327436519, 'recall': 0.6774703557285475, 'f1': 0.6524552671779155, 'auc': 0.770079678775331, 'prauc': 0.6658140098068835}\n",
      "Test:       {'precision': 0.6426307448468993, 'recall': 0.6408534176189615, 'f1': 0.6417408456403985, 'auc': 0.7712726883176572, 'prauc': 0.6564398134359588}\n"
     ]
    },
    {
     "name": "stderr",
     "output_type": "stream",
     "text": [
      "Training Batches: 100%|██████████| 1/1 [00:00<00:00,  1.40it/s]\n",
      "Running inference: 100%|██████████| 1/1 [00:02<00:00,  2.37s/it]\n",
      "Running inference: 100%|██████████| 1/1 [00:02<00:00,  2.10s/it]\n"
     ]
    },
    {
     "name": "stdout",
     "output_type": "stream",
     "text": [
      "Epoch: 045, Average Loss: 0.5299\n",
      "Validation: {'precision': 0.6410058027054507, 'recall': 0.6549407114598619, 'f1': 0.6478983332189637, 'auc': 0.7722773281468934, 'prauc': 0.6675894779041773}\n",
      "Test:       {'precision': 0.6516478931971146, 'recall': 0.6171473725775696, 'f1': 0.6339285664296958, 'auc': 0.7729415779714524, 'prauc': 0.6572539541192919}\n"
     ]
    },
    {
     "name": "stderr",
     "output_type": "stream",
     "text": [
      "Training Batches: 100%|██████████| 1/1 [00:00<00:00,  1.40it/s]\n",
      "Running inference: 100%|██████████| 1/1 [00:02<00:00,  2.36s/it]\n",
      "Running inference: 100%|██████████| 1/1 [00:02<00:00,  2.40s/it]\n"
     ]
    },
    {
     "name": "stdout",
     "output_type": "stream",
     "text": [
      "Epoch: 046, Average Loss: 0.5224\n",
      "Validation: {'precision': 0.6424625098632895, 'recall': 0.6434782608670219, 'f1': 0.6429699791996756, 'auc': 0.7667863416776459, 'prauc': 0.6370370657388635}\n",
      "Test:       {'precision': 0.6573485811069151, 'recall': 0.6131963650706709, 'f1': 0.634505309803117, 'auc': 0.7730872406123779, 'prauc': 0.6500177023421332}\n"
     ]
    },
    {
     "name": "stderr",
     "output_type": "stream",
     "text": [
      "Training Batches: 100%|██████████| 1/1 [00:01<00:00,  1.02s/it]\n",
      "Running inference: 100%|██████████| 1/1 [00:02<00:00,  2.33s/it]\n",
      "Running inference: 100%|██████████| 1/1 [00:02<00:00,  2.38s/it]\n"
     ]
    },
    {
     "name": "stdout",
     "output_type": "stream",
     "text": [
      "Epoch: 047, Average Loss: 0.5223\n",
      "Validation: {'precision': 0.6536648092556637, 'recall': 0.6027667984165899, 'f1': 0.6271848603151058, 'auc': 0.7674062571888658, 'prauc': 0.6469122510986163}\n",
      "Test:       {'precision': 0.6655933762618879, 'recall': 0.571710786248235, 'f1': 0.6150903244629412, 'auc': 0.7698728190265777, 'prauc': 0.6485761557315413}\n"
     ]
    },
    {
     "name": "stderr",
     "output_type": "stream",
     "text": [
      "Training Batches: 100%|██████████| 1/1 [00:00<00:00,  1.39it/s]\n",
      "Running inference: 100%|██████████| 1/1 [00:02<00:00,  2.38s/it]\n",
      "Running inference: 100%|██████████| 1/1 [00:02<00:00,  2.42s/it]\n"
     ]
    },
    {
     "name": "stdout",
     "output_type": "stream",
     "text": [
      "Epoch: 048, Average Loss: 0.5303\n",
      "Validation: {'precision': 0.6395393474063742, 'recall': 0.6584980237128123, 'f1': 0.6488802286888997, 'auc': 0.765368697325219, 'prauc': 0.6359739388896848}\n",
      "Test:       {'precision': 0.6482758620663356, 'recall': 0.6313709996024047, 'f1': 0.6397117644138441, 'auc': 0.7723027985971568, 'prauc': 0.6494570247344967}\n"
     ]
    },
    {
     "name": "stderr",
     "output_type": "stream",
     "text": [
      "Training Batches: 100%|██████████| 1/1 [00:00<00:00,  1.40it/s]\n",
      "Running inference: 100%|██████████| 1/1 [00:02<00:00,  2.40s/it]\n",
      "Running inference: 100%|██████████| 1/1 [00:02<00:00,  2.11s/it]\n"
     ]
    },
    {
     "name": "stdout",
     "output_type": "stream",
     "text": [
      "Epoch: 049, Average Loss: 0.5145\n",
      "Validation: {'precision': 0.6188510491894776, 'recall': 0.7110671936730788, 'f1': 0.6617619961251555, 'auc': 0.7597319990798252, 'prauc': 0.6271791844565864}\n",
      "Test:       {'precision': 0.6318462096458766, 'recall': 0.6882655077017453, 'f1': 0.6588502219355366, 'auc': 0.767477501090899, 'prauc': 0.6423602595879692}\n"
     ]
    },
    {
     "name": "stderr",
     "output_type": "stream",
     "text": [
      "Training Batches: 100%|██████████| 1/1 [00:00<00:00,  1.40it/s]\n",
      "Running inference: 100%|██████████| 1/1 [00:02<00:00,  2.34s/it]\n",
      "Running inference: 100%|██████████| 1/1 [00:02<00:00,  2.35s/it]\n"
     ]
    },
    {
     "name": "stdout",
     "output_type": "stream",
     "text": [
      "Epoch: 050, Average Loss: 0.5137\n",
      "Validation: {'precision': 0.6168384879703889, 'recall': 0.7094861660051008, 'f1': 0.6599264656102063, 'auc': 0.7616869523391263, 'prauc': 0.6395056551597322}\n",
      "Test:       {'precision': 0.6294562477471032, 'recall': 0.6906361122058845, 'f1': 0.6586284803134576, 'auc': 0.7663305256012825, 'prauc': 0.6443283154759027}\n"
     ]
    },
    {
     "name": "stderr",
     "output_type": "stream",
     "text": [
      "Training Batches: 100%|██████████| 1/1 [00:00<00:00,  1.02it/s]\n",
      "Running inference: 100%|██████████| 1/1 [00:02<00:00,  2.36s/it]\n",
      "Running inference: 100%|██████████| 1/1 [00:02<00:00,  2.38s/it]\n"
     ]
    },
    {
     "name": "stdout",
     "output_type": "stream",
     "text": [
      "Epoch: 051, Average Loss: 0.5184\n",
      "Validation: {'precision': 0.6253137325183746, 'recall': 0.6893280632383821, 'f1': 0.6557623563555072, 'auc': 0.764356400443357, 'prauc': 0.6473716565298304}\n",
      "Test:       {'precision': 0.635033758437228, 'recall': 0.6689055709179419, 'f1': 0.6515297236904952, 'auc': 0.7674613745296464, 'prauc': 0.6477345087442652}\n"
     ]
    },
    {
     "name": "stderr",
     "output_type": "stream",
     "text": [
      "Training Batches: 100%|██████████| 1/1 [00:00<00:00,  1.42it/s]\n",
      "Running inference: 100%|██████████| 1/1 [00:02<00:00,  2.35s/it]\n",
      "Running inference: 100%|██████████| 1/1 [00:02<00:00,  2.43s/it]\n"
     ]
    },
    {
     "name": "stdout",
     "output_type": "stream",
     "text": [
      "Epoch: 052, Average Loss: 0.5108\n",
      "Validation: {'precision': 0.6307922272024261, 'recall': 0.667193675886691, 'f1': 0.6484825151704771, 'auc': 0.7642023757241149, 'prauc': 0.6448008033097701}\n",
      "Test:       {'precision': 0.6384466019392682, 'recall': 0.6495456341341386, 'f1': 0.6439482911200582, 'auc': 0.7676212788090807, 'prauc': 0.6462443108272248}\n"
     ]
    },
    {
     "name": "stderr",
     "output_type": "stream",
     "text": [
      "Training Batches: 100%|██████████| 1/1 [00:00<00:00,  1.40it/s]\n",
      "Running inference: 100%|██████████| 1/1 [00:02<00:00,  2.39s/it]\n",
      "Running inference: 100%|██████████| 1/1 [00:02<00:00,  2.12s/it]\n"
     ]
    },
    {
     "name": "stdout",
     "output_type": "stream",
     "text": [
      "Epoch: 053, Average Loss: 0.5059\n",
      "Validation: {'precision': 0.634607956737603, 'recall': 0.6494071146219391, 'f1': 0.6419222454376953, 'auc': 0.7588136018570801, 'prauc': 0.6244489605994274}\n",
      "Test:       {'precision': 0.6400319616434678, 'recall': 0.6329514026051641, 'f1': 0.6364719854624652, 'auc': 0.7655457694322707, 'prauc': 0.6376139268901553}\n"
     ]
    },
    {
     "name": "stderr",
     "output_type": "stream",
     "text": [
      "Training Batches: 100%|██████████| 1/1 [00:00<00:00,  1.40it/s]\n",
      "Running inference: 100%|██████████| 1/1 [00:02<00:00,  2.39s/it]\n",
      "Running inference: 100%|██████████| 1/1 [00:02<00:00,  2.39s/it]\n"
     ]
    },
    {
     "name": "stdout",
     "output_type": "stream",
     "text": [
      "Epoch: 054, Average Loss: 0.5094\n",
      "Validation: {'precision': 0.6261510128890382, 'recall': 0.6719367588906248, 'f1': 0.6482364106376858, 'auc': 0.7511051508877595, 'prauc': 0.602987702608873}\n",
      "Test:       {'precision': 0.6249027237329771, 'recall': 0.6345318056079237, 'f1': 0.6296804498106054, 'auc': 0.759069384320354, 'prauc': 0.626610774991833}\n"
     ]
    },
    {
     "name": "stderr",
     "output_type": "stream",
     "text": [
      "Training Batches: 100%|██████████| 1/1 [00:01<00:00,  1.00s/it]\n",
      "Running inference: 100%|██████████| 1/1 [00:02<00:00,  2.32s/it]\n",
      "Running inference: 100%|██████████| 1/1 [00:02<00:00,  2.40s/it]\n"
     ]
    },
    {
     "name": "stdout",
     "output_type": "stream",
     "text": [
      "Epoch: 055, Average Loss: 0.5035\n",
      "Validation: {'precision': 0.6282051282027594, 'recall': 0.6584980237128123, 'f1': 0.6429949776324781, 'auc': 0.7567627621975447, 'prauc': 0.615543809025584}\n",
      "Test:       {'precision': 0.629893238431673, 'recall': 0.6293954958489554, 'f1': 0.6296442637722156, 'auc': 0.7646644633316029, 'prauc': 0.6366185257280667}\n"
     ]
    },
    {
     "name": "stderr",
     "output_type": "stream",
     "text": [
      "Training Batches: 100%|██████████| 1/1 [00:00<00:00,  1.40it/s]\n",
      "Running inference: 100%|██████████| 1/1 [00:02<00:00,  2.34s/it]\n",
      "Running inference: 100%|██████████| 1/1 [00:02<00:00,  2.36s/it]\n"
     ]
    },
    {
     "name": "stdout",
     "output_type": "stream",
     "text": [
      "Epoch: 056, Average Loss: 0.4991\n",
      "Validation: {'precision': 0.6355066771381167, 'recall': 0.639525691697077, 'f1': 0.6375098452733456, 'auc': 0.7626167471819646, 'prauc': 0.6338245243036311}\n",
      "Test:       {'precision': 0.644389438941236, 'recall': 0.6171473725775696, 'f1': 0.6304742634155286, 'auc': 0.769697416493472, 'prauc': 0.64750098939798}\n"
     ]
    },
    {
     "name": "stderr",
     "output_type": "stream",
     "text": [
      "Training Batches: 100%|██████████| 1/1 [00:00<00:00,  1.40it/s]\n",
      "Running inference: 100%|██████████| 1/1 [00:02<00:00,  2.38s/it]\n",
      "Running inference: 100%|██████████| 1/1 [00:02<00:00,  2.11s/it]\n"
     ]
    },
    {
     "name": "stdout",
     "output_type": "stream",
     "text": [
      "Epoch: 057, Average Loss: 0.4921\n",
      "Validation: {'precision': 0.6367588932781156, 'recall': 0.6367588932781156, 'f1': 0.6367588882781157, 'auc': 0.7641564715477758, 'prauc': 0.6405362628834198}\n",
      "Test:       {'precision': 0.6469608659423524, 'recall': 0.6139865665720506, 'f1': 0.6300425654448139, 'auc': 0.7706332806357803, 'prauc': 0.6500804843771291}\n"
     ]
    },
    {
     "name": "stderr",
     "output_type": "stream",
     "text": [
      "Training Batches: 100%|██████████| 1/1 [00:00<00:00,  1.40it/s]\n",
      "Running inference: 100%|██████████| 1/1 [00:02<00:00,  2.35s/it]\n",
      "Running inference: 100%|██████████| 1/1 [00:02<00:00,  2.38s/it]\n"
     ]
    },
    {
     "name": "stdout",
     "output_type": "stream",
     "text": [
      "Epoch: 058, Average Loss: 0.4896\n",
      "Validation: {'precision': 0.6338194718146085, 'recall': 0.6355731225271322, 'f1': 0.6346950808471197, 'auc': 0.7605395570612962, 'prauc': 0.6310832340913901}\n",
      "Test:       {'precision': 0.6433595366129774, 'recall': 0.6143816673227405, 'f1': 0.628536777538513, 'auc': 0.7685558863362265, 'prauc': 0.6459271746926375}\n"
     ]
    },
    {
     "name": "stderr",
     "output_type": "stream",
     "text": [
      "Training Batches: 100%|██████████| 1/1 [00:01<00:00,  1.02s/it]\n",
      "Running inference: 100%|██████████| 1/1 [00:02<00:00,  2.38s/it]\n",
      "Running inference: 100%|██████████| 1/1 [00:02<00:00,  2.44s/it]\n"
     ]
    },
    {
     "name": "stdout",
     "output_type": "stream",
     "text": [
      "Epoch: 059, Average Loss: 0.4890\n",
      "Validation: {'precision': 0.6196709050089018, 'recall': 0.6549407114598619, 'f1': 0.6368178274379682, 'auc': 0.7523320158102768, 'prauc': 0.6140926650482603}\n",
      "Test:       {'precision': 0.6244660194150506, 'recall': 0.6353220071093034, 'f1': 0.629847233540795, 'auc': 0.7613563191982629, 'prauc': 0.6354413522449727}\n",
      "\n",
      "Early stopping triggered after 59 epochs (no improvement for 10 epochs).\n",
      "\n",
      "Best validation performance:\n",
      "{'precision': 0.6188510491894776, 'recall': 0.7110671936730788, 'f1': 0.6617619961251555, 'auc': 0.7597319990798252, 'prauc': 0.6271791844565864}\n",
      "Corresponding test performance:\n",
      "{'precision': 0.6318462096458766, 'recall': 0.6882655077017453, 'f1': 0.6588502219355366, 'auc': 0.767477501090899, 'prauc': 0.6423602595879692}\n",
      "Corresponding test-long performance:\n",
      "{'precision': 0.7764705882251441, 'recall': 0.9138461538320947, 'f1': 0.8395759667526077, 'auc': 0.5328657616892911, 'prauc': 0.7683071486662394}\n",
      "[INFO] Random seed set to 1461364854\n",
      "Training with seed: 1461364854\n"
     ]
    },
    {
     "name": "stderr",
     "output_type": "stream",
     "text": [
      "Training Batches: 100%|██████████| 1/1 [00:00<00:00,  1.42it/s]\n",
      "Running inference: 100%|██████████| 1/1 [00:02<00:00,  2.38s/it]\n",
      "Running inference: 100%|██████████| 1/1 [00:02<00:00,  2.44s/it]\n"
     ]
    },
    {
     "name": "stdout",
     "output_type": "stream",
     "text": [
      "Epoch: 001, Average Loss: 0.6908\n",
      "Validation: {'precision': 0.6801643192448348, 'recall': 0.45810276679660833, 'f1': 0.5474728341107137, 'auc': 0.7658256477821694, 'prauc': 0.664104694992346}\n",
      "Test:       {'precision': 0.6696750902486783, 'recall': 0.4397471355178201, 'f1': 0.5308848032255867, 'auc': 0.7628480261141386, 'prauc': 0.6480370195173468}\n"
     ]
    },
    {
     "name": "stderr",
     "output_type": "stream",
     "text": [
      "Training Batches: 100%|██████████| 1/1 [00:00<00:00,  1.40it/s]\n",
      "Running inference: 100%|██████████| 1/1 [00:02<00:00,  2.40s/it]\n",
      "Running inference: 100%|██████████| 1/1 [00:02<00:00,  2.04s/it]\n"
     ]
    },
    {
     "name": "stdout",
     "output_type": "stream",
     "text": [
      "Epoch: 002, Average Loss: 0.6670\n",
      "Validation: {'precision': 0.6772255597996875, 'recall': 0.4901185770731616, 'f1': 0.568676904091681, 'auc': 0.7661756801974193, 'prauc': 0.6641743442983419}\n",
      "Test:       {'precision': 0.6631753031936981, 'recall': 0.47530620307990795, 'f1': 0.5537399260887256, 'auc': 0.762767393307875, 'prauc': 0.6480574310786177}\n"
     ]
    },
    {
     "name": "stderr",
     "output_type": "stream",
     "text": [
      "Training Batches: 100%|██████████| 1/1 [00:00<00:00,  1.01it/s]\n",
      "Running inference: 100%|██████████| 1/1 [00:02<00:00,  2.35s/it]\n",
      "Running inference: 100%|██████████| 1/1 [00:02<00:00,  2.39s/it]\n"
     ]
    },
    {
     "name": "stdout",
     "output_type": "stream",
     "text": [
      "Epoch: 003, Average Loss: 0.6448\n",
      "Validation: {'precision': 0.6649537512812695, 'recall': 0.5114624505908638, 'f1': 0.5781948118832484, 'auc': 0.766410063366585, 'prauc': 0.6648508637361038}\n",
      "Test:       {'precision': 0.6603475513393346, 'recall': 0.4954563413650911, 'f1': 0.566139949952482, 'auc': 0.7628783943139001, 'prauc': 0.6490522067010147}\n"
     ]
    },
    {
     "name": "stderr",
     "output_type": "stream",
     "text": [
      "Training Batches: 100%|██████████| 1/1 [00:00<00:00,  1.39it/s]\n",
      "Running inference: 100%|██████████| 1/1 [00:02<00:00,  2.41s/it]\n",
      "Running inference: 100%|██████████| 1/1 [00:02<00:00,  2.39s/it]\n"
     ]
    },
    {
     "name": "stdout",
     "output_type": "stream",
     "text": [
      "Epoch: 004, Average Loss: 0.6233\n",
      "Validation: {'precision': 0.6619164619132093, 'recall': 0.5324110671915715, 'f1': 0.5901423827889531, 'auc': 0.7668821757952193, 'prauc': 0.6654150496283863}\n",
      "Test:       {'precision': 0.6566113624904143, 'recall': 0.5160015804009641, 'f1': 0.5778761012640273, 'auc': 0.7632984179319822, 'prauc': 0.6503283701718836}\n"
     ]
    },
    {
     "name": "stderr",
     "output_type": "stream",
     "text": [
      "Training Batches: 100%|██████████| 1/1 [00:00<00:00,  1.41it/s]\n",
      "Running inference: 100%|██████████| 1/1 [00:02<00:00,  2.38s/it]\n",
      "Running inference: 100%|██████████| 1/1 [00:02<00:00,  2.07s/it]\n"
     ]
    },
    {
     "name": "stdout",
     "output_type": "stream",
     "text": [
      "Epoch: 005, Average Loss: 0.6058\n",
      "Validation: {'precision': 0.6645783132498093, 'recall': 0.5450592885353951, 'f1': 0.5989142187161358, 'auc': 0.7673973691364996, 'prauc': 0.6663144046382943}\n",
      "Test:       {'precision': 0.6551212271120479, 'recall': 0.5231133939133816, 'f1': 0.5817223149196099, 'auc': 0.7637937861008519, 'prauc': 0.6510849079978602}\n"
     ]
    },
    {
     "name": "stderr",
     "output_type": "stream",
     "text": [
      "Training Batches: 100%|██████████| 1/1 [00:01<00:00,  1.05s/it]\n",
      "Running inference: 100%|██████████| 1/1 [00:02<00:00,  2.05s/it]\n",
      "Running inference: 100%|██████████| 1/1 [00:02<00:00,  2.37s/it]\n"
     ]
    },
    {
     "name": "stdout",
     "output_type": "stream",
     "text": [
      "Epoch: 006, Average Loss: 0.5910\n",
      "Validation: {'precision': 0.6593457943894423, 'recall': 0.5577075098792186, 'f1': 0.6042826502785359, 'auc': 0.7679635903548947, 'prauc': 0.6669561910668578}\n",
      "Test:       {'precision': 0.6535129932596078, 'recall': 0.536546819436837, 'f1': 0.5892818349242422, 'auc': 0.7643902070723767, 'prauc': 0.6519367094553055}\n"
     ]
    },
    {
     "name": "stderr",
     "output_type": "stream",
     "text": [
      "Training Batches: 100%|██████████| 1/1 [00:01<00:00,  1.31s/it]\n",
      "Running inference: 100%|██████████| 1/1 [00:02<00:00,  2.08s/it]\n",
      "Running inference: 100%|██████████| 1/1 [00:02<00:00,  2.37s/it]\n"
     ]
    },
    {
     "name": "stdout",
     "output_type": "stream",
     "text": [
      "Epoch: 007, Average Loss: 0.5812\n",
      "Validation: {'precision': 0.6578103527225937, 'recall': 0.5675889328040807, 'f1': 0.6093783103226299, 'auc': 0.7687096639270553, 'prauc': 0.6678228007208509}\n",
      "Test:       {'precision': 0.6537186167662069, 'recall': 0.5452390359520141, 'f1': 0.5945713005101494, 'auc': 0.7650563178264579, 'prauc': 0.6528639950289619}\n"
     ]
    },
    {
     "name": "stderr",
     "output_type": "stream",
     "text": [
      "Training Batches: 100%|██████████| 1/1 [00:00<00:00,  1.02it/s]\n",
      "Running inference: 100%|██████████| 1/1 [00:02<00:00,  2.33s/it]\n",
      "Running inference: 100%|██████████| 1/1 [00:02<00:00,  2.07s/it]\n"
     ]
    },
    {
     "name": "stdout",
     "output_type": "stream",
     "text": [
      "Epoch: 008, Average Loss: 0.5760\n",
      "Validation: {'precision': 0.6567299006293734, 'recall': 0.5747035573099815, 'f1': 0.6129848179538333, 'auc': 0.7695806930589538, 'prauc': 0.6688367778306364}\n",
      "Test:       {'precision': 0.6537019681318946, 'recall': 0.5511655472123621, 'f1': 0.5980707345834868, 'auc': 0.7658892442433675, 'prauc': 0.6535716965103497}\n"
     ]
    },
    {
     "name": "stderr",
     "output_type": "stream",
     "text": [
      "Training Batches: 100%|██████████| 1/1 [00:01<00:00,  1.32s/it]\n",
      "Running inference: 100%|██████████| 1/1 [00:02<00:00,  2.10s/it]\n",
      "Running inference: 100%|██████████| 1/1 [00:02<00:00,  2.33s/it]\n"
     ]
    },
    {
     "name": "stdout",
     "output_type": "stream",
     "text": [
      "Epoch: 009, Average Loss: 0.5755\n",
      "Validation: {'precision': 0.6558849955046906, 'recall': 0.5770750988119483, 'f1': 0.61396130704476, 'auc': 0.7702610996089256, 'prauc': 0.6693606485498182}\n",
      "Test:       {'precision': 0.6545454545424031, 'recall': 0.5547214539685709, 'f1': 0.6005132542273974, 'auc': 0.7666104366287403, 'prauc': 0.6540292115520646}\n"
     ]
    },
    {
     "name": "stderr",
     "output_type": "stream",
     "text": [
      "Training Batches: 100%|██████████| 1/1 [00:00<00:00,  1.01it/s]\n",
      "Running inference: 100%|██████████| 1/1 [00:02<00:00,  2.32s/it]\n",
      "Running inference: 100%|██████████| 1/1 [00:02<00:00,  2.37s/it]\n"
     ]
    },
    {
     "name": "stdout",
     "output_type": "stream",
     "text": [
      "Epoch: 010, Average Loss: 0.5763\n",
      "Validation: {'precision': 0.6559044670470769, 'recall': 0.5861660079028215, 'f1': 0.6190774318739587, 'auc': 0.7707615492398101, 'prauc': 0.6695290864664574}\n",
      "Test:       {'precision': 0.6504545454515889, 'recall': 0.5653891742371973, 'f1': 0.6049460952121523, 'auc': 0.7671555981734259, 'prauc': 0.6544979712453868}\n"
     ]
    },
    {
     "name": "stderr",
     "output_type": "stream",
     "text": [
      "Training Batches: 100%|██████████| 1/1 [00:01<00:00,  1.00s/it]\n",
      "Running inference: 100%|██████████| 1/1 [00:02<00:00,  2.04s/it]\n",
      "Running inference: 100%|██████████| 1/1 [00:02<00:00,  2.35s/it]\n"
     ]
    },
    {
     "name": "stdout",
     "output_type": "stream",
     "text": [
      "Epoch: 011, Average Loss: 0.5734\n",
      "Validation: {'precision': 0.654320987651436, 'recall': 0.586561264819816, 'f1': 0.6185910746288376, 'auc': 0.7709623146579667, 'prauc': 0.6695002657901254}\n",
      "Test:       {'precision': 0.6520947176655187, 'recall': 0.5657842749878871, 'f1': 0.6058811035480408, 'auc': 0.7675155660585312, 'prauc': 0.6543440583991021}\n"
     ]
    },
    {
     "name": "stderr",
     "output_type": "stream",
     "text": [
      "Training Batches: 100%|██████████| 1/1 [00:01<00:00,  1.31s/it]\n",
      "Running inference: 100%|██████████| 1/1 [00:02<00:00,  2.05s/it]\n",
      "Running inference: 100%|██████████| 1/1 [00:02<00:00,  2.38s/it]\n"
     ]
    },
    {
     "name": "stdout",
     "output_type": "stream",
     "text": [
      "Epoch: 012, Average Loss: 0.5708\n",
      "Validation: {'precision': 0.6543594306020714, 'recall': 0.5814229248988877, 'f1': 0.615738797861219, 'auc': 0.7710804734717778, 'prauc': 0.6693997921882514}\n",
      "Test:       {'precision': 0.6530330882322931, 'recall': 0.5614381667302986, 'f1': 0.6037815968954313, 'auc': 0.7677753188844231, 'prauc': 0.6540153487075756}\n"
     ]
    },
    {
     "name": "stderr",
     "output_type": "stream",
     "text": [
      "Training Batches: 100%|██████████| 1/1 [00:01<00:00,  1.00s/it]\n",
      "Running inference: 100%|██████████| 1/1 [00:02<00:00,  2.36s/it]\n",
      "Running inference: 100%|██████████| 1/1 [00:02<00:00,  2.09s/it]\n"
     ]
    },
    {
     "name": "stdout",
     "output_type": "stream",
     "text": [
      "Epoch: 013, Average Loss: 0.5687\n",
      "Validation: {'precision': 0.6553873552953902, 'recall': 0.5818181818158822, 'f1': 0.6164154054003583, 'auc': 0.7711581655059916, 'prauc': 0.6693730048291713}\n",
      "Test:       {'precision': 0.6543438077603774, 'recall': 0.5594626629768492, 'f1': 0.6031948832068957, 'auc': 0.7679536535195749, 'prauc': 0.6538487551640906}\n"
     ]
    },
    {
     "name": "stderr",
     "output_type": "stream",
     "text": [
      "Training Batches: 100%|██████████| 1/1 [00:01<00:00,  1.35s/it]\n",
      "Running inference: 100%|██████████| 1/1 [00:02<00:00,  2.06s/it]\n",
      "Running inference: 100%|██████████| 1/1 [00:02<00:00,  2.40s/it]\n"
     ]
    },
    {
     "name": "stdout",
     "output_type": "stream",
     "text": [
      "Epoch: 014, Average Loss: 0.5666\n",
      "Validation: {'precision': 0.6545776205189979, 'recall': 0.584980237151838, 'f1': 0.6178250837211775, 'auc': 0.7709876194658803, 'prauc': 0.6693294651226973}\n",
      "Test:       {'precision': 0.6546795758383832, 'recall': 0.5610430659796087, 'f1': 0.6042553141760263, 'auc': 0.767905378553747, 'prauc': 0.6535227615624359}\n"
     ]
    },
    {
     "name": "stderr",
     "output_type": "stream",
     "text": [
      "Training Batches: 100%|██████████| 1/1 [00:01<00:00,  1.02s/it]\n",
      "Running inference: 100%|██████████| 1/1 [00:02<00:00,  2.34s/it]\n",
      "Running inference: 100%|██████████| 1/1 [00:02<00:00,  2.37s/it]\n"
     ]
    },
    {
     "name": "stdout",
     "output_type": "stream",
     "text": [
      "Epoch: 015, Average Loss: 0.5661\n",
      "Validation: {'precision': 0.6543372963423412, 'recall': 0.587351778653805, 'f1': 0.6190376954910396, 'auc': 0.7704731580818538, 'prauc': 0.669000938007329}\n",
      "Test:       {'precision': 0.6542185338835675, 'recall': 0.5606479652289188, 'f1': 0.6038297822611346, 'auc': 0.7674750925785042, 'prauc': 0.65304131003566}\n"
     ]
    },
    {
     "name": "stderr",
     "output_type": "stream",
     "text": [
      "Training Batches: 100%|██████████| 1/1 [00:01<00:00,  1.02s/it]\n",
      "Running inference: 100%|██████████| 1/1 [00:02<00:00,  2.04s/it]\n",
      "Running inference: 100%|██████████| 1/1 [00:02<00:00,  2.33s/it]\n"
     ]
    },
    {
     "name": "stdout",
     "output_type": "stream",
     "text": [
      "Epoch: 016, Average Loss: 0.5644\n",
      "Validation: {'precision': 0.6548672566342705, 'recall': 0.584980237151838, 'f1': 0.6179540659945171, 'auc': 0.7700650396302571, 'prauc': 0.668923233253203}\n",
      "Test:       {'precision': 0.6552363299320888, 'recall': 0.5586724614754696, 'f1': 0.6031136653212402, 'auc': 0.7670330258361125, 'prauc': 0.6526713615010347}\n"
     ]
    },
    {
     "name": "stderr",
     "output_type": "stream",
     "text": [
      "Training Batches: 100%|██████████| 1/1 [00:01<00:00,  1.30s/it]\n",
      "Running inference: 100%|██████████| 1/1 [00:02<00:00,  2.04s/it]\n",
      "Running inference: 100%|██████████| 1/1 [00:02<00:00,  2.39s/it]\n"
     ]
    },
    {
     "name": "stdout",
     "output_type": "stream",
     "text": [
      "Epoch: 017, Average Loss: 0.5635\n",
      "Validation: {'precision': 0.6541019955625096, 'recall': 0.5830039525668657, 'f1': 0.6165099218686926, 'auc': 0.7697622184578705, 'prauc': 0.6689095666142948}\n",
      "Test:       {'precision': 0.654418604648119, 'recall': 0.5559067562206405, 'f1': 0.6011535946887483, 'auc': 0.7666195470886688, 'prauc': 0.6524387217381076}\n"
     ]
    },
    {
     "name": "stderr",
     "output_type": "stream",
     "text": [
      "Training Batches: 100%|██████████| 1/1 [00:00<00:00,  1.00it/s]\n",
      "Running inference: 100%|██████████| 1/1 [00:02<00:00,  2.40s/it]\n",
      "Running inference: 100%|██████████| 1/1 [00:02<00:00,  2.09s/it]\n"
     ]
    },
    {
     "name": "stdout",
     "output_type": "stream",
     "text": [
      "Epoch: 018, Average Loss: 0.5617\n",
      "Validation: {'precision': 0.6518130187826483, 'recall': 0.5897233201557719, 'f1': 0.619215599907217, 'auc': 0.7698586276847146, 'prauc': 0.6691059068746864}\n",
      "Test:       {'precision': 0.6535107847606539, 'recall': 0.5626234689823681, 'f1': 0.6046709079765266, 'auc': 0.7666548370311503, 'prauc': 0.6527030078009446}\n"
     ]
    },
    {
     "name": "stderr",
     "output_type": "stream",
     "text": [
      "Training Batches: 100%|██████████| 1/1 [00:01<00:00,  1.33s/it]\n",
      "Running inference: 100%|██████████| 1/1 [00:02<00:00,  2.04s/it]\n",
      "Running inference: 100%|██████████| 1/1 [00:02<00:00,  2.39s/it]\n"
     ]
    },
    {
     "name": "stdout",
     "output_type": "stream",
     "text": [
      "Epoch: 019, Average Loss: 0.5595\n",
      "Validation: {'precision': 0.6505307855598704, 'recall': 0.6055335968355513, 'f1': 0.6272261976650566, 'auc': 0.7701939686722297, 'prauc': 0.6694077403227224}\n",
      "Test:       {'precision': 0.6471900089177199, 'recall': 0.5732911892509945, 'f1': 0.6080033472051819, 'auc': 0.7670343348102402, 'prauc': 0.6529792078283887}\n"
     ]
    },
    {
     "name": "stderr",
     "output_type": "stream",
     "text": [
      "Training Batches: 100%|██████████| 1/1 [00:01<00:00,  1.00s/it]\n",
      "Running inference: 100%|██████████| 1/1 [00:02<00:00,  2.37s/it]\n",
      "Running inference: 100%|██████████| 1/1 [00:02<00:00,  2.40s/it]\n"
     ]
    },
    {
     "name": "stdout",
     "output_type": "stream",
     "text": [
      "Epoch: 020, Average Loss: 0.5582\n",
      "Validation: {'precision': 0.6456169505581819, 'recall': 0.61422924900943, 'f1': 0.6295320995174665, 'auc': 0.7706830206830206, 'prauc': 0.6699649863064787}\n",
      "Test:       {'precision': 0.6462938881636485, 'recall': 0.5890952192785891, 'f1': 0.6163703960003161, 'auc': 0.767552898000652, 'prauc': 0.6533640689983375}\n"
     ]
    },
    {
     "name": "stderr",
     "output_type": "stream",
     "text": [
      "Training Batches: 100%|██████████| 1/1 [00:01<00:00,  1.02s/it]\n",
      "Running inference: 100%|██████████| 1/1 [00:02<00:00,  2.06s/it]\n",
      "Running inference: 100%|██████████| 1/1 [00:02<00:00,  2.32s/it]\n"
     ]
    },
    {
     "name": "stdout",
     "output_type": "stream",
     "text": [
      "Epoch: 021, Average Loss: 0.5582\n",
      "Validation: {'precision': 0.6480633069527362, 'recall': 0.615019762843419, 'f1': 0.6311093034575649, 'auc': 0.771699604743083, 'prauc': 0.6705899472869146}\n",
      "Test:       {'precision': 0.6472902097873807, 'recall': 0.5851442117716905, 'f1': 0.6146503374048504, 'auc': 0.7684088623622082, 'prauc': 0.6537505144373454}\n"
     ]
    },
    {
     "name": "stderr",
     "output_type": "stream",
     "text": [
      "Training Batches: 100%|██████████| 1/1 [00:01<00:00,  1.32s/it]\n",
      "Running inference: 100%|██████████| 1/1 [00:02<00:00,  2.07s/it]\n",
      "Running inference: 100%|██████████| 1/1 [00:02<00:00,  2.39s/it]\n"
     ]
    },
    {
     "name": "stdout",
     "output_type": "stream",
     "text": [
      "Epoch: 022, Average Loss: 0.5555\n",
      "Validation: {'precision': 0.6479634247687117, 'recall': 0.6162055335944023, 'f1': 0.6316855703652638, 'auc': 0.7722573561703996, 'prauc': 0.6709051233330112}\n",
      "Test:       {'precision': 0.650282731619616, 'recall': 0.5906756222813486, 'f1': 0.6190476140565918, 'auc': 0.7687821817834155, 'prauc': 0.6537886141023064}\n"
     ]
    },
    {
     "name": "stderr",
     "output_type": "stream",
     "text": [
      "Training Batches: 100%|██████████| 1/1 [00:01<00:00,  1.02s/it]\n",
      "Running inference: 100%|██████████| 1/1 [00:02<00:00,  2.38s/it]\n",
      "Running inference: 100%|██████████| 1/1 [00:02<00:00,  2.07s/it]\n"
     ]
    },
    {
     "name": "stdout",
     "output_type": "stream",
     "text": [
      "Epoch: 023, Average Loss: 0.5574\n",
      "Validation: {'precision': 0.6417609046823839, 'recall': 0.628063241104237, 'f1': 0.6348381891650452, 'auc': 0.7716854884246188, 'prauc': 0.6701710353505628}\n",
      "Test:       {'precision': 0.6487168700014778, 'recall': 0.6092453575637723, 'f1': 0.6283618531930711, 'auc': 0.7685494985424833, 'prauc': 0.6536114662299841}\n"
     ]
    },
    {
     "name": "stderr",
     "output_type": "stream",
     "text": [
      "Training Batches: 100%|██████████| 1/1 [00:01<00:00,  1.31s/it]\n",
      "Running inference: 100%|██████████| 1/1 [00:02<00:00,  2.07s/it]\n",
      "Running inference: 100%|██████████| 1/1 [00:02<00:00,  2.36s/it]\n"
     ]
    },
    {
     "name": "stdout",
     "output_type": "stream",
     "text": [
      "Epoch: 024, Average Loss: 0.5541\n",
      "Validation: {'precision': 0.6415018167111769, 'recall': 0.628063241104237, 'f1': 0.6347113990323769, 'auc': 0.7717488550097246, 'prauc': 0.6699942575746075}\n",
      "Test:       {'precision': 0.6480235491982842, 'recall': 0.6088502568130824, 'f1': 0.6278264362326923, 'auc': 0.7685543155672733, 'prauc': 0.6533638525843883}\n"
     ]
    },
    {
     "name": "stderr",
     "output_type": "stream",
     "text": [
      "Training Batches: 100%|██████████| 1/1 [00:00<00:00,  1.01it/s]\n",
      "Running inference: 100%|██████████| 1/1 [00:02<00:00,  2.34s/it]\n",
      "Running inference: 100%|██████████| 1/1 [00:02<00:00,  2.38s/it]\n"
     ]
    },
    {
     "name": "stdout",
     "output_type": "stream",
     "text": [
      "Epoch: 025, Average Loss: 0.5516\n",
      "Validation: {'precision': 0.6442268461826022, 'recall': 0.624110671934292, 'f1': 0.634009230092067, 'auc': 0.7724482924482925, 'prauc': 0.6705925840183231}\n",
      "Test:       {'precision': 0.6502145922718875, 'recall': 0.5985776372951459, 'f1': 0.6233285282296009, 'auc': 0.7688129688548979, 'prauc': 0.6532811446365203}\n"
     ]
    },
    {
     "name": "stderr",
     "output_type": "stream",
     "text": [
      "Training Batches: 100%|██████████| 1/1 [00:01<00:00,  1.02s/it]\n",
      "Running inference: 100%|██████████| 1/1 [00:02<00:00,  2.05s/it]\n",
      "Running inference: 100%|██████████| 1/1 [00:02<00:00,  2.34s/it]\n"
     ]
    },
    {
     "name": "stdout",
     "output_type": "stream",
     "text": [
      "Epoch: 026, Average Loss: 0.5560\n",
      "Validation: {'precision': 0.6379857256120619, 'recall': 0.6359683794441267, 'f1': 0.6369754502627325, 'auc': 0.7714598364598364, 'prauc': 0.6696544230070435}\n",
      "Test:       {'precision': 0.6452282157649576, 'recall': 0.6143816673227405, 'f1': 0.6294272364495502, 'auc': 0.7681463868701308, 'prauc': 0.6529519170028506}\n"
     ]
    },
    {
     "name": "stderr",
     "output_type": "stream",
     "text": [
      "Training Batches: 100%|██████████| 1/1 [00:01<00:00,  1.03s/it]\n",
      "Running inference: 100%|██████████| 1/1 [00:02<00:00,  2.35s/it]\n",
      "Running inference: 100%|██████████| 1/1 [00:02<00:00,  2.05s/it]\n"
     ]
    },
    {
     "name": "stdout",
     "output_type": "stream",
     "text": [
      "Epoch: 027, Average Loss: 0.5474\n",
      "Validation: {'precision': 0.6360808709151008, 'recall': 0.6466403162029777, 'f1': 0.6413171255348692, 'auc': 0.7703722002635046, 'prauc': 0.6684399871573186}\n",
      "Test:       {'precision': 0.6412337662311639, 'recall': 0.6242591860899871, 'f1': 0.6326326276309994, 'auc': 0.7672706831787295, 'prauc': 0.6521919693411214}\n"
     ]
    },
    {
     "name": "stderr",
     "output_type": "stream",
     "text": [
      "Training Batches: 100%|██████████| 1/1 [00:01<00:00,  1.65s/it]\n",
      "Running inference: 100%|██████████| 1/1 [00:02<00:00,  2.10s/it]\n",
      "Running inference: 100%|██████████| 1/1 [00:02<00:00,  2.10s/it]\n"
     ]
    },
    {
     "name": "stdout",
     "output_type": "stream",
     "text": [
      "Epoch: 028, Average Loss: 0.5512\n",
      "Validation: {'precision': 0.6391425168692373, 'recall': 0.6363636363611211, 'f1': 0.637750044512253, 'auc': 0.770361691448648, 'prauc': 0.6684345768254578}\n",
      "Test:       {'precision': 0.6421183285037563, 'recall': 0.6131963650706709, 'f1': 0.6273241663824953, 'auc': 0.7669236479580057, 'prauc': 0.6517644357145516}\n"
     ]
    },
    {
     "name": "stderr",
     "output_type": "stream",
     "text": [
      "Training Batches: 100%|██████████| 1/1 [00:01<00:00,  1.03s/it]\n",
      "Running inference: 100%|██████████| 1/1 [00:02<00:00,  2.10s/it]\n",
      "Running inference: 100%|██████████| 1/1 [00:02<00:00,  2.35s/it]\n"
     ]
    },
    {
     "name": "stdout",
     "output_type": "stream",
     "text": [
      "Epoch: 029, Average Loss: 0.5464\n",
      "Validation: {'precision': 0.6417370325667804, 'recall': 0.6308300395231983, 'f1': 0.6362367898951801, 'auc': 0.7708770939205721, 'prauc': 0.6687409847876822}\n",
      "Test:       {'precision': 0.6452973428905724, 'recall': 0.6045041485554938, 'f1': 0.624235001122731, 'auc': 0.7668737498642593, 'prauc': 0.6517222113226487}\n"
     ]
    },
    {
     "name": "stderr",
     "output_type": "stream",
     "text": [
      "Training Batches: 100%|██████████| 1/1 [00:01<00:00,  1.33s/it]\n",
      "Running inference: 100%|██████████| 1/1 [00:02<00:00,  2.10s/it]\n",
      "Running inference: 100%|██████████| 1/1 [00:02<00:00,  2.08s/it]\n"
     ]
    },
    {
     "name": "stdout",
     "output_type": "stream",
     "text": [
      "Epoch: 030, Average Loss: 0.5439\n",
      "Validation: {'precision': 0.6408730158704727, 'recall': 0.6383399209460936, 'f1': 0.6396039553935262, 'auc': 0.7716660392747349, 'prauc': 0.6687993556495199}\n",
      "Test:       {'precision': 0.6460066555713561, 'recall': 0.6135914658213608, 'f1': 0.6293819605529392, 'auc': 0.7672060722157885, 'prauc': 0.6514998991056146}\n"
     ]
    },
    {
     "name": "stderr",
     "output_type": "stream",
     "text": [
      "Training Batches: 100%|██████████| 1/1 [00:01<00:00,  1.33s/it]\n",
      "Running inference: 100%|██████████| 1/1 [00:02<00:00,  2.12s/it]\n",
      "Running inference: 100%|██████████| 1/1 [00:02<00:00,  2.10s/it]\n"
     ]
    },
    {
     "name": "stdout",
     "output_type": "stream",
     "text": [
      "Epoch: 031, Average Loss: 0.5414\n",
      "Validation: {'precision': 0.6381603952845376, 'recall': 0.6636363636337406, 'f1': 0.650649094011213, 'auc': 0.7721592738984043, 'prauc': 0.6671595687224188}\n",
      "Test:       {'precision': 0.6436597110728586, 'recall': 0.6337416041065439, 'f1': 0.6386621490889393, 'auc': 0.7678201905175192, 'prauc': 0.6511005235774283}\n"
     ]
    },
    {
     "name": "stderr",
     "output_type": "stream",
     "text": [
      "Training Batches: 100%|██████████| 1/1 [00:01<00:00,  1.02s/it]\n",
      "Running inference: 100%|██████████| 1/1 [00:02<00:00,  2.38s/it]\n",
      "Running inference: 100%|██████████| 1/1 [00:01<00:00,  1.76s/it]\n"
     ]
    },
    {
     "name": "stdout",
     "output_type": "stream",
     "text": [
      "Epoch: 032, Average Loss: 0.5383\n",
      "Validation: {'precision': 0.6344086021481854, 'recall': 0.6762845849775642, 'f1': 0.6546776303574869, 'auc': 0.7724970198883243, 'prauc': 0.6659715565163087}\n",
      "Test:       {'precision': 0.6421587798175903, 'recall': 0.6487554326327588, 'f1': 0.6454402465699205, 'auc': 0.7681703149171843, 'prauc': 0.6506682549386766}\n"
     ]
    },
    {
     "name": "stderr",
     "output_type": "stream",
     "text": [
      "Training Batches: 100%|██████████| 1/1 [00:01<00:00,  1.29s/it]\n",
      "Running inference: 100%|██████████| 1/1 [00:02<00:00,  2.42s/it]\n",
      "Running inference: 100%|██████████| 1/1 [00:01<00:00,  1.74s/it]\n"
     ]
    },
    {
     "name": "stdout",
     "output_type": "stream",
     "text": [
      "Epoch: 033, Average Loss: 0.5365\n",
      "Validation: {'precision': 0.635451505014361, 'recall': 0.6758893280605697, 'f1': 0.6550469208785143, 'auc': 0.7730397139092791, 'prauc': 0.6658156451700766}\n",
      "Test:       {'precision': 0.644287396935044, 'recall': 0.648360331882069, 'f1': 0.6463174428116042, 'auc': 0.7684243082569145, 'prauc': 0.6506407776004172}\n"
     ]
    },
    {
     "name": "stderr",
     "output_type": "stream",
     "text": [
      "Training Batches: 100%|██████████| 1/1 [00:01<00:00,  1.29s/it]\n",
      "Running inference: 100%|██████████| 1/1 [00:02<00:00,  2.10s/it]\n",
      "Running inference: 100%|██████████| 1/1 [00:02<00:00,  2.39s/it]\n"
     ]
    },
    {
     "name": "stdout",
     "output_type": "stream",
     "text": [
      "Epoch: 034, Average Loss: 0.5335\n",
      "Validation: {'precision': 0.6376042456382198, 'recall': 0.664822134384724, 'f1': 0.650928787569324, 'auc': 0.7733893280632412, 'prauc': 0.6662349419795788}\n",
      "Test:       {'precision': 0.649579495391872, 'recall': 0.6408534176189615, 'f1': 0.6451869480605104, 'auc': 0.7687860563468334, 'prauc': 0.6507984581805638}\n"
     ]
    },
    {
     "name": "stderr",
     "output_type": "stream",
     "text": [
      "Training Batches: 100%|██████████| 1/1 [00:00<00:00,  1.40it/s]\n",
      "Running inference: 100%|██████████| 1/1 [00:02<00:00,  2.35s/it]\n",
      "Running inference: 100%|██████████| 1/1 [00:02<00:00,  2.35s/it]\n"
     ]
    },
    {
     "name": "stdout",
     "output_type": "stream",
     "text": [
      "Epoch: 035, Average Loss: 0.5303\n",
      "Validation: {'precision': 0.6382734912122296, 'recall': 0.6604743082977848, 'f1': 0.6491841441830883, 'auc': 0.773488508271117, 'prauc': 0.6656560168929719}\n",
      "Test:       {'precision': 0.6491935483844791, 'recall': 0.6361122086106831, 'f1': 0.6425863051156941, 'auc': 0.7689033404286713, 'prauc': 0.6504081479073544}\n"
     ]
    },
    {
     "name": "stderr",
     "output_type": "stream",
     "text": [
      "Training Batches: 100%|██████████| 1/1 [00:01<00:00,  1.01s/it]\n",
      "Running inference: 100%|██████████| 1/1 [00:02<00:00,  2.33s/it]\n",
      "Running inference: 100%|██████████| 1/1 [00:02<00:00,  2.42s/it]\n"
     ]
    },
    {
     "name": "stdout",
     "output_type": "stream",
     "text": [
      "Epoch: 036, Average Loss: 0.5324\n",
      "Validation: {'precision': 0.6325126719745383, 'recall': 0.6905138339893656, 'f1': 0.6602418695347032, 'auc': 0.7735457055022272, 'prauc': 0.6627849513936921}\n",
      "Test:       {'precision': 0.6409177820243177, 'recall': 0.6621888581562142, 'f1': 0.6513797073967798, 'auc': 0.7689824024659815, 'prauc': 0.6485272535593873}\n"
     ]
    },
    {
     "name": "stderr",
     "output_type": "stream",
     "text": [
      "Training Batches: 100%|██████████| 1/1 [00:00<00:00,  1.40it/s]\n",
      "Running inference: 100%|██████████| 1/1 [00:02<00:00,  2.39s/it]\n",
      "Running inference: 100%|██████████| 1/1 [00:02<00:00,  2.10s/it]\n"
     ]
    },
    {
     "name": "stdout",
     "output_type": "stream",
     "text": [
      "Epoch: 037, Average Loss: 0.5267\n",
      "Validation: {'precision': 0.6184834123201812, 'recall': 0.7221343873489244, 'f1': 0.6663019643928856, 'auc': 0.7714831545266327, 'prauc': 0.6555764059814898}\n",
      "Test:       {'precision': 0.6270885175946425, 'recall': 0.6969577242169224, 'f1': 0.6601796357300154, 'auc': 0.7673928890032874, 'prauc': 0.643857901849509}\n"
     ]
    },
    {
     "name": "stderr",
     "output_type": "stream",
     "text": [
      "Training Batches: 100%|██████████| 1/1 [00:01<00:00,  1.03s/it]\n",
      "Running inference: 100%|██████████| 1/1 [00:02<00:00,  2.07s/it]\n",
      "Running inference: 100%|██████████| 1/1 [00:02<00:00,  2.38s/it]\n"
     ]
    },
    {
     "name": "stdout",
     "output_type": "stream",
     "text": [
      "Epoch: 038, Average Loss: 0.5280\n",
      "Validation: {'precision': 0.6162436548202497, 'recall': 0.7197628458469575, 'f1': 0.6639927024113719, 'auc': 0.7699160340464688, 'prauc': 0.6523202944508193}\n",
      "Test:       {'precision': 0.6246448863614182, 'recall': 0.694982220463473, 'f1': 0.657939026244211, 'auc': 0.7656136266510483, 'prauc': 0.6411004453332007}\n"
     ]
    },
    {
     "name": "stderr",
     "output_type": "stream",
     "text": [
      "Training Batches: 100%|██████████| 1/1 [00:01<00:00,  1.61s/it]\n",
      "Running inference: 100%|██████████| 1/1 [00:02<00:00,  2.07s/it]\n",
      "Running inference: 100%|██████████| 1/1 [00:02<00:00,  2.09s/it]\n"
     ]
    },
    {
     "name": "stdout",
     "output_type": "stream",
     "text": [
      "Epoch: 039, Average Loss: 0.5228\n",
      "Validation: {'precision': 0.6260593220316877, 'recall': 0.7007905138312222, 'f1': 0.6613203978481577, 'auc': 0.7706735052387227, 'prauc': 0.6541401787148535}\n",
      "Test:       {'precision': 0.6339650687453215, 'recall': 0.6740418806769102, 'f1': 0.6533895009386144, 'auc': 0.7654196366853299, 'prauc': 0.6415251401791021}\n"
     ]
    },
    {
     "name": "stderr",
     "output_type": "stream",
     "text": [
      "Training Batches: 100%|██████████| 1/1 [00:01<00:00,  1.31s/it]\n",
      "Running inference: 100%|██████████| 1/1 [00:02<00:00,  2.05s/it]\n",
      "Running inference: 100%|██████████| 1/1 [00:02<00:00,  2.37s/it]\n"
     ]
    },
    {
     "name": "stdout",
     "output_type": "stream",
     "text": [
      "Epoch: 040, Average Loss: 0.5190\n",
      "Validation: {'precision': 0.6355277675592662, 'recall': 0.6830039525664704, 'f1': 0.6584111209327222, 'auc': 0.7729730012338708, 'prauc': 0.6552514460942016}\n",
      "Test:       {'precision': 0.6411947245902204, 'recall': 0.6531015408903473, 'f1': 0.6470933596485067, 'auc': 0.7666090752956475, 'prauc': 0.6418252817347806}\n"
     ]
    },
    {
     "name": "stderr",
     "output_type": "stream",
     "text": [
      "Training Batches: 100%|██████████| 1/1 [00:01<00:00,  1.01s/it]\n",
      "Running inference: 100%|██████████| 1/1 [00:02<00:00,  2.35s/it]\n",
      "Running inference: 100%|██████████| 1/1 [00:02<00:00,  2.43s/it]\n"
     ]
    },
    {
     "name": "stdout",
     "output_type": "stream",
     "text": [
      "Epoch: 041, Average Loss: 0.5153\n",
      "Validation: {'precision': 0.6288039631966427, 'recall': 0.7023715414992001, 'f1': 0.6635548867230249, 'auc': 0.7725232657841354, 'prauc': 0.6469823043221021}\n",
      "Test:       {'precision': 0.6354439865094214, 'recall': 0.6700908731700115, 'f1': 0.652307687308705, 'auc': 0.7664569201430489, 'prauc': 0.6373663064131119}\n"
     ]
    },
    {
     "name": "stderr",
     "output_type": "stream",
     "text": [
      "Training Batches: 100%|██████████| 1/1 [00:00<00:00,  1.38it/s]\n",
      "Running inference: 100%|██████████| 1/1 [00:02<00:00,  2.33s/it]\n",
      "Running inference: 100%|██████████| 1/1 [00:02<00:00,  2.35s/it]\n"
     ]
    },
    {
     "name": "stdout",
     "output_type": "stream",
     "text": [
      "Epoch: 042, Average Loss: 0.5071\n",
      "Validation: {'precision': 0.621794871792774, 'recall': 0.7284584980208362, 'f1': 0.6709137190913727, 'auc': 0.7705668486103269, 'prauc': 0.639419672460601}\n",
      "Test:       {'precision': 0.6279814880718121, 'recall': 0.6969577242169224, 'f1': 0.6606741523144476, 'auc': 0.7652737122495787, 'prauc': 0.6326412427136943}\n"
     ]
    },
    {
     "name": "stderr",
     "output_type": "stream",
     "text": [
      "Training Batches: 100%|██████████| 1/1 [00:01<00:00,  1.02s/it]\n",
      "Running inference: 100%|██████████| 1/1 [00:02<00:00,  2.39s/it]\n",
      "Running inference: 100%|██████████| 1/1 [00:02<00:00,  2.05s/it]\n"
     ]
    },
    {
     "name": "stdout",
     "output_type": "stream",
     "text": [
      "Epoch: 043, Average Loss: 0.5108\n",
      "Validation: {'precision': 0.6158657011171301, 'recall': 0.7395256916966817, 'f1': 0.6720545927403552, 'auc': 0.7700168350168349, 'prauc': 0.6413272155428109}\n",
      "Test:       {'precision': 0.6238785369198624, 'recall': 0.7143421572472765, 'f1': 0.6660526750719701, 'auc': 0.7646990202485732, 'prauc': 0.6324485016362773}\n"
     ]
    },
    {
     "name": "stderr",
     "output_type": "stream",
     "text": [
      "Training Batches: 100%|██████████| 1/1 [00:01<00:00,  1.59s/it]\n",
      "Running inference: 100%|██████████| 1/1 [00:02<00:00,  2.08s/it]\n",
      "Running inference: 100%|██████████| 1/1 [00:02<00:00,  2.06s/it]\n"
     ]
    },
    {
     "name": "stdout",
     "output_type": "stream",
     "text": [
      "Epoch: 044, Average Loss: 0.5014\n",
      "Validation: {'precision': 0.6164519326045046, 'recall': 0.7375494071117094, 'f1': 0.6715853828367498, 'auc': 0.7685362946232512, 'prauc': 0.6419967671066391}\n",
      "Test:       {'precision': 0.6216494845339462, 'recall': 0.7147372579979663, 'f1': 0.6649512907395149, 'auc': 0.7626118871815095, 'prauc': 0.6313698885600556}\n"
     ]
    },
    {
     "name": "stderr",
     "output_type": "stream",
     "text": [
      "Training Batches: 100%|██████████| 1/1 [00:01<00:00,  1.02s/it]\n",
      "Running inference: 100%|██████████| 1/1 [00:02<00:00,  2.08s/it]\n",
      "Running inference: 100%|██████████| 1/1 [00:02<00:00,  2.39s/it]\n"
     ]
    },
    {
     "name": "stdout",
     "output_type": "stream",
     "text": [
      "Epoch: 045, Average Loss: 0.5014\n",
      "Validation: {'precision': 0.618820320488855, 'recall': 0.7173913043449905, 'f1': 0.6644700664141233, 'auc': 0.7652598448250623, 'prauc': 0.6328345367611574}\n",
      "Test:       {'precision': 0.6224742998914482, 'recall': 0.6937969182114034, 'f1': 0.6562032835025121, 'auc': 0.7603406599931327, 'prauc': 0.6278467677485164}\n"
     ]
    },
    {
     "name": "stderr",
     "output_type": "stream",
     "text": [
      "Training Batches: 100%|██████████| 1/1 [00:01<00:00,  1.33s/it]\n",
      "Running inference: 100%|██████████| 1/1 [00:02<00:00,  2.07s/it]\n",
      "Running inference: 100%|██████████| 1/1 [00:02<00:00,  2.08s/it]\n"
     ]
    },
    {
     "name": "stdout",
     "output_type": "stream",
     "text": [
      "Epoch: 046, Average Loss: 0.4989\n",
      "Validation: {'precision': 0.6207612456725925, 'recall': 0.7090909090881063, 'f1': 0.6619926149458151, 'auc': 0.7589980550850116, 'prauc': 0.6138306511670248}\n",
      "Test:       {'precision': 0.6225944404824569, 'recall': 0.6902410114551947, 'f1': 0.6546749060095105, 'auc': 0.7566129111134312, 'prauc': 0.6177908046808136}\n"
     ]
    },
    {
     "name": "stderr",
     "output_type": "stream",
     "text": [
      "Training Batches: 100%|██████████| 1/1 [00:01<00:00,  1.33s/it]\n",
      "Running inference: 100%|██████████| 1/1 [00:02<00:00,  2.06s/it]\n",
      "Running inference: 100%|██████████| 1/1 [00:02<00:00,  2.10s/it]\n"
     ]
    },
    {
     "name": "stdout",
     "output_type": "stream",
     "text": [
      "Epoch: 047, Average Loss: 0.4956\n",
      "Validation: {'precision': 0.6167746334789745, 'recall': 0.7150197628430237, 'f1': 0.6622734711368112, 'auc': 0.7570039943952988, 'prauc': 0.6106878224507215}\n",
      "Test:       {'precision': 0.6207865168517529, 'recall': 0.6985381272196818, 'f1': 0.6573712536131737, 'auc': 0.755579449860165, 'prauc': 0.6128341807233828}\n"
     ]
    },
    {
     "name": "stderr",
     "output_type": "stream",
     "text": [
      "Training Batches: 100%|██████████| 1/1 [00:01<00:00,  1.02s/it]\n",
      "Running inference: 100%|██████████| 1/1 [00:02<00:00,  2.41s/it]\n",
      "Running inference: 100%|██████████| 1/1 [00:01<00:00,  1.78s/it]\n"
     ]
    },
    {
     "name": "stdout",
     "output_type": "stream",
     "text": [
      "Epoch: 048, Average Loss: 0.4919\n",
      "Validation: {'precision': 0.6157234835628068, 'recall': 0.7181818181789795, 'f1': 0.6630176925275364, 'auc': 0.757160319551624, 'prauc': 0.611705132882981}\n",
      "Test:       {'precision': 0.6249999999978177, 'recall': 0.7072303437348588, 'f1': 0.6635773814855419, 'auc': 0.7558636543227614, 'prauc': 0.614109542153243}\n"
     ]
    },
    {
     "name": "stderr",
     "output_type": "stream",
     "text": [
      "Training Batches: 100%|██████████| 1/1 [00:01<00:00,  1.29s/it]\n",
      "Running inference: 100%|██████████| 1/1 [00:02<00:00,  2.40s/it]\n",
      "Running inference: 100%|██████████| 1/1 [00:01<00:00,  1.78s/it]\n"
     ]
    },
    {
     "name": "stdout",
     "output_type": "stream",
     "text": [
      "Epoch: 049, Average Loss: 0.4823\n",
      "Validation: {'precision': 0.6165032127135053, 'recall': 0.7205533596809465, 'f1': 0.6644796742697024, 'auc': 0.7584158353723571, 'prauc': 0.6163455580378274}\n",
      "Test:       {'precision': 0.6248241912776905, 'recall': 0.7020940339758907, 'f1': 0.6612092973400763, 'auc': 0.75658767409225, 'prauc': 0.6154489215610214}\n"
     ]
    },
    {
     "name": "stderr",
     "output_type": "stream",
     "text": [
      "Training Batches: 100%|██████████| 1/1 [00:01<00:00,  1.33s/it]\n",
      "Running inference: 100%|██████████| 1/1 [00:02<00:00,  2.10s/it]\n",
      "Running inference: 100%|██████████| 1/1 [00:02<00:00,  2.41s/it]\n"
     ]
    },
    {
     "name": "stdout",
     "output_type": "stream",
     "text": [
      "Epoch: 050, Average Loss: 0.4834\n",
      "Validation: {'precision': 0.6171821305820716, 'recall': 0.7098814229220953, 'f1': 0.6602941126690286, 'auc': 0.7579633812242507, 'prauc': 0.614907348937521}\n",
      "Test:       {'precision': 0.6266429840119835, 'recall': 0.6969577242169224, 'f1': 0.6599326549443019, 'auc': 0.7567195139663875, 'prauc': 0.6151830611346505}\n"
     ]
    },
    {
     "name": "stderr",
     "output_type": "stream",
     "text": [
      "Training Batches: 100%|██████████| 1/1 [00:00<00:00,  1.39it/s]\n",
      "Running inference: 100%|██████████| 1/1 [00:02<00:00,  2.32s/it]\n",
      "Running inference: 100%|██████████| 1/1 [00:02<00:00,  2.35s/it]\n"
     ]
    },
    {
     "name": "stdout",
     "output_type": "stream",
     "text": [
      "Epoch: 051, Average Loss: 0.4848\n",
      "Validation: {'precision': 0.6239713774575171, 'recall': 0.6893280632383821, 'f1': 0.6550234691883265, 'auc': 0.7562000962000962, 'prauc': 0.611374717719272}\n",
      "Test:       {'precision': 0.6293040293017241, 'recall': 0.6787830896851885, 'f1': 0.6531077691920879, 'auc': 0.756326821728091, 'prauc': 0.6150034644545384}\n"
     ]
    },
    {
     "name": "stderr",
     "output_type": "stream",
     "text": [
      "Training Batches: 100%|██████████| 1/1 [00:01<00:00,  1.30s/it]\n",
      "Running inference: 100%|██████████| 1/1 [00:02<00:00,  2.07s/it]\n",
      "Running inference: 100%|██████████| 1/1 [00:02<00:00,  2.06s/it]\n"
     ]
    },
    {
     "name": "stdout",
     "output_type": "stream",
     "text": [
      "Epoch: 052, Average Loss: 0.4744\n",
      "Validation: {'precision': 0.6291341508709434, 'recall': 0.6691699604716634, 'f1': 0.6485347584575472, 'auc': 0.7580659075224293, 'prauc': 0.6180696019560907}\n",
      "Test:       {'precision': 0.6296863045117457, 'recall': 0.6503358356355182, 'f1': 0.6398445042310784, 'auc': 0.756808524207068, 'prauc': 0.6192763026409445}\n"
     ]
    },
    {
     "name": "stderr",
     "output_type": "stream",
     "text": [
      "Training Batches: 100%|██████████| 1/1 [00:01<00:00,  1.31s/it]\n",
      "Running inference: 100%|██████████| 1/1 [00:02<00:00,  2.07s/it]\n",
      "Running inference: 100%|██████████| 1/1 [00:02<00:00,  2.08s/it]\n"
     ]
    },
    {
     "name": "stdout",
     "output_type": "stream",
     "text": [
      "Epoch: 053, Average Loss: 0.4725\n",
      "Validation: {'precision': 0.6236363636340959, 'recall': 0.677865612645542, 'f1': 0.649621207127432, 'auc': 0.754577974360583, 'prauc': 0.6150286495766133}\n",
      "Test:       {'precision': 0.6252339947561766, 'recall': 0.659818253652075, 'f1': 0.6420607408681273, 'auc': 0.7527734282021932, 'prauc': 0.6155327831887689}\n",
      "\n",
      "Early stopping triggered after 53 epochs (no improvement for 10 epochs).\n",
      "\n",
      "Best validation performance:\n",
      "{'precision': 0.6158657011171301, 'recall': 0.7395256916966817, 'f1': 0.6720545927403552, 'auc': 0.7700168350168349, 'prauc': 0.6413272155428109}\n",
      "Corresponding test performance:\n",
      "{'precision': 0.6238785369198624, 'recall': 0.7143421572472765, 'f1': 0.6660526750719701, 'auc': 0.7646990202485732, 'prauc': 0.6324485016362773}\n",
      "Corresponding test-long performance:\n",
      "{'precision': 0.7770618556600895, 'recall': 0.9276923076780355, 'f1': 0.8457222951674277, 'auc': 0.5299245852187029, 'prauc': 0.7602536286632655}\n",
      "[INFO] Random seed set to 667779376\n",
      "Training with seed: 667779376\n"
     ]
    },
    {
     "name": "stderr",
     "output_type": "stream",
     "text": [
      "Training Batches: 100%|██████████| 1/1 [00:01<00:00,  1.01s/it]\n",
      "Running inference: 100%|██████████| 1/1 [00:02<00:00,  2.39s/it]\n",
      "Running inference: 100%|██████████| 1/1 [00:01<00:00,  1.76s/it]\n"
     ]
    },
    {
     "name": "stdout",
     "output_type": "stream",
     "text": [
      "Epoch: 001, Average Loss: 0.6992\n",
      "Validation: {'precision': 0.6415725637781616, 'recall': 0.6063241106695403, 'f1': 0.6234505131888158, 'auc': 0.7646184411401802, 'prauc': 0.6607342741440116}\n",
      "Test:       {'precision': 0.6419287211713127, 'recall': 0.6048992493061838, 'f1': 0.6228641121703058, 'auc': 0.7617075431361952, 'prauc': 0.6468905843783881}\n"
     ]
    },
    {
     "name": "stderr",
     "output_type": "stream",
     "text": [
      "Training Batches: 100%|██████████| 1/1 [00:00<00:00,  1.00it/s]\n",
      "Running inference: 100%|██████████| 1/1 [00:02<00:00,  2.35s/it]\n",
      "Running inference: 100%|██████████| 1/1 [00:02<00:00,  2.40s/it]\n"
     ]
    },
    {
     "name": "stdout",
     "output_type": "stream",
     "text": [
      "Epoch: 002, Average Loss: 0.6734\n",
      "Validation: {'precision': 0.6626736942948602, 'recall': 0.546640316203373, 'f1': 0.5990903134320007, 'auc': 0.7657018424409728, 'prauc': 0.662776879799295}\n",
      "Test:       {'precision': 0.6481927710812135, 'recall': 0.5314105096778688, 'f1': 0.5840208374259754, 'auc': 0.7626694820431263, 'prauc': 0.648375082259875}\n"
     ]
    },
    {
     "name": "stderr",
     "output_type": "stream",
     "text": [
      "Training Batches: 100%|██████████| 1/1 [00:01<00:00,  1.03s/it]\n",
      "Running inference: 100%|██████████| 1/1 [00:02<00:00,  2.06s/it]\n",
      "Running inference: 100%|██████████| 1/1 [00:02<00:00,  2.06s/it]\n"
     ]
    },
    {
     "name": "stdout",
     "output_type": "stream",
     "text": [
      "Epoch: 003, Average Loss: 0.6490\n",
      "Validation: {'precision': 0.6642300194899404, 'recall': 0.5387351778634832, 'f1': 0.5949367039125774, 'auc': 0.7659856327247633, 'prauc': 0.6638329141217071}\n",
      "Test:       {'precision': 0.6488474742489022, 'recall': 0.5227182931626918, 'f1': 0.5789934305039959, 'auc': 0.7628859863638405, 'prauc': 0.6493525998911324}\n"
     ]
    },
    {
     "name": "stderr",
     "output_type": "stream",
     "text": [
      "Training Batches: 100%|██████████| 1/1 [00:01<00:00,  1.32s/it]\n",
      "Running inference: 100%|██████████| 1/1 [00:02<00:00,  2.08s/it]\n",
      "Running inference: 100%|██████████| 1/1 [00:02<00:00,  2.06s/it]\n"
     ]
    },
    {
     "name": "stdout",
     "output_type": "stream",
     "text": [
      "Epoch: 004, Average Loss: 0.6278\n",
      "Validation: {'precision': 0.663918525699981, 'recall': 0.5411067193654502, 'f1': 0.5962543504500348, 'auc': 0.7663826672522326, 'prauc': 0.6645897983539152}\n",
      "Test:       {'precision': 0.6495098039183848, 'recall': 0.5235084946640715, 'f1': 0.5797418458536672, 'auc': 0.7631132242724015, 'prauc': 0.6501238475288289}\n"
     ]
    },
    {
     "name": "stderr",
     "output_type": "stream",
     "text": [
      "Training Batches: 100%|██████████| 1/1 [00:01<00:00,  1.01s/it]\n",
      "Running inference: 100%|██████████| 1/1 [00:02<00:00,  2.35s/it]\n",
      "Running inference: 100%|██████████| 1/1 [00:01<00:00,  1.73s/it]\n"
     ]
    },
    {
     "name": "stdout",
     "output_type": "stream",
     "text": [
      "Epoch: 005, Average Loss: 0.6098\n",
      "Validation: {'precision': 0.663918525699981, 'recall': 0.5411067193654502, 'f1': 0.5962543504500348, 'auc': 0.767290032833511, 'prauc': 0.6657068982588393}\n",
      "Test:       {'precision': 0.6517681728848145, 'recall': 0.5242986961654512, 'f1': 0.5811254603506972, 'auc': 0.7637566635945917, 'prauc': 0.6510896164171625}\n"
     ]
    },
    {
     "name": "stderr",
     "output_type": "stream",
     "text": [
      "Training Batches: 100%|██████████| 1/1 [00:01<00:00,  1.29s/it]\n",
      "Running inference: 100%|██████████| 1/1 [00:02<00:00,  2.38s/it]\n",
      "Running inference: 100%|██████████| 1/1 [00:01<00:00,  1.75s/it]\n"
     ]
    },
    {
     "name": "stdout",
     "output_type": "stream",
     "text": [
      "Epoch: 006, Average Loss: 0.5954\n",
      "Validation: {'precision': 0.6626851409428444, 'recall': 0.5482213438713509, 'f1': 0.6000432569931954, 'auc': 0.768216011042098, 'prauc': 0.6667023215364318}\n",
      "Test:       {'precision': 0.6520253782301024, 'recall': 0.52785460292166, 'f1': 0.5834061085899478, 'auc': 0.7643905212261674, 'prauc': 0.6522098719205099}\n"
     ]
    },
    {
     "name": "stderr",
     "output_type": "stream",
     "text": [
      "Training Batches: 100%|██████████| 1/1 [00:01<00:00,  1.32s/it]\n",
      "Running inference: 100%|██████████| 1/1 [00:02<00:00,  2.08s/it]\n",
      "Running inference: 100%|██████████| 1/1 [00:02<00:00,  2.37s/it]\n"
     ]
    },
    {
     "name": "stdout",
     "output_type": "stream",
     "text": [
      "Epoch: 007, Average Loss: 0.5847\n",
      "Validation: {'precision': 0.660066006597548, 'recall': 0.5533596837922793, 'f1': 0.6020210657735526, 'auc': 0.7692771399293138, 'prauc': 0.6677348570164046}\n",
      "Test:       {'precision': 0.6546242774534942, 'recall': 0.536941920187527, 'f1': 0.5899717771169712, 'auc': 0.7651173683797717, 'prauc': 0.6534617823955858}\n"
     ]
    },
    {
     "name": "stderr",
     "output_type": "stream",
     "text": [
      "Training Batches: 100%|██████████| 1/1 [00:00<00:00,  1.39it/s]\n",
      "Running inference: 100%|██████████| 1/1 [00:02<00:00,  2.37s/it]\n",
      "Running inference: 100%|██████████| 1/1 [00:02<00:00,  2.37s/it]\n"
     ]
    },
    {
     "name": "stdout",
     "output_type": "stream",
     "text": [
      "Epoch: 008, Average Loss: 0.5772\n",
      "Validation: {'precision': 0.6623012160867058, 'recall': 0.559683794464191, 'f1': 0.60668379965991, 'auc': 0.7702446828533785, 'prauc': 0.6686404971757582}\n",
      "Test:       {'precision': 0.6560999039353694, 'recall': 0.539707625442356, 'f1': 0.5922393186953543, 'auc': 0.7657653629319262, 'prauc': 0.654405485768481}\n"
     ]
    },
    {
     "name": "stderr",
     "output_type": "stream",
     "text": [
      "Training Batches: 100%|██████████| 1/1 [00:01<00:00,  1.01s/it]\n",
      "Running inference: 100%|██████████| 1/1 [00:02<00:00,  2.36s/it]\n",
      "Running inference: 100%|██████████| 1/1 [00:02<00:00,  2.44s/it]\n"
     ]
    },
    {
     "name": "stdout",
     "output_type": "stream",
     "text": [
      "Epoch: 009, Average Loss: 0.5734\n",
      "Validation: {'precision': 0.6609382257284676, 'recall': 0.5624505928831524, 'f1': 0.6077300825805244, 'auc': 0.7710435619131272, 'prauc': 0.6695195620601755}\n",
      "Test:       {'precision': 0.6591562799584892, 'recall': 0.5432635321985647, 'f1': 0.5956248596745809, 'auc': 0.7661448607110158, 'prauc': 0.6546083788412835}\n"
     ]
    },
    {
     "name": "stderr",
     "output_type": "stream",
     "text": [
      "Training Batches: 100%|██████████| 1/1 [00:00<00:00,  1.39it/s]\n",
      "Running inference: 100%|██████████| 1/1 [00:02<00:00,  2.39s/it]\n",
      "Running inference: 100%|██████████| 1/1 [00:02<00:00,  2.07s/it]\n"
     ]
    },
    {
     "name": "stdout",
     "output_type": "stream",
     "text": [
      "Epoch: 010, Average Loss: 0.5717\n",
      "Validation: {'precision': 0.6593607305905965, 'recall': 0.5707509881400366, 'f1': 0.6118644018030127, 'auc': 0.7716658301440911, 'prauc': 0.6701347153613171}\n",
      "Test:       {'precision': 0.6575212866572492, 'recall': 0.5491900434589128, 'f1': 0.5984929982669988, 'auc': 0.76647723542151, 'prauc': 0.6549281243135}\n"
     ]
    },
    {
     "name": "stderr",
     "output_type": "stream",
     "text": [
      "Training Batches: 100%|██████████| 1/1 [00:01<00:00,  1.00s/it]\n",
      "Running inference: 100%|██████████| 1/1 [00:02<00:00,  2.08s/it]\n",
      "Running inference: 100%|██████████| 1/1 [00:02<00:00,  2.39s/it]\n"
     ]
    },
    {
     "name": "stdout",
     "output_type": "stream",
     "text": [
      "Epoch: 011, Average Loss: 0.5716\n",
      "Validation: {'precision': 0.6577636939761985, 'recall': 0.574308300392987, 'f1': 0.6132095328975421, 'auc': 0.7717810611288872, 'prauc': 0.6699812906120517}\n",
      "Test:       {'precision': 0.6567936060147777, 'recall': 0.5519557487137418, 'f1': 0.5998282475039078, 'auc': 0.7665550408436579, 'prauc': 0.6546189216846455}\n",
      "\n",
      "Early stopping triggered after 11 epochs (no improvement for 10 epochs).\n",
      "\n",
      "Best validation performance:\n",
      "{'precision': 0.6415725637781616, 'recall': 0.6063241106695403, 'f1': 0.6234505131888158, 'auc': 0.7646184411401802, 'prauc': 0.6607342741440116}\n",
      "Corresponding test performance:\n",
      "{'precision': 0.6419287211713127, 'recall': 0.6048992493061838, 'f1': 0.6228641121703058, 'auc': 0.7617075431361952, 'prauc': 0.6468905843783881}\n",
      "Corresponding test-long performance:\n",
      "{'precision': 0.778561354008765, 'recall': 0.8492307692177041, 'f1': 0.8123620259025461, 'auc': 0.5668401206636501, 'prauc': 0.7947560033105755}\n",
      "[INFO] Random seed set to 1445662585\n",
      "Training with seed: 1445662585\n"
     ]
    },
    {
     "name": "stderr",
     "output_type": "stream",
     "text": [
      "Training Batches: 100%|██████████| 1/1 [00:01<00:00,  1.34s/it]\n",
      "Running inference: 100%|██████████| 1/1 [00:02<00:00,  2.03s/it]\n",
      "Running inference: 100%|██████████| 1/1 [00:02<00:00,  2.35s/it]\n"
     ]
    },
    {
     "name": "stdout",
     "output_type": "stream",
     "text": [
      "Epoch: 001, Average Loss: 0.6924\n",
      "Validation: {'precision': 0.6779758481847156, 'recall': 0.46600790513649804, 'f1': 0.5523541764761707, 'auc': 0.7621694690172951, 'prauc': 0.659374028678171}\n",
      "Test:       {'precision': 0.6602451838840616, 'recall': 0.44685894903023765, 'f1': 0.5329877425913427, 'auc': 0.7599505857030915, 'prauc': 0.6431082576201913}\n"
     ]
    },
    {
     "name": "stderr",
     "output_type": "stream",
     "text": [
      "Training Batches: 100%|██████████| 1/1 [00:01<00:00,  1.00s/it]\n",
      "Running inference: 100%|██████████| 1/1 [00:02<00:00,  2.36s/it]\n",
      "Running inference: 100%|██████████| 1/1 [00:02<00:00,  2.38s/it]\n"
     ]
    },
    {
     "name": "stdout",
     "output_type": "stream",
     "text": [
      "Epoch: 002, Average Loss: 0.6685\n",
      "Validation: {'precision': 0.6762785636524686, 'recall': 0.49130434782414506, 'f1': 0.5691391892620806, 'auc': 0.7634105025409372, 'prauc': 0.6609912814411919}\n",
      "Test:       {'precision': 0.6594803758946408, 'recall': 0.4713551955730093, 'f1': 0.5497695803893002, 'auc': 0.760506533194589, 'prauc': 0.6449317065603728}\n"
     ]
    },
    {
     "name": "stderr",
     "output_type": "stream",
     "text": [
      "Training Batches: 100%|██████████| 1/1 [00:00<00:00,  1.02it/s]\n",
      "Running inference: 100%|██████████| 1/1 [00:02<00:00,  2.07s/it]\n",
      "Running inference: 100%|██████████| 1/1 [00:02<00:00,  2.08s/it]\n"
     ]
    },
    {
     "name": "stdout",
     "output_type": "stream",
     "text": [
      "Epoch: 003, Average Loss: 0.6468\n",
      "Validation: {'precision': 0.6689049586742309, 'recall': 0.5118577075078583, 'f1': 0.5799372991610897, 'auc': 0.7640774201643766, 'prauc': 0.6619235932314154}\n",
      "Test:       {'precision': 0.6568575932703266, 'recall': 0.4938759383623316, 'f1': 0.5638249838212565, 'auc': 0.7610989748847657, 'prauc': 0.6464384236377444}\n"
     ]
    },
    {
     "name": "stderr",
     "output_type": "stream",
     "text": [
      "Training Batches: 100%|██████████| 1/1 [00:01<00:00,  1.34s/it]\n",
      "Running inference: 100%|██████████| 1/1 [00:02<00:00,  2.10s/it]\n",
      "Running inference: 100%|██████████| 1/1 [00:02<00:00,  2.13s/it]\n"
     ]
    },
    {
     "name": "stdout",
     "output_type": "stream",
     "text": [
      "Epoch: 004, Average Loss: 0.6266\n",
      "Validation: {'precision': 0.6646795827090677, 'recall': 0.5288537549386212, 'f1': 0.5890380756256651, 'auc': 0.7649394566785871, 'prauc': 0.6634974069991085}\n",
      "Test:       {'precision': 0.6561866125727375, 'recall': 0.5112603713926857, 'f1': 0.5747279542128526, 'auc': 0.7618691229025129, 'prauc': 0.6480927395311209}\n"
     ]
    },
    {
     "name": "stderr",
     "output_type": "stream",
     "text": [
      "Training Batches: 100%|██████████| 1/1 [00:01<00:00,  1.02s/it]\n",
      "Running inference: 100%|██████████| 1/1 [00:02<00:00,  2.40s/it]\n",
      "Running inference: 100%|██████████| 1/1 [00:01<00:00,  1.73s/it]\n"
     ]
    },
    {
     "name": "stdout",
     "output_type": "stream",
     "text": [
      "Epoch: 005, Average Loss: 0.6087\n",
      "Validation: {'precision': 0.6610087293857372, 'recall': 0.5387351778634832, 'f1': 0.5936411100319277, 'auc': 0.7658308237656063, 'prauc': 0.66493523683495}\n",
      "Test:       {'precision': 0.6536368134554497, 'recall': 0.521928091661312, 'f1': 0.5804042129863997, 'auc': 0.7626322548189359, 'prauc': 0.6496504879140391}\n"
     ]
    },
    {
     "name": "stderr",
     "output_type": "stream",
     "text": [
      "Training Batches: 100%|██████████| 1/1 [00:01<00:00,  1.36s/it]\n",
      "Running inference: 100%|██████████| 1/1 [00:02<00:00,  2.37s/it]\n",
      "Running inference: 100%|██████████| 1/1 [00:01<00:00,  1.75s/it]\n"
     ]
    },
    {
     "name": "stdout",
     "output_type": "stream",
     "text": [
      "Epoch: 006, Average Loss: 0.5943\n",
      "Validation: {'precision': 0.6610495907527153, 'recall': 0.5426877470334281, 'f1': 0.5960494849524189, 'auc': 0.766576845055106, 'prauc': 0.6661152817389961}\n",
      "Test:       {'precision': 0.652641878666083, 'recall': 0.5270644014202803, 'f1': 0.5831693939612106, 'auc': 0.7632530227092351, 'prauc': 0.6505112349440343}\n"
     ]
    },
    {
     "name": "stderr",
     "output_type": "stream",
     "text": [
      "Training Batches: 100%|██████████| 1/1 [00:01<00:00,  1.34s/it]\n",
      "Running inference: 100%|██████████| 1/1 [00:02<00:00,  2.09s/it]\n",
      "Running inference: 100%|██████████| 1/1 [00:02<00:00,  2.39s/it]\n"
     ]
    },
    {
     "name": "stdout",
     "output_type": "stream",
     "text": [
      "Epoch: 007, Average Loss: 0.5847\n",
      "Validation: {'precision': 0.6590163934395362, 'recall': 0.5561264822112406, 'f1': 0.6032154291168628, 'auc': 0.767333688855428, 'prauc': 0.6673546383602738}\n",
      "Test:       {'precision': 0.6529044647112199, 'recall': 0.5373370209382168, 'f1': 0.5895101814338329, 'auc': 0.7638702825488721, 'prauc': 0.6516286826576703}\n"
     ]
    },
    {
     "name": "stderr",
     "output_type": "stream",
     "text": [
      "Training Batches: 100%|██████████| 1/1 [00:00<00:00,  1.41it/s]\n",
      "Running inference: 100%|██████████| 1/1 [00:02<00:00,  2.35s/it]\n",
      "Running inference: 100%|██████████| 1/1 [00:02<00:00,  2.35s/it]\n"
     ]
    },
    {
     "name": "stdout",
     "output_type": "stream",
     "text": [
      "Epoch: 008, Average Loss: 0.5783\n",
      "Validation: {'precision': 0.6553775743677099, 'recall': 0.5660079051361028, 'f1': 0.6074231127336313, 'auc': 0.7680468243511722, 'prauc': 0.6685004337948058}\n",
      "Test:       {'precision': 0.6533207724886796, 'recall': 0.5480047412068432, 'f1': 0.5960464067247355, 'auc': 0.7644652898283391, 'prauc': 0.6521981125220838}\n"
     ]
    },
    {
     "name": "stderr",
     "output_type": "stream",
     "text": [
      "Training Batches: 100%|██████████| 1/1 [00:00<00:00,  1.01it/s]\n",
      "Running inference: 100%|██████████| 1/1 [00:02<00:00,  2.35s/it]\n",
      "Running inference: 100%|██████████| 1/1 [00:02<00:00,  2.39s/it]\n"
     ]
    },
    {
     "name": "stdout",
     "output_type": "stream",
     "text": [
      "Epoch: 009, Average Loss: 0.5760\n",
      "Validation: {'precision': 0.6549680948010257, 'recall': 0.5679841897210752, 'f1': 0.6083827215256827, 'auc': 0.7685332622289143, 'prauc': 0.6693998529088734}\n",
      "Test:       {'precision': 0.6550259556363615, 'recall': 0.548399841957533, 'f1': 0.5969892423485121, 'auc': 0.7650020215796427, 'prauc': 0.6526556023039303}\n"
     ]
    },
    {
     "name": "stderr",
     "output_type": "stream",
     "text": [
      "Training Batches: 100%|██████████| 1/1 [00:00<00:00,  1.40it/s]\n",
      "Running inference: 100%|██████████| 1/1 [00:02<00:00,  2.38s/it]\n",
      "Running inference: 100%|██████████| 1/1 [00:02<00:00,  2.08s/it]\n"
     ]
    },
    {
     "name": "stdout",
     "output_type": "stream",
     "text": [
      "Epoch: 010, Average Loss: 0.5755\n",
      "Validation: {'precision': 0.654843110501797, 'recall': 0.5691699604720586, 'f1': 0.6090082420085979, 'auc': 0.7685816759729803, 'prauc': 0.6695775480108217}\n",
      "Test:       {'precision': 0.6539727315437049, 'recall': 0.5495851442096026, 'f1': 0.5972520345369804, 'auc': 0.765351255876901, 'prauc': 0.6525503691404007}\n"
     ]
    },
    {
     "name": "stderr",
     "output_type": "stream",
     "text": [
      "Training Batches: 100%|██████████| 1/1 [00:01<00:00,  1.02s/it]\n",
      "Running inference: 100%|██████████| 1/1 [00:02<00:00,  2.06s/it]\n",
      "Running inference: 100%|██████████| 1/1 [00:02<00:00,  2.33s/it]\n"
     ]
    },
    {
     "name": "stdout",
     "output_type": "stream",
     "text": [
      "Epoch: 011, Average Loss: 0.5723\n",
      "Validation: {'precision': 0.6547833934988503, 'recall': 0.573517786558998, 'f1': 0.6114622790479655, 'auc': 0.7685181525398916, 'prauc': 0.6694101348257391}\n",
      "Test:       {'precision': 0.6531657355649294, 'recall': 0.554326353217881, 'f1': 0.599700785798196, 'auc': 0.7656359315701837, 'prauc': 0.6525432193401377}\n"
     ]
    },
    {
     "name": "stderr",
     "output_type": "stream",
     "text": [
      "Training Batches: 100%|██████████| 1/1 [00:01<00:00,  1.60s/it]\n",
      "Running inference: 100%|██████████| 1/1 [00:02<00:00,  2.09s/it]\n",
      "Running inference: 100%|██████████| 1/1 [00:02<00:00,  2.04s/it]\n"
     ]
    },
    {
     "name": "stdout",
     "output_type": "stream",
     "text": [
      "Epoch: 012, Average Loss: 0.5699\n",
      "Validation: {'precision': 0.6547994592129122, 'recall': 0.574308300392987, 'f1': 0.6119182936080428, 'auc': 0.7684733462994332, 'prauc': 0.6693124416687616}\n",
      "Test:       {'precision': 0.6533271288941214, 'recall': 0.5547214539685709, 'f1': 0.5999999950307484, 'auc': 0.7658841654237522, 'prauc': 0.6522044289644336}\n"
     ]
    },
    {
     "name": "stderr",
     "output_type": "stream",
     "text": [
      "Training Batches: 100%|██████████| 1/1 [00:01<00:00,  1.29s/it]\n",
      "Running inference: 100%|██████████| 1/1 [00:02<00:00,  2.04s/it]\n",
      "Running inference: 100%|██████████| 1/1 [00:02<00:00,  2.37s/it]\n"
     ]
    },
    {
     "name": "stdout",
     "output_type": "stream",
     "text": [
      "Epoch: 013, Average Loss: 0.5678\n",
      "Validation: {'precision': 0.6547994592129122, 'recall': 0.574308300392987, 'f1': 0.6119182936080428, 'auc': 0.7685726833552922, 'prauc': 0.6693406950458083}\n",
      "Test:       {'precision': 0.6541705716932794, 'recall': 0.5515606479630519, 'f1': 0.5984994591279651, 'auc': 0.7662950262229405, 'prauc': 0.6520835086725084}\n"
     ]
    },
    {
     "name": "stderr",
     "output_type": "stream",
     "text": [
      "Training Batches: 100%|██████████| 1/1 [00:01<00:00,  1.01s/it]\n",
      "Running inference: 100%|██████████| 1/1 [00:02<00:00,  2.37s/it]\n",
      "Running inference: 100%|██████████| 1/1 [00:02<00:00,  2.36s/it]\n"
     ]
    },
    {
     "name": "stdout",
     "output_type": "stream",
     "text": [
      "Epoch: 014, Average Loss: 0.5671\n",
      "Validation: {'precision': 0.653932584266724, 'recall': 0.575098814226976, 'f1': 0.6119873767214677, 'auc': 0.7689203630507979, 'prauc': 0.6694379970867335}\n",
      "Test:       {'precision': 0.6558685445978598, 'recall': 0.5519557487137418, 'f1': 0.5994421748241809, 'auc': 0.7668176734126306, 'prauc': 0.6520788542272657}\n"
     ]
    },
    {
     "name": "stderr",
     "output_type": "stream",
     "text": [
      "Training Batches: 100%|██████████| 1/1 [00:00<00:00,  1.41it/s]\n",
      "Running inference: 100%|██████████| 1/1 [00:02<00:00,  2.35s/it]\n",
      "Running inference: 100%|██████████| 1/1 [00:02<00:00,  2.38s/it]\n"
     ]
    },
    {
     "name": "stdout",
     "output_type": "stream",
     "text": [
      "Epoch: 015, Average Loss: 0.5658\n",
      "Validation: {'precision': 0.6531895777149452, 'recall': 0.5747035573099815, 'f1': 0.611438178365208, 'auc': 0.7696059978668675, 'prauc': 0.6697066216260912}\n",
      "Test:       {'precision': 0.6579070858720887, 'recall': 0.5539312524671911, 'f1': 0.6014585964928295, 'auc': 0.767540122413166, 'prauc': 0.6524954148364394}\n"
     ]
    },
    {
     "name": "stderr",
     "output_type": "stream",
     "text": [
      "Training Batches: 100%|██████████| 1/1 [00:01<00:00,  1.01s/it]\n",
      "Running inference: 100%|██████████| 1/1 [00:02<00:00,  2.34s/it]\n",
      "Running inference: 100%|██████████| 1/1 [00:02<00:00,  2.07s/it]\n"
     ]
    },
    {
     "name": "stdout",
     "output_type": "stream",
     "text": [
      "Epoch: 016, Average Loss: 0.5650\n",
      "Validation: {'precision': 0.6534697508867728, 'recall': 0.5806324110648987, 'f1': 0.6149016274970533, 'auc': 0.7702911621389882, 'prauc': 0.6699890634540713}\n",
      "Test:       {'precision': 0.6590056285147327, 'recall': 0.5551165547192607, 'f1': 0.6026163364451328, 'auc': 0.768103138364953, 'prauc': 0.6527684200112369}\n"
     ]
    },
    {
     "name": "stderr",
     "output_type": "stream",
     "text": [
      "Training Batches: 100%|██████████| 1/1 [00:01<00:00,  1.59s/it]\n",
      "Running inference: 100%|██████████| 1/1 [00:02<00:00,  2.10s/it]\n",
      "Running inference: 100%|██████████| 1/1 [00:02<00:00,  2.10s/it]\n"
     ]
    },
    {
     "name": "stdout",
     "output_type": "stream",
     "text": [
      "Epoch: 017, Average Loss: 0.5644\n",
      "Validation: {'precision': 0.6547619047590179, 'recall': 0.5869565217368105, 'f1': 0.6190079149789817, 'auc': 0.770313486835226, 'prauc': 0.6701791715220535}\n",
      "Test:       {'precision': 0.6586158848088314, 'recall': 0.560252864478229, 'f1': 0.6054654092058954, 'auc': 0.7680023473571236, 'prauc': 0.6525716104201268}\n"
     ]
    },
    {
     "name": "stderr",
     "output_type": "stream",
     "text": [
      "Training Batches: 100%|██████████| 1/1 [00:01<00:00,  1.03s/it]\n",
      "Running inference: 100%|██████████| 1/1 [00:02<00:00,  2.06s/it]\n",
      "Running inference: 100%|██████████| 1/1 [00:02<00:00,  2.37s/it]\n"
     ]
    },
    {
     "name": "stdout",
     "output_type": "stream",
     "text": [
      "Epoch: 018, Average Loss: 0.5619\n",
      "Validation: {'precision': 0.6529360210313193, 'recall': 0.5889328063217829, 'f1': 0.6192851155427103, 'auc': 0.7700517598343686, 'prauc': 0.6701554287369975}\n",
      "Test:       {'precision': 0.6576994434106787, 'recall': 0.560252864478229, 'f1': 0.6050778700027555, 'auc': 0.7676724858769545, 'prauc': 0.6523505103580439}\n"
     ]
    },
    {
     "name": "stderr",
     "output_type": "stream",
     "text": [
      "Training Batches: 100%|██████████| 1/1 [00:01<00:00,  1.34s/it]\n",
      "Running inference: 100%|██████████| 1/1 [00:02<00:00,  2.08s/it]\n",
      "Running inference: 100%|██████████| 1/1 [00:02<00:00,  2.06s/it]\n"
     ]
    },
    {
     "name": "stdout",
     "output_type": "stream",
     "text": [
      "Epoch: 019, Average Loss: 0.5598\n",
      "Validation: {'precision': 0.6527233115439969, 'recall': 0.5920948616577388, 'f1': 0.6209326374963338, 'auc': 0.7696389359432837, 'prauc': 0.669498218937225}\n",
      "Test:       {'precision': 0.6544286369864414, 'recall': 0.5634136704837479, 'f1': 0.6055201648767351, 'auc': 0.7672072241130208, 'prauc': 0.652184726709085}\n"
     ]
    },
    {
     "name": "stderr",
     "output_type": "stream",
     "text": [
      "Training Batches: 100%|██████████| 1/1 [00:01<00:00,  1.30s/it]\n",
      "Running inference: 100%|██████████| 1/1 [00:02<00:00,  2.10s/it]\n",
      "Running inference: 100%|██████████| 1/1 [00:02<00:00,  2.08s/it]\n"
     ]
    },
    {
     "name": "stdout",
     "output_type": "stream",
     "text": [
      "Epoch: 020, Average Loss: 0.5592\n",
      "Validation: {'precision': 0.6523623753764527, 'recall': 0.5948616600767002, 'f1': 0.6222865362526275, 'auc': 0.7693018173452957, 'prauc': 0.6695147709166778}\n",
      "Test:       {'precision': 0.6537761601426125, 'recall': 0.5677597787413364, 'f1': 0.6077394748276779, 'auc': 0.7669690431807527, 'prauc': 0.6520840389725178}\n"
     ]
    },
    {
     "name": "stderr",
     "output_type": "stream",
     "text": [
      "Training Batches: 100%|██████████| 1/1 [00:01<00:00,  1.03s/it]\n",
      "Running inference: 100%|██████████| 1/1 [00:02<00:00,  2.43s/it]\n",
      "Running inference: 100%|██████████| 1/1 [00:01<00:00,  1.74s/it]\n"
     ]
    },
    {
     "name": "stdout",
     "output_type": "stream",
     "text": [
      "Epoch: 021, Average Loss: 0.5595\n",
      "Validation: {'precision': 0.6498287671205059, 'recall': 0.5999999999976284, 'f1': 0.623921080085531, 'auc': 0.7686655373611895, 'prauc': 0.6690082291623005}\n",
      "Test:       {'precision': 0.6505376344056876, 'recall': 0.5736862900016844, 'f1': 0.6096997640702616, 'auc': 0.7666631621066022, 'prauc': 0.6518623585528027}\n"
     ]
    },
    {
     "name": "stderr",
     "output_type": "stream",
     "text": [
      "Training Batches: 100%|██████████| 1/1 [00:01<00:00,  1.32s/it]\n",
      "Running inference: 100%|██████████| 1/1 [00:02<00:00,  2.39s/it]\n",
      "Running inference: 100%|██████████| 1/1 [00:01<00:00,  1.77s/it]\n"
     ]
    },
    {
     "name": "stdout",
     "output_type": "stream",
     "text": [
      "Epoch: 022, Average Loss: 0.5588\n",
      "Validation: {'precision': 0.6528745644570868, 'recall': 0.5924901185747332, 'f1': 0.6212183953407183, 'auc': 0.7690834849530501, 'prauc': 0.6694363491480235}\n",
      "Test:       {'precision': 0.6561643835586477, 'recall': 0.5677597787413364, 'f1': 0.608769323555598, 'auc': 0.7670144384034998, 'prauc': 0.6519031518125216}\n"
     ]
    },
    {
     "name": "stderr",
     "output_type": "stream",
     "text": [
      "Training Batches: 100%|██████████| 1/1 [00:01<00:00,  1.30s/it]\n",
      "Running inference: 100%|██████████| 1/1 [00:02<00:00,  2.04s/it]\n",
      "Running inference: 100%|██████████| 1/1 [00:02<00:00,  2.38s/it]\n"
     ]
    },
    {
     "name": "stdout",
     "output_type": "stream",
     "text": [
      "Epoch: 023, Average Loss: 0.5544\n",
      "Validation: {'precision': 0.656458055922519, 'recall': 0.5845849802348435, 'f1': 0.6184403044434124, 'auc': 0.7703530125269256, 'prauc': 0.6701657741605089}\n",
      "Test:       {'precision': 0.658628841604451, 'recall': 0.5503753457109823, 'f1': 0.5996556127731919, 'auc': 0.7679457996748088, 'prauc': 0.6520431134530512}\n"
     ]
    },
    {
     "name": "stderr",
     "output_type": "stream",
     "text": [
      "Training Batches: 100%|██████████| 1/1 [00:00<00:00,  1.39it/s]\n",
      "Running inference: 100%|██████████| 1/1 [00:02<00:00,  2.32s/it]\n",
      "Running inference: 100%|██████████| 1/1 [00:02<00:00,  2.38s/it]\n"
     ]
    },
    {
     "name": "stdout",
     "output_type": "stream",
     "text": [
      "Epoch: 024, Average Loss: 0.5581\n",
      "Validation: {'precision': 0.6521367521339653, 'recall': 0.6031620553335844, 'f1': 0.6266940401795751, 'auc': 0.7698333228768012, 'prauc': 0.6697418732331429}\n",
      "Test:       {'precision': 0.6543654365407094, 'recall': 0.5744764915030641, 'f1': 0.6118241061062922, 'auc': 0.7678082003145098, 'prauc': 0.6518708468383166}\n"
     ]
    },
    {
     "name": "stderr",
     "output_type": "stream",
     "text": [
      "Training Batches: 100%|██████████| 1/1 [00:01<00:00,  1.00s/it]\n",
      "Running inference: 100%|██████████| 1/1 [00:02<00:00,  2.37s/it]\n",
      "Running inference: 100%|██████████| 1/1 [00:02<00:00,  2.42s/it]\n"
     ]
    },
    {
     "name": "stdout",
     "output_type": "stream",
     "text": [
      "Epoch: 025, Average Loss: 0.5536\n",
      "Validation: {'precision': 0.6441568944575651, 'recall': 0.6296442687722149, 'f1': 0.6368179042525507, 'auc': 0.7684944684944685, 'prauc': 0.6681845465606049}\n",
      "Test:       {'precision': 0.6444350042453507, 'recall': 0.5993678387965257, 'f1': 0.621084948944656, 'auc': 0.7669813475375525, 'prauc': 0.651288164661527}\n"
     ]
    },
    {
     "name": "stderr",
     "output_type": "stream",
     "text": [
      "Training Batches: 100%|██████████| 1/1 [00:00<00:00,  1.40it/s]\n",
      "Running inference: 100%|██████████| 1/1 [00:02<00:00,  2.38s/it]\n",
      "Running inference: 100%|██████████| 1/1 [00:02<00:00,  2.08s/it]\n"
     ]
    },
    {
     "name": "stdout",
     "output_type": "stream",
     "text": [
      "Epoch: 026, Average Loss: 0.5564\n",
      "Validation: {'precision': 0.644246353319918, 'recall': 0.6284584980212314, 'f1': 0.6362544967989437, 'auc': 0.7677478720956983, 'prauc': 0.6676506693272204}\n",
      "Test:       {'precision': 0.6432823129224351, 'recall': 0.5977874357937661, 'f1': 0.6197009984856472, 'auc': 0.7661859101396591, 'prauc': 0.650831954043413}\n"
     ]
    },
    {
     "name": "stderr",
     "output_type": "stream",
     "text": [
      "Training Batches: 100%|██████████| 1/1 [00:01<00:00,  1.01s/it]\n",
      "Running inference: 100%|██████████| 1/1 [00:02<00:00,  2.07s/it]\n",
      "Running inference: 100%|██████████| 1/1 [00:02<00:00,  2.38s/it]\n"
     ]
    },
    {
     "name": "stdout",
     "output_type": "stream",
     "text": [
      "Epoch: 027, Average Loss: 0.5527\n",
      "Validation: {'precision': 0.6469854469827568, 'recall': 0.615019762843419, 'f1': 0.6305977660239553, 'auc': 0.7675854298680387, 'prauc': 0.6675745586385788}\n",
      "Test:       {'precision': 0.6451893774460375, 'recall': 0.5855393125223803, 'f1': 0.6139188019686057, 'auc': 0.7658445296871668, 'prauc': 0.6507449484609005}\n"
     ]
    },
    {
     "name": "stderr",
     "output_type": "stream",
     "text": [
      "Training Batches: 100%|██████████| 1/1 [00:01<00:00,  1.31s/it]\n",
      "Running inference: 100%|██████████| 1/1 [00:02<00:00,  2.06s/it]\n",
      "Running inference: 100%|██████████| 1/1 [00:02<00:00,  2.38s/it]\n"
     ]
    },
    {
     "name": "stdout",
     "output_type": "stream",
     "text": [
      "Epoch: 028, Average Loss: 0.5536\n",
      "Validation: {'precision': 0.6472545757044623, 'recall': 0.615019762843419, 'f1': 0.6307255726253495, 'auc': 0.7676282493673798, 'prauc': 0.6677260086198988}\n",
      "Test:       {'precision': 0.6457242582868861, 'recall': 0.5847491110210006, 'f1': 0.6137258917544979, 'auc': 0.7658508127629794, 'prauc': 0.6505533725460259}\n"
     ]
    },
    {
     "name": "stderr",
     "output_type": "stream",
     "text": [
      "Training Batches: 100%|██████████| 1/1 [00:01<00:00,  1.03s/it]\n",
      "Running inference: 100%|██████████| 1/1 [00:02<00:00,  2.37s/it]\n",
      "Running inference: 100%|██████████| 1/1 [00:02<00:00,  2.07s/it]\n"
     ]
    },
    {
     "name": "stdout",
     "output_type": "stream",
     "text": [
      "Epoch: 029, Average Loss: 0.5537\n",
      "Validation: {'precision': 0.6429437929614115, 'recall': 0.6284584980212314, 'f1': 0.6356186238208145, 'auc': 0.7680480791350356, 'prauc': 0.6664967729689608}\n",
      "Test:       {'precision': 0.6472851645974892, 'recall': 0.5981825365444561, 'f1': 0.6217659087629185, 'auc': 0.7663998488710831, 'prauc': 0.6503360339391488}\n"
     ]
    },
    {
     "name": "stderr",
     "output_type": "stream",
     "text": [
      "Training Batches: 100%|██████████| 1/1 [00:01<00:00,  1.31s/it]\n",
      "Running inference: 100%|██████████| 1/1 [00:02<00:00,  2.08s/it]\n",
      "Running inference: 100%|██████████| 1/1 [00:02<00:00,  2.41s/it]\n"
     ]
    },
    {
     "name": "stdout",
     "output_type": "stream",
     "text": [
      "Epoch: 030, Average Loss: 0.5495\n",
      "Validation: {'precision': 0.6376128778930601, 'recall': 0.6418972331990439, 'f1': 0.6397478776053752, 'auc': 0.7686493297362863, 'prauc': 0.6640373817250471}\n",
      "Test:       {'precision': 0.6497105045465272, 'recall': 0.6207032793337783, 'f1': 0.6348757274712474, 'auc': 0.7674352997650234, 'prauc': 0.6502056686509144}\n"
     ]
    },
    {
     "name": "stderr",
     "output_type": "stream",
     "text": [
      "Training Batches: 100%|██████████| 1/1 [00:01<00:00,  1.02s/it]\n",
      "Running inference: 100%|██████████| 1/1 [00:02<00:00,  2.31s/it]\n",
      "Running inference: 100%|██████████| 1/1 [00:02<00:00,  2.41s/it]\n"
     ]
    },
    {
     "name": "stdout",
     "output_type": "stream",
     "text": [
      "Epoch: 031, Average Loss: 0.5485\n",
      "Validation: {'precision': 0.636539204323536, 'recall': 0.6513833992069116, 'f1': 0.6438757519819346, 'auc': 0.7690974967061923, 'prauc': 0.6621562314970414}\n",
      "Test:       {'precision': 0.6496111338491625, 'recall': 0.6270248913448162, 'f1': 0.6381182097155252, 'auc': 0.7678588314337675, 'prauc': 0.6500225367052258}\n"
     ]
    },
    {
     "name": "stderr",
     "output_type": "stream",
     "text": [
      "Training Batches: 100%|██████████| 1/1 [00:00<00:00,  1.39it/s]\n",
      "Running inference: 100%|██████████| 1/1 [00:02<00:00,  2.35s/it]\n",
      "Running inference: 100%|██████████| 1/1 [00:02<00:00,  2.41s/it]\n"
     ]
    },
    {
     "name": "stdout",
     "output_type": "stream",
     "text": [
      "Epoch: 032, Average Loss: 0.5519\n",
      "Validation: {'precision': 0.6408730158704727, 'recall': 0.6383399209460936, 'f1': 0.6396039553935262, 'auc': 0.7693097643097643, 'prauc': 0.6643453025939378}\n",
      "Test:       {'precision': 0.65290648693912, 'recall': 0.6124061635692912, 'f1': 0.6320081499464804, 'auc': 0.7675582386150929, 'prauc': 0.6501235633410297}\n"
     ]
    },
    {
     "name": "stderr",
     "output_type": "stream",
     "text": [
      "Training Batches: 100%|██████████| 1/1 [00:01<00:00,  1.01s/it]\n",
      "Running inference: 100%|██████████| 1/1 [00:02<00:00,  2.37s/it]\n",
      "Running inference: 100%|██████████| 1/1 [00:02<00:00,  2.03s/it]\n"
     ]
    },
    {
     "name": "stdout",
     "output_type": "stream",
     "text": [
      "Epoch: 033, Average Loss: 0.5453\n",
      "Validation: {'precision': 0.6437425029962266, 'recall': 0.6363636363611211, 'f1': 0.6400317978201223, 'auc': 0.7692061400757053, 'prauc': 0.665877661108361}\n",
      "Test:       {'precision': 0.6522292993602878, 'recall': 0.6068747530596331, 'f1': 0.6287351566903653, 'auc': 0.7673144552735582, 'prauc': 0.6506066064090262}\n"
     ]
    },
    {
     "name": "stderr",
     "output_type": "stream",
     "text": [
      "Training Batches: 100%|██████████| 1/1 [00:01<00:00,  1.59s/it]\n",
      "Running inference: 100%|██████████| 1/1 [00:02<00:00,  2.07s/it]\n",
      "Running inference: 100%|██████████| 1/1 [00:02<00:00,  2.08s/it]\n"
     ]
    },
    {
     "name": "stdout",
     "output_type": "stream",
     "text": [
      "Epoch: 034, Average Loss: 0.5440\n",
      "Validation: {'precision': 0.6400157542314296, 'recall': 0.6422924901160384, 'f1': 0.6411520960036017, 'auc': 0.7688519250475773, 'prauc': 0.6660598896225771}\n",
      "Test:       {'precision': 0.6485024958375687, 'recall': 0.6159620703255, 'f1': 0.6318135714951785, 'auc': 0.7673737256220585, 'prauc': 0.6511856000796321}\n"
     ]
    },
    {
     "name": "stderr",
     "output_type": "stream",
     "text": [
      "Training Batches: 100%|██████████| 1/1 [00:01<00:00,  1.03s/it]\n",
      "Running inference: 100%|██████████| 1/1 [00:02<00:00,  2.05s/it]\n",
      "Running inference: 100%|██████████| 1/1 [00:02<00:00,  2.37s/it]\n"
     ]
    },
    {
     "name": "stdout",
     "output_type": "stream",
     "text": [
      "Epoch: 035, Average Loss: 0.5431\n",
      "Validation: {'precision': 0.6375630578166955, 'recall': 0.6494071146219391, 'f1': 0.6434305804688261, 'auc': 0.7693869858000293, 'prauc': 0.6657813016836993}\n",
      "Test:       {'precision': 0.64900662251387, 'recall': 0.6195179770817087, 'f1': 0.6339195422004626, 'auc': 0.7680109342274011, 'prauc': 0.6515864269428988}\n"
     ]
    },
    {
     "name": "stderr",
     "output_type": "stream",
     "text": [
      "Training Batches: 100%|██████████| 1/1 [00:01<00:00,  1.32s/it]\n",
      "Running inference: 100%|██████████| 1/1 [00:02<00:00,  2.04s/it]\n",
      "Running inference: 100%|██████████| 1/1 [00:02<00:00,  2.07s/it]\n"
     ]
    },
    {
     "name": "stdout",
     "output_type": "stream",
     "text": [
      "Epoch: 036, Average Loss: 0.5425\n",
      "Validation: {'precision': 0.634433067877761, 'recall': 0.6612648221317737, 'f1': 0.6475711194432221, 'auc': 0.7700406759102411, 'prauc': 0.6638589019533745}\n",
      "Test:       {'precision': 0.6500203004439707, 'recall': 0.6325563018544743, 'f1': 0.6411693982823, 'auc': 0.7691563389480645, 'prauc': 0.6520076067977054}\n"
     ]
    },
    {
     "name": "stderr",
     "output_type": "stream",
     "text": [
      "Training Batches: 100%|██████████| 1/1 [00:01<00:00,  1.33s/it]\n",
      "Running inference: 100%|██████████| 1/1 [00:02<00:00,  2.10s/it]\n",
      "Running inference: 100%|██████████| 1/1 [00:02<00:00,  2.10s/it]\n"
     ]
    },
    {
     "name": "stdout",
     "output_type": "stream",
     "text": [
      "Epoch: 037, Average Loss: 0.5407\n",
      "Validation: {'precision': 0.6403676752177696, 'recall': 0.6608695652147792, 'f1': 0.6504571045104789, 'auc': 0.7721034360164796, 'prauc': 0.6635474538537081}\n",
      "Test:       {'precision': 0.6549441456323751, 'recall': 0.6254444883420568, 'f1': 0.6398544816613452, 'auc': 0.7704848953286692, 'prauc': 0.6519763008278591}\n"
     ]
    },
    {
     "name": "stderr",
     "output_type": "stream",
     "text": [
      "Training Batches: 100%|██████████| 1/1 [00:01<00:00,  1.04s/it]\n",
      "Running inference: 100%|██████████| 1/1 [00:02<00:00,  2.36s/it]\n",
      "Running inference: 100%|██████████| 1/1 [00:01<00:00,  1.77s/it]\n"
     ]
    },
    {
     "name": "stdout",
     "output_type": "stream",
     "text": [
      "Epoch: 038, Average Loss: 0.5426\n",
      "Validation: {'precision': 0.6412037037012299, 'recall': 0.6569169960448343, 'f1': 0.6489652429482182, 'auc': 0.7719944789510007, 'prauc': 0.6622396235850531}\n",
      "Test:       {'precision': 0.6537176273991073, 'recall': 0.6183326748296392, 'f1': 0.6355329899251461, 'auc': 0.7713624315838492, 'prauc': 0.6521742659911772}\n"
     ]
    },
    {
     "name": "stderr",
     "output_type": "stream",
     "text": [
      "Training Batches: 100%|██████████| 1/1 [00:01<00:00,  1.29s/it]\n",
      "Running inference: 100%|██████████| 1/1 [00:02<00:00,  2.43s/it]\n",
      "Running inference: 100%|██████████| 1/1 [00:01<00:00,  1.78s/it]\n"
     ]
    },
    {
     "name": "stdout",
     "output_type": "stream",
     "text": [
      "Epoch: 039, Average Loss: 0.5374\n",
      "Validation: {'precision': 0.6419025157207473, 'recall': 0.6454545454519943, 'f1': 0.6436736252694758, 'auc': 0.7710436664784491, 'prauc': 0.6620905493849518}\n",
      "Test:       {'precision': 0.6554657592485944, 'recall': 0.6088502568130824, 'f1': 0.6312986430992539, 'auc': 0.7709824102151084, 'prauc': 0.652109624611062}\n"
     ]
    },
    {
     "name": "stderr",
     "output_type": "stream",
     "text": [
      "Training Batches: 100%|██████████| 1/1 [00:01<00:00,  1.34s/it]\n",
      "Running inference: 100%|██████████| 1/1 [00:02<00:00,  2.07s/it]\n",
      "Running inference: 100%|██████████| 1/1 [00:02<00:00,  2.41s/it]\n"
     ]
    },
    {
     "name": "stdout",
     "output_type": "stream",
     "text": [
      "Epoch: 040, Average Loss: 0.5366\n",
      "Validation: {'precision': 0.6445516686745294, 'recall': 0.6335968379421597, 'f1': 0.6390273021534907, 'auc': 0.770402681054855, 'prauc': 0.6621563898757761}\n",
      "Test:       {'precision': 0.6535637148999847, 'recall': 0.5977874357937661, 'f1': 0.6244325166747111, 'auc': 0.7698709341038339, 'prauc': 0.6513520740156711}\n"
     ]
    },
    {
     "name": "stderr",
     "output_type": "stream",
     "text": [
      "Training Batches: 100%|██████████| 1/1 [00:00<00:00,  1.41it/s]\n",
      "Running inference: 100%|██████████| 1/1 [00:02<00:00,  2.34s/it]\n",
      "Running inference: 100%|██████████| 1/1 [00:02<00:00,  2.39s/it]\n"
     ]
    },
    {
     "name": "stdout",
     "output_type": "stream",
     "text": [
      "Epoch: 041, Average Loss: 0.5367\n",
      "Validation: {'precision': 0.6399843810986334, 'recall': 0.6478260869539612, 'f1': 0.6438813542590978, 'auc': 0.7696876633833155, 'prauc': 0.6608990100027603}\n",
      "Test:       {'precision': 0.6501885211535392, 'recall': 0.6131963650706709, 'f1': 0.6311508693408823, 'auc': 0.768415669027672, 'prauc': 0.6500183038125713}\n"
     ]
    },
    {
     "name": "stderr",
     "output_type": "stream",
     "text": [
      "Training Batches: 100%|██████████| 1/1 [00:01<00:00,  1.00s/it]\n",
      "Running inference: 100%|██████████| 1/1 [00:02<00:00,  2.37s/it]\n",
      "Running inference: 100%|██████████| 1/1 [00:02<00:00,  2.42s/it]\n"
     ]
    },
    {
     "name": "stdout",
     "output_type": "stream",
     "text": [
      "Epoch: 042, Average Loss: 0.5337\n",
      "Validation: {'precision': 0.6341834792514878, 'recall': 0.6584980237128123, 'f1': 0.6461120756663178, 'auc': 0.7702744839701361, 'prauc': 0.6584765990030088}\n",
      "Test:       {'precision': 0.6443361753932427, 'recall': 0.6270248913448162, 'f1': 0.6355626702086342, 'auc': 0.7679540723912957, 'prauc': 0.6481127063876961}\n"
     ]
    },
    {
     "name": "stderr",
     "output_type": "stream",
     "text": [
      "Training Batches: 100%|██████████| 1/1 [00:00<00:00,  1.40it/s]\n",
      "Running inference: 100%|██████████| 1/1 [00:02<00:00,  2.39s/it]\n",
      "Running inference: 100%|██████████| 1/1 [00:02<00:00,  2.08s/it]\n"
     ]
    },
    {
     "name": "stdout",
     "output_type": "stream",
     "text": [
      "Epoch: 043, Average Loss: 0.5321\n",
      "Validation: {'precision': 0.634601043994651, 'recall': 0.6727272727246137, 'f1': 0.653108206820626, 'auc': 0.7705720768764247, 'prauc': 0.6547534675186688}\n",
      "Test:       {'precision': 0.6470823341301076, 'recall': 0.6396681153668919, 'f1': 0.6433538594919469, 'auc': 0.7682701111046769, 'prauc': 0.6462245003159157}\n"
     ]
    },
    {
     "name": "stderr",
     "output_type": "stream",
     "text": [
      "Training Batches: 100%|██████████| 1/1 [00:01<00:00,  1.03s/it]\n",
      "Running inference: 100%|██████████| 1/1 [00:02<00:00,  2.05s/it]\n",
      "Running inference: 100%|██████████| 1/1 [00:02<00:00,  2.38s/it]\n"
     ]
    },
    {
     "name": "stdout",
     "output_type": "stream",
     "text": [
      "Epoch: 044, Average Loss: 0.5279\n",
      "Validation: {'precision': 0.6392950881115887, 'recall': 0.6739130434755972, 'f1': 0.6561477725649288, 'auc': 0.7705434259782086, 'prauc': 0.6526473740868133}\n",
      "Test:       {'precision': 0.6464929859693528, 'recall': 0.6372975108627527, 'f1': 0.6418623109547259, 'auc': 0.7686025381741362, 'prauc': 0.6450347556704987}\n"
     ]
    },
    {
     "name": "stderr",
     "output_type": "stream",
     "text": [
      "Training Batches: 100%|██████████| 1/1 [00:01<00:00,  1.31s/it]\n",
      "Running inference: 100%|██████████| 1/1 [00:02<00:00,  2.03s/it]\n",
      "Running inference: 100%|██████████| 1/1 [00:02<00:00,  2.41s/it]\n"
     ]
    },
    {
     "name": "stdout",
     "output_type": "stream",
     "text": [
      "Epoch: 045, Average Loss: 0.5286\n",
      "Validation: {'precision': 0.6354477611916588, 'recall': 0.6731225296416082, 'f1': 0.653742797304898, 'auc': 0.7702868226781271, 'prauc': 0.6553145610754589}\n",
      "Test:       {'precision': 0.6464891041136138, 'recall': 0.6329514026051641, 'f1': 0.6396486274595751, 'auc': 0.7705237456807782, 'prauc': 0.6470435775252571}\n"
     ]
    },
    {
     "name": "stderr",
     "output_type": "stream",
     "text": [
      "Training Batches: 100%|██████████| 1/1 [00:01<00:00,  1.00s/it]\n",
      "Running inference: 100%|██████████| 1/1 [00:02<00:00,  2.38s/it]\n",
      "Running inference: 100%|██████████| 1/1 [00:02<00:00,  2.10s/it]\n"
     ]
    },
    {
     "name": "stdout",
     "output_type": "stream",
     "text": [
      "Epoch: 046, Average Loss: 0.5267\n",
      "Validation: {'precision': 0.6356849570711621, 'recall': 0.6731225296416082, 'f1': 0.653868299858559, 'auc': 0.770961896396679, 'prauc': 0.6589692156612492}\n",
      "Test:       {'precision': 0.6487252124619639, 'recall': 0.6333465033558541, 'f1': 0.6409436175491363, 'auc': 0.771877539082564, 'prauc': 0.6497066905941133}\n"
     ]
    },
    {
     "name": "stderr",
     "output_type": "stream",
     "text": [
      "Training Batches: 100%|██████████| 1/1 [00:01<00:00,  1.34s/it]\n",
      "Running inference: 100%|██████████| 1/1 [00:02<00:00,  2.05s/it]\n",
      "Running inference: 100%|██████████| 1/1 [00:02<00:00,  2.37s/it]\n"
     ]
    },
    {
     "name": "stdout",
     "output_type": "stream",
     "text": [
      "Epoch: 047, Average Loss: 0.5249\n",
      "Validation: {'precision': 0.6374246987927809, 'recall': 0.6691699604716634, 'f1': 0.6529116803070283, 'auc': 0.7729550159984944, 'prauc': 0.6625890402060901}\n",
      "Test:       {'precision': 0.6500809061462376, 'recall': 0.6349269063586135, 'f1': 0.6424145462673657, 'auc': 0.7726453309468816, 'prauc': 0.6521370230105226}\n"
     ]
    },
    {
     "name": "stderr",
     "output_type": "stream",
     "text": [
      "Training Batches: 100%|██████████| 1/1 [00:01<00:00,  1.01s/it]\n",
      "Running inference: 100%|██████████| 1/1 [00:02<00:00,  2.33s/it]\n",
      "Running inference: 100%|██████████| 1/1 [00:02<00:00,  2.39s/it]\n"
     ]
    },
    {
     "name": "stdout",
     "output_type": "stream",
     "text": [
      "Epoch: 048, Average Loss: 0.5247\n",
      "Validation: {'precision': 0.6397396630909657, 'recall': 0.6604743082977848, 'f1': 0.6499416519415675, 'auc': 0.7743963443963443, 'prauc': 0.6627724229262937}\n",
      "Test:       {'precision': 0.6522811343992919, 'recall': 0.6270248913448162, 'f1': 0.6394037016875274, 'auc': 0.7722194431247077, 'prauc': 0.6519832272235342}\n"
     ]
    },
    {
     "name": "stderr",
     "output_type": "stream",
     "text": [
      "Training Batches: 100%|██████████| 1/1 [00:01<00:00,  1.05s/it]\n",
      "Running inference: 100%|██████████| 1/1 [00:02<00:00,  2.08s/it]\n",
      "Running inference: 100%|██████████| 1/1 [00:02<00:00,  2.39s/it]\n"
     ]
    },
    {
     "name": "stdout",
     "output_type": "stream",
     "text": [
      "Epoch: 049, Average Loss: 0.5195\n",
      "Validation: {'precision': 0.6390778533611524, 'recall': 0.6683794466376745, 'f1': 0.6534003041189974, 'auc': 0.7739291465378422, 'prauc': 0.6567146733785276}\n",
      "Test:       {'precision': 0.6545676998341984, 'recall': 0.6341367048572338, 'f1': 0.6441902418379248, 'auc': 0.7699716727526982, 'prauc': 0.648287358838525}\n"
     ]
    },
    {
     "name": "stderr",
     "output_type": "stream",
     "text": [
      "Training Batches: 100%|██████████| 1/1 [00:01<00:00,  1.29s/it]\n",
      "Running inference: 100%|██████████| 1/1 [00:02<00:00,  2.09s/it]\n",
      "Running inference: 100%|██████████| 1/1 [00:02<00:00,  2.42s/it]\n"
     ]
    },
    {
     "name": "stdout",
     "output_type": "stream",
     "text": [
      "Epoch: 050, Average Loss: 0.5205\n",
      "Validation: {'precision': 0.6353425683240909, 'recall': 0.6707509881396413, 'f1': 0.652566809075382, 'auc': 0.7682983039504778, 'prauc': 0.6406939997124262}\n",
      "Test:       {'precision': 0.6477409036359547, 'recall': 0.6400632161175818, 'f1': 0.6438791682885567, 'auc': 0.763932380281488, 'prauc': 0.6388952572318982}\n"
     ]
    },
    {
     "name": "stderr",
     "output_type": "stream",
     "text": [
      "Training Batches: 100%|██████████| 1/1 [00:01<00:00,  1.01s/it]\n",
      "Running inference: 100%|██████████| 1/1 [00:02<00:00,  2.39s/it]\n",
      "Running inference: 100%|██████████| 1/1 [00:02<00:00,  2.09s/it]\n"
     ]
    },
    {
     "name": "stdout",
     "output_type": "stream",
     "text": [
      "Epoch: 051, Average Loss: 0.5214\n",
      "Validation: {'precision': 0.6385448916383958, 'recall': 0.6521739130409006, 'f1': 0.6452874412240802, 'auc': 0.773893280632411, 'prauc': 0.6540187760564462}\n",
      "Test:       {'precision': 0.6544393497263258, 'recall': 0.6203081785830885, 'f1': 0.6369168307007979, 'auc': 0.7693675550133029, 'prauc': 0.6463588925950626}\n"
     ]
    },
    {
     "name": "stderr",
     "output_type": "stream",
     "text": [
      "Training Batches: 100%|██████████| 1/1 [00:01<00:00,  1.30s/it]\n",
      "Running inference: 100%|██████████| 1/1 [00:02<00:00,  2.08s/it]\n",
      "Running inference: 100%|██████████| 1/1 [00:02<00:00,  2.40s/it]\n"
     ]
    },
    {
     "name": "stdout",
     "output_type": "stream",
     "text": [
      "Epoch: 052, Average Loss: 0.5138\n",
      "Validation: {'precision': 0.6349907918945304, 'recall': 0.6814229248984924, 'f1': 0.6573879835642477, 'auc': 0.7735948512035469, 'prauc': 0.6523724642425239}\n",
      "Test:       {'precision': 0.6452513966454699, 'recall': 0.6388779138655122, 'f1': 0.6420488335919754, 'auc': 0.7728045022008043, 'prauc': 0.6490560288337464}\n"
     ]
    },
    {
     "name": "stderr",
     "output_type": "stream",
     "text": [
      "Training Batches: 100%|██████████| 1/1 [00:01<00:00,  1.02s/it]\n",
      "Running inference: 100%|██████████| 1/1 [00:02<00:00,  2.44s/it]\n",
      "Running inference: 100%|██████████| 1/1 [00:02<00:00,  2.39s/it]\n"
     ]
    },
    {
     "name": "stdout",
     "output_type": "stream",
     "text": [
      "Epoch: 053, Average Loss: 0.5106\n",
      "Validation: {'precision': 0.6355869242175498, 'recall': 0.6762845849775642, 'f1': 0.6553044760440487, 'auc': 0.7717688269862183, 'prauc': 0.6536449816826473}\n",
      "Test:       {'precision': 0.6443007275640894, 'recall': 0.6297905965996453, 'f1': 0.6369630319611402, 'auc': 0.7733570987185354, 'prauc': 0.6496186225680498}\n"
     ]
    },
    {
     "name": "stderr",
     "output_type": "stream",
     "text": [
      "Training Batches: 100%|██████████| 1/1 [00:00<00:00,  1.40it/s]\n",
      "Running inference: 100%|██████████| 1/1 [00:02<00:00,  2.34s/it]\n",
      "Running inference: 100%|██████████| 1/1 [00:02<00:00,  2.35s/it]\n"
     ]
    },
    {
     "name": "stdout",
     "output_type": "stream",
     "text": [
      "Epoch: 054, Average Loss: 0.5113\n",
      "Validation: {'precision': 0.6435093290962941, 'recall': 0.6407114624480604, 'f1': 0.6421073429871813, 'auc': 0.7718148357278792, 'prauc': 0.6529304534779115}\n",
      "Test:       {'precision': 0.6583261432240797, 'recall': 0.6029237455527344, 'f1': 0.6294081203937294, 'auc': 0.7740157744995714, 'prauc': 0.6483564725038453}\n"
     ]
    },
    {
     "name": "stderr",
     "output_type": "stream",
     "text": [
      "Training Batches: 100%|██████████| 1/1 [00:01<00:00,  1.03s/it]\n",
      "Running inference: 100%|██████████| 1/1 [00:02<00:00,  2.37s/it]\n",
      "Running inference: 100%|██████████| 1/1 [00:02<00:00,  2.42s/it]\n"
     ]
    },
    {
     "name": "stdout",
     "output_type": "stream",
     "text": [
      "Epoch: 055, Average Loss: 0.5080\n",
      "Validation: {'precision': 0.6438519697547002, 'recall': 0.639525691697077, 'f1': 0.6416815337641193, 'auc': 0.7703163100989188, 'prauc': 0.6433727394213974}\n",
      "Test:       {'precision': 0.6553966189828548, 'recall': 0.5973923350430763, 'f1': 0.6250516692536907, 'auc': 0.7720612143321566, 'prauc': 0.6431227826745536}\n"
     ]
    },
    {
     "name": "stderr",
     "output_type": "stream",
     "text": [
      "Training Batches: 100%|██████████| 1/1 [00:00<00:00,  1.40it/s]\n",
      "Running inference: 100%|██████████| 1/1 [00:02<00:00,  2.41s/it]\n",
      "Running inference: 100%|██████████| 1/1 [00:02<00:00,  2.08s/it]\n"
     ]
    },
    {
     "name": "stdout",
     "output_type": "stream",
     "text": [
      "Epoch: 056, Average Loss: 0.5078\n",
      "Validation: {'precision': 0.6435643564330948, 'recall': 0.6422924901160384, 'f1': 0.642927789260567, 'auc': 0.7720815818641906, 'prauc': 0.6486806584176504}\n",
      "Test:       {'precision': 0.6574633304544545, 'recall': 0.6021335440513547, 'f1': 0.6285832080406704, 'auc': 0.77101759543966, 'prauc': 0.6450685260339772}\n"
     ]
    },
    {
     "name": "stderr",
     "output_type": "stream",
     "text": [
      "Training Batches: 100%|██████████| 1/1 [00:00<00:00,  1.40it/s]\n",
      "Running inference: 100%|██████████| 1/1 [00:02<00:00,  2.26s/it]\n",
      "Running inference: 100%|██████████| 1/1 [00:02<00:00,  2.36s/it]\n"
     ]
    },
    {
     "name": "stdout",
     "output_type": "stream",
     "text": [
      "Epoch: 057, Average Loss: 0.5069\n",
      "Validation: {'precision': 0.6423584173753206, 'recall': 0.6545454545428674, 'f1': 0.64839467001748, 'auc': 0.7716471129514607, 'prauc': 0.6456976604934994}\n",
      "Test:       {'precision': 0.650166389348377, 'recall': 0.6175424733282594, 'f1': 0.6334346454566714, 'auc': 0.7698443357495599, 'prauc': 0.64451000029341}\n"
     ]
    },
    {
     "name": "stderr",
     "output_type": "stream",
     "text": [
      "Training Batches: 100%|██████████| 1/1 [00:00<00:00,  1.01it/s]\n",
      "Running inference: 100%|██████████| 1/1 [00:02<00:00,  2.35s/it]\n",
      "Running inference: 100%|██████████| 1/1 [00:02<00:00,  2.42s/it]\n"
     ]
    },
    {
     "name": "stdout",
     "output_type": "stream",
     "text": [
      "Epoch: 058, Average Loss: 0.5000\n",
      "Validation: {'precision': 0.6354489164062096, 'recall': 0.6490118577049446, 'f1': 0.6421587748181479, 'auc': 0.767912353347136, 'prauc': 0.6366468643459785}\n",
      "Test:       {'precision': 0.6481558226247487, 'recall': 0.6179375740789493, 'f1': 0.6326860791426838, 'auc': 0.7672709973325202, 'prauc': 0.6397335213226445}\n"
     ]
    },
    {
     "name": "stderr",
     "output_type": "stream",
     "text": [
      "Training Batches: 100%|██████████| 1/1 [00:00<00:00,  1.40it/s]\n",
      "Running inference: 100%|██████████| 1/1 [00:02<00:00,  2.35s/it]\n",
      "Running inference: 100%|██████████| 1/1 [00:02<00:00,  2.39s/it]\n"
     ]
    },
    {
     "name": "stdout",
     "output_type": "stream",
     "text": [
      "Epoch: 059, Average Loss: 0.5020\n",
      "Validation: {'precision': 0.6490599820919917, 'recall': 0.5731225296420035, 'f1': 0.6087321528672925, 'auc': 0.7685589852981156, 'prauc': 0.6422413074468465}\n",
      "Test:       {'precision': 0.6631679389281337, 'recall': 0.5491900434589128, 'f1': 0.6008212615209559, 'auc': 0.7660460593438605, 'prauc': 0.641584732530986}\n"
     ]
    },
    {
     "name": "stderr",
     "output_type": "stream",
     "text": [
      "Training Batches: 100%|██████████| 1/1 [00:00<00:00,  1.41it/s]\n",
      "Running inference: 100%|██████████| 1/1 [00:02<00:00,  2.35s/it]\n",
      "Running inference: 100%|██████████| 1/1 [00:02<00:00,  2.10s/it]\n"
     ]
    },
    {
     "name": "stdout",
     "output_type": "stream",
     "text": [
      "Epoch: 060, Average Loss: 0.5034\n",
      "Validation: {'precision': 0.632606199767958, 'recall': 0.653359683791884, 'f1': 0.642815472346654, 'auc': 0.7645952276387058, 'prauc': 0.6297225995059359}\n",
      "Test:       {'precision': 0.6443618339502505, 'recall': 0.6163571710761898, 'f1': 0.6300484602664815, 'auc': 0.7675012720610572, 'prauc': 0.6387227255912888}\n"
     ]
    },
    {
     "name": "stderr",
     "output_type": "stream",
     "text": [
      "Training Batches: 100%|██████████| 1/1 [00:01<00:00,  1.03s/it]\n",
      "Running inference: 100%|██████████| 1/1 [00:02<00:00,  2.10s/it]\n",
      "Running inference: 100%|██████████| 1/1 [00:02<00:00,  2.38s/it]\n"
     ]
    },
    {
     "name": "stdout",
     "output_type": "stream",
     "text": [
      "Epoch: 061, Average Loss: 0.5027\n",
      "Validation: {'precision': 0.6395528141841189, 'recall': 0.6557312252938509, 'f1': 0.64754097860481, 'auc': 0.7716373883765187, 'prauc': 0.64962171880702}\n",
      "Test:       {'precision': 0.6493775933583014, 'recall': 0.6183326748296392, 'f1': 0.633475000060139, 'auc': 0.7711288058815453, 'prauc': 0.6473375855784202}\n"
     ]
    },
    {
     "name": "stderr",
     "output_type": "stream",
     "text": [
      "Training Batches: 100%|██████████| 1/1 [00:01<00:00,  1.30s/it]\n",
      "Running inference: 100%|██████████| 1/1 [00:02<00:00,  2.10s/it]\n",
      "Running inference: 100%|██████████| 1/1 [00:02<00:00,  2.39s/it]"
     ]
    },
    {
     "name": "stdout",
     "output_type": "stream",
     "text": [
      "Epoch: 062, Average Loss: 0.4891\n",
      "Validation: {'precision': 0.641560448046962, 'recall': 0.6565217391278398, 'f1': 0.6489548689969568, 'auc': 0.7689827885480058, 'prauc': 0.6443079026451469}\n",
      "Test:       {'precision': 0.6494419181453103, 'recall': 0.6207032793337783, 'f1': 0.63474746974747, 'auc': 0.7696377272732511, 'prauc': 0.6420536827009212}\n",
      "\n",
      "Early stopping triggered after 62 epochs (no improvement for 10 epochs).\n",
      "\n",
      "Best validation performance:\n",
      "{'precision': 0.6349907918945304, 'recall': 0.6814229248984924, 'f1': 0.6573879835642477, 'auc': 0.7735948512035469, 'prauc': 0.6523724642425239}\n",
      "Corresponding test performance:\n",
      "{'precision': 0.6452513966454699, 'recall': 0.6388779138655122, 'f1': 0.6420488335919754, 'auc': 0.7728045022008043, 'prauc': 0.6490560288337464}\n",
      "Corresponding test-long performance:\n",
      "{'precision': 0.7734584450298464, 'recall': 0.8876923076786509, 'f1': 0.8266475594817161, 'auc': 0.5513574660633485, 'prauc': 0.7737088726695108}\n"
     ]
    },
    {
     "name": "stderr",
     "output_type": "stream",
     "text": [
      "\n"
     ]
    }
   ],
   "source": [
    "final_metrics, final_long_seq_metrics = [], []\n",
    "\n",
    "for seed in seeds:\n",
    "    set_random_seed(seed)\n",
    "    print(f\"Training with seed: {seed}\")\n",
    "    \n",
    "    # Initialize model, optimizer, and loss function\n",
    "    model = SetGNN(args, tokenizer).to(device)\n",
    "    optimizer = torch.optim.AdamW(model.parameters(), lr=args[\"lr\"])\n",
    "    \n",
    "    best_test_metric, best_test_long_seq_metric = train_with_early_stopping(\n",
    "        model, \n",
    "        train_dataloader, \n",
    "        val_dataloader, \n",
    "        test_dataloader,\n",
    "        optimizer, \n",
    "        loss_fn, \n",
    "        device, \n",
    "        args,\n",
    "        val_long_seq_idx,\n",
    "        test_long_seq_idx,\n",
    "        task_type=task_type,\n",
    "        eval_metric = \"f1\")\n",
    "    \n",
    "    final_metrics.append(best_test_metric)\n",
    "    final_long_seq_metrics.append(best_test_long_seq_metric)"
   ]
  },
  {
   "cell_type": "code",
   "execution_count": 13,
   "id": "9038ba13-6303-4c82-951a-6b3ebbb196ae",
   "metadata": {
    "tags": []
   },
   "outputs": [],
   "source": [
    "import numpy as np\n",
    "def topk_avg_performance_formatted(performances, long_seq_performances, k=5):\n",
    "    metrics = [\"f1\", \"auc\", \"prauc\"]\n",
    "    scores = {m: np.array([p[m] for p in performances]) for m in metrics}\n",
    "\n",
    "    # 计算排名（值越大排名越靠前）\n",
    "    ranks = {m: (-scores[m]).argsort().argsort() + 1 for m in metrics}\n",
    "    avg_ranks = np.mean(np.stack([ranks[m] for m in metrics], axis=1), axis=1)\n",
    "\n",
    "    # 选 top-k\n",
    "    topk_idx = np.argsort(avg_ranks)[:k]\n",
    "    final_avg = {m: np.mean([performances[i][m] for i in topk_idx]) for m in performances[0].keys()}\n",
    "    final_std = {m: np.std([performances[i][m] for i in topk_idx], ddof=0) for m in performances[0].keys()}\n",
    "    final_long_seq_avg = {m: np.mean([long_seq_performances[i][m] for i in topk_idx]) for m in long_seq_performances[0].keys()}\n",
    "    final_long_seq_std = {m: np.std([long_seq_performances[i][m] for i in topk_idx], ddof=0) for m in long_seq_performances[0].keys()}\n",
    "\n",
    "    # 打印结果（转百分比，均保留两位小数）\n",
    "    print(\"Final Metrics:\")\n",
    "    for m in performances[0].keys():\n",
    "        mean_val = final_avg[m] * 100\n",
    "        std_val = final_std[m] * 100\n",
    "        print(f\"{m}: {mean_val:.2f} ± {std_val:.2f}\")\n",
    "    print(\"\\nFinal Long Sequence Metrics:\")\n",
    "    for m in long_seq_performances[0].keys():\n",
    "        mean_val = final_long_seq_avg[m] * 100\n",
    "        std_val = final_long_seq_std[m] * 100\n",
    "        print(f\"{m}: {mean_val:.2f} ± {std_val:.2f}\")"
   ]
  },
  {
   "cell_type": "code",
   "execution_count": 14,
   "id": "d2ec1dc0-4a0b-4c8a-b1c1-c05fee7531aa",
   "metadata": {
    "tags": []
   },
   "outputs": [],
   "source": [
    "def print_per_class_performance(dfs, col_name=\"prauc\"):\n",
    "    \"\"\"\n",
    "    输入一个 DataFrame 列表，对每个疾病在所有表格的指定列计算 mean ± std 并打印。\n",
    "\n",
    "    参数:\n",
    "        dfs (list[pd.DataFrame]): 多个表格组成的列表\n",
    "        col_name (str): 要计算的指标列名 (默认: \"prauc\")\n",
    "    \"\"\"\n",
    "    # 拼接所有表格\n",
    "    all_values = pd.concat(dfs, axis=0)\n",
    "\n",
    "    # 按疾病分组，计算 mean 和 std\n",
    "    grouped = all_values.groupby(all_values.index)[col_name].agg([\"mean\", \"std\"])\n",
    "\n",
    "    # 打印\n",
    "    for disease, row in grouped.iterrows():\n",
    "        mean_val = row[\"mean\"] * 100\n",
    "        std_val = row[\"std\"] * 100\n",
    "        print(f\"{disease}: {mean_val:.2f} ± {std_val:.2f}\")"
   ]
  },
  {
   "cell_type": "code",
   "execution_count": 15,
   "id": "c3ed1c72-6296-4404-b96e-d198565ab6c8",
   "metadata": {
    "tags": []
   },
   "outputs": [
    {
     "name": "stdout",
     "output_type": "stream",
     "text": [
      "Final Metrics:\n",
      "precision: 64.01 ± 0.47\n",
      "recall: 65.78 ± 1.43\n",
      "f1: 64.87 ± 0.54\n",
      "auc: 77.05 ± 0.15\n",
      "prauc: 64.95 ± 0.24\n",
      "\n",
      "Final Long Sequence Metrics:\n",
      "precision: 77.35 ± 0.12\n",
      "recall: 89.97 ± 0.70\n",
      "f1: 83.19 ± 0.34\n",
      "auc: 54.61 ± 1.09\n",
      "prauc: 77.52 ± 0.76\n"
     ]
    }
   ],
   "source": [
    "if task_type == \"binary\":\n",
    "    topk_avg_performance_formatted(final_metrics, final_long_seq_metrics)\n",
    "else:\n",
    "    final_metrics_global = [metrics[\"global\"] for metrics in final_metrics]\n",
    "    final_metrics_per_class = [metrics[\"per_class\"] for metrics in final_metrics]\n",
    "    final_long_seq_metrics_global = [metrics[\"global\"] for metrics in final_long_seq_metrics]\n",
    "    final_long_seq_metrics_per_class = [metrics[\"per_class\"] for metrics in final_long_seq_metrics]\n",
    "    topk_avg_performance_formatted(final_metrics_global, final_long_seq_metrics_global)\n",
    "    print(\"\\nPer-class performance, all patients:\")\n",
    "    print_per_class_performance(final_metrics_per_class, col_name=\"prauc\")\n",
    "    print(\"\\nPer-class performance, long seq:\")\n",
    "    print_per_class_performance(final_long_seq_metrics_per_class, col_name=\"prauc\")"
   ]
  }
 ],
 "metadata": {
  "kernelspec": {
   "display_name": "heart-cuda",
   "language": "python",
   "name": "heart-cuda"
  },
  "language_info": {
   "codemirror_mode": {
    "name": "ipython",
    "version": 3
   },
   "file_extension": ".py",
   "mimetype": "text/x-python",
   "name": "python",
   "nbconvert_exporter": "python",
   "pygments_lexer": "ipython3",
   "version": "3.10.18"
  }
 },
 "nbformat": 4,
 "nbformat_minor": 5
}
