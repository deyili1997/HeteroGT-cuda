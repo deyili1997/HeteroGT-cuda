{
 "cells": [
  {
   "cell_type": "code",
   "execution_count": 1,
   "id": "f9bb1634",
   "metadata": {},
   "outputs": [
    {
     "name": "stderr",
     "output_type": "stream",
     "text": [
      "Disabling PyTorch because PyTorch >= 2.1 is required but found 1.13.1\n",
      "None of PyTorch, TensorFlow >= 2.0, or Flax have been found. Models won't be available and only tokenizers, configuration and file/data utilities can be used.\n"
     ]
    }
   ],
   "source": [
    "from set_seed_utils import set_random_seed\n",
    "import os\n",
    "import random\n",
    "import numpy as np\n",
    "import pickle\n",
    "import torch\n",
    "from tqdm import tqdm\n",
    "from torch.utils.data import DataLoader\n",
    "from token_utils_rep import EHRTokenizer\n",
    "from dataset_utils_rep import HBERTFinetuneEHRDataset, batcher, UniqueIDSampler\n",
    "from HEART_rep import HBERT_Finetune\n",
    "import torch.nn.functional as F\n",
    "from sklearn.metrics import roc_auc_score, auc, precision_recall_curve, precision_recall_fscore_support\n",
    "import pandas as pd"
   ]
  },
  {
   "cell_type": "code",
   "execution_count": 2,
   "id": "79dce127",
   "metadata": {},
   "outputs": [
    {
     "name": "stdout",
     "output_type": "stream",
     "text": [
      "cuda\n"
     ]
    }
   ],
   "source": [
    "device = torch.device(\"cuda\" if torch.cuda.is_available() else \"cpu\")\n",
    "print(device)"
   ]
  },
  {
   "cell_type": "code",
   "execution_count": 3,
   "id": "8cc9c573",
   "metadata": {},
   "outputs": [],
   "source": [
    "PHENO_ORDER = [\n",
    "    \"Acute and unspecified renal failure\",\n",
    "    \"Acute cerebrovascular disease\",\n",
    "    \"Acute myocardial infarction\",\n",
    "    \"Cardiac dysrhythmias\",\n",
    "    \"Chronic kidney disease\",\n",
    "    \"Chronic obstructive pulmonary disease\",\n",
    "    \"Conduction disorders\",\n",
    "    \"Congestive heart failure; nonhypertensive\",\n",
    "    \"Coronary atherosclerosis and related\",\n",
    "    \"Disorders of lipid metabolism\",\n",
    "    \"Essential hypertension\",\n",
    "    \"Fluid and electrolyte disorders\",\n",
    "    \"Gastrointestinal hemorrhage\",\n",
    "    \"Hypertension with complications\",\n",
    "    \"Other liver diseases\",\n",
    "    \"Other lower respiratory disease\",\n",
    "    \"Pneumonia\",\n",
    "    \"Septicemia (except in labor)\",\n",
    "]"
   ]
  },
  {
   "cell_type": "code",
   "execution_count": 4,
   "id": "bc1b4c1c",
   "metadata": {},
   "outputs": [],
   "source": [
    "@torch.no_grad()\n",
    "def evaluate(model, dataloader, device, long_seq_idx=None, task_type=\"binary\"):\n",
    "    model.eval()\n",
    "    predicted_scores, gt_labels = [], []\n",
    "\n",
    "    # 推理：收集 logits 与 labels\n",
    "    for _, batch in enumerate(tqdm(dataloader, desc=\"Running inference\")):\n",
    "        batch = [x.to(device) if isinstance(x, torch.Tensor) else x for x in batch]\n",
    "        labels = batch[-1]\n",
    "        output_logits = model(*batch[:-1])\n",
    "        predicted_scores.append(output_logits)\n",
    "        gt_labels.append(labels)\n",
    "\n",
    "    if task_type == \"binary\":\n",
    "        # —— 标准二分类评估 —— #\n",
    "        logits_all = torch.cat(predicted_scores, dim=0).view(-1)          # logits [N]\n",
    "        labels_all = torch.cat(gt_labels, dim=0).view(-1).cpu().numpy()    # y_true [N]\n",
    "        scores_all = logits_all.cpu().numpy()                              # 连续分数（logits）\n",
    "        ypred_all  = (logits_all > 0).float().cpu().numpy()                # logits > 0\n",
    "\n",
    "        tp = (ypred_all * labels_all).sum()\n",
    "        precision = tp / (ypred_all.sum() + 1e-8)\n",
    "        recall    = tp / (labels_all.sum() + 1e-8)\n",
    "        f1        = 2 * precision * recall / (precision + recall + 1e-8)\n",
    "        roc_auc   = roc_auc_score(labels_all, scores_all)\n",
    "        prec_curve, rec_curve, _ = precision_recall_curve(labels_all, scores_all)\n",
    "        pr_auc    = auc(rec_curve, prec_curve)\n",
    "\n",
    "        all_performance = {\"precision\": float(precision),\n",
    "                           \"recall\": float(recall),\n",
    "                           \"f1\": float(f1),\n",
    "                           \"auc\": float(roc_auc),\n",
    "                           \"prauc\": float(pr_auc)}\n",
    "\n",
    "        subset_performance = None\n",
    "        if long_seq_idx is not None:\n",
    "            idx = torch.as_tensor(long_seq_idx, device=logits_all.device, dtype=torch.long)\n",
    "            logits_sub = logits_all.index_select(0, idx).view(-1)\n",
    "            labels_sub = torch.as_tensor(labels_all, device=logits_all.device)[idx].cpu().numpy()\n",
    "            scores_sub = logits_sub.cpu().numpy()\n",
    "            ypred_sub  = (logits_sub > 0).float().cpu().numpy()\n",
    "\n",
    "            tp = (ypred_sub * labels_sub).sum()\n",
    "            precision = tp / (ypred_sub.sum() + 1e-8)\n",
    "            recall    = tp / (labels_sub.sum() + 1e-8)\n",
    "            f1        = 2 * precision * recall / (precision + recall + 1e-8)\n",
    "            roc_auc   = roc_auc_score(labels_sub, scores_sub)\n",
    "            prec_curve, rec_curve, _ = precision_recall_curve(labels_sub, scores_sub)\n",
    "            pr_auc    = auc(rec_curve, prec_curve)\n",
    "\n",
    "            subset_performance = {\"precision\": float(precision),\n",
    "                                  \"recall\": float(recall),\n",
    "                                  \"f1\": float(f1),\n",
    "                                  \"auc\": float(roc_auc),\n",
    "                                  \"prauc\": float(pr_auc)}\n",
    "\n",
    "        return all_performance, subset_performance\n",
    "\n",
    "    else:\n",
    "        # —— Multi-label evaluation（按类聚合） —— #\n",
    "        logits_all = torch.cat(predicted_scores, dim=0)    # [B, C]\n",
    "        labels_all_t = torch.cat(gt_labels, dim=0)         # [B, C]\n",
    "\n",
    "        def _compute_metrics(logits_sub, labels_sub):\n",
    "            # 连续分数（概率）：sigmoid(logits)，CPU + fp16 先升为 fp32\n",
    "            if logits_sub.device.type == \"cpu\" and logits_sub.dtype == torch.float16:\n",
    "                prob_t = torch.sigmoid(logits_sub.float())\n",
    "            else:\n",
    "                prob_t = torch.sigmoid(logits_sub)\n",
    "            # 二值化：logits > 0\n",
    "            ypred_t = (logits_sub > 0).to(torch.int32)\n",
    "\n",
    "            y_true = labels_sub.cpu().numpy().astype(np.int32)       # [N, C]\n",
    "            y_pred = ypred_t.cpu().numpy().astype(np.int32)          # [N, C]\n",
    "            scores = prob_t.cpu().numpy()                             # [N, C]\n",
    "\n",
    "            # per-class P/R/F1\n",
    "            p_cls, r_cls, f1_cls, _ = precision_recall_fscore_support(\n",
    "                y_true, y_pred, average=None, zero_division=0\n",
    "            )\n",
    "\n",
    "            # per-class AUC / PR-AUC\n",
    "            C = y_true.shape[1]\n",
    "            aucs, praucs = [], []\n",
    "            for c in range(C):\n",
    "                yt, ys = y_true[:, c], scores[:, c]\n",
    "                if yt.max() == yt.min():\n",
    "                    aucs.append(np.nan)\n",
    "                    praucs.append(np.nan)\n",
    "                else:\n",
    "                    aucs.append(roc_auc_score(yt, ys))\n",
    "                    prec_curve, rec_curve, _ = precision_recall_curve(yt, ys)\n",
    "                    praucs.append(auc(rec_curve, prec_curve))\n",
    "\n",
    "            # 宏平均（忽略 NaN）\n",
    "            summary = {\n",
    "                \"precision\": float(np.mean(p_cls)),\n",
    "                \"recall\":    float(np.mean(r_cls)),\n",
    "                \"f1\":        float(np.mean(f1_cls)),\n",
    "                \"auc\":       float(np.nanmean(aucs)) if np.any(~np.isnan(aucs)) else float(\"nan\"),\n",
    "                \"prauc\":     float(np.nanmean(praucs)) if np.any(~np.isnan(praucs)) else float(\"nan\"),\n",
    "            }\n",
    "\n",
    "            per_class_df = pd.DataFrame({\n",
    "                \"precision\": p_cls,\n",
    "                \"recall\":    r_cls,\n",
    "                \"f1\":        f1_cls,\n",
    "                \"auc\":       aucs,\n",
    "                \"prauc\":     praucs,\n",
    "            }, index=PHENO_ORDER)   # 确保 PHENO_ORDER 已定义且长度=C\n",
    "\n",
    "            return {\"global\": summary, \"per_class\": per_class_df}\n",
    "\n",
    "        # 全量\n",
    "        all_performance = _compute_metrics(logits_all, labels_all_t)\n",
    "\n",
    "        # 子集\n",
    "        subset_performance = None\n",
    "        if long_seq_idx is not None:\n",
    "            idx = torch.as_tensor(long_seq_idx, device=logits_all.device, dtype=torch.long)\n",
    "            subset_performance = _compute_metrics(\n",
    "                logits_all.index_select(0, idx),\n",
    "                labels_all_t.index_select(0, idx)\n",
    "            )\n",
    "\n",
    "        return all_performance, subset_performance"
   ]
  },
  {
   "cell_type": "code",
   "execution_count": 5,
   "id": "57efbc7f",
   "metadata": {},
   "outputs": [],
   "source": [
    "args = {\n",
    "    \"seed\": 0,\n",
    "    \"dataset\": \"MIMIC-III\", \n",
    "    \"task\": \"next_diag_12m\",  # options: death, stay, readmission, next_diag_6m, next_diag_12m\n",
    "    \"encoder\": \"hi_edge\",  # options: hi_edge, hi_node, hi_edge_node\n",
    "    \"batch_size\": 4,\n",
    "    \"eval_batch_size\": 4,\n",
    "    \"pretrain_mask_rate\": 0.7,\n",
    "    \"pretrain_anomaly_rate\": 0.05,\n",
    "    \"pretrain_anomaly_loss_weight\": 1,\n",
    "    \"pretrain_pos_weight\": 1,\n",
    "    \"lr\": 1e-4,\n",
    "    \"epochs\": 500,\n",
    "    \"num_hidden_layers\": 5,\n",
    "    \"num_attention_heads\": 6,\n",
    "    \"attention_probs_dropout_prob\": 0.2,\n",
    "    \"hidden_dropout_prob\": 0.2,\n",
    "    \"edge_hidden_size\": 32,\n",
    "    \"hidden_size\": 288,  # must be divisible by num_attention_heads\n",
    "    \"intermediate_size\": 288,\n",
    "    \"save_model\": True,\n",
    "    \"gat\": \"dotattn\",\n",
    "    \"gnn_n_heads\": 1,\n",
    "    \"gnn_temp\": 1,\n",
    "    \"diag_med_emb\": \"tree\",  # simple, tree\n",
    "    \"early_stop_patience\": 5,\n",
    "}"
   ]
  },
  {
   "cell_type": "code",
   "execution_count": 6,
   "id": "1141f507",
   "metadata": {},
   "outputs": [
    {
     "name": "stdout",
     "output_type": "stream",
     "text": [
      "Pretrain-HBERT-MIMIC-III-hi_edge-0.7-0.05-1-288-32-5-6-0.2-0.2-288-dotattn-1-1-tree\n"
     ]
    }
   ],
   "source": [
    "exp_name = \"Pretrain-HBERT\" \\\n",
    "    + \"-\" + str(args[\"dataset\"]) \\\n",
    "    + \"-\" + str(args[\"encoder\"]) \\\n",
    "    + \"-\" + str(args[\"pretrain_mask_rate\"]) \\\n",
    "    + \"-\" + str(args[\"pretrain_anomaly_rate\"]) \\\n",
    "    + \"-\" + str(args[\"pretrain_anomaly_loss_weight\"]) \\\n",
    "    + \"-\" + str(args[\"hidden_size\"]) \\\n",
    "    + \"-\" + str(args[\"edge_hidden_size\"]) \\\n",
    "    + \"-\" + str(args[\"num_hidden_layers\"]) \\\n",
    "    + \"-\" + str(args[\"num_attention_heads\"]) \\\n",
    "    + \"-\" + str(args[\"attention_probs_dropout_prob\"]) \\\n",
    "    + \"-\" + str(args[\"hidden_dropout_prob\"]) \\\n",
    "    + \"-\" + str(args[\"intermediate_size\"]) \\\n",
    "    + \"-\" + str(args[\"gat\"]) \\\n",
    "    + \"-\" + str(args[\"gnn_n_heads\"]) \\\n",
    "    + \"-\" + str(args[\"gnn_temp\"]) \\\n",
    "    + \"-\" + str(args[\"diag_med_emb\"])\n",
    "print(exp_name)"
   ]
  },
  {
   "cell_type": "code",
   "execution_count": 7,
   "id": "9bdd4429",
   "metadata": {},
   "outputs": [],
   "source": [
    "pretrained_weight_path = \"./pretrained_models/\" + exp_name + f\"/pretrained_model.pt\"\n",
    "finetune_exp_name = f\"Finetune-{args['task']}-\" + exp_name\n",
    "save_path = \"./saved_model/\" + finetune_exp_name\n",
    "if args[\"save_model\"] and not os.path.exists(save_path):\n",
    "    os.makedirs(save_path)"
   ]
  },
  {
   "cell_type": "code",
   "execution_count": 8,
   "id": "61606813",
   "metadata": {},
   "outputs": [],
   "source": [
    "args[\"predicted_token_type\"] = [\"diag\", \"med\", \"pro\", \"lab\"]\n",
    "args[\"special_tokens\"] = (\"[PAD]\", \"[CLS]\", \"[SEP]\", \"[MASK0]\", \"[MASK1]\", \"[MASK2]\", \"[MASK3]\")\n",
    "args[\"max_visit_size\"] = 15\n",
    "\n",
    "full_data_path = f\"/home/lideyi/HeteroGT-cuda/data_process/{args['dataset']}-processed/mimic.pkl\"\n",
    "\n",
    "if args[\"task\"] == \"next_diag_6m\":\n",
    "    finetune_data_path = f\"/home/lideyi/HeteroGT-cuda/data_process/{args['dataset']}-processed/mimic_nextdiag_6m.pkl\"\n",
    "elif args[\"task\"] == \"next_diag_12m\":\n",
    "    finetune_data_path = f\"/home/lideyi/HeteroGT-cuda/data_process/{args['dataset']}-processed/mimic_nextdiag_12m.pkl\"\n",
    "else:\n",
    "    finetune_data_path = f\"/home/lideyi/HeteroGT-cuda/data_process/{args['dataset']}-processed/mimic_downstream.pkl\""
   ]
  },
  {
   "cell_type": "code",
   "execution_count": 9,
   "id": "4e814ef3",
   "metadata": {},
   "outputs": [],
   "source": [
    "ehr_data = pickle.load(open(full_data_path, 'rb'))\n",
    "diag_sentences = ehr_data[\"ICD9_CODE\"].values.tolist()\n",
    "med_sentences = ehr_data[\"NDC\"].values.tolist()\n",
    "lab_sentences = ehr_data[\"LAB_TEST\"].values.tolist()\n",
    "pro_sentences = ehr_data[\"PRO_CODE\"].values.tolist()\n",
    "gender_set = [[\"M\"], [\"F\"]]\n",
    "age_gender_set = [[str(c) + \"_\" + gender] for c in set(ehr_data[\"AGE\"].values.tolist()) for gender in [\"M\", \"F\"]]\n",
    "age_set = [[c] for c in set(ehr_data[\"AGE\"].values.tolist())]    "
   ]
  },
  {
   "cell_type": "code",
   "execution_count": 10,
   "id": "24b8a841",
   "metadata": {},
   "outputs": [],
   "source": [
    "tokenizer = EHRTokenizer(diag_sentences, med_sentences, lab_sentences, \n",
    "                         pro_sentences, gender_set, age_set, age_gender_set, special_tokens=args[\"special_tokens\"])\n",
    "tokenizer.build_tree()"
   ]
  },
  {
   "cell_type": "code",
   "execution_count": 11,
   "id": "8e4fbbca",
   "metadata": {},
   "outputs": [],
   "source": [
    "train_data, val_data, test_data = pickle.load(open(finetune_data_path, 'rb'))\n",
    "\n",
    "train_dataset = HBERTFinetuneEHRDataset(\n",
    "    train_data, tokenizer, \n",
    "    token_type=args[\"predicted_token_type\"], \n",
    "    task=args[\"task\"]\n",
    ")\n",
    "\n",
    "val_dataset = HBERTFinetuneEHRDataset(\n",
    "    val_data, tokenizer, \n",
    "    token_type=args[\"predicted_token_type\"], \n",
    "    task=args[\"task\"]\n",
    ")\n",
    "\n",
    "test_dataset = HBERTFinetuneEHRDataset(\n",
    "    test_data, tokenizer, \n",
    "    token_type=args[\"predicted_token_type\"], \n",
    "    task=args[\"task\"]\n",
    ")\n",
    "\n",
    "train_dataloader = DataLoader(\n",
    "    train_dataset, \n",
    "    batch_sampler=UniqueIDSampler(train_dataset.get_ids(), batch_size=args[\"batch_size\"]),\n",
    "    collate_fn=batcher(pad_id=tokenizer.vocab.word2id[\"[PAD]\"], is_train=False), \n",
    ")\n",
    "\n",
    "val_dataloader = DataLoader(\n",
    "    val_dataset, \n",
    "    batch_sampler=UniqueIDSampler(val_dataset.get_ids(), batch_size=args[\"batch_size\"]),\n",
    "    collate_fn=batcher(pad_id=tokenizer.vocab.word2id[\"[PAD]\"], is_train=False), \n",
    ")\n",
    "\n",
    "test_dataloader = DataLoader(\n",
    "    test_dataset, \n",
    "    batch_sampler=UniqueIDSampler(test_dataset.get_ids(), batch_size=args[\"eval_batch_size\"]),\n",
    "    collate_fn=batcher(pad_id=tokenizer.vocab.word2id[\"[PAD]\"], is_train=False),\n",
    ")"
   ]
  },
  {
   "cell_type": "code",
   "execution_count": 23,
   "id": "e839f042-7330-4c79-99d2-8bbd89c0b131",
   "metadata": {
    "tags": []
   },
   "outputs": [],
   "source": [
    "def print_pheno_percentages(df: pd.DataFrame):\n",
    "    # 选出所有以 \"PHENO_\" 开头的列\n",
    "    pheno_cols = [c for c in df.columns if c.startswith(\"PHENO_\")]\n",
    "    \n",
    "    for col in pheno_cols:\n",
    "        # 计算该列中 1 的百分比\n",
    "        percentage = df[col].mean() * 100\n",
    "        print(f\"{col}: {percentage:.1f}%\")"
   ]
  },
  {
   "cell_type": "code",
   "execution_count": 24,
   "id": "4c01442b-1b3a-464c-96d0-fed7ec58c189",
   "metadata": {
    "tags": []
   },
   "outputs": [
    {
     "name": "stdout",
     "output_type": "stream",
     "text": [
      "PHENO_Acute and unspecified renal failure: 16.0%\n",
      "PHENO_Acute cerebrovascular disease: 0.9%\n",
      "PHENO_Acute myocardial infarction: 3.7%\n",
      "PHENO_Cardiac dysrhythmias: 20.1%\n",
      "PHENO_Chronic kidney disease: 12.4%\n",
      "PHENO_Chronic obstructive pulmonary disease: 6.4%\n",
      "PHENO_Conduction disorders: 1.4%\n",
      "PHENO_Congestive heart failure; nonhypertensive: 20.1%\n",
      "PHENO_Coronary atherosclerosis and related: 12.1%\n",
      "PHENO_Disorders of lipid metabolism: 13.7%\n",
      "PHENO_Essential hypertension: 18.9%\n",
      "PHENO_Fluid and electrolyte disorders: 21.0%\n",
      "PHENO_Gastrointestinal hemorrhage: 3.6%\n",
      "PHENO_Hypertension with complications: 11.5%\n",
      "PHENO_Other liver diseases: 0.9%\n",
      "PHENO_Other lower respiratory disease: 21.4%\n",
      "PHENO_Pneumonia: 7.1%\n",
      "PHENO_Septicemia (except in labor): 11.7%\n"
     ]
    }
   ],
   "source": [
    "print_pheno_percentages(test_data)"
   ]
  },
  {
   "cell_type": "code",
   "execution_count": 12,
   "id": "e5ba3bc6",
   "metadata": {},
   "outputs": [
    {
     "name": "stdout",
     "output_type": "stream",
     "text": [
      "208 186\n"
     ]
    }
   ],
   "source": [
    "long_adm_seq_crite = 3\n",
    "val_long_seq_idx, test_long_seq_idx = [], []\n",
    "for i in range(len(val_dataset)):\n",
    "    hadm_id = list(val_dataset.records.keys())[i]\n",
    "    num_adms = len(val_dataset.records[hadm_id])\n",
    "    if num_adms >= long_adm_seq_crite:\n",
    "        val_long_seq_idx.append(i)\n",
    "for i in range(len(test_dataset)):\n",
    "    hadm_id = list(test_dataset.records.keys())[i]\n",
    "    num_adms = len(test_dataset.records[hadm_id])\n",
    "    if num_adms >= long_adm_seq_crite:\n",
    "        test_long_seq_idx.append(i)\n",
    "print(len(val_long_seq_idx), len(test_long_seq_idx))"
   ]
  },
  {
   "cell_type": "code",
   "execution_count": 13,
   "id": "31b61a20",
   "metadata": {},
   "outputs": [
    {
     "name": "stdout",
     "output_type": "stream",
     "text": [
      "input_ids shape: torch.Size([12, 73])\n",
      "input_types shape: torch.Size([12, 73])\n",
      "visit_positions shape: torch.Size([12])\n",
      "labeled_batch_idx shape: 4\n",
      "labels shape: torch.Size([4, 18])\n"
     ]
    }
   ],
   "source": [
    "# examine a batch\n",
    "batch = next(iter(train_dataloader))  # 取第一个 batch\n",
    "input_ids, input_types, edge_index, visit_positions, labeled_batch_idx, labels = batch\n",
    "\n",
    "# 打印每个张量的形状\n",
    "print(\"input_ids shape:\", input_ids.shape)\n",
    "print(\"input_types shape:\", input_types.shape)\n",
    "print(\"visit_positions shape:\", visit_positions.shape)\n",
    "print(\"labeled_batch_idx shape:\", len(labeled_batch_idx)) # it is a list\n",
    "print(\"labels shape:\", labels.shape)"
   ]
  },
  {
   "cell_type": "code",
   "execution_count": 14,
   "id": "e9bb1712",
   "metadata": {},
   "outputs": [],
   "source": [
    "args[\"vocab_size\"] = len(args[\"special_tokens\"]) + \\\n",
    "                     len(tokenizer.diag_voc.id2word) + \\\n",
    "                     len(tokenizer.pro_voc.id2word) + \\\n",
    "                     len(tokenizer.med_voc.id2word) + \\\n",
    "                     len(tokenizer.lab_voc.id2word) + \\\n",
    "                     len(tokenizer.age_voc.id2word) + \\\n",
    "                     len(tokenizer.gender_voc.id2word) + \\\n",
    "                     len(tokenizer.age_gender_voc.id2word)\n",
    "args[\"label_vocab_size\"] = 18  # only for diagnosis"
   ]
  },
  {
   "cell_type": "code",
   "execution_count": 15,
   "id": "d5df929a",
   "metadata": {},
   "outputs": [],
   "source": [
    "if args[\"task\"] in [\"death\", \"stay\", \"readmission\"]:\n",
    "    eval_metric = \"f1\"\n",
    "    task_type = \"binary\"\n",
    "    loss_fn = F.binary_cross_entropy_with_logits\n",
    "else:\n",
    "    eval_metric = \"prauc\"\n",
    "    task_type = \"l2r\"\n",
    "    loss_fn = lambda x, y: F.binary_cross_entropy_with_logits(x, y)"
   ]
  },
  {
   "cell_type": "code",
   "execution_count": 16,
   "id": "338d945c",
   "metadata": {},
   "outputs": [],
   "source": [
    "def train_with_early_stopping(model, \n",
    "                              train_dataloader, \n",
    "                              val_dataloader, \n",
    "                              test_dataloader,\n",
    "                              optimizer, \n",
    "                              loss_fn, \n",
    "                              device, \n",
    "                              args,\n",
    "                              val_long_seq_idx = None,\n",
    "                              test_long_seq_idx = None,\n",
    "                              task_type=\"binary\", \n",
    "                              eval_metric=\"f1\"):\n",
    "    best_score = 0.\n",
    "    best_val_metric = None\n",
    "    best_test_metric = None\n",
    "    best_test_long_seq_metric = None\n",
    "    epochs_no_improve = 0\n",
    "\n",
    "    for epoch in range(1, 1 + args[\"epochs\"]):\n",
    "        model.train()\n",
    "        ave_loss = 0.\n",
    "\n",
    "        for step, batch in enumerate(tqdm(train_dataloader, desc=\"Training Batches\")):\n",
    "            batch = [x.to(device) if isinstance(x, torch.Tensor) else x for x in batch]\n",
    "\n",
    "            labels = batch[-1].float()\n",
    "            output_logits = model(*batch[:-1])\n",
    "            \n",
    "            loss = loss_fn(output_logits.view(-1), labels.view(-1))\n",
    "            loss.backward()\n",
    "            optimizer.step()\n",
    "            optimizer.zero_grad()\n",
    "\n",
    "            ave_loss += loss.item()\n",
    "            \n",
    "\n",
    "        ave_loss /= (step + 1)\n",
    "\n",
    "        # Evaluation\n",
    "        val_metric, val_long_seq_metric = evaluate(model, val_dataloader, device, task_type=task_type, long_seq_idx=val_long_seq_idx)\n",
    "        test_metric, test_long_seq_metric = evaluate(model, test_dataloader, device, task_type=task_type, long_seq_idx=test_long_seq_idx)\n",
    "\n",
    "        if task_type != \"binary\":\n",
    "            val_per_class_df = val_metric[\"per_class\"]\n",
    "            val_metric = val_metric[\"global\"]\n",
    "            test_per_class_df = test_metric[\"per_class\"]\n",
    "            test_metric = test_metric[\"global\"]\n",
    "            \n",
    "            if val_long_seq_idx != None:\n",
    "                val_long_seq_per_class_df = val_long_seq_metric[\"per_class\"]\n",
    "                val_long_seq_metric = val_long_seq_metric[\"global\"]\n",
    "            if test_long_seq_idx != None:\n",
    "                test_long_seq_per_class_df = test_long_seq_metric[\"per_class\"]\n",
    "                test_long_seq_metric = test_long_seq_metric[\"global\"]\n",
    "\n",
    "        # Logging\n",
    "        print(f\"Epoch: {epoch:03d}, Average Loss: {ave_loss:.4f}\")\n",
    "        print(f\"Validation: {val_metric}\")\n",
    "        print(f\"Test:       {test_metric}\")\n",
    "\n",
    "        # Check for improvement\n",
    "        current_score = val_metric[eval_metric]\n",
    "        if current_score > best_score:\n",
    "            best_score = current_score\n",
    "            best_val_metric = val_metric if task_type == \"binary\" else {\"global\": val_metric, \"per_class\": val_per_class_df}\n",
    "            best_test_metric = test_metric if task_type == \"binary\" else {\"global\": test_metric, \"per_class\": test_per_class_df}\n",
    "            best_test_long_seq_metric = test_long_seq_metric if task_type == \"binary\" else {\"global\": test_long_seq_metric, \"per_class\": test_long_seq_per_class_df}\n",
    "            epochs_no_improve = 0\n",
    "        else:\n",
    "            epochs_no_improve += 1\n",
    "\n",
    "        # Early stopping check\n",
    "        if epochs_no_improve >= args[\"early_stop_patience\"]:\n",
    "            print(f\"\\nEarly stopping triggered after {epoch} epochs (no improvement for {args['early_stop_patience']} epochs).\")\n",
    "            break\n",
    "\n",
    "    print(\"\\nBest validation performance:\")\n",
    "    print(best_val_metric)\n",
    "    print(\"Corresponding test performance:\")\n",
    "    print(best_test_metric)\n",
    "    if best_test_long_seq_metric is not None:\n",
    "        print(\"Corresponding test-long performance:\")\n",
    "        print(best_test_long_seq_metric)\n",
    "    return best_test_metric, best_test_long_seq_metric"
   ]
  },
  {
   "cell_type": "code",
   "execution_count": 17,
   "id": "9a7f4395",
   "metadata": {},
   "outputs": [
    {
     "name": "stdout",
     "output_type": "stream",
     "text": [
      "[2746317213, 1181241943, 958682846, 3163119785, 1812140441]\n"
     ]
    }
   ],
   "source": [
    "random.seed(42)\n",
    "seeds = [random.randint(0, 2**32 - 1) for _ in range(5)]\n",
    "print(seeds)"
   ]
  },
  {
   "cell_type": "code",
   "execution_count": 18,
   "id": "c9068358",
   "metadata": {},
   "outputs": [
    {
     "name": "stdout",
     "output_type": "stream",
     "text": [
      "[INFO] Random seed set to 2746317213\n",
      "Training with seed: 2746317213\n"
     ]
    },
    {
     "name": "stderr",
     "output_type": "stream",
     "text": [
      "Training Batches: 100%|██████████| 471/471 [00:18<00:00, 24.98it/s]\n",
      "Running inference: 100%|██████████| 353/353 [00:03<00:00, 90.10it/s]\n",
      "Running inference: 100%|██████████| 353/353 [00:03<00:00, 92.24it/s]\n"
     ]
    },
    {
     "name": "stdout",
     "output_type": "stream",
     "text": [
      "Epoch: 001, Average Loss: 0.4276\n",
      "Validation: {'precision': 0.35283331460943335, 'recall': 0.2584575353538129, 'f1': 0.27769093168901726, 'auc': 0.7016175242771628, 'prauc': 0.3963236935141467}\n",
      "Test:       {'precision': 0.35117930825242893, 'recall': 0.2524380800991009, 'f1': 0.26997903204143586, 'auc': 0.7084981210996388, 'prauc': 0.39248710286939276}\n"
     ]
    },
    {
     "name": "stderr",
     "output_type": "stream",
     "text": [
      "Training Batches: 100%|██████████| 471/471 [00:17<00:00, 26.38it/s]\n",
      "Running inference: 100%|██████████| 353/353 [00:03<00:00, 90.56it/s]\n",
      "Running inference: 100%|██████████| 353/353 [00:03<00:00, 92.43it/s] \n"
     ]
    },
    {
     "name": "stdout",
     "output_type": "stream",
     "text": [
      "Epoch: 002, Average Loss: 0.3877\n",
      "Validation: {'precision': 0.3713067402634899, 'recall': 0.2820737753525924, 'f1': 0.3122772005509067, 'auc': 0.7178276959958872, 'prauc': 0.422563155070022}\n",
      "Test:       {'precision': 0.3627016199612071, 'recall': 0.27231453316457344, 'f1': 0.3011248598949525, 'auc': 0.7255587898930295, 'prauc': 0.4095277861556732}\n"
     ]
    },
    {
     "name": "stderr",
     "output_type": "stream",
     "text": [
      "Training Batches: 100%|██████████| 471/471 [00:17<00:00, 26.42it/s]\n",
      "Running inference: 100%|██████████| 353/353 [00:03<00:00, 89.84it/s]\n",
      "Running inference: 100%|██████████| 353/353 [00:04<00:00, 87.18it/s] \n"
     ]
    },
    {
     "name": "stdout",
     "output_type": "stream",
     "text": [
      "Epoch: 003, Average Loss: 0.3691\n",
      "Validation: {'precision': 0.40613581561636225, 'recall': 0.3427372300552201, 'f1': 0.35480242171119225, 'auc': 0.7289993410554786, 'prauc': 0.44195496013435537}\n",
      "Test:       {'precision': 0.4074749717972427, 'recall': 0.3368446250030969, 'f1': 0.3494997125316862, 'auc': 0.7409954732242249, 'prauc': 0.425853810196908}\n"
     ]
    },
    {
     "name": "stderr",
     "output_type": "stream",
     "text": [
      "Training Batches: 100%|██████████| 471/471 [00:17<00:00, 26.77it/s]\n",
      "Running inference: 100%|██████████| 353/353 [00:03<00:00, 88.61it/s]\n",
      "Running inference: 100%|██████████| 353/353 [00:03<00:00, 90.76it/s] \n"
     ]
    },
    {
     "name": "stdout",
     "output_type": "stream",
     "text": [
      "Epoch: 004, Average Loss: 0.3556\n",
      "Validation: {'precision': 0.43435847043703, 'recall': 0.33129854863297703, 'f1': 0.35631145643866646, 'auc': 0.7406178835039119, 'prauc': 0.4482600728054269}\n",
      "Test:       {'precision': 0.4096783641181909, 'recall': 0.314653212442428, 'f1': 0.33843057526024906, 'auc': 0.7451690613130327, 'prauc': 0.4283417673771827}\n"
     ]
    },
    {
     "name": "stderr",
     "output_type": "stream",
     "text": [
      "Training Batches: 100%|██████████| 471/471 [00:18<00:00, 26.00it/s]\n",
      "Running inference: 100%|██████████| 353/353 [00:03<00:00, 88.89it/s] \n",
      "Running inference: 100%|██████████| 353/353 [00:03<00:00, 91.02it/s] \n"
     ]
    },
    {
     "name": "stdout",
     "output_type": "stream",
     "text": [
      "Epoch: 005, Average Loss: 0.3447\n",
      "Validation: {'precision': 0.4291526679455893, 'recall': 0.35863369832612324, 'f1': 0.37679349890837477, 'auc': 0.7448661986686509, 'prauc': 0.45324593886509607}\n",
      "Test:       {'precision': 0.4226632595890296, 'recall': 0.3400908106352614, 'f1': 0.36073902421177484, 'auc': 0.743918205661721, 'prauc': 0.4303253037649466}\n"
     ]
    },
    {
     "name": "stderr",
     "output_type": "stream",
     "text": [
      "Training Batches: 100%|██████████| 471/471 [00:17<00:00, 26.43it/s]\n",
      "Running inference: 100%|██████████| 353/353 [00:03<00:00, 90.58it/s]\n",
      "Running inference: 100%|██████████| 353/353 [00:03<00:00, 90.88it/s]\n"
     ]
    },
    {
     "name": "stdout",
     "output_type": "stream",
     "text": [
      "Epoch: 006, Average Loss: 0.3349\n",
      "Validation: {'precision': 0.4463198649839074, 'recall': 0.33512185474783096, 'f1': 0.3667413201093372, 'auc': 0.7428290728277825, 'prauc': 0.45002160900315896}\n",
      "Test:       {'precision': 0.4574578720092412, 'recall': 0.32382885830864516, 'f1': 0.3529637975272611, 'auc': 0.7442609313683857, 'prauc': 0.4327282401870567}\n"
     ]
    },
    {
     "name": "stderr",
     "output_type": "stream",
     "text": [
      "Training Batches: 100%|██████████| 471/471 [00:17<00:00, 26.33it/s]\n",
      "Running inference: 100%|██████████| 353/353 [00:03<00:00, 90.94it/s] \n",
      "Running inference: 100%|██████████| 353/353 [00:03<00:00, 91.32it/s] \n"
     ]
    },
    {
     "name": "stdout",
     "output_type": "stream",
     "text": [
      "Epoch: 007, Average Loss: 0.3261\n",
      "Validation: {'precision': 0.4295589156107668, 'recall': 0.38502777553325296, 'f1': 0.3951907240571486, 'auc': 0.735417474149385, 'prauc': 0.44811642666806784}\n",
      "Test:       {'precision': 0.42256583678813153, 'recall': 0.3806148979771963, 'f1': 0.3902797603921597, 'auc': 0.7404241284718522, 'prauc': 0.43510523656218414}\n"
     ]
    },
    {
     "name": "stderr",
     "output_type": "stream",
     "text": [
      "Training Batches: 100%|██████████| 471/471 [00:17<00:00, 26.38it/s]\n",
      "Running inference: 100%|██████████| 353/353 [00:03<00:00, 90.68it/s]\n",
      "Running inference: 100%|██████████| 353/353 [00:03<00:00, 91.09it/s]\n"
     ]
    },
    {
     "name": "stdout",
     "output_type": "stream",
     "text": [
      "Epoch: 008, Average Loss: 0.3161\n",
      "Validation: {'precision': 0.4501533574565022, 'recall': 0.3729178686265433, 'f1': 0.39768141684956954, 'auc': 0.7335108182513613, 'prauc': 0.4440768516694446}\n",
      "Test:       {'precision': 0.42580984886876144, 'recall': 0.35870740633409975, 'f1': 0.37951712429211093, 'auc': 0.7340517266813751, 'prauc': 0.42933652716632964}\n"
     ]
    },
    {
     "name": "stderr",
     "output_type": "stream",
     "text": [
      "Training Batches: 100%|██████████| 471/471 [00:17<00:00, 26.49it/s]\n",
      "Running inference: 100%|██████████| 353/353 [00:03<00:00, 90.09it/s]\n",
      "Running inference: 100%|██████████| 353/353 [00:03<00:00, 92.08it/s]\n"
     ]
    },
    {
     "name": "stdout",
     "output_type": "stream",
     "text": [
      "Epoch: 009, Average Loss: 0.3080\n",
      "Validation: {'precision': 0.44500540976066183, 'recall': 0.35708581286445923, 'f1': 0.38694590189271805, 'auc': 0.737043832203674, 'prauc': 0.44553154449816673}\n",
      "Test:       {'precision': 0.42875878315434435, 'recall': 0.3427918305165544, 'f1': 0.3710046290022618, 'auc': 0.740002702226083, 'prauc': 0.42711286505206586}\n"
     ]
    },
    {
     "name": "stderr",
     "output_type": "stream",
     "text": [
      "Training Batches: 100%|██████████| 471/471 [00:17<00:00, 26.25it/s]\n",
      "Running inference: 100%|██████████| 353/353 [00:03<00:00, 90.75it/s] \n",
      "Running inference: 100%|██████████| 353/353 [00:03<00:00, 91.91it/s] \n"
     ]
    },
    {
     "name": "stdout",
     "output_type": "stream",
     "text": [
      "Epoch: 010, Average Loss: 0.2999\n",
      "Validation: {'precision': 0.43285358654689493, 'recall': 0.38622145105137484, 'f1': 0.3885949253335661, 'auc': 0.735021772643178, 'prauc': 0.44382143990240586}\n",
      "Test:       {'precision': 0.40223502191268573, 'recall': 0.37125183772334225, 'f1': 0.3728708640155178, 'auc': 0.7373873690314774, 'prauc': 0.4235727390659972}\n"
     ]
    },
    {
     "name": "stderr",
     "output_type": "stream",
     "text": [
      "Training Batches: 100%|██████████| 471/471 [00:17<00:00, 26.26it/s]\n",
      "Running inference: 100%|██████████| 353/353 [00:03<00:00, 90.28it/s]\n",
      "Running inference: 100%|██████████| 353/353 [00:03<00:00, 90.81it/s]\n"
     ]
    },
    {
     "name": "stdout",
     "output_type": "stream",
     "text": [
      "Epoch: 011, Average Loss: 0.2946\n",
      "Validation: {'precision': 0.4141882669218621, 'recall': 0.3951242236737322, 'f1': 0.3945253874777283, 'auc': 0.7293607389086356, 'prauc': 0.43940072783989387}\n",
      "Test:       {'precision': 0.4055104912979682, 'recall': 0.3806497177305827, 'f1': 0.38186983745602615, 'auc': 0.73046574988029, 'prauc': 0.4204540324071912}\n"
     ]
    },
    {
     "name": "stderr",
     "output_type": "stream",
     "text": [
      "Training Batches: 100%|██████████| 471/471 [00:17<00:00, 26.20it/s]\n",
      "Running inference: 100%|██████████| 353/353 [00:03<00:00, 91.21it/s]\n",
      "Running inference: 100%|██████████| 353/353 [00:03<00:00, 92.09it/s]\n"
     ]
    },
    {
     "name": "stdout",
     "output_type": "stream",
     "text": [
      "Epoch: 012, Average Loss: 0.2850\n",
      "Validation: {'precision': 0.5347113029722004, 'recall': 0.3831398906540611, 'f1': 0.3921309916151927, 'auc': 0.7278228572767431, 'prauc': 0.43846744929011544}\n",
      "Test:       {'precision': 0.4019331012922792, 'recall': 0.3640476126079648, 'f1': 0.3729076372351234, 'auc': 0.7299949502017381, 'prauc': 0.41620238782388924}\n"
     ]
    },
    {
     "name": "stderr",
     "output_type": "stream",
     "text": [
      "Training Batches: 100%|██████████| 471/471 [00:17<00:00, 26.31it/s]\n",
      "Running inference: 100%|██████████| 353/353 [00:03<00:00, 89.85it/s]\n",
      "Running inference: 100%|██████████| 353/353 [00:03<00:00, 92.15it/s]\n"
     ]
    },
    {
     "name": "stdout",
     "output_type": "stream",
     "text": [
      "Epoch: 013, Average Loss: 0.2752\n",
      "Validation: {'precision': 0.5168367974001359, 'recall': 0.39722857675433243, 'f1': 0.39626482250772854, 'auc': 0.721910086662563, 'prauc': 0.4295384692121841}\n",
      "Test:       {'precision': 0.3923388783384754, 'recall': 0.3806079373359318, 'f1': 0.3774439727867864, 'auc': 0.7232828196299944, 'prauc': 0.4135228479960465}\n",
      "\n",
      "Early stopping triggered after 13 epochs (no improvement for 5 epochs).\n",
      "\n",
      "Best validation performance:\n",
      "{'global': {'precision': 0.4501533574565022, 'recall': 0.3729178686265433, 'f1': 0.39768141684956954, 'auc': 0.7335108182513613, 'prauc': 0.4440768516694446}, 'per_class':                                            precision    recall        f1  \\\n",
      "Acute and unspecified renal failure         0.560117  0.440092  0.492903   \n",
      "Acute cerebrovascular disease               0.000000  0.000000  0.000000   \n",
      "Acute myocardial infarction                 0.266667  0.084211  0.128000   \n",
      "Cardiac dysrhythmias                        0.862745  0.642336  0.736402   \n",
      "Chronic kidney disease                      0.808442  0.732353  0.768519   \n",
      "Chronic obstructive pulmonary disease       0.631206  0.473404  0.541033   \n",
      "Conduction disorders                        0.000000  0.000000  0.000000   \n",
      "Congestive heart failure; nonhypertensive   0.724638  0.740741  0.732601   \n",
      "Coronary atherosclerosis and related        0.615776  0.705539  0.657609   \n",
      "Disorders of lipid metabolism               0.650746  0.572178  0.608939   \n",
      "Essential hypertension                      0.670635  0.656311  0.663395   \n",
      "Fluid and electrolyte disorders             0.503667  0.358885  0.419125   \n",
      "Gastrointestinal hemorrhage                 0.000000  0.000000  0.000000   \n",
      "Hypertension with complications             0.694678  0.777429  0.733728   \n",
      "Other liver diseases                        0.000000  0.000000  0.000000   \n",
      "Other lower respiratory disease             0.580110  0.408560  0.479452   \n",
      "Pneumonia                                   0.000000  0.000000  0.000000   \n",
      "Septicemia (except in labor)                0.533333  0.120482  0.196560   \n",
      "\n",
      "                                                auc     prauc  \n",
      "Acute and unspecified renal failure        0.712551  0.533769  \n",
      "Acute cerebrovascular disease              0.679358  0.027625  \n",
      "Acute myocardial infarction                0.696114  0.161200  \n",
      "Cardiac dysrhythmias                       0.834887  0.800683  \n",
      "Chronic kidney disease                     0.911644  0.831457  \n",
      "Chronic obstructive pulmonary disease      0.846711  0.529441  \n",
      "Conduction disorders                       0.617108  0.033605  \n",
      "Congestive heart failure; nonhypertensive  0.847682  0.767898  \n",
      "Coronary atherosclerosis and related       0.841191  0.592125  \n",
      "Disorders of lipid metabolism              0.800489  0.590618  \n",
      "Essential hypertension                     0.804780  0.683260  \n",
      "Fluid and electrolyte disorders            0.595779  0.475015  \n",
      "Gastrointestinal hemorrhage                0.588916  0.097946  \n",
      "Hypertension with complications            0.906659  0.752918  \n",
      "Other liver diseases                       0.641830  0.053726  \n",
      "Other lower respiratory disease            0.669855  0.543127  \n",
      "Pneumonia                                  0.555067  0.139815  \n",
      "Septicemia (except in labor)               0.652575  0.379154  }\n",
      "Corresponding test performance:\n",
      "{'global': {'precision': 0.42580984886876144, 'recall': 0.35870740633409975, 'f1': 0.37951712429211093, 'auc': 0.7340517266813751, 'prauc': 0.42933652716632964}, 'per_class':                                            precision    recall        f1  \\\n",
      "Acute and unspecified renal failure         0.495979  0.433255  0.462500   \n",
      "Acute cerebrovascular disease               0.000000  0.000000  0.000000   \n",
      "Acute myocardial infarction                 0.266667  0.040816  0.070796   \n",
      "Cardiac dysrhythmias                        0.803970  0.606742  0.691569   \n",
      "Chronic kidney disease                      0.780328  0.723404  0.750789   \n",
      "Chronic obstructive pulmonary disease       0.518797  0.405882  0.455446   \n",
      "Conduction disorders                        0.000000  0.000000  0.000000   \n",
      "Congestive heart failure; nonhypertensive   0.703499  0.712687  0.708063   \n",
      "Coronary atherosclerosis and related        0.618644  0.682243  0.648889   \n",
      "Disorders of lipid metabolism               0.636656  0.542466  0.585799   \n",
      "Essential hypertension                      0.642857  0.696429  0.668571   \n",
      "Fluid and electrolyte disorders             0.488152  0.368515  0.419980   \n",
      "Gastrointestinal hemorrhage                 0.000000  0.000000  0.000000   \n",
      "Hypertension with complications             0.691843  0.748366  0.718995   \n",
      "Other liver diseases                        0.000000  0.000000  0.000000   \n",
      "Other lower respiratory disease             0.587079  0.367311  0.451892   \n",
      "Pneumonia                                   0.000000  0.000000  0.000000   \n",
      "Septicemia (except in labor)                0.430108  0.128617  0.198020   \n",
      "\n",
      "                                                auc     prauc  \n",
      "Acute and unspecified renal failure        0.701378  0.488187  \n",
      "Acute cerebrovascular disease              0.699435  0.034521  \n",
      "Acute myocardial infarction                0.723168  0.153705  \n",
      "Cardiac dysrhythmias                       0.810081  0.745935  \n",
      "Chronic kidney disease                     0.893758  0.797194  \n",
      "Chronic obstructive pulmonary disease      0.803340  0.425300  \n",
      "Conduction disorders                       0.687348  0.044532  \n",
      "Congestive heart failure; nonhypertensive  0.825594  0.745183  \n",
      "Coronary atherosclerosis and related       0.860182  0.606714  \n",
      "Disorders of lipid metabolism              0.807469  0.574821  \n",
      "Essential hypertension                     0.795679  0.663269  \n",
      "Fluid and electrolyte disorders            0.595950  0.465245  \n",
      "Gastrointestinal hemorrhage                0.539090  0.081642  \n",
      "Hypertension with complications            0.897344  0.733484  \n",
      "Other liver diseases                       0.690513  0.085585  \n",
      "Other lower respiratory disease            0.651873  0.567587  \n",
      "Pneumonia                                  0.572982  0.162077  \n",
      "Septicemia (except in labor)               0.657748  0.353076  }\n",
      "Corresponding test-long performance:\n",
      "{'global': {'precision': 0.39840495956458655, 'recall': 0.359265562254605, 'f1': 0.37259954175166315, 'auc': 0.7497787099156699, 'prauc': 0.4290158451114575}, 'per_class':                                            precision    recall        f1  \\\n",
      "Acute and unspecified renal failure         0.512195  0.403846  0.451613   \n",
      "Acute cerebrovascular disease               0.000000  0.000000  0.000000   \n",
      "Acute myocardial infarction                 0.000000  0.000000  0.000000   \n",
      "Cardiac dysrhythmias                        0.716981  0.558824  0.628099   \n",
      "Chronic kidney disease                      0.790698  0.790698  0.790698   \n",
      "Chronic obstructive pulmonary disease       0.368421  0.318182  0.341463   \n",
      "Conduction disorders                        0.000000  0.000000  0.000000   \n",
      "Congestive heart failure; nonhypertensive   0.686567  0.686567  0.686567   \n",
      "Coronary atherosclerosis and related        0.636364  0.777778  0.700000   \n",
      "Disorders of lipid metabolism               0.675000  0.551020  0.606742   \n",
      "Essential hypertension                      0.671233  0.731343  0.700000   \n",
      "Fluid and electrolyte disorders             0.500000  0.414286  0.453125   \n",
      "Gastrointestinal hemorrhage                 0.000000  0.000000  0.000000   \n",
      "Hypertension with complications             0.795455  0.795455  0.795455   \n",
      "Other liver diseases                        0.000000  0.000000  0.000000   \n",
      "Other lower respiratory disease             0.596154  0.387500  0.469697   \n",
      "Pneumonia                                   0.000000  0.000000  0.000000   \n",
      "Septicemia (except in labor)                0.222222  0.051282  0.083333   \n",
      "\n",
      "                                                auc     prauc  \n",
      "Acute and unspecified renal failure        0.675660  0.450598  \n",
      "Acute cerebrovascular disease              0.762363  0.086500  \n",
      "Acute myocardial infarction                0.705460  0.111325  \n",
      "Cardiac dysrhythmias                       0.750623  0.670219  \n",
      "Chronic kidney disease                     0.944706  0.881205  \n",
      "Chronic obstructive pulmonary disease      0.736419  0.298982  \n",
      "Conduction disorders                       0.710383  0.047679  \n",
      "Congestive heart failure; nonhypertensive  0.807601  0.685847  \n",
      "Coronary atherosclerosis and related       0.869661  0.618123  \n",
      "Disorders of lipid metabolism              0.825860  0.700978  \n",
      "Essential hypertension                     0.835068  0.710038  \n",
      "Fluid and electrolyte disorders            0.631404  0.464853  \n",
      "Gastrointestinal hemorrhage                0.670370  0.060710  \n",
      "Hypertension with complications            0.925736  0.815803  \n",
      "Other liver diseases                       0.785714  0.088590  \n",
      "Other lower respiratory disease            0.658373  0.591755  \n",
      "Pneumonia                                  0.542495  0.147689  \n",
      "Septicemia (except in labor)               0.658120  0.291391  }\n",
      "[INFO] Random seed set to 1181241943\n",
      "Training with seed: 1181241943\n"
     ]
    },
    {
     "name": "stderr",
     "output_type": "stream",
     "text": [
      "Training Batches: 100%|██████████| 471/471 [00:17<00:00, 26.24it/s]\n",
      "Running inference: 100%|██████████| 353/353 [00:03<00:00, 89.99it/s]\n",
      "Running inference: 100%|██████████| 353/353 [00:03<00:00, 91.92it/s]\n"
     ]
    },
    {
     "name": "stdout",
     "output_type": "stream",
     "text": [
      "Epoch: 001, Average Loss: 0.4313\n",
      "Validation: {'precision': 0.3527923758456731, 'recall': 0.2906151198386232, 'f1': 0.3075321380533551, 'auc': 0.6959050887241458, 'prauc': 0.4075612197136186}\n",
      "Test:       {'precision': 0.34958033243190967, 'recall': 0.28125263967848974, 'f1': 0.30057796532469433, 'auc': 0.7136820295884212, 'prauc': 0.40486797797439933}\n"
     ]
    },
    {
     "name": "stderr",
     "output_type": "stream",
     "text": [
      "Training Batches: 100%|██████████| 471/471 [00:17<00:00, 26.42it/s]\n",
      "Running inference: 100%|██████████| 353/353 [00:03<00:00, 90.09it/s]\n",
      "Running inference: 100%|██████████| 353/353 [00:03<00:00, 92.37it/s]\n"
     ]
    },
    {
     "name": "stdout",
     "output_type": "stream",
     "text": [
      "Epoch: 002, Average Loss: 0.3847\n",
      "Validation: {'precision': 0.4368228705146864, 'recall': 0.29198684900389915, 'f1': 0.31453986678612744, 'auc': 0.7160751258690667, 'prauc': 0.4204411882390817}\n",
      "Test:       {'precision': 0.37656149666757244, 'recall': 0.2833043041539991, 'f1': 0.3048505980974714, 'auc': 0.7254948482001491, 'prauc': 0.41740899773763496}\n"
     ]
    },
    {
     "name": "stderr",
     "output_type": "stream",
     "text": [
      "Training Batches: 100%|██████████| 471/471 [00:17<00:00, 26.56it/s]\n",
      "Running inference: 100%|██████████| 353/353 [00:03<00:00, 90.76it/s]\n",
      "Running inference: 100%|██████████| 353/353 [00:03<00:00, 91.35it/s]\n"
     ]
    },
    {
     "name": "stdout",
     "output_type": "stream",
     "text": [
      "Epoch: 003, Average Loss: 0.3683\n",
      "Validation: {'precision': 0.46213068131812274, 'recall': 0.3014795509899517, 'f1': 0.32660463505394005, 'auc': 0.7308118991421461, 'prauc': 0.4327653669494707}\n",
      "Test:       {'precision': 0.388098905872581, 'recall': 0.29153073991072714, 'f1': 0.3149484005769832, 'auc': 0.7386383834780192, 'prauc': 0.42335767292320825}\n"
     ]
    },
    {
     "name": "stderr",
     "output_type": "stream",
     "text": [
      "Training Batches: 100%|██████████| 471/471 [00:17<00:00, 26.35it/s]\n",
      "Running inference: 100%|██████████| 353/353 [00:03<00:00, 90.65it/s]\n",
      "Running inference: 100%|██████████| 353/353 [00:03<00:00, 90.87it/s] \n"
     ]
    },
    {
     "name": "stdout",
     "output_type": "stream",
     "text": [
      "Epoch: 004, Average Loss: 0.3527\n",
      "Validation: {'precision': 0.43917853922796407, 'recall': 0.3763373680005294, 'f1': 0.38381055390763547, 'auc': 0.7412350522982578, 'prauc': 0.4510014244163691}\n",
      "Test:       {'precision': 0.4063141187260534, 'recall': 0.3681185139743755, 'f1': 0.3709427109146162, 'auc': 0.7448256922962228, 'prauc': 0.4393636891467099}\n"
     ]
    },
    {
     "name": "stderr",
     "output_type": "stream",
     "text": [
      "Training Batches: 100%|██████████| 471/471 [00:17<00:00, 26.39it/s]\n",
      "Running inference: 100%|██████████| 353/353 [00:03<00:00, 90.47it/s]\n",
      "Running inference: 100%|██████████| 353/353 [00:03<00:00, 91.07it/s]\n"
     ]
    },
    {
     "name": "stdout",
     "output_type": "stream",
     "text": [
      "Epoch: 005, Average Loss: 0.3417\n",
      "Validation: {'precision': 0.4316483546886791, 'recall': 0.3833156232227838, 'f1': 0.3904652029838221, 'auc': 0.7404784799670785, 'prauc': 0.4465953439839365}\n",
      "Test:       {'precision': 0.41001775830935155, 'recall': 0.3742558393797996, 'f1': 0.3797825252937336, 'auc': 0.7458800766634703, 'prauc': 0.43640721329948523}\n"
     ]
    },
    {
     "name": "stderr",
     "output_type": "stream",
     "text": [
      "Training Batches: 100%|██████████| 471/471 [00:17<00:00, 26.39it/s]\n",
      "Running inference: 100%|██████████| 353/353 [00:03<00:00, 90.38it/s] \n",
      "Running inference: 100%|██████████| 353/353 [00:03<00:00, 92.24it/s] \n"
     ]
    },
    {
     "name": "stdout",
     "output_type": "stream",
     "text": [
      "Epoch: 006, Average Loss: 0.3327\n",
      "Validation: {'precision': 0.4990362242028521, 'recall': 0.37515350090490274, 'f1': 0.3924507266856811, 'auc': 0.7401250657457036, 'prauc': 0.4503079758718795}\n",
      "Test:       {'precision': 0.41709491150377154, 'recall': 0.35552504193160206, 'f1': 0.371285864944815, 'auc': 0.7402049956694539, 'prauc': 0.4311242105600782}\n"
     ]
    },
    {
     "name": "stderr",
     "output_type": "stream",
     "text": [
      "Training Batches: 100%|██████████| 471/471 [00:17<00:00, 26.51it/s]\n",
      "Running inference: 100%|██████████| 353/353 [00:03<00:00, 89.65it/s]\n",
      "Running inference: 100%|██████████| 353/353 [00:03<00:00, 92.31it/s] \n"
     ]
    },
    {
     "name": "stdout",
     "output_type": "stream",
     "text": [
      "Epoch: 007, Average Loss: 0.3224\n",
      "Validation: {'precision': 0.4111451522438766, 'recall': 0.36485413654483045, 'f1': 0.3745988335263572, 'auc': 0.7348138171296374, 'prauc': 0.44665065020869693}\n",
      "Test:       {'precision': 0.4442601027949291, 'recall': 0.35161809912004743, 'f1': 0.36000665098585705, 'auc': 0.7358868340131326, 'prauc': 0.42758407265948695}\n"
     ]
    },
    {
     "name": "stderr",
     "output_type": "stream",
     "text": [
      "Training Batches: 100%|██████████| 471/471 [00:17<00:00, 26.77it/s]\n",
      "Running inference: 100%|██████████| 353/353 [00:03<00:00, 90.32it/s]\n",
      "Running inference: 100%|██████████| 353/353 [00:03<00:00, 92.81it/s]\n"
     ]
    },
    {
     "name": "stdout",
     "output_type": "stream",
     "text": [
      "Epoch: 008, Average Loss: 0.3159\n",
      "Validation: {'precision': 0.4491332574542038, 'recall': 0.374560140953509, 'f1': 0.39694120296197033, 'auc': 0.7364762745414934, 'prauc': 0.4459942948397652}\n",
      "Test:       {'precision': 0.4074865261496664, 'recall': 0.35674878281418126, 'f1': 0.37496995579518516, 'auc': 0.732071324123794, 'prauc': 0.42648276751316067}\n"
     ]
    },
    {
     "name": "stderr",
     "output_type": "stream",
     "text": [
      "Training Batches: 100%|██████████| 471/471 [00:17<00:00, 26.28it/s]\n",
      "Running inference: 100%|██████████| 353/353 [00:03<00:00, 90.50it/s]\n",
      "Running inference: 100%|██████████| 353/353 [00:03<00:00, 92.33it/s] \n"
     ]
    },
    {
     "name": "stdout",
     "output_type": "stream",
     "text": [
      "Epoch: 009, Average Loss: 0.3043\n",
      "Validation: {'precision': 0.48208312323895597, 'recall': 0.3932115061387446, 'f1': 0.4003905251025906, 'auc': 0.7310301401702947, 'prauc': 0.44759501211713165}\n",
      "Test:       {'precision': 0.41668218697853454, 'recall': 0.3722617979333396, 'f1': 0.3815294201146276, 'auc': 0.7278274884338762, 'prauc': 0.42963552792109494}\n"
     ]
    },
    {
     "name": "stderr",
     "output_type": "stream",
     "text": [
      "Training Batches: 100%|██████████| 471/471 [00:18<00:00, 26.15it/s]\n",
      "Running inference: 100%|██████████| 353/353 [00:03<00:00, 89.73it/s]\n",
      "Running inference: 100%|██████████| 353/353 [00:03<00:00, 92.46it/s] \n"
     ]
    },
    {
     "name": "stdout",
     "output_type": "stream",
     "text": [
      "Epoch: 010, Average Loss: 0.2981\n",
      "Validation: {'precision': 0.42849427104011095, 'recall': 0.35521368468257164, 'f1': 0.3771958754907863, 'auc': 0.7327182553130225, 'prauc': 0.44498976166403953}\n",
      "Test:       {'precision': 0.41300967712133496, 'recall': 0.33712887761174254, 'f1': 0.3572027568880968, 'auc': 0.7285917670686826, 'prauc': 0.42680639861938185}\n"
     ]
    },
    {
     "name": "stderr",
     "output_type": "stream",
     "text": [
      "Training Batches: 100%|██████████| 471/471 [00:17<00:00, 26.33it/s]\n",
      "Running inference: 100%|██████████| 353/353 [00:03<00:00, 90.98it/s]\n",
      "Running inference: 100%|██████████| 353/353 [00:03<00:00, 91.98it/s] \n"
     ]
    },
    {
     "name": "stdout",
     "output_type": "stream",
     "text": [
      "Epoch: 011, Average Loss: 0.2880\n",
      "Validation: {'precision': 0.44579295131708185, 'recall': 0.3798834449607793, 'f1': 0.397496181749444, 'auc': 0.7302739204387911, 'prauc': 0.44171176224991826}\n",
      "Test:       {'precision': 0.40575394089213634, 'recall': 0.36009545436617213, 'f1': 0.3739237078525887, 'auc': 0.725480555105881, 'prauc': 0.42338175065964356}\n"
     ]
    },
    {
     "name": "stderr",
     "output_type": "stream",
     "text": [
      "Training Batches: 100%|██████████| 471/471 [00:17<00:00, 26.42it/s]\n",
      "Running inference: 100%|██████████| 353/353 [00:03<00:00, 88.91it/s]\n",
      "Running inference: 100%|██████████| 353/353 [00:03<00:00, 92.68it/s] \n"
     ]
    },
    {
     "name": "stdout",
     "output_type": "stream",
     "text": [
      "Epoch: 012, Average Loss: 0.2784\n",
      "Validation: {'precision': 0.4652942727388163, 'recall': 0.3831323686253028, 'f1': 0.3968162711750254, 'auc': 0.7325570592382431, 'prauc': 0.44509534700228204}\n",
      "Test:       {'precision': 0.38886008302127817, 'recall': 0.3529122475326481, 'f1': 0.3654125392772649, 'auc': 0.7268563876736048, 'prauc': 0.42170449503004115}\n"
     ]
    },
    {
     "name": "stderr",
     "output_type": "stream",
     "text": [
      "Training Batches: 100%|██████████| 471/471 [00:18<00:00, 26.12it/s]\n",
      "Running inference: 100%|██████████| 353/353 [00:03<00:00, 90.55it/s]\n",
      "Running inference: 100%|██████████| 353/353 [00:03<00:00, 92.05it/s] \n"
     ]
    },
    {
     "name": "stdout",
     "output_type": "stream",
     "text": [
      "Epoch: 013, Average Loss: 0.2711\n",
      "Validation: {'precision': 0.439082409136874, 'recall': 0.38484405427386736, 'f1': 0.3954375033856879, 'auc': 0.7260887819248558, 'prauc': 0.4315377735283706}\n",
      "Test:       {'precision': 0.4182204014410459, 'recall': 0.370689114282654, 'f1': 0.37850705692004, 'auc': 0.7231582324634611, 'prauc': 0.41391266114275305}\n"
     ]
    },
    {
     "name": "stderr",
     "output_type": "stream",
     "text": [
      "Training Batches: 100%|██████████| 471/471 [00:17<00:00, 26.31it/s]\n",
      "Running inference: 100%|██████████| 353/353 [00:03<00:00, 90.67it/s] \n",
      "Running inference: 100%|██████████| 353/353 [00:03<00:00, 93.06it/s] \n"
     ]
    },
    {
     "name": "stdout",
     "output_type": "stream",
     "text": [
      "Epoch: 014, Average Loss: 0.2617\n",
      "Validation: {'precision': 0.4391125942337515, 'recall': 0.3845362172738627, 'f1': 0.39725518138162585, 'auc': 0.7272624654760629, 'prauc': 0.43899482386198563}\n",
      "Test:       {'precision': 0.41475583690361983, 'recall': 0.3659761829802653, 'f1': 0.37741856915646604, 'auc': 0.7210751310787922, 'prauc': 0.41789569903730395}\n",
      "\n",
      "Early stopping triggered after 14 epochs (no improvement for 5 epochs).\n",
      "\n",
      "Best validation performance:\n",
      "{'global': {'precision': 0.48208312323895597, 'recall': 0.3932115061387446, 'f1': 0.4003905251025906, 'auc': 0.7310301401702947, 'prauc': 0.44759501211713165}, 'per_class':                                            precision    recall        f1  \\\n",
      "Acute and unspecified renal failure         0.471366  0.493088  0.481982   \n",
      "Acute cerebrovascular disease               0.000000  0.000000  0.000000   \n",
      "Acute myocardial infarction                 0.166667  0.010526  0.019802   \n",
      "Cardiac dysrhythmias                        0.751938  0.708029  0.729323   \n",
      "Chronic kidney disease                      0.799331  0.702941  0.748044   \n",
      "Chronic obstructive pulmonary disease       0.687075  0.537234  0.602985   \n",
      "Conduction disorders                        0.000000  0.000000  0.000000   \n",
      "Congestive heart failure; nonhypertensive   0.761224  0.690741  0.724272   \n",
      "Coronary atherosclerosis and related        0.634006  0.641399  0.637681   \n",
      "Disorders of lipid metabolism               0.589404  0.700787  0.640288   \n",
      "Essential hypertension                      0.620746  0.743689  0.676678   \n",
      "Fluid and electrolyte disorders             0.459220  0.451220  0.455185   \n",
      "Gastrointestinal hemorrhage                 1.000000  0.010000  0.019802   \n",
      "Hypertension with complications             0.750865  0.680251  0.713816   \n",
      "Other liver diseases                        0.000000  0.000000  0.000000   \n",
      "Other lower respiratory disease             0.505263  0.560311  0.531365   \n",
      "Pneumonia                                   0.000000  0.000000  0.000000   \n",
      "Septicemia (except in labor)                0.480392  0.147590  0.225806   \n",
      "\n",
      "                                                auc     prauc  \n",
      "Acute and unspecified renal failure        0.685888  0.505769  \n",
      "Acute cerebrovascular disease              0.651261  0.020493  \n",
      "Acute myocardial infarction                0.737418  0.214166  \n",
      "Cardiac dysrhythmias                       0.835288  0.798334  \n",
      "Chronic kidney disease                     0.898796  0.796390  \n",
      "Chronic obstructive pulmonary disease      0.853149  0.582878  \n",
      "Conduction disorders                       0.621179  0.034063  \n",
      "Congestive heart failure; nonhypertensive  0.830002  0.745318  \n",
      "Coronary atherosclerosis and related       0.856312  0.609303  \n",
      "Disorders of lipid metabolism              0.819229  0.603661  \n",
      "Essential hypertension                     0.803513  0.662342  \n",
      "Fluid and electrolyte disorders            0.565448  0.472600  \n",
      "Gastrointestinal hemorrhage                0.589565  0.115430  \n",
      "Hypertension with complications            0.903031  0.773845  \n",
      "Other liver diseases                       0.625383  0.051553  \n",
      "Other lower respiratory disease            0.673768  0.567499  \n",
      "Pneumonia                                  0.538025  0.121784  \n",
      "Septicemia (except in labor)               0.671287  0.381283  }\n",
      "Corresponding test performance:\n",
      "{'global': {'precision': 0.41668218697853454, 'recall': 0.3722617979333396, 'f1': 0.3815294201146276, 'auc': 0.7278274884338762, 'prauc': 0.42963552792109494}, 'per_class':                                            precision    recall        f1  \\\n",
      "Acute and unspecified renal failure         0.458629  0.454333  0.456471   \n",
      "Acute cerebrovascular disease               0.000000  0.000000  0.000000   \n",
      "Acute myocardial infarction                 0.333333  0.010204  0.019802   \n",
      "Cardiac dysrhythmias                        0.721443  0.674157  0.696999   \n",
      "Chronic kidney disease                      0.775439  0.671733  0.719870   \n",
      "Chronic obstructive pulmonary disease       0.557971  0.452941  0.500000   \n",
      "Conduction disorders                        0.000000  0.000000  0.000000   \n",
      "Congestive heart failure; nonhypertensive   0.738683  0.669776  0.702544   \n",
      "Coronary atherosclerosis and related        0.618750  0.616822  0.617785   \n",
      "Disorders of lipid metabolism               0.581731  0.663014  0.619718   \n",
      "Essential hypertension                      0.608414  0.746032  0.670232   \n",
      "Fluid and electrolyte disorders             0.453888  0.449016  0.451439   \n",
      "Gastrointestinal hemorrhage                 0.000000  0.000000  0.000000   \n",
      "Hypertension with complications             0.734317  0.650327  0.689775   \n",
      "Other liver diseases                        0.000000  0.000000  0.000000   \n",
      "Other lower respiratory disease             0.531716  0.500879  0.515837   \n",
      "Pneumonia                                   0.000000  0.000000  0.000000   \n",
      "Septicemia (except in labor)                0.385965  0.141479  0.207059   \n",
      "\n",
      "                                                auc     prauc  \n",
      "Acute and unspecified renal failure        0.674854  0.451914  \n",
      "Acute cerebrovascular disease              0.585047  0.019151  \n",
      "Acute myocardial infarction                0.756681  0.183350  \n",
      "Cardiac dysrhythmias                       0.807319  0.764751  \n",
      "Chronic kidney disease                     0.896426  0.796110  \n",
      "Chronic obstructive pulmonary disease      0.828463  0.467681  \n",
      "Conduction disorders                       0.711689  0.055439  \n",
      "Congestive heart failure; nonhypertensive  0.824830  0.735411  \n",
      "Coronary atherosclerosis and related       0.870958  0.612919  \n",
      "Disorders of lipid metabolism              0.824062  0.584621  \n",
      "Essential hypertension                     0.793881  0.655040  \n",
      "Fluid and electrolyte disorders            0.577986  0.454115  \n",
      "Gastrointestinal hemorrhage                0.562159  0.091034  \n",
      "Hypertension with complications            0.895567  0.760750  \n",
      "Other liver diseases                       0.637170  0.027188  \n",
      "Other lower respiratory disease            0.635719  0.561785  \n",
      "Pneumonia                                  0.584319  0.182339  \n",
      "Septicemia (except in labor)               0.633765  0.329843  }\n",
      "Corresponding test-long performance:\n",
      "{'global': {'precision': 0.4084774814070325, 'recall': 0.37315098394766616, 'f1': 0.3854509786994971, 'auc': 0.7244244344540541, 'prauc': 0.44301911705357794}, 'per_class':                                            precision    recall        f1  \\\n",
      "Acute and unspecified renal failure         0.530612  0.412698  0.464286   \n",
      "Acute cerebrovascular disease               0.000000  0.000000  0.000000   \n",
      "Acute myocardial infarction                 0.000000  0.000000  0.000000   \n",
      "Cardiac dysrhythmias                        0.714286  0.661765  0.687023   \n",
      "Chronic kidney disease                      0.800000  0.800000  0.800000   \n",
      "Chronic obstructive pulmonary disease       0.526316  0.400000  0.454545   \n",
      "Conduction disorders                        0.000000  0.000000  0.000000   \n",
      "Congestive heart failure; nonhypertensive   0.710145  0.765625  0.736842   \n",
      "Coronary atherosclerosis and related        0.565217  0.553191  0.559140   \n",
      "Disorders of lipid metabolism               0.647059  0.600000  0.622642   \n",
      "Essential hypertension                      0.634146  0.722222  0.675325   \n",
      "Fluid and electrolyte disorders             0.537313  0.480000  0.507042   \n",
      "Gastrointestinal hemorrhage                 0.000000  0.000000  0.000000   \n",
      "Hypertension with complications             0.687500  0.709677  0.698413   \n",
      "Other liver diseases                        0.000000  0.000000  0.000000   \n",
      "Other lower respiratory disease             0.571429  0.461538  0.510638   \n",
      "Pneumonia                                   0.000000  0.000000  0.000000   \n",
      "Septicemia (except in labor)                0.428571  0.150000  0.222222   \n",
      "\n",
      "                                                auc     prauc  \n",
      "Acute and unspecified renal failure        0.680088  0.505702  \n",
      "Acute cerebrovascular disease              0.534807  0.029155  \n",
      "Acute myocardial infarction                0.725368  0.185594  \n",
      "Cardiac dysrhythmias                       0.834870  0.799444  \n",
      "Chronic kidney disease                     0.912393  0.817018  \n",
      "Chronic obstructive pulmonary disease      0.813665  0.403025  \n",
      "Conduction disorders                       0.657609  0.014569  \n",
      "Congestive heart failure; nonhypertensive  0.837731  0.756261  \n",
      "Coronary atherosclerosis and related       0.857799  0.582720  \n",
      "Disorders of lipid metabolism              0.841499  0.731146  \n",
      "Essential hypertension                     0.783260  0.720215  \n",
      "Fluid and electrolyte disorders            0.648889  0.514614  \n",
      "Gastrointestinal hemorrhage                0.470506  0.042574  \n",
      "Hypertension with complications            0.926327  0.801686  \n",
      "Other liver diseases                       0.676630  0.015516  \n",
      "Other lower respiratory disease            0.654915  0.577110  \n",
      "Pneumonia                                  0.580375  0.166383  \n",
      "Septicemia (except in labor)               0.602911  0.311610  }\n",
      "[INFO] Random seed set to 958682846\n",
      "Training with seed: 958682846\n"
     ]
    },
    {
     "name": "stderr",
     "output_type": "stream",
     "text": [
      "Training Batches: 100%|██████████| 471/471 [00:17<00:00, 26.70it/s]\n",
      "Running inference: 100%|██████████| 353/353 [00:03<00:00, 89.76it/s]\n",
      "Running inference: 100%|██████████| 353/353 [00:03<00:00, 92.71it/s] \n"
     ]
    },
    {
     "name": "stdout",
     "output_type": "stream",
     "text": [
      "Epoch: 001, Average Loss: 0.4271\n",
      "Validation: {'precision': 0.3625327573982084, 'recall': 0.284505238344102, 'f1': 0.3021751107622203, 'auc': 0.6998851994171678, 'prauc': 0.3983104922261744}\n",
      "Test:       {'precision': 0.36616973050561, 'recall': 0.28366178273649983, 'f1': 0.3005113558967635, 'auc': 0.7115722518988791, 'prauc': 0.3954610674507564}\n"
     ]
    },
    {
     "name": "stderr",
     "output_type": "stream",
     "text": [
      "Training Batches: 100%|██████████| 471/471 [00:17<00:00, 26.55it/s]\n",
      "Running inference: 100%|██████████| 353/353 [00:03<00:00, 89.28it/s] \n",
      "Running inference: 100%|██████████| 353/353 [00:03<00:00, 91.39it/s]\n"
     ]
    },
    {
     "name": "stdout",
     "output_type": "stream",
     "text": [
      "Epoch: 002, Average Loss: 0.3843\n",
      "Validation: {'precision': 0.41877379632097944, 'recall': 0.3187122766259973, 'f1': 0.3468533324401018, 'auc': 0.7297553782748654, 'prauc': 0.43451849875983184}\n",
      "Test:       {'precision': 0.41486913636489664, 'recall': 0.31427783327383274, 'f1': 0.34332468423731594, 'auc': 0.7393337121025699, 'prauc': 0.43387689019822745}\n"
     ]
    },
    {
     "name": "stderr",
     "output_type": "stream",
     "text": [
      "Training Batches: 100%|██████████| 471/471 [00:17<00:00, 26.41it/s]\n",
      "Running inference: 100%|██████████| 353/353 [00:03<00:00, 90.77it/s]\n",
      "Running inference: 100%|██████████| 353/353 [00:03<00:00, 91.81it/s]\n"
     ]
    },
    {
     "name": "stdout",
     "output_type": "stream",
     "text": [
      "Epoch: 003, Average Loss: 0.3640\n",
      "Validation: {'precision': 0.47761235277587766, 'recall': 0.3207791267682186, 'f1': 0.35363727231868697, 'auc': 0.7436979539980871, 'prauc': 0.44961881855372204}\n",
      "Test:       {'precision': 0.4038083628538122, 'recall': 0.3098232188929653, 'f1': 0.34050978345881483, 'auc': 0.7488417450002632, 'prauc': 0.4400521469300923}\n"
     ]
    },
    {
     "name": "stderr",
     "output_type": "stream",
     "text": [
      "Training Batches: 100%|██████████| 471/471 [00:17<00:00, 26.57it/s]\n",
      "Running inference: 100%|██████████| 353/353 [00:03<00:00, 89.28it/s]\n",
      "Running inference: 100%|██████████| 353/353 [00:03<00:00, 91.34it/s] \n"
     ]
    },
    {
     "name": "stdout",
     "output_type": "stream",
     "text": [
      "Epoch: 004, Average Loss: 0.3505\n",
      "Validation: {'precision': 0.4237231579568129, 'recall': 0.4019480743372299, 'f1': 0.39232690914749085, 'auc': 0.7345427553921859, 'prauc': 0.44327066620228994}\n",
      "Test:       {'precision': 0.40968298910202855, 'recall': 0.3904579119670958, 'f1': 0.38261617559980043, 'auc': 0.734955407686861, 'prauc': 0.43584652586460804}\n"
     ]
    },
    {
     "name": "stderr",
     "output_type": "stream",
     "text": [
      "Training Batches: 100%|██████████| 471/471 [00:18<00:00, 26.14it/s]\n",
      "Running inference: 100%|██████████| 353/353 [00:03<00:00, 89.59it/s]\n",
      "Running inference: 100%|██████████| 353/353 [00:03<00:00, 90.76it/s]\n"
     ]
    },
    {
     "name": "stdout",
     "output_type": "stream",
     "text": [
      "Epoch: 005, Average Loss: 0.3423\n",
      "Validation: {'precision': 0.4434621322700853, 'recall': 0.3514821477091499, 'f1': 0.37354183360133364, 'auc': 0.734667278135289, 'prauc': 0.44619915969073154}\n",
      "Test:       {'precision': 0.42042730419140606, 'recall': 0.3389373473509545, 'f1': 0.35879210636687286, 'auc': 0.7403057563070494, 'prauc': 0.43780343470146876}\n"
     ]
    },
    {
     "name": "stderr",
     "output_type": "stream",
     "text": [
      "Training Batches: 100%|██████████| 471/471 [00:17<00:00, 26.37it/s]\n",
      "Running inference: 100%|██████████| 353/353 [00:03<00:00, 90.56it/s]\n",
      "Running inference: 100%|██████████| 353/353 [00:03<00:00, 92.31it/s] \n"
     ]
    },
    {
     "name": "stdout",
     "output_type": "stream",
     "text": [
      "Epoch: 006, Average Loss: 0.3330\n",
      "Validation: {'precision': 0.4100343842578722, 'recall': 0.3731236909708342, 'f1': 0.3832469876014285, 'auc': 0.7406160666982861, 'prauc': 0.44949454790278043}\n",
      "Test:       {'precision': 0.398805521164234, 'recall': 0.3626059691957594, 'f1': 0.3738286627657168, 'auc': 0.7426531804155295, 'prauc': 0.43853396441981096}\n"
     ]
    },
    {
     "name": "stderr",
     "output_type": "stream",
     "text": [
      "Training Batches: 100%|██████████| 471/471 [00:17<00:00, 26.49it/s]\n",
      "Running inference: 100%|██████████| 353/353 [00:03<00:00, 91.44it/s]\n",
      "Running inference: 100%|██████████| 353/353 [00:03<00:00, 90.80it/s]\n"
     ]
    },
    {
     "name": "stdout",
     "output_type": "stream",
     "text": [
      "Epoch: 007, Average Loss: 0.3239\n",
      "Validation: {'precision': 0.44004339068522946, 'recall': 0.38474277183190353, 'f1': 0.3917064355008425, 'auc': 0.7415340988555795, 'prauc': 0.45110466142791616}\n",
      "Test:       {'precision': 0.46291059508518273, 'recall': 0.3719648913350455, 'f1': 0.3800582159091297, 'auc': 0.737929374751623, 'prauc': 0.43657267668299005}\n"
     ]
    },
    {
     "name": "stderr",
     "output_type": "stream",
     "text": [
      "Training Batches: 100%|██████████| 471/471 [00:17<00:00, 26.55it/s]\n",
      "Running inference: 100%|██████████| 353/353 [00:03<00:00, 89.67it/s]\n",
      "Running inference: 100%|██████████| 353/353 [00:03<00:00, 92.01it/s]\n"
     ]
    },
    {
     "name": "stdout",
     "output_type": "stream",
     "text": [
      "Epoch: 008, Average Loss: 0.3133\n",
      "Validation: {'precision': 0.438129121534078, 'recall': 0.34949259017991713, 'f1': 0.3668822485015434, 'auc': 0.7344028791229864, 'prauc': 0.44304283808705747}\n",
      "Test:       {'precision': 0.4246632632169436, 'recall': 0.33897963068654174, 'f1': 0.3590060786367155, 'auc': 0.7329502462795592, 'prauc': 0.4319928196037831}\n"
     ]
    },
    {
     "name": "stderr",
     "output_type": "stream",
     "text": [
      "Training Batches: 100%|██████████| 471/471 [00:17<00:00, 26.38it/s]\n",
      "Running inference: 100%|██████████| 353/353 [00:03<00:00, 89.63it/s]\n",
      "Running inference: 100%|██████████| 353/353 [00:03<00:00, 91.66it/s]\n"
     ]
    },
    {
     "name": "stdout",
     "output_type": "stream",
     "text": [
      "Epoch: 009, Average Loss: 0.3069\n",
      "Validation: {'precision': 0.4455699407929397, 'recall': 0.35078987475830314, 'f1': 0.37643661360937103, 'auc': 0.728715702058532, 'prauc': 0.44110004938380987}\n",
      "Test:       {'precision': 0.43102256980638576, 'recall': 0.3312341320052432, 'f1': 0.35993453487121413, 'auc': 0.7250317998569055, 'prauc': 0.4339783935712716}\n",
      "\n",
      "Early stopping triggered after 9 epochs (no improvement for 5 epochs).\n",
      "\n",
      "Best validation performance:\n",
      "{'global': {'precision': 0.4237231579568129, 'recall': 0.4019480743372299, 'f1': 0.39232690914749085, 'auc': 0.7345427553921859, 'prauc': 0.44327066620228994}, 'per_class':                                            precision    recall        f1  \\\n",
      "Acute and unspecified renal failure         0.479853  0.603687  0.534694   \n",
      "Acute cerebrovascular disease               0.000000  0.000000  0.000000   \n",
      "Acute myocardial infarction                 0.000000  0.000000  0.000000   \n",
      "Cardiac dysrhythmias                        0.850467  0.664234  0.745902   \n",
      "Chronic kidney disease                      0.657289  0.755882  0.703146   \n",
      "Chronic obstructive pulmonary disease       0.633880  0.617021  0.625337   \n",
      "Conduction disorders                        0.000000  0.000000  0.000000   \n",
      "Congestive heart failure; nonhypertensive   0.692821  0.768519  0.728709   \n",
      "Coronary atherosclerosis and related        0.640110  0.679300  0.659123   \n",
      "Disorders of lipid metabolism               0.648794  0.635171  0.641910   \n",
      "Essential hypertension                      0.652778  0.638835  0.645731   \n",
      "Fluid and electrolyte disorders             0.474037  0.493031  0.483348   \n",
      "Gastrointestinal hemorrhage                 0.000000  0.000000  0.000000   \n",
      "Hypertension with complications             0.694118  0.739812  0.716237   \n",
      "Other liver diseases                        0.000000  0.000000  0.000000   \n",
      "Other lower respiratory disease             0.488584  0.624514  0.548249   \n",
      "Pneumonia                                   0.000000  0.000000  0.000000   \n",
      "Septicemia (except in labor)                0.714286  0.015060  0.029499   \n",
      "\n",
      "                                                auc     prauc  \n",
      "Acute and unspecified renal failure        0.707104  0.497281  \n",
      "Acute cerebrovascular disease              0.720187  0.038837  \n",
      "Acute myocardial infarction                0.736306  0.176611  \n",
      "Cardiac dysrhythmias                       0.836205  0.807784  \n",
      "Chronic kidney disease                     0.892314  0.760877  \n",
      "Chronic obstructive pulmonary disease      0.862869  0.563574  \n",
      "Conduction disorders                       0.610550  0.030786  \n",
      "Congestive heart failure; nonhypertensive  0.840892  0.778416  \n",
      "Coronary atherosclerosis and related       0.859446  0.605070  \n",
      "Disorders of lipid metabolism              0.833824  0.641858  \n",
      "Essential hypertension                     0.803092  0.674499  \n",
      "Fluid and electrolyte disorders            0.575021  0.466591  \n",
      "Gastrointestinal hemorrhage                0.580153  0.118793  \n",
      "Hypertension with complications            0.900480  0.755530  \n",
      "Other liver diseases                       0.593045  0.042783  \n",
      "Other lower respiratory disease            0.681142  0.566608  \n",
      "Pneumonia                                  0.554327  0.120948  \n",
      "Septicemia (except in labor)               0.634813  0.332026  }\n",
      "Corresponding test performance:\n",
      "{'global': {'precision': 0.40968298910202855, 'recall': 0.3904579119670958, 'f1': 0.38261617559980043, 'auc': 0.734955407686861, 'prauc': 0.43584652586460804}, 'per_class':                                            precision    recall        f1  \\\n",
      "Acute and unspecified renal failure         0.464088  0.590164  0.519588   \n",
      "Acute cerebrovascular disease               0.000000  0.000000  0.000000   \n",
      "Acute myocardial infarction                 0.000000  0.000000  0.000000   \n",
      "Cardiac dysrhythmias                        0.813107  0.627341  0.708245   \n",
      "Chronic kidney disease                      0.669421  0.738602  0.702312   \n",
      "Chronic obstructive pulmonary disease       0.562874  0.552941  0.557864   \n",
      "Conduction disorders                        0.000000  0.000000  0.000000   \n",
      "Congestive heart failure; nonhypertensive   0.692440  0.751866  0.720930   \n",
      "Coronary atherosclerosis and related        0.633238  0.688474  0.659701   \n",
      "Disorders of lipid metabolism               0.635328  0.610959  0.622905   \n",
      "Essential hypertension                      0.638507  0.644841  0.641658   \n",
      "Fluid and electrolyte disorders             0.452893  0.490161  0.470790   \n",
      "Gastrointestinal hemorrhage                 0.000000  0.000000  0.000000   \n",
      "Hypertension with complications             0.679365  0.699346  0.689211   \n",
      "Other liver diseases                        0.000000  0.000000  0.000000   \n",
      "Other lower respiratory disease             0.533033  0.623902  0.574899   \n",
      "Pneumonia                                   0.000000  0.000000  0.000000   \n",
      "Septicemia (except in labor)                0.600000  0.009646  0.018987   \n",
      "\n",
      "                                                auc     prauc  \n",
      "Acute and unspecified renal failure        0.703836  0.480204  \n",
      "Acute cerebrovascular disease              0.701810  0.037887  \n",
      "Acute myocardial infarction                0.738839  0.153715  \n",
      "Cardiac dysrhythmias                       0.814938  0.765624  \n",
      "Chronic kidney disease                     0.889217  0.757454  \n",
      "Chronic obstructive pulmonary disease      0.838937  0.462501  \n",
      "Conduction disorders                       0.621179  0.032052  \n",
      "Congestive heart failure; nonhypertensive  0.836218  0.759824  \n",
      "Coronary atherosclerosis and related       0.873121  0.639590  \n",
      "Disorders of lipid metabolism              0.832161  0.603988  \n",
      "Essential hypertension                     0.792619  0.666092  \n",
      "Fluid and electrolyte disorders            0.586976  0.464607  \n",
      "Gastrointestinal hemorrhage                0.584974  0.087573  \n",
      "Hypertension with complications            0.906191  0.753105  \n",
      "Other liver diseases                       0.617531  0.097666  \n",
      "Other lower respiratory disease            0.668927  0.582776  \n",
      "Pneumonia                                  0.573097  0.163549  \n",
      "Septicemia (except in labor)               0.648625  0.337030  }\n",
      "Corresponding test-long performance:\n",
      "{'global': {'precision': 0.42455599326179105, 'recall': 0.4000996645479625, 'f1': 0.38406483759533294, 'auc': 0.7637428333339535, 'prauc': 0.442672867848764}, 'per_class':                                            precision    recall        f1  \\\n",
      "Acute and unspecified renal failure         0.430556  0.574074  0.492063   \n",
      "Acute cerebrovascular disease               0.000000  0.000000  0.000000   \n",
      "Acute myocardial infarction                 0.000000  0.000000  0.000000   \n",
      "Cardiac dysrhythmias                        0.796610  0.734375  0.764228   \n",
      "Chronic kidney disease                      0.625000  0.789474  0.697674   \n",
      "Chronic obstructive pulmonary disease       0.625000  0.652174  0.638298   \n",
      "Conduction disorders                        0.000000  0.000000  0.000000   \n",
      "Congestive heart failure; nonhypertensive   0.738095  0.765432  0.751515   \n",
      "Coronary atherosclerosis and related        0.613636  0.642857  0.627907   \n",
      "Disorders of lipid metabolism               0.627907  0.562500  0.593407   \n",
      "Essential hypertension                      0.693548  0.614286  0.651515   \n",
      "Fluid and electrolyte disorders             0.418919  0.455882  0.436620   \n",
      "Gastrointestinal hemorrhage                 0.000000  0.000000  0.000000   \n",
      "Hypertension with complications             0.604651  0.764706  0.675325   \n",
      "Other liver diseases                        0.000000  0.000000  0.000000   \n",
      "Other lower respiratory disease             0.468085  0.619718  0.533333   \n",
      "Pneumonia                                   0.000000  0.000000  0.000000   \n",
      "Septicemia (except in labor)                1.000000  0.026316  0.051282   \n",
      "\n",
      "                                                auc     prauc  \n",
      "Acute and unspecified renal failure        0.664703  0.457744  \n",
      "Acute cerebrovascular disease              0.918919  0.031250  \n",
      "Acute myocardial infarction                0.856345  0.157068  \n",
      "Cardiac dysrhythmias                       0.844518  0.755268  \n",
      "Chronic kidney disease                     0.901316  0.706835  \n",
      "Chronic obstructive pulmonary disease      0.885836  0.540370  \n",
      "Conduction disorders                       0.541209  0.024266  \n",
      "Congestive heart failure; nonhypertensive  0.815755  0.791144  \n",
      "Coronary atherosclerosis and related       0.857143  0.623551  \n",
      "Disorders of lipid metabolism              0.841486  0.645182  \n",
      "Essential hypertension                     0.794704  0.698219  \n",
      "Fluid and electrolyte disorders            0.619516  0.456513  \n",
      "Gastrointestinal hemorrhage                0.740421  0.179550  \n",
      "Hypertension with complications            0.926277  0.770332  \n",
      "Other liver diseases                       0.543956  0.021724  \n",
      "Other lower respiratory disease            0.670667  0.539037  \n",
      "Pneumonia                                  0.651235  0.216400  \n",
      "Septicemia (except in labor)               0.673364  0.353658  }\n",
      "[INFO] Random seed set to 3163119785\n",
      "Training with seed: 3163119785\n"
     ]
    },
    {
     "name": "stderr",
     "output_type": "stream",
     "text": [
      "Training Batches: 100%|██████████| 471/471 [00:17<00:00, 26.56it/s]\n",
      "Running inference: 100%|██████████| 353/353 [00:03<00:00, 89.57it/s]\n",
      "Running inference: 100%|██████████| 353/353 [00:03<00:00, 92.42it/s] \n"
     ]
    },
    {
     "name": "stdout",
     "output_type": "stream",
     "text": [
      "Epoch: 001, Average Loss: 0.4288\n",
      "Validation: {'precision': 0.3552461591265729, 'recall': 0.2538480023010162, 'f1': 0.27889116888739723, 'auc': 0.7173387082915408, 'prauc': 0.4114367816019394}\n",
      "Test:       {'precision': 0.3516647873178465, 'recall': 0.24531353875895986, 'f1': 0.27052310548353314, 'auc': 0.7190754645518006, 'prauc': 0.40734114532051924}\n"
     ]
    },
    {
     "name": "stderr",
     "output_type": "stream",
     "text": [
      "Training Batches: 100%|██████████| 471/471 [00:17<00:00, 26.53it/s]\n",
      "Running inference: 100%|██████████| 353/353 [00:03<00:00, 91.73it/s] \n",
      "Running inference: 100%|██████████| 353/353 [00:03<00:00, 91.83it/s] \n"
     ]
    },
    {
     "name": "stdout",
     "output_type": "stream",
     "text": [
      "Epoch: 002, Average Loss: 0.3851\n",
      "Validation: {'precision': 0.42101465017867923, 'recall': 0.34763273378481946, 'f1': 0.3467305206666961, 'auc': 0.7256066722296864, 'prauc': 0.4294530814781678}\n",
      "Test:       {'precision': 0.3681724453502756, 'recall': 0.3442708656449879, 'f1': 0.3452232033586648, 'auc': 0.7344996476445187, 'prauc': 0.4170395840166014}\n"
     ]
    },
    {
     "name": "stderr",
     "output_type": "stream",
     "text": [
      "Training Batches: 100%|██████████| 471/471 [00:18<00:00, 26.13it/s]\n",
      "Running inference: 100%|██████████| 353/353 [00:03<00:00, 90.05it/s]\n",
      "Running inference: 100%|██████████| 353/353 [00:03<00:00, 91.53it/s]\n"
     ]
    },
    {
     "name": "stdout",
     "output_type": "stream",
     "text": [
      "Epoch: 003, Average Loss: 0.3678\n",
      "Validation: {'precision': 0.4142597520880693, 'recall': 0.34096209300424124, 'f1': 0.3534918849420689, 'auc': 0.7338714615698709, 'prauc': 0.4362055743752503}\n",
      "Test:       {'precision': 0.40411496770090743, 'recall': 0.3339236318010071, 'f1': 0.34600124929967835, 'auc': 0.7361464350115203, 'prauc': 0.4298767301191917}\n"
     ]
    },
    {
     "name": "stderr",
     "output_type": "stream",
     "text": [
      "Training Batches: 100%|██████████| 471/471 [00:17<00:00, 26.24it/s]\n",
      "Running inference: 100%|██████████| 353/353 [00:03<00:00, 90.12it/s]\n",
      "Running inference: 100%|██████████| 353/353 [00:03<00:00, 92.15it/s]\n"
     ]
    },
    {
     "name": "stdout",
     "output_type": "stream",
     "text": [
      "Epoch: 004, Average Loss: 0.3553\n",
      "Validation: {'precision': 0.4026718669756295, 'recall': 0.3940745075710366, 'f1': 0.37962210517633727, 'auc': 0.7376253008465286, 'prauc': 0.44454075643296487}\n",
      "Test:       {'precision': 0.40248190131530187, 'recall': 0.39217354836054574, 'f1': 0.37925005872220885, 'auc': 0.7433556446463152, 'prauc': 0.4353472950344842}\n"
     ]
    },
    {
     "name": "stderr",
     "output_type": "stream",
     "text": [
      "Training Batches: 100%|██████████| 471/471 [00:17<00:00, 26.47it/s]\n",
      "Running inference: 100%|██████████| 353/353 [00:03<00:00, 91.28it/s]\n",
      "Running inference: 100%|██████████| 353/353 [00:03<00:00, 92.18it/s]\n"
     ]
    },
    {
     "name": "stdout",
     "output_type": "stream",
     "text": [
      "Epoch: 005, Average Loss: 0.3439\n",
      "Validation: {'precision': 0.4239879166682379, 'recall': 0.35033755247597026, 'f1': 0.37366306846086145, 'auc': 0.7337689435998224, 'prauc': 0.445135145178166}\n",
      "Test:       {'precision': 0.42149573466038626, 'recall': 0.3372921607392533, 'f1': 0.3635948636170651, 'auc': 0.7412691911941187, 'prauc': 0.4342087937121935}\n"
     ]
    },
    {
     "name": "stderr",
     "output_type": "stream",
     "text": [
      "Training Batches: 100%|██████████| 471/471 [00:17<00:00, 26.29it/s]\n",
      "Running inference: 100%|██████████| 353/353 [00:03<00:00, 89.31it/s]\n",
      "Running inference: 100%|██████████| 353/353 [00:03<00:00, 93.20it/s] \n"
     ]
    },
    {
     "name": "stdout",
     "output_type": "stream",
     "text": [
      "Epoch: 006, Average Loss: 0.3345\n",
      "Validation: {'precision': 0.47182529906432946, 'recall': 0.3608431952675124, 'f1': 0.38128998795690827, 'auc': 0.7334038280785348, 'prauc': 0.44642830587689303}\n",
      "Test:       {'precision': 0.42329149139313854, 'recall': 0.3442495569847429, 'f1': 0.36612110188933783, 'auc': 0.7371974973452301, 'prauc': 0.43131891680808704}\n"
     ]
    },
    {
     "name": "stderr",
     "output_type": "stream",
     "text": [
      "Training Batches: 100%|██████████| 471/471 [00:17<00:00, 26.26it/s]\n",
      "Running inference: 100%|██████████| 353/353 [00:03<00:00, 90.05it/s]\n",
      "Running inference: 100%|██████████| 353/353 [00:03<00:00, 91.50it/s] \n"
     ]
    },
    {
     "name": "stdout",
     "output_type": "stream",
     "text": [
      "Epoch: 007, Average Loss: 0.3259\n",
      "Validation: {'precision': 0.4093361513124629, 'recall': 0.3811392184773965, 'f1': 0.3907547313807319, 'auc': 0.7368914063843912, 'prauc': 0.4406972240168548}\n",
      "Test:       {'precision': 0.40261033852339173, 'recall': 0.3754494010594669, 'f1': 0.38428734174442086, 'auc': 0.736395028040294, 'prauc': 0.426589490469699}\n"
     ]
    },
    {
     "name": "stderr",
     "output_type": "stream",
     "text": [
      "Training Batches: 100%|██████████| 471/471 [00:18<00:00, 26.15it/s]\n",
      "Running inference: 100%|██████████| 353/353 [00:03<00:00, 91.80it/s] \n",
      "Running inference: 100%|██████████| 353/353 [00:03<00:00, 92.66it/s]\n"
     ]
    },
    {
     "name": "stdout",
     "output_type": "stream",
     "text": [
      "Epoch: 008, Average Loss: 0.3142\n",
      "Validation: {'precision': 0.43444150265295906, 'recall': 0.34766332521364357, 'f1': 0.37899263184595666, 'auc': 0.7343840598393974, 'prauc': 0.44551204190369514}\n",
      "Test:       {'precision': 0.4764924139205022, 'recall': 0.3315894483576046, 'f1': 0.36516875960374084, 'auc': 0.7356802731152647, 'prauc': 0.42598097663149886}\n"
     ]
    },
    {
     "name": "stderr",
     "output_type": "stream",
     "text": [
      "Training Batches: 100%|██████████| 471/471 [00:17<00:00, 26.58it/s]\n",
      "Running inference: 100%|██████████| 353/353 [00:03<00:00, 90.36it/s]\n",
      "Running inference: 100%|██████████| 353/353 [00:03<00:00, 92.95it/s] \n"
     ]
    },
    {
     "name": "stdout",
     "output_type": "stream",
     "text": [
      "Epoch: 009, Average Loss: 0.3087\n",
      "Validation: {'precision': 0.4242346700312474, 'recall': 0.39261857393655136, 'f1': 0.3976261559981861, 'auc': 0.731969107459802, 'prauc': 0.44151509039881176}\n",
      "Test:       {'precision': 0.4428560668397085, 'recall': 0.3819137910257124, 'f1': 0.3910004582560428, 'auc': 0.7272602065785423, 'prauc': 0.4213446013519129}\n"
     ]
    },
    {
     "name": "stderr",
     "output_type": "stream",
     "text": [
      "Training Batches: 100%|██████████| 471/471 [00:17<00:00, 26.62it/s]\n",
      "Running inference: 100%|██████████| 353/353 [00:03<00:00, 89.21it/s]\n",
      "Running inference: 100%|██████████| 353/353 [00:03<00:00, 91.18it/s] \n"
     ]
    },
    {
     "name": "stdout",
     "output_type": "stream",
     "text": [
      "Epoch: 010, Average Loss: 0.2985\n",
      "Validation: {'precision': 0.46750032305320377, 'recall': 0.4019033381179105, 'f1': 0.39874609125129107, 'auc': 0.734718297091416, 'prauc': 0.4389975487904606}\n",
      "Test:       {'precision': 0.40620801485797053, 'recall': 0.39535968394002324, 'f1': 0.3927001040525497, 'auc': 0.7316804960588167, 'prauc': 0.4216254212491996}\n"
     ]
    },
    {
     "name": "stderr",
     "output_type": "stream",
     "text": [
      "Training Batches: 100%|██████████| 471/471 [00:17<00:00, 26.23it/s]\n",
      "Running inference: 100%|██████████| 353/353 [00:03<00:00, 91.95it/s] \n",
      "Running inference: 100%|██████████| 353/353 [00:03<00:00, 92.61it/s] \n"
     ]
    },
    {
     "name": "stdout",
     "output_type": "stream",
     "text": [
      "Epoch: 011, Average Loss: 0.2935\n",
      "Validation: {'precision': 0.4364443567857548, 'recall': 0.3645223064611155, 'f1': 0.3753891376047801, 'auc': 0.7301855559619891, 'prauc': 0.4401951129238304}\n",
      "Test:       {'precision': 0.45914606256737245, 'recall': 0.3623769353308324, 'f1': 0.3728548795460489, 'auc': 0.7301450504538529, 'prauc': 0.4229446790872652}\n"
     ]
    },
    {
     "name": "stderr",
     "output_type": "stream",
     "text": [
      "Training Batches: 100%|██████████| 471/471 [00:17<00:00, 26.67it/s]\n",
      "Running inference: 100%|██████████| 353/353 [00:03<00:00, 90.48it/s]\n",
      "Running inference: 100%|██████████| 353/353 [00:03<00:00, 91.39it/s] \n"
     ]
    },
    {
     "name": "stdout",
     "output_type": "stream",
     "text": [
      "Epoch: 012, Average Loss: 0.2832\n",
      "Validation: {'precision': 0.44769437628341724, 'recall': 0.3531492782836296, 'f1': 0.37542685195462255, 'auc': 0.7317526329344531, 'prauc': 0.4382675407893064}\n",
      "Test:       {'precision': 0.42880165120344604, 'recall': 0.3427008429682432, 'f1': 0.3677148450817993, 'auc': 0.7215022171199412, 'prauc': 0.41604842623673594}\n"
     ]
    },
    {
     "name": "stderr",
     "output_type": "stream",
     "text": [
      "Training Batches: 100%|██████████| 471/471 [00:17<00:00, 26.29it/s]\n",
      "Running inference: 100%|██████████| 353/353 [00:03<00:00, 89.09it/s]\n",
      "Running inference: 100%|██████████| 353/353 [00:03<00:00, 91.32it/s]\n"
     ]
    },
    {
     "name": "stdout",
     "output_type": "stream",
     "text": [
      "Epoch: 013, Average Loss: 0.2771\n",
      "Validation: {'precision': 0.5250826672873621, 'recall': 0.3905782491072007, 'f1': 0.403352531731772, 'auc': 0.7292612994300817, 'prauc': 0.44545639987209573}\n",
      "Test:       {'precision': 0.41319372656879066, 'recall': 0.37230341061382105, 'f1': 0.381235191216211, 'auc': 0.7258164454666293, 'prauc': 0.4168385443784904}\n"
     ]
    },
    {
     "name": "stderr",
     "output_type": "stream",
     "text": [
      "Training Batches: 100%|██████████| 471/471 [00:17<00:00, 26.20it/s]\n",
      "Running inference: 100%|██████████| 353/353 [00:03<00:00, 89.05it/s]\n",
      "Running inference: 100%|██████████| 353/353 [00:03<00:00, 90.77it/s]\n"
     ]
    },
    {
     "name": "stdout",
     "output_type": "stream",
     "text": [
      "Epoch: 014, Average Loss: 0.2672\n",
      "Validation: {'precision': 0.4653899438701643, 'recall': 0.38866726281075714, 'f1': 0.3924513941092344, 'auc': 0.7280808595705991, 'prauc': 0.4354678788478866}\n",
      "Test:       {'precision': 0.40453897108315645, 'recall': 0.37283819006271607, 'f1': 0.378425892434907, 'auc': 0.7209001426961089, 'prauc': 0.4133100703076949}\n"
     ]
    },
    {
     "name": "stderr",
     "output_type": "stream",
     "text": [
      "Training Batches: 100%|██████████| 471/471 [00:17<00:00, 26.49it/s]\n",
      "Running inference: 100%|██████████| 353/353 [00:03<00:00, 90.11it/s]\n",
      "Running inference: 100%|██████████| 353/353 [00:03<00:00, 90.72it/s]\n"
     ]
    },
    {
     "name": "stdout",
     "output_type": "stream",
     "text": [
      "Epoch: 015, Average Loss: 0.2641\n",
      "Validation: {'precision': 0.47568788869937084, 'recall': 0.3903329947937466, 'f1': 0.39501575040297476, 'auc': 0.7255367810817313, 'prauc': 0.4323679407266525}\n",
      "Test:       {'precision': 0.4006836176129965, 'recall': 0.37495593196164106, 'f1': 0.37893160329269804, 'auc': 0.7195818160729125, 'prauc': 0.40790808962111497}\n"
     ]
    },
    {
     "name": "stderr",
     "output_type": "stream",
     "text": [
      "Training Batches: 100%|██████████| 471/471 [00:17<00:00, 26.33it/s]\n",
      "Running inference: 100%|██████████| 353/353 [00:03<00:00, 90.42it/s]\n",
      "Running inference: 100%|██████████| 353/353 [00:03<00:00, 92.76it/s] \n"
     ]
    },
    {
     "name": "stdout",
     "output_type": "stream",
     "text": [
      "Epoch: 016, Average Loss: 0.2549\n",
      "Validation: {'precision': 0.47521466529593387, 'recall': 0.3728629935160509, 'f1': 0.3930815348861917, 'auc': 0.7249549820112576, 'prauc': 0.4349265790471077}\n",
      "Test:       {'precision': 0.4199766270614276, 'recall': 0.3577490728866885, 'f1': 0.37801467465274463, 'auc': 0.7222905427734669, 'prauc': 0.41286399109543576}\n"
     ]
    },
    {
     "name": "stderr",
     "output_type": "stream",
     "text": [
      "Training Batches: 100%|██████████| 471/471 [00:17<00:00, 26.47it/s]\n",
      "Running inference: 100%|██████████| 353/353 [00:03<00:00, 90.34it/s] \n",
      "Running inference: 100%|██████████| 353/353 [00:03<00:00, 92.10it/s] \n"
     ]
    },
    {
     "name": "stdout",
     "output_type": "stream",
     "text": [
      "Epoch: 017, Average Loss: 0.2452\n",
      "Validation: {'precision': 0.4313090824202147, 'recall': 0.3831313931988141, 'f1': 0.394778030977019, 'auc': 0.7261451904231312, 'prauc': 0.4277964912743972}\n",
      "Test:       {'precision': 0.4172769362408584, 'recall': 0.36430381911836807, 'f1': 0.37802561929470285, 'auc': 0.7181800043179608, 'prauc': 0.407460125094813}\n"
     ]
    },
    {
     "name": "stderr",
     "output_type": "stream",
     "text": [
      "Training Batches: 100%|██████████| 471/471 [00:17<00:00, 26.50it/s]\n",
      "Running inference: 100%|██████████| 353/353 [00:03<00:00, 90.92it/s]\n",
      "Running inference: 100%|██████████| 353/353 [00:03<00:00, 91.59it/s]\n"
     ]
    },
    {
     "name": "stdout",
     "output_type": "stream",
     "text": [
      "Epoch: 018, Average Loss: 0.2379\n",
      "Validation: {'precision': 0.4268736157007136, 'recall': 0.39679200747325116, 'f1': 0.3967107849532998, 'auc': 0.7205870363562341, 'prauc': 0.42730461499243855}\n",
      "Test:       {'precision': 0.41092331356191836, 'recall': 0.3871520673460712, 'f1': 0.3858633035360851, 'auc': 0.7153190293606669, 'prauc': 0.41131733203868714}\n",
      "\n",
      "Early stopping triggered after 18 epochs (no improvement for 5 epochs).\n",
      "\n",
      "Best validation performance:\n",
      "{'global': {'precision': 0.5250826672873621, 'recall': 0.3905782491072007, 'f1': 0.403352531731772, 'auc': 0.7292612994300817, 'prauc': 0.44545639987209573}, 'per_class':                                            precision    recall        f1  \\\n",
      "Acute and unspecified renal failure         0.500000  0.403226  0.446429   \n",
      "Acute cerebrovascular disease               1.000000  0.055556  0.105263   \n",
      "Acute myocardial infarction                 0.444444  0.084211  0.141593   \n",
      "Cardiac dysrhythmias                        0.680395  0.753650  0.715152   \n",
      "Chronic kidney disease                      0.720461  0.735294  0.727802   \n",
      "Chronic obstructive pulmonary disease       0.589147  0.404255  0.479495   \n",
      "Conduction disorders                        0.000000  0.000000  0.000000   \n",
      "Congestive heart failure; nonhypertensive   0.699130  0.744444  0.721076   \n",
      "Coronary atherosclerosis and related        0.628809  0.661808  0.644886   \n",
      "Disorders of lipid metabolism               0.608108  0.590551  0.599201   \n",
      "Essential hypertension                      0.623400  0.662136  0.642185   \n",
      "Fluid and electrolyte disorders             0.472851  0.364111  0.411417   \n",
      "Gastrointestinal hemorrhage                 0.545455  0.060000  0.108108   \n",
      "Hypertension with complications             0.692771  0.721003  0.706605   \n",
      "Other liver diseases                        0.000000  0.000000  0.000000   \n",
      "Other lower respiratory disease             0.479624  0.595331  0.531250   \n",
      "Pneumonia                                   0.375000  0.020134  0.038217   \n",
      "Septicemia (except in labor)                0.391892  0.174699  0.241667   \n",
      "\n",
      "                                                auc     prauc  \n",
      "Acute and unspecified renal failure        0.693614  0.529887  \n",
      "Acute cerebrovascular disease              0.670418  0.076970  \n",
      "Acute myocardial infarction                0.732816  0.197953  \n",
      "Cardiac dysrhythmias                       0.829373  0.792678  \n",
      "Chronic kidney disease                     0.902279  0.802148  \n",
      "Chronic obstructive pulmonary disease      0.864370  0.561191  \n",
      "Conduction disorders                       0.643494  0.066091  \n",
      "Congestive heart failure; nonhypertensive  0.840147  0.751884  \n",
      "Coronary atherosclerosis and related       0.853695  0.627888  \n",
      "Disorders of lipid metabolism              0.796171  0.585221  \n",
      "Essential hypertension                     0.776445  0.637150  \n",
      "Fluid and electrolyte disorders            0.555009  0.445743  \n",
      "Gastrointestinal hemorrhage                0.645588  0.170666  \n",
      "Hypertension with complications            0.895632  0.742707  \n",
      "Other liver diseases                       0.589146  0.042820  \n",
      "Other lower respiratory disease            0.654339  0.522305  \n",
      "Pneumonia                                  0.560432  0.135787  \n",
      "Septicemia (except in labor)               0.623734  0.329125  }\n",
      "Corresponding test performance:\n",
      "{'global': {'precision': 0.41319372656879066, 'recall': 0.37230341061382105, 'f1': 0.381235191216211, 'auc': 0.7258164454666293, 'prauc': 0.4168385443784904}, 'per_class':                                            precision    recall        f1  \\\n",
      "Acute and unspecified renal failure         0.519403  0.407494  0.456693   \n",
      "Acute cerebrovascular disease               0.000000  0.000000  0.000000   \n",
      "Acute myocardial infarction                 0.312500  0.051020  0.087719   \n",
      "Cardiac dysrhythmias                        0.657439  0.711610  0.683453   \n",
      "Chronic kidney disease                      0.711765  0.735562  0.723468   \n",
      "Chronic obstructive pulmonary disease       0.534351  0.411765  0.465116   \n",
      "Conduction disorders                        0.000000  0.000000  0.000000   \n",
      "Congestive heart failure; nonhypertensive   0.675393  0.722015  0.697926   \n",
      "Coronary atherosclerosis and related        0.604651  0.647975  0.625564   \n",
      "Disorders of lipid metabolism               0.599407  0.553425  0.575499   \n",
      "Essential hypertension                      0.589319  0.634921  0.611270   \n",
      "Fluid and electrolyte disorders             0.485126  0.379249  0.425703   \n",
      "Gastrointestinal hemorrhage                 0.166667  0.020833  0.037037   \n",
      "Hypertension with complications             0.671924  0.696078  0.683788   \n",
      "Other liver diseases                        0.000000  0.000000  0.000000   \n",
      "Other lower respiratory disease             0.512027  0.523726  0.517811   \n",
      "Pneumonia                                   0.000000  0.000000  0.000000   \n",
      "Septicemia (except in labor)                0.397516  0.205788  0.271186   \n",
      "\n",
      "                                                auc     prauc  \n",
      "Acute and unspecified renal failure        0.714441  0.489131  \n",
      "Acute cerebrovascular disease              0.629690  0.026991  \n",
      "Acute myocardial infarction                0.743164  0.178894  \n",
      "Cardiac dysrhythmias                       0.803285  0.737215  \n",
      "Chronic kidney disease                     0.896069  0.764212  \n",
      "Chronic obstructive pulmonary disease      0.824417  0.419811  \n",
      "Conduction disorders                       0.691048  0.042372  \n",
      "Congestive heart failure; nonhypertensive  0.821770  0.736649  \n",
      "Coronary atherosclerosis and related       0.861896  0.610543  \n",
      "Disorders of lipid metabolism              0.797014  0.553676  \n",
      "Essential hypertension                     0.757019  0.636268  \n",
      "Fluid and electrolyte disorders            0.587573  0.464373  \n",
      "Gastrointestinal hemorrhage                0.535689  0.096388  \n",
      "Hypertension with complications            0.892021  0.687114  \n",
      "Other liver diseases                       0.668014  0.032324  \n",
      "Other lower respiratory disease            0.635665  0.556623  \n",
      "Pneumonia                                  0.575630  0.150014  \n",
      "Septicemia (except in labor)               0.630292  0.320496  }\n",
      "Corresponding test-long performance:\n",
      "{'global': {'precision': 0.40557675006237565, 'recall': 0.3649079253858465, 'f1': 0.38191252659820596, 'auc': 0.7335314739252298, 'prauc': 0.43320049933204996}, 'per_class':                                            precision    recall        f1  \\\n",
      "Acute and unspecified renal failure         0.500000  0.423077  0.458333   \n",
      "Acute cerebrovascular disease               0.000000  0.000000  0.000000   \n",
      "Acute myocardial infarction                 0.000000  0.000000  0.000000   \n",
      "Cardiac dysrhythmias                        0.676056  0.738462  0.705882   \n",
      "Chronic kidney disease                      0.862745  0.814815  0.838095   \n",
      "Chronic obstructive pulmonary disease       0.529412  0.428571  0.473684   \n",
      "Conduction disorders                        0.000000  0.000000  0.000000   \n",
      "Congestive heart failure; nonhypertensive   0.728571  0.708333  0.718310   \n",
      "Coronary atherosclerosis and related        0.723404  0.666667  0.693878   \n",
      "Disorders of lipid metabolism               0.513514  0.463415  0.487179   \n",
      "Essential hypertension                      0.629032  0.639344  0.634146   \n",
      "Fluid and electrolyte disorders             0.510638  0.315789  0.390244   \n",
      "Gastrointestinal hemorrhage                 0.000000  0.000000  0.000000   \n",
      "Hypertension with complications             0.780000  0.750000  0.764706   \n",
      "Other liver diseases                        0.000000  0.000000  0.000000   \n",
      "Other lower respiratory disease             0.569231  0.468354  0.513889   \n",
      "Pneumonia                                   0.000000  0.000000  0.000000   \n",
      "Septicemia (except in labor)                0.277778  0.151515  0.196078   \n",
      "\n",
      "                                                auc     prauc  \n",
      "Acute and unspecified renal failure        0.709816  0.471353  \n",
      "Acute cerebrovascular disease              0.788707  0.039200  \n",
      "Acute myocardial infarction                0.775011  0.220361  \n",
      "Cardiac dysrhythmias                       0.838017  0.818087  \n",
      "Chronic kidney disease                     0.944304  0.852904  \n",
      "Chronic obstructive pulmonary disease      0.815873  0.398912  \n",
      "Conduction disorders                       0.556906  0.029254  \n",
      "Congestive heart failure; nonhypertensive  0.809820  0.716088  \n",
      "Coronary atherosclerosis and related       0.869281  0.676710  \n",
      "Disorders of lipid metabolism              0.751724  0.494239  \n",
      "Essential hypertension                     0.784393  0.686515  \n",
      "Fluid and electrolyte disorders            0.615789  0.469140  \n",
      "Gastrointestinal hemorrhage                0.472655  0.077867  \n",
      "Hypertension with complications            0.929248  0.782748  \n",
      "Other liver diseases                       0.671196  0.015995  \n",
      "Other lower respiratory disease            0.650775  0.553976  \n",
      "Pneumonia                                  0.622706  0.252562  \n",
      "Septicemia (except in labor)               0.597346  0.241699  }\n",
      "[INFO] Random seed set to 1812140441\n",
      "Training with seed: 1812140441\n"
     ]
    },
    {
     "name": "stderr",
     "output_type": "stream",
     "text": [
      "Training Batches: 100%|██████████| 471/471 [00:17<00:00, 26.47it/s]\n",
      "Running inference: 100%|██████████| 353/353 [00:03<00:00, 89.19it/s]\n",
      "Running inference: 100%|██████████| 353/353 [00:03<00:00, 91.77it/s]\n"
     ]
    },
    {
     "name": "stdout",
     "output_type": "stream",
     "text": [
      "Epoch: 001, Average Loss: 0.4244\n",
      "Validation: {'precision': 0.36736892767025225, 'recall': 0.32284666013888413, 'f1': 0.33314905468417666, 'auc': 0.7060657864342816, 'prauc': 0.4082520549408274}\n",
      "Test:       {'precision': 0.3715610157663922, 'recall': 0.3309896264158787, 'f1': 0.34080273287098134, 'auc': 0.7131096485647664, 'prauc': 0.40970444497330355}\n"
     ]
    },
    {
     "name": "stderr",
     "output_type": "stream",
     "text": [
      "Training Batches: 100%|██████████| 471/471 [00:17<00:00, 26.43it/s]\n",
      "Running inference: 100%|██████████| 353/353 [00:03<00:00, 90.66it/s]\n",
      "Running inference: 100%|██████████| 353/353 [00:03<00:00, 94.19it/s] \n"
     ]
    },
    {
     "name": "stdout",
     "output_type": "stream",
     "text": [
      "Epoch: 002, Average Loss: 0.3817\n",
      "Validation: {'precision': 0.42884085634444014, 'recall': 0.32386145638117697, 'f1': 0.33568829697715247, 'auc': 0.7296972822810702, 'prauc': 0.4423410163810193}\n",
      "Test:       {'precision': 0.4192242910522088, 'recall': 0.3169723249644077, 'f1': 0.3324365500585169, 'auc': 0.7362459262605123, 'prauc': 0.4306151482651836}\n"
     ]
    },
    {
     "name": "stderr",
     "output_type": "stream",
     "text": [
      "Training Batches: 100%|██████████| 471/471 [00:17<00:00, 26.55it/s]\n",
      "Running inference: 100%|██████████| 353/353 [00:03<00:00, 91.85it/s]\n",
      "Running inference: 100%|██████████| 353/353 [00:03<00:00, 91.93it/s] \n"
     ]
    },
    {
     "name": "stdout",
     "output_type": "stream",
     "text": [
      "Epoch: 003, Average Loss: 0.3654\n",
      "Validation: {'precision': 0.42015570498666244, 'recall': 0.36656040448770155, 'f1': 0.3798545110457876, 'auc': 0.7351712846765817, 'prauc': 0.43919572138930746}\n",
      "Test:       {'precision': 0.41314122028550027, 'recall': 0.3610652372793124, 'f1': 0.37530280748878453, 'auc': 0.7412766329038276, 'prauc': 0.43526388716063846}\n"
     ]
    },
    {
     "name": "stderr",
     "output_type": "stream",
     "text": [
      "Training Batches: 100%|██████████| 471/471 [00:17<00:00, 26.28it/s]\n",
      "Running inference: 100%|██████████| 353/353 [00:03<00:00, 90.85it/s]\n",
      "Running inference: 100%|██████████| 353/353 [00:03<00:00, 91.67it/s] \n"
     ]
    },
    {
     "name": "stdout",
     "output_type": "stream",
     "text": [
      "Epoch: 004, Average Loss: 0.3529\n",
      "Validation: {'precision': 0.42476557398611586, 'recall': 0.37835920018895214, 'f1': 0.3780575109624017, 'auc': 0.7403869271205685, 'prauc': 0.4501139316266492}\n",
      "Test:       {'precision': 0.4149089288840735, 'recall': 0.3682881121788377, 'f1': 0.36858827892759327, 'auc': 0.7377122139055708, 'prauc': 0.43432085747611365}\n"
     ]
    },
    {
     "name": "stderr",
     "output_type": "stream",
     "text": [
      "Training Batches: 100%|██████████| 471/471 [00:17<00:00, 26.55it/s]\n",
      "Running inference: 100%|██████████| 353/353 [00:03<00:00, 89.19it/s]\n",
      "Running inference: 100%|██████████| 353/353 [00:03<00:00, 92.12it/s]\n"
     ]
    },
    {
     "name": "stdout",
     "output_type": "stream",
     "text": [
      "Epoch: 005, Average Loss: 0.3426\n",
      "Validation: {'precision': 0.4369545585228339, 'recall': 0.3405568612568482, 'f1': 0.365405033281596, 'auc': 0.7419365102507984, 'prauc': 0.44572272823131126}\n",
      "Test:       {'precision': 0.4405155486848656, 'recall': 0.32609276632241674, 'f1': 0.35220571547351265, 'auc': 0.7405297901864151, 'prauc': 0.43568504869982444}\n"
     ]
    },
    {
     "name": "stderr",
     "output_type": "stream",
     "text": [
      "Training Batches: 100%|██████████| 471/471 [00:17<00:00, 26.24it/s]\n",
      "Running inference: 100%|██████████| 353/353 [00:03<00:00, 90.99it/s]\n",
      "Running inference: 100%|██████████| 353/353 [00:03<00:00, 91.49it/s]\n"
     ]
    },
    {
     "name": "stdout",
     "output_type": "stream",
     "text": [
      "Epoch: 006, Average Loss: 0.3339\n",
      "Validation: {'precision': 0.42050557258604937, 'recall': 0.3727537331191286, 'f1': 0.3870336994696238, 'auc': 0.7400860810389449, 'prauc': 0.4460467523988445}\n",
      "Test:       {'precision': 0.40760375755275596, 'recall': 0.3672469960212752, 'f1': 0.3801464707601324, 'auc': 0.7382379375027792, 'prauc': 0.4349927736296474}\n"
     ]
    },
    {
     "name": "stderr",
     "output_type": "stream",
     "text": [
      "Training Batches: 100%|██████████| 471/471 [00:17<00:00, 26.52it/s]\n",
      "Running inference: 100%|██████████| 353/353 [00:03<00:00, 90.59it/s]\n",
      "Running inference: 100%|██████████| 353/353 [00:03<00:00, 93.07it/s]\n"
     ]
    },
    {
     "name": "stdout",
     "output_type": "stream",
     "text": [
      "Epoch: 007, Average Loss: 0.3246\n",
      "Validation: {'precision': 0.4098163642746482, 'recall': 0.37663494723310514, 'f1': 0.38340010604398816, 'auc': 0.7360540525019945, 'prauc': 0.4431572156526404}\n",
      "Test:       {'precision': 0.4627463794187241, 'recall': 0.3681413234671112, 'f1': 0.3795940198533787, 'auc': 0.7327350833832453, 'prauc': 0.42978556099296067}\n"
     ]
    },
    {
     "name": "stderr",
     "output_type": "stream",
     "text": [
      "Training Batches: 100%|██████████| 471/471 [00:17<00:00, 26.35it/s]\n",
      "Running inference: 100%|██████████| 353/353 [00:03<00:00, 91.52it/s]\n",
      "Running inference: 100%|██████████| 353/353 [00:03<00:00, 90.97it/s]\n"
     ]
    },
    {
     "name": "stdout",
     "output_type": "stream",
     "text": [
      "Epoch: 008, Average Loss: 0.3162\n",
      "Validation: {'precision': 0.4303944379682163, 'recall': 0.3529193129594901, 'f1': 0.37855479385835133, 'auc': 0.7383015727518282, 'prauc': 0.4458433794216449}\n",
      "Test:       {'precision': 0.4155284612972552, 'recall': 0.34059398411283187, 'f1': 0.36681704864903636, 'auc': 0.7316761011263578, 'prauc': 0.4330102931161648}\n"
     ]
    },
    {
     "name": "stderr",
     "output_type": "stream",
     "text": [
      "Training Batches: 100%|██████████| 471/471 [00:17<00:00, 26.49it/s]\n",
      "Running inference: 100%|██████████| 353/353 [00:03<00:00, 90.55it/s]\n",
      "Running inference: 100%|██████████| 353/353 [00:03<00:00, 91.83it/s]\n"
     ]
    },
    {
     "name": "stdout",
     "output_type": "stream",
     "text": [
      "Epoch: 009, Average Loss: 0.3066\n",
      "Validation: {'precision': 0.4324806693679415, 'recall': 0.369416779765323, 'f1': 0.39262398866703885, 'auc': 0.7324417365031841, 'prauc': 0.440243729463845}\n",
      "Test:       {'precision': 0.41501410499301666, 'recall': 0.3608356239836471, 'f1': 0.3806471903229994, 'auc': 0.7299000550485684, 'prauc': 0.4275070118299419}\n"
     ]
    },
    {
     "name": "stderr",
     "output_type": "stream",
     "text": [
      "Training Batches: 100%|██████████| 471/471 [00:17<00:00, 26.55it/s]\n",
      "Running inference: 100%|██████████| 353/353 [00:03<00:00, 90.27it/s]\n",
      "Running inference: 100%|██████████| 353/353 [00:03<00:00, 90.99it/s]\n"
     ]
    },
    {
     "name": "stdout",
     "output_type": "stream",
     "text": [
      "Epoch: 010, Average Loss: 0.2996\n",
      "Validation: {'precision': 0.42454306104360495, 'recall': 0.3521608282782052, 'f1': 0.3768241854862086, 'auc': 0.7307590654154787, 'prauc': 0.43947511001898243}\n",
      "Test:       {'precision': 0.4320158010447097, 'recall': 0.339068545137619, 'f1': 0.3634114388382955, 'auc': 0.7250033248110594, 'prauc': 0.4252628817529821}\n"
     ]
    },
    {
     "name": "stderr",
     "output_type": "stream",
     "text": [
      "Training Batches: 100%|██████████| 471/471 [00:17<00:00, 26.17it/s]\n",
      "Running inference: 100%|██████████| 353/353 [00:03<00:00, 90.43it/s]\n",
      "Running inference: 100%|██████████| 353/353 [00:03<00:00, 91.45it/s] \n"
     ]
    },
    {
     "name": "stdout",
     "output_type": "stream",
     "text": [
      "Epoch: 011, Average Loss: 0.2908\n",
      "Validation: {'precision': 0.42878111657376106, 'recall': 0.358886804905691, 'f1': 0.38193014285755394, 'auc': 0.7262500675195371, 'prauc': 0.4337356138772488}\n",
      "Test:       {'precision': 0.40772015570699477, 'recall': 0.3402502154424847, 'f1': 0.36270622771673167, 'auc': 0.7170861574016646, 'prauc': 0.4208952357874015}\n"
     ]
    },
    {
     "name": "stderr",
     "output_type": "stream",
     "text": [
      "Training Batches: 100%|██████████| 471/471 [00:17<00:00, 26.44it/s]\n",
      "Running inference: 100%|██████████| 353/353 [00:03<00:00, 90.80it/s]\n",
      "Running inference: 100%|██████████| 353/353 [00:03<00:00, 89.64it/s]\n"
     ]
    },
    {
     "name": "stdout",
     "output_type": "stream",
     "text": [
      "Epoch: 012, Average Loss: 0.2825\n",
      "Validation: {'precision': 0.44245797795738123, 'recall': 0.35378348991337677, 'f1': 0.3797911917207632, 'auc': 0.7275679761544949, 'prauc': 0.4350748704867973}\n",
      "Test:       {'precision': 0.4215378060551108, 'recall': 0.34652739207098876, 'f1': 0.3723149222117079, 'auc': 0.7259309427053876, 'prauc': 0.42540388626597736}\n"
     ]
    },
    {
     "name": "stderr",
     "output_type": "stream",
     "text": [
      "Training Batches: 100%|██████████| 471/471 [00:17<00:00, 26.26it/s]\n",
      "Running inference: 100%|██████████| 353/353 [00:03<00:00, 89.62it/s] \n",
      "Running inference: 100%|██████████| 353/353 [00:03<00:00, 91.52it/s] \n"
     ]
    },
    {
     "name": "stdout",
     "output_type": "stream",
     "text": [
      "Epoch: 013, Average Loss: 0.2756\n",
      "Validation: {'precision': 0.4235145052025693, 'recall': 0.3774239847151891, 'f1': 0.39286706037665703, 'auc': 0.725527121186674, 'prauc': 0.43310937227592805}\n",
      "Test:       {'precision': 0.48139126938521337, 'recall': 0.3757327559023011, 'f1': 0.3900289123218956, 'auc': 0.7271199428242963, 'prauc': 0.4205833174896274}\n"
     ]
    },
    {
     "name": "stderr",
     "output_type": "stream",
     "text": [
      "Training Batches: 100%|██████████| 471/471 [00:17<00:00, 26.37it/s]\n",
      "Running inference: 100%|██████████| 353/353 [00:03<00:00, 90.93it/s]\n",
      "Running inference: 100%|██████████| 353/353 [00:03<00:00, 90.73it/s]\n"
     ]
    },
    {
     "name": "stdout",
     "output_type": "stream",
     "text": [
      "Epoch: 014, Average Loss: 0.2648\n",
      "Validation: {'precision': 0.41690493341406176, 'recall': 0.3782963608061321, 'f1': 0.3900492336310607, 'auc': 0.7249814459647661, 'prauc': 0.43274812509047234}\n",
      "Test:       {'precision': 0.4317453726374013, 'recall': 0.3734744998303395, 'f1': 0.3878274291883578, 'auc': 0.7219133032909006, 'prauc': 0.4204592510195203}\n"
     ]
    },
    {
     "name": "stderr",
     "output_type": "stream",
     "text": [
      "Training Batches: 100%|██████████| 471/471 [00:18<00:00, 26.11it/s]\n",
      "Running inference: 100%|██████████| 353/353 [00:03<00:00, 90.92it/s]\n",
      "Running inference: 100%|██████████| 353/353 [00:03<00:00, 92.20it/s] \n"
     ]
    },
    {
     "name": "stdout",
     "output_type": "stream",
     "text": [
      "Epoch: 015, Average Loss: 0.2572\n",
      "Validation: {'precision': 0.4276934137892865, 'recall': 0.37636175260176014, 'f1': 0.3910717697888032, 'auc': 0.7202692005641477, 'prauc': 0.42799056570716615}\n",
      "Test:       {'precision': 0.47136872438264493, 'recall': 0.35829939833726554, 'f1': 0.37596191885883706, 'auc': 0.7161772601827742, 'prauc': 0.411775462081485}\n"
     ]
    },
    {
     "name": "stderr",
     "output_type": "stream",
     "text": [
      "Training Batches: 100%|██████████| 471/471 [00:17<00:00, 26.40it/s]\n",
      "Running inference: 100%|██████████| 353/353 [00:03<00:00, 90.93it/s] \n",
      "Running inference: 100%|██████████| 353/353 [00:03<00:00, 92.69it/s]\n"
     ]
    },
    {
     "name": "stdout",
     "output_type": "stream",
     "text": [
      "Epoch: 016, Average Loss: 0.2511\n",
      "Validation: {'precision': 0.43126922958141767, 'recall': 0.38905994196268917, 'f1': 0.400552138007492, 'auc': 0.7224055298892125, 'prauc': 0.42608736164093797}\n",
      "Test:       {'precision': 0.4227625241415429, 'recall': 0.37655061403372725, 'f1': 0.3868473158971108, 'auc': 0.7179907088672358, 'prauc': 0.4138383070883196}\n"
     ]
    },
    {
     "name": "stderr",
     "output_type": "stream",
     "text": [
      "Training Batches: 100%|██████████| 471/471 [00:17<00:00, 26.35it/s]\n",
      "Running inference: 100%|██████████| 353/353 [00:03<00:00, 89.49it/s]\n",
      "Running inference: 100%|██████████| 353/353 [00:03<00:00, 92.11it/s] \n"
     ]
    },
    {
     "name": "stdout",
     "output_type": "stream",
     "text": [
      "Epoch: 017, Average Loss: 0.2436\n",
      "Validation: {'precision': 0.417531839171465, 'recall': 0.37707221806740177, 'f1': 0.38694937076814595, 'auc': 0.7242090478466899, 'prauc': 0.42764759235450545}\n",
      "Test:       {'precision': 0.395601608373336, 'recall': 0.3655970113843599, 'f1': 0.3749534671790248, 'auc': 0.7153527784921914, 'prauc': 0.41247221983013294}\n"
     ]
    },
    {
     "name": "stderr",
     "output_type": "stream",
     "text": [
      "Training Batches: 100%|██████████| 471/471 [00:17<00:00, 26.52it/s]\n",
      "Running inference: 100%|██████████| 353/353 [00:03<00:00, 89.96it/s] \n",
      "Running inference: 100%|██████████| 353/353 [00:03<00:00, 91.35it/s] \n"
     ]
    },
    {
     "name": "stdout",
     "output_type": "stream",
     "text": [
      "Epoch: 018, Average Loss: 0.2369\n",
      "Validation: {'precision': 0.4319207405423039, 'recall': 0.38371220705076603, 'f1': 0.39806938605227754, 'auc': 0.7234823290569592, 'prauc': 0.4272884998974946}\n",
      "Test:       {'precision': 0.42637157364384215, 'recall': 0.36745271632798077, 'f1': 0.383793502251811, 'auc': 0.7124963142445432, 'prauc': 0.4126278926979422}\n"
     ]
    },
    {
     "name": "stderr",
     "output_type": "stream",
     "text": [
      "Training Batches: 100%|██████████| 471/471 [00:17<00:00, 26.23it/s]\n",
      "Running inference: 100%|██████████| 353/353 [00:03<00:00, 89.36it/s]\n",
      "Running inference: 100%|██████████| 353/353 [00:03<00:00, 91.26it/s] \n"
     ]
    },
    {
     "name": "stdout",
     "output_type": "stream",
     "text": [
      "Epoch: 019, Average Loss: 0.2267\n",
      "Validation: {'precision': 0.4172939138284532, 'recall': 0.3796295530518668, 'f1': 0.39200355853591207, 'auc': 0.7187991476399954, 'prauc': 0.41851921725634905}\n",
      "Test:       {'precision': 0.4279558479132308, 'recall': 0.36451334010901504, 'f1': 0.3815200159287998, 'auc': 0.7113073093865019, 'prauc': 0.41237737011078185}\n"
     ]
    },
    {
     "name": "stderr",
     "output_type": "stream",
     "text": [
      "Training Batches: 100%|██████████| 471/471 [00:18<00:00, 25.94it/s]\n",
      "Running inference: 100%|██████████| 353/353 [00:03<00:00, 90.98it/s]\n",
      "Running inference: 100%|██████████| 353/353 [00:03<00:00, 91.74it/s]\n"
     ]
    },
    {
     "name": "stdout",
     "output_type": "stream",
     "text": [
      "Epoch: 020, Average Loss: 0.2190\n",
      "Validation: {'precision': 0.4226624905430321, 'recall': 0.40087154933341573, 'f1': 0.3989751230670336, 'auc': 0.7205375438267285, 'prauc': 0.42011251007667727}\n",
      "Test:       {'precision': 0.4012050159793869, 'recall': 0.38842161836955524, 'f1': 0.38832460778529104, 'auc': 0.7114098037791056, 'prauc': 0.41189691568898074}\n"
     ]
    },
    {
     "name": "stderr",
     "output_type": "stream",
     "text": [
      "Training Batches: 100%|██████████| 471/471 [00:17<00:00, 26.54it/s]\n",
      "Running inference: 100%|██████████| 353/353 [00:03<00:00, 90.30it/s] \n",
      "Running inference: 100%|██████████| 353/353 [00:03<00:00, 92.65it/s]\n"
     ]
    },
    {
     "name": "stdout",
     "output_type": "stream",
     "text": [
      "Epoch: 021, Average Loss: 0.2130\n",
      "Validation: {'precision': 0.43546889259056193, 'recall': 0.3958201387525165, 'f1': 0.3939920802819047, 'auc': 0.7157267571220759, 'prauc': 0.41830971937633454}\n",
      "Test:       {'precision': 0.38726894999276307, 'recall': 0.3826729150039668, 'f1': 0.37772894713747823, 'auc': 0.7067864721223946, 'prauc': 0.4044497744803353}\n",
      "\n",
      "Early stopping triggered after 21 epochs (no improvement for 5 epochs).\n",
      "\n",
      "Best validation performance:\n",
      "{'global': {'precision': 0.43126922958141767, 'recall': 0.38905994196268917, 'f1': 0.400552138007492, 'auc': 0.7224055298892125, 'prauc': 0.42608736164093797}, 'per_class':                                            precision    recall        f1  \\\n",
      "Acute and unspecified renal failure         0.438228  0.433180  0.435689   \n",
      "Acute cerebrovascular disease               0.000000  0.000000  0.000000   \n",
      "Acute myocardial infarction                 0.366667  0.115789  0.176000   \n",
      "Cardiac dysrhythmias                        0.788337  0.666058  0.722057   \n",
      "Chronic kidney disease                      0.653753  0.794118  0.717131   \n",
      "Chronic obstructive pulmonary disease       0.615819  0.579787  0.597260   \n",
      "Conduction disorders                        0.000000  0.000000  0.000000   \n",
      "Congestive heart failure; nonhypertensive   0.714545  0.727778  0.721101   \n",
      "Coronary atherosclerosis and related        0.638968  0.650146  0.644509   \n",
      "Disorders of lipid metabolism               0.610778  0.535433  0.570629   \n",
      "Essential hypertension                      0.643863  0.621359  0.632411   \n",
      "Fluid and electrolyte disorders             0.464896  0.426829  0.445050   \n",
      "Gastrointestinal hemorrhage                 0.000000  0.000000  0.000000   \n",
      "Hypertension with complications             0.680000  0.746082  0.711510   \n",
      "Other liver diseases                        0.111111  0.023810  0.039216   \n",
      "Other lower respiratory disease             0.505721  0.429961  0.464774   \n",
      "Pneumonia                                   0.133333  0.026846  0.044693   \n",
      "Septicemia (except in labor)                0.396825  0.225904  0.287908   \n",
      "\n",
      "                                                auc     prauc  \n",
      "Acute and unspecified renal failure        0.663051  0.424593  \n",
      "Acute cerebrovascular disease              0.694484  0.022566  \n",
      "Acute myocardial infarction                0.694953  0.184289  \n",
      "Cardiac dysrhythmias                       0.829409  0.787872  \n",
      "Chronic kidney disease                     0.902617  0.778286  \n",
      "Chronic obstructive pulmonary disease      0.856749  0.509442  \n",
      "Conduction disorders                       0.569640  0.029568  \n",
      "Congestive heart failure; nonhypertensive  0.838013  0.765727  \n",
      "Coronary atherosclerosis and related       0.842235  0.603141  \n",
      "Disorders of lipid metabolism              0.802594  0.610759  \n",
      "Essential hypertension                     0.785740  0.640297  \n",
      "Fluid and electrolyte disorders            0.569801  0.450700  \n",
      "Gastrointestinal hemorrhage                0.590954  0.105100  \n",
      "Hypertension with complications            0.893003  0.686312  \n",
      "Other liver diseases                       0.648479  0.063010  \n",
      "Other lower respiratory disease            0.643652  0.525742  \n",
      "Pneumonia                                  0.537072  0.117254  \n",
      "Septicemia (except in labor)               0.640854  0.364916  }\n",
      "Corresponding test performance:\n",
      "{'global': {'precision': 0.4227625241415429, 'recall': 0.37655061403372725, 'f1': 0.3868473158971108, 'auc': 0.7179907088672358, 'prauc': 0.4138383070883196}, 'per_class':                                            precision    recall        f1  \\\n",
      "Acute and unspecified renal failure         0.469663  0.489461  0.479358   \n",
      "Acute cerebrovascular disease               0.000000  0.000000  0.000000   \n",
      "Acute myocardial infarction                 0.222222  0.061224  0.096000   \n",
      "Cardiac dysrhythmias                        0.725490  0.623596  0.670695   \n",
      "Chronic kidney disease                      0.649485  0.765957  0.702929   \n",
      "Chronic obstructive pulmonary disease       0.518293  0.500000  0.508982   \n",
      "Conduction disorders                        0.000000  0.000000  0.000000   \n",
      "Congestive heart failure; nonhypertensive   0.690875  0.692164  0.691519   \n",
      "Coronary atherosclerosis and related        0.622642  0.616822  0.619718   \n",
      "Disorders of lipid metabolism               0.621875  0.545205  0.581022   \n",
      "Essential hypertension                      0.604869  0.640873  0.622351   \n",
      "Fluid and electrolyte disorders             0.484733  0.454383  0.469067   \n",
      "Gastrointestinal hemorrhage                 0.166667  0.010417  0.019608   \n",
      "Hypertension with complications             0.647239  0.689542  0.667722   \n",
      "Other liver diseases                        0.083333  0.040000  0.054054   \n",
      "Other lower respiratory disease             0.542787  0.390158  0.453988   \n",
      "Pneumonia                                   0.208333  0.026596  0.047170   \n",
      "Septicemia (except in labor)                0.351220  0.231511  0.279070   \n",
      "\n",
      "                                                auc     prauc  \n",
      "Acute and unspecified renal failure        0.687846  0.454852  \n",
      "Acute cerebrovascular disease              0.608706  0.042032  \n",
      "Acute myocardial infarction                0.738692  0.160883  \n",
      "Cardiac dysrhythmias                       0.792601  0.735255  \n",
      "Chronic kidney disease                     0.890645  0.732810  \n",
      "Chronic obstructive pulmonary disease      0.800000  0.390354  \n",
      "Conduction disorders                       0.629609  0.037762  \n",
      "Congestive heart failure; nonhypertensive  0.817305  0.736214  \n",
      "Coronary atherosclerosis and related       0.859006  0.623943  \n",
      "Disorders of lipid metabolism              0.812005  0.574036  \n",
      "Essential hypertension                     0.763793  0.617019  \n",
      "Fluid and electrolyte disorders            0.590361  0.470148  \n",
      "Gastrointestinal hemorrhage                0.577641  0.094490  \n",
      "Hypertension with complications            0.886787  0.678674  \n",
      "Other liver diseases                       0.644477  0.042774  \n",
      "Other lower respiratory disease            0.629155  0.556059  \n",
      "Pneumonia                                  0.567282  0.167293  \n",
      "Septicemia (except in labor)               0.627922  0.334491  }\n",
      "Corresponding test-long performance:\n",
      "{'global': {'precision': 0.4107678329928605, 'recall': 0.4113176505051319, 'f1': 0.4021875784457458, 'auc': 0.7326376440874343, 'prauc': 0.4323704442349541}, 'per_class':                                            precision    recall        f1  \\\n",
      "Acute and unspecified renal failure         0.482759  0.491228  0.486957   \n",
      "Acute cerebrovascular disease               0.000000  0.000000  0.000000   \n",
      "Acute myocardial infarction                 0.333333  0.083333  0.133333   \n",
      "Cardiac dysrhythmias                        0.807018  0.605263  0.691729   \n",
      "Chronic kidney disease                      0.740741  0.888889  0.808081   \n",
      "Chronic obstructive pulmonary disease       0.500000  0.842105  0.627451   \n",
      "Conduction disorders                        0.000000  0.000000  0.000000   \n",
      "Congestive heart failure; nonhypertensive   0.723684  0.733333  0.728477   \n",
      "Coronary atherosclerosis and related        0.526316  0.555556  0.540541   \n",
      "Disorders of lipid metabolism               0.552632  0.552632  0.552632   \n",
      "Essential hypertension                      0.585714  0.694915  0.635659   \n",
      "Fluid and electrolyte disorders             0.464789  0.434211  0.448980   \n",
      "Gastrointestinal hemorrhage                 0.000000  0.000000  0.000000   \n",
      "Hypertension with complications             0.733333  0.785714  0.758621   \n",
      "Other liver diseases                        0.000000  0.000000  0.000000   \n",
      "Other lower respiratory disease             0.610169  0.461538  0.525547   \n",
      "Pneumonia                                   0.000000  0.000000  0.000000   \n",
      "Septicemia (except in labor)                0.333333  0.275000  0.301370   \n",
      "\n",
      "                                                auc     prauc  \n",
      "Acute and unspecified renal failure        0.671971  0.440710  \n",
      "Acute cerebrovascular disease              0.464865  0.005000  \n",
      "Acute myocardial infarction                0.693966  0.136233  \n",
      "Cardiac dysrhythmias                       0.819139  0.808211  \n",
      "Chronic kidney disease                     0.934752  0.814374  \n",
      "Chronic obstructive pulmonary disease      0.832650  0.370550  \n",
      "Conduction disorders                       0.679630  0.050058  \n",
      "Congestive heart failure; nonhypertensive  0.825345  0.771294  \n",
      "Coronary atherosclerosis and related       0.849444  0.592656  \n",
      "Disorders of lipid metabolism              0.845661  0.536369  \n",
      "Essential hypertension                     0.803550  0.588155  \n",
      "Fluid and electrolyte disorders            0.534450  0.425082  \n",
      "Gastrointestinal hemorrhage                0.642882  0.157678  \n",
      "Hypertension with complications            0.909888  0.776611  \n",
      "Other liver diseases                       0.662088  0.035729  \n",
      "Other lower respiratory disease            0.721747  0.660851  \n",
      "Pneumonia                                  0.670108  0.243457  \n",
      "Septicemia (except in labor)               0.625342  0.369650  }\n"
     ]
    }
   ],
   "source": [
    "final_metrics, final_long_seq_metrics = [], []\n",
    "\n",
    "for seed in seeds:\n",
    "    args[\"seed\"] = seed\n",
    "    set_random_seed(args[\"seed\"])\n",
    "    print(f\"Training with seed: {args['seed']}\")\n",
    "    \n",
    "    # Initialize model, optimizer, and loss function\n",
    "    model = HBERT_Finetune(args, tokenizer)\n",
    "    model.load_weight(torch.load(pretrained_weight_path, weights_only=True))\n",
    "    model = model.to(device)\n",
    "    optimizer = torch.optim.AdamW(model.parameters(), lr=args[\"lr\"])\n",
    "    \n",
    "    best_test_metric, best_test_long_seq_metric = train_with_early_stopping(\n",
    "        model, \n",
    "        train_dataloader, \n",
    "        val_dataloader, \n",
    "        test_dataloader,\n",
    "        optimizer, \n",
    "        loss_fn, \n",
    "        device, \n",
    "        args,\n",
    "        val_long_seq_idx,\n",
    "        test_long_seq_idx,\n",
    "        task_type=task_type)\n",
    "    \n",
    "    final_metrics.append(best_test_metric)\n",
    "    final_long_seq_metrics.append(best_test_long_seq_metric)"
   ]
  },
  {
   "cell_type": "code",
   "execution_count": 19,
   "id": "4a86ec13",
   "metadata": {},
   "outputs": [],
   "source": [
    "def topk_avg_performance_formatted(performances, long_seq_performances, k=5):\n",
    "    metrics = [\"f1\", \"auc\", \"prauc\"]\n",
    "    scores = {m: np.array([p[m] for p in performances]) for m in metrics}\n",
    "\n",
    "    # 计算排名（值越大排名越靠前）\n",
    "    ranks = {m: (-scores[m]).argsort().argsort() + 1 for m in metrics}\n",
    "    avg_ranks = np.mean(np.stack([ranks[m] for m in metrics], axis=1), axis=1)\n",
    "\n",
    "    # 选 top-k\n",
    "    topk_idx = np.argsort(avg_ranks)[:k]\n",
    "    final_avg = {m: np.mean([performances[i][m] for i in topk_idx]) for m in performances[0].keys()}\n",
    "    final_std = {m: np.std([performances[i][m] for i in topk_idx], ddof=0) for m in performances[0].keys()}\n",
    "    final_long_seq_avg = {m: np.mean([long_seq_performances[i][m] for i in topk_idx]) for m in long_seq_performances[0].keys()}\n",
    "    final_long_seq_std = {m: np.std([long_seq_performances[i][m] for i in topk_idx], ddof=0) for m in long_seq_performances[0].keys()}\n",
    "\n",
    "    # 打印结果（转百分比，均保留两位小数）\n",
    "    print(\"Final Metrics:\")\n",
    "    for m in performances[0].keys():\n",
    "        mean_val = final_avg[m] * 100\n",
    "        std_val = final_std[m] * 100\n",
    "        print(f\"{m}: {mean_val:.2f} ± {std_val:.2f}\")\n",
    "    print(\"\\nFinal Long Sequence Metrics:\")\n",
    "    for m in long_seq_performances[0].keys():\n",
    "        mean_val = final_long_seq_avg[m] * 100\n",
    "        std_val = final_long_seq_std[m] * 100\n",
    "        print(f\"{m}: {mean_val:.2f} ± {std_val:.2f}\")"
   ]
  },
  {
   "cell_type": "code",
   "execution_count": 20,
   "id": "7f45284a",
   "metadata": {},
   "outputs": [],
   "source": [
    "def print_per_class_performance(dfs, col_name=\"prauc\"):\n",
    "    \"\"\"\n",
    "    输入一个 DataFrame 列表，对每个疾病在所有表格的指定列计算 mean ± std 并打印。\n",
    "\n",
    "    参数:\n",
    "        dfs (list[pd.DataFrame]): 多个表格组成的列表\n",
    "        col_name (str): 要计算的指标列名 (默认: \"prauc\")\n",
    "    \"\"\"\n",
    "    # 拼接所有表格\n",
    "    all_values = pd.concat(dfs, axis=0)\n",
    "\n",
    "    # 按疾病分组，计算 mean 和 std\n",
    "    grouped = all_values.groupby(all_values.index)[col_name].agg([\"mean\", \"std\"])\n",
    "\n",
    "    # 打印\n",
    "    for disease, row in grouped.iterrows():\n",
    "        mean_val = row[\"mean\"] * 100\n",
    "        std_val = row[\"std\"] * 100\n",
    "        print(f\"{disease}: {mean_val:.2f} ± {std_val:.2f}\")"
   ]
  },
  {
   "cell_type": "code",
   "execution_count": 21,
   "id": "4c4663eb",
   "metadata": {},
   "outputs": [
    {
     "name": "stdout",
     "output_type": "stream",
     "text": [
      "Final Metrics:\n",
      "precision: 41.76 ± 0.59\n",
      "recall: 37.41 ± 1.02\n",
      "f1: 38.23 ± 0.25\n",
      "auc: 72.81 ± 0.62\n",
      "prauc: 42.51 ± 0.84\n",
      "\n",
      "Final Long Sequence Metrics:\n",
      "precision: 40.96 ± 0.86\n",
      "recall: 38.17 ± 2.04\n",
      "f1: 38.52 ± 0.96\n",
      "auc: 74.08 ± 1.41\n",
      "prauc: 43.61 ± 0.57\n",
      "\n",
      "Per-class performance, all patients:\n",
      "Acute and unspecified renal failure: 47.29 ± 1.81\n",
      "Acute cerebrovascular disease: 3.21 ± 0.91\n",
      "Acute myocardial infarction: 16.61 ± 1.41\n",
      "Cardiac dysrhythmias: 74.98 ± 1.47\n",
      "Chronic kidney disease: 76.96 ± 2.74\n",
      "Chronic obstructive pulmonary disease: 43.31 ± 3.21\n",
      "Conduction disorders: 4.24 ± 0.87\n",
      "Congestive heart failure; nonhypertensive: 74.27 ± 1.04\n",
      "Coronary atherosclerosis and related: 61.87 ± 1.33\n",
      "Disorders of lipid metabolism: 57.82 ± 1.83\n",
      "Essential hypertension: 64.75 ± 2.07\n",
      "Fluid and electrolyte disorders: 46.37 ± 0.59\n",
      "Gastrointestinal hemorrhage: 9.02 ± 0.59\n",
      "Hypertension with complications: 72.26 ± 3.77\n",
      "Other liver diseases: 5.71 ± 3.23\n",
      "Other lower respiratory disease: 56.50 ± 1.10\n",
      "Pneumonia: 16.51 ± 1.16\n",
      "Septicemia (except in labor): 33.50 ± 1.19\n",
      "\n",
      "Per-class performance, long seq:\n",
      "Acute and unspecified renal failure: 46.52 ± 2.52\n",
      "Acute cerebrovascular disease: 3.82 ± 2.99\n",
      "Acute myocardial infarction: 16.21 ± 4.25\n",
      "Cardiac dysrhythmias: 77.02 ± 6.09\n",
      "Chronic kidney disease: 81.45 ± 6.62\n",
      "Chronic obstructive pulmonary disease: 40.24 ± 8.77\n",
      "Conduction disorders: 3.32 ± 1.53\n",
      "Congestive heart failure; nonhypertensive: 74.41 ± 4.27\n",
      "Coronary atherosclerosis and related: 61.88 ± 3.66\n",
      "Disorders of lipid metabolism: 62.16 ± 10.29\n",
      "Essential hypertension: 68.06 ± 5.32\n",
      "Fluid and electrolyte disorders: 46.60 ± 3.22\n",
      "Gastrointestinal hemorrhage: 10.37 ± 6.11\n",
      "Hypertension with complications: 78.94 ± 1.88\n",
      "Other liver diseases: 3.55 ± 3.08\n",
      "Other lower respiratory disease: 58.45 ± 4.73\n",
      "Pneumonia: 20.53 ± 4.65\n",
      "Septicemia (except in labor): 31.36 ± 5.10\n"
     ]
    }
   ],
   "source": [
    "if task_type == \"binary\":\n",
    "    topk_avg_performance_formatted(final_metrics, final_long_seq_metrics)\n",
    "else:\n",
    "    final_metrics_global = [metrics[\"global\"] for metrics in final_metrics]\n",
    "    final_metrics_per_class = [metrics[\"per_class\"] for metrics in final_metrics]\n",
    "    final_long_seq_metrics_global = [metrics[\"global\"] for metrics in final_long_seq_metrics]\n",
    "    final_long_seq_metrics_per_class = [metrics[\"per_class\"] for metrics in final_long_seq_metrics]\n",
    "    topk_avg_performance_formatted(final_metrics_global, final_long_seq_metrics_global)\n",
    "    print(\"\\nPer-class performance, all patients:\")\n",
    "    print_per_class_performance(final_metrics_per_class, col_name=\"prauc\")\n",
    "    print(\"\\nPer-class performance, long seq:\")\n",
    "    print_per_class_performance(final_long_seq_metrics_per_class, col_name=\"prauc\")"
   ]
  }
 ],
 "metadata": {
  "kernelspec": {
   "display_name": "heart-cuda",
   "language": "python",
   "name": "heart-cuda"
  },
  "language_info": {
   "codemirror_mode": {
    "name": "ipython",
    "version": 3
   },
   "file_extension": ".py",
   "mimetype": "text/x-python",
   "name": "python",
   "nbconvert_exporter": "python",
   "pygments_lexer": "ipython3",
   "version": "3.10.18"
  }
 },
 "nbformat": 4,
 "nbformat_minor": 5
}
