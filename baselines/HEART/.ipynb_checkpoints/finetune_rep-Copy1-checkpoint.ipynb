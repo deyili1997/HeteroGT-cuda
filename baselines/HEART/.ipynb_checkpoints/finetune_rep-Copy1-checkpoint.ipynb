{
 "cells": [
  {
   "cell_type": "code",
   "execution_count": 1,
   "id": "f9bb1634",
   "metadata": {},
   "outputs": [
    {
     "ename": "ModuleNotFoundError",
     "evalue": "No module named 'typing_extensions'",
     "output_type": "error",
     "traceback": [
      "\u001b[0;31m---------------------------------------------------------------------------\u001b[0m",
      "\u001b[0;31mModuleNotFoundError\u001b[0m                       Traceback (most recent call last)",
      "Cell \u001b[0;32mIn[1], line 1\u001b[0m\n\u001b[0;32m----> 1\u001b[0m \u001b[38;5;28;01mfrom\u001b[39;00m \u001b[38;5;21;01mset_seed_utils\u001b[39;00m \u001b[38;5;28;01mimport\u001b[39;00m set_random_seed\n\u001b[1;32m      2\u001b[0m \u001b[38;5;28;01mimport\u001b[39;00m \u001b[38;5;21;01mos\u001b[39;00m\n\u001b[1;32m      3\u001b[0m \u001b[38;5;28;01mimport\u001b[39;00m \u001b[38;5;21;01mrandom\u001b[39;00m\n",
      "File \u001b[0;32m~/HeteroGT-cuda/baselines/HEART/set_seed_utils.py:4\u001b[0m\n\u001b[1;32m      2\u001b[0m \u001b[38;5;28;01mimport\u001b[39;00m \u001b[38;5;21;01mrandom\u001b[39;00m\n\u001b[1;32m      3\u001b[0m \u001b[38;5;28;01mimport\u001b[39;00m \u001b[38;5;21;01mnumpy\u001b[39;00m \u001b[38;5;28;01mas\u001b[39;00m \u001b[38;5;21;01mnp\u001b[39;00m\n\u001b[0;32m----> 4\u001b[0m \u001b[38;5;28;01mimport\u001b[39;00m \u001b[38;5;21;01mtorch\u001b[39;00m\n\u001b[1;32m      7\u001b[0m \u001b[38;5;28;01mdef\u001b[39;00m \u001b[38;5;21mset_random_seed\u001b[39m(seed: \u001b[38;5;28mint\u001b[39m):\n\u001b[1;32m      8\u001b[0m \u001b[38;5;250m    \u001b[39m\u001b[38;5;124;03m\"\"\"\u001b[39;00m\n\u001b[1;32m      9\u001b[0m \u001b[38;5;124;03m    Set random seed for reproducibility across Python, NumPy, and PyTorch.\u001b[39;00m\n\u001b[1;32m     10\u001b[0m \u001b[38;5;124;03m    This function ensures deterministic behavior for experiments,\u001b[39;00m\n\u001b[0;32m   (...)\u001b[0m\n\u001b[1;32m     16\u001b[0m \u001b[38;5;124;03m        The seed value to use for all relevant random number generators.\u001b[39;00m\n\u001b[1;32m     17\u001b[0m \u001b[38;5;124;03m    \"\"\"\u001b[39;00m\n",
      "File \u001b[0;32m/apps/jupyter/6.5.4/lib/python3.10/site-packages/torch/__init__.py:1454\u001b[0m\n\u001b[1;32m   1452\u001b[0m \u001b[38;5;66;03m# If you edit these imports, please update torch/__init__.py.in as well\u001b[39;00m\n\u001b[1;32m   1453\u001b[0m \u001b[38;5;28;01mfrom\u001b[39;00m \u001b[38;5;21;01m.\u001b[39;00m\u001b[38;5;21;01mrandom\u001b[39;00m \u001b[38;5;28;01mimport\u001b[39;00m set_rng_state, get_rng_state, manual_seed, initial_seed, seed\n\u001b[0;32m-> 1454\u001b[0m \u001b[38;5;28;01mfrom\u001b[39;00m \u001b[38;5;21;01m.\u001b[39;00m\u001b[38;5;21;01mserialization\u001b[39;00m \u001b[38;5;28;01mimport\u001b[39;00m save, load\n\u001b[1;32m   1455\u001b[0m \u001b[38;5;28;01mfrom\u001b[39;00m \u001b[38;5;21;01m.\u001b[39;00m\u001b[38;5;21;01m_tensor_str\u001b[39;00m \u001b[38;5;28;01mimport\u001b[39;00m set_printoptions\n\u001b[1;32m   1457\u001b[0m \u001b[38;5;66;03m################################################################################\u001b[39;00m\n\u001b[1;32m   1458\u001b[0m \u001b[38;5;66;03m# Initialize extension\u001b[39;00m\n\u001b[1;32m   1459\u001b[0m \u001b[38;5;66;03m################################################################################\u001b[39;00m\n",
      "File \u001b[0;32m/apps/jupyter/6.5.4/lib/python3.10/site-packages/torch/serialization.py:18\u001b[0m\n\u001b[1;32m     16\u001b[0m \u001b[38;5;28;01mfrom\u001b[39;00m \u001b[38;5;21;01mtorch\u001b[39;00m\u001b[38;5;21;01m.\u001b[39;00m\u001b[38;5;21;01mstorage\u001b[39;00m \u001b[38;5;28;01mimport\u001b[39;00m _get_dtype_from_pickle_storage_type\n\u001b[1;32m     17\u001b[0m \u001b[38;5;28;01mfrom\u001b[39;00m \u001b[38;5;21;01mtyping\u001b[39;00m \u001b[38;5;28;01mimport\u001b[39;00m Any, BinaryIO, Callable, cast, Dict, Optional, Type, Tuple, Union, IO, List\n\u001b[0;32m---> 18\u001b[0m \u001b[38;5;28;01mfrom\u001b[39;00m \u001b[38;5;21;01mtyping_extensions\u001b[39;00m \u001b[38;5;28;01mimport\u001b[39;00m TypeAlias, TypeGuard  \u001b[38;5;66;03m# Python 3.10+\u001b[39;00m\n\u001b[1;32m     19\u001b[0m \u001b[38;5;28;01mimport\u001b[39;00m \u001b[38;5;21;01mcopyreg\u001b[39;00m\n\u001b[1;32m     20\u001b[0m \u001b[38;5;28;01mimport\u001b[39;00m \u001b[38;5;21;01mpickle\u001b[39;00m\n",
      "\u001b[0;31mModuleNotFoundError\u001b[0m: No module named 'typing_extensions'"
     ]
    }
   ],
   "source": [
    "from set_seed_utils import set_random_seed\n",
    "import os\n",
    "import random\n",
    "import numpy as np\n",
    "import pickle\n",
    "import torch\n",
    "from tqdm import tqdm\n",
    "from torch.utils.data import DataLoader\n",
    "from token_utils_rep import EHRTokenizer\n",
    "from dataset_utils_rep import HBERTFinetuneEHRDataset, batcher, UniqueIDSampler\n",
    "from HEART_rep import HBERT_Finetune\n",
    "import torch.nn.functional as F\n",
    "from sklearn.metrics import roc_auc_score, auc, precision_recall_curve, precision_recall_fscore_support"
   ]
  },
  {
   "cell_type": "code",
   "execution_count": null,
   "id": "79dce127",
   "metadata": {},
   "outputs": [],
   "source": [
    "device = torch.device(\"cuda\" if torch.cuda.is_available() else \"cpu\")\n",
    "print(device)"
   ]
  },
  {
   "cell_type": "code",
   "execution_count": null,
   "id": "a26547b7",
   "metadata": {},
   "outputs": [],
   "source": [
    "@torch.no_grad()\n",
    "def evaluate(model, dataloader, device, task_type=\"binary\"):\n",
    "    model.eval()\n",
    "    predicted_scores, gt_labels = [], []\n",
    "    # gt_labels is ground truth labels, predicted_scores is the output logits\n",
    "    for _, batch in enumerate(tqdm(dataloader, desc=\"Running inference\")):                                                                                                                                                                                                                                                                                                                                                                                                                                                                                                                                                                                                                                                                                                                                                                                                                                                                                                                                                                                                                                                                                                                                                                                                                                                                                                          \n",
    "        batch = [x.to(device) if isinstance(x, torch.Tensor) else x for x in batch]\n",
    "        labels = batch[-1]\n",
    "        output_logits = model(*batch[:-1])\n",
    "        predicted_scores.append(output_logits)\n",
    "        gt_labels.append(labels)\n",
    "    \n",
    "    if task_type == \"binary\":\n",
    "        # standard binary classification evaluation\n",
    "        predicted_scores = torch.cat(predicted_scores, dim=0).view(-1)\n",
    "        gt_labels = torch.cat(gt_labels, dim=0).view(-1).cpu().numpy()\n",
    "        scores = predicted_scores.cpu().numpy()      \n",
    "    #   The threshold should be 0 because:\n",
    "\t# \tYour model outputs logits, not probabilities. logit > 0 ≡ probability > 0.5\n",
    "        predicted_labels = (predicted_scores > 0).float().cpu().numpy()\n",
    "\n",
    "        precision = (predicted_labels * gt_labels).sum() / (predicted_labels.sum() + 1e-8)\n",
    "        recall = (predicted_labels * gt_labels).sum() / (gt_labels.sum() + 1e-8)\n",
    "        f1 = 2 * precision * recall / (precision + recall + 1e-8)\n",
    "        roc_auc = roc_auc_score(gt_labels, scores)\n",
    "        precision_curve, recall_curve, _ = precision_recall_curve(gt_labels, scores)\n",
    "        pr_auc = auc(recall_curve, precision_curve)\n",
    "\n",
    "        return {\"precision\":precision, \"recall\":recall, \"f1\":f1, \"auc\":roc_auc, \"prauc\":pr_auc}\n",
    "    else:\n",
    "        # —— Multi-label classification evaluation (per-class over the batch) —— #\n",
    "        # predicted_scores: list[Tensor] -> [B, C] logits\n",
    "        logits = torch.cat(predicted_scores, dim=0)           # [B, C]\n",
    "        y_true_t = torch.cat(gt_labels, dim=0)                # [B, C]\n",
    "        # 1) 连续分数用于 AUC/PR-AUC：sigmoid(logits)\n",
    "        #    CPU + float16 无 sigmoid 实现，先升到 fp32\n",
    "        logits_for_sigmoid = logits.float() if (logits.device.type == \"cpu\" and logits.dtype == torch.float16) else logits\n",
    "        prob_t = torch.sigmoid(logits_for_sigmoid)            # [B, C] in [0,1]\n",
    "\n",
    "        # 2) 阈值化用于 P/R/F1：logits > 0 等价于 prob >= 0.5\n",
    "        y_pred_t = (logits > 0).to(torch.int32)               # [B, C]\n",
    "\n",
    "        # 转 numpy\n",
    "        y_true = y_true_t.cpu().numpy().astype(np.int32)      # [B, C]\n",
    "        y_pred = y_pred_t.cpu().numpy().astype(np.int32)      # [B, C]\n",
    "        scores = prob_t.cpu().numpy()                         # [B, C] float\n",
    "\n",
    "        # 3) 按类计算 Precision/Recall/F1\n",
    "        p_cls, r_cls, f1_cls, _ = precision_recall_fscore_support(\n",
    "            y_true, y_pred, average=None, zero_division=0\n",
    "        )\n",
    "\n",
    "        # 4) 按类计算 AUC/PR-AUC（遇到单一类别则设为 NaN）\n",
    "        C = y_true.shape[1]\n",
    "        aucs, praucs = [], []\n",
    "        for c in range(C):\n",
    "            yt, ys = y_true[:, c], scores[:, c]\n",
    "            if yt.max() == yt.min():           # 全 0 或全 1，曲线不定义\n",
    "                aucs.append(np.nan)\n",
    "                praucs.append(np.nan)\n",
    "                continue\n",
    "            aucs.append(roc_auc_score(yt, ys))\n",
    "            prec_curve, rec_curve, _ = precision_recall_curve(yt, ys)\n",
    "            praucs.append(auc(rec_curve, prec_curve))\n",
    "\n",
    "        # 5) 取宏平均（忽略 NaN）\n",
    "        ave_precision = float(np.mean(p_cls))\n",
    "        ave_recall    = float(np.mean(r_cls))\n",
    "        ave_f1        = float(np.mean(f1_cls))\n",
    "        ave_auc       = float(np.nanmean(aucs))   if np.any(~np.isnan(aucs))   else np.nan\n",
    "        ave_prauc     = float(np.nanmean(praucs)) if np.any(~np.isnan(praucs)) else np.nan\n",
    "\n",
    "        ave_f1, ave_auc, ave_prauc, ave_recall, ave_precision = np.mean(ave_f1), np.mean(ave_auc), np.mean(ave_prauc), np.mean(ave_recall), np.mean(ave_precision)\n",
    "        return {\"recall\":ave_recall, \"precision\":ave_precision, \"f1\":ave_f1, \"auc\":ave_auc, \"prauc\":ave_prauc}"
   ]
  },
  {
   "cell_type": "code",
   "execution_count": 4,
   "id": "57efbc7f",
   "metadata": {},
   "outputs": [],
   "source": [
    "args = {\n",
    "    \"seed\": 0,\n",
    "    \"dataset\": \"MIMIC-III\", \n",
    "    \"task\": \"next_diag_6m\",  # options: death, stay, readmission, next_diag_6m, next_diag_12m\n",
    "    \"encoder\": \"hi_edge\",  # options: hi_edge, hi_node, hi_edge_node\n",
    "    \"batch_size\": 4,\n",
    "    \"eval_batch_size\": 4,\n",
    "    \"pretrain_mask_rate\": 0.7,\n",
    "    \"pretrain_anomaly_rate\": 0.05,\n",
    "    \"pretrain_anomaly_loss_weight\": 1,\n",
    "    \"pretrain_pos_weight\": 1,\n",
    "    \"lr\": 1e-4,\n",
    "    \"epochs\": 50,\n",
    "    \"num_hidden_layers\": 5,\n",
    "    \"num_attention_heads\": 6,\n",
    "    \"attention_probs_dropout_prob\": 0.2,\n",
    "    \"hidden_dropout_prob\": 0.2,\n",
    "    \"edge_hidden_size\": 32,\n",
    "    \"hidden_size\": 288,  # must be divisible by num_attention_heads\n",
    "    \"intermediate_size\": 288,\n",
    "    \"save_model\": True,\n",
    "    \"gat\": \"dotattn\",\n",
    "    \"gnn_n_heads\": 1,\n",
    "    \"gnn_temp\": 1,\n",
    "    \"diag_med_emb\": \"tree\",  # simple, tree\n",
    "    \"early_stop_patience\": 5,\n",
    "}"
   ]
  },
  {
   "cell_type": "code",
   "execution_count": 5,
   "id": "1141f507",
   "metadata": {},
   "outputs": [
    {
     "name": "stdout",
     "output_type": "stream",
     "text": [
      "Pretrain-HBERT-MIMIC-IV-hi_edge-0.7-0.05-1-288-32-5-6-0.2-0.2-288-dotattn-1-1-tree\n"
     ]
    }
   ],
   "source": [
    "exp_name = \"Pretrain-HBERT\" \\\n",
    "    + \"-\" + str(args[\"dataset\"]) \\\n",
    "    + \"-\" + str(args[\"encoder\"]) \\\n",
    "    + \"-\" + str(args[\"pretrain_mask_rate\"]) \\\n",
    "    + \"-\" + str(args[\"pretrain_anomaly_rate\"]) \\\n",
    "    + \"-\" + str(args[\"pretrain_anomaly_loss_weight\"]) \\\n",
    "    + \"-\" + str(args[\"hidden_size\"]) \\\n",
    "    + \"-\" + str(args[\"edge_hidden_size\"]) \\\n",
    "    + \"-\" + str(args[\"num_hidden_layers\"]) \\\n",
    "    + \"-\" + str(args[\"num_attention_heads\"]) \\\n",
    "    + \"-\" + str(args[\"attention_probs_dropout_prob\"]) \\\n",
    "    + \"-\" + str(args[\"hidden_dropout_prob\"]) \\\n",
    "    + \"-\" + str(args[\"intermediate_size\"]) \\\n",
    "    + \"-\" + str(args[\"gat\"]) \\\n",
    "    + \"-\" + str(args[\"gnn_n_heads\"]) \\\n",
    "    + \"-\" + str(args[\"gnn_temp\"]) \\\n",
    "    + \"-\" + str(args[\"diag_med_emb\"])\n",
    "print(exp_name)"
   ]
  },
  {
   "cell_type": "code",
   "execution_count": 6,
   "id": "9bdd4429",
   "metadata": {},
   "outputs": [],
   "source": [
    "pretrained_weight_path = \"./pretrained_models/\" + exp_name + f\"/pretrained_model.pt\"\n",
    "finetune_exp_name = f\"Finetune-{args['task']}-\" + exp_name\n",
    "save_path = \"./saved_model/\" + finetune_exp_name\n",
    "if args[\"save_model\"] and not os.path.exists(save_path):\n",
    "    os.makedirs(save_path)"
   ]
  },
  {
   "cell_type": "code",
   "execution_count": 7,
   "id": "61606813",
   "metadata": {},
   "outputs": [],
   "source": [
    "args[\"predicted_token_type\"] = [\"diag\", \"med\", \"pro\", \"lab\"]\n",
    "args[\"special_tokens\"] = (\"[PAD]\", \"[CLS]\", \"[SEP]\", \"[MASK0]\", \"[MASK1]\", \"[MASK2]\", \"[MASK3]\")\n",
    "args[\"max_visit_size\"] = 15\n",
    "\n",
    "full_data_path = f\"/home/lideyi/HeteroGT-cuda/data_process/{args['dataset']}-processed/mimic.pkl\"\n",
    "\n",
    "if args[\"task\"] == \"next_diag_6m\":\n",
    "    finetune_data_path = f\"/home/lideyi/HeteroGT-cuda/data_process/{args['dataset']}-processed/mimic_nextdiag_6m.pkl\"\n",
    "elif args[\"task\"] == \"next_diag_12m\":\n",
    "    finetune_data_path = f\"/home/lideyi/HeteroGT-cuda/data_process/{args['dataset']}-processed/mimic_nextdiag_12m.pkl\"\n",
    "else:\n",
    "    finetune_data_path = f\"/home/lideyi/HeteroGT-cuda/data_process/{args['dataset']}-processed/mimic_downstream.pkl\""
   ]
  },
  {
   "cell_type": "code",
   "execution_count": 8,
   "id": "4e814ef3",
   "metadata": {},
   "outputs": [],
   "source": [
    "ehr_data = pickle.load(open(full_data_path, 'rb'))\n",
    "diag_sentences = ehr_data[\"ICD9_CODE\"].values.tolist()\n",
    "med_sentences = ehr_data[\"NDC\"].values.tolist()\n",
    "lab_sentences = ehr_data[\"LAB_TEST\"].values.tolist()\n",
    "pro_sentences = ehr_data[\"PRO_CODE\"].values.tolist()\n",
    "gender_set = [[\"M\"], [\"F\"]]\n",
    "age_gender_set = [[str(c) + \"_\" + gender] for c in set(ehr_data[\"AGE\"].values.tolist()) for gender in [\"M\", \"F\"]]\n",
    "age_set = [[c] for c in set(ehr_data[\"AGE\"].values.tolist())]    "
   ]
  },
  {
   "cell_type": "code",
   "execution_count": 9,
   "id": "24b8a841",
   "metadata": {},
   "outputs": [],
   "source": [
    "tokenizer = EHRTokenizer(diag_sentences, med_sentences, lab_sentences, \n",
    "                         pro_sentences, gender_set, age_set, age_gender_set, special_tokens=args[\"special_tokens\"])\n",
    "tokenizer.build_tree()"
   ]
  },
  {
   "cell_type": "code",
   "execution_count": 10,
   "id": "8e4fbbca",
   "metadata": {},
   "outputs": [],
   "source": [
    "train_data, val_data, test_data = pickle.load(open(finetune_data_path, 'rb'))\n",
    "\n",
    "train_dataset = HBERTFinetuneEHRDataset(\n",
    "    train_data, tokenizer, \n",
    "    token_type=args[\"predicted_token_type\"], \n",
    "    task=args[\"task\"]\n",
    ")\n",
    "\n",
    "val_dataset = HBERTFinetuneEHRDataset(\n",
    "    val_data, tokenizer, \n",
    "    token_type=args[\"predicted_token_type\"], \n",
    "    task=args[\"task\"]\n",
    ")\n",
    "\n",
    "test_dataset = HBERTFinetuneEHRDataset(\n",
    "    test_data, tokenizer, \n",
    "    token_type=args[\"predicted_token_type\"], \n",
    "    task=args[\"task\"]\n",
    ")\n",
    "\n",
    "train_dataloader = DataLoader(\n",
    "    train_dataset, \n",
    "    batch_sampler=UniqueIDSampler(train_dataset.get_ids(), batch_size=args[\"batch_size\"]),\n",
    "    collate_fn=batcher(pad_id=tokenizer.vocab.word2id[\"[PAD]\"], is_train=False), \n",
    ")\n",
    "\n",
    "val_dataloader = DataLoader(\n",
    "    val_dataset, \n",
    "    batch_sampler=UniqueIDSampler(val_dataset.get_ids(), batch_size=args[\"batch_size\"]),\n",
    "    collate_fn=batcher(pad_id=tokenizer.vocab.word2id[\"[PAD]\"], is_train=False), \n",
    ")\n",
    "\n",
    "test_dataloader = DataLoader(\n",
    "    test_dataset, \n",
    "    batch_sampler=UniqueIDSampler(test_dataset.get_ids(), batch_size=args[\"eval_batch_size\"]),\n",
    "    collate_fn=batcher(pad_id=tokenizer.vocab.word2id[\"[PAD]\"], is_train=False),\n",
    ")"
   ]
  },
  {
   "cell_type": "code",
   "execution_count": 11,
   "id": "31b61a20",
   "metadata": {},
   "outputs": [
    {
     "name": "stdout",
     "output_type": "stream",
     "text": [
      "input_ids shape: torch.Size([13, 73])\n",
      "input_types shape: torch.Size([13, 73])\n",
      "visit_positions shape: torch.Size([13])\n",
      "labeled_batch_idx shape: 4\n",
      "labels shape: torch.Size([4, 18])\n"
     ]
    }
   ],
   "source": [
    "# examine a batch\n",
    "batch = next(iter(train_dataloader))  # 取第一个 batch\n",
    "input_ids, input_types, edge_index, visit_positions, labeled_batch_idx, labels = batch\n",
    "\n",
    "# 打印每个张量的形状\n",
    "print(\"input_ids shape:\", input_ids.shape)\n",
    "print(\"input_types shape:\", input_types.shape)\n",
    "print(\"visit_positions shape:\", visit_positions.shape)\n",
    "print(\"labeled_batch_idx shape:\", len(labeled_batch_idx)) # it is a list\n",
    "print(\"labels shape:\", labels.shape)"
   ]
  },
  {
   "cell_type": "code",
   "execution_count": 12,
   "id": "e9bb1712",
   "metadata": {},
   "outputs": [],
   "source": [
    "args[\"vocab_size\"] = len(args[\"special_tokens\"]) + \\\n",
    "                     len(tokenizer.diag_voc.id2word) + \\\n",
    "                     len(tokenizer.pro_voc.id2word) + \\\n",
    "                     len(tokenizer.med_voc.id2word) + \\\n",
    "                     len(tokenizer.lab_voc.id2word) + \\\n",
    "                     len(tokenizer.age_voc.id2word) + \\\n",
    "                     len(tokenizer.gender_voc.id2word) + \\\n",
    "                     len(tokenizer.age_gender_voc.id2word)\n",
    "args[\"label_vocab_size\"] = 18  # only for diagnosis"
   ]
  },
  {
   "cell_type": "code",
   "execution_count": 13,
   "id": "d5df929a",
   "metadata": {},
   "outputs": [],
   "source": [
    "if args[\"task\"] in [\"death\", \"stay\", \"readmission\"]:\n",
    "    eval_metric = \"f1\"\n",
    "    task_type = \"binary\"\n",
    "    loss_fn = F.binary_cross_entropy_with_logits\n",
    "else:\n",
    "    eval_metric = \"prauc\"\n",
    "    task_type = \"l2r\"\n",
    "    loss_fn = lambda x, y: F.binary_cross_entropy_with_logits(x, y)"
   ]
  },
  {
   "cell_type": "code",
   "execution_count": 14,
   "id": "338d945c",
   "metadata": {},
   "outputs": [],
   "source": [
    "def train_with_early_stopping(model, \n",
    "                              train_dataloader, \n",
    "                              val_dataloader, \n",
    "                              test_dataloader,\n",
    "                              optimizer, \n",
    "                              loss_fn, \n",
    "                              device, \n",
    "                              args,\n",
    "                              task_type=\"binary\", \n",
    "                              eval_metric=\"f1\"):\n",
    "    best_score = 0.\n",
    "    best_val_metric = None\n",
    "    best_test_metric = None\n",
    "    epochs_no_improve = 0\n",
    "\n",
    "    for epoch in range(1, 1 + args[\"epochs\"]):\n",
    "        model.train()\n",
    "        ave_loss = 0.\n",
    "\n",
    "        for step, batch in enumerate(tqdm(train_dataloader, desc=\"Training Batches\")):\n",
    "            batch = [x.to(device) if isinstance(x, torch.Tensor) else x for x in batch]\n",
    "\n",
    "            labels = batch[-1].float()\n",
    "            output_logits = model(*batch[:-1])\n",
    "            \n",
    "            loss = loss_fn(output_logits.view(-1), labels.view(-1))\n",
    "            loss.backward()\n",
    "            optimizer.step()\n",
    "            optimizer.zero_grad()\n",
    "\n",
    "            ave_loss += loss.item()\n",
    "            \n",
    "\n",
    "        ave_loss /= (step + 1)\n",
    "\n",
    "        # Evaluation\n",
    "        val_metric = evaluate(model, val_dataloader, device, task_type=task_type)\n",
    "        test_metric = evaluate(model, test_dataloader, device, task_type=task_type)\n",
    "\n",
    "        # Logging\n",
    "        print(f\"Epoch: {epoch:03d}, Average Loss: {ave_loss:.4f}\")\n",
    "        print(f\"Validation: {val_metric}\")\n",
    "        print(f\"Test:       {test_metric}\")\n",
    "\n",
    "        # Check for improvement\n",
    "        current_score = val_metric[eval_metric]\n",
    "        if current_score > best_score:\n",
    "            best_score = current_score\n",
    "            best_val_metric = val_metric\n",
    "            best_test_metric = test_metric\n",
    "            epochs_no_improve = 0\n",
    "        else:\n",
    "            epochs_no_improve += 1\n",
    "\n",
    "        # Early stopping check\n",
    "        if epochs_no_improve >= args[\"early_stop_patience\"]:\n",
    "            print(f\"\\nEarly stopping triggered after {epoch} epochs (no improvement for {args['early_stop_patience']} epochs).\")\n",
    "            break\n",
    "\n",
    "    print(\"\\nBest validation performance:\")\n",
    "    print(best_val_metric)\n",
    "    print(\"Corresponding test performance:\")\n",
    "    print(best_test_metric)\n",
    "    return best_test_metric"
   ]
  },
  {
   "cell_type": "code",
   "execution_count": 15,
   "id": "9a7f4395",
   "metadata": {},
   "outputs": [
    {
     "name": "stdout",
     "output_type": "stream",
     "text": [
      "[2746317213, 1181241943, 958682846, 3163119785, 1812140441]\n"
     ]
    }
   ],
   "source": [
    "random.seed(42)\n",
    "seeds = [random.randint(0, 2**32 - 1) for _ in range(5)]\n",
    "print(seeds)"
   ]
  },
  {
   "cell_type": "code",
   "execution_count": null,
   "id": "c9068358",
   "metadata": {},
   "outputs": [
    {
     "name": "stdout",
     "output_type": "stream",
     "text": [
      "[INFO] Random seed set to 2746317213\n",
      "Training with seed: 2746317213\n"
     ]
    },
    {
     "name": "stderr",
     "output_type": "stream",
     "text": [
      "Training Batches: 100%|██████████| 1713/1713 [00:55<00:00, 30.95it/s]\n",
      "Running inference: 100%|██████████| 1262/1262 [00:11<00:00, 114.67it/s]\n",
      "Running inference: 100%|██████████| 1266/1266 [00:11<00:00, 111.56it/s]\n"
     ]
    },
    {
     "name": "stdout",
     "output_type": "stream",
     "text": [
      "Epoch: 001, Average Loss: 0.3197\n",
      "Validation: {'recall': 0.3007773923330686, 'precision': 0.3647787645354272, 'f1': 0.31544565347330966, 'auc': 0.7379152556979457, 'prauc': 0.39525755178521377}\n",
      "Test:       {'recall': 0.30522303924297467, 'precision': 0.3602773560554896, 'f1': 0.31732646321009594, 'auc': 0.7384882780284925, 'prauc': 0.39626206574251693}\n"
     ]
    },
    {
     "name": "stderr",
     "output_type": "stream",
     "text": [
      "Training Batches: 100%|██████████| 1713/1713 [00:54<00:00, 31.22it/s]\n",
      "Running inference: 100%|██████████| 1262/1262 [00:10<00:00, 118.17it/s]\n",
      "Running inference: 100%|██████████| 1266/1266 [00:11<00:00, 112.24it/s]\n"
     ]
    },
    {
     "name": "stdout",
     "output_type": "stream",
     "text": [
      "Epoch: 002, Average Loss: 0.2909\n",
      "Validation: {'recall': 0.34462728008663607, 'precision': 0.42177981710830026, 'f1': 0.3640686838751352, 'auc': 0.7642106694954057, 'prauc': 0.42730383828134477}\n",
      "Test:       {'recall': 0.3456495380746115, 'precision': 0.41852354687854687, 'f1': 0.36178888532328696, 'auc': 0.7620042701046204, 'prauc': 0.4261701762971364}\n"
     ]
    },
    {
     "name": "stderr",
     "output_type": "stream",
     "text": [
      "Training Batches: 100%|██████████| 1713/1713 [00:54<00:00, 31.19it/s]\n",
      "Running inference: 100%|██████████| 1262/1262 [00:11<00:00, 113.74it/s]\n",
      "Running inference: 100%|██████████| 1266/1266 [00:11<00:00, 110.46it/s]\n"
     ]
    },
    {
     "name": "stdout",
     "output_type": "stream",
     "text": [
      "Epoch: 003, Average Loss: 0.2815\n",
      "Validation: {'recall': 0.3558329504502366, 'precision': 0.43454657183462114, 'f1': 0.3769541027718112, 'auc': 0.7647197259836899, 'prauc': 0.42844325800134797}\n",
      "Test:       {'recall': 0.3574212052604057, 'precision': 0.4317759474113656, 'f1': 0.3763816507957056, 'auc': 0.7657669417546761, 'prauc': 0.43146566065169045}\n"
     ]
    },
    {
     "name": "stderr",
     "output_type": "stream",
     "text": [
      "Training Batches: 100%|██████████| 1713/1713 [00:55<00:00, 31.02it/s]\n",
      "Running inference: 100%|██████████| 1262/1262 [00:10<00:00, 115.34it/s]\n",
      "Running inference: 100%|██████████| 1266/1266 [00:11<00:00, 110.34it/s]\n"
     ]
    },
    {
     "name": "stdout",
     "output_type": "stream",
     "text": [
      "Epoch: 004, Average Loss: 0.2750\n",
      "Validation: {'recall': 0.35205846633456384, 'precision': 0.426714887118372, 'f1': 0.37646728338881424, 'auc': 0.7760638242644452, 'prauc': 0.4388323267688841}\n",
      "Test:       {'recall': 0.3555217877085291, 'precision': 0.42857926348916614, 'f1': 0.3772825971604029, 'auc': 0.7742477496121296, 'prauc': 0.43794055194227727}\n"
     ]
    },
    {
     "name": "stderr",
     "output_type": "stream",
     "text": [
      "Training Batches: 100%|██████████| 1713/1713 [00:55<00:00, 30.84it/s]\n",
      "Running inference: 100%|██████████| 1262/1262 [00:10<00:00, 115.42it/s]\n",
      "Running inference: 100%|██████████| 1266/1266 [00:11<00:00, 111.52it/s]\n"
     ]
    },
    {
     "name": "stdout",
     "output_type": "stream",
     "text": [
      "Epoch: 005, Average Loss: 0.2702\n",
      "Validation: {'recall': 0.36041870019201994, 'precision': 0.43167200791479554, 'f1': 0.3802747570594262, 'auc': 0.7679324183564604, 'prauc': 0.43825098796504436}\n",
      "Test:       {'recall': 0.3562345159209734, 'precision': 0.42559682484177014, 'f1': 0.37440983524979754, 'auc': 0.7720378632118867, 'prauc': 0.4356890849898309}\n"
     ]
    },
    {
     "name": "stderr",
     "output_type": "stream",
     "text": [
      "Training Batches: 100%|██████████| 1713/1713 [00:55<00:00, 31.04it/s]\n",
      "Running inference: 100%|██████████| 1262/1262 [00:10<00:00, 116.15it/s]\n",
      "Running inference: 100%|██████████| 1266/1266 [00:11<00:00, 111.44it/s]\n"
     ]
    },
    {
     "name": "stdout",
     "output_type": "stream",
     "text": [
      "Epoch: 006, Average Loss: 0.2635\n",
      "Validation: {'recall': 0.35781693056505026, 'precision': 0.43150604685184696, 'f1': 0.3810295591315545, 'auc': 0.7653517136286047, 'prauc': 0.4327044978536449}\n",
      "Test:       {'recall': 0.361496659025029, 'precision': 0.4315416516169055, 'f1': 0.38238085516873777, 'auc': 0.7704510990885173, 'prauc': 0.4381393685292376}\n"
     ]
    },
    {
     "name": "stderr",
     "output_type": "stream",
     "text": [
      "Training Batches: 100%|██████████| 1713/1713 [00:54<00:00, 31.15it/s]\n",
      "Running inference: 100%|██████████| 1262/1262 [00:11<00:00, 114.69it/s]\n",
      "Running inference: 100%|██████████| 1266/1266 [00:11<00:00, 110.84it/s]\n"
     ]
    },
    {
     "name": "stdout",
     "output_type": "stream",
     "text": [
      "Epoch: 007, Average Loss: 0.2588\n",
      "Validation: {'recall': 0.35271138335247054, 'precision': 0.42019761362582364, 'f1': 0.3767298563274455, 'auc': 0.7671503288858815, 'prauc': 0.4327465074553387}\n",
      "Test:       {'recall': 0.35348601095054516, 'precision': 0.41668360311590835, 'f1': 0.37440129232861313, 'auc': 0.7682753853961732, 'prauc': 0.4302674802184633}\n"
     ]
    },
    {
     "name": "stderr",
     "output_type": "stream",
     "text": [
      "Training Batches: 100%|██████████| 1713/1713 [00:55<00:00, 30.91it/s]\n",
      "Running inference: 100%|██████████| 1262/1262 [00:11<00:00, 114.48it/s]\n",
      "Running inference: 100%|██████████| 1266/1266 [00:11<00:00, 112.78it/s]\n"
     ]
    },
    {
     "name": "stdout",
     "output_type": "stream",
     "text": [
      "Epoch: 008, Average Loss: 0.2533\n",
      "Validation: {'recall': 0.35805268184817346, 'precision': 0.43135345637115013, 'f1': 0.385709356906013, 'auc': 0.7699442689857897, 'prauc': 0.439661821177309}\n",
      "Test:       {'recall': 0.35847844716614446, 'precision': 0.45787639873732516, 'f1': 0.3836960949581462, 'auc': 0.7727912168690695, 'prauc': 0.43846818297941736}\n"
     ]
    },
    {
     "name": "stderr",
     "output_type": "stream",
     "text": [
      "Training Batches: 100%|██████████| 1713/1713 [00:55<00:00, 30.97it/s]\n",
      "Running inference: 100%|██████████| 1262/1262 [00:10<00:00, 115.90it/s]\n",
      "Running inference: 100%|██████████| 1266/1266 [00:11<00:00, 111.91it/s]\n"
     ]
    },
    {
     "name": "stdout",
     "output_type": "stream",
     "text": [
      "Epoch: 009, Average Loss: 0.2481\n",
      "Validation: {'recall': 0.38699107437366975, 'precision': 0.40816316738166614, 'f1': 0.3913316115379248, 'auc': 0.7681913714568831, 'prauc': 0.43365787321627497}\n",
      "Test:       {'recall': 0.3882809267732091, 'precision': 0.4685259184119012, 'f1': 0.39247000519484604, 'auc': 0.7725057718138274, 'prauc': 0.4333600073937445}\n"
     ]
    },
    {
     "name": "stderr",
     "output_type": "stream",
     "text": [
      "Training Batches: 100%|██████████| 1713/1713 [00:55<00:00, 30.86it/s]\n",
      "Running inference: 100%|██████████| 1262/1262 [00:10<00:00, 115.78it/s]\n",
      "Running inference: 100%|██████████| 1266/1266 [00:11<00:00, 111.55it/s]\n"
     ]
    },
    {
     "name": "stdout",
     "output_type": "stream",
     "text": [
      "Epoch: 010, Average Loss: 0.2423\n",
      "Validation: {'recall': 0.38109675661980513, 'precision': 0.4790821379827234, 'f1': 0.39446188063947557, 'auc': 0.7657170625623232, 'prauc': 0.4343072929419598}\n",
      "Test:       {'recall': 0.3835344790605882, 'precision': 0.48146741575583857, 'f1': 0.3930246352338243, 'auc': 0.7654567320226501, 'prauc': 0.4326165998060909}\n"
     ]
    },
    {
     "name": "stderr",
     "output_type": "stream",
     "text": [
      "Training Batches: 100%|██████████| 1713/1713 [00:54<00:00, 31.29it/s]\n",
      "Running inference: 100%|██████████| 1262/1262 [00:11<00:00, 112.75it/s]\n",
      "Running inference: 100%|██████████| 1266/1266 [00:11<00:00, 111.74it/s]\n"
     ]
    },
    {
     "name": "stdout",
     "output_type": "stream",
     "text": [
      "Epoch: 011, Average Loss: 0.2383\n",
      "Validation: {'recall': 0.35912179539858424, 'precision': 0.4612548052993682, 'f1': 0.3809270807490437, 'auc': 0.7651646314656546, 'prauc': 0.43329227497228456}\n",
      "Test:       {'recall': 0.36001610787494376, 'precision': 0.4738797946967091, 'f1': 0.3784891328011383, 'auc': 0.7653308650373867, 'prauc': 0.4317126943620484}\n"
     ]
    },
    {
     "name": "stderr",
     "output_type": "stream",
     "text": [
      "Training Batches: 100%|██████████| 1713/1713 [00:55<00:00, 30.85it/s]\n",
      "Running inference: 100%|██████████| 1262/1262 [00:10<00:00, 115.46it/s]\n",
      "Running inference: 100%|██████████| 1266/1266 [00:11<00:00, 111.76it/s]\n"
     ]
    },
    {
     "name": "stdout",
     "output_type": "stream",
     "text": [
      "Epoch: 012, Average Loss: 0.2325\n",
      "Validation: {'recall': 0.37515792557443, 'precision': 0.5442195441965838, 'f1': 0.3953206498139783, 'auc': 0.7702987274128172, 'prauc': 0.43503351640208243}\n",
      "Test:       {'recall': 0.3731121880115903, 'precision': 0.47901539618953554, 'f1': 0.3893433894590357, 'auc': 0.7673773658225783, 'prauc': 0.431668716969454}\n"
     ]
    },
    {
     "name": "stderr",
     "output_type": "stream",
     "text": [
      "Training Batches: 100%|██████████| 1713/1713 [00:54<00:00, 31.23it/s]\n",
      "Running inference: 100%|██████████| 1262/1262 [00:10<00:00, 116.50it/s]\n",
      "Running inference: 100%|██████████| 1266/1266 [00:11<00:00, 111.44it/s]\n"
     ]
    },
    {
     "name": "stdout",
     "output_type": "stream",
     "text": [
      "Epoch: 013, Average Loss: 0.2267\n",
      "Validation: {'recall': 0.3686892741168608, 'precision': 0.46958043760074347, 'f1': 0.39034121281230993, 'auc': 0.7667904508434823, 'prauc': 0.4307884639652753}\n",
      "Test:       {'recall': 0.3692808442925225, 'precision': 0.4660526714797797, 'f1': 0.38839417240864205, 'auc': 0.7662438603683294, 'prauc': 0.4291117166106179}\n"
     ]
    },
    {
     "name": "stderr",
     "output_type": "stream",
     "text": [
      "Training Batches:  21%|██        | 359/1713 [00:11<00:38, 35.02it/s]"
     ]
    }
   ],
   "source": [
    "final_metrics = {\"recall\":[], \"precision\":[],\"f1\":[],\"auc\":[],\"prauc\":[]}\n",
    "\n",
    "for seed in seeds:\n",
    "    args[\"seed\"] = seed\n",
    "    set_random_seed(args[\"seed\"])\n",
    "    print(f\"Training with seed: {args['seed']}\")\n",
    "    \n",
    "    # Initialize model, optimizer, and loss function\n",
    "    model = HBERT_Finetune(args, tokenizer)\n",
    "    model.load_weight(torch.load(pretrained_weight_path, weights_only=True))\n",
    "    model = model.to(device)\n",
    "    optimizer = torch.optim.AdamW(model.parameters(), lr=args[\"lr\"])\n",
    "    \n",
    "    best_test_metric = train_with_early_stopping(\n",
    "        model, \n",
    "        train_dataloader, \n",
    "        val_dataloader, \n",
    "        test_dataloader,\n",
    "        optimizer, \n",
    "        loss_fn, \n",
    "        device, \n",
    "        args,\n",
    "        task_type=task_type)\n",
    "    \n",
    "    for key in final_metrics.keys():\n",
    "        final_metrics[key].append(best_test_metric[key])"
   ]
  },
  {
   "cell_type": "code",
   "execution_count": null,
   "id": "ce8f55db",
   "metadata": {},
   "outputs": [],
   "source": [
    "# print the mean and std of the final metrics\n",
    "print(\"\\nFinal Metrics:\")\n",
    "for key in final_metrics.keys():\n",
    "    mean_value = np.mean(final_metrics[key])\n",
    "    std_value = np.std(final_metrics[key])\n",
    "    print(f\"{key}: {mean_value:.4f} ± {std_value:.4f}\")"
   ]
  },
  {
   "cell_type": "code",
   "execution_count": null,
   "id": "f4184e90",
   "metadata": {
    "tags": []
   },
   "outputs": [],
   "source": [
    "# Assuming final_metrics and args are defined\n",
    "# Create the results directory if it doesn't exist\n",
    "os.makedirs(f\"./results/{args['dataset']}\", exist_ok=True)\n",
    "\n",
    "# Define the file name\n",
    "file_name = f\"{args['dataset']}-{args['task']}.txt\"\n",
    "file_path = os.path.join(f\"./results/{args['dataset']}\", file_name)\n",
    "\n",
    "# Save the metrics to a text file\n",
    "with open(file_path, 'w') as f:\n",
    "    f.write(\"Final Metrics:\\n\")\n",
    "    for key in final_metrics.keys():\n",
    "        mean_value = np.mean(final_metrics[key])\n",
    "        std_value = np.std(final_metrics[key])\n",
    "        f.write(f\"{key}: {mean_value:.4f} ± {std_value:.4f}\\n\")"
   ]
  }
 ],
 "metadata": {
  "kernelspec": {
   "display_name": "Python 3 (ipykernel)",
   "language": "python",
   "name": "python3"
  },
  "language_info": {
   "codemirror_mode": {
    "name": "ipython",
    "version": 3
   },
   "file_extension": ".py",
   "mimetype": "text/x-python",
   "name": "python",
   "nbconvert_exporter": "python",
   "pygments_lexer": "ipython3",
   "version": "3.10.12"
  }
 },
 "nbformat": 4,
 "nbformat_minor": 5
}
