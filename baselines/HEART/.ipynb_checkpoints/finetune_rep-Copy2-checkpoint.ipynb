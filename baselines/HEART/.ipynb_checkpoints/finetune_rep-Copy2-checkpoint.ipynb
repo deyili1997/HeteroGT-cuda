{
 "cells": [
  {
   "cell_type": "code",
   "execution_count": 1,
   "id": "f9bb1634",
   "metadata": {},
   "outputs": [
    {
     "name": "stderr",
     "output_type": "stream",
     "text": [
      "Disabling PyTorch because PyTorch >= 2.1 is required but found 1.13.1\n",
      "None of PyTorch, TensorFlow >= 2.0, or Flax have been found. Models won't be available and only tokenizers, configuration and file/data utilities can be used.\n"
     ]
    }
   ],
   "source": [
    "from set_seed_utils import set_random_seed\n",
    "import os\n",
    "import random\n",
    "import numpy as np\n",
    "import pickle\n",
    "import torch\n",
    "from tqdm import tqdm\n",
    "from torch.utils.data import DataLoader\n",
    "from token_utils_rep import EHRTokenizer\n",
    "from dataset_utils_rep import HBERTFinetuneEHRDataset, batcher, UniqueIDSampler\n",
    "from HEART_rep import HBERT_Finetune\n",
    "import torch.nn.functional as F\n",
    "from sklearn.metrics import roc_auc_score, auc, precision_recall_curve, precision_recall_fscore_support\n",
    "import pandas as pd"
   ]
  },
  {
   "cell_type": "code",
   "execution_count": 2,
   "id": "79dce127",
   "metadata": {},
   "outputs": [
    {
     "name": "stdout",
     "output_type": "stream",
     "text": [
      "cuda\n"
     ]
    }
   ],
   "source": [
    "device = torch.device(\"cuda\" if torch.cuda.is_available() else \"cpu\")\n",
    "print(device)"
   ]
  },
  {
   "cell_type": "code",
   "execution_count": 3,
   "id": "8cc9c573",
   "metadata": {},
   "outputs": [],
   "source": [
    "PHENO_ORDER = [\n",
    "    \"Acute and unspecified renal failure\",\n",
    "    \"Acute cerebrovascular disease\",\n",
    "    \"Acute myocardial infarction\",\n",
    "    \"Cardiac dysrhythmias\",\n",
    "    \"Chronic kidney disease\",\n",
    "    \"Chronic obstructive pulmonary disease\",\n",
    "    \"Conduction disorders\",\n",
    "    \"Congestive heart failure; nonhypertensive\",\n",
    "    \"Coronary atherosclerosis and related\",\n",
    "    \"Disorders of lipid metabolism\",\n",
    "    \"Essential hypertension\",\n",
    "    \"Fluid and electrolyte disorders\",\n",
    "    \"Gastrointestinal hemorrhage\",\n",
    "    \"Hypertension with complications\",\n",
    "    \"Other liver diseases\",\n",
    "    \"Other lower respiratory disease\",\n",
    "    \"Pneumonia\",\n",
    "    \"Septicemia (except in labor)\",\n",
    "]"
   ]
  },
  {
   "cell_type": "code",
   "execution_count": 4,
   "id": "bc1b4c1c",
   "metadata": {},
   "outputs": [],
   "source": [
    "@torch.no_grad()\n",
    "def evaluate(model, dataloader, device, long_seq_idx=None, task_type=\"binary\"):\n",
    "    model.eval()\n",
    "    predicted_scores, gt_labels = [], []\n",
    "\n",
    "    # 推理：收集 logits 与 labels\n",
    "    for _, batch in enumerate(tqdm(dataloader, desc=\"Running inference\")):\n",
    "        batch = [x.to(device) if isinstance(x, torch.Tensor) else x for x in batch]\n",
    "        labels = batch[-1]\n",
    "        output_logits = model(*batch[:-1])\n",
    "        predicted_scores.append(output_logits)\n",
    "        gt_labels.append(labels)\n",
    "\n",
    "    if task_type == \"binary\":\n",
    "        # —— 标准二分类评估 —— #\n",
    "        logits_all = torch.cat(predicted_scores, dim=0).view(-1)          # logits [N]\n",
    "        labels_all = torch.cat(gt_labels, dim=0).view(-1).cpu().numpy()    # y_true [N]\n",
    "        scores_all = logits_all.cpu().numpy()                              # 连续分数（logits）\n",
    "        ypred_all  = (logits_all > 0).float().cpu().numpy()                # logits > 0\n",
    "\n",
    "        tp = (ypred_all * labels_all).sum()\n",
    "        precision = tp / (ypred_all.sum() + 1e-8)\n",
    "        recall    = tp / (labels_all.sum() + 1e-8)\n",
    "        f1        = 2 * precision * recall / (precision + recall + 1e-8)\n",
    "        roc_auc   = roc_auc_score(labels_all, scores_all)\n",
    "        prec_curve, rec_curve, _ = precision_recall_curve(labels_all, scores_all)\n",
    "        pr_auc    = auc(rec_curve, prec_curve)\n",
    "\n",
    "        all_performance = {\"precision\": float(precision),\n",
    "                           \"recall\": float(recall),\n",
    "                           \"f1\": float(f1),\n",
    "                           \"auc\": float(roc_auc),\n",
    "                           \"prauc\": float(pr_auc)}\n",
    "\n",
    "        subset_performance = None\n",
    "        if long_seq_idx is not None:\n",
    "            idx = torch.as_tensor(long_seq_idx, device=logits_all.device, dtype=torch.long)\n",
    "            logits_sub = logits_all.index_select(0, idx).view(-1)\n",
    "            labels_sub = torch.as_tensor(labels_all, device=logits_all.device)[idx].cpu().numpy()\n",
    "            scores_sub = logits_sub.cpu().numpy()\n",
    "            ypred_sub  = (logits_sub > 0).float().cpu().numpy()\n",
    "\n",
    "            tp = (ypred_sub * labels_sub).sum()\n",
    "            precision = tp / (ypred_sub.sum() + 1e-8)\n",
    "            recall    = tp / (labels_sub.sum() + 1e-8)\n",
    "            f1        = 2 * precision * recall / (precision + recall + 1e-8)\n",
    "            roc_auc   = roc_auc_score(labels_sub, scores_sub)\n",
    "            prec_curve, rec_curve, _ = precision_recall_curve(labels_sub, scores_sub)\n",
    "            pr_auc    = auc(rec_curve, prec_curve)\n",
    "\n",
    "            subset_performance = {\"precision\": float(precision),\n",
    "                                  \"recall\": float(recall),\n",
    "                                  \"f1\": float(f1),\n",
    "                                  \"auc\": float(roc_auc),\n",
    "                                  \"prauc\": float(pr_auc)}\n",
    "\n",
    "        return all_performance, subset_performance\n",
    "\n",
    "    else:\n",
    "        # —— Multi-label evaluation（按类聚合） —— #\n",
    "        logits_all = torch.cat(predicted_scores, dim=0)    # [B, C]\n",
    "        labels_all_t = torch.cat(gt_labels, dim=0)         # [B, C]\n",
    "\n",
    "        def _compute_metrics(logits_sub, labels_sub):\n",
    "            # 连续分数（概率）：sigmoid(logits)，CPU + fp16 先升为 fp32\n",
    "            if logits_sub.device.type == \"cpu\" and logits_sub.dtype == torch.float16:\n",
    "                prob_t = torch.sigmoid(logits_sub.float())\n",
    "            else:\n",
    "                prob_t = torch.sigmoid(logits_sub)\n",
    "            # 二值化：logits > 0\n",
    "            ypred_t = (logits_sub > 0).to(torch.int32)\n",
    "\n",
    "            y_true = labels_sub.cpu().numpy().astype(np.int32)       # [N, C]\n",
    "            y_pred = ypred_t.cpu().numpy().astype(np.int32)          # [N, C]\n",
    "            scores = prob_t.cpu().numpy()                             # [N, C]\n",
    "\n",
    "            # per-class P/R/F1\n",
    "            p_cls, r_cls, f1_cls, _ = precision_recall_fscore_support(\n",
    "                y_true, y_pred, average=None, zero_division=0\n",
    "            )\n",
    "\n",
    "            # per-class AUC / PR-AUC\n",
    "            C = y_true.shape[1]\n",
    "            aucs, praucs = [], []\n",
    "            for c in range(C):\n",
    "                yt, ys = y_true[:, c], scores[:, c]\n",
    "                if yt.max() == yt.min():\n",
    "                    aucs.append(np.nan)\n",
    "                    praucs.append(np.nan)\n",
    "                else:\n",
    "                    aucs.append(roc_auc_score(yt, ys))\n",
    "                    prec_curve, rec_curve, _ = precision_recall_curve(yt, ys)\n",
    "                    praucs.append(auc(rec_curve, prec_curve))\n",
    "\n",
    "            # 宏平均（忽略 NaN）\n",
    "            summary = {\n",
    "                \"precision\": float(np.mean(p_cls)),\n",
    "                \"recall\":    float(np.mean(r_cls)),\n",
    "                \"f1\":        float(np.mean(f1_cls)),\n",
    "                \"auc\":       float(np.nanmean(aucs)) if np.any(~np.isnan(aucs)) else float(\"nan\"),\n",
    "                \"prauc\":     float(np.nanmean(praucs)) if np.any(~np.isnan(praucs)) else float(\"nan\"),\n",
    "            }\n",
    "\n",
    "            per_class_df = pd.DataFrame({\n",
    "                \"precision\": p_cls,\n",
    "                \"recall\":    r_cls,\n",
    "                \"f1\":        f1_cls,\n",
    "                \"auc\":       aucs,\n",
    "                \"prauc\":     praucs,\n",
    "            }, index=PHENO_ORDER)   # 确保 PHENO_ORDER 已定义且长度=C\n",
    "\n",
    "            return {\"global\": summary, \"per_class\": per_class_df}\n",
    "\n",
    "        # 全量\n",
    "        all_performance = _compute_metrics(logits_all, labels_all_t)\n",
    "\n",
    "        # 子集\n",
    "        subset_performance = None\n",
    "        if long_seq_idx is not None:\n",
    "            idx = torch.as_tensor(long_seq_idx, device=logits_all.device, dtype=torch.long)\n",
    "            subset_performance = _compute_metrics(\n",
    "                logits_all.index_select(0, idx),\n",
    "                labels_all_t.index_select(0, idx)\n",
    "            )\n",
    "\n",
    "        return all_performance, subset_performance"
   ]
  },
  {
   "cell_type": "code",
   "execution_count": 5,
   "id": "57efbc7f",
   "metadata": {},
   "outputs": [],
   "source": [
    "args = {\n",
    "    \"seed\": 0,\n",
    "    \"dataset\": \"MIMIC-IV\", \n",
    "    \"task\": \"next_diag_12m\",  # options: death, stay, readmission, next_diag_6m, next_diag_12m\n",
    "    \"encoder\": \"hi_edge\",  # options: hi_edge, hi_node, hi_edge_node\n",
    "    \"batch_size\": 4,\n",
    "    \"eval_batch_size\": 4,\n",
    "    \"pretrain_mask_rate\": 0.7,\n",
    "    \"pretrain_anomaly_rate\": 0.05,\n",
    "    \"pretrain_anomaly_loss_weight\": 1,\n",
    "    \"pretrain_pos_weight\": 1,\n",
    "    \"lr\": 1e-4,\n",
    "    \"epochs\": 500,\n",
    "    \"num_hidden_layers\": 5,\n",
    "    \"num_attention_heads\": 6,\n",
    "    \"attention_probs_dropout_prob\": 0.2,\n",
    "    \"hidden_dropout_prob\": 0.2,\n",
    "    \"edge_hidden_size\": 32,\n",
    "    \"hidden_size\": 288,  # must be divisible by num_attention_heads\n",
    "    \"intermediate_size\": 288,\n",
    "    \"save_model\": True,\n",
    "    \"gat\": \"dotattn\",\n",
    "    \"gnn_n_heads\": 1,\n",
    "    \"gnn_temp\": 1,\n",
    "    \"diag_med_emb\": \"tree\",  # simple, tree\n",
    "    \"early_stop_patience\": 5,\n",
    "}"
   ]
  },
  {
   "cell_type": "code",
   "execution_count": 6,
   "id": "1141f507",
   "metadata": {},
   "outputs": [
    {
     "name": "stdout",
     "output_type": "stream",
     "text": [
      "Pretrain-HBERT-MIMIC-IV-hi_edge-0.7-0.05-1-288-32-5-6-0.2-0.2-288-dotattn-1-1-tree\n"
     ]
    }
   ],
   "source": [
    "exp_name = \"Pretrain-HBERT\" \\\n",
    "    + \"-\" + str(args[\"dataset\"]) \\\n",
    "    + \"-\" + str(args[\"encoder\"]) \\\n",
    "    + \"-\" + str(args[\"pretrain_mask_rate\"]) \\\n",
    "    + \"-\" + str(args[\"pretrain_anomaly_rate\"]) \\\n",
    "    + \"-\" + str(args[\"pretrain_anomaly_loss_weight\"]) \\\n",
    "    + \"-\" + str(args[\"hidden_size\"]) \\\n",
    "    + \"-\" + str(args[\"edge_hidden_size\"]) \\\n",
    "    + \"-\" + str(args[\"num_hidden_layers\"]) \\\n",
    "    + \"-\" + str(args[\"num_attention_heads\"]) \\\n",
    "    + \"-\" + str(args[\"attention_probs_dropout_prob\"]) \\\n",
    "    + \"-\" + str(args[\"hidden_dropout_prob\"]) \\\n",
    "    + \"-\" + str(args[\"intermediate_size\"]) \\\n",
    "    + \"-\" + str(args[\"gat\"]) \\\n",
    "    + \"-\" + str(args[\"gnn_n_heads\"]) \\\n",
    "    + \"-\" + str(args[\"gnn_temp\"]) \\\n",
    "    + \"-\" + str(args[\"diag_med_emb\"])\n",
    "print(exp_name)"
   ]
  },
  {
   "cell_type": "code",
   "execution_count": 7,
   "id": "9bdd4429",
   "metadata": {},
   "outputs": [],
   "source": [
    "pretrained_weight_path = \"./pretrained_models/\" + exp_name + f\"/pretrained_model.pt\"\n",
    "finetune_exp_name = f\"Finetune-{args['task']}-\" + exp_name\n",
    "save_path = \"./saved_model/\" + finetune_exp_name\n",
    "if args[\"save_model\"] and not os.path.exists(save_path):\n",
    "    os.makedirs(save_path)"
   ]
  },
  {
   "cell_type": "code",
   "execution_count": 8,
   "id": "61606813",
   "metadata": {},
   "outputs": [],
   "source": [
    "args[\"predicted_token_type\"] = [\"diag\", \"med\", \"pro\", \"lab\"]\n",
    "args[\"special_tokens\"] = (\"[PAD]\", \"[CLS]\", \"[SEP]\", \"[MASK0]\", \"[MASK1]\", \"[MASK2]\", \"[MASK3]\")\n",
    "args[\"max_visit_size\"] = 15\n",
    "\n",
    "full_data_path = f\"/home/lideyi/HeteroGT-cuda/data_process/{args['dataset']}-processed/mimic.pkl\"\n",
    "\n",
    "if args[\"task\"] == \"next_diag_6m\":\n",
    "    finetune_data_path = f\"/home/lideyi/HeteroGT-cuda/data_process/{args['dataset']}-processed/mimic_nextdiag_6m.pkl\"\n",
    "elif args[\"task\"] == \"next_diag_12m\":\n",
    "    finetune_data_path = f\"/home/lideyi/HeteroGT-cuda/data_process/{args['dataset']}-processed/mimic_nextdiag_12m.pkl\"\n",
    "else:\n",
    "    finetune_data_path = f\"/home/lideyi/HeteroGT-cuda/data_process/{args['dataset']}-processed/mimic_downstream.pkl\""
   ]
  },
  {
   "cell_type": "code",
   "execution_count": 9,
   "id": "4e814ef3",
   "metadata": {},
   "outputs": [],
   "source": [
    "ehr_data = pickle.load(open(full_data_path, 'rb'))\n",
    "diag_sentences = ehr_data[\"ICD9_CODE\"].values.tolist()\n",
    "med_sentences = ehr_data[\"NDC\"].values.tolist()\n",
    "lab_sentences = ehr_data[\"LAB_TEST\"].values.tolist()\n",
    "pro_sentences = ehr_data[\"PRO_CODE\"].values.tolist()\n",
    "gender_set = [[\"M\"], [\"F\"]]\n",
    "age_gender_set = [[str(c) + \"_\" + gender] for c in set(ehr_data[\"AGE\"].values.tolist()) for gender in [\"M\", \"F\"]]\n",
    "age_set = [[c] for c in set(ehr_data[\"AGE\"].values.tolist())]    "
   ]
  },
  {
   "cell_type": "code",
   "execution_count": 10,
   "id": "24b8a841",
   "metadata": {},
   "outputs": [],
   "source": [
    "tokenizer = EHRTokenizer(diag_sentences, med_sentences, lab_sentences, \n",
    "                         pro_sentences, gender_set, age_set, age_gender_set, special_tokens=args[\"special_tokens\"])\n",
    "tokenizer.build_tree()"
   ]
  },
  {
   "cell_type": "code",
   "execution_count": 11,
   "id": "8e4fbbca",
   "metadata": {},
   "outputs": [],
   "source": [
    "train_data, val_data, test_data = pickle.load(open(finetune_data_path, 'rb'))\n",
    "\n",
    "train_dataset = HBERTFinetuneEHRDataset(\n",
    "    train_data, tokenizer, \n",
    "    token_type=args[\"predicted_token_type\"], \n",
    "    task=args[\"task\"]\n",
    ")\n",
    "\n",
    "val_dataset = HBERTFinetuneEHRDataset(\n",
    "    val_data, tokenizer, \n",
    "    token_type=args[\"predicted_token_type\"], \n",
    "    task=args[\"task\"]\n",
    ")\n",
    "\n",
    "test_dataset = HBERTFinetuneEHRDataset(\n",
    "    test_data, tokenizer, \n",
    "    token_type=args[\"predicted_token_type\"], \n",
    "    task=args[\"task\"]\n",
    ")\n",
    "\n",
    "train_dataloader = DataLoader(\n",
    "    train_dataset, \n",
    "    batch_sampler=UniqueIDSampler(train_dataset.get_ids(), batch_size=args[\"batch_size\"]),\n",
    "    collate_fn=batcher(pad_id=tokenizer.vocab.word2id[\"[PAD]\"], is_train=False), \n",
    ")\n",
    "\n",
    "val_dataloader = DataLoader(\n",
    "    val_dataset, \n",
    "    batch_sampler=UniqueIDSampler(val_dataset.get_ids(), batch_size=args[\"batch_size\"]),\n",
    "    collate_fn=batcher(pad_id=tokenizer.vocab.word2id[\"[PAD]\"], is_train=False), \n",
    ")\n",
    "\n",
    "test_dataloader = DataLoader(\n",
    "    test_dataset, \n",
    "    batch_sampler=UniqueIDSampler(test_dataset.get_ids(), batch_size=args[\"eval_batch_size\"]),\n",
    "    collate_fn=batcher(pad_id=tokenizer.vocab.word2id[\"[PAD]\"], is_train=False),\n",
    ")"
   ]
  },
  {
   "cell_type": "code",
   "execution_count": 12,
   "id": "e5ba3bc6",
   "metadata": {},
   "outputs": [
    {
     "name": "stdout",
     "output_type": "stream",
     "text": [
      "857 876\n"
     ]
    }
   ],
   "source": [
    "long_adm_seq_crite = 3\n",
    "val_long_seq_idx, test_long_seq_idx = [], []\n",
    "for i in range(len(val_dataset)):\n",
    "    hadm_id = list(val_dataset.records.keys())[i]\n",
    "    num_adms = len(val_dataset.records[hadm_id])\n",
    "    if num_adms >= long_adm_seq_crite:\n",
    "        val_long_seq_idx.append(i)\n",
    "for i in range(len(test_dataset)):\n",
    "    hadm_id = list(test_dataset.records.keys())[i]\n",
    "    num_adms = len(test_dataset.records[hadm_id])\n",
    "    if num_adms >= long_adm_seq_crite:\n",
    "        test_long_seq_idx.append(i)\n",
    "print(len(val_long_seq_idx), len(test_long_seq_idx))"
   ]
  },
  {
   "cell_type": "code",
   "execution_count": 13,
   "id": "31b61a20",
   "metadata": {},
   "outputs": [
    {
     "name": "stdout",
     "output_type": "stream",
     "text": [
      "input_ids shape: torch.Size([8, 41])\n",
      "input_types shape: torch.Size([8, 41])\n",
      "visit_positions shape: torch.Size([8])\n",
      "labeled_batch_idx shape: 4\n",
      "labels shape: torch.Size([4, 18])\n"
     ]
    }
   ],
   "source": [
    "# examine a batch\n",
    "batch = next(iter(train_dataloader))  # 取第一个 batch\n",
    "input_ids, input_types, edge_index, visit_positions, labeled_batch_idx, labels = batch\n",
    "\n",
    "# 打印每个张量的形状\n",
    "print(\"input_ids shape:\", input_ids.shape)\n",
    "print(\"input_types shape:\", input_types.shape)\n",
    "print(\"visit_positions shape:\", visit_positions.shape)\n",
    "print(\"labeled_batch_idx shape:\", len(labeled_batch_idx)) # it is a list\n",
    "print(\"labels shape:\", labels.shape)"
   ]
  },
  {
   "cell_type": "code",
   "execution_count": 14,
   "id": "e9bb1712",
   "metadata": {},
   "outputs": [],
   "source": [
    "args[\"vocab_size\"] = len(args[\"special_tokens\"]) + \\\n",
    "                     len(tokenizer.diag_voc.id2word) + \\\n",
    "                     len(tokenizer.pro_voc.id2word) + \\\n",
    "                     len(tokenizer.med_voc.id2word) + \\\n",
    "                     len(tokenizer.lab_voc.id2word) + \\\n",
    "                     len(tokenizer.age_voc.id2word) + \\\n",
    "                     len(tokenizer.gender_voc.id2word) + \\\n",
    "                     len(tokenizer.age_gender_voc.id2word)\n",
    "args[\"label_vocab_size\"] = 18  # only for diagnosis"
   ]
  },
  {
   "cell_type": "code",
   "execution_count": 15,
   "id": "d5df929a",
   "metadata": {},
   "outputs": [],
   "source": [
    "if args[\"task\"] in [\"death\", \"stay\", \"readmission\"]:\n",
    "    eval_metric = \"f1\"\n",
    "    task_type = \"binary\"\n",
    "    loss_fn = F.binary_cross_entropy_with_logits\n",
    "else:\n",
    "    eval_metric = \"prauc\"\n",
    "    task_type = \"l2r\"\n",
    "    loss_fn = lambda x, y: F.binary_cross_entropy_with_logits(x, y)"
   ]
  },
  {
   "cell_type": "code",
   "execution_count": 16,
   "id": "338d945c",
   "metadata": {},
   "outputs": [],
   "source": [
    "def train_with_early_stopping(model, \n",
    "                              train_dataloader, \n",
    "                              val_dataloader, \n",
    "                              test_dataloader,\n",
    "                              optimizer, \n",
    "                              loss_fn, \n",
    "                              device, \n",
    "                              args,\n",
    "                              val_long_seq_idx = None,\n",
    "                              test_long_seq_idx = None,\n",
    "                              task_type=\"binary\", \n",
    "                              eval_metric=\"f1\"):\n",
    "    best_score = 0.\n",
    "    best_val_metric = None\n",
    "    best_test_metric = None\n",
    "    best_test_long_seq_metric = None\n",
    "    epochs_no_improve = 0\n",
    "\n",
    "    for epoch in range(1, 1 + args[\"epochs\"]):\n",
    "        model.train()\n",
    "        ave_loss = 0.\n",
    "\n",
    "        for step, batch in enumerate(tqdm(train_dataloader, desc=\"Training Batches\")):\n",
    "            batch = [x.to(device) if isinstance(x, torch.Tensor) else x for x in batch]\n",
    "\n",
    "            labels = batch[-1].float()\n",
    "            output_logits = model(*batch[:-1])\n",
    "            \n",
    "            loss = loss_fn(output_logits.view(-1), labels.view(-1))\n",
    "            loss.backward()\n",
    "            optimizer.step()\n",
    "            optimizer.zero_grad()\n",
    "\n",
    "            ave_loss += loss.item()\n",
    "            \n",
    "\n",
    "        ave_loss /= (step + 1)\n",
    "\n",
    "        # Evaluation\n",
    "        val_metric, val_long_seq_metric = evaluate(model, val_dataloader, device, task_type=task_type, long_seq_idx=val_long_seq_idx)\n",
    "        test_metric, test_long_seq_metric = evaluate(model, test_dataloader, device, task_type=task_type, long_seq_idx=test_long_seq_idx)\n",
    "\n",
    "        if task_type != \"binary\":\n",
    "            val_per_class_df = val_metric[\"per_class\"]\n",
    "            val_metric = val_metric[\"global\"]\n",
    "            test_per_class_df = test_metric[\"per_class\"]\n",
    "            test_metric = test_metric[\"global\"]\n",
    "            \n",
    "            if val_long_seq_idx != None:\n",
    "                val_long_seq_per_class_df = val_long_seq_metric[\"per_class\"]\n",
    "                val_long_seq_metric = val_long_seq_metric[\"global\"]\n",
    "            if test_long_seq_idx != None:\n",
    "                test_long_seq_per_class_df = test_long_seq_metric[\"per_class\"]\n",
    "                test_long_seq_metric = test_long_seq_metric[\"global\"]\n",
    "\n",
    "        # Logging\n",
    "        print(f\"Epoch: {epoch:03d}, Average Loss: {ave_loss:.4f}\")\n",
    "        print(f\"Validation: {val_metric}\")\n",
    "        print(f\"Test:       {test_metric}\")\n",
    "\n",
    "        # Check for improvement\n",
    "        current_score = val_metric[eval_metric]\n",
    "        if current_score > best_score:\n",
    "            best_score = current_score\n",
    "            best_val_metric = val_metric if task_type == \"binary\" else {\"global\": val_metric, \"per_class\": val_per_class_df}\n",
    "            best_test_metric = test_metric if task_type == \"binary\" else {\"global\": test_metric, \"per_class\": test_per_class_df}\n",
    "            best_test_long_seq_metric = test_long_seq_metric if task_type == \"binary\" else {\"global\": test_long_seq_metric, \"per_class\": test_long_seq_per_class_df}\n",
    "            epochs_no_improve = 0\n",
    "        else:\n",
    "            epochs_no_improve += 1\n",
    "\n",
    "        # Early stopping check\n",
    "        if epochs_no_improve >= args[\"early_stop_patience\"]:\n",
    "            print(f\"\\nEarly stopping triggered after {epoch} epochs (no improvement for {args['early_stop_patience']} epochs).\")\n",
    "            break\n",
    "\n",
    "    print(\"\\nBest validation performance:\")\n",
    "    print(best_val_metric)\n",
    "    print(\"Corresponding test performance:\")\n",
    "    print(best_test_metric)\n",
    "    if best_test_long_seq_metric is not None:\n",
    "        print(\"Corresponding test-long performance:\")\n",
    "        print(best_test_long_seq_metric)\n",
    "    return best_test_metric, best_test_long_seq_metric"
   ]
  },
  {
   "cell_type": "code",
   "execution_count": 17,
   "id": "9a7f4395",
   "metadata": {},
   "outputs": [
    {
     "name": "stdout",
     "output_type": "stream",
     "text": [
      "[2746317213, 1181241943, 958682846, 3163119785, 1812140441]\n"
     ]
    }
   ],
   "source": [
    "random.seed(42)\n",
    "seeds = [random.randint(0, 2**32 - 1) for _ in range(5)]\n",
    "print(seeds)"
   ]
  },
  {
   "cell_type": "code",
   "execution_count": null,
   "id": "c9068358",
   "metadata": {},
   "outputs": [
    {
     "name": "stdout",
     "output_type": "stream",
     "text": [
      "[INFO] Random seed set to 2746317213\n",
      "Training with seed: 2746317213\n"
     ]
    },
    {
     "name": "stderr",
     "output_type": "stream",
     "text": [
      "Training Batches: 100%|██████████| 1713/1713 [00:53<00:00, 32.21it/s]\n",
      "Running inference: 100%|██████████| 1262/1262 [00:10<00:00, 122.19it/s]\n",
      "Running inference: 100%|██████████| 1266/1266 [00:10<00:00, 116.72it/s]\n"
     ]
    },
    {
     "name": "stdout",
     "output_type": "stream",
     "text": [
      "Epoch: 001, Average Loss: 0.3193\n",
      "Validation: {'precision': 0.4001425728603908, 'recall': 0.30998449938587375, 'f1': 0.32913068916921273, 'auc': 0.7479186222206698, 'prauc': 0.4098777838353179}\n",
      "Test:       {'precision': 0.43328917244914433, 'recall': 0.31328084257819566, 'f1': 0.3305960263151405, 'auc': 0.7453023594041245, 'prauc': 0.41128964003607593}\n"
     ]
    },
    {
     "name": "stderr",
     "output_type": "stream",
     "text": [
      "Training Batches: 100%|██████████| 1713/1713 [00:52<00:00, 32.89it/s]\n",
      "Running inference: 100%|██████████| 1262/1262 [00:10<00:00, 123.92it/s]\n",
      "Running inference: 100%|██████████| 1266/1266 [00:10<00:00, 118.64it/s]\n"
     ]
    },
    {
     "name": "stdout",
     "output_type": "stream",
     "text": [
      "Epoch: 002, Average Loss: 0.2899\n",
      "Validation: {'precision': 0.4312611191608904, 'recall': 0.33920526644069415, 'f1': 0.3613446600712906, 'auc': 0.7617896553360688, 'prauc': 0.42843195280385693}\n",
      "Test:       {'precision': 0.42717113992508743, 'recall': 0.34071118158008573, 'f1': 0.35960140617175124, 'auc': 0.7599495079036331, 'prauc': 0.42594710288692184}\n"
     ]
    },
    {
     "name": "stderr",
     "output_type": "stream",
     "text": [
      "Training Batches: 100%|██████████| 1713/1713 [00:52<00:00, 32.48it/s]\n",
      "Running inference: 100%|██████████| 1262/1262 [00:10<00:00, 122.10it/s]\n",
      "Running inference: 100%|██████████| 1266/1266 [00:10<00:00, 117.17it/s]\n"
     ]
    },
    {
     "name": "stdout",
     "output_type": "stream",
     "text": [
      "Epoch: 003, Average Loss: 0.2817\n",
      "Validation: {'precision': 0.4405625393808415, 'recall': 0.35066659723542976, 'f1': 0.372526010212822, 'auc': 0.7669076075231113, 'prauc': 0.43099439065820333}\n",
      "Test:       {'precision': 0.43570315934934495, 'recall': 0.3524880816617595, 'f1': 0.3716779977294613, 'auc': 0.7656303927267772, 'prauc': 0.4293673980156111}\n"
     ]
    },
    {
     "name": "stderr",
     "output_type": "stream",
     "text": [
      "Training Batches: 100%|██████████| 1713/1713 [00:52<00:00, 32.56it/s]\n",
      "Running inference: 100%|██████████| 1262/1262 [00:10<00:00, 121.60it/s]\n",
      "Running inference: 100%|██████████| 1266/1266 [00:10<00:00, 117.74it/s]\n"
     ]
    },
    {
     "name": "stdout",
     "output_type": "stream",
     "text": [
      "Epoch: 004, Average Loss: 0.2757\n",
      "Validation: {'precision': 0.42527471277263507, 'recall': 0.3543751874790645, 'f1': 0.3775427779323395, 'auc': 0.7720453677512876, 'prauc': 0.4359785330322727}\n",
      "Test:       {'precision': 0.42555309826786836, 'recall': 0.357492519989691, 'f1': 0.3779762594229721, 'auc': 0.7724589940337656, 'prauc': 0.43602964152259605}\n"
     ]
    },
    {
     "name": "stderr",
     "output_type": "stream",
     "text": [
      "Training Batches: 100%|██████████| 1713/1713 [00:52<00:00, 32.79it/s]\n",
      "Running inference: 100%|██████████| 1262/1262 [00:10<00:00, 122.37it/s]\n",
      "Running inference: 100%|██████████| 1266/1266 [00:10<00:00, 118.46it/s]\n"
     ]
    },
    {
     "name": "stdout",
     "output_type": "stream",
     "text": [
      "Epoch: 005, Average Loss: 0.2705\n",
      "Validation: {'precision': 0.43243626940217783, 'recall': 0.37067165401875646, 'f1': 0.3864119601866048, 'auc': 0.7726984407181627, 'prauc': 0.44082718300606905}\n",
      "Test:       {'precision': 0.42878863507132015, 'recall': 0.37048529086379645, 'f1': 0.3842550436954349, 'auc': 0.7721920261850893, 'prauc': 0.43577211226594176}\n"
     ]
    },
    {
     "name": "stderr",
     "output_type": "stream",
     "text": [
      "Training Batches: 100%|██████████| 1713/1713 [00:52<00:00, 32.63it/s]\n",
      "Running inference: 100%|██████████| 1262/1262 [00:10<00:00, 123.33it/s]\n",
      "Running inference: 100%|██████████| 1266/1266 [00:10<00:00, 117.67it/s]\n"
     ]
    },
    {
     "name": "stdout",
     "output_type": "stream",
     "text": [
      "Epoch: 006, Average Loss: 0.2651\n",
      "Validation: {'precision': 0.4401977034610917, 'recall': 0.35987979789031455, 'f1': 0.3848007773050865, 'auc': 0.7708422225932218, 'prauc': 0.43856468173386914}\n",
      "Test:       {'precision': 0.4356642271207302, 'recall': 0.36237898323785445, 'f1': 0.383746048918964, 'auc': 0.7725053354861671, 'prauc': 0.4366918798648893}\n"
     ]
    },
    {
     "name": "stderr",
     "output_type": "stream",
     "text": [
      "Training Batches: 100%|██████████| 1713/1713 [00:52<00:00, 32.57it/s]\n",
      "Running inference: 100%|██████████| 1262/1262 [00:10<00:00, 123.23it/s]\n",
      "Running inference: 100%|██████████| 1266/1266 [00:10<00:00, 118.33it/s]\n"
     ]
    },
    {
     "name": "stdout",
     "output_type": "stream",
     "text": [
      "Epoch: 007, Average Loss: 0.2601\n",
      "Validation: {'precision': 0.42872402140006227, 'recall': 0.3455141928284955, 'f1': 0.37455745508982097, 'auc': 0.7712686712752382, 'prauc': 0.43616578413114904}\n",
      "Test:       {'precision': 0.45289288636741, 'recall': 0.3463417518180554, 'f1': 0.37239907770828284, 'auc': 0.7665680118858234, 'prauc': 0.43360348151276107}\n"
     ]
    },
    {
     "name": "stderr",
     "output_type": "stream",
     "text": [
      "Training Batches: 100%|██████████| 1713/1713 [00:52<00:00, 32.86it/s]\n",
      "Running inference: 100%|██████████| 1262/1262 [00:10<00:00, 123.21it/s]\n",
      "Running inference: 100%|██████████| 1266/1266 [00:10<00:00, 117.17it/s]\n"
     ]
    },
    {
     "name": "stdout",
     "output_type": "stream",
     "text": [
      "Epoch: 008, Average Loss: 0.2544\n",
      "Validation: {'precision': 0.4296333569816507, 'recall': 0.36562559157872854, 'f1': 0.3899407980028778, 'auc': 0.7729104059724144, 'prauc': 0.43986462656025954}\n",
      "Test:       {'precision': 0.4448436393699662, 'recall': 0.3643740969090587, 'f1': 0.386269359579445, 'auc': 0.7705478626693273, 'prauc': 0.4377991329822877}\n"
     ]
    },
    {
     "name": "stderr",
     "output_type": "stream",
     "text": [
      "Training Batches: 100%|██████████| 1713/1713 [00:52<00:00, 32.61it/s]\n",
      "Running inference: 100%|██████████| 1262/1262 [00:10<00:00, 122.17it/s]\n",
      "Running inference: 100%|██████████| 1266/1266 [00:10<00:00, 119.33it/s]\n"
     ]
    },
    {
     "name": "stdout",
     "output_type": "stream",
     "text": [
      "Epoch: 009, Average Loss: 0.2493\n",
      "Validation: {'precision': 0.4790596921854736, 'recall': 0.38297644432814715, 'f1': 0.39417488097176945, 'auc': 0.7714955951512047, 'prauc': 0.4408572626369089}\n",
      "Test:       {'precision': 0.43841417873808947, 'recall': 0.38160894201828877, 'f1': 0.39184981333194846, 'auc': 0.7689667917535467, 'prauc': 0.434756688013496}\n"
     ]
    },
    {
     "name": "stderr",
     "output_type": "stream",
     "text": [
      "Training Batches: 100%|██████████| 1713/1713 [00:52<00:00, 32.59it/s]\n",
      "Running inference: 100%|██████████| 1262/1262 [00:10<00:00, 123.26it/s]\n",
      "Running inference: 100%|██████████| 1266/1266 [00:10<00:00, 118.16it/s]\n"
     ]
    },
    {
     "name": "stdout",
     "output_type": "stream",
     "text": [
      "Epoch: 010, Average Loss: 0.2439\n",
      "Validation: {'precision': 0.4480386200998791, 'recall': 0.37910557472796974, 'f1': 0.39241946529991956, 'auc': 0.7695823155298745, 'prauc': 0.43572973194022446}\n",
      "Test:       {'precision': 0.4344519704197516, 'recall': 0.37930940851803846, 'f1': 0.3904826447059465, 'auc': 0.7647222178387318, 'prauc': 0.4321610702888362}\n"
     ]
    },
    {
     "name": "stderr",
     "output_type": "stream",
     "text": [
      "Training Batches: 100%|██████████| 1713/1713 [00:52<00:00, 32.75it/s]\n",
      "Running inference: 100%|██████████| 1262/1262 [00:10<00:00, 121.63it/s]\n",
      "Running inference: 100%|██████████| 1266/1266 [00:10<00:00, 118.04it/s]\n"
     ]
    },
    {
     "name": "stdout",
     "output_type": "stream",
     "text": [
      "Epoch: 011, Average Loss: 0.2390\n",
      "Validation: {'precision': 0.47500530849543043, 'recall': 0.3548091391189512, 'f1': 0.37878730236351704, 'auc': 0.769216072412734, 'prauc': 0.4359348372379398}\n",
      "Test:       {'precision': 0.4946185746992019, 'recall': 0.3573707830232577, 'f1': 0.3791350854878768, 'auc': 0.7637628673956065, 'prauc': 0.4320815645731335}\n"
     ]
    },
    {
     "name": "stderr",
     "output_type": "stream",
     "text": [
      "Training Batches: 100%|██████████| 1713/1713 [00:52<00:00, 32.58it/s]\n",
      "Running inference: 100%|██████████| 1262/1262 [00:10<00:00, 122.27it/s]\n",
      "Running inference: 100%|██████████| 1266/1266 [00:10<00:00, 117.63it/s]\n"
     ]
    },
    {
     "name": "stdout",
     "output_type": "stream",
     "text": [
      "Epoch: 012, Average Loss: 0.2334\n",
      "Validation: {'precision': 0.48266020556337186, 'recall': 0.3774368845381344, 'f1': 0.39384932524894717, 'auc': 0.7676909188016574, 'prauc': 0.4318705957298667}\n",
      "Test:       {'precision': 0.4357569853800969, 'recall': 0.3787957527588152, 'f1': 0.39322024801274275, 'auc': 0.7597231402713287, 'prauc': 0.4304802527986336}\n"
     ]
    },
    {
     "name": "stderr",
     "output_type": "stream",
     "text": [
      "Training Batches: 100%|██████████| 1713/1713 [00:52<00:00, 32.69it/s]\n",
      "Running inference: 100%|██████████| 1262/1262 [00:10<00:00, 123.28it/s]\n",
      "Running inference: 100%|██████████| 1266/1266 [00:10<00:00, 118.49it/s]\n"
     ]
    },
    {
     "name": "stdout",
     "output_type": "stream",
     "text": [
      "Epoch: 013, Average Loss: 0.2286\n",
      "Validation: {'precision': 0.5041683627949929, 'recall': 0.3695616868322826, 'f1': 0.3884138538287703, 'auc': 0.7654679135323829, 'prauc': 0.43209097632402327}\n",
      "Test:       {'precision': 0.45964745665776924, 'recall': 0.3707600522894431, 'f1': 0.387784911826359, 'auc': 0.764251070432521, 'prauc': 0.42993339352725035}\n"
     ]
    },
    {
     "name": "stderr",
     "output_type": "stream",
     "text": [
      "Training Batches: 100%|██████████| 1713/1713 [00:52<00:00, 32.77it/s]\n",
      "Running inference: 100%|██████████| 1262/1262 [00:10<00:00, 121.31it/s]\n",
      "Running inference: 100%|██████████| 1266/1266 [00:10<00:00, 119.51it/s]\n"
     ]
    },
    {
     "name": "stdout",
     "output_type": "stream",
     "text": [
      "Epoch: 014, Average Loss: 0.2228\n",
      "Validation: {'precision': 0.4838502327007339, 'recall': 0.3655724009462628, 'f1': 0.3892057340311156, 'auc': 0.7666702774103381, 'prauc': 0.43164456822701}\n",
      "Test:       {'precision': 0.45717927608283265, 'recall': 0.36443029911098307, 'f1': 0.38475126522897285, 'auc': 0.7657634276547199, 'prauc': 0.42933128863429015}\n",
      "\n",
      "Early stopping triggered after 14 epochs (no improvement for 5 epochs).\n",
      "\n",
      "Best validation performance:\n",
      "{'global': {'precision': 0.4790596921854736, 'recall': 0.38297644432814715, 'f1': 0.39417488097176945, 'auc': 0.7714955951512047, 'prauc': 0.4408572626369089}, 'per_class':                                            precision    recall        f1  \\\n",
      "Acute and unspecified renal failure         0.445680  0.450303  0.447979   \n",
      "Acute cerebrovascular disease               0.000000  0.000000  0.000000   \n",
      "Acute myocardial infarction                 0.000000  0.000000  0.000000   \n",
      "Cardiac dysrhythmias                        0.781463  0.671293  0.722200   \n",
      "Chronic kidney disease                      0.749584  0.774721  0.761945   \n",
      "Chronic obstructive pulmonary disease       0.659847  0.575893  0.615018   \n",
      "Conduction disorders                        0.000000  0.000000  0.000000   \n",
      "Congestive heart failure; nonhypertensive   0.745622  0.714664  0.729815   \n",
      "Coronary atherosclerosis and related        0.782750  0.790468  0.786590   \n",
      "Disorders of lipid metabolism               0.724461  0.817125  0.768008   \n",
      "Essential hypertension                      0.789979  0.706051  0.745660   \n",
      "Fluid and electrolyte disorders             0.491215  0.396424  0.438758   \n",
      "Gastrointestinal hemorrhage                 0.000000  0.000000  0.000000   \n",
      "Hypertension with complications             0.718511  0.749254  0.733561   \n",
      "Other liver diseases                        0.000000  0.000000  0.000000   \n",
      "Other lower respiratory disease             0.495868  0.231959  0.316067   \n",
      "Pneumonia                                   1.000000  0.002732  0.005450   \n",
      "Septicemia (except in labor)                0.238095  0.012690  0.024096   \n",
      "\n",
      "                                                auc     prauc  \n",
      "Acute and unspecified renal failure        0.725818  0.418361  \n",
      "Acute cerebrovascular disease              0.664361  0.013719  \n",
      "Acute myocardial infarction                0.795326  0.195782  \n",
      "Cardiac dysrhythmias                       0.848152  0.769663  \n",
      "Chronic kidney disease                     0.922604  0.841381  \n",
      "Chronic obstructive pulmonary disease      0.884723  0.547698  \n",
      "Conduction disorders                       0.720184  0.079435  \n",
      "Congestive heart failure; nonhypertensive  0.903363  0.780736  \n",
      "Coronary atherosclerosis and related       0.929429  0.809691  \n",
      "Disorders of lipid metabolism              0.878391  0.773102  \n",
      "Essential hypertension                     0.864776  0.793634  \n",
      "Fluid and electrolyte disorders            0.657705  0.469865  \n",
      "Gastrointestinal hemorrhage                0.553685  0.036519  \n",
      "Hypertension with complications            0.916322  0.776548  \n",
      "Other liver diseases                       0.623123  0.015894  \n",
      "Other lower respiratory disease            0.703156  0.363853  \n",
      "Pneumonia                                  0.651324  0.118007  \n",
      "Septicemia (except in labor)               0.644478  0.131542  }\n",
      "Corresponding test performance:\n",
      "{'global': {'precision': 0.43841417873808947, 'recall': 0.38160894201828877, 'f1': 0.39184981333194846, 'auc': 0.7689667917535467, 'prauc': 0.434756688013496}, 'per_class':                                            precision    recall        f1  \\\n",
      "Acute and unspecified renal failure         0.429809  0.427955  0.428880   \n",
      "Acute cerebrovascular disease               0.000000  0.000000  0.000000   \n",
      "Acute myocardial infarction                 0.000000  0.000000  0.000000   \n",
      "Cardiac dysrhythmias                        0.731278  0.625471  0.674249   \n",
      "Chronic kidney disease                      0.783721  0.797948  0.790770   \n",
      "Chronic obstructive pulmonary disease       0.637640  0.532864  0.580563   \n",
      "Conduction disorders                        0.000000  0.000000  0.000000   \n",
      "Congestive heart failure; nonhypertensive   0.762032  0.738980  0.750329   \n",
      "Coronary atherosclerosis and related        0.767843  0.783827  0.775753   \n",
      "Disorders of lipid metabolism               0.708197  0.823978  0.761713   \n",
      "Essential hypertension                      0.786264  0.713360  0.748040   \n",
      "Fluid and electrolyte disorders             0.478873  0.407057  0.440054   \n",
      "Gastrointestinal hemorrhage                 0.000000  0.000000  0.000000   \n",
      "Hypertension with complications             0.751346  0.783708  0.767186   \n",
      "Other liver diseases                        0.000000  0.000000  0.000000   \n",
      "Other lower respiratory disease             0.472441  0.210280  0.291027   \n",
      "Pneumonia                                   0.285714  0.005141  0.010101   \n",
      "Septicemia (except in labor)                0.296296  0.018391  0.034632   \n",
      "\n",
      "                                                auc     prauc  \n",
      "Acute and unspecified renal failure        0.723650  0.408098  \n",
      "Acute cerebrovascular disease              0.553265  0.010920  \n",
      "Acute myocardial infarction                0.787359  0.132462  \n",
      "Cardiac dysrhythmias                       0.827647  0.717919  \n",
      "Chronic kidney disease                     0.919259  0.859460  \n",
      "Chronic obstructive pulmonary disease      0.881161  0.519105  \n",
      "Conduction disorders                       0.775174  0.080633  \n",
      "Congestive heart failure; nonhypertensive  0.907956  0.782547  \n",
      "Coronary atherosclerosis and related       0.927019  0.805614  \n",
      "Disorders of lipid metabolism              0.877526  0.759621  \n",
      "Essential hypertension                     0.864146  0.772699  \n",
      "Fluid and electrolyte disorders            0.656954  0.459103  \n",
      "Gastrointestinal hemorrhage                0.601836  0.079813  \n",
      "Hypertension with complications            0.924247  0.795523  \n",
      "Other liver diseases                       0.644229  0.014374  \n",
      "Other lower respiratory disease            0.681582  0.364519  \n",
      "Pneumonia                                  0.630453  0.117994  \n",
      "Septicemia (except in labor)               0.657939  0.145220  }\n",
      "Corresponding test-long performance:\n",
      "{'global': {'precision': 0.4265911647538196, 'recall': 0.37468354936599674, 'f1': 0.3872538996826813, 'auc': 0.7761580171171782, 'prauc': 0.438292593624622}, 'per_class':                                            precision    recall        f1  \\\n",
      "Acute and unspecified renal failure         0.403226  0.405405  0.404313   \n",
      "Acute cerebrovascular disease               0.000000  0.000000  0.000000   \n",
      "Acute myocardial infarction                 0.000000  0.000000  0.000000   \n",
      "Cardiac dysrhythmias                        0.742105  0.615721  0.673031   \n",
      "Chronic kidney disease                      0.774194  0.803828  0.788732   \n",
      "Chronic obstructive pulmonary disease       0.616667  0.493333  0.548148   \n",
      "Conduction disorders                        0.000000  0.000000  0.000000   \n",
      "Congestive heart failure; nonhypertensive   0.772727  0.708333  0.739130   \n",
      "Coronary atherosclerosis and related        0.730769  0.784404  0.756637   \n",
      "Disorders of lipid metabolism               0.752976  0.790625  0.771341   \n",
      "Essential hypertension                      0.792453  0.724138  0.756757   \n",
      "Fluid and electrolyte disorders             0.504348  0.411348  0.453125   \n",
      "Gastrointestinal hemorrhage                 0.000000  0.000000  0.000000   \n",
      "Hypertension with complications             0.747368  0.797753  0.771739   \n",
      "Other liver diseases                        0.000000  0.000000  0.000000   \n",
      "Other lower respiratory disease             0.508475  0.197368  0.284360   \n",
      "Pneumonia                                   0.000000  0.000000  0.000000   \n",
      "Septicemia (except in labor)                0.333333  0.012048  0.023256   \n",
      "\n",
      "                                                auc     prauc  \n",
      "Acute and unspecified renal failure        0.743959  0.386357  \n",
      "Acute cerebrovascular disease              0.649194  0.021460  \n",
      "Acute myocardial infarction                0.755831  0.120901  \n",
      "Cardiac dysrhythmias                       0.832347  0.731880  \n",
      "Chronic kidney disease                     0.923330  0.844799  \n",
      "Chronic obstructive pulmonary disease      0.887174  0.536887  \n",
      "Conduction disorders                       0.821351  0.042755  \n",
      "Congestive heart failure; nonhypertensive  0.897935  0.770045  \n",
      "Coronary atherosclerosis and related       0.921739  0.770837  \n",
      "Disorders of lipid metabolism              0.890035  0.791930  \n",
      "Essential hypertension                     0.868807  0.782514  \n",
      "Fluid and electrolyte disorders            0.663598  0.489924  \n",
      "Gastrointestinal hemorrhage                0.583964  0.103100  \n",
      "Hypertension with complications            0.928970  0.795822  \n",
      "Other liver diseases                       0.622176  0.018587  \n",
      "Other lower respiratory disease            0.671162  0.358021  \n",
      "Pneumonia                                  0.644677  0.150058  \n",
      "Septicemia (except in labor)               0.664595  0.173392  }\n",
      "[INFO] Random seed set to 1181241943\n",
      "Training with seed: 1181241943\n"
     ]
    },
    {
     "name": "stderr",
     "output_type": "stream",
     "text": [
      "Training Batches: 100%|██████████| 1713/1713 [00:51<00:00, 32.99it/s]\n",
      "Running inference: 100%|██████████| 1262/1262 [00:10<00:00, 123.95it/s]\n",
      "Running inference: 100%|██████████| 1266/1266 [00:10<00:00, 118.73it/s]\n"
     ]
    },
    {
     "name": "stdout",
     "output_type": "stream",
     "text": [
      "Epoch: 001, Average Loss: 0.3166\n",
      "Validation: {'precision': 0.44012884961226795, 'recall': 0.3240743898384623, 'f1': 0.3434866546379857, 'auc': 0.7580570901830508, 'prauc': 0.42356559509248265}\n",
      "Test:       {'precision': 0.4594012136463209, 'recall': 0.3281289800888677, 'f1': 0.3459872811903517, 'auc': 0.7551027556144446, 'prauc': 0.4234990160707823}\n"
     ]
    },
    {
     "name": "stderr",
     "output_type": "stream",
     "text": [
      "Training Batches: 100%|██████████| 1713/1713 [00:52<00:00, 32.44it/s]\n",
      "Running inference: 100%|██████████| 1262/1262 [00:10<00:00, 122.58it/s]\n",
      "Running inference: 100%|██████████| 1266/1266 [00:10<00:00, 117.44it/s]\n"
     ]
    },
    {
     "name": "stdout",
     "output_type": "stream",
     "text": [
      "Epoch: 002, Average Loss: 0.2888\n",
      "Validation: {'precision': 0.42819986661639253, 'recall': 0.36624136098564963, 'f1': 0.38783421971756954, 'auc': 0.7666437612659364, 'prauc': 0.4313735226178135}\n",
      "Test:       {'precision': 0.42523636002643683, 'recall': 0.37048058038270604, 'f1': 0.38851825487838415, 'auc': 0.7742715997407061, 'prauc': 0.43221337289213685}\n"
     ]
    },
    {
     "name": "stderr",
     "output_type": "stream",
     "text": [
      "Training Batches: 100%|██████████| 1713/1713 [00:52<00:00, 32.82it/s]\n",
      "Running inference: 100%|██████████| 1262/1262 [00:10<00:00, 119.42it/s]\n",
      "Running inference: 100%|██████████| 1266/1266 [00:10<00:00, 119.05it/s]\n"
     ]
    },
    {
     "name": "stdout",
     "output_type": "stream",
     "text": [
      "Epoch: 003, Average Loss: 0.2806\n",
      "Validation: {'precision': 0.445410313200182, 'recall': 0.347977133402003, 'f1': 0.3752840203491949, 'auc': 0.773816187935981, 'prauc': 0.4369767058588623}\n",
      "Test:       {'precision': 0.44286116490433297, 'recall': 0.3523173716493642, 'f1': 0.3766988085452089, 'auc': 0.773559627797018, 'prauc': 0.43576449304417614}\n"
     ]
    },
    {
     "name": "stderr",
     "output_type": "stream",
     "text": [
      "Training Batches: 100%|██████████| 1713/1713 [00:52<00:00, 32.76it/s]\n",
      "Running inference: 100%|██████████| 1262/1262 [00:10<00:00, 123.35it/s]\n",
      "Running inference: 100%|██████████| 1266/1266 [00:10<00:00, 118.24it/s]\n"
     ]
    },
    {
     "name": "stdout",
     "output_type": "stream",
     "text": [
      "Epoch: 004, Average Loss: 0.2749\n",
      "Validation: {'precision': 0.44841268788966615, 'recall': 0.3664733914035723, 'f1': 0.3868295912197428, 'auc': 0.7762875858822675, 'prauc': 0.44026050718794657}\n",
      "Test:       {'precision': 0.4405758214752914, 'recall': 0.36835891380984137, 'f1': 0.3852948127640079, 'auc': 0.778315444707041, 'prauc': 0.43830603900414117}\n"
     ]
    },
    {
     "name": "stderr",
     "output_type": "stream",
     "text": [
      "Training Batches: 100%|██████████| 1713/1713 [00:52<00:00, 32.71it/s]\n",
      "Running inference: 100%|██████████| 1262/1262 [00:10<00:00, 122.49it/s]\n",
      "Running inference: 100%|██████████| 1266/1266 [00:10<00:00, 118.57it/s]\n"
     ]
    },
    {
     "name": "stdout",
     "output_type": "stream",
     "text": [
      "Epoch: 005, Average Loss: 0.2696\n",
      "Validation: {'precision': 0.44922082189767387, 'recall': 0.3473628515532392, 'f1': 0.36739102928820466, 'auc': 0.7748807988627616, 'prauc': 0.43875812695936794}\n",
      "Test:       {'precision': 0.45031370042518165, 'recall': 0.3493512826922662, 'f1': 0.36764928383364354, 'auc': 0.7743560487776464, 'prauc': 0.441117882552632}\n"
     ]
    },
    {
     "name": "stderr",
     "output_type": "stream",
     "text": [
      "Training Batches: 100%|██████████| 1713/1713 [00:52<00:00, 32.79it/s]\n",
      "Running inference: 100%|██████████| 1262/1262 [00:10<00:00, 123.05it/s]\n",
      "Running inference: 100%|██████████| 1266/1266 [00:10<00:00, 118.28it/s]\n"
     ]
    },
    {
     "name": "stdout",
     "output_type": "stream",
     "text": [
      "Epoch: 006, Average Loss: 0.2639\n",
      "Validation: {'precision': 0.4388911814880074, 'recall': 0.358670923975567, 'f1': 0.38595328241556714, 'auc': 0.7769591395381847, 'prauc': 0.4423220123728926}\n",
      "Test:       {'precision': 0.43594794455586755, 'recall': 0.36044822508993096, 'f1': 0.3855879201037738, 'auc': 0.7763862576834772, 'prauc': 0.440979204242157}\n"
     ]
    },
    {
     "name": "stderr",
     "output_type": "stream",
     "text": [
      "Training Batches: 100%|██████████| 1713/1713 [00:51<00:00, 33.01it/s]\n",
      "Running inference: 100%|██████████| 1262/1262 [00:10<00:00, 123.94it/s]\n",
      "Running inference: 100%|██████████| 1266/1266 [00:10<00:00, 116.32it/s]\n"
     ]
    },
    {
     "name": "stdout",
     "output_type": "stream",
     "text": [
      "Epoch: 007, Average Loss: 0.2594\n",
      "Validation: {'precision': 0.4696234665112612, 'recall': 0.3623720405931986, 'f1': 0.38298907866786647, 'auc': 0.7728471159610397, 'prauc': 0.44122370573943964}\n",
      "Test:       {'precision': 0.47019650650110534, 'recall': 0.36748284464876707, 'f1': 0.38516613856462134, 'auc': 0.7744248414460191, 'prauc': 0.43736283876113213}\n",
      "\n",
      "Early stopping triggered after 7 epochs (no improvement for 5 epochs).\n",
      "\n",
      "Best validation performance:\n",
      "{'global': {'precision': 0.42819986661639253, 'recall': 0.36624136098564963, 'f1': 0.38783421971756954, 'auc': 0.7666437612659364, 'prauc': 0.4313735226178135}, 'per_class':                                            precision    recall        f1  \\\n",
      "Acute and unspecified renal failure         0.511574  0.382022  0.437407   \n",
      "Acute cerebrovascular disease               0.000000  0.000000  0.000000   \n",
      "Acute myocardial infarction                 0.000000  0.000000  0.000000   \n",
      "Cardiac dysrhythmias                        0.849810  0.653031  0.738538   \n",
      "Chronic kidney disease                      0.852395  0.749785  0.797804   \n",
      "Chronic obstructive pulmonary disease       0.642697  0.638393  0.640538   \n",
      "Conduction disorders                        0.000000  0.000000  0.000000   \n",
      "Congestive heart failure; nonhypertensive   0.760000  0.704947  0.731439   \n",
      "Coronary atherosclerosis and related        0.784879  0.827445  0.805600   \n",
      "Disorders of lipid metabolism               0.780093  0.712474  0.744751   \n",
      "Essential hypertension                      0.766090  0.822296  0.793199   \n",
      "Fluid and electrolyte disorders             0.500000  0.302096  0.376633   \n",
      "Gastrointestinal hemorrhage                 0.000000  0.000000  0.000000   \n",
      "Hypertension with complications             0.776018  0.682587  0.726310   \n",
      "Other liver diseases                        0.000000  0.000000  0.000000   \n",
      "Other lower respiratory disease             0.484043  0.117268  0.188797   \n",
      "Pneumonia                                   0.000000  0.000000  0.000000   \n",
      "Septicemia (except in labor)                0.000000  0.000000  0.000000   \n",
      "\n",
      "                                                auc     prauc  \n",
      "Acute and unspecified renal failure        0.743013  0.452229  \n",
      "Acute cerebrovascular disease              0.623575  0.010372  \n",
      "Acute myocardial infarction                0.779905  0.137488  \n",
      "Cardiac dysrhythmias                       0.863072  0.784997  \n",
      "Chronic kidney disease                     0.925967  0.852108  \n",
      "Chronic obstructive pulmonary disease      0.879114  0.548037  \n",
      "Conduction disorders                       0.702516  0.043461  \n",
      "Congestive heart failure; nonhypertensive  0.906002  0.773718  \n",
      "Coronary atherosclerosis and related       0.929521  0.804497  \n",
      "Disorders of lipid metabolism              0.870636  0.750826  \n",
      "Essential hypertension                     0.867578  0.791530  \n",
      "Fluid and electrolyte disorders            0.659988  0.455104  \n",
      "Gastrointestinal hemorrhage                0.584848  0.041123  \n",
      "Hypertension with complications            0.914982  0.773145  \n",
      "Other liver diseases                       0.598810  0.022465  \n",
      "Other lower respiratory disease            0.692711  0.301072  \n",
      "Pneumonia                                  0.626697  0.105271  \n",
      "Septicemia (except in labor)               0.630654  0.117280  }\n",
      "Corresponding test performance:\n",
      "{'global': {'precision': 0.42523636002643683, 'recall': 0.37048058038270604, 'f1': 0.38851825487838415, 'auc': 0.7742715997407061, 'prauc': 0.43221337289213685}, 'per_class':                                            precision    recall        f1  \\\n",
      "Acute and unspecified renal failure         0.477560  0.358067  0.409270   \n",
      "Acute cerebrovascular disease               0.000000  0.000000  0.000000   \n",
      "Acute myocardial infarction                 0.000000  0.000000  0.000000   \n",
      "Cardiac dysrhythmias                        0.798220  0.608139  0.690334   \n",
      "Chronic kidney disease                      0.870072  0.766377  0.814939   \n",
      "Chronic obstructive pulmonary disease       0.626728  0.638498  0.632558   \n",
      "Conduction disorders                        0.000000  0.000000  0.000000   \n",
      "Congestive heart failure; nonhypertensive   0.777778  0.750216  0.763748   \n",
      "Coronary atherosclerosis and related        0.769912  0.835869  0.801536   \n",
      "Disorders of lipid metabolism               0.775615  0.738420  0.756561   \n",
      "Essential hypertension                      0.757464  0.822034  0.788429   \n",
      "Fluid and electrolyte disorders             0.480155  0.312539  0.378626   \n",
      "Gastrointestinal hemorrhage                 0.000000  0.000000  0.000000   \n",
      "Hypertension with complications             0.813362  0.718165  0.762805   \n",
      "Other liver diseases                        0.000000  0.000000  0.000000   \n",
      "Other lower respiratory disease             0.507389  0.120327  0.194523   \n",
      "Pneumonia                                   0.000000  0.000000  0.000000   \n",
      "Septicemia (except in labor)                0.000000  0.000000  0.000000   \n",
      "\n",
      "                                                auc     prauc  \n",
      "Acute and unspecified renal failure        0.744764  0.441756  \n",
      "Acute cerebrovascular disease              0.576798  0.010116  \n",
      "Acute myocardial infarction                0.773609  0.109454  \n",
      "Cardiac dysrhythmias                       0.845946  0.735676  \n",
      "Chronic kidney disease                     0.928352  0.871688  \n",
      "Chronic obstructive pulmonary disease      0.871224  0.521302  \n",
      "Conduction disorders                       0.759176  0.074861  \n",
      "Congestive heart failure; nonhypertensive  0.911092  0.775370  \n",
      "Coronary atherosclerosis and related       0.929153  0.805613  \n",
      "Disorders of lipid metabolism              0.876527  0.747557  \n",
      "Essential hypertension                     0.869344  0.784293  \n",
      "Fluid and electrolyte disorders            0.660505  0.440994  \n",
      "Gastrointestinal hemorrhage                0.611727  0.055172  \n",
      "Hypertension with complications            0.926706  0.799664  \n",
      "Other liver diseases                       0.677902  0.015139  \n",
      "Other lower respiratory disease            0.689537  0.339682  \n",
      "Pneumonia                                  0.620825  0.112156  \n",
      "Septicemia (except in labor)               0.663701  0.139349  }\n",
      "Corresponding test-long performance:\n",
      "{'global': {'precision': 0.4184570031744722, 'recall': 0.3645647755221755, 'f1': 0.38197476178735823, 'auc': 0.7536234041052677, 'prauc': 0.4249585254033059}, 'per_class':                                            precision    recall        f1  \\\n",
      "Acute and unspecified renal failure         0.467105  0.371728  0.413994   \n",
      "Acute cerebrovascular disease               0.000000  0.000000  0.000000   \n",
      "Acute myocardial infarction                 0.000000  0.000000  0.000000   \n",
      "Cardiac dysrhythmias                        0.803571  0.576923  0.671642   \n",
      "Chronic kidney disease                      0.855000  0.750000  0.799065   \n",
      "Chronic obstructive pulmonary disease       0.608108  0.608108  0.608108   \n",
      "Conduction disorders                        0.000000  0.000000  0.000000   \n",
      "Congestive heart failure; nonhypertensive   0.782609  0.757009  0.769596   \n",
      "Coronary atherosclerosis and related        0.763265  0.809524  0.785714   \n",
      "Disorders of lipid metabolism               0.771084  0.761905  0.766467   \n",
      "Essential hypertension                      0.766667  0.814714  0.789960   \n",
      "Fluid and electrolyte disorders             0.393782  0.293436  0.336283   \n",
      "Gastrointestinal hemorrhage                 0.000000  0.000000  0.000000   \n",
      "Hypertension with complications             0.805882  0.709845  0.754821   \n",
      "Other liver diseases                        0.000000  0.000000  0.000000   \n",
      "Other lower respiratory disease             0.515152  0.108974  0.179894   \n",
      "Pneumonia                                   0.000000  0.000000  0.000000   \n",
      "Septicemia (except in labor)                0.000000  0.000000  0.000000   \n",
      "\n",
      "                                                auc     prauc  \n",
      "Acute and unspecified renal failure        0.736768  0.425910  \n",
      "Acute cerebrovascular disease              0.524542  0.011210  \n",
      "Acute myocardial infarction                0.715404  0.072628  \n",
      "Cardiac dysrhythmias                       0.835856  0.700311  \n",
      "Chronic kidney disease                     0.920586  0.852115  \n",
      "Chronic obstructive pulmonary disease      0.855631  0.515548  \n",
      "Conduction disorders                       0.784771  0.072654  \n",
      "Congestive heart failure; nonhypertensive  0.902801  0.772958  \n",
      "Coronary atherosclerosis and related       0.916454  0.792792  \n",
      "Disorders of lipid metabolism              0.871759  0.758543  \n",
      "Essential hypertension                     0.864772  0.801954  \n",
      "Fluid and electrolyte disorders            0.604307  0.390085  \n",
      "Gastrointestinal hemorrhage                0.596991  0.065649  \n",
      "Hypertension with complications            0.927105  0.806286  \n",
      "Other liver diseases                       0.607266  0.009856  \n",
      "Other lower respiratory disease            0.688221  0.369592  \n",
      "Pneumonia                                  0.580992  0.087790  \n",
      "Septicemia (except in labor)               0.630998  0.143372  }\n",
      "[INFO] Random seed set to 958682846\n",
      "Training with seed: 958682846\n"
     ]
    },
    {
     "name": "stderr",
     "output_type": "stream",
     "text": [
      "Training Batches: 100%|██████████| 1713/1713 [00:52<00:00, 32.65it/s]\n",
      "Running inference: 100%|██████████| 1262/1262 [00:10<00:00, 122.61it/s]\n",
      "Running inference: 100%|██████████| 1266/1266 [00:10<00:00, 118.26it/s]\n"
     ]
    },
    {
     "name": "stdout",
     "output_type": "stream",
     "text": [
      "Epoch: 001, Average Loss: 0.3158\n",
      "Validation: {'precision': 0.4112129497492685, 'recall': 0.3324053875175779, 'f1': 0.35053823902287246, 'auc': 0.7585971458186496, 'prauc': 0.4180176834605478}\n",
      "Test:       {'precision': 0.4169671103559796, 'recall': 0.3371491553490232, 'f1': 0.35341875689898217, 'auc': 0.761313188650069, 'prauc': 0.4177442644741691}\n"
     ]
    },
    {
     "name": "stderr",
     "output_type": "stream",
     "text": [
      "Training Batches: 100%|██████████| 1713/1713 [00:52<00:00, 32.58it/s]\n",
      "Running inference: 100%|██████████| 1262/1262 [00:10<00:00, 123.02it/s]\n",
      "Running inference: 100%|██████████| 1266/1266 [00:10<00:00, 118.62it/s]\n"
     ]
    },
    {
     "name": "stdout",
     "output_type": "stream",
     "text": [
      "Epoch: 002, Average Loss: 0.2892\n",
      "Validation: {'precision': 0.43714720597162204, 'recall': 0.32813738365809036, 'f1': 0.35193393617675733, 'auc': 0.7704175868687718, 'prauc': 0.4354088000938025}\n",
      "Test:       {'precision': 0.44675214439098393, 'recall': 0.3318869477701953, 'f1': 0.35290904776936416, 'auc': 0.7696957257817099, 'prauc': 0.4332458944515671}\n"
     ]
    },
    {
     "name": "stderr",
     "output_type": "stream",
     "text": [
      "Training Batches: 100%|██████████| 1713/1713 [00:52<00:00, 32.66it/s]\n",
      "Running inference: 100%|██████████| 1262/1262 [00:10<00:00, 120.92it/s]\n",
      "Running inference: 100%|██████████| 1266/1266 [00:10<00:00, 117.34it/s]\n"
     ]
    },
    {
     "name": "stdout",
     "output_type": "stream",
     "text": [
      "Epoch: 003, Average Loss: 0.2807\n",
      "Validation: {'precision': 0.43539003546311444, 'recall': 0.34769947426748454, 'f1': 0.36911277215475047, 'auc': 0.7718403663832539, 'prauc': 0.43722367224305836}\n",
      "Test:       {'precision': 0.43307246222119716, 'recall': 0.35125037851262664, 'f1': 0.370021817262413, 'auc': 0.7726266839376292, 'prauc': 0.43627523095907916}\n"
     ]
    },
    {
     "name": "stderr",
     "output_type": "stream",
     "text": [
      "Training Batches: 100%|██████████| 1713/1713 [00:52<00:00, 32.43it/s]\n",
      "Running inference: 100%|██████████| 1262/1262 [00:10<00:00, 122.62it/s]\n",
      "Running inference: 100%|██████████| 1266/1266 [00:10<00:00, 117.90it/s]\n"
     ]
    },
    {
     "name": "stdout",
     "output_type": "stream",
     "text": [
      "Epoch: 004, Average Loss: 0.2737\n",
      "Validation: {'precision': 0.43455232953788225, 'recall': 0.35994430055229265, 'f1': 0.38244913567092337, 'auc': 0.7688925784776597, 'prauc': 0.44021361434607537}\n",
      "Test:       {'precision': 0.43245606087785826, 'recall': 0.36455976872616386, 'f1': 0.38455946752514225, 'auc': 0.7713566550140548, 'prauc': 0.43847749963207544}\n"
     ]
    },
    {
     "name": "stderr",
     "output_type": "stream",
     "text": [
      "Training Batches: 100%|██████████| 1713/1713 [00:52<00:00, 32.76it/s]\n",
      "Running inference: 100%|██████████| 1262/1262 [00:10<00:00, 119.56it/s]\n",
      "Running inference: 100%|██████████| 1266/1266 [00:10<00:00, 117.24it/s]\n"
     ]
    },
    {
     "name": "stdout",
     "output_type": "stream",
     "text": [
      "Epoch: 005, Average Loss: 0.2681\n",
      "Validation: {'precision': 0.41876044412331653, 'recall': 0.37679607675705756, 'f1': 0.38674527936175007, 'auc': 0.7738855076426294, 'prauc': 0.43911684778208243}\n",
      "Test:       {'precision': 0.413427626875844, 'recall': 0.38158012307160155, 'f1': 0.38693023175594504, 'auc': 0.7746674556973069, 'prauc': 0.4405654274392072}\n"
     ]
    },
    {
     "name": "stderr",
     "output_type": "stream",
     "text": [
      "Training Batches: 100%|██████████| 1713/1713 [00:52<00:00, 32.85it/s]\n",
      "Running inference: 100%|██████████| 1262/1262 [00:10<00:00, 122.69it/s]\n",
      "Running inference: 100%|██████████| 1266/1266 [00:10<00:00, 119.29it/s]\n"
     ]
    },
    {
     "name": "stdout",
     "output_type": "stream",
     "text": [
      "Epoch: 006, Average Loss: 0.2633\n",
      "Validation: {'precision': 0.46034416397830646, 'recall': 0.3646183735853319, 'f1': 0.3886028613939419, 'auc': 0.7674620994062461, 'prauc': 0.43893420156984214}\n",
      "Test:       {'precision': 0.4510523161736212, 'recall': 0.36778277373808643, 'f1': 0.3889103161499331, 'auc': 0.7674917381750559, 'prauc': 0.4408812129584067}\n"
     ]
    },
    {
     "name": "stderr",
     "output_type": "stream",
     "text": [
      "Training Batches: 100%|██████████| 1713/1713 [00:52<00:00, 32.85it/s]\n",
      "Running inference: 100%|██████████| 1262/1262 [00:10<00:00, 123.30it/s]\n",
      "Running inference: 100%|██████████| 1266/1266 [00:10<00:00, 119.02it/s]\n"
     ]
    },
    {
     "name": "stdout",
     "output_type": "stream",
     "text": [
      "Epoch: 007, Average Loss: 0.2578\n",
      "Validation: {'precision': 0.4428041557618878, 'recall': 0.3878965242825346, 'f1': 0.39768098276061103, 'auc': 0.7739290164985486, 'prauc': 0.4397932064387262}\n",
      "Test:       {'precision': 0.4518202434596318, 'recall': 0.3891797203397819, 'f1': 0.3974736572567653, 'auc': 0.7714610718346516, 'prauc': 0.4435170513532689}\n"
     ]
    },
    {
     "name": "stderr",
     "output_type": "stream",
     "text": [
      "Training Batches: 100%|██████████| 1713/1713 [00:52<00:00, 32.77it/s]\n",
      "Running inference: 100%|██████████| 1262/1262 [00:10<00:00, 121.29it/s]\n",
      "Running inference: 100%|██████████| 1266/1266 [00:10<00:00, 117.61it/s]\n"
     ]
    },
    {
     "name": "stdout",
     "output_type": "stream",
     "text": [
      "Epoch: 008, Average Loss: 0.2528\n",
      "Validation: {'precision': 0.4773714941056496, 'recall': 0.37133898583984887, 'f1': 0.3917353711384394, 'auc': 0.77586355527302, 'prauc': 0.4416335087989209}\n",
      "Test:       {'precision': 0.48213653052233013, 'recall': 0.37306300019373245, 'f1': 0.39189339405430523, 'auc': 0.7728643384894577, 'prauc': 0.44364028950999207}\n"
     ]
    },
    {
     "name": "stderr",
     "output_type": "stream",
     "text": [
      "Training Batches: 100%|██████████| 1713/1713 [00:52<00:00, 32.50it/s]\n",
      "Running inference: 100%|██████████| 1262/1262 [00:10<00:00, 122.75it/s]\n",
      "Running inference: 100%|██████████| 1266/1266 [00:10<00:00, 117.40it/s]\n"
     ]
    },
    {
     "name": "stdout",
     "output_type": "stream",
     "text": [
      "Epoch: 009, Average Loss: 0.2479\n",
      "Validation: {'precision': 0.47645713932564543, 'recall': 0.3615401586654328, 'f1': 0.3842600965858904, 'auc': 0.7713513261154333, 'prauc': 0.44104919604506976}\n",
      "Test:       {'precision': 0.46630978289140645, 'recall': 0.3630397072989, 'f1': 0.3825612842577016, 'auc': 0.7693505259186028, 'prauc': 0.4415691540347545}\n"
     ]
    },
    {
     "name": "stderr",
     "output_type": "stream",
     "text": [
      "Training Batches: 100%|██████████| 1713/1713 [00:52<00:00, 32.64it/s]\n",
      "Running inference: 100%|██████████| 1262/1262 [00:10<00:00, 122.98it/s]\n",
      "Running inference: 100%|██████████| 1266/1266 [00:10<00:00, 118.72it/s]\n"
     ]
    },
    {
     "name": "stdout",
     "output_type": "stream",
     "text": [
      "Epoch: 010, Average Loss: 0.2410\n",
      "Validation: {'precision': 0.45109467101900985, 'recall': 0.36863985732216153, 'f1': 0.39313590466486675, 'auc': 0.771443619460419, 'prauc': 0.4333958080890319}\n",
      "Test:       {'precision': 0.5077691710047811, 'recall': 0.37059482346969175, 'f1': 0.39445642723822133, 'auc': 0.7665525921957539, 'prauc': 0.4348167007180134}\n"
     ]
    },
    {
     "name": "stderr",
     "output_type": "stream",
     "text": [
      "Training Batches: 100%|██████████| 1713/1713 [00:52<00:00, 32.60it/s]\n",
      "Running inference: 100%|██████████| 1262/1262 [00:10<00:00, 122.90it/s]\n",
      "Running inference: 100%|██████████| 1266/1266 [00:10<00:00, 118.63it/s]\n"
     ]
    },
    {
     "name": "stdout",
     "output_type": "stream",
     "text": [
      "Epoch: 011, Average Loss: 0.2369\n",
      "Validation: {'precision': 0.5047871606158677, 'recall': 0.36891576452261926, 'f1': 0.38469128542341635, 'auc': 0.771726921082505, 'prauc': 0.4333649396290859}\n",
      "Test:       {'precision': 0.4780024625443555, 'recall': 0.36827214568541433, 'f1': 0.38252346621696415, 'auc': 0.769531999827666, 'prauc': 0.43638925021596575}\n"
     ]
    },
    {
     "name": "stderr",
     "output_type": "stream",
     "text": [
      "Training Batches: 100%|██████████| 1713/1713 [00:52<00:00, 32.87it/s]\n",
      "Running inference: 100%|██████████| 1262/1262 [00:10<00:00, 123.44it/s]\n",
      "Running inference: 100%|██████████| 1266/1266 [00:10<00:00, 118.01it/s]\n"
     ]
    },
    {
     "name": "stdout",
     "output_type": "stream",
     "text": [
      "Epoch: 012, Average Loss: 0.2317\n",
      "Validation: {'precision': 0.4657023933359056, 'recall': 0.3545436951647182, 'f1': 0.38286355395732163, 'auc': 0.7664124488082781, 'prauc': 0.4290132099126463}\n",
      "Test:       {'precision': 0.5093236796023191, 'recall': 0.3584194489930836, 'f1': 0.3854919050047022, 'auc': 0.7646718853386564, 'prauc': 0.4320590112140231}\n",
      "\n",
      "Early stopping triggered after 12 epochs (no improvement for 5 epochs).\n",
      "\n",
      "Best validation performance:\n",
      "{'global': {'precision': 0.4428041557618878, 'recall': 0.3878965242825346, 'f1': 0.39768098276061103, 'auc': 0.7739290164985486, 'prauc': 0.4397932064387262}, 'per_class':                                            precision    recall        f1  \\\n",
      "Acute and unspecified renal failure         0.492308  0.387208  0.433478   \n",
      "Acute cerebrovascular disease               0.000000  0.000000  0.000000   \n",
      "Acute myocardial infarction                 0.000000  0.000000  0.000000   \n",
      "Cardiac dysrhythmias                        0.866469  0.639883  0.736134   \n",
      "Chronic kidney disease                      0.784229  0.778160  0.781183   \n",
      "Chronic obstructive pulmonary disease       0.644647  0.631696  0.638106   \n",
      "Conduction disorders                        0.000000  0.000000  0.000000   \n",
      "Congestive heart failure; nonhypertensive   0.716146  0.728799  0.722417   \n",
      "Coronary atherosclerosis and related        0.788631  0.809367  0.798865   \n",
      "Disorders of lipid metabolism               0.774124  0.758985  0.766480   \n",
      "Essential hypertension                      0.752884  0.808480  0.779692   \n",
      "Fluid and electrolyte disorders             0.443575  0.489519  0.465416   \n",
      "Gastrointestinal hemorrhage                 0.000000  0.000000  0.000000   \n",
      "Hypertension with complications             0.731544  0.759204  0.745117   \n",
      "Other liver diseases                        0.000000  0.000000  0.000000   \n",
      "Other lower respiratory disease             0.498141  0.172680  0.256459   \n",
      "Pneumonia                                   0.200000  0.005464  0.010638   \n",
      "Septicemia (except in labor)                0.277778  0.012690  0.024272   \n",
      "\n",
      "                                                auc     prauc  \n",
      "Acute and unspecified renal failure        0.745554  0.447990  \n",
      "Acute cerebrovascular disease              0.651751  0.011119  \n",
      "Acute myocardial infarction                0.796270  0.207077  \n",
      "Cardiac dysrhythmias                       0.857920  0.774095  \n",
      "Chronic kidney disease                     0.926153  0.848206  \n",
      "Chronic obstructive pulmonary disease      0.887032  0.533435  \n",
      "Conduction disorders                       0.761639  0.059757  \n",
      "Congestive heart failure; nonhypertensive  0.905852  0.780595  \n",
      "Coronary atherosclerosis and related       0.928829  0.798756  \n",
      "Disorders of lipid metabolism              0.874465  0.772305  \n",
      "Essential hypertension                     0.863309  0.796036  \n",
      "Fluid and electrolyte disorders            0.644628  0.460077  \n",
      "Gastrointestinal hemorrhage                0.584751  0.038511  \n",
      "Hypertension with complications            0.919473  0.779347  \n",
      "Other liver diseases                       0.610842  0.016946  \n",
      "Other lower respiratory disease            0.698522  0.346044  \n",
      "Pneumonia                                  0.651078  0.121571  \n",
      "Septicemia (except in labor)               0.622654  0.124411  }\n",
      "Corresponding test performance:\n",
      "{'global': {'precision': 0.4518202434596318, 'recall': 0.3891797203397819, 'f1': 0.3974736572567653, 'auc': 0.7714610718346516, 'prauc': 0.4435170513532689}, 'per_class':                                            precision    recall        f1  \\\n",
      "Acute and unspecified renal failure         0.465315  0.376186  0.416031   \n",
      "Acute cerebrovascular disease               0.000000  0.000000  0.000000   \n",
      "Acute myocardial infarction                 0.000000  0.000000  0.000000   \n",
      "Cardiac dysrhythmias                        0.824025  0.589299  0.687170   \n",
      "Chronic kidney disease                      0.816924  0.792423  0.804487   \n",
      "Chronic obstructive pulmonary disease       0.632319  0.633803  0.633060   \n",
      "Conduction disorders                        0.000000  0.000000  0.000000   \n",
      "Congestive heart failure; nonhypertensive   0.731605  0.756266  0.743731   \n",
      "Coronary atherosclerosis and related        0.771714  0.803843  0.787451   \n",
      "Disorders of lipid metabolism               0.765366  0.780381  0.772801   \n",
      "Essential hypertension                      0.749885  0.810070  0.778816   \n",
      "Fluid and electrolyte disorders             0.425448  0.478261  0.450311   \n",
      "Gastrointestinal hemorrhage                 0.000000  0.000000  0.000000   \n",
      "Hypertension with complications             0.772187  0.790262  0.781120   \n",
      "Other liver diseases                        0.000000  0.000000  0.000000   \n",
      "Other lower respiratory disease             0.520833  0.175234  0.262238   \n",
      "Pneumonia                                   0.300000  0.007712  0.015038   \n",
      "Septicemia (except in labor)                0.357143  0.011494  0.022272   \n",
      "\n",
      "                                                auc     prauc  \n",
      "Acute and unspecified renal failure        0.734366  0.428455  \n",
      "Acute cerebrovascular disease              0.582883  0.012919  \n",
      "Acute myocardial infarction                0.803567  0.169598  \n",
      "Cardiac dysrhythmias                       0.839111  0.729295  \n",
      "Chronic kidney disease                     0.926167  0.863798  \n",
      "Chronic obstructive pulmonary disease      0.874962  0.521574  \n",
      "Conduction disorders                       0.759561  0.122604  \n",
      "Congestive heart failure; nonhypertensive  0.906408  0.784493  \n",
      "Coronary atherosclerosis and related       0.928464  0.802985  \n",
      "Disorders of lipid metabolism              0.877904  0.763692  \n",
      "Essential hypertension                     0.863266  0.774025  \n",
      "Fluid and electrolyte disorders            0.643556  0.453085  \n",
      "Gastrointestinal hemorrhage                0.614568  0.087935  \n",
      "Hypertension with complications            0.930651  0.809641  \n",
      "Other liver diseases                       0.651700  0.028465  \n",
      "Other lower respiratory disease            0.671888  0.363682  \n",
      "Pneumonia                                  0.619966  0.115144  \n",
      "Septicemia (except in labor)               0.657310  0.151915  }\n",
      "Corresponding test-long performance:\n",
      "{'global': {'precision': 0.440582917861289, 'recall': 0.3764606822281561, 'f1': 0.3891269160351188, 'auc': 0.7724328775684011, 'prauc': 0.45072499520484727}, 'per_class':                                            precision    recall        f1  \\\n",
      "Acute and unspecified renal failure         0.407407  0.286458  0.336391   \n",
      "Acute cerebrovascular disease               0.000000  0.000000  0.000000   \n",
      "Acute myocardial infarction                 0.000000  0.000000  0.000000   \n",
      "Cardiac dysrhythmias                        0.830065  0.585253  0.686486   \n",
      "Chronic kidney disease                      0.857143  0.771429  0.812030   \n",
      "Chronic obstructive pulmonary disease       0.652778  0.594937  0.622517   \n",
      "Conduction disorders                        0.000000  0.000000  0.000000   \n",
      "Congestive heart failure; nonhypertensive   0.720670  0.704918  0.712707   \n",
      "Coronary atherosclerosis and related        0.711443  0.764706  0.737113   \n",
      "Disorders of lipid metabolism               0.743750  0.777778  0.760383   \n",
      "Essential hypertension                      0.788030  0.840426  0.813385   \n",
      "Fluid and electrolyte disorders             0.433022  0.474403  0.452769   \n",
      "Gastrointestinal hemorrhage                 0.000000  0.000000  0.000000   \n",
      "Hypertension with complications             0.807018  0.802326  0.804665   \n",
      "Other liver diseases                        0.000000  0.000000  0.000000   \n",
      "Other lower respiratory disease             0.479167  0.160839  0.240838   \n",
      "Pneumonia                                   0.000000  0.000000  0.000000   \n",
      "Septicemia (except in labor)                0.500000  0.012821  0.025000   \n",
      "\n",
      "                                                auc     prauc  \n",
      "Acute and unspecified renal failure        0.691231  0.362508  \n",
      "Acute cerebrovascular disease              0.528161  0.015459  \n",
      "Acute myocardial infarction                0.834996  0.126203  \n",
      "Cardiac dysrhythmias                       0.834962  0.702887  \n",
      "Chronic kidney disease                     0.914529  0.865446  \n",
      "Chronic obstructive pulmonary disease      0.856598  0.476273  \n",
      "Conduction disorders                       0.905841  0.371489  \n",
      "Congestive heart failure; nonhypertensive  0.907577  0.770508  \n",
      "Coronary atherosclerosis and related       0.913367  0.738246  \n",
      "Disorders of lipid metabolism              0.877010  0.759688  \n",
      "Essential hypertension                     0.883750  0.809855  \n",
      "Fluid and electrolyte disorders            0.640227  0.454160  \n",
      "Gastrointestinal hemorrhage                0.649008  0.137896  \n",
      "Hypertension with complications            0.931133  0.811159  \n",
      "Other liver diseases                       0.618129  0.064156  \n",
      "Other lower respiratory disease            0.627959  0.348298  \n",
      "Pneumonia                                  0.642440  0.119750  \n",
      "Septicemia (except in labor)               0.646874  0.179069  }\n",
      "[INFO] Random seed set to 3163119785\n",
      "Training with seed: 3163119785\n"
     ]
    },
    {
     "name": "stderr",
     "output_type": "stream",
     "text": [
      "Training Batches: 100%|██████████| 1713/1713 [00:52<00:00, 32.80it/s]\n",
      "Running inference: 100%|██████████| 1262/1262 [00:10<00:00, 123.83it/s]\n",
      "Running inference: 100%|██████████| 1266/1266 [00:10<00:00, 118.92it/s]\n"
     ]
    },
    {
     "name": "stdout",
     "output_type": "stream",
     "text": [
      "Epoch: 001, Average Loss: 0.3163\n",
      "Validation: {'precision': 0.3622829113582403, 'recall': 0.3129755526308087, 'f1': 0.32388436884957666, 'auc': 0.7426339684358788, 'prauc': 0.40283532444244163}\n",
      "Test:       {'precision': 0.3669178969925635, 'recall': 0.31840218450861385, 'f1': 0.32824673608307126, 'auc': 0.7423187837409636, 'prauc': 0.40422357677040716}\n"
     ]
    },
    {
     "name": "stderr",
     "output_type": "stream",
     "text": [
      "Training Batches: 100%|██████████| 1713/1713 [00:52<00:00, 32.56it/s]\n",
      "Running inference: 100%|██████████| 1262/1262 [00:10<00:00, 122.92it/s]\n",
      "Running inference: 100%|██████████| 1266/1266 [00:10<00:00, 118.02it/s]\n"
     ]
    },
    {
     "name": "stdout",
     "output_type": "stream",
     "text": [
      "Epoch: 002, Average Loss: 0.2906\n",
      "Validation: {'precision': 0.4000559932095158, 'recall': 0.3296372308240556, 'f1': 0.3501158833253393, 'auc': 0.7594194126631517, 'prauc': 0.4294725278692123}\n",
      "Test:       {'precision': 0.4470138719157435, 'recall': 0.3346270357246143, 'f1': 0.3535393050612773, 'auc': 0.7631416261257009, 'prauc': 0.42928660842669947}\n"
     ]
    },
    {
     "name": "stderr",
     "output_type": "stream",
     "text": [
      "Training Batches: 100%|██████████| 1713/1713 [00:52<00:00, 32.74it/s]\n",
      "Running inference: 100%|██████████| 1262/1262 [00:10<00:00, 121.38it/s]\n",
      "Running inference: 100%|██████████| 1266/1266 [00:10<00:00, 118.43it/s]\n"
     ]
    },
    {
     "name": "stdout",
     "output_type": "stream",
     "text": [
      "Epoch: 003, Average Loss: 0.2811\n",
      "Validation: {'precision': 0.44763765943490647, 'recall': 0.335630529172556, 'f1': 0.36987538003822945, 'auc': 0.7646552415332992, 'prauc': 0.44120875011394745}\n",
      "Test:       {'precision': 0.4452772183341616, 'recall': 0.3377366454923841, 'f1': 0.36958830696227796, 'auc': 0.7712418904296005, 'prauc': 0.43969736175156376}\n"
     ]
    },
    {
     "name": "stderr",
     "output_type": "stream",
     "text": [
      "Training Batches: 100%|██████████| 1713/1713 [00:52<00:00, 32.52it/s]\n",
      "Running inference: 100%|██████████| 1262/1262 [00:10<00:00, 120.74it/s]\n",
      "Running inference: 100%|██████████| 1266/1266 [00:10<00:00, 117.25it/s]\n"
     ]
    },
    {
     "name": "stdout",
     "output_type": "stream",
     "text": [
      "Epoch: 004, Average Loss: 0.2744\n",
      "Validation: {'precision': 0.4622246261403171, 'recall': 0.3628953095116507, 'f1': 0.3780629213056899, 'auc': 0.7735588319680555, 'prauc': 0.4396550736954501}\n",
      "Test:       {'precision': 0.42735976455391383, 'recall': 0.3615008143301534, 'f1': 0.37416521669485964, 'auc': 0.7747449225912246, 'prauc': 0.4375017660294964}\n"
     ]
    },
    {
     "name": "stderr",
     "output_type": "stream",
     "text": [
      "Training Batches: 100%|██████████| 1713/1713 [00:52<00:00, 32.56it/s]\n",
      "Running inference: 100%|██████████| 1262/1262 [00:10<00:00, 123.86it/s]\n",
      "Running inference: 100%|██████████| 1266/1266 [00:10<00:00, 119.04it/s]\n"
     ]
    },
    {
     "name": "stdout",
     "output_type": "stream",
     "text": [
      "Epoch: 005, Average Loss: 0.2695\n",
      "Validation: {'precision': 0.4658589110520508, 'recall': 0.3595136520013279, 'f1': 0.3789580238338753, 'auc': 0.7779183713120218, 'prauc': 0.4445703002942493}\n",
      "Test:       {'precision': 0.43206732293015476, 'recall': 0.36036553865866505, 'f1': 0.37661632413687, 'auc': 0.7749410956942393, 'prauc': 0.44372925169490773}\n"
     ]
    },
    {
     "name": "stderr",
     "output_type": "stream",
     "text": [
      "Training Batches: 100%|██████████| 1713/1713 [00:51<00:00, 33.01it/s]\n",
      "Running inference: 100%|██████████| 1262/1262 [00:10<00:00, 122.06it/s]\n",
      "Running inference: 100%|██████████| 1266/1266 [00:10<00:00, 117.28it/s]\n"
     ]
    },
    {
     "name": "stdout",
     "output_type": "stream",
     "text": [
      "Epoch: 006, Average Loss: 0.2635\n",
      "Validation: {'precision': 0.49337218368586705, 'recall': 0.361098593080772, 'f1': 0.38473264230898657, 'auc': 0.7765675158158427, 'prauc': 0.4444568425720732}\n",
      "Test:       {'precision': 0.48792160527541206, 'recall': 0.36300685312760916, 'f1': 0.38333726767103254, 'auc': 0.7711151981444616, 'prauc': 0.4395774467271672}\n"
     ]
    },
    {
     "name": "stderr",
     "output_type": "stream",
     "text": [
      "Training Batches: 100%|██████████| 1713/1713 [00:51<00:00, 33.00it/s]\n",
      "Running inference: 100%|██████████| 1262/1262 [00:10<00:00, 123.97it/s]\n",
      "Running inference: 100%|██████████| 1266/1266 [00:10<00:00, 118.77it/s]\n"
     ]
    },
    {
     "name": "stdout",
     "output_type": "stream",
     "text": [
      "Epoch: 007, Average Loss: 0.2590\n",
      "Validation: {'precision': 0.45515986749095305, 'recall': 0.3585398284880762, 'f1': 0.3788655350038396, 'auc': 0.7704376672776323, 'prauc': 0.44118907719528644}\n",
      "Test:       {'precision': 0.4229451539100494, 'recall': 0.3611247698095854, 'f1': 0.3771458518155178, 'auc': 0.7730594514842472, 'prauc': 0.4389914458029416}\n"
     ]
    },
    {
     "name": "stderr",
     "output_type": "stream",
     "text": [
      "Training Batches: 100%|██████████| 1713/1713 [00:52<00:00, 32.78it/s]\n",
      "Running inference: 100%|██████████| 1262/1262 [00:10<00:00, 122.12it/s]\n",
      "Running inference: 100%|██████████| 1266/1266 [00:10<00:00, 118.33it/s]\n"
     ]
    },
    {
     "name": "stdout",
     "output_type": "stream",
     "text": [
      "Epoch: 008, Average Loss: 0.2529\n",
      "Validation: {'precision': 0.4665947933825416, 'recall': 0.3425454565616777, 'f1': 0.37199297402532233, 'auc': 0.7715065332952585, 'prauc': 0.4402514432315996}\n",
      "Test:       {'precision': 0.44544916154083875, 'recall': 0.3433882557548348, 'f1': 0.36786806861490706, 'auc': 0.770798325274499, 'prauc': 0.4383742957489899}\n"
     ]
    },
    {
     "name": "stderr",
     "output_type": "stream",
     "text": [
      "Training Batches: 100%|██████████| 1713/1713 [00:52<00:00, 32.58it/s]\n",
      "Running inference: 100%|██████████| 1262/1262 [00:10<00:00, 122.42it/s]\n",
      "Running inference: 100%|██████████| 1266/1266 [00:10<00:00, 119.05it/s]\n"
     ]
    },
    {
     "name": "stdout",
     "output_type": "stream",
     "text": [
      "Epoch: 009, Average Loss: 0.2480\n",
      "Validation: {'precision': 0.46940400629752727, 'recall': 0.35897739544047175, 'f1': 0.38747768395834253, 'auc': 0.7692075370950557, 'prauc': 0.43959676368149175}\n",
      "Test:       {'precision': 0.45487611882301615, 'recall': 0.3584753284527331, 'f1': 0.38361337537664764, 'auc': 0.7683939343190067, 'prauc': 0.43650614285415057}\n"
     ]
    },
    {
     "name": "stderr",
     "output_type": "stream",
     "text": [
      "Training Batches: 100%|██████████| 1713/1713 [00:52<00:00, 32.36it/s]\n",
      "Running inference: 100%|██████████| 1262/1262 [00:10<00:00, 123.04it/s]\n",
      "Running inference: 100%|██████████| 1266/1266 [00:10<00:00, 118.68it/s]\n"
     ]
    },
    {
     "name": "stdout",
     "output_type": "stream",
     "text": [
      "Epoch: 010, Average Loss: 0.2433\n",
      "Validation: {'precision': 0.4592646560293272, 'recall': 0.35684472283164087, 'f1': 0.37954664057974924, 'auc': 0.771158860803776, 'prauc': 0.43714512169175584}\n",
      "Test:       {'precision': 0.4515307939684469, 'recall': 0.3594900942688167, 'f1': 0.3797606539077049, 'auc': 0.7710523885073095, 'prauc': 0.4374560286963859}\n"
     ]
    },
    {
     "name": "stderr",
     "output_type": "stream",
     "text": [
      "Training Batches: 100%|██████████| 1713/1713 [00:52<00:00, 32.70it/s]\n",
      "Running inference: 100%|██████████| 1262/1262 [00:10<00:00, 123.63it/s]\n",
      "Running inference: 100%|██████████| 1266/1266 [00:10<00:00, 119.46it/s]\n"
     ]
    },
    {
     "name": "stdout",
     "output_type": "stream",
     "text": [
      "Epoch: 011, Average Loss: 0.2368\n",
      "Validation: {'precision': 0.49506278115437297, 'recall': 0.36884324256179607, 'f1': 0.39064945269990453, 'auc': 0.7724499725910179, 'prauc': 0.43680541884414054}\n",
      "Test:       {'precision': 0.47358622103568926, 'recall': 0.3735946176912273, 'f1': 0.3925895656061502, 'auc': 0.7688608012989481, 'prauc': 0.4345109254991718}\n"
     ]
    },
    {
     "name": "stderr",
     "output_type": "stream",
     "text": [
      "Training Batches: 100%|██████████| 1713/1713 [00:52<00:00, 32.91it/s]\n",
      "Running inference: 100%|██████████| 1262/1262 [00:10<00:00, 124.20it/s]\n",
      "Running inference: 100%|██████████| 1266/1266 [00:10<00:00, 118.90it/s]\n"
     ]
    },
    {
     "name": "stdout",
     "output_type": "stream",
     "text": [
      "Epoch: 012, Average Loss: 0.2313\n",
      "Validation: {'precision': 0.4825427090438114, 'recall': 0.3715318267493917, 'f1': 0.39554646408644323, 'auc': 0.7702136404535205, 'prauc': 0.4345965012708435}\n",
      "Test:       {'precision': 0.5108902315544129, 'recall': 0.3693705167318601, 'f1': 0.3902104846246799, 'auc': 0.7642816995391571, 'prauc': 0.433303154229437}\n"
     ]
    },
    {
     "name": "stderr",
     "output_type": "stream",
     "text": [
      "Training Batches: 100%|██████████| 1713/1713 [00:52<00:00, 32.86it/s]\n",
      "Running inference: 100%|██████████| 1262/1262 [00:10<00:00, 123.70it/s]\n",
      "Running inference: 100%|██████████| 1266/1266 [00:10<00:00, 117.55it/s]\n"
     ]
    },
    {
     "name": "stdout",
     "output_type": "stream",
     "text": [
      "Epoch: 013, Average Loss: 0.2263\n",
      "Validation: {'precision': 0.4886488179612056, 'recall': 0.36807495968710885, 'f1': 0.3909092468912237, 'auc': 0.7692263690070008, 'prauc': 0.43515584283077174}\n",
      "Test:       {'precision': 0.4750273524807457, 'recall': 0.37314652707747453, 'f1': 0.3937952462949941, 'auc': 0.7657450724099396, 'prauc': 0.43346654288410413}\n"
     ]
    },
    {
     "name": "stderr",
     "output_type": "stream",
     "text": [
      "Training Batches: 100%|██████████| 1713/1713 [00:52<00:00, 32.73it/s]\n",
      "Running inference: 100%|██████████| 1262/1262 [00:10<00:00, 121.73it/s]\n",
      "Running inference: 100%|██████████| 1266/1266 [00:10<00:00, 117.85it/s]\n"
     ]
    },
    {
     "name": "stdout",
     "output_type": "stream",
     "text": [
      "Epoch: 014, Average Loss: 0.2208\n",
      "Validation: {'precision': 0.5074857287635477, 'recall': 0.3826972635567656, 'f1': 0.39772332276786504, 'auc': 0.7677922145504161, 'prauc': 0.4297934908531442}\n",
      "Test:       {'precision': 0.5206063537551502, 'recall': 0.38605959295926856, 'f1': 0.4000128265434976, 'auc': 0.7633459793988345, 'prauc': 0.43218652611607405}\n"
     ]
    },
    {
     "name": "stderr",
     "output_type": "stream",
     "text": [
      "Training Batches: 100%|██████████| 1713/1713 [00:52<00:00, 32.71it/s]\n",
      "Running inference: 100%|██████████| 1262/1262 [00:10<00:00, 121.02it/s]\n",
      "Running inference: 100%|██████████| 1266/1266 [00:10<00:00, 117.75it/s]\n"
     ]
    },
    {
     "name": "stdout",
     "output_type": "stream",
     "text": [
      "Epoch: 015, Average Loss: 0.2163\n",
      "Validation: {'precision': 0.48747731575082526, 'recall': 0.3775971865833518, 'f1': 0.392305989654367, 'auc': 0.7652556390691833, 'prauc': 0.4302660532612161}\n",
      "Test:       {'precision': 0.48066893843851105, 'recall': 0.3824107684937445, 'f1': 0.39483656895274455, 'auc': 0.7598546577301541, 'prauc': 0.426575587781434}\n"
     ]
    },
    {
     "name": "stderr",
     "output_type": "stream",
     "text": [
      "Training Batches: 100%|██████████| 1713/1713 [00:52<00:00, 32.73it/s]\n",
      "Running inference: 100%|██████████| 1262/1262 [00:10<00:00, 122.88it/s]\n",
      "Running inference: 100%|██████████| 1266/1266 [00:10<00:00, 116.67it/s]\n"
     ]
    },
    {
     "name": "stdout",
     "output_type": "stream",
     "text": [
      "Epoch: 016, Average Loss: 0.2099\n",
      "Validation: {'precision': 0.49023143767025534, 'recall': 0.3862232997327829, 'f1': 0.3984212135992766, 'auc': 0.7629316674464447, 'prauc': 0.42594608443068904}\n",
      "Test:       {'precision': 0.49773984386661, 'recall': 0.39095485057358786, 'f1': 0.4012831171943006, 'auc': 0.7565799363805041, 'prauc': 0.42394270943227447}\n"
     ]
    },
    {
     "name": "stderr",
     "output_type": "stream",
     "text": [
      "Training Batches: 100%|██████████| 1713/1713 [00:52<00:00, 32.83it/s]\n",
      "Running inference: 100%|██████████| 1262/1262 [00:10<00:00, 122.53it/s]\n",
      "Running inference: 100%|██████████| 1266/1266 [00:10<00:00, 119.69it/s]\n"
     ]
    },
    {
     "name": "stdout",
     "output_type": "stream",
     "text": [
      "Epoch: 017, Average Loss: 0.2064\n",
      "Validation: {'precision': 0.4687091543745383, 'recall': 0.3719271087221923, 'f1': 0.3942148590509889, 'auc': 0.7661881160776294, 'prauc': 0.4261809598398301}\n",
      "Test:       {'precision': 0.49547428830811335, 'recall': 0.36979750908270304, 'f1': 0.3897483534896254, 'auc': 0.7628052735040618, 'prauc': 0.4256670365381677}\n"
     ]
    },
    {
     "name": "stderr",
     "output_type": "stream",
     "text": [
      "Training Batches: 100%|██████████| 1713/1713 [00:52<00:00, 32.72it/s]\n",
      "Running inference: 100%|██████████| 1262/1262 [00:10<00:00, 121.88it/s]\n",
      "Running inference: 100%|██████████| 1266/1266 [00:10<00:00, 116.83it/s]\n"
     ]
    },
    {
     "name": "stdout",
     "output_type": "stream",
     "text": [
      "Epoch: 018, Average Loss: 0.2018\n",
      "Validation: {'precision': 0.5162877702677572, 'recall': 0.36346889673324534, 'f1': 0.38912709961727804, 'auc': 0.765111440149161, 'prauc': 0.4267733799233129}\n",
      "Test:       {'precision': 0.5153824411160148, 'recall': 0.362397531946563, 'f1': 0.3842434321628646, 'auc': 0.7601922802187833, 'prauc': 0.4272038708670924}\n"
     ]
    },
    {
     "name": "stderr",
     "output_type": "stream",
     "text": [
      "Training Batches: 100%|██████████| 1713/1713 [00:52<00:00, 32.64it/s]\n",
      "Running inference: 100%|██████████| 1262/1262 [00:10<00:00, 122.07it/s]\n",
      "Running inference: 100%|██████████| 1266/1266 [00:10<00:00, 120.02it/s]\n"
     ]
    },
    {
     "name": "stdout",
     "output_type": "stream",
     "text": [
      "Epoch: 019, Average Loss: 0.1980\n",
      "Validation: {'precision': 0.4918959658681314, 'recall': 0.3775991594139352, 'f1': 0.39503992502045226, 'auc': 0.7577736463618705, 'prauc': 0.42315465396473245}\n",
      "Test:       {'precision': 0.52499260013022, 'recall': 0.3796287516457493, 'f1': 0.3987049855962195, 'auc': 0.7592465354158362, 'prauc': 0.424016338573005}\n"
     ]
    },
    {
     "name": "stderr",
     "output_type": "stream",
     "text": [
      "Training Batches: 100%|██████████| 1713/1713 [00:52<00:00, 32.54it/s]\n",
      "Running inference:  87%|████████▋ | 1092/1262 [00:08<00:01, 110.31it/s]"
     ]
    }
   ],
   "source": [
    "final_metrics, final_long_seq_metrics = [], []\n",
    "\n",
    "for seed in seeds:\n",
    "    args[\"seed\"] = seed\n",
    "    set_random_seed(args[\"seed\"])\n",
    "    print(f\"Training with seed: {args['seed']}\")\n",
    "    \n",
    "    # Initialize model, optimizer, and loss function\n",
    "    model = HBERT_Finetune(args, tokenizer)\n",
    "    model.load_weight(torch.load(pretrained_weight_path, weights_only=True))\n",
    "    model = model.to(device)\n",
    "    optimizer = torch.optim.AdamW(model.parameters(), lr=args[\"lr\"])\n",
    "    \n",
    "    best_test_metric, best_test_long_seq_metric = train_with_early_stopping(\n",
    "        model, \n",
    "        train_dataloader, \n",
    "        val_dataloader, \n",
    "        test_dataloader,\n",
    "        optimizer, \n",
    "        loss_fn, \n",
    "        device, \n",
    "        args,\n",
    "        val_long_seq_idx,\n",
    "        test_long_seq_idx,\n",
    "        task_type=task_type)\n",
    "    \n",
    "    final_metrics.append(best_test_metric)\n",
    "    final_long_seq_metrics.append(best_test_long_seq_metric)"
   ]
  },
  {
   "cell_type": "code",
   "execution_count": null,
   "id": "4a86ec13",
   "metadata": {},
   "outputs": [],
   "source": [
    "def topk_avg_performance_formatted(performances, long_seq_performances, k=5):\n",
    "    metrics = [\"f1\", \"auc\", \"prauc\"]\n",
    "    scores = {m: np.array([p[m] for p in performances]) for m in metrics}\n",
    "\n",
    "    # 计算排名（值越大排名越靠前）\n",
    "    ranks = {m: (-scores[m]).argsort().argsort() + 1 for m in metrics}\n",
    "    avg_ranks = np.mean(np.stack([ranks[m] for m in metrics], axis=1), axis=1)\n",
    "\n",
    "    # 选 top-k\n",
    "    topk_idx = np.argsort(avg_ranks)[:k]\n",
    "    final_avg = {m: np.mean([performances[i][m] for i in topk_idx]) for m in performances[0].keys()}\n",
    "    final_std = {m: np.std([performances[i][m] for i in topk_idx], ddof=0) for m in performances[0].keys()}\n",
    "    final_long_seq_avg = {m: np.mean([long_seq_performances[i][m] for i in topk_idx]) for m in long_seq_performances[0].keys()}\n",
    "    final_long_seq_std = {m: np.std([long_seq_performances[i][m] for i in topk_idx], ddof=0) for m in long_seq_performances[0].keys()}\n",
    "\n",
    "    # 打印结果（转百分比，均保留两位小数）\n",
    "    print(\"Final Metrics:\")\n",
    "    for m in performances[0].keys():\n",
    "        mean_val = final_avg[m] * 100\n",
    "        std_val = final_std[m] * 100\n",
    "        print(f\"{m}: {mean_val:.2f} ± {std_val:.2f}\")\n",
    "    print(\"\\nFinal Long Sequence Metrics:\")\n",
    "    for m in long_seq_performances[0].keys():\n",
    "        mean_val = final_long_seq_avg[m] * 100\n",
    "        std_val = final_long_seq_std[m] * 100\n",
    "        print(f\"{m}: {mean_val:.2f} ± {std_val:.2f}\")"
   ]
  },
  {
   "cell_type": "code",
   "execution_count": null,
   "id": "7f45284a",
   "metadata": {},
   "outputs": [],
   "source": [
    "def print_per_class_performance(dfs, col_name=\"prauc\"):\n",
    "    \"\"\"\n",
    "    输入一个 DataFrame 列表，对每个疾病在所有表格的指定列计算 mean ± std 并打印。\n",
    "\n",
    "    参数:\n",
    "        dfs (list[pd.DataFrame]): 多个表格组成的列表\n",
    "        col_name (str): 要计算的指标列名 (默认: \"prauc\")\n",
    "    \"\"\"\n",
    "    # 拼接所有表格\n",
    "    all_values = pd.concat(dfs, axis=0)\n",
    "\n",
    "    # 按疾病分组，计算 mean 和 std\n",
    "    grouped = all_values.groupby(all_values.index)[col_name].agg([\"mean\", \"std\"])\n",
    "\n",
    "    # 打印\n",
    "    for disease, row in grouped.iterrows():\n",
    "        mean_val = row[\"mean\"] * 100\n",
    "        std_val = row[\"std\"] * 100\n",
    "        print(f\"{disease}: {mean_val:.2f} ± {std_val:.2f}\")"
   ]
  },
  {
   "cell_type": "code",
   "execution_count": null,
   "id": "4c4663eb",
   "metadata": {},
   "outputs": [],
   "source": [
    "if task_type == \"binary\":\n",
    "    topk_avg_performance_formatted(final_metrics, final_long_seq_metrics)\n",
    "else:\n",
    "    final_metrics_global = [metrics[\"global\"] for metrics in final_metrics]\n",
    "    final_metrics_per_class = [metrics[\"per_class\"] for metrics in final_metrics]\n",
    "    final_long_seq_metrics_global = [metrics[\"global\"] for metrics in final_long_seq_metrics]\n",
    "    final_long_seq_metrics_per_class = [metrics[\"per_class\"] for metrics in final_long_seq_metrics]\n",
    "    topk_avg_performance_formatted(final_metrics_global, final_long_seq_metrics_global)\n",
    "    print(\"\\nPer-class performance, all patients:\")\n",
    "    print_per_class_performance(final_metrics_per_class, col_name=\"prauc\")\n",
    "    print(\"\\nPer-class performance, long seq:\")\n",
    "    print_per_class_performance(final_long_seq_metrics_per_class, col_name=\"prauc\")"
   ]
  }
 ],
 "metadata": {
  "kernelspec": {
   "display_name": "heart-cuda",
   "language": "python",
   "name": "heart-cuda"
  },
  "language_info": {
   "codemirror_mode": {
    "name": "ipython",
    "version": 3
   },
   "file_extension": ".py",
   "mimetype": "text/x-python",
   "name": "python",
   "nbconvert_exporter": "python",
   "pygments_lexer": "ipython3",
   "version": "3.10.18"
  }
 },
 "nbformat": 4,
 "nbformat_minor": 5
}
