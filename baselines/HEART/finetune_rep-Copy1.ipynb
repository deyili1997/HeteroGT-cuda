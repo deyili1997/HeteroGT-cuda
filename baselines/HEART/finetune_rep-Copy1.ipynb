{
 "cells": [
  {
   "cell_type": "code",
   "execution_count": 1,
   "id": "f9bb1634",
   "metadata": {},
   "outputs": [
    {
     "name": "stderr",
     "output_type": "stream",
     "text": [
      "Disabling PyTorch because PyTorch >= 2.1 is required but found 1.13.1\n",
      "None of PyTorch, TensorFlow >= 2.0, or Flax have been found. Models won't be available and only tokenizers, configuration and file/data utilities can be used.\n"
     ]
    }
   ],
   "source": [
    "from set_seed_utils import set_random_seed\n",
    "import os\n",
    "import random\n",
    "import numpy as np\n",
    "import pickle\n",
    "import torch\n",
    "from tqdm import tqdm\n",
    "from torch.utils.data import DataLoader\n",
    "from token_utils_rep import EHRTokenizer\n",
    "from dataset_utils_rep import HBERTFinetuneEHRDataset, batcher, UniqueIDSampler\n",
    "from HEART_rep import HBERT_Finetune\n",
    "import torch.nn.functional as F\n",
    "from sklearn.metrics import roc_auc_score, auc, precision_recall_curve, precision_recall_fscore_support"
   ]
  },
  {
   "cell_type": "code",
   "execution_count": 2,
   "id": "79dce127",
   "metadata": {},
   "outputs": [
    {
     "name": "stdout",
     "output_type": "stream",
     "text": [
      "cuda\n"
     ]
    }
   ],
   "source": [
    "device = torch.device(\"cuda\" if torch.cuda.is_available() else \"cpu\")\n",
    "print(device)"
   ]
  },
  {
   "cell_type": "code",
   "execution_count": 3,
   "id": "a26547b7",
   "metadata": {},
   "outputs": [],
   "source": [
    "@torch.no_grad()\n",
    "def evaluate(model, dataloader, device, task_type=\"binary\"):\n",
    "    model.eval()\n",
    "    predicted_scores, gt_labels = [], []\n",
    "    # gt_labels is ground truth labels, predicted_scores is the output logits\n",
    "    for _, batch in enumerate(tqdm(dataloader, desc=\"Running inference\")):                                                                                                                                                                                                                                                                                                                                                                                                                                                                                                                                                                                                                                                                                                                                                                                                                                                                                                                                                                                                                                                                                                                                                                                                                                                                                                          \n",
    "        batch = [x.to(device) if isinstance(x, torch.Tensor) else x for x in batch]\n",
    "        labels = batch[-1]\n",
    "        output_logits = model(*batch[:-1])\n",
    "        predicted_scores.append(output_logits)\n",
    "        gt_labels.append(labels)\n",
    "    \n",
    "    if task_type == \"binary\":\n",
    "        # standard binary classification evaluation\n",
    "        predicted_scores = torch.cat(predicted_scores, dim=0).view(-1)\n",
    "        gt_labels = torch.cat(gt_labels, dim=0).view(-1).cpu().numpy()\n",
    "        scores = predicted_scores.cpu().numpy()      \n",
    "    #   The threshold should be 0 because:\n",
    "\t# \tYour model outputs logits, not probabilities. logit > 0 ≡ probability > 0.5\n",
    "        predicted_labels = (predicted_scores > 0).float().cpu().numpy()\n",
    "\n",
    "        precision = (predicted_labels * gt_labels).sum() / (predicted_labels.sum() + 1e-8)\n",
    "        recall = (predicted_labels * gt_labels).sum() / (gt_labels.sum() + 1e-8)\n",
    "        f1 = 2 * precision * recall / (precision + recall + 1e-8)\n",
    "        roc_auc = roc_auc_score(gt_labels, scores)\n",
    "        precision_curve, recall_curve, _ = precision_recall_curve(gt_labels, scores)\n",
    "        pr_auc = auc(recall_curve, precision_curve)\n",
    "\n",
    "        return {\"precision\":precision, \"recall\":recall, \"f1\":f1, \"auc\":roc_auc, \"prauc\":pr_auc}\n",
    "    else:\n",
    "        # —— Multi-label classification evaluation (per-class over the batch) —— #\n",
    "        # predicted_scores: list[Tensor] -> [B, C] logits\n",
    "        logits = torch.cat(predicted_scores, dim=0)           # [B, C]\n",
    "        y_true_t = torch.cat(gt_labels, dim=0)                # [B, C]\n",
    "        # 1) 连续分数用于 AUC/PR-AUC：sigmoid(logits)\n",
    "        #    CPU + float16 无 sigmoid 实现，先升到 fp32\n",
    "        logits_for_sigmoid = logits.float() if (logits.device.type == \"cpu\" and logits.dtype == torch.float16) else logits\n",
    "        prob_t = torch.sigmoid(logits_for_sigmoid)            # [B, C] in [0,1]\n",
    "\n",
    "        # 2) 阈值化用于 P/R/F1：logits > 0 等价于 prob >= 0.5\n",
    "        y_pred_t = (logits > 0).to(torch.int32)               # [B, C]\n",
    "\n",
    "        # 转 numpy\n",
    "        y_true = y_true_t.cpu().numpy().astype(np.int32)      # [B, C]\n",
    "        y_pred = y_pred_t.cpu().numpy().astype(np.int32)      # [B, C]\n",
    "        scores = prob_t.cpu().numpy()                         # [B, C] float\n",
    "\n",
    "        # 3) 按类计算 Precision/Recall/F1\n",
    "        p_cls, r_cls, f1_cls, _ = precision_recall_fscore_support(\n",
    "            y_true, y_pred, average=None, zero_division=0\n",
    "        )\n",
    "\n",
    "        # 4) 按类计算 AUC/PR-AUC（遇到单一类别则设为 NaN）\n",
    "        C = y_true.shape[1]\n",
    "        aucs, praucs = [], []\n",
    "        for c in range(C):\n",
    "            yt, ys = y_true[:, c], scores[:, c]\n",
    "            if yt.max() == yt.min():           # 全 0 或全 1，曲线不定义\n",
    "                aucs.append(np.nan)\n",
    "                praucs.append(np.nan)\n",
    "                continue\n",
    "            aucs.append(roc_auc_score(yt, ys))\n",
    "            prec_curve, rec_curve, _ = precision_recall_curve(yt, ys)\n",
    "            praucs.append(auc(rec_curve, prec_curve))\n",
    "\n",
    "        # 5) 取宏平均（忽略 NaN）\n",
    "        ave_precision = float(np.mean(p_cls))\n",
    "        ave_recall    = float(np.mean(r_cls))\n",
    "        ave_f1        = float(np.mean(f1_cls))\n",
    "        ave_auc       = float(np.nanmean(aucs))   if np.any(~np.isnan(aucs))   else np.nan\n",
    "        ave_prauc     = float(np.nanmean(praucs)) if np.any(~np.isnan(praucs)) else np.nan\n",
    "\n",
    "        ave_f1, ave_auc, ave_prauc, ave_recall, ave_precision = np.mean(ave_f1), np.mean(ave_auc), np.mean(ave_prauc), np.mean(ave_recall), np.mean(ave_precision)\n",
    "        return {\"recall\":ave_recall, \"precision\":ave_precision, \"f1\":ave_f1, \"auc\":ave_auc, \"prauc\":ave_prauc}"
   ]
  },
  {
   "cell_type": "code",
   "execution_count": 4,
   "id": "57efbc7f",
   "metadata": {},
   "outputs": [],
   "source": [
    "args = {\n",
    "    \"seed\": 0,\n",
    "    \"dataset\": \"MIMIC-III\", \n",
    "    \"task\": \"next_diag_6m\",  # options: death, stay, readmission, next_diag_6m, next_diag_12m\n",
    "    \"encoder\": \"hi_edge\",  # options: hi_edge, hi_node, hi_edge_node\n",
    "    \"batch_size\": 4,\n",
    "    \"eval_batch_size\": 4,\n",
    "    \"pretrain_mask_rate\": 0.7,\n",
    "    \"pretrain_anomaly_rate\": 0.05,\n",
    "    \"pretrain_anomaly_loss_weight\": 1,\n",
    "    \"pretrain_pos_weight\": 1,\n",
    "    \"lr\": 1e-4,\n",
    "    \"epochs\": 50,\n",
    "    \"num_hidden_layers\": 5,\n",
    "    \"num_attention_heads\": 6,\n",
    "    \"attention_probs_dropout_prob\": 0.2,\n",
    "    \"hidden_dropout_prob\": 0.2,\n",
    "    \"edge_hidden_size\": 32,\n",
    "    \"hidden_size\": 288,  # must be divisible by num_attention_heads\n",
    "    \"intermediate_size\": 288,\n",
    "    \"save_model\": True,\n",
    "    \"gat\": \"dotattn\",\n",
    "    \"gnn_n_heads\": 1,\n",
    "    \"gnn_temp\": 1,\n",
    "    \"diag_med_emb\": \"tree\",  # simple, tree\n",
    "    \"early_stop_patience\": 5,\n",
    "}"
   ]
  },
  {
   "cell_type": "code",
   "execution_count": 5,
   "id": "1141f507",
   "metadata": {},
   "outputs": [
    {
     "name": "stdout",
     "output_type": "stream",
     "text": [
      "Pretrain-HBERT-MIMIC-III-hi_edge-0.7-0.05-1-288-32-5-6-0.2-0.2-288-dotattn-1-1-tree\n"
     ]
    }
   ],
   "source": [
    "exp_name = \"Pretrain-HBERT\" \\\n",
    "    + \"-\" + str(args[\"dataset\"]) \\\n",
    "    + \"-\" + str(args[\"encoder\"]) \\\n",
    "    + \"-\" + str(args[\"pretrain_mask_rate\"]) \\\n",
    "    + \"-\" + str(args[\"pretrain_anomaly_rate\"]) \\\n",
    "    + \"-\" + str(args[\"pretrain_anomaly_loss_weight\"]) \\\n",
    "    + \"-\" + str(args[\"hidden_size\"]) \\\n",
    "    + \"-\" + str(args[\"edge_hidden_size\"]) \\\n",
    "    + \"-\" + str(args[\"num_hidden_layers\"]) \\\n",
    "    + \"-\" + str(args[\"num_attention_heads\"]) \\\n",
    "    + \"-\" + str(args[\"attention_probs_dropout_prob\"]) \\\n",
    "    + \"-\" + str(args[\"hidden_dropout_prob\"]) \\\n",
    "    + \"-\" + str(args[\"intermediate_size\"]) \\\n",
    "    + \"-\" + str(args[\"gat\"]) \\\n",
    "    + \"-\" + str(args[\"gnn_n_heads\"]) \\\n",
    "    + \"-\" + str(args[\"gnn_temp\"]) \\\n",
    "    + \"-\" + str(args[\"diag_med_emb\"])\n",
    "print(exp_name)"
   ]
  },
  {
   "cell_type": "code",
   "execution_count": 6,
   "id": "9bdd4429",
   "metadata": {},
   "outputs": [],
   "source": [
    "pretrained_weight_path = \"./pretrained_models/\" + exp_name + f\"/pretrained_model.pt\"\n",
    "finetune_exp_name = f\"Finetune-{args['task']}-\" + exp_name\n",
    "save_path = \"./saved_model/\" + finetune_exp_name\n",
    "if args[\"save_model\"] and not os.path.exists(save_path):\n",
    "    os.makedirs(save_path)"
   ]
  },
  {
   "cell_type": "code",
   "execution_count": 7,
   "id": "61606813",
   "metadata": {},
   "outputs": [],
   "source": [
    "args[\"predicted_token_type\"] = [\"diag\", \"med\", \"pro\", \"lab\"]\n",
    "args[\"special_tokens\"] = (\"[PAD]\", \"[CLS]\", \"[SEP]\", \"[MASK0]\", \"[MASK1]\", \"[MASK2]\", \"[MASK3]\")\n",
    "args[\"max_visit_size\"] = 15\n",
    "\n",
    "full_data_path = f\"/home/lideyi/HeteroGT-cuda/data_process/{args['dataset']}-processed/mimic.pkl\"\n",
    "\n",
    "if args[\"task\"] == \"next_diag_6m\":\n",
    "    finetune_data_path = f\"/home/lideyi/HeteroGT-cuda/data_process/{args['dataset']}-processed/mimic_nextdiag_6m.pkl\"\n",
    "elif args[\"task\"] == \"next_diag_12m\":\n",
    "    finetune_data_path = f\"/home/lideyi/HeteroGT-cuda/data_process/{args['dataset']}-processed/mimic_nextdiag_12m.pkl\"\n",
    "else:\n",
    "    finetune_data_path = f\"/home/lideyi/HeteroGT-cuda/data_process/{args['dataset']}-processed/mimic_downstream.pkl\""
   ]
  },
  {
   "cell_type": "code",
   "execution_count": 8,
   "id": "4e814ef3",
   "metadata": {},
   "outputs": [],
   "source": [
    "ehr_data = pickle.load(open(full_data_path, 'rb'))\n",
    "diag_sentences = ehr_data[\"ICD9_CODE\"].values.tolist()\n",
    "med_sentences = ehr_data[\"NDC\"].values.tolist()\n",
    "lab_sentences = ehr_data[\"LAB_TEST\"].values.tolist()\n",
    "pro_sentences = ehr_data[\"PRO_CODE\"].values.tolist()\n",
    "gender_set = [[\"M\"], [\"F\"]]\n",
    "age_gender_set = [[str(c) + \"_\" + gender] for c in set(ehr_data[\"AGE\"].values.tolist()) for gender in [\"M\", \"F\"]]\n",
    "age_set = [[c] for c in set(ehr_data[\"AGE\"].values.tolist())]    "
   ]
  },
  {
   "cell_type": "code",
   "execution_count": 9,
   "id": "24b8a841",
   "metadata": {},
   "outputs": [],
   "source": [
    "tokenizer = EHRTokenizer(diag_sentences, med_sentences, lab_sentences, \n",
    "                         pro_sentences, gender_set, age_set, age_gender_set, special_tokens=args[\"special_tokens\"])\n",
    "tokenizer.build_tree()"
   ]
  },
  {
   "cell_type": "code",
   "execution_count": 10,
   "id": "8e4fbbca",
   "metadata": {},
   "outputs": [],
   "source": [
    "train_data, val_data, test_data = pickle.load(open(finetune_data_path, 'rb'))\n",
    "\n",
    "train_dataset = HBERTFinetuneEHRDataset(\n",
    "    train_data, tokenizer, \n",
    "    token_type=args[\"predicted_token_type\"], \n",
    "    task=args[\"task\"]\n",
    ")\n",
    "\n",
    "val_dataset = HBERTFinetuneEHRDataset(\n",
    "    val_data, tokenizer, \n",
    "    token_type=args[\"predicted_token_type\"], \n",
    "    task=args[\"task\"]\n",
    ")\n",
    "\n",
    "test_dataset = HBERTFinetuneEHRDataset(\n",
    "    test_data, tokenizer, \n",
    "    token_type=args[\"predicted_token_type\"], \n",
    "    task=args[\"task\"]\n",
    ")\n",
    "\n",
    "train_dataloader = DataLoader(\n",
    "    train_dataset, \n",
    "    batch_sampler=UniqueIDSampler(train_dataset.get_ids(), batch_size=args[\"batch_size\"]),\n",
    "    collate_fn=batcher(pad_id=tokenizer.vocab.word2id[\"[PAD]\"], is_train=False), \n",
    ")\n",
    "\n",
    "val_dataloader = DataLoader(\n",
    "    val_dataset, \n",
    "    batch_sampler=UniqueIDSampler(val_dataset.get_ids(), batch_size=args[\"batch_size\"]),\n",
    "    collate_fn=batcher(pad_id=tokenizer.vocab.word2id[\"[PAD]\"], is_train=False), \n",
    ")\n",
    "\n",
    "test_dataloader = DataLoader(\n",
    "    test_dataset, \n",
    "    batch_sampler=UniqueIDSampler(test_dataset.get_ids(), batch_size=args[\"eval_batch_size\"]),\n",
    "    collate_fn=batcher(pad_id=tokenizer.vocab.word2id[\"[PAD]\"], is_train=False),\n",
    ")"
   ]
  },
  {
   "cell_type": "code",
   "execution_count": 11,
   "id": "31b61a20",
   "metadata": {},
   "outputs": [
    {
     "name": "stdout",
     "output_type": "stream",
     "text": [
      "input_ids shape: torch.Size([10, 89])\n",
      "input_types shape: torch.Size([10, 89])\n",
      "visit_positions shape: torch.Size([10])\n",
      "labeled_batch_idx shape: 4\n",
      "labels shape: torch.Size([4, 18])\n"
     ]
    }
   ],
   "source": [
    "# examine a batch\n",
    "batch = next(iter(train_dataloader))  # 取第一个 batch\n",
    "input_ids, input_types, edge_index, visit_positions, labeled_batch_idx, labels = batch\n",
    "\n",
    "# 打印每个张量的形状\n",
    "print(\"input_ids shape:\", input_ids.shape)\n",
    "print(\"input_types shape:\", input_types.shape)\n",
    "print(\"visit_positions shape:\", visit_positions.shape)\n",
    "print(\"labeled_batch_idx shape:\", len(labeled_batch_idx)) # it is a list\n",
    "print(\"labels shape:\", labels.shape)"
   ]
  },
  {
   "cell_type": "code",
   "execution_count": 12,
   "id": "e9bb1712",
   "metadata": {},
   "outputs": [],
   "source": [
    "args[\"vocab_size\"] = len(args[\"special_tokens\"]) + \\\n",
    "                     len(tokenizer.diag_voc.id2word) + \\\n",
    "                     len(tokenizer.pro_voc.id2word) + \\\n",
    "                     len(tokenizer.med_voc.id2word) + \\\n",
    "                     len(tokenizer.lab_voc.id2word) + \\\n",
    "                     len(tokenizer.age_voc.id2word) + \\\n",
    "                     len(tokenizer.gender_voc.id2word) + \\\n",
    "                     len(tokenizer.age_gender_voc.id2word)\n",
    "args[\"label_vocab_size\"] = 18  # only for diagnosis"
   ]
  },
  {
   "cell_type": "code",
   "execution_count": 13,
   "id": "d5df929a",
   "metadata": {},
   "outputs": [],
   "source": [
    "if args[\"task\"] in [\"death\", \"stay\", \"readmission\"]:\n",
    "    eval_metric = \"f1\"\n",
    "    task_type = \"binary\"\n",
    "    loss_fn = F.binary_cross_entropy_with_logits\n",
    "else:\n",
    "    eval_metric = \"prauc\"\n",
    "    task_type = \"l2r\"\n",
    "    loss_fn = lambda x, y: F.binary_cross_entropy_with_logits(x, y)"
   ]
  },
  {
   "cell_type": "code",
   "execution_count": 14,
   "id": "338d945c",
   "metadata": {},
   "outputs": [],
   "source": [
    "def train_with_early_stopping(model, \n",
    "                              train_dataloader, \n",
    "                              val_dataloader, \n",
    "                              test_dataloader,\n",
    "                              optimizer, \n",
    "                              loss_fn, \n",
    "                              device, \n",
    "                              args,\n",
    "                              task_type=\"binary\", \n",
    "                              eval_metric=\"f1\"):\n",
    "    best_score = 0.\n",
    "    best_val_metric = None\n",
    "    best_test_metric = None\n",
    "    epochs_no_improve = 0\n",
    "\n",
    "    for epoch in range(1, 1 + args[\"epochs\"]):\n",
    "        model.train()\n",
    "        ave_loss = 0.\n",
    "\n",
    "        for step, batch in enumerate(tqdm(train_dataloader, desc=\"Training Batches\")):\n",
    "            batch = [x.to(device) if isinstance(x, torch.Tensor) else x for x in batch]\n",
    "\n",
    "            labels = batch[-1].float()\n",
    "            output_logits = model(*batch[:-1])\n",
    "            \n",
    "            loss = loss_fn(output_logits.view(-1), labels.view(-1))\n",
    "            loss.backward()\n",
    "            optimizer.step()\n",
    "            optimizer.zero_grad()\n",
    "\n",
    "            ave_loss += loss.item()\n",
    "            \n",
    "\n",
    "        ave_loss /= (step + 1)\n",
    "\n",
    "        # Evaluation\n",
    "        val_metric = evaluate(model, val_dataloader, device, task_type=task_type)\n",
    "        test_metric = evaluate(model, test_dataloader, device, task_type=task_type)\n",
    "\n",
    "        # Logging\n",
    "        print(f\"Epoch: {epoch:03d}, Average Loss: {ave_loss:.4f}\")\n",
    "        print(f\"Validation: {val_metric}\")\n",
    "        print(f\"Test:       {test_metric}\")\n",
    "\n",
    "        # Check for improvement\n",
    "        current_score = val_metric[eval_metric]\n",
    "        if current_score > best_score:\n",
    "            best_score = current_score\n",
    "            best_val_metric = val_metric\n",
    "            best_test_metric = test_metric\n",
    "            epochs_no_improve = 0\n",
    "        else:\n",
    "            epochs_no_improve += 1\n",
    "\n",
    "        # Early stopping check\n",
    "        if epochs_no_improve >= args[\"early_stop_patience\"]:\n",
    "            print(f\"\\nEarly stopping triggered after {epoch} epochs (no improvement for {args['early_stop_patience']} epochs).\")\n",
    "            break\n",
    "\n",
    "    print(\"\\nBest validation performance:\")\n",
    "    print(best_val_metric)\n",
    "    print(\"Corresponding test performance:\")\n",
    "    print(best_test_metric)\n",
    "    return best_test_metric"
   ]
  },
  {
   "cell_type": "code",
   "execution_count": 15,
   "id": "9a7f4395",
   "metadata": {},
   "outputs": [
    {
     "name": "stdout",
     "output_type": "stream",
     "text": [
      "[2746317213, 1181241943, 958682846, 3163119785, 1812140441]\n"
     ]
    }
   ],
   "source": [
    "random.seed(42)\n",
    "seeds = [random.randint(0, 2**32 - 1) for _ in range(5)]\n",
    "print(seeds)"
   ]
  },
  {
   "cell_type": "code",
   "execution_count": 16,
   "id": "c9068358",
   "metadata": {},
   "outputs": [
    {
     "name": "stdout",
     "output_type": "stream",
     "text": [
      "[INFO] Random seed set to 2746317213\n",
      "Training with seed: 2746317213\n"
     ]
    },
    {
     "name": "stderr",
     "output_type": "stream",
     "text": [
      "Training Batches: 100%|██████████| 380/380 [00:15<00:00, 24.58it/s]\n",
      "Running inference: 100%|██████████| 281/281 [00:03<00:00, 88.95it/s]\n",
      "Running inference: 100%|██████████| 289/289 [00:03<00:00, 84.07it/s]\n"
     ]
    },
    {
     "name": "stdout",
     "output_type": "stream",
     "text": [
      "Epoch: 001, Average Loss: 0.4284\n",
      "Validation: {'recall': 0.23114538060290338, 'precision': 0.34575355150539333, 'f1': 0.26218197097288964, 'auc': 0.6777470058327965, 'prauc': 0.38973807061213545}\n",
      "Test:       {'recall': 0.23942123049673297, 'precision': 0.34023843788330627, 'f1': 0.2661724601238128, 'auc': 0.6872898617495933, 'prauc': 0.38235237294089985}\n"
     ]
    },
    {
     "name": "stderr",
     "output_type": "stream",
     "text": [
      "Training Batches: 100%|██████████| 380/380 [00:14<00:00, 25.99it/s]\n",
      "Running inference: 100%|██████████| 281/281 [00:03<00:00, 90.54it/s]\n",
      "Running inference: 100%|██████████| 289/289 [00:03<00:00, 85.24it/s]\n"
     ]
    },
    {
     "name": "stdout",
     "output_type": "stream",
     "text": [
      "Epoch: 002, Average Loss: 0.3876\n",
      "Validation: {'recall': 0.2923791268234813, 'precision': 0.40832870023311474, 'f1': 0.3048856931975127, 'auc': 0.7040926867746792, 'prauc': 0.4094795119916842}\n",
      "Test:       {'recall': 0.29076483632850736, 'precision': 0.3533181293115708, 'f1': 0.3030245167737972, 'auc': 0.7144482272245387, 'prauc': 0.40551119754366133}\n"
     ]
    },
    {
     "name": "stderr",
     "output_type": "stream",
     "text": [
      "Training Batches: 100%|██████████| 380/380 [00:14<00:00, 26.24it/s]\n",
      "Running inference: 100%|██████████| 281/281 [00:03<00:00, 90.02it/s]\n",
      "Running inference: 100%|██████████| 289/289 [00:03<00:00, 84.87it/s]\n"
     ]
    },
    {
     "name": "stdout",
     "output_type": "stream",
     "text": [
      "Epoch: 003, Average Loss: 0.3671\n",
      "Validation: {'recall': 0.287638091555267, 'precision': 0.42229618047979817, 'f1': 0.310548637251089, 'auc': 0.7223621457127217, 'prauc': 0.43019685461765333}\n",
      "Test:       {'recall': 0.2874259168293432, 'precision': 0.3923244447962306, 'f1': 0.3100942313246827, 'auc': 0.7279455284466639, 'prauc': 0.42476093690538697}\n"
     ]
    },
    {
     "name": "stderr",
     "output_type": "stream",
     "text": [
      "Training Batches: 100%|██████████| 380/380 [00:14<00:00, 26.28it/s]\n",
      "Running inference: 100%|██████████| 281/281 [00:03<00:00, 88.55it/s]\n",
      "Running inference: 100%|██████████| 289/289 [00:03<00:00, 85.99it/s]\n"
     ]
    },
    {
     "name": "stdout",
     "output_type": "stream",
     "text": [
      "Epoch: 004, Average Loss: 0.3544\n",
      "Validation: {'recall': 0.30503688814345814, 'precision': 0.40240004130106605, 'f1': 0.3151473962598291, 'auc': 0.7238887471933437, 'prauc': 0.4338729404955928}\n",
      "Test:       {'recall': 0.30333624614323007, 'precision': 0.39929212939405384, 'f1': 0.31666979558212893, 'auc': 0.7272747803805857, 'prauc': 0.4308735293278622}\n"
     ]
    },
    {
     "name": "stderr",
     "output_type": "stream",
     "text": [
      "Training Batches: 100%|██████████| 380/380 [00:15<00:00, 24.87it/s]\n",
      "Running inference: 100%|██████████| 281/281 [00:03<00:00, 86.95it/s]\n",
      "Running inference: 100%|██████████| 289/289 [00:03<00:00, 83.13it/s]\n"
     ]
    },
    {
     "name": "stdout",
     "output_type": "stream",
     "text": [
      "Epoch: 005, Average Loss: 0.3400\n",
      "Validation: {'recall': 0.3396268838339989, 'precision': 0.45036371973647277, 'f1': 0.36244498647907525, 'auc': 0.730173580971416, 'prauc': 0.4393382370881178}\n",
      "Test:       {'recall': 0.3390198648305669, 'precision': 0.43858454409034175, 'f1': 0.35756136350195566, 'auc': 0.7308937147881926, 'prauc': 0.43619676398671936}\n"
     ]
    },
    {
     "name": "stderr",
     "output_type": "stream",
     "text": [
      "Training Batches: 100%|██████████| 380/380 [00:14<00:00, 25.70it/s]\n",
      "Running inference: 100%|██████████| 281/281 [00:03<00:00, 87.64it/s]\n",
      "Running inference: 100%|██████████| 289/289 [00:03<00:00, 82.55it/s]\n"
     ]
    },
    {
     "name": "stdout",
     "output_type": "stream",
     "text": [
      "Epoch: 006, Average Loss: 0.3303\n",
      "Validation: {'recall': 0.3138167354423889, 'precision': 0.44580269137857836, 'f1': 0.34448985541177163, 'auc': 0.7194917036115686, 'prauc': 0.43868109749269646}\n",
      "Test:       {'recall': 0.30768752857903114, 'precision': 0.48388847271204516, 'f1': 0.33491940797384206, 'auc': 0.7287678410589011, 'prauc': 0.4401423940921577}\n"
     ]
    },
    {
     "name": "stderr",
     "output_type": "stream",
     "text": [
      "Training Batches: 100%|██████████| 380/380 [00:14<00:00, 26.35it/s]\n",
      "Running inference: 100%|██████████| 281/281 [00:03<00:00, 88.72it/s]\n",
      "Running inference: 100%|██████████| 289/289 [00:03<00:00, 83.89it/s]\n"
     ]
    },
    {
     "name": "stdout",
     "output_type": "stream",
     "text": [
      "Epoch: 007, Average Loss: 0.3218\n",
      "Validation: {'recall': 0.3173340244941719, 'precision': 0.4540647599191831, 'f1': 0.348724908146082, 'auc': 0.7206567232811124, 'prauc': 0.4338653283468365}\n",
      "Test:       {'recall': 0.324882321668813, 'precision': 0.42999998268060297, 'f1': 0.3511025958332296, 'auc': 0.728886971365785, 'prauc': 0.43826711773331195}\n"
     ]
    },
    {
     "name": "stderr",
     "output_type": "stream",
     "text": [
      "Training Batches: 100%|██████████| 380/380 [00:14<00:00, 26.20it/s]\n",
      "Running inference: 100%|██████████| 281/281 [00:03<00:00, 89.26it/s]\n",
      "Running inference: 100%|██████████| 289/289 [00:03<00:00, 83.98it/s]\n"
     ]
    },
    {
     "name": "stdout",
     "output_type": "stream",
     "text": [
      "Epoch: 008, Average Loss: 0.3118\n",
      "Validation: {'recall': 0.3616933210533435, 'precision': 0.4370116785233031, 'f1': 0.3787826980323399, 'auc': 0.7253339161660031, 'prauc': 0.4399506799166433}\n",
      "Test:       {'recall': 0.36123177090774344, 'precision': 0.41995065215632804, 'f1': 0.37666058816677783, 'auc': 0.7279796895169899, 'prauc': 0.43980906401201697}\n"
     ]
    },
    {
     "name": "stderr",
     "output_type": "stream",
     "text": [
      "Training Batches: 100%|██████████| 380/380 [00:14<00:00, 26.14it/s]\n",
      "Running inference: 100%|██████████| 281/281 [00:03<00:00, 89.79it/s]\n",
      "Running inference: 100%|██████████| 289/289 [00:03<00:00, 83.63it/s]\n"
     ]
    },
    {
     "name": "stdout",
     "output_type": "stream",
     "text": [
      "Epoch: 009, Average Loss: 0.3020\n",
      "Validation: {'recall': 0.35715097587351996, 'precision': 0.4425431543969903, 'f1': 0.3821765418566149, 'auc': 0.7260226798011742, 'prauc': 0.43647079739248185}\n",
      "Test:       {'recall': 0.3596972517432993, 'precision': 0.4511841210132281, 'f1': 0.3843873113383624, 'auc': 0.7318661934121269, 'prauc': 0.4362336160085961}\n"
     ]
    },
    {
     "name": "stderr",
     "output_type": "stream",
     "text": [
      "Training Batches: 100%|██████████| 380/380 [00:14<00:00, 26.02it/s]\n",
      "Running inference: 100%|██████████| 281/281 [00:03<00:00, 90.01it/s]\n",
      "Running inference: 100%|██████████| 289/289 [00:03<00:00, 84.46it/s]\n"
     ]
    },
    {
     "name": "stdout",
     "output_type": "stream",
     "text": [
      "Epoch: 010, Average Loss: 0.2923\n",
      "Validation: {'recall': 0.3675380831574877, 'precision': 0.42473603193971704, 'f1': 0.37939997596215425, 'auc': 0.717458406715113, 'prauc': 0.430444528521608}\n",
      "Test:       {'recall': 0.37373143592981584, 'precision': 0.43630630404604237, 'f1': 0.385519348033328, 'auc': 0.7241442990657428, 'prauc': 0.43019742605666983}\n"
     ]
    },
    {
     "name": "stderr",
     "output_type": "stream",
     "text": [
      "Training Batches: 100%|██████████| 380/380 [00:15<00:00, 25.05it/s]\n",
      "Running inference: 100%|██████████| 281/281 [00:03<00:00, 86.09it/s]\n",
      "Running inference: 100%|██████████| 289/289 [00:03<00:00, 82.44it/s]\n"
     ]
    },
    {
     "name": "stdout",
     "output_type": "stream",
     "text": [
      "Epoch: 011, Average Loss: 0.2843\n",
      "Validation: {'recall': 0.3167358287240928, 'precision': 0.4549114552889426, 'f1': 0.3564562690893337, 'auc': 0.7167075745559246, 'prauc': 0.4301426335583466}\n",
      "Test:       {'recall': 0.3215356059135549, 'precision': 0.46057142682273383, 'f1': 0.3619580728566577, 'auc': 0.7247227642192162, 'prauc': 0.42631277040198623}\n"
     ]
    },
    {
     "name": "stderr",
     "output_type": "stream",
     "text": [
      "Training Batches: 100%|██████████| 380/380 [00:14<00:00, 25.44it/s]\n",
      "Running inference: 100%|██████████| 281/281 [00:03<00:00, 89.05it/s]\n",
      "Running inference: 100%|██████████| 289/289 [00:03<00:00, 84.10it/s]\n"
     ]
    },
    {
     "name": "stdout",
     "output_type": "stream",
     "text": [
      "Epoch: 012, Average Loss: 0.2756\n",
      "Validation: {'recall': 0.3560999765952515, 'precision': 0.41714487980055726, 'f1': 0.3744675748890352, 'auc': 0.7160084342833685, 'prauc': 0.429311312319535}\n",
      "Test:       {'recall': 0.34999357035716244, 'precision': 0.4202558811086051, 'f1': 0.3688989157915165, 'auc': 0.7254565569843887, 'prauc': 0.4275947350471101}\n"
     ]
    },
    {
     "name": "stderr",
     "output_type": "stream",
     "text": [
      "Training Batches: 100%|██████████| 380/380 [00:14<00:00, 25.86it/s]\n",
      "Running inference: 100%|██████████| 281/281 [00:03<00:00, 89.11it/s]\n",
      "Running inference: 100%|██████████| 289/289 [00:03<00:00, 84.00it/s]\n"
     ]
    },
    {
     "name": "stdout",
     "output_type": "stream",
     "text": [
      "Epoch: 013, Average Loss: 0.2680\n",
      "Validation: {'recall': 0.37578006097413635, 'precision': 0.4596911049572111, 'f1': 0.38453766235348635, 'auc': 0.7160660345310501, 'prauc': 0.42540952533366516}\n",
      "Test:       {'recall': 0.3805883936375351, 'precision': 0.41933127701054435, 'f1': 0.3889947895082822, 'auc': 0.7235827279771906, 'prauc': 0.4225118729003307}\n"
     ]
    },
    {
     "name": "stderr",
     "output_type": "stream",
     "text": [
      "Training Batches: 100%|██████████| 380/380 [00:14<00:00, 25.91it/s]\n",
      "Running inference: 100%|██████████| 281/281 [00:03<00:00, 89.96it/s]\n",
      "Running inference: 100%|██████████| 289/289 [00:03<00:00, 83.27it/s]\n"
     ]
    },
    {
     "name": "stdout",
     "output_type": "stream",
     "text": [
      "Epoch: 014, Average Loss: 0.2618\n",
      "Validation: {'recall': 0.3836737878842294, 'precision': 0.4737698917710779, 'f1': 0.3936005288448346, 'auc': 0.7204812317656608, 'prauc': 0.42864157504998635}\n",
      "Test:       {'recall': 0.38029033069931895, 'precision': 0.4529387048100389, 'f1': 0.3916076567100867, 'auc': 0.7276741622453327, 'prauc': 0.43232704488491625}\n"
     ]
    },
    {
     "name": "stderr",
     "output_type": "stream",
     "text": [
      "Training Batches: 100%|██████████| 380/380 [00:14<00:00, 25.88it/s]\n",
      "Running inference: 100%|██████████| 281/281 [00:03<00:00, 87.81it/s]\n",
      "Running inference: 100%|██████████| 289/289 [00:03<00:00, 84.91it/s]\n"
     ]
    },
    {
     "name": "stdout",
     "output_type": "stream",
     "text": [
      "Epoch: 015, Average Loss: 0.2542\n",
      "Validation: {'recall': 0.36973388327359535, 'precision': 0.504461399446223, 'f1': 0.38629943801174893, 'auc': 0.7225854268807239, 'prauc': 0.4298180743719617}\n",
      "Test:       {'recall': 0.3585424725299995, 'precision': 0.42047429909730255, 'f1': 0.3771642583184589, 'auc': 0.7217795280615363, 'prauc': 0.42722418849931126}\n"
     ]
    },
    {
     "name": "stderr",
     "output_type": "stream",
     "text": [
      "Training Batches: 100%|██████████| 380/380 [00:14<00:00, 25.80it/s]\n",
      "Running inference: 100%|██████████| 281/281 [00:03<00:00, 90.08it/s]\n",
      "Running inference: 100%|██████████| 289/289 [00:03<00:00, 83.20it/s]\n"
     ]
    },
    {
     "name": "stdout",
     "output_type": "stream",
     "text": [
      "Epoch: 016, Average Loss: 0.2439\n",
      "Validation: {'recall': 0.4010783002410451, 'precision': 0.4128248889514868, 'f1': 0.38804391897849905, 'auc': 0.716680824413219, 'prauc': 0.4221291928508815}\n",
      "Test:       {'recall': 0.40246101341226737, 'precision': 0.45130126846531937, 'f1': 0.3955899546695243, 'auc': 0.7186296838304449, 'prauc': 0.4231828308685497}\n"
     ]
    },
    {
     "name": "stderr",
     "output_type": "stream",
     "text": [
      "Training Batches: 100%|██████████| 380/380 [00:14<00:00, 25.57it/s]\n",
      "Running inference: 100%|██████████| 281/281 [00:03<00:00, 87.75it/s]\n",
      "Running inference: 100%|██████████| 289/289 [00:03<00:00, 85.27it/s]\n"
     ]
    },
    {
     "name": "stdout",
     "output_type": "stream",
     "text": [
      "Epoch: 017, Average Loss: 0.2363\n",
      "Validation: {'recall': 0.372635262080155, 'precision': 0.46295100861997557, 'f1': 0.37865969007103956, 'auc': 0.7119260952659903, 'prauc': 0.42211869334435087}\n",
      "Test:       {'recall': 0.3730859580186685, 'precision': 0.42795478579111657, 'f1': 0.3777629021818767, 'auc': 0.7154708330846081, 'prauc': 0.41730234910521313}\n"
     ]
    },
    {
     "name": "stderr",
     "output_type": "stream",
     "text": [
      "Training Batches: 100%|██████████| 380/380 [00:14<00:00, 26.28it/s]\n",
      "Running inference: 100%|██████████| 281/281 [00:03<00:00, 88.82it/s]\n",
      "Running inference: 100%|██████████| 289/289 [00:03<00:00, 83.74it/s]\n"
     ]
    },
    {
     "name": "stdout",
     "output_type": "stream",
     "text": [
      "Epoch: 018, Average Loss: 0.2336\n",
      "Validation: {'recall': 0.336885111666798, 'precision': 0.45039682644822965, 'f1': 0.37003878202188506, 'auc': 0.7119617085440706, 'prauc': 0.4227634838678747}\n",
      "Test:       {'recall': 0.33351628523141597, 'precision': 0.4340852512638188, 'f1': 0.3653875709639647, 'auc': 0.7195178020027375, 'prauc': 0.42174113398548224}\n"
     ]
    },
    {
     "name": "stderr",
     "output_type": "stream",
     "text": [
      "Training Batches: 100%|██████████| 380/380 [00:14<00:00, 26.00it/s]\n",
      "Running inference: 100%|██████████| 281/281 [00:03<00:00, 89.82it/s] \n",
      "Running inference: 100%|██████████| 289/289 [00:03<00:00, 83.63it/s]\n"
     ]
    },
    {
     "name": "stdout",
     "output_type": "stream",
     "text": [
      "Epoch: 019, Average Loss: 0.2257\n",
      "Validation: {'recall': 0.36507768974519705, 'precision': 0.45825419784715415, 'f1': 0.38527985311231255, 'auc': 0.7067838075065497, 'prauc': 0.417102410802526}\n",
      "Test:       {'recall': 0.3711657880397795, 'precision': 0.4151230118539479, 'f1': 0.38826448246238265, 'auc': 0.7192815932877082, 'prauc': 0.416528584555322}\n",
      "\n",
      "Early stopping triggered after 19 epochs (no improvement for 5 epochs).\n",
      "\n",
      "Best validation performance:\n",
      "{'recall': 0.3836737878842294, 'precision': 0.4737698917710779, 'f1': 0.3936005288448346, 'auc': 0.7204812317656608, 'prauc': 0.42864157504998635}\n",
      "Corresponding test performance:\n",
      "{'recall': 0.38029033069931895, 'precision': 0.4529387048100389, 'f1': 0.3916076567100867, 'auc': 0.7276741622453327, 'prauc': 0.43232704488491625}\n",
      "[INFO] Random seed set to 1181241943\n",
      "Training with seed: 1181241943\n"
     ]
    },
    {
     "name": "stderr",
     "output_type": "stream",
     "text": [
      "Training Batches: 100%|██████████| 380/380 [00:14<00:00, 26.17it/s]\n",
      "Running inference: 100%|██████████| 281/281 [00:03<00:00, 90.52it/s]\n",
      "Running inference: 100%|██████████| 289/289 [00:03<00:00, 84.13it/s]\n"
     ]
    },
    {
     "name": "stdout",
     "output_type": "stream",
     "text": [
      "Epoch: 001, Average Loss: 0.4352\n",
      "Validation: {'recall': 0.22168400312371955, 'precision': 0.37707876478557434, 'f1': 0.25384465354307884, 'auc': 0.6884465802130874, 'prauc': 0.39079463629189415}\n",
      "Test:       {'recall': 0.22594643718323804, 'precision': 0.3720689636479436, 'f1': 0.2576824590211382, 'auc': 0.6883319310748982, 'prauc': 0.3856484578021599}\n"
     ]
    },
    {
     "name": "stderr",
     "output_type": "stream",
     "text": [
      "Training Batches: 100%|██████████| 380/380 [00:14<00:00, 26.02it/s]\n",
      "Running inference: 100%|██████████| 281/281 [00:03<00:00, 90.64it/s] \n",
      "Running inference: 100%|██████████| 289/289 [00:03<00:00, 83.97it/s]\n"
     ]
    },
    {
     "name": "stdout",
     "output_type": "stream",
     "text": [
      "Epoch: 002, Average Loss: 0.3885\n",
      "Validation: {'recall': 0.28891040389025324, 'precision': 0.4053312787791996, 'f1': 0.3080907554692515, 'auc': 0.7037072992045345, 'prauc': 0.41552654791828403}\n",
      "Test:       {'recall': 0.29368495307637493, 'precision': 0.39516816263644955, 'f1': 0.3089120183652173, 'auc': 0.7153100894248907, 'prauc': 0.40580311557491994}\n"
     ]
    },
    {
     "name": "stderr",
     "output_type": "stream",
     "text": [
      "Training Batches: 100%|██████████| 380/380 [00:14<00:00, 26.05it/s]\n",
      "Running inference: 100%|██████████| 281/281 [00:03<00:00, 89.67it/s]\n",
      "Running inference: 100%|██████████| 289/289 [00:03<00:00, 85.04it/s]\n"
     ]
    },
    {
     "name": "stdout",
     "output_type": "stream",
     "text": [
      "Epoch: 003, Average Loss: 0.3720\n",
      "Validation: {'recall': 0.30418119376491104, 'precision': 0.3917527313742057, 'f1': 0.3214817913808148, 'auc': 0.7186361890168084, 'prauc': 0.42129485622424045}\n",
      "Test:       {'recall': 0.3038847953151189, 'precision': 0.3675239746757995, 'f1': 0.3195146228822576, 'auc': 0.7266618329890027, 'prauc': 0.4160806041366986}\n"
     ]
    },
    {
     "name": "stderr",
     "output_type": "stream",
     "text": [
      "Training Batches: 100%|██████████| 380/380 [00:14<00:00, 25.85it/s]\n",
      "Running inference: 100%|██████████| 281/281 [00:03<00:00, 89.77it/s]\n",
      "Running inference: 100%|██████████| 289/289 [00:03<00:00, 84.52it/s]\n"
     ]
    },
    {
     "name": "stdout",
     "output_type": "stream",
     "text": [
      "Epoch: 004, Average Loss: 0.3568\n",
      "Validation: {'recall': 0.2928378229145636, 'precision': 0.4356285830036686, 'f1': 0.3105711272176513, 'auc': 0.7182330461162876, 'prauc': 0.4259435895537362}\n",
      "Test:       {'recall': 0.27917195955761265, 'precision': 0.4236639142519591, 'f1': 0.3023647063358992, 'auc': 0.7202076264981846, 'prauc': 0.4169212266313804}\n"
     ]
    },
    {
     "name": "stderr",
     "output_type": "stream",
     "text": [
      "Training Batches: 100%|██████████| 380/380 [00:14<00:00, 26.15it/s]\n",
      "Running inference: 100%|██████████| 281/281 [00:03<00:00, 89.43it/s]\n",
      "Running inference: 100%|██████████| 289/289 [00:03<00:00, 85.11it/s]\n"
     ]
    },
    {
     "name": "stdout",
     "output_type": "stream",
     "text": [
      "Epoch: 005, Average Loss: 0.3440\n",
      "Validation: {'recall': 0.3680832887269289, 'precision': 0.4183472769361021, 'f1': 0.3849719058379726, 'auc': 0.731968125686428, 'prauc': 0.4442182407458499}\n",
      "Test:       {'recall': 0.36042328344851726, 'precision': 0.4200239929470501, 'f1': 0.380180677536377, 'auc': 0.7372494507596582, 'prauc': 0.4401901196384688}\n"
     ]
    },
    {
     "name": "stderr",
     "output_type": "stream",
     "text": [
      "Training Batches: 100%|██████████| 380/380 [00:14<00:00, 25.87it/s]\n",
      "Running inference: 100%|██████████| 281/281 [00:03<00:00, 89.14it/s]\n",
      "Running inference: 100%|██████████| 289/289 [00:03<00:00, 83.90it/s]\n"
     ]
    },
    {
     "name": "stdout",
     "output_type": "stream",
     "text": [
      "Epoch: 006, Average Loss: 0.3311\n",
      "Validation: {'recall': 0.307877038902636, 'precision': 0.48763263628346354, 'f1': 0.35729698351801253, 'auc': 0.7332143671740262, 'prauc': 0.4503331236476251}\n",
      "Test:       {'recall': 0.2960256540076435, 'precision': 0.44172444099869324, 'f1': 0.34133301039852076, 'auc': 0.7358750520890887, 'prauc': 0.4466255017482887}\n"
     ]
    },
    {
     "name": "stderr",
     "output_type": "stream",
     "text": [
      "Training Batches: 100%|██████████| 380/380 [00:14<00:00, 25.96it/s]\n",
      "Running inference: 100%|██████████| 281/281 [00:03<00:00, 89.59it/s]\n",
      "Running inference: 100%|██████████| 289/289 [00:03<00:00, 85.48it/s]\n"
     ]
    },
    {
     "name": "stdout",
     "output_type": "stream",
     "text": [
      "Epoch: 007, Average Loss: 0.3197\n",
      "Validation: {'recall': 0.32819850162226616, 'precision': 0.4513987079962241, 'f1': 0.3667019918036718, 'auc': 0.7307838959617786, 'prauc': 0.4452066667648054}\n",
      "Test:       {'recall': 0.32018856030264586, 'precision': 0.4859760332094406, 'f1': 0.3581267006783755, 'auc': 0.731552776557123, 'prauc': 0.4451374341296066}\n"
     ]
    },
    {
     "name": "stderr",
     "output_type": "stream",
     "text": [
      "Training Batches: 100%|██████████| 380/380 [00:14<00:00, 25.99it/s]\n",
      "Running inference: 100%|██████████| 281/281 [00:03<00:00, 89.55it/s]\n",
      "Running inference: 100%|██████████| 289/289 [00:03<00:00, 82.65it/s]\n"
     ]
    },
    {
     "name": "stdout",
     "output_type": "stream",
     "text": [
      "Epoch: 008, Average Loss: 0.3091\n",
      "Validation: {'recall': 0.35164813406341383, 'precision': 0.44949264317910603, 'f1': 0.37811681087632204, 'auc': 0.7341995952043778, 'prauc': 0.44441924406066635}\n",
      "Test:       {'recall': 0.3474174477556626, 'precision': 0.4403929845725011, 'f1': 0.37441858645366105, 'auc': 0.7288528507963279, 'prauc': 0.44239217120168317}\n"
     ]
    },
    {
     "name": "stderr",
     "output_type": "stream",
     "text": [
      "Training Batches: 100%|██████████| 380/380 [00:15<00:00, 24.94it/s]\n",
      "Running inference: 100%|██████████| 281/281 [00:03<00:00, 87.87it/s]\n",
      "Running inference: 100%|██████████| 289/289 [00:03<00:00, 84.69it/s]\n"
     ]
    },
    {
     "name": "stdout",
     "output_type": "stream",
     "text": [
      "Epoch: 009, Average Loss: 0.3029\n",
      "Validation: {'recall': 0.3785575782896682, 'precision': 0.41813066468960186, 'f1': 0.39351828406800965, 'auc': 0.7326787578054434, 'prauc': 0.4406527796174559}\n",
      "Test:       {'recall': 0.3714748362663613, 'precision': 0.499717861352593, 'f1': 0.38903767627259833, 'auc': 0.7289876124481958, 'prauc': 0.4395819419747742}\n"
     ]
    },
    {
     "name": "stderr",
     "output_type": "stream",
     "text": [
      "Training Batches: 100%|██████████| 380/380 [00:14<00:00, 26.13it/s]\n",
      "Running inference: 100%|██████████| 281/281 [00:03<00:00, 90.00it/s]\n",
      "Running inference: 100%|██████████| 289/289 [00:03<00:00, 84.33it/s]\n"
     ]
    },
    {
     "name": "stdout",
     "output_type": "stream",
     "text": [
      "Epoch: 010, Average Loss: 0.2892\n",
      "Validation: {'recall': 0.39993577554697335, 'precision': 0.3966908837494446, 'f1': 0.3902946365557567, 'auc': 0.723143363862198, 'prauc': 0.4320966905347589}\n",
      "Test:       {'recall': 0.4012305771798758, 'precision': 0.4111720750813534, 'f1': 0.39269321609827273, 'auc': 0.7173127201224757, 'prauc': 0.43033794752071536}\n"
     ]
    },
    {
     "name": "stderr",
     "output_type": "stream",
     "text": [
      "Training Batches: 100%|██████████| 380/380 [00:14<00:00, 26.04it/s]\n",
      "Running inference: 100%|██████████| 281/281 [00:03<00:00, 89.13it/s]\n",
      "Running inference: 100%|██████████| 289/289 [00:03<00:00, 84.66it/s]\n"
     ]
    },
    {
     "name": "stdout",
     "output_type": "stream",
     "text": [
      "Epoch: 011, Average Loss: 0.2792\n",
      "Validation: {'recall': 0.3532680078314761, 'precision': 0.43361712592018975, 'f1': 0.3724913263257718, 'auc': 0.7246777271032111, 'prauc': 0.4338543876103834}\n",
      "Test:       {'recall': 0.3538900306114818, 'precision': 0.44133924813431363, 'f1': 0.37350424196273774, 'auc': 0.7226309387193162, 'prauc': 0.43406281689085857}\n"
     ]
    },
    {
     "name": "stderr",
     "output_type": "stream",
     "text": [
      "Training Batches: 100%|██████████| 380/380 [00:14<00:00, 26.15it/s]\n",
      "Running inference: 100%|██████████| 281/281 [00:03<00:00, 90.01it/s]\n",
      "Running inference: 100%|██████████| 289/289 [00:03<00:00, 84.67it/s]\n"
     ]
    },
    {
     "name": "stdout",
     "output_type": "stream",
     "text": [
      "Epoch: 012, Average Loss: 0.2719\n",
      "Validation: {'recall': 0.34809313986686574, 'precision': 0.43310130293136473, 'f1': 0.3810643704679453, 'auc': 0.7242653390291696, 'prauc': 0.4366912201847485}\n",
      "Test:       {'recall': 0.35273607500312426, 'precision': 0.4405234965211793, 'f1': 0.38799120207060206, 'auc': 0.7237959395370673, 'prauc': 0.43192425260996636}\n"
     ]
    },
    {
     "name": "stderr",
     "output_type": "stream",
     "text": [
      "Training Batches: 100%|██████████| 380/380 [00:14<00:00, 26.41it/s]\n",
      "Running inference: 100%|██████████| 281/281 [00:03<00:00, 89.90it/s] \n",
      "Running inference: 100%|██████████| 289/289 [00:03<00:00, 84.59it/s]\n"
     ]
    },
    {
     "name": "stdout",
     "output_type": "stream",
     "text": [
      "Epoch: 013, Average Loss: 0.2647\n",
      "Validation: {'recall': 0.4241333317650804, 'precision': 0.4092230111423209, 'f1': 0.4018270728706678, 'auc': 0.7213992993321974, 'prauc': 0.4323747643203064}\n",
      "Test:       {'recall': 0.4277422817655751, 'precision': 0.43969412208464426, 'f1': 0.40779835799986386, 'auc': 0.7143280597358114, 'prauc': 0.4330436844605197}\n"
     ]
    },
    {
     "name": "stderr",
     "output_type": "stream",
     "text": [
      "Training Batches: 100%|██████████| 380/380 [00:14<00:00, 25.58it/s]\n",
      "Running inference: 100%|██████████| 281/281 [00:03<00:00, 86.74it/s]\n",
      "Running inference: 100%|██████████| 289/289 [00:03<00:00, 82.29it/s]\n"
     ]
    },
    {
     "name": "stdout",
     "output_type": "stream",
     "text": [
      "Epoch: 014, Average Loss: 0.2555\n",
      "Validation: {'recall': 0.35465139561808506, 'precision': 0.4336041674491663, 'f1': 0.3795174577926257, 'auc': 0.7259634550022839, 'prauc': 0.4328742646791045}\n",
      "Test:       {'recall': 0.35845376551822955, 'precision': 0.4430846919096023, 'f1': 0.385243833027977, 'auc': 0.7224619696810347, 'prauc': 0.43306295379438026}\n"
     ]
    },
    {
     "name": "stderr",
     "output_type": "stream",
     "text": [
      "Training Batches: 100%|██████████| 380/380 [00:15<00:00, 24.90it/s]\n",
      "Running inference: 100%|██████████| 281/281 [00:03<00:00, 89.00it/s]\n",
      "Running inference: 100%|██████████| 289/289 [00:03<00:00, 83.42it/s]\n"
     ]
    },
    {
     "name": "stdout",
     "output_type": "stream",
     "text": [
      "Epoch: 015, Average Loss: 0.2453\n",
      "Validation: {'recall': 0.3673659119091902, 'precision': 0.42457972285587436, 'f1': 0.3851194676675821, 'auc': 0.7175635266718914, 'prauc': 0.4266286117283214}\n",
      "Test:       {'recall': 0.37036086387447087, 'precision': 0.43928397849159306, 'f1': 0.3924343633055441, 'auc': 0.7194338839101042, 'prauc': 0.43200008038630644}\n"
     ]
    },
    {
     "name": "stderr",
     "output_type": "stream",
     "text": [
      "Training Batches: 100%|██████████| 380/380 [00:14<00:00, 25.73it/s]\n",
      "Running inference: 100%|██████████| 281/281 [00:03<00:00, 89.34it/s]\n",
      "Running inference: 100%|██████████| 289/289 [00:03<00:00, 85.12it/s]\n"
     ]
    },
    {
     "name": "stdout",
     "output_type": "stream",
     "text": [
      "Epoch: 016, Average Loss: 0.2401\n",
      "Validation: {'recall': 0.3524409907512752, 'precision': 0.42214021877842367, 'f1': 0.37842585569928505, 'auc': 0.7221381312188861, 'prauc': 0.42986204836769565}\n",
      "Test:       {'recall': 0.34726554462382747, 'precision': 0.4472550001855456, 'f1': 0.37900964892967465, 'auc': 0.7181950278788806, 'prauc': 0.4260842943290414}\n"
     ]
    },
    {
     "name": "stderr",
     "output_type": "stream",
     "text": [
      "Training Batches: 100%|██████████| 380/380 [00:14<00:00, 25.88it/s]\n",
      "Running inference: 100%|██████████| 281/281 [00:03<00:00, 90.17it/s] \n",
      "Running inference: 100%|██████████| 289/289 [00:03<00:00, 83.81it/s]\n"
     ]
    },
    {
     "name": "stdout",
     "output_type": "stream",
     "text": [
      "Epoch: 017, Average Loss: 0.2313\n",
      "Validation: {'recall': 0.37117681339360886, 'precision': 0.41255054037019584, 'f1': 0.38262070654871727, 'auc': 0.7177140895584525, 'prauc': 0.4214158426150457}\n",
      "Test:       {'recall': 0.3717592655432336, 'precision': 0.42990807854824387, 'f1': 0.38886211193143905, 'auc': 0.7124926078603013, 'prauc': 0.42479608455488566}\n"
     ]
    },
    {
     "name": "stderr",
     "output_type": "stream",
     "text": [
      "Training Batches: 100%|██████████| 380/380 [00:14<00:00, 25.98it/s]\n",
      "Running inference: 100%|██████████| 281/281 [00:03<00:00, 89.67it/s]\n",
      "Running inference: 100%|██████████| 289/289 [00:03<00:00, 83.42it/s]\n"
     ]
    },
    {
     "name": "stdout",
     "output_type": "stream",
     "text": [
      "Epoch: 018, Average Loss: 0.2245\n",
      "Validation: {'recall': 0.3815126148787405, 'precision': 0.41275596351086624, 'f1': 0.38843069843198613, 'auc': 0.7157475975811851, 'prauc': 0.4246306886820078}\n",
      "Test:       {'recall': 0.3888929969299678, 'precision': 0.41991445293223506, 'f1': 0.3957173714101873, 'auc': 0.717870651515083, 'prauc': 0.4314076407924949}\n",
      "\n",
      "Early stopping triggered after 18 epochs (no improvement for 5 epochs).\n",
      "\n",
      "Best validation performance:\n",
      "{'recall': 0.4241333317650804, 'precision': 0.4092230111423209, 'f1': 0.4018270728706678, 'auc': 0.7213992993321974, 'prauc': 0.4323747643203064}\n",
      "Corresponding test performance:\n",
      "{'recall': 0.4277422817655751, 'precision': 0.43969412208464426, 'f1': 0.40779835799986386, 'auc': 0.7143280597358114, 'prauc': 0.4330436844605197}\n",
      "[INFO] Random seed set to 958682846\n",
      "Training with seed: 958682846\n"
     ]
    },
    {
     "name": "stderr",
     "output_type": "stream",
     "text": [
      "Training Batches: 100%|██████████| 380/380 [00:14<00:00, 25.83it/s]\n",
      "Running inference: 100%|██████████| 281/281 [00:03<00:00, 88.43it/s]\n",
      "Running inference: 100%|██████████| 289/289 [00:03<00:00, 85.40it/s]\n"
     ]
    },
    {
     "name": "stdout",
     "output_type": "stream",
     "text": [
      "Epoch: 001, Average Loss: 0.4296\n",
      "Validation: {'recall': 0.23967510287254498, 'precision': 0.37306899671319194, 'f1': 0.26917375024896345, 'auc': 0.6919244679522254, 'prauc': 0.4037472353353413}\n",
      "Test:       {'recall': 0.24219645117769273, 'precision': 0.36393270878962247, 'f1': 0.2704087102602043, 'auc': 0.6854780633424914, 'prauc': 0.3955456540572267}\n"
     ]
    },
    {
     "name": "stderr",
     "output_type": "stream",
     "text": [
      "Training Batches: 100%|██████████| 380/380 [00:14<00:00, 25.66it/s]\n",
      "Running inference: 100%|██████████| 281/281 [00:03<00:00, 87.12it/s]\n",
      "Running inference: 100%|██████████| 289/289 [00:03<00:00, 82.18it/s]\n"
     ]
    },
    {
     "name": "stdout",
     "output_type": "stream",
     "text": [
      "Epoch: 002, Average Loss: 0.3824\n",
      "Validation: {'recall': 0.2926882243158516, 'precision': 0.39109371704093426, 'f1': 0.3197575521530686, 'auc': 0.7135288199404072, 'prauc': 0.43123672002298885}\n",
      "Test:       {'recall': 0.29595588144666507, 'precision': 0.3880811173465894, 'f1': 0.3217462124303272, 'auc': 0.7125132648833667, 'prauc': 0.42281715041681933}\n"
     ]
    },
    {
     "name": "stderr",
     "output_type": "stream",
     "text": [
      "Training Batches: 100%|██████████| 380/380 [00:15<00:00, 24.68it/s]\n",
      "Running inference: 100%|██████████| 281/281 [00:03<00:00, 86.45it/s]\n",
      "Running inference: 100%|██████████| 289/289 [00:03<00:00, 83.14it/s]\n"
     ]
    },
    {
     "name": "stdout",
     "output_type": "stream",
     "text": [
      "Epoch: 003, Average Loss: 0.3659\n",
      "Validation: {'recall': 0.27880189706131486, 'precision': 0.43518859030798995, 'f1': 0.31390502877291415, 'auc': 0.7195215989072603, 'prauc': 0.4265127001808003}\n",
      "Test:       {'recall': 0.28216401305501626, 'precision': 0.3760214257124152, 'f1': 0.3140966217397282, 'auc': 0.7185626934404432, 'prauc': 0.4274848204839759}\n"
     ]
    },
    {
     "name": "stderr",
     "output_type": "stream",
     "text": [
      "Training Batches: 100%|██████████| 380/380 [00:14<00:00, 25.96it/s]\n",
      "Running inference: 100%|██████████| 281/281 [00:03<00:00, 88.89it/s]\n",
      "Running inference: 100%|██████████| 289/289 [00:03<00:00, 84.26it/s]\n"
     ]
    },
    {
     "name": "stdout",
     "output_type": "stream",
     "text": [
      "Epoch: 004, Average Loss: 0.3524\n",
      "Validation: {'recall': 0.3506885680024173, 'precision': 0.38083125323096956, 'f1': 0.3595463727927219, 'auc': 0.7413820955822542, 'prauc': 0.43930784270522405}\n",
      "Test:       {'recall': 0.3496708321675232, 'precision': 0.3813353819152572, 'f1': 0.35949168581649815, 'auc': 0.7330633840159657, 'prauc': 0.43491767873827486}\n"
     ]
    },
    {
     "name": "stderr",
     "output_type": "stream",
     "text": [
      "Training Batches: 100%|██████████| 380/380 [00:14<00:00, 26.39it/s]\n",
      "Running inference: 100%|██████████| 281/281 [00:03<00:00, 90.87it/s] \n",
      "Running inference: 100%|██████████| 289/289 [00:03<00:00, 83.08it/s]\n"
     ]
    },
    {
     "name": "stdout",
     "output_type": "stream",
     "text": [
      "Epoch: 005, Average Loss: 0.3411\n",
      "Validation: {'recall': 0.3336675498770467, 'precision': 0.42927239190640526, 'f1': 0.35453629276232923, 'auc': 0.7380780011623693, 'prauc': 0.44177797390225365}\n",
      "Test:       {'recall': 0.33892511173486795, 'precision': 0.4440816783019768, 'f1': 0.3596497171873321, 'auc': 0.7266197049973858, 'prauc': 0.44073991381681255}\n"
     ]
    },
    {
     "name": "stderr",
     "output_type": "stream",
     "text": [
      "Training Batches: 100%|██████████| 380/380 [00:14<00:00, 26.18it/s]\n",
      "Running inference: 100%|██████████| 281/281 [00:03<00:00, 90.09it/s]\n",
      "Running inference: 100%|██████████| 289/289 [00:03<00:00, 84.66it/s]\n"
     ]
    },
    {
     "name": "stdout",
     "output_type": "stream",
     "text": [
      "Epoch: 006, Average Loss: 0.3316\n",
      "Validation: {'recall': 0.330698110145782, 'precision': 0.4184852998503386, 'f1': 0.35891035568775354, 'auc': 0.7368152512003894, 'prauc': 0.4368587202929057}\n",
      "Test:       {'recall': 0.3260999336763477, 'precision': 0.4254305927957899, 'f1': 0.35612027155816295, 'auc': 0.7249697408644993, 'prauc': 0.4352652091511892}\n"
     ]
    },
    {
     "name": "stderr",
     "output_type": "stream",
     "text": [
      "Training Batches: 100%|██████████| 380/380 [00:14<00:00, 26.13it/s]\n",
      "Running inference: 100%|██████████| 281/281 [00:03<00:00, 89.50it/s]\n",
      "Running inference: 100%|██████████| 289/289 [00:03<00:00, 82.88it/s]\n"
     ]
    },
    {
     "name": "stdout",
     "output_type": "stream",
     "text": [
      "Epoch: 007, Average Loss: 0.3210\n",
      "Validation: {'recall': 0.33329158375402657, 'precision': 0.4618507746258405, 'f1': 0.3686413125446719, 'auc': 0.7360796546586038, 'prauc': 0.4411561660014764}\n",
      "Test:       {'recall': 0.32865985298442457, 'precision': 0.4345514318103715, 'f1': 0.3630956874588552, 'auc': 0.7314676090631677, 'prauc': 0.4456841193776148}\n"
     ]
    },
    {
     "name": "stderr",
     "output_type": "stream",
     "text": [
      "Training Batches: 100%|██████████| 380/380 [00:14<00:00, 26.19it/s]\n",
      "Running inference: 100%|██████████| 281/281 [00:03<00:00, 89.72it/s]\n",
      "Running inference: 100%|██████████| 289/289 [00:03<00:00, 82.78it/s]\n"
     ]
    },
    {
     "name": "stdout",
     "output_type": "stream",
     "text": [
      "Epoch: 008, Average Loss: 0.3121\n",
      "Validation: {'recall': 0.35591644339385514, 'precision': 0.4452603500883849, 'f1': 0.38515924970105625, 'auc': 0.7360543317434051, 'prauc': 0.4383437074469725}\n",
      "Test:       {'recall': 0.35680749284936997, 'precision': 0.44610936599258444, 'f1': 0.38659774038556277, 'auc': 0.7306168299731708, 'prauc': 0.43920996577046995}\n"
     ]
    },
    {
     "name": "stderr",
     "output_type": "stream",
     "text": [
      "Training Batches: 100%|██████████| 380/380 [00:15<00:00, 24.68it/s]\n",
      "Running inference: 100%|██████████| 281/281 [00:03<00:00, 88.81it/s]\n",
      "Running inference: 100%|██████████| 289/289 [00:03<00:00, 81.98it/s]\n"
     ]
    },
    {
     "name": "stdout",
     "output_type": "stream",
     "text": [
      "Epoch: 009, Average Loss: 0.3028\n",
      "Validation: {'recall': 0.3644490045381201, 'precision': 0.4204180862288999, 'f1': 0.37775808831898616, 'auc': 0.7398064733349735, 'prauc': 0.43293119917864925}\n",
      "Test:       {'recall': 0.35307135086645913, 'precision': 0.41679868615260873, 'f1': 0.3683619836487247, 'auc': 0.7201521093102197, 'prauc': 0.4356552059107349}\n"
     ]
    },
    {
     "name": "stderr",
     "output_type": "stream",
     "text": [
      "Training Batches: 100%|██████████| 380/380 [00:14<00:00, 26.29it/s]\n",
      "Running inference: 100%|██████████| 281/281 [00:03<00:00, 90.03it/s]\n",
      "Running inference: 100%|██████████| 289/289 [00:03<00:00, 84.17it/s]\n"
     ]
    },
    {
     "name": "stdout",
     "output_type": "stream",
     "text": [
      "Epoch: 010, Average Loss: 0.2934\n",
      "Validation: {'recall': 0.3921638239105138, 'precision': 0.4219972460778758, 'f1': 0.3962335658511365, 'auc': 0.7316027419724512, 'prauc': 0.4391381261474791}\n",
      "Test:       {'recall': 0.3854281705600965, 'precision': 0.4670789507367801, 'f1': 0.3905318868999555, 'auc': 0.7229351967792206, 'prauc': 0.44242541124266865}\n"
     ]
    },
    {
     "name": "stderr",
     "output_type": "stream",
     "text": [
      "Training Batches: 100%|██████████| 380/380 [00:14<00:00, 25.93it/s]\n",
      "Running inference: 100%|██████████| 281/281 [00:03<00:00, 88.49it/s]\n",
      "Running inference: 100%|██████████| 289/289 [00:03<00:00, 84.70it/s]\n"
     ]
    },
    {
     "name": "stdout",
     "output_type": "stream",
     "text": [
      "Epoch: 011, Average Loss: 0.2845\n",
      "Validation: {'recall': 0.3836378026130504, 'precision': 0.42262340776405904, 'f1': 0.3945035470352224, 'auc': 0.7334919979258271, 'prauc': 0.4404852535769189}\n",
      "Test:       {'recall': 0.37556688554763795, 'precision': 0.40560337251296136, 'f1': 0.38777763159060863, 'auc': 0.728349259145225, 'prauc': 0.4427745703221845}\n"
     ]
    },
    {
     "name": "stderr",
     "output_type": "stream",
     "text": [
      "Training Batches: 100%|██████████| 380/380 [00:14<00:00, 26.21it/s]\n",
      "Running inference: 100%|██████████| 281/281 [00:03<00:00, 90.44it/s]\n",
      "Running inference: 100%|██████████| 289/289 [00:03<00:00, 84.31it/s]\n"
     ]
    },
    {
     "name": "stdout",
     "output_type": "stream",
     "text": [
      "Epoch: 012, Average Loss: 0.2800\n",
      "Validation: {'recall': 0.3704709299249027, 'precision': 0.43752314907169915, 'f1': 0.39410705854132, 'auc': 0.733617253366997, 'prauc': 0.44340157205577824}\n",
      "Test:       {'recall': 0.36321542770776244, 'precision': 0.45636891055825957, 'f1': 0.38838055512849834, 'auc': 0.7334966349976031, 'prauc': 0.4471489360111646}\n"
     ]
    },
    {
     "name": "stderr",
     "output_type": "stream",
     "text": [
      "Training Batches: 100%|██████████| 380/380 [00:14<00:00, 26.13it/s]\n",
      "Running inference: 100%|██████████| 281/281 [00:03<00:00, 89.56it/s]\n",
      "Running inference: 100%|██████████| 289/289 [00:03<00:00, 83.07it/s]\n"
     ]
    },
    {
     "name": "stdout",
     "output_type": "stream",
     "text": [
      "Epoch: 013, Average Loss: 0.2697\n",
      "Validation: {'recall': 0.38490283684925114, 'precision': 0.42759155357641915, 'f1': 0.3957864397496555, 'auc': 0.7279695867875904, 'prauc': 0.42966646322818075}\n",
      "Test:       {'recall': 0.3779649322794411, 'precision': 0.43352564782842595, 'f1': 0.39056045430546116, 'auc': 0.7293772821968849, 'prauc': 0.43805846411069393}\n"
     ]
    },
    {
     "name": "stderr",
     "output_type": "stream",
     "text": [
      "Training Batches: 100%|██████████| 380/380 [00:14<00:00, 26.15it/s]\n",
      "Running inference: 100%|██████████| 281/281 [00:03<00:00, 88.38it/s]\n",
      "Running inference: 100%|██████████| 289/289 [00:03<00:00, 84.46it/s]\n"
     ]
    },
    {
     "name": "stdout",
     "output_type": "stream",
     "text": [
      "Epoch: 014, Average Loss: 0.2611\n",
      "Validation: {'recall': 0.34746468007456166, 'precision': 0.40416858704667863, 'f1': 0.3678813974635397, 'auc': 0.7272106939480146, 'prauc': 0.4313850739476911}\n",
      "Test:       {'recall': 0.35562240404665, 'precision': 0.4396350625099884, 'f1': 0.37865591116065145, 'auc': 0.7259596623950791, 'prauc': 0.4390603228015069}\n"
     ]
    },
    {
     "name": "stderr",
     "output_type": "stream",
     "text": [
      "Training Batches: 100%|██████████| 380/380 [00:14<00:00, 25.49it/s]\n",
      "Running inference: 100%|██████████| 281/281 [00:03<00:00, 89.18it/s]\n",
      "Running inference: 100%|██████████| 289/289 [00:03<00:00, 83.95it/s]\n"
     ]
    },
    {
     "name": "stdout",
     "output_type": "stream",
     "text": [
      "Epoch: 015, Average Loss: 0.2553\n",
      "Validation: {'recall': 0.37893909380982815, 'precision': 0.4369682879896606, 'f1': 0.39333258695746637, 'auc': 0.72331898070999, 'prauc': 0.428099872996316}\n",
      "Test:       {'recall': 0.3751811260683041, 'precision': 0.4255858390199572, 'f1': 0.3926980118016835, 'auc': 0.7248854486508622, 'prauc': 0.43678179715045806}\n",
      "\n",
      "Early stopping triggered after 15 epochs (no improvement for 5 epochs).\n",
      "\n",
      "Best validation performance:\n",
      "{'recall': 0.3921638239105138, 'precision': 0.4219972460778758, 'f1': 0.3962335658511365, 'auc': 0.7316027419724512, 'prauc': 0.4391381261474791}\n",
      "Corresponding test performance:\n",
      "{'recall': 0.3854281705600965, 'precision': 0.4670789507367801, 'f1': 0.3905318868999555, 'auc': 0.7229351967792206, 'prauc': 0.44242541124266865}\n",
      "[INFO] Random seed set to 3163119785\n",
      "Training with seed: 3163119785\n"
     ]
    },
    {
     "name": "stderr",
     "output_type": "stream",
     "text": [
      "Training Batches: 100%|██████████| 380/380 [00:14<00:00, 26.03it/s]\n",
      "Running inference: 100%|██████████| 281/281 [00:03<00:00, 88.71it/s]\n",
      "Running inference: 100%|██████████| 289/289 [00:03<00:00, 83.03it/s]\n"
     ]
    },
    {
     "name": "stdout",
     "output_type": "stream",
     "text": [
      "Epoch: 001, Average Loss: 0.4359\n",
      "Validation: {'recall': 0.20199063961104155, 'precision': 0.3597654475153329, 'f1': 0.22637643505208127, 'auc': 0.6982014326098199, 'prauc': 0.39570170999970267}\n",
      "Test:       {'recall': 0.20449576441276912, 'precision': 0.3617861856023239, 'f1': 0.22907524747405017, 'auc': 0.7061678906259007, 'prauc': 0.3935216992939736}\n"
     ]
    },
    {
     "name": "stderr",
     "output_type": "stream",
     "text": [
      "Training Batches: 100%|██████████| 380/380 [00:14<00:00, 25.97it/s]\n",
      "Running inference: 100%|██████████| 281/281 [00:03<00:00, 88.00it/s]\n",
      "Running inference: 100%|██████████| 289/289 [00:03<00:00, 84.80it/s]\n"
     ]
    },
    {
     "name": "stdout",
     "output_type": "stream",
     "text": [
      "Epoch: 002, Average Loss: 0.3826\n",
      "Validation: {'recall': 0.30683179142490863, 'precision': 0.40169215680018017, 'f1': 0.3321017597776989, 'auc': 0.7253150856900324, 'prauc': 0.430300334417487}\n",
      "Test:       {'recall': 0.3092156276939385, 'precision': 0.40066609683170074, 'f1': 0.3330050804142383, 'auc': 0.7274223894408091, 'prauc': 0.4202860987526912}\n"
     ]
    },
    {
     "name": "stderr",
     "output_type": "stream",
     "text": [
      "Training Batches: 100%|██████████| 380/380 [00:14<00:00, 26.28it/s]\n",
      "Running inference: 100%|██████████| 281/281 [00:03<00:00, 89.54it/s]\n",
      "Running inference: 100%|██████████| 289/289 [00:03<00:00, 84.09it/s]\n"
     ]
    },
    {
     "name": "stdout",
     "output_type": "stream",
     "text": [
      "Epoch: 003, Average Loss: 0.3618\n",
      "Validation: {'recall': 0.3192530372427512, 'precision': 0.4157893743488537, 'f1': 0.35007606478479275, 'auc': 0.7147347219476604, 'prauc': 0.4265599545767117}\n",
      "Test:       {'recall': 0.3216958632676046, 'precision': 0.4135755663291925, 'f1': 0.35135795785472584, 'auc': 0.7283337380406061, 'prauc': 0.42300564839126115}\n"
     ]
    },
    {
     "name": "stderr",
     "output_type": "stream",
     "text": [
      "Training Batches: 100%|██████████| 380/380 [00:14<00:00, 25.79it/s]\n",
      "Running inference: 100%|██████████| 281/281 [00:03<00:00, 90.03it/s]\n",
      "Running inference: 100%|██████████| 289/289 [00:03<00:00, 84.99it/s]\n"
     ]
    },
    {
     "name": "stdout",
     "output_type": "stream",
     "text": [
      "Epoch: 004, Average Loss: 0.3484\n",
      "Validation: {'recall': 0.2679770335455859, 'precision': 0.4170179251181796, 'f1': 0.30132047776927984, 'auc': 0.7267753078775526, 'prauc': 0.4298674119650877}\n",
      "Test:       {'recall': 0.2672112470727391, 'precision': 0.4134720803127936, 'f1': 0.2972200709926798, 'auc': 0.7232054736779502, 'prauc': 0.42059254663282997}\n"
     ]
    },
    {
     "name": "stderr",
     "output_type": "stream",
     "text": [
      "Training Batches: 100%|██████████| 380/380 [00:14<00:00, 25.56it/s]\n",
      "Running inference: 100%|██████████| 281/281 [00:03<00:00, 86.99it/s]\n",
      "Running inference: 100%|██████████| 289/289 [00:03<00:00, 81.03it/s]\n"
     ]
    },
    {
     "name": "stdout",
     "output_type": "stream",
     "text": [
      "Epoch: 005, Average Loss: 0.3393\n",
      "Validation: {'recall': 0.335548560872398, 'precision': 0.41523591691805994, 'f1': 0.35222313419566237, 'auc': 0.7297896526483455, 'prauc': 0.4296717932857969}\n",
      "Test:       {'recall': 0.3398973998807963, 'precision': 0.418050376151333, 'f1': 0.3544648889467057, 'auc': 0.7286785791982541, 'prauc': 0.42673754815867515}\n"
     ]
    },
    {
     "name": "stderr",
     "output_type": "stream",
     "text": [
      "Training Batches: 100%|██████████| 380/380 [00:15<00:00, 24.42it/s]\n",
      "Running inference: 100%|██████████| 281/281 [00:03<00:00, 86.73it/s]\n",
      "Running inference: 100%|██████████| 289/289 [00:03<00:00, 84.06it/s]\n"
     ]
    },
    {
     "name": "stdout",
     "output_type": "stream",
     "text": [
      "Epoch: 006, Average Loss: 0.3285\n",
      "Validation: {'recall': 0.3242038355846393, 'precision': 0.40432592951229096, 'f1': 0.3428555296736199, 'auc': 0.7257408058007648, 'prauc': 0.4280823982097602}\n",
      "Test:       {'recall': 0.32916856870550504, 'precision': 0.4039894202759871, 'f1': 0.3489015407948048, 'auc': 0.7184452695417122, 'prauc': 0.4259947848387908}\n"
     ]
    },
    {
     "name": "stderr",
     "output_type": "stream",
     "text": [
      "Training Batches: 100%|██████████| 380/380 [00:14<00:00, 26.00it/s]\n",
      "Running inference: 100%|██████████| 281/281 [00:03<00:00, 88.87it/s]\n",
      "Running inference: 100%|██████████| 289/289 [00:03<00:00, 85.00it/s]\n"
     ]
    },
    {
     "name": "stdout",
     "output_type": "stream",
     "text": [
      "Epoch: 007, Average Loss: 0.3184\n",
      "Validation: {'recall': 0.3534444634372703, 'precision': 0.40781821749470454, 'f1': 0.3693238931275513, 'auc': 0.721883158065831, 'prauc': 0.43052509579150117}\n",
      "Test:       {'recall': 0.36326984961760617, 'precision': 0.4162715328780522, 'f1': 0.37828061615524117, 'auc': 0.7298321660528438, 'prauc': 0.431194849071547}\n"
     ]
    },
    {
     "name": "stderr",
     "output_type": "stream",
     "text": [
      "Training Batches: 100%|██████████| 380/380 [00:14<00:00, 26.20it/s]\n",
      "Running inference: 100%|██████████| 281/281 [00:03<00:00, 89.14it/s]\n",
      "Running inference: 100%|██████████| 289/289 [00:03<00:00, 83.79it/s]\n"
     ]
    },
    {
     "name": "stdout",
     "output_type": "stream",
     "text": [
      "Epoch: 008, Average Loss: 0.3077\n",
      "Validation: {'recall': 0.372105893918952, 'precision': 0.4190547628810171, 'f1': 0.3778116348765353, 'auc': 0.7121434558089806, 'prauc': 0.42773298322830505}\n",
      "Test:       {'recall': 0.3703626989132079, 'precision': 0.4036302872373372, 'f1': 0.38123031377591476, 'auc': 0.7233750357275777, 'prauc': 0.4316825664289017}\n"
     ]
    },
    {
     "name": "stderr",
     "output_type": "stream",
     "text": [
      "Training Batches: 100%|██████████| 380/380 [00:14<00:00, 25.91it/s]\n",
      "Running inference: 100%|██████████| 281/281 [00:03<00:00, 89.64it/s]\n",
      "Running inference: 100%|██████████| 289/289 [00:03<00:00, 85.54it/s]\n"
     ]
    },
    {
     "name": "stdout",
     "output_type": "stream",
     "text": [
      "Epoch: 009, Average Loss: 0.3004\n",
      "Validation: {'recall': 0.3682225055448371, 'precision': 0.4179059373692863, 'f1': 0.3833615630956964, 'auc': 0.7271630742365692, 'prauc': 0.4358111396165386}\n",
      "Test:       {'recall': 0.3639489640301037, 'precision': 0.4268237906248835, 'f1': 0.3822431532425681, 'auc': 0.7277779507078027, 'prauc': 0.4348666010246191}\n"
     ]
    },
    {
     "name": "stderr",
     "output_type": "stream",
     "text": [
      "Training Batches: 100%|██████████| 380/380 [00:14<00:00, 26.05it/s]\n",
      "Running inference: 100%|██████████| 281/281 [00:03<00:00, 88.48it/s]\n",
      "Running inference: 100%|██████████| 289/289 [00:03<00:00, 85.04it/s]\n"
     ]
    },
    {
     "name": "stdout",
     "output_type": "stream",
     "text": [
      "Epoch: 010, Average Loss: 0.2924\n",
      "Validation: {'recall': 0.38162935224696654, 'precision': 0.43584324455567824, 'f1': 0.39520398449878674, 'auc': 0.7253998685706644, 'prauc': 0.4329957587244385}\n",
      "Test:       {'recall': 0.3840915667751847, 'precision': 0.44333290335682196, 'f1': 0.39833176118211605, 'auc': 0.7231734055856731, 'prauc': 0.4323095750501424}\n"
     ]
    },
    {
     "name": "stderr",
     "output_type": "stream",
     "text": [
      "Training Batches: 100%|██████████| 380/380 [00:14<00:00, 26.10it/s]\n",
      "Running inference: 100%|██████████| 281/281 [00:03<00:00, 87.77it/s]\n",
      "Running inference: 100%|██████████| 289/289 [00:03<00:00, 83.05it/s]\n"
     ]
    },
    {
     "name": "stdout",
     "output_type": "stream",
     "text": [
      "Epoch: 011, Average Loss: 0.2789\n",
      "Validation: {'recall': 0.34326864533092605, 'precision': 0.41101051278217055, 'f1': 0.3538548722968559, 'auc': 0.7187154468677832, 'prauc': 0.4240876886073611}\n",
      "Test:       {'recall': 0.34101589828690154, 'precision': 0.42524757570598576, 'f1': 0.3564194458976924, 'auc': 0.718758593188872, 'prauc': 0.4257736722982422}\n"
     ]
    },
    {
     "name": "stderr",
     "output_type": "stream",
     "text": [
      "Training Batches: 100%|██████████| 380/380 [00:14<00:00, 25.39it/s]\n",
      "Running inference: 100%|██████████| 281/281 [00:03<00:00, 89.81it/s]\n",
      "Running inference: 100%|██████████| 289/289 [00:03<00:00, 85.14it/s]\n"
     ]
    },
    {
     "name": "stdout",
     "output_type": "stream",
     "text": [
      "Epoch: 012, Average Loss: 0.2741\n",
      "Validation: {'recall': 0.36441405070687405, 'precision': 0.4304622464991817, 'f1': 0.3781323469679367, 'auc': 0.7207292207534154, 'prauc': 0.42474779997274104}\n",
      "Test:       {'recall': 0.3675266786045378, 'precision': 0.40139610542005694, 'f1': 0.3751988476279937, 'auc': 0.7180613934049164, 'prauc': 0.426918019346385}\n"
     ]
    },
    {
     "name": "stderr",
     "output_type": "stream",
     "text": [
      "Training Batches: 100%|██████████| 380/380 [00:14<00:00, 26.00it/s]\n",
      "Running inference: 100%|██████████| 281/281 [00:03<00:00, 88.84it/s]\n",
      "Running inference: 100%|██████████| 289/289 [00:03<00:00, 84.32it/s]\n"
     ]
    },
    {
     "name": "stdout",
     "output_type": "stream",
     "text": [
      "Epoch: 013, Average Loss: 0.2676\n",
      "Validation: {'recall': 0.38079532295643925, 'precision': 0.4302409362715802, 'f1': 0.38725602025630584, 'auc': 0.7154205806174884, 'prauc': 0.4229180369000509}\n",
      "Test:       {'recall': 0.37410148467859977, 'precision': 0.4193712666565912, 'f1': 0.38368814585533506, 'auc': 0.7190643205011292, 'prauc': 0.42429833572715503}\n"
     ]
    },
    {
     "name": "stderr",
     "output_type": "stream",
     "text": [
      "Training Batches: 100%|██████████| 380/380 [00:14<00:00, 26.22it/s]\n",
      "Running inference: 100%|██████████| 281/281 [00:03<00:00, 88.80it/s]\n",
      "Running inference: 100%|██████████| 289/289 [00:03<00:00, 85.35it/s]\n"
     ]
    },
    {
     "name": "stdout",
     "output_type": "stream",
     "text": [
      "Epoch: 014, Average Loss: 0.2602\n",
      "Validation: {'recall': 0.3886287051316756, 'precision': 0.40404380306633514, 'f1': 0.38649863984064564, 'auc': 0.7151332390906389, 'prauc': 0.41951543123283125}\n",
      "Test:       {'recall': 0.4024753129816599, 'precision': 0.41292221937086837, 'f1': 0.39715109220791195, 'auc': 0.7199765841889186, 'prauc': 0.4242926138415099}\n"
     ]
    },
    {
     "name": "stderr",
     "output_type": "stream",
     "text": [
      "Training Batches: 100%|██████████| 380/380 [00:14<00:00, 26.18it/s]\n",
      "Running inference: 100%|██████████| 281/281 [00:03<00:00, 88.58it/s]\n",
      "Running inference: 100%|██████████| 289/289 [00:03<00:00, 83.96it/s]\n"
     ]
    },
    {
     "name": "stdout",
     "output_type": "stream",
     "text": [
      "Epoch: 015, Average Loss: 0.2512\n",
      "Validation: {'recall': 0.35506265704735246, 'precision': 0.4296043825714046, 'f1': 0.38047264070281916, 'auc': 0.7158407441432106, 'prauc': 0.42594778732487054}\n",
      "Test:       {'recall': 0.3519607955118179, 'precision': 0.43373531176118374, 'f1': 0.37764085978996226, 'auc': 0.7214495584039189, 'prauc': 0.4286338475332516}\n",
      "\n",
      "Early stopping triggered after 15 epochs (no improvement for 5 epochs).\n",
      "\n",
      "Best validation performance:\n",
      "{'recall': 0.38162935224696654, 'precision': 0.43584324455567824, 'f1': 0.39520398449878674, 'auc': 0.7253998685706644, 'prauc': 0.4329957587244385}\n",
      "Corresponding test performance:\n",
      "{'recall': 0.3840915667751847, 'precision': 0.44333290335682196, 'f1': 0.39833176118211605, 'auc': 0.7231734055856731, 'prauc': 0.4323095750501424}\n",
      "[INFO] Random seed set to 1812140441\n",
      "Training with seed: 1812140441\n"
     ]
    },
    {
     "name": "stderr",
     "output_type": "stream",
     "text": [
      "Training Batches: 100%|██████████| 380/380 [00:14<00:00, 26.31it/s]\n",
      "Running inference: 100%|██████████| 281/281 [00:03<00:00, 89.04it/s]\n",
      "Running inference: 100%|██████████| 289/289 [00:03<00:00, 84.35it/s]\n"
     ]
    },
    {
     "name": "stdout",
     "output_type": "stream",
     "text": [
      "Epoch: 001, Average Loss: 0.4271\n",
      "Validation: {'recall': 0.23384360281433858, 'precision': 0.332041277209937, 'f1': 0.26075524185690596, 'auc': 0.6856607730385282, 'prauc': 0.4043709470715211}\n",
      "Test:       {'recall': 0.23886613085264902, 'precision': 0.33582467716586695, 'f1': 0.2643974762565651, 'auc': 0.6934341062458507, 'prauc': 0.39996559885197186}\n"
     ]
    },
    {
     "name": "stderr",
     "output_type": "stream",
     "text": [
      "Training Batches: 100%|██████████| 380/380 [00:14<00:00, 26.28it/s]\n",
      "Running inference: 100%|██████████| 281/281 [00:03<00:00, 88.39it/s]\n",
      "Running inference: 100%|██████████| 289/289 [00:03<00:00, 83.69it/s]\n"
     ]
    },
    {
     "name": "stdout",
     "output_type": "stream",
     "text": [
      "Epoch: 002, Average Loss: 0.3814\n",
      "Validation: {'recall': 0.28388649439270397, 'precision': 0.4028812892113949, 'f1': 0.3110700523426313, 'auc': 0.7240675639717066, 'prauc': 0.4373826351897861}\n",
      "Test:       {'recall': 0.2832267450771646, 'precision': 0.40488729273881835, 'f1': 0.3105955304228971, 'auc': 0.7274572297748011, 'prauc': 0.42922334594004213}\n"
     ]
    },
    {
     "name": "stderr",
     "output_type": "stream",
     "text": [
      "Training Batches: 100%|██████████| 380/380 [00:15<00:00, 25.18it/s]\n",
      "Running inference: 100%|██████████| 281/281 [00:03<00:00, 90.56it/s]\n",
      "Running inference: 100%|██████████| 289/289 [00:03<00:00, 82.68it/s]\n"
     ]
    },
    {
     "name": "stdout",
     "output_type": "stream",
     "text": [
      "Epoch: 003, Average Loss: 0.3631\n",
      "Validation: {'recall': 0.2974440225789085, 'precision': 0.4432455854529766, 'f1': 0.3290305241130524, 'auc': 0.7409159731004644, 'prauc': 0.44988276131579863}\n",
      "Test:       {'recall': 0.3058123257034326, 'precision': 0.455170129955968, 'f1': 0.3377861177636856, 'auc': 0.7352354132889373, 'prauc': 0.44070921394052076}\n"
     ]
    },
    {
     "name": "stderr",
     "output_type": "stream",
     "text": [
      "Training Batches: 100%|██████████| 380/380 [00:15<00:00, 25.19it/s]\n",
      "Running inference: 100%|██████████| 281/281 [00:03<00:00, 88.62it/s]\n",
      "Running inference: 100%|██████████| 289/289 [00:03<00:00, 83.69it/s]\n"
     ]
    },
    {
     "name": "stdout",
     "output_type": "stream",
     "text": [
      "Epoch: 004, Average Loss: 0.3504\n",
      "Validation: {'recall': 0.36793224406343955, 'precision': 0.41130783529592285, 'f1': 0.3669815397915235, 'auc': 0.7444597787629657, 'prauc': 0.4512618899714812}\n",
      "Test:       {'recall': 0.3743124592791203, 'precision': 0.426864893590041, 'f1': 0.37569734062657645, 'auc': 0.7251527086417999, 'prauc': 0.44725453508917745}\n"
     ]
    },
    {
     "name": "stderr",
     "output_type": "stream",
     "text": [
      "Training Batches: 100%|██████████| 380/380 [00:14<00:00, 25.73it/s]\n",
      "Running inference: 100%|██████████| 281/281 [00:03<00:00, 88.45it/s]\n",
      "Running inference: 100%|██████████| 289/289 [00:03<00:00, 84.66it/s]\n"
     ]
    },
    {
     "name": "stdout",
     "output_type": "stream",
     "text": [
      "Epoch: 005, Average Loss: 0.3371\n",
      "Validation: {'recall': 0.32454030134170003, 'precision': 0.4293529446056388, 'f1': 0.3481073570887928, 'auc': 0.737217995689078, 'prauc': 0.4435145797084531}\n",
      "Test:       {'recall': 0.3207400005693252, 'precision': 0.42712768296075854, 'f1': 0.34670746443649414, 'auc': 0.7303621669847463, 'prauc': 0.4441498833297093}\n"
     ]
    },
    {
     "name": "stderr",
     "output_type": "stream",
     "text": [
      "Training Batches: 100%|██████████| 380/380 [00:14<00:00, 26.00it/s]\n",
      "Running inference: 100%|██████████| 281/281 [00:03<00:00, 89.22it/s]\n",
      "Running inference: 100%|██████████| 289/289 [00:03<00:00, 84.64it/s]\n"
     ]
    },
    {
     "name": "stdout",
     "output_type": "stream",
     "text": [
      "Epoch: 006, Average Loss: 0.3284\n",
      "Validation: {'recall': 0.3637422024272424, 'precision': 0.42056174697700005, 'f1': 0.38572335070463626, 'auc': 0.7298781839263105, 'prauc': 0.44610682231571264}\n",
      "Test:       {'recall': 0.36301898444664965, 'precision': 0.41763677687562356, 'f1': 0.3840664118784052, 'auc': 0.7347237629499338, 'prauc': 0.4476740864724891}\n"
     ]
    },
    {
     "name": "stderr",
     "output_type": "stream",
     "text": [
      "Training Batches: 100%|██████████| 380/380 [00:14<00:00, 26.18it/s]\n",
      "Running inference: 100%|██████████| 281/281 [00:03<00:00, 90.00it/s]\n",
      "Running inference: 100%|██████████| 289/289 [00:03<00:00, 86.06it/s]\n"
     ]
    },
    {
     "name": "stdout",
     "output_type": "stream",
     "text": [
      "Epoch: 007, Average Loss: 0.3161\n",
      "Validation: {'recall': 0.33679239045124676, 'precision': 0.4459410742474318, 'f1': 0.3704826493973351, 'auc': 0.7287630710230165, 'prauc': 0.44648573346747167}\n",
      "Test:       {'recall': 0.34309804442547265, 'precision': 0.4349848928173865, 'f1': 0.3692345045181998, 'auc': 0.7337566123845154, 'prauc': 0.446154014597387}\n"
     ]
    },
    {
     "name": "stderr",
     "output_type": "stream",
     "text": [
      "Training Batches: 100%|██████████| 380/380 [00:14<00:00, 26.13it/s]\n",
      "Running inference: 100%|██████████| 281/281 [00:03<00:00, 88.32it/s]\n",
      "Running inference: 100%|██████████| 289/289 [00:03<00:00, 84.20it/s]\n"
     ]
    },
    {
     "name": "stdout",
     "output_type": "stream",
     "text": [
      "Epoch: 008, Average Loss: 0.3062\n",
      "Validation: {'recall': 0.37098524613795414, 'precision': 0.4214086637612375, 'f1': 0.38839137537628293, 'auc': 0.7264437663199516, 'prauc': 0.4402008914220015}\n",
      "Test:       {'recall': 0.38358227355897667, 'precision': 0.4582718243132596, 'f1': 0.39642688802134096, 'auc': 0.730624836178453, 'prauc': 0.44053053560699346}\n"
     ]
    },
    {
     "name": "stderr",
     "output_type": "stream",
     "text": [
      "Training Batches: 100%|██████████| 380/380 [00:14<00:00, 25.77it/s]\n",
      "Running inference: 100%|██████████| 281/281 [00:03<00:00, 88.47it/s]\n",
      "Running inference: 100%|██████████| 289/289 [00:03<00:00, 83.53it/s]\n"
     ]
    },
    {
     "name": "stdout",
     "output_type": "stream",
     "text": [
      "Epoch: 009, Average Loss: 0.2967\n",
      "Validation: {'recall': 0.3778782288866706, 'precision': 0.4248490770101758, 'f1': 0.3858904172208736, 'auc': 0.7298593991818095, 'prauc': 0.44114936469985455}\n",
      "Test:       {'recall': 0.38041981057244795, 'precision': 0.4469359355434947, 'f1': 0.38723371358950165, 'auc': 0.7295331106317361, 'prauc': 0.4401882238823841}\n"
     ]
    },
    {
     "name": "stderr",
     "output_type": "stream",
     "text": [
      "Training Batches: 100%|██████████| 380/380 [00:14<00:00, 26.16it/s]\n",
      "Running inference: 100%|██████████| 281/281 [00:03<00:00, 88.83it/s]\n",
      "Running inference: 100%|██████████| 289/289 [00:03<00:00, 83.43it/s]\n"
     ]
    },
    {
     "name": "stdout",
     "output_type": "stream",
     "text": [
      "Epoch: 010, Average Loss: 0.2906\n",
      "Validation: {'recall': 0.35061008115932973, 'precision': 0.4386976192153569, 'f1': 0.3759577224868809, 'auc': 0.72324287170904, 'prauc': 0.43777688378124424}\n",
      "Test:       {'recall': 0.3566199147593529, 'precision': 0.44386050785857556, 'f1': 0.3816459697920353, 'auc': 0.7218296008051558, 'prauc': 0.4375088360714414}\n"
     ]
    },
    {
     "name": "stderr",
     "output_type": "stream",
     "text": [
      "Training Batches: 100%|██████████| 380/380 [00:14<00:00, 25.52it/s]\n",
      "Running inference: 100%|██████████| 281/281 [00:03<00:00, 88.11it/s]\n",
      "Running inference: 100%|██████████| 289/289 [00:03<00:00, 84.55it/s]\n"
     ]
    },
    {
     "name": "stdout",
     "output_type": "stream",
     "text": [
      "Epoch: 011, Average Loss: 0.2823\n",
      "Validation: {'recall': 0.38545103804114655, 'precision': 0.41867149110219826, 'f1': 0.3956056423486355, 'auc': 0.7199924673990441, 'prauc': 0.43246556375850803}\n",
      "Test:       {'recall': 0.3959546227488132, 'precision': 0.42248494864616315, 'f1': 0.40346925525974675, 'auc': 0.7236181074439276, 'prauc': 0.4411779170150318}\n"
     ]
    },
    {
     "name": "stderr",
     "output_type": "stream",
     "text": [
      "Training Batches: 100%|██████████| 380/380 [00:14<00:00, 25.95it/s]\n",
      "Running inference: 100%|██████████| 281/281 [00:03<00:00, 88.36it/s]\n",
      "Running inference: 100%|██████████| 289/289 [00:03<00:00, 85.29it/s]\n"
     ]
    },
    {
     "name": "stdout",
     "output_type": "stream",
     "text": [
      "Epoch: 012, Average Loss: 0.2746\n",
      "Validation: {'recall': 0.38490545602733944, 'precision': 0.4223449549927475, 'f1': 0.3888458450685147, 'auc': 0.7211226499760199, 'prauc': 0.42863204384314507}\n",
      "Test:       {'recall': 0.38496169571050975, 'precision': 0.42282866610974035, 'f1': 0.39306430464039954, 'auc': 0.7206921236159067, 'prauc': 0.4340160376047528}\n"
     ]
    },
    {
     "name": "stderr",
     "output_type": "stream",
     "text": [
      "Training Batches: 100%|██████████| 380/380 [00:14<00:00, 26.18it/s]\n",
      "Running inference: 100%|██████████| 281/281 [00:03<00:00, 90.25it/s] \n",
      "Running inference: 100%|██████████| 289/289 [00:03<00:00, 84.01it/s]\n"
     ]
    },
    {
     "name": "stdout",
     "output_type": "stream",
     "text": [
      "Epoch: 013, Average Loss: 0.2651\n",
      "Validation: {'recall': 0.36883197886392904, 'precision': 0.4472865772864977, 'f1': 0.39164790386919557, 'auc': 0.7187364509388066, 'prauc': 0.42959818974566155}\n",
      "Test:       {'recall': 0.3757351824063535, 'precision': 0.43112305187999045, 'f1': 0.3972971700331858, 'auc': 0.7208400626121928, 'prauc': 0.4423897133934378}\n"
     ]
    },
    {
     "name": "stderr",
     "output_type": "stream",
     "text": [
      "Training Batches: 100%|██████████| 380/380 [00:14<00:00, 26.08it/s]\n",
      "Running inference: 100%|██████████| 281/281 [00:03<00:00, 87.93it/s]\n",
      "Running inference: 100%|██████████| 289/289 [00:03<00:00, 84.96it/s]\n"
     ]
    },
    {
     "name": "stdout",
     "output_type": "stream",
     "text": [
      "Epoch: 014, Average Loss: 0.2549\n",
      "Validation: {'recall': 0.39759947223860714, 'precision': 0.40882644549779484, 'f1': 0.3972103083865821, 'auc': 0.7097861656618483, 'prauc': 0.4247173089711626}\n",
      "Test:       {'recall': 0.40465978272048, 'precision': 0.4208534876609396, 'f1': 0.4074856204481106, 'auc': 0.7221631632116036, 'prauc': 0.43775318356000054}\n"
     ]
    },
    {
     "name": "stderr",
     "output_type": "stream",
     "text": [
      "Training Batches: 100%|██████████| 380/380 [00:14<00:00, 26.26it/s]\n",
      "Running inference: 100%|██████████| 281/281 [00:03<00:00, 89.48it/s]\n",
      "Running inference: 100%|██████████| 289/289 [00:03<00:00, 85.15it/s]\n"
     ]
    },
    {
     "name": "stdout",
     "output_type": "stream",
     "text": [
      "Epoch: 015, Average Loss: 0.2479\n",
      "Validation: {'recall': 0.3796366062662843, 'precision': 0.4226052595496501, 'f1': 0.38420440653874555, 'auc': 0.711521609427917, 'prauc': 0.42522383184745344}\n",
      "Test:       {'recall': 0.3861714782738759, 'precision': 0.41942565950024646, 'f1': 0.39567156762706684, 'auc': 0.7172385122212859, 'prauc': 0.4331274794812248}\n"
     ]
    },
    {
     "name": "stderr",
     "output_type": "stream",
     "text": [
      "Training Batches: 100%|██████████| 380/380 [00:14<00:00, 26.08it/s]\n",
      "Running inference: 100%|██████████| 281/281 [00:03<00:00, 90.70it/s]\n",
      "Running inference: 100%|██████████| 289/289 [00:03<00:00, 83.24it/s]\n"
     ]
    },
    {
     "name": "stdout",
     "output_type": "stream",
     "text": [
      "Epoch: 016, Average Loss: 0.2434\n",
      "Validation: {'recall': 0.4075740451667787, 'precision': 0.41014831225735177, 'f1': 0.4007362639743379, 'auc': 0.7087210958100117, 'prauc': 0.4218310683695448}\n",
      "Test:       {'recall': 0.4183709938285431, 'precision': 0.398851903930544, 'f1': 0.4025342504565379, 'auc': 0.7168860779228332, 'prauc': 0.42983381638633567}\n"
     ]
    },
    {
     "name": "stderr",
     "output_type": "stream",
     "text": [
      "Training Batches: 100%|██████████| 380/380 [00:15<00:00, 24.89it/s]\n",
      "Running inference: 100%|██████████| 281/281 [00:03<00:00, 88.33it/s]\n",
      "Running inference: 100%|██████████| 289/289 [00:03<00:00, 83.61it/s]\n"
     ]
    },
    {
     "name": "stdout",
     "output_type": "stream",
     "text": [
      "Epoch: 017, Average Loss: 0.2319\n",
      "Validation: {'recall': 0.39055308098354685, 'precision': 0.40397357378956217, 'f1': 0.3847598234125124, 'auc': 0.7113487534882049, 'prauc': 0.41686238661141545}\n",
      "Test:       {'recall': 0.39786750090148615, 'precision': 0.43484375840477835, 'f1': 0.39561065164423725, 'auc': 0.715403912761899, 'prauc': 0.42623982435330343}\n"
     ]
    },
    {
     "name": "stderr",
     "output_type": "stream",
     "text": [
      "Training Batches: 100%|██████████| 380/380 [00:14<00:00, 25.97it/s]\n",
      "Running inference: 100%|██████████| 281/281 [00:03<00:00, 90.18it/s]\n",
      "Running inference: 100%|██████████| 289/289 [00:03<00:00, 85.09it/s]\n"
     ]
    },
    {
     "name": "stdout",
     "output_type": "stream",
     "text": [
      "Epoch: 018, Average Loss: 0.2270\n",
      "Validation: {'recall': 0.38436384147176894, 'precision': 0.416235569384142, 'f1': 0.39028464786547234, 'auc': 0.7099476647235049, 'prauc': 0.4223166761595395}\n",
      "Test:       {'recall': 0.3881847721674066, 'precision': 0.4182108821756942, 'f1': 0.3948873791021787, 'auc': 0.7222656484641765, 'prauc': 0.43376112750069246}\n"
     ]
    },
    {
     "name": "stderr",
     "output_type": "stream",
     "text": [
      "Training Batches: 100%|██████████| 380/380 [00:14<00:00, 25.98it/s]\n",
      "Running inference: 100%|██████████| 281/281 [00:03<00:00, 90.14it/s]\n",
      "Running inference: 100%|██████████| 289/289 [00:03<00:00, 83.77it/s]\n"
     ]
    },
    {
     "name": "stdout",
     "output_type": "stream",
     "text": [
      "Epoch: 019, Average Loss: 0.2169\n",
      "Validation: {'recall': 0.3829304054558744, 'precision': 0.4218510707855134, 'f1': 0.38985040157520084, 'auc': 0.7029814919131617, 'prauc': 0.41746421244631526}\n",
      "Test:       {'recall': 0.3852276089691994, 'precision': 0.4395277805829206, 'f1': 0.3940052568062642, 'auc': 0.7187584874432917, 'prauc': 0.4298804869028679}\n"
     ]
    },
    {
     "name": "stderr",
     "output_type": "stream",
     "text": [
      "Training Batches: 100%|██████████| 380/380 [00:14<00:00, 26.30it/s]\n",
      "Running inference: 100%|██████████| 281/281 [00:03<00:00, 90.05it/s] \n",
      "Running inference: 100%|██████████| 289/289 [00:03<00:00, 83.60it/s]\n"
     ]
    },
    {
     "name": "stdout",
     "output_type": "stream",
     "text": [
      "Epoch: 020, Average Loss: 0.2105\n",
      "Validation: {'recall': 0.37756705991773104, 'precision': 0.42119789269435554, 'f1': 0.3919411394397875, 'auc': 0.7070526879816909, 'prauc': 0.4207865565561912}\n",
      "Test:       {'recall': 0.371764181856147, 'precision': 0.41639846275465375, 'f1': 0.38615461152576797, 'auc': 0.711645534190279, 'prauc': 0.42598205940442424}\n"
     ]
    },
    {
     "name": "stderr",
     "output_type": "stream",
     "text": [
      "Training Batches: 100%|██████████| 380/380 [00:14<00:00, 26.23it/s]\n",
      "Running inference: 100%|██████████| 281/281 [00:03<00:00, 89.76it/s] \n",
      "Running inference: 100%|██████████| 289/289 [00:03<00:00, 82.99it/s]"
     ]
    },
    {
     "name": "stdout",
     "output_type": "stream",
     "text": [
      "Epoch: 021, Average Loss: 0.2028\n",
      "Validation: {'recall': 0.41350864312206675, 'precision': 0.40596395497488463, 'f1': 0.3989199207475267, 'auc': 0.7051007618477592, 'prauc': 0.42010103593606724}\n",
      "Test:       {'recall': 0.41805043022548916, 'precision': 0.4122756890009231, 'f1': 0.404057096257003, 'auc': 0.7125744001495973, 'prauc': 0.4245997025549339}\n",
      "\n",
      "Early stopping triggered after 21 epochs (no improvement for 5 epochs).\n",
      "\n",
      "Best validation performance:\n",
      "{'recall': 0.4075740451667787, 'precision': 0.41014831225735177, 'f1': 0.4007362639743379, 'auc': 0.7087210958100117, 'prauc': 0.4218310683695448}\n",
      "Corresponding test performance:\n",
      "{'recall': 0.4183709938285431, 'precision': 0.398851903930544, 'f1': 0.4025342504565379, 'auc': 0.7168860779228332, 'prauc': 0.42983381638633567}\n"
     ]
    },
    {
     "name": "stderr",
     "output_type": "stream",
     "text": [
      "\n"
     ]
    }
   ],
   "source": [
    "final_metrics = {\"recall\":[], \"precision\":[],\"f1\":[],\"auc\":[],\"prauc\":[]}\n",
    "\n",
    "for seed in seeds:\n",
    "    args[\"seed\"] = seed\n",
    "    set_random_seed(args[\"seed\"])\n",
    "    print(f\"Training with seed: {args['seed']}\")\n",
    "    \n",
    "    # Initialize model, optimizer, and loss function\n",
    "    model = HBERT_Finetune(args, tokenizer)\n",
    "    model.load_weight(torch.load(pretrained_weight_path, weights_only=True))\n",
    "    model = model.to(device)\n",
    "    optimizer = torch.optim.AdamW(model.parameters(), lr=args[\"lr\"])\n",
    "    \n",
    "    best_test_metric = train_with_early_stopping(\n",
    "        model, \n",
    "        train_dataloader, \n",
    "        val_dataloader, \n",
    "        test_dataloader,\n",
    "        optimizer, \n",
    "        loss_fn, \n",
    "        device, \n",
    "        args,\n",
    "        task_type=task_type)\n",
    "    \n",
    "    for key in final_metrics.keys():\n",
    "        final_metrics[key].append(best_test_metric[key])"
   ]
  },
  {
   "cell_type": "code",
   "execution_count": 17,
   "id": "ce8f55db",
   "metadata": {},
   "outputs": [
    {
     "name": "stdout",
     "output_type": "stream",
     "text": [
      "\n",
      "Final Metrics:\n",
      "recall: 0.3992 ± 0.0198\n",
      "precision: 0.4404 ± 0.0228\n",
      "f1: 0.3982 ± 0.0065\n",
      "auc: 0.7210 ± 0.0048\n",
      "prauc: 0.4340 ± 0.0044\n"
     ]
    }
   ],
   "source": [
    "# print the mean and std of the final metrics\n",
    "print(\"\\nFinal Metrics:\")\n",
    "for key in final_metrics.keys():\n",
    "    mean_value = np.mean(final_metrics[key])\n",
    "    std_value = np.std(final_metrics[key])\n",
    "    print(f\"{key}: {mean_value:.4f} ± {std_value:.4f}\")"
   ]
  },
  {
   "cell_type": "code",
   "execution_count": 18,
   "id": "f4184e90",
   "metadata": {
    "tags": []
   },
   "outputs": [],
   "source": [
    "# Assuming final_metrics and args are defined\n",
    "# Create the results directory if it doesn't exist\n",
    "os.makedirs(f\"./results/{args['dataset']}\", exist_ok=True)\n",
    "\n",
    "# Define the file name\n",
    "file_name = f\"{args['dataset']}-{args['task']}.txt\"\n",
    "file_path = os.path.join(f\"./results/{args['dataset']}\", file_name)\n",
    "\n",
    "# Save the metrics to a text file\n",
    "with open(file_path, 'w') as f:\n",
    "    f.write(\"Final Metrics:\\n\")\n",
    "    for key in final_metrics.keys():\n",
    "        mean_value = np.mean(final_metrics[key])\n",
    "        std_value = np.std(final_metrics[key])\n",
    "        f.write(f\"{key}: {mean_value:.4f} ± {std_value:.4f}\\n\")"
   ]
  }
 ],
 "metadata": {
  "kernelspec": {
   "display_name": "heart-cuda",
   "language": "python",
   "name": "heart-cuda"
  },
  "language_info": {
   "codemirror_mode": {
    "name": "ipython",
    "version": 3
   },
   "file_extension": ".py",
   "mimetype": "text/x-python",
   "name": "python",
   "nbconvert_exporter": "python",
   "pygments_lexer": "ipython3",
   "version": "3.10.18"
  }
 },
 "nbformat": 4,
 "nbformat_minor": 5
}
