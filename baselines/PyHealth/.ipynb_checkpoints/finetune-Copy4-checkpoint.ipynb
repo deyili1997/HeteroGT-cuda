{
 "cells": [
  {
   "cell_type": "code",
   "execution_count": 1,
   "id": "2f52d2e2",
   "metadata": {},
   "outputs": [],
   "source": [
    "import torch\n",
    "from pyhealth.models import RETAINLayer, StageNetLayer\n",
    "from set_seed_utils import set_random_seed\n",
    "from sklearn.metrics import roc_auc_score, auc, precision_recall_curve, precision_recall_fscore_support\n",
    "from tqdm import tqdm\n",
    "import pandas as pd\n",
    "import torch.nn as nn\n",
    "import numpy as np\n",
    "import torch.nn.functional as F\n",
    "import random\n",
    "import pickle\n",
    "from torch.utils.data import DataLoader\n",
    "from token_utils_rep import EHRTokenizer\n",
    "from dataset_utils_rep import HBERTFinetuneEHRDataset, batcher"
   ]
  },
  {
   "cell_type": "code",
   "execution_count": 2,
   "id": "5877398a",
   "metadata": {},
   "outputs": [
    {
     "name": "stdout",
     "output_type": "stream",
     "text": [
      "cuda\n"
     ]
    }
   ],
   "source": [
    "device = torch.device(\"cuda\" if torch.cuda.is_available() else \"cpu\")\n",
    "print(device)"
   ]
  },
  {
   "cell_type": "code",
   "execution_count": 3,
   "id": "16847aba",
   "metadata": {},
   "outputs": [],
   "source": [
    "args = {\n",
    "    \"dataset\": \"MIMIC-IV\", \n",
    "    \"task\": \"death\",  # options: death, stay, readmission, next_diag_12m\n",
    "    \"batch_size\": 64,\n",
    "    \"hidden_size\": 256,\n",
    "    \"lr\": 1e-3,\n",
    "    \"epochs\": 500,\n",
    "    \"early_stop_patience\": 5,\n",
    "    \"dropout\": 0.0,\n",
    "    \"backbone\": \"stagenet\",  # options: retain, stagenet\n",
    "}"
   ]
  },
  {
   "cell_type": "code",
   "execution_count": 4,
   "id": "4fda902c",
   "metadata": {},
   "outputs": [],
   "source": [
    "PHENO_ORDER = [\n",
    "    \"Acute and unspecified renal failure\",\n",
    "    \"Acute cerebrovascular disease\",\n",
    "    \"Acute myocardial infarction\",\n",
    "    \"Cardiac dysrhythmias\",\n",
    "    \"Chronic kidney disease\",\n",
    "    \"Chronic obstructive pulmonary disease\",\n",
    "    \"Conduction disorders\",\n",
    "    \"Congestive heart failure; nonhypertensive\",\n",
    "    \"Coronary atherosclerosis and related\",\n",
    "    \"Disorders of lipid metabolism\",\n",
    "    \"Essential hypertension\",\n",
    "    \"Fluid and electrolyte disorders\",\n",
    "    \"Gastrointestinal hemorrhage\",\n",
    "    \"Hypertension with complications\",\n",
    "    \"Other liver diseases\",\n",
    "    \"Other lower respiratory disease\",\n",
    "    \"Pneumonia\",\n",
    "    \"Septicemia (except in labor)\",\n",
    "]"
   ]
  },
  {
   "cell_type": "code",
   "execution_count": 5,
   "id": "d6eea04a",
   "metadata": {},
   "outputs": [],
   "source": [
    "@torch.no_grad()\n",
    "def evaluate(model, dataloader, device, long_seq_idx=None, task_type=\"binary\"):\n",
    "    model.eval()\n",
    "    predicted_scores, gt_labels = [], []\n",
    "\n",
    "    # 推理：收集 logits 与 labels\n",
    "    for _, batch in enumerate(tqdm(dataloader, desc=\"Running inference\")):\n",
    "        batch = [x.to(device) if isinstance(x, torch.Tensor) else x for x in batch]\n",
    "        labels = batch[-1]\n",
    "        output_logits = model(*batch[:-1])\n",
    "        predicted_scores.append(output_logits)\n",
    "        gt_labels.append(labels)\n",
    "\n",
    "    if task_type == \"binary\":\n",
    "        # —— 标准二分类评估 —— #\n",
    "        logits_all = torch.cat(predicted_scores, dim=0).view(-1)          # logits [N]\n",
    "        labels_all = torch.cat(gt_labels, dim=0).view(-1).cpu().numpy()    # y_true [N]\n",
    "        scores_all = logits_all.cpu().numpy()                              # 连续分数（logits）\n",
    "        ypred_all  = (logits_all > 0).float().cpu().numpy()                # logits > 0\n",
    "\n",
    "        tp = (ypred_all * labels_all).sum()\n",
    "        precision = tp / (ypred_all.sum() + 1e-8)\n",
    "        recall    = tp / (labels_all.sum() + 1e-8)\n",
    "        f1        = 2 * precision * recall / (precision + recall + 1e-8)\n",
    "        roc_auc   = roc_auc_score(labels_all, scores_all)\n",
    "        prec_curve, rec_curve, _ = precision_recall_curve(labels_all, scores_all)\n",
    "        pr_auc    = auc(rec_curve, prec_curve)\n",
    "\n",
    "        all_performance = {\"precision\": float(precision),\n",
    "                           \"recall\": float(recall),\n",
    "                           \"f1\": float(f1),\n",
    "                           \"auc\": float(roc_auc),\n",
    "                           \"prauc\": float(pr_auc)}\n",
    "\n",
    "        subset_performance = None\n",
    "        if long_seq_idx is not None:\n",
    "            idx = torch.as_tensor(long_seq_idx, device=logits_all.device, dtype=torch.long)\n",
    "            logits_sub = logits_all.index_select(0, idx).view(-1)\n",
    "            labels_sub = torch.as_tensor(labels_all, device=logits_all.device)[idx].cpu().numpy()\n",
    "            scores_sub = logits_sub.cpu().numpy()\n",
    "            ypred_sub  = (logits_sub > 0).float().cpu().numpy()\n",
    "\n",
    "            tp = (ypred_sub * labels_sub).sum()\n",
    "            precision = tp / (ypred_sub.sum() + 1e-8)\n",
    "            recall    = tp / (labels_sub.sum() + 1e-8)\n",
    "            f1        = 2 * precision * recall / (precision + recall + 1e-8)\n",
    "            roc_auc   = roc_auc_score(labels_sub, scores_sub)\n",
    "            prec_curve, rec_curve, _ = precision_recall_curve(labels_sub, scores_sub)\n",
    "            pr_auc    = auc(rec_curve, prec_curve)\n",
    "\n",
    "            subset_performance = {\"precision\": float(precision),\n",
    "                                  \"recall\": float(recall),\n",
    "                                  \"f1\": float(f1),\n",
    "                                  \"auc\": float(roc_auc),\n",
    "                                  \"prauc\": float(pr_auc)}\n",
    "\n",
    "        return all_performance, subset_performance\n",
    "\n",
    "    else:\n",
    "        # —— Multi-label evaluation（按类聚合） —— #\n",
    "        logits_all = torch.cat(predicted_scores, dim=0)    # [B, C]\n",
    "        labels_all_t = torch.cat(gt_labels, dim=0)         # [B, C]\n",
    "\n",
    "        def _compute_metrics(logits_sub, labels_sub):\n",
    "            # 连续分数（概率）：sigmoid(logits)，CPU + fp16 先升为 fp32\n",
    "            if logits_sub.device.type == \"cpu\" and logits_sub.dtype == torch.float16:\n",
    "                prob_t = torch.sigmoid(logits_sub.float())\n",
    "            else:\n",
    "                prob_t = torch.sigmoid(logits_sub)\n",
    "            # 二值化：logits > 0\n",
    "            ypred_t = (logits_sub > 0).to(torch.int32)\n",
    "\n",
    "            y_true = labels_sub.cpu().numpy().astype(np.int32)       # [N, C]\n",
    "            y_pred = ypred_t.cpu().numpy().astype(np.int32)          # [N, C]\n",
    "            scores = prob_t.cpu().numpy()                             # [N, C]\n",
    "\n",
    "            # per-class P/R/F1\n",
    "            p_cls, r_cls, f1_cls, _ = precision_recall_fscore_support(\n",
    "                y_true, y_pred, average=None, zero_division=0\n",
    "            )\n",
    "\n",
    "            # per-class AUC / PR-AUC\n",
    "            C = y_true.shape[1]\n",
    "            aucs, praucs = [], []\n",
    "            for c in range(C):\n",
    "                yt, ys = y_true[:, c], scores[:, c]\n",
    "                if yt.max() == yt.min():\n",
    "                    aucs.append(np.nan)\n",
    "                    praucs.append(np.nan)\n",
    "                else:\n",
    "                    aucs.append(roc_auc_score(yt, ys))\n",
    "                    prec_curve, rec_curve, _ = precision_recall_curve(yt, ys)\n",
    "                    praucs.append(auc(rec_curve, prec_curve))\n",
    "\n",
    "            # 宏平均（忽略 NaN）\n",
    "            summary = {\n",
    "                \"precision\": float(np.mean(p_cls)),\n",
    "                \"recall\":    float(np.mean(r_cls)),\n",
    "                \"f1\":        float(np.mean(f1_cls)),\n",
    "                \"auc\":       float(np.nanmean(aucs)) if np.any(~np.isnan(aucs)) else float(\"nan\"),\n",
    "                \"prauc\":     float(np.nanmean(praucs)) if np.any(~np.isnan(praucs)) else float(\"nan\"),\n",
    "            }\n",
    "\n",
    "            per_class_df = pd.DataFrame({\n",
    "                \"precision\": p_cls,\n",
    "                \"recall\":    r_cls,\n",
    "                \"f1\":        f1_cls,\n",
    "                \"auc\":       aucs,\n",
    "                \"prauc\":     praucs,\n",
    "            }, index=PHENO_ORDER)   # 确保 PHENO_ORDER 已定义且长度=C\n",
    "\n",
    "            return {\"global\": summary, \"per_class\": per_class_df}\n",
    "\n",
    "        # 全量\n",
    "        all_performance = _compute_metrics(logits_all, labels_all_t)\n",
    "\n",
    "        # 子集\n",
    "        subset_performance = None\n",
    "        if long_seq_idx is not None:\n",
    "            idx = torch.as_tensor(long_seq_idx, device=logits_all.device, dtype=torch.long)\n",
    "            subset_performance = _compute_metrics(\n",
    "                logits_all.index_select(0, idx),\n",
    "                labels_all_t.index_select(0, idx)\n",
    "            )\n",
    "\n",
    "        return all_performance, subset_performance"
   ]
  },
  {
   "cell_type": "code",
   "execution_count": 6,
   "id": "a69ecc85",
   "metadata": {},
   "outputs": [],
   "source": [
    "args[\"predicted_token_type\"] = [\"diag\", \"med\", \"pro\", \"lab\"]\n",
    "args[\"special_tokens\"] = (\"[PAD]\", \"[CLS]\", \"[SEP]\", \"[MASK0]\", \"[MASK1]\", \"[MASK2]\", \"[MASK3]\")\n",
    "args[\"max_visit_size\"] = 15\n",
    "\n",
    "full_data_path = f\"/home/lideyi/HeteroGT-cuda/data_process/{args['dataset']}-processed/mimic.pkl\"\n",
    "\n",
    "if args[\"task\"] == \"next_diag_6m\":\n",
    "    finetune_data_path = f\"/home/lideyi/HeteroGT-cuda/data_process/{args['dataset']}-processed/mimic_nextdiag_6m.pkl\"\n",
    "elif args[\"task\"] == \"next_diag_12m\":\n",
    "    finetune_data_path = f\"/home/lideyi/HeteroGT-cuda/data_process/{args['dataset']}-processed/mimic_nextdiag_12m.pkl\"\n",
    "else:\n",
    "    finetune_data_path = f\"/home/lideyi/HeteroGT-cuda/data_process/{args['dataset']}-processed/mimic_downstream.pkl\""
   ]
  },
  {
   "cell_type": "code",
   "execution_count": 7,
   "id": "ea0c0efd",
   "metadata": {},
   "outputs": [],
   "source": [
    "ehr_data = pickle.load(open(full_data_path, 'rb'))\n",
    "diag_sentences = ehr_data[\"ICD9_CODE\"].values.tolist()\n",
    "med_sentences = ehr_data[\"NDC\"].values.tolist()\n",
    "lab_sentences = ehr_data[\"LAB_TEST\"].values.tolist()\n",
    "pro_sentences = ehr_data[\"PRO_CODE\"].values.tolist()\n",
    "gender_set = [[\"M\"], [\"F\"]]\n",
    "age_gender_set = [[str(c) + \"_\" + gender] for c in set(ehr_data[\"AGE\"].values.tolist()) for gender in [\"M\", \"F\"]]\n",
    "age_set = [[c] for c in set(ehr_data[\"AGE\"].values.tolist())]    "
   ]
  },
  {
   "cell_type": "code",
   "execution_count": 8,
   "id": "a4607420",
   "metadata": {},
   "outputs": [],
   "source": [
    "tokenizer = EHRTokenizer(diag_sentences, med_sentences, lab_sentences, \n",
    "                         pro_sentences, gender_set, age_set, age_gender_set, special_tokens=args[\"special_tokens\"])\n",
    "tokenizer.build_tree()"
   ]
  },
  {
   "cell_type": "code",
   "execution_count": 9,
   "id": "34290960",
   "metadata": {},
   "outputs": [
    {
     "name": "stdout",
     "output_type": "stream",
     "text": [
      "7621 15401 15621\n"
     ]
    }
   ],
   "source": [
    "train_data, val_data, test_data = pickle.load(open(finetune_data_path, 'rb'))\n",
    "\n",
    "train_dataset = HBERTFinetuneEHRDataset(\n",
    "    train_data, tokenizer, \n",
    "    token_type=args[\"predicted_token_type\"], \n",
    "    task=args[\"task\"]\n",
    ")\n",
    "\n",
    "val_dataset = HBERTFinetuneEHRDataset(\n",
    "    val_data, tokenizer, \n",
    "    token_type=args[\"predicted_token_type\"], \n",
    "    task=args[\"task\"]\n",
    ")\n",
    "\n",
    "test_dataset = HBERTFinetuneEHRDataset(\n",
    "    test_data, tokenizer, \n",
    "    token_type=args[\"predicted_token_type\"], \n",
    "    task=args[\"task\"]\n",
    ")\n",
    "\n",
    "print(len(train_dataset), len(val_dataset), len(test_dataset))\n",
    "\n",
    "train_dataloader = DataLoader(\n",
    "    train_dataset, \n",
    "    collate_fn=batcher(pad_id=tokenizer.vocab.word2id[\"[PAD]\"], is_train=False), \n",
    "    batch_size =  args[\"batch_size\"],\n",
    "    shuffle = True\n",
    ")\n",
    "\n",
    "val_dataloader = DataLoader(\n",
    "    val_dataset, \n",
    "    collate_fn=batcher(pad_id=tokenizer.vocab.word2id[\"[PAD]\"], is_train=False), \n",
    "    batch_size =  args[\"batch_size\"],\n",
    "    shuffle = False\n",
    ")\n",
    "\n",
    "test_dataloader = DataLoader(\n",
    "    test_dataset, \n",
    "    collate_fn=batcher(pad_id=tokenizer.vocab.word2id[\"[PAD]\"], is_train=False),\n",
    "    batch_size = args[\"batch_size\"],\n",
    "    shuffle = False\n",
    ")"
   ]
  },
  {
   "cell_type": "code",
   "execution_count": 10,
   "id": "db4d8c1a",
   "metadata": {},
   "outputs": [
    {
     "name": "stdout",
     "output_type": "stream",
     "text": [
      "3379 3608\n"
     ]
    }
   ],
   "source": [
    "long_adm_seq_crite = 3\n",
    "val_long_seq_idx, test_long_seq_idx = [], []\n",
    "for i in range(len(val_dataset)):\n",
    "    hadm_id = list(val_dataset.records.keys())[i]\n",
    "    num_adms = len(val_dataset.records[hadm_id])\n",
    "    if num_adms >= long_adm_seq_crite:\n",
    "        val_long_seq_idx.append(i)\n",
    "for i in range(len(test_dataset)):\n",
    "    hadm_id = list(test_dataset.records.keys())[i]\n",
    "    num_adms = len(test_dataset.records[hadm_id])\n",
    "    if num_adms >= long_adm_seq_crite:\n",
    "        test_long_seq_idx.append(i)\n",
    "print(len(val_long_seq_idx), len(test_long_seq_idx))"
   ]
  },
  {
   "cell_type": "code",
   "execution_count": 11,
   "id": "b866c53e",
   "metadata": {},
   "outputs": [
    {
     "name": "stdout",
     "output_type": "stream",
     "text": [
      "input_ids shape: torch.Size([114, 129])\n",
      "input_types shape: torch.Size([114, 129])\n",
      "labeled_batch_idx shape: 64\n",
      "labels shape: torch.Size([64, 1])\n"
     ]
    }
   ],
   "source": [
    "# examine a batch\n",
    "batch = next(iter(train_dataloader))  # 取第一个 batch\n",
    "input_ids, input_types, labeled_batch_idx, labels = batch\n",
    "\n",
    "# 打印每个张量的形状\n",
    "print(\"input_ids shape:\", input_ids.shape)\n",
    "print(\"input_types shape:\", input_types.shape)\n",
    "print(\"labeled_batch_idx shape:\", len(labeled_batch_idx)) # it is a list\n",
    "print(\"labels shape:\", labels.shape)"
   ]
  },
  {
   "cell_type": "code",
   "execution_count": 12,
   "id": "3c711a32",
   "metadata": {},
   "outputs": [],
   "source": [
    "args[\"vocab_size\"] = len(tokenizer.vocab.word2id)\n",
    "args[\"label_vocab_size\"] = 18  # only for diagnosis"
   ]
  },
  {
   "cell_type": "code",
   "execution_count": 13,
   "id": "cf769c2f",
   "metadata": {},
   "outputs": [],
   "source": [
    "if args[\"task\"] in [\"death\", \"stay\", \"readmission\"]:\n",
    "    eval_metric = \"f1\"\n",
    "    task_type = \"binary\"\n",
    "    loss_fn = F.binary_cross_entropy_with_logits\n",
    "else:\n",
    "    eval_metric = \"prauc\"\n",
    "    task_type = \"l2r\"\n",
    "    loss_fn = lambda x, y: F.binary_cross_entropy_with_logits(x, y)"
   ]
  },
  {
   "cell_type": "code",
   "execution_count": 14,
   "id": "452cb47e",
   "metadata": {},
   "outputs": [],
   "source": [
    "def train_with_early_stopping(model, \n",
    "                              train_dataloader, \n",
    "                              val_dataloader, \n",
    "                              test_dataloader,\n",
    "                              optimizer, \n",
    "                              loss_fn, \n",
    "                              device, \n",
    "                              args,\n",
    "                              val_long_seq_idx = None,\n",
    "                              test_long_seq_idx = None,\n",
    "                              task_type=\"binary\", \n",
    "                              eval_metric=\"f1\"):\n",
    "    best_score = 0.\n",
    "    best_val_metric = None\n",
    "    best_test_metric = None\n",
    "    best_test_long_seq_metric = None\n",
    "    epochs_no_improve = 0\n",
    "\n",
    "    for epoch in range(1, 1 + args[\"epochs\"]):\n",
    "        model.train()\n",
    "        ave_loss = 0.\n",
    "\n",
    "        for step, batch in enumerate(tqdm(train_dataloader, desc=\"Training Batches\")):\n",
    "            batch = [x.to(device) if isinstance(x, torch.Tensor) else x for x in batch]\n",
    "\n",
    "            labels = batch[-1].float()\n",
    "            output_logits = model(*batch[:-1])\n",
    "            \n",
    "            loss = loss_fn(output_logits.view(-1), labels.view(-1))\n",
    "            loss.backward()\n",
    "            optimizer.step()\n",
    "            optimizer.zero_grad()\n",
    "\n",
    "            ave_loss += loss.item()\n",
    "            \n",
    "\n",
    "        ave_loss /= (step + 1)\n",
    "\n",
    "        # Evaluation\n",
    "        val_metric, val_long_seq_metric = evaluate(model, val_dataloader, device, task_type=task_type, long_seq_idx=val_long_seq_idx)\n",
    "        test_metric, test_long_seq_metric = evaluate(model, test_dataloader, device, task_type=task_type, long_seq_idx=test_long_seq_idx)\n",
    "\n",
    "        if task_type != \"binary\":\n",
    "            val_per_class_df = val_metric[\"per_class\"]\n",
    "            val_metric = val_metric[\"global\"]\n",
    "            test_per_class_df = test_metric[\"per_class\"]\n",
    "            test_metric = test_metric[\"global\"]\n",
    "            \n",
    "            if val_long_seq_idx != None:\n",
    "                val_long_seq_per_class_df = val_long_seq_metric[\"per_class\"]\n",
    "                val_long_seq_metric = val_long_seq_metric[\"global\"]\n",
    "            if test_long_seq_idx != None:\n",
    "                test_long_seq_per_class_df = test_long_seq_metric[\"per_class\"]\n",
    "                test_long_seq_metric = test_long_seq_metric[\"global\"]\n",
    "\n",
    "        # Logging\n",
    "        print(f\"Epoch: {epoch:03d}, Average Loss: {ave_loss:.4f}\")\n",
    "        print(f\"Validation: {val_metric}\")\n",
    "        print(f\"Test:       {test_metric}\")\n",
    "\n",
    "        # Check for improvement\n",
    "        current_score = val_metric[eval_metric]\n",
    "        if current_score > best_score:\n",
    "            best_score = current_score\n",
    "            best_val_metric = val_metric if task_type == \"binary\" else {\"global\": val_metric, \"per_class\": val_per_class_df}\n",
    "            best_test_metric = test_metric if task_type == \"binary\" else {\"global\": test_metric, \"per_class\": test_per_class_df}\n",
    "            best_test_long_seq_metric = test_long_seq_metric if task_type == \"binary\" else {\"global\": test_long_seq_metric, \"per_class\": test_long_seq_per_class_df}\n",
    "            epochs_no_improve = 0\n",
    "        else:\n",
    "            epochs_no_improve += 1\n",
    "\n",
    "        # Early stopping check\n",
    "        if epochs_no_improve >= args[\"early_stop_patience\"]:\n",
    "            print(f\"\\nEarly stopping triggered after {epoch} epochs (no improvement for {args['early_stop_patience']} epochs).\")\n",
    "            break\n",
    "\n",
    "    print(\"\\nBest validation performance:\")\n",
    "    print(best_val_metric)\n",
    "    print(\"Corresponding test performance:\")\n",
    "    print(best_test_metric)\n",
    "    if best_test_long_seq_metric is not None:\n",
    "        print(\"Corresponding test-long performance:\")\n",
    "        print(best_test_long_seq_metric)\n",
    "    return best_test_metric, best_test_long_seq_metric"
   ]
  },
  {
   "cell_type": "code",
   "execution_count": 15,
   "id": "6a27569c",
   "metadata": {},
   "outputs": [],
   "source": [
    "class BinaryPredictionHead(nn.Module):\n",
    "    def __init__(self, in_dim: int):\n",
    "        super().__init__()\n",
    "        self.cls = nn.Sequential(\n",
    "            nn.Linear(in_dim, in_dim),\n",
    "            nn.ReLU(),\n",
    "            nn.Linear(in_dim, 1),\n",
    "        )\n",
    "    def forward(self, x):\n",
    "        return self.cls(x)  # [N,1]\n",
    "\n",
    "class PyHealthModel(nn.Module):\n",
    "    def __init__(self, args):\n",
    "        \"\"\"\n",
    "        必要参数：\n",
    "          args[\"vocab_size\"]:  int\n",
    "          args[\"hidden_size\"]: int  (embedding 维度 & RETAIN feature_size)\n",
    "          args[\"backbone\"]:    str  (\"retain\" 或 \"stagenet\")\n",
    "        可选参数：\n",
    "          args[\"dropout\"]:     float (默认 0.5)\n",
    "        \"\"\"\n",
    "        super().__init__()\n",
    "        self.vocab_size  = int(args[\"vocab_size\"])\n",
    "        self.hidden_size = int(args[\"hidden_size\"])\n",
    "        self.dropout     = float(args.get(\"dropout\", 0.5))\n",
    "        self.backbone    = str(args.get(\"backbone\", \"retain\")).lower()\n",
    "\n",
    "        # Embeddings（pad=0）\n",
    "        self.input_emb = nn.Embedding(self.vocab_size, self.hidden_size, padding_idx=0)\n",
    "        self.type_emb  = nn.Embedding(5,              self.hidden_size, padding_idx=0)\n",
    "\n",
    "        # Backbone\n",
    "        if self.backbone == \"retain\":\n",
    "            self.backbone_mod = RETAINLayer(feature_size=self.hidden_size, dropout=self.dropout)\n",
    "            backbone_out_dim = self.hidden_size\n",
    "        elif self.backbone == \"stagenet\":\n",
    "            # 你自己的 StageNetLayer，构造参数按你的实现来\n",
    "            self.backbone_mod = StageNetLayer(self.hidden_size)  # 示例\n",
    "            # StageNet 输出维可能与 hidden_size 不同；提供可配置项\n",
    "            backbone_out_dim = 384\n",
    "        else:\n",
    "            raise ValueError(f\"Unknown backbone: {self.backbone}\")\n",
    "\n",
    "        # 分类头：输入维度与 backbone 输出对齐\n",
    "        self.pred_head = BinaryPredictionHead(backbone_out_dim)\n",
    "\n",
    "    def forward(self, input_ids, input_types, labeled_batch_idx):\n",
    "        \"\"\"\n",
    "        input_ids:        LongTensor [B, T], pad=0\n",
    "        input_types:      LongTensor [B, T], pad=0\n",
    "        labeled_batch_idx: list[int] 或 LongTensor [P]，表示要从 batch 里取出的行（病人）\n",
    "        return:\n",
    "          logits:         Tensor [P, 1]\n",
    "        \"\"\"\n",
    "        # 1) embeddings 相加\n",
    "        x = self.input_emb(input_ids) + self.type_emb(input_types)   # [B,T,H]\n",
    "\n",
    "        # 2) mask（以 input_ids!=0 作为有效位）\n",
    "        mask = (input_ids != 0)  # [B,T]，RETAIN 接受 bool/float mask\n",
    "\n",
    "        # 3) backbone 前向：得到每个病人的表示 c: [B, H*]\n",
    "        if self.backbone == \"retain\":\n",
    "            c = self.backbone_mod(x, mask=mask)                      # [B,H]\n",
    "        else:  # stagenet\n",
    "            out = self.backbone_mod(x, mask=mask)                    # 取决于你的实现\n",
    "            c = out[0] if isinstance(out, (tuple, list)) else out    # [B,H*]\n",
    "\n",
    "        # 4) 用 labeled_batch_idx 选择需要的样本行：c_sel [P,H*]\n",
    "        idx = torch.as_tensor(labeled_batch_idx, device=c.device, dtype=torch.long)\n",
    "        # 健壮性检查（调试期可保留）\n",
    "        assert idx.ndim == 1 and (idx.numel() == 0 or (0 <= idx.min() and idx.max() < c.size(0))), \\\n",
    "            f\"Index out of range: max={int(idx.max()) if idx.numel()>0 else 'NA'}, B={c.size(0)}\"\n",
    "\n",
    "        c_sel = c.index_select(0, idx)                                # [P,H*]\n",
    "\n",
    "        # 5) 分类\n",
    "        logits = self.pred_head(c_sel)                                # [P,1]\n",
    "        return logits"
   ]
  },
  {
   "cell_type": "code",
   "execution_count": 16,
   "id": "d5b6b360",
   "metadata": {},
   "outputs": [
    {
     "name": "stdout",
     "output_type": "stream",
     "text": [
      "[2746317213, 1181241943, 958682846, 3163119785, 1812140441]\n"
     ]
    }
   ],
   "source": [
    "random.seed(42)\n",
    "seeds = [random.randint(0, 2**32 - 1) for _ in range(5)]\n",
    "print(seeds)"
   ]
  },
  {
   "cell_type": "code",
   "execution_count": 17,
   "id": "d519eaf4",
   "metadata": {},
   "outputs": [
    {
     "name": "stdout",
     "output_type": "stream",
     "text": [
      "[INFO] Random seed set to 2746317213\n",
      "Training with seed: 2746317213\n"
     ]
    },
    {
     "name": "stderr",
     "output_type": "stream",
     "text": [
      "Training Batches: 100%|██████████| 120/120 [00:22<00:00,  5.35it/s]\n",
      "Running inference: 100%|██████████| 241/241 [00:11<00:00, 21.25it/s]\n",
      "Running inference: 100%|██████████| 245/245 [00:11<00:00, 21.53it/s]\n"
     ]
    },
    {
     "name": "stdout",
     "output_type": "stream",
     "text": [
      "Epoch: 001, Average Loss: 0.2942\n",
      "Validation: {'precision': 0.6376470588085259, 'recall': 0.19301994301856826, 'f1': 0.29633679249272626, 'auc': 0.8685879880242957, 'prauc': 0.48204918366761645}\n",
      "Test:       {'precision': 0.6556122448812344, 'recall': 0.18124118476599974, 'f1': 0.2839778971559477, 'auc': 0.8787738977650981, 'prauc': 0.4975875083074963}\n"
     ]
    },
    {
     "name": "stderr",
     "output_type": "stream",
     "text": [
      "Training Batches: 100%|██████████| 120/120 [00:22<00:00,  5.35it/s]\n",
      "Running inference: 100%|██████████| 241/241 [00:11<00:00, 21.16it/s]\n",
      "Running inference: 100%|██████████| 245/245 [00:11<00:00, 21.72it/s]\n"
     ]
    },
    {
     "name": "stdout",
     "output_type": "stream",
     "text": [
      "Epoch: 002, Average Loss: 0.1918\n",
      "Validation: {'precision': 0.6035976015949128, 'recall': 0.6452991452945492, 'f1': 0.6237521464642753, 'auc': 0.9370879128148544, 'prauc': 0.6930726865345461}\n",
      "Test:       {'precision': 0.6050700466937621, 'recall': 0.6396332863142481, 'f1': 0.6218717810811825, 'auc': 0.9407306527644144, 'prauc': 0.6912896219544262}\n"
     ]
    },
    {
     "name": "stderr",
     "output_type": "stream",
     "text": [
      "Training Batches: 100%|██████████| 120/120 [00:22<00:00,  5.43it/s]\n",
      "Running inference: 100%|██████████| 241/241 [00:11<00:00, 21.36it/s]\n",
      "Running inference: 100%|██████████| 245/245 [00:11<00:00, 21.68it/s]\n"
     ]
    },
    {
     "name": "stdout",
     "output_type": "stream",
     "text": [
      "Epoch: 003, Average Loss: 0.1613\n",
      "Validation: {'precision': 0.8144329896813925, 'recall': 0.5064102564066495, 'f1': 0.6245059241201846, 'auc': 0.9495703393502922, 'prauc': 0.7463139205419885}\n",
      "Test:       {'precision': 0.7901098901012076, 'recall': 0.5070521861741393, 'f1': 0.6176975897344963, 'auc': 0.9492601584897289, 'prauc': 0.7362048591386692}\n"
     ]
    },
    {
     "name": "stderr",
     "output_type": "stream",
     "text": [
      "Training Batches: 100%|██████████| 120/120 [00:22<00:00,  5.43it/s]\n",
      "Running inference: 100%|██████████| 241/241 [00:11<00:00, 21.63it/s]\n",
      "Running inference: 100%|██████████| 245/245 [00:11<00:00, 21.50it/s]\n"
     ]
    },
    {
     "name": "stdout",
     "output_type": "stream",
     "text": [
      "Epoch: 004, Average Loss: 0.1273\n",
      "Validation: {'precision': 0.7042471042416661, 'recall': 0.6495726495680231, 'f1': 0.6758058490231547, 'auc': 0.9503072697507219, 'prauc': 0.749491408702321}\n",
      "Test:       {'precision': 0.6897081413157473, 'recall': 0.6332863187543493, 'f1': 0.6602941126512977, 'auc': 0.952354967419327, 'prauc': 0.7382822467061158}\n"
     ]
    },
    {
     "name": "stderr",
     "output_type": "stream",
     "text": [
      "Training Batches: 100%|██████████| 120/120 [00:21<00:00,  5.48it/s]\n",
      "Running inference: 100%|██████████| 241/241 [00:11<00:00, 20.97it/s]\n",
      "Running inference: 100%|██████████| 245/245 [00:11<00:00, 21.48it/s]\n"
     ]
    },
    {
     "name": "stdout",
     "output_type": "stream",
     "text": [
      "Epoch: 005, Average Loss: 0.1057\n",
      "Validation: {'precision': 0.6291739894514987, 'recall': 0.7649572649518166, 'f1': 0.6904532255155084, 'auc': 0.9541288558577977, 'prauc': 0.7602635987578094}\n",
      "Test:       {'precision': 0.6327985739712847, 'recall': 0.7510578279213607, 'f1': 0.6868751965799718, 'auc': 0.9541250398339532, 'prauc': 0.7416087260848939}\n"
     ]
    },
    {
     "name": "stderr",
     "output_type": "stream",
     "text": [
      "Training Batches: 100%|██████████| 120/120 [00:22<00:00,  5.41it/s]\n",
      "Running inference: 100%|██████████| 241/241 [00:11<00:00, 21.42it/s]\n",
      "Running inference: 100%|██████████| 245/245 [00:11<00:00, 21.73it/s]\n"
     ]
    },
    {
     "name": "stdout",
     "output_type": "stream",
     "text": [
      "Epoch: 006, Average Loss: 0.0869\n",
      "Validation: {'precision': 0.7443548387036746, 'recall': 0.6574074074027251, 'f1': 0.698184563849054, 'auc': 0.9550973682394701, 'prauc': 0.776918591399544}\n",
      "Test:       {'precision': 0.7202852614839914, 'recall': 0.6410437235497811, 'f1': 0.6783582039671029, 'auc': 0.9559289754533472, 'prauc': 0.7572537132978976}\n"
     ]
    },
    {
     "name": "stderr",
     "output_type": "stream",
     "text": [
      "Training Batches: 100%|██████████| 120/120 [00:22<00:00,  5.36it/s]\n",
      "Running inference: 100%|██████████| 241/241 [00:11<00:00, 21.26it/s]\n",
      "Running inference: 100%|██████████| 245/245 [00:11<00:00, 21.80it/s]\n"
     ]
    },
    {
     "name": "stdout",
     "output_type": "stream",
     "text": [
      "Epoch: 007, Average Loss: 0.0725\n",
      "Validation: {'precision': 0.6032520325170556, 'recall': 0.7927350427293965, 'f1': 0.6851338824378552, 'auc': 0.9554504149953175, 'prauc': 0.7667137939553507}\n",
      "Test:       {'precision': 0.6035145524403981, 'recall': 0.775035260925423, 'f1': 0.678604502637276, 'auc': 0.9551945609933418, 'prauc': 0.7543870770435812}\n"
     ]
    },
    {
     "name": "stderr",
     "output_type": "stream",
     "text": [
      "Training Batches: 100%|██████████| 120/120 [00:21<00:00,  5.48it/s]\n",
      "Running inference: 100%|██████████| 241/241 [00:11<00:00, 21.60it/s]\n",
      "Running inference: 100%|██████████| 245/245 [00:11<00:00, 21.51it/s]\n"
     ]
    },
    {
     "name": "stdout",
     "output_type": "stream",
     "text": [
      "Epoch: 008, Average Loss: 0.0599\n",
      "Validation: {'precision': 0.8030634573216295, 'recall': 0.5227920227882993, 'f1': 0.6333045681256417, 'auc': 0.9456661144522829, 'prauc': 0.7427787134395568}\n",
      "Test:       {'precision': 0.7910922587402853, 'recall': 0.5260930888538358, 'f1': 0.6319356156968141, 'auc': 0.9461202151713712, 'prauc': 0.7297763477315112}\n"
     ]
    },
    {
     "name": "stderr",
     "output_type": "stream",
     "text": [
      "Training Batches: 100%|██████████| 120/120 [00:22<00:00,  5.32it/s]\n",
      "Running inference: 100%|██████████| 241/241 [00:11<00:00, 21.22it/s]\n",
      "Running inference: 100%|██████████| 245/245 [00:11<00:00, 21.90it/s]\n"
     ]
    },
    {
     "name": "stdout",
     "output_type": "stream",
     "text": [
      "Epoch: 009, Average Loss: 0.0488\n",
      "Validation: {'precision': 0.6872005475654538, 'recall': 0.7150997150946219, 'f1': 0.7008725953461267, 'auc': 0.9498626791618149, 'prauc': 0.7573844611889274}\n",
      "Test:       {'precision': 0.6601483479389066, 'recall': 0.6904090267934386, 'f1': 0.6749396709716592, 'auc': 0.9512815733420907, 'prauc': 0.7457643490350394}\n"
     ]
    },
    {
     "name": "stderr",
     "output_type": "stream",
     "text": [
      "Training Batches: 100%|██████████| 120/120 [00:21<00:00,  5.55it/s]\n",
      "Running inference: 100%|██████████| 241/241 [00:11<00:00, 21.52it/s]\n",
      "Running inference: 100%|██████████| 245/245 [00:11<00:00, 21.72it/s]\n"
     ]
    },
    {
     "name": "stdout",
     "output_type": "stream",
     "text": [
      "Epoch: 010, Average Loss: 0.0451\n",
      "Validation: {'precision': 0.5754901960756104, 'recall': 0.8361823361763805, 'f1': 0.6817653842490164, 'auc': 0.9579606191558754, 'prauc': 0.755399189936282}\n",
      "Test:       {'precision': 0.5793650793622056, 'recall': 0.823695345551314, 'f1': 0.6802562560678733, 'auc': 0.9605190285887872, 'prauc': 0.755950843304909}\n"
     ]
    },
    {
     "name": "stderr",
     "output_type": "stream",
     "text": [
      "Training Batches: 100%|██████████| 120/120 [00:22<00:00,  5.45it/s]\n",
      "Running inference: 100%|██████████| 241/241 [00:11<00:00, 21.52it/s]\n",
      "Running inference: 100%|██████████| 245/245 [00:11<00:00, 21.62it/s]\n"
     ]
    },
    {
     "name": "stdout",
     "output_type": "stream",
     "text": [
      "Epoch: 011, Average Loss: 0.0464\n",
      "Validation: {'precision': 0.6800526662233045, 'recall': 0.7357549857497454, 'f1': 0.7068080688995848, 'auc': 0.9531070149952767, 'prauc': 0.7524716646263448}\n",
      "Test:       {'precision': 0.669749009242604, 'recall': 0.7150916784152674, 'f1': 0.6916780304713107, 'auc': 0.9541506606750972, 'prauc': 0.7487760332668468}\n"
     ]
    },
    {
     "name": "stderr",
     "output_type": "stream",
     "text": [
      "Training Batches: 100%|██████████| 120/120 [00:22<00:00,  5.34it/s]\n",
      "Running inference: 100%|██████████| 241/241 [00:11<00:00, 21.49it/s]\n",
      "Running inference: 100%|██████████| 245/245 [00:11<00:00, 21.47it/s]\n"
     ]
    },
    {
     "name": "stdout",
     "output_type": "stream",
     "text": [
      "Epoch: 012, Average Loss: 0.0287\n",
      "Validation: {'precision': 0.5944625407133851, 'recall': 0.779914529908975, 'f1': 0.6746765200406701, 'auc': 0.9502813687996228, 'prauc': 0.7209356181593204}\n",
      "Test:       {'precision': 0.5773745997834718, 'recall': 0.7630465444233918, 'f1': 0.6573511494054294, 'auc': 0.950448548435356, 'prauc': 0.7080983738382329}\n"
     ]
    },
    {
     "name": "stderr",
     "output_type": "stream",
     "text": [
      "Training Batches: 100%|██████████| 120/120 [00:21<00:00,  5.46it/s]\n",
      "Running inference: 100%|██████████| 241/241 [00:11<00:00, 21.26it/s]\n",
      "Running inference: 100%|██████████| 245/245 [00:11<00:00, 21.73it/s]\n"
     ]
    },
    {
     "name": "stdout",
     "output_type": "stream",
     "text": [
      "Epoch: 013, Average Loss: 0.0240\n",
      "Validation: {'precision': 0.6007905138305998, 'recall': 0.7578347578293602, 'f1': 0.670236215535025, 'auc': 0.9449378346642047, 'prauc': 0.6949340735508722}\n",
      "Test:       {'precision': 0.5858641634423751, 'recall': 0.7482369534502946, 'f1': 0.657169397361727, 'auc': 0.9469775699466342, 'prauc': 0.685975131731535}\n"
     ]
    },
    {
     "name": "stderr",
     "output_type": "stream",
     "text": [
      "Training Batches: 100%|██████████| 120/120 [00:22<00:00,  5.44it/s]\n",
      "Running inference: 100%|██████████| 241/241 [00:11<00:00, 21.51it/s]\n",
      "Running inference: 100%|██████████| 245/245 [00:11<00:00, 21.44it/s]\n"
     ]
    },
    {
     "name": "stdout",
     "output_type": "stream",
     "text": [
      "Epoch: 014, Average Loss: 0.0299\n",
      "Validation: {'precision': 0.6784682080875833, 'recall': 0.6688034187986553, 'f1': 0.673601142771609, 'auc': 0.9456028123242526, 'prauc': 0.7129622872160489}\n",
      "Test:       {'precision': 0.6735566642860047, 'recall': 0.6664315937893764, 'f1': 0.66997518109961, 'auc': 0.9472818422616172, 'prauc': 0.7024117465920364}\n"
     ]
    },
    {
     "name": "stderr",
     "output_type": "stream",
     "text": [
      "Training Batches: 100%|██████████| 120/120 [00:22<00:00,  5.31it/s]\n",
      "Running inference: 100%|██████████| 241/241 [00:11<00:00, 21.58it/s]\n",
      "Running inference: 100%|██████████| 245/245 [00:11<00:00, 21.79it/s]\n"
     ]
    },
    {
     "name": "stdout",
     "output_type": "stream",
     "text": [
      "Epoch: 015, Average Loss: 0.0236\n",
      "Validation: {'precision': 0.7350936967569414, 'recall': 0.6146723646679867, 'f1': 0.66951124406486, 'auc': 0.9472194591148654, 'prauc': 0.7255239597430732}\n",
      "Test:       {'precision': 0.7326565143762043, 'recall': 0.6107193229858201, 'f1': 0.6661538411899173, 'auc': 0.9481940633730512, 'prauc': 0.7126499081634102}\n"
     ]
    },
    {
     "name": "stderr",
     "output_type": "stream",
     "text": [
      "Training Batches: 100%|██████████| 120/120 [00:21<00:00,  5.51it/s]\n",
      "Running inference: 100%|██████████| 241/241 [00:11<00:00, 21.31it/s]\n",
      "Running inference: 100%|██████████| 245/245 [00:11<00:00, 21.39it/s]\n"
     ]
    },
    {
     "name": "stdout",
     "output_type": "stream",
     "text": [
      "Epoch: 016, Average Loss: 0.0179\n",
      "Validation: {'precision': 0.667534157445234, 'recall': 0.7307692307640259, 'f1': 0.6977218583172795, 'auc': 0.950196083939029, 'prauc': 0.7431874897566544}\n",
      "Test:       {'precision': 0.6727509778313381, 'recall': 0.727785613535065, 'f1': 0.6991869868729024, 'auc': 0.9541435603257105, 'prauc': 0.7433038064869997}\n",
      "\n",
      "Early stopping triggered after 16 epochs (no improvement for 5 epochs).\n",
      "\n",
      "Best validation performance:\n",
      "{'precision': 0.6800526662233045, 'recall': 0.7357549857497454, 'f1': 0.7068080688995848, 'auc': 0.9531070149952767, 'prauc': 0.7524716646263448}\n",
      "Corresponding test performance:\n",
      "{'precision': 0.669749009242604, 'recall': 0.7150916784152674, 'f1': 0.6916780304713107, 'auc': 0.9541506606750972, 'prauc': 0.7487760332668468}\n",
      "Corresponding test-long performance:\n",
      "{'precision': 0.5081967212948132, 'recall': 0.662393162364855, 'f1': 0.575139141633135, 'auc': 0.9242523267419532, 'prauc': 0.5602175222366894}\n",
      "[INFO] Random seed set to 1181241943\n",
      "Training with seed: 1181241943\n"
     ]
    },
    {
     "name": "stderr",
     "output_type": "stream",
     "text": [
      "Training Batches: 100%|██████████| 120/120 [00:22<00:00,  5.35it/s]\n",
      "Running inference: 100%|██████████| 241/241 [00:11<00:00, 21.43it/s]\n",
      "Running inference: 100%|██████████| 245/245 [00:11<00:00, 21.77it/s]\n"
     ]
    },
    {
     "name": "stdout",
     "output_type": "stream",
     "text": [
      "Epoch: 001, Average Loss: 0.2827\n",
      "Validation: {'precision': 0.49999999999669315, 'recall': 0.5384615384577033, 'f1': 0.5185185135218209, 'auc': 0.8904740627163288, 'prauc': 0.5101113509742404}\n",
      "Test:       {'precision': 0.5056179775247481, 'recall': 0.5394922425913999, 'f1': 0.5220061362504114, 'auc': 0.8963128779384398, 'prauc': 0.5076845318788831}\n"
     ]
    },
    {
     "name": "stderr",
     "output_type": "stream",
     "text": [
      "Training Batches: 100%|██████████| 120/120 [00:22<00:00,  5.42it/s]\n",
      "Running inference: 100%|██████████| 241/241 [00:11<00:00, 21.12it/s]\n",
      "Running inference: 100%|██████████| 245/245 [00:11<00:00, 21.48it/s]\n"
     ]
    },
    {
     "name": "stdout",
     "output_type": "stream",
     "text": [
      "Epoch: 002, Average Loss: 0.2064\n",
      "Validation: {'precision': 0.838362068947449, 'recall': 0.2770655270635537, 'f1': 0.4164882189597252, 'auc': 0.9180249654637025, 'prauc': 0.650931125114053}\n",
      "Test:       {'precision': 0.7643564356284286, 'recall': 0.2722143864578829, 'f1': 0.40145605436522996, 'auc': 0.9128590505174466, 'prauc': 0.6142108447184866}\n"
     ]
    },
    {
     "name": "stderr",
     "output_type": "stream",
     "text": [
      "Training Batches: 100%|██████████| 120/120 [00:21<00:00,  5.50it/s]\n",
      "Running inference: 100%|██████████| 241/241 [00:11<00:00, 21.45it/s]\n",
      "Running inference: 100%|██████████| 245/245 [00:11<00:00, 21.40it/s]\n"
     ]
    },
    {
     "name": "stdout",
     "output_type": "stream",
     "text": [
      "Epoch: 003, Average Loss: 0.1657\n",
      "Validation: {'precision': 0.6927560366303684, 'recall': 0.5925925925883719, 'f1': 0.6387715881156701, 'auc': 0.938692754063905, 'prauc': 0.7034598091804927}\n",
      "Test:       {'precision': 0.6674796747913213, 'recall': 0.578984485186326, 'f1': 0.6200906294616071, 'auc': 0.9371649367468106, 'prauc': 0.6783659343368342}\n"
     ]
    },
    {
     "name": "stderr",
     "output_type": "stream",
     "text": [
      "Training Batches: 100%|██████████| 120/120 [00:22<00:00,  5.36it/s]\n",
      "Running inference: 100%|██████████| 241/241 [00:11<00:00, 21.00it/s]\n",
      "Running inference: 100%|██████████| 245/245 [00:11<00:00, 21.61it/s]\n"
     ]
    },
    {
     "name": "stdout",
     "output_type": "stream",
     "text": [
      "Epoch: 004, Average Loss: 0.1321\n",
      "Validation: {'precision': 0.771375464676846, 'recall': 0.5911680911638806, 'f1': 0.6693548337917404, 'auc': 0.9541310948398182, 'prauc': 0.7547840779067498}\n",
      "Test:       {'precision': 0.7438914027082002, 'recall': 0.5796897038040925, 'f1': 0.6516052269386128, 'auc': 0.9518608724770299, 'prauc': 0.734163194628382}\n"
     ]
    },
    {
     "name": "stderr",
     "output_type": "stream",
     "text": [
      "Training Batches: 100%|██████████| 120/120 [00:21<00:00,  5.46it/s]\n",
      "Running inference: 100%|██████████| 241/241 [00:11<00:00, 21.42it/s]\n",
      "Running inference: 100%|██████████| 245/245 [00:11<00:00, 21.72it/s]\n"
     ]
    },
    {
     "name": "stdout",
     "output_type": "stream",
     "text": [
      "Epoch: 005, Average Loss: 0.1050\n",
      "Validation: {'precision': 0.6832214765054818, 'recall': 0.7250712250660608, 'f1': 0.7035245285171763, 'auc': 0.9587977185587389, 'prauc': 0.7793816359719268}\n",
      "Test:       {'precision': 0.6803713527806342, 'recall': 0.7235543018284658, 'f1': 0.7012986962986384, 'auc': 0.9568746128944132, 'prauc': 0.7702338522615517}\n"
     ]
    },
    {
     "name": "stderr",
     "output_type": "stream",
     "text": [
      "Training Batches: 100%|██████████| 120/120 [00:22<00:00,  5.36it/s]\n",
      "Running inference: 100%|██████████| 241/241 [00:11<00:00, 21.45it/s]\n",
      "Running inference: 100%|██████████| 245/245 [00:11<00:00, 21.81it/s]\n"
     ]
    },
    {
     "name": "stdout",
     "output_type": "stream",
     "text": [
      "Epoch: 006, Average Loss: 0.0919\n",
      "Validation: {'precision': 0.5947611710293027, 'recall': 0.8247863247804503, 'f1': 0.6911369691647626, 'auc': 0.9614236119380077, 'prauc': 0.7754180618534957}\n",
      "Test:       {'precision': 0.592252803258959, 'recall': 0.8194640338447147, 'f1': 0.6875739596224923, 'auc': 0.9607779182510459, 'prauc': 0.7755472913176731}\n"
     ]
    },
    {
     "name": "stderr",
     "output_type": "stream",
     "text": [
      "Training Batches: 100%|██████████| 120/120 [00:21<00:00,  5.54it/s]\n",
      "Running inference: 100%|██████████| 241/241 [00:11<00:00, 21.57it/s]\n",
      "Running inference: 100%|██████████| 245/245 [00:11<00:00, 21.59it/s]\n"
     ]
    },
    {
     "name": "stdout",
     "output_type": "stream",
     "text": [
      "Epoch: 007, Average Loss: 0.0887\n",
      "Validation: {'precision': 0.7658662092558675, 'recall': 0.6360398860353559, 'f1': 0.6949416292787175, 'auc': 0.9530892557969789, 'prauc': 0.773994206373962}\n",
      "Test:       {'precision': 0.7621483375894106, 'recall': 0.6304654442832831, 'f1': 0.6900810448271064, 'auc': 0.951977109665244, 'prauc': 0.7649517246176433}\n"
     ]
    },
    {
     "name": "stderr",
     "output_type": "stream",
     "text": [
      "Training Batches: 100%|██████████| 120/120 [00:21<00:00,  5.50it/s]\n",
      "Running inference: 100%|██████████| 241/241 [00:11<00:00, 21.43it/s]\n",
      "Running inference: 100%|██████████| 245/245 [00:11<00:00, 21.69it/s]\n"
     ]
    },
    {
     "name": "stdout",
     "output_type": "stream",
     "text": [
      "Epoch: 008, Average Loss: 0.0753\n",
      "Validation: {'precision': 0.7589359933436498, 'recall': 0.6502849002802686, 'f1': 0.7004219359526189, 'auc': 0.9538465405794119, 'prauc': 0.7628392520915883}\n",
      "Test:       {'precision': 0.7543281121124953, 'recall': 0.6452750352563803, 'f1': 0.6955530166898344, 'auc': 0.9534579049083474, 'prauc': 0.7665057103689066}\n"
     ]
    },
    {
     "name": "stderr",
     "output_type": "stream",
     "text": [
      "Training Batches: 100%|██████████| 120/120 [00:22<00:00,  5.36it/s]\n",
      "Running inference: 100%|██████████| 241/241 [00:11<00:00, 21.52it/s]\n",
      "Running inference: 100%|██████████| 245/245 [00:11<00:00, 21.62it/s]\n"
     ]
    },
    {
     "name": "stdout",
     "output_type": "stream",
     "text": [
      "Epoch: 009, Average Loss: 0.0557\n",
      "Validation: {'precision': 0.7141828653656287, 'recall': 0.7065527065476742, 'f1': 0.7103472918085199, 'auc': 0.9562273417563837, 'prauc': 0.7730822994302458}\n",
      "Test:       {'precision': 0.7246790299520351, 'recall': 0.7165021156508005, 'f1': 0.7205673708815754, 'auc': 0.9583184168067952, 'prauc': 0.7803463189769103}\n"
     ]
    },
    {
     "name": "stderr",
     "output_type": "stream",
     "text": [
      "Training Batches: 100%|██████████| 120/120 [00:22<00:00,  5.45it/s]\n",
      "Running inference: 100%|██████████| 241/241 [00:11<00:00, 21.61it/s]\n",
      "Running inference: 100%|██████████| 245/245 [00:11<00:00, 21.61it/s]\n"
     ]
    },
    {
     "name": "stdout",
     "output_type": "stream",
     "text": [
      "Epoch: 010, Average Loss: 0.0489\n",
      "Validation: {'precision': 0.7405063291080657, 'recall': 0.6666666666619184, 'f1': 0.7016491704208018, 'auc': 0.9502817758872626, 'prauc': 0.7526122385128154}\n",
      "Test:       {'precision': 0.7315175097219337, 'recall': 0.6629055007005438, 'f1': 0.6955234874227936, 'auc': 0.952509089688535, 'prauc': 0.7622479213086746}\n"
     ]
    },
    {
     "name": "stderr",
     "output_type": "stream",
     "text": [
      "Training Batches: 100%|██████████| 120/120 [00:21<00:00,  5.58it/s]\n",
      "Running inference: 100%|██████████| 241/241 [00:11<00:00, 21.42it/s]\n",
      "Running inference: 100%|██████████| 245/245 [00:11<00:00, 21.74it/s]\n"
     ]
    },
    {
     "name": "stdout",
     "output_type": "stream",
     "text": [
      "Epoch: 011, Average Loss: 0.0479\n",
      "Validation: {'precision': 0.6560587515259727, 'recall': 0.7635327635273254, 'f1': 0.7057274472952435, 'auc': 0.9509921438191782, 'prauc': 0.7397744641316539}\n",
      "Test:       {'precision': 0.6497244335538903, 'recall': 0.7482369534502946, 'f1': 0.6955096639812666, 'auc': 0.9508554530732943, 'prauc': 0.7560726653507295}\n"
     ]
    },
    {
     "name": "stderr",
     "output_type": "stream",
     "text": [
      "Training Batches: 100%|██████████| 120/120 [00:22<00:00,  5.40it/s]\n",
      "Running inference: 100%|██████████| 241/241 [00:11<00:00, 21.46it/s]\n",
      "Running inference: 100%|██████████| 245/245 [00:11<00:00, 21.72it/s]\n"
     ]
    },
    {
     "name": "stdout",
     "output_type": "stream",
     "text": [
      "Epoch: 012, Average Loss: 0.0366\n",
      "Validation: {'precision': 0.5555016965557175, 'recall': 0.8162393162335027, 'f1': 0.661090274957625, 'auc': 0.9528352839955327, 'prauc': 0.7174006476793867}\n",
      "Test:       {'precision': 0.5653031049750356, 'recall': 0.8088857545782167, 'f1': 0.6655062324610403, 'auc': 0.9518100776698778, 'prauc': 0.7348824136788678}\n"
     ]
    },
    {
     "name": "stderr",
     "output_type": "stream",
     "text": [
      "Training Batches: 100%|██████████| 120/120 [00:21<00:00,  5.48it/s]\n",
      "Running inference: 100%|██████████| 241/241 [00:11<00:00, 21.50it/s]\n",
      "Running inference: 100%|██████████| 245/245 [00:11<00:00, 21.47it/s]\n"
     ]
    },
    {
     "name": "stdout",
     "output_type": "stream",
     "text": [
      "Epoch: 013, Average Loss: 0.0317\n",
      "Validation: {'precision': 0.6743442098485327, 'recall': 0.7507122507069038, 'f1': 0.7104819633277365, 'auc': 0.9505249853092248, 'prauc': 0.7364499472859303}\n",
      "Test:       {'precision': 0.6747382198908721, 'recall': 0.7270803949172985, 'f1': 0.6999321063396259, 'auc': 0.9511725358088494, 'prauc': 0.7518240018942477}\n"
     ]
    },
    {
     "name": "stderr",
     "output_type": "stream",
     "text": [
      "Training Batches: 100%|██████████| 120/120 [00:21<00:00,  5.46it/s]\n",
      "Running inference: 100%|██████████| 241/241 [00:11<00:00, 20.46it/s]\n",
      "Running inference: 100%|██████████| 245/245 [00:11<00:00, 21.34it/s]\n"
     ]
    },
    {
     "name": "stdout",
     "output_type": "stream",
     "text": [
      "Epoch: 014, Average Loss: 0.0254\n",
      "Validation: {'precision': 0.7601410934677237, 'recall': 0.613960113955741, 'f1': 0.6792750147517856, 'auc': 0.9463638117814014, 'prauc': 0.7413068012935466}\n",
      "Test:       {'precision': 0.7724014336848352, 'recall': 0.6078984485147539, 'f1': 0.6803472720980086, 'auc': 0.9440551058612442, 'prauc': 0.7505594808036375}\n"
     ]
    },
    {
     "name": "stderr",
     "output_type": "stream",
     "text": [
      "Training Batches: 100%|██████████| 120/120 [00:22<00:00,  5.45it/s]\n",
      "Running inference: 100%|██████████| 241/241 [00:11<00:00, 21.32it/s]\n",
      "Running inference: 100%|██████████| 245/245 [00:11<00:00, 21.38it/s]\n"
     ]
    },
    {
     "name": "stdout",
     "output_type": "stream",
     "text": [
      "Epoch: 015, Average Loss: 0.0212\n",
      "Validation: {'precision': 0.7079388200968104, 'recall': 0.6923076923027613, 'f1': 0.7000360050784047, 'auc': 0.9498840258199407, 'prauc': 0.7366838406058598}\n",
      "Test:       {'precision': 0.7017673048549208, 'recall': 0.6720733427315086, 'f1': 0.6865994186285131, 'auc': 0.9505855901438015, 'prauc': 0.7549915928267134}\n"
     ]
    },
    {
     "name": "stderr",
     "output_type": "stream",
     "text": [
      "Training Batches: 100%|██████████| 120/120 [00:21<00:00,  5.48it/s]\n",
      "Running inference: 100%|██████████| 241/241 [00:11<00:00, 21.56it/s]\n",
      "Running inference: 100%|██████████| 245/245 [00:11<00:00, 21.75it/s]\n"
     ]
    },
    {
     "name": "stdout",
     "output_type": "stream",
     "text": [
      "Epoch: 016, Average Loss: 0.0322\n",
      "Validation: {'precision': 0.6296948356770559, 'recall': 0.7642450142395709, 'f1': 0.6904761855183328, 'auc': 0.9498547918387884, 'prauc': 0.7312845223302543}\n",
      "Test:       {'precision': 0.6334922526779888, 'recall': 0.7496473906858276, 'f1': 0.6866925014907751, 'auc': 0.9482262383828604, 'prauc': 0.7415825524800943}\n"
     ]
    },
    {
     "name": "stderr",
     "output_type": "stream",
     "text": [
      "Training Batches: 100%|██████████| 120/120 [00:22<00:00,  5.42it/s]\n",
      "Running inference: 100%|██████████| 241/241 [00:11<00:00, 21.36it/s]\n",
      "Running inference: 100%|██████████| 245/245 [00:11<00:00, 21.24it/s]\n"
     ]
    },
    {
     "name": "stdout",
     "output_type": "stream",
     "text": [
      "Epoch: 017, Average Loss: 0.0171\n",
      "Validation: {'precision': 0.7405172413729266, 'recall': 0.6118233618190042, 'f1': 0.6700467969121291, 'auc': 0.939929842516111, 'prauc': 0.7177610475755639}\n",
      "Test:       {'precision': 0.7321428571366315, 'recall': 0.6071932298969874, 'f1': 0.6638396249535881, 'auc': 0.939782929906046, 'prauc': 0.7209145103734785}\n"
     ]
    },
    {
     "name": "stderr",
     "output_type": "stream",
     "text": [
      "Training Batches: 100%|██████████| 120/120 [00:22<00:00,  5.44it/s]\n",
      "Running inference: 100%|██████████| 241/241 [00:11<00:00, 21.43it/s]\n",
      "Running inference: 100%|██████████| 245/245 [00:11<00:00, 21.59it/s]\n"
     ]
    },
    {
     "name": "stdout",
     "output_type": "stream",
     "text": [
      "Epoch: 018, Average Loss: 0.0159\n",
      "Validation: {'precision': 0.7155621742314553, 'recall': 0.6844729344680593, 'f1': 0.6996723648553985, 'auc': 0.9437288861451182, 'prauc': 0.7275078515483423}\n",
      "Test:       {'precision': 0.713963963958604, 'recall': 0.6706629054959756, 'f1': 0.6916363586362236, 'auc': 0.942772623873043, 'prauc': 0.7399654882738738}\n",
      "\n",
      "Early stopping triggered after 18 epochs (no improvement for 5 epochs).\n",
      "\n",
      "Best validation performance:\n",
      "{'precision': 0.6743442098485327, 'recall': 0.7507122507069038, 'f1': 0.7104819633277365, 'auc': 0.9505249853092248, 'prauc': 0.7364499472859303}\n",
      "Corresponding test performance:\n",
      "{'precision': 0.6747382198908721, 'recall': 0.7270803949172985, 'f1': 0.6999321063396259, 'auc': 0.9511725358088494, 'prauc': 0.7518240018942477}\n",
      "Corresponding test-long performance:\n",
      "{'precision': 0.5315614617763601, 'recall': 0.6837606837314631, 'f1': 0.5981308361775528, 'auc': 0.9238052173736822, 'prauc': 0.5661020104100785}\n",
      "[INFO] Random seed set to 958682846\n",
      "Training with seed: 958682846\n"
     ]
    },
    {
     "name": "stderr",
     "output_type": "stream",
     "text": [
      "Training Batches: 100%|██████████| 120/120 [00:21<00:00,  5.57it/s]\n",
      "Running inference: 100%|██████████| 241/241 [00:11<00:00, 21.34it/s]\n",
      "Running inference: 100%|██████████| 245/245 [00:11<00:00, 21.44it/s]\n"
     ]
    },
    {
     "name": "stdout",
     "output_type": "stream",
     "text": [
      "Epoch: 001, Average Loss: 0.2945\n",
      "Validation: {'precision': 0.6094839609398957, 'recall': 0.31125356125134435, 'f1': 0.41206977392709493, 'auc': 0.8929336353516536, 'prauc': 0.5228877758367302}\n",
      "Test:       {'precision': 0.6102841677860584, 'recall': 0.3180535966127077, 'f1': 0.41817338445774016, 'auc': 0.8942068299005544, 'prauc': 0.5235960792913007}\n"
     ]
    },
    {
     "name": "stderr",
     "output_type": "stream",
     "text": [
      "Training Batches: 100%|██████████| 120/120 [00:22<00:00,  5.36it/s]\n",
      "Running inference: 100%|██████████| 241/241 [00:11<00:00, 21.52it/s]\n",
      "Running inference: 100%|██████████| 245/245 [00:11<00:00, 21.82it/s]\n"
     ]
    },
    {
     "name": "stdout",
     "output_type": "stream",
     "text": [
      "Epoch: 002, Average Loss: 0.1982\n",
      "Validation: {'precision': 0.7951807228778799, 'recall': 0.3290598290574854, 'f1': 0.46549117973390874, 'auc': 0.9125869869957889, 'prauc': 0.6397673418493149}\n",
      "Test:       {'precision': 0.7625418060073154, 'recall': 0.3215796897015404, 'f1': 0.4523809482036762, 'auc': 0.9144022593212443, 'prauc': 0.621526449890682}\n"
     ]
    },
    {
     "name": "stderr",
     "output_type": "stream",
     "text": [
      "Training Batches: 100%|██████████| 120/120 [00:21<00:00,  5.49it/s]\n",
      "Running inference: 100%|██████████| 241/241 [00:11<00:00, 21.65it/s]\n",
      "Running inference: 100%|██████████| 245/245 [00:11<00:00, 21.29it/s]\n"
     ]
    },
    {
     "name": "stdout",
     "output_type": "stream",
     "text": [
      "Epoch: 003, Average Loss: 0.1609\n",
      "Validation: {'precision': 0.6110363391614332, 'recall': 0.6467236467190405, 'f1': 0.6283736974218221, 'auc': 0.9423877868008753, 'prauc': 0.6888616665436204}\n",
      "Test:       {'precision': 0.5940530058138717, 'recall': 0.6480959097274465, 'f1': 0.6198988145668346, 'auc': 0.9399517494019569, 'prauc': 0.6658502770143514}\n"
     ]
    },
    {
     "name": "stderr",
     "output_type": "stream",
     "text": [
      "Training Batches: 100%|██████████| 120/120 [00:21<00:00,  5.49it/s]\n",
      "Running inference: 100%|██████████| 241/241 [00:11<00:00, 21.46it/s]\n",
      "Running inference: 100%|██████████| 245/245 [00:11<00:00, 21.77it/s]\n"
     ]
    },
    {
     "name": "stdout",
     "output_type": "stream",
     "text": [
      "Epoch: 004, Average Loss: 0.1247\n",
      "Validation: {'precision': 0.749268292675617, 'recall': 0.547008547004651, 'f1': 0.6323589905879096, 'auc': 0.9484595243954392, 'prauc': 0.7253995615445444}\n",
      "Test:       {'precision': 0.7377049180256732, 'recall': 0.5394922425913999, 'f1': 0.6232179177222728, 'auc': 0.9463446954481397, 'prauc': 0.7076373074267718}\n"
     ]
    },
    {
     "name": "stderr",
     "output_type": "stream",
     "text": [
      "Training Batches: 100%|██████████| 120/120 [00:21<00:00,  5.48it/s]\n",
      "Running inference: 100%|██████████| 241/241 [00:11<00:00, 21.50it/s]\n",
      "Running inference: 100%|██████████| 245/245 [00:11<00:00, 21.40it/s]\n"
     ]
    },
    {
     "name": "stdout",
     "output_type": "stream",
     "text": [
      "Epoch: 005, Average Loss: 0.1061\n",
      "Validation: {'precision': 0.8060796645617812, 'recall': 0.5477207977168966, 'f1': 0.65224766269141, 'auc': 0.9507195732011764, 'prauc': 0.7584068156141888}\n",
      "Test:       {'precision': 0.7926701570597626, 'recall': 0.5338504936492676, 'f1': 0.6380109517799931, 'auc': 0.9496246099897248, 'prauc': 0.7440083042987979}\n"
     ]
    },
    {
     "name": "stderr",
     "output_type": "stream",
     "text": [
      "Training Batches: 100%|██████████| 120/120 [00:21<00:00,  5.51it/s]\n",
      "Running inference: 100%|██████████| 241/241 [00:11<00:00, 21.45it/s]\n",
      "Running inference: 100%|██████████| 245/245 [00:11<00:00, 21.57it/s]\n"
     ]
    },
    {
     "name": "stdout",
     "output_type": "stream",
     "text": [
      "Epoch: 006, Average Loss: 0.0951\n",
      "Validation: {'precision': 0.9046153846014674, 'recall': 0.4188034188004359, 'f1': 0.5725413783361604, 'auc': 0.951304888898659, 'prauc': 0.772187659409146}\n",
      "Test:       {'precision': 0.9070866141589435, 'recall': 0.40620592383352466, 'f1': 0.5611300493019638, 'auc': 0.9510875550537755, 'prauc': 0.7633437318310344}\n"
     ]
    },
    {
     "name": "stderr",
     "output_type": "stream",
     "text": [
      "Training Batches: 100%|██████████| 120/120 [00:22<00:00,  5.35it/s]\n",
      "Running inference: 100%|██████████| 241/241 [00:11<00:00, 21.57it/s]\n",
      "Running inference: 100%|██████████| 245/245 [00:11<00:00, 21.52it/s]\n"
     ]
    },
    {
     "name": "stdout",
     "output_type": "stream",
     "text": [
      "Epoch: 007, Average Loss: 0.0735\n",
      "Validation: {'precision': 0.6835269993118009, 'recall': 0.7122507122456393, 'f1': 0.6975932981015414, 'auc': 0.956955061798957, 'prauc': 0.7678518534136962}\n",
      "Test:       {'precision': 0.6883206634368465, 'recall': 0.7023977432954698, 'f1': 0.6952879531108419, 'auc': 0.9539574120050721, 'prauc': 0.74906206711279}\n"
     ]
    },
    {
     "name": "stderr",
     "output_type": "stream",
     "text": [
      "Training Batches: 100%|██████████| 120/120 [00:21<00:00,  5.55it/s]\n",
      "Running inference: 100%|██████████| 241/241 [00:11<00:00, 21.67it/s]\n",
      "Running inference: 100%|██████████| 245/245 [00:11<00:00, 21.80it/s]\n"
     ]
    },
    {
     "name": "stdout",
     "output_type": "stream",
     "text": [
      "Epoch: 008, Average Loss: 0.0608\n",
      "Validation: {'precision': 0.8100436681134274, 'recall': 0.5284900284862644, 'f1': 0.6396551676295037, 'auc': 0.9553552837024294, 'prauc': 0.7586156768280639}\n",
      "Test:       {'precision': 0.8025613660533345, 'recall': 0.530324400560435, 'f1': 0.6386411841628193, 'auc': 0.9515039682015571, 'prauc': 0.7442177106681086}\n"
     ]
    },
    {
     "name": "stderr",
     "output_type": "stream",
     "text": [
      "Training Batches: 100%|██████████| 120/120 [00:21<00:00,  5.53it/s]\n",
      "Running inference: 100%|██████████| 241/241 [00:11<00:00, 21.19it/s]\n",
      "Running inference: 100%|██████████| 245/245 [00:11<00:00, 21.51it/s]\n"
     ]
    },
    {
     "name": "stdout",
     "output_type": "stream",
     "text": [
      "Epoch: 009, Average Loss: 0.0549\n",
      "Validation: {'precision': 0.654116145496783, 'recall': 0.7300569800517803, 'f1': 0.6900033608804828, 'auc': 0.9531239600182946, 'prauc': 0.7493602729765777}\n",
      "Test:       {'precision': 0.6469088591418298, 'recall': 0.715796897033034, 'f1': 0.6796116454936644, 'auc': 0.952044190588472, 'prauc': 0.7382799376919805}\n"
     ]
    },
    {
     "name": "stderr",
     "output_type": "stream",
     "text": [
      "Training Batches: 100%|██████████| 120/120 [00:22<00:00,  5.40it/s]\n",
      "Running inference: 100%|██████████| 241/241 [00:11<00:00, 21.53it/s]\n",
      "Running inference: 100%|██████████| 245/245 [00:11<00:00, 21.60it/s]\n"
     ]
    },
    {
     "name": "stdout",
     "output_type": "stream",
     "text": [
      "Epoch: 010, Average Loss: 0.0419\n",
      "Validation: {'precision': 0.6550652579201053, 'recall': 0.7507122507069038, 'f1': 0.6996349103852464, 'auc': 0.953212806895739, 'prauc': 0.7506795321346245}\n",
      "Test:       {'precision': 0.6374695863708183, 'recall': 0.7390691114193296, 'f1': 0.6845199166426233, 'auc': 0.9525689213039976, 'prauc': 0.7459201507588379}\n"
     ]
    },
    {
     "name": "stderr",
     "output_type": "stream",
     "text": [
      "Training Batches: 100%|██████████| 120/120 [00:21<00:00,  5.50it/s]\n",
      "Running inference: 100%|██████████| 241/241 [00:11<00:00, 21.14it/s]\n",
      "Running inference: 100%|██████████| 245/245 [00:11<00:00, 21.83it/s]\n"
     ]
    },
    {
     "name": "stdout",
     "output_type": "stream",
     "text": [
      "Epoch: 011, Average Loss: 0.0543\n",
      "Validation: {'precision': 0.7763033175281868, 'recall': 0.5833333333291786, 'f1': 0.6661244359249051, 'auc': 0.9519864044940847, 'prauc': 0.7549894652027485}\n",
      "Test:       {'precision': 0.7730627306201747, 'recall': 0.5909732016883571, 'f1': 0.6698641037967772, 'auc': 0.950925115941754, 'prauc': 0.7542495609476618}\n"
     ]
    },
    {
     "name": "stderr",
     "output_type": "stream",
     "text": [
      "Training Batches: 100%|██████████| 120/120 [00:22<00:00,  5.42it/s]\n",
      "Running inference: 100%|██████████| 241/241 [00:11<00:00, 21.61it/s]\n",
      "Running inference: 100%|██████████| 245/245 [00:11<00:00, 21.76it/s]\n"
     ]
    },
    {
     "name": "stdout",
     "output_type": "stream",
     "text": [
      "Epoch: 012, Average Loss: 0.0283\n",
      "Validation: {'precision': 0.7722222222150721, 'recall': 0.5940170940128632, 'f1': 0.6714975796207225, 'auc': 0.9515624736029109, 'prauc': 0.7547814511559133}\n",
      "Test:       {'precision': 0.7778776978347314, 'recall': 0.6100141043680536, 'f1': 0.6837944614708996, 'auc': 0.9506717873923018, 'prauc': 0.7544498287046403}\n"
     ]
    },
    {
     "name": "stderr",
     "output_type": "stream",
     "text": [
      "Training Batches: 100%|██████████| 120/120 [00:21<00:00,  5.52it/s]\n",
      "Running inference: 100%|██████████| 241/241 [00:11<00:00, 21.42it/s]\n",
      "Running inference: 100%|██████████| 245/245 [00:11<00:00, 21.59it/s]\n"
     ]
    },
    {
     "name": "stdout",
     "output_type": "stream",
     "text": [
      "Epoch: 013, Average Loss: 0.0305\n",
      "Validation: {'precision': 0.7627416520143873, 'recall': 0.6182336182292149, 'f1': 0.6829268243176695, 'auc': 0.9492014670624375, 'prauc': 0.7525198289563403}\n",
      "Test:       {'precision': 0.7608695652107751, 'recall': 0.6170662905457189, 'f1': 0.6814641695039779, 'auc': 0.9501366295902642, 'prauc': 0.751294834799041}\n"
     ]
    },
    {
     "name": "stderr",
     "output_type": "stream",
     "text": [
      "Training Batches: 100%|██████████| 120/120 [00:21<00:00,  5.48it/s]\n",
      "Running inference: 100%|██████████| 241/241 [00:11<00:00, 21.38it/s]\n",
      "Running inference: 100%|██████████| 245/245 [00:11<00:00, 21.49it/s]\n"
     ]
    },
    {
     "name": "stdout",
     "output_type": "stream",
     "text": [
      "Epoch: 014, Average Loss: 0.0314\n",
      "Validation: {'precision': 0.8497913769005592, 'recall': 0.4351851851820856, 'f1': 0.5756005607529849, 'auc': 0.9443467434108286, 'prauc': 0.7469035367038623}\n",
      "Test:       {'precision': 0.8480845442424295, 'recall': 0.452750352606116, 'f1': 0.5903448230425791, 'auc': 0.9441711940910792, 'prauc': 0.7366423046112662}\n"
     ]
    },
    {
     "name": "stderr",
     "output_type": "stream",
     "text": [
      "Training Batches: 100%|██████████| 120/120 [00:22<00:00,  5.33it/s]\n",
      "Running inference: 100%|██████████| 241/241 [00:11<00:00, 21.44it/s]\n",
      "Running inference: 100%|██████████| 245/245 [00:11<00:00, 21.75it/s]\n"
     ]
    },
    {
     "name": "stdout",
     "output_type": "stream",
     "text": [
      "Epoch: 015, Average Loss: 0.0258\n",
      "Validation: {'precision': 0.7161949685478287, 'recall': 0.6488603988557774, 'f1': 0.6808669606274063, 'auc': 0.9423950126064865, 'prauc': 0.7357125252828347}\n",
      "Test:       {'precision': 0.7104247104192246, 'recall': 0.648801128345213, 'f1': 0.6782159920565125, 'auc': 0.9419045440945102, 'prauc': 0.7263868799424791}\n",
      "\n",
      "Early stopping triggered after 15 epochs (no improvement for 5 epochs).\n",
      "\n",
      "Best validation performance:\n",
      "{'precision': 0.6550652579201053, 'recall': 0.7507122507069038, 'f1': 0.6996349103852464, 'auc': 0.953212806895739, 'prauc': 0.7506795321346245}\n",
      "Corresponding test performance:\n",
      "{'precision': 0.6374695863708183, 'recall': 0.7390691114193296, 'f1': 0.6845199166426233, 'auc': 0.9525689213039976, 'prauc': 0.7459201507588379}\n",
      "Corresponding test-long performance:\n",
      "{'precision': 0.49371069180837385, 'recall': 0.6709401709114983, 'f1': 0.5688405748053192, 'auc': 0.9184817027140679, 'prauc': 0.543417159944124}\n",
      "[INFO] Random seed set to 3163119785\n",
      "Training with seed: 3163119785\n"
     ]
    },
    {
     "name": "stderr",
     "output_type": "stream",
     "text": [
      "Training Batches: 100%|██████████| 120/120 [00:21<00:00,  5.53it/s]\n",
      "Running inference: 100%|██████████| 241/241 [00:11<00:00, 21.56it/s]\n",
      "Running inference: 100%|██████████| 245/245 [00:11<00:00, 21.65it/s]\n"
     ]
    },
    {
     "name": "stdout",
     "output_type": "stream",
     "text": [
      "Epoch: 001, Average Loss: 0.2973\n",
      "Validation: {'precision': 0.48702185792017066, 'recall': 0.5078347578311408, 'f1': 0.4972105947197811, 'auc': 0.8617121760116687, 'prauc': 0.4721998790521194}\n",
      "Test:       {'precision': 0.4983119513808352, 'recall': 0.5204513399117034, 'f1': 0.5091410781309634, 'auc': 0.874487893507073, 'prauc': 0.4810030132160932}\n"
     ]
    },
    {
     "name": "stderr",
     "output_type": "stream",
     "text": [
      "Training Batches: 100%|██████████| 120/120 [00:22<00:00,  5.42it/s]\n",
      "Running inference: 100%|██████████| 241/241 [00:11<00:00, 21.50it/s]\n",
      "Running inference: 100%|██████████| 245/245 [00:11<00:00, 21.70it/s]\n"
     ]
    },
    {
     "name": "stdout",
     "output_type": "stream",
     "text": [
      "Epoch: 002, Average Loss: 0.2247\n",
      "Validation: {'precision': 0.6366322008768592, 'recall': 0.3069800569778705, 'f1': 0.4142239264087494, 'auc': 0.9002911847003439, 'prauc': 0.5271713677338216}\n",
      "Test:       {'precision': 0.6316546762499042, 'recall': 0.30959097319950923, 'f1': 0.41552294872864426, 'auc': 0.9075284259756797, 'prauc': 0.5306214038310677}\n"
     ]
    },
    {
     "name": "stderr",
     "output_type": "stream",
     "text": [
      "Training Batches: 100%|██████████| 120/120 [00:21<00:00,  5.47it/s]\n",
      "Running inference: 100%|██████████| 241/241 [00:11<00:00, 21.66it/s]\n",
      "Running inference: 100%|██████████| 245/245 [00:11<00:00, 21.96it/s]\n"
     ]
    },
    {
     "name": "stdout",
     "output_type": "stream",
     "text": [
      "Epoch: 003, Average Loss: 0.1801\n",
      "Validation: {'precision': 0.6832844574713266, 'recall': 0.4978632478597019, 'f1': 0.5760197726215633, 'auc': 0.9323203568041748, 'prauc': 0.6607057176715103}\n",
      "Test:       {'precision': 0.6708984374934484, 'recall': 0.48448519040561017, 'f1': 0.5626535577791126, 'auc': 0.9350784767357301, 'prauc': 0.6406035125977617}\n"
     ]
    },
    {
     "name": "stderr",
     "output_type": "stream",
     "text": [
      "Training Batches: 100%|██████████| 120/120 [00:21<00:00,  5.46it/s]\n",
      "Running inference: 100%|██████████| 241/241 [00:11<00:00, 21.67it/s]\n",
      "Running inference: 100%|██████████| 245/245 [00:11<00:00, 21.82it/s]\n"
     ]
    },
    {
     "name": "stdout",
     "output_type": "stream",
     "text": [
      "Epoch: 004, Average Loss: 0.1598\n",
      "Validation: {'precision': 0.6216586703178777, 'recall': 0.6460113960067948, 'f1': 0.6336011127061164, 'auc': 0.9321831173835174, 'prauc': 0.6795597086386729}\n",
      "Test:       {'precision': 0.6167341430457711, 'recall': 0.6445698166386138, 'f1': 0.630344822584295, 'auc': 0.9376100740352934, 'prauc': 0.6659551164153933}\n"
     ]
    },
    {
     "name": "stderr",
     "output_type": "stream",
     "text": [
      "Training Batches: 100%|██████████| 120/120 [00:22<00:00,  5.38it/s]\n",
      "Running inference: 100%|██████████| 241/241 [00:11<00:00, 21.60it/s]\n",
      "Running inference: 100%|██████████| 245/245 [00:11<00:00, 21.37it/s]\n"
     ]
    },
    {
     "name": "stdout",
     "output_type": "stream",
     "text": [
      "Epoch: 005, Average Loss: 0.1288\n",
      "Validation: {'precision': 0.7843749999918295, 'recall': 0.5363247863209664, 'f1': 0.6370558327344388, 'auc': 0.9431319938928713, 'prauc': 0.7385922626697499}\n",
      "Test:       {'precision': 0.787301587293256, 'recall': 0.5246826516183027, 'f1': 0.6297079935022457, 'auc': 0.9478445573637228, 'prauc': 0.7320083750862592}\n"
     ]
    },
    {
     "name": "stderr",
     "output_type": "stream",
     "text": [
      "Training Batches: 100%|██████████| 120/120 [00:21<00:00,  5.50it/s]\n",
      "Running inference: 100%|██████████| 241/241 [00:11<00:00, 21.45it/s]\n",
      "Running inference: 100%|██████████| 245/245 [00:11<00:00, 21.45it/s]\n"
     ]
    },
    {
     "name": "stdout",
     "output_type": "stream",
     "text": [
      "Epoch: 006, Average Loss: 0.1026\n",
      "Validation: {'precision': 0.8142340168779948, 'recall': 0.4807692307658065, 'f1': 0.6045678412732757, 'auc': 0.9504587572387815, 'prauc': 0.7507307988922328}\n",
      "Test:       {'precision': 0.8141176470492457, 'recall': 0.48801128349444284, 'f1': 0.6102292722041657, 'auc': 0.9529521415597156, 'prauc': 0.7386398680089421}\n"
     ]
    },
    {
     "name": "stderr",
     "output_type": "stream",
     "text": [
      "Training Batches: 100%|██████████| 120/120 [00:21<00:00,  5.54it/s]\n",
      "Running inference: 100%|██████████| 241/241 [00:11<00:00, 21.25it/s]\n",
      "Running inference: 100%|██████████| 245/245 [00:11<00:00, 21.28it/s]\n"
     ]
    },
    {
     "name": "stdout",
     "output_type": "stream",
     "text": [
      "Epoch: 007, Average Loss: 0.0879\n",
      "Validation: {'precision': 0.7663551401797538, 'recall': 0.5840455840414243, 'f1': 0.662894093711479, 'auc': 0.950239184342921, 'prauc': 0.749614882811921}\n",
      "Test:       {'precision': 0.7629151291442536, 'recall': 0.5832157968929251, 'f1': 0.6610711381693495, 'auc': 0.9540283161933548, 'prauc': 0.7411295707377784}\n"
     ]
    },
    {
     "name": "stderr",
     "output_type": "stream",
     "text": [
      "Training Batches: 100%|██████████| 120/120 [00:22<00:00,  5.38it/s]\n",
      "Running inference: 100%|██████████| 241/241 [00:11<00:00, 21.57it/s]\n",
      "Running inference: 100%|██████████| 245/245 [00:11<00:00, 21.82it/s]\n"
     ]
    },
    {
     "name": "stdout",
     "output_type": "stream",
     "text": [
      "Epoch: 008, Average Loss: 0.0683\n",
      "Validation: {'precision': 0.7336206896488482, 'recall': 0.606125356121039, 'f1': 0.6638065473021934, 'auc': 0.9465092947267699, 'prauc': 0.7306706003387106}\n",
      "Test:       {'precision': 0.7379367720404498, 'recall': 0.6255289139589173, 'f1': 0.6770992316700367, 'auc': 0.9509063968388252, 'prauc': 0.7316813478324349}\n"
     ]
    },
    {
     "name": "stderr",
     "output_type": "stream",
     "text": [
      "Training Batches: 100%|██████████| 120/120 [00:21<00:00,  5.46it/s]\n",
      "Running inference: 100%|██████████| 241/241 [00:11<00:00, 21.45it/s]\n",
      "Running inference: 100%|██████████| 245/245 [00:11<00:00, 21.29it/s]\n"
     ]
    },
    {
     "name": "stdout",
     "output_type": "stream",
     "text": [
      "Epoch: 009, Average Loss: 0.0607\n",
      "Validation: {'precision': 0.8073286051914027, 'recall': 0.48646723646377166, 'f1': 0.6071111064132347, 'auc': 0.9460266160005391, 'prauc': 0.7380450214607066}\n",
      "Test:       {'precision': 0.8178613395908594, 'recall': 0.490832157965509, 'f1': 0.613486112539078, 'auc': 0.9509687110939337, 'prauc': 0.7396953997229128}\n"
     ]
    },
    {
     "name": "stderr",
     "output_type": "stream",
     "text": [
      "Training Batches: 100%|██████████| 120/120 [00:22<00:00,  5.43it/s]\n",
      "Running inference: 100%|██████████| 241/241 [00:11<00:00, 21.39it/s]\n",
      "Running inference: 100%|██████████| 245/245 [00:11<00:00, 21.75it/s]\n"
     ]
    },
    {
     "name": "stdout",
     "output_type": "stream",
     "text": [
      "Epoch: 010, Average Loss: 0.0563\n",
      "Validation: {'precision': 0.7615230460845539, 'recall': 0.5413105413066859, 'f1': 0.6328059901417429, 'auc': 0.9447294057924909, 'prauc': 0.719023045242473}\n",
      "Test:       {'precision': 0.7717717717640463, 'recall': 0.5437235542979991, 'f1': 0.6379809632873066, 'auc': 0.9477321186141667, 'prauc': 0.717952979920025}\n"
     ]
    },
    {
     "name": "stderr",
     "output_type": "stream",
     "text": [
      "Training Batches: 100%|██████████| 120/120 [00:22<00:00,  5.26it/s]\n",
      "Running inference: 100%|██████████| 241/241 [00:11<00:00, 21.20it/s]\n",
      "Running inference: 100%|██████████| 245/245 [00:11<00:00, 21.47it/s]\n"
     ]
    },
    {
     "name": "stdout",
     "output_type": "stream",
     "text": [
      "Epoch: 011, Average Loss: 0.0393\n",
      "Validation: {'precision': 0.7112561174493373, 'recall': 0.6210826210781974, 'f1': 0.6631178657402942, 'auc': 0.9459429849334829, 'prauc': 0.7175951906133418}\n",
      "Test:       {'precision': 0.7327800829814708, 'recall': 0.6227080394878511, 'f1': 0.6732748711239107, 'auc': 0.9498851381941497, 'prauc': 0.7236285651330372}\n"
     ]
    },
    {
     "name": "stderr",
     "output_type": "stream",
     "text": [
      "Training Batches: 100%|██████████| 120/120 [00:21<00:00,  5.65it/s]\n",
      "Running inference: 100%|██████████| 241/241 [00:11<00:00, 21.50it/s]\n",
      "Running inference: 100%|██████████| 245/245 [00:11<00:00, 21.59it/s]\n"
     ]
    },
    {
     "name": "stdout",
     "output_type": "stream",
     "text": [
      "Epoch: 012, Average Loss: 0.0326\n",
      "Validation: {'precision': 0.6621160409511119, 'recall': 0.6908831908782701, 'f1': 0.6761937907451939, 'auc': 0.9462660089758754, 'prauc': 0.7199971616236155}\n",
      "Test:       {'precision': 0.6650519031095845, 'recall': 0.677715091673641, 'f1': 0.6713237812339669, 'auc': 0.9469996157866886, 'prauc': 0.7201845992089511}\n"
     ]
    },
    {
     "name": "stderr",
     "output_type": "stream",
     "text": [
      "Training Batches: 100%|██████████| 120/120 [00:22<00:00,  5.36it/s]\n",
      "Running inference: 100%|██████████| 241/241 [00:11<00:00, 21.20it/s]\n",
      "Running inference: 100%|██████████| 245/245 [00:11<00:00, 21.61it/s]\n"
     ]
    },
    {
     "name": "stdout",
     "output_type": "stream",
     "text": [
      "Epoch: 013, Average Loss: 0.0360\n",
      "Validation: {'precision': 0.6633132126045386, 'recall': 0.7044159544109373, 'f1': 0.6832469725472912, 'auc': 0.9487286347685006, 'prauc': 0.7262612954593511}\n",
      "Test:       {'precision': 0.675202156329682, 'recall': 0.706629055002069, 'f1': 0.6905582306973448, 'auc': 0.9521864458401734, 'prauc': 0.737531552999397}\n"
     ]
    },
    {
     "name": "stderr",
     "output_type": "stream",
     "text": [
      "Training Batches: 100%|██████████| 120/120 [00:21<00:00,  5.46it/s]\n",
      "Running inference: 100%|██████████| 241/241 [00:11<00:00, 21.38it/s]\n",
      "Running inference: 100%|██████████| 245/245 [00:11<00:00, 21.71it/s]\n"
     ]
    },
    {
     "name": "stdout",
     "output_type": "stream",
     "text": [
      "Epoch: 014, Average Loss: 0.0250\n",
      "Validation: {'precision': 0.7497773820057901, 'recall': 0.5997150997108283, 'f1': 0.666402844284886, 'auc': 0.9423723683565077, 'prauc': 0.7259783682215755}\n",
      "Test:       {'precision': 0.7499999999934441, 'recall': 0.6050775740436878, 'f1': 0.6697892222182369, 'auc': 0.9468631202589651, 'prauc': 0.7270598503050762}\n"
     ]
    },
    {
     "name": "stderr",
     "output_type": "stream",
     "text": [
      "Training Batches: 100%|██████████| 120/120 [00:21<00:00,  5.52it/s]\n",
      "Running inference: 100%|██████████| 241/241 [00:11<00:00, 20.97it/s]\n",
      "Running inference: 100%|██████████| 245/245 [00:11<00:00, 21.56it/s]\n"
     ]
    },
    {
     "name": "stdout",
     "output_type": "stream",
     "text": [
      "Epoch: 015, Average Loss: 0.0346\n",
      "Validation: {'precision': 0.6984496123976865, 'recall': 0.641737891733321, 'f1': 0.6688938331628593, 'auc': 0.9493874043420374, 'prauc': 0.7120278075266223}\n",
      "Test:       {'precision': 0.7169517884858714, 'recall': 0.6502115655807461, 'f1': 0.6819526577287649, 'auc': 0.9522712528104723, 'prauc': 0.7307695573389058}\n"
     ]
    },
    {
     "name": "stderr",
     "output_type": "stream",
     "text": [
      "Training Batches: 100%|██████████| 120/120 [00:22<00:00,  5.41it/s]\n",
      "Running inference: 100%|██████████| 241/241 [00:11<00:00, 21.62it/s]\n",
      "Running inference: 100%|██████████| 245/245 [00:11<00:00, 21.70it/s]\n"
     ]
    },
    {
     "name": "stdout",
     "output_type": "stream",
     "text": [
      "Epoch: 016, Average Loss: 0.0239\n",
      "Validation: {'precision': 0.6863988724405469, 'recall': 0.6937321937272527, 'f1': 0.6900460452963506, 'auc': 0.9451534384555745, 'prauc': 0.7214410149944999}\n",
      "Test:       {'precision': 0.6951646811443928, 'recall': 0.6995768688244036, 'f1': 0.6973637911287154, 'auc': 0.9497356088082863, 'prauc': 0.735960697761532}\n"
     ]
    },
    {
     "name": "stderr",
     "output_type": "stream",
     "text": [
      "Training Batches: 100%|██████████| 120/120 [00:21<00:00,  5.47it/s]\n",
      "Running inference: 100%|██████████| 241/241 [00:11<00:00, 21.28it/s]\n",
      "Running inference: 100%|██████████| 245/245 [00:11<00:00, 21.74it/s]\n"
     ]
    },
    {
     "name": "stdout",
     "output_type": "stream",
     "text": [
      "Epoch: 017, Average Loss: 0.0261\n",
      "Validation: {'precision': 0.6796759941039788, 'recall': 0.6574074074027251, 'f1': 0.6683562585736653, 'auc': 0.943272846216334, 'prauc': 0.6998437795814259}\n",
      "Test:       {'precision': 0.7014042867649564, 'recall': 0.6692524682604426, 'f1': 0.684951276123755, 'auc': 0.9484877596431434, 'prauc': 0.7163038289745917}\n"
     ]
    },
    {
     "name": "stderr",
     "output_type": "stream",
     "text": [
      "Training Batches: 100%|██████████| 120/120 [00:22<00:00,  5.38it/s]\n",
      "Running inference: 100%|██████████| 241/241 [00:11<00:00, 21.45it/s]\n",
      "Running inference: 100%|██████████| 245/245 [00:11<00:00, 21.61it/s]\n"
     ]
    },
    {
     "name": "stdout",
     "output_type": "stream",
     "text": [
      "Epoch: 018, Average Loss: 0.0194\n",
      "Validation: {'precision': 0.6520051746400258, 'recall': 0.7179487179436044, 'f1': 0.6833898255154266, 'auc': 0.9457093675140399, 'prauc': 0.69881444466406}\n",
      "Test:       {'precision': 0.6636539702991372, 'recall': 0.7249647390639989, 'f1': 0.6929558426626428, 'auc': 0.9490818553103711, 'prauc': 0.7158358950240764}\n"
     ]
    },
    {
     "name": "stderr",
     "output_type": "stream",
     "text": [
      "Training Batches: 100%|██████████| 120/120 [00:21<00:00,  5.46it/s]\n",
      "Running inference: 100%|██████████| 241/241 [00:11<00:00, 21.35it/s]\n",
      "Running inference: 100%|██████████| 245/245 [00:11<00:00, 21.69it/s]\n"
     ]
    },
    {
     "name": "stdout",
     "output_type": "stream",
     "text": [
      "Epoch: 019, Average Loss: 0.0117\n",
      "Validation: {'precision': 0.7471590909020156, 'recall': 0.5619658119618094, 'f1': 0.6414634097289907, 'auc': 0.9386276709274496, 'prauc': 0.7122344235532092}\n",
      "Test:       {'precision': 0.7722488038203613, 'recall': 0.5691114245375944, 'f1': 0.6552984116745159, 'auc': 0.9424186987651448, 'prauc': 0.7218950928644962}\n"
     ]
    },
    {
     "name": "stderr",
     "output_type": "stream",
     "text": [
      "Training Batches: 100%|██████████| 120/120 [00:21<00:00,  5.48it/s]\n",
      "Running inference: 100%|██████████| 241/241 [00:11<00:00, 21.37it/s]\n",
      "Running inference: 100%|██████████| 245/245 [00:11<00:00, 21.54it/s]\n"
     ]
    },
    {
     "name": "stdout",
     "output_type": "stream",
     "text": [
      "Epoch: 020, Average Loss: 0.0132\n",
      "Validation: {'precision': 0.65500685870607, 'recall': 0.6801994301945855, 'f1': 0.6673654736833499, 'auc': 0.9428210807077707, 'prauc': 0.6970164350753152}\n",
      "Test:       {'precision': 0.664179104473106, 'recall': 0.6904090267934386, 'f1': 0.6770401056472619, 'auc': 0.9465030630311423, 'prauc': 0.707228398537542}\n"
     ]
    },
    {
     "name": "stderr",
     "output_type": "stream",
     "text": [
      "Training Batches: 100%|██████████| 120/120 [00:22<00:00,  5.30it/s]\n",
      "Running inference: 100%|██████████| 241/241 [00:11<00:00, 21.23it/s]\n",
      "Running inference: 100%|██████████| 245/245 [00:11<00:00, 21.67it/s]\n"
     ]
    },
    {
     "name": "stdout",
     "output_type": "stream",
     "text": [
      "Epoch: 021, Average Loss: 0.0120\n",
      "Validation: {'precision': 0.7460611677410004, 'recall': 0.5733618233577397, 'f1': 0.6484091775210344, 'auc': 0.941794609223344, 'prauc': 0.7208170401713448}\n",
      "Test:       {'precision': 0.7692307692236402, 'recall': 0.5853314527462248, 'f1': 0.6647977523956038, 'auc': 0.9435226293100237, 'prauc': 0.7263820452840777}\n",
      "\n",
      "Early stopping triggered after 21 epochs (no improvement for 5 epochs).\n",
      "\n",
      "Best validation performance:\n",
      "{'precision': 0.6863988724405469, 'recall': 0.6937321937272527, 'f1': 0.6900460452963506, 'auc': 0.9451534384555745, 'prauc': 0.7214410149944999}\n",
      "Corresponding test performance:\n",
      "{'precision': 0.6951646811443928, 'recall': 0.6995768688244036, 'f1': 0.6973637911287154, 'auc': 0.9497356088082863, 'prauc': 0.735960697761532}\n",
      "Corresponding test-long performance:\n",
      "{'precision': 0.5384615384418145, 'recall': 0.6282051281782818, 'f1': 0.5798816518114446, 'auc': 0.93051185789775, 'prauc': 0.5786510293436371}\n",
      "[INFO] Random seed set to 1812140441\n",
      "Training with seed: 1812140441\n"
     ]
    },
    {
     "name": "stderr",
     "output_type": "stream",
     "text": [
      "Training Batches: 100%|██████████| 120/120 [00:21<00:00,  5.54it/s]\n",
      "Running inference: 100%|██████████| 241/241 [00:11<00:00, 21.39it/s]\n",
      "Running inference:  73%|███████▎  | 180/245 [00:08<00:03, 21.46it/s]\n"
     ]
    },
    {
     "ename": "KeyboardInterrupt",
     "evalue": "",
     "output_type": "error",
     "traceback": [
      "\u001b[0;31m---------------------------------------------------------------------------\u001b[0m",
      "\u001b[0;31mKeyboardInterrupt\u001b[0m                         Traceback (most recent call last)",
      "    \u001b[0;31m[... skipping hidden 1 frame]\u001b[0m\n",
      "Cell \u001b[0;32mIn[17], line 13\u001b[0m\n\u001b[1;32m     11\u001b[0m optimizer \u001b[38;5;241m=\u001b[39m torch\u001b[38;5;241m.\u001b[39moptim\u001b[38;5;241m.\u001b[39mAdamW(model\u001b[38;5;241m.\u001b[39mparameters(), lr\u001b[38;5;241m=\u001b[39margs[\u001b[38;5;124m\"\u001b[39m\u001b[38;5;124mlr\u001b[39m\u001b[38;5;124m\"\u001b[39m])\n\u001b[0;32m---> 13\u001b[0m best_test_metric, best_test_long_seq_metric \u001b[38;5;241m=\u001b[39m \u001b[43mtrain_with_early_stopping\u001b[49m\u001b[43m(\u001b[49m\n\u001b[1;32m     14\u001b[0m \u001b[43m    \u001b[49m\u001b[43mmodel\u001b[49m\u001b[43m,\u001b[49m\u001b[43m \u001b[49m\n\u001b[1;32m     15\u001b[0m \u001b[43m    \u001b[49m\u001b[43mtrain_dataloader\u001b[49m\u001b[43m,\u001b[49m\u001b[43m \u001b[49m\n\u001b[1;32m     16\u001b[0m \u001b[43m    \u001b[49m\u001b[43mval_dataloader\u001b[49m\u001b[43m,\u001b[49m\u001b[43m \u001b[49m\n\u001b[1;32m     17\u001b[0m \u001b[43m    \u001b[49m\u001b[43mtest_dataloader\u001b[49m\u001b[43m,\u001b[49m\n\u001b[1;32m     18\u001b[0m \u001b[43m    \u001b[49m\u001b[43moptimizer\u001b[49m\u001b[43m,\u001b[49m\u001b[43m \u001b[49m\n\u001b[1;32m     19\u001b[0m \u001b[43m    \u001b[49m\u001b[43mloss_fn\u001b[49m\u001b[43m,\u001b[49m\u001b[43m \u001b[49m\n\u001b[1;32m     20\u001b[0m \u001b[43m    \u001b[49m\u001b[43mdevice\u001b[49m\u001b[43m,\u001b[49m\u001b[43m \u001b[49m\n\u001b[1;32m     21\u001b[0m \u001b[43m    \u001b[49m\u001b[43margs\u001b[49m\u001b[43m,\u001b[49m\n\u001b[1;32m     22\u001b[0m \u001b[43m    \u001b[49m\u001b[43mval_long_seq_idx\u001b[49m\u001b[43m,\u001b[49m\n\u001b[1;32m     23\u001b[0m \u001b[43m    \u001b[49m\u001b[43mtest_long_seq_idx\u001b[49m\u001b[43m,\u001b[49m\n\u001b[1;32m     24\u001b[0m \u001b[43m    \u001b[49m\u001b[43mtask_type\u001b[49m\u001b[38;5;241;43m=\u001b[39;49m\u001b[43mtask_type\u001b[49m\u001b[43m)\u001b[49m\n\u001b[1;32m     26\u001b[0m final_metrics\u001b[38;5;241m.\u001b[39mappend(best_test_metric)\n",
      "Cell \u001b[0;32mIn[14], line 41\u001b[0m, in \u001b[0;36mtrain_with_early_stopping\u001b[0;34m(model, train_dataloader, val_dataloader, test_dataloader, optimizer, loss_fn, device, args, val_long_seq_idx, test_long_seq_idx, task_type, eval_metric)\u001b[0m\n\u001b[1;32m     40\u001b[0m val_metric, val_long_seq_metric \u001b[38;5;241m=\u001b[39m evaluate(model, val_dataloader, device, task_type\u001b[38;5;241m=\u001b[39mtask_type, long_seq_idx\u001b[38;5;241m=\u001b[39mval_long_seq_idx)\n\u001b[0;32m---> 41\u001b[0m test_metric, test_long_seq_metric \u001b[38;5;241m=\u001b[39m \u001b[43mevaluate\u001b[49m\u001b[43m(\u001b[49m\u001b[43mmodel\u001b[49m\u001b[43m,\u001b[49m\u001b[43m \u001b[49m\u001b[43mtest_dataloader\u001b[49m\u001b[43m,\u001b[49m\u001b[43m \u001b[49m\u001b[43mdevice\u001b[49m\u001b[43m,\u001b[49m\u001b[43m \u001b[49m\u001b[43mtask_type\u001b[49m\u001b[38;5;241;43m=\u001b[39;49m\u001b[43mtask_type\u001b[49m\u001b[43m,\u001b[49m\u001b[43m \u001b[49m\u001b[43mlong_seq_idx\u001b[49m\u001b[38;5;241;43m=\u001b[39;49m\u001b[43mtest_long_seq_idx\u001b[49m\u001b[43m)\u001b[49m\n\u001b[1;32m     43\u001b[0m \u001b[38;5;28;01mif\u001b[39;00m task_type \u001b[38;5;241m!=\u001b[39m \u001b[38;5;124m\"\u001b[39m\u001b[38;5;124mbinary\u001b[39m\u001b[38;5;124m\"\u001b[39m:\n",
      "File \u001b[0;32m~/conda/envs/pyhealth/lib/python3.8/site-packages/torch/utils/_contextlib.py:116\u001b[0m, in \u001b[0;36mcontext_decorator.<locals>.decorate_context\u001b[0;34m(*args, **kwargs)\u001b[0m\n\u001b[1;32m    115\u001b[0m \u001b[38;5;28;01mwith\u001b[39;00m ctx_factory():\n\u001b[0;32m--> 116\u001b[0m     \u001b[38;5;28;01mreturn\u001b[39;00m \u001b[43mfunc\u001b[49m\u001b[43m(\u001b[49m\u001b[38;5;241;43m*\u001b[39;49m\u001b[43margs\u001b[49m\u001b[43m,\u001b[49m\u001b[43m \u001b[49m\u001b[38;5;241;43m*\u001b[39;49m\u001b[38;5;241;43m*\u001b[39;49m\u001b[43mkwargs\u001b[49m\u001b[43m)\u001b[49m\n",
      "Cell \u001b[0;32mIn[5], line 10\u001b[0m, in \u001b[0;36mevaluate\u001b[0;34m(model, dataloader, device, long_seq_idx, task_type)\u001b[0m\n\u001b[1;32m      9\u001b[0m labels \u001b[38;5;241m=\u001b[39m batch[\u001b[38;5;241m-\u001b[39m\u001b[38;5;241m1\u001b[39m]\n\u001b[0;32m---> 10\u001b[0m output_logits \u001b[38;5;241m=\u001b[39m \u001b[43mmodel\u001b[49m\u001b[43m(\u001b[49m\u001b[38;5;241;43m*\u001b[39;49m\u001b[43mbatch\u001b[49m\u001b[43m[\u001b[49m\u001b[43m:\u001b[49m\u001b[38;5;241;43m-\u001b[39;49m\u001b[38;5;241;43m1\u001b[39;49m\u001b[43m]\u001b[49m\u001b[43m)\u001b[49m\n\u001b[1;32m     11\u001b[0m predicted_scores\u001b[38;5;241m.\u001b[39mappend(output_logits)\n",
      "File \u001b[0;32m~/conda/envs/pyhealth/lib/python3.8/site-packages/torch/nn/modules/module.py:1553\u001b[0m, in \u001b[0;36mModule._wrapped_call_impl\u001b[0;34m(self, *args, **kwargs)\u001b[0m\n\u001b[1;32m   1552\u001b[0m \u001b[38;5;28;01melse\u001b[39;00m:\n\u001b[0;32m-> 1553\u001b[0m     \u001b[38;5;28;01mreturn\u001b[39;00m \u001b[38;5;28;43mself\u001b[39;49m\u001b[38;5;241;43m.\u001b[39;49m\u001b[43m_call_impl\u001b[49m\u001b[43m(\u001b[49m\u001b[38;5;241;43m*\u001b[39;49m\u001b[43margs\u001b[49m\u001b[43m,\u001b[49m\u001b[43m \u001b[49m\u001b[38;5;241;43m*\u001b[39;49m\u001b[38;5;241;43m*\u001b[39;49m\u001b[43mkwargs\u001b[49m\u001b[43m)\u001b[49m\n",
      "File \u001b[0;32m~/conda/envs/pyhealth/lib/python3.8/site-packages/torch/nn/modules/module.py:1562\u001b[0m, in \u001b[0;36mModule._call_impl\u001b[0;34m(self, *args, **kwargs)\u001b[0m\n\u001b[1;32m   1559\u001b[0m \u001b[38;5;28;01mif\u001b[39;00m \u001b[38;5;129;01mnot\u001b[39;00m (\u001b[38;5;28mself\u001b[39m\u001b[38;5;241m.\u001b[39m_backward_hooks \u001b[38;5;129;01mor\u001b[39;00m \u001b[38;5;28mself\u001b[39m\u001b[38;5;241m.\u001b[39m_backward_pre_hooks \u001b[38;5;129;01mor\u001b[39;00m \u001b[38;5;28mself\u001b[39m\u001b[38;5;241m.\u001b[39m_forward_hooks \u001b[38;5;129;01mor\u001b[39;00m \u001b[38;5;28mself\u001b[39m\u001b[38;5;241m.\u001b[39m_forward_pre_hooks\n\u001b[1;32m   1560\u001b[0m         \u001b[38;5;129;01mor\u001b[39;00m _global_backward_pre_hooks \u001b[38;5;129;01mor\u001b[39;00m _global_backward_hooks\n\u001b[1;32m   1561\u001b[0m         \u001b[38;5;129;01mor\u001b[39;00m _global_forward_hooks \u001b[38;5;129;01mor\u001b[39;00m _global_forward_pre_hooks):\n\u001b[0;32m-> 1562\u001b[0m     \u001b[38;5;28;01mreturn\u001b[39;00m \u001b[43mforward_call\u001b[49m\u001b[43m(\u001b[49m\u001b[38;5;241;43m*\u001b[39;49m\u001b[43margs\u001b[49m\u001b[43m,\u001b[49m\u001b[43m \u001b[49m\u001b[38;5;241;43m*\u001b[39;49m\u001b[38;5;241;43m*\u001b[39;49m\u001b[43mkwargs\u001b[49m\u001b[43m)\u001b[49m\n\u001b[1;32m   1564\u001b[0m \u001b[38;5;28;01mtry\u001b[39;00m:\n",
      "Cell \u001b[0;32mIn[15], line 65\u001b[0m, in \u001b[0;36mPyHealthModel.forward\u001b[0;34m(self, input_ids, input_types, labeled_batch_idx)\u001b[0m\n\u001b[1;32m     64\u001b[0m \u001b[38;5;28;01melse\u001b[39;00m:  \u001b[38;5;66;03m# stagenet\u001b[39;00m\n\u001b[0;32m---> 65\u001b[0m     out \u001b[38;5;241m=\u001b[39m \u001b[38;5;28;43mself\u001b[39;49m\u001b[38;5;241;43m.\u001b[39;49m\u001b[43mbackbone_mod\u001b[49m\u001b[43m(\u001b[49m\u001b[43mx\u001b[49m\u001b[43m,\u001b[49m\u001b[43m \u001b[49m\u001b[43mmask\u001b[49m\u001b[38;5;241;43m=\u001b[39;49m\u001b[43mmask\u001b[49m\u001b[43m)\u001b[49m                    \u001b[38;5;66;03m# 取决于你的实现\u001b[39;00m\n\u001b[1;32m     66\u001b[0m     c \u001b[38;5;241m=\u001b[39m out[\u001b[38;5;241m0\u001b[39m] \u001b[38;5;28;01mif\u001b[39;00m \u001b[38;5;28misinstance\u001b[39m(out, (\u001b[38;5;28mtuple\u001b[39m, \u001b[38;5;28mlist\u001b[39m)) \u001b[38;5;28;01melse\u001b[39;00m out    \u001b[38;5;66;03m# [B,H*]\u001b[39;00m\n",
      "File \u001b[0;32m~/conda/envs/pyhealth/lib/python3.8/site-packages/torch/nn/modules/module.py:1553\u001b[0m, in \u001b[0;36mModule._wrapped_call_impl\u001b[0;34m(self, *args, **kwargs)\u001b[0m\n\u001b[1;32m   1552\u001b[0m \u001b[38;5;28;01melse\u001b[39;00m:\n\u001b[0;32m-> 1553\u001b[0m     \u001b[38;5;28;01mreturn\u001b[39;00m \u001b[38;5;28;43mself\u001b[39;49m\u001b[38;5;241;43m.\u001b[39;49m\u001b[43m_call_impl\u001b[49m\u001b[43m(\u001b[49m\u001b[38;5;241;43m*\u001b[39;49m\u001b[43margs\u001b[49m\u001b[43m,\u001b[49m\u001b[43m \u001b[49m\u001b[38;5;241;43m*\u001b[39;49m\u001b[38;5;241;43m*\u001b[39;49m\u001b[43mkwargs\u001b[49m\u001b[43m)\u001b[49m\n",
      "File \u001b[0;32m~/conda/envs/pyhealth/lib/python3.8/site-packages/torch/nn/modules/module.py:1562\u001b[0m, in \u001b[0;36mModule._call_impl\u001b[0;34m(self, *args, **kwargs)\u001b[0m\n\u001b[1;32m   1559\u001b[0m \u001b[38;5;28;01mif\u001b[39;00m \u001b[38;5;129;01mnot\u001b[39;00m (\u001b[38;5;28mself\u001b[39m\u001b[38;5;241m.\u001b[39m_backward_hooks \u001b[38;5;129;01mor\u001b[39;00m \u001b[38;5;28mself\u001b[39m\u001b[38;5;241m.\u001b[39m_backward_pre_hooks \u001b[38;5;129;01mor\u001b[39;00m \u001b[38;5;28mself\u001b[39m\u001b[38;5;241m.\u001b[39m_forward_hooks \u001b[38;5;129;01mor\u001b[39;00m \u001b[38;5;28mself\u001b[39m\u001b[38;5;241m.\u001b[39m_forward_pre_hooks\n\u001b[1;32m   1560\u001b[0m         \u001b[38;5;129;01mor\u001b[39;00m _global_backward_pre_hooks \u001b[38;5;129;01mor\u001b[39;00m _global_backward_hooks\n\u001b[1;32m   1561\u001b[0m         \u001b[38;5;129;01mor\u001b[39;00m _global_forward_hooks \u001b[38;5;129;01mor\u001b[39;00m _global_forward_pre_hooks):\n\u001b[0;32m-> 1562\u001b[0m     \u001b[38;5;28;01mreturn\u001b[39;00m \u001b[43mforward_call\u001b[49m\u001b[43m(\u001b[49m\u001b[38;5;241;43m*\u001b[39;49m\u001b[43margs\u001b[49m\u001b[43m,\u001b[49m\u001b[43m \u001b[49m\u001b[38;5;241;43m*\u001b[39;49m\u001b[38;5;241;43m*\u001b[39;49m\u001b[43mkwargs\u001b[49m\u001b[43m)\u001b[49m\n\u001b[1;32m   1564\u001b[0m \u001b[38;5;28;01mtry\u001b[39;00m:\n",
      "File \u001b[0;32m~/conda/envs/pyhealth/lib/python3.8/site-packages/pyhealth/models/stagenet.py:215\u001b[0m, in \u001b[0;36mStageNetLayer.forward\u001b[0;34m(self, x, time, mask)\u001b[0m\n\u001b[1;32m    213\u001b[0m local_theme \u001b[38;5;241m=\u001b[39m torch\u001b[38;5;241m.\u001b[39msigmoid(local_theme)\n\u001b[0;32m--> 215\u001b[0m local_h \u001b[38;5;241m=\u001b[39m \u001b[38;5;28;43mself\u001b[39;49m\u001b[38;5;241;43m.\u001b[39;49m\u001b[43mnn_conv\u001b[49m\u001b[43m(\u001b[49m\u001b[43mlocal_h\u001b[49m\u001b[43m)\u001b[49m\u001b[38;5;241m.\u001b[39msqueeze(\u001b[38;5;241m-\u001b[39m\u001b[38;5;241m1\u001b[39m)\n\u001b[1;32m    216\u001b[0m local_h \u001b[38;5;241m=\u001b[39m local_theme \u001b[38;5;241m*\u001b[39m local_h\n",
      "File \u001b[0;32m~/conda/envs/pyhealth/lib/python3.8/site-packages/torch/nn/modules/module.py:1553\u001b[0m, in \u001b[0;36mModule._wrapped_call_impl\u001b[0;34m(self, *args, **kwargs)\u001b[0m\n\u001b[1;32m   1552\u001b[0m \u001b[38;5;28;01melse\u001b[39;00m:\n\u001b[0;32m-> 1553\u001b[0m     \u001b[38;5;28;01mreturn\u001b[39;00m \u001b[38;5;28;43mself\u001b[39;49m\u001b[38;5;241;43m.\u001b[39;49m\u001b[43m_call_impl\u001b[49m\u001b[43m(\u001b[49m\u001b[38;5;241;43m*\u001b[39;49m\u001b[43margs\u001b[49m\u001b[43m,\u001b[49m\u001b[43m \u001b[49m\u001b[38;5;241;43m*\u001b[39;49m\u001b[38;5;241;43m*\u001b[39;49m\u001b[43mkwargs\u001b[49m\u001b[43m)\u001b[49m\n",
      "File \u001b[0;32m~/conda/envs/pyhealth/lib/python3.8/site-packages/torch/nn/modules/module.py:1562\u001b[0m, in \u001b[0;36mModule._call_impl\u001b[0;34m(self, *args, **kwargs)\u001b[0m\n\u001b[1;32m   1559\u001b[0m \u001b[38;5;28;01mif\u001b[39;00m \u001b[38;5;129;01mnot\u001b[39;00m (\u001b[38;5;28mself\u001b[39m\u001b[38;5;241m.\u001b[39m_backward_hooks \u001b[38;5;129;01mor\u001b[39;00m \u001b[38;5;28mself\u001b[39m\u001b[38;5;241m.\u001b[39m_backward_pre_hooks \u001b[38;5;129;01mor\u001b[39;00m \u001b[38;5;28mself\u001b[39m\u001b[38;5;241m.\u001b[39m_forward_hooks \u001b[38;5;129;01mor\u001b[39;00m \u001b[38;5;28mself\u001b[39m\u001b[38;5;241m.\u001b[39m_forward_pre_hooks\n\u001b[1;32m   1560\u001b[0m         \u001b[38;5;129;01mor\u001b[39;00m _global_backward_pre_hooks \u001b[38;5;129;01mor\u001b[39;00m _global_backward_hooks\n\u001b[1;32m   1561\u001b[0m         \u001b[38;5;129;01mor\u001b[39;00m _global_forward_hooks \u001b[38;5;129;01mor\u001b[39;00m _global_forward_pre_hooks):\n\u001b[0;32m-> 1562\u001b[0m     \u001b[38;5;28;01mreturn\u001b[39;00m \u001b[43mforward_call\u001b[49m\u001b[43m(\u001b[49m\u001b[38;5;241;43m*\u001b[39;49m\u001b[43margs\u001b[49m\u001b[43m,\u001b[49m\u001b[43m \u001b[49m\u001b[38;5;241;43m*\u001b[39;49m\u001b[38;5;241;43m*\u001b[39;49m\u001b[43mkwargs\u001b[49m\u001b[43m)\u001b[49m\n\u001b[1;32m   1564\u001b[0m \u001b[38;5;28;01mtry\u001b[39;00m:\n",
      "File \u001b[0;32m~/conda/envs/pyhealth/lib/python3.8/site-packages/torch/nn/modules/conv.py:308\u001b[0m, in \u001b[0;36mConv1d.forward\u001b[0;34m(self, input)\u001b[0m\n\u001b[1;32m    307\u001b[0m \u001b[38;5;28;01mdef\u001b[39;00m \u001b[38;5;21mforward\u001b[39m(\u001b[38;5;28mself\u001b[39m, \u001b[38;5;28minput\u001b[39m: Tensor) \u001b[38;5;241m-\u001b[39m\u001b[38;5;241m>\u001b[39m Tensor:\n\u001b[0;32m--> 308\u001b[0m     \u001b[38;5;28;01mreturn\u001b[39;00m \u001b[38;5;28;43mself\u001b[39;49m\u001b[38;5;241;43m.\u001b[39;49m\u001b[43m_conv_forward\u001b[49m\u001b[43m(\u001b[49m\u001b[38;5;28;43minput\u001b[39;49m\u001b[43m,\u001b[49m\u001b[43m \u001b[49m\u001b[38;5;28;43mself\u001b[39;49m\u001b[38;5;241;43m.\u001b[39;49m\u001b[43mweight\u001b[49m\u001b[43m,\u001b[49m\u001b[43m \u001b[49m\u001b[38;5;28;43mself\u001b[39;49m\u001b[38;5;241;43m.\u001b[39;49m\u001b[43mbias\u001b[49m\u001b[43m)\u001b[49m\n",
      "File \u001b[0;32m~/conda/envs/pyhealth/lib/python3.8/site-packages/torch/nn/modules/conv.py:304\u001b[0m, in \u001b[0;36mConv1d._conv_forward\u001b[0;34m(self, input, weight, bias)\u001b[0m\n\u001b[1;32m    301\u001b[0m     \u001b[38;5;28;01mreturn\u001b[39;00m F\u001b[38;5;241m.\u001b[39mconv1d(F\u001b[38;5;241m.\u001b[39mpad(\u001b[38;5;28minput\u001b[39m, \u001b[38;5;28mself\u001b[39m\u001b[38;5;241m.\u001b[39m_reversed_padding_repeated_twice, mode\u001b[38;5;241m=\u001b[39m\u001b[38;5;28mself\u001b[39m\u001b[38;5;241m.\u001b[39mpadding_mode),\n\u001b[1;32m    302\u001b[0m                     weight, bias, \u001b[38;5;28mself\u001b[39m\u001b[38;5;241m.\u001b[39mstride,\n\u001b[1;32m    303\u001b[0m                     _single(\u001b[38;5;241m0\u001b[39m), \u001b[38;5;28mself\u001b[39m\u001b[38;5;241m.\u001b[39mdilation, \u001b[38;5;28mself\u001b[39m\u001b[38;5;241m.\u001b[39mgroups)\n\u001b[0;32m--> 304\u001b[0m \u001b[38;5;28;01mreturn\u001b[39;00m \u001b[43mF\u001b[49m\u001b[38;5;241;43m.\u001b[39;49m\u001b[43mconv1d\u001b[49m\u001b[43m(\u001b[49m\u001b[38;5;28;43minput\u001b[39;49m\u001b[43m,\u001b[49m\u001b[43m \u001b[49m\u001b[43mweight\u001b[49m\u001b[43m,\u001b[49m\u001b[43m \u001b[49m\u001b[43mbias\u001b[49m\u001b[43m,\u001b[49m\u001b[43m \u001b[49m\u001b[38;5;28;43mself\u001b[39;49m\u001b[38;5;241;43m.\u001b[39;49m\u001b[43mstride\u001b[49m\u001b[43m,\u001b[49m\n\u001b[1;32m    305\u001b[0m \u001b[43m                \u001b[49m\u001b[38;5;28;43mself\u001b[39;49m\u001b[38;5;241;43m.\u001b[39;49m\u001b[43mpadding\u001b[49m\u001b[43m,\u001b[49m\u001b[43m \u001b[49m\u001b[38;5;28;43mself\u001b[39;49m\u001b[38;5;241;43m.\u001b[39;49m\u001b[43mdilation\u001b[49m\u001b[43m,\u001b[49m\u001b[43m \u001b[49m\u001b[38;5;28;43mself\u001b[39;49m\u001b[38;5;241;43m.\u001b[39;49m\u001b[43mgroups\u001b[49m\u001b[43m)\u001b[49m\n",
      "\u001b[0;31mKeyboardInterrupt\u001b[0m: ",
      "\nDuring handling of the above exception, another exception occurred:\n",
      "\u001b[0;31mKeyboardInterrupt\u001b[0m                         Traceback (most recent call last)",
      "File \u001b[0;32m~/conda/envs/pyhealth/lib/python3.8/site-packages/IPython/core/interactiveshell.py:2105\u001b[0m, in \u001b[0;36mInteractiveShell.showtraceback\u001b[0;34m(self, exc_tuple, filename, tb_offset, exception_only, running_compiled_code)\u001b[0m\n\u001b[1;32m   2104\u001b[0m     \u001b[38;5;28;01melse\u001b[39;00m:\n\u001b[0;32m-> 2105\u001b[0m         stb \u001b[38;5;241m=\u001b[39m \u001b[38;5;28;43mself\u001b[39;49m\u001b[38;5;241;43m.\u001b[39;49m\u001b[43mInteractiveTB\u001b[49m\u001b[38;5;241;43m.\u001b[39;49m\u001b[43mstructured_traceback\u001b[49m\u001b[43m(\u001b[49m\n\u001b[1;32m   2106\u001b[0m \u001b[43m            \u001b[49m\u001b[43metype\u001b[49m\u001b[43m,\u001b[49m\u001b[43m \u001b[49m\u001b[43mvalue\u001b[49m\u001b[43m,\u001b[49m\u001b[43m \u001b[49m\u001b[43mtb\u001b[49m\u001b[43m,\u001b[49m\u001b[43m \u001b[49m\u001b[43mtb_offset\u001b[49m\u001b[38;5;241;43m=\u001b[39;49m\u001b[43mtb_offset\u001b[49m\n\u001b[1;32m   2107\u001b[0m \u001b[43m        \u001b[49m\u001b[43m)\u001b[49m\n\u001b[1;32m   2109\u001b[0m \u001b[38;5;28;01mexcept\u001b[39;00m \u001b[38;5;167;01mException\u001b[39;00m:\n",
      "File \u001b[0;32m~/conda/envs/pyhealth/lib/python3.8/site-packages/IPython/core/ultratb.py:1396\u001b[0m, in \u001b[0;36mAutoFormattedTB.structured_traceback\u001b[0;34m(self, etype, evalue, etb, tb_offset, number_of_lines_of_context)\u001b[0m\n\u001b[1;32m   1395\u001b[0m     \u001b[38;5;28mself\u001b[39m\u001b[38;5;241m.\u001b[39mtb \u001b[38;5;241m=\u001b[39m etb\n\u001b[0;32m-> 1396\u001b[0m \u001b[38;5;28;01mreturn\u001b[39;00m \u001b[43mFormattedTB\u001b[49m\u001b[38;5;241;43m.\u001b[39;49m\u001b[43mstructured_traceback\u001b[49m\u001b[43m(\u001b[49m\n\u001b[1;32m   1397\u001b[0m \u001b[43m    \u001b[49m\u001b[38;5;28;43mself\u001b[39;49m\u001b[43m,\u001b[49m\u001b[43m \u001b[49m\u001b[43metype\u001b[49m\u001b[43m,\u001b[49m\u001b[43m \u001b[49m\u001b[43mevalue\u001b[49m\u001b[43m,\u001b[49m\u001b[43m \u001b[49m\u001b[43metb\u001b[49m\u001b[43m,\u001b[49m\u001b[43m \u001b[49m\u001b[43mtb_offset\u001b[49m\u001b[43m,\u001b[49m\u001b[43m \u001b[49m\u001b[43mnumber_of_lines_of_context\u001b[49m\n\u001b[1;32m   1398\u001b[0m \u001b[43m\u001b[49m\u001b[43m)\u001b[49m\n",
      "File \u001b[0;32m~/conda/envs/pyhealth/lib/python3.8/site-packages/IPython/core/ultratb.py:1287\u001b[0m, in \u001b[0;36mFormattedTB.structured_traceback\u001b[0;34m(self, etype, value, tb, tb_offset, number_of_lines_of_context)\u001b[0m\n\u001b[1;32m   1285\u001b[0m \u001b[38;5;28;01mif\u001b[39;00m mode \u001b[38;5;129;01min\u001b[39;00m \u001b[38;5;28mself\u001b[39m\u001b[38;5;241m.\u001b[39mverbose_modes:\n\u001b[1;32m   1286\u001b[0m     \u001b[38;5;66;03m# Verbose modes need a full traceback\u001b[39;00m\n\u001b[0;32m-> 1287\u001b[0m     \u001b[38;5;28;01mreturn\u001b[39;00m \u001b[43mVerboseTB\u001b[49m\u001b[38;5;241;43m.\u001b[39;49m\u001b[43mstructured_traceback\u001b[49m\u001b[43m(\u001b[49m\n\u001b[1;32m   1288\u001b[0m \u001b[43m        \u001b[49m\u001b[38;5;28;43mself\u001b[39;49m\u001b[43m,\u001b[49m\u001b[43m \u001b[49m\u001b[43metype\u001b[49m\u001b[43m,\u001b[49m\u001b[43m \u001b[49m\u001b[43mvalue\u001b[49m\u001b[43m,\u001b[49m\u001b[43m \u001b[49m\u001b[43mtb\u001b[49m\u001b[43m,\u001b[49m\u001b[43m \u001b[49m\u001b[43mtb_offset\u001b[49m\u001b[43m,\u001b[49m\u001b[43m \u001b[49m\u001b[43mnumber_of_lines_of_context\u001b[49m\n\u001b[1;32m   1289\u001b[0m \u001b[43m    \u001b[49m\u001b[43m)\u001b[49m\n\u001b[1;32m   1290\u001b[0m \u001b[38;5;28;01melif\u001b[39;00m mode \u001b[38;5;241m==\u001b[39m \u001b[38;5;124m'\u001b[39m\u001b[38;5;124mMinimal\u001b[39m\u001b[38;5;124m'\u001b[39m:\n",
      "File \u001b[0;32m~/conda/envs/pyhealth/lib/python3.8/site-packages/IPython/core/ultratb.py:1140\u001b[0m, in \u001b[0;36mVerboseTB.structured_traceback\u001b[0;34m(self, etype, evalue, etb, tb_offset, number_of_lines_of_context)\u001b[0m\n\u001b[1;32m   1139\u001b[0m \u001b[38;5;250m\u001b[39m\u001b[38;5;124;03m\"\"\"Return a nice text document describing the traceback.\"\"\"\u001b[39;00m\n\u001b[0;32m-> 1140\u001b[0m formatted_exception \u001b[38;5;241m=\u001b[39m \u001b[38;5;28;43mself\u001b[39;49m\u001b[38;5;241;43m.\u001b[39;49m\u001b[43mformat_exception_as_a_whole\u001b[49m\u001b[43m(\u001b[49m\u001b[43metype\u001b[49m\u001b[43m,\u001b[49m\u001b[43m \u001b[49m\u001b[43mevalue\u001b[49m\u001b[43m,\u001b[49m\u001b[43m \u001b[49m\u001b[43metb\u001b[49m\u001b[43m,\u001b[49m\u001b[43m \u001b[49m\u001b[43mnumber_of_lines_of_context\u001b[49m\u001b[43m,\u001b[49m\n\u001b[1;32m   1141\u001b[0m \u001b[43m                                                       \u001b[49m\u001b[43mtb_offset\u001b[49m\u001b[43m)\u001b[49m\n\u001b[1;32m   1143\u001b[0m colors \u001b[38;5;241m=\u001b[39m \u001b[38;5;28mself\u001b[39m\u001b[38;5;241m.\u001b[39mColors  \u001b[38;5;66;03m# just a shorthand + quicker name lookup\u001b[39;00m\n",
      "File \u001b[0;32m~/conda/envs/pyhealth/lib/python3.8/site-packages/IPython/core/ultratb.py:1030\u001b[0m, in \u001b[0;36mVerboseTB.format_exception_as_a_whole\u001b[0;34m(self, etype, evalue, etb, number_of_lines_of_context, tb_offset)\u001b[0m\n\u001b[1;32m   1028\u001b[0m head \u001b[38;5;241m=\u001b[39m \u001b[38;5;28mself\u001b[39m\u001b[38;5;241m.\u001b[39mprepare_header(\u001b[38;5;28mstr\u001b[39m(etype), \u001b[38;5;28mself\u001b[39m\u001b[38;5;241m.\u001b[39mlong_header)\n\u001b[1;32m   1029\u001b[0m records \u001b[38;5;241m=\u001b[39m (\n\u001b[0;32m-> 1030\u001b[0m     \u001b[38;5;28;43mself\u001b[39;49m\u001b[38;5;241;43m.\u001b[39;49m\u001b[43mget_records\u001b[49m\u001b[43m(\u001b[49m\u001b[43metb\u001b[49m\u001b[43m,\u001b[49m\u001b[43m \u001b[49m\u001b[43mnumber_of_lines_of_context\u001b[49m\u001b[43m,\u001b[49m\u001b[43m \u001b[49m\u001b[43mtb_offset\u001b[49m\u001b[43m)\u001b[49m \u001b[38;5;28;01mif\u001b[39;00m etb \u001b[38;5;28;01melse\u001b[39;00m []\n\u001b[1;32m   1031\u001b[0m )\n\u001b[1;32m   1033\u001b[0m frames \u001b[38;5;241m=\u001b[39m []\n",
      "File \u001b[0;32m~/conda/envs/pyhealth/lib/python3.8/site-packages/IPython/core/ultratb.py:1098\u001b[0m, in \u001b[0;36mVerboseTB.get_records\u001b[0;34m(self, etb, number_of_lines_of_context, tb_offset)\u001b[0m\n\u001b[1;32m   1097\u001b[0m \u001b[38;5;28;01mtry\u001b[39;00m:\n\u001b[0;32m-> 1098\u001b[0m     mod \u001b[38;5;241m=\u001b[39m \u001b[43minspect\u001b[49m\u001b[38;5;241;43m.\u001b[39;49m\u001b[43mgetmodule\u001b[49m\u001b[43m(\u001b[49m\u001b[43mcf\u001b[49m\u001b[38;5;241;43m.\u001b[39;49m\u001b[43mtb_frame\u001b[49m\u001b[43m)\u001b[49m\n\u001b[1;32m   1099\u001b[0m     \u001b[38;5;28;01mif\u001b[39;00m mod \u001b[38;5;129;01mis\u001b[39;00m \u001b[38;5;129;01mnot\u001b[39;00m \u001b[38;5;28;01mNone\u001b[39;00m:\n",
      "File \u001b[0;32m~/conda/envs/pyhealth/lib/python3.8/inspect.py:737\u001b[0m, in \u001b[0;36mgetmodule\u001b[0;34m(object, _filename)\u001b[0m\n\u001b[1;32m    736\u001b[0m \u001b[38;5;28;01mtry\u001b[39;00m:\n\u001b[0;32m--> 737\u001b[0m     file \u001b[38;5;241m=\u001b[39m \u001b[43mgetabsfile\u001b[49m\u001b[43m(\u001b[49m\u001b[38;5;28;43mobject\u001b[39;49m\u001b[43m,\u001b[49m\u001b[43m \u001b[49m\u001b[43m_filename\u001b[49m\u001b[43m)\u001b[49m\n\u001b[1;32m    738\u001b[0m \u001b[38;5;28;01mexcept\u001b[39;00m \u001b[38;5;167;01mTypeError\u001b[39;00m:\n",
      "File \u001b[0;32m~/conda/envs/pyhealth/lib/python3.8/inspect.py:720\u001b[0m, in \u001b[0;36mgetabsfile\u001b[0;34m(object, _filename)\u001b[0m\n\u001b[1;32m    719\u001b[0m \u001b[38;5;28;01mif\u001b[39;00m _filename \u001b[38;5;129;01mis\u001b[39;00m \u001b[38;5;28;01mNone\u001b[39;00m:\n\u001b[0;32m--> 720\u001b[0m     _filename \u001b[38;5;241m=\u001b[39m \u001b[43mgetsourcefile\u001b[49m\u001b[43m(\u001b[49m\u001b[38;5;28;43mobject\u001b[39;49m\u001b[43m)\u001b[49m \u001b[38;5;129;01mor\u001b[39;00m getfile(\u001b[38;5;28mobject\u001b[39m)\n\u001b[1;32m    721\u001b[0m \u001b[38;5;28;01mreturn\u001b[39;00m os\u001b[38;5;241m.\u001b[39mpath\u001b[38;5;241m.\u001b[39mnormcase(os\u001b[38;5;241m.\u001b[39mpath\u001b[38;5;241m.\u001b[39mabspath(_filename))\n",
      "File \u001b[0;32m~/conda/envs/pyhealth/lib/python3.8/inspect.py:708\u001b[0m, in \u001b[0;36mgetsourcefile\u001b[0;34m(object)\u001b[0m\n\u001b[1;32m    707\u001b[0m \u001b[38;5;66;03m# only return a non-existent filename if the module has a PEP 302 loader\u001b[39;00m\n\u001b[0;32m--> 708\u001b[0m \u001b[38;5;28;01mif\u001b[39;00m \u001b[38;5;28mgetattr\u001b[39m(\u001b[43mgetmodule\u001b[49m\u001b[43m(\u001b[49m\u001b[38;5;28;43mobject\u001b[39;49m\u001b[43m,\u001b[49m\u001b[43m \u001b[49m\u001b[43mfilename\u001b[49m\u001b[43m)\u001b[49m, \u001b[38;5;124m'\u001b[39m\u001b[38;5;124m__loader__\u001b[39m\u001b[38;5;124m'\u001b[39m, \u001b[38;5;28;01mNone\u001b[39;00m) \u001b[38;5;129;01mis\u001b[39;00m \u001b[38;5;129;01mnot\u001b[39;00m \u001b[38;5;28;01mNone\u001b[39;00m:\n\u001b[1;32m    709\u001b[0m     \u001b[38;5;28;01mreturn\u001b[39;00m filename\n",
      "File \u001b[0;32m~/conda/envs/pyhealth/lib/python3.8/inspect.py:751\u001b[0m, in \u001b[0;36mgetmodule\u001b[0;34m(object, _filename)\u001b[0m\n\u001b[1;32m    750\u001b[0m _filesbymodname[modname] \u001b[38;5;241m=\u001b[39m f\n\u001b[0;32m--> 751\u001b[0m f \u001b[38;5;241m=\u001b[39m \u001b[43mgetabsfile\u001b[49m\u001b[43m(\u001b[49m\u001b[43mmodule\u001b[49m\u001b[43m)\u001b[49m\n\u001b[1;32m    752\u001b[0m \u001b[38;5;66;03m# Always map to the name the module knows itself by\u001b[39;00m\n",
      "File \u001b[0;32m~/conda/envs/pyhealth/lib/python3.8/inspect.py:720\u001b[0m, in \u001b[0;36mgetabsfile\u001b[0;34m(object, _filename)\u001b[0m\n\u001b[1;32m    719\u001b[0m \u001b[38;5;28;01mif\u001b[39;00m _filename \u001b[38;5;129;01mis\u001b[39;00m \u001b[38;5;28;01mNone\u001b[39;00m:\n\u001b[0;32m--> 720\u001b[0m     _filename \u001b[38;5;241m=\u001b[39m \u001b[43mgetsourcefile\u001b[49m\u001b[43m(\u001b[49m\u001b[38;5;28;43mobject\u001b[39;49m\u001b[43m)\u001b[49m \u001b[38;5;129;01mor\u001b[39;00m getfile(\u001b[38;5;28mobject\u001b[39m)\n\u001b[1;32m    721\u001b[0m \u001b[38;5;28;01mreturn\u001b[39;00m os\u001b[38;5;241m.\u001b[39mpath\u001b[38;5;241m.\u001b[39mnormcase(os\u001b[38;5;241m.\u001b[39mpath\u001b[38;5;241m.\u001b[39mabspath(_filename))\n",
      "File \u001b[0;32m~/conda/envs/pyhealth/lib/python3.8/inspect.py:705\u001b[0m, in \u001b[0;36mgetsourcefile\u001b[0;34m(object)\u001b[0m\n\u001b[1;32m    704\u001b[0m     \u001b[38;5;28;01mreturn\u001b[39;00m \u001b[38;5;28;01mNone\u001b[39;00m\n\u001b[0;32m--> 705\u001b[0m \u001b[38;5;28;01mif\u001b[39;00m \u001b[43mos\u001b[49m\u001b[38;5;241;43m.\u001b[39;49m\u001b[43mpath\u001b[49m\u001b[38;5;241;43m.\u001b[39;49m\u001b[43mexists\u001b[49m\u001b[43m(\u001b[49m\u001b[43mfilename\u001b[49m\u001b[43m)\u001b[49m:\n\u001b[1;32m    706\u001b[0m     \u001b[38;5;28;01mreturn\u001b[39;00m filename\n",
      "File \u001b[0;32m~/conda/envs/pyhealth/lib/python3.8/genericpath.py:19\u001b[0m, in \u001b[0;36mexists\u001b[0;34m(path)\u001b[0m\n\u001b[1;32m     18\u001b[0m \u001b[38;5;28;01mtry\u001b[39;00m:\n\u001b[0;32m---> 19\u001b[0m     \u001b[43mos\u001b[49m\u001b[38;5;241;43m.\u001b[39;49m\u001b[43mstat\u001b[49m\u001b[43m(\u001b[49m\u001b[43mpath\u001b[49m\u001b[43m)\u001b[49m\n\u001b[1;32m     20\u001b[0m \u001b[38;5;28;01mexcept\u001b[39;00m (\u001b[38;5;167;01mOSError\u001b[39;00m, \u001b[38;5;167;01mValueError\u001b[39;00m):\n",
      "\u001b[0;31mKeyboardInterrupt\u001b[0m: ",
      "\nDuring handling of the above exception, another exception occurred:\n",
      "\u001b[0;31mKeyboardInterrupt\u001b[0m                         Traceback (most recent call last)",
      "    \u001b[0;31m[... skipping hidden 1 frame]\u001b[0m\n",
      "File \u001b[0;32m~/conda/envs/pyhealth/lib/python3.8/site-packages/IPython/core/interactiveshell.py:2126\u001b[0m, in \u001b[0;36mInteractiveShell.showtraceback\u001b[0;34m(self, exc_tuple, filename, tb_offset, exception_only, running_compiled_code)\u001b[0m\n\u001b[1;32m   2123\u001b[0m         \u001b[38;5;28mself\u001b[39m\u001b[38;5;241m.\u001b[39m_showtraceback(etype, value, stb)\n\u001b[1;32m   2125\u001b[0m \u001b[38;5;28;01mexcept\u001b[39;00m \u001b[38;5;167;01mKeyboardInterrupt\u001b[39;00m:\n\u001b[0;32m-> 2126\u001b[0m     \u001b[38;5;28mprint\u001b[39m(\u001b[38;5;124m'\u001b[39m\u001b[38;5;130;01m\\n\u001b[39;00m\u001b[38;5;124m'\u001b[39m \u001b[38;5;241m+\u001b[39m \u001b[38;5;28;43mself\u001b[39;49m\u001b[38;5;241;43m.\u001b[39;49m\u001b[43mget_exception_only\u001b[49m\u001b[43m(\u001b[49m\u001b[43m)\u001b[49m, file\u001b[38;5;241m=\u001b[39msys\u001b[38;5;241m.\u001b[39mstderr)\n",
      "File \u001b[0;32m~/conda/envs/pyhealth/lib/python3.8/site-packages/IPython/core/interactiveshell.py:2062\u001b[0m, in \u001b[0;36mInteractiveShell.get_exception_only\u001b[0;34m(self, exc_tuple)\u001b[0m\n\u001b[1;32m   2057\u001b[0m \u001b[38;5;250m\u001b[39m\u001b[38;5;124;03m\"\"\"\u001b[39;00m\n\u001b[1;32m   2058\u001b[0m \u001b[38;5;124;03mReturn as a string (ending with a newline) the exception that\u001b[39;00m\n\u001b[1;32m   2059\u001b[0m \u001b[38;5;124;03mjust occurred, without any traceback.\u001b[39;00m\n\u001b[1;32m   2060\u001b[0m \u001b[38;5;124;03m\"\"\"\u001b[39;00m\n\u001b[1;32m   2061\u001b[0m etype, value, tb \u001b[38;5;241m=\u001b[39m \u001b[38;5;28mself\u001b[39m\u001b[38;5;241m.\u001b[39m_get_exc_info(exc_tuple)\n\u001b[0;32m-> 2062\u001b[0m msg \u001b[38;5;241m=\u001b[39m \u001b[43mtraceback\u001b[49m\u001b[38;5;241;43m.\u001b[39;49m\u001b[43mformat_exception_only\u001b[49m\u001b[43m(\u001b[49m\u001b[43metype\u001b[49m\u001b[43m,\u001b[49m\u001b[43m \u001b[49m\u001b[43mvalue\u001b[49m\u001b[43m)\u001b[49m\n\u001b[1;32m   2063\u001b[0m \u001b[38;5;28;01mreturn\u001b[39;00m \u001b[38;5;124m'\u001b[39m\u001b[38;5;124m'\u001b[39m\u001b[38;5;241m.\u001b[39mjoin(msg)\n",
      "File \u001b[0;32m~/conda/envs/pyhealth/lib/python3.8/traceback.py:140\u001b[0m, in \u001b[0;36mformat_exception_only\u001b[0;34m(etype, value)\u001b[0m\n\u001b[1;32m    124\u001b[0m \u001b[38;5;28;01mdef\u001b[39;00m \u001b[38;5;21mformat_exception_only\u001b[39m(etype, value):\n\u001b[1;32m    125\u001b[0m \u001b[38;5;250m    \u001b[39m\u001b[38;5;124;03m\"\"\"Format the exception part of a traceback.\u001b[39;00m\n\u001b[1;32m    126\u001b[0m \n\u001b[1;32m    127\u001b[0m \u001b[38;5;124;03m    The arguments are the exception type and value such as given by\u001b[39;00m\n\u001b[0;32m   (...)\u001b[0m\n\u001b[1;32m    138\u001b[0m \n\u001b[1;32m    139\u001b[0m \u001b[38;5;124;03m    \"\"\"\u001b[39;00m\n\u001b[0;32m--> 140\u001b[0m     \u001b[38;5;28;01mreturn\u001b[39;00m \u001b[38;5;28mlist\u001b[39m(\u001b[43mTracebackException\u001b[49m\u001b[43m(\u001b[49m\u001b[43metype\u001b[49m\u001b[43m,\u001b[49m\u001b[43m \u001b[49m\u001b[43mvalue\u001b[49m\u001b[43m,\u001b[49m\u001b[43m \u001b[49m\u001b[38;5;28;43;01mNone\u001b[39;49;00m\u001b[43m)\u001b[49m\u001b[38;5;241m.\u001b[39mformat_exception_only())\n",
      "File \u001b[0;32m~/conda/envs/pyhealth/lib/python3.8/traceback.py:524\u001b[0m, in \u001b[0;36mTracebackException.__init__\u001b[0;34m(self, exc_type, exc_value, exc_traceback, limit, lookup_lines, capture_locals, _seen)\u001b[0m\n\u001b[1;32m    522\u001b[0m     \u001b[38;5;28mself\u001b[39m\u001b[38;5;241m.\u001b[39mmsg \u001b[38;5;241m=\u001b[39m exc_value\u001b[38;5;241m.\u001b[39mmsg\n\u001b[1;32m    523\u001b[0m \u001b[38;5;28;01mif\u001b[39;00m lookup_lines:\n\u001b[0;32m--> 524\u001b[0m     \u001b[38;5;28;43mself\u001b[39;49m\u001b[38;5;241;43m.\u001b[39;49m\u001b[43m_load_lines\u001b[49m\u001b[43m(\u001b[49m\u001b[43m)\u001b[49m\n",
      "File \u001b[0;32m~/conda/envs/pyhealth/lib/python3.8/traceback.py:536\u001b[0m, in \u001b[0;36mTracebackException._load_lines\u001b[0;34m(self)\u001b[0m\n\u001b[1;32m    534\u001b[0m     frame\u001b[38;5;241m.\u001b[39mline\n\u001b[1;32m    535\u001b[0m \u001b[38;5;28;01mif\u001b[39;00m \u001b[38;5;28mself\u001b[39m\u001b[38;5;241m.\u001b[39m__context__:\n\u001b[0;32m--> 536\u001b[0m     \u001b[38;5;28;43mself\u001b[39;49m\u001b[38;5;241;43m.\u001b[39;49m\u001b[43m__context__\u001b[49m\u001b[38;5;241;43m.\u001b[39;49m\u001b[43m_load_lines\u001b[49m\u001b[43m(\u001b[49m\u001b[43m)\u001b[49m\n\u001b[1;32m    537\u001b[0m \u001b[38;5;28;01mif\u001b[39;00m \u001b[38;5;28mself\u001b[39m\u001b[38;5;241m.\u001b[39m__cause__:\n\u001b[1;32m    538\u001b[0m     \u001b[38;5;28mself\u001b[39m\u001b[38;5;241m.\u001b[39m__cause__\u001b[38;5;241m.\u001b[39m_load_lines()\n",
      "File \u001b[0;32m~/conda/envs/pyhealth/lib/python3.8/traceback.py:534\u001b[0m, in \u001b[0;36mTracebackException._load_lines\u001b[0;34m(self)\u001b[0m\n\u001b[1;32m    532\u001b[0m \u001b[38;5;250m\u001b[39m\u001b[38;5;124;03m\"\"\"Private API. force all lines in the stack to be loaded.\"\"\"\u001b[39;00m\n\u001b[1;32m    533\u001b[0m \u001b[38;5;28;01mfor\u001b[39;00m frame \u001b[38;5;129;01min\u001b[39;00m \u001b[38;5;28mself\u001b[39m\u001b[38;5;241m.\u001b[39mstack:\n\u001b[0;32m--> 534\u001b[0m     \u001b[43mframe\u001b[49m\u001b[38;5;241;43m.\u001b[39;49m\u001b[43mline\u001b[49m\n\u001b[1;32m    535\u001b[0m \u001b[38;5;28;01mif\u001b[39;00m \u001b[38;5;28mself\u001b[39m\u001b[38;5;241m.\u001b[39m__context__:\n\u001b[1;32m    536\u001b[0m     \u001b[38;5;28mself\u001b[39m\u001b[38;5;241m.\u001b[39m__context__\u001b[38;5;241m.\u001b[39m_load_lines()\n",
      "File \u001b[0;32m~/conda/envs/pyhealth/lib/python3.8/traceback.py:288\u001b[0m, in \u001b[0;36mFrameSummary.line\u001b[0;34m(self)\u001b[0m\n\u001b[1;32m    285\u001b[0m \u001b[38;5;129m@property\u001b[39m\n\u001b[1;32m    286\u001b[0m \u001b[38;5;28;01mdef\u001b[39;00m \u001b[38;5;21mline\u001b[39m(\u001b[38;5;28mself\u001b[39m):\n\u001b[1;32m    287\u001b[0m     \u001b[38;5;28;01mif\u001b[39;00m \u001b[38;5;28mself\u001b[39m\u001b[38;5;241m.\u001b[39m_line \u001b[38;5;129;01mis\u001b[39;00m \u001b[38;5;28;01mNone\u001b[39;00m:\n\u001b[0;32m--> 288\u001b[0m         \u001b[38;5;28mself\u001b[39m\u001b[38;5;241m.\u001b[39m_line \u001b[38;5;241m=\u001b[39m \u001b[43mlinecache\u001b[49m\u001b[38;5;241;43m.\u001b[39;49m\u001b[43mgetline\u001b[49m\u001b[43m(\u001b[49m\u001b[38;5;28;43mself\u001b[39;49m\u001b[38;5;241;43m.\u001b[39;49m\u001b[43mfilename\u001b[49m\u001b[43m,\u001b[49m\u001b[43m \u001b[49m\u001b[38;5;28;43mself\u001b[39;49m\u001b[38;5;241;43m.\u001b[39;49m\u001b[43mlineno\u001b[49m\u001b[43m)\u001b[49m\u001b[38;5;241m.\u001b[39mstrip()\n\u001b[1;32m    289\u001b[0m     \u001b[38;5;28;01mreturn\u001b[39;00m \u001b[38;5;28mself\u001b[39m\u001b[38;5;241m.\u001b[39m_line\n",
      "File \u001b[0;32m~/conda/envs/pyhealth/lib/python3.8/linecache.py:16\u001b[0m, in \u001b[0;36mgetline\u001b[0;34m(filename, lineno, module_globals)\u001b[0m\n\u001b[1;32m     15\u001b[0m \u001b[38;5;28;01mdef\u001b[39;00m \u001b[38;5;21mgetline\u001b[39m(filename, lineno, module_globals\u001b[38;5;241m=\u001b[39m\u001b[38;5;28;01mNone\u001b[39;00m):\n\u001b[0;32m---> 16\u001b[0m     lines \u001b[38;5;241m=\u001b[39m \u001b[43mgetlines\u001b[49m\u001b[43m(\u001b[49m\u001b[43mfilename\u001b[49m\u001b[43m,\u001b[49m\u001b[43m \u001b[49m\u001b[43mmodule_globals\u001b[49m\u001b[43m)\u001b[49m\n\u001b[1;32m     17\u001b[0m     \u001b[38;5;28;01mif\u001b[39;00m \u001b[38;5;241m1\u001b[39m \u001b[38;5;241m<\u001b[39m\u001b[38;5;241m=\u001b[39m lineno \u001b[38;5;241m<\u001b[39m\u001b[38;5;241m=\u001b[39m \u001b[38;5;28mlen\u001b[39m(lines):\n\u001b[1;32m     18\u001b[0m         \u001b[38;5;28;01mreturn\u001b[39;00m lines[lineno\u001b[38;5;241m-\u001b[39m\u001b[38;5;241m1\u001b[39m]\n",
      "File \u001b[0;32m~/conda/envs/pyhealth/lib/python3.8/linecache.py:47\u001b[0m, in \u001b[0;36mgetlines\u001b[0;34m(filename, module_globals)\u001b[0m\n\u001b[1;32m     44\u001b[0m         \u001b[38;5;28;01mreturn\u001b[39;00m cache[filename][\u001b[38;5;241m2\u001b[39m]\n\u001b[1;32m     46\u001b[0m \u001b[38;5;28;01mtry\u001b[39;00m:\n\u001b[0;32m---> 47\u001b[0m     \u001b[38;5;28;01mreturn\u001b[39;00m \u001b[43mupdatecache\u001b[49m\u001b[43m(\u001b[49m\u001b[43mfilename\u001b[49m\u001b[43m,\u001b[49m\u001b[43m \u001b[49m\u001b[43mmodule_globals\u001b[49m\u001b[43m)\u001b[49m\n\u001b[1;32m     48\u001b[0m \u001b[38;5;28;01mexcept\u001b[39;00m \u001b[38;5;167;01mMemoryError\u001b[39;00m:\n\u001b[1;32m     49\u001b[0m     clearcache()\n",
      "File \u001b[0;32m~/conda/envs/pyhealth/lib/python3.8/linecache.py:136\u001b[0m, in \u001b[0;36mupdatecache\u001b[0;34m(filename, module_globals)\u001b[0m\n\u001b[1;32m    134\u001b[0m         \u001b[38;5;28;01mreturn\u001b[39;00m []\n\u001b[1;32m    135\u001b[0m \u001b[38;5;28;01mtry\u001b[39;00m:\n\u001b[0;32m--> 136\u001b[0m     \u001b[38;5;28;01mwith\u001b[39;00m \u001b[43mtokenize\u001b[49m\u001b[38;5;241;43m.\u001b[39;49m\u001b[43mopen\u001b[49m\u001b[43m(\u001b[49m\u001b[43mfullname\u001b[49m\u001b[43m)\u001b[49m \u001b[38;5;28;01mas\u001b[39;00m fp:\n\u001b[1;32m    137\u001b[0m         lines \u001b[38;5;241m=\u001b[39m fp\u001b[38;5;241m.\u001b[39mreadlines()\n\u001b[1;32m    138\u001b[0m \u001b[38;5;28;01mexcept\u001b[39;00m \u001b[38;5;167;01mOSError\u001b[39;00m:\n",
      "File \u001b[0;32m~/conda/envs/pyhealth/lib/python3.8/tokenize.py:394\u001b[0m, in \u001b[0;36mopen\u001b[0;34m(filename)\u001b[0m\n\u001b[1;32m    392\u001b[0m buffer \u001b[38;5;241m=\u001b[39m _builtin_open(filename, \u001b[38;5;124m'\u001b[39m\u001b[38;5;124mrb\u001b[39m\u001b[38;5;124m'\u001b[39m)\n\u001b[1;32m    393\u001b[0m \u001b[38;5;28;01mtry\u001b[39;00m:\n\u001b[0;32m--> 394\u001b[0m     encoding, lines \u001b[38;5;241m=\u001b[39m \u001b[43mdetect_encoding\u001b[49m\u001b[43m(\u001b[49m\u001b[43mbuffer\u001b[49m\u001b[38;5;241;43m.\u001b[39;49m\u001b[43mreadline\u001b[49m\u001b[43m)\u001b[49m\n\u001b[1;32m    395\u001b[0m     buffer\u001b[38;5;241m.\u001b[39mseek(\u001b[38;5;241m0\u001b[39m)\n\u001b[1;32m    396\u001b[0m     text \u001b[38;5;241m=\u001b[39m TextIOWrapper(buffer, encoding, line_buffering\u001b[38;5;241m=\u001b[39m\u001b[38;5;28;01mTrue\u001b[39;00m)\n",
      "File \u001b[0;32m~/conda/envs/pyhealth/lib/python3.8/tokenize.py:363\u001b[0m, in \u001b[0;36mdetect_encoding\u001b[0;34m(readline)\u001b[0m\n\u001b[1;32m    360\u001b[0m         encoding \u001b[38;5;241m+\u001b[39m\u001b[38;5;241m=\u001b[39m \u001b[38;5;124m'\u001b[39m\u001b[38;5;124m-sig\u001b[39m\u001b[38;5;124m'\u001b[39m\n\u001b[1;32m    361\u001b[0m     \u001b[38;5;28;01mreturn\u001b[39;00m encoding\n\u001b[0;32m--> 363\u001b[0m first \u001b[38;5;241m=\u001b[39m \u001b[43mread_or_stop\u001b[49m\u001b[43m(\u001b[49m\u001b[43m)\u001b[49m\n\u001b[1;32m    364\u001b[0m \u001b[38;5;28;01mif\u001b[39;00m first\u001b[38;5;241m.\u001b[39mstartswith(BOM_UTF8):\n\u001b[1;32m    365\u001b[0m     bom_found \u001b[38;5;241m=\u001b[39m \u001b[38;5;28;01mTrue\u001b[39;00m\n",
      "File \u001b[0;32m~/conda/envs/pyhealth/lib/python3.8/tokenize.py:321\u001b[0m, in \u001b[0;36mdetect_encoding.<locals>.read_or_stop\u001b[0;34m()\u001b[0m\n\u001b[1;32m    319\u001b[0m \u001b[38;5;28;01mdef\u001b[39;00m \u001b[38;5;21mread_or_stop\u001b[39m():\n\u001b[1;32m    320\u001b[0m     \u001b[38;5;28;01mtry\u001b[39;00m:\n\u001b[0;32m--> 321\u001b[0m         \u001b[38;5;28;01mreturn\u001b[39;00m \u001b[43mreadline\u001b[49m\u001b[43m(\u001b[49m\u001b[43m)\u001b[49m\n\u001b[1;32m    322\u001b[0m     \u001b[38;5;28;01mexcept\u001b[39;00m \u001b[38;5;167;01mStopIteration\u001b[39;00m:\n\u001b[1;32m    323\u001b[0m         \u001b[38;5;28;01mreturn\u001b[39;00m \u001b[38;5;124mb\u001b[39m\u001b[38;5;124m'\u001b[39m\u001b[38;5;124m'\u001b[39m\n",
      "\u001b[0;31mKeyboardInterrupt\u001b[0m: "
     ]
    }
   ],
   "source": [
    "final_metrics, final_long_seq_metrics = [], []\n",
    "\n",
    "for seed in seeds:\n",
    "    args[\"seed\"] = seed\n",
    "    set_random_seed(args[\"seed\"])\n",
    "    print(f\"Training with seed: {args['seed']}\")\n",
    "    \n",
    "    # Initialize model, optimizer, and loss function\n",
    "    model = PyHealthModel(args)\n",
    "    model = model.to(device)\n",
    "    optimizer = torch.optim.AdamW(model.parameters(), lr=args[\"lr\"])\n",
    "    \n",
    "    best_test_metric, best_test_long_seq_metric = train_with_early_stopping(\n",
    "        model, \n",
    "        train_dataloader, \n",
    "        val_dataloader, \n",
    "        test_dataloader,\n",
    "        optimizer, \n",
    "        loss_fn, \n",
    "        device, \n",
    "        args,\n",
    "        val_long_seq_idx,\n",
    "        test_long_seq_idx,\n",
    "        task_type=task_type)\n",
    "    \n",
    "    final_metrics.append(best_test_metric)\n",
    "    final_long_seq_metrics.append(best_test_long_seq_metric)"
   ]
  },
  {
   "cell_type": "code",
   "execution_count": null,
   "id": "c83685ca",
   "metadata": {},
   "outputs": [],
   "source": [
    "def topk_avg_performance_formatted(performances, long_seq_performances, k=5):\n",
    "    metrics = [\"f1\", \"auc\", \"prauc\"]\n",
    "    scores = {m: np.array([p[m] for p in performances]) for m in metrics}\n",
    "\n",
    "    # 计算排名（值越大排名越靠前）\n",
    "    ranks = {m: (-scores[m]).argsort().argsort() + 1 for m in metrics}\n",
    "    avg_ranks = np.mean(np.stack([ranks[m] for m in metrics], axis=1), axis=1)\n",
    "\n",
    "    # 选 top-k\n",
    "    topk_idx = np.argsort(avg_ranks)[:k]\n",
    "    final_avg = {m: np.mean([performances[i][m] for i in topk_idx]) for m in performances[0].keys()}\n",
    "    final_std = {m: np.std([performances[i][m] for i in topk_idx], ddof=0) for m in performances[0].keys()}\n",
    "    final_long_seq_avg = {m: np.mean([long_seq_performances[i][m] for i in topk_idx]) for m in long_seq_performances[0].keys()}\n",
    "    final_long_seq_std = {m: np.std([long_seq_performances[i][m] for i in topk_idx], ddof=0) for m in long_seq_performances[0].keys()}\n",
    "\n",
    "    # 打印结果（转百分比，均保留两位小数）\n",
    "    print(\"Final Metrics:\")\n",
    "    for m in performances[0].keys():\n",
    "        mean_val = final_avg[m] * 100\n",
    "        std_val = final_std[m] * 100\n",
    "        print(f\"{m}: {mean_val:.2f} ± {std_val:.2f}\")\n",
    "    print(\"\\nFinal Long Sequence Metrics:\")\n",
    "    for m in long_seq_performances[0].keys():\n",
    "        mean_val = final_long_seq_avg[m] * 100\n",
    "        std_val = final_long_seq_std[m] * 100\n",
    "        print(f\"{m}: {mean_val:.2f} ± {std_val:.2f}\")"
   ]
  },
  {
   "cell_type": "code",
   "execution_count": null,
   "id": "11017800",
   "metadata": {},
   "outputs": [],
   "source": [
    "def print_per_class_performance(dfs, col_name=\"prauc\"):\n",
    "    \"\"\"\n",
    "    输入一个 DataFrame 列表，对每个疾病在所有表格的指定列计算 mean ± std 并打印。\n",
    "\n",
    "    参数:\n",
    "        dfs (list[pd.DataFrame]): 多个表格组成的列表\n",
    "        col_name (str): 要计算的指标列名 (默认: \"prauc\")\n",
    "    \"\"\"\n",
    "    # 拼接所有表格\n",
    "    all_values = pd.concat(dfs, axis=0)\n",
    "\n",
    "    # 按疾病分组，计算 mean 和 std\n",
    "    grouped = all_values.groupby(all_values.index)[col_name].agg([\"mean\", \"std\"])\n",
    "\n",
    "    # 打印\n",
    "    for disease, row in grouped.iterrows():\n",
    "        mean_val = row[\"mean\"] * 100\n",
    "        std_val = row[\"std\"] * 100\n",
    "        print(f\"{disease}: {mean_val:.2f} ± {std_val:.2f}\")"
   ]
  },
  {
   "cell_type": "code",
   "execution_count": null,
   "id": "141f2782",
   "metadata": {},
   "outputs": [],
   "source": [
    "if task_type == \"binary\":\n",
    "    topk_avg_performance_formatted(final_metrics, final_long_seq_metrics)\n",
    "else:\n",
    "    final_metrics_global = [metrics[\"global\"] for metrics in final_metrics]\n",
    "    final_metrics_per_class = [metrics[\"per_class\"] for metrics in final_metrics]\n",
    "    final_long_seq_metrics_global = [metrics[\"global\"] for metrics in final_long_seq_metrics]\n",
    "    final_long_seq_metrics_per_class = [metrics[\"per_class\"] for metrics in final_long_seq_metrics]\n",
    "    topk_avg_performance_formatted(final_metrics_global, final_long_seq_metrics_global)\n",
    "    print(\"\\nPer-class performance, all patients:\")\n",
    "    print_per_class_performance(final_metrics_per_class, col_name=\"prauc\")\n",
    "    print(\"\\nPer-class performance, long seq:\")\n",
    "    print_per_class_performance(final_long_seq_metrics_per_class, col_name=\"prauc\")"
   ]
  }
 ],
 "metadata": {
  "kernelspec": {
   "display_name": "pyhealth",
   "language": "python",
   "name": "pyhealth"
  },
  "language_info": {
   "codemirror_mode": {
    "name": "ipython",
    "version": 3
   },
   "file_extension": ".py",
   "mimetype": "text/x-python",
   "name": "python",
   "nbconvert_exporter": "python",
   "pygments_lexer": "ipython3",
   "version": "3.8.20"
  }
 },
 "nbformat": 4,
 "nbformat_minor": 5
}
